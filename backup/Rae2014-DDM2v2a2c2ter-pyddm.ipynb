{
 "cells": [
  {
   "cell_type": "code",
   "execution_count": 1,
   "id": "2cda49de",
   "metadata": {},
   "outputs": [],
   "source": [
    "%run SAT_help_functions.ipynb"
   ]
  },
  {
   "cell_type": "code",
   "execution_count": null,
   "id": "bc081cf9",
   "metadata": {},
   "outputs": [],
   "source": []
  },
  {
   "cell_type": "markdown",
   "id": "4bd26666",
   "metadata": {},
   "source": [
    "## OUM"
   ]
  },
  {
   "cell_type": "code",
   "execution_count": null,
   "id": "9ef6c434",
   "metadata": {},
   "outputs": [],
   "source": []
  },
  {
   "cell_type": "code",
   "execution_count": 2,
   "id": "e776257c",
   "metadata": {},
   "outputs": [],
   "source": [
    "data_dir = \"/Users/wangjiashun/Desktop/Reserach on SAT/datasets/Evans2021/Rae2014/dataBySubject/sub\"\n",
    "sample_size = 34\n",
    "SAT_conds = [\"Speed\", \"Accuracy\"]"
   ]
  },
  {
   "cell_type": "code",
   "execution_count": 3,
   "id": "f434220f",
   "metadata": {},
   "outputs": [],
   "source": [
    "\n",
    "class DriftConstantSpeedAcc(Drift):\n",
    "    name = \"DriftConstantSpeedAcc\"\n",
    "    required_parameters = [\"Vspeed\",\"Vacc\"]\n",
    "    required_conditions = ['Cond']\n",
    "        \n",
    "    def get_drift(self, conditions, **kwargs):\n",
    "        if conditions['Cond'] == 'Speed':\n",
    "            return self.Vspeed\n",
    "        elif conditions['Cond'] == 'Accuracy':\n",
    "            return self.Vacc\n",
    "        else: \n",
    "            print(\"Non-implemented SAT conditions\")\n",
    "            \n",
    "class BoundCollapsingLinearSAT(BoundCollapsingLinear):\n",
    "    name = \"BoundSpeedAcc\"\n",
    "    required_parameters = [\"BSpeed\", \"BAcc\", \"cSpeed\", 'cAcc']\n",
    "    required_conditions = ['Cond']\n",
    "        \n",
    "    def get_bound(self, t, conditions, **kwargs):\n",
    "        if conditions['Cond'] == 'Speed':\n",
    "            return max(self.BSpeed - self.cSpeed*t, 0.)\n",
    "        elif conditions['Cond'] == 'Accuracy':\n",
    "            return max(self.BAcc - self.cAcc*t, 0.)\n",
    "        else: \n",
    "            print(\"Non-implemented SAT conditions\")\n",
    "\n",
    "\n",
    "class NondecisionSpeedAcc(OverlayNonDecision):\n",
    "    name = \"NondecisionSpeedAcc\"\n",
    "    required_parameters = [\"tSpeed\", 'tAcc']\n",
    "    required_conditions = ['Cond']\n",
    "        \n",
    "    def get_nondecision_time(self, conditions, **kwargs):\n",
    "        if conditions['Cond'] == 'Speed':\n",
    "            return self.tSpeed \n",
    "        elif conditions['Cond'] == 'Accuracy':\n",
    "            return self.tAcc\n",
    "        else: \n",
    "            print(\"Non-implemented SAT conditions\")"
   ]
  },
  {
   "cell_type": "code",
   "execution_count": null,
   "id": "bbb278a6",
   "metadata": {},
   "outputs": [],
   "source": []
  },
  {
   "cell_type": "code",
   "execution_count": 4,
   "id": "fdb13001",
   "metadata": {
    "scrolled": true
   },
   "outputs": [
    {
     "name": "stderr",
     "output_type": "stream",
     "text": [
      "Warning: This function (from_pandas_dataframe()) is deprecated and will be removed in a future version of PyDDM.  Please use the choice_column_name argument instead.\n"
     ]
    },
    {
     "name": "stdout",
     "output_type": "stream",
     "text": [
      "0\n"
     ]
    },
    {
     "name": "stderr",
     "output_type": "stream",
     "text": [
      "Info: Params [1.42791978 1.81382354 0.64549676 0.86185097 0.36512369 0.53659085\n",
      " 0.2318395  0.26040356] gave -862.7005567128106\n",
      "Warning: This function (from_pandas_dataframe()) is deprecated and will be removed in a future version of PyDDM.  Please use the choice_column_name argument instead.\n"
     ]
    },
    {
     "name": "stdout",
     "output_type": "stream",
     "text": [
      "   Drift Rate Speed  Drift Rate Accuracy  Boundary Separation Speed  \\\n",
      "0           1.42792             1.813824                   0.645497   \n",
      "\n",
      "   Boundary Separation Accuracy  Collapse Speed  Collapse Accuracy  \\\n",
      "0                      0.861851        0.365124           0.536591   \n",
      "\n",
      "   Non-decision Time Speed  Non-decision Time Accuracy         BIC  \n",
      "0                  0.23184                    0.260404 -862.700557  \n",
      "1\n"
     ]
    },
    {
     "name": "stderr",
     "output_type": "stream",
     "text": [
      "Info: Params [1.03555202 1.95424168 0.56510731 0.60589996 0.46736828 0.5126682\n",
      " 0.23220278 0.30311313] gave -1836.550349740287\n",
      "Warning: This function (from_pandas_dataframe()) is deprecated and will be removed in a future version of PyDDM.  Please use the choice_column_name argument instead.\n"
     ]
    },
    {
     "name": "stdout",
     "output_type": "stream",
     "text": [
      "   Drift Rate Speed  Drift Rate Accuracy  Boundary Separation Speed  \\\n",
      "0          1.035552             1.954242                   0.565107   \n",
      "\n",
      "   Boundary Separation Accuracy  Collapse Speed  Collapse Accuracy  \\\n",
      "0                        0.6059        0.467368           0.512668   \n",
      "\n",
      "   Non-decision Time Speed  Non-decision Time Accuracy         BIC  \n",
      "0                 0.232203                    0.303113 -1836.55035  \n",
      "2\n"
     ]
    },
    {
     "name": "stderr",
     "output_type": "stream",
     "text": [
      "Info: Params [0.32920976 0.4615627  0.50663272 0.60845769 0.14841834 0.26479702\n",
      " 0.17202503 0.17333605] gave 132.39694021696914\n",
      "Warning: This function (from_pandas_dataframe()) is deprecated and will be removed in a future version of PyDDM.  Please use the choice_column_name argument instead.\n"
     ]
    },
    {
     "name": "stdout",
     "output_type": "stream",
     "text": [
      "   Drift Rate Speed  Drift Rate Accuracy  Boundary Separation Speed  \\\n",
      "0           0.32921             0.461563                   0.506633   \n",
      "\n",
      "   Boundary Separation Accuracy  Collapse Speed  Collapse Accuracy  \\\n",
      "0                      0.608458        0.148418           0.264797   \n",
      "\n",
      "   Non-decision Time Speed  Non-decision Time Accuracy        BIC  \n",
      "0                 0.172025                    0.173336  132.39694  \n",
      "3\n"
     ]
    },
    {
     "name": "stderr",
     "output_type": "stream",
     "text": [
      "Info: Params [2.30568891 2.52014138 0.55127579 0.52178493 0.86476893 0.40507206\n",
      " 0.28313015 0.30701579] gave -3757.3974882266825\n",
      "Warning: This function (from_pandas_dataframe()) is deprecated and will be removed in a future version of PyDDM.  Please use the choice_column_name argument instead.\n"
     ]
    },
    {
     "name": "stdout",
     "output_type": "stream",
     "text": [
      "   Drift Rate Speed  Drift Rate Accuracy  Boundary Separation Speed  \\\n",
      "0          2.305689             2.520141                   0.551276   \n",
      "\n",
      "   Boundary Separation Accuracy  Collapse Speed  Collapse Accuracy  \\\n",
      "0                      0.521785        0.864769           0.405072   \n",
      "\n",
      "   Non-decision Time Speed  Non-decision Time Accuracy          BIC  \n",
      "0                  0.28313                    0.307016 -3757.397488  \n",
      "4\n"
     ]
    },
    {
     "name": "stderr",
     "output_type": "stream",
     "text": [
      "Info: Params [0.3991691  0.6755041  0.53203116 0.70732017 0.42305149 0.74405207\n",
      " 0.17275397 0.17534202] gave -175.6028734741779\n",
      "Warning: This function (from_pandas_dataframe()) is deprecated and will be removed in a future version of PyDDM.  Please use the choice_column_name argument instead.\n"
     ]
    },
    {
     "name": "stdout",
     "output_type": "stream",
     "text": [
      "   Drift Rate Speed  Drift Rate Accuracy  Boundary Separation Speed  \\\n",
      "0          0.399169             0.675504                   0.532031   \n",
      "\n",
      "   Boundary Separation Accuracy  Collapse Speed  Collapse Accuracy  \\\n",
      "0                       0.70732        0.423051           0.744052   \n",
      "\n",
      "   Non-decision Time Speed  Non-decision Time Accuracy         BIC  \n",
      "0                 0.172754                    0.175342 -175.602873  \n",
      "5\n"
     ]
    },
    {
     "name": "stderr",
     "output_type": "stream",
     "text": [
      "Info: Params [1.89698638 2.2747233  0.5587107  0.6165377  0.48525706 1.07463002\n",
      " 0.24812953 0.27839463] gave -1726.2110877377072\n",
      "Warning: This function (from_pandas_dataframe()) is deprecated and will be removed in a future version of PyDDM.  Please use the choice_column_name argument instead.\n"
     ]
    },
    {
     "name": "stdout",
     "output_type": "stream",
     "text": [
      "   Drift Rate Speed  Drift Rate Accuracy  Boundary Separation Speed  \\\n",
      "0          1.896986             2.274723                   0.558711   \n",
      "\n",
      "   Boundary Separation Accuracy  Collapse Speed  Collapse Accuracy  \\\n",
      "0                      0.616538        0.485257            1.07463   \n",
      "\n",
      "   Non-decision Time Speed  Non-decision Time Accuracy          BIC  \n",
      "0                  0.24813                    0.278395 -1726.211088  \n",
      "6\n"
     ]
    },
    {
     "name": "stderr",
     "output_type": "stream",
     "text": [
      "Info: Params [1.58680569 2.1540777  0.51251786 0.50944746 0.78926958 0.24415591\n",
      " 0.27057181 0.31585911] gave -2614.4522014435456\n",
      "Warning: This function (from_pandas_dataframe()) is deprecated and will be removed in a future version of PyDDM.  Please use the choice_column_name argument instead.\n"
     ]
    },
    {
     "name": "stdout",
     "output_type": "stream",
     "text": [
      "   Drift Rate Speed  Drift Rate Accuracy  Boundary Separation Speed  \\\n",
      "0          1.586806             2.154078                   0.512518   \n",
      "\n",
      "   Boundary Separation Accuracy  Collapse Speed  Collapse Accuracy  \\\n",
      "0                      0.509447         0.78927           0.244156   \n",
      "\n",
      "   Non-decision Time Speed  Non-decision Time Accuracy          BIC  \n",
      "0                 0.270572                    0.315859 -2614.452201  \n",
      "7\n"
     ]
    },
    {
     "name": "stderr",
     "output_type": "stream",
     "text": [
      "Info: Params [1.74558208 1.87769544 0.50543393 0.68825039 0.45114311 0.21787127\n",
      " 0.24687454 0.27802979] gave -1728.9729628537536\n",
      "Warning: This function (from_pandas_dataframe()) is deprecated and will be removed in a future version of PyDDM.  Please use the choice_column_name argument instead.\n"
     ]
    },
    {
     "name": "stdout",
     "output_type": "stream",
     "text": [
      "   Drift Rate Speed  Drift Rate Accuracy  Boundary Separation Speed  \\\n",
      "0          1.745582             1.877695                   0.505434   \n",
      "\n",
      "   Boundary Separation Accuracy  Collapse Speed  Collapse Accuracy  \\\n",
      "0                       0.68825        0.451143           0.217871   \n",
      "\n",
      "   Non-decision Time Speed  Non-decision Time Accuracy          BIC  \n",
      "0                 0.246875                     0.27803 -1728.972963  \n",
      "8\n"
     ]
    },
    {
     "name": "stderr",
     "output_type": "stream",
     "text": [
      "Info: Params [1.82132689 2.04445512 0.63008848 0.72395277 0.7341205  1.06629279\n",
      " 0.27127257 0.29496648] gave -1337.9076932517992\n",
      "Warning: This function (from_pandas_dataframe()) is deprecated and will be removed in a future version of PyDDM.  Please use the choice_column_name argument instead.\n"
     ]
    },
    {
     "name": "stdout",
     "output_type": "stream",
     "text": [
      "   Drift Rate Speed  Drift Rate Accuracy  Boundary Separation Speed  \\\n",
      "0          1.821327             2.044455                   0.630088   \n",
      "\n",
      "   Boundary Separation Accuracy  Collapse Speed  Collapse Accuracy  \\\n",
      "0                      0.723953         0.73412           1.066293   \n",
      "\n",
      "   Non-decision Time Speed  Non-decision Time Accuracy          BIC  \n",
      "0                 0.271273                    0.294966 -1337.907693  \n",
      "9\n"
     ]
    },
    {
     "name": "stderr",
     "output_type": "stream",
     "text": [
      "Info: Params [1.19986358 1.90720116 0.66501691 0.56272543 1.03863053 0.34873428\n",
      " 0.2192515  0.27600605] gave -1801.451749514125\n",
      "Warning: This function (from_pandas_dataframe()) is deprecated and will be removed in a future version of PyDDM.  Please use the choice_column_name argument instead.\n"
     ]
    },
    {
     "name": "stdout",
     "output_type": "stream",
     "text": [
      "   Drift Rate Speed  Drift Rate Accuracy  Boundary Separation Speed  \\\n",
      "0          1.199864             1.907201                   0.665017   \n",
      "\n",
      "   Boundary Separation Accuracy  Collapse Speed  Collapse Accuracy  \\\n",
      "0                      0.562725        1.038631           0.348734   \n",
      "\n",
      "   Non-decision Time Speed  Non-decision Time Accuracy         BIC  \n",
      "0                 0.219251                    0.276006 -1801.45175  \n",
      "10\n"
     ]
    },
    {
     "name": "stderr",
     "output_type": "stream",
     "text": [
      "Info: Params [0.24260241 0.29730418 0.50246572 0.51866289 0.14289692 0.161123\n",
      " 0.17028567 0.17546017] gave -130.58620945993238\n",
      "Warning: This function (from_pandas_dataframe()) is deprecated and will be removed in a future version of PyDDM.  Please use the choice_column_name argument instead.\n"
     ]
    },
    {
     "name": "stdout",
     "output_type": "stream",
     "text": [
      "   Drift Rate Speed  Drift Rate Accuracy  Boundary Separation Speed  \\\n",
      "0          0.242602             0.297304                   0.502466   \n",
      "\n",
      "   Boundary Separation Accuracy  Collapse Speed  Collapse Accuracy  \\\n",
      "0                      0.518663        0.142897           0.161123   \n",
      "\n",
      "   Non-decision Time Speed  Non-decision Time Accuracy         BIC  \n",
      "0                 0.170286                     0.17546 -130.586209  \n",
      "11\n"
     ]
    },
    {
     "name": "stderr",
     "output_type": "stream",
     "text": [
      "Info: Params [0.88243185 1.28775233 0.52339748 0.8345205  0.22007368 0.39989014\n",
      " 0.21743866 0.25452576] gave 11.019561905108766\n",
      "Warning: This function (from_pandas_dataframe()) is deprecated and will be removed in a future version of PyDDM.  Please use the choice_column_name argument instead.\n"
     ]
    },
    {
     "name": "stdout",
     "output_type": "stream",
     "text": [
      "   Drift Rate Speed  Drift Rate Accuracy  Boundary Separation Speed  \\\n",
      "0          0.882432             1.287752                   0.523397   \n",
      "\n",
      "   Boundary Separation Accuracy  Collapse Speed  Collapse Accuracy  \\\n",
      "0                       0.83452        0.220074            0.39989   \n",
      "\n",
      "   Non-decision Time Speed  Non-decision Time Accuracy        BIC  \n",
      "0                 0.217439                    0.254526  11.019562  \n",
      "12\n"
     ]
    },
    {
     "name": "stderr",
     "output_type": "stream",
     "text": [
      "Info: Params [0.4431092  1.11149823 0.56185027 0.66966665 0.24578852 0.32424502\n",
      " 0.17156809 0.21013411] gave 100.26201258899945\n",
      "Warning: This function (from_pandas_dataframe()) is deprecated and will be removed in a future version of PyDDM.  Please use the choice_column_name argument instead.\n"
     ]
    },
    {
     "name": "stdout",
     "output_type": "stream",
     "text": [
      "   Drift Rate Speed  Drift Rate Accuracy  Boundary Separation Speed  \\\n",
      "0          0.443109             1.111498                    0.56185   \n",
      "\n",
      "   Boundary Separation Accuracy  Collapse Speed  Collapse Accuracy  \\\n",
      "0                      0.669667        0.245789           0.324245   \n",
      "\n",
      "   Non-decision Time Speed  Non-decision Time Accuracy         BIC  \n",
      "0                 0.171568                    0.210134  100.262013  \n",
      "13\n"
     ]
    },
    {
     "name": "stderr",
     "output_type": "stream",
     "text": [
      "Info: Params [0.02437655 0.55962502 0.50356716 0.50972433 0.29832686 0.08919797\n",
      " 0.15334389 0.17261749] gave -198.64764436632026\n",
      "Warning: This function (from_pandas_dataframe()) is deprecated and will be removed in a future version of PyDDM.  Please use the choice_column_name argument instead.\n"
     ]
    },
    {
     "name": "stdout",
     "output_type": "stream",
     "text": [
      "   Drift Rate Speed  Drift Rate Accuracy  Boundary Separation Speed  \\\n",
      "0          0.024377             0.559625                   0.503567   \n",
      "\n",
      "   Boundary Separation Accuracy  Collapse Speed  Collapse Accuracy  \\\n",
      "0                      0.509724        0.298327           0.089198   \n",
      "\n",
      "   Non-decision Time Speed  Non-decision Time Accuracy         BIC  \n",
      "0                 0.153344                    0.172617 -198.647644  \n",
      "14\n"
     ]
    },
    {
     "name": "stderr",
     "output_type": "stream",
     "text": [
      "Info: Params [1.33229264 1.36316641 0.60453724 0.69794305 0.39052017 0.54281753\n",
      " 0.30287202 0.29771753] gave -891.8531789601057\n",
      "Warning: This function (from_pandas_dataframe()) is deprecated and will be removed in a future version of PyDDM.  Please use the choice_column_name argument instead.\n"
     ]
    },
    {
     "name": "stdout",
     "output_type": "stream",
     "text": [
      "   Drift Rate Speed  Drift Rate Accuracy  Boundary Separation Speed  \\\n",
      "0          1.332293             1.363166                   0.604537   \n",
      "\n",
      "   Boundary Separation Accuracy  Collapse Speed  Collapse Accuracy  \\\n",
      "0                      0.697943         0.39052           0.542818   \n",
      "\n",
      "   Non-decision Time Speed  Non-decision Time Accuracy         BIC  \n",
      "0                 0.302872                    0.297718 -891.853179  \n",
      "15\n"
     ]
    },
    {
     "name": "stderr",
     "output_type": "stream",
     "text": [
      "Info: Params [0.1243483  0.64215631 0.52461645 0.61701896 0.1908854  0.28497376\n",
      " 0.17868487 0.19434836] gave 339.6750080077046\n",
      "Warning: This function (from_pandas_dataframe()) is deprecated and will be removed in a future version of PyDDM.  Please use the choice_column_name argument instead.\n"
     ]
    },
    {
     "name": "stdout",
     "output_type": "stream",
     "text": [
      "   Drift Rate Speed  Drift Rate Accuracy  Boundary Separation Speed  \\\n",
      "0          0.124348             0.642156                   0.524616   \n",
      "\n",
      "   Boundary Separation Accuracy  Collapse Speed  Collapse Accuracy  \\\n",
      "0                      0.617019        0.190885           0.284974   \n",
      "\n",
      "   Non-decision Time Speed  Non-decision Time Accuracy         BIC  \n",
      "0                 0.178685                    0.194348  339.675008  \n",
      "16\n"
     ]
    },
    {
     "name": "stderr",
     "output_type": "stream",
     "text": [
      "Info: Params [0.5893681  0.69668483 0.50747879 0.67524321 0.54031728 1.13016022\n",
      " 0.17226763 0.1723542 ] gave -1509.2145628592214\n",
      "Warning: This function (from_pandas_dataframe()) is deprecated and will be removed in a future version of PyDDM.  Please use the choice_column_name argument instead.\n"
     ]
    },
    {
     "name": "stdout",
     "output_type": "stream",
     "text": [
      "   Drift Rate Speed  Drift Rate Accuracy  Boundary Separation Speed  \\\n",
      "0          0.589368             0.696685                   0.507479   \n",
      "\n",
      "   Boundary Separation Accuracy  Collapse Speed  Collapse Accuracy  \\\n",
      "0                      0.675243        0.540317            1.13016   \n",
      "\n",
      "   Non-decision Time Speed  Non-decision Time Accuracy          BIC  \n",
      "0                 0.172268                    0.172354 -1509.214563  \n",
      "17\n"
     ]
    },
    {
     "name": "stderr",
     "output_type": "stream",
     "text": [
      "Info: Params [0.4154748  1.12355546 0.51766166 0.82003745 0.21500664 0.53109706\n",
      " 0.15347843 0.17513765] gave 355.4204180886626\n",
      "Warning: This function (from_pandas_dataframe()) is deprecated and will be removed in a future version of PyDDM.  Please use the choice_column_name argument instead.\n"
     ]
    },
    {
     "name": "stdout",
     "output_type": "stream",
     "text": [
      "   Drift Rate Speed  Drift Rate Accuracy  Boundary Separation Speed  \\\n",
      "0          0.415475             1.123555                   0.517662   \n",
      "\n",
      "   Boundary Separation Accuracy  Collapse Speed  Collapse Accuracy  \\\n",
      "0                      0.820037        0.215007           0.531097   \n",
      "\n",
      "   Non-decision Time Speed  Non-decision Time Accuracy         BIC  \n",
      "0                 0.153478                    0.175138  355.420418  \n",
      "18\n"
     ]
    },
    {
     "name": "stderr",
     "output_type": "stream",
     "text": [
      "Info: Params [2.17177127 2.67479887 0.80705793 0.84786956 0.68105123 0.87438644\n",
      " 0.37133785 0.39633391] gave -2594.2020262066508\n",
      "Warning: This function (from_pandas_dataframe()) is deprecated and will be removed in a future version of PyDDM.  Please use the choice_column_name argument instead.\n"
     ]
    },
    {
     "name": "stdout",
     "output_type": "stream",
     "text": [
      "   Drift Rate Speed  Drift Rate Accuracy  Boundary Separation Speed  \\\n",
      "0          2.171771             2.674799                   0.807058   \n",
      "\n",
      "   Boundary Separation Accuracy  Collapse Speed  Collapse Accuracy  \\\n",
      "0                       0.84787        0.681051           0.874386   \n",
      "\n",
      "   Non-decision Time Speed  Non-decision Time Accuracy          BIC  \n",
      "0                 0.371338                    0.396334 -2594.202026  \n",
      "19\n"
     ]
    },
    {
     "name": "stderr",
     "output_type": "stream",
     "text": [
      "Info: Params [0.40998534 0.63118476 0.63878413 0.73473723 0.8794245  1.01318347\n",
      " 0.17881608 0.18676687] gave -841.4843618523125\n",
      "Warning: This function (from_pandas_dataframe()) is deprecated and will be removed in a future version of PyDDM.  Please use the choice_column_name argument instead.\n"
     ]
    },
    {
     "name": "stdout",
     "output_type": "stream",
     "text": [
      "   Drift Rate Speed  Drift Rate Accuracy  Boundary Separation Speed  \\\n",
      "0          0.409985             0.631185                   0.638784   \n",
      "\n",
      "   Boundary Separation Accuracy  Collapse Speed  Collapse Accuracy  \\\n",
      "0                      0.734737        0.879424           1.013183   \n",
      "\n",
      "   Non-decision Time Speed  Non-decision Time Accuracy         BIC  \n",
      "0                 0.178816                    0.186767 -841.484362  \n",
      "20\n"
     ]
    },
    {
     "name": "stderr",
     "output_type": "stream",
     "text": [
      "Info: Params [0.26149576 0.12716981 0.5020574  0.53735638 0.33018105 0.4581765\n",
      " 0.16275647 0.16519737] gave -537.2792220008592\n",
      "Warning: This function (from_pandas_dataframe()) is deprecated and will be removed in a future version of PyDDM.  Please use the choice_column_name argument instead.\n"
     ]
    },
    {
     "name": "stdout",
     "output_type": "stream",
     "text": [
      "   Drift Rate Speed  Drift Rate Accuracy  Boundary Separation Speed  \\\n",
      "0          0.261496              0.12717                   0.502057   \n",
      "\n",
      "   Boundary Separation Accuracy  Collapse Speed  Collapse Accuracy  \\\n",
      "0                      0.537356        0.330181           0.458176   \n",
      "\n",
      "   Non-decision Time Speed  Non-decision Time Accuracy         BIC  \n",
      "0                 0.162756                    0.165197 -537.279222  \n",
      "21\n"
     ]
    },
    {
     "name": "stderr",
     "output_type": "stream",
     "text": [
      "Info: Params [0.36954939 0.87298911 0.67536456 0.75012061 0.69919655 0.41537304\n",
      " 0.17125085 0.1928628 ] gave 706.6358364535657\n",
      "Warning: This function (from_pandas_dataframe()) is deprecated and will be removed in a future version of PyDDM.  Please use the choice_column_name argument instead.\n"
     ]
    },
    {
     "name": "stdout",
     "output_type": "stream",
     "text": [
      "   Drift Rate Speed  Drift Rate Accuracy  Boundary Separation Speed  \\\n",
      "0          0.369549             0.872989                   0.675365   \n",
      "\n",
      "   Boundary Separation Accuracy  Collapse Speed  Collapse Accuracy  \\\n",
      "0                      0.750121        0.699197           0.415373   \n",
      "\n",
      "   Non-decision Time Speed  Non-decision Time Accuracy         BIC  \n",
      "0                 0.171251                    0.192863  706.635836  \n",
      "22\n"
     ]
    },
    {
     "name": "stderr",
     "output_type": "stream",
     "text": [
      "Info: Params [0.01744497 0.20769598 0.50491665 0.50939363 0.27042141 0.19860261\n",
      " 0.15302831 0.17528506] gave -526.7915910230245\n",
      "Warning: This function (from_pandas_dataframe()) is deprecated and will be removed in a future version of PyDDM.  Please use the choice_column_name argument instead.\n"
     ]
    },
    {
     "name": "stdout",
     "output_type": "stream",
     "text": [
      "   Drift Rate Speed  Drift Rate Accuracy  Boundary Separation Speed  \\\n",
      "0          0.017445             0.207696                   0.504917   \n",
      "\n",
      "   Boundary Separation Accuracy  Collapse Speed  Collapse Accuracy  \\\n",
      "0                      0.509394        0.270421           0.198603   \n",
      "\n",
      "   Non-decision Time Speed  Non-decision Time Accuracy         BIC  \n",
      "0                 0.153028                    0.175285 -526.791591  \n",
      "23\n"
     ]
    },
    {
     "name": "stderr",
     "output_type": "stream",
     "text": [
      "Info: Params [0.18222462 0.63199846 0.52426866 0.70101705 0.40797314 0.5180085\n",
      " 0.1814761  0.19484665] gave 26.959225117488145\n",
      "Warning: This function (from_pandas_dataframe()) is deprecated and will be removed in a future version of PyDDM.  Please use the choice_column_name argument instead.\n"
     ]
    },
    {
     "name": "stdout",
     "output_type": "stream",
     "text": [
      "   Drift Rate Speed  Drift Rate Accuracy  Boundary Separation Speed  \\\n",
      "0          0.182225             0.631998                   0.524269   \n",
      "\n",
      "   Boundary Separation Accuracy  Collapse Speed  Collapse Accuracy  \\\n",
      "0                      0.701017        0.407973           0.518009   \n",
      "\n",
      "   Non-decision Time Speed  Non-decision Time Accuracy        BIC  \n",
      "0                 0.181476                    0.194847  26.959225  \n",
      "24\n"
     ]
    },
    {
     "name": "stderr",
     "output_type": "stream",
     "text": [
      "Info: Params [0.18012736 0.79429725 0.50223076 1.04617492 0.1651767  0.59045997\n",
      " 0.14498698 0.15029162] gave 401.8073981851892\n",
      "Warning: This function (from_pandas_dataframe()) is deprecated and will be removed in a future version of PyDDM.  Please use the choice_column_name argument instead.\n"
     ]
    },
    {
     "name": "stdout",
     "output_type": "stream",
     "text": [
      "   Drift Rate Speed  Drift Rate Accuracy  Boundary Separation Speed  \\\n",
      "0          0.180127             0.794297                   0.502231   \n",
      "\n",
      "   Boundary Separation Accuracy  Collapse Speed  Collapse Accuracy  \\\n",
      "0                      1.046175        0.165177            0.59046   \n",
      "\n",
      "   Non-decision Time Speed  Non-decision Time Accuracy         BIC  \n",
      "0                 0.144987                    0.150292  401.807398  \n",
      "25\n"
     ]
    },
    {
     "name": "stderr",
     "output_type": "stream",
     "text": [
      "Info: Params [0.71191729 0.8472389  0.51628667 0.65608184 0.52241129 0.6967291\n",
      " 0.1935078  0.17243315] gave -539.4094518721912\n",
      "Warning: This function (from_pandas_dataframe()) is deprecated and will be removed in a future version of PyDDM.  Please use the choice_column_name argument instead.\n"
     ]
    },
    {
     "name": "stdout",
     "output_type": "stream",
     "text": [
      "   Drift Rate Speed  Drift Rate Accuracy  Boundary Separation Speed  \\\n",
      "0          0.711917             0.847239                   0.516287   \n",
      "\n",
      "   Boundary Separation Accuracy  Collapse Speed  Collapse Accuracy  \\\n",
      "0                      0.656082        0.522411           0.696729   \n",
      "\n",
      "   Non-decision Time Speed  Non-decision Time Accuracy         BIC  \n",
      "0                 0.193508                    0.172433 -539.409452  \n",
      "26\n"
     ]
    },
    {
     "name": "stderr",
     "output_type": "stream",
     "text": [
      "Info: Params [1.04019741 1.52997863 0.57007521 0.72701876 0.61731383 0.64811605\n",
      " 0.17690993 0.23375552] gave -691.9600567034925\n",
      "Warning: This function (from_pandas_dataframe()) is deprecated and will be removed in a future version of PyDDM.  Please use the choice_column_name argument instead.\n"
     ]
    },
    {
     "name": "stdout",
     "output_type": "stream",
     "text": [
      "   Drift Rate Speed  Drift Rate Accuracy  Boundary Separation Speed  \\\n",
      "0          1.040197             1.529979                   0.570075   \n",
      "\n",
      "   Boundary Separation Accuracy  Collapse Speed  Collapse Accuracy  \\\n",
      "0                      0.727019        0.617314           0.648116   \n",
      "\n",
      "   Non-decision Time Speed  Non-decision Time Accuracy         BIC  \n",
      "0                  0.17691                    0.233756 -691.960057  \n",
      "27\n"
     ]
    },
    {
     "name": "stderr",
     "output_type": "stream",
     "text": [
      "Info: Params [0.12520727 0.10026474 0.62707575 0.55017996 1.05757497 0.78772602\n",
      " 0.18600084 0.22455794] gave -841.2851201782096\n",
      "Warning: This function (from_pandas_dataframe()) is deprecated and will be removed in a future version of PyDDM.  Please use the choice_column_name argument instead.\n"
     ]
    },
    {
     "name": "stdout",
     "output_type": "stream",
     "text": [
      "   Drift Rate Speed  Drift Rate Accuracy  Boundary Separation Speed  \\\n",
      "0          0.125207             0.100265                   0.627076   \n",
      "\n",
      "   Boundary Separation Accuracy  Collapse Speed  Collapse Accuracy  \\\n",
      "0                       0.55018        1.057575           0.787726   \n",
      "\n",
      "   Non-decision Time Speed  Non-decision Time Accuracy        BIC  \n",
      "0                 0.186001                    0.224558 -841.28512  \n",
      "28\n"
     ]
    },
    {
     "name": "stderr",
     "output_type": "stream",
     "text": [
      "Info: Params [0.42041286 0.68864145 0.50634909 0.71214697 0.23758923 0.42935244\n",
      " 0.17423494 0.17596569] gave 65.184016624724\n",
      "Warning: This function (from_pandas_dataframe()) is deprecated and will be removed in a future version of PyDDM.  Please use the choice_column_name argument instead.\n"
     ]
    },
    {
     "name": "stdout",
     "output_type": "stream",
     "text": [
      "   Drift Rate Speed  Drift Rate Accuracy  Boundary Separation Speed  \\\n",
      "0          0.420413             0.688641                   0.506349   \n",
      "\n",
      "   Boundary Separation Accuracy  Collapse Speed  Collapse Accuracy  \\\n",
      "0                      0.712147        0.237589           0.429352   \n",
      "\n",
      "   Non-decision Time Speed  Non-decision Time Accuracy        BIC  \n",
      "0                 0.174235                    0.175966  65.184017  \n",
      "29\n"
     ]
    },
    {
     "name": "stderr",
     "output_type": "stream",
     "text": [
      "Info: Params [0.20159716 0.23522128 0.58219229 0.63348601 0.52399474 0.30459181\n",
      " 0.17328046 0.17937677] gave 328.57163118842277\n",
      "Warning: This function (from_pandas_dataframe()) is deprecated and will be removed in a future version of PyDDM.  Please use the choice_column_name argument instead.\n"
     ]
    },
    {
     "name": "stdout",
     "output_type": "stream",
     "text": [
      "   Drift Rate Speed  Drift Rate Accuracy  Boundary Separation Speed  \\\n",
      "0          0.201597             0.235221                   0.582192   \n",
      "\n",
      "   Boundary Separation Accuracy  Collapse Speed  Collapse Accuracy  \\\n",
      "0                      0.633486        0.523995           0.304592   \n",
      "\n",
      "   Non-decision Time Speed  Non-decision Time Accuracy         BIC  \n",
      "0                  0.17328                    0.179377  328.571631  \n",
      "30\n"
     ]
    },
    {
     "name": "stderr",
     "output_type": "stream",
     "text": [
      "Info: Params [0.27445242 0.21605393 0.50027382 0.50658185 0.15874384 0.18026662\n",
      " 0.17122391 0.17806703] gave -65.58783324998882\n",
      "Warning: This function (from_pandas_dataframe()) is deprecated and will be removed in a future version of PyDDM.  Please use the choice_column_name argument instead.\n"
     ]
    },
    {
     "name": "stdout",
     "output_type": "stream",
     "text": [
      "   Drift Rate Speed  Drift Rate Accuracy  Boundary Separation Speed  \\\n",
      "0          0.274452             0.216054                   0.500274   \n",
      "\n",
      "   Boundary Separation Accuracy  Collapse Speed  Collapse Accuracy  \\\n",
      "0                      0.506582        0.158744           0.180267   \n",
      "\n",
      "   Non-decision Time Speed  Non-decision Time Accuracy        BIC  \n",
      "0                 0.171224                    0.178067 -65.587833  \n",
      "31\n"
     ]
    },
    {
     "name": "stderr",
     "output_type": "stream",
     "text": [
      "Info: Params [0.45152729 0.30132582 0.50935093 0.50938993 0.29660433 0.16517943\n",
      " 0.17496666 0.18065945] gave -33.00915022528346\n",
      "Warning: This function (from_pandas_dataframe()) is deprecated and will be removed in a future version of PyDDM.  Please use the choice_column_name argument instead.\n"
     ]
    },
    {
     "name": "stdout",
     "output_type": "stream",
     "text": [
      "   Drift Rate Speed  Drift Rate Accuracy  Boundary Separation Speed  \\\n",
      "0          0.451527             0.301326                   0.509351   \n",
      "\n",
      "   Boundary Separation Accuracy  Collapse Speed  Collapse Accuracy  \\\n",
      "0                       0.50939        0.296604           0.165179   \n",
      "\n",
      "   Non-decision Time Speed  Non-decision Time Accuracy       BIC  \n",
      "0                 0.174967                    0.180659 -33.00915  \n",
      "32\n"
     ]
    },
    {
     "name": "stderr",
     "output_type": "stream",
     "text": [
      "Info: Params [0.15684978 0.21049236 0.6116969  0.63635293 0.56098026 0.30769231\n",
      " 0.16493919 0.17363408] gave 327.7966924846454\n",
      "Warning: This function (from_pandas_dataframe()) is deprecated and will be removed in a future version of PyDDM.  Please use the choice_column_name argument instead.\n"
     ]
    },
    {
     "name": "stdout",
     "output_type": "stream",
     "text": [
      "   Drift Rate Speed  Drift Rate Accuracy  Boundary Separation Speed  \\\n",
      "0           0.15685             0.210492                   0.611697   \n",
      "\n",
      "   Boundary Separation Accuracy  Collapse Speed  Collapse Accuracy  \\\n",
      "0                      0.636353         0.56098           0.307692   \n",
      "\n",
      "   Non-decision Time Speed  Non-decision Time Accuracy         BIC  \n",
      "0                 0.164939                    0.173634  327.796692  \n",
      "33\n"
     ]
    },
    {
     "name": "stderr",
     "output_type": "stream",
     "text": [
      "Info: Params [0.08250818 0.60794377 0.50852236 1.06018644 0.22140864 0.64593221\n",
      " 0.18747219 0.17065011] gave 537.705263126978\n"
     ]
    },
    {
     "name": "stdout",
     "output_type": "stream",
     "text": [
      "   Drift Rate Speed  Drift Rate Accuracy  Boundary Separation Speed  \\\n",
      "0          0.082508             0.607944                   0.508522   \n",
      "\n",
      "   Boundary Separation Accuracy  Collapse Speed  Collapse Accuracy  \\\n",
      "0                      1.060186        0.221409           0.645932   \n",
      "\n",
      "   Non-decision Time Speed  Non-decision Time Accuracy         BIC  \n",
      "0                 0.187472                     0.17065  537.705263  \n"
     ]
    }
   ],
   "source": [
    "df_all = pd.DataFrame()\n",
    "for i in range(sample_size):\n",
    "    print(i)\n",
    "    path = os.path.join(data_dir+str(i+1)+\".csv\")\n",
    "    df = pd.read_csv(path, sep = \",\")\n",
    "    #df = df[df[\"cond\"]==SAT] # A condition\n",
    "    df = df[df[\"Time\"]<5]\n",
    "\n",
    "    samp = Sample.from_pandas_dataframe(df, rt_column_name=\"Time\", correct_column_name=\"Correct\")\n",
    "    df = get_DDM_result_sub_2v2a2c2ter(samp)\n",
    "    df_all = pd.concat((df_all,df))\n",
    "    print(df)\n",
    "df_OUM = df_all.copy()\n"
   ]
  },
  {
   "cell_type": "code",
   "execution_count": 5,
   "id": "3b05a53a",
   "metadata": {},
   "outputs": [],
   "source": [
    "df_OUM.to_csv(\"DDM2v2a2c2terresultRae2014.csv\")"
   ]
  },
  {
   "cell_type": "code",
   "execution_count": 6,
   "id": "87e8797e",
   "metadata": {},
   "outputs": [
    {
     "data": {
      "text/plain": [
       "-644.3859814095301"
      ]
     },
     "execution_count": 6,
     "metadata": {},
     "output_type": "execute_result"
    }
   ],
   "source": [
    "df_OUM[\"BIC\"].mean()"
   ]
  },
  {
   "cell_type": "code",
   "execution_count": null,
   "id": "c5baddcf",
   "metadata": {},
   "outputs": [],
   "source": []
  }
 ],
 "metadata": {
  "kernelspec": {
   "display_name": "Python 3 (ipykernel)",
   "language": "python",
   "name": "python3"
  },
  "language_info": {
   "codemirror_mode": {
    "name": "ipython",
    "version": 3
   },
   "file_extension": ".py",
   "mimetype": "text/x-python",
   "name": "python",
   "nbconvert_exporter": "python",
   "pygments_lexer": "ipython3",
   "version": "3.11.4"
  }
 },
 "nbformat": 4,
 "nbformat_minor": 5
}
