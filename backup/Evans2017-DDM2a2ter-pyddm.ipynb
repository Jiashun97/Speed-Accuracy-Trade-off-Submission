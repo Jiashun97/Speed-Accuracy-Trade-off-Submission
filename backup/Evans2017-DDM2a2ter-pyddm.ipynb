{
 "cells": [
  {
   "cell_type": "code",
   "execution_count": 1,
   "id": "2cda49de",
   "metadata": {},
   "outputs": [],
   "source": [
    "%run SAT_help_functions.ipynb"
   ]
  },
  {
   "cell_type": "code",
   "execution_count": null,
   "id": "bc081cf9",
   "metadata": {},
   "outputs": [],
   "source": []
  },
  {
   "cell_type": "markdown",
   "id": "4bd26666",
   "metadata": {},
   "source": [
    "## OUM"
   ]
  },
  {
   "cell_type": "code",
   "execution_count": null,
   "id": "9ef6c434",
   "metadata": {},
   "outputs": [],
   "source": []
  },
  {
   "cell_type": "code",
   "execution_count": 2,
   "id": "e776257c",
   "metadata": {},
   "outputs": [],
   "source": [
    "data_dir = \"/Users/wangjiashun/Desktop/Reserach on SAT/datasets/Evans2021/Evans2017/dataBySubject/sub\"\n",
    "sample_size = 47\n",
    "SAT_conds = [\"Speed\", \"Accuracy\"]"
   ]
  },
  {
   "cell_type": "code",
   "execution_count": 3,
   "id": "f434220f",
   "metadata": {},
   "outputs": [],
   "source": []
  },
  {
   "cell_type": "code",
   "execution_count": null,
   "id": "bbb278a6",
   "metadata": {},
   "outputs": [],
   "source": []
  },
  {
   "cell_type": "code",
   "execution_count": 4,
   "id": "6e5e0074",
   "metadata": {},
   "outputs": [],
   "source": [
    "class BoundSpeedAcc(Bound):\n",
    "    name = \"BoundSpeedAcc\"\n",
    "    required_parameters = [\"Bspeed\", \"Bacc\"]\n",
    "    required_conditions = ['Cond']\n",
    "    def get_bound(self, conditions, *args, **kwargs):\n",
    "        assert self.Bacc > 0\n",
    "        assert self.Bspeed > 0\n",
    "        if conditions['Cond'] == 'Speed':\n",
    "            return self.Bspeed\n",
    "        elif conditions['Cond'] == 'Accuracy':\n",
    "            return self.Bacc\n",
    "        else:\n",
    "            print(\"Non-implemented SAT conditions\")\n",
    "            \n",
    "class NondecisionSpeedAcc(OverlayNonDecision):\n",
    "    name = \"NondecisionSpeedAcc\"\n",
    "    required_parameters = [\"tSpeed\", 'tAcc']\n",
    "    required_conditions = ['Cond']\n",
    "        \n",
    "    def get_nondecision_time(self, conditions, **kwargs):\n",
    "        if conditions['Cond'] == 'Speed':\n",
    "            return self.tSpeed \n",
    "        elif conditions['Cond'] == 'Accuracy':\n",
    "            return self.tAcc\n",
    "        else: \n",
    "            print(\"Non-implemented SAT conditions\")"
   ]
  },
  {
   "cell_type": "code",
   "execution_count": null,
   "id": "b1e0fe9b",
   "metadata": {},
   "outputs": [],
   "source": []
  },
  {
   "cell_type": "code",
   "execution_count": null,
   "id": "81235d16",
   "metadata": {},
   "outputs": [],
   "source": []
  },
  {
   "cell_type": "code",
   "execution_count": null,
   "id": "8a3f5185",
   "metadata": {},
   "outputs": [],
   "source": []
  },
  {
   "cell_type": "code",
   "execution_count": 5,
   "id": "fdb13001",
   "metadata": {
    "scrolled": true
   },
   "outputs": [
    {
     "name": "stdout",
     "output_type": "stream",
     "text": [
      "0\n"
     ]
    },
    {
     "name": "stderr",
     "output_type": "stream",
     "text": [
      "Info: Params [0.89838339 0.55727546 0.84331034 0.31972188 0.39477949] gave 413.44355014754774\n"
     ]
    },
    {
     "name": "stdout",
     "output_type": "stream",
     "text": [
      "   Drift Rate  Boundary Separation Speed     Bacc  Non-decision Time Speed  \\\n",
      "0    0.898383                   0.557275  0.84331                 0.319722   \n",
      "\n",
      "   Non-decision Time Accuracy        BIC  \n",
      "0                    0.394779  413.44355  \n",
      "1\n"
     ]
    },
    {
     "name": "stderr",
     "output_type": "stream",
     "text": [
      "Info: Params [1.88793805 0.57099212 1.01331507 0.42525948 0.51725396] gave -58.67556777464192\n"
     ]
    },
    {
     "name": "stdout",
     "output_type": "stream",
     "text": [
      "   Drift Rate  Boundary Separation Speed      Bacc  Non-decision Time Speed  \\\n",
      "0    1.887938                   0.570992  1.013315                 0.425259   \n",
      "\n",
      "   Non-decision Time Accuracy        BIC  \n",
      "0                    0.517254 -58.675568  \n",
      "2\n"
     ]
    },
    {
     "name": "stderr",
     "output_type": "stream",
     "text": [
      "Info: Params [1.35168316 0.67722673 0.71567209 0.20651869 0.34551885] gave 179.1049083700796\n"
     ]
    },
    {
     "name": "stdout",
     "output_type": "stream",
     "text": [
      "   Drift Rate  Boundary Separation Speed      Bacc  Non-decision Time Speed  \\\n",
      "0    1.351683                   0.677227  0.715672                 0.206519   \n",
      "\n",
      "   Non-decision Time Accuracy         BIC  \n",
      "0                    0.345519  179.104908  \n",
      "3\n"
     ]
    },
    {
     "name": "stderr",
     "output_type": "stream",
     "text": [
      "Info: Params [1.7490548  0.81101318 3.97719209 0.40831409 0.44791135] gave 234.9122600396486\n"
     ]
    },
    {
     "name": "stdout",
     "output_type": "stream",
     "text": [
      "   Drift Rate  Boundary Separation Speed      Bacc  Non-decision Time Speed  \\\n",
      "0    1.749055                   0.811013  3.977192                 0.408314   \n",
      "\n",
      "   Non-decision Time Accuracy        BIC  \n",
      "0                    0.447911  234.91226  \n",
      "4\n"
     ]
    },
    {
     "name": "stderr",
     "output_type": "stream",
     "text": [
      "Info: Params [1.24502596 0.6086546  0.91734504 0.33173842 0.34925298] gave 277.3239483312057\n"
     ]
    },
    {
     "name": "stdout",
     "output_type": "stream",
     "text": [
      "   Drift Rate  Boundary Separation Speed      Bacc  Non-decision Time Speed  \\\n",
      "0    1.245026                   0.608655  0.917345                 0.331738   \n",
      "\n",
      "   Non-decision Time Accuracy         BIC  \n",
      "0                    0.349253  277.323948  \n",
      "5\n"
     ]
    },
    {
     "name": "stderr",
     "output_type": "stream",
     "text": [
      "Info: Params [1.15967048 0.55457366 0.89087792 0.42134355 0.49660442] gave 300.86739724589825\n"
     ]
    },
    {
     "name": "stdout",
     "output_type": "stream",
     "text": [
      "   Drift Rate  Boundary Separation Speed      Bacc  Non-decision Time Speed  \\\n",
      "0     1.15967                   0.554574  0.890878                 0.421344   \n",
      "\n",
      "   Non-decision Time Accuracy         BIC  \n",
      "0                    0.496604  300.867397  \n",
      "6\n"
     ]
    },
    {
     "name": "stderr",
     "output_type": "stream",
     "text": [
      "Info: Params [0.79076666 0.5799813  0.70108903 0.17634118 0.36807927] gave 362.57011504235504\n"
     ]
    },
    {
     "name": "stdout",
     "output_type": "stream",
     "text": [
      "   Drift Rate  Boundary Separation Speed      Bacc  Non-decision Time Speed  \\\n",
      "0    0.790767                   0.579981  0.701089                 0.176341   \n",
      "\n",
      "   Non-decision Time Accuracy         BIC  \n",
      "0                    0.368079  362.570115  \n",
      "7\n"
     ]
    },
    {
     "name": "stderr",
     "output_type": "stream",
     "text": [
      "Info: Params [1.9011525  0.59503073 0.74439513 0.41086405 0.53480582] gave -104.50851317258724\n"
     ]
    },
    {
     "name": "stdout",
     "output_type": "stream",
     "text": [
      "   Drift Rate  Boundary Separation Speed      Bacc  Non-decision Time Speed  \\\n",
      "0    1.901153                   0.595031  0.744395                 0.410864   \n",
      "\n",
      "   Non-decision Time Accuracy         BIC  \n",
      "0                    0.534806 -104.508513  \n",
      "8\n"
     ]
    },
    {
     "name": "stderr",
     "output_type": "stream",
     "text": [
      "Info: Params [1.62332857 0.69252338 0.95096792 0.4497315  0.48822711] gave 99.11835579850988\n"
     ]
    },
    {
     "name": "stdout",
     "output_type": "stream",
     "text": [
      "   Drift Rate  Boundary Separation Speed      Bacc  Non-decision Time Speed  \\\n",
      "0    1.623329                   0.692523  0.950968                 0.449732   \n",
      "\n",
      "   Non-decision Time Accuracy        BIC  \n",
      "0                    0.488227  99.118356  \n",
      "9\n"
     ]
    },
    {
     "name": "stderr",
     "output_type": "stream",
     "text": [
      "Info: Params [0.58782198 0.6787327  0.88381602 0.36180779 0.37407442] gave 719.528385540492\n"
     ]
    },
    {
     "name": "stdout",
     "output_type": "stream",
     "text": [
      "   Drift Rate  Boundary Separation Speed      Bacc  Non-decision Time Speed  \\\n",
      "0    0.587822                   0.678733  0.883816                 0.361808   \n",
      "\n",
      "   Non-decision Time Accuracy         BIC  \n",
      "0                    0.374074  719.528386  \n",
      "10\n"
     ]
    },
    {
     "name": "stderr",
     "output_type": "stream",
     "text": [
      "Info: Params [0.57547863 0.61440475 1.0363148  0.41209807 0.454117  ] gave 696.9944503574179\n"
     ]
    },
    {
     "name": "stdout",
     "output_type": "stream",
     "text": [
      "   Drift Rate  Boundary Separation Speed      Bacc  Non-decision Time Speed  \\\n",
      "0    0.575479                   0.614405  1.036315                 0.412098   \n",
      "\n",
      "   Non-decision Time Accuracy        BIC  \n",
      "0                    0.454117  696.99445  \n",
      "11\n"
     ]
    },
    {
     "name": "stderr",
     "output_type": "stream",
     "text": [
      "Info: Params [0.92788339 0.6773528  0.96896351 0.20786255 0.45280167] gave 565.3730342717238\n"
     ]
    },
    {
     "name": "stdout",
     "output_type": "stream",
     "text": [
      "   Drift Rate  Boundary Separation Speed      Bacc  Non-decision Time Speed  \\\n",
      "0    0.927883                   0.677353  0.968964                 0.207863   \n",
      "\n",
      "   Non-decision Time Accuracy         BIC  \n",
      "0                    0.452802  565.373034  \n",
      "12\n"
     ]
    },
    {
     "name": "stderr",
     "output_type": "stream",
     "text": [
      "Info: Params [1.09736378 0.73311539 1.10214841 0.39218321 0.46873517] gave 504.6825138240358\n"
     ]
    },
    {
     "name": "stdout",
     "output_type": "stream",
     "text": [
      "   Drift Rate  Boundary Separation Speed      Bacc  Non-decision Time Speed  \\\n",
      "0    1.097364                   0.733115  1.102148                 0.392183   \n",
      "\n",
      "   Non-decision Time Accuracy         BIC  \n",
      "0                    0.468735  504.682514  \n",
      "13\n"
     ]
    },
    {
     "name": "stderr",
     "output_type": "stream",
     "text": [
      "Info: Params [0.61020842 0.7668066  0.90176345 0.3815311  0.47213117] gave 795.2935812101442\n"
     ]
    },
    {
     "name": "stdout",
     "output_type": "stream",
     "text": [
      "   Drift Rate  Boundary Separation Speed      Bacc  Non-decision Time Speed  \\\n",
      "0    0.610208                   0.766807  0.901763                 0.381531   \n",
      "\n",
      "   Non-decision Time Accuracy         BIC  \n",
      "0                    0.472131  795.293581  \n",
      "14\n"
     ]
    },
    {
     "name": "stderr",
     "output_type": "stream",
     "text": [
      "Info: Params [0.63236123 0.6032239  1.03848014 0.28705548 0.27741452] gave 748.3184004842301\n"
     ]
    },
    {
     "name": "stdout",
     "output_type": "stream",
     "text": [
      "   Drift Rate  Boundary Separation Speed     Bacc  Non-decision Time Speed  \\\n",
      "0    0.632361                   0.603224  1.03848                 0.287055   \n",
      "\n",
      "   Non-decision Time Accuracy       BIC  \n",
      "0                    0.277415  748.3184  \n",
      "15\n"
     ]
    },
    {
     "name": "stderr",
     "output_type": "stream",
     "text": [
      "Info: Params [1.15186591 0.66627157 1.10314725 0.38802448 0.4771005 ] gave 477.5333938602883\n"
     ]
    },
    {
     "name": "stdout",
     "output_type": "stream",
     "text": [
      "   Drift Rate  Boundary Separation Speed      Bacc  Non-decision Time Speed  \\\n",
      "0    1.151866                   0.666272  1.103147                 0.388024   \n",
      "\n",
      "   Non-decision Time Accuracy         BIC  \n",
      "0                    0.477101  477.533394  \n",
      "16\n"
     ]
    },
    {
     "name": "stderr",
     "output_type": "stream",
     "text": [
      "Info: Params [1.18464511 0.7496969  1.03001228 0.36117628 0.37601501] gave 496.88717525891184\n"
     ]
    },
    {
     "name": "stdout",
     "output_type": "stream",
     "text": [
      "   Drift Rate  Boundary Separation Speed      Bacc  Non-decision Time Speed  \\\n",
      "0    1.184645                   0.749697  1.030012                 0.361176   \n",
      "\n",
      "   Non-decision Time Accuracy         BIC  \n",
      "0                    0.376015  496.887175  \n",
      "17\n"
     ]
    },
    {
     "name": "stderr",
     "output_type": "stream",
     "text": [
      "Info: Params [0.81624109 0.56891495 0.87190483 0.37395458 0.40821459] gave 466.7320875886297\n"
     ]
    },
    {
     "name": "stdout",
     "output_type": "stream",
     "text": [
      "   Drift Rate  Boundary Separation Speed      Bacc  Non-decision Time Speed  \\\n",
      "0    0.816241                   0.568915  0.871905                 0.373955   \n",
      "\n",
      "   Non-decision Time Accuracy         BIC  \n",
      "0                    0.408215  466.732088  \n",
      "18\n"
     ]
    },
    {
     "name": "stderr",
     "output_type": "stream",
     "text": [
      "Info: Params [0.8968611  0.67961976 0.95670237 0.33874641 0.2692169 ] gave 562.320544925715\n"
     ]
    },
    {
     "name": "stdout",
     "output_type": "stream",
     "text": [
      "   Drift Rate  Boundary Separation Speed      Bacc  Non-decision Time Speed  \\\n",
      "0    0.896861                    0.67962  0.956702                 0.338746   \n",
      "\n",
      "   Non-decision Time Accuracy         BIC  \n",
      "0                    0.269217  562.320545  \n",
      "19\n"
     ]
    },
    {
     "name": "stderr",
     "output_type": "stream",
     "text": [
      "Info: Params [0.52333702 1.0355387  1.20449134 0.16414266 0.25390476] gave 1019.5555445117864\n"
     ]
    },
    {
     "name": "stdout",
     "output_type": "stream",
     "text": [
      "   Drift Rate  Boundary Separation Speed      Bacc  Non-decision Time Speed  \\\n",
      "0    0.523337                   1.035539  1.204491                 0.164143   \n",
      "\n",
      "   Non-decision Time Accuracy          BIC  \n",
      "0                    0.253905  1019.555545  \n",
      "20\n"
     ]
    },
    {
     "name": "stderr",
     "output_type": "stream",
     "text": [
      "Info: Params [1.58732048 0.53420526 0.90128659 0.32030799 0.41248244] gave 38.69537279854249\n"
     ]
    },
    {
     "name": "stdout",
     "output_type": "stream",
     "text": [
      "   Drift Rate  Boundary Separation Speed      Bacc  Non-decision Time Speed  \\\n",
      "0     1.58732                   0.534205  0.901287                 0.320308   \n",
      "\n",
      "   Non-decision Time Accuracy        BIC  \n",
      "0                    0.412482  38.695373  \n",
      "21\n"
     ]
    },
    {
     "name": "stderr",
     "output_type": "stream",
     "text": [
      "Info: Params [1.45373385 0.70453765 1.03432397 0.34460444 0.44657024] gave 295.1871646264649\n"
     ]
    },
    {
     "name": "stdout",
     "output_type": "stream",
     "text": [
      "   Drift Rate  Boundary Separation Speed      Bacc  Non-decision Time Speed  \\\n",
      "0    1.453734                   0.704538  1.034324                 0.344604   \n",
      "\n",
      "   Non-decision Time Accuracy         BIC  \n",
      "0                     0.44657  295.187165  \n",
      "22\n"
     ]
    },
    {
     "name": "stderr",
     "output_type": "stream",
     "text": [
      "Info: Params [0.8349254  0.70523668 0.93232153 0.3565185  0.47193279] gave 647.561546396367\n"
     ]
    },
    {
     "name": "stdout",
     "output_type": "stream",
     "text": [
      "   Drift Rate  Boundary Separation Speed      Bacc  Non-decision Time Speed  \\\n",
      "0    0.834925                   0.705237  0.932322                 0.356518   \n",
      "\n",
      "   Non-decision Time Accuracy         BIC  \n",
      "0                    0.471933  647.561546  \n",
      "23\n"
     ]
    },
    {
     "name": "stderr",
     "output_type": "stream",
     "text": [
      "Info: Params [0.85796018 0.77859233 1.22370878 0.46069011 0.52357498] gave 663.0457896695764\n"
     ]
    },
    {
     "name": "stdout",
     "output_type": "stream",
     "text": [
      "   Drift Rate  Boundary Separation Speed      Bacc  Non-decision Time Speed  \\\n",
      "0     0.85796                   0.778592  1.223709                  0.46069   \n",
      "\n",
      "   Non-decision Time Accuracy        BIC  \n",
      "0                    0.523575  663.04579  \n",
      "24\n"
     ]
    },
    {
     "name": "stderr",
     "output_type": "stream",
     "text": [
      "Info: Params [1.04133875 0.88863786 0.89094885 0.27729276 0.47101872] gave 594.6076436830189\n"
     ]
    },
    {
     "name": "stdout",
     "output_type": "stream",
     "text": [
      "   Drift Rate  Boundary Separation Speed      Bacc  Non-decision Time Speed  \\\n",
      "0    1.041339                   0.888638  0.890949                 0.277293   \n",
      "\n",
      "   Non-decision Time Accuracy         BIC  \n",
      "0                    0.471019  594.607644  \n",
      "25\n"
     ]
    },
    {
     "name": "stderr",
     "output_type": "stream",
     "text": [
      "Info: Params [1.42391236 0.5939542  1.08883381 0.47149456 0.50697224] gave 232.04498113508026\n"
     ]
    },
    {
     "name": "stdout",
     "output_type": "stream",
     "text": [
      "   Drift Rate  Boundary Separation Speed      Bacc  Non-decision Time Speed  \\\n",
      "0    1.423912                   0.593954  1.088834                 0.471495   \n",
      "\n",
      "   Non-decision Time Accuracy         BIC  \n",
      "0                    0.506972  232.044981  \n",
      "26\n"
     ]
    },
    {
     "name": "stderr",
     "output_type": "stream",
     "text": [
      "Info: Params [0.97373225 0.5        0.9961982  0.32974891 0.5697446 ] gave 262.7878540852136\n"
     ]
    },
    {
     "name": "stdout",
     "output_type": "stream",
     "text": [
      "   Drift Rate  Boundary Separation Speed      Bacc  Non-decision Time Speed  \\\n",
      "0    0.973732                        0.5  0.996198                 0.329749   \n",
      "\n",
      "   Non-decision Time Accuracy         BIC  \n",
      "0                    0.569745  262.787854  \n",
      "27\n"
     ]
    },
    {
     "name": "stderr",
     "output_type": "stream",
     "text": [
      "Info: Params [1.46449932 0.53025577 0.79065315 0.44045335 0.55054743] gave 76.13315785933074\n"
     ]
    },
    {
     "name": "stdout",
     "output_type": "stream",
     "text": [
      "   Drift Rate  Boundary Separation Speed      Bacc  Non-decision Time Speed  \\\n",
      "0    1.464499                   0.530256  0.790653                 0.440453   \n",
      "\n",
      "   Non-decision Time Accuracy        BIC  \n",
      "0                    0.550547  76.133158  \n",
      "28\n"
     ]
    },
    {
     "name": "stderr",
     "output_type": "stream",
     "text": [
      "Info: Params [1.7723536  0.54167177 0.7283429  0.31872572 0.47878603] gave -120.37782545688123\n"
     ]
    },
    {
     "name": "stdout",
     "output_type": "stream",
     "text": [
      "   Drift Rate  Boundary Separation Speed      Bacc  Non-decision Time Speed  \\\n",
      "0    1.772354                   0.541672  0.728343                 0.318726   \n",
      "\n",
      "   Non-decision Time Accuracy         BIC  \n",
      "0                    0.478786 -120.377825  \n",
      "29\n"
     ]
    },
    {
     "name": "stderr",
     "output_type": "stream",
     "text": [
      "Info: Params [0.73147966 0.82537759 1.01891437 0.46876959 0.73047153] gave 778.0553382879722\n"
     ]
    },
    {
     "name": "stdout",
     "output_type": "stream",
     "text": [
      "   Drift Rate  Boundary Separation Speed      Bacc  Non-decision Time Speed  \\\n",
      "0     0.73148                   0.825378  1.018914                  0.46877   \n",
      "\n",
      "   Non-decision Time Accuracy         BIC  \n",
      "0                    0.730472  778.055338  \n",
      "30\n"
     ]
    },
    {
     "name": "stderr",
     "output_type": "stream",
     "text": [
      "Info: Params [1.28653937 0.6262497  0.71332937 0.29303867 0.41001376] gave 211.93131691707268\n"
     ]
    },
    {
     "name": "stdout",
     "output_type": "stream",
     "text": [
      "   Drift Rate  Boundary Separation Speed      Bacc  Non-decision Time Speed  \\\n",
      "0    1.286539                    0.62625  0.713329                 0.293039   \n",
      "\n",
      "   Non-decision Time Accuracy         BIC  \n",
      "0                    0.410014  211.931317  \n",
      "31\n"
     ]
    },
    {
     "name": "stderr",
     "output_type": "stream",
     "text": [
      "Info: Params [1.43717579 0.91131402 1.05793451 0.35357701 0.38889539] gave 429.67120027419435\n"
     ]
    },
    {
     "name": "stdout",
     "output_type": "stream",
     "text": [
      "   Drift Rate  Boundary Separation Speed      Bacc  Non-decision Time Speed  \\\n",
      "0    1.437176                   0.911314  1.057935                 0.353577   \n",
      "\n",
      "   Non-decision Time Accuracy       BIC  \n",
      "0                    0.388895  429.6712  \n",
      "32\n"
     ]
    },
    {
     "name": "stderr",
     "output_type": "stream",
     "text": [
      "Info: Params [1.527361   0.64898072 0.97465596 0.35023977 0.45937348] gave 215.20257543288957\n"
     ]
    },
    {
     "name": "stdout",
     "output_type": "stream",
     "text": [
      "   Drift Rate  Boundary Separation Speed      Bacc  Non-decision Time Speed  \\\n",
      "0    1.527361                   0.648981  0.974656                  0.35024   \n",
      "\n",
      "   Non-decision Time Accuracy         BIC  \n",
      "0                    0.459373  215.202575  \n",
      "33\n"
     ]
    },
    {
     "name": "stderr",
     "output_type": "stream",
     "text": [
      "Info: Params [1.07330828 0.60064782 0.83068285 0.16848368 0.53090406] gave 349.11839882271573\n"
     ]
    },
    {
     "name": "stdout",
     "output_type": "stream",
     "text": [
      "   Drift Rate  Boundary Separation Speed      Bacc  Non-decision Time Speed  \\\n",
      "0    1.073308                   0.600648  0.830683                 0.168484   \n",
      "\n",
      "   Non-decision Time Accuracy         BIC  \n",
      "0                    0.530904  349.118399  \n",
      "34\n"
     ]
    },
    {
     "name": "stderr",
     "output_type": "stream",
     "text": [
      "Info: Params [1.54404092 0.5        0.71435273 0.29842494 0.34377665] gave -83.59368855525597\n"
     ]
    },
    {
     "name": "stdout",
     "output_type": "stream",
     "text": [
      "   Drift Rate  Boundary Separation Speed      Bacc  Non-decision Time Speed  \\\n",
      "0    1.544041                        0.5  0.714353                 0.298425   \n",
      "\n",
      "   Non-decision Time Accuracy        BIC  \n",
      "0                    0.343777 -83.593689  \n",
      "35\n"
     ]
    },
    {
     "name": "stderr",
     "output_type": "stream",
     "text": [
      "Info: Params [1.25637522 0.5        0.77724105 0.39728519 0.52228923] gave 47.22225697776652\n"
     ]
    },
    {
     "name": "stdout",
     "output_type": "stream",
     "text": [
      "   Drift Rate  Boundary Separation Speed      Bacc  Non-decision Time Speed  \\\n",
      "0    1.256375                        0.5  0.777241                 0.397285   \n",
      "\n",
      "   Non-decision Time Accuracy        BIC  \n",
      "0                    0.522289  47.222257  \n",
      "36\n"
     ]
    },
    {
     "name": "stderr",
     "output_type": "stream",
     "text": [
      "Info: Params [1.19847492 0.77049682 0.97698996 0.28808728 0.36769399] gave 488.78489197446714\n"
     ]
    },
    {
     "name": "stdout",
     "output_type": "stream",
     "text": [
      "   Drift Rate  Boundary Separation Speed     Bacc  Non-decision Time Speed  \\\n",
      "0    1.198475                   0.770497  0.97699                 0.288087   \n",
      "\n",
      "   Non-decision Time Accuracy         BIC  \n",
      "0                    0.367694  488.784892  \n",
      "37\n"
     ]
    },
    {
     "name": "stderr",
     "output_type": "stream",
     "text": [
      "Info: Params [1.72132893 0.52290588 0.76465185 0.28253459 0.41130693] gave -103.88699407870524\n"
     ]
    },
    {
     "name": "stdout",
     "output_type": "stream",
     "text": [
      "   Drift Rate  Boundary Separation Speed      Bacc  Non-decision Time Speed  \\\n",
      "0    1.721329                   0.522906  0.764652                 0.282535   \n",
      "\n",
      "   Non-decision Time Accuracy         BIC  \n",
      "0                    0.411307 -103.886994  \n",
      "38\n"
     ]
    },
    {
     "name": "stderr",
     "output_type": "stream",
     "text": [
      "Info: Params [1.82975418 0.59323106 0.81382974 0.28896656 0.4635653 ] gave -64.05442337741786\n"
     ]
    },
    {
     "name": "stdout",
     "output_type": "stream",
     "text": [
      "   Drift Rate  Boundary Separation Speed     Bacc  Non-decision Time Speed  \\\n",
      "0    1.829754                   0.593231  0.81383                 0.288967   \n",
      "\n",
      "   Non-decision Time Accuracy        BIC  \n",
      "0                    0.463565 -64.054423  \n",
      "39\n"
     ]
    },
    {
     "name": "stderr",
     "output_type": "stream",
     "text": [
      "Info: Params [0.83539794 0.64198913 1.37022452 0.33710787 0.46685069] gave 472.09280587458574\n"
     ]
    },
    {
     "name": "stdout",
     "output_type": "stream",
     "text": [
      "   Drift Rate  Boundary Separation Speed      Bacc  Non-decision Time Speed  \\\n",
      "0    0.835398                   0.641989  1.370225                 0.337108   \n",
      "\n",
      "   Non-decision Time Accuracy         BIC  \n",
      "0                    0.466851  472.092806  \n",
      "40\n"
     ]
    },
    {
     "name": "stderr",
     "output_type": "stream",
     "text": [
      "Info: Params [1.50121442 0.69434454 1.03886829 0.30726248 0.53027024] gave 240.87598876769562\n"
     ]
    },
    {
     "name": "stdout",
     "output_type": "stream",
     "text": [
      "   Drift Rate  Boundary Separation Speed      Bacc  Non-decision Time Speed  \\\n",
      "0    1.501214                   0.694345  1.038868                 0.307262   \n",
      "\n",
      "   Non-decision Time Accuracy         BIC  \n",
      "0                     0.53027  240.875989  \n",
      "41\n"
     ]
    },
    {
     "name": "stderr",
     "output_type": "stream",
     "text": [
      "Info: Params [1.27729226 0.57324589 1.0216854  0.32363969 0.3696015 ] gave 281.82800648822115\n"
     ]
    },
    {
     "name": "stdout",
     "output_type": "stream",
     "text": [
      "   Drift Rate  Boundary Separation Speed      Bacc  Non-decision Time Speed  \\\n",
      "0    1.277292                   0.573246  1.021685                  0.32364   \n",
      "\n",
      "   Non-decision Time Accuracy         BIC  \n",
      "0                    0.369602  281.828006  \n",
      "42\n"
     ]
    },
    {
     "name": "stderr",
     "output_type": "stream",
     "text": [
      "Info: Params [1.02213056 0.65995688 0.89117549 0.34179704 0.38570486] gave 435.5935163063458\n"
     ]
    },
    {
     "name": "stdout",
     "output_type": "stream",
     "text": [
      "   Drift Rate  Boundary Separation Speed      Bacc  Non-decision Time Speed  \\\n",
      "0    1.022131                   0.659957  0.891175                 0.341797   \n",
      "\n",
      "   Non-decision Time Accuracy         BIC  \n",
      "0                    0.385705  435.593516  \n",
      "43\n"
     ]
    },
    {
     "name": "stderr",
     "output_type": "stream",
     "text": [
      "Info: Params [0.68047169 0.69337502 1.26938912 0.3174345  0.12218597] gave 792.6432633757363\n"
     ]
    },
    {
     "name": "stdout",
     "output_type": "stream",
     "text": [
      "   Drift Rate  Boundary Separation Speed      Bacc  Non-decision Time Speed  \\\n",
      "0    0.680472                   0.693375  1.269389                 0.317435   \n",
      "\n",
      "   Non-decision Time Accuracy         BIC  \n",
      "0                    0.122186  792.643263  \n",
      "44\n"
     ]
    },
    {
     "name": "stderr",
     "output_type": "stream",
     "text": [
      "Info: Params [1.53886677 0.61126531 0.88456268 0.3718995  0.385262  ] gave 149.70675579370518\n"
     ]
    },
    {
     "name": "stdout",
     "output_type": "stream",
     "text": [
      "   Drift Rate  Boundary Separation Speed      Bacc  Non-decision Time Speed  \\\n",
      "0    1.538867                   0.611265  0.884563                 0.371899   \n",
      "\n",
      "   Non-decision Time Accuracy         BIC  \n",
      "0                    0.385262  149.706756  \n",
      "45\n"
     ]
    },
    {
     "name": "stderr",
     "output_type": "stream",
     "text": [
      "Info: Params [1.26246935 0.69478147 0.84063114 0.35795878 0.4151738 ] gave 346.4888457790524\n"
     ]
    },
    {
     "name": "stdout",
     "output_type": "stream",
     "text": [
      "   Drift Rate  Boundary Separation Speed      Bacc  Non-decision Time Speed  \\\n",
      "0    1.262469                   0.694781  0.840631                 0.357959   \n",
      "\n",
      "   Non-decision Time Accuracy         BIC  \n",
      "0                    0.415174  346.488846  \n",
      "46\n"
     ]
    },
    {
     "name": "stderr",
     "output_type": "stream",
     "text": [
      "Info: Params [1.29616651 0.68572164 1.42049993 0.2948536  0.49429532] gave 412.05907564279573\n"
     ]
    },
    {
     "name": "stdout",
     "output_type": "stream",
     "text": [
      "   Drift Rate  Boundary Separation Speed    Bacc  Non-decision Time Speed  \\\n",
      "0    1.296167                   0.685722  1.4205                 0.294854   \n",
      "\n",
      "   Non-decision Time Accuracy         BIC  \n",
      "0                    0.494295  412.059076  \n"
     ]
    }
   ],
   "source": [
    "df_all = pd.DataFrame()\n",
    "for i in range(sample_size):\n",
    "    print(i)\n",
    "    path = os.path.join(data_dir+str(i+1)+\".csv\")\n",
    "    df = pd.read_csv(path, sep = \",\")\n",
    "    #df = df[df[\"cond\"]==SAT] # A condition\n",
    "    df = df[df[\"Time\"]<3]\n",
    "\n",
    "    samp = Sample.from_pandas_dataframe(df, rt_column_name=\"Time\", correct_column_name=\"Correct\")\n",
    "    df = get_DDM_result_sub_2a2ter(samp)\n",
    "    df_all = pd.concat((df_all,df))\n",
    "    print(df)\n",
    "df_OUM = df_all.copy()\n"
   ]
  },
  {
   "cell_type": "code",
   "execution_count": 6,
   "id": "3b05a53a",
   "metadata": {},
   "outputs": [],
   "source": [
    "df_OUM.to_csv(\"DDM2a2terresultEvans2017.csv\")"
   ]
  },
  {
   "cell_type": "code",
   "execution_count": 7,
   "id": "87e8797e",
   "metadata": {},
   "outputs": [
    {
     "data": {
      "text/plain": [
       "358.4425613055732"
      ]
     },
     "execution_count": 7,
     "metadata": {},
     "output_type": "execute_result"
    }
   ],
   "source": [
    "df_OUM[\"BIC\"].mean()"
   ]
  },
  {
   "cell_type": "code",
   "execution_count": null,
   "id": "c5baddcf",
   "metadata": {},
   "outputs": [],
   "source": []
  }
 ],
 "metadata": {
  "kernelspec": {
   "display_name": "Python 3 (ipykernel)",
   "language": "python",
   "name": "python3"
  },
  "language_info": {
   "codemirror_mode": {
    "name": "ipython",
    "version": 3
   },
   "file_extension": ".py",
   "mimetype": "text/x-python",
   "name": "python",
   "nbconvert_exporter": "python",
   "pygments_lexer": "ipython3",
   "version": "3.7.15"
  }
 },
 "nbformat": 4,
 "nbformat_minor": 5
}
