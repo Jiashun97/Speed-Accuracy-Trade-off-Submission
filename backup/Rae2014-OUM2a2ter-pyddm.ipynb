{
 "cells": [
  {
   "cell_type": "code",
   "execution_count": 1,
   "id": "2cda49de",
   "metadata": {},
   "outputs": [],
   "source": [
    "%run SAT_help_functions.ipynb"
   ]
  },
  {
   "cell_type": "code",
   "execution_count": null,
   "id": "bc081cf9",
   "metadata": {},
   "outputs": [],
   "source": []
  },
  {
   "cell_type": "markdown",
   "id": "4bd26666",
   "metadata": {},
   "source": [
    "## OUM"
   ]
  },
  {
   "cell_type": "code",
   "execution_count": null,
   "id": "9ef6c434",
   "metadata": {},
   "outputs": [],
   "source": []
  },
  {
   "cell_type": "code",
   "execution_count": 2,
   "id": "e776257c",
   "metadata": {},
   "outputs": [],
   "source": [
    "data_dir = \"/Users/wangjiashun/Desktop/Reserach on SAT/datasets/Evans2021/Rae2014/dataBySubject/sub\"\n",
    "sample_size = 34\n",
    "SAT_conds = [\"Speed\", \"Accuracy\"]"
   ]
  },
  {
   "cell_type": "code",
   "execution_count": 3,
   "id": "f434220f",
   "metadata": {},
   "outputs": [],
   "source": [
    "class BoundSpeedAcc(Bound):\n",
    "    name = \"BoundSpeedAcc\"\n",
    "    required_parameters = [\"Bspeed\", \"Bacc\"]\n",
    "    required_conditions = ['Cond']\n",
    "    def get_bound(self, conditions, *args, **kwargs):\n",
    "        assert self.Bacc > 0\n",
    "        assert self.Bspeed > 0\n",
    "        if conditions['Cond'] == 'Speed':\n",
    "            return self.Bspeed\n",
    "        elif conditions['Cond'] == 'Accuracy':\n",
    "            return self.Bacc\n",
    "        else:\n",
    "            print(\"Non-implemented SAT conditions\")"
   ]
  },
  {
   "cell_type": "code",
   "execution_count": null,
   "id": "bbb278a6",
   "metadata": {},
   "outputs": [],
   "source": []
  },
  {
   "cell_type": "code",
   "execution_count": 4,
   "id": "6e5e0074",
   "metadata": {},
   "outputs": [],
   "source": [
    "\n",
    "class NondecisionSpeedAcc(OverlayNonDecision):\n",
    "    name = \"DriftSpeedAcc\"\n",
    "    required_parameters = [\"tSpeed\", 'tAcc']\n",
    "    required_conditions = ['Cond']\n",
    "        \n",
    "    def get_nondecision_time(self, conditions, **kwargs):\n",
    "        if conditions['Cond'] == 'Speed':\n",
    "            return self.tSpeed \n",
    "        elif conditions['Cond'] == 'Accuracy':\n",
    "            return self.tAcc\n",
    "        else: \n",
    "            print(\"Non-implemented SAT conditions\")"
   ]
  },
  {
   "cell_type": "code",
   "execution_count": null,
   "id": "b1e0fe9b",
   "metadata": {},
   "outputs": [],
   "source": []
  },
  {
   "cell_type": "code",
   "execution_count": null,
   "id": "81235d16",
   "metadata": {},
   "outputs": [],
   "source": []
  },
  {
   "cell_type": "code",
   "execution_count": null,
   "id": "8a3f5185",
   "metadata": {},
   "outputs": [],
   "source": []
  },
  {
   "cell_type": "code",
   "execution_count": 5,
   "id": "fdb13001",
   "metadata": {
    "scrolled": true
   },
   "outputs": [
    {
     "name": "stdout",
     "output_type": "stream",
     "text": [
      "0\n"
     ]
    },
    {
     "name": "stderr",
     "output_type": "stream",
     "text": [
      "Info: Params [1.50144743 6.11491753 1.46771858 2.05364812 0.16338829 0.20607403] gave -980.4481645493846\n"
     ]
    },
    {
     "name": "stdout",
     "output_type": "stream",
     "text": [
      "   Drift Rate         x  Boundary Separation Speed      Bacc  \\\n",
      "0    1.501447  6.114918                   1.467719  2.053648   \n",
      "\n",
      "   Non-decision Time Speed  Non-decision Time Accuracy         BIC  \n",
      "0                 0.163388                    0.206074 -980.448165  \n",
      "1\n"
     ]
    },
    {
     "name": "stderr",
     "output_type": "stream",
     "text": [
      "Info: Params [1.09976175 9.94522961 2.7403597  7.51050249 0.14089638 0.1055367 ] gave -2160.8995087509484\n"
     ]
    },
    {
     "name": "stdout",
     "output_type": "stream",
     "text": [
      "   Drift Rate        x  Boundary Separation Speed      Bacc  \\\n",
      "0    1.099762  9.94523                    2.74036  7.510502   \n",
      "\n",
      "   Non-decision Time Speed  Non-decision Time Accuracy          BIC  \n",
      "0                 0.140896                    0.105537 -2160.899509  \n",
      "2\n"
     ]
    },
    {
     "name": "stderr",
     "output_type": "stream",
     "text": [
      "Info: Params [0.19990131 7.87864193 1.39235553 1.96277661 0.10007534 0.10024471] gave -328.7979168213916\n"
     ]
    },
    {
     "name": "stdout",
     "output_type": "stream",
     "text": [
      "   Drift Rate         x  Boundary Separation Speed      Bacc  \\\n",
      "0    0.199901  7.878642                   1.392356  1.962777   \n",
      "\n",
      "   Non-decision Time Speed  Non-decision Time Accuracy         BIC  \n",
      "0                 0.100075                    0.100245 -328.797917  \n",
      "3\n"
     ]
    },
    {
     "name": "stderr",
     "output_type": "stream",
     "text": [
      "Info: Params [2.30810058 9.81069788 0.82166168 1.29054216 0.27393069 0.2605991 ] gave -3788.236040876216\n"
     ]
    },
    {
     "name": "stdout",
     "output_type": "stream",
     "text": [
      "   Drift Rate         x  Boundary Separation Speed      Bacc  \\\n",
      "0    2.308101  9.810698                   0.821662  1.290542   \n",
      "\n",
      "   Non-decision Time Speed  Non-decision Time Accuracy          BIC  \n",
      "0                 0.273931                    0.260599 -3788.236041  \n",
      "4\n"
     ]
    },
    {
     "name": "stderr",
     "output_type": "stream",
     "text": [
      "Info: Params [0.35060976 7.77854025 1.36352887 1.97714348 0.1003486  0.10058199] gave -186.78389663727887\n"
     ]
    },
    {
     "name": "stdout",
     "output_type": "stream",
     "text": [
      "   Drift Rate        x  Boundary Separation Speed      Bacc  \\\n",
      "0     0.35061  7.77854                   1.363529  1.977143   \n",
      "\n",
      "   Non-decision Time Speed  Non-decision Time Accuracy         BIC  \n",
      "0                 0.100349                    0.100582 -186.783897  \n",
      "5\n"
     ]
    },
    {
     "name": "stderr",
     "output_type": "stream",
     "text": [
      "Info: Params [ 1.97110651 10.          1.21554431  1.13375507  0.21258803  0.24990566] gave -1717.0124956445977\n"
     ]
    },
    {
     "name": "stdout",
     "output_type": "stream",
     "text": [
      "   Drift Rate     x  Boundary Separation Speed      Bacc  \\\n",
      "0    1.971107  10.0                   1.215544  1.133755   \n",
      "\n",
      "   Non-decision Time Speed  Non-decision Time Accuracy          BIC  \n",
      "0                 0.212588                    0.249906 -1717.012496  \n",
      "6\n"
     ]
    },
    {
     "name": "stderr",
     "output_type": "stream",
     "text": [
      "Info: Params [ 1.54610467 10.          1.41710948  1.88885437  0.21674972  0.22729678] gave -2867.765818667849\n"
     ]
    },
    {
     "name": "stdout",
     "output_type": "stream",
     "text": [
      "   Drift Rate     x  Boundary Separation Speed      Bacc  \\\n",
      "0    1.546105  10.0                   1.417109  1.888854   \n",
      "\n",
      "   Non-decision Time Speed  Non-decision Time Accuracy          BIC  \n",
      "0                  0.21675                    0.227297 -2867.765819  \n",
      "7\n"
     ]
    },
    {
     "name": "stderr",
     "output_type": "stream",
     "text": [
      "Info: Params [1.77459506 4.62536215 0.53283536 1.00502198 0.24810216 0.24949367] gave -1794.4261061562377\n"
     ]
    },
    {
     "name": "stdout",
     "output_type": "stream",
     "text": [
      "   Drift Rate         x  Boundary Separation Speed      Bacc  \\\n",
      "0    1.774595  4.625362                   0.532835  1.005022   \n",
      "\n",
      "   Non-decision Time Speed  Non-decision Time Accuracy          BIC  \n",
      "0                 0.248102                    0.249494 -1794.426106  \n",
      "8\n"
     ]
    },
    {
     "name": "stderr",
     "output_type": "stream",
     "text": [
      "Info: Params [1.77265928 9.27797776 1.41717741 2.48277951 0.23971547 0.2109357 ] gave -1328.7791582837403\n"
     ]
    },
    {
     "name": "stdout",
     "output_type": "stream",
     "text": [
      "   Drift Rate         x  Boundary Separation Speed     Bacc  \\\n",
      "0    1.772659  9.277978                   1.417177  2.48278   \n",
      "\n",
      "   Non-decision Time Speed  Non-decision Time Accuracy          BIC  \n",
      "0                 0.239715                    0.210936 -1328.779158  \n",
      "9\n"
     ]
    },
    {
     "name": "stderr",
     "output_type": "stream",
     "text": [
      "Info: Params [1.16918026 9.84375029 2.03909378 1.73867832 0.14769411 0.20631824] gave -1992.4294642515986\n"
     ]
    },
    {
     "name": "stdout",
     "output_type": "stream",
     "text": [
      "   Drift Rate        x  Boundary Separation Speed      Bacc  \\\n",
      "0     1.16918  9.84375                   2.039094  1.738678   \n",
      "\n",
      "   Non-decision Time Speed  Non-decision Time Accuracy          BIC  \n",
      "0                 0.147694                    0.206318 -1992.429464  \n",
      "10\n"
     ]
    },
    {
     "name": "stderr",
     "output_type": "stream",
     "text": [
      "Info: Params [0.11572978 7.74553942 1.26021046 1.41470133 0.10390685 0.10151988] gave -455.40773464590126\n"
     ]
    },
    {
     "name": "stdout",
     "output_type": "stream",
     "text": [
      "   Drift Rate         x  Boundary Separation Speed      Bacc  \\\n",
      "0     0.11573  7.745539                    1.26021  1.414701   \n",
      "\n",
      "   Non-decision Time Speed  Non-decision Time Accuracy         BIC  \n",
      "0                 0.103907                     0.10152 -455.407735  \n",
      "11\n"
     ]
    },
    {
     "name": "stderr",
     "output_type": "stream",
     "text": [
      "Info: Params [1.04071355 4.36046424 0.70461222 1.44396732 0.19460365 0.19967347] gave 102.85103300177488\n"
     ]
    },
    {
     "name": "stdout",
     "output_type": "stream",
     "text": [
      "   Drift Rate         x  Boundary Separation Speed      Bacc  \\\n",
      "0    1.040714  4.360464                   0.704612  1.443967   \n",
      "\n",
      "   Non-decision Time Speed  Non-decision Time Accuracy         BIC  \n",
      "0                 0.194604                    0.199673  102.851033  \n",
      "12\n"
     ]
    },
    {
     "name": "stderr",
     "output_type": "stream",
     "text": [
      "Info: Params [0.55123126 7.53569875 1.60642831 2.82441474 0.10026562 0.10037032] gave -316.40805783297196\n"
     ]
    },
    {
     "name": "stdout",
     "output_type": "stream",
     "text": [
      "   Drift Rate         x  Boundary Separation Speed      Bacc  \\\n",
      "0    0.551231  7.535699                   1.606428  2.824415   \n",
      "\n",
      "   Non-decision Time Speed  Non-decision Time Accuracy         BIC  \n",
      "0                 0.100266                     0.10037 -316.408058  \n",
      "13\n"
     ]
    },
    {
     "name": "stderr",
     "output_type": "stream",
     "text": [
      "Info: Params [0.32258685 5.64840541 0.50166482 0.68508518 0.16504924 0.16169551] gave -277.32624924210694\n"
     ]
    },
    {
     "name": "stdout",
     "output_type": "stream",
     "text": [
      "   Drift Rate         x  Boundary Separation Speed      Bacc  \\\n",
      "0    0.322587  5.648405                   0.501665  0.685085   \n",
      "\n",
      "   Non-decision Time Speed  Non-decision Time Accuracy         BIC  \n",
      "0                 0.165049                    0.161696 -277.326249  \n",
      "14\n"
     ]
    },
    {
     "name": "stderr",
     "output_type": "stream",
     "text": [
      "Info: Params [1.11259921 8.5374085  4.18364536 2.34838897 0.14663115 0.22973966] gave -1399.7880709121202\n"
     ]
    },
    {
     "name": "stdout",
     "output_type": "stream",
     "text": [
      "   Drift Rate         x  Boundary Separation Speed      Bacc  \\\n",
      "0    1.112599  8.537409                   4.183645  2.348389   \n",
      "\n",
      "   Non-decision Time Speed  Non-decision Time Accuracy          BIC  \n",
      "0                 0.146631                     0.22974 -1399.788071  \n",
      "15\n"
     ]
    },
    {
     "name": "stderr",
     "output_type": "stream",
     "text": [
      "Info: Params [0.31029702 6.29955668 0.7784569  1.13227991 0.16460789 0.15140403] gave 253.25294557537347\n"
     ]
    },
    {
     "name": "stdout",
     "output_type": "stream",
     "text": [
      "   Drift Rate         x  Boundary Separation Speed     Bacc  \\\n",
      "0    0.310297  6.299557                   0.778457  1.13228   \n",
      "\n",
      "   Non-decision Time Speed  Non-decision Time Accuracy         BIC  \n",
      "0                 0.164608                    0.151404  253.252946  \n",
      "16\n"
     ]
    },
    {
     "name": "stderr",
     "output_type": "stream",
     "text": [
      "Info: Params [0.45085962 9.87085986 1.31488101 2.14031534 0.11195906 0.10098255] gave -1446.196179468844\n"
     ]
    },
    {
     "name": "stdout",
     "output_type": "stream",
     "text": [
      "   Drift Rate        x  Boundary Separation Speed      Bacc  \\\n",
      "0     0.45086  9.87086                   1.314881  2.140315   \n",
      "\n",
      "   Non-decision Time Speed  Non-decision Time Accuracy          BIC  \n",
      "0                 0.111959                    0.100983 -1446.196179  \n",
      "17\n"
     ]
    },
    {
     "name": "stderr",
     "output_type": "stream",
     "text": [
      "Info: Params [0.6765483  4.9217762  0.67666163 1.67705879 0.13884892 0.10109592] gave 476.3816286001401\n"
     ]
    },
    {
     "name": "stdout",
     "output_type": "stream",
     "text": [
      "   Drift Rate         x  Boundary Separation Speed      Bacc  \\\n",
      "0    0.676548  4.921776                   0.676662  1.677059   \n",
      "\n",
      "   Non-decision Time Speed  Non-decision Time Accuracy         BIC  \n",
      "0                 0.138849                    0.101096  476.381629  \n",
      "18\n"
     ]
    },
    {
     "name": "stderr",
     "output_type": "stream",
     "text": [
      "Info: Params [2.35293784 6.86979558 4.47699112 2.17417446 0.21636376 0.31746197] gave -2602.547444593207\n"
     ]
    },
    {
     "name": "stdout",
     "output_type": "stream",
     "text": [
      "   Drift Rate         x  Boundary Separation Speed      Bacc  \\\n",
      "0    2.352938  6.869796                   4.476991  2.174174   \n",
      "\n",
      "   Non-decision Time Speed  Non-decision Time Accuracy          BIC  \n",
      "0                 0.216364                    0.317462 -2602.547445  \n",
      "19\n"
     ]
    },
    {
     "name": "stderr",
     "output_type": "stream",
     "text": [
      "Info: Params [0.37326179 9.35448345 1.96871112 2.84488409 0.1040588  0.10346265] gave -1159.4532485749407\n"
     ]
    },
    {
     "name": "stdout",
     "output_type": "stream",
     "text": [
      "   Drift Rate         x  Boundary Separation Speed      Bacc  \\\n",
      "0    0.373262  9.354483                   1.968711  2.844884   \n",
      "\n",
      "   Non-decision Time Speed  Non-decision Time Accuracy          BIC  \n",
      "0                 0.104059                    0.103463 -1159.453249  \n",
      "20\n"
     ]
    },
    {
     "name": "stderr",
     "output_type": "stream",
     "text": [
      "Info: Params [0.13196925 7.64580055 0.71653124 1.16419989 0.14515642 0.10125612] gave -636.2352484391755\n"
     ]
    },
    {
     "name": "stdout",
     "output_type": "stream",
     "text": [
      "   Drift Rate         x  Boundary Separation Speed    Bacc  \\\n",
      "0    0.131969  7.645801                   0.716531  1.1642   \n",
      "\n",
      "   Non-decision Time Speed  Non-decision Time Accuracy         BIC  \n",
      "0                 0.145156                    0.101256 -636.235248  \n",
      "21\n"
     ]
    },
    {
     "name": "stderr",
     "output_type": "stream",
     "text": [
      "Info: Params [0.44297238 5.62195669 1.15461321 1.95113594 0.12088933 0.10087786] gave 817.2724939680877\n"
     ]
    },
    {
     "name": "stdout",
     "output_type": "stream",
     "text": [
      "   Drift Rate         x  Boundary Separation Speed      Bacc  \\\n",
      "0    0.442972  5.621957                   1.154613  1.951136   \n",
      "\n",
      "   Non-decision Time Speed  Non-decision Time Accuracy         BIC  \n",
      "0                 0.120889                    0.100878  817.272494  \n",
      "22\n"
     ]
    },
    {
     "name": "stderr",
     "output_type": "stream",
     "text": [
      "Info: Params [0.09179528 6.85218749 0.5003822  0.81802193 0.16331696 0.13818   ] gave -809.3658464009834\n"
     ]
    },
    {
     "name": "stdout",
     "output_type": "stream",
     "text": [
      "   Drift Rate         x  Boundary Separation Speed      Bacc  \\\n",
      "0    0.091795  6.852187                   0.500382  0.818022   \n",
      "\n",
      "   Non-decision Time Speed  Non-decision Time Accuracy         BIC  \n",
      "0                 0.163317                     0.13818 -809.365846  \n",
      "23\n"
     ]
    },
    {
     "name": "stderr",
     "output_type": "stream",
     "text": [
      "Info: Params [0.2199727  7.29576067 1.35592039 2.38441084 0.10047063 0.1005298 ] gave -9.767618985244333\n"
     ]
    },
    {
     "name": "stdout",
     "output_type": "stream",
     "text": [
      "   Drift Rate         x  Boundary Separation Speed      Bacc  \\\n",
      "0    0.219973  7.295761                    1.35592  2.384411   \n",
      "\n",
      "   Non-decision Time Speed  Non-decision Time Accuracy       BIC  \n",
      "0                 0.100471                     0.10053 -9.767619  \n",
      "24\n"
     ]
    },
    {
     "name": "stderr",
     "output_type": "stream",
     "text": [
      "Info: Params [0.56592859 3.59103007 0.50056111 1.76373286 0.15409073 0.10144544] gave 371.507102121264\n"
     ]
    },
    {
     "name": "stdout",
     "output_type": "stream",
     "text": [
      "   Drift Rate        x  Boundary Separation Speed      Bacc  \\\n",
      "0    0.565929  3.59103                   0.500561  1.763733   \n",
      "\n",
      "   Non-decision Time Speed  Non-decision Time Accuracy         BIC  \n",
      "0                 0.154091                    0.101445  371.507102  \n",
      "25\n"
     ]
    },
    {
     "name": "stderr",
     "output_type": "stream",
     "text": [
      "Info: Params [0.56706595 9.39066633 1.64208715 2.23097873 0.1208273  0.10111205] gave -677.4807071708649\n"
     ]
    },
    {
     "name": "stdout",
     "output_type": "stream",
     "text": [
      "   Drift Rate         x  Boundary Separation Speed      Bacc  \\\n",
      "0    0.567066  9.390666                   1.642087  2.230979   \n",
      "\n",
      "   Non-decision Time Speed  Non-decision Time Accuracy         BIC  \n",
      "0                 0.120827                    0.101112 -677.480707  \n",
      "26\n"
     ]
    },
    {
     "name": "stderr",
     "output_type": "stream",
     "text": [
      "Info: Params [1.26879547 6.44585448 0.74798109 1.49564668 0.17081578 0.17346602] gave -603.2695731828451\n"
     ]
    },
    {
     "name": "stdout",
     "output_type": "stream",
     "text": [
      "   Drift Rate         x  Boundary Separation Speed      Bacc  \\\n",
      "0    1.268795  6.445854                   0.747981  1.495647   \n",
      "\n",
      "   Non-decision Time Speed  Non-decision Time Accuracy         BIC  \n",
      "0                 0.170816                    0.173466 -603.269573  \n",
      "27\n"
     ]
    },
    {
     "name": "stderr",
     "output_type": "stream",
     "text": [
      "Info: Params [ 0.04132699 10.          2.1907305   2.44778944  0.10589315  0.11627289] gave -1021.7692931374468\n"
     ]
    },
    {
     "name": "stdout",
     "output_type": "stream",
     "text": [
      "   Drift Rate     x  Boundary Separation Speed      Bacc  \\\n",
      "0    0.041327  10.0                    2.19073  2.447789   \n",
      "\n",
      "   Non-decision Time Speed  Non-decision Time Accuracy          BIC  \n",
      "0                 0.105893                    0.116273 -1021.769293  \n",
      "28\n"
     ]
    },
    {
     "name": "stderr",
     "output_type": "stream",
     "text": [
      "Info: Params [0.38466445 7.05606269 0.88189893 2.12860073 0.13366544 0.10036896] gave -22.312545167802064\n"
     ]
    },
    {
     "name": "stdout",
     "output_type": "stream",
     "text": [
      "   Drift Rate         x  Boundary Separation Speed      Bacc  \\\n",
      "0    0.384664  7.056063                   0.881899  2.128601   \n",
      "\n",
      "   Non-decision Time Speed  Non-decision Time Accuracy        BIC  \n",
      "0                 0.133665                    0.100369 -22.312545  \n",
      "29\n"
     ]
    },
    {
     "name": "stderr",
     "output_type": "stream",
     "text": [
      "Info: Params [0.10751979 6.57083484 1.29730083 1.55030502 0.1002778  0.10045155] gave 277.78650131120315\n"
     ]
    },
    {
     "name": "stdout",
     "output_type": "stream",
     "text": [
      "   Drift Rate         x  Boundary Separation Speed      Bacc  \\\n",
      "0     0.10752  6.570835                   1.297301  1.550305   \n",
      "\n",
      "   Non-decision Time Speed  Non-decision Time Accuracy         BIC  \n",
      "0                 0.100278                    0.100452  277.786501  \n",
      "30\n"
     ]
    },
    {
     "name": "stderr",
     "output_type": "stream",
     "text": [
      "Info: Params [0.08842208 8.03471099 1.23605001 1.22630597 0.1034494  0.10383824] gave -135.574540320006\n"
     ]
    },
    {
     "name": "stdout",
     "output_type": "stream",
     "text": [
      "   Drift Rate         x  Boundary Separation Speed      Bacc  \\\n",
      "0    0.088422  8.034711                    1.23605  1.226306   \n",
      "\n",
      "   Non-decision Time Speed  Non-decision Time Accuracy        BIC  \n",
      "0                 0.103449                    0.103838 -135.57454  \n",
      "31\n"
     ]
    },
    {
     "name": "stderr",
     "output_type": "stream",
     "text": [
      "Info: Params [0.26313052 7.11347231 0.80819716 0.99129908 0.14409316 0.13264395] gave -40.34508965871483\n"
     ]
    },
    {
     "name": "stdout",
     "output_type": "stream",
     "text": [
      "   Drift Rate         x  Boundary Separation Speed      Bacc  \\\n",
      "0    0.263131  7.113472                   0.808197  0.991299   \n",
      "\n",
      "   Non-decision Time Speed  Non-decision Time Accuracy       BIC  \n",
      "0                 0.144093                    0.132644 -40.34509  \n",
      "32\n"
     ]
    },
    {
     "name": "stderr",
     "output_type": "stream",
     "text": [
      "Info: Params [0.11000243 6.47905879 1.24030647 1.5282548  0.10340442 0.10005177] gave 278.55171822632644\n"
     ]
    },
    {
     "name": "stdout",
     "output_type": "stream",
     "text": [
      "   Drift Rate         x  Boundary Separation Speed      Bacc  \\\n",
      "0    0.110002  6.479059                   1.240306  1.528255   \n",
      "\n",
      "   Non-decision Time Speed  Non-decision Time Accuracy         BIC  \n",
      "0                 0.103404                    0.100052  278.551718  \n",
      "33\n"
     ]
    },
    {
     "name": "stderr",
     "output_type": "stream",
     "text": [
      "Info: Params [0.31063534 3.6487017  0.58451992 1.92817965 0.1750101  0.10055944] gave 623.8960597236176\n"
     ]
    },
    {
     "name": "stdout",
     "output_type": "stream",
     "text": [
      "   Drift Rate         x  Boundary Separation Speed     Bacc  \\\n",
      "0    0.310635  3.648702                    0.58452  1.92818   \n",
      "\n",
      "   Non-decision Time Speed  Non-decision Time Accuracy        BIC  \n",
      "0                  0.17501                    0.100559  623.89606  \n"
     ]
    }
   ],
   "source": [
    "df_all = pd.DataFrame()\n",
    "for i in range(sample_size):\n",
    "    print(i)\n",
    "    path = os.path.join(data_dir+str(i+1)+\".csv\")\n",
    "    df = pd.read_csv(path, sep = \",\")\n",
    "    #df = df[df[\"cond\"]==SAT] # A condition\n",
    "    df = df[df[\"Time\"]<3]\n",
    "\n",
    "    samp = Sample.from_pandas_dataframe(df, rt_column_name=\"Time\", correct_column_name=\"Correct\")\n",
    "    df = get_OUM_result_sub_2a2ter(samp)\n",
    "    df_all = pd.concat((df_all,df))\n",
    "    print(df)\n",
    "df_OUM = df_all.copy()\n"
   ]
  },
  {
   "cell_type": "code",
   "execution_count": 6,
   "id": "3b05a53a",
   "metadata": {},
   "outputs": [],
   "source": [
    "df_OUM.to_csv(\"OUM2a2terresultRae2014.csv\")"
   ]
  },
  {
   "cell_type": "code",
   "execution_count": 7,
   "id": "87e8797e",
   "metadata": {},
   "outputs": [
    {
     "data": {
      "text/plain": [
       "-751.6860745836657"
      ]
     },
     "execution_count": 7,
     "metadata": {},
     "output_type": "execute_result"
    }
   ],
   "source": [
    "df_OUM[\"BIC\"].mean()"
   ]
  },
  {
   "cell_type": "code",
   "execution_count": 9,
   "id": "66bb2313",
   "metadata": {},
   "outputs": [
    {
     "name": "stdout",
     "output_type": "stream",
     "text": [
      "0\n"
     ]
    },
    {
     "name": "stderr",
     "output_type": "stream",
     "text": [
      "Info: Params [1.4951895  6.59737199 5.7618892  1.74531275 0.14814469 0.22255704] gave -985.8942089690346\n"
     ]
    },
    {
     "name": "stdout",
     "output_type": "stream",
     "text": [
      "   Drift Rate  Self-excitation Speed  Self-excitation Accuracy  \\\n",
      "0     1.49519               6.597372                  5.761889   \n",
      "\n",
      "   Boundary Separation  Non-decision Time Speed  Non-decision Time Accuracy  \\\n",
      "0             1.745313                 0.148145                    0.222557   \n",
      "\n",
      "          BIC  \n",
      "0 -985.894209  \n",
      "1\n"
     ]
    },
    {
     "name": "stderr",
     "output_type": "stream",
     "text": [
      "Info: Params [ 1.10957992 10.          9.77190192  4.12231627  0.1015498   0.16075572] gave -2157.110345580358\n"
     ]
    },
    {
     "name": "stdout",
     "output_type": "stream",
     "text": [
      "   Drift Rate  Self-excitation Speed  Self-excitation Accuracy  \\\n",
      "0     1.10958                   10.0                  9.771902   \n",
      "\n",
      "   Boundary Separation  Non-decision Time Speed  Non-decision Time Accuracy  \\\n",
      "0             4.122316                  0.10155                    0.160756   \n",
      "\n",
      "           BIC  \n",
      "0 -2157.110346  \n",
      "2\n"
     ]
    },
    {
     "name": "stderr",
     "output_type": "stream",
     "text": [
      "Info: Params [0.20900879 8.00468599 6.89900601 1.47450945 0.10041567 0.11458039] gave -309.48611952936176\n"
     ]
    },
    {
     "name": "stdout",
     "output_type": "stream",
     "text": [
      "   Drift Rate  Self-excitation Speed  Self-excitation Accuracy  \\\n",
      "0    0.209009               8.004686                  6.899006   \n",
      "\n",
      "   Boundary Separation  Non-decision Time Speed  Non-decision Time Accuracy  \\\n",
      "0             1.474509                 0.100416                     0.11458   \n",
      "\n",
      "         BIC  \n",
      "0 -309.48612  \n",
      "3\n"
     ]
    },
    {
     "name": "stderr",
     "output_type": "stream",
     "text": [
      "Info: Params [2.35393481 9.48247713 8.5578461  0.84411716 0.27230054 0.28619273] gave -3762.56474357806\n"
     ]
    },
    {
     "name": "stdout",
     "output_type": "stream",
     "text": [
      "   Drift Rate  Self-excitation Speed  Self-excitation Accuracy  \\\n",
      "0    2.353935               9.482477                  8.557846   \n",
      "\n",
      "   Boundary Separation  Non-decision Time Speed  Non-decision Time Accuracy  \\\n",
      "0             0.844117                 0.272301                    0.286193   \n",
      "\n",
      "           BIC  \n",
      "0 -3762.564744  \n",
      "4\n"
     ]
    },
    {
     "name": "stderr",
     "output_type": "stream",
     "text": [
      "Info: Params [0.38205805 8.68788355 7.02861743 1.56763502 0.10069209 0.1134911 ] gave -180.223370529718\n"
     ]
    },
    {
     "name": "stdout",
     "output_type": "stream",
     "text": [
      "   Drift Rate  Self-excitation Speed  Self-excitation Accuracy  \\\n",
      "0    0.382058               8.687884                  7.028617   \n",
      "\n",
      "   Boundary Separation  Non-decision Time Speed  Non-decision Time Accuracy  \\\n",
      "0             1.567635                 0.100692                    0.113491   \n",
      "\n",
      "          BIC  \n",
      "0 -180.223371  \n",
      "5\n"
     ]
    },
    {
     "name": "stderr",
     "output_type": "stream",
     "text": [
      "Info: Params [ 1.98812858  9.4023825  10.          1.13662092  0.21601103  0.24724859] gave -1718.536032146481\n"
     ]
    },
    {
     "name": "stdout",
     "output_type": "stream",
     "text": [
      "   Drift Rate  Self-excitation Speed  Self-excitation Accuracy  \\\n",
      "0    1.988129               9.402382                      10.0   \n",
      "\n",
      "   Boundary Separation  Non-decision Time Speed  Non-decision Time Accuracy  \\\n",
      "0             1.136621                 0.216011                    0.247249   \n",
      "\n",
      "           BIC  \n",
      "0 -1718.536032  \n",
      "6\n"
     ]
    },
    {
     "name": "stderr",
     "output_type": "stream",
     "text": [
      "Info: Params [ 1.54769265 10.          9.9164351   1.467297    0.2115043   0.24938973] gave -2864.3888911620224\n"
     ]
    },
    {
     "name": "stdout",
     "output_type": "stream",
     "text": [
      "   Drift Rate  Self-excitation Speed  Self-excitation Accuracy  \\\n",
      "0    1.547693                   10.0                  9.916435   \n",
      "\n",
      "   Boundary Separation  Non-decision Time Speed  Non-decision Time Accuracy  \\\n",
      "0             1.467297                 0.211504                     0.24939   \n",
      "\n",
      "           BIC  \n",
      "0 -2864.388891  \n",
      "7\n"
     ]
    },
    {
     "name": "stderr",
     "output_type": "stream",
     "text": [
      "Info: Params [1.73928551 9.50756022 3.44432405 0.86501556 0.23330112 0.25613092] gave -1954.3903696020163\n"
     ]
    },
    {
     "name": "stdout",
     "output_type": "stream",
     "text": [
      "   Drift Rate  Self-excitation Speed  Self-excitation Accuracy  \\\n",
      "0    1.739286                9.50756                  3.444324   \n",
      "\n",
      "   Boundary Separation  Non-decision Time Speed  Non-decision Time Accuracy  \\\n",
      "0             0.865016                 0.233301                    0.256131   \n",
      "\n",
      "          BIC  \n",
      "0 -1954.39037  \n",
      "8\n"
     ]
    },
    {
     "name": "stderr",
     "output_type": "stream",
     "text": [
      "Info: Params [1.77381773 9.78005426 8.73440511 1.78291765 0.22248227 0.23602446] gave -1327.1201101528545\n"
     ]
    },
    {
     "name": "stdout",
     "output_type": "stream",
     "text": [
      "   Drift Rate  Self-excitation Speed  Self-excitation Accuracy  \\\n",
      "0    1.773818               9.780054                  8.734405   \n",
      "\n",
      "   Boundary Separation  Non-decision Time Speed  Non-decision Time Accuracy  \\\n",
      "0             1.782918                 0.222482                    0.236024   \n",
      "\n",
      "          BIC  \n",
      "0 -1327.12011  \n",
      "9\n"
     ]
    },
    {
     "name": "stderr",
     "output_type": "stream",
     "text": [
      "Info: Params [ 1.19248849 10.          9.12723511  1.87769574  0.15778096  0.19197335] gave -2001.8482515359108\n"
     ]
    },
    {
     "name": "stdout",
     "output_type": "stream",
     "text": [
      "   Drift Rate  Self-excitation Speed  Self-excitation Accuracy  \\\n",
      "0    1.192488                   10.0                  9.127235   \n",
      "\n",
      "   Boundary Separation  Non-decision Time Speed  Non-decision Time Accuracy  \\\n",
      "0             1.877696                 0.157781                    0.191973   \n",
      "\n",
      "           BIC  \n",
      "0 -2001.848252  \n",
      "10\n"
     ]
    },
    {
     "name": "stderr",
     "output_type": "stream",
     "text": [
      "Info: Params [0.11740212 7.74094538 7.53720126 1.30117368 0.1007923  0.10596044] gave -451.1815701963916\n"
     ]
    },
    {
     "name": "stdout",
     "output_type": "stream",
     "text": [
      "   Drift Rate  Self-excitation Speed  Self-excitation Accuracy  \\\n",
      "0    0.117402               7.740945                  7.537201   \n",
      "\n",
      "   Boundary Separation  Non-decision Time Speed  Non-decision Time Accuracy  \\\n",
      "0             1.301174                 0.100792                     0.10596   \n",
      "\n",
      "         BIC  \n",
      "0 -451.18157  \n",
      "11\n"
     ]
    },
    {
     "name": "stderr",
     "output_type": "stream",
     "text": [
      "Info: Params [1.03334825 9.04845458 3.57823125 1.25856409 0.17499906 0.20718118] gave -162.14604907585075\n"
     ]
    },
    {
     "name": "stdout",
     "output_type": "stream",
     "text": [
      "   Drift Rate  Self-excitation Speed  Self-excitation Accuracy  \\\n",
      "0    1.033348               9.048455                  3.578231   \n",
      "\n",
      "   Boundary Separation  Non-decision Time Speed  Non-decision Time Accuracy  \\\n",
      "0             1.258564                 0.174999                    0.207181   \n",
      "\n",
      "          BIC  \n",
      "0 -162.146049  \n",
      "12\n"
     ]
    },
    {
     "name": "stderr",
     "output_type": "stream",
     "text": [
      "Info: Params [0.58876456 8.23747488 6.72235836 1.81318248 0.10090986 0.13685013] gave -301.24792272434377\n"
     ]
    },
    {
     "name": "stdout",
     "output_type": "stream",
     "text": [
      "   Drift Rate  Self-excitation Speed  Self-excitation Accuracy  \\\n",
      "0    0.588765               8.237475                  6.722358   \n",
      "\n",
      "   Boundary Separation  Non-decision Time Speed  Non-decision Time Accuracy  \\\n",
      "0             1.813182                  0.10091                     0.13685   \n",
      "\n",
      "          BIC  \n",
      "0 -301.247923  \n",
      "13\n"
     ]
    },
    {
     "name": "stderr",
     "output_type": "stream",
     "text": [
      "Info: Params [0.32310225 8.8295675  4.5301924  0.61901366 0.15646401 0.16800897] gave -291.09862058852406\n"
     ]
    },
    {
     "name": "stdout",
     "output_type": "stream",
     "text": [
      "   Drift Rate  Self-excitation Speed  Self-excitation Accuracy  \\\n",
      "0    0.323102               8.829568                  4.530192   \n",
      "\n",
      "   Boundary Separation  Non-decision Time Speed  Non-decision Time Accuracy  \\\n",
      "0             0.619014                 0.156464                    0.168009   \n",
      "\n",
      "          BIC  \n",
      "0 -291.098621  \n",
      "14\n"
     ]
    },
    {
     "name": "stderr",
     "output_type": "stream",
     "text": [
      "Info: Params [1.09520866 8.70965763 8.90468901 3.84672279 0.16152742 0.18270926] gave -1398.6717923406989\n"
     ]
    },
    {
     "name": "stdout",
     "output_type": "stream",
     "text": [
      "   Drift Rate  Self-excitation Speed  Self-excitation Accuracy  \\\n",
      "0    1.095209               8.709658                  8.904689   \n",
      "\n",
      "   Boundary Separation  Non-decision Time Speed  Non-decision Time Accuracy  \\\n",
      "0             3.846723                 0.161527                    0.182709   \n",
      "\n",
      "           BIC  \n",
      "0 -1398.671792  \n",
      "15\n"
     ]
    },
    {
     "name": "stderr",
     "output_type": "stream",
     "text": [
      "Info: Params [0.32617772 7.98123734 5.56117293 0.98510727 0.15215412 0.16168205] gave 209.6766741312136\n"
     ]
    },
    {
     "name": "stdout",
     "output_type": "stream",
     "text": [
      "   Drift Rate  Self-excitation Speed  Self-excitation Accuracy  \\\n",
      "0    0.326178               7.981237                  5.561173   \n",
      "\n",
      "   Boundary Separation  Non-decision Time Speed  Non-decision Time Accuracy  \\\n",
      "0             0.985107                 0.152154                    0.161682   \n",
      "\n",
      "          BIC  \n",
      "0  209.676674  \n",
      "16\n"
     ]
    },
    {
     "name": "stderr",
     "output_type": "stream",
     "text": [
      "Info: Params [ 0.47905308 10.          8.86905709  1.52098484  0.10022982  0.12071733] gave -1443.4331390001685\n"
     ]
    },
    {
     "name": "stdout",
     "output_type": "stream",
     "text": [
      "   Drift Rate  Self-excitation Speed  Self-excitation Accuracy  \\\n",
      "0    0.479053                   10.0                  8.869057   \n",
      "\n",
      "   Boundary Separation  Non-decision Time Speed  Non-decision Time Accuracy  \\\n",
      "0             1.520985                  0.10023                    0.120717   \n",
      "\n",
      "           BIC  \n",
      "0 -1443.433139  \n",
      "17\n"
     ]
    },
    {
     "name": "stderr",
     "output_type": "stream",
     "text": [
      "Info: Params [0.71689944 7.38857685 4.03177915 1.13034021 0.10021916 0.14001938] gave 548.3180053429129\n"
     ]
    },
    {
     "name": "stdout",
     "output_type": "stream",
     "text": [
      "   Drift Rate  Self-excitation Speed  Self-excitation Accuracy  \\\n",
      "0    0.716899               7.388577                  4.031779   \n",
      "\n",
      "   Boundary Separation  Non-decision Time Speed  Non-decision Time Accuracy  \\\n",
      "0              1.13034                 0.100219                    0.140019   \n",
      "\n",
      "          BIC  \n",
      "0  548.318005  \n",
      "18\n"
     ]
    },
    {
     "name": "stderr",
     "output_type": "stream",
     "text": [
      "Info: Params [2.38799326 6.43118824 6.93483018 2.12482894 0.30670766 0.32206584] gave -2621.354948820943\n"
     ]
    },
    {
     "name": "stdout",
     "output_type": "stream",
     "text": [
      "   Drift Rate  Self-excitation Speed  Self-excitation Accuracy  \\\n",
      "0    2.387993               6.431188                   6.93483   \n",
      "\n",
      "   Boundary Separation  Non-decision Time Speed  Non-decision Time Accuracy  \\\n",
      "0             2.124829                 0.306708                    0.322066   \n",
      "\n",
      "           BIC  \n",
      "0 -2621.354949  \n",
      "19\n"
     ]
    },
    {
     "name": "stderr",
     "output_type": "stream",
     "text": [
      "Info: Params [ 0.38489567 10.          8.77056431  2.30009703  0.10068607  0.11455495] gave -1161.5055849172816\n"
     ]
    },
    {
     "name": "stdout",
     "output_type": "stream",
     "text": [
      "   Drift Rate  Self-excitation Speed  Self-excitation Accuracy  \\\n",
      "0    0.384896                   10.0                  8.770564   \n",
      "\n",
      "   Boundary Separation  Non-decision Time Speed  Non-decision Time Accuracy  \\\n",
      "0             2.300097                 0.100686                    0.114555   \n",
      "\n",
      "           BIC  \n",
      "0 -1161.505585  \n",
      "20\n"
     ]
    },
    {
     "name": "stderr",
     "output_type": "stream",
     "text": [
      "Info: Params [0.10998803 9.51575503 7.65999633 1.18223115 0.10928895 0.10168183] gave -659.1096041322254\n"
     ]
    },
    {
     "name": "stdout",
     "output_type": "stream",
     "text": [
      "   Drift Rate  Self-excitation Speed  Self-excitation Accuracy  \\\n",
      "0    0.109988               9.515755                  7.659996   \n",
      "\n",
      "   Boundary Separation  Non-decision Time Speed  Non-decision Time Accuracy  \\\n",
      "0             1.182231                 0.109289                    0.101682   \n",
      "\n",
      "          BIC  \n",
      "0 -659.109604  \n",
      "21\n"
     ]
    },
    {
     "name": "stderr",
     "output_type": "stream",
     "text": [
      "Info: Params [0.46199108 6.85866688 4.8332228  1.57689287 0.10021637 0.11015189] gave 772.2655211464189\n"
     ]
    },
    {
     "name": "stdout",
     "output_type": "stream",
     "text": [
      "   Drift Rate  Self-excitation Speed  Self-excitation Accuracy  \\\n",
      "0    0.461991               6.858667                  4.833223   \n",
      "\n",
      "   Boundary Separation  Non-decision Time Speed  Non-decision Time Accuracy  \\\n",
      "0             1.576893                 0.100216                    0.110152   \n",
      "\n",
      "          BIC  \n",
      "0  772.265521  \n",
      "22\n"
     ]
    },
    {
     "name": "stderr",
     "output_type": "stream",
     "text": [
      "Info: Params [0.14304498 9.39455267 4.38337219 0.593283   0.1560096  0.16179203] gave -801.9756694479524\n"
     ]
    },
    {
     "name": "stdout",
     "output_type": "stream",
     "text": [
      "   Drift Rate  Self-excitation Speed  Self-excitation Accuracy  \\\n",
      "0    0.143045               9.394553                  4.383372   \n",
      "\n",
      "   Boundary Separation  Non-decision Time Speed  Non-decision Time Accuracy  \\\n",
      "0             0.593283                  0.15601                    0.161792   \n",
      "\n",
      "          BIC  \n",
      "0 -801.975669  \n",
      "23\n"
     ]
    },
    {
     "name": "stderr",
     "output_type": "stream",
     "text": [
      "Info: Params [0.26116056 8.89963456 6.23643326 1.69424021 0.1006068  0.11944075] gave -18.161428918776622\n"
     ]
    },
    {
     "name": "stdout",
     "output_type": "stream",
     "text": [
      "   Drift Rate  Self-excitation Speed  Self-excitation Accuracy  \\\n",
      "0    0.261161               8.899635                  6.236433   \n",
      "\n",
      "   Boundary Separation  Non-decision Time Speed  Non-decision Time Accuracy  \\\n",
      "0              1.69424                 0.100607                    0.119441   \n",
      "\n",
      "         BIC  \n",
      "0 -18.161429  \n",
      "24\n"
     ]
    },
    {
     "name": "stderr",
     "output_type": "stream",
     "text": [
      "Info: Params [0.68431463 8.08135832 1.98251052 0.98238331 0.10098835 0.16189605] gave 487.09405788998924\n"
     ]
    },
    {
     "name": "stdout",
     "output_type": "stream",
     "text": [
      "   Drift Rate  Self-excitation Speed  Self-excitation Accuracy  \\\n",
      "0    0.684315               8.081358                  1.982511   \n",
      "\n",
      "   Boundary Separation  Non-decision Time Speed  Non-decision Time Accuracy  \\\n",
      "0             0.982383                 0.100988                    0.161896   \n",
      "\n",
      "          BIC  \n",
      "0  487.094058  \n",
      "25\n"
     ]
    },
    {
     "name": "stderr",
     "output_type": "stream",
     "text": [
      "Info: Params [ 0.56075631 10.          8.25183455  1.78237847  0.11725762  0.1077041 ] gave -697.0190563531\n"
     ]
    },
    {
     "name": "stdout",
     "output_type": "stream",
     "text": [
      "   Drift Rate  Self-excitation Speed  Self-excitation Accuracy  \\\n",
      "0    0.560756                   10.0                  8.251835   \n",
      "\n",
      "   Boundary Separation  Non-decision Time Speed  Non-decision Time Accuracy  \\\n",
      "0             1.782378                 0.117258                    0.107704   \n",
      "\n",
      "          BIC  \n",
      "0 -697.019056  \n",
      "26\n"
     ]
    },
    {
     "name": "stderr",
     "output_type": "stream",
     "text": [
      "Info: Params [ 1.30228677 10.          5.00223339  1.13539905  0.15605848  0.19132132] gave -704.3187192074009\n"
     ]
    },
    {
     "name": "stdout",
     "output_type": "stream",
     "text": [
      "   Drift Rate  Self-excitation Speed  Self-excitation Accuracy  \\\n",
      "0    1.302287                   10.0                  5.002233   \n",
      "\n",
      "   Boundary Separation  Non-decision Time Speed  Non-decision Time Accuracy  \\\n",
      "0             1.135399                 0.156058                    0.191321   \n",
      "\n",
      "          BIC  \n",
      "0 -704.318719  \n",
      "27\n"
     ]
    },
    {
     "name": "stderr",
     "output_type": "stream",
     "text": [
      "Info: Params [ 0.04065068 10.         10.          2.24063137  0.10042878  0.12873126] gave -1022.1897865553453\n"
     ]
    },
    {
     "name": "stdout",
     "output_type": "stream",
     "text": [
      "   Drift Rate  Self-excitation Speed  Self-excitation Accuracy  \\\n",
      "0    0.040651                   10.0                      10.0   \n",
      "\n",
      "   Boundary Separation  Non-decision Time Speed  Non-decision Time Accuracy  \\\n",
      "0             2.240631                 0.100429                    0.128731   \n",
      "\n",
      "           BIC  \n",
      "0 -1022.189787  \n",
      "28\n"
     ]
    },
    {
     "name": "stderr",
     "output_type": "stream",
     "text": [
      "Info: Params [0.39421567 8.7465201  6.30974653 1.40257542 0.10058186 0.14080968] gave -20.584833131125684\n"
     ]
    },
    {
     "name": "stdout",
     "output_type": "stream",
     "text": [
      "   Drift Rate  Self-excitation Speed  Self-excitation Accuracy  \\\n",
      "0    0.394216                8.74652                  6.309747   \n",
      "\n",
      "   Boundary Separation  Non-decision Time Speed  Non-decision Time Accuracy  \\\n",
      "0             1.402575                 0.100582                     0.14081   \n",
      "\n",
      "         BIC  \n",
      "0 -20.584833  \n",
      "29\n"
     ]
    },
    {
     "name": "stderr",
     "output_type": "stream",
     "text": [
      "Info: Params [0.10848788 7.49234434 5.92203159 1.43817346 0.10069117 0.10051693] gave 258.7045546288532\n"
     ]
    },
    {
     "name": "stdout",
     "output_type": "stream",
     "text": [
      "   Drift Rate  Self-excitation Speed  Self-excitation Accuracy  \\\n",
      "0    0.108488               7.492344                  5.922032   \n",
      "\n",
      "   Boundary Separation  Non-decision Time Speed  Non-decision Time Accuracy  \\\n",
      "0             1.438173                 0.100691                    0.100517   \n",
      "\n",
      "          BIC  \n",
      "0  258.704555  \n",
      "30\n"
     ]
    },
    {
     "name": "stderr",
     "output_type": "stream",
     "text": [
      "Info: Params [0.07579571 8.03389432 7.69973835 1.20461026 0.10771169 0.10250239] gave -137.11601720410388\n"
     ]
    },
    {
     "name": "stdout",
     "output_type": "stream",
     "text": [
      "   Drift Rate  Self-excitation Speed  Self-excitation Accuracy  \\\n",
      "0    0.075796               8.033894                  7.699738   \n",
      "\n",
      "   Boundary Separation  Non-decision Time Speed  Non-decision Time Accuracy  \\\n",
      "0              1.20461                 0.107712                    0.102502   \n",
      "\n",
      "          BIC  \n",
      "0 -137.116017  \n",
      "31\n"
     ]
    },
    {
     "name": "stderr",
     "output_type": "stream",
     "text": [
      "Info: Params [0.25787048 8.06966518 6.56913323 0.94964427 0.13403205 0.13243887] gave -48.042212472924255\n"
     ]
    },
    {
     "name": "stdout",
     "output_type": "stream",
     "text": [
      "   Drift Rate  Self-excitation Speed  Self-excitation Accuracy  \\\n",
      "0     0.25787               8.069665                  6.569133   \n",
      "\n",
      "   Boundary Separation  Non-decision Time Speed  Non-decision Time Accuracy  \\\n",
      "0             0.949644                 0.134032                    0.132439   \n",
      "\n",
      "         BIC  \n",
      "0 -48.042212  \n",
      "32\n"
     ]
    },
    {
     "name": "stderr",
     "output_type": "stream",
     "text": [
      "Info: Params [0.11060762 7.37519038 5.84504417 1.4045633  0.10030867 0.10191977] gave 259.2386069969533\n"
     ]
    },
    {
     "name": "stdout",
     "output_type": "stream",
     "text": [
      "   Drift Rate  Self-excitation Speed  Self-excitation Accuracy  \\\n",
      "0    0.110608                7.37519                  5.845044   \n",
      "\n",
      "   Boundary Separation  Non-decision Time Speed  Non-decision Time Accuracy  \\\n",
      "0             1.404563                 0.100309                     0.10192   \n",
      "\n",
      "          BIC  \n",
      "0  259.238607  \n",
      "33\n"
     ]
    },
    {
     "name": "stderr",
     "output_type": "stream",
     "text": [
      "Info: Params [0.3518666  9.10289092 3.38139752 1.69178151 0.1004148  0.11214155] gave 547.2267607506765\n"
     ]
    },
    {
     "name": "stdout",
     "output_type": "stream",
     "text": [
      "   Drift Rate  Self-excitation Speed  Self-excitation Accuracy  \\\n",
      "0    0.351867               9.102891                  3.381398   \n",
      "\n",
      "   Boundary Separation  Non-decision Time Speed  Non-decision Time Accuracy  \\\n",
      "0             1.691782                 0.100415                    0.112142   \n",
      "\n",
      "          BIC  \n",
      "0  547.226761  \n"
     ]
    }
   ],
   "source": [
    "%run Rae2014-OUM2k2ter-pyddm.ipynb"
   ]
  },
  {
   "cell_type": "code",
   "execution_count": 10,
   "id": "6a81d07b",
   "metadata": {},
   "outputs": [
    {
     "name": "stdout",
     "output_type": "stream",
     "text": [
      "0\n"
     ]
    },
    {
     "name": "stderr",
     "output_type": "stream",
     "text": [
      "Info: Params [1.22534021 1.7713194  6.17998981 1.59214691 2.1548328  0.1482442\n",
      " 0.20775569] gave -1000.7892999733713\n"
     ]
    },
    {
     "name": "stdout",
     "output_type": "stream",
     "text": [
      "   Drift Rate Speed  Drift Rate Accuracy  Self-excitation  \\\n",
      "0           1.22534             1.771319          6.17999   \n",
      "\n",
      "   Boundary Separation Speed      Bacc  Non-decision Time Speed  \\\n",
      "0                   1.592147  2.154833                 0.148244   \n",
      "\n",
      "   Non-decision Time Accuracy        BIC  \n",
      "0                    0.207756 -1000.7893  \n",
      "1\n"
     ]
    },
    {
     "name": "stderr",
     "output_type": "stream",
     "text": [
      "Info: Params [ 0.76462678  1.46329352 10.          3.68468154  7.17720696  0.10918858\n",
      "  0.1156665 ] gave -2195.786657548378\n"
     ]
    },
    {
     "name": "stdout",
     "output_type": "stream",
     "text": [
      "   Drift Rate Speed  Drift Rate Accuracy  Self-excitation  \\\n",
      "0          0.764627             1.463294             10.0   \n",
      "\n",
      "   Boundary Separation Speed      Bacc  Non-decision Time Speed  \\\n",
      "0                   3.684682  7.177207                 0.109189   \n",
      "\n",
      "   Non-decision Time Accuracy          BIC  \n",
      "0                    0.115666 -2195.786658  \n",
      "2\n"
     ]
    },
    {
     "name": "stderr",
     "output_type": "stream",
     "text": [
      "Info: Params [0.15727144 0.23799324 7.89908292 1.38396821 1.99086932 0.10066709\n",
      " 0.10056487] gave -321.64828767798787\n"
     ]
    },
    {
     "name": "stdout",
     "output_type": "stream",
     "text": [
      "   Drift Rate Speed  Drift Rate Accuracy  Self-excitation  \\\n",
      "0          0.157271             0.237993         7.899083   \n",
      "\n",
      "   Boundary Separation Speed      Bacc  Non-decision Time Speed  \\\n",
      "0                   1.383968  1.990869                 0.100667   \n",
      "\n",
      "   Non-decision Time Accuracy         BIC  \n",
      "0                    0.100565 -321.648288  \n",
      "3\n"
     ]
    },
    {
     "name": "stderr",
     "output_type": "stream",
     "text": [
      "Info: Params [2.22307472 2.31887146 9.48893121 0.95878885 1.15211487 0.2620545\n",
      " 0.26205026] gave -3769.332236788335\n"
     ]
    },
    {
     "name": "stdout",
     "output_type": "stream",
     "text": [
      "   Drift Rate Speed  Drift Rate Accuracy  Self-excitation  \\\n",
      "0          2.223075             2.318871         9.488931   \n",
      "\n",
      "   Boundary Separation Speed      Bacc  Non-decision Time Speed  \\\n",
      "0                   0.958789  1.152115                 0.262055   \n",
      "\n",
      "   Non-decision Time Accuracy          BIC  \n",
      "0                     0.26205 -3769.332237  \n",
      "4\n"
     ]
    },
    {
     "name": "stderr",
     "output_type": "stream",
     "text": [
      "Info: Params [0.27373334 0.44788532 7.82448589 1.38618225 2.01551423 0.10095917\n",
      " 0.10036118] gave -181.50020718726995\n"
     ]
    },
    {
     "name": "stdout",
     "output_type": "stream",
     "text": [
      "   Drift Rate Speed  Drift Rate Accuracy  Self-excitation  \\\n",
      "0          0.273733             0.447885         7.824486   \n",
      "\n",
      "   Boundary Separation Speed      Bacc  Non-decision Time Speed  \\\n",
      "0                   1.386182  2.015514                 0.100959   \n",
      "\n",
      "   Non-decision Time Accuracy         BIC  \n",
      "0                    0.100361 -181.500207  \n",
      "5\n"
     ]
    },
    {
     "name": "stderr",
     "output_type": "stream",
     "text": [
      "Info: Params [ 1.73565318  2.22989263 10.          1.35783983  1.18491033  0.20459015\n",
      "  0.2465494 ] gave -1720.978500213987\n"
     ]
    },
    {
     "name": "stdout",
     "output_type": "stream",
     "text": [
      "   Drift Rate Speed  Drift Rate Accuracy  Self-excitation  \\\n",
      "0          1.735653             2.229893             10.0   \n",
      "\n",
      "   Boundary Separation Speed     Bacc  Non-decision Time Speed  \\\n",
      "0                    1.35784  1.18491                  0.20459   \n",
      "\n",
      "   Non-decision Time Accuracy        BIC  \n",
      "0                    0.246549 -1720.9785  \n",
      "6\n"
     ]
    },
    {
     "name": "stderr",
     "output_type": "stream",
     "text": [
      "Info: Params [ 1.37619558  1.64255938 10.          1.44823276  2.30184806  0.21184125\n",
      "  0.20968422] gave -2862.00042357266\n"
     ]
    },
    {
     "name": "stdout",
     "output_type": "stream",
     "text": [
      "   Drift Rate Speed  Drift Rate Accuracy  Self-excitation  \\\n",
      "0          1.376196             1.642559             10.0   \n",
      "\n",
      "   Boundary Separation Speed      Bacc  Non-decision Time Speed  \\\n",
      "0                   1.448233  2.301848                 0.211841   \n",
      "\n",
      "   Non-decision Time Accuracy          BIC  \n",
      "0                    0.209684 -2862.000424  \n",
      "7\n"
     ]
    },
    {
     "name": "stderr",
     "output_type": "stream",
     "text": [
      "Info: Params [1.79338703 1.77390907 4.76971941 0.53637072 1.03519445 0.24914976\n",
      " 0.24702334] gave -1787.7773692799792\n"
     ]
    },
    {
     "name": "stdout",
     "output_type": "stream",
     "text": [
      "   Drift Rate Speed  Drift Rate Accuracy  Self-excitation  \\\n",
      "0          1.793387             1.773909         4.769719   \n",
      "\n",
      "   Boundary Separation Speed      Bacc  Non-decision Time Speed  \\\n",
      "0                   0.536371  1.035194                  0.24915   \n",
      "\n",
      "   Non-decision Time Accuracy          BIC  \n",
      "0                    0.247023 -1787.777369  \n",
      "8\n"
     ]
    },
    {
     "name": "stderr",
     "output_type": "stream",
     "text": [
      "Info: Params [1.53233519 1.90790221 9.68115531 2.16992116 3.9549282  0.19962787\n",
      " 0.17495932] gave -1324.0256147726614\n"
     ]
    },
    {
     "name": "stdout",
     "output_type": "stream",
     "text": [
      "   Drift Rate Speed  Drift Rate Accuracy  Self-excitation  \\\n",
      "0          1.532335             1.907902         9.681155   \n",
      "\n",
      "   Boundary Separation Speed      Bacc  Non-decision Time Speed  \\\n",
      "0                   2.169921  3.954928                 0.199628   \n",
      "\n",
      "   Non-decision Time Accuracy          BIC  \n",
      "0                    0.174959 -1324.025615  \n",
      "9\n"
     ]
    },
    {
     "name": "stderr",
     "output_type": "stream",
     "text": [
      "Info: Params [ 0.90276264  1.33036703 10.          2.44009099  4.87945856  0.1326499\n",
      "  0.11188056] gave -1988.3061603627345\n"
     ]
    },
    {
     "name": "stdout",
     "output_type": "stream",
     "text": [
      "   Drift Rate Speed  Drift Rate Accuracy  Self-excitation  \\\n",
      "0          0.902763             1.330367             10.0   \n",
      "\n",
      "   Boundary Separation Speed      Bacc  Non-decision Time Speed  \\\n",
      "0                   2.440091  4.879459                  0.13265   \n",
      "\n",
      "   Non-decision Time Accuracy         BIC  \n",
      "0                    0.111881 -1988.30616  \n",
      "10\n"
     ]
    },
    {
     "name": "stderr",
     "output_type": "stream",
     "text": [
      "Info: Params [0.05501726 0.14910918 7.7427395  1.27262082 1.41193053 0.10149858\n",
      " 0.10186801] gave -447.74008446121223\n"
     ]
    },
    {
     "name": "stdout",
     "output_type": "stream",
     "text": [
      "   Drift Rate Speed  Drift Rate Accuracy  Self-excitation  \\\n",
      "0          0.055017             0.149109          7.74274   \n",
      "\n",
      "   Boundary Separation Speed      Bacc  Non-decision Time Speed  \\\n",
      "0                   1.272621  1.411931                 0.101499   \n",
      "\n",
      "   Non-decision Time Accuracy         BIC  \n",
      "0                    0.101868 -447.740084  \n",
      "11\n"
     ]
    },
    {
     "name": "stderr",
     "output_type": "stream",
     "text": [
      "Info: Params [0.86495851 1.17817384 4.2089145  0.69368274 1.37943663 0.19414669\n",
      " 0.20577244] gave 97.7717111332847\n"
     ]
    },
    {
     "name": "stdout",
     "output_type": "stream",
     "text": [
      "   Drift Rate Speed  Drift Rate Accuracy  Self-excitation  \\\n",
      "0          0.864959             1.178174         4.208914   \n",
      "\n",
      "   Boundary Separation Speed      Bacc  Non-decision Time Speed  \\\n",
      "0                   0.693683  1.379437                 0.194147   \n",
      "\n",
      "   Non-decision Time Accuracy        BIC  \n",
      "0                    0.205772  97.771711  \n",
      "12\n"
     ]
    },
    {
     "name": "stderr",
     "output_type": "stream",
     "text": [
      "Info: Params [0.28014922 0.80982663 7.50452404 1.59110858 2.82445754 0.10053362\n",
      " 0.10271777] gave -339.9584965394472\n"
     ]
    },
    {
     "name": "stdout",
     "output_type": "stream",
     "text": [
      "   Drift Rate Speed  Drift Rate Accuracy  Self-excitation  \\\n",
      "0          0.280149             0.809827         7.504524   \n",
      "\n",
      "   Boundary Separation Speed      Bacc  Non-decision Time Speed  \\\n",
      "0                   1.591109  2.824458                 0.100534   \n",
      "\n",
      "   Non-decision Time Accuracy         BIC  \n",
      "0                    0.102718 -339.958497  \n",
      "13\n"
     ]
    },
    {
     "name": "stderr",
     "output_type": "stream",
     "text": [
      "Info: Params [0.03916811 0.52780361 5.49257783 0.50160106 0.67282381 0.16468499\n",
      " 0.16396274] gave -281.5553274416323\n"
     ]
    },
    {
     "name": "stdout",
     "output_type": "stream",
     "text": [
      "   Drift Rate Speed  Drift Rate Accuracy  Self-excitation  \\\n",
      "0          0.039168             0.527804         5.492578   \n",
      "\n",
      "   Boundary Separation Speed      Bacc  Non-decision Time Speed  \\\n",
      "0                   0.501601  0.672824                 0.164685   \n",
      "\n",
      "   Non-decision Time Accuracy         BIC  \n",
      "0                    0.163963 -281.555327  \n",
      "14\n"
     ]
    },
    {
     "name": "stderr",
     "output_type": "stream",
     "text": [
      "Info: Params [1.05809708 1.19936398 8.76739021 3.73435023 2.3452784  0.16602675\n",
      " 0.23494388] gave -1395.3913338128489\n"
     ]
    },
    {
     "name": "stdout",
     "output_type": "stream",
     "text": [
      "   Drift Rate Speed  Drift Rate Accuracy  Self-excitation  \\\n",
      "0          1.058097             1.199364          8.76739   \n",
      "\n",
      "   Boundary Separation Speed      Bacc  Non-decision Time Speed  \\\n",
      "0                    3.73435  2.345278                 0.166027   \n",
      "\n",
      "   Non-decision Time Accuracy          BIC  \n",
      "0                    0.234944 -1395.391334  \n",
      "15\n"
     ]
    },
    {
     "name": "stderr",
     "output_type": "stream",
     "text": [
      "Info: Params [0.09265485 0.51720114 6.1218736  0.76054035 1.06389403 0.16613664\n",
      " 0.1570129 ] gave 239.72867147670874\n"
     ]
    },
    {
     "name": "stdout",
     "output_type": "stream",
     "text": [
      "   Drift Rate Speed  Drift Rate Accuracy  Self-excitation  \\\n",
      "0          0.092655             0.517201         6.121874   \n",
      "\n",
      "   Boundary Separation Speed      Bacc  Non-decision Time Speed  \\\n",
      "0                    0.76054  1.063894                 0.166137   \n",
      "\n",
      "   Non-decision Time Accuracy         BIC  \n",
      "0                    0.157013  239.728671  \n",
      "16\n"
     ]
    },
    {
     "name": "stderr",
     "output_type": "stream",
     "text": [
      "Info: Params [0.41777218 0.46211271 9.99476365 1.50151183 2.12325102 0.10266587\n",
      " 0.1010101 ] gave -1437.0390190813916\n"
     ]
    },
    {
     "name": "stdout",
     "output_type": "stream",
     "text": [
      "   Drift Rate Speed  Drift Rate Accuracy  Self-excitation  \\\n",
      "0          0.417772             0.462113         9.994764   \n",
      "\n",
      "   Boundary Separation Speed      Bacc  Non-decision Time Speed  \\\n",
      "0                   1.501512  2.123251                 0.102666   \n",
      "\n",
      "   Non-decision Time Accuracy          BIC  \n",
      "0                     0.10101 -1437.039019  \n",
      "17\n"
     ]
    },
    {
     "name": "stderr",
     "output_type": "stream",
     "text": [
      "Info: Params [0.39496261 0.89801238 4.69113503 0.65534705 1.59782438 0.1392433\n",
      " 0.10685208] gave 454.27947554431887\n"
     ]
    },
    {
     "name": "stdout",
     "output_type": "stream",
     "text": [
      "   Drift Rate Speed  Drift Rate Accuracy  Self-excitation  \\\n",
      "0          0.394963             0.898012         4.691135   \n",
      "\n",
      "   Boundary Separation Speed      Bacc  Non-decision Time Speed  \\\n",
      "0                   0.655347  1.597824                 0.139243   \n",
      "\n",
      "   Non-decision Time Accuracy         BIC  \n",
      "0                    0.106852  454.279476  \n",
      "18\n"
     ]
    },
    {
     "name": "stderr",
     "output_type": "stream",
     "text": [
      "Info: Params [2.21104187 2.53787915 6.98315128 5.0631217  2.24135862 0.19962763\n",
      " 0.32129105] gave -2598.3761073238093\n"
     ]
    },
    {
     "name": "stdout",
     "output_type": "stream",
     "text": [
      "   Drift Rate Speed  Drift Rate Accuracy  Self-excitation  \\\n",
      "0          2.211042             2.537879         6.983151   \n",
      "\n",
      "   Boundary Separation Speed      Bacc  Non-decision Time Speed  \\\n",
      "0                   5.063122  2.241359                 0.199628   \n",
      "\n",
      "   Non-decision Time Accuracy          BIC  \n",
      "0                    0.321291 -2598.376107  \n",
      "19\n"
     ]
    },
    {
     "name": "stderr",
     "output_type": "stream",
     "text": [
      "Info: Params [0.28180737 0.45542041 9.37955331 2.05345956 2.95177261 0.10033771\n",
      " 0.10037023] gave -1158.009936043132\n"
     ]
    },
    {
     "name": "stdout",
     "output_type": "stream",
     "text": [
      "   Drift Rate Speed  Drift Rate Accuracy  Self-excitation  \\\n",
      "0          0.281807              0.45542         9.379553   \n",
      "\n",
      "   Boundary Separation Speed      Bacc  Non-decision Time Speed  \\\n",
      "0                    2.05346  2.951773                 0.100338   \n",
      "\n",
      "   Non-decision Time Accuracy          BIC  \n",
      "0                     0.10037 -1158.009936  \n",
      "20\n"
     ]
    },
    {
     "name": "stderr",
     "output_type": "stream",
     "text": [
      "Info: Params [0.22049555 0.00887632 7.66129261 0.72766846 1.15147699 0.14400229\n",
      " 0.10590356] gave -633.5230640915943\n"
     ]
    },
    {
     "name": "stdout",
     "output_type": "stream",
     "text": [
      "   Drift Rate Speed  Drift Rate Accuracy  Self-excitation  \\\n",
      "0          0.220496             0.008876         7.661293   \n",
      "\n",
      "   Boundary Separation Speed      Bacc  Non-decision Time Speed  \\\n",
      "0                   0.727668  1.151477                 0.144002   \n",
      "\n",
      "   Non-decision Time Accuracy         BIC  \n",
      "0                    0.105904 -633.523064  \n",
      "21\n"
     ]
    },
    {
     "name": "stderr",
     "output_type": "stream",
     "text": [
      "Info: Params [0.2955941  0.56530798 5.5662489  1.2218661  1.91504173 0.11041776\n",
      " 0.100747  ] gave 814.2702739600226\n"
     ]
    },
    {
     "name": "stdout",
     "output_type": "stream",
     "text": [
      "   Drift Rate Speed  Drift Rate Accuracy  Self-excitation  \\\n",
      "0          0.295594             0.565308         5.566249   \n",
      "\n",
      "   Boundary Separation Speed      Bacc  Non-decision Time Speed  \\\n",
      "0                   1.221866  1.915042                 0.110418   \n",
      "\n",
      "   Non-decision Time Accuracy         BIC  \n",
      "0                    0.100747  814.270274  \n",
      "22\n"
     ]
    },
    {
     "name": "stderr",
     "output_type": "stream",
     "text": [
      "Info: Params [0.         0.13634719 7.0871328  0.50079598 0.9159899  0.16368703\n",
      " 0.12740156] gave -804.944605860262\n"
     ]
    },
    {
     "name": "stdout",
     "output_type": "stream",
     "text": [
      "   Drift Rate Speed  Drift Rate Accuracy  Self-excitation  \\\n",
      "0               0.0             0.136347         7.087133   \n",
      "\n",
      "   Boundary Separation Speed     Bacc  Non-decision Time Speed  \\\n",
      "0                   0.500796  0.91599                 0.163687   \n",
      "\n",
      "   Non-decision Time Accuracy         BIC  \n",
      "0                    0.127402 -804.944606  \n",
      "23\n"
     ]
    },
    {
     "name": "stderr",
     "output_type": "stream",
     "text": [
      "Info: Params [0.08080139 0.34311504 7.27385    1.34809536 2.38770645 0.10044471\n",
      " 0.10082608] gave -6.935238177956286\n"
     ]
    },
    {
     "name": "stdout",
     "output_type": "stream",
     "text": [
      "   Drift Rate Speed  Drift Rate Accuracy  Self-excitation  \\\n",
      "0          0.080801             0.343115          7.27385   \n",
      "\n",
      "   Boundary Separation Speed      Bacc  Non-decision Time Speed  \\\n",
      "0                   1.348095  2.387706                 0.100445   \n",
      "\n",
      "   Non-decision Time Accuracy       BIC  \n",
      "0                    0.100826 -6.935238  \n",
      "24\n"
     ]
    },
    {
     "name": "stderr",
     "output_type": "stream",
     "text": [
      "Info: Params [0.19548801 0.70948158 3.4994512  0.50045272 1.74657498 0.1555794\n",
      " 0.10148712] gave 363.46687703535076\n"
     ]
    },
    {
     "name": "stdout",
     "output_type": "stream",
     "text": [
      "   Drift Rate Speed  Drift Rate Accuracy  Self-excitation  \\\n",
      "0          0.195488             0.709482         3.499451   \n",
      "\n",
      "   Boundary Separation Speed      Bacc  Non-decision Time Speed  \\\n",
      "0                   0.500453  1.746575                 0.155579   \n",
      "\n",
      "   Non-decision Time Accuracy         BIC  \n",
      "0                    0.101487  363.466877  \n",
      "25\n"
     ]
    },
    {
     "name": "stderr",
     "output_type": "stream",
     "text": [
      "Info: Params [0.5630159  0.58670169 9.44377447 1.26347425 2.26009956 0.1470846\n",
      " 0.10330478] gave -671.1298039244867\n"
     ]
    },
    {
     "name": "stdout",
     "output_type": "stream",
     "text": [
      "   Drift Rate Speed  Drift Rate Accuracy  Self-excitation  \\\n",
      "0          0.563016             0.586702         9.443774   \n",
      "\n",
      "   Boundary Separation Speed    Bacc  Non-decision Time Speed  \\\n",
      "0                   1.263474  2.2601                 0.147085   \n",
      "\n",
      "   Non-decision Time Accuracy         BIC  \n",
      "0                    0.103305 -671.129804  \n",
      "26\n"
     ]
    },
    {
     "name": "stderr",
     "output_type": "stream",
     "text": [
      "Info: Params [1.1286124  1.413498   6.18409606 0.72571122 1.33448108 0.16938812\n",
      " 0.18684919] gave -598.9661443165784\n"
     ]
    },
    {
     "name": "stdout",
     "output_type": "stream",
     "text": [
      "   Drift Rate Speed  Drift Rate Accuracy  Self-excitation  \\\n",
      "0          1.128612             1.413498         6.184096   \n",
      "\n",
      "   Boundary Separation Speed      Bacc  Non-decision Time Speed  \\\n",
      "0                   0.725711  1.334481                 0.169388   \n",
      "\n",
      "   Non-decision Time Accuracy         BIC  \n",
      "0                    0.186849 -598.966144  \n",
      "27\n"
     ]
    },
    {
     "name": "stderr",
     "output_type": "stream",
     "text": [
      "Info: Params [ 0.12833222  0.         10.          2.16961352  2.4193294   0.10524015\n",
      "  0.11842676] gave -1016.4287183025176\n"
     ]
    },
    {
     "name": "stdout",
     "output_type": "stream",
     "text": [
      "   Drift Rate Speed  Drift Rate Accuracy  Self-excitation  \\\n",
      "0          0.128332                  0.0             10.0   \n",
      "\n",
      "   Boundary Separation Speed      Bacc  Non-decision Time Speed  \\\n",
      "0                   2.169614  2.419329                  0.10524   \n",
      "\n",
      "   Non-decision Time Accuracy          BIC  \n",
      "0                    0.118427 -1016.428718  \n",
      "28\n"
     ]
    },
    {
     "name": "stderr",
     "output_type": "stream",
     "text": [
      "Info: Params [0.3017043  0.44465086 7.09438883 0.89937744 2.15121938 0.13179887\n",
      " 0.10098527] gave -16.471869078255487\n"
     ]
    },
    {
     "name": "stdout",
     "output_type": "stream",
     "text": [
      "   Drift Rate Speed  Drift Rate Accuracy  Self-excitation  \\\n",
      "0          0.301704             0.444651         7.094389   \n",
      "\n",
      "   Boundary Separation Speed      Bacc  Non-decision Time Speed  \\\n",
      "0                   0.899377  2.151219                 0.131799   \n",
      "\n",
      "   Non-decision Time Accuracy        BIC  \n",
      "0                    0.100985 -16.471869  \n",
      "29\n"
     ]
    },
    {
     "name": "stderr",
     "output_type": "stream",
     "text": [
      "Info: Params [0.1111965  0.10623315 6.50781679 1.26658678 1.54420419 0.10027701\n",
      " 0.10079608] gave 285.02193440330103\n"
     ]
    },
    {
     "name": "stdout",
     "output_type": "stream",
     "text": [
      "   Drift Rate Speed  Drift Rate Accuracy  Self-excitation  \\\n",
      "0          0.111196             0.106233         6.507817   \n",
      "\n",
      "   Boundary Separation Speed      Bacc  Non-decision Time Speed  \\\n",
      "0                   1.266587  1.544204                 0.100277   \n",
      "\n",
      "   Non-decision Time Accuracy         BIC  \n",
      "0                    0.100796  285.021934  \n",
      "30\n"
     ]
    },
    {
     "name": "stderr",
     "output_type": "stream",
     "text": [
      "Info: Params [0.15218456 0.01554961 8.03468433 1.20333976 1.26297997 0.10762192\n",
      " 0.10049206] gave -129.30176917987944\n"
     ]
    },
    {
     "name": "stdout",
     "output_type": "stream",
     "text": [
      "   Drift Rate Speed  Drift Rate Accuracy  Self-excitation  \\\n",
      "0          0.152185              0.01555         8.034684   \n",
      "\n",
      "   Boundary Separation Speed     Bacc  Non-decision Time Speed  \\\n",
      "0                    1.20334  1.26298                 0.107622   \n",
      "\n",
      "   Non-decision Time Accuracy         BIC  \n",
      "0                    0.100492 -129.301769  \n",
      "31\n"
     ]
    },
    {
     "name": "stderr",
     "output_type": "stream",
     "text": [
      "Info: Params [0.39734456 0.1265827  7.17186427 0.82224516 1.08876835 0.14377454\n",
      " 0.12121295] gave -36.9935691326004\n"
     ]
    },
    {
     "name": "stdout",
     "output_type": "stream",
     "text": [
      "   Drift Rate Speed  Drift Rate Accuracy  Self-excitation  \\\n",
      "0          0.397345             0.126583         7.171864   \n",
      "\n",
      "   Boundary Separation Speed      Bacc  Non-decision Time Speed  \\\n",
      "0                   0.822245  1.088768                 0.143775   \n",
      "\n",
      "   Non-decision Time Accuracy        BIC  \n",
      "0                    0.121213 -36.993569  \n",
      "32\n"
     ]
    },
    {
     "name": "stderr",
     "output_type": "stream",
     "text": [
      "Info: Params [0.11118334 0.1057508  6.51993359 1.27484013 1.54399345 0.10071288\n",
      " 0.10010542] gave 284.86994190796247\n"
     ]
    },
    {
     "name": "stdout",
     "output_type": "stream",
     "text": [
      "   Drift Rate Speed  Drift Rate Accuracy  Self-excitation  \\\n",
      "0          0.111183             0.105751         6.519934   \n",
      "\n",
      "   Boundary Separation Speed      Bacc  Non-decision Time Speed  \\\n",
      "0                    1.27484  1.543993                 0.100713   \n",
      "\n",
      "   Non-decision Time Accuracy         BIC  \n",
      "0                    0.100105  284.869942  \n",
      "33\n"
     ]
    },
    {
     "name": "stderr",
     "output_type": "stream",
     "text": [
      "Info: Params [0.09216304 0.47372137 3.65115591 0.5681464  1.8930238  0.17421534\n",
      " 0.10799614] gave 619.0251164475691\n"
     ]
    },
    {
     "name": "stdout",
     "output_type": "stream",
     "text": [
      "   Drift Rate Speed  Drift Rate Accuracy  Self-excitation  \\\n",
      "0          0.092163             0.473721         3.651156   \n",
      "\n",
      "   Boundary Separation Speed      Bacc  Non-decision Time Speed  \\\n",
      "0                   0.568146  1.893024                 0.174215   \n",
      "\n",
      "   Non-decision Time Accuracy         BIC  \n",
      "0                    0.107996  619.025116  \n"
     ]
    }
   ],
   "source": [
    "%run Rae2014-OUM2v2a2ter-pyddm.ipynb"
   ]
  },
  {
   "cell_type": "code",
   "execution_count": 11,
   "id": "78c8a437",
   "metadata": {},
   "outputs": [
    {
     "name": "stdout",
     "output_type": "stream",
     "text": [
      "0\n"
     ]
    },
    {
     "name": "stderr",
     "output_type": "stream",
     "text": [
      "Info: Params [1.19246322 1.81192603 6.91637344 5.54964864 1.76638551 0.15079772\n",
      " 0.22223093] gave -1020.1499866266283\n"
     ]
    },
    {
     "name": "stdout",
     "output_type": "stream",
     "text": [
      "   Drift Rate Speed  Drift Rate Accuracy  Self-excitation Speed  \\\n",
      "0          1.192463             1.811926               6.916373   \n",
      "\n",
      "   Self-excitation Accuracy  Boundary Separation  Non-decision Time Speed  \\\n",
      "0                  5.549649             1.766386                 0.150798   \n",
      "\n",
      "   Non-decision Time Accuracy          BIC  \n",
      "0                    0.222231 -1020.149987  \n",
      "1\n"
     ]
    },
    {
     "name": "stderr",
     "output_type": "stream",
     "text": [
      "Info: Params [ 0.80442163  1.56220931 10.          9.30642114  2.55541806  0.14625512\n",
      "  0.20578116] gave -2196.680000157942\n"
     ]
    },
    {
     "name": "stdout",
     "output_type": "stream",
     "text": [
      "   Drift Rate Speed  Drift Rate Accuracy  Self-excitation Speed  \\\n",
      "0          0.804422             1.562209                   10.0   \n",
      "\n",
      "   Self-excitation Accuracy  Boundary Separation  Non-decision Time Speed  \\\n",
      "0                  9.306421             2.555418                 0.146255   \n",
      "\n",
      "   Non-decision Time Accuracy      BIC  \n",
      "0                    0.205781 -2196.68  \n",
      "2\n"
     ]
    },
    {
     "name": "stderr",
     "output_type": "stream",
     "text": [
      "Info: Params [0.16128637 0.29066037 7.99651492 6.82461389 1.46435194 0.10081763\n",
      " 0.11414524] gave -303.52364583090804\n"
     ]
    },
    {
     "name": "stdout",
     "output_type": "stream",
     "text": [
      "   Drift Rate Speed  Drift Rate Accuracy  Self-excitation Speed  \\\n",
      "0          0.161286              0.29066               7.996515   \n",
      "\n",
      "   Self-excitation Accuracy  Boundary Separation  Non-decision Time Speed  \\\n",
      "0                  6.824614             1.464352                 0.100818   \n",
      "\n",
      "   Non-decision Time Accuracy         BIC  \n",
      "0                    0.114145 -303.523646  \n",
      "3\n"
     ]
    },
    {
     "name": "stderr",
     "output_type": "stream",
     "text": [
      "Info: Params [2.22595665 2.52991933 9.2467263  8.58755981 0.80686322 0.27358309\n",
      " 0.29368087] gave -3762.6448492115737\n"
     ]
    },
    {
     "name": "stdout",
     "output_type": "stream",
     "text": [
      "   Drift Rate Speed  Drift Rate Accuracy  Self-excitation Speed  \\\n",
      "0          2.225957             2.529919               9.246726   \n",
      "\n",
      "   Self-excitation Accuracy  Boundary Separation  Non-decision Time Speed  \\\n",
      "0                   8.58756             0.806863                 0.273583   \n",
      "\n",
      "   Non-decision Time Accuracy          BIC  \n",
      "0                    0.293681 -3762.644849  \n",
      "4\n"
     ]
    },
    {
     "name": "stderr",
     "output_type": "stream",
     "text": [
      "Info: Params [0.23456192 0.50013627 8.71929806 7.05709027 1.56849227 0.10066954\n",
      " 0.11562894] gave -176.62231412685796\n"
     ]
    },
    {
     "name": "stdout",
     "output_type": "stream",
     "text": [
      "   Drift Rate Speed  Drift Rate Accuracy  Self-excitation Speed  \\\n",
      "0          0.234562             0.500136               8.719298   \n",
      "\n",
      "   Self-excitation Accuracy  Boundary Separation  Non-decision Time Speed  \\\n",
      "0                   7.05709             1.568492                  0.10067   \n",
      "\n",
      "   Non-decision Time Accuracy         BIC  \n",
      "0                    0.115629 -176.622314  \n",
      "5\n"
     ]
    },
    {
     "name": "stderr",
     "output_type": "stream",
     "text": [
      "Info: Params [ 1.754428    2.19297226 10.         10.          1.27122682  0.21012297\n",
      "  0.23955335] gave -1719.88359180692\n"
     ]
    },
    {
     "name": "stdout",
     "output_type": "stream",
     "text": [
      "   Drift Rate Speed  Drift Rate Accuracy  Self-excitation Speed  \\\n",
      "0          1.754428             2.192972                   10.0   \n",
      "\n",
      "   Self-excitation Accuracy  Boundary Separation  Non-decision Time Speed  \\\n",
      "0                      10.0             1.271227                 0.210123   \n",
      "\n",
      "   Non-decision Time Accuracy          BIC  \n",
      "0                    0.239553 -1719.883592  \n",
      "6\n"
     ]
    },
    {
     "name": "stderr",
     "output_type": "stream",
     "text": [
      "Info: Params [ 1.38609244  1.72281649 10.          9.67181596  1.46222636  0.21148067\n",
      "  0.24888006] gave -2865.7947411045925\n"
     ]
    },
    {
     "name": "stdout",
     "output_type": "stream",
     "text": [
      "   Drift Rate Speed  Drift Rate Accuracy  Self-excitation Speed  \\\n",
      "0          1.386092             1.722816                   10.0   \n",
      "\n",
      "   Self-excitation Accuracy  Boundary Separation  Non-decision Time Speed  \\\n",
      "0                  9.671816             1.462226                 0.211481   \n",
      "\n",
      "   Non-decision Time Accuracy          BIC  \n",
      "0                     0.24888 -2865.794741  \n",
      "7\n"
     ]
    },
    {
     "name": "stderr",
     "output_type": "stream",
     "text": [
      "Info: Params [1.51539734 1.8999487  9.56830414 2.98441415 0.83630092 0.2355001\n",
      " 0.26220816] gave -1942.9554990945646\n"
     ]
    },
    {
     "name": "stdout",
     "output_type": "stream",
     "text": [
      "   Drift Rate Speed  Drift Rate Accuracy  Self-excitation Speed  \\\n",
      "0          1.515397             1.899949               9.568304   \n",
      "\n",
      "   Self-excitation Accuracy  Boundary Separation  Non-decision Time Speed  \\\n",
      "0                  2.984414             0.836301                   0.2355   \n",
      "\n",
      "   Non-decision Time Accuracy          BIC  \n",
      "0                    0.262208 -1942.955499  \n",
      "8\n"
     ]
    },
    {
     "name": "stderr",
     "output_type": "stream",
     "text": [
      "Info: Params [1.55889734 1.964088   9.73286238 8.58500117 1.85735191 0.21561288\n",
      " 0.23227034] gave -1326.3431379410727\n"
     ]
    },
    {
     "name": "stdout",
     "output_type": "stream",
     "text": [
      "   Drift Rate Speed  Drift Rate Accuracy  Self-excitation Speed  \\\n",
      "0          1.558897             1.964088               9.732862   \n",
      "\n",
      "   Self-excitation Accuracy  Boundary Separation  Non-decision Time Speed  \\\n",
      "0                  8.585001             1.857352                 0.215613   \n",
      "\n",
      "   Non-decision Time Accuracy          BIC  \n",
      "0                     0.23227 -1326.343138  \n",
      "9\n"
     ]
    },
    {
     "name": "stderr",
     "output_type": "stream",
     "text": [
      "Info: Params [ 0.90743822  1.44383332 10.          8.89142048  2.0177313   0.14836124\n",
      "  0.18215012] gave -2019.466864819615\n"
     ]
    },
    {
     "name": "stdout",
     "output_type": "stream",
     "text": [
      "   Drift Rate Speed  Drift Rate Accuracy  Self-excitation Speed  \\\n",
      "0          0.907438             1.443833                   10.0   \n",
      "\n",
      "   Self-excitation Accuracy  Boundary Separation  Non-decision Time Speed  \\\n",
      "0                   8.89142             2.017731                 0.148361   \n",
      "\n",
      "   Non-decision Time Accuracy          BIC  \n",
      "0                     0.18215 -2019.466865  \n",
      "10\n"
     ]
    },
    {
     "name": "stderr",
     "output_type": "stream",
     "text": [
      "Info: Params [0.11437316 0.10211291 7.74557851 7.62910922 1.29571577 0.10059422\n",
      " 0.10834414] gave -444.08383881265325\n"
     ]
    },
    {
     "name": "stdout",
     "output_type": "stream",
     "text": [
      "   Drift Rate Speed  Drift Rate Accuracy  Self-excitation Speed  \\\n",
      "0          0.114373             0.102113               7.745579   \n",
      "\n",
      "   Self-excitation Accuracy  Boundary Separation  Non-decision Time Speed  \\\n",
      "0                  7.629109             1.295716                 0.100594   \n",
      "\n",
      "   Non-decision Time Accuracy         BIC  \n",
      "0                    0.108344 -444.083839  \n",
      "11\n"
     ]
    },
    {
     "name": "stderr",
     "output_type": "stream",
     "text": [
      "Info: Params [0.65099405 1.23946891 9.08101195 3.44390019 1.27051053 0.17398268\n",
      " 0.20618585] gave -198.49475953323363\n"
     ]
    },
    {
     "name": "stdout",
     "output_type": "stream",
     "text": [
      "   Drift Rate Speed  Drift Rate Accuracy  Self-excitation Speed  \\\n",
      "0          0.650994             1.239469               9.081012   \n",
      "\n",
      "   Self-excitation Accuracy  Boundary Separation  Non-decision Time Speed  \\\n",
      "0                    3.4439             1.270511                 0.173983   \n",
      "\n",
      "   Non-decision Time Accuracy        BIC  \n",
      "0                    0.206186 -198.49476  \n",
      "12\n"
     ]
    },
    {
     "name": "stderr",
     "output_type": "stream",
     "text": [
      "Info: Params [0.26189047 0.87517793 8.24589213 6.58363815 1.8022924  0.10054182\n",
      " 0.13736022] gave -336.32006396082943\n"
     ]
    },
    {
     "name": "stdout",
     "output_type": "stream",
     "text": [
      "   Drift Rate Speed  Drift Rate Accuracy  Self-excitation Speed  \\\n",
      "0           0.26189             0.875178               8.245892   \n",
      "\n",
      "   Self-excitation Accuracy  Boundary Separation  Non-decision Time Speed  \\\n",
      "0                  6.583638             1.802292                 0.100542   \n",
      "\n",
      "   Non-decision Time Accuracy         BIC  \n",
      "0                     0.13736 -336.320064  \n",
      "13\n"
     ]
    },
    {
     "name": "stderr",
     "output_type": "stream",
     "text": [
      "Info: Params [0.         0.55143083 8.99342762 4.36064226 0.6213558  0.15768727\n",
      " 0.16693152] gave -299.8960373307577\n"
     ]
    },
    {
     "name": "stdout",
     "output_type": "stream",
     "text": [
      "   Drift Rate Speed  Drift Rate Accuracy  Self-excitation Speed  \\\n",
      "0               0.0             0.551431               8.993428   \n",
      "\n",
      "   Self-excitation Accuracy  Boundary Separation  Non-decision Time Speed  \\\n",
      "0                  4.360642             0.621356                 0.157687   \n",
      "\n",
      "   Non-decision Time Accuracy         BIC  \n",
      "0                    0.166932 -299.896037  \n",
      "14\n"
     ]
    },
    {
     "name": "stderr",
     "output_type": "stream",
     "text": [
      "Info: Params [1.06193182 1.17257857 8.37012133 8.84093614 2.9659961  0.18138829\n",
      " 0.21056537] gave -1392.174135342657\n"
     ]
    },
    {
     "name": "stdout",
     "output_type": "stream",
     "text": [
      "   Drift Rate Speed  Drift Rate Accuracy  Self-excitation Speed  \\\n",
      "0          1.061932             1.172579               8.370121   \n",
      "\n",
      "   Self-excitation Accuracy  Boundary Separation  Non-decision Time Speed  \\\n",
      "0                  8.840936             2.965996                 0.181388   \n",
      "\n",
      "   Non-decision Time Accuracy          BIC  \n",
      "0                    0.210565 -1392.174135  \n",
      "15\n"
     ]
    },
    {
     "name": "stderr",
     "output_type": "stream",
     "text": [
      "Info: Params [0.03573155 0.56040408 7.79298238 5.36705537 0.95003903 0.15300095\n",
      " 0.16548527] gave 186.0002935164307\n"
     ]
    },
    {
     "name": "stdout",
     "output_type": "stream",
     "text": [
      "   Drift Rate Speed  Drift Rate Accuracy  Self-excitation Speed  \\\n",
      "0          0.035732             0.560404               7.792982   \n",
      "\n",
      "   Self-excitation Accuracy  Boundary Separation  Non-decision Time Speed  \\\n",
      "0                  5.367055             0.950039                 0.153001   \n",
      "\n",
      "   Non-decision Time Accuracy         BIC  \n",
      "0                    0.165485  186.000294  \n",
      "16\n"
     ]
    },
    {
     "name": "stderr",
     "output_type": "stream",
     "text": [
      "Info: Params [ 0.42034173  0.54092506 10.          8.87354028  1.49964684  0.10364871\n",
      "  0.12208547] gave -1434.42620127933\n"
     ]
    },
    {
     "name": "stdout",
     "output_type": "stream",
     "text": [
      "   Drift Rate Speed  Drift Rate Accuracy  Self-excitation Speed  \\\n",
      "0          0.420342             0.540925                   10.0   \n",
      "\n",
      "   Self-excitation Accuracy  Boundary Separation  Non-decision Time Speed  \\\n",
      "0                   8.87354             1.499647                 0.103649   \n",
      "\n",
      "   Non-decision Time Accuracy          BIC  \n",
      "0                    0.122085 -1434.426201  \n",
      "17\n"
     ]
    },
    {
     "name": "stderr",
     "output_type": "stream",
     "text": [
      "Info: Params [0.25406172 1.01506381 7.33648203 3.7296641  1.11163025 0.10098782\n",
      " 0.14134714] gave 487.41218256598125\n"
     ]
    },
    {
     "name": "stdout",
     "output_type": "stream",
     "text": [
      "   Drift Rate Speed  Drift Rate Accuracy  Self-excitation Speed  \\\n",
      "0          0.254062             1.015064               7.336482   \n",
      "\n",
      "   Self-excitation Accuracy  Boundary Separation  Non-decision Time Speed  \\\n",
      "0                  3.729664              1.11163                 0.100988   \n",
      "\n",
      "   Non-decision Time Accuracy         BIC  \n",
      "0                    0.141347  487.412183  \n",
      "18\n"
     ]
    },
    {
     "name": "stderr",
     "output_type": "stream",
     "text": [
      "Info: Params [2.2600318  2.52244734 6.12080633 6.97337027 1.97402096 0.30547862\n",
      " 0.33526908] gave -2619.082437242038\n"
     ]
    },
    {
     "name": "stdout",
     "output_type": "stream",
     "text": [
      "   Drift Rate Speed  Drift Rate Accuracy  Self-excitation Speed  \\\n",
      "0          2.260032             2.522447               6.120806   \n",
      "\n",
      "   Self-excitation Accuracy  Boundary Separation  Non-decision Time Speed  \\\n",
      "0                   6.97337             1.974021                 0.305479   \n",
      "\n",
      "   Non-decision Time Accuracy          BIC  \n",
      "0                    0.335269 -2619.082437  \n",
      "19\n"
     ]
    },
    {
     "name": "stderr",
     "output_type": "stream",
     "text": [
      "Info: Params [ 0.27295479  0.48468318 10.          8.69874322  2.27861476  0.10056949\n",
      "  0.11407447] gave -1158.4092702592477\n"
     ]
    },
    {
     "name": "stdout",
     "output_type": "stream",
     "text": [
      "   Drift Rate Speed  Drift Rate Accuracy  Self-excitation Speed  \\\n",
      "0          0.272955             0.484683                   10.0   \n",
      "\n",
      "   Self-excitation Accuracy  Boundary Separation  Non-decision Time Speed  \\\n",
      "0                  8.698743             2.278615                 0.100569   \n",
      "\n",
      "   Non-decision Time Accuracy         BIC  \n",
      "0                    0.114074 -1158.40927  \n",
      "20\n"
     ]
    },
    {
     "name": "stderr",
     "output_type": "stream",
     "text": [
      "Info: Params [0.2152496  0.02757752 9.63155114 7.65591304 1.17585435 0.1116718\n",
      " 0.10189645] gave -653.9493665042004\n"
     ]
    },
    {
     "name": "stdout",
     "output_type": "stream",
     "text": [
      "   Drift Rate Speed  Drift Rate Accuracy  Self-excitation Speed  \\\n",
      "0           0.21525             0.027578               9.631551   \n",
      "\n",
      "   Self-excitation Accuracy  Boundary Separation  Non-decision Time Speed  \\\n",
      "0                  7.655913             1.175854                 0.111672   \n",
      "\n",
      "   Non-decision Time Accuracy         BIC  \n",
      "0                    0.101896 -653.949367  \n",
      "21\n"
     ]
    },
    {
     "name": "stderr",
     "output_type": "stream",
     "text": [
      "Info: Params [0.2256842  0.65462237 6.87389846 4.80058628 1.54895917 0.10243819\n",
      " 0.11746024] gave 756.1997853369409\n"
     ]
    },
    {
     "name": "stdout",
     "output_type": "stream",
     "text": [
      "   Drift Rate Speed  Drift Rate Accuracy  Self-excitation Speed  \\\n",
      "0          0.225684             0.654622               6.873898   \n",
      "\n",
      "   Self-excitation Accuracy  Boundary Separation  Non-decision Time Speed  \\\n",
      "0                  4.800586             1.548959                 0.102438   \n",
      "\n",
      "   Non-decision Time Accuracy         BIC  \n",
      "0                     0.11746  756.199785  \n",
      "22\n"
     ]
    },
    {
     "name": "stderr",
     "output_type": "stream",
     "text": [
      "Info: Params [6.29071310e-04 1.70678046e-01 9.20725752e+00 4.31196595e+00\n",
      " 5.93803619e-01 1.53285074e-01 1.60379308e-01] gave -796.9984314577517\n"
     ]
    },
    {
     "name": "stdout",
     "output_type": "stream",
     "text": [
      "   Drift Rate Speed  Drift Rate Accuracy  Self-excitation Speed  \\\n",
      "0          0.000629             0.170678               9.207258   \n",
      "\n",
      "   Self-excitation Accuracy  Boundary Separation  Non-decision Time Speed  \\\n",
      "0                  4.311966             0.593804                 0.153285   \n",
      "\n",
      "   Non-decision Time Accuracy         BIC  \n",
      "0                    0.160379 -796.998431  \n",
      "23\n"
     ]
    },
    {
     "name": "stderr",
     "output_type": "stream",
     "text": [
      "Info: Params [0.05079805 0.41327393 8.89647744 6.18483157 1.69295956 0.10063266\n",
      " 0.11974034] gave -18.849636298689717\n"
     ]
    },
    {
     "name": "stdout",
     "output_type": "stream",
     "text": [
      "   Drift Rate Speed  Drift Rate Accuracy  Self-excitation Speed  \\\n",
      "0          0.050798             0.413274               8.896477   \n",
      "\n",
      "   Self-excitation Accuracy  Boundary Separation  Non-decision Time Speed  \\\n",
      "0                  6.184832              1.69296                 0.100633   \n",
      "\n",
      "   Non-decision Time Accuracy        BIC  \n",
      "0                     0.11974 -18.849636  \n",
      "24\n"
     ]
    },
    {
     "name": "stderr",
     "output_type": "stream",
     "text": [
      "Info: Params [0.15107958 0.8765923  8.11522875 1.80544453 0.96692661 0.10089697\n",
      " 0.1656569 ] gave 462.85078213959747\n"
     ]
    },
    {
     "name": "stdout",
     "output_type": "stream",
     "text": [
      "   Drift Rate Speed  Drift Rate Accuracy  Self-excitation Speed  \\\n",
      "0           0.15108             0.876592               8.115229   \n",
      "\n",
      "   Self-excitation Accuracy  Boundary Separation  Non-decision Time Speed  \\\n",
      "0                  1.805445             0.966927                 0.100897   \n",
      "\n",
      "   Non-decision Time Accuracy         BIC  \n",
      "0                    0.165657  462.850782  \n",
      "25\n"
     ]
    },
    {
     "name": "stderr",
     "output_type": "stream",
     "text": [
      "Info: Params [ 0.47422884  0.63647607 10.          8.28668767  1.75947856  0.11785502\n",
      "  0.11038596] gave -690.5852355147174\n"
     ]
    },
    {
     "name": "stdout",
     "output_type": "stream",
     "text": [
      "   Drift Rate Speed  Drift Rate Accuracy  Self-excitation Speed  \\\n",
      "0          0.474229             0.636476                   10.0   \n",
      "\n",
      "   Self-excitation Accuracy  Boundary Separation  Non-decision Time Speed  \\\n",
      "0                  8.286688             1.759479                 0.117855   \n",
      "\n",
      "   Non-decision Time Accuracy         BIC  \n",
      "0                    0.110386 -690.585236  \n",
      "26\n"
     ]
    },
    {
     "name": "stderr",
     "output_type": "stream",
     "text": [
      "Info: Params [ 0.92924938  1.54260485 10.          4.79151223  1.12833607  0.15208523\n",
      "  0.1935173 ] gave -712.7349235564054\n"
     ]
    },
    {
     "name": "stdout",
     "output_type": "stream",
     "text": [
      "   Drift Rate Speed  Drift Rate Accuracy  Self-excitation Speed  \\\n",
      "0          0.929249             1.542605                   10.0   \n",
      "\n",
      "   Self-excitation Accuracy  Boundary Separation  Non-decision Time Speed  \\\n",
      "0                  4.791512             1.128336                 0.152085   \n",
      "\n",
      "   Non-decision Time Accuracy         BIC  \n",
      "0                    0.193517 -712.734924  \n",
      "27\n"
     ]
    },
    {
     "name": "stderr",
     "output_type": "stream",
     "text": [
      "Info: Params [ 0.12989382  0.         10.         10.          2.26067346  0.10339206\n",
      "  0.12640846] gave -1015.8871214941612\n"
     ]
    },
    {
     "name": "stdout",
     "output_type": "stream",
     "text": [
      "   Drift Rate Speed  Drift Rate Accuracy  Self-excitation Speed  \\\n",
      "0          0.129894                  0.0                   10.0   \n",
      "\n",
      "   Self-excitation Accuracy  Boundary Separation  Non-decision Time Speed  \\\n",
      "0                      10.0             2.260673                 0.103392   \n",
      "\n",
      "   Non-decision Time Accuracy          BIC  \n",
      "0                    0.126408 -1015.887121  \n",
      "28\n"
     ]
    },
    {
     "name": "stderr",
     "output_type": "stream",
     "text": [
      "Info: Params [0.21157569 0.53110154 8.71511172 6.21904015 1.39027233 0.100783\n",
      " 0.14078037] gave -19.224320921639894\n"
     ]
    },
    {
     "name": "stdout",
     "output_type": "stream",
     "text": [
      "   Drift Rate Speed  Drift Rate Accuracy  Self-excitation Speed  \\\n",
      "0          0.211576             0.531102               8.715112   \n",
      "\n",
      "   Self-excitation Accuracy  Boundary Separation  Non-decision Time Speed  \\\n",
      "0                   6.21904             1.390272                 0.100783   \n",
      "\n",
      "   Non-decision Time Accuracy        BIC  \n",
      "0                     0.14078 -19.224321  \n",
      "29\n"
     ]
    },
    {
     "name": "stderr",
     "output_type": "stream",
     "text": [
      "Info: Params [0.09412693 0.12040291 7.47990066 5.90874179 1.43479737 0.1009364\n",
      " 0.10055146] gave 265.6173290113381\n"
     ]
    },
    {
     "name": "stdout",
     "output_type": "stream",
     "text": [
      "   Drift Rate Speed  Drift Rate Accuracy  Self-excitation Speed  \\\n",
      "0          0.094127             0.120403               7.479901   \n",
      "\n",
      "   Self-excitation Accuracy  Boundary Separation  Non-decision Time Speed  \\\n",
      "0                  5.908742             1.434797                 0.100936   \n",
      "\n",
      "   Non-decision Time Accuracy         BIC  \n",
      "0                    0.100551  265.617329  \n",
      "30\n"
     ]
    },
    {
     "name": "stderr",
     "output_type": "stream",
     "text": [
      "Info: Params [0.13746999 0.02895135 8.02997849 7.50165941 1.17133456 0.11034704\n",
      " 0.10162915] gave -130.3316845920038\n"
     ]
    },
    {
     "name": "stdout",
     "output_type": "stream",
     "text": [
      "   Drift Rate Speed  Drift Rate Accuracy  Self-excitation Speed  \\\n",
      "0           0.13747             0.028951               8.029978   \n",
      "\n",
      "   Self-excitation Accuracy  Boundary Separation  Non-decision Time Speed  \\\n",
      "0                  7.501659             1.171335                 0.110347   \n",
      "\n",
      "   Non-decision Time Accuracy         BIC  \n",
      "0                    0.101629 -130.331685  \n",
      "31\n"
     ]
    },
    {
     "name": "stderr",
     "output_type": "stream",
     "text": [
      "Info: Params [0.36382075 0.15732257 8.07977339 6.72585534 0.97643715 0.13136068\n",
      " 0.13196563] gave -43.19602171023942\n"
     ]
    },
    {
     "name": "stdout",
     "output_type": "stream",
     "text": [
      "   Drift Rate Speed  Drift Rate Accuracy  Self-excitation Speed  \\\n",
      "0          0.363821             0.157323               8.079773   \n",
      "\n",
      "   Self-excitation Accuracy  Boundary Separation  Non-decision Time Speed  \\\n",
      "0                  6.725855             0.976437                 0.131361   \n",
      "\n",
      "   Non-decision Time Accuracy        BIC  \n",
      "0                    0.131966 -43.196022  \n",
      "32\n"
     ]
    },
    {
     "name": "stderr",
     "output_type": "stream",
     "text": [
      "Info: Params [0.09420834 0.12025124 7.52077533 5.93634704 1.43554831 0.10128866\n",
      " 0.10118662] gave 266.34259098717837\n"
     ]
    },
    {
     "name": "stdout",
     "output_type": "stream",
     "text": [
      "   Drift Rate Speed  Drift Rate Accuracy  Self-excitation Speed  \\\n",
      "0          0.094208             0.120251               7.520775   \n",
      "\n",
      "   Self-excitation Accuracy  Boundary Separation  Non-decision Time Speed  \\\n",
      "0                  5.936347             1.435548                 0.101289   \n",
      "\n",
      "   Non-decision Time Accuracy         BIC  \n",
      "0                    0.101187  266.342591  \n",
      "33\n"
     ]
    },
    {
     "name": "stderr",
     "output_type": "stream",
     "text": [
      "Info: Params [7.00084825e-03 5.16071710e-01 8.92910180e+00 3.35439990e+00\n",
      " 1.64186604e+00 1.00711868e-01 1.25243947e-01] gave 537.5656261839576\n"
     ]
    },
    {
     "name": "stdout",
     "output_type": "stream",
     "text": [
      "   Drift Rate Speed  Drift Rate Accuracy  Self-excitation Speed  \\\n",
      "0          0.007001             0.516072               8.929102   \n",
      "\n",
      "   Self-excitation Accuracy  Boundary Separation  Non-decision Time Speed  \\\n",
      "0                    3.3544             1.641866                 0.100712   \n",
      "\n",
      "   Non-decision Time Accuracy         BIC  \n",
      "0                    0.125244  537.565626  \n"
     ]
    }
   ],
   "source": [
    "%run Rae2014-OUM2v2k2ter-pyddm.ipynb"
   ]
  },
  {
   "cell_type": "code",
   "execution_count": null,
   "id": "cfadf23c",
   "metadata": {},
   "outputs": [],
   "source": []
  }
 ],
 "metadata": {
  "kernelspec": {
   "display_name": "Python 3 (ipykernel)",
   "language": "python",
   "name": "python3"
  },
  "language_info": {
   "codemirror_mode": {
    "name": "ipython",
    "version": 3
   },
   "file_extension": ".py",
   "mimetype": "text/x-python",
   "name": "python",
   "nbconvert_exporter": "python",
   "pygments_lexer": "ipython3",
   "version": "3.7.15"
  }
 },
 "nbformat": 4,
 "nbformat_minor": 5
}
