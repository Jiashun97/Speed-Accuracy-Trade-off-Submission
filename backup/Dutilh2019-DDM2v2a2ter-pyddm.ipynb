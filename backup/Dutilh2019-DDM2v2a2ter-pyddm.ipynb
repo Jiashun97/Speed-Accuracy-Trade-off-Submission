{
 "cells": [
  {
   "cell_type": "code",
   "execution_count": 1,
   "id": "2cda49de",
   "metadata": {},
   "outputs": [],
   "source": [
    "%run SAT_help_functions.ipynb"
   ]
  },
  {
   "cell_type": "code",
   "execution_count": null,
   "id": "bc081cf9",
   "metadata": {},
   "outputs": [],
   "source": []
  },
  {
   "cell_type": "markdown",
   "id": "4bd26666",
   "metadata": {},
   "source": [
    "## OUM"
   ]
  },
  {
   "cell_type": "code",
   "execution_count": null,
   "id": "9ef6c434",
   "metadata": {},
   "outputs": [],
   "source": []
  },
  {
   "cell_type": "code",
   "execution_count": 2,
   "id": "e776257c",
   "metadata": {},
   "outputs": [],
   "source": [
    "sample_size = 20\n",
    "data_dir = '/Users/wangjiashun/Desktop/Reserach on SAT/datasets/Dutilh2019/validation_text_data/exp_4/pp'\n",
    "SAT_conds = [\"A\", \"B\"]"
   ]
  },
  {
   "cell_type": "code",
   "execution_count": 3,
   "id": "f434220f",
   "metadata": {},
   "outputs": [],
   "source": [
    "class BoundSpeedAcc(Bound):\n",
    "    name = \"BoundSpeedAcc\"\n",
    "    required_parameters = [\"Bspeed\", \"Bacc\"]\n",
    "    required_conditions = ['cond']\n",
    "    def get_bound(self, conditions, *args, **kwargs):\n",
    "        assert self.Bacc > 0\n",
    "        assert self.Bspeed > 0\n",
    "        if conditions['cond'] == 'A':\n",
    "            return self.Bspeed\n",
    "        elif conditions['cond'] == 'B':\n",
    "            return self.Bacc\n",
    "        else:\n",
    "            print(\"Non-implemented SAT conditions\")"
   ]
  },
  {
   "cell_type": "code",
   "execution_count": 4,
   "id": "bbb278a6",
   "metadata": {},
   "outputs": [],
   "source": [
    "\n",
    "class DriftConstantSpeedAcc(Drift):\n",
    "    name = \"DriftConstantSpeedAcc\"\n",
    "    required_parameters = [\"Vspeed\",\"Vacc\"]\n",
    "    required_conditions = ['cond']\n",
    "        \n",
    "    def get_drift(self, x, t, conditions, **kwargs):\n",
    "        if conditions['cond'] == 'A':\n",
    "            return self.Vspeed\n",
    "        elif conditions['cond'] == 'B':\n",
    "            return self.Vacc\n",
    "        else: \n",
    "            print(\"Non-implemented SAT conditions\")"
   ]
  },
  {
   "cell_type": "code",
   "execution_count": 5,
   "id": "6e5e0074",
   "metadata": {},
   "outputs": [],
   "source": [
    "\n",
    "class NondecisionSpeedAcc(OverlayNonDecision):\n",
    "    name = \"NondecisionSpeedAcc\"\n",
    "    required_parameters = [\"tSpeed\", 'tAcc']\n",
    "    required_conditions = ['cond']\n",
    "        \n",
    "    def get_nondecision_time(self, conditions, **kwargs):\n",
    "        if conditions['cond'] == 'A':\n",
    "            return self.tSpeed \n",
    "        elif conditions['cond'] == 'B':\n",
    "            return self.tAcc\n",
    "        else: \n",
    "            print(\"Non-implemented SAT conditions\")"
   ]
  },
  {
   "cell_type": "code",
   "execution_count": null,
   "id": "b1e0fe9b",
   "metadata": {},
   "outputs": [],
   "source": []
  },
  {
   "cell_type": "code",
   "execution_count": null,
   "id": "81235d16",
   "metadata": {},
   "outputs": [],
   "source": []
  },
  {
   "cell_type": "code",
   "execution_count": null,
   "id": "8a3f5185",
   "metadata": {},
   "outputs": [],
   "source": []
  },
  {
   "cell_type": "code",
   "execution_count": 6,
   "id": "fdb13001",
   "metadata": {
    "scrolled": true
   },
   "outputs": [
    {
     "name": "stderr",
     "output_type": "stream",
     "text": [
      "Warning: This function (from_pandas_dataframe()) is deprecated and will be removed in a future version of PyDDM.  Please use the choice_column_name argument instead.\n"
     ]
    },
    {
     "name": "stdout",
     "output_type": "stream",
     "text": [
      "0\n"
     ]
    },
    {
     "name": "stderr",
     "output_type": "stream",
     "text": [
      "Info: Params [1.01778276 1.25771521 0.65137484 0.79399504 0.22787904 0.3518955 ] gave 327.13448687789986\n",
      "Warning: This function (from_pandas_dataframe()) is deprecated and will be removed in a future version of PyDDM.  Please use the choice_column_name argument instead.\n"
     ]
    },
    {
     "name": "stdout",
     "output_type": "stream",
     "text": [
      "   Drift Rate Speed  Drift Rate Accuracy  Boundary Separation Speed  \\\n",
      "0          1.017783             1.257715                   0.651375   \n",
      "\n",
      "   Boundary Separation Accuracy  Non-decision Time Speed  \\\n",
      "0                      0.793995                 0.227879   \n",
      "\n",
      "   Non-decision Time Accuracy         BIC  \n",
      "0                    0.351896  327.134487  \n",
      "1\n"
     ]
    },
    {
     "name": "stderr",
     "output_type": "stream",
     "text": [
      "Info: Params [0.26745857 0.54910421 0.64147957 0.866547   0.2228643  0.43897924] gave 630.260897046964\n",
      "Warning: This function (from_pandas_dataframe()) is deprecated and will be removed in a future version of PyDDM.  Please use the choice_column_name argument instead.\n"
     ]
    },
    {
     "name": "stdout",
     "output_type": "stream",
     "text": [
      "   Drift Rate Speed  Drift Rate Accuracy  Boundary Separation Speed  \\\n",
      "0          0.267459             0.549104                    0.64148   \n",
      "\n",
      "   Boundary Separation Accuracy  Non-decision Time Speed  \\\n",
      "0                      0.866547                 0.222864   \n",
      "\n",
      "   Non-decision Time Accuracy         BIC  \n",
      "0                    0.438979  630.260897  \n",
      "2\n"
     ]
    },
    {
     "name": "stderr",
     "output_type": "stream",
     "text": [
      "Info: Params [1.5226069  1.59860406 0.55583081 0.75848791 0.24797725 0.36520365] gave 17.225109561228372\n",
      "Warning: This function (from_pandas_dataframe()) is deprecated and will be removed in a future version of PyDDM.  Please use the choice_column_name argument instead.\n"
     ]
    },
    {
     "name": "stdout",
     "output_type": "stream",
     "text": [
      "   Drift Rate Speed  Drift Rate Accuracy  Boundary Separation Speed  \\\n",
      "0          1.522607             1.598604                   0.555831   \n",
      "\n",
      "   Boundary Separation Accuracy  Non-decision Time Speed  \\\n",
      "0                      0.758488                 0.247977   \n",
      "\n",
      "   Non-decision Time Accuracy       BIC  \n",
      "0                    0.365204  17.22511  \n",
      "3\n"
     ]
    },
    {
     "name": "stderr",
     "output_type": "stream",
     "text": [
      "Info: Params [0.16706277 1.03746991 0.50017174 0.91731869 0.18728305 0.23021662] gave 292.71664719975263\n",
      "Warning: This function (from_pandas_dataframe()) is deprecated and will be removed in a future version of PyDDM.  Please use the choice_column_name argument instead.\n"
     ]
    },
    {
     "name": "stdout",
     "output_type": "stream",
     "text": [
      "   Drift Rate Speed  Drift Rate Accuracy  Boundary Separation Speed  \\\n",
      "0          0.167063              1.03747                   0.500172   \n",
      "\n",
      "   Boundary Separation Accuracy  Non-decision Time Speed  \\\n",
      "0                      0.917319                 0.187283   \n",
      "\n",
      "   Non-decision Time Accuracy         BIC  \n",
      "0                    0.230217  292.716647  \n",
      "4\n"
     ]
    },
    {
     "name": "stderr",
     "output_type": "stream",
     "text": [
      "Info: Params [0.87012882 1.40182909 0.57923473 0.66083473 0.21542774 0.34889957] gave 173.87718894563415\n",
      "Warning: This function (from_pandas_dataframe()) is deprecated and will be removed in a future version of PyDDM.  Please use the choice_column_name argument instead.\n"
     ]
    },
    {
     "name": "stdout",
     "output_type": "stream",
     "text": [
      "   Drift Rate Speed  Drift Rate Accuracy  Boundary Separation Speed  \\\n",
      "0          0.870129             1.401829                   0.579235   \n",
      "\n",
      "   Boundary Separation Accuracy  Non-decision Time Speed  \\\n",
      "0                      0.660835                 0.215428   \n",
      "\n",
      "   Non-decision Time Accuracy         BIC  \n",
      "0                      0.3489  173.877189  \n",
      "5\n"
     ]
    },
    {
     "name": "stderr",
     "output_type": "stream",
     "text": [
      "Info: Params [1.59081132 1.36502836 0.63383144 0.84729152 0.32525618 0.47349077] gave 146.4997046963938\n",
      "Warning: This function (from_pandas_dataframe()) is deprecated and will be removed in a future version of PyDDM.  Please use the choice_column_name argument instead.\n"
     ]
    },
    {
     "name": "stdout",
     "output_type": "stream",
     "text": [
      "   Drift Rate Speed  Drift Rate Accuracy  Boundary Separation Speed  \\\n",
      "0          1.590811             1.365028                   0.633831   \n",
      "\n",
      "   Boundary Separation Accuracy  Non-decision Time Speed  \\\n",
      "0                      0.847292                 0.325256   \n",
      "\n",
      "   Non-decision Time Accuracy         BIC  \n",
      "0                    0.473491  146.499705  \n",
      "6\n"
     ]
    },
    {
     "name": "stderr",
     "output_type": "stream",
     "text": [
      "Info: Params [0.91385264 1.66377348 0.57350754 0.74332863 0.24637143 0.29926143] gave 130.81999680198604\n",
      "Warning: This function (from_pandas_dataframe()) is deprecated and will be removed in a future version of PyDDM.  Please use the choice_column_name argument instead.\n"
     ]
    },
    {
     "name": "stdout",
     "output_type": "stream",
     "text": [
      "   Drift Rate Speed  Drift Rate Accuracy  Boundary Separation Speed  \\\n",
      "0          0.913853             1.663773                   0.573508   \n",
      "\n",
      "   Boundary Separation Accuracy  Non-decision Time Speed  \\\n",
      "0                      0.743329                 0.246371   \n",
      "\n",
      "   Non-decision Time Accuracy         BIC  \n",
      "0                    0.299261  130.819997  \n",
      "7\n"
     ]
    },
    {
     "name": "stderr",
     "output_type": "stream",
     "text": [
      "Info: Params [1.3826693  1.87938941 0.59849601 0.63620813 0.29310168 0.38141495] gave -41.18397052893386\n",
      "Warning: This function (from_pandas_dataframe()) is deprecated and will be removed in a future version of PyDDM.  Please use the choice_column_name argument instead.\n"
     ]
    },
    {
     "name": "stdout",
     "output_type": "stream",
     "text": [
      "   Drift Rate Speed  Drift Rate Accuracy  Boundary Separation Speed  \\\n",
      "0          1.382669             1.879389                   0.598496   \n",
      "\n",
      "   Boundary Separation Accuracy  Non-decision Time Speed  \\\n",
      "0                      0.636208                 0.293102   \n",
      "\n",
      "   Non-decision Time Accuracy        BIC  \n",
      "0                    0.381415 -41.183971  \n",
      "8\n"
     ]
    },
    {
     "name": "stderr",
     "output_type": "stream",
     "text": [
      "Info: Params [1.20084067 1.51884121 0.52096309 0.72002209 0.34077864 0.35784755] gave 45.45666656703896\n",
      "Warning: This function (from_pandas_dataframe()) is deprecated and will be removed in a future version of PyDDM.  Please use the choice_column_name argument instead.\n"
     ]
    },
    {
     "name": "stdout",
     "output_type": "stream",
     "text": [
      "   Drift Rate Speed  Drift Rate Accuracy  Boundary Separation Speed  \\\n",
      "0          1.200841             1.518841                   0.520963   \n",
      "\n",
      "   Boundary Separation Accuracy  Non-decision Time Speed  \\\n",
      "0                      0.720022                 0.340779   \n",
      "\n",
      "   Non-decision Time Accuracy        BIC  \n",
      "0                    0.357848  45.456667  \n",
      "9\n"
     ]
    },
    {
     "name": "stderr",
     "output_type": "stream",
     "text": [
      "Info: Params [0.478522   0.9947711  0.55189963 0.89500932 0.22768653 0.47306685] gave 438.4994876141284\n",
      "Warning: This function (from_pandas_dataframe()) is deprecated and will be removed in a future version of PyDDM.  Please use the choice_column_name argument instead.\n"
     ]
    },
    {
     "name": "stdout",
     "output_type": "stream",
     "text": [
      "   Drift Rate Speed  Drift Rate Accuracy  Boundary Separation Speed  \\\n",
      "0          0.478522             0.994771                     0.5519   \n",
      "\n",
      "   Boundary Separation Accuracy  Non-decision Time Speed  \\\n",
      "0                      0.895009                 0.227687   \n",
      "\n",
      "   Non-decision Time Accuracy         BIC  \n",
      "0                    0.473067  438.499488  \n",
      "10\n"
     ]
    },
    {
     "name": "stderr",
     "output_type": "stream",
     "text": [
      "Info: Params [1.11526294 1.28098421 0.71152394 1.04036006 0.21487145 0.27484501] gave 443.9064980146471\n",
      "Warning: This function (from_pandas_dataframe()) is deprecated and will be removed in a future version of PyDDM.  Please use the choice_column_name argument instead.\n"
     ]
    },
    {
     "name": "stdout",
     "output_type": "stream",
     "text": [
      "   Drift Rate Speed  Drift Rate Accuracy  Boundary Separation Speed  \\\n",
      "0          1.115263             1.280984                   0.711524   \n",
      "\n",
      "   Boundary Separation Accuracy  Non-decision Time Speed  \\\n",
      "0                       1.04036                 0.214871   \n",
      "\n",
      "   Non-decision Time Accuracy         BIC  \n",
      "0                    0.274845  443.906498  \n",
      "11\n"
     ]
    },
    {
     "name": "stderr",
     "output_type": "stream",
     "text": [
      "Info: Params [1.30533282 1.1751311  0.5900037  0.72796517 0.29015954 0.39318304] gave 174.11401637425166\n",
      "Warning: This function (from_pandas_dataframe()) is deprecated and will be removed in a future version of PyDDM.  Please use the choice_column_name argument instead.\n"
     ]
    },
    {
     "name": "stdout",
     "output_type": "stream",
     "text": [
      "   Drift Rate Speed  Drift Rate Accuracy  Boundary Separation Speed  \\\n",
      "0          1.305333             1.175131                   0.590004   \n",
      "\n",
      "   Boundary Separation Accuracy  Non-decision Time Speed  \\\n",
      "0                      0.727965                  0.29016   \n",
      "\n",
      "   Non-decision Time Accuracy         BIC  \n",
      "0                    0.393183  174.114016  \n",
      "12\n"
     ]
    },
    {
     "name": "stderr",
     "output_type": "stream",
     "text": [
      "Info: Params [0.94670612 1.59446693 0.57193381 0.61257719 0.2263329  0.30788361] gave 71.24323685981335\n",
      "Warning: This function (from_pandas_dataframe()) is deprecated and will be removed in a future version of PyDDM.  Please use the choice_column_name argument instead.\n"
     ]
    },
    {
     "name": "stdout",
     "output_type": "stream",
     "text": [
      "   Drift Rate Speed  Drift Rate Accuracy  Boundary Separation Speed  \\\n",
      "0          0.946706             1.594467                   0.571934   \n",
      "\n",
      "   Boundary Separation Accuracy  Non-decision Time Speed  \\\n",
      "0                      0.612577                 0.226333   \n",
      "\n",
      "   Non-decision Time Accuracy        BIC  \n",
      "0                    0.307884  71.243237  \n",
      "13\n"
     ]
    },
    {
     "name": "stderr",
     "output_type": "stream",
     "text": [
      "Info: Params [1.09749855 1.15889435 0.61238315 0.80363608 0.19921476 0.3193916 ] gave 284.79661587317185\n",
      "Warning: This function (from_pandas_dataframe()) is deprecated and will be removed in a future version of PyDDM.  Please use the choice_column_name argument instead.\n"
     ]
    },
    {
     "name": "stdout",
     "output_type": "stream",
     "text": [
      "   Drift Rate Speed  Drift Rate Accuracy  Boundary Separation Speed  \\\n",
      "0          1.097499             1.158894                   0.612383   \n",
      "\n",
      "   Boundary Separation Accuracy  Non-decision Time Speed  \\\n",
      "0                      0.803636                 0.199215   \n",
      "\n",
      "   Non-decision Time Accuracy         BIC  \n",
      "0                    0.319392  284.796616  \n",
      "14\n"
     ]
    },
    {
     "name": "stderr",
     "output_type": "stream",
     "text": [
      "Info: Params [0.76077752 1.18020081 0.5857932  0.65077723 0.19684762 0.25128343] gave 201.74448400326554\n",
      "Warning: This function (from_pandas_dataframe()) is deprecated and will be removed in a future version of PyDDM.  Please use the choice_column_name argument instead.\n"
     ]
    },
    {
     "name": "stdout",
     "output_type": "stream",
     "text": [
      "   Drift Rate Speed  Drift Rate Accuracy  Boundary Separation Speed  \\\n",
      "0          0.760778             1.180201                   0.585793   \n",
      "\n",
      "   Boundary Separation Accuracy  Non-decision Time Speed  \\\n",
      "0                      0.650777                 0.196848   \n",
      "\n",
      "   Non-decision Time Accuracy         BIC  \n",
      "0                    0.251283  201.744484  \n",
      "15\n"
     ]
    },
    {
     "name": "stderr",
     "output_type": "stream",
     "text": [
      "Info: Params [1.38695997 2.23026199 0.52304122 0.86992664 0.24408212 0.30779947] gave -86.26011148250532\n",
      "Warning: This function (from_pandas_dataframe()) is deprecated and will be removed in a future version of PyDDM.  Please use the choice_column_name argument instead.\n"
     ]
    },
    {
     "name": "stdout",
     "output_type": "stream",
     "text": [
      "   Drift Rate Speed  Drift Rate Accuracy  Boundary Separation Speed  \\\n",
      "0           1.38696             2.230262                   0.523041   \n",
      "\n",
      "   Boundary Separation Accuracy  Non-decision Time Speed  \\\n",
      "0                      0.869927                 0.244082   \n",
      "\n",
      "   Non-decision Time Accuracy        BIC  \n",
      "0                    0.307799 -86.260111  \n",
      "16\n"
     ]
    },
    {
     "name": "stderr",
     "output_type": "stream",
     "text": [
      "Info: Params [1.02964219 0.87978724 0.51885546 0.58695275 0.26333303 0.36552393] gave 103.86536875069118\n",
      "Warning: This function (from_pandas_dataframe()) is deprecated and will be removed in a future version of PyDDM.  Please use the choice_column_name argument instead.\n"
     ]
    },
    {
     "name": "stdout",
     "output_type": "stream",
     "text": [
      "   Drift Rate Speed  Drift Rate Accuracy  Boundary Separation Speed  \\\n",
      "0          1.029642             0.879787                   0.518855   \n",
      "\n",
      "   Boundary Separation Accuracy  Non-decision Time Speed  \\\n",
      "0                      0.586953                 0.263333   \n",
      "\n",
      "   Non-decision Time Accuracy         BIC  \n",
      "0                    0.365524  103.865369  \n",
      "17\n"
     ]
    },
    {
     "name": "stderr",
     "output_type": "stream",
     "text": [
      "Info: Params [1.86989038 1.86355015 0.59065777 0.67986246 0.27307764 0.34561363] gave -123.7485182573223\n",
      "Warning: This function (from_pandas_dataframe()) is deprecated and will be removed in a future version of PyDDM.  Please use the choice_column_name argument instead.\n"
     ]
    },
    {
     "name": "stdout",
     "output_type": "stream",
     "text": [
      "   Drift Rate Speed  Drift Rate Accuracy  Boundary Separation Speed  \\\n",
      "0           1.86989              1.86355                   0.590658   \n",
      "\n",
      "   Boundary Separation Accuracy  Non-decision Time Speed  \\\n",
      "0                      0.679862                 0.273078   \n",
      "\n",
      "   Non-decision Time Accuracy         BIC  \n",
      "0                    0.345614 -123.748518  \n",
      "18\n"
     ]
    },
    {
     "name": "stderr",
     "output_type": "stream",
     "text": [
      "Info: Params [1.97295768 1.43749313 0.61003451 0.72989493 0.27059458 0.30256382] gave 28.347799466407842\n",
      "Warning: This function (from_pandas_dataframe()) is deprecated and will be removed in a future version of PyDDM.  Please use the choice_column_name argument instead.\n"
     ]
    },
    {
     "name": "stdout",
     "output_type": "stream",
     "text": [
      "   Drift Rate Speed  Drift Rate Accuracy  Boundary Separation Speed  \\\n",
      "0          1.972958             1.437493                   0.610035   \n",
      "\n",
      "   Boundary Separation Accuracy  Non-decision Time Speed  \\\n",
      "0                      0.729895                 0.270595   \n",
      "\n",
      "   Non-decision Time Accuracy        BIC  \n",
      "0                    0.302564  28.347799  \n",
      "19\n"
     ]
    },
    {
     "name": "stderr",
     "output_type": "stream",
     "text": [
      "Info: Params [0.23457498 0.68591916 0.59960821 0.65651342 0.20986688 0.3142071 ] gave 397.6600602568669\n"
     ]
    },
    {
     "name": "stdout",
     "output_type": "stream",
     "text": [
      "   Drift Rate Speed  Drift Rate Accuracy  Boundary Separation Speed  \\\n",
      "0          0.234575             0.685919                   0.599608   \n",
      "\n",
      "   Boundary Separation Accuracy  Non-decision Time Speed  \\\n",
      "0                      0.656513                 0.209867   \n",
      "\n",
      "   Non-decision Time Accuracy        BIC  \n",
      "0                    0.314207  397.66006  \n"
     ]
    }
   ],
   "source": [
    "df_all = pd.DataFrame()\n",
    "for i in range(sample_size):\n",
    "    print(i)\n",
    "    path = os.path.join(data_dir+str(i+1)+\".txt\")\n",
    "    df = pd.read_csv(path, sep = \" \")\n",
    "    #df = df[df[\"cond\"]==SAT] # A condition\n",
    "    df = df[df[\"rt\"]<5]\n",
    "\n",
    "    samp = Sample.from_pandas_dataframe(df, rt_column_name=\"rt\", correct_column_name=\"correct\")\n",
    "    df = get_DDM_result_sub_2v2a2ter(samp)\n",
    "    df_all = pd.concat((df_all,df))\n",
    "    print(df)\n",
    "df_OUM = df_all.copy()\n"
   ]
  },
  {
   "cell_type": "code",
   "execution_count": 7,
   "id": "3b05a53a",
   "metadata": {},
   "outputs": [],
   "source": [
    "df_OUM.to_csv(\"DDM2v2a2terresultDutilh2019.csv\")"
   ]
  },
  {
   "cell_type": "code",
   "execution_count": 8,
   "id": "87e8797e",
   "metadata": {},
   "outputs": [
    {
     "data": {
      "text/plain": [
       "182.84878323206902"
      ]
     },
     "execution_count": 8,
     "metadata": {},
     "output_type": "execute_result"
    }
   ],
   "source": [
    "df_OUM[\"BIC\"].mean()"
   ]
  },
  {
   "cell_type": "code",
   "execution_count": null,
   "id": "c5baddcf",
   "metadata": {},
   "outputs": [],
   "source": []
  }
 ],
 "metadata": {
  "kernelspec": {
   "display_name": "Python 3 (ipykernel)",
   "language": "python",
   "name": "python3"
  },
  "language_info": {
   "codemirror_mode": {
    "name": "ipython",
    "version": 3
   },
   "file_extension": ".py",
   "mimetype": "text/x-python",
   "name": "python",
   "nbconvert_exporter": "python",
   "pygments_lexer": "ipython3",
   "version": "3.11.4"
  }
 },
 "nbformat": 4,
 "nbformat_minor": 5
}
