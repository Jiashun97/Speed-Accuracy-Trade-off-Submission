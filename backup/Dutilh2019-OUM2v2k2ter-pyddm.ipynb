{
 "cells": [
  {
   "cell_type": "code",
   "execution_count": 1,
   "id": "2cda49de",
   "metadata": {},
   "outputs": [],
   "source": [
    "%run SAT_help_functions.ipynb"
   ]
  },
  {
   "cell_type": "code",
   "execution_count": null,
   "id": "bc081cf9",
   "metadata": {},
   "outputs": [],
   "source": []
  },
  {
   "cell_type": "markdown",
   "id": "4bd26666",
   "metadata": {},
   "source": [
    "## OUM"
   ]
  },
  {
   "cell_type": "code",
   "execution_count": null,
   "id": "9ef6c434",
   "metadata": {},
   "outputs": [],
   "source": []
  },
  {
   "cell_type": "code",
   "execution_count": 2,
   "id": "e776257c",
   "metadata": {},
   "outputs": [],
   "source": [
    "sample_size = 20\n",
    "data_dir = '/Users/wangjiashun/Desktop/Reserach on SAT/datasets/Dutilh2019/validation_text_data/exp_4/pp'\n",
    "SAT_conds = [\"A\", \"B\"]"
   ]
  },
  {
   "cell_type": "code",
   "execution_count": 3,
   "id": "2d56afe5",
   "metadata": {},
   "outputs": [],
   "source": [
    "\n",
    "class DriftBothSpeedAcc(Drift):\n",
    "    name = \"DriftBothSpeedAcc\"\n",
    "    required_parameters = [\"Vspeed\",\"Vacc\", \"Kspeed\", \"Kacc\"]\n",
    "    required_conditions = ['cond']\n",
    "        \n",
    "    def get_drift(self, x, t, conditions, **kwargs):\n",
    "        if conditions['cond'] == 'A':\n",
    "            return self.Vspeed + x*self.Kspeed \n",
    "        elif conditions['cond'] == 'B':\n",
    "            return self.Vacc + x*self.Kacc\n",
    "        else: \n",
    "            print(\"Non-implemented SAT conditions\")"
   ]
  },
  {
   "cell_type": "code",
   "execution_count": 4,
   "id": "f434220f",
   "metadata": {},
   "outputs": [],
   "source": [
    "\n",
    "class NondecisionSpeedAcc(OverlayNonDecision):\n",
    "    name = \"DriftSpeedAcc\"\n",
    "    required_parameters = [\"tSpeed\", 'tAcc']\n",
    "    required_conditions = ['cond']\n",
    "        \n",
    "    def get_nondecision_time(self, conditions, **kwargs):\n",
    "        if conditions['cond'] == 'A':\n",
    "            return self.tSpeed \n",
    "        elif conditions['cond'] == 'B':\n",
    "            return self.tAcc\n",
    "        else: \n",
    "            print(\"Non-implemented SAT conditions\")"
   ]
  },
  {
   "cell_type": "code",
   "execution_count": null,
   "id": "bbb278a6",
   "metadata": {},
   "outputs": [],
   "source": [
    "\n"
   ]
  },
  {
   "cell_type": "code",
   "execution_count": null,
   "id": "6e5e0074",
   "metadata": {},
   "outputs": [],
   "source": []
  },
  {
   "cell_type": "code",
   "execution_count": null,
   "id": "b1e0fe9b",
   "metadata": {},
   "outputs": [],
   "source": []
  },
  {
   "cell_type": "code",
   "execution_count": 5,
   "id": "fdb13001",
   "metadata": {},
   "outputs": [
    {
     "name": "stderr",
     "output_type": "stream",
     "text": [
      "Warning: This function (from_pandas_dataframe()) is deprecated and will be removed in a future version of PyDDM.  Please use the choice_column_name argument instead.\n"
     ]
    },
    {
     "name": "stdout",
     "output_type": "stream",
     "text": [
      "0\n"
     ]
    },
    {
     "name": "stderr",
     "output_type": "stream",
     "text": [
      "Info: Params [1.03932104 1.34007079 5.90978376 2.37768632 1.35258624 0.21492322\n",
      " 0.26068688] gave 257.9263324196732\n",
      "Warning: This function (from_pandas_dataframe()) is deprecated and will be removed in a future version of PyDDM.  Please use the choice_column_name argument instead.\n"
     ]
    },
    {
     "name": "stdout",
     "output_type": "stream",
     "text": [
      "   Drift Rate Speed  Drift Rate Accuracy  Self-excitation Speed  \\\n",
      "0          1.039321             1.340071               5.909784   \n",
      "\n",
      "   Self-excitation Accuracy  Boundary Separation  Non-decision Time Speed  \\\n",
      "0                  2.377686             1.352586                 0.214923   \n",
      "\n",
      "   Non-decision Time Accuracy         BIC  \n",
      "0                    0.260687  257.926332  \n",
      "1\n"
     ]
    },
    {
     "name": "stderr",
     "output_type": "stream",
     "text": [
      "Info: Params [0.27027308 0.61788975 8.2193583  2.83528146 3.75443466 0.17722957\n",
      " 0.10759275] gave 465.2613941695718\n",
      "Warning: This function (from_pandas_dataframe()) is deprecated and will be removed in a future version of PyDDM.  Please use the choice_column_name argument instead.\n"
     ]
    },
    {
     "name": "stdout",
     "output_type": "stream",
     "text": [
      "   Drift Rate Speed  Drift Rate Accuracy  Self-excitation Speed  \\\n",
      "0          0.270273              0.61789               8.219358   \n",
      "\n",
      "   Self-excitation Accuracy  Boundary Separation  Non-decision Time Speed  \\\n",
      "0                  2.835281             3.754435                  0.17723   \n",
      "\n",
      "   Non-decision Time Accuracy         BIC  \n",
      "0                    0.107593  465.261394  \n",
      "2\n"
     ]
    },
    {
     "name": "stderr",
     "output_type": "stream",
     "text": [
      "Info: Params [1.58265604 1.66998824 7.42490211 3.36824932 1.11880181 0.22637576\n",
      " 0.3591825 ] gave -34.01441153476417\n",
      "Warning: This function (from_pandas_dataframe()) is deprecated and will be removed in a future version of PyDDM.  Please use the choice_column_name argument instead.\n"
     ]
    },
    {
     "name": "stdout",
     "output_type": "stream",
     "text": [
      "   Drift Rate Speed  Drift Rate Accuracy  Self-excitation Speed  \\\n",
      "0          1.582656             1.669988               7.424902   \n",
      "\n",
      "   Self-excitation Accuracy  Boundary Separation  Non-decision Time Speed  \\\n",
      "0                  3.368249             1.118802                 0.226376   \n",
      "\n",
      "   Non-decision Time Accuracy        BIC  \n",
      "0                    0.359183 -34.014412  \n",
      "3\n"
     ]
    },
    {
     "name": "stderr",
     "output_type": "stream",
     "text": [
      "Info: Params [ 0.15729444  1.03235044  9.36308425 -0.51116084  0.81766714  0.16397526\n",
      "  0.25546253] gave 283.49604371751855\n",
      "Warning: This function (from_pandas_dataframe()) is deprecated and will be removed in a future version of PyDDM.  Please use the choice_column_name argument instead.\n"
     ]
    },
    {
     "name": "stdout",
     "output_type": "stream",
     "text": [
      "   Drift Rate Speed  Drift Rate Accuracy  Self-excitation Speed  \\\n",
      "0          0.157294              1.03235               9.363084   \n",
      "\n",
      "   Self-excitation Accuracy  Boundary Separation  Non-decision Time Speed  \\\n",
      "0                 -0.511161             0.817667                 0.163975   \n",
      "\n",
      "   Non-decision Time Accuracy         BIC  \n",
      "0                    0.255463  283.496044  \n",
      "4\n"
     ]
    },
    {
     "name": "stderr",
     "output_type": "stream",
     "text": [
      "Info: Params [0.85645853 1.55309995 6.02347875 4.31094346 1.32499266 0.1682553\n",
      " 0.28174465] gave 130.24350700884963\n",
      "Warning: This function (from_pandas_dataframe()) is deprecated and will be removed in a future version of PyDDM.  Please use the choice_column_name argument instead.\n"
     ]
    },
    {
     "name": "stdout",
     "output_type": "stream",
     "text": [
      "   Drift Rate Speed  Drift Rate Accuracy  Self-excitation Speed  \\\n",
      "0          0.856459               1.5531               6.023479   \n",
      "\n",
      "   Self-excitation Accuracy  Boundary Separation  Non-decision Time Speed  \\\n",
      "0                  4.310943             1.324993                 0.168255   \n",
      "\n",
      "   Non-decision Time Accuracy         BIC  \n",
      "0                    0.281745  130.243507  \n",
      "5\n"
     ]
    },
    {
     "name": "stderr",
     "output_type": "stream",
     "text": [
      "Info: Params [1.62027955 1.35814111 8.77793682 3.22651633 1.84487422 0.31990668\n",
      " 0.39404961] gave 33.991569542830554\n",
      "Warning: This function (from_pandas_dataframe()) is deprecated and will be removed in a future version of PyDDM.  Please use the choice_column_name argument instead.\n"
     ]
    },
    {
     "name": "stdout",
     "output_type": "stream",
     "text": [
      "   Drift Rate Speed  Drift Rate Accuracy  Self-excitation Speed  \\\n",
      "0           1.62028             1.358141               8.777937   \n",
      "\n",
      "   Self-excitation Accuracy  Boundary Separation  Non-decision Time Speed  \\\n",
      "0                  3.226516             1.844874                 0.319907   \n",
      "\n",
      "   Non-decision Time Accuracy       BIC  \n",
      "0                     0.39405  33.99157  \n",
      "6\n"
     ]
    },
    {
     "name": "stderr",
     "output_type": "stream",
     "text": [
      "Info: Params [0.95287927 1.77048181 6.14686457 5.00754478 1.41421882 0.18892269\n",
      " 0.28652137] gave 45.17390788305436\n",
      "Warning: This function (from_pandas_dataframe()) is deprecated and will be removed in a future version of PyDDM.  Please use the choice_column_name argument instead.\n"
     ]
    },
    {
     "name": "stdout",
     "output_type": "stream",
     "text": [
      "   Drift Rate Speed  Drift Rate Accuracy  Self-excitation Speed  \\\n",
      "0          0.952879             1.770482               6.146865   \n",
      "\n",
      "   Self-excitation Accuracy  Boundary Separation  Non-decision Time Speed  \\\n",
      "0                  5.007545             1.414219                 0.188923   \n",
      "\n",
      "   Non-decision Time Accuracy        BIC  \n",
      "0                    0.286521  45.173908  \n",
      "7\n"
     ]
    },
    {
     "name": "stderr",
     "output_type": "stream",
     "text": [
      "Info: Params [1.41263137 2.12498102 7.01706293 5.58706931 2.07529017 0.21870174\n",
      " 0.28692477] gave -99.57622253946602\n",
      "Warning: This function (from_pandas_dataframe()) is deprecated and will be removed in a future version of PyDDM.  Please use the choice_column_name argument instead.\n"
     ]
    },
    {
     "name": "stdout",
     "output_type": "stream",
     "text": [
      "   Drift Rate Speed  Drift Rate Accuracy  Self-excitation Speed  \\\n",
      "0          1.412631             2.124981               7.017063   \n",
      "\n",
      "   Self-excitation Accuracy  Boundary Separation  Non-decision Time Speed  \\\n",
      "0                  5.587069              2.07529                 0.218702   \n",
      "\n",
      "   Non-decision Time Accuracy        BIC  \n",
      "0                    0.286925 -99.576223  \n",
      "8\n"
     ]
    },
    {
     "name": "stderr",
     "output_type": "stream",
     "text": [
      "Info: Params [1.2207138  1.5915342  8.28584138 2.73796535 0.97191046 0.33434009\n",
      " 0.33924015] gave 7.936659418801888\n",
      "Warning: This function (from_pandas_dataframe()) is deprecated and will be removed in a future version of PyDDM.  Please use the choice_column_name argument instead.\n"
     ]
    },
    {
     "name": "stdout",
     "output_type": "stream",
     "text": [
      "   Drift Rate Speed  Drift Rate Accuracy  Self-excitation Speed  \\\n",
      "0          1.220714             1.591534               8.285841   \n",
      "\n",
      "   Self-excitation Accuracy  Boundary Separation  Non-decision Time Speed  \\\n",
      "0                  2.737965              0.97191                  0.33434   \n",
      "\n",
      "   Non-decision Time Accuracy       BIC  \n",
      "0                     0.33924  7.936659  \n",
      "9\n"
     ]
    },
    {
     "name": "stderr",
     "output_type": "stream",
     "text": [
      "Info: Params [0.37193468 1.06051807 7.48729055 2.13667402 1.71371658 0.16349656\n",
      " 0.3535205 ] gave 372.0177710720975\n",
      "Warning: This function (from_pandas_dataframe()) is deprecated and will be removed in a future version of PyDDM.  Please use the choice_column_name argument instead.\n"
     ]
    },
    {
     "name": "stdout",
     "output_type": "stream",
     "text": [
      "   Drift Rate Speed  Drift Rate Accuracy  Self-excitation Speed  \\\n",
      "0          0.371935             1.060518               7.487291   \n",
      "\n",
      "   Self-excitation Accuracy  Boundary Separation  Non-decision Time Speed  \\\n",
      "0                  2.136674             1.713717                 0.163497   \n",
      "\n",
      "   Non-decision Time Accuracy         BIC  \n",
      "0                     0.35352  372.017771  \n",
      "10\n"
     ]
    },
    {
     "name": "stderr",
     "output_type": "stream",
     "text": [
      "Info: Params [0.99878864 1.3132887  4.15464826 1.97253938 1.5891372  0.14141198\n",
      " 0.25165306] gave 397.7010926436223\n",
      "Warning: This function (from_pandas_dataframe()) is deprecated and will be removed in a future version of PyDDM.  Please use the choice_column_name argument instead.\n"
     ]
    },
    {
     "name": "stdout",
     "output_type": "stream",
     "text": [
      "   Drift Rate Speed  Drift Rate Accuracy  Self-excitation Speed  \\\n",
      "0          0.998789             1.313289               4.154648   \n",
      "\n",
      "   Self-excitation Accuracy  Boundary Separation  Non-decision Time Speed  \\\n",
      "0                  1.972539             1.589137                 0.141412   \n",
      "\n",
      "   Non-decision Time Accuracy         BIC  \n",
      "0                    0.251653  397.701093  \n",
      "11\n"
     ]
    },
    {
     "name": "stderr",
     "output_type": "stream",
     "text": [
      "Info: Params [1.47860635 1.2710098  7.98902391 3.57712455 1.49670303 0.27365528\n",
      " 0.31106405] gave 92.18028709606304\n",
      "Warning: This function (from_pandas_dataframe()) is deprecated and will be removed in a future version of PyDDM.  Please use the choice_column_name argument instead.\n"
     ]
    },
    {
     "name": "stdout",
     "output_type": "stream",
     "text": [
      "   Drift Rate Speed  Drift Rate Accuracy  Self-excitation Speed  \\\n",
      "0          1.478606              1.27101               7.989024   \n",
      "\n",
      "   Self-excitation Accuracy  Boundary Separation  Non-decision Time Speed  \\\n",
      "0                  3.577125             1.496703                 0.273655   \n",
      "\n",
      "   Non-decision Time Accuracy        BIC  \n",
      "0                    0.311064  92.180287  \n",
      "12\n"
     ]
    },
    {
     "name": "stderr",
     "output_type": "stream",
     "text": [
      "Info: Params [0.84342823 1.73579877 6.07937434 4.94518215 1.03771725 0.20923305\n",
      " 0.27325643] gave 103.72553888375072\n",
      "Warning: This function (from_pandas_dataframe()) is deprecated and will be removed in a future version of PyDDM.  Please use the choice_column_name argument instead.\n"
     ]
    },
    {
     "name": "stdout",
     "output_type": "stream",
     "text": [
      "   Drift Rate Speed  Drift Rate Accuracy  Self-excitation Speed  \\\n",
      "0          0.843428             1.735799               6.079374   \n",
      "\n",
      "   Self-excitation Accuracy  Boundary Separation  Non-decision Time Speed  \\\n",
      "0                  4.945182             1.037717                 0.209233   \n",
      "\n",
      "   Non-decision Time Accuracy         BIC  \n",
      "0                    0.273256  103.725539  \n",
      "13\n"
     ]
    },
    {
     "name": "stderr",
     "output_type": "stream",
     "text": [
      "Info: Params [1.11370032 1.38822053 7.95927712 3.18721127 2.23494514 0.14400298\n",
      " 0.1658788 ] gave 177.92001541216885\n",
      "Warning: This function (from_pandas_dataframe()) is deprecated and will be removed in a future version of PyDDM.  Please use the choice_column_name argument instead.\n"
     ]
    },
    {
     "name": "stdout",
     "output_type": "stream",
     "text": [
      "   Drift Rate Speed  Drift Rate Accuracy  Self-excitation Speed  \\\n",
      "0            1.1137             1.388221               7.959277   \n",
      "\n",
      "   Self-excitation Accuracy  Boundary Separation  Non-decision Time Speed  \\\n",
      "0                  3.187211             2.234945                 0.144003   \n",
      "\n",
      "   Non-decision Time Accuracy         BIC  \n",
      "0                    0.165879  177.920015  \n",
      "14\n"
     ]
    },
    {
     "name": "stderr",
     "output_type": "stream",
     "text": [
      "Info: Params [0.68194579 1.23513762 6.70752882 4.38262739 1.20801378 0.1727002\n",
      " 0.21772615] gave 138.2230814167531\n",
      "Warning: This function (from_pandas_dataframe()) is deprecated and will be removed in a future version of PyDDM.  Please use the choice_column_name argument instead.\n"
     ]
    },
    {
     "name": "stdout",
     "output_type": "stream",
     "text": [
      "   Drift Rate Speed  Drift Rate Accuracy  Self-excitation Speed  \\\n",
      "0          0.681946             1.235138               6.707529   \n",
      "\n",
      "   Self-excitation Accuracy  Boundary Separation  Non-decision Time Speed  \\\n",
      "0                  4.382627             1.208014                   0.1727   \n",
      "\n",
      "   Non-decision Time Accuracy         BIC  \n",
      "0                    0.217726  138.223081  \n",
      "15\n"
     ]
    },
    {
     "name": "stderr",
     "output_type": "stream",
     "text": [
      "Info: Params [1.29910736 2.02903384 7.64415517 2.359714   1.17456215 0.20085381\n",
      " 0.28008343] gave -105.60434679920854\n",
      "Warning: This function (from_pandas_dataframe()) is deprecated and will be removed in a future version of PyDDM.  Please use the choice_column_name argument instead.\n"
     ]
    },
    {
     "name": "stdout",
     "output_type": "stream",
     "text": [
      "   Drift Rate Speed  Drift Rate Accuracy  Self-excitation Speed  \\\n",
      "0          1.299107             2.029034               7.644155   \n",
      "\n",
      "   Self-excitation Accuracy  Boundary Separation  Non-decision Time Speed  \\\n",
      "0                  2.359714             1.174562                 0.200854   \n",
      "\n",
      "   Non-decision Time Accuracy         BIC  \n",
      "0                    0.280083 -105.604347  \n",
      "16\n"
     ]
    },
    {
     "name": "stderr",
     "output_type": "stream",
     "text": [
      "Info: Params [1.04975863 0.81522299 7.15458139 2.72887674 0.75954953 0.26142197\n",
      " 0.35334871] gave 129.77281882512492\n",
      "Warning: This function (from_pandas_dataframe()) is deprecated and will be removed in a future version of PyDDM.  Please use the choice_column_name argument instead.\n"
     ]
    },
    {
     "name": "stdout",
     "output_type": "stream",
     "text": [
      "   Drift Rate Speed  Drift Rate Accuracy  Self-excitation Speed  \\\n",
      "0          1.049759             0.815223               7.154581   \n",
      "\n",
      "   Self-excitation Accuracy  Boundary Separation  Non-decision Time Speed  \\\n",
      "0                  2.728877              0.75955                 0.261422   \n",
      "\n",
      "   Non-decision Time Accuracy         BIC  \n",
      "0                    0.353349  129.772819  \n",
      "17\n"
     ]
    },
    {
     "name": "stderr",
     "output_type": "stream",
     "text": [
      "Info: Params [1.91826951 1.89471707 5.56449561 2.20108822 0.77690211 0.28644238\n",
      " 0.34224955] gave -148.1861909886951\n",
      "Warning: This function (from_pandas_dataframe()) is deprecated and will be removed in a future version of PyDDM.  Please use the choice_column_name argument instead.\n"
     ]
    },
    {
     "name": "stdout",
     "output_type": "stream",
     "text": [
      "   Drift Rate Speed  Drift Rate Accuracy  Self-excitation Speed  \\\n",
      "0           1.91827             1.894717               5.564496   \n",
      "\n",
      "   Self-excitation Accuracy  Boundary Separation  Non-decision Time Speed  \\\n",
      "0                  2.201088             0.776902                 0.286442   \n",
      "\n",
      "   Non-decision Time Accuracy         BIC  \n",
      "0                     0.34225 -148.186191  \n",
      "18\n"
     ]
    },
    {
     "name": "stderr",
     "output_type": "stream",
     "text": [
      "Info: Params [2.18769326 1.56284467 5.44850837 2.89857629 1.10129717 0.24796361\n",
      " 0.26834702] gave 11.816104210686952\n",
      "Warning: This function (from_pandas_dataframe()) is deprecated and will be removed in a future version of PyDDM.  Please use the choice_column_name argument instead.\n"
     ]
    },
    {
     "name": "stdout",
     "output_type": "stream",
     "text": [
      "   Drift Rate Speed  Drift Rate Accuracy  Self-excitation Speed  \\\n",
      "0          2.187693             1.562845               5.448508   \n",
      "\n",
      "   Self-excitation Accuracy  Boundary Separation  Non-decision Time Speed  \\\n",
      "0                  2.898576             1.101297                 0.247964   \n",
      "\n",
      "   Non-decision Time Accuracy        BIC  \n",
      "0                    0.268347  11.816104  \n",
      "19\n"
     ]
    },
    {
     "name": "stderr",
     "output_type": "stream",
     "text": [
      "Info: Params [0.0815586  0.68187721 6.03166556 4.56955133 1.5966767  0.14961994\n",
      " 0.22765019] gave 327.1535944845049\n"
     ]
    },
    {
     "name": "stdout",
     "output_type": "stream",
     "text": [
      "   Drift Rate Speed  Drift Rate Accuracy  Self-excitation Speed  \\\n",
      "0          0.081559             0.681877               6.031666   \n",
      "\n",
      "   Self-excitation Accuracy  Boundary Separation  Non-decision Time Speed  \\\n",
      "0                  4.569551             1.596677                  0.14962   \n",
      "\n",
      "   Non-decision Time Accuracy         BIC  \n",
      "0                     0.22765  327.153594  \n"
     ]
    }
   ],
   "source": [
    "df_all = pd.DataFrame()\n",
    "for i in range(sample_size):\n",
    "    print(i)\n",
    "    path = os.path.join(data_dir+str(i+1)+\".txt\")\n",
    "    df = pd.read_csv(path, sep = \" \")\n",
    "    #df = df[df[\"cond\"]==SAT] # A condition\n",
    "    df = df[df[\"rt\"]<5]\n",
    "\n",
    "    samp = Sample.from_pandas_dataframe(df, rt_column_name=\"rt\", correct_column_name=\"correct\")\n",
    "    df = get_OUM_result_sub_2v2k2ter(samp)\n",
    "    df_all = pd.concat((df_all,df))\n",
    "    print(df)\n",
    "df_OUM = df_all.copy()\n"
   ]
  },
  {
   "cell_type": "code",
   "execution_count": 6,
   "id": "3b05a53a",
   "metadata": {},
   "outputs": [],
   "source": [
    "df_OUM.to_csv(\"OUM2v2k2terresultDutilh2019.csv\")"
   ]
  },
  {
   "cell_type": "code",
   "execution_count": 7,
   "id": "87e8797e",
   "metadata": {},
   "outputs": [
    {
     "data": {
      "text/plain": [
       "129.35792731714693"
      ]
     },
     "execution_count": 7,
     "metadata": {},
     "output_type": "execute_result"
    }
   ],
   "source": [
    "df_OUM[\"BIC\"].mean()"
   ]
  },
  {
   "cell_type": "code",
   "execution_count": null,
   "id": "db096ad0",
   "metadata": {},
   "outputs": [],
   "source": []
  }
 ],
 "metadata": {
  "kernelspec": {
   "display_name": "Python 3 (ipykernel)",
   "language": "python",
   "name": "python3"
  },
  "language_info": {
   "codemirror_mode": {
    "name": "ipython",
    "version": 3
   },
   "file_extension": ".py",
   "mimetype": "text/x-python",
   "name": "python",
   "nbconvert_exporter": "python",
   "pygments_lexer": "ipython3",
   "version": "3.11.4"
  }
 },
 "nbformat": 4,
 "nbformat_minor": 5
}
