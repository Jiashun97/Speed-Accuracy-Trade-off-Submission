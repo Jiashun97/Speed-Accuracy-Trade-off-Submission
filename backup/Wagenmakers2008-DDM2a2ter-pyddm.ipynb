{
 "cells": [
  {
   "cell_type": "code",
   "execution_count": 1,
   "id": "2cda49de",
   "metadata": {},
   "outputs": [],
   "source": [
    "%run SAT_help_functions.ipynb"
   ]
  },
  {
   "cell_type": "code",
   "execution_count": null,
   "id": "bc081cf9",
   "metadata": {},
   "outputs": [],
   "source": []
  },
  {
   "cell_type": "markdown",
   "id": "4bd26666",
   "metadata": {},
   "source": [
    "## OUM"
   ]
  },
  {
   "cell_type": "code",
   "execution_count": null,
   "id": "9ef6c434",
   "metadata": {},
   "outputs": [],
   "source": []
  },
  {
   "cell_type": "code",
   "execution_count": 2,
   "id": "e776257c",
   "metadata": {},
   "outputs": [],
   "source": [
    "data_dir = \"/Users/wangjiashun/Desktop/Reserach on SAT/datasets/Lexical Decision Data/SpeedAccData.csv\"\n",
    "sample_size = 16\n",
    "SAT_conds = [1,2]"
   ]
  },
  {
   "cell_type": "code",
   "execution_count": null,
   "id": "4b320f40",
   "metadata": {},
   "outputs": [],
   "source": []
  },
  {
   "cell_type": "code",
   "execution_count": 3,
   "id": "f434220f",
   "metadata": {},
   "outputs": [],
   "source": [
    "class BoundSpeedAcc(Bound):\n",
    "    name = \"BoundSpeedAcc\"\n",
    "    required_parameters = [\"Bspeed\", \"Bacc\"]\n",
    "    required_conditions = ['SAT']\n",
    "    def get_bound(self, conditions, *args, **kwargs):\n",
    "        assert self.Bacc > 0\n",
    "        assert self.Bspeed > 0\n",
    "        if conditions['SAT'] == 1:\n",
    "            return self.Bspeed\n",
    "        elif conditions['SAT'] == 2:\n",
    "            return self.Bacc\n",
    "        else:\n",
    "            print(\"Non-implemented SAT conditions\")"
   ]
  },
  {
   "cell_type": "code",
   "execution_count": null,
   "id": "bbb278a6",
   "metadata": {},
   "outputs": [],
   "source": []
  },
  {
   "cell_type": "code",
   "execution_count": 4,
   "id": "6e5e0074",
   "metadata": {},
   "outputs": [],
   "source": [
    "\n",
    "class NondecisionSpeedAcc(OverlayNonDecision):\n",
    "    name = \"NondecisionSpeedAcc\"\n",
    "    required_parameters = [\"tSpeed\", 'tAcc']\n",
    "    required_conditions = ['SAT']\n",
    "        \n",
    "    def get_nondecision_time(self, conditions, **kwargs):\n",
    "        if conditions['SAT'] == 1:\n",
    "            return self.tSpeed \n",
    "        elif conditions['SAT'] == 2:\n",
    "            return self.tAcc\n",
    "        else: \n",
    "            print(\"Non-implemented SAT conditions\")"
   ]
  },
  {
   "cell_type": "code",
   "execution_count": null,
   "id": "b1e0fe9b",
   "metadata": {},
   "outputs": [],
   "source": []
  },
  {
   "cell_type": "code",
   "execution_count": null,
   "id": "81235d16",
   "metadata": {},
   "outputs": [],
   "source": []
  },
  {
   "cell_type": "code",
   "execution_count": null,
   "id": "dd964586",
   "metadata": {},
   "outputs": [],
   "source": []
  },
  {
   "cell_type": "code",
   "execution_count": null,
   "id": "8a3f5185",
   "metadata": {},
   "outputs": [],
   "source": []
  },
  {
   "cell_type": "code",
   "execution_count": null,
   "id": "cfd4d873",
   "metadata": {},
   "outputs": [],
   "source": []
  },
  {
   "cell_type": "code",
   "execution_count": null,
   "id": "85c8d242",
   "metadata": {},
   "outputs": [],
   "source": []
  },
  {
   "cell_type": "code",
   "execution_count": 9,
   "id": "fdb13001",
   "metadata": {
    "scrolled": true
   },
   "outputs": [
    {
     "name": "stdout",
     "output_type": "stream",
     "text": [
      "1\n",
      "1\n"
     ]
    },
    {
     "name": "stderr",
     "output_type": "stream",
     "text": [
      "Info: Params [3.20538979 0.56232431 0.50097466 0.34521264 0.374634  ] gave -273.49827750515976\n"
     ]
    },
    {
     "name": "stdout",
     "output_type": "stream",
     "text": [
      "   Drift Rate  Boundary Separation Speed      Bacc  Non-decision Time Speed  \\\n",
      "0     3.20539                   0.562324  0.500975                 0.345213   \n",
      "\n",
      "   Non-decision Time Accuracy         BIC  Frequency  Participant  \n",
      "0                    0.374634 -273.498278          1            1  \n",
      "2\n",
      "1\n"
     ]
    },
    {
     "name": "stderr",
     "output_type": "stream",
     "text": [
      "Info: Params [2.35184854 0.5        0.63657618 0.36915115 0.35742402] gave -137.55489802655245\n"
     ]
    },
    {
     "name": "stdout",
     "output_type": "stream",
     "text": [
      "   Drift Rate  Boundary Separation Speed      Bacc  Non-decision Time Speed  \\\n",
      "0    2.351849                        0.5  0.636576                 0.369151   \n",
      "\n",
      "   Non-decision Time Accuracy         BIC  Frequency  Participant  \n",
      "0                    0.357424 -137.554898          2            1  \n",
      "3\n",
      "1\n"
     ]
    },
    {
     "name": "stderr",
     "output_type": "stream",
     "text": [
      "Info: Params [1.34446528 0.50247333 0.53916734 0.34889887 0.38272945] gave -16.346181082062113\n"
     ]
    },
    {
     "name": "stdout",
     "output_type": "stream",
     "text": [
      "   Drift Rate  Boundary Separation Speed      Bacc  Non-decision Time Speed  \\\n",
      "0    1.344465                   0.502473  0.539167                 0.348899   \n",
      "\n",
      "   Non-decision Time Accuracy        BIC  Frequency  Participant  \n",
      "0                    0.382729 -16.346181          3            1  \n",
      "4\n",
      "1\n"
     ]
    },
    {
     "name": "stderr",
     "output_type": "stream",
     "text": [
      "Info: Params [2.53433914 0.53317721 0.5        0.33504355 0.38980456] gave -176.73133065167517\n"
     ]
    },
    {
     "name": "stdout",
     "output_type": "stream",
     "text": [
      "   Drift Rate  Boundary Separation Speed  Bacc  Non-decision Time Speed  \\\n",
      "0    2.534339                   0.533177   0.5                 0.335044   \n",
      "\n",
      "   Non-decision Time Accuracy         BIC  Frequency  Participant  \n",
      "0                    0.389805 -176.731331          4            1  \n",
      "5\n",
      "1\n"
     ]
    },
    {
     "name": "stderr",
     "output_type": "stream",
     "text": [
      "Info: Params [2.7001344  0.56231842 0.58942799 0.34789691 0.35866957] gave -173.59968750673136\n"
     ]
    },
    {
     "name": "stdout",
     "output_type": "stream",
     "text": [
      "   Drift Rate  Boundary Separation Speed      Bacc  Non-decision Time Speed  \\\n",
      "0    2.700134                   0.562318  0.589428                 0.347897   \n",
      "\n",
      "   Non-decision Time Accuracy         BIC  Frequency  Participant  \n",
      "0                     0.35867 -173.599688          5            1  \n",
      "6\n",
      "1\n"
     ]
    },
    {
     "name": "stderr",
     "output_type": "stream",
     "text": [
      "Info: Params [3.09760067 0.54368509 0.64437036 0.34106775 0.35175629] gave -230.7291223534735\n"
     ]
    },
    {
     "name": "stdout",
     "output_type": "stream",
     "text": [
      "   Drift Rate  Boundary Separation Speed     Bacc  Non-decision Time Speed  \\\n",
      "0    3.097601                   0.543685  0.64437                 0.341068   \n",
      "\n",
      "   Non-decision Time Accuracy         BIC  Frequency  Participant  \n",
      "0                    0.351756 -230.729122          6            1  \n",
      "1\n",
      "3\n"
     ]
    },
    {
     "name": "stderr",
     "output_type": "stream",
     "text": [
      "Info: Params [2.99373678 0.55597495 0.7910641  0.31202327 0.3909064 ] gave -187.46761055858775\n"
     ]
    },
    {
     "name": "stdout",
     "output_type": "stream",
     "text": [
      "   Drift Rate  Boundary Separation Speed      Bacc  Non-decision Time Speed  \\\n",
      "0    2.993737                   0.555975  0.791064                 0.312023   \n",
      "\n",
      "   Non-decision Time Accuracy         BIC  Frequency  Participant  \n",
      "0                    0.390906 -187.467611          1            3  \n",
      "2\n",
      "3\n"
     ]
    },
    {
     "name": "stderr",
     "output_type": "stream",
     "text": [
      "Info: Params [1.9053329  0.52326436 0.83925917 0.31767766 0.35006511] gave -31.42395668215837\n"
     ]
    },
    {
     "name": "stdout",
     "output_type": "stream",
     "text": [
      "   Drift Rate  Boundary Separation Speed      Bacc  Non-decision Time Speed  \\\n",
      "0    1.905333                   0.523264  0.839259                 0.317678   \n",
      "\n",
      "   Non-decision Time Accuracy        BIC  Frequency  Participant  \n",
      "0                    0.350065 -31.423957          2            3  \n",
      "3\n",
      "3\n"
     ]
    },
    {
     "name": "stderr",
     "output_type": "stream",
     "text": [
      "Info: Params [1.58840501 0.54324743 0.76584858 0.31101477 0.39589816] gave 23.147422842662955\n"
     ]
    },
    {
     "name": "stdout",
     "output_type": "stream",
     "text": [
      "   Drift Rate  Boundary Separation Speed      Bacc  Non-decision Time Speed  \\\n",
      "0    1.588405                   0.543247  0.765849                 0.311015   \n",
      "\n",
      "   Non-decision Time Accuracy        BIC  Frequency  Participant  \n",
      "0                    0.395898  23.147423          3            3  \n",
      "4\n",
      "3\n"
     ]
    },
    {
     "name": "stderr",
     "output_type": "stream",
     "text": [
      "Info: Params [2.162825   0.67984974 1.469278   0.27234041 0.10110945] gave 30.904140381696706\n"
     ]
    },
    {
     "name": "stdout",
     "output_type": "stream",
     "text": [
      "   Drift Rate  Boundary Separation Speed      Bacc  Non-decision Time Speed  \\\n",
      "0    2.162825                    0.67985  1.469278                  0.27234   \n",
      "\n",
      "   Non-decision Time Accuracy       BIC  Frequency  Participant  \n",
      "0                    0.101109  30.90414          4            3  \n",
      "5\n",
      "3\n"
     ]
    },
    {
     "name": "stderr",
     "output_type": "stream",
     "text": [
      "Info: Params [2.18326921 0.58446882 1.00470796 0.29721233 0.33635244] gave -45.83880603629201\n"
     ]
    },
    {
     "name": "stdout",
     "output_type": "stream",
     "text": [
      "   Drift Rate  Boundary Separation Speed      Bacc  Non-decision Time Speed  \\\n",
      "0    2.183269                   0.584469  1.004708                 0.297212   \n",
      "\n",
      "   Non-decision Time Accuracy        BIC  Frequency  Participant  \n",
      "0                    0.336352 -45.838806          5            3  \n",
      "6\n",
      "3\n"
     ]
    },
    {
     "name": "stderr",
     "output_type": "stream",
     "text": [
      "Info: Params [2.42455892 0.57008964 1.11308062 0.33356787 0.30894271] gave -72.2376598935517\n"
     ]
    },
    {
     "name": "stdout",
     "output_type": "stream",
     "text": [
      "   Drift Rate  Boundary Separation Speed      Bacc  Non-decision Time Speed  \\\n",
      "0    2.424559                    0.57009  1.113081                 0.333568   \n",
      "\n",
      "   Non-decision Time Accuracy       BIC  Frequency  Participant  \n",
      "0                    0.308943 -72.23766          6            3  \n",
      "1\n",
      "4\n"
     ]
    },
    {
     "name": "stderr",
     "output_type": "stream",
     "text": [
      "Info: Params [3.83067492 0.5        0.77404239 0.31740533 0.31072223] gave -309.81018662577503\n"
     ]
    },
    {
     "name": "stdout",
     "output_type": "stream",
     "text": [
      "   Drift Rate  Boundary Separation Speed      Bacc  Non-decision Time Speed  \\\n",
      "0    3.830675                        0.5  0.774042                 0.317405   \n",
      "\n",
      "   Non-decision Time Accuracy         BIC  Frequency  Participant  \n",
      "0                    0.310722 -309.810187          1            4  \n",
      "2\n",
      "4\n"
     ]
    },
    {
     "name": "stderr",
     "output_type": "stream",
     "text": [
      "Info: Params [2.95053159 0.5        0.69207685 0.31940193 0.3439127 ] gave -220.2305107659683\n"
     ]
    },
    {
     "name": "stdout",
     "output_type": "stream",
     "text": [
      "   Drift Rate  Boundary Separation Speed      Bacc  Non-decision Time Speed  \\\n",
      "0    2.950532                        0.5  0.692077                 0.319402   \n",
      "\n",
      "   Non-decision Time Accuracy         BIC  Frequency  Participant  \n",
      "0                    0.343913 -220.230511          2            4  \n",
      "3\n",
      "4\n"
     ]
    },
    {
     "name": "stderr",
     "output_type": "stream",
     "text": [
      "Info: Params [1.94916232 0.5        0.64811295 0.32404888 0.33823719] gave -90.52463204517855\n"
     ]
    },
    {
     "name": "stdout",
     "output_type": "stream",
     "text": [
      "   Drift Rate  Boundary Separation Speed      Bacc  Non-decision Time Speed  \\\n",
      "0    1.949162                        0.5  0.648113                 0.324049   \n",
      "\n",
      "   Non-decision Time Accuracy        BIC  Frequency  Participant  \n",
      "0                    0.338237 -90.524632          3            4  \n",
      "4\n",
      "4\n"
     ]
    },
    {
     "name": "stderr",
     "output_type": "stream",
     "text": [
      "Info: Params [3.22324624 0.5        0.84471215 0.33621287 0.31745536] gave -237.9365394682984\n"
     ]
    },
    {
     "name": "stdout",
     "output_type": "stream",
     "text": [
      "   Drift Rate  Boundary Separation Speed      Bacc  Non-decision Time Speed  \\\n",
      "0    3.223246                        0.5  0.844712                 0.336213   \n",
      "\n",
      "   Non-decision Time Accuracy         BIC  Frequency  Participant  \n",
      "0                    0.317455 -237.936539          4            4  \n",
      "5\n",
      "4\n"
     ]
    },
    {
     "name": "stderr",
     "output_type": "stream",
     "text": [
      "Info: Params [2.86587744 0.5        0.7022849  0.32317622 0.34003175] gave -206.17079144512456\n"
     ]
    },
    {
     "name": "stdout",
     "output_type": "stream",
     "text": [
      "   Drift Rate  Boundary Separation Speed      Bacc  Non-decision Time Speed  \\\n",
      "0    2.865877                        0.5  0.702285                 0.323176   \n",
      "\n",
      "   Non-decision Time Accuracy         BIC  Frequency  Participant  \n",
      "0                    0.340032 -206.170791          5            4  \n",
      "6\n",
      "4\n"
     ]
    },
    {
     "name": "stderr",
     "output_type": "stream",
     "text": [
      "Info: Params [2.61188718 0.5        0.65913674 0.31112274 0.33963762] gave -192.34061953320054\n"
     ]
    },
    {
     "name": "stdout",
     "output_type": "stream",
     "text": [
      "   Drift Rate  Boundary Separation Speed      Bacc  Non-decision Time Speed  \\\n",
      "0    2.611887                        0.5  0.659137                 0.311123   \n",
      "\n",
      "   Non-decision Time Accuracy        BIC  Frequency  Participant  \n",
      "0                    0.339638 -192.34062          6            4  \n",
      "1\n",
      "5\n"
     ]
    },
    {
     "name": "stderr",
     "output_type": "stream",
     "text": [
      "Info: Params [4.05832478 0.50134014 1.15907244 0.31521087 0.31672983] gave -302.7580412645601\n"
     ]
    },
    {
     "name": "stdout",
     "output_type": "stream",
     "text": [
      "   Drift Rate  Boundary Separation Speed      Bacc  Non-decision Time Speed  \\\n",
      "0    4.058325                    0.50134  1.159072                 0.315211   \n",
      "\n",
      "   Non-decision Time Accuracy         BIC  Frequency  Participant  \n",
      "0                     0.31673 -302.758041          1            5  \n",
      "2\n",
      "5\n"
     ]
    },
    {
     "name": "stderr",
     "output_type": "stream",
     "text": [
      "Info: Params [2.75248003 0.5        0.66026297 0.3381921  0.4138508 ] gave -197.31882786823323\n"
     ]
    },
    {
     "name": "stdout",
     "output_type": "stream",
     "text": [
      "   Drift Rate  Boundary Separation Speed      Bacc  Non-decision Time Speed  \\\n",
      "0     2.75248                        0.5  0.660263                 0.338192   \n",
      "\n",
      "   Non-decision Time Accuracy         BIC  Frequency  Participant  \n",
      "0                    0.413851 -197.318828          2            5  \n",
      "3\n",
      "5\n"
     ]
    },
    {
     "name": "stderr",
     "output_type": "stream",
     "text": [
      "Info: Params [2.61472469 0.51474485 0.58450099 0.33388451 0.45850032] gave -187.0748578963683\n"
     ]
    },
    {
     "name": "stdout",
     "output_type": "stream",
     "text": [
      "   Drift Rate  Boundary Separation Speed      Bacc  Non-decision Time Speed  \\\n",
      "0    2.614725                   0.514745  0.584501                 0.333885   \n",
      "\n",
      "   Non-decision Time Accuracy         BIC  Frequency  Participant  \n",
      "0                      0.4585 -187.074858          3            5  \n",
      "4\n",
      "5\n"
     ]
    },
    {
     "name": "stderr",
     "output_type": "stream",
     "text": [
      "Info: Params [3.92607507 0.65563051 1.00500306 0.32858833 0.38589113] gave -269.3759158083353\n"
     ]
    },
    {
     "name": "stdout",
     "output_type": "stream",
     "text": [
      "   Drift Rate  Boundary Separation Speed      Bacc  Non-decision Time Speed  \\\n",
      "0    3.926075                   0.655631  1.005003                 0.328588   \n",
      "\n",
      "   Non-decision Time Accuracy         BIC  Frequency  Participant  \n",
      "0                    0.385891 -269.375916          4            5  \n",
      "5\n",
      "5\n"
     ]
    },
    {
     "name": "stderr",
     "output_type": "stream",
     "text": [
      "Info: Params [3.05617816 0.5        0.73138013 0.35768255 0.46180081] gave -213.2401890821939\n"
     ]
    },
    {
     "name": "stdout",
     "output_type": "stream",
     "text": [
      "   Drift Rate  Boundary Separation Speed     Bacc  Non-decision Time Speed  \\\n",
      "0    3.056178                        0.5  0.73138                 0.357683   \n",
      "\n",
      "   Non-decision Time Accuracy         BIC  Frequency  Participant  \n",
      "0                    0.461801 -213.240189          5            5  \n",
      "6\n",
      "5\n"
     ]
    },
    {
     "name": "stderr",
     "output_type": "stream",
     "text": [
      "Info: Params [2.75223192 0.56769924 0.7026921  0.29741985 0.42152759] gave -180.79184947379207\n"
     ]
    },
    {
     "name": "stdout",
     "output_type": "stream",
     "text": [
      "   Drift Rate  Boundary Separation Speed      Bacc  Non-decision Time Speed  \\\n",
      "0    2.752232                   0.567699  0.702692                  0.29742   \n",
      "\n",
      "   Non-decision Time Accuracy         BIC  Frequency  Participant  \n",
      "0                    0.421528 -180.791849          6            5  \n",
      "1\n",
      "6\n"
     ]
    },
    {
     "name": "stderr",
     "output_type": "stream",
     "text": [
      "Info: Params [2.73707151 0.58488057 0.61734992 0.24678413 0.36109541] gave -183.87210462296358\n"
     ]
    },
    {
     "name": "stdout",
     "output_type": "stream",
     "text": [
      "   Drift Rate  Boundary Separation Speed     Bacc  Non-decision Time Speed  \\\n",
      "0    2.737072                   0.584881  0.61735                 0.246784   \n",
      "\n",
      "   Non-decision Time Accuracy         BIC  Frequency  Participant  \n",
      "0                    0.361095 -183.872105          1            6  \n",
      "2\n",
      "6\n"
     ]
    },
    {
     "name": "stderr",
     "output_type": "stream",
     "text": [
      "Info: Params [1.72291424 0.54700431 0.57306233 0.21689087 0.42294345] gave -53.19242425315609\n"
     ]
    },
    {
     "name": "stdout",
     "output_type": "stream",
     "text": [
      "   Drift Rate  Boundary Separation Speed      Bacc  Non-decision Time Speed  \\\n",
      "0    1.722914                   0.547004  0.573062                 0.216891   \n",
      "\n",
      "   Non-decision Time Accuracy        BIC  Frequency  Participant  \n",
      "0                    0.422943 -53.192424          2            6  \n",
      "3\n",
      "6\n"
     ]
    },
    {
     "name": "stderr",
     "output_type": "stream",
     "text": [
      "Info: Params [1.07199861 0.56435232 0.56498134 0.1962146  0.42794893] gave 45.831887637156385\n"
     ]
    },
    {
     "name": "stdout",
     "output_type": "stream",
     "text": [
      "   Drift Rate  Boundary Separation Speed      Bacc  Non-decision Time Speed  \\\n",
      "0    1.071999                   0.564352  0.564981                 0.196215   \n",
      "\n",
      "   Non-decision Time Accuracy        BIC  Frequency  Participant  \n",
      "0                    0.427949  45.831888          3            6  \n",
      "4\n",
      "6\n"
     ]
    },
    {
     "name": "stderr",
     "output_type": "stream",
     "text": [
      "Info: Params [1.70562703 0.5554843  0.67198902 0.21896234 0.39034259] gave -12.538864228522783\n"
     ]
    },
    {
     "name": "stdout",
     "output_type": "stream",
     "text": [
      "   Drift Rate  Boundary Separation Speed      Bacc  Non-decision Time Speed  \\\n",
      "0    1.705627                   0.555484  0.671989                 0.218962   \n",
      "\n",
      "   Non-decision Time Accuracy        BIC  Frequency  Participant  \n",
      "0                    0.390343 -12.538864          4            6  \n",
      "5\n",
      "6\n"
     ]
    },
    {
     "name": "stderr",
     "output_type": "stream",
     "text": [
      "Info: Params [1.69083498 0.50467702 0.62784573 0.27344863 0.39163824] gave -35.4636721895625\n"
     ]
    },
    {
     "name": "stdout",
     "output_type": "stream",
     "text": [
      "   Drift Rate  Boundary Separation Speed      Bacc  Non-decision Time Speed  \\\n",
      "0    1.690835                   0.504677  0.627846                 0.273449   \n",
      "\n",
      "   Non-decision Time Accuracy        BIC  Frequency  Participant  \n",
      "0                    0.391638 -35.463672          5            6  \n",
      "6\n",
      "6\n"
     ]
    },
    {
     "name": "stderr",
     "output_type": "stream",
     "text": [
      "Info: Params [1.68909048 0.66086749 0.64267923 0.15889059 0.3550075 ] gave -0.6426753614580605\n"
     ]
    },
    {
     "name": "stdout",
     "output_type": "stream",
     "text": [
      "   Drift Rate  Boundary Separation Speed      Bacc  Non-decision Time Speed  \\\n",
      "0     1.68909                   0.660867  0.642679                 0.158891   \n",
      "\n",
      "   Non-decision Time Accuracy       BIC  Frequency  Participant  \n",
      "0                    0.355008 -0.642675          6            6  \n",
      "1\n",
      "7\n"
     ]
    },
    {
     "name": "stderr",
     "output_type": "stream",
     "text": [
      "Info: Params [1.36256286 0.56446555 0.62208355 0.17522478 0.25883136] gave 21.8814562164044\n"
     ]
    },
    {
     "name": "stdout",
     "output_type": "stream",
     "text": [
      "   Drift Rate  Boundary Separation Speed      Bacc  Non-decision Time Speed  \\\n",
      "0    1.362563                   0.564466  0.622084                 0.175225   \n",
      "\n",
      "   Non-decision Time Accuracy        BIC  Frequency  Participant  \n",
      "0                    0.258831  21.881456          1            7  \n",
      "2\n",
      "7\n"
     ]
    },
    {
     "name": "stderr",
     "output_type": "stream",
     "text": [
      "Info: Params [0.89407471 0.5        0.55511608 0.24064706 0.3155137 ] gave 28.724255846092454\n"
     ]
    },
    {
     "name": "stdout",
     "output_type": "stream",
     "text": [
      "   Drift Rate  Boundary Separation Speed      Bacc  Non-decision Time Speed  \\\n",
      "0    0.894075                        0.5  0.555116                 0.240647   \n",
      "\n",
      "   Non-decision Time Accuracy        BIC  Frequency  Participant  \n",
      "0                    0.315514  28.724256          2            7  \n",
      "3\n",
      "7\n"
     ]
    },
    {
     "name": "stderr",
     "output_type": "stream",
     "text": [
      "Info: Params [0.46267916 0.52656674 0.710156   0.18805846 0.20507175] gave 160.55846955339393\n"
     ]
    },
    {
     "name": "stdout",
     "output_type": "stream",
     "text": [
      "   Drift Rate  Boundary Separation Speed      Bacc  Non-decision Time Speed  \\\n",
      "0    0.462679                   0.526567  0.710156                 0.188058   \n",
      "\n",
      "   Non-decision Time Accuracy        BIC  Frequency  Participant  \n",
      "0                    0.205072  160.55847          3            7  \n",
      "4\n",
      "7\n"
     ]
    },
    {
     "name": "stderr",
     "output_type": "stream",
     "text": [
      "Info: Params [1.64162721 0.54900789 0.7032055  0.22775618 0.30682342] gave -0.7016846259923675\n"
     ]
    },
    {
     "name": "stdout",
     "output_type": "stream",
     "text": [
      "   Drift Rate  Boundary Separation Speed      Bacc  Non-decision Time Speed  \\\n",
      "0    1.641627                   0.549008  0.703206                 0.227756   \n",
      "\n",
      "   Non-decision Time Accuracy       BIC  Frequency  Participant  \n",
      "0                    0.306823 -0.701685          4            7  \n",
      "5\n",
      "7\n"
     ]
    },
    {
     "name": "stderr",
     "output_type": "stream",
     "text": [
      "Info: Params [1.67662166 0.56042432 0.63072888 0.21942268 0.34010743] gave -25.099168888818564\n"
     ]
    },
    {
     "name": "stdout",
     "output_type": "stream",
     "text": [
      "   Drift Rate  Boundary Separation Speed      Bacc  Non-decision Time Speed  \\\n",
      "0    1.676622                   0.560424  0.630729                 0.219423   \n",
      "\n",
      "   Non-decision Time Accuracy        BIC  Frequency  Participant  \n",
      "0                    0.340107 -25.099169          5            7  \n",
      "6\n",
      "7\n"
     ]
    },
    {
     "name": "stderr",
     "output_type": "stream",
     "text": [
      "Info: Params [1.87454987 0.55111974 0.64920957 0.23918434 0.32946231] gave -52.43362183584484\n"
     ]
    },
    {
     "name": "stdout",
     "output_type": "stream",
     "text": [
      "   Drift Rate  Boundary Separation Speed     Bacc  Non-decision Time Speed  \\\n",
      "0     1.87455                    0.55112  0.64921                 0.239184   \n",
      "\n",
      "   Non-decision Time Accuracy        BIC  Frequency  Participant  \n",
      "0                    0.329462 -52.433622          6            7  \n",
      "1\n",
      "8\n"
     ]
    },
    {
     "name": "stderr",
     "output_type": "stream",
     "text": [
      "Info: Params [1.40414583 0.6449353  0.78771924 0.15210721 0.41227194] gave 98.81890863677503\n"
     ]
    },
    {
     "name": "stdout",
     "output_type": "stream",
     "text": [
      "   Drift Rate  Boundary Separation Speed      Bacc  Non-decision Time Speed  \\\n",
      "0    1.404146                   0.644935  0.787719                 0.152107   \n",
      "\n",
      "   Non-decision Time Accuracy        BIC  Frequency  Participant  \n",
      "0                    0.412272  98.818909          1            8  \n",
      "2\n",
      "8\n"
     ]
    },
    {
     "name": "stderr",
     "output_type": "stream",
     "text": [
      "Info: Params [0.7152815  0.59611935 0.96323047 0.16492505 0.31114466] gave 239.94465551189205\n"
     ]
    },
    {
     "name": "stdout",
     "output_type": "stream",
     "text": [
      "   Drift Rate  Boundary Separation Speed     Bacc  Non-decision Time Speed  \\\n",
      "0    0.715281                   0.596119  0.96323                 0.164925   \n",
      "\n",
      "   Non-decision Time Accuracy         BIC  Frequency  Participant  \n",
      "0                    0.311145  239.944656          2            8  \n",
      "3\n",
      "8\n"
     ]
    },
    {
     "name": "stderr",
     "output_type": "stream",
     "text": [
      "Info: Params [0.29902612 0.63403508 0.9058691  0.15679579 0.28446431] gave 295.11808460211927\n"
     ]
    },
    {
     "name": "stdout",
     "output_type": "stream",
     "text": [
      "   Drift Rate  Boundary Separation Speed      Bacc  Non-decision Time Speed  \\\n",
      "0    0.299026                   0.634035  0.905869                 0.156796   \n",
      "\n",
      "   Non-decision Time Accuracy         BIC  Frequency  Participant  \n",
      "0                    0.284464  295.118085          3            8  \n",
      "4\n",
      "8\n"
     ]
    },
    {
     "name": "stderr",
     "output_type": "stream",
     "text": [
      "Info: Params [0.91671261 0.61327995 1.08065822 0.17651598 0.24273819] gave 249.56784496629447\n"
     ]
    },
    {
     "name": "stdout",
     "output_type": "stream",
     "text": [
      "   Drift Rate  Boundary Separation Speed      Bacc  Non-decision Time Speed  \\\n",
      "0    0.916713                    0.61328  1.080658                 0.176516   \n",
      "\n",
      "   Non-decision Time Accuracy         BIC  Frequency  Participant  \n",
      "0                    0.242738  249.567845          4            8  \n",
      "5\n",
      "8\n"
     ]
    },
    {
     "name": "stderr",
     "output_type": "stream",
     "text": [
      "Info: Params [1.08227381 0.59198652 1.24728757 0.18546481 0.11208011] gave 213.68617838234272\n"
     ]
    },
    {
     "name": "stdout",
     "output_type": "stream",
     "text": [
      "   Drift Rate  Boundary Separation Speed      Bacc  Non-decision Time Speed  \\\n",
      "0    1.082274                   0.591987  1.247288                 0.185465   \n",
      "\n",
      "   Non-decision Time Accuracy         BIC  Frequency  Participant  \n",
      "0                     0.11208  213.686178          5            8  \n",
      "6\n",
      "8\n"
     ]
    },
    {
     "name": "stderr",
     "output_type": "stream",
     "text": [
      "Info: Params [1.04846227 0.57843456 1.20125714 0.21707297 0.11825355] gave 217.53764556810745\n"
     ]
    },
    {
     "name": "stdout",
     "output_type": "stream",
     "text": [
      "   Drift Rate  Boundary Separation Speed      Bacc  Non-decision Time Speed  \\\n",
      "0    1.048462                   0.578435  1.201257                 0.217073   \n",
      "\n",
      "   Non-decision Time Accuracy         BIC  Frequency  Participant  \n",
      "0                    0.118254  217.537646          6            8  \n",
      "1\n",
      "9\n"
     ]
    },
    {
     "name": "stderr",
     "output_type": "stream",
     "text": [
      "Info: Params [3.20764847 0.5        0.83000022 0.37462767 0.38378915] gave -254.34447482622133\n"
     ]
    },
    {
     "name": "stdout",
     "output_type": "stream",
     "text": [
      "   Drift Rate  Boundary Separation Speed  Bacc  Non-decision Time Speed  \\\n",
      "0    3.207648                        0.5  0.83                 0.374628   \n",
      "\n",
      "   Non-decision Time Accuracy         BIC  Frequency  Participant  \n",
      "0                    0.383789 -254.344475          1            9  \n",
      "2\n",
      "9\n"
     ]
    },
    {
     "name": "stderr",
     "output_type": "stream",
     "text": [
      "Info: Params [1.82209761 0.5        0.89872433 0.37729352 0.37471425] gave -24.111050933249814\n"
     ]
    },
    {
     "name": "stdout",
     "output_type": "stream",
     "text": [
      "   Drift Rate  Boundary Separation Speed      Bacc  Non-decision Time Speed  \\\n",
      "0    1.822098                        0.5  0.898724                 0.377294   \n",
      "\n",
      "   Non-decision Time Accuracy        BIC  Frequency  Participant  \n",
      "0                    0.374714 -24.111051          2            9  \n",
      "3\n",
      "9\n"
     ]
    },
    {
     "name": "stderr",
     "output_type": "stream",
     "text": [
      "Info: Params [1.1386735  0.5        0.73906812 0.38577234 0.40819776] gave 51.63643976965592\n"
     ]
    },
    {
     "name": "stdout",
     "output_type": "stream",
     "text": [
      "   Drift Rate  Boundary Separation Speed      Bacc  Non-decision Time Speed  \\\n",
      "0    1.138674                        0.5  0.739068                 0.385772   \n",
      "\n",
      "   Non-decision Time Accuracy       BIC  Frequency  Participant  \n",
      "0                    0.408198  51.63644          3            9  \n",
      "4\n",
      "9\n"
     ]
    },
    {
     "name": "stderr",
     "output_type": "stream",
     "text": [
      "Info: Params [2.39021952 0.5        0.82749381 0.37587766 0.40834317] gave -125.32271594719845\n"
     ]
    },
    {
     "name": "stdout",
     "output_type": "stream",
     "text": [
      "   Drift Rate  Boundary Separation Speed      Bacc  Non-decision Time Speed  \\\n",
      "0     2.39022                        0.5  0.827494                 0.375878   \n",
      "\n",
      "   Non-decision Time Accuracy         BIC  Frequency  Participant  \n",
      "0                    0.408343 -125.322716          4            9  \n",
      "5\n",
      "9\n"
     ]
    },
    {
     "name": "stderr",
     "output_type": "stream",
     "text": [
      "Info: Params [2.10678642 0.5        1.16651723 0.38417086 0.22011272] gave -54.43368492630897\n"
     ]
    },
    {
     "name": "stdout",
     "output_type": "stream",
     "text": [
      "   Drift Rate  Boundary Separation Speed      Bacc  Non-decision Time Speed  \\\n",
      "0    2.106786                        0.5  1.166517                 0.384171   \n",
      "\n",
      "   Non-decision Time Accuracy        BIC  Frequency  Participant  \n",
      "0                    0.220113 -54.433685          5            9  \n",
      "6\n",
      "9\n"
     ]
    },
    {
     "name": "stderr",
     "output_type": "stream",
     "text": [
      "Info: Params [2.71520595 0.5        0.90597503 0.39175901 0.39489954] gave -166.64976656163157\n"
     ]
    },
    {
     "name": "stdout",
     "output_type": "stream",
     "text": [
      "   Drift Rate  Boundary Separation Speed      Bacc  Non-decision Time Speed  \\\n",
      "0    2.715206                        0.5  0.905975                 0.391759   \n",
      "\n",
      "   Non-decision Time Accuracy         BIC  Frequency  Participant  \n",
      "0                      0.3949 -166.649767          6            9  \n",
      "1\n",
      "10\n"
     ]
    },
    {
     "name": "stderr",
     "output_type": "stream",
     "text": [
      "Info: Params [3.24648314 0.52875262 0.61652929 0.29003072 0.3602744 ] gave -534.6221311044832\n"
     ]
    },
    {
     "name": "stdout",
     "output_type": "stream",
     "text": [
      "   Drift Rate  Boundary Separation Speed      Bacc  Non-decision Time Speed  \\\n",
      "0    3.246483                   0.528753  0.616529                 0.290031   \n",
      "\n",
      "   Non-decision Time Accuracy         BIC  Frequency  Participant  \n",
      "0                    0.360274 -534.622131          1           10  \n",
      "2\n",
      "10\n"
     ]
    },
    {
     "name": "stderr",
     "output_type": "stream",
     "text": [
      "Info: Params [2.06956891 0.5549069  0.65096703 0.27158932 0.35734783] gave -195.83632800209998\n"
     ]
    },
    {
     "name": "stdout",
     "output_type": "stream",
     "text": [
      "   Drift Rate  Boundary Separation Speed      Bacc  Non-decision Time Speed  \\\n",
      "0    2.069569                   0.554907  0.650967                 0.271589   \n",
      "\n",
      "   Non-decision Time Accuracy         BIC  Frequency  Participant  \n",
      "0                    0.357348 -195.836328          2           10  \n",
      "3\n",
      "10\n"
     ]
    },
    {
     "name": "stderr",
     "output_type": "stream",
     "text": [
      "Info: Params [1.28787464 0.5        0.59168199 0.27981857 0.37096882] gave -33.04721166541502\n"
     ]
    },
    {
     "name": "stdout",
     "output_type": "stream",
     "text": [
      "   Drift Rate  Boundary Separation Speed      Bacc  Non-decision Time Speed  \\\n",
      "0    1.287875                        0.5  0.591682                 0.279819   \n",
      "\n",
      "   Non-decision Time Accuracy        BIC  Frequency  Participant  \n",
      "0                    0.370969 -33.047212          3           10  \n",
      "4\n",
      "10\n"
     ]
    },
    {
     "name": "stderr",
     "output_type": "stream",
     "text": [
      "Info: Params [2.31038686 0.57025136 0.7386066  0.26588446 0.34622347] gave -221.61965049420675\n"
     ]
    },
    {
     "name": "stdout",
     "output_type": "stream",
     "text": [
      "   Drift Rate  Boundary Separation Speed      Bacc  Non-decision Time Speed  \\\n",
      "0    2.310387                   0.570251  0.738607                 0.265884   \n",
      "\n",
      "   Non-decision Time Accuracy        BIC  Frequency  Participant  \n",
      "0                    0.346223 -221.61965          4           10  \n",
      "5\n",
      "10\n"
     ]
    },
    {
     "name": "stderr",
     "output_type": "stream",
     "text": [
      "Info: Params [2.44901989 0.56825601 0.91682308 0.26824833 0.31883398] gave -220.42233554760958\n"
     ]
    },
    {
     "name": "stdout",
     "output_type": "stream",
     "text": [
      "   Drift Rate  Boundary Separation Speed      Bacc  Non-decision Time Speed  \\\n",
      "0     2.44902                   0.568256  0.916823                 0.268248   \n",
      "\n",
      "   Non-decision Time Accuracy         BIC  Frequency  Participant  \n",
      "0                    0.318834 -220.422336          5           10  \n",
      "6\n",
      "10\n"
     ]
    },
    {
     "name": "stderr",
     "output_type": "stream",
     "text": [
      "Info: Params [2.70275411 0.57400766 0.84921938 0.27462919 0.33028105] gave -297.56443706817527\n"
     ]
    },
    {
     "name": "stdout",
     "output_type": "stream",
     "text": [
      "   Drift Rate  Boundary Separation Speed      Bacc  Non-decision Time Speed  \\\n",
      "0    2.702754                   0.574008  0.849219                 0.274629   \n",
      "\n",
      "   Non-decision Time Accuracy         BIC  Frequency  Participant  \n",
      "0                    0.330281 -297.564437          6           10  \n",
      "1\n",
      "11\n"
     ]
    },
    {
     "name": "stderr",
     "output_type": "stream",
     "text": [
      "Info: Params [3.78100601 0.52621519 0.64587862 0.33218097 0.36105925] gave -629.3414719212244\n"
     ]
    },
    {
     "name": "stdout",
     "output_type": "stream",
     "text": [
      "   Drift Rate  Boundary Separation Speed      Bacc  Non-decision Time Speed  \\\n",
      "0    3.781006                   0.526215  0.645879                 0.332181   \n",
      "\n",
      "   Non-decision Time Accuracy         BIC  Frequency  Participant  \n",
      "0                    0.361059 -629.341472          1           11  \n",
      "2\n",
      "11\n"
     ]
    },
    {
     "name": "stderr",
     "output_type": "stream",
     "text": [
      "Info: Params [1.75376632 0.5        0.55297806 0.33663584 0.39193993] gave -201.284512964968\n"
     ]
    },
    {
     "name": "stdout",
     "output_type": "stream",
     "text": [
      "   Drift Rate  Boundary Separation Speed      Bacc  Non-decision Time Speed  \\\n",
      "0    1.753766                        0.5  0.552978                 0.336636   \n",
      "\n",
      "   Non-decision Time Accuracy         BIC  Frequency  Participant  \n",
      "0                     0.39194 -201.284513          2           11  \n",
      "3\n",
      "11\n"
     ]
    },
    {
     "name": "stderr",
     "output_type": "stream",
     "text": [
      "Info: Params [1.11749168 0.5        0.61668668 0.3231951  0.36768204] gave -10.866391159605588\n"
     ]
    },
    {
     "name": "stdout",
     "output_type": "stream",
     "text": [
      "   Drift Rate  Boundary Separation Speed      Bacc  Non-decision Time Speed  \\\n",
      "0    1.117492                        0.5  0.616687                 0.323195   \n",
      "\n",
      "   Non-decision Time Accuracy        BIC  Frequency  Participant  \n",
      "0                    0.367682 -10.866391          3           11  \n",
      "4\n",
      "11\n"
     ]
    },
    {
     "name": "stderr",
     "output_type": "stream",
     "text": [
      "Info: Params [2.00339208 0.50873152 0.77987043 0.33384125 0.32879125] gave -148.11472500721874\n"
     ]
    },
    {
     "name": "stdout",
     "output_type": "stream",
     "text": [
      "   Drift Rate  Boundary Separation Speed     Bacc  Non-decision Time Speed  \\\n",
      "0    2.003392                   0.508732  0.77987                 0.333841   \n",
      "\n",
      "   Non-decision Time Accuracy         BIC  Frequency  Participant  \n",
      "0                    0.328791 -148.114725          4           11  \n",
      "5\n",
      "11\n"
     ]
    },
    {
     "name": "stderr",
     "output_type": "stream",
     "text": [
      "Info: Params [2.45385908 0.54086316 0.75267842 0.32352459 0.37719885] gave -278.6501133249217\n"
     ]
    },
    {
     "name": "stdout",
     "output_type": "stream",
     "text": [
      "   Drift Rate  Boundary Separation Speed      Bacc  Non-decision Time Speed  \\\n",
      "0    2.453859                   0.540863  0.752678                 0.323525   \n",
      "\n",
      "   Non-decision Time Accuracy         BIC  Frequency  Participant  \n",
      "0                    0.377199 -278.650113          5           11  \n",
      "6\n",
      "11\n"
     ]
    },
    {
     "name": "stderr",
     "output_type": "stream",
     "text": [
      "Info: Params [2.37743516 0.5        0.71276957 0.34868966 0.37015631] gave -281.01990790530976\n"
     ]
    },
    {
     "name": "stdout",
     "output_type": "stream",
     "text": [
      "   Drift Rate  Boundary Separation Speed     Bacc  Non-decision Time Speed  \\\n",
      "0    2.377435                        0.5  0.71277                  0.34869   \n",
      "\n",
      "   Non-decision Time Accuracy         BIC  Frequency  Participant  \n",
      "0                    0.370156 -281.019908          6           11  \n",
      "1\n",
      "12\n"
     ]
    },
    {
     "name": "stderr",
     "output_type": "stream",
     "text": [
      "Info: Params [2.35954223 0.78869399 0.76076048 0.20087113 0.30073431] gave -162.17999308634168\n"
     ]
    },
    {
     "name": "stdout",
     "output_type": "stream",
     "text": [
      "   Drift Rate  Boundary Separation Speed     Bacc  Non-decision Time Speed  \\\n",
      "0    2.359542                   0.788694  0.76076                 0.200871   \n",
      "\n",
      "   Non-decision Time Accuracy         BIC  Frequency  Participant  \n",
      "0                    0.300734 -162.179993          1           12  \n",
      "2\n",
      "12\n"
     ]
    },
    {
     "name": "stderr",
     "output_type": "stream",
     "text": [
      "Info: Params [1.32233391 0.52322887 0.71204092 0.31138472 0.34543921] gave 64.95494054186781\n"
     ]
    },
    {
     "name": "stdout",
     "output_type": "stream",
     "text": [
      "   Drift Rate  Boundary Separation Speed      Bacc  Non-decision Time Speed  \\\n",
      "0    1.322334                   0.523229  0.712041                 0.311385   \n",
      "\n",
      "   Non-decision Time Accuracy        BIC  Frequency  Participant  \n",
      "0                    0.345439  64.954941          2           12  \n",
      "3\n",
      "12\n"
     ]
    },
    {
     "name": "stderr",
     "output_type": "stream",
     "text": [
      "Info: Params [0.69039104 0.5340518  0.72181572 0.27049939 0.31278805] gave 251.11513718467418\n"
     ]
    },
    {
     "name": "stdout",
     "output_type": "stream",
     "text": [
      "   Drift Rate  Boundary Separation Speed      Bacc  Non-decision Time Speed  \\\n",
      "0    0.690391                   0.534052  0.721816                 0.270499   \n",
      "\n",
      "   Non-decision Time Accuracy         BIC  Frequency  Participant  \n",
      "0                    0.312788  251.115137          3           12  \n",
      "4\n",
      "12\n"
     ]
    },
    {
     "name": "stderr",
     "output_type": "stream",
     "text": [
      "Info: Params [1.47913758 0.81491435 0.75882781 0.16890599 0.30850591] gave 177.74050858806186\n"
     ]
    },
    {
     "name": "stdout",
     "output_type": "stream",
     "text": [
      "   Drift Rate  Boundary Separation Speed      Bacc  Non-decision Time Speed  \\\n",
      "0    1.479138                   0.814914  0.758828                 0.168906   \n",
      "\n",
      "   Non-decision Time Accuracy         BIC  Frequency  Participant  \n",
      "0                    0.308506  177.740509          4           12  \n",
      "5\n",
      "12\n"
     ]
    },
    {
     "name": "stderr",
     "output_type": "stream",
     "text": [
      "Info: Params [1.63503463 0.5218084  0.80526433 0.32346398 0.32589869] gave 96.35640394030068\n"
     ]
    },
    {
     "name": "stdout",
     "output_type": "stream",
     "text": [
      "   Drift Rate  Boundary Separation Speed      Bacc  Non-decision Time Speed  \\\n",
      "0    1.635035                   0.521808  0.805264                 0.323464   \n",
      "\n",
      "   Non-decision Time Accuracy        BIC  Frequency  Participant  \n",
      "0                    0.325899  96.356404          5           12  \n",
      "6\n",
      "12\n"
     ]
    },
    {
     "name": "stderr",
     "output_type": "stream",
     "text": [
      "Info: Params [1.54568656 0.70743865 0.9026827  0.23791756 0.2473939 ] gave 141.0677049058765\n"
     ]
    },
    {
     "name": "stdout",
     "output_type": "stream",
     "text": [
      "   Drift Rate  Boundary Separation Speed      Bacc  Non-decision Time Speed  \\\n",
      "0    1.545687                   0.707439  0.902683                 0.237918   \n",
      "\n",
      "   Non-decision Time Accuracy         BIC  Frequency  Participant  \n",
      "0                    0.247394  141.067705          6           12  \n",
      "1\n",
      "13\n"
     ]
    },
    {
     "name": "stderr",
     "output_type": "stream",
     "text": [
      "Info: Params [1.93874831 0.57652885 0.80971953 0.30632453 0.34165913] gave -80.65113271565428\n"
     ]
    },
    {
     "name": "stdout",
     "output_type": "stream",
     "text": [
      "   Drift Rate  Boundary Separation Speed     Bacc  Non-decision Time Speed  \\\n",
      "0    1.938748                   0.576529  0.80972                 0.306325   \n",
      "\n",
      "   Non-decision Time Accuracy        BIC  Frequency  Participant  \n",
      "0                    0.341659 -80.651133          1           13  \n",
      "2\n",
      "13\n"
     ]
    },
    {
     "name": "stderr",
     "output_type": "stream",
     "text": [
      "Info: Params [1.54813605 0.54904409 0.76461467 0.33067242 0.39066774] gave 25.44196661767228\n"
     ]
    },
    {
     "name": "stdout",
     "output_type": "stream",
     "text": [
      "   Drift Rate  Boundary Separation Speed      Bacc  Non-decision Time Speed  \\\n",
      "0    1.548136                   0.549044  0.764615                 0.330672   \n",
      "\n",
      "   Non-decision Time Accuracy        BIC  Frequency  Participant  \n",
      "0                    0.390668  25.441967          2           13  \n",
      "3\n",
      "13\n"
     ]
    },
    {
     "name": "stderr",
     "output_type": "stream",
     "text": [
      "Info: Params [0.69819864 0.52996644 0.77583619 0.33106508 0.33751736] gave 277.92136754352424\n"
     ]
    },
    {
     "name": "stdout",
     "output_type": "stream",
     "text": [
      "   Drift Rate  Boundary Separation Speed      Bacc  Non-decision Time Speed  \\\n",
      "0    0.698199                   0.529966  0.775836                 0.331065   \n",
      "\n",
      "   Non-decision Time Accuracy         BIC  Frequency  Participant  \n",
      "0                    0.337517  277.921368          3           13  \n",
      "4\n",
      "13\n"
     ]
    },
    {
     "name": "stderr",
     "output_type": "stream",
     "text": [
      "Info: Params [1.50023599 0.5635762  0.86618394 0.32604216 0.35198845] gave 92.517636064703\n"
     ]
    },
    {
     "name": "stdout",
     "output_type": "stream",
     "text": [
      "   Drift Rate  Boundary Separation Speed      Bacc  Non-decision Time Speed  \\\n",
      "0    1.500236                   0.563576  0.866184                 0.326042   \n",
      "\n",
      "   Non-decision Time Accuracy        BIC  Frequency  Participant  \n",
      "0                    0.351988  92.517636          4           13  \n",
      "5\n",
      "13\n"
     ]
    },
    {
     "name": "stderr",
     "output_type": "stream",
     "text": [
      "Info: Params [1.65553282 0.58705458 0.86586694 0.32615148 0.37555605] gave 46.79974169650259\n"
     ]
    },
    {
     "name": "stdout",
     "output_type": "stream",
     "text": [
      "   Drift Rate  Boundary Separation Speed      Bacc  Non-decision Time Speed  \\\n",
      "0    1.655533                   0.587055  0.865867                 0.326151   \n",
      "\n",
      "   Non-decision Time Accuracy        BIC  Frequency  Participant  \n",
      "0                    0.375556  46.799742          5           13  \n",
      "6\n",
      "13\n"
     ]
    },
    {
     "name": "stderr",
     "output_type": "stream",
     "text": [
      "Info: Params [1.55114708 0.6270975  0.78388526 0.30235927 0.36329753] gave 86.64168713886187\n"
     ]
    },
    {
     "name": "stdout",
     "output_type": "stream",
     "text": [
      "   Drift Rate  Boundary Separation Speed      Bacc  Non-decision Time Speed  \\\n",
      "0    1.551147                   0.627098  0.783885                 0.302359   \n",
      "\n",
      "   Non-decision Time Accuracy        BIC  Frequency  Participant  \n",
      "0                    0.363298  86.641687          6           13  \n",
      "1\n",
      "14\n"
     ]
    },
    {
     "name": "stderr",
     "output_type": "stream",
     "text": [
      "Info: Params [2.82313353 0.65465047 0.83633507 0.27271758 0.34725485] gave -310.4467598096506\n"
     ]
    },
    {
     "name": "stdout",
     "output_type": "stream",
     "text": [
      "   Drift Rate  Boundary Separation Speed      Bacc  Non-decision Time Speed  \\\n",
      "0    2.823134                    0.65465  0.836335                 0.272718   \n",
      "\n",
      "   Non-decision Time Accuracy        BIC  Frequency  Participant  \n",
      "0                    0.347255 -310.44676          1           14  \n",
      "2\n",
      "14\n"
     ]
    },
    {
     "name": "stderr",
     "output_type": "stream",
     "text": [
      "Info: Params [1.78802849 0.5564871  0.86730104 0.3129205  0.35937845] gave -17.567853140446587\n"
     ]
    },
    {
     "name": "stdout",
     "output_type": "stream",
     "text": [
      "   Drift Rate  Boundary Separation Speed      Bacc  Non-decision Time Speed  \\\n",
      "0    1.788028                   0.556487  0.867301                 0.312921   \n",
      "\n",
      "   Non-decision Time Accuracy        BIC  Frequency  Participant  \n",
      "0                    0.359378 -17.567853          2           14  \n",
      "3\n",
      "14\n"
     ]
    },
    {
     "name": "stderr",
     "output_type": "stream",
     "text": [
      "Info: Params [1.19225487 0.50848726 0.8869684  0.34178424 0.32872073] gave 174.27899034772895\n"
     ]
    },
    {
     "name": "stdout",
     "output_type": "stream",
     "text": [
      "   Drift Rate  Boundary Separation Speed      Bacc  Non-decision Time Speed  \\\n",
      "0    1.192255                   0.508487  0.886968                 0.341784   \n",
      "\n",
      "   Non-decision Time Accuracy        BIC  Frequency  Participant  \n",
      "0                    0.328721  174.27899          3           14  \n",
      "4\n",
      "14\n"
     ]
    },
    {
     "name": "stderr",
     "output_type": "stream",
     "text": [
      "Info: Params [2.17777552 0.59782288 0.93392539 0.36557769 0.42802107] gave -118.67403603871048\n"
     ]
    },
    {
     "name": "stdout",
     "output_type": "stream",
     "text": [
      "   Drift Rate  Boundary Separation Speed      Bacc  Non-decision Time Speed  \\\n",
      "0    2.177776                   0.597823  0.933925                 0.365578   \n",
      "\n",
      "   Non-decision Time Accuracy         BIC  Frequency  Participant  \n",
      "0                    0.428021 -118.674036          4           14  \n",
      "5\n",
      "14\n"
     ]
    },
    {
     "name": "stderr",
     "output_type": "stream",
     "text": [
      "Info: Params [1.59010434 0.64406049 1.54350491 0.2929598  0.11267765] gave 219.0470310584338\n"
     ]
    },
    {
     "name": "stdout",
     "output_type": "stream",
     "text": [
      "   Drift Rate  Boundary Separation Speed      Bacc  Non-decision Time Speed  \\\n",
      "0    1.590104                    0.64406  1.543505                  0.29296   \n",
      "\n",
      "   Non-decision Time Accuracy         BIC  Frequency  Participant  \n",
      "0                    0.112678  219.047031          5           14  \n",
      "6\n",
      "14\n"
     ]
    },
    {
     "name": "stderr",
     "output_type": "stream",
     "text": [
      "Info: Params [1.74427734 0.56712923 1.08998565 0.33457075 0.38003893] gave 46.003868397283235\n"
     ]
    },
    {
     "name": "stdout",
     "output_type": "stream",
     "text": [
      "   Drift Rate  Boundary Separation Speed      Bacc  Non-decision Time Speed  \\\n",
      "0    1.744277                   0.567129  1.089986                 0.334571   \n",
      "\n",
      "   Non-decision Time Accuracy        BIC  Frequency  Participant  \n",
      "0                    0.380039  46.003868          6           14  \n",
      "1\n",
      "15\n"
     ]
    },
    {
     "name": "stderr",
     "output_type": "stream",
     "text": [
      "Info: Params [2.39422078 0.56103849 1.0050346  0.32182235 0.34391752] gave -186.99425732238365\n"
     ]
    },
    {
     "name": "stdout",
     "output_type": "stream",
     "text": [
      "   Drift Rate  Boundary Separation Speed      Bacc  Non-decision Time Speed  \\\n",
      "0    2.394221                   0.561038  1.005035                 0.321822   \n",
      "\n",
      "   Non-decision Time Accuracy         BIC  Frequency  Participant  \n",
      "0                    0.343918 -186.994257          1           15  \n",
      "2\n",
      "15\n"
     ]
    },
    {
     "name": "stderr",
     "output_type": "stream",
     "text": [
      "Info: Params [1.85453045 0.6372477  0.89244345 0.28955843 0.40659664] gave 3.2561065371364997\n"
     ]
    },
    {
     "name": "stdout",
     "output_type": "stream",
     "text": [
      "   Drift Rate  Boundary Separation Speed      Bacc  Non-decision Time Speed  \\\n",
      "0     1.85453                   0.637248  0.892443                 0.289558   \n",
      "\n",
      "   Non-decision Time Accuracy       BIC  Frequency  Participant  \n",
      "0                    0.406597  3.256107          2           15  \n",
      "3\n",
      "15\n"
     ]
    },
    {
     "name": "stderr",
     "output_type": "stream",
     "text": [
      "Info: Params [1.03437269 0.52552131 0.80865735 0.31387804 0.43911718] gave 196.52823064618624\n"
     ]
    },
    {
     "name": "stdout",
     "output_type": "stream",
     "text": [
      "   Drift Rate  Boundary Separation Speed      Bacc  Non-decision Time Speed  \\\n",
      "0    1.034373                   0.525521  0.808657                 0.313878   \n",
      "\n",
      "   Non-decision Time Accuracy         BIC  Frequency  Participant  \n",
      "0                    0.439117  196.528231          3           15  \n",
      "4\n",
      "15\n"
     ]
    },
    {
     "name": "stderr",
     "output_type": "stream",
     "text": [
      "Info: Params [2.08909994 0.54786249 0.99049365 0.33892169 0.42467904] gave -100.10326301837765\n"
     ]
    },
    {
     "name": "stdout",
     "output_type": "stream",
     "text": [
      "   Drift Rate  Boundary Separation Speed      Bacc  Non-decision Time Speed  \\\n",
      "0      2.0891                   0.547862  0.990494                 0.338922   \n",
      "\n",
      "   Non-decision Time Accuracy         BIC  Frequency  Participant  \n",
      "0                    0.424679 -100.103263          4           15  \n",
      "5\n",
      "15\n"
     ]
    },
    {
     "name": "stderr",
     "output_type": "stream",
     "text": [
      "Info: Params [1.77433414 0.60050366 1.02625255 0.30186268 0.3809519 ] gave 44.025917630074424\n"
     ]
    },
    {
     "name": "stdout",
     "output_type": "stream",
     "text": [
      "   Drift Rate  Boundary Separation Speed      Bacc  Non-decision Time Speed  \\\n",
      "0    1.774334                   0.600504  1.026253                 0.301863   \n",
      "\n",
      "   Non-decision Time Accuracy        BIC  Frequency  Participant  \n",
      "0                    0.380952  44.025918          5           15  \n",
      "6\n",
      "15\n"
     ]
    },
    {
     "name": "stderr",
     "output_type": "stream",
     "text": [
      "Info: Params [2.06456092 0.58321545 0.8397859  0.32750178 0.44015543] gave -109.85279320809744\n"
     ]
    },
    {
     "name": "stdout",
     "output_type": "stream",
     "text": [
      "   Drift Rate  Boundary Separation Speed      Bacc  Non-decision Time Speed  \\\n",
      "0    2.064561                   0.583215  0.839786                 0.327502   \n",
      "\n",
      "   Non-decision Time Accuracy         BIC  Frequency  Participant  \n",
      "0                    0.440155 -109.852793          6           15  \n",
      "1\n",
      "16\n"
     ]
    },
    {
     "name": "stderr",
     "output_type": "stream",
     "text": [
      "Info: Params [1.93955656 0.59702188 0.6601682  0.25086723 0.39305119] gave -115.27758741782708\n"
     ]
    },
    {
     "name": "stdout",
     "output_type": "stream",
     "text": [
      "   Drift Rate  Boundary Separation Speed      Bacc  Non-decision Time Speed  \\\n",
      "0    1.939557                   0.597022  0.660168                 0.250867   \n",
      "\n",
      "   Non-decision Time Accuracy         BIC  Frequency  Participant  \n",
      "0                    0.393051 -115.277587          1           16  \n",
      "2\n",
      "16\n"
     ]
    },
    {
     "name": "stderr",
     "output_type": "stream",
     "text": [
      "Info: Params [1.47026765 0.66674603 0.74751256 0.21676    0.41051709] gave 120.00402747656759\n"
     ]
    },
    {
     "name": "stdout",
     "output_type": "stream",
     "text": [
      "   Drift Rate  Boundary Separation Speed      Bacc  Non-decision Time Speed  \\\n",
      "0    1.470268                   0.666746  0.747513                  0.21676   \n",
      "\n",
      "   Non-decision Time Accuracy         BIC  Frequency  Participant  \n",
      "0                    0.410517  120.004027          2           16  \n",
      "3\n",
      "16\n"
     ]
    },
    {
     "name": "stderr",
     "output_type": "stream",
     "text": [
      "Info: Params [0.98920392 0.62341562 0.79191521 0.22551311 0.37315329] gave 298.81500843853195\n"
     ]
    },
    {
     "name": "stdout",
     "output_type": "stream",
     "text": [
      "   Drift Rate  Boundary Separation Speed      Bacc  Non-decision Time Speed  \\\n",
      "0    0.989204                   0.623416  0.791915                 0.225513   \n",
      "\n",
      "   Non-decision Time Accuracy         BIC  Frequency  Participant  \n",
      "0                    0.373153  298.815008          3           16  \n",
      "4\n",
      "16\n"
     ]
    },
    {
     "name": "stderr",
     "output_type": "stream",
     "text": [
      "Info: Params [1.49430474 0.68143677 0.7987469  0.20677917 0.39654123] gave 121.95742842610774\n"
     ]
    },
    {
     "name": "stdout",
     "output_type": "stream",
     "text": [
      "   Drift Rate  Boundary Separation Speed      Bacc  Non-decision Time Speed  \\\n",
      "0    1.494305                   0.681437  0.798747                 0.206779   \n",
      "\n",
      "   Non-decision Time Accuracy         BIC  Frequency  Participant  \n",
      "0                    0.396541  121.957428          4           16  \n",
      "5\n",
      "16\n"
     ]
    },
    {
     "name": "stderr",
     "output_type": "stream",
     "text": [
      "Info: Params [1.31331799 0.6502596  0.81088258 0.21697943 0.38100372] gave 196.8737415560912\n"
     ]
    },
    {
     "name": "stdout",
     "output_type": "stream",
     "text": [
      "   Drift Rate  Boundary Separation Speed      Bacc  Non-decision Time Speed  \\\n",
      "0    1.313318                    0.65026  0.810883                 0.216979   \n",
      "\n",
      "   Non-decision Time Accuracy         BIC  Frequency  Participant  \n",
      "0                    0.381004  196.873742          5           16  \n",
      "6\n",
      "16\n"
     ]
    },
    {
     "name": "stderr",
     "output_type": "stream",
     "text": [
      "Info: Params [1.3813843  0.74255377 0.74057521 0.19081596 0.38414675] gave 181.0092791729944\n"
     ]
    },
    {
     "name": "stdout",
     "output_type": "stream",
     "text": [
      "   Drift Rate  Boundary Separation Speed      Bacc  Non-decision Time Speed  \\\n",
      "0    1.381384                   0.742554  0.740575                 0.190816   \n",
      "\n",
      "   Non-decision Time Accuracy         BIC  Frequency  Participant  \n",
      "0                    0.384147  181.009279          6           16  \n",
      "1\n",
      "17\n"
     ]
    },
    {
     "name": "stderr",
     "output_type": "stream",
     "text": [
      "Info: Params [3.12797159 0.61296652 1.12470374 0.32383774 0.33833403] gave -336.0175222478952\n"
     ]
    },
    {
     "name": "stdout",
     "output_type": "stream",
     "text": [
      "   Drift Rate  Boundary Separation Speed      Bacc  Non-decision Time Speed  \\\n",
      "0    3.127972                   0.612967  1.124704                 0.323838   \n",
      "\n",
      "   Non-decision Time Accuracy         BIC  Frequency  Participant  \n",
      "0                    0.338334 -336.017522          1           17  \n",
      "2\n",
      "17\n"
     ]
    },
    {
     "name": "stderr",
     "output_type": "stream",
     "text": [
      "Info: Params [2.50787724 0.71368186 0.9643491  0.30099505 0.38983008] gave -183.16388995270907\n"
     ]
    },
    {
     "name": "stdout",
     "output_type": "stream",
     "text": [
      "   Drift Rate  Boundary Separation Speed      Bacc  Non-decision Time Speed  \\\n",
      "0    2.507877                   0.713682  0.964349                 0.300995   \n",
      "\n",
      "   Non-decision Time Accuracy        BIC  Frequency  Participant  \n",
      "0                     0.38983 -183.16389          2           17  \n",
      "3\n",
      "17\n"
     ]
    },
    {
     "name": "stderr",
     "output_type": "stream",
     "text": [
      "Info: Params [1.68007829 0.5695617  0.7455961  0.32366013 0.44812135] gave -1.6392999489980085\n"
     ]
    },
    {
     "name": "stdout",
     "output_type": "stream",
     "text": [
      "   Drift Rate  Boundary Separation Speed      Bacc  Non-decision Time Speed  \\\n",
      "0    1.680078                   0.569562  0.745596                  0.32366   \n",
      "\n",
      "   Non-decision Time Accuracy     BIC  Frequency  Participant  \n",
      "0                    0.448121 -1.6393          3           17  \n",
      "4\n",
      "17\n"
     ]
    },
    {
     "name": "stderr",
     "output_type": "stream",
     "text": [
      "Info: Params [2.40940571 0.72207272 0.99608209 0.30098134 0.40647803] gave -132.30544466647225\n"
     ]
    },
    {
     "name": "stdout",
     "output_type": "stream",
     "text": [
      "   Drift Rate  Boundary Separation Speed      Bacc  Non-decision Time Speed  \\\n",
      "0    2.409406                   0.722073  0.996082                 0.300981   \n",
      "\n",
      "   Non-decision Time Accuracy         BIC  Frequency  Participant  \n",
      "0                    0.406478 -132.305445          4           17  \n",
      "5\n",
      "17\n"
     ]
    },
    {
     "name": "stderr",
     "output_type": "stream",
     "text": [
      "Info: Params [2.36040867 0.67416891 0.97237469 0.32484495 0.39859751] gave -138.94353106672804\n"
     ]
    },
    {
     "name": "stdout",
     "output_type": "stream",
     "text": [
      "   Drift Rate  Boundary Separation Speed      Bacc  Non-decision Time Speed  \\\n",
      "0    2.360409                   0.674169  0.972375                 0.324845   \n",
      "\n",
      "   Non-decision Time Accuracy         BIC  Frequency  Participant  \n",
      "0                    0.398598 -138.943531          5           17  \n",
      "6\n",
      "17\n"
     ]
    },
    {
     "name": "stderr",
     "output_type": "stream",
     "text": [
      "Info: Params [2.37556699 0.90602805 1.35588119 0.23476735 0.26384373] gave -10.583162327923755\n"
     ]
    },
    {
     "name": "stdout",
     "output_type": "stream",
     "text": [
      "   Drift Rate  Boundary Separation Speed      Bacc  Non-decision Time Speed  \\\n",
      "0    2.375567                   0.906028  1.355881                 0.234767   \n",
      "\n",
      "   Non-decision Time Accuracy        BIC  Frequency  Participant  \n",
      "0                    0.263844 -10.583162          6           17  \n"
     ]
    }
   ],
   "source": [
    "participants = [1,  3,  4,  5,  6,  7,  8,  9, 10, 11, 12, 13, 14, 15, 16, 17]\n",
    "df_all = pd.DataFrame()\n",
    "for i in participants:\n",
    "    for freq in range(1,7):\n",
    "        print(freq)\n",
    "        print(i)\n",
    "        df = pd.read_csv(data_dir)\n",
    "        df = df[df[\"Participant\"]==i]\n",
    "        df = df[df[\"Frequency\"]==freq]\n",
    "        df = df[df[\"RT\"]<3]\n",
    "\n",
    "        samp = Sample.from_pandas_dataframe(df, rt_column_name=\"RT\", correct_column_name=\"Correct\")\n",
    "        df_param = get_DDM_result_sub_2a2ter(samp)\n",
    "        df_param['Frequency'] = freq\n",
    "        df_param[\"Participant\"]=i\n",
    "        df_all = pd.concat((df_all,df_param))\n",
    "        print(df_param)\n",
    "df_OUM = df_all.copy()\n"
   ]
  },
  {
   "cell_type": "code",
   "execution_count": 10,
   "id": "e5520931",
   "metadata": {},
   "outputs": [
    {
     "data": {
      "text/plain": [
       "1    16\n",
       "2    16\n",
       "3    16\n",
       "4    16\n",
       "5    16\n",
       "6    16\n",
       "Name: Frequency, dtype: int64"
      ]
     },
     "execution_count": 10,
     "metadata": {},
     "output_type": "execute_result"
    }
   ],
   "source": [
    "df_OUM['Frequency'].value_counts()"
   ]
  },
  {
   "cell_type": "code",
   "execution_count": 11,
   "id": "3b05a53a",
   "metadata": {},
   "outputs": [],
   "source": [
    "df_OUM.to_csv(\"DDM2a2terresultWagenmakers2008.csv\")"
   ]
  },
  {
   "cell_type": "code",
   "execution_count": 12,
   "id": "87e8797e",
   "metadata": {},
   "outputs": [
    {
     "data": {
      "text/plain": [
       "-56.86335446962375"
      ]
     },
     "execution_count": 12,
     "metadata": {},
     "output_type": "execute_result"
    }
   ],
   "source": [
    "df_OUM[\"BIC\"].mean()"
   ]
  },
  {
   "cell_type": "code",
   "execution_count": null,
   "id": "c5baddcf",
   "metadata": {},
   "outputs": [],
   "source": []
  }
 ],
 "metadata": {
  "kernelspec": {
   "display_name": "Python 3 (ipykernel)",
   "language": "python",
   "name": "python3"
  },
  "language_info": {
   "codemirror_mode": {
    "name": "ipython",
    "version": 3
   },
   "file_extension": ".py",
   "mimetype": "text/x-python",
   "name": "python",
   "nbconvert_exporter": "python",
   "pygments_lexer": "ipython3",
   "version": "3.7.15"
  }
 },
 "nbformat": 4,
 "nbformat_minor": 5
}
