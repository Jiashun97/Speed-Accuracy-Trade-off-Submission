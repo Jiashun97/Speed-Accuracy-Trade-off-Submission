{
 "cells": [
  {
   "cell_type": "code",
   "execution_count": 2,
   "id": "2cda49de",
   "metadata": {},
   "outputs": [],
   "source": [
    "%run SAT_help_functions.ipynb"
   ]
  },
  {
   "cell_type": "code",
   "execution_count": null,
   "id": "bc081cf9",
   "metadata": {},
   "outputs": [],
   "source": []
  },
  {
   "cell_type": "markdown",
   "id": "4bd26666",
   "metadata": {},
   "source": [
    "## OUM"
   ]
  },
  {
   "cell_type": "code",
   "execution_count": null,
   "id": "9ef6c434",
   "metadata": {},
   "outputs": [],
   "source": []
  },
  {
   "cell_type": "code",
   "execution_count": 3,
   "id": "e776257c",
   "metadata": {},
   "outputs": [],
   "source": [
    "data_dir = \"/Users/wangjiashun/Desktop/Reserach on SAT/datasets/Evans2021/Rae2014/dataBySubject/sub\"\n",
    "sample_size = 34\n",
    "SAT_conds = [\"Speed\", \"Accuracy\"]"
   ]
  },
  {
   "cell_type": "code",
   "execution_count": 4,
   "id": "f434220f",
   "metadata": {},
   "outputs": [],
   "source": [
    "class BoundSpeedAcc(Bound):\n",
    "    name = \"BoundSpeedAcc\"\n",
    "    required_parameters = [\"Bspeed\", \"Bacc\"]\n",
    "    required_conditions = ['Cond']\n",
    "    def get_bound(self, conditions, *args, **kwargs):\n",
    "        assert self.Bacc > 0\n",
    "        assert self.Bspeed > 0\n",
    "        if conditions['Cond'] == 'Speed':\n",
    "            return self.Bspeed\n",
    "        elif conditions['Cond'] == 'Accuracy':\n",
    "            return self.Bacc\n",
    "        else:\n",
    "            print(\"Non-implemented SAT conditions\")"
   ]
  },
  {
   "cell_type": "code",
   "execution_count": 5,
   "id": "bbb278a6",
   "metadata": {},
   "outputs": [],
   "source": [
    "\n",
    "class DriftConstantSpeedAcc(Drift):\n",
    "    name = \"DriftBothSpeedAcc\"\n",
    "    required_parameters = [\"Vspeed\",\"Vacc\", \"K\"]\n",
    "    required_conditions = ['Cond']\n",
    "        \n",
    "    def get_drift(self, x, t, conditions, **kwargs):\n",
    "        if conditions['Cond'] == 'Speed':\n",
    "            return self.Vspeed + x*self.K \n",
    "        elif conditions['Cond'] == 'Accuracy':\n",
    "            return self.Vacc + x*self.K\n",
    "        else: \n",
    "            print(\"Non-implemented SAT conditions\")"
   ]
  },
  {
   "cell_type": "code",
   "execution_count": 6,
   "id": "6e5e0074",
   "metadata": {},
   "outputs": [],
   "source": [
    "\n",
    "class NondecisionSpeedAcc(OverlayNonDecision):\n",
    "    name = \"DriftSpeedAcc\"\n",
    "    required_parameters = [\"tSpeed\", 'tAcc']\n",
    "    required_conditions = ['Cond']\n",
    "        \n",
    "    def get_nondecision_time(self, conditions, **kwargs):\n",
    "        if conditions['Cond'] == 'Speed':\n",
    "            return self.tSpeed \n",
    "        elif conditions['Cond'] == 'Accuracy':\n",
    "            return self.tAcc\n",
    "        else: \n",
    "            print(\"Non-implemented SAT conditions\")"
   ]
  },
  {
   "cell_type": "code",
   "execution_count": null,
   "id": "b1e0fe9b",
   "metadata": {},
   "outputs": [],
   "source": []
  },
  {
   "cell_type": "code",
   "execution_count": null,
   "id": "81235d16",
   "metadata": {},
   "outputs": [],
   "source": []
  },
  {
   "cell_type": "code",
   "execution_count": null,
   "id": "8a3f5185",
   "metadata": {},
   "outputs": [],
   "source": []
  },
  {
   "cell_type": "code",
   "execution_count": 7,
   "id": "fdb13001",
   "metadata": {
    "scrolled": true
   },
   "outputs": [
    {
     "name": "stdout",
     "output_type": "stream",
     "text": [
      "0\n"
     ]
    },
    {
     "name": "stderr",
     "output_type": "stream",
     "text": [
      "Info: Params [1.35878973 2.10620479 8.33726649 2.13009469 7.26861279 0.16440423\n",
      " 0.13356719] gave -1136.0560889263645\n"
     ]
    },
    {
     "name": "stdout",
     "output_type": "stream",
     "text": [
      "   Drift Rate Speed  Drift Rate Accuracy  Self-excitation  \\\n",
      "0           1.35879             2.106205         8.337266   \n",
      "\n",
      "   Boundary Separation Speed      Bacc  Non-decision Time Speed  \\\n",
      "0                   2.130095  7.268613                 0.164404   \n",
      "\n",
      "   Non-decision Time Accuracy  Participant          BIC  \n",
      "0                    0.133567            1 -1136.056089  \n",
      "1\n"
     ]
    },
    {
     "name": "stderr",
     "output_type": "stream",
     "text": [
      "Info: Params [ 1.03011108  1.94914632 10.          1.28976334  2.13192404  0.21749896\n",
      "  0.24949354] gave -2322.979226241664\n"
     ]
    },
    {
     "name": "stdout",
     "output_type": "stream",
     "text": [
      "   Drift Rate Speed  Drift Rate Accuracy  Self-excitation  \\\n",
      "0          1.030111             1.949146             10.0   \n",
      "\n",
      "   Boundary Separation Speed      Bacc  Non-decision Time Speed  \\\n",
      "0                   1.289763  2.131924                 0.217499   \n",
      "\n",
      "   Non-decision Time Accuracy  Participant          BIC  \n",
      "0                    0.249494            2 -2322.979226  \n",
      "2\n"
     ]
    },
    {
     "name": "stderr",
     "output_type": "stream",
     "text": [
      "Info: Params [0.21774859 0.35892644 8.39171936 1.53846887 2.31969043 0.10445195\n",
      " 0.1065828 ] gave -447.0533637552112\n"
     ]
    },
    {
     "name": "stdout",
     "output_type": "stream",
     "text": [
      "   Drift Rate Speed  Drift Rate Accuracy  Self-excitation  \\\n",
      "0          0.217749             0.358926         8.391719   \n",
      "\n",
      "   Boundary Separation Speed     Bacc  Non-decision Time Speed  \\\n",
      "0                   1.538469  2.31969                 0.104452   \n",
      "\n",
      "   Non-decision Time Accuracy  Participant         BIC  \n",
      "0                    0.106583            3 -447.053364  \n",
      "3\n"
     ]
    },
    {
     "name": "stderr",
     "output_type": "stream",
     "text": [
      "Info: Params [ 2.44708063  2.6169197  10.          0.75709744  1.436189    0.28114793\n",
      "  0.25034977] gave -3807.172269538701\n"
     ]
    },
    {
     "name": "stdout",
     "output_type": "stream",
     "text": [
      "   Drift Rate Speed  Drift Rate Accuracy  Self-excitation  \\\n",
      "0          2.447081              2.61692             10.0   \n",
      "\n",
      "   Boundary Separation Speed      Bacc  Non-decision Time Speed  \\\n",
      "0                   0.757097  1.436189                 0.281148   \n",
      "\n",
      "   Non-decision Time Accuracy  Participant         BIC  \n",
      "0                     0.25035            4 -3807.17227  \n",
      "4\n"
     ]
    },
    {
     "name": "stderr",
     "output_type": "stream",
     "text": [
      "Info: Params [ 0.29899898  0.55947266 10.          2.01882303  3.48311307  0.10851514\n",
      "  0.10368037] gave -290.19968272387666\n"
     ]
    },
    {
     "name": "stdout",
     "output_type": "stream",
     "text": [
      "   Drift Rate Speed  Drift Rate Accuracy  Self-excitation  \\\n",
      "0          0.298999             0.559473             10.0   \n",
      "\n",
      "   Boundary Separation Speed      Bacc  Non-decision Time Speed  \\\n",
      "0                   2.018823  3.483113                 0.108515   \n",
      "\n",
      "   Non-decision Time Accuracy  Participant         BIC  \n",
      "0                     0.10368            5 -290.199683  \n",
      "5\n"
     ]
    },
    {
     "name": "stderr",
     "output_type": "stream",
     "text": [
      "Info: Params [ 2.11871207  2.50595397 10.          0.9238604   0.84219496  0.24562867\n",
      "  0.27795745] gave -1790.6489129445897\n"
     ]
    },
    {
     "name": "stdout",
     "output_type": "stream",
     "text": [
      "   Drift Rate Speed  Drift Rate Accuracy  Self-excitation  \\\n",
      "0          2.118712             2.505954             10.0   \n",
      "\n",
      "   Boundary Separation Speed      Bacc  Non-decision Time Speed  \\\n",
      "0                    0.92386  0.842195                 0.245629   \n",
      "\n",
      "   Non-decision Time Accuracy  Participant          BIC  \n",
      "0                    0.277957            6 -1790.648913  \n",
      "6\n"
     ]
    },
    {
     "name": "stderr",
     "output_type": "stream",
     "text": [
      "Info: Params [ 1.69248999  2.00697639 10.          0.7323023   1.38425556  0.27262492\n",
      "  0.26087117] gave -2904.226086706204\n"
     ]
    },
    {
     "name": "stdout",
     "output_type": "stream",
     "text": [
      "   Drift Rate Speed  Drift Rate Accuracy  Self-excitation  \\\n",
      "0           1.69249             2.006976             10.0   \n",
      "\n",
      "   Boundary Separation Speed      Bacc  Non-decision Time Speed  \\\n",
      "0                   0.732302  1.384256                 0.272625   \n",
      "\n",
      "   Non-decision Time Accuracy  Participant          BIC  \n",
      "0                    0.260871            7 -2904.226087  \n",
      "7\n"
     ]
    },
    {
     "name": "stderr",
     "output_type": "stream",
     "text": [
      "Info: Params [1.82750899 1.84063429 5.10804569 0.54270752 0.88330873 0.24170389\n",
      " 0.27337156] gave -1767.334978820951\n"
     ]
    },
    {
     "name": "stdout",
     "output_type": "stream",
     "text": [
      "   Drift Rate Speed  Drift Rate Accuracy  Self-excitation  \\\n",
      "0          1.827509             1.840634         5.108046   \n",
      "\n",
      "   Boundary Separation Speed      Bacc  Non-decision Time Speed  \\\n",
      "0                   0.542708  0.883309                 0.241704   \n",
      "\n",
      "   Non-decision Time Accuracy  Participant          BIC  \n",
      "0                    0.273372            8 -1767.334979  \n",
      "8\n"
     ]
    },
    {
     "name": "stderr",
     "output_type": "stream",
     "text": [
      "Info: Params [ 1.85604807  2.39761114 10.          1.20881026  3.30664649  0.26068368\n",
      "  0.21139303] gave -1395.2194807507267\n"
     ]
    },
    {
     "name": "stdout",
     "output_type": "stream",
     "text": [
      "   Drift Rate Speed  Drift Rate Accuracy  Self-excitation  \\\n",
      "0          1.856048             2.397611             10.0   \n",
      "\n",
      "   Boundary Separation Speed      Bacc  Non-decision Time Speed  \\\n",
      "0                    1.20881  3.306646                 0.260684   \n",
      "\n",
      "   Non-decision Time Accuracy  Participant          BIC  \n",
      "0                    0.211393            9 -1395.219481  \n",
      "9\n"
     ]
    },
    {
     "name": "stderr",
     "output_type": "stream",
     "text": [
      "Info: Params [ 1.11137461  1.7485769  10.          1.61239117  1.14106508  0.1785457\n",
      "  0.25884495] gave -2086.7162166191497\n"
     ]
    },
    {
     "name": "stdout",
     "output_type": "stream",
     "text": [
      "   Drift Rate Speed  Drift Rate Accuracy  Self-excitation  \\\n",
      "0          1.111375             1.748577             10.0   \n",
      "\n",
      "   Boundary Separation Speed      Bacc  Non-decision Time Speed  \\\n",
      "0                   1.612391  1.141065                 0.178546   \n",
      "\n",
      "   Non-decision Time Accuracy  Participant          BIC  \n",
      "0                    0.258845           10 -2086.716217  \n",
      "10\n"
     ]
    },
    {
     "name": "stderr",
     "output_type": "stream",
     "text": [
      "Info: Params [0.09871158 0.12160291 8.10378376 1.05144999 1.26342997 0.13879154\n",
      " 0.12523721] gave -465.4093791669011\n"
     ]
    },
    {
     "name": "stdout",
     "output_type": "stream",
     "text": [
      "   Drift Rate Speed  Drift Rate Accuracy  Self-excitation  \\\n",
      "0          0.098712             0.121603         8.103784   \n",
      "\n",
      "   Boundary Separation Speed     Bacc  Non-decision Time Speed  \\\n",
      "0                    1.05145  1.26343                 0.138792   \n",
      "\n",
      "   Non-decision Time Accuracy  Participant         BIC  \n",
      "0                    0.125237           11 -465.409379  \n",
      "11\n"
     ]
    },
    {
     "name": "stderr",
     "output_type": "stream",
     "text": [
      "Info: Params [0.92020714 1.28619538 4.138481   0.59004313 1.15248785 0.21782492\n",
      " 0.24921056] gave 29.431630395670282\n"
     ]
    },
    {
     "name": "stdout",
     "output_type": "stream",
     "text": [
      "   Drift Rate Speed  Drift Rate Accuracy  Self-excitation  \\\n",
      "0          0.920207             1.286195         4.138481   \n",
      "\n",
      "   Boundary Separation Speed      Bacc  Non-decision Time Speed  \\\n",
      "0                   0.590043  1.152488                 0.217825   \n",
      "\n",
      "   Non-decision Time Accuracy  Participant       BIC  \n",
      "0                    0.249211           12  29.43163  \n",
      "12\n"
     ]
    },
    {
     "name": "stderr",
     "output_type": "stream",
     "text": [
      "Info: Params [0.35674161 1.02960529 9.11283045 2.1609255  4.68956744 0.10423075\n",
      " 0.10950412] gave -509.14307515900464\n"
     ]
    },
    {
     "name": "stdout",
     "output_type": "stream",
     "text": [
      "   Drift Rate Speed  Drift Rate Accuracy  Self-excitation  \\\n",
      "0          0.356742             1.029605          9.11283   \n",
      "\n",
      "   Boundary Separation Speed      Bacc  Non-decision Time Speed  \\\n",
      "0                   2.160925  4.689567                 0.104231   \n",
      "\n",
      "   Non-decision Time Accuracy  Participant         BIC  \n",
      "0                    0.109504           13 -509.143075  \n",
      "13\n"
     ]
    },
    {
     "name": "stderr",
     "output_type": "stream",
     "text": [
      "Info: Params [0.02686535 0.53452051 6.57486411 0.50777871 0.64273468 0.17392857\n",
      " 0.17850116] gave -276.601012048478\n"
     ]
    },
    {
     "name": "stdout",
     "output_type": "stream",
     "text": [
      "   Drift Rate Speed  Drift Rate Accuracy  Self-excitation  \\\n",
      "0          0.026865             0.534521         6.574864   \n",
      "\n",
      "   Boundary Separation Speed      Bacc  Non-decision Time Speed  \\\n",
      "0                   0.507779  0.642735                 0.173929   \n",
      "\n",
      "   Non-decision Time Accuracy  Participant         BIC  \n",
      "0                    0.178501           14 -276.601012  \n",
      "14\n"
     ]
    },
    {
     "name": "stderr",
     "output_type": "stream",
     "text": [
      "Info: Params [1.33641706 1.44477287 9.59322155 2.28952668 1.77935888 0.24576829\n",
      " 0.28338358] gave -1513.226210866266\n"
     ]
    },
    {
     "name": "stdout",
     "output_type": "stream",
     "text": [
      "   Drift Rate Speed  Drift Rate Accuracy  Self-excitation  \\\n",
      "0          1.336417             1.444773         9.593222   \n",
      "\n",
      "   Boundary Separation Speed      Bacc  Non-decision Time Speed  \\\n",
      "0                   2.289527  1.779359                 0.245768   \n",
      "\n",
      "   Non-decision Time Accuracy  Participant          BIC  \n",
      "0                    0.283384           15 -1513.226211  \n",
      "15\n"
     ]
    },
    {
     "name": "stderr",
     "output_type": "stream",
     "text": [
      "Info: Params [0.10063612 0.57548858 6.4188338  0.72034934 0.91378768 0.17489632\n",
      " 0.1857231 ] gave 224.3333921402435\n"
     ]
    },
    {
     "name": "stdout",
     "output_type": "stream",
     "text": [
      "   Drift Rate Speed  Drift Rate Accuracy  Self-excitation  \\\n",
      "0          0.100636             0.575489         6.418834   \n",
      "\n",
      "   Boundary Separation Speed      Bacc  Non-decision Time Speed  \\\n",
      "0                   0.720349  0.913788                 0.174896   \n",
      "\n",
      "   Non-decision Time Accuracy  Participant         BIC  \n",
      "0                    0.185723           16  224.333392  \n",
      "16\n"
     ]
    },
    {
     "name": "stderr",
     "output_type": "stream",
     "text": [
      "Info: Params [ 0.60773879  0.65053749 10.          0.78561576  1.69173347  0.16160341\n",
      "  0.13252991] gave -1528.1640387449754\n"
     ]
    },
    {
     "name": "stdout",
     "output_type": "stream",
     "text": [
      "   Drift Rate Speed  Drift Rate Accuracy  Self-excitation  \\\n",
      "0          0.607739             0.650537             10.0   \n",
      "\n",
      "   Boundary Separation Speed      Bacc  Non-decision Time Speed  \\\n",
      "0                   0.785616  1.691733                 0.161603   \n",
      "\n",
      "   Non-decision Time Accuracy  Participant          BIC  \n",
      "0                     0.13253           17 -1528.164039  \n",
      "17\n"
     ]
    },
    {
     "name": "stderr",
     "output_type": "stream",
     "text": [
      "Info: Params [0.39121988 0.94276997 5.7533811  0.67641502 2.00687635 0.14476109\n",
      " 0.11264594] gave 382.1531539582328\n"
     ]
    },
    {
     "name": "stdout",
     "output_type": "stream",
     "text": [
      "   Drift Rate Speed  Drift Rate Accuracy  Self-excitation  \\\n",
      "0           0.39122              0.94277         5.753381   \n",
      "\n",
      "   Boundary Separation Speed      Bacc  Non-decision Time Speed  \\\n",
      "0                   0.676415  2.006876                 0.144761   \n",
      "\n",
      "   Non-decision Time Accuracy  Participant         BIC  \n",
      "0                    0.112646           18  382.153154  \n",
      "18\n"
     ]
    },
    {
     "name": "stderr",
     "output_type": "stream",
     "text": [
      "Info: Params [2.60039865 2.85216872 8.21316178 2.42270293 1.80339449 0.33318559\n",
      " 0.37668665] gave -2721.430484477316\n"
     ]
    },
    {
     "name": "stdout",
     "output_type": "stream",
     "text": [
      "   Drift Rate Speed  Drift Rate Accuracy  Self-excitation  \\\n",
      "0          2.600399             2.852169         8.213162   \n",
      "\n",
      "   Boundary Separation Speed      Bacc  Non-decision Time Speed  \\\n",
      "0                   2.422703  1.803394                 0.333186   \n",
      "\n",
      "   Non-decision Time Accuracy  Participant          BIC  \n",
      "0                    0.376687           19 -2721.430484  \n",
      "19\n"
     ]
    },
    {
     "name": "stderr",
     "output_type": "stream",
     "text": [
      "Info: Params [ 0.35524054  0.60625072 10.          2.17239669  2.90712621  0.11277745\n",
      "  0.12562515] gave -1285.112366687407\n"
     ]
    },
    {
     "name": "stdout",
     "output_type": "stream",
     "text": [
      "   Drift Rate Speed  Drift Rate Accuracy  Self-excitation  \\\n",
      "0          0.355241             0.606251             10.0   \n",
      "\n",
      "   Boundary Separation Speed      Bacc  Non-decision Time Speed  \\\n",
      "0                   2.172397  2.907126                 0.112777   \n",
      "\n",
      "   Non-decision Time Accuracy  Participant          BIC  \n",
      "0                    0.125625           20 -1285.112367  \n",
      "20\n"
     ]
    },
    {
     "name": "stderr",
     "output_type": "stream",
     "text": [
      "Info: Params [0.31032073 0.10335023 8.01204537 0.61196655 1.0312415  0.16747297\n",
      " 0.12651884] gave -632.3736780889906\n"
     ]
    },
    {
     "name": "stdout",
     "output_type": "stream",
     "text": [
      "   Drift Rate Speed  Drift Rate Accuracy  Self-excitation  \\\n",
      "0          0.310321              0.10335         8.012045   \n",
      "\n",
      "   Boundary Separation Speed      Bacc  Non-decision Time Speed  \\\n",
      "0                   0.611967  1.031242                 0.167473   \n",
      "\n",
      "   Non-decision Time Accuracy  Participant         BIC  \n",
      "0                    0.126519           21 -632.373678  \n",
      "21\n"
     ]
    },
    {
     "name": "stderr",
     "output_type": "stream",
     "text": [
      "Info: Params [0.2704704  0.6043521  6.77680627 1.57529213 2.69148874 0.1062527\n",
      " 0.1077993 ] gave 717.7617615314722\n"
     ]
    },
    {
     "name": "stdout",
     "output_type": "stream",
     "text": [
      "   Drift Rate Speed  Drift Rate Accuracy  Self-excitation  \\\n",
      "0           0.27047             0.604352         6.776806   \n",
      "\n",
      "   Boundary Separation Speed      Bacc  Non-decision Time Speed  \\\n",
      "0                   1.575292  2.691489                 0.106253   \n",
      "\n",
      "   Non-decision Time Accuracy  Participant         BIC  \n",
      "0                    0.107799           22  717.761762  \n",
      "22\n"
     ]
    },
    {
     "name": "stderr",
     "output_type": "stream",
     "text": [
      "Info: Params [0.         0.1466602  7.87293913 0.50248863 0.85586671 0.16451417\n",
      " 0.14590482] gave -765.144705355906\n"
     ]
    },
    {
     "name": "stdout",
     "output_type": "stream",
     "text": [
      "   Drift Rate Speed  Drift Rate Accuracy  Self-excitation  \\\n",
      "0               0.0              0.14666         7.872939   \n",
      "\n",
      "   Boundary Separation Speed      Bacc  Non-decision Time Speed  \\\n",
      "0                   0.502489  0.855867                 0.164514   \n",
      "\n",
      "   Non-decision Time Accuracy  Participant         BIC  \n",
      "0                    0.145905           23 -765.144705  \n",
      "23\n"
     ]
    },
    {
     "name": "stderr",
     "output_type": "stream",
     "text": [
      "Info: Params [0.06252096 0.40639675 9.61819849 1.90581281 4.76198278 0.10632368\n",
      " 0.10267672] gave -98.45186311153807\n"
     ]
    },
    {
     "name": "stdout",
     "output_type": "stream",
     "text": [
      "   Drift Rate Speed  Drift Rate Accuracy  Self-excitation  \\\n",
      "0          0.062521             0.406397         9.618198   \n",
      "\n",
      "   Boundary Separation Speed      Bacc  Non-decision Time Speed  \\\n",
      "0                   1.905813  4.761983                 0.106324   \n",
      "\n",
      "   Non-decision Time Accuracy  Participant        BIC  \n",
      "0                    0.102677           24 -98.451863  \n",
      "24\n"
     ]
    },
    {
     "name": "stderr",
     "output_type": "stream",
     "text": [
      "Info: Params [0.1972685  0.71320627 4.33174094 0.50474999 2.28533805 0.15341903\n",
      " 0.10665041] gave 357.2675212054332\n"
     ]
    },
    {
     "name": "stdout",
     "output_type": "stream",
     "text": [
      "   Drift Rate Speed  Drift Rate Accuracy  Self-excitation  \\\n",
      "0          0.197269             0.713206         4.331741   \n",
      "\n",
      "   Boundary Separation Speed      Bacc  Non-decision Time Speed  \\\n",
      "0                    0.50475  2.285338                 0.153419   \n",
      "\n",
      "   Non-decision Time Accuracy  Participant         BIC  \n",
      "0                     0.10665           25  357.267521  \n",
      "25\n"
     ]
    },
    {
     "name": "stderr",
     "output_type": "stream",
     "text": [
      "Info: Params [ 0.73184956  0.7425031  10.          0.82765851  2.19818876  0.19556976\n",
      "  0.12955325] gave -719.4819491771647\n"
     ]
    },
    {
     "name": "stdout",
     "output_type": "stream",
     "text": [
      "   Drift Rate Speed  Drift Rate Accuracy  Self-excitation  \\\n",
      "0           0.73185             0.742503             10.0   \n",
      "\n",
      "   Boundary Separation Speed      Bacc  Non-decision Time Speed  \\\n",
      "0                   0.827659  2.198189                  0.19557   \n",
      "\n",
      "   Non-decision Time Accuracy  Participant         BIC  \n",
      "0                    0.129553           26 -719.481949  \n",
      "26\n"
     ]
    },
    {
     "name": "stderr",
     "output_type": "stream",
     "text": [
      "Info: Params [1.1539854  1.5322275  9.38873627 0.92527816 5.56692678 0.17877051\n",
      " 0.1078762 ] gave -661.763396644996\n"
     ]
    },
    {
     "name": "stdout",
     "output_type": "stream",
     "text": [
      "   Drift Rate Speed  Drift Rate Accuracy  Self-excitation  \\\n",
      "0          1.153985             1.532228         9.388736   \n",
      "\n",
      "   Boundary Separation Speed      Bacc  Non-decision Time Speed  \\\n",
      "0                   0.925278  5.566927                 0.178771   \n",
      "\n",
      "   Non-decision Time Accuracy  Participant         BIC  \n",
      "0                    0.107876           27 -661.763397  \n",
      "27\n"
     ]
    },
    {
     "name": "stderr",
     "output_type": "stream",
     "text": [
      "Info: Params [ 0.18341602  0.02373653 10.          1.14724581  0.93676499  0.17800515\n",
      "  0.21200786] gave -969.5870245200588\n"
     ]
    },
    {
     "name": "stdout",
     "output_type": "stream",
     "text": [
      "   Drift Rate Speed  Drift Rate Accuracy  Self-excitation  \\\n",
      "0          0.183416             0.023737             10.0   \n",
      "\n",
      "   Boundary Separation Speed      Bacc  Non-decision Time Speed  \\\n",
      "0                   1.147246  0.936765                 0.178005   \n",
      "\n",
      "   Non-decision Time Accuracy  Participant         BIC  \n",
      "0                    0.212008           28 -969.587025  \n",
      "28\n"
     ]
    },
    {
     "name": "stderr",
     "output_type": "stream",
     "text": [
      "Info: Params [0.32481405 0.52207116 8.35210635 0.82646638 2.97071697 0.153446\n",
      " 0.10439126] gave -49.80054165324315\n"
     ]
    },
    {
     "name": "stdout",
     "output_type": "stream",
     "text": [
      "   Drift Rate Speed  Drift Rate Accuracy  Self-excitation  \\\n",
      "0          0.324814             0.522071         8.352106   \n",
      "\n",
      "   Boundary Separation Speed      Bacc  Non-decision Time Speed  \\\n",
      "0                   0.826466  2.970717                 0.153446   \n",
      "\n",
      "   Non-decision Time Accuracy  Participant        BIC  \n",
      "0                    0.104391           29 -49.800542  \n",
      "29\n"
     ]
    },
    {
     "name": "stderr",
     "output_type": "stream",
     "text": [
      "Info: Params [0.11299218 0.1041293  7.71954285 1.54506988 1.97513658 0.10786174\n",
      " 0.10831699] gave 248.47421763991426\n"
     ]
    },
    {
     "name": "stdout",
     "output_type": "stream",
     "text": [
      "   Drift Rate Speed  Drift Rate Accuracy  Self-excitation  \\\n",
      "0          0.112992             0.104129         7.719543   \n",
      "\n",
      "   Boundary Separation Speed      Bacc  Non-decision Time Speed  \\\n",
      "0                    1.54507  1.975137                 0.107862   \n",
      "\n",
      "   Non-decision Time Accuracy  Participant         BIC  \n",
      "0                    0.108317           30  248.474218  \n",
      "30\n"
     ]
    },
    {
     "name": "stderr",
     "output_type": "stream",
     "text": [
      "Info: Params [0.21709997 0.1189298  8.11974798 0.7383772  0.81027899 0.16643099\n",
      " 0.15967927] gave -144.7132748676936\n"
     ]
    },
    {
     "name": "stdout",
     "output_type": "stream",
     "text": [
      "   Drift Rate Speed  Drift Rate Accuracy  Self-excitation  \\\n",
      "0            0.2171              0.11893         8.119748   \n",
      "\n",
      "   Boundary Separation Speed      Bacc  Non-decision Time Speed  \\\n",
      "0                   0.738377  0.810279                 0.166431   \n",
      "\n",
      "   Non-decision Time Accuracy  Participant         BIC  \n",
      "0                    0.159679           31 -144.713275  \n",
      "31\n"
     ]
    },
    {
     "name": "stderr",
     "output_type": "stream",
     "text": [
      "Info: Params [0.45671426 0.22509505 6.71805838 0.61891988 0.75019157 0.17089544\n",
      " 0.16570753] gave -38.25920115968954\n"
     ]
    },
    {
     "name": "stdout",
     "output_type": "stream",
     "text": [
      "   Drift Rate Speed  Drift Rate Accuracy  Self-excitation  \\\n",
      "0          0.456714             0.225095         6.718058   \n",
      "\n",
      "   Boundary Separation Speed      Bacc  Non-decision Time Speed  \\\n",
      "0                    0.61892  0.750192                 0.170895   \n",
      "\n",
      "   Non-decision Time Accuracy  Participant        BIC  \n",
      "0                    0.165708           32 -38.259201  \n",
      "32\n"
     ]
    },
    {
     "name": "stderr",
     "output_type": "stream",
     "text": [
      "Info: Params [0.11264838 0.10370576 7.75542089 1.55457797 1.9930446  0.10350834\n",
      " 0.10663521] gave 248.43813299121052\n"
     ]
    },
    {
     "name": "stdout",
     "output_type": "stream",
     "text": [
      "   Drift Rate Speed  Drift Rate Accuracy  Self-excitation  \\\n",
      "0          0.112648             0.103706         7.755421   \n",
      "\n",
      "   Boundary Separation Speed      Bacc  Non-decision Time Speed  \\\n",
      "0                   1.554578  1.993045                 0.103508   \n",
      "\n",
      "   Non-decision Time Accuracy  Participant         BIC  \n",
      "0                    0.106635           33  248.438133  \n",
      "33\n"
     ]
    },
    {
     "name": "stderr",
     "output_type": "stream",
     "text": [
      "Info: Params [0.09571648 0.48020513 4.0651417  0.54313746 2.20382725 0.18063849\n",
      " 0.10928098] gave 577.8485357398116\n"
     ]
    },
    {
     "name": "stdout",
     "output_type": "stream",
     "text": [
      "   Drift Rate Speed  Drift Rate Accuracy  Self-excitation  \\\n",
      "0          0.095716             0.480205         4.065142   \n",
      "\n",
      "   Boundary Separation Speed      Bacc  Non-decision Time Speed  \\\n",
      "0                   0.543137  2.203827                 0.180638   \n",
      "\n",
      "   Non-decision Time Accuracy  Participant         BIC  \n",
      "0                    0.109281           34  577.848536  \n"
     ]
    }
   ],
   "source": [
    "df_all = pd.DataFrame()\n",
    "for i in range(sample_size):\n",
    "    print(i)\n",
    "    path = os.path.join(data_dir+str(i+1)+\".csv\")\n",
    "    df = pd.read_csv(path, sep = \",\")\n",
    "    #df = df[df[\"cond\"]==SAT] # A condition\n",
    "    df = df[df[\"Time\"]<3]\n",
    "\n",
    "    samp = Sample.from_pandas_dataframe(df, rt_column_name=\"Time\", correct_column_name=\"Correct\")\n",
    "    df = get_OUM_result_sub_2v2a2ter(samp)\n",
    "    df_all = pd.concat((df_all,df))\n",
    "    print(df)\n",
    "df_OUM = df_all.copy()\n"
   ]
  },
  {
   "cell_type": "code",
   "execution_count": 8,
   "id": "3b05a53a",
   "metadata": {},
   "outputs": [],
   "source": [
    "df_OUM.to_csv(\"OUM2v2a2terresultRae2014.csv\")"
   ]
  },
  {
   "cell_type": "code",
   "execution_count": 9,
   "id": "87e8797e",
   "metadata": {},
   "outputs": [
    {
     "data": {
      "text/plain": [
       "-810.0164753869142"
      ]
     },
     "execution_count": 9,
     "metadata": {},
     "output_type": "execute_result"
    }
   ],
   "source": [
    "df_OUM[\"BIC\"].mean()"
   ]
  },
  {
   "cell_type": "code",
   "execution_count": null,
   "id": "66bb2313",
   "metadata": {},
   "outputs": [],
   "source": []
  }
 ],
 "metadata": {
  "kernelspec": {
   "display_name": "Python 3 (ipykernel)",
   "language": "python",
   "name": "python3"
  },
  "language_info": {
   "codemirror_mode": {
    "name": "ipython",
    "version": 3
   },
   "file_extension": ".py",
   "mimetype": "text/x-python",
   "name": "python",
   "nbconvert_exporter": "python",
   "pygments_lexer": "ipython3",
   "version": "3.7.15"
  }
 },
 "nbformat": 4,
 "nbformat_minor": 5
}
