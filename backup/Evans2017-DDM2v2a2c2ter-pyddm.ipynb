{
 "cells": [
  {
   "cell_type": "code",
   "execution_count": 1,
   "id": "2cda49de",
   "metadata": {},
   "outputs": [],
   "source": [
    "%run SAT_help_functions.ipynb"
   ]
  },
  {
   "cell_type": "code",
   "execution_count": null,
   "id": "bc081cf9",
   "metadata": {},
   "outputs": [],
   "source": []
  },
  {
   "cell_type": "markdown",
   "id": "4bd26666",
   "metadata": {},
   "source": [
    "## OUM"
   ]
  },
  {
   "cell_type": "code",
   "execution_count": null,
   "id": "9ef6c434",
   "metadata": {},
   "outputs": [],
   "source": []
  },
  {
   "cell_type": "code",
   "execution_count": 2,
   "id": "e776257c",
   "metadata": {},
   "outputs": [],
   "source": [
    "data_dir = \"/Users/wangjiashun/Desktop/Reserach on SAT/datasets/Evans2021/Evans2017/dataBySubject/sub\"\n",
    "sample_size = 47\n",
    "SAT_conds = [\"Speed\", \"Accuracy\"]"
   ]
  },
  {
   "cell_type": "code",
   "execution_count": 3,
   "id": "f434220f",
   "metadata": {},
   "outputs": [],
   "source": [
    "\n",
    "class DriftConstantSpeedAcc(Drift):\n",
    "    name = \"DriftConstantSpeedAcc\"\n",
    "    required_parameters = [\"Vspeed\",\"Vacc\"]\n",
    "    required_conditions = ['Cond']\n",
    "        \n",
    "    def get_drift(self, conditions, **kwargs):\n",
    "        if conditions['Cond'] == 'Speed':\n",
    "            return self.Vspeed\n",
    "        elif conditions['Cond'] == 'Accuracy':\n",
    "            return self.Vacc\n",
    "        else: \n",
    "            print(\"Non-implemented SAT conditions\")\n",
    "            \n",
    "class BoundCollapsingLinearSAT(BoundCollapsingLinear):\n",
    "    name = \"BoundSpeedAcc\"\n",
    "    required_parameters = [\"BSpeed\", \"BAcc\", \"cSpeed\", 'cAcc']\n",
    "    required_conditions = ['Cond']\n",
    "        \n",
    "    def get_bound(self, t, conditions, **kwargs):\n",
    "        if conditions['Cond'] == 'Speed':\n",
    "            return max(self.BSpeed - self.cSpeed*t, 0.)\n",
    "        elif conditions['Cond'] == 'Accuracy':\n",
    "            return max(self.BAcc - self.cAcc*t, 0.)\n",
    "        else: \n",
    "            print(\"Non-implemented SAT conditions\")\n",
    "\n",
    "            \n",
    "\n",
    "class NondecisionSpeedAcc(OverlayNonDecision):\n",
    "    name = \"NondecisionSpeedAcc\"\n",
    "    required_parameters = [\"tSpeed\", 'tAcc']\n",
    "    required_conditions = ['Cond']\n",
    "        \n",
    "    def get_nondecision_time(self, conditions, **kwargs):\n",
    "        if conditions['Cond'] == 'Speed':\n",
    "            return self.tSpeed \n",
    "        elif conditions['Cond'] == 'Accuracy':\n",
    "            return self.tAcc\n",
    "        else: \n",
    "            print(\"Non-implemented SAT conditions\")"
   ]
  },
  {
   "cell_type": "code",
   "execution_count": null,
   "id": "8a3f5185",
   "metadata": {},
   "outputs": [],
   "source": []
  },
  {
   "cell_type": "code",
   "execution_count": 4,
   "id": "fdb13001",
   "metadata": {
    "scrolled": true
   },
   "outputs": [
    {
     "name": "stderr",
     "output_type": "stream",
     "text": [
      "Warning: This function (from_pandas_dataframe()) is deprecated and will be removed in a future version of PyDDM.  Please use the choice_column_name argument instead.\n"
     ]
    },
    {
     "name": "stdout",
     "output_type": "stream",
     "text": [
      "0\n"
     ]
    },
    {
     "name": "stderr",
     "output_type": "stream",
     "text": [
      "Info: Params [0.73629487 0.87117878 0.59477079 0.90798176 0.26883749 0.\n",
      " 0.32756427 0.37430609] gave 501.0598889210596\n",
      "Warning: This function (from_pandas_dataframe()) is deprecated and will be removed in a future version of PyDDM.  Please use the choice_column_name argument instead.\n"
     ]
    },
    {
     "name": "stdout",
     "output_type": "stream",
     "text": [
      "   Drift Rate Speed  Drift Rate Accuracy  Boundary Separation Speed  \\\n",
      "0          0.736295             0.871179                   0.594771   \n",
      "\n",
      "   Boundary Separation Accuracy  Collapse Speed  Collapse Accuracy  \\\n",
      "0                      0.907982        0.268837                0.0   \n",
      "\n",
      "   Non-decision Time Speed  Non-decision Time Accuracy         BIC  \n",
      "0                 0.327564                    0.374306  501.059889  \n",
      "1\n"
     ]
    },
    {
     "name": "stderr",
     "output_type": "stream",
     "text": [
      "Info: Params [2.63988611 0.96333355 0.73956712 1.25556644 0.64953196 0.\n",
      " 0.42182883 0.38679592] gave 258.0485698671376\n",
      "Warning: This function (from_pandas_dataframe()) is deprecated and will be removed in a future version of PyDDM.  Please use the choice_column_name argument instead.\n"
     ]
    },
    {
     "name": "stdout",
     "output_type": "stream",
     "text": [
      "   Drift Rate Speed  Drift Rate Accuracy  Boundary Separation Speed  \\\n",
      "0          2.639886             0.963334                   0.739567   \n",
      "\n",
      "   Boundary Separation Accuracy  Collapse Speed  Collapse Accuracy  \\\n",
      "0                      1.255566        0.649532                0.0   \n",
      "\n",
      "   Non-decision Time Speed  Non-decision Time Accuracy        BIC  \n",
      "0                 0.421829                    0.386796  258.04857  \n",
      "2\n"
     ]
    },
    {
     "name": "stderr",
     "output_type": "stream",
     "text": [
      "Info: Params [1.21567506 1.10920125 0.71963395 0.82541166 0.26041188 0.00179732\n",
      " 0.22318192 0.33702715] gave 240.08046501715444\n",
      "Warning: This function (from_pandas_dataframe()) is deprecated and will be removed in a future version of PyDDM.  Please use the choice_column_name argument instead.\n"
     ]
    },
    {
     "name": "stdout",
     "output_type": "stream",
     "text": [
      "   Drift Rate Speed  Drift Rate Accuracy  Boundary Separation Speed  \\\n",
      "0          1.215675             1.109201                   0.719634   \n",
      "\n",
      "   Boundary Separation Accuracy  Collapse Speed  Collapse Accuracy  \\\n",
      "0                      0.825412        0.260412           0.001797   \n",
      "\n",
      "   Non-decision Time Speed  Non-decision Time Accuracy         BIC  \n",
      "0                 0.223182                    0.337027  240.080465  \n",
      "3\n"
     ]
    },
    {
     "name": "stderr",
     "output_type": "stream",
     "text": [
      "Info: Params [1.50608725 0.72308011 0.78052821 6.86273424 0.03333333 1.33444244\n",
      " 0.41819991 0.10126881] gave 626.7860904405707\n",
      "Warning: This function (from_pandas_dataframe()) is deprecated and will be removed in a future version of PyDDM.  Please use the choice_column_name argument instead.\n"
     ]
    },
    {
     "name": "stdout",
     "output_type": "stream",
     "text": [
      "   Drift Rate Speed  Drift Rate Accuracy  Boundary Separation Speed  \\\n",
      "0          1.506087              0.72308                   0.780528   \n",
      "\n",
      "   Boundary Separation Accuracy  Collapse Speed  Collapse Accuracy  \\\n",
      "0                      6.862734        0.033333           1.334442   \n",
      "\n",
      "   Non-decision Time Speed  Non-decision Time Accuracy        BIC  \n",
      "0                   0.4182                    0.101269  626.78609  \n",
      "4\n"
     ]
    },
    {
     "name": "stderr",
     "output_type": "stream",
     "text": [
      "Info: Params [1.76304998 1.03863233 0.77381599 0.89354673 0.61633486 0.04536168\n",
      " 0.33559925 0.3703134 ] gave 227.90972347503197\n",
      "Warning: This function (from_pandas_dataframe()) is deprecated and will be removed in a future version of PyDDM.  Please use the choice_column_name argument instead.\n"
     ]
    },
    {
     "name": "stdout",
     "output_type": "stream",
     "text": [
      "   Drift Rate Speed  Drift Rate Accuracy  Boundary Separation Speed  \\\n",
      "0           1.76305             1.038632                   0.773816   \n",
      "\n",
      "   Boundary Separation Accuracy  Collapse Speed  Collapse Accuracy  \\\n",
      "0                      0.893547        0.616335           0.045362   \n",
      "\n",
      "   Non-decision Time Speed  Non-decision Time Accuracy         BIC  \n",
      "0                 0.335599                    0.370313  227.909723  \n",
      "5\n"
     ]
    },
    {
     "name": "stderr",
     "output_type": "stream",
     "text": [
      "Info: Params [1.09736216e+00 9.83739636e-01 6.96168134e-01 8.80399615e-01\n",
      " 2.87713596e-05 9.72280722e-04 4.06876756e-01 4.90569567e-01] gave 469.00054598600786\n",
      "Warning: This function (from_pandas_dataframe()) is deprecated and will be removed in a future version of PyDDM.  Please use the choice_column_name argument instead.\n"
     ]
    },
    {
     "name": "stdout",
     "output_type": "stream",
     "text": [
      "   Drift Rate Speed  Drift Rate Accuracy  Boundary Separation Speed  \\\n",
      "0          1.097362              0.98374                   0.696168   \n",
      "\n",
      "   Boundary Separation Accuracy  Collapse Speed  Collapse Accuracy  \\\n",
      "0                        0.8804        0.000029           0.000972   \n",
      "\n",
      "   Non-decision Time Speed  Non-decision Time Accuracy         BIC  \n",
      "0                 0.406877                     0.49057  469.000546  \n",
      "6\n"
     ]
    },
    {
     "name": "stderr",
     "output_type": "stream",
     "text": [
      "Info: Params [0.58428612 0.89351809 0.6460513  0.72341778 0.39936749 0.07343009\n",
      " 0.18155065 0.37651931] gave 341.31710316664646\n",
      "Warning: This function (from_pandas_dataframe()) is deprecated and will be removed in a future version of PyDDM.  Please use the choice_column_name argument instead.\n"
     ]
    },
    {
     "name": "stdout",
     "output_type": "stream",
     "text": [
      "   Drift Rate Speed  Drift Rate Accuracy  Boundary Separation Speed  \\\n",
      "0          0.584286             0.893518                   0.646051   \n",
      "\n",
      "   Boundary Separation Accuracy  Collapse Speed  Collapse Accuracy  \\\n",
      "0                      0.723418        0.399367            0.07343   \n",
      "\n",
      "   Non-decision Time Speed  Non-decision Time Accuracy         BIC  \n",
      "0                 0.181551                    0.376519  341.317103  \n",
      "7\n"
     ]
    },
    {
     "name": "stderr",
     "output_type": "stream",
     "text": [
      "Info: Params [1.78726530e+00 1.57732331e+00 7.17000822e-01 7.97555008e-01\n",
      " 6.26420867e-01 1.29296412e-04 4.04840368e-01 5.26319343e-01] gave -80.6457968051268\n",
      "Warning: This function (from_pandas_dataframe()) is deprecated and will be removed in a future version of PyDDM.  Please use the choice_column_name argument instead.\n"
     ]
    },
    {
     "name": "stdout",
     "output_type": "stream",
     "text": [
      "   Drift Rate Speed  Drift Rate Accuracy  Boundary Separation Speed  \\\n",
      "0          1.787265             1.577323                   0.717001   \n",
      "\n",
      "   Boundary Separation Accuracy  Collapse Speed  Collapse Accuracy  \\\n",
      "0                      0.797555        0.626421           0.000129   \n",
      "\n",
      "   Non-decision Time Speed  Non-decision Time Accuracy        BIC  \n",
      "0                  0.40484                    0.526319 -80.645797  \n",
      "8\n"
     ]
    },
    {
     "name": "stderr",
     "output_type": "stream",
     "text": [
      "Info: Params [1.96393827 1.21740533 0.87788447 1.03682051 0.47916666 0.\n",
      " 0.4415911  0.45545995] gave 178.69334391317958\n",
      "Warning: This function (from_pandas_dataframe()) is deprecated and will be removed in a future version of PyDDM.  Please use the choice_column_name argument instead.\n"
     ]
    },
    {
     "name": "stdout",
     "output_type": "stream",
     "text": [
      "   Drift Rate Speed  Drift Rate Accuracy  Boundary Separation Speed  \\\n",
      "0          1.963938             1.217405                   0.877884   \n",
      "\n",
      "   Boundary Separation Accuracy  Collapse Speed  Collapse Accuracy  \\\n",
      "0                      1.036821        0.479167                0.0   \n",
      "\n",
      "   Non-decision Time Speed  Non-decision Time Accuracy         BIC  \n",
      "0                 0.441591                     0.45546  178.693344  \n",
      "9\n"
     ]
    },
    {
     "name": "stderr",
     "output_type": "stream",
     "text": [
      "Info: Params [0.74068681 0.44177437 0.67451889 0.91678429 0.         0.\n",
      " 0.36608151 0.36279226] gave 832.0422272523582\n",
      "Warning: This function (from_pandas_dataframe()) is deprecated and will be removed in a future version of PyDDM.  Please use the choice_column_name argument instead.\n"
     ]
    },
    {
     "name": "stdout",
     "output_type": "stream",
     "text": [
      "   Drift Rate Speed  Drift Rate Accuracy  Boundary Separation Speed  \\\n",
      "0          0.740687             0.441774                   0.674519   \n",
      "\n",
      "   Boundary Separation Accuracy  Collapse Speed  Collapse Accuracy  \\\n",
      "0                      0.916784             0.0                0.0   \n",
      "\n",
      "   Non-decision Time Speed  Non-decision Time Accuracy         BIC  \n",
      "0                 0.366082                    0.362792  832.042227  \n",
      "10\n"
     ]
    },
    {
     "name": "stderr",
     "output_type": "stream",
     "text": [
      "Info: Params [0.9997083  0.31808298 0.59072096 1.27669453 0.         0.07053057\n",
      " 0.43464624 0.36969575] gave 911.5524052376013\n",
      "Warning: This function (from_pandas_dataframe()) is deprecated and will be removed in a future version of PyDDM.  Please use the choice_column_name argument instead.\n"
     ]
    },
    {
     "name": "stdout",
     "output_type": "stream",
     "text": [
      "   Drift Rate Speed  Drift Rate Accuracy  Boundary Separation Speed  \\\n",
      "0          0.999708             0.318083                   0.590721   \n",
      "\n",
      "   Boundary Separation Accuracy  Collapse Speed  Collapse Accuracy  \\\n",
      "0                      1.276695             0.0           0.070531   \n",
      "\n",
      "   Non-decision Time Speed  Non-decision Time Accuracy         BIC  \n",
      "0                 0.434646                    0.369696  911.552405  \n",
      "11\n"
     ]
    },
    {
     "name": "stderr",
     "output_type": "stream",
     "text": [
      "Info: Params [0.86618458 0.74670898 0.78560955 0.99297002 0.37903076 0.\n",
      " 0.2172291  0.4331609 ] gave 685.2682531894935\n",
      "Warning: This function (from_pandas_dataframe()) is deprecated and will be removed in a future version of PyDDM.  Please use the choice_column_name argument instead.\n"
     ]
    },
    {
     "name": "stdout",
     "output_type": "stream",
     "text": [
      "   Drift Rate Speed  Drift Rate Accuracy  Boundary Separation Speed  \\\n",
      "0          0.866185             0.746709                    0.78561   \n",
      "\n",
      "   Boundary Separation Accuracy  Collapse Speed  Collapse Accuracy  \\\n",
      "0                       0.99297        0.379031                0.0   \n",
      "\n",
      "   Non-decision Time Speed  Non-decision Time Accuracy         BIC  \n",
      "0                 0.217229                    0.433161  685.268253  \n",
      "12\n"
     ]
    },
    {
     "name": "stderr",
     "output_type": "stream",
     "text": [
      "Info: Params [1.4176483  0.6536172  0.78866081 1.28687364 0.00229691 0.0343855\n",
      " 0.40168081 0.39245241] gave 735.031672883185\n",
      "Warning: This function (from_pandas_dataframe()) is deprecated and will be removed in a future version of PyDDM.  Please use the choice_column_name argument instead.\n"
     ]
    },
    {
     "name": "stdout",
     "output_type": "stream",
     "text": [
      "   Drift Rate Speed  Drift Rate Accuracy  Boundary Separation Speed  \\\n",
      "0          1.417648             0.653617                   0.788661   \n",
      "\n",
      "   Boundary Separation Accuracy  Collapse Speed  Collapse Accuracy  \\\n",
      "0                      1.286874        0.002297           0.034385   \n",
      "\n",
      "   Non-decision Time Speed  Non-decision Time Accuracy         BIC  \n",
      "0                 0.401681                    0.392452  735.031673  \n",
      "13\n"
     ]
    },
    {
     "name": "stderr",
     "output_type": "stream",
     "text": [
      "Info: Params [4.74892587e-01 6.22132628e-01 7.84487637e-01 1.02735348e+00\n",
      " 7.81518824e-05 1.24303205e-02 3.83291985e-01 4.28038623e-01] gave 989.5197934641672\n",
      "Warning: This function (from_pandas_dataframe()) is deprecated and will be removed in a future version of PyDDM.  Please use the choice_column_name argument instead.\n"
     ]
    },
    {
     "name": "stdout",
     "output_type": "stream",
     "text": [
      "   Drift Rate Speed  Drift Rate Accuracy  Boundary Separation Speed  \\\n",
      "0          0.474893             0.622133                   0.784488   \n",
      "\n",
      "   Boundary Separation Accuracy  Collapse Speed  Collapse Accuracy  \\\n",
      "0                      1.027353        0.000078            0.01243   \n",
      "\n",
      "   Non-decision Time Speed  Non-decision Time Accuracy         BIC  \n",
      "0                 0.383292                    0.428039  989.519793  \n",
      "14\n"
     ]
    },
    {
     "name": "stderr",
     "output_type": "stream",
     "text": [
      "Info: Params [0.7645733  0.47880147 0.77398739 1.1375854  0.09295866 0.03438565\n",
      " 0.17598779 0.2789488 ] gave 883.3792196052597\n",
      "Warning: This function (from_pandas_dataframe()) is deprecated and will be removed in a future version of PyDDM.  Please use the choice_column_name argument instead.\n"
     ]
    },
    {
     "name": "stdout",
     "output_type": "stream",
     "text": [
      "   Drift Rate Speed  Drift Rate Accuracy  Boundary Separation Speed  \\\n",
      "0          0.764573             0.478801                   0.773987   \n",
      "\n",
      "   Boundary Separation Accuracy  Collapse Speed  Collapse Accuracy  \\\n",
      "0                      1.137585        0.092959           0.034386   \n",
      "\n",
      "   Non-decision Time Speed  Non-decision Time Accuracy        BIC  \n",
      "0                 0.175988                    0.278949  883.37922  \n",
      "15\n"
     ]
    },
    {
     "name": "stderr",
     "output_type": "stream",
     "text": [
      "Info: Params [1.45461022 0.87124732 0.66183955 1.14166808 0.05580277 0.\n",
      " 0.40772385 0.46362333] gave 618.9939477215063\n",
      "Warning: This function (from_pandas_dataframe()) is deprecated and will be removed in a future version of PyDDM.  Please use the choice_column_name argument instead.\n"
     ]
    },
    {
     "name": "stdout",
     "output_type": "stream",
     "text": [
      "   Drift Rate Speed  Drift Rate Accuracy  Boundary Separation Speed  \\\n",
      "0           1.45461             0.871247                    0.66184   \n",
      "\n",
      "   Boundary Separation Accuracy  Collapse Speed  Collapse Accuracy  \\\n",
      "0                      1.141668        0.055803                0.0   \n",
      "\n",
      "   Non-decision Time Speed  Non-decision Time Accuracy         BIC  \n",
      "0                 0.407724                    0.463623  618.993948  \n",
      "16\n"
     ]
    },
    {
     "name": "stderr",
     "output_type": "stream",
     "text": [
      "Info: Params [1.54726544 0.85450597 0.75660449 1.15640031 0.00787401 0.\n",
      " 0.37549687 0.33903268] gave 668.6364253228454\n",
      "Warning: This function (from_pandas_dataframe()) is deprecated and will be removed in a future version of PyDDM.  Please use the choice_column_name argument instead.\n"
     ]
    },
    {
     "name": "stdout",
     "output_type": "stream",
     "text": [
      "   Drift Rate Speed  Drift Rate Accuracy  Boundary Separation Speed  \\\n",
      "0          1.547265             0.854506                   0.756604   \n",
      "\n",
      "   Boundary Separation Accuracy  Collapse Speed  Collapse Accuracy  \\\n",
      "0                        1.1564        0.007874                0.0   \n",
      "\n",
      "   Non-decision Time Speed  Non-decision Time Accuracy         BIC  \n",
      "0                 0.375497                    0.339033  668.636425  \n",
      "17\n"
     ]
    },
    {
     "name": "stderr",
     "output_type": "stream",
     "text": [
      "Info: Params [1.2181359  0.59482891 0.57062099 0.88531493 0.06847362 0.\n",
      " 0.38610076 0.4119762 ] gave 525.3553469667872\n",
      "Warning: This function (from_pandas_dataframe()) is deprecated and will be removed in a future version of PyDDM.  Please use the choice_column_name argument instead.\n"
     ]
    },
    {
     "name": "stdout",
     "output_type": "stream",
     "text": [
      "   Drift Rate Speed  Drift Rate Accuracy  Boundary Separation Speed  \\\n",
      "0          1.218136             0.594829                   0.570621   \n",
      "\n",
      "   Boundary Separation Accuracy  Collapse Speed  Collapse Accuracy  \\\n",
      "0                      0.885315        0.068474                0.0   \n",
      "\n",
      "   Non-decision Time Speed  Non-decision Time Accuracy         BIC  \n",
      "0                 0.386101                    0.411976  525.355347  \n",
      "18\n"
     ]
    },
    {
     "name": "stderr",
     "output_type": "stream",
     "text": [
      "Info: Params [1.07667282 0.77096666 0.68379762 0.96195949 0.06779661 0.01143787\n",
      " 0.35634921 0.29222759] gave 617.6639782363004\n",
      "Warning: This function (from_pandas_dataframe()) is deprecated and will be removed in a future version of PyDDM.  Please use the choice_column_name argument instead.\n"
     ]
    },
    {
     "name": "stdout",
     "output_type": "stream",
     "text": [
      "   Drift Rate Speed  Drift Rate Accuracy  Boundary Separation Speed  \\\n",
      "0          1.076673             0.770967                   0.683798   \n",
      "\n",
      "   Boundary Separation Accuracy  Collapse Speed  Collapse Accuracy  \\\n",
      "0                      0.961959        0.067797           0.011438   \n",
      "\n",
      "   Non-decision Time Speed  Non-decision Time Accuracy         BIC  \n",
      "0                 0.356349                    0.292228  617.663978  \n",
      "19\n"
     ]
    },
    {
     "name": "stderr",
     "output_type": "stream",
     "text": [
      "Info: Params [0.47823778 0.4075534  1.15352084 1.59272501 0.07180974 0.18484408\n",
      " 0.14545564 0.19326613] gave 1284.550681685856\n",
      "Warning: This function (from_pandas_dataframe()) is deprecated and will be removed in a future version of PyDDM.  Please use the choice_column_name argument instead.\n"
     ]
    },
    {
     "name": "stdout",
     "output_type": "stream",
     "text": [
      "   Drift Rate Speed  Drift Rate Accuracy  Boundary Separation Speed  \\\n",
      "0          0.478238             0.407553                   1.153521   \n",
      "\n",
      "   Boundary Separation Accuracy  Collapse Speed  Collapse Accuracy  \\\n",
      "0                      1.592725         0.07181           0.184844   \n",
      "\n",
      "   Non-decision Time Speed  Non-decision Time Accuracy          BIC  \n",
      "0                 0.145456                    0.193266  1284.550682  \n",
      "20\n"
     ]
    },
    {
     "name": "stderr",
     "output_type": "stream",
     "text": [
      "Info: Params [2.15893939 1.17135816 0.65975632 0.93798481 0.71874939 0.\n",
      " 0.32242461 0.39982944] gave 106.28388928275346\n",
      "Warning: This function (from_pandas_dataframe()) is deprecated and will be removed in a future version of PyDDM.  Please use the choice_column_name argument instead.\n"
     ]
    },
    {
     "name": "stdout",
     "output_type": "stream",
     "text": [
      "   Drift Rate Speed  Drift Rate Accuracy  Boundary Separation Speed  \\\n",
      "0          2.158939             1.171358                   0.659756   \n",
      "\n",
      "   Boundary Separation Accuracy  Collapse Speed  Collapse Accuracy  \\\n",
      "0                      0.937985        0.718749                0.0   \n",
      "\n",
      "   Non-decision Time Speed  Non-decision Time Accuracy         BIC  \n",
      "0                 0.322425                    0.399829  106.283889  \n",
      "21\n"
     ]
    },
    {
     "name": "stderr",
     "output_type": "stream",
     "text": [
      "Info: Params [1.85843153 1.13813686 0.8808157  1.0269743  0.53030309 0.\n",
      " 0.34176425 0.44163336] gave 339.572892585179\n",
      "Warning: This function (from_pandas_dataframe()) is deprecated and will be removed in a future version of PyDDM.  Please use the choice_column_name argument instead.\n"
     ]
    },
    {
     "name": "stdout",
     "output_type": "stream",
     "text": [
      "   Drift Rate Speed  Drift Rate Accuracy  Boundary Separation Speed  \\\n",
      "0          1.858432             1.138137                   0.880816   \n",
      "\n",
      "   Boundary Separation Accuracy  Collapse Speed  Collapse Accuracy  \\\n",
      "0                      1.026974        0.530303                0.0   \n",
      "\n",
      "   Non-decision Time Speed  Non-decision Time Accuracy         BIC  \n",
      "0                 0.341764                    0.441633  339.572893  \n",
      "22\n"
     ]
    },
    {
     "name": "stderr",
     "output_type": "stream",
     "text": [
      "Info: Params [1.03369386 0.65881744 0.73643433 0.9525775  0.09595109 0.\n",
      " 0.36655538 0.46583356] gave 755.1048534097071\n",
      "Warning: This function (from_pandas_dataframe()) is deprecated and will be removed in a future version of PyDDM.  Please use the choice_column_name argument instead.\n"
     ]
    },
    {
     "name": "stdout",
     "output_type": "stream",
     "text": [
      "   Drift Rate Speed  Drift Rate Accuracy  Boundary Separation Speed  \\\n",
      "0          1.033694             0.658817                   0.736434   \n",
      "\n",
      "   Boundary Separation Accuracy  Collapse Speed  Collapse Accuracy  \\\n",
      "0                      0.952578        0.095951                0.0   \n",
      "\n",
      "   Non-decision Time Speed  Non-decision Time Accuracy         BIC  \n",
      "0                 0.366555                    0.465834  755.104853  \n",
      "23\n"
     ]
    },
    {
     "name": "stderr",
     "output_type": "stream",
     "text": [
      "Info: Params [1.05924929 0.53669438 0.84350943 1.56355806 0.19298224 0.13707165\n",
      " 0.46560102 0.43082136] gave 875.9434048116353\n",
      "Warning: This function (from_pandas_dataframe()) is deprecated and will be removed in a future version of PyDDM.  Please use the choice_column_name argument instead.\n"
     ]
    },
    {
     "name": "stdout",
     "output_type": "stream",
     "text": [
      "   Drift Rate Speed  Drift Rate Accuracy  Boundary Separation Speed  \\\n",
      "0          1.059249             0.536694                   0.843509   \n",
      "\n",
      "   Boundary Separation Accuracy  Collapse Speed  Collapse Accuracy  \\\n",
      "0                      1.563558        0.192982           0.137072   \n",
      "\n",
      "   Non-decision Time Speed  Non-decision Time Accuracy         BIC  \n",
      "0                 0.465601                    0.430821  875.943405  \n",
      "24\n"
     ]
    },
    {
     "name": "stderr",
     "output_type": "stream",
     "text": [
      "Info: Params [0.94837914 0.96975707 0.94303661 0.94209907 0.13374688 0.00120814\n",
      " 0.30047201 0.45302898] gave 747.5446427209378\n",
      "Warning: This function (from_pandas_dataframe()) is deprecated and will be removed in a future version of PyDDM.  Please use the choice_column_name argument instead.\n"
     ]
    },
    {
     "name": "stdout",
     "output_type": "stream",
     "text": [
      "   Drift Rate Speed  Drift Rate Accuracy  Boundary Separation Speed  \\\n",
      "0          0.948379             0.969757                   0.943037   \n",
      "\n",
      "   Boundary Separation Accuracy  Collapse Speed  Collapse Accuracy  \\\n",
      "0                      0.942099        0.133747           0.001208   \n",
      "\n",
      "   Non-decision Time Speed  Non-decision Time Accuracy         BIC  \n",
      "0                 0.300472                    0.453029  747.544643  \n",
      "25\n"
     ]
    },
    {
     "name": "stderr",
     "output_type": "stream",
     "text": [
      "Info: Params [2.12099501 1.15562603 0.77746856 1.15022993 0.73584909 0.17449648\n",
      " 0.47337816 0.5081422 ] gave 188.70797493286443\n",
      "Warning: This function (from_pandas_dataframe()) is deprecated and will be removed in a future version of PyDDM.  Please use the choice_column_name argument instead.\n"
     ]
    },
    {
     "name": "stdout",
     "output_type": "stream",
     "text": [
      "   Drift Rate Speed  Drift Rate Accuracy  Boundary Separation Speed  \\\n",
      "0          2.120995             1.155626                   0.777469   \n",
      "\n",
      "   Boundary Separation Accuracy  Collapse Speed  Collapse Accuracy  \\\n",
      "0                       1.15023        0.735849           0.174496   \n",
      "\n",
      "   Non-decision Time Speed  Non-decision Time Accuracy         BIC  \n",
      "0                 0.473378                    0.508142  188.707975  \n",
      "26\n"
     ]
    },
    {
     "name": "stderr",
     "output_type": "stream",
     "text": [
      "Info: Params [0.8537337  0.89319864 0.50826912 1.02360373 0.5213526  0.08466446\n",
      " 0.3354473  0.59130199] gave 263.80805767350085\n",
      "Warning: This function (from_pandas_dataframe()) is deprecated and will be removed in a future version of PyDDM.  Please use the choice_column_name argument instead.\n"
     ]
    },
    {
     "name": "stdout",
     "output_type": "stream",
     "text": [
      "   Drift Rate Speed  Drift Rate Accuracy  Boundary Separation Speed  \\\n",
      "0          0.853734             0.893199                   0.508269   \n",
      "\n",
      "   Boundary Separation Accuracy  Collapse Speed  Collapse Accuracy  \\\n",
      "0                      1.023604        0.521353           0.084664   \n",
      "\n",
      "   Non-decision Time Speed  Non-decision Time Accuracy         BIC  \n",
      "0                 0.335447                    0.591302  263.808058  \n",
      "27\n"
     ]
    },
    {
     "name": "stderr",
     "output_type": "stream",
     "text": [
      "Info: Params [1.78183827e+00 1.25726881e+00 5.27992462e-01 8.04712254e-01\n",
      " 1.27447753e-01 1.00284407e-03 4.52023313e-01 5.45747736e-01] gave 136.12283047267073\n",
      "Warning: This function (from_pandas_dataframe()) is deprecated and will be removed in a future version of PyDDM.  Please use the choice_column_name argument instead.\n"
     ]
    },
    {
     "name": "stdout",
     "output_type": "stream",
     "text": [
      "   Drift Rate Speed  Drift Rate Accuracy  Boundary Separation Speed  \\\n",
      "0          1.781838             1.257269                   0.527992   \n",
      "\n",
      "   Boundary Separation Accuracy  Collapse Speed  Collapse Accuracy  \\\n",
      "0                      0.804712        0.127448           0.001003   \n",
      "\n",
      "   Non-decision Time Speed  Non-decision Time Accuracy        BIC  \n",
      "0                 0.452023                    0.545748  136.12283  \n",
      "28\n"
     ]
    },
    {
     "name": "stderr",
     "output_type": "stream",
     "text": [
      "Info: Params [1.53965746e+00 1.44619860e+00 6.25922149e-01 7.70513896e-01\n",
      " 6.44652645e-01 3.03671183e-05 3.23830002e-01 4.89109929e-01] gave -112.57657480348998\n",
      "Warning: This function (from_pandas_dataframe()) is deprecated and will be removed in a future version of PyDDM.  Please use the choice_column_name argument instead.\n"
     ]
    },
    {
     "name": "stdout",
     "output_type": "stream",
     "text": [
      "   Drift Rate Speed  Drift Rate Accuracy  Boundary Separation Speed  \\\n",
      "0          1.539657             1.446199                   0.625922   \n",
      "\n",
      "   Boundary Separation Accuracy  Collapse Speed  Collapse Accuracy  \\\n",
      "0                      0.770514        0.644653            0.00003   \n",
      "\n",
      "   Non-decision Time Speed  Non-decision Time Accuracy         BIC  \n",
      "0                  0.32383                     0.48911 -112.576575  \n",
      "29\n"
     ]
    },
    {
     "name": "stderr",
     "output_type": "stream",
     "text": [
      "Info: Params [0.80360967 0.53129269 0.90767999 1.38186646 0.19225434 0.125\n",
      " 0.47658114 0.58630534] gave 1001.4417993953323\n",
      "Warning: This function (from_pandas_dataframe()) is deprecated and will be removed in a future version of PyDDM.  Please use the choice_column_name argument instead.\n"
     ]
    },
    {
     "name": "stdout",
     "output_type": "stream",
     "text": [
      "   Drift Rate Speed  Drift Rate Accuracy  Boundary Separation Speed  \\\n",
      "0           0.80361             0.531293                    0.90768   \n",
      "\n",
      "   Boundary Separation Accuracy  Collapse Speed  Collapse Accuracy  \\\n",
      "0                      1.381866        0.192254              0.125   \n",
      "\n",
      "   Non-decision Time Speed  Non-decision Time Accuracy          BIC  \n",
      "0                 0.476581                    0.586305  1001.441799  \n",
      "30\n"
     ]
    },
    {
     "name": "stderr",
     "output_type": "stream",
     "text": [
      "Info: Params [1.24408599 1.36658887 0.64738844 0.69683846 0.20202063 0.\n",
      " 0.30318126 0.42928029] gave 213.93973261085245\n",
      "Warning: This function (from_pandas_dataframe()) is deprecated and will be removed in a future version of PyDDM.  Please use the choice_column_name argument instead.\n"
     ]
    },
    {
     "name": "stdout",
     "output_type": "stream",
     "text": [
      "   Drift Rate Speed  Drift Rate Accuracy  Boundary Separation Speed  \\\n",
      "0          1.244086             1.366589                   0.647388   \n",
      "\n",
      "   Boundary Separation Accuracy  Collapse Speed  Collapse Accuracy  \\\n",
      "0                      0.696838        0.202021                0.0   \n",
      "\n",
      "   Non-decision Time Speed  Non-decision Time Accuracy         BIC  \n",
      "0                 0.303181                     0.42928  213.939733  \n",
      "31\n"
     ]
    },
    {
     "name": "stderr",
     "output_type": "stream",
     "text": [
      "Info: Params [1.40357064 1.271654   0.89775445 1.08608207 0.01068683 0.\n",
      " 0.37049195 0.37880211] gave 561.8242975715973\n",
      "Warning: This function (from_pandas_dataframe()) is deprecated and will be removed in a future version of PyDDM.  Please use the choice_column_name argument instead.\n"
     ]
    },
    {
     "name": "stdout",
     "output_type": "stream",
     "text": [
      "   Drift Rate Speed  Drift Rate Accuracy  Boundary Separation Speed  \\\n",
      "0          1.403571             1.271654                   0.897754   \n",
      "\n",
      "   Boundary Separation Accuracy  Collapse Speed  Collapse Accuracy  \\\n",
      "0                      1.086082        0.010687                0.0   \n",
      "\n",
      "   Non-decision Time Speed  Non-decision Time Accuracy         BIC  \n",
      "0                 0.370492                    0.378802  561.824298  \n",
      "32\n"
     ]
    },
    {
     "name": "stderr",
     "output_type": "stream",
     "text": [
      "Info: Params [1.70785381 1.30912227 0.64652115 0.94415943 0.07052397 0.00528603\n",
      " 0.36686171 0.47658574] gave 282.967466748694\n",
      "Warning: This function (from_pandas_dataframe()) is deprecated and will be removed in a future version of PyDDM.  Please use the choice_column_name argument instead.\n"
     ]
    },
    {
     "name": "stdout",
     "output_type": "stream",
     "text": [
      "   Drift Rate Speed  Drift Rate Accuracy  Boundary Separation Speed  \\\n",
      "0          1.707854             1.309122                   0.646521   \n",
      "\n",
      "   Boundary Separation Accuracy  Collapse Speed  Collapse Accuracy  \\\n",
      "0                      0.944159        0.070524           0.005286   \n",
      "\n",
      "   Non-decision Time Speed  Non-decision Time Accuracy         BIC  \n",
      "0                 0.366862                    0.476586  282.967467  \n",
      "33\n"
     ]
    },
    {
     "name": "stderr",
     "output_type": "stream",
     "text": [
      "Info: Params [4.33850756e-01 1.38061218e+00 6.68316670e-01 9.24832484e-01\n",
      " 3.86991730e-01 4.60488380e-04 1.83178796e-01 5.03922972e-01] gave 335.0264616630152\n",
      "Warning: This function (from_pandas_dataframe()) is deprecated and will be removed in a future version of PyDDM.  Please use the choice_column_name argument instead.\n"
     ]
    },
    {
     "name": "stdout",
     "output_type": "stream",
     "text": [
      "   Drift Rate Speed  Drift Rate Accuracy  Boundary Separation Speed  \\\n",
      "0          0.433851             1.380612                   0.668317   \n",
      "\n",
      "   Boundary Separation Accuracy  Collapse Speed  Collapse Accuracy  \\\n",
      "0                      0.924832        0.386992            0.00046   \n",
      "\n",
      "   Non-decision Time Speed  Non-decision Time Accuracy         BIC  \n",
      "0                 0.183179                    0.503923  335.026462  \n",
      "34\n"
     ]
    },
    {
     "name": "stderr",
     "output_type": "stream",
     "text": [
      "Info: Params [1.36959007e+00 1.65562071e+00 5.02917560e-01 6.71951060e-01\n",
      " 4.55877472e-01 4.83638036e-06 3.16740566e-01 3.65728105e-01] gave -123.20505690411882\n",
      "Warning: This function (from_pandas_dataframe()) is deprecated and will be removed in a future version of PyDDM.  Please use the choice_column_name argument instead.\n"
     ]
    },
    {
     "name": "stdout",
     "output_type": "stream",
     "text": [
      "   Drift Rate Speed  Drift Rate Accuracy  Boundary Separation Speed  \\\n",
      "0           1.36959             1.655621                   0.502918   \n",
      "\n",
      "   Boundary Separation Accuracy  Collapse Speed  Collapse Accuracy  \\\n",
      "0                      0.671951        0.455877           0.000005   \n",
      "\n",
      "   Non-decision Time Speed  Non-decision Time Accuracy         BIC  \n",
      "0                 0.316741                    0.365728 -123.205057  \n",
      "35\n"
     ]
    },
    {
     "name": "stderr",
     "output_type": "stream",
     "text": [
      "Info: Params [1.57367283e+00 9.18098617e-01 5.66115283e-01 8.15648943e-01\n",
      " 1.03048883e+00 2.88912124e-04 4.02710565e-01 5.18653980e-01] gave 74.56519240421392\n",
      "Warning: This function (from_pandas_dataframe()) is deprecated and will be removed in a future version of PyDDM.  Please use the choice_column_name argument instead.\n"
     ]
    },
    {
     "name": "stdout",
     "output_type": "stream",
     "text": [
      "   Drift Rate Speed  Drift Rate Accuracy  Boundary Separation Speed  \\\n",
      "0          1.573673             0.918099                   0.566115   \n",
      "\n",
      "   Boundary Separation Accuracy  Collapse Speed  Collapse Accuracy  \\\n",
      "0                      0.815649        1.030489           0.000289   \n",
      "\n",
      "   Non-decision Time Speed  Non-decision Time Accuracy        BIC  \n",
      "0                 0.402711                    0.518654  74.565192  \n",
      "36\n"
     ]
    },
    {
     "name": "stderr",
     "output_type": "stream",
     "text": [
      "Info: Params [1.03390832 1.23214492 0.8083154  1.01073935 0.19318181 0.00681789\n",
      " 0.309835   0.37417116] gave 560.3273664839073\n",
      "Warning: This function (from_pandas_dataframe()) is deprecated and will be removed in a future version of PyDDM.  Please use the choice_column_name argument instead.\n"
     ]
    },
    {
     "name": "stdout",
     "output_type": "stream",
     "text": [
      "   Drift Rate Speed  Drift Rate Accuracy  Boundary Separation Speed  \\\n",
      "0          1.033908             1.232145                   0.808315   \n",
      "\n",
      "   Boundary Separation Accuracy  Collapse Speed  Collapse Accuracy  \\\n",
      "0                      1.010739        0.193182           0.006818   \n",
      "\n",
      "   Non-decision Time Speed  Non-decision Time Accuracy         BIC  \n",
      "0                 0.309835                    0.374171  560.327366  \n",
      "37\n"
     ]
    },
    {
     "name": "stderr",
     "output_type": "stream",
     "text": [
      "Info: Params [1.59098395 1.74173491 0.63559759 0.91864716 0.82142858 0.45283035\n",
      " 0.28194417 0.40137086] gave -72.81646113783991\n",
      "Warning: This function (from_pandas_dataframe()) is deprecated and will be removed in a future version of PyDDM.  Please use the choice_column_name argument instead.\n"
     ]
    },
    {
     "name": "stdout",
     "output_type": "stream",
     "text": [
      "   Drift Rate Speed  Drift Rate Accuracy  Boundary Separation Speed  \\\n",
      "0          1.590984             1.741735                   0.635598   \n",
      "\n",
      "   Boundary Separation Accuracy  Collapse Speed  Collapse Accuracy  \\\n",
      "0                      0.918647        0.821429            0.45283   \n",
      "\n",
      "   Non-decision Time Speed  Non-decision Time Accuracy        BIC  \n",
      "0                 0.281944                    0.401371 -72.816461  \n",
      "38\n"
     ]
    },
    {
     "name": "stderr",
     "output_type": "stream",
     "text": [
      "Info: Params [1.88632273 1.74439637 0.69754642 0.80968763 0.63732931 0.11293814\n",
      " 0.29375154 0.47751041] gave -101.67975526902121\n",
      "Warning: This function (from_pandas_dataframe()) is deprecated and will be removed in a future version of PyDDM.  Please use the choice_column_name argument instead.\n"
     ]
    },
    {
     "name": "stdout",
     "output_type": "stream",
     "text": [
      "   Drift Rate Speed  Drift Rate Accuracy  Boundary Separation Speed  \\\n",
      "0          1.886323             1.744396                   0.697546   \n",
      "\n",
      "   Boundary Separation Accuracy  Collapse Speed  Collapse Accuracy  \\\n",
      "0                      0.809688        0.637329           0.112938   \n",
      "\n",
      "   Non-decision Time Speed  Non-decision Time Accuracy         BIC  \n",
      "0                 0.293752                     0.47751 -101.679755  \n",
      "39\n"
     ]
    },
    {
     "name": "stderr",
     "output_type": "stream",
     "text": [
      "Info: Params [0.84756577 0.60344069 0.81064574 2.13265635 0.61278408 0.28241845\n",
      " 0.33023751 0.23633584] gave 619.1558652207175\n",
      "Warning: This function (from_pandas_dataframe()) is deprecated and will be removed in a future version of PyDDM.  Please use the choice_column_name argument instead.\n"
     ]
    },
    {
     "name": "stdout",
     "output_type": "stream",
     "text": [
      "   Drift Rate Speed  Drift Rate Accuracy  Boundary Separation Speed  \\\n",
      "0          0.847566             0.603441                   0.810646   \n",
      "\n",
      "   Boundary Separation Accuracy  Collapse Speed  Collapse Accuracy  \\\n",
      "0                      2.132656        0.612784           0.282418   \n",
      "\n",
      "   Non-decision Time Speed  Non-decision Time Accuracy         BIC  \n",
      "0                 0.330238                    0.236336  619.155865  \n",
      "40\n"
     ]
    },
    {
     "name": "stderr",
     "output_type": "stream",
     "text": [
      "Info: Params [2.21505156e+00 1.00605983e+00 8.19790813e-01 1.04653710e+00\n",
      " 3.20041089e-01 1.76717696e-04 3.21953687e-01 5.19332499e-01] gave 320.12997258117457\n",
      "Warning: This function (from_pandas_dataframe()) is deprecated and will be removed in a future version of PyDDM.  Please use the choice_column_name argument instead.\n"
     ]
    },
    {
     "name": "stdout",
     "output_type": "stream",
     "text": [
      "   Drift Rate Speed  Drift Rate Accuracy  Boundary Separation Speed  \\\n",
      "0          2.215052              1.00606                   0.819791   \n",
      "\n",
      "   Boundary Separation Accuracy  Collapse Speed  Collapse Accuracy  \\\n",
      "0                      1.046537        0.320041           0.000177   \n",
      "\n",
      "   Non-decision Time Speed  Non-decision Time Accuracy         BIC  \n",
      "0                 0.321954                    0.519332  320.129973  \n",
      "41\n"
     ]
    },
    {
     "name": "stderr",
     "output_type": "stream",
     "text": [
      "Info: Params [1.4621818  1.02132726 0.7389181  1.05751917 0.80357185 0.\n",
      " 0.32786792 0.35158366] gave 349.780378293441\n",
      "Warning: This function (from_pandas_dataframe()) is deprecated and will be removed in a future version of PyDDM.  Please use the choice_column_name argument instead.\n"
     ]
    },
    {
     "name": "stdout",
     "output_type": "stream",
     "text": [
      "   Drift Rate Speed  Drift Rate Accuracy  Boundary Separation Speed  \\\n",
      "0          1.462182             1.021327                   0.738918   \n",
      "\n",
      "   Boundary Separation Accuracy  Collapse Speed  Collapse Accuracy  \\\n",
      "0                      1.057519        0.803572                0.0   \n",
      "\n",
      "   Non-decision Time Speed  Non-decision Time Accuracy         BIC  \n",
      "0                 0.327868                    0.351584  349.780378  \n",
      "42\n"
     ]
    },
    {
     "name": "stderr",
     "output_type": "stream",
     "text": [
      "Info: Params [1.21194513 0.81553763 0.79638181 0.91417593 0.4936709  0.\n",
      " 0.34872858 0.40197937] gave 501.7505804864887\n",
      "Warning: This function (from_pandas_dataframe()) is deprecated and will be removed in a future version of PyDDM.  Please use the choice_column_name argument instead.\n"
     ]
    },
    {
     "name": "stdout",
     "output_type": "stream",
     "text": [
      "   Drift Rate Speed  Drift Rate Accuracy  Boundary Separation Speed  \\\n",
      "0          1.211945             0.815538                   0.796382   \n",
      "\n",
      "   Boundary Separation Accuracy  Collapse Speed  Collapse Accuracy  \\\n",
      "0                      0.914176        0.493671                0.0   \n",
      "\n",
      "   Non-decision Time Speed  Non-decision Time Accuracy        BIC  \n",
      "0                 0.348729                    0.401979  501.75058  \n",
      "43\n"
     ]
    },
    {
     "name": "stderr",
     "output_type": "stream",
     "text": [
      "Info: Params [0.69819632 0.56252556 0.69885015 1.49186844 0.08094691 0.15775645\n",
      " 0.32695953 0.14062512] gave 920.4899479498114\n",
      "Warning: This function (from_pandas_dataframe()) is deprecated and will be removed in a future version of PyDDM.  Please use the choice_column_name argument instead.\n"
     ]
    },
    {
     "name": "stdout",
     "output_type": "stream",
     "text": [
      "   Drift Rate Speed  Drift Rate Accuracy  Boundary Separation Speed  \\\n",
      "0          0.698196             0.562526                    0.69885   \n",
      "\n",
      "   Boundary Separation Accuracy  Collapse Speed  Collapse Accuracy  \\\n",
      "0                      1.491868        0.080947           0.157756   \n",
      "\n",
      "   Non-decision Time Speed  Non-decision Time Accuracy         BIC  \n",
      "0                  0.32696                    0.140625  920.489948  \n",
      "44\n"
     ]
    },
    {
     "name": "stderr",
     "output_type": "stream",
     "text": [
      "Info: Params [2.20239943 1.07746226 0.63971757 0.94602906 0.02353542 0.00333225\n",
      " 0.38855359 0.36398537] gave 378.2507844321153\n",
      "Warning: This function (from_pandas_dataframe()) is deprecated and will be removed in a future version of PyDDM.  Please use the choice_column_name argument instead.\n"
     ]
    },
    {
     "name": "stdout",
     "output_type": "stream",
     "text": [
      "   Drift Rate Speed  Drift Rate Accuracy  Boundary Separation Speed  \\\n",
      "0          2.202399             1.077462                   0.639718   \n",
      "\n",
      "   Boundary Separation Accuracy  Collapse Speed  Collapse Accuracy  \\\n",
      "0                      0.946029        0.023535           0.003332   \n",
      "\n",
      "   Non-decision Time Speed  Non-decision Time Accuracy         BIC  \n",
      "0                 0.388554                    0.363985  378.250784  \n",
      "45\n"
     ]
    },
    {
     "name": "stderr",
     "output_type": "stream",
     "text": [
      "Info: Params [1.21923396 1.21085155 0.76783159 0.90661016 0.26617156 0.00866654\n",
      " 0.36320114 0.40108594] gave 381.14298282780373\n",
      "Warning: This function (from_pandas_dataframe()) is deprecated and will be removed in a future version of PyDDM.  Please use the choice_column_name argument instead.\n"
     ]
    },
    {
     "name": "stdout",
     "output_type": "stream",
     "text": [
      "   Drift Rate Speed  Drift Rate Accuracy  Boundary Separation Speed  \\\n",
      "0          1.219234             1.210852                   0.767832   \n",
      "\n",
      "   Boundary Separation Accuracy  Collapse Speed  Collapse Accuracy  \\\n",
      "0                       0.90661        0.266172           0.008667   \n",
      "\n",
      "   Non-decision Time Speed  Non-decision Time Accuracy         BIC  \n",
      "0                 0.363201                    0.401086  381.142983  \n",
      "46\n"
     ]
    },
    {
     "name": "stderr",
     "output_type": "stream",
     "text": [
      "Info: Params [1.65530087 0.86629672 0.82897096 1.67736715 0.41962689 0.16167703\n",
      " 0.29228053 0.41577036] gave 578.730998513843\n"
     ]
    },
    {
     "name": "stdout",
     "output_type": "stream",
     "text": [
      "   Drift Rate Speed  Drift Rate Accuracy  Boundary Separation Speed  \\\n",
      "0          1.655301             0.866297                   0.828971   \n",
      "\n",
      "   Boundary Separation Accuracy  Collapse Speed  Collapse Accuracy  \\\n",
      "0                      1.677367        0.419627           0.161677   \n",
      "\n",
      "   Non-decision Time Speed  Non-decision Time Accuracy         BIC  \n",
      "0                 0.292281                     0.41577  578.730999  \n"
     ]
    }
   ],
   "source": [
    "df_all = pd.DataFrame()\n",
    "for i in range(sample_size):\n",
    "    print(i)\n",
    "    path = os.path.join(data_dir+str(i+1)+\".csv\")\n",
    "    df = pd.read_csv(path, sep = \",\")\n",
    "    #df = df[df[\"cond\"]==SAT] # A condition\n",
    "    df = df[df[\"Time\"]<5]\n",
    "\n",
    "    samp = Sample.from_pandas_dataframe(df, rt_column_name=\"Time\", correct_column_name=\"Correct\")\n",
    "    df = get_DDM_result_sub_2v2a2c2ter(samp)\n",
    "    df_all = pd.concat((df_all,df))\n",
    "    print(df)\n",
    "df_OUM = df_all.copy()\n"
   ]
  },
  {
   "cell_type": "code",
   "execution_count": 5,
   "id": "3b05a53a",
   "metadata": {},
   "outputs": [],
   "source": [
    "df_OUM.to_csv(\"DDM2v2a2c2terresultEvans2017.csv\")"
   ]
  },
  {
   "cell_type": "code",
   "execution_count": 6,
   "id": "87e8797e",
   "metadata": {},
   "outputs": [
    {
     "data": {
      "text/plain": [
       "459.5016683086129"
      ]
     },
     "execution_count": 6,
     "metadata": {},
     "output_type": "execute_result"
    }
   ],
   "source": [
    "df_OUM[\"BIC\"].mean()"
   ]
  },
  {
   "cell_type": "code",
   "execution_count": null,
   "id": "c5baddcf",
   "metadata": {},
   "outputs": [],
   "source": []
  },
  {
   "cell_type": "code",
   "execution_count": null,
   "id": "5a7ebc93",
   "metadata": {},
   "outputs": [],
   "source": []
  }
 ],
 "metadata": {
  "kernelspec": {
   "display_name": "Python 3 (ipykernel)",
   "language": "python",
   "name": "python3"
  },
  "language_info": {
   "codemirror_mode": {
    "name": "ipython",
    "version": 3
   },
   "file_extension": ".py",
   "mimetype": "text/x-python",
   "name": "python",
   "nbconvert_exporter": "python",
   "pygments_lexer": "ipython3",
   "version": "3.11.4"
  }
 },
 "nbformat": 4,
 "nbformat_minor": 5
}
