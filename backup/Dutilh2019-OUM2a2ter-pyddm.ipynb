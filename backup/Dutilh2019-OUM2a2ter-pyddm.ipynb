{
 "cells": [
  {
   "cell_type": "code",
   "execution_count": 6,
   "id": "2cda49de",
   "metadata": {},
   "outputs": [],
   "source": [
    "%run SAT_help_functions.ipynb"
   ]
  },
  {
   "cell_type": "code",
   "execution_count": null,
   "id": "bc081cf9",
   "metadata": {},
   "outputs": [],
   "source": []
  },
  {
   "cell_type": "markdown",
   "id": "4bd26666",
   "metadata": {},
   "source": [
    "## OUM"
   ]
  },
  {
   "cell_type": "code",
   "execution_count": null,
   "id": "9ef6c434",
   "metadata": {},
   "outputs": [],
   "source": []
  },
  {
   "cell_type": "code",
   "execution_count": 7,
   "id": "e776257c",
   "metadata": {},
   "outputs": [],
   "source": [
    "sample_size = 20\n",
    "data_dir = '/Users/wangjiashun/Desktop/Reserach on SAT/datasets/Dutilh2019/validation_text_data/exp_4/pp'\n",
    "SAT_conds = [\"A\", \"B\"]"
   ]
  },
  {
   "cell_type": "code",
   "execution_count": 8,
   "id": "f434220f",
   "metadata": {},
   "outputs": [],
   "source": [
    "class BoundSpeedAcc(Bound):\n",
    "    name = \"BoundSpeedAcc\"\n",
    "    required_parameters = [\"Bspeed\", \"Bacc\"]\n",
    "    required_conditions = ['cond']\n",
    "    def get_bound(self, conditions, *args, **kwargs):\n",
    "        assert self.Bacc > 0\n",
    "        assert self.Bspeed > 0\n",
    "        if conditions['cond'] == 'A':\n",
    "            return self.Bspeed\n",
    "        elif conditions['cond'] == 'B':\n",
    "            return self.Bacc\n",
    "        else:\n",
    "            print(\"Non-implemented SAT conditions\")"
   ]
  },
  {
   "cell_type": "code",
   "execution_count": null,
   "id": "bbb278a6",
   "metadata": {},
   "outputs": [],
   "source": []
  },
  {
   "cell_type": "code",
   "execution_count": 9,
   "id": "6e5e0074",
   "metadata": {},
   "outputs": [],
   "source": [
    "\n",
    "class NondecisionSpeedAcc(OverlayNonDecision):\n",
    "    name = \"DriftSpeedAcc\"\n",
    "    required_parameters = [\"tSpeed\", 'tAcc']\n",
    "    required_conditions = ['cond']\n",
    "        \n",
    "    def get_nondecision_time(self, conditions, **kwargs):\n",
    "        if conditions['cond'] == 'A':\n",
    "            return self.tSpeed \n",
    "        elif conditions['cond'] == 'B':\n",
    "            return self.tAcc\n",
    "        else: \n",
    "            print(\"Non-implemented SAT conditions\")"
   ]
  },
  {
   "cell_type": "code",
   "execution_count": null,
   "id": "b1e0fe9b",
   "metadata": {},
   "outputs": [],
   "source": []
  },
  {
   "cell_type": "code",
   "execution_count": null,
   "id": "81235d16",
   "metadata": {},
   "outputs": [],
   "source": []
  },
  {
   "cell_type": "code",
   "execution_count": null,
   "id": "8a3f5185",
   "metadata": {},
   "outputs": [],
   "source": []
  },
  {
   "cell_type": "code",
   "execution_count": 10,
   "id": "fdb13001",
   "metadata": {
    "scrolled": true
   },
   "outputs": [
    {
     "name": "stdout",
     "output_type": "stream",
     "text": [
      "0\n"
     ]
    },
    {
     "name": "stderr",
     "output_type": "stream",
     "text": [
      "Info: Params [1.19715827 2.79913464 0.90650111 1.29551994 0.21365063 0.28626542] gave 302.8327713252593\n"
     ]
    },
    {
     "name": "stdout",
     "output_type": "stream",
     "text": [
      "   Drift Rate         x  Boundary Separation Speed  \\\n",
      "0    1.197158  2.799135                   0.906501   \n",
      "\n",
      "   Boundary Separation Accuracy  Non-decision Time Speed  \\\n",
      "0                       1.29552                 0.213651   \n",
      "\n",
      "   Non-decision Time Accuracy         BIC  \n",
      "0                    0.286265  302.832771  \n",
      "1\n"
     ]
    },
    {
     "name": "stderr",
     "output_type": "stream",
     "text": [
      "Info: Params [0.47038719 3.07318241 1.02923688 3.04280044 0.20332368 0.18490139] gave 573.4531822256943\n"
     ]
    },
    {
     "name": "stdout",
     "output_type": "stream",
     "text": [
      "   Drift Rate         x  Boundary Separation Speed  \\\n",
      "0    0.470387  3.073182                   1.029237   \n",
      "\n",
      "   Boundary Separation Accuracy  Non-decision Time Speed  \\\n",
      "0                        3.0428                 0.203324   \n",
      "\n",
      "   Non-decision Time Accuracy         BIC  \n",
      "0                    0.184901  573.453182  \n",
      "2\n"
     ]
    },
    {
     "name": "stderr",
     "output_type": "stream",
     "text": [
      "Info: Params [1.57240895 3.96711648 0.77026709 1.69791894 0.22834331 0.28028513] gave -21.82148132721438\n"
     ]
    },
    {
     "name": "stdout",
     "output_type": "stream",
     "text": [
      "   Drift Rate         x  Boundary Separation Speed  \\\n",
      "0    1.572409  3.967116                   0.770267   \n",
      "\n",
      "   Boundary Separation Accuracy  Non-decision Time Speed  \\\n",
      "0                      1.697919                 0.228343   \n",
      "\n",
      "   Non-decision Time Accuracy        BIC  \n",
      "0                    0.280285 -21.821481  \n",
      "3\n"
     ]
    },
    {
     "name": "stderr",
     "output_type": "stream",
     "text": [
      "Info: Params [0.85316095 2.30326048 0.50047467 1.69558448 0.18678614 0.12696756] gave 263.3082905042759\n"
     ]
    },
    {
     "name": "stdout",
     "output_type": "stream",
     "text": [
      "   Drift Rate        x  Boundary Separation Speed  \\\n",
      "0    0.853161  2.30326                   0.500475   \n",
      "\n",
      "   Boundary Separation Accuracy  Non-decision Time Speed  \\\n",
      "0                      1.695584                 0.186786   \n",
      "\n",
      "   Non-decision Time Accuracy         BIC  \n",
      "0                    0.126968  263.308291  \n",
      "4\n"
     ]
    },
    {
     "name": "stderr",
     "output_type": "stream",
     "text": [
      "Info: Params [1.09924181 4.54946086 1.09970692 1.36918729 0.16251112 0.26843827] gave 150.13033822514222\n"
     ]
    },
    {
     "name": "stdout",
     "output_type": "stream",
     "text": [
      "   Drift Rate         x  Boundary Separation Speed  \\\n",
      "0    1.099242  4.549461                   1.099707   \n",
      "\n",
      "   Boundary Separation Accuracy  Non-decision Time Speed  \\\n",
      "0                      1.369187                 0.162511   \n",
      "\n",
      "   Non-decision Time Accuracy         BIC  \n",
      "0                    0.268438  150.130338  \n",
      "5\n"
     ]
    },
    {
     "name": "stderr",
     "output_type": "stream",
     "text": [
      "Info: Params [1.40232766 3.20002211 0.81511717 1.70087176 0.32277731 0.40292637] gave 92.7712902168079\n"
     ]
    },
    {
     "name": "stdout",
     "output_type": "stream",
     "text": [
      "   Drift Rate         x  Boundary Separation Speed  \\\n",
      "0    1.402328  3.200022                   0.815117   \n",
      "\n",
      "   Boundary Separation Accuracy  Non-decision Time Speed  \\\n",
      "0                      1.700872                 0.322777   \n",
      "\n",
      "   Non-decision Time Accuracy       BIC  \n",
      "0                    0.402926  92.77129  \n",
      "6\n"
     ]
    },
    {
     "name": "stderr",
     "output_type": "stream",
     "text": [
      "Info: Params [1.23977015 5.26489212 1.35302256 2.11510995 0.17171237 0.20525353] gave 62.083051822221115\n"
     ]
    },
    {
     "name": "stdout",
     "output_type": "stream",
     "text": [
      "   Drift Rate         x  Boundary Separation Speed  \\\n",
      "0     1.23977  5.264892                   1.353023   \n",
      "\n",
      "   Boundary Separation Accuracy  Non-decision Time Speed  \\\n",
      "0                       2.11511                 0.171712   \n",
      "\n",
      "   Non-decision Time Accuracy        BIC  \n",
      "0                    0.205254  62.083052  \n",
      "7\n"
     ]
    },
    {
     "name": "stderr",
     "output_type": "stream",
     "text": [
      "Info: Params [1.63892106 5.31429965 1.27379647 2.09533488 0.2438434  0.25522284] gave -87.13897913237906\n"
     ]
    },
    {
     "name": "stdout",
     "output_type": "stream",
     "text": [
      "   Drift Rate       x  Boundary Separation Speed  \\\n",
      "0    1.638921  5.3143                   1.273796   \n",
      "\n",
      "   Boundary Separation Accuracy  Non-decision Time Speed  \\\n",
      "0                      2.095335                 0.243843   \n",
      "\n",
      "   Non-decision Time Accuracy        BIC  \n",
      "0                    0.255223 -87.138979  \n",
      "8\n"
     ]
    },
    {
     "name": "stderr",
     "output_type": "stream",
     "text": [
      "Info: Params [1.42654061 3.21675786 0.61883641 1.14197471 0.34189494 0.30238844] gave 28.618721252965933\n"
     ]
    },
    {
     "name": "stdout",
     "output_type": "stream",
     "text": [
      "   Drift Rate         x  Boundary Separation Speed  \\\n",
      "0    1.426541  3.216758                   0.618836   \n",
      "\n",
      "   Boundary Separation Accuracy  Non-decision Time Speed  \\\n",
      "0                      1.141975                 0.341895   \n",
      "\n",
      "   Non-decision Time Accuracy        BIC  \n",
      "0                    0.302388  28.618721  \n",
      "9\n"
     ]
    },
    {
     "name": "stderr",
     "output_type": "stream",
     "text": [
      "Info: Params [0.83836527 2.02290389 0.63534185 1.45700091 0.22085425 0.38205803] gave 431.743140258906\n"
     ]
    },
    {
     "name": "stdout",
     "output_type": "stream",
     "text": [
      "   Drift Rate         x  Boundary Separation Speed  \\\n",
      "0    0.838365  2.022904                   0.635342   \n",
      "\n",
      "   Boundary Separation Accuracy  Non-decision Time Speed  \\\n",
      "0                      1.457001                 0.220854   \n",
      "\n",
      "   Non-decision Time Accuracy        BIC  \n",
      "0                    0.382058  431.74314  \n",
      "10\n"
     ]
    },
    {
     "name": "stderr",
     "output_type": "stream",
     "text": [
      "Info: Params [1.19459823 2.3760293  0.99871779 2.40726685 0.18453507 0.13823826] gave 404.4694251064679\n"
     ]
    },
    {
     "name": "stdout",
     "output_type": "stream",
     "text": [
      "   Drift Rate         x  Boundary Separation Speed  \\\n",
      "0    1.194598  2.376029                   0.998718   \n",
      "\n",
      "   Boundary Separation Accuracy  Non-decision Time Speed  \\\n",
      "0                      2.407267                 0.184535   \n",
      "\n",
      "   Non-decision Time Accuracy         BIC  \n",
      "0                    0.138238  404.469425  \n",
      "11\n"
     ]
    },
    {
     "name": "stderr",
     "output_type": "stream",
     "text": [
      "Info: Params [1.2803419  4.01996482 0.89185842 1.84693096 0.27757508 0.27688964] gave 129.66629283486856\n"
     ]
    },
    {
     "name": "stdout",
     "output_type": "stream",
     "text": [
      "   Drift Rate         x  Boundary Separation Speed  \\\n",
      "0    1.280342  4.019965                   0.891858   \n",
      "\n",
      "   Boundary Separation Accuracy  Non-decision Time Speed  \\\n",
      "0                      1.846931                 0.277575   \n",
      "\n",
      "   Non-decision Time Accuracy         BIC  \n",
      "0                     0.27689  129.666293  \n",
      "12\n"
     ]
    },
    {
     "name": "stderr",
     "output_type": "stream",
     "text": [
      "Info: Params [1.20290764 4.80016826 0.97164467 1.01178945 0.19374372 0.25964176] gave 33.33548134419099\n"
     ]
    },
    {
     "name": "stdout",
     "output_type": "stream",
     "text": [
      "   Drift Rate         x  Boundary Separation Speed  \\\n",
      "0    1.202908  4.800168                   0.971645   \n",
      "\n",
      "   Boundary Separation Accuracy  Non-decision Time Speed  \\\n",
      "0                      1.011789                 0.193744   \n",
      "\n",
      "   Non-decision Time Accuracy        BIC  \n",
      "0                    0.259642  33.335481  \n",
      "13\n"
     ]
    },
    {
     "name": "stderr",
     "output_type": "stream",
     "text": [
      "Info: Params [1.23090513 3.21418508 0.83043257 2.29980014 0.18925623 0.13874865] gave 223.0395001285015\n"
     ]
    },
    {
     "name": "stdout",
     "output_type": "stream",
     "text": [
      "   Drift Rate         x  Boundary Separation Speed  \\\n",
      "0    1.230905  3.214185                   0.830433   \n",
      "\n",
      "   Boundary Separation Accuracy  Non-decision Time Speed  \\\n",
      "0                        2.2998                 0.189256   \n",
      "\n",
      "   Non-decision Time Accuracy       BIC  \n",
      "0                    0.138749  223.0395  \n",
      "14\n"
     ]
    },
    {
     "name": "stderr",
     "output_type": "stream",
     "text": [
      "Info: Params [0.98288123 4.44344686 0.88689181 1.58335847 0.18281695 0.15726656] gave 148.90366126912414\n"
     ]
    },
    {
     "name": "stdout",
     "output_type": "stream",
     "text": [
      "   Drift Rate         x  Boundary Separation Speed  \\\n",
      "0    0.982881  4.443447                   0.886892   \n",
      "\n",
      "   Boundary Separation Accuracy  Non-decision Time Speed  \\\n",
      "0                      1.583358                 0.182817   \n",
      "\n",
      "   Non-decision Time Accuracy         BIC  \n",
      "0                    0.157267  148.903661  \n",
      "15\n"
     ]
    },
    {
     "name": "stderr",
     "output_type": "stream",
     "text": [
      "Info: Params [1.763163   2.63906612 0.63167625 1.19668768 0.23491148 0.26543888] gave -83.48856757728723\n"
     ]
    },
    {
     "name": "stdout",
     "output_type": "stream",
     "text": [
      "   Drift Rate         x  Boundary Separation Speed  \\\n",
      "0    1.763163  2.639066                   0.631676   \n",
      "\n",
      "   Boundary Separation Accuracy  Non-decision Time Speed  \\\n",
      "0                      1.196688                 0.234911   \n",
      "\n",
      "   Non-decision Time Accuracy        BIC  \n",
      "0                    0.265439 -83.488568  \n",
      "16\n"
     ]
    },
    {
     "name": "stderr",
     "output_type": "stream",
     "text": [
      "Info: Params [0.8660019  3.10065473 0.6077107  0.84742233 0.25455158 0.33618817] gave 64.88774849095736\n"
     ]
    },
    {
     "name": "stdout",
     "output_type": "stream",
     "text": [
      "   Drift Rate         x  Boundary Separation Speed  \\\n",
      "0    0.866002  3.100655                   0.607711   \n",
      "\n",
      "   Boundary Separation Accuracy  Non-decision Time Speed  \\\n",
      "0                      0.847422                 0.254552   \n",
      "\n",
      "   Non-decision Time Accuracy        BIC  \n",
      "0                    0.336188  64.887748  \n",
      "17\n"
     ]
    },
    {
     "name": "stderr",
     "output_type": "stream",
     "text": [
      "Info: Params [1.85694147 3.49970891 0.7328718  1.03869774 0.26837791 0.3059926 ] gave -145.8257995362981\n"
     ]
    },
    {
     "name": "stdout",
     "output_type": "stream",
     "text": [
      "   Drift Rate         x  Boundary Separation Speed  \\\n",
      "0    1.856941  3.499709                   0.732872   \n",
      "\n",
      "   Boundary Separation Accuracy  Non-decision Time Speed  \\\n",
      "0                      1.038698                 0.268378   \n",
      "\n",
      "   Non-decision Time Accuracy       BIC  \n",
      "0                    0.305993 -145.8258  \n",
      "18\n"
     ]
    },
    {
     "name": "stderr",
     "output_type": "stream",
     "text": [
      "Info: Params [1.77503158 3.33100278 0.8001542  1.54997624 0.25510889 0.20602217] gave 8.434370155660652\n"
     ]
    },
    {
     "name": "stdout",
     "output_type": "stream",
     "text": [
      "   Drift Rate         x  Boundary Separation Speed  \\\n",
      "0    1.775032  3.331003                   0.800154   \n",
      "\n",
      "   Boundary Separation Accuracy  Non-decision Time Speed  \\\n",
      "0                      1.549976                 0.255109   \n",
      "\n",
      "   Non-decision Time Accuracy      BIC  \n",
      "0                    0.206022  8.43437  \n",
      "19\n"
     ]
    },
    {
     "name": "stderr",
     "output_type": "stream",
     "text": [
      "Info: Params [0.34927632 4.83523581 1.63261487 1.83446088 0.1006539  0.19169385] gave 343.1403876421225\n"
     ]
    },
    {
     "name": "stdout",
     "output_type": "stream",
     "text": [
      "   Drift Rate         x  Boundary Separation Speed  \\\n",
      "0    0.349276  4.835236                   1.632615   \n",
      "\n",
      "   Boundary Separation Accuracy  Non-decision Time Speed  \\\n",
      "0                      1.834461                 0.100654   \n",
      "\n",
      "   Non-decision Time Accuracy         BIC  \n",
      "0                    0.191694  343.140388  \n"
     ]
    }
   ],
   "source": [
    "df_all = pd.DataFrame()\n",
    "for i in range(sample_size):\n",
    "    print(i)\n",
    "    path = os.path.join(data_dir+str(i+1)+\".txt\")\n",
    "    df = pd.read_csv(path, sep = \" \")\n",
    "    #df = df[df[\"cond\"]==SAT] # A condition\n",
    "    df = df[df[\"rt\"]<3]\n",
    "\n",
    "    samp = Sample.from_pandas_dataframe(df, rt_column_name=\"rt\", correct_column_name=\"correct\")\n",
    "    df = get_OUM_result_sub_2a2ter(samp)\n",
    "    df_all = pd.concat((df_all,df))\n",
    "    print(df)\n",
    "df_OUM = df_all.copy()\n"
   ]
  },
  {
   "cell_type": "code",
   "execution_count": 11,
   "id": "3b05a53a",
   "metadata": {},
   "outputs": [],
   "source": [
    "df_OUM.to_csv(\"OUM2a2terresultDutilh2019.csv\")"
   ]
  },
  {
   "cell_type": "code",
   "execution_count": 12,
   "id": "87e8797e",
   "metadata": {},
   "outputs": [
    {
     "data": {
      "text/plain": [
       "146.12714126149936"
      ]
     },
     "execution_count": 12,
     "metadata": {},
     "output_type": "execute_result"
    }
   ],
   "source": [
    "df_OUM[\"BIC\"].mean()"
   ]
  },
  {
   "cell_type": "code",
   "execution_count": 13,
   "id": "66bb2313",
   "metadata": {},
   "outputs": [],
   "source": [
    "#%run Dutilh2019-OUM2k2ter-pyddm.ipynb"
   ]
  },
  {
   "cell_type": "code",
   "execution_count": 14,
   "id": "dfbc8c6e",
   "metadata": {},
   "outputs": [],
   "source": [
    "#%run Dutilh2019-OUM2v2a2ter-pyddm.ipynb"
   ]
  },
  {
   "cell_type": "code",
   "execution_count": 15,
   "id": "cedf36c2",
   "metadata": {},
   "outputs": [],
   "source": [
    "#%run Dutilh2019-OUM2v2k2ter-pyddm.ipynb"
   ]
  },
  {
   "cell_type": "code",
   "execution_count": null,
   "id": "2c7679c6",
   "metadata": {},
   "outputs": [],
   "source": []
  }
 ],
 "metadata": {
  "kernelspec": {
   "display_name": "Python 3 (ipykernel)",
   "language": "python",
   "name": "python3"
  },
  "language_info": {
   "codemirror_mode": {
    "name": "ipython",
    "version": 3
   },
   "file_extension": ".py",
   "mimetype": "text/x-python",
   "name": "python",
   "nbconvert_exporter": "python",
   "pygments_lexer": "ipython3",
   "version": "3.7.15"
  }
 },
 "nbformat": 4,
 "nbformat_minor": 5
}
