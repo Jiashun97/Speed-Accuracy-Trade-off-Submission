{
 "cells": [
  {
   "cell_type": "code",
   "execution_count": 1,
   "id": "2cda49de",
   "metadata": {},
   "outputs": [],
   "source": [
    "%run SAT_help_functions.ipynb"
   ]
  },
  {
   "cell_type": "code",
   "execution_count": null,
   "id": "bc081cf9",
   "metadata": {},
   "outputs": [],
   "source": []
  },
  {
   "cell_type": "markdown",
   "id": "4bd26666",
   "metadata": {},
   "source": [
    "## OUM"
   ]
  },
  {
   "cell_type": "code",
   "execution_count": null,
   "id": "9ef6c434",
   "metadata": {},
   "outputs": [],
   "source": []
  },
  {
   "cell_type": "code",
   "execution_count": 2,
   "id": "e776257c",
   "metadata": {},
   "outputs": [],
   "source": [
    "data_dir = \"/Users/wangjiashun/Desktop/Reserach on SAT/datasets/Evans2021/Dutilh2013/dataBySubject/sub\"\n",
    "sample_size = 32\n",
    "SAT_conds = [\"speed\", \"accuracy\"]"
   ]
  },
  {
   "cell_type": "code",
   "execution_count": 3,
   "id": "8b1738bd",
   "metadata": {},
   "outputs": [],
   "source": [
    "\n",
    "class DriftConstantSpeedAcc(Drift):\n",
    "    name = \"DriftConstantSpeedAcc\"\n",
    "    required_parameters = [\"Vspeed\",\"Vacc\"]\n",
    "    required_conditions = ['Cond']\n",
    "        \n",
    "    def get_drift(self, x, t, conditions, **kwargs):\n",
    "        if conditions['Cond'] == 'speed':\n",
    "            return self.Vspeed\n",
    "        elif conditions['Cond'] == 'accuracy':\n",
    "            return self.Vacc\n",
    "\n",
    "class BoundCollapsingLinearSAT(BoundCollapsingLinear):\n",
    "    name = \"BoundSpeedAcc\"\n",
    "    required_parameters = [\"B\", \"cSpeed\", 'cAcc']\n",
    "    required_conditions = ['Cond']\n",
    "        \n",
    "    def get_bound(self, t, conditions, **kwargs):\n",
    "        if conditions['Cond'] == 'speed':\n",
    "            return max(self.B - self.cSpeed*t, 0.)\n",
    "        elif conditions['Cond'] == 'accuracy':\n",
    "            return max(self.B - self.cAcc*t, 0.)\n",
    "\n",
    "class NondecisionSpeedAcc(OverlayNonDecision):\n",
    "    name = \"NondecisionSpeedAcc\"\n",
    "    required_parameters = [\"tSpeed\", 'tAcc']\n",
    "    required_conditions = ['Cond']\n",
    "        \n",
    "    def get_nondecision_time(self, conditions, **kwargs):\n",
    "        if conditions['Cond'] == 'speed':\n",
    "            return self.tSpeed \n",
    "        elif conditions['Cond'] == 'accuracy':\n",
    "            return self.tAcc"
   ]
  },
  {
   "cell_type": "code",
   "execution_count": null,
   "id": "8a3f5185",
   "metadata": {},
   "outputs": [],
   "source": []
  },
  {
   "cell_type": "code",
   "execution_count": 4,
   "id": "fdb13001",
   "metadata": {
    "scrolled": true
   },
   "outputs": [
    {
     "name": "stderr",
     "output_type": "stream",
     "text": [
      "Warning: This function (from_pandas_dataframe()) is deprecated and will be removed in a future version of PyDDM.  Please use the choice_column_name argument instead.\n"
     ]
    },
    {
     "name": "stdout",
     "output_type": "stream",
     "text": [
      "0\n"
     ]
    },
    {
     "name": "stderr",
     "output_type": "stream",
     "text": [
      "Info: Params [0.23480969 0.8389087  0.74264413 0.97922451 0.40496049 0.24346372\n",
      " 0.31347615] gave 12.076098867546037\n",
      "Warning: This function (from_pandas_dataframe()) is deprecated and will be removed in a future version of PyDDM.  Please use the choice_column_name argument instead.\n"
     ]
    },
    {
     "name": "stdout",
     "output_type": "stream",
     "text": [
      "    Vspeed      Vacc  Boundary Separation  Collapse Speed  Collapse Accuracy  \\\n",
      "0  0.23481  0.838909             0.742644        0.979225            0.40496   \n",
      "\n",
      "   Non-decision Time Speed  Non-decision Time Accuracy        BIC  \n",
      "0                 0.243464                    0.313476  12.076099  \n",
      "1\n"
     ]
    },
    {
     "name": "stderr",
     "output_type": "stream",
     "text": [
      "Info: Params [2.1688021  1.42194556 0.54376795 0.12844036 0.04671867 0.35853071\n",
      " 0.39534176] gave -198.96233751234416\n",
      "Warning: This function (from_pandas_dataframe()) is deprecated and will be removed in a future version of PyDDM.  Please use the choice_column_name argument instead.\n"
     ]
    },
    {
     "name": "stdout",
     "output_type": "stream",
     "text": [
      "     Vspeed      Vacc  Boundary Separation  Collapse Speed  Collapse Accuracy  \\\n",
      "0  2.168802  1.421946             0.543768         0.12844           0.046719   \n",
      "\n",
      "   Non-decision Time Speed  Non-decision Time Accuracy         BIC  \n",
      "0                 0.358531                    0.395342 -198.962338  \n",
      "2\n"
     ]
    },
    {
     "name": "stderr",
     "output_type": "stream",
     "text": [
      "Info: Params [0.         0.         1.32426735 0.7479526  1.1002893  0.10780621\n",
      " 0.51929427] gave 488.37213026521334\n",
      "Warning: This function (from_pandas_dataframe()) is deprecated and will be removed in a future version of PyDDM.  Please use the choice_column_name argument instead.\n"
     ]
    },
    {
     "name": "stdout",
     "output_type": "stream",
     "text": [
      "   Vspeed  Vacc  Boundary Separation  Collapse Speed  Collapse Accuracy  \\\n",
      "0     0.0   0.0             1.324267        0.747953           1.100289   \n",
      "\n",
      "   Non-decision Time Speed  Non-decision Time Accuracy        BIC  \n",
      "0                 0.107806                    0.519294  488.37213  \n",
      "3\n"
     ]
    },
    {
     "name": "stderr",
     "output_type": "stream",
     "text": [
      "Info: Params [3.03109278 4.96591513 1.09564529 2.39285701 0.95997487 0.29273356\n",
      " 0.32606102] gave -209.75554986739925\n",
      "Warning: This function (from_pandas_dataframe()) is deprecated and will be removed in a future version of PyDDM.  Please use the choice_column_name argument instead.\n"
     ]
    },
    {
     "name": "stdout",
     "output_type": "stream",
     "text": [
      "     Vspeed      Vacc  Boundary Separation  Collapse Speed  Collapse Accuracy  \\\n",
      "0  3.031093  4.965915             1.095645        2.392857           0.959975   \n",
      "\n",
      "   Non-decision Time Speed  Non-decision Time Accuracy        BIC  \n",
      "0                 0.292734                    0.326061 -209.75555  \n",
      "4\n"
     ]
    },
    {
     "name": "stderr",
     "output_type": "stream",
     "text": [
      "Info: Params [2.03168521 1.97835252 0.93261689 0.81944443 0.98656277 0.22028622\n",
      " 0.30210264] gave -102.16008303142559\n",
      "Warning: This function (from_pandas_dataframe()) is deprecated and will be removed in a future version of PyDDM.  Please use the choice_column_name argument instead.\n"
     ]
    },
    {
     "name": "stdout",
     "output_type": "stream",
     "text": [
      "     Vspeed      Vacc  Boundary Separation  Collapse Speed  Collapse Accuracy  \\\n",
      "0  2.031685  1.978353             0.932617        0.819444           0.986563   \n",
      "\n",
      "   Non-decision Time Speed  Non-decision Time Accuracy         BIC  \n",
      "0                 0.220286                    0.302103 -102.160083  \n",
      "5\n"
     ]
    },
    {
     "name": "stderr",
     "output_type": "stream",
     "text": [
      "Info: Params [1.43170912 1.58186751 0.83802459 0.97714789 0.51715742 0.24130369\n",
      " 0.29958062] gave -196.22211824079554\n",
      "Warning: This function (from_pandas_dataframe()) is deprecated and will be removed in a future version of PyDDM.  Please use the choice_column_name argument instead.\n"
     ]
    },
    {
     "name": "stdout",
     "output_type": "stream",
     "text": [
      "     Vspeed      Vacc  Boundary Separation  Collapse Speed  Collapse Accuracy  \\\n",
      "0  1.431709  1.581868             0.838025        0.977148           0.517157   \n",
      "\n",
      "   Non-decision Time Speed  Non-decision Time Accuracy         BIC  \n",
      "0                 0.241304                    0.299581 -196.222118  \n",
      "6\n"
     ]
    },
    {
     "name": "stderr",
     "output_type": "stream",
     "text": [
      "Info: Params [1.36193524 3.79110906 0.61458096 0.58525497 0.00594662 0.23623413\n",
      " 0.41588114] gave -500.35949446107537\n",
      "Warning: This function (from_pandas_dataframe()) is deprecated and will be removed in a future version of PyDDM.  Please use the choice_column_name argument instead.\n"
     ]
    },
    {
     "name": "stdout",
     "output_type": "stream",
     "text": [
      "     Vspeed      Vacc  Boundary Separation  Collapse Speed  Collapse Accuracy  \\\n",
      "0  1.361935  3.791109             0.614581        0.585255           0.005947   \n",
      "\n",
      "   Non-decision Time Speed  Non-decision Time Accuracy         BIC  \n",
      "0                 0.236234                    0.415881 -500.359494  \n",
      "7\n"
     ]
    },
    {
     "name": "stderr",
     "output_type": "stream",
     "text": [
      "Info: Params [1.34330645 2.25297259 0.83890924 0.52952665 0.46408536 0.17267049\n",
      " 0.27627985] gave -115.78747965545395\n",
      "Warning: This function (from_pandas_dataframe()) is deprecated and will be removed in a future version of PyDDM.  Please use the choice_column_name argument instead.\n"
     ]
    },
    {
     "name": "stdout",
     "output_type": "stream",
     "text": [
      "     Vspeed      Vacc  Boundary Separation  Collapse Speed  Collapse Accuracy  \\\n",
      "0  1.343306  2.252973             0.838909        0.529527           0.464085   \n",
      "\n",
      "   Non-decision Time Speed  Non-decision Time Accuracy        BIC  \n",
      "0                  0.17267                     0.27628 -115.78748  \n",
      "8\n"
     ]
    },
    {
     "name": "stderr",
     "output_type": "stream",
     "text": [
      "Info: Params [0.83645835 1.38648783 0.94798119 0.61526411 0.93906114 0.16220788\n",
      " 0.28929893] gave 104.2259571397417\n",
      "Warning: This function (from_pandas_dataframe()) is deprecated and will be removed in a future version of PyDDM.  Please use the choice_column_name argument instead.\n"
     ]
    },
    {
     "name": "stdout",
     "output_type": "stream",
     "text": [
      "     Vspeed      Vacc  Boundary Separation  Collapse Speed  Collapse Accuracy  \\\n",
      "0  0.836458  1.386488             0.947981        0.615264           0.939061   \n",
      "\n",
      "   Non-decision Time Speed  Non-decision Time Accuracy         BIC  \n",
      "0                 0.162208                    0.289299  104.225957  \n",
      "9\n"
     ]
    },
    {
     "name": "stderr",
     "output_type": "stream",
     "text": [
      "Info: Params [0.02290805 0.44898232 0.64120492 0.44848866 0.0949839  0.14260631\n",
      " 0.27297223] gave 302.27145170480463\n",
      "Warning: This function (from_pandas_dataframe()) is deprecated and will be removed in a future version of PyDDM.  Please use the choice_column_name argument instead.\n"
     ]
    },
    {
     "name": "stdout",
     "output_type": "stream",
     "text": [
      "     Vspeed      Vacc  Boundary Separation  Collapse Speed  Collapse Accuracy  \\\n",
      "0  0.022908  0.448982             0.641205        0.448489           0.094984   \n",
      "\n",
      "   Non-decision Time Speed  Non-decision Time Accuracy         BIC  \n",
      "0                 0.142606                    0.272972  302.271452  \n",
      "10\n"
     ]
    },
    {
     "name": "stderr",
     "output_type": "stream",
     "text": [
      "Info: Params [2.72129755 4.56856703 1.21543736 1.29409525 0.20689654 0.30344836\n",
      " 0.36698251] gave -83.97840981378904\n",
      "Warning: This function (from_pandas_dataframe()) is deprecated and will be removed in a future version of PyDDM.  Please use the choice_column_name argument instead.\n"
     ]
    },
    {
     "name": "stdout",
     "output_type": "stream",
     "text": [
      "     Vspeed      Vacc  Boundary Separation  Collapse Speed  Collapse Accuracy  \\\n",
      "0  2.721298  4.568567             1.215437        1.294095           0.206897   \n",
      "\n",
      "   Non-decision Time Speed  Non-decision Time Accuracy       BIC  \n",
      "0                 0.303448                    0.366983 -83.97841  \n",
      "11\n"
     ]
    },
    {
     "name": "stderr",
     "output_type": "stream",
     "text": [
      "Info: Params [2.29472198 2.68628092 0.64580098 0.91801923 0.3        0.31667687\n",
      " 0.34091179] gave -705.5668343659011\n",
      "Warning: This function (from_pandas_dataframe()) is deprecated and will be removed in a future version of PyDDM.  Please use the choice_column_name argument instead.\n"
     ]
    },
    {
     "name": "stdout",
     "output_type": "stream",
     "text": [
      "     Vspeed      Vacc  Boundary Separation  Collapse Speed  Collapse Accuracy  \\\n",
      "0  2.294722  2.686281             0.645801        0.918019                0.3   \n",
      "\n",
      "   Non-decision Time Speed  Non-decision Time Accuracy         BIC  \n",
      "0                 0.316677                    0.340912 -705.566834  \n",
      "12\n"
     ]
    },
    {
     "name": "stderr",
     "output_type": "stream",
     "text": [
      "Info: Params [3.68755241 2.85661994 0.78707837 1.03333244 1.46153846 0.29945577\n",
      " 0.30447808] gave -668.1689549072327\n",
      "Warning: This function (from_pandas_dataframe()) is deprecated and will be removed in a future version of PyDDM.  Please use the choice_column_name argument instead.\n"
     ]
    },
    {
     "name": "stdout",
     "output_type": "stream",
     "text": [
      "     Vspeed     Vacc  Boundary Separation  Collapse Speed  Collapse Accuracy  \\\n",
      "0  3.687552  2.85662             0.787078        1.033332           1.461538   \n",
      "\n",
      "   Non-decision Time Speed  Non-decision Time Accuracy         BIC  \n",
      "0                 0.299456                    0.304478 -668.168955  \n",
      "13\n"
     ]
    },
    {
     "name": "stderr",
     "output_type": "stream",
     "text": [
      "Info: Params [1.51924413 2.97319218 0.59712827 0.37018535 0.02732512 0.2309391\n",
      " 0.32462439] gave -401.26886447433793\n",
      "Warning: This function (from_pandas_dataframe()) is deprecated and will be removed in a future version of PyDDM.  Please use the choice_column_name argument instead.\n"
     ]
    },
    {
     "name": "stdout",
     "output_type": "stream",
     "text": [
      "     Vspeed      Vacc  Boundary Separation  Collapse Speed  Collapse Accuracy  \\\n",
      "0  1.519244  2.973192             0.597128        0.370185           0.027325   \n",
      "\n",
      "   Non-decision Time Speed  Non-decision Time Accuracy         BIC  \n",
      "0                 0.230939                    0.324624 -401.268864  \n",
      "14\n"
     ]
    },
    {
     "name": "stderr",
     "output_type": "stream",
     "text": [
      "Info: Params [0.41343233 0.10980975 0.89591303 0.89647834 0.50161808 0.23229339\n",
      " 0.24809211] gave 546.2732671517743\n",
      "Warning: This function (from_pandas_dataframe()) is deprecated and will be removed in a future version of PyDDM.  Please use the choice_column_name argument instead.\n"
     ]
    },
    {
     "name": "stdout",
     "output_type": "stream",
     "text": [
      "     Vspeed     Vacc  Boundary Separation  Collapse Speed  Collapse Accuracy  \\\n",
      "0  0.413432  0.10981             0.895913        0.896478           0.501618   \n",
      "\n",
      "   Non-decision Time Speed  Non-decision Time Accuracy         BIC  \n",
      "0                 0.232293                    0.248092  546.273267  \n",
      "15\n"
     ]
    },
    {
     "name": "stderr",
     "output_type": "stream",
     "text": [
      "Info: Params [3.00459766 4.6238894  0.61678567 0.1535355  0.34631965 0.33848696\n",
      " 0.37921316] gave -467.55092526221426\n",
      "Warning: This function (from_pandas_dataframe()) is deprecated and will be removed in a future version of PyDDM.  Please use the choice_column_name argument instead.\n"
     ]
    },
    {
     "name": "stdout",
     "output_type": "stream",
     "text": [
      "     Vspeed      Vacc  Boundary Separation  Collapse Speed  Collapse Accuracy  \\\n",
      "0  3.004598  4.623889             0.616786        0.153535            0.34632   \n",
      "\n",
      "   Non-decision Time Speed  Non-decision Time Accuracy         BIC  \n",
      "0                 0.338487                    0.379213 -467.550925  \n",
      "16\n"
     ]
    },
    {
     "name": "stderr",
     "output_type": "stream",
     "text": [
      "Info: Params [0.60212397 1.65419092 0.71551504 0.39516631 0.09727114 0.14341286\n",
      " 0.25875427] gave 372.0586006861789\n",
      "Warning: This function (from_pandas_dataframe()) is deprecated and will be removed in a future version of PyDDM.  Please use the choice_column_name argument instead.\n"
     ]
    },
    {
     "name": "stdout",
     "output_type": "stream",
     "text": [
      "     Vspeed      Vacc  Boundary Separation  Collapse Speed  Collapse Accuracy  \\\n",
      "0  0.602124  1.654191             0.715515        0.395166           0.097271   \n",
      "\n",
      "   Non-decision Time Speed  Non-decision Time Accuracy         BIC  \n",
      "0                 0.143413                    0.258754  372.058601  \n",
      "17\n"
     ]
    },
    {
     "name": "stderr",
     "output_type": "stream",
     "text": [
      "Info: Params [2.81319181 3.39573806 0.73295853 1.02962449 0.74397094 0.25994146\n",
      " 0.2665593 ] gave -1030.2500032129335\n",
      "Warning: This function (from_pandas_dataframe()) is deprecated and will be removed in a future version of PyDDM.  Please use the choice_column_name argument instead.\n"
     ]
    },
    {
     "name": "stdout",
     "output_type": "stream",
     "text": [
      "     Vspeed      Vacc  Boundary Separation  Collapse Speed  Collapse Accuracy  \\\n",
      "0  2.813192  3.395738             0.732959        1.029624           0.743971   \n",
      "\n",
      "   Non-decision Time Speed  Non-decision Time Accuracy          BIC  \n",
      "0                 0.259941                    0.266559 -1030.250003  \n",
      "18\n"
     ]
    },
    {
     "name": "stderr",
     "output_type": "stream",
     "text": [
      "Info: Params [1.71340448 2.56597852 0.58526682 0.43902434 0.53845384 0.2678714\n",
      " 0.29728189] gave -350.80245914807233\n",
      "Warning: This function (from_pandas_dataframe()) is deprecated and will be removed in a future version of PyDDM.  Please use the choice_column_name argument instead.\n"
     ]
    },
    {
     "name": "stdout",
     "output_type": "stream",
     "text": [
      "     Vspeed      Vacc  Boundary Separation  Collapse Speed  Collapse Accuracy  \\\n",
      "0  1.713404  2.565979             0.585267        0.439024           0.538454   \n",
      "\n",
      "   Non-decision Time Speed  Non-decision Time Accuracy         BIC  \n",
      "0                 0.267871                    0.297282 -350.802459  \n",
      "19\n"
     ]
    },
    {
     "name": "stderr",
     "output_type": "stream",
     "text": [
      "Info: Params [1.4809545  3.30628987 0.8445888  1.38193174 0.76334322 0.19750482\n",
      " 0.27013141] gave -980.7150254452923\n",
      "Warning: This function (from_pandas_dataframe()) is deprecated and will be removed in a future version of PyDDM.  Please use the choice_column_name argument instead.\n"
     ]
    },
    {
     "name": "stdout",
     "output_type": "stream",
     "text": [
      "     Vspeed     Vacc  Boundary Separation  Collapse Speed  Collapse Accuracy  \\\n",
      "0  1.480955  3.30629             0.844589        1.381932           0.763343   \n",
      "\n",
      "   Non-decision Time Speed  Non-decision Time Accuracy         BIC  \n",
      "0                 0.197505                    0.270131 -980.715025  \n",
      "20\n"
     ]
    },
    {
     "name": "stderr",
     "output_type": "stream",
     "text": [
      "Info: Params [0.61652577 1.92602284 0.53352699 0.52700943 0.06808464 0.21396055\n",
      " 0.27101424] gave -330.179616358866\n",
      "Warning: This function (from_pandas_dataframe()) is deprecated and will be removed in a future version of PyDDM.  Please use the choice_column_name argument instead.\n"
     ]
    },
    {
     "name": "stdout",
     "output_type": "stream",
     "text": [
      "     Vspeed      Vacc  Boundary Separation  Collapse Speed  Collapse Accuracy  \\\n",
      "0  0.616526  1.926023             0.533527        0.527009           0.068085   \n",
      "\n",
      "   Non-decision Time Speed  Non-decision Time Accuracy         BIC  \n",
      "0                 0.213961                    0.271014 -330.179616  \n",
      "21\n"
     ]
    },
    {
     "name": "stderr",
     "output_type": "stream",
     "text": [
      "Info: Params [0.41293803 1.30980239 0.75666706 0.67690944 0.56929081 0.15353905\n",
      " 0.32083707] gave 119.1934311752123\n",
      "Warning: This function (from_pandas_dataframe()) is deprecated and will be removed in a future version of PyDDM.  Please use the choice_column_name argument instead.\n"
     ]
    },
    {
     "name": "stdout",
     "output_type": "stream",
     "text": [
      "     Vspeed      Vacc  Boundary Separation  Collapse Speed  Collapse Accuracy  \\\n",
      "0  0.412938  1.309802             0.756667        0.676909           0.569291   \n",
      "\n",
      "   Non-decision Time Speed  Non-decision Time Accuracy         BIC  \n",
      "0                 0.153539                    0.320837  119.193431  \n",
      "22\n"
     ]
    },
    {
     "name": "stderr",
     "output_type": "stream",
     "text": [
      "Info: Params [2.51634578 4.68627657 1.39151468 3.11764706 3.59810799 0.22730451\n",
      " 0.3364849 ] gave -270.1738678493561\n",
      "Warning: This function (from_pandas_dataframe()) is deprecated and will be removed in a future version of PyDDM.  Please use the choice_column_name argument instead.\n"
     ]
    },
    {
     "name": "stdout",
     "output_type": "stream",
     "text": [
      "     Vspeed      Vacc  Boundary Separation  Collapse Speed  Collapse Accuracy  \\\n",
      "0  2.516346  4.686277             1.391515        3.117647           3.598108   \n",
      "\n",
      "   Non-decision Time Speed  Non-decision Time Accuracy         BIC  \n",
      "0                 0.227305                    0.336485 -270.173868  \n",
      "23\n"
     ]
    },
    {
     "name": "stderr",
     "output_type": "stream",
     "text": [
      "Info: Params [1.71702932 3.34288525 0.60333637 1.19024946 1.06759113 0.21457308\n",
      " 0.29246824] gave -1190.9926040558096\n",
      "Warning: This function (from_pandas_dataframe()) is deprecated and will be removed in a future version of PyDDM.  Please use the choice_column_name argument instead.\n"
     ]
    },
    {
     "name": "stdout",
     "output_type": "stream",
     "text": [
      "     Vspeed      Vacc  Boundary Separation  Collapse Speed  Collapse Accuracy  \\\n",
      "0  1.717029  3.342885             0.603336        1.190249           1.067591   \n",
      "\n",
      "   Non-decision Time Speed  Non-decision Time Accuracy          BIC  \n",
      "0                 0.214573                    0.292468 -1190.992604  \n",
      "24\n"
     ]
    },
    {
     "name": "stderr",
     "output_type": "stream",
     "text": [
      "Info: Params [2.0712119  3.99787868 0.69961565 1.1339789  0.6333339  0.24584236\n",
      " 0.32295069] gave -910.9970067810399\n",
      "Warning: This function (from_pandas_dataframe()) is deprecated and will be removed in a future version of PyDDM.  Please use the choice_column_name argument instead.\n"
     ]
    },
    {
     "name": "stdout",
     "output_type": "stream",
     "text": [
      "     Vspeed      Vacc  Boundary Separation  Collapse Speed  Collapse Accuracy  \\\n",
      "0  2.071212  3.997879             0.699616        1.133979           0.633334   \n",
      "\n",
      "   Non-decision Time Speed  Non-decision Time Accuracy         BIC  \n",
      "0                 0.245842                    0.322951 -910.997007  \n",
      "25\n"
     ]
    },
    {
     "name": "stderr",
     "output_type": "stream",
     "text": [
      "Info: Params [0.82415434 2.80646678 0.75257366 0.99173668 1.05625602 0.14480913\n",
      " 0.29383422] gave -550.8628070029321\n",
      "Warning: This function (from_pandas_dataframe()) is deprecated and will be removed in a future version of PyDDM.  Please use the choice_column_name argument instead.\n"
     ]
    },
    {
     "name": "stdout",
     "output_type": "stream",
     "text": [
      "     Vspeed      Vacc  Boundary Separation  Collapse Speed  Collapse Accuracy  \\\n",
      "0  0.824154  2.806467             0.752574        0.991737           1.056256   \n",
      "\n",
      "   Non-decision Time Speed  Non-decision Time Accuracy         BIC  \n",
      "0                 0.144809                    0.293834 -550.862807  \n",
      "26\n"
     ]
    },
    {
     "name": "stderr",
     "output_type": "stream",
     "text": [
      "Info: Params [5.17780735 2.49029288 1.6449884  1.10344827 2.72346287 0.21633779\n",
      " 0.20430076] gave -249.78871287670904\n",
      "Warning: This function (from_pandas_dataframe()) is deprecated and will be removed in a future version of PyDDM.  Please use the choice_column_name argument instead.\n"
     ]
    },
    {
     "name": "stdout",
     "output_type": "stream",
     "text": [
      "     Vspeed      Vacc  Boundary Separation  Collapse Speed  Collapse Accuracy  \\\n",
      "0  5.177807  2.490293             1.644988        1.103448           2.723463   \n",
      "\n",
      "   Non-decision Time Speed  Non-decision Time Accuracy         BIC  \n",
      "0                 0.216338                    0.204301 -249.788713  \n",
      "27\n"
     ]
    },
    {
     "name": "stderr",
     "output_type": "stream",
     "text": [
      "Info: Params [2.26960619 3.92298946 0.56682455 0.64789739 0.42004973 0.24857684\n",
      " 0.29271129] gave -934.9796429759508\n",
      "Warning: This function (from_pandas_dataframe()) is deprecated and will be removed in a future version of PyDDM.  Please use the choice_column_name argument instead.\n"
     ]
    },
    {
     "name": "stdout",
     "output_type": "stream",
     "text": [
      "     Vspeed      Vacc  Boundary Separation  Collapse Speed  Collapse Accuracy  \\\n",
      "0  2.269606  3.922989             0.566825        0.647897            0.42005   \n",
      "\n",
      "   Non-decision Time Speed  Non-decision Time Accuracy         BIC  \n",
      "0                 0.248577                    0.292711 -934.979643  \n",
      "28\n"
     ]
    },
    {
     "name": "stderr",
     "output_type": "stream",
     "text": [
      "Info: Params [2.94210086 3.60287725 0.50709408 0.49374603 0.62108924 0.28953576\n",
      " 0.31728761] gave -954.5428474731964\n",
      "Warning: This function (from_pandas_dataframe()) is deprecated and will be removed in a future version of PyDDM.  Please use the choice_column_name argument instead.\n"
     ]
    },
    {
     "name": "stdout",
     "output_type": "stream",
     "text": [
      "     Vspeed      Vacc  Boundary Separation  Collapse Speed  Collapse Accuracy  \\\n",
      "0  2.942101  3.602877             0.507094        0.493746           0.621089   \n",
      "\n",
      "   Non-decision Time Speed  Non-decision Time Accuracy         BIC  \n",
      "0                 0.289536                    0.317288 -954.542847  \n",
      "29\n"
     ]
    },
    {
     "name": "stderr",
     "output_type": "stream",
     "text": [
      "Info: Params [2.98829764 2.77701052 0.62616076 0.87500121 0.53333333 0.31243169\n",
      " 0.31370048] gave -803.4116023635038\n",
      "Warning: This function (from_pandas_dataframe()) is deprecated and will be removed in a future version of PyDDM.  Please use the choice_column_name argument instead.\n"
     ]
    },
    {
     "name": "stdout",
     "output_type": "stream",
     "text": [
      "     Vspeed      Vacc  Boundary Separation  Collapse Speed  Collapse Accuracy  \\\n",
      "0  2.988298  2.777011             0.626161        0.875001           0.533333   \n",
      "\n",
      "   Non-decision Time Speed  Non-decision Time Accuracy         BIC  \n",
      "0                 0.312432                      0.3137 -803.411602  \n",
      "30\n"
     ]
    },
    {
     "name": "stderr",
     "output_type": "stream",
     "text": [
      "Info: Params [1.622927   3.56948293 0.72326223 0.45873228 0.4941179  0.21919912\n",
      " 0.30933372] gave -303.0162963917467\n",
      "Warning: This function (from_pandas_dataframe()) is deprecated and will be removed in a future version of PyDDM.  Please use the choice_column_name argument instead.\n"
     ]
    },
    {
     "name": "stdout",
     "output_type": "stream",
     "text": [
      "     Vspeed      Vacc  Boundary Separation  Collapse Speed  Collapse Accuracy  \\\n",
      "0  1.622927  3.569483             0.723262        0.458732           0.494118   \n",
      "\n",
      "   Non-decision Time Speed  Non-decision Time Accuracy         BIC  \n",
      "0                 0.219199                    0.309334 -303.016296  \n",
      "31\n"
     ]
    },
    {
     "name": "stderr",
     "output_type": "stream",
     "text": [
      "Info: Params [1.930064   3.41733547 0.66170008 1.11904828 0.94286049 0.24146622\n",
      " 0.28201175] gave -1358.3382738584016\n"
     ]
    },
    {
     "name": "stdout",
     "output_type": "stream",
     "text": [
      "     Vspeed      Vacc  Boundary Separation  Collapse Speed  Collapse Accuracy  \\\n",
      "0  1.930064  3.417335               0.6617        1.119048            0.94286   \n",
      "\n",
      "   Non-decision Time Speed  Non-decision Time Accuracy          BIC  \n",
      "0                 0.241466                    0.282012 -1358.338274  \n"
     ]
    }
   ],
   "source": [
    "df_all = pd.DataFrame()\n",
    "for i in range(sample_size):\n",
    "    print(i)\n",
    "    path = os.path.join(data_dir+str(i+1)+\".csv\")\n",
    "    df = pd.read_csv(path, sep = \",\")\n",
    "    #df = df[df[\"cond\"]==SAT] # A condition\n",
    "    df = df[df[\"Time\"]<5]\n",
    "\n",
    "    samp = Sample.from_pandas_dataframe(df, rt_column_name=\"Time\", correct_column_name=\"Correct\")\n",
    "    df = get_DDM_result_sub_2v2c2ter(samp)\n",
    "    df_all = pd.concat((df_all,df))\n",
    "    print(df)\n",
    "df_OUM = df_all.copy()\n"
   ]
  },
  {
   "cell_type": "code",
   "execution_count": 5,
   "id": "3b05a53a",
   "metadata": {},
   "outputs": [],
   "source": [
    "df_OUM.to_csv(\"DDM2v2c2terresultDutilh2013.csv\")"
   ]
  },
  {
   "cell_type": "code",
   "execution_count": 6,
   "id": "87e8797e",
   "metadata": {},
   "outputs": [
    {
     "data": {
      "text/plain": [
       "-372.63627751235333"
      ]
     },
     "execution_count": 6,
     "metadata": {},
     "output_type": "execute_result"
    }
   ],
   "source": [
    "df_OUM[\"BIC\"].mean()"
   ]
  },
  {
   "cell_type": "code",
   "execution_count": null,
   "id": "c5baddcf",
   "metadata": {},
   "outputs": [],
   "source": []
  }
 ],
 "metadata": {
  "kernelspec": {
   "display_name": "Python 3 (ipykernel)",
   "language": "python",
   "name": "python3"
  },
  "language_info": {
   "codemirror_mode": {
    "name": "ipython",
    "version": 3
   },
   "file_extension": ".py",
   "mimetype": "text/x-python",
   "name": "python",
   "nbconvert_exporter": "python",
   "pygments_lexer": "ipython3",
   "version": "3.11.4"
  }
 },
 "nbformat": 4,
 "nbformat_minor": 5
}
