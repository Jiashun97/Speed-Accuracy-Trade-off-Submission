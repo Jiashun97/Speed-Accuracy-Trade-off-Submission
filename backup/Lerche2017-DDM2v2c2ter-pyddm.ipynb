{
 "cells": [
  {
   "cell_type": "code",
   "execution_count": 1,
   "id": "2cda49de",
   "metadata": {},
   "outputs": [],
   "source": [
    "%run SAT_help_functions.ipynb"
   ]
  },
  {
   "cell_type": "code",
   "execution_count": null,
   "id": "bc081cf9",
   "metadata": {},
   "outputs": [],
   "source": []
  },
  {
   "cell_type": "markdown",
   "id": "4bd26666",
   "metadata": {},
   "source": [
    "## OUM"
   ]
  },
  {
   "cell_type": "code",
   "execution_count": null,
   "id": "9ef6c434",
   "metadata": {},
   "outputs": [],
   "source": []
  },
  {
   "cell_type": "code",
   "execution_count": 2,
   "id": "e776257c",
   "metadata": {},
   "outputs": [],
   "source": [
    "data_dir = \"/Users/wangjiashun/Desktop/Reserach on SAT/datasets/Evans2021/Lerche2017/dataBySubject/sub\"\n",
    "sample_size = 38\n",
    "SAT_conds = [\"Speed\", \"Accuracy\"]"
   ]
  },
  {
   "cell_type": "code",
   "execution_count": 3,
   "id": "ac62591a",
   "metadata": {},
   "outputs": [],
   "source": [
    "\n",
    "class DriftConstantSpeedAcc(Drift):\n",
    "    name = \"DriftConstantSpeedAcc\"\n",
    "    required_parameters = [\"Vspeed\",\"Vacc\"]\n",
    "    required_conditions = ['Cond']\n",
    "        \n",
    "    def get_drift(self, x, t, conditions, **kwargs):\n",
    "        if conditions['Cond'] == 'Speed':\n",
    "            return self.Vspeed\n",
    "        elif conditions['Cond'] == 'Accuracy':\n",
    "            return self.Vacc\n",
    "\n",
    "class BoundCollapsingLinearSAT(BoundCollapsingLinear):\n",
    "    name = \"BoundSpeedAcc\"\n",
    "    required_parameters = [\"B\", \"cSpeed\", 'cAcc']\n",
    "    required_conditions = ['Cond']\n",
    "        \n",
    "    def get_bound(self, t, conditions, **kwargs):\n",
    "        if conditions['Cond'] == 'Speed':\n",
    "            return max(self.B - self.cSpeed*t, 0.)\n",
    "        elif conditions['Cond'] == 'Accuracy':\n",
    "            return max(self.B - self.cAcc*t, 0.)\n",
    "\n",
    "class NondecisionSpeedAcc(OverlayNonDecision):\n",
    "    name = \"NondecisionSpeedAcc\"\n",
    "    required_parameters = [\"tSpeed\", 'tAcc']\n",
    "    required_conditions = ['Cond']\n",
    "        \n",
    "    def get_nondecision_time(self, conditions, **kwargs):\n",
    "        if conditions['Cond'] == 'Speed':\n",
    "            return self.tSpeed \n",
    "        elif conditions['Cond'] == 'Accuracy':\n",
    "            return self.tAcc"
   ]
  },
  {
   "cell_type": "code",
   "execution_count": null,
   "id": "8a3f5185",
   "metadata": {},
   "outputs": [],
   "source": []
  },
  {
   "cell_type": "code",
   "execution_count": 4,
   "id": "fdb13001",
   "metadata": {
    "scrolled": true
   },
   "outputs": [
    {
     "name": "stderr",
     "output_type": "stream",
     "text": [
      "Warning: This function (from_pandas_dataframe()) is deprecated and will be removed in a future version of PyDDM.  Please use the choice_column_name argument instead.\n",
      "Warning: dt is large.  Estimated pdfs may be imprecise.  Decrease dt to 0.01 or less.\n"
     ]
    },
    {
     "name": "stdout",
     "output_type": "stream",
     "text": [
      "0\n"
     ]
    },
    {
     "name": "stderr",
     "output_type": "stream",
     "text": [
      "Info: Params [1.03725294 0.07918976 4.26940935 3.91665304 0.15032259 0.10562364\n",
      " 0.99982898] gave 911.4969537606495\n",
      "Warning: This function (from_pandas_dataframe()) is deprecated and will be removed in a future version of PyDDM.  Please use the choice_column_name argument instead.\n",
      "Warning: dt is large.  Estimated pdfs may be imprecise.  Decrease dt to 0.01 or less.\n"
     ]
    },
    {
     "name": "stdout",
     "output_type": "stream",
     "text": [
      "     Vspeed     Vacc  Boundary Separation  Collapse Speed  Collapse Accuracy  \\\n",
      "0  1.037253  0.07919             4.269409        3.916653           0.150323   \n",
      "\n",
      "   Non-decision Time Speed  Non-decision Time Accuracy         BIC  \n",
      "0                 0.105624                    0.999829  911.496954  \n",
      "1\n"
     ]
    },
    {
     "name": "stderr",
     "output_type": "stream",
     "text": [
      "Info: Params [0.32320838 0.19023546 4.10267383 0.3049336  0.18275985 0.32175338\n",
      " 0.84440378] gave 982.1104901931584\n",
      "Warning: This function (from_pandas_dataframe()) is deprecated and will be removed in a future version of PyDDM.  Please use the choice_column_name argument instead.\n",
      "Warning: dt is large.  Estimated pdfs may be imprecise.  Decrease dt to 0.01 or less.\n"
     ]
    },
    {
     "name": "stdout",
     "output_type": "stream",
     "text": [
      "     Vspeed      Vacc  Boundary Separation  Collapse Speed  Collapse Accuracy  \\\n",
      "0  0.323208  0.190235             4.102674        0.304934            0.18276   \n",
      "\n",
      "   Non-decision Time Speed  Non-decision Time Accuracy        BIC  \n",
      "0                 0.321753                    0.844404  982.11049  \n",
      "2\n"
     ]
    },
    {
     "name": "stderr",
     "output_type": "stream",
     "text": [
      "Info: Params [1.08175831e-03 9.07879669e-02 8.19126552e-01 8.86815285e-05\n",
      " 3.21511952e+00 1.53782788e-01 3.99619135e-01] gave 475.99540576353434\n",
      "Warning: This function (from_pandas_dataframe()) is deprecated and will be removed in a future version of PyDDM.  Please use the choice_column_name argument instead.\n",
      "Warning: dt is large.  Estimated pdfs may be imprecise.  Decrease dt to 0.01 or less.\n"
     ]
    },
    {
     "name": "stdout",
     "output_type": "stream",
     "text": [
      "     Vspeed      Vacc  Boundary Separation  Collapse Speed  Collapse Accuracy  \\\n",
      "0  0.001082  0.090788             0.819127        0.000089            3.21512   \n",
      "\n",
      "   Non-decision Time Speed  Non-decision Time Accuracy         BIC  \n",
      "0                 0.153783                    0.399619  475.995406  \n",
      "3\n"
     ]
    },
    {
     "name": "stderr",
     "output_type": "stream",
     "text": [
      "Info: Params [0.10429503 0.09296852 1.75628864 0.17142859 0.06920564 0.17092767\n",
      " 0.86386217] gave 831.7526947750642\n",
      "Warning: This function (from_pandas_dataframe()) is deprecated and will be removed in a future version of PyDDM.  Please use the choice_column_name argument instead.\n",
      "Warning: dt is large.  Estimated pdfs may be imprecise.  Decrease dt to 0.01 or less.\n"
     ]
    },
    {
     "name": "stdout",
     "output_type": "stream",
     "text": [
      "     Vspeed      Vacc  Boundary Separation  Collapse Speed  Collapse Accuracy  \\\n",
      "0  0.104295  0.092969             1.756289        0.171429           0.069206   \n",
      "\n",
      "   Non-decision Time Speed  Non-decision Time Accuracy         BIC  \n",
      "0                 0.170928                    0.863862  831.752695  \n",
      "4\n"
     ]
    },
    {
     "name": "stderr",
     "output_type": "stream",
     "text": [
      "Info: Params [0.17191688 0.13082369 3.22840699 0.06122447 0.01686733 0.45047141\n",
      " 0.93270227] gave 1168.2670447085934\n",
      "Warning: This function (from_pandas_dataframe()) is deprecated and will be removed in a future version of PyDDM.  Please use the choice_column_name argument instead.\n",
      "Warning: dt is large.  Estimated pdfs may be imprecise.  Decrease dt to 0.01 or less.\n"
     ]
    },
    {
     "name": "stdout",
     "output_type": "stream",
     "text": [
      "     Vspeed      Vacc  Boundary Separation  Collapse Speed  Collapse Accuracy  \\\n",
      "0  0.171917  0.130824             3.228407        0.061224           0.016867   \n",
      "\n",
      "   Non-decision Time Speed  Non-decision Time Accuracy          BIC  \n",
      "0                 0.450471                    0.932702  1168.267045  \n",
      "5\n"
     ]
    },
    {
     "name": "stderr",
     "output_type": "stream",
     "text": [
      "Info: Params [0.26016023 0.11458701 2.9254808  0.68844784 0.01412782 0.12805504\n",
      " 0.94028103] gave 964.7802606926334\n",
      "Warning: This function (from_pandas_dataframe()) is deprecated and will be removed in a future version of PyDDM.  Please use the choice_column_name argument instead.\n",
      "Warning: dt is large.  Estimated pdfs may be imprecise.  Decrease dt to 0.01 or less.\n"
     ]
    },
    {
     "name": "stdout",
     "output_type": "stream",
     "text": [
      "    Vspeed      Vacc  Boundary Separation  Collapse Speed  Collapse Accuracy  \\\n",
      "0  0.26016  0.114587             2.925481        0.688448           0.014128   \n",
      "\n",
      "   Non-decision Time Speed  Non-decision Time Accuracy         BIC  \n",
      "0                 0.128055                    0.940281  964.780261  \n",
      "6\n"
     ]
    },
    {
     "name": "stderr",
     "output_type": "stream",
     "text": [
      "Info: Params [0.59668731 0.26672987 1.80861332 3.6027132  0.08451949 0.14801033\n",
      " 0.94541331] gave 577.0885895844817\n",
      "Warning: This function (from_pandas_dataframe()) is deprecated and will be removed in a future version of PyDDM.  Please use the choice_column_name argument instead.\n",
      "Warning: dt is large.  Estimated pdfs may be imprecise.  Decrease dt to 0.01 or less.\n"
     ]
    },
    {
     "name": "stdout",
     "output_type": "stream",
     "text": [
      "     Vspeed     Vacc  Boundary Separation  Collapse Speed  Collapse Accuracy  \\\n",
      "0  0.596687  0.26673             1.808613        3.602713           0.084519   \n",
      "\n",
      "   Non-decision Time Speed  Non-decision Time Accuracy        BIC  \n",
      "0                  0.14801                    0.945413  577.08859  \n",
      "7\n"
     ]
    },
    {
     "name": "stderr",
     "output_type": "stream",
     "text": [
      "Info: Params [0.20694783 0.2565372  1.63962402 0.64782199 0.1054054  0.22303193\n",
      " 0.75572035] gave 591.0679444541195\n",
      "Warning: This function (from_pandas_dataframe()) is deprecated and will be removed in a future version of PyDDM.  Please use the choice_column_name argument instead.\n",
      "Warning: dt is large.  Estimated pdfs may be imprecise.  Decrease dt to 0.01 or less.\n"
     ]
    },
    {
     "name": "stdout",
     "output_type": "stream",
     "text": [
      "     Vspeed      Vacc  Boundary Separation  Collapse Speed  Collapse Accuracy  \\\n",
      "0  0.206948  0.256537             1.639624        0.647822           0.105405   \n",
      "\n",
      "   Non-decision Time Speed  Non-decision Time Accuracy         BIC  \n",
      "0                 0.223032                     0.75572  591.067944  \n",
      "8\n"
     ]
    },
    {
     "name": "stderr",
     "output_type": "stream",
     "text": [
      "Info: Params [0.2247056  0.12254907 0.50958381 2.24044653 3.69054141 0.1722252\n",
      " 0.13393278] gave 676.5068595584695\n",
      "Warning: This function (from_pandas_dataframe()) is deprecated and will be removed in a future version of PyDDM.  Please use the choice_column_name argument instead.\n",
      "Warning: dt is large.  Estimated pdfs may be imprecise.  Decrease dt to 0.01 or less.\n"
     ]
    },
    {
     "name": "stdout",
     "output_type": "stream",
     "text": [
      "     Vspeed      Vacc  Boundary Separation  Collapse Speed  Collapse Accuracy  \\\n",
      "0  0.224706  0.122549             0.509584        2.240447           3.690541   \n",
      "\n",
      "   Non-decision Time Speed  Non-decision Time Accuracy        BIC  \n",
      "0                 0.172225                    0.133933  676.50686  \n",
      "9\n"
     ]
    },
    {
     "name": "stderr",
     "output_type": "stream",
     "text": [
      "Info: Params [0.         0.10670204 1.99193003 0.16482096 0.09148936 0.18226529\n",
      " 0.1511168 ] gave 915.4480143910492\n",
      "Warning: This function (from_pandas_dataframe()) is deprecated and will be removed in a future version of PyDDM.  Please use the choice_column_name argument instead.\n",
      "Warning: dt is large.  Estimated pdfs may be imprecise.  Decrease dt to 0.01 or less.\n"
     ]
    },
    {
     "name": "stdout",
     "output_type": "stream",
     "text": [
      "   Vspeed      Vacc  Boundary Separation  Collapse Speed  Collapse Accuracy  \\\n",
      "0     0.0  0.106702              1.99193        0.164821           0.091489   \n",
      "\n",
      "   Non-decision Time Speed  Non-decision Time Accuracy         BIC  \n",
      "0                 0.182265                    0.151117  915.448014  \n",
      "10\n"
     ]
    },
    {
     "name": "stderr",
     "output_type": "stream",
     "text": [
      "Info: Params [0.64360699 0.18861858 3.27625978 0.85940003 0.06177695 0.16535627\n",
      " 0.95087881] gave 816.4469697658159\n",
      "Warning: This function (from_pandas_dataframe()) is deprecated and will be removed in a future version of PyDDM.  Please use the choice_column_name argument instead.\n",
      "Warning: dt is large.  Estimated pdfs may be imprecise.  Decrease dt to 0.01 or less.\n"
     ]
    },
    {
     "name": "stdout",
     "output_type": "stream",
     "text": [
      "     Vspeed      Vacc  Boundary Separation  Collapse Speed  Collapse Accuracy  \\\n",
      "0  0.643607  0.188619              3.27626          0.8594           0.061777   \n",
      "\n",
      "   Non-decision Time Speed  Non-decision Time Accuracy        BIC  \n",
      "0                 0.165356                    0.950879  816.44697  \n",
      "11\n"
     ]
    },
    {
     "name": "stderr",
     "output_type": "stream",
     "text": [
      "Info: Params [2.77042885e-04 5.55261634e+00 7.29999932e-01 3.06622290e-03\n",
      " 2.51329987e+00 3.92875215e-01 6.31459552e-01] gave 768.3464283169966\n",
      "Warning: This function (from_pandas_dataframe()) is deprecated and will be removed in a future version of PyDDM.  Please use the choice_column_name argument instead.\n",
      "Warning: dt is large.  Estimated pdfs may be imprecise.  Decrease dt to 0.01 or less.\n"
     ]
    },
    {
     "name": "stdout",
     "output_type": "stream",
     "text": [
      "     Vspeed      Vacc  Boundary Separation  Collapse Speed  Collapse Accuracy  \\\n",
      "0  0.000277  5.552616                 0.73        0.003066             2.5133   \n",
      "\n",
      "   Non-decision Time Speed  Non-decision Time Accuracy         BIC  \n",
      "0                 0.392875                     0.63146  768.346428  \n",
      "12\n"
     ]
    },
    {
     "name": "stderr",
     "output_type": "stream",
     "text": [
      "Info: Params [0.25940764 0.25864353 1.82226391 0.51458469 0.06771691 0.45874765\n",
      " 0.91432137] gave 676.9495309549267\n",
      "Warning: This function (from_pandas_dataframe()) is deprecated and will be removed in a future version of PyDDM.  Please use the choice_column_name argument instead.\n",
      "Warning: dt is large.  Estimated pdfs may be imprecise.  Decrease dt to 0.01 or less.\n"
     ]
    },
    {
     "name": "stdout",
     "output_type": "stream",
     "text": [
      "     Vspeed      Vacc  Boundary Separation  Collapse Speed  Collapse Accuracy  \\\n",
      "0  0.259408  0.258644             1.822264        0.514585           0.067717   \n",
      "\n",
      "   Non-decision Time Speed  Non-decision Time Accuracy         BIC  \n",
      "0                 0.458748                    0.914321  676.949531  \n",
      "13\n"
     ]
    },
    {
     "name": "stderr",
     "output_type": "stream",
     "text": [
      "Info: Params [0.20727481 0.19341165 3.79179714 0.76363636 0.06104374 0.10081459\n",
      " 0.65623525] gave 900.8563537054301\n",
      "Warning: This function (from_pandas_dataframe()) is deprecated and will be removed in a future version of PyDDM.  Please use the choice_column_name argument instead.\n",
      "Warning: dt is large.  Estimated pdfs may be imprecise.  Decrease dt to 0.01 or less.\n"
     ]
    },
    {
     "name": "stdout",
     "output_type": "stream",
     "text": [
      "     Vspeed      Vacc  Boundary Separation  Collapse Speed  Collapse Accuracy  \\\n",
      "0  0.207275  0.193412             3.791797        0.763636           0.061044   \n",
      "\n",
      "   Non-decision Time Speed  Non-decision Time Accuracy         BIC  \n",
      "0                 0.100815                    0.656235  900.856354  \n",
      "14\n"
     ]
    },
    {
     "name": "stderr",
     "output_type": "stream",
     "text": [
      "Info: Params [0.09524756 5.87800332 0.56985675 1.16656987 3.48637412 0.21749719\n",
      " 0.97606746] gave 921.9392827984365\n",
      "Warning: This function (from_pandas_dataframe()) is deprecated and will be removed in a future version of PyDDM.  Please use the choice_column_name argument instead.\n",
      "Warning: dt is large.  Estimated pdfs may be imprecise.  Decrease dt to 0.01 or less.\n"
     ]
    },
    {
     "name": "stdout",
     "output_type": "stream",
     "text": [
      "     Vspeed      Vacc  Boundary Separation  Collapse Speed  Collapse Accuracy  \\\n",
      "0  0.095248  5.878003             0.569857         1.16657           3.486374   \n",
      "\n",
      "   Non-decision Time Speed  Non-decision Time Accuracy         BIC  \n",
      "0                 0.217497                    0.976067  921.939283  \n",
      "15\n"
     ]
    },
    {
     "name": "stderr",
     "output_type": "stream",
     "text": [
      "Info: Params [0.01906603 0.06432947 3.41589842 1.32271375 0.02860263 0.15953662\n",
      " 0.85609694] gave 929.9438210369233\n",
      "Warning: This function (from_pandas_dataframe()) is deprecated and will be removed in a future version of PyDDM.  Please use the choice_column_name argument instead.\n",
      "Warning: dt is large.  Estimated pdfs may be imprecise.  Decrease dt to 0.01 or less.\n"
     ]
    },
    {
     "name": "stdout",
     "output_type": "stream",
     "text": [
      "     Vspeed      Vacc  Boundary Separation  Collapse Speed  Collapse Accuracy  \\\n",
      "0  0.019066  0.064329             3.415898        1.322714           0.028603   \n",
      "\n",
      "   Non-decision Time Speed  Non-decision Time Accuracy         BIC  \n",
      "0                 0.159537                    0.856097  929.943821  \n",
      "16\n"
     ]
    },
    {
     "name": "stderr",
     "output_type": "stream",
     "text": [
      "Info: Params [0.26119832 0.22117648 1.95165815 0.3586199  0.20228793 0.13924955\n",
      " 0.93362201] gave 708.2006815670294\n",
      "Warning: This function (from_pandas_dataframe()) is deprecated and will be removed in a future version of PyDDM.  Please use the choice_column_name argument instead.\n",
      "Warning: dt is large.  Estimated pdfs may be imprecise.  Decrease dt to 0.01 or less.\n"
     ]
    },
    {
     "name": "stdout",
     "output_type": "stream",
     "text": [
      "     Vspeed      Vacc  Boundary Separation  Collapse Speed  Collapse Accuracy  \\\n",
      "0  0.261198  0.221176             1.951658         0.35862           0.202288   \n",
      "\n",
      "   Non-decision Time Speed  Non-decision Time Accuracy         BIC  \n",
      "0                  0.13925                    0.933622  708.200682  \n",
      "17\n"
     ]
    },
    {
     "name": "stderr",
     "output_type": "stream",
     "text": [
      "Info: Params [0.29919128 0.13624626 1.63971239 0.68421054 0.         0.13536786\n",
      " 0.3793626 ] gave 701.9752921528849\n",
      "Warning: This function (from_pandas_dataframe()) is deprecated and will be removed in a future version of PyDDM.  Please use the choice_column_name argument instead.\n",
      "Warning: dt is large.  Estimated pdfs may be imprecise.  Decrease dt to 0.01 or less.\n"
     ]
    },
    {
     "name": "stdout",
     "output_type": "stream",
     "text": [
      "     Vspeed      Vacc  Boundary Separation  Collapse Speed  Collapse Accuracy  \\\n",
      "0  0.299191  0.136246             1.639712        0.684211                0.0   \n",
      "\n",
      "   Non-decision Time Speed  Non-decision Time Accuracy         BIC  \n",
      "0                 0.135368                    0.379363  701.975292  \n",
      "18\n"
     ]
    },
    {
     "name": "stderr",
     "output_type": "stream",
     "text": [
      "Info: Params [0.24188691 0.11793261 1.76928248 0.09861111 0.01556515 0.82344058\n",
      " 0.96828495] gave 841.9095882422115\n",
      "Warning: This function (from_pandas_dataframe()) is deprecated and will be removed in a future version of PyDDM.  Please use the choice_column_name argument instead.\n",
      "Warning: dt is large.  Estimated pdfs may be imprecise.  Decrease dt to 0.01 or less.\n"
     ]
    },
    {
     "name": "stdout",
     "output_type": "stream",
     "text": [
      "     Vspeed      Vacc  Boundary Separation  Collapse Speed  Collapse Accuracy  \\\n",
      "0  0.241887  0.117933             1.769282        0.098611           0.015565   \n",
      "\n",
      "   Non-decision Time Speed  Non-decision Time Accuracy         BIC  \n",
      "0                 0.823441                    0.968285  841.909588  \n",
      "19\n"
     ]
    },
    {
     "name": "stderr",
     "output_type": "stream",
     "text": [
      "Info: Params [0.70142302 0.18932479 4.69913157 3.9998185  0.08242385 0.12336915\n",
      " 0.91610135] gave 907.579161405088\n",
      "Warning: This function (from_pandas_dataframe()) is deprecated and will be removed in a future version of PyDDM.  Please use the choice_column_name argument instead.\n",
      "Warning: dt is large.  Estimated pdfs may be imprecise.  Decrease dt to 0.01 or less.\n"
     ]
    },
    {
     "name": "stdout",
     "output_type": "stream",
     "text": [
      "     Vspeed      Vacc  Boundary Separation  Collapse Speed  Collapse Accuracy  \\\n",
      "0  0.701423  0.189325             4.699132        3.999819           0.082424   \n",
      "\n",
      "   Non-decision Time Speed  Non-decision Time Accuracy         BIC  \n",
      "0                 0.123369                    0.916101  907.579161  \n",
      "20\n"
     ]
    },
    {
     "name": "stderr",
     "output_type": "stream",
     "text": [
      "Info: Params [0.53499844 2.9902886  0.95945477 2.50855028 2.62722323 0.39795566\n",
      " 0.8353117 ] gave 703.4484816363721\n",
      "Warning: This function (from_pandas_dataframe()) is deprecated and will be removed in a future version of PyDDM.  Please use the choice_column_name argument instead.\n",
      "Warning: dt is large.  Estimated pdfs may be imprecise.  Decrease dt to 0.01 or less.\n"
     ]
    },
    {
     "name": "stdout",
     "output_type": "stream",
     "text": [
      "     Vspeed      Vacc  Boundary Separation  Collapse Speed  Collapse Accuracy  \\\n",
      "0  0.534998  2.990289             0.959455         2.50855           2.627223   \n",
      "\n",
      "   Non-decision Time Speed  Non-decision Time Accuracy         BIC  \n",
      "0                 0.397956                    0.835312  703.448482  \n",
      "21\n"
     ]
    },
    {
     "name": "stderr",
     "output_type": "stream",
     "text": [
      "Info: Params [0.         0.02486273 1.07207684 0.20979966 0.26173144 0.32375605\n",
      " 0.56780575] gave 490.97234387643095\n",
      "Warning: This function (from_pandas_dataframe()) is deprecated and will be removed in a future version of PyDDM.  Please use the choice_column_name argument instead.\n",
      "Warning: dt is large.  Estimated pdfs may be imprecise.  Decrease dt to 0.01 or less.\n"
     ]
    },
    {
     "name": "stdout",
     "output_type": "stream",
     "text": [
      "   Vspeed      Vacc  Boundary Separation  Collapse Speed  Collapse Accuracy  \\\n",
      "0     0.0  0.024863             1.072077          0.2098           0.261731   \n",
      "\n",
      "   Non-decision Time Speed  Non-decision Time Accuracy         BIC  \n",
      "0                 0.323756                    0.567806  490.972344  \n",
      "22\n"
     ]
    },
    {
     "name": "stderr",
     "output_type": "stream",
     "text": [
      "Info: Params [8.43355984e-01 1.49649155e-01 1.95871768e+00 3.90472586e+00\n",
      " 2.86568918e-03 1.56894523e-01 9.34714679e-01] gave 697.5050951660461\n",
      "Warning: This function (from_pandas_dataframe()) is deprecated and will be removed in a future version of PyDDM.  Please use the choice_column_name argument instead.\n",
      "Warning: dt is large.  Estimated pdfs may be imprecise.  Decrease dt to 0.01 or less.\n"
     ]
    },
    {
     "name": "stdout",
     "output_type": "stream",
     "text": [
      "     Vspeed      Vacc  Boundary Separation  Collapse Speed  Collapse Accuracy  \\\n",
      "0  0.843356  0.149649             1.958718        3.904726           0.002866   \n",
      "\n",
      "   Non-decision Time Speed  Non-decision Time Accuracy         BIC  \n",
      "0                 0.156895                    0.934715  697.505095  \n",
      "23\n"
     ]
    },
    {
     "name": "stderr",
     "output_type": "stream",
     "text": [
      "Info: Params [0.20714046 0.15403619 3.91393387 0.19611835 0.1474801  0.64075911\n",
      " 0.4402366 ] gave 1060.3593266441885\n",
      "Warning: This function (from_pandas_dataframe()) is deprecated and will be removed in a future version of PyDDM.  Please use the choice_column_name argument instead.\n",
      "Warning: dt is large.  Estimated pdfs may be imprecise.  Decrease dt to 0.01 or less.\n"
     ]
    },
    {
     "name": "stdout",
     "output_type": "stream",
     "text": [
      "    Vspeed      Vacc  Boundary Separation  Collapse Speed  Collapse Accuracy  \\\n",
      "0  0.20714  0.154036             3.913934        0.196118            0.14748   \n",
      "\n",
      "   Non-decision Time Speed  Non-decision Time Accuracy          BIC  \n",
      "0                 0.640759                    0.440237  1060.359327  \n",
      "24\n"
     ]
    },
    {
     "name": "stderr",
     "output_type": "stream",
     "text": [
      "Info: Params [0.37581422 5.59999051 0.73873106 0.44843979 3.97162844 0.34834249\n",
      " 0.52242832] gave 329.30082879789416\n",
      "Warning: This function (from_pandas_dataframe()) is deprecated and will be removed in a future version of PyDDM.  Please use the choice_column_name argument instead.\n",
      "Warning: dt is large.  Estimated pdfs may be imprecise.  Decrease dt to 0.01 or less.\n"
     ]
    },
    {
     "name": "stdout",
     "output_type": "stream",
     "text": [
      "     Vspeed      Vacc  Boundary Separation  Collapse Speed  Collapse Accuracy  \\\n",
      "0  0.375814  5.599991             0.738731         0.44844           3.971628   \n",
      "\n",
      "   Non-decision Time Speed  Non-decision Time Accuracy         BIC  \n",
      "0                 0.348342                    0.522428  329.300829  \n",
      "25\n"
     ]
    },
    {
     "name": "stderr",
     "output_type": "stream",
     "text": [
      "Info: Params [0.19311234 0.09670893 0.62999894 0.02731087 2.9750059  0.43164659\n",
      " 0.18342422] gave 877.3671769891729\n",
      "Warning: This function (from_pandas_dataframe()) is deprecated and will be removed in a future version of PyDDM.  Please use the choice_column_name argument instead.\n",
      "Warning: dt is large.  Estimated pdfs may be imprecise.  Decrease dt to 0.01 or less.\n"
     ]
    },
    {
     "name": "stdout",
     "output_type": "stream",
     "text": [
      "     Vspeed      Vacc  Boundary Separation  Collapse Speed  Collapse Accuracy  \\\n",
      "0  0.193112  0.096709             0.629999        0.027311           2.975006   \n",
      "\n",
      "   Non-decision Time Speed  Non-decision Time Accuracy         BIC  \n",
      "0                 0.431647                    0.183424  877.367177  \n",
      "26\n"
     ]
    },
    {
     "name": "stderr",
     "output_type": "stream",
     "text": [
      "Info: Params [0.18712491 0.16502876 2.73943359 0.60512815 0.03926694 0.14282237\n",
      " 0.9453561 ] gave 883.1269815739539\n",
      "Warning: This function (from_pandas_dataframe()) is deprecated and will be removed in a future version of PyDDM.  Please use the choice_column_name argument instead.\n",
      "Warning: dt is large.  Estimated pdfs may be imprecise.  Decrease dt to 0.01 or less.\n"
     ]
    },
    {
     "name": "stdout",
     "output_type": "stream",
     "text": [
      "     Vspeed      Vacc  Boundary Separation  Collapse Speed  Collapse Accuracy  \\\n",
      "0  0.187125  0.165029             2.739434        0.605128           0.039267   \n",
      "\n",
      "   Non-decision Time Speed  Non-decision Time Accuracy         BIC  \n",
      "0                 0.142822                    0.945356  883.126982  \n",
      "27\n"
     ]
    },
    {
     "name": "stderr",
     "output_type": "stream",
     "text": [
      "Info: Params [0.06806549 0.48030257 0.71991302 3.39265398 2.00813996 0.18640096\n",
      " 0.95177735] gave 1030.4988426912653\n",
      "Warning: This function (from_pandas_dataframe()) is deprecated and will be removed in a future version of PyDDM.  Please use the choice_column_name argument instead.\n",
      "Warning: dt is large.  Estimated pdfs may be imprecise.  Decrease dt to 0.01 or less.\n"
     ]
    },
    {
     "name": "stdout",
     "output_type": "stream",
     "text": [
      "     Vspeed      Vacc  Boundary Separation  Collapse Speed  Collapse Accuracy  \\\n",
      "0  0.068065  0.480303             0.719913        3.392654            2.00814   \n",
      "\n",
      "   Non-decision Time Speed  Non-decision Time Accuracy          BIC  \n",
      "0                 0.186401                    0.951777  1030.498843  \n",
      "28\n"
     ]
    },
    {
     "name": "stderr",
     "output_type": "stream",
     "text": [
      "Info: Params [0.81093746 0.09733139 5.7197751  3.90650714 0.14669772 0.58710345\n",
      " 0.31184839] gave 1086.2619157763352\n",
      "Warning: This function (from_pandas_dataframe()) is deprecated and will be removed in a future version of PyDDM.  Please use the choice_column_name argument instead.\n",
      "Warning: dt is large.  Estimated pdfs may be imprecise.  Decrease dt to 0.01 or less.\n"
     ]
    },
    {
     "name": "stdout",
     "output_type": "stream",
     "text": [
      "     Vspeed      Vacc  Boundary Separation  Collapse Speed  Collapse Accuracy  \\\n",
      "0  0.810937  0.097331             5.719775        3.906507           0.146698   \n",
      "\n",
      "   Non-decision Time Speed  Non-decision Time Accuracy          BIC  \n",
      "0                 0.587103                    0.311848  1086.261916  \n",
      "29\n"
     ]
    },
    {
     "name": "stderr",
     "output_type": "stream",
     "text": [
      "Info: Params [0.16145729 0.21410498 4.68696043 0.39987619 0.44965051 0.91917781\n",
      " 0.9181123 ] gave 887.430992835973\n",
      "Warning: This function (from_pandas_dataframe()) is deprecated and will be removed in a future version of PyDDM.  Please use the choice_column_name argument instead.\n",
      "Warning: dt is large.  Estimated pdfs may be imprecise.  Decrease dt to 0.01 or less.\n"
     ]
    },
    {
     "name": "stdout",
     "output_type": "stream",
     "text": [
      "     Vspeed      Vacc  Boundary Separation  Collapse Speed  Collapse Accuracy  \\\n",
      "0  0.161457  0.214105              4.68696        0.399876           0.449651   \n",
      "\n",
      "   Non-decision Time Speed  Non-decision Time Accuracy         BIC  \n",
      "0                 0.919178                    0.918112  887.430993  \n",
      "30\n"
     ]
    },
    {
     "name": "stderr",
     "output_type": "stream",
     "text": [
      "Info: Params [0.01084671 0.23778839 1.46098914 1.15710976 0.         0.14368384\n",
      " 0.96725421] gave 696.396929600255\n",
      "Warning: This function (from_pandas_dataframe()) is deprecated and will be removed in a future version of PyDDM.  Please use the choice_column_name argument instead.\n",
      "Warning: dt is large.  Estimated pdfs may be imprecise.  Decrease dt to 0.01 or less.\n"
     ]
    },
    {
     "name": "stdout",
     "output_type": "stream",
     "text": [
      "     Vspeed      Vacc  Boundary Separation  Collapse Speed  Collapse Accuracy  \\\n",
      "0  0.010847  0.237788             1.460989         1.15711                0.0   \n",
      "\n",
      "   Non-decision Time Speed  Non-decision Time Accuracy        BIC  \n",
      "0                 0.143684                    0.967254  696.39693  \n",
      "31\n"
     ]
    },
    {
     "name": "stderr",
     "output_type": "stream",
     "text": [
      "Info: Params [0.22754317 0.11466624 2.15268534 0.20232567 0.         0.13310789\n",
      " 0.53015511] gave 1152.104868198649\n",
      "Warning: This function (from_pandas_dataframe()) is deprecated and will be removed in a future version of PyDDM.  Please use the choice_column_name argument instead.\n",
      "Warning: dt is large.  Estimated pdfs may be imprecise.  Decrease dt to 0.01 or less.\n"
     ]
    },
    {
     "name": "stdout",
     "output_type": "stream",
     "text": [
      "     Vspeed      Vacc  Boundary Separation  Collapse Speed  Collapse Accuracy  \\\n",
      "0  0.227543  0.114666             2.152685        0.202326                0.0   \n",
      "\n",
      "   Non-decision Time Speed  Non-decision Time Accuracy          BIC  \n",
      "0                 0.133108                    0.530155  1152.104868  \n",
      "32\n"
     ]
    },
    {
     "name": "stderr",
     "output_type": "stream",
     "text": [
      "Info: Params [3.99226988e-03 1.15674318e+00 5.79638738e-01 1.22927566e-03\n",
      " 2.21509938e+00 1.22732588e-01 6.37275022e-01] gave 561.0954027425742\n",
      "Warning: This function (from_pandas_dataframe()) is deprecated and will be removed in a future version of PyDDM.  Please use the choice_column_name argument instead.\n",
      "Warning: dt is large.  Estimated pdfs may be imprecise.  Decrease dt to 0.01 or less.\n"
     ]
    },
    {
     "name": "stdout",
     "output_type": "stream",
     "text": [
      "     Vspeed      Vacc  Boundary Separation  Collapse Speed  Collapse Accuracy  \\\n",
      "0  0.003992  1.156743             0.579639        0.001229           2.215099   \n",
      "\n",
      "   Non-decision Time Speed  Non-decision Time Accuracy         BIC  \n",
      "0                 0.122733                    0.637275  561.095403  \n",
      "33\n"
     ]
    },
    {
     "name": "stderr",
     "output_type": "stream",
     "text": [
      "Info: Params [0.03021441 0.09324808 1.7664303  0.53181817 0.12727859 0.16533334\n",
      " 0.96733236] gave 680.567907135745\n",
      "Warning: This function (from_pandas_dataframe()) is deprecated and will be removed in a future version of PyDDM.  Please use the choice_column_name argument instead.\n",
      "Warning: dt is large.  Estimated pdfs may be imprecise.  Decrease dt to 0.01 or less.\n"
     ]
    },
    {
     "name": "stdout",
     "output_type": "stream",
     "text": [
      "     Vspeed      Vacc  Boundary Separation  Collapse Speed  Collapse Accuracy  \\\n",
      "0  0.030214  0.093248              1.76643        0.531818           0.127279   \n",
      "\n",
      "   Non-decision Time Speed  Non-decision Time Accuracy         BIC  \n",
      "0                 0.165333                    0.967332  680.567907  \n",
      "34\n"
     ]
    },
    {
     "name": "stderr",
     "output_type": "stream",
     "text": [
      "Info: Params [0.25570262 0.2557213  2.99048361 0.4016423  0.0323782  0.11976641\n",
      " 0.91121222] gave 938.1796030228851\n",
      "Warning: This function (from_pandas_dataframe()) is deprecated and will be removed in a future version of PyDDM.  Please use the choice_column_name argument instead.\n",
      "Warning: dt is large.  Estimated pdfs may be imprecise.  Decrease dt to 0.01 or less.\n"
     ]
    },
    {
     "name": "stdout",
     "output_type": "stream",
     "text": [
      "     Vspeed      Vacc  Boundary Separation  Collapse Speed  Collapse Accuracy  \\\n",
      "0  0.255703  0.255721             2.990484        0.401642           0.032378   \n",
      "\n",
      "   Non-decision Time Speed  Non-decision Time Accuracy         BIC  \n",
      "0                 0.119766                    0.911212  938.179603  \n",
      "35\n"
     ]
    },
    {
     "name": "stderr",
     "output_type": "stream",
     "text": [
      "Info: Params [3.60951293 2.84872265 1.07987524 2.79429925 3.64422781 0.75739848\n",
      " 0.93539378] gave 1161.4603302867154\n",
      "Warning: This function (from_pandas_dataframe()) is deprecated and will be removed in a future version of PyDDM.  Please use the choice_column_name argument instead.\n",
      "Warning: dt is large.  Estimated pdfs may be imprecise.  Decrease dt to 0.01 or less.\n"
     ]
    },
    {
     "name": "stdout",
     "output_type": "stream",
     "text": [
      "     Vspeed      Vacc  Boundary Separation  Collapse Speed  Collapse Accuracy  \\\n",
      "0  3.609513  2.848723             1.079875        2.794299           3.644228   \n",
      "\n",
      "   Non-decision Time Speed  Non-decision Time Accuracy         BIC  \n",
      "0                 0.757398                    0.935394  1161.46033  \n",
      "36\n"
     ]
    },
    {
     "name": "stderr",
     "output_type": "stream",
     "text": [
      "Info: Params [0.17312731 0.09837755 2.48969185 0.29057662 0.47912841 0.55391558\n",
      " 0.98597001] gave 716.5474577846466\n",
      "Warning: This function (from_pandas_dataframe()) is deprecated and will be removed in a future version of PyDDM.  Please use the choice_column_name argument instead.\n",
      "Warning: dt is large.  Estimated pdfs may be imprecise.  Decrease dt to 0.01 or less.\n"
     ]
    },
    {
     "name": "stdout",
     "output_type": "stream",
     "text": [
      "     Vspeed      Vacc  Boundary Separation  Collapse Speed  Collapse Accuracy  \\\n",
      "0  0.173127  0.098378             2.489692        0.290577           0.479128   \n",
      "\n",
      "   Non-decision Time Speed  Non-decision Time Accuracy         BIC  \n",
      "0                 0.553916                     0.98597  716.547458  \n",
      "37\n"
     ]
    },
    {
     "name": "stderr",
     "output_type": "stream",
     "text": [
      "Info: Params [2.50595836e-01 3.09182933e-01 1.61994493e+00 1.85585948e-03\n",
      " 3.02675340e+00 1.34065560e-01 7.50985965e-01] gave 1077.7966433305542\n"
     ]
    },
    {
     "name": "stdout",
     "output_type": "stream",
     "text": [
      "     Vspeed      Vacc  Boundary Separation  Collapse Speed  Collapse Accuracy  \\\n",
      "0  0.250596  0.309183             1.619945        0.001856           3.026753   \n",
      "\n",
      "   Non-decision Time Speed  Non-decision Time Accuracy          BIC  \n",
      "0                 0.134066                    0.750986  1077.796643  \n"
     ]
    }
   ],
   "source": [
    "df_all = pd.DataFrame()\n",
    "for i in range(sample_size):\n",
    "    print(i)\n",
    "    path = os.path.join(data_dir+str(i+1)+\".csv\")\n",
    "    df = pd.read_csv(path, sep = \",\")\n",
    "    #df = df[df[\"cond\"]==SAT] # A condition\n",
    "    df = df[df[\"Time\"]<30]\n",
    "\n",
    "    samp = Sample.from_pandas_dataframe(df, rt_column_name=\"Time\", correct_column_name=\"Correct\")\n",
    "    df = get_DDM_result_sub_2v2c2ter(samp, dt = 0.1, T_dur = 30)\n",
    "    df_all = pd.concat((df_all,df))\n",
    "    print(df)\n",
    "df_OUM = df_all.copy()\n"
   ]
  },
  {
   "cell_type": "code",
   "execution_count": 5,
   "id": "3b05a53a",
   "metadata": {},
   "outputs": [],
   "source": [
    "df_OUM.to_csv(\"DDM2v2c2terresultLerche2017.csv\")"
   ]
  },
  {
   "cell_type": "code",
   "execution_count": 6,
   "id": "87e8797e",
   "metadata": {},
   "outputs": [
    {
     "data": {
      "text/plain": [
       "823.6600656820303"
      ]
     },
     "execution_count": 6,
     "metadata": {},
     "output_type": "execute_result"
    }
   ],
   "source": [
    "df_OUM[\"BIC\"].mean()"
   ]
  },
  {
   "cell_type": "code",
   "execution_count": null,
   "id": "c5baddcf",
   "metadata": {},
   "outputs": [],
   "source": []
  }
 ],
 "metadata": {
  "kernelspec": {
   "display_name": "Python 3 (ipykernel)",
   "language": "python",
   "name": "python3"
  },
  "language_info": {
   "codemirror_mode": {
    "name": "ipython",
    "version": 3
   },
   "file_extension": ".py",
   "mimetype": "text/x-python",
   "name": "python",
   "nbconvert_exporter": "python",
   "pygments_lexer": "ipython3",
   "version": "3.11.4"
  }
 },
 "nbformat": 4,
 "nbformat_minor": 5
}
