{
 "cells": [
  {
   "cell_type": "code",
   "execution_count": 2,
   "id": "2cda49de",
   "metadata": {},
   "outputs": [],
   "source": [
    "%run SAT_help_functions.ipynb"
   ]
  },
  {
   "cell_type": "code",
   "execution_count": null,
   "id": "bc081cf9",
   "metadata": {},
   "outputs": [],
   "source": []
  },
  {
   "cell_type": "markdown",
   "id": "4bd26666",
   "metadata": {},
   "source": [
    "## OUM"
   ]
  },
  {
   "cell_type": "code",
   "execution_count": null,
   "id": "9ef6c434",
   "metadata": {},
   "outputs": [],
   "source": []
  },
  {
   "cell_type": "code",
   "execution_count": 3,
   "id": "e776257c",
   "metadata": {},
   "outputs": [],
   "source": [
    "data_dir = \"/Users/wangjiashun/Desktop/Reserach on SAT/datasets/Evans2021/Dutilh2013/dataBySubject/sub\"\n",
    "sample_size = 32\n",
    "SAT_conds = [\"speed\", \"accuracy\"]"
   ]
  },
  {
   "cell_type": "code",
   "execution_count": 4,
   "id": "2d56afe5",
   "metadata": {},
   "outputs": [],
   "source": [
    "\n",
    "class DriftBothSpeedAcc(Drift):\n",
    "    name = \"DriftBothSpeedAcc\"\n",
    "    required_parameters = [\"Vspeed\",\"Vacc\", \"Kspeed\", \"Kacc\"]\n",
    "    required_conditions = ['Cond']\n",
    "        \n",
    "    def get_drift(self, x, t, conditions, **kwargs):\n",
    "        if conditions['Cond'] == 'speed':\n",
    "            return self.Vspeed + x*self.Kspeed \n",
    "        elif conditions['Cond'] == 'accuracy':\n",
    "            return self.Vacc + x*self.Kacc\n",
    "        else: \n",
    "            print(\"Non-implemented SAT conditions\")"
   ]
  },
  {
   "cell_type": "code",
   "execution_count": 5,
   "id": "a58815c3",
   "metadata": {},
   "outputs": [],
   "source": [
    "class BoundSpeedAcc(Bound):\n",
    "    name = \"BoundSpeedAcc\"\n",
    "    required_parameters = [\"Bspeed\", \"Bacc\"]\n",
    "    required_conditions = ['Cond']\n",
    "    def get_bound(self, conditions, *args, **kwargs):\n",
    "        assert self.Bacc > 0\n",
    "        assert self.Bspeed > 0\n",
    "        if conditions['Cond'] == 'speed':\n",
    "            return self.Bspeed\n",
    "        elif conditions['Cond'] == 'accuracy':\n",
    "            return self.Bacc\n",
    "        else:\n",
    "            print(\"Non-implemented SAT conditions\")"
   ]
  },
  {
   "cell_type": "code",
   "execution_count": 6,
   "id": "f434220f",
   "metadata": {},
   "outputs": [],
   "source": [
    "\n",
    "class NondecisionSpeedAcc(OverlayNonDecision):\n",
    "    name = \"DriftSpeedAcc\"\n",
    "    required_parameters = [\"tSpeed\", 'tAcc']\n",
    "    required_conditions = ['Cond']\n",
    "        \n",
    "    def get_nondecision_time(self, conditions, **kwargs):\n",
    "        if conditions['Cond'] == 'speed':\n",
    "            return self.tSpeed \n",
    "        elif conditions['Cond'] == 'accuracy':\n",
    "            return self.tAcc\n",
    "        else: \n",
    "            print(\"Non-implemented SAT conditions\")"
   ]
  },
  {
   "cell_type": "code",
   "execution_count": null,
   "id": "bbb278a6",
   "metadata": {},
   "outputs": [],
   "source": [
    "\n"
   ]
  },
  {
   "cell_type": "code",
   "execution_count": null,
   "id": "6e5e0074",
   "metadata": {},
   "outputs": [],
   "source": []
  },
  {
   "cell_type": "code",
   "execution_count": null,
   "id": "b1e0fe9b",
   "metadata": {},
   "outputs": [],
   "source": []
  },
  {
   "cell_type": "code",
   "execution_count": 7,
   "id": "fdb13001",
   "metadata": {
    "scrolled": true
   },
   "outputs": [
    {
     "name": "stderr",
     "output_type": "stream",
     "text": [
      "Warning: This function (from_pandas_dataframe()) is deprecated and will be removed in a future version of PyDDM.  Please use the choice_column_name argument instead.\n"
     ]
    },
    {
     "name": "stdout",
     "output_type": "stream",
     "text": [
      "0\n"
     ]
    },
    {
     "name": "stderr",
     "output_type": "stream",
     "text": [
      "Info: Params [ 0.20123356  0.94563935 10.          5.08116031  2.94903579  1.40355678\n",
      "  0.17131959  0.29639926] gave -79.79691134327868\n",
      "Warning: This function (from_pandas_dataframe()) is deprecated and will be removed in a future version of PyDDM.  Please use the choice_column_name argument instead.\n"
     ]
    },
    {
     "name": "stdout",
     "output_type": "stream",
     "text": [
      "   Drift Rate Speed  Drift Rate Accuracy  Self-excitation Speed  \\\n",
      "0          0.201234             0.945639                   10.0   \n",
      "\n",
      "   Self-excitation Accuracy  Boundary Separation Speed  \\\n",
      "0                   5.08116                   2.949036   \n",
      "\n",
      "   Boundary Separation Accuracy  Non-decision Time Speed  \\\n",
      "0                      1.403557                  0.17132   \n",
      "\n",
      "   Non-decision Time Accuracy        BIC  \n",
      "0                    0.296399 -79.796911  \n",
      "1\n"
     ]
    },
    {
     "name": "stderr",
     "output_type": "stream",
     "text": [
      "Info: Params [2.14208814 1.72117962 2.1169694  5.46675056 0.56429166 1.17025288\n",
      " 0.35267554 0.33466221] gave -202.478227658895\n",
      "Warning: This function (from_pandas_dataframe()) is deprecated and will be removed in a future version of PyDDM.  Please use the choice_column_name argument instead.\n"
     ]
    },
    {
     "name": "stdout",
     "output_type": "stream",
     "text": [
      "   Drift Rate Speed  Drift Rate Accuracy  Self-excitation Speed  \\\n",
      "0          2.142088              1.72118               2.116969   \n",
      "\n",
      "   Self-excitation Accuracy  Boundary Separation Speed  \\\n",
      "0                  5.466751                   0.564292   \n",
      "\n",
      "   Boundary Separation Accuracy  Non-decision Time Speed  \\\n",
      "0                      1.170253                 0.352676   \n",
      "\n",
      "   Non-decision Time Accuracy         BIC  \n",
      "0                    0.334662 -202.478228  \n",
      "2\n"
     ]
    },
    {
     "name": "stderr",
     "output_type": "stream",
     "text": [
      "Info: Params [0.         0.         2.43371464 4.16872114 1.4501283  5.28987015\n",
      " 0.10341011 0.30332159] gave 561.6325674891169\n",
      "Warning: This function (from_pandas_dataframe()) is deprecated and will be removed in a future version of PyDDM.  Please use the choice_column_name argument instead.\n"
     ]
    },
    {
     "name": "stdout",
     "output_type": "stream",
     "text": [
      "   Drift Rate Speed  Drift Rate Accuracy  Self-excitation Speed  \\\n",
      "0               0.0                  0.0               2.433715   \n",
      "\n",
      "   Self-excitation Accuracy  Boundary Separation Speed  \\\n",
      "0                  4.168721                   1.450128   \n",
      "\n",
      "   Boundary Separation Accuracy  Non-decision Time Speed  \\\n",
      "0                       5.28987                  0.10341   \n",
      "\n",
      "   Non-decision Time Accuracy         BIC  \n",
      "0                    0.303322  561.632567  \n",
      "3\n"
     ]
    },
    {
     "name": "stderr",
     "output_type": "stream",
     "text": [
      "Info: Params [3.89709867 6.         4.64614169 3.20179661 0.83204196 2.18050215\n",
      " 0.33226848 0.2697669 ] gave -199.02801941988054\n",
      "Warning: This function (from_pandas_dataframe()) is deprecated and will be removed in a future version of PyDDM.  Please use the choice_column_name argument instead.\n"
     ]
    },
    {
     "name": "stdout",
     "output_type": "stream",
     "text": [
      "   Drift Rate Speed  Drift Rate Accuracy  Self-excitation Speed  \\\n",
      "0          3.897099                  6.0               4.646142   \n",
      "\n",
      "   Self-excitation Accuracy  Boundary Separation Speed  \\\n",
      "0                  3.201797                   0.832042   \n",
      "\n",
      "   Boundary Separation Accuracy  Non-decision Time Speed  \\\n",
      "0                      2.180502                 0.332268   \n",
      "\n",
      "   Non-decision Time Accuracy         BIC  \n",
      "0                    0.269767 -199.028019  \n",
      "4\n"
     ]
    },
    {
     "name": "stderr",
     "output_type": "stream",
     "text": [
      "Info: Params [2.10283115 2.08026994 4.40052101 8.07513467 1.16372181 7.82166272\n",
      " 0.22484378 0.15633924] gave -85.84019771206431\n",
      "Warning: This function (from_pandas_dataframe()) is deprecated and will be removed in a future version of PyDDM.  Please use the choice_column_name argument instead.\n"
     ]
    },
    {
     "name": "stdout",
     "output_type": "stream",
     "text": [
      "   Drift Rate Speed  Drift Rate Accuracy  Self-excitation Speed  \\\n",
      "0          2.102831              2.08027               4.400521   \n",
      "\n",
      "   Self-excitation Accuracy  Boundary Separation Speed  \\\n",
      "0                  8.075135                   1.163722   \n",
      "\n",
      "   Boundary Separation Accuracy  Non-decision Time Speed  \\\n",
      "0                      7.821663                 0.224844   \n",
      "\n",
      "   Non-decision Time Accuracy        BIC  \n",
      "0                    0.156339 -85.840198  \n",
      "5\n"
     ]
    },
    {
     "name": "stderr",
     "output_type": "stream",
     "text": [
      "Info: Params [ 1.60122739  2.0962667  10.          6.10536944  7.93034199  7.25589782\n",
      "  0.11080474  0.11574477] gave -230.03792616072593\n",
      "Warning: This function (from_pandas_dataframe()) is deprecated and will be removed in a future version of PyDDM.  Please use the choice_column_name argument instead.\n"
     ]
    },
    {
     "name": "stdout",
     "output_type": "stream",
     "text": [
      "   Drift Rate Speed  Drift Rate Accuracy  Self-excitation Speed  \\\n",
      "0          1.601227             2.096267                   10.0   \n",
      "\n",
      "   Self-excitation Accuracy  Boundary Separation Speed  \\\n",
      "0                  6.105369                   7.930342   \n",
      "\n",
      "   Boundary Separation Accuracy  Non-decision Time Speed  \\\n",
      "0                      7.255898                 0.110805   \n",
      "\n",
      "   Non-decision Time Accuracy         BIC  \n",
      "0                    0.115745 -230.037926  \n",
      "6\n"
     ]
    },
    {
     "name": "stderr",
     "output_type": "stream",
     "text": [
      "Info: Params [1.26820654 4.47697975 9.99698644 4.60152279 4.40734042 1.59911082\n",
      " 0.11192731 0.34957863] gave -469.2469730717259\n",
      "Warning: This function (from_pandas_dataframe()) is deprecated and will be removed in a future version of PyDDM.  Please use the choice_column_name argument instead.\n"
     ]
    },
    {
     "name": "stdout",
     "output_type": "stream",
     "text": [
      "   Drift Rate Speed  Drift Rate Accuracy  Self-excitation Speed  \\\n",
      "0          1.268207              4.47698               9.996986   \n",
      "\n",
      "   Self-excitation Accuracy  Boundary Separation Speed  \\\n",
      "0                  4.601523                    4.40734   \n",
      "\n",
      "   Boundary Separation Accuracy  Non-decision Time Speed  \\\n",
      "0                      1.599111                 0.111927   \n",
      "\n",
      "   Non-decision Time Accuracy         BIC  \n",
      "0                    0.349579 -469.246973  \n",
      "7\n"
     ]
    },
    {
     "name": "stderr",
     "output_type": "stream",
     "text": [
      "Info: Params [1.38827267 2.23260928 7.30508077 2.28250347 3.45851813 0.79369047\n",
      " 0.10283941 0.28629367] gave -154.57099491370357\n",
      "Warning: This function (from_pandas_dataframe()) is deprecated and will be removed in a future version of PyDDM.  Please use the choice_column_name argument instead.\n"
     ]
    },
    {
     "name": "stdout",
     "output_type": "stream",
     "text": [
      "   Drift Rate Speed  Drift Rate Accuracy  Self-excitation Speed  \\\n",
      "0          1.388273             2.232609               7.305081   \n",
      "\n",
      "   Self-excitation Accuracy  Boundary Separation Speed  \\\n",
      "0                  2.282503                   3.458518   \n",
      "\n",
      "   Boundary Separation Accuracy  Non-decision Time Speed  \\\n",
      "0                       0.79369                 0.102839   \n",
      "\n",
      "   Non-decision Time Accuracy         BIC  \n",
      "0                    0.286294 -154.570995  \n",
      "8\n"
     ]
    },
    {
     "name": "stderr",
     "output_type": "stream",
     "text": [
      "Info: Params [0.85579068 1.54316748 6.79831316 5.55863698 4.20377377 1.36651361\n",
      " 0.10765446 0.28388215] gave 77.20035249969297\n",
      "Warning: This function (from_pandas_dataframe()) is deprecated and will be removed in a future version of PyDDM.  Please use the choice_column_name argument instead.\n"
     ]
    },
    {
     "name": "stdout",
     "output_type": "stream",
     "text": [
      "   Drift Rate Speed  Drift Rate Accuracy  Self-excitation Speed  \\\n",
      "0          0.855791             1.543167               6.798313   \n",
      "\n",
      "   Self-excitation Accuracy  Boundary Separation Speed  \\\n",
      "0                  5.558637                   4.203774   \n",
      "\n",
      "   Boundary Separation Accuracy  Non-decision Time Speed  \\\n",
      "0                      1.366514                 0.107654   \n",
      "\n",
      "   Non-decision Time Accuracy        BIC  \n",
      "0                    0.283882  77.200352  \n",
      "9\n"
     ]
    },
    {
     "name": "stderr",
     "output_type": "stream",
     "text": [
      "Info: Params [6.71078195e-03 2.91170646e-01 7.90720282e+00 4.29756300e+00\n",
      " 1.24272342e+00 1.96060067e+00 1.14101455e-01 1.38375939e-01] gave 269.2803857941485\n",
      "Warning: This function (from_pandas_dataframe()) is deprecated and will be removed in a future version of PyDDM.  Please use the choice_column_name argument instead.\n"
     ]
    },
    {
     "name": "stdout",
     "output_type": "stream",
     "text": [
      "   Drift Rate Speed  Drift Rate Accuracy  Self-excitation Speed  \\\n",
      "0          0.006711             0.291171               7.907203   \n",
      "\n",
      "   Self-excitation Accuracy  Boundary Separation Speed  \\\n",
      "0                  4.297563                   1.242723   \n",
      "\n",
      "   Boundary Separation Accuracy  Non-decision Time Speed  \\\n",
      "0                      1.960601                 0.114101   \n",
      "\n",
      "   Non-decision Time Accuracy         BIC  \n",
      "0                    0.138376  269.280386  \n",
      "10\n"
     ]
    },
    {
     "name": "stderr",
     "output_type": "stream",
     "text": [
      "Info: Params [3.30087366 3.80719956 8.44700716 3.35988064 7.85022609 1.45700002\n",
      " 0.2142566  0.3543283 ] gave -88.94318577688581\n",
      "Warning: This function (from_pandas_dataframe()) is deprecated and will be removed in a future version of PyDDM.  Please use the choice_column_name argument instead.\n"
     ]
    },
    {
     "name": "stdout",
     "output_type": "stream",
     "text": [
      "   Drift Rate Speed  Drift Rate Accuracy  Self-excitation Speed  \\\n",
      "0          3.300874               3.8072               8.447007   \n",
      "\n",
      "   Self-excitation Accuracy  Boundary Separation Speed  \\\n",
      "0                  3.359881                   7.850226   \n",
      "\n",
      "   Boundary Separation Accuracy  Non-decision Time Speed  \\\n",
      "0                         1.457                 0.214257   \n",
      "\n",
      "   Non-decision Time Accuracy        BIC  \n",
      "0                    0.354328 -88.943186  \n",
      "11\n"
     ]
    },
    {
     "name": "stderr",
     "output_type": "stream",
     "text": [
      "Info: Params [2.41318532 3.0860876  8.14608796 7.91032696 0.82880324 7.7445539\n",
      " 0.31774733 0.14421237] gave -679.1809324711703\n",
      "Warning: This function (from_pandas_dataframe()) is deprecated and will be removed in a future version of PyDDM.  Please use the choice_column_name argument instead.\n"
     ]
    },
    {
     "name": "stdout",
     "output_type": "stream",
     "text": [
      "   Drift Rate Speed  Drift Rate Accuracy  Self-excitation Speed  \\\n",
      "0          2.413185             3.086088               8.146088   \n",
      "\n",
      "   Self-excitation Accuracy  Boundary Separation Speed  \\\n",
      "0                  7.910327                   0.828803   \n",
      "\n",
      "   Boundary Separation Accuracy  Non-decision Time Speed  \\\n",
      "0                      7.744554                 0.317747   \n",
      "\n",
      "   Non-decision Time Accuracy         BIC  \n",
      "0                    0.144212 -679.180932  \n",
      "12\n"
     ]
    },
    {
     "name": "stderr",
     "output_type": "stream",
     "text": [
      "Info: Params [ 4.08349907  3.1619356   8.87211533 10.          1.78953044  1.58809329\n",
      "  0.26450352  0.28537115] gave -655.9759824904228\n",
      "Warning: This function (from_pandas_dataframe()) is deprecated and will be removed in a future version of PyDDM.  Please use the choice_column_name argument instead.\n"
     ]
    },
    {
     "name": "stdout",
     "output_type": "stream",
     "text": [
      "   Drift Rate Speed  Drift Rate Accuracy  Self-excitation Speed  \\\n",
      "0          4.083499             3.161936               8.872115   \n",
      "\n",
      "   Self-excitation Accuracy  Boundary Separation Speed  \\\n",
      "0                      10.0                    1.78953   \n",
      "\n",
      "   Boundary Separation Accuracy  Non-decision Time Speed  \\\n",
      "0                      1.588093                 0.264504   \n",
      "\n",
      "   Non-decision Time Accuracy         BIC  \n",
      "0                    0.285371 -655.975982  \n",
      "13\n"
     ]
    },
    {
     "name": "stderr",
     "output_type": "stream",
     "text": [
      "Info: Params [1.53516889 3.38736552 6.18344279 6.25138587 0.75474972 3.22544291\n",
      " 0.23429893 0.19284215] gave -402.5843447058804\n",
      "Warning: This function (from_pandas_dataframe()) is deprecated and will be removed in a future version of PyDDM.  Please use the choice_column_name argument instead.\n"
     ]
    },
    {
     "name": "stdout",
     "output_type": "stream",
     "text": [
      "   Drift Rate Speed  Drift Rate Accuracy  Self-excitation Speed  \\\n",
      "0          1.535169             3.387366               6.183443   \n",
      "\n",
      "   Self-excitation Accuracy  Boundary Separation Speed  \\\n",
      "0                  6.251386                    0.75475   \n",
      "\n",
      "   Boundary Separation Accuracy  Non-decision Time Speed  \\\n",
      "0                      3.225443                 0.234299   \n",
      "\n",
      "   Non-decision Time Accuracy         BIC  \n",
      "0                    0.192842 -402.584345  \n",
      "14\n"
     ]
    },
    {
     "name": "stderr",
     "output_type": "stream",
     "text": [
      "Info: Params [ 0.42797955  0.0794111  10.          5.31415841  7.04904199  3.91358711\n",
      "  0.14529321  0.132265  ] gave 354.00508066425516\n",
      "Warning: This function (from_pandas_dataframe()) is deprecated and will be removed in a future version of PyDDM.  Please use the choice_column_name argument instead.\n"
     ]
    },
    {
     "name": "stdout",
     "output_type": "stream",
     "text": [
      "   Drift Rate Speed  Drift Rate Accuracy  Self-excitation Speed  \\\n",
      "0           0.42798             0.079411                   10.0   \n",
      "\n",
      "   Self-excitation Accuracy  Boundary Separation Speed  \\\n",
      "0                  5.314158                   7.049042   \n",
      "\n",
      "   Boundary Separation Accuracy  Non-decision Time Speed  \\\n",
      "0                      3.913587                 0.145293   \n",
      "\n",
      "   Non-decision Time Accuracy         BIC  \n",
      "0                    0.132265  354.005081  \n",
      "15\n"
     ]
    },
    {
     "name": "stderr",
     "output_type": "stream",
     "text": [
      "Info: Params [2.99433479 6.         7.56148984 3.49616448 0.86322333 1.29329428\n",
      " 0.33126903 0.33179325] gave -484.6136772258601\n",
      "Warning: This function (from_pandas_dataframe()) is deprecated and will be removed in a future version of PyDDM.  Please use the choice_column_name argument instead.\n"
     ]
    },
    {
     "name": "stdout",
     "output_type": "stream",
     "text": [
      "   Drift Rate Speed  Drift Rate Accuracy  Self-excitation Speed  \\\n",
      "0          2.994335                  6.0                7.56149   \n",
      "\n",
      "   Self-excitation Accuracy  Boundary Separation Speed  \\\n",
      "0                  3.496164                   0.863223   \n",
      "\n",
      "   Boundary Separation Accuracy  Non-decision Time Speed  \\\n",
      "0                      1.293294                 0.331269   \n",
      "\n",
      "   Non-decision Time Accuracy         BIC  \n",
      "0                    0.331793 -484.613677  \n",
      "16\n"
     ]
    },
    {
     "name": "stderr",
     "output_type": "stream",
     "text": [
      "Info: Params [0.52097285 1.86713632 6.04998468 2.46388561 1.15051482 1.14631219\n",
      " 0.13142825 0.23488288] gave 320.65031445276867\n",
      "Warning: This function (from_pandas_dataframe()) is deprecated and will be removed in a future version of PyDDM.  Please use the choice_column_name argument instead.\n"
     ]
    },
    {
     "name": "stdout",
     "output_type": "stream",
     "text": [
      "   Drift Rate Speed  Drift Rate Accuracy  Self-excitation Speed  \\\n",
      "0          0.520973             1.867136               6.049985   \n",
      "\n",
      "   Self-excitation Accuracy  Boundary Separation Speed  \\\n",
      "0                  2.463886                   1.150515   \n",
      "\n",
      "   Boundary Separation Accuracy  Non-decision Time Speed  \\\n",
      "0                      1.146312                 0.131428   \n",
      "\n",
      "   Non-decision Time Accuracy         BIC  \n",
      "0                    0.234883  320.650314  \n",
      "17\n"
     ]
    },
    {
     "name": "stderr",
     "output_type": "stream",
     "text": [
      "Info: Params [2.96497674 3.82245921 8.93791685 7.04627909 0.93798943 1.14777569\n",
      " 0.26844289 0.2614639 ] gave -1031.3960437136125\n",
      "Warning: This function (from_pandas_dataframe()) is deprecated and will be removed in a future version of PyDDM.  Please use the choice_column_name argument instead.\n"
     ]
    },
    {
     "name": "stdout",
     "output_type": "stream",
     "text": [
      "   Drift Rate Speed  Drift Rate Accuracy  Self-excitation Speed  \\\n",
      "0          2.964977             3.822459               8.937917   \n",
      "\n",
      "   Self-excitation Accuracy  Boundary Separation Speed  \\\n",
      "0                  7.046279                   0.937989   \n",
      "\n",
      "   Boundary Separation Accuracy  Non-decision Time Speed  \\\n",
      "0                      1.147776                 0.268443   \n",
      "\n",
      "   Non-decision Time Accuracy          BIC  \n",
      "0                    0.261464 -1031.396044  \n",
      "18\n"
     ]
    },
    {
     "name": "stderr",
     "output_type": "stream",
     "text": [
      "Info: Params [1.69635129 2.85545592 6.46953446 5.98543963 0.71936296 0.85144621\n",
      " 0.26976145 0.28106526] gave -343.4199974924754\n",
      "Warning: This function (from_pandas_dataframe()) is deprecated and will be removed in a future version of PyDDM.  Please use the choice_column_name argument instead.\n"
     ]
    },
    {
     "name": "stdout",
     "output_type": "stream",
     "text": [
      "   Drift Rate Speed  Drift Rate Accuracy  Self-excitation Speed  \\\n",
      "0          1.696351             2.855456               6.469534   \n",
      "\n",
      "   Self-excitation Accuracy  Boundary Separation Speed  \\\n",
      "0                   5.98544                   0.719363   \n",
      "\n",
      "   Boundary Separation Accuracy  Non-decision Time Speed  \\\n",
      "0                      0.851446                 0.269761   \n",
      "\n",
      "   Non-decision Time Accuracy         BIC  \n",
      "0                    0.281065 -343.419997  \n",
      "19\n"
     ]
    },
    {
     "name": "stderr",
     "output_type": "stream",
     "text": [
      "Info: Params [ 1.61931424  3.29119188 10.          6.88115535  3.6522497   1.19699124\n",
      "  0.12932442  0.27768473] gave -963.7369218826914\n",
      "Warning: This function (from_pandas_dataframe()) is deprecated and will be removed in a future version of PyDDM.  Please use the choice_column_name argument instead.\n"
     ]
    },
    {
     "name": "stdout",
     "output_type": "stream",
     "text": [
      "   Drift Rate Speed  Drift Rate Accuracy  Self-excitation Speed  \\\n",
      "0          1.619314             3.291192                   10.0   \n",
      "\n",
      "   Self-excitation Accuracy  Boundary Separation Speed  \\\n",
      "0                  6.881155                    3.65225   \n",
      "\n",
      "   Boundary Separation Accuracy  Non-decision Time Speed  \\\n",
      "0                      1.196991                 0.129324   \n",
      "\n",
      "   Non-decision Time Accuracy         BIC  \n",
      "0                    0.277685 -963.736922  \n",
      "20\n"
     ]
    },
    {
     "name": "stderr",
     "output_type": "stream",
     "text": [
      "Info: Params [ 0.49737133  2.76213101 10.          9.1867267   0.96829405  6.31104258\n",
      "  0.19651867  0.16519955] gave -415.36396940373146\n",
      "Warning: This function (from_pandas_dataframe()) is deprecated and will be removed in a future version of PyDDM.  Please use the choice_column_name argument instead.\n"
     ]
    },
    {
     "name": "stdout",
     "output_type": "stream",
     "text": [
      "   Drift Rate Speed  Drift Rate Accuracy  Self-excitation Speed  \\\n",
      "0          0.497371             2.762131                   10.0   \n",
      "\n",
      "   Self-excitation Accuracy  Boundary Separation Speed  \\\n",
      "0                  9.186727                   0.968294   \n",
      "\n",
      "   Boundary Separation Accuracy  Non-decision Time Speed  \\\n",
      "0                      6.311043                 0.196519   \n",
      "\n",
      "   Non-decision Time Accuracy         BIC  \n",
      "0                      0.1652 -415.363969  \n",
      "21\n"
     ]
    },
    {
     "name": "stderr",
     "output_type": "stream",
     "text": [
      "Info: Params [0.35653011 1.34270166 9.13003258 6.17773984 3.07888417 1.54653513\n",
      " 0.10950625 0.27504149] gave -10.92082650749888\n",
      "Warning: This function (from_pandas_dataframe()) is deprecated and will be removed in a future version of PyDDM.  Please use the choice_column_name argument instead.\n"
     ]
    },
    {
     "name": "stdout",
     "output_type": "stream",
     "text": [
      "   Drift Rate Speed  Drift Rate Accuracy  Self-excitation Speed  \\\n",
      "0           0.35653             1.342702               9.130033   \n",
      "\n",
      "   Self-excitation Accuracy  Boundary Separation Speed  \\\n",
      "0                   6.17774                   3.078884   \n",
      "\n",
      "   Boundary Separation Accuracy  Non-decision Time Speed  \\\n",
      "0                      1.546535                 0.109506   \n",
      "\n",
      "   Non-decision Time Accuracy        BIC  \n",
      "0                    0.275041 -10.920827  \n",
      "22\n"
     ]
    },
    {
     "name": "stderr",
     "output_type": "stream",
     "text": [
      "Info: Params [ 3.64584059  6.         10.          5.12780034  3.26046198  1.30655495\n",
      "  0.22523789  0.35801674] gave -252.51841880559653\n",
      "Warning: This function (from_pandas_dataframe()) is deprecated and will be removed in a future version of PyDDM.  Please use the choice_column_name argument instead.\n"
     ]
    },
    {
     "name": "stdout",
     "output_type": "stream",
     "text": [
      "   Drift Rate Speed  Drift Rate Accuracy  Self-excitation Speed  \\\n",
      "0          3.645841                  6.0                   10.0   \n",
      "\n",
      "   Self-excitation Accuracy  Boundary Separation Speed  \\\n",
      "0                    5.1278                   3.260462   \n",
      "\n",
      "   Boundary Separation Accuracy  Non-decision Time Speed  \\\n",
      "0                      1.306555                 0.225238   \n",
      "\n",
      "   Non-decision Time Accuracy         BIC  \n",
      "0                    0.358017 -252.518419  \n",
      "23\n"
     ]
    },
    {
     "name": "stderr",
     "output_type": "stream",
     "text": [
      "Info: Params [ 1.96639053  3.38777312 10.          7.84639184  0.85930967  0.58774705\n",
      "  0.21090035  0.30408903] gave -1159.0078577587333\n",
      "Warning: This function (from_pandas_dataframe()) is deprecated and will be removed in a future version of PyDDM.  Please use the choice_column_name argument instead.\n"
     ]
    },
    {
     "name": "stdout",
     "output_type": "stream",
     "text": [
      "   Drift Rate Speed  Drift Rate Accuracy  Self-excitation Speed  \\\n",
      "0          1.966391             3.387773                   10.0   \n",
      "\n",
      "   Self-excitation Accuracy  Boundary Separation Speed  \\\n",
      "0                  7.846392                    0.85931   \n",
      "\n",
      "   Boundary Separation Accuracy  Non-decision Time Speed  \\\n",
      "0                      0.587747                   0.2109   \n",
      "\n",
      "   Non-decision Time Accuracy          BIC  \n",
      "0                    0.304089 -1159.007858  \n",
      "24\n"
     ]
    },
    {
     "name": "stderr",
     "output_type": "stream",
     "text": [
      "Info: Params [ 2.37244295  3.93293602 10.          5.99907921  1.20086697  0.79927374\n",
      "  0.24291195  0.32510171] gave -914.7591373017073\n",
      "Warning: This function (from_pandas_dataframe()) is deprecated and will be removed in a future version of PyDDM.  Please use the choice_column_name argument instead.\n"
     ]
    },
    {
     "name": "stdout",
     "output_type": "stream",
     "text": [
      "   Drift Rate Speed  Drift Rate Accuracy  Self-excitation Speed  \\\n",
      "0          2.372443             3.932936                   10.0   \n",
      "\n",
      "   Self-excitation Accuracy  Boundary Separation Speed  \\\n",
      "0                  5.999079                   1.200867   \n",
      "\n",
      "   Boundary Separation Accuracy  Non-decision Time Speed  \\\n",
      "0                      0.799274                 0.242912   \n",
      "\n",
      "   Non-decision Time Accuracy         BIC  \n",
      "0                    0.325102 -914.759137  \n",
      "25\n"
     ]
    },
    {
     "name": "stderr",
     "output_type": "stream",
     "text": [
      "Info: Params [ 0.7338105   3.01372879 10.          5.29666468  2.36528492  0.79430087\n",
      "  0.10887013  0.30795393] gave -635.753685606691\n",
      "Warning: This function (from_pandas_dataframe()) is deprecated and will be removed in a future version of PyDDM.  Please use the choice_column_name argument instead.\n"
     ]
    },
    {
     "name": "stdout",
     "output_type": "stream",
     "text": [
      "   Drift Rate Speed  Drift Rate Accuracy  Self-excitation Speed  \\\n",
      "0          0.733811             3.013729                   10.0   \n",
      "\n",
      "   Self-excitation Accuracy  Boundary Separation Speed  \\\n",
      "0                  5.296665                   2.365285   \n",
      "\n",
      "   Boundary Separation Accuracy  Non-decision Time Speed  \\\n",
      "0                      0.794301                  0.10887   \n",
      "\n",
      "   Non-decision Time Accuracy         BIC  \n",
      "0                    0.307954 -635.753686  \n",
      "26\n"
     ]
    },
    {
     "name": "stderr",
     "output_type": "stream",
     "text": [
      "Info: Params [5.65696208 3.07077492 6.16940742 8.95467062 7.21421427 3.03648379\n",
      " 0.11831098 0.23134725] gave -244.97426582683687\n",
      "Warning: This function (from_pandas_dataframe()) is deprecated and will be removed in a future version of PyDDM.  Please use the choice_column_name argument instead.\n"
     ]
    },
    {
     "name": "stdout",
     "output_type": "stream",
     "text": [
      "   Drift Rate Speed  Drift Rate Accuracy  Self-excitation Speed  \\\n",
      "0          5.656962             3.070775               6.169407   \n",
      "\n",
      "   Self-excitation Accuracy  Boundary Separation Speed  \\\n",
      "0                  8.954671                   7.214214   \n",
      "\n",
      "   Boundary Separation Accuracy  Non-decision Time Speed  \\\n",
      "0                      3.036484                 0.118311   \n",
      "\n",
      "   Non-decision Time Accuracy         BIC  \n",
      "0                    0.231347 -244.974266  \n",
      "27\n"
     ]
    },
    {
     "name": "stderr",
     "output_type": "stream",
     "text": [
      "Info: Params [ 2.52519303  3.96128076 10.          8.52185312  0.89202927  0.68451548\n",
      "  0.24279485  0.2961014 ] gave -953.5861566567937\n",
      "Warning: This function (from_pandas_dataframe()) is deprecated and will be removed in a future version of PyDDM.  Please use the choice_column_name argument instead.\n"
     ]
    },
    {
     "name": "stdout",
     "output_type": "stream",
     "text": [
      "   Drift Rate Speed  Drift Rate Accuracy  Self-excitation Speed  \\\n",
      "0          2.525193             3.961281                   10.0   \n",
      "\n",
      "   Self-excitation Accuracy  Boundary Separation Speed  \\\n",
      "0                  8.521853                   0.892029   \n",
      "\n",
      "   Boundary Separation Accuracy  Non-decision Time Speed  \\\n",
      "0                      0.684515                 0.242795   \n",
      "\n",
      "   Non-decision Time Accuracy         BIC  \n",
      "0                    0.296101 -953.586157  \n",
      "28\n"
     ]
    },
    {
     "name": "stderr",
     "output_type": "stream",
     "text": [
      "Info: Params [ 2.69763981  3.47899538 10.          7.32882441  1.32713215  0.51059005\n",
      "  0.22575388  0.3116782 ] gave -973.7123022060164\n",
      "Warning: This function (from_pandas_dataframe()) is deprecated and will be removed in a future version of PyDDM.  Please use the choice_column_name argument instead.\n"
     ]
    },
    {
     "name": "stdout",
     "output_type": "stream",
     "text": [
      "   Drift Rate Speed  Drift Rate Accuracy  Self-excitation Speed  \\\n",
      "0           2.69764             3.478995                   10.0   \n",
      "\n",
      "   Self-excitation Accuracy  Boundary Separation Speed  \\\n",
      "0                  7.328824                   1.327132   \n",
      "\n",
      "   Boundary Separation Accuracy  Non-decision Time Speed  \\\n",
      "0                       0.51059                 0.225754   \n",
      "\n",
      "   Non-decision Time Accuracy         BIC  \n",
      "0                    0.311678 -973.712302  \n",
      "29\n"
     ]
    },
    {
     "name": "stderr",
     "output_type": "stream",
     "text": [
      "Info: Params [3.15341612 2.95516351 6.44881899 6.67645209 0.71664624 0.81154712\n",
      " 0.31733166 0.31175887] gave -796.0480364077122\n",
      "Warning: This function (from_pandas_dataframe()) is deprecated and will be removed in a future version of PyDDM.  Please use the choice_column_name argument instead.\n"
     ]
    },
    {
     "name": "stdout",
     "output_type": "stream",
     "text": [
      "   Drift Rate Speed  Drift Rate Accuracy  Self-excitation Speed  \\\n",
      "0          3.153416             2.955164               6.448819   \n",
      "\n",
      "   Self-excitation Accuracy  Boundary Separation Speed  \\\n",
      "0                  6.676452                   0.716646   \n",
      "\n",
      "   Boundary Separation Accuracy  Non-decision Time Speed  \\\n",
      "0                      0.811547                 0.317332   \n",
      "\n",
      "   Non-decision Time Accuracy         BIC  \n",
      "0                    0.311759 -796.048036  \n",
      "30\n"
     ]
    },
    {
     "name": "stderr",
     "output_type": "stream",
     "text": [
      "Info: Params [1.736573   4.34873724 9.70641052 7.27031323 2.22884412 2.67223832\n",
      " 0.19962964 0.2291988 ] gave -350.29166503501136\n",
      "Warning: This function (from_pandas_dataframe()) is deprecated and will be removed in a future version of PyDDM.  Please use the choice_column_name argument instead.\n"
     ]
    },
    {
     "name": "stdout",
     "output_type": "stream",
     "text": [
      "   Drift Rate Speed  Drift Rate Accuracy  Self-excitation Speed  \\\n",
      "0          1.736573             4.348737               9.706411   \n",
      "\n",
      "   Self-excitation Accuracy  Boundary Separation Speed  \\\n",
      "0                  7.270313                   2.228844   \n",
      "\n",
      "   Boundary Separation Accuracy  Non-decision Time Speed  \\\n",
      "0                      2.672238                  0.19963   \n",
      "\n",
      "   Non-decision Time Accuracy         BIC  \n",
      "0                    0.229199 -350.291665  \n",
      "31\n"
     ]
    },
    {
     "name": "stderr",
     "output_type": "stream",
     "text": [
      "Info: Params [ 1.95015867  4.66888833 10.         10.          0.89934709  2.1007906\n",
      "  0.24820504  0.25889518] gave -1373.6964656923162\n"
     ]
    },
    {
     "name": "stdout",
     "output_type": "stream",
     "text": [
      "   Drift Rate Speed  Drift Rate Accuracy  Self-excitation Speed  \\\n",
      "0          1.950159             4.668888                   10.0   \n",
      "\n",
      "   Self-excitation Accuracy  Boundary Separation Speed  \\\n",
      "0                      10.0                   0.899347   \n",
      "\n",
      "   Boundary Separation Accuracy  Non-decision Time Speed  \\\n",
      "0                      2.100791                 0.248205   \n",
      "\n",
      "   Non-decision Time Accuracy          BIC  \n",
      "0                    0.258895 -1373.696466  \n"
     ]
    }
   ],
   "source": [
    "df_all = pd.DataFrame()\n",
    "for i in range(sample_size):\n",
    "    print(i)\n",
    "    path = os.path.join(data_dir+str(i+1)+\".csv\")\n",
    "    df = pd.read_csv(path, sep = \",\")\n",
    "    #df = df[df[\"cond\"]==SAT] # A condition\n",
    "    df = df[df[\"Time\"]<5]\n",
    "\n",
    "    samp = Sample.from_pandas_dataframe(df, rt_column_name=\"Time\", correct_column_name=\"Correct\")\n",
    "    df = get_OUM_result_sub_full(samp)\n",
    "    df_all = pd.concat((df_all,df))\n",
    "    print(df)\n",
    "df_OUM = df_all.copy()\n"
   ]
  },
  {
   "cell_type": "code",
   "execution_count": 8,
   "id": "3b05a53a",
   "metadata": {},
   "outputs": [],
   "source": [
    "df_OUM.to_csv(\"OUMfullresultDutilh2013.csv\")"
   ]
  },
  {
   "cell_type": "code",
   "execution_count": 9,
   "id": "87e8797e",
   "metadata": {},
   "outputs": [
    {
     "data": {
      "text/plain": [
       "-392.772325698373"
      ]
     },
     "execution_count": 9,
     "metadata": {},
     "output_type": "execute_result"
    }
   ],
   "source": [
    "df_OUM[\"BIC\"].mean()"
   ]
  },
  {
   "cell_type": "code",
   "execution_count": null,
   "id": "db096ad0",
   "metadata": {},
   "outputs": [],
   "source": []
  }
 ],
 "metadata": {
  "kernelspec": {
   "display_name": "Python 3 (ipykernel)",
   "language": "python",
   "name": "python3"
  },
  "language_info": {
   "codemirror_mode": {
    "name": "ipython",
    "version": 3
   },
   "file_extension": ".py",
   "mimetype": "text/x-python",
   "name": "python",
   "nbconvert_exporter": "python",
   "pygments_lexer": "ipython3",
   "version": "3.11.4"
  }
 },
 "nbformat": 4,
 "nbformat_minor": 5
}
