{
 "cells": [
  {
   "cell_type": "code",
   "execution_count": 1,
   "id": "2cda49de",
   "metadata": {},
   "outputs": [],
   "source": [
    "%run SAT_help_functions.ipynb"
   ]
  },
  {
   "cell_type": "code",
   "execution_count": null,
   "id": "bc081cf9",
   "metadata": {},
   "outputs": [],
   "source": []
  },
  {
   "cell_type": "markdown",
   "id": "4bd26666",
   "metadata": {},
   "source": [
    "## OUM"
   ]
  },
  {
   "cell_type": "code",
   "execution_count": null,
   "id": "9ef6c434",
   "metadata": {},
   "outputs": [],
   "source": []
  },
  {
   "cell_type": "code",
   "execution_count": 2,
   "id": "e776257c",
   "metadata": {},
   "outputs": [],
   "source": [
    "sample_size = 20\n",
    "data_dir = '/Users/wangjiashun/Desktop/Reserach on SAT/datasets/Dutilh2019/validation_text_data/exp_4/pp'\n",
    "SAT_conds = [\"A\", \"B\"]"
   ]
  },
  {
   "cell_type": "code",
   "execution_count": 3,
   "id": "f434220f",
   "metadata": {},
   "outputs": [],
   "source": [
    "\n",
    "class DriftConstantSpeedAcc(Drift):\n",
    "    name = \"DriftConstantSpeedAcc\"\n",
    "    required_parameters = [\"Vspeed\",\"Vacc\"]\n",
    "    required_conditions = ['cond']\n",
    "        \n",
    "    def get_drift(self, x, t, conditions, **kwargs):\n",
    "        if conditions['cond'] == 'A':\n",
    "            return self.Vspeed\n",
    "        elif conditions['cond'] == 'B':\n",
    "            return self.Vacc\n",
    "        else: \n",
    "            print(\"Non-implemented SAT conditions\")\n",
    "            \n",
    "class BoundCollapsingLinearSAT(BoundCollapsingLinear):\n",
    "    name = \"BoundSpeedAcc\"\n",
    "    required_parameters = [\"BSpeed\", \"BAcc\", \"cSpeed\", 'cAcc']\n",
    "    required_conditions = ['cond']\n",
    "        \n",
    "    def get_bound(self, t, conditions, **kwargs):\n",
    "        if conditions['cond'] == 'A':\n",
    "            return max(self.BSpeed - self.cSpeed*t, 0.)\n",
    "        elif conditions['cond'] == 'B':\n",
    "            return max(self.BAcc - self.cAcc*t, 0.)\n",
    "        else: \n",
    "            print(\"Non-implemented SAT conditions\")\n",
    "\n",
    "\n",
    "class NondecisionSpeedAcc(OverlayNonDecision):\n",
    "    name = \"NondecisionSpeedAcc\"\n",
    "    required_parameters = [\"tSpeed\", 'tAcc']\n",
    "    required_conditions = ['cond']\n",
    "        \n",
    "    def get_nondecision_time(self, conditions, **kwargs):\n",
    "        if conditions['cond'] == 'A':\n",
    "            return self.tSpeed \n",
    "        elif conditions['cond'] == 'B':\n",
    "            return self.tAcc\n",
    "        else: \n",
    "            print(\"Non-implemented SAT conditions\")"
   ]
  },
  {
   "cell_type": "code",
   "execution_count": null,
   "id": "bbb278a6",
   "metadata": {},
   "outputs": [],
   "source": [
    "\n",
    "\n",
    "\n"
   ]
  },
  {
   "cell_type": "code",
   "execution_count": null,
   "id": "6e5e0074",
   "metadata": {},
   "outputs": [],
   "source": []
  },
  {
   "cell_type": "code",
   "execution_count": null,
   "id": "b1420222",
   "metadata": {},
   "outputs": [],
   "source": []
  },
  {
   "cell_type": "code",
   "execution_count": null,
   "id": "8a3f5185",
   "metadata": {},
   "outputs": [],
   "source": []
  },
  {
   "cell_type": "code",
   "execution_count": 4,
   "id": "fdb13001",
   "metadata": {
    "scrolled": true
   },
   "outputs": [
    {
     "name": "stderr",
     "output_type": "stream",
     "text": [
      "Warning: This function (from_pandas_dataframe()) is deprecated and will be removed in a future version of PyDDM.  Please use the choice_column_name argument instead.\n"
     ]
    },
    {
     "name": "stdout",
     "output_type": "stream",
     "text": [
      "0\n"
     ]
    },
    {
     "name": "stderr",
     "output_type": "stream",
     "text": [
      "Info: Params [1.0045011  1.26272896 0.79426404 0.7732381  0.6557232  0.\n",
      " 0.23216455 0.35496119] gave 265.74659483888615\n",
      "Warning: This function (from_pandas_dataframe()) is deprecated and will be removed in a future version of PyDDM.  Please use the choice_column_name argument instead.\n"
     ]
    },
    {
     "name": "stdout",
     "output_type": "stream",
     "text": [
      "   Drift Rate Speed  Drift Rate Accuracy  Boundary Separation Speed  \\\n",
      "0          1.004501             1.262729                   0.794264   \n",
      "\n",
      "   Boundary Separation Accuracy  Collapse Speed  Collapse Accuracy  \\\n",
      "0                      0.773238        0.655723                0.0   \n",
      "\n",
      "   Non-decision Time Speed  Non-decision Time Accuracy         BIC  \n",
      "0                 0.232165                    0.354961  265.746595  \n",
      "1\n"
     ]
    },
    {
     "name": "stderr",
     "output_type": "stream",
     "text": [
      "Info: Params [0.23812606 0.5590894  1.03819756 0.88720204 1.25914531 0.08897109\n",
      " 0.21387369 0.45184131] gave 475.20662481499824\n",
      "Warning: This function (from_pandas_dataframe()) is deprecated and will be removed in a future version of PyDDM.  Please use the choice_column_name argument instead.\n"
     ]
    },
    {
     "name": "stdout",
     "output_type": "stream",
     "text": [
      "   Drift Rate Speed  Drift Rate Accuracy  Boundary Separation Speed  \\\n",
      "0          0.238126             0.559089                   1.038198   \n",
      "\n",
      "   Boundary Separation Accuracy  Collapse Speed  Collapse Accuracy  \\\n",
      "0                      0.887202        1.259145           0.088971   \n",
      "\n",
      "   Non-decision Time Speed  Non-decision Time Accuracy         BIC  \n",
      "0                 0.213874                    0.451841  475.206625  \n",
      "2\n"
     ]
    },
    {
     "name": "stderr",
     "output_type": "stream",
     "text": [
      "Info: Params [1.55800503 1.60130559 0.57306041 0.84434322 0.26385373 0.32601766\n",
      " 0.25456868 0.36646748] gave -13.499988780218551\n",
      "Warning: This function (from_pandas_dataframe()) is deprecated and will be removed in a future version of PyDDM.  Please use the choice_column_name argument instead.\n"
     ]
    },
    {
     "name": "stdout",
     "output_type": "stream",
     "text": [
      "   Drift Rate Speed  Drift Rate Accuracy  Boundary Separation Speed  \\\n",
      "0          1.558005             1.601306                    0.57306   \n",
      "\n",
      "   Boundary Separation Accuracy  Collapse Speed  Collapse Accuracy  \\\n",
      "0                      0.844343        0.263854           0.326018   \n",
      "\n",
      "   Non-decision Time Speed  Non-decision Time Accuracy        BIC  \n",
      "0                 0.254569                    0.366467 -13.499989  \n",
      "3\n"
     ]
    },
    {
     "name": "stderr",
     "output_type": "stream",
     "text": [
      "Info: Params [0.15784159 1.05757991 0.5019775  0.94383674 0.29756853 0.08155076\n",
      " 0.18209421 0.24042172] gave 289.34317210158963\n",
      "Warning: This function (from_pandas_dataframe()) is deprecated and will be removed in a future version of PyDDM.  Please use the choice_column_name argument instead.\n"
     ]
    },
    {
     "name": "stdout",
     "output_type": "stream",
     "text": [
      "   Drift Rate Speed  Drift Rate Accuracy  Boundary Separation Speed  \\\n",
      "0          0.157842              1.05758                   0.501978   \n",
      "\n",
      "   Boundary Separation Accuracy  Collapse Speed  Collapse Accuracy  \\\n",
      "0                      0.943837        0.297569           0.081551   \n",
      "\n",
      "   Non-decision Time Speed  Non-decision Time Accuracy         BIC  \n",
      "0                 0.182094                    0.240422  289.343172  \n",
      "4\n"
     ]
    },
    {
     "name": "stderr",
     "output_type": "stream",
     "text": [
      "Info: Params [0.84517543 1.43263225 0.71107987 0.64515531 0.55128142 0.05442179\n",
      " 0.20576343 0.35958995] gave 139.61990017595372\n",
      "Warning: This function (from_pandas_dataframe()) is deprecated and will be removed in a future version of PyDDM.  Please use the choice_column_name argument instead.\n"
     ]
    },
    {
     "name": "stdout",
     "output_type": "stream",
     "text": [
      "   Drift Rate Speed  Drift Rate Accuracy  Boundary Separation Speed  \\\n",
      "0          0.845175             1.432632                    0.71108   \n",
      "\n",
      "   Boundary Separation Accuracy  Collapse Speed  Collapse Accuracy  \\\n",
      "0                      0.645155        0.551281           0.054422   \n",
      "\n",
      "   Non-decision Time Speed  Non-decision Time Accuracy       BIC  \n",
      "0                 0.205763                     0.35959  139.6199  \n",
      "5\n"
     ]
    },
    {
     "name": "stderr",
     "output_type": "stream",
     "text": [
      "Info: Params [1.48050147 1.30938358 0.84357893 0.95764666 1.20672666 0.34905659\n",
      " 0.33717676 0.47906473] gave 26.039049030910554\n",
      "Warning: This function (from_pandas_dataframe()) is deprecated and will be removed in a future version of PyDDM.  Please use the choice_column_name argument instead.\n"
     ]
    },
    {
     "name": "stdout",
     "output_type": "stream",
     "text": [
      "   Drift Rate Speed  Drift Rate Accuracy  Boundary Separation Speed  \\\n",
      "0          1.480501             1.309384                   0.843579   \n",
      "\n",
      "   Boundary Separation Accuracy  Collapse Speed  Collapse Accuracy  \\\n",
      "0                      0.957647        1.206727           0.349057   \n",
      "\n",
      "   Non-decision Time Speed  Non-decision Time Accuracy        BIC  \n",
      "0                 0.337177                    0.479065  26.039049  \n",
      "6\n"
     ]
    },
    {
     "name": "stderr",
     "output_type": "stream",
     "text": [
      "Info: Params [0.91946976 1.65593025 0.64939446 0.82724609 0.33928571 0.40997057\n",
      " 0.24752652 0.30382702] gave 76.78604841146151\n",
      "Warning: This function (from_pandas_dataframe()) is deprecated and will be removed in a future version of PyDDM.  Please use the choice_column_name argument instead.\n"
     ]
    },
    {
     "name": "stdout",
     "output_type": "stream",
     "text": [
      "   Drift Rate Speed  Drift Rate Accuracy  Boundary Separation Speed  \\\n",
      "0           0.91947              1.65593                   0.649394   \n",
      "\n",
      "   Boundary Separation Accuracy  Collapse Speed  Collapse Accuracy  \\\n",
      "0                      0.827246        0.339286           0.409971   \n",
      "\n",
      "   Non-decision Time Speed  Non-decision Time Accuracy        BIC  \n",
      "0                 0.247527                    0.303827  76.786048  \n",
      "7\n"
     ]
    },
    {
     "name": "stderr",
     "output_type": "stream",
     "text": [
      "Info: Params [1.27979565 1.82756231 0.83313866 0.93435056 0.97101449 0.93750067\n",
      " 0.27407558 0.3429196 ] gave -127.5081173922116\n",
      "Warning: This function (from_pandas_dataframe()) is deprecated and will be removed in a future version of PyDDM.  Please use the choice_column_name argument instead.\n"
     ]
    },
    {
     "name": "stdout",
     "output_type": "stream",
     "text": [
      "   Drift Rate Speed  Drift Rate Accuracy  Boundary Separation Speed  \\\n",
      "0          1.279796             1.827562                   0.833139   \n",
      "\n",
      "   Boundary Separation Accuracy  Collapse Speed  Collapse Accuracy  \\\n",
      "0                      0.934351        0.971014           0.937501   \n",
      "\n",
      "   Non-decision Time Speed  Non-decision Time Accuracy         BIC  \n",
      "0                 0.274076                     0.34292 -127.508117  \n",
      "8\n"
     ]
    },
    {
     "name": "stderr",
     "output_type": "stream",
     "text": [
      "Info: Params [1.13358278e+00 1.56296632e+00 6.49040233e-01 6.96028526e-01\n",
      " 8.33500099e-01 1.94681574e-05 3.41585230e-01 3.67336991e-01] gave 1.8100710481675222\n",
      "Warning: This function (from_pandas_dataframe()) is deprecated and will be removed in a future version of PyDDM.  Please use the choice_column_name argument instead.\n"
     ]
    },
    {
     "name": "stdout",
     "output_type": "stream",
     "text": [
      "   Drift Rate Speed  Drift Rate Accuracy  Boundary Separation Speed  \\\n",
      "0          1.133583             1.562966                    0.64904   \n",
      "\n",
      "   Boundary Separation Accuracy  Collapse Speed  Collapse Accuracy  \\\n",
      "0                      0.696029          0.8335           0.000019   \n",
      "\n",
      "   Non-decision Time Speed  Non-decision Time Accuracy       BIC  \n",
      "0                 0.341585                    0.367337  1.810071  \n",
      "9\n"
     ]
    },
    {
     "name": "stderr",
     "output_type": "stream",
     "text": [
      "Info: Params [0.36477479 0.9811214  0.89703745 1.04736697 1.19038062 0.24444447\n",
      " 0.18147151 0.44642976] gave 349.1686647107764\n",
      "Warning: This function (from_pandas_dataframe()) is deprecated and will be removed in a future version of PyDDM.  Please use the choice_column_name argument instead.\n"
     ]
    },
    {
     "name": "stdout",
     "output_type": "stream",
     "text": [
      "   Drift Rate Speed  Drift Rate Accuracy  Boundary Separation Speed  \\\n",
      "0          0.364775             0.981121                   0.897037   \n",
      "\n",
      "   Boundary Separation Accuracy  Collapse Speed  Collapse Accuracy  \\\n",
      "0                      1.047367        1.190381           0.244444   \n",
      "\n",
      "   Non-decision Time Speed  Non-decision Time Accuracy         BIC  \n",
      "0                 0.181472                     0.44643  349.168665  \n",
      "10\n"
     ]
    },
    {
     "name": "stderr",
     "output_type": "stream",
     "text": [
      "Info: Params [1.06874616 1.26820698 0.78337265 1.13835451 0.29268295 0.23013285\n",
      " 0.21740923 0.28305465] gave 414.40227459359653\n",
      "Warning: This function (from_pandas_dataframe()) is deprecated and will be removed in a future version of PyDDM.  Please use the choice_column_name argument instead.\n"
     ]
    },
    {
     "name": "stdout",
     "output_type": "stream",
     "text": [
      "   Drift Rate Speed  Drift Rate Accuracy  Boundary Separation Speed  \\\n",
      "0          1.068746             1.268207                   0.783373   \n",
      "\n",
      "   Boundary Separation Accuracy  Collapse Speed  Collapse Accuracy  \\\n",
      "0                      1.138355        0.292683           0.230133   \n",
      "\n",
      "   Non-decision Time Speed  Non-decision Time Accuracy         BIC  \n",
      "0                 0.217409                    0.283055  414.402275  \n",
      "11\n"
     ]
    },
    {
     "name": "stderr",
     "output_type": "stream",
     "text": [
      "Info: Params [1.34948958 1.19017009 0.66281548 0.74500363 0.49470771 0.12123909\n",
      " 0.30928436 0.40353151] gave 124.85768936302534\n",
      "Warning: This function (from_pandas_dataframe()) is deprecated and will be removed in a future version of PyDDM.  Please use the choice_column_name argument instead.\n"
     ]
    },
    {
     "name": "stdout",
     "output_type": "stream",
     "text": [
      "   Drift Rate Speed  Drift Rate Accuracy  Boundary Separation Speed  \\\n",
      "0           1.34949              1.19017                   0.662815   \n",
      "\n",
      "   Boundary Separation Accuracy  Collapse Speed  Collapse Accuracy  \\\n",
      "0                      0.745004        0.494708           0.121239   \n",
      "\n",
      "   Non-decision Time Speed  Non-decision Time Accuracy         BIC  \n",
      "0                 0.309284                    0.403532  124.857689  \n",
      "12\n"
     ]
    },
    {
     "name": "stderr",
     "output_type": "stream",
     "text": [
      "Info: Params [0.90878985 1.66774854 0.62686854 0.62019289 0.3943662  0.14864846\n",
      " 0.23263907 0.30922191] gave 113.94905042953366\n",
      "Warning: This function (from_pandas_dataframe()) is deprecated and will be removed in a future version of PyDDM.  Please use the choice_column_name argument instead.\n"
     ]
    },
    {
     "name": "stdout",
     "output_type": "stream",
     "text": [
      "   Drift Rate Speed  Drift Rate Accuracy  Boundary Separation Speed  \\\n",
      "0           0.90879             1.667749                   0.626869   \n",
      "\n",
      "   Boundary Separation Accuracy  Collapse Speed  Collapse Accuracy  \\\n",
      "0                      0.620193        0.394366           0.148648   \n",
      "\n",
      "   Non-decision Time Speed  Non-decision Time Accuracy        BIC  \n",
      "0                 0.232639                    0.309222  113.94905  \n",
      "13\n"
     ]
    },
    {
     "name": "stderr",
     "output_type": "stream",
     "text": [
      "Info: Params [1.0739683  1.17513316 0.76978279 0.79327046 0.78371985 0.04615384\n",
      " 0.207994   0.32541648] gave 216.79236371721817\n",
      "Warning: This function (from_pandas_dataframe()) is deprecated and will be removed in a future version of PyDDM.  Please use the choice_column_name argument instead.\n"
     ]
    },
    {
     "name": "stdout",
     "output_type": "stream",
     "text": [
      "   Drift Rate Speed  Drift Rate Accuracy  Boundary Separation Speed  \\\n",
      "0          1.073968             1.175133                   0.769783   \n",
      "\n",
      "   Boundary Separation Accuracy  Collapse Speed  Collapse Accuracy  \\\n",
      "0                       0.79327         0.78372           0.046154   \n",
      "\n",
      "   Non-decision Time Speed  Non-decision Time Accuracy         BIC  \n",
      "0                 0.207994                    0.325416  216.792364  \n",
      "14\n"
     ]
    },
    {
     "name": "stderr",
     "output_type": "stream",
     "text": [
      "Info: Params [0.76690956 1.19897127 0.63466209 0.65792334 0.3166194  0.06284742\n",
      " 0.2082287  0.26949942] gave 174.46152392765742\n",
      "Warning: This function (from_pandas_dataframe()) is deprecated and will be removed in a future version of PyDDM.  Please use the choice_column_name argument instead.\n"
     ]
    },
    {
     "name": "stdout",
     "output_type": "stream",
     "text": [
      "   Drift Rate Speed  Drift Rate Accuracy  Boundary Separation Speed  \\\n",
      "0           0.76691             1.198971                   0.634662   \n",
      "\n",
      "   Boundary Separation Accuracy  Collapse Speed  Collapse Accuracy  \\\n",
      "0                      0.657923        0.316619           0.062847   \n",
      "\n",
      "   Non-decision Time Speed  Non-decision Time Accuracy         BIC  \n",
      "0                 0.208229                    0.269499  174.461524  \n",
      "15\n"
     ]
    },
    {
     "name": "stderr",
     "output_type": "stream",
     "text": [
      "Info: Params [1.34702581e+00 2.02785144e+00 5.83484101e-01 8.39751276e-01\n",
      " 4.48727148e-01 4.59738814e-04 2.45756141e-01 3.16217176e-01] gave -103.02759344357418\n",
      "Warning: This function (from_pandas_dataframe()) is deprecated and will be removed in a future version of PyDDM.  Please use the choice_column_name argument instead.\n"
     ]
    },
    {
     "name": "stdout",
     "output_type": "stream",
     "text": [
      "   Drift Rate Speed  Drift Rate Accuracy  Boundary Separation Speed  \\\n",
      "0          1.347026             2.027851                   0.583484   \n",
      "\n",
      "   Boundary Separation Accuracy  Collapse Speed  Collapse Accuracy  \\\n",
      "0                      0.839751        0.448727            0.00046   \n",
      "\n",
      "   Non-decision Time Speed  Non-decision Time Accuracy         BIC  \n",
      "0                 0.245756                    0.316217 -103.027593  \n",
      "16\n"
     ]
    },
    {
     "name": "stderr",
     "output_type": "stream",
     "text": [
      "Info: Params [1.06836198e+00 8.39320855e-01 5.24156799e-01 5.74782935e-01\n",
      " 2.94043549e-01 3.77498425e-04 2.70672094e-01 3.72439432e-01] gave 146.74445916909278\n",
      "Warning: This function (from_pandas_dataframe()) is deprecated and will be removed in a future version of PyDDM.  Please use the choice_column_name argument instead.\n"
     ]
    },
    {
     "name": "stdout",
     "output_type": "stream",
     "text": [
      "   Drift Rate Speed  Drift Rate Accuracy  Boundary Separation Speed  \\\n",
      "0          1.068362             0.839321                   0.524157   \n",
      "\n",
      "   Boundary Separation Accuracy  Collapse Speed  Collapse Accuracy  \\\n",
      "0                      0.574783        0.294044           0.000377   \n",
      "\n",
      "   Non-decision Time Speed  Non-decision Time Accuracy         BIC  \n",
      "0                 0.270672                    0.372439  146.744459  \n",
      "17\n"
     ]
    },
    {
     "name": "stderr",
     "output_type": "stream",
     "text": [
      "Info: Params [1.86232861 1.92111429 0.62568031 0.65430541 0.40909115 0.01785714\n",
      " 0.28985346 0.35372135] gave -139.31856787545618\n",
      "Warning: This function (from_pandas_dataframe()) is deprecated and will be removed in a future version of PyDDM.  Please use the choice_column_name argument instead.\n"
     ]
    },
    {
     "name": "stdout",
     "output_type": "stream",
     "text": [
      "   Drift Rate Speed  Drift Rate Accuracy  Boundary Separation Speed  \\\n",
      "0          1.862329             1.921114                    0.62568   \n",
      "\n",
      "   Boundary Separation Accuracy  Collapse Speed  Collapse Accuracy  \\\n",
      "0                      0.654305        0.409091           0.017857   \n",
      "\n",
      "   Non-decision Time Speed  Non-decision Time Accuracy         BIC  \n",
      "0                 0.289853                    0.353721 -139.318568  \n",
      "18\n"
     ]
    },
    {
     "name": "stderr",
     "output_type": "stream",
     "text": [
      "Info: Params [2.02474984 1.47146635 0.65210284 0.70229358 0.28378378 0.00210745\n",
      " 0.27121086 0.31467578] gave 27.974777370562897\n",
      "Warning: This function (from_pandas_dataframe()) is deprecated and will be removed in a future version of PyDDM.  Please use the choice_column_name argument instead.\n"
     ]
    },
    {
     "name": "stdout",
     "output_type": "stream",
     "text": [
      "   Drift Rate Speed  Drift Rate Accuracy  Boundary Separation Speed  \\\n",
      "0           2.02475             1.471466                   0.652103   \n",
      "\n",
      "   Boundary Separation Accuracy  Collapse Speed  Collapse Accuracy  \\\n",
      "0                      0.702294        0.283784           0.002107   \n",
      "\n",
      "   Non-decision Time Speed  Non-decision Time Accuracy        BIC  \n",
      "0                 0.271211                    0.314676  27.974777  \n",
      "19\n"
     ]
    },
    {
     "name": "stderr",
     "output_type": "stream",
     "text": [
      "Info: Params [0.21192845 0.69223574 0.70540269 0.66732776 0.40281411 0.12903225\n",
      " 0.20752108 0.32177527] gave 355.5387324043362\n"
     ]
    },
    {
     "name": "stdout",
     "output_type": "stream",
     "text": [
      "   Drift Rate Speed  Drift Rate Accuracy  Boundary Separation Speed  \\\n",
      "0          0.211928             0.692236                   0.705403   \n",
      "\n",
      "   Boundary Separation Accuracy  Collapse Speed  Collapse Accuracy  \\\n",
      "0                      0.667328        0.402814           0.129032   \n",
      "\n",
      "   Non-decision Time Speed  Non-decision Time Accuracy         BIC  \n",
      "0                 0.207521                    0.321775  355.538732  \n"
     ]
    }
   ],
   "source": [
    "df_all = pd.DataFrame()\n",
    "for i in range(sample_size):\n",
    "    print(i)\n",
    "    path = os.path.join(data_dir+str(i+1)+\".txt\")\n",
    "    df = pd.read_csv(path, sep = \" \")\n",
    "    #df = df[df[\"cond\"]==SAT] # A condition\n",
    "    df = df[df[\"rt\"]<5]\n",
    "\n",
    "    samp = Sample.from_pandas_dataframe(df, rt_column_name=\"rt\", correct_column_name=\"correct\")\n",
    "    df = get_DDM_result_sub_2v2a2c2ter(samp)\n",
    "    df_all = pd.concat((df_all,df))\n",
    "    print(df)\n",
    "df_OUM = df_all.copy()\n"
   ]
  },
  {
   "cell_type": "code",
   "execution_count": 5,
   "id": "3b05a53a",
   "metadata": {},
   "outputs": [],
   "source": [
    "df_OUM.to_csv(\"DDM2v2a2c2terresultDutilh2019.csv\")"
   ]
  },
  {
   "cell_type": "code",
   "execution_count": 6,
   "id": "87e8797e",
   "metadata": {},
   "outputs": [
    {
     "data": {
      "text/plain": [
       "140.75433643081533"
      ]
     },
     "execution_count": 6,
     "metadata": {},
     "output_type": "execute_result"
    }
   ],
   "source": [
    "df_OUM[\"BIC\"].mean()"
   ]
  }
 ],
 "metadata": {
  "kernelspec": {
   "display_name": "Python 3 (ipykernel)",
   "language": "python",
   "name": "python3"
  },
  "language_info": {
   "codemirror_mode": {
    "name": "ipython",
    "version": 3
   },
   "file_extension": ".py",
   "mimetype": "text/x-python",
   "name": "python",
   "nbconvert_exporter": "python",
   "pygments_lexer": "ipython3",
   "version": "3.11.4"
  }
 },
 "nbformat": 4,
 "nbformat_minor": 5
}
