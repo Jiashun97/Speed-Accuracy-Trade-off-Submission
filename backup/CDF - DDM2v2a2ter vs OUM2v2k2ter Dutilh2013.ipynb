{
 "cells": [
  {
   "cell_type": "code",
   "execution_count": 1,
   "id": "cbd5cb6a",
   "metadata": {},
   "outputs": [],
   "source": [
    "%run SAT_help_functions.ipynb\n",
    "%matplotlib inline"
   ]
  },
  {
   "cell_type": "code",
   "execution_count": null,
   "id": "d5454e0d",
   "metadata": {},
   "outputs": [],
   "source": []
  },
  {
   "cell_type": "code",
   "execution_count": null,
   "id": "85762052",
   "metadata": {},
   "outputs": [],
   "source": []
  },
  {
   "cell_type": "code",
   "execution_count": null,
   "id": "fde3829c",
   "metadata": {},
   "outputs": [],
   "source": []
  },
  {
   "cell_type": "code",
   "execution_count": null,
   "id": "4fb9b732",
   "metadata": {},
   "outputs": [],
   "source": []
  },
  {
   "cell_type": "code",
   "execution_count": 2,
   "id": "3c56e9bb",
   "metadata": {},
   "outputs": [],
   "source": [
    "data_dir = \"/Users/wangjiashun/Desktop/Reserach on SAT/datasets/Evans2021/Dutilh2013/dataBySubject/sub\"\n",
    "sample_size = 32\n",
    "correct = 'Correct'\n",
    "corrects = [True, False]\n",
    "cond = 'Cond' \n",
    "conds = ['speed', 'accuracy']\n",
    "rt = 'Time'\n",
    "\n",
    "model = 'DDM2v2a2ter'\n",
    "dataset = 'Dutilh2013'\n",
    "params_all = pd.read_csv(model+\"result\"+dataset+\".csv\")# .drop(labels=3, axis=0)"
   ]
  },
  {
   "cell_type": "code",
   "execution_count": 3,
   "id": "e9b8d412",
   "metadata": {},
   "outputs": [],
   "source": [
    "def get_RT_quantile_sub(df, correct, corrects, cond, conds, rt, quantiles = [.1, .3, .5, .7, .9]):\n",
    "    \n",
    "    # RT quantiles\n",
    "    #print(df)\n",
    "    #print(correct)\n",
    "    #print(corrects[0])\n",
    "    df_cor = df.loc[df[correct]==corrects[0]]\n",
    "    RT_cor_s = df_cor.loc[df_cor[cond]==conds[0]][rt].quantile(q=quantiles)\n",
    "    RT_cor_a = df_cor.loc[df_cor[cond]==conds[1]][rt].quantile(q=quantiles)\n",
    "    \n",
    "    df_err = df.loc[df[correct]==corrects[1]]\n",
    "    RT_err_s = df_err.loc[df_err[cond]==conds[0]][rt].quantile(q=quantiles)\n",
    "    RT_err_a = df_err.loc[df_err[cond]==conds[1]][rt].quantile(q=quantiles)\n",
    "    \n",
    "    # number of trials\n",
    "    num_cor_s = len(df_cor.loc[df_cor[cond]==conds[0]])\n",
    "    num_cor_a = len(df_cor.loc[df_cor[cond]==conds[1]])\n",
    "\n",
    "    num_err_s = len(df_err.loc[df_err[cond]==conds[0]])\n",
    "    num_err_a = len(df_err.loc[df_err[cond]==conds[1]])\n",
    "    \n",
    "    return RT_cor_s, RT_cor_a, RT_err_s, RT_err_a, [num_cor_s,num_cor_a,num_err_s,num_err_a]\n",
    "\n",
    "#get_RT_quantile_sub(df = df, rt = rt, correct = correct, corrects = corrects, cond = cond, conds = conds)"
   ]
  },
  {
   "cell_type": "code",
   "execution_count": null,
   "id": "b95b2b87",
   "metadata": {},
   "outputs": [],
   "source": []
  },
  {
   "cell_type": "code",
   "execution_count": null,
   "id": "c4469014",
   "metadata": {},
   "outputs": [],
   "source": []
  },
  {
   "cell_type": "code",
   "execution_count": 4,
   "id": "83304fb6",
   "metadata": {},
   "outputs": [],
   "source": [
    "def get_RT_quantile(data_dir, sample_size, correct, corrects, cond, conds, rt, quantiles = [.1, .3, .5, .7, .9]):\n",
    "\n",
    "    RT_cor_ss, RT_cor_as, RT_err_ss, RT_err_as, nums = np.zeros((sample_size,5)),np.zeros((sample_size,5)),np.zeros((sample_size,5)),np.zeros((sample_size,5)),np.zeros((sample_size,4))\n",
    "    for i in range(sample_size):\n",
    "        #print(i)\n",
    "        path = os.path.join(data_dir+str(i+1)+\".csv\")\n",
    "        df = pd.read_csv(path, sep = \",\")\n",
    "        #print(df)\n",
    "        df = df[df[\"Time\"]<5]\n",
    "        RT_cor_s, RT_cor_a, RT_err_s, RT_err_a, num = get_RT_quantile_sub(\n",
    "            df = df, rt = rt,\n",
    "            correct = correct, corrects = corrects,\n",
    "            cond = cond, conds = conds)\n",
    "        #print(RT_cor_s)\n",
    "        RT_cor_ss[i,:] = RT_cor_s\n",
    "        RT_cor_as[i,:] = RT_cor_a\n",
    "        RT_err_ss[i,:] = RT_err_s\n",
    "        RT_err_as[i,:] = RT_err_a\n",
    "        nums[i,:] = num\n",
    "        \n",
    "        #print(RT_err_s)\n",
    "\n",
    "    \n",
    "    return np.nanmean(RT_cor_ss, axis = 0), np.nanmean(RT_cor_as, axis = 0), np.nanmean(RT_err_ss, axis = 0), np.nanmean(RT_err_as, axis = 0), np.nanmean(nums, axis = 0)\n",
    "\n",
    "RT_cor_s, RT_cor_a, RT_err_s, RT_err_a, nums = get_RT_quantile(data_dir = data_dir,sample_size= sample_size, correct = correct, corrects = corrects,\n",
    "        cond = cond, conds = conds, rt = rt)"
   ]
  },
  {
   "cell_type": "code",
   "execution_count": 5,
   "id": "d9c0a9da",
   "metadata": {},
   "outputs": [
    {
     "data": {
      "text/plain": [
       "(array([0.36632813, 0.41967156, 0.46460625, 0.51626281, 0.61198688]),\n",
       " array([0.4333625 , 0.49226188, 0.53988906, 0.59362563, 0.70324844]),\n",
       " array([0.33552516, 0.38715968, 0.42969677, 0.47299581, 0.55357258]),\n",
       " array([0.41975741, 0.47310815, 0.51570556, 0.56611111, 0.68121963]),\n",
       " array([290.15625, 144.25   ,  86.8125 ,  23.59375]))"
      ]
     },
     "execution_count": 5,
     "metadata": {},
     "output_type": "execute_result"
    }
   ],
   "source": [
    "get_RT_quantile(data_dir = data_dir,sample_size= sample_size, correct = correct, corrects = corrects,\n",
    "        cond = cond, conds = conds, rt = rt)"
   ]
  },
  {
   "cell_type": "code",
   "execution_count": 6,
   "id": "a9e50d65",
   "metadata": {
    "scrolled": false
   },
   "outputs": [],
   "source": [
    "#params = np.array(params_all)[0,1:6]\n",
    "\n",
    "class DriftBothSpeedAcc(Drift):\n",
    "    name = \"DriftBothSpeedAcc\"\n",
    "    required_parameters = [\"Vspeed\",\"Vacc\", \"Kspeed\", \"Kacc\"]\n",
    "    required_conditions = ['Cond']\n",
    "        \n",
    "    def get_drift(self, x, t, conditions, **kwargs):\n",
    "        if conditions['Cond'] == 'speed':\n",
    "            return self.Vspeed + x*self.Kspeed \n",
    "        elif conditions['Cond'] == 'accuracy':\n",
    "            return self.Vacc + x*self.Kacc\n",
    "        else: \n",
    "            print(\"Non-implemented SAT conditions\")\n",
    "            \n",
    "class DriftConstantSpeedAcc(Drift):\n",
    "    name = \"DriftConstantSpeedAcc\"\n",
    "    required_parameters = [\"Vspeed\",\"Vacc\"]\n",
    "    required_conditions = ['Cond']\n",
    "        \n",
    "    def get_drift(self, x, t, conditions, **kwargs):\n",
    "        if conditions['Cond'] == 'speed':\n",
    "            return self.Vspeed\n",
    "        elif conditions['Cond'] == 'accuracy':\n",
    "            return self.Vacc\n",
    "        else: \n",
    "            print(\"Non-implemented SAT conditions\")\n",
    "\n",
    "class DriftExcitationSpeedAcc(Drift):\n",
    "    name = \"DriftSpeedAcc\"\n",
    "    required_parameters = [\"drift\", \"Kspeed\", \"Kacc\"]\n",
    "    required_conditions = ['Cond']\n",
    "        \n",
    "    def get_drift(self, x, t, conditions, **kwargs):\n",
    "        if conditions['Cond'] == 'speed':\n",
    "            return self.drift + x*self.Kspeed \n",
    "        elif conditions['Cond'] == 'accuracy':\n",
    "            return self.drift + x*self.Kacc\n",
    "        else: \n",
    "            print(\"Non-implemented SAT conditions\")\n",
    "\n",
    "class BoundSpeedAcc(Bound):\n",
    "    name = \"BoundSpeedAcc\"\n",
    "    required_parameters = [\"Bspeed\", \"Bacc\"]\n",
    "    required_conditions = ['Cond']\n",
    "    def get_bound(self, conditions, *args, **kwargs):\n",
    "        assert self.Bacc > 0\n",
    "        assert self.Bspeed > 0\n",
    "        if conditions['Cond'] == 'speed':\n",
    "            return self.Bspeed\n",
    "        elif conditions['Cond'] == 'accuracy':\n",
    "            return self.Bacc\n",
    "        else:\n",
    "            print(\"Non-implemented SAT conditions\")\n",
    "            \n",
    "class NondecisionSpeedAcc(OverlayNonDecision):\n",
    "    name = \"NondecisionSpeedAcc\"\n",
    "    required_parameters = [\"tSpeed\", 'tAcc']\n",
    "    required_conditions = ['Cond']\n",
    "        \n",
    "    def get_nondecision_time(self, conditions, **kwargs):\n",
    "        if conditions['Cond'] == 'speed':\n",
    "            return self.tSpeed \n",
    "        elif conditions['Cond'] == 'accuracy':\n",
    "            return self.tAcc\n",
    "        else: \n",
    "            print(\"Non-implemented SAT conditions\")\n",
    "            \n",
    "def get_RT_quantile_DDM_sub(params, T_dur=5):\n",
    "\n",
    "    Vspeed,Vacc, Bspeed,Bacc,tSpeed,tAcc = params[0],params[1],params[2],params[3],params[4],params[5]\n",
    "\n",
    "    model = Model(name='Simple model (fitted)',\n",
    "                      drift=DriftConstantSpeedAcc(Vspeed=Vspeed, Vacc=Vacc), \n",
    "                      noise=NoiseConstant(noise=1),\n",
    "                      bound=BoundSpeedAcc(Bspeed=Bspeed,Bacc=Bacc),\n",
    "                      overlay=NondecisionSpeedAcc(tSpeed=tSpeed,tAcc=tAcc),\n",
    "                      dx=.001, dt=.001, T_dur=T_dur)\n",
    "    sol_s = model.solve({'Cond':'speed'})\n",
    "    samp_s = sol_s.resample(10000)\n",
    "    data_s = samp_s.to_pandas_dataframe(drop_undecided = True)\n",
    "\n",
    "    sol_a = model.solve({'Cond':'accuracy'})\n",
    "    samp_a = sol_a.resample(10000)\n",
    "    data_a = samp_a.to_pandas_dataframe(drop_undecided = True)\n",
    "\n",
    "    data = pd.concat((data_s, data_a))\n",
    "\n",
    "    return get_RT_quantile_sub(data, 'choice', [1,0], 'Cond', conds, 'RT')\n",
    "#get_RT_quantile_DDM_sub(params = np.array(params_all)[3,1:7])"
   ]
  },
  {
   "cell_type": "code",
   "execution_count": null,
   "id": "04ea01d3",
   "metadata": {},
   "outputs": [],
   "source": []
  },
  {
   "cell_type": "code",
   "execution_count": null,
   "id": "412ab58b",
   "metadata": {},
   "outputs": [],
   "source": []
  },
  {
   "cell_type": "code",
   "execution_count": null,
   "id": "1afa028c",
   "metadata": {},
   "outputs": [],
   "source": []
  },
  {
   "cell_type": "code",
   "execution_count": 7,
   "id": "71337541",
   "metadata": {},
   "outputs": [
    {
     "name": "stderr",
     "output_type": "stream",
     "text": [
      "Warning: Setting undecided probability from -0.000000 to 0\n",
      "Warning: Setting undecided probability from -0.000000 to 0\n",
      "Warning: Setting undecided probability from -0.000000 to 0\n"
     ]
    }
   ],
   "source": [
    "def get_RT_quantile_DDM(params_all, sample_size, correct, corrects, cond, conds, rt, quantiles = [.1, .3, .5, .7, .9]):\n",
    "\n",
    "    RT_cor_ss, RT_cor_as, RT_err_ss, RT_err_as, nums = np.zeros((sample_size,5)),np.zeros((sample_size,5)),np.zeros((sample_size,5)),np.zeros((sample_size,5)),np.zeros((sample_size,4))\n",
    "    for i in range(sample_size):\n",
    "        #print(i)\n",
    "        params = np.array(params_all)[i,1:7]\n",
    "        \n",
    "        \n",
    "        RT_cor_s, RT_cor_a, RT_err_s, RT_err_a, num = get_RT_quantile_DDM_sub(params = params)\n",
    "        #print(RT_err_a)\n",
    "        RT_cor_ss[i,:] = RT_cor_s\n",
    "        RT_cor_as[i,:] = RT_cor_a\n",
    "        RT_err_ss[i,:] = RT_err_s\n",
    "        RT_err_as[i,:] = RT_err_a\n",
    "        nums[i,:] = num\n",
    "    \n",
    "    return np.nanmean(RT_cor_ss, axis = 0), np.nanmean(RT_cor_as, axis = 0), np.nanmean(RT_err_ss, axis = 0), np.nanmean(RT_err_as, axis = 0), np.nanmean(nums, axis = 0)\n",
    "\n",
    "RT_cor_s, RT_cor_a, RT_err_s, RT_err_a, nums = get_RT_quantile_DDM(params_all = params_all,sample_size= sample_size, correct = correct, corrects = corrects,\n",
    "        cond = cond, conds = conds, rt = rt)"
   ]
  },
  {
   "cell_type": "code",
   "execution_count": null,
   "id": "e28f1e7c",
   "metadata": {},
   "outputs": [],
   "source": []
  },
  {
   "cell_type": "code",
   "execution_count": 8,
   "id": "0b2cd8ed",
   "metadata": {
    "scrolled": false
   },
   "outputs": [
    {
     "name": "stderr",
     "output_type": "stream",
     "text": [
      "Warning: Setting undecided probability from -0.000000 to 0\n",
      "Warning: Setting undecided probability from -0.000000 to 0\n",
      "Warning: Setting undecided probability from -0.000000 to 0\n"
     ]
    },
    {
     "data": {
      "text/plain": [
       "<Axes: xlabel='Probability of Response', ylabel='RT'>"
      ]
     },
     "execution_count": 8,
     "metadata": {},
     "output_type": "execute_result"
    },
    {
     "data": {
      "image/png": "[encoded data removed]",
      "text/plain": [
       "<Figure size 640x480 with 1 Axes>"
      ]
     },
     "metadata": {},
     "output_type": "display_data"
    }
   ],
   "source": [
    "def DDM_QP_plot(ax=None):\n",
    "    if ax is None:\n",
    "        ax = plt.gca()\n",
    "    \n",
    "    quantiles = [.1, .3, .5, .7, .9]\n",
    "    ## behavioral data\n",
    "    RT_cor_s, RT_cor_a, RT_err_s, RT_err_a, nums = get_RT_quantile(data_dir = data_dir,sample_size= sample_size, \n",
    "                                                                   correct = correct, corrects = corrects,\n",
    "                                                                   cond = cond, conds = conds, rt = rt)\n",
    "    \n",
    "    ax.plot([nums[0]/(nums[0]+nums[2])]*5, RT_cor_s,\"o\", color = '#008176', fillstyle = 'none')\n",
    "    ax.plot([nums[1]/(nums[1]+nums[3])]*5, RT_cor_a,\"o\", color = '#008176', fillstyle = 'none')\n",
    "    ax.plot([nums[2]/(nums[0]+nums[2])]*5, RT_err_s,\"o\", color = '#c1272d', fillstyle = 'none')\n",
    "    ax.plot([nums[3]/(nums[1]+nums[3])]*5, RT_err_a,\"o\", color = '#c1272d', fillstyle = 'none')\n",
    "    \n",
    "    ## data generated from model\n",
    "    RT_cor_s, RT_cor_a, RT_err_s, RT_err_a, nums = get_RT_quantile_DDM(params_all = params_all,sample_size= sample_size, \n",
    "                                                                   correct = correct, corrects = corrects,\n",
    "                                                                   cond = cond, conds = conds, rt = rt)\n",
    "    \n",
    "    ax.plot([nums[0]/(nums[0]+nums[2])]*5, RT_cor_s,\"x\", color = '#008176', fillstyle = 'none')\n",
    "    ax.plot([nums[1]/(nums[1]+nums[3])]*5, RT_cor_a,\"x\", color = '#008176', fillstyle = 'none')\n",
    "    ax.plot([nums[2]/(nums[0]+nums[2])]*5, RT_err_s,\"x\", color = '#c1272d', fillstyle = 'none')\n",
    "    ax.plot([nums[3]/(nums[1]+nums[3])]*5, RT_err_a,\"x\", color = '#c1272d', fillstyle = 'none')\n",
    "    \n",
    "    # limits\n",
    "    ax.set_xlim(0,1)\n",
    "    ax.set_ylim(0,)\n",
    "        \n",
    "    ax.set_xlabel(\"Probability of Response\")\n",
    "    ax.set_ylabel(\"RT\")\n",
    "    return(ax)\n",
    "DDM_QP_plot()"
   ]
  },
  {
   "cell_type": "code",
   "execution_count": 16,
   "id": "54e1ff7c",
   "metadata": {},
   "outputs": [
    {
     "name": "stderr",
     "output_type": "stream",
     "text": [
      "Warning: Setting undecided probability from -0.000000 to 0\n",
      "Warning: Setting undecided probability from -0.000000 to 0\n",
      "Warning: Setting undecided probability from -0.000000 to 0\n"
     ]
    },
    {
     "data": {
      "text/plain": [
       "Text(0, 0.5, 'Cumulative Probability')"
      ]
     },
     "execution_count": 16,
     "metadata": {},
     "output_type": "execute_result"
    },
    {
     "data": {
      "image/png": "[encoded data removed]",
      "text/plain": [
       "<Figure size 640x480 with 1 Axes>"
      ]
     },
     "metadata": {},
     "output_type": "display_data"
    }
   ],
   "source": [
    "## Do they produce the same quantiles?\n",
    "#def DDM_CDF_plot(ax=None):\n",
    "\n",
    "#if ax is None:\n",
    "ax = plt.gca()\n",
    "\n",
    "quantiles = [.1, .3, .5, .7, .9]\n",
    "## behavioral data\n",
    "RT_cor_s, RT_cor_a, RT_err_s, RT_err_a, nums = get_RT_quantile(data_dir = data_dir,sample_size= sample_size, \n",
    "                                                               correct = correct, corrects = corrects,\n",
    "                                                               cond = cond, conds = conds, rt = rt)\n",
    "\n",
    "ax.plot(RT_cor_s,quantiles, \"o\", color = '#008176', fillstyle = 'none')\n",
    "#ax.plot(RT_cor_a,quantiles,\"o\", color = '#008176', fillstyle = 'none')\n",
    "ax.plot(RT_err_s,quantiles,\"o\", color = '#c1272d', fillstyle = 'none')\n",
    "#ax.plot(RT_err_a,quantiles,\"o\", color = '#c1272d', fillstyle = 'none')\n",
    "\n",
    "## data generated from model\n",
    "RT_cor_s, RT_cor_a, RT_err_s, RT_err_a, nums = get_RT_quantile_DDM(params_all = params_all,sample_size= sample_size, \n",
    "                                                               correct = correct, corrects = corrects,\n",
    "                                                               cond = cond, conds = conds, rt = rt)\n",
    "\n",
    "ax.plot(RT_cor_s, quantiles, \"x\", color = '#008176', fillstyle = 'none')\n",
    "#ax.plot(RT_cor_a, quantiles, \"x\", color = '#008176', fillstyle = 'none')\n",
    "ax.plot(RT_err_s, quantiles, \"x\", color = '#c1272d', fillstyle = 'none')\n",
    "#ax.plot(RT_err_a, quantiles, \"x\", color = '#c1272d', fillstyle = 'none')\n",
    "\n",
    "# limits\n",
    "ax.set_xlim(0,1)\n",
    "ax.set_ylim(0,)\n",
    "\n",
    "ax.set_xlabel(\"Response Time\")\n",
    "ax.set_ylabel(\"Cumulative Probability\")\n",
    "#return(ax)\n",
    "\n",
    "#DDM_QP_plot()"
   ]
  },
  {
   "cell_type": "code",
   "execution_count": 28,
   "id": "23638cca",
   "metadata": {},
   "outputs": [
    {
     "data": {
      "text/plain": [
       "array([0.0769709 , 0.23091271, 0.38485451, 0.53879632, 0.69273812])"
      ]
     },
     "execution_count": 28,
     "metadata": {},
     "output_type": "execute_result"
    }
   ],
   "source": [
    "np.array(quantiles)*[nums[0]/(nums[0]+nums[2])]"
   ]
  },
  {
   "cell_type": "code",
   "execution_count": 25,
   "id": "c0833a78",
   "metadata": {},
   "outputs": [
    {
     "ename": "TypeError",
     "evalue": "can't multiply sequence by non-int of type 'numpy.float64'",
     "output_type": "error",
     "traceback": [
      "\u001b[0;31m---------------------------------------------------------------------------\u001b[0m",
      "\u001b[0;31mTypeError\u001b[0m                                 Traceback (most recent call last)",
      "Cell \u001b[0;32mIn[25], line 1\u001b[0m\n\u001b[0;32m----> 1\u001b[0m quantiles\u001b[38;5;241m*\u001b[39m[nums[\u001b[38;5;241m0\u001b[39m]\u001b[38;5;241m/\u001b[39m(nums[\u001b[38;5;241m0\u001b[39m]\u001b[38;5;241m+\u001b[39mnums[\u001b[38;5;241m2\u001b[39m])][\u001b[38;5;241m0\u001b[39m]\n",
      "\u001b[0;31mTypeError\u001b[0m: can't multiply sequence by non-int of type 'numpy.float64'"
     ]
    }
   ],
   "source": [
    "quantiles*[nums[0]/(nums[0]+nums[2])][0]"
   ]
  },
  {
   "cell_type": "code",
   "execution_count": 32,
   "id": "19ebdcbc",
   "metadata": {},
   "outputs": [
    {
     "name": "stderr",
     "output_type": "stream",
     "text": [
      "Warning: Setting undecided probability from -0.000000 to 0\n",
      "Warning: Setting undecided probability from -0.000000 to 0\n",
      "Warning: Setting undecided probability from -0.000000 to 0\n"
     ]
    },
    {
     "data": {
      "text/plain": [
       "Text(0, 0.5, 'RT')"
      ]
     },
     "execution_count": 32,
     "metadata": {},
     "output_type": "execute_result"
    },
    {
     "data": {
      "image/png": "[encoded data removed]",
      "text/plain": [
       "<Figure size 640x480 with 1 Axes>"
      ]
     },
     "metadata": {},
     "output_type": "display_data"
    }
   ],
   "source": [
    "#def DDM_QP_plot(ax=None):\n",
    "#if ax is None:\n",
    "ax = plt.gca()\n",
    "\n",
    "quantiles = [.1, .3, .5, .7, .9]\n",
    "## behavioral data\n",
    "RT_cor_s, RT_cor_a, RT_err_s, RT_err_a, nums = get_RT_quantile(data_dir = data_dir,sample_size= sample_size, \n",
    "                                                               correct = correct, corrects = corrects,\n",
    "                                                               cond = cond, conds = conds, rt = rt)\n",
    "\n",
    "ax.plot(RT_cor_s,np.array(quantiles)*[nums[0]/(nums[0]+nums[2])],\"o\", color = '#008176', fillstyle = 'none')\n",
    "ax.plot(RT_cor_a,np.array(quantiles)*[nums[1]/(nums[1]+nums[3])], \"o\", color = '#008176', fillstyle = 'none')\n",
    "ax.plot(RT_err_s,np.array(quantiles)*[nums[2]/(nums[0]+nums[2])], \"o\", color = '#c1272d', fillstyle = 'none')\n",
    "ax.plot(RT_err_a,np.array(quantiles)*[nums[3]/(nums[1]+nums[3])], \"o\", color = '#c1272d', fillstyle = 'none')\n",
    "\n",
    "## data generated from model\n",
    "RT_cor_s, RT_cor_a, RT_err_s, RT_err_a, nums = get_RT_quantile_DDM(params_all = params_all,sample_size= sample_size, \n",
    "                                                               correct = correct, corrects = corrects,\n",
    "                                                               cond = cond, conds = conds, rt = rt)\n",
    "\n",
    "ax.plot(RT_cor_s,np.array(quantiles)*[nums[0]/(nums[0]+nums[2])], \"-x\", color = '#008176', fillstyle = 'none')\n",
    "ax.plot(RT_cor_a,np.array(quantiles)*[nums[1]/(nums[1]+nums[3])], \"-x\", color = '#008176', fillstyle = 'none')\n",
    "ax.plot(RT_err_s,np.array(quantiles)*[nums[2]/(nums[0]+nums[2])], \"-x\", color = '#c1272d', fillstyle = 'none')\n",
    "ax.plot(RT_err_a,np.array(quantiles)*[nums[3]/(nums[1]+nums[3])], \"-x\", color = '#c1272d', fillstyle = 'none')\n",
    "\n",
    "# limits\n",
    "ax.set_xlim(0,1)\n",
    "ax.set_ylim(0,)\n",
    "\n",
    "ax.set_xlabel(\"Probability of Response\")\n",
    "ax.set_ylabel(\"RT\")\n",
    "#return(ax)\n",
    "#DDM_QP_plot()"
   ]
  },
  {
   "cell_type": "code",
   "execution_count": null,
   "id": "96bb4081",
   "metadata": {},
   "outputs": [],
   "source": []
  },
  {
   "cell_type": "code",
   "execution_count": 10,
   "id": "3f434f3a",
   "metadata": {},
   "outputs": [],
   "source": [
    "model = 'OUM2v2k2ter'\n",
    "dataset = 'Dutilh2013'\n",
    "params_all = pd.read_csv(model+\"result\"+dataset+\".csv\")#.drop(labels=3, axis=0)\n"
   ]
  },
  {
   "cell_type": "code",
   "execution_count": null,
   "id": "b7e2596b",
   "metadata": {},
   "outputs": [],
   "source": []
  },
  {
   "cell_type": "code",
   "execution_count": 11,
   "id": "09d261d0",
   "metadata": {},
   "outputs": [],
   "source": [
    "#params = np.array(params_all)[0,1:8]\n"
   ]
  },
  {
   "cell_type": "code",
   "execution_count": 12,
   "id": "c53c974e",
   "metadata": {},
   "outputs": [],
   "source": [
    "def get_RT_quantile_OUM2v2k2ter_sub(params, T_dur=5):\n",
    "\n",
    "    Vspeed,Vacc, Kspeed,Kacc,B,tSpeed,tAcc = params[0],params[1],params[2],params[3],params[4],params[5],params[6]\n",
    "\n",
    "    model = Model(name='Simple model (fitted)',\n",
    "                      drift=DriftBothSpeedAcc(Vspeed=Vspeed, Vacc=Vacc, Kspeed=Kspeed, Kacc=Kacc),                              \n",
    "                      noise=NoiseConstant(noise=1),\n",
    "                      bound=BoundConstant(B=B),\n",
    "                      overlay=NondecisionSpeedAcc(tSpeed=tSpeed,tAcc=tAcc),\n",
    "                      dx=.001, dt=.001, T_dur=T_dur)\n",
    "    sol_s = model.solve({'Cond':'speed'})\n",
    "    samp_s = sol_s.resample(1000)\n",
    "    data_s = samp_s.to_pandas_dataframe(drop_undecided = True)\n",
    "\n",
    "    sol_a = model.solve({'Cond':'accuracy'})\n",
    "    samp_a = sol_a.resample(1000)\n",
    "    data_a = samp_a.to_pandas_dataframe(drop_undecided = True)\n",
    "\n",
    "    data = pd.concat((data_s, data_a))\n",
    "    #print(data)\n",
    "    return get_RT_quantile_sub(data, 'choice', [1,0], 'Cond', conds, 'RT')\n",
    "#get_RT_quantile_OUM2v2k2ter_sub(params = np.array(params_all)[0,1:8])"
   ]
  },
  {
   "cell_type": "code",
   "execution_count": null,
   "id": "f4c5afd2",
   "metadata": {},
   "outputs": [],
   "source": []
  },
  {
   "cell_type": "code",
   "execution_count": null,
   "id": "eb20d755",
   "metadata": {},
   "outputs": [],
   "source": []
  },
  {
   "cell_type": "code",
   "execution_count": 13,
   "id": "f1022a0d",
   "metadata": {},
   "outputs": [],
   "source": [
    "def get_RT_quantile_OUM2v2k2ter(params_all, sample_size, correct, corrects, cond, conds, rt, quantiles = [.1, .3, .5, .7, .9]):\n",
    "\n",
    "    RT_cor_ss, RT_cor_as, RT_err_ss, RT_err_as, nums = np.zeros((sample_size,5)),np.zeros((sample_size,5)),np.zeros((sample_size,5)),np.zeros((sample_size,5)),np.zeros((sample_size,4))\n",
    "    for i in range(sample_size):\n",
    "\n",
    "        params = np.array(params_all)[i,1:8]\n",
    "        RT_cor_s, RT_cor_a, RT_err_s, RT_err_a, num = get_RT_quantile_OUM2v2k2ter_sub(params = params)\n",
    "        #print(RT_err_a)\n",
    "        RT_cor_ss[i,:] = RT_cor_s\n",
    "        RT_cor_as[i,:] = RT_cor_a\n",
    "        RT_err_ss[i,:] = RT_err_s\n",
    "        RT_err_as[i,:] = RT_err_a\n",
    "        nums[i,:] = num\n",
    "    \n",
    "    return np.nanmean(RT_cor_ss, axis = 0), np.nanmean(RT_cor_as, axis = 0), np.nanmean(RT_err_ss, axis = 0), np.nanmean(RT_err_as, axis = 0), np.nanmean(nums, axis = 0)\n",
    "\n",
    "RT_cor_s, RT_cor_a, RT_err_s, RT_err_a, nums = get_RT_quantile_OUM2v2k2ter(params_all = params_all,sample_size= sample_size, correct = correct, corrects = corrects,\n",
    "        cond = cond, conds = conds, rt = rt)"
   ]
  },
  {
   "cell_type": "code",
   "execution_count": 14,
   "id": "b9551ad3",
   "metadata": {},
   "outputs": [
    {
     "data": {
      "text/plain": [
       "<Axes: xlabel='Probability of Response', ylabel='RT'>"
      ]
     },
     "execution_count": 14,
     "metadata": {},
     "output_type": "execute_result"
    },
    {
     "data": {
      "image/png": "[encoded data removed]",
      "text/plain": [
       "<Figure size 640x480 with 1 Axes>"
      ]
     },
     "metadata": {},
     "output_type": "display_data"
    }
   ],
   "source": [
    "def OUM2v2k2ter_QP_plot(ax=None):\n",
    "    if ax is None:\n",
    "        ax = plt.gca()\n",
    "    \n",
    "    quantiles = [.1, .3, .5, .7, .9]\n",
    "    ## behavioral data\n",
    "    RT_cor_s, RT_cor_a, RT_err_s, RT_err_a, nums = get_RT_quantile(data_dir = data_dir,sample_size= sample_size, \n",
    "                                                                   correct = correct, corrects = corrects,\n",
    "                                                                   cond = cond, conds = conds, rt = rt)\n",
    "    \n",
    "    ax.plot([nums[0]/(nums[0]+nums[2])]*5, RT_cor_s,\"o\", color = '#008176', fillstyle = 'none')\n",
    "    ax.plot([nums[1]/(nums[1]+nums[3])]*5, RT_cor_a,\"o\", color = '#008176', fillstyle = 'none')\n",
    "    ax.plot([nums[2]/(nums[0]+nums[2])]*5, RT_err_s,\"o\", color = '#c1272d', fillstyle = 'none')\n",
    "    ax.plot([nums[3]/(nums[1]+nums[3])]*5, RT_err_a,\"o\", color = '#c1272d', fillstyle = 'none')\n",
    "    \n",
    "    ## data generated from model\n",
    "    RT_cor_s, RT_cor_a, RT_err_s, RT_err_a, nums = get_RT_quantile_OUM2v2k2ter(params_all = params_all,sample_size= sample_size, \n",
    "                                                                   correct = correct, corrects = corrects,\n",
    "                                                                   cond = cond, conds = conds, rt = rt)\n",
    "    \n",
    "    ax.plot([nums[0]/(nums[0]+nums[2])]*5, RT_cor_s,\"x\", color = '#008176', fillstyle = 'none')\n",
    "    ax.plot([nums[1]/(nums[1]+nums[3])]*5, RT_cor_a,\"x\", color = '#008176', fillstyle = 'none')\n",
    "    ax.plot([nums[2]/(nums[0]+nums[2])]*5, RT_err_s,\"x\", color = '#c1272d', fillstyle = 'none')\n",
    "    ax.plot([nums[3]/(nums[1]+nums[3])]*5, RT_err_a,\"x\", color = '#c1272d', fillstyle = 'none')\n",
    "    \n",
    "    # limits\n",
    "    ax.set_xlim(0,1)\n",
    "    ax.set_ylim(0,)\n",
    "        \n",
    "    ax.set_xlabel(\"Probability of Response\")\n",
    "    ax.set_ylabel(\"RT\")\n",
    "    return(ax)\n",
    "OUM2v2k2ter_QP_plot()"
   ]
  },
  {
   "cell_type": "code",
   "execution_count": 16,
   "id": "73130a29",
   "metadata": {},
   "outputs": [
    {
     "name": "stderr",
     "output_type": "stream",
     "text": [
      "Warning: Setting undecided probability from -0.000000 to 0\n",
      "Warning: Setting undecided probability from -0.000000 to 0\n",
      "Warning: Setting undecided probability from -0.000000 to 0\n"
     ]
    },
    {
     "data": {
      "text/plain": [
       "<Axes: xlabel='Probability of Response', ylabel='RT'>"
      ]
     },
     "execution_count": 16,
     "metadata": {},
     "output_type": "execute_result"
    },
    {
     "data": {
      "image/png": "[encoded data removed]",
      "text/plain": [
       "<Figure size 640x480 with 1 Axes>"
      ]
     },
     "metadata": {},
     "output_type": "display_data"
    }
   ],
   "source": [
    "DDM_OUM_QP_plot(dataset, data_dir = data_dir,sample_size= sample_size, \n",
    "                   correct = correct, corrects = corrects,\n",
    "                   cond = cond, conds = conds, rt = rt)"
   ]
  },
  {
   "cell_type": "code",
   "execution_count": null,
   "id": "7e1b694c",
   "metadata": {},
   "outputs": [],
   "source": []
  }
 ],
 "metadata": {
  "kernelspec": {
   "display_name": "Python 3 (ipykernel)",
   "language": "python",
   "name": "python3"
  },
  "language_info": {
   "codemirror_mode": {
    "name": "ipython",
    "version": 3
   },
   "file_extension": ".py",
   "mimetype": "text/x-python",
   "name": "python",
   "nbconvert_exporter": "python",
   "pygments_lexer": "ipython3",
   "version": "3.11.4"
  }
 },
 "nbformat": 4,
 "nbformat_minor": 5
}
