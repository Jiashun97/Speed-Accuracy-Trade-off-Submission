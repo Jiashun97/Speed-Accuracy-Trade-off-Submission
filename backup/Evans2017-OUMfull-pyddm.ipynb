{
 "cells": [
  {
   "cell_type": "code",
   "execution_count": 1,
   "id": "2cda49de",
   "metadata": {},
   "outputs": [],
   "source": [
    "%run SAT_help_functions.ipynb"
   ]
  },
  {
   "cell_type": "code",
   "execution_count": null,
   "id": "bc081cf9",
   "metadata": {},
   "outputs": [],
   "source": []
  },
  {
   "cell_type": "markdown",
   "id": "4bd26666",
   "metadata": {},
   "source": [
    "## OUM"
   ]
  },
  {
   "cell_type": "code",
   "execution_count": null,
   "id": "9ef6c434",
   "metadata": {},
   "outputs": [],
   "source": []
  },
  {
   "cell_type": "code",
   "execution_count": 2,
   "id": "e776257c",
   "metadata": {},
   "outputs": [],
   "source": [
    "data_dir = \"/Users/wangjiashun/Desktop/Reserach on SAT/datasets/Evans2021/Evans2017/dataBySubject/sub\"\n",
    "sample_size = 47\n",
    "SAT_conds = [\"Speed\", \"Accuracy\"]"
   ]
  },
  {
   "cell_type": "code",
   "execution_count": 3,
   "id": "2d56afe5",
   "metadata": {},
   "outputs": [],
   "source": [
    "\n",
    "class DriftBothSpeedAcc(Drift):\n",
    "    name = \"DriftBothSpeedAcc\"\n",
    "    required_parameters = [\"Vspeed\",\"Vacc\", \"Kspeed\", \"Kacc\"]\n",
    "    required_conditions = ['Cond']\n",
    "        \n",
    "    def get_drift(self, x, t, conditions, **kwargs):\n",
    "        if conditions['Cond'] == 'Speed':\n",
    "            return self.Vspeed + x*self.Kspeed \n",
    "        elif conditions['Cond'] == 'Accuracy':\n",
    "            return self.Vacc + x*self.Kacc\n",
    "        else: \n",
    "            print(\"Non-implemented SAT conditions\")"
   ]
  },
  {
   "cell_type": "code",
   "execution_count": 4,
   "id": "61d2afb1",
   "metadata": {},
   "outputs": [],
   "source": [
    "class BoundSpeedAcc(Bound):\n",
    "    name = \"BoundSpeedAcc\"\n",
    "    required_parameters = [\"Bspeed\", \"Bacc\"]\n",
    "    required_conditions = ['Cond']\n",
    "    def get_bound(self, conditions, *args, **kwargs):\n",
    "        assert self.Bacc > 0\n",
    "        assert self.Bspeed > 0\n",
    "        if conditions['Cond'] == 'Speed':\n",
    "            return self.Bspeed\n",
    "        elif conditions['Cond'] == 'Accuracy':\n",
    "            return self.Bacc\n",
    "        else:\n",
    "            print(\"Non-implemented SAT conditions\")"
   ]
  },
  {
   "cell_type": "code",
   "execution_count": 5,
   "id": "f434220f",
   "metadata": {},
   "outputs": [],
   "source": [
    "\n",
    "class NondecisionSpeedAcc(OverlayNonDecision):\n",
    "    name = \"DriftSpeedAcc\"\n",
    "    required_parameters = [\"tSpeed\", 'tAcc']\n",
    "    required_conditions = ['Cond']\n",
    "        \n",
    "    def get_nondecision_time(self, conditions, **kwargs):\n",
    "        if conditions['Cond'] == 'Speed':\n",
    "            return self.tSpeed \n",
    "        elif conditions['Cond'] == 'Accuracy':\n",
    "            return self.tAcc\n",
    "        else: \n",
    "            print(\"Non-implemented SAT conditions\")"
   ]
  },
  {
   "cell_type": "code",
   "execution_count": null,
   "id": "bbb278a6",
   "metadata": {},
   "outputs": [],
   "source": [
    "\n"
   ]
  },
  {
   "cell_type": "code",
   "execution_count": null,
   "id": "6e5e0074",
   "metadata": {},
   "outputs": [],
   "source": []
  },
  {
   "cell_type": "code",
   "execution_count": null,
   "id": "b1e0fe9b",
   "metadata": {},
   "outputs": [],
   "source": []
  },
  {
   "cell_type": "code",
   "execution_count": 6,
   "id": "fdb13001",
   "metadata": {
    "scrolled": true
   },
   "outputs": [
    {
     "name": "stderr",
     "output_type": "stream",
     "text": [
      "Warning: This function (from_pandas_dataframe()) is deprecated and will be removed in a future version of PyDDM.  Please use the choice_column_name argument instead.\n"
     ]
    },
    {
     "name": "stdout",
     "output_type": "stream",
     "text": [
      "0\n"
     ]
    },
    {
     "name": "stderr",
     "output_type": "stream",
     "text": [
      "Info: Params [ 0.72353971  0.87872829  5.59721322 -0.06880903  0.90547336  0.9082972\n",
      "  0.30770364  0.37851139] gave 503.6008048989178\n",
      "Warning: This function (from_pandas_dataframe()) is deprecated and will be removed in a future version of PyDDM.  Please use the choice_column_name argument instead.\n"
     ]
    },
    {
     "name": "stdout",
     "output_type": "stream",
     "text": [
      "   Drift Rate Speed  Drift Rate Accuracy  Self-excitation Speed  \\\n",
      "0           0.72354             0.878728               5.597213   \n",
      "\n",
      "   Self-excitation Accuracy  Boundary Separation Speed  \\\n",
      "0                 -0.068809                   0.905473   \n",
      "\n",
      "   Boundary Separation Accuracy  Non-decision Time Speed  \\\n",
      "0                      0.908297                 0.307704   \n",
      "\n",
      "   Non-decision Time Accuracy         BIC  \n",
      "0                    0.378511  503.600805  \n",
      "1\n"
     ]
    },
    {
     "name": "stderr",
     "output_type": "stream",
     "text": [
      "Info: Params [ 3.02079521  1.49741192  8.84791215 -9.59682942  3.47320572  0.59191292\n",
      "  0.33969938  0.55129238] gave 217.86880701903613\n",
      "Warning: This function (from_pandas_dataframe()) is deprecated and will be removed in a future version of PyDDM.  Please use the choice_column_name argument instead.\n"
     ]
    },
    {
     "name": "stdout",
     "output_type": "stream",
     "text": [
      "   Drift Rate Speed  Drift Rate Accuracy  Self-excitation Speed  \\\n",
      "0          3.020795             1.497412               8.847912   \n",
      "\n",
      "   Self-excitation Accuracy  Boundary Separation Speed  \\\n",
      "0                 -9.596829                   3.473206   \n",
      "\n",
      "   Boundary Separation Accuracy  Non-decision Time Speed  \\\n",
      "0                      0.591913                 0.339699   \n",
      "\n",
      "   Non-decision Time Accuracy         BIC  \n",
      "0                    0.551292  217.868807  \n",
      "2\n"
     ]
    },
    {
     "name": "stderr",
     "output_type": "stream",
     "text": [
      "Info: Params [1.20182647 1.30131123 5.19950858 2.13221863 1.21983853 1.58253279\n",
      " 0.20165562 0.18995536] gave 217.58218372914473\n",
      "Warning: This function (from_pandas_dataframe()) is deprecated and will be removed in a future version of PyDDM.  Please use the choice_column_name argument instead.\n"
     ]
    },
    {
     "name": "stdout",
     "output_type": "stream",
     "text": [
      "   Drift Rate Speed  Drift Rate Accuracy  Self-excitation Speed  \\\n",
      "0          1.201826             1.301311               5.199509   \n",
      "\n",
      "   Self-excitation Accuracy  Boundary Separation Speed  \\\n",
      "0                  2.132219                   1.219839   \n",
      "\n",
      "   Boundary Separation Accuracy  Non-decision Time Speed  \\\n",
      "0                      1.582533                 0.201656   \n",
      "\n",
      "   Non-decision Time Accuracy         BIC  \n",
      "0                    0.189955  217.582184  \n",
      "3\n"
     ]
    },
    {
     "name": "stderr",
     "output_type": "stream",
     "text": [
      "Info: Params [1.62031739 1.01783297 2.64016686 0.53021408 1.39858113 7.89831364\n",
      " 0.33554373 0.21624744] gave 673.608661067478\n",
      "Warning: This function (from_pandas_dataframe()) is deprecated and will be removed in a future version of PyDDM.  Please use the choice_column_name argument instead.\n"
     ]
    },
    {
     "name": "stdout",
     "output_type": "stream",
     "text": [
      "   Drift Rate Speed  Drift Rate Accuracy  Self-excitation Speed  \\\n",
      "0          1.620317             1.017833               2.640167   \n",
      "\n",
      "   Self-excitation Accuracy  Boundary Separation Speed  \\\n",
      "0                  0.530214                   1.398581   \n",
      "\n",
      "   Boundary Separation Accuracy  Non-decision Time Speed  \\\n",
      "0                      7.898314                 0.335544   \n",
      "\n",
      "   Non-decision Time Accuracy         BIC  \n",
      "0                    0.216247  673.608661  \n",
      "4\n"
     ]
    },
    {
     "name": "stderr",
     "output_type": "stream",
     "text": [
      "Info: Params [1.90556716 1.1040549  9.02930142 2.29819423 7.63825729 1.40029421\n",
      " 0.18096272 0.32867139] gave 206.09976184478103\n",
      "Warning: This function (from_pandas_dataframe()) is deprecated and will be removed in a future version of PyDDM.  Please use the choice_column_name argument instead.\n"
     ]
    },
    {
     "name": "stdout",
     "output_type": "stream",
     "text": [
      "   Drift Rate Speed  Drift Rate Accuracy  Self-excitation Speed  \\\n",
      "0          1.905567             1.104055               9.029301   \n",
      "\n",
      "   Self-excitation Accuracy  Boundary Separation Speed  \\\n",
      "0                  2.298194                   7.638257   \n",
      "\n",
      "   Boundary Separation Accuracy  Non-decision Time Speed  \\\n",
      "0                      1.400294                 0.180963   \n",
      "\n",
      "   Non-decision Time Accuracy         BIC  \n",
      "0                    0.328671  206.099762  \n",
      "5\n"
     ]
    },
    {
     "name": "stderr",
     "output_type": "stream",
     "text": [
      "Info: Params [1.36738946 0.97700579 4.89025151 1.54990032 0.9345766  1.44162602\n",
      " 0.39748813 0.37574573] gave 473.40231108340345\n",
      "Warning: This function (from_pandas_dataframe()) is deprecated and will be removed in a future version of PyDDM.  Please use the choice_column_name argument instead.\n"
     ]
    },
    {
     "name": "stdout",
     "output_type": "stream",
     "text": [
      "   Drift Rate Speed  Drift Rate Accuracy  Self-excitation Speed  \\\n",
      "0          1.367389             0.977006               4.890252   \n",
      "\n",
      "   Self-excitation Accuracy  Boundary Separation Speed  \\\n",
      "0                    1.5499                   0.934577   \n",
      "\n",
      "   Boundary Separation Accuracy  Non-decision Time Speed  \\\n",
      "0                      1.441626                 0.397488   \n",
      "\n",
      "   Non-decision Time Accuracy         BIC  \n",
      "0                    0.375746  473.402311  \n",
      "6\n"
     ]
    },
    {
     "name": "stderr",
     "output_type": "stream",
     "text": [
      "Info: Params [0.49241816 1.06606163 6.46769858 3.33450744 1.57939075 1.18605609\n",
      " 0.11340849 0.32201862] gave 338.58231770205225\n",
      "Warning: This function (from_pandas_dataframe()) is deprecated and will be removed in a future version of PyDDM.  Please use the choice_column_name argument instead.\n"
     ]
    },
    {
     "name": "stdout",
     "output_type": "stream",
     "text": [
      "   Drift Rate Speed  Drift Rate Accuracy  Self-excitation Speed  \\\n",
      "0          0.492418             1.066062               6.467699   \n",
      "\n",
      "   Self-excitation Accuracy  Boundary Separation Speed  \\\n",
      "0                  3.334507                   1.579391   \n",
      "\n",
      "   Boundary Separation Accuracy  Non-decision Time Speed  \\\n",
      "0                      1.186056                 0.113408   \n",
      "\n",
      "   Non-decision Time Accuracy         BIC  \n",
      "0                    0.322019  338.582318  \n",
      "7\n"
     ]
    },
    {
     "name": "stderr",
     "output_type": "stream",
     "text": [
      "Info: Params [1.9039438  1.96257704 6.1094463  2.73191337 1.09798086 1.67422477\n",
      " 0.39354716 0.41827271] gave -96.07253884466279\n",
      "Warning: This function (from_pandas_dataframe()) is deprecated and will be removed in a future version of PyDDM.  Please use the choice_column_name argument instead.\n"
     ]
    },
    {
     "name": "stdout",
     "output_type": "stream",
     "text": [
      "   Drift Rate Speed  Drift Rate Accuracy  Self-excitation Speed  \\\n",
      "0          1.903944             1.962577               6.109446   \n",
      "\n",
      "   Self-excitation Accuracy  Boundary Separation Speed  \\\n",
      "0                  2.731913                   1.097981   \n",
      "\n",
      "   Boundary Separation Accuracy  Non-decision Time Speed  \\\n",
      "0                      1.674225                 0.393547   \n",
      "\n",
      "   Non-decision Time Accuracy        BIC  \n",
      "0                    0.418273 -96.072539  \n",
      "8\n"
     ]
    },
    {
     "name": "stderr",
     "output_type": "stream",
     "text": [
      "Info: Params [2.04091858 1.56007713 4.87504356 1.68933488 2.71452919 3.05127776\n",
      " 0.31487686 0.12445113] gave 160.38625467621205\n",
      "Warning: This function (from_pandas_dataframe()) is deprecated and will be removed in a future version of PyDDM.  Please use the choice_column_name argument instead.\n"
     ]
    },
    {
     "name": "stdout",
     "output_type": "stream",
     "text": [
      "   Drift Rate Speed  Drift Rate Accuracy  Self-excitation Speed  \\\n",
      "0          2.040919             1.560077               4.875044   \n",
      "\n",
      "   Self-excitation Accuracy  Boundary Separation Speed  \\\n",
      "0                  1.689335                   2.714529   \n",
      "\n",
      "   Boundary Separation Accuracy  Non-decision Time Speed  \\\n",
      "0                      3.051278                 0.314877   \n",
      "\n",
      "   Non-decision Time Accuracy         BIC  \n",
      "0                    0.124451  160.386255  \n",
      "9\n"
     ]
    },
    {
     "name": "stderr",
     "output_type": "stream",
     "text": [
      "Info: Params [0.73484593 0.45128093 2.40807843 1.06781907 0.90726592 1.16557662\n",
      " 0.34158154 0.32765053] gave 829.6836221932228\n",
      "Warning: This function (from_pandas_dataframe()) is deprecated and will be removed in a future version of PyDDM.  Please use the choice_column_name argument instead.\n"
     ]
    },
    {
     "name": "stdout",
     "output_type": "stream",
     "text": [
      "   Drift Rate Speed  Drift Rate Accuracy  Self-excitation Speed  \\\n",
      "0          0.734846             0.451281               2.408078   \n",
      "\n",
      "   Self-excitation Accuracy  Boundary Separation Speed  \\\n",
      "0                  1.067819                   0.907266   \n",
      "\n",
      "   Boundary Separation Accuracy  Non-decision Time Speed  \\\n",
      "0                      1.165577                 0.341582   \n",
      "\n",
      "   Non-decision Time Accuracy         BIC  \n",
      "0                    0.327651  829.683622  \n",
      "10\n"
     ]
    },
    {
     "name": "stderr",
     "output_type": "stream",
     "text": [
      "Info: Params [0.99484322 0.31375724 3.14347541 0.20928501 0.81048322 1.2306201\n",
      " 0.4037397  0.38751586] gave 911.9783982786262\n",
      "Warning: This function (from_pandas_dataframe()) is deprecated and will be removed in a future version of PyDDM.  Please use the choice_column_name argument instead.\n"
     ]
    },
    {
     "name": "stdout",
     "output_type": "stream",
     "text": [
      "   Drift Rate Speed  Drift Rate Accuracy  Self-excitation Speed  \\\n",
      "0          0.994843             0.313757               3.143475   \n",
      "\n",
      "   Self-excitation Accuracy  Boundary Separation Speed  \\\n",
      "0                  0.209285                   0.810483   \n",
      "\n",
      "   Boundary Separation Accuracy  Non-decision Time Speed  \\\n",
      "0                       1.23062                  0.40374   \n",
      "\n",
      "   Non-decision Time Accuracy         BIC  \n",
      "0                    0.387516  911.978398  \n",
      "11\n"
     ]
    },
    {
     "name": "stderr",
     "output_type": "stream",
     "text": [
      "Info: Params [ 0.78393892  0.78570286  5.15742271 -0.84164478  1.98699739  0.9074887\n",
      "  0.12994193  0.45981855] gave 669.2291689779089\n",
      "Warning: This function (from_pandas_dataframe()) is deprecated and will be removed in a future version of PyDDM.  Please use the choice_column_name argument instead.\n"
     ]
    },
    {
     "name": "stdout",
     "output_type": "stream",
     "text": [
      "   Drift Rate Speed  Drift Rate Accuracy  Self-excitation Speed  \\\n",
      "0          0.783939             0.785703               5.157423   \n",
      "\n",
      "   Self-excitation Accuracy  Boundary Separation Speed  \\\n",
      "0                 -0.841645                   1.986997   \n",
      "\n",
      "   Boundary Separation Accuracy  Non-decision Time Speed  \\\n",
      "0                      0.907489                 0.129942   \n",
      "\n",
      "   Non-decision Time Accuracy         BIC  \n",
      "0                    0.459819  669.229169  \n",
      "12\n"
     ]
    },
    {
     "name": "stderr",
     "output_type": "stream",
     "text": [
      "Info: Params [1.35399439 0.68350422 2.38610312 0.47068992 1.16081044 1.47103694\n",
      " 0.3685647  0.34486193] gave 723.4074913112057\n",
      "Warning: This function (from_pandas_dataframe()) is deprecated and will be removed in a future version of PyDDM.  Please use the choice_column_name argument instead.\n"
     ]
    },
    {
     "name": "stdout",
     "output_type": "stream",
     "text": [
      "   Drift Rate Speed  Drift Rate Accuracy  Self-excitation Speed  \\\n",
      "0          1.353994             0.683504               2.386103   \n",
      "\n",
      "   Self-excitation Accuracy  Boundary Separation Speed  \\\n",
      "0                   0.47069                    1.16081   \n",
      "\n",
      "   Boundary Separation Accuracy  Non-decision Time Speed  \\\n",
      "0                      1.471037                 0.368565   \n",
      "\n",
      "   Non-decision Time Accuracy         BIC  \n",
      "0                    0.344862  723.407491  \n",
      "13\n"
     ]
    },
    {
     "name": "stderr",
     "output_type": "stream",
     "text": [
      "Info: Params [0.55055363 0.62823947 1.18508541 1.10365016 0.98977513 1.44274644\n",
      " 0.36471298 0.33043339] gave 990.7533917274734\n",
      "Warning: This function (from_pandas_dataframe()) is deprecated and will be removed in a future version of PyDDM.  Please use the choice_column_name argument instead.\n"
     ]
    },
    {
     "name": "stdout",
     "output_type": "stream",
     "text": [
      "   Drift Rate Speed  Drift Rate Accuracy  Self-excitation Speed  \\\n",
      "0          0.550554             0.628239               1.185085   \n",
      "\n",
      "   Self-excitation Accuracy  Boundary Separation Speed  \\\n",
      "0                   1.10365                   0.989775   \n",
      "\n",
      "   Boundary Separation Accuracy  Non-decision Time Speed  \\\n",
      "0                      1.442746                 0.364713   \n",
      "\n",
      "   Non-decision Time Accuracy         BIC  \n",
      "0                    0.330433  990.753392  \n",
      "14\n"
     ]
    },
    {
     "name": "stderr",
     "output_type": "stream",
     "text": [
      "Info: Params [0.56142076 0.54621    3.62385259 0.91060262 1.51089568 1.37876554\n",
      " 0.1360306  0.24797034] gave 827.7976424225237\n",
      "Warning: This function (from_pandas_dataframe()) is deprecated and will be removed in a future version of PyDDM.  Please use the choice_column_name argument instead.\n"
     ]
    },
    {
     "name": "stdout",
     "output_type": "stream",
     "text": [
      "   Drift Rate Speed  Drift Rate Accuracy  Self-excitation Speed  \\\n",
      "0          0.561421              0.54621               3.623853   \n",
      "\n",
      "   Self-excitation Accuracy  Boundary Separation Speed  \\\n",
      "0                  0.910603                   1.510896   \n",
      "\n",
      "   Boundary Separation Accuracy  Non-decision Time Speed  \\\n",
      "0                      1.378766                 0.136031   \n",
      "\n",
      "   Non-decision Time Accuracy         BIC  \n",
      "0                     0.24797  827.797642  \n",
      "15\n"
     ]
    },
    {
     "name": "stderr",
     "output_type": "stream",
     "text": [
      "Info: Params [ 1.63003642  0.97082523  4.20366726 -2.65645958  1.31586125  0.80697977\n",
      "  0.34350262  0.53653757] gave 603.6975496025384\n",
      "Warning: This function (from_pandas_dataframe()) is deprecated and will be removed in a future version of PyDDM.  Please use the choice_column_name argument instead.\n"
     ]
    },
    {
     "name": "stdout",
     "output_type": "stream",
     "text": [
      "   Drift Rate Speed  Drift Rate Accuracy  Self-excitation Speed  \\\n",
      "0          1.630036             0.970825               4.203667   \n",
      "\n",
      "   Self-excitation Accuracy  Boundary Separation Speed  \\\n",
      "0                  -2.65646                   1.315861   \n",
      "\n",
      "   Boundary Separation Accuracy  Non-decision Time Speed  \\\n",
      "0                       0.80698                 0.343503   \n",
      "\n",
      "   Non-decision Time Accuracy        BIC  \n",
      "0                    0.536538  603.69755  \n",
      "16\n"
     ]
    },
    {
     "name": "stderr",
     "output_type": "stream",
     "text": [
      "Info: Params [ 1.71271199  1.13914956  3.17685752 -7.78728035  1.25077049  0.60620549\n",
      "  0.33284993  0.44978971] gave 635.8779042315414\n",
      "Warning: This function (from_pandas_dataframe()) is deprecated and will be removed in a future version of PyDDM.  Please use the choice_column_name argument instead.\n"
     ]
    },
    {
     "name": "stdout",
     "output_type": "stream",
     "text": [
      "   Drift Rate Speed  Drift Rate Accuracy  Self-excitation Speed  \\\n",
      "0          1.712712              1.13915               3.176858   \n",
      "\n",
      "   Self-excitation Accuracy  Boundary Separation Speed  \\\n",
      "0                  -7.78728                    1.25077   \n",
      "\n",
      "   Boundary Separation Accuracy  Non-decision Time Speed  \\\n",
      "0                      0.606205                  0.33285   \n",
      "\n",
      "   Non-decision Time Accuracy         BIC  \n",
      "0                     0.44979  635.877904  \n",
      "17\n"
     ]
    },
    {
     "name": "stderr",
     "output_type": "stream",
     "text": [
      "Info: Params [1.33569319 0.5978601  5.39934638 1.21953043 1.03045073 1.10604568\n",
      " 0.34558278 0.37498561] gave 507.238257751085\n",
      "Warning: This function (from_pandas_dataframe()) is deprecated and will be removed in a future version of PyDDM.  Please use the choice_column_name argument instead.\n"
     ]
    },
    {
     "name": "stdout",
     "output_type": "stream",
     "text": [
      "   Drift Rate Speed  Drift Rate Accuracy  Self-excitation Speed  \\\n",
      "0          1.335693              0.59786               5.399346   \n",
      "\n",
      "   Self-excitation Accuracy  Boundary Separation Speed  \\\n",
      "0                   1.21953                   1.030451   \n",
      "\n",
      "   Boundary Separation Accuracy  Non-decision Time Speed  \\\n",
      "0                      1.106046                 0.345583   \n",
      "\n",
      "   Non-decision Time Accuracy         BIC  \n",
      "0                    0.374986  507.238258  \n",
      "18\n"
     ]
    },
    {
     "name": "stderr",
     "output_type": "stream",
     "text": [
      "Info: Params [1.17409026 0.91110872 3.32124382 1.96346391 1.00747241 1.64931044\n",
      " 0.32644386 0.22594024] gave 583.7724076476342\n",
      "Warning: This function (from_pandas_dataframe()) is deprecated and will be removed in a future version of PyDDM.  Please use the choice_column_name argument instead.\n"
     ]
    },
    {
     "name": "stdout",
     "output_type": "stream",
     "text": [
      "   Drift Rate Speed  Drift Rate Accuracy  Self-excitation Speed  \\\n",
      "0           1.17409             0.911109               3.321244   \n",
      "\n",
      "   Self-excitation Accuracy  Boundary Separation Speed  \\\n",
      "0                  1.963464                   1.007472   \n",
      "\n",
      "   Boundary Separation Accuracy  Non-decision Time Speed  \\\n",
      "0                       1.64931                 0.326444   \n",
      "\n",
      "   Non-decision Time Accuracy         BIC  \n",
      "0                     0.22594  583.772408  \n",
      "19\n"
     ]
    },
    {
     "name": "stderr",
     "output_type": "stream",
     "text": [
      "Info: Params [0.47566662 0.42290091 1.08983976 0.76718673 1.45456378 1.9427859\n",
      " 0.12097636 0.11971028] gave 1283.7615699179123\n",
      "Warning: This function (from_pandas_dataframe()) is deprecated and will be removed in a future version of PyDDM.  Please use the choice_column_name argument instead.\n"
     ]
    },
    {
     "name": "stdout",
     "output_type": "stream",
     "text": [
      "   Drift Rate Speed  Drift Rate Accuracy  Self-excitation Speed  \\\n",
      "0          0.475667             0.422901                1.08984   \n",
      "\n",
      "   Self-excitation Accuracy  Boundary Separation Speed  \\\n",
      "0                  0.767187                   1.454564   \n",
      "\n",
      "   Boundary Separation Accuracy  Non-decision Time Speed  \\\n",
      "0                      1.942786                 0.120976   \n",
      "\n",
      "   Non-decision Time Accuracy         BIC  \n",
      "0                     0.11971  1283.76157  \n",
      "20\n"
     ]
    },
    {
     "name": "stderr",
     "output_type": "stream",
     "text": [
      "Info: Params [ 2.32835069  1.3036802   5.32194515 -3.31944383  0.70467094  0.68165564\n",
      "  0.33610248  0.44394425] gave 112.71633964142919\n",
      "Warning: This function (from_pandas_dataframe()) is deprecated and will be removed in a future version of PyDDM.  Please use the choice_column_name argument instead.\n"
     ]
    },
    {
     "name": "stdout",
     "output_type": "stream",
     "text": [
      "   Drift Rate Speed  Drift Rate Accuracy  Self-excitation Speed  \\\n",
      "0          2.328351              1.30368               5.321945   \n",
      "\n",
      "   Self-excitation Accuracy  Boundary Separation Speed  \\\n",
      "0                 -3.319444                   0.704671   \n",
      "\n",
      "   Boundary Separation Accuracy  Non-decision Time Speed  \\\n",
      "0                      0.681656                 0.336102   \n",
      "\n",
      "   Non-decision Time Accuracy        BIC  \n",
      "0                    0.443944  112.71634  \n",
      "21\n"
     ]
    },
    {
     "name": "stderr",
     "output_type": "stream",
     "text": [
      "Info: Params [1.98607997 1.22052746 4.73209246 1.56751078 1.74083578 1.64756939\n",
      " 0.29086464 0.36956814] gave 330.84419906714186\n",
      "Warning: This function (from_pandas_dataframe()) is deprecated and will be removed in a future version of PyDDM.  Please use the choice_column_name argument instead.\n"
     ]
    },
    {
     "name": "stdout",
     "output_type": "stream",
     "text": [
      "   Drift Rate Speed  Drift Rate Accuracy  Self-excitation Speed  \\\n",
      "0           1.98608             1.220527               4.732092   \n",
      "\n",
      "   Self-excitation Accuracy  Boundary Separation Speed  \\\n",
      "0                  1.567511                   1.740836   \n",
      "\n",
      "   Boundary Separation Accuracy  Non-decision Time Speed  \\\n",
      "0                      1.647569                 0.290865   \n",
      "\n",
      "   Non-decision Time Accuracy         BIC  \n",
      "0                    0.369568  330.844199  \n",
      "22\n"
     ]
    },
    {
     "name": "stderr",
     "output_type": "stream",
     "text": [
      "Info: Params [ 1.12745029  0.68017892  3.54650913 -0.61530487  1.22874917  0.90747729\n",
      "  0.32937735  0.46767802] gave 746.683616480504\n",
      "Warning: This function (from_pandas_dataframe()) is deprecated and will be removed in a future version of PyDDM.  Please use the choice_column_name argument instead.\n"
     ]
    },
    {
     "name": "stdout",
     "output_type": "stream",
     "text": [
      "   Drift Rate Speed  Drift Rate Accuracy  Self-excitation Speed  \\\n",
      "0           1.12745             0.680179               3.546509   \n",
      "\n",
      "   Self-excitation Accuracy  Boundary Separation Speed  \\\n",
      "0                 -0.615305                   1.228749   \n",
      "\n",
      "   Boundary Separation Accuracy  Non-decision Time Speed  \\\n",
      "0                      0.907477                 0.329377   \n",
      "\n",
      "   Non-decision Time Accuracy         BIC  \n",
      "0                    0.467678  746.683616  \n",
      "23\n"
     ]
    },
    {
     "name": "stderr",
     "output_type": "stream",
     "text": [
      "Info: Params [1.23340326 0.5846084  3.55708582 0.897613   1.83613779 2.2212676\n",
      " 0.38366123 0.33929416] gave 855.7522384483367\n",
      "Warning: This function (from_pandas_dataframe()) is deprecated and will be removed in a future version of PyDDM.  Please use the choice_column_name argument instead.\n"
     ]
    },
    {
     "name": "stdout",
     "output_type": "stream",
     "text": [
      "   Drift Rate Speed  Drift Rate Accuracy  Self-excitation Speed  \\\n",
      "0          1.233403             0.584608               3.557086   \n",
      "\n",
      "   Self-excitation Accuracy  Boundary Separation Speed  \\\n",
      "0                  0.897613                   1.836138   \n",
      "\n",
      "   Boundary Separation Accuracy  Non-decision Time Speed  \\\n",
      "0                      2.221268                 0.383661   \n",
      "\n",
      "   Non-decision Time Accuracy         BIC  \n",
      "0                    0.339294  855.752238  \n",
      "24\n"
     ]
    },
    {
     "name": "stderr",
     "output_type": "stream",
     "text": [
      "Info: Params [ 0.95964112  1.03535389  2.95983671 -2.04077766  1.94986941  0.7678698\n",
      "  0.21834749  0.49829113] gave 704.1344817311242\n",
      "Warning: This function (from_pandas_dataframe()) is deprecated and will be removed in a future version of PyDDM.  Please use the choice_column_name argument instead.\n"
     ]
    },
    {
     "name": "stdout",
     "output_type": "stream",
     "text": [
      "   Drift Rate Speed  Drift Rate Accuracy  Self-excitation Speed  \\\n",
      "0          0.959641             1.035354               2.959837   \n",
      "\n",
      "   Self-excitation Accuracy  Boundary Separation Speed  \\\n",
      "0                 -2.040778                   1.949869   \n",
      "\n",
      "   Boundary Separation Accuracy  Non-decision Time Speed  \\\n",
      "0                       0.76787                 0.218347   \n",
      "\n",
      "   Non-decision Time Accuracy         BIC  \n",
      "0                    0.498291  704.134482  \n",
      "25\n"
     ]
    },
    {
     "name": "stderr",
     "output_type": "stream",
     "text": [
      "Info: Params [2.37238345 1.2045181  7.32162658 1.50147936 1.65339699 1.57349694\n",
      " 0.44735305 0.44341448] gave 178.8693495573266\n",
      "Warning: This function (from_pandas_dataframe()) is deprecated and will be removed in a future version of PyDDM.  Please use the choice_column_name argument instead.\n"
     ]
    },
    {
     "name": "stdout",
     "output_type": "stream",
     "text": [
      "   Drift Rate Speed  Drift Rate Accuracy  Self-excitation Speed  \\\n",
      "0          2.372383             1.204518               7.321627   \n",
      "\n",
      "   Self-excitation Accuracy  Boundary Separation Speed  \\\n",
      "0                  1.501479                   1.653397   \n",
      "\n",
      "   Boundary Separation Accuracy  Non-decision Time Speed  \\\n",
      "0                      1.573497                 0.447353   \n",
      "\n",
      "   Non-decision Time Accuracy        BIC  \n",
      "0                    0.443414  178.86935  \n",
      "26\n"
     ]
    },
    {
     "name": "stderr",
     "output_type": "stream",
     "text": [
      "Info: Params [ 0.97534302  1.05023277 10.          1.95346398  0.76868917  1.91046619\n",
      "  0.33756178  0.4790116 ] gave 227.15917478287764\n",
      "Warning: This function (from_pandas_dataframe()) is deprecated and will be removed in a future version of PyDDM.  Please use the choice_column_name argument instead.\n"
     ]
    },
    {
     "name": "stdout",
     "output_type": "stream",
     "text": [
      "   Drift Rate Speed  Drift Rate Accuracy  Self-excitation Speed  \\\n",
      "0          0.975343             1.050233                   10.0   \n",
      "\n",
      "   Self-excitation Accuracy  Boundary Separation Speed  \\\n",
      "0                  1.953464                   0.768689   \n",
      "\n",
      "   Boundary Separation Accuracy  Non-decision Time Speed  \\\n",
      "0                      1.910466                 0.337562   \n",
      "\n",
      "   Non-decision Time Accuracy         BIC  \n",
      "0                    0.479012  227.159175  \n",
      "27\n"
     ]
    },
    {
     "name": "stderr",
     "output_type": "stream",
     "text": [
      "Info: Params [1.77791033 1.36035559 6.179502   2.09280065 0.76390931 1.30047958\n",
      " 0.44230473 0.45148597] gave 133.8811557562929\n",
      "Warning: This function (from_pandas_dataframe()) is deprecated and will be removed in a future version of PyDDM.  Please use the choice_column_name argument instead.\n"
     ]
    },
    {
     "name": "stdout",
     "output_type": "stream",
     "text": [
      "   Drift Rate Speed  Drift Rate Accuracy  Self-excitation Speed  \\\n",
      "0           1.77791             1.360356               6.179502   \n",
      "\n",
      "   Self-excitation Accuracy  Boundary Separation Speed  \\\n",
      "0                  2.092801                   0.763909   \n",
      "\n",
      "   Boundary Separation Accuracy  Non-decision Time Speed  \\\n",
      "0                       1.30048                 0.442305   \n",
      "\n",
      "   Non-decision Time Accuracy         BIC  \n",
      "0                    0.451486  133.881156  \n",
      "28\n"
     ]
    },
    {
     "name": "stderr",
     "output_type": "stream",
     "text": [
      "Info: Params [1.6650301  1.91225542 9.66393866 2.66136149 1.69453976 1.72678284\n",
      " 0.28606394 0.35862817] gave -139.05484108380142\n",
      "Warning: This function (from_pandas_dataframe()) is deprecated and will be removed in a future version of PyDDM.  Please use the choice_column_name argument instead.\n"
     ]
    },
    {
     "name": "stdout",
     "output_type": "stream",
     "text": [
      "   Drift Rate Speed  Drift Rate Accuracy  Self-excitation Speed  \\\n",
      "0           1.66503             1.912255               9.663939   \n",
      "\n",
      "   Self-excitation Accuracy  Boundary Separation Speed  \\\n",
      "0                  2.661361                    1.69454   \n",
      "\n",
      "   Boundary Separation Accuracy  Non-decision Time Speed  \\\n",
      "0                      1.726783                 0.286064   \n",
      "\n",
      "   Non-decision Time Accuracy         BIC  \n",
      "0                    0.358628 -139.054841  \n",
      "29\n"
     ]
    },
    {
     "name": "stderr",
     "output_type": "stream",
     "text": [
      "Info: Params [0.80563678 0.57674153 2.31010808 0.85207836 1.29076695 1.60893534\n",
      " 0.42113934 0.60073698] gave 1001.6956339504625\n",
      "Warning: This function (from_pandas_dataframe()) is deprecated and will be removed in a future version of PyDDM.  Please use the choice_column_name argument instead.\n"
     ]
    },
    {
     "name": "stdout",
     "output_type": "stream",
     "text": [
      "   Drift Rate Speed  Drift Rate Accuracy  Self-excitation Speed  \\\n",
      "0          0.805637             0.576742               2.310108   \n",
      "\n",
      "   Self-excitation Accuracy  Boundary Separation Speed  \\\n",
      "0                  0.852078                   1.290767   \n",
      "\n",
      "   Boundary Separation Accuracy  Non-decision Time Speed  \\\n",
      "0                      1.608935                 0.421139   \n",
      "\n",
      "   Non-decision Time Accuracy          BIC  \n",
      "0                    0.600737  1001.695634  \n",
      "30\n"
     ]
    },
    {
     "name": "stderr",
     "output_type": "stream",
     "text": [
      "Info: Params [1.22927621 1.39792657 3.97030843 2.81816682 0.88998965 1.02546563\n",
      " 0.28263208 0.38790061] gave 210.6773013731859\n",
      "Warning: This function (from_pandas_dataframe()) is deprecated and will be removed in a future version of PyDDM.  Please use the choice_column_name argument instead.\n"
     ]
    },
    {
     "name": "stdout",
     "output_type": "stream",
     "text": [
      "   Drift Rate Speed  Drift Rate Accuracy  Self-excitation Speed  \\\n",
      "0          1.229276             1.397927               3.970308   \n",
      "\n",
      "   Self-excitation Accuracy  Boundary Separation Speed  \\\n",
      "0                  2.818167                    0.88999   \n",
      "\n",
      "   Boundary Separation Accuracy  Non-decision Time Speed  \\\n",
      "0                      1.025466                 0.282632   \n",
      "\n",
      "   Non-decision Time Accuracy         BIC  \n",
      "0                    0.387901  210.677301  \n",
      "31\n"
     ]
    },
    {
     "name": "stderr",
     "output_type": "stream",
     "text": [
      "Info: Params [ 1.45853567  1.71719621  2.19863296 -8.89308143  1.35587352  0.57946127\n",
      "  0.32754536  0.46761882] gave 544.8506954584487\n",
      "Warning: This function (from_pandas_dataframe()) is deprecated and will be removed in a future version of PyDDM.  Please use the choice_column_name argument instead.\n"
     ]
    },
    {
     "name": "stdout",
     "output_type": "stream",
     "text": [
      "   Drift Rate Speed  Drift Rate Accuracy  Self-excitation Speed  \\\n",
      "0          1.458536             1.717196               2.198633   \n",
      "\n",
      "   Self-excitation Accuracy  Boundary Separation Speed  \\\n",
      "0                 -8.893081                   1.355874   \n",
      "\n",
      "   Boundary Separation Accuracy  Non-decision Time Speed  \\\n",
      "0                      0.579461                 0.327545   \n",
      "\n",
      "   Non-decision Time Accuracy         BIC  \n",
      "0                    0.467619  544.850695  \n",
      "32\n"
     ]
    },
    {
     "name": "stderr",
     "output_type": "stream",
     "text": [
      "Info: Params [1.68767102 1.49786238 3.64114935 2.01051705 0.89219613 1.90935359\n",
      " 0.3458964  0.33569321] gave 264.95841567843314\n",
      "Warning: This function (from_pandas_dataframe()) is deprecated and will be removed in a future version of PyDDM.  Please use the choice_column_name argument instead.\n"
     ]
    },
    {
     "name": "stdout",
     "output_type": "stream",
     "text": [
      "   Drift Rate Speed  Drift Rate Accuracy  Self-excitation Speed  \\\n",
      "0          1.687671             1.497862               3.641149   \n",
      "\n",
      "   Self-excitation Accuracy  Boundary Separation Speed  \\\n",
      "0                  2.010517                   0.892196   \n",
      "\n",
      "   Boundary Separation Accuracy  Non-decision Time Speed  \\\n",
      "0                      1.909354                 0.345896   \n",
      "\n",
      "   Non-decision Time Accuracy         BIC  \n",
      "0                    0.335693  264.958416  \n",
      "33\n"
     ]
    },
    {
     "name": "stderr",
     "output_type": "stream",
     "text": [
      "Info: Params [ 0.37858502  1.79925406  9.77647774 -9.59062505  4.23142742  0.52251085\n",
      "  0.10852771  0.58282285] gave 238.2310499273824\n",
      "Warning: This function (from_pandas_dataframe()) is deprecated and will be removed in a future version of PyDDM.  Please use the choice_column_name argument instead.\n"
     ]
    },
    {
     "name": "stdout",
     "output_type": "stream",
     "text": [
      "   Drift Rate Speed  Drift Rate Accuracy  Self-excitation Speed  \\\n",
      "0          0.378585             1.799254               9.776478   \n",
      "\n",
      "   Self-excitation Accuracy  Boundary Separation Speed  \\\n",
      "0                 -9.590625                   4.231427   \n",
      "\n",
      "   Boundary Separation Accuracy  Non-decision Time Speed  \\\n",
      "0                      0.522511                 0.108528   \n",
      "\n",
      "   Non-decision Time Accuracy        BIC  \n",
      "0                    0.582823  238.23105  \n",
      "34\n"
     ]
    },
    {
     "name": "stderr",
     "output_type": "stream",
     "text": [
      "Info: Params [1.42587811 1.71438748 9.9809129  3.28814992 0.77577304 1.07051103\n",
      " 0.30891685 0.32949975] gave -141.0539010338066\n",
      "Warning: This function (from_pandas_dataframe()) is deprecated and will be removed in a future version of PyDDM.  Please use the choice_column_name argument instead.\n"
     ]
    },
    {
     "name": "stdout",
     "output_type": "stream",
     "text": [
      "   Drift Rate Speed  Drift Rate Accuracy  Self-excitation Speed  \\\n",
      "0          1.425878             1.714387               9.980913   \n",
      "\n",
      "   Self-excitation Accuracy  Boundary Separation Speed  \\\n",
      "0                   3.28815                   0.775773   \n",
      "\n",
      "   Boundary Separation Accuracy  Non-decision Time Speed  \\\n",
      "0                      1.070511                 0.308917   \n",
      "\n",
      "   Non-decision Time Accuracy         BIC  \n",
      "0                      0.3295 -141.053901  \n",
      "35\n"
     ]
    },
    {
     "name": "stderr",
     "output_type": "stream",
     "text": [
      "Info: Params [ 1.74419046  0.93599133 10.         -0.68885119  0.76194285  0.75529644\n",
      "  0.4030423   0.52913311] gave 84.26633412158881\n",
      "Warning: This function (from_pandas_dataframe()) is deprecated and will be removed in a future version of PyDDM.  Please use the choice_column_name argument instead.\n"
     ]
    },
    {
     "name": "stdout",
     "output_type": "stream",
     "text": [
      "   Drift Rate Speed  Drift Rate Accuracy  Self-excitation Speed  \\\n",
      "0           1.74419             0.935991                   10.0   \n",
      "\n",
      "   Self-excitation Accuracy  Boundary Separation Speed  \\\n",
      "0                 -0.688851                   0.761943   \n",
      "\n",
      "   Boundary Separation Accuracy  Non-decision Time Speed  \\\n",
      "0                      0.755296                 0.403042   \n",
      "\n",
      "   Non-decision Time Accuracy        BIC  \n",
      "0                    0.529133  84.266334  \n",
      "36\n"
     ]
    },
    {
     "name": "stderr",
     "output_type": "stream",
     "text": [
      "Info: Params [1.16634627 1.24489868 3.55173736 1.29480495 1.65135782 1.41035607\n",
      " 0.21064876 0.30158214] gave 544.1762918414918\n",
      "Warning: This function (from_pandas_dataframe()) is deprecated and will be removed in a future version of PyDDM.  Please use the choice_column_name argument instead.\n"
     ]
    },
    {
     "name": "stdout",
     "output_type": "stream",
     "text": [
      "   Drift Rate Speed  Drift Rate Accuracy  Self-excitation Speed  \\\n",
      "0          1.166346             1.244899               3.551737   \n",
      "\n",
      "   Self-excitation Accuracy  Boundary Separation Speed  \\\n",
      "0                  1.294805                   1.651358   \n",
      "\n",
      "   Boundary Separation Accuracy  Non-decision Time Speed  \\\n",
      "0                      1.410356                 0.210649   \n",
      "\n",
      "   Non-decision Time Accuracy         BIC  \n",
      "0                    0.301582  544.176292  \n",
      "37\n"
     ]
    },
    {
     "name": "stderr",
     "output_type": "stream",
     "text": [
      "Info: Params [ 1.62126132  1.91495529 10.          4.15765863  1.01042855  1.82483289\n",
      "  0.28581029  0.34827173] gave -86.63814518471393\n",
      "Warning: This function (from_pandas_dataframe()) is deprecated and will be removed in a future version of PyDDM.  Please use the choice_column_name argument instead.\n"
     ]
    },
    {
     "name": "stdout",
     "output_type": "stream",
     "text": [
      "   Drift Rate Speed  Drift Rate Accuracy  Self-excitation Speed  \\\n",
      "0          1.621261             1.914955                   10.0   \n",
      "\n",
      "   Self-excitation Accuracy  Boundary Separation Speed  \\\n",
      "0                  4.157659                   1.010429   \n",
      "\n",
      "   Boundary Separation Accuracy  Non-decision Time Speed  \\\n",
      "0                      1.824833                  0.28581   \n",
      "\n",
      "   Non-decision Time Accuracy        BIC  \n",
      "0                    0.348272 -86.638145  \n",
      "38\n"
     ]
    },
    {
     "name": "stderr",
     "output_type": "stream",
     "text": [
      "Info: Params [ 1.89513217  1.84020668 10.          2.7332234   2.5062369   1.2665183\n",
      "  0.24858534  0.42089149] gave -116.28343013963315\n",
      "Warning: This function (from_pandas_dataframe()) is deprecated and will be removed in a future version of PyDDM.  Please use the choice_column_name argument instead.\n"
     ]
    },
    {
     "name": "stdout",
     "output_type": "stream",
     "text": [
      "   Drift Rate Speed  Drift Rate Accuracy  Self-excitation Speed  \\\n",
      "0          1.895132             1.840207                   10.0   \n",
      "\n",
      "   Self-excitation Accuracy  Boundary Separation Speed  \\\n",
      "0                  2.733223                   2.506237   \n",
      "\n",
      "   Boundary Separation Accuracy  Non-decision Time Speed  \\\n",
      "0                      1.266518                 0.248585   \n",
      "\n",
      "   Non-decision Time Accuracy        BIC  \n",
      "0                    0.420891 -116.28343  \n",
      "39\n"
     ]
    },
    {
     "name": "stderr",
     "output_type": "stream",
     "text": [
      "Info: Params [0.86311858 0.66562767 6.65192396 0.0751875  5.24937866 1.62019889\n",
      " 0.15080294 0.40011151] gave 641.710322455498\n",
      "Warning: This function (from_pandas_dataframe()) is deprecated and will be removed in a future version of PyDDM.  Please use the choice_column_name argument instead.\n"
     ]
    },
    {
     "name": "stdout",
     "output_type": "stream",
     "text": [
      "   Drift Rate Speed  Drift Rate Accuracy  Self-excitation Speed  \\\n",
      "0          0.863119             0.665628               6.651924   \n",
      "\n",
      "   Self-excitation Accuracy  Boundary Separation Speed  \\\n",
      "0                  0.075188                   5.249379   \n",
      "\n",
      "   Boundary Separation Accuracy  Non-decision Time Speed  \\\n",
      "0                      1.620199                 0.150803   \n",
      "\n",
      "   Non-decision Time Accuracy         BIC  \n",
      "0                    0.400112  641.710322  \n",
      "40\n"
     ]
    },
    {
     "name": "stderr",
     "output_type": "stream",
     "text": [
      "Info: Params [2.38856388 1.08624363 6.08267977 1.16264787 1.95267188 1.70157573\n",
      " 0.2835074  0.3572516 ] gave 296.9554754547978\n",
      "Warning: This function (from_pandas_dataframe()) is deprecated and will be removed in a future version of PyDDM.  Please use the choice_column_name argument instead.\n"
     ]
    },
    {
     "name": "stdout",
     "output_type": "stream",
     "text": [
      "   Drift Rate Speed  Drift Rate Accuracy  Self-excitation Speed  \\\n",
      "0          2.388564             1.086244                6.08268   \n",
      "\n",
      "   Self-excitation Accuracy  Boundary Separation Speed  \\\n",
      "0                  1.162648                   1.952672   \n",
      "\n",
      "   Boundary Separation Accuracy  Non-decision Time Speed  \\\n",
      "0                      1.701576                 0.283507   \n",
      "\n",
      "   Non-decision Time Accuracy         BIC  \n",
      "0                    0.357252  296.955475  \n",
      "41\n"
     ]
    },
    {
     "name": "stderr",
     "output_type": "stream",
     "text": [
      "Info: Params [ 1.41167479  1.26139253  9.29325633 -6.2244404   7.32336757  0.6266706\n",
      "  0.15730052  0.43074872] gave 366.58959854848683\n",
      "Warning: This function (from_pandas_dataframe()) is deprecated and will be removed in a future version of PyDDM.  Please use the choice_column_name argument instead.\n"
     ]
    },
    {
     "name": "stdout",
     "output_type": "stream",
     "text": [
      "   Drift Rate Speed  Drift Rate Accuracy  Self-excitation Speed  \\\n",
      "0          1.411675             1.261393               9.293256   \n",
      "\n",
      "   Self-excitation Accuracy  Boundary Separation Speed  \\\n",
      "0                  -6.22444                   7.323368   \n",
      "\n",
      "   Boundary Separation Accuracy  Non-decision Time Speed  \\\n",
      "0                      0.626671                 0.157301   \n",
      "\n",
      "   Non-decision Time Accuracy         BIC  \n",
      "0                    0.430749  366.589599  \n",
      "42\n"
     ]
    },
    {
     "name": "stderr",
     "output_type": "stream",
     "text": [
      "Info: Params [1.23833877 0.83561599 5.40630432 1.38369641 1.97072961 1.17056722\n",
      " 0.26606276 0.3687561 ] gave 494.2621043260516\n",
      "Warning: This function (from_pandas_dataframe()) is deprecated and will be removed in a future version of PyDDM.  Please use the choice_column_name argument instead.\n"
     ]
    },
    {
     "name": "stdout",
     "output_type": "stream",
     "text": [
      "   Drift Rate Speed  Drift Rate Accuracy  Self-excitation Speed  \\\n",
      "0          1.238339             0.835616               5.406304   \n",
      "\n",
      "   Self-excitation Accuracy  Boundary Separation Speed  \\\n",
      "0                  1.383696                    1.97073   \n",
      "\n",
      "   Boundary Separation Accuracy  Non-decision Time Speed  \\\n",
      "0                      1.170567                 0.266063   \n",
      "\n",
      "   Non-decision Time Accuracy         BIC  \n",
      "0                    0.368756  494.262104  \n",
      "43\n"
     ]
    },
    {
     "name": "stderr",
     "output_type": "stream",
     "text": [
      "Info: Params [0.69343717 0.62988856 4.49011683 1.09957115 2.23712711 2.07461225\n",
      " 0.19025695 0.10879828] gave 885.8609256417668\n",
      "Warning: This function (from_pandas_dataframe()) is deprecated and will be removed in a future version of PyDDM.  Please use the choice_column_name argument instead.\n"
     ]
    },
    {
     "name": "stdout",
     "output_type": "stream",
     "text": [
      "   Drift Rate Speed  Drift Rate Accuracy  Self-excitation Speed  \\\n",
      "0          0.693437             0.629889               4.490117   \n",
      "\n",
      "   Self-excitation Accuracy  Boundary Separation Speed  \\\n",
      "0                  1.099571                   2.237127   \n",
      "\n",
      "   Boundary Separation Accuracy  Non-decision Time Speed  \\\n",
      "0                      2.074612                 0.190257   \n",
      "\n",
      "   Non-decision Time Accuracy         BIC  \n",
      "0                    0.108798  885.860926  \n",
      "44\n"
     ]
    },
    {
     "name": "stderr",
     "output_type": "stream",
     "text": [
      "Info: Params [2.12836253 1.27339833 3.45881321 1.73733377 0.86961953 1.63660295\n",
      " 0.36521109 0.23651449] gave 374.98646765416\n",
      "Warning: This function (from_pandas_dataframe()) is deprecated and will be removed in a future version of PyDDM.  Please use the choice_column_name argument instead.\n"
     ]
    },
    {
     "name": "stdout",
     "output_type": "stream",
     "text": [
      "   Drift Rate Speed  Drift Rate Accuracy  Self-excitation Speed  \\\n",
      "0          2.128363             1.273398               3.458813   \n",
      "\n",
      "   Self-excitation Accuracy  Boundary Separation Speed  \\\n",
      "0                  1.737334                    0.86962   \n",
      "\n",
      "   Boundary Separation Accuracy  Non-decision Time Speed  \\\n",
      "0                      1.636603                 0.365211   \n",
      "\n",
      "   Non-decision Time Accuracy         BIC  \n",
      "0                    0.236514  374.986468  \n",
      "45\n"
     ]
    },
    {
     "name": "stderr",
     "output_type": "stream",
     "text": [
      "Info: Params [1.23075233 1.3909453  3.6184799  2.02324185 1.03664702 1.75593215\n",
      " 0.34724782 0.26661118] gave 372.53025606506793\n",
      "Warning: This function (from_pandas_dataframe()) is deprecated and will be removed in a future version of PyDDM.  Please use the choice_column_name argument instead.\n"
     ]
    },
    {
     "name": "stdout",
     "output_type": "stream",
     "text": [
      "   Drift Rate Speed  Drift Rate Accuracy  Self-excitation Speed  \\\n",
      "0          1.230752             1.390945                3.61848   \n",
      "\n",
      "   Self-excitation Accuracy  Boundary Separation Speed  \\\n",
      "0                  2.023242                   1.036647   \n",
      "\n",
      "   Boundary Separation Accuracy  Non-decision Time Speed  \\\n",
      "0                      1.755932                 0.347248   \n",
      "\n",
      "   Non-decision Time Accuracy         BIC  \n",
      "0                    0.266611  372.530256  \n",
      "46\n"
     ]
    },
    {
     "name": "stderr",
     "output_type": "stream",
     "text": [
      "Info: Params [1.69553774 0.91602792 4.36614332 0.83969737 1.59390111 2.37459054\n",
      " 0.2375216  0.28649016] gave 577.3552739946663\n"
     ]
    },
    {
     "name": "stdout",
     "output_type": "stream",
     "text": [
      "   Drift Rate Speed  Drift Rate Accuracy  Self-excitation Speed  \\\n",
      "0          1.695538             0.916028               4.366143   \n",
      "\n",
      "   Self-excitation Accuracy  Boundary Separation Speed  \\\n",
      "0                  0.839697                   1.593901   \n",
      "\n",
      "   Boundary Separation Accuracy  Non-decision Time Speed  \\\n",
      "0                      2.374591                 0.237522   \n",
      "\n",
      "   Non-decision Time Accuracy         BIC  \n",
      "0                     0.28649  577.355274  \n"
     ]
    }
   ],
   "source": [
    "df_all = pd.DataFrame()\n",
    "for i in range(sample_size):\n",
    "    print(i)\n",
    "    path = os.path.join(data_dir+str(i+1)+\".csv\")\n",
    "    df = pd.read_csv(path, sep = \",\")\n",
    "    #df = df[df[\"cond\"]==SAT] # A condition\n",
    "    df = df[df[\"Time\"]<5]\n",
    "\n",
    "    samp = Sample.from_pandas_dataframe(df, rt_column_name=\"Time\", correct_column_name=\"Correct\")\n",
    "    df = get_OUM_result_sub_full(samp)\n",
    "    df_all = pd.concat((df_all,df))\n",
    "    print(df)\n",
    "df_OUM = df_all.copy()\n"
   ]
  },
  {
   "cell_type": "code",
   "execution_count": 7,
   "id": "3b05a53a",
   "metadata": {},
   "outputs": [],
   "source": [
    "df_OUM.to_csv(\"OUMfullresultEvans2017.csv\")"
   ]
  },
  {
   "cell_type": "code",
   "execution_count": 9,
   "id": "87e8797e",
   "metadata": {},
   "outputs": [
    {
     "data": {
      "text/html": [
       "<div>\n",
       "<style scoped>\n",
       "    .dataframe tbody tr th:only-of-type {\n",
       "        vertical-align: middle;\n",
       "    }\n",
       "\n",
       "    .dataframe tbody tr th {\n",
       "        vertical-align: top;\n",
       "    }\n",
       "\n",
       "    .dataframe thead th {\n",
       "        text-align: right;\n",
       "    }\n",
       "</style>\n",
       "<table border=\"1\" class=\"dataframe\">\n",
       "  <thead>\n",
       "    <tr style=\"text-align: right;\">\n",
       "      <th></th>\n",
       "      <th>Drift Rate Speed</th>\n",
       "      <th>Drift Rate Accuracy</th>\n",
       "      <th>Self-excitation Speed</th>\n",
       "      <th>Self-excitation Accuracy</th>\n",
       "      <th>Boundary Separation Speed</th>\n",
       "      <th>Boundary Separation Accuracy</th>\n",
       "      <th>Non-decision Time Speed</th>\n",
       "      <th>Non-decision Time Accuracy</th>\n",
       "      <th>BIC</th>\n",
       "    </tr>\n",
       "  </thead>\n",
       "  <tbody>\n",
       "    <tr>\n",
       "      <th>0</th>\n",
       "      <td>0.723540</td>\n",
       "      <td>0.878728</td>\n",
       "      <td>5.597213</td>\n",
       "      <td>-0.068809</td>\n",
       "      <td>0.905473</td>\n",
       "      <td>0.908297</td>\n",
       "      <td>0.307704</td>\n",
       "      <td>0.378511</td>\n",
       "      <td>503.600805</td>\n",
       "    </tr>\n",
       "    <tr>\n",
       "      <th>0</th>\n",
       "      <td>3.020795</td>\n",
       "      <td>1.497412</td>\n",
       "      <td>8.847912</td>\n",
       "      <td>-9.596829</td>\n",
       "      <td>3.473206</td>\n",
       "      <td>0.591913</td>\n",
       "      <td>0.339699</td>\n",
       "      <td>0.551292</td>\n",
       "      <td>217.868807</td>\n",
       "    </tr>\n",
       "    <tr>\n",
       "      <th>0</th>\n",
       "      <td>1.201826</td>\n",
       "      <td>1.301311</td>\n",
       "      <td>5.199509</td>\n",
       "      <td>2.132219</td>\n",
       "      <td>1.219839</td>\n",
       "      <td>1.582533</td>\n",
       "      <td>0.201656</td>\n",
       "      <td>0.189955</td>\n",
       "      <td>217.582184</td>\n",
       "    </tr>\n",
       "    <tr>\n",
       "      <th>0</th>\n",
       "      <td>1.620317</td>\n",
       "      <td>1.017833</td>\n",
       "      <td>2.640167</td>\n",
       "      <td>0.530214</td>\n",
       "      <td>1.398581</td>\n",
       "      <td>7.898314</td>\n",
       "      <td>0.335544</td>\n",
       "      <td>0.216247</td>\n",
       "      <td>673.608661</td>\n",
       "    </tr>\n",
       "    <tr>\n",
       "      <th>0</th>\n",
       "      <td>1.905567</td>\n",
       "      <td>1.104055</td>\n",
       "      <td>9.029301</td>\n",
       "      <td>2.298194</td>\n",
       "      <td>7.638257</td>\n",
       "      <td>1.400294</td>\n",
       "      <td>0.180963</td>\n",
       "      <td>0.328671</td>\n",
       "      <td>206.099762</td>\n",
       "    </tr>\n",
       "    <tr>\n",
       "      <th>0</th>\n",
       "      <td>1.367389</td>\n",
       "      <td>0.977006</td>\n",
       "      <td>4.890252</td>\n",
       "      <td>1.549900</td>\n",
       "      <td>0.934577</td>\n",
       "      <td>1.441626</td>\n",
       "      <td>0.397488</td>\n",
       "      <td>0.375746</td>\n",
       "      <td>473.402311</td>\n",
       "    </tr>\n",
       "    <tr>\n",
       "      <th>0</th>\n",
       "      <td>0.492418</td>\n",
       "      <td>1.066062</td>\n",
       "      <td>6.467699</td>\n",
       "      <td>3.334507</td>\n",
       "      <td>1.579391</td>\n",
       "      <td>1.186056</td>\n",
       "      <td>0.113408</td>\n",
       "      <td>0.322019</td>\n",
       "      <td>338.582318</td>\n",
       "    </tr>\n",
       "    <tr>\n",
       "      <th>0</th>\n",
       "      <td>1.903944</td>\n",
       "      <td>1.962577</td>\n",
       "      <td>6.109446</td>\n",
       "      <td>2.731913</td>\n",
       "      <td>1.097981</td>\n",
       "      <td>1.674225</td>\n",
       "      <td>0.393547</td>\n",
       "      <td>0.418273</td>\n",
       "      <td>-96.072539</td>\n",
       "    </tr>\n",
       "    <tr>\n",
       "      <th>0</th>\n",
       "      <td>2.040919</td>\n",
       "      <td>1.560077</td>\n",
       "      <td>4.875044</td>\n",
       "      <td>1.689335</td>\n",
       "      <td>2.714529</td>\n",
       "      <td>3.051278</td>\n",
       "      <td>0.314877</td>\n",
       "      <td>0.124451</td>\n",
       "      <td>160.386255</td>\n",
       "    </tr>\n",
       "    <tr>\n",
       "      <th>0</th>\n",
       "      <td>0.734846</td>\n",
       "      <td>0.451281</td>\n",
       "      <td>2.408078</td>\n",
       "      <td>1.067819</td>\n",
       "      <td>0.907266</td>\n",
       "      <td>1.165577</td>\n",
       "      <td>0.341582</td>\n",
       "      <td>0.327651</td>\n",
       "      <td>829.683622</td>\n",
       "    </tr>\n",
       "    <tr>\n",
       "      <th>0</th>\n",
       "      <td>0.994843</td>\n",
       "      <td>0.313757</td>\n",
       "      <td>3.143475</td>\n",
       "      <td>0.209285</td>\n",
       "      <td>0.810483</td>\n",
       "      <td>1.230620</td>\n",
       "      <td>0.403740</td>\n",
       "      <td>0.387516</td>\n",
       "      <td>911.978398</td>\n",
       "    </tr>\n",
       "    <tr>\n",
       "      <th>0</th>\n",
       "      <td>0.783939</td>\n",
       "      <td>0.785703</td>\n",
       "      <td>5.157423</td>\n",
       "      <td>-0.841645</td>\n",
       "      <td>1.986997</td>\n",
       "      <td>0.907489</td>\n",
       "      <td>0.129942</td>\n",
       "      <td>0.459819</td>\n",
       "      <td>669.229169</td>\n",
       "    </tr>\n",
       "    <tr>\n",
       "      <th>0</th>\n",
       "      <td>1.353994</td>\n",
       "      <td>0.683504</td>\n",
       "      <td>2.386103</td>\n",
       "      <td>0.470690</td>\n",
       "      <td>1.160810</td>\n",
       "      <td>1.471037</td>\n",
       "      <td>0.368565</td>\n",
       "      <td>0.344862</td>\n",
       "      <td>723.407491</td>\n",
       "    </tr>\n",
       "    <tr>\n",
       "      <th>0</th>\n",
       "      <td>0.550554</td>\n",
       "      <td>0.628239</td>\n",
       "      <td>1.185085</td>\n",
       "      <td>1.103650</td>\n",
       "      <td>0.989775</td>\n",
       "      <td>1.442746</td>\n",
       "      <td>0.364713</td>\n",
       "      <td>0.330433</td>\n",
       "      <td>990.753392</td>\n",
       "    </tr>\n",
       "    <tr>\n",
       "      <th>0</th>\n",
       "      <td>0.561421</td>\n",
       "      <td>0.546210</td>\n",
       "      <td>3.623853</td>\n",
       "      <td>0.910603</td>\n",
       "      <td>1.510896</td>\n",
       "      <td>1.378766</td>\n",
       "      <td>0.136031</td>\n",
       "      <td>0.247970</td>\n",
       "      <td>827.797642</td>\n",
       "    </tr>\n",
       "    <tr>\n",
       "      <th>0</th>\n",
       "      <td>1.630036</td>\n",
       "      <td>0.970825</td>\n",
       "      <td>4.203667</td>\n",
       "      <td>-2.656460</td>\n",
       "      <td>1.315861</td>\n",
       "      <td>0.806980</td>\n",
       "      <td>0.343503</td>\n",
       "      <td>0.536538</td>\n",
       "      <td>603.697550</td>\n",
       "    </tr>\n",
       "    <tr>\n",
       "      <th>0</th>\n",
       "      <td>1.712712</td>\n",
       "      <td>1.139150</td>\n",
       "      <td>3.176858</td>\n",
       "      <td>-7.787280</td>\n",
       "      <td>1.250770</td>\n",
       "      <td>0.606205</td>\n",
       "      <td>0.332850</td>\n",
       "      <td>0.449790</td>\n",
       "      <td>635.877904</td>\n",
       "    </tr>\n",
       "    <tr>\n",
       "      <th>0</th>\n",
       "      <td>1.335693</td>\n",
       "      <td>0.597860</td>\n",
       "      <td>5.399346</td>\n",
       "      <td>1.219530</td>\n",
       "      <td>1.030451</td>\n",
       "      <td>1.106046</td>\n",
       "      <td>0.345583</td>\n",
       "      <td>0.374986</td>\n",
       "      <td>507.238258</td>\n",
       "    </tr>\n",
       "    <tr>\n",
       "      <th>0</th>\n",
       "      <td>1.174090</td>\n",
       "      <td>0.911109</td>\n",
       "      <td>3.321244</td>\n",
       "      <td>1.963464</td>\n",
       "      <td>1.007472</td>\n",
       "      <td>1.649310</td>\n",
       "      <td>0.326444</td>\n",
       "      <td>0.225940</td>\n",
       "      <td>583.772408</td>\n",
       "    </tr>\n",
       "    <tr>\n",
       "      <th>0</th>\n",
       "      <td>0.475667</td>\n",
       "      <td>0.422901</td>\n",
       "      <td>1.089840</td>\n",
       "      <td>0.767187</td>\n",
       "      <td>1.454564</td>\n",
       "      <td>1.942786</td>\n",
       "      <td>0.120976</td>\n",
       "      <td>0.119710</td>\n",
       "      <td>1283.761570</td>\n",
       "    </tr>\n",
       "    <tr>\n",
       "      <th>0</th>\n",
       "      <td>2.328351</td>\n",
       "      <td>1.303680</td>\n",
       "      <td>5.321945</td>\n",
       "      <td>-3.319444</td>\n",
       "      <td>0.704671</td>\n",
       "      <td>0.681656</td>\n",
       "      <td>0.336102</td>\n",
       "      <td>0.443944</td>\n",
       "      <td>112.716340</td>\n",
       "    </tr>\n",
       "    <tr>\n",
       "      <th>0</th>\n",
       "      <td>1.986080</td>\n",
       "      <td>1.220527</td>\n",
       "      <td>4.732092</td>\n",
       "      <td>1.567511</td>\n",
       "      <td>1.740836</td>\n",
       "      <td>1.647569</td>\n",
       "      <td>0.290865</td>\n",
       "      <td>0.369568</td>\n",
       "      <td>330.844199</td>\n",
       "    </tr>\n",
       "    <tr>\n",
       "      <th>0</th>\n",
       "      <td>1.127450</td>\n",
       "      <td>0.680179</td>\n",
       "      <td>3.546509</td>\n",
       "      <td>-0.615305</td>\n",
       "      <td>1.228749</td>\n",
       "      <td>0.907477</td>\n",
       "      <td>0.329377</td>\n",
       "      <td>0.467678</td>\n",
       "      <td>746.683616</td>\n",
       "    </tr>\n",
       "    <tr>\n",
       "      <th>0</th>\n",
       "      <td>1.233403</td>\n",
       "      <td>0.584608</td>\n",
       "      <td>3.557086</td>\n",
       "      <td>0.897613</td>\n",
       "      <td>1.836138</td>\n",
       "      <td>2.221268</td>\n",
       "      <td>0.383661</td>\n",
       "      <td>0.339294</td>\n",
       "      <td>855.752238</td>\n",
       "    </tr>\n",
       "    <tr>\n",
       "      <th>0</th>\n",
       "      <td>0.959641</td>\n",
       "      <td>1.035354</td>\n",
       "      <td>2.959837</td>\n",
       "      <td>-2.040778</td>\n",
       "      <td>1.949869</td>\n",
       "      <td>0.767870</td>\n",
       "      <td>0.218347</td>\n",
       "      <td>0.498291</td>\n",
       "      <td>704.134482</td>\n",
       "    </tr>\n",
       "    <tr>\n",
       "      <th>0</th>\n",
       "      <td>2.372383</td>\n",
       "      <td>1.204518</td>\n",
       "      <td>7.321627</td>\n",
       "      <td>1.501479</td>\n",
       "      <td>1.653397</td>\n",
       "      <td>1.573497</td>\n",
       "      <td>0.447353</td>\n",
       "      <td>0.443414</td>\n",
       "      <td>178.869350</td>\n",
       "    </tr>\n",
       "    <tr>\n",
       "      <th>0</th>\n",
       "      <td>0.975343</td>\n",
       "      <td>1.050233</td>\n",
       "      <td>10.000000</td>\n",
       "      <td>1.953464</td>\n",
       "      <td>0.768689</td>\n",
       "      <td>1.910466</td>\n",
       "      <td>0.337562</td>\n",
       "      <td>0.479012</td>\n",
       "      <td>227.159175</td>\n",
       "    </tr>\n",
       "    <tr>\n",
       "      <th>0</th>\n",
       "      <td>1.777910</td>\n",
       "      <td>1.360356</td>\n",
       "      <td>6.179502</td>\n",
       "      <td>2.092801</td>\n",
       "      <td>0.763909</td>\n",
       "      <td>1.300480</td>\n",
       "      <td>0.442305</td>\n",
       "      <td>0.451486</td>\n",
       "      <td>133.881156</td>\n",
       "    </tr>\n",
       "    <tr>\n",
       "      <th>0</th>\n",
       "      <td>1.665030</td>\n",
       "      <td>1.912255</td>\n",
       "      <td>9.663939</td>\n",
       "      <td>2.661361</td>\n",
       "      <td>1.694540</td>\n",
       "      <td>1.726783</td>\n",
       "      <td>0.286064</td>\n",
       "      <td>0.358628</td>\n",
       "      <td>-139.054841</td>\n",
       "    </tr>\n",
       "    <tr>\n",
       "      <th>0</th>\n",
       "      <td>0.805637</td>\n",
       "      <td>0.576742</td>\n",
       "      <td>2.310108</td>\n",
       "      <td>0.852078</td>\n",
       "      <td>1.290767</td>\n",
       "      <td>1.608935</td>\n",
       "      <td>0.421139</td>\n",
       "      <td>0.600737</td>\n",
       "      <td>1001.695634</td>\n",
       "    </tr>\n",
       "    <tr>\n",
       "      <th>0</th>\n",
       "      <td>1.229276</td>\n",
       "      <td>1.397927</td>\n",
       "      <td>3.970308</td>\n",
       "      <td>2.818167</td>\n",
       "      <td>0.889990</td>\n",
       "      <td>1.025466</td>\n",
       "      <td>0.282632</td>\n",
       "      <td>0.387901</td>\n",
       "      <td>210.677301</td>\n",
       "    </tr>\n",
       "    <tr>\n",
       "      <th>0</th>\n",
       "      <td>1.458536</td>\n",
       "      <td>1.717196</td>\n",
       "      <td>2.198633</td>\n",
       "      <td>-8.893081</td>\n",
       "      <td>1.355874</td>\n",
       "      <td>0.579461</td>\n",
       "      <td>0.327545</td>\n",
       "      <td>0.467619</td>\n",
       "      <td>544.850695</td>\n",
       "    </tr>\n",
       "    <tr>\n",
       "      <th>0</th>\n",
       "      <td>1.687671</td>\n",
       "      <td>1.497862</td>\n",
       "      <td>3.641149</td>\n",
       "      <td>2.010517</td>\n",
       "      <td>0.892196</td>\n",
       "      <td>1.909354</td>\n",
       "      <td>0.345896</td>\n",
       "      <td>0.335693</td>\n",
       "      <td>264.958416</td>\n",
       "    </tr>\n",
       "    <tr>\n",
       "      <th>0</th>\n",
       "      <td>0.378585</td>\n",
       "      <td>1.799254</td>\n",
       "      <td>9.776478</td>\n",
       "      <td>-9.590625</td>\n",
       "      <td>4.231427</td>\n",
       "      <td>0.522511</td>\n",
       "      <td>0.108528</td>\n",
       "      <td>0.582823</td>\n",
       "      <td>238.231050</td>\n",
       "    </tr>\n",
       "    <tr>\n",
       "      <th>0</th>\n",
       "      <td>1.425878</td>\n",
       "      <td>1.714387</td>\n",
       "      <td>9.980913</td>\n",
       "      <td>3.288150</td>\n",
       "      <td>0.775773</td>\n",
       "      <td>1.070511</td>\n",
       "      <td>0.308917</td>\n",
       "      <td>0.329500</td>\n",
       "      <td>-141.053901</td>\n",
       "    </tr>\n",
       "    <tr>\n",
       "      <th>0</th>\n",
       "      <td>1.744190</td>\n",
       "      <td>0.935991</td>\n",
       "      <td>10.000000</td>\n",
       "      <td>-0.688851</td>\n",
       "      <td>0.761943</td>\n",
       "      <td>0.755296</td>\n",
       "      <td>0.403042</td>\n",
       "      <td>0.529133</td>\n",
       "      <td>84.266334</td>\n",
       "    </tr>\n",
       "    <tr>\n",
       "      <th>0</th>\n",
       "      <td>1.166346</td>\n",
       "      <td>1.244899</td>\n",
       "      <td>3.551737</td>\n",
       "      <td>1.294805</td>\n",
       "      <td>1.651358</td>\n",
       "      <td>1.410356</td>\n",
       "      <td>0.210649</td>\n",
       "      <td>0.301582</td>\n",
       "      <td>544.176292</td>\n",
       "    </tr>\n",
       "    <tr>\n",
       "      <th>0</th>\n",
       "      <td>1.621261</td>\n",
       "      <td>1.914955</td>\n",
       "      <td>10.000000</td>\n",
       "      <td>4.157659</td>\n",
       "      <td>1.010429</td>\n",
       "      <td>1.824833</td>\n",
       "      <td>0.285810</td>\n",
       "      <td>0.348272</td>\n",
       "      <td>-86.638145</td>\n",
       "    </tr>\n",
       "    <tr>\n",
       "      <th>0</th>\n",
       "      <td>1.895132</td>\n",
       "      <td>1.840207</td>\n",
       "      <td>10.000000</td>\n",
       "      <td>2.733223</td>\n",
       "      <td>2.506237</td>\n",
       "      <td>1.266518</td>\n",
       "      <td>0.248585</td>\n",
       "      <td>0.420891</td>\n",
       "      <td>-116.283430</td>\n",
       "    </tr>\n",
       "    <tr>\n",
       "      <th>0</th>\n",
       "      <td>0.863119</td>\n",
       "      <td>0.665628</td>\n",
       "      <td>6.651924</td>\n",
       "      <td>0.075188</td>\n",
       "      <td>5.249379</td>\n",
       "      <td>1.620199</td>\n",
       "      <td>0.150803</td>\n",
       "      <td>0.400112</td>\n",
       "      <td>641.710322</td>\n",
       "    </tr>\n",
       "    <tr>\n",
       "      <th>0</th>\n",
       "      <td>2.388564</td>\n",
       "      <td>1.086244</td>\n",
       "      <td>6.082680</td>\n",
       "      <td>1.162648</td>\n",
       "      <td>1.952672</td>\n",
       "      <td>1.701576</td>\n",
       "      <td>0.283507</td>\n",
       "      <td>0.357252</td>\n",
       "      <td>296.955475</td>\n",
       "    </tr>\n",
       "    <tr>\n",
       "      <th>0</th>\n",
       "      <td>1.411675</td>\n",
       "      <td>1.261393</td>\n",
       "      <td>9.293256</td>\n",
       "      <td>-6.224440</td>\n",
       "      <td>7.323368</td>\n",
       "      <td>0.626671</td>\n",
       "      <td>0.157301</td>\n",
       "      <td>0.430749</td>\n",
       "      <td>366.589599</td>\n",
       "    </tr>\n",
       "    <tr>\n",
       "      <th>0</th>\n",
       "      <td>1.238339</td>\n",
       "      <td>0.835616</td>\n",
       "      <td>5.406304</td>\n",
       "      <td>1.383696</td>\n",
       "      <td>1.970730</td>\n",
       "      <td>1.170567</td>\n",
       "      <td>0.266063</td>\n",
       "      <td>0.368756</td>\n",
       "      <td>494.262104</td>\n",
       "    </tr>\n",
       "    <tr>\n",
       "      <th>0</th>\n",
       "      <td>0.693437</td>\n",
       "      <td>0.629889</td>\n",
       "      <td>4.490117</td>\n",
       "      <td>1.099571</td>\n",
       "      <td>2.237127</td>\n",
       "      <td>2.074612</td>\n",
       "      <td>0.190257</td>\n",
       "      <td>0.108798</td>\n",
       "      <td>885.860926</td>\n",
       "    </tr>\n",
       "    <tr>\n",
       "      <th>0</th>\n",
       "      <td>2.128363</td>\n",
       "      <td>1.273398</td>\n",
       "      <td>3.458813</td>\n",
       "      <td>1.737334</td>\n",
       "      <td>0.869620</td>\n",
       "      <td>1.636603</td>\n",
       "      <td>0.365211</td>\n",
       "      <td>0.236514</td>\n",
       "      <td>374.986468</td>\n",
       "    </tr>\n",
       "    <tr>\n",
       "      <th>0</th>\n",
       "      <td>1.230752</td>\n",
       "      <td>1.390945</td>\n",
       "      <td>3.618480</td>\n",
       "      <td>2.023242</td>\n",
       "      <td>1.036647</td>\n",
       "      <td>1.755932</td>\n",
       "      <td>0.347248</td>\n",
       "      <td>0.266611</td>\n",
       "      <td>372.530256</td>\n",
       "    </tr>\n",
       "    <tr>\n",
       "      <th>0</th>\n",
       "      <td>1.695538</td>\n",
       "      <td>0.916028</td>\n",
       "      <td>4.366143</td>\n",
       "      <td>0.839697</td>\n",
       "      <td>1.593901</td>\n",
       "      <td>2.374591</td>\n",
       "      <td>0.237522</td>\n",
       "      <td>0.286490</td>\n",
       "      <td>577.355274</td>\n",
       "    </tr>\n",
       "  </tbody>\n",
       "</table>\n",
       "</div>"
      ],
      "text/plain": [
       "   Drift Rate Speed  Drift Rate Accuracy  Self-excitation Speed  \\\n",
       "0          0.723540             0.878728               5.597213   \n",
       "0          3.020795             1.497412               8.847912   \n",
       "0          1.201826             1.301311               5.199509   \n",
       "0          1.620317             1.017833               2.640167   \n",
       "0          1.905567             1.104055               9.029301   \n",
       "0          1.367389             0.977006               4.890252   \n",
       "0          0.492418             1.066062               6.467699   \n",
       "0          1.903944             1.962577               6.109446   \n",
       "0          2.040919             1.560077               4.875044   \n",
       "0          0.734846             0.451281               2.408078   \n",
       "0          0.994843             0.313757               3.143475   \n",
       "0          0.783939             0.785703               5.157423   \n",
       "0          1.353994             0.683504               2.386103   \n",
       "0          0.550554             0.628239               1.185085   \n",
       "0          0.561421             0.546210               3.623853   \n",
       "0          1.630036             0.970825               4.203667   \n",
       "0          1.712712             1.139150               3.176858   \n",
       "0          1.335693             0.597860               5.399346   \n",
       "0          1.174090             0.911109               3.321244   \n",
       "0          0.475667             0.422901               1.089840   \n",
       "0          2.328351             1.303680               5.321945   \n",
       "0          1.986080             1.220527               4.732092   \n",
       "0          1.127450             0.680179               3.546509   \n",
       "0          1.233403             0.584608               3.557086   \n",
       "0          0.959641             1.035354               2.959837   \n",
       "0          2.372383             1.204518               7.321627   \n",
       "0          0.975343             1.050233              10.000000   \n",
       "0          1.777910             1.360356               6.179502   \n",
       "0          1.665030             1.912255               9.663939   \n",
       "0          0.805637             0.576742               2.310108   \n",
       "0          1.229276             1.397927               3.970308   \n",
       "0          1.458536             1.717196               2.198633   \n",
       "0          1.687671             1.497862               3.641149   \n",
       "0          0.378585             1.799254               9.776478   \n",
       "0          1.425878             1.714387               9.980913   \n",
       "0          1.744190             0.935991              10.000000   \n",
       "0          1.166346             1.244899               3.551737   \n",
       "0          1.621261             1.914955              10.000000   \n",
       "0          1.895132             1.840207              10.000000   \n",
       "0          0.863119             0.665628               6.651924   \n",
       "0          2.388564             1.086244               6.082680   \n",
       "0          1.411675             1.261393               9.293256   \n",
       "0          1.238339             0.835616               5.406304   \n",
       "0          0.693437             0.629889               4.490117   \n",
       "0          2.128363             1.273398               3.458813   \n",
       "0          1.230752             1.390945               3.618480   \n",
       "0          1.695538             0.916028               4.366143   \n",
       "\n",
       "   Self-excitation Accuracy  Boundary Separation Speed  \\\n",
       "0                 -0.068809                   0.905473   \n",
       "0                 -9.596829                   3.473206   \n",
       "0                  2.132219                   1.219839   \n",
       "0                  0.530214                   1.398581   \n",
       "0                  2.298194                   7.638257   \n",
       "0                  1.549900                   0.934577   \n",
       "0                  3.334507                   1.579391   \n",
       "0                  2.731913                   1.097981   \n",
       "0                  1.689335                   2.714529   \n",
       "0                  1.067819                   0.907266   \n",
       "0                  0.209285                   0.810483   \n",
       "0                 -0.841645                   1.986997   \n",
       "0                  0.470690                   1.160810   \n",
       "0                  1.103650                   0.989775   \n",
       "0                  0.910603                   1.510896   \n",
       "0                 -2.656460                   1.315861   \n",
       "0                 -7.787280                   1.250770   \n",
       "0                  1.219530                   1.030451   \n",
       "0                  1.963464                   1.007472   \n",
       "0                  0.767187                   1.454564   \n",
       "0                 -3.319444                   0.704671   \n",
       "0                  1.567511                   1.740836   \n",
       "0                 -0.615305                   1.228749   \n",
       "0                  0.897613                   1.836138   \n",
       "0                 -2.040778                   1.949869   \n",
       "0                  1.501479                   1.653397   \n",
       "0                  1.953464                   0.768689   \n",
       "0                  2.092801                   0.763909   \n",
       "0                  2.661361                   1.694540   \n",
       "0                  0.852078                   1.290767   \n",
       "0                  2.818167                   0.889990   \n",
       "0                 -8.893081                   1.355874   \n",
       "0                  2.010517                   0.892196   \n",
       "0                 -9.590625                   4.231427   \n",
       "0                  3.288150                   0.775773   \n",
       "0                 -0.688851                   0.761943   \n",
       "0                  1.294805                   1.651358   \n",
       "0                  4.157659                   1.010429   \n",
       "0                  2.733223                   2.506237   \n",
       "0                  0.075188                   5.249379   \n",
       "0                  1.162648                   1.952672   \n",
       "0                 -6.224440                   7.323368   \n",
       "0                  1.383696                   1.970730   \n",
       "0                  1.099571                   2.237127   \n",
       "0                  1.737334                   0.869620   \n",
       "0                  2.023242                   1.036647   \n",
       "0                  0.839697                   1.593901   \n",
       "\n",
       "   Boundary Separation Accuracy  Non-decision Time Speed  \\\n",
       "0                      0.908297                 0.307704   \n",
       "0                      0.591913                 0.339699   \n",
       "0                      1.582533                 0.201656   \n",
       "0                      7.898314                 0.335544   \n",
       "0                      1.400294                 0.180963   \n",
       "0                      1.441626                 0.397488   \n",
       "0                      1.186056                 0.113408   \n",
       "0                      1.674225                 0.393547   \n",
       "0                      3.051278                 0.314877   \n",
       "0                      1.165577                 0.341582   \n",
       "0                      1.230620                 0.403740   \n",
       "0                      0.907489                 0.129942   \n",
       "0                      1.471037                 0.368565   \n",
       "0                      1.442746                 0.364713   \n",
       "0                      1.378766                 0.136031   \n",
       "0                      0.806980                 0.343503   \n",
       "0                      0.606205                 0.332850   \n",
       "0                      1.106046                 0.345583   \n",
       "0                      1.649310                 0.326444   \n",
       "0                      1.942786                 0.120976   \n",
       "0                      0.681656                 0.336102   \n",
       "0                      1.647569                 0.290865   \n",
       "0                      0.907477                 0.329377   \n",
       "0                      2.221268                 0.383661   \n",
       "0                      0.767870                 0.218347   \n",
       "0                      1.573497                 0.447353   \n",
       "0                      1.910466                 0.337562   \n",
       "0                      1.300480                 0.442305   \n",
       "0                      1.726783                 0.286064   \n",
       "0                      1.608935                 0.421139   \n",
       "0                      1.025466                 0.282632   \n",
       "0                      0.579461                 0.327545   \n",
       "0                      1.909354                 0.345896   \n",
       "0                      0.522511                 0.108528   \n",
       "0                      1.070511                 0.308917   \n",
       "0                      0.755296                 0.403042   \n",
       "0                      1.410356                 0.210649   \n",
       "0                      1.824833                 0.285810   \n",
       "0                      1.266518                 0.248585   \n",
       "0                      1.620199                 0.150803   \n",
       "0                      1.701576                 0.283507   \n",
       "0                      0.626671                 0.157301   \n",
       "0                      1.170567                 0.266063   \n",
       "0                      2.074612                 0.190257   \n",
       "0                      1.636603                 0.365211   \n",
       "0                      1.755932                 0.347248   \n",
       "0                      2.374591                 0.237522   \n",
       "\n",
       "   Non-decision Time Accuracy          BIC  \n",
       "0                    0.378511   503.600805  \n",
       "0                    0.551292   217.868807  \n",
       "0                    0.189955   217.582184  \n",
       "0                    0.216247   673.608661  \n",
       "0                    0.328671   206.099762  \n",
       "0                    0.375746   473.402311  \n",
       "0                    0.322019   338.582318  \n",
       "0                    0.418273   -96.072539  \n",
       "0                    0.124451   160.386255  \n",
       "0                    0.327651   829.683622  \n",
       "0                    0.387516   911.978398  \n",
       "0                    0.459819   669.229169  \n",
       "0                    0.344862   723.407491  \n",
       "0                    0.330433   990.753392  \n",
       "0                    0.247970   827.797642  \n",
       "0                    0.536538   603.697550  \n",
       "0                    0.449790   635.877904  \n",
       "0                    0.374986   507.238258  \n",
       "0                    0.225940   583.772408  \n",
       "0                    0.119710  1283.761570  \n",
       "0                    0.443944   112.716340  \n",
       "0                    0.369568   330.844199  \n",
       "0                    0.467678   746.683616  \n",
       "0                    0.339294   855.752238  \n",
       "0                    0.498291   704.134482  \n",
       "0                    0.443414   178.869350  \n",
       "0                    0.479012   227.159175  \n",
       "0                    0.451486   133.881156  \n",
       "0                    0.358628  -139.054841  \n",
       "0                    0.600737  1001.695634  \n",
       "0                    0.387901   210.677301  \n",
       "0                    0.467619   544.850695  \n",
       "0                    0.335693   264.958416  \n",
       "0                    0.582823   238.231050  \n",
       "0                    0.329500  -141.053901  \n",
       "0                    0.529133    84.266334  \n",
       "0                    0.301582   544.176292  \n",
       "0                    0.348272   -86.638145  \n",
       "0                    0.420891  -116.283430  \n",
       "0                    0.400112   641.710322  \n",
       "0                    0.357252   296.955475  \n",
       "0                    0.430749   366.589599  \n",
       "0                    0.368756   494.262104  \n",
       "0                    0.108798   885.860926  \n",
       "0                    0.236514   374.986468  \n",
       "0                    0.266611   372.530256  \n",
       "0                    0.286490   577.355274  "
      ]
     },
     "execution_count": 9,
     "metadata": {},
     "output_type": "execute_result"
    }
   ],
   "source": [
    "df_OUM"
   ]
  },
  {
   "cell_type": "code",
   "execution_count": null,
   "id": "db096ad0",
   "metadata": {},
   "outputs": [],
   "source": []
  }
 ],
 "metadata": {
  "kernelspec": {
   "display_name": "Python 3 (ipykernel)",
   "language": "python",
   "name": "python3"
  },
  "language_info": {
   "codemirror_mode": {
    "name": "ipython",
    "version": 3
   },
   "file_extension": ".py",
   "mimetype": "text/x-python",
   "name": "python",
   "nbconvert_exporter": "python",
   "pygments_lexer": "ipython3",
   "version": "3.11.4"
  }
 },
 "nbformat": 4,
 "nbformat_minor": 5
}
