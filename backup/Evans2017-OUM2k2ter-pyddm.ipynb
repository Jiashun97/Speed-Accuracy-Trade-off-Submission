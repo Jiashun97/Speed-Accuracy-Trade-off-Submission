{
 "cells": [
  {
   "cell_type": "code",
   "execution_count": 1,
   "id": "2cda49de",
   "metadata": {},
   "outputs": [],
   "source": [
    "%run SAT_help_functions.ipynb"
   ]
  },
  {
   "cell_type": "code",
   "execution_count": null,
   "id": "bc081cf9",
   "metadata": {},
   "outputs": [],
   "source": []
  },
  {
   "cell_type": "markdown",
   "id": "4bd26666",
   "metadata": {},
   "source": [
    "## OUM"
   ]
  },
  {
   "cell_type": "code",
   "execution_count": null,
   "id": "9ef6c434",
   "metadata": {},
   "outputs": [],
   "source": []
  },
  {
   "cell_type": "code",
   "execution_count": 2,
   "id": "e776257c",
   "metadata": {},
   "outputs": [],
   "source": [
    "data_dir = \"/Users/wangjiashun/Desktop/Reserach on SAT/datasets/Evans2021/Evans2017/dataBySubject/sub\"\n",
    "sample_size = 47\n",
    "SAT_conds = [\"Speed\", \"Accuracy\"]"
   ]
  },
  {
   "cell_type": "code",
   "execution_count": null,
   "id": "f434220f",
   "metadata": {},
   "outputs": [],
   "source": []
  },
  {
   "cell_type": "code",
   "execution_count": 3,
   "id": "bbb278a6",
   "metadata": {},
   "outputs": [],
   "source": [
    "\n",
    "class DriftExcitationSpeedAcc(Drift):\n",
    "    name = \"DriftSpeedAcc\"\n",
    "    required_parameters = [\"drift\", \"Kspeed\", \"Kacc\"]\n",
    "    required_conditions = ['Cond']\n",
    "        \n",
    "    def get_drift(self, x, t, conditions, **kwargs):\n",
    "        if conditions['Cond'] == 'Speed':\n",
    "            return self.drift + x*self.Kspeed \n",
    "        elif conditions['Cond'] == 'Accuracy':\n",
    "            return self.drift + x*self.Kacc\n",
    "        else: \n",
    "            print(\"Non-implemented SAT conditions\")"
   ]
  },
  {
   "cell_type": "code",
   "execution_count": 4,
   "id": "6e5e0074",
   "metadata": {},
   "outputs": [],
   "source": [
    "\n",
    "class NondecisionSpeedAcc(OverlayNonDecision):\n",
    "    name = \"DriftSpeedAcc\"\n",
    "    required_parameters = [\"tSpeed\", 'tAcc']\n",
    "    required_conditions = ['Cond']\n",
    "        \n",
    "    def get_nondecision_time(self, conditions, **kwargs):\n",
    "        if conditions['Cond'] == 'Speed':\n",
    "            return self.tSpeed \n",
    "        elif conditions['Cond'] == 'Accuracy':\n",
    "            return self.tAcc\n",
    "        else: \n",
    "            print(\"Non-implemented SAT conditions\")"
   ]
  },
  {
   "cell_type": "code",
   "execution_count": null,
   "id": "b1e0fe9b",
   "metadata": {},
   "outputs": [],
   "source": []
  },
  {
   "cell_type": "code",
   "execution_count": null,
   "id": "da0ee7d0",
   "metadata": {},
   "outputs": [],
   "source": []
  },
  {
   "cell_type": "code",
   "execution_count": 24,
   "id": "fd95799b",
   "metadata": {},
   "outputs": [],
   "source": []
  },
  {
   "cell_type": "code",
   "execution_count": 5,
   "id": "fdb13001",
   "metadata": {},
   "outputs": [
    {
     "name": "stdout",
     "output_type": "stream",
     "text": [
      "0\n"
     ]
    },
    {
     "name": "stderr",
     "output_type": "stream",
     "text": [
      "Info: Params [ 0.90788557  5.22440176 -0.01847203  0.81488114  0.31936965  0.40964628] gave 402.36618706896394\n"
     ]
    },
    {
     "name": "stdout",
     "output_type": "stream",
     "text": [
      "   Drift Rate  Self-excitation Speed  Self-excitation Accuracy  \\\n",
      "0    0.907886               5.224402                 -0.018472   \n",
      "\n",
      "   Boundary Separation  Non-decision Time Speed  Non-decision Time Accuracy  \\\n",
      "0             0.814881                  0.31937                    0.409646   \n",
      "\n",
      "   Participant         BIC  \n",
      "0            1  402.366187  \n",
      "1\n"
     ]
    },
    {
     "name": "stderr",
     "output_type": "stream",
     "text": [
      "Info: Params [1.96913364 7.93099023 1.8893127  1.52397786 0.38599009 0.46333121] gave -85.9620631780415\n"
     ]
    },
    {
     "name": "stdout",
     "output_type": "stream",
     "text": [
      "   Drift Rate  Self-excitation Speed  Self-excitation Accuracy  \\\n",
      "0    1.969134                7.93099                  1.889313   \n",
      "\n",
      "   Boundary Separation  Non-decision Time Speed  Non-decision Time Accuracy  \\\n",
      "0             1.523978                  0.38599                    0.463331   \n",
      "\n",
      "   Participant        BIC  \n",
      "0            2 -85.962063  \n",
      "2\n"
     ]
    },
    {
     "name": "stderr",
     "output_type": "stream",
     "text": [
      "Info: Params [1.43737494 5.09931207 3.59754812 1.12004033 0.21207693 0.32460453] gave 111.62935314243057\n"
     ]
    },
    {
     "name": "stdout",
     "output_type": "stream",
     "text": [
      "   Drift Rate  Self-excitation Speed  Self-excitation Accuracy  \\\n",
      "0    1.437375               5.099312                  3.597548   \n",
      "\n",
      "   Boundary Separation  Non-decision Time Speed  Non-decision Time Accuracy  \\\n",
      "0              1.12004                 0.212077                    0.324605   \n",
      "\n",
      "   Participant         BIC  \n",
      "0            3  111.629353  \n",
      "3\n"
     ]
    },
    {
     "name": "stderr",
     "output_type": "stream",
     "text": [
      "Info: Params [1.83644436 3.60049824 0.19318171 4.70141653 0.10549958 0.4833702 ] gave 237.736328148761\n"
     ]
    },
    {
     "name": "stdout",
     "output_type": "stream",
     "text": [
      "   Drift Rate  Self-excitation Speed  Self-excitation Accuracy  \\\n",
      "0    1.836444               3.600498                  0.193182   \n",
      "\n",
      "   Boundary Separation  Non-decision Time Speed  Non-decision Time Accuracy  \\\n",
      "0             4.701417                   0.1055                     0.48337   \n",
      "\n",
      "   Participant         BIC  \n",
      "0            4  237.736328  \n",
      "4\n"
     ]
    },
    {
     "name": "stderr",
     "output_type": "stream",
     "text": [
      "Info: Params [1.30600643 6.9643099  2.42980805 1.49329557 0.30167268 0.3122717 ] gave 196.79299880734436\n"
     ]
    },
    {
     "name": "stdout",
     "output_type": "stream",
     "text": [
      "   Drift Rate  Self-excitation Speed  Self-excitation Accuracy  \\\n",
      "0    1.306006                6.96431                  2.429808   \n",
      "\n",
      "   Boundary Separation  Non-decision Time Speed  Non-decision Time Accuracy  \\\n",
      "0             1.493296                 0.301673                    0.312272   \n",
      "\n",
      "   Participant         BIC  \n",
      "0            5  196.792999  \n",
      "5\n"
     ]
    },
    {
     "name": "stderr",
     "output_type": "stream",
     "text": [
      "Info: Params [1.1944803  4.90205412 0.17750335 0.88948266 0.40122958 0.49750864] gave 291.3660361907059\n"
     ]
    },
    {
     "name": "stdout",
     "output_type": "stream",
     "text": [
      "   Drift Rate  Self-excitation Speed  Self-excitation Accuracy  \\\n",
      "0     1.19448               4.902054                  0.177503   \n",
      "\n",
      "   Boundary Separation  Non-decision Time Speed  Non-decision Time Accuracy  \\\n",
      "0             0.889483                  0.40123                    0.497509   \n",
      "\n",
      "   Participant         BIC  \n",
      "0            6  291.366036  \n",
      "6\n"
     ]
    },
    {
     "name": "stderr",
     "output_type": "stream",
     "text": [
      "Info: Params [0.81556689 5.62025316 2.7177814  0.98955255 0.16645394 0.33705613] gave 334.9997612423903\n"
     ]
    },
    {
     "name": "stdout",
     "output_type": "stream",
     "text": [
      "   Drift Rate  Self-excitation Speed  Self-excitation Accuracy  \\\n",
      "0    0.815567               5.620253                  2.717781   \n",
      "\n",
      "   Boundary Separation  Non-decision Time Speed  Non-decision Time Accuracy  \\\n",
      "0             0.989553                 0.166454                    0.337056   \n",
      "\n",
      "   Participant         BIC  \n",
      "0            7  334.999761  \n",
      "7\n"
     ]
    },
    {
     "name": "stderr",
     "output_type": "stream",
     "text": [
      "Info: Params [2.05255157 6.55553872 3.77456907 1.33431578 0.37314112 0.49741149] gave -141.27425137596182\n"
     ]
    },
    {
     "name": "stdout",
     "output_type": "stream",
     "text": [
      "   Drift Rate  Self-excitation Speed  Self-excitation Accuracy  \\\n",
      "0    2.052552               6.555539                  3.774569   \n",
      "\n",
      "   Boundary Separation  Non-decision Time Speed  Non-decision Time Accuracy  \\\n",
      "0             1.334316                 0.373141                    0.497411   \n",
      "\n",
      "   Participant         BIC  \n",
      "0            8 -141.274251  \n",
      "8\n"
     ]
    },
    {
     "name": "stderr",
     "output_type": "stream",
     "text": [
      "Info: Params [1.92530849 5.19010993 2.22432668 3.06587374 0.30223245 0.23768428] gave 71.33470407924631\n"
     ]
    },
    {
     "name": "stdout",
     "output_type": "stream",
     "text": [
      "   Drift Rate  Self-excitation Speed  Self-excitation Accuracy  \\\n",
      "0    1.925308                5.19011                  2.224327   \n",
      "\n",
      "   Boundary Separation  Non-decision Time Speed  Non-decision Time Accuracy  \\\n",
      "0             3.065874                 0.302232                    0.237684   \n",
      "\n",
      "   Participant        BIC  \n",
      "0            9  71.334704  \n",
      "9\n"
     ]
    },
    {
     "name": "stderr",
     "output_type": "stream",
     "text": [
      "Info: Params [0.57916291 3.23008612 1.42373066 1.12138823 0.30343966 0.34045982] gave 720.5383000372922\n"
     ]
    },
    {
     "name": "stdout",
     "output_type": "stream",
     "text": [
      "   Drift Rate  Self-excitation Speed  Self-excitation Accuracy  \\\n",
      "0    0.579163               3.230086                  1.423731   \n",
      "\n",
      "   Boundary Separation  Non-decision Time Speed  Non-decision Time Accuracy  \\\n",
      "0             1.121388                  0.30344                     0.34046   \n",
      "\n",
      "   Participant       BIC  \n",
      "0           10  720.5383  \n",
      "10\n"
     ]
    },
    {
     "name": "stderr",
     "output_type": "stream",
     "text": [
      "Info: Params [0.61569941 4.56932086 1.3030506  1.435456   0.31600581 0.42911785] gave 702.791010977044\n"
     ]
    },
    {
     "name": "stdout",
     "output_type": "stream",
     "text": [
      "   Drift Rate  Self-excitation Speed  Self-excitation Accuracy  \\\n",
      "0    0.615699               4.569321                  1.303051   \n",
      "\n",
      "   Boundary Separation  Non-decision Time Speed  Non-decision Time Accuracy  \\\n",
      "0             1.435456                 0.316006                    0.429118   \n",
      "\n",
      "   Participant         BIC  \n",
      "0           11  702.791011  \n",
      "11\n"
     ]
    },
    {
     "name": "stderr",
     "output_type": "stream",
     "text": [
      "Info: Params [0.92381988 4.34462899 0.88141361 1.14013641 0.19346962 0.42059904] gave 532.6357346546879\n"
     ]
    },
    {
     "name": "stdout",
     "output_type": "stream",
     "text": [
      "   Drift Rate  Self-excitation Speed  Self-excitation Accuracy  \\\n",
      "0     0.92382               4.344629                  0.881414   \n",
      "\n",
      "   Boundary Separation  Non-decision Time Speed  Non-decision Time Accuracy  \\\n",
      "0             1.140136                  0.19347                    0.420599   \n",
      "\n",
      "   Participant         BIC  \n",
      "0           12  532.635735  \n",
      "12\n"
     ]
    },
    {
     "name": "stderr",
     "output_type": "stream",
     "text": [
      "Info: Params [1.15012384 4.37312549 1.38840997 1.87908759 0.31740019 0.34673022] gave 471.0837568972184\n"
     ]
    },
    {
     "name": "stdout",
     "output_type": "stream",
     "text": [
      "   Drift Rate  Self-excitation Speed  Self-excitation Accuracy  \\\n",
      "0    1.150124               4.373125                   1.38841   \n",
      "\n",
      "   Boundary Separation  Non-decision Time Speed  Non-decision Time Accuracy  \\\n",
      "0             1.879088                   0.3174                     0.34673   \n",
      "\n",
      "   Participant         BIC  \n",
      "0           13  471.083757  \n",
      "13\n"
     ]
    },
    {
     "name": "stderr",
     "output_type": "stream",
     "text": [
      "Info: Params [0.65349015 2.81963068 1.56075743 1.34971036 0.31762156 0.38074806] gave 784.2836633149816\n"
     ]
    },
    {
     "name": "stdout",
     "output_type": "stream",
     "text": [
      "   Drift Rate  Self-excitation Speed  Self-excitation Accuracy  \\\n",
      "0     0.65349               2.819631                  1.560757   \n",
      "\n",
      "   Boundary Separation  Non-decision Time Speed  Non-decision Time Accuracy  \\\n",
      "0              1.34971                 0.317622                    0.380748   \n",
      "\n",
      "   Participant         BIC  \n",
      "0           14  784.283663  \n",
      "14\n"
     ]
    },
    {
     "name": "stderr",
     "output_type": "stream",
     "text": [
      "Info: Params [0.5860585  5.09694434 1.74170818 1.80315991 0.16448968 0.2033779 ] gave 652.7123092877633\n"
     ]
    },
    {
     "name": "stdout",
     "output_type": "stream",
     "text": [
      "   Drift Rate  Self-excitation Speed  Self-excitation Accuracy  \\\n",
      "0    0.586059               5.096944                  1.741708   \n",
      "\n",
      "   Boundary Separation  Non-decision Time Speed  Non-decision Time Accuracy  \\\n",
      "0              1.80316                  0.16449                    0.203378   \n",
      "\n",
      "   Participant         BIC  \n",
      "0           15  652.712309  \n",
      "15\n"
     ]
    },
    {
     "name": "stderr",
     "output_type": "stream",
     "text": [
      "Info: Params [1.18919928 3.91289359 0.12056899 1.10164673 0.35061157 0.48744469] gave 467.16612424789105\n"
     ]
    },
    {
     "name": "stdout",
     "output_type": "stream",
     "text": [
      "   Drift Rate  Self-excitation Speed  Self-excitation Accuracy  \\\n",
      "0    1.189199               3.912894                  0.120569   \n",
      "\n",
      "   Boundary Separation  Non-decision Time Speed  Non-decision Time Accuracy  \\\n",
      "0             1.101647                 0.350612                    0.487445   \n",
      "\n",
      "   Participant         BIC  \n",
      "0           16  467.166124  \n",
      "16\n"
     ]
    },
    {
     "name": "stderr",
     "output_type": "stream",
     "text": [
      "Info: Params [ 1.3114586   0.21932662 -3.66205267  0.70418769  0.38147931  0.43469198] gave 486.4924197999884\n"
     ]
    },
    {
     "name": "stdout",
     "output_type": "stream",
     "text": [
      "   Drift Rate  Self-excitation Speed  Self-excitation Accuracy  \\\n",
      "0    1.311459               0.219327                 -3.662053   \n",
      "\n",
      "   Boundary Separation  Non-decision Time Speed  Non-decision Time Accuracy  \\\n",
      "0             0.704188                 0.381479                    0.434692   \n",
      "\n",
      "   Participant        BIC  \n",
      "0           17  486.49242  \n",
      "17\n"
     ]
    },
    {
     "name": "stderr",
     "output_type": "stream",
     "text": [
      "Info: Params [0.87496685 5.79718129 1.67580627 1.12368454 0.33030134 0.39608295] gave 441.5901006782171\n"
     ]
    },
    {
     "name": "stdout",
     "output_type": "stream",
     "text": [
      "   Drift Rate  Self-excitation Speed  Self-excitation Accuracy  \\\n",
      "0    0.874967               5.797181                  1.675806   \n",
      "\n",
      "   Boundary Separation  Non-decision Time Speed  Non-decision Time Accuracy  \\\n",
      "0             1.123685                 0.330301                    0.396083   \n",
      "\n",
      "   Participant         BIC  \n",
      "0           18  441.590101  \n",
      "18\n"
     ]
    },
    {
     "name": "stderr",
     "output_type": "stream",
     "text": [
      "Info: Params [1.0058974  4.26040562 2.29236389 1.51726783 0.26958606 0.26863503] gave 498.1637902926315\n"
     ]
    },
    {
     "name": "stdout",
     "output_type": "stream",
     "text": [
      "   Drift Rate  Self-excitation Speed  Self-excitation Accuracy  \\\n",
      "0    1.005897               4.260406                  2.292364   \n",
      "\n",
      "   Boundary Separation  Non-decision Time Speed  Non-decision Time Accuracy  \\\n",
      "0             1.517268                 0.269586                    0.268635   \n",
      "\n",
      "   Participant        BIC  \n",
      "0           19  498.16379  \n",
      "19\n"
     ]
    },
    {
     "name": "stderr",
     "output_type": "stream",
     "text": [
      "Info: Params [0.50510811 1.6015893  0.93580971 1.68421595 0.10558631 0.17678055] gave 984.1501096211331\n"
     ]
    },
    {
     "name": "stdout",
     "output_type": "stream",
     "text": [
      "   Drift Rate  Self-excitation Speed  Self-excitation Accuracy  \\\n",
      "0    0.505108               1.601589                   0.93581   \n",
      "\n",
      "   Boundary Separation  Non-decision Time Speed  Non-decision Time Accuracy  \\\n",
      "0             1.684216                 0.105586                    0.176781   \n",
      "\n",
      "   Participant        BIC  \n",
      "0           20  984.15011  \n",
      "20\n"
     ]
    },
    {
     "name": "stderr",
     "output_type": "stream",
     "text": [
      "Info: Params [ 1.62939547  6.36652851 -1.40196374  0.74475036  0.32152773  0.44188537] gave 12.481159364426041\n"
     ]
    },
    {
     "name": "stdout",
     "output_type": "stream",
     "text": [
      "   Drift Rate  Self-excitation Speed  Self-excitation Accuracy  \\\n",
      "0    1.629395               6.366529                 -1.401964   \n",
      "\n",
      "   Boundary Separation  Non-decision Time Speed  Non-decision Time Accuracy  \\\n",
      "0              0.74475                 0.321528                    0.441885   \n",
      "\n",
      "   Participant        BIC  \n",
      "0           21  12.481159  \n",
      "21\n"
     ]
    },
    {
     "name": "stderr",
     "output_type": "stream",
     "text": [
      "Info: Params [1.50230777 4.79366047 1.77050795 1.60300452 0.29229528 0.39065532] gave 255.65651965399707\n"
     ]
    },
    {
     "name": "stdout",
     "output_type": "stream",
     "text": [
      "   Drift Rate  Self-excitation Speed  Self-excitation Accuracy  \\\n",
      "0    1.502308                4.79366                  1.770508   \n",
      "\n",
      "   Boundary Separation  Non-decision Time Speed  Non-decision Time Accuracy  \\\n",
      "0             1.603005                 0.292295                    0.390655   \n",
      "\n",
      "   Participant        BIC  \n",
      "0           22  255.65652  \n",
      "22\n"
     ]
    },
    {
     "name": "stderr",
     "output_type": "stream",
     "text": [
      "Info: Params [0.87891767 3.36247381 1.36833    1.21699153 0.30701451 0.43970942] gave 635.7200551445761\n"
     ]
    },
    {
     "name": "stdout",
     "output_type": "stream",
     "text": [
      "   Drift Rate  Self-excitation Speed  Self-excitation Accuracy  \\\n",
      "0    0.878918               3.362474                   1.36833   \n",
      "\n",
      "   Boundary Separation  Non-decision Time Speed  Non-decision Time Accuracy  \\\n",
      "0             1.216992                 0.307015                    0.439709   \n",
      "\n",
      "   Participant         BIC  \n",
      "0           23  635.720055  \n",
      "23\n"
     ]
    },
    {
     "name": "stderr",
     "output_type": "stream",
     "text": [
      "Info: Params [0.90916071 3.76382983 1.34739284 2.56042312 0.30363887 0.32090191] gave 617.0377500808022\n"
     ]
    },
    {
     "name": "stdout",
     "output_type": "stream",
     "text": [
      "   Drift Rate  Self-excitation Speed  Self-excitation Accuracy  \\\n",
      "0    0.909161                3.76383                  1.347393   \n",
      "\n",
      "   Boundary Separation  Non-decision Time Speed  Non-decision Time Accuracy  \\\n",
      "0             2.560423                 0.303639                    0.320902   \n",
      "\n",
      "   Participant        BIC  \n",
      "0           24  617.03775  \n",
      "24\n"
     ]
    },
    {
     "name": "stderr",
     "output_type": "stream",
     "text": [
      "Info: Params [1.20546541 3.4092091  2.3132939  1.92158943 0.26415084 0.32386487] gave 524.460118263145\n"
     ]
    },
    {
     "name": "stdout",
     "output_type": "stream",
     "text": [
      "   Drift Rate  Self-excitation Speed  Self-excitation Accuracy  \\\n",
      "0    1.205465               3.409209                  2.313294   \n",
      "\n",
      "   Boundary Separation  Non-decision Time Speed  Non-decision Time Accuracy  \\\n",
      "0             1.921589                 0.264151                    0.323865   \n",
      "\n",
      "   Participant         BIC  \n",
      "0           25  524.460118  \n",
      "25\n"
     ]
    },
    {
     "name": "stderr",
     "output_type": "stream",
     "text": [
      "Info: Params [1.48621781 7.73575042 1.62930707 1.66728711 0.43276501 0.4551027 ] gave 173.9225710267981\n"
     ]
    },
    {
     "name": "stdout",
     "output_type": "stream",
     "text": [
      "   Drift Rate  Self-excitation Speed  Self-excitation Accuracy  \\\n",
      "0    1.486218                7.73575                  1.629307   \n",
      "\n",
      "   Boundary Separation  Non-decision Time Speed  Non-decision Time Accuracy  \\\n",
      "0             1.667287                 0.432765                    0.455103   \n",
      "\n",
      "   Participant         BIC  \n",
      "0           26  173.922571  \n",
      "26\n"
     ]
    },
    {
     "name": "stderr",
     "output_type": "stream",
     "text": [
      "Info: Params [ 1.0201575  10.          1.75971561  1.34527517  0.28613218  0.57124993] gave 174.30694994234977\n"
     ]
    },
    {
     "name": "stdout",
     "output_type": "stream",
     "text": [
      "   Drift Rate  Self-excitation Speed  Self-excitation Accuracy  \\\n",
      "0    1.020158                   10.0                  1.759716   \n",
      "\n",
      "   Boundary Separation  Non-decision Time Speed  Non-decision Time Accuracy  \\\n",
      "0             1.345275                 0.286132                     0.57125   \n",
      "\n",
      "   Participant        BIC  \n",
      "0           27  174.30695  \n",
      "27\n"
     ]
    },
    {
     "name": "stderr",
     "output_type": "stream",
     "text": [
      "Info: Params [ 1.56818143  4.02959709 -3.86725705  0.58551158  0.45516283  0.58860719] gave 58.76304899937902\n"
     ]
    },
    {
     "name": "stdout",
     "output_type": "stream",
     "text": [
      "   Drift Rate  Self-excitation Speed  Self-excitation Accuracy  \\\n",
      "0    1.568181               4.029597                 -3.867257   \n",
      "\n",
      "   Boundary Separation  Non-decision Time Speed  Non-decision Time Accuracy  \\\n",
      "0             0.585512                 0.455163                    0.588607   \n",
      "\n",
      "   Participant        BIC  \n",
      "0           28  58.763049  \n",
      "28\n"
     ]
    },
    {
     "name": "stderr",
     "output_type": "stream",
     "text": [
      "Info: Params [1.94734936 9.18833406 3.852287   1.41425769 0.29503709 0.43652734] gave -211.5295883624862\n"
     ]
    },
    {
     "name": "stdout",
     "output_type": "stream",
     "text": [
      "   Drift Rate  Self-excitation Speed  Self-excitation Accuracy  \\\n",
      "0    1.947349               9.188334                  3.852287   \n",
      "\n",
      "   Boundary Separation  Non-decision Time Speed  Non-decision Time Accuracy  \\\n",
      "0             1.414258                 0.295037                    0.436527   \n",
      "\n",
      "   Participant         BIC  \n",
      "0           29 -211.529588  \n",
      "29\n"
     ]
    },
    {
     "name": "stderr",
     "output_type": "stream",
     "text": [
      "Info: Params [0.77190516 3.06979094 1.69954959 3.28893231 0.20874933 0.310433  ] gave 760.2873114518874\n"
     ]
    },
    {
     "name": "stdout",
     "output_type": "stream",
     "text": [
      "   Drift Rate  Self-excitation Speed  Self-excitation Accuracy  \\\n",
      "0    0.771905               3.069791                   1.69955   \n",
      "\n",
      "   Boundary Separation  Non-decision Time Speed  Non-decision Time Accuracy  \\\n",
      "0             3.288932                 0.208749                    0.310433   \n",
      "\n",
      "   Participant         BIC  \n",
      "0           30  760.287311  \n",
      "30\n"
     ]
    },
    {
     "name": "stderr",
     "output_type": "stream",
     "text": [
      "Info: Params [1.31617166 4.38095725 2.69060708 0.98790644 0.27297204 0.38444106] gave 199.06290174372162\n"
     ]
    },
    {
     "name": "stdout",
     "output_type": "stream",
     "text": [
      "   Drift Rate  Self-excitation Speed  Self-excitation Accuracy  \\\n",
      "0    1.316172               4.380957                  2.690607   \n",
      "\n",
      "   Boundary Separation  Non-decision Time Speed  Non-decision Time Accuracy  \\\n",
      "0             0.987906                 0.272972                    0.384441   \n",
      "\n",
      "   Participant         BIC  \n",
      "0           31  199.062902  \n",
      "31\n"
     ]
    },
    {
     "name": "stderr",
     "output_type": "stream",
     "text": [
      "Info: Params [1.51973166 2.59580539 1.22297288 1.38295825 0.34088937 0.35708388] gave 410.1634158461178\n"
     ]
    },
    {
     "name": "stdout",
     "output_type": "stream",
     "text": [
      "   Drift Rate  Self-excitation Speed  Self-excitation Accuracy  \\\n",
      "0    1.519732               2.595805                  1.222973   \n",
      "\n",
      "   Boundary Separation  Non-decision Time Speed  Non-decision Time Accuracy  \\\n",
      "0             1.382958                 0.340889                    0.357084   \n",
      "\n",
      "   Participant         BIC  \n",
      "0           32  410.163416  \n",
      "32\n"
     ]
    },
    {
     "name": "stderr",
     "output_type": "stream",
     "text": [
      "Info: Params [1.56594832 4.45847002 1.34519922 1.1473189  0.31461319 0.46418278] gave 204.95780666195526\n"
     ]
    },
    {
     "name": "stdout",
     "output_type": "stream",
     "text": [
      "   Drift Rate  Self-excitation Speed  Self-excitation Accuracy  \\\n",
      "0    1.565948                4.45847                  1.345199   \n",
      "\n",
      "   Boundary Separation  Non-decision Time Speed  Non-decision Time Accuracy  \\\n",
      "0             1.147319                 0.314613                    0.464183   \n",
      "\n",
      "   Participant         BIC  \n",
      "0           33  204.957807  \n",
      "33\n"
     ]
    },
    {
     "name": "stderr",
     "output_type": "stream",
     "text": [
      "Info: Params [1.23901211 8.14956899 2.00942733 1.51209964 0.17148645 0.40462379] gave 237.0475718534337\n"
     ]
    },
    {
     "name": "stdout",
     "output_type": "stream",
     "text": [
      "   Drift Rate  Self-excitation Speed  Self-excitation Accuracy  \\\n",
      "0    1.239012               8.149569                  2.009427   \n",
      "\n",
      "   Boundary Separation  Non-decision Time Speed  Non-decision Time Accuracy  \\\n",
      "0               1.5121                 0.171486                    0.404624   \n",
      "\n",
      "   Participant         BIC  \n",
      "0           34  237.047572  \n",
      "34\n"
     ]
    },
    {
     "name": "stderr",
     "output_type": "stream",
     "text": [
      "Info: Params [1.55883764 9.98976425 2.67618332 0.88077181 0.29886521 0.34469256] gave -148.78375671600207\n"
     ]
    },
    {
     "name": "stdout",
     "output_type": "stream",
     "text": [
      "   Drift Rate  Self-excitation Speed  Self-excitation Accuracy  \\\n",
      "0    1.558838               9.989764                  2.676183   \n",
      "\n",
      "   Boundary Separation  Non-decision Time Speed  Non-decision Time Accuracy  \\\n",
      "0             0.880772                 0.298865                    0.344693   \n",
      "\n",
      "   Participant         BIC  \n",
      "0           35 -148.783757  \n",
      "35\n"
     ]
    },
    {
     "name": "stderr",
     "output_type": "stream",
     "text": [
      "Info: Params [ 1.21696875 10.          0.34733605  0.7553752   0.40264624  0.53427707] gave -25.547304136749787\n"
     ]
    },
    {
     "name": "stdout",
     "output_type": "stream",
     "text": [
      "   Drift Rate  Self-excitation Speed  Self-excitation Accuracy  \\\n",
      "0    1.216969                   10.0                  0.347336   \n",
      "\n",
      "   Boundary Separation  Non-decision Time Speed  Non-decision Time Accuracy  \\\n",
      "0             0.755375                 0.402646                    0.534277   \n",
      "\n",
      "   Participant        BIC  \n",
      "0           36 -25.547304  \n",
      "36\n"
     ]
    },
    {
     "name": "stderr",
     "output_type": "stream",
     "text": [
      "Info: Params [1.29982956 3.49764871 1.48539235 1.40181534 0.25378736 0.31306834] gave 455.1540098006216\n"
     ]
    },
    {
     "name": "stdout",
     "output_type": "stream",
     "text": [
      "   Drift Rate  Self-excitation Speed  Self-excitation Accuracy  \\\n",
      "0     1.29983               3.497649                  1.485392   \n",
      "\n",
      "   Boundary Separation  Non-decision Time Speed  Non-decision Time Accuracy  \\\n",
      "0             1.401815                 0.253787                    0.313068   \n",
      "\n",
      "   Participant        BIC  \n",
      "0           37  455.15401  \n",
      "37\n"
     ]
    },
    {
     "name": "stderr",
     "output_type": "stream",
     "text": [
      "Info: Params [ 1.78261127 10.          3.60260252  1.22366641  0.27771398  0.39552706] gave -184.91044757787688\n"
     ]
    },
    {
     "name": "stdout",
     "output_type": "stream",
     "text": [
      "   Drift Rate  Self-excitation Speed  Self-excitation Accuracy  \\\n",
      "0    1.782611                   10.0                  3.602603   \n",
      "\n",
      "   Boundary Separation  Non-decision Time Speed  Non-decision Time Accuracy  \\\n",
      "0             1.223666                 0.277714                    0.395527   \n",
      "\n",
      "   Participant         BIC  \n",
      "0           38 -184.910448  \n",
      "38\n"
     ]
    },
    {
     "name": "stderr",
     "output_type": "stream",
     "text": [
      "Info: Params [1.8673141  8.48559959 2.81807752 1.28103704 0.28650506 0.42612296] gave -127.2254247504196\n"
     ]
    },
    {
     "name": "stdout",
     "output_type": "stream",
     "text": [
      "   Drift Rate  Self-excitation Speed  Self-excitation Accuracy  \\\n",
      "0    1.867314                 8.4856                  2.818078   \n",
      "\n",
      "   Boundary Separation  Non-decision Time Speed  Non-decision Time Accuracy  \\\n",
      "0             1.281037                 0.286505                    0.426123   \n",
      "\n",
      "   Participant         BIC  \n",
      "0           39 -127.225425  \n",
      "39\n"
     ]
    },
    {
     "name": "stderr",
     "output_type": "stream",
     "text": [
      "Info: Params [0.81770799 5.81834173 0.57173916 1.74672603 0.28065796 0.39910076] gave 426.89403593035775\n"
     ]
    },
    {
     "name": "stdout",
     "output_type": "stream",
     "text": [
      "   Drift Rate  Self-excitation Speed  Self-excitation Accuracy  \\\n",
      "0    0.817708               5.818342                  0.571739   \n",
      "\n",
      "   Boundary Separation  Non-decision Time Speed  Non-decision Time Accuracy  \\\n",
      "0             1.746726                 0.280658                    0.399101   \n",
      "\n",
      "   Participant         BIC  \n",
      "0           40  426.894036  \n",
      "40\n"
     ]
    },
    {
     "name": "stderr",
     "output_type": "stream",
     "text": [
      "Info: Params [1.53220361 6.43179354 1.58187862 1.75857552 0.2895898  0.41756392] gave 184.38880778509287\n"
     ]
    },
    {
     "name": "stdout",
     "output_type": "stream",
     "text": [
      "   Drift Rate  Self-excitation Speed  Self-excitation Accuracy  \\\n",
      "0    1.532204               6.431794                  1.581879   \n",
      "\n",
      "   Boundary Separation  Non-decision Time Speed  Non-decision Time Accuracy  \\\n",
      "0             1.758576                  0.28959                    0.417564   \n",
      "\n",
      "   Participant         BIC  \n",
      "0           41  184.388808  \n",
      "41\n"
     ]
    },
    {
     "name": "stderr",
     "output_type": "stream",
     "text": [
      "Info: Params [1.2468524  7.30583297 1.13214456 1.31034743 0.29229195 0.3121408 ] gave 254.24883576603293\n"
     ]
    },
    {
     "name": "stdout",
     "output_type": "stream",
     "text": [
      "   Drift Rate  Self-excitation Speed  Self-excitation Accuracy  \\\n",
      "0    1.246852               7.305833                  1.132145   \n",
      "\n",
      "   Boundary Separation  Non-decision Time Speed  Non-decision Time Accuracy  \\\n",
      "0             1.310347                 0.292292                    0.312141   \n",
      "\n",
      "   Participant         BIC  \n",
      "0           42  254.248836  \n",
      "42\n"
     ]
    },
    {
     "name": "stderr",
     "output_type": "stream",
     "text": [
      "Info: Params [1.11309529 5.17245538 2.41383319 1.37694175 0.31578652 0.36974282] gave 368.3871175238939\n"
     ]
    },
    {
     "name": "stdout",
     "output_type": "stream",
     "text": [
      "   Drift Rate  Self-excitation Speed  Self-excitation Accuracy  \\\n",
      "0    1.113095               5.172455                  2.413833   \n",
      "\n",
      "   Boundary Separation  Non-decision Time Speed  Non-decision Time Accuracy  \\\n",
      "0             1.376942                 0.315787                    0.369743   \n",
      "\n",
      "   Participant         BIC  \n",
      "0           43  368.387118  \n",
      "43\n"
     ]
    },
    {
     "name": "stderr",
     "output_type": "stream",
     "text": [
      "Info: Params [0.76783036 3.96492419 1.46281555 1.58932764 0.23701678 0.3448383 ] gave 757.8062359066612\n"
     ]
    },
    {
     "name": "stdout",
     "output_type": "stream",
     "text": [
      "   Drift Rate  Self-excitation Speed  Self-excitation Accuracy  \\\n",
      "0     0.76783               3.964924                  1.462816   \n",
      "\n",
      "   Boundary Separation  Non-decision Time Speed  Non-decision Time Accuracy  \\\n",
      "0             1.589328                 0.237017                    0.344838   \n",
      "\n",
      "   Participant         BIC  \n",
      "0           44  757.806236  \n",
      "44\n"
     ]
    },
    {
     "name": "stderr",
     "output_type": "stream",
     "text": [
      "Info: Params [1.6619534  4.92950238 2.22286756 1.3513612  0.30677953 0.33765041] gave 152.36357216852878\n"
     ]
    },
    {
     "name": "stdout",
     "output_type": "stream",
     "text": [
      "   Drift Rate  Self-excitation Speed  Self-excitation Accuracy  \\\n",
      "0    1.661953               4.929502                  2.222868   \n",
      "\n",
      "   Boundary Separation  Non-decision Time Speed  Non-decision Time Accuracy  \\\n",
      "0             1.351361                  0.30678                     0.33765   \n",
      "\n",
      "   Participant         BIC  \n",
      "0           45  152.363572  \n",
      "45\n"
     ]
    },
    {
     "name": "stderr",
     "output_type": "stream",
     "text": [
      "Info: Params [1.30787189 4.08560393 2.18424213 1.25099115 0.32884296 0.36130213] gave 324.34017438741165\n"
     ]
    },
    {
     "name": "stdout",
     "output_type": "stream",
     "text": [
      "   Drift Rate  Self-excitation Speed  Self-excitation Accuracy  \\\n",
      "0    1.307872               4.085604                  2.184242   \n",
      "\n",
      "   Boundary Separation  Non-decision Time Speed  Non-decision Time Accuracy  \\\n",
      "0             1.250991                 0.328843                    0.361302   \n",
      "\n",
      "   Participant         BIC  \n",
      "0           46  324.340174  \n",
      "46\n"
     ]
    },
    {
     "name": "stderr",
     "output_type": "stream",
     "text": [
      "Info: Params [1.28089788 5.27920504 1.11972725 2.56996181 0.17781736 0.33729306] gave 379.48773500247927\n"
     ]
    },
    {
     "name": "stdout",
     "output_type": "stream",
     "text": [
      "   Drift Rate  Self-excitation Speed  Self-excitation Accuracy  \\\n",
      "0    1.280898               5.279205                  1.119727   \n",
      "\n",
      "   Boundary Separation  Non-decision Time Speed  Non-decision Time Accuracy  \\\n",
      "0             2.569962                 0.177817                    0.337293   \n",
      "\n",
      "   Participant         BIC  \n",
      "0           47  379.487735  \n"
     ]
    }
   ],
   "source": [
    "df_all = pd.DataFrame()\n",
    "for i in range(sample_size):\n",
    "    print(i)\n",
    "    path = os.path.join(data_dir+str(i+1)+\".csv\")\n",
    "    df = pd.read_csv(path, sep = \",\")\n",
    "    #df = df[df[\"cond\"]==SAT] # A condition\n",
    "    df = df[df[\"Time\"]<3]\n",
    "\n",
    "    samp = Sample.from_pandas_dataframe(df, rt_column_name=\"Time\", correct_column_name=\"Correct\")\n",
    "    df = get_OUM_result_sub_2k2ter(samp)\n",
    "    df_all = pd.concat((df_all,df))\n",
    "    print(df)\n",
    "df_OUM = df_all.copy()\n"
   ]
  },
  {
   "cell_type": "code",
   "execution_count": null,
   "id": "29aed7ec",
   "metadata": {},
   "outputs": [],
   "source": []
  },
  {
   "cell_type": "code",
   "execution_count": 6,
   "id": "3b05a53a",
   "metadata": {},
   "outputs": [],
   "source": [
    "df_OUM.to_csv(\"OUM2k2terresultEvans2017.csv\")"
   ]
  },
  {
   "cell_type": "code",
   "execution_count": null,
   "id": "87e8797e",
   "metadata": {},
   "outputs": [],
   "source": [
    "df_OUM[\"BIC\"].mean()"
   ]
  },
  {
   "cell_type": "code",
   "execution_count": null,
   "id": "1f14d0b2",
   "metadata": {},
   "outputs": [],
   "source": []
  }
 ],
 "metadata": {
  "kernelspec": {
   "display_name": "Python 3 (ipykernel)",
   "language": "python",
   "name": "python3"
  },
  "language_info": {
   "codemirror_mode": {
    "name": "ipython",
    "version": 3
   },
   "file_extension": ".py",
   "mimetype": "text/x-python",
   "name": "python",
   "nbconvert_exporter": "python",
   "pygments_lexer": "ipython3",
   "version": "3.7.15"
  }
 },
 "nbformat": 4,
 "nbformat_minor": 5
}
