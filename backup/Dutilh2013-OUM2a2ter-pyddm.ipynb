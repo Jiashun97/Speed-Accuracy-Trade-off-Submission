{
 "cells": [
  {
   "cell_type": "code",
   "execution_count": 1,
   "id": "2cda49de",
   "metadata": {},
   "outputs": [],
   "source": [
    "%run SAT_help_functions.ipynb"
   ]
  },
  {
   "cell_type": "code",
   "execution_count": null,
   "id": "bc081cf9",
   "metadata": {},
   "outputs": [],
   "source": []
  },
  {
   "cell_type": "markdown",
   "id": "4bd26666",
   "metadata": {},
   "source": [
    "## OUM"
   ]
  },
  {
   "cell_type": "code",
   "execution_count": null,
   "id": "9ef6c434",
   "metadata": {},
   "outputs": [],
   "source": []
  },
  {
   "cell_type": "code",
   "execution_count": 2,
   "id": "e776257c",
   "metadata": {},
   "outputs": [],
   "source": [
    "data_dir = \"/Users/wangjiashun/Desktop/Reserach on SAT/datasets/Evans2021/Dutilh2013/dataBySubject/sub\"\n",
    "sample_size = 32\n",
    "SAT_conds = [\"speed\", \"accuracy\"]"
   ]
  },
  {
   "cell_type": "code",
   "execution_count": 3,
   "id": "f434220f",
   "metadata": {},
   "outputs": [],
   "source": [
    "class BoundSpeedAcc(Bound):\n",
    "    name = \"BoundSpeedAcc\"\n",
    "    required_parameters = [\"Bspeed\", \"Bacc\"]\n",
    "    required_conditions = ['Cond']\n",
    "    def get_bound(self, conditions, *args, **kwargs):\n",
    "        assert self.Bacc > 0\n",
    "        assert self.Bspeed > 0\n",
    "        if conditions['Cond'] == 'speed':\n",
    "            return self.Bspeed\n",
    "        elif conditions['Cond'] == 'accuracy':\n",
    "            return self.Bacc\n",
    "        else:\n",
    "            print(\"Non-implemented SAT conditions\")"
   ]
  },
  {
   "cell_type": "code",
   "execution_count": null,
   "id": "bbb278a6",
   "metadata": {},
   "outputs": [],
   "source": []
  },
  {
   "cell_type": "code",
   "execution_count": 4,
   "id": "6e5e0074",
   "metadata": {},
   "outputs": [],
   "source": [
    "\n",
    "class NondecisionSpeedAcc(OverlayNonDecision):\n",
    "    name = \"DriftSpeedAcc\"\n",
    "    required_parameters = [\"tSpeed\", 'tAcc']\n",
    "    required_conditions = ['Cond']\n",
    "        \n",
    "    def get_nondecision_time(self, conditions, **kwargs):\n",
    "        if conditions['Cond'] == 'speed':\n",
    "            return self.tSpeed \n",
    "        elif conditions['Cond'] == 'accuracy':\n",
    "            return self.tAcc\n",
    "        else: \n",
    "            print(\"Non-implemented SAT conditions\")"
   ]
  },
  {
   "cell_type": "code",
   "execution_count": null,
   "id": "b1e0fe9b",
   "metadata": {},
   "outputs": [],
   "source": []
  },
  {
   "cell_type": "code",
   "execution_count": null,
   "id": "81235d16",
   "metadata": {},
   "outputs": [],
   "source": []
  },
  {
   "cell_type": "code",
   "execution_count": null,
   "id": "8a3f5185",
   "metadata": {},
   "outputs": [],
   "source": []
  },
  {
   "cell_type": "code",
   "execution_count": 5,
   "id": "fdb13001",
   "metadata": {
    "scrolled": true
   },
   "outputs": [
    {
     "name": "stdout",
     "output_type": "stream",
     "text": [
      "0\n"
     ]
    },
    {
     "name": "stderr",
     "output_type": "stream",
     "text": [
      "Info: Params [0.39981638 7.10535269 1.510311   7.04886484 0.18774547 0.10154851] gave 123.19294347061903\n"
     ]
    },
    {
     "name": "stdout",
     "output_type": "stream",
     "text": [
      "   Drift Rate         x  Boundary Separation Speed      Bacc  \\\n",
      "0    0.399816  7.105353                   1.510311  7.048865   \n",
      "\n",
      "   Non-decision Time Speed  Non-decision Time Accuracy         BIC  \n",
      "0                 0.187745                    0.101549  123.192943  \n",
      "1\n"
     ]
    },
    {
     "name": "stderr",
     "output_type": "stream",
     "text": [
      "Info: Params [1.89452349 4.8891809  0.77236071 1.24304548 0.32707194 0.31795495] gave -200.859953388686\n"
     ]
    },
    {
     "name": "stdout",
     "output_type": "stream",
     "text": [
      "   Drift Rate         x  Boundary Separation Speed      Bacc  \\\n",
      "0    1.894523  4.889181                   0.772361  1.243045   \n",
      "\n",
      "   Non-decision Time Speed  Non-decision Time Accuracy         BIC  \n",
      "0                 0.327072                    0.317955 -200.859953  \n",
      "2\n"
     ]
    },
    {
     "name": "stderr",
     "output_type": "stream",
     "text": [
      "Info: Params [0.         2.9751766  1.51416684 4.86043916 0.10051143 0.14329683] gave 582.1548072491184\n"
     ]
    },
    {
     "name": "stdout",
     "output_type": "stream",
     "text": [
      "   Drift Rate         x  Boundary Separation Speed      Bacc  \\\n",
      "0         0.0  2.975177                   1.514167  4.860439   \n",
      "\n",
      "   Non-decision Time Speed  Non-decision Time Accuracy         BIC  \n",
      "0                 0.100511                    0.143297  582.154807  \n",
      "3\n"
     ]
    },
    {
     "name": "stderr",
     "output_type": "stream",
     "text": [
      "Info: Params [3.86596306 3.66540428 0.97796714 2.01156497 0.30517906 0.2273632 ] gave -200.1621752208724\n"
     ]
    },
    {
     "name": "stdout",
     "output_type": "stream",
     "text": [
      "   Drift Rate         x  Boundary Separation Speed      Bacc  \\\n",
      "0    3.865963  3.665404                   0.977967  2.011565   \n",
      "\n",
      "   Non-decision Time Speed  Non-decision Time Accuracy         BIC  \n",
      "0                 0.305179                    0.227363 -200.162175  \n",
      "4\n"
     ]
    },
    {
     "name": "stderr",
     "output_type": "stream",
     "text": [
      "Info: Params [1.9706744  3.81980537 1.31779756 1.2032269  0.18458031 0.2731207 ] gave -81.58454398591323\n"
     ]
    },
    {
     "name": "stdout",
     "output_type": "stream",
     "text": [
      "   Drift Rate         x  Boundary Separation Speed      Bacc  \\\n",
      "0    1.970674  3.819805                   1.317798  1.203227   \n",
      "\n",
      "   Non-decision Time Speed  Non-decision Time Accuracy        BIC  \n",
      "0                  0.18458                    0.273121 -81.584544  \n",
      "5\n"
     ]
    },
    {
     "name": "stderr",
     "output_type": "stream",
     "text": [
      "Info: Params [1.50043634 5.69008561 1.22603449 5.17316403 0.21900225 0.10292197] gave -171.59268273970602\n"
     ]
    },
    {
     "name": "stdout",
     "output_type": "stream",
     "text": [
      "   Drift Rate         x  Boundary Separation Speed      Bacc  \\\n",
      "0    1.500436  5.690086                   1.226034  5.173164   \n",
      "\n",
      "   Non-decision Time Speed  Non-decision Time Accuracy         BIC  \n",
      "0                 0.219002                    0.102922 -171.592683  \n",
      "6\n"
     ]
    },
    {
     "name": "stderr",
     "output_type": "stream",
     "text": [
      "Info: Params [1.38476179 6.56177586 1.15488181 1.54502046 0.18190715 0.30978561] gave -377.63307998197547\n"
     ]
    },
    {
     "name": "stdout",
     "output_type": "stream",
     "text": [
      "   Drift Rate         x  Boundary Separation Speed     Bacc  \\\n",
      "0    1.384762  6.561776                   1.154882  1.54502   \n",
      "\n",
      "   Non-decision Time Speed  Non-decision Time Accuracy        BIC  \n",
      "0                 0.181907                    0.309786 -377.63308  \n",
      "7\n"
     ]
    },
    {
     "name": "stderr",
     "output_type": "stream",
     "text": [
      "Info: Params [1.51253424 4.87052684 1.88207021 1.24663319 0.10636764 0.22795692] gave -99.77505952634478\n"
     ]
    },
    {
     "name": "stdout",
     "output_type": "stream",
     "text": [
      "   Drift Rate         x  Boundary Separation Speed      Bacc  \\\n",
      "0    1.512534  4.870527                    1.88207  1.246633   \n",
      "\n",
      "   Non-decision Time Speed  Non-decision Time Accuracy       BIC  \n",
      "0                 0.106368                    0.227957 -99.77506  \n",
      "8\n"
     ]
    },
    {
     "name": "stderr",
     "output_type": "stream",
     "text": [
      "Info: Params [1.00009304 4.94950131 2.29778927 1.57562686 0.10077312 0.22917195] gave 115.13642452464143\n"
     ]
    },
    {
     "name": "stdout",
     "output_type": "stream",
     "text": [
      "   Drift Rate         x  Boundary Separation Speed      Bacc  \\\n",
      "0    1.000093  4.949501                   2.297789  1.575627   \n",
      "\n",
      "   Non-decision Time Speed  Non-decision Time Accuracy         BIC  \n",
      "0                 0.100773                    0.229172  115.136425  \n",
      "9\n"
     ]
    },
    {
     "name": "stderr",
     "output_type": "stream",
     "text": [
      "Info: Params [0.10335342 4.59741899 0.76753056 2.31495926 0.13261689 0.10262617] gave 289.7452411917217\n"
     ]
    },
    {
     "name": "stdout",
     "output_type": "stream",
     "text": [
      "   Drift Rate         x  Boundary Separation Speed      Bacc  \\\n",
      "0    0.103353  4.597419                   0.767531  2.314959   \n",
      "\n",
      "   Non-decision Time Speed  Non-decision Time Accuracy         BIC  \n",
      "0                 0.132617                    0.102626  289.745241  \n",
      "10\n"
     ]
    },
    {
     "name": "stderr",
     "output_type": "stream",
     "text": [
      "Info: Params [2.81928383 5.16584735 4.94242681 2.90901549 0.13363827 0.25114871] gave -84.62422468039827\n"
     ]
    },
    {
     "name": "stdout",
     "output_type": "stream",
     "text": [
      "   Drift Rate         x  Boundary Separation Speed      Bacc  \\\n",
      "0    2.819284  5.165847                   4.942427  2.909015   \n",
      "\n",
      "   Non-decision Time Speed  Non-decision Time Accuracy        BIC  \n",
      "0                 0.133638                    0.251149 -84.624225  \n",
      "11\n"
     ]
    },
    {
     "name": "stderr",
     "output_type": "stream",
     "text": [
      "Info: Params [2.40646265 5.24863438 0.75821192 2.03069533 0.30223263 0.21614523] gave -660.4390789809404\n"
     ]
    },
    {
     "name": "stdout",
     "output_type": "stream",
     "text": [
      "   Drift Rate         x  Boundary Separation Speed      Bacc  \\\n",
      "0    2.406463  5.248634                   0.758212  2.030695   \n",
      "\n",
      "   Non-decision Time Speed  Non-decision Time Accuracy         BIC  \n",
      "0                 0.302233                    0.216145 -660.439079  \n",
      "12\n"
     ]
    },
    {
     "name": "stderr",
     "output_type": "stream",
     "text": [
      "Info: Params [3.2907417  6.35696558 1.31944215 1.11368239 0.2524645  0.28558869] gave -638.3302643681939\n"
     ]
    },
    {
     "name": "stdout",
     "output_type": "stream",
     "text": [
      "   Drift Rate         x  Boundary Separation Speed      Bacc  \\\n",
      "0    3.290742  6.356966                   1.319442  1.113682   \n",
      "\n",
      "   Non-decision Time Speed  Non-decision Time Accuracy         BIC  \n",
      "0                 0.252465                    0.285589 -638.330264  \n",
      "13\n"
     ]
    },
    {
     "name": "stderr",
     "output_type": "stream",
     "text": [
      "Info: Params [1.74172862 4.99943924 0.75400251 1.19868175 0.22378207 0.25487462] gave -368.70941060329534\n"
     ]
    },
    {
     "name": "stdout",
     "output_type": "stream",
     "text": [
      "   Drift Rate         x  Boundary Separation Speed      Bacc  \\\n",
      "0    1.741729  4.999439                   0.754003  1.198682   \n",
      "\n",
      "   Non-decision Time Speed  Non-decision Time Accuracy         BIC  \n",
      "0                 0.223782                    0.254875 -368.709411  \n",
      "14\n"
     ]
    },
    {
     "name": "stderr",
     "output_type": "stream",
     "text": [
      "Info: Params [0.19480639 5.67520543 2.33314857 4.65491323 0.13391721 0.10234363] gave 475.84546816034157\n"
     ]
    },
    {
     "name": "stdout",
     "output_type": "stream",
     "text": [
      "   Drift Rate         x  Boundary Separation Speed      Bacc  \\\n",
      "0    0.194806  5.675205                   2.333149  4.654913   \n",
      "\n",
      "   Non-decision Time Speed  Non-decision Time Accuracy         BIC  \n",
      "0                 0.133917                    0.102344  475.845468  \n",
      "15\n"
     ]
    },
    {
     "name": "stderr",
     "output_type": "stream",
     "text": [
      "Info: Params [3.16321554 6.4005229  1.03141971 2.8250549  0.3077713  0.21277027] gave -456.62869575166695\n"
     ]
    },
    {
     "name": "stdout",
     "output_type": "stream",
     "text": [
      "   Drift Rate         x  Boundary Separation Speed      Bacc  \\\n",
      "0    3.163216  6.400523                    1.03142  2.825055   \n",
      "\n",
      "   Non-decision Time Speed  Non-decision Time Accuracy         BIC  \n",
      "0                 0.307771                     0.21277 -456.628696  \n",
      "16\n"
     ]
    },
    {
     "name": "stderr",
     "output_type": "stream",
     "text": [
      "Info: Params [0.64564136 5.13758783 1.17751154 2.72133177 0.10704044 0.10656135] gave 382.08501500715585\n"
     ]
    },
    {
     "name": "stdout",
     "output_type": "stream",
     "text": [
      "   Drift Rate         x  Boundary Separation Speed      Bacc  \\\n",
      "0    0.645641  5.137588                   1.177512  2.721332   \n",
      "\n",
      "   Non-decision Time Speed  Non-decision Time Accuracy         BIC  \n",
      "0                  0.10704                    0.106561  382.085015  \n",
      "17\n"
     ]
    },
    {
     "name": "stderr",
     "output_type": "stream",
     "text": [
      "Info: Params [2.84523869 7.48045989 1.12246479 2.07086091 0.23204759 0.1905822 ] gave -988.5965882142943\n"
     ]
    },
    {
     "name": "stdout",
     "output_type": "stream",
     "text": [
      "   Drift Rate        x  Boundary Separation Speed      Bacc  \\\n",
      "0    2.845239  7.48046                   1.122465  2.070861   \n",
      "\n",
      "   Non-decision Time Speed  Non-decision Time Accuracy         BIC  \n",
      "0                 0.232048                    0.190582 -988.596588  \n",
      "18\n"
     ]
    },
    {
     "name": "stderr",
     "output_type": "stream",
     "text": [
      "Info: Params [1.9481903  5.66722105 0.73550505 0.97186311 0.2533028  0.2512539 ] gave -325.81019942529883\n"
     ]
    },
    {
     "name": "stdout",
     "output_type": "stream",
     "text": [
      "   Drift Rate         x  Boundary Separation Speed      Bacc  \\\n",
      "0     1.94819  5.667221                   0.735505  0.971863   \n",
      "\n",
      "   Non-decision Time Speed  Non-decision Time Accuracy         BIC  \n",
      "0                 0.253303                    0.251254 -325.810199  \n",
      "19\n"
     ]
    },
    {
     "name": "stderr",
     "output_type": "stream",
     "text": [
      "Info: Params [1.68658778 7.90760237 1.97928477 1.75929065 0.14380546 0.20935508] gave -822.764112295029\n"
     ]
    },
    {
     "name": "stdout",
     "output_type": "stream",
     "text": [
      "   Drift Rate         x  Boundary Separation Speed      Bacc  \\\n",
      "0    1.686588  7.907602                   1.979285  1.759291   \n",
      "\n",
      "   Non-decision Time Speed  Non-decision Time Accuracy         BIC  \n",
      "0                 0.143805                    0.209355 -822.764112  \n",
      "20\n"
     ]
    },
    {
     "name": "stderr",
     "output_type": "stream",
     "text": [
      "Info: Params [0.58564435 9.84042265 1.77244588 7.96885853 0.13122893 0.10057082] gave -359.1008360218487\n"
     ]
    },
    {
     "name": "stdout",
     "output_type": "stream",
     "text": [
      "   Drift Rate         x  Boundary Separation Speed      Bacc  \\\n",
      "0    0.585644  9.840423                   1.772446  7.968859   \n",
      "\n",
      "   Non-decision Time Speed  Non-decision Time Accuracy         BIC  \n",
      "0                 0.131229                    0.100571 -359.100836  \n",
      "21\n"
     ]
    },
    {
     "name": "stderr",
     "output_type": "stream",
     "text": [
      "Info: Params [0.57554845 6.6380143  1.76501225 4.57123655 0.100484   0.10808439] gave 135.108684843143\n"
     ]
    },
    {
     "name": "stdout",
     "output_type": "stream",
     "text": [
      "   Drift Rate         x  Boundary Separation Speed      Bacc  \\\n",
      "0    0.575548  6.638014                   1.765012  4.571237   \n",
      "\n",
      "   Non-decision Time Speed  Non-decision Time Accuracy         BIC  \n",
      "0                 0.100484                    0.108084  135.108685  \n",
      "22\n"
     ]
    },
    {
     "name": "stderr",
     "output_type": "stream",
     "text": [
      "Info: Params [2.89694714 8.9631365  6.71261211 3.30617339 0.10995856 0.25159135] gave -238.59198261972966\n"
     ]
    },
    {
     "name": "stdout",
     "output_type": "stream",
     "text": [
      "   Drift Rate         x  Boundary Separation Speed      Bacc  \\\n",
      "0    2.896947  8.963136                   6.712612  3.306173   \n",
      "\n",
      "   Non-decision Time Speed  Non-decision Time Accuracy         BIC  \n",
      "0                 0.109959                    0.251591 -238.591983  \n",
      "23\n"
     ]
    },
    {
     "name": "stderr",
     "output_type": "stream",
     "text": [
      "Info: Params [ 1.89461253 10.          0.95829622  0.69480729  0.19940138  0.28503916] gave -1118.8391963622116\n"
     ]
    },
    {
     "name": "stdout",
     "output_type": "stream",
     "text": [
      "   Drift Rate     x  Boundary Separation Speed      Bacc  \\\n",
      "0    1.894613  10.0                   0.958296  0.694807   \n",
      "\n",
      "   Non-decision Time Speed  Non-decision Time Accuracy          BIC  \n",
      "0                 0.199401                    0.285039 -1118.839196  \n",
      "24\n"
     ]
    },
    {
     "name": "stderr",
     "output_type": "stream",
     "text": [
      "Info: Params [2.25108522 8.85737144 1.27406657 2.71507644 0.2205339  0.20276248] gave -852.9769196132379\n"
     ]
    },
    {
     "name": "stdout",
     "output_type": "stream",
     "text": [
      "   Drift Rate         x  Boundary Separation Speed      Bacc  \\\n",
      "0    2.251085  8.857371                   1.274067  2.715076   \n",
      "\n",
      "   Non-decision Time Speed  Non-decision Time Accuracy        BIC  \n",
      "0                 0.220534                    0.202762 -852.97692  \n",
      "25\n"
     ]
    },
    {
     "name": "stderr",
     "output_type": "stream",
     "text": [
      "Info: Params [0.86606258 8.20234958 1.69928829 1.47435561 0.10188975 0.22760306] gave -485.4132721937537\n"
     ]
    },
    {
     "name": "stdout",
     "output_type": "stream",
     "text": [
      "   Drift Rate        x  Boundary Separation Speed      Bacc  \\\n",
      "0    0.866063  8.20235                   1.699288  1.474356   \n",
      "\n",
      "   Non-decision Time Speed  Non-decision Time Accuracy         BIC  \n",
      "0                  0.10189                    0.227603 -485.413272  \n",
      "26\n"
     ]
    },
    {
     "name": "stderr",
     "output_type": "stream",
     "text": [
      "Info: Params [3.71180638 3.68702338 2.79712834 1.46151444 0.11527261 0.24518218] gave -232.92721962654886\n"
     ]
    },
    {
     "name": "stdout",
     "output_type": "stream",
     "text": [
      "   Drift Rate         x  Boundary Separation Speed      Bacc  \\\n",
      "0    3.711806  3.687023                   2.797128  1.461514   \n",
      "\n",
      "   Non-decision Time Speed  Non-decision Time Accuracy        BIC  \n",
      "0                 0.115273                    0.245182 -232.92722  \n",
      "27\n"
     ]
    },
    {
     "name": "stderr",
     "output_type": "stream",
     "text": [
      "Info: Params [2.73996586 7.80110773 0.8062561  0.75781873 0.24013024 0.27326457] gave -927.4863208256536\n"
     ]
    },
    {
     "name": "stdout",
     "output_type": "stream",
     "text": [
      "   Drift Rate         x  Boundary Separation Speed      Bacc  \\\n",
      "0    2.739966  7.801108                   0.806256  0.757819   \n",
      "\n",
      "   Non-decision Time Speed  Non-decision Time Accuracy         BIC  \n",
      "0                  0.24013                    0.273265 -927.486321  \n",
      "28\n"
     ]
    },
    {
     "name": "stderr",
     "output_type": "stream",
     "text": [
      "Info: Params [2.58462281 9.62246593 1.52607647 0.6213012  0.20631514 0.29719801] gave -953.7975579622976\n"
     ]
    },
    {
     "name": "stdout",
     "output_type": "stream",
     "text": [
      "   Drift Rate         x  Boundary Separation Speed      Bacc  \\\n",
      "0    2.584623  9.622466                   1.526076  0.621301   \n",
      "\n",
      "   Non-decision Time Speed  Non-decision Time Accuracy         BIC  \n",
      "0                 0.206315                    0.297198 -953.797558  \n",
      "29\n"
     ]
    },
    {
     "name": "stderr",
     "output_type": "stream",
     "text": [
      "Info: Params [2.85454237 6.31100257 0.87571336 0.97534564 0.28980566 0.29217674] gave -787.4286560153733\n"
     ]
    },
    {
     "name": "stdout",
     "output_type": "stream",
     "text": [
      "   Drift Rate         x  Boundary Separation Speed      Bacc  \\\n",
      "0    2.854542  6.311003                   0.875713  0.975346   \n",
      "\n",
      "   Non-decision Time Speed  Non-decision Time Accuracy         BIC  \n",
      "0                 0.289806                    0.292177 -787.428656  \n",
      "30\n"
     ]
    },
    {
     "name": "stderr",
     "output_type": "stream",
     "text": [
      "Info: Params [1.940272   6.67733971 1.65094209 0.99516069 0.17192474 0.27246127] gave -295.8465307778157\n"
     ]
    },
    {
     "name": "stdout",
     "output_type": "stream",
     "text": [
      "   Drift Rate        x  Boundary Separation Speed      Bacc  \\\n",
      "0    1.940272  6.67734                   1.650942  0.995161   \n",
      "\n",
      "   Non-decision Time Speed  Non-decision Time Accuracy         BIC  \n",
      "0                 0.171925                    0.272461 -295.846531  \n",
      "31\n"
     ]
    },
    {
     "name": "stderr",
     "output_type": "stream",
     "text": [
      "Info: Params [2.13975206 9.43336139 1.12344241 4.11259991 0.22136615 0.1424674 ] gave -1248.769519066886\n"
     ]
    },
    {
     "name": "stdout",
     "output_type": "stream",
     "text": [
      "   Drift Rate         x  Boundary Separation Speed    Bacc  \\\n",
      "0    2.139752  9.433361                   1.123442  4.1126   \n",
      "\n",
      "   Non-decision Time Speed  Non-decision Time Accuracy          BIC  \n",
      "0                 0.221366                    0.142467 -1248.769519  \n"
     ]
    }
   ],
   "source": [
    "df_all = pd.DataFrame()\n",
    "for i in range(sample_size):\n",
    "    print(i)\n",
    "    path = os.path.join(data_dir+str(i+1)+\".csv\")\n",
    "    df = pd.read_csv(path, sep = \",\")\n",
    "    #df = df[df[\"cond\"]==SAT] # A condition\n",
    "    df = df[df[\"Time\"]<3]\n",
    "\n",
    "    samp = Sample.from_pandas_dataframe(df, rt_column_name=\"Time\", correct_column_name=\"Correct\")\n",
    "    df = get_OUM_result_sub_2a2ter(samp)\n",
    "    df_all = pd.concat((df_all,df))\n",
    "    print(df)\n",
    "df_OUM = df_all.copy()\n"
   ]
  },
  {
   "cell_type": "code",
   "execution_count": 6,
   "id": "3b05a53a",
   "metadata": {},
   "outputs": [],
   "source": [
    "df_OUM.to_csv(\"OUM2a2terresultDutilh2013.csv\")"
   ]
  },
  {
   "cell_type": "code",
   "execution_count": 7,
   "id": "87e8797e",
   "metadata": {},
   "outputs": [
    {
     "data": {
      "text/plain": [
       "-339.85685924378845"
      ]
     },
     "execution_count": 7,
     "metadata": {},
     "output_type": "execute_result"
    }
   ],
   "source": [
    "df_OUM[\"BIC\"].mean()"
   ]
  },
  {
   "cell_type": "code",
   "execution_count": 9,
   "id": "66bb2313",
   "metadata": {},
   "outputs": [
    {
     "name": "stdout",
     "output_type": "stream",
     "text": [
      "0\n"
     ]
    },
    {
     "name": "stderr",
     "output_type": "stream",
     "text": [
      "Info: Params [0.43610482 9.01634796 5.26999564 3.92055415 0.1132557  0.10063905] gave -11.375888048918114\n"
     ]
    },
    {
     "name": "stdout",
     "output_type": "stream",
     "text": [
      "   Drift Rate  Self-excitation Speed  Self-excitation Accuracy  \\\n",
      "0    0.436105               9.016348                  5.269996   \n",
      "\n",
      "   Boundary Separation  Non-decision Time Speed  Non-decision Time Accuracy  \\\n",
      "0             3.920554                 0.113256                    0.100639   \n",
      "\n",
      "         BIC  \n",
      "0 -11.375888  \n",
      "1\n"
     ]
    },
    {
     "name": "stderr",
     "output_type": "stream",
     "text": [
      "Info: Params [1.82067422 4.99071239 3.92815493 0.83121534 0.31761574 0.35854354] gave -192.21546846770713\n"
     ]
    },
    {
     "name": "stdout",
     "output_type": "stream",
     "text": [
      "   Drift Rate  Self-excitation Speed  Self-excitation Accuracy  \\\n",
      "0    1.820674               4.990712                  3.928155   \n",
      "\n",
      "   Boundary Separation  Non-decision Time Speed  Non-decision Time Accuracy  \\\n",
      "0             0.831215                 0.317616                    0.358544   \n",
      "\n",
      "          BIC  \n",
      "0 -192.215468  \n",
      "2\n"
     ]
    },
    {
     "name": "stderr",
     "output_type": "stream",
     "text": [
      "Info: Params [0.         2.49794411 3.23180956 1.52141153 0.10179163 0.51134209] gave 581.4939674742412\n"
     ]
    },
    {
     "name": "stdout",
     "output_type": "stream",
     "text": [
      "   Drift Rate  Self-excitation Speed  Self-excitation Accuracy  \\\n",
      "0         0.0               2.497944                   3.23181   \n",
      "\n",
      "   Boundary Separation  Non-decision Time Speed  Non-decision Time Accuracy  \\\n",
      "0             1.521412                 0.101792                    0.511342   \n",
      "\n",
      "          BIC  \n",
      "0  581.493967  \n",
      "3\n"
     ]
    },
    {
     "name": "stderr",
     "output_type": "stream",
     "text": [
      "Info: Params [3.91767003 2.75666906 1.60076387 0.93510288 0.30639761 0.31438262] gave -199.441385688058\n"
     ]
    },
    {
     "name": "stdout",
     "output_type": "stream",
     "text": [
      "   Drift Rate  Self-excitation Speed  Self-excitation Accuracy  \\\n",
      "0     3.91767               2.756669                  1.600764   \n",
      "\n",
      "   Boundary Separation  Non-decision Time Speed  Non-decision Time Accuracy  \\\n",
      "0             0.935103                 0.306398                    0.314383   \n",
      "\n",
      "          BIC  \n",
      "0 -199.441386  \n",
      "4\n"
     ]
    },
    {
     "name": "stderr",
     "output_type": "stream",
     "text": [
      "Info: Params [1.99680961 3.45850011 3.15275999 1.17814574 0.19348302 0.2688326 ] gave -81.79930763430025\n"
     ]
    },
    {
     "name": "stdout",
     "output_type": "stream",
     "text": [
      "   Drift Rate  Self-excitation Speed  Self-excitation Accuracy  \\\n",
      "0     1.99681                 3.4585                   3.15276   \n",
      "\n",
      "   Boundary Separation  Non-decision Time Speed  Non-decision Time Accuracy  \\\n",
      "0             1.178146                 0.193483                    0.268833   \n",
      "\n",
      "         BIC  \n",
      "0 -81.799308  \n",
      "5\n"
     ]
    },
    {
     "name": "stderr",
     "output_type": "stream",
     "text": [
      "Info: Params [1.43088995 7.39617014 4.11508893 2.20247711 0.17133674 0.18011129] gave -183.71405820519357\n"
     ]
    },
    {
     "name": "stdout",
     "output_type": "stream",
     "text": [
      "   Drift Rate  Self-excitation Speed  Self-excitation Accuracy  \\\n",
      "0     1.43089                7.39617                  4.115089   \n",
      "\n",
      "   Boundary Separation  Non-decision Time Speed  Non-decision Time Accuracy  \\\n",
      "0             2.202477                 0.171337                    0.180111   \n",
      "\n",
      "          BIC  \n",
      "0 -183.714058  \n",
      "6\n"
     ]
    },
    {
     "name": "stderr",
     "output_type": "stream",
     "text": [
      "Info: Params [1.41095041 6.45071078 7.28070964 1.05969624 0.19470307 0.35865945] gave -380.54436947794403\n"
     ]
    },
    {
     "name": "stdout",
     "output_type": "stream",
     "text": [
      "   Drift Rate  Self-excitation Speed  Self-excitation Accuracy  \\\n",
      "0     1.41095               6.450711                   7.28071   \n",
      "\n",
      "   Boundary Separation  Non-decision Time Speed  Non-decision Time Accuracy  \\\n",
      "0             1.059696                 0.194703                    0.358659   \n",
      "\n",
      "          BIC  \n",
      "0 -380.544369  \n",
      "7\n"
     ]
    },
    {
     "name": "stderr",
     "output_type": "stream",
     "text": [
      "Info: Params [1.50579693 5.08453628 4.91635255 1.85166016 0.11487284 0.16567327] gave -95.01373568927401\n"
     ]
    },
    {
     "name": "stdout",
     "output_type": "stream",
     "text": [
      "   Drift Rate  Self-excitation Speed  Self-excitation Accuracy  \\\n",
      "0    1.505797               5.084536                  4.916353   \n",
      "\n",
      "   Boundary Separation  Non-decision Time Speed  Non-decision Time Accuracy  \\\n",
      "0              1.85166                 0.114873                    0.165673   \n",
      "\n",
      "         BIC  \n",
      "0 -95.013736  \n",
      "8\n"
     ]
    },
    {
     "name": "stderr",
     "output_type": "stream",
     "text": [
      "Info: Params [0.99427935 4.67218035 5.54792743 2.13367336 0.10079383 0.19450981] gave 113.90302325161827\n"
     ]
    },
    {
     "name": "stdout",
     "output_type": "stream",
     "text": [
      "   Drift Rate  Self-excitation Speed  Self-excitation Accuracy  \\\n",
      "0    0.994279                4.67218                  5.547927   \n",
      "\n",
      "   Boundary Separation  Non-decision Time Speed  Non-decision Time Accuracy  \\\n",
      "0             2.133673                 0.100794                     0.19451   \n",
      "\n",
      "          BIC  \n",
      "0  113.903023  \n",
      "9\n"
     ]
    },
    {
     "name": "stderr",
     "output_type": "stream",
     "text": [
      "Info: Params [0.18547407 7.26423157 3.57560912 1.24814803 0.10080464 0.19305742] gave 264.8655723080915\n"
     ]
    },
    {
     "name": "stdout",
     "output_type": "stream",
     "text": [
      "   Drift Rate  Self-excitation Speed  Self-excitation Accuracy  \\\n",
      "0    0.185474               7.264232                  3.575609   \n",
      "\n",
      "   Boundary Separation  Non-decision Time Speed  Non-decision Time Accuracy  \\\n",
      "0             1.248148                 0.100805                    0.193057   \n",
      "\n",
      "          BIC  \n",
      "0  264.865572  \n",
      "10\n"
     ]
    },
    {
     "name": "stderr",
     "output_type": "stream",
     "text": [
      "Info: Params [2.83271392 5.13459662 5.28959612 4.31494342 0.15682124 0.19053369] gave -84.5670263264102\n"
     ]
    },
    {
     "name": "stdout",
     "output_type": "stream",
     "text": [
      "   Drift Rate  Self-excitation Speed  Self-excitation Accuracy  \\\n",
      "0    2.832714               5.134597                  5.289596   \n",
      "\n",
      "   Boundary Separation  Non-decision Time Speed  Non-decision Time Accuracy  \\\n",
      "0             4.314943                 0.156821                    0.190534   \n",
      "\n",
      "         BIC  \n",
      "0 -84.567026  \n",
      "11\n"
     ]
    },
    {
     "name": "stderr",
     "output_type": "stream",
     "text": [
      "Info: Params [2.39811628 6.55611265 2.93911063 0.87846374 0.29426904 0.30632146] gave -665.6631521163661\n"
     ]
    },
    {
     "name": "stdout",
     "output_type": "stream",
     "text": [
      "   Drift Rate  Self-excitation Speed  Self-excitation Accuracy  \\\n",
      "0    2.398116               6.556113                  2.939111   \n",
      "\n",
      "   Boundary Separation  Non-decision Time Speed  Non-decision Time Accuracy  \\\n",
      "0             0.878464                 0.294269                    0.306321   \n",
      "\n",
      "          BIC  \n",
      "0 -665.663152  \n",
      "12\n"
     ]
    },
    {
     "name": "stderr",
     "output_type": "stream",
     "text": [
      "Info: Params [3.2589633  6.28729603 6.81723224 1.27847305 0.25657944 0.27054293] gave -638.8026031961234\n"
     ]
    },
    {
     "name": "stdout",
     "output_type": "stream",
     "text": [
      "   Drift Rate  Self-excitation Speed  Self-excitation Accuracy  \\\n",
      "0    3.258963               6.287296                  6.817232   \n",
      "\n",
      "   Boundary Separation  Non-decision Time Speed  Non-decision Time Accuracy  \\\n",
      "0             1.278473                 0.256579                    0.270543   \n",
      "\n",
      "          BIC  \n",
      "0 -638.802603  \n",
      "13\n"
     ]
    },
    {
     "name": "stderr",
     "output_type": "stream",
     "text": [
      "Info: Params [1.72898618 5.03281686 3.30149112 0.76746518 0.22096411 0.29598275] gave -366.44526298484834\n"
     ]
    },
    {
     "name": "stdout",
     "output_type": "stream",
     "text": [
      "   Drift Rate  Self-excitation Speed  Self-excitation Accuracy  \\\n",
      "0    1.728986               5.032817                  3.301491   \n",
      "\n",
      "   Boundary Separation  Non-decision Time Speed  Non-decision Time Accuracy  \\\n",
      "0             0.767465                 0.220964                    0.295983   \n",
      "\n",
      "          BIC  \n",
      "0 -366.445263  \n",
      "14\n"
     ]
    },
    {
     "name": "stderr",
     "output_type": "stream",
     "text": [
      "Info: Params [0.16442242 7.71311489 4.58854435 3.37914671 0.14311831 0.10031521] gave 391.62196243713714\n"
     ]
    },
    {
     "name": "stdout",
     "output_type": "stream",
     "text": [
      "   Drift Rate  Self-excitation Speed  Self-excitation Accuracy  \\\n",
      "0    0.164422               7.713115                  4.588544   \n",
      "\n",
      "   Boundary Separation  Non-decision Time Speed  Non-decision Time Accuracy  \\\n",
      "0             3.379147                 0.143118                    0.100315   \n",
      "\n",
      "          BIC  \n",
      "0  391.621962  \n",
      "15\n"
     ]
    },
    {
     "name": "stderr",
     "output_type": "stream",
     "text": [
      "Info: Params [3.12367916 5.95305186 6.20384576 1.02319243 0.30541017 0.32862832] gave -457.350531353789\n"
     ]
    },
    {
     "name": "stdout",
     "output_type": "stream",
     "text": [
      "   Drift Rate  Self-excitation Speed  Self-excitation Accuracy  \\\n",
      "0    3.123679               5.953052                  6.203846   \n",
      "\n",
      "   Boundary Separation  Non-decision Time Speed  Non-decision Time Accuracy  \\\n",
      "0             1.023192                  0.30541                    0.328628   \n",
      "\n",
      "          BIC  \n",
      "0 -457.350531  \n",
      "16\n"
     ]
    },
    {
     "name": "stderr",
     "output_type": "stream",
     "text": [
      "Info: Params [0.66467939 5.51615014 3.25904114 1.2842604  0.10051144 0.18295949] gave 382.8115709382502\n"
     ]
    },
    {
     "name": "stdout",
     "output_type": "stream",
     "text": [
      "   Drift Rate  Self-excitation Speed  Self-excitation Accuracy  \\\n",
      "0    0.664679                5.51615                  3.259041   \n",
      "\n",
      "   Boundary Separation  Non-decision Time Speed  Non-decision Time Accuracy  \\\n",
      "0              1.28426                 0.100511                    0.182959   \n",
      "\n",
      "          BIC  \n",
      "0  382.811571  \n",
      "17\n"
     ]
    },
    {
     "name": "stderr",
     "output_type": "stream",
     "text": [
      "Info: Params [2.88367482 6.93172203 5.87600437 1.06430819 0.23471042 0.24456923] gave -988.8280258360605\n"
     ]
    },
    {
     "name": "stdout",
     "output_type": "stream",
     "text": [
      "   Drift Rate  Self-excitation Speed  Self-excitation Accuracy  \\\n",
      "0    2.883675               6.931722                  5.876004   \n",
      "\n",
      "   Boundary Separation  Non-decision Time Speed  Non-decision Time Accuracy  \\\n",
      "0             1.064308                  0.23471                    0.244569   \n",
      "\n",
      "          BIC  \n",
      "0 -988.828026  \n",
      "18\n"
     ]
    },
    {
     "name": "stderr",
     "output_type": "stream",
     "text": [
      "Info: Params [1.93215842 5.28150183 4.6730323  0.75029697 0.24805541 0.26855577] gave -324.3940696496296\n"
     ]
    },
    {
     "name": "stdout",
     "output_type": "stream",
     "text": [
      "   Drift Rate  Self-excitation Speed  Self-excitation Accuracy  \\\n",
      "0    1.932158               5.281502                  4.673032   \n",
      "\n",
      "   Boundary Separation  Non-decision Time Speed  Non-decision Time Accuracy  \\\n",
      "0             0.750297                 0.248055                    0.268556   \n",
      "\n",
      "         BIC  \n",
      "0 -324.39407  \n",
      "19\n"
     ]
    },
    {
     "name": "stderr",
     "output_type": "stream",
     "text": [
      "Info: Params [1.70369686 7.8151524  7.36284    1.85959534 0.14717419 0.19630593] gave -823.2279146361878\n"
     ]
    },
    {
     "name": "stdout",
     "output_type": "stream",
     "text": [
      "   Drift Rate  Self-excitation Speed  Self-excitation Accuracy  \\\n",
      "0    1.703697               7.815152                   7.36284   \n",
      "\n",
      "   Boundary Separation  Non-decision Time Speed  Non-decision Time Accuracy  \\\n",
      "0             1.859595                 0.147174                    0.196306   \n",
      "\n",
      "          BIC  \n",
      "0 -823.227915  \n",
      "20\n"
     ]
    },
    {
     "name": "stderr",
     "output_type": "stream",
     "text": [
      "Info: Params [ 0.6489244  10.          6.92244375  1.89971631  0.12552246  0.19054243] gave -364.09945493232476\n"
     ]
    },
    {
     "name": "stdout",
     "output_type": "stream",
     "text": [
      "   Drift Rate  Self-excitation Speed  Self-excitation Accuracy  \\\n",
      "0    0.648924                   10.0                  6.922444   \n",
      "\n",
      "   Boundary Separation  Non-decision Time Speed  Non-decision Time Accuracy  \\\n",
      "0             1.899716                 0.125522                    0.190542   \n",
      "\n",
      "          BIC  \n",
      "0 -364.099455  \n",
      "21\n"
     ]
    },
    {
     "name": "stderr",
     "output_type": "stream",
     "text": [
      "Info: Params [0.60101699 6.9750864  5.8719931  1.87241227 0.10012772 0.21850823] gave 131.2123746250298\n"
     ]
    },
    {
     "name": "stdout",
     "output_type": "stream",
     "text": [
      "   Drift Rate  Self-excitation Speed  Self-excitation Accuracy  \\\n",
      "0    0.601017               6.975086                  5.871993   \n",
      "\n",
      "   Boundary Separation  Non-decision Time Speed  Non-decision Time Accuracy  \\\n",
      "0             1.872412                 0.100128                    0.218508   \n",
      "\n",
      "          BIC  \n",
      "0  131.212375  \n",
      "22\n"
     ]
    },
    {
     "name": "stderr",
     "output_type": "stream",
     "text": [
      "Info: Params [2.91913631 8.26031133 8.97629411 3.51896699 0.16427931 0.24219162] gave -237.41002156741962\n"
     ]
    },
    {
     "name": "stdout",
     "output_type": "stream",
     "text": [
      "   Drift Rate  Self-excitation Speed  Self-excitation Accuracy  \\\n",
      "0    2.919136               8.260311                  8.976294   \n",
      "\n",
      "   Boundary Separation  Non-decision Time Speed  Non-decision Time Accuracy  \\\n",
      "0             3.518967                 0.164279                    0.242192   \n",
      "\n",
      "          BIC  \n",
      "0 -237.410022  \n",
      "23\n"
     ]
    },
    {
     "name": "stderr",
     "output_type": "stream",
     "text": [
      "Info: Params [ 1.95792851 10.         10.          0.93081991  0.20401522  0.26637788] gave -1117.7599133294827\n"
     ]
    },
    {
     "name": "stdout",
     "output_type": "stream",
     "text": [
      "   Drift Rate  Self-excitation Speed  Self-excitation Accuracy  \\\n",
      "0    1.957929                   10.0                      10.0   \n",
      "\n",
      "   Boundary Separation  Non-decision Time Speed  Non-decision Time Accuracy  \\\n",
      "0              0.93082                 0.204015                    0.266378   \n",
      "\n",
      "           BIC  \n",
      "0 -1117.759913  \n",
      "24\n"
     ]
    },
    {
     "name": "stderr",
     "output_type": "stream",
     "text": [
      "Info: Params [2.2769603  9.30258709 8.06384428 1.34886747 0.22027326 0.26787028] gave -855.6208286840049\n"
     ]
    },
    {
     "name": "stdout",
     "output_type": "stream",
     "text": [
      "   Drift Rate  Self-excitation Speed  Self-excitation Accuracy  \\\n",
      "0     2.27696               9.302587                  8.063844   \n",
      "\n",
      "   Boundary Separation  Non-decision Time Speed  Non-decision Time Accuracy  \\\n",
      "0             1.348867                 0.220273                     0.26787   \n",
      "\n",
      "          BIC  \n",
      "0 -855.620829  \n",
      "25\n"
     ]
    },
    {
     "name": "stderr",
     "output_type": "stream",
     "text": [
      "Info: Params [0.88183304 8.00346597 8.97074244 1.6414431  0.10217239 0.22754817] gave -486.6815388588863\n"
     ]
    },
    {
     "name": "stdout",
     "output_type": "stream",
     "text": [
      "   Drift Rate  Self-excitation Speed  Self-excitation Accuracy  \\\n",
      "0    0.881833               8.003466                  8.970742   \n",
      "\n",
      "   Boundary Separation  Non-decision Time Speed  Non-decision Time Accuracy  \\\n",
      "0             1.641443                 0.102172                    0.227548   \n",
      "\n",
      "          BIC  \n",
      "0 -486.681539  \n",
      "26\n"
     ]
    },
    {
     "name": "stderr",
     "output_type": "stream",
     "text": [
      "Info: Params [3.54113994 3.94606477 5.28461356 2.76821371 0.12096526 0.17276244] gave -230.6931388589671\n"
     ]
    },
    {
     "name": "stdout",
     "output_type": "stream",
     "text": [
      "   Drift Rate  Self-excitation Speed  Self-excitation Accuracy  \\\n",
      "0     3.54114               3.946065                  5.284614   \n",
      "\n",
      "   Boundary Separation  Non-decision Time Speed  Non-decision Time Accuracy  \\\n",
      "0             2.768214                 0.120965                    0.172762   \n",
      "\n",
      "          BIC  \n",
      "0 -230.693139  \n",
      "27\n"
     ]
    },
    {
     "name": "stderr",
     "output_type": "stream",
     "text": [
      "Info: Params [2.72136164 7.56285373 8.17035968 0.80706509 0.23988432 0.26743335] gave -927.509747944131\n"
     ]
    },
    {
     "name": "stdout",
     "output_type": "stream",
     "text": [
      "   Drift Rate  Self-excitation Speed  Self-excitation Accuracy  \\\n",
      "0    2.721362               7.562854                   8.17036   \n",
      "\n",
      "   Boundary Separation  Non-decision Time Speed  Non-decision Time Accuracy  \\\n",
      "0             0.807065                 0.239884                    0.267433   \n",
      "\n",
      "          BIC  \n",
      "0 -927.509748  \n",
      "28\n"
     ]
    },
    {
     "name": "stderr",
     "output_type": "stream",
     "text": [
      "Info: Params [2.99159534 6.01345937 6.41382831 0.5534041  0.2835803  0.30350235] gave -954.7640613268422\n"
     ]
    },
    {
     "name": "stdout",
     "output_type": "stream",
     "text": [
      "   Drift Rate  Self-excitation Speed  Self-excitation Accuracy  \\\n",
      "0    2.991595               6.013459                  6.413828   \n",
      "\n",
      "   Boundary Separation  Non-decision Time Speed  Non-decision Time Accuracy  \\\n",
      "0             0.553404                  0.28358                    0.303502   \n",
      "\n",
      "          BIC  \n",
      "0 -954.764061  \n",
      "29\n"
     ]
    },
    {
     "name": "stderr",
     "output_type": "stream",
     "text": [
      "Info: Params [2.86728888 6.06065099 5.27729428 0.80618019 0.29727137 0.3042467 ] gave -786.6409439307193\n"
     ]
    },
    {
     "name": "stdout",
     "output_type": "stream",
     "text": [
      "   Drift Rate  Self-excitation Speed  Self-excitation Accuracy  \\\n",
      "0    2.867289               6.060651                  5.277294   \n",
      "\n",
      "   Boundary Separation  Non-decision Time Speed  Non-decision Time Accuracy  \\\n",
      "0              0.80618                 0.297271                    0.304247   \n",
      "\n",
      "          BIC  \n",
      "0 -786.640944  \n",
      "30\n"
     ]
    },
    {
     "name": "stderr",
     "output_type": "stream",
     "text": [
      "Info: Params [1.96618231 6.60452887 7.23838769 1.56032087 0.17646725 0.23168934] gave -295.79239838122135\n"
     ]
    },
    {
     "name": "stdout",
     "output_type": "stream",
     "text": [
      "   Drift Rate  Self-excitation Speed  Self-excitation Accuracy  \\\n",
      "0    1.966182               6.604529                  7.238388   \n",
      "\n",
      "   Boundary Separation  Non-decision Time Speed  Non-decision Time Accuracy  \\\n",
      "0             1.560321                 0.176467                    0.231689   \n",
      "\n",
      "          BIC  \n",
      "0 -295.792398  \n",
      "31\n"
     ]
    },
    {
     "name": "stderr",
     "output_type": "stream",
     "text": [
      "Info: Params [2.0993159  9.60972433 9.17004755 1.26668433 0.2114975  0.25110755] gave -1243.3652146808884\n"
     ]
    },
    {
     "name": "stdout",
     "output_type": "stream",
     "text": [
      "   Drift Rate  Self-excitation Speed  Self-excitation Accuracy  \\\n",
      "0    2.099316               9.609724                  9.170048   \n",
      "\n",
      "   Boundary Separation  Non-decision Time Speed  Non-decision Time Accuracy  \\\n",
      "0             1.266684                 0.211497                    0.251108   \n",
      "\n",
      "           BIC  \n",
      "0 -1243.365215  \n"
     ]
    }
   ],
   "source": [
    "%run Dutilh2013-OUM2k2ter-pyddm.ipynb"
   ]
  },
  {
   "cell_type": "code",
   "execution_count": 10,
   "id": "fb3cfb9a",
   "metadata": {},
   "outputs": [
    {
     "name": "stdout",
     "output_type": "stream",
     "text": [
      "0\n"
     ]
    },
    {
     "name": "stderr",
     "output_type": "stream",
     "text": [
      "Info: Params [0.19194275 0.72855374 7.12069884 1.74175653 7.27246372 0.16878401\n",
      " 0.10195042] gave 107.3144318881923\n"
     ]
    },
    {
     "name": "stdout",
     "output_type": "stream",
     "text": [
      "   Drift Rate Speed  Drift Rate Accuracy  Self-excitation  \\\n",
      "0          0.191943             0.728554         7.120699   \n",
      "\n",
      "   Boundary Separation Speed      Bacc  Non-decision Time Speed  \\\n",
      "0                   1.741757  7.272464                 0.168784   \n",
      "\n",
      "   Non-decision Time Accuracy         BIC  \n",
      "0                     0.10195  107.314432  \n",
      "1\n"
     ]
    },
    {
     "name": "stderr",
     "output_type": "stream",
     "text": [
      "Info: Params [1.98108382 1.65213108 4.60123272 0.72682525 1.16667412 0.33130592\n",
      " 0.32165054] gave -196.51991426046683\n"
     ]
    },
    {
     "name": "stdout",
     "output_type": "stream",
     "text": [
      "   Drift Rate Speed  Drift Rate Accuracy  Self-excitation  \\\n",
      "0          1.981084             1.652131         4.601233   \n",
      "\n",
      "   Boundary Separation Speed      Bacc  Non-decision Time Speed  \\\n",
      "0                   0.726825  1.166674                 0.331306   \n",
      "\n",
      "   Non-decision Time Accuracy         BIC  \n",
      "0                    0.321651 -196.519914  \n",
      "2\n"
     ]
    },
    {
     "name": "stderr",
     "output_type": "stream",
     "text": [
      "Info: Params [0.         0.         3.00755948 1.55515579 3.11101268 0.10101706\n",
      " 0.29836121] gave 588.072796263358\n"
     ]
    },
    {
     "name": "stdout",
     "output_type": "stream",
     "text": [
      "   Drift Rate Speed  Drift Rate Accuracy  Self-excitation  \\\n",
      "0               0.0                  0.0         3.007559   \n",
      "\n",
      "   Boundary Separation Speed      Bacc  Non-decision Time Speed  \\\n",
      "0                   1.555156  3.111013                 0.101017   \n",
      "\n",
      "   Non-decision Time Accuracy         BIC  \n",
      "0                    0.298361  588.072796  \n",
      "3\n"
     ]
    },
    {
     "name": "stderr",
     "output_type": "stream",
     "text": [
      "Info: Params [3.77283162 5.94937531 2.50329118 0.88448454 3.36970375 0.30842342\n",
      " 0.15643765] gave -199.56398964377354\n"
     ]
    },
    {
     "name": "stdout",
     "output_type": "stream",
     "text": [
      "   Drift Rate Speed  Drift Rate Accuracy  Self-excitation  \\\n",
      "0          3.772832             5.949375         2.503291   \n",
      "\n",
      "   Boundary Separation Speed      Bacc  Non-decision Time Speed  \\\n",
      "0                   0.884485  3.369704                 0.308423   \n",
      "\n",
      "   Non-decision Time Accuracy        BIC  \n",
      "0                    0.156438 -199.56399  \n",
      "4\n"
     ]
    },
    {
     "name": "stderr",
     "output_type": "stream",
     "text": [
      "Info: Params [1.97118715 1.98030405 3.75664927 1.28515547 1.29145438 0.18649818\n",
      " 0.26266966] gave -76.4254246383511\n"
     ]
    },
    {
     "name": "stdout",
     "output_type": "stream",
     "text": [
      "   Drift Rate Speed  Drift Rate Accuracy  Self-excitation  \\\n",
      "0          1.971187             1.980304         3.756649   \n",
      "\n",
      "   Boundary Separation Speed      Bacc  Non-decision Time Speed  \\\n",
      "0                   1.285155  1.291454                 0.186498   \n",
      "\n",
      "   Non-decision Time Accuracy        BIC  \n",
      "0                     0.26267 -76.425425  \n",
      "5\n"
     ]
    },
    {
     "name": "stderr",
     "output_type": "stream",
     "text": [
      "Info: Params [1.41376413 1.69757361 5.58867461 1.18084488 5.22754488 0.22052941\n",
      " 0.10288353] gave -167.26325026410083\n"
     ]
    },
    {
     "name": "stdout",
     "output_type": "stream",
     "text": [
      "   Drift Rate Speed  Drift Rate Accuracy  Self-excitation  \\\n",
      "0          1.413764             1.697574         5.588675   \n",
      "\n",
      "   Boundary Separation Speed      Bacc  Non-decision Time Speed  \\\n",
      "0                   1.180845  5.227545                 0.220529   \n",
      "\n",
      "   Non-decision Time Accuracy        BIC  \n",
      "0                    0.102884 -167.26325  \n",
      "6\n"
     ]
    },
    {
     "name": "stderr",
     "output_type": "stream",
     "text": [
      "Info: Params [1.20631448 3.55335486 6.33694063 1.13271955 3.92630464 0.18008987\n",
      " 0.22666925] gave -422.874721651609\n"
     ]
    },
    {
     "name": "stdout",
     "output_type": "stream",
     "text": [
      "   Drift Rate Speed  Drift Rate Accuracy  Self-excitation  \\\n",
      "0          1.206314             3.553355         6.336941   \n",
      "\n",
      "   Boundary Separation Speed      Bacc  Non-decision Time Speed  \\\n",
      "0                    1.13272  3.926305                  0.18009   \n",
      "\n",
      "   Non-decision Time Accuracy         BIC  \n",
      "0                    0.226669 -422.874722  \n",
      "7\n"
     ]
    },
    {
     "name": "stderr",
     "output_type": "stream",
     "text": [
      "Info: Params [1.27410728 1.97914672 4.85207134 1.83702893 1.2400209  0.10652532\n",
      " 0.23698452] gave -108.68416598172212\n"
     ]
    },
    {
     "name": "stdout",
     "output_type": "stream",
     "text": [
      "   Drift Rate Speed  Drift Rate Accuracy  Self-excitation  \\\n",
      "0          1.274107             1.979147         4.852071   \n",
      "\n",
      "   Boundary Separation Speed      Bacc  Non-decision Time Speed  \\\n",
      "0                   1.837029  1.240021                 0.106525   \n",
      "\n",
      "   Non-decision Time Accuracy         BIC  \n",
      "0                    0.236985 -108.684166  \n",
      "8\n"
     ]
    },
    {
     "name": "stderr",
     "output_type": "stream",
     "text": [
      "Info: Params [0.74435968 1.42875752 4.73157907 2.10766919 1.39437482 0.10057841\n",
      " 0.25323508] gave 109.9270728917359\n"
     ]
    },
    {
     "name": "stdout",
     "output_type": "stream",
     "text": [
      "   Drift Rate Speed  Drift Rate Accuracy  Self-excitation  \\\n",
      "0           0.74436             1.428758         4.731579   \n",
      "\n",
      "   Boundary Separation Speed      Bacc  Non-decision Time Speed  \\\n",
      "0                   2.107669  1.394375                 0.100578   \n",
      "\n",
      "   Non-decision Time Accuracy         BIC  \n",
      "0                    0.253235  109.927073  \n",
      "9\n"
     ]
    },
    {
     "name": "stderr",
     "output_type": "stream",
     "text": [
      "Info: Params [0.         0.24709197 4.51904985 0.77056049 2.14945924 0.13051585\n",
      " 0.11354615] gave 293.9256283860209\n"
     ]
    },
    {
     "name": "stdout",
     "output_type": "stream",
     "text": [
      "   Drift Rate Speed  Drift Rate Accuracy  Self-excitation  \\\n",
      "0               0.0             0.247092          4.51905   \n",
      "\n",
      "   Boundary Separation Speed      Bacc  Non-decision Time Speed  \\\n",
      "0                    0.77056  2.149459                 0.130516   \n",
      "\n",
      "   Non-decision Time Accuracy         BIC  \n",
      "0                    0.113546  293.925628  \n",
      "10\n"
     ]
    },
    {
     "name": "stderr",
     "output_type": "stream",
     "text": [
      "Info: Params [2.62667265 3.5465534  5.06185297 4.22621366 7.02458548 0.14931057\n",
      " 0.12089617] gave -81.95874863790044\n"
     ]
    },
    {
     "name": "stdout",
     "output_type": "stream",
     "text": [
      "   Drift Rate Speed  Drift Rate Accuracy  Self-excitation  \\\n",
      "0          2.626673             3.546553         5.061853   \n",
      "\n",
      "   Boundary Separation Speed      Bacc  Non-decision Time Speed  \\\n",
      "0                   4.226214  7.024585                 0.149311   \n",
      "\n",
      "   Non-decision Time Accuracy        BIC  \n",
      "0                    0.120896 -81.958749  \n",
      "11\n"
     ]
    },
    {
     "name": "stderr",
     "output_type": "stream",
     "text": [
      "Info: Params [2.32261403 2.65730192 4.59050995 0.69556233 1.30352443 0.30504113\n",
      " 0.27896352] gave -658.4519350302046\n"
     ]
    },
    {
     "name": "stdout",
     "output_type": "stream",
     "text": [
      "   Drift Rate Speed  Drift Rate Accuracy  Self-excitation  \\\n",
      "0          2.322614             2.657302          4.59051   \n",
      "\n",
      "   Boundary Separation Speed      Bacc  Non-decision Time Speed  \\\n",
      "0                   0.695562  1.303524                 0.305041   \n",
      "\n",
      "   Non-decision Time Accuracy         BIC  \n",
      "0                    0.278964 -658.451935  \n",
      "12\n"
     ]
    },
    {
     "name": "stderr",
     "output_type": "stream",
     "text": [
      "Info: Params [3.55321283 2.65667943 7.54266465 2.56240248 1.4169085  0.20017534\n",
      " 0.25741879] gave -634.0047424003744\n"
     ]
    },
    {
     "name": "stdout",
     "output_type": "stream",
     "text": [
      "   Drift Rate Speed  Drift Rate Accuracy  Self-excitation  \\\n",
      "0          3.553213             2.656679         7.542665   \n",
      "\n",
      "   Boundary Separation Speed      Bacc  Non-decision Time Speed  \\\n",
      "0                   2.562402  1.416908                 0.200175   \n",
      "\n",
      "   Non-decision Time Accuracy         BIC  \n",
      "0                    0.257419 -634.004742  \n",
      "13\n"
     ]
    },
    {
     "name": "stderr",
     "output_type": "stream",
     "text": [
      "Info: Params [1.48957181 2.95993855 4.69825296 0.72586034 1.90347407 0.22409637\n",
      " 0.21272655] gave -395.0904019968246\n"
     ]
    },
    {
     "name": "stdout",
     "output_type": "stream",
     "text": [
      "   Drift Rate Speed  Drift Rate Accuracy  Self-excitation  \\\n",
      "0          1.489572             2.959939         4.698253   \n",
      "\n",
      "   Boundary Separation Speed      Bacc  Non-decision Time Speed  \\\n",
      "0                    0.72586  1.903474                 0.224096   \n",
      "\n",
      "   Non-decision Time Accuracy         BIC  \n",
      "0                    0.212727 -395.090402  \n",
      "14\n"
     ]
    },
    {
     "name": "stderr",
     "output_type": "stream",
     "text": [
      "Info: Params [0.38069751 0.03961891 5.67014759 2.06884962 4.6654897  0.15533813\n",
      " 0.10202892] gave 476.0939574173923\n"
     ]
    },
    {
     "name": "stdout",
     "output_type": "stream",
     "text": [
      "   Drift Rate Speed  Drift Rate Accuracy  Self-excitation  \\\n",
      "0          0.380698             0.039619         5.670148   \n",
      "\n",
      "   Boundary Separation Speed     Bacc  Non-decision Time Speed  \\\n",
      "0                    2.06885  4.66549                 0.155338   \n",
      "\n",
      "   Non-decision Time Accuracy         BIC  \n",
      "0                    0.102029  476.093957  \n",
      "15\n"
     ]
    },
    {
     "name": "stderr",
     "output_type": "stream",
     "text": [
      "Info: Params [2.79264855 5.50685155 4.79634375 0.83341288 6.13537275 0.31456479\n",
      " 0.11040553] gave -475.2788312486301\n"
     ]
    },
    {
     "name": "stdout",
     "output_type": "stream",
     "text": [
      "   Drift Rate Speed  Drift Rate Accuracy  Self-excitation  \\\n",
      "0          2.792649             5.506852         4.796344   \n",
      "\n",
      "   Boundary Separation Speed      Bacc  Non-decision Time Speed  \\\n",
      "0                   0.833413  6.135373                 0.314565   \n",
      "\n",
      "   Non-decision Time Accuracy         BIC  \n",
      "0                    0.110406 -475.278831  \n",
      "16\n"
     ]
    },
    {
     "name": "stderr",
     "output_type": "stream",
     "text": [
      "Info: Params [0.49900598 1.30287962 4.99852128 1.19717157 2.82272323 0.10204491\n",
      " 0.10450678] gave 365.05054235594105\n"
     ]
    },
    {
     "name": "stdout",
     "output_type": "stream",
     "text": [
      "   Drift Rate Speed  Drift Rate Accuracy  Self-excitation  \\\n",
      "0          0.499006              1.30288         4.998521   \n",
      "\n",
      "   Boundary Separation Speed      Bacc  Non-decision Time Speed  \\\n",
      "0                   1.197172  2.822723                 0.102045   \n",
      "\n",
      "   Non-decision Time Accuracy         BIC  \n",
      "0                    0.104507  365.050542  \n",
      "17\n"
     ]
    },
    {
     "name": "stderr",
     "output_type": "stream",
     "text": [
      "Info: Params [2.65999655 3.36374531 6.74228377 1.00465543 1.89297265 0.23596207\n",
      " 0.19726132] gave -990.5330911536042\n"
     ]
    },
    {
     "name": "stdout",
     "output_type": "stream",
     "text": [
      "   Drift Rate Speed  Drift Rate Accuracy  Self-excitation  \\\n",
      "0          2.659997             3.363745         6.742284   \n",
      "\n",
      "   Boundary Separation Speed      Bacc  Non-decision Time Speed  \\\n",
      "0                   1.004655  1.892973                 0.235962   \n",
      "\n",
      "   Non-decision Time Accuracy         BIC  \n",
      "0                    0.197261 -990.533091  \n",
      "18\n"
     ]
    },
    {
     "name": "stderr",
     "output_type": "stream",
     "text": [
      "Info: Params [1.62367877 2.56858125 5.21373037 0.72884208 0.91629728 0.25016006\n",
      " 0.25909653] gave -333.2881048796283\n"
     ]
    },
    {
     "name": "stdout",
     "output_type": "stream",
     "text": [
      "   Drift Rate Speed  Drift Rate Accuracy  Self-excitation  \\\n",
      "0          1.623679             2.568581          5.21373   \n",
      "\n",
      "   Boundary Separation Speed      Bacc  Non-decision Time Speed  \\\n",
      "0                   0.728842  0.916297                  0.25016   \n",
      "\n",
      "   Non-decision Time Accuracy         BIC  \n",
      "0                    0.259097 -333.288105  \n",
      "19\n"
     ]
    },
    {
     "name": "stderr",
     "output_type": "stream",
     "text": [
      "Info: Params [1.35976068 2.64676602 7.54053164 2.1073874  1.51756503 0.12434855\n",
      " 0.23308581] gave -861.696398110732\n"
     ]
    },
    {
     "name": "stdout",
     "output_type": "stream",
     "text": [
      "   Drift Rate Speed  Drift Rate Accuracy  Self-excitation  \\\n",
      "0          1.359761             2.646766         7.540532   \n",
      "\n",
      "   Boundary Separation Speed      Bacc  Non-decision Time Speed  \\\n",
      "0                   2.107387  1.517565                 0.124349   \n",
      "\n",
      "   Non-decision Time Accuracy         BIC  \n",
      "0                    0.233086 -861.696398  \n",
      "20\n"
     ]
    },
    {
     "name": "stderr",
     "output_type": "stream",
     "text": [
      "Info: Params [0.32712954 1.90982337 9.7287483  1.98753339 7.53568384 0.11871577\n",
      " 0.12357989] gave -383.11488686593896\n"
     ]
    },
    {
     "name": "stdout",
     "output_type": "stream",
     "text": [
      "   Drift Rate Speed  Drift Rate Accuracy  Self-excitation  \\\n",
      "0           0.32713             1.909823         9.728748   \n",
      "\n",
      "   Boundary Separation Speed      Bacc  Non-decision Time Speed  \\\n",
      "0                   1.987533  7.535684                 0.118716   \n",
      "\n",
      "   Non-decision Time Accuracy         BIC  \n",
      "0                     0.12358 -383.114887  \n",
      "21\n"
     ]
    },
    {
     "name": "stderr",
     "output_type": "stream",
     "text": [
      "Info: Params [0.33153687 1.16120184 6.5514353  1.73231166 3.02849724 0.10075552\n",
      " 0.17617472] gave 94.25715820105451\n"
     ]
    },
    {
     "name": "stdout",
     "output_type": "stream",
     "text": [
      "   Drift Rate Speed  Drift Rate Accuracy  Self-excitation  \\\n",
      "0          0.331537             1.161202         6.551435   \n",
      "\n",
      "   Boundary Separation Speed      Bacc  Non-decision Time Speed  \\\n",
      "0                   1.732312  3.028497                 0.100756   \n",
      "\n",
      "   Non-decision Time Accuracy        BIC  \n",
      "0                    0.176175  94.257158  \n",
      "22\n"
     ]
    },
    {
     "name": "stderr",
     "output_type": "stream",
     "text": [
      "Info: Params [2.69815999 5.06049211 8.9540046  7.11507929 5.80326913 0.10063713\n",
      " 0.22803941] gave -240.79000445871526\n"
     ]
    },
    {
     "name": "stdout",
     "output_type": "stream",
     "text": [
      "   Drift Rate Speed  Drift Rate Accuracy  Self-excitation  \\\n",
      "0           2.69816             5.060492         8.954005   \n",
      "\n",
      "   Boundary Separation Speed      Bacc  Non-decision Time Speed  \\\n",
      "0                   7.115079  5.803269                 0.100637   \n",
      "\n",
      "   Non-decision Time Accuracy         BIC  \n",
      "0                    0.228039 -240.790004  \n",
      "23\n"
     ]
    },
    {
     "name": "stderr",
     "output_type": "stream",
     "text": [
      "Info: Params [ 1.66388739  3.08941279 10.          1.06861929  0.85883794  0.19266257\n",
      "  0.28165113] gave -1134.1937469750305\n"
     ]
    },
    {
     "name": "stdout",
     "output_type": "stream",
     "text": [
      "   Drift Rate Speed  Drift Rate Accuracy  Self-excitation  \\\n",
      "0          1.663887             3.089413             10.0   \n",
      "\n",
      "   Boundary Separation Speed      Bacc  Non-decision Time Speed  \\\n",
      "0                   1.068619  0.858838                 0.192663   \n",
      "\n",
      "   Non-decision Time Accuracy          BIC  \n",
      "0                    0.281651 -1134.193747  \n",
      "24\n"
     ]
    },
    {
     "name": "stderr",
     "output_type": "stream",
     "text": [
      "Info: Params [1.97556257 3.55695564 9.35826046 1.48134761 2.62878738 0.21072338\n",
      " 0.23185666] gave -871.9111615703298\n"
     ]
    },
    {
     "name": "stdout",
     "output_type": "stream",
     "text": [
      "   Drift Rate Speed  Drift Rate Accuracy  Self-excitation  \\\n",
      "0          1.975563             3.556956          9.35826   \n",
      "\n",
      "   Boundary Separation Speed      Bacc  Non-decision Time Speed  \\\n",
      "0                   1.481348  2.628787                 0.210723   \n",
      "\n",
      "   Non-decision Time Accuracy         BIC  \n",
      "0                    0.231857 -871.911162  \n",
      "25\n"
     ]
    },
    {
     "name": "stderr",
     "output_type": "stream",
     "text": [
      "Info: Params [0.65716337 2.39190451 7.83989527 1.60791775 1.24148146 0.10118153\n",
      " 0.26011637] gave -545.2514240713758\n"
     ]
    },
    {
     "name": "stdout",
     "output_type": "stream",
     "text": [
      "   Drift Rate Speed  Drift Rate Accuracy  Self-excitation  \\\n",
      "0          0.657163             2.391905         7.839895   \n",
      "\n",
      "   Boundary Separation Speed      Bacc  Non-decision Time Speed  \\\n",
      "0                   1.607918  1.241481                 0.101182   \n",
      "\n",
      "   Non-decision Time Accuracy         BIC  \n",
      "0                    0.260116 -545.251424  \n",
      "26\n"
     ]
    },
    {
     "name": "stderr",
     "output_type": "stream",
     "text": [
      "Info: Params [5.09075842 3.00677349 2.24075009 2.88342149 1.02299366 0.10800224\n",
      " 0.25984006] gave -238.90021901125112\n"
     ]
    },
    {
     "name": "stdout",
     "output_type": "stream",
     "text": [
      "   Drift Rate Speed  Drift Rate Accuracy  Self-excitation  \\\n",
      "0          5.090758             3.006773          2.24075   \n",
      "\n",
      "   Boundary Separation Speed      Bacc  Non-decision Time Speed  \\\n",
      "0                   2.883421  1.022994                 0.108002   \n",
      "\n",
      "   Non-decision Time Accuracy         BIC  \n",
      "0                     0.25984 -238.900219  \n",
      "27\n"
     ]
    },
    {
     "name": "stderr",
     "output_type": "stream",
     "text": [
      "Info: Params [2.32714349 3.61615406 8.68443813 0.91237138 0.91545043 0.23339589\n",
      " 0.26978919] gave -937.4036651480501\n"
     ]
    },
    {
     "name": "stdout",
     "output_type": "stream",
     "text": [
      "   Drift Rate Speed  Drift Rate Accuracy  Self-excitation  \\\n",
      "0          2.327143             3.616154         8.684438   \n",
      "\n",
      "   Boundary Separation Speed     Bacc  Non-decision Time Speed  \\\n",
      "0                   0.912371  0.91545                 0.233396   \n",
      "\n",
      "   Non-decision Time Accuracy         BIC  \n",
      "0                    0.269789 -937.403665  \n",
      "28\n"
     ]
    },
    {
     "name": "stderr",
     "output_type": "stream",
     "text": [
      "Info: Params [2.3786745  3.04537183 9.26072677 1.34549444 0.63339145 0.21174545\n",
      " 0.29924413] gave -953.2361537448305\n"
     ]
    },
    {
     "name": "stdout",
     "output_type": "stream",
     "text": [
      "   Drift Rate Speed  Drift Rate Accuracy  Self-excitation  \\\n",
      "0          2.378675             3.045372         9.260727   \n",
      "\n",
      "   Boundary Separation Speed      Bacc  Non-decision Time Speed  \\\n",
      "0                   1.345494  0.633391                 0.211745   \n",
      "\n",
      "   Non-decision Time Accuracy         BIC  \n",
      "0                    0.299244 -953.236154  \n",
      "29\n"
     ]
    },
    {
     "name": "stderr",
     "output_type": "stream",
     "text": [
      "Info: Params [2.95072675 2.75775404 6.10768579 0.84147874 0.97794143 0.29477891\n",
      " 0.28787022] gave -782.3945894853172\n"
     ]
    },
    {
     "name": "stdout",
     "output_type": "stream",
     "text": [
      "   Drift Rate Speed  Drift Rate Accuracy  Self-excitation  \\\n",
      "0          2.950727             2.757754         6.107686   \n",
      "\n",
      "   Boundary Separation Speed      Bacc  Non-decision Time Speed  \\\n",
      "0                   0.841479  0.977941                 0.294779   \n",
      "\n",
      "   Non-decision Time Accuracy         BIC  \n",
      "0                     0.28787 -782.394589  \n",
      "30\n"
     ]
    },
    {
     "name": "stderr",
     "output_type": "stream",
     "text": [
      "Info: Params [1.48605533 3.74381268 6.74408871 1.63601097 4.32059048 0.16767068\n",
      " 0.13688015] gave -335.0443182205117\n"
     ]
    },
    {
     "name": "stdout",
     "output_type": "stream",
     "text": [
      "   Drift Rate Speed  Drift Rate Accuracy  Self-excitation  \\\n",
      "0          1.486055             3.743813         6.744089   \n",
      "\n",
      "   Boundary Separation Speed     Bacc  Non-decision Time Speed  \\\n",
      "0                   1.636011  4.32059                 0.167671   \n",
      "\n",
      "   Non-decision Time Accuracy         BIC  \n",
      "0                     0.13688 -335.044318  \n",
      "31\n"
     ]
    },
    {
     "name": "stderr",
     "output_type": "stream",
     "text": [
      "Info: Params [1.70715745 3.82190691 9.34517895 1.08414679 5.5494189  0.22033558\n",
      " 0.14158127] gave -1315.5978567988232\n"
     ]
    },
    {
     "name": "stdout",
     "output_type": "stream",
     "text": [
      "   Drift Rate Speed  Drift Rate Accuracy  Self-excitation  \\\n",
      "0          1.707157             3.821907         9.345179   \n",
      "\n",
      "   Boundary Separation Speed      Bacc  Non-decision Time Speed  \\\n",
      "0                   1.084147  5.549419                 0.220336   \n",
      "\n",
      "   Non-decision Time Accuracy          BIC  \n",
      "0                    0.141581 -1315.597857  \n"
     ]
    }
   ],
   "source": [
    "%run Dutilh2013-OUM2v2a2ter-pyddm.ipynb"
   ]
  },
  {
   "cell_type": "code",
   "execution_count": 11,
   "id": "4e564606",
   "metadata": {},
   "outputs": [
    {
     "name": "stdout",
     "output_type": "stream",
     "text": [
      "0\n"
     ]
    },
    {
     "name": "stderr",
     "output_type": "stream",
     "text": [
      "Info: Params [0.16005557 0.77429564 8.99773959 5.17591328 3.92592843 0.11211365\n",
      " 0.10192319] gave -38.13850564348955\n"
     ]
    },
    {
     "name": "stdout",
     "output_type": "stream",
     "text": [
      "   Drift Rate Speed  Drift Rate Accuracy  Self-excitation Speed  \\\n",
      "0          0.160056             0.774296                8.99774   \n",
      "\n",
      "   Self-excitation Accuracy  Boundary Separation  Non-decision Time Speed  \\\n",
      "0                  5.175913             3.925928                 0.112114   \n",
      "\n",
      "   Non-decision Time Accuracy        BIC  \n",
      "0                    0.101923 -38.138506  \n",
      "1\n"
     ]
    },
    {
     "name": "stderr",
     "output_type": "stream",
     "text": [
      "Info: Params [2.02922175 1.41890029 4.3546593  3.41648247 0.75938927 0.32738696\n",
      " 0.36137345] gave -191.21494010786455\n"
     ]
    },
    {
     "name": "stdout",
     "output_type": "stream",
     "text": [
      "   Drift Rate Speed  Drift Rate Accuracy  Self-excitation Speed  \\\n",
      "0          2.029222               1.4189               4.354659   \n",
      "\n",
      "   Self-excitation Accuracy  Boundary Separation  Non-decision Time Speed  \\\n",
      "0                  3.416482             0.759389                 0.327387   \n",
      "\n",
      "   Non-decision Time Accuracy        BIC  \n",
      "0                    0.361373 -191.21494  \n",
      "2\n"
     ]
    },
    {
     "name": "stderr",
     "output_type": "stream",
     "text": [
      "Info: Params [0.         0.         2.49213296 3.1058484  1.51778326 0.10112217\n",
      " 0.49667535] gave 587.4356152911712\n"
     ]
    },
    {
     "name": "stdout",
     "output_type": "stream",
     "text": [
      "   Drift Rate Speed  Drift Rate Accuracy  Self-excitation Speed  \\\n",
      "0               0.0                  0.0               2.492133   \n",
      "\n",
      "   Self-excitation Accuracy  Boundary Separation  Non-decision Time Speed  \\\n",
      "0                  3.105848             1.517783                 0.101122   \n",
      "\n",
      "   Non-decision Time Accuracy         BIC  \n",
      "0                    0.496675  587.435615  \n",
      "3\n"
     ]
    },
    {
     "name": "stderr",
     "output_type": "stream",
     "text": [
      "Info: Params [ 3.58110704  6.          4.07450774 -1.55541513  1.12987025  0.28657835\n",
      "  0.29868493] gave -196.53539149044332\n"
     ]
    },
    {
     "name": "stdout",
     "output_type": "stream",
     "text": [
      "   Drift Rate Speed  Drift Rate Accuracy  Self-excitation Speed  \\\n",
      "0          3.581107                  6.0               4.074508   \n",
      "\n",
      "   Self-excitation Accuracy  Boundary Separation  Non-decision Time Speed  \\\n",
      "0                 -1.555415              1.12987                 0.286578   \n",
      "\n",
      "   Non-decision Time Accuracy         BIC  \n",
      "0                    0.298685 -196.535391  \n",
      "4\n"
     ]
    },
    {
     "name": "stderr",
     "output_type": "stream",
     "text": [
      "Info: Params [1.96207536 2.11715139 3.67527924 3.11626445 1.23642224 0.18956237\n",
      " 0.26365213] gave -76.72354716884905\n"
     ]
    },
    {
     "name": "stdout",
     "output_type": "stream",
     "text": [
      "   Drift Rate Speed  Drift Rate Accuracy  Self-excitation Speed  \\\n",
      "0          1.962075             2.117151               3.675279   \n",
      "\n",
      "   Self-excitation Accuracy  Boundary Separation  Non-decision Time Speed  \\\n",
      "0                  3.116264             1.236422                 0.189562   \n",
      "\n",
      "   Non-decision Time Accuracy        BIC  \n",
      "0                    0.263652 -76.723547  \n",
      "5\n"
     ]
    },
    {
     "name": "stderr",
     "output_type": "stream",
     "text": [
      "Info: Params [1.22371318 1.78891692 7.58624473 4.23573416 2.61320644 0.15123613\n",
      " 0.16967205] gave -184.27153604098683\n"
     ]
    },
    {
     "name": "stdout",
     "output_type": "stream",
     "text": [
      "   Drift Rate Speed  Drift Rate Accuracy  Self-excitation Speed  \\\n",
      "0          1.223713             1.788917               7.586245   \n",
      "\n",
      "   Self-excitation Accuracy  Boundary Separation  Non-decision Time Speed  \\\n",
      "0                  4.235734             2.613206                 0.151236   \n",
      "\n",
      "   Non-decision Time Accuracy         BIC  \n",
      "0                    0.169672 -184.271536  \n",
      "6\n"
     ]
    },
    {
     "name": "stderr",
     "output_type": "stream",
     "text": [
      "Info: Params [1.19290041 4.00118615 6.60507424 1.96457854 1.14611519 0.18275493\n",
      " 0.34424021] gave -428.49184439616926\n"
     ]
    },
    {
     "name": "stdout",
     "output_type": "stream",
     "text": [
      "   Drift Rate Speed  Drift Rate Accuracy  Self-excitation Speed  \\\n",
      "0            1.1929             4.001186               6.605074   \n",
      "\n",
      "   Self-excitation Accuracy  Boundary Separation  Non-decision Time Speed  \\\n",
      "0                  1.964579             1.146115                 0.182755   \n",
      "\n",
      "   Non-decision Time Accuracy         BIC  \n",
      "0                     0.34424 -428.491844  \n",
      "7\n"
     ]
    },
    {
     "name": "stderr",
     "output_type": "stream",
     "text": [
      "Info: Params [1.25160538 2.04642481 4.99752183 4.4724364  1.66568622 0.12260143\n",
      " 0.18920526] gave -105.45682311552002\n"
     ]
    },
    {
     "name": "stdout",
     "output_type": "stream",
     "text": [
      "   Drift Rate Speed  Drift Rate Accuracy  Self-excitation Speed  \\\n",
      "0          1.251605             2.046425               4.997522   \n",
      "\n",
      "   Self-excitation Accuracy  Boundary Separation  Non-decision Time Speed  \\\n",
      "0                  4.472436             1.665686                 0.122601   \n",
      "\n",
      "   Non-decision Time Accuracy         BIC  \n",
      "0                    0.189205 -105.456823  \n",
      "8\n"
     ]
    },
    {
     "name": "stderr",
     "output_type": "stream",
     "text": [
      "Info: Params [0.74732249 1.33664178 4.70906847 5.27274499 2.10310411 0.10092943\n",
      " 0.19658961] gave 111.47495387741353\n"
     ]
    },
    {
     "name": "stdout",
     "output_type": "stream",
     "text": [
      "   Drift Rate Speed  Drift Rate Accuracy  Self-excitation Speed  \\\n",
      "0          0.747322             1.336642               4.709068   \n",
      "\n",
      "   Self-excitation Accuracy  Boundary Separation  Non-decision Time Speed  \\\n",
      "0                  5.272745             2.103104                 0.100929   \n",
      "\n",
      "   Non-decision Time Accuracy         BIC  \n",
      "0                     0.19659  111.474954  \n",
      "9\n"
     ]
    },
    {
     "name": "stderr",
     "output_type": "stream",
     "text": [
      "Info: Params [0.0152985  0.33684205 7.29426786 3.50176906 1.2579383  0.10077389\n",
      " 0.18829908] gave 267.6292631281327\n"
     ]
    },
    {
     "name": "stdout",
     "output_type": "stream",
     "text": [
      "   Drift Rate Speed  Drift Rate Accuracy  Self-excitation Speed  \\\n",
      "0          0.015299             0.336842               7.294268   \n",
      "\n",
      "   Self-excitation Accuracy  Boundary Separation  Non-decision Time Speed  \\\n",
      "0                  3.501769             1.257938                 0.100774   \n",
      "\n",
      "   Non-decision Time Accuracy         BIC  \n",
      "0                    0.188299  267.629263  \n",
      "10\n"
     ]
    },
    {
     "name": "stderr",
     "output_type": "stream",
     "text": [
      "Info: Params [2.60582393 3.65435066 5.26368903 4.61410407 4.32260323 0.15322957\n",
      " 0.19207374] gave -82.0903570602806\n"
     ]
    },
    {
     "name": "stdout",
     "output_type": "stream",
     "text": [
      "   Drift Rate Speed  Drift Rate Accuracy  Self-excitation Speed  \\\n",
      "0          2.605824             3.654351               5.263689   \n",
      "\n",
      "   Self-excitation Accuracy  Boundary Separation  Non-decision Time Speed  \\\n",
      "0                  4.614104             4.322603                  0.15323   \n",
      "\n",
      "   Non-decision Time Accuracy        BIC  \n",
      "0                    0.192074 -82.090357  \n",
      "11\n"
     ]
    },
    {
     "name": "stderr",
     "output_type": "stream",
     "text": [
      "Info: Params [2.20205233 2.72267838 6.96463018 2.24188672 0.90474615 0.29224051\n",
      " 0.29972354] gave -662.7151029142174\n"
     ]
    },
    {
     "name": "stdout",
     "output_type": "stream",
     "text": [
      "   Drift Rate Speed  Drift Rate Accuracy  Self-excitation Speed  \\\n",
      "0          2.202052             2.722678                6.96463   \n",
      "\n",
      "   Self-excitation Accuracy  Boundary Separation  Non-decision Time Speed  \\\n",
      "0                  2.241887             0.904746                 0.292241   \n",
      "\n",
      "   Non-decision Time Accuracy         BIC  \n",
      "0                    0.299724 -662.715103  \n",
      "12\n"
     ]
    },
    {
     "name": "stderr",
     "output_type": "stream",
     "text": [
      "Info: Params [3.67458658 2.64955188 5.78561004 7.8553716  1.43758905 0.24558197\n",
      " 0.25910228] gave -639.931599031048\n"
     ]
    },
    {
     "name": "stdout",
     "output_type": "stream",
     "text": [
      "   Drift Rate Speed  Drift Rate Accuracy  Self-excitation Speed  \\\n",
      "0          3.674587             2.649552                5.78561   \n",
      "\n",
      "   Self-excitation Accuracy  Boundary Separation  Non-decision Time Speed  \\\n",
      "0                  7.855372             1.437589                 0.245582   \n",
      "\n",
      "   Non-decision Time Accuracy         BIC  \n",
      "0                    0.259102 -639.931599  \n",
      "13\n"
     ]
    },
    {
     "name": "stderr",
     "output_type": "stream",
     "text": [
      "Info: Params [1.40165464 3.13989151 6.0742097  1.46394117 0.89453714 0.20822998\n",
      " 0.28872532] gave -397.13093933426404\n"
     ]
    },
    {
     "name": "stdout",
     "output_type": "stream",
     "text": [
      "   Drift Rate Speed  Drift Rate Accuracy  Self-excitation Speed  \\\n",
      "0          1.401655             3.139892                6.07421   \n",
      "\n",
      "   Self-excitation Accuracy  Boundary Separation  Non-decision Time Speed  \\\n",
      "0                  1.463941             0.894537                  0.20823   \n",
      "\n",
      "   Non-decision Time Accuracy         BIC  \n",
      "0                    0.288725 -397.130939  \n",
      "14\n"
     ]
    },
    {
     "name": "stderr",
     "output_type": "stream",
     "text": [
      "Info: Params [0.32655435 0.06343019 7.55772857 4.66334971 3.4658911  0.13569234\n",
      " 0.10116802] gave 394.82293675599226\n"
     ]
    },
    {
     "name": "stdout",
     "output_type": "stream",
     "text": [
      "   Drift Rate Speed  Drift Rate Accuracy  Self-excitation Speed  \\\n",
      "0          0.326554              0.06343               7.557729   \n",
      "\n",
      "   Self-excitation Accuracy  Boundary Separation  Non-decision Time Speed  \\\n",
      "0                   4.66335             3.465891                 0.135692   \n",
      "\n",
      "   Non-decision Time Accuracy         BIC  \n",
      "0                    0.101168  394.822937  \n",
      "15\n"
     ]
    },
    {
     "name": "stderr",
     "output_type": "stream",
     "text": [
      "Info: Params [ 2.69488226  6.          6.09674406 -0.69813208  0.99916263  0.30108683\n",
      "  0.3292739 ] gave -471.9020363757916\n"
     ]
    },
    {
     "name": "stdout",
     "output_type": "stream",
     "text": [
      "   Drift Rate Speed  Drift Rate Accuracy  Self-excitation Speed  \\\n",
      "0          2.694882                  6.0               6.096744   \n",
      "\n",
      "   Self-excitation Accuracy  Boundary Separation  Non-decision Time Speed  \\\n",
      "0                 -0.698132             0.999163                 0.301087   \n",
      "\n",
      "   Non-decision Time Accuracy         BIC  \n",
      "0                    0.329274 -471.902036  \n",
      "16\n"
     ]
    },
    {
     "name": "stderr",
     "output_type": "stream",
     "text": [
      "Info: Params [0.46195353 1.75624059 5.64778019 2.30988546 1.30314034 0.10151607\n",
      " 0.18402211] gave 336.1046715066649\n"
     ]
    },
    {
     "name": "stdout",
     "output_type": "stream",
     "text": [
      "   Drift Rate Speed  Drift Rate Accuracy  Self-excitation Speed  \\\n",
      "0          0.461954             1.756241                5.64778   \n",
      "\n",
      "   Self-excitation Accuracy  Boundary Separation  Non-decision Time Speed  \\\n",
      "0                  2.309885              1.30314                 0.101516   \n",
      "\n",
      "   Non-decision Time Accuracy         BIC  \n",
      "0                    0.184022  336.104672  \n",
      "17\n"
     ]
    },
    {
     "name": "stderr",
     "output_type": "stream",
     "text": [
      "Info: Params [2.63520391 3.53938315 7.11515458 4.2307301  1.06114424 0.23215652\n",
      " 0.24002708] gave -992.3390710327277\n"
     ]
    },
    {
     "name": "stdout",
     "output_type": "stream",
     "text": [
      "   Drift Rate Speed  Drift Rate Accuracy  Self-excitation Speed  \\\n",
      "0          2.635204             3.539383               7.115155   \n",
      "\n",
      "   Self-excitation Accuracy  Boundary Separation  Non-decision Time Speed  \\\n",
      "0                   4.23073             1.061144                 0.232157   \n",
      "\n",
      "   Non-decision Time Accuracy         BIC  \n",
      "0                    0.240027 -992.339071  \n",
      "18\n"
     ]
    },
    {
     "name": "stderr",
     "output_type": "stream",
     "text": [
      "Info: Params [1.55105553 2.65514463 6.36296648 4.31211574 0.84643488 0.240572\n",
      " 0.26452794] gave -332.3952152969837\n"
     ]
    },
    {
     "name": "stdout",
     "output_type": "stream",
     "text": [
      "   Drift Rate Speed  Drift Rate Accuracy  Self-excitation Speed  \\\n",
      "0          1.551056             2.655145               6.362966   \n",
      "\n",
      "   Self-excitation Accuracy  Boundary Separation  Non-decision Time Speed  \\\n",
      "0                  4.312116             0.846435                 0.240572   \n",
      "\n",
      "   Non-decision Time Accuracy         BIC  \n",
      "0                    0.264528 -332.395215  \n",
      "19\n"
     ]
    },
    {
     "name": "stderr",
     "output_type": "stream",
     "text": [
      "Info: Params [1.33284147 2.86605932 8.32134581 6.19494173 2.12344208 0.13785307\n",
      " 0.18488973] gave -871.0153923623336\n"
     ]
    },
    {
     "name": "stdout",
     "output_type": "stream",
     "text": [
      "   Drift Rate Speed  Drift Rate Accuracy  Self-excitation Speed  \\\n",
      "0          1.332841             2.866059               8.321346   \n",
      "\n",
      "   Self-excitation Accuracy  Boundary Separation  Non-decision Time Speed  \\\n",
      "0                  6.194942             2.123442                 0.137853   \n",
      "\n",
      "   Non-decision Time Accuracy         BIC  \n",
      "0                     0.18489 -871.015392  \n",
      "20\n"
     ]
    },
    {
     "name": "stderr",
     "output_type": "stream",
     "text": [
      "Info: Params [ 0.30470502  2.24869751 10.          5.85348072  2.42562581  0.10278858\n",
      "  0.17325069] gave -409.2472394106011\n"
     ]
    },
    {
     "name": "stdout",
     "output_type": "stream",
     "text": [
      "   Drift Rate Speed  Drift Rate Accuracy  Self-excitation Speed  \\\n",
      "0          0.304705             2.248698                   10.0   \n",
      "\n",
      "   Self-excitation Accuracy  Boundary Separation  Non-decision Time Speed  \\\n",
      "0                  5.853481             2.425626                 0.102789   \n",
      "\n",
      "   Non-decision Time Accuracy         BIC  \n",
      "0                    0.173251 -409.247239  \n",
      "21\n"
     ]
    },
    {
     "name": "stderr",
     "output_type": "stream",
     "text": [
      "Info: Params [0.30547456 1.22079195 6.89501152 5.63037188 1.81617283 0.10049213\n",
      " 0.22825169] gave 79.87073742484337\n"
     ]
    },
    {
     "name": "stdout",
     "output_type": "stream",
     "text": [
      "   Drift Rate Speed  Drift Rate Accuracy  Self-excitation Speed  \\\n",
      "0          0.305475             1.220792               6.895012   \n",
      "\n",
      "   Self-excitation Accuracy  Boundary Separation  Non-decision Time Speed  \\\n",
      "0                  5.630372             1.816173                 0.100492   \n",
      "\n",
      "   Non-decision Time Accuracy        BIC  \n",
      "0                    0.228252  79.870737  \n",
      "22\n"
     ]
    },
    {
     "name": "stderr",
     "output_type": "stream",
     "text": [
      "Info: Params [2.68312231 6.         9.05384849 5.70126453 6.0370364  0.11922545\n",
      " 0.16923954] gave -242.35814684397917\n"
     ]
    },
    {
     "name": "stdout",
     "output_type": "stream",
     "text": [
      "   Drift Rate Speed  Drift Rate Accuracy  Self-excitation Speed  \\\n",
      "0          2.683122                  6.0               9.053848   \n",
      "\n",
      "   Self-excitation Accuracy  Boundary Separation  Non-decision Time Speed  \\\n",
      "0                  5.701265             6.037036                 0.119225   \n",
      "\n",
      "   Non-decision Time Accuracy         BIC  \n",
      "0                     0.16924 -242.358147  \n",
      "23\n"
     ]
    },
    {
     "name": "stderr",
     "output_type": "stream",
     "text": [
      "Info: Params [ 1.69206859  3.11757191 10.          9.03645772  0.87676555  0.20689954\n",
      "  0.27621698] gave -1134.5857261582603\n"
     ]
    },
    {
     "name": "stdout",
     "output_type": "stream",
     "text": [
      "   Drift Rate Speed  Drift Rate Accuracy  Self-excitation Speed  \\\n",
      "0          1.692069             3.117572                   10.0   \n",
      "\n",
      "   Self-excitation Accuracy  Boundary Separation  Non-decision Time Speed  \\\n",
      "0                  9.036458             0.876766                   0.2069   \n",
      "\n",
      "   Non-decision Time Accuracy          BIC  \n",
      "0                    0.276217 -1134.585726  \n",
      "24\n"
     ]
    },
    {
     "name": "stderr",
     "output_type": "stream",
     "text": [
      "Info: Params [1.94027934 3.69691953 9.18628107 6.89789678 1.46580569 0.20754031\n",
      " 0.26685286] gave -876.6253384088068\n"
     ]
    },
    {
     "name": "stdout",
     "output_type": "stream",
     "text": [
      "   Drift Rate Speed  Drift Rate Accuracy  Self-excitation Speed  \\\n",
      "0          1.940279              3.69692               9.186281   \n",
      "\n",
      "   Self-excitation Accuracy  Boundary Separation  Non-decision Time Speed  \\\n",
      "0                  6.897897             1.465806                  0.20754   \n",
      "\n",
      "   Non-decision Time Accuracy         BIC  \n",
      "0                    0.266853 -876.625338  \n",
      "25\n"
     ]
    },
    {
     "name": "stderr",
     "output_type": "stream",
     "text": [
      "Info: Params [0.63942772 2.55020456 8.10910141 6.79318201 1.65862961 0.10186105\n",
      " 0.22575169] gave -547.5657242023727\n"
     ]
    },
    {
     "name": "stdout",
     "output_type": "stream",
     "text": [
      "   Drift Rate Speed  Drift Rate Accuracy  Self-excitation Speed  \\\n",
      "0          0.639428             2.550205               8.109101   \n",
      "\n",
      "   Self-excitation Accuracy  Boundary Separation  Non-decision Time Speed  \\\n",
      "0                  6.793182              1.65863                 0.101861   \n",
      "\n",
      "   Non-decision Time Accuracy         BIC  \n",
      "0                    0.225752 -547.565724  \n",
      "26\n"
     ]
    },
    {
     "name": "stderr",
     "output_type": "stream",
     "text": [
      "Info: Params [6.         2.57617826 1.09201769 6.53424238 2.76338057 0.10562693\n",
      " 0.17930811] gave -242.29230936755908\n"
     ]
    },
    {
     "name": "stdout",
     "output_type": "stream",
     "text": [
      "   Drift Rate Speed  Drift Rate Accuracy  Self-excitation Speed  \\\n",
      "0               6.0             2.576178               1.092018   \n",
      "\n",
      "   Self-excitation Accuracy  Boundary Separation  Non-decision Time Speed  \\\n",
      "0                  6.534242             2.763381                 0.105627   \n",
      "\n",
      "   Non-decision Time Accuracy         BIC  \n",
      "0                    0.179308 -242.292309  \n",
      "27\n"
     ]
    },
    {
     "name": "stderr",
     "output_type": "stream",
     "text": [
      "Info: Params [2.28791395 3.67148617 8.35092785 7.61556838 0.87442907 0.23218679\n",
      " 0.26905384] gave -939.2213279875183\n"
     ]
    },
    {
     "name": "stdout",
     "output_type": "stream",
     "text": [
      "   Drift Rate Speed  Drift Rate Accuracy  Self-excitation Speed  \\\n",
      "0          2.287914             3.671486               8.350928   \n",
      "\n",
      "   Self-excitation Accuracy  Boundary Separation  Non-decision Time Speed  \\\n",
      "0                  7.615568             0.874429                 0.232187   \n",
      "\n",
      "   Non-decision Time Accuracy         BIC  \n",
      "0                    0.269054 -939.221328  \n",
      "28\n"
     ]
    },
    {
     "name": "stderr",
     "output_type": "stream",
     "text": [
      "Info: Params [2.82907302 3.25981507 6.37324571 6.10714146 0.55884406 0.28201324\n",
      " 0.30489268] gave -950.3872166364854\n"
     ]
    },
    {
     "name": "stdout",
     "output_type": "stream",
     "text": [
      "   Drift Rate Speed  Drift Rate Accuracy  Self-excitation Speed  \\\n",
      "0          2.829073             3.259815               6.373246   \n",
      "\n",
      "   Self-excitation Accuracy  Boundary Separation  Non-decision Time Speed  \\\n",
      "0                  6.107141             0.558844                 0.282013   \n",
      "\n",
      "   Non-decision Time Accuracy         BIC  \n",
      "0                    0.304893 -950.387217  \n",
      "29\n"
     ]
    },
    {
     "name": "stderr",
     "output_type": "stream",
     "text": [
      "Info: Params [2.96521393 2.75165249 6.19614667 5.35529004 0.83543117 0.29615197\n",
      " 0.29816266] gave -781.4508682354441\n"
     ]
    },
    {
     "name": "stdout",
     "output_type": "stream",
     "text": [
      "   Drift Rate Speed  Drift Rate Accuracy  Self-excitation Speed  \\\n",
      "0          2.965214             2.751652               6.196147   \n",
      "\n",
      "   Self-excitation Accuracy  Boundary Separation  Non-decision Time Speed  \\\n",
      "0                   5.35529             0.835431                 0.296152   \n",
      "\n",
      "   Non-decision Time Accuracy         BIC  \n",
      "0                    0.298163 -781.450868  \n",
      "30\n"
     ]
    },
    {
     "name": "stderr",
     "output_type": "stream",
     "text": [
      "Info: Params [1.41486625 3.84152053 7.08532617 5.13434039 1.9614492  0.14712\n",
      " 0.21296829] gave -336.6229735662803\n"
     ]
    },
    {
     "name": "stdout",
     "output_type": "stream",
     "text": [
      "   Drift Rate Speed  Drift Rate Accuracy  Self-excitation Speed  \\\n",
      "0          1.414866             3.841521               7.085326   \n",
      "\n",
      "   Self-excitation Accuracy  Boundary Separation  Non-decision Time Speed  \\\n",
      "0                   5.13434             1.961449                  0.14712   \n",
      "\n",
      "   Non-decision Time Accuracy         BIC  \n",
      "0                    0.212968 -336.622974  \n",
      "31\n"
     ]
    },
    {
     "name": "stderr",
     "output_type": "stream",
     "text": [
      "Info: Params [ 1.61730271  4.09586483 10.          6.45852767  1.36153618  0.2048155\n",
      "  0.25314018] gave -1317.503776500952\n"
     ]
    },
    {
     "name": "stdout",
     "output_type": "stream",
     "text": [
      "   Drift Rate Speed  Drift Rate Accuracy  Self-excitation Speed  \\\n",
      "0          1.617303             4.095865                   10.0   \n",
      "\n",
      "   Self-excitation Accuracy  Boundary Separation  Non-decision Time Speed  \\\n",
      "0                  6.458528             1.361536                 0.204816   \n",
      "\n",
      "   Non-decision Time Accuracy          BIC  \n",
      "0                     0.25314 -1317.503777  \n"
     ]
    }
   ],
   "source": [
    "%run Dutilh2013-OUM2v2k2ter-pyddm.ipynb"
   ]
  },
  {
   "cell_type": "code",
   "execution_count": null,
   "id": "fe5ff318",
   "metadata": {},
   "outputs": [],
   "source": []
  }
 ],
 "metadata": {
  "kernelspec": {
   "display_name": "Python 3 (ipykernel)",
   "language": "python",
   "name": "python3"
  },
  "language_info": {
   "codemirror_mode": {
    "name": "ipython",
    "version": 3
   },
   "file_extension": ".py",
   "mimetype": "text/x-python",
   "name": "python",
   "nbconvert_exporter": "python",
   "pygments_lexer": "ipython3",
   "version": "3.7.15"
  }
 },
 "nbformat": 4,
 "nbformat_minor": 5
}
