{
 "cells": [
  {
   "cell_type": "code",
   "execution_count": 2,
   "id": "ae4aab0b",
   "metadata": {},
   "outputs": [],
   "source": [
    "%run SAT_help_functions.ipynb"
   ]
  },
  {
   "cell_type": "code",
   "execution_count": 146,
   "id": "1ce59edf",
   "metadata": {},
   "outputs": [],
   "source": [
    "prior = utils.BoxUniform(low  =[1, 1, 0,0], \n",
    "                         high =[1, 1, 4,0])\n",
    "\n",
    "param = np.array(prior.sample((n_sim,)))\n",
    "param[:,2] = np.arange(-5, 10)"
   ]
  },
  {
   "cell_type": "code",
   "execution_count": 147,
   "id": "23203081",
   "metadata": {},
   "outputs": [
    {
     "data": {
      "text/plain": [
       "array([[ 1.,  1., -5.,  0.],\n",
       "       [ 1.,  1., -4.,  0.],\n",
       "       [ 1.,  1., -3.,  0.],\n",
       "       [ 1.,  1., -2.,  0.],\n",
       "       [ 1.,  1., -1.,  0.],\n",
       "       [ 1.,  1.,  0.,  0.],\n",
       "       [ 1.,  1.,  1.,  0.],\n",
       "       [ 1.,  1.,  2.,  0.],\n",
       "       [ 1.,  1.,  3.,  0.],\n",
       "       [ 1.,  1.,  4.,  0.],\n",
       "       [ 1.,  1.,  5.,  0.],\n",
       "       [ 1.,  1.,  6.,  0.],\n",
       "       [ 1.,  1.,  7.,  0.],\n",
       "       [ 1.,  1.,  8.,  0.],\n",
       "       [ 1.,  1.,  9.,  0.]], dtype=float32)"
      ]
     },
     "execution_count": 147,
     "metadata": {},
     "output_type": "execute_result"
    }
   ],
   "source": [
    "param"
   ]
  },
  {
   "cell_type": "code",
   "execution_count": null,
   "id": "5a78b2cd",
   "metadata": {},
   "outputs": [],
   "source": []
  },
  {
   "cell_type": "code",
   "execution_count": 155,
   "id": "bfd21fcc",
   "metadata": {},
   "outputs": [
    {
     "data": {
      "text/plain": [
       "5635"
      ]
     },
     "execution_count": 155,
     "metadata": {},
     "output_type": "execute_result"
    }
   ],
   "source": [
    "sum(data[\"choice\"])"
   ]
  },
  {
   "cell_type": "code",
   "execution_count": 183,
   "id": "cb2fc126",
   "metadata": {},
   "outputs": [],
   "source": [
    "T_dur=5\n",
    "n_trials = 10000\n",
    "def get_mean_RT(x, T_dur, n_trials):\n",
    "    return np.mean((x[\"RT\"]*len(x)+T_dur*(n_trials-len(x)))/n_trials)\n",
    "def get_mean_cor_RT(x, T_dur, n_trials):\n",
    "    x = x[x[\"choice\"]==1]\n",
    "    return np.mean(x[\"RT\"])\n",
    "def get_acc(x, T_dur, n_trials):\n",
    "    return sum(x[\"choice\"])/n_trials\n"
   ]
  },
  {
   "cell_type": "code",
   "execution_count": null,
   "id": "2eeaf2c7",
   "metadata": {},
   "outputs": [],
   "source": []
  },
  {
   "cell_type": "code",
   "execution_count": 184,
   "id": "8e1a2e99",
   "metadata": {},
   "outputs": [
    {
     "name": "stdout",
     "output_type": "stream",
     "text": [
      "     k        RT  choice\n",
      "0 -5.0  2.282808  0.5674\n",
      "     k        RT  choice\n",
      "0 -4.0  2.029042  0.7627\n",
      "     k        RT  choice\n",
      "0 -3.0  1.672451  0.8846\n"
     ]
    },
    {
     "name": "stderr",
     "output_type": "stream",
     "text": [
      "/var/folders/5g/vqmn12yd48z6l6jf2s2yy62r0000gn/T/ipykernel_87860/3906931034.py:18: FutureWarning: The behavior of DataFrame concatenation with empty or all-NA entries is deprecated. In a future version, this will no longer exclude empty or all-NA columns when determining the result dtypes. To retain the old behavior, exclude the relevant entries before the concat operation.\n",
      "  df_all = pd.concat((df_all,df))\n"
     ]
    },
    {
     "name": "stdout",
     "output_type": "stream",
     "text": [
      "     k        RT  choice\n",
      "0 -2.0  1.292188  0.9224\n",
      "     k        RT  choice\n",
      "0 -1.0  0.994949  0.9126\n",
      "     k        RT  choice\n",
      "0  0.0  0.751012  0.8812\n",
      "     k        RT  choice\n",
      "0  1.0  0.604036  0.8528\n",
      "     k        RT  choice\n",
      "0  2.0  0.501331  0.8138\n",
      "     k       RT  choice\n",
      "0  3.0  0.41215  0.7878\n",
      "     k        RT  choice\n",
      "0  4.0  0.353258  0.7633\n",
      "     k        RT  choice\n",
      "0  5.0  0.311918   0.736\n",
      "     k        RT  choice\n",
      "0  6.0  0.280142  0.7184\n",
      "     k        RT  choice\n",
      "0  7.0  0.253256   0.696\n",
      "     k       RT  choice\n",
      "0  8.0  0.22835  0.6798\n",
      "     k        RT  choice\n",
      "0  9.0  0.210188  0.6839\n"
     ]
    }
   ],
   "source": [
    "df_all = pd.DataFrame(columns = ['k','choice','RT'])\n",
    "T_dur=5\n",
    "n_trials = 10000\n",
    "n_sim = 15\n",
    "\n",
    "for i in range(n_sim):\n",
    "    model = Model(name='Simple model',\n",
    "                  drift=DriftLinear(drift = param[i,0],x=param[i,2], t=0),\n",
    "                  noise=NoiseConstant(noise =1),\n",
    "                  bound=BoundConstant(B=param[i,1]),\n",
    "                  overlay=OverlayNonDecision(nondectime=param[i,3]),\n",
    "                  dx=.001, dt=.001, T_dur=T_dur)\n",
    "    \n",
    "    samp = model.solve().resample(n_trials)\n",
    "    data = samp.to_pandas_dataframe(drop_undecided = True)\n",
    "    df = pd.DataFrame(np.array((param[i,2], get_mean_cor_RT(data, T_dur, n_trials), get_acc(data, T_dur, n_trials))).reshape(1,3), columns=['k','RT','choice'])\n",
    "    print(df)\n",
    "    df_all = pd.concat((df_all,df))"
   ]
  },
  {
   "cell_type": "code",
   "execution_count": 163,
   "id": "a76ca8d4",
   "metadata": {},
   "outputs": [
    {
     "data": {
      "text/html": [
       "<div>\n",
       "<style scoped>\n",
       "    .dataframe tbody tr th:only-of-type {\n",
       "        vertical-align: middle;\n",
       "    }\n",
       "\n",
       "    .dataframe tbody tr th {\n",
       "        vertical-align: top;\n",
       "    }\n",
       "\n",
       "    .dataframe thead th {\n",
       "        text-align: right;\n",
       "    }\n",
       "</style>\n",
       "<table border=\"1\" class=\"dataframe\">\n",
       "  <thead>\n",
       "    <tr style=\"text-align: right;\">\n",
       "      <th></th>\n",
       "      <th>k</th>\n",
       "      <th>choice</th>\n",
       "      <th>RT</th>\n",
       "    </tr>\n",
       "  </thead>\n",
       "  <tbody>\n",
       "    <tr>\n",
       "      <th>0</th>\n",
       "      <td>-5.0</td>\n",
       "      <td>0.5581</td>\n",
       "      <td>3.424490</td>\n",
       "    </tr>\n",
       "    <tr>\n",
       "      <th>0</th>\n",
       "      <td>-4.0</td>\n",
       "      <td>0.7583</td>\n",
       "      <td>2.645062</td>\n",
       "    </tr>\n",
       "    <tr>\n",
       "      <th>0</th>\n",
       "      <td>-3.0</td>\n",
       "      <td>0.8843</td>\n",
       "      <td>1.912395</td>\n",
       "    </tr>\n",
       "    <tr>\n",
       "      <th>0</th>\n",
       "      <td>-2.0</td>\n",
       "      <td>0.9197</td>\n",
       "      <td>1.347719</td>\n",
       "    </tr>\n",
       "    <tr>\n",
       "      <th>0</th>\n",
       "      <td>-1.0</td>\n",
       "      <td>0.9100</td>\n",
       "      <td>0.994628</td>\n",
       "    </tr>\n",
       "    <tr>\n",
       "      <th>0</th>\n",
       "      <td>0.0</td>\n",
       "      <td>0.8812</td>\n",
       "      <td>0.764096</td>\n",
       "    </tr>\n",
       "    <tr>\n",
       "      <th>0</th>\n",
       "      <td>1.0</td>\n",
       "      <td>0.8474</td>\n",
       "      <td>0.609448</td>\n",
       "    </tr>\n",
       "    <tr>\n",
       "      <th>0</th>\n",
       "      <td>2.0</td>\n",
       "      <td>0.8120</td>\n",
       "      <td>0.499384</td>\n",
       "    </tr>\n",
       "    <tr>\n",
       "      <th>0</th>\n",
       "      <td>3.0</td>\n",
       "      <td>0.7909</td>\n",
       "      <td>0.424284</td>\n",
       "    </tr>\n",
       "    <tr>\n",
       "      <th>0</th>\n",
       "      <td>4.0</td>\n",
       "      <td>0.7566</td>\n",
       "      <td>0.369498</td>\n",
       "    </tr>\n",
       "    <tr>\n",
       "      <th>0</th>\n",
       "      <td>5.0</td>\n",
       "      <td>0.7372</td>\n",
       "      <td>0.322616</td>\n",
       "    </tr>\n",
       "    <tr>\n",
       "      <th>0</th>\n",
       "      <td>6.0</td>\n",
       "      <td>0.7164</td>\n",
       "      <td>0.288152</td>\n",
       "    </tr>\n",
       "    <tr>\n",
       "      <th>0</th>\n",
       "      <td>7.0</td>\n",
       "      <td>0.7017</td>\n",
       "      <td>0.263195</td>\n",
       "    </tr>\n",
       "    <tr>\n",
       "      <th>0</th>\n",
       "      <td>8.0</td>\n",
       "      <td>0.6961</td>\n",
       "      <td>0.240355</td>\n",
       "    </tr>\n",
       "    <tr>\n",
       "      <th>0</th>\n",
       "      <td>9.0</td>\n",
       "      <td>0.6844</td>\n",
       "      <td>0.221201</td>\n",
       "    </tr>\n",
       "  </tbody>\n",
       "</table>\n",
       "</div>"
      ],
      "text/plain": [
       "     k  choice        RT\n",
       "0 -5.0  0.5581  3.424490\n",
       "0 -4.0  0.7583  2.645062\n",
       "0 -3.0  0.8843  1.912395\n",
       "0 -2.0  0.9197  1.347719\n",
       "0 -1.0  0.9100  0.994628\n",
       "0  0.0  0.8812  0.764096\n",
       "0  1.0  0.8474  0.609448\n",
       "0  2.0  0.8120  0.499384\n",
       "0  3.0  0.7909  0.424284\n",
       "0  4.0  0.7566  0.369498\n",
       "0  5.0  0.7372  0.322616\n",
       "0  6.0  0.7164  0.288152\n",
       "0  7.0  0.7017  0.263195\n",
       "0  8.0  0.6961  0.240355\n",
       "0  9.0  0.6844  0.221201"
      ]
     },
     "execution_count": 163,
     "metadata": {},
     "output_type": "execute_result"
    }
   ],
   "source": [
    "df_all"
   ]
  },
  {
   "cell_type": "code",
   "execution_count": 185,
   "id": "636a3f3b",
   "metadata": {},
   "outputs": [
    {
     "data": {
      "text/plain": [
       "Text(0, 0.5, 'Accuracy')"
      ]
     },
     "execution_count": 185,
     "metadata": {},
     "output_type": "execute_result"
    },
    {
     "data": {
      "image/png": "[encoded data removed]",
      "text/plain": [
       "<Figure size 640x480 with 1 Axes>"
      ]
     },
     "metadata": {},
     "output_type": "display_data"
    }
   ],
   "source": [
    "sns.scatterplot(x=df_all['RT'], y=df_all['choice'],hue = df_all['k'])\n",
    "cmap = sns.diverging_palette(240, 10, l=65, center=\"dark\", as_cmap=True)\n",
    "\n",
    "plt.xlabel(\"Mean RT\")\n",
    "plt.ylabel(\"Accuracy\")"
   ]
  },
  {
   "cell_type": "code",
   "execution_count": null,
   "id": "fcc2efac",
   "metadata": {},
   "outputs": [],
   "source": [
    "df_all['k_binned'] = pd.cut(df_all['k'], bins=10)  # Adjust 'bins' as needed\n",
    "\n",
    "# Then plot using 'k_binned' as the hue\n",
    "g = sns.relplot(\n",
    "    data=df_all,\n",
    "    x=\"RT\", y=\"choice\",\n",
    "    hue=\"k_binned\",  # Use the binned variable for hue\n",
    "    palette=\"cubehelix\"  # Adjust palette as needed\n",
    ")"
   ]
  },
  {
   "cell_type": "code",
   "execution_count": null,
   "id": "22ae0c0a",
   "metadata": {},
   "outputs": [],
   "source": []
  },
  {
   "cell_type": "code",
   "execution_count": 179,
   "id": "15b03167",
   "metadata": {},
   "outputs": [
    {
     "data": {
      "image/png": "[encoded data removed]",
      "text/plain": [
       "<Figure size 585.125x500 with 1 Axes>"
      ]
     },
     "metadata": {},
     "output_type": "display_data"
    }
   ],
   "source": [
    "sns.set_theme(style=\"whitegrid\")\n",
    "\n",
    "# Load the example planets dataset\n",
    "\n",
    "cmap = sns.cubehelix_palette(n_colors=6, as_cmap=True)\n",
    "g = sns.relplot(\n",
    "    data=df_all,\n",
    "    x=\"RT\", y=\"choice\",\n",
    "    hue=\"k\",\n",
    "    palette=cmap,\n",
    ")\n",
    "g.ax.xaxis.grid(True, \"minor\", linewidth=.5)\n",
    "g.ax.yaxis.grid(True, \"minor\", linewidth=.5)\n",
    "g.despine(left=True, bottom=True)\n",
    "plt.xlabel(\"Mean RT\")\n",
    "plt.ylabel(\"Accuracy\")\n",
    "g._legend.set_title(\"Self-excitation\")\n"
   ]
  },
  {
   "cell_type": "code",
   "execution_count": null,
   "id": "ceede25e",
   "metadata": {},
   "outputs": [],
   "source": []
  },
  {
   "cell_type": "code",
   "execution_count": null,
   "id": "739bbc1d",
   "metadata": {},
   "outputs": [],
   "source": []
  }
 ],
 "metadata": {
  "kernelspec": {
   "display_name": "Python 3 (ipykernel)",
   "language": "python",
   "name": "python3"
  },
  "language_info": {
   "codemirror_mode": {
    "name": "ipython",
    "version": 3
   },
   "file_extension": ".py",
   "mimetype": "text/x-python",
   "name": "python",
   "nbconvert_exporter": "python",
   "pygments_lexer": "ipython3",
   "version": "3.11.4"
  }
 },
 "nbformat": 4,
 "nbformat_minor": 5
}
