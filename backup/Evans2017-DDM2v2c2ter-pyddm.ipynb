{
 "cells": [
  {
   "cell_type": "code",
   "execution_count": 1,
   "id": "2cda49de",
   "metadata": {},
   "outputs": [],
   "source": [
    "%run SAT_help_functions.ipynb"
   ]
  },
  {
   "cell_type": "code",
   "execution_count": null,
   "id": "bc081cf9",
   "metadata": {},
   "outputs": [],
   "source": []
  },
  {
   "cell_type": "markdown",
   "id": "4bd26666",
   "metadata": {},
   "source": [
    "## OUM"
   ]
  },
  {
   "cell_type": "code",
   "execution_count": null,
   "id": "9ef6c434",
   "metadata": {},
   "outputs": [],
   "source": []
  },
  {
   "cell_type": "code",
   "execution_count": 2,
   "id": "e776257c",
   "metadata": {},
   "outputs": [],
   "source": [
    "data_dir = \"/Users/wangjiashun/Desktop/Reserach on SAT/datasets/Evans2021/Evans2017/dataBySubject/sub\"\n",
    "sample_size = 47\n",
    "SAT_conds = [\"Speed\", \"Accuracy\"]"
   ]
  },
  {
   "cell_type": "code",
   "execution_count": 3,
   "id": "4531e903",
   "metadata": {},
   "outputs": [],
   "source": [
    "\n",
    "class DriftConstantSpeedAcc(Drift):\n",
    "    name = \"DriftConstantSpeedAcc\"\n",
    "    required_parameters = [\"Vspeed\",\"Vacc\"]\n",
    "    required_conditions = ['Cond']\n",
    "        \n",
    "    def get_drift(self, x, t, conditions, **kwargs):\n",
    "        if conditions['Cond'] == 'Speed':\n",
    "            return self.Vspeed\n",
    "        elif conditions['Cond'] == 'Accuracy':\n",
    "            return self.Vacc\n",
    "\n",
    "class BoundCollapsingLinearSAT(BoundCollapsingLinear):\n",
    "    name = \"BoundSpeedAcc\"\n",
    "    required_parameters = [\"B\", \"cSpeed\", 'cAcc']\n",
    "    required_conditions = ['Cond']\n",
    "        \n",
    "    def get_bound(self, t, conditions, **kwargs):\n",
    "        if conditions['Cond'] == 'Speed':\n",
    "            return max(self.B - self.cSpeed*t, 0.)\n",
    "        elif conditions['Cond'] == 'Accuracy':\n",
    "            return max(self.B - self.cAcc*t, 0.)\n",
    "\n",
    "class NondecisionSpeedAcc(OverlayNonDecision):\n",
    "    name = \"NondecisionSpeedAcc\"\n",
    "    required_parameters = [\"tSpeed\", 'tAcc']\n",
    "    required_conditions = ['Cond']\n",
    "        \n",
    "    def get_nondecision_time(self, conditions, **kwargs):\n",
    "        if conditions['Cond'] == 'Speed':\n",
    "            return self.tSpeed \n",
    "        elif conditions['Cond'] == 'Accuracy':\n",
    "            return self.tAcc"
   ]
  },
  {
   "cell_type": "code",
   "execution_count": null,
   "id": "81235d16",
   "metadata": {},
   "outputs": [],
   "source": []
  },
  {
   "cell_type": "code",
   "execution_count": null,
   "id": "8a3f5185",
   "metadata": {},
   "outputs": [],
   "source": []
  },
  {
   "cell_type": "code",
   "execution_count": 4,
   "id": "fdb13001",
   "metadata": {
    "scrolled": true
   },
   "outputs": [
    {
     "name": "stderr",
     "output_type": "stream",
     "text": [
      "Warning: This function (from_pandas_dataframe()) is deprecated and will be removed in a future version of PyDDM.  Please use the choice_column_name argument instead.\n"
     ]
    },
    {
     "name": "stdout",
     "output_type": "stream",
     "text": [
      "0\n"
     ]
    },
    {
     "name": "stderr",
     "output_type": "stream",
     "text": [
      "Info: Params [7.00590427e-01 7.99997073e-01 8.28706296e-01 5.73489044e-01\n",
      " 2.52851693e-05 2.66645502e-01 4.01234593e-01] gave 526.0927386839003\n",
      "Warning: This function (from_pandas_dataframe()) is deprecated and will be removed in a future version of PyDDM.  Please use the choice_column_name argument instead.\n"
     ]
    },
    {
     "name": "stdout",
     "output_type": "stream",
     "text": [
      "    Vspeed      Vacc  Boundary Separation  Collapse Speed  Collapse Accuracy  \\\n",
      "0  0.70059  0.799997             0.828706        0.573489           0.000025   \n",
      "\n",
      "   Non-decision Time Speed  Non-decision Time Accuracy         BIC  \n",
      "0                 0.266646                    0.401235  526.092739  \n",
      "1\n"
     ]
    },
    {
     "name": "stderr",
     "output_type": "stream",
     "text": [
      "Info: Params [2.82832945e+00 9.19883882e-01 1.13379118e+00 1.12857060e+00\n",
      " 6.74717548e-04 3.67875535e-01 4.43668047e-01] gave 281.6755503193898\n",
      "Warning: This function (from_pandas_dataframe()) is deprecated and will be removed in a future version of PyDDM.  Please use the choice_column_name argument instead.\n"
     ]
    },
    {
     "name": "stdout",
     "output_type": "stream",
     "text": [
      "     Vspeed      Vacc  Boundary Separation  Collapse Speed  Collapse Accuracy  \\\n",
      "0  2.828329  0.919884             1.133791        1.128571           0.000675   \n",
      "\n",
      "   Non-decision Time Speed  Non-decision Time Accuracy        BIC  \n",
      "0                 0.367876                    0.443668  281.67555  \n",
      "2\n"
     ]
    },
    {
     "name": "stderr",
     "output_type": "stream",
     "text": [
      "Info: Params [1.26387358e+00 9.92543357e-01 7.96405255e-01 3.27214189e-01\n",
      " 2.60352678e-04 2.11060484e-01 3.48395037e-01] gave 243.03830208203337\n",
      "Warning: This function (from_pandas_dataframe()) is deprecated and will be removed in a future version of PyDDM.  Please use the choice_column_name argument instead.\n"
     ]
    },
    {
     "name": "stdout",
     "output_type": "stream",
     "text": [
      "     Vspeed      Vacc  Boundary Separation  Collapse Speed  Collapse Accuracy  \\\n",
      "0  1.263874  0.992543             0.796405        0.327214            0.00026   \n",
      "\n",
      "   Non-decision Time Speed  Non-decision Time Accuracy         BIC  \n",
      "0                  0.21106                    0.348395  243.038302  \n",
      "3\n"
     ]
    },
    {
     "name": "stderr",
     "output_type": "stream",
     "text": [
      "Info: Params [1.7508335  0.72175843 1.86002139 0.44878236 0.01639338 0.11857426\n",
      " 0.99856389] gave 917.9232709427147\n",
      "Warning: This function (from_pandas_dataframe()) is deprecated and will be removed in a future version of PyDDM.  Please use the choice_column_name argument instead.\n"
     ]
    },
    {
     "name": "stdout",
     "output_type": "stream",
     "text": [
      "     Vspeed      Vacc  Boundary Separation  Collapse Speed  Collapse Accuracy  \\\n",
      "0  1.750833  0.721758             1.860021        0.448782           0.016393   \n",
      "\n",
      "   Non-decision Time Speed  Non-decision Time Accuracy         BIC  \n",
      "0                 0.118574                    0.998564  917.923271  \n",
      "4\n"
     ]
    },
    {
     "name": "stderr",
     "output_type": "stream",
     "text": [
      "Info: Params [1.89711736e+00 9.92545798e-01 8.20394617e-01 6.74287886e-01\n",
      " 1.17196875e-03 3.37001259e-01 3.85919790e-01] gave 226.11324106159432\n",
      "Warning: This function (from_pandas_dataframe()) is deprecated and will be removed in a future version of PyDDM.  Please use the choice_column_name argument instead.\n"
     ]
    },
    {
     "name": "stdout",
     "output_type": "stream",
     "text": [
      "     Vspeed      Vacc  Boundary Separation  Collapse Speed  Collapse Accuracy  \\\n",
      "0  1.897117  0.992546             0.820395        0.674288           0.001172   \n",
      "\n",
      "   Non-decision Time Speed  Non-decision Time Accuracy         BIC  \n",
      "0                 0.337001                     0.38592  226.113241  \n",
      "5\n"
     ]
    },
    {
     "name": "stderr",
     "output_type": "stream",
     "text": [
      "Info: Params [1.33039798e+00 7.39187106e-01 7.65778120e-01 1.45315358e-02\n",
      " 5.57614711e-04 3.85992606e-01 5.25078249e-01] gave 506.1428202337504\n",
      "Warning: This function (from_pandas_dataframe()) is deprecated and will be removed in a future version of PyDDM.  Please use the choice_column_name argument instead.\n"
     ]
    },
    {
     "name": "stdout",
     "output_type": "stream",
     "text": [
      "     Vspeed      Vacc  Boundary Separation  Collapse Speed  Collapse Accuracy  \\\n",
      "0  1.330398  0.739187             0.765778        0.014532           0.000558   \n",
      "\n",
      "   Non-decision Time Speed  Non-decision Time Accuracy        BIC  \n",
      "0                 0.385993                    0.525078  506.14282  \n",
      "6\n"
     ]
    },
    {
     "name": "stderr",
     "output_type": "stream",
     "text": [
      "Info: Params [0.61969699 0.86819253 0.67390625 0.42156987 0.02606975 0.17981285\n",
      " 0.38579086] gave 335.04773867665165\n",
      "Warning: This function (from_pandas_dataframe()) is deprecated and will be removed in a future version of PyDDM.  Please use the choice_column_name argument instead.\n"
     ]
    },
    {
     "name": "stdout",
     "output_type": "stream",
     "text": [
      "     Vspeed      Vacc  Boundary Separation  Collapse Speed  Collapse Accuracy  \\\n",
      "0  0.619697  0.868193             0.673906         0.42157            0.02607   \n",
      "\n",
      "   Non-decision Time Speed  Non-decision Time Accuracy         BIC  \n",
      "0                 0.179813                    0.385791  335.047739  \n",
      "7\n"
     ]
    },
    {
     "name": "stderr",
     "output_type": "stream",
     "text": [
      "Info: Params [1.82315984e+00 1.55228170e+00 7.86943518e-01 7.26826153e-01\n",
      " 3.18790117e-04 3.96175535e-01 5.23010158e-01] gave -84.77240748958278\n",
      "Warning: This function (from_pandas_dataframe()) is deprecated and will be removed in a future version of PyDDM.  Please use the choice_column_name argument instead.\n"
     ]
    },
    {
     "name": "stdout",
     "output_type": "stream",
     "text": [
      "    Vspeed      Vacc  Boundary Separation  Collapse Speed  Collapse Accuracy  \\\n",
      "0  1.82316  1.552282             0.786944        0.726826           0.000319   \n",
      "\n",
      "   Non-decision Time Speed  Non-decision Time Accuracy        BIC  \n",
      "0                 0.396176                     0.52301 -84.772407  \n",
      "8\n"
     ]
    },
    {
     "name": "stderr",
     "output_type": "stream",
     "text": [
      "Info: Params [1.97235976 1.16862613 0.96813806 0.57534248 0.         0.42274833\n",
      " 0.47630448] gave 175.3681067268098\n",
      "Warning: This function (from_pandas_dataframe()) is deprecated and will be removed in a future version of PyDDM.  Please use the choice_column_name argument instead.\n"
     ]
    },
    {
     "name": "stdout",
     "output_type": "stream",
     "text": [
      "    Vspeed      Vacc  Boundary Separation  Collapse Speed  Collapse Accuracy  \\\n",
      "0  1.97236  1.168626             0.968138        0.575342                0.0   \n",
      "\n",
      "   Non-decision Time Speed  Non-decision Time Accuracy         BIC  \n",
      "0                 0.422748                    0.476304  175.368107  \n",
      "9\n"
     ]
    },
    {
     "name": "stderr",
     "output_type": "stream",
     "text": [
      "Info: Params [0.78682709 0.47894367 0.84590283 0.13392122 0.         0.33316826\n",
      " 0.40716848] gave 855.9133897749622\n",
      "Warning: This function (from_pandas_dataframe()) is deprecated and will be removed in a future version of PyDDM.  Please use the choice_column_name argument instead.\n"
     ]
    },
    {
     "name": "stdout",
     "output_type": "stream",
     "text": [
      "     Vspeed      Vacc  Boundary Separation  Collapse Speed  Collapse Accuracy  \\\n",
      "0  0.786827  0.478944             0.845903        0.133921                0.0   \n",
      "\n",
      "   Non-decision Time Speed  Non-decision Time Accuracy        BIC  \n",
      "0                 0.333168                    0.407168  855.91339  \n",
      "10\n"
     ]
    },
    {
     "name": "stderr",
     "output_type": "stream",
     "text": [
      "Info: Params [9.42744228e-01 3.27190503e-01 1.02942681e+00 3.57808006e-01\n",
      " 1.00149876e-03 2.99137864e-01 4.61366950e-01] gave 1001.8524729688121\n",
      "Warning: This function (from_pandas_dataframe()) is deprecated and will be removed in a future version of PyDDM.  Please use the choice_column_name argument instead.\n"
     ]
    },
    {
     "name": "stdout",
     "output_type": "stream",
     "text": [
      "     Vspeed      Vacc  Boundary Separation  Collapse Speed  Collapse Accuracy  \\\n",
      "0  0.942744  0.327191             1.029427        0.357808           0.001001   \n",
      "\n",
      "   Non-decision Time Speed  Non-decision Time Accuracy          BIC  \n",
      "0                 0.299138                    0.461367  1001.852473  \n",
      "11\n"
     ]
    },
    {
     "name": "stderr",
     "output_type": "stream",
     "text": [
      "Info: Params [0.8804246  0.73562988 0.92627677 0.52475247 0.         0.18468954\n",
      " 0.48946039] gave 698.0628383495485\n",
      "Warning: This function (from_pandas_dataframe()) is deprecated and will be removed in a future version of PyDDM.  Please use the choice_column_name argument instead.\n"
     ]
    },
    {
     "name": "stdout",
     "output_type": "stream",
     "text": [
      "     Vspeed     Vacc  Boundary Separation  Collapse Speed  Collapse Accuracy  \\\n",
      "0  0.880425  0.73563             0.926277        0.524752                0.0   \n",
      "\n",
      "   Non-decision Time Speed  Non-decision Time Accuracy         BIC  \n",
      "0                  0.18469                     0.48946  698.062838  \n",
      "12\n"
     ]
    },
    {
     "name": "stderr",
     "output_type": "stream",
     "text": [
      "Info: Params [1.54869480e+00 5.95463146e-01 1.04311014e+00 1.11998599e-01\n",
      " 1.41438054e-03 3.44940179e-01 4.84691081e-01] gave 791.21249138341\n",
      "Warning: This function (from_pandas_dataframe()) is deprecated and will be removed in a future version of PyDDM.  Please use the choice_column_name argument instead.\n"
     ]
    },
    {
     "name": "stdout",
     "output_type": "stream",
     "text": [
      "     Vspeed      Vacc  Boundary Separation  Collapse Speed  Collapse Accuracy  \\\n",
      "0  1.548695  0.595463              1.04311        0.111999           0.001414   \n",
      "\n",
      "   Non-decision Time Speed  Non-decision Time Accuracy         BIC  \n",
      "0                  0.34494                    0.484691  791.212491  \n",
      "13\n"
     ]
    },
    {
     "name": "stderr",
     "output_type": "stream",
     "text": [
      "Info: Params [0.54830447 0.5569668  0.9277144  0.05074471 0.         0.36604512\n",
      " 0.47504582] gave 1008.5114778967396\n",
      "Warning: This function (from_pandas_dataframe()) is deprecated and will be removed in a future version of PyDDM.  Please use the choice_column_name argument instead.\n"
     ]
    },
    {
     "name": "stdout",
     "output_type": "stream",
     "text": [
      "     Vspeed      Vacc  Boundary Separation  Collapse Speed  Collapse Accuracy  \\\n",
      "0  0.548304  0.556967             0.927714        0.050745                0.0   \n",
      "\n",
      "   Non-decision Time Speed  Non-decision Time Accuracy          BIC  \n",
      "0                 0.366045                    0.475046  1008.511478  \n",
      "14\n"
     ]
    },
    {
     "name": "stderr",
     "output_type": "stream",
     "text": [
      "Info: Params [0.61086411 0.39514507 1.02745017 0.60286735 0.0289137  0.15429395\n",
      " 0.29010797] gave 921.6244659537758\n",
      "Warning: This function (from_pandas_dataframe()) is deprecated and will be removed in a future version of PyDDM.  Please use the choice_column_name argument instead.\n"
     ]
    },
    {
     "name": "stdout",
     "output_type": "stream",
     "text": [
      "     Vspeed      Vacc  Boundary Separation  Collapse Speed  Collapse Accuracy  \\\n",
      "0  0.610864  0.395145              1.02745        0.602867           0.028914   \n",
      "\n",
      "   Non-decision Time Speed  Non-decision Time Accuracy         BIC  \n",
      "0                 0.154294                    0.290108  921.624466  \n",
      "15\n"
     ]
    },
    {
     "name": "stderr",
     "output_type": "stream",
     "text": [
      "Info: Params [1.58643142 0.79796466 1.02957716 0.27184941 0.00987353 0.32329164\n",
      " 0.48122656] gave 672.6223743909044\n",
      "Warning: This function (from_pandas_dataframe()) is deprecated and will be removed in a future version of PyDDM.  Please use the choice_column_name argument instead.\n"
     ]
    },
    {
     "name": "stdout",
     "output_type": "stream",
     "text": [
      "     Vspeed      Vacc  Boundary Separation  Collapse Speed  Collapse Accuracy  \\\n",
      "0  1.586431  0.797965             1.029577        0.271849           0.009874   \n",
      "\n",
      "   Non-decision Time Speed  Non-decision Time Accuracy         BIC  \n",
      "0                 0.323292                    0.481227  672.622374  \n",
      "16\n"
     ]
    },
    {
     "name": "stderr",
     "output_type": "stream",
     "text": [
      "Info: Params [1.68635377 0.78277788 1.03021565 0.26923076 0.         0.3264844\n",
      " 0.35530262] gave 691.998686875183\n",
      "Warning: This function (from_pandas_dataframe()) is deprecated and will be removed in a future version of PyDDM.  Please use the choice_column_name argument instead.\n"
     ]
    },
    {
     "name": "stdout",
     "output_type": "stream",
     "text": [
      "     Vspeed      Vacc  Boundary Separation  Collapse Speed  Collapse Accuracy  \\\n",
      "0  1.686354  0.782778             1.030216        0.269231                0.0   \n",
      "\n",
      "   Non-decision Time Speed  Non-decision Time Accuracy         BIC  \n",
      "0                 0.326484                    0.355303  691.998687  \n",
      "17\n"
     ]
    },
    {
     "name": "stderr",
     "output_type": "stream",
     "text": [
      "Info: Params [1.31949183e+00 5.46121452e-01 7.63304431e-01 2.47857459e-01\n",
      " 9.77385116e-04 3.52796907e-01 4.40200108e-01] gave 566.6606691243337\n",
      "Warning: This function (from_pandas_dataframe()) is deprecated and will be removed in a future version of PyDDM.  Please use the choice_column_name argument instead.\n"
     ]
    },
    {
     "name": "stdout",
     "output_type": "stream",
     "text": [
      "     Vspeed      Vacc  Boundary Separation  Collapse Speed  Collapse Accuracy  \\\n",
      "0  1.319492  0.546121             0.763304        0.247857           0.000977   \n",
      "\n",
      "   Non-decision Time Speed  Non-decision Time Accuracy         BIC  \n",
      "0                 0.352797                      0.4402  566.660669  \n",
      "18\n"
     ]
    },
    {
     "name": "stderr",
     "output_type": "stream",
     "text": [
      "Info: Params [1.07555032 0.67873804 0.87384204 0.21859987 0.0019142  0.31227747\n",
      " 0.30883843] gave 643.9402499026453\n",
      "Warning: This function (from_pandas_dataframe()) is deprecated and will be removed in a future version of PyDDM.  Please use the choice_column_name argument instead.\n"
     ]
    },
    {
     "name": "stdout",
     "output_type": "stream",
     "text": [
      "    Vspeed      Vacc  Boundary Separation  Collapse Speed  Collapse Accuracy  \\\n",
      "0  1.07555  0.678738             0.873842          0.2186           0.001914   \n",
      "\n",
      "   Non-decision Time Speed  Non-decision Time Accuracy        BIC  \n",
      "0                 0.312277                    0.308838  643.94025  \n",
      "19\n"
     ]
    },
    {
     "name": "stderr",
     "output_type": "stream",
     "text": [
      "Info: Params [0.49692134 0.38527611 1.28317961 0.13580252 0.04376246 0.12269165\n",
      " 0.25956151] gave 1297.4742828647163\n",
      "Warning: This function (from_pandas_dataframe()) is deprecated and will be removed in a future version of PyDDM.  Please use the choice_column_name argument instead.\n"
     ]
    },
    {
     "name": "stdout",
     "output_type": "stream",
     "text": [
      "     Vspeed      Vacc  Boundary Separation  Collapse Speed  Collapse Accuracy  \\\n",
      "0  0.496921  0.385276              1.28318        0.135803           0.043762   \n",
      "\n",
      "   Non-decision Time Speed  Non-decision Time Accuracy          BIC  \n",
      "0                 0.122692                    0.259562  1297.474283  \n",
      "20\n"
     ]
    },
    {
     "name": "stderr",
     "output_type": "stream",
     "text": [
      "Info: Params [2.15724367 1.13253614 0.87904455 1.21461146 0.         0.29796728\n",
      " 0.41250275] gave 113.05040134142449\n",
      "Warning: This function (from_pandas_dataframe()) is deprecated and will be removed in a future version of PyDDM.  Please use the choice_column_name argument instead.\n"
     ]
    },
    {
     "name": "stdout",
     "output_type": "stream",
     "text": [
      "     Vspeed      Vacc  Boundary Separation  Collapse Speed  Collapse Accuracy  \\\n",
      "0  2.157244  1.132536             0.879045        1.214611                0.0   \n",
      "\n",
      "   Non-decision Time Speed  Non-decision Time Accuracy         BIC  \n",
      "0                 0.297967                    0.412503  113.050401  \n",
      "21\n"
     ]
    },
    {
     "name": "stderr",
     "output_type": "stream",
     "text": [
      "Info: Params [1.89125686 1.12069212 0.99222535 0.65060233 0.         0.3247264\n",
      " 0.45721176] gave 335.8586358409166\n",
      "Warning: This function (from_pandas_dataframe()) is deprecated and will be removed in a future version of PyDDM.  Please use the choice_column_name argument instead.\n"
     ]
    },
    {
     "name": "stdout",
     "output_type": "stream",
     "text": [
      "     Vspeed      Vacc  Boundary Separation  Collapse Speed  Collapse Accuracy  \\\n",
      "0  1.891257  1.120692             0.992225        0.650602                0.0   \n",
      "\n",
      "   Non-decision Time Speed  Non-decision Time Accuracy         BIC  \n",
      "0                 0.324726                    0.457212  335.858636  \n",
      "22\n"
     ]
    },
    {
     "name": "stderr",
     "output_type": "stream",
     "text": [
      "Info: Params [1.11139023e+00 6.03351145e-01 8.92323904e-01 2.38529620e-01\n",
      " 3.05572446e-04 3.26060426e-01 4.96992317e-01] gave 771.173484217722\n",
      "Warning: This function (from_pandas_dataframe()) is deprecated and will be removed in a future version of PyDDM.  Please use the choice_column_name argument instead.\n"
     ]
    },
    {
     "name": "stdout",
     "output_type": "stream",
     "text": [
      "    Vspeed      Vacc  Boundary Separation  Collapse Speed  Collapse Accuracy  \\\n",
      "0  1.11139  0.603351             0.892324         0.23853           0.000306   \n",
      "\n",
      "   Non-decision Time Speed  Non-decision Time Accuracy         BIC  \n",
      "0                  0.32606                    0.496992  771.173484  \n",
      "23\n"
     ]
    },
    {
     "name": "stderr",
     "output_type": "stream",
     "text": [
      "Info: Params [1.08383501 0.48780447 1.2239782  0.42931121 0.00659218 0.35265191\n",
      " 0.53785642] gave 915.8735455381939\n",
      "Warning: This function (from_pandas_dataframe()) is deprecated and will be removed in a future version of PyDDM.  Please use the choice_column_name argument instead.\n"
     ]
    },
    {
     "name": "stdout",
     "output_type": "stream",
     "text": [
      "     Vspeed      Vacc  Boundary Separation  Collapse Speed  Collapse Accuracy  \\\n",
      "0  1.083835  0.487804             1.223978        0.429311           0.006592   \n",
      "\n",
      "   Non-decision Time Speed  Non-decision Time Accuracy         BIC  \n",
      "0                 0.352652                    0.537856  915.873546  \n",
      "24\n"
     ]
    },
    {
     "name": "stderr",
     "output_type": "stream",
     "text": [
      "Info: Params [0.9232916  0.96096961 0.95030744 0.14212318 0.00442279 0.29405956\n",
      " 0.46580335] gave 740.9974841023451\n",
      "Warning: This function (from_pandas_dataframe()) is deprecated and will be removed in a future version of PyDDM.  Please use the choice_column_name argument instead.\n"
     ]
    },
    {
     "name": "stdout",
     "output_type": "stream",
     "text": [
      "     Vspeed     Vacc  Boundary Separation  Collapse Speed  Collapse Accuracy  \\\n",
      "0  0.923292  0.96097             0.950307        0.142123           0.004423   \n",
      "\n",
      "   Non-decision Time Speed  Non-decision Time Accuracy         BIC  \n",
      "0                  0.29406                    0.465803  740.997484  \n",
      "25\n"
     ]
    },
    {
     "name": "stderr",
     "output_type": "stream",
     "text": [
      "Info: Params [2.18868857 1.11107365 0.96264296 1.0035722  0.02652176 0.44497449\n",
      " 0.54820437] gave 196.37547445349475\n",
      "Warning: This function (from_pandas_dataframe()) is deprecated and will be removed in a future version of PyDDM.  Please use the choice_column_name argument instead.\n"
     ]
    },
    {
     "name": "stdout",
     "output_type": "stream",
     "text": [
      "     Vspeed      Vacc  Boundary Separation  Collapse Speed  Collapse Accuracy  \\\n",
      "0  2.188689  1.111074             0.962643        1.003572           0.026522   \n",
      "\n",
      "   Non-decision Time Speed  Non-decision Time Accuracy         BIC  \n",
      "0                 0.444974                    0.548204  196.375474  \n",
      "26\n"
     ]
    },
    {
     "name": "stderr",
     "output_type": "stream",
     "text": [
      "Info: Params [0.82806483 0.83655482 0.85023861 1.01781503 0.00120063 0.25331598\n",
      " 0.61343309] gave 368.8257020794051\n",
      "Warning: This function (from_pandas_dataframe()) is deprecated and will be removed in a future version of PyDDM.  Please use the choice_column_name argument instead.\n"
     ]
    },
    {
     "name": "stdout",
     "output_type": "stream",
     "text": [
      "     Vspeed      Vacc  Boundary Separation  Collapse Speed  Collapse Accuracy  \\\n",
      "0  0.828065  0.836555             0.850239        1.017815           0.001201   \n",
      "\n",
      "   Non-decision Time Speed  Non-decision Time Accuracy         BIC  \n",
      "0                 0.253316                    0.613433  368.825702  \n",
      "27\n"
     ]
    },
    {
     "name": "stderr",
     "output_type": "stream",
     "text": [
      "Info: Params [1.93272855e+00 1.03814337e+00 7.22374839e-01 3.42033386e-01\n",
      " 2.74020179e-04 4.26701960e-01 5.63709062e-01] gave 171.91228447770527\n",
      "Warning: This function (from_pandas_dataframe()) is deprecated and will be removed in a future version of PyDDM.  Please use the choice_column_name argument instead.\n"
     ]
    },
    {
     "name": "stdout",
     "output_type": "stream",
     "text": [
      "     Vspeed      Vacc  Boundary Separation  Collapse Speed  Collapse Accuracy  \\\n",
      "0  1.932729  1.038143             0.722375        0.342033           0.000274   \n",
      "\n",
      "   Non-decision Time Speed  Non-decision Time Accuracy         BIC  \n",
      "0                 0.426702                    0.563709  171.912284  \n",
      "28\n"
     ]
    },
    {
     "name": "stderr",
     "output_type": "stream",
     "text": [
      "Info: Params [1.57772890e+00 1.32046685e+00 7.46113385e-01 8.29522017e-01\n",
      " 1.38214592e-04 3.07632198e-01 4.86881519e-01] gave -107.5632762355123\n",
      "Warning: This function (from_pandas_dataframe()) is deprecated and will be removed in a future version of PyDDM.  Please use the choice_column_name argument instead.\n"
     ]
    },
    {
     "name": "stdout",
     "output_type": "stream",
     "text": [
      "     Vspeed      Vacc  Boundary Separation  Collapse Speed  Collapse Accuracy  \\\n",
      "0  1.577729  1.320467             0.746113        0.829522           0.000138   \n",
      "\n",
      "   Non-decision Time Speed  Non-decision Time Accuracy         BIC  \n",
      "0                 0.307632                    0.486882 -107.563276  \n",
      "29\n"
     ]
    },
    {
     "name": "stderr",
     "output_type": "stream",
     "text": [
      "Info: Params [0.82094299 0.52764573 1.10453381 0.33070865 0.         0.42220446\n",
      " 0.72559141] gave 1008.8025728440194\n",
      "Warning: This function (from_pandas_dataframe()) is deprecated and will be removed in a future version of PyDDM.  Please use the choice_column_name argument instead.\n"
     ]
    },
    {
     "name": "stdout",
     "output_type": "stream",
     "text": [
      "     Vspeed      Vacc  Boundary Separation  Collapse Speed  Collapse Accuracy  \\\n",
      "0  0.820943  0.527646             1.104534        0.330709                0.0   \n",
      "\n",
      "   Non-decision Time Speed  Non-decision Time Accuracy          BIC  \n",
      "0                 0.422204                    0.725591  1008.802573  \n",
      "30\n"
     ]
    },
    {
     "name": "stderr",
     "output_type": "stream",
     "text": [
      "Info: Params [1.24760627e+00 1.34834893e+00 6.89033013e-01 2.75217355e-01\n",
      " 5.18671074e-04 2.95583178e-01 4.22567038e-01] gave 207.65626660516529\n",
      "Warning: This function (from_pandas_dataframe()) is deprecated and will be removed in a future version of PyDDM.  Please use the choice_column_name argument instead.\n"
     ]
    },
    {
     "name": "stdout",
     "output_type": "stream",
     "text": [
      "     Vspeed      Vacc  Boundary Separation  Collapse Speed  Collapse Accuracy  \\\n",
      "0  1.247606  1.348349             0.689033        0.275217           0.000519   \n",
      "\n",
      "   Non-decision Time Speed  Non-decision Time Accuracy         BIC  \n",
      "0                 0.295583                    0.422567  207.656267  \n",
      "31\n"
     ]
    },
    {
     "name": "stderr",
     "output_type": "stream",
     "text": [
      "Info: Params [1.45116909 1.21918936 0.98111746 0.09150306 0.         0.36027577\n",
      " 0.41701299] gave 563.7200205208782\n",
      "Warning: This function (from_pandas_dataframe()) is deprecated and will be removed in a future version of PyDDM.  Please use the choice_column_name argument instead.\n"
     ]
    },
    {
     "name": "stdout",
     "output_type": "stream",
     "text": [
      "     Vspeed      Vacc  Boundary Separation  Collapse Speed  Collapse Accuracy  \\\n",
      "0  1.451169  1.219189             0.981117        0.091503                0.0   \n",
      "\n",
      "   Non-decision Time Speed  Non-decision Time Accuracy         BIC  \n",
      "0                 0.360276                    0.417013  563.720021  \n",
      "32\n"
     ]
    },
    {
     "name": "stderr",
     "output_type": "stream",
     "text": [
      "Info: Params [1.74667658e+00 1.11206355e+00 8.66999150e-01 2.74646662e-01\n",
      " 2.39829529e-04 3.12408142e-01 4.90013764e-01] gave 307.3167878622122\n",
      "Warning: This function (from_pandas_dataframe()) is deprecated and will be removed in a future version of PyDDM.  Please use the choice_column_name argument instead.\n"
     ]
    },
    {
     "name": "stdout",
     "output_type": "stream",
     "text": [
      "     Vspeed      Vacc  Boundary Separation  Collapse Speed  Collapse Accuracy  \\\n",
      "0  1.746677  1.112064             0.866999        0.274647            0.00024   \n",
      "\n",
      "   Non-decision Time Speed  Non-decision Time Accuracy         BIC  \n",
      "0                 0.312408                    0.490014  307.316788  \n",
      "33\n"
     ]
    },
    {
     "name": "stderr",
     "output_type": "stream",
     "text": [
      "Info: Params [5.34506342e-01 1.19033950e+00 8.24693407e-01 5.40684873e-01\n",
      " 4.87424281e-04 1.50147646e-01 5.32220621e-01] gave 356.63370926485175\n",
      "Warning: This function (from_pandas_dataframe()) is deprecated and will be removed in a future version of PyDDM.  Please use the choice_column_name argument instead.\n"
     ]
    },
    {
     "name": "stdout",
     "output_type": "stream",
     "text": [
      "     Vspeed      Vacc  Boundary Separation  Collapse Speed  Collapse Accuracy  \\\n",
      "0  0.534506  1.190339             0.824693        0.540685           0.000487   \n",
      "\n",
      "   Non-decision Time Speed  Non-decision Time Accuracy         BIC  \n",
      "0                 0.150148                    0.532221  356.633709  \n",
      "34\n"
     ]
    },
    {
     "name": "stderr",
     "output_type": "stream",
     "text": [
      "Info: Params [1.39370584e+00 1.43296466e+00 6.26924641e-01 6.48557045e-01\n",
      " 8.70019137e-05 2.95461835e-01 3.68986792e-01] gave -97.57876299357541\n",
      "Warning: This function (from_pandas_dataframe()) is deprecated and will be removed in a future version of PyDDM.  Please use the choice_column_name argument instead.\n"
     ]
    },
    {
     "name": "stdout",
     "output_type": "stream",
     "text": [
      "     Vspeed      Vacc  Boundary Separation  Collapse Speed  Collapse Accuracy  \\\n",
      "0  1.393706  1.432965             0.626925        0.648557           0.000087   \n",
      "\n",
      "   Non-decision Time Speed  Non-decision Time Accuracy        BIC  \n",
      "0                 0.295462                    0.368987 -97.578763  \n",
      "35\n"
     ]
    },
    {
     "name": "stderr",
     "output_type": "stream",
     "text": [
      "Info: Params [1.55752126e+00 8.59346568e-01 7.96194018e-01 1.46046223e+00\n",
      " 2.56129354e-05 3.64177787e-01 5.26670774e-01] gave 103.54865016243883\n",
      "Warning: This function (from_pandas_dataframe()) is deprecated and will be removed in a future version of PyDDM.  Please use the choice_column_name argument instead.\n"
     ]
    },
    {
     "name": "stdout",
     "output_type": "stream",
     "text": [
      "     Vspeed      Vacc  Boundary Separation  Collapse Speed  Collapse Accuracy  \\\n",
      "0  1.557521  0.859347             0.796194        1.460462           0.000026   \n",
      "\n",
      "   Non-decision Time Speed  Non-decision Time Accuracy        BIC  \n",
      "0                 0.364178                    0.526671  103.54865  \n",
      "36\n"
     ]
    },
    {
     "name": "stderr",
     "output_type": "stream",
     "text": [
      "Info: Params [1.0521835  1.1513367  0.91126946 0.30208332 0.         0.27350315\n",
      " 0.39582618] gave 561.5263565378586\n",
      "Warning: This function (from_pandas_dataframe()) is deprecated and will be removed in a future version of PyDDM.  Please use the choice_column_name argument instead.\n"
     ]
    },
    {
     "name": "stdout",
     "output_type": "stream",
     "text": [
      "     Vspeed      Vacc  Boundary Separation  Collapse Speed  Collapse Accuracy  \\\n",
      "0  1.052184  1.151337             0.911269        0.302083                0.0   \n",
      "\n",
      "   Non-decision Time Speed  Non-decision Time Accuracy         BIC  \n",
      "0                 0.273503                    0.395826  561.526357  \n",
      "37\n"
     ]
    },
    {
     "name": "stderr",
     "output_type": "stream",
     "text": [
      "Info: Params [1.62694223 1.66068492 0.72743988 1.01851854 0.19531393 0.27874034\n",
      " 0.43825233] gave -60.40543150416494\n",
      "Warning: This function (from_pandas_dataframe()) is deprecated and will be removed in a future version of PyDDM.  Please use the choice_column_name argument instead.\n"
     ]
    },
    {
     "name": "stdout",
     "output_type": "stream",
     "text": [
      "     Vspeed      Vacc  Boundary Separation  Collapse Speed  Collapse Accuracy  \\\n",
      "0  1.626942  1.660685              0.72744        1.018519           0.195314   \n",
      "\n",
      "   Non-decision Time Speed  Non-decision Time Accuracy        BIC  \n",
      "0                  0.27874                    0.438252 -60.405432  \n",
      "38\n"
     ]
    },
    {
     "name": "stderr",
     "output_type": "stream",
     "text": [
      "Info: Params [1.95857811 1.75192532 0.73785109 0.69307981 0.0094002  0.29641832\n",
      " 0.48745355] gave -103.74927039329226\n",
      "Warning: This function (from_pandas_dataframe()) is deprecated and will be removed in a future version of PyDDM.  Please use the choice_column_name argument instead.\n"
     ]
    },
    {
     "name": "stdout",
     "output_type": "stream",
     "text": [
      "     Vspeed      Vacc  Boundary Separation  Collapse Speed  Collapse Accuracy  \\\n",
      "0  1.958578  1.751925             0.737851         0.69308             0.0094   \n",
      "\n",
      "   Non-decision Time Speed  Non-decision Time Accuracy        BIC  \n",
      "0                 0.296418                    0.487454 -103.74927  \n",
      "39\n"
     ]
    },
    {
     "name": "stderr",
     "output_type": "stream",
     "text": [
      "Info: Params [0.74473873 0.58368862 1.33237827 1.07336188 0.00589926 0.19337055\n",
      " 0.4804378 ] gave 682.5815169101762\n",
      "Warning: This function (from_pandas_dataframe()) is deprecated and will be removed in a future version of PyDDM.  Please use the choice_column_name argument instead.\n"
     ]
    },
    {
     "name": "stdout",
     "output_type": "stream",
     "text": [
      "     Vspeed      Vacc  Boundary Separation  Collapse Speed  Collapse Accuracy  \\\n",
      "0  0.744739  0.583689             1.332378        1.073362           0.005899   \n",
      "\n",
      "   Non-decision Time Speed  Non-decision Time Accuracy         BIC  \n",
      "0                 0.193371                    0.480438  682.581517  \n",
      "40\n"
     ]
    },
    {
     "name": "stderr",
     "output_type": "stream",
     "text": [
      "Info: Params [2.12823388 1.00482062 1.04904736 1.21052545 0.         0.30865122\n",
      " 0.5068838 ] gave 355.64549935204434\n",
      "Warning: This function (from_pandas_dataframe()) is deprecated and will be removed in a future version of PyDDM.  Please use the choice_column_name argument instead.\n"
     ]
    },
    {
     "name": "stdout",
     "output_type": "stream",
     "text": [
      "     Vspeed      Vacc  Boundary Separation  Collapse Speed  Collapse Accuracy  \\\n",
      "0  2.128234  1.004821             1.049047        1.210525                0.0   \n",
      "\n",
      "   Non-decision Time Speed  Non-decision Time Accuracy         BIC  \n",
      "0                 0.308651                    0.506884  355.645499  \n",
      "41\n"
     ]
    },
    {
     "name": "stderr",
     "output_type": "stream",
     "text": [
      "Info: Params [1.4449798  0.98007838 0.97153684 1.21428571 0.         0.28229307\n",
      " 0.38231294] gave 362.85811273959393\n",
      "Warning: This function (from_pandas_dataframe()) is deprecated and will be removed in a future version of PyDDM.  Please use the choice_column_name argument instead.\n"
     ]
    },
    {
     "name": "stdout",
     "output_type": "stream",
     "text": [
      "    Vspeed      Vacc  Boundary Separation  Collapse Speed  Collapse Accuracy  \\\n",
      "0  1.44498  0.980078             0.971537        1.214286                0.0   \n",
      "\n",
      "   Non-decision Time Speed  Non-decision Time Accuracy         BIC  \n",
      "0                 0.282293                    0.382313  362.858113  \n",
      "42\n"
     ]
    },
    {
     "name": "stderr",
     "output_type": "stream",
     "text": [
      "Info: Params [1.2385668  0.78387057 0.86254423 0.58415865 0.         0.33968072\n",
      " 0.41873407] gave 498.52048107095493\n",
      "Warning: This function (from_pandas_dataframe()) is deprecated and will be removed in a future version of PyDDM.  Please use the choice_column_name argument instead.\n"
     ]
    },
    {
     "name": "stdout",
     "output_type": "stream",
     "text": [
      "     Vspeed      Vacc  Boundary Separation  Collapse Speed  Collapse Accuracy  \\\n",
      "0  1.238567  0.783871             0.862544        0.584159                0.0   \n",
      "\n",
      "   Non-decision Time Speed  Non-decision Time Accuracy         BIC  \n",
      "0                 0.339681                    0.418734  498.520481  \n",
      "43\n"
     ]
    },
    {
     "name": "stderr",
     "output_type": "stream",
     "text": [
      "Info: Params [0.65512728 0.55517481 0.98485305 0.28385372 0.00363834 0.24430275\n",
      " 0.45912495] gave 1013.4363382521362\n",
      "Warning: This function (from_pandas_dataframe()) is deprecated and will be removed in a future version of PyDDM.  Please use the choice_column_name argument instead.\n"
     ]
    },
    {
     "name": "stdout",
     "output_type": "stream",
     "text": [
      "     Vspeed      Vacc  Boundary Separation  Collapse Speed  Collapse Accuracy  \\\n",
      "0  0.655127  0.555175             0.984853        0.283854           0.003638   \n",
      "\n",
      "   Non-decision Time Speed  Non-decision Time Accuracy          BIC  \n",
      "0                 0.244303                    0.459125  1013.436338  \n",
      "44\n"
     ]
    },
    {
     "name": "stderr",
     "output_type": "stream",
     "text": [
      "Info: Params [2.20481513e+00 1.03554532e+00 8.33844933e-01 1.95999449e-01\n",
      " 1.51007632e-03 3.45059088e-01 3.93574725e-01] gave 395.7812781193674\n",
      "Warning: This function (from_pandas_dataframe()) is deprecated and will be removed in a future version of PyDDM.  Please use the choice_column_name argument instead.\n"
     ]
    },
    {
     "name": "stdout",
     "output_type": "stream",
     "text": [
      "     Vspeed      Vacc  Boundary Separation  Collapse Speed  Collapse Accuracy  \\\n",
      "0  2.204815  1.035545             0.833845        0.195999            0.00151   \n",
      "\n",
      "   Non-decision Time Speed  Non-decision Time Accuracy         BIC  \n",
      "0                 0.345059                    0.393575  395.781278  \n",
      "45\n"
     ]
    },
    {
     "name": "stderr",
     "output_type": "stream",
     "text": [
      "Info: Params [1.24565190e+00 1.11412506e+00 8.55382235e-01 3.95463864e-01\n",
      " 1.55111759e-04 3.41571110e-01 4.13617626e-01] gave 378.04091559047174\n",
      "Warning: This function (from_pandas_dataframe()) is deprecated and will be removed in a future version of PyDDM.  Please use the choice_column_name argument instead.\n"
     ]
    },
    {
     "name": "stdout",
     "output_type": "stream",
     "text": [
      "     Vspeed      Vacc  Boundary Separation  Collapse Speed  Collapse Accuracy  \\\n",
      "0  1.245652  1.114125             0.855382        0.395464           0.000155   \n",
      "\n",
      "   Non-decision Time Speed  Non-decision Time Accuracy         BIC  \n",
      "0                 0.341571                    0.413618  378.040916  \n",
      "46\n"
     ]
    },
    {
     "name": "stderr",
     "output_type": "stream",
     "text": [
      "Info: Params [1.76578523 0.80792084 1.27924537 0.82344573 0.0135031  0.19055707\n",
      " 0.54073081] gave 608.397452149075\n"
     ]
    },
    {
     "name": "stdout",
     "output_type": "stream",
     "text": [
      "     Vspeed      Vacc  Boundary Separation  Collapse Speed  Collapse Accuracy  \\\n",
      "0  1.765785  0.807921             1.279245        0.823446           0.013503   \n",
      "\n",
      "   Non-decision Time Speed  Non-decision Time Accuracy         BIC  \n",
      "0                 0.190557                    0.540731  608.397452  \n"
     ]
    }
   ],
   "source": [
    "df_all = pd.DataFrame()\n",
    "for i in range(sample_size):\n",
    "    print(i)\n",
    "    path = os.path.join(data_dir+str(i+1)+\".csv\")\n",
    "    df = pd.read_csv(path, sep = \",\")\n",
    "    #df = df[df[\"cond\"]==SAT] # A condition\n",
    "    df = df[df[\"Time\"]<5]\n",
    "\n",
    "    samp = Sample.from_pandas_dataframe(df, rt_column_name=\"Time\", correct_column_name=\"Correct\")\n",
    "    df = get_DDM_result_sub_2v2c2ter(samp)\n",
    "    df_all = pd.concat((df_all,df))\n",
    "    print(df)\n",
    "df_OUM = df_all.copy()\n"
   ]
  },
  {
   "cell_type": "code",
   "execution_count": 5,
   "id": "3b05a53a",
   "metadata": {},
   "outputs": [],
   "source": [
    "df_OUM.to_csv(\"DDM2v2c2terresultEvans2017.csv\")"
   ]
  },
  {
   "cell_type": "code",
   "execution_count": 6,
   "id": "87e8797e",
   "metadata": {},
   "outputs": [
    {
     "data": {
      "text/plain": [
       "487.7816806303873"
      ]
     },
     "execution_count": 6,
     "metadata": {},
     "output_type": "execute_result"
    }
   ],
   "source": [
    "df_OUM[\"BIC\"].mean()"
   ]
  },
  {
   "cell_type": "code",
   "execution_count": null,
   "id": "c5baddcf",
   "metadata": {},
   "outputs": [],
   "source": []
  }
 ],
 "metadata": {
  "kernelspec": {
   "display_name": "Python 3 (ipykernel)",
   "language": "python",
   "name": "python3"
  },
  "language_info": {
   "codemirror_mode": {
    "name": "ipython",
    "version": 3
   },
   "file_extension": ".py",
   "mimetype": "text/x-python",
   "name": "python",
   "nbconvert_exporter": "python",
   "pygments_lexer": "ipython3",
   "version": "3.11.4"
  }
 },
 "nbformat": 4,
 "nbformat_minor": 5
}
