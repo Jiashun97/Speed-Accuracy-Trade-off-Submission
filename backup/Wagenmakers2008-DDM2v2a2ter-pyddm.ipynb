{
 "cells": [
  {
   "cell_type": "code",
   "execution_count": 1,
   "id": "2cda49de",
   "metadata": {},
   "outputs": [],
   "source": [
    "%run SAT_help_functions.ipynb"
   ]
  },
  {
   "cell_type": "code",
   "execution_count": null,
   "id": "bc081cf9",
   "metadata": {},
   "outputs": [],
   "source": []
  },
  {
   "cell_type": "markdown",
   "id": "4bd26666",
   "metadata": {},
   "source": [
    "## OUM"
   ]
  },
  {
   "cell_type": "code",
   "execution_count": null,
   "id": "9ef6c434",
   "metadata": {},
   "outputs": [],
   "source": []
  },
  {
   "cell_type": "code",
   "execution_count": 2,
   "id": "e776257c",
   "metadata": {},
   "outputs": [],
   "source": [
    "data_dir = \"/Users/wangjiashun/Desktop/Reserach on SAT/datasets/Lexical Decision Data/SpeedAccData.csv\"\n",
    "sample_size = 16\n",
    "SAT_conds = [1,2]"
   ]
  },
  {
   "cell_type": "code",
   "execution_count": null,
   "id": "bac26280",
   "metadata": {},
   "outputs": [],
   "source": []
  },
  {
   "cell_type": "code",
   "execution_count": 3,
   "id": "f434220f",
   "metadata": {},
   "outputs": [],
   "source": [
    "class DriftConstantSpeedAcc(Drift):\n",
    "    name = \"DriftConstantSpeedAcc\"\n",
    "    required_parameters = [\"Vspeed\",\"Vacc\"]\n",
    "    required_conditions = ['SAT']\n",
    "        \n",
    "    def get_drift(self, x, t, conditions, **kwargs):\n",
    "        if conditions['SAT'] == 1:\n",
    "            return self.Vspeed\n",
    "        elif conditions['SAT'] == 2:\n",
    "            return self.Vacc\n",
    "        else: \n",
    "            print(\"Non-implemented SAT conditions\")"
   ]
  },
  {
   "cell_type": "code",
   "execution_count": 4,
   "id": "bbb278a6",
   "metadata": {},
   "outputs": [],
   "source": [
    "\n",
    "class NondecisionSpeedAcc(OverlayNonDecision):\n",
    "    name = \"NondecisionSpeedAcc\"\n",
    "    required_parameters = [\"tSpeed\", 'tAcc']\n",
    "    required_conditions = ['SAT']\n",
    "        \n",
    "    def get_nondecision_time(self, conditions, **kwargs):\n",
    "        if conditions['SAT'] == 1:\n",
    "            return self.tSpeed \n",
    "        elif conditions['SAT'] == 2:\n",
    "            return self.tAcc\n",
    "        else: \n",
    "            print(\"Non-implemented SAT conditions\")\n"
   ]
  },
  {
   "cell_type": "code",
   "execution_count": 5,
   "id": "6e5e0074",
   "metadata": {},
   "outputs": [],
   "source": [
    "class BoundSpeedAcc(Bound):\n",
    "    name = \"BoundSpeedAcc\"\n",
    "    required_parameters = [\"Bspeed\", \"Bacc\"]\n",
    "    required_conditions = ['SAT']\n",
    "    def get_bound(self, conditions, *args, **kwargs):\n",
    "        assert self.Bacc > 0\n",
    "        assert self.Bspeed > 0\n",
    "        if conditions['SAT'] == 1:\n",
    "            return self.Bspeed\n",
    "        elif conditions['SAT'] == 2:\n",
    "            return self.Bacc\n",
    "        else:\n",
    "            print(\"Non-implemented SAT conditions\")"
   ]
  },
  {
   "cell_type": "code",
   "execution_count": null,
   "id": "b1e0fe9b",
   "metadata": {},
   "outputs": [],
   "source": []
  },
  {
   "cell_type": "code",
   "execution_count": 6,
   "id": "fdb13001",
   "metadata": {
    "scrolled": true
   },
   "outputs": [
    {
     "name": "stderr",
     "output_type": "stream",
     "text": [
      "Warning: This function (from_pandas_dataframe()) is deprecated and will be removed in a future version of PyDDM.  Please use the choice_column_name argument instead.\n"
     ]
    },
    {
     "name": "stdout",
     "output_type": "stream",
     "text": [
      "1\n",
      "1\n"
     ]
    },
    {
     "name": "stderr",
     "output_type": "stream",
     "text": [
      "Info: Params [2.83783095 3.69778298 0.52116187 0.54655453 0.35067077 0.37558879] gave -269.963183276198\n",
      "Warning: This function (from_pandas_dataframe()) is deprecated and will be removed in a future version of PyDDM.  Please use the choice_column_name argument instead.\n"
     ]
    },
    {
     "name": "stdout",
     "output_type": "stream",
     "text": [
      "   Drift Rate Speed  Drift Rate Accuracy  Boundary Separation Speed  \\\n",
      "0          2.837831             3.697783                   0.521162   \n",
      "\n",
      "   Boundary Separation Accuracy  Non-decision Time Speed  \\\n",
      "0                      0.546555                 0.350671   \n",
      "\n",
      "   Non-decision Time Accuracy         BIC  Frequency  Participant  \n",
      "0                    0.375589 -269.963183          1            1  \n",
      "2\n",
      "1\n"
     ]
    },
    {
     "name": "stderr",
     "output_type": "stream",
     "text": [
      "Info: Params [2.52866656 2.25794227 0.5        0.64924502 0.37240664 0.35937187] gave -132.27100132532448\n",
      "Warning: This function (from_pandas_dataframe()) is deprecated and will be removed in a future version of PyDDM.  Please use the choice_column_name argument instead.\n"
     ]
    },
    {
     "name": "stdout",
     "output_type": "stream",
     "text": [
      "   Drift Rate Speed  Drift Rate Accuracy  Boundary Separation Speed  \\\n",
      "0          2.528667             2.257942                        0.5   \n",
      "\n",
      "   Boundary Separation Accuracy  Non-decision Time Speed  \\\n",
      "0                      0.649245                 0.372407   \n",
      "\n",
      "   Non-decision Time Accuracy         BIC  Frequency  Participant  \n",
      "0                    0.359372 -132.271001          2            1  \n",
      "3\n",
      "1\n"
     ]
    },
    {
     "name": "stderr",
     "output_type": "stream",
     "text": [
      "Info: Params [0.91887956 1.70703196 0.51145731 0.55687282 0.34019656 0.38667913] gave -14.115949226390839\n",
      "Warning: This function (from_pandas_dataframe()) is deprecated and will be removed in a future version of PyDDM.  Please use the choice_column_name argument instead.\n"
     ]
    },
    {
     "name": "stdout",
     "output_type": "stream",
     "text": [
      "   Drift Rate Speed  Drift Rate Accuracy  Boundary Separation Speed  \\\n",
      "0           0.91888             1.707032                   0.511457   \n",
      "\n",
      "   Boundary Separation Accuracy  Non-decision Time Speed  \\\n",
      "0                      0.556873                 0.340197   \n",
      "\n",
      "   Non-decision Time Accuracy        BIC  Frequency  Participant  \n",
      "0                    0.386679 -14.115949          3            1  \n",
      "4\n",
      "1\n"
     ]
    },
    {
     "name": "stderr",
     "output_type": "stream",
     "text": [
      "Info: Params [2.25596757 2.74823128 0.50530342 0.5        0.34622302 0.39607188] gave -175.02407299580943\n",
      "Warning: This function (from_pandas_dataframe()) is deprecated and will be removed in a future version of PyDDM.  Please use the choice_column_name argument instead.\n"
     ]
    },
    {
     "name": "stdout",
     "output_type": "stream",
     "text": [
      "   Drift Rate Speed  Drift Rate Accuracy  Boundary Separation Speed  \\\n",
      "0          2.255968             2.748231                   0.505303   \n",
      "\n",
      "   Boundary Separation Accuracy  Non-decision Time Speed  \\\n",
      "0                           0.5                 0.346223   \n",
      "\n",
      "   Non-decision Time Accuracy         BIC  Frequency  Participant  \n",
      "0                    0.396072 -175.024073          4            1  \n",
      "5\n",
      "1\n"
     ]
    },
    {
     "name": "stderr",
     "output_type": "stream",
     "text": [
      "Info: Params [2.99633127 2.47647104 0.56518828 0.56958309 0.35086049 0.36681316] gave -171.2760709112684\n",
      "Warning: This function (from_pandas_dataframe()) is deprecated and will be removed in a future version of PyDDM.  Please use the choice_column_name argument instead.\n"
     ]
    },
    {
     "name": "stdout",
     "output_type": "stream",
     "text": [
      "   Drift Rate Speed  Drift Rate Accuracy  Boundary Separation Speed  \\\n",
      "0          2.996331             2.476471                   0.565188   \n",
      "\n",
      "   Boundary Separation Accuracy  Non-decision Time Speed  \\\n",
      "0                      0.569583                  0.35086   \n",
      "\n",
      "   Non-decision Time Accuracy         BIC  Frequency  Participant  \n",
      "0                    0.366813 -171.276071          5            1  \n",
      "6\n",
      "1\n"
     ]
    },
    {
     "name": "stderr",
     "output_type": "stream",
     "text": [
      "Info: Params [3.3859903  2.94792829 0.60848202 0.63287178 0.33962831 0.35950081] gave -223.4565450451959\n",
      "Warning: This function (from_pandas_dataframe()) is deprecated and will be removed in a future version of PyDDM.  Please use the choice_column_name argument instead.\n"
     ]
    },
    {
     "name": "stdout",
     "output_type": "stream",
     "text": [
      "   Drift Rate Speed  Drift Rate Accuracy  Boundary Separation Speed  \\\n",
      "0           3.38599             2.947928                   0.608482   \n",
      "\n",
      "   Boundary Separation Accuracy  Non-decision Time Speed  \\\n",
      "0                      0.632872                 0.339628   \n",
      "\n",
      "   Non-decision Time Accuracy         BIC  Frequency  Participant  \n",
      "0                    0.359501 -223.456545          6            1  \n",
      "1\n",
      "3\n"
     ]
    },
    {
     "name": "stderr",
     "output_type": "stream",
     "text": [
      "Info: Params [2.69212783 3.35903958 0.54740122 0.88639273 0.31039187 0.38736133] gave -185.19915667885843\n",
      "Warning: This function (from_pandas_dataframe()) is deprecated and will be removed in a future version of PyDDM.  Please use the choice_column_name argument instead.\n"
     ]
    },
    {
     "name": "stdout",
     "output_type": "stream",
     "text": [
      "   Drift Rate Speed  Drift Rate Accuracy  Boundary Separation Speed  \\\n",
      "0          2.692128              3.35904                   0.547401   \n",
      "\n",
      "   Boundary Separation Accuracy  Non-decision Time Speed  \\\n",
      "0                      0.886393                 0.310392   \n",
      "\n",
      "   Non-decision Time Accuracy         BIC  Frequency  Participant  \n",
      "0                    0.387361 -185.199157          1            3  \n",
      "2\n",
      "3\n"
     ]
    },
    {
     "name": "stderr",
     "output_type": "stream",
     "text": [
      "Info: Params [1.60066686 2.12864475 0.50846468 0.89986269 0.32282863 0.34177044] gave -31.308167406759758\n",
      "Warning: This function (from_pandas_dataframe()) is deprecated and will be removed in a future version of PyDDM.  Please use the choice_column_name argument instead.\n"
     ]
    },
    {
     "name": "stdout",
     "output_type": "stream",
     "text": [
      "   Drift Rate Speed  Drift Rate Accuracy  Boundary Separation Speed  \\\n",
      "0          1.600667             2.128645                   0.508465   \n",
      "\n",
      "   Boundary Separation Accuracy  Non-decision Time Speed  \\\n",
      "0                      0.899863                 0.322829   \n",
      "\n",
      "   Non-decision Time Accuracy        BIC  Frequency  Participant  \n",
      "0                     0.34177 -31.308167          2            3  \n",
      "3\n",
      "3\n"
     ]
    },
    {
     "name": "stderr",
     "output_type": "stream",
     "text": [
      "Info: Params [1.54550018 1.62379368 0.54831235 0.76064546 0.31917548 0.40512792] gave 24.707195619962757\n",
      "Warning: This function (from_pandas_dataframe()) is deprecated and will be removed in a future version of PyDDM.  Please use the choice_column_name argument instead.\n"
     ]
    },
    {
     "name": "stdout",
     "output_type": "stream",
     "text": [
      "   Drift Rate Speed  Drift Rate Accuracy  Boundary Separation Speed  \\\n",
      "0            1.5455             1.623794                   0.548312   \n",
      "\n",
      "   Boundary Separation Accuracy  Non-decision Time Speed  \\\n",
      "0                      0.760645                 0.319175   \n",
      "\n",
      "   Non-decision Time Accuracy        BIC  Frequency  Participant  \n",
      "0                    0.405128  24.707196          3            3  \n",
      "4\n",
      "3\n"
     ]
    },
    {
     "name": "stderr",
     "output_type": "stream",
     "text": [
      "Info: Params [1.80562131 2.46322707 0.6593742  1.60080781 0.2799054  0.10599011] gave 31.867359982335586\n",
      "Warning: This function (from_pandas_dataframe()) is deprecated and will be removed in a future version of PyDDM.  Please use the choice_column_name argument instead.\n"
     ]
    },
    {
     "name": "stdout",
     "output_type": "stream",
     "text": [
      "   Drift Rate Speed  Drift Rate Accuracy  Boundary Separation Speed  \\\n",
      "0          1.805621             2.463227                   0.659374   \n",
      "\n",
      "   Boundary Separation Accuracy  Non-decision Time Speed  \\\n",
      "0                      1.600808                 0.279905   \n",
      "\n",
      "   Non-decision Time Accuracy       BIC  Frequency  Participant  \n",
      "0                     0.10599  31.86736          4            3  \n",
      "5\n",
      "3\n"
     ]
    },
    {
     "name": "stderr",
     "output_type": "stream",
     "text": [
      "Info: Params [3.10023359 1.86734402 0.69194144 0.93797895 0.29858898 0.34638666] gave -50.27763177323807\n",
      "Warning: This function (from_pandas_dataframe()) is deprecated and will be removed in a future version of PyDDM.  Please use the choice_column_name argument instead.\n"
     ]
    },
    {
     "name": "stdout",
     "output_type": "stream",
     "text": [
      "   Drift Rate Speed  Drift Rate Accuracy  Boundary Separation Speed  \\\n",
      "0          3.100234             1.867344                   0.691941   \n",
      "\n",
      "   Boundary Separation Accuracy  Non-decision Time Speed  \\\n",
      "0                      0.937979                 0.298589   \n",
      "\n",
      "   Non-decision Time Accuracy        BIC  Frequency  Participant  \n",
      "0                    0.346387 -50.277632          5            3  \n",
      "6\n",
      "3\n"
     ]
    },
    {
     "name": "stderr",
     "output_type": "stream",
     "text": [
      "Info: Params [2.58385498 2.30245885 0.58792717 1.04722164 0.33985122 0.32197662] gave -67.1911144089429\n",
      "Warning: This function (from_pandas_dataframe()) is deprecated and will be removed in a future version of PyDDM.  Please use the choice_column_name argument instead.\n"
     ]
    },
    {
     "name": "stdout",
     "output_type": "stream",
     "text": [
      "   Drift Rate Speed  Drift Rate Accuracy  Boundary Separation Speed  \\\n",
      "0          2.583855             2.302459                   0.587927   \n",
      "\n",
      "   Boundary Separation Accuracy  Non-decision Time Speed  \\\n",
      "0                      1.047222                 0.339851   \n",
      "\n",
      "   Non-decision Time Accuracy        BIC  Frequency  Participant  \n",
      "0                    0.321977 -67.191114          6            3  \n",
      "1\n",
      "4\n"
     ]
    },
    {
     "name": "stderr",
     "output_type": "stream",
     "text": [
      "Info: Params [4.21433348 3.45438246 0.5        0.6862987  0.32178719 0.32106999] gave -306.92290129016635\n",
      "Warning: This function (from_pandas_dataframe()) is deprecated and will be removed in a future version of PyDDM.  Please use the choice_column_name argument instead.\n"
     ]
    },
    {
     "name": "stdout",
     "output_type": "stream",
     "text": [
      "   Drift Rate Speed  Drift Rate Accuracy  Boundary Separation Speed  \\\n",
      "0          4.214333             3.454382                        0.5   \n",
      "\n",
      "   Boundary Separation Accuracy  Non-decision Time Speed  \\\n",
      "0                      0.686299                 0.321787   \n",
      "\n",
      "   Non-decision Time Accuracy         BIC  Frequency  Participant  \n",
      "0                     0.32107 -306.922901          1            4  \n",
      "2\n",
      "4\n"
     ]
    },
    {
     "name": "stderr",
     "output_type": "stream",
     "text": [
      "Info: Params [2.69467203 3.27000727 0.5        0.74177234 0.32851421 0.34303615] gave -215.16581583182435\n",
      "Warning: This function (from_pandas_dataframe()) is deprecated and will be removed in a future version of PyDDM.  Please use the choice_column_name argument instead.\n"
     ]
    },
    {
     "name": "stdout",
     "output_type": "stream",
     "text": [
      "   Drift Rate Speed  Drift Rate Accuracy  Boundary Separation Speed  \\\n",
      "0          2.694672             3.270007                        0.5   \n",
      "\n",
      "   Boundary Separation Accuracy  Non-decision Time Speed  \\\n",
      "0                      0.741772                 0.328514   \n",
      "\n",
      "   Non-decision Time Accuracy         BIC  Frequency  Participant  \n",
      "0                    0.343036 -215.165816          2            4  \n",
      "3\n",
      "4\n"
     ]
    },
    {
     "name": "stderr",
     "output_type": "stream",
     "text": [
      "Info: Params [1.79294765 2.0152655  0.5        0.64602033 0.32749316 0.34585937] gave -84.81002505124538\n",
      "Warning: This function (from_pandas_dataframe()) is deprecated and will be removed in a future version of PyDDM.  Please use the choice_column_name argument instead.\n"
     ]
    },
    {
     "name": "stdout",
     "output_type": "stream",
     "text": [
      "   Drift Rate Speed  Drift Rate Accuracy  Boundary Separation Speed  \\\n",
      "0          1.792948             2.015265                        0.5   \n",
      "\n",
      "   Boundary Separation Accuracy  Non-decision Time Speed  \\\n",
      "0                       0.64602                 0.327493   \n",
      "\n",
      "   Non-decision Time Accuracy        BIC  Frequency  Participant  \n",
      "0                    0.345859 -84.810025          3            4  \n",
      "4\n",
      "4\n"
     ]
    },
    {
     "name": "stderr",
     "output_type": "stream",
     "text": [
      "Info: Params [3.70142096 2.94931463 0.5        0.79848249 0.34177386 0.32137194] gave -237.8935308241611\n",
      "Warning: This function (from_pandas_dataframe()) is deprecated and will be removed in a future version of PyDDM.  Please use the choice_column_name argument instead.\n"
     ]
    },
    {
     "name": "stdout",
     "output_type": "stream",
     "text": [
      "   Drift Rate Speed  Drift Rate Accuracy  Boundary Separation Speed  \\\n",
      "0          3.701421             2.949315                        0.5   \n",
      "\n",
      "   Boundary Separation Accuracy  Non-decision Time Speed  \\\n",
      "0                      0.798482                 0.341774   \n",
      "\n",
      "   Non-decision Time Accuracy         BIC  Frequency  Participant  \n",
      "0                    0.321372 -237.893531          4            4  \n",
      "5\n",
      "4\n"
     ]
    },
    {
     "name": "stderr",
     "output_type": "stream",
     "text": [
      "Info: Params [3.51149276 2.38209464 0.51437195 0.62787656 0.32898701 0.35101535] gave -208.98772827387552\n",
      "Warning: This function (from_pandas_dataframe()) is deprecated and will be removed in a future version of PyDDM.  Please use the choice_column_name argument instead.\n"
     ]
    },
    {
     "name": "stdout",
     "output_type": "stream",
     "text": [
      "   Drift Rate Speed  Drift Rate Accuracy  Boundary Separation Speed  \\\n",
      "0          3.511493             2.382095                   0.514372   \n",
      "\n",
      "   Boundary Separation Accuracy  Non-decision Time Speed  \\\n",
      "0                      0.627877                 0.328987   \n",
      "\n",
      "   Non-decision Time Accuracy         BIC  Frequency  Participant  \n",
      "0                    0.351015 -208.987728          5            4  \n",
      "6\n",
      "4\n"
     ]
    },
    {
     "name": "stderr",
     "output_type": "stream",
     "text": [
      "Info: Params [3.26505831 2.18815524 0.5        0.62527311 0.31387023 0.34216831] gave -193.44698915160478\n",
      "Warning: This function (from_pandas_dataframe()) is deprecated and will be removed in a future version of PyDDM.  Please use the choice_column_name argument instead.\n"
     ]
    },
    {
     "name": "stdout",
     "output_type": "stream",
     "text": [
      "   Drift Rate Speed  Drift Rate Accuracy  Boundary Separation Speed  \\\n",
      "0          3.265058             2.188155                        0.5   \n",
      "\n",
      "   Boundary Separation Accuracy  Non-decision Time Speed  \\\n",
      "0                      0.625273                  0.31387   \n",
      "\n",
      "   Non-decision Time Accuracy         BIC  Frequency  Participant  \n",
      "0                    0.342168 -193.446989          6            4  \n",
      "1\n",
      "5\n"
     ]
    },
    {
     "name": "stderr",
     "output_type": "stream",
     "text": [
      "Info: Params [4.11173536 3.98583068 0.52420424 1.1259448  0.31823623 0.32445145] gave -293.8020176922703\n",
      "Warning: This function (from_pandas_dataframe()) is deprecated and will be removed in a future version of PyDDM.  Please use the choice_column_name argument instead.\n"
     ]
    },
    {
     "name": "stdout",
     "output_type": "stream",
     "text": [
      "   Drift Rate Speed  Drift Rate Accuracy  Boundary Separation Speed  \\\n",
      "0          4.111735             3.985831                   0.524204   \n",
      "\n",
      "   Boundary Separation Accuracy  Non-decision Time Speed  \\\n",
      "0                      1.125945                 0.318236   \n",
      "\n",
      "   Non-decision Time Accuracy         BIC  Frequency  Participant  \n",
      "0                    0.324451 -293.802018          1            5  \n",
      "2\n",
      "5\n"
     ]
    },
    {
     "name": "stderr",
     "output_type": "stream",
     "text": [
      "Info: Params [3.67314917 2.23153349 0.50533819 0.62165717 0.34453043 0.4139481 ] gave -198.77171053816505\n",
      "Warning: This function (from_pandas_dataframe()) is deprecated and will be removed in a future version of PyDDM.  Please use the choice_column_name argument instead.\n"
     ]
    },
    {
     "name": "stdout",
     "output_type": "stream",
     "text": [
      "   Drift Rate Speed  Drift Rate Accuracy  Boundary Separation Speed  \\\n",
      "0          3.673149             2.231533                   0.505338   \n",
      "\n",
      "   Boundary Separation Accuracy  Non-decision Time Speed  \\\n",
      "0                      0.621657                  0.34453   \n",
      "\n",
      "   Non-decision Time Accuracy         BIC  Frequency  Participant  \n",
      "0                    0.413948 -198.771711          2            5  \n",
      "3\n",
      "5\n"
     ]
    },
    {
     "name": "stderr",
     "output_type": "stream",
     "text": [
      "Info: Params [2.27956009 2.87828433 0.50709397 0.62949481 0.33634146 0.45570971] gave -178.5538208141426\n",
      "Warning: This function (from_pandas_dataframe()) is deprecated and will be removed in a future version of PyDDM.  Please use the choice_column_name argument instead.\n"
     ]
    },
    {
     "name": "stdout",
     "output_type": "stream",
     "text": [
      "   Drift Rate Speed  Drift Rate Accuracy  Boundary Separation Speed  \\\n",
      "0           2.27956             2.878284                   0.507094   \n",
      "\n",
      "   Boundary Separation Accuracy  Non-decision Time Speed  \\\n",
      "0                      0.629495                 0.336341   \n",
      "\n",
      "   Non-decision Time Accuracy         BIC  Frequency  Participant  \n",
      "0                     0.45571 -178.553821          3            5  \n",
      "4\n",
      "5\n"
     ]
    },
    {
     "name": "stderr",
     "output_type": "stream",
     "text": [
      "Info: Params [5.09613001 3.43484336 0.82200913 0.89622106 0.32304046 0.3984909 ] gave -270.1950978495089\n",
      "Warning: This function (from_pandas_dataframe()) is deprecated and will be removed in a future version of PyDDM.  Please use the choice_column_name argument instead.\n"
     ]
    },
    {
     "name": "stdout",
     "output_type": "stream",
     "text": [
      "   Drift Rate Speed  Drift Rate Accuracy  Boundary Separation Speed  \\\n",
      "0           5.09613             3.434843                   0.822009   \n",
      "\n",
      "   Boundary Separation Accuracy  Non-decision Time Speed  \\\n",
      "0                      0.896221                  0.32304   \n",
      "\n",
      "   Non-decision Time Accuracy         BIC  Frequency  Participant  \n",
      "0                    0.398491 -270.195098          4            5  \n",
      "5\n",
      "5\n"
     ]
    },
    {
     "name": "stderr",
     "output_type": "stream",
     "text": [
      "Info: Params [4.3228941  2.4773316  0.5        0.68159762 0.36855301 0.46714708] gave -222.3543896205491\n",
      "Warning: This function (from_pandas_dataframe()) is deprecated and will be removed in a future version of PyDDM.  Please use the choice_column_name argument instead.\n"
     ]
    },
    {
     "name": "stdout",
     "output_type": "stream",
     "text": [
      "   Drift Rate Speed  Drift Rate Accuracy  Boundary Separation Speed  \\\n",
      "0          4.322894             2.477332                        0.5   \n",
      "\n",
      "   Boundary Separation Accuracy  Non-decision Time Speed  \\\n",
      "0                      0.681598                 0.368553   \n",
      "\n",
      "   Non-decision Time Accuracy        BIC  Frequency  Participant  \n",
      "0                    0.467147 -222.35439          5            5  \n",
      "6\n",
      "5\n"
     ]
    },
    {
     "name": "stderr",
     "output_type": "stream",
     "text": [
      "Info: Params [3.45798006 2.4473244  0.65255575 0.67542457 0.29773852 0.42374752] gave -175.92102055873355\n",
      "Warning: This function (from_pandas_dataframe()) is deprecated and will be removed in a future version of PyDDM.  Please use the choice_column_name argument instead.\n"
     ]
    },
    {
     "name": "stdout",
     "output_type": "stream",
     "text": [
      "   Drift Rate Speed  Drift Rate Accuracy  Boundary Separation Speed  \\\n",
      "0           3.45798             2.447324                   0.652556   \n",
      "\n",
      "   Boundary Separation Accuracy  Non-decision Time Speed  \\\n",
      "0                      0.675425                 0.297739   \n",
      "\n",
      "   Non-decision Time Accuracy         BIC  Frequency  Participant  \n",
      "0                    0.423748 -175.921021          6            5  \n",
      "1\n",
      "6\n"
     ]
    },
    {
     "name": "stderr",
     "output_type": "stream",
     "text": [
      "Info: Params [2.51469532 2.93397793 0.56027222 0.63628828 0.25317062 0.36245965] gave -181.19995658364422\n",
      "Warning: This function (from_pandas_dataframe()) is deprecated and will be removed in a future version of PyDDM.  Please use the choice_column_name argument instead.\n"
     ]
    },
    {
     "name": "stdout",
     "output_type": "stream",
     "text": [
      "   Drift Rate Speed  Drift Rate Accuracy  Boundary Separation Speed  \\\n",
      "0          2.514695             2.933978                   0.560272   \n",
      "\n",
      "   Boundary Separation Accuracy  Non-decision Time Speed  \\\n",
      "0                      0.636288                 0.253171   \n",
      "\n",
      "   Non-decision Time Accuracy         BIC  Frequency  Participant  \n",
      "0                     0.36246 -181.199957          1            6  \n",
      "2\n",
      "6\n"
     ]
    },
    {
     "name": "stderr",
     "output_type": "stream",
     "text": [
      "Info: Params [1.22658141 2.20735519 0.52457769 0.60177729 0.22535946 0.42443891] gave -55.935746911405076\n",
      "Warning: This function (from_pandas_dataframe()) is deprecated and will be removed in a future version of PyDDM.  Please use the choice_column_name argument instead.\n"
     ]
    },
    {
     "name": "stdout",
     "output_type": "stream",
     "text": [
      "   Drift Rate Speed  Drift Rate Accuracy  Boundary Separation Speed  \\\n",
      "0          1.226581             2.207355                   0.524578   \n",
      "\n",
      "   Boundary Separation Accuracy  Non-decision Time Speed  \\\n",
      "0                      0.601777                 0.225359   \n",
      "\n",
      "   Non-decision Time Accuracy        BIC  Frequency  Participant  \n",
      "0                    0.424439 -55.935747          2            6  \n",
      "3\n",
      "6\n"
     ]
    },
    {
     "name": "stderr",
     "output_type": "stream",
     "text": [
      "Info: Params [0.58793266 1.5428167  0.5504033  0.59870058 0.20336623 0.42702767] gave 42.31935055381504\n",
      "Warning: This function (from_pandas_dataframe()) is deprecated and will be removed in a future version of PyDDM.  Please use the choice_column_name argument instead.\n"
     ]
    },
    {
     "name": "stdout",
     "output_type": "stream",
     "text": [
      "   Drift Rate Speed  Drift Rate Accuracy  Boundary Separation Speed  \\\n",
      "0          0.587933             1.542817                   0.550403   \n",
      "\n",
      "   Boundary Separation Accuracy  Non-decision Time Speed  \\\n",
      "0                      0.598701                 0.203366   \n",
      "\n",
      "   Non-decision Time Accuracy        BIC  Frequency  Participant  \n",
      "0                    0.427028  42.319351          3            6  \n",
      "4\n",
      "6\n"
     ]
    },
    {
     "name": "stderr",
     "output_type": "stream",
     "text": [
      "Info: Params [1.01233586 2.38093641 0.52979648 0.76944836 0.22653604 0.38492736] gave -21.240341853754487\n",
      "Warning: This function (from_pandas_dataframe()) is deprecated and will be removed in a future version of PyDDM.  Please use the choice_column_name argument instead.\n"
     ]
    },
    {
     "name": "stdout",
     "output_type": "stream",
     "text": [
      "   Drift Rate Speed  Drift Rate Accuracy  Boundary Separation Speed  \\\n",
      "0          1.012336             2.380936                   0.529796   \n",
      "\n",
      "   Boundary Separation Accuracy  Non-decision Time Speed  \\\n",
      "0                      0.769448                 0.226536   \n",
      "\n",
      "   Non-decision Time Accuracy        BIC  Frequency  Participant  \n",
      "0                    0.384927 -21.240342          4            6  \n",
      "5\n",
      "6\n"
     ]
    },
    {
     "name": "stderr",
     "output_type": "stream",
     "text": [
      "Info: Params [1.01182056 2.25263185 0.5        0.67086148 0.27926678 0.39179858] gave -39.47859257264499\n",
      "Warning: This function (from_pandas_dataframe()) is deprecated and will be removed in a future version of PyDDM.  Please use the choice_column_name argument instead.\n"
     ]
    },
    {
     "name": "stdout",
     "output_type": "stream",
     "text": [
      "   Drift Rate Speed  Drift Rate Accuracy  Boundary Separation Speed  \\\n",
      "0          1.011821             2.252632                        0.5   \n",
      "\n",
      "   Boundary Separation Accuracy  Non-decision Time Speed  \\\n",
      "0                      0.670861                 0.279267   \n",
      "\n",
      "   Non-decision Time Accuracy        BIC  Frequency  Participant  \n",
      "0                    0.391799 -39.478593          5            6  \n",
      "6\n",
      "6\n"
     ]
    },
    {
     "name": "stderr",
     "output_type": "stream",
     "text": [
      "Info: Params [0.97871854 2.61051449 0.62989711 0.78262254 0.1635868  0.34689702] gave -16.82329335373791\n",
      "Warning: This function (from_pandas_dataframe()) is deprecated and will be removed in a future version of PyDDM.  Please use the choice_column_name argument instead.\n"
     ]
    },
    {
     "name": "stdout",
     "output_type": "stream",
     "text": [
      "   Drift Rate Speed  Drift Rate Accuracy  Boundary Separation Speed  \\\n",
      "0          0.978719             2.610514                   0.629897   \n",
      "\n",
      "   Boundary Separation Accuracy  Non-decision Time Speed  \\\n",
      "0                      0.782623                 0.163587   \n",
      "\n",
      "   Non-decision Time Accuracy        BIC  Frequency  Participant  \n",
      "0                    0.346897 -16.823293          6            6  \n",
      "1\n",
      "7\n"
     ]
    },
    {
     "name": "stderr",
     "output_type": "stream",
     "text": [
      "Info: Params [0.63058263 2.24655817 0.55600757 0.69456079 0.1719887  0.26005016] gave 4.64751532398736\n",
      "Warning: This function (from_pandas_dataframe()) is deprecated and will be removed in a future version of PyDDM.  Please use the choice_column_name argument instead.\n"
     ]
    },
    {
     "name": "stdout",
     "output_type": "stream",
     "text": [
      "   Drift Rate Speed  Drift Rate Accuracy  Boundary Separation Speed  \\\n",
      "0          0.630583             2.246558                   0.556008   \n",
      "\n",
      "   Boundary Separation Accuracy  Non-decision Time Speed  \\\n",
      "0                      0.694561                 0.171989   \n",
      "\n",
      "   Non-decision Time Accuracy       BIC  Frequency  Participant  \n",
      "0                     0.26005  4.647515          1            7  \n",
      "2\n",
      "7\n"
     ]
    },
    {
     "name": "stderr",
     "output_type": "stream",
     "text": [
      "Info: Params [4.07157018e-06 1.53717210e+00 5.00000000e-01 5.95651899e-01\n",
      " 2.48990230e-01 3.18102947e-01] gave 14.041613513641956\n",
      "Warning: This function (from_pandas_dataframe()) is deprecated and will be removed in a future version of PyDDM.  Please use the choice_column_name argument instead.\n"
     ]
    },
    {
     "name": "stdout",
     "output_type": "stream",
     "text": [
      "   Drift Rate Speed  Drift Rate Accuracy  Boundary Separation Speed  \\\n",
      "0          0.000004             1.537172                        0.5   \n",
      "\n",
      "   Boundary Separation Accuracy  Non-decision Time Speed  \\\n",
      "0                      0.595652                  0.24899   \n",
      "\n",
      "   Non-decision Time Accuracy        BIC  Frequency  Participant  \n",
      "0                    0.318103  14.041614          2            7  \n",
      "3\n",
      "7\n"
     ]
    },
    {
     "name": "stderr",
     "output_type": "stream",
     "text": [
      "Info: Params [0.         0.76308955 0.52746031 0.72876262 0.19505566 0.20727528] gave 156.36976501922794\n",
      "Warning: This function (from_pandas_dataframe()) is deprecated and will be removed in a future version of PyDDM.  Please use the choice_column_name argument instead.\n"
     ]
    },
    {
     "name": "stdout",
     "output_type": "stream",
     "text": [
      "   Drift Rate Speed  Drift Rate Accuracy  Boundary Separation Speed  \\\n",
      "0               0.0              0.76309                    0.52746   \n",
      "\n",
      "   Boundary Separation Accuracy  Non-decision Time Speed  \\\n",
      "0                      0.728763                 0.195056   \n",
      "\n",
      "   Non-decision Time Accuracy         BIC  Frequency  Participant  \n",
      "0                    0.207275  156.369765          3            7  \n",
      "4\n",
      "7\n"
     ]
    },
    {
     "name": "stderr",
     "output_type": "stream",
     "text": [
      "Info: Params [1.7620197  1.58165889 0.55063518 0.71239295 0.23992972 0.30426106] gave 2.927225275996186\n",
      "Warning: This function (from_pandas_dataframe()) is deprecated and will be removed in a future version of PyDDM.  Please use the choice_column_name argument instead.\n"
     ]
    },
    {
     "name": "stdout",
     "output_type": "stream",
     "text": [
      "   Drift Rate Speed  Drift Rate Accuracy  Boundary Separation Speed  \\\n",
      "0           1.76202             1.581659                   0.550635   \n",
      "\n",
      "   Boundary Separation Accuracy  Non-decision Time Speed  \\\n",
      "0                      0.712393                  0.23993   \n",
      "\n",
      "   Non-decision Time Accuracy       BIC  Frequency  Participant  \n",
      "0                    0.304261  2.927225          4            7  \n",
      "5\n",
      "7\n"
     ]
    },
    {
     "name": "stderr",
     "output_type": "stream",
     "text": [
      "Info: Params [2.2783025  1.35052148 0.59387766 0.61338118 0.22710002 0.34106952] gave -26.1674663256305\n",
      "Warning: This function (from_pandas_dataframe()) is deprecated and will be removed in a future version of PyDDM.  Please use the choice_column_name argument instead.\n"
     ]
    },
    {
     "name": "stdout",
     "output_type": "stream",
     "text": [
      "   Drift Rate Speed  Drift Rate Accuracy  Boundary Separation Speed  \\\n",
      "0          2.278302             1.350521                   0.593878   \n",
      "\n",
      "   Boundary Separation Accuracy  Non-decision Time Speed  \\\n",
      "0                      0.613381                   0.2271   \n",
      "\n",
      "   Non-decision Time Accuracy        BIC  Frequency  Participant  \n",
      "0                     0.34107 -26.167466          5            7  \n",
      "6\n",
      "7\n"
     ]
    },
    {
     "name": "stderr",
     "output_type": "stream",
     "text": [
      "Info: Params [1.86114322 1.85705281 0.54588898 0.64586086 0.24934    0.33151719] gave -47.510026418423294\n",
      "Warning: This function (from_pandas_dataframe()) is deprecated and will be removed in a future version of PyDDM.  Please use the choice_column_name argument instead.\n"
     ]
    },
    {
     "name": "stdout",
     "output_type": "stream",
     "text": [
      "   Drift Rate Speed  Drift Rate Accuracy  Boundary Separation Speed  \\\n",
      "0          1.861143             1.857053                   0.545889   \n",
      "\n",
      "   Boundary Separation Accuracy  Non-decision Time Speed  \\\n",
      "0                      0.645861                  0.24934   \n",
      "\n",
      "   Non-decision Time Accuracy        BIC  Frequency  Participant  \n",
      "0                    0.331517 -47.510026          6            7  \n",
      "1\n",
      "8\n"
     ]
    },
    {
     "name": "stderr",
     "output_type": "stream",
     "text": [
      "Info: Params [0.69725065 1.96588989 0.62607145 0.88626895 0.15767874 0.40616601] gave 85.68579209143792\n",
      "Warning: This function (from_pandas_dataframe()) is deprecated and will be removed in a future version of PyDDM.  Please use the choice_column_name argument instead.\n"
     ]
    },
    {
     "name": "stdout",
     "output_type": "stream",
     "text": [
      "   Drift Rate Speed  Drift Rate Accuracy  Boundary Separation Speed  \\\n",
      "0          0.697251              1.96589                   0.626071   \n",
      "\n",
      "   Boundary Separation Accuracy  Non-decision Time Speed  \\\n",
      "0                      0.886269                 0.157679   \n",
      "\n",
      "   Non-decision Time Accuracy        BIC  Frequency  Participant  \n",
      "0                    0.406166  85.685792          1            8  \n",
      "2\n",
      "8\n"
     ]
    },
    {
     "name": "stderr",
     "output_type": "stream",
     "text": [
      "Info: Params [0.24149311 0.91238281 0.59783074 0.97508877 0.16711705 0.32131078] gave 238.0982091949066\n",
      "Warning: This function (from_pandas_dataframe()) is deprecated and will be removed in a future version of PyDDM.  Please use the choice_column_name argument instead.\n"
     ]
    },
    {
     "name": "stdout",
     "output_type": "stream",
     "text": [
      "   Drift Rate Speed  Drift Rate Accuracy  Boundary Separation Speed  \\\n",
      "0          0.241493             0.912383                   0.597831   \n",
      "\n",
      "   Boundary Separation Accuracy  Non-decision Time Speed  \\\n",
      "0                      0.975089                 0.167117   \n",
      "\n",
      "   Non-decision Time Accuracy         BIC  Frequency  Participant  \n",
      "0                    0.321311  238.098209          2            8  \n",
      "3\n",
      "8\n"
     ]
    },
    {
     "name": "stderr",
     "output_type": "stream",
     "text": [
      "Info: Params [0.         0.41914169 0.62836393 0.90375533 0.16298767 0.29902975] gave 296.8329177582338\n",
      "Warning: This function (from_pandas_dataframe()) is deprecated and will be removed in a future version of PyDDM.  Please use the choice_column_name argument instead.\n"
     ]
    },
    {
     "name": "stdout",
     "output_type": "stream",
     "text": [
      "   Drift Rate Speed  Drift Rate Accuracy  Boundary Separation Speed  \\\n",
      "0               0.0             0.419142                   0.628364   \n",
      "\n",
      "   Boundary Separation Accuracy  Non-decision Time Speed  \\\n",
      "0                      0.903755                 0.162988   \n",
      "\n",
      "   Non-decision Time Accuracy         BIC  Frequency  Participant  \n",
      "0                     0.29903  296.832918          3            8  \n",
      "4\n",
      "8\n"
     ]
    },
    {
     "name": "stderr",
     "output_type": "stream",
     "text": [
      "Info: Params [0.57583746 1.04896421 0.59911332 1.09061971 0.18518933 0.25318191] gave 250.3309185305323\n",
      "Warning: This function (from_pandas_dataframe()) is deprecated and will be removed in a future version of PyDDM.  Please use the choice_column_name argument instead.\n"
     ]
    },
    {
     "name": "stdout",
     "output_type": "stream",
     "text": [
      "   Drift Rate Speed  Drift Rate Accuracy  Boundary Separation Speed  \\\n",
      "0          0.575837             1.048964                   0.599113   \n",
      "\n",
      "   Boundary Separation Accuracy  Non-decision Time Speed  \\\n",
      "0                       1.09062                 0.185189   \n",
      "\n",
      "   Non-decision Time Accuracy         BIC  Frequency  Participant  \n",
      "0                    0.253182  250.330919          4            8  \n",
      "5\n",
      "8\n"
     ]
    },
    {
     "name": "stderr",
     "output_type": "stream",
     "text": [
      "Info: Params [0.47872273 1.34806488 0.57446787 1.36099087 0.19503809 0.10401917] gave 207.83074230329672\n",
      "Warning: This function (from_pandas_dataframe()) is deprecated and will be removed in a future version of PyDDM.  Please use the choice_column_name argument instead.\n"
     ]
    },
    {
     "name": "stdout",
     "output_type": "stream",
     "text": [
      "   Drift Rate Speed  Drift Rate Accuracy  Boundary Separation Speed  \\\n",
      "0          0.478723             1.348065                   0.574468   \n",
      "\n",
      "   Boundary Separation Accuracy  Non-decision Time Speed  \\\n",
      "0                      1.360991                 0.195038   \n",
      "\n",
      "   Non-decision Time Accuracy         BIC  Frequency  Participant  \n",
      "0                    0.104019  207.830742          5            8  \n",
      "6\n",
      "8\n"
     ]
    },
    {
     "name": "stderr",
     "output_type": "stream",
     "text": [
      "Info: Params [0.39910857 1.26962133 0.58086073 1.26031041 0.21088107 0.12832154] gave 214.0704074029318\n",
      "Warning: This function (from_pandas_dataframe()) is deprecated and will be removed in a future version of PyDDM.  Please use the choice_column_name argument instead.\n"
     ]
    },
    {
     "name": "stdout",
     "output_type": "stream",
     "text": [
      "   Drift Rate Speed  Drift Rate Accuracy  Boundary Separation Speed  \\\n",
      "0          0.399109             1.269621                   0.580861   \n",
      "\n",
      "   Boundary Separation Accuracy  Non-decision Time Speed  \\\n",
      "0                       1.26031                 0.210881   \n",
      "\n",
      "   Non-decision Time Accuracy         BIC  Frequency  Participant  \n",
      "0                    0.128322  214.070407          6            8  \n",
      "1\n",
      "9\n"
     ]
    },
    {
     "name": "stderr",
     "output_type": "stream",
     "text": [
      "Info: Params [4.22175553 2.66931064 0.5        0.73731828 0.38335588 0.3914969 ] gave -254.47688757828715\n",
      "Warning: This function (from_pandas_dataframe()) is deprecated and will be removed in a future version of PyDDM.  Please use the choice_column_name argument instead.\n"
     ]
    },
    {
     "name": "stdout",
     "output_type": "stream",
     "text": [
      "   Drift Rate Speed  Drift Rate Accuracy  Boundary Separation Speed  \\\n",
      "0          4.221756             2.669311                        0.5   \n",
      "\n",
      "   Boundary Separation Accuracy  Non-decision Time Speed  \\\n",
      "0                      0.737318                 0.383356   \n",
      "\n",
      "   Non-decision Time Accuracy         BIC  Frequency  Participant  \n",
      "0                    0.391497 -254.476888          1            9  \n",
      "2\n",
      "9\n"
     ]
    },
    {
     "name": "stderr",
     "output_type": "stream",
     "text": [
      "Info: Params [2.12654842 1.73281503 0.5        0.895512   0.38742429 0.37619256] gave -17.307704984829545\n",
      "Warning: This function (from_pandas_dataframe()) is deprecated and will be removed in a future version of PyDDM.  Please use the choice_column_name argument instead.\n"
     ]
    },
    {
     "name": "stdout",
     "output_type": "stream",
     "text": [
      "   Drift Rate Speed  Drift Rate Accuracy  Boundary Separation Speed  \\\n",
      "0          2.126548             1.732815                        0.5   \n",
      "\n",
      "   Boundary Separation Accuracy  Non-decision Time Speed  \\\n",
      "0                      0.895512                 0.387424   \n",
      "\n",
      "   Non-decision Time Accuracy        BIC  Frequency  Participant  \n",
      "0                    0.376193 -17.307705          2            9  \n",
      "3\n",
      "9\n"
     ]
    },
    {
     "name": "stderr",
     "output_type": "stream",
     "text": [
      "Info: Params [0.83267615 1.25126827 0.5        0.75993681 0.3858349  0.40668088] gave 57.75385857994845\n",
      "Warning: This function (from_pandas_dataframe()) is deprecated and will be removed in a future version of PyDDM.  Please use the choice_column_name argument instead.\n"
     ]
    },
    {
     "name": "stdout",
     "output_type": "stream",
     "text": [
      "   Drift Rate Speed  Drift Rate Accuracy  Boundary Separation Speed  \\\n",
      "0          0.832676             1.251268                        0.5   \n",
      "\n",
      "   Boundary Separation Accuracy  Non-decision Time Speed  \\\n",
      "0                      0.759937                 0.385835   \n",
      "\n",
      "   Non-decision Time Accuracy        BIC  Frequency  Participant  \n",
      "0                    0.406681  57.753859          3            9  \n",
      "4\n",
      "9\n"
     ]
    },
    {
     "name": "stderr",
     "output_type": "stream",
     "text": [
      "Info: Params [3.10185467 2.07146912 0.54627852 0.78438137 0.37182265 0.41929332] gave -122.80999139425153\n",
      "Warning: This function (from_pandas_dataframe()) is deprecated and will be removed in a future version of PyDDM.  Please use the choice_column_name argument instead.\n"
     ]
    },
    {
     "name": "stdout",
     "output_type": "stream",
     "text": [
      "   Drift Rate Speed  Drift Rate Accuracy  Boundary Separation Speed  \\\n",
      "0          3.101855             2.071469                   0.546279   \n",
      "\n",
      "   Boundary Separation Accuracy  Non-decision Time Speed  \\\n",
      "0                      0.784381                 0.371823   \n",
      "\n",
      "   Non-decision Time Accuracy         BIC  Frequency  Participant  \n",
      "0                    0.419293 -122.809991          4            9  \n",
      "5\n",
      "9\n"
     ]
    },
    {
     "name": "stderr",
     "output_type": "stream",
     "text": [
      "Info: Params [3.06658315 1.71230258 0.52049248 1.06835641 0.38858163 0.22176547] gave -59.61835701862545\n",
      "Warning: This function (from_pandas_dataframe()) is deprecated and will be removed in a future version of PyDDM.  Please use the choice_column_name argument instead.\n"
     ]
    },
    {
     "name": "stdout",
     "output_type": "stream",
     "text": [
      "   Drift Rate Speed  Drift Rate Accuracy  Boundary Separation Speed  \\\n",
      "0          3.066583             1.712303                   0.520492   \n",
      "\n",
      "   Boundary Separation Accuracy  Non-decision Time Speed  \\\n",
      "0                      1.068356                 0.388582   \n",
      "\n",
      "   Non-decision Time Accuracy        BIC  Frequency  Participant  \n",
      "0                    0.221765 -59.618357          5            9  \n",
      "6\n",
      "9\n"
     ]
    },
    {
     "name": "stderr",
     "output_type": "stream",
     "text": [
      "Info: Params [3.24661653 2.36531267 0.5        0.83270445 0.39620662 0.40932151] gave -162.42951898484102\n",
      "Warning: This function (from_pandas_dataframe()) is deprecated and will be removed in a future version of PyDDM.  Please use the choice_column_name argument instead.\n"
     ]
    },
    {
     "name": "stdout",
     "output_type": "stream",
     "text": [
      "   Drift Rate Speed  Drift Rate Accuracy  Boundary Separation Speed  \\\n",
      "0          3.246617             2.365313                        0.5   \n",
      "\n",
      "   Boundary Separation Accuracy  Non-decision Time Speed  \\\n",
      "0                      0.832704                 0.396207   \n",
      "\n",
      "   Non-decision Time Accuracy         BIC  Frequency  Participant  \n",
      "0                    0.409322 -162.429519          6            9  \n",
      "1\n",
      "10\n"
     ]
    },
    {
     "name": "stderr",
     "output_type": "stream",
     "text": [
      "Info: Params [2.71436647 4.37124483 0.53663117 0.83698146 0.28307187 0.34349361] gave -536.5104169463717\n",
      "Warning: This function (from_pandas_dataframe()) is deprecated and will be removed in a future version of PyDDM.  Please use the choice_column_name argument instead.\n"
     ]
    },
    {
     "name": "stdout",
     "output_type": "stream",
     "text": [
      "   Drift Rate Speed  Drift Rate Accuracy  Boundary Separation Speed  \\\n",
      "0          2.714366             4.371245                   0.536631   \n",
      "\n",
      "   Boundary Separation Accuracy  Non-decision Time Speed  \\\n",
      "0                      0.836981                 0.283072   \n",
      "\n",
      "   Non-decision Time Accuracy         BIC  Frequency  Participant  \n",
      "0                    0.343494 -536.510417          1           10  \n",
      "2\n",
      "10\n"
     ]
    },
    {
     "name": "stderr",
     "output_type": "stream",
     "text": [
      "Info: Params [1.51779428 2.75154962 0.55583834 0.73871536 0.26689896 0.3514616 ] gave -199.9478626522843\n",
      "Warning: This function (from_pandas_dataframe()) is deprecated and will be removed in a future version of PyDDM.  Please use the choice_column_name argument instead.\n"
     ]
    },
    {
     "name": "stdout",
     "output_type": "stream",
     "text": [
      "   Drift Rate Speed  Drift Rate Accuracy  Boundary Separation Speed  \\\n",
      "0          1.517794              2.75155                   0.555838   \n",
      "\n",
      "   Boundary Separation Accuracy  Non-decision Time Speed  \\\n",
      "0                      0.738715                 0.266899   \n",
      "\n",
      "   Non-decision Time Accuracy         BIC  Frequency  Participant  \n",
      "0                    0.351462 -199.947863          2           10  \n",
      "3\n",
      "10\n"
     ]
    },
    {
     "name": "stderr",
     "output_type": "stream",
     "text": [
      "Info: Params [0.66625165 1.84829532 0.5        0.62236369 0.27285139 0.37988695] gave -41.23834885241321\n",
      "Warning: This function (from_pandas_dataframe()) is deprecated and will be removed in a future version of PyDDM.  Please use the choice_column_name argument instead.\n"
     ]
    },
    {
     "name": "stdout",
     "output_type": "stream",
     "text": [
      "   Drift Rate Speed  Drift Rate Accuracy  Boundary Separation Speed  \\\n",
      "0          0.666252             1.848295                        0.5   \n",
      "\n",
      "   Boundary Separation Accuracy  Non-decision Time Speed  \\\n",
      "0                      0.622364                 0.272851   \n",
      "\n",
      "   Non-decision Time Accuracy        BIC  Frequency  Participant  \n",
      "0                    0.379887 -41.238349          3           10  \n",
      "4\n",
      "10\n"
     ]
    },
    {
     "name": "stderr",
     "output_type": "stream",
     "text": [
      "Info: Params [2.17356117 2.4405217  0.57212664 0.7717433  0.26716892 0.34340292] gave -211.34065769923015\n",
      "Warning: This function (from_pandas_dataframe()) is deprecated and will be removed in a future version of PyDDM.  Please use the choice_column_name argument instead.\n"
     ]
    },
    {
     "name": "stdout",
     "output_type": "stream",
     "text": [
      "   Drift Rate Speed  Drift Rate Accuracy  Boundary Separation Speed  \\\n",
      "0          2.173561             2.440522                   0.572127   \n",
      "\n",
      "   Boundary Separation Accuracy  Non-decision Time Speed  \\\n",
      "0                      0.771743                 0.267169   \n",
      "\n",
      "   Non-decision Time Accuracy         BIC  Frequency  Participant  \n",
      "0                    0.343403 -211.340658          4           10  \n",
      "5\n",
      "10\n"
     ]
    },
    {
     "name": "stderr",
     "output_type": "stream",
     "text": [
      "Info: Params [2.52965071 2.4144168  0.59466588 0.93413005 0.2654121  0.31908221] gave -208.43102876431607\n",
      "Warning: This function (from_pandas_dataframe()) is deprecated and will be removed in a future version of PyDDM.  Please use the choice_column_name argument instead.\n"
     ]
    },
    {
     "name": "stdout",
     "output_type": "stream",
     "text": [
      "   Drift Rate Speed  Drift Rate Accuracy  Boundary Separation Speed  \\\n",
      "0          2.529651             2.414417                   0.594666   \n",
      "\n",
      "   Boundary Separation Accuracy  Non-decision Time Speed  \\\n",
      "0                       0.93413                 0.265412   \n",
      "\n",
      "   Non-decision Time Accuracy         BIC  Frequency  Participant  \n",
      "0                    0.319082 -208.431029          5           10  \n",
      "6\n",
      "10\n"
     ]
    },
    {
     "name": "stderr",
     "output_type": "stream",
     "text": [
      "Info: Params [2.52137808 2.845207   0.57138329 0.8680825  0.27191349 0.33406636] gave -286.4082000648109\n",
      "Warning: This function (from_pandas_dataframe()) is deprecated and will be removed in a future version of PyDDM.  Please use the choice_column_name argument instead.\n"
     ]
    },
    {
     "name": "stdout",
     "output_type": "stream",
     "text": [
      "   Drift Rate Speed  Drift Rate Accuracy  Boundary Separation Speed  \\\n",
      "0          2.521378             2.845207                   0.571383   \n",
      "\n",
      "   Boundary Separation Accuracy  Non-decision Time Speed  \\\n",
      "0                      0.868082                 0.271913   \n",
      "\n",
      "   Non-decision Time Accuracy       BIC  Frequency  Participant  \n",
      "0                    0.334066 -286.4082          6           10  \n",
      "1\n",
      "11\n"
     ]
    },
    {
     "name": "stderr",
     "output_type": "stream",
     "text": [
      "Info: Params [3.53611288 4.04342388 0.51811142 0.6781632  0.33110926 0.36288248] gave -619.007987183453\n",
      "Warning: This function (from_pandas_dataframe()) is deprecated and will be removed in a future version of PyDDM.  Please use the choice_column_name argument instead.\n"
     ]
    },
    {
     "name": "stdout",
     "output_type": "stream",
     "text": [
      "   Drift Rate Speed  Drift Rate Accuracy  Boundary Separation Speed  \\\n",
      "0          3.536113             4.043424                   0.518111   \n",
      "\n",
      "   Boundary Separation Accuracy  Non-decision Time Speed  \\\n",
      "0                      0.678163                 0.331109   \n",
      "\n",
      "   Non-decision Time Accuracy         BIC  Frequency  Participant  \n",
      "0                    0.362882 -619.007987          1           11  \n",
      "2\n",
      "11\n"
     ]
    },
    {
     "name": "stderr",
     "output_type": "stream",
     "text": [
      "Info: Params [1.22716853 2.41871703 0.5        0.59607047 0.34245216 0.39688307] gave -218.64697928291758\n",
      "Warning: This function (from_pandas_dataframe()) is deprecated and will be removed in a future version of PyDDM.  Please use the choice_column_name argument instead.\n"
     ]
    },
    {
     "name": "stdout",
     "output_type": "stream",
     "text": [
      "   Drift Rate Speed  Drift Rate Accuracy  Boundary Separation Speed  \\\n",
      "0          1.227169             2.418717                        0.5   \n",
      "\n",
      "   Boundary Separation Accuracy  Non-decision Time Speed  \\\n",
      "0                       0.59607                 0.342452   \n",
      "\n",
      "   Non-decision Time Accuracy         BIC  Frequency  Participant  \n",
      "0                    0.396883 -218.646979          2           11  \n",
      "3\n",
      "11\n"
     ]
    },
    {
     "name": "stderr",
     "output_type": "stream",
     "text": [
      "Info: Params [0.79077272 1.32286579 0.5        0.62094519 0.32555229 0.37368132] gave -14.119563555644454\n",
      "Warning: This function (from_pandas_dataframe()) is deprecated and will be removed in a future version of PyDDM.  Please use the choice_column_name argument instead.\n"
     ]
    },
    {
     "name": "stdout",
     "output_type": "stream",
     "text": [
      "   Drift Rate Speed  Drift Rate Accuracy  Boundary Separation Speed  \\\n",
      "0          0.790773             1.322866                        0.5   \n",
      "\n",
      "   Boundary Separation Accuracy  Non-decision Time Speed  \\\n",
      "0                      0.620945                 0.325552   \n",
      "\n",
      "   Non-decision Time Accuracy        BIC  Frequency  Participant  \n",
      "0                    0.373681 -14.119564          3           11  \n",
      "4\n",
      "11\n"
     ]
    },
    {
     "name": "stderr",
     "output_type": "stream",
     "text": [
      "Info: Params [1.57193241 2.40598653 0.5079718  0.83174697 0.33311991 0.33482376] gave -158.48469687318317\n",
      "Warning: This function (from_pandas_dataframe()) is deprecated and will be removed in a future version of PyDDM.  Please use the choice_column_name argument instead.\n"
     ]
    },
    {
     "name": "stdout",
     "output_type": "stream",
     "text": [
      "   Drift Rate Speed  Drift Rate Accuracy  Boundary Separation Speed  \\\n",
      "0          1.571932             2.405987                   0.507972   \n",
      "\n",
      "   Boundary Separation Accuracy  Non-decision Time Speed  \\\n",
      "0                      0.831747                  0.33312   \n",
      "\n",
      "   Non-decision Time Accuracy         BIC  Frequency  Participant  \n",
      "0                    0.334824 -158.484697          4           11  \n",
      "5\n",
      "11\n"
     ]
    },
    {
     "name": "stderr",
     "output_type": "stream",
     "text": [
      "Info: Params [2.09257004 2.84424802 0.5043358  0.8304869  0.33060867 0.37623187] gave -280.22624835759274\n",
      "Warning: This function (from_pandas_dataframe()) is deprecated and will be removed in a future version of PyDDM.  Please use the choice_column_name argument instead.\n"
     ]
    },
    {
     "name": "stdout",
     "output_type": "stream",
     "text": [
      "   Drift Rate Speed  Drift Rate Accuracy  Boundary Separation Speed  \\\n",
      "0           2.09257             2.844248                   0.504336   \n",
      "\n",
      "   Boundary Separation Accuracy  Non-decision Time Speed  \\\n",
      "0                      0.830487                 0.330609   \n",
      "\n",
      "   Non-decision Time Accuracy         BIC  Frequency  Participant  \n",
      "0                    0.376232 -280.226248          5           11  \n",
      "6\n",
      "11\n"
     ]
    },
    {
     "name": "stderr",
     "output_type": "stream",
     "text": [
      "Info: Params [2.3884099  2.39132884 0.5        0.71696746 0.35933157 0.37543944] gave -272.47821227966983\n",
      "Warning: This function (from_pandas_dataframe()) is deprecated and will be removed in a future version of PyDDM.  Please use the choice_column_name argument instead.\n"
     ]
    },
    {
     "name": "stdout",
     "output_type": "stream",
     "text": [
      "   Drift Rate Speed  Drift Rate Accuracy  Boundary Separation Speed  \\\n",
      "0           2.38841             2.391329                        0.5   \n",
      "\n",
      "   Boundary Separation Accuracy  Non-decision Time Speed  \\\n",
      "0                      0.716967                 0.359332   \n",
      "\n",
      "   Non-decision Time Accuracy         BIC  Frequency  Participant  \n",
      "0                    0.375439 -272.478212          6           11  \n",
      "1\n",
      "12\n"
     ]
    },
    {
     "name": "stderr",
     "output_type": "stream",
     "text": [
      "Info: Params [2.33618679 2.37958884 0.8156269  0.76095477 0.19722558 0.30114662] gave -150.38590747636488\n",
      "Warning: This function (from_pandas_dataframe()) is deprecated and will be removed in a future version of PyDDM.  Please use the choice_column_name argument instead.\n"
     ]
    },
    {
     "name": "stdout",
     "output_type": "stream",
     "text": [
      "   Drift Rate Speed  Drift Rate Accuracy  Boundary Separation Speed  \\\n",
      "0          2.336187             2.379589                   0.815627   \n",
      "\n",
      "   Boundary Separation Accuracy  Non-decision Time Speed  \\\n",
      "0                      0.760955                 0.197226   \n",
      "\n",
      "   Non-decision Time Accuracy         BIC  Frequency  Participant  \n",
      "0                    0.301147 -150.385907          1           12  \n",
      "2\n",
      "12\n"
     ]
    },
    {
     "name": "stderr",
     "output_type": "stream",
     "text": [
      "Info: Params [1.50174242 1.22710162 0.53290294 0.71610974 0.31552086 0.3489183 ] gave 69.38847144151455\n",
      "Warning: This function (from_pandas_dataframe()) is deprecated and will be removed in a future version of PyDDM.  Please use the choice_column_name argument instead.\n"
     ]
    },
    {
     "name": "stdout",
     "output_type": "stream",
     "text": [
      "   Drift Rate Speed  Drift Rate Accuracy  Boundary Separation Speed  \\\n",
      "0          1.501742             1.227102                   0.532903   \n",
      "\n",
      "   Boundary Separation Accuracy  Non-decision Time Speed  \\\n",
      "0                       0.71611                 0.315521   \n",
      "\n",
      "   Non-decision Time Accuracy        BIC  Frequency  Participant  \n",
      "0                    0.348918  69.388471          2           12  \n",
      "3\n",
      "12\n"
     ]
    },
    {
     "name": "stderr",
     "output_type": "stream",
     "text": [
      "Info: Params [0.45512633 0.82807411 0.53402733 0.73067857 0.27125935 0.31346897] gave 251.20763482245349\n",
      "Warning: This function (from_pandas_dataframe()) is deprecated and will be removed in a future version of PyDDM.  Please use the choice_column_name argument instead.\n"
     ]
    },
    {
     "name": "stdout",
     "output_type": "stream",
     "text": [
      "   Drift Rate Speed  Drift Rate Accuracy  Boundary Separation Speed  \\\n",
      "0          0.455126             0.828074                   0.534027   \n",
      "\n",
      "   Boundary Separation Accuracy  Non-decision Time Speed  \\\n",
      "0                      0.730679                 0.271259   \n",
      "\n",
      "   Non-decision Time Accuracy         BIC  Frequency  Participant  \n",
      "0                    0.313469  251.207635          3           12  \n",
      "4\n",
      "12\n"
     ]
    },
    {
     "name": "stderr",
     "output_type": "stream",
     "text": [
      "Info: Params [1.43877467 1.51514642 0.80688063 0.75792792 0.17066447 0.31528198] gave 182.8821039198531\n",
      "Warning: This function (from_pandas_dataframe()) is deprecated and will be removed in a future version of PyDDM.  Please use the choice_column_name argument instead.\n"
     ]
    },
    {
     "name": "stdout",
     "output_type": "stream",
     "text": [
      "   Drift Rate Speed  Drift Rate Accuracy  Boundary Separation Speed  \\\n",
      "0          1.438775             1.515146                   0.806881   \n",
      "\n",
      "   Boundary Separation Accuracy  Non-decision Time Speed  \\\n",
      "0                      0.757928                 0.170664   \n",
      "\n",
      "   Non-decision Time Accuracy         BIC  Frequency  Participant  \n",
      "0                    0.315282  182.882104          4           12  \n",
      "5\n",
      "12\n"
     ]
    },
    {
     "name": "stderr",
     "output_type": "stream",
     "text": [
      "Info: Params [1.64178578 1.63705823 0.52936931 0.81615765 0.3235975  0.32290231] gave 102.81940770870804\n",
      "Warning: This function (from_pandas_dataframe()) is deprecated and will be removed in a future version of PyDDM.  Please use the choice_column_name argument instead.\n"
     ]
    },
    {
     "name": "stdout",
     "output_type": "stream",
     "text": [
      "   Drift Rate Speed  Drift Rate Accuracy  Boundary Separation Speed  \\\n",
      "0          1.641786             1.637058                   0.529369   \n",
      "\n",
      "   Boundary Separation Accuracy  Non-decision Time Speed  \\\n",
      "0                      0.816158                 0.323598   \n",
      "\n",
      "   Non-decision Time Accuracy         BIC  Frequency  Participant  \n",
      "0                    0.322902  102.819408          5           12  \n",
      "6\n",
      "12\n"
     ]
    },
    {
     "name": "stderr",
     "output_type": "stream",
     "text": [
      "Info: Params [1.69820441 1.44029432 0.71162663 0.88157885 0.24478199 0.25875757] gave 145.79367364954322\n",
      "Warning: This function (from_pandas_dataframe()) is deprecated and will be removed in a future version of PyDDM.  Please use the choice_column_name argument instead.\n"
     ]
    },
    {
     "name": "stdout",
     "output_type": "stream",
     "text": [
      "   Drift Rate Speed  Drift Rate Accuracy  Boundary Separation Speed  \\\n",
      "0          1.698204             1.440294                   0.711627   \n",
      "\n",
      "   Boundary Separation Accuracy  Non-decision Time Speed  \\\n",
      "0                      0.881579                 0.244782   \n",
      "\n",
      "   Non-decision Time Accuracy         BIC  Frequency  Participant  \n",
      "0                    0.258758  145.793674          6           12  \n",
      "1\n",
      "13\n"
     ]
    },
    {
     "name": "stderr",
     "output_type": "stream",
     "text": [
      "Info: Params [1.94378839 1.93639617 0.5929415  0.81262361 0.30417086 0.34974358] gave -70.61568081477569\n",
      "Warning: This function (from_pandas_dataframe()) is deprecated and will be removed in a future version of PyDDM.  Please use the choice_column_name argument instead.\n"
     ]
    },
    {
     "name": "stdout",
     "output_type": "stream",
     "text": [
      "   Drift Rate Speed  Drift Rate Accuracy  Boundary Separation Speed  \\\n",
      "0          1.943788             1.936396                   0.592942   \n",
      "\n",
      "   Boundary Separation Accuracy  Non-decision Time Speed  \\\n",
      "0                      0.812624                 0.304171   \n",
      "\n",
      "   Non-decision Time Accuracy        BIC  Frequency  Participant  \n",
      "0                    0.349744 -70.615681          1           13  \n",
      "2\n",
      "13\n"
     ]
    },
    {
     "name": "stderr",
     "output_type": "stream",
     "text": [
      "Info: Params [1.38733572 1.6539142  0.54301478 0.77680749 0.33348868 0.39590284] gave 30.136936721609537\n",
      "Warning: This function (from_pandas_dataframe()) is deprecated and will be removed in a future version of PyDDM.  Please use the choice_column_name argument instead.\n"
     ]
    },
    {
     "name": "stdout",
     "output_type": "stream",
     "text": [
      "   Drift Rate Speed  Drift Rate Accuracy  Boundary Separation Speed  \\\n",
      "0          1.387336             1.653914                   0.543015   \n",
      "\n",
      "   Boundary Separation Accuracy  Non-decision Time Speed  \\\n",
      "0                      0.776807                 0.333489   \n",
      "\n",
      "   Non-decision Time Accuracy        BIC  Frequency  Participant  \n",
      "0                    0.395903  30.136937          2           13  \n",
      "3\n",
      "13\n"
     ]
    },
    {
     "name": "stderr",
     "output_type": "stream",
     "text": [
      "Info: Params [0.4957001  0.80347794 0.53246767 0.79054244 0.33006017 0.33502016] gave 279.87293520541436\n",
      "Warning: This function (from_pandas_dataframe()) is deprecated and will be removed in a future version of PyDDM.  Please use the choice_column_name argument instead.\n"
     ]
    },
    {
     "name": "stdout",
     "output_type": "stream",
     "text": [
      "   Drift Rate Speed  Drift Rate Accuracy  Boundary Separation Speed  \\\n",
      "0            0.4957             0.803478                   0.532468   \n",
      "\n",
      "   Boundary Separation Accuracy  Non-decision Time Speed  \\\n",
      "0                      0.790542                  0.33006   \n",
      "\n",
      "   Non-decision Time Accuracy         BIC  Frequency  Participant  \n",
      "0                     0.33502  279.872935          3           13  \n",
      "4\n",
      "13\n"
     ]
    },
    {
     "name": "stderr",
     "output_type": "stream",
     "text": [
      "Info: Params [1.36004128 1.58424391 0.56955495 0.88049286 0.32083846 0.35338009] gave 101.21391365644766\n",
      "Warning: This function (from_pandas_dataframe()) is deprecated and will be removed in a future version of PyDDM.  Please use the choice_column_name argument instead.\n"
     ]
    },
    {
     "name": "stdout",
     "output_type": "stream",
     "text": [
      "   Drift Rate Speed  Drift Rate Accuracy  Boundary Separation Speed  \\\n",
      "0          1.360041             1.584244                   0.569555   \n",
      "\n",
      "   Boundary Separation Accuracy  Non-decision Time Speed  \\\n",
      "0                      0.880493                 0.320838   \n",
      "\n",
      "   Non-decision Time Accuracy         BIC  Frequency  Participant  \n",
      "0                     0.35338  101.213914          4           13  \n",
      "5\n",
      "13\n"
     ]
    },
    {
     "name": "stderr",
     "output_type": "stream",
     "text": [
      "Info: Params [1.83197291 1.55092137 0.61012758 0.84266827 0.32898521 0.38531605] gave 54.6272717481383\n",
      "Warning: This function (from_pandas_dataframe()) is deprecated and will be removed in a future version of PyDDM.  Please use the choice_column_name argument instead.\n"
     ]
    },
    {
     "name": "stdout",
     "output_type": "stream",
     "text": [
      "   Drift Rate Speed  Drift Rate Accuracy  Boundary Separation Speed  \\\n",
      "0          1.831973             1.550921                   0.610128   \n",
      "\n",
      "   Boundary Separation Accuracy  Non-decision Time Speed  \\\n",
      "0                      0.842668                 0.328985   \n",
      "\n",
      "   Non-decision Time Accuracy        BIC  Frequency  Participant  \n",
      "0                    0.385316  54.627272          5           13  \n",
      "6\n",
      "13\n"
     ]
    },
    {
     "name": "stderr",
     "output_type": "stream",
     "text": [
      "Info: Params [1.71586952 1.44480752 0.64275623 0.77933133 0.30332912 0.36785154] gave 90.8227325656024\n",
      "Warning: This function (from_pandas_dataframe()) is deprecated and will be removed in a future version of PyDDM.  Please use the choice_column_name argument instead.\n"
     ]
    },
    {
     "name": "stdout",
     "output_type": "stream",
     "text": [
      "   Drift Rate Speed  Drift Rate Accuracy  Boundary Separation Speed  \\\n",
      "0           1.71587             1.444808                   0.642756   \n",
      "\n",
      "   Boundary Separation Accuracy  Non-decision Time Speed  \\\n",
      "0                      0.779331                 0.303329   \n",
      "\n",
      "   Non-decision Time Accuracy        BIC  Frequency  Participant  \n",
      "0                    0.367852  90.822733          6           13  \n",
      "1\n",
      "14\n"
     ]
    },
    {
     "name": "stderr",
     "output_type": "stream",
     "text": [
      "Info: Params [3.4382046  2.50355897 0.76985474 0.78498329 0.26306659 0.35519477] gave -306.3553469409379\n",
      "Warning: This function (from_pandas_dataframe()) is deprecated and will be removed in a future version of PyDDM.  Please use the choice_column_name argument instead.\n"
     ]
    },
    {
     "name": "stdout",
     "output_type": "stream",
     "text": [
      "   Drift Rate Speed  Drift Rate Accuracy  Boundary Separation Speed  \\\n",
      "0          3.438205             2.503559                   0.769855   \n",
      "\n",
      "   Boundary Separation Accuracy  Non-decision Time Speed  \\\n",
      "0                      0.784983                 0.263067   \n",
      "\n",
      "   Non-decision Time Accuracy         BIC  Frequency  Participant  \n",
      "0                    0.355195 -306.355347          1           14  \n",
      "2\n",
      "14\n"
     ]
    },
    {
     "name": "stderr",
     "output_type": "stream",
     "text": [
      "Info: Params [2.07763526 1.64392717 0.57605551 0.84589717 0.31102676 0.36559399] gave -13.570130495250865\n",
      "Warning: This function (from_pandas_dataframe()) is deprecated and will be removed in a future version of PyDDM.  Please use the choice_column_name argument instead.\n"
     ]
    },
    {
     "name": "stdout",
     "output_type": "stream",
     "text": [
      "   Drift Rate Speed  Drift Rate Accuracy  Boundary Separation Speed  \\\n",
      "0          2.077635             1.643927                   0.576056   \n",
      "\n",
      "   Boundary Separation Accuracy  Non-decision Time Speed  \\\n",
      "0                      0.845897                 0.311027   \n",
      "\n",
      "   Non-decision Time Accuracy       BIC  Frequency  Participant  \n",
      "0                    0.365594 -13.57013          2           14  \n",
      "3\n",
      "14\n"
     ]
    },
    {
     "name": "stderr",
     "output_type": "stream",
     "text": [
      "Info: Params [1.40796081 1.10304518 0.51654533 0.89001426 0.34591813 0.32169103] gave 178.86026913857432\n",
      "Warning: This function (from_pandas_dataframe()) is deprecated and will be removed in a future version of PyDDM.  Please use the choice_column_name argument instead.\n"
     ]
    },
    {
     "name": "stdout",
     "output_type": "stream",
     "text": [
      "   Drift Rate Speed  Drift Rate Accuracy  Boundary Separation Speed  \\\n",
      "0          1.407961             1.103045                   0.516545   \n",
      "\n",
      "   Boundary Separation Accuracy  Non-decision Time Speed  \\\n",
      "0                      0.890014                 0.345918   \n",
      "\n",
      "   Non-decision Time Accuracy         BIC  Frequency  Participant  \n",
      "0                    0.321691  178.860269          3           14  \n",
      "4\n",
      "14\n"
     ]
    },
    {
     "name": "stderr",
     "output_type": "stream",
     "text": [
      "Info: Params [2.37860145 2.03362877 0.62555394 0.87881859 0.36583109 0.44341282] gave -112.65762234174815\n",
      "Warning: This function (from_pandas_dataframe()) is deprecated and will be removed in a future version of PyDDM.  Please use the choice_column_name argument instead.\n"
     ]
    },
    {
     "name": "stdout",
     "output_type": "stream",
     "text": [
      "   Drift Rate Speed  Drift Rate Accuracy  Boundary Separation Speed  \\\n",
      "0          2.378601             2.033629                   0.625554   \n",
      "\n",
      "   Boundary Separation Accuracy  Non-decision Time Speed  \\\n",
      "0                      0.878819                 0.365831   \n",
      "\n",
      "   Non-decision Time Accuracy         BIC  Frequency  Participant  \n",
      "0                    0.443413 -112.657622          4           14  \n",
      "5\n",
      "14\n"
     ]
    },
    {
     "name": "stderr",
     "output_type": "stream",
     "text": [
      "Info: Params [1.64566675 1.55374908 0.65019665 1.50896878 0.29687698 0.12312618] gave 226.5007888165374\n",
      "Warning: This function (from_pandas_dataframe()) is deprecated and will be removed in a future version of PyDDM.  Please use the choice_column_name argument instead.\n"
     ]
    },
    {
     "name": "stdout",
     "output_type": "stream",
     "text": [
      "   Drift Rate Speed  Drift Rate Accuracy  Boundary Separation Speed  \\\n",
      "0          1.645667             1.553749                   0.650197   \n",
      "\n",
      "   Boundary Separation Accuracy  Non-decision Time Speed  \\\n",
      "0                      1.508969                 0.296877   \n",
      "\n",
      "   Non-decision Time Accuracy         BIC  Frequency  Participant  \n",
      "0                    0.123126  226.500789          5           14  \n",
      "6\n",
      "14\n"
     ]
    },
    {
     "name": "stderr",
     "output_type": "stream",
     "text": [
      "Info: Params [2.03300159 1.6215024  0.59456676 1.06501671 0.33358316 0.38381536] gave 49.74392431928354\n",
      "Warning: This function (from_pandas_dataframe()) is deprecated and will be removed in a future version of PyDDM.  Please use the choice_column_name argument instead.\n"
     ]
    },
    {
     "name": "stdout",
     "output_type": "stream",
     "text": [
      "   Drift Rate Speed  Drift Rate Accuracy  Boundary Separation Speed  \\\n",
      "0          2.033002             1.621502                   0.594567   \n",
      "\n",
      "   Boundary Separation Accuracy  Non-decision Time Speed  \\\n",
      "0                      1.065017                 0.333583   \n",
      "\n",
      "   Non-decision Time Accuracy        BIC  Frequency  Participant  \n",
      "0                    0.383815  49.743924          6           14  \n",
      "1\n",
      "15\n"
     ]
    },
    {
     "name": "stderr",
     "output_type": "stream",
     "text": [
      "Info: Params [2.32153887 2.47331323 0.56337142 1.03058913 0.32580895 0.345815  ] gave -183.86911125500058\n",
      "Warning: This function (from_pandas_dataframe()) is deprecated and will be removed in a future version of PyDDM.  Please use the choice_column_name argument instead.\n"
     ]
    },
    {
     "name": "stdout",
     "output_type": "stream",
     "text": [
      "   Drift Rate Speed  Drift Rate Accuracy  Boundary Separation Speed  \\\n",
      "0          2.321539             2.473313                   0.563371   \n",
      "\n",
      "   Boundary Separation Accuracy  Non-decision Time Speed  \\\n",
      "0                      1.030589                 0.325809   \n",
      "\n",
      "   Non-decision Time Accuracy         BIC  Frequency  Participant  \n",
      "0                    0.345815 -183.869111          1           15  \n",
      "2\n",
      "15\n"
     ]
    },
    {
     "name": "stderr",
     "output_type": "stream",
     "text": [
      "Info: Params [1.687779   1.99961821 0.62604116 0.93223616 0.29430094 0.40421271] gave 5.471216372911783\n",
      "Warning: This function (from_pandas_dataframe()) is deprecated and will be removed in a future version of PyDDM.  Please use the choice_column_name argument instead.\n"
     ]
    },
    {
     "name": "stdout",
     "output_type": "stream",
     "text": [
      "   Drift Rate Speed  Drift Rate Accuracy  Boundary Separation Speed  \\\n",
      "0          1.687779             1.999618                   0.626041   \n",
      "\n",
      "   Boundary Separation Accuracy  Non-decision Time Speed  \\\n",
      "0                      0.932236                 0.294301   \n",
      "\n",
      "   Non-decision Time Accuracy       BIC  Frequency  Participant  \n",
      "0                    0.404213  5.471216          2           15  \n",
      "3\n",
      "15\n"
     ]
    },
    {
     "name": "stderr",
     "output_type": "stream",
     "text": [
      "Info: Params [0.81628891 1.13947292 0.50655563 0.81313344 0.32388346 0.4449256 ] gave 198.985290707209\n",
      "Warning: This function (from_pandas_dataframe()) is deprecated and will be removed in a future version of PyDDM.  Please use the choice_column_name argument instead.\n"
     ]
    },
    {
     "name": "stdout",
     "output_type": "stream",
     "text": [
      "   Drift Rate Speed  Drift Rate Accuracy  Boundary Separation Speed  \\\n",
      "0          0.816289             1.139473                   0.506556   \n",
      "\n",
      "   Boundary Separation Accuracy  Non-decision Time Speed  \\\n",
      "0                      0.813133                 0.323883   \n",
      "\n",
      "   Non-decision Time Accuracy         BIC  Frequency  Participant  \n",
      "0                    0.444926  198.985291          3           15  \n",
      "4\n",
      "15\n"
     ]
    },
    {
     "name": "stderr",
     "output_type": "stream",
     "text": [
      "Info: Params [1.96208799 2.20153862 0.53938474 1.02612735 0.34007144 0.42236591] gave -100.37987423192416\n",
      "Warning: This function (from_pandas_dataframe()) is deprecated and will be removed in a future version of PyDDM.  Please use the choice_column_name argument instead.\n"
     ]
    },
    {
     "name": "stdout",
     "output_type": "stream",
     "text": [
      "   Drift Rate Speed  Drift Rate Accuracy  Boundary Separation Speed  \\\n",
      "0          1.962088             2.201539                   0.539385   \n",
      "\n",
      "   Boundary Separation Accuracy  Non-decision Time Speed  \\\n",
      "0                      1.026127                 0.340071   \n",
      "\n",
      "   Non-decision Time Accuracy         BIC  Frequency  Participant  \n",
      "0                    0.422366 -100.379874          4           15  \n",
      "5\n",
      "15\n"
     ]
    },
    {
     "name": "stderr",
     "output_type": "stream",
     "text": [
      "Info: Params [1.60990299 1.88777737 0.59761553 1.05107829 0.3024874  0.38148979] gave 44.25379431489595\n",
      "Warning: This function (from_pandas_dataframe()) is deprecated and will be removed in a future version of PyDDM.  Please use the choice_column_name argument instead.\n"
     ]
    },
    {
     "name": "stdout",
     "output_type": "stream",
     "text": [
      "   Drift Rate Speed  Drift Rate Accuracy  Boundary Separation Speed  \\\n",
      "0          1.609903             1.887777                   0.597616   \n",
      "\n",
      "   Boundary Separation Accuracy  Non-decision Time Speed  \\\n",
      "0                      1.051078                 0.302487   \n",
      "\n",
      "   Non-decision Time Accuracy        BIC  Frequency  Participant  \n",
      "0                     0.38149  44.253794          5           15  \n",
      "6\n",
      "15\n"
     ]
    },
    {
     "name": "stderr",
     "output_type": "stream",
     "text": [
      "Info: Params [1.95134716 2.1585945  0.56991487 0.85149917 0.33408763 0.44086892] gave -109.96309904992911\n",
      "Warning: This function (from_pandas_dataframe()) is deprecated and will be removed in a future version of PyDDM.  Please use the choice_column_name argument instead.\n"
     ]
    },
    {
     "name": "stdout",
     "output_type": "stream",
     "text": [
      "   Drift Rate Speed  Drift Rate Accuracy  Boundary Separation Speed  \\\n",
      "0          1.951347             2.158594                   0.569915   \n",
      "\n",
      "   Boundary Separation Accuracy  Non-decision Time Speed  \\\n",
      "0                      0.851499                 0.334088   \n",
      "\n",
      "   Non-decision Time Accuracy         BIC  Frequency  Participant  \n",
      "0                    0.440869 -109.963099          6           15  \n",
      "1\n",
      "16\n"
     ]
    },
    {
     "name": "stderr",
     "output_type": "stream",
     "text": [
      "Info: Params [1.49906207 2.469757   0.57735467 0.71645566 0.25585383 0.39386117] gave -124.8936157240586\n",
      "Warning: This function (from_pandas_dataframe()) is deprecated and will be removed in a future version of PyDDM.  Please use the choice_column_name argument instead.\n"
     ]
    },
    {
     "name": "stdout",
     "output_type": "stream",
     "text": [
      "   Drift Rate Speed  Drift Rate Accuracy  Boundary Separation Speed  \\\n",
      "0          1.499062             2.469757                   0.577355   \n",
      "\n",
      "   Boundary Separation Accuracy  Non-decision Time Speed  \\\n",
      "0                      0.716456                 0.255854   \n",
      "\n",
      "   Non-decision Time Accuracy         BIC  Frequency  Participant  \n",
      "0                    0.393861 -124.893616          1           16  \n",
      "2\n",
      "16\n"
     ]
    },
    {
     "name": "stderr",
     "output_type": "stream",
     "text": [
      "Info: Params [1.13899127 1.78837261 0.64061907 0.77633835 0.22596107 0.41001785] gave 118.2793285962407\n",
      "Warning: This function (from_pandas_dataframe()) is deprecated and will be removed in a future version of PyDDM.  Please use the choice_column_name argument instead.\n"
     ]
    },
    {
     "name": "stdout",
     "output_type": "stream",
     "text": [
      "   Drift Rate Speed  Drift Rate Accuracy  Boundary Separation Speed  \\\n",
      "0          1.138991             1.788373                   0.640619   \n",
      "\n",
      "   Boundary Separation Accuracy  Non-decision Time Speed  \\\n",
      "0                      0.776338                 0.225961   \n",
      "\n",
      "   Non-decision Time Accuracy         BIC  Frequency  Participant  \n",
      "0                    0.410018  118.279329          2           16  \n",
      "3\n",
      "16\n"
     ]
    },
    {
     "name": "stderr",
     "output_type": "stream",
     "text": [
      "Info: Params [0.70143444 1.22228772 0.62334168 0.81792364 0.22976435 0.37800821] gave 298.96393851166874\n",
      "Warning: This function (from_pandas_dataframe()) is deprecated and will be removed in a future version of PyDDM.  Please use the choice_column_name argument instead.\n"
     ]
    },
    {
     "name": "stdout",
     "output_type": "stream",
     "text": [
      "   Drift Rate Speed  Drift Rate Accuracy  Boundary Separation Speed  \\\n",
      "0          0.701434             1.222288                   0.623342   \n",
      "\n",
      "   Boundary Separation Accuracy  Non-decision Time Speed  \\\n",
      "0                      0.817924                 0.229764   \n",
      "\n",
      "   Non-decision Time Accuracy         BIC  Frequency  Participant  \n",
      "0                    0.378008  298.963939          3           16  \n",
      "4\n",
      "16\n"
     ]
    },
    {
     "name": "stderr",
     "output_type": "stream",
     "text": [
      "Info: Params [1.12316393 1.91955271 0.65582159 0.86885136 0.21717085 0.39934801] gave 110.59366248332739\n",
      "Warning: This function (from_pandas_dataframe()) is deprecated and will be removed in a future version of PyDDM.  Please use the choice_column_name argument instead.\n"
     ]
    },
    {
     "name": "stdout",
     "output_type": "stream",
     "text": [
      "   Drift Rate Speed  Drift Rate Accuracy  Boundary Separation Speed  \\\n",
      "0          1.123164             1.919553                   0.655822   \n",
      "\n",
      "   Boundary Separation Accuracy  Non-decision Time Speed  \\\n",
      "0                      0.868851                 0.217171   \n",
      "\n",
      "   Non-decision Time Accuracy         BIC  Frequency  Participant  \n",
      "0                    0.399348  110.593662          4           16  \n",
      "5\n",
      "16\n"
     ]
    },
    {
     "name": "stderr",
     "output_type": "stream",
     "text": [
      "Info: Params [0.81846262 1.8310467  0.62594158 0.88105746 0.22536854 0.38331626] gave 176.60853236657857\n",
      "Warning: This function (from_pandas_dataframe()) is deprecated and will be removed in a future version of PyDDM.  Please use the choice_column_name argument instead.\n"
     ]
    },
    {
     "name": "stdout",
     "output_type": "stream",
     "text": [
      "   Drift Rate Speed  Drift Rate Accuracy  Boundary Separation Speed  \\\n",
      "0          0.818463             1.831047                   0.625942   \n",
      "\n",
      "   Boundary Separation Accuracy  Non-decision Time Speed  \\\n",
      "0                      0.881057                 0.225369   \n",
      "\n",
      "   Non-decision Time Accuracy         BIC  Frequency  Participant  \n",
      "0                    0.383316  176.608532          5           16  \n",
      "6\n",
      "16\n"
     ]
    },
    {
     "name": "stderr",
     "output_type": "stream",
     "text": [
      "Info: Params [0.97011583 1.92989414 0.72167044 0.8079171  0.19409281 0.38228716] gave 161.89374727385507\n",
      "Warning: This function (from_pandas_dataframe()) is deprecated and will be removed in a future version of PyDDM.  Please use the choice_column_name argument instead.\n"
     ]
    },
    {
     "name": "stdout",
     "output_type": "stream",
     "text": [
      "   Drift Rate Speed  Drift Rate Accuracy  Boundary Separation Speed  \\\n",
      "0          0.970116             1.929894                    0.72167   \n",
      "\n",
      "   Boundary Separation Accuracy  Non-decision Time Speed  \\\n",
      "0                      0.807917                 0.194093   \n",
      "\n",
      "   Non-decision Time Accuracy         BIC  Frequency  Participant  \n",
      "0                    0.382287  161.893747          6           16  \n",
      "1\n",
      "17\n"
     ]
    },
    {
     "name": "stderr",
     "output_type": "stream",
     "text": [
      "Info: Params [3.01990365 3.17517333 0.61597253 1.12255561 0.32688692 0.34013506] gave -323.6446572627132\n",
      "Warning: This function (from_pandas_dataframe()) is deprecated and will be removed in a future version of PyDDM.  Please use the choice_column_name argument instead.\n"
     ]
    },
    {
     "name": "stdout",
     "output_type": "stream",
     "text": [
      "   Drift Rate Speed  Drift Rate Accuracy  Boundary Separation Speed  \\\n",
      "0          3.019904             3.175173                   0.615973   \n",
      "\n",
      "   Boundary Separation Accuracy  Non-decision Time Speed  \\\n",
      "0                      1.122556                 0.326887   \n",
      "\n",
      "   Non-decision Time Accuracy         BIC  Frequency  Participant  \n",
      "0                    0.340135 -323.644657          1           17  \n",
      "2\n",
      "17\n"
     ]
    },
    {
     "name": "stderr",
     "output_type": "stream",
     "text": [
      "Info: Params [2.58126052 2.44187737 0.71982469 0.94856872 0.30930128 0.39141317] gave -175.9661761236596\n",
      "Warning: This function (from_pandas_dataframe()) is deprecated and will be removed in a future version of PyDDM.  Please use the choice_column_name argument instead.\n"
     ]
    },
    {
     "name": "stdout",
     "output_type": "stream",
     "text": [
      "   Drift Rate Speed  Drift Rate Accuracy  Boundary Separation Speed  \\\n",
      "0          2.581261             2.441877                   0.719825   \n",
      "\n",
      "   Boundary Separation Accuracy  Non-decision Time Speed  \\\n",
      "0                      0.948569                 0.309301   \n",
      "\n",
      "   Non-decision Time Accuracy         BIC  Frequency  Participant  \n",
      "0                    0.391413 -175.966176          2           17  \n",
      "3\n",
      "17\n"
     ]
    },
    {
     "name": "stderr",
     "output_type": "stream",
     "text": [
      "Info: Params [1.68990379 1.66464038 0.57548526 0.73879849 0.32550985 0.45398721] gave 8.237974426420351\n",
      "Warning: This function (from_pandas_dataframe()) is deprecated and will be removed in a future version of PyDDM.  Please use the choice_column_name argument instead.\n"
     ]
    },
    {
     "name": "stdout",
     "output_type": "stream",
     "text": [
      "   Drift Rate Speed  Drift Rate Accuracy  Boundary Separation Speed  \\\n",
      "0          1.689904              1.66464                   0.575485   \n",
      "\n",
      "   Boundary Separation Accuracy  Non-decision Time Speed  \\\n",
      "0                      0.738798                  0.32551   \n",
      "\n",
      "   Non-decision Time Accuracy       BIC  Frequency  Participant  \n",
      "0                    0.453987  8.237974          3           17  \n",
      "4\n",
      "17\n"
     ]
    },
    {
     "name": "stderr",
     "output_type": "stream",
     "text": [
      "Info: Params [2.1671369  2.6556665  0.69331599 1.06793196 0.30219993 0.40632972] gave -124.58603631937197\n",
      "Warning: This function (from_pandas_dataframe()) is deprecated and will be removed in a future version of PyDDM.  Please use the choice_column_name argument instead.\n"
     ]
    },
    {
     "name": "stdout",
     "output_type": "stream",
     "text": [
      "   Drift Rate Speed  Drift Rate Accuracy  Boundary Separation Speed  \\\n",
      "0          2.167137             2.655667                   0.693316   \n",
      "\n",
      "   Boundary Separation Accuracy  Non-decision Time Speed  \\\n",
      "0                      1.067932                   0.3022   \n",
      "\n",
      "   Non-decision Time Accuracy         BIC  Frequency  Participant  \n",
      "0                     0.40633 -124.586036          4           17  \n",
      "5\n",
      "17\n"
     ]
    },
    {
     "name": "stderr",
     "output_type": "stream",
     "text": [
      "Info: Params [2.49575714 2.25557588 0.70044544 0.94356799 0.32442771 0.40756034] gave -131.37112579032072\n",
      "Warning: This function (from_pandas_dataframe()) is deprecated and will be removed in a future version of PyDDM.  Please use the choice_column_name argument instead.\n"
     ]
    },
    {
     "name": "stdout",
     "output_type": "stream",
     "text": [
      "   Drift Rate Speed  Drift Rate Accuracy  Boundary Separation Speed  \\\n",
      "0          2.495757             2.255576                   0.700445   \n",
      "\n",
      "   Boundary Separation Accuracy  Non-decision Time Speed  \\\n",
      "0                      0.943568                 0.324428   \n",
      "\n",
      "   Non-decision Time Accuracy         BIC  Frequency  Participant  \n",
      "0                     0.40756 -131.371126          5           17  \n",
      "6\n",
      "17\n"
     ]
    },
    {
     "name": "stderr",
     "output_type": "stream",
     "text": [
      "Info: Params [2.24218628 2.4678574  0.86471899 1.36729442 0.24252312 0.2749427 ] gave -7.52826602843254\n"
     ]
    },
    {
     "name": "stdout",
     "output_type": "stream",
     "text": [
      "   Drift Rate Speed  Drift Rate Accuracy  Boundary Separation Speed  \\\n",
      "0          2.242186             2.467857                   0.864719   \n",
      "\n",
      "   Boundary Separation Accuracy  Non-decision Time Speed  \\\n",
      "0                      1.367294                 0.242523   \n",
      "\n",
      "   Non-decision Time Accuracy       BIC  Frequency  Participant  \n",
      "0                    0.274943 -7.528266          6           17  \n"
     ]
    }
   ],
   "source": [
    "participants = [1,  3,  4,  5,  6,  7,  8,  9, 10, 11, 12, 13, 14, 15, 16, 17]\n",
    "df_all = pd.DataFrame()\n",
    "for i in participants:\n",
    "    for freq in range(1,7):\n",
    "        print(freq)\n",
    "        print(i)\n",
    "        df = pd.read_csv(data_dir)\n",
    "        df = df[df[\"Participant\"]==i]\n",
    "        df = df[df[\"Frequency\"]==freq]\n",
    "        df = df[df[\"RT\"]<5]\n",
    "\n",
    "        samp = Sample.from_pandas_dataframe(df, rt_column_name=\"RT\", correct_column_name=\"Correct\")\n",
    "        df_param = get_DDM_result_sub_2v2a2ter(samp)\n",
    "        df_param['Frequency'] = freq\n",
    "        df_param[\"Participant\"]=i\n",
    "        df_all = pd.concat((df_all,df_param))\n",
    "        print(df_param)\n",
    "df_OUM = df_all.copy()\n"
   ]
  },
  {
   "cell_type": "code",
   "execution_count": 7,
   "id": "3b05a53a",
   "metadata": {},
   "outputs": [],
   "source": [
    "df_OUM.to_csv(\"DDM2v2a2terresultWagenmakers2008.csv\")"
   ]
  },
  {
   "cell_type": "code",
   "execution_count": 8,
   "id": "87e8797e",
   "metadata": {},
   "outputs": [
    {
     "data": {
      "text/plain": [
       "-56.04054434347543"
      ]
     },
     "execution_count": 8,
     "metadata": {},
     "output_type": "execute_result"
    }
   ],
   "source": [
    "df_OUM[\"BIC\"].mean()"
   ]
  },
  {
   "cell_type": "code",
   "execution_count": null,
   "id": "c5baddcf",
   "metadata": {},
   "outputs": [],
   "source": []
  }
 ],
 "metadata": {
  "kernelspec": {
   "display_name": "Python 3 (ipykernel)",
   "language": "python",
   "name": "python3"
  },
  "language_info": {
   "codemirror_mode": {
    "name": "ipython",
    "version": 3
   },
   "file_extension": ".py",
   "mimetype": "text/x-python",
   "name": "python",
   "nbconvert_exporter": "python",
   "pygments_lexer": "ipython3",
   "version": "3.11.4"
  }
 },
 "nbformat": 4,
 "nbformat_minor": 5
}
