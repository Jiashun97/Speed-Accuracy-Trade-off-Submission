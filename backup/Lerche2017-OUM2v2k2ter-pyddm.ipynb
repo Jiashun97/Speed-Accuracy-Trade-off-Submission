{
 "cells": [
  {
   "cell_type": "code",
   "execution_count": 13,
   "id": "2cda49de",
   "metadata": {},
   "outputs": [],
   "source": [
    "%run SAT_help_functions.ipynb"
   ]
  },
  {
   "cell_type": "code",
   "execution_count": null,
   "id": "bc081cf9",
   "metadata": {},
   "outputs": [],
   "source": []
  },
  {
   "cell_type": "markdown",
   "id": "4bd26666",
   "metadata": {},
   "source": [
    "## OUM"
   ]
  },
  {
   "cell_type": "code",
   "execution_count": null,
   "id": "9ef6c434",
   "metadata": {},
   "outputs": [],
   "source": []
  },
  {
   "cell_type": "code",
   "execution_count": 14,
   "id": "e776257c",
   "metadata": {},
   "outputs": [],
   "source": [
    "data_dir = \"/Users/wangjiashun/Desktop/Reserach on SAT/datasets/Evans2021/Lerche2017/dataBySubject/sub\"\n",
    "sample_size = 38\n",
    "SAT_conds = [\"Speed\", \"Accuracy\"]"
   ]
  },
  {
   "cell_type": "code",
   "execution_count": 15,
   "id": "2d56afe5",
   "metadata": {},
   "outputs": [],
   "source": [
    "\n",
    "class DriftBothSpeedAcc(Drift):\n",
    "    name = \"DriftBothSpeedAcc\"\n",
    "    required_parameters = [\"Vspeed\",\"Vacc\", \"Kspeed\", \"Kacc\"]\n",
    "    required_conditions = ['Cond']\n",
    "        \n",
    "    def get_drift(self, x, t, conditions, **kwargs):\n",
    "        if conditions['Cond'] == 'Speed':\n",
    "            return self.Vspeed + x*self.Kspeed \n",
    "        elif conditions['Cond'] == 'Accuracy':\n",
    "            return self.Vacc + x*self.Kacc\n",
    "        else: \n",
    "            print(\"Non-implemented SAT conditions\")"
   ]
  },
  {
   "cell_type": "code",
   "execution_count": 16,
   "id": "f434220f",
   "metadata": {},
   "outputs": [],
   "source": [
    "\n",
    "class NondecisionSpeedAcc(OverlayNonDecision):\n",
    "    name = \"DriftSpeedAcc\"\n",
    "    required_parameters = [\"tSpeed\", 'tAcc']\n",
    "    required_conditions = ['Cond']\n",
    "        \n",
    "    def get_nondecision_time(self, conditions, **kwargs):\n",
    "        if conditions['Cond'] == 'Speed':\n",
    "            return self.tSpeed \n",
    "        elif conditions['Cond'] == 'Accuracy':\n",
    "            return self.tAcc\n",
    "        else: \n",
    "            print(\"Non-implemented SAT conditions\")"
   ]
  },
  {
   "cell_type": "code",
   "execution_count": null,
   "id": "bbb278a6",
   "metadata": {},
   "outputs": [],
   "source": [
    "\n"
   ]
  },
  {
   "cell_type": "code",
   "execution_count": null,
   "id": "6e5e0074",
   "metadata": {},
   "outputs": [],
   "source": []
  },
  {
   "cell_type": "code",
   "execution_count": null,
   "id": "b1e0fe9b",
   "metadata": {},
   "outputs": [],
   "source": []
  },
  {
   "cell_type": "code",
   "execution_count": 17,
   "id": "fdb13001",
   "metadata": {
    "scrolled": true
   },
   "outputs": [
    {
     "name": "stderr",
     "output_type": "stream",
     "text": [
      "Warning: This function (from_pandas_dataframe()) is deprecated and will be removed in a future version of PyDDM.  Please use the choice_column_name argument instead.\n"
     ]
    },
    {
     "name": "stdout",
     "output_type": "stream",
     "text": [
      "0\n"
     ]
    },
    {
     "name": "stderr",
     "output_type": "stream",
     "text": [
      "Info: Params [ 0.29469556  0.08692604  0.99270008 -0.07887835  2.85045616  0.40872158\n",
      "  0.9442162 ] gave 982.3122294357569\n",
      "Warning: This function (from_pandas_dataframe()) is deprecated and will be removed in a future version of PyDDM.  Please use the choice_column_name argument instead.\n"
     ]
    },
    {
     "name": "stdout",
     "output_type": "stream",
     "text": [
      "   Drift Rate Speed  Drift Rate Accuracy  Self-excitation Speed  \\\n",
      "0          0.294696             0.086926                 0.9927   \n",
      "\n",
      "   Self-excitation Accuracy  Boundary Separation  Non-decision Time Speed  \\\n",
      "0                 -0.078878             2.850456                 0.408722   \n",
      "\n",
      "   Non-decision Time Accuracy         BIC  \n",
      "0                    0.944216  982.312229  \n",
      "1\n"
     ]
    },
    {
     "name": "stderr",
     "output_type": "stream",
     "text": [
      "Info: Params [0.36994077 0.21711219 0.36206234 0.23769119 5.85953903 0.17359657\n",
      " 0.77928122] gave 996.2205330931357\n",
      "Warning: This function (from_pandas_dataframe()) is deprecated and will be removed in a future version of PyDDM.  Please use the choice_column_name argument instead.\n"
     ]
    },
    {
     "name": "stdout",
     "output_type": "stream",
     "text": [
      "   Drift Rate Speed  Drift Rate Accuracy  Self-excitation Speed  \\\n",
      "0          0.369941             0.217112               0.362062   \n",
      "\n",
      "   Self-excitation Accuracy  Boundary Separation  Non-decision Time Speed  \\\n",
      "0                  0.237691             5.859539                 0.173597   \n",
      "\n",
      "   Non-decision Time Accuracy         BIC  \n",
      "0                    0.779281  996.220533  \n",
      "2\n"
     ]
    },
    {
     "name": "stderr",
     "output_type": "stream",
     "text": [
      "Info: Params [ 0.          0.04399905 -3.63561557 -4.77931442  0.659191    0.10916185\n",
      "  0.45116109] gave 474.022676396275\n",
      "Warning: This function (from_pandas_dataframe()) is deprecated and will be removed in a future version of PyDDM.  Please use the choice_column_name argument instead.\n"
     ]
    },
    {
     "name": "stdout",
     "output_type": "stream",
     "text": [
      "   Drift Rate Speed  Drift Rate Accuracy  Self-excitation Speed  \\\n",
      "0               0.0             0.043999              -3.635616   \n",
      "\n",
      "   Self-excitation Accuracy  Boundary Separation  Non-decision Time Speed  \\\n",
      "0                 -4.779314             0.659191                 0.109162   \n",
      "\n",
      "   Non-decision Time Accuracy         BIC  \n",
      "0                    0.451161  474.022676  \n",
      "3\n"
     ]
    },
    {
     "name": "stderr",
     "output_type": "stream",
     "text": [
      "Info: Params [ 0.1020897   0.1012706   0.18030734 -0.29315715  1.51663477  0.10314739\n",
      "  0.75805438] gave 843.6016264233866\n",
      "Warning: This function (from_pandas_dataframe()) is deprecated and will be removed in a future version of PyDDM.  Please use the choice_column_name argument instead.\n"
     ]
    },
    {
     "name": "stdout",
     "output_type": "stream",
     "text": [
      "   Drift Rate Speed  Drift Rate Accuracy  Self-excitation Speed  \\\n",
      "0           0.10209             0.101271               0.180307   \n",
      "\n",
      "   Self-excitation Accuracy  Boundary Separation  Non-decision Time Speed  \\\n",
      "0                 -0.293157             1.516635                 0.103147   \n",
      "\n",
      "   Non-decision Time Accuracy         BIC  \n",
      "0                    0.758054  843.601626  \n",
      "4\n"
     ]
    },
    {
     "name": "stderr",
     "output_type": "stream",
     "text": [
      "Info: Params [ 0.249341    0.22454513 -2.85453659 -3.38019077  1.11108104  0.97758659\n",
      "  0.95156807] gave 1195.404880275147\n",
      "Warning: This function (from_pandas_dataframe()) is deprecated and will be removed in a future version of PyDDM.  Please use the choice_column_name argument instead.\n"
     ]
    },
    {
     "name": "stdout",
     "output_type": "stream",
     "text": [
      "   Drift Rate Speed  Drift Rate Accuracy  Self-excitation Speed  \\\n",
      "0          0.249341             0.224545              -2.854537   \n",
      "\n",
      "   Self-excitation Accuracy  Boundary Separation  Non-decision Time Speed  \\\n",
      "0                 -3.380191             1.111081                 0.977587   \n",
      "\n",
      "   Non-decision Time Accuracy         BIC  \n",
      "0                    0.951568  1195.40488  \n",
      "5\n"
     ]
    },
    {
     "name": "stderr",
     "output_type": "stream",
     "text": [
      "Info: Params [0.26545026 0.15577571 1.9726917  0.20054254 7.99088009 0.10862732\n",
      " 0.9513985 ] gave 817.3987556049805\n",
      "Warning: This function (from_pandas_dataframe()) is deprecated and will be removed in a future version of PyDDM.  Please use the choice_column_name argument instead.\n"
     ]
    },
    {
     "name": "stdout",
     "output_type": "stream",
     "text": [
      "   Drift Rate Speed  Drift Rate Accuracy  Self-excitation Speed  \\\n",
      "0           0.26545             0.155776               1.972692   \n",
      "\n",
      "   Self-excitation Accuracy  Boundary Separation  Non-decision Time Speed  \\\n",
      "0                  0.200543              7.99088                 0.108627   \n",
      "\n",
      "   Non-decision Time Accuracy         BIC  \n",
      "0                    0.951398  817.398756  \n",
      "6\n"
     ]
    },
    {
     "name": "stderr",
     "output_type": "stream",
     "text": [
      "Info: Params [0.23991012 0.25146008 3.19496991 0.53806395 2.84283453 0.12517572\n",
      " 0.67832942] gave 578.8817040099226\n",
      "Warning: This function (from_pandas_dataframe()) is deprecated and will be removed in a future version of PyDDM.  Please use the choice_column_name argument instead.\n"
     ]
    },
    {
     "name": "stdout",
     "output_type": "stream",
     "text": [
      "   Drift Rate Speed  Drift Rate Accuracy  Self-excitation Speed  \\\n",
      "0           0.23991              0.25146                3.19497   \n",
      "\n",
      "   Self-excitation Accuracy  Boundary Separation  Non-decision Time Speed  \\\n",
      "0                  0.538064             2.842835                 0.125176   \n",
      "\n",
      "   Non-decision Time Accuracy         BIC  \n",
      "0                    0.678329  578.881704  \n",
      "7\n"
     ]
    },
    {
     "name": "stderr",
     "output_type": "stream",
     "text": [
      "Info: Params [0.32527117 0.31978927 3.48214602 0.76944978 4.0858652  0.33096523\n",
      " 0.11757977] gave 547.8284775972015\n",
      "Warning: This function (from_pandas_dataframe()) is deprecated and will be removed in a future version of PyDDM.  Please use the choice_column_name argument instead.\n"
     ]
    },
    {
     "name": "stdout",
     "output_type": "stream",
     "text": [
      "   Drift Rate Speed  Drift Rate Accuracy  Self-excitation Speed  \\\n",
      "0          0.325271             0.319789               3.482146   \n",
      "\n",
      "   Self-excitation Accuracy  Boundary Separation  Non-decision Time Speed  \\\n",
      "0                   0.76945             4.085865                 0.330965   \n",
      "\n",
      "   Non-decision Time Accuracy         BIC  \n",
      "0                     0.11758  547.828478  \n",
      "8\n"
     ]
    },
    {
     "name": "stderr",
     "output_type": "stream",
     "text": [
      "Info: Params [ 0.          0.03618138 -0.97326783 -5.08171094  0.7382238   0.16300378\n",
      "  0.12367716] gave 600.5938429377193\n",
      "Warning: This function (from_pandas_dataframe()) is deprecated and will be removed in a future version of PyDDM.  Please use the choice_column_name argument instead.\n"
     ]
    },
    {
     "name": "stdout",
     "output_type": "stream",
     "text": [
      "   Drift Rate Speed  Drift Rate Accuracy  Self-excitation Speed  \\\n",
      "0               0.0             0.036181              -0.973268   \n",
      "\n",
      "   Self-excitation Accuracy  Boundary Separation  Non-decision Time Speed  \\\n",
      "0                 -5.081711             0.738224                 0.163004   \n",
      "\n",
      "   Non-decision Time Accuracy         BIC  \n",
      "0                    0.123677  600.593843  \n",
      "9\n"
     ]
    },
    {
     "name": "stderr",
     "output_type": "stream",
     "text": [
      "Info: Params [ 1.58976619e-03  1.96241893e-01 -7.20928444e+00 -8.29832532e+00\n",
      "  6.97380661e-01  1.92519547e-01  1.47689571e-01] gave 935.0535443292225\n",
      "Warning: This function (from_pandas_dataframe()) is deprecated and will be removed in a future version of PyDDM.  Please use the choice_column_name argument instead.\n"
     ]
    },
    {
     "name": "stdout",
     "output_type": "stream",
     "text": [
      "   Drift Rate Speed  Drift Rate Accuracy  Self-excitation Speed  \\\n",
      "0           0.00159             0.196242              -7.209284   \n",
      "\n",
      "   Self-excitation Accuracy  Boundary Separation  Non-decision Time Speed  \\\n",
      "0                 -8.298325             0.697381                  0.19252   \n",
      "\n",
      "   Non-decision Time Accuracy         BIC  \n",
      "0                     0.14769  935.053544  \n",
      "10\n"
     ]
    },
    {
     "name": "stderr",
     "output_type": "stream",
     "text": [
      "Info: Params [ 0.66080085  0.30877286  0.9068721  -2.24885386  1.28947165  0.98523588\n",
      "  0.91390322] gave 830.2703046489072\n",
      "Warning: This function (from_pandas_dataframe()) is deprecated and will be removed in a future version of PyDDM.  Please use the choice_column_name argument instead.\n"
     ]
    },
    {
     "name": "stdout",
     "output_type": "stream",
     "text": [
      "   Drift Rate Speed  Drift Rate Accuracy  Self-excitation Speed  \\\n",
      "0          0.660801             0.308773               0.906872   \n",
      "\n",
      "   Self-excitation Accuracy  Boundary Separation  Non-decision Time Speed  \\\n",
      "0                 -2.248854             1.289472                 0.985236   \n",
      "\n",
      "   Non-decision Time Accuracy         BIC  \n",
      "0                    0.913903  830.270305  \n",
      "11\n"
     ]
    },
    {
     "name": "stderr",
     "output_type": "stream",
     "text": [
      "Info: Params [ 0.          0.20707307  2.61814705 -5.15999131  1.01803186  0.37600326\n",
      "  0.94866721] gave 800.0641127913348\n",
      "Warning: This function (from_pandas_dataframe()) is deprecated and will be removed in a future version of PyDDM.  Please use the choice_column_name argument instead.\n"
     ]
    },
    {
     "name": "stdout",
     "output_type": "stream",
     "text": [
      "   Drift Rate Speed  Drift Rate Accuracy  Self-excitation Speed  \\\n",
      "0               0.0             0.207073               2.618147   \n",
      "\n",
      "   Self-excitation Accuracy  Boundary Separation  Non-decision Time Speed  \\\n",
      "0                 -5.159991             1.018032                 0.376003   \n",
      "\n",
      "   Non-decision Time Accuracy         BIC  \n",
      "0                    0.948667  800.064113  \n",
      "12\n"
     ]
    },
    {
     "name": "stderr",
     "output_type": "stream",
     "text": [
      "Info: Params [0.25317541 0.2869151  1.79376985 0.54192633 3.68500667 0.33526672\n",
      " 0.3595773 ] gave 667.193832710781\n",
      "Warning: This function (from_pandas_dataframe()) is deprecated and will be removed in a future version of PyDDM.  Please use the choice_column_name argument instead.\n"
     ]
    },
    {
     "name": "stdout",
     "output_type": "stream",
     "text": [
      "   Drift Rate Speed  Drift Rate Accuracy  Self-excitation Speed  \\\n",
      "0          0.253175             0.286915                1.79377   \n",
      "\n",
      "   Self-excitation Accuracy  Boundary Separation  Non-decision Time Speed  \\\n",
      "0                  0.541926             3.685007                 0.335267   \n",
      "\n",
      "   Non-decision Time Accuracy         BIC  \n",
      "0                    0.359577  667.193833  \n",
      "13\n"
     ]
    },
    {
     "name": "stderr",
     "output_type": "stream",
     "text": [
      "Info: Params [0.22900991 0.20926758 0.87000471 0.12670046 5.01709313 0.22857118\n",
      " 0.26690976] gave 923.5472978085738\n",
      "Warning: This function (from_pandas_dataframe()) is deprecated and will be removed in a future version of PyDDM.  Please use the choice_column_name argument instead.\n"
     ]
    },
    {
     "name": "stdout",
     "output_type": "stream",
     "text": [
      "   Drift Rate Speed  Drift Rate Accuracy  Self-excitation Speed  \\\n",
      "0           0.22901             0.209268               0.870005   \n",
      "\n",
      "   Self-excitation Accuracy  Boundary Separation  Non-decision Time Speed  \\\n",
      "0                    0.1267             5.017093                 0.228571   \n",
      "\n",
      "   Non-decision Time Accuracy         BIC  \n",
      "0                     0.26691  923.547298  \n",
      "14\n"
     ]
    },
    {
     "name": "stderr",
     "output_type": "stream",
     "text": [
      "Info: Params [ 0.09567439  0.2281877   0.65418703 -1.28160477  1.48787244  0.10918444\n",
      "  0.94015967] gave 917.8715161417769\n",
      "Warning: This function (from_pandas_dataframe()) is deprecated and will be removed in a future version of PyDDM.  Please use the choice_column_name argument instead.\n"
     ]
    },
    {
     "name": "stdout",
     "output_type": "stream",
     "text": [
      "   Drift Rate Speed  Drift Rate Accuracy  Self-excitation Speed  \\\n",
      "0          0.095674             0.228188               0.654187   \n",
      "\n",
      "   Self-excitation Accuracy  Boundary Separation  Non-decision Time Speed  \\\n",
      "0                 -1.281605             1.487872                 0.109184   \n",
      "\n",
      "   Non-decision Time Accuracy         BIC  \n",
      "0                     0.94016  917.871516  \n",
      "15\n"
     ]
    },
    {
     "name": "stderr",
     "output_type": "stream",
     "text": [
      "Info: Params [ 0.          0.10838474  1.96680274 -0.17827576  2.85497094  0.47495466\n",
      "  0.96869964] gave 909.5167387794393\n",
      "Warning: This function (from_pandas_dataframe()) is deprecated and will be removed in a future version of PyDDM.  Please use the choice_column_name argument instead.\n"
     ]
    },
    {
     "name": "stdout",
     "output_type": "stream",
     "text": [
      "   Drift Rate Speed  Drift Rate Accuracy  Self-excitation Speed  \\\n",
      "0               0.0             0.108385               1.966803   \n",
      "\n",
      "   Self-excitation Accuracy  Boundary Separation  Non-decision Time Speed  \\\n",
      "0                 -0.178276             2.854971                 0.474955   \n",
      "\n",
      "   Non-decision Time Accuracy         BIC  \n",
      "0                      0.9687  909.516739  \n",
      "16\n"
     ]
    },
    {
     "name": "stderr",
     "output_type": "stream",
     "text": [
      "Info: Params [ 0.35031248  0.29075773 -7.33406176 -8.21656832  0.6547937   0.23702815\n",
      "  0.99001015] gave 786.545582881446\n",
      "Warning: This function (from_pandas_dataframe()) is deprecated and will be removed in a future version of PyDDM.  Please use the choice_column_name argument instead.\n"
     ]
    },
    {
     "name": "stdout",
     "output_type": "stream",
     "text": [
      "   Drift Rate Speed  Drift Rate Accuracy  Self-excitation Speed  \\\n",
      "0          0.350312             0.290758              -7.334062   \n",
      "\n",
      "   Self-excitation Accuracy  Boundary Separation  Non-decision Time Speed  \\\n",
      "0                 -8.216568             0.654794                 0.237028   \n",
      "\n",
      "   Non-decision Time Accuracy         BIC  \n",
      "0                     0.99001  786.545583  \n",
      "17\n"
     ]
    },
    {
     "name": "stderr",
     "output_type": "stream",
     "text": [
      "Info: Params [ 0.24336782  0.14635451  2.12137624 -0.02566622  1.84866254  0.1239877\n",
      "  0.21857832] gave 689.8048102512591\n",
      "Warning: This function (from_pandas_dataframe()) is deprecated and will be removed in a future version of PyDDM.  Please use the choice_column_name argument instead.\n"
     ]
    },
    {
     "name": "stdout",
     "output_type": "stream",
     "text": [
      "   Drift Rate Speed  Drift Rate Accuracy  Self-excitation Speed  \\\n",
      "0          0.243368             0.146355               2.121376   \n",
      "\n",
      "   Self-excitation Accuracy  Boundary Separation  Non-decision Time Speed  \\\n",
      "0                 -0.025666             1.848663                 0.123988   \n",
      "\n",
      "   Non-decision Time Accuracy        BIC  \n",
      "0                    0.218578  689.80481  \n",
      "18\n"
     ]
    },
    {
     "name": "stderr",
     "output_type": "stream",
     "text": [
      "Info: Params [0.24005572 0.12456904 0.75358442 0.30023515 2.32064978 0.75035913\n",
      " 0.8728022 ] gave 829.2033424861555\n",
      "Warning: This function (from_pandas_dataframe()) is deprecated and will be removed in a future version of PyDDM.  Please use the choice_column_name argument instead.\n"
     ]
    },
    {
     "name": "stdout",
     "output_type": "stream",
     "text": [
      "   Drift Rate Speed  Drift Rate Accuracy  Self-excitation Speed  \\\n",
      "0          0.240056             0.124569               0.753584   \n",
      "\n",
      "   Self-excitation Accuracy  Boundary Separation  Non-decision Time Speed  \\\n",
      "0                  0.300235              2.32065                 0.750359   \n",
      "\n",
      "   Non-decision Time Accuracy         BIC  \n",
      "0                    0.872802  829.203342  \n",
      "19\n"
     ]
    },
    {
     "name": "stderr",
     "output_type": "stream",
     "text": [
      "Info: Params [0.26457649 0.24312711 1.82060098 0.10749342 7.98875586 0.10624134\n",
      " 0.99776093] gave 888.1107551104593\n",
      "Warning: This function (from_pandas_dataframe()) is deprecated and will be removed in a future version of PyDDM.  Please use the choice_column_name argument instead.\n"
     ]
    },
    {
     "name": "stdout",
     "output_type": "stream",
     "text": [
      "   Drift Rate Speed  Drift Rate Accuracy  Self-excitation Speed  \\\n",
      "0          0.264576             0.243127               1.820601   \n",
      "\n",
      "   Self-excitation Accuracy  Boundary Separation  Non-decision Time Speed  \\\n",
      "0                  0.107493             7.988756                 0.106241   \n",
      "\n",
      "   Non-decision Time Accuracy         BIC  \n",
      "0                    0.997761  888.110755  \n",
      "20\n"
     ]
    },
    {
     "name": "stderr",
     "output_type": "stream",
     "text": [
      "Info: Params [ 0.3388707   0.17324685 -6.8366133  -5.12982747  0.68286818  0.407952\n",
      "  0.97167608] gave 727.8050129267141\n",
      "Warning: This function (from_pandas_dataframe()) is deprecated and will be removed in a future version of PyDDM.  Please use the choice_column_name argument instead.\n"
     ]
    },
    {
     "name": "stdout",
     "output_type": "stream",
     "text": [
      "   Drift Rate Speed  Drift Rate Accuracy  Self-excitation Speed  \\\n",
      "0          0.338871             0.173247              -6.836613   \n",
      "\n",
      "   Self-excitation Accuracy  Boundary Separation  Non-decision Time Speed  \\\n",
      "0                 -5.129827             0.682868                 0.407952   \n",
      "\n",
      "   Non-decision Time Accuracy         BIC  \n",
      "0                    0.971676  727.805013  \n",
      "21\n"
     ]
    },
    {
     "name": "stderr",
     "output_type": "stream",
     "text": [
      "Info: Params [0.         0.02355891 1.58907923 1.74146822 1.69654772 0.1630478\n",
      " 0.42555532] gave 498.39023753037566\n",
      "Warning: This function (from_pandas_dataframe()) is deprecated and will be removed in a future version of PyDDM.  Please use the choice_column_name argument instead.\n"
     ]
    },
    {
     "name": "stdout",
     "output_type": "stream",
     "text": [
      "   Drift Rate Speed  Drift Rate Accuracy  Self-excitation Speed  \\\n",
      "0               0.0             0.023559               1.589079   \n",
      "\n",
      "   Self-excitation Accuracy  Boundary Separation  Non-decision Time Speed  \\\n",
      "0                  1.741468             1.696548                 0.163048   \n",
      "\n",
      "   Non-decision Time Accuracy         BIC  \n",
      "0                    0.425555  498.390238  \n",
      "22\n"
     ]
    },
    {
     "name": "stderr",
     "output_type": "stream",
     "text": [
      "Info: Params [0.29550984 0.1793683  3.55491135 0.22329442 3.01655282 0.10335319\n",
      " 0.55528687] gave 668.9167346048605\n",
      "Warning: This function (from_pandas_dataframe()) is deprecated and will be removed in a future version of PyDDM.  Please use the choice_column_name argument instead.\n"
     ]
    },
    {
     "name": "stdout",
     "output_type": "stream",
     "text": [
      "   Drift Rate Speed  Drift Rate Accuracy  Self-excitation Speed  \\\n",
      "0           0.29551             0.179368               3.554911   \n",
      "\n",
      "   Self-excitation Accuracy  Boundary Separation  Non-decision Time Speed  \\\n",
      "0                  0.223294             3.016553                 0.103353   \n",
      "\n",
      "   Non-decision Time Accuracy         BIC  \n",
      "0                    0.555287  668.916735  \n",
      "23\n"
     ]
    },
    {
     "name": "stderr",
     "output_type": "stream",
     "text": [
      "Info: Params [0.20362343 0.18298298 0.33896102 0.2228697  5.39307219 0.7131872\n",
      " 0.68149047] gave 1059.092000762694\n",
      "Warning: This function (from_pandas_dataframe()) is deprecated and will be removed in a future version of PyDDM.  Please use the choice_column_name argument instead.\n"
     ]
    },
    {
     "name": "stdout",
     "output_type": "stream",
     "text": [
      "   Drift Rate Speed  Drift Rate Accuracy  Self-excitation Speed  \\\n",
      "0          0.203623             0.182983               0.338961   \n",
      "\n",
      "   Self-excitation Accuracy  Boundary Separation  Non-decision Time Speed  \\\n",
      "0                   0.22287             5.393072                 0.713187   \n",
      "\n",
      "   Non-decision Time Accuracy          BIC  \n",
      "0                     0.68149  1059.092001  \n",
      "24\n"
     ]
    },
    {
     "name": "stderr",
     "output_type": "stream",
     "text": [
      "Info: Params [0.38116777 0.04488841 5.60916468 2.16221517 3.53233885 0.19477494\n",
      " 0.19890868] gave 309.56392676196344\n",
      "Warning: This function (from_pandas_dataframe()) is deprecated and will be removed in a future version of PyDDM.  Please use the choice_column_name argument instead.\n"
     ]
    },
    {
     "name": "stdout",
     "output_type": "stream",
     "text": [
      "   Drift Rate Speed  Drift Rate Accuracy  Self-excitation Speed  \\\n",
      "0          0.381168             0.044888               5.609165   \n",
      "\n",
      "   Self-excitation Accuracy  Boundary Separation  Non-decision Time Speed  \\\n",
      "0                  2.162215             3.532339                 0.194775   \n",
      "\n",
      "   Non-decision Time Accuracy         BIC  \n",
      "0                    0.198909  309.563927  \n",
      "25\n"
     ]
    },
    {
     "name": "stderr",
     "output_type": "stream",
     "text": [
      "Info: Params [  0.30963807   0.30517691  -1.45018572 -10.           0.7176383\n",
      "   0.46249886   0.10578926] gave 823.8116231334734\n",
      "Warning: This function (from_pandas_dataframe()) is deprecated and will be removed in a future version of PyDDM.  Please use the choice_column_name argument instead.\n"
     ]
    },
    {
     "name": "stdout",
     "output_type": "stream",
     "text": [
      "   Drift Rate Speed  Drift Rate Accuracy  Self-excitation Speed  \\\n",
      "0          0.309638             0.305177              -1.450186   \n",
      "\n",
      "   Self-excitation Accuracy  Boundary Separation  Non-decision Time Speed  \\\n",
      "0                     -10.0             0.717638                 0.462499   \n",
      "\n",
      "   Non-decision Time Accuracy         BIC  \n",
      "0                    0.105789  823.811623  \n",
      "26\n"
     ]
    },
    {
     "name": "stderr",
     "output_type": "stream",
     "text": [
      "Info: Params [0.13601153 0.17827837 1.18454763 0.20829758 3.96280654 0.10031453\n",
      " 0.96750484] gave 880.2265938914359\n",
      "Warning: This function (from_pandas_dataframe()) is deprecated and will be removed in a future version of PyDDM.  Please use the choice_column_name argument instead.\n"
     ]
    },
    {
     "name": "stdout",
     "output_type": "stream",
     "text": [
      "   Drift Rate Speed  Drift Rate Accuracy  Self-excitation Speed  \\\n",
      "0          0.136012             0.178278               1.184548   \n",
      "\n",
      "   Self-excitation Accuracy  Boundary Separation  Non-decision Time Speed  \\\n",
      "0                  0.208298             3.962807                 0.100315   \n",
      "\n",
      "   Non-decision Time Accuracy         BIC  \n",
      "0                    0.967505  880.226594  \n",
      "27\n"
     ]
    },
    {
     "name": "stderr",
     "output_type": "stream",
     "text": [
      "Info: Params [ 0.22963584  0.43210668 -3.59237874 -7.15431592  0.8409826   0.10721157\n",
      "  0.89931177] gave 1043.3686265362446\n",
      "Warning: This function (from_pandas_dataframe()) is deprecated and will be removed in a future version of PyDDM.  Please use the choice_column_name argument instead.\n"
     ]
    },
    {
     "name": "stdout",
     "output_type": "stream",
     "text": [
      "   Drift Rate Speed  Drift Rate Accuracy  Self-excitation Speed  \\\n",
      "0          0.229636             0.432107              -3.592379   \n",
      "\n",
      "   Self-excitation Accuracy  Boundary Separation  Non-decision Time Speed  \\\n",
      "0                 -7.154316             0.840983                 0.107212   \n",
      "\n",
      "   Non-decision Time Accuracy          BIC  \n",
      "0                    0.899312  1043.368627  \n",
      "28\n"
     ]
    },
    {
     "name": "stderr",
     "output_type": "stream",
     "text": [
      "Info: Params [0.18794459 0.10439447 0.54814502 0.08907499 5.5143425  0.16147529\n",
      " 0.36212769] gave 1102.3978337345945\n",
      "Warning: This function (from_pandas_dataframe()) is deprecated and will be removed in a future version of PyDDM.  Please use the choice_column_name argument instead.\n"
     ]
    },
    {
     "name": "stdout",
     "output_type": "stream",
     "text": [
      "   Drift Rate Speed  Drift Rate Accuracy  Self-excitation Speed  \\\n",
      "0          0.187945             0.104394               0.548145   \n",
      "\n",
      "   Self-excitation Accuracy  Boundary Separation  Non-decision Time Speed  \\\n",
      "0                  0.089075             5.514342                 0.161475   \n",
      "\n",
      "   Non-decision Time Accuracy          BIC  \n",
      "0                    0.362128  1102.397834  \n",
      "29\n"
     ]
    },
    {
     "name": "stderr",
     "output_type": "stream",
     "text": [
      "Info: Params [ 0.25609852  0.24760157 -3.05067754 -2.70150592  1.08568202  0.99865033\n",
      "  0.98227364] gave 1098.8811793647424\n",
      "Warning: This function (from_pandas_dataframe()) is deprecated and will be removed in a future version of PyDDM.  Please use the choice_column_name argument instead.\n"
     ]
    },
    {
     "name": "stdout",
     "output_type": "stream",
     "text": [
      "   Drift Rate Speed  Drift Rate Accuracy  Self-excitation Speed  \\\n",
      "0          0.256099             0.247602              -3.050678   \n",
      "\n",
      "   Self-excitation Accuracy  Boundary Separation  Non-decision Time Speed  \\\n",
      "0                 -2.701506             1.085682                  0.99865   \n",
      "\n",
      "   Non-decision Time Accuracy          BIC  \n",
      "0                    0.982274  1098.881179  \n",
      "30\n"
     ]
    },
    {
     "name": "stderr",
     "output_type": "stream",
     "text": [
      "Info: Params [ 0.09269843  0.36472479  2.01642025 -3.0227155   0.9701762   0.10373412\n",
      "  0.97472855] gave 629.7077014627249\n",
      "Warning: This function (from_pandas_dataframe()) is deprecated and will be removed in a future version of PyDDM.  Please use the choice_column_name argument instead.\n"
     ]
    },
    {
     "name": "stdout",
     "output_type": "stream",
     "text": [
      "   Drift Rate Speed  Drift Rate Accuracy  Self-excitation Speed  \\\n",
      "0          0.092698             0.364725                2.01642   \n",
      "\n",
      "   Self-excitation Accuracy  Boundary Separation  Non-decision Time Speed  \\\n",
      "0                 -3.022715             0.970176                 0.103734   \n",
      "\n",
      "   Non-decision Time Accuracy         BIC  \n",
      "0                    0.974729  629.707701  \n",
      "31\n"
     ]
    },
    {
     "name": "stderr",
     "output_type": "stream",
     "text": [
      "Info: Params [ 0.24415272  0.31976976 -3.32383831 -7.04581062  0.83913124  0.12488668\n",
      "  0.43461049] gave 1004.5386847442256\n",
      "Warning: This function (from_pandas_dataframe()) is deprecated and will be removed in a future version of PyDDM.  Please use the choice_column_name argument instead.\n"
     ]
    },
    {
     "name": "stdout",
     "output_type": "stream",
     "text": [
      "   Drift Rate Speed  Drift Rate Accuracy  Self-excitation Speed  \\\n",
      "0          0.244153              0.31977              -3.323838   \n",
      "\n",
      "   Self-excitation Accuracy  Boundary Separation  Non-decision Time Speed  \\\n",
      "0                 -7.045811             0.839131                 0.124887   \n",
      "\n",
      "   Non-decision Time Accuracy          BIC  \n",
      "0                     0.43461  1004.538685  \n",
      "32\n"
     ]
    },
    {
     "name": "stderr",
     "output_type": "stream",
     "text": [
      "Info: Params [ 0.          0.76611241 -0.05572101 -9.8516678   0.63427713  0.10614261\n",
      "  0.76745754] gave 520.3299829500263\n",
      "Warning: This function (from_pandas_dataframe()) is deprecated and will be removed in a future version of PyDDM.  Please use the choice_column_name argument instead.\n"
     ]
    },
    {
     "name": "stdout",
     "output_type": "stream",
     "text": [
      "   Drift Rate Speed  Drift Rate Accuracy  Self-excitation Speed  \\\n",
      "0               0.0             0.766112              -0.055721   \n",
      "\n",
      "   Self-excitation Accuracy  Boundary Separation  Non-decision Time Speed  \\\n",
      "0                 -9.851668             0.634277                 0.106143   \n",
      "\n",
      "   Non-decision Time Accuracy         BIC  \n",
      "0                    0.767458  520.329983  \n",
      "33\n"
     ]
    },
    {
     "name": "stderr",
     "output_type": "stream",
     "text": [
      "Info: Params [0.05235671 0.10493457 1.68123856 0.53682134 2.27752021 0.10563777\n",
      " 0.99532532] gave 688.9004728812977\n",
      "Warning: This function (from_pandas_dataframe()) is deprecated and will be removed in a future version of PyDDM.  Please use the choice_column_name argument instead.\n"
     ]
    },
    {
     "name": "stdout",
     "output_type": "stream",
     "text": [
      "   Drift Rate Speed  Drift Rate Accuracy  Self-excitation Speed  \\\n",
      "0          0.052357             0.104935               1.681239   \n",
      "\n",
      "   Self-excitation Accuracy  Boundary Separation  Non-decision Time Speed  \\\n",
      "0                  0.536821              2.27752                 0.105638   \n",
      "\n",
      "   Non-decision Time Accuracy         BIC  \n",
      "0                    0.995325  688.900473  \n",
      "34\n"
     ]
    },
    {
     "name": "stderr",
     "output_type": "stream",
     "text": [
      "Info: Params [0.21601345 0.29814663 0.92094581 0.13194384 4.81330027 0.12483792\n",
      " 0.5090992 ] gave 908.2502003445867\n",
      "Warning: This function (from_pandas_dataframe()) is deprecated and will be removed in a future version of PyDDM.  Please use the choice_column_name argument instead.\n"
     ]
    },
    {
     "name": "stdout",
     "output_type": "stream",
     "text": [
      "   Drift Rate Speed  Drift Rate Accuracy  Self-excitation Speed  \\\n",
      "0          0.216013             0.298147               0.920946   \n",
      "\n",
      "   Self-excitation Accuracy  Boundary Separation  Non-decision Time Speed  \\\n",
      "0                  0.131944               4.8133                 0.124838   \n",
      "\n",
      "   Non-decision Time Accuracy       BIC  \n",
      "0                    0.509099  908.2502  \n",
      "35\n"
     ]
    },
    {
     "name": "stderr",
     "output_type": "stream",
     "text": [
      "Info: Params [ 0.77858897  0.56369506 -8.36473355 -9.85657479  0.74480877  0.99935248\n",
      "  0.9082125 ] gave 1085.5633366004813\n",
      "Warning: This function (from_pandas_dataframe()) is deprecated and will be removed in a future version of PyDDM.  Please use the choice_column_name argument instead.\n"
     ]
    },
    {
     "name": "stdout",
     "output_type": "stream",
     "text": [
      "   Drift Rate Speed  Drift Rate Accuracy  Self-excitation Speed  \\\n",
      "0          0.778589             0.563695              -8.364734   \n",
      "\n",
      "   Self-excitation Accuracy  Boundary Separation  Non-decision Time Speed  \\\n",
      "0                 -9.856575             0.744809                 0.999352   \n",
      "\n",
      "   Non-decision Time Accuracy          BIC  \n",
      "0                    0.908213  1085.563337  \n",
      "36\n"
     ]
    },
    {
     "name": "stderr",
     "output_type": "stream",
     "text": [
      "Info: Params [0.13466025 0.13795366 0.83671177 1.10471045 4.85890057 0.28617025\n",
      " 0.90318881] gave 710.9347075108307\n",
      "Warning: This function (from_pandas_dataframe()) is deprecated and will be removed in a future version of PyDDM.  Please use the choice_column_name argument instead.\n"
     ]
    },
    {
     "name": "stdout",
     "output_type": "stream",
     "text": [
      "   Drift Rate Speed  Drift Rate Accuracy  Self-excitation Speed  \\\n",
      "0           0.13466             0.137954               0.836712   \n",
      "\n",
      "   Self-excitation Accuracy  Boundary Separation  Non-decision Time Speed  \\\n",
      "0                   1.10471             4.858901                  0.28617   \n",
      "\n",
      "   Non-decision Time Accuracy         BIC  \n",
      "0                    0.903189  710.934708  \n",
      "37\n"
     ]
    },
    {
     "name": "stderr",
     "output_type": "stream",
     "text": [
      "Info: Params [ 0.45835584  0.3768166  -5.43255828 -9.760742    0.75191345  0.10932771\n",
      "  0.89529466] gave 1018.197943337356\n"
     ]
    },
    {
     "name": "stdout",
     "output_type": "stream",
     "text": [
      "   Drift Rate Speed  Drift Rate Accuracy  Self-excitation Speed  \\\n",
      "0          0.458356             0.376817              -5.432558   \n",
      "\n",
      "   Self-excitation Accuracy  Boundary Separation  Non-decision Time Speed  \\\n",
      "0                 -9.760742             0.751913                 0.109328   \n",
      "\n",
      "   Non-decision Time Accuracy          BIC  \n",
      "0                    0.895295  1018.197943  \n"
     ]
    }
   ],
   "source": [
    "df_all = pd.DataFrame()\n",
    "for i in range(sample_size):\n",
    "    print(i)\n",
    "    path = os.path.join(data_dir+str(i+1)+\".csv\")\n",
    "    df = pd.read_csv(path, sep = \",\")\n",
    "    #df = df[df[\"cond\"]==SAT] # A condition\n",
    "    df = df[df[\"Time\"]<30]\n",
    "\n",
    "    samp = Sample.from_pandas_dataframe(df, rt_column_name=\"Time\", correct_column_name=\"Correct\")\n",
    "    df = get_OUM_result_sub_2v2k2ter(samp, dt=.1, T_dur = 30)\n",
    "    df_all = pd.concat((df_all,df))\n",
    "    print(df)\n",
    "df_OUM = df_all.copy()\n"
   ]
  },
  {
   "cell_type": "code",
   "execution_count": 18,
   "id": "3b05a53a",
   "metadata": {},
   "outputs": [],
   "source": [
    "df_OUM.to_csv(\"OUM2v2k2terresultLerche2017.csv\")"
   ]
  },
  {
   "cell_type": "code",
   "execution_count": 19,
   "id": "87e8797e",
   "metadata": {},
   "outputs": [
    {
     "data": {
      "text/plain": [
       "815.587456915566"
      ]
     },
     "execution_count": 19,
     "metadata": {},
     "output_type": "execute_result"
    }
   ],
   "source": [
    "df_OUM[\"BIC\"].mean()"
   ]
  },
  {
   "cell_type": "code",
   "execution_count": null,
   "id": "db096ad0",
   "metadata": {},
   "outputs": [],
   "source": []
  }
 ],
 "metadata": {
  "kernelspec": {
   "display_name": "Python 3 (ipykernel)",
   "language": "python",
   "name": "python3"
  },
  "language_info": {
   "codemirror_mode": {
    "name": "ipython",
    "version": 3
   },
   "file_extension": ".py",
   "mimetype": "text/x-python",
   "name": "python",
   "nbconvert_exporter": "python",
   "pygments_lexer": "ipython3",
   "version": "3.11.4"
  }
 },
 "nbformat": 4,
 "nbformat_minor": 5
}
