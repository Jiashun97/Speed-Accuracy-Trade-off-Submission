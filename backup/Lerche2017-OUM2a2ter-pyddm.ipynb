{
 "cells": [
  {
   "cell_type": "code",
   "execution_count": 1,
   "id": "2cda49de",
   "metadata": {},
   "outputs": [],
   "source": [
    "%run SAT_help_functions.ipynb"
   ]
  },
  {
   "cell_type": "code",
   "execution_count": null,
   "id": "bc081cf9",
   "metadata": {},
   "outputs": [],
   "source": []
  },
  {
   "cell_type": "markdown",
   "id": "4bd26666",
   "metadata": {},
   "source": [
    "## OUM"
   ]
  },
  {
   "cell_type": "code",
   "execution_count": null,
   "id": "9ef6c434",
   "metadata": {},
   "outputs": [],
   "source": []
  },
  {
   "cell_type": "code",
   "execution_count": 2,
   "id": "e776257c",
   "metadata": {},
   "outputs": [],
   "source": [
    "data_dir = \"/Users/wangjiashun/Desktop/Reserach on SAT/datasets/Evans2021/Lerche2017/dataBySubject/sub\"\n",
    "sample_size = 38\n",
    "SAT_conds = [\"Speed\", \"Accuracy\"]"
   ]
  },
  {
   "cell_type": "code",
   "execution_count": 3,
   "id": "f434220f",
   "metadata": {},
   "outputs": [],
   "source": [
    "class BoundSpeedAcc(Bound):\n",
    "    name = \"BoundSpeedAcc\"\n",
    "    required_parameters = [\"Bspeed\", \"Bacc\"]\n",
    "    required_conditions = ['Cond']\n",
    "    def get_bound(self, conditions, *args, **kwargs):\n",
    "        assert self.Bacc > 0\n",
    "        assert self.Bspeed > 0\n",
    "        if conditions['Cond'] == 'Speed':\n",
    "            return self.Bspeed\n",
    "        elif conditions['Cond'] == 'Accuracy':\n",
    "            return self.Bacc\n",
    "        else:\n",
    "            print(\"Non-implemented SAT conditions\")"
   ]
  },
  {
   "cell_type": "code",
   "execution_count": null,
   "id": "bbb278a6",
   "metadata": {},
   "outputs": [],
   "source": []
  },
  {
   "cell_type": "code",
   "execution_count": 4,
   "id": "6e5e0074",
   "metadata": {},
   "outputs": [],
   "source": [
    "\n",
    "class NondecisionSpeedAcc(OverlayNonDecision):\n",
    "    name = \"DriftSpeedAcc\"\n",
    "    required_parameters = [\"tSpeed\", 'tAcc']\n",
    "    required_conditions = ['Cond']\n",
    "        \n",
    "    def get_nondecision_time(self, conditions, **kwargs):\n",
    "        if conditions['Cond'] == 'Speed':\n",
    "            return self.tSpeed \n",
    "        elif conditions['Cond'] == 'Accuracy':\n",
    "            return self.tAcc\n",
    "        else: \n",
    "            print(\"Non-implemented SAT conditions\")"
   ]
  },
  {
   "cell_type": "code",
   "execution_count": 6,
   "id": "b1e0fe9b",
   "metadata": {
    "scrolled": true
   },
   "outputs": [
    {
     "name": "stdout",
     "output_type": "stream",
     "text": [
      "0\n"
     ]
    },
    {
     "name": "stderr",
     "output_type": "stream",
     "text": [
      "Info: Params [0.14245559 0.20935551 1.34242319 7.90257058 0.76020406 0.99394395] gave 898.1681441399089\n"
     ]
    },
    {
     "name": "stdout",
     "output_type": "stream",
     "text": [
      "   Drift Rate         x  Boundary Separation Speed      Bacc  \\\n",
      "0    0.142456  0.209356                   1.342423  7.902571   \n",
      "\n",
      "   Non-decision Time Speed  Non-decision Time Accuracy         BIC  \n",
      "0                 0.760204                    0.993944  898.168144  \n",
      "1\n"
     ]
    },
    {
     "name": "stderr",
     "output_type": "stream",
     "text": [
      "Info: Params [0.27923971 0.26808456 3.99533466 6.96036777 0.638576   0.55636092] gave 996.8934915026415\n"
     ]
    },
    {
     "name": "stdout",
     "output_type": "stream",
     "text": [
      "   Drift Rate         x  Boundary Separation Speed      Bacc  \\\n",
      "0     0.27924  0.268085                   3.995335  6.960368   \n",
      "\n",
      "   Non-decision Time Speed  Non-decision Time Accuracy         BIC  \n",
      "0                 0.638576                    0.556361  996.893492  \n",
      "2\n"
     ]
    },
    {
     "name": "stderr",
     "output_type": "stream",
     "text": [
      "Info: Params [ 0.00805855 -3.05504203  0.68008802  0.73719113  0.10030573  0.44108784] gave 468.56309828546756\n"
     ]
    },
    {
     "name": "stdout",
     "output_type": "stream",
     "text": [
      "   Drift Rate         x  Boundary Separation Speed      Bacc  \\\n",
      "0    0.008059 -3.055042                   0.680088  0.737191   \n",
      "\n",
      "   Non-decision Time Speed  Non-decision Time Accuracy         BIC  \n",
      "0                 0.100306                    0.441088  468.563098  \n",
      "3\n"
     ]
    },
    {
     "name": "stderr",
     "output_type": "stream",
     "text": [
      "Info: Params [0.09365979 0.42548566 1.65540188 2.79375154 0.10116913 0.31908978] gave 834.6828412325042\n"
     ]
    },
    {
     "name": "stdout",
     "output_type": "stream",
     "text": [
      "   Drift Rate         x  Boundary Separation Speed      Bacc  \\\n",
      "0     0.09366  0.425486                   1.655402  2.793752   \n",
      "\n",
      "   Non-decision Time Speed  Non-decision Time Accuracy         BIC  \n",
      "0                 0.101169                     0.31909  834.682841  \n",
      "4\n"
     ]
    },
    {
     "name": "stderr",
     "output_type": "stream",
     "text": [
      "Info: Params [0.15029295 0.10769974 2.96073888 4.29202597 0.71420721 0.28193238] gave 1160.6860478252045\n"
     ]
    },
    {
     "name": "stdout",
     "output_type": "stream",
     "text": [
      "   Drift Rate       x  Boundary Separation Speed      Bacc  \\\n",
      "0    0.150293  0.1077                   2.960739  4.292026   \n",
      "\n",
      "   Non-decision Time Speed  Non-decision Time Accuracy          BIC  \n",
      "0                 0.714207                    0.281932  1160.686048  \n",
      "5\n"
     ]
    },
    {
     "name": "stderr",
     "output_type": "stream",
     "text": [
      "Info: Params [0.16454841 0.20159066 1.18464573 7.94386819 0.74899594 0.99401422] gave 828.5659032466147\n"
     ]
    },
    {
     "name": "stdout",
     "output_type": "stream",
     "text": [
      "   Drift Rate         x  Boundary Separation Speed      Bacc  \\\n",
      "0    0.164548  0.201591                   1.184646  7.943868   \n",
      "\n",
      "   Non-decision Time Speed  Non-decision Time Accuracy         BIC  \n",
      "0                 0.748996                    0.994014  828.565903  \n",
      "6\n"
     ]
    },
    {
     "name": "stderr",
     "output_type": "stream",
     "text": [
      "Info: Params [0.23235028 0.59468405 0.82307997 3.94495729 0.35397976 0.26988255] gave 578.073726507987\n"
     ]
    },
    {
     "name": "stdout",
     "output_type": "stream",
     "text": [
      "   Drift Rate         x  Boundary Separation Speed      Bacc  \\\n",
      "0     0.23235  0.594684                    0.82308  3.944957   \n",
      "\n",
      "   Non-decision Time Speed  Non-decision Time Accuracy         BIC  \n",
      "0                  0.35398                    0.269883  578.073727  \n",
      "7\n"
     ]
    },
    {
     "name": "stderr",
     "output_type": "stream",
     "text": [
      "Info: Params [0.29624386 0.74041424 0.83550416 3.70897126 0.67662781 0.15779635] gave 542.8562555451266\n"
     ]
    },
    {
     "name": "stdout",
     "output_type": "stream",
     "text": [
      "   Drift Rate         x  Boundary Separation Speed      Bacc  \\\n",
      "0    0.296244  0.740414                   0.835504  3.708971   \n",
      "\n",
      "   Non-decision Time Speed  Non-decision Time Accuracy         BIC  \n",
      "0                 0.676628                    0.157796  542.856256  \n",
      "8\n"
     ]
    },
    {
     "name": "stderr",
     "output_type": "stream",
     "text": [
      "Info: Params [ 0.01018434 -7.07930605  0.53924706  0.66153394  0.17756449  0.14684586] gave 597.2761066993488\n"
     ]
    },
    {
     "name": "stdout",
     "output_type": "stream",
     "text": [
      "   Drift Rate         x  Boundary Separation Speed      Bacc  \\\n",
      "0    0.010184 -7.079306                   0.539247  0.661534   \n",
      "\n",
      "   Non-decision Time Speed  Non-decision Time Accuracy         BIC  \n",
      "0                 0.177564                    0.146846  597.276107  \n",
      "9\n"
     ]
    },
    {
     "name": "stderr",
     "output_type": "stream",
     "text": [
      "Info: Params [ 0.07559445 -1.32322058  1.13967879  1.24298816  0.11012761  0.1029741 ] gave 928.2369253217815\n"
     ]
    },
    {
     "name": "stdout",
     "output_type": "stream",
     "text": [
      "   Drift Rate         x  Boundary Separation Speed      Bacc  \\\n",
      "0    0.075594 -1.323221                   1.139679  1.242988   \n",
      "\n",
      "   Non-decision Time Speed  Non-decision Time Accuracy         BIC  \n",
      "0                 0.110128                    0.102974  928.236925  \n",
      "10\n"
     ]
    },
    {
     "name": "stderr",
     "output_type": "stream",
     "text": [
      "Info: Params [ 0.28417808 -0.45580627  0.95097861  2.10301721  0.95510114  0.99508658] gave 835.7549388573537\n"
     ]
    },
    {
     "name": "stdout",
     "output_type": "stream",
     "text": [
      "   Drift Rate         x  Boundary Separation Speed      Bacc  \\\n",
      "0    0.284178 -0.455806                   0.950979  2.103017   \n",
      "\n",
      "   Non-decision Time Speed  Non-decision Time Accuracy         BIC  \n",
      "0                 0.955101                    0.995087  835.754939  \n",
      "11\n"
     ]
    },
    {
     "name": "stderr",
     "output_type": "stream",
     "text": [
      "Info: Params [0.07929818 0.10450805 0.76896823 7.92385832 0.37381159 0.85089938] gave 738.4050826672391\n"
     ]
    },
    {
     "name": "stdout",
     "output_type": "stream",
     "text": [
      "   Drift Rate         x  Boundary Separation Speed      Bacc  \\\n",
      "0    0.079298  0.104508                   0.768968  7.923858   \n",
      "\n",
      "   Non-decision Time Speed  Non-decision Time Accuracy         BIC  \n",
      "0                 0.373812                    0.850899  738.405083  \n",
      "12\n"
     ]
    },
    {
     "name": "stderr",
     "output_type": "stream",
     "text": [
      "Info: Params [0.29834536 0.58236456 1.19032093 3.78424991 0.73765226 0.43834874] gave 666.6197632432498\n"
     ]
    },
    {
     "name": "stdout",
     "output_type": "stream",
     "text": [
      "   Drift Rate         x  Boundary Separation Speed     Bacc  \\\n",
      "0    0.298345  0.582365                   1.190321  3.78425   \n",
      "\n",
      "   Non-decision Time Speed  Non-decision Time Accuracy         BIC  \n",
      "0                 0.737652                    0.438349  666.619763  \n",
      "13\n"
     ]
    },
    {
     "name": "stderr",
     "output_type": "stream",
     "text": [
      "Info: Params [0.2050157  0.10368855 1.6194238  4.45864052 0.78436998 0.38266527] gave 953.646113318186\n"
     ]
    },
    {
     "name": "stdout",
     "output_type": "stream",
     "text": [
      "   Drift Rate         x  Boundary Separation Speed      Bacc  \\\n",
      "0    0.205016  0.103689                   1.619424  4.458641   \n",
      "\n",
      "   Non-decision Time Speed  Non-decision Time Accuracy         BIC  \n",
      "0                  0.78437                    0.382665  953.646113  \n",
      "14\n"
     ]
    },
    {
     "name": "stderr",
     "output_type": "stream",
     "text": [
      "Info: Params [ 0.18951021 -0.76291405  1.00351598  1.72819558  0.13783353  0.99323567] gave 915.41578957037\n"
     ]
    },
    {
     "name": "stdout",
     "output_type": "stream",
     "text": [
      "   Drift Rate         x  Boundary Separation Speed      Bacc  \\\n",
      "0     0.18951 -0.762914                   1.003516  1.728196   \n",
      "\n",
      "   Non-decision Time Speed  Non-decision Time Accuracy        BIC  \n",
      "0                 0.137834                    0.993236  915.41579  \n",
      "15\n"
     ]
    },
    {
     "name": "stderr",
     "output_type": "stream",
     "text": [
      "Info: Params [0.09785837 0.13147756 1.0201859  7.44859768 0.72470976 0.60215476] gave 875.0224017854624\n"
     ]
    },
    {
     "name": "stdout",
     "output_type": "stream",
     "text": [
      "   Drift Rate         x  Boundary Separation Speed      Bacc  \\\n",
      "0    0.097858  0.131478                   1.020186  7.448598   \n",
      "\n",
      "   Non-decision Time Speed  Non-decision Time Accuracy         BIC  \n",
      "0                  0.72471                    0.602155  875.022402  \n",
      "16\n"
     ]
    },
    {
     "name": "stderr",
     "output_type": "stream",
     "text": [
      "Info: Params [0.25307903 0.76215971 2.00177766 4.50922117 0.11075607 0.33005296] gave 721.5782691578765\n"
     ]
    },
    {
     "name": "stdout",
     "output_type": "stream",
     "text": [
      "   Drift Rate        x  Boundary Separation Speed      Bacc  \\\n",
      "0    0.253079  0.76216                   2.001778  4.509221   \n",
      "\n",
      "   Non-decision Time Speed  Non-decision Time Accuracy         BIC  \n",
      "0                 0.110756                    0.330053  721.578269  \n",
      "17\n"
     ]
    },
    {
     "name": "stderr",
     "output_type": "stream",
     "text": [
      "Info: Params [0.16495028 0.14558106 0.92270696 2.11257247 0.21829769 0.10033424] gave 696.4153767720705\n"
     ]
    },
    {
     "name": "stdout",
     "output_type": "stream",
     "text": [
      "   Drift Rate         x  Boundary Separation Speed      Bacc  \\\n",
      "0     0.16495  0.145581                   0.922707  2.112572   \n",
      "\n",
      "   Non-decision Time Speed  Non-decision Time Accuracy         BIC  \n",
      "0                 0.218298                    0.100334  696.415377  \n",
      "18\n"
     ]
    },
    {
     "name": "stderr",
     "output_type": "stream",
     "text": [
      "Info: Params [0.16630225 0.51259962 1.86811804 4.31859138 0.82920827 0.18162345] gave 821.9627049902949\n"
     ]
    },
    {
     "name": "stdout",
     "output_type": "stream",
     "text": [
      "   Drift Rate       x  Boundary Separation Speed      Bacc  \\\n",
      "0    0.166302  0.5126                   1.868118  4.318591   \n",
      "\n",
      "   Non-decision Time Speed  Non-decision Time Accuracy         BIC  \n",
      "0                 0.829208                    0.181623  821.962705  \n",
      "19\n"
     ]
    },
    {
     "name": "stderr",
     "output_type": "stream",
     "text": [
      "Info: Params [0.24006293 0.10333508 1.28835928 7.62055683 0.66979892 0.99018793] gave 893.9406308584103\n"
     ]
    },
    {
     "name": "stdout",
     "output_type": "stream",
     "text": [
      "   Drift Rate         x  Boundary Separation Speed      Bacc  \\\n",
      "0    0.240063  0.103335                   1.288359  7.620557   \n",
      "\n",
      "   Non-decision Time Speed  Non-decision Time Accuracy         BIC  \n",
      "0                 0.669799                    0.990188  893.940631  \n",
      "20\n"
     ]
    },
    {
     "name": "stderr",
     "output_type": "stream",
     "text": [
      "Info: Params [0.19566523 0.88135025 2.81543841 2.33974239 0.13749939 0.57390285] gave 691.8956089465365\n"
     ]
    },
    {
     "name": "stdout",
     "output_type": "stream",
     "text": [
      "   Drift Rate        x  Boundary Separation Speed      Bacc  \\\n",
      "0    0.195665  0.88135                   2.815438  2.339742   \n",
      "\n",
      "   Non-decision Time Speed  Non-decision Time Accuracy         BIC  \n",
      "0                 0.137499                    0.573903  691.895609  \n",
      "21\n"
     ]
    },
    {
     "name": "stderr",
     "output_type": "stream",
     "text": [
      "Info: Params [0.01237373 1.78247629 1.84908393 3.10911726 0.14227804 0.12600614] gave 491.9801705914889\n"
     ]
    },
    {
     "name": "stdout",
     "output_type": "stream",
     "text": [
      "   Drift Rate         x  Boundary Separation Speed      Bacc  \\\n",
      "0    0.012374  1.782476                   1.849084  3.109117   \n",
      "\n",
      "   Non-decision Time Speed  Non-decision Time Accuracy         BIC  \n",
      "0                 0.142278                    0.126006  491.980171  \n",
      "22\n"
     ]
    },
    {
     "name": "stderr",
     "output_type": "stream",
     "text": [
      "Info: Params [0.17999818 0.30239758 0.84829711 3.79347858 0.28425873 0.29631086] gave 680.1515234931522\n"
     ]
    },
    {
     "name": "stdout",
     "output_type": "stream",
     "text": [
      "   Drift Rate         x  Boundary Separation Speed      Bacc  \\\n",
      "0    0.179998  0.302398                   0.848297  3.793479   \n",
      "\n",
      "   Non-decision Time Speed  Non-decision Time Accuracy         BIC  \n",
      "0                 0.284259                    0.296311  680.151523  \n",
      "23\n"
     ]
    },
    {
     "name": "stderr",
     "output_type": "stream",
     "text": [
      "Info: Params [0.18678691 0.25515758 5.23103973 6.23751589 0.21369871 0.2422255 ] gave 1058.7613853564221\n"
     ]
    },
    {
     "name": "stdout",
     "output_type": "stream",
     "text": [
      "   Drift Rate         x  Boundary Separation Speed      Bacc  \\\n",
      "0    0.186787  0.255158                    5.23104  6.237516   \n",
      "\n",
      "   Non-decision Time Speed  Non-decision Time Accuracy          BIC  \n",
      "0                 0.213699                    0.242225  1058.761385  \n",
      "24\n"
     ]
    },
    {
     "name": "stderr",
     "output_type": "stream",
     "text": [
      "Info: Params [0.15433623 2.13999155 0.78516367 3.36736355 0.3707405  0.19677573] gave 322.6894334588008\n"
     ]
    },
    {
     "name": "stdout",
     "output_type": "stream",
     "text": [
      "   Drift Rate         x  Boundary Separation Speed      Bacc  \\\n",
      "0    0.154336  2.139992                   0.785164  3.367364   \n",
      "\n",
      "   Non-decision Time Speed  Non-decision Time Accuracy         BIC  \n",
      "0                 0.370741                    0.196776  322.689433  \n",
      "25\n"
     ]
    },
    {
     "name": "stderr",
     "output_type": "stream",
     "text": [
      "Info: Params [ 0.33312301 -9.47539301  0.5004185   0.74152292  0.48285086  0.10618685] gave 821.9486659830955\n"
     ]
    },
    {
     "name": "stdout",
     "output_type": "stream",
     "text": [
      "   Drift Rate         x  Boundary Separation Speed      Bacc  \\\n",
      "0    0.333123 -9.475393                   0.500418  0.741523   \n",
      "\n",
      "   Non-decision Time Speed  Non-decision Time Accuracy         BIC  \n",
      "0                 0.482851                    0.106187  821.948666  \n",
      "26\n"
     ]
    },
    {
     "name": "stderr",
     "output_type": "stream",
     "text": [
      "Info: Params [0.18974313 0.24666597 1.50452745 4.52369622 0.39956823 0.90661737] gave 884.0674987339837\n"
     ]
    },
    {
     "name": "stdout",
     "output_type": "stream",
     "text": [
      "   Drift Rate         x  Boundary Separation Speed      Bacc  \\\n",
      "0    0.189743  0.246666                   1.504527  4.523696   \n",
      "\n",
      "   Non-decision Time Speed  Non-decision Time Accuracy         BIC  \n",
      "0                 0.399568                    0.906617  884.067499  \n",
      "27\n"
     ]
    },
    {
     "name": "stderr",
     "output_type": "stream",
     "text": [
      "Info: Params [ 0.27755968 -2.29809773  0.94135227  1.30091778  0.1040262   0.92178623] gave 1041.6101210337015\n"
     ]
    },
    {
     "name": "stdout",
     "output_type": "stream",
     "text": [
      "   Drift Rate         x  Boundary Separation Speed      Bacc  \\\n",
      "0     0.27756 -2.298098                   0.941352  1.300918   \n",
      "\n",
      "   Non-decision Time Speed  Non-decision Time Accuracy          BIC  \n",
      "0                 0.104026                    0.921786  1041.610121  \n",
      "28\n"
     ]
    },
    {
     "name": "stderr",
     "output_type": "stream",
     "text": [
      "Info: Params [0.10877188 0.10506546 2.21012036 6.06431811 0.97716177 0.22539774] gave 1101.168778405419\n"
     ]
    },
    {
     "name": "stdout",
     "output_type": "stream",
     "text": [
      "   Drift Rate         x  Boundary Separation Speed      Bacc  \\\n",
      "0    0.108772  0.105065                    2.21012  6.064318   \n",
      "\n",
      "   Non-decision Time Speed  Non-decision Time Accuracy          BIC  \n",
      "0                 0.977162                    0.225398  1101.168778  \n",
      "29\n"
     ]
    },
    {
     "name": "stderr",
     "output_type": "stream",
     "text": [
      "Info: Params [0.1883851  0.44405124 7.91709873 7.29533673 0.87981687 0.89390425] gave 893.2187760719057\n"
     ]
    },
    {
     "name": "stdout",
     "output_type": "stream",
     "text": [
      "   Drift Rate         x  Boundary Separation Speed      Bacc  \\\n",
      "0    0.188385  0.444051                   7.917099  7.295337   \n",
      "\n",
      "   Non-decision Time Speed  Non-decision Time Accuracy         BIC  \n",
      "0                 0.879817                    0.893904  893.218776  \n",
      "30\n"
     ]
    },
    {
     "name": "stderr",
     "output_type": "stream",
     "text": [
      "Info: Params [0.29060156 0.49075972 0.78474781 4.36913303 0.11301307 0.15795361] gave 598.8682587164831\n"
     ]
    },
    {
     "name": "stdout",
     "output_type": "stream",
     "text": [
      "   Drift Rate        x  Boundary Separation Speed      Bacc  \\\n",
      "0    0.290602  0.49076                   0.784748  4.369133   \n",
      "\n",
      "   Non-decision Time Speed  Non-decision Time Accuracy         BIC  \n",
      "0                 0.113013                    0.157954  598.868259  \n",
      "31\n"
     ]
    },
    {
     "name": "stderr",
     "output_type": "stream",
     "text": [
      "Info: Params [ 0.19058216 -0.85775957  1.07268481  1.75981664  0.10323359  0.32434306] gave 1006.6150421707807\n"
     ]
    },
    {
     "name": "stdout",
     "output_type": "stream",
     "text": [
      "   Drift Rate        x  Boundary Separation Speed      Bacc  \\\n",
      "0    0.190582 -0.85776                   1.072685  1.759817   \n",
      "\n",
      "   Non-decision Time Speed  Non-decision Time Accuracy          BIC  \n",
      "0                 0.103234                    0.324343  1006.615042  \n",
      "32\n"
     ]
    },
    {
     "name": "stderr",
     "output_type": "stream",
     "text": [
      "Info: Params [ 0.37879358 -0.32854908  0.60720706  1.49608678  0.1125774   0.56807352] gave 519.1056789385008\n"
     ]
    },
    {
     "name": "stdout",
     "output_type": "stream",
     "text": [
      "   Drift Rate         x  Boundary Separation Speed      Bacc  \\\n",
      "0    0.378794 -0.328549                   0.607207  1.496087   \n",
      "\n",
      "   Non-decision Time Speed  Non-decision Time Accuracy         BIC  \n",
      "0                 0.112577                    0.568074  519.105679  \n",
      "33\n"
     ]
    },
    {
     "name": "stderr",
     "output_type": "stream",
     "text": [
      "Info: Params [0.10034585 0.8281769  1.4264728  5.41716515 0.11061744 0.37750938] gave 679.3895337276831\n"
     ]
    },
    {
     "name": "stdout",
     "output_type": "stream",
     "text": [
      "   Drift Rate         x  Boundary Separation Speed      Bacc  \\\n",
      "0    0.100346  0.828177                   1.426473  5.417165   \n",
      "\n",
      "   Non-decision Time Speed  Non-decision Time Accuracy         BIC  \n",
      "0                 0.110617                    0.377509  679.389534  \n",
      "34\n"
     ]
    },
    {
     "name": "stderr",
     "output_type": "stream",
     "text": [
      "Info: Params [0.30507326 0.20852552 1.67483601 7.28157373 0.73928085 0.28359622] gave 898.246815494697\n"
     ]
    },
    {
     "name": "stdout",
     "output_type": "stream",
     "text": [
      "   Drift Rate         x  Boundary Separation Speed      Bacc  \\\n",
      "0    0.305073  0.208526                   1.674836  7.281574   \n",
      "\n",
      "   Non-decision Time Speed  Non-decision Time Accuracy         BIC  \n",
      "0                 0.739281                    0.283596  898.246815  \n",
      "35\n"
     ]
    },
    {
     "name": "stderr",
     "output_type": "stream",
     "text": [
      "Info: Params [ 0.38545465 -1.47391309  1.32105113  1.53793778  0.88919251  0.92453591] gave 1076.5019449204651\n"
     ]
    },
    {
     "name": "stdout",
     "output_type": "stream",
     "text": [
      "   Drift Rate         x  Boundary Separation Speed      Bacc  \\\n",
      "0    0.385455 -1.473913                   1.321051  1.537938   \n",
      "\n",
      "   Non-decision Time Speed  Non-decision Time Accuracy          BIC  \n",
      "0                 0.889193                    0.924536  1076.501945  \n",
      "36\n"
     ]
    },
    {
     "name": "stderr",
     "output_type": "stream",
     "text": [
      "Info: Params [0.12227086 0.92662553 5.59543749 5.20232546 0.20753834 0.63938917] gave 712.3947599837159\n"
     ]
    },
    {
     "name": "stdout",
     "output_type": "stream",
     "text": [
      "   Drift Rate         x  Boundary Separation Speed      Bacc  \\\n",
      "0    0.122271  0.926626                   5.595437  5.202325   \n",
      "\n",
      "   Non-decision Time Speed  Non-decision Time Accuracy        BIC  \n",
      "0                 0.207538                    0.639389  712.39476  \n",
      "37\n"
     ]
    },
    {
     "name": "stderr",
     "output_type": "stream",
     "text": [
      "Info: Params [ 0.31216035 -4.26085644  0.8156468   1.05228458  0.1068955   0.79008914] gave 1014.836726242811\n"
     ]
    },
    {
     "name": "stdout",
     "output_type": "stream",
     "text": [
      "   Drift Rate         x  Boundary Separation Speed      Bacc  \\\n",
      "0     0.31216 -4.260856                   0.815647  1.052285   \n",
      "\n",
      "   Non-decision Time Speed  Non-decision Time Accuracy          BIC  \n",
      "0                 0.106895                    0.790089  1014.836726  \n"
     ]
    }
   ],
   "source": [
    "df_all = pd.DataFrame()\n",
    "for i in range(sample_size):\n",
    "    print(i)\n",
    "    path = os.path.join(data_dir+str(i+1)+\".csv\")\n",
    "    df = pd.read_csv(path, sep = \",\")\n",
    "    #df = df[df[\"cond\"]==SAT] # A condition\n",
    "    df = df[df[\"Time\"]<30]\n",
    "\n",
    "    samp = Sample.from_pandas_dataframe(df, rt_column_name=\"Time\", correct_column_name=\"Correct\")\n",
    "    df = get_OUM_result_sub_2a2ter(samp, T_dur = 30)\n",
    "    df_all = pd.concat((df_all,df))\n",
    "    print(df)\n",
    "df_OUM = df_all.copy()\n"
   ]
  },
  {
   "cell_type": "code",
   "execution_count": null,
   "id": "81235d16",
   "metadata": {},
   "outputs": [],
   "source": []
  },
  {
   "cell_type": "code",
   "execution_count": null,
   "id": "8a3f5185",
   "metadata": {},
   "outputs": [],
   "source": []
  },
  {
   "cell_type": "code",
   "execution_count": null,
   "id": "fdb13001",
   "metadata": {
    "scrolled": true
   },
   "outputs": [],
   "source": []
  },
  {
   "cell_type": "code",
   "execution_count": null,
   "id": "3b05a53a",
   "metadata": {},
   "outputs": [],
   "source": [
    "df_OUM.to_csv(\"OUM2a2terresultLerche2017.csv\")"
   ]
  },
  {
   "cell_type": "code",
   "execution_count": null,
   "id": "87e8797e",
   "metadata": {},
   "outputs": [],
   "source": [
    "df_OUM[\"BIC\"].mean()"
   ]
  },
  {
   "cell_type": "code",
   "execution_count": null,
   "id": "66bb2313",
   "metadata": {},
   "outputs": [],
   "source": [
    "%run Lerche2017-DDM2k2ter-pyddm.ipynb"
   ]
  },
  {
   "cell_type": "code",
   "execution_count": null,
   "id": "dd35c293",
   "metadata": {},
   "outputs": [],
   "source": [
    "%run Lerche2017-DDM2v2a2ter-pyddm.ipynb"
   ]
  },
  {
   "cell_type": "code",
   "execution_count": null,
   "id": "850fdfad",
   "metadata": {},
   "outputs": [],
   "source": [
    "%run Lerche2017-DDM2v2k2ter-pyddm.ipynb"
   ]
  },
  {
   "cell_type": "code",
   "execution_count": null,
   "id": "4b158d5e",
   "metadata": {},
   "outputs": [],
   "source": []
  }
 ],
 "metadata": {
  "kernelspec": {
   "display_name": "Python 3 (ipykernel)",
   "language": "python",
   "name": "python3"
  },
  "language_info": {
   "codemirror_mode": {
    "name": "ipython",
    "version": 3
   },
   "file_extension": ".py",
   "mimetype": "text/x-python",
   "name": "python",
   "nbconvert_exporter": "python",
   "pygments_lexer": "ipython3",
   "version": "3.7.15"
  }
 },
 "nbformat": 4,
 "nbformat_minor": 5
}
