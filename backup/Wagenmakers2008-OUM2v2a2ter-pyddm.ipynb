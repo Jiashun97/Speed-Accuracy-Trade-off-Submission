{
 "cells": [
  {
   "cell_type": "code",
   "execution_count": 4,
   "id": "2cda49de",
   "metadata": {},
   "outputs": [],
   "source": [
    "%run SAT_help_functions.ipynb"
   ]
  },
  {
   "cell_type": "code",
   "execution_count": null,
   "id": "bc081cf9",
   "metadata": {},
   "outputs": [],
   "source": []
  },
  {
   "cell_type": "markdown",
   "id": "4bd26666",
   "metadata": {},
   "source": [
    "## OUM"
   ]
  },
  {
   "cell_type": "code",
   "execution_count": null,
   "id": "9ef6c434",
   "metadata": {},
   "outputs": [],
   "source": []
  },
  {
   "cell_type": "code",
   "execution_count": 5,
   "id": "e776257c",
   "metadata": {},
   "outputs": [],
   "source": [
    "data_dir = \"/Users/wangjiashun/Desktop/Reserach on SAT/datasets/Lexical Decision Data/SpeedAccData.csv\"\n",
    "sample_size = 16\n",
    "SAT_conds = [1,2]"
   ]
  },
  {
   "cell_type": "code",
   "execution_count": null,
   "id": "205184a2",
   "metadata": {},
   "outputs": [],
   "source": []
  },
  {
   "cell_type": "code",
   "execution_count": 16,
   "id": "f434220f",
   "metadata": {},
   "outputs": [],
   "source": [
    "class BoundSpeedAcc(Bound):\n",
    "    name = \"BoundSpeedAcc\"\n",
    "    required_parameters = [\"Bspeed\", \"Bacc\"]\n",
    "    required_conditions = ['SAT']\n",
    "    def get_bound(self, conditions, *args, **kwargs):\n",
    "        assert self.Bacc > 0\n",
    "        assert self.Bspeed > 0\n",
    "        if conditions['SAT'] == 1:\n",
    "            return self.Bspeed\n",
    "        elif conditions['SAT'] == 2:\n",
    "            return self.Bacc\n",
    "        else:\n",
    "            print(\"Non-implemented SAT conditions\")"
   ]
  },
  {
   "cell_type": "code",
   "execution_count": null,
   "id": "a5da1f64",
   "metadata": {},
   "outputs": [],
   "source": []
  },
  {
   "cell_type": "code",
   "execution_count": 17,
   "id": "bbb278a6",
   "metadata": {},
   "outputs": [],
   "source": [
    "\n",
    "class DriftConstantSpeedAcc(Drift):\n",
    "    name = \"DriftBothSpeedAcc\"\n",
    "    required_parameters = [\"Vspeed\",\"Vacc\", \"K\"]\n",
    "    required_conditions = ['SAT']\n",
    "        \n",
    "    def get_drift(self, x, t, conditions, **kwargs):\n",
    "        if conditions['SAT'] == 1:\n",
    "            return self.Vspeed + x*self.K \n",
    "        elif conditions['SAT'] == 2:\n",
    "            return self.Vacc + x*self.K\n",
    "        else: \n",
    "            print(\"Non-implemented SAT conditions\")"
   ]
  },
  {
   "cell_type": "code",
   "execution_count": 18,
   "id": "6e5e0074",
   "metadata": {},
   "outputs": [],
   "source": [
    "\n",
    "class NondecisionSpeedAcc(OverlayNonDecision):\n",
    "    name = \"DriftSpeedAcc\"\n",
    "    required_parameters = [\"tSpeed\", 'tAcc']\n",
    "    required_conditions = ['SAT']\n",
    "        \n",
    "    def get_nondecision_time(self, conditions, **kwargs):\n",
    "        if conditions['SAT'] == 1:\n",
    "            return self.tSpeed \n",
    "        elif conditions['SAT'] == 2:\n",
    "            return self.tAcc\n",
    "        else: \n",
    "            print(\"Non-implemented SAT conditions\")"
   ]
  },
  {
   "cell_type": "code",
   "execution_count": 19,
   "id": "b1e0fe9b",
   "metadata": {},
   "outputs": [],
   "source": []
  },
  {
   "cell_type": "code",
   "execution_count": null,
   "id": "81235d16",
   "metadata": {},
   "outputs": [],
   "source": []
  },
  {
   "cell_type": "code",
   "execution_count": null,
   "id": "8a3f5185",
   "metadata": {},
   "outputs": [],
   "source": []
  },
  {
   "cell_type": "code",
   "execution_count": 20,
   "id": "fdb13001",
   "metadata": {
    "scrolled": true
   },
   "outputs": [
    {
     "name": "stdout",
     "output_type": "stream",
     "text": [
      "1\n",
      "1\n"
     ]
    },
    {
     "name": "stderr",
     "output_type": "stream",
     "text": [
      "Info: Params [2.98466873 3.77338076 3.49606708 0.62062606 0.52124802 0.34209082\n",
      " 0.3868591 ] gave -261.3073602541012\n"
     ]
    },
    {
     "name": "stdout",
     "output_type": "stream",
     "text": [
      "   Drift Rate Speed  Drift Rate Accuracy  Self-excitation  \\\n",
      "0          2.984669             3.773381         3.496067   \n",
      "\n",
      "   Boundary Separation Speed      Bacc  Non-decision Time Speed  \\\n",
      "0                   0.620626  0.521248                 0.342091   \n",
      "\n",
      "   Non-decision Time Accuracy  Participant        BIC  Frequency  \n",
      "0                    0.386859            2 -261.30736          1  \n",
      "2\n",
      "1\n"
     ]
    },
    {
     "name": "stderr",
     "output_type": "stream",
     "text": [
      "Info: Params [2.48703034 2.50231658 7.5358383  0.59791909 5.09874005 0.37191714\n",
      " 0.18078783] gave -130.29854086314856\n"
     ]
    },
    {
     "name": "stdout",
     "output_type": "stream",
     "text": [
      "   Drift Rate Speed  Drift Rate Accuracy  Self-excitation  \\\n",
      "0           2.48703             2.502317         7.535838   \n",
      "\n",
      "   Boundary Separation Speed     Bacc  Non-decision Time Speed  \\\n",
      "0                   0.597919  5.09874                 0.371917   \n",
      "\n",
      "   Non-decision Time Accuracy  Participant         BIC  Frequency  \n",
      "0                    0.180788            2 -130.298541          2  \n",
      "3\n",
      "1\n"
     ]
    },
    {
     "name": "stderr",
     "output_type": "stream",
     "text": [
      "Info: Params [0.90030935 1.7474817  4.60097113 0.61523217 0.69892246 0.34158886\n",
      " 0.38099151] gave -17.878871648288154\n"
     ]
    },
    {
     "name": "stdout",
     "output_type": "stream",
     "text": [
      "   Drift Rate Speed  Drift Rate Accuracy  Self-excitation  \\\n",
      "0          0.900309             1.747482         4.600971   \n",
      "\n",
      "   Boundary Separation Speed      Bacc  Non-decision Time Speed  \\\n",
      "0                   0.615232  0.698922                 0.341589   \n",
      "\n",
      "   Non-decision Time Accuracy  Participant        BIC  Frequency  \n",
      "0                    0.380992            2 -17.878872          3  \n",
      "4\n",
      "1\n"
     ]
    },
    {
     "name": "stderr",
     "output_type": "stream",
     "text": [
      "Info: Params [2.37646156 2.88329123 4.78841463 0.62630531 0.5772887  0.33906073\n",
      " 0.39666275] gave -164.78232657540937\n"
     ]
    },
    {
     "name": "stdout",
     "output_type": "stream",
     "text": [
      "   Drift Rate Speed  Drift Rate Accuracy  Self-excitation  \\\n",
      "0          2.376462             2.883291         4.788415   \n",
      "\n",
      "   Boundary Separation Speed      Bacc  Non-decision Time Speed  \\\n",
      "0                   0.626305  0.577289                 0.339061   \n",
      "\n",
      "   Non-decision Time Accuracy  Participant         BIC  Frequency  \n",
      "0                    0.396663            2 -164.782327          4  \n",
      "5\n",
      "1\n"
     ]
    },
    {
     "name": "stderr",
     "output_type": "stream",
     "text": [
      "Info: Params [3.57494243 2.8551867  7.07825689 1.24732389 1.85890508 0.31521099\n",
      " 0.28936837] gave -178.98049382107575\n"
     ]
    },
    {
     "name": "stdout",
     "output_type": "stream",
     "text": [
      "   Drift Rate Speed  Drift Rate Accuracy  Self-excitation  \\\n",
      "0          3.574942             2.855187         7.078257   \n",
      "\n",
      "   Boundary Separation Speed      Bacc  Non-decision Time Speed  \\\n",
      "0                   1.247324  1.858905                 0.315211   \n",
      "\n",
      "   Non-decision Time Accuracy  Participant         BIC  Frequency  \n",
      "0                    0.289368            2 -178.980494          5  \n",
      "6\n",
      "1\n"
     ]
    },
    {
     "name": "stderr",
     "output_type": "stream",
     "text": [
      "Info: Params [3.31532772 3.30490077 5.36042597 0.6460186  1.01145204 0.34516383\n",
      " 0.33278292] gave -223.44268131008025\n"
     ]
    },
    {
     "name": "stdout",
     "output_type": "stream",
     "text": [
      "   Drift Rate Speed  Drift Rate Accuracy  Self-excitation  \\\n",
      "0          3.315328             3.304901         5.360426   \n",
      "\n",
      "   Boundary Separation Speed      Bacc  Non-decision Time Speed  \\\n",
      "0                   0.646019  1.011452                 0.345164   \n",
      "\n",
      "   Non-decision Time Accuracy  Participant         BIC  Frequency  \n",
      "0                    0.332783            2 -223.442681          6  \n",
      "1\n",
      "3\n"
     ]
    },
    {
     "name": "stderr",
     "output_type": "stream",
     "text": [
      "Info: Params [2.77267294 3.44769799 5.49125031 0.62276365 2.95246584 0.32127026\n",
      " 0.28121609] gave -189.8991469871451\n"
     ]
    },
    {
     "name": "stdout",
     "output_type": "stream",
     "text": [
      "   Drift Rate Speed  Drift Rate Accuracy  Self-excitation  \\\n",
      "0          2.772673             3.447698          5.49125   \n",
      "\n",
      "   Boundary Separation Speed      Bacc  Non-decision Time Speed  \\\n",
      "0                   0.622764  2.952466                  0.32127   \n",
      "\n",
      "   Non-decision Time Accuracy  Participant         BIC  Frequency  \n",
      "0                    0.281216            4 -189.899147          1  \n",
      "2\n",
      "3\n"
     ]
    },
    {
     "name": "stderr",
     "output_type": "stream",
     "text": [
      "Info: Params [1.65617625 2.07225374 2.53660402 0.51596398 1.09394542 0.33032629\n",
      " 0.35919024] gave -39.86445142870127\n"
     ]
    },
    {
     "name": "stdout",
     "output_type": "stream",
     "text": [
      "   Drift Rate Speed  Drift Rate Accuracy  Self-excitation  \\\n",
      "0          1.656176             2.072254         2.536604   \n",
      "\n",
      "   Boundary Separation Speed      Bacc  Non-decision Time Speed  \\\n",
      "0                   0.515964  1.093945                 0.330326   \n",
      "\n",
      "   Non-decision Time Accuracy  Participant        BIC  Frequency  \n",
      "0                     0.35919            4 -39.864451          2  \n",
      "3\n",
      "3\n"
     ]
    },
    {
     "name": "stderr",
     "output_type": "stream",
     "text": [
      "Info: Params [1.57122837 1.87365426 3.68104201 0.6093816  1.51867946 0.32743604\n",
      " 0.34700557] gave 12.964343448284211\n"
     ]
    },
    {
     "name": "stdout",
     "output_type": "stream",
     "text": [
      "   Drift Rate Speed  Drift Rate Accuracy  Self-excitation  \\\n",
      "0          1.571228             1.873654         3.681042   \n",
      "\n",
      "   Boundary Separation Speed      Bacc  Non-decision Time Speed  \\\n",
      "0                   0.609382  1.518679                 0.327436   \n",
      "\n",
      "   Non-decision Time Accuracy  Participant        BIC  Frequency  \n",
      "0                    0.347006            4  12.964343          3  \n",
      "4\n",
      "3\n"
     ]
    },
    {
     "name": "stderr",
     "output_type": "stream",
     "text": [
      "Info: Params [1.92399675 2.15518579 3.10455613 0.80474504 3.36064616 0.28272926\n",
      " 0.10685946] gave 0.15041465743580318\n"
     ]
    },
    {
     "name": "stdout",
     "output_type": "stream",
     "text": [
      "   Drift Rate Speed  Drift Rate Accuracy  Self-excitation  \\\n",
      "0          1.923997             2.155186         3.104556   \n",
      "\n",
      "   Boundary Separation Speed      Bacc  Non-decision Time Speed  \\\n",
      "0                   0.804745  3.360646                 0.282729   \n",
      "\n",
      "   Non-decision Time Accuracy  Participant       BIC  Frequency  \n",
      "0                    0.106859            4  0.150415          4  \n",
      "5\n",
      "3\n"
     ]
    },
    {
     "name": "stderr",
     "output_type": "stream",
     "text": [
      "Info: Params [3.14388274 2.09592043 2.29224396 0.71582306 1.99314422 0.30884266\n",
      " 0.21308576] gave -51.91741193856459\n"
     ]
    },
    {
     "name": "stdout",
     "output_type": "stream",
     "text": [
      "   Drift Rate Speed  Drift Rate Accuracy  Self-excitation  \\\n",
      "0          3.143883              2.09592         2.292244   \n",
      "\n",
      "   Boundary Separation Speed      Bacc  Non-decision Time Speed  \\\n",
      "0                   0.715823  1.993144                 0.308843   \n",
      "\n",
      "   Non-decision Time Accuracy  Participant        BIC  Frequency  \n",
      "0                    0.213086            4 -51.917412          5  \n",
      "6\n",
      "3\n"
     ]
    },
    {
     "name": "stderr",
     "output_type": "stream",
     "text": [
      "Info: Params [2.64304187 2.24925719 1.50898993 0.56053274 1.2926994  0.34077158\n",
      " 0.30049886] gave -64.56307362194951\n"
     ]
    },
    {
     "name": "stdout",
     "output_type": "stream",
     "text": [
      "   Drift Rate Speed  Drift Rate Accuracy  Self-excitation  \\\n",
      "0          2.643042             2.249257          1.50899   \n",
      "\n",
      "   Boundary Separation Speed      Bacc  Non-decision Time Speed  \\\n",
      "0                   0.560533  1.292699                 0.340772   \n",
      "\n",
      "   Non-decision Time Accuracy  Participant        BIC  Frequency  \n",
      "0                    0.300499            4 -64.563074          6  \n",
      "1\n",
      "4\n"
     ]
    },
    {
     "name": "stderr",
     "output_type": "stream",
     "text": [
      "Info: Params [4.12729542 3.66502218 5.06506652 0.50094931 1.13443614 0.32889514\n",
      " 0.29949181] gave -305.8534547056402\n"
     ]
    },
    {
     "name": "stdout",
     "output_type": "stream",
     "text": [
      "   Drift Rate Speed  Drift Rate Accuracy  Self-excitation  \\\n",
      "0          4.127295             3.665022         5.065067   \n",
      "\n",
      "   Boundary Separation Speed      Bacc  Non-decision Time Speed  \\\n",
      "0                   0.500949  1.134436                 0.328895   \n",
      "\n",
      "   Non-decision Time Accuracy  Participant         BIC  Frequency  \n",
      "0                    0.299492            5 -305.853455          1  \n",
      "2\n",
      "4\n"
     ]
    },
    {
     "name": "stderr",
     "output_type": "stream",
     "text": [
      "Info: Params [2.58479905 3.26268833 8.24430435 0.52466118 4.55229001 0.33115056\n",
      " 0.22510397] gave -214.26938753103485\n"
     ]
    },
    {
     "name": "stdout",
     "output_type": "stream",
     "text": [
      "   Drift Rate Speed  Drift Rate Accuracy  Self-excitation  \\\n",
      "0          2.584799             3.262688         8.244304   \n",
      "\n",
      "   Boundary Separation Speed     Bacc  Non-decision Time Speed  \\\n",
      "0                   0.524661  4.55229                 0.331151   \n",
      "\n",
      "   Non-decision Time Accuracy  Participant         BIC  Frequency  \n",
      "0                    0.225104            5 -214.269388          2  \n",
      "3\n",
      "4\n"
     ]
    },
    {
     "name": "stderr",
     "output_type": "stream",
     "text": [
      "Info: Params [1.66168853 2.07630345 6.51204415 0.50587536 5.50010904 0.33523446\n",
      " 0.13188279] gave -87.9443890840707\n"
     ]
    },
    {
     "name": "stdout",
     "output_type": "stream",
     "text": [
      "   Drift Rate Speed  Drift Rate Accuracy  Self-excitation  \\\n",
      "0          1.661689             2.076303         6.512044   \n",
      "\n",
      "   Boundary Separation Speed      Bacc  Non-decision Time Speed  \\\n",
      "0                   0.505875  5.500109                 0.335234   \n",
      "\n",
      "   Non-decision Time Accuracy  Participant        BIC  Frequency  \n",
      "0                    0.131883            5 -87.944389          3  \n",
      "4\n",
      "4\n"
     ]
    },
    {
     "name": "stderr",
     "output_type": "stream",
     "text": [
      "Info: Params [3.94726577 3.3780631  4.8483704  0.50507056 3.88436688 0.35412637\n",
      " 0.15717297] gave -237.91858908474174\n"
     ]
    },
    {
     "name": "stdout",
     "output_type": "stream",
     "text": [
      "   Drift Rate Speed  Drift Rate Accuracy  Self-excitation  \\\n",
      "0          3.947266             3.378063          4.84837   \n",
      "\n",
      "   Boundary Separation Speed      Bacc  Non-decision Time Speed  \\\n",
      "0                   0.505071  3.884367                 0.354126   \n",
      "\n",
      "   Non-decision Time Accuracy  Participant         BIC  Frequency  \n",
      "0                    0.157173            5 -237.918589          4  \n",
      "5\n",
      "4\n"
     ]
    },
    {
     "name": "stderr",
     "output_type": "stream",
     "text": [
      "Info: Params [3.79410054 2.4033219  2.68607163 0.50832783 0.74561178 0.33116486\n",
      " 0.3448964 ] gave -202.3156788807438\n"
     ]
    },
    {
     "name": "stdout",
     "output_type": "stream",
     "text": [
      "   Drift Rate Speed  Drift Rate Accuracy  Self-excitation  \\\n",
      "0          3.794101             2.403322         2.686072   \n",
      "\n",
      "   Boundary Separation Speed      Bacc  Non-decision Time Speed  \\\n",
      "0                   0.508328  0.745612                 0.331165   \n",
      "\n",
      "   Non-decision Time Accuracy  Participant         BIC  Frequency  \n",
      "0                    0.344896            5 -202.315679          5  \n",
      "6\n",
      "4\n"
     ]
    },
    {
     "name": "stderr",
     "output_type": "stream",
     "text": [
      "Info: Params [3.41567363 2.41404804 5.28896893 0.51401912 1.08163928 0.3206169\n",
      " 0.3195288 ] gave -198.28439052868458\n"
     ]
    },
    {
     "name": "stdout",
     "output_type": "stream",
     "text": [
      "   Drift Rate Speed  Drift Rate Accuracy  Self-excitation  \\\n",
      "0          3.415674             2.414048         5.288969   \n",
      "\n",
      "   Boundary Separation Speed      Bacc  Non-decision Time Speed  \\\n",
      "0                   0.514019  1.081639                 0.320617   \n",
      "\n",
      "   Non-decision Time Accuracy  Participant         BIC  Frequency  \n",
      "0                    0.319529            5 -198.284391          6  \n",
      "1\n",
      "5\n"
     ]
    },
    {
     "name": "stderr",
     "output_type": "stream",
     "text": [
      "Info: Params [4.29355754 3.96237146 4.32423492 0.50495255 5.22541093 0.32160688\n",
      " 0.13808036] gave -291.9499562017542\n"
     ]
    },
    {
     "name": "stdout",
     "output_type": "stream",
     "text": [
      "   Drift Rate Speed  Drift Rate Accuracy  Self-excitation  \\\n",
      "0          4.293558             3.962371         4.324235   \n",
      "\n",
      "   Boundary Separation Speed      Bacc  Non-decision Time Speed  \\\n",
      "0                   0.504953  5.225411                 0.321607   \n",
      "\n",
      "   Non-decision Time Accuracy  Participant         BIC  Frequency  \n",
      "0                     0.13808            6 -291.949956          1  \n",
      "2\n",
      "5\n"
     ]
    },
    {
     "name": "stderr",
     "output_type": "stream",
     "text": [
      "Info: Params [3.92444727 2.87337833 8.29869955 0.66901501 5.01378778 0.34233033\n",
      " 0.27379415] gave -224.76673309837366\n"
     ]
    },
    {
     "name": "stdout",
     "output_type": "stream",
     "text": [
      "   Drift Rate Speed  Drift Rate Accuracy  Self-excitation  \\\n",
      "0          3.924447             2.873378           8.2987   \n",
      "\n",
      "   Boundary Separation Speed      Bacc  Non-decision Time Speed  \\\n",
      "0                   0.669015  5.013788                  0.34233   \n",
      "\n",
      "   Non-decision Time Accuracy  Participant         BIC  Frequency  \n",
      "0                    0.273794            6 -224.766733          2  \n",
      "3\n",
      "5\n"
     ]
    },
    {
     "name": "stderr",
     "output_type": "stream",
     "text": [
      "Info: Params [2.35237274 3.40161308 7.05921561 0.68734904 2.88025275 0.33633992\n",
      " 0.34169478] gave -187.77958671424818\n"
     ]
    },
    {
     "name": "stdout",
     "output_type": "stream",
     "text": [
      "   Drift Rate Speed  Drift Rate Accuracy  Self-excitation  \\\n",
      "0          2.352373             3.401613         7.059216   \n",
      "\n",
      "   Boundary Separation Speed      Bacc  Non-decision Time Speed  \\\n",
      "0                   0.687349  2.880253                  0.33634   \n",
      "\n",
      "   Non-decision Time Accuracy  Participant         BIC  Frequency  \n",
      "0                    0.341695            6 -187.779587          3  \n",
      "4\n",
      "5\n"
     ]
    },
    {
     "name": "stderr",
     "output_type": "stream",
     "text": [
      "Info: Params [4.72320805 3.66001729 6.70095722 1.05572162 3.41257041 0.32523506\n",
      " 0.31535193] gave -267.1292741785563\n"
     ]
    },
    {
     "name": "stdout",
     "output_type": "stream",
     "text": [
      "   Drift Rate Speed  Drift Rate Accuracy  Self-excitation  \\\n",
      "0          4.723208             3.660017         6.700957   \n",
      "\n",
      "   Boundary Separation Speed     Bacc  Non-decision Time Speed  \\\n",
      "0                   1.055722  3.41257                 0.325235   \n",
      "\n",
      "   Non-decision Time Accuracy  Participant         BIC  Frequency  \n",
      "0                    0.315352            6 -267.129274          4  \n",
      "5\n",
      "5\n"
     ]
    },
    {
     "name": "stderr",
     "output_type": "stream",
     "text": [
      "Info: Params [4.76972959 2.68322518 4.83824967 0.50122467 1.25542173 0.37199249\n",
      " 0.421646  ] gave -224.0662048395924\n"
     ]
    },
    {
     "name": "stdout",
     "output_type": "stream",
     "text": [
      "   Drift Rate Speed  Drift Rate Accuracy  Self-excitation  \\\n",
      "0           4.76973             2.683225          4.83825   \n",
      "\n",
      "   Boundary Separation Speed      Bacc  Non-decision Time Speed  \\\n",
      "0                   0.501225  1.255422                 0.371992   \n",
      "\n",
      "   Non-decision Time Accuracy  Participant         BIC  Frequency  \n",
      "0                    0.421646            6 -224.066205          5  \n",
      "6\n",
      "5\n"
     ]
    },
    {
     "name": "stderr",
     "output_type": "stream",
     "text": [
      "Info: Params [3.59257348 3.02388184 7.72249442 0.96146636 6.72785662 0.30063679\n",
      " 0.24012699] gave -195.54214456788273\n"
     ]
    },
    {
     "name": "stdout",
     "output_type": "stream",
     "text": [
      "   Drift Rate Speed  Drift Rate Accuracy  Self-excitation  \\\n",
      "0          3.592573             3.023882         7.722494   \n",
      "\n",
      "   Boundary Separation Speed      Bacc  Non-decision Time Speed  \\\n",
      "0                   0.961466  6.727857                 0.300637   \n",
      "\n",
      "   Non-decision Time Accuracy  Participant         BIC  Frequency  \n",
      "0                    0.240127            6 -195.542145          6  \n",
      "1\n",
      "6\n"
     ]
    },
    {
     "name": "stderr",
     "output_type": "stream",
     "text": [
      "Info: Params [2.53060509 3.22088879 9.31063441 1.05312258 3.63104363 0.25134093\n",
      " 0.26363497] gave -190.34218310942464\n"
     ]
    },
    {
     "name": "stdout",
     "output_type": "stream",
     "text": [
      "   Drift Rate Speed  Drift Rate Accuracy  Self-excitation  \\\n",
      "0          2.530605             3.220889         9.310634   \n",
      "\n",
      "   Boundary Separation Speed      Bacc  Non-decision Time Speed  \\\n",
      "0                   1.053123  3.631044                 0.251341   \n",
      "\n",
      "   Non-decision Time Accuracy  Participant         BIC  Frequency  \n",
      "0                    0.263635            7 -190.342183          1  \n",
      "2\n",
      "6\n"
     ]
    },
    {
     "name": "stderr",
     "output_type": "stream",
     "text": [
      "Info: Params [1.36648907 2.48094578 7.40579693 1.49957701 1.21438614 0.17649995\n",
      " 0.39545431] gave -80.250973211017\n"
     ]
    },
    {
     "name": "stdout",
     "output_type": "stream",
     "text": [
      "   Drift Rate Speed  Drift Rate Accuracy  Self-excitation  \\\n",
      "0          1.366489             2.480946         7.405797   \n",
      "\n",
      "   Boundary Separation Speed      Bacc  Non-decision Time Speed  \\\n",
      "0                   1.499577  1.214386                   0.1765   \n",
      "\n",
      "   Non-decision Time Accuracy  Participant        BIC  Frequency  \n",
      "0                    0.395454            7 -80.250973          2  \n",
      "3\n",
      "6\n"
     ]
    },
    {
     "name": "stderr",
     "output_type": "stream",
     "text": [
      "Info: Params [0.52390499 1.59536354 5.99126768 0.98025475 0.89931023 0.19876659\n",
      " 0.41194853] gave 25.361459243341614\n"
     ]
    },
    {
     "name": "stdout",
     "output_type": "stream",
     "text": [
      "   Drift Rate Speed  Drift Rate Accuracy  Self-excitation  \\\n",
      "0          0.523905             1.595364         5.991268   \n",
      "\n",
      "   Boundary Separation Speed     Bacc  Non-decision Time Speed  \\\n",
      "0                   0.980255  0.89931                 0.198767   \n",
      "\n",
      "   Non-decision Time Accuracy  Participant        BIC  Frequency  \n",
      "0                    0.411949            7  25.361459          3  \n",
      "4\n",
      "6\n"
     ]
    },
    {
     "name": "stderr",
     "output_type": "stream",
     "text": [
      "Info: Params [0.97694465 2.82890525 5.94092492 1.02443333 6.85217382 0.19518577\n",
      " 0.1685892 ] gave -40.421147102076254\n"
     ]
    },
    {
     "name": "stdout",
     "output_type": "stream",
     "text": [
      "   Drift Rate Speed  Drift Rate Accuracy  Self-excitation  \\\n",
      "0          0.976945             2.828905         5.940925   \n",
      "\n",
      "   Boundary Separation Speed      Bacc  Non-decision Time Speed  \\\n",
      "0                   1.024433  6.852174                 0.195186   \n",
      "\n",
      "   Non-decision Time Accuracy  Participant        BIC  Frequency  \n",
      "0                    0.168589            7 -40.421147          4  \n",
      "5\n",
      "6\n"
     ]
    },
    {
     "name": "stderr",
     "output_type": "stream",
     "text": [
      "Info: Params [1.00523113 2.48194875 4.48288408 0.59907888 1.10078414 0.27628361\n",
      " 0.36977831] gave -45.319912193291415\n"
     ]
    },
    {
     "name": "stdout",
     "output_type": "stream",
     "text": [
      "   Drift Rate Speed  Drift Rate Accuracy  Self-excitation  \\\n",
      "0          1.005231             2.481949         4.482884   \n",
      "\n",
      "   Boundary Separation Speed      Bacc  Non-decision Time Speed  \\\n",
      "0                   0.599079  1.100784                 0.276284   \n",
      "\n",
      "   Non-decision Time Accuracy  Participant        BIC  Frequency  \n",
      "0                    0.369778            7 -45.319912          5  \n",
      "6\n",
      "6\n"
     ]
    },
    {
     "name": "stderr",
     "output_type": "stream",
     "text": [
      "Info: Params [0.68113043 2.66671242 6.33589206 1.97925456 1.87528619 0.1068337\n",
      " 0.30057967] gave -39.36760285426322\n"
     ]
    },
    {
     "name": "stdout",
     "output_type": "stream",
     "text": [
      "   Drift Rate Speed  Drift Rate Accuracy  Self-excitation  \\\n",
      "0           0.68113             2.666712         6.335892   \n",
      "\n",
      "   Boundary Separation Speed      Bacc  Non-decision Time Speed  \\\n",
      "0                   1.979255  1.875286                 0.106834   \n",
      "\n",
      "   Non-decision Time Accuracy  Participant        BIC  Frequency  \n",
      "0                     0.30058            7 -39.367603          6  \n",
      "1\n",
      "7\n"
     ]
    },
    {
     "name": "stderr",
     "output_type": "stream",
     "text": [
      "Info: Params [0.21290146 2.27646031 8.51315587 2.47616778 7.52996593 0.10852452\n",
      " 0.10860237] gave -22.506089148118555\n"
     ]
    },
    {
     "name": "stdout",
     "output_type": "stream",
     "text": [
      "   Drift Rate Speed  Drift Rate Accuracy  Self-excitation  \\\n",
      "0          0.212901              2.27646         8.513156   \n",
      "\n",
      "   Boundary Separation Speed      Bacc  Non-decision Time Speed  \\\n",
      "0                   2.476168  7.529966                 0.108525   \n",
      "\n",
      "   Non-decision Time Accuracy  Participant        BIC  Frequency  \n",
      "0                    0.108602            8 -22.506089          1  \n",
      "2\n",
      "7\n"
     ]
    },
    {
     "name": "stderr",
     "output_type": "stream",
     "text": [
      "Info: Params [0.         1.39047851 8.32873055 0.97197104 7.99736365 0.21964403\n",
      " 0.10347863] gave 5.0978682043451435\n"
     ]
    },
    {
     "name": "stdout",
     "output_type": "stream",
     "text": [
      "   Drift Rate Speed  Drift Rate Accuracy  Self-excitation  \\\n",
      "0               0.0             1.390479         8.328731   \n",
      "\n",
      "   Boundary Separation Speed      Bacc  Non-decision Time Speed  \\\n",
      "0                   0.971971  7.997364                 0.219644   \n",
      "\n",
      "   Non-decision Time Accuracy  Participant       BIC  Frequency  \n",
      "0                    0.103479            8  5.097868          2  \n",
      "3\n",
      "7\n"
     ]
    },
    {
     "name": "stderr",
     "output_type": "stream",
     "text": [
      "Info: Params [0.         0.73292112 7.71168965 2.1871724  7.64193946 0.10771184\n",
      " 0.10814171] gave 71.61024524996292\n"
     ]
    },
    {
     "name": "stdout",
     "output_type": "stream",
     "text": [
      "   Drift Rate Speed  Drift Rate Accuracy  Self-excitation  \\\n",
      "0               0.0             0.732921          7.71169   \n",
      "\n",
      "   Boundary Separation Speed      Bacc  Non-decision Time Speed  \\\n",
      "0                   2.187172  7.641939                 0.107712   \n",
      "\n",
      "   Non-decision Time Accuracy  Participant        BIC  Frequency  \n",
      "0                    0.108142            8  71.610245          3  \n",
      "4\n",
      "7\n"
     ]
    },
    {
     "name": "stderr",
     "output_type": "stream",
     "text": [
      "Info: Params [1.85056649 1.71392768 3.58583924 0.61407483 1.28955787 0.24469539\n",
      " 0.25675045] gave -10.080125168907955\n"
     ]
    },
    {
     "name": "stdout",
     "output_type": "stream",
     "text": [
      "   Drift Rate Speed  Drift Rate Accuracy  Self-excitation  \\\n",
      "0          1.850566             1.713928         3.585839   \n",
      "\n",
      "   Boundary Separation Speed      Bacc  Non-decision Time Speed  \\\n",
      "0                   0.614075  1.289558                 0.244695   \n",
      "\n",
      "   Non-decision Time Accuracy  Participant        BIC  Frequency  \n",
      "0                     0.25675            8 -10.080125          4  \n",
      "5\n",
      "7\n"
     ]
    },
    {
     "name": "stderr",
     "output_type": "stream",
     "text": [
      "Info: Params [2.44382886 1.55019065 5.4568562  0.86841922 1.26749024 0.22562859\n",
      " 0.29882464] gave -43.95632737583141\n"
     ]
    },
    {
     "name": "stdout",
     "output_type": "stream",
     "text": [
      "   Drift Rate Speed  Drift Rate Accuracy  Self-excitation  \\\n",
      "0          2.443829             1.550191         5.456856   \n",
      "\n",
      "   Boundary Separation Speed     Bacc  Non-decision Time Speed  \\\n",
      "0                   0.868419  1.26749                 0.225629   \n",
      "\n",
      "   Non-decision Time Accuracy  Participant        BIC  Frequency  \n",
      "0                    0.298825            8 -43.956327          5  \n",
      "6\n",
      "7\n"
     ]
    },
    {
     "name": "stderr",
     "output_type": "stream",
     "text": [
      "Info: Params [1.95765696 1.94794026 4.64920776 0.69319509 1.00813083 0.24025629\n",
      " 0.31201277] gave -56.38901717244686\n"
     ]
    },
    {
     "name": "stdout",
     "output_type": "stream",
     "text": [
      "   Drift Rate Speed  Drift Rate Accuracy  Self-excitation  \\\n",
      "0          1.957657              1.94794         4.649208   \n",
      "\n",
      "   Boundary Separation Speed      Bacc  Non-decision Time Speed  \\\n",
      "0                   0.693195  1.008131                 0.240256   \n",
      "\n",
      "   Non-decision Time Accuracy  Participant        BIC  Frequency  \n",
      "0                    0.312013            8 -56.389017          6  \n",
      "1\n",
      "8\n"
     ]
    },
    {
     "name": "stderr",
     "output_type": "stream",
     "text": [
      "Info: Params [0.71839606 2.13466919 2.50376745 0.7498003  1.54555707 0.16248254\n",
      " 0.32274897] gave 83.28010113429363\n"
     ]
    },
    {
     "name": "stdout",
     "output_type": "stream",
     "text": [
      "   Drift Rate Speed  Drift Rate Accuracy  Self-excitation  \\\n",
      "0          0.718396             2.134669         2.503767   \n",
      "\n",
      "   Boundary Separation Speed      Bacc  Non-decision Time Speed  \\\n",
      "0                     0.7498  1.545557                 0.162483   \n",
      "\n",
      "   Non-decision Time Accuracy  Participant        BIC  Frequency  \n",
      "0                    0.322749            9  83.280101          1  \n",
      "2\n",
      "8\n"
     ]
    },
    {
     "name": "stderr",
     "output_type": "stream",
     "text": [
      "Info: Params [0.21912711 0.92823016 2.43836012 0.72878868 2.1200234  0.16670454\n",
      " 0.22398283] gave 221.2875902839341\n"
     ]
    },
    {
     "name": "stdout",
     "output_type": "stream",
     "text": [
      "   Drift Rate Speed  Drift Rate Accuracy  Self-excitation  \\\n",
      "0          0.219127              0.92823          2.43836   \n",
      "\n",
      "   Boundary Separation Speed      Bacc  Non-decision Time Speed  \\\n",
      "0                   0.728789  2.120023                 0.166705   \n",
      "\n",
      "   Non-decision Time Accuracy  Participant        BIC  Frequency  \n",
      "0                    0.223983            9  221.28759          2  \n",
      "3\n",
      "8\n"
     ]
    },
    {
     "name": "stderr",
     "output_type": "stream",
     "text": [
      "Info: Params [0.         0.40391652 2.6606528  0.75077499 2.31899289 0.17717221\n",
      " 0.15269661] gave 275.91661267548585\n"
     ]
    },
    {
     "name": "stdout",
     "output_type": "stream",
     "text": [
      "   Drift Rate Speed  Drift Rate Accuracy  Self-excitation  \\\n",
      "0               0.0             0.403917         2.660653   \n",
      "\n",
      "   Boundary Separation Speed      Bacc  Non-decision Time Speed  \\\n",
      "0                   0.750775  2.318993                 0.177172   \n",
      "\n",
      "   Non-decision Time Accuracy  Participant         BIC  Frequency  \n",
      "0                    0.152697            9  275.916613          3  \n",
      "4\n",
      "8\n"
     ]
    },
    {
     "name": "stderr",
     "output_type": "stream",
     "text": [
      "Info: Params [0.59590985 1.05551201 1.34340002 0.62049039 1.59781546 0.19072668\n",
      " 0.18913284] gave 245.79055271063623\n"
     ]
    },
    {
     "name": "stdout",
     "output_type": "stream",
     "text": [
      "   Drift Rate Speed  Drift Rate Accuracy  Self-excitation  \\\n",
      "0           0.59591             1.055512           1.3434   \n",
      "\n",
      "   Boundary Separation Speed      Bacc  Non-decision Time Speed  \\\n",
      "0                    0.62049  1.597815                 0.190727   \n",
      "\n",
      "   Non-decision Time Accuracy  Participant         BIC  Frequency  \n",
      "0                    0.189133            9  245.790553          4  \n",
      "5\n",
      "8\n"
     ]
    },
    {
     "name": "stderr",
     "output_type": "stream",
     "text": [
      "Info: Params [0.4948482  1.33940111 1.60275842 0.60407751 2.16399567 0.20564648\n",
      " 0.10389385] gave 189.15615008489968\n"
     ]
    },
    {
     "name": "stdout",
     "output_type": "stream",
     "text": [
      "   Drift Rate Speed  Drift Rate Accuracy  Self-excitation  \\\n",
      "0          0.494848             1.339401         1.602758   \n",
      "\n",
      "   Boundary Separation Speed      Bacc  Non-decision Time Speed  \\\n",
      "0                   0.604078  2.163996                 0.205646   \n",
      "\n",
      "   Non-decision Time Accuracy  Participant        BIC  Frequency  \n",
      "0                    0.103894            9  189.15615          5  \n",
      "6\n",
      "8\n"
     ]
    },
    {
     "name": "stderr",
     "output_type": "stream",
     "text": [
      "Info: Params [0.39973667 1.30697883 1.40131979 0.59085752 1.8650524  0.22378075\n",
      " 0.10022096] gave 205.00044002676484\n"
     ]
    },
    {
     "name": "stdout",
     "output_type": "stream",
     "text": [
      "   Drift Rate Speed  Drift Rate Accuracy  Self-excitation  \\\n",
      "0          0.399737             1.306979          1.40132   \n",
      "\n",
      "   Boundary Separation Speed      Bacc  Non-decision Time Speed  \\\n",
      "0                   0.590858  1.865052                 0.223781   \n",
      "\n",
      "   Non-decision Time Accuracy  Participant        BIC  Frequency  \n",
      "0                    0.100221            9  205.00044          6  \n",
      "1\n",
      "9\n"
     ]
    },
    {
     "name": "stderr",
     "output_type": "stream",
     "text": [
      "Info: Params [4.29550978 2.85771856 4.24387549 0.5150972  1.29470499 0.38871622\n",
      " 0.35121046] gave -257.0192472910911\n"
     ]
    },
    {
     "name": "stdout",
     "output_type": "stream",
     "text": [
      "   Drift Rate Speed  Drift Rate Accuracy  Self-excitation  \\\n",
      "0           4.29551             2.857719         4.243875   \n",
      "\n",
      "   Boundary Separation Speed      Bacc  Non-decision Time Speed  \\\n",
      "0                   0.515097  1.294705                 0.388716   \n",
      "\n",
      "   Non-decision Time Accuracy  Participant         BIC  Frequency  \n",
      "0                     0.35121           10 -257.019247          1  \n",
      "2\n",
      "9\n"
     ]
    },
    {
     "name": "stderr",
     "output_type": "stream",
     "text": [
      "Info: Params [2.10524156 1.98993926 2.67112731 0.50211141 1.64729692 0.38718847\n",
      " 0.29793313] gave -19.576394456563506\n"
     ]
    },
    {
     "name": "stdout",
     "output_type": "stream",
     "text": [
      "   Drift Rate Speed  Drift Rate Accuracy  Self-excitation  \\\n",
      "0          2.105242             1.989939         2.671127   \n",
      "\n",
      "   Boundary Separation Speed      Bacc  Non-decision Time Speed  \\\n",
      "0                   0.502111  1.647297                 0.387188   \n",
      "\n",
      "   Non-decision Time Accuracy  Participant        BIC  Frequency  \n",
      "0                    0.297933           10 -19.576394          2  \n",
      "3\n",
      "9\n"
     ]
    },
    {
     "name": "stderr",
     "output_type": "stream",
     "text": [
      "Info: Params [0.86337495 1.39047402 3.25099784 0.50846547 1.30140099 0.39500095\n",
      " 0.34532919] gave 51.74858898854073\n"
     ]
    },
    {
     "name": "stdout",
     "output_type": "stream",
     "text": [
      "   Drift Rate Speed  Drift Rate Accuracy  Self-excitation  \\\n",
      "0          0.863375             1.390474         3.250998   \n",
      "\n",
      "   Boundary Separation Speed      Bacc  Non-decision Time Speed  \\\n",
      "0                   0.508465  1.301401                 0.395001   \n",
      "\n",
      "   Non-decision Time Accuracy  Participant        BIC  Frequency  \n",
      "0                    0.345329           10  51.748589          3  \n",
      "4\n",
      "9\n"
     ]
    },
    {
     "name": "stderr",
     "output_type": "stream",
     "text": [
      "Info: Params [ 3.35412277  2.10643211 -0.03737994  0.50430857  0.73546313  0.38610067\n",
      "  0.42144914] gave -116.82303881063405\n"
     ]
    },
    {
     "name": "stdout",
     "output_type": "stream",
     "text": [
      "   Drift Rate Speed  Drift Rate Accuracy  Self-excitation  \\\n",
      "0          3.354123             2.106432         -0.03738   \n",
      "\n",
      "   Boundary Separation Speed      Bacc  Non-decision Time Speed  \\\n",
      "0                   0.504309  0.735463                 0.386101   \n",
      "\n",
      "   Non-decision Time Accuracy  Participant         BIC  Frequency  \n",
      "0                    0.421449           10 -116.823039          4  \n",
      "5\n",
      "9\n"
     ]
    },
    {
     "name": "stderr",
     "output_type": "stream",
     "text": [
      "Info: Params [3.13532789 1.96748272 3.54572924 0.50628006 3.52967153 0.39098085\n",
      " 0.12277888] gave -87.0192475315985\n"
     ]
    },
    {
     "name": "stdout",
     "output_type": "stream",
     "text": [
      "   Drift Rate Speed  Drift Rate Accuracy  Self-excitation  \\\n",
      "0          3.135328             1.967483         3.545729   \n",
      "\n",
      "   Boundary Separation Speed      Bacc  Non-decision Time Speed  \\\n",
      "0                    0.50628  3.529672                 0.390981   \n",
      "\n",
      "   Non-decision Time Accuracy  Participant        BIC  Frequency  \n",
      "0                    0.122779           10 -87.019248          5  \n",
      "6\n",
      "9\n"
     ]
    },
    {
     "name": "stderr",
     "output_type": "stream",
     "text": [
      "Info: Params [3.29991679 2.41954294 2.74761746 0.50164868 1.16268388 0.395482\n",
      " 0.37700962] gave -156.87800367465917\n"
     ]
    },
    {
     "name": "stdout",
     "output_type": "stream",
     "text": [
      "   Drift Rate Speed  Drift Rate Accuracy  Self-excitation  \\\n",
      "0          3.299917             2.419543         2.747617   \n",
      "\n",
      "   Boundary Separation Speed      Bacc  Non-decision Time Speed  \\\n",
      "0                   0.501649  1.162684                 0.395482   \n",
      "\n",
      "   Non-decision Time Accuracy  Participant         BIC  Frequency  \n",
      "0                     0.37701           10 -156.878004          6  \n",
      "1\n",
      "10\n"
     ]
    },
    {
     "name": "stderr",
     "output_type": "stream",
     "text": [
      "Info: Params [2.71498663 4.39253492 5.63054156 0.58506225 1.16581628 0.29567666\n",
      " 0.3414108 ] gave -547.1858754637149\n"
     ]
    },
    {
     "name": "stdout",
     "output_type": "stream",
     "text": [
      "   Drift Rate Speed  Drift Rate Accuracy  Self-excitation  \\\n",
      "0          2.714987             4.392535         5.630542   \n",
      "\n",
      "   Boundary Separation Speed      Bacc  Non-decision Time Speed  \\\n",
      "0                   0.585062  1.165816                 0.295677   \n",
      "\n",
      "   Non-decision Time Accuracy  Participant         BIC  Frequency  \n",
      "0                    0.341411           11 -547.185875          1  \n",
      "2\n",
      "10\n"
     ]
    },
    {
     "name": "stderr",
     "output_type": "stream",
     "text": [
      "Info: Params [1.46113407 2.71961318 4.01898005 0.64917388 1.43595874 0.2724654\n",
      " 0.29552248] gave -227.29677354068292\n"
     ]
    },
    {
     "name": "stdout",
     "output_type": "stream",
     "text": [
      "   Drift Rate Speed  Drift Rate Accuracy  Self-excitation  \\\n",
      "0          1.461134             2.719613          4.01898   \n",
      "\n",
      "   Boundary Separation Speed      Bacc  Non-decision Time Speed  \\\n",
      "0                   0.649174  1.435959                 0.272465   \n",
      "\n",
      "   Non-decision Time Accuracy  Participant         BIC  Frequency  \n",
      "0                    0.295522           11 -227.296774          2  \n",
      "3\n",
      "10\n"
     ]
    },
    {
     "name": "stderr",
     "output_type": "stream",
     "text": [
      "Info: Params [0.65931455 1.95248647 5.14113009 0.57991762 1.01904482 0.28039771\n",
      " 0.35895461] gave -69.34087591743682\n"
     ]
    },
    {
     "name": "stdout",
     "output_type": "stream",
     "text": [
      "   Drift Rate Speed  Drift Rate Accuracy  Self-excitation  \\\n",
      "0          0.659315             1.952486          5.14113   \n",
      "\n",
      "   Boundary Separation Speed      Bacc  Non-decision Time Speed  \\\n",
      "0                   0.579918  1.019045                 0.280398   \n",
      "\n",
      "   Non-decision Time Accuracy  Participant        BIC  Frequency  \n",
      "0                    0.358955           11 -69.340876          3  \n",
      "4\n",
      "10\n"
     ]
    },
    {
     "name": "stderr",
     "output_type": "stream",
     "text": [
      "Info: Params [2.23089164 2.53987717 3.60272959 0.62248374 1.1254112  0.27479623\n",
      " 0.32621518] gave -220.11034448622956\n"
     ]
    },
    {
     "name": "stdout",
     "output_type": "stream",
     "text": [
      "   Drift Rate Speed  Drift Rate Accuracy  Self-excitation  \\\n",
      "0          2.230892             2.539877          3.60273   \n",
      "\n",
      "   Boundary Separation Speed      Bacc  Non-decision Time Speed  \\\n",
      "0                   0.622484  1.125411                 0.274796   \n",
      "\n",
      "   Non-decision Time Accuracy  Participant         BIC  Frequency  \n",
      "0                    0.326215           11 -220.110344          4  \n",
      "5\n",
      "10\n"
     ]
    },
    {
     "name": "stderr",
     "output_type": "stream",
     "text": [
      "Info: Params [2.62509733 2.47571981 3.13724826 0.64623305 1.41863365 0.27042093\n",
      " 0.29209919] gave -231.87636245427038\n"
     ]
    },
    {
     "name": "stdout",
     "output_type": "stream",
     "text": [
      "   Drift Rate Speed  Drift Rate Accuracy  Self-excitation  \\\n",
      "0          2.625097              2.47572         3.137248   \n",
      "\n",
      "   Boundary Separation Speed      Bacc  Non-decision Time Speed  \\\n",
      "0                   0.646233  1.418634                 0.270421   \n",
      "\n",
      "   Non-decision Time Accuracy  Participant         BIC  Frequency  \n",
      "0                    0.292099           11 -231.876362          5  \n",
      "6\n",
      "10\n"
     ]
    },
    {
     "name": "stderr",
     "output_type": "stream",
     "text": [
      "Info: Params [2.60302926 2.74115225 3.1715663  0.64151632 1.08459938 0.27074495\n",
      " 0.33748713] gave -294.45313879596694\n"
     ]
    },
    {
     "name": "stdout",
     "output_type": "stream",
     "text": [
      "   Drift Rate Speed  Drift Rate Accuracy  Self-excitation  \\\n",
      "0          2.603029             2.741152         3.171566   \n",
      "\n",
      "   Boundary Separation Speed      Bacc  Non-decision Time Speed  \\\n",
      "0                   0.641516  1.084599                 0.270745   \n",
      "\n",
      "   Non-decision Time Accuracy  Participant         BIC  Frequency  \n",
      "0                    0.337487           11 -294.453139          6  \n",
      "1\n",
      "11\n"
     ]
    },
    {
     "name": "stderr",
     "output_type": "stream",
     "text": [
      "Info: Params [3.80836622 4.02897347 8.47183732 0.74530033 1.15849862 0.33675667\n",
      " 0.35232401] gave -636.7749722150145\n"
     ]
    },
    {
     "name": "stdout",
     "output_type": "stream",
     "text": [
      "   Drift Rate Speed  Drift Rate Accuracy  Self-excitation  \\\n",
      "0          3.808366             4.028973         8.471837   \n",
      "\n",
      "   Boundary Separation Speed      Bacc  Non-decision Time Speed  \\\n",
      "0                     0.7453  1.158499                 0.336757   \n",
      "\n",
      "   Non-decision Time Accuracy  Participant         BIC  Frequency  \n",
      "0                    0.352324           12 -636.774972          1  \n",
      "2\n",
      "11\n"
     ]
    },
    {
     "name": "stderr",
     "output_type": "stream",
     "text": [
      "Info: Params [1.16451427 2.53353025 7.11276873 0.59799042 0.90415327 0.34017618\n",
      " 0.39079289] gave -251.35160708002917\n"
     ]
    },
    {
     "name": "stdout",
     "output_type": "stream",
     "text": [
      "   Drift Rate Speed  Drift Rate Accuracy  Self-excitation  \\\n",
      "0          1.164514              2.53353         7.112769   \n",
      "\n",
      "   Boundary Separation Speed      Bacc  Non-decision Time Speed  \\\n",
      "0                    0.59799  0.904153                 0.340176   \n",
      "\n",
      "   Non-decision Time Accuracy  Participant         BIC  Frequency  \n",
      "0                    0.390793           12 -251.351607          2  \n",
      "3\n",
      "11\n"
     ]
    },
    {
     "name": "stderr",
     "output_type": "stream",
     "text": [
      "Info: Params [0.78329964 1.58446736 5.76964522 0.53257326 1.20119346 0.33209031\n",
      " 0.34629854] gave -67.0377139938763\n"
     ]
    },
    {
     "name": "stdout",
     "output_type": "stream",
     "text": [
      "   Drift Rate Speed  Drift Rate Accuracy  Self-excitation  \\\n",
      "0            0.7833             1.584467         5.769645   \n",
      "\n",
      "   Boundary Separation Speed      Bacc  Non-decision Time Speed  \\\n",
      "0                   0.532573  1.201193                  0.33209   \n",
      "\n",
      "   Non-decision Time Accuracy  Participant        BIC  Frequency  \n",
      "0                    0.346299           12 -67.037714          3  \n",
      "4\n",
      "11\n"
     ]
    },
    {
     "name": "stderr",
     "output_type": "stream",
     "text": [
      "Info: Params [1.58504794 2.60874612 5.6746547  0.60760024 1.84125628 0.34516171\n",
      " 0.31164639] gave -215.4606562874187\n"
     ]
    },
    {
     "name": "stdout",
     "output_type": "stream",
     "text": [
      "   Drift Rate Speed  Drift Rate Accuracy  Self-excitation  \\\n",
      "0          1.585048             2.608746         5.674655   \n",
      "\n",
      "   Boundary Separation Speed      Bacc  Non-decision Time Speed  \\\n",
      "0                     0.6076  1.841256                 0.345162   \n",
      "\n",
      "   Non-decision Time Accuracy  Participant         BIC  Frequency  \n",
      "0                    0.311646           12 -215.460656          4  \n",
      "5\n",
      "11\n"
     ]
    },
    {
     "name": "stderr",
     "output_type": "stream",
     "text": [
      "Info: Params [2.15655661 2.69538353 3.70156895 0.56387767 1.05239218 0.33495831\n",
      " 0.37303559] gave -301.9276332721746\n"
     ]
    },
    {
     "name": "stdout",
     "output_type": "stream",
     "text": [
      "   Drift Rate Speed  Drift Rate Accuracy  Self-excitation  \\\n",
      "0          2.156557             2.695384         3.701569   \n",
      "\n",
      "   Boundary Separation Speed      Bacc  Non-decision Time Speed  \\\n",
      "0                   0.563878  1.052392                 0.334958   \n",
      "\n",
      "   Non-decision Time Accuracy  Participant         BIC  Frequency  \n",
      "0                    0.373036           12 -301.927633          5  \n",
      "6\n",
      "11\n"
     ]
    },
    {
     "name": "stderr",
     "output_type": "stream",
     "text": [
      "Info: Params [2.44080539 2.39796523 5.92978136 0.60279714 4.15172129 0.35494755\n",
      " 0.19260277] gave -268.26475127227127\n"
     ]
    },
    {
     "name": "stdout",
     "output_type": "stream",
     "text": [
      "   Drift Rate Speed  Drift Rate Accuracy  Self-excitation  \\\n",
      "0          2.440805             2.397965         5.929781   \n",
      "\n",
      "   Boundary Separation Speed      Bacc  Non-decision Time Speed  \\\n",
      "0                   0.602797  4.151721                 0.354948   \n",
      "\n",
      "   Non-decision Time Accuracy  Participant         BIC  Frequency  \n",
      "0                    0.192603           12 -268.264751          6  \n",
      "1\n",
      "12\n"
     ]
    },
    {
     "name": "stderr",
     "output_type": "stream",
     "text": [
      "Info: Params [2.27352513 2.34423013 4.51269163 1.27088696 1.10020554 0.20693645\n",
      " 0.29246569] gave -198.05151039808374\n"
     ]
    },
    {
     "name": "stdout",
     "output_type": "stream",
     "text": [
      "   Drift Rate Speed  Drift Rate Accuracy  Self-excitation  \\\n",
      "0          2.273525              2.34423         4.512692   \n",
      "\n",
      "   Boundary Separation Speed      Bacc  Non-decision Time Speed  \\\n",
      "0                   1.270887  1.100206                 0.206936   \n",
      "\n",
      "   Non-decision Time Accuracy  Participant        BIC  Frequency  \n",
      "0                    0.292466           13 -198.05151          1  \n",
      "2\n",
      "12\n"
     ]
    },
    {
     "name": "stderr",
     "output_type": "stream",
     "text": [
      "Info: Params [1.5482526  1.25640979 3.12877877 0.57868448 1.01129262 0.32150513\n",
      " 0.32804216] gave 53.49473052260879\n"
     ]
    },
    {
     "name": "stdout",
     "output_type": "stream",
     "text": [
      "   Drift Rate Speed  Drift Rate Accuracy  Self-excitation  \\\n",
      "0          1.548253              1.25641         3.128779   \n",
      "\n",
      "   Boundary Separation Speed      Bacc  Non-decision Time Speed  \\\n",
      "0                   0.578684  1.011293                 0.321505   \n",
      "\n",
      "   Non-decision Time Accuracy  Participant        BIC  Frequency  \n",
      "0                    0.328042           13  53.494731          2  \n",
      "3\n",
      "12\n"
     ]
    },
    {
     "name": "stderr",
     "output_type": "stream",
     "text": [
      "Info: Params [0.46882994 0.81829378 2.77043971 0.58417493 0.9815024  0.28550738\n",
      " 0.29635952] gave 234.866633779075\n"
     ]
    },
    {
     "name": "stdout",
     "output_type": "stream",
     "text": [
      "   Drift Rate Speed  Drift Rate Accuracy  Self-excitation  \\\n",
      "0           0.46883             0.818294          2.77044   \n",
      "\n",
      "   Boundary Separation Speed      Bacc  Non-decision Time Speed  \\\n",
      "0                   0.584175  0.981502                 0.285507   \n",
      "\n",
      "   Non-decision Time Accuracy  Participant         BIC  Frequency  \n",
      "0                     0.29636           13  234.866634          3  \n",
      "4\n",
      "12\n"
     ]
    },
    {
     "name": "stderr",
     "output_type": "stream",
     "text": [
      "Info: Params [1.51966577 1.61637573 3.62446823 1.39875692 1.61247802 0.17165373\n",
      " 0.22337411] gave 129.3792825860361\n"
     ]
    },
    {
     "name": "stdout",
     "output_type": "stream",
     "text": [
      "   Drift Rate Speed  Drift Rate Accuracy  Self-excitation  \\\n",
      "0          1.519666             1.616376         3.624468   \n",
      "\n",
      "   Boundary Separation Speed      Bacc  Non-decision Time Speed  \\\n",
      "0                   1.398757  1.612478                 0.171654   \n",
      "\n",
      "   Non-decision Time Accuracy  Participant         BIC  Frequency  \n",
      "0                    0.223374           13  129.379283          4  \n",
      "5\n",
      "12\n"
     ]
    },
    {
     "name": "stderr",
     "output_type": "stream",
     "text": [
      "Info: Params [1.40422241 1.72716853 3.69672475 1.30380952 1.44627321 0.17662782\n",
      " 0.27683596] gave 98.78466401705208\n"
     ]
    },
    {
     "name": "stdout",
     "output_type": "stream",
     "text": [
      "   Drift Rate Speed  Drift Rate Accuracy  Self-excitation  \\\n",
      "0          1.404222             1.727169         3.696725   \n",
      "\n",
      "   Boundary Separation Speed      Bacc  Non-decision Time Speed  \\\n",
      "0                    1.30381  1.446273                 0.176628   \n",
      "\n",
      "   Non-decision Time Accuracy  Participant        BIC  Frequency  \n",
      "0                    0.276836           13  98.784664          5  \n",
      "6\n",
      "12\n"
     ]
    },
    {
     "name": "stderr",
     "output_type": "stream",
     "text": [
      "Info: Params [1.81173314 1.59112669 3.32017444 0.97627767 2.35585906 0.25476863\n",
      " 0.1395868 ] gave 90.11164839130046\n"
     ]
    },
    {
     "name": "stdout",
     "output_type": "stream",
     "text": [
      "   Drift Rate Speed  Drift Rate Accuracy  Self-excitation  \\\n",
      "0          1.811733             1.591127         3.320174   \n",
      "\n",
      "   Boundary Separation Speed      Bacc  Non-decision Time Speed  \\\n",
      "0                   0.976278  2.355859                 0.254769   \n",
      "\n",
      "   Non-decision Time Accuracy  Participant        BIC  Frequency  \n",
      "0                    0.139587           13  90.111648          6  \n",
      "1\n",
      "13\n"
     ]
    },
    {
     "name": "stderr",
     "output_type": "stream",
     "text": [
      "Info: Params [2.01244394 2.07989362 2.96762115 0.64787186 1.34122194 0.31423385\n",
      " 0.28689927] gave -84.3303881189693\n"
     ]
    },
    {
     "name": "stdout",
     "output_type": "stream",
     "text": [
      "   Drift Rate Speed  Drift Rate Accuracy  Self-excitation  \\\n",
      "0          2.012444             2.079894         2.967621   \n",
      "\n",
      "   Boundary Separation Speed      Bacc  Non-decision Time Speed  \\\n",
      "0                   0.647872  1.341222                 0.314234   \n",
      "\n",
      "   Non-decision Time Accuracy  Participant        BIC  Frequency  \n",
      "0                    0.286899           14 -84.330388          1  \n",
      "2\n",
      "13\n"
     ]
    },
    {
     "name": "stderr",
     "output_type": "stream",
     "text": [
      "Info: Params [1.44907996 1.63372362 2.54328771 0.57270179 0.98284557 0.34976859\n",
      " 0.38421915] gave 13.96421372741073\n"
     ]
    },
    {
     "name": "stdout",
     "output_type": "stream",
     "text": [
      "   Drift Rate Speed  Drift Rate Accuracy  Self-excitation  \\\n",
      "0           1.44908             1.633724         2.543288   \n",
      "\n",
      "   Boundary Separation Speed      Bacc  Non-decision Time Speed  \\\n",
      "0                   0.572702  0.982846                 0.349769   \n",
      "\n",
      "   Non-decision Time Accuracy  Participant        BIC  Frequency  \n",
      "0                    0.384219           14  13.964214          2  \n",
      "3\n",
      "13\n"
     ]
    },
    {
     "name": "stderr",
     "output_type": "stream",
     "text": [
      "Info: Params [0.50004183 0.87698434 2.86862604 0.57521585 1.18638271 0.34388251\n",
      " 0.31179648] gave 252.90913421731312\n"
     ]
    },
    {
     "name": "stdout",
     "output_type": "stream",
     "text": [
      "   Drift Rate Speed  Drift Rate Accuracy  Self-excitation  \\\n",
      "0          0.500042             0.876984         2.868626   \n",
      "\n",
      "   Boundary Separation Speed      Bacc  Non-decision Time Speed  \\\n",
      "0                   0.575216  1.186383                 0.343883   \n",
      "\n",
      "   Non-decision Time Accuracy  Participant         BIC  Frequency  \n",
      "0                    0.311796           14  252.909134          3  \n",
      "4\n",
      "13\n"
     ]
    },
    {
     "name": "stderr",
     "output_type": "stream",
     "text": [
      "Info: Params [1.41418578 1.62934648 2.07431938 0.59052606 1.18183413 0.33162126\n",
      " 0.32195029] gave 91.75625392852199\n"
     ]
    },
    {
     "name": "stdout",
     "output_type": "stream",
     "text": [
      "   Drift Rate Speed  Drift Rate Accuracy  Self-excitation  \\\n",
      "0          1.414186             1.629346         2.074319   \n",
      "\n",
      "   Boundary Separation Speed      Bacc  Non-decision Time Speed  \\\n",
      "0                   0.590526  1.181834                 0.331621   \n",
      "\n",
      "   Non-decision Time Accuracy  Participant        BIC  Frequency  \n",
      "0                     0.32195           14  91.756254          4  \n",
      "5\n",
      "13\n"
     ]
    },
    {
     "name": "stderr",
     "output_type": "stream",
     "text": [
      "Info: Params [1.89324824 1.59806757 2.20673664 0.64019133 1.1892828  0.33474588\n",
      " 0.34543645] gave 45.374903013817125\n"
     ]
    },
    {
     "name": "stdout",
     "output_type": "stream",
     "text": [
      "   Drift Rate Speed  Drift Rate Accuracy  Self-excitation  \\\n",
      "0          1.893248             1.598068         2.206737   \n",
      "\n",
      "   Boundary Separation Speed      Bacc  Non-decision Time Speed  \\\n",
      "0                   0.640191  1.189283                 0.334746   \n",
      "\n",
      "   Non-decision Time Accuracy  Participant        BIC  Frequency  \n",
      "0                    0.345436           14  45.374903          5  \n",
      "6\n",
      "13\n"
     ]
    },
    {
     "name": "stderr",
     "output_type": "stream",
     "text": [
      "Info: Params [1.42721546 1.48156324 2.06661844 0.84619285 0.98921846 0.28785811\n",
      " 0.34976989] gave 102.27650772414626\n"
     ]
    },
    {
     "name": "stdout",
     "output_type": "stream",
     "text": [
      "   Drift Rate Speed  Drift Rate Accuracy  Self-excitation  \\\n",
      "0          1.427215             1.481563         2.066618   \n",
      "\n",
      "   Boundary Separation Speed      Bacc  Non-decision Time Speed  \\\n",
      "0                   0.846193  0.989218                 0.287858   \n",
      "\n",
      "   Non-decision Time Accuracy  Participant         BIC  Frequency  \n",
      "0                     0.34977           14  102.276508          6  \n",
      "1\n",
      "14\n"
     ]
    },
    {
     "name": "stderr",
     "output_type": "stream",
     "text": [
      "Info: Params [3.44674121 2.51827942 2.88800572 0.77486763 1.73663434 0.28139045\n",
      " 0.23319426] gave -308.8825759911608\n"
     ]
    },
    {
     "name": "stdout",
     "output_type": "stream",
     "text": [
      "   Drift Rate Speed  Drift Rate Accuracy  Self-excitation  \\\n",
      "0          3.446741             2.518279         2.888006   \n",
      "\n",
      "   Boundary Separation Speed      Bacc  Non-decision Time Speed  \\\n",
      "0                   0.774868  1.736634                  0.28139   \n",
      "\n",
      "   Non-decision Time Accuracy  Participant         BIC  Frequency  \n",
      "0                    0.233194           15 -308.882576          1  \n",
      "2\n",
      "14\n"
     ]
    },
    {
     "name": "stderr",
     "output_type": "stream",
     "text": [
      "Info: Params [2.16518319 1.76667856 2.53387264 0.606237   1.26442078 0.32214176\n",
      " 0.32621125] gave -24.851418330485068\n"
     ]
    },
    {
     "name": "stdout",
     "output_type": "stream",
     "text": [
      "   Drift Rate Speed  Drift Rate Accuracy  Self-excitation  \\\n",
      "0          2.165183             1.766679         2.533873   \n",
      "\n",
      "   Boundary Separation Speed      Bacc  Non-decision Time Speed  \\\n",
      "0                   0.606237  1.264421                 0.322142   \n",
      "\n",
      "   Non-decision Time Accuracy  Participant        BIC  Frequency  \n",
      "0                    0.326211           15 -24.851418          2  \n",
      "3\n",
      "14\n"
     ]
    },
    {
     "name": "stderr",
     "output_type": "stream",
     "text": [
      "Info: Params [1.46382481 1.35104523 2.43968493 0.52645635 1.98085579 0.35554091\n",
      " 0.18142039] gave 160.2098775605353\n"
     ]
    },
    {
     "name": "stdout",
     "output_type": "stream",
     "text": [
      "   Drift Rate Speed  Drift Rate Accuracy  Self-excitation  \\\n",
      "0          1.463825             1.351045         2.439685   \n",
      "\n",
      "   Boundary Separation Speed      Bacc  Non-decision Time Speed  \\\n",
      "0                   0.526456  1.980856                 0.355541   \n",
      "\n",
      "   Non-decision Time Accuracy  Participant         BIC  Frequency  \n",
      "0                     0.18142           15  160.209878          3  \n",
      "4\n",
      "14\n"
     ]
    },
    {
     "name": "stderr",
     "output_type": "stream",
     "text": [
      "Info: Params [ 2.09955018  2.25829976 -3.74994394  0.51072392  0.64882547  0.37189646\n",
      "  0.47099659] gave -99.387866017547\n"
     ]
    },
    {
     "name": "stdout",
     "output_type": "stream",
     "text": [
      "   Drift Rate Speed  Drift Rate Accuracy  Self-excitation  \\\n",
      "0           2.09955               2.2583        -3.749944   \n",
      "\n",
      "   Boundary Separation Speed      Bacc  Non-decision Time Speed  \\\n",
      "0                   0.510724  0.648825                 0.371896   \n",
      "\n",
      "   Non-decision Time Accuracy  Participant        BIC  Frequency  \n",
      "0                    0.470997           15 -99.387866          4  \n",
      "5\n",
      "14\n"
     ]
    },
    {
     "name": "stderr",
     "output_type": "stream",
     "text": [
      "Info: Params [1.69946035 1.51223197 1.40236988 0.67067238 2.2110395  0.30924823\n",
      " 0.11602085] gave 196.54125813770887\n"
     ]
    },
    {
     "name": "stdout",
     "output_type": "stream",
     "text": [
      "   Drift Rate Speed  Drift Rate Accuracy  Self-excitation  \\\n",
      "0           1.69946             1.512232          1.40237   \n",
      "\n",
      "   Boundary Separation Speed     Bacc  Non-decision Time Speed  \\\n",
      "0                   0.670672  2.21104                 0.309248   \n",
      "\n",
      "   Non-decision Time Accuracy  Participant         BIC  Frequency  \n",
      "0                    0.116021           15  196.541258          5  \n",
      "6\n",
      "14\n"
     ]
    },
    {
     "name": "stderr",
     "output_type": "stream",
     "text": [
      "Info: Params [ 2.14314635  1.77638942 -1.94710147  0.50221     0.81801412  0.34780125\n",
      "  0.434178  ] gave 46.96465856452627\n"
     ]
    },
    {
     "name": "stdout",
     "output_type": "stream",
     "text": [
      "   Drift Rate Speed  Drift Rate Accuracy  Self-excitation  \\\n",
      "0          2.143146             1.776389        -1.947101   \n",
      "\n",
      "   Boundary Separation Speed      Bacc  Non-decision Time Speed  \\\n",
      "0                    0.50221  0.818014                 0.347801   \n",
      "\n",
      "   Non-decision Time Accuracy  Participant        BIC  Frequency  \n",
      "0                    0.434178           15  46.964659          6  \n",
      "1\n",
      "15\n"
     ]
    },
    {
     "name": "stderr",
     "output_type": "stream",
     "text": [
      "Info: Params [2.42396345 2.34868737 1.98440592 0.56103396 1.22270469 0.3314049\n",
      " 0.34400786] gave -193.84595849354963\n"
     ]
    },
    {
     "name": "stdout",
     "output_type": "stream",
     "text": [
      "   Drift Rate Speed  Drift Rate Accuracy  Self-excitation  \\\n",
      "0          2.423963             2.348687         1.984406   \n",
      "\n",
      "   Boundary Separation Speed      Bacc  Non-decision Time Speed  \\\n",
      "0                   0.561034  1.222705                 0.331405   \n",
      "\n",
      "   Non-decision Time Accuracy  Participant         BIC  Frequency  \n",
      "0                    0.344008           16 -193.845958          1  \n",
      "2\n",
      "15\n"
     ]
    },
    {
     "name": "stderr",
     "output_type": "stream",
     "text": [
      "Info: Params [1.77867209 2.13449955 3.06279689 0.74678835 1.8504752  0.30444548\n",
      " 0.33052253] gave -28.69040043971259\n"
     ]
    },
    {
     "name": "stdout",
     "output_type": "stream",
     "text": [
      "   Drift Rate Speed  Drift Rate Accuracy  Self-excitation  \\\n",
      "0          1.778672               2.1345         3.062797   \n",
      "\n",
      "   Boundary Separation Speed      Bacc  Non-decision Time Speed  \\\n",
      "0                   0.746788  1.850475                 0.304445   \n",
      "\n",
      "   Non-decision Time Accuracy  Participant      BIC  Frequency  \n",
      "0                    0.330523           16 -28.6904          2  \n",
      "3\n",
      "15\n"
     ]
    },
    {
     "name": "stderr",
     "output_type": "stream",
     "text": [
      "Info: Params [0.85201322 1.23973091 2.72840801 0.56868708 1.49107656 0.32546651\n",
      " 0.36698331] gave 174.96825909476178\n"
     ]
    },
    {
     "name": "stdout",
     "output_type": "stream",
     "text": [
      "   Drift Rate Speed  Drift Rate Accuracy  Self-excitation  \\\n",
      "0          0.852013             1.239731         2.728408   \n",
      "\n",
      "   Boundary Separation Speed      Bacc  Non-decision Time Speed  \\\n",
      "0                   0.568687  1.491077                 0.325467   \n",
      "\n",
      "   Non-decision Time Accuracy  Participant         BIC  Frequency  \n",
      "0                    0.366983           16  174.968259          3  \n",
      "4\n",
      "15\n"
     ]
    },
    {
     "name": "stderr",
     "output_type": "stream",
     "text": [
      "Info: Params [2.03476399 2.12562319 1.86336636 0.53841107 1.28533559 0.3563862\n",
      " 0.41672129] gave -110.9646229224449\n"
     ]
    },
    {
     "name": "stdout",
     "output_type": "stream",
     "text": [
      "   Drift Rate Speed  Drift Rate Accuracy  Self-excitation  \\\n",
      "0          2.034764             2.125623         1.863366   \n",
      "\n",
      "   Boundary Separation Speed      Bacc  Non-decision Time Speed  \\\n",
      "0                   0.538411  1.285336                 0.356386   \n",
      "\n",
      "   Non-decision Time Accuracy  Participant         BIC  Frequency  \n",
      "0                    0.416721           16 -110.964623          4  \n",
      "5\n",
      "15\n"
     ]
    },
    {
     "name": "stderr",
     "output_type": "stream",
     "text": [
      "Info: Params [1.68302805 1.86906279 1.96447189 0.63557488 1.50622087 0.31322038\n",
      " 0.3496366 ] gave 27.007820271423398\n"
     ]
    },
    {
     "name": "stdout",
     "output_type": "stream",
     "text": [
      "   Drift Rate Speed  Drift Rate Accuracy  Self-excitation  \\\n",
      "0          1.683028             1.869063         1.964472   \n",
      "\n",
      "   Boundary Separation Speed      Bacc  Non-decision Time Speed  \\\n",
      "0                   0.635575  1.506221                  0.31322   \n",
      "\n",
      "   Non-decision Time Accuracy  Participant       BIC  Frequency  \n",
      "0                    0.349637           16  27.00782          5  \n",
      "6\n",
      "15\n"
     ]
    },
    {
     "name": "stderr",
     "output_type": "stream",
     "text": [
      "Info: Params [2.04926708 2.11910266 2.01683541 0.5812307  1.01401226 0.34174902\n",
      " 0.43359295] gave -117.68719289188714\n"
     ]
    },
    {
     "name": "stdout",
     "output_type": "stream",
     "text": [
      "   Drift Rate Speed  Drift Rate Accuracy  Self-excitation  \\\n",
      "0          2.049267             2.119103         2.016835   \n",
      "\n",
      "   Boundary Separation Speed      Bacc  Non-decision Time Speed  \\\n",
      "0                   0.581231  1.014012                 0.341749   \n",
      "\n",
      "   Non-decision Time Accuracy  Participant         BIC  Frequency  \n",
      "0                    0.433593           16 -117.687193          6  \n",
      "1\n",
      "16\n"
     ]
    },
    {
     "name": "stderr",
     "output_type": "stream",
     "text": [
      "Info: Params [1.47028972 2.4201193  3.39539565 0.66526081 1.48707056 0.26160796\n",
      " 0.30942365] gave -136.50633746669104\n"
     ]
    },
    {
     "name": "stdout",
     "output_type": "stream",
     "text": [
      "   Drift Rate Speed  Drift Rate Accuracy  Self-excitation  \\\n",
      "0           1.47029             2.420119         3.395396   \n",
      "\n",
      "   Boundary Separation Speed      Bacc  Non-decision Time Speed  \\\n",
      "0                   0.665261  1.487071                 0.261608   \n",
      "\n",
      "   Non-decision Time Accuracy  Participant         BIC  Frequency  \n",
      "0                    0.309424           17 -136.506337          1  \n",
      "2\n",
      "16\n"
     ]
    },
    {
     "name": "stderr",
     "output_type": "stream",
     "text": [
      "Info: Params [1.14787994 1.86244681 2.80107863 0.75138571 1.11963058 0.23222527\n",
      " 0.38228172] gave 105.70242035216776\n"
     ]
    },
    {
     "name": "stdout",
     "output_type": "stream",
     "text": [
      "   Drift Rate Speed  Drift Rate Accuracy  Self-excitation  \\\n",
      "0           1.14788             1.862447         2.801079   \n",
      "\n",
      "   Boundary Separation Speed      Bacc  Non-decision Time Speed  \\\n",
      "0                   0.751386  1.119631                 0.232225   \n",
      "\n",
      "   Non-decision Time Accuracy  Participant        BIC  Frequency  \n",
      "0                    0.382282           17  105.70242          2  \n",
      "3\n",
      "16\n"
     ]
    },
    {
     "name": "stderr",
     "output_type": "stream",
     "text": [
      "Info: Params [0.70470161 1.22955643 2.86923228 0.81203442 1.15045647 0.21419932\n",
      " 0.36440294] gave 277.2735028042923\n"
     ]
    },
    {
     "name": "stdout",
     "output_type": "stream",
     "text": [
      "   Drift Rate Speed  Drift Rate Accuracy  Self-excitation  \\\n",
      "0          0.704702             1.229556         2.869232   \n",
      "\n",
      "   Boundary Separation Speed      Bacc  Non-decision Time Speed  \\\n",
      "0                   0.812034  1.150456                 0.214199   \n",
      "\n",
      "   Non-decision Time Accuracy  Participant         BIC  Frequency  \n",
      "0                    0.364403           17  277.273503          3  \n",
      "4\n",
      "16\n"
     ]
    },
    {
     "name": "stderr",
     "output_type": "stream",
     "text": [
      "Info: Params [1.15050752 1.998231   3.68691657 0.90835392 1.5809456  0.22959093\n",
      " 0.35926614] gave 68.79224794801466\n"
     ]
    },
    {
     "name": "stdout",
     "output_type": "stream",
     "text": [
      "   Drift Rate Speed  Drift Rate Accuracy  Self-excitation  \\\n",
      "0          1.150508             1.998231         3.686917   \n",
      "\n",
      "   Boundary Separation Speed      Bacc  Non-decision Time Speed  \\\n",
      "0                   0.908354  1.580946                 0.229591   \n",
      "\n",
      "   Non-decision Time Accuracy  Participant        BIC  Frequency  \n",
      "0                    0.359266           17  68.792248          4  \n",
      "5\n",
      "16\n"
     ]
    },
    {
     "name": "stderr",
     "output_type": "stream",
     "text": [
      "Info: Params [0.85652692 1.84652679 2.35892927 0.72742103 1.31353917 0.23239005\n",
      " 0.33178906] gave 162.72078741573222\n"
     ]
    },
    {
     "name": "stdout",
     "output_type": "stream",
     "text": [
      "   Drift Rate Speed  Drift Rate Accuracy  Self-excitation  \\\n",
      "0          0.856527             1.846527         2.358929   \n",
      "\n",
      "   Boundary Separation Speed      Bacc  Non-decision Time Speed  \\\n",
      "0                   0.727421  1.313539                  0.23239   \n",
      "\n",
      "   Non-decision Time Accuracy  Participant         BIC  Frequency  \n",
      "0                    0.331789           17  162.720787          5  \n",
      "6\n",
      "16\n"
     ]
    },
    {
     "name": "stderr",
     "output_type": "stream",
     "text": [
      "Info: Params [1.00526562 1.97953608 3.19564664 0.99844562 1.26403785 0.20744259\n",
      " 0.34566786] gave 136.95356227619928\n"
     ]
    },
    {
     "name": "stdout",
     "output_type": "stream",
     "text": [
      "   Drift Rate Speed  Drift Rate Accuracy  Self-excitation  \\\n",
      "0          1.005266             1.979536         3.195647   \n",
      "\n",
      "   Boundary Separation Speed      Bacc  Non-decision Time Speed  \\\n",
      "0                   0.998446  1.264038                 0.207443   \n",
      "\n",
      "   Non-decision Time Accuracy  Participant         BIC  Frequency  \n",
      "0                    0.345668           17  136.953562          6  \n",
      "1\n",
      "17\n"
     ]
    },
    {
     "name": "stderr",
     "output_type": "stream",
     "text": [
      "Info: Params [3.11199452 2.8287296  4.43750681 1.17334054 2.61875898 0.27937406\n",
      " 0.27921087] gave -305.6996070747395\n"
     ]
    },
    {
     "name": "stdout",
     "output_type": "stream",
     "text": [
      "   Drift Rate Speed  Drift Rate Accuracy  Self-excitation  \\\n",
      "0          3.111995              2.82873         4.437507   \n",
      "\n",
      "   Boundary Separation Speed      Bacc  Non-decision Time Speed  \\\n",
      "0                   1.173341  2.618759                 0.279374   \n",
      "\n",
      "   Non-decision Time Accuracy  Participant         BIC  Frequency  \n",
      "0                    0.279211           18 -305.699607          1  \n",
      "2\n",
      "17\n"
     ]
    },
    {
     "name": "stderr",
     "output_type": "stream",
     "text": [
      "Info: Params [2.60843288 2.45188453 2.90535305 0.818663   1.60194908 0.31350169\n",
      " 0.34976852] gave -199.57509533007604\n"
     ]
    },
    {
     "name": "stdout",
     "output_type": "stream",
     "text": [
      "   Drift Rate Speed  Drift Rate Accuracy  Self-excitation  \\\n",
      "0          2.608433             2.451885         2.905353   \n",
      "\n",
      "   Boundary Separation Speed      Bacc  Non-decision Time Speed  \\\n",
      "0                   0.818663  1.601949                 0.313502   \n",
      "\n",
      "   Non-decision Time Accuracy  Participant         BIC  Frequency  \n",
      "0                    0.349769           18 -199.575095          2  \n",
      "3\n",
      "17\n"
     ]
    },
    {
     "name": "stderr",
     "output_type": "stream",
     "text": [
      "Info: Params [1.77097323 1.92631933 3.46380128 0.69916822 1.41796978 0.32283473\n",
      " 0.3868376 ] gave -9.776266494996037\n"
     ]
    },
    {
     "name": "stdout",
     "output_type": "stream",
     "text": [
      "   Drift Rate Speed  Drift Rate Accuracy  Self-excitation  \\\n",
      "0          1.770973             1.926319         3.463801   \n",
      "\n",
      "   Boundary Separation Speed     Bacc  Non-decision Time Speed  \\\n",
      "0                   0.699168  1.41797                 0.322835   \n",
      "\n",
      "   Non-decision Time Accuracy  Participant       BIC  Frequency  \n",
      "0                    0.386838           18 -9.776266          3  \n",
      "4\n",
      "17\n"
     ]
    },
    {
     "name": "stderr",
     "output_type": "stream",
     "text": [
      "Info: Params [2.18041757 2.76994588 3.47811482 0.90014879 4.42348107 0.30596777\n",
      " 0.19268423] gave -142.38471335642805\n"
     ]
    },
    {
     "name": "stdout",
     "output_type": "stream",
     "text": [
      "   Drift Rate Speed  Drift Rate Accuracy  Self-excitation  \\\n",
      "0          2.180418             2.769946         3.478115   \n",
      "\n",
      "   Boundary Separation Speed      Bacc  Non-decision Time Speed  \\\n",
      "0                   0.900149  4.423481                 0.305968   \n",
      "\n",
      "   Non-decision Time Accuracy  Participant         BIC  Frequency  \n",
      "0                    0.192684           18 -142.384713          4  \n",
      "5\n",
      "17\n"
     ]
    },
    {
     "name": "stderr",
     "output_type": "stream",
     "text": [
      "Info: Params [2.49422918 2.33688335 3.12100359 0.79013279 1.75531933 0.33763062\n",
      " 0.35467519] gave -151.44474127758758\n"
     ]
    },
    {
     "name": "stdout",
     "output_type": "stream",
     "text": [
      "   Drift Rate Speed  Drift Rate Accuracy  Self-excitation  \\\n",
      "0          2.494229             2.336883         3.121004   \n",
      "\n",
      "   Boundary Separation Speed      Bacc  Non-decision Time Speed  \\\n",
      "0                   0.790133  1.755319                 0.337631   \n",
      "\n",
      "   Non-decision Time Accuracy  Participant         BIC  Frequency  \n",
      "0                    0.354675           18 -151.444741          5  \n",
      "6\n",
      "17\n"
     ]
    },
    {
     "name": "stderr",
     "output_type": "stream",
     "text": [
      "Info: Params [2.26734786 2.20301872 3.31478205 1.28834227 2.77493722 0.24330383\n",
      " 0.24657636] gave -62.07621195402849\n"
     ]
    },
    {
     "name": "stdout",
     "output_type": "stream",
     "text": [
      "   Drift Rate Speed  Drift Rate Accuracy  Self-excitation  \\\n",
      "0          2.267348             2.203019         3.314782   \n",
      "\n",
      "   Boundary Separation Speed      Bacc  Non-decision Time Speed  \\\n",
      "0                   1.288342  2.774937                 0.243304   \n",
      "\n",
      "   Non-decision Time Accuracy  Participant        BIC  Frequency  \n",
      "0                    0.246576           18 -62.076212          6  \n"
     ]
    }
   ],
   "source": [
    "participants = [1,  3,  4,  5,  6,  7,  8,  9, 10, 11, 12, 13, 14, 15, 16, 17]\n",
    "df_all = pd.DataFrame()\n",
    "for i in participants:\n",
    "    for freq in range(1,7):\n",
    "        print(freq)\n",
    "        print(i)\n",
    "        df = pd.read_csv(data_dir)\n",
    "        df = df[df[\"Participant\"]==i]\n",
    "        df = df[df[\"Frequency\"]==freq]\n",
    "        df = df[df[\"RT\"]<3]\n",
    "\n",
    "        samp = Sample.from_pandas_dataframe(df, rt_column_name=\"RT\", correct_column_name=\"Correct\")\n",
    "        df_param = get_OUM_result_sub_2v2a2ter(samp)\n",
    "        df_param['Frequency'] = freq\n",
    "        df_param[\"Participant\"]=i\n",
    "\n",
    "        df_all = pd.concat((df_all,df_param))\n",
    "        print(df_param)\n",
    "df_OUM = df_all.copy()\n"
   ]
  },
  {
   "cell_type": "code",
   "execution_count": 21,
   "id": "3b05a53a",
   "metadata": {},
   "outputs": [],
   "source": [
    "df_OUM.to_csv(\"OUM2v2a2terresultWagenmakers2008.csv\")"
   ]
  },
  {
   "cell_type": "code",
   "execution_count": 19,
   "id": "87e8797e",
   "metadata": {},
   "outputs": [
    {
     "data": {
      "text/plain": [
       "-0.2702205559399758"
      ]
     },
     "execution_count": 19,
     "metadata": {},
     "output_type": "execute_result"
    }
   ],
   "source": [
    "df_OUM[\"BIC\"].mean()"
   ]
  },
  {
   "cell_type": "code",
   "execution_count": null,
   "id": "66bb2313",
   "metadata": {},
   "outputs": [],
   "source": []
  }
 ],
 "metadata": {
  "kernelspec": {
   "display_name": "Python 3 (ipykernel)",
   "language": "python",
   "name": "python3"
  },
  "language_info": {
   "codemirror_mode": {
    "name": "ipython",
    "version": 3
   },
   "file_extension": ".py",
   "mimetype": "text/x-python",
   "name": "python",
   "nbconvert_exporter": "python",
   "pygments_lexer": "ipython3",
   "version": "3.7.15"
  }
 },
 "nbformat": 4,
 "nbformat_minor": 5
}
