{
 "cells": [
  {
   "cell_type": "code",
   "execution_count": 6,
   "id": "2cda49de",
   "metadata": {},
   "outputs": [],
   "source": [
    "%run SAT_help_functions.ipynb"
   ]
  },
  {
   "cell_type": "code",
   "execution_count": null,
   "id": "bc081cf9",
   "metadata": {},
   "outputs": [],
   "source": []
  },
  {
   "cell_type": "markdown",
   "id": "4bd26666",
   "metadata": {},
   "source": [
    "## OUM"
   ]
  },
  {
   "cell_type": "code",
   "execution_count": null,
   "id": "9ef6c434",
   "metadata": {},
   "outputs": [],
   "source": []
  },
  {
   "cell_type": "code",
   "execution_count": 7,
   "id": "e776257c",
   "metadata": {},
   "outputs": [],
   "source": [
    "data_dir = \"/Users/wangjiashun/Desktop/Reserach on SAT/datasets/Evans2021/Lerche2017/dataBySubject/sub\"\n",
    "sample_size = 38\n",
    "SAT_conds = [\"Speed\", \"Accuracy\"]"
   ]
  },
  {
   "cell_type": "code",
   "execution_count": 8,
   "id": "b1e0fe9b",
   "metadata": {},
   "outputs": [],
   "source": [
    "\n",
    "class DriftConstantSpeedAcc(Drift):\n",
    "    name = \"DriftConstantSpeedAcc\"\n",
    "    required_parameters = [\"Vspeed\",\"Vacc\"]\n",
    "    required_conditions = ['Cond']\n",
    "        \n",
    "    def get_drift(self, conditions, **kwargs):\n",
    "        if conditions['Cond'] == 'Speed':\n",
    "            return self.Vspeed\n",
    "        elif conditions['Cond'] == 'Accuracy':\n",
    "            return self.Vacc\n",
    "        else: \n",
    "            print(\"Non-implemented SAT conditions\")\n",
    "            \n",
    "class BoundCollapsingLinearSAT(BoundCollapsingLinear):\n",
    "    name = \"BoundSpeedAcc\"\n",
    "    required_parameters = [\"BSpeed\", \"BAcc\", \"cSpeed\", 'cAcc']\n",
    "    required_conditions = ['Cond']\n",
    "        \n",
    "    def get_bound(self, t, conditions, **kwargs):\n",
    "        if conditions['Cond'] == 'Speed':\n",
    "            return max(self.BSpeed - self.cSpeed*t, 0.)\n",
    "        elif conditions['Cond'] == 'Accuracy':\n",
    "            return max(self.BAcc - self.cAcc*t, 0.)\n",
    "        else: \n",
    "            print(\"Non-implemented SAT conditions\")\n",
    "\n",
    "\n",
    "class NondecisionSpeedAcc(OverlayNonDecision):\n",
    "    name = \"NondecisionSpeedAcc\"\n",
    "    required_parameters = [\"tSpeed\", 'tAcc']\n",
    "    required_conditions = ['Cond']\n",
    "        \n",
    "    def get_nondecision_time(self, conditions, **kwargs):\n",
    "        if conditions['Cond'] == 'Speed':\n",
    "            return self.tSpeed \n",
    "        elif conditions['Cond'] == 'Accuracy':\n",
    "            return self.tAcc\n",
    "        else: \n",
    "            print(\"Non-implemented SAT conditions\")"
   ]
  },
  {
   "cell_type": "code",
   "execution_count": null,
   "id": "81235d16",
   "metadata": {},
   "outputs": [],
   "source": []
  },
  {
   "cell_type": "code",
   "execution_count": null,
   "id": "8a3f5185",
   "metadata": {},
   "outputs": [],
   "source": []
  },
  {
   "cell_type": "code",
   "execution_count": 9,
   "id": "fdb13001",
   "metadata": {
    "scrolled": true
   },
   "outputs": [
    {
     "name": "stderr",
     "output_type": "stream",
     "text": [
      "Warning: This function (from_pandas_dataframe()) is deprecated and will be removed in a future version of PyDDM.  Please use the choice_column_name argument instead.\n",
      "Warning: dt is large.  Estimated pdfs may be imprecise.  Decrease dt to 0.01 or less.\n"
     ]
    },
    {
     "name": "stdout",
     "output_type": "stream",
     "text": [
      "0\n"
     ]
    },
    {
     "name": "stderr",
     "output_type": "stream",
     "text": [
      "Info: Params [0.28566925 0.0996942  1.32937952 5.39717064 0.04839533 0.21298699\n",
      " 0.88556407 0.82573437] gave 910.9990289093006\n",
      "Warning: This function (from_pandas_dataframe()) is deprecated and will be removed in a future version of PyDDM.  Please use the choice_column_name argument instead.\n",
      "Warning: dt is large.  Estimated pdfs may be imprecise.  Decrease dt to 0.01 or less.\n"
     ]
    },
    {
     "name": "stdout",
     "output_type": "stream",
     "text": [
      "   Drift Rate Speed  Drift Rate Accuracy  Boundary Separation Speed  \\\n",
      "0          0.285669             0.099694                    1.32938   \n",
      "\n",
      "   Boundary Separation Accuracy  Collapse Speed  Collapse Accuracy  \\\n",
      "0                      5.397171        0.048395           0.212987   \n",
      "\n",
      "   Non-decision Time Speed  Non-decision Time Accuracy         BIC  \n",
      "0                 0.885564                    0.825734  910.999029  \n",
      "1\n"
     ]
    },
    {
     "name": "stderr",
     "output_type": "stream",
     "text": [
      "Info: Params [0.30705369 0.2045395  3.7548674  4.48082727 0.26021968 0.21636442\n",
      " 0.38877961 0.9160804 ] gave 985.1743396346262\n",
      "Warning: This function (from_pandas_dataframe()) is deprecated and will be removed in a future version of PyDDM.  Please use the choice_column_name argument instead.\n",
      "Warning: dt is large.  Estimated pdfs may be imprecise.  Decrease dt to 0.01 or less.\n"
     ]
    },
    {
     "name": "stdout",
     "output_type": "stream",
     "text": [
      "   Drift Rate Speed  Drift Rate Accuracy  Boundary Separation Speed  \\\n",
      "0          0.307054              0.20454                   3.754867   \n",
      "\n",
      "   Boundary Separation Accuracy  Collapse Speed  Collapse Accuracy  \\\n",
      "0                      4.480827         0.26022           0.216364   \n",
      "\n",
      "   Non-decision Time Speed  Non-decision Time Accuracy        BIC  \n",
      "0                  0.38878                     0.91608  985.17434  \n",
      "2\n"
     ]
    },
    {
     "name": "stderr",
     "output_type": "stream",
     "text": [
      "Info: Params [0.         0.03963211 0.81825522 0.99659253 0.         0.01237323\n",
      " 0.10984614 0.41812862] gave 482.41856340597747\n",
      "Warning: This function (from_pandas_dataframe()) is deprecated and will be removed in a future version of PyDDM.  Please use the choice_column_name argument instead.\n",
      "Warning: dt is large.  Estimated pdfs may be imprecise.  Decrease dt to 0.01 or less.\n"
     ]
    },
    {
     "name": "stdout",
     "output_type": "stream",
     "text": [
      "   Drift Rate Speed  Drift Rate Accuracy  Boundary Separation Speed  \\\n",
      "0               0.0             0.039632                   0.818255   \n",
      "\n",
      "   Boundary Separation Accuracy  Collapse Speed  Collapse Accuracy  \\\n",
      "0                      0.996593             0.0           0.012373   \n",
      "\n",
      "   Non-decision Time Speed  Non-decision Time Accuracy         BIC  \n",
      "0                 0.109846                    0.418129  482.418563  \n",
      "3\n"
     ]
    },
    {
     "name": "stderr",
     "output_type": "stream",
     "text": [
      "Info: Params [0.1014167  0.0871522  1.56517684 2.27950709 0.10769232 0.1792253\n",
      " 0.13335835 0.53192963] gave 826.1116859983438\n",
      "Warning: This function (from_pandas_dataframe()) is deprecated and will be removed in a future version of PyDDM.  Please use the choice_column_name argument instead.\n",
      "Warning: dt is large.  Estimated pdfs may be imprecise.  Decrease dt to 0.01 or less.\n"
     ]
    },
    {
     "name": "stdout",
     "output_type": "stream",
     "text": [
      "   Drift Rate Speed  Drift Rate Accuracy  Boundary Separation Speed  \\\n",
      "0          0.101417             0.087152                   1.565177   \n",
      "\n",
      "   Boundary Separation Accuracy  Collapse Speed  Collapse Accuracy  \\\n",
      "0                      2.279507        0.107692           0.179225   \n",
      "\n",
      "   Non-decision Time Speed  Non-decision Time Accuracy         BIC  \n",
      "0                 0.133358                     0.53193  826.111686  \n",
      "4\n"
     ]
    },
    {
     "name": "stderr",
     "output_type": "stream",
     "text": [
      "Info: Params [0.16762095 0.13284159 2.76250863 3.33600509 0.02170979 0.02520025\n",
      " 0.60359855 0.93603955] gave 1169.1745629462748\n",
      "Warning: This function (from_pandas_dataframe()) is deprecated and will be removed in a future version of PyDDM.  Please use the choice_column_name argument instead.\n",
      "Warning: dt is large.  Estimated pdfs may be imprecise.  Decrease dt to 0.01 or less.\n"
     ]
    },
    {
     "name": "stdout",
     "output_type": "stream",
     "text": [
      "   Drift Rate Speed  Drift Rate Accuracy  Boundary Separation Speed  \\\n",
      "0          0.167621             0.132842                   2.762509   \n",
      "\n",
      "   Boundary Separation Accuracy  Collapse Speed  Collapse Accuracy  \\\n",
      "0                      3.336005         0.02171             0.0252   \n",
      "\n",
      "   Non-decision Time Speed  Non-decision Time Accuracy          BIC  \n",
      "0                 0.603599                     0.93604  1169.174563  \n",
      "5\n"
     ]
    },
    {
     "name": "stderr",
     "output_type": "stream",
     "text": [
      "Info: Params [0.24192787 0.15208797 1.13035057 5.96251955 0.16343574 0.23928535\n",
      " 0.82992098 0.97684821] gave 829.7850063388078\n",
      "Warning: This function (from_pandas_dataframe()) is deprecated and will be removed in a future version of PyDDM.  Please use the choice_column_name argument instead.\n",
      "Warning: dt is large.  Estimated pdfs may be imprecise.  Decrease dt to 0.01 or less.\n"
     ]
    },
    {
     "name": "stdout",
     "output_type": "stream",
     "text": [
      "   Drift Rate Speed  Drift Rate Accuracy  Boundary Separation Speed  \\\n",
      "0          0.241928             0.152088                   1.130351   \n",
      "\n",
      "   Boundary Separation Accuracy  Collapse Speed  Collapse Accuracy  \\\n",
      "0                       5.96252        0.163436           0.239285   \n",
      "\n",
      "   Non-decision Time Speed  Non-decision Time Accuracy         BIC  \n",
      "0                 0.829921                    0.976848  829.785006  \n",
      "6\n"
     ]
    },
    {
     "name": "stderr",
     "output_type": "stream",
     "text": [
      "Info: Params [0.21591009 0.25229769 0.90959998 2.00639836 0.35714286 0.13500359\n",
      " 0.30013173 0.93040361] gave 577.5925645386593\n",
      "Warning: This function (from_pandas_dataframe()) is deprecated and will be removed in a future version of PyDDM.  Please use the choice_column_name argument instead.\n",
      "Warning: dt is large.  Estimated pdfs may be imprecise.  Decrease dt to 0.01 or less.\n"
     ]
    },
    {
     "name": "stdout",
     "output_type": "stream",
     "text": [
      "   Drift Rate Speed  Drift Rate Accuracy  Boundary Separation Speed  \\\n",
      "0           0.21591             0.252298                     0.9096   \n",
      "\n",
      "   Boundary Separation Accuracy  Collapse Speed  Collapse Accuracy  \\\n",
      "0                      2.006398        0.357143           0.135004   \n",
      "\n",
      "   Non-decision Time Speed  Non-decision Time Accuracy         BIC  \n",
      "0                 0.300132                    0.930404  577.592565  \n",
      "7\n"
     ]
    },
    {
     "name": "stderr",
     "output_type": "stream",
     "text": [
      "Info: Params [0.25206865 0.27407967 0.84818159 2.15242597 0.22859267 0.24615384\n",
      " 0.66297291 0.59618135] gave 556.7072460275679\n",
      "Warning: This function (from_pandas_dataframe()) is deprecated and will be removed in a future version of PyDDM.  Please use the choice_column_name argument instead.\n",
      "Warning: dt is large.  Estimated pdfs may be imprecise.  Decrease dt to 0.01 or less.\n"
     ]
    },
    {
     "name": "stdout",
     "output_type": "stream",
     "text": [
      "   Drift Rate Speed  Drift Rate Accuracy  Boundary Separation Speed  \\\n",
      "0          0.252069              0.27408                   0.848182   \n",
      "\n",
      "   Boundary Separation Accuracy  Collapse Speed  Collapse Accuracy  \\\n",
      "0                      2.152426        0.228593           0.246154   \n",
      "\n",
      "   Non-decision Time Speed  Non-decision Time Accuracy         BIC  \n",
      "0                 0.662973                    0.596181  556.707246  \n",
      "8\n"
     ]
    },
    {
     "name": "stderr",
     "output_type": "stream",
     "text": [
      "Info: Params [0.         0.01709778 0.90820561 1.23210909 0.17754613 0.\n",
      " 0.14059745 0.14098734] gave 631.380944335051\n",
      "Warning: This function (from_pandas_dataframe()) is deprecated and will be removed in a future version of PyDDM.  Please use the choice_column_name argument instead.\n",
      "Warning: dt is large.  Estimated pdfs may be imprecise.  Decrease dt to 0.01 or less.\n"
     ]
    },
    {
     "name": "stdout",
     "output_type": "stream",
     "text": [
      "   Drift Rate Speed  Drift Rate Accuracy  Boundary Separation Speed  \\\n",
      "0               0.0             0.017098                   0.908206   \n",
      "\n",
      "   Boundary Separation Accuracy  Collapse Speed  Collapse Accuracy  \\\n",
      "0                      1.232109        0.177546                0.0   \n",
      "\n",
      "   Non-decision Time Speed  Non-decision Time Accuracy         BIC  \n",
      "0                 0.140597                    0.140987  631.380944  \n",
      "9\n"
     ]
    },
    {
     "name": "stderr",
     "output_type": "stream",
     "text": [
      "Info: Params [0.         0.10730087 1.76516805 2.34108676 0.09706174 0.17608743\n",
      " 0.12322391 0.13727819] gave 911.775175275113\n",
      "Warning: This function (from_pandas_dataframe()) is deprecated and will be removed in a future version of PyDDM.  Please use the choice_column_name argument instead.\n",
      "Warning: dt is large.  Estimated pdfs may be imprecise.  Decrease dt to 0.01 or less.\n"
     ]
    },
    {
     "name": "stdout",
     "output_type": "stream",
     "text": [
      "   Drift Rate Speed  Drift Rate Accuracy  Boundary Separation Speed  \\\n",
      "0               0.0             0.107301                   1.765168   \n",
      "\n",
      "   Boundary Separation Accuracy  Collapse Speed  Collapse Accuracy  \\\n",
      "0                      2.341087        0.097062           0.176087   \n",
      "\n",
      "   Non-decision Time Speed  Non-decision Time Accuracy         BIC  \n",
      "0                 0.123224                    0.137278  911.775175  \n",
      "10\n"
     ]
    },
    {
     "name": "stderr",
     "output_type": "stream",
     "text": [
      "Info: Params [0.70700408 0.21923317 1.40460342 4.6813973  0.36249998 0.17015354\n",
      " 0.94550059 0.86518422] gave 767.6934401891873\n",
      "Warning: This function (from_pandas_dataframe()) is deprecated and will be removed in a future version of PyDDM.  Please use the choice_column_name argument instead.\n",
      "Warning: dt is large.  Estimated pdfs may be imprecise.  Decrease dt to 0.01 or less.\n"
     ]
    },
    {
     "name": "stdout",
     "output_type": "stream",
     "text": [
      "   Drift Rate Speed  Drift Rate Accuracy  Boundary Separation Speed  \\\n",
      "0          0.707004             0.219233                   1.404603   \n",
      "\n",
      "   Boundary Separation Accuracy  Collapse Speed  Collapse Accuracy  \\\n",
      "0                      4.681397          0.3625           0.170154   \n",
      "\n",
      "   Non-decision Time Speed  Non-decision Time Accuracy        BIC  \n",
      "0                 0.945501                    0.865184  767.69344  \n",
      "11\n"
     ]
    },
    {
     "name": "stderr",
     "output_type": "stream",
     "text": [
      "Info: Params [0.         0.08223517 0.7213686  7.84850203 0.01325935 0.22765151\n",
      " 0.3081281  0.65921424] gave 733.4719112121567\n",
      "Warning: This function (from_pandas_dataframe()) is deprecated and will be removed in a future version of PyDDM.  Please use the choice_column_name argument instead.\n",
      "Warning: dt is large.  Estimated pdfs may be imprecise.  Decrease dt to 0.01 or less.\n"
     ]
    },
    {
     "name": "stdout",
     "output_type": "stream",
     "text": [
      "   Drift Rate Speed  Drift Rate Accuracy  Boundary Separation Speed  \\\n",
      "0               0.0             0.082235                   0.721369   \n",
      "\n",
      "   Boundary Separation Accuracy  Collapse Speed  Collapse Accuracy  \\\n",
      "0                      7.848502        0.013259           0.227652   \n",
      "\n",
      "   Non-decision Time Speed  Non-decision Time Accuracy         BIC  \n",
      "0                 0.308128                    0.659214  733.471911  \n",
      "12\n"
     ]
    },
    {
     "name": "stderr",
     "output_type": "stream",
     "text": [
      "Info: Params [0.29057161 0.27530934 1.23902104 2.02338544 0.27115653 0.11111111\n",
      " 0.75216596 0.97996714] gave 670.1592075471541\n",
      "Warning: This function (from_pandas_dataframe()) is deprecated and will be removed in a future version of PyDDM.  Please use the choice_column_name argument instead.\n",
      "Warning: dt is large.  Estimated pdfs may be imprecise.  Decrease dt to 0.01 or less.\n"
     ]
    },
    {
     "name": "stdout",
     "output_type": "stream",
     "text": [
      "   Drift Rate Speed  Drift Rate Accuracy  Boundary Separation Speed  \\\n",
      "0          0.290572             0.275309                   1.239021   \n",
      "\n",
      "   Boundary Separation Accuracy  Collapse Speed  Collapse Accuracy  \\\n",
      "0                      2.023385        0.271157           0.111111   \n",
      "\n",
      "   Non-decision Time Speed  Non-decision Time Accuracy         BIC  \n",
      "0                 0.752166                    0.979967  670.159208  \n",
      "13\n"
     ]
    },
    {
     "name": "stderr",
     "output_type": "stream",
     "text": [
      "Info: Params [0.19727475 0.19929298 3.05458006 4.39534927 0.60557809 0.10244411\n",
      " 0.35264604 0.48277447] gave 904.4846670780114\n",
      "Warning: This function (from_pandas_dataframe()) is deprecated and will be removed in a future version of PyDDM.  Please use the choice_column_name argument instead.\n",
      "Warning: dt is large.  Estimated pdfs may be imprecise.  Decrease dt to 0.01 or less.\n"
     ]
    },
    {
     "name": "stdout",
     "output_type": "stream",
     "text": [
      "   Drift Rate Speed  Drift Rate Accuracy  Boundary Separation Speed  \\\n",
      "0          0.197275             0.199293                    3.05458   \n",
      "\n",
      "   Boundary Separation Accuracy  Collapse Speed  Collapse Accuracy  \\\n",
      "0                      4.395349        0.605578           0.102444   \n",
      "\n",
      "   Non-decision Time Speed  Non-decision Time Accuracy         BIC  \n",
      "0                 0.352646                    0.482774  904.484667  \n",
      "14\n"
     ]
    },
    {
     "name": "stderr",
     "output_type": "stream",
     "text": [
      "Info: Params [0.10269072 0.18486077 1.54065042 3.56104892 0.32655757 0.09944833\n",
      " 0.13542568 0.69049865] gave 876.0172961498922\n",
      "Warning: This function (from_pandas_dataframe()) is deprecated and will be removed in a future version of PyDDM.  Please use the choice_column_name argument instead.\n",
      "Warning: dt is large.  Estimated pdfs may be imprecise.  Decrease dt to 0.01 or less.\n"
     ]
    },
    {
     "name": "stdout",
     "output_type": "stream",
     "text": [
      "   Drift Rate Speed  Drift Rate Accuracy  Boundary Separation Speed  \\\n",
      "0          0.102691             0.184861                    1.54065   \n",
      "\n",
      "   Boundary Separation Accuracy  Collapse Speed  Collapse Accuracy  \\\n",
      "0                      3.561049        0.326558           0.099448   \n",
      "\n",
      "   Non-decision Time Speed  Non-decision Time Accuracy         BIC  \n",
      "0                 0.135426                    0.690499  876.017296  \n",
      "15\n"
     ]
    },
    {
     "name": "stderr",
     "output_type": "stream",
     "text": [
      "Info: Params [4.38933989e-03 1.01136927e-01 1.46020909e+00 6.09997306e+00\n",
      " 5.27272747e-01 1.70973985e-01 6.99887323e-01 9.20664651e-01] gave 849.1610858605329\n",
      "Warning: This function (from_pandas_dataframe()) is deprecated and will be removed in a future version of PyDDM.  Please use the choice_column_name argument instead.\n",
      "Warning: dt is large.  Estimated pdfs may be imprecise.  Decrease dt to 0.01 or less.\n"
     ]
    },
    {
     "name": "stdout",
     "output_type": "stream",
     "text": [
      "   Drift Rate Speed  Drift Rate Accuracy  Boundary Separation Speed  \\\n",
      "0          0.004389             0.101137                   1.460209   \n",
      "\n",
      "   Boundary Separation Accuracy  Collapse Speed  Collapse Accuracy  \\\n",
      "0                      6.099973        0.527273           0.170974   \n",
      "\n",
      "   Non-decision Time Speed  Non-decision Time Accuracy         BIC  \n",
      "0                 0.699887                    0.920665  849.161086  \n",
      "16\n"
     ]
    },
    {
     "name": "stderr",
     "output_type": "stream",
     "text": [
      "Info: Params [0.25936903 0.23957725 1.9306675  2.19119122 0.35262899 0.26579121\n",
      " 0.19933914 0.9632986 ] gave 713.9384201443011\n",
      "Warning: This function (from_pandas_dataframe()) is deprecated and will be removed in a future version of PyDDM.  Please use the choice_column_name argument instead.\n",
      "Warning: dt is large.  Estimated pdfs may be imprecise.  Decrease dt to 0.01 or less.\n"
     ]
    },
    {
     "name": "stdout",
     "output_type": "stream",
     "text": [
      "   Drift Rate Speed  Drift Rate Accuracy  Boundary Separation Speed  \\\n",
      "0          0.259369             0.239577                   1.930667   \n",
      "\n",
      "   Boundary Separation Accuracy  Collapse Speed  Collapse Accuracy  \\\n",
      "0                      2.191191        0.352629           0.265791   \n",
      "\n",
      "   Non-decision Time Speed  Non-decision Time Accuracy        BIC  \n",
      "0                 0.199339                    0.963299  713.93842  \n",
      "17\n"
     ]
    },
    {
     "name": "stderr",
     "output_type": "stream",
     "text": [
      "Info: Params [0.26525364 0.14319219 1.01262815 2.07864463 0.28801382 0.06739559\n",
      " 0.26094925 0.15334675] gave 682.1226121434656\n",
      "Warning: This function (from_pandas_dataframe()) is deprecated and will be removed in a future version of PyDDM.  Please use the choice_column_name argument instead.\n",
      "Warning: dt is large.  Estimated pdfs may be imprecise.  Decrease dt to 0.01 or less.\n"
     ]
    },
    {
     "name": "stdout",
     "output_type": "stream",
     "text": [
      "   Drift Rate Speed  Drift Rate Accuracy  Boundary Separation Speed  \\\n",
      "0          0.265254             0.143192                   1.012628   \n",
      "\n",
      "   Boundary Separation Accuracy  Collapse Speed  Collapse Accuracy  \\\n",
      "0                      2.078645        0.288014           0.067396   \n",
      "\n",
      "   Non-decision Time Speed  Non-decision Time Accuracy         BIC  \n",
      "0                 0.260949                    0.153347  682.122612  \n",
      "18\n"
     ]
    },
    {
     "name": "stderr",
     "output_type": "stream",
     "text": [
      "Info: Params [0.21871856 0.12331482 1.38401073 2.23773672 0.00804607 0.10490885\n",
      " 0.96868873 0.72705588] gave 835.0384548499677\n",
      "Warning: This function (from_pandas_dataframe()) is deprecated and will be removed in a future version of PyDDM.  Please use the choice_column_name argument instead.\n",
      "Warning: dt is large.  Estimated pdfs may be imprecise.  Decrease dt to 0.01 or less.\n"
     ]
    },
    {
     "name": "stdout",
     "output_type": "stream",
     "text": [
      "   Drift Rate Speed  Drift Rate Accuracy  Boundary Separation Speed  \\\n",
      "0          0.218719             0.123315                   1.384011   \n",
      "\n",
      "   Boundary Separation Accuracy  Collapse Speed  Collapse Accuracy  \\\n",
      "0                      2.237737        0.008046           0.104909   \n",
      "\n",
      "   Non-decision Time Speed  Non-decision Time Accuracy         BIC  \n",
      "0                 0.968689                    0.727056  835.038455  \n",
      "19\n"
     ]
    },
    {
     "name": "stderr",
     "output_type": "stream",
     "text": [
      "Info: Params [0.24475274 0.2326057  1.39499822 7.79349813 0.22380953 0.24210505\n",
      " 0.72012206 0.71600037] gave 866.995494782821\n",
      "Warning: This function (from_pandas_dataframe()) is deprecated and will be removed in a future version of PyDDM.  Please use the choice_column_name argument instead.\n",
      "Warning: dt is large.  Estimated pdfs may be imprecise.  Decrease dt to 0.01 or less.\n"
     ]
    },
    {
     "name": "stdout",
     "output_type": "stream",
     "text": [
      "   Drift Rate Speed  Drift Rate Accuracy  Boundary Separation Speed  \\\n",
      "0          0.244753             0.232606                   1.394998   \n",
      "\n",
      "   Boundary Separation Accuracy  Collapse Speed  Collapse Accuracy  \\\n",
      "0                      7.793498         0.22381           0.242105   \n",
      "\n",
      "   Non-decision Time Speed  Non-decision Time Accuracy         BIC  \n",
      "0                 0.720122                       0.716  866.995495  \n",
      "20\n"
     ]
    },
    {
     "name": "stderr",
     "output_type": "stream",
     "text": [
      "Info: Params [0.23619676 0.13973185 2.0587042  1.63090634 0.24782844 0.33293065\n",
      " 0.14601724 0.80713773] gave 676.1814922681342\n",
      "Warning: This function (from_pandas_dataframe()) is deprecated and will be removed in a future version of PyDDM.  Please use the choice_column_name argument instead.\n",
      "Warning: dt is large.  Estimated pdfs may be imprecise.  Decrease dt to 0.01 or less.\n"
     ]
    },
    {
     "name": "stdout",
     "output_type": "stream",
     "text": [
      "   Drift Rate Speed  Drift Rate Accuracy  Boundary Separation Speed  \\\n",
      "0          0.236197             0.139732                   2.058704   \n",
      "\n",
      "   Boundary Separation Accuracy  Collapse Speed  Collapse Accuracy  \\\n",
      "0                      1.630906        0.247828           0.332931   \n",
      "\n",
      "   Non-decision Time Speed  Non-decision Time Accuracy         BIC  \n",
      "0                 0.146017                    0.807138  676.181492  \n",
      "21\n"
     ]
    },
    {
     "name": "stderr",
     "output_type": "stream",
     "text": [
      "Info: Params [0.         0.03410896 1.09502301 1.21163668 0.22607293 0.36626957\n",
      " 0.31965071 0.56333376] gave 496.67198446721744\n",
      "Warning: This function (from_pandas_dataframe()) is deprecated and will be removed in a future version of PyDDM.  Please use the choice_column_name argument instead.\n",
      "Warning: dt is large.  Estimated pdfs may be imprecise.  Decrease dt to 0.01 or less.\n"
     ]
    },
    {
     "name": "stdout",
     "output_type": "stream",
     "text": [
      "   Drift Rate Speed  Drift Rate Accuracy  Boundary Separation Speed  \\\n",
      "0               0.0             0.034109                   1.095023   \n",
      "\n",
      "   Boundary Separation Accuracy  Collapse Speed  Collapse Accuracy  \\\n",
      "0                      1.211637        0.226073            0.36627   \n",
      "\n",
      "   Non-decision Time Speed  Non-decision Time Accuracy         BIC  \n",
      "0                 0.319651                    0.563334  496.671984  \n",
      "22\n"
     ]
    },
    {
     "name": "stderr",
     "output_type": "stream",
     "text": [
      "Info: Params [0.25088802 0.16487154 0.79263757 3.14990533 0.18181763 0.17835882\n",
      " 0.37982393 0.3359894 ] gave 667.366971731291\n",
      "Warning: This function (from_pandas_dataframe()) is deprecated and will be removed in a future version of PyDDM.  Please use the choice_column_name argument instead.\n",
      "Warning: dt is large.  Estimated pdfs may be imprecise.  Decrease dt to 0.01 or less.\n"
     ]
    },
    {
     "name": "stdout",
     "output_type": "stream",
     "text": [
      "   Drift Rate Speed  Drift Rate Accuracy  Boundary Separation Speed  \\\n",
      "0          0.250888             0.164872                   0.792638   \n",
      "\n",
      "   Boundary Separation Accuracy  Collapse Speed  Collapse Accuracy  \\\n",
      "0                      3.149905        0.181818           0.178359   \n",
      "\n",
      "   Non-decision Time Speed  Non-decision Time Accuracy         BIC  \n",
      "0                 0.379824                    0.335989  667.366972  \n",
      "23\n"
     ]
    },
    {
     "name": "stderr",
     "output_type": "stream",
     "text": [
      "Info: Params [0.20211073 0.16488014 3.49845543 4.57449594 0.16648781 0.20130425\n",
      " 0.9405228  0.37335117] gave 1057.3228693045016\n",
      "Warning: This function (from_pandas_dataframe()) is deprecated and will be removed in a future version of PyDDM.  Please use the choice_column_name argument instead.\n",
      "Warning: dt is large.  Estimated pdfs may be imprecise.  Decrease dt to 0.01 or less.\n"
     ]
    },
    {
     "name": "stdout",
     "output_type": "stream",
     "text": [
      "   Drift Rate Speed  Drift Rate Accuracy  Boundary Separation Speed  \\\n",
      "0          0.202111              0.16488                   3.498455   \n",
      "\n",
      "   Boundary Separation Accuracy  Collapse Speed  Collapse Accuracy  \\\n",
      "0                      4.574496        0.166488           0.201304   \n",
      "\n",
      "   Non-decision Time Speed  Non-decision Time Accuracy          BIC  \n",
      "0                 0.940523                    0.373351  1057.322869  \n",
      "24\n"
     ]
    },
    {
     "name": "stderr",
     "output_type": "stream",
     "text": [
      "Info: Params [0.39068555 0.11478856 0.75833479 0.99446993 0.47059922 0.23896019\n",
      " 0.33666753 0.6729495 ] gave 326.08339880442327\n",
      "Warning: This function (from_pandas_dataframe()) is deprecated and will be removed in a future version of PyDDM.  Please use the choice_column_name argument instead.\n",
      "Warning: dt is large.  Estimated pdfs may be imprecise.  Decrease dt to 0.01 or less.\n"
     ]
    },
    {
     "name": "stdout",
     "output_type": "stream",
     "text": [
      "   Drift Rate Speed  Drift Rate Accuracy  Boundary Separation Speed  \\\n",
      "0          0.390686             0.114789                   0.758335   \n",
      "\n",
      "   Boundary Separation Accuracy  Collapse Speed  Collapse Accuracy  \\\n",
      "0                       0.99447        0.470599            0.23896   \n",
      "\n",
      "   Non-decision Time Speed  Non-decision Time Accuracy         BIC  \n",
      "0                 0.336668                    0.672949  326.083399  \n",
      "25\n"
     ]
    },
    {
     "name": "stderr",
     "output_type": "stream",
     "text": [
      "Info: Params [0.35085651 0.12290007 0.81805027 0.5999999  0.01592165 2.82309803\n",
      " 0.46115578 0.12643579] gave 790.3740500161521\n",
      "Warning: This function (from_pandas_dataframe()) is deprecated and will be removed in a future version of PyDDM.  Please use the choice_column_name argument instead.\n",
      "Warning: dt is large.  Estimated pdfs may be imprecise.  Decrease dt to 0.01 or less.\n"
     ]
    },
    {
     "name": "stdout",
     "output_type": "stream",
     "text": [
      "   Drift Rate Speed  Drift Rate Accuracy  Boundary Separation Speed  \\\n",
      "0          0.350857               0.1229                    0.81805   \n",
      "\n",
      "   Boundary Separation Accuracy  Collapse Speed  Collapse Accuracy  \\\n",
      "0                           0.6        0.015922           2.823098   \n",
      "\n",
      "   Non-decision Time Speed  Non-decision Time Accuracy        BIC  \n",
      "0                 0.461156                    0.126436  790.37405  \n",
      "26\n"
     ]
    },
    {
     "name": "stderr",
     "output_type": "stream",
     "text": [
      "Info: Params [0.18526373 0.17869553 1.96976091 3.52906469 0.38382723 0.11904798\n",
      " 0.32313277 0.93957877] gave 867.9787843335479\n",
      "Warning: This function (from_pandas_dataframe()) is deprecated and will be removed in a future version of PyDDM.  Please use the choice_column_name argument instead.\n",
      "Warning: dt is large.  Estimated pdfs may be imprecise.  Decrease dt to 0.01 or less.\n"
     ]
    },
    {
     "name": "stdout",
     "output_type": "stream",
     "text": [
      "   Drift Rate Speed  Drift Rate Accuracy  Boundary Separation Speed  \\\n",
      "0          0.185264             0.178696                   1.969761   \n",
      "\n",
      "   Boundary Separation Accuracy  Collapse Speed  Collapse Accuracy  \\\n",
      "0                      3.529065        0.383827           0.119048   \n",
      "\n",
      "   Non-decision Time Speed  Non-decision Time Accuracy         BIC  \n",
      "0                 0.323133                    0.939579  867.978784  \n",
      "27\n"
     ]
    },
    {
     "name": "stderr",
     "output_type": "stream",
     "text": [
      "Info: Params [0.18499007 0.22082006 1.40879722 5.8874975  0.00899841 0.24779961\n",
      " 0.12410313 0.54413306] gave 966.8588623369401\n",
      "Warning: This function (from_pandas_dataframe()) is deprecated and will be removed in a future version of PyDDM.  Please use the choice_column_name argument instead.\n",
      "Warning: dt is large.  Estimated pdfs may be imprecise.  Decrease dt to 0.01 or less.\n"
     ]
    },
    {
     "name": "stdout",
     "output_type": "stream",
     "text": [
      "   Drift Rate Speed  Drift Rate Accuracy  Boundary Separation Speed  \\\n",
      "0           0.18499              0.22082                   1.408797   \n",
      "\n",
      "   Boundary Separation Accuracy  Collapse Speed  Collapse Accuracy  \\\n",
      "0                      5.887497        0.008998             0.2478   \n",
      "\n",
      "   Non-decision Time Speed  Non-decision Time Accuracy         BIC  \n",
      "0                 0.124103                    0.544133  966.858862  \n",
      "28\n"
     ]
    },
    {
     "name": "stderr",
     "output_type": "stream",
     "text": [
      "Info: Params [0.13804312 0.09724885 2.47029738 5.82784509 0.16385122 0.14817101\n",
      " 0.9385111  0.27661203] gave 1082.3731462983953\n",
      "Warning: This function (from_pandas_dataframe()) is deprecated and will be removed in a future version of PyDDM.  Please use the choice_column_name argument instead.\n",
      "Warning: dt is large.  Estimated pdfs may be imprecise.  Decrease dt to 0.01 or less.\n"
     ]
    },
    {
     "name": "stdout",
     "output_type": "stream",
     "text": [
      "   Drift Rate Speed  Drift Rate Accuracy  Boundary Separation Speed  \\\n",
      "0          0.138043             0.097249                   2.470297   \n",
      "\n",
      "   Boundary Separation Accuracy  Collapse Speed  Collapse Accuracy  \\\n",
      "0                      5.827845        0.163851           0.148171   \n",
      "\n",
      "   Non-decision Time Speed  Non-decision Time Accuracy          BIC  \n",
      "0                 0.938511                    0.276612  1082.373146  \n",
      "29\n"
     ]
    },
    {
     "name": "stderr",
     "output_type": "stream",
     "text": [
      "Info: Params [0.17420024 0.19434037 5.49011229 4.0888378  0.48965517 0.37376693\n",
      " 0.81718069 0.97242058] gave 888.0186483595885\n",
      "Warning: This function (from_pandas_dataframe()) is deprecated and will be removed in a future version of PyDDM.  Please use the choice_column_name argument instead.\n",
      "Warning: dt is large.  Estimated pdfs may be imprecise.  Decrease dt to 0.01 or less.\n"
     ]
    },
    {
     "name": "stdout",
     "output_type": "stream",
     "text": [
      "   Drift Rate Speed  Drift Rate Accuracy  Boundary Separation Speed  \\\n",
      "0            0.1742              0.19434                   5.490112   \n",
      "\n",
      "   Boundary Separation Accuracy  Collapse Speed  Collapse Accuracy  \\\n",
      "0                      4.088838        0.489655           0.373767   \n",
      "\n",
      "   Non-decision Time Speed  Non-decision Time Accuracy         BIC  \n",
      "0                 0.817181                    0.972421  888.018648  \n",
      "30\n"
     ]
    },
    {
     "name": "stderr",
     "output_type": "stream",
     "text": [
      "Info: Params [0.08427664 0.31076806 0.80742276 2.59346993 0.33559517 0.19925016\n",
      " 0.16364431 0.74110942] gave 595.4395030824736\n",
      "Warning: This function (from_pandas_dataframe()) is deprecated and will be removed in a future version of PyDDM.  Please use the choice_column_name argument instead.\n",
      "Warning: dt is large.  Estimated pdfs may be imprecise.  Decrease dt to 0.01 or less.\n"
     ]
    },
    {
     "name": "stdout",
     "output_type": "stream",
     "text": [
      "   Drift Rate Speed  Drift Rate Accuracy  Boundary Separation Speed  \\\n",
      "0          0.084277             0.310768                   0.807423   \n",
      "\n",
      "   Boundary Separation Accuracy  Collapse Speed  Collapse Accuracy  \\\n",
      "0                       2.59347        0.335595            0.19925   \n",
      "\n",
      "   Non-decision Time Speed  Non-decision Time Accuracy         BIC  \n",
      "0                 0.163644                    0.741109  595.439503  \n",
      "31\n"
     ]
    },
    {
     "name": "stderr",
     "output_type": "stream",
     "text": [
      "Info: Params [0.20036842 0.15037196 1.30456276 3.25546562 0.         0.03744934\n",
      " 0.1904784  0.17465695] gave 1010.9020446399659\n",
      "Warning: This function (from_pandas_dataframe()) is deprecated and will be removed in a future version of PyDDM.  Please use the choice_column_name argument instead.\n",
      "Warning: dt is large.  Estimated pdfs may be imprecise.  Decrease dt to 0.01 or less.\n"
     ]
    },
    {
     "name": "stdout",
     "output_type": "stream",
     "text": [
      "   Drift Rate Speed  Drift Rate Accuracy  Boundary Separation Speed  \\\n",
      "0          0.200368             0.150372                   1.304563   \n",
      "\n",
      "   Boundary Separation Accuracy  Collapse Speed  Collapse Accuracy  \\\n",
      "0                      3.255466             0.0           0.037449   \n",
      "\n",
      "   Non-decision Time Speed  Non-decision Time Accuracy          BIC  \n",
      "0                 0.190478                    0.174657  1010.902045  \n",
      "32\n"
     ]
    },
    {
     "name": "stderr",
     "output_type": "stream",
     "text": [
      "Info: Params [0.         0.43647551 0.5572513  2.16420027 0.         0.16136363\n",
      " 0.14154798 0.35245279] gave 526.48333352621\n",
      "Warning: This function (from_pandas_dataframe()) is deprecated and will be removed in a future version of PyDDM.  Please use the choice_column_name argument instead.\n",
      "Warning: dt is large.  Estimated pdfs may be imprecise.  Decrease dt to 0.01 or less.\n"
     ]
    },
    {
     "name": "stdout",
     "output_type": "stream",
     "text": [
      "   Drift Rate Speed  Drift Rate Accuracy  Boundary Separation Speed  \\\n",
      "0               0.0             0.436476                   0.557251   \n",
      "\n",
      "   Boundary Separation Accuracy  Collapse Speed  Collapse Accuracy  \\\n",
      "0                        2.1642             0.0           0.161364   \n",
      "\n",
      "   Non-decision Time Speed  Non-decision Time Accuracy         BIC  \n",
      "0                 0.141548                    0.352453  526.483334  \n",
      "33\n"
     ]
    },
    {
     "name": "stderr",
     "output_type": "stream",
     "text": [
      "Info: Params [0.03140598 0.11316712 1.45362647 2.36286779 0.37159202 0.29556154\n",
      " 0.19520559 0.90419787] gave 664.4265721177165\n",
      "Warning: This function (from_pandas_dataframe()) is deprecated and will be removed in a future version of PyDDM.  Please use the choice_column_name argument instead.\n",
      "Warning: dt is large.  Estimated pdfs may be imprecise.  Decrease dt to 0.01 or less.\n"
     ]
    },
    {
     "name": "stdout",
     "output_type": "stream",
     "text": [
      "   Drift Rate Speed  Drift Rate Accuracy  Boundary Separation Speed  \\\n",
      "0          0.031406             0.113167                   1.453626   \n",
      "\n",
      "   Boundary Separation Accuracy  Collapse Speed  Collapse Accuracy  \\\n",
      "0                      2.362868        0.371592           0.295562   \n",
      "\n",
      "   Non-decision Time Speed  Non-decision Time Accuracy         BIC  \n",
      "0                 0.195206                    0.904198  664.426572  \n",
      "34\n"
     ]
    },
    {
     "name": "stderr",
     "output_type": "stream",
     "text": [
      "Info: Params [0.25715816 0.28603898 1.81011458 5.2986098  0.17609197 0.23402034\n",
      " 0.79215819 0.26908807] gave 885.5743751704205\n",
      "Warning: This function (from_pandas_dataframe()) is deprecated and will be removed in a future version of PyDDM.  Please use the choice_column_name argument instead.\n",
      "Warning: dt is large.  Estimated pdfs may be imprecise.  Decrease dt to 0.01 or less.\n"
     ]
    },
    {
     "name": "stdout",
     "output_type": "stream",
     "text": [
      "   Drift Rate Speed  Drift Rate Accuracy  Boundary Separation Speed  \\\n",
      "0          0.257158             0.286039                   1.810115   \n",
      "\n",
      "   Boundary Separation Accuracy  Collapse Speed  Collapse Accuracy  \\\n",
      "0                       5.29861        0.176092            0.23402   \n",
      "\n",
      "   Non-decision Time Speed  Non-decision Time Accuracy         BIC  \n",
      "0                 0.792158                    0.269088  885.574375  \n",
      "35\n"
     ]
    },
    {
     "name": "stderr",
     "output_type": "stream",
     "text": [
      "Info: Params [0.38695038 0.21549855 2.65480179 3.79656364 0.02930287 0.06319017\n",
      " 0.31889538 0.25487542] gave 1072.3084712947148\n",
      "Warning: This function (from_pandas_dataframe()) is deprecated and will be removed in a future version of PyDDM.  Please use the choice_column_name argument instead.\n",
      "Warning: dt is large.  Estimated pdfs may be imprecise.  Decrease dt to 0.01 or less.\n"
     ]
    },
    {
     "name": "stdout",
     "output_type": "stream",
     "text": [
      "   Drift Rate Speed  Drift Rate Accuracy  Boundary Separation Speed  \\\n",
      "0           0.38695             0.215499                   2.654802   \n",
      "\n",
      "   Boundary Separation Accuracy  Collapse Speed  Collapse Accuracy  \\\n",
      "0                      3.796564        0.029303            0.06319   \n",
      "\n",
      "   Non-decision Time Speed  Non-decision Time Accuracy          BIC  \n",
      "0                 0.318895                    0.254875  1072.308471  \n",
      "36\n"
     ]
    },
    {
     "name": "stderr",
     "output_type": "stream",
     "text": [
      "Info: Params [0.17797138 0.10245571 1.85597071 2.66800492 0.17090455 0.53333333\n",
      " 0.95382362 0.96779331] gave 714.02467532859\n",
      "Warning: This function (from_pandas_dataframe()) is deprecated and will be removed in a future version of PyDDM.  Please use the choice_column_name argument instead.\n",
      "Warning: dt is large.  Estimated pdfs may be imprecise.  Decrease dt to 0.01 or less.\n"
     ]
    },
    {
     "name": "stdout",
     "output_type": "stream",
     "text": [
      "   Drift Rate Speed  Drift Rate Accuracy  Boundary Separation Speed  \\\n",
      "0          0.177971             0.102456                   1.855971   \n",
      "\n",
      "   Boundary Separation Accuracy  Collapse Speed  Collapse Accuracy  \\\n",
      "0                      2.668005        0.170905           0.533333   \n",
      "\n",
      "   Non-decision Time Speed  Non-decision Time Accuracy         BIC  \n",
      "0                 0.953824                    0.967793  714.024675  \n",
      "37\n"
     ]
    },
    {
     "name": "stderr",
     "output_type": "stream",
     "text": [
      "Info: Params [0.20672196 0.14205512 1.56602902 3.54074738 0.         0.02235949\n",
      " 0.12997957 0.16650527] gave 1085.7424608961624\n"
     ]
    },
    {
     "name": "stdout",
     "output_type": "stream",
     "text": [
      "   Drift Rate Speed  Drift Rate Accuracy  Boundary Separation Speed  \\\n",
      "0          0.206722             0.142055                   1.566029   \n",
      "\n",
      "   Boundary Separation Accuracy  Collapse Speed  Collapse Accuracy  \\\n",
      "0                      3.540747             0.0           0.022359   \n",
      "\n",
      "   Non-decision Time Speed  Non-decision Time Accuracy          BIC  \n",
      "0                  0.12998                    0.166505  1085.742461  \n"
     ]
    }
   ],
   "source": [
    "df_all = pd.DataFrame()\n",
    "for i in range(sample_size):\n",
    "    print(i)\n",
    "    path = os.path.join(data_dir+str(i+1)+\".csv\")\n",
    "    df = pd.read_csv(path, sep = \",\")\n",
    "    #df = df[df[\"cond\"]==SAT] # A condition\n",
    "    df = df[df[\"Time\"]<30]\n",
    "\n",
    "    samp = Sample.from_pandas_dataframe(df, rt_column_name=\"Time\", correct_column_name=\"Correct\")\n",
    "    df = get_DDM_result_sub_2v2a2c2ter(samp,dx=.01, dt=.1, T_dur = 30)\n",
    "    df_all = pd.concat((df_all,df))\n",
    "    print(df)\n",
    "df_OUM = df_all.copy()\n"
   ]
  },
  {
   "cell_type": "code",
   "execution_count": 10,
   "id": "3b05a53a",
   "metadata": {},
   "outputs": [],
   "source": [
    "df_OUM.to_csv(\"DDM2v2a2c2terresultLerche2017.csv\")"
   ]
  },
  {
   "cell_type": "code",
   "execution_count": 11,
   "id": "87e8797e",
   "metadata": {},
   "outputs": [
    {
     "data": {
      "text/plain": [
       "793.5350881932541"
      ]
     },
     "execution_count": 11,
     "metadata": {},
     "output_type": "execute_result"
    }
   ],
   "source": [
    "df_OUM[\"BIC\"].mean()"
   ]
  },
  {
   "cell_type": "code",
   "execution_count": null,
   "id": "c5baddcf",
   "metadata": {},
   "outputs": [],
   "source": []
  }
 ],
 "metadata": {
  "kernelspec": {
   "display_name": "Python 3 (ipykernel)",
   "language": "python",
   "name": "python3"
  },
  "language_info": {
   "codemirror_mode": {
    "name": "ipython",
    "version": 3
   },
   "file_extension": ".py",
   "mimetype": "text/x-python",
   "name": "python",
   "nbconvert_exporter": "python",
   "pygments_lexer": "ipython3",
   "version": "3.11.4"
  }
 },
 "nbformat": 4,
 "nbformat_minor": 5
}
