{
 "cells": [
  {
   "cell_type": "code",
   "execution_count": 6,
   "id": "2cda49de",
   "metadata": {},
   "outputs": [],
   "source": [
    "%run SAT_help_functions.ipynb"
   ]
  },
  {
   "cell_type": "code",
   "execution_count": null,
   "id": "bc081cf9",
   "metadata": {},
   "outputs": [],
   "source": []
  },
  {
   "cell_type": "markdown",
   "id": "4bd26666",
   "metadata": {},
   "source": [
    "## OUM"
   ]
  },
  {
   "cell_type": "code",
   "execution_count": null,
   "id": "9ef6c434",
   "metadata": {},
   "outputs": [],
   "source": []
  },
  {
   "cell_type": "code",
   "execution_count": 7,
   "id": "e776257c",
   "metadata": {},
   "outputs": [],
   "source": [
    "data_dir = \"/Users/wangjiashun/Desktop/Reserach on SAT/datasets/Evans2021/Lerche2017/dataBySubject/sub\"\n",
    "sample_size = 38\n",
    "SAT_conds = [\"Speed\", \"Accuracy\"]"
   ]
  },
  {
   "cell_type": "code",
   "execution_count": null,
   "id": "f434220f",
   "metadata": {},
   "outputs": [],
   "source": []
  },
  {
   "cell_type": "code",
   "execution_count": 8,
   "id": "bbb278a6",
   "metadata": {},
   "outputs": [],
   "source": [
    "\n",
    "class DriftExcitationSpeedAcc(Drift):\n",
    "    name = \"DriftSpeedAcc\"\n",
    "    required_parameters = [\"drift\", \"Kspeed\", \"Kacc\"]\n",
    "    required_conditions = ['Cond']\n",
    "        \n",
    "    def get_drift(self, x, t, conditions, **kwargs):\n",
    "        if conditions['Cond'] == 'Speed':\n",
    "            return self.drift + x*self.Kspeed \n",
    "        elif conditions['Cond'] == 'Accuracy':\n",
    "            return self.drift + x*self.Kacc\n",
    "        else: \n",
    "            print(\"Non-implemented SAT conditions\")"
   ]
  },
  {
   "cell_type": "code",
   "execution_count": 9,
   "id": "6e5e0074",
   "metadata": {},
   "outputs": [],
   "source": [
    "\n",
    "class NondecisionSpeedAcc(OverlayNonDecision):\n",
    "    name = \"DriftSpeedAcc\"\n",
    "    required_parameters = [\"tSpeed\", 'tAcc']\n",
    "    required_conditions = ['Cond']\n",
    "        \n",
    "    def get_nondecision_time(self, conditions, **kwargs):\n",
    "        if conditions['Cond'] == 'Speed':\n",
    "            return self.tSpeed \n",
    "        elif conditions['Cond'] == 'Accuracy':\n",
    "            return self.tAcc\n",
    "        else: \n",
    "            print(\"Non-implemented SAT conditions\")"
   ]
  },
  {
   "cell_type": "code",
   "execution_count": null,
   "id": "b1e0fe9b",
   "metadata": {},
   "outputs": [],
   "source": []
  },
  {
   "cell_type": "code",
   "execution_count": null,
   "id": "da0ee7d0",
   "metadata": {},
   "outputs": [],
   "source": []
  },
  {
   "cell_type": "code",
   "execution_count": null,
   "id": "fd95799b",
   "metadata": {},
   "outputs": [],
   "source": []
  },
  {
   "cell_type": "code",
   "execution_count": 10,
   "id": "fdb13001",
   "metadata": {},
   "outputs": [
    {
     "name": "stdout",
     "output_type": "stream",
     "text": [
      "0\n"
     ]
    },
    {
     "name": "stderr",
     "output_type": "stream",
     "text": [
      "Info: Params [ 0.18170039 -0.20608363 -2.84365806  1.18934879  0.83432833  0.9826743 ] gave 1001.4687742212985\n"
     ]
    },
    {
     "name": "stdout",
     "output_type": "stream",
     "text": [
      "   Drift Rate  Self-excitation Speed  Self-excitation Accuracy  \\\n",
      "0      0.1817              -0.206084                 -2.843658   \n",
      "\n",
      "   Boundary Separation  Non-decision Time Speed  Non-decision Time Accuracy  \\\n",
      "0             1.189349                 0.834328                    0.982674   \n",
      "\n",
      "   Participant          BIC  \n",
      "0            1  1001.468774  \n",
      "1\n"
     ]
    },
    {
     "name": "stderr",
     "output_type": "stream",
     "text": [
      "Info: Params [0.27605382 0.36525777 0.23421286 5.67759406 0.17632785 0.90334122] gave 995.0676440678694\n"
     ]
    },
    {
     "name": "stdout",
     "output_type": "stream",
     "text": [
      "   Drift Rate  Self-excitation Speed  Self-excitation Accuracy  \\\n",
      "0    0.276054               0.365258                  0.234213   \n",
      "\n",
      "   Boundary Separation  Non-decision Time Speed  Non-decision Time Accuracy  \\\n",
      "0             5.677594                 0.176328                    0.903341   \n",
      "\n",
      "   Participant         BIC  \n",
      "0            2  995.067644  \n",
      "2\n"
     ]
    },
    {
     "name": "stderr",
     "output_type": "stream",
     "text": [
      "Info: Params [ 0.00750316 -2.09923115 -3.10396773  0.7158674   0.1052418   0.4526773 ] gave 469.22190562083836\n"
     ]
    },
    {
     "name": "stdout",
     "output_type": "stream",
     "text": [
      "   Drift Rate  Self-excitation Speed  Self-excitation Accuracy  \\\n",
      "0    0.007503              -2.099231                 -3.103968   \n",
      "\n",
      "   Boundary Separation  Non-decision Time Speed  Non-decision Time Accuracy  \\\n",
      "0             0.715867                 0.105242                    0.452677   \n",
      "\n",
      "   Participant         BIC  \n",
      "0            3  469.221906  \n",
      "3\n"
     ]
    },
    {
     "name": "stderr",
     "output_type": "stream",
     "text": [
      "Info: Params [ 0.13720428 -4.84680267 -5.8990993   0.74458999  0.16724043  0.93821081] gave 846.9595614037896\n"
     ]
    },
    {
     "name": "stdout",
     "output_type": "stream",
     "text": [
      "   Drift Rate  Self-excitation Speed  Self-excitation Accuracy  \\\n",
      "0    0.137204              -4.846803                 -5.899099   \n",
      "\n",
      "   Boundary Separation  Non-decision Time Speed  Non-decision Time Accuracy  \\\n",
      "0              0.74459                  0.16724                    0.938211   \n",
      "\n",
      "   Participant         BIC  \n",
      "0            4  846.959561  \n",
      "4\n"
     ]
    },
    {
     "name": "stderr",
     "output_type": "stream",
     "text": [
      "Info: Params [ 0.25697201 -3.84119226 -4.47833875  0.99024701  0.94447529  0.95255695] gave 1193.1942375163228\n"
     ]
    },
    {
     "name": "stdout",
     "output_type": "stream",
     "text": [
      "   Drift Rate  Self-excitation Speed  Self-excitation Accuracy  \\\n",
      "0    0.256972              -3.841192                 -4.478339   \n",
      "\n",
      "   Boundary Separation  Non-decision Time Speed  Non-decision Time Accuracy  \\\n",
      "0             0.990247                 0.944475                    0.952557   \n",
      "\n",
      "   Participant          BIC  \n",
      "0            5  1193.194238  \n",
      "5\n"
     ]
    },
    {
     "name": "stderr",
     "output_type": "stream",
     "text": [
      "Info: Params [0.16477297 1.96306688 0.19250491 7.51717943 0.12779787 0.97051468] gave 815.3071414142837\n"
     ]
    },
    {
     "name": "stdout",
     "output_type": "stream",
     "text": [
      "   Drift Rate  Self-excitation Speed  Self-excitation Accuracy  \\\n",
      "0    0.164773               1.963067                  0.192505   \n",
      "\n",
      "   Boundary Separation  Non-decision Time Speed  Non-decision Time Accuracy  \\\n",
      "0             7.517179                 0.127798                    0.970515   \n",
      "\n",
      "   Participant         BIC  \n",
      "0            6  815.307141  \n",
      "6\n"
     ]
    },
    {
     "name": "stderr",
     "output_type": "stream",
     "text": [
      "Info: Params [0.25049252 2.94733148 0.43051149 2.21150608 0.16855748 0.93251379] gave 573.5397995746357\n"
     ]
    },
    {
     "name": "stdout",
     "output_type": "stream",
     "text": [
      "   Drift Rate  Self-excitation Speed  Self-excitation Accuracy  \\\n",
      "0    0.250493               2.947331                  0.430511   \n",
      "\n",
      "   Boundary Separation  Non-decision Time Speed  Non-decision Time Accuracy  \\\n",
      "0             2.211506                 0.168557                    0.932514   \n",
      "\n",
      "   Participant       BIC  \n",
      "0            7  573.5398  \n",
      "7\n"
     ]
    },
    {
     "name": "stderr",
     "output_type": "stream",
     "text": [
      "Info: Params [0.30435435 3.38137765 0.69792615 3.24080303 0.3813761  0.25016847] gave 542.8247942770854\n"
     ]
    },
    {
     "name": "stdout",
     "output_type": "stream",
     "text": [
      "   Drift Rate  Self-excitation Speed  Self-excitation Accuracy  \\\n",
      "0    0.304354               3.381378                  0.697926   \n",
      "\n",
      "   Boundary Separation  Non-decision Time Speed  Non-decision Time Accuracy  \\\n",
      "0             3.240803                 0.381376                    0.250168   \n",
      "\n",
      "   Participant         BIC  \n",
      "0            8  542.824794  \n",
      "8\n"
     ]
    },
    {
     "name": "stderr",
     "output_type": "stream",
     "text": [
      "Info: Params [ 0.00768414 -1.23453801 -5.57500025  0.70915014  0.17979005  0.11432925] gave 595.519970639873\n"
     ]
    },
    {
     "name": "stdout",
     "output_type": "stream",
     "text": [
      "   Drift Rate  Self-excitation Speed  Self-excitation Accuracy  \\\n",
      "0    0.007684              -1.234538                    -5.575   \n",
      "\n",
      "   Boundary Separation  Non-decision Time Speed  Non-decision Time Accuracy  \\\n",
      "0              0.70915                  0.17979                    0.114329   \n",
      "\n",
      "   Participant         BIC  \n",
      "0            9  595.519971  \n",
      "9\n"
     ]
    },
    {
     "name": "stderr",
     "output_type": "stream",
     "text": [
      "Info: Params [ 0.07326155 -0.85664931 -1.27033562  1.23237284  0.12710116  0.11746566] gave 927.8979500811201\n"
     ]
    },
    {
     "name": "stdout",
     "output_type": "stream",
     "text": [
      "   Drift Rate  Self-excitation Speed  Self-excitation Accuracy  \\\n",
      "0    0.073262              -0.856649                 -1.270336   \n",
      "\n",
      "   Boundary Separation  Non-decision Time Speed  Non-decision Time Accuracy  \\\n",
      "0             1.232373                 0.127101                    0.117466   \n",
      "\n",
      "   Participant        BIC  \n",
      "0           10  927.89795  \n",
      "10\n"
     ]
    },
    {
     "name": "stderr",
     "output_type": "stream",
     "text": [
      "Info: Params [0.26807924 1.9644716  0.21309256 7.32425634 0.3055685  0.19519397] gave 768.7196071764154\n"
     ]
    },
    {
     "name": "stdout",
     "output_type": "stream",
     "text": [
      "   Drift Rate  Self-excitation Speed  Self-excitation Accuracy  \\\n",
      "0    0.268079               1.964472                  0.213093   \n",
      "\n",
      "   Boundary Separation  Non-decision Time Speed  Non-decision Time Accuracy  \\\n",
      "0             7.324256                 0.305568                    0.195194   \n",
      "\n",
      "   Participant         BIC  \n",
      "0           11  768.719607  \n",
      "11\n"
     ]
    },
    {
     "name": "stderr",
     "output_type": "stream",
     "text": [
      "Info: Params [ 0.15404225  2.89238882 -3.85972662  1.12967702  0.36427568  0.98437305] gave 796.2143062980749\n"
     ]
    },
    {
     "name": "stdout",
     "output_type": "stream",
     "text": [
      "   Drift Rate  Self-excitation Speed  Self-excitation Accuracy  \\\n",
      "0    0.154042               2.892389                 -3.859727   \n",
      "\n",
      "   Boundary Separation  Non-decision Time Speed  Non-decision Time Accuracy  \\\n",
      "0             1.129677                 0.364276                    0.984373   \n",
      "\n",
      "   Participant         BIC  \n",
      "0           12  796.214306  \n",
      "12\n"
     ]
    },
    {
     "name": "stderr",
     "output_type": "stream",
     "text": [
      "Info: Params [0.28882642 1.82782474 0.57682307 3.53324025 0.370492   0.54553539] gave 662.1878212757908\n"
     ]
    },
    {
     "name": "stdout",
     "output_type": "stream",
     "text": [
      "   Drift Rate  Self-excitation Speed  Self-excitation Accuracy  \\\n",
      "0    0.288826               1.827825                  0.576823   \n",
      "\n",
      "   Boundary Separation  Non-decision Time Speed  Non-decision Time Accuracy  \\\n",
      "0              3.53324                 0.370492                    0.545535   \n",
      "\n",
      "   Participant         BIC  \n",
      "0           13  662.187821  \n",
      "13\n"
     ]
    },
    {
     "name": "stderr",
     "output_type": "stream",
     "text": [
      "Info: Params [0.21289308 0.88583474 0.10565344 4.43256284 0.38834682 0.59309965] gave 918.6492554275853\n"
     ]
    },
    {
     "name": "stdout",
     "output_type": "stream",
     "text": [
      "   Drift Rate  Self-excitation Speed  Self-excitation Accuracy  \\\n",
      "0    0.212893               0.885835                  0.105653   \n",
      "\n",
      "   Boundary Separation  Non-decision Time Speed  Non-decision Time Accuracy  \\\n",
      "0             4.432563                 0.388347                      0.5931   \n",
      "\n",
      "   Participant         BIC  \n",
      "0           14  918.649255  \n",
      "14\n"
     ]
    },
    {
     "name": "stderr",
     "output_type": "stream",
     "text": [
      "Info: Params [ 0.23032128 -0.87390094 -3.92089921  1.00067623  0.12708182  0.92940273] gave 927.2193609720533\n"
     ]
    },
    {
     "name": "stdout",
     "output_type": "stream",
     "text": [
      "   Drift Rate  Self-excitation Speed  Self-excitation Accuracy  \\\n",
      "0    0.230321              -0.873901                 -3.920899   \n",
      "\n",
      "   Boundary Separation  Non-decision Time Speed  Non-decision Time Accuracy  \\\n",
      "0             1.000676                 0.127082                    0.929403   \n",
      "\n",
      "   Participant         BIC  \n",
      "0           15  927.219361  \n",
      "15\n"
     ]
    },
    {
     "name": "stderr",
     "output_type": "stream",
     "text": [
      "Info: Params [0.09453327 2.26341248 0.14248766 7.77143444 0.12369959 0.97025238] gave 856.9125636093363\n"
     ]
    },
    {
     "name": "stdout",
     "output_type": "stream",
     "text": [
      "   Drift Rate  Self-excitation Speed  Self-excitation Accuracy  \\\n",
      "0    0.094533               2.263412                  0.142488   \n",
      "\n",
      "   Boundary Separation  Non-decision Time Speed  Non-decision Time Accuracy  \\\n",
      "0             7.771434                   0.1237                    0.970252   \n",
      "\n",
      "   Participant         BIC  \n",
      "0           16  856.912564  \n",
      "16\n"
     ]
    },
    {
     "name": "stderr",
     "output_type": "stream",
     "text": [
      "Info: Params [ 0.23662724 -0.68752164 -1.12254353  1.13907387  0.21463152  0.96642458] gave 763.8137456316513\n"
     ]
    },
    {
     "name": "stdout",
     "output_type": "stream",
     "text": [
      "   Drift Rate  Self-excitation Speed  Self-excitation Accuracy  \\\n",
      "0    0.236627              -0.687522                 -1.122544   \n",
      "\n",
      "   Boundary Separation  Non-decision Time Speed  Non-decision Time Accuracy  \\\n",
      "0             1.139074                 0.214632                    0.966425   \n",
      "\n",
      "   Participant         BIC  \n",
      "0           17  763.813746  \n",
      "17\n"
     ]
    },
    {
     "name": "stderr",
     "output_type": "stream",
     "text": [
      "Info: Params [0.15944428 2.16778857 0.04883159 1.95938731 0.10922453 0.10293063] gave 681.456997817137\n"
     ]
    },
    {
     "name": "stdout",
     "output_type": "stream",
     "text": [
      "   Drift Rate  Self-excitation Speed  Self-excitation Accuracy  \\\n",
      "0    0.159444               2.167789                  0.048832   \n",
      "\n",
      "   Boundary Separation  Non-decision Time Speed  Non-decision Time Accuracy  \\\n",
      "0             1.959387                 0.109225                    0.102931   \n",
      "\n",
      "   Participant         BIC  \n",
      "0           18  681.456998  \n",
      "18\n"
     ]
    },
    {
     "name": "stderr",
     "output_type": "stream",
     "text": [
      "Info: Params [0.16587419 0.79011225 0.39124432 2.77333012 0.54795808 0.66775996] gave 823.6587408469304\n"
     ]
    },
    {
     "name": "stdout",
     "output_type": "stream",
     "text": [
      "   Drift Rate  Self-excitation Speed  Self-excitation Accuracy  \\\n",
      "0    0.165874               0.790112                  0.391244   \n",
      "\n",
      "   Boundary Separation  Non-decision Time Speed  Non-decision Time Accuracy  \\\n",
      "0              2.77333                 0.547958                     0.66776   \n",
      "\n",
      "   Participant         BIC  \n",
      "0           19  823.658741  \n",
      "19\n"
     ]
    },
    {
     "name": "stderr",
     "output_type": "stream",
     "text": [
      "Info: Params [ 0.28603858  1.10330644 -0.78891891  2.02310024  0.54433072  0.99088796] gave 956.1368411791042\n"
     ]
    },
    {
     "name": "stdout",
     "output_type": "stream",
     "text": [
      "   Drift Rate  Self-excitation Speed  Self-excitation Accuracy  \\\n",
      "0    0.286039               1.103306                 -0.788919   \n",
      "\n",
      "   Boundary Separation  Non-decision Time Speed  Non-decision Time Accuracy  \\\n",
      "0               2.0231                 0.544331                    0.990888   \n",
      "\n",
      "   Participant         BIC  \n",
      "0           20  956.136841  \n",
      "20\n"
     ]
    },
    {
     "name": "stderr",
     "output_type": "stream",
     "text": [
      "Info: Params [0.20651009 0.64050536 1.13942503 2.30840703 0.13945201 0.71167281] gave 678.9126223687769\n"
     ]
    },
    {
     "name": "stdout",
     "output_type": "stream",
     "text": [
      "   Drift Rate  Self-excitation Speed  Self-excitation Accuracy  \\\n",
      "0     0.20651               0.640505                  1.139425   \n",
      "\n",
      "   Boundary Separation  Non-decision Time Speed  Non-decision Time Accuracy  \\\n",
      "0             2.308407                 0.139452                    0.711673   \n",
      "\n",
      "   Participant         BIC  \n",
      "0           21  678.912622  \n",
      "21\n"
     ]
    },
    {
     "name": "stderr",
     "output_type": "stream",
     "text": [
      "Info: Params [0.00590835 1.67453032 1.81873009 1.82155306 0.14324312 0.4018469 ] gave 492.8739185904522\n"
     ]
    },
    {
     "name": "stdout",
     "output_type": "stream",
     "text": [
      "   Drift Rate  Self-excitation Speed  Self-excitation Accuracy  \\\n",
      "0    0.005908                1.67453                   1.81873   \n",
      "\n",
      "   Boundary Separation  Non-decision Time Speed  Non-decision Time Accuracy  \\\n",
      "0             1.821553                 0.143243                    0.401847   \n",
      "\n",
      "   Participant         BIC  \n",
      "0           22  492.873919  \n",
      "22\n"
     ]
    },
    {
     "name": "stderr",
     "output_type": "stream",
     "text": [
      "Info: Params [0.19690743 3.2868894  0.05584767 2.29749817 0.14798409 0.93118631] gave 664.532169722026\n"
     ]
    },
    {
     "name": "stdout",
     "output_type": "stream",
     "text": [
      "   Drift Rate  Self-excitation Speed  Self-excitation Accuracy  \\\n",
      "0    0.196907               3.286889                  0.055848   \n",
      "\n",
      "   Boundary Separation  Non-decision Time Speed  Non-decision Time Accuracy  \\\n",
      "0             2.297498                 0.147984                    0.931186   \n",
      "\n",
      "   Participant        BIC  \n",
      "0           23  664.53217  \n",
      "23\n"
     ]
    },
    {
     "name": "stderr",
     "output_type": "stream",
     "text": [
      "Info: Params [0.18782057 0.33988648 0.22457909 6.0777681  0.36288997 0.20074923] gave 1051.0573130402272\n"
     ]
    },
    {
     "name": "stdout",
     "output_type": "stream",
     "text": [
      "   Drift Rate  Self-excitation Speed  Self-excitation Accuracy  \\\n",
      "0    0.187821               0.339886                  0.224579   \n",
      "\n",
      "   Boundary Separation  Non-decision Time Speed  Non-decision Time Accuracy  \\\n",
      "0             6.077768                  0.36289                    0.200749   \n",
      "\n",
      "   Participant          BIC  \n",
      "0           24  1051.057313  \n",
      "24\n"
     ]
    },
    {
     "name": "stderr",
     "output_type": "stream",
     "text": [
      "Info: Params [0.13796365 5.74584201 2.18551511 3.67310969 0.19427588 0.18135674] gave 306.45003114489583\n"
     ]
    },
    {
     "name": "stdout",
     "output_type": "stream",
     "text": [
      "   Drift Rate  Self-excitation Speed  Self-excitation Accuracy  \\\n",
      "0    0.137964               5.745842                  2.185515   \n",
      "\n",
      "   Boundary Separation  Non-decision Time Speed  Non-decision Time Accuracy  \\\n",
      "0              3.67311                 0.194276                    0.181357   \n",
      "\n",
      "   Participant         BIC  \n",
      "0           25  306.450031  \n",
      "25\n"
     ]
    },
    {
     "name": "stderr",
     "output_type": "stream",
     "text": [
      "Info: Params [ 0.31989535 -1.20853803 -9.88620739  0.71075327  0.47786657  0.1087659 ] gave 818.8596608814139\n"
     ]
    },
    {
     "name": "stdout",
     "output_type": "stream",
     "text": [
      "   Drift Rate  Self-excitation Speed  Self-excitation Accuracy  \\\n",
      "0    0.319895              -1.208538                 -9.886207   \n",
      "\n",
      "   Boundary Separation  Non-decision Time Speed  Non-decision Time Accuracy  \\\n",
      "0             0.710753                 0.477867                    0.108766   \n",
      "\n",
      "   Participant         BIC  \n",
      "0           26  818.859661  \n",
      "26\n"
     ]
    },
    {
     "name": "stderr",
     "output_type": "stream",
     "text": [
      "Info: Params [0.17099771 1.11193048 0.17904737 3.63348182 0.10391475 0.96450444] gave 874.2741337283854\n"
     ]
    },
    {
     "name": "stdout",
     "output_type": "stream",
     "text": [
      "   Drift Rate  Self-excitation Speed  Self-excitation Accuracy  \\\n",
      "0    0.170998                1.11193                  0.179047   \n",
      "\n",
      "   Boundary Separation  Non-decision Time Speed  Non-decision Time Accuracy  \\\n",
      "0             3.633482                 0.103915                    0.964504   \n",
      "\n",
      "   Participant         BIC  \n",
      "0           27  874.274134  \n",
      "27\n"
     ]
    },
    {
     "name": "stderr",
     "output_type": "stream",
     "text": [
      "Info: Params [ 0.37147154 -5.51283524 -9.64558913  0.73908664  0.11030019  0.97310824] gave 1039.0391413837197\n"
     ]
    },
    {
     "name": "stdout",
     "output_type": "stream",
     "text": [
      "   Drift Rate  Self-excitation Speed  Self-excitation Accuracy  \\\n",
      "0    0.371472              -5.512835                 -9.645589   \n",
      "\n",
      "   Boundary Separation  Non-decision Time Speed  Non-decision Time Accuracy  \\\n",
      "0             0.739087                   0.1103                    0.973108   \n",
      "\n",
      "   Participant          BIC  \n",
      "0           28  1039.039141  \n",
      "28\n"
     ]
    },
    {
     "name": "stderr",
     "output_type": "stream",
     "text": [
      "Info: Params [0.11915913 0.5173848  0.07540961 5.05175007 0.16886848 0.54001704] gave 1098.6323731846549\n"
     ]
    },
    {
     "name": "stdout",
     "output_type": "stream",
     "text": [
      "   Drift Rate  Self-excitation Speed  Self-excitation Accuracy  \\\n",
      "0    0.119159               0.517385                   0.07541   \n",
      "\n",
      "   Boundary Separation  Non-decision Time Speed  Non-decision Time Accuracy  \\\n",
      "0              5.05175                 0.168868                    0.540017   \n",
      "\n",
      "   Participant          BIC  \n",
      "0           29  1098.632373  \n",
      "29\n"
     ]
    },
    {
     "name": "stderr",
     "output_type": "stream",
     "text": [
      "Info: Params [ 0.31049606 -6.52501231 -5.98537591  0.81862044  0.96652033  0.97571137] gave 1101.5334090832055\n"
     ]
    },
    {
     "name": "stdout",
     "output_type": "stream",
     "text": [
      "   Drift Rate  Self-excitation Speed  Self-excitation Accuracy  \\\n",
      "0    0.310496              -6.525012                 -5.985376   \n",
      "\n",
      "   Boundary Separation  Non-decision Time Speed  Non-decision Time Accuracy  \\\n",
      "0              0.81862                  0.96652                    0.975711   \n",
      "\n",
      "   Participant          BIC  \n",
      "0           30  1101.533409  \n",
      "30\n"
     ]
    },
    {
     "name": "stderr",
     "output_type": "stream",
     "text": [
      "Info: Params [ 0.27997399  2.7533603  -1.59956906  1.15406541  0.10946047  0.95070329] gave 627.517382687556\n"
     ]
    },
    {
     "name": "stdout",
     "output_type": "stream",
     "text": [
      "   Drift Rate  Self-excitation Speed  Self-excitation Accuracy  \\\n",
      "0    0.279974                2.75336                 -1.599569   \n",
      "\n",
      "   Boundary Separation  Non-decision Time Speed  Non-decision Time Accuracy  \\\n",
      "0             1.154065                  0.10946                    0.950703   \n",
      "\n",
      "   Participant         BIC  \n",
      "0           31  627.517383  \n",
      "31\n"
     ]
    },
    {
     "name": "stderr",
     "output_type": "stream",
     "text": [
      "Info: Params [ 0.31460527 -5.19559945 -9.67884422  0.72218822  0.125266    0.4950537 ] gave 998.3030726784823\n"
     ]
    },
    {
     "name": "stdout",
     "output_type": "stream",
     "text": [
      "   Drift Rate  Self-excitation Speed  Self-excitation Accuracy  \\\n",
      "0    0.314605              -5.195599                 -9.678844   \n",
      "\n",
      "   Boundary Separation  Non-decision Time Speed  Non-decision Time Accuracy  \\\n",
      "0             0.722188                 0.125266                    0.495054   \n",
      "\n",
      "   Participant         BIC  \n",
      "0           32  998.303073  \n",
      "32\n"
     ]
    },
    {
     "name": "stderr",
     "output_type": "stream",
     "text": [
      "Info: Params [ 0.46267708 -0.09333095 -9.71753351  0.61157541  0.1124523   0.77159609] gave 532.0176547191088\n"
     ]
    },
    {
     "name": "stdout",
     "output_type": "stream",
     "text": [
      "   Drift Rate  Self-excitation Speed  Self-excitation Accuracy  \\\n",
      "0    0.462677              -0.093331                 -9.717534   \n",
      "\n",
      "   Boundary Separation  Non-decision Time Speed  Non-decision Time Accuracy  \\\n",
      "0             0.611575                 0.112452                    0.771596   \n",
      "\n",
      "   Participant         BIC  \n",
      "0           33  532.017655  \n",
      "33\n"
     ]
    },
    {
     "name": "stderr",
     "output_type": "stream",
     "text": [
      "Info: Params [0.08674293 1.59620705 0.47442614 2.12794166 0.10495497 0.99593956] gave 683.7015015438558\n"
     ]
    },
    {
     "name": "stdout",
     "output_type": "stream",
     "text": [
      "   Drift Rate  Self-excitation Speed  Self-excitation Accuracy  \\\n",
      "0    0.086743               1.596207                  0.474426   \n",
      "\n",
      "   Boundary Separation  Non-decision Time Speed  Non-decision Time Accuracy  \\\n",
      "0             2.127942                 0.104955                     0.99594   \n",
      "\n",
      "   Participant         BIC  \n",
      "0           34  683.701502  \n",
      "34\n"
     ]
    },
    {
     "name": "stderr",
     "output_type": "stream",
     "text": [
      "Info: Params [0.28554519 0.90939559 0.14608483 4.85860376 0.10527109 0.74921862] gave 902.2792780322394\n"
     ]
    },
    {
     "name": "stdout",
     "output_type": "stream",
     "text": [
      "   Drift Rate  Self-excitation Speed  Self-excitation Accuracy  \\\n",
      "0    0.285545               0.909396                  0.146085   \n",
      "\n",
      "   Boundary Separation  Non-decision Time Speed  Non-decision Time Accuracy  \\\n",
      "0             4.858604                 0.105271                    0.749219   \n",
      "\n",
      "   Participant         BIC  \n",
      "0           35  902.279278  \n",
      "35\n"
     ]
    },
    {
     "name": "stderr",
     "output_type": "stream",
     "text": [
      "Info: Params [ 0.6053622  -6.18652793 -7.77201587  0.81394544  0.98831619  0.934215  ] gave 1080.8203888612993\n"
     ]
    },
    {
     "name": "stdout",
     "output_type": "stream",
     "text": [
      "   Drift Rate  Self-excitation Speed  Self-excitation Accuracy  \\\n",
      "0    0.605362              -6.186528                 -7.772016   \n",
      "\n",
      "   Boundary Separation  Non-decision Time Speed  Non-decision Time Accuracy  \\\n",
      "0             0.813945                 0.988316                    0.934215   \n",
      "\n",
      "   Participant          BIC  \n",
      "0           36  1080.820389  \n",
      "36\n"
     ]
    },
    {
     "name": "stderr",
     "output_type": "stream",
     "text": [
      "Info: Params [0.13645001 0.78662927 1.12425197 4.82094254 0.1762087  0.93783285] gave 705.0528017499694\n"
     ]
    },
    {
     "name": "stdout",
     "output_type": "stream",
     "text": [
      "   Drift Rate  Self-excitation Speed  Self-excitation Accuracy  \\\n",
      "0     0.13645               0.786629                  1.124252   \n",
      "\n",
      "   Boundary Separation  Non-decision Time Speed  Non-decision Time Accuracy  \\\n",
      "0             4.820943                 0.176209                    0.937833   \n",
      "\n",
      "   Participant         BIC  \n",
      "0           37  705.052802  \n",
      "37\n"
     ]
    },
    {
     "name": "stderr",
     "output_type": "stream",
     "text": [
      "Info: Params [ 0.3732667  -4.72460799 -8.86538894  0.7785608   0.10014884  0.95463157] gave 1013.3304108626935\n"
     ]
    },
    {
     "name": "stdout",
     "output_type": "stream",
     "text": [
      "   Drift Rate  Self-excitation Speed  Self-excitation Accuracy  \\\n",
      "0    0.373267              -4.724608                 -8.865389   \n",
      "\n",
      "   Boundary Separation  Non-decision Time Speed  Non-decision Time Accuracy  \\\n",
      "0             0.778561                 0.100149                    0.954632   \n",
      "\n",
      "   Participant          BIC  \n",
      "0           38  1013.330411  \n"
     ]
    }
   ],
   "source": [
    "df_all = pd.DataFrame()\n",
    "for i in range(sample_size):\n",
    "    print(i)\n",
    "    path = os.path.join(data_dir+str(i+1)+\".csv\")\n",
    "    df = pd.read_csv(path, sep = \",\")\n",
    "    #df = df[df[\"cond\"]==SAT] # A condition\n",
    "    df = df[df[\"Time\"]<30]\n",
    "\n",
    "    samp = Sample.from_pandas_dataframe(df, rt_column_name=\"Time\", correct_column_name=\"Correct\")\n",
    "    df = get_OUM_result_sub_2k2ter(samp, T_dur = 30)\n",
    "    df_all = pd.concat((df_all,df))\n",
    "    print(df)\n",
    "df_OUM = df_all.copy()\n"
   ]
  },
  {
   "cell_type": "code",
   "execution_count": null,
   "id": "29aed7ec",
   "metadata": {},
   "outputs": [],
   "source": []
  },
  {
   "cell_type": "code",
   "execution_count": 12,
   "id": "3b05a53a",
   "metadata": {},
   "outputs": [],
   "source": [
    "df_OUM.to_csv(\"OUM2k2terresultLerche2017.csv\")"
   ]
  },
  {
   "cell_type": "code",
   "execution_count": null,
   "id": "87e8797e",
   "metadata": {},
   "outputs": [],
   "source": [
    "df_OUM[\"BIC\"].mean()"
   ]
  },
  {
   "cell_type": "code",
   "execution_count": null,
   "id": "1f14d0b2",
   "metadata": {},
   "outputs": [],
   "source": []
  }
 ],
 "metadata": {
  "kernelspec": {
   "display_name": "Python 3 (ipykernel)",
   "language": "python",
   "name": "python3"
  },
  "language_info": {
   "codemirror_mode": {
    "name": "ipython",
    "version": 3
   },
   "file_extension": ".py",
   "mimetype": "text/x-python",
   "name": "python",
   "nbconvert_exporter": "python",
   "pygments_lexer": "ipython3",
   "version": "3.7.15"
  }
 },
 "nbformat": 4,
 "nbformat_minor": 5
}
