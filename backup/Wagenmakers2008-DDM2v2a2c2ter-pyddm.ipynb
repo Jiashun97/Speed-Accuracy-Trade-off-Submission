{
 "cells": [
  {
   "cell_type": "code",
   "execution_count": 1,
   "id": "2cda49de",
   "metadata": {},
   "outputs": [],
   "source": [
    "%run SAT_help_functions.ipynb"
   ]
  },
  {
   "cell_type": "code",
   "execution_count": null,
   "id": "bc081cf9",
   "metadata": {},
   "outputs": [],
   "source": []
  },
  {
   "cell_type": "markdown",
   "id": "4bd26666",
   "metadata": {},
   "source": [
    "## OUM"
   ]
  },
  {
   "cell_type": "code",
   "execution_count": null,
   "id": "9ef6c434",
   "metadata": {},
   "outputs": [],
   "source": []
  },
  {
   "cell_type": "code",
   "execution_count": 2,
   "id": "e776257c",
   "metadata": {},
   "outputs": [],
   "source": [
    "data_dir = \"/Users/wangjiashun/Desktop/Reserach on SAT/datasets/Lexical Decision Data/SpeedAccData.csv\"\n",
    "sample_size = 16\n",
    "SAT_conds = [1,2]"
   ]
  },
  {
   "cell_type": "code",
   "execution_count": 3,
   "id": "4b320f40",
   "metadata": {},
   "outputs": [],
   "source": [
    "\n",
    "class DriftConstantSpeedAcc(Drift):\n",
    "    name = \"DriftConstantSpeedAcc\"\n",
    "    required_parameters = [\"Vspeed\",\"Vacc\"]\n",
    "    required_conditions = ['SAT']\n",
    "        \n",
    "    def get_drift(self, conditions, **kwargs):\n",
    "        if conditions['SAT'] == 1:\n",
    "            return self.Vspeed\n",
    "        elif conditions['SAT'] == 2:\n",
    "            return self.Vacc\n",
    "        else: \n",
    "            print(\"Non-implemented SAT conditions\")\n",
    "            \n",
    "class BoundCollapsingLinearSAT(BoundCollapsingLinear):\n",
    "    name = \"BoundSpeedAcc\"\n",
    "    required_parameters = [\"BSpeed\", \"BAcc\", \"cSpeed\", 'cAcc']\n",
    "    required_conditions = ['SAT']\n",
    "        \n",
    "    def get_bound(self, t, conditions, **kwargs):\n",
    "        if conditions['SAT'] == 1:\n",
    "            return max(self.BSpeed - self.cSpeed*t, 0.)\n",
    "        elif conditions['SAT'] == 2:\n",
    "            return max(self.BAcc - self.cAcc*t, 0.)\n",
    "        else: \n",
    "            print(\"Non-implemented SAT conditions\")\n",
    "\n",
    "\n",
    "class NondecisionSpeedAcc(OverlayNonDecision):\n",
    "    name = \"NondecisionSpeedAcc\"\n",
    "    required_parameters = [\"tSpeed\", 'tAcc']\n",
    "    required_conditions = ['SAT']\n",
    "        \n",
    "    def get_nondecision_time(self, conditions, **kwargs):\n",
    "        if conditions['SAT'] == 1:\n",
    "            return self.tSpeed \n",
    "        elif conditions['SAT'] == 2:\n",
    "            return self.tAcc\n",
    "        else: \n",
    "            print(\"Non-implemented SAT conditions\")"
   ]
  },
  {
   "cell_type": "code",
   "execution_count": null,
   "id": "85c8d242",
   "metadata": {},
   "outputs": [],
   "source": []
  },
  {
   "cell_type": "code",
   "execution_count": 4,
   "id": "fdb13001",
   "metadata": {
    "scrolled": true
   },
   "outputs": [
    {
     "name": "stderr",
     "output_type": "stream",
     "text": [
      "Warning: This function (from_pandas_dataframe()) is deprecated and will be removed in a future version of PyDDM.  Please use the choice_column_name argument instead.\n"
     ]
    },
    {
     "name": "stdout",
     "output_type": "stream",
     "text": [
      "1\n",
      "1\n"
     ]
    },
    {
     "name": "stderr",
     "output_type": "stream",
     "text": [
      "Info: Params [2.9523174  3.58989577 0.50041698 0.56311847 0.         0.5925926\n",
      " 0.35358417 0.37377683] gave -258.84818339132636\n",
      "Warning: This function (from_pandas_dataframe()) is deprecated and will be removed in a future version of PyDDM.  Please use the choice_column_name argument instead.\n"
     ]
    },
    {
     "name": "stdout",
     "output_type": "stream",
     "text": [
      "   Drift Rate Speed  Drift Rate Accuracy  Boundary Separation Speed  \\\n",
      "0          2.952317             3.589896                   0.500417   \n",
      "\n",
      "   Boundary Separation Accuracy  Collapse Speed  Collapse Accuracy  \\\n",
      "0                      0.563118             0.0           0.592593   \n",
      "\n",
      "   Non-decision Time Speed  Non-decision Time Accuracy         BIC  Frequency  \\\n",
      "0                 0.353584                    0.373777 -258.848183          1   \n",
      "\n",
      "   Participant  \n",
      "0            1  \n",
      "2\n",
      "1\n"
     ]
    },
    {
     "name": "stderr",
     "output_type": "stream",
     "text": [
      "Info: Params [2.38896845 2.3073309  0.50805989 0.59301744 0.48648651 0.09090102\n",
      " 0.3787332  0.37394576] gave -131.60174110021666\n",
      "Warning: This function (from_pandas_dataframe()) is deprecated and will be removed in a future version of PyDDM.  Please use the choice_column_name argument instead.\n"
     ]
    },
    {
     "name": "stdout",
     "output_type": "stream",
     "text": [
      "   Drift Rate Speed  Drift Rate Accuracy  Boundary Separation Speed  \\\n",
      "0          2.388968             2.307331                    0.50806   \n",
      "\n",
      "   Boundary Separation Accuracy  Collapse Speed  Collapse Accuracy  \\\n",
      "0                      0.593017        0.486487           0.090901   \n",
      "\n",
      "   Non-decision Time Speed  Non-decision Time Accuracy         BIC  Frequency  \\\n",
      "0                 0.378733                    0.373946 -131.601741          2   \n",
      "\n",
      "   Participant  \n",
      "0            1  \n",
      "3\n",
      "1\n"
     ]
    },
    {
     "name": "stderr",
     "output_type": "stream",
     "text": [
      "Info: Params [0.89339483 1.763282   0.54791925 0.53058616 0.28947378 0.0681818\n",
      " 0.34584372 0.39607299] gave -13.165774244354274\n",
      "Warning: This function (from_pandas_dataframe()) is deprecated and will be removed in a future version of PyDDM.  Please use the choice_column_name argument instead.\n"
     ]
    },
    {
     "name": "stdout",
     "output_type": "stream",
     "text": [
      "   Drift Rate Speed  Drift Rate Accuracy  Boundary Separation Speed  \\\n",
      "0          0.893395             1.763282                   0.547919   \n",
      "\n",
      "   Boundary Separation Accuracy  Collapse Speed  Collapse Accuracy  \\\n",
      "0                      0.530586        0.289474           0.068182   \n",
      "\n",
      "   Non-decision Time Speed  Non-decision Time Accuracy        BIC  Frequency  \\\n",
      "0                 0.345844                    0.396073 -13.165774          3   \n",
      "\n",
      "   Participant  \n",
      "0            1  \n",
      "4\n",
      "1\n"
     ]
    },
    {
     "name": "stderr",
     "output_type": "stream",
     "text": [
      "Info: Params [2.41325670e+00 2.91234949e+00 5.07046563e-01 5.06270437e-01\n",
      " 1.94534862e-04 9.25942311e-02 3.44219448e-01 3.95635024e-01] gave -160.88542842242526\n",
      "Warning: This function (from_pandas_dataframe()) is deprecated and will be removed in a future version of PyDDM.  Please use the choice_column_name argument instead.\n"
     ]
    },
    {
     "name": "stdout",
     "output_type": "stream",
     "text": [
      "   Drift Rate Speed  Drift Rate Accuracy  Boundary Separation Speed  \\\n",
      "0          2.413257             2.912349                   0.507047   \n",
      "\n",
      "   Boundary Separation Accuracy  Collapse Speed  Collapse Accuracy  \\\n",
      "0                       0.50627        0.000195           0.092594   \n",
      "\n",
      "   Non-decision Time Speed  Non-decision Time Accuracy         BIC  Frequency  \\\n",
      "0                 0.344219                    0.395635 -160.885428          4   \n",
      "\n",
      "   Participant  \n",
      "0            1  \n",
      "5\n",
      "1\n"
     ]
    },
    {
     "name": "stderr",
     "output_type": "stream",
     "text": [
      "Info: Params [3.12007442 2.56053232 0.55298177 0.61020143 0.0266076  0.34666667\n",
      " 0.35610108 0.364638  ] gave -164.14951917910724\n",
      "Warning: This function (from_pandas_dataframe()) is deprecated and will be removed in a future version of PyDDM.  Please use the choice_column_name argument instead.\n"
     ]
    },
    {
     "name": "stdout",
     "output_type": "stream",
     "text": [
      "   Drift Rate Speed  Drift Rate Accuracy  Boundary Separation Speed  \\\n",
      "0          3.120074             2.560532                   0.552982   \n",
      "\n",
      "   Boundary Separation Accuracy  Collapse Speed  Collapse Accuracy  \\\n",
      "0                      0.610201        0.026608           0.346667   \n",
      "\n",
      "   Non-decision Time Speed  Non-decision Time Accuracy         BIC  Frequency  \\\n",
      "0                 0.356101                    0.364638 -164.149519          5   \n",
      "\n",
      "   Participant  \n",
      "0            1  \n",
      "6\n",
      "1\n"
     ]
    },
    {
     "name": "stderr",
     "output_type": "stream",
     "text": [
      "Info: Params [3.4877053  2.9071791  0.55536795 0.59727833 0.15242541 0.01262391\n",
      " 0.34043215 0.36687845] gave -213.87359205055202\n",
      "Warning: This function (from_pandas_dataframe()) is deprecated and will be removed in a future version of PyDDM.  Please use the choice_column_name argument instead.\n"
     ]
    },
    {
     "name": "stdout",
     "output_type": "stream",
     "text": [
      "   Drift Rate Speed  Drift Rate Accuracy  Boundary Separation Speed  \\\n",
      "0          3.487705             2.907179                   0.555368   \n",
      "\n",
      "   Boundary Separation Accuracy  Collapse Speed  Collapse Accuracy  \\\n",
      "0                      0.597278        0.152425           0.012624   \n",
      "\n",
      "   Non-decision Time Speed  Non-decision Time Accuracy         BIC  Frequency  \\\n",
      "0                 0.340432                    0.366878 -213.873592          6   \n",
      "\n",
      "   Participant  \n",
      "0            1  \n",
      "1\n",
      "3\n"
     ]
    },
    {
     "name": "stderr",
     "output_type": "stream",
     "text": [
      "Info: Params [2.76575184 3.2464636  0.52011988 0.82194481 0.23368922 0.32499911\n",
      " 0.32369147 0.40769496] gave -183.74551090690204\n",
      "Warning: This function (from_pandas_dataframe()) is deprecated and will be removed in a future version of PyDDM.  Please use the choice_column_name argument instead.\n"
     ]
    },
    {
     "name": "stdout",
     "output_type": "stream",
     "text": [
      "   Drift Rate Speed  Drift Rate Accuracy  Boundary Separation Speed  \\\n",
      "0          2.765752             3.246464                    0.52012   \n",
      "\n",
      "   Boundary Separation Accuracy  Collapse Speed  Collapse Accuracy  \\\n",
      "0                      0.821945        0.233689           0.324999   \n",
      "\n",
      "   Non-decision Time Speed  Non-decision Time Accuracy         BIC  Frequency  \\\n",
      "0                 0.323691                    0.407695 -183.745511          1   \n",
      "\n",
      "   Participant  \n",
      "0            3  \n",
      "2\n",
      "3\n"
     ]
    },
    {
     "name": "stderr",
     "output_type": "stream",
     "text": [
      "Info: Params [1.75423972 2.15142773 0.50447153 0.86636108 0.03448527 0.08333325\n",
      " 0.33113642 0.36375718] gave -29.65044075324277\n",
      "Warning: This function (from_pandas_dataframe()) is deprecated and will be removed in a future version of PyDDM.  Please use the choice_column_name argument instead.\n"
     ]
    },
    {
     "name": "stdout",
     "output_type": "stream",
     "text": [
      "   Drift Rate Speed  Drift Rate Accuracy  Boundary Separation Speed  \\\n",
      "0           1.75424             2.151428                   0.504472   \n",
      "\n",
      "   Boundary Separation Accuracy  Collapse Speed  Collapse Accuracy  \\\n",
      "0                      0.866361        0.034485           0.083333   \n",
      "\n",
      "   Non-decision Time Speed  Non-decision Time Accuracy        BIC  Frequency  \\\n",
      "0                 0.331136                    0.363757 -29.650441          2   \n",
      "\n",
      "   Participant  \n",
      "0            3  \n",
      "3\n",
      "3\n"
     ]
    },
    {
     "name": "stderr",
     "output_type": "stream",
     "text": [
      "Info: Params [1.59434423 1.65860241 0.51870253 0.76191644 0.01709159 0.11029411\n",
      " 0.32122966 0.41910896] gave 28.177997715775\n",
      "Warning: This function (from_pandas_dataframe()) is deprecated and will be removed in a future version of PyDDM.  Please use the choice_column_name argument instead.\n"
     ]
    },
    {
     "name": "stdout",
     "output_type": "stream",
     "text": [
      "   Drift Rate Speed  Drift Rate Accuracy  Boundary Separation Speed  \\\n",
      "0          1.594344             1.658602                   0.518703   \n",
      "\n",
      "   Boundary Separation Accuracy  Collapse Speed  Collapse Accuracy  \\\n",
      "0                      0.761916        0.017092           0.110294   \n",
      "\n",
      "   Non-decision Time Speed  Non-decision Time Accuracy        BIC  Frequency  \\\n",
      "0                  0.32123                    0.419109  28.177998          3   \n",
      "\n",
      "   Participant  \n",
      "0            3  \n",
      "4\n",
      "3\n"
     ]
    },
    {
     "name": "stderr",
     "output_type": "stream",
     "text": [
      "Info: Params [1.76671286 2.10989445 0.91346791 1.88967542 1.07399688 0.87096774\n",
      " 0.26208376 0.10126896] gave -1.9069765782783819\n",
      "Warning: This function (from_pandas_dataframe()) is deprecated and will be removed in a future version of PyDDM.  Please use the choice_column_name argument instead.\n"
     ]
    },
    {
     "name": "stdout",
     "output_type": "stream",
     "text": [
      "   Drift Rate Speed  Drift Rate Accuracy  Boundary Separation Speed  \\\n",
      "0          1.766713             2.109894                   0.913468   \n",
      "\n",
      "   Boundary Separation Accuracy  Collapse Speed  Collapse Accuracy  \\\n",
      "0                      1.889675        1.073997           0.870968   \n",
      "\n",
      "   Non-decision Time Speed  Non-decision Time Accuracy       BIC  Frequency  \\\n",
      "0                 0.262084                    0.101269 -1.906977          4   \n",
      "\n",
      "   Participant  \n",
      "0            3  \n",
      "5\n",
      "3\n"
     ]
    },
    {
     "name": "stderr",
     "output_type": "stream",
     "text": [
      "Info: Params [2.92574617 1.86331728 0.7390006  0.93961374 0.57894736 0.05881472\n",
      " 0.29133543 0.34203537] gave -42.88113298089824\n",
      "Warning: This function (from_pandas_dataframe()) is deprecated and will be removed in a future version of PyDDM.  Please use the choice_column_name argument instead.\n"
     ]
    },
    {
     "name": "stdout",
     "output_type": "stream",
     "text": [
      "   Drift Rate Speed  Drift Rate Accuracy  Boundary Separation Speed  \\\n",
      "0          2.925746             1.863317                   0.739001   \n",
      "\n",
      "   Boundary Separation Accuracy  Collapse Speed  Collapse Accuracy  \\\n",
      "0                      0.939614        0.578947           0.058815   \n",
      "\n",
      "   Non-decision Time Speed  Non-decision Time Accuracy        BIC  Frequency  \\\n",
      "0                 0.291335                    0.342035 -42.881133          5   \n",
      "\n",
      "   Participant  \n",
      "0            3  \n",
      "6\n",
      "3\n"
     ]
    },
    {
     "name": "stderr",
     "output_type": "stream",
     "text": [
      "Info: Params [2.59360619 2.27812532 0.70182862 1.03086978 0.64999986 0.11956522\n",
      " 0.32331014 0.33867355] gave -63.48507041762451\n",
      "Warning: This function (from_pandas_dataframe()) is deprecated and will be removed in a future version of PyDDM.  Please use the choice_column_name argument instead.\n"
     ]
    },
    {
     "name": "stdout",
     "output_type": "stream",
     "text": [
      "   Drift Rate Speed  Drift Rate Accuracy  Boundary Separation Speed  \\\n",
      "0          2.593606             2.278125                   0.701829   \n",
      "\n",
      "   Boundary Separation Accuracy  Collapse Speed  Collapse Accuracy  \\\n",
      "0                       1.03087            0.65           0.119565   \n",
      "\n",
      "   Non-decision Time Speed  Non-decision Time Accuracy       BIC  Frequency  \\\n",
      "0                  0.32331                    0.338674 -63.48507          6   \n",
      "\n",
      "   Participant  \n",
      "0            3  \n",
      "1\n",
      "4\n"
     ]
    },
    {
     "name": "stderr",
     "output_type": "stream",
     "text": [
      "Info: Params [4.02808276 3.38557461 0.51016526 0.68956674 0.95706122 0.06359281\n",
      " 0.32247818 0.32890457] gave -298.4533448924989\n",
      "Warning: This function (from_pandas_dataframe()) is deprecated and will be removed in a future version of PyDDM.  Please use the choice_column_name argument instead.\n"
     ]
    },
    {
     "name": "stdout",
     "output_type": "stream",
     "text": [
      "   Drift Rate Speed  Drift Rate Accuracy  Boundary Separation Speed  \\\n",
      "0          4.028083             3.385575                   0.510165   \n",
      "\n",
      "   Boundary Separation Accuracy  Collapse Speed  Collapse Accuracy  \\\n",
      "0                      0.689567        0.957061           0.063593   \n",
      "\n",
      "   Non-decision Time Speed  Non-decision Time Accuracy         BIC  Frequency  \\\n",
      "0                 0.322478                    0.328905 -298.453345          1   \n",
      "\n",
      "   Participant  \n",
      "0            4  \n",
      "2\n",
      "4\n"
     ]
    },
    {
     "name": "stderr",
     "output_type": "stream",
     "text": [
      "Info: Params [2.36877488 3.06929787 0.50795199 0.80659386 0.74999972 0.68421052\n",
      " 0.32114536 0.34718436] gave -221.57203499470188\n",
      "Warning: This function (from_pandas_dataframe()) is deprecated and will be removed in a future version of PyDDM.  Please use the choice_column_name argument instead.\n"
     ]
    },
    {
     "name": "stdout",
     "output_type": "stream",
     "text": [
      "   Drift Rate Speed  Drift Rate Accuracy  Boundary Separation Speed  \\\n",
      "0          2.368775             3.069298                   0.507952   \n",
      "\n",
      "   Boundary Separation Accuracy  Collapse Speed  Collapse Accuracy  \\\n",
      "0                      0.806594            0.75           0.684211   \n",
      "\n",
      "   Non-decision Time Speed  Non-decision Time Accuracy         BIC  Frequency  \\\n",
      "0                 0.321145                    0.347184 -221.572035          2   \n",
      "\n",
      "   Participant  \n",
      "0            4  \n",
      "3\n",
      "4\n"
     ]
    },
    {
     "name": "stderr",
     "output_type": "stream",
     "text": [
      "Info: Params [1.55604384 1.98316345 0.50792443 0.83571081 0.55       0.68332778\n",
      " 0.32380691 0.32331954] gave -93.14573802137816\n",
      "Warning: This function (from_pandas_dataframe()) is deprecated and will be removed in a future version of PyDDM.  Please use the choice_column_name argument instead.\n"
     ]
    },
    {
     "name": "stdout",
     "output_type": "stream",
     "text": [
      "   Drift Rate Speed  Drift Rate Accuracy  Boundary Separation Speed  \\\n",
      "0          1.556044             1.983163                   0.507924   \n",
      "\n",
      "   Boundary Separation Accuracy  Collapse Speed  Collapse Accuracy  \\\n",
      "0                      0.835711            0.55           0.683328   \n",
      "\n",
      "   Non-decision Time Speed  Non-decision Time Accuracy        BIC  Frequency  \\\n",
      "0                 0.323807                     0.32332 -93.145738          3   \n",
      "\n",
      "   Participant  \n",
      "0            4  \n",
      "4\n",
      "4\n"
     ]
    },
    {
     "name": "stderr",
     "output_type": "stream",
     "text": [
      "Info: Params [3.5572759  2.97045234 0.53488229 0.76622561 0.88888892 0.11459926\n",
      " 0.34254688 0.33046285] gave -231.81205452789834\n",
      "Warning: This function (from_pandas_dataframe()) is deprecated and will be removed in a future version of PyDDM.  Please use the choice_column_name argument instead.\n"
     ]
    },
    {
     "name": "stdout",
     "output_type": "stream",
     "text": [
      "   Drift Rate Speed  Drift Rate Accuracy  Boundary Separation Speed  \\\n",
      "0          3.557276             2.970452                   0.534882   \n",
      "\n",
      "   Boundary Separation Accuracy  Collapse Speed  Collapse Accuracy  \\\n",
      "0                      0.766226        0.888889           0.114599   \n",
      "\n",
      "   Non-decision Time Speed  Non-decision Time Accuracy         BIC  Frequency  \\\n",
      "0                 0.342547                    0.330463 -231.812055          4   \n",
      "\n",
      "   Participant  \n",
      "0            4  \n",
      "5\n",
      "4\n"
     ]
    },
    {
     "name": "stderr",
     "output_type": "stream",
     "text": [
      "Info: Params [3.89950842 2.31282944 0.50078635 0.70233208 0.15999202 0.42102685\n",
      " 0.33572164 0.34812266] gave -198.2558024717468\n",
      "Warning: This function (from_pandas_dataframe()) is deprecated and will be removed in a future version of PyDDM.  Please use the choice_column_name argument instead.\n"
     ]
    },
    {
     "name": "stdout",
     "output_type": "stream",
     "text": [
      "   Drift Rate Speed  Drift Rate Accuracy  Boundary Separation Speed  \\\n",
      "0          3.899508             2.312829                   0.500786   \n",
      "\n",
      "   Boundary Separation Accuracy  Collapse Speed  Collapse Accuracy  \\\n",
      "0                      0.702332        0.159992           0.421027   \n",
      "\n",
      "   Non-decision Time Speed  Non-decision Time Accuracy         BIC  Frequency  \\\n",
      "0                 0.335722                    0.348123 -198.255802          5   \n",
      "\n",
      "   Participant  \n",
      "0            4  \n",
      "6\n",
      "4\n"
     ]
    },
    {
     "name": "stderr",
     "output_type": "stream",
     "text": [
      "Info: Params [3.38316778 2.26034998 0.50787201 0.59918838 0.57142856 0.03049785\n",
      " 0.32730648 0.35723839] gave -189.21917695737025\n",
      "Warning: This function (from_pandas_dataframe()) is deprecated and will be removed in a future version of PyDDM.  Please use the choice_column_name argument instead.\n"
     ]
    },
    {
     "name": "stdout",
     "output_type": "stream",
     "text": [
      "   Drift Rate Speed  Drift Rate Accuracy  Boundary Separation Speed  \\\n",
      "0          3.383168              2.26035                   0.507872   \n",
      "\n",
      "   Boundary Separation Accuracy  Collapse Speed  Collapse Accuracy  \\\n",
      "0                      0.599188        0.571429           0.030498   \n",
      "\n",
      "   Non-decision Time Speed  Non-decision Time Accuracy         BIC  Frequency  \\\n",
      "0                 0.327306                    0.357238 -189.219177          6   \n",
      "\n",
      "   Participant  \n",
      "0            4  \n",
      "1\n",
      "5\n"
     ]
    },
    {
     "name": "stderr",
     "output_type": "stream",
     "text": [
      "Info: Params [4.43213947 3.90382805 0.50255155 1.01491899 0.38096    0.13888888\n",
      " 0.32604254 0.34972636] gave -287.78431448023105\n",
      "Warning: This function (from_pandas_dataframe()) is deprecated and will be removed in a future version of PyDDM.  Please use the choice_column_name argument instead.\n"
     ]
    },
    {
     "name": "stdout",
     "output_type": "stream",
     "text": [
      "   Drift Rate Speed  Drift Rate Accuracy  Boundary Separation Speed  \\\n",
      "0          4.432139             3.903828                   0.502552   \n",
      "\n",
      "   Boundary Separation Accuracy  Collapse Speed  Collapse Accuracy  \\\n",
      "0                      1.014919         0.38096           0.138889   \n",
      "\n",
      "   Non-decision Time Speed  Non-decision Time Accuracy         BIC  Frequency  \\\n",
      "0                 0.326043                    0.349726 -287.784314          1   \n",
      "\n",
      "   Participant  \n",
      "0            5  \n",
      "2\n",
      "5\n"
     ]
    },
    {
     "name": "stderr",
     "output_type": "stream",
     "text": [
      "Info: Params [3.60154234 2.28268429 0.65203699 0.79556254 1.4106995  0.82857142\n",
      " 0.33255789 0.40161313] gave -216.21621769319245\n",
      "Warning: This function (from_pandas_dataframe()) is deprecated and will be removed in a future version of PyDDM.  Please use the choice_column_name argument instead.\n"
     ]
    },
    {
     "name": "stdout",
     "output_type": "stream",
     "text": [
      "   Drift Rate Speed  Drift Rate Accuracy  Boundary Separation Speed  \\\n",
      "0          3.601542             2.282684                   0.652037   \n",
      "\n",
      "   Boundary Separation Accuracy  Collapse Speed  Collapse Accuracy  \\\n",
      "0                      0.795563          1.4107           0.828571   \n",
      "\n",
      "   Non-decision Time Speed  Non-decision Time Accuracy         BIC  Frequency  \\\n",
      "0                 0.332558                    0.401613 -216.216218          2   \n",
      "\n",
      "   Participant  \n",
      "0            5  \n",
      "3\n",
      "5\n"
     ]
    },
    {
     "name": "stderr",
     "output_type": "stream",
     "text": [
      "Info: Params [2.2044133  2.8617333  0.60160845 0.88105848 0.92857144 0.99331433\n",
      " 0.33426332 0.42888503] gave -188.7284859600514\n",
      "Warning: This function (from_pandas_dataframe()) is deprecated and will be removed in a future version of PyDDM.  Please use the choice_column_name argument instead.\n"
     ]
    },
    {
     "name": "stdout",
     "output_type": "stream",
     "text": [
      "   Drift Rate Speed  Drift Rate Accuracy  Boundary Separation Speed  \\\n",
      "0          2.204413             2.861733                   0.601608   \n",
      "\n",
      "   Boundary Separation Accuracy  Collapse Speed  Collapse Accuracy  \\\n",
      "0                      0.881058        0.928571           0.993314   \n",
      "\n",
      "   Non-decision Time Speed  Non-decision Time Accuracy         BIC  Frequency  \\\n",
      "0                 0.334263                    0.428885 -188.728486          3   \n",
      "\n",
      "   Participant  \n",
      "0            5  \n",
      "4\n",
      "5\n"
     ]
    },
    {
     "name": "stderr",
     "output_type": "stream",
     "text": [
      "Info: Params [5.1580246  3.1941509  0.69997551 0.79554401 0.17388148 0.29412559\n",
      " 0.34730546 0.41589298] gave -263.0741080206987\n",
      "Warning: This function (from_pandas_dataframe()) is deprecated and will be removed in a future version of PyDDM.  Please use the choice_column_name argument instead.\n"
     ]
    },
    {
     "name": "stdout",
     "output_type": "stream",
     "text": [
      "   Drift Rate Speed  Drift Rate Accuracy  Boundary Separation Speed  \\\n",
      "0          5.158025             3.194151                   0.699976   \n",
      "\n",
      "   Boundary Separation Accuracy  Collapse Speed  Collapse Accuracy  \\\n",
      "0                      0.795544        0.173881           0.294126   \n",
      "\n",
      "   Non-decision Time Speed  Non-decision Time Accuracy         BIC  Frequency  \\\n",
      "0                 0.347305                    0.415893 -263.074108          4   \n",
      "\n",
      "   Participant  \n",
      "0            5  \n",
      "5\n",
      "5\n"
     ]
    },
    {
     "name": "stderr",
     "output_type": "stream",
     "text": [
      "Info: Params [4.42946732 2.56435965 0.50045177 0.6426621  1.12315925 0.\n",
      " 0.37331258 0.47246338] gave -220.65126355339987\n",
      "Warning: This function (from_pandas_dataframe()) is deprecated and will be removed in a future version of PyDDM.  Please use the choice_column_name argument instead.\n"
     ]
    },
    {
     "name": "stdout",
     "output_type": "stream",
     "text": [
      "   Drift Rate Speed  Drift Rate Accuracy  Boundary Separation Speed  \\\n",
      "0          4.429467              2.56436                   0.500452   \n",
      "\n",
      "   Boundary Separation Accuracy  Collapse Speed  Collapse Accuracy  \\\n",
      "0                      0.642662        1.123159                0.0   \n",
      "\n",
      "   Non-decision Time Speed  Non-decision Time Accuracy         BIC  Frequency  \\\n",
      "0                 0.373313                    0.472463 -220.651264          5   \n",
      "\n",
      "   Participant  \n",
      "0            5  \n",
      "6\n",
      "5\n"
     ]
    },
    {
     "name": "stderr",
     "output_type": "stream",
     "text": [
      "Info: Params [2.71760038 2.53091091 1.07536579 0.67575118 3.27857604 0.18032791\n",
      " 0.28162689 0.43742833] gave -208.40972405915784\n",
      "Warning: This function (from_pandas_dataframe()) is deprecated and will be removed in a future version of PyDDM.  Please use the choice_column_name argument instead.\n"
     ]
    },
    {
     "name": "stdout",
     "output_type": "stream",
     "text": [
      "   Drift Rate Speed  Drift Rate Accuracy  Boundary Separation Speed  \\\n",
      "0            2.7176             2.530911                   1.075366   \n",
      "\n",
      "   Boundary Separation Accuracy  Collapse Speed  Collapse Accuracy  \\\n",
      "0                      0.675751        3.278576           0.180328   \n",
      "\n",
      "   Non-decision Time Speed  Non-decision Time Accuracy         BIC  Frequency  \\\n",
      "0                 0.281627                    0.437428 -208.409724          6   \n",
      "\n",
      "   Participant  \n",
      "0            5  \n",
      "1\n",
      "6\n"
     ]
    },
    {
     "name": "stderr",
     "output_type": "stream",
     "text": [
      "Info: Params [1.97855309 3.0196893  0.83580657 0.60043251 2.08695652 0.11111132\n",
      " 0.24026497 0.37928325] gave -205.45385813027474\n",
      "Warning: This function (from_pandas_dataframe()) is deprecated and will be removed in a future version of PyDDM.  Please use the choice_column_name argument instead.\n"
     ]
    },
    {
     "name": "stdout",
     "output_type": "stream",
     "text": [
      "   Drift Rate Speed  Drift Rate Accuracy  Boundary Separation Speed  \\\n",
      "0          1.978553             3.019689                   0.835807   \n",
      "\n",
      "   Boundary Separation Accuracy  Collapse Speed  Collapse Accuracy  \\\n",
      "0                      0.600433        2.086957           0.111111   \n",
      "\n",
      "   Non-decision Time Speed  Non-decision Time Accuracy         BIC  Frequency  \\\n",
      "0                 0.240265                    0.379283 -205.453858          1   \n",
      "\n",
      "   Participant  \n",
      "0            6  \n",
      "2\n",
      "6\n"
     ]
    },
    {
     "name": "stderr",
     "output_type": "stream",
     "text": [
      "Info: Params [1.21505846 2.28975814 0.74197961 0.60199402 1.0952381  0.06000019\n",
      " 0.21690527 0.42103253] gave -80.68504206923893\n",
      "Warning: This function (from_pandas_dataframe()) is deprecated and will be removed in a future version of PyDDM.  Please use the choice_column_name argument instead.\n"
     ]
    },
    {
     "name": "stdout",
     "output_type": "stream",
     "text": [
      "   Drift Rate Speed  Drift Rate Accuracy  Boundary Separation Speed  \\\n",
      "0          1.215058             2.289758                    0.74198   \n",
      "\n",
      "   Boundary Separation Accuracy  Collapse Speed  Collapse Accuracy  \\\n",
      "0                      0.601994        1.095238               0.06   \n",
      "\n",
      "   Non-decision Time Speed  Non-decision Time Accuracy        BIC  Frequency  \\\n",
      "0                 0.216905                    0.421033 -80.685042          2   \n",
      "\n",
      "   Participant  \n",
      "0            6  \n",
      "3\n",
      "6\n"
     ]
    },
    {
     "name": "stderr",
     "output_type": "stream",
     "text": [
      "Info: Params [0.5047423  1.58595277 0.76305627 0.56953724 0.90243902 0.\n",
      " 0.19280266 0.43437841] gave 22.69138231985454\n",
      "Warning: This function (from_pandas_dataframe()) is deprecated and will be removed in a future version of PyDDM.  Please use the choice_column_name argument instead.\n"
     ]
    },
    {
     "name": "stdout",
     "output_type": "stream",
     "text": [
      "   Drift Rate Speed  Drift Rate Accuracy  Boundary Separation Speed  \\\n",
      "0          0.504742             1.585953                   0.763056   \n",
      "\n",
      "   Boundary Separation Accuracy  Collapse Speed  Collapse Accuracy  \\\n",
      "0                      0.569537        0.902439                0.0   \n",
      "\n",
      "   Non-decision Time Speed  Non-decision Time Accuracy        BIC  Frequency  \\\n",
      "0                 0.192803                    0.434378  22.691382          3   \n",
      "\n",
      "   Participant  \n",
      "0            6  \n",
      "4\n",
      "6\n"
     ]
    },
    {
     "name": "stderr",
     "output_type": "stream",
     "text": [
      "Info: Params [0.89405595 2.40427868 0.76591338 0.88040045 1.00479515 0.40625002\n",
      " 0.20680305 0.37029513] gave -41.65410521161151\n",
      "Warning: This function (from_pandas_dataframe()) is deprecated and will be removed in a future version of PyDDM.  Please use the choice_column_name argument instead.\n"
     ]
    },
    {
     "name": "stdout",
     "output_type": "stream",
     "text": [
      "   Drift Rate Speed  Drift Rate Accuracy  Boundary Separation Speed  \\\n",
      "0          0.894056             2.404279                   0.765913   \n",
      "\n",
      "   Boundary Separation Accuracy  Collapse Speed  Collapse Accuracy  \\\n",
      "0                        0.8804        1.004795            0.40625   \n",
      "\n",
      "   Non-decision Time Speed  Non-decision Time Accuracy        BIC  Frequency  \\\n",
      "0                 0.206803                    0.370295 -41.654105          4   \n",
      "\n",
      "   Participant  \n",
      "0            6  \n",
      "5\n",
      "6\n"
     ]
    },
    {
     "name": "stderr",
     "output_type": "stream",
     "text": [
      "Info: Params [0.95724766 2.32208595 0.57943101 0.63043149 0.52819733 0.\n",
      " 0.27639831 0.40879705] gave -42.27251911326948\n",
      "Warning: This function (from_pandas_dataframe()) is deprecated and will be removed in a future version of PyDDM.  Please use the choice_column_name argument instead.\n"
     ]
    },
    {
     "name": "stdout",
     "output_type": "stream",
     "text": [
      "   Drift Rate Speed  Drift Rate Accuracy  Boundary Separation Speed  \\\n",
      "0          0.957248             2.322086                   0.579431   \n",
      "\n",
      "   Boundary Separation Accuracy  Collapse Speed  Collapse Accuracy  \\\n",
      "0                      0.630431        0.528197                0.0   \n",
      "\n",
      "   Non-decision Time Speed  Non-decision Time Accuracy        BIC  Frequency  \\\n",
      "0                 0.276398                    0.408797 -42.272519          5   \n",
      "\n",
      "   Participant  \n",
      "0            6  \n",
      "6\n",
      "6\n"
     ]
    },
    {
     "name": "stderr",
     "output_type": "stream",
     "text": [
      "Info: Params [0.86172102 2.50637253 0.77531634 0.79372725 0.61805516 0.39393939\n",
      " 0.1670073  0.35261286] gave -31.41930024162162\n",
      "Warning: This function (from_pandas_dataframe()) is deprecated and will be removed in a future version of PyDDM.  Please use the choice_column_name argument instead.\n"
     ]
    },
    {
     "name": "stdout",
     "output_type": "stream",
     "text": [
      "   Drift Rate Speed  Drift Rate Accuracy  Boundary Separation Speed  \\\n",
      "0          0.861721             2.506373                   0.775316   \n",
      "\n",
      "   Boundary Separation Accuracy  Collapse Speed  Collapse Accuracy  \\\n",
      "0                      0.793727        0.618055           0.393939   \n",
      "\n",
      "   Non-decision Time Speed  Non-decision Time Accuracy      BIC  Frequency  \\\n",
      "0                 0.167007                    0.352613 -31.4193          6   \n",
      "\n",
      "   Participant  \n",
      "0            6  \n",
      "1\n",
      "7\n"
     ]
    },
    {
     "name": "stderr",
     "output_type": "stream",
     "text": [
      "Info: Params [0.47738476 2.23951724 0.73509007 0.71139969 0.77777769 0.3076923\n",
      " 0.1649915  0.27776436] gave -18.08224739933258\n",
      "Warning: This function (from_pandas_dataframe()) is deprecated and will be removed in a future version of PyDDM.  Please use the choice_column_name argument instead.\n"
     ]
    },
    {
     "name": "stdout",
     "output_type": "stream",
     "text": [
      "   Drift Rate Speed  Drift Rate Accuracy  Boundary Separation Speed  \\\n",
      "0          0.477385             2.239517                    0.73509   \n",
      "\n",
      "   Boundary Separation Accuracy  Collapse Speed  Collapse Accuracy  \\\n",
      "0                        0.7114        0.777778           0.307692   \n",
      "\n",
      "   Non-decision Time Speed  Non-decision Time Accuracy        BIC  Frequency  \\\n",
      "0                 0.164992                    0.277764 -18.082247          1   \n",
      "\n",
      "   Participant  \n",
      "0            7  \n",
      "2\n",
      "7\n"
     ]
    },
    {
     "name": "stderr",
     "output_type": "stream",
     "text": [
      "Info: Params [0.         1.35779765 0.53664909 0.80599487 0.44444276 0.89285705\n",
      " 0.2492723  0.29867566] gave -4.06840089541992\n",
      "Warning: This function (from_pandas_dataframe()) is deprecated and will be removed in a future version of PyDDM.  Please use the choice_column_name argument instead.\n"
     ]
    },
    {
     "name": "stdout",
     "output_type": "stream",
     "text": [
      "   Drift Rate Speed  Drift Rate Accuracy  Boundary Separation Speed  \\\n",
      "0               0.0             1.357798                   0.536649   \n",
      "\n",
      "   Boundary Separation Accuracy  Collapse Speed  Collapse Accuracy  \\\n",
      "0                      0.805995        0.444443           0.892857   \n",
      "\n",
      "   Non-decision Time Speed  Non-decision Time Accuracy       BIC  Frequency  \\\n",
      "0                 0.249272                    0.298676 -4.068401          2   \n",
      "\n",
      "   Participant  \n",
      "0            7  \n",
      "3\n",
      "7\n"
     ]
    },
    {
     "name": "stderr",
     "output_type": "stream",
     "text": [
      "Info: Params [0.         0.68469487 0.99769026 1.12496499 1.60465094 0.98936169\n",
      " 0.14568325 0.18287311] gave 68.98023243466886\n",
      "Warning: This function (from_pandas_dataframe()) is deprecated and will be removed in a future version of PyDDM.  Please use the choice_column_name argument instead.\n"
     ]
    },
    {
     "name": "stdout",
     "output_type": "stream",
     "text": [
      "   Drift Rate Speed  Drift Rate Accuracy  Boundary Separation Speed  \\\n",
      "0               0.0             0.684695                    0.99769   \n",
      "\n",
      "   Boundary Separation Accuracy  Collapse Speed  Collapse Accuracy  \\\n",
      "0                      1.124965        1.604651           0.989362   \n",
      "\n",
      "   Non-decision Time Speed  Non-decision Time Accuracy        BIC  Frequency  \\\n",
      "0                 0.145683                    0.182873  68.980232          3   \n",
      "\n",
      "   Participant  \n",
      "0            7  \n",
      "4\n",
      "7\n"
     ]
    },
    {
     "name": "stderr",
     "output_type": "stream",
     "text": [
      "Info: Params [1.81688188 1.6264261  0.55227016 0.68218009 0.23170734 0.\n",
      " 0.24909438 0.31984648] gave 3.071957362010579\n",
      "Warning: This function (from_pandas_dataframe()) is deprecated and will be removed in a future version of PyDDM.  Please use the choice_column_name argument instead.\n"
     ]
    },
    {
     "name": "stdout",
     "output_type": "stream",
     "text": [
      "   Drift Rate Speed  Drift Rate Accuracy  Boundary Separation Speed  \\\n",
      "0          1.816882             1.626426                    0.55227   \n",
      "\n",
      "   Boundary Separation Accuracy  Collapse Speed  Collapse Accuracy  \\\n",
      "0                       0.68218        0.231707                0.0   \n",
      "\n",
      "   Non-decision Time Speed  Non-decision Time Accuracy       BIC  Frequency  \\\n",
      "0                 0.249094                    0.319846  3.071957          4   \n",
      "\n",
      "   Participant  \n",
      "0            7  \n",
      "5\n",
      "7\n"
     ]
    },
    {
     "name": "stderr",
     "output_type": "stream",
     "text": [
      "Info: Params [2.22317385 1.39089614 0.74463148 0.64403744 1.00425648 0.1641791\n",
      " 0.22698692 0.34965923] gave -39.805117652065775\n",
      "Warning: This function (from_pandas_dataframe()) is deprecated and will be removed in a future version of PyDDM.  Please use the choice_column_name argument instead.\n"
     ]
    },
    {
     "name": "stdout",
     "output_type": "stream",
     "text": [
      "   Drift Rate Speed  Drift Rate Accuracy  Boundary Separation Speed  \\\n",
      "0          2.223174             1.390896                   0.744631   \n",
      "\n",
      "   Boundary Separation Accuracy  Collapse Speed  Collapse Accuracy  \\\n",
      "0                      0.644037        1.004256           0.164179   \n",
      "\n",
      "   Non-decision Time Speed  Non-decision Time Accuracy        BIC  Frequency  \\\n",
      "0                 0.226987                    0.349659 -39.805118          5   \n",
      "\n",
      "   Participant  \n",
      "0            7  \n",
      "6\n",
      "7\n"
     ]
    },
    {
     "name": "stderr",
     "output_type": "stream",
     "text": [
      "Info: Params [1.95468748 1.93393861 0.55624012 0.62247964 0.23863636 0.04443212\n",
      " 0.25135755 0.34393685] gave -47.829125876604834\n",
      "Warning: This function (from_pandas_dataframe()) is deprecated and will be removed in a future version of PyDDM.  Please use the choice_column_name argument instead.\n"
     ]
    },
    {
     "name": "stdout",
     "output_type": "stream",
     "text": [
      "   Drift Rate Speed  Drift Rate Accuracy  Boundary Separation Speed  \\\n",
      "0          1.954687             1.933939                    0.55624   \n",
      "\n",
      "   Boundary Separation Accuracy  Collapse Speed  Collapse Accuracy  \\\n",
      "0                       0.62248        0.238636           0.044432   \n",
      "\n",
      "   Non-decision Time Speed  Non-decision Time Accuracy        BIC  Frequency  \\\n",
      "0                 0.251358                    0.343937 -47.829126          6   \n",
      "\n",
      "   Participant  \n",
      "0            7  \n",
      "1\n",
      "8\n"
     ]
    },
    {
     "name": "stderr",
     "output_type": "stream",
     "text": [
      "Info: Params [0.58376158 1.95422804 0.98671037 0.8596216  1.12195121 0.\n",
      " 0.12695095 0.40420069] gave 63.16670512481335\n",
      "Warning: This function (from_pandas_dataframe()) is deprecated and will be removed in a future version of PyDDM.  Please use the choice_column_name argument instead.\n"
     ]
    },
    {
     "name": "stdout",
     "output_type": "stream",
     "text": [
      "   Drift Rate Speed  Drift Rate Accuracy  Boundary Separation Speed  \\\n",
      "0          0.583762             1.954228                    0.98671   \n",
      "\n",
      "   Boundary Separation Accuracy  Collapse Speed  Collapse Accuracy  \\\n",
      "0                      0.859622        1.121951                0.0   \n",
      "\n",
      "   Non-decision Time Speed  Non-decision Time Accuracy        BIC  Frequency  \\\n",
      "0                 0.126951                    0.404201  63.166705          1   \n",
      "\n",
      "   Participant  \n",
      "0            8  \n",
      "2\n",
      "8\n"
     ]
    },
    {
     "name": "stderr",
     "output_type": "stream",
     "text": [
      "Info: Params [0.14575961 0.90377018 0.80614131 1.17129566 0.63636368 0.31560441\n",
      " 0.1410343  0.31738834] gave 218.86211350317575\n",
      "Warning: This function (from_pandas_dataframe()) is deprecated and will be removed in a future version of PyDDM.  Please use the choice_column_name argument instead.\n"
     ]
    },
    {
     "name": "stdout",
     "output_type": "stream",
     "text": [
      "   Drift Rate Speed  Drift Rate Accuracy  Boundary Separation Speed  \\\n",
      "0           0.14576              0.90377                   0.806141   \n",
      "\n",
      "   Boundary Separation Accuracy  Collapse Speed  Collapse Accuracy  \\\n",
      "0                      1.171296        0.636364           0.315604   \n",
      "\n",
      "   Non-decision Time Speed  Non-decision Time Accuracy         BIC  Frequency  \\\n",
      "0                 0.141034                    0.317388  218.862114          2   \n",
      "\n",
      "   Participant  \n",
      "0            8  \n",
      "3\n",
      "8\n"
     ]
    },
    {
     "name": "stderr",
     "output_type": "stream",
     "text": [
      "Info: Params [0.         0.40275818 0.92631312 1.0493319  0.875      0.2204984\n",
      " 0.14557008 0.28974161] gave 267.1467546202979\n",
      "Warning: This function (from_pandas_dataframe()) is deprecated and will be removed in a future version of PyDDM.  Please use the choice_column_name argument instead.\n"
     ]
    },
    {
     "name": "stdout",
     "output_type": "stream",
     "text": [
      "   Drift Rate Speed  Drift Rate Accuracy  Boundary Separation Speed  \\\n",
      "0               0.0             0.402758                   0.926313   \n",
      "\n",
      "   Boundary Separation Accuracy  Collapse Speed  Collapse Accuracy  \\\n",
      "0                      1.049332           0.875           0.220498   \n",
      "\n",
      "   Non-decision Time Speed  Non-decision Time Accuracy         BIC  Frequency  \\\n",
      "0                  0.14557                    0.289742  267.146755          3   \n",
      "\n",
      "   Participant  \n",
      "0            8  \n",
      "4\n",
      "8\n"
     ]
    },
    {
     "name": "stderr",
     "output_type": "stream",
     "text": [
      "Info: Params [0.54141616 1.02412392 0.73656654 1.23439729 0.44642862 0.18236308\n",
      " 0.17435539 0.22551836] gave 243.7864392942982\n",
      "Warning: This function (from_pandas_dataframe()) is deprecated and will be removed in a future version of PyDDM.  Please use the choice_column_name argument instead.\n"
     ]
    },
    {
     "name": "stdout",
     "output_type": "stream",
     "text": [
      "   Drift Rate Speed  Drift Rate Accuracy  Boundary Separation Speed  \\\n",
      "0          0.541416             1.024124                   0.736567   \n",
      "\n",
      "   Boundary Separation Accuracy  Collapse Speed  Collapse Accuracy  \\\n",
      "0                      1.234397        0.446429           0.182363   \n",
      "\n",
      "   Non-decision Time Speed  Non-decision Time Accuracy         BIC  Frequency  \\\n",
      "0                 0.174355                    0.225518  243.786439          4   \n",
      "\n",
      "   Participant  \n",
      "0            8  \n",
      "5\n",
      "8\n"
     ]
    },
    {
     "name": "stderr",
     "output_type": "stream",
     "text": [
      "Info: Params [0.40951757 1.29053476 0.90331739 1.59627067 1.06818181 0.35416426\n",
      " 0.15608818 0.10404644] gave 172.80968823088085\n",
      "Warning: This function (from_pandas_dataframe()) is deprecated and will be removed in a future version of PyDDM.  Please use the choice_column_name argument instead.\n"
     ]
    },
    {
     "name": "stdout",
     "output_type": "stream",
     "text": [
      "   Drift Rate Speed  Drift Rate Accuracy  Boundary Separation Speed  \\\n",
      "0          0.409518             1.290535                   0.903317   \n",
      "\n",
      "   Boundary Separation Accuracy  Collapse Speed  Collapse Accuracy  \\\n",
      "0                      1.596271        1.068182           0.354164   \n",
      "\n",
      "   Non-decision Time Speed  Non-decision Time Accuracy         BIC  Frequency  \\\n",
      "0                 0.156088                    0.104046  172.809688          5   \n",
      "\n",
      "   Participant  \n",
      "0            8  \n",
      "6\n",
      "8\n"
     ]
    },
    {
     "name": "stderr",
     "output_type": "stream",
     "text": [
      "Info: Params [0.35627055 1.23033956 0.61160781 1.44672368 0.26315789 0.25000002\n",
      " 0.22084272 0.10038005] gave 209.89472439890906\n",
      "Warning: This function (from_pandas_dataframe()) is deprecated and will be removed in a future version of PyDDM.  Please use the choice_column_name argument instead.\n"
     ]
    },
    {
     "name": "stdout",
     "output_type": "stream",
     "text": [
      "   Drift Rate Speed  Drift Rate Accuracy  Boundary Separation Speed  \\\n",
      "0          0.356271              1.23034                   0.611608   \n",
      "\n",
      "   Boundary Separation Accuracy  Collapse Speed  Collapse Accuracy  \\\n",
      "0                      1.446724        0.263158               0.25   \n",
      "\n",
      "   Non-decision Time Speed  Non-decision Time Accuracy         BIC  Frequency  \\\n",
      "0                 0.220843                     0.10038  209.894724          6   \n",
      "\n",
      "   Participant  \n",
      "0            8  \n",
      "1\n",
      "9\n"
     ]
    },
    {
     "name": "stderr",
     "output_type": "stream",
     "text": [
      "Info: Params [3.96982833e+00 2.55501484e+00 5.00415612e-01 7.22868774e-01\n",
      " 8.48778393e-01 2.79644500e-03 3.82288811e-01 3.92785725e-01] gave -250.29630485526576\n",
      "Warning: This function (from_pandas_dataframe()) is deprecated and will be removed in a future version of PyDDM.  Please use the choice_column_name argument instead.\n"
     ]
    },
    {
     "name": "stdout",
     "output_type": "stream",
     "text": [
      "   Drift Rate Speed  Drift Rate Accuracy  Boundary Separation Speed  \\\n",
      "0          3.969828             2.555015                   0.500416   \n",
      "\n",
      "   Boundary Separation Accuracy  Collapse Speed  Collapse Accuracy  \\\n",
      "0                      0.722869        0.848778           0.002796   \n",
      "\n",
      "   Non-decision Time Speed  Non-decision Time Accuracy         BIC  Frequency  \\\n",
      "0                 0.382289                    0.392786 -250.296305          1   \n",
      "\n",
      "   Participant  \n",
      "0            9  \n",
      "2\n",
      "9\n"
     ]
    },
    {
     "name": "stderr",
     "output_type": "stream",
     "text": [
      "Info: Params [2.04653248 1.73764573 0.50141565 0.85600463 0.48837208 0.\n",
      " 0.38217153 0.38303135] gave -14.779487110496717\n",
      "Warning: This function (from_pandas_dataframe()) is deprecated and will be removed in a future version of PyDDM.  Please use the choice_column_name argument instead.\n"
     ]
    },
    {
     "name": "stdout",
     "output_type": "stream",
     "text": [
      "   Drift Rate Speed  Drift Rate Accuracy  Boundary Separation Speed  \\\n",
      "0          2.046532             1.737646                   0.501416   \n",
      "\n",
      "   Boundary Separation Accuracy  Collapse Speed  Collapse Accuracy  \\\n",
      "0                      0.856005        0.488372                0.0   \n",
      "\n",
      "   Non-decision Time Speed  Non-decision Time Accuracy        BIC  Frequency  \\\n",
      "0                 0.382172                    0.383031 -14.779487          2   \n",
      "\n",
      "   Participant  \n",
      "0            9  \n",
      "3\n",
      "9\n"
     ]
    },
    {
     "name": "stderr",
     "output_type": "stream",
     "text": [
      "Info: Params [0.84159763 1.27604838 0.54193084 0.730869   0.79481347 0.\n",
      " 0.38275184 0.41560318] gave 44.15598141018209\n",
      "Warning: This function (from_pandas_dataframe()) is deprecated and will be removed in a future version of PyDDM.  Please use the choice_column_name argument instead.\n"
     ]
    },
    {
     "name": "stdout",
     "output_type": "stream",
     "text": [
      "   Drift Rate Speed  Drift Rate Accuracy  Boundary Separation Speed  \\\n",
      "0          0.841598             1.276048                   0.541931   \n",
      "\n",
      "   Boundary Separation Accuracy  Collapse Speed  Collapse Accuracy  \\\n",
      "0                      0.730869        0.794813                0.0   \n",
      "\n",
      "   Non-decision Time Speed  Non-decision Time Accuracy        BIC  Frequency  \\\n",
      "0                 0.382752                    0.415603  44.155981          3   \n",
      "\n",
      "   Participant  \n",
      "0            9  \n",
      "4\n",
      "9\n"
     ]
    },
    {
     "name": "stderr",
     "output_type": "stream",
     "text": [
      "Info: Params [3.29488914 2.10152377 0.50470973 0.74824635 0.         0.\n",
      " 0.38593358 0.42370358] gave -111.99965442863424\n",
      "Warning: This function (from_pandas_dataframe()) is deprecated and will be removed in a future version of PyDDM.  Please use the choice_column_name argument instead.\n"
     ]
    },
    {
     "name": "stdout",
     "output_type": "stream",
     "text": [
      "   Drift Rate Speed  Drift Rate Accuracy  Boundary Separation Speed  \\\n",
      "0          3.294889             2.101524                    0.50471   \n",
      "\n",
      "   Boundary Separation Accuracy  Collapse Speed  Collapse Accuracy  \\\n",
      "0                      0.748246             0.0                0.0   \n",
      "\n",
      "   Non-decision Time Speed  Non-decision Time Accuracy         BIC  Frequency  \\\n",
      "0                 0.385934                    0.423704 -111.999654          4   \n",
      "\n",
      "   Participant  \n",
      "0            9  \n",
      "5\n",
      "9\n"
     ]
    },
    {
     "name": "stderr",
     "output_type": "stream",
     "text": [
      "Info: Params [3.18202209 1.71699083 0.5077254  1.17467169 0.30194578 0.34146341\n",
      " 0.39628225 0.24396316] gave -63.35034225052194\n",
      "Warning: This function (from_pandas_dataframe()) is deprecated and will be removed in a future version of PyDDM.  Please use the choice_column_name argument instead.\n"
     ]
    },
    {
     "name": "stdout",
     "output_type": "stream",
     "text": [
      "   Drift Rate Speed  Drift Rate Accuracy  Boundary Separation Speed  \\\n",
      "0          3.182022             1.716991                   0.507725   \n",
      "\n",
      "   Boundary Separation Accuracy  Collapse Speed  Collapse Accuracy  \\\n",
      "0                      1.174672        0.301946           0.341463   \n",
      "\n",
      "   Non-decision Time Speed  Non-decision Time Accuracy        BIC  Frequency  \\\n",
      "0                 0.396282                    0.243963 -63.350342          5   \n",
      "\n",
      "   Participant  \n",
      "0            9  \n",
      "6\n",
      "9\n"
     ]
    },
    {
     "name": "stderr",
     "output_type": "stream",
     "text": [
      "Info: Params [3.11631118 2.38458573 0.50517124 0.78264412 0.51515167 0.\n",
      " 0.39181378 0.41654229] gave -152.58097855652846\n",
      "Warning: This function (from_pandas_dataframe()) is deprecated and will be removed in a future version of PyDDM.  Please use the choice_column_name argument instead.\n"
     ]
    },
    {
     "name": "stdout",
     "output_type": "stream",
     "text": [
      "   Drift Rate Speed  Drift Rate Accuracy  Boundary Separation Speed  \\\n",
      "0          3.116311             2.384586                   0.505171   \n",
      "\n",
      "   Boundary Separation Accuracy  Collapse Speed  Collapse Accuracy  \\\n",
      "0                      0.782644        0.515152                0.0   \n",
      "\n",
      "   Non-decision Time Speed  Non-decision Time Accuracy         BIC  Frequency  \\\n",
      "0                 0.391814                    0.416542 -152.580979          6   \n",
      "\n",
      "   Participant  \n",
      "0            9  \n",
      "1\n",
      "10\n"
     ]
    },
    {
     "name": "stderr",
     "output_type": "stream",
     "text": [
      "Info: Params [2.75781657e+00 4.10575831e+00 5.14649512e-01 6.89992237e-01\n",
      " 2.21934533e-01 4.23514727e-04 2.99529480e-01 3.60255106e-01] gave -536.7980199107024\n",
      "Warning: This function (from_pandas_dataframe()) is deprecated and will be removed in a future version of PyDDM.  Please use the choice_column_name argument instead.\n"
     ]
    },
    {
     "name": "stdout",
     "output_type": "stream",
     "text": [
      "   Drift Rate Speed  Drift Rate Accuracy  Boundary Separation Speed  \\\n",
      "0          2.757817             4.105758                    0.51465   \n",
      "\n",
      "   Boundary Separation Accuracy  Collapse Speed  Collapse Accuracy  \\\n",
      "0                      0.689992        0.221935           0.000424   \n",
      "\n",
      "   Non-decision Time Speed  Non-decision Time Accuracy        BIC  Frequency  \\\n",
      "0                 0.299529                    0.360255 -536.79802          1   \n",
      "\n",
      "   Participant  \n",
      "0           10  \n",
      "2\n",
      "10\n"
     ]
    },
    {
     "name": "stderr",
     "output_type": "stream",
     "text": [
      "Info: Params [1.37684759e+00 2.28879434e+00 6.56578791e-01 7.23761276e-01\n",
      " 8.31338380e-01 1.73563278e-03 2.75613222e-01 3.51838541e-01] gave -224.85487035602918\n",
      "Warning: This function (from_pandas_dataframe()) is deprecated and will be removed in a future version of PyDDM.  Please use the choice_column_name argument instead.\n"
     ]
    },
    {
     "name": "stdout",
     "output_type": "stream",
     "text": [
      "   Drift Rate Speed  Drift Rate Accuracy  Boundary Separation Speed  \\\n",
      "0          1.376848             2.288794                   0.656579   \n",
      "\n",
      "   Boundary Separation Accuracy  Collapse Speed  Collapse Accuracy  \\\n",
      "0                      0.723761        0.831338           0.001736   \n",
      "\n",
      "   Non-decision Time Speed  Non-decision Time Accuracy        BIC  Frequency  \\\n",
      "0                 0.275613                    0.351839 -224.85487          2   \n",
      "\n",
      "   Participant  \n",
      "0           10  \n",
      "3\n",
      "10\n"
     ]
    },
    {
     "name": "stderr",
     "output_type": "stream",
     "text": [
      "Info: Params [0.65187175 1.8680231  0.50262996 0.60810117 0.26470109 0.0773699\n",
      " 0.28870016 0.38343166] gave -55.92367632137674\n",
      "Warning: This function (from_pandas_dataframe()) is deprecated and will be removed in a future version of PyDDM.  Please use the choice_column_name argument instead.\n"
     ]
    },
    {
     "name": "stdout",
     "output_type": "stream",
     "text": [
      "   Drift Rate Speed  Drift Rate Accuracy  Boundary Separation Speed  \\\n",
      "0          0.651872             1.868023                    0.50263   \n",
      "\n",
      "   Boundary Separation Accuracy  Collapse Speed  Collapse Accuracy  \\\n",
      "0                      0.608101        0.264701            0.07737   \n",
      "\n",
      "   Non-decision Time Speed  Non-decision Time Accuracy        BIC  Frequency  \\\n",
      "0                   0.2887                    0.383432 -55.923676          3   \n",
      "\n",
      "   Participant  \n",
      "0           10  \n",
      "4\n",
      "10\n"
     ]
    },
    {
     "name": "stderr",
     "output_type": "stream",
     "text": [
      "Info: Params [2.19958772 2.48686608 0.54405183 0.73320203 0.15692941 0.00434476\n",
      " 0.2704801  0.35181989] gave -211.02684337318993\n",
      "Warning: This function (from_pandas_dataframe()) is deprecated and will be removed in a future version of PyDDM.  Please use the choice_column_name argument instead.\n"
     ]
    },
    {
     "name": "stdout",
     "output_type": "stream",
     "text": [
      "   Drift Rate Speed  Drift Rate Accuracy  Boundary Separation Speed  \\\n",
      "0          2.199588             2.486866                   0.544052   \n",
      "\n",
      "   Boundary Separation Accuracy  Collapse Speed  Collapse Accuracy  \\\n",
      "0                      0.733202        0.156929           0.004345   \n",
      "\n",
      "   Non-decision Time Speed  Non-decision Time Accuracy         BIC  Frequency  \\\n",
      "0                  0.27048                     0.35182 -211.026843          4   \n",
      "\n",
      "   Participant  \n",
      "0           10  \n",
      "5\n",
      "10\n"
     ]
    },
    {
     "name": "stderr",
     "output_type": "stream",
     "text": [
      "Info: Params [2.37959441e+00 2.29545252e+00 6.94408991e-01 8.89029193e-01\n",
      " 9.06486069e-01 1.18925822e-03 2.61612308e-01 3.36483247e-01] gave -228.81415815637317\n",
      "Warning: This function (from_pandas_dataframe()) is deprecated and will be removed in a future version of PyDDM.  Please use the choice_column_name argument instead.\n"
     ]
    },
    {
     "name": "stdout",
     "output_type": "stream",
     "text": [
      "   Drift Rate Speed  Drift Rate Accuracy  Boundary Separation Speed  \\\n",
      "0          2.379594             2.295453                   0.694409   \n",
      "\n",
      "   Boundary Separation Accuracy  Collapse Speed  Collapse Accuracy  \\\n",
      "0                      0.889029        0.906486           0.001189   \n",
      "\n",
      "   Non-decision Time Speed  Non-decision Time Accuracy         BIC  Frequency  \\\n",
      "0                 0.261612                    0.336483 -228.814158          5   \n",
      "\n",
      "   Participant  \n",
      "0           10  \n",
      "6\n",
      "10\n"
     ]
    },
    {
     "name": "stderr",
     "output_type": "stream",
     "text": [
      "Info: Params [2.57849731 2.62326486 0.53058875 0.91317286 0.08695665 0.52021091\n",
      " 0.2809855  0.33262042] gave -289.43802727752495\n",
      "Warning: This function (from_pandas_dataframe()) is deprecated and will be removed in a future version of PyDDM.  Please use the choice_column_name argument instead.\n"
     ]
    },
    {
     "name": "stdout",
     "output_type": "stream",
     "text": [
      "   Drift Rate Speed  Drift Rate Accuracy  Boundary Separation Speed  \\\n",
      "0          2.578497             2.623265                   0.530589   \n",
      "\n",
      "   Boundary Separation Accuracy  Collapse Speed  Collapse Accuracy  \\\n",
      "0                      0.913173        0.086957           0.520211   \n",
      "\n",
      "   Non-decision Time Speed  Non-decision Time Accuracy         BIC  Frequency  \\\n",
      "0                 0.280986                     0.33262 -289.438027          6   \n",
      "\n",
      "   Participant  \n",
      "0           10  \n",
      "1\n",
      "11\n"
     ]
    },
    {
     "name": "stderr",
     "output_type": "stream",
     "text": [
      "Info: Params [3.39866959 4.06968008 0.60816573 0.63729638 1.22221965 0.28571427\n",
      " 0.33721188 0.37226207] gave -641.0121700840647\n",
      "Warning: This function (from_pandas_dataframe()) is deprecated and will be removed in a future version of PyDDM.  Please use the choice_column_name argument instead.\n"
     ]
    },
    {
     "name": "stdout",
     "output_type": "stream",
     "text": [
      "   Drift Rate Speed  Drift Rate Accuracy  Boundary Separation Speed  \\\n",
      "0           3.39867              4.06968                   0.608166   \n",
      "\n",
      "   Boundary Separation Accuracy  Collapse Speed  Collapse Accuracy  \\\n",
      "0                      0.637296         1.22222           0.285714   \n",
      "\n",
      "   Non-decision Time Speed  Non-decision Time Accuracy        BIC  Frequency  \\\n",
      "0                 0.337212                    0.372262 -641.01217          1   \n",
      "\n",
      "   Participant  \n",
      "0           11  \n",
      "2\n",
      "11\n"
     ]
    },
    {
     "name": "stderr",
     "output_type": "stream",
     "text": [
      "Info: Params [1.10809501 2.45629233 0.50720373 0.59956192 0.45282461 0.28205128\n",
      " 0.34302816 0.40741023] gave -243.83573937393726\n",
      "Warning: This function (from_pandas_dataframe()) is deprecated and will be removed in a future version of PyDDM.  Please use the choice_column_name argument instead.\n"
     ]
    },
    {
     "name": "stdout",
     "output_type": "stream",
     "text": [
      "   Drift Rate Speed  Drift Rate Accuracy  Boundary Separation Speed  \\\n",
      "0          1.108095             2.456292                   0.507204   \n",
      "\n",
      "   Boundary Separation Accuracy  Collapse Speed  Collapse Accuracy  \\\n",
      "0                      0.599562        0.452825           0.282051   \n",
      "\n",
      "   Non-decision Time Speed  Non-decision Time Accuracy         BIC  Frequency  \\\n",
      "0                 0.343028                     0.40741 -243.835739          2   \n",
      "\n",
      "   Participant  \n",
      "0           11  \n",
      "3\n",
      "11\n"
     ]
    },
    {
     "name": "stderr",
     "output_type": "stream",
     "text": [
      "Info: Params [0.77158295 1.38548865 0.51113745 0.63018806 0.66666104 0.16666666\n",
      " 0.33988902 0.38164613] gave -62.071939069077956\n",
      "Warning: This function (from_pandas_dataframe()) is deprecated and will be removed in a future version of PyDDM.  Please use the choice_column_name argument instead.\n"
     ]
    },
    {
     "name": "stdout",
     "output_type": "stream",
     "text": [
      "   Drift Rate Speed  Drift Rate Accuracy  Boundary Separation Speed  \\\n",
      "0          0.771583             1.385489                   0.511137   \n",
      "\n",
      "   Boundary Separation Accuracy  Collapse Speed  Collapse Accuracy  \\\n",
      "0                      0.630188        0.666661           0.166667   \n",
      "\n",
      "   Non-decision Time Speed  Non-decision Time Accuracy        BIC  Frequency  \\\n",
      "0                 0.339889                    0.381646 -62.071939          3   \n",
      "\n",
      "   Participant  \n",
      "0           11  \n",
      "4\n",
      "11\n"
     ]
    },
    {
     "name": "stderr",
     "output_type": "stream",
     "text": [
      "Info: Params [1.50590937 2.45797271 0.53419162 0.85902198 0.48633988 0.35294117\n",
      " 0.34497769 0.35374925] gave -190.74549810363692\n",
      "Warning: This function (from_pandas_dataframe()) is deprecated and will be removed in a future version of PyDDM.  Please use the choice_column_name argument instead.\n"
     ]
    },
    {
     "name": "stdout",
     "output_type": "stream",
     "text": [
      "   Drift Rate Speed  Drift Rate Accuracy  Boundary Separation Speed  \\\n",
      "0          1.505909             2.457973                   0.534192   \n",
      "\n",
      "   Boundary Separation Accuracy  Collapse Speed  Collapse Accuracy  \\\n",
      "0                      0.859022         0.48634           0.352941   \n",
      "\n",
      "   Non-decision Time Speed  Non-decision Time Accuracy         BIC  Frequency  \\\n",
      "0                 0.344978                    0.353749 -190.745498          4   \n",
      "\n",
      "   Participant  \n",
      "0           11  \n",
      "5\n",
      "11\n"
     ]
    },
    {
     "name": "stderr",
     "output_type": "stream",
     "text": [
      "Info: Params [2.02833166 2.64373276 0.56265164 0.85715315 0.62963001 0.55000021\n",
      " 0.3376419  0.38728771] gave -307.3764867860651\n",
      "Warning: This function (from_pandas_dataframe()) is deprecated and will be removed in a future version of PyDDM.  Please use the choice_column_name argument instead.\n"
     ]
    },
    {
     "name": "stdout",
     "output_type": "stream",
     "text": [
      "   Drift Rate Speed  Drift Rate Accuracy  Boundary Separation Speed  \\\n",
      "0          2.028332             2.643733                   0.562652   \n",
      "\n",
      "   Boundary Separation Accuracy  Collapse Speed  Collapse Accuracy  \\\n",
      "0                      0.857153         0.62963               0.55   \n",
      "\n",
      "   Non-decision Time Speed  Non-decision Time Accuracy         BIC  Frequency  \\\n",
      "0                 0.337642                    0.387288 -307.376487          5   \n",
      "\n",
      "   Participant  \n",
      "0           11  \n",
      "6\n",
      "11\n"
     ]
    },
    {
     "name": "stderr",
     "output_type": "stream",
     "text": [
      "Info: Params [2.39495783 2.40229265 0.52452008 0.71562669 0.3731343  0.20984688\n",
      " 0.3527573  0.38941093] gave -281.12310665184316\n",
      "Warning: This function (from_pandas_dataframe()) is deprecated and will be removed in a future version of PyDDM.  Please use the choice_column_name argument instead.\n"
     ]
    },
    {
     "name": "stdout",
     "output_type": "stream",
     "text": [
      "   Drift Rate Speed  Drift Rate Accuracy  Boundary Separation Speed  \\\n",
      "0          2.394958             2.402293                    0.52452   \n",
      "\n",
      "   Boundary Separation Accuracy  Collapse Speed  Collapse Accuracy  \\\n",
      "0                      0.715627        0.373134           0.209847   \n",
      "\n",
      "   Non-decision Time Speed  Non-decision Time Accuracy         BIC  Frequency  \\\n",
      "0                 0.352757                    0.389411 -281.123107          6   \n",
      "\n",
      "   Participant  \n",
      "0           11  \n",
      "1\n",
      "12\n"
     ]
    },
    {
     "name": "stderr",
     "output_type": "stream",
     "text": [
      "Info: Params [1.98330338 2.45294789 1.00578356 0.72006185 1.24849897 0.\n",
      " 0.20424603 0.31659453] gave -211.23356987376187\n",
      "Warning: This function (from_pandas_dataframe()) is deprecated and will be removed in a future version of PyDDM.  Please use the choice_column_name argument instead.\n"
     ]
    },
    {
     "name": "stdout",
     "output_type": "stream",
     "text": [
      "   Drift Rate Speed  Drift Rate Accuracy  Boundary Separation Speed  \\\n",
      "0          1.983303             2.452948                   1.005784   \n",
      "\n",
      "   Boundary Separation Accuracy  Collapse Speed  Collapse Accuracy  \\\n",
      "0                      0.720062        1.248499                0.0   \n",
      "\n",
      "   Non-decision Time Speed  Non-decision Time Accuracy        BIC  Frequency  \\\n",
      "0                 0.204246                    0.316595 -211.23357          1   \n",
      "\n",
      "   Participant  \n",
      "0           12  \n",
      "2\n",
      "12\n"
     ]
    },
    {
     "name": "stderr",
     "output_type": "stream",
     "text": [
      "Info: Params [1.5032773  1.26092173 0.5504907  0.67393324 0.3452381  0.\n",
      " 0.32118478 0.36338718] gave 57.396628192782245\n",
      "Warning: This function (from_pandas_dataframe()) is deprecated and will be removed in a future version of PyDDM.  Please use the choice_column_name argument instead.\n"
     ]
    },
    {
     "name": "stdout",
     "output_type": "stream",
     "text": [
      "   Drift Rate Speed  Drift Rate Accuracy  Boundary Separation Speed  \\\n",
      "0          1.503277             1.260922                   0.550491   \n",
      "\n",
      "   Boundary Separation Accuracy  Collapse Speed  Collapse Accuracy  \\\n",
      "0                      0.673933        0.345238                0.0   \n",
      "\n",
      "   Non-decision Time Speed  Non-decision Time Accuracy        BIC  Frequency  \\\n",
      "0                 0.321185                    0.363387  57.396628          2   \n",
      "\n",
      "   Participant  \n",
      "0           12  \n",
      "3\n",
      "12\n"
     ]
    },
    {
     "name": "stderr",
     "output_type": "stream",
     "text": [
      "Info: Params [0.43068167 0.84892642 0.61733929 0.69895205 0.54286066 0.\n",
      " 0.28161514 0.33497483] gave 220.22321123033242\n",
      "Warning: This function (from_pandas_dataframe()) is deprecated and will be removed in a future version of PyDDM.  Please use the choice_column_name argument instead.\n"
     ]
    },
    {
     "name": "stdout",
     "output_type": "stream",
     "text": [
      "   Drift Rate Speed  Drift Rate Accuracy  Boundary Separation Speed  \\\n",
      "0          0.430682             0.848926                   0.617339   \n",
      "\n",
      "   Boundary Separation Accuracy  Collapse Speed  Collapse Accuracy  \\\n",
      "0                      0.698952        0.542861                0.0   \n",
      "\n",
      "   Non-decision Time Speed  Non-decision Time Accuracy         BIC  Frequency  \\\n",
      "0                 0.281615                    0.334975  220.223211          3   \n",
      "\n",
      "   Participant  \n",
      "0           12  \n",
      "4\n",
      "12\n"
     ]
    },
    {
     "name": "stderr",
     "output_type": "stream",
     "text": [
      "Info: Params [1.41865688 1.52466062 0.83763342 0.76829641 0.18738509 0.04737264\n",
      " 0.19467052 0.31452354] gave 168.00571209241363\n",
      "Warning: This function (from_pandas_dataframe()) is deprecated and will be removed in a future version of PyDDM.  Please use the choice_column_name argument instead.\n"
     ]
    },
    {
     "name": "stdout",
     "output_type": "stream",
     "text": [
      "   Drift Rate Speed  Drift Rate Accuracy  Boundary Separation Speed  \\\n",
      "0          1.418657             1.524661                   0.837633   \n",
      "\n",
      "   Boundary Separation Accuracy  Collapse Speed  Collapse Accuracy  \\\n",
      "0                      0.768296        0.187385           0.047373   \n",
      "\n",
      "   Non-decision Time Speed  Non-decision Time Accuracy         BIC  Frequency  \\\n",
      "0                 0.194671                    0.314524  168.005712          4   \n",
      "\n",
      "   Participant  \n",
      "0           12  \n",
      "5\n",
      "12\n"
     ]
    },
    {
     "name": "stderr",
     "output_type": "stream",
     "text": [
      "Info: Params [1.22902445 1.66191022 1.28798936 0.78643456 1.7076923  0.\n",
      " 0.16519244 0.33494291] gave 40.612247322716264\n",
      "Warning: This function (from_pandas_dataframe()) is deprecated and will be removed in a future version of PyDDM.  Please use the choice_column_name argument instead.\n"
     ]
    },
    {
     "name": "stdout",
     "output_type": "stream",
     "text": [
      "   Drift Rate Speed  Drift Rate Accuracy  Boundary Separation Speed  \\\n",
      "0          1.229024              1.66191                   1.287989   \n",
      "\n",
      "   Boundary Separation Accuracy  Collapse Speed  Collapse Accuracy  \\\n",
      "0                      0.786435        1.707692                0.0   \n",
      "\n",
      "   Non-decision Time Speed  Non-decision Time Accuracy        BIC  Frequency  \\\n",
      "0                 0.165192                    0.334943  40.612247          5   \n",
      "\n",
      "   Participant  \n",
      "0           12  \n",
      "6\n",
      "12\n"
     ]
    },
    {
     "name": "stderr",
     "output_type": "stream",
     "text": [
      "Info: Params [1.66149145 1.46731551 0.83256601 0.94615394 0.64130422 0.16853933\n",
      " 0.25232258 0.25799844] gave 100.26336939866248\n",
      "Warning: This function (from_pandas_dataframe()) is deprecated and will be removed in a future version of PyDDM.  Please use the choice_column_name argument instead.\n"
     ]
    },
    {
     "name": "stdout",
     "output_type": "stream",
     "text": [
      "   Drift Rate Speed  Drift Rate Accuracy  Boundary Separation Speed  \\\n",
      "0          1.661491             1.467316                   0.832566   \n",
      "\n",
      "   Boundary Separation Accuracy  Collapse Speed  Collapse Accuracy  \\\n",
      "0                      0.946154        0.641304           0.168539   \n",
      "\n",
      "   Non-decision Time Speed  Non-decision Time Accuracy         BIC  Frequency  \\\n",
      "0                 0.252323                    0.257998  100.263369          6   \n",
      "\n",
      "   Participant  \n",
      "0           12  \n",
      "1\n",
      "13\n"
     ]
    },
    {
     "name": "stderr",
     "output_type": "stream",
     "text": [
      "Info: Params [1.91896652e+00 1.87520941e+00 6.55452114e-01 7.76079580e-01\n",
      " 5.81864631e-01 1.01397804e-03 3.11507399e-01 3.52781398e-01] gave -85.61317952400142\n",
      "Warning: This function (from_pandas_dataframe()) is deprecated and will be removed in a future version of PyDDM.  Please use the choice_column_name argument instead.\n"
     ]
    },
    {
     "name": "stdout",
     "output_type": "stream",
     "text": [
      "   Drift Rate Speed  Drift Rate Accuracy  Boundary Separation Speed  \\\n",
      "0          1.918967             1.875209                   0.655452   \n",
      "\n",
      "   Boundary Separation Accuracy  Collapse Speed  Collapse Accuracy  \\\n",
      "0                       0.77608        0.581865           0.001014   \n",
      "\n",
      "   Non-decision Time Speed  Non-decision Time Accuracy       BIC  Frequency  \\\n",
      "0                 0.311507                    0.352781 -85.61318          1   \n",
      "\n",
      "   Participant  \n",
      "0           13  \n",
      "2\n",
      "13\n"
     ]
    },
    {
     "name": "stderr",
     "output_type": "stream",
     "text": [
      "Info: Params [1.42424351 1.66120818 0.54426811 0.77161993 0.17086203 0.109409\n",
      " 0.34303875 0.40792163] gave 20.58114457152223\n",
      "Warning: This function (from_pandas_dataframe()) is deprecated and will be removed in a future version of PyDDM.  Please use the choice_column_name argument instead.\n"
     ]
    },
    {
     "name": "stdout",
     "output_type": "stream",
     "text": [
      "   Drift Rate Speed  Drift Rate Accuracy  Boundary Separation Speed  \\\n",
      "0          1.424244             1.661208                   0.544268   \n",
      "\n",
      "   Boundary Separation Accuracy  Collapse Speed  Collapse Accuracy  \\\n",
      "0                       0.77162        0.170862           0.109409   \n",
      "\n",
      "   Non-decision Time Speed  Non-decision Time Accuracy        BIC  Frequency  \\\n",
      "0                 0.343039                    0.407922  20.581145          2   \n",
      "\n",
      "   Participant  \n",
      "0           13  \n",
      "3\n",
      "13\n"
     ]
    },
    {
     "name": "stderr",
     "output_type": "stream",
     "text": [
      "Info: Params [0.49931238 0.83635603 0.54967665 0.75693845 0.2        0.00581189\n",
      " 0.34076443 0.36535063] gave 268.3209101340597\n",
      "Warning: This function (from_pandas_dataframe()) is deprecated and will be removed in a future version of PyDDM.  Please use the choice_column_name argument instead.\n"
     ]
    },
    {
     "name": "stdout",
     "output_type": "stream",
     "text": [
      "   Drift Rate Speed  Drift Rate Accuracy  Boundary Separation Speed  \\\n",
      "0          0.499312             0.836356                   0.549677   \n",
      "\n",
      "   Boundary Separation Accuracy  Collapse Speed  Collapse Accuracy  \\\n",
      "0                      0.756938             0.2           0.005812   \n",
      "\n",
      "   Non-decision Time Speed  Non-decision Time Accuracy        BIC  Frequency  \\\n",
      "0                 0.340764                    0.365351  268.32091          3   \n",
      "\n",
      "   Participant  \n",
      "0           13  \n",
      "4\n",
      "13\n"
     ]
    },
    {
     "name": "stderr",
     "output_type": "stream",
     "text": [
      "Info: Params [1.40520493e+00 1.59031728e+00 5.75837205e-01 8.48848309e-01\n",
      " 1.38826774e-01 4.75614037e-04 3.39791790e-01 3.62832988e-01] gave 97.38657357390326\n",
      "Warning: This function (from_pandas_dataframe()) is deprecated and will be removed in a future version of PyDDM.  Please use the choice_column_name argument instead.\n"
     ]
    },
    {
     "name": "stdout",
     "output_type": "stream",
     "text": [
      "   Drift Rate Speed  Drift Rate Accuracy  Boundary Separation Speed  \\\n",
      "0          1.405205             1.590317                   0.575837   \n",
      "\n",
      "   Boundary Separation Accuracy  Collapse Speed  Collapse Accuracy  \\\n",
      "0                      0.848848        0.138827           0.000476   \n",
      "\n",
      "   Non-decision Time Speed  Non-decision Time Accuracy        BIC  Frequency  \\\n",
      "0                 0.339792                    0.362833  97.386574          4   \n",
      "\n",
      "   Participant  \n",
      "0           13  \n",
      "5\n",
      "13\n"
     ]
    },
    {
     "name": "stderr",
     "output_type": "stream",
     "text": [
      "Info: Params [1.85328536 1.57696667 0.63702763 0.81295272 0.32758622 0.\n",
      " 0.33550106 0.39380717] gave 46.71757605719161\n",
      "Warning: This function (from_pandas_dataframe()) is deprecated and will be removed in a future version of PyDDM.  Please use the choice_column_name argument instead.\n"
     ]
    },
    {
     "name": "stdout",
     "output_type": "stream",
     "text": [
      "   Drift Rate Speed  Drift Rate Accuracy  Boundary Separation Speed  \\\n",
      "0          1.853285             1.576967                   0.637028   \n",
      "\n",
      "   Boundary Separation Accuracy  Collapse Speed  Collapse Accuracy  \\\n",
      "0                      0.812953        0.327586                0.0   \n",
      "\n",
      "   Non-decision Time Speed  Non-decision Time Accuracy        BIC  Frequency  \\\n",
      "0                 0.335501                    0.393807  46.717576          5   \n",
      "\n",
      "   Participant  \n",
      "0           13  \n",
      "6\n",
      "13\n"
     ]
    },
    {
     "name": "stderr",
     "output_type": "stream",
     "text": [
      "Info: Params [1.42033613e+00 1.50485988e+00 6.65857987e-01 7.66870912e-01\n",
      " 5.45792101e-04 6.01751550e-04 3.02334756e-01 3.71576792e-01] gave 108.52109308646979\n",
      "Warning: This function (from_pandas_dataframe()) is deprecated and will be removed in a future version of PyDDM.  Please use the choice_column_name argument instead.\n"
     ]
    },
    {
     "name": "stdout",
     "output_type": "stream",
     "text": [
      "   Drift Rate Speed  Drift Rate Accuracy  Boundary Separation Speed  \\\n",
      "0          1.420336              1.50486                   0.665858   \n",
      "\n",
      "   Boundary Separation Accuracy  Collapse Speed  Collapse Accuracy  \\\n",
      "0                      0.766871        0.000546           0.000602   \n",
      "\n",
      "   Non-decision Time Speed  Non-decision Time Accuracy         BIC  Frequency  \\\n",
      "0                 0.302335                    0.371577  108.521093          6   \n",
      "\n",
      "   Participant  \n",
      "0           13  \n",
      "1\n",
      "14\n"
     ]
    },
    {
     "name": "stderr",
     "output_type": "stream",
     "text": [
      "Info: Params [3.02552212e+00 2.00033178e+00 7.29918598e-01 8.41036343e-01\n",
      " 7.69849000e-01 2.81748007e-03 2.80145005e-01 3.20375838e-01] gave -294.26543568244165\n",
      "Warning: This function (from_pandas_dataframe()) is deprecated and will be removed in a future version of PyDDM.  Please use the choice_column_name argument instead.\n"
     ]
    },
    {
     "name": "stdout",
     "output_type": "stream",
     "text": [
      "   Drift Rate Speed  Drift Rate Accuracy  Boundary Separation Speed  \\\n",
      "0          3.025522             2.000332                   0.729919   \n",
      "\n",
      "   Boundary Separation Accuracy  Collapse Speed  Collapse Accuracy  \\\n",
      "0                      0.841036        0.769849           0.002817   \n",
      "\n",
      "   Non-decision Time Speed  Non-decision Time Accuracy         BIC  Frequency  \\\n",
      "0                 0.280145                    0.320376 -294.265436          1   \n",
      "\n",
      "   Participant  \n",
      "0           14  \n",
      "2\n",
      "14\n"
     ]
    },
    {
     "name": "stderr",
     "output_type": "stream",
     "text": [
      "Info: Params [2.03393196 1.66519784 0.6749065  0.7915772  0.70000557 0.\n",
      " 0.31416763 0.38032358] gave -28.191498473939227\n",
      "Warning: This function (from_pandas_dataframe()) is deprecated and will be removed in a future version of PyDDM.  Please use the choice_column_name argument instead.\n"
     ]
    },
    {
     "name": "stdout",
     "output_type": "stream",
     "text": [
      "   Drift Rate Speed  Drift Rate Accuracy  Boundary Separation Speed  \\\n",
      "0          2.033932             1.665198                   0.674906   \n",
      "\n",
      "   Boundary Separation Accuracy  Collapse Speed  Collapse Accuracy  \\\n",
      "0                      0.791577        0.700006                0.0   \n",
      "\n",
      "   Non-decision Time Speed  Non-decision Time Accuracy        BIC  Frequency  \\\n",
      "0                 0.314168                    0.380324 -28.191498          2   \n",
      "\n",
      "   Participant  \n",
      "0           14  \n",
      "3\n",
      "14\n"
     ]
    },
    {
     "name": "stderr",
     "output_type": "stream",
     "text": [
      "Info: Params [1.40943809 1.12610952 0.57320592 0.90760633 0.44117646 0.0758107\n",
      " 0.34238276 0.33511008] gave 169.51654513555815\n",
      "Warning: This function (from_pandas_dataframe()) is deprecated and will be removed in a future version of PyDDM.  Please use the choice_column_name argument instead.\n"
     ]
    },
    {
     "name": "stdout",
     "output_type": "stream",
     "text": [
      "   Drift Rate Speed  Drift Rate Accuracy  Boundary Separation Speed  \\\n",
      "0          1.409438              1.12611                   0.573206   \n",
      "\n",
      "   Boundary Separation Accuracy  Collapse Speed  Collapse Accuracy  \\\n",
      "0                      0.907606        0.441176           0.075811   \n",
      "\n",
      "   Non-decision Time Speed  Non-decision Time Accuracy         BIC  Frequency  \\\n",
      "0                 0.342383                     0.33511  169.516545          3   \n",
      "\n",
      "   Participant  \n",
      "0           14  \n",
      "4\n",
      "14\n"
     ]
    },
    {
     "name": "stderr",
     "output_type": "stream",
     "text": [
      "Info: Params [2.46035181 2.06265503 0.65866896 0.86745401 0.56181197 0.\n",
      " 0.37618773 0.4419091 ] gave -50.90966275043073\n",
      "Warning: This function (from_pandas_dataframe()) is deprecated and will be removed in a future version of PyDDM.  Please use the choice_column_name argument instead.\n"
     ]
    },
    {
     "name": "stdout",
     "output_type": "stream",
     "text": [
      "   Drift Rate Speed  Drift Rate Accuracy  Boundary Separation Speed  \\\n",
      "0          2.460352             2.062655                   0.658669   \n",
      "\n",
      "   Boundary Separation Accuracy  Collapse Speed  Collapse Accuracy  \\\n",
      "0                      0.867454        0.561812                0.0   \n",
      "\n",
      "   Non-decision Time Speed  Non-decision Time Accuracy        BIC  Frequency  \\\n",
      "0                 0.376188                    0.441909 -50.909663          4   \n",
      "\n",
      "   Participant  \n",
      "0           14  \n",
      "5\n",
      "14\n"
     ]
    },
    {
     "name": "stderr",
     "output_type": "stream",
     "text": [
      "Info: Params [1.59311038 1.45751543 0.77940532 1.53508912 0.60577693 0.21374047\n",
      " 0.29292839 0.15182829] gave 194.89085513926807\n",
      "Warning: This function (from_pandas_dataframe()) is deprecated and will be removed in a future version of PyDDM.  Please use the choice_column_name argument instead.\n"
     ]
    },
    {
     "name": "stdout",
     "output_type": "stream",
     "text": [
      "   Drift Rate Speed  Drift Rate Accuracy  Boundary Separation Speed  \\\n",
      "0           1.59311             1.457515                   0.779405   \n",
      "\n",
      "   Boundary Separation Accuracy  Collapse Speed  Collapse Accuracy  \\\n",
      "0                      1.535089        0.605777            0.21374   \n",
      "\n",
      "   Non-decision Time Speed  Non-decision Time Accuracy         BIC  Frequency  \\\n",
      "0                 0.292928                    0.151828  194.890855          5   \n",
      "\n",
      "   Participant  \n",
      "0           14  \n",
      "6\n",
      "14\n"
     ]
    },
    {
     "name": "stderr",
     "output_type": "stream",
     "text": [
      "Info: Params [2.07344153e+00 1.61800234e+00 5.82389564e-01 1.02754472e+00\n",
      " 1.46411623e-01 2.96934520e-05 3.46153933e-01 3.92700642e-01] gave 51.750292724441934\n",
      "Warning: This function (from_pandas_dataframe()) is deprecated and will be removed in a future version of PyDDM.  Please use the choice_column_name argument instead.\n"
     ]
    },
    {
     "name": "stdout",
     "output_type": "stream",
     "text": [
      "   Drift Rate Speed  Drift Rate Accuracy  Boundary Separation Speed  \\\n",
      "0          2.073442             1.618002                    0.58239   \n",
      "\n",
      "   Boundary Separation Accuracy  Collapse Speed  Collapse Accuracy  \\\n",
      "0                      1.027545        0.146412            0.00003   \n",
      "\n",
      "   Non-decision Time Speed  Non-decision Time Accuracy        BIC  Frequency  \\\n",
      "0                 0.346154                    0.392701  51.750293          6   \n",
      "\n",
      "   Participant  \n",
      "0           14  \n",
      "1\n",
      "15\n"
     ]
    },
    {
     "name": "stderr",
     "output_type": "stream",
     "text": [
      "Info: Params [2.34116035 2.32757288 0.57558806 1.00946616 0.39534847 0.23077016\n",
      " 0.3338266  0.35796996] gave -193.73293338518602\n",
      "Warning: This function (from_pandas_dataframe()) is deprecated and will be removed in a future version of PyDDM.  Please use the choice_column_name argument instead.\n"
     ]
    },
    {
     "name": "stdout",
     "output_type": "stream",
     "text": [
      "   Drift Rate Speed  Drift Rate Accuracy  Boundary Separation Speed  \\\n",
      "0           2.34116             2.327573                   0.575588   \n",
      "\n",
      "   Boundary Separation Accuracy  Collapse Speed  Collapse Accuracy  \\\n",
      "0                      1.009466        0.395348            0.23077   \n",
      "\n",
      "   Non-decision Time Speed  Non-decision Time Accuracy         BIC  Frequency  \\\n",
      "0                 0.333827                     0.35797 -193.732933          1   \n",
      "\n",
      "   Participant  \n",
      "0           15  \n",
      "2\n",
      "15\n"
     ]
    },
    {
     "name": "stderr",
     "output_type": "stream",
     "text": [
      "Info: Params [1.66425749 2.02798685 0.72488303 0.87075803 0.64864863 0.\n",
      " 0.30624902 0.42345479] gave -25.9190984140007\n",
      "Warning: This function (from_pandas_dataframe()) is deprecated and will be removed in a future version of PyDDM.  Please use the choice_column_name argument instead.\n"
     ]
    },
    {
     "name": "stdout",
     "output_type": "stream",
     "text": [
      "   Drift Rate Speed  Drift Rate Accuracy  Boundary Separation Speed  \\\n",
      "0          1.664257             2.027987                   0.724883   \n",
      "\n",
      "   Boundary Separation Accuracy  Collapse Speed  Collapse Accuracy  \\\n",
      "0                      0.870758        0.648649                0.0   \n",
      "\n",
      "   Non-decision Time Speed  Non-decision Time Accuracy        BIC  Frequency  \\\n",
      "0                 0.306249                    0.423455 -25.919098          2   \n",
      "\n",
      "   Participant  \n",
      "0           15  \n",
      "3\n",
      "15\n"
     ]
    },
    {
     "name": "stderr",
     "output_type": "stream",
     "text": [
      "Info: Params [0.74924052 1.1601876  0.70098704 0.88800732 1.04167179 0.14285713\n",
      " 0.31732159 0.43988553] gave 138.77283836389716\n",
      "Warning: This function (from_pandas_dataframe()) is deprecated and will be removed in a future version of PyDDM.  Please use the choice_column_name argument instead.\n"
     ]
    },
    {
     "name": "stdout",
     "output_type": "stream",
     "text": [
      "   Drift Rate Speed  Drift Rate Accuracy  Boundary Separation Speed  \\\n",
      "0          0.749241             1.160188                   0.700987   \n",
      "\n",
      "   Boundary Separation Accuracy  Collapse Speed  Collapse Accuracy  \\\n",
      "0                      0.888007        1.041672           0.142857   \n",
      "\n",
      "   Non-decision Time Speed  Non-decision Time Accuracy         BIC  Frequency  \\\n",
      "0                 0.317322                    0.439886  138.772838          3   \n",
      "\n",
      "   Participant  \n",
      "0           15  \n",
      "4\n",
      "15\n"
     ]
    },
    {
     "name": "stderr",
     "output_type": "stream",
     "text": [
      "Info: Params [1.65439486 2.14946249 0.79666123 1.05222457 1.41666674 0.23749975\n",
      " 0.32417259 0.43032134] gave -133.67031994261583\n",
      "Warning: This function (from_pandas_dataframe()) is deprecated and will be removed in a future version of PyDDM.  Please use the choice_column_name argument instead.\n"
     ]
    },
    {
     "name": "stdout",
     "output_type": "stream",
     "text": [
      "   Drift Rate Speed  Drift Rate Accuracy  Boundary Separation Speed  \\\n",
      "0          1.654395             2.149462                   0.796661   \n",
      "\n",
      "   Boundary Separation Accuracy  Collapse Speed  Collapse Accuracy  \\\n",
      "0                      1.052225        1.416667             0.2375   \n",
      "\n",
      "   Non-decision Time Speed  Non-decision Time Accuracy        BIC  Frequency  \\\n",
      "0                 0.324173                    0.430321 -133.67032          4   \n",
      "\n",
      "   Participant  \n",
      "0           15  \n",
      "5\n",
      "15\n"
     ]
    },
    {
     "name": "stderr",
     "output_type": "stream",
     "text": [
      "Info: Params [1.60839185e+00 1.89826978e+00 6.83543029e-01 9.93161031e-01\n",
      " 6.35121585e-01 1.04229585e-05 3.11429710e-01 4.02922767e-01] gave 8.254397656569324\n",
      "Warning: This function (from_pandas_dataframe()) is deprecated and will be removed in a future version of PyDDM.  Please use the choice_column_name argument instead.\n"
     ]
    },
    {
     "name": "stdout",
     "output_type": "stream",
     "text": [
      "   Drift Rate Speed  Drift Rate Accuracy  Boundary Separation Speed  \\\n",
      "0          1.608392              1.89827                   0.683543   \n",
      "\n",
      "   Boundary Separation Accuracy  Collapse Speed  Collapse Accuracy  \\\n",
      "0                      0.993161        0.635122            0.00001   \n",
      "\n",
      "   Non-decision Time Speed  Non-decision Time Accuracy       BIC  Frequency  \\\n",
      "0                  0.31143                    0.402923  8.254398          5   \n",
      "\n",
      "   Participant  \n",
      "0           15  \n",
      "6\n",
      "15\n"
     ]
    },
    {
     "name": "stderr",
     "output_type": "stream",
     "text": [
      "Info: Params [1.94040012 2.24718845 0.68582284 0.83112936 0.79310344 0.\n",
      " 0.33612533 0.45022643] gave -137.06614577827685\n",
      "Warning: This function (from_pandas_dataframe()) is deprecated and will be removed in a future version of PyDDM.  Please use the choice_column_name argument instead.\n"
     ]
    },
    {
     "name": "stdout",
     "output_type": "stream",
     "text": [
      "   Drift Rate Speed  Drift Rate Accuracy  Boundary Separation Speed  \\\n",
      "0            1.9404             2.247188                   0.685823   \n",
      "\n",
      "   Boundary Separation Accuracy  Collapse Speed  Collapse Accuracy  \\\n",
      "0                      0.831129        0.793103                0.0   \n",
      "\n",
      "   Non-decision Time Speed  Non-decision Time Accuracy         BIC  Frequency  \\\n",
      "0                 0.336125                    0.450226 -137.066146          6   \n",
      "\n",
      "   Participant  \n",
      "0           15  \n",
      "1\n",
      "16\n"
     ]
    },
    {
     "name": "stderr",
     "output_type": "stream",
     "text": [
      "Info: Params [1.53579985e+00 2.04644647e+00 5.99572139e-01 7.69471791e-01\n",
      " 2.98152169e-01 1.41312339e-03 2.60152654e-01 3.72094573e-01] gave -119.62792192223603\n",
      "Warning: This function (from_pandas_dataframe()) is deprecated and will be removed in a future version of PyDDM.  Please use the choice_column_name argument instead.\n"
     ]
    },
    {
     "name": "stdout",
     "output_type": "stream",
     "text": [
      "   Drift Rate Speed  Drift Rate Accuracy  Boundary Separation Speed  \\\n",
      "0            1.5358             2.046446                   0.599572   \n",
      "\n",
      "   Boundary Separation Accuracy  Collapse Speed  Collapse Accuracy  \\\n",
      "0                      0.769472        0.298152           0.001413   \n",
      "\n",
      "   Non-decision Time Speed  Non-decision Time Accuracy         BIC  Frequency  \\\n",
      "0                 0.260153                    0.372095 -119.627922          1   \n",
      "\n",
      "   Participant  \n",
      "0           16  \n",
      "2\n",
      "16\n"
     ]
    },
    {
     "name": "stderr",
     "output_type": "stream",
     "text": [
      "Info: Params [1.07773301 1.82391314 0.7489926  0.74821179 0.443497   0.\n",
      " 0.22010315 0.42894694] gave 101.8754175655028\n",
      "Warning: This function (from_pandas_dataframe()) is deprecated and will be removed in a future version of PyDDM.  Please use the choice_column_name argument instead.\n"
     ]
    },
    {
     "name": "stdout",
     "output_type": "stream",
     "text": [
      "   Drift Rate Speed  Drift Rate Accuracy  Boundary Separation Speed  \\\n",
      "0          1.077733             1.823913                   0.748993   \n",
      "\n",
      "   Boundary Separation Accuracy  Collapse Speed  Collapse Accuracy  \\\n",
      "0                      0.748212        0.443497                0.0   \n",
      "\n",
      "   Non-decision Time Speed  Non-decision Time Accuracy         BIC  Frequency  \\\n",
      "0                 0.220103                    0.428947  101.875418          2   \n",
      "\n",
      "   Participant  \n",
      "0           16  \n",
      "3\n",
      "16\n"
     ]
    },
    {
     "name": "stderr",
     "output_type": "stream",
     "text": [
      "Info: Params [0.62639002 1.22798536 0.81300529 0.85012861 0.6333331  0.15053756\n",
      " 0.20767133 0.38781523] gave 261.90591875213534\n",
      "Warning: This function (from_pandas_dataframe()) is deprecated and will be removed in a future version of PyDDM.  Please use the choice_column_name argument instead.\n"
     ]
    },
    {
     "name": "stdout",
     "output_type": "stream",
     "text": [
      "   Drift Rate Speed  Drift Rate Accuracy  Boundary Separation Speed  \\\n",
      "0           0.62639             1.227985                   0.813005   \n",
      "\n",
      "   Boundary Separation Accuracy  Collapse Speed  Collapse Accuracy  \\\n",
      "0                      0.850129        0.633333           0.150538   \n",
      "\n",
      "   Non-decision Time Speed  Non-decision Time Accuracy         BIC  Frequency  \\\n",
      "0                 0.207671                    0.387815  261.905919          3   \n",
      "\n",
      "   Participant  \n",
      "0           16  \n",
      "4\n",
      "16\n"
     ]
    },
    {
     "name": "stderr",
     "output_type": "stream",
     "text": [
      "Info: Params [1.06905351 1.94496014 0.8054564  0.81544308 0.67152292 0.01136363\n",
      " 0.22799123 0.4178423 ] gave 64.74977957356842\n",
      "Warning: This function (from_pandas_dataframe()) is deprecated and will be removed in a future version of PyDDM.  Please use the choice_column_name argument instead.\n"
     ]
    },
    {
     "name": "stdout",
     "output_type": "stream",
     "text": [
      "   Drift Rate Speed  Drift Rate Accuracy  Boundary Separation Speed  \\\n",
      "0          1.069054              1.94496                   0.805456   \n",
      "\n",
      "   Boundary Separation Accuracy  Collapse Speed  Collapse Accuracy  \\\n",
      "0                      0.815443        0.671523           0.011364   \n",
      "\n",
      "   Non-decision Time Speed  Non-decision Time Accuracy       BIC  Frequency  \\\n",
      "0                 0.227991                    0.417842  64.74978          4   \n",
      "\n",
      "   Participant  \n",
      "0           16  \n",
      "5\n",
      "16\n"
     ]
    },
    {
     "name": "stderr",
     "output_type": "stream",
     "text": [
      "Info: Params [0.80362424 1.89194788 0.8135977  0.88818164 0.61725525 0.\n",
      " 0.21114398 0.38288145] gave 147.18558683704478\n",
      "Warning: This function (from_pandas_dataframe()) is deprecated and will be removed in a future version of PyDDM.  Please use the choice_column_name argument instead.\n"
     ]
    },
    {
     "name": "stdout",
     "output_type": "stream",
     "text": [
      "   Drift Rate Speed  Drift Rate Accuracy  Boundary Separation Speed  \\\n",
      "0          0.803624             1.891948                   0.813598   \n",
      "\n",
      "   Boundary Separation Accuracy  Collapse Speed  Collapse Accuracy  \\\n",
      "0                      0.888182        0.617255                0.0   \n",
      "\n",
      "   Non-decision Time Speed  Non-decision Time Accuracy         BIC  Frequency  \\\n",
      "0                 0.211144                    0.382881  147.185587          5   \n",
      "\n",
      "   Participant  \n",
      "0           16  \n",
      "6\n",
      "16\n"
     ]
    },
    {
     "name": "stderr",
     "output_type": "stream",
     "text": [
      "Info: Params [0.97887683 1.96767798 0.71091028 0.77807845 0.10924734 0.\n",
      " 0.21422677 0.39782348] gave 157.48046698065448\n",
      "Warning: This function (from_pandas_dataframe()) is deprecated and will be removed in a future version of PyDDM.  Please use the choice_column_name argument instead.\n"
     ]
    },
    {
     "name": "stdout",
     "output_type": "stream",
     "text": [
      "   Drift Rate Speed  Drift Rate Accuracy  Boundary Separation Speed  \\\n",
      "0          0.978877             1.967678                    0.71091   \n",
      "\n",
      "   Boundary Separation Accuracy  Collapse Speed  Collapse Accuracy  \\\n",
      "0                      0.778078        0.109247                0.0   \n",
      "\n",
      "   Non-decision Time Speed  Non-decision Time Accuracy         BIC  Frequency  \\\n",
      "0                 0.214227                    0.397823  157.480467          6   \n",
      "\n",
      "   Participant  \n",
      "0           16  \n",
      "1\n",
      "17\n"
     ]
    },
    {
     "name": "stderr",
     "output_type": "stream",
     "text": [
      "Info: Params [2.34624847 3.2924914  0.59396306 1.12082445 0.00576316 0.12760715\n",
      " 0.32830874 0.35662067] gave -299.65810695686685\n",
      "Warning: This function (from_pandas_dataframe()) is deprecated and will be removed in a future version of PyDDM.  Please use the choice_column_name argument instead.\n"
     ]
    },
    {
     "name": "stdout",
     "output_type": "stream",
     "text": [
      "   Drift Rate Speed  Drift Rate Accuracy  Boundary Separation Speed  \\\n",
      "0          2.346248             3.292491                   0.593963   \n",
      "\n",
      "   Boundary Separation Accuracy  Collapse Speed  Collapse Accuracy  \\\n",
      "0                      1.120824        0.005763           0.127607   \n",
      "\n",
      "   Non-decision Time Speed  Non-decision Time Accuracy         BIC  Frequency  \\\n",
      "0                 0.328309                    0.356621 -299.658107          1   \n",
      "\n",
      "   Participant  \n",
      "0           17  \n",
      "2\n",
      "17\n"
     ]
    },
    {
     "name": "stderr",
     "output_type": "stream",
     "text": [
      "Info: Params [2.42426319 2.43680467 0.79473653 0.94873903 0.79686883 0.15328481\n",
      " 0.31144064 0.40172399] gave -204.08674360919878\n",
      "Warning: This function (from_pandas_dataframe()) is deprecated and will be removed in a future version of PyDDM.  Please use the choice_column_name argument instead.\n"
     ]
    },
    {
     "name": "stdout",
     "output_type": "stream",
     "text": [
      "   Drift Rate Speed  Drift Rate Accuracy  Boundary Separation Speed  \\\n",
      "0          2.424263             2.436805                   0.794737   \n",
      "\n",
      "   Boundary Separation Accuracy  Collapse Speed  Collapse Accuracy  \\\n",
      "0                      0.948739        0.796869           0.153285   \n",
      "\n",
      "   Non-decision Time Speed  Non-decision Time Accuracy         BIC  Frequency  \\\n",
      "0                 0.311441                    0.401724 -204.086744          2   \n",
      "\n",
      "   Participant  \n",
      "0           17  \n",
      "3\n",
      "17\n"
     ]
    },
    {
     "name": "stderr",
     "output_type": "stream",
     "text": [
      "Info: Params [1.71453070e+00 1.69209205e+00 5.64439787e-01 7.03056660e-01\n",
      " 1.36528704e-01 8.14027622e-05 3.30760414e-01 4.65514836e-01] gave 7.416143168480588\n",
      "Warning: This function (from_pandas_dataframe()) is deprecated and will be removed in a future version of PyDDM.  Please use the choice_column_name argument instead.\n"
     ]
    },
    {
     "name": "stdout",
     "output_type": "stream",
     "text": [
      "   Drift Rate Speed  Drift Rate Accuracy  Boundary Separation Speed  \\\n",
      "0          1.714531             1.692092                    0.56444   \n",
      "\n",
      "   Boundary Separation Accuracy  Collapse Speed  Collapse Accuracy  \\\n",
      "0                      0.703057        0.136529           0.000081   \n",
      "\n",
      "   Non-decision Time Speed  Non-decision Time Accuracy       BIC  Frequency  \\\n",
      "0                  0.33076                    0.465515  7.416143          3   \n",
      "\n",
      "   Participant  \n",
      "0           17  \n",
      "4\n",
      "17\n"
     ]
    },
    {
     "name": "stderr",
     "output_type": "stream",
     "text": [
      "Info: Params [2.08969845 2.59815641 0.74136966 1.01824014 0.4890196  0.15151513\n",
      " 0.31351037 0.42857052] gave -139.67195410241789\n",
      "Warning: This function (from_pandas_dataframe()) is deprecated and will be removed in a future version of PyDDM.  Please use the choice_column_name argument instead.\n"
     ]
    },
    {
     "name": "stdout",
     "output_type": "stream",
     "text": [
      "   Drift Rate Speed  Drift Rate Accuracy  Boundary Separation Speed  \\\n",
      "0          2.089698             2.598156                    0.74137   \n",
      "\n",
      "   Boundary Separation Accuracy  Collapse Speed  Collapse Accuracy  \\\n",
      "0                       1.01824         0.48902           0.151515   \n",
      "\n",
      "   Non-decision Time Speed  Non-decision Time Accuracy         BIC  Frequency  \\\n",
      "0                  0.31351                    0.428571 -139.671954          4   \n",
      "\n",
      "   Participant  \n",
      "0           17  \n",
      "5\n",
      "17\n"
     ]
    },
    {
     "name": "stderr",
     "output_type": "stream",
     "text": [
      "Info: Params [2.33122387 2.2684158  0.75023385 1.05291521 0.66666344 0.35605467\n",
      " 0.33512897 0.40928531] gave -147.18484799888648\n",
      "Warning: This function (from_pandas_dataframe()) is deprecated and will be removed in a future version of PyDDM.  Please use the choice_column_name argument instead.\n"
     ]
    },
    {
     "name": "stdout",
     "output_type": "stream",
     "text": [
      "   Drift Rate Speed  Drift Rate Accuracy  Boundary Separation Speed  \\\n",
      "0          2.331224             2.268416                   0.750234   \n",
      "\n",
      "   Boundary Separation Accuracy  Collapse Speed  Collapse Accuracy  \\\n",
      "0                      1.052915        0.666663           0.356055   \n",
      "\n",
      "   Non-decision Time Speed  Non-decision Time Accuracy         BIC  Frequency  \\\n",
      "0                 0.335129                    0.409285 -147.184848          5   \n",
      "\n",
      "   Participant  \n",
      "0           17  \n",
      "6\n",
      "17\n"
     ]
    },
    {
     "name": "stderr",
     "output_type": "stream",
     "text": [
      "Info: Params [2.07381413 2.18913436 1.07840365 1.40183098 0.91525424 0.51960767\n",
      " 0.24180724 0.29435725] gave -55.27151374978275\n"
     ]
    },
    {
     "name": "stdout",
     "output_type": "stream",
     "text": [
      "   Drift Rate Speed  Drift Rate Accuracy  Boundary Separation Speed  \\\n",
      "0          2.073814             2.189134                   1.078404   \n",
      "\n",
      "   Boundary Separation Accuracy  Collapse Speed  Collapse Accuracy  \\\n",
      "0                      1.401831        0.915254           0.519608   \n",
      "\n",
      "   Non-decision Time Speed  Non-decision Time Accuracy        BIC  Frequency  \\\n",
      "0                 0.241807                    0.294357 -55.271514          6   \n",
      "\n",
      "   Participant  \n",
      "0           17  \n"
     ]
    }
   ],
   "source": [
    "participants = [1,  3,  4,  5,  6,  7,  8,  9, 10, 11, 12, 13, 14, 15, 16, 17]\n",
    "df_all = pd.DataFrame()\n",
    "for i in participants:\n",
    "    for freq in range(1,7):\n",
    "        print(freq)\n",
    "        print(i)\n",
    "        df = pd.read_csv(data_dir)\n",
    "        df = df[df[\"Participant\"]==i]\n",
    "        df = df[df[\"Frequency\"]==freq]\n",
    "        df = df[df[\"RT\"]<5]\n",
    "\n",
    "        samp = Sample.from_pandas_dataframe(df, rt_column_name=\"RT\", correct_column_name=\"Correct\")\n",
    "        df_param = get_DDM_result_sub_2v2a2c2ter(samp)\n",
    "        df_param['Frequency'] = freq\n",
    "        df_param[\"Participant\"]=i\n",
    "        df_all = pd.concat((df_all,df_param))\n",
    "        print(df_param)\n",
    "df_OUM = df_all.copy()\n"
   ]
  },
  {
   "cell_type": "code",
   "execution_count": 5,
   "id": "3b05a53a",
   "metadata": {},
   "outputs": [],
   "source": [
    "df_OUM.to_csv(\"DDM2v2a2c2terresultWagenmakers2008.csv\")"
   ]
  },
  {
   "cell_type": "code",
   "execution_count": 6,
   "id": "87e8797e",
   "metadata": {},
   "outputs": [
    {
     "data": {
      "text/plain": [
       "-68.85775940733295"
      ]
     },
     "execution_count": 6,
     "metadata": {},
     "output_type": "execute_result"
    }
   ],
   "source": [
    "df_OUM[\"BIC\"].mean()"
   ]
  },
  {
   "cell_type": "code",
   "execution_count": null,
   "id": "c5baddcf",
   "metadata": {},
   "outputs": [],
   "source": []
  }
 ],
 "metadata": {
  "kernelspec": {
   "display_name": "Python 3 (ipykernel)",
   "language": "python",
   "name": "python3"
  },
  "language_info": {
   "codemirror_mode": {
    "name": "ipython",
    "version": 3
   },
   "file_extension": ".py",
   "mimetype": "text/x-python",
   "name": "python",
   "nbconvert_exporter": "python",
   "pygments_lexer": "ipython3",
   "version": "3.11.4"
  }
 },
 "nbformat": 4,
 "nbformat_minor": 5
}
