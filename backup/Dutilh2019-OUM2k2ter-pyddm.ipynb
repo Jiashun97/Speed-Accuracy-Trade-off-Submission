{
 "cells": [
  {
   "cell_type": "code",
   "execution_count": 1,
   "id": "2cda49de",
   "metadata": {},
   "outputs": [],
   "source": [
    "%run SAT_help_functions.ipynb"
   ]
  },
  {
   "cell_type": "code",
   "execution_count": null,
   "id": "bc081cf9",
   "metadata": {},
   "outputs": [],
   "source": []
  },
  {
   "cell_type": "markdown",
   "id": "4bd26666",
   "metadata": {},
   "source": [
    "## OUM"
   ]
  },
  {
   "cell_type": "code",
   "execution_count": null,
   "id": "9ef6c434",
   "metadata": {},
   "outputs": [],
   "source": []
  },
  {
   "cell_type": "code",
   "execution_count": 2,
   "id": "e776257c",
   "metadata": {},
   "outputs": [],
   "source": [
    "sample_size = 20\n",
    "data_dir = '/Users/wangjiashun/Desktop/Reserach on SAT/datasets/Dutilh2019/validation_text_data/exp_4/pp'\n",
    "SAT_conds = [\"A\", \"B\"]"
   ]
  },
  {
   "cell_type": "code",
   "execution_count": 3,
   "id": "f434220f",
   "metadata": {},
   "outputs": [],
   "source": [
    "class BoundSpeedAcc(Bound):\n",
    "    name = \"BoundSpeedAcc\"\n",
    "    required_parameters = [\"Bspeed\", \"Bacc\"]\n",
    "    required_conditions = ['cond']\n",
    "    def get_bound(self, conditions, *args, **kwargs):\n",
    "        assert self.Bacc > 0\n",
    "        assert self.Bspeed > 0\n",
    "        if conditions['cond'] == 'A':\n",
    "            return self.Bspeed\n",
    "        elif conditions['cond'] == 'B':\n",
    "            return self.Bacc\n",
    "        else:\n",
    "            print(\"Non-implemented SAT conditions\")"
   ]
  },
  {
   "cell_type": "code",
   "execution_count": 4,
   "id": "bbb278a6",
   "metadata": {},
   "outputs": [],
   "source": [
    "\n",
    "class DriftExcitationSpeedAcc(Drift):\n",
    "    name = \"DriftSpeedAcc\"\n",
    "    required_parameters = [\"drift\", \"Kspeed\", \"Kacc\"]\n",
    "    required_conditions = ['cond']\n",
    "        \n",
    "    def get_drift(self, x, t, conditions, **kwargs):\n",
    "        if conditions['cond'] == 'A':\n",
    "            return self.drift + x*self.Kspeed \n",
    "        elif conditions['cond'] == 'B':\n",
    "            return self.drift + x*self.Kacc\n",
    "        else: \n",
    "            print(\"Non-implemented SAT conditions\")"
   ]
  },
  {
   "cell_type": "code",
   "execution_count": 5,
   "id": "6e5e0074",
   "metadata": {},
   "outputs": [],
   "source": [
    "\n",
    "class NondecisionSpeedAcc(OverlayNonDecision):\n",
    "    name = \"DriftSpeedAcc\"\n",
    "    required_parameters = [\"tSpeed\", 'tAcc']\n",
    "    required_conditions = ['cond']\n",
    "        \n",
    "    def get_nondecision_time(self, conditions, **kwargs):\n",
    "        if conditions['cond'] == 'A':\n",
    "            return self.tSpeed \n",
    "        elif conditions['cond'] == 'B':\n",
    "            return self.tAcc\n",
    "        else: \n",
    "            print(\"Non-implemented SAT conditions\")"
   ]
  },
  {
   "cell_type": "code",
   "execution_count": null,
   "id": "b1e0fe9b",
   "metadata": {},
   "outputs": [],
   "source": []
  },
  {
   "cell_type": "code",
   "execution_count": null,
   "id": "da0ee7d0",
   "metadata": {},
   "outputs": [],
   "source": []
  },
  {
   "cell_type": "code",
   "execution_count": null,
   "id": "fd95799b",
   "metadata": {},
   "outputs": [],
   "source": []
  },
  {
   "cell_type": "code",
   "execution_count": 6,
   "id": "fdb13001",
   "metadata": {},
   "outputs": [
    {
     "name": "stdout",
     "output_type": "stream",
     "text": [
      "0\n"
     ]
    },
    {
     "name": "stderr",
     "output_type": "stream",
     "text": [
      "Info: Params [1.17149375 5.09068181 2.32864925 1.41453062 0.18151854 0.23769303] gave 265.72777756087885\n"
     ]
    },
    {
     "name": "stdout",
     "output_type": "stream",
     "text": [
      "   Drift Rate  Self-excitation Speed  Self-excitation Accuracy  \\\n",
      "0    1.171494               5.090682                  2.328649   \n",
      "\n",
      "   Boundary Separation  Non-decision Time Speed  Non-decision Time Accuracy  \\\n",
      "0             1.414531                 0.181519                    0.237693   \n",
      "\n",
      "          BIC  \n",
      "0  265.727778  \n",
      "1\n"
     ]
    },
    {
     "name": "stderr",
     "output_type": "stream",
     "text": [
      "Info: Params [0.47225401 6.12482847 2.59391917 3.20441198 0.10450805 0.10375584] gave 482.1019772969595\n"
     ]
    },
    {
     "name": "stdout",
     "output_type": "stream",
     "text": [
      "   Drift Rate  Self-excitation Speed  Self-excitation Accuracy  \\\n",
      "0    0.472254               6.124828                  2.593919   \n",
      "\n",
      "   Boundary Separation  Non-decision Time Speed  Non-decision Time Accuracy  \\\n",
      "0             3.204412                 0.104508                    0.103756   \n",
      "\n",
      "          BIC  \n",
      "0  482.101977  \n",
      "2\n"
     ]
    },
    {
     "name": "stderr",
     "output_type": "stream",
     "text": [
      "Info: Params [1.53785204 6.48830676 3.28087197 1.23867298 0.19320659 0.32278596] gave -29.998790479260798\n"
     ]
    },
    {
     "name": "stdout",
     "output_type": "stream",
     "text": [
      "   Drift Rate  Self-excitation Speed  Self-excitation Accuracy  \\\n",
      "0    1.537852               6.488307                  3.280872   \n",
      "\n",
      "   Boundary Separation  Non-decision Time Speed  Non-decision Time Accuracy  \\\n",
      "0             1.238673                 0.193207                    0.322786   \n",
      "\n",
      "        BIC  \n",
      "0 -29.99879  \n",
      "3\n"
     ]
    },
    {
     "name": "stderr",
     "output_type": "stream",
     "text": [
      "Info: Params [0.85303427 9.51259856 1.75273082 1.23532737 0.12107851 0.19863216] gave 271.5322933268404\n"
     ]
    },
    {
     "name": "stdout",
     "output_type": "stream",
     "text": [
      "   Drift Rate  Self-excitation Speed  Self-excitation Accuracy  \\\n",
      "0    0.853034               9.512599                  1.752731   \n",
      "\n",
      "   Boundary Separation  Non-decision Time Speed  Non-decision Time Accuracy  \\\n",
      "0             1.235327                 0.121079                    0.198632   \n",
      "\n",
      "          BIC  \n",
      "0  271.532293  \n",
      "4\n"
     ]
    },
    {
     "name": "stderr",
     "output_type": "stream",
     "text": [
      "Info: Params [1.15057693 5.29207561 4.04360096 1.28033454 0.1509754  0.27003669] gave 143.13941381147976\n"
     ]
    },
    {
     "name": "stdout",
     "output_type": "stream",
     "text": [
      "   Drift Rate  Self-excitation Speed  Self-excitation Accuracy  \\\n",
      "0    1.150577               5.292076                  4.043601   \n",
      "\n",
      "   Boundary Separation  Non-decision Time Speed  Non-decision Time Accuracy  \\\n",
      "0             1.280335                 0.150975                    0.270037   \n",
      "\n",
      "          BIC  \n",
      "0  143.139414  \n",
      "5\n"
     ]
    },
    {
     "name": "stderr",
     "output_type": "stream",
     "text": [
      "Info: Params [1.34091158 6.80427336 2.78002827 1.60399994 0.28423128 0.39773536] gave 50.58350141644616\n"
     ]
    },
    {
     "name": "stdout",
     "output_type": "stream",
     "text": [
      "   Drift Rate  Self-excitation Speed  Self-excitation Accuracy  \\\n",
      "0    1.340912               6.804273                  2.780028   \n",
      "\n",
      "   Boundary Separation  Non-decision Time Speed  Non-decision Time Accuracy  \\\n",
      "0                1.604                 0.284231                    0.397735   \n",
      "\n",
      "         BIC  \n",
      "0  50.583501  \n",
      "6\n"
     ]
    },
    {
     "name": "stderr",
     "output_type": "stream",
     "text": [
      "Info: Params [1.25458455 5.77365629 4.76955027 1.64154039 0.15277035 0.2347212 ] gave 61.607470198529874\n"
     ]
    },
    {
     "name": "stdout",
     "output_type": "stream",
     "text": [
      "   Drift Rate  Self-excitation Speed  Self-excitation Accuracy  \\\n",
      "0    1.254585               5.773656                   4.76955   \n",
      "\n",
      "   Boundary Separation  Non-decision Time Speed  Non-decision Time Accuracy  \\\n",
      "0              1.64154                  0.15277                    0.234721   \n",
      "\n",
      "        BIC  \n",
      "0  61.60747  \n",
      "7\n"
     ]
    },
    {
     "name": "stderr",
     "output_type": "stream",
     "text": [
      "Info: Params [1.63004636 5.73499531 4.81728181 1.46813788 0.22941864 0.30089491] gave -87.83352862600762\n"
     ]
    },
    {
     "name": "stdout",
     "output_type": "stream",
     "text": [
      "   Drift Rate  Self-excitation Speed  Self-excitation Accuracy  \\\n",
      "0    1.630046               5.734995                  4.817282   \n",
      "\n",
      "   Boundary Separation  Non-decision Time Speed  Non-decision Time Accuracy  \\\n",
      "0             1.468138                 0.229419                    0.300895   \n",
      "\n",
      "         BIC  \n",
      "0 -87.833529  \n",
      "8\n"
     ]
    },
    {
     "name": "stderr",
     "output_type": "stream",
     "text": [
      "Info: Params [1.39433471 7.18540294 2.79102294 1.05089527 0.3107504  0.31064481] gave 12.422400479685159\n"
     ]
    },
    {
     "name": "stdout",
     "output_type": "stream",
     "text": [
      "   Drift Rate  Self-excitation Speed  Self-excitation Accuracy  \\\n",
      "0    1.394335               7.185403                  2.791023   \n",
      "\n",
      "   Boundary Separation  Non-decision Time Speed  Non-decision Time Accuracy  \\\n",
      "0             1.050895                  0.31075                    0.310645   \n",
      "\n",
      "       BIC  \n",
      "0  12.4224  \n",
      "9\n"
     ]
    },
    {
     "name": "stderr",
     "output_type": "stream",
     "text": [
      "Info: Params [0.81136528 6.4029229  1.97813387 1.57900814 0.14442812 0.3478629 ] gave 390.7065972736358\n"
     ]
    },
    {
     "name": "stdout",
     "output_type": "stream",
     "text": [
      "   Drift Rate  Self-excitation Speed  Self-excitation Accuracy  \\\n",
      "0    0.811365               6.402923                  1.978134   \n",
      "\n",
      "   Boundary Separation  Non-decision Time Speed  Non-decision Time Accuracy  \\\n",
      "0             1.579008                 0.144428                    0.347863   \n",
      "\n",
      "          BIC  \n",
      "0  390.706597  \n",
      "10\n"
     ]
    },
    {
     "name": "stderr",
     "output_type": "stream",
     "text": [
      "Info: Params [1.13252959 3.67897326 1.79070108 1.55238569 0.12528479 0.22223369] gave 405.89303822032764\n"
     ]
    },
    {
     "name": "stdout",
     "output_type": "stream",
     "text": [
      "   Drift Rate  Self-excitation Speed  Self-excitation Accuracy  \\\n",
      "0     1.13253               3.678973                  1.790701   \n",
      "\n",
      "   Boundary Separation  Non-decision Time Speed  Non-decision Time Accuracy  \\\n",
      "0             1.552386                 0.125285                    0.222234   \n",
      "\n",
      "          BIC  \n",
      "0  405.893038  \n",
      "11\n"
     ]
    },
    {
     "name": "stderr",
     "output_type": "stream",
     "text": [
      "Info: Params [1.25838792 6.74252849 3.38772379 1.52211599 0.24152399 0.2976577 ] gave 98.01828701337688\n"
     ]
    },
    {
     "name": "stdout",
     "output_type": "stream",
     "text": [
      "   Drift Rate  Self-excitation Speed  Self-excitation Accuracy  \\\n",
      "0    1.258388               6.742528                  3.387724   \n",
      "\n",
      "   Boundary Separation  Non-decision Time Speed  Non-decision Time Accuracy  \\\n",
      "0             1.522116                 0.241524                    0.297658   \n",
      "\n",
      "         BIC  \n",
      "0  98.018287  \n",
      "12\n"
     ]
    },
    {
     "name": "stderr",
     "output_type": "stream",
     "text": [
      "Info: Params [1.20840186 5.12961139 4.48486519 0.99216943 0.19363974 0.25919187] gave 32.15479042732482\n"
     ]
    },
    {
     "name": "stdout",
     "output_type": "stream",
     "text": [
      "   Drift Rate  Self-excitation Speed  Self-excitation Accuracy  \\\n",
      "0    1.208402               5.129611                  4.484865   \n",
      "\n",
      "   Boundary Separation  Non-decision Time Speed  Non-decision Time Accuracy  \\\n",
      "0             0.992169                  0.19364                    0.259192   \n",
      "\n",
      "        BIC  \n",
      "0  32.15479  \n",
      "13\n"
     ]
    },
    {
     "name": "stderr",
     "output_type": "stream",
     "text": [
      "Info: Params [1.19660088 6.67488858 2.88074337 1.89584867 0.12982103 0.17123975] gave 186.2630102997468\n"
     ]
    },
    {
     "name": "stdout",
     "output_type": "stream",
     "text": [
      "   Drift Rate  Self-excitation Speed  Self-excitation Accuracy  \\\n",
      "0    1.196601               6.674889                  2.880743   \n",
      "\n",
      "   Boundary Separation  Non-decision Time Speed  Non-decision Time Accuracy  \\\n",
      "0             1.895849                 0.129821                     0.17124   \n",
      "\n",
      "         BIC  \n",
      "0  186.26301  \n",
      "14\n"
     ]
    },
    {
     "name": "stderr",
     "output_type": "stream",
     "text": [
      "Info: Params [0.91041316 5.91012105 4.17601343 1.22080478 0.15526107 0.19208035] gave 147.42103551675376\n"
     ]
    },
    {
     "name": "stdout",
     "output_type": "stream",
     "text": [
      "   Drift Rate  Self-excitation Speed  Self-excitation Accuracy  \\\n",
      "0    0.910413               5.910121                  4.176013   \n",
      "\n",
      "   Boundary Separation  Non-decision Time Speed  Non-decision Time Accuracy  \\\n",
      "0             1.220805                 0.155261                     0.19208   \n",
      "\n",
      "          BIC  \n",
      "0  147.421036  \n",
      "15\n"
     ]
    },
    {
     "name": "stderr",
     "output_type": "stream",
     "text": [
      "Info: Params [1.72859803 6.05262679 2.06150453 1.03002806 0.19957537 0.2829401 ] gave -86.35303074197174\n"
     ]
    },
    {
     "name": "stdout",
     "output_type": "stream",
     "text": [
      "   Drift Rate  Self-excitation Speed  Self-excitation Accuracy  \\\n",
      "0    1.728598               6.052627                  2.061505   \n",
      "\n",
      "   Boundary Separation  Non-decision Time Speed  Non-decision Time Accuracy  \\\n",
      "0             1.030028                 0.199575                     0.28294   \n",
      "\n",
      "         BIC  \n",
      "0 -86.353031  \n",
      "16\n"
     ]
    },
    {
     "name": "stderr",
     "output_type": "stream",
     "text": [
      "Info: Params [0.87618446 6.86894783 3.30665986 0.8970209  0.23605584 0.3261401 ] gave 42.43235670628568\n"
     ]
    },
    {
     "name": "stdout",
     "output_type": "stream",
     "text": [
      "   Drift Rate  Self-excitation Speed  Self-excitation Accuracy  \\\n",
      "0    0.876184               6.868948                   3.30666   \n",
      "\n",
      "   Boundary Separation  Non-decision Time Speed  Non-decision Time Accuracy  \\\n",
      "0             0.897021                 0.236056                     0.32614   \n",
      "\n",
      "         BIC  \n",
      "0  42.432357  \n",
      "17\n"
     ]
    },
    {
     "name": "stderr",
     "output_type": "stream",
     "text": [
      "Info: Params [1.83102861 5.47099204 2.855405   0.92927044 0.25699894 0.31429952] gave -149.9224616425728\n"
     ]
    },
    {
     "name": "stdout",
     "output_type": "stream",
     "text": [
      "   Drift Rate  Self-excitation Speed  Self-excitation Accuracy  \\\n",
      "0    1.831029               5.470992                  2.855405   \n",
      "\n",
      "   Boundary Separation  Non-decision Time Speed  Non-decision Time Accuracy  \\\n",
      "0              0.92927                 0.256999                      0.3143   \n",
      "\n",
      "          BIC  \n",
      "0 -149.922462  \n",
      "18\n"
     ]
    },
    {
     "name": "stderr",
     "output_type": "stream",
     "text": [
      "Info: Params [1.77385923 5.26046143 3.07937542 1.337636   0.20342357 0.23139403] gave 7.512921827021451\n"
     ]
    },
    {
     "name": "stdout",
     "output_type": "stream",
     "text": [
      "   Drift Rate  Self-excitation Speed  Self-excitation Accuracy  \\\n",
      "0    1.773859               5.260461                  3.079375   \n",
      "\n",
      "   Boundary Separation  Non-decision Time Speed  Non-decision Time Accuracy  \\\n",
      "0             1.337636                 0.203424                    0.231394   \n",
      "\n",
      "        BIC  \n",
      "0  7.512922  \n",
      "19\n"
     ]
    },
    {
     "name": "stderr",
     "output_type": "stream",
     "text": [
      "Info: Params [0.36416749 5.5833658  4.39774993 1.75774048 0.11129838 0.18744683] gave 336.611003388758\n"
     ]
    },
    {
     "name": "stdout",
     "output_type": "stream",
     "text": [
      "   Drift Rate  Self-excitation Speed  Self-excitation Accuracy  \\\n",
      "0    0.364167               5.583366                   4.39775   \n",
      "\n",
      "   Boundary Separation  Non-decision Time Speed  Non-decision Time Accuracy  \\\n",
      "0              1.75774                 0.111298                    0.187447   \n",
      "\n",
      "          BIC  \n",
      "0  336.611003  \n"
     ]
    }
   ],
   "source": [
    "df_all = pd.DataFrame()\n",
    "for i in range(sample_size):\n",
    "    print(i)\n",
    "    path = os.path.join(data_dir+str(i+1)+\".txt\")\n",
    "    df = pd.read_csv(path, sep = \" \")\n",
    "    #df = df[df[\"cond\"]==SAT] # A condition\n",
    "    df = df[df[\"rt\"]<3]\n",
    "\n",
    "    samp = Sample.from_pandas_dataframe(df, rt_column_name=\"rt\", correct_column_name=\"correct\")\n",
    "    df = get_OUM_result_sub_2k2ter(samp)\n",
    "    df_all = pd.concat((df_all,df))\n",
    "    print(df)\n",
    "df_OUM = df_all.copy()\n"
   ]
  },
  {
   "cell_type": "code",
   "execution_count": null,
   "id": "29aed7ec",
   "metadata": {},
   "outputs": [],
   "source": []
  },
  {
   "cell_type": "code",
   "execution_count": 7,
   "id": "3b05a53a",
   "metadata": {},
   "outputs": [],
   "source": [
    "df_OUM.to_csv(\"OUM2k2terresultDutilh2019.csv\")"
   ]
  },
  {
   "cell_type": "code",
   "execution_count": null,
   "id": "87e8797e",
   "metadata": {},
   "outputs": [],
   "source": []
  },
  {
   "cell_type": "code",
   "execution_count": null,
   "id": "1f14d0b2",
   "metadata": {},
   "outputs": [],
   "source": []
  }
 ],
 "metadata": {
  "kernelspec": {
   "display_name": "Python 3 (ipykernel)",
   "language": "python",
   "name": "python3"
  },
  "language_info": {
   "codemirror_mode": {
    "name": "ipython",
    "version": 3
   },
   "file_extension": ".py",
   "mimetype": "text/x-python",
   "name": "python",
   "nbconvert_exporter": "python",
   "pygments_lexer": "ipython3",
   "version": "3.7.15"
  }
 },
 "nbformat": 4,
 "nbformat_minor": 5
}
