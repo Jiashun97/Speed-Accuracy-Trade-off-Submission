{
 "cells": [
  {
   "cell_type": "code",
   "execution_count": 1,
   "id": "2cda49de",
   "metadata": {},
   "outputs": [],
   "source": [
    "%run SAT_help_functions.ipynb"
   ]
  },
  {
   "cell_type": "code",
   "execution_count": null,
   "id": "bc081cf9",
   "metadata": {},
   "outputs": [],
   "source": []
  },
  {
   "cell_type": "markdown",
   "id": "4bd26666",
   "metadata": {},
   "source": [
    "## OUM"
   ]
  },
  {
   "cell_type": "code",
   "execution_count": null,
   "id": "9ef6c434",
   "metadata": {},
   "outputs": [],
   "source": []
  },
  {
   "cell_type": "code",
   "execution_count": 2,
   "id": "e776257c",
   "metadata": {},
   "outputs": [],
   "source": [
    "data_dir = \"/Users/wangjiashun/Desktop/Reserach on SAT/datasets/Evans2021/Dutilh2013/dataBySubject/sub\"\n",
    "sample_size = 32\n",
    "SAT_conds = [\"speed\", \"accuracy\"]"
   ]
  },
  {
   "cell_type": "code",
   "execution_count": null,
   "id": "f434220f",
   "metadata": {},
   "outputs": [],
   "source": []
  },
  {
   "cell_type": "code",
   "execution_count": 3,
   "id": "bbb278a6",
   "metadata": {},
   "outputs": [],
   "source": [
    "\n",
    "class DriftExcitationSpeedAcc(Drift):\n",
    "    name = \"DriftSpeedAcc\"\n",
    "    required_parameters = [\"drift\", \"Kspeed\", \"Kacc\"]\n",
    "    required_conditions = ['Cond']\n",
    "        \n",
    "    def get_drift(self, x, t, conditions, **kwargs):\n",
    "        if conditions['Cond'] == 'speed':\n",
    "            return self.drift + x*self.Kspeed \n",
    "        elif conditions['Cond'] == 'accuracy':\n",
    "            return self.drift + x*self.Kacc\n",
    "        else: \n",
    "            print(\"Non-implemented SAT conditions\")"
   ]
  },
  {
   "cell_type": "code",
   "execution_count": 4,
   "id": "6e5e0074",
   "metadata": {},
   "outputs": [],
   "source": [
    "\n",
    "class NondecisionSpeedAcc(OverlayNonDecision):\n",
    "    name = \"DriftSpeedAcc\"\n",
    "    required_parameters = [\"tSpeed\", 'tAcc']\n",
    "    required_conditions = ['Cond']\n",
    "        \n",
    "    def get_nondecision_time(self, conditions, **kwargs):\n",
    "        if conditions['Cond'] == 'speed':\n",
    "            return self.tSpeed \n",
    "        elif conditions['Cond'] == 'accuracy':\n",
    "            return self.tAcc\n",
    "        else: \n",
    "            print(\"Non-implemented SAT conditions\")"
   ]
  },
  {
   "cell_type": "code",
   "execution_count": null,
   "id": "b1e0fe9b",
   "metadata": {},
   "outputs": [],
   "source": []
  },
  {
   "cell_type": "code",
   "execution_count": null,
   "id": "da0ee7d0",
   "metadata": {},
   "outputs": [],
   "source": []
  },
  {
   "cell_type": "code",
   "execution_count": null,
   "id": "fd95799b",
   "metadata": {},
   "outputs": [],
   "source": []
  },
  {
   "cell_type": "code",
   "execution_count": 5,
   "id": "fdb13001",
   "metadata": {},
   "outputs": [
    {
     "name": "stdout",
     "output_type": "stream",
     "text": [
      "0\n"
     ]
    },
    {
     "name": "stderr",
     "output_type": "stream",
     "text": [
      "Info: Params [ 0.53511701 10.          5.62920364  2.14172196  0.20877013  0.23979808] gave -51.95551050133824\n"
     ]
    },
    {
     "name": "stdout",
     "output_type": "stream",
     "text": [
      "   Drift Rate  Self-excitation Speed  Self-excitation Accuracy  \\\n",
      "0    0.535117                   10.0                  5.629204   \n",
      "\n",
      "   Boundary Separation  Non-decision Time Speed  Non-decision Time Accuracy  \\\n",
      "0             2.141722                  0.20877                    0.239798   \n",
      "\n",
      "   Participant        BIC  \n",
      "0            1 -51.955511  \n",
      "1\n"
     ]
    },
    {
     "name": "stderr",
     "output_type": "stream",
     "text": [
      "Info: Params [1.90407516 4.87498133 3.32425977 0.6801007  0.34470003 0.38553403] gave -200.3264917351769\n"
     ]
    },
    {
     "name": "stdout",
     "output_type": "stream",
     "text": [
      "   Drift Rate  Self-excitation Speed  Self-excitation Accuracy  \\\n",
      "0    1.904075               4.874981                   3.32426   \n",
      "\n",
      "   Boundary Separation  Non-decision Time Speed  Non-decision Time Accuracy  \\\n",
      "0             0.680101                   0.3447                    0.385534   \n",
      "\n",
      "   Participant         BIC  \n",
      "0            2 -200.326492  \n",
      "2\n"
     ]
    },
    {
     "name": "stderr",
     "output_type": "stream",
     "text": [
      "Info: Params [0.         2.71671813 3.57901256 1.63097961 0.10546715 0.52732749] gave 565.4178216323895\n"
     ]
    },
    {
     "name": "stdout",
     "output_type": "stream",
     "text": [
      "   Drift Rate  Self-excitation Speed  Self-excitation Accuracy  \\\n",
      "0         0.0               2.716718                  3.579013   \n",
      "\n",
      "   Boundary Separation  Non-decision Time Speed  Non-decision Time Accuracy  \\\n",
      "0              1.63098                 0.105467                    0.527327   \n",
      "\n",
      "   Participant         BIC  \n",
      "0            3  565.417822  \n",
      "3\n"
     ]
    },
    {
     "name": "stderr",
     "output_type": "stream",
     "text": [
      "Info: Params [4.11614707 6.83753902 4.22290337 1.12290088 0.32567816 0.32201841] gave -203.96617225712276\n"
     ]
    },
    {
     "name": "stdout",
     "output_type": "stream",
     "text": [
      "   Drift Rate  Self-excitation Speed  Self-excitation Accuracy  \\\n",
      "0    4.116147               6.837539                  4.222903   \n",
      "\n",
      "   Boundary Separation  Non-decision Time Speed  Non-decision Time Accuracy  \\\n",
      "0             1.122901                 0.325678                    0.322018   \n",
      "\n",
      "   Participant         BIC  \n",
      "0            4 -203.966172  \n",
      "4\n"
     ]
    },
    {
     "name": "stderr",
     "output_type": "stream",
     "text": [
      "Info: Params [2.12147646 4.42503466 3.90903981 1.16050596 0.22657307 0.29019446] gave -97.00484632637088\n"
     ]
    },
    {
     "name": "stdout",
     "output_type": "stream",
     "text": [
      "   Drift Rate  Self-excitation Speed  Self-excitation Accuracy  \\\n",
      "0    2.121476               4.425035                   3.90904   \n",
      "\n",
      "   Boundary Separation  Non-decision Time Speed  Non-decision Time Accuracy  \\\n",
      "0             1.160506                 0.226573                    0.290194   \n",
      "\n",
      "   Participant        BIC  \n",
      "0            5 -97.004846  \n",
      "5\n"
     ]
    },
    {
     "name": "stderr",
     "output_type": "stream",
     "text": [
      "Info: Params [ 1.748209   10.          6.08284924  7.10206218  0.12658977  0.10903288] gave -238.3610896959743\n"
     ]
    },
    {
     "name": "stdout",
     "output_type": "stream",
     "text": [
      "   Drift Rate  Self-excitation Speed  Self-excitation Accuracy  \\\n",
      "0    1.748209                   10.0                  6.082849   \n",
      "\n",
      "   Boundary Separation  Non-decision Time Speed  Non-decision Time Accuracy  \\\n",
      "0             7.102062                  0.12659                    0.109033   \n",
      "\n",
      "   Participant        BIC  \n",
      "0            6 -238.36109  \n",
      "6\n"
     ]
    },
    {
     "name": "stderr",
     "output_type": "stream",
     "text": [
      "Info: Params [1.53863396 7.75286979 7.61057342 1.0764438  0.215794   0.3618152 ] gave -422.42449661823787\n"
     ]
    },
    {
     "name": "stdout",
     "output_type": "stream",
     "text": [
      "   Drift Rate  Self-excitation Speed  Self-excitation Accuracy  \\\n",
      "0    1.538634                7.75287                  7.610573   \n",
      "\n",
      "   Boundary Separation  Non-decision Time Speed  Non-decision Time Accuracy  \\\n",
      "0             1.076444                 0.215794                    0.361815   \n",
      "\n",
      "   Participant         BIC  \n",
      "0            7 -422.424497  \n",
      "7\n"
     ]
    },
    {
     "name": "stderr",
     "output_type": "stream",
     "text": [
      "Info: Params [1.6726957  6.89246496 6.15537203 2.56830625 0.13495422 0.16028898] gave -125.66138807592476\n"
     ]
    },
    {
     "name": "stdout",
     "output_type": "stream",
     "text": [
      "   Drift Rate  Self-excitation Speed  Self-excitation Accuracy  \\\n",
      "0    1.672696               6.892465                  6.155372   \n",
      "\n",
      "   Boundary Separation  Non-decision Time Speed  Non-decision Time Accuracy  \\\n",
      "0             2.568306                 0.134954                    0.160289   \n",
      "\n",
      "   Participant         BIC  \n",
      "0            8 -125.661388  \n",
      "8\n"
     ]
    },
    {
     "name": "stderr",
     "output_type": "stream",
     "text": [
      "Info: Params [1.10599021 6.62847601 6.99902511 4.0630281  0.10307772 0.163658  ] gave 74.6294909762627\n"
     ]
    },
    {
     "name": "stdout",
     "output_type": "stream",
     "text": [
      "   Drift Rate  Self-excitation Speed  Self-excitation Accuracy  \\\n",
      "0     1.10599               6.628476                  6.999025   \n",
      "\n",
      "   Boundary Separation  Non-decision Time Speed  Non-decision Time Accuracy  \\\n",
      "0             4.063028                 0.103078                    0.163658   \n",
      "\n",
      "   Participant        BIC  \n",
      "0            9  74.629491  \n",
      "9\n"
     ]
    },
    {
     "name": "stderr",
     "output_type": "stream",
     "text": [
      "Info: Params [0.18324393 8.13115333 3.92092271 1.39584559 0.10095555 0.18739387] gave 261.1487412009087\n"
     ]
    },
    {
     "name": "stdout",
     "output_type": "stream",
     "text": [
      "   Drift Rate  Self-excitation Speed  Self-excitation Accuracy  \\\n",
      "0    0.183244               8.131153                  3.920923   \n",
      "\n",
      "   Boundary Separation  Non-decision Time Speed  Non-decision Time Accuracy  \\\n",
      "0             1.395846                 0.100956                    0.187394   \n",
      "\n",
      "   Participant         BIC  \n",
      "0           10  261.148741  \n",
      "10\n"
     ]
    },
    {
     "name": "stderr",
     "output_type": "stream",
     "text": [
      "Info: Params [3.55068792 8.99183995 6.70680131 7.9065432  0.23211306 0.18585852] gave -95.92185970930043\n"
     ]
    },
    {
     "name": "stdout",
     "output_type": "stream",
     "text": [
      "   Drift Rate  Self-excitation Speed  Self-excitation Accuracy  \\\n",
      "0    3.550688                8.99184                  6.706801   \n",
      "\n",
      "   Boundary Separation  Non-decision Time Speed  Non-decision Time Accuracy  \\\n",
      "0             7.906543                 0.232113                    0.185859   \n",
      "\n",
      "   Participant       BIC  \n",
      "0           11 -95.92186  \n",
      "11\n"
     ]
    },
    {
     "name": "stderr",
     "output_type": "stream",
     "text": [
      "Info: Params [2.58702307 8.4206864  3.56403754 0.85992938 0.31209861 0.32645216] gave -696.3583744770224\n"
     ]
    },
    {
     "name": "stdout",
     "output_type": "stream",
     "text": [
      "   Drift Rate  Self-excitation Speed  Self-excitation Accuracy  \\\n",
      "0    2.587023               8.420686                  3.564038   \n",
      "\n",
      "   Boundary Separation  Non-decision Time Speed  Non-decision Time Accuracy  \\\n",
      "0             0.859929                 0.312099                    0.326452   \n",
      "\n",
      "   Participant         BIC  \n",
      "0           12 -696.358374  \n",
      "12\n"
     ]
    },
    {
     "name": "stderr",
     "output_type": "stream",
     "text": [
      "Info: Params [ 3.68005723  8.81275361 10.          1.47973777  0.2784359   0.29468951] gave -663.5130287639587\n"
     ]
    },
    {
     "name": "stdout",
     "output_type": "stream",
     "text": [
      "   Drift Rate  Self-excitation Speed  Self-excitation Accuracy  \\\n",
      "0    3.680057               8.812754                      10.0   \n",
      "\n",
      "   Boundary Separation  Non-decision Time Speed  Non-decision Time Accuracy  \\\n",
      "0             1.479738                 0.278436                     0.29469   \n",
      "\n",
      "   Participant         BIC  \n",
      "0           13 -663.513029  \n",
      "13\n"
     ]
    },
    {
     "name": "stderr",
     "output_type": "stream",
     "text": [
      "Info: Params [1.82727475 5.9241524  4.12576339 0.74439609 0.2391665  0.31409062] gave -384.2364797869728\n"
     ]
    },
    {
     "name": "stdout",
     "output_type": "stream",
     "text": [
      "   Drift Rate  Self-excitation Speed  Self-excitation Accuracy  \\\n",
      "0    1.827275               5.924152                  4.125763   \n",
      "\n",
      "   Boundary Separation  Non-decision Time Speed  Non-decision Time Accuracy  \\\n",
      "0             0.744396                 0.239167                    0.314091   \n",
      "\n",
      "   Participant        BIC  \n",
      "0           14 -384.23648  \n",
      "14\n"
     ]
    },
    {
     "name": "stderr",
     "output_type": "stream",
     "text": [
      "Info: Params [0.1958782  9.85772968 5.41237402 4.81074167 0.17556169 0.10481636] gave 346.7772617221463\n"
     ]
    },
    {
     "name": "stdout",
     "output_type": "stream",
     "text": [
      "   Drift Rate  Self-excitation Speed  Self-excitation Accuracy  \\\n",
      "0    0.195878                9.85773                  5.412374   \n",
      "\n",
      "   Boundary Separation  Non-decision Time Speed  Non-decision Time Accuracy  \\\n",
      "0             4.810742                 0.175562                    0.104816   \n",
      "\n",
      "   Participant         BIC  \n",
      "0           15  346.777262  \n",
      "15\n"
     ]
    },
    {
     "name": "stderr",
     "output_type": "stream",
     "text": [
      "Info: Params [3.41759429 7.44157263 7.3830588  0.89248234 0.33832198 0.35117293] gave -476.73967868592865\n"
     ]
    },
    {
     "name": "stdout",
     "output_type": "stream",
     "text": [
      "   Drift Rate  Self-excitation Speed  Self-excitation Accuracy  \\\n",
      "0    3.417594               7.441573                  7.383059   \n",
      "\n",
      "   Boundary Separation  Non-decision Time Speed  Non-decision Time Accuracy  \\\n",
      "0             0.892482                 0.338322                    0.351173   \n",
      "\n",
      "   Participant         BIC  \n",
      "0           16 -476.739679  \n",
      "16\n"
     ]
    },
    {
     "name": "stderr",
     "output_type": "stream",
     "text": [
      "Info: Params [0.73573338 6.07359438 4.0840976  1.23331082 0.12330161 0.22742592] gave 358.0853683472247\n"
     ]
    },
    {
     "name": "stdout",
     "output_type": "stream",
     "text": [
      "   Drift Rate  Self-excitation Speed  Self-excitation Accuracy  \\\n",
      "0    0.735733               6.073594                  4.084098   \n",
      "\n",
      "   Boundary Separation  Non-decision Time Speed  Non-decision Time Accuracy  \\\n",
      "0             1.233311                 0.123302                    0.227426   \n",
      "\n",
      "   Participant         BIC  \n",
      "0           17  358.085368  \n",
      "17\n"
     ]
    },
    {
     "name": "stderr",
     "output_type": "stream",
     "text": [
      "Info: Params [3.22550009 9.54728872 6.9593633  1.01011664 0.26410251 0.26741602] gave -1036.761512442817\n"
     ]
    },
    {
     "name": "stdout",
     "output_type": "stream",
     "text": [
      "   Drift Rate  Self-excitation Speed  Self-excitation Accuracy  \\\n",
      "0      3.2255               9.547289                  6.959363   \n",
      "\n",
      "   Boundary Separation  Non-decision Time Speed  Non-decision Time Accuracy  \\\n",
      "0             1.010117                 0.264103                    0.267416   \n",
      "\n",
      "   Participant          BIC  \n",
      "0           18 -1036.761512  \n",
      "18\n"
     ]
    },
    {
     "name": "stderr",
     "output_type": "stream",
     "text": [
      "Info: Params [2.05625753 6.26259063 5.55264252 0.71399992 0.26131873 0.28598951] gave -340.72035813071545\n"
     ]
    },
    {
     "name": "stdout",
     "output_type": "stream",
     "text": [
      "   Drift Rate  Self-excitation Speed  Self-excitation Accuracy  \\\n",
      "0    2.056258               6.262591                  5.552643   \n",
      "\n",
      "   Boundary Separation  Non-decision Time Speed  Non-decision Time Accuracy  \\\n",
      "0                0.714                 0.261319                     0.28599   \n",
      "\n",
      "   Participant         BIC  \n",
      "0           19 -340.720358  \n",
      "19\n"
     ]
    },
    {
     "name": "stderr",
     "output_type": "stream",
     "text": [
      "Info: Params [ 2.07322134 10.          9.28359392  2.34384996  0.17707146  0.21717267] gave -922.2237915376777\n"
     ]
    },
    {
     "name": "stdout",
     "output_type": "stream",
     "text": [
      "   Drift Rate  Self-excitation Speed  Self-excitation Accuracy  \\\n",
      "0    2.073221                   10.0                  9.283594   \n",
      "\n",
      "   Boundary Separation  Non-decision Time Speed  Non-decision Time Accuracy  \\\n",
      "0              2.34385                 0.177071                    0.217173   \n",
      "\n",
      "   Participant         BIC  \n",
      "0           20 -922.223792  \n",
      "20\n"
     ]
    },
    {
     "name": "stderr",
     "output_type": "stream",
     "text": [
      "Info: Params [ 0.80980505 10.          7.57097619  1.21345816  0.17744026  0.26705639] gave -366.52860222097155\n"
     ]
    },
    {
     "name": "stdout",
     "output_type": "stream",
     "text": [
      "   Drift Rate  Self-excitation Speed  Self-excitation Accuracy  \\\n",
      "0    0.809805                   10.0                  7.570976   \n",
      "\n",
      "   Boundary Separation  Non-decision Time Speed  Non-decision Time Accuracy  \\\n",
      "0             1.213458                  0.17744                    0.267056   \n",
      "\n",
      "   Participant         BIC  \n",
      "0           21 -366.528602  \n",
      "21\n"
     ]
    },
    {
     "name": "stderr",
     "output_type": "stream",
     "text": [
      "Info: Params [0.69860705 9.23951732 6.95818135 3.19301509 0.10470047 0.18337094] gave 31.979057101230467\n"
     ]
    },
    {
     "name": "stdout",
     "output_type": "stream",
     "text": [
      "   Drift Rate  Self-excitation Speed  Self-excitation Accuracy  \\\n",
      "0    0.698607               9.239517                  6.958181   \n",
      "\n",
      "   Boundary Separation  Non-decision Time Speed  Non-decision Time Accuracy  \\\n",
      "0             3.193015                   0.1047                    0.183371   \n",
      "\n",
      "   Participant        BIC  \n",
      "0           22  31.979057  \n",
      "22\n"
     ]
    },
    {
     "name": "stderr",
     "output_type": "stream",
     "text": [
      "Info: Params [ 3.57317172 10.         10.          2.65229079  0.23590568  0.29403918] gave -256.49015856332215\n"
     ]
    },
    {
     "name": "stdout",
     "output_type": "stream",
     "text": [
      "   Drift Rate  Self-excitation Speed  Self-excitation Accuracy  \\\n",
      "0    3.573172                   10.0                      10.0   \n",
      "\n",
      "   Boundary Separation  Non-decision Time Speed  Non-decision Time Accuracy  \\\n",
      "0             2.652291                 0.235906                    0.294039   \n",
      "\n",
      "   Participant         BIC  \n",
      "0           23 -256.490159  \n",
      "23\n"
     ]
    },
    {
     "name": "stderr",
     "output_type": "stream",
     "text": [
      "Info: Params [ 2.23817797 10.         10.          0.83784405  0.21910888  0.2804538 ] gave -1138.7570901054978\n"
     ]
    },
    {
     "name": "stdout",
     "output_type": "stream",
     "text": [
      "   Drift Rate  Self-excitation Speed  Self-excitation Accuracy  \\\n",
      "0    2.238178                   10.0                      10.0   \n",
      "\n",
      "   Boundary Separation  Non-decision Time Speed  Non-decision Time Accuracy  \\\n",
      "0             0.837844                 0.219109                    0.280454   \n",
      "\n",
      "   Participant         BIC  \n",
      "0           24 -1138.75709  \n",
      "24\n"
     ]
    },
    {
     "name": "stderr",
     "output_type": "stream",
     "text": [
      "Info: Params [ 2.60580067 10.          9.59340203  1.1965118   0.24480955  0.29921698] gave -901.5074548127809\n"
     ]
    },
    {
     "name": "stdout",
     "output_type": "stream",
     "text": [
      "   Drift Rate  Self-excitation Speed  Self-excitation Accuracy  \\\n",
      "0    2.605801                   10.0                  9.593402   \n",
      "\n",
      "   Boundary Separation  Non-decision Time Speed  Non-decision Time Accuracy  \\\n",
      "0             1.196512                  0.24481                    0.299217   \n",
      "\n",
      "   Participant         BIC  \n",
      "0           25 -901.507455  \n",
      "25\n"
     ]
    },
    {
     "name": "stderr",
     "output_type": "stream",
     "text": [
      "Info: Params [ 1.03812394 10.          9.928438    2.23660459  0.1139362   0.21126292] gave -566.9480546213873\n"
     ]
    },
    {
     "name": "stdout",
     "output_type": "stream",
     "text": [
      "   Drift Rate  Self-excitation Speed  Self-excitation Accuracy  \\\n",
      "0    1.038124                   10.0                  9.928438   \n",
      "\n",
      "   Boundary Separation  Non-decision Time Speed  Non-decision Time Accuracy  \\\n",
      "0             2.236605                 0.113936                    0.211263   \n",
      "\n",
      "   Participant         BIC  \n",
      "0           26 -566.948055  \n",
      "26\n"
     ]
    },
    {
     "name": "stderr",
     "output_type": "stream",
     "text": [
      "Info: Params [4.2675131  7.52722884 9.85667994 7.57800105 0.11661319 0.18116129] gave -248.2204572373424\n"
     ]
    },
    {
     "name": "stdout",
     "output_type": "stream",
     "text": [
      "   Drift Rate  Self-excitation Speed  Self-excitation Accuracy  \\\n",
      "0    4.267513               7.527229                   9.85668   \n",
      "\n",
      "   Boundary Separation  Non-decision Time Speed  Non-decision Time Accuracy  \\\n",
      "0             7.578001                 0.116613                    0.181161   \n",
      "\n",
      "   Participant         BIC  \n",
      "0           27 -248.220457  \n",
      "27\n"
     ]
    },
    {
     "name": "stderr",
     "output_type": "stream",
     "text": [
      "Info: Params [ 2.90468768  9.31372535 10.          0.84354514  0.24442185  0.27566679] gave -939.7222066825141\n"
     ]
    },
    {
     "name": "stdout",
     "output_type": "stream",
     "text": [
      "   Drift Rate  Self-excitation Speed  Self-excitation Accuracy  \\\n",
      "0    2.904688               9.313725                      10.0   \n",
      "\n",
      "   Boundary Separation  Non-decision Time Speed  Non-decision Time Accuracy  \\\n",
      "0             0.843545                 0.244422                    0.275667   \n",
      "\n",
      "   Participant         BIC  \n",
      "0           28 -939.722207  \n",
      "28\n"
     ]
    },
    {
     "name": "stderr",
     "output_type": "stream",
     "text": [
      "Info: Params [ 3.16347666  7.69511961 10.          0.56074707  0.28800985  0.31116415] gave -968.7623245338916\n"
     ]
    },
    {
     "name": "stdout",
     "output_type": "stream",
     "text": [
      "   Drift Rate  Self-excitation Speed  Self-excitation Accuracy  \\\n",
      "0    3.163477                7.69512                      10.0   \n",
      "\n",
      "   Boundary Separation  Non-decision Time Speed  Non-decision Time Accuracy  \\\n",
      "0             0.560747                  0.28801                    0.311164   \n",
      "\n",
      "   Participant         BIC  \n",
      "0           29 -968.762325  \n",
      "29\n"
     ]
    },
    {
     "name": "stderr",
     "output_type": "stream",
     "text": [
      "Info: Params [3.02155013 7.43419714 5.63334245 0.74545157 0.31158902 0.31871819] gave -805.2966169195129\n"
     ]
    },
    {
     "name": "stdout",
     "output_type": "stream",
     "text": [
      "   Drift Rate  Self-excitation Speed  Self-excitation Accuracy  \\\n",
      "0     3.02155               7.434197                  5.633342   \n",
      "\n",
      "   Boundary Separation  Non-decision Time Speed  Non-decision Time Accuracy  \\\n",
      "0             0.745452                 0.311589                    0.318718   \n",
      "\n",
      "   Participant         BIC  \n",
      "0           30 -805.296617  \n",
      "30\n"
     ]
    },
    {
     "name": "stderr",
     "output_type": "stream",
     "text": [
      "Info: Params [2.29920147 9.2426125  8.55928665 1.9651559  0.20536283 0.2317374 ] gave -321.62060253888103\n"
     ]
    },
    {
     "name": "stdout",
     "output_type": "stream",
     "text": [
      "   Drift Rate  Self-excitation Speed  Self-excitation Accuracy  \\\n",
      "0    2.299201               9.242612                  8.559287   \n",
      "\n",
      "   Boundary Separation  Non-decision Time Speed  Non-decision Time Accuracy  \\\n",
      "0             1.965156                 0.205363                    0.231737   \n",
      "\n",
      "   Participant         BIC  \n",
      "0           31 -321.620603  \n",
      "31\n"
     ]
    },
    {
     "name": "stderr",
     "output_type": "stream",
     "text": [
      "Info: Params [ 2.44498917 10.          9.87129366  0.95706708  0.24105355  0.28973331] gave -1310.4971400349973\n"
     ]
    },
    {
     "name": "stdout",
     "output_type": "stream",
     "text": [
      "   Drift Rate  Self-excitation Speed  Self-excitation Accuracy  \\\n",
      "0    2.444989                   10.0                  9.871294   \n",
      "\n",
      "   Boundary Separation  Non-decision Time Speed  Non-decision Time Accuracy  \\\n",
      "0             0.957067                 0.241054                    0.289733   \n",
      "\n",
      "   Participant         BIC  \n",
      "0           32 -1310.49714  \n"
     ]
    }
   ],
   "source": [
    "df_all = pd.DataFrame()\n",
    "for i in range(sample_size):\n",
    "    print(i)\n",
    "    path = os.path.join(data_dir+str(i+1)+\".csv\")\n",
    "    df = pd.read_csv(path, sep = \",\")\n",
    "    #df = df[df[\"cond\"]==SAT] # A condition\n",
    "    df = df[df[\"Time\"]<3]\n",
    "\n",
    "    samp = Sample.from_pandas_dataframe(df, rt_column_name=\"Time\", correct_column_name=\"Correct\")\n",
    "    df = get_OUM_result_sub_2k2ter(samp)\n",
    "    df_all = pd.concat((df_all,df))\n",
    "    print(df)\n",
    "df_OUM = df_all.copy()\n"
   ]
  },
  {
   "cell_type": "code",
   "execution_count": 23,
   "id": "29aed7ec",
   "metadata": {},
   "outputs": [
    {
     "data": {
      "text/plain": [
       "-10.390090649187467"
      ]
     },
     "execution_count": 23,
     "metadata": {},
     "output_type": "execute_result"
    }
   ],
   "source": [
    "df_OUM[\"BIC\"].mean()"
   ]
  },
  {
   "cell_type": "code",
   "execution_count": 6,
   "id": "3b05a53a",
   "metadata": {},
   "outputs": [],
   "source": [
    "df_OUM.to_csv(\"OUM2k2terresultDutilh2013.csv\")"
   ]
  },
  {
   "cell_type": "code",
   "execution_count": null,
   "id": "87e8797e",
   "metadata": {},
   "outputs": [],
   "source": []
  },
  {
   "cell_type": "code",
   "execution_count": null,
   "id": "1f14d0b2",
   "metadata": {},
   "outputs": [],
   "source": []
  }
 ],
 "metadata": {
  "kernelspec": {
   "display_name": "Python 3 (ipykernel)",
   "language": "python",
   "name": "python3"
  },
  "language_info": {
   "codemirror_mode": {
    "name": "ipython",
    "version": 3
   },
   "file_extension": ".py",
   "mimetype": "text/x-python",
   "name": "python",
   "nbconvert_exporter": "python",
   "pygments_lexer": "ipython3",
   "version": "3.7.15"
  }
 },
 "nbformat": 4,
 "nbformat_minor": 5
}
