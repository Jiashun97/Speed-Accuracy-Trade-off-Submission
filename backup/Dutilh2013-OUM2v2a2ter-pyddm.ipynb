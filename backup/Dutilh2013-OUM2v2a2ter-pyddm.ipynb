{
 "cells": [
  {
   "cell_type": "code",
   "execution_count": 7,
   "id": "2cda49de",
   "metadata": {},
   "outputs": [],
   "source": [
    "%run SAT_help_functions.ipynb"
   ]
  },
  {
   "cell_type": "code",
   "execution_count": null,
   "id": "bc081cf9",
   "metadata": {},
   "outputs": [],
   "source": []
  },
  {
   "cell_type": "markdown",
   "id": "4bd26666",
   "metadata": {},
   "source": [
    "## OUM"
   ]
  },
  {
   "cell_type": "code",
   "execution_count": null,
   "id": "9ef6c434",
   "metadata": {},
   "outputs": [],
   "source": []
  },
  {
   "cell_type": "code",
   "execution_count": 8,
   "id": "e776257c",
   "metadata": {},
   "outputs": [],
   "source": [
    "data_dir = \"/Users/wangjiashun/Desktop/Reserach on SAT/datasets/Evans2021/Dutilh2013/dataBySubject/sub\"\n",
    "sample_size = 32\n",
    "SAT_conds = [\"speed\", \"accuracy\"]"
   ]
  },
  {
   "cell_type": "code",
   "execution_count": 9,
   "id": "f434220f",
   "metadata": {},
   "outputs": [],
   "source": [
    "class BoundSpeedAcc(Bound):\n",
    "    name = \"BoundSpeedAcc\"\n",
    "    required_parameters = [\"Bspeed\", \"Bacc\"]\n",
    "    required_conditions = ['Cond']\n",
    "    def get_bound(self, conditions, *args, **kwargs):\n",
    "        assert self.Bacc > 0\n",
    "        assert self.Bspeed > 0\n",
    "        if conditions['Cond'] == 'speed':\n",
    "            return self.Bspeed\n",
    "        elif conditions['Cond'] == 'accuracy':\n",
    "            return self.Bacc\n",
    "        else:\n",
    "            print(\"Non-implemented SAT conditions\")"
   ]
  },
  {
   "cell_type": "code",
   "execution_count": 10,
   "id": "bbb278a6",
   "metadata": {},
   "outputs": [],
   "source": [
    "\n",
    "class DriftConstantSpeedAcc(Drift):\n",
    "    name = \"DriftBothSpeedAcc\"\n",
    "    required_parameters = [\"Vspeed\",\"Vacc\", \"K\"]\n",
    "    required_conditions = ['Cond']\n",
    "        \n",
    "    def get_drift(self, x, t, conditions, **kwargs):\n",
    "        if conditions['Cond'] == 'speed':\n",
    "            return self.Vspeed + x*self.K \n",
    "        elif conditions['Cond'] == 'accuracy':\n",
    "            return self.Vacc + x*self.K\n",
    "        else: \n",
    "            print(\"Non-implemented SAT conditions\")"
   ]
  },
  {
   "cell_type": "code",
   "execution_count": 11,
   "id": "6e5e0074",
   "metadata": {},
   "outputs": [],
   "source": [
    "\n",
    "class NondecisionSpeedAcc(OverlayNonDecision):\n",
    "    name = \"DriftSpeedAcc\"\n",
    "    required_parameters = [\"tSpeed\", 'tAcc']\n",
    "    required_conditions = ['Cond']\n",
    "        \n",
    "    def get_nondecision_time(self, conditions, **kwargs):\n",
    "        if conditions['Cond'] == 'speed':\n",
    "            return self.tSpeed \n",
    "        elif conditions['Cond'] == 'accuracy':\n",
    "            return self.tAcc\n",
    "        else: \n",
    "            print(\"Non-implemented SAT conditions\")"
   ]
  },
  {
   "cell_type": "code",
   "execution_count": null,
   "id": "b1e0fe9b",
   "metadata": {},
   "outputs": [],
   "source": []
  },
  {
   "cell_type": "code",
   "execution_count": null,
   "id": "81235d16",
   "metadata": {},
   "outputs": [],
   "source": []
  },
  {
   "cell_type": "code",
   "execution_count": null,
   "id": "8a3f5185",
   "metadata": {},
   "outputs": [],
   "source": []
  },
  {
   "cell_type": "code",
   "execution_count": 12,
   "id": "fdb13001",
   "metadata": {
    "scrolled": true
   },
   "outputs": [
    {
     "name": "stdout",
     "output_type": "stream",
     "text": [
      "0\n"
     ]
    },
    {
     "name": "stderr",
     "output_type": "stream",
     "text": [
      "Info: Params [0.22345973 0.95692239 8.29000221 1.35355934 7.99106333 0.22561434\n",
      " 0.16540614] gave 35.013300817784454\n"
     ]
    },
    {
     "name": "stdout",
     "output_type": "stream",
     "text": [
      "   Drift Rate Speed  Drift Rate Accuracy  Self-excitation  \\\n",
      "0           0.22346             0.956922         8.290002   \n",
      "\n",
      "   Boundary Separation Speed      Bacc  Non-decision Time Speed  \\\n",
      "0                   1.353559  7.991063                 0.225614   \n",
      "\n",
      "   Non-decision Time Accuracy  Participant        BIC  \n",
      "0                    0.165406            1  35.013301  \n",
      "1\n"
     ]
    },
    {
     "name": "stderr",
     "output_type": "stream",
     "text": [
      "Info: Params [2.11349347 1.73763063 5.2347504  0.70648064 1.16094833 0.34369426\n",
      " 0.33805765] gave -204.14735898031188\n"
     ]
    },
    {
     "name": "stdout",
     "output_type": "stream",
     "text": [
      "   Drift Rate Speed  Drift Rate Accuracy  Self-excitation  \\\n",
      "0          2.113493             1.737631          5.23475   \n",
      "\n",
      "   Boundary Separation Speed      Bacc  Non-decision Time Speed  \\\n",
      "0                   0.706481  1.160948                 0.343694   \n",
      "\n",
      "   Non-decision Time Accuracy  Participant         BIC  \n",
      "0                    0.338058            2 -204.147359  \n",
      "2\n"
     ]
    },
    {
     "name": "stderr",
     "output_type": "stream",
     "text": [
      "Info: Params [0.         0.         3.3248428  1.75795258 6.63757496 0.10343911\n",
      " 0.12807647] gave 577.666483484061\n"
     ]
    },
    {
     "name": "stdout",
     "output_type": "stream",
     "text": [
      "   Drift Rate Speed  Drift Rate Accuracy  Self-excitation  \\\n",
      "0               0.0                  0.0         3.324843   \n",
      "\n",
      "   Boundary Separation Speed      Bacc  Non-decision Time Speed  \\\n",
      "0                   1.757953  6.637575                 0.103439   \n",
      "\n",
      "   Non-decision Time Accuracy  Participant         BIC  \n",
      "0                    0.128076            3  577.666483  \n",
      "3\n"
     ]
    },
    {
     "name": "stderr",
     "output_type": "stream",
     "text": [
      "Info: Params [3.79618673 6.         7.01315255 1.18846488 5.67167319 0.31329717\n",
      " 0.21872964] gave -203.20595565268633\n"
     ]
    },
    {
     "name": "stdout",
     "output_type": "stream",
     "text": [
      "   Drift Rate Speed  Drift Rate Accuracy  Self-excitation  \\\n",
      "0          3.796187                  6.0         7.013153   \n",
      "\n",
      "   Boundary Separation Speed      Bacc  Non-decision Time Speed  \\\n",
      "0                   1.188465  5.671673                 0.313297   \n",
      "\n",
      "   Non-decision Time Accuracy  Participant         BIC  \n",
      "0                     0.21873            4 -203.205956  \n",
      "4\n"
     ]
    },
    {
     "name": "stderr",
     "output_type": "stream",
     "text": [
      "Info: Params [2.11713249 2.09175917 4.32112297 1.15608545 1.25688503 0.22686653\n",
      " 0.28617123] gave -91.39675146024987\n"
     ]
    },
    {
     "name": "stdout",
     "output_type": "stream",
     "text": [
      "   Drift Rate Speed  Drift Rate Accuracy  Self-excitation  \\\n",
      "0          2.117132             2.091759         4.321123   \n",
      "\n",
      "   Boundary Separation Speed      Bacc  Non-decision Time Speed  \\\n",
      "0                   1.156085  1.256885                 0.226867   \n",
      "\n",
      "   Non-decision Time Accuracy  Participant        BIC  \n",
      "0                    0.286171            5 -91.396751  \n",
      "5\n"
     ]
    },
    {
     "name": "stderr",
     "output_type": "stream",
     "text": [
      "Info: Params [1.51468745 2.12785238 7.41228904 1.39231359 7.69683506 0.2389569\n",
      " 0.16719152] gave -214.2437985864802\n"
     ]
    },
    {
     "name": "stdout",
     "output_type": "stream",
     "text": [
      "   Drift Rate Speed  Drift Rate Accuracy  Self-excitation  \\\n",
      "0          1.514687             2.127852         7.412289   \n",
      "\n",
      "   Boundary Separation Speed      Bacc  Non-decision Time Speed  \\\n",
      "0                   1.392314  7.696835                 0.238957   \n",
      "\n",
      "   Non-decision Time Accuracy  Participant         BIC  \n",
      "0                    0.167192            6 -214.243799  \n",
      "6\n"
     ]
    },
    {
     "name": "stderr",
     "output_type": "stream",
     "text": [
      "Info: Params [1.27779391 4.24789869 8.89702394 1.65661762 3.84193011 0.18765621\n",
      " 0.30518013] gave -462.8188971870573\n"
     ]
    },
    {
     "name": "stdout",
     "output_type": "stream",
     "text": [
      "   Drift Rate Speed  Drift Rate Accuracy  Self-excitation  \\\n",
      "0          1.277794             4.247899         8.897024   \n",
      "\n",
      "   Boundary Separation Speed     Bacc  Non-decision Time Speed  \\\n",
      "0                   1.656618  3.84193                 0.187656   \n",
      "\n",
      "   Non-decision Time Accuracy  Participant         BIC  \n",
      "0                     0.30518            7 -462.818897  \n",
      "7\n"
     ]
    },
    {
     "name": "stderr",
     "output_type": "stream",
     "text": [
      "Info: Params [1.4005309  2.10568256 6.05602851 2.26900182 1.32565341 0.1251702\n",
      " 0.2568234 ] gave -134.74778117159937\n"
     ]
    },
    {
     "name": "stdout",
     "output_type": "stream",
     "text": [
      "   Drift Rate Speed  Drift Rate Accuracy  Self-excitation  \\\n",
      "0          1.400531             2.105683         6.056029   \n",
      "\n",
      "   Boundary Separation Speed      Bacc  Non-decision Time Speed  \\\n",
      "0                   2.269002  1.325653                  0.12517   \n",
      "\n",
      "   Non-decision Time Accuracy  Participant         BIC  \n",
      "0                    0.256823            8 -134.747781  \n",
      "8\n"
     ]
    },
    {
     "name": "stderr",
     "output_type": "stream",
     "text": [
      "Info: Params [0.85919765 1.47563383 6.74133179 4.15169988 3.18489997 0.1025182\n",
      " 0.19096109] gave 73.0725519807994\n"
     ]
    },
    {
     "name": "stdout",
     "output_type": "stream",
     "text": [
      "   Drift Rate Speed  Drift Rate Accuracy  Self-excitation  \\\n",
      "0          0.859198             1.475634         6.741332   \n",
      "\n",
      "   Boundary Separation Speed    Bacc  Non-decision Time Speed  \\\n",
      "0                     4.1517  3.1849                 0.102518   \n",
      "\n",
      "   Non-decision Time Accuracy  Participant        BIC  \n",
      "0                    0.190961            9  73.072552  \n",
      "9\n"
     ]
    },
    {
     "name": "stderr",
     "output_type": "stream",
     "text": [
      "Info: Params [0.         0.27144861 4.72296085 0.66328498 2.27487821 0.15340464\n",
      " 0.12159382] gave 279.80786763718146\n"
     ]
    },
    {
     "name": "stdout",
     "output_type": "stream",
     "text": [
      "   Drift Rate Speed  Drift Rate Accuracy  Self-excitation  \\\n",
      "0               0.0             0.271449         4.722961   \n",
      "\n",
      "   Boundary Separation Speed      Bacc  Non-decision Time Speed  \\\n",
      "0                   0.663285  2.274878                 0.153405   \n",
      "\n",
      "   Non-decision Time Accuracy  Participant         BIC  \n",
      "0                    0.121594           10  279.807868  \n",
      "10\n"
     ]
    },
    {
     "name": "stderr",
     "output_type": "stream",
     "text": [
      "Info: Params [3.27770142 3.96734109 7.98808152 6.97455083 5.64875695 0.21756129\n",
      " 0.2732844 ] gave -91.67115993373422\n"
     ]
    },
    {
     "name": "stdout",
     "output_type": "stream",
     "text": [
      "   Drift Rate Speed  Drift Rate Accuracy  Self-excitation  \\\n",
      "0          3.277701             3.967341         7.988082   \n",
      "\n",
      "   Boundary Separation Speed      Bacc  Non-decision Time Speed  \\\n",
      "0                   6.974551  5.648757                 0.217561   \n",
      "\n",
      "   Non-decision Time Accuracy  Participant       BIC  \n",
      "0                    0.273284           11 -91.67116  \n",
      "11\n"
     ]
    },
    {
     "name": "stderr",
     "output_type": "stream",
     "text": [
      "Info: Params [2.44792279 2.90093471 7.14257289 0.77079972 2.63835615 0.31737849\n",
      " 0.24509639] gave -684.2563418702443\n"
     ]
    },
    {
     "name": "stdout",
     "output_type": "stream",
     "text": [
      "   Drift Rate Speed  Drift Rate Accuracy  Self-excitation  \\\n",
      "0          2.447923             2.900935         7.142573   \n",
      "\n",
      "   Boundary Separation Speed      Bacc  Non-decision Time Speed  \\\n",
      "0                     0.7708  2.638356                 0.317378   \n",
      "\n",
      "   Non-decision Time Accuracy  Participant         BIC  \n",
      "0                    0.245096           12 -684.256342  \n",
      "12\n"
     ]
    },
    {
     "name": "stderr",
     "output_type": "stream",
     "text": [
      "Info: Params [4.0068305  3.17461495 9.66138741 2.36592675 1.35703098 0.24541004\n",
      " 0.29553141] gave -659.968525451318\n"
     ]
    },
    {
     "name": "stdout",
     "output_type": "stream",
     "text": [
      "   Drift Rate Speed  Drift Rate Accuracy  Self-excitation  \\\n",
      "0          4.006831             3.174615         9.661387   \n",
      "\n",
      "   Boundary Separation Speed      Bacc  Non-decision Time Speed  \\\n",
      "0                   2.365927  1.357031                  0.24541   \n",
      "\n",
      "   Non-decision Time Accuracy  Participant         BIC  \n",
      "0                    0.295531           13 -659.968525  \n",
      "13\n"
     ]
    },
    {
     "name": "stderr",
     "output_type": "stream",
     "text": [
      "Info: Params [1.58271657 3.23078977 4.80931598 0.63381794 1.17486886 0.24110084\n",
      " 0.29476287] gave -413.03694621726265\n"
     ]
    },
    {
     "name": "stdout",
     "output_type": "stream",
     "text": [
      "   Drift Rate Speed  Drift Rate Accuracy  Self-excitation  \\\n",
      "0          1.582717              3.23079         4.809316   \n",
      "\n",
      "   Boundary Separation Speed      Bacc  Non-decision Time Speed  \\\n",
      "0                   0.633818  1.174869                 0.241101   \n",
      "\n",
      "   Non-decision Time Accuracy  Participant         BIC  \n",
      "0                    0.294763           14 -413.036946  \n",
      "14\n"
     ]
    },
    {
     "name": "stderr",
     "output_type": "stream",
     "text": [
      "Info: Params [0.42251152 0.06854243 6.64684656 1.69303062 7.83796932 0.21472876\n",
      " 0.10976888] gave 420.05260832579734\n"
     ]
    },
    {
     "name": "stdout",
     "output_type": "stream",
     "text": [
      "   Drift Rate Speed  Drift Rate Accuracy  Self-excitation  \\\n",
      "0          0.422512             0.068542         6.646847   \n",
      "\n",
      "   Boundary Separation Speed      Bacc  Non-decision Time Speed  \\\n",
      "0                   1.693031  7.837969                 0.214729   \n",
      "\n",
      "   Non-decision Time Accuracy  Participant         BIC  \n",
      "0                    0.109769           15  420.052608  \n",
      "15\n"
     ]
    },
    {
     "name": "stderr",
     "output_type": "stream",
     "text": [
      "Info: Params [2.99075139 5.97886621 7.1933939  0.8306354  1.93539265 0.33595229\n",
      " 0.32654319] gave -490.49524433688646\n"
     ]
    },
    {
     "name": "stdout",
     "output_type": "stream",
     "text": [
      "   Drift Rate Speed  Drift Rate Accuracy  Self-excitation  \\\n",
      "0          2.990751             5.978866         7.193394   \n",
      "\n",
      "   Boundary Separation Speed      Bacc  Non-decision Time Speed  \\\n",
      "0                   0.830635  1.935393                 0.335952   \n",
      "\n",
      "   Non-decision Time Accuracy  Participant         BIC  \n",
      "0                    0.326543           16 -490.495244  \n",
      "16\n"
     ]
    },
    {
     "name": "stderr",
     "output_type": "stream",
     "text": [
      "Info: Params [0.53291082 1.68541048 5.70137373 1.08963897 4.51170655 0.13415294\n",
      " 0.10843922] gave 325.96541406144956\n"
     ]
    },
    {
     "name": "stdout",
     "output_type": "stream",
     "text": [
      "   Drift Rate Speed  Drift Rate Accuracy  Self-excitation  \\\n",
      "0          0.532911              1.68541         5.701374   \n",
      "\n",
      "   Boundary Separation Speed      Bacc  Non-decision Time Speed  \\\n",
      "0                   1.089639  4.511707                 0.134153   \n",
      "\n",
      "   Non-decision Time Accuracy  Participant         BIC  \n",
      "0                    0.108439           17  325.965414  \n",
      "17\n"
     ]
    },
    {
     "name": "stderr",
     "output_type": "stream",
     "text": [
      "Info: Params [2.9316454  3.94010006 8.85788011 0.90781096 1.74882209 0.26455393\n",
      " 0.24892097] gave -1035.8403441980843\n"
     ]
    },
    {
     "name": "stdout",
     "output_type": "stream",
     "text": [
      "   Drift Rate Speed  Drift Rate Accuracy  Self-excitation  \\\n",
      "0          2.931645               3.9401          8.85788   \n",
      "\n",
      "   Boundary Separation Speed      Bacc  Non-decision Time Speed  \\\n",
      "0                   0.907811  1.748822                 0.264554   \n",
      "\n",
      "   Non-decision Time Accuracy  Participant          BIC  \n",
      "0                    0.248921           18 -1035.840344  \n",
      "18\n"
     ]
    },
    {
     "name": "stderr",
     "output_type": "stream",
     "text": [
      "Info: Params [1.68536276 2.8529466  6.25877803 0.68670074 0.95357684 0.2651516\n",
      " 0.27816953] gave -348.8480582472977\n"
     ]
    },
    {
     "name": "stdout",
     "output_type": "stream",
     "text": [
      "   Drift Rate Speed  Drift Rate Accuracy  Self-excitation  \\\n",
      "0          1.685363             2.852947         6.258778   \n",
      "\n",
      "   Boundary Separation Speed      Bacc  Non-decision Time Speed  \\\n",
      "0                   0.686701  0.953577                 0.265152   \n",
      "\n",
      "   Non-decision Time Accuracy  Participant         BIC  \n",
      "0                     0.27817           19 -348.848058  \n",
      "19\n"
     ]
    },
    {
     "name": "stderr",
     "output_type": "stream",
     "text": [
      "Info: Params [ 1.67095553  3.13511745 10.          2.4635328   3.31799304  0.16325328\n",
      "  0.20910963] gave -956.6333409558405\n"
     ]
    },
    {
     "name": "stdout",
     "output_type": "stream",
     "text": [
      "   Drift Rate Speed  Drift Rate Accuracy  Self-excitation  \\\n",
      "0          1.670956             3.135117             10.0   \n",
      "\n",
      "   Boundary Separation Speed      Bacc  Non-decision Time Speed  \\\n",
      "0                   2.463533  3.317993                 0.163253   \n",
      "\n",
      "   Non-decision Time Accuracy  Participant         BIC  \n",
      "0                     0.20911           20 -956.633341  \n",
      "20\n"
     ]
    },
    {
     "name": "stderr",
     "output_type": "stream",
     "text": [
      "Info: Params [ 0.4828357   2.73956773 10.          1.09749983  6.69915145  0.18709928\n",
      "  0.17937209] gave -421.19404922984245\n"
     ]
    },
    {
     "name": "stdout",
     "output_type": "stream",
     "text": [
      "   Drift Rate Speed  Drift Rate Accuracy  Self-excitation  \\\n",
      "0          0.482836             2.739568             10.0   \n",
      "\n",
      "   Boundary Separation Speed      Bacc  Non-decision Time Speed  \\\n",
      "0                     1.0975  6.699151                 0.187099   \n",
      "\n",
      "   Non-decision Time Accuracy  Participant         BIC  \n",
      "0                    0.179372           21 -421.194049  \n",
      "21\n"
     ]
    },
    {
     "name": "stderr",
     "output_type": "stream",
     "text": [
      "Info: Params [0.35827187 1.38965134 8.36170744 2.58469609 7.99482518 0.10965829\n",
      " 0.13254472] gave -2.5772830509686884\n"
     ]
    },
    {
     "name": "stdout",
     "output_type": "stream",
     "text": [
      "   Drift Rate Speed  Drift Rate Accuracy  Self-excitation  \\\n",
      "0          0.358272             1.389651         8.361707   \n",
      "\n",
      "   Boundary Separation Speed      Bacc  Non-decision Time Speed  \\\n",
      "0                   2.584696  7.994825                 0.109658   \n",
      "\n",
      "   Non-decision Time Accuracy  Participant       BIC  \n",
      "0                    0.132545           22 -2.577283  \n",
      "22\n"
     ]
    },
    {
     "name": "stderr",
     "output_type": "stream",
     "text": [
      "Info: Params [ 3.37123551  6.         10.          3.25691022  6.07431905  0.21199827\n",
      "  0.25229981] gave -257.3456114791524\n"
     ]
    },
    {
     "name": "stdout",
     "output_type": "stream",
     "text": [
      "   Drift Rate Speed  Drift Rate Accuracy  Self-excitation  \\\n",
      "0          3.371236                  6.0             10.0   \n",
      "\n",
      "   Boundary Separation Speed      Bacc  Non-decision Time Speed  \\\n",
      "0                    3.25691  6.074319                 0.211998   \n",
      "\n",
      "   Non-decision Time Accuracy  Participant         BIC  \n",
      "0                      0.2523           23 -257.345611  \n",
      "23\n"
     ]
    },
    {
     "name": "stderr",
     "output_type": "stream",
     "text": [
      "Info: Params [ 1.94024154  3.31580046 10.          0.82026361  0.60161527  0.21005255\n",
      "  0.30286639] gave -1164.105628598513\n"
     ]
    },
    {
     "name": "stdout",
     "output_type": "stream",
     "text": [
      "   Drift Rate Speed  Drift Rate Accuracy  Self-excitation  \\\n",
      "0          1.940242               3.3158             10.0   \n",
      "\n",
      "   Boundary Separation Speed      Bacc  Non-decision Time Speed  \\\n",
      "0                   0.820264  0.601615                 0.210053   \n",
      "\n",
      "   Non-decision Time Accuracy  Participant          BIC  \n",
      "0                    0.302866           24 -1164.105629  \n",
      "24\n"
     ]
    },
    {
     "name": "stderr",
     "output_type": "stream",
     "text": [
      "Info: Params [ 2.32203625  3.91474921 10.          1.15552417  1.10079806  0.24726486\n",
      "  0.31023699] gave -915.8251599784443\n"
     ]
    },
    {
     "name": "stdout",
     "output_type": "stream",
     "text": [
      "   Drift Rate Speed  Drift Rate Accuracy  Self-excitation  \\\n",
      "0          2.322036             3.914749             10.0   \n",
      "\n",
      "   Boundary Separation Speed      Bacc  Non-decision Time Speed  \\\n",
      "0                   1.155524  1.100798                 0.247265   \n",
      "\n",
      "   Non-decision Time Accuracy  Participant        BIC  \n",
      "0                    0.310237           25 -915.82516  \n",
      "25\n"
     ]
    },
    {
     "name": "stderr",
     "output_type": "stream",
     "text": [
      "Info: Params [ 0.75033283  2.9122677  10.          2.44858117  2.06001418  0.10886901\n",
      "  0.25171331] gave -632.633588058204\n"
     ]
    },
    {
     "name": "stdout",
     "output_type": "stream",
     "text": [
      "   Drift Rate Speed  Drift Rate Accuracy  Self-excitation  \\\n",
      "0          0.750333             2.912268             10.0   \n",
      "\n",
      "   Boundary Separation Speed      Bacc  Non-decision Time Speed  \\\n",
      "0                   2.448581  2.060014                 0.108869   \n",
      "\n",
      "   Non-decision Time Accuracy  Participant         BIC  \n",
      "0                    0.251713           26 -632.633588  \n",
      "26\n"
     ]
    },
    {
     "name": "stderr",
     "output_type": "stream",
     "text": [
      "Info: Params [5.13239189 3.16346033 7.51813913 7.51391852 2.54965712 0.13644399\n",
      " 0.23602376] gave -247.69175821439472\n"
     ]
    },
    {
     "name": "stdout",
     "output_type": "stream",
     "text": [
      "   Drift Rate Speed  Drift Rate Accuracy  Self-excitation  \\\n",
      "0          5.132392              3.16346         7.518139   \n",
      "\n",
      "   Boundary Separation Speed      Bacc  Non-decision Time Speed  \\\n",
      "0                   7.513919  2.549657                 0.136444   \n",
      "\n",
      "   Non-decision Time Accuracy  Participant         BIC  \n",
      "0                    0.236024           27 -247.691758  \n",
      "27\n"
     ]
    },
    {
     "name": "stderr",
     "output_type": "stream",
     "text": [
      "Info: Params [2.50073582 3.94468927 9.73946607 0.85360635 0.70683753 0.24481125\n",
      " 0.29254029] gave -958.9730184121946\n"
     ]
    },
    {
     "name": "stdout",
     "output_type": "stream",
     "text": [
      "   Drift Rate Speed  Drift Rate Accuracy  Self-excitation  \\\n",
      "0          2.500736             3.944689         9.739466   \n",
      "\n",
      "   Boundary Separation Speed      Bacc  Non-decision Time Speed  \\\n",
      "0                   0.853606  0.706838                 0.244811   \n",
      "\n",
      "   Non-decision Time Accuracy  Participant         BIC  \n",
      "0                     0.29254           28 -958.973018  \n",
      "28\n"
     ]
    },
    {
     "name": "stderr",
     "output_type": "stream",
     "text": [
      "Info: Params [ 2.7064423   3.46279425 10.          1.32467642  0.55032228  0.22050685\n",
      "  0.3160129 ] gave -978.0976675069356\n"
     ]
    },
    {
     "name": "stdout",
     "output_type": "stream",
     "text": [
      "   Drift Rate Speed  Drift Rate Accuracy  Self-excitation  \\\n",
      "0          2.706442             3.462794             10.0   \n",
      "\n",
      "   Boundary Separation Speed      Bacc  Non-decision Time Speed  \\\n",
      "0                   1.324676  0.550322                 0.220507   \n",
      "\n",
      "   Non-decision Time Accuracy  Participant         BIC  \n",
      "0                    0.316013           29 -978.097668  \n",
      "29\n"
     ]
    },
    {
     "name": "stderr",
     "output_type": "stream",
     "text": [
      "Info: Params [3.13548938 2.986499   6.79187297 0.71969995 0.8212948  0.31493993\n",
      " 0.31250875] gave -801.8894012099423\n"
     ]
    },
    {
     "name": "stdout",
     "output_type": "stream",
     "text": [
      "   Drift Rate Speed  Drift Rate Accuracy  Self-excitation  \\\n",
      "0          3.135489             2.986499         6.791873   \n",
      "\n",
      "   Boundary Separation Speed      Bacc  Non-decision Time Speed  \\\n",
      "0                     0.7197  0.821295                  0.31494   \n",
      "\n",
      "   Non-decision Time Accuracy  Participant         BIC  \n",
      "0                    0.312509           30 -801.889401  \n",
      "30\n"
     ]
    },
    {
     "name": "stderr",
     "output_type": "stream",
     "text": [
      "Info: Params [1.71288812 4.41789204 9.07216367 2.20756886 4.28215209 0.18465865\n",
      " 0.20942428] gave -354.72124597172535\n"
     ]
    },
    {
     "name": "stdout",
     "output_type": "stream",
     "text": [
      "   Drift Rate Speed  Drift Rate Accuracy  Self-excitation  \\\n",
      "0          1.712888             4.417892         9.072164   \n",
      "\n",
      "   Boundary Separation Speed      Bacc  Non-decision Time Speed  \\\n",
      "0                   2.207569  4.282152                 0.184659   \n",
      "\n",
      "   Non-decision Time Accuracy  Participant         BIC  \n",
      "0                    0.209424           31 -354.721246  \n",
      "31\n"
     ]
    },
    {
     "name": "stderr",
     "output_type": "stream",
     "text": [
      "Info: Params [ 1.9689548   4.6111727  10.          0.9011568   2.62615418  0.24606721\n",
      "  0.23979348] gave -1378.4122806795358\n"
     ]
    },
    {
     "name": "stdout",
     "output_type": "stream",
     "text": [
      "   Drift Rate Speed  Drift Rate Accuracy  Self-excitation  \\\n",
      "0          1.968955             4.611173             10.0   \n",
      "\n",
      "   Boundary Separation Speed      Bacc  Non-decision Time Speed  \\\n",
      "0                   0.901157  2.626154                 0.246067   \n",
      "\n",
      "   Non-decision Time Accuracy  Participant          BIC  \n",
      "0                    0.239793           32 -1378.412281  \n"
     ]
    }
   ],
   "source": [
    "df_all = pd.DataFrame()\n",
    "for i in range(sample_size):\n",
    "    print(i)\n",
    "    path = os.path.join(data_dir+str(i+1)+\".csv\")\n",
    "    df = pd.read_csv(path, sep = \",\")\n",
    "    #df = df[df[\"cond\"]==SAT] # A condition\n",
    "    df = df[df[\"Time\"]<3]\n",
    "\n",
    "    samp = Sample.from_pandas_dataframe(df, rt_column_name=\"Time\", correct_column_name=\"Correct\")\n",
    "    df = get_OUM_result_sub_2v2a2ter(samp)\n",
    "    df_all = pd.concat((df_all,df))\n",
    "    print(df)\n",
    "df_OUM = df_all.copy()\n"
   ]
  },
  {
   "cell_type": "code",
   "execution_count": 13,
   "id": "3b05a53a",
   "metadata": {},
   "outputs": [],
   "source": [
    "df_OUM.to_csv(\"OUM2v2a2terresultDutilh2013.csv\")"
   ]
  },
  {
   "cell_type": "code",
   "execution_count": 14,
   "id": "87e8797e",
   "metadata": {},
   "outputs": [
    {
     "data": {
      "text/plain": [
       "-387.28746782286976"
      ]
     },
     "execution_count": 14,
     "metadata": {},
     "output_type": "execute_result"
    }
   ],
   "source": [
    "df_OUM[\"BIC\"].mean()"
   ]
  },
  {
   "cell_type": "code",
   "execution_count": null,
   "id": "66bb2313",
   "metadata": {},
   "outputs": [],
   "source": []
  }
 ],
 "metadata": {
  "kernelspec": {
   "display_name": "Python 3 (ipykernel)",
   "language": "python",
   "name": "python3"
  },
  "language_info": {
   "codemirror_mode": {
    "name": "ipython",
    "version": 3
   },
   "file_extension": ".py",
   "mimetype": "text/x-python",
   "name": "python",
   "nbconvert_exporter": "python",
   "pygments_lexer": "ipython3",
   "version": "3.7.15"
  }
 },
 "nbformat": 4,
 "nbformat_minor": 5
}
