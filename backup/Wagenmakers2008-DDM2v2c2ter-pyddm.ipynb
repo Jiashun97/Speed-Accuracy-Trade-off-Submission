{
 "cells": [
  {
   "cell_type": "code",
   "execution_count": 1,
   "id": "2cda49de",
   "metadata": {},
   "outputs": [],
   "source": [
    "%run SAT_help_functions.ipynb"
   ]
  },
  {
   "cell_type": "code",
   "execution_count": null,
   "id": "bc081cf9",
   "metadata": {},
   "outputs": [],
   "source": []
  },
  {
   "cell_type": "markdown",
   "id": "4bd26666",
   "metadata": {},
   "source": [
    "## OUM"
   ]
  },
  {
   "cell_type": "code",
   "execution_count": null,
   "id": "9ef6c434",
   "metadata": {},
   "outputs": [],
   "source": []
  },
  {
   "cell_type": "code",
   "execution_count": 2,
   "id": "e776257c",
   "metadata": {},
   "outputs": [],
   "source": [
    "data_dir = \"/Users/wangjiashun/Desktop/Reserach on SAT/datasets/Lexical Decision Data/SpeedAccData.csv\"\n",
    "sample_size = 16\n",
    "SAT_conds = [1,2]"
   ]
  },
  {
   "cell_type": "code",
   "execution_count": 3,
   "id": "bac26280",
   "metadata": {},
   "outputs": [],
   "source": [
    "\n",
    "class DriftConstantSpeedAcc(Drift):\n",
    "    name = \"DriftConstantSpeedAcc\"\n",
    "    required_parameters = [\"Vspeed\",\"Vacc\"]\n",
    "    required_conditions = ['SAT']\n",
    "        \n",
    "    def get_drift(self, x, t, conditions, **kwargs):\n",
    "        if conditions['SAT'] == 1:\n",
    "            return self.Vspeed\n",
    "        elif conditions['SAT'] == 2:\n",
    "            return self.Vacc\n",
    "\n",
    "class BoundCollapsingLinearSAT(BoundCollapsingLinear):\n",
    "    name = \"BoundSpeedAcc\"\n",
    "    required_parameters = [\"B\", \"cSpeed\", 'cAcc']\n",
    "    required_conditions = ['SAT']\n",
    "        \n",
    "    def get_bound(self, t, conditions, **kwargs):\n",
    "        if conditions['SAT'] == 1:\n",
    "            return max(self.B - self.cSpeed*t, 0.)\n",
    "        elif conditions['SAT'] == 2:\n",
    "            return max(self.B - self.cAcc*t, 0.)\n",
    "\n",
    "class NondecisionSpeedAcc(OverlayNonDecision):\n",
    "    name = \"NondecisionSpeedAcc\"\n",
    "    required_parameters = [\"tSpeed\", 'tAcc']\n",
    "    required_conditions = ['SAT']\n",
    "        \n",
    "    def get_nondecision_time(self, conditions, **kwargs):\n",
    "        if conditions['SAT'] == 1:\n",
    "            return self.tSpeed \n",
    "        elif conditions['SAT'] == 2:\n",
    "            return self.tAcc"
   ]
  },
  {
   "cell_type": "code",
   "execution_count": 4,
   "id": "fdb13001",
   "metadata": {
    "scrolled": true
   },
   "outputs": [
    {
     "name": "stderr",
     "output_type": "stream",
     "text": [
      "Warning: This function (from_pandas_dataframe()) is deprecated and will be removed in a future version of PyDDM.  Please use the choice_column_name argument instead.\n"
     ]
    },
    {
     "name": "stdout",
     "output_type": "stream",
     "text": [
      "1\n",
      "1\n"
     ]
    },
    {
     "name": "stderr",
     "output_type": "stream",
     "text": [
      "Info: Params [3.00340184 3.75095612 0.51499888 0.         0.36362864 0.3516657\n",
      " 0.38927589] gave -263.65611382334055\n",
      "Warning: This function (from_pandas_dataframe()) is deprecated and will be removed in a future version of PyDDM.  Please use the choice_column_name argument instead.\n"
     ]
    },
    {
     "name": "stdout",
     "output_type": "stream",
     "text": [
      "     Vspeed      Vacc  Boundary Separation  Collapse Speed  Collapse Accuracy  \\\n",
      "0  3.003402  3.750956             0.514999             0.0           0.363629   \n",
      "\n",
      "   Non-decision Time Speed  Non-decision Time Accuracy         BIC  Frequency  \\\n",
      "0                 0.351666                    0.389276 -263.656114          1   \n",
      "\n",
      "   Participant  \n",
      "0            1  \n",
      "2\n",
      "1\n"
     ]
    },
    {
     "name": "stderr",
     "output_type": "stream",
     "text": [
      "Info: Params [2.37690689 2.25499207 0.56844324 0.6562721  0.0144972  0.3674709\n",
      " 0.3766206 ] gave -134.73133197822412\n",
      "Warning: This function (from_pandas_dataframe()) is deprecated and will be removed in a future version of PyDDM.  Please use the choice_column_name argument instead.\n"
     ]
    },
    {
     "name": "stdout",
     "output_type": "stream",
     "text": [
      "     Vspeed      Vacc  Boundary Separation  Collapse Speed  Collapse Accuracy  \\\n",
      "0  2.376907  2.254992             0.568443        0.656272           0.014497   \n",
      "\n",
      "   Non-decision Time Speed  Non-decision Time Accuracy         BIC  Frequency  \\\n",
      "0                 0.367471                    0.376621 -134.731332          2   \n",
      "\n",
      "   Participant  \n",
      "0            1  \n",
      "3\n",
      "1\n"
     ]
    },
    {
     "name": "stderr",
     "output_type": "stream",
     "text": [
      "Info: Params [0.8935416  1.78342876 0.54487437 0.28933713 0.08333332 0.34600868\n",
      " 0.39605714] gave -18.0988247333415\n",
      "Warning: This function (from_pandas_dataframe()) is deprecated and will be removed in a future version of PyDDM.  Please use the choice_column_name argument instead.\n"
     ]
    },
    {
     "name": "stdout",
     "output_type": "stream",
     "text": [
      "     Vspeed      Vacc  Boundary Separation  Collapse Speed  Collapse Accuracy  \\\n",
      "0  0.893542  1.783429             0.544874        0.289337           0.083333   \n",
      "\n",
      "   Non-decision Time Speed  Non-decision Time Accuracy        BIC  Frequency  \\\n",
      "0                 0.346009                    0.396057 -18.098825          3   \n",
      "\n",
      "   Participant  \n",
      "0            1  \n",
      "4\n",
      "1\n"
     ]
    },
    {
     "name": "stderr",
     "output_type": "stream",
     "text": [
      "Info: Params [2.45946860e+00 2.85529064e+00 5.01940438e-01 1.18648009e-03\n",
      " 1.05715559e-01 3.43651527e-01 3.97314967e-01] gave -165.8424053198733\n",
      "Warning: This function (from_pandas_dataframe()) is deprecated and will be removed in a future version of PyDDM.  Please use the choice_column_name argument instead.\n"
     ]
    },
    {
     "name": "stdout",
     "output_type": "stream",
     "text": [
      "     Vspeed      Vacc  Boundary Separation  Collapse Speed  Collapse Accuracy  \\\n",
      "0  2.459469  2.855291              0.50194        0.001186           0.105716   \n",
      "\n",
      "   Non-decision Time Speed  Non-decision Time Accuracy         BIC  Frequency  \\\n",
      "0                 0.343652                    0.397315 -165.842405          4   \n",
      "\n",
      "   Participant  \n",
      "0            1  \n",
      "5\n",
      "1\n"
     ]
    },
    {
     "name": "stderr",
     "output_type": "stream",
     "text": [
      "Info: Params [3.21279091 2.49272744 0.58290291 0.10417886 0.26666667 0.35325083\n",
      " 0.36415626] gave -168.4833992859026\n",
      "Warning: This function (from_pandas_dataframe()) is deprecated and will be removed in a future version of PyDDM.  Please use the choice_column_name argument instead.\n"
     ]
    },
    {
     "name": "stdout",
     "output_type": "stream",
     "text": [
      "     Vspeed      Vacc  Boundary Separation  Collapse Speed  Collapse Accuracy  \\\n",
      "0  3.212791  2.492727             0.582903        0.104179           0.266667   \n",
      "\n",
      "   Non-decision Time Speed  Non-decision Time Accuracy         BIC  Frequency  \\\n",
      "0                 0.353251                    0.364156 -168.483399          5   \n",
      "\n",
      "   Participant  \n",
      "0            1  \n",
      "6\n",
      "1\n"
     ]
    },
    {
     "name": "stderr",
     "output_type": "stream",
     "text": [
      "Info: Params [3.44015128e+00 2.85573806e+00 5.72620129e-01 2.48665634e-01\n",
      " 4.98060979e-04 3.43494468e-01 3.60608141e-01] gave -219.37622650871796\n",
      "Warning: This function (from_pandas_dataframe()) is deprecated and will be removed in a future version of PyDDM.  Please use the choice_column_name argument instead.\n"
     ]
    },
    {
     "name": "stdout",
     "output_type": "stream",
     "text": [
      "     Vspeed      Vacc  Boundary Separation  Collapse Speed  Collapse Accuracy  \\\n",
      "0  3.440151  2.855738              0.57262        0.248666           0.000498   \n",
      "\n",
      "   Non-decision Time Speed  Non-decision Time Accuracy         BIC  Frequency  \\\n",
      "0                 0.343494                    0.360608 -219.376227          6   \n",
      "\n",
      "   Participant  \n",
      "0            1  \n",
      "1\n",
      "3\n"
     ]
    },
    {
     "name": "stderr",
     "output_type": "stream",
     "text": [
      "Info: Params [2.95870675 3.02382185 0.63954049 0.4556963  0.         0.31902574\n",
      " 0.4216376 ] gave -183.97484251160162\n",
      "Warning: This function (from_pandas_dataframe()) is deprecated and will be removed in a future version of PyDDM.  Please use the choice_column_name argument instead.\n"
     ]
    },
    {
     "name": "stdout",
     "output_type": "stream",
     "text": [
      "     Vspeed      Vacc  Boundary Separation  Collapse Speed  Collapse Accuracy  \\\n",
      "0  2.958707  3.023822              0.63954        0.455696                0.0   \n",
      "\n",
      "   Non-decision Time Speed  Non-decision Time Accuracy         BIC  Frequency  \\\n",
      "0                 0.319026                    0.421638 -183.974843          1   \n",
      "\n",
      "   Participant  \n",
      "0            3  \n",
      "2\n",
      "3\n"
     ]
    },
    {
     "name": "stderr",
     "output_type": "stream",
     "text": [
      "Info: Params [1.79276563 1.83568567 0.66305049 0.25806451 0.         0.30250853\n",
      " 0.38160152] gave -8.814943037163289\n",
      "Warning: This function (from_pandas_dataframe()) is deprecated and will be removed in a future version of PyDDM.  Please use the choice_column_name argument instead.\n"
     ]
    },
    {
     "name": "stdout",
     "output_type": "stream",
     "text": [
      "     Vspeed      Vacc  Boundary Separation  Collapse Speed  Collapse Accuracy  \\\n",
      "0  1.792766  1.835686              0.66305        0.258065                0.0   \n",
      "\n",
      "   Non-decision Time Speed  Non-decision Time Accuracy       BIC  Frequency  \\\n",
      "0                 0.302509                    0.381602 -8.814943          2   \n",
      "\n",
      "   Participant  \n",
      "0            3  \n",
      "3\n",
      "3\n"
     ]
    },
    {
     "name": "stderr",
     "output_type": "stream",
     "text": [
      "Info: Params [1.66940169 1.55695136 0.64836717 0.21428571 0.         0.30859242\n",
      " 0.43206001] gave 34.206993391199624\n",
      "Warning: This function (from_pandas_dataframe()) is deprecated and will be removed in a future version of PyDDM.  Please use the choice_column_name argument instead.\n"
     ]
    },
    {
     "name": "stdout",
     "output_type": "stream",
     "text": [
      "     Vspeed      Vacc  Boundary Separation  Collapse Speed  Collapse Accuracy  \\\n",
      "0  1.669402  1.556951             0.648367        0.214286                0.0   \n",
      "\n",
      "   Non-decision Time Speed  Non-decision Time Accuracy        BIC  Frequency  \\\n",
      "0                 0.308592                     0.43206  34.206993          3   \n",
      "\n",
      "   Participant  \n",
      "0            3  \n",
      "4\n",
      "3\n"
     ]
    },
    {
     "name": "stderr",
     "output_type": "stream",
     "text": [
      "Info: Params [1.65874679 2.01788398 1.58409557 1.89855073 0.66470587 0.14365873\n",
      " 0.14813353] gave 2.7928759267629175\n",
      "Warning: This function (from_pandas_dataframe()) is deprecated and will be removed in a future version of PyDDM.  Please use the choice_column_name argument instead.\n"
     ]
    },
    {
     "name": "stdout",
     "output_type": "stream",
     "text": [
      "     Vspeed      Vacc  Boundary Separation  Collapse Speed  Collapse Accuracy  \\\n",
      "0  1.658747  2.017884             1.584096        1.898551           0.664706   \n",
      "\n",
      "   Non-decision Time Speed  Non-decision Time Accuracy       BIC  Frequency  \\\n",
      "0                 0.143659                    0.148134  2.792876          4   \n",
      "\n",
      "   Participant  \n",
      "0            3  \n",
      "5\n",
      "3\n"
     ]
    },
    {
     "name": "stderr",
     "output_type": "stream",
     "text": [
      "Info: Params [2.89844924 1.84362549 0.88615925 0.94444373 0.0091743  0.2713125\n",
      " 0.35566456] gave -46.76603701479741\n",
      "Warning: This function (from_pandas_dataframe()) is deprecated and will be removed in a future version of PyDDM.  Please use the choice_column_name argument instead.\n"
     ]
    },
    {
     "name": "stdout",
     "output_type": "stream",
     "text": [
      "     Vspeed      Vacc  Boundary Separation  Collapse Speed  Collapse Accuracy  \\\n",
      "0  2.898449  1.843625             0.886159        0.944444           0.009174   \n",
      "\n",
      "   Non-decision Time Speed  Non-decision Time Accuracy        BIC  Frequency  \\\n",
      "0                 0.271312                    0.355665 -46.766037          5   \n",
      "\n",
      "   Participant  \n",
      "0            3  \n",
      "6\n",
      "3\n"
     ]
    },
    {
     "name": "stderr",
     "output_type": "stream",
     "text": [
      "Info: Params [2.66929313 2.2255865  0.91965168 1.03030303 0.         0.29270849\n",
      " 0.35914227] gave -66.62442582431322\n",
      "Warning: This function (from_pandas_dataframe()) is deprecated and will be removed in a future version of PyDDM.  Please use the choice_column_name argument instead.\n"
     ]
    },
    {
     "name": "stdout",
     "output_type": "stream",
     "text": [
      "     Vspeed      Vacc  Boundary Separation  Collapse Speed  Collapse Accuracy  \\\n",
      "0  2.669293  2.225587             0.919652        1.030303                0.0   \n",
      "\n",
      "   Non-decision Time Speed  Non-decision Time Accuracy        BIC  Frequency  \\\n",
      "0                 0.292708                    0.359142 -66.624426          6   \n",
      "\n",
      "   Participant  \n",
      "0            3  \n",
      "1\n",
      "4\n"
     ]
    },
    {
     "name": "stderr",
     "output_type": "stream",
     "text": [
      "Info: Params [3.94045990e+00 3.25213875e+00 5.92912526e-01 1.20444741e+00\n",
      " 6.04012288e-04 3.14181280e-01 3.37434251e-01] gave -300.57578147479614\n",
      "Warning: This function (from_pandas_dataframe()) is deprecated and will be removed in a future version of PyDDM.  Please use the choice_column_name argument instead.\n"
     ]
    },
    {
     "name": "stdout",
     "output_type": "stream",
     "text": [
      "    Vspeed      Vacc  Boundary Separation  Collapse Speed  Collapse Accuracy  \\\n",
      "0  3.94046  3.252139             0.592913        1.204447           0.000604   \n",
      "\n",
      "   Non-decision Time Speed  Non-decision Time Accuracy         BIC  Frequency  \\\n",
      "0                 0.314181                    0.337434 -300.575781          1   \n",
      "\n",
      "   Participant  \n",
      "0            4  \n",
      "2\n",
      "4\n"
     ]
    },
    {
     "name": "stderr",
     "output_type": "stream",
     "text": [
      "Info: Params [2.41351759 3.02796304 0.60382157 1.08571429 0.1111113  0.31604362\n",
      " 0.36804829] gave -221.16379808615812\n",
      "Warning: This function (from_pandas_dataframe()) is deprecated and will be removed in a future version of PyDDM.  Please use the choice_column_name argument instead.\n"
     ]
    },
    {
     "name": "stdout",
     "output_type": "stream",
     "text": [
      "     Vspeed      Vacc  Boundary Separation  Collapse Speed  Collapse Accuracy  \\\n",
      "0  2.413518  3.027963             0.603822        1.085714           0.111111   \n",
      "\n",
      "   Non-decision Time Speed  Non-decision Time Accuracy         BIC  Frequency  \\\n",
      "0                 0.316044                    0.368048 -221.163798          2   \n",
      "\n",
      "   Participant  \n",
      "0            4  \n",
      "3\n",
      "4\n"
     ]
    },
    {
     "name": "stderr",
     "output_type": "stream",
     "text": [
      "Info: Params [1.47819219 1.94397204 0.62189195 0.92307686 0.23809525 0.30564803\n",
      " 0.35277861] gave -86.44260500683471\n",
      "Warning: This function (from_pandas_dataframe()) is deprecated and will be removed in a future version of PyDDM.  Please use the choice_column_name argument instead.\n"
     ]
    },
    {
     "name": "stdout",
     "output_type": "stream",
     "text": [
      "     Vspeed      Vacc  Boundary Separation  Collapse Speed  Collapse Accuracy  \\\n",
      "0  1.478192  1.943972             0.621892        0.923077           0.238095   \n",
      "\n",
      "   Non-decision Time Speed  Non-decision Time Accuracy        BIC  Frequency  \\\n",
      "0                 0.305648                    0.352779 -86.442605          3   \n",
      "\n",
      "   Participant  \n",
      "0            4  \n",
      "4\n",
      "4\n"
     ]
    },
    {
     "name": "stderr",
     "output_type": "stream",
     "text": [
      "Info: Params [3.43702999 2.88193059 0.68355611 1.43477366 0.         0.32145124\n",
      " 0.34738391] gave -234.1765410884091\n",
      "Warning: This function (from_pandas_dataframe()) is deprecated and will be removed in a future version of PyDDM.  Please use the choice_column_name argument instead.\n"
     ]
    },
    {
     "name": "stdout",
     "output_type": "stream",
     "text": [
      "    Vspeed      Vacc  Boundary Separation  Collapse Speed  Collapse Accuracy  \\\n",
      "0  3.43703  2.881931             0.683556        1.434774                0.0   \n",
      "\n",
      "   Non-decision Time Speed  Non-decision Time Accuracy         BIC  Frequency  \\\n",
      "0                 0.321451                    0.347384 -234.176541          4   \n",
      "\n",
      "   Participant  \n",
      "0            4  \n",
      "5\n",
      "4\n"
     ]
    },
    {
     "name": "stderr",
     "output_type": "stream",
     "text": [
      "Info: Params [3.77736968 2.33147529 0.5557464  0.35416666 0.         0.32128229\n",
      " 0.36935934] gave -198.44058346256162\n",
      "Warning: This function (from_pandas_dataframe()) is deprecated and will be removed in a future version of PyDDM.  Please use the choice_column_name argument instead.\n"
     ]
    },
    {
     "name": "stdout",
     "output_type": "stream",
     "text": [
      "    Vspeed      Vacc  Boundary Separation  Collapse Speed  Collapse Accuracy  \\\n",
      "0  3.77737  2.331475             0.555746        0.354167                0.0   \n",
      "\n",
      "   Non-decision Time Speed  Non-decision Time Accuracy         BIC  Frequency  \\\n",
      "0                 0.321282                    0.369359 -198.440583          5   \n",
      "\n",
      "   Participant  \n",
      "0            4  \n",
      "6\n",
      "4\n"
     ]
    },
    {
     "name": "stderr",
     "output_type": "stream",
     "text": [
      "Info: Params [3.26120374 2.19884274 0.54915433 0.69696969 0.         0.31267183\n",
      " 0.36519502] gave -191.99676353032953\n",
      "Warning: This function (from_pandas_dataframe()) is deprecated and will be removed in a future version of PyDDM.  Please use the choice_column_name argument instead.\n"
     ]
    },
    {
     "name": "stdout",
     "output_type": "stream",
     "text": [
      "     Vspeed      Vacc  Boundary Separation  Collapse Speed  Collapse Accuracy  \\\n",
      "0  3.261204  2.198843             0.549154         0.69697                0.0   \n",
      "\n",
      "   Non-decision Time Speed  Non-decision Time Accuracy         BIC  Frequency  \\\n",
      "0                 0.312672                    0.365195 -191.996764          6   \n",
      "\n",
      "   Participant  \n",
      "0            4  \n",
      "1\n",
      "5\n"
     ]
    },
    {
     "name": "stderr",
     "output_type": "stream",
     "text": [
      "Info: Params [4.55206507 3.02757402 0.60075116 0.64926054 0.         0.31783993\n",
      " 0.39827585] gave -282.1325876589919\n",
      "Warning: This function (from_pandas_dataframe()) is deprecated and will be removed in a future version of PyDDM.  Please use the choice_column_name argument instead.\n"
     ]
    },
    {
     "name": "stdout",
     "output_type": "stream",
     "text": [
      "     Vspeed      Vacc  Boundary Separation  Collapse Speed  Collapse Accuracy  \\\n",
      "0  4.552065  3.027574             0.600751        0.649261                0.0   \n",
      "\n",
      "   Non-decision Time Speed  Non-decision Time Accuracy         BIC  Frequency  \\\n",
      "0                  0.31784                    0.398276 -282.132588          1   \n",
      "\n",
      "   Participant  \n",
      "0            5  \n",
      "2\n",
      "5\n"
     ]
    },
    {
     "name": "stderr",
     "output_type": "stream",
     "text": [
      "Info: Params [3.71662655 2.26675028 0.77937542 1.78260872 0.75003015 0.32155814\n",
      " 0.4050197 ] gave -220.36249844456358\n",
      "Warning: This function (from_pandas_dataframe()) is deprecated and will be removed in a future version of PyDDM.  Please use the choice_column_name argument instead.\n"
     ]
    },
    {
     "name": "stdout",
     "output_type": "stream",
     "text": [
      "     Vspeed     Vacc  Boundary Separation  Collapse Speed  Collapse Accuracy  \\\n",
      "0  3.716627  2.26675             0.779375        1.782609            0.75003   \n",
      "\n",
      "   Non-decision Time Speed  Non-decision Time Accuracy         BIC  Frequency  \\\n",
      "0                 0.321558                     0.40502 -220.362498          2   \n",
      "\n",
      "   Participant  \n",
      "0            5  \n",
      "3\n",
      "5\n"
     ]
    },
    {
     "name": "stderr",
     "output_type": "stream",
     "text": [
      "Info: Params [2.21709043 2.83367792 0.61246349 0.97142877 0.37737837 0.33017454\n",
      " 0.46838224] gave -191.08821822455917\n",
      "Warning: This function (from_pandas_dataframe()) is deprecated and will be removed in a future version of PyDDM.  Please use the choice_column_name argument instead.\n"
     ]
    },
    {
     "name": "stdout",
     "output_type": "stream",
     "text": [
      "    Vspeed      Vacc  Boundary Separation  Collapse Speed  Collapse Accuracy  \\\n",
      "0  2.21709  2.833678             0.612463        0.971429           0.377378   \n",
      "\n",
      "   Non-decision Time Speed  Non-decision Time Accuracy         BIC  Frequency  \\\n",
      "0                 0.330175                    0.468382 -191.088218          3   \n",
      "\n",
      "   Participant  \n",
      "0            5  \n",
      "4\n",
      "5\n"
     ]
    },
    {
     "name": "stderr",
     "output_type": "stream",
     "text": [
      "Info: Params [5.57179712 3.26856289 0.80340512 0.15786328 0.26086866 0.33392829\n",
      " 0.41592655] gave -267.5265157044954\n",
      "Warning: This function (from_pandas_dataframe()) is deprecated and will be removed in a future version of PyDDM.  Please use the choice_column_name argument instead.\n"
     ]
    },
    {
     "name": "stdout",
     "output_type": "stream",
     "text": [
      "     Vspeed      Vacc  Boundary Separation  Collapse Speed  Collapse Accuracy  \\\n",
      "0  5.571797  3.268563             0.803405        0.157863           0.260869   \n",
      "\n",
      "   Non-decision Time Speed  Non-decision Time Accuracy         BIC  Frequency  \\\n",
      "0                 0.333928                    0.415927 -267.526516          4   \n",
      "\n",
      "   Participant  \n",
      "0            5  \n",
      "5\n",
      "5\n"
     ]
    },
    {
     "name": "stderr",
     "output_type": "stream",
     "text": [
      "Info: Params [4.3217986  2.43811424 0.58085136 1.47058937 0.         0.36050447\n",
      " 0.48813536] gave -222.87808319257016\n",
      "Warning: This function (from_pandas_dataframe()) is deprecated and will be removed in a future version of PyDDM.  Please use the choice_column_name argument instead.\n"
     ]
    },
    {
     "name": "stdout",
     "output_type": "stream",
     "text": [
      "     Vspeed      Vacc  Boundary Separation  Collapse Speed  Collapse Accuracy  \\\n",
      "0  4.321799  2.438114             0.580851        1.470589                0.0   \n",
      "\n",
      "   Non-decision Time Speed  Non-decision Time Accuracy         BIC  Frequency  \\\n",
      "0                 0.360504                    0.488135 -222.878083          5   \n",
      "\n",
      "   Participant  \n",
      "0            5  \n",
      "6\n",
      "5\n"
     ]
    },
    {
     "name": "stderr",
     "output_type": "stream",
     "text": [
      "Info: Params [2.69211142 2.61012906 0.79754506 2.32383111 0.34667288 0.30266017\n",
      " 0.41184329] gave -210.25074788014368\n",
      "Warning: This function (from_pandas_dataframe()) is deprecated and will be removed in a future version of PyDDM.  Please use the choice_column_name argument instead.\n"
     ]
    },
    {
     "name": "stdout",
     "output_type": "stream",
     "text": [
      "     Vspeed      Vacc  Boundary Separation  Collapse Speed  Collapse Accuracy  \\\n",
      "0  2.692111  2.610129             0.797545        2.323831           0.346673   \n",
      "\n",
      "   Non-decision Time Speed  Non-decision Time Accuracy         BIC  Frequency  \\\n",
      "0                  0.30266                    0.411843 -210.250748          6   \n",
      "\n",
      "   Participant  \n",
      "0            5  \n",
      "1\n",
      "6\n"
     ]
    },
    {
     "name": "stderr",
     "output_type": "stream",
     "text": [
      "Info: Params [2.07699046 3.05135633 0.67885518 1.57894356 0.26189745 0.26184229\n",
      " 0.36983918] gave -207.15378984262884\n",
      "Warning: This function (from_pandas_dataframe()) is deprecated and will be removed in a future version of PyDDM.  Please use the choice_column_name argument instead.\n"
     ]
    },
    {
     "name": "stdout",
     "output_type": "stream",
     "text": [
      "    Vspeed      Vacc  Boundary Separation  Collapse Speed  Collapse Accuracy  \\\n",
      "0  2.07699  3.051356             0.678855        1.578944           0.261897   \n",
      "\n",
      "   Non-decision Time Speed  Non-decision Time Accuracy        BIC  Frequency  \\\n",
      "0                 0.261842                    0.369839 -207.15379          1   \n",
      "\n",
      "   Participant  \n",
      "0            6  \n",
      "2\n",
      "6\n"
     ]
    },
    {
     "name": "stderr",
     "output_type": "stream",
     "text": [
      "Info: Params [1.20447902 2.3487608  0.67304407 0.94339656 0.17819531 0.22581324\n",
      " 0.41137674] gave -82.75953986128283\n",
      "Warning: This function (from_pandas_dataframe()) is deprecated and will be removed in a future version of PyDDM.  Please use the choice_column_name argument instead.\n"
     ]
    },
    {
     "name": "stdout",
     "output_type": "stream",
     "text": [
      "     Vspeed      Vacc  Boundary Separation  Collapse Speed  Collapse Accuracy  \\\n",
      "0  1.204479  2.348761             0.673044        0.943397           0.178195   \n",
      "\n",
      "   Non-decision Time Speed  Non-decision Time Accuracy       BIC  Frequency  \\\n",
      "0                 0.225813                    0.411377 -82.75954          2   \n",
      "\n",
      "   Participant  \n",
      "0            6  \n",
      "3\n",
      "6\n"
     ]
    },
    {
     "name": "stderr",
     "output_type": "stream",
     "text": [
      "Info: Params [0.51733486 1.61914345 0.63445203 0.62745052 0.11827956 0.21272688\n",
      " 0.42134528] gave 22.41646891720967\n",
      "Warning: This function (from_pandas_dataframe()) is deprecated and will be removed in a future version of PyDDM.  Please use the choice_column_name argument instead.\n"
     ]
    },
    {
     "name": "stdout",
     "output_type": "stream",
     "text": [
      "     Vspeed      Vacc  Boundary Separation  Collapse Speed  Collapse Accuracy  \\\n",
      "0  0.517335  1.619143             0.634452        0.627451            0.11828   \n",
      "\n",
      "   Non-decision Time Speed  Non-decision Time Accuracy        BIC  Frequency  \\\n",
      "0                 0.212727                    0.421345  22.416469          3   \n",
      "\n",
      "   Participant  \n",
      "0            6  \n",
      "4\n",
      "6\n"
     ]
    },
    {
     "name": "stderr",
     "output_type": "stream",
     "text": [
      "Info: Params [0.87928102 2.34953893 0.8072     1.06710043 0.28571428 0.19149865\n",
      " 0.38761868] gave -46.35325370811949\n",
      "Warning: This function (from_pandas_dataframe()) is deprecated and will be removed in a future version of PyDDM.  Please use the choice_column_name argument instead.\n"
     ]
    },
    {
     "name": "stdout",
     "output_type": "stream",
     "text": [
      "     Vspeed      Vacc  Boundary Separation  Collapse Speed  Collapse Accuracy  \\\n",
      "0  0.879281  2.349539               0.8072          1.0671           0.285714   \n",
      "\n",
      "   Non-decision Time Speed  Non-decision Time Accuracy        BIC  Frequency  \\\n",
      "0                 0.191499                    0.387619 -46.353254          4   \n",
      "\n",
      "   Participant  \n",
      "0            6  \n",
      "5\n",
      "6\n"
     ]
    },
    {
     "name": "stderr",
     "output_type": "stream",
     "text": [
      "Info: Params [0.94109221 2.28302569 0.62494493 0.6428568  0.         0.26338845\n",
      " 0.40908069] gave -47.04548122615974\n",
      "Warning: This function (from_pandas_dataframe()) is deprecated and will be removed in a future version of PyDDM.  Please use the choice_column_name argument instead.\n"
     ]
    },
    {
     "name": "stdout",
     "output_type": "stream",
     "text": [
      "     Vspeed      Vacc  Boundary Separation  Collapse Speed  Collapse Accuracy  \\\n",
      "0  0.941092  2.283026             0.624945        0.642857                0.0   \n",
      "\n",
      "   Non-decision Time Speed  Non-decision Time Accuracy        BIC  Frequency  \\\n",
      "0                 0.263388                    0.409081 -47.045481          5   \n",
      "\n",
      "   Participant  \n",
      "0            6  \n",
      "6\n",
      "6\n"
     ]
    },
    {
     "name": "stderr",
     "output_type": "stream",
     "text": [
      "Info: Params [0.86395125 2.50748661 0.78074609 0.63714076 0.35625754 0.16159453\n",
      " 0.35687356] gave -36.394648364541105\n",
      "Warning: This function (from_pandas_dataframe()) is deprecated and will be removed in a future version of PyDDM.  Please use the choice_column_name argument instead.\n"
     ]
    },
    {
     "name": "stdout",
     "output_type": "stream",
     "text": [
      "     Vspeed      Vacc  Boundary Separation  Collapse Speed  Collapse Accuracy  \\\n",
      "0  0.863951  2.507487             0.780746        0.637141           0.356258   \n",
      "\n",
      "   Non-decision Time Speed  Non-decision Time Accuracy        BIC  Frequency  \\\n",
      "0                 0.161595                    0.356874 -36.394648          6   \n",
      "\n",
      "   Participant  \n",
      "0            6  \n",
      "1\n",
      "7\n"
     ]
    },
    {
     "name": "stderr",
     "output_type": "stream",
     "text": [
      "Info: Params [0.47932862 2.24924327 0.72647092 0.75       0.33653846 0.16559756\n",
      " 0.27764496] gave -23.094835193877515\n",
      "Warning: This function (from_pandas_dataframe()) is deprecated and will be removed in a future version of PyDDM.  Please use the choice_column_name argument instead.\n"
     ]
    },
    {
     "name": "stdout",
     "output_type": "stream",
     "text": [
      "     Vspeed      Vacc  Boundary Separation  Collapse Speed  Collapse Accuracy  \\\n",
      "0  0.479329  2.249243             0.726471            0.75           0.336538   \n",
      "\n",
      "   Non-decision Time Speed  Non-decision Time Accuracy        BIC  Frequency  \\\n",
      "0                 0.165598                    0.277645 -23.094835          1   \n",
      "\n",
      "   Participant  \n",
      "0            7  \n",
      "2\n",
      "7\n"
     ]
    },
    {
     "name": "stderr",
     "output_type": "stream",
     "text": [
      "Info: Params [1.82772159e-04 1.39397273e+00 6.22308033e-01 6.30473526e-01\n",
      " 4.86429177e-01 2.20692437e-01 3.22861498e-01] gave -3.2910273417852025\n",
      "Warning: This function (from_pandas_dataframe()) is deprecated and will be removed in a future version of PyDDM.  Please use the choice_column_name argument instead.\n"
     ]
    },
    {
     "name": "stdout",
     "output_type": "stream",
     "text": [
      "     Vspeed      Vacc  Boundary Separation  Collapse Speed  Collapse Accuracy  \\\n",
      "0  0.000183  1.393973             0.622308        0.630474           0.486429   \n",
      "\n",
      "   Non-decision Time Speed  Non-decision Time Accuracy       BIC  Frequency  \\\n",
      "0                 0.220692                    0.322861 -3.291027          2   \n",
      "\n",
      "   Participant  \n",
      "0            7  \n",
      "3\n",
      "7\n"
     ]
    },
    {
     "name": "stderr",
     "output_type": "stream",
     "text": [
      "Info: Params [0.         0.68585543 1.08119428 1.73517093 0.95505645 0.12147561\n",
      " 0.19389451] gave 64.08953188974462\n",
      "Warning: This function (from_pandas_dataframe()) is deprecated and will be removed in a future version of PyDDM.  Please use the choice_column_name argument instead.\n"
     ]
    },
    {
     "name": "stdout",
     "output_type": "stream",
     "text": [
      "   Vspeed      Vacc  Boundary Separation  Collapse Speed  Collapse Accuracy  \\\n",
      "0     0.0  0.685855             1.081194        1.735171           0.955056   \n",
      "\n",
      "   Non-decision Time Speed  Non-decision Time Accuracy        BIC  Frequency  \\\n",
      "0                 0.121476                    0.193895  64.089532          3   \n",
      "\n",
      "   Participant  \n",
      "0            7  \n",
      "4\n",
      "7\n"
     ]
    },
    {
     "name": "stderr",
     "output_type": "stream",
     "text": [
      "Info: Params [1.90137081e+00 1.43675316e+00 6.46260668e-01 3.84958293e-01\n",
      " 6.99238778e-06 2.38975259e-01 3.23782957e-01] gave 1.401646297069341\n",
      "Warning: This function (from_pandas_dataframe()) is deprecated and will be removed in a future version of PyDDM.  Please use the choice_column_name argument instead.\n"
     ]
    },
    {
     "name": "stdout",
     "output_type": "stream",
     "text": [
      "     Vspeed      Vacc  Boundary Separation  Collapse Speed  Collapse Accuracy  \\\n",
      "0  1.901371  1.436753             0.646261        0.384958           0.000007   \n",
      "\n",
      "   Non-decision Time Speed  Non-decision Time Accuracy       BIC  Frequency  \\\n",
      "0                 0.238975                    0.323783  1.401646          4   \n",
      "\n",
      "   Participant  \n",
      "0            7  \n",
      "5\n",
      "7\n"
     ]
    },
    {
     "name": "stderr",
     "output_type": "stream",
     "text": [
      "Info: Params [2.14142764 1.41916659 0.6999137  0.86206896 0.21739904 0.2252501\n",
      " 0.33750132] gave -43.25034927802062\n",
      "Warning: This function (from_pandas_dataframe()) is deprecated and will be removed in a future version of PyDDM.  Please use the choice_column_name argument instead.\n"
     ]
    },
    {
     "name": "stdout",
     "output_type": "stream",
     "text": [
      "     Vspeed      Vacc  Boundary Separation  Collapse Speed  Collapse Accuracy  \\\n",
      "0  2.141428  1.419167             0.699914        0.862069           0.217399   \n",
      "\n",
      "   Non-decision Time Speed  Non-decision Time Accuracy        BIC  Frequency  \\\n",
      "0                  0.22525                    0.337501 -43.250349          5   \n",
      "\n",
      "   Participant  \n",
      "0            7  \n",
      "6\n",
      "7\n"
     ]
    },
    {
     "name": "stderr",
     "output_type": "stream",
     "text": [
      "Info: Params [1.97766676 1.89914826 0.60589253 0.30952381 0.01470544 0.24652196\n",
      " 0.34361564] gave -51.95740276184072\n",
      "Warning: This function (from_pandas_dataframe()) is deprecated and will be removed in a future version of PyDDM.  Please use the choice_column_name argument instead.\n"
     ]
    },
    {
     "name": "stdout",
     "output_type": "stream",
     "text": [
      "     Vspeed      Vacc  Boundary Separation  Collapse Speed  Collapse Accuracy  \\\n",
      "0  1.977667  1.899148             0.605893        0.309524           0.014705   \n",
      "\n",
      "   Non-decision Time Speed  Non-decision Time Accuracy        BIC  Frequency  \\\n",
      "0                 0.246522                    0.343616 -51.957403          6   \n",
      "\n",
      "   Participant  \n",
      "0            7  \n",
      "1\n",
      "8\n"
     ]
    },
    {
     "name": "stderr",
     "output_type": "stream",
     "text": [
      "Info: Params [0.5863062  2.06177525 0.92133458 1.03174606 0.         0.13705056\n",
      " 0.39601231] gave 58.7737386134046\n",
      "Warning: This function (from_pandas_dataframe()) is deprecated and will be removed in a future version of PyDDM.  Please use the choice_column_name argument instead.\n"
     ]
    },
    {
     "name": "stdout",
     "output_type": "stream",
     "text": [
      "     Vspeed      Vacc  Boundary Separation  Collapse Speed  Collapse Accuracy  \\\n",
      "0  0.586306  2.061775             0.921335        1.031746                0.0   \n",
      "\n",
      "   Non-decision Time Speed  Non-decision Time Accuracy        BIC  Frequency  \\\n",
      "0                 0.137051                    0.396012  58.773739          1   \n",
      "\n",
      "   Participant  \n",
      "0            8  \n",
      "2\n",
      "8\n"
     ]
    },
    {
     "name": "stderr",
     "output_type": "stream",
     "text": [
      "Info: Params [0.13200474 0.87515363 0.99625502 0.86363679 0.16346392 0.10104858\n",
      " 0.34312053] gave 220.75669010096794\n",
      "Warning: This function (from_pandas_dataframe()) is deprecated and will be removed in a future version of PyDDM.  Please use the choice_column_name argument instead.\n"
     ]
    },
    {
     "name": "stdout",
     "output_type": "stream",
     "text": [
      "     Vspeed      Vacc  Boundary Separation  Collapse Speed  Collapse Accuracy  \\\n",
      "0  0.132005  0.875154             0.996255        0.863637           0.163464   \n",
      "\n",
      "   Non-decision Time Speed  Non-decision Time Accuracy        BIC  Frequency  \\\n",
      "0                 0.101049                    0.343121  220.75669          2   \n",
      "\n",
      "   Participant  \n",
      "0            8  \n",
      "3\n",
      "8\n"
     ]
    },
    {
     "name": "stderr",
     "output_type": "stream",
     "text": [
      "Info: Params [0.         0.39553262 1.00654366 0.97004441 0.1917806  0.12031213\n",
      " 0.28698198] gave 263.10853649325736\n",
      "Warning: This function (from_pandas_dataframe()) is deprecated and will be removed in a future version of PyDDM.  Please use the choice_column_name argument instead.\n"
     ]
    },
    {
     "name": "stdout",
     "output_type": "stream",
     "text": [
      "   Vspeed      Vacc  Boundary Separation  Collapse Speed  Collapse Accuracy  \\\n",
      "0     0.0  0.395533             1.006544        0.970044           0.191781   \n",
      "\n",
      "   Non-decision Time Speed  Non-decision Time Accuracy         BIC  Frequency  \\\n",
      "0                 0.120312                    0.286982  263.108536          3   \n",
      "\n",
      "   Participant  \n",
      "0            8  \n",
      "4\n",
      "8\n"
     ]
    },
    {
     "name": "stderr",
     "output_type": "stream",
     "text": [
      "Info: Params [0.51682347 0.99523982 0.96424808 0.67857084 0.         0.10200989\n",
      " 0.29887729] gave 251.47306225896966\n",
      "Warning: This function (from_pandas_dataframe()) is deprecated and will be removed in a future version of PyDDM.  Please use the choice_column_name argument instead.\n"
     ]
    },
    {
     "name": "stdout",
     "output_type": "stream",
     "text": [
      "     Vspeed     Vacc  Boundary Separation  Collapse Speed  Collapse Accuracy  \\\n",
      "0  0.516823  0.99524             0.964248        0.678571                0.0   \n",
      "\n",
      "   Non-decision Time Speed  Non-decision Time Accuracy         BIC  Frequency  \\\n",
      "0                  0.10201                    0.298877  251.473062          4   \n",
      "\n",
      "   Participant  \n",
      "0            8  \n",
      "5\n",
      "8\n"
     ]
    },
    {
     "name": "stderr",
     "output_type": "stream",
     "text": [
      "Info: Params [0.41831069 1.18915667 1.22385617 1.49413027 0.13559322 0.10834807\n",
      " 0.1566516 ] gave 177.51485228002747\n",
      "Warning: This function (from_pandas_dataframe()) is deprecated and will be removed in a future version of PyDDM.  Please use the choice_column_name argument instead.\n"
     ]
    },
    {
     "name": "stdout",
     "output_type": "stream",
     "text": [
      "     Vspeed      Vacc  Boundary Separation  Collapse Speed  Collapse Accuracy  \\\n",
      "0  0.418311  1.189157             1.223856         1.49413           0.135593   \n",
      "\n",
      "   Non-decision Time Speed  Non-decision Time Accuracy         BIC  Frequency  \\\n",
      "0                 0.108348                    0.156652  177.514852          5   \n",
      "\n",
      "   Participant  \n",
      "0            8  \n",
      "6\n",
      "8\n"
     ]
    },
    {
     "name": "stderr",
     "output_type": "stream",
     "text": [
      "Info: Params [0.32481225 1.14929622 1.05254108 0.71428571 0.         0.11646389\n",
      " 0.1722219 ] gave 233.9537242111565\n",
      "Warning: This function (from_pandas_dataframe()) is deprecated and will be removed in a future version of PyDDM.  Please use the choice_column_name argument instead.\n"
     ]
    },
    {
     "name": "stdout",
     "output_type": "stream",
     "text": [
      "     Vspeed      Vacc  Boundary Separation  Collapse Speed  Collapse Accuracy  \\\n",
      "0  0.324812  1.149296             1.052541        0.714286                0.0   \n",
      "\n",
      "   Non-decision Time Speed  Non-decision Time Accuracy         BIC  Frequency  \\\n",
      "0                 0.116464                    0.172222  233.953724          6   \n",
      "\n",
      "   Participant  \n",
      "0            8  \n",
      "1\n",
      "9\n"
     ]
    },
    {
     "name": "stderr",
     "output_type": "stream",
     "text": [
      "Info: Params [3.79496048 2.42844729 0.67450001 1.59064683 0.00618982 0.36007712\n",
      " 0.4036635 ] gave -253.0515772712301\n",
      "Warning: This function (from_pandas_dataframe()) is deprecated and will be removed in a future version of PyDDM.  Please use the choice_column_name argument instead.\n"
     ]
    },
    {
     "name": "stdout",
     "output_type": "stream",
     "text": [
      "    Vspeed      Vacc  Boundary Separation  Collapse Speed  Collapse Accuracy  \\\n",
      "0  3.79496  2.428447               0.6745        1.590647            0.00619   \n",
      "\n",
      "   Non-decision Time Speed  Non-decision Time Accuracy         BIC  Frequency  \\\n",
      "0                 0.360077                    0.403663 -253.051577          1   \n",
      "\n",
      "   Participant  \n",
      "0            9  \n",
      "2\n",
      "9\n"
     ]
    },
    {
     "name": "stderr",
     "output_type": "stream",
     "text": [
      "Info: Params [2.00005072 1.54289874 0.70524612 0.84745763 0.         0.34313432\n",
      " 0.41941117] gave 6.07676923364879\n",
      "Warning: This function (from_pandas_dataframe()) is deprecated and will be removed in a future version of PyDDM.  Please use the choice_column_name argument instead.\n"
     ]
    },
    {
     "name": "stdout",
     "output_type": "stream",
     "text": [
      "     Vspeed      Vacc  Boundary Separation  Collapse Speed  Collapse Accuracy  \\\n",
      "0  2.000051  1.542899             0.705246        0.847458                0.0   \n",
      "\n",
      "   Non-decision Time Speed  Non-decision Time Accuracy       BIC  Frequency  \\\n",
      "0                 0.343134                    0.419411  6.076769          2   \n",
      "\n",
      "   Participant  \n",
      "0            9  \n",
      "3\n",
      "9\n"
     ]
    },
    {
     "name": "stderr",
     "output_type": "stream",
     "text": [
      "Info: Params [0.83082345 1.23859018 0.69704123 1.16129078 0.         0.35932212\n",
      " 0.42718213] gave 45.16938333671034\n",
      "Warning: This function (from_pandas_dataframe()) is deprecated and will be removed in a future version of PyDDM.  Please use the choice_column_name argument instead.\n"
     ]
    },
    {
     "name": "stdout",
     "output_type": "stream",
     "text": [
      "     Vspeed     Vacc  Boundary Separation  Collapse Speed  Collapse Accuracy  \\\n",
      "0  0.830823  1.23859             0.697041        1.161291                0.0   \n",
      "\n",
      "   Non-decision Time Speed  Non-decision Time Accuracy        BIC  Frequency  \\\n",
      "0                 0.359322                    0.427182  45.169383          3   \n",
      "\n",
      "   Participant  \n",
      "0            9  \n",
      "4\n",
      "9\n"
     ]
    },
    {
     "name": "stderr",
     "output_type": "stream",
     "text": [
      "Info: Params [3.44721983 1.94589338 0.64825145 0.22619047 0.         0.36167612\n",
      " 0.44455934] gave -107.87164888641286\n",
      "Warning: This function (from_pandas_dataframe()) is deprecated and will be removed in a future version of PyDDM.  Please use the choice_column_name argument instead.\n"
     ]
    },
    {
     "name": "stdout",
     "output_type": "stream",
     "text": [
      "    Vspeed      Vacc  Boundary Separation  Collapse Speed  Collapse Accuracy  \\\n",
      "0  3.44722  1.945893             0.648251         0.22619                0.0   \n",
      "\n",
      "   Non-decision Time Speed  Non-decision Time Accuracy         BIC  Frequency  \\\n",
      "0                 0.361676                    0.444559 -107.871649          4   \n",
      "\n",
      "   Participant  \n",
      "0            9  \n",
      "5\n",
      "9\n"
     ]
    },
    {
     "name": "stderr",
     "output_type": "stream",
     "text": [
      "Info: Params [3.02219133 1.59352003 0.98889051 1.51219502 0.18888889 0.32651173\n",
      " 0.26892067] gave -51.840598493295694\n",
      "Warning: This function (from_pandas_dataframe()) is deprecated and will be removed in a future version of PyDDM.  Please use the choice_column_name argument instead.\n"
     ]
    },
    {
     "name": "stdout",
     "output_type": "stream",
     "text": [
      "     Vspeed     Vacc  Boundary Separation  Collapse Speed  Collapse Accuracy  \\\n",
      "0  3.022191  1.59352             0.988891        1.512195           0.188889   \n",
      "\n",
      "   Non-decision Time Speed  Non-decision Time Accuracy        BIC  Frequency  \\\n",
      "0                 0.326512                    0.268921 -51.840598          5   \n",
      "\n",
      "   Participant  \n",
      "0            9  \n",
      "6\n",
      "9\n"
     ]
    },
    {
     "name": "stderr",
     "output_type": "stream",
     "text": [
      "Info: Params [3.12856956 2.19541009 0.67025796 1.07407404 0.         0.37118996\n",
      " 0.43914056] gave -148.78236462043657\n",
      "Warning: This function (from_pandas_dataframe()) is deprecated and will be removed in a future version of PyDDM.  Please use the choice_column_name argument instead.\n"
     ]
    },
    {
     "name": "stdout",
     "output_type": "stream",
     "text": [
      "    Vspeed     Vacc  Boundary Separation  Collapse Speed  Collapse Accuracy  \\\n",
      "0  3.12857  2.19541             0.670258        1.074074                0.0   \n",
      "\n",
      "   Non-decision Time Speed  Non-decision Time Accuracy         BIC  Frequency  \\\n",
      "0                  0.37119                    0.439141 -148.782365          6   \n",
      "\n",
      "   Participant  \n",
      "0            9  \n",
      "1\n",
      "10\n"
     ]
    },
    {
     "name": "stderr",
     "output_type": "stream",
     "text": [
      "Info: Params [2.89086784e+00 3.74291835e+00 5.63537928e-01 4.63804384e-01\n",
      " 1.66338261e-03 2.97775407e-01 3.73663952e-01] gave -537.0765817623607\n",
      "Warning: This function (from_pandas_dataframe()) is deprecated and will be removed in a future version of PyDDM.  Please use the choice_column_name argument instead.\n"
     ]
    },
    {
     "name": "stdout",
     "output_type": "stream",
     "text": [
      "     Vspeed      Vacc  Boundary Separation  Collapse Speed  Collapse Accuracy  \\\n",
      "0  2.890868  3.742918             0.563538        0.463804           0.001663   \n",
      "\n",
      "   Non-decision Time Speed  Non-decision Time Accuracy         BIC  Frequency  \\\n",
      "0                 0.297775                    0.373664 -537.076582          1   \n",
      "\n",
      "   Participant  \n",
      "0           10  \n",
      "2\n",
      "10\n"
     ]
    },
    {
     "name": "stderr",
     "output_type": "stream",
     "text": [
      "Info: Params [1.34888161 2.1198143  0.67948751 0.91634393 0.00249421 0.2739691\n",
      " 0.36418173] gave -229.9147411533167\n",
      "Warning: This function (from_pandas_dataframe()) is deprecated and will be removed in a future version of PyDDM.  Please use the choice_column_name argument instead.\n"
     ]
    },
    {
     "name": "stdout",
     "output_type": "stream",
     "text": [
      "     Vspeed      Vacc  Boundary Separation  Collapse Speed  Collapse Accuracy  \\\n",
      "0  1.348882  2.119814             0.679488        0.916344           0.002494   \n",
      "\n",
      "   Non-decision Time Speed  Non-decision Time Accuracy         BIC  Frequency  \\\n",
      "0                 0.273969                    0.364182 -229.914741          2   \n",
      "\n",
      "   Participant  \n",
      "0           10  \n",
      "3\n",
      "10\n"
     ]
    },
    {
     "name": "stderr",
     "output_type": "stream",
     "text": [
      "Info: Params [0.63573808 1.83481196 0.57299696 0.44285713 0.04968969 0.27368228\n",
      " 0.38597517] gave -55.277095190415444\n",
      "Warning: This function (from_pandas_dataframe()) is deprecated and will be removed in a future version of PyDDM.  Please use the choice_column_name argument instead.\n"
     ]
    },
    {
     "name": "stdout",
     "output_type": "stream",
     "text": [
      "     Vspeed      Vacc  Boundary Separation  Collapse Speed  Collapse Accuracy  \\\n",
      "0  0.635738  1.834812             0.572997        0.442857            0.04969   \n",
      "\n",
      "   Non-decision Time Speed  Non-decision Time Accuracy        BIC  Frequency  \\\n",
      "0                 0.273682                    0.385975 -55.277095          3   \n",
      "\n",
      "   Participant  \n",
      "0           10  \n",
      "4\n",
      "10\n"
     ]
    },
    {
     "name": "stderr",
     "output_type": "stream",
     "text": [
      "Info: Params [2.24574239 2.18448118 0.6472253  0.37489022 0.00421004 0.26880256\n",
      " 0.3657589 ] gave -208.2099933765109\n",
      "Warning: This function (from_pandas_dataframe()) is deprecated and will be removed in a future version of PyDDM.  Please use the choice_column_name argument instead.\n"
     ]
    },
    {
     "name": "stdout",
     "output_type": "stream",
     "text": [
      "     Vspeed      Vacc  Boundary Separation  Collapse Speed  Collapse Accuracy  \\\n",
      "0  2.245742  2.184481             0.647225         0.37489            0.00421   \n",
      "\n",
      "   Non-decision Time Speed  Non-decision Time Accuracy         BIC  Frequency  \\\n",
      "0                 0.268803                    0.365759 -208.209993          4   \n",
      "\n",
      "   Participant  \n",
      "0           10  \n",
      "5\n",
      "10\n"
     ]
    },
    {
     "name": "stderr",
     "output_type": "stream",
     "text": [
      "Info: Params [2.40176981e+00 2.09240794e+00 7.82047408e-01 1.07086987e+00\n",
      " 1.73378421e-03 2.59250825e-01 3.49194110e-01] gave -231.77767073632523\n",
      "Warning: This function (from_pandas_dataframe()) is deprecated and will be removed in a future version of PyDDM.  Please use the choice_column_name argument instead.\n"
     ]
    },
    {
     "name": "stdout",
     "output_type": "stream",
     "text": [
      "    Vspeed      Vacc  Boundary Separation  Collapse Speed  Collapse Accuracy  \\\n",
      "0  2.40177  2.092408             0.782047         1.07087           0.001734   \n",
      "\n",
      "   Non-decision Time Speed  Non-decision Time Accuracy         BIC  Frequency  \\\n",
      "0                 0.259251                    0.349194 -231.777671          5   \n",
      "\n",
      "   Participant  \n",
      "0           10  \n",
      "6\n",
      "10\n"
     ]
    },
    {
     "name": "stderr",
     "output_type": "stream",
     "text": [
      "Info: Params [2.60604224e+00 2.62925346e+00 6.88593817e-01 4.79452058e-01\n",
      " 1.94336421e-03 2.64278051e-01 3.60607085e-01] gave -281.22356849429366\n",
      "Warning: This function (from_pandas_dataframe()) is deprecated and will be removed in a future version of PyDDM.  Please use the choice_column_name argument instead.\n"
     ]
    },
    {
     "name": "stdout",
     "output_type": "stream",
     "text": [
      "     Vspeed      Vacc  Boundary Separation  Collapse Speed  Collapse Accuracy  \\\n",
      "0  2.606042  2.629253             0.688594        0.479452           0.001943   \n",
      "\n",
      "   Non-decision Time Speed  Non-decision Time Accuracy         BIC  Frequency  \\\n",
      "0                 0.264278                    0.360607 -281.223568          6   \n",
      "\n",
      "   Participant  \n",
      "0           10  \n",
      "1\n",
      "11\n"
     ]
    },
    {
     "name": "stderr",
     "output_type": "stream",
     "text": [
      "Info: Params [3.43205614 4.01188397 0.61950751 1.26086967 0.21428519 0.3385621\n",
      " 0.37240007] gave -646.3355379198123\n",
      "Warning: This function (from_pandas_dataframe()) is deprecated and will be removed in a future version of PyDDM.  Please use the choice_column_name argument instead.\n"
     ]
    },
    {
     "name": "stdout",
     "output_type": "stream",
     "text": [
      "     Vspeed      Vacc  Boundary Separation  Collapse Speed  Collapse Accuracy  \\\n",
      "0  3.432056  4.011884             0.619508         1.26087           0.214285   \n",
      "\n",
      "   Non-decision Time Speed  Non-decision Time Accuracy         BIC  Frequency  \\\n",
      "0                 0.338562                      0.3724 -646.335538          1   \n",
      "\n",
      "   Participant  \n",
      "0           11  \n",
      "2\n",
      "11\n"
     ]
    },
    {
     "name": "stderr",
     "output_type": "stream",
     "text": [
      "Info: Params [1.08883416 2.34476406 0.54819332 0.52491195 0.15009442 0.33391173\n",
      " 0.40015746] gave -243.88223086964598\n",
      "Warning: This function (from_pandas_dataframe()) is deprecated and will be removed in a future version of PyDDM.  Please use the choice_column_name argument instead.\n"
     ]
    },
    {
     "name": "stdout",
     "output_type": "stream",
     "text": [
      "     Vspeed      Vacc  Boundary Separation  Collapse Speed  Collapse Accuracy  \\\n",
      "0  1.088834  2.344764             0.548193        0.524912           0.150094   \n",
      "\n",
      "   Non-decision Time Speed  Non-decision Time Accuracy         BIC  Frequency  \\\n",
      "0                 0.333912                    0.400157 -243.882231          2   \n",
      "\n",
      "   Participant  \n",
      "0           11  \n",
      "3\n",
      "11\n"
     ]
    },
    {
     "name": "stderr",
     "output_type": "stream",
     "text": [
      "Info: Params [0.78889124 1.32973194 0.59459299 0.91175012 0.09722219 0.32632817\n",
      " 0.38350959] gave -62.114001297400634\n",
      "Warning: This function (from_pandas_dataframe()) is deprecated and will be removed in a future version of PyDDM.  Please use the choice_column_name argument instead.\n"
     ]
    },
    {
     "name": "stdout",
     "output_type": "stream",
     "text": [
      "     Vspeed      Vacc  Boundary Separation  Collapse Speed  Collapse Accuracy  \\\n",
      "0  0.788891  1.329732             0.594593         0.91175           0.097222   \n",
      "\n",
      "   Non-decision Time Speed  Non-decision Time Accuracy        BIC  Frequency  \\\n",
      "0                 0.326328                     0.38351 -62.114001          3   \n",
      "\n",
      "   Participant  \n",
      "0           11  \n",
      "4\n",
      "11\n"
     ]
    },
    {
     "name": "stderr",
     "output_type": "stream",
     "text": [
      "Info: Params [1.48326832 2.19874798 0.72498251 0.91666562 0.18045112 0.31051026\n",
      " 0.35592987] gave -172.6637784844731\n",
      "Warning: This function (from_pandas_dataframe()) is deprecated and will be removed in a future version of PyDDM.  Please use the choice_column_name argument instead.\n"
     ]
    },
    {
     "name": "stdout",
     "output_type": "stream",
     "text": [
      "     Vspeed      Vacc  Boundary Separation  Collapse Speed  Collapse Accuracy  \\\n",
      "0  1.483268  2.198748             0.724983        0.916666           0.180451   \n",
      "\n",
      "   Non-decision Time Speed  Non-decision Time Accuracy         BIC  Frequency  \\\n",
      "0                  0.31051                     0.35593 -172.663778          4   \n",
      "\n",
      "   Participant  \n",
      "0           11  \n",
      "5\n",
      "11\n"
     ]
    },
    {
     "name": "stderr",
     "output_type": "stream",
     "text": [
      "Info: Params [2.10902914 2.63807598 0.66988839 0.86065222 0.05660373 0.32086287\n",
      " 0.40416151] gave -302.4967025535193\n",
      "Warning: This function (from_pandas_dataframe()) is deprecated and will be removed in a future version of PyDDM.  Please use the choice_column_name argument instead.\n"
     ]
    },
    {
     "name": "stdout",
     "output_type": "stream",
     "text": [
      "     Vspeed      Vacc  Boundary Separation  Collapse Speed  Collapse Accuracy  \\\n",
      "0  2.109029  2.638076             0.669888        0.860652           0.056604   \n",
      "\n",
      "   Non-decision Time Speed  Non-decision Time Accuracy         BIC  Frequency  \\\n",
      "0                 0.320863                    0.404162 -302.496703          5   \n",
      "\n",
      "   Participant  \n",
      "0           11  \n",
      "6\n",
      "11\n"
     ]
    },
    {
     "name": "stderr",
     "output_type": "stream",
     "text": [
      "Info: Params [2.40759416 2.31818284 0.59328992 0.5058225  0.00567674 0.34349417\n",
      " 0.3976323 ] gave -277.8493731097999\n",
      "Warning: This function (from_pandas_dataframe()) is deprecated and will be removed in a future version of PyDDM.  Please use the choice_column_name argument instead.\n"
     ]
    },
    {
     "name": "stdout",
     "output_type": "stream",
     "text": [
      "     Vspeed      Vacc  Boundary Separation  Collapse Speed  Collapse Accuracy  \\\n",
      "0  2.407594  2.318183              0.59329        0.505823           0.005677   \n",
      "\n",
      "   Non-decision Time Speed  Non-decision Time Accuracy         BIC  Frequency  \\\n",
      "0                 0.343494                    0.397632 -277.849373          6   \n",
      "\n",
      "   Participant  \n",
      "0           11  \n",
      "1\n",
      "12\n"
     ]
    },
    {
     "name": "stderr",
     "output_type": "stream",
     "text": [
      "Info: Params [1.8834595  2.60103895 0.88163582 1.05882352 0.18161675 0.2190649\n",
      " 0.29916929] gave -206.19052182398383\n",
      "Warning: This function (from_pandas_dataframe()) is deprecated and will be removed in a future version of PyDDM.  Please use the choice_column_name argument instead.\n"
     ]
    },
    {
     "name": "stdout",
     "output_type": "stream",
     "text": [
      "     Vspeed      Vacc  Boundary Separation  Collapse Speed  Collapse Accuracy  \\\n",
      "0  1.883459  2.601039             0.881636        1.058824           0.181617   \n",
      "\n",
      "   Non-decision Time Speed  Non-decision Time Accuracy         BIC  Frequency  \\\n",
      "0                 0.219065                    0.299169 -206.190522          1   \n",
      "\n",
      "   Participant  \n",
      "0           12  \n",
      "2\n",
      "12\n"
     ]
    },
    {
     "name": "stderr",
     "output_type": "stream",
     "text": [
      "Info: Params [1.56101651e+00 1.16285132e+00 6.32695676e-01 4.85720719e-01\n",
      " 6.18695177e-06 3.13449716e-01 3.61791005e-01] gave 57.6310759956538\n",
      "Warning: This function (from_pandas_dataframe()) is deprecated and will be removed in a future version of PyDDM.  Please use the choice_column_name argument instead.\n"
     ]
    },
    {
     "name": "stdout",
     "output_type": "stream",
     "text": [
      "     Vspeed      Vacc  Boundary Separation  Collapse Speed  Collapse Accuracy  \\\n",
      "0  1.561017  1.162851             0.632696        0.485721           0.000006   \n",
      "\n",
      "   Non-decision Time Speed  Non-decision Time Accuracy        BIC  Frequency  \\\n",
      "0                  0.31345                    0.361791  57.631076          2   \n",
      "\n",
      "   Participant  \n",
      "0           12  \n",
      "3\n",
      "12\n"
     ]
    },
    {
     "name": "stderr",
     "output_type": "stream",
     "text": [
      "Info: Params [0.4271346  0.81354387 0.66428659 0.63513513 0.         0.27726377\n",
      " 0.3396398 ] gave 218.06242721180809\n",
      "Warning: This function (from_pandas_dataframe()) is deprecated and will be removed in a future version of PyDDM.  Please use the choice_column_name argument instead.\n"
     ]
    },
    {
     "name": "stdout",
     "output_type": "stream",
     "text": [
      "     Vspeed      Vacc  Boundary Separation  Collapse Speed  Collapse Accuracy  \\\n",
      "0  0.427135  0.813544             0.664287        0.635135                0.0   \n",
      "\n",
      "   Non-decision Time Speed  Non-decision Time Accuracy         BIC  Frequency  \\\n",
      "0                 0.277264                     0.33964  218.062427          3   \n",
      "\n",
      "   Participant  \n",
      "0           12  \n",
      "4\n",
      "12\n"
     ]
    },
    {
     "name": "stderr",
     "output_type": "stream",
     "text": [
      "Info: Params [1.47598537 1.56190506 0.81480147 0.16448357 0.11486394 0.1989803\n",
      " 0.30565697] gave 162.92690720167593\n",
      "Warning: This function (from_pandas_dataframe()) is deprecated and will be removed in a future version of PyDDM.  Please use the choice_column_name argument instead.\n"
     ]
    },
    {
     "name": "stdout",
     "output_type": "stream",
     "text": [
      "     Vspeed      Vacc  Boundary Separation  Collapse Speed  Collapse Accuracy  \\\n",
      "0  1.475985  1.561905             0.814801        0.164484           0.114864   \n",
      "\n",
      "   Non-decision Time Speed  Non-decision Time Accuracy         BIC  Frequency  \\\n",
      "0                  0.19898                    0.305657  162.926907          4   \n",
      "\n",
      "   Participant  \n",
      "0           12  \n",
      "5\n",
      "12\n"
     ]
    },
    {
     "name": "stderr",
     "output_type": "stream",
     "text": [
      "Info: Params [1.14033295 1.76183923 1.02434578 1.29372455 0.14201183 0.18517386\n",
      " 0.27931225] gave 60.31533006204862\n",
      "Warning: This function (from_pandas_dataframe()) is deprecated and will be removed in a future version of PyDDM.  Please use the choice_column_name argument instead.\n"
     ]
    },
    {
     "name": "stdout",
     "output_type": "stream",
     "text": [
      "     Vspeed      Vacc  Boundary Separation  Collapse Speed  Collapse Accuracy  \\\n",
      "0  1.140333  1.761839             1.024346        1.293725           0.142012   \n",
      "\n",
      "   Non-decision Time Speed  Non-decision Time Accuracy       BIC  Frequency  \\\n",
      "0                 0.185174                    0.279312  60.31533          5   \n",
      "\n",
      "   Participant  \n",
      "0           12  \n",
      "6\n",
      "12\n"
     ]
    },
    {
     "name": "stderr",
     "output_type": "stream",
     "text": [
      "Info: Params [1.68482799 1.44324164 0.89790223 0.71110907 0.12987013 0.24343428\n",
      " 0.26452743] gave 95.57028418110394\n",
      "Warning: This function (from_pandas_dataframe()) is deprecated and will be removed in a future version of PyDDM.  Please use the choice_column_name argument instead.\n"
     ]
    },
    {
     "name": "stdout",
     "output_type": "stream",
     "text": [
      "     Vspeed      Vacc  Boundary Separation  Collapse Speed  Collapse Accuracy  \\\n",
      "0  1.684828  1.443242             0.897902        0.711109            0.12987   \n",
      "\n",
      "   Non-decision Time Speed  Non-decision Time Accuracy        BIC  Frequency  \\\n",
      "0                 0.243434                    0.264527  95.570284          6   \n",
      "\n",
      "   Participant  \n",
      "0           12  \n",
      "1\n",
      "13\n"
     ]
    },
    {
     "name": "stderr",
     "output_type": "stream",
     "text": [
      "Info: Params [1.98379459e+00 1.75177945e+00 7.37167278e-01 7.14876460e-01\n",
      " 5.44566395e-05 3.09257553e-01 3.60381680e-01] gave -85.1570988133791\n",
      "Warning: This function (from_pandas_dataframe()) is deprecated and will be removed in a future version of PyDDM.  Please use the choice_column_name argument instead.\n"
     ]
    },
    {
     "name": "stdout",
     "output_type": "stream",
     "text": [
      "     Vspeed      Vacc  Boundary Separation  Collapse Speed  Collapse Accuracy  \\\n",
      "0  1.983795  1.751779             0.737167        0.714876           0.000054   \n",
      "\n",
      "   Non-decision Time Speed  Non-decision Time Accuracy        BIC  Frequency  \\\n",
      "0                 0.309258                    0.360382 -85.157099          1   \n",
      "\n",
      "   Participant  \n",
      "0           13  \n",
      "2\n",
      "13\n"
     ]
    },
    {
     "name": "stderr",
     "output_type": "stream",
     "text": [
      "Info: Params [1.52340412e+00 1.54947277e+00 6.44813251e-01 2.80226571e-01\n",
      " 7.55064219e-04 3.38330489e-01 4.22001277e-01] gave 32.88952769664282\n",
      "Warning: This function (from_pandas_dataframe()) is deprecated and will be removed in a future version of PyDDM.  Please use the choice_column_name argument instead.\n"
     ]
    },
    {
     "name": "stdout",
     "output_type": "stream",
     "text": [
      "     Vspeed      Vacc  Boundary Separation  Collapse Speed  Collapse Accuracy  \\\n",
      "0  1.523404  1.549473             0.644813        0.280227           0.000755   \n",
      "\n",
      "   Non-decision Time Speed  Non-decision Time Accuracy        BIC  Frequency  \\\n",
      "0                  0.33833                    0.422001  32.889528          2   \n",
      "\n",
      "   Participant  \n",
      "0           13  \n",
      "3\n",
      "13\n"
     ]
    },
    {
     "name": "stderr",
     "output_type": "stream",
     "text": [
      "Info: Params [0.55241115 0.76006514 0.68208139 0.35889991 0.00229944 0.31403883\n",
      " 0.3659086 ] gave 285.19502820355916\n",
      "Warning: This function (from_pandas_dataframe()) is deprecated and will be removed in a future version of PyDDM.  Please use the choice_column_name argument instead.\n"
     ]
    },
    {
     "name": "stdout",
     "output_type": "stream",
     "text": [
      "     Vspeed      Vacc  Boundary Separation  Collapse Speed  Collapse Accuracy  \\\n",
      "0  0.552411  0.760065             0.682081          0.3589           0.002299   \n",
      "\n",
      "   Non-decision Time Speed  Non-decision Time Accuracy         BIC  Frequency  \\\n",
      "0                 0.314039                    0.365909  285.195028          3   \n",
      "\n",
      "   Participant  \n",
      "0           13  \n",
      "4\n",
      "13\n"
     ]
    },
    {
     "name": "stderr",
     "output_type": "stream",
     "text": [
      "Info: Params [1.56490852e+00 1.47604944e+00 7.16914139e-01 2.69929304e-01\n",
      " 4.06043040e-04 3.15959730e-01 3.95060203e-01] gave 116.85109805734469\n",
      "Warning: This function (from_pandas_dataframe()) is deprecated and will be removed in a future version of PyDDM.  Please use the choice_column_name argument instead.\n"
     ]
    },
    {
     "name": "stdout",
     "output_type": "stream",
     "text": [
      "     Vspeed      Vacc  Boundary Separation  Collapse Speed  Collapse Accuracy  \\\n",
      "0  1.564909  1.476049             0.716914        0.269929           0.000406   \n",
      "\n",
      "   Non-decision Time Speed  Non-decision Time Accuracy         BIC  Frequency  \\\n",
      "0                  0.31596                     0.39506  116.851098          4   \n",
      "\n",
      "   Participant  \n",
      "0           13  \n",
      "5\n",
      "13\n"
     ]
    },
    {
     "name": "stderr",
     "output_type": "stream",
     "text": [
      "Info: Params [1.93815605e+00 1.49605435e+00 7.68603691e-01 5.27699970e-01\n",
      " 9.84641886e-05 3.17055749e-01 4.04637040e-01] gave 48.00049771466275\n",
      "Warning: This function (from_pandas_dataframe()) is deprecated and will be removed in a future version of PyDDM.  Please use the choice_column_name argument instead.\n"
     ]
    },
    {
     "name": "stdout",
     "output_type": "stream",
     "text": [
      "     Vspeed      Vacc  Boundary Separation  Collapse Speed  Collapse Accuracy  \\\n",
      "0  1.938156  1.496054             0.768604          0.5277           0.000098   \n",
      "\n",
      "   Non-decision Time Speed  Non-decision Time Accuracy        BIC  Frequency  \\\n",
      "0                 0.317056                    0.404637  48.000498          5   \n",
      "\n",
      "   Participant  \n",
      "0           13  \n",
      "6\n",
      "13\n"
     ]
    },
    {
     "name": "stderr",
     "output_type": "stream",
     "text": [
      "Info: Params [1.58051829e+00 1.38990209e+00 6.99664974e-01 9.22675309e-04\n",
      " 8.18708383e-04 3.01688321e-01 3.84463255e-01] gave 105.95443660335111\n",
      "Warning: This function (from_pandas_dataframe()) is deprecated and will be removed in a future version of PyDDM.  Please use the choice_column_name argument instead.\n"
     ]
    },
    {
     "name": "stdout",
     "output_type": "stream",
     "text": [
      "     Vspeed      Vacc  Boundary Separation  Collapse Speed  Collapse Accuracy  \\\n",
      "0  1.580518  1.389902             0.699665        0.000923           0.000819   \n",
      "\n",
      "   Non-decision Time Speed  Non-decision Time Accuracy         BIC  Frequency  \\\n",
      "0                 0.301688                    0.384463  105.954437          6   \n",
      "\n",
      "   Participant  \n",
      "0           13  \n",
      "1\n",
      "14\n"
     ]
    },
    {
     "name": "stderr",
     "output_type": "stream",
     "text": [
      "Info: Params [3.01513409e+00 1.94359880e+00 8.18048802e-01 1.07497808e+00\n",
      " 2.54102393e-04 2.75632952e-01 3.30282673e-01] gave -300.1203530669409\n",
      "Warning: This function (from_pandas_dataframe()) is deprecated and will be removed in a future version of PyDDM.  Please use the choice_column_name argument instead.\n"
     ]
    },
    {
     "name": "stdout",
     "output_type": "stream",
     "text": [
      "     Vspeed      Vacc  Boundary Separation  Collapse Speed  Collapse Accuracy  \\\n",
      "0  3.015134  1.943599             0.818049        1.074978           0.000254   \n",
      "\n",
      "   Non-decision Time Speed  Non-decision Time Accuracy         BIC  Frequency  \\\n",
      "0                 0.275633                    0.330283 -300.120353          1   \n",
      "\n",
      "   Participant  \n",
      "0           14  \n",
      "2\n",
      "14\n"
     ]
    },
    {
     "name": "stderr",
     "output_type": "stream",
     "text": [
      "Info: Params [2.02374348 1.64535266 0.78065349 0.90697654 0.         0.29169618\n",
      " 0.38761475] gave -32.20656078084357\n",
      "Warning: This function (from_pandas_dataframe()) is deprecated and will be removed in a future version of PyDDM.  Please use the choice_column_name argument instead.\n"
     ]
    },
    {
     "name": "stdout",
     "output_type": "stream",
     "text": [
      "     Vspeed      Vacc  Boundary Separation  Collapse Speed  Collapse Accuracy  \\\n",
      "0  2.023743  1.645353             0.780653        0.906977                0.0   \n",
      "\n",
      "   Non-decision Time Speed  Non-decision Time Accuracy        BIC  Frequency  \\\n",
      "0                 0.291696                    0.387615 -32.206561          2   \n",
      "\n",
      "   Participant  \n",
      "0           14  \n",
      "3\n",
      "14\n"
     ]
    },
    {
     "name": "stderr",
     "output_type": "stream",
     "text": [
      "Info: Params [1.43492608 1.06488178 0.782412   0.77936259 0.00175332 0.30770677\n",
      " 0.35832379] gave 180.01829120413046\n",
      "Warning: This function (from_pandas_dataframe()) is deprecated and will be removed in a future version of PyDDM.  Please use the choice_column_name argument instead.\n"
     ]
    },
    {
     "name": "stdout",
     "output_type": "stream",
     "text": [
      "     Vspeed      Vacc  Boundary Separation  Collapse Speed  Collapse Accuracy  \\\n",
      "0  1.434926  1.064882             0.782412        0.779363           0.001753   \n",
      "\n",
      "   Non-decision Time Speed  Non-decision Time Accuracy         BIC  Frequency  \\\n",
      "0                 0.307707                    0.358324  180.018291          3   \n",
      "\n",
      "   Participant  \n",
      "0           14  \n",
      "4\n",
      "14\n"
     ]
    },
    {
     "name": "stderr",
     "output_type": "stream",
     "text": [
      "Info: Params [2.56622585 1.92255823 0.76564705 0.79661017 0.         0.36637582\n",
      " 0.46874539] gave -48.83965458272223\n",
      "Warning: This function (from_pandas_dataframe()) is deprecated and will be removed in a future version of PyDDM.  Please use the choice_column_name argument instead.\n"
     ]
    },
    {
     "name": "stdout",
     "output_type": "stream",
     "text": [
      "     Vspeed      Vacc  Boundary Separation  Collapse Speed  Collapse Accuracy  \\\n",
      "0  2.566226  1.922558             0.765647         0.79661                0.0   \n",
      "\n",
      "   Non-decision Time Speed  Non-decision Time Accuracy        BIC  Frequency  \\\n",
      "0                 0.366376                    0.468745 -48.839655          4   \n",
      "\n",
      "   Participant  \n",
      "0           14  \n",
      "5\n",
      "14\n"
     ]
    },
    {
     "name": "stderr",
     "output_type": "stream",
     "text": [
      "Info: Params [1.57345695 1.37892615 1.21213127 1.11999999 0.         0.20606978\n",
      " 0.19321855] gave 227.38313061814333\n",
      "Warning: This function (from_pandas_dataframe()) is deprecated and will be removed in a future version of PyDDM.  Please use the choice_column_name argument instead.\n"
     ]
    },
    {
     "name": "stdout",
     "output_type": "stream",
     "text": [
      "     Vspeed      Vacc  Boundary Separation  Collapse Speed  Collapse Accuracy  \\\n",
      "0  1.573457  1.378926             1.212131            1.12                0.0   \n",
      "\n",
      "   Non-decision Time Speed  Non-decision Time Accuracy         BIC  Frequency  \\\n",
      "0                  0.20607                    0.193219  227.383131          5   \n",
      "\n",
      "   Participant  \n",
      "0           14  \n",
      "6\n",
      "14\n"
     ]
    },
    {
     "name": "stderr",
     "output_type": "stream",
     "text": [
      "Info: Params [2.19659683e+00 1.40555728e+00 7.99688396e-01 3.49843898e-01\n",
      " 6.43290284e-04 3.18529470e-01 4.50554843e-01] gave 89.3812931667901\n",
      "Warning: This function (from_pandas_dataframe()) is deprecated and will be removed in a future version of PyDDM.  Please use the choice_column_name argument instead.\n"
     ]
    },
    {
     "name": "stdout",
     "output_type": "stream",
     "text": [
      "     Vspeed      Vacc  Boundary Separation  Collapse Speed  Collapse Accuracy  \\\n",
      "0  2.196597  1.405557             0.799688        0.349844           0.000643   \n",
      "\n",
      "   Non-decision Time Speed  Non-decision Time Accuracy        BIC  Frequency  \\\n",
      "0                 0.318529                    0.450555  89.381293          6   \n",
      "\n",
      "   Participant  \n",
      "0           14  \n",
      "1\n",
      "15\n"
     ]
    },
    {
     "name": "stderr",
     "output_type": "stream",
     "text": [
      "Info: Params [2.50727065e+00 2.16953919e+00 7.69266898e-01 6.47663403e-01\n",
      " 1.37094738e-03 3.04192406e-01 3.97549804e-01] gave -176.72189565528907\n",
      "Warning: This function (from_pandas_dataframe()) is deprecated and will be removed in a future version of PyDDM.  Please use the choice_column_name argument instead.\n"
     ]
    },
    {
     "name": "stdout",
     "output_type": "stream",
     "text": [
      "     Vspeed      Vacc  Boundary Separation  Collapse Speed  Collapse Accuracy  \\\n",
      "0  2.507271  2.169539             0.769267        0.647663           0.001371   \n",
      "\n",
      "   Non-decision Time Speed  Non-decision Time Accuracy         BIC  Frequency  \\\n",
      "0                 0.304192                     0.39755 -176.721896          1   \n",
      "\n",
      "   Participant  \n",
      "0           15  \n",
      "2\n",
      "15\n"
     ]
    },
    {
     "name": "stderr",
     "output_type": "stream",
     "text": [
      "Info: Params [1.71093776 1.91728437 0.80627647 0.77192982 0.         0.29174332\n",
      " 0.43624142] gave -27.940107328564167\n",
      "Warning: This function (from_pandas_dataframe()) is deprecated and will be removed in a future version of PyDDM.  Please use the choice_column_name argument instead.\n"
     ]
    },
    {
     "name": "stdout",
     "output_type": "stream",
     "text": [
      "     Vspeed      Vacc  Boundary Separation  Collapse Speed  Collapse Accuracy  \\\n",
      "0  1.710938  1.917284             0.806276         0.77193                0.0   \n",
      "\n",
      "   Non-decision Time Speed  Non-decision Time Accuracy        BIC  Frequency  \\\n",
      "0                 0.291743                    0.436241 -27.940107          2   \n",
      "\n",
      "   Participant  \n",
      "0           15  \n",
      "3\n",
      "15\n"
     ]
    },
    {
     "name": "stderr",
     "output_type": "stream",
     "text": [
      "Info: Params [0.76323999 1.14220151 0.79791555 1.23597722 0.04180155 0.30774812\n",
      " 0.45144221] gave 135.5167666206151\n",
      "Warning: This function (from_pandas_dataframe()) is deprecated and will be removed in a future version of PyDDM.  Please use the choice_column_name argument instead.\n"
     ]
    },
    {
     "name": "stdout",
     "output_type": "stream",
     "text": [
      "    Vspeed      Vacc  Boundary Separation  Collapse Speed  Collapse Accuracy  \\\n",
      "0  0.76324  1.142202             0.797916        1.235977           0.041802   \n",
      "\n",
      "   Non-decision Time Speed  Non-decision Time Accuracy         BIC  Frequency  \\\n",
      "0                 0.307748                    0.451442  135.516767          3   \n",
      "\n",
      "   Participant  \n",
      "0           15  \n",
      "4\n",
      "15\n"
     ]
    },
    {
     "name": "stderr",
     "output_type": "stream",
     "text": [
      "Info: Params [1.59820844 2.16009452 0.91625396 1.67391342 0.01066572 0.3009602\n",
      " 0.45693294] gave -136.78846826154933\n",
      "Warning: This function (from_pandas_dataframe()) is deprecated and will be removed in a future version of PyDDM.  Please use the choice_column_name argument instead.\n"
     ]
    },
    {
     "name": "stdout",
     "output_type": "stream",
     "text": [
      "     Vspeed      Vacc  Boundary Separation  Collapse Speed  Collapse Accuracy  \\\n",
      "0  1.598208  2.160095             0.916254        1.673913           0.010666   \n",
      "\n",
      "   Non-decision Time Speed  Non-decision Time Accuracy         BIC  Frequency  \\\n",
      "0                  0.30096                    0.456933 -136.788468          4   \n",
      "\n",
      "   Participant  \n",
      "0           15  \n",
      "5\n",
      "15\n"
     ]
    },
    {
     "name": "stderr",
     "output_type": "stream",
     "text": [
      "Info: Params [1.71042959e+00 1.68256758e+00 8.47542975e-01 8.40547012e-01\n",
      " 6.30998562e-04 2.91852389e-01 4.20587722e-01] gave 21.072482407111934\n",
      "Warning: This function (from_pandas_dataframe()) is deprecated and will be removed in a future version of PyDDM.  Please use the choice_column_name argument instead.\n"
     ]
    },
    {
     "name": "stdout",
     "output_type": "stream",
     "text": [
      "    Vspeed      Vacc  Boundary Separation  Collapse Speed  Collapse Accuracy  \\\n",
      "0  1.71043  1.682568             0.847543        0.840547           0.000631   \n",
      "\n",
      "   Non-decision Time Speed  Non-decision Time Accuracy        BIC  Frequency  \\\n",
      "0                 0.291852                    0.420588  21.072482          5   \n",
      "\n",
      "   Participant  \n",
      "0           15  \n",
      "6\n",
      "15\n"
     ]
    },
    {
     "name": "stderr",
     "output_type": "stream",
     "text": [
      "Info: Params [1.9971837  2.1497832  0.77116884 0.98039153 0.         0.32020111\n",
      " 0.4699637 ] gave -141.26241162321446\n",
      "Warning: This function (from_pandas_dataframe()) is deprecated and will be removed in a future version of PyDDM.  Please use the choice_column_name argument instead.\n"
     ]
    },
    {
     "name": "stdout",
     "output_type": "stream",
     "text": [
      "     Vspeed      Vacc  Boundary Separation  Collapse Speed  Collapse Accuracy  \\\n",
      "0  1.997184  2.149783             0.771169        0.980392                0.0   \n",
      "\n",
      "   Non-decision Time Speed  Non-decision Time Accuracy         BIC  Frequency  \\\n",
      "0                 0.320201                    0.469964 -141.262412          6   \n",
      "\n",
      "   Participant  \n",
      "0           15  \n",
      "1\n",
      "16\n"
     ]
    },
    {
     "name": "stderr",
     "output_type": "stream",
     "text": [
      "Info: Params [1.53685282e+00 1.78247525e+00 6.87910598e-01 3.97847448e-01\n",
      " 3.89574783e-04 2.54390284e-01 3.93651154e-01] gave -116.63174416552114\n",
      "Warning: This function (from_pandas_dataframe()) is deprecated and will be removed in a future version of PyDDM.  Please use the choice_column_name argument instead.\n"
     ]
    },
    {
     "name": "stdout",
     "output_type": "stream",
     "text": [
      "     Vspeed      Vacc  Boundary Separation  Collapse Speed  Collapse Accuracy  \\\n",
      "0  1.536853  1.782475             0.687911        0.397847            0.00039   \n",
      "\n",
      "   Non-decision Time Speed  Non-decision Time Accuracy         BIC  Frequency  \\\n",
      "0                  0.25439                    0.393651 -116.631744          1   \n",
      "\n",
      "   Participant  \n",
      "0           16  \n",
      "2\n",
      "16\n"
     ]
    },
    {
     "name": "stderr",
     "output_type": "stream",
     "text": [
      "Info: Params [1.07773792 1.82392781 0.74118869 0.44349565 0.         0.22181049\n",
      " 0.42281931] gave 96.1716351061186\n",
      "Warning: This function (from_pandas_dataframe()) is deprecated and will be removed in a future version of PyDDM.  Please use the choice_column_name argument instead.\n"
     ]
    },
    {
     "name": "stdout",
     "output_type": "stream",
     "text": [
      "     Vspeed      Vacc  Boundary Separation  Collapse Speed  Collapse Accuracy  \\\n",
      "0  1.077738  1.823928             0.741189        0.443496                0.0   \n",
      "\n",
      "   Non-decision Time Speed  Non-decision Time Accuracy        BIC  Frequency  \\\n",
      "0                  0.22181                    0.422819  96.171635          2   \n",
      "\n",
      "   Participant  \n",
      "0           16  \n",
      "3\n",
      "16\n"
     ]
    },
    {
     "name": "stderr",
     "output_type": "stream",
     "text": [
      "Info: Params [0.62652189 1.24056581 0.86993108 0.70000002 0.15417262 0.19310463\n",
      " 0.38006243] gave 256.0744089957727\n",
      "Warning: This function (from_pandas_dataframe()) is deprecated and will be removed in a future version of PyDDM.  Please use the choice_column_name argument instead.\n"
     ]
    },
    {
     "name": "stdout",
     "output_type": "stream",
     "text": [
      "     Vspeed      Vacc  Boundary Separation  Collapse Speed  Collapse Accuracy  \\\n",
      "0  0.626522  1.240566             0.869931             0.7           0.154173   \n",
      "\n",
      "   Non-decision Time Speed  Non-decision Time Accuracy         BIC  Frequency  \\\n",
      "0                 0.193105                    0.380062  256.074409          3   \n",
      "\n",
      "   Participant  \n",
      "0           16  \n",
      "4\n",
      "16\n"
     ]
    },
    {
     "name": "stderr",
     "output_type": "stream",
     "text": [
      "Info: Params [1.06825074 1.92372246 0.80740291 0.67162829 0.00980394 0.22913007\n",
      " 0.41794702] gave 59.11468141174669\n",
      "Warning: This function (from_pandas_dataframe()) is deprecated and will be removed in a future version of PyDDM.  Please use the choice_column_name argument instead.\n"
     ]
    },
    {
     "name": "stdout",
     "output_type": "stream",
     "text": [
      "     Vspeed      Vacc  Boundary Separation  Collapse Speed  Collapse Accuracy  \\\n",
      "0  1.068251  1.923722             0.807403        0.671628           0.009804   \n",
      "\n",
      "   Non-decision Time Speed  Non-decision Time Accuracy        BIC  Frequency  \\\n",
      "0                  0.22913                    0.417947  59.114681          4   \n",
      "\n",
      "   Participant  \n",
      "0           16  \n",
      "5\n",
      "16\n"
     ]
    },
    {
     "name": "stderr",
     "output_type": "stream",
     "text": [
      "Info: Params [0.8176071  1.82936392 0.83488039 0.64285714 0.         0.21458312\n",
      " 0.39023435] gave 142.17967765100224\n",
      "Warning: This function (from_pandas_dataframe()) is deprecated and will be removed in a future version of PyDDM.  Please use the choice_column_name argument instead.\n"
     ]
    },
    {
     "name": "stdout",
     "output_type": "stream",
     "text": [
      "     Vspeed      Vacc  Boundary Separation  Collapse Speed  Collapse Accuracy  \\\n",
      "0  0.817607  1.829364              0.83488        0.642857                0.0   \n",
      "\n",
      "   Non-decision Time Speed  Non-decision Time Accuracy         BIC  Frequency  \\\n",
      "0                 0.214583                    0.390234  142.179678          5   \n",
      "\n",
      "   Participant  \n",
      "0           16  \n",
      "6\n",
      "16\n"
     ]
    },
    {
     "name": "stderr",
     "output_type": "stream",
     "text": [
      "Info: Params [0.99656892 1.92191263 0.73639837 0.125629   0.         0.21817147\n",
      " 0.40440442] gave 152.3549134565922\n",
      "Warning: This function (from_pandas_dataframe()) is deprecated and will be removed in a future version of PyDDM.  Please use the choice_column_name argument instead.\n"
     ]
    },
    {
     "name": "stdout",
     "output_type": "stream",
     "text": [
      "     Vspeed      Vacc  Boundary Separation  Collapse Speed  Collapse Accuracy  \\\n",
      "0  0.996569  1.921913             0.736398        0.125629                0.0   \n",
      "\n",
      "   Non-decision Time Speed  Non-decision Time Accuracy         BIC  Frequency  \\\n",
      "0                 0.218171                    0.404404  152.354913          6   \n",
      "\n",
      "   Participant  \n",
      "0           16  \n",
      "1\n",
      "17\n"
     ]
    },
    {
     "name": "stderr",
     "output_type": "stream",
     "text": [
      "Info: Params [3.21048372 2.90598671 0.87786824 1.21999999 0.         0.30576473\n",
      " 0.38341321] gave -260.68914399120825\n",
      "Warning: This function (from_pandas_dataframe()) is deprecated and will be removed in a future version of PyDDM.  Please use the choice_column_name argument instead.\n"
     ]
    },
    {
     "name": "stdout",
     "output_type": "stream",
     "text": [
      "     Vspeed      Vacc  Boundary Separation  Collapse Speed  Collapse Accuracy  \\\n",
      "0  3.210484  2.905987             0.877868            1.22                0.0   \n",
      "\n",
      "   Non-decision Time Speed  Non-decision Time Accuracy         BIC  Frequency  \\\n",
      "0                 0.305765                    0.383413 -260.689144          1   \n",
      "\n",
      "   Participant  \n",
      "0           17  \n",
      "2\n",
      "17\n"
     ]
    },
    {
     "name": "stderr",
     "output_type": "stream",
     "text": [
      "Info: Params [2.48336414e+00 2.39408025e+00 8.23394761e-01 8.57142857e-01\n",
      " 7.19798837e-04 3.10329326e-01 4.23581271e-01] gave -209.00036523093127\n",
      "Warning: This function (from_pandas_dataframe()) is deprecated and will be removed in a future version of PyDDM.  Please use the choice_column_name argument instead.\n"
     ]
    },
    {
     "name": "stdout",
     "output_type": "stream",
     "text": [
      "     Vspeed     Vacc  Boundary Separation  Collapse Speed  Collapse Accuracy  \\\n",
      "0  2.483364  2.39408             0.823395        0.857143            0.00072   \n",
      "\n",
      "   Non-decision Time Speed  Non-decision Time Accuracy         BIC  Frequency  \\\n",
      "0                 0.310329                    0.423581 -209.000365          2   \n",
      "\n",
      "   Participant  \n",
      "0           17  \n",
      "3\n",
      "17\n"
     ]
    },
    {
     "name": "stderr",
     "output_type": "stream",
     "text": [
      "Info: Params [1.79448607e+00 1.60217544e+00 6.46370162e-01 2.15649289e-01\n",
      " 1.15145701e-05 3.23586872e-01 4.74673831e-01] gave 8.956881310668052\n",
      "Warning: This function (from_pandas_dataframe()) is deprecated and will be removed in a future version of PyDDM.  Please use the choice_column_name argument instead.\n"
     ]
    },
    {
     "name": "stdout",
     "output_type": "stream",
     "text": [
      "     Vspeed      Vacc  Boundary Separation  Collapse Speed  Collapse Accuracy  \\\n",
      "0  1.794486  1.602175              0.64637        0.215649           0.000012   \n",
      "\n",
      "   Non-decision Time Speed  Non-decision Time Accuracy       BIC  Frequency  \\\n",
      "0                 0.323587                    0.474674  8.956881          3   \n",
      "\n",
      "   Participant  \n",
      "0           17  \n",
      "4\n",
      "17\n"
     ]
    },
    {
     "name": "stderr",
     "output_type": "stream",
     "text": [
      "Info: Params [2.10523954 2.48065879 0.86253655 0.67741935 0.         0.29124827\n",
      " 0.44161325] gave -140.2738874589866\n",
      "Warning: This function (from_pandas_dataframe()) is deprecated and will be removed in a future version of PyDDM.  Please use the choice_column_name argument instead.\n"
     ]
    },
    {
     "name": "stdout",
     "output_type": "stream",
     "text": [
      "    Vspeed      Vacc  Boundary Separation  Collapse Speed  Collapse Accuracy  \\\n",
      "0  2.10524  2.480659             0.862537        0.677419                0.0   \n",
      "\n",
      "   Non-decision Time Speed  Non-decision Time Accuracy         BIC  Frequency  \\\n",
      "0                 0.291248                    0.441613 -140.273887          4   \n",
      "\n",
      "   Participant  \n",
      "0           17  \n",
      "5\n",
      "17\n"
     ]
    },
    {
     "name": "stderr",
     "output_type": "stream",
     "text": [
      "Info: Params [2.32081463 2.15543541 0.88861282 0.92307619 0.16101656 0.31408202\n",
      " 0.42302716] gave -151.2553955225244\n",
      "Warning: This function (from_pandas_dataframe()) is deprecated and will be removed in a future version of PyDDM.  Please use the choice_column_name argument instead.\n"
     ]
    },
    {
     "name": "stdout",
     "output_type": "stream",
     "text": [
      "     Vspeed      Vacc  Boundary Separation  Collapse Speed  Collapse Accuracy  \\\n",
      "0  2.320815  2.155435             0.888613        0.923076           0.161017   \n",
      "\n",
      "   Non-decision Time Speed  Non-decision Time Accuracy         BIC  Frequency  \\\n",
      "0                 0.314082                    0.423027 -151.255396          5   \n",
      "\n",
      "   Participant  \n",
      "0           17  \n",
      "6\n",
      "17\n"
     ]
    },
    {
     "name": "stderr",
     "output_type": "stream",
     "text": [
      "Info: Params [2.15129192 2.1165592  1.24544052 1.11904765 0.38462561 0.22571142\n",
      " 0.31655894] gave -56.90573901101906\n"
     ]
    },
    {
     "name": "stdout",
     "output_type": "stream",
     "text": [
      "     Vspeed      Vacc  Boundary Separation  Collapse Speed  Collapse Accuracy  \\\n",
      "0  2.151292  2.116559             1.245441        1.119048           0.384626   \n",
      "\n",
      "   Non-decision Time Speed  Non-decision Time Accuracy        BIC  Frequency  \\\n",
      "0                 0.225711                    0.316559 -56.905739          6   \n",
      "\n",
      "   Participant  \n",
      "0           17  \n"
     ]
    }
   ],
   "source": [
    "participants = [1,  3,  4,  5,  6,  7,  8,  9, 10, 11, 12, 13, 14, 15, 16, 17]\n",
    "df_all = pd.DataFrame()\n",
    "for i in participants:\n",
    "    for freq in range(1,7):\n",
    "        print(freq)\n",
    "        print(i)\n",
    "        df = pd.read_csv(data_dir)\n",
    "        df = df[df[\"Participant\"]==i]\n",
    "        df = df[df[\"Frequency\"]==freq]\n",
    "        df = df[df[\"RT\"]<5]\n",
    "\n",
    "        samp = Sample.from_pandas_dataframe(df, rt_column_name=\"RT\", correct_column_name=\"Correct\")\n",
    "        df_param = get_DDM_result_sub_2v2c2ter(samp)\n",
    "        df_param['Frequency'] = freq\n",
    "        df_param[\"Participant\"]=i\n",
    "        df_all = pd.concat((df_all,df_param))\n",
    "        print(df_param)\n",
    "df_OUM = df_all.copy()\n"
   ]
  },
  {
   "cell_type": "code",
   "execution_count": 5,
   "id": "3b05a53a",
   "metadata": {},
   "outputs": [],
   "source": [
    "df_OUM.to_csv(\"DDM2v2c2terresultWagenmakers2008.csv\")"
   ]
  },
  {
   "cell_type": "code",
   "execution_count": 6,
   "id": "87e8797e",
   "metadata": {},
   "outputs": [
    {
     "data": {
      "text/plain": [
       "-66.78853505290833"
      ]
     },
     "execution_count": 6,
     "metadata": {},
     "output_type": "execute_result"
    }
   ],
   "source": [
    "df_OUM[\"BIC\"].mean()"
   ]
  },
  {
   "cell_type": "code",
   "execution_count": null,
   "id": "c5baddcf",
   "metadata": {},
   "outputs": [],
   "source": []
  }
 ],
 "metadata": {
  "kernelspec": {
   "display_name": "Python 3 (ipykernel)",
   "language": "python",
   "name": "python3"
  },
  "language_info": {
   "codemirror_mode": {
    "name": "ipython",
    "version": 3
   },
   "file_extension": ".py",
   "mimetype": "text/x-python",
   "name": "python",
   "nbconvert_exporter": "python",
   "pygments_lexer": "ipython3",
   "version": "3.11.4"
  }
 },
 "nbformat": 4,
 "nbformat_minor": 5
}
