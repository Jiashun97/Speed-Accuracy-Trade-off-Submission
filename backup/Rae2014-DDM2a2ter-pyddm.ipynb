{
 "cells": [
  {
   "cell_type": "code",
   "execution_count": 1,
   "id": "2cda49de",
   "metadata": {},
   "outputs": [],
   "source": [
    "%run SAT_help_functions.ipynb"
   ]
  },
  {
   "cell_type": "code",
   "execution_count": null,
   "id": "bc081cf9",
   "metadata": {},
   "outputs": [],
   "source": []
  },
  {
   "cell_type": "markdown",
   "id": "4bd26666",
   "metadata": {},
   "source": [
    "## OUM"
   ]
  },
  {
   "cell_type": "code",
   "execution_count": null,
   "id": "9ef6c434",
   "metadata": {},
   "outputs": [],
   "source": []
  },
  {
   "cell_type": "code",
   "execution_count": 2,
   "id": "e776257c",
   "metadata": {},
   "outputs": [],
   "source": [
    "data_dir = \"/Users/wangjiashun/Desktop/Reserach on SAT/datasets/Evans2021/Rae2014/dataBySubject/sub\"\n",
    "sample_size = 34\n",
    "SAT_conds = [\"Speed\", \"Accuracy\"]"
   ]
  },
  {
   "cell_type": "code",
   "execution_count": 3,
   "id": "f434220f",
   "metadata": {},
   "outputs": [],
   "source": [
    "class BoundSpeedAcc(Bound):\n",
    "    name = \"BoundSpeedAcc\"\n",
    "    required_parameters = [\"Bspeed\", \"Bacc\"]\n",
    "    required_conditions = ['Cond']\n",
    "    def get_bound(self, conditions, *args, **kwargs):\n",
    "        assert self.Bacc > 0\n",
    "        assert self.Bspeed > 0\n",
    "        if conditions['Cond'] == 'Speed':\n",
    "            return self.Bspeed\n",
    "        elif conditions['Cond'] == 'Accuracy':\n",
    "            return self.Bacc\n",
    "        else:\n",
    "            print(\"Non-implemented SAT conditions\")"
   ]
  },
  {
   "cell_type": "code",
   "execution_count": null,
   "id": "bbb278a6",
   "metadata": {},
   "outputs": [],
   "source": []
  },
  {
   "cell_type": "code",
   "execution_count": 4,
   "id": "6e5e0074",
   "metadata": {},
   "outputs": [],
   "source": [
    "\n",
    "class NondecisionSpeedAcc(OverlayNonDecision):\n",
    "    name = \"NondecisionSpeedAcc\"\n",
    "    required_parameters = [\"tSpeed\", 'tAcc']\n",
    "    required_conditions = ['Cond']\n",
    "        \n",
    "    def get_nondecision_time(self, conditions, **kwargs):\n",
    "        if conditions['Cond'] == 'Speed':\n",
    "            return self.tSpeed \n",
    "        elif conditions['Cond'] == 'Accuracy':\n",
    "            return self.tAcc\n",
    "        else: \n",
    "            print(\"Non-implemented SAT conditions\")"
   ]
  },
  {
   "cell_type": "code",
   "execution_count": null,
   "id": "b1e0fe9b",
   "metadata": {},
   "outputs": [],
   "source": []
  },
  {
   "cell_type": "code",
   "execution_count": null,
   "id": "81235d16",
   "metadata": {},
   "outputs": [],
   "source": []
  },
  {
   "cell_type": "code",
   "execution_count": null,
   "id": "8a3f5185",
   "metadata": {},
   "outputs": [],
   "source": []
  },
  {
   "cell_type": "code",
   "execution_count": null,
   "id": "fdb13001",
   "metadata": {
    "scrolled": true
   },
   "outputs": [
    {
     "name": "stdout",
     "output_type": "stream",
     "text": [
      "0\n"
     ]
    },
    {
     "name": "stderr",
     "output_type": "stream",
     "text": [
      "Info: Params [1.69857463 0.58782541 0.65454188 0.22903388 0.29689773] gave -432.1128173419703\n"
     ]
    },
    {
     "name": "stdout",
     "output_type": "stream",
     "text": [
      "   Drift Rate  Boundary Separation Speed      Bacc  Non-decision Time Speed  \\\n",
      "0    1.698575                   0.587825  0.654542                 0.229034   \n",
      "\n",
      "   Non-decision Time Accuracy         BIC  \n",
      "0                    0.296898 -432.112817  \n",
      "1\n"
     ]
    },
    {
     "name": "stderr",
     "output_type": "stream",
     "text": [
      "Info: Params [1.48776304 0.51438378 0.52452448 0.22846463 0.29527772] gave -1150.9793058398916\n"
     ]
    },
    {
     "name": "stdout",
     "output_type": "stream",
     "text": [
      "   Drift Rate  Boundary Separation Speed      Bacc  Non-decision Time Speed  \\\n",
      "0    1.487763                   0.514384  0.524524                 0.228465   \n",
      "\n",
      "   Non-decision Time Accuracy          BIC  \n",
      "0                    0.295278 -1150.979306  \n",
      "2\n"
     ]
    },
    {
     "name": "stderr",
     "output_type": "stream",
     "text": [
      "Info: Params [0.40437488 0.5        0.55623338 0.16243857 0.16317132] gave 471.71641778580073\n"
     ]
    },
    {
     "name": "stdout",
     "output_type": "stream",
     "text": [
      "   Drift Rate  Boundary Separation Speed      Bacc  Non-decision Time Speed  \\\n",
      "0    0.404375                        0.5  0.556233                 0.162439   \n",
      "\n",
      "   Non-decision Time Accuracy         BIC  \n",
      "0                    0.163171  471.716418  \n",
      "3\n"
     ]
    },
    {
     "name": "stderr",
     "output_type": "stream",
     "text": [
      "Info: Params [2.56880321 0.5        0.50591314 0.28348709 0.29912275] gave -3408.820977356473\n"
     ]
    },
    {
     "name": "stdout",
     "output_type": "stream",
     "text": [
      "   Drift Rate  Boundary Separation Speed      Bacc  Non-decision Time Speed  \\\n",
      "0    2.568803                        0.5  0.505913                 0.283487   \n",
      "\n",
      "   Non-decision Time Accuracy          BIC  \n",
      "0                    0.299123 -3408.820977  \n",
      "4\n"
     ]
    },
    {
     "name": "stderr",
     "output_type": "stream",
     "text": [
      "Info: Params [0.66053164 0.5        0.56190668 0.16434434 0.16658538] gave 160.2391968786058\n"
     ]
    },
    {
     "name": "stdout",
     "output_type": "stream",
     "text": [
      "   Drift Rate  Boundary Separation Speed      Bacc  Non-decision Time Speed  \\\n",
      "0    0.660532                        0.5  0.561907                 0.164344   \n",
      "\n",
      "   Non-decision Time Accuracy         BIC  \n",
      "0                    0.166585  160.239197  \n",
      "5\n"
     ]
    },
    {
     "name": "stderr",
     "output_type": "stream",
     "text": [
      "Info: Params [2.21876738 0.514868   0.50055376 0.23958296 0.26966544] gave -1405.3416117802635\n"
     ]
    },
    {
     "name": "stdout",
     "output_type": "stream",
     "text": [
      "   Drift Rate  Boundary Separation Speed      Bacc  Non-decision Time Speed  \\\n",
      "0    2.218767                   0.514868  0.500554                 0.239583   \n",
      "\n",
      "   Non-decision Time Accuracy          BIC  \n",
      "0                    0.269665 -1405.341612  \n",
      "6\n"
     ]
    },
    {
     "name": "stderr",
     "output_type": "stream",
     "text": [
      "Info: Params [1.88399374 0.5        0.50743496 0.27210637 0.29570525] gave -2184.8462652113444\n"
     ]
    },
    {
     "name": "stdout",
     "output_type": "stream",
     "text": [
      "   Drift Rate  Boundary Separation Speed      Bacc  Non-decision Time Speed  \\\n",
      "0    1.883994                        0.5  0.507435                 0.272106   \n",
      "\n",
      "   Non-decision Time Accuracy          BIC  \n",
      "0                    0.295705 -2184.846265  \n",
      "7\n"
     ]
    },
    {
     "name": "stderr",
     "output_type": "stream",
     "text": [
      "Info: Params [1.87546853 0.5        0.65718271 0.24403358 0.26709442] gave -1543.7840797237545\n"
     ]
    },
    {
     "name": "stdout",
     "output_type": "stream",
     "text": [
      "   Drift Rate  Boundary Separation Speed      Bacc  Non-decision Time Speed  \\\n",
      "0    1.875469                        0.5  0.657183                 0.244034   \n",
      "\n",
      "   Non-decision Time Accuracy         BIC  \n",
      "0                    0.267094 -1543.78408  \n",
      "8\n"
     ]
    },
    {
     "name": "stderr",
     "output_type": "stream",
     "text": [
      "Info: Params [1.92973734 0.52342049 0.55982789 0.27547682 0.28902151] gave -962.9032291921652\n"
     ]
    },
    {
     "name": "stdout",
     "output_type": "stream",
     "text": [
      "   Drift Rate  Boundary Separation Speed      Bacc  Non-decision Time Speed  \\\n",
      "0    1.929737                    0.52342  0.559828                 0.275477   \n",
      "\n",
      "   Non-decision Time Accuracy         BIC  \n",
      "0                    0.289022 -962.903229  \n",
      "9\n"
     ]
    },
    {
     "name": "stderr",
     "output_type": "stream",
     "text": [
      "Info: Params [1.51715538 0.5        0.5353303  0.2277164  0.25793632] gave -1314.7501286259799\n"
     ]
    },
    {
     "name": "stdout",
     "output_type": "stream",
     "text": [
      "   Drift Rate  Boundary Separation Speed     Bacc  Non-decision Time Speed  \\\n",
      "0    1.517155                        0.5  0.53533                 0.227716   \n",
      "\n",
      "   Non-decision Time Accuracy          BIC  \n",
      "0                    0.257936 -1314.750129  \n",
      "10\n"
     ]
    },
    {
     "name": "stderr",
     "output_type": "stream",
     "text": [
      "Info: Params [0.27775505 0.5        0.50080077 0.16112521 0.16594768] gave 74.5076314999121\n"
     ]
    },
    {
     "name": "stdout",
     "output_type": "stream",
     "text": [
      "   Drift Rate  Boundary Separation Speed      Bacc  Non-decision Time Speed  \\\n",
      "0    0.277755                        0.5  0.500801                 0.161125   \n",
      "\n",
      "   Non-decision Time Accuracy        BIC  \n",
      "0                    0.165948  74.507631  \n",
      "11\n"
     ]
    },
    {
     "name": "stderr",
     "output_type": "stream",
     "text": [
      "Info: Params [1.19005905 0.50446926 0.73487785 0.20739856 0.24416921] gave 363.4359600783911\n"
     ]
    },
    {
     "name": "stdout",
     "output_type": "stream",
     "text": [
      "   Drift Rate  Boundary Separation Speed      Bacc  Non-decision Time Speed  \\\n",
      "0    1.190059                   0.504469  0.734878                 0.207399   \n",
      "\n",
      "   Non-decision Time Accuracy        BIC  \n",
      "0                    0.244169  363.43596  \n",
      "12\n"
     ]
    },
    {
     "name": "stderr",
     "output_type": "stream",
     "text": [
      "Info: Params [0.80758124 0.52684347 0.59416535 0.16620652 0.20361696] gave 578.5129170277883\n"
     ]
    },
    {
     "name": "stdout",
     "output_type": "stream",
     "text": [
      "   Drift Rate  Boundary Separation Speed      Bacc  Non-decision Time Speed  \\\n",
      "0    0.807581                   0.526843  0.594165                 0.166207   \n",
      "\n",
      "   Non-decision Time Accuracy         BIC  \n",
      "0                    0.203617  578.512917  \n",
      "13\n"
     ]
    },
    {
     "name": "stderr",
     "output_type": "stream",
     "text": [
      "Info: Params [0.38564724 0.5        0.5        0.1575667  0.17221006] gave -146.8560078937589\n"
     ]
    },
    {
     "name": "stdout",
     "output_type": "stream",
     "text": [
      "   Drift Rate  Boundary Separation Speed  Bacc  Non-decision Time Speed  \\\n",
      "0    0.385647                        0.5   0.5                 0.157567   \n",
      "\n",
      "   Non-decision Time Accuracy         BIC  \n",
      "0                     0.17221 -146.856008  \n",
      "14\n"
     ]
    },
    {
     "name": "stderr",
     "output_type": "stream",
     "text": [
      "Info: Params [1.46446232 0.52244166 0.50214708 0.32199114 0.34746665] gave -583.6294954807717\n"
     ]
    },
    {
     "name": "stdout",
     "output_type": "stream",
     "text": [
      "   Drift Rate  Boundary Separation Speed      Bacc  Non-decision Time Speed  \\\n",
      "0    1.464462                   0.522442  0.502147                 0.321991   \n",
      "\n",
      "   Non-decision Time Accuracy         BIC  \n",
      "0                    0.347467 -583.629495  \n",
      "15\n"
     ]
    },
    {
     "name": "stderr",
     "output_type": "stream",
     "text": [
      "Info: Params [0.43650286 0.5        0.55910502 0.17491609 0.19137595] gave 550.8965067460865\n"
     ]
    },
    {
     "name": "stdout",
     "output_type": "stream",
     "text": [
      "   Drift Rate  Boundary Separation Speed      Bacc  Non-decision Time Speed  \\\n",
      "0    0.436503                        0.5  0.559105                 0.174916   \n",
      "\n",
      "   Non-decision Time Accuracy         BIC  \n",
      "0                    0.191376  550.896507  \n",
      "16\n"
     ]
    },
    {
     "name": "stderr",
     "output_type": "stream",
     "text": [
      "Info: Params [0.84228377 0.5        0.50569944 0.16526776 0.17069648] gave -712.0466999274622\n"
     ]
    },
    {
     "name": "stdout",
     "output_type": "stream",
     "text": [
      "   Drift Rate  Boundary Separation Speed      Bacc  Non-decision Time Speed  \\\n",
      "0    0.842284                        0.5  0.505699                 0.165268   \n",
      "\n",
      "   Non-decision Time Accuracy       BIC  \n",
      "0                    0.170696 -712.0467  \n",
      "17\n"
     ]
    },
    {
     "name": "stderr",
     "output_type": "stream",
     "text": [
      "Info: Params [0.90944289 0.5        0.68106826 0.15309047 0.16265304] gave 764.0831205243131\n"
     ]
    },
    {
     "name": "stdout",
     "output_type": "stream",
     "text": [
      "   Drift Rate  Boundary Separation Speed      Bacc  Non-decision Time Speed  \\\n",
      "0    0.909443                        0.5  0.681068                  0.15309   \n",
      "\n",
      "   Non-decision Time Accuracy         BIC  \n",
      "0                    0.162653  764.083121  \n",
      "18\n"
     ]
    },
    {
     "name": "stderr",
     "output_type": "stream",
     "text": [
      "Info: Params [2.46017943 0.6467301  0.67980429 0.39603987 0.39186995] gave -2075.964060528712\n"
     ]
    },
    {
     "name": "stdout",
     "output_type": "stream",
     "text": [
      "   Drift Rate  Boundary Separation Speed      Bacc  Non-decision Time Speed  \\\n",
      "0    2.460179                    0.64673  0.679804                  0.39604   \n",
      "\n",
      "   Non-decision Time Accuracy          BIC  \n",
      "0                     0.39187 -2075.964061  \n",
      "19\n"
     ]
    },
    {
     "name": "stderr",
     "output_type": "stream",
     "text": [
      "Info: Params [0.63352894 0.5        0.54387856 0.17502559 0.18344303] gave -8.072137153968221\n"
     ]
    },
    {
     "name": "stdout",
     "output_type": "stream",
     "text": [
      "   Drift Rate  Boundary Separation Speed      Bacc  Non-decision Time Speed  \\\n",
      "0    0.633529                        0.5  0.543879                 0.175026   \n",
      "\n",
      "   Non-decision Time Accuracy       BIC  \n",
      "0                    0.183443 -8.072137  \n",
      "20\n"
     ]
    },
    {
     "name": "stderr",
     "output_type": "stream",
     "text": [
      "Info: Params [0.24219784 0.5        0.5        0.1619679  0.1647665 ] gave -326.1881316203471\n"
     ]
    },
    {
     "name": "stdout",
     "output_type": "stream",
     "text": [
      "   Drift Rate  Boundary Separation Speed  Bacc  Non-decision Time Speed  \\\n",
      "0    0.242198                        0.5   0.5                 0.161968   \n",
      "\n",
      "   Non-decision Time Accuracy         BIC  \n",
      "0                    0.164767 -326.188132  \n",
      "21\n"
     ]
    },
    {
     "name": "stderr",
     "output_type": "stream",
     "text": [
      "Info: Params [0.74773626 0.54026339 0.66776919 0.17643052 0.17460395] gave 1225.5405370089159\n"
     ]
    },
    {
     "name": "stdout",
     "output_type": "stream",
     "text": [
      "   Drift Rate  Boundary Separation Speed      Bacc  Non-decision Time Speed  \\\n",
      "0    0.747736                   0.540263  0.667769                 0.176431   \n",
      "\n",
      "   Non-decision Time Accuracy          BIC  \n",
      "0                    0.174604  1225.540537  \n",
      "22\n"
     ]
    },
    {
     "name": "stderr",
     "output_type": "stream",
     "text": [
      "Info: Params [0.14617318 0.5        0.5        0.15232078 0.16758643] gave -417.90316414938104\n"
     ]
    },
    {
     "name": "stdout",
     "output_type": "stream",
     "text": [
      "   Drift Rate  Boundary Separation Speed  Bacc  Non-decision Time Speed  \\\n",
      "0    0.146173                        0.5   0.5                 0.152321   \n",
      "\n",
      "   Non-decision Time Accuracy         BIC  \n",
      "0                    0.167586 -417.903164  \n",
      "23\n"
     ]
    },
    {
     "name": "stderr",
     "output_type": "stream",
     "text": [
      "Info: Params [0.50924882 0.5        0.59452718 0.17579623 0.18279353] gave 337.0340704609875\n"
     ]
    },
    {
     "name": "stdout",
     "output_type": "stream",
     "text": [
      "   Drift Rate  Boundary Separation Speed      Bacc  Non-decision Time Speed  \\\n",
      "0    0.509249                        0.5  0.594527                 0.175796   \n",
      "\n",
      "   Non-decision Time Accuracy        BIC  \n",
      "0                    0.182794  337.03407  \n",
      "24\n"
     ]
    },
    {
     "name": "stderr",
     "output_type": "stream",
     "text": [
      "Info: Params [0.76278785 0.5        0.78456357 0.1506201  0.16960695] gave 557.5988503174686\n"
     ]
    },
    {
     "name": "stdout",
     "output_type": "stream",
     "text": [
      "   Drift Rate  Boundary Separation Speed      Bacc  Non-decision Time Speed  \\\n",
      "0    0.762788                        0.5  0.784564                  0.15062   \n",
      "\n",
      "   Non-decision Time Accuracy        BIC  \n",
      "0                    0.169607  557.59885  \n",
      "25\n"
     ]
    },
    {
     "name": "stderr",
     "output_type": "stream",
     "text": [
      "Info: Params [0.93958827 0.5        0.54158089 0.18565544 0.17020584] gave -279.3565205626443\n"
     ]
    },
    {
     "name": "stdout",
     "output_type": "stream",
     "text": [
      "   Drift Rate  Boundary Separation Speed      Bacc  Non-decision Time Speed  \\\n",
      "0    0.939588                        0.5  0.541581                 0.185655   \n",
      "\n",
      "   Non-decision Time Accuracy         BIC  \n",
      "0                    0.170206 -279.356521  \n",
      "26\n"
     ]
    },
    {
     "name": "stderr",
     "output_type": "stream",
     "text": [
      "Info: Params [1.49214329 0.5        0.61791485 0.17315864 0.22943329] gave -436.5215028739635\n"
     ]
    },
    {
     "name": "stdout",
     "output_type": "stream",
     "text": [
      "   Drift Rate  Boundary Separation Speed      Bacc  Non-decision Time Speed  \\\n",
      "0    1.492143                        0.5  0.617915                 0.173159   \n",
      "\n",
      "   Non-decision Time Accuracy         BIC  \n",
      "0                    0.229433 -436.521503  \n",
      "27\n"
     ]
    },
    {
     "name": "stderr",
     "output_type": "stream",
     "text": [
      "Info: Params [0.16459373 0.5        0.5        0.17840398 0.21776413] gave -321.32015212442707\n"
     ]
    },
    {
     "name": "stdout",
     "output_type": "stream",
     "text": [
      "   Drift Rate  Boundary Separation Speed  Bacc  Non-decision Time Speed  \\\n",
      "0    0.164594                        0.5   0.5                 0.178404   \n",
      "\n",
      "   Non-decision Time Accuracy         BIC  \n",
      "0                    0.217764 -321.320152  \n",
      "28\n"
     ]
    },
    {
     "name": "stderr",
     "output_type": "stream",
     "text": [
      "Info: Params [0.64452602 0.5        0.56134254 0.16291459 0.20674265] gave 241.88666256971518\n"
     ]
    },
    {
     "name": "stdout",
     "output_type": "stream",
     "text": [
      "   Drift Rate  Boundary Separation Speed      Bacc  Non-decision Time Speed  \\\n",
      "0    0.644526                        0.5  0.561343                 0.162915   \n",
      "\n",
      "   Non-decision Time Accuracy         BIC  \n",
      "0                    0.206743  241.886663  \n",
      "29\n"
     ]
    },
    {
     "name": "stderr",
     "output_type": "stream",
     "text": [
      "Info: Params [0.2152647  0.5        0.56567984 0.17159488 0.17044623] gave 495.8882250204403\n"
     ]
    },
    {
     "name": "stdout",
     "output_type": "stream",
     "text": [
      "   Drift Rate  Boundary Separation Speed     Bacc  Non-decision Time Speed  \\\n",
      "0    0.215265                        0.5  0.56568                 0.171595   \n",
      "\n",
      "   Non-decision Time Accuracy         BIC  \n",
      "0                    0.170446  495.888225  \n",
      "30\n"
     ]
    },
    {
     "name": "stderr",
     "output_type": "stream",
     "text": [
      "Info: Params [0.27357116 0.5        0.5        0.16773542 0.16616176] gave -14.824881151904187\n"
     ]
    },
    {
     "name": "stdout",
     "output_type": "stream",
     "text": [
      "   Drift Rate  Boundary Separation Speed  Bacc  Non-decision Time Speed  \\\n",
      "0    0.273571                        0.5   0.5                 0.167735   \n",
      "\n",
      "   Non-decision Time Accuracy        BIC  \n",
      "0                    0.166162 -14.824881  \n",
      "31\n"
     ]
    },
    {
     "name": "stderr",
     "output_type": "stream",
     "text": [
      "Info: Params [0.40202401 0.5        0.5        0.16987312 0.17501251] gave 42.47669722155772\n"
     ]
    },
    {
     "name": "stdout",
     "output_type": "stream",
     "text": [
      "   Drift Rate  Boundary Separation Speed  Bacc  Non-decision Time Speed  \\\n",
      "0    0.402024                        0.5   0.5                 0.169873   \n",
      "\n",
      "   Non-decision Time Accuracy        BIC  \n",
      "0                    0.175013  42.476697  \n",
      "32\n"
     ]
    },
    {
     "name": "stderr",
     "output_type": "stream",
     "text": [
      "Info: Params [0.21610596 0.5        0.56757196 0.17326224 0.16969056] gave 496.2532198653191\n"
     ]
    },
    {
     "name": "stdout",
     "output_type": "stream",
     "text": [
      "   Drift Rate  Boundary Separation Speed      Bacc  Non-decision Time Speed  \\\n",
      "0    0.216106                        0.5  0.567572                 0.173262   \n",
      "\n",
      "   Non-decision Time Accuracy        BIC  \n",
      "0                    0.169691  496.25322  \n",
      "33\n"
     ]
    }
   ],
   "source": [
    "df_all = pd.DataFrame()\n",
    "for i in range(sample_size):\n",
    "    print(i)\n",
    "    path = os.path.join(data_dir+str(i+1)+\".csv\")\n",
    "    df = pd.read_csv(path, sep = \",\")\n",
    "    #df = df[df[\"cond\"]==SAT] # A condition\n",
    "    df = df[df[\"Time\"]<3]\n",
    "\n",
    "    samp = Sample.from_pandas_dataframe(df, rt_column_name=\"Time\", correct_column_name=\"Correct\")\n",
    "    df = get_DDM_result_sub_2a2ter(samp)\n",
    "    df_all = pd.concat((df_all,df))\n",
    "    print(df)\n",
    "df_OUM = df_all.copy()\n"
   ]
  },
  {
   "cell_type": "code",
   "execution_count": null,
   "id": "3b05a53a",
   "metadata": {},
   "outputs": [],
   "source": [
    "df_OUM.to_csv(\"DDM2a2terresultRae2014.csv\")"
   ]
  },
  {
   "cell_type": "code",
   "execution_count": 7,
   "id": "87e8797e",
   "metadata": {},
   "outputs": [
    {
     "data": {
      "text/plain": [
       "-310.8330861739367"
      ]
     },
     "execution_count": 7,
     "metadata": {},
     "output_type": "execute_result"
    }
   ],
   "source": [
    "df_OUM[\"BIC\"].mean()"
   ]
  },
  {
   "cell_type": "code",
   "execution_count": null,
   "id": "c5baddcf",
   "metadata": {},
   "outputs": [],
   "source": []
  }
 ],
 "metadata": {
  "kernelspec": {
   "display_name": "Python 3 (ipykernel)",
   "language": "python",
   "name": "python3"
  },
  "language_info": {
   "codemirror_mode": {
    "name": "ipython",
    "version": 3
   },
   "file_extension": ".py",
   "mimetype": "text/x-python",
   "name": "python",
   "nbconvert_exporter": "python",
   "pygments_lexer": "ipython3",
   "version": "3.7.15"
  }
 },
 "nbformat": 4,
 "nbformat_minor": 5
}
