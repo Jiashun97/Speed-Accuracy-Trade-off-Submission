{
 "cells": [
  {
   "cell_type": "code",
   "execution_count": 1,
   "id": "2cda49de",
   "metadata": {},
   "outputs": [],
   "source": [
    "%run SAT_help_functions.ipynb"
   ]
  },
  {
   "cell_type": "code",
   "execution_count": null,
   "id": "bc081cf9",
   "metadata": {},
   "outputs": [],
   "source": []
  },
  {
   "cell_type": "markdown",
   "id": "4bd26666",
   "metadata": {},
   "source": [
    "## OUM"
   ]
  },
  {
   "cell_type": "code",
   "execution_count": null,
   "id": "9ef6c434",
   "metadata": {},
   "outputs": [],
   "source": []
  },
  {
   "cell_type": "code",
   "execution_count": 2,
   "id": "e776257c",
   "metadata": {},
   "outputs": [],
   "source": [
    "data_dir = \"/Users/wangjiashun/Desktop/Reserach on SAT/datasets/Lexical Decision Data/SpeedAccData.csv\"\n",
    "sample_size = 16\n",
    "SAT_conds = [1,2]"
   ]
  },
  {
   "cell_type": "code",
   "execution_count": 3,
   "id": "2d56afe5",
   "metadata": {},
   "outputs": [],
   "source": [
    "\n",
    "class DriftBothSpeedAcc(Drift):\n",
    "    name = \"DriftBothSpeedAcc\"\n",
    "    required_parameters = [\"Vspeed\",\"Vacc\", \"Kspeed\", \"Kacc\"]\n",
    "    required_conditions = ['SAT']\n",
    "        \n",
    "    def get_drift(self, x, t, conditions, **kwargs):\n",
    "        if conditions['SAT'] == 1:\n",
    "            return self.Vspeed + x*self.Kspeed \n",
    "        elif conditions['SAT'] == 2:\n",
    "            return self.Vacc + x*self.Kacc\n",
    "        else: \n",
    "            print(\"Non-implemented SAT conditions\")"
   ]
  },
  {
   "cell_type": "code",
   "execution_count": 4,
   "id": "f434220f",
   "metadata": {},
   "outputs": [],
   "source": [
    "\n",
    "class NondecisionSpeedAcc(OverlayNonDecision):\n",
    "    name = \"DriftSpeedAcc\"\n",
    "    required_parameters = [\"tSpeed\", 'tAcc']\n",
    "    required_conditions = ['SAT']\n",
    "        \n",
    "    def get_nondecision_time(self, conditions, **kwargs):\n",
    "        if conditions['SAT'] == 1:\n",
    "            return self.tSpeed \n",
    "        elif conditions['SAT'] == 2:\n",
    "            return self.tAcc\n",
    "        else: \n",
    "            print(\"Non-implemented SAT conditions\")"
   ]
  },
  {
   "cell_type": "code",
   "execution_count": null,
   "id": "bbb278a6",
   "metadata": {},
   "outputs": [],
   "source": [
    "\n"
   ]
  },
  {
   "cell_type": "code",
   "execution_count": null,
   "id": "6e5e0074",
   "metadata": {},
   "outputs": [],
   "source": []
  },
  {
   "cell_type": "code",
   "execution_count": null,
   "id": "b1e0fe9b",
   "metadata": {},
   "outputs": [],
   "source": []
  },
  {
   "cell_type": "code",
   "execution_count": 5,
   "id": "fdb13001",
   "metadata": {
    "scrolled": true
   },
   "outputs": [
    {
     "name": "stderr",
     "output_type": "stream",
     "text": [
      "Warning: This function (from_pandas_dataframe()) is deprecated and will be removed in a future version of PyDDM.  Please use the choice_column_name argument instead.\n"
     ]
    },
    {
     "name": "stdout",
     "output_type": "stream",
     "text": [
      "1\n",
      "1\n"
     ]
    },
    {
     "name": "stderr",
     "output_type": "stream",
     "text": [
      "Info: Params [2.98210471 3.87182598 0.21232972 1.66418221 0.51623435 0.35909006\n",
      " 0.38173494] gave -263.26506784152934\n",
      "Warning: This function (from_pandas_dataframe()) is deprecated and will be removed in a future version of PyDDM.  Please use the choice_column_name argument instead.\n"
     ]
    },
    {
     "name": "stdout",
     "output_type": "stream",
     "text": [
      "   Drift Rate Speed  Drift Rate Accuracy  Self-excitation Speed  \\\n",
      "0          2.982105             3.871826                0.21233   \n",
      "\n",
      "   Self-excitation Accuracy  Boundary Separation  Non-decision Time Speed  \\\n",
      "0                  1.664182             0.516234                  0.35909   \n",
      "\n",
      "   Non-decision Time Accuracy         BIC  Frequency  Participant  \n",
      "0                    0.381735 -263.265068          1            1  \n",
      "2\n",
      "1\n"
     ]
    },
    {
     "name": "stderr",
     "output_type": "stream",
     "text": [
      "Info: Params [2.51722535 2.3698333  9.88007237 4.89680164 0.88408142 0.35270203\n",
      " 0.35480362] gave -138.50893139743474\n",
      "Warning: This function (from_pandas_dataframe()) is deprecated and will be removed in a future version of PyDDM.  Please use the choice_column_name argument instead.\n"
     ]
    },
    {
     "name": "stdout",
     "output_type": "stream",
     "text": [
      "   Drift Rate Speed  Drift Rate Accuracy  Self-excitation Speed  \\\n",
      "0          2.517225             2.369833               9.880072   \n",
      "\n",
      "   Self-excitation Accuracy  Boundary Separation  Non-decision Time Speed  \\\n",
      "0                  4.896802             0.884081                 0.352702   \n",
      "\n",
      "   Non-decision Time Accuracy         BIC  Frequency  Participant  \n",
      "0                    0.354804 -138.508931          2            1  \n",
      "3\n",
      "1\n"
     ]
    },
    {
     "name": "stderr",
     "output_type": "stream",
     "text": [
      "Info: Params [0.88128706 1.74408904 5.4212234  4.671297   0.70008515 0.33946564\n",
      " 0.38085779] gave -17.660752536961425\n",
      "Warning: This function (from_pandas_dataframe()) is deprecated and will be removed in a future version of PyDDM.  Please use the choice_column_name argument instead.\n"
     ]
    },
    {
     "name": "stdout",
     "output_type": "stream",
     "text": [
      "   Drift Rate Speed  Drift Rate Accuracy  Self-excitation Speed  \\\n",
      "0          0.881287             1.744089               5.421223   \n",
      "\n",
      "   Self-excitation Accuracy  Boundary Separation  Non-decision Time Speed  \\\n",
      "0                  4.671297             0.700085                 0.339466   \n",
      "\n",
      "   Non-decision Time Accuracy        BIC  Frequency  Participant  \n",
      "0                    0.380858 -17.660753          3            1  \n",
      "4\n",
      "1\n"
     ]
    },
    {
     "name": "stderr",
     "output_type": "stream",
     "text": [
      "Info: Params [2.37760384 2.77103771 0.37329894 2.32629847 0.50862606 0.34742281\n",
      " 0.39096322] gave -166.61121061548076\n",
      "Warning: This function (from_pandas_dataframe()) is deprecated and will be removed in a future version of PyDDM.  Please use the choice_column_name argument instead.\n"
     ]
    },
    {
     "name": "stdout",
     "output_type": "stream",
     "text": [
      "   Drift Rate Speed  Drift Rate Accuracy  Self-excitation Speed  \\\n",
      "0          2.377604             2.771038               0.373299   \n",
      "\n",
      "   Self-excitation Accuracy  Boundary Separation  Non-decision Time Speed  \\\n",
      "0                  2.326298             0.508626                 0.347423   \n",
      "\n",
      "   Non-decision Time Accuracy         BIC  Frequency  Participant  \n",
      "0                    0.390963 -166.611211          4            1  \n",
      "5\n",
      "1\n"
     ]
    },
    {
     "name": "stderr",
     "output_type": "stream",
     "text": [
      "Info: Params [3.67912972 2.81471798 7.41335543 6.93938413 1.95410556 0.27085591\n",
      " 0.27232869] gave -177.1709905103562\n",
      "Warning: This function (from_pandas_dataframe()) is deprecated and will be removed in a future version of PyDDM.  Please use the choice_column_name argument instead.\n"
     ]
    },
    {
     "name": "stdout",
     "output_type": "stream",
     "text": [
      "   Drift Rate Speed  Drift Rate Accuracy  Self-excitation Speed  \\\n",
      "0           3.67913             2.814718               7.413355   \n",
      "\n",
      "   Self-excitation Accuracy  Boundary Separation  Non-decision Time Speed  \\\n",
      "0                  6.939384             1.954106                 0.270856   \n",
      "\n",
      "   Non-decision Time Accuracy         BIC  Frequency  Participant  \n",
      "0                    0.272329 -177.170991          5            1  \n",
      "6\n",
      "1\n"
     ]
    },
    {
     "name": "stderr",
     "output_type": "stream",
     "text": [
      "Info: Params [3.5476187  3.17363453 7.03488499 5.21815812 0.9625747  0.32049251\n",
      " 0.33166321] gave -221.43899752281632\n",
      "Warning: This function (from_pandas_dataframe()) is deprecated and will be removed in a future version of PyDDM.  Please use the choice_column_name argument instead.\n"
     ]
    },
    {
     "name": "stdout",
     "output_type": "stream",
     "text": [
      "   Drift Rate Speed  Drift Rate Accuracy  Self-excitation Speed  \\\n",
      "0          3.547619             3.173635               7.034885   \n",
      "\n",
      "   Self-excitation Accuracy  Boundary Separation  Non-decision Time Speed  \\\n",
      "0                  5.218158             0.962575                 0.320493   \n",
      "\n",
      "   Non-decision Time Accuracy         BIC  Frequency  Participant  \n",
      "0                    0.331663 -221.438998          6            1  \n",
      "1\n",
      "3\n"
     ]
    },
    {
     "name": "stderr",
     "output_type": "stream",
     "text": [
      "Info: Params [2.83768535 3.25240035 8.44164597 4.04476274 1.09332428 0.29328859\n",
      " 0.3904806 ] gave -190.83094969477153\n",
      "Warning: This function (from_pandas_dataframe()) is deprecated and will be removed in a future version of PyDDM.  Please use the choice_column_name argument instead.\n"
     ]
    },
    {
     "name": "stdout",
     "output_type": "stream",
     "text": [
      "   Drift Rate Speed  Drift Rate Accuracy  Self-excitation Speed  \\\n",
      "0          2.837685               3.2524               8.441646   \n",
      "\n",
      "   Self-excitation Accuracy  Boundary Separation  Non-decision Time Speed  \\\n",
      "0                  4.044763             1.093324                 0.293289   \n",
      "\n",
      "   Non-decision Time Accuracy        BIC  Frequency  Participant  \n",
      "0                    0.390481 -190.83095          1            3  \n",
      "2\n",
      "3\n"
     ]
    },
    {
     "name": "stderr",
     "output_type": "stream",
     "text": [
      "Info: Params [1.55930742 2.08674671 7.46140846 0.40455384 0.81260971 0.3152933\n",
      " 0.37742829] gave -36.95563536317482\n",
      "Warning: This function (from_pandas_dataframe()) is deprecated and will be removed in a future version of PyDDM.  Please use the choice_column_name argument instead.\n"
     ]
    },
    {
     "name": "stdout",
     "output_type": "stream",
     "text": [
      "   Drift Rate Speed  Drift Rate Accuracy  Self-excitation Speed  \\\n",
      "0          1.559307             2.086747               7.461408   \n",
      "\n",
      "   Self-excitation Accuracy  Boundary Separation  Non-decision Time Speed  \\\n",
      "0                  0.404554              0.81261                 0.315293   \n",
      "\n",
      "   Non-decision Time Accuracy        BIC  Frequency  Participant  \n",
      "0                    0.377428 -36.955635          2            3  \n",
      "3\n",
      "3\n"
     ]
    },
    {
     "name": "stderr",
     "output_type": "stream",
     "text": [
      "Info: Params [1.540595   1.74882167 7.20252846 3.12715652 1.11583085 0.28842756\n",
      " 0.38276014] gave 18.23621273170704\n",
      "Warning: This function (from_pandas_dataframe()) is deprecated and will be removed in a future version of PyDDM.  Please use the choice_column_name argument instead.\n"
     ]
    },
    {
     "name": "stdout",
     "output_type": "stream",
     "text": [
      "   Drift Rate Speed  Drift Rate Accuracy  Self-excitation Speed  \\\n",
      "0          1.540595             1.748822               7.202528   \n",
      "\n",
      "   Self-excitation Accuracy  Boundary Separation  Non-decision Time Speed  \\\n",
      "0                  3.127157             1.115831                 0.288428   \n",
      "\n",
      "   Non-decision Time Accuracy        BIC  Frequency  Participant  \n",
      "0                     0.38276  18.236213          3            3  \n",
      "4\n",
      "3\n"
     ]
    },
    {
     "name": "stderr",
     "output_type": "stream",
     "text": [
      "Info: Params [2.06526975 2.19997427 7.55293591 2.61582934 2.94041817 0.19120953\n",
      " 0.10560655] gave -12.164815900094027\n",
      "Warning: This function (from_pandas_dataframe()) is deprecated and will be removed in a future version of PyDDM.  Please use the choice_column_name argument instead.\n"
     ]
    },
    {
     "name": "stdout",
     "output_type": "stream",
     "text": [
      "   Drift Rate Speed  Drift Rate Accuracy  Self-excitation Speed  \\\n",
      "0           2.06527             2.199974               7.552936   \n",
      "\n",
      "   Self-excitation Accuracy  Boundary Separation  Non-decision Time Speed  \\\n",
      "0                  2.615829             2.940418                  0.19121   \n",
      "\n",
      "   Non-decision Time Accuracy        BIC  Frequency  Participant  \n",
      "0                    0.105607 -12.164816          4            3  \n",
      "5\n",
      "3\n"
     ]
    },
    {
     "name": "stderr",
     "output_type": "stream",
     "text": [
      "Info: Params [3.10684563 2.04063913 6.17561684 2.24018322 1.59191171 0.24652932\n",
      " 0.27288506] gave -46.46131330818269\n",
      "Warning: This function (from_pandas_dataframe()) is deprecated and will be removed in a future version of PyDDM.  Please use the choice_column_name argument instead.\n"
     ]
    },
    {
     "name": "stdout",
     "output_type": "stream",
     "text": [
      "   Drift Rate Speed  Drift Rate Accuracy  Self-excitation Speed  \\\n",
      "0          3.106846             2.040639               6.175617   \n",
      "\n",
      "   Self-excitation Accuracy  Boundary Separation  Non-decision Time Speed  \\\n",
      "0                  2.240183             1.591912                 0.246529   \n",
      "\n",
      "   Non-decision Time Accuracy        BIC  Frequency  Participant  \n",
      "0                    0.272885 -46.461313          5            3  \n",
      "6\n",
      "3\n"
     ]
    },
    {
     "name": "stderr",
     "output_type": "stream",
     "text": [
      "Info: Params [2.78484959 2.24706779 6.02953231 1.28376788 1.18191067 0.29243278\n",
      " 0.3252848 ] gave -65.95651287957875\n",
      "Warning: This function (from_pandas_dataframe()) is deprecated and will be removed in a future version of PyDDM.  Please use the choice_column_name argument instead.\n"
     ]
    },
    {
     "name": "stdout",
     "output_type": "stream",
     "text": [
      "   Drift Rate Speed  Drift Rate Accuracy  Self-excitation Speed  \\\n",
      "0           2.78485             2.247068               6.029532   \n",
      "\n",
      "   Self-excitation Accuracy  Boundary Separation  Non-decision Time Speed  \\\n",
      "0                  1.283768             1.181911                 0.292433   \n",
      "\n",
      "   Non-decision Time Accuracy        BIC  Frequency  Participant  \n",
      "0                    0.325285 -65.956513          6            3  \n",
      "1\n",
      "4\n"
     ]
    },
    {
     "name": "stderr",
     "output_type": "stream",
     "text": [
      "Info: Params [ 4.02144315  4.51633946  9.87203691 -9.04365786  0.50154693  0.33713973\n",
      "  0.34173044] gave -310.60797179166576\n",
      "Warning: This function (from_pandas_dataframe()) is deprecated and will be removed in a future version of PyDDM.  Please use the choice_column_name argument instead.\n"
     ]
    },
    {
     "name": "stdout",
     "output_type": "stream",
     "text": [
      "   Drift Rate Speed  Drift Rate Accuracy  Self-excitation Speed  \\\n",
      "0          4.021443             4.516339               9.872037   \n",
      "\n",
      "   Self-excitation Accuracy  Boundary Separation  Non-decision Time Speed  \\\n",
      "0                 -9.043658             0.501547                  0.33714   \n",
      "\n",
      "   Non-decision Time Accuracy         BIC  Frequency  Participant  \n",
      "0                     0.34173 -310.607972          1            4  \n",
      "2\n",
      "4\n"
     ]
    },
    {
     "name": "stderr",
     "output_type": "stream",
     "text": [
      "Info: Params [ 2.53218879  3.34243285 10.         -0.05564803  0.64432186  0.32450296\n",
      "  0.36668407] gave -223.54732837357597\n",
      "Warning: This function (from_pandas_dataframe()) is deprecated and will be removed in a future version of PyDDM.  Please use the choice_column_name argument instead.\n"
     ]
    },
    {
     "name": "stdout",
     "output_type": "stream",
     "text": [
      "   Drift Rate Speed  Drift Rate Accuracy  Self-excitation Speed  \\\n",
      "0          2.532189             3.342433                   10.0   \n",
      "\n",
      "   Self-excitation Accuracy  Boundary Separation  Non-decision Time Speed  \\\n",
      "0                 -0.055648             0.644322                 0.324503   \n",
      "\n",
      "   Non-decision Time Accuracy         BIC  Frequency  Participant  \n",
      "0                    0.366684 -223.547328          2            4  \n",
      "3\n",
      "4\n"
     ]
    },
    {
     "name": "stderr",
     "output_type": "stream",
     "text": [
      "Info: Params [ 1.65281498  2.12753169  7.50950801 -2.14938794  0.53792004  0.33270061\n",
      "  0.36757351] gave -88.88779530471712\n",
      "Warning: This function (from_pandas_dataframe()) is deprecated and will be removed in a future version of PyDDM.  Please use the choice_column_name argument instead.\n"
     ]
    },
    {
     "name": "stdout",
     "output_type": "stream",
     "text": [
      "   Drift Rate Speed  Drift Rate Accuracy  Self-excitation Speed  \\\n",
      "0          1.652815             2.127532               7.509508   \n",
      "\n",
      "   Self-excitation Accuracy  Boundary Separation  Non-decision Time Speed  \\\n",
      "0                 -2.149388              0.53792                 0.332701   \n",
      "\n",
      "   Non-decision Time Accuracy        BIC  Frequency  Participant  \n",
      "0                    0.367574 -88.887795          3            4  \n",
      "4\n",
      "4\n"
     ]
    },
    {
     "name": "stderr",
     "output_type": "stream",
     "text": [
      "Info: Params [ 4.01753745  2.93685305 10.          2.0026347   0.84139879  0.33271489\n",
      "  0.33825849] gave -234.82807793314774\n",
      "Warning: This function (from_pandas_dataframe()) is deprecated and will be removed in a future version of PyDDM.  Please use the choice_column_name argument instead.\n"
     ]
    },
    {
     "name": "stdout",
     "output_type": "stream",
     "text": [
      "   Drift Rate Speed  Drift Rate Accuracy  Self-excitation Speed  \\\n",
      "0          4.017537             2.936853                   10.0   \n",
      "\n",
      "   Self-excitation Accuracy  Boundary Separation  Non-decision Time Speed  \\\n",
      "0                  2.002635             0.841399                 0.332715   \n",
      "\n",
      "   Non-decision Time Accuracy         BIC  Frequency  Participant  \n",
      "0                    0.338258 -234.828078          4            4  \n",
      "5\n",
      "4\n"
     ]
    },
    {
     "name": "stderr",
     "output_type": "stream",
     "text": [
      "Info: Params [ 3.63889724  2.53595254  6.34916811 -2.09953646  0.5447086   0.33561919\n",
      "  0.36773197] gave -204.52126728409428\n",
      "Warning: This function (from_pandas_dataframe()) is deprecated and will be removed in a future version of PyDDM.  Please use the choice_column_name argument instead.\n"
     ]
    },
    {
     "name": "stdout",
     "output_type": "stream",
     "text": [
      "   Drift Rate Speed  Drift Rate Accuracy  Self-excitation Speed  \\\n",
      "0          3.638897             2.535953               6.349168   \n",
      "\n",
      "   Self-excitation Accuracy  Boundary Separation  Non-decision Time Speed  \\\n",
      "0                 -2.099536             0.544709                 0.335619   \n",
      "\n",
      "   Non-decision Time Accuracy         BIC  Frequency  Participant  \n",
      "0                    0.367732 -204.521267          5            4  \n",
      "6\n",
      "4\n"
     ]
    },
    {
     "name": "stderr",
     "output_type": "stream",
     "text": [
      "Info: Params [3.39475186 2.21791168 9.96093088 2.82951227 0.70804192 0.3123599\n",
      " 0.34365566] gave -194.35597400073502\n",
      "Warning: This function (from_pandas_dataframe()) is deprecated and will be removed in a future version of PyDDM.  Please use the choice_column_name argument instead.\n"
     ]
    },
    {
     "name": "stdout",
     "output_type": "stream",
     "text": [
      "   Drift Rate Speed  Drift Rate Accuracy  Self-excitation Speed  \\\n",
      "0          3.394752             2.217912               9.960931   \n",
      "\n",
      "   Self-excitation Accuracy  Boundary Separation  Non-decision Time Speed  \\\n",
      "0                  2.829512             0.708042                  0.31236   \n",
      "\n",
      "   Non-decision Time Accuracy         BIC  Frequency  Participant  \n",
      "0                    0.343656 -194.355974          6            4  \n",
      "1\n",
      "5\n"
     ]
    },
    {
     "name": "stderr",
     "output_type": "stream",
     "text": [
      "Info: Params [ 4.31482243  4.717242   10.         -7.42231174  0.62104078  0.32685514\n",
      "  0.38805148] gave -296.5692336751279\n",
      "Warning: This function (from_pandas_dataframe()) is deprecated and will be removed in a future version of PyDDM.  Please use the choice_column_name argument instead.\n"
     ]
    },
    {
     "name": "stdout",
     "output_type": "stream",
     "text": [
      "   Drift Rate Speed  Drift Rate Accuracy  Self-excitation Speed  \\\n",
      "0          4.314822             4.717242                   10.0   \n",
      "\n",
      "   Self-excitation Accuracy  Boundary Separation  Non-decision Time Speed  \\\n",
      "0                 -7.422312             0.621041                 0.326855   \n",
      "\n",
      "   Non-decision Time Accuracy         BIC  Frequency  Participant  \n",
      "0                    0.388051 -296.569234          1            5  \n",
      "2\n",
      "5\n"
     ]
    },
    {
     "name": "stderr",
     "output_type": "stream",
     "text": [
      "Info: Params [ 4.40666953  2.67168393 10.          6.9302661   1.30157288  0.3146557\n",
      "  0.39493124] gave -223.3582141879163\n",
      "Warning: This function (from_pandas_dataframe()) is deprecated and will be removed in a future version of PyDDM.  Please use the choice_column_name argument instead.\n"
     ]
    },
    {
     "name": "stdout",
     "output_type": "stream",
     "text": [
      "   Drift Rate Speed  Drift Rate Accuracy  Self-excitation Speed  \\\n",
      "0           4.40667             2.671684                   10.0   \n",
      "\n",
      "   Self-excitation Accuracy  Boundary Separation  Non-decision Time Speed  \\\n",
      "0                  6.930266             1.301573                 0.314656   \n",
      "\n",
      "   Non-decision Time Accuracy         BIC  Frequency  Participant  \n",
      "0                    0.394931 -223.358214          2            5  \n",
      "3\n",
      "5\n"
     ]
    },
    {
     "name": "stderr",
     "output_type": "stream",
     "text": [
      "Info: Params [2.36581721 3.09093762 9.7107746  5.40413123 0.94250423 0.32563851\n",
      " 0.44743242] gave -186.97373254881052\n",
      "Warning: This function (from_pandas_dataframe()) is deprecated and will be removed in a future version of PyDDM.  Please use the choice_column_name argument instead.\n"
     ]
    },
    {
     "name": "stdout",
     "output_type": "stream",
     "text": [
      "   Drift Rate Speed  Drift Rate Accuracy  Self-excitation Speed  \\\n",
      "0          2.365817             3.090938               9.710775   \n",
      "\n",
      "   Self-excitation Accuracy  Boundary Separation  Non-decision Time Speed  \\\n",
      "0                  5.404131             0.942504                 0.325639   \n",
      "\n",
      "   Non-decision Time Accuracy         BIC  Frequency  Participant  \n",
      "0                    0.447432 -186.973733          3            5  \n",
      "4\n",
      "5\n"
     ]
    },
    {
     "name": "stderr",
     "output_type": "stream",
     "text": [
      "Info: Params [5.00859359 3.31158107 5.70590582 4.05017771 1.18134294 0.31146749\n",
      " 0.39378554] gave -269.706079566854\n",
      "Warning: This function (from_pandas_dataframe()) is deprecated and will be removed in a future version of PyDDM.  Please use the choice_column_name argument instead.\n"
     ]
    },
    {
     "name": "stdout",
     "output_type": "stream",
     "text": [
      "   Drift Rate Speed  Drift Rate Accuracy  Self-excitation Speed  \\\n",
      "0          5.008594             3.311581               5.705906   \n",
      "\n",
      "   Self-excitation Accuracy  Boundary Separation  Non-decision Time Speed  \\\n",
      "0                  4.050178             1.181343                 0.311467   \n",
      "\n",
      "   Non-decision Time Accuracy        BIC  Frequency  Participant  \n",
      "0                    0.393786 -269.70608          4            5  \n",
      "5\n",
      "5\n"
     ]
    },
    {
     "name": "stderr",
     "output_type": "stream",
     "text": [
      "Info: Params [ 4.38168462  2.62409705 10.         -3.69212418  0.52625387  0.37487179\n",
      "  0.4831592 ] gave -225.7761539161212\n",
      "Warning: This function (from_pandas_dataframe()) is deprecated and will be removed in a future version of PyDDM.  Please use the choice_column_name argument instead.\n"
     ]
    },
    {
     "name": "stdout",
     "output_type": "stream",
     "text": [
      "   Drift Rate Speed  Drift Rate Accuracy  Self-excitation Speed  \\\n",
      "0          4.381685             2.624097                   10.0   \n",
      "\n",
      "   Self-excitation Accuracy  Boundary Separation  Non-decision Time Speed  \\\n",
      "0                 -3.692124             0.526254                 0.374872   \n",
      "\n",
      "   Non-decision Time Accuracy         BIC  Frequency  Participant  \n",
      "0                    0.483159 -225.776154          5            5  \n",
      "6\n",
      "5\n"
     ]
    },
    {
     "name": "stderr",
     "output_type": "stream",
     "text": [
      "Info: Params [ 3.56906846  2.72958932 10.          5.07384019  1.31466285  0.29983235\n",
      "  0.38130948] gave -206.5473632097077\n",
      "Warning: This function (from_pandas_dataframe()) is deprecated and will be removed in a future version of PyDDM.  Please use the choice_column_name argument instead.\n"
     ]
    },
    {
     "name": "stdout",
     "output_type": "stream",
     "text": [
      "   Drift Rate Speed  Drift Rate Accuracy  Self-excitation Speed  \\\n",
      "0          3.569068             2.729589                   10.0   \n",
      "\n",
      "   Self-excitation Accuracy  Boundary Separation  Non-decision Time Speed  \\\n",
      "0                   5.07384             1.314663                 0.299832   \n",
      "\n",
      "   Non-decision Time Accuracy         BIC  Frequency  Participant  \n",
      "0                    0.381309 -206.547363          6            5  \n",
      "1\n",
      "6\n"
     ]
    },
    {
     "name": "stderr",
     "output_type": "stream",
     "text": [
      "Info: Params [2.40596032 3.076859   9.20643505 5.67694609 0.96707157 0.25984572\n",
      " 0.35465173] gave -197.7427073423458\n",
      "Warning: This function (from_pandas_dataframe()) is deprecated and will be removed in a future version of PyDDM.  Please use the choice_column_name argument instead.\n"
     ]
    },
    {
     "name": "stdout",
     "output_type": "stream",
     "text": [
      "   Drift Rate Speed  Drift Rate Accuracy  Self-excitation Speed  \\\n",
      "0           2.40596             3.076859               9.206435   \n",
      "\n",
      "   Self-excitation Accuracy  Boundary Separation  Non-decision Time Speed  \\\n",
      "0                  5.676946             0.967072                 0.259846   \n",
      "\n",
      "   Non-decision Time Accuracy         BIC  Frequency  Participant  \n",
      "0                    0.354652 -197.742707          1            6  \n",
      "2\n",
      "6\n"
     ]
    },
    {
     "name": "stderr",
     "output_type": "stream",
     "text": [
      "Info: Params [1.40491199 2.52349197 9.80674562 6.03302409 1.68023177 0.1951836\n",
      " 0.3420516 ] gave -88.20666271243485\n",
      "Warning: This function (from_pandas_dataframe()) is deprecated and will be removed in a future version of PyDDM.  Please use the choice_column_name argument instead.\n"
     ]
    },
    {
     "name": "stdout",
     "output_type": "stream",
     "text": [
      "   Drift Rate Speed  Drift Rate Accuracy  Self-excitation Speed  \\\n",
      "0          1.404912             2.523492               9.806746   \n",
      "\n",
      "   Self-excitation Accuracy  Boundary Separation  Non-decision Time Speed  \\\n",
      "0                  6.033024             1.680232                 0.195184   \n",
      "\n",
      "   Non-decision Time Accuracy        BIC  Frequency  Participant  \n",
      "0                    0.342052 -88.206663          2            6  \n",
      "3\n",
      "6\n"
     ]
    },
    {
     "name": "stderr",
     "output_type": "stream",
     "text": [
      "Info: Params [0.48412883 1.61902269 7.27932166 4.97012406 0.99331957 0.20798911\n",
      " 0.39070613] gave 21.497044176606266\n",
      "Warning: This function (from_pandas_dataframe()) is deprecated and will be removed in a future version of PyDDM.  Please use the choice_column_name argument instead.\n"
     ]
    },
    {
     "name": "stdout",
     "output_type": "stream",
     "text": [
      "   Drift Rate Speed  Drift Rate Accuracy  Self-excitation Speed  \\\n",
      "0          0.484129             1.619023               7.279322   \n",
      "\n",
      "   Self-excitation Accuracy  Boundary Separation  Non-decision Time Speed  \\\n",
      "0                  4.970124              0.99332                 0.207989   \n",
      "\n",
      "   Non-decision Time Accuracy        BIC  Frequency  Participant  \n",
      "0                    0.390706  21.497044          3            6  \n",
      "4\n",
      "6\n"
     ]
    },
    {
     "name": "stderr",
     "output_type": "stream",
     "text": [
      "Info: Params [0.90084441 2.78370144 9.95092722 4.83133953 4.64832071 0.10394296\n",
      " 0.17262782] gave -52.417214685940046\n",
      "Warning: This function (from_pandas_dataframe()) is deprecated and will be removed in a future version of PyDDM.  Please use the choice_column_name argument instead.\n"
     ]
    },
    {
     "name": "stdout",
     "output_type": "stream",
     "text": [
      "   Drift Rate Speed  Drift Rate Accuracy  Self-excitation Speed  \\\n",
      "0          0.900844             2.783701               9.950927   \n",
      "\n",
      "   Self-excitation Accuracy  Boundary Separation  Non-decision Time Speed  \\\n",
      "0                   4.83134             4.648321                 0.103943   \n",
      "\n",
      "   Non-decision Time Accuracy        BIC  Frequency  Participant  \n",
      "0                    0.172628 -52.417215          4            6  \n",
      "5\n",
      "6\n"
     ]
    },
    {
     "name": "stderr",
     "output_type": "stream",
     "text": [
      "Info: Params [0.90645402 2.41028558 8.32910109 3.86336067 0.97634973 0.25748114\n",
      " 0.37902973] gave -48.457040578878235\n",
      "Warning: This function (from_pandas_dataframe()) is deprecated and will be removed in a future version of PyDDM.  Please use the choice_column_name argument instead.\n"
     ]
    },
    {
     "name": "stdout",
     "output_type": "stream",
     "text": [
      "   Drift Rate Speed  Drift Rate Accuracy  Self-excitation Speed  \\\n",
      "0          0.906454             2.410286               8.329101   \n",
      "\n",
      "   Self-excitation Accuracy  Boundary Separation  Non-decision Time Speed  \\\n",
      "0                  3.863361              0.97635                 0.257481   \n",
      "\n",
      "   Non-decision Time Accuracy        BIC  Frequency  Participant  \n",
      "0                     0.37903 -48.457041          5            6  \n",
      "6\n",
      "6\n"
     ]
    },
    {
     "name": "stderr",
     "output_type": "stream",
     "text": [
      "Info: Params [0.63088798 2.68744063 7.48188094 5.58961499 2.29488527 0.11027149\n",
      " 0.26597761] gave -42.245495286561656\n",
      "Warning: This function (from_pandas_dataframe()) is deprecated and will be removed in a future version of PyDDM.  Please use the choice_column_name argument instead.\n"
     ]
    },
    {
     "name": "stdout",
     "output_type": "stream",
     "text": [
      "   Drift Rate Speed  Drift Rate Accuracy  Self-excitation Speed  \\\n",
      "0          0.630888             2.687441               7.481881   \n",
      "\n",
      "   Self-excitation Accuracy  Boundary Separation  Non-decision Time Speed  \\\n",
      "0                  5.589615             2.294885                 0.110271   \n",
      "\n",
      "   Non-decision Time Accuracy        BIC  Frequency  Participant  \n",
      "0                    0.265978 -42.245495          6            6  \n",
      "1\n",
      "7\n"
     ]
    },
    {
     "name": "stderr",
     "output_type": "stream",
     "text": [
      "Info: Params [0.21826907 2.15714854 8.31752541 6.52430574 2.3359348  0.10741214\n",
      " 0.18271178] gave -23.421988019457075\n",
      "Warning: This function (from_pandas_dataframe()) is deprecated and will be removed in a future version of PyDDM.  Please use the choice_column_name argument instead.\n"
     ]
    },
    {
     "name": "stdout",
     "output_type": "stream",
     "text": [
      "   Drift Rate Speed  Drift Rate Accuracy  Self-excitation Speed  \\\n",
      "0          0.218269             2.157149               8.317525   \n",
      "\n",
      "   Self-excitation Accuracy  Boundary Separation  Non-decision Time Speed  \\\n",
      "0                  6.524306             2.335935                 0.107412   \n",
      "\n",
      "   Non-decision Time Accuracy        BIC  Frequency  Participant  \n",
      "0                    0.182712 -23.421988          1            7  \n",
      "2\n",
      "7\n"
     ]
    },
    {
     "name": "stderr",
     "output_type": "stream",
     "text": [
      "Info: Params [0.         1.50267734 8.5404917  5.02562052 0.89298842 0.22316087\n",
      " 0.30560774] gave 0.631816705327978\n",
      "Warning: This function (from_pandas_dataframe()) is deprecated and will be removed in a future version of PyDDM.  Please use the choice_column_name argument instead.\n"
     ]
    },
    {
     "name": "stdout",
     "output_type": "stream",
     "text": [
      "   Drift Rate Speed  Drift Rate Accuracy  Self-excitation Speed  \\\n",
      "0               0.0             1.502677               8.540492   \n",
      "\n",
      "   Self-excitation Accuracy  Boundary Separation  Non-decision Time Speed  \\\n",
      "0                  5.025621             0.892988                 0.223161   \n",
      "\n",
      "   Non-decision Time Accuracy       BIC  Frequency  Participant  \n",
      "0                    0.305608  0.631817          2            7  \n",
      "3\n",
      "7\n"
     ]
    },
    {
     "name": "stderr",
     "output_type": "stream",
     "text": [
      "Info: Params [ 0.          0.69546397 10.          5.95684537  3.75887302  0.10746443\n",
      "  0.11221284] gave 68.5388529740546\n",
      "Warning: This function (from_pandas_dataframe()) is deprecated and will be removed in a future version of PyDDM.  Please use the choice_column_name argument instead.\n"
     ]
    },
    {
     "name": "stdout",
     "output_type": "stream",
     "text": [
      "   Drift Rate Speed  Drift Rate Accuracy  Self-excitation Speed  \\\n",
      "0               0.0             0.695464                   10.0   \n",
      "\n",
      "   Self-excitation Accuracy  Boundary Separation  Non-decision Time Speed  \\\n",
      "0                  5.956845             3.758873                 0.107464   \n",
      "\n",
      "   Non-decision Time Accuracy        BIC  Frequency  Participant  \n",
      "0                    0.112213  68.538853          3            7  \n",
      "4\n",
      "7\n"
     ]
    },
    {
     "name": "stderr",
     "output_type": "stream",
     "text": [
      "Info: Params [1.89050176 1.66213126 8.38028956 3.44986461 1.19982214 0.21446092\n",
      " 0.26285396] gave -13.186084716990358\n",
      "Warning: This function (from_pandas_dataframe()) is deprecated and will be removed in a future version of PyDDM.  Please use the choice_column_name argument instead.\n"
     ]
    },
    {
     "name": "stdout",
     "output_type": "stream",
     "text": [
      "   Drift Rate Speed  Drift Rate Accuracy  Self-excitation Speed  \\\n",
      "0          1.890502             1.662131                8.38029   \n",
      "\n",
      "   Self-excitation Accuracy  Boundary Separation  Non-decision Time Speed  \\\n",
      "0                  3.449865             1.199822                 0.214461   \n",
      "\n",
      "   Non-decision Time Accuracy        BIC  Frequency  Participant  \n",
      "0                    0.262854 -13.186085          4            7  \n",
      "5\n",
      "7\n"
     ]
    },
    {
     "name": "stderr",
     "output_type": "stream",
     "text": [
      "Info: Params [2.44854277 1.5276202  8.04101047 4.92786833 1.19997658 0.21927973\n",
      " 0.29280721] gave -47.634518378394404\n",
      "Warning: This function (from_pandas_dataframe()) is deprecated and will be removed in a future version of PyDDM.  Please use the choice_column_name argument instead.\n"
     ]
    },
    {
     "name": "stdout",
     "output_type": "stream",
     "text": [
      "   Drift Rate Speed  Drift Rate Accuracy  Self-excitation Speed  \\\n",
      "0          2.448543              1.52762                8.04101   \n",
      "\n",
      "   Self-excitation Accuracy  Boundary Separation  Non-decision Time Speed  \\\n",
      "0                  4.927868             1.199977                  0.21928   \n",
      "\n",
      "   Non-decision Time Accuracy        BIC  Frequency  Participant  \n",
      "0                    0.292807 -47.634518          5            7  \n",
      "6\n",
      "7\n"
     ]
    },
    {
     "name": "stderr",
     "output_type": "stream",
     "text": [
      "Info: Params [1.99502352 1.92475045 7.15755494 3.88688249 0.93321275 0.23226796\n",
      " 0.31773585] gave -58.972331265982156\n",
      "Warning: This function (from_pandas_dataframe()) is deprecated and will be removed in a future version of PyDDM.  Please use the choice_column_name argument instead.\n"
     ]
    },
    {
     "name": "stdout",
     "output_type": "stream",
     "text": [
      "   Drift Rate Speed  Drift Rate Accuracy  Self-excitation Speed  \\\n",
      "0          1.995024              1.92475               7.157555   \n",
      "\n",
      "   Self-excitation Accuracy  Boundary Separation  Non-decision Time Speed  \\\n",
      "0                  3.886882             0.933213                 0.232268   \n",
      "\n",
      "   Non-decision Time Accuracy        BIC  Frequency  Participant  \n",
      "0                    0.317736 -58.972331          6            7  \n",
      "1\n",
      "8\n"
     ]
    },
    {
     "name": "stderr",
     "output_type": "stream",
     "text": [
      "Info: Params [0.60940244 2.14519665 6.32424611 2.11729262 1.74434542 0.11404381\n",
      " 0.27791174] gave 65.45986917525286\n",
      "Warning: This function (from_pandas_dataframe()) is deprecated and will be removed in a future version of PyDDM.  Please use the choice_column_name argument instead.\n"
     ]
    },
    {
     "name": "stdout",
     "output_type": "stream",
     "text": [
      "   Drift Rate Speed  Drift Rate Accuracy  Self-excitation Speed  \\\n",
      "0          0.609402             2.145197               6.324246   \n",
      "\n",
      "   Self-excitation Accuracy  Boundary Separation  Non-decision Time Speed  \\\n",
      "0                  2.117293             1.744345                 0.114044   \n",
      "\n",
      "   Non-decision Time Accuracy        BIC  Frequency  Participant  \n",
      "0                    0.277912  65.459869          1            8  \n",
      "2\n",
      "8\n"
     ]
    },
    {
     "name": "stderr",
     "output_type": "stream",
     "text": [
      "Info: Params [0.         0.94293839 6.57178515 2.22165886 1.86610117 0.10029172\n",
      " 0.25180246] gave 206.18196883548194\n",
      "Warning: This function (from_pandas_dataframe()) is deprecated and will be removed in a future version of PyDDM.  Please use the choice_column_name argument instead.\n"
     ]
    },
    {
     "name": "stdout",
     "output_type": "stream",
     "text": [
      "   Drift Rate Speed  Drift Rate Accuracy  Self-excitation Speed  \\\n",
      "0               0.0             0.942938               6.571785   \n",
      "\n",
      "   Self-excitation Accuracy  Boundary Separation  Non-decision Time Speed  \\\n",
      "0                  2.221659             1.866101                 0.100292   \n",
      "\n",
      "   Non-decision Time Accuracy         BIC  Frequency  Participant  \n",
      "0                    0.251802  206.181969          2            8  \n",
      "3\n",
      "8\n"
     ]
    },
    {
     "name": "stderr",
     "output_type": "stream",
     "text": [
      "Info: Params [0.         0.40533191 6.24411714 2.40735584 2.04770411 0.10650896\n",
      " 0.16313948] gave 256.86030056477034\n",
      "Warning: This function (from_pandas_dataframe()) is deprecated and will be removed in a future version of PyDDM.  Please use the choice_column_name argument instead.\n"
     ]
    },
    {
     "name": "stdout",
     "output_type": "stream",
     "text": [
      "   Drift Rate Speed  Drift Rate Accuracy  Self-excitation Speed  \\\n",
      "0               0.0             0.405332               6.244117   \n",
      "\n",
      "   Self-excitation Accuracy  Boundary Separation  Non-decision Time Speed  \\\n",
      "0                  2.407356             2.047704                 0.106509   \n",
      "\n",
      "   Non-decision Time Accuracy         BIC  Frequency  Participant  \n",
      "0                    0.163139  256.860301          3            8  \n",
      "4\n",
      "8\n"
     ]
    },
    {
     "name": "stderr",
     "output_type": "stream",
     "text": [
      "Info: Params [0.49036661 1.07053817 6.1585993  1.41323612 1.76541331 0.11043078\n",
      " 0.15236481] gave 232.24929122886192\n",
      "Warning: This function (from_pandas_dataframe()) is deprecated and will be removed in a future version of PyDDM.  Please use the choice_column_name argument instead.\n"
     ]
    },
    {
     "name": "stdout",
     "output_type": "stream",
     "text": [
      "   Drift Rate Speed  Drift Rate Accuracy  Self-excitation Speed  \\\n",
      "0          0.490367             1.070538               6.158599   \n",
      "\n",
      "   Self-excitation Accuracy  Boundary Separation  Non-decision Time Speed  \\\n",
      "0                  1.413236             1.765413                 0.110431   \n",
      "\n",
      "   Non-decision Time Accuracy         BIC  Frequency  Participant  \n",
      "0                    0.152365  232.249291          4            8  \n",
      "5\n",
      "8\n"
     ]
    },
    {
     "name": "stderr",
     "output_type": "stream",
     "text": [
      "Info: Params [0.37711023 1.35851364 6.88749229 1.60244341 2.21405748 0.10791904\n",
      " 0.10967626] gave 168.794000984739\n",
      "Warning: This function (from_pandas_dataframe()) is deprecated and will be removed in a future version of PyDDM.  Please use the choice_column_name argument instead.\n"
     ]
    },
    {
     "name": "stdout",
     "output_type": "stream",
     "text": [
      "   Drift Rate Speed  Drift Rate Accuracy  Self-excitation Speed  \\\n",
      "0           0.37711             1.358514               6.887492   \n",
      "\n",
      "   Self-excitation Accuracy  Boundary Separation  Non-decision Time Speed  \\\n",
      "0                  1.602443             2.214057                 0.107919   \n",
      "\n",
      "   Non-decision Time Accuracy         BIC  Frequency  Participant  \n",
      "0                    0.109676  168.794001          5            8  \n",
      "6\n",
      "8\n"
     ]
    },
    {
     "name": "stderr",
     "output_type": "stream",
     "text": [
      "Info: Params [0.12673103 1.29825857 6.78381771 1.30768757 1.81801904 0.14777301\n",
      " 0.10304434] gave 195.34474402674098\n",
      "Warning: This function (from_pandas_dataframe()) is deprecated and will be removed in a future version of PyDDM.  Please use the choice_column_name argument instead.\n"
     ]
    },
    {
     "name": "stdout",
     "output_type": "stream",
     "text": [
      "   Drift Rate Speed  Drift Rate Accuracy  Self-excitation Speed  \\\n",
      "0          0.126731             1.298259               6.783818   \n",
      "\n",
      "   Self-excitation Accuracy  Boundary Separation  Non-decision Time Speed  \\\n",
      "0                  1.307688             1.818019                 0.147773   \n",
      "\n",
      "   Non-decision Time Accuracy         BIC  Frequency  Participant  \n",
      "0                    0.103044  195.344744          6            8  \n",
      "1\n",
      "9\n"
     ]
    },
    {
     "name": "stderr",
     "output_type": "stream",
     "text": [
      "Info: Params [4.52025806 2.30321251 9.98494942 2.2797992  0.78857896 0.37414345\n",
      " 0.39657161] gave -253.29760658974863\n",
      "Warning: This function (from_pandas_dataframe()) is deprecated and will be removed in a future version of PyDDM.  Please use the choice_column_name argument instead.\n"
     ]
    },
    {
     "name": "stdout",
     "output_type": "stream",
     "text": [
      "   Drift Rate Speed  Drift Rate Accuracy  Self-excitation Speed  \\\n",
      "0          4.520258             2.303213               9.984949   \n",
      "\n",
      "   Self-excitation Accuracy  Boundary Separation  Non-decision Time Speed  \\\n",
      "0                  2.279799             0.788579                 0.374143   \n",
      "\n",
      "   Non-decision Time Accuracy         BIC  Frequency  Participant  \n",
      "0                    0.396572 -253.297607          1            9  \n",
      "2\n",
      "9\n"
     ]
    },
    {
     "name": "stderr",
     "output_type": "stream",
     "text": [
      "Info: Params [ 1.89410213  2.07231903  9.67475926 -6.40812643  0.57893273  0.38454086\n",
      "  0.42234041] gave -27.56597987143803\n",
      "Warning: This function (from_pandas_dataframe()) is deprecated and will be removed in a future version of PyDDM.  Please use the choice_column_name argument instead.\n"
     ]
    },
    {
     "name": "stdout",
     "output_type": "stream",
     "text": [
      "   Drift Rate Speed  Drift Rate Accuracy  Self-excitation Speed  \\\n",
      "0          1.894102             2.072319               9.674759   \n",
      "\n",
      "   Self-excitation Accuracy  Boundary Separation  Non-decision Time Speed  \\\n",
      "0                 -6.408126             0.578933                 0.384541   \n",
      "\n",
      "   Non-decision Time Accuracy       BIC  Frequency  Participant  \n",
      "0                     0.42234 -27.56598          2            9  \n",
      "3\n",
      "9\n"
     ]
    },
    {
     "name": "stderr",
     "output_type": "stream",
     "text": [
      "Info: Params [ 0.92524226  1.26123179 10.          0.15040658  0.73651399  0.38455469\n",
      "  0.4188965 ] gave 38.36203548014259\n",
      "Warning: This function (from_pandas_dataframe()) is deprecated and will be removed in a future version of PyDDM.  Please use the choice_column_name argument instead.\n"
     ]
    },
    {
     "name": "stdout",
     "output_type": "stream",
     "text": [
      "   Drift Rate Speed  Drift Rate Accuracy  Self-excitation Speed  \\\n",
      "0          0.925242             1.261232                   10.0   \n",
      "\n",
      "   Self-excitation Accuracy  Boundary Separation  Non-decision Time Speed  \\\n",
      "0                  0.150407             0.736514                 0.384555   \n",
      "\n",
      "   Non-decision Time Accuracy        BIC  Frequency  Participant  \n",
      "0                    0.418897  38.362035          3            9  \n",
      "4\n",
      "9\n"
     ]
    },
    {
     "name": "stderr",
     "output_type": "stream",
     "text": [
      "Info: Params [ 3.19602196  2.28541927  2.15340386 -4.32307601  0.57013405  0.37193728\n",
      "  0.44198437] gave -116.02554668105662\n",
      "Warning: This function (from_pandas_dataframe()) is deprecated and will be removed in a future version of PyDDM.  Please use the choice_column_name argument instead.\n"
     ]
    },
    {
     "name": "stdout",
     "output_type": "stream",
     "text": [
      "   Drift Rate Speed  Drift Rate Accuracy  Self-excitation Speed  \\\n",
      "0          3.196022             2.285419               2.153404   \n",
      "\n",
      "   Self-excitation Accuracy  Boundary Separation  Non-decision Time Speed  \\\n",
      "0                 -4.323076             0.570134                 0.371937   \n",
      "\n",
      "   Non-decision Time Accuracy         BIC  Frequency  Participant  \n",
      "0                    0.441984 -116.025547          4            9  \n",
      "5\n",
      "9\n"
     ]
    },
    {
     "name": "stderr",
     "output_type": "stream",
     "text": [
      "Info: Params [ 3.31271832  1.88387772 10.          3.07877768  2.23336229  0.30471696\n",
      "  0.19817287] gave -76.46433649094547\n",
      "Warning: This function (from_pandas_dataframe()) is deprecated and will be removed in a future version of PyDDM.  Please use the choice_column_name argument instead.\n"
     ]
    },
    {
     "name": "stdout",
     "output_type": "stream",
     "text": [
      "   Drift Rate Speed  Drift Rate Accuracy  Self-excitation Speed  \\\n",
      "0          3.312718             1.883878                   10.0   \n",
      "\n",
      "   Self-excitation Accuracy  Boundary Separation  Non-decision Time Speed  \\\n",
      "0                  3.078778             2.233362                 0.304717   \n",
      "\n",
      "   Non-decision Time Accuracy        BIC  Frequency  Participant  \n",
      "0                    0.198173 -76.464336          5            9  \n",
      "6\n",
      "9\n"
     ]
    },
    {
     "name": "stderr",
     "output_type": "stream",
     "text": [
      "Info: Params [ 3.16403723  2.924514    5.76452382 -7.54414924  0.5457899   0.39162707\n",
      "  0.44625661] gave -159.01660725566143\n",
      "Warning: This function (from_pandas_dataframe()) is deprecated and will be removed in a future version of PyDDM.  Please use the choice_column_name argument instead.\n"
     ]
    },
    {
     "name": "stdout",
     "output_type": "stream",
     "text": [
      "   Drift Rate Speed  Drift Rate Accuracy  Self-excitation Speed  \\\n",
      "0          3.164037             2.924514               5.764524   \n",
      "\n",
      "   Self-excitation Accuracy  Boundary Separation  Non-decision Time Speed  \\\n",
      "0                 -7.544149              0.54579                 0.391627   \n",
      "\n",
      "   Non-decision Time Accuracy         BIC  Frequency  Participant  \n",
      "0                    0.446257 -159.016607          6            9  \n",
      "1\n",
      "10\n"
     ]
    },
    {
     "name": "stderr",
     "output_type": "stream",
     "text": [
      "Info: Params [ 2.79581395  4.09194883  6.68642281 -0.58524379  0.64736439  0.29052413\n",
      "  0.36013961] gave -544.164048848463\n",
      "Warning: This function (from_pandas_dataframe()) is deprecated and will be removed in a future version of PyDDM.  Please use the choice_column_name argument instead.\n"
     ]
    },
    {
     "name": "stdout",
     "output_type": "stream",
     "text": [
      "   Drift Rate Speed  Drift Rate Accuracy  Self-excitation Speed  \\\n",
      "0          2.795814             4.091949               6.686423   \n",
      "\n",
      "   Self-excitation Accuracy  Boundary Separation  Non-decision Time Speed  \\\n",
      "0                 -0.585244             0.647364                 0.290524   \n",
      "\n",
      "   Non-decision Time Accuracy         BIC  Frequency  Participant  \n",
      "0                     0.36014 -544.164049          1           10  \n",
      "2\n",
      "10\n"
     ]
    },
    {
     "name": "stderr",
     "output_type": "stream",
     "text": [
      "Info: Params [1.33561919 2.79680397 9.70647865 3.89862803 1.45021464 0.24503637\n",
      " 0.29400911] gave -237.9364404921152\n",
      "Warning: This function (from_pandas_dataframe()) is deprecated and will be removed in a future version of PyDDM.  Please use the choice_column_name argument instead.\n"
     ]
    },
    {
     "name": "stdout",
     "output_type": "stream",
     "text": [
      "   Drift Rate Speed  Drift Rate Accuracy  Self-excitation Speed  \\\n",
      "0          1.335619             2.796804               9.706479   \n",
      "\n",
      "   Self-excitation Accuracy  Boundary Separation  Non-decision Time Speed  \\\n",
      "0                  3.898628             1.450215                 0.245036   \n",
      "\n",
      "   Non-decision Time Accuracy        BIC  Frequency  Participant  \n",
      "0                    0.294009 -237.93644          2           10  \n",
      "3\n",
      "10\n"
     ]
    },
    {
     "name": "stderr",
     "output_type": "stream",
     "text": [
      "Info: Params [0.5847532  1.92817954 8.5731862  4.35540642 0.88880977 0.26204488\n",
      " 0.36048508] gave -69.67649009147209\n",
      "Warning: This function (from_pandas_dataframe()) is deprecated and will be removed in a future version of PyDDM.  Please use the choice_column_name argument instead.\n"
     ]
    },
    {
     "name": "stdout",
     "output_type": "stream",
     "text": [
      "   Drift Rate Speed  Drift Rate Accuracy  Self-excitation Speed  \\\n",
      "0          0.584753              1.92818               8.573186   \n",
      "\n",
      "   Self-excitation Accuracy  Boundary Separation  Non-decision Time Speed  \\\n",
      "0                  4.355406              0.88881                 0.262045   \n",
      "\n",
      "   Non-decision Time Accuracy       BIC  Frequency  Participant  \n",
      "0                    0.360485 -69.67649          3           10  \n",
      "4\n",
      "10\n"
     ]
    },
    {
     "name": "stderr",
     "output_type": "stream",
     "text": [
      "Info: Params [ 2.18396121  2.54212641  4.98847854 -0.97206092  0.67550001  0.27107498\n",
      "  0.3649773 ] gave -220.0891113923209\n",
      "Warning: This function (from_pandas_dataframe()) is deprecated and will be removed in a future version of PyDDM.  Please use the choice_column_name argument instead.\n"
     ]
    },
    {
     "name": "stdout",
     "output_type": "stream",
     "text": [
      "   Drift Rate Speed  Drift Rate Accuracy  Self-excitation Speed  \\\n",
      "0          2.183961             2.542126               4.988479   \n",
      "\n",
      "   Self-excitation Accuracy  Boundary Separation  Non-decision Time Speed  \\\n",
      "0                 -0.972061               0.6755                 0.271075   \n",
      "\n",
      "   Non-decision Time Accuracy         BIC  Frequency  Participant  \n",
      "0                    0.364977 -220.089111          4           10  \n",
      "5\n",
      "10\n"
     ]
    },
    {
     "name": "stderr",
     "output_type": "stream",
     "text": [
      "Info: Params [2.55144903 2.51217742 8.6854613  3.02346809 1.49001477 0.23042536\n",
      " 0.28233782] gave -237.38881255129675\n",
      "Warning: This function (from_pandas_dataframe()) is deprecated and will be removed in a future version of PyDDM.  Please use the choice_column_name argument instead.\n"
     ]
    },
    {
     "name": "stdout",
     "output_type": "stream",
     "text": [
      "   Drift Rate Speed  Drift Rate Accuracy  Self-excitation Speed  \\\n",
      "0          2.551449             2.512177               8.685461   \n",
      "\n",
      "   Self-excitation Accuracy  Boundary Separation  Non-decision Time Speed  \\\n",
      "0                  3.023468             1.490015                 0.230425   \n",
      "\n",
      "   Non-decision Time Accuracy         BIC  Frequency  Participant  \n",
      "0                    0.282338 -237.388813          5           10  \n",
      "6\n",
      "10\n"
     ]
    },
    {
     "name": "stderr",
     "output_type": "stream",
     "text": [
      "Info: Params [2.58677128 2.7555343  5.31851929 0.7663005  0.79689228 0.26972472\n",
      " 0.35237062] gave -290.3678903524146\n",
      "Warning: This function (from_pandas_dataframe()) is deprecated and will be removed in a future version of PyDDM.  Please use the choice_column_name argument instead.\n"
     ]
    },
    {
     "name": "stdout",
     "output_type": "stream",
     "text": [
      "   Drift Rate Speed  Drift Rate Accuracy  Self-excitation Speed  \\\n",
      "0          2.586771             2.755534               5.318519   \n",
      "\n",
      "   Self-excitation Accuracy  Boundary Separation  Non-decision Time Speed  \\\n",
      "0                  0.766301             0.796892                 0.269725   \n",
      "\n",
      "   Non-decision Time Accuracy        BIC  Frequency  Participant  \n",
      "0                    0.352371 -290.36789          6           10  \n",
      "1\n",
      "11\n"
     ]
    },
    {
     "name": "stderr",
     "output_type": "stream",
     "text": [
      "Info: Params [3.57891105 4.06854671 9.38993496 3.77713595 0.71002413 0.33312241\n",
      " 0.37888544] gave -642.5880208627743\n",
      "Warning: This function (from_pandas_dataframe()) is deprecated and will be removed in a future version of PyDDM.  Please use the choice_column_name argument instead.\n"
     ]
    },
    {
     "name": "stdout",
     "output_type": "stream",
     "text": [
      "   Drift Rate Speed  Drift Rate Accuracy  Self-excitation Speed  \\\n",
      "0          3.578911             4.068547               9.389935   \n",
      "\n",
      "   Self-excitation Accuracy  Boundary Separation  Non-decision Time Speed  \\\n",
      "0                  3.777136             0.710024                 0.333122   \n",
      "\n",
      "   Non-decision Time Accuracy         BIC  Frequency  Participant  \n",
      "0                    0.378885 -642.588021          1           11  \n",
      "2\n",
      "11\n"
     ]
    },
    {
     "name": "stderr",
     "output_type": "stream",
     "text": [
      "Info: Params [1.12010296 2.52072274 9.61088014 6.01634834 0.84658007 0.32859519\n",
      " 0.39522272] gave -254.3429170807064\n",
      "Warning: This function (from_pandas_dataframe()) is deprecated and will be removed in a future version of PyDDM.  Please use the choice_column_name argument instead.\n"
     ]
    },
    {
     "name": "stdout",
     "output_type": "stream",
     "text": [
      "   Drift Rate Speed  Drift Rate Accuracy  Self-excitation Speed  \\\n",
      "0          1.120103             2.520723                9.61088   \n",
      "\n",
      "   Self-excitation Accuracy  Boundary Separation  Non-decision Time Speed  \\\n",
      "0                  6.016348              0.84658                 0.328595   \n",
      "\n",
      "   Non-decision Time Accuracy         BIC  Frequency  Participant  \n",
      "0                    0.395223 -254.342917          2           11  \n",
      "3\n",
      "11\n"
     ]
    },
    {
     "name": "stderr",
     "output_type": "stream",
     "text": [
      "Info: Params [ 0.82724353  1.49985962 10.          4.76974375  0.89293803  0.3192337\n",
      "  0.37610611] gave -75.17825354434899\n",
      "Warning: This function (from_pandas_dataframe()) is deprecated and will be removed in a future version of PyDDM.  Please use the choice_column_name argument instead.\n"
     ]
    },
    {
     "name": "stdout",
     "output_type": "stream",
     "text": [
      "   Drift Rate Speed  Drift Rate Accuracy  Self-excitation Speed  \\\n",
      "0          0.827244              1.49986                   10.0   \n",
      "\n",
      "   Self-excitation Accuracy  Boundary Separation  Non-decision Time Speed  \\\n",
      "0                  4.769744             0.892938                 0.319234   \n",
      "\n",
      "   Non-decision Time Accuracy        BIC  Frequency  Participant  \n",
      "0                    0.376106 -75.178254          3           11  \n",
      "4\n",
      "11\n"
     ]
    },
    {
     "name": "stderr",
     "output_type": "stream",
     "text": [
      "Info: Params [ 1.35520074  2.5032604  10.          4.55119439  1.24310705  0.30890453\n",
      "  0.34165524] gave -205.310580299554\n",
      "Warning: This function (from_pandas_dataframe()) is deprecated and will be removed in a future version of PyDDM.  Please use the choice_column_name argument instead.\n"
     ]
    },
    {
     "name": "stdout",
     "output_type": "stream",
     "text": [
      "   Drift Rate Speed  Drift Rate Accuracy  Self-excitation Speed  \\\n",
      "0          1.355201              2.50326                   10.0   \n",
      "\n",
      "   Self-excitation Accuracy  Boundary Separation  Non-decision Time Speed  \\\n",
      "0                  4.551194             1.243107                 0.308905   \n",
      "\n",
      "   Non-decision Time Accuracy        BIC  Frequency  Participant  \n",
      "0                    0.341655 -205.31058          4           11  \n",
      "5\n",
      "11\n"
     ]
    },
    {
     "name": "stderr",
     "output_type": "stream",
     "text": [
      "Info: Params [2.19145121 2.76916596 8.95184714 1.53559747 0.80176886 0.33677808\n",
      " 0.39225667] gave -311.0016774749691\n",
      "Warning: This function (from_pandas_dataframe()) is deprecated and will be removed in a future version of PyDDM.  Please use the choice_column_name argument instead.\n"
     ]
    },
    {
     "name": "stdout",
     "output_type": "stream",
     "text": [
      "   Drift Rate Speed  Drift Rate Accuracy  Self-excitation Speed  \\\n",
      "0          2.191451             2.769166               8.951847   \n",
      "\n",
      "   Self-excitation Accuracy  Boundary Separation  Non-decision Time Speed  \\\n",
      "0                  1.535597             0.801769                 0.336778   \n",
      "\n",
      "   Non-decision Time Accuracy         BIC  Frequency  Participant  \n",
      "0                    0.392257 -311.001677          5           11  \n",
      "6\n",
      "11\n"
     ]
    },
    {
     "name": "stderr",
     "output_type": "stream",
     "text": [
      "Info: Params [2.42734686 2.39368659 7.67470522 1.7591488  0.74070097 0.34729291\n",
      " 0.38232666] gave -287.2268832760086\n",
      "Warning: This function (from_pandas_dataframe()) is deprecated and will be removed in a future version of PyDDM.  Please use the choice_column_name argument instead.\n"
     ]
    },
    {
     "name": "stdout",
     "output_type": "stream",
     "text": [
      "   Drift Rate Speed  Drift Rate Accuracy  Self-excitation Speed  \\\n",
      "0          2.427347             2.393687               7.674705   \n",
      "\n",
      "   Self-excitation Accuracy  Boundary Separation  Non-decision Time Speed  \\\n",
      "0                  1.759149             0.740701                 0.347293   \n",
      "\n",
      "   Non-decision Time Accuracy         BIC  Frequency  Participant  \n",
      "0                    0.382327 -287.226883          6           11  \n",
      "1\n",
      "12\n"
     ]
    },
    {
     "name": "stderr",
     "output_type": "stream",
     "text": [
      "Info: Params [2.22182148 2.38718928 9.46236673 5.52795842 4.61877637 0.15550865\n",
      " 0.10660723] gave -196.90999648334127\n",
      "Warning: This function (from_pandas_dataframe()) is deprecated and will be removed in a future version of PyDDM.  Please use the choice_column_name argument instead.\n"
     ]
    },
    {
     "name": "stdout",
     "output_type": "stream",
     "text": [
      "   Drift Rate Speed  Drift Rate Accuracy  Self-excitation Speed  \\\n",
      "0          2.221821             2.387189               9.462367   \n",
      "\n",
      "   Self-excitation Accuracy  Boundary Separation  Non-decision Time Speed  \\\n",
      "0                  5.527958             4.618776                 0.155509   \n",
      "\n",
      "   Non-decision Time Accuracy         BIC  Frequency  Participant  \n",
      "0                    0.106607 -196.909996          1           12  \n",
      "2\n",
      "12\n"
     ]
    },
    {
     "name": "stderr",
     "output_type": "stream",
     "text": [
      "Info: Params [1.43247213 1.2546388  7.63815847 2.71337306 0.94031461 0.30105858\n",
      " 0.33713468] gave 46.48858268227359\n",
      "Warning: This function (from_pandas_dataframe()) is deprecated and will be removed in a future version of PyDDM.  Please use the choice_column_name argument instead.\n"
     ]
    },
    {
     "name": "stdout",
     "output_type": "stream",
     "text": [
      "   Drift Rate Speed  Drift Rate Accuracy  Self-excitation Speed  \\\n",
      "0          1.432472             1.254639               7.638158   \n",
      "\n",
      "   Self-excitation Accuracy  Boundary Separation  Non-decision Time Speed  \\\n",
      "0                  2.713373             0.940315                 0.301059   \n",
      "\n",
      "   Non-decision Time Accuracy        BIC  Frequency  Participant  \n",
      "0                    0.337135  46.488583          2           12  \n",
      "3\n",
      "12\n"
     ]
    },
    {
     "name": "stderr",
     "output_type": "stream",
     "text": [
      "Info: Params [0.41230086 0.83076067 7.92585794 2.40303094 0.97009801 0.27298343\n",
      " 0.29978852] gave 212.5210968913129\n",
      "Warning: This function (from_pandas_dataframe()) is deprecated and will be removed in a future version of PyDDM.  Please use the choice_column_name argument instead.\n"
     ]
    },
    {
     "name": "stdout",
     "output_type": "stream",
     "text": [
      "   Drift Rate Speed  Drift Rate Accuracy  Self-excitation Speed  \\\n",
      "0          0.412301             0.830761               7.925858   \n",
      "\n",
      "   Self-excitation Accuracy  Boundary Separation  Non-decision Time Speed  \\\n",
      "0                  2.403031             0.970098                 0.272983   \n",
      "\n",
      "   Non-decision Time Accuracy         BIC  Frequency  Participant  \n",
      "0                    0.299789  212.521097          3           12  \n",
      "4\n",
      "12\n"
     ]
    },
    {
     "name": "stderr",
     "output_type": "stream",
     "text": [
      "Info: Params [1.48727582 1.64831182 4.8085709  3.19031912 1.69858456 0.17762472\n",
      " 0.2027676 ] gave 120.77166965130071\n",
      "Warning: This function (from_pandas_dataframe()) is deprecated and will be removed in a future version of PyDDM.  Please use the choice_column_name argument instead.\n"
     ]
    },
    {
     "name": "stdout",
     "output_type": "stream",
     "text": [
      "   Drift Rate Speed  Drift Rate Accuracy  Self-excitation Speed  \\\n",
      "0          1.487276             1.648312               4.808571   \n",
      "\n",
      "   Self-excitation Accuracy  Boundary Separation  Non-decision Time Speed  \\\n",
      "0                  3.190319             1.698585                 0.177625   \n",
      "\n",
      "   Non-decision Time Accuracy        BIC  Frequency  Participant  \n",
      "0                    0.202768  120.77167          4           12  \n",
      "5\n",
      "12\n"
     ]
    },
    {
     "name": "stderr",
     "output_type": "stream",
     "text": [
      "Info: Params [1.73409737 1.67529644 7.90390714 1.96537318 1.04867701 0.30245681\n",
      " 0.30351959] gave 85.98942386970181\n",
      "Warning: This function (from_pandas_dataframe()) is deprecated and will be removed in a future version of PyDDM.  Please use the choice_column_name argument instead.\n"
     ]
    },
    {
     "name": "stdout",
     "output_type": "stream",
     "text": [
      "   Drift Rate Speed  Drift Rate Accuracy  Self-excitation Speed  \\\n",
      "0          1.734097             1.675296               7.903907   \n",
      "\n",
      "   Self-excitation Accuracy  Boundary Separation  Non-decision Time Speed  \\\n",
      "0                  1.965373             1.048677                 0.302457   \n",
      "\n",
      "   Non-decision Time Accuracy        BIC  Frequency  Participant  \n",
      "0                     0.30352  85.989424          5           12  \n",
      "6\n",
      "12\n"
     ]
    },
    {
     "name": "stderr",
     "output_type": "stream",
     "text": [
      "Info: Params [1.77418789 1.59208718 6.42270078 2.82774078 1.95593117 0.2155483\n",
      " 0.15588586] gave 69.48825072286482\n",
      "Warning: This function (from_pandas_dataframe()) is deprecated and will be removed in a future version of PyDDM.  Please use the choice_column_name argument instead.\n"
     ]
    },
    {
     "name": "stdout",
     "output_type": "stream",
     "text": [
      "   Drift Rate Speed  Drift Rate Accuracy  Self-excitation Speed  \\\n",
      "0          1.774188             1.592087               6.422701   \n",
      "\n",
      "   Self-excitation Accuracy  Boundary Separation  Non-decision Time Speed  \\\n",
      "0                  2.827741             1.955931                 0.215548   \n",
      "\n",
      "   Non-decision Time Accuracy        BIC  Frequency  Participant  \n",
      "0                    0.155886  69.488251          6           12  \n",
      "1\n",
      "13\n"
     ]
    },
    {
     "name": "stderr",
     "output_type": "stream",
     "text": [
      "Info: Params [2.00417438 1.91003247 7.72881251 2.07529265 1.06714685 0.30946503\n",
      " 0.31791374] gave -92.8504083196689\n",
      "Warning: This function (from_pandas_dataframe()) is deprecated and will be removed in a future version of PyDDM.  Please use the choice_column_name argument instead.\n"
     ]
    },
    {
     "name": "stdout",
     "output_type": "stream",
     "text": [
      "   Drift Rate Speed  Drift Rate Accuracy  Self-excitation Speed  \\\n",
      "0          2.004174             1.910032               7.728813   \n",
      "\n",
      "   Self-excitation Accuracy  Boundary Separation  Non-decision Time Speed  \\\n",
      "0                  2.075293             1.067147                 0.309465   \n",
      "\n",
      "   Non-decision Time Accuracy        BIC  Frequency  Participant  \n",
      "0                    0.317914 -92.850408          1           13  \n",
      "2\n",
      "13\n"
     ]
    },
    {
     "name": "stderr",
     "output_type": "stream",
     "text": [
      "Info: Params [1.43700682 1.65100206 7.22906711 1.5743351  0.87311899 0.33996007\n",
      " 0.39979166] gave 2.376831765517622\n",
      "Warning: This function (from_pandas_dataframe()) is deprecated and will be removed in a future version of PyDDM.  Please use the choice_column_name argument instead.\n"
     ]
    },
    {
     "name": "stdout",
     "output_type": "stream",
     "text": [
      "   Drift Rate Speed  Drift Rate Accuracy  Self-excitation Speed  \\\n",
      "0          1.437007             1.651002               7.229067   \n",
      "\n",
      "   Self-excitation Accuracy  Boundary Separation  Non-decision Time Speed  \\\n",
      "0                  1.574335             0.873119                  0.33996   \n",
      "\n",
      "   Non-decision Time Accuracy       BIC  Frequency  Participant  \n",
      "0                    0.399792  2.376832          2           13  \n",
      "3\n",
      "13\n"
     ]
    },
    {
     "name": "stderr",
     "output_type": "stream",
     "text": [
      "Info: Params [0.39574993 0.87431156 7.65375836 2.71565968 1.17409314 0.30923078\n",
      " 0.31776253] gave 239.54982839711093\n",
      "Warning: This function (from_pandas_dataframe()) is deprecated and will be removed in a future version of PyDDM.  Please use the choice_column_name argument instead.\n"
     ]
    },
    {
     "name": "stdout",
     "output_type": "stream",
     "text": [
      "   Drift Rate Speed  Drift Rate Accuracy  Self-excitation Speed  \\\n",
      "0           0.39575             0.874312               7.653758   \n",
      "\n",
      "   Self-excitation Accuracy  Boundary Separation  Non-decision Time Speed  \\\n",
      "0                   2.71566             1.174093                 0.309231   \n",
      "\n",
      "   Non-decision Time Accuracy         BIC  Frequency  Participant  \n",
      "0                    0.317763  239.549828          3           13  \n",
      "4\n",
      "13\n"
     ]
    },
    {
     "name": "stderr",
     "output_type": "stream",
     "text": [
      "Info: Params [1.47946756 1.59414955 6.96008813 1.36687258 1.0547513  0.31860815\n",
      " 0.33728682] gave 72.33622710867652\n",
      "Warning: This function (from_pandas_dataframe()) is deprecated and will be removed in a future version of PyDDM.  Please use the choice_column_name argument instead.\n"
     ]
    },
    {
     "name": "stdout",
     "output_type": "stream",
     "text": [
      "   Drift Rate Speed  Drift Rate Accuracy  Self-excitation Speed  \\\n",
      "0          1.479468              1.59415               6.960088   \n",
      "\n",
      "   Self-excitation Accuracy  Boundary Separation  Non-decision Time Speed  \\\n",
      "0                  1.366873             1.054751                 0.318608   \n",
      "\n",
      "   Non-decision Time Accuracy        BIC  Frequency  Participant  \n",
      "0                    0.337287  72.336227          4           13  \n",
      "5\n",
      "13\n"
     ]
    },
    {
     "name": "stderr",
     "output_type": "stream",
     "text": [
      "Info: Params [1.94564517 1.56872667 5.98944273 1.50283218 1.02116678 0.31745346\n",
      " 0.36464705] gave 34.70328929705341\n",
      "Warning: This function (from_pandas_dataframe()) is deprecated and will be removed in a future version of PyDDM.  Please use the choice_column_name argument instead.\n"
     ]
    },
    {
     "name": "stdout",
     "output_type": "stream",
     "text": [
      "   Drift Rate Speed  Drift Rate Accuracy  Self-excitation Speed  \\\n",
      "0          1.945645             1.568727               5.989443   \n",
      "\n",
      "   Self-excitation Accuracy  Boundary Separation  Non-decision Time Speed  \\\n",
      "0                  1.502832             1.021167                 0.317453   \n",
      "\n",
      "   Non-decision Time Accuracy        BIC  Frequency  Participant  \n",
      "0                    0.364647  34.703289          5           13  \n",
      "6\n",
      "13\n"
     ]
    },
    {
     "name": "stderr",
     "output_type": "stream",
     "text": [
      "Info: Params [ 1.45201509  1.44347168  0.67567115 -0.45396903  0.71820321  0.30113654\n",
      "  0.37452692] gave 102.70104146796837\n",
      "Warning: This function (from_pandas_dataframe()) is deprecated and will be removed in a future version of PyDDM.  Please use the choice_column_name argument instead.\n"
     ]
    },
    {
     "name": "stdout",
     "output_type": "stream",
     "text": [
      "   Drift Rate Speed  Drift Rate Accuracy  Self-excitation Speed  \\\n",
      "0          1.452015             1.443472               0.675671   \n",
      "\n",
      "   Self-excitation Accuracy  Boundary Separation  Non-decision Time Speed  \\\n",
      "0                 -0.453969             0.718203                 0.301137   \n",
      "\n",
      "   Non-decision Time Accuracy         BIC  Frequency  Participant  \n",
      "0                    0.374527  102.701041          6           13  \n",
      "1\n",
      "14\n"
     ]
    },
    {
     "name": "stderr",
     "output_type": "stream",
     "text": [
      "Info: Params [3.14237013 2.50923141 8.15790789 2.75679659 1.67371966 0.241513\n",
      " 0.23038545] gave -303.3663975245531\n",
      "Warning: This function (from_pandas_dataframe()) is deprecated and will be removed in a future version of PyDDM.  Please use the choice_column_name argument instead.\n"
     ]
    },
    {
     "name": "stdout",
     "output_type": "stream",
     "text": [
      "   Drift Rate Speed  Drift Rate Accuracy  Self-excitation Speed  \\\n",
      "0           3.14237             2.509231               8.157908   \n",
      "\n",
      "   Self-excitation Accuracy  Boundary Separation  Non-decision Time Speed  \\\n",
      "0                  2.756797              1.67372                 0.241513   \n",
      "\n",
      "   Non-decision Time Accuracy         BIC  Frequency  Participant  \n",
      "0                    0.230385 -303.366398          1           14  \n",
      "2\n",
      "14\n"
     ]
    },
    {
     "name": "stderr",
     "output_type": "stream",
     "text": [
      "Info: Params [2.21822752 1.70775224 7.36534493 2.11455143 1.14686419 0.29193013\n",
      " 0.33047097] gave -31.841759097570964\n",
      "Warning: This function (from_pandas_dataframe()) is deprecated and will be removed in a future version of PyDDM.  Please use the choice_column_name argument instead.\n"
     ]
    },
    {
     "name": "stdout",
     "output_type": "stream",
     "text": [
      "   Drift Rate Speed  Drift Rate Accuracy  Self-excitation Speed  \\\n",
      "0          2.218228             1.707752               7.365345   \n",
      "\n",
      "   Self-excitation Accuracy  Boundary Separation  Non-decision Time Speed  \\\n",
      "0                  2.114551             1.146864                  0.29193   \n",
      "\n",
      "   Non-decision Time Accuracy        BIC  Frequency  Participant  \n",
      "0                    0.330471 -31.841759          2           14  \n",
      "3\n",
      "14\n"
     ]
    },
    {
     "name": "stderr",
     "output_type": "stream",
     "text": [
      "Info: Params [1.46108489 1.30322407 8.34442052 2.30039624 1.67964933 0.27138004\n",
      " 0.2238805 ] gave 156.0437925017723\n",
      "Warning: This function (from_pandas_dataframe()) is deprecated and will be removed in a future version of PyDDM.  Please use the choice_column_name argument instead.\n"
     ]
    },
    {
     "name": "stdout",
     "output_type": "stream",
     "text": [
      "   Drift Rate Speed  Drift Rate Accuracy  Self-excitation Speed  \\\n",
      "0          1.461085             1.303224               8.344421   \n",
      "\n",
      "   Self-excitation Accuracy  Boundary Separation  Non-decision Time Speed  \\\n",
      "0                  2.300396             1.679649                  0.27138   \n",
      "\n",
      "   Non-decision Time Accuracy         BIC  Frequency  Participant  \n",
      "0                     0.22388  156.043793          3           14  \n",
      "4\n",
      "14\n"
     ]
    },
    {
     "name": "stderr",
     "output_type": "stream",
     "text": [
      "Info: Params [ 1.96033989  2.98787624 -1.81787499 -9.27041181  0.56523385  0.37931105\n",
      "  0.48374079] gave -105.56119680114449\n",
      "Warning: This function (from_pandas_dataframe()) is deprecated and will be removed in a future version of PyDDM.  Please use the choice_column_name argument instead.\n"
     ]
    },
    {
     "name": "stdout",
     "output_type": "stream",
     "text": [
      "   Drift Rate Speed  Drift Rate Accuracy  Self-excitation Speed  \\\n",
      "0           1.96034             2.987876              -1.817875   \n",
      "\n",
      "   Self-excitation Accuracy  Boundary Separation  Non-decision Time Speed  \\\n",
      "0                 -9.270412             0.565234                 0.379311   \n",
      "\n",
      "   Non-decision Time Accuracy         BIC  Frequency  Participant  \n",
      "0                    0.483741 -105.561197          4           14  \n",
      "5\n",
      "14\n"
     ]
    },
    {
     "name": "stderr",
     "output_type": "stream",
     "text": [
      "Info: Params [1.623222   1.48261486 7.00163801 1.13145056 1.96183554 0.24592862\n",
      " 0.12226832] gave 177.90427662021943\n",
      "Warning: This function (from_pandas_dataframe()) is deprecated and will be removed in a future version of PyDDM.  Please use the choice_column_name argument instead.\n"
     ]
    },
    {
     "name": "stdout",
     "output_type": "stream",
     "text": [
      "   Drift Rate Speed  Drift Rate Accuracy  Self-excitation Speed  \\\n",
      "0          1.623222             1.482615               7.001638   \n",
      "\n",
      "   Self-excitation Accuracy  Boundary Separation  Non-decision Time Speed  \\\n",
      "0                  1.131451             1.961836                 0.245929   \n",
      "\n",
      "   Non-decision Time Accuracy         BIC  Frequency  Participant  \n",
      "0                    0.122268  177.904277          5           14  \n",
      "6\n",
      "14\n"
     ]
    },
    {
     "name": "stderr",
     "output_type": "stream",
     "text": [
      "Info: Params [ 2.02709767  2.21000675  3.55025926 -6.33924872  0.656407    0.34535682\n",
      "  0.4655535 ] gave 29.91239811004275\n",
      "Warning: This function (from_pandas_dataframe()) is deprecated and will be removed in a future version of PyDDM.  Please use the choice_column_name argument instead.\n"
     ]
    },
    {
     "name": "stdout",
     "output_type": "stream",
     "text": [
      "   Drift Rate Speed  Drift Rate Accuracy  Self-excitation Speed  \\\n",
      "0          2.027098             2.210007               3.550259   \n",
      "\n",
      "   Self-excitation Accuracy  Boundary Separation  Non-decision Time Speed  \\\n",
      "0                 -6.339249             0.656407                 0.345357   \n",
      "\n",
      "   Non-decision Time Accuracy        BIC  Frequency  Participant  \n",
      "0                    0.465554  29.912398          6           14  \n",
      "1\n",
      "15\n"
     ]
    },
    {
     "name": "stderr",
     "output_type": "stream",
     "text": [
      "Info: Params [2.44379413 2.39614213 8.35809082 0.97908158 1.06453129 0.31866893\n",
      " 0.35380399] gave -202.54617616900353\n",
      "Warning: This function (from_pandas_dataframe()) is deprecated and will be removed in a future version of PyDDM.  Please use the choice_column_name argument instead.\n"
     ]
    },
    {
     "name": "stdout",
     "output_type": "stream",
     "text": [
      "   Drift Rate Speed  Drift Rate Accuracy  Self-excitation Speed  \\\n",
      "0          2.443794             2.396142               8.358091   \n",
      "\n",
      "   Self-excitation Accuracy  Boundary Separation  Non-decision Time Speed  \\\n",
      "0                  0.979082             1.064531                 0.318669   \n",
      "\n",
      "   Non-decision Time Accuracy         BIC  Frequency  Participant  \n",
      "0                    0.353804 -202.546176          1           15  \n",
      "2\n",
      "15\n"
     ]
    },
    {
     "name": "stderr",
     "output_type": "stream",
     "text": [
      "Info: Params [1.76612216 2.15153446 7.80296951 2.72485143 1.91522165 0.25824144\n",
      " 0.31984743] gave -51.637360143265894\n",
      "Warning: This function (from_pandas_dataframe()) is deprecated and will be removed in a future version of PyDDM.  Please use the choice_column_name argument instead.\n"
     ]
    },
    {
     "name": "stdout",
     "output_type": "stream",
     "text": [
      "   Drift Rate Speed  Drift Rate Accuracy  Self-excitation Speed  \\\n",
      "0          1.766122             2.151534                7.80297   \n",
      "\n",
      "   Self-excitation Accuracy  Boundary Separation  Non-decision Time Speed  \\\n",
      "0                  2.724851             1.915222                 0.258241   \n",
      "\n",
      "   Non-decision Time Accuracy       BIC  Frequency  Participant  \n",
      "0                    0.319847 -51.63736          2           15  \n",
      "3\n",
      "15\n"
     ]
    },
    {
     "name": "stderr",
     "output_type": "stream",
     "text": [
      "Info: Params [0.82139532 1.22062535 9.77198401 2.46523068 1.46096739 0.29327543\n",
      " 0.35184236] gave 133.2562232535755\n",
      "Warning: This function (from_pandas_dataframe()) is deprecated and will be removed in a future version of PyDDM.  Please use the choice_column_name argument instead.\n"
     ]
    },
    {
     "name": "stdout",
     "output_type": "stream",
     "text": [
      "   Drift Rate Speed  Drift Rate Accuracy  Self-excitation Speed  \\\n",
      "0          0.821395             1.220625               9.771984   \n",
      "\n",
      "   Self-excitation Accuracy  Boundary Separation  Non-decision Time Speed  \\\n",
      "0                  2.465231             1.460967                 0.293275   \n",
      "\n",
      "   Non-decision Time Accuracy         BIC  Frequency  Participant  \n",
      "0                    0.351842  133.256223          3           15  \n",
      "4\n",
      "15\n"
     ]
    },
    {
     "name": "stderr",
     "output_type": "stream",
     "text": [
      "Info: Params [1.89063509 2.15457637 8.36621518 0.61379577 1.00055931 0.33819302\n",
      " 0.44939824] gave -116.36646177348084\n",
      "Warning: This function (from_pandas_dataframe()) is deprecated and will be removed in a future version of PyDDM.  Please use the choice_column_name argument instead.\n"
     ]
    },
    {
     "name": "stdout",
     "output_type": "stream",
     "text": [
      "   Drift Rate Speed  Drift Rate Accuracy  Self-excitation Speed  \\\n",
      "0          1.890635             2.154576               8.366215   \n",
      "\n",
      "   Self-excitation Accuracy  Boundary Separation  Non-decision Time Speed  \\\n",
      "0                  0.613796             1.000559                 0.338193   \n",
      "\n",
      "   Non-decision Time Accuracy         BIC  Frequency  Participant  \n",
      "0                    0.449398 -116.366462          4           15  \n",
      "5\n",
      "15\n"
     ]
    },
    {
     "name": "stderr",
     "output_type": "stream",
     "text": [
      "Info: Params [1.65231879 1.879092   8.1935318  1.48588699 1.37930575 0.29868463\n",
      " 0.35374472] gave -2.828675493454263\n",
      "Warning: This function (from_pandas_dataframe()) is deprecated and will be removed in a future version of PyDDM.  Please use the choice_column_name argument instead.\n"
     ]
    },
    {
     "name": "stdout",
     "output_type": "stream",
     "text": [
      "   Drift Rate Speed  Drift Rate Accuracy  Self-excitation Speed  \\\n",
      "0          1.652319             1.879092               8.193532   \n",
      "\n",
      "   Self-excitation Accuracy  Boundary Separation  Non-decision Time Speed  \\\n",
      "0                  1.485887             1.379306                 0.298685   \n",
      "\n",
      "   Non-decision Time Accuracy       BIC  Frequency  Participant  \n",
      "0                    0.353745 -2.828675          5           15  \n",
      "6\n",
      "15\n"
     ]
    },
    {
     "name": "stderr",
     "output_type": "stream",
     "text": [
      "Info: Params [2.15882001 2.18718007 7.91447168 1.69067164 1.10828921 0.32427206\n",
      " 0.41022207] gave -143.5834680436502\n",
      "Warning: This function (from_pandas_dataframe()) is deprecated and will be removed in a future version of PyDDM.  Please use the choice_column_name argument instead.\n"
     ]
    },
    {
     "name": "stdout",
     "output_type": "stream",
     "text": [
      "   Drift Rate Speed  Drift Rate Accuracy  Self-excitation Speed  \\\n",
      "0           2.15882              2.18718               7.914472   \n",
      "\n",
      "   Self-excitation Accuracy  Boundary Separation  Non-decision Time Speed  \\\n",
      "0                  1.690672             1.108289                 0.324272   \n",
      "\n",
      "   Non-decision Time Accuracy         BIC  Frequency  Participant  \n",
      "0                    0.410222 -143.583468          6           15  \n",
      "1\n",
      "16\n"
     ]
    },
    {
     "name": "stderr",
     "output_type": "stream",
     "text": [
      "Info: Params [1.31097392 2.50401615 7.7079199  3.28786007 1.51988464 0.21848083\n",
      " 0.300777  ] gave -140.5421214942673\n",
      "Warning: This function (from_pandas_dataframe()) is deprecated and will be removed in a future version of PyDDM.  Please use the choice_column_name argument instead.\n"
     ]
    },
    {
     "name": "stdout",
     "output_type": "stream",
     "text": [
      "   Drift Rate Speed  Drift Rate Accuracy  Self-excitation Speed  \\\n",
      "0          1.310974             2.504016                7.70792   \n",
      "\n",
      "   Self-excitation Accuracy  Boundary Separation  Non-decision Time Speed  \\\n",
      "0                   3.28786             1.519885                 0.218481   \n",
      "\n",
      "   Non-decision Time Accuracy         BIC  Frequency  Participant  \n",
      "0                    0.300777 -140.542121          1           16  \n",
      "2\n",
      "16\n"
     ]
    },
    {
     "name": "stderr",
     "output_type": "stream",
     "text": [
      "Info: Params [1.07832768 1.83157746 4.52927137 2.17717169 1.00975287 0.21592733\n",
      " 0.3978813 ] gave 99.07834032436526\n",
      "Warning: This function (from_pandas_dataframe()) is deprecated and will be removed in a future version of PyDDM.  Please use the choice_column_name argument instead.\n"
     ]
    },
    {
     "name": "stdout",
     "output_type": "stream",
     "text": [
      "   Drift Rate Speed  Drift Rate Accuracy  Self-excitation Speed  \\\n",
      "0          1.078328             1.831577               4.529271   \n",
      "\n",
      "   Self-excitation Accuracy  Boundary Separation  Non-decision Time Speed  \\\n",
      "0                  2.177172             1.009753                 0.215927   \n",
      "\n",
      "   Non-decision Time Accuracy       BIC  Frequency  Participant  \n",
      "0                    0.397881  99.07834          2           16  \n",
      "3\n",
      "16\n"
     ]
    },
    {
     "name": "stderr",
     "output_type": "stream",
     "text": [
      "Info: Params [0.64134075 1.26037705 4.89020874 2.68971116 1.22135917 0.18654036\n",
      " 0.35980707] gave 263.9595072908185\n",
      "Warning: This function (from_pandas_dataframe()) is deprecated and will be removed in a future version of PyDDM.  Please use the choice_column_name argument instead.\n"
     ]
    },
    {
     "name": "stdout",
     "output_type": "stream",
     "text": [
      "   Drift Rate Speed  Drift Rate Accuracy  Self-excitation Speed  \\\n",
      "0          0.641341             1.260377               4.890209   \n",
      "\n",
      "   Self-excitation Accuracy  Boundary Separation  Non-decision Time Speed  \\\n",
      "0                  2.689711             1.221359                  0.18654   \n",
      "\n",
      "   Non-decision Time Accuracy         BIC  Frequency  Participant  \n",
      "0                    0.359807  263.959507          3           16  \n",
      "4\n",
      "16\n"
     ]
    },
    {
     "name": "stderr",
     "output_type": "stream",
     "text": [
      "Info: Params [1.04913233 2.01946224 6.24410642 3.0119082  1.53629196 0.19203167\n",
      " 0.34977006] gave 49.844411617061816\n",
      "Warning: This function (from_pandas_dataframe()) is deprecated and will be removed in a future version of PyDDM.  Please use the choice_column_name argument instead.\n"
     ]
    },
    {
     "name": "stdout",
     "output_type": "stream",
     "text": [
      "   Drift Rate Speed  Drift Rate Accuracy  Self-excitation Speed  \\\n",
      "0          1.049132             2.019462               6.244106   \n",
      "\n",
      "   Self-excitation Accuracy  Boundary Separation  Non-decision Time Speed  \\\n",
      "0                  3.011908             1.536292                 0.192032   \n",
      "\n",
      "   Non-decision Time Accuracy        BIC  Frequency  Participant  \n",
      "0                     0.34977  49.844412          4           16  \n",
      "5\n",
      "16\n"
     ]
    },
    {
     "name": "stderr",
     "output_type": "stream",
     "text": [
      "Info: Params [0.82842894 1.88847251 5.61343013 2.00923383 1.34497385 0.19716579\n",
      " 0.32513046] gave 137.9218489374453\n",
      "Warning: This function (from_pandas_dataframe()) is deprecated and will be removed in a future version of PyDDM.  Please use the choice_column_name argument instead.\n"
     ]
    },
    {
     "name": "stdout",
     "output_type": "stream",
     "text": [
      "   Drift Rate Speed  Drift Rate Accuracy  Self-excitation Speed  \\\n",
      "0          0.828429             1.888473                5.61343   \n",
      "\n",
      "   Self-excitation Accuracy  Boundary Separation  Non-decision Time Speed  \\\n",
      "0                  2.009234             1.344974                 0.197166   \n",
      "\n",
      "   Non-decision Time Accuracy         BIC  Frequency  Participant  \n",
      "0                     0.32513  137.921849          5           16  \n",
      "6\n",
      "16\n"
     ]
    },
    {
     "name": "stderr",
     "output_type": "stream",
     "text": [
      "Info: Params [0.98388401 1.99214214 4.06639725 2.5582785  1.15287876 0.19553143\n",
      " 0.35342804] gave 131.9914222187828\n",
      "Warning: This function (from_pandas_dataframe()) is deprecated and will be removed in a future version of PyDDM.  Please use the choice_column_name argument instead.\n"
     ]
    },
    {
     "name": "stdout",
     "output_type": "stream",
     "text": [
      "   Drift Rate Speed  Drift Rate Accuracy  Self-excitation Speed  \\\n",
      "0          0.983884             1.992142               4.066397   \n",
      "\n",
      "   Self-excitation Accuracy  Boundary Separation  Non-decision Time Speed  \\\n",
      "0                  2.558279             1.152879                 0.195531   \n",
      "\n",
      "   Non-decision Time Accuracy         BIC  Frequency  Participant  \n",
      "0                    0.353428  131.991422          6           16  \n",
      "1\n",
      "17\n"
     ]
    },
    {
     "name": "stderr",
     "output_type": "stream",
     "text": [
      "Info: Params [2.92998412 3.21580969 5.06627711 0.95731439 1.21566264 0.27346615\n",
      " 0.35588132] gave -319.4723306862078\n",
      "Warning: This function (from_pandas_dataframe()) is deprecated and will be removed in a future version of PyDDM.  Please use the choice_column_name argument instead.\n"
     ]
    },
    {
     "name": "stdout",
     "output_type": "stream",
     "text": [
      "   Drift Rate Speed  Drift Rate Accuracy  Self-excitation Speed  \\\n",
      "0          2.929984              3.21581               5.066277   \n",
      "\n",
      "   Self-excitation Accuracy  Boundary Separation  Non-decision Time Speed  \\\n",
      "0                  0.957314             1.215663                 0.273466   \n",
      "\n",
      "   Non-decision Time Accuracy         BIC  Frequency  Participant  \n",
      "0                    0.355881 -319.472331          1           17  \n",
      "2\n",
      "17\n"
     ]
    },
    {
     "name": "stderr",
     "output_type": "stream",
     "text": [
      "Info: Params [2.59638467 2.44360858 6.9762304  2.13832627 1.32633179 0.30303153\n",
      " 0.36120605] gave -215.36692121197242\n",
      "Warning: This function (from_pandas_dataframe()) is deprecated and will be removed in a future version of PyDDM.  Please use the choice_column_name argument instead.\n"
     ]
    },
    {
     "name": "stdout",
     "output_type": "stream",
     "text": [
      "   Drift Rate Speed  Drift Rate Accuracy  Self-excitation Speed  \\\n",
      "0          2.596385             2.443609                6.97623   \n",
      "\n",
      "   Self-excitation Accuracy  Boundary Separation  Non-decision Time Speed  \\\n",
      "0                  2.138326             1.326332                 0.303032   \n",
      "\n",
      "   Non-decision Time Accuracy         BIC  Frequency  Participant  \n",
      "0                    0.361206 -215.366921          2           17  \n",
      "3\n",
      "17\n"
     ]
    },
    {
     "name": "stderr",
     "output_type": "stream",
     "text": [
      "Info: Params [1.8371023  1.89839551 7.13819234 3.19977601 1.36702233 0.2898162\n",
      " 0.38805096] gave -16.23684020250728\n",
      "Warning: This function (from_pandas_dataframe()) is deprecated and will be removed in a future version of PyDDM.  Please use the choice_column_name argument instead.\n"
     ]
    },
    {
     "name": "stdout",
     "output_type": "stream",
     "text": [
      "   Drift Rate Speed  Drift Rate Accuracy  Self-excitation Speed  \\\n",
      "0          1.837102             1.898396               7.138192   \n",
      "\n",
      "   Self-excitation Accuracy  Boundary Separation  Non-decision Time Speed  \\\n",
      "0                  3.199776             1.367022                 0.289816   \n",
      "\n",
      "   Non-decision Time Accuracy       BIC  Frequency  Participant  \n",
      "0                    0.388051 -16.23684          3           17  \n",
      "4\n",
      "17\n"
     ]
    },
    {
     "name": "stderr",
     "output_type": "stream",
     "text": [
      "Info: Params [2.09241339 2.55051379 5.54604891 2.05608766 1.29042254 0.28094093\n",
      " 0.40742796] gave -143.071437089703\n",
      "Warning: This function (from_pandas_dataframe()) is deprecated and will be removed in a future version of PyDDM.  Please use the choice_column_name argument instead.\n"
     ]
    },
    {
     "name": "stdout",
     "output_type": "stream",
     "text": [
      "   Drift Rate Speed  Drift Rate Accuracy  Self-excitation Speed  \\\n",
      "0          2.092413             2.550514               5.546049   \n",
      "\n",
      "   Self-excitation Accuracy  Boundary Separation  Non-decision Time Speed  \\\n",
      "0                  2.056088             1.290423                 0.280941   \n",
      "\n",
      "   Non-decision Time Accuracy         BIC  Frequency  Participant  \n",
      "0                    0.407428 -143.071437          4           17  \n",
      "5\n",
      "17\n"
     ]
    },
    {
     "name": "stderr",
     "output_type": "stream",
     "text": [
      "Info: Params [2.45346279 2.21004375 5.34347401 1.9754396  1.13141371 0.31954207\n",
      " 0.40668427] gave -149.3962802678326\n",
      "Warning: This function (from_pandas_dataframe()) is deprecated and will be removed in a future version of PyDDM.  Please use the choice_column_name argument instead.\n"
     ]
    },
    {
     "name": "stdout",
     "output_type": "stream",
     "text": [
      "   Drift Rate Speed  Drift Rate Accuracy  Self-excitation Speed  \\\n",
      "0          2.453463             2.210044               5.343474   \n",
      "\n",
      "   Self-excitation Accuracy  Boundary Separation  Non-decision Time Speed  \\\n",
      "0                   1.97544             1.131414                 0.319542   \n",
      "\n",
      "   Non-decision Time Accuracy        BIC  Frequency  Participant  \n",
      "0                    0.406684 -149.39628          5           17  \n",
      "6\n",
      "17\n"
     ]
    },
    {
     "name": "stderr",
     "output_type": "stream",
     "text": [
      "Info: Params [2.21037914 2.25358928 5.36789332 2.61125792 2.12028761 0.2197793\n",
      " 0.27451385] gave -70.6567539074808\n"
     ]
    },
    {
     "name": "stdout",
     "output_type": "stream",
     "text": [
      "   Drift Rate Speed  Drift Rate Accuracy  Self-excitation Speed  \\\n",
      "0          2.210379             2.253589               5.367893   \n",
      "\n",
      "   Self-excitation Accuracy  Boundary Separation  Non-decision Time Speed  \\\n",
      "0                  2.611258             2.120288                 0.219779   \n",
      "\n",
      "   Non-decision Time Accuracy        BIC  Frequency  Participant  \n",
      "0                    0.274514 -70.656754          6           17  \n"
     ]
    }
   ],
   "source": [
    "participants = [1,  3,  4,  5,  6,  7,  8,  9, 10, 11, 12, 13, 14, 15, 16, 17]\n",
    "df_all = pd.DataFrame()\n",
    "for i in participants:\n",
    "    for freq in range(1,7):\n",
    "        print(freq)\n",
    "        print(i)\n",
    "        df = pd.read_csv(data_dir)\n",
    "        df = df[df[\"Participant\"]==i]\n",
    "        df = df[df[\"Frequency\"]==freq]\n",
    "        df = df[df[\"RT\"]<5]\n",
    "\n",
    "        samp = Sample.from_pandas_dataframe(df, rt_column_name=\"RT\", correct_column_name=\"Correct\")\n",
    "        df_param = get_OUM_result_sub_2v2k2ter(samp)\n",
    "        df_param['Frequency'] = freq\n",
    "        df_param[\"Participant\"]=i\n",
    "\n",
    "        df_all = pd.concat((df_all,df_param))\n",
    "        print(df_param)\n",
    "df_OUM = df_all.copy()\n"
   ]
  },
  {
   "cell_type": "code",
   "execution_count": 6,
   "id": "3b05a53a",
   "metadata": {},
   "outputs": [],
   "source": [
    "df_OUM.to_csv(\"OUM2v2k2terresultWagenmakers2008.csv\")"
   ]
  },
  {
   "cell_type": "code",
   "execution_count": 7,
   "id": "87e8797e",
   "metadata": {},
   "outputs": [
    {
     "data": {
      "text/plain": [
       "-77.56114167294466"
      ]
     },
     "execution_count": 7,
     "metadata": {},
     "output_type": "execute_result"
    }
   ],
   "source": [
    "df_OUM[\"BIC\"].mean()"
   ]
  },
  {
   "cell_type": "code",
   "execution_count": null,
   "id": "db096ad0",
   "metadata": {},
   "outputs": [],
   "source": []
  }
 ],
 "metadata": {
  "kernelspec": {
   "display_name": "Python 3 (ipykernel)",
   "language": "python",
   "name": "python3"
  },
  "language_info": {
   "codemirror_mode": {
    "name": "ipython",
    "version": 3
   },
   "file_extension": ".py",
   "mimetype": "text/x-python",
   "name": "python",
   "nbconvert_exporter": "python",
   "pygments_lexer": "ipython3",
   "version": "3.11.4"
  }
 },
 "nbformat": 4,
 "nbformat_minor": 5
}
