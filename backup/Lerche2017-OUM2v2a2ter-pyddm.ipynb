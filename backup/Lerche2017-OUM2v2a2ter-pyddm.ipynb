{
 "cells": [
  {
   "cell_type": "code",
   "execution_count": 7,
   "id": "2cda49de",
   "metadata": {},
   "outputs": [],
   "source": [
    "%run SAT_help_functions.ipynb"
   ]
  },
  {
   "cell_type": "code",
   "execution_count": null,
   "id": "bc081cf9",
   "metadata": {},
   "outputs": [],
   "source": []
  },
  {
   "cell_type": "markdown",
   "id": "4bd26666",
   "metadata": {},
   "source": [
    "## OUM"
   ]
  },
  {
   "cell_type": "code",
   "execution_count": null,
   "id": "9ef6c434",
   "metadata": {},
   "outputs": [],
   "source": []
  },
  {
   "cell_type": "code",
   "execution_count": 8,
   "id": "e776257c",
   "metadata": {},
   "outputs": [],
   "source": [
    "data_dir = \"/Users/wangjiashun/Desktop/Reserach on SAT/datasets/Evans2021/Lerche2017/dataBySubject/sub\"\n",
    "sample_size = 38\n",
    "SAT_conds = [\"Speed\", \"Accuracy\"]"
   ]
  },
  {
   "cell_type": "code",
   "execution_count": 9,
   "id": "f434220f",
   "metadata": {},
   "outputs": [],
   "source": [
    "class BoundSpeedAcc(Bound):\n",
    "    name = \"BoundSpeedAcc\"\n",
    "    required_parameters = [\"Bspeed\", \"Bacc\"]\n",
    "    required_conditions = ['Cond']\n",
    "    def get_bound(self, conditions, *args, **kwargs):\n",
    "        assert self.Bacc > 0\n",
    "        assert self.Bspeed > 0\n",
    "        if conditions['Cond'] == 'Speed':\n",
    "            return self.Bspeed\n",
    "        elif conditions['Cond'] == 'Accuracy':\n",
    "            return self.Bacc\n",
    "        else:\n",
    "            print(\"Non-implemented SAT conditions\")"
   ]
  },
  {
   "cell_type": "code",
   "execution_count": 10,
   "id": "bbb278a6",
   "metadata": {},
   "outputs": [],
   "source": [
    "\n",
    "class DriftConstantSpeedAcc(Drift):\n",
    "    name = \"DriftBothSpeedAcc\"\n",
    "    required_parameters = [\"Vspeed\",\"Vacc\", \"K\"]\n",
    "    required_conditions = ['Cond']\n",
    "        \n",
    "    def get_drift(self, x, t, conditions, **kwargs):\n",
    "        if conditions['Cond'] == 'Speed':\n",
    "            return self.Vspeed + x*self.K \n",
    "        elif conditions['Cond'] == 'Accuracy':\n",
    "            return self.Vacc + x*self.K\n",
    "        else: \n",
    "            print(\"Non-implemented SAT conditions\")"
   ]
  },
  {
   "cell_type": "code",
   "execution_count": 11,
   "id": "6e5e0074",
   "metadata": {},
   "outputs": [],
   "source": [
    "\n",
    "class NondecisionSpeedAcc(OverlayNonDecision):\n",
    "    name = \"DriftSpeedAcc\"\n",
    "    required_parameters = [\"tSpeed\", 'tAcc']\n",
    "    required_conditions = ['Cond']\n",
    "        \n",
    "    def get_nondecision_time(self, conditions, **kwargs):\n",
    "        if conditions['Cond'] == 'Speed':\n",
    "            return self.tSpeed \n",
    "        elif conditions['Cond'] == 'Accuracy':\n",
    "            return self.tAcc\n",
    "        else: \n",
    "            print(\"Non-implemented SAT conditions\")"
   ]
  },
  {
   "cell_type": "code",
   "execution_count": null,
   "id": "b1e0fe9b",
   "metadata": {},
   "outputs": [],
   "source": []
  },
  {
   "cell_type": "code",
   "execution_count": null,
   "id": "81235d16",
   "metadata": {},
   "outputs": [],
   "source": []
  },
  {
   "cell_type": "code",
   "execution_count": null,
   "id": "8a3f5185",
   "metadata": {},
   "outputs": [],
   "source": []
  },
  {
   "cell_type": "code",
   "execution_count": 12,
   "id": "fdb13001",
   "metadata": {
    "scrolled": true
   },
   "outputs": [
    {
     "name": "stdout",
     "output_type": "stream",
     "text": [
      "0\n"
     ]
    },
    {
     "name": "stderr",
     "output_type": "stream",
     "text": [
      "Info: Params [0.27391888 0.11394306 0.21006913 1.45619772 7.85647047 0.67476902\n",
      " 0.95881339] gave 902.5375720597316\n"
     ]
    },
    {
     "name": "stdout",
     "output_type": "stream",
     "text": [
      "   Drift Rate Speed  Drift Rate Accuracy  Self-excitation  \\\n",
      "0          0.273919             0.113943         0.210069   \n",
      "\n",
      "   Boundary Separation Speed     Bacc  Non-decision Time Speed  \\\n",
      "0                   1.456198  7.85647                 0.674769   \n",
      "\n",
      "   Non-decision Time Accuracy  Participant         BIC  \n",
      "0                    0.958813            1  902.537572  \n",
      "1\n"
     ]
    },
    {
     "name": "stderr",
     "output_type": "stream",
     "text": [
      "Info: Params [0.3742908  0.22753091 0.2920783  4.27879178 7.87226697 0.72046426\n",
      " 0.47165603] gave 999.8516690966236\n"
     ]
    },
    {
     "name": "stdout",
     "output_type": "stream",
     "text": [
      "   Drift Rate Speed  Drift Rate Accuracy  Self-excitation  \\\n",
      "0          0.374291             0.227531         0.292078   \n",
      "\n",
      "   Boundary Separation Speed      Bacc  Non-decision Time Speed  \\\n",
      "0                   4.278792  7.872267                 0.720464   \n",
      "\n",
      "   Non-decision Time Accuracy  Participant         BIC  \n",
      "0                    0.471656            2  999.851669  \n",
      "2\n"
     ]
    },
    {
     "name": "stderr",
     "output_type": "stream",
     "text": [
      "Info: Params [ 0.          0.04167305 -2.819502    0.67814013  0.73846168  0.10305711\n",
      "  0.44732572] gave 473.35961148546966\n"
     ]
    },
    {
     "name": "stdout",
     "output_type": "stream",
     "text": [
      "   Drift Rate Speed  Drift Rate Accuracy  Self-excitation  \\\n",
      "0               0.0             0.041673        -2.819502   \n",
      "\n",
      "   Boundary Separation Speed      Bacc  Non-decision Time Speed  \\\n",
      "0                    0.67814  0.738462                 0.103057   \n",
      "\n",
      "   Non-decision Time Accuracy  Participant         BIC  \n",
      "0                    0.447326            3  473.359611  \n",
      "3\n"
     ]
    },
    {
     "name": "stderr",
     "output_type": "stream",
     "text": [
      "Info: Params [0.09452102 0.08725168 0.51799082 1.69538499 3.47613246 0.10966303\n",
      " 0.21963088] gave 834.404867343657\n"
     ]
    },
    {
     "name": "stdout",
     "output_type": "stream",
     "text": [
      "   Drift Rate Speed  Drift Rate Accuracy  Self-excitation  \\\n",
      "0          0.094521             0.087252         0.517991   \n",
      "\n",
      "   Boundary Separation Speed      Bacc  Non-decision Time Speed  \\\n",
      "0                   1.695385  3.476132                 0.109663   \n",
      "\n",
      "   Non-decision Time Accuracy  Participant         BIC  \n",
      "0                    0.219631            4  834.404867  \n",
      "4\n"
     ]
    },
    {
     "name": "stderr",
     "output_type": "stream",
     "text": [
      "Info: Params [0.1683071  0.13389227 0.0597377  2.78391285 3.5340133  0.70221966\n",
      " 0.8769196 ] gave 1164.632339124922\n"
     ]
    },
    {
     "name": "stdout",
     "output_type": "stream",
     "text": [
      "   Drift Rate Speed  Drift Rate Accuracy  Self-excitation  \\\n",
      "0          0.168307             0.133892         0.059738   \n",
      "\n",
      "   Boundary Separation Speed      Bacc  Non-decision Time Speed  \\\n",
      "0                   2.783913  3.534013                  0.70222   \n",
      "\n",
      "   Non-decision Time Accuracy  Participant          BIC  \n",
      "0                     0.87692            5  1164.632339  \n",
      "5\n"
     ]
    },
    {
     "name": "stderr",
     "output_type": "stream",
     "text": [
      "Info: Params [0.23780227 0.15237202 0.19697335 1.16755804 7.89030276 0.79317634\n",
      " 0.81844831] gave 832.7577403955667\n"
     ]
    },
    {
     "name": "stdout",
     "output_type": "stream",
     "text": [
      "   Drift Rate Speed  Drift Rate Accuracy  Self-excitation  \\\n",
      "0          0.237802             0.152372         0.196973   \n",
      "\n",
      "   Boundary Separation Speed      Bacc  Non-decision Time Speed  \\\n",
      "0                   1.167558  7.890303                 0.793176   \n",
      "\n",
      "   Non-decision Time Accuracy  Participant        BIC  \n",
      "0                    0.818448            6  832.75774  \n",
      "6\n"
     ]
    },
    {
     "name": "stderr",
     "output_type": "stream",
     "text": [
      "Info: Params [0.19966018 0.24776567 0.60160358 0.78647959 3.67105297 0.38343756\n",
      " 0.40921236] gave 581.3695970692792\n"
     ]
    },
    {
     "name": "stdout",
     "output_type": "stream",
     "text": [
      "   Drift Rate Speed  Drift Rate Accuracy  Self-excitation  \\\n",
      "0           0.19966             0.247766         0.601604   \n",
      "\n",
      "   Boundary Separation Speed      Bacc  Non-decision Time Speed  \\\n",
      "0                    0.78648  3.671053                 0.383438   \n",
      "\n",
      "   Non-decision Time Accuracy  Participant         BIC  \n",
      "0                    0.409212            7  581.369597  \n",
      "7\n"
     ]
    },
    {
     "name": "stderr",
     "output_type": "stream",
     "text": [
      "Info: Params [0.23997736 0.30827899 0.72627696 0.7420628  3.6730575  0.69669974\n",
      " 0.15667109] gave 545.3540241753424\n"
     ]
    },
    {
     "name": "stdout",
     "output_type": "stream",
     "text": [
      "   Drift Rate Speed  Drift Rate Accuracy  Self-excitation  \\\n",
      "0          0.239977             0.308279         0.726277   \n",
      "\n",
      "   Boundary Separation Speed      Bacc  Non-decision Time Speed  \\\n",
      "0                   0.742063  3.673057                   0.6967   \n",
      "\n",
      "   Non-decision Time Accuracy  Participant         BIC  \n",
      "0                    0.156671            8  545.354024  \n",
      "8\n"
     ]
    },
    {
     "name": "stderr",
     "output_type": "stream",
     "text": [
      "Info: Params [ 0.          0.0352288  -7.27109605  0.51264815  0.6487624   0.19693797\n",
      "  0.12412637] gave 602.754620146198\n"
     ]
    },
    {
     "name": "stdout",
     "output_type": "stream",
     "text": [
      "   Drift Rate Speed  Drift Rate Accuracy  Self-excitation  \\\n",
      "0               0.0             0.035229        -7.271096   \n",
      "\n",
      "   Boundary Separation Speed      Bacc  Non-decision Time Speed  \\\n",
      "0                   0.512648  0.648762                 0.196938   \n",
      "\n",
      "   Non-decision Time Accuracy  Participant        BIC  \n",
      "0                    0.124126            9  602.75462  \n",
      "9\n"
     ]
    },
    {
     "name": "stderr",
     "output_type": "stream",
     "text": [
      "Info: Params [ 0.00175932  0.12366923 -0.37907529  1.38130881  1.5712505   0.1114393\n",
      "  0.10844967] gave 930.5135869744014\n"
     ]
    },
    {
     "name": "stdout",
     "output_type": "stream",
     "text": [
      "   Drift Rate Speed  Drift Rate Accuracy  Self-excitation  \\\n",
      "0          0.001759             0.123669        -0.379075   \n",
      "\n",
      "   Boundary Separation Speed     Bacc  Non-decision Time Speed  \\\n",
      "0                   1.381309  1.57125                 0.111439   \n",
      "\n",
      "   Non-decision Time Accuracy  Participant         BIC  \n",
      "0                     0.10845           10  930.513587  \n",
      "10\n"
     ]
    },
    {
     "name": "stderr",
     "output_type": "stream",
     "text": [
      "Info: Params [0.68832148 0.21712678 0.2193381  1.17815475 7.3234592  0.96938917\n",
      " 0.19555513] gave 774.935469983067\n"
     ]
    },
    {
     "name": "stdout",
     "output_type": "stream",
     "text": [
      "   Drift Rate Speed  Drift Rate Accuracy  Self-excitation  \\\n",
      "0          0.688321             0.217127         0.219338   \n",
      "\n",
      "   Boundary Separation Speed      Bacc  Non-decision Time Speed  \\\n",
      "0                   1.178155  7.323459                 0.969389   \n",
      "\n",
      "   Non-decision Time Accuracy  Participant        BIC  \n",
      "0                    0.195555           11  774.93547  \n",
      "11\n"
     ]
    },
    {
     "name": "stderr",
     "output_type": "stream",
     "text": [
      "Info: Params [ 0.          0.12959408 -1.19091894  0.66490115  1.74061481  0.39704069\n",
      "  0.86444386] gave 808.197024746565\n"
     ]
    },
    {
     "name": "stdout",
     "output_type": "stream",
     "text": [
      "   Drift Rate Speed  Drift Rate Accuracy  Self-excitation  \\\n",
      "0               0.0             0.129594        -1.190919   \n",
      "\n",
      "   Boundary Separation Speed      Bacc  Non-decision Time Speed  \\\n",
      "0                   0.664901  1.740615                 0.397041   \n",
      "\n",
      "   Non-decision Time Accuracy  Participant         BIC  \n",
      "0                    0.864444           12  808.197025  \n",
      "12\n"
     ]
    },
    {
     "name": "stderr",
     "output_type": "stream",
     "text": [
      "Info: Params [0.31261869 0.30068589 0.60944209 1.20251697 4.06647504 0.7557792\n",
      " 0.38617963] gave 671.1934195054945\n"
     ]
    },
    {
     "name": "stdout",
     "output_type": "stream",
     "text": [
      "   Drift Rate Speed  Drift Rate Accuracy  Self-excitation  \\\n",
      "0          0.312619             0.300686         0.609442   \n",
      "\n",
      "   Boundary Separation Speed      Bacc  Non-decision Time Speed  \\\n",
      "0                   1.202517  4.066475                 0.755779   \n",
      "\n",
      "   Non-decision Time Accuracy  Participant        BIC  \n",
      "0                     0.38618           13  671.19342  \n",
      "13\n"
     ]
    },
    {
     "name": "stderr",
     "output_type": "stream",
     "text": [
      "Info: Params [0.21235209 0.20937017 0.12067601 1.65952125 4.56410792 0.78899513\n",
      " 0.67492382] gave 957.549007097133\n"
     ]
    },
    {
     "name": "stdout",
     "output_type": "stream",
     "text": [
      "   Drift Rate Speed  Drift Rate Accuracy  Self-excitation  \\\n",
      "0          0.212352              0.20937         0.120676   \n",
      "\n",
      "   Boundary Separation Speed      Bacc  Non-decision Time Speed  \\\n",
      "0                   1.659521  4.564108                 0.788995   \n",
      "\n",
      "   Non-decision Time Accuracy  Participant         BIC  \n",
      "0                    0.674924           14  957.549007  \n",
      "14\n"
     ]
    },
    {
     "name": "stderr",
     "output_type": "stream",
     "text": [
      "Info: Params [0.10132907 0.18424297 0.13492391 1.23123849 3.58129386 0.11410157\n",
      " 0.59473381] gave 900.8431549765918\n"
     ]
    },
    {
     "name": "stdout",
     "output_type": "stream",
     "text": [
      "   Drift Rate Speed  Drift Rate Accuracy  Self-excitation  \\\n",
      "0          0.101329             0.184243         0.134924   \n",
      "\n",
      "   Boundary Separation Speed      Bacc  Non-decision Time Speed  \\\n",
      "0                   1.231238  3.581294                 0.114102   \n",
      "\n",
      "   Non-decision Time Accuracy  Participant         BIC  \n",
      "0                    0.594734           15  900.843155  \n",
      "15\n"
     ]
    },
    {
     "name": "stderr",
     "output_type": "stream",
     "text": [
      "Info: Params [ 0.02852795  0.11318768 -0.3160691   0.94892088  2.49278547  0.75890247\n",
      "  0.97480264] gave 933.0344018726528\n"
     ]
    },
    {
     "name": "stdout",
     "output_type": "stream",
     "text": [
      "   Drift Rate Speed  Drift Rate Accuracy  Self-excitation  \\\n",
      "0          0.028528             0.113188        -0.316069   \n",
      "\n",
      "   Boundary Separation Speed      Bacc  Non-decision Time Speed  \\\n",
      "0                   0.948921  2.492785                 0.758902   \n",
      "\n",
      "   Non-decision Time Accuracy  Participant         BIC  \n",
      "0                    0.974803           16  933.034402  \n",
      "16\n"
     ]
    },
    {
     "name": "stderr",
     "output_type": "stream",
     "text": [
      "Info: Params [0.2662624  0.25749141 0.83398557 2.11082434 5.52184208 0.11707913\n",
      " 0.24241604] gave 724.6569996646641\n"
     ]
    },
    {
     "name": "stdout",
     "output_type": "stream",
     "text": [
      "   Drift Rate Speed  Drift Rate Accuracy  Self-excitation  \\\n",
      "0          0.266262             0.257491         0.833986   \n",
      "\n",
      "   Boundary Separation Speed      Bacc  Non-decision Time Speed  \\\n",
      "0                   2.110824  5.521842                 0.117079   \n",
      "\n",
      "   Non-decision Time Accuracy  Participant      BIC  \n",
      "0                    0.242416           17  724.657  \n",
      "17\n"
     ]
    },
    {
     "name": "stderr",
     "output_type": "stream",
     "text": [
      "Info: Params [0.27335695 0.14252082 0.03868827 0.92904063 1.91002975 0.24234815\n",
      " 0.10920615] gave 700.7643063462501\n"
     ]
    },
    {
     "name": "stdout",
     "output_type": "stream",
     "text": [
      "   Drift Rate Speed  Drift Rate Accuracy  Self-excitation  \\\n",
      "0          0.273357             0.142521         0.038688   \n",
      "\n",
      "   Boundary Separation Speed     Bacc  Non-decision Time Speed  \\\n",
      "0                   0.929041  1.91003                 0.242348   \n",
      "\n",
      "   Non-decision Time Accuracy  Participant         BIC  \n",
      "0                    0.109206           18  700.764306  \n",
      "18\n"
     ]
    },
    {
     "name": "stderr",
     "output_type": "stream",
     "text": [
      "Info: Params [0.21681724 0.12646691 0.42027637 1.65473438 3.09856094 0.90478385\n",
      " 0.5099174 ] gave 826.347659998013\n"
     ]
    },
    {
     "name": "stdout",
     "output_type": "stream",
     "text": [
      "   Drift Rate Speed  Drift Rate Accuracy  Self-excitation  \\\n",
      "0          0.216817             0.126467         0.420276   \n",
      "\n",
      "   Boundary Separation Speed      Bacc  Non-decision Time Speed  \\\n",
      "0                   1.654734  3.098561                 0.904784   \n",
      "\n",
      "   Non-decision Time Accuracy  Participant        BIC  \n",
      "0                    0.509917           19  826.34766  \n",
      "19\n"
     ]
    },
    {
     "name": "stderr",
     "output_type": "stream",
     "text": [
      "Info: Params [0.25406905 0.24019124 0.10736888 1.30764683 7.9443938  0.66207836\n",
      " 0.90400105] gave 896.4964760855178\n"
     ]
    },
    {
     "name": "stdout",
     "output_type": "stream",
     "text": [
      "   Drift Rate Speed  Drift Rate Accuracy  Self-excitation  \\\n",
      "0          0.254069             0.240191         0.107369   \n",
      "\n",
      "   Boundary Separation Speed      Bacc  Non-decision Time Speed  \\\n",
      "0                   1.307647  7.944394                 0.662078   \n",
      "\n",
      "   Non-decision Time Accuracy  Participant         BIC  \n",
      "0                    0.904001           20  896.496476  \n",
      "20\n"
     ]
    },
    {
     "name": "stderr",
     "output_type": "stream",
     "text": [
      "Info: Params [0.23645662 0.16013688 0.97956433 3.11687112 2.59727816 0.12720703\n",
      " 0.60847275] gave 694.1275546629396\n"
     ]
    },
    {
     "name": "stdout",
     "output_type": "stream",
     "text": [
      "   Drift Rate Speed  Drift Rate Accuracy  Self-excitation  \\\n",
      "0          0.236457             0.160137         0.979564   \n",
      "\n",
      "   Boundary Separation Speed      Bacc  Non-decision Time Speed  \\\n",
      "0                   3.116871  2.597278                 0.127207   \n",
      "\n",
      "   Non-decision Time Accuracy  Participant         BIC  \n",
      "0                    0.608473           21  694.127555  \n",
      "21\n"
     ]
    },
    {
     "name": "stderr",
     "output_type": "stream",
     "text": [
      "Info: Params [0.         0.03707286 1.81227993 1.97661717 2.85955116 0.12382949\n",
      " 0.17040055] gave 497.0907505623608\n"
     ]
    },
    {
     "name": "stdout",
     "output_type": "stream",
     "text": [
      "   Drift Rate Speed  Drift Rate Accuracy  Self-excitation  \\\n",
      "0               0.0             0.037073          1.81228   \n",
      "\n",
      "   Boundary Separation Speed      Bacc  Non-decision Time Speed  \\\n",
      "0                   1.976617  2.859551                 0.123829   \n",
      "\n",
      "   Non-decision Time Accuracy  Participant         BIC  \n",
      "0                    0.170401           22  497.090751  \n",
      "22\n"
     ]
    },
    {
     "name": "stderr",
     "output_type": "stream",
     "text": [
      "Info: Params [0.24168521 0.17582557 0.30179536 0.81024004 3.60903797 0.30758445\n",
      " 0.45720505] gave 683.4492055880863\n"
     ]
    },
    {
     "name": "stdout",
     "output_type": "stream",
     "text": [
      "   Drift Rate Speed  Drift Rate Accuracy  Self-excitation  \\\n",
      "0          0.241685             0.175826         0.301795   \n",
      "\n",
      "   Boundary Separation Speed      Bacc  Non-decision Time Speed  \\\n",
      "0                    0.81024  3.609038                 0.307584   \n",
      "\n",
      "   Non-decision Time Accuracy  Participant         BIC  \n",
      "0                    0.457205           23  683.449206  \n",
      "23\n"
     ]
    },
    {
     "name": "stderr",
     "output_type": "stream",
     "text": [
      "Info: Params [0.20380644 0.17922973 0.25387498 4.29602714 6.66692455 0.82023395\n",
      " 0.13295517] gave 1061.3406897848784\n"
     ]
    },
    {
     "name": "stdout",
     "output_type": "stream",
     "text": [
      "   Drift Rate Speed  Drift Rate Accuracy  Self-excitation  \\\n",
      "0          0.203806              0.17923         0.253875   \n",
      "\n",
      "   Boundary Separation Speed      Bacc  Non-decision Time Speed  \\\n",
      "0                   4.296027  6.666925                 0.820234   \n",
      "\n",
      "   Non-decision Time Accuracy  Participant         BIC  \n",
      "0                    0.132955           24  1061.34069  \n",
      "24\n"
     ]
    },
    {
     "name": "stderr",
     "output_type": "stream",
     "text": [
      "Info: Params [0.38946655 0.04136695 2.1479527  0.72312349 4.08266681 0.38188685\n",
      " 0.11852049] gave 323.5368318290927\n"
     ]
    },
    {
     "name": "stdout",
     "output_type": "stream",
     "text": [
      "   Drift Rate Speed  Drift Rate Accuracy  Self-excitation  \\\n",
      "0          0.389467             0.041367         2.147953   \n",
      "\n",
      "   Boundary Separation Speed      Bacc  Non-decision Time Speed  \\\n",
      "0                   0.723123  4.082667                 0.381887   \n",
      "\n",
      "   Non-decision Time Accuracy  Participant         BIC  \n",
      "0                     0.11852           25  323.536832  \n",
      "25\n"
     ]
    },
    {
     "name": "stderr",
     "output_type": "stream",
     "text": [
      "Info: Params [ 0.38766456  0.30267686 -9.0854905   0.50454467  0.7399793   0.48597214\n",
      "  0.10729667] gave 829.270518150417\n"
     ]
    },
    {
     "name": "stdout",
     "output_type": "stream",
     "text": [
      "   Drift Rate Speed  Drift Rate Accuracy  Self-excitation  \\\n",
      "0          0.387665             0.302677        -9.085491   \n",
      "\n",
      "   Boundary Separation Speed      Bacc  Non-decision Time Speed  \\\n",
      "0                   0.504545  0.739979                 0.485972   \n",
      "\n",
      "   Non-decision Time Accuracy  Participant         BIC  \n",
      "0                    0.107297           26  829.270518  \n",
      "26\n"
     ]
    },
    {
     "name": "stderr",
     "output_type": "stream",
     "text": [
      "Info: Params [0.23591261 0.17398778 0.22498162 1.44949064 4.31319585 0.49660455\n",
      " 0.73566211] gave 889.3411722723257\n"
     ]
    },
    {
     "name": "stdout",
     "output_type": "stream",
     "text": [
      "   Drift Rate Speed  Drift Rate Accuracy  Self-excitation  \\\n",
      "0          0.235913             0.173988         0.224982   \n",
      "\n",
      "   Boundary Separation Speed      Bacc  Non-decision Time Speed  \\\n",
      "0                   1.449491  4.313196                 0.496605   \n",
      "\n",
      "   Non-decision Time Accuracy  Participant         BIC  \n",
      "0                    0.735662           27  889.341172  \n",
      "27\n"
     ]
    },
    {
     "name": "stderr",
     "output_type": "stream",
     "text": [
      "Info: Params [ 0.21804375  0.31897463 -2.67638002  0.90119579  1.21578374  0.10699418\n",
      "  0.9524704 ] gave 1041.2945559599755\n"
     ]
    },
    {
     "name": "stdout",
     "output_type": "stream",
     "text": [
      "   Drift Rate Speed  Drift Rate Accuracy  Self-excitation  \\\n",
      "0          0.218044             0.318975         -2.67638   \n",
      "\n",
      "   Boundary Separation Speed      Bacc  Non-decision Time Speed  \\\n",
      "0                   0.901196  1.215784                 0.106994   \n",
      "\n",
      "   Non-decision Time Accuracy  Participant          BIC  \n",
      "0                     0.95247           28  1041.294556  \n",
      "28\n"
     ]
    },
    {
     "name": "stderr",
     "output_type": "stream",
     "text": [
      "Info: Params [ 0.120225    0.10653981 -0.07628518  1.92763377  3.23620504  0.80402938\n",
      "  0.77243741] gave 1134.4651645327804\n"
     ]
    },
    {
     "name": "stdout",
     "output_type": "stream",
     "text": [
      "   Drift Rate Speed  Drift Rate Accuracy  Self-excitation  \\\n",
      "0          0.120225              0.10654        -0.076285   \n",
      "\n",
      "   Boundary Separation Speed      Bacc  Non-decision Time Speed  \\\n",
      "0                   1.927634  3.236205                 0.804029   \n",
      "\n",
      "   Non-decision Time Accuracy  Participant          BIC  \n",
      "0                    0.772437           29  1134.465165  \n",
      "29\n"
     ]
    },
    {
     "name": "stderr",
     "output_type": "stream",
     "text": [
      "Info: Params [0.1605769  0.22125312 0.44356599 7.79372536 7.22690248 0.9733906\n",
      " 0.85068892] gave 896.4697215299669\n"
     ]
    },
    {
     "name": "stdout",
     "output_type": "stream",
     "text": [
      "   Drift Rate Speed  Drift Rate Accuracy  Self-excitation  \\\n",
      "0          0.160577             0.221253         0.443566   \n",
      "\n",
      "   Boundary Separation Speed      Bacc  Non-decision Time Speed  \\\n",
      "0                   7.793725  7.226902                 0.973391   \n",
      "\n",
      "   Non-decision Time Accuracy  Participant         BIC  \n",
      "0                    0.850689           30  896.469722  \n",
      "30\n"
     ]
    },
    {
     "name": "stderr",
     "output_type": "stream",
     "text": [
      "Info: Params [0.1267381  0.33269312 0.51236186 0.76818568 4.47725021 0.11550037\n",
      " 0.22737243] gave 602.0077724259771\n"
     ]
    },
    {
     "name": "stdout",
     "output_type": "stream",
     "text": [
      "   Drift Rate Speed  Drift Rate Accuracy  Self-excitation  \\\n",
      "0          0.126738             0.332693         0.512362   \n",
      "\n",
      "   Boundary Separation Speed     Bacc  Non-decision Time Speed  \\\n",
      "0                   0.768186  4.47725                   0.1155   \n",
      "\n",
      "   Non-decision Time Accuracy  Participant         BIC  \n",
      "0                    0.227372           31  602.007772  \n",
      "31\n"
     ]
    },
    {
     "name": "stderr",
     "output_type": "stream",
     "text": [
      "Info: Params [ 0.22065252  0.21516362 -1.78790066  0.9578524   1.37467227  0.10025113\n",
      "  0.26378256] gave 1005.4893470687872\n"
     ]
    },
    {
     "name": "stdout",
     "output_type": "stream",
     "text": [
      "   Drift Rate Speed  Drift Rate Accuracy  Self-excitation  \\\n",
      "0          0.220653             0.215164        -1.787901   \n",
      "\n",
      "   Boundary Separation Speed      Bacc  Non-decision Time Speed  \\\n",
      "0                   0.957852  1.374672                 0.100251   \n",
      "\n",
      "   Non-decision Time Accuracy  Participant          BIC  \n",
      "0                    0.263783           32  1005.489347  \n",
      "32\n"
     ]
    },
    {
     "name": "stderr",
     "output_type": "stream",
     "text": [
      "Info: Params [0.         0.44882852 0.21086002 0.61105435 2.05989304 0.10484543\n",
      " 0.37208348] gave 517.1957336047312\n"
     ]
    },
    {
     "name": "stdout",
     "output_type": "stream",
     "text": [
      "   Drift Rate Speed  Drift Rate Accuracy  Self-excitation  \\\n",
      "0               0.0             0.448829          0.21086   \n",
      "\n",
      "   Boundary Separation Speed      Bacc  Non-decision Time Speed  \\\n",
      "0                   0.611054  2.059893                 0.104845   \n",
      "\n",
      "   Non-decision Time Accuracy  Participant         BIC  \n",
      "0                    0.372083           33  517.195734  \n",
      "33\n"
     ]
    },
    {
     "name": "stderr",
     "output_type": "stream",
     "text": [
      "Info: Params [0.04990631 0.12409368 0.7500455  1.36913086 3.04899123 0.13258506\n",
      " 0.93328074] gave 683.5311230487088\n"
     ]
    },
    {
     "name": "stdout",
     "output_type": "stream",
     "text": [
      "   Drift Rate Speed  Drift Rate Accuracy  Self-excitation  \\\n",
      "0          0.049906             0.124094         0.750046   \n",
      "\n",
      "   Boundary Separation Speed      Bacc  Non-decision Time Speed  \\\n",
      "0                   1.369131  3.048991                 0.132585   \n",
      "\n",
      "   Non-decision Time Accuracy  Participant         BIC  \n",
      "0                    0.933281           34  683.531123  \n",
      "34\n"
     ]
    },
    {
     "name": "stderr",
     "output_type": "stream",
     "text": [
      "Info: Params [0.26565509 0.31465151 0.19390985 1.55058577 7.0041133  0.82131971\n",
      " 0.17264116] gave 901.2184341989732\n"
     ]
    },
    {
     "name": "stdout",
     "output_type": "stream",
     "text": [
      "   Drift Rate Speed  Drift Rate Accuracy  Self-excitation  \\\n",
      "0          0.265655             0.314652          0.19391   \n",
      "\n",
      "   Boundary Separation Speed      Bacc  Non-decision Time Speed  \\\n",
      "0                   1.550586  7.004113                  0.82132   \n",
      "\n",
      "   Non-decision Time Accuracy  Participant         BIC  \n",
      "0                    0.172641           35  901.218434  \n",
      "35\n"
     ]
    },
    {
     "name": "stderr",
     "output_type": "stream",
     "text": [
      "Info: Params [0.37757817 0.22741539 0.03673252 2.59854667 3.56634479 0.25430451\n",
      " 0.4428139 ] gave 1071.6515783392097\n"
     ]
    },
    {
     "name": "stdout",
     "output_type": "stream",
     "text": [
      "   Drift Rate Speed  Drift Rate Accuracy  Self-excitation  \\\n",
      "0          0.377578             0.227415         0.036733   \n",
      "\n",
      "   Boundary Separation Speed      Bacc  Non-decision Time Speed  \\\n",
      "0                   2.598547  3.566345                 0.254305   \n",
      "\n",
      "   Non-decision Time Accuracy  Participant          BIC  \n",
      "0                    0.442814           36  1071.651578  \n",
      "36\n"
     ]
    },
    {
     "name": "stderr",
     "output_type": "stream",
     "text": [
      "Info: Params [0.12590753 0.1313068  0.91437556 4.57914856 3.90777617 0.38900532\n",
      " 0.94504588] gave 716.6296508251547\n"
     ]
    },
    {
     "name": "stdout",
     "output_type": "stream",
     "text": [
      "   Drift Rate Speed  Drift Rate Accuracy  Self-excitation  \\\n",
      "0          0.125908             0.131307         0.914376   \n",
      "\n",
      "   Boundary Separation Speed      Bacc  Non-decision Time Speed  \\\n",
      "0                   4.579149  3.907776                 0.389005   \n",
      "\n",
      "   Non-decision Time Accuracy  Participant         BIC  \n",
      "0                    0.945046           37  716.629651  \n",
      "37\n"
     ]
    },
    {
     "name": "stderr",
     "output_type": "stream",
     "text": [
      "Info: Params [ 0.28732028  0.2610637  -5.16636749  0.75896861  0.96612397  0.10408606\n",
      "  0.84782328] gave 1020.0253101295493\n"
     ]
    },
    {
     "name": "stdout",
     "output_type": "stream",
     "text": [
      "   Drift Rate Speed  Drift Rate Accuracy  Self-excitation  \\\n",
      "0           0.28732             0.261064        -5.166367   \n",
      "\n",
      "   Boundary Separation Speed      Bacc  Non-decision Time Speed  \\\n",
      "0                   0.758969  0.966124                 0.104086   \n",
      "\n",
      "   Non-decision Time Accuracy  Participant         BIC  \n",
      "0                    0.847823           38  1020.02531  \n"
     ]
    }
   ],
   "source": [
    "df_all = pd.DataFrame()\n",
    "for i in range(sample_size):\n",
    "    print(i)\n",
    "    path = os.path.join(data_dir+str(i+1)+\".csv\")\n",
    "    df = pd.read_csv(path, sep = \",\")\n",
    "    #df = df[df[\"cond\"]==SAT] # A condition\n",
    "    df = df[df[\"Time\"]<30]\n",
    "\n",
    "    samp = Sample.from_pandas_dataframe(df, rt_column_name=\"Time\", correct_column_name=\"Correct\")\n",
    "    df = get_OUM_result_sub_2v2a2ter(samp, T_dur = 30)\n",
    "    df_all = pd.concat((df_all,df))\n",
    "    print(df)\n",
    "df_OUM = df_all.copy()\n"
   ]
  },
  {
   "cell_type": "code",
   "execution_count": 13,
   "id": "3b05a53a",
   "metadata": {},
   "outputs": [],
   "source": [
    "df_OUM.to_csv(\"OUM2v2a2terresultLerche2017.csv\")"
   ]
  },
  {
   "cell_type": "code",
   "execution_count": 14,
   "id": "87e8797e",
   "metadata": {},
   "outputs": [
    {
     "data": {
      "text/plain": [
       "806.0444384910804"
      ]
     },
     "execution_count": 14,
     "metadata": {},
     "output_type": "execute_result"
    }
   ],
   "source": [
    "df_OUM[\"BIC\"].mean()"
   ]
  },
  {
   "cell_type": "code",
   "execution_count": null,
   "id": "66bb2313",
   "metadata": {},
   "outputs": [],
   "source": []
  }
 ],
 "metadata": {
  "kernelspec": {
   "display_name": "Python 3 (ipykernel)",
   "language": "python",
   "name": "python3"
  },
  "language_info": {
   "codemirror_mode": {
    "name": "ipython",
    "version": 3
   },
   "file_extension": ".py",
   "mimetype": "text/x-python",
   "name": "python",
   "nbconvert_exporter": "python",
   "pygments_lexer": "ipython3",
   "version": "3.7.15"
  }
 },
 "nbformat": 4,
 "nbformat_minor": 5
}
