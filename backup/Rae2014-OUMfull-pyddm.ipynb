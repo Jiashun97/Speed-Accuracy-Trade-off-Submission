{
 "cells": [
  {
   "cell_type": "code",
   "execution_count": 1,
   "id": "2cda49de",
   "metadata": {},
   "outputs": [],
   "source": [
    "%run SAT_help_functions.ipynb"
   ]
  },
  {
   "cell_type": "code",
   "execution_count": null,
   "id": "bc081cf9",
   "metadata": {},
   "outputs": [],
   "source": []
  },
  {
   "cell_type": "markdown",
   "id": "4bd26666",
   "metadata": {},
   "source": [
    "## OUM"
   ]
  },
  {
   "cell_type": "code",
   "execution_count": null,
   "id": "9ef6c434",
   "metadata": {},
   "outputs": [],
   "source": []
  },
  {
   "cell_type": "code",
   "execution_count": 2,
   "id": "e776257c",
   "metadata": {},
   "outputs": [],
   "source": [
    "data_dir = \"/Users/wangjiashun/Desktop/Reserach on SAT/datasets/Evans2021/Rae2014/dataBySubject/sub\"\n",
    "sample_size = 34\n",
    "SAT_conds = [\"Speed\", \"Accuracy\"]"
   ]
  },
  {
   "cell_type": "code",
   "execution_count": 3,
   "id": "2d56afe5",
   "metadata": {},
   "outputs": [],
   "source": [
    "\n",
    "class DriftBothSpeedAcc(Drift):\n",
    "    name = \"DriftBothSpeedAcc\"\n",
    "    required_parameters = [\"Vspeed\",\"Vacc\", \"Kspeed\", \"Kacc\"]\n",
    "    required_conditions = ['Cond']\n",
    "        \n",
    "    def get_drift(self, x, t, conditions, **kwargs):\n",
    "        if conditions['Cond'] == 'Speed':\n",
    "            return self.Vspeed + x*self.Kspeed \n",
    "        elif conditions['Cond'] == 'Accuracy':\n",
    "            return self.Vacc + x*self.Kacc\n",
    "        else: \n",
    "            print(\"Non-implemented SAT conditions\")"
   ]
  },
  {
   "cell_type": "code",
   "execution_count": 4,
   "id": "252ac5c1",
   "metadata": {},
   "outputs": [],
   "source": [
    "class BoundSpeedAcc(Bound):\n",
    "    name = \"BoundSpeedAcc\"\n",
    "    required_parameters = [\"Bspeed\", \"Bacc\"]\n",
    "    required_conditions = ['Cond']\n",
    "    def get_bound(self, conditions, *args, **kwargs):\n",
    "        assert self.Bacc > 0\n",
    "        assert self.Bspeed > 0\n",
    "        if conditions['Cond'] == 'Speed':\n",
    "            return self.Bspeed\n",
    "        elif conditions['Cond'] == 'Accuracy':\n",
    "            return self.Bacc\n",
    "        else:\n",
    "            print(\"Non-implemented SAT conditions\")"
   ]
  },
  {
   "cell_type": "code",
   "execution_count": 5,
   "id": "f434220f",
   "metadata": {},
   "outputs": [],
   "source": [
    "\n",
    "class NondecisionSpeedAcc(OverlayNonDecision):\n",
    "    name = \"DriftSpeedAcc\"\n",
    "    required_parameters = [\"tSpeed\", 'tAcc']\n",
    "    required_conditions = ['Cond']\n",
    "        \n",
    "    def get_nondecision_time(self, conditions, **kwargs):\n",
    "        if conditions['Cond'] == 'Speed':\n",
    "            return self.tSpeed \n",
    "        elif conditions['Cond'] == 'Accuracy':\n",
    "            return self.tAcc\n",
    "        else: \n",
    "            print(\"Non-implemented SAT conditions\")"
   ]
  },
  {
   "cell_type": "code",
   "execution_count": null,
   "id": "bbb278a6",
   "metadata": {},
   "outputs": [],
   "source": [
    "\n"
   ]
  },
  {
   "cell_type": "code",
   "execution_count": null,
   "id": "6e5e0074",
   "metadata": {},
   "outputs": [],
   "source": []
  },
  {
   "cell_type": "code",
   "execution_count": null,
   "id": "b1e0fe9b",
   "metadata": {},
   "outputs": [],
   "source": []
  },
  {
   "cell_type": "code",
   "execution_count": 6,
   "id": "fdb13001",
   "metadata": {
    "scrolled": true
   },
   "outputs": [
    {
     "name": "stderr",
     "output_type": "stream",
     "text": [
      "Warning: This function (from_pandas_dataframe()) is deprecated and will be removed in a future version of PyDDM.  Please use the choice_column_name argument instead.\n"
     ]
    },
    {
     "name": "stdout",
     "output_type": "stream",
     "text": [
      "0\n"
     ]
    },
    {
     "name": "stderr",
     "output_type": "stream",
     "text": [
      "Info: Params [1.39004278 2.05166312 9.66048649 7.55159502 5.1882368  2.98339862\n",
      " 0.10154056 0.21778144] gave -1151.2059857787679\n",
      "Warning: This function (from_pandas_dataframe()) is deprecated and will be removed in a future version of PyDDM.  Please use the choice_column_name argument instead.\n"
     ]
    },
    {
     "name": "stdout",
     "output_type": "stream",
     "text": [
      "   Drift Rate Speed  Drift Rate Accuracy  Self-excitation Speed  \\\n",
      "0          1.390043             2.051663               9.660486   \n",
      "\n",
      "   Self-excitation Accuracy  Boundary Separation Speed  \\\n",
      "0                  7.551595                   5.188237   \n",
      "\n",
      "   Boundary Separation Accuracy  Non-decision Time Speed  \\\n",
      "0                      2.983399                 0.101541   \n",
      "\n",
      "   Non-decision Time Accuracy          BIC  \n",
      "0                    0.217781 -1151.205986  \n",
      "1\n"
     ]
    },
    {
     "name": "stderr",
     "output_type": "stream",
     "text": [
      "Info: Params [ 1.06150208  1.98115704 10.         10.          1.3619866   2.19123883\n",
      "  0.21650881  0.24113086] gave -2316.066148886912\n",
      "Warning: This function (from_pandas_dataframe()) is deprecated and will be removed in a future version of PyDDM.  Please use the choice_column_name argument instead.\n"
     ]
    },
    {
     "name": "stdout",
     "output_type": "stream",
     "text": [
      "   Drift Rate Speed  Drift Rate Accuracy  Self-excitation Speed  \\\n",
      "0          1.061502             1.981157                   10.0   \n",
      "\n",
      "   Self-excitation Accuracy  Boundary Separation Speed  \\\n",
      "0                      10.0                   1.361987   \n",
      "\n",
      "   Boundary Separation Accuracy  Non-decision Time Speed  \\\n",
      "0                      2.191239                 0.216509   \n",
      "\n",
      "   Non-decision Time Accuracy          BIC  \n",
      "0                    0.241131 -2316.066149  \n",
      "2\n"
     ]
    },
    {
     "name": "stderr",
     "output_type": "stream",
     "text": [
      "Info: Params [0.19195775 0.28917869 8.41403825 8.85046956 1.57992214 2.62826944\n",
      " 0.1053585  0.10743141] gave -451.4760516589086\n",
      "Warning: This function (from_pandas_dataframe()) is deprecated and will be removed in a future version of PyDDM.  Please use the choice_column_name argument instead.\n"
     ]
    },
    {
     "name": "stdout",
     "output_type": "stream",
     "text": [
      "   Drift Rate Speed  Drift Rate Accuracy  Self-excitation Speed  \\\n",
      "0          0.191958             0.289179               8.414038   \n",
      "\n",
      "   Self-excitation Accuracy  Boundary Separation Speed  \\\n",
      "0                   8.85047                   1.579922   \n",
      "\n",
      "   Boundary Separation Accuracy  Non-decision Time Speed  \\\n",
      "0                      2.628269                 0.105359   \n",
      "\n",
      "   Non-decision Time Accuracy         BIC  \n",
      "0                    0.107431 -451.476052  \n",
      "3\n"
     ]
    },
    {
     "name": "stderr",
     "output_type": "stream",
     "text": [
      "Info: Params [ 2.48575677  2.70143824 10.         10.          0.78731055  1.33531251\n",
      "  0.28690773  0.26293261] gave -3819.6818215723383\n",
      "Warning: This function (from_pandas_dataframe()) is deprecated and will be removed in a future version of PyDDM.  Please use the choice_column_name argument instead.\n"
     ]
    },
    {
     "name": "stdout",
     "output_type": "stream",
     "text": [
      "   Drift Rate Speed  Drift Rate Accuracy  Self-excitation Speed  \\\n",
      "0          2.485757             2.701438                   10.0   \n",
      "\n",
      "   Self-excitation Accuracy  Boundary Separation Speed  \\\n",
      "0                      10.0                   0.787311   \n",
      "\n",
      "   Boundary Separation Accuracy  Non-decision Time Speed  \\\n",
      "0                      1.335313                 0.286908   \n",
      "\n",
      "   Non-decision Time Accuracy          BIC  \n",
      "0                    0.262933 -3819.681822  \n",
      "4\n"
     ]
    },
    {
     "name": "stderr",
     "output_type": "stream",
     "text": [
      "Info: Params [ 0.29418225  0.54964963 10.          9.91460459  1.96704701  3.33197368\n",
      "  0.10643569  0.10752733] gave -283.20583991784684\n",
      "Warning: This function (from_pandas_dataframe()) is deprecated and will be removed in a future version of PyDDM.  Please use the choice_column_name argument instead.\n"
     ]
    },
    {
     "name": "stdout",
     "output_type": "stream",
     "text": [
      "   Drift Rate Speed  Drift Rate Accuracy  Self-excitation Speed  \\\n",
      "0          0.294182              0.54965                   10.0   \n",
      "\n",
      "   Self-excitation Accuracy  Boundary Separation Speed  \\\n",
      "0                  9.914605                   1.967047   \n",
      "\n",
      "   Boundary Separation Accuracy  Non-decision Time Speed  \\\n",
      "0                      3.331974                 0.106436   \n",
      "\n",
      "   Non-decision Time Accuracy        BIC  \n",
      "0                    0.107527 -283.20584  \n",
      "5\n"
     ]
    },
    {
     "name": "stderr",
     "output_type": "stream",
     "text": [
      "Info: Params [ 2.09714001  2.52663822 10.         10.          0.91961728  0.86710815\n",
      "  0.24490483  0.27415879] gave -1784.5497029133526\n",
      "Warning: This function (from_pandas_dataframe()) is deprecated and will be removed in a future version of PyDDM.  Please use the choice_column_name argument instead.\n"
     ]
    },
    {
     "name": "stdout",
     "output_type": "stream",
     "text": [
      "   Drift Rate Speed  Drift Rate Accuracy  Self-excitation Speed  \\\n",
      "0           2.09714             2.526638                   10.0   \n",
      "\n",
      "   Self-excitation Accuracy  Boundary Separation Speed  \\\n",
      "0                      10.0                   0.919617   \n",
      "\n",
      "   Boundary Separation Accuracy  Non-decision Time Speed  \\\n",
      "0                      0.867108                 0.244905   \n",
      "\n",
      "   Non-decision Time Accuracy          BIC  \n",
      "0                    0.274159 -1784.549703  \n",
      "6\n"
     ]
    },
    {
     "name": "stderr",
     "output_type": "stream",
     "text": [
      "Info: Params [ 1.68375441  1.97479109 10.         10.          0.73154222  1.35687406\n",
      "  0.27244131  0.26297682] gave -2896.9185496785867\n",
      "Warning: This function (from_pandas_dataframe()) is deprecated and will be removed in a future version of PyDDM.  Please use the choice_column_name argument instead.\n"
     ]
    },
    {
     "name": "stdout",
     "output_type": "stream",
     "text": [
      "   Drift Rate Speed  Drift Rate Accuracy  Self-excitation Speed  \\\n",
      "0          1.683754             1.974791                   10.0   \n",
      "\n",
      "   Self-excitation Accuracy  Boundary Separation Speed  \\\n",
      "0                      10.0                   0.731542   \n",
      "\n",
      "   Boundary Separation Accuracy  Non-decision Time Speed  \\\n",
      "0                      1.356874                 0.272441   \n",
      "\n",
      "   Non-decision Time Accuracy         BIC  \n",
      "0                    0.262977 -2896.91855  \n",
      "7\n"
     ]
    },
    {
     "name": "stderr",
     "output_type": "stream",
     "text": [
      "Info: Params [1.83436792 1.83036282 9.91258892 3.19953659 0.78198097 0.7900054\n",
      " 0.247522   0.27288505] gave -1965.1989601823896\n",
      "Warning: This function (from_pandas_dataframe()) is deprecated and will be removed in a future version of PyDDM.  Please use the choice_column_name argument instead.\n"
     ]
    },
    {
     "name": "stdout",
     "output_type": "stream",
     "text": [
      "   Drift Rate Speed  Drift Rate Accuracy  Self-excitation Speed  \\\n",
      "0          1.834368             1.830363               9.912589   \n",
      "\n",
      "   Self-excitation Accuracy  Boundary Separation Speed  \\\n",
      "0                  3.199537                   0.781981   \n",
      "\n",
      "   Boundary Separation Accuracy  Non-decision Time Speed  \\\n",
      "0                      0.790005                 0.247522   \n",
      "\n",
      "   Non-decision Time Accuracy         BIC  \n",
      "0                    0.272885 -1965.19896  \n",
      "8\n"
     ]
    },
    {
     "name": "stderr",
     "output_type": "stream",
     "text": [
      "Info: Params [ 1.88605575  2.34658503 10.         10.          1.09411431  1.42473666\n",
      "  0.27769256  0.28901422] gave -1402.9963625858118\n",
      "Warning: This function (from_pandas_dataframe()) is deprecated and will be removed in a future version of PyDDM.  Please use the choice_column_name argument instead.\n"
     ]
    },
    {
     "name": "stdout",
     "output_type": "stream",
     "text": [
      "   Drift Rate Speed  Drift Rate Accuracy  Self-excitation Speed  \\\n",
      "0          1.886056             2.346585                   10.0   \n",
      "\n",
      "   Self-excitation Accuracy  Boundary Separation Speed  \\\n",
      "0                      10.0                   1.094114   \n",
      "\n",
      "   Boundary Separation Accuracy  Non-decision Time Speed  \\\n",
      "0                      1.424737                 0.277693   \n",
      "\n",
      "   Non-decision Time Accuracy          BIC  \n",
      "0                    0.289014 -1402.996363  \n",
      "9\n"
     ]
    },
    {
     "name": "stderr",
     "output_type": "stream",
     "text": [
      "Info: Params [ 1.11280206  1.76962843 10.          9.51969397  1.62536452  1.12236133\n",
      "  0.17352496  0.25361239] gave -2081.935241853467\n",
      "Warning: This function (from_pandas_dataframe()) is deprecated and will be removed in a future version of PyDDM.  Please use the choice_column_name argument instead.\n"
     ]
    },
    {
     "name": "stdout",
     "output_type": "stream",
     "text": [
      "   Drift Rate Speed  Drift Rate Accuracy  Self-excitation Speed  \\\n",
      "0          1.112802             1.769628                   10.0   \n",
      "\n",
      "   Self-excitation Accuracy  Boundary Separation Speed  \\\n",
      "0                  9.519694                   1.625365   \n",
      "\n",
      "   Boundary Separation Accuracy  Non-decision Time Speed  \\\n",
      "0                      1.122361                 0.173525   \n",
      "\n",
      "   Non-decision Time Accuracy          BIC  \n",
      "0                    0.253612 -2081.935242  \n",
      "10\n"
     ]
    },
    {
     "name": "stderr",
     "output_type": "stream",
     "text": [
      "Info: Params [0.15968794 0.11972707 8.09157144 8.37486406 1.04044093 1.43235114\n",
      " 0.13731978 0.11668316] gave -464.2726730637766\n",
      "Warning: This function (from_pandas_dataframe()) is deprecated and will be removed in a future version of PyDDM.  Please use the choice_column_name argument instead.\n"
     ]
    },
    {
     "name": "stdout",
     "output_type": "stream",
     "text": [
      "   Drift Rate Speed  Drift Rate Accuracy  Self-excitation Speed  \\\n",
      "0          0.159688             0.119727               8.091571   \n",
      "\n",
      "   Self-excitation Accuracy  Boundary Separation Speed  \\\n",
      "0                  8.374864                   1.040441   \n",
      "\n",
      "   Boundary Separation Accuracy  Non-decision Time Speed  \\\n",
      "0                      1.432351                  0.13732   \n",
      "\n",
      "   Non-decision Time Accuracy         BIC  \n",
      "0                    0.116683 -464.272673  \n",
      "11\n"
     ]
    },
    {
     "name": "stderr",
     "output_type": "stream",
     "text": [
      "Info: Params [0.77474957 1.35145703 9.68607218 2.80480236 1.18148596 0.95841147\n",
      " 0.19255304 0.25687587] gave -279.5832831196238\n",
      "Warning: This function (from_pandas_dataframe()) is deprecated and will be removed in a future version of PyDDM.  Please use the choice_column_name argument instead.\n"
     ]
    },
    {
     "name": "stdout",
     "output_type": "stream",
     "text": [
      "   Drift Rate Speed  Drift Rate Accuracy  Self-excitation Speed  \\\n",
      "0           0.77475             1.351457               9.686072   \n",
      "\n",
      "   Self-excitation Accuracy  Boundary Separation Speed  \\\n",
      "0                  2.804802                   1.181486   \n",
      "\n",
      "   Boundary Separation Accuracy  Non-decision Time Speed  \\\n",
      "0                      0.958411                 0.192553   \n",
      "\n",
      "   Non-decision Time Accuracy         BIC  \n",
      "0                    0.256876 -279.583283  \n",
      "12\n"
     ]
    },
    {
     "name": "stderr",
     "output_type": "stream",
     "text": [
      "Info: Params [0.32280687 0.95666136 9.21677599 9.12627083 2.2361359  4.70750655\n",
      " 0.10951956 0.10346367] gave -502.69319944377804\n",
      "Warning: This function (from_pandas_dataframe()) is deprecated and will be removed in a future version of PyDDM.  Please use the choice_column_name argument instead.\n"
     ]
    },
    {
     "name": "stdout",
     "output_type": "stream",
     "text": [
      "   Drift Rate Speed  Drift Rate Accuracy  Self-excitation Speed  \\\n",
      "0          0.322807             0.956661               9.216776   \n",
      "\n",
      "   Self-excitation Accuracy  Boundary Separation Speed  \\\n",
      "0                  9.126271                   2.236136   \n",
      "\n",
      "   Boundary Separation Accuracy  Non-decision Time Speed  \\\n",
      "0                      4.707507                  0.10952   \n",
      "\n",
      "   Non-decision Time Accuracy         BIC  \n",
      "0                    0.103464 -502.693199  \n",
      "13\n"
     ]
    },
    {
     "name": "stderr",
     "output_type": "stream",
     "text": [
      "Info: Params [0.         0.57354376 8.95201341 3.9996862  0.52197874 0.57213494\n",
      " 0.1751649  0.17529646] gave -296.29649466480333\n",
      "Warning: This function (from_pandas_dataframe()) is deprecated and will be removed in a future version of PyDDM.  Please use the choice_column_name argument instead.\n"
     ]
    },
    {
     "name": "stdout",
     "output_type": "stream",
     "text": [
      "   Drift Rate Speed  Drift Rate Accuracy  Self-excitation Speed  \\\n",
      "0               0.0             0.573544               8.952013   \n",
      "\n",
      "   Self-excitation Accuracy  Boundary Separation Speed  \\\n",
      "0                  3.999686                   0.521979   \n",
      "\n",
      "   Boundary Separation Accuracy  Non-decision Time Speed  \\\n",
      "0                      0.572135                 0.175165   \n",
      "\n",
      "   Non-decision Time Accuracy         BIC  \n",
      "0                    0.175296 -296.296495  \n",
      "14\n"
     ]
    },
    {
     "name": "stderr",
     "output_type": "stream",
     "text": [
      "Info: Params [1.29583892 1.44518658 9.94434326 9.47403681 2.59471729 1.5243756\n",
      " 0.23710071 0.29498468] gave -1506.9912568825637\n",
      "Warning: This function (from_pandas_dataframe()) is deprecated and will be removed in a future version of PyDDM.  Please use the choice_column_name argument instead.\n"
     ]
    },
    {
     "name": "stdout",
     "output_type": "stream",
     "text": [
      "   Drift Rate Speed  Drift Rate Accuracy  Self-excitation Speed  \\\n",
      "0          1.295839             1.445187               9.944343   \n",
      "\n",
      "   Self-excitation Accuracy  Boundary Separation Speed  \\\n",
      "0                  9.474037                   2.594717   \n",
      "\n",
      "   Boundary Separation Accuracy  Non-decision Time Speed  \\\n",
      "0                      1.524376                 0.237101   \n",
      "\n",
      "   Non-decision Time Accuracy          BIC  \n",
      "0                    0.294985 -1506.991257  \n",
      "15\n"
     ]
    },
    {
     "name": "stderr",
     "output_type": "stream",
     "text": [
      "Info: Params [0.05206574 0.62909899 8.53004625 4.79442677 0.86798336 0.75828406\n",
      " 0.17726725 0.19082945] gave 175.14019117908128\n",
      "Warning: This function (from_pandas_dataframe()) is deprecated and will be removed in a future version of PyDDM.  Please use the choice_column_name argument instead.\n"
     ]
    },
    {
     "name": "stdout",
     "output_type": "stream",
     "text": [
      "   Drift Rate Speed  Drift Rate Accuracy  Self-excitation Speed  \\\n",
      "0          0.052066             0.629099               8.530046   \n",
      "\n",
      "   Self-excitation Accuracy  Boundary Separation Speed  \\\n",
      "0                  4.794427                   0.867983   \n",
      "\n",
      "   Boundary Separation Accuracy  Non-decision Time Speed  \\\n",
      "0                      0.758284                 0.177267   \n",
      "\n",
      "   Non-decision Time Accuracy         BIC  \n",
      "0                    0.190829  175.140191  \n",
      "16\n"
     ]
    },
    {
     "name": "stderr",
     "output_type": "stream",
     "text": [
      "Info: Params [ 0.60850477  0.64522295 10.         10.          0.79153871  1.67899377\n",
      "  0.16917063  0.13942653] gave -1519.8760333762443\n",
      "Warning: This function (from_pandas_dataframe()) is deprecated and will be removed in a future version of PyDDM.  Please use the choice_column_name argument instead.\n"
     ]
    },
    {
     "name": "stdout",
     "output_type": "stream",
     "text": [
      "   Drift Rate Speed  Drift Rate Accuracy  Self-excitation Speed  \\\n",
      "0          0.608505             0.645223                   10.0   \n",
      "\n",
      "   Self-excitation Accuracy  Boundary Separation Speed  \\\n",
      "0                      10.0                   0.791539   \n",
      "\n",
      "   Boundary Separation Accuracy  Non-decision Time Speed  \\\n",
      "0                      1.678994                 0.169171   \n",
      "\n",
      "   Non-decision Time Accuracy          BIC  \n",
      "0                    0.139427 -1519.876033  \n",
      "17\n"
     ]
    },
    {
     "name": "stderr",
     "output_type": "stream",
     "text": [
      "Info: Params [0.37923067 0.95099815 6.27749349 5.46934211 0.71994235 1.87724882\n",
      " 0.14220458 0.11310025] gave 388.8462139420351\n",
      "Warning: This function (from_pandas_dataframe()) is deprecated and will be removed in a future version of PyDDM.  Please use the choice_column_name argument instead.\n"
     ]
    },
    {
     "name": "stdout",
     "output_type": "stream",
     "text": [
      "   Drift Rate Speed  Drift Rate Accuracy  Self-excitation Speed  \\\n",
      "0          0.379231             0.950998               6.277493   \n",
      "\n",
      "   Self-excitation Accuracy  Boundary Separation Speed  \\\n",
      "0                  5.469342                   0.719942   \n",
      "\n",
      "   Boundary Separation Accuracy  Non-decision Time Speed  \\\n",
      "0                      1.877249                 0.142205   \n",
      "\n",
      "   Non-decision Time Accuracy         BIC  \n",
      "0                      0.1131  388.846214  \n",
      "18\n"
     ]
    },
    {
     "name": "stderr",
     "output_type": "stream",
     "text": [
      "Info: Params [2.62696281 2.94549195 8.23166255 9.47876209 2.47625712 2.73364761\n",
      " 0.33912215 0.35317693] gave -2715.0237134806443\n",
      "Warning: This function (from_pandas_dataframe()) is deprecated and will be removed in a future version of PyDDM.  Please use the choice_column_name argument instead.\n"
     ]
    },
    {
     "name": "stdout",
     "output_type": "stream",
     "text": [
      "   Drift Rate Speed  Drift Rate Accuracy  Self-excitation Speed  \\\n",
      "0          2.626963             2.945492               8.231663   \n",
      "\n",
      "   Self-excitation Accuracy  Boundary Separation Speed  \\\n",
      "0                  9.478762                   2.476257   \n",
      "\n",
      "   Boundary Separation Accuracy  Non-decision Time Speed  \\\n",
      "0                      2.733648                 0.339122   \n",
      "\n",
      "   Non-decision Time Accuracy          BIC  \n",
      "0                    0.353177 -2715.023713  \n",
      "19\n"
     ]
    },
    {
     "name": "stderr",
     "output_type": "stream",
     "text": [
      "Info: Params [ 0.36231968  0.5856177  10.         10.          1.75221538  3.08044514\n",
      "  0.13968292  0.11870911] gave -1273.4098250966586\n",
      "Warning: This function (from_pandas_dataframe()) is deprecated and will be removed in a future version of PyDDM.  Please use the choice_column_name argument instead.\n"
     ]
    },
    {
     "name": "stdout",
     "output_type": "stream",
     "text": [
      "   Drift Rate Speed  Drift Rate Accuracy  Self-excitation Speed  \\\n",
      "0           0.36232             0.585618                   10.0   \n",
      "\n",
      "   Self-excitation Accuracy  Boundary Separation Speed  \\\n",
      "0                      10.0                   1.752215   \n",
      "\n",
      "   Boundary Separation Accuracy  Non-decision Time Speed  \\\n",
      "0                      3.080445                 0.139683   \n",
      "\n",
      "   Non-decision Time Accuracy          BIC  \n",
      "0                    0.118709 -1273.409825  \n",
      "20\n"
     ]
    },
    {
     "name": "stderr",
     "output_type": "stream",
     "text": [
      "Info: Params [0.2546563  0.03353919 9.97381524 7.90897053 0.87589589 0.88387551\n",
      " 0.14972646 0.14572157] gave -638.0279241075343\n",
      "Warning: This function (from_pandas_dataframe()) is deprecated and will be removed in a future version of PyDDM.  Please use the choice_column_name argument instead.\n"
     ]
    },
    {
     "name": "stdout",
     "output_type": "stream",
     "text": [
      "   Drift Rate Speed  Drift Rate Accuracy  Self-excitation Speed  \\\n",
      "0          0.254656             0.033539               9.973815   \n",
      "\n",
      "   Self-excitation Accuracy  Boundary Separation Speed  \\\n",
      "0                  7.908971                   0.875896   \n",
      "\n",
      "   Boundary Separation Accuracy  Non-decision Time Speed  \\\n",
      "0                      0.883876                 0.149726   \n",
      "\n",
      "   Non-decision Time Accuracy         BIC  \n",
      "0                    0.145722 -638.027924  \n",
      "21\n"
     ]
    },
    {
     "name": "stderr",
     "output_type": "stream",
     "text": [
      "Info: Params [0.22969781 0.64628283 8.22877989 5.81822976 2.05334702 2.17004858\n",
      " 0.10372486 0.10894722] gave 676.6554165123131\n",
      "Warning: This function (from_pandas_dataframe()) is deprecated and will be removed in a future version of PyDDM.  Please use the choice_column_name argument instead.\n"
     ]
    },
    {
     "name": "stdout",
     "output_type": "stream",
     "text": [
      "   Drift Rate Speed  Drift Rate Accuracy  Self-excitation Speed  \\\n",
      "0          0.229698             0.646283                8.22878   \n",
      "\n",
      "   Self-excitation Accuracy  Boundary Separation Speed  \\\n",
      "0                   5.81823                   2.053347   \n",
      "\n",
      "   Boundary Separation Accuracy  Non-decision Time Speed  \\\n",
      "0                      2.170049                 0.103725   \n",
      "\n",
      "   Non-decision Time Accuracy         BIC  \n",
      "0                    0.108947  676.655417  \n",
      "22\n"
     ]
    },
    {
     "name": "stderr",
     "output_type": "stream",
     "text": [
      "Info: Params [0.02983131 0.20697646 9.31457111 5.70646078 0.52302006 0.63716621\n",
      " 0.16702095 0.16713235] gave -789.1866768534288\n",
      "Warning: This function (from_pandas_dataframe()) is deprecated and will be removed in a future version of PyDDM.  Please use the choice_column_name argument instead.\n"
     ]
    },
    {
     "name": "stdout",
     "output_type": "stream",
     "text": [
      "   Drift Rate Speed  Drift Rate Accuracy  Self-excitation Speed  \\\n",
      "0          0.029831             0.206976               9.314571   \n",
      "\n",
      "   Self-excitation Accuracy  Boundary Separation Speed  \\\n",
      "0                  5.706461                    0.52302   \n",
      "\n",
      "   Boundary Separation Accuracy  Non-decision Time Speed  \\\n",
      "0                      0.637166                 0.167021   \n",
      "\n",
      "   Non-decision Time Accuracy         BIC  \n",
      "0                    0.167132 -789.186677  \n",
      "23\n"
     ]
    },
    {
     "name": "stderr",
     "output_type": "stream",
     "text": [
      "Info: Params [ 0.05807129  0.41328544 10.          8.95855829  2.03146559  4.01755418\n",
      "  0.10657176  0.10361625] gave -95.16969515077146\n",
      "Warning: This function (from_pandas_dataframe()) is deprecated and will be removed in a future version of PyDDM.  Please use the choice_column_name argument instead.\n"
     ]
    },
    {
     "name": "stdout",
     "output_type": "stream",
     "text": [
      "   Drift Rate Speed  Drift Rate Accuracy  Self-excitation Speed  \\\n",
      "0          0.058071             0.413285                   10.0   \n",
      "\n",
      "   Self-excitation Accuracy  Boundary Separation Speed  \\\n",
      "0                  8.958558                   2.031466   \n",
      "\n",
      "   Boundary Separation Accuracy  Non-decision Time Speed  \\\n",
      "0                      4.017554                 0.106572   \n",
      "\n",
      "   Non-decision Time Accuracy        BIC  \n",
      "0                    0.103616 -95.169695  \n",
      "24\n"
     ]
    },
    {
     "name": "stderr",
     "output_type": "stream",
     "text": [
      "Info: Params [0.183789   0.73819276 5.88403919 3.87709879 0.50401275 2.00246476\n",
      " 0.15991105 0.10204481] gave 344.6415205574791\n",
      "Warning: This function (from_pandas_dataframe()) is deprecated and will be removed in a future version of PyDDM.  Please use the choice_column_name argument instead.\n"
     ]
    },
    {
     "name": "stdout",
     "output_type": "stream",
     "text": [
      "   Drift Rate Speed  Drift Rate Accuracy  Self-excitation Speed  \\\n",
      "0          0.183789             0.738193               5.884039   \n",
      "\n",
      "   Self-excitation Accuracy  Boundary Separation Speed  \\\n",
      "0                  3.877099                   0.504013   \n",
      "\n",
      "   Boundary Separation Accuracy  Non-decision Time Speed  \\\n",
      "0                      2.002465                 0.159911   \n",
      "\n",
      "   Non-decision Time Accuracy         BIC  \n",
      "0                    0.102045  344.641521  \n",
      "25\n"
     ]
    },
    {
     "name": "stderr",
     "output_type": "stream",
     "text": [
      "Info: Params [ 0.70406219  0.75718582 10.          9.87123766  0.92029447  1.72019007\n",
      "  0.18178387  0.14885906] gave -710.6456297957503\n",
      "Warning: This function (from_pandas_dataframe()) is deprecated and will be removed in a future version of PyDDM.  Please use the choice_column_name argument instead.\n"
     ]
    },
    {
     "name": "stdout",
     "output_type": "stream",
     "text": [
      "   Drift Rate Speed  Drift Rate Accuracy  Self-excitation Speed  \\\n",
      "0          0.704062             0.757186                   10.0   \n",
      "\n",
      "   Self-excitation Accuracy  Boundary Separation Speed  \\\n",
      "0                  9.871238                   0.920294   \n",
      "\n",
      "   Boundary Separation Accuracy  Non-decision Time Speed  \\\n",
      "0                       1.72019                 0.181784   \n",
      "\n",
      "   Non-decision Time Accuracy        BIC  \n",
      "0                    0.148859 -710.64563  \n",
      "26\n"
     ]
    },
    {
     "name": "stderr",
     "output_type": "stream",
     "text": [
      "Info: Params [ 1.14060132  1.72224109 10.          3.84419655  0.97878585  0.77991332\n",
      "  0.17414167  0.24570497] gave -746.310557669384\n",
      "Warning: This function (from_pandas_dataframe()) is deprecated and will be removed in a future version of PyDDM.  Please use the choice_column_name argument instead.\n"
     ]
    },
    {
     "name": "stdout",
     "output_type": "stream",
     "text": [
      "   Drift Rate Speed  Drift Rate Accuracy  Self-excitation Speed  \\\n",
      "0          1.140601             1.722241                   10.0   \n",
      "\n",
      "   Self-excitation Accuracy  Boundary Separation Speed  \\\n",
      "0                  3.844197                   0.978786   \n",
      "\n",
      "   Boundary Separation Accuracy  Non-decision Time Speed  \\\n",
      "0                      0.779913                 0.174142   \n",
      "\n",
      "   Non-decision Time Accuracy         BIC  \n",
      "0                    0.245705 -746.310558  \n",
      "27\n"
     ]
    },
    {
     "name": "stderr",
     "output_type": "stream",
     "text": [
      "Info: Params [ 0.18042072  0.02209564 10.         10.          1.11754322  0.97245835\n",
      "  0.17327419  0.21286416] gave -963.5984848567274\n",
      "Warning: This function (from_pandas_dataframe()) is deprecated and will be removed in a future version of PyDDM.  Please use the choice_column_name argument instead.\n"
     ]
    },
    {
     "name": "stdout",
     "output_type": "stream",
     "text": [
      "   Drift Rate Speed  Drift Rate Accuracy  Self-excitation Speed  \\\n",
      "0          0.180421             0.022096                   10.0   \n",
      "\n",
      "   Self-excitation Accuracy  Boundary Separation Speed  \\\n",
      "0                      10.0                   1.117543   \n",
      "\n",
      "   Boundary Separation Accuracy  Non-decision Time Speed  \\\n",
      "0                      0.972458                 0.173274   \n",
      "\n",
      "   Non-decision Time Accuracy         BIC  \n",
      "0                    0.212864 -963.598485  \n",
      "28\n"
     ]
    },
    {
     "name": "stderr",
     "output_type": "stream",
     "text": [
      "Info: Params [0.29245903 0.52440808 8.95546654 8.08501819 0.96290108 2.79634409\n",
      " 0.14358241 0.10398041] gave -44.00477168313298\n",
      "Warning: This function (from_pandas_dataframe()) is deprecated and will be removed in a future version of PyDDM.  Please use the choice_column_name argument instead.\n"
     ]
    },
    {
     "name": "stdout",
     "output_type": "stream",
     "text": [
      "   Drift Rate Speed  Drift Rate Accuracy  Self-excitation Speed  \\\n",
      "0          0.292459             0.524408               8.955467   \n",
      "\n",
      "   Self-excitation Accuracy  Boundary Separation Speed  \\\n",
      "0                  8.085018                   0.962901   \n",
      "\n",
      "   Boundary Separation Accuracy  Non-decision Time Speed  \\\n",
      "0                      2.796344                 0.143582   \n",
      "\n",
      "   Non-decision Time Accuracy        BIC  \n",
      "0                     0.10398 -44.004772  \n",
      "29\n"
     ]
    },
    {
     "name": "stderr",
     "output_type": "stream",
     "text": [
      "Info: Params [0.09898593 0.12062202 9.34140945 6.7434242  2.01781791 1.68195647\n",
      " 0.10926089 0.10948083] gave 233.20587353518664\n",
      "Warning: This function (from_pandas_dataframe()) is deprecated and will be removed in a future version of PyDDM.  Please use the choice_column_name argument instead.\n"
     ]
    },
    {
     "name": "stdout",
     "output_type": "stream",
     "text": [
      "   Drift Rate Speed  Drift Rate Accuracy  Self-excitation Speed  \\\n",
      "0          0.098986             0.120622               9.341409   \n",
      "\n",
      "   Self-excitation Accuracy  Boundary Separation Speed  \\\n",
      "0                  6.743424                   2.017818   \n",
      "\n",
      "   Boundary Separation Accuracy  Non-decision Time Speed  \\\n",
      "0                      1.681956                 0.109261   \n",
      "\n",
      "   Non-decision Time Accuracy         BIC  \n",
      "0                    0.109481  233.205874  \n",
      "30\n"
     ]
    },
    {
     "name": "stderr",
     "output_type": "stream",
     "text": [
      "Info: Params [0.1579564  0.10744799 8.29698149 7.54527508 0.83772677 0.78899438\n",
      " 0.15758794 0.15503794] gave -139.49205012645544\n",
      "Warning: This function (from_pandas_dataframe()) is deprecated and will be removed in a future version of PyDDM.  Please use the choice_column_name argument instead.\n"
     ]
    },
    {
     "name": "stdout",
     "output_type": "stream",
     "text": [
      "   Drift Rate Speed  Drift Rate Accuracy  Self-excitation Speed  \\\n",
      "0          0.157956             0.107448               8.296981   \n",
      "\n",
      "   Self-excitation Accuracy  Boundary Separation Speed  \\\n",
      "0                  7.545275                   0.837727   \n",
      "\n",
      "   Boundary Separation Accuracy  Non-decision Time Speed  \\\n",
      "0                      0.788994                 0.157588   \n",
      "\n",
      "   Non-decision Time Accuracy        BIC  \n",
      "0                    0.155038 -139.49205  \n",
      "31\n"
     ]
    },
    {
     "name": "stderr",
     "output_type": "stream",
     "text": [
      "Info: Params [0.41213656 0.27063212 8.70013467 5.52601033 0.8561396  0.65030316\n",
      " 0.15434832 0.17307569] gave -36.93210790789011\n",
      "Warning: This function (from_pandas_dataframe()) is deprecated and will be removed in a future version of PyDDM.  Please use the choice_column_name argument instead.\n"
     ]
    },
    {
     "name": "stdout",
     "output_type": "stream",
     "text": [
      "   Drift Rate Speed  Drift Rate Accuracy  Self-excitation Speed  \\\n",
      "0          0.412137             0.270632               8.700135   \n",
      "\n",
      "   Self-excitation Accuracy  Boundary Separation Speed  \\\n",
      "0                   5.52601                    0.85614   \n",
      "\n",
      "   Boundary Separation Accuracy  Non-decision Time Speed  \\\n",
      "0                      0.650303                 0.154348   \n",
      "\n",
      "   Non-decision Time Accuracy        BIC  \n",
      "0                    0.173076 -36.932108  \n",
      "32\n"
     ]
    },
    {
     "name": "stderr",
     "output_type": "stream",
     "text": [
      "Info: Params [0.0993157  0.1198616  9.27162601 6.79147178 1.98357063 1.70140326\n",
      " 0.10605618 0.105264  ] gave 233.2764338355847\n",
      "Warning: This function (from_pandas_dataframe()) is deprecated and will be removed in a future version of PyDDM.  Please use the choice_column_name argument instead.\n"
     ]
    },
    {
     "name": "stdout",
     "output_type": "stream",
     "text": [
      "   Drift Rate Speed  Drift Rate Accuracy  Self-excitation Speed  \\\n",
      "0          0.099316             0.119862               9.271626   \n",
      "\n",
      "   Self-excitation Accuracy  Boundary Separation Speed  \\\n",
      "0                  6.791472                   1.983571   \n",
      "\n",
      "   Boundary Separation Accuracy  Non-decision Time Speed  \\\n",
      "0                      1.701403                 0.106056   \n",
      "\n",
      "   Non-decision Time Accuracy         BIC  \n",
      "0                    0.105264  233.276434  \n",
      "33\n"
     ]
    },
    {
     "name": "stderr",
     "output_type": "stream",
     "text": [
      "Info: Params [0.02277677 0.4950022  9.73791555 3.89647784 1.22789188 2.13709288\n",
      " 0.14029615 0.10769601] gave 523.4422397756688\n"
     ]
    },
    {
     "name": "stdout",
     "output_type": "stream",
     "text": [
      "   Drift Rate Speed  Drift Rate Accuracy  Self-excitation Speed  \\\n",
      "0          0.022777             0.495002               9.737916   \n",
      "\n",
      "   Self-excitation Accuracy  Boundary Separation Speed  \\\n",
      "0                  3.896478                   1.227892   \n",
      "\n",
      "   Boundary Separation Accuracy  Non-decision Time Speed  \\\n",
      "0                      2.137093                 0.140296   \n",
      "\n",
      "   Non-decision Time Accuracy        BIC  \n",
      "0                    0.107696  523.44224  \n"
     ]
    }
   ],
   "source": [
    "df_all = pd.DataFrame()\n",
    "for i in range(sample_size):\n",
    "    print(i)\n",
    "    path = os.path.join(data_dir+str(i+1)+\".csv\")\n",
    "    df = pd.read_csv(path, sep = \",\")\n",
    "    #df = df[df[\"cond\"]==SAT] # A condition\n",
    "    df = df[df[\"Time\"]<5]\n",
    "\n",
    "    samp = Sample.from_pandas_dataframe(df, rt_column_name=\"Time\", correct_column_name=\"Correct\")\n",
    "    df = get_OUM_result_sub_full(samp)\n",
    "    df_all = pd.concat((df_all,df))\n",
    "    print(df)\n",
    "df_OUM = df_all.copy()\n"
   ]
  },
  {
   "cell_type": "code",
   "execution_count": 7,
   "id": "3b05a53a",
   "metadata": {},
   "outputs": [],
   "source": [
    "df_OUM.to_csv(\"OUMfullresultRae2014.csv\")"
   ]
  },
  {
   "cell_type": "code",
   "execution_count": 8,
   "id": "87e8797e",
   "metadata": {},
   "outputs": [
    {
     "data": {
      "text/plain": [
       "-832.3394456755941"
      ]
     },
     "execution_count": 8,
     "metadata": {},
     "output_type": "execute_result"
    }
   ],
   "source": [
    "df_OUM[\"BIC\"].mean()"
   ]
  },
  {
   "cell_type": "code",
   "execution_count": null,
   "id": "db096ad0",
   "metadata": {},
   "outputs": [],
   "source": []
  }
 ],
 "metadata": {
  "kernelspec": {
   "display_name": "Python 3 (ipykernel)",
   "language": "python",
   "name": "python3"
  },
  "language_info": {
   "codemirror_mode": {
    "name": "ipython",
    "version": 3
   },
   "file_extension": ".py",
   "mimetype": "text/x-python",
   "name": "python",
   "nbconvert_exporter": "python",
   "pygments_lexer": "ipython3",
   "version": "3.11.4"
  }
 },
 "nbformat": 4,
 "nbformat_minor": 5
}
