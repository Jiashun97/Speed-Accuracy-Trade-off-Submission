{
 "cells": [
  {
   "cell_type": "code",
   "execution_count": 1,
   "id": "2cda49de",
   "metadata": {},
   "outputs": [],
   "source": [
    "%run SAT_help_functions.ipynb"
   ]
  },
  {
   "cell_type": "code",
   "execution_count": 2,
   "id": "71d6acc9",
   "metadata": {},
   "outputs": [],
   "source": [
    "data_dir = \"/Users/wangjiashun/Desktop/Reserach on SAT/datasets/Evans2021/Dutilh2013/dataBySubject/sub\"\n",
    "sample_size = 32\n",
    "SAT_conds = [\"speed\", \"accuracy\"]"
   ]
  },
  {
   "cell_type": "code",
   "execution_count": null,
   "id": "3b69d901",
   "metadata": {
    "scrolled": true
   },
   "outputs": [],
   "source": [
    "df_all = pd.DataFrame(columns = ['Participant', 'Drift Rate', 'Boundary Separation', 'Non-decision Time','SAT','BIC'])\n",
    "for SAT in SAT_conds:\n",
    "    for i in range(sample_size):\n",
    "        print(SAT+str(i))\n",
    "        path = os.path.join(data_dir+str(i+1)+\".csv\")\n",
    "        df = pd.read_csv(path, sep = \",\")\n",
    "        df = df[df[\"Cond\"]==SAT] # A condition\n",
    "        df = df[df[\"Time\"]<3]\n",
    "\n",
    "        data_sub = np.stack((np.array((df[\"Time\"])), np.array((df[\"Correct\"]))), axis = 1)\n",
    "        samp = Sample.from_numpy_array(data_sub, column_names = [])\n",
    "        df = get_DDM_result_sub(samp, sample_size, SAT)\n",
    "        df_all = pd.concat((df_all,df))\n",
    "        print(df_all)\n",
    "df_DDM = df_all.copy()"
   ]
  },
  {
   "cell_type": "code",
   "execution_count": 5,
   "id": "e1cdd6e9",
   "metadata": {},
   "outputs": [],
   "source": [
    "df_DDM.to_csv(\"DDMresultDutilh2013.csv\")"
   ]
  },
  {
   "cell_type": "code",
   "execution_count": null,
   "id": "c0ea6859",
   "metadata": {},
   "outputs": [
    {
     "name": "stdout",
     "output_type": "stream",
     "text": [
      "speed0\n"
     ]
    },
    {
     "name": "stderr",
     "output_type": "stream",
     "text": [
      "Info: Params [0.15778757 9.0906425  4.4905254  0.10028675] gave -336.4268196039393\n"
     ]
    },
    {
     "name": "stdout",
     "output_type": "stream",
     "text": [
      "  Participant  Drift Rate  Boundary Separation  Self-excitation  \\\n",
      "0           1    0.157788             4.490525         9.090643   \n",
      "\n",
      "   Non-decision Time    SAT        BIC  \n",
      "0           0.100287  speed -336.42682  \n",
      "speed1\n"
     ]
    },
    {
     "name": "stderr",
     "output_type": "stream",
     "text": [
      "Info: Params [2.02985009 3.46242457 0.68773714 0.33203111] gave -204.02564250954114\n"
     ]
    },
    {
     "name": "stdout",
     "output_type": "stream",
     "text": [
      "  Participant  Drift Rate  Boundary Separation  Self-excitation  \\\n",
      "0           1    0.157788             4.490525         9.090643   \n",
      "0           2    2.029850             0.687737         3.462425   \n",
      "\n",
      "   Non-decision Time    SAT         BIC  \n",
      "0           0.100287  speed -336.426820  \n",
      "0           0.332031  speed -204.025643  \n",
      "speed2\n"
     ]
    },
    {
     "name": "stderr",
     "output_type": "stream",
     "text": [
      "Info: Params [0.         2.19144133 1.34655001 0.10189955] gave 347.03681829500204\n"
     ]
    },
    {
     "name": "stdout",
     "output_type": "stream",
     "text": [
      "  Participant  Drift Rate  Boundary Separation  Self-excitation  \\\n",
      "0           1    0.157788             4.490525         9.090643   \n",
      "0           2    2.029850             0.687737         3.462425   \n",
      "0           3    0.000000             1.346550         2.191441   \n",
      "\n",
      "   Non-decision Time    SAT         BIC  \n",
      "0           0.100287  speed -336.426820  \n",
      "0           0.332031  speed -204.025643  \n",
      "0           0.101900  speed  347.036818  \n",
      "speed3\n"
     ]
    },
    {
     "name": "stderr",
     "output_type": "stream",
     "text": [
      "Info: Params [3.68654384 2.72566796 0.87715725 0.30861867] gave -148.27463672535765\n"
     ]
    },
    {
     "name": "stdout",
     "output_type": "stream",
     "text": [
      "  Participant  Drift Rate  Boundary Separation  Self-excitation  \\\n",
      "0           1    0.157788             4.490525         9.090643   \n",
      "0           2    2.029850             0.687737         3.462425   \n",
      "0           3    0.000000             1.346550         2.191441   \n",
      "0           4    3.686544             0.877157         2.725668   \n",
      "\n",
      "   Non-decision Time    SAT         BIC  \n",
      "0           0.100287  speed -336.426820  \n",
      "0           0.332031  speed -204.025643  \n",
      "0           0.101900  speed  347.036818  \n",
      "0           0.308619  speed -148.274637  \n",
      "speed4\n"
     ]
    },
    {
     "name": "stderr",
     "output_type": "stream",
     "text": [
      "Info: Params [1.9558352  3.89135256 1.29596618 0.18746694] gave -72.54087330205272\n"
     ]
    },
    {
     "name": "stdout",
     "output_type": "stream",
     "text": [
      "  Participant  Drift Rate  Boundary Separation  Self-excitation  \\\n",
      "0           1    0.157788             4.490525         9.090643   \n",
      "0           2    2.029850             0.687737         3.462425   \n",
      "0           3    0.000000             1.346550         2.191441   \n",
      "0           4    3.686544             0.877157         2.725668   \n",
      "0           5    1.955835             1.295966         3.891353   \n",
      "\n",
      "   Non-decision Time    SAT         BIC  \n",
      "0           0.100287  speed -336.426820  \n",
      "0           0.332031  speed -204.025643  \n",
      "0           0.101900  speed  347.036818  \n",
      "0           0.308619  speed -148.274637  \n",
      "0           0.187467  speed  -72.540873  \n",
      "speed5\n"
     ]
    },
    {
     "name": "stderr",
     "output_type": "stream",
     "text": [
      "Info: Params [1.26648109 7.32183256 1.9813214  0.18019352] gave -170.9145446178706\n"
     ]
    },
    {
     "name": "stdout",
     "output_type": "stream",
     "text": [
      "  Participant  Drift Rate  Boundary Separation  Self-excitation  \\\n",
      "0           1    0.157788             4.490525         9.090643   \n",
      "0           2    2.029850             0.687737         3.462425   \n",
      "0           3    0.000000             1.346550         2.191441   \n",
      "0           4    3.686544             0.877157         2.725668   \n",
      "0           5    1.955835             1.295966         3.891353   \n",
      "0           6    1.266481             1.981321         7.321833   \n",
      "\n",
      "   Non-decision Time    SAT         BIC  \n",
      "0           0.100287  speed -336.426820  \n",
      "0           0.332031  speed -204.025643  \n",
      "0           0.101900  speed  347.036818  \n",
      "0           0.308619  speed -148.274637  \n",
      "0           0.187467  speed  -72.540873  \n",
      "0           0.180194  speed -170.914545  \n",
      "speed6\n"
     ]
    },
    {
     "name": "stderr",
     "output_type": "stream",
     "text": [
      "Info: Params [1.18195263 6.81196223 1.20143619 0.18023218] gave -272.99015724904154\n"
     ]
    },
    {
     "name": "stdout",
     "output_type": "stream",
     "text": [
      "  Participant  Drift Rate  Boundary Separation  Self-excitation  \\\n",
      "0           1    0.157788             4.490525         9.090643   \n",
      "0           2    2.029850             0.687737         3.462425   \n",
      "0           3    0.000000             1.346550         2.191441   \n",
      "0           4    3.686544             0.877157         2.725668   \n",
      "0           5    1.955835             1.295966         3.891353   \n",
      "0           6    1.266481             1.981321         7.321833   \n",
      "0           7    1.181953             1.201436         6.811962   \n",
      "\n",
      "   Non-decision Time    SAT         BIC  \n",
      "0           0.100287  speed -336.426820  \n",
      "0           0.332031  speed -204.025643  \n",
      "0           0.101900  speed  347.036818  \n",
      "0           0.308619  speed -148.274637  \n",
      "0           0.187467  speed  -72.540873  \n",
      "0           0.180194  speed -170.914545  \n",
      "0           0.180232  speed -272.990157  \n",
      "speed7\n"
     ]
    },
    {
     "name": "stderr",
     "output_type": "stream",
     "text": [
      "Info: Params [1.22454303 5.51696195 2.14028672 0.10080466] gave -15.403057402926748\n"
     ]
    },
    {
     "name": "stdout",
     "output_type": "stream",
     "text": [
      "  Participant  Drift Rate  Boundary Separation  Self-excitation  \\\n",
      "0           1    0.157788             4.490525         9.090643   \n",
      "0           2    2.029850             0.687737         3.462425   \n",
      "0           3    0.000000             1.346550         2.191441   \n",
      "0           4    3.686544             0.877157         2.725668   \n",
      "0           5    1.955835             1.295966         3.891353   \n",
      "0           6    1.266481             1.981321         7.321833   \n",
      "0           7    1.181953             1.201436         6.811962   \n",
      "0           8    1.224543             2.140287         5.516962   \n",
      "\n",
      "   Non-decision Time    SAT         BIC  \n",
      "0           0.100287  speed -336.426820  \n",
      "0           0.332031  speed -204.025643  \n",
      "0           0.101900  speed  347.036818  \n",
      "0           0.308619  speed -148.274637  \n",
      "0           0.187467  speed  -72.540873  \n",
      "0           0.180194  speed -170.914545  \n",
      "0           0.180232  speed -272.990157  \n",
      "0           0.100805  speed  -15.403057  \n",
      "speed8\n"
     ]
    },
    {
     "name": "stderr",
     "output_type": "stream",
     "text": [
      "Info: Params [0.74707871 4.73237748 2.11951076 0.10080573] gave 112.74348332085904\n"
     ]
    },
    {
     "name": "stdout",
     "output_type": "stream",
     "text": [
      "  Participant  Drift Rate  Boundary Separation  Self-excitation  \\\n",
      "0           1    0.157788             4.490525         9.090643   \n",
      "0           2    2.029850             0.687737         3.462425   \n",
      "0           3    0.000000             1.346550         2.191441   \n",
      "0           4    3.686544             0.877157         2.725668   \n",
      "0           5    1.955835             1.295966         3.891353   \n",
      "0           6    1.266481             1.981321         7.321833   \n",
      "0           7    1.181953             1.201436         6.811962   \n",
      "0           8    1.224543             2.140287         5.516962   \n",
      "0           9    0.747079             2.119511         4.732377   \n",
      "\n",
      "   Non-decision Time    SAT         BIC  \n",
      "0           0.100287  speed -336.426820  \n",
      "0           0.332031  speed -204.025643  \n",
      "0           0.101900  speed  347.036818  \n",
      "0           0.308619  speed -148.274637  \n",
      "0           0.187467  speed  -72.540873  \n",
      "0           0.180194  speed -170.914545  \n",
      "0           0.180232  speed -272.990157  \n",
      "0           0.100805  speed  -15.403057  \n",
      "0           0.100806  speed  112.743483  \n",
      "speed9\n"
     ]
    },
    {
     "name": "stderr",
     "output_type": "stream",
     "text": [
      "Info: Params [0.01337049 7.17566579 1.23093014 0.10062504] gave 43.27376796169367\n"
     ]
    },
    {
     "name": "stdout",
     "output_type": "stream",
     "text": [
      "  Participant  Drift Rate  Boundary Separation  Self-excitation  \\\n",
      "0           1    0.157788             4.490525         9.090643   \n",
      "0           2    2.029850             0.687737         3.462425   \n",
      "0           3    0.000000             1.346550         2.191441   \n",
      "0           4    3.686544             0.877157         2.725668   \n",
      "0           5    1.955835             1.295966         3.891353   \n",
      "0           6    1.266481             1.981321         7.321833   \n",
      "0           7    1.181953             1.201436         6.811962   \n",
      "0           8    1.224543             2.140287         5.516962   \n",
      "0           9    0.747079             2.119511         4.732377   \n",
      "0          10    0.013370             1.230930         7.175666   \n",
      "\n",
      "   Non-decision Time    SAT         BIC  \n",
      "0           0.100287  speed -336.426820  \n",
      "0           0.332031  speed -204.025643  \n",
      "0           0.101900  speed  347.036818  \n",
      "0           0.308619  speed -148.274637  \n",
      "0           0.187467  speed  -72.540873  \n",
      "0           0.180194  speed -170.914545  \n",
      "0           0.180232  speed -272.990157  \n",
      "0           0.100805  speed  -15.403057  \n",
      "0           0.100806  speed  112.743483  \n",
      "0           0.100625  speed   43.273768  \n",
      "speed10\n"
     ]
    },
    {
     "name": "stderr",
     "output_type": "stream",
     "text": [
      "Info: Params [2.58469875 5.52699194 6.02417732 0.10921004] gave -56.67382381819786\n"
     ]
    },
    {
     "name": "stdout",
     "output_type": "stream",
     "text": [
      "  Participant  Drift Rate  Boundary Separation  Self-excitation  \\\n",
      "0           1    0.157788             4.490525         9.090643   \n",
      "0           2    2.029850             0.687737         3.462425   \n",
      "0           3    0.000000             1.346550         2.191441   \n",
      "0           4    3.686544             0.877157         2.725668   \n",
      "0           5    1.955835             1.295966         3.891353   \n",
      "0           6    1.266481             1.981321         7.321833   \n",
      "0           7    1.181953             1.201436         6.811962   \n",
      "0           8    1.224543             2.140287         5.516962   \n",
      "0           9    0.747079             2.119511         4.732377   \n",
      "0          10    0.013370             1.230930         7.175666   \n",
      "0          11    2.584699             6.024177         5.526992   \n",
      "\n",
      "   Non-decision Time    SAT         BIC  \n",
      "0           0.100287  speed -336.426820  \n",
      "0           0.332031  speed -204.025643  \n",
      "0           0.101900  speed  347.036818  \n",
      "0           0.308619  speed -148.274637  \n",
      "0           0.187467  speed  -72.540873  \n",
      "0           0.180194  speed -170.914545  \n",
      "0           0.180232  speed -272.990157  \n",
      "0           0.100805  speed  -15.403057  \n",
      "0           0.100806  speed  112.743483  \n",
      "0           0.100625  speed   43.273768  \n",
      "0           0.109210  speed  -56.673824  \n",
      "speed11\n"
     ]
    },
    {
     "name": "stderr",
     "output_type": "stream",
     "text": [
      "Info: Params [2.21777772 6.73699611 0.86434183 0.29561841] gave -463.37882107742485\n"
     ]
    },
    {
     "name": "stdout",
     "output_type": "stream",
     "text": [
      "  Participant  Drift Rate  Boundary Separation  Self-excitation  \\\n",
      "0           1    0.157788             4.490525         9.090643   \n",
      "0           2    2.029850             0.687737         3.462425   \n",
      "0           3    0.000000             1.346550         2.191441   \n",
      "0           4    3.686544             0.877157         2.725668   \n",
      "0           5    1.955835             1.295966         3.891353   \n",
      "0           6    1.266481             1.981321         7.321833   \n",
      "0           7    1.181953             1.201436         6.811962   \n",
      "0           8    1.224543             2.140287         5.516962   \n",
      "0           9    0.747079             2.119511         4.732377   \n",
      "0          10    0.013370             1.230930         7.175666   \n",
      "0          11    2.584699             6.024177         5.526992   \n",
      "0          12    2.217778             0.864342         6.736996   \n",
      "\n",
      "   Non-decision Time    SAT         BIC  \n",
      "0           0.100287  speed -336.426820  \n",
      "0           0.332031  speed -204.025643  \n",
      "0           0.101900  speed  347.036818  \n",
      "0           0.308619  speed -148.274637  \n",
      "0           0.187467  speed  -72.540873  \n",
      "0           0.180194  speed -170.914545  \n",
      "0           0.180232  speed -272.990157  \n",
      "0           0.100805  speed  -15.403057  \n",
      "0           0.100806  speed  112.743483  \n",
      "0           0.100625  speed   43.273768  \n",
      "0           0.109210  speed  -56.673824  \n",
      "0           0.295618  speed -463.378821  \n",
      "speed12\n"
     ]
    },
    {
     "name": "stderr",
     "output_type": "stream",
     "text": [
      "Info: Params [3.70199278 4.97635944 1.18720829 0.25980432] gave -437.1671148011123\n"
     ]
    },
    {
     "name": "stdout",
     "output_type": "stream",
     "text": [
      "  Participant  Drift Rate  Boundary Separation  Self-excitation  \\\n",
      "0           1    0.157788             4.490525         9.090643   \n",
      "0           2    2.029850             0.687737         3.462425   \n",
      "0           3    0.000000             1.346550         2.191441   \n",
      "0           4    3.686544             0.877157         2.725668   \n",
      "0           5    1.955835             1.295966         3.891353   \n",
      "0           6    1.266481             1.981321         7.321833   \n",
      "0           7    1.181953             1.201436         6.811962   \n",
      "0           8    1.224543             2.140287         5.516962   \n",
      "0           9    0.747079             2.119511         4.732377   \n",
      "0          10    0.013370             1.230930         7.175666   \n",
      "0          11    2.584699             6.024177         5.526992   \n",
      "0          12    2.217778             0.864342         6.736996   \n",
      "0          13    3.701993             1.187208         4.976359   \n",
      "\n",
      "   Non-decision Time    SAT         BIC  \n",
      "0           0.100287  speed -336.426820  \n",
      "0           0.332031  speed -204.025643  \n",
      "0           0.101900  speed  347.036818  \n",
      "0           0.308619  speed -148.274637  \n",
      "0           0.187467  speed  -72.540873  \n",
      "0           0.180194  speed -170.914545  \n",
      "0           0.180232  speed -272.990157  \n",
      "0           0.100805  speed  -15.403057  \n",
      "0           0.100806  speed  112.743483  \n",
      "0           0.100625  speed   43.273768  \n",
      "0           0.109210  speed  -56.673824  \n",
      "0           0.295618  speed -463.378821  \n",
      "0           0.259804  speed -437.167115  \n",
      "speed13\n"
     ]
    },
    {
     "name": "stderr",
     "output_type": "stream",
     "text": [
      "Info: Params [1.44375256 5.37179083 0.78037445 0.21857953] gave -229.9735199991246\n"
     ]
    },
    {
     "name": "stdout",
     "output_type": "stream",
     "text": [
      "  Participant  Drift Rate  Boundary Separation  Self-excitation  \\\n",
      "0           1    0.157788             4.490525         9.090643   \n",
      "0           2    2.029850             0.687737         3.462425   \n",
      "0           3    0.000000             1.346550         2.191441   \n",
      "0           4    3.686544             0.877157         2.725668   \n",
      "0           5    1.955835             1.295966         3.891353   \n",
      "0           6    1.266481             1.981321         7.321833   \n",
      "0           7    1.181953             1.201436         6.811962   \n",
      "0           8    1.224543             2.140287         5.516962   \n",
      "0           9    0.747079             2.119511         4.732377   \n",
      "0          10    0.013370             1.230930         7.175666   \n",
      "0          11    2.584699             6.024177         5.526992   \n",
      "0          12    2.217778             0.864342         6.736996   \n",
      "0          13    3.701993             1.187208         4.976359   \n",
      "0          14    1.443753             0.780374         5.371791   \n",
      "\n",
      "   Non-decision Time    SAT         BIC  \n",
      "0           0.100287  speed -336.426820  \n",
      "0           0.332031  speed -204.025643  \n",
      "0           0.101900  speed  347.036818  \n",
      "0           0.308619  speed -148.274637  \n",
      "0           0.187467  speed  -72.540873  \n",
      "0           0.180194  speed -170.914545  \n",
      "0           0.180232  speed -272.990157  \n",
      "0           0.100805  speed  -15.403057  \n",
      "0           0.100806  speed  112.743483  \n",
      "0           0.100625  speed   43.273768  \n",
      "0           0.109210  speed  -56.673824  \n",
      "0           0.295618  speed -463.378821  \n",
      "0           0.259804  speed -437.167115  \n",
      "0           0.218580  speed -229.973520  \n",
      "speed14\n"
     ]
    },
    {
     "name": "stderr",
     "output_type": "stream",
     "text": [
      "Info: Params [0.31686067 7.95047771 5.14258796 0.10037777] gave -39.18473014471603\n"
     ]
    },
    {
     "name": "stdout",
     "output_type": "stream",
     "text": [
      "  Participant  Drift Rate  Boundary Separation  Self-excitation  \\\n",
      "0           1    0.157788             4.490525         9.090643   \n",
      "0           2    2.029850             0.687737         3.462425   \n",
      "0           3    0.000000             1.346550         2.191441   \n",
      "0           4    3.686544             0.877157         2.725668   \n",
      "0           5    1.955835             1.295966         3.891353   \n",
      "0           6    1.266481             1.981321         7.321833   \n",
      "0           7    1.181953             1.201436         6.811962   \n",
      "0           8    1.224543             2.140287         5.516962   \n",
      "0           9    0.747079             2.119511         4.732377   \n",
      "0          10    0.013370             1.230930         7.175666   \n",
      "0          11    2.584699             6.024177         5.526992   \n",
      "0          12    2.217778             0.864342         6.736996   \n",
      "0          13    3.701993             1.187208         4.976359   \n",
      "0          14    1.443753             0.780374         5.371791   \n",
      "0          15    0.316861             5.142588         7.950478   \n",
      "\n",
      "   Non-decision Time    SAT         BIC  \n",
      "0           0.100287  speed -336.426820  \n",
      "0           0.332031  speed -204.025643  \n",
      "0           0.101900  speed  347.036818  \n",
      "0           0.308619  speed -148.274637  \n",
      "0           0.187467  speed  -72.540873  \n",
      "0           0.180194  speed -170.914545  \n",
      "0           0.180232  speed -272.990157  \n",
      "0           0.100805  speed  -15.403057  \n",
      "0           0.100806  speed  112.743483  \n",
      "0           0.100625  speed   43.273768  \n",
      "0           0.109210  speed  -56.673824  \n",
      "0           0.295618  speed -463.378821  \n",
      "0           0.259804  speed -437.167115  \n",
      "0           0.218580  speed -229.973520  \n",
      "0           0.100378  speed  -39.184730  \n",
      "speed15\n"
     ]
    },
    {
     "name": "stderr",
     "output_type": "stream",
     "text": [
      "Info: Params [2.69970989 5.41904111 0.87635061 0.3091061 ] gave -261.29785625643564\n"
     ]
    },
    {
     "name": "stdout",
     "output_type": "stream",
     "text": [
      "  Participant  Drift Rate  Boundary Separation  Self-excitation  \\\n",
      "0           1    0.157788             4.490525         9.090643   \n",
      "0           2    2.029850             0.687737         3.462425   \n",
      "0           3    0.000000             1.346550         2.191441   \n",
      "0           4    3.686544             0.877157         2.725668   \n",
      "0           5    1.955835             1.295966         3.891353   \n",
      "0           6    1.266481             1.981321         7.321833   \n",
      "0           7    1.181953             1.201436         6.811962   \n",
      "0           8    1.224543             2.140287         5.516962   \n",
      "0           9    0.747079             2.119511         4.732377   \n",
      "0          10    0.013370             1.230930         7.175666   \n",
      "0          11    2.584699             6.024177         5.526992   \n",
      "0          12    2.217778             0.864342         6.736996   \n",
      "0          13    3.701993             1.187208         4.976359   \n",
      "0          14    1.443753             0.780374         5.371791   \n",
      "0          15    0.316861             5.142588         7.950478   \n",
      "0          16    2.699710             0.876351         5.419041   \n",
      "\n",
      "   Non-decision Time    SAT         BIC  \n",
      "0           0.100287  speed -336.426820  \n",
      "0           0.332031  speed -204.025643  \n",
      "0           0.101900  speed  347.036818  \n",
      "0           0.308619  speed -148.274637  \n",
      "0           0.187467  speed  -72.540873  \n",
      "0           0.180194  speed -170.914545  \n",
      "0           0.180232  speed -272.990157  \n",
      "0           0.100805  speed  -15.403057  \n",
      "0           0.100806  speed  112.743483  \n",
      "0           0.100625  speed   43.273768  \n",
      "0           0.109210  speed  -56.673824  \n",
      "0           0.295618  speed -463.378821  \n",
      "0           0.259804  speed -437.167115  \n",
      "0           0.218580  speed -229.973520  \n",
      "0           0.100378  speed  -39.184730  \n",
      "0           0.309106  speed -261.297856  \n",
      "speed16\n"
     ]
    },
    {
     "name": "stderr",
     "output_type": "stream",
     "text": [
      "Info: Params [0.46131326 5.63276513 1.30656988 0.10075128] gave 311.95190210348903\n"
     ]
    },
    {
     "name": "stdout",
     "output_type": "stream",
     "text": [
      "  Participant  Drift Rate  Boundary Separation  Self-excitation  \\\n",
      "0           1    0.157788             4.490525         9.090643   \n",
      "0           2    2.029850             0.687737         3.462425   \n",
      "0           3    0.000000             1.346550         2.191441   \n",
      "0           4    3.686544             0.877157         2.725668   \n",
      "0           5    1.955835             1.295966         3.891353   \n",
      "0           6    1.266481             1.981321         7.321833   \n",
      "0           7    1.181953             1.201436         6.811962   \n",
      "0           8    1.224543             2.140287         5.516962   \n",
      "0           9    0.747079             2.119511         4.732377   \n",
      "0          10    0.013370             1.230930         7.175666   \n",
      "0          11    2.584699             6.024177         5.526992   \n",
      "0          12    2.217778             0.864342         6.736996   \n",
      "0          13    3.701993             1.187208         4.976359   \n",
      "0          14    1.443753             0.780374         5.371791   \n",
      "0          15    0.316861             5.142588         7.950478   \n",
      "0          16    2.699710             0.876351         5.419041   \n",
      "0          17    0.461313             1.306570         5.632765   \n",
      "\n",
      "   Non-decision Time    SAT         BIC  \n",
      "0           0.100287  speed -336.426820  \n",
      "0           0.332031  speed -204.025643  \n",
      "0           0.101900  speed  347.036818  \n",
      "0           0.308619  speed -148.274637  \n",
      "0           0.187467  speed  -72.540873  \n",
      "0           0.180194  speed -170.914545  \n",
      "0           0.180232  speed -272.990157  \n",
      "0           0.100805  speed  -15.403057  \n",
      "0           0.100806  speed  112.743483  \n",
      "0           0.100625  speed   43.273768  \n",
      "0           0.109210  speed  -56.673824  \n",
      "0           0.295618  speed -463.378821  \n",
      "0           0.259804  speed -437.167115  \n",
      "0           0.218580  speed -229.973520  \n",
      "0           0.100378  speed  -39.184730  \n",
      "0           0.309106  speed -261.297856  \n",
      "0           0.100751  speed  311.951902  \n",
      "speed17\n"
     ]
    },
    {
     "name": "stderr",
     "output_type": "stream",
     "text": [
      "Info: Params [2.64069044 7.12901404 1.05493195 0.23321263] gave -639.5237046551879\n"
     ]
    },
    {
     "name": "stdout",
     "output_type": "stream",
     "text": [
      "  Participant  Drift Rate  Boundary Separation  Self-excitation  \\\n",
      "0           1    0.157788             4.490525         9.090643   \n",
      "0           2    2.029850             0.687737         3.462425   \n",
      "0           3    0.000000             1.346550         2.191441   \n",
      "0           4    3.686544             0.877157         2.725668   \n",
      "0           5    1.955835             1.295966         3.891353   \n",
      "0           6    1.266481             1.981321         7.321833   \n",
      "0           7    1.181953             1.201436         6.811962   \n",
      "0           8    1.224543             2.140287         5.516962   \n",
      "0           9    0.747079             2.119511         4.732377   \n",
      "0          10    0.013370             1.230930         7.175666   \n",
      "0          11    2.584699             6.024177         5.526992   \n",
      "0          12    2.217778             0.864342         6.736996   \n",
      "0          13    3.701993             1.187208         4.976359   \n",
      "0          14    1.443753             0.780374         5.371791   \n",
      "0          15    0.316861             5.142588         7.950478   \n",
      "0          16    2.699710             0.876351         5.419041   \n",
      "0          17    0.461313             1.306570         5.632765   \n",
      "0          18    2.640690             1.054932         7.129014   \n",
      "\n",
      "   Non-decision Time    SAT         BIC  \n",
      "0           0.100287  speed -336.426820  \n",
      "0           0.332031  speed -204.025643  \n",
      "0           0.101900  speed  347.036818  \n",
      "0           0.308619  speed -148.274637  \n",
      "0           0.187467  speed  -72.540873  \n",
      "0           0.180194  speed -170.914545  \n",
      "0           0.180232  speed -272.990157  \n",
      "0           0.100805  speed  -15.403057  \n",
      "0           0.100806  speed  112.743483  \n",
      "0           0.100625  speed   43.273768  \n",
      "0           0.109210  speed  -56.673824  \n",
      "0           0.295618  speed -463.378821  \n",
      "0           0.259804  speed -437.167115  \n",
      "0           0.218580  speed -229.973520  \n",
      "0           0.100378  speed  -39.184730  \n",
      "0           0.309106  speed -261.297856  \n",
      "0           0.100751  speed  311.951902  \n",
      "0           0.233213  speed -639.523705  \n",
      "speed18\n"
     ]
    }
   ],
   "source": [
    "    \n",
    "df_all = pd.DataFrame(columns = ['Participant', 'Drift Rate', 'Boundary Separation', 'Self-excitation', 'Non-decision Time','SAT','BIC'])\n",
    "for SAT in SAT_conds:\n",
    "    for i in range(sample_size):\n",
    "        print(SAT+str(i))\n",
    "        path = os.path.join(data_dir+str(i+1)+\".csv\")\n",
    "        df = pd.read_csv(path, sep = \",\")\n",
    "        df = df[df[\"Cond\"]==SAT] # A condition\n",
    "        df = df[df[\"Time\"]<3]\n",
    "\n",
    "        data_sub = np.stack((np.array((df[\"Time\"])), np.array((df[\"Correct\"]))), axis = 1)\n",
    "        samp = Sample.from_numpy_array(data_sub, column_names = [])\n",
    "\n",
    "        df = get_OUM_result_sub(samp, sample_size, SAT)\n",
    "\n",
    "        df_all = pd.concat((df_all,df))\n",
    "        print(df_all)\n",
    "df_OUM = df_all.copy()"
   ]
  },
  {
   "cell_type": "code",
   "execution_count": 6,
   "id": "2b9242cf",
   "metadata": {},
   "outputs": [],
   "source": [
    "df_OUM.to_csv(\"OUMresultDutilh2013.csv\")"
   ]
  },
  {
   "cell_type": "code",
   "execution_count": null,
   "id": "4379160a",
   "metadata": {},
   "outputs": [],
   "source": []
  }
 ],
 "metadata": {
  "kernelspec": {
   "display_name": "Python 3 (ipykernel)",
   "language": "python",
   "name": "python3"
  },
  "language_info": {
   "codemirror_mode": {
    "name": "ipython",
    "version": 3
   },
   "file_extension": ".py",
   "mimetype": "text/x-python",
   "name": "python",
   "nbconvert_exporter": "python",
   "pygments_lexer": "ipython3",
   "version": "3.7.15"
  }
 },
 "nbformat": 4,
 "nbformat_minor": 5
}
