{
 "cells": [
  {
   "cell_type": "code",
   "execution_count": 1,
   "id": "2cda49de",
   "metadata": {},
   "outputs": [],
   "source": [
    "%run SAT_help_functions.ipynb"
   ]
  },
  {
   "cell_type": "code",
   "execution_count": null,
   "id": "bc081cf9",
   "metadata": {},
   "outputs": [],
   "source": []
  },
  {
   "cell_type": "markdown",
   "id": "4bd26666",
   "metadata": {},
   "source": [
    "## OUM"
   ]
  },
  {
   "cell_type": "code",
   "execution_count": null,
   "id": "9ef6c434",
   "metadata": {},
   "outputs": [],
   "source": []
  },
  {
   "cell_type": "code",
   "execution_count": 4,
   "id": "e776257c",
   "metadata": {},
   "outputs": [],
   "source": [
    "data_dir = \"/Users/wangjiashun/Desktop/Reserach on SAT/datasets/Evans2021/Evans2017/dataBySubject/sub\"\n",
    "sample_size = 47\n",
    "SAT_conds = [\"Speed\", \"Accuracy\"]"
   ]
  },
  {
   "cell_type": "code",
   "execution_count": 2,
   "id": "f434220f",
   "metadata": {},
   "outputs": [],
   "source": [
    "class BoundSpeedAcc(Bound):\n",
    "    name = \"BoundSpeedAcc\"\n",
    "    required_parameters = [\"Bspeed\", \"Bacc\"]\n",
    "    required_conditions = ['Cond']\n",
    "    def get_bound(self, conditions, *args, **kwargs):\n",
    "        assert self.Bacc > 0\n",
    "        assert self.Bspeed > 0\n",
    "        if conditions['Cond'] == 'Speed':\n",
    "            return self.Bspeed\n",
    "        elif conditions['Cond'] == 'Accuracy':\n",
    "            return self.Bacc\n",
    "        else:\n",
    "            print(\"Non-implemented SAT conditions\")"
   ]
  },
  {
   "cell_type": "code",
   "execution_count": null,
   "id": "bbb278a6",
   "metadata": {},
   "outputs": [],
   "source": []
  },
  {
   "cell_type": "code",
   "execution_count": 3,
   "id": "6e5e0074",
   "metadata": {},
   "outputs": [],
   "source": [
    "\n",
    "class NondecisionSpeedAcc(OverlayNonDecision):\n",
    "    name = \"DriftSpeedAcc\"\n",
    "    required_parameters = [\"tSpeed\", 'tAcc']\n",
    "    required_conditions = ['Cond']\n",
    "        \n",
    "    def get_nondecision_time(self, conditions, **kwargs):\n",
    "        if conditions['Cond'] == 'Speed':\n",
    "            return self.tSpeed \n",
    "        elif conditions['Cond'] == 'Accuracy':\n",
    "            return self.tAcc\n",
    "        else: \n",
    "            print(\"Non-implemented SAT conditions\")"
   ]
  },
  {
   "cell_type": "code",
   "execution_count": null,
   "id": "b1e0fe9b",
   "metadata": {},
   "outputs": [],
   "source": []
  },
  {
   "cell_type": "code",
   "execution_count": null,
   "id": "81235d16",
   "metadata": {},
   "outputs": [],
   "source": []
  },
  {
   "cell_type": "code",
   "execution_count": null,
   "id": "8a3f5185",
   "metadata": {},
   "outputs": [],
   "source": []
  },
  {
   "cell_type": "code",
   "execution_count": 5,
   "id": "fdb13001",
   "metadata": {
    "scrolled": true
   },
   "outputs": [
    {
     "name": "stdout",
     "output_type": "stream",
     "text": [
      "0\n"
     ]
    },
    {
     "name": "stderr",
     "output_type": "stream",
     "text": [
      "Info: Params [0.88948393 1.07914173 0.59451358 0.98911601 0.31864081 0.36915168] gave 416.40766601160425\n"
     ]
    },
    {
     "name": "stdout",
     "output_type": "stream",
     "text": [
      "   Drift Rate         x  Boundary Separation Speed      Bacc  \\\n",
      "0    0.889484  1.079142                   0.594514  0.989116   \n",
      "\n",
      "   Non-decision Time Speed  Non-decision Time Accuracy         BIC  \n",
      "0                 0.318641                    0.369152  416.407666  \n",
      "1\n"
     ]
    },
    {
     "name": "stderr",
     "output_type": "stream",
     "text": [
      "Info: Params [1.93406423 2.00365772 0.65405832 1.67636274 0.42119085 0.43510234] gave -64.82211677253488\n"
     ]
    },
    {
     "name": "stdout",
     "output_type": "stream",
     "text": [
      "   Drift Rate         x  Boundary Separation Speed      Bacc  \\\n",
      "0    1.934064  2.003658                   0.654058  1.676363   \n",
      "\n",
      "   Non-decision Time Speed  Non-decision Time Accuracy        BIC  \n",
      "0                 0.421191                    0.435102 -64.822117  \n",
      "2\n"
     ]
    },
    {
     "name": "stderr",
     "output_type": "stream",
     "text": [
      "Info: Params [1.35745938 3.91002314 1.10601496 1.45111928 0.18378789 0.27791643] gave 126.05941840741883\n"
     ]
    },
    {
     "name": "stdout",
     "output_type": "stream",
     "text": [
      "   Drift Rate         x  Boundary Separation Speed      Bacc  \\\n",
      "0    1.357459  3.910023                   1.106015  1.451119   \n",
      "\n",
      "   Non-decision Time Speed  Non-decision Time Accuracy         BIC  \n",
      "0                 0.183788                    0.277916  126.059418  \n",
      "3\n"
     ]
    },
    {
     "name": "stderr",
     "output_type": "stream",
     "text": [
      "Info: Params [1.65802451 0.41921437 0.82161115 7.21877447 0.4104878  0.10234588] gave 227.03350656216747\n"
     ]
    },
    {
     "name": "stdout",
     "output_type": "stream",
     "text": [
      "   Drift Rate         x  Boundary Separation Speed      Bacc  \\\n",
      "0    1.658025  0.419214                   0.821611  7.218774   \n",
      "\n",
      "   Non-decision Time Speed  Non-decision Time Accuracy         BIC  \n",
      "0                 0.410488                    0.102346  227.033507  \n",
      "4\n"
     ]
    },
    {
     "name": "stderr",
     "output_type": "stream",
     "text": [
      "Info: Params [1.32079933 2.54160278 0.76183792 1.70536864 0.32682197 0.27569153] gave 235.8945719687395\n"
     ]
    },
    {
     "name": "stdout",
     "output_type": "stream",
     "text": [
      "   Drift Rate         x  Boundary Separation Speed      Bacc  \\\n",
      "0    1.320799  2.541603                   0.761838  1.705369   \n",
      "\n",
      "   Non-decision Time Speed  Non-decision Time Accuracy         BIC  \n",
      "0                 0.326822                    0.275692  235.894572  \n",
      "5\n"
     ]
    },
    {
     "name": "stderr",
     "output_type": "stream",
     "text": [
      "Info: Params [1.2076754  1.890772   0.62044304 1.51437397 0.41868038 0.38285805] gave 299.6608119933783\n"
     ]
    },
    {
     "name": "stdout",
     "output_type": "stream",
     "text": [
      "   Drift Rate         x  Boundary Separation Speed      Bacc  \\\n",
      "0    1.207675  1.890772                   0.620443  1.514374   \n",
      "\n",
      "   Non-decision Time Speed  Non-decision Time Accuracy         BIC  \n",
      "0                  0.41868                    0.382858  299.660812  \n",
      "6\n"
     ]
    },
    {
     "name": "stderr",
     "output_type": "stream",
     "text": [
      "Info: Params [0.85263444 3.39034353 0.78010697 1.37523735 0.16777022 0.27246005] gave 345.30015918768805\n"
     ]
    },
    {
     "name": "stdout",
     "output_type": "stream",
     "text": [
      "   Drift Rate         x  Boundary Separation Speed      Bacc  \\\n",
      "0    0.852634  3.390344                   0.780107  1.375237   \n",
      "\n",
      "   Non-decision Time Speed  Non-decision Time Accuracy         BIC  \n",
      "0                  0.16777                     0.27246  345.300159  \n",
      "7\n"
     ]
    },
    {
     "name": "stderr",
     "output_type": "stream",
     "text": [
      "Info: Params [1.96343637 3.74756515 0.85984625 1.65225354 0.3907208  0.4445329 ] gave -133.67601603008757\n"
     ]
    },
    {
     "name": "stdout",
     "output_type": "stream",
     "text": [
      "   Drift Rate         x  Boundary Separation Speed      Bacc  \\\n",
      "0    1.963436  3.747565                   0.859846  1.652254   \n",
      "\n",
      "   Non-decision Time Speed  Non-decision Time Accuracy         BIC  \n",
      "0                 0.390721                    0.444533 -133.676016  \n",
      "8\n"
     ]
    },
    {
     "name": "stderr",
     "output_type": "stream",
     "text": [
      "Info: Params [1.86586127 2.27655477 0.97893306 4.29893538 0.42491799 0.10995453] gave 74.63864640479792\n"
     ]
    },
    {
     "name": "stdout",
     "output_type": "stream",
     "text": [
      "   Drift Rate         x  Boundary Separation Speed      Bacc  \\\n",
      "0    1.865861  2.276555                   0.978933  4.298935   \n",
      "\n",
      "   Non-decision Time Speed  Non-decision Time Accuracy        BIC  \n",
      "0                 0.424918                    0.109955  74.638646  \n",
      "9\n"
     ]
    },
    {
     "name": "stderr",
     "output_type": "stream",
     "text": [
      "Info: Params [0.59526894 1.98320389 0.85636374 1.56129979 0.34081304 0.26103669] gave 713.0966879610907\n"
     ]
    },
    {
     "name": "stdout",
     "output_type": "stream",
     "text": [
      "   Drift Rate         x  Boundary Separation Speed    Bacc  \\\n",
      "0    0.595269  1.983204                   0.856364  1.5613   \n",
      "\n",
      "   Non-decision Time Speed  Non-decision Time Accuracy         BIC  \n",
      "0                 0.340813                    0.261037  713.096688  \n",
      "10\n"
     ]
    },
    {
     "name": "stderr",
     "output_type": "stream",
     "text": [
      "Info: Params [0.6021241  1.5863678  0.66941654 2.17663877 0.41041608 0.23263826] gave 689.8559672606584\n"
     ]
    },
    {
     "name": "stdout",
     "output_type": "stream",
     "text": [
      "   Drift Rate         x  Boundary Separation Speed      Bacc  \\\n",
      "0    0.602124  1.586368                   0.669417  2.176639   \n",
      "\n",
      "   Non-decision Time Speed  Non-decision Time Accuracy         BIC  \n",
      "0                 0.410416                    0.232638  689.855967  \n",
      "11\n"
     ]
    },
    {
     "name": "stderr",
     "output_type": "stream",
     "text": [
      "Info: Params [0.92583622 1.26123971 0.75857323 1.27414274 0.20723149 0.39984636] gave 564.4458484301131\n"
     ]
    },
    {
     "name": "stdout",
     "output_type": "stream",
     "text": [
      "   Drift Rate        x  Boundary Separation Speed      Bacc  \\\n",
      "0    0.925836  1.26124                   0.758573  1.274143   \n",
      "\n",
      "   Non-decision Time Speed  Non-decision Time Accuracy         BIC  \n",
      "0                 0.207231                    0.399846  564.445848  \n",
      "12\n"
     ]
    },
    {
     "name": "stderr",
     "output_type": "stream",
     "text": [
      "Info: Params [1.16844513 1.62024368 0.94219908 2.93556326 0.37495648 0.15903837] gave 483.0660419954093\n"
     ]
    },
    {
     "name": "stdout",
     "output_type": "stream",
     "text": [
      "   Drift Rate         x  Boundary Separation Speed      Bacc  \\\n",
      "0    1.168445  1.620244                   0.942199  2.935563   \n",
      "\n",
      "   Non-decision Time Speed  Non-decision Time Accuracy         BIC  \n",
      "0                 0.374956                    0.159038  483.066042  \n",
      "13\n"
     ]
    },
    {
     "name": "stderr",
     "output_type": "stream",
     "text": [
      "Info: Params [0.63650519 1.82572525 1.01186728 1.67508107 0.34743484 0.31803573] gave 786.7492287905704\n"
     ]
    },
    {
     "name": "stdout",
     "output_type": "stream",
     "text": [
      "   Drift Rate         x  Boundary Separation Speed      Bacc  \\\n",
      "0    0.636505  1.825725                   1.011867  1.675081   \n",
      "\n",
      "   Non-decision Time Speed  Non-decision Time Accuracy         BIC  \n",
      "0                 0.347435                    0.318036  786.749229  \n",
      "14\n"
     ]
    },
    {
     "name": "stderr",
     "output_type": "stream",
     "text": [
      "Info: Params [0.64275033 1.68697138 0.69772771 1.90330636 0.28299027 0.15615229] gave 732.4346325688747\n"
     ]
    },
    {
     "name": "stdout",
     "output_type": "stream",
     "text": [
      "   Drift Rate         x  Boundary Separation Speed      Bacc  \\\n",
      "0     0.64275  1.686971                   0.697728  1.903306   \n",
      "\n",
      "   Non-decision Time Speed  Non-decision Time Accuracy         BIC  \n",
      "0                  0.28299                    0.156152  732.434633  \n",
      "15\n"
     ]
    },
    {
     "name": "stderr",
     "output_type": "stream",
     "text": [
      "Info: Params [1.1670897  1.33088844 0.74501531 1.87140119 0.38161846 0.33654458] gave 475.625814001579\n"
     ]
    },
    {
     "name": "stdout",
     "output_type": "stream",
     "text": [
      "   Drift Rate         x  Boundary Separation Speed      Bacc  \\\n",
      "0     1.16709  1.330888                   0.745015  1.871401   \n",
      "\n",
      "   Non-decision Time Speed  Non-decision Time Accuracy         BIC  \n",
      "0                 0.381618                    0.336545  475.625814  \n",
      "16\n"
     ]
    },
    {
     "name": "stderr",
     "output_type": "stream",
     "text": [
      "Info: Params [1.19269392 1.16507724 0.88306496 1.43746986 0.34629095 0.27824715] gave 503.7715665899059\n"
     ]
    },
    {
     "name": "stdout",
     "output_type": "stream",
     "text": [
      "   Drift Rate         x  Boundary Separation Speed     Bacc  \\\n",
      "0    1.192694  1.165077                   0.883065  1.43747   \n",
      "\n",
      "   Non-decision Time Speed  Non-decision Time Accuracy         BIC  \n",
      "0                 0.346291                    0.278247  503.771567  \n",
      "17\n"
     ]
    },
    {
     "name": "stderr",
     "output_type": "stream",
     "text": [
      "Info: Params [0.84585659 2.03462826 0.63620425 1.39896152 0.36934416 0.33464488] gave 456.9872174113921\n"
     ]
    },
    {
     "name": "stdout",
     "output_type": "stream",
     "text": [
      "   Drift Rate         x  Boundary Separation Speed      Bacc  \\\n",
      "0    0.845857  2.034628                   0.636204  1.398962   \n",
      "\n",
      "   Non-decision Time Speed  Non-decision Time Accuracy         BIC  \n",
      "0                 0.369344                    0.334645  456.987217  \n",
      "18\n"
     ]
    },
    {
     "name": "stderr",
     "output_type": "stream",
     "text": [
      "Info: Params [1.01399358 2.67291686 0.92286364 2.37844668 0.32181934 0.16020513] gave 494.08905456807\n"
     ]
    },
    {
     "name": "stdout",
     "output_type": "stream",
     "text": [
      "   Drift Rate         x  Boundary Separation Speed      Bacc  \\\n",
      "0    1.013994  2.672917                   0.922864  2.378447   \n",
      "\n",
      "   Non-decision Time Speed  Non-decision Time Accuracy         BIC  \n",
      "0                 0.321819                    0.160205  494.089055  \n",
      "19\n"
     ]
    },
    {
     "name": "stderr",
     "output_type": "stream",
     "text": [
      "Info: Params [0.5173525  1.28571931 1.55486573 2.23818412 0.1025106  0.10817784] gave 987.9479532936324\n"
     ]
    },
    {
     "name": "stdout",
     "output_type": "stream",
     "text": [
      "   Drift Rate         x  Boundary Separation Speed      Bacc  \\\n",
      "0    0.517352  1.285719                   1.554866  2.238184   \n",
      "\n",
      "   Non-decision Time Speed  Non-decision Time Accuracy         BIC  \n",
      "0                 0.102511                    0.108178  987.947953  \n",
      "20\n"
     ]
    },
    {
     "name": "stderr",
     "output_type": "stream",
     "text": [
      "Info: Params [1.60221322 2.03086102 0.59518767 1.37513571 0.31982866 0.35095675] gave 33.41085814861096\n"
     ]
    },
    {
     "name": "stdout",
     "output_type": "stream",
     "text": [
      "   Drift Rate         x  Boundary Separation Speed      Bacc  \\\n",
      "0    1.602213  2.030861                   0.595188  1.375136   \n",
      "\n",
      "   Non-decision Time Speed  Non-decision Time Accuracy        BIC  \n",
      "0                 0.319829                    0.350957  33.410858  \n",
      "21\n"
     ]
    },
    {
     "name": "stderr",
     "output_type": "stream",
     "text": [
      "Info: Params [1.49703674 2.02126266 0.94271947 2.02535575 0.32324928 0.323683  ] gave 275.9293713541774\n"
     ]
    },
    {
     "name": "stdout",
     "output_type": "stream",
     "text": [
      "   Drift Rate         x  Boundary Separation Speed      Bacc  \\\n",
      "0    1.497037  2.021263                   0.942719  2.025356   \n",
      "\n",
      "   Non-decision Time Speed  Non-decision Time Accuracy         BIC  \n",
      "0                 0.323249                    0.323683  275.929371  \n",
      "22\n"
     ]
    },
    {
     "name": "stderr",
     "output_type": "stream",
     "text": [
      "Info: Params [0.90652253 1.99862292 0.92214469 2.37872003 0.33515817 0.20503159] gave 637.4079025456247\n"
     ]
    },
    {
     "name": "stdout",
     "output_type": "stream",
     "text": [
      "   Drift Rate         x  Boundary Separation Speed     Bacc  \\\n",
      "0    0.906523  1.998623                   0.922145  2.37872   \n",
      "\n",
      "   Non-decision Time Speed  Non-decision Time Accuracy         BIC  \n",
      "0                 0.335158                    0.205032  637.407903  \n",
      "23\n"
     ]
    },
    {
     "name": "stderr",
     "output_type": "stream",
     "text": [
      "Info: Params [0.87803999 1.34184486 0.95381366 2.05257865 0.44962038 0.43272474] gave 640.8696477149085\n"
     ]
    },
    {
     "name": "stdout",
     "output_type": "stream",
     "text": [
      "   Drift Rate         x  Boundary Separation Speed      Bacc  \\\n",
      "0     0.87804  1.341845                   0.953814  2.052579   \n",
      "\n",
      "   Non-decision Time Speed  Non-decision Time Accuracy         BIC  \n",
      "0                  0.44962                    0.432725  640.869648  \n",
      "24\n"
     ]
    },
    {
     "name": "stderr",
     "output_type": "stream",
     "text": [
      "Info: Params [1.13942449 2.65673235 1.98698521 3.34502005 0.19513962 0.15532969] gave 539.3190956595486\n"
     ]
    },
    {
     "name": "stdout",
     "output_type": "stream",
     "text": [
      "   Drift Rate         x  Boundary Separation Speed     Bacc  \\\n",
      "0    1.139424  2.656732                   1.986985  3.34502   \n",
      "\n",
      "   Non-decision Time Speed  Non-decision Time Accuracy         BIC  \n",
      "0                  0.19514                     0.15533  539.319096  \n",
      "25\n"
     ]
    },
    {
     "name": "stderr",
     "output_type": "stream",
     "text": [
      "Info: Params [1.49075222 1.78851171 0.69267693 2.17054062 0.46768173 0.3571685 ] gave 210.9129293433643\n"
     ]
    },
    {
     "name": "stdout",
     "output_type": "stream",
     "text": [
      "   Drift Rate         x  Boundary Separation Speed      Bacc  \\\n",
      "0    1.490752  1.788512                   0.692677  2.170541   \n",
      "\n",
      "   Non-decision Time Speed  Non-decision Time Accuracy         BIC  \n",
      "0                 0.467682                    0.357169  210.912929  \n",
      "26\n"
     ]
    },
    {
     "name": "stderr",
     "output_type": "stream",
     "text": [
      "Info: Params [1.05023248 2.33174681 0.50025683 2.42359272 0.33425626 0.4197766 ] gave 206.05932918390602\n"
     ]
    },
    {
     "name": "stdout",
     "output_type": "stream",
     "text": [
      "   Drift Rate         x  Boundary Separation Speed      Bacc  \\\n",
      "0    1.050232  2.331747                   0.500257  2.423593   \n",
      "\n",
      "   Non-decision Time Speed  Non-decision Time Accuracy         BIC  \n",
      "0                 0.334256                    0.419777  206.059329  \n",
      "27\n"
     ]
    },
    {
     "name": "stderr",
     "output_type": "stream",
     "text": [
      "Info: Params [1.58408283 2.6594627  0.61529744 1.42296348 0.43827595 0.46127912] gave 67.57816111215469\n"
     ]
    },
    {
     "name": "stdout",
     "output_type": "stream",
     "text": [
      "   Drift Rate         x  Boundary Separation Speed      Bacc  \\\n",
      "0    1.584083  2.659463                   0.615297  1.422963   \n",
      "\n",
      "   Non-decision Time Speed  Non-decision Time Accuracy        BIC  \n",
      "0                 0.438276                    0.461279  67.578161  \n",
      "28\n"
     ]
    },
    {
     "name": "stderr",
     "output_type": "stream",
     "text": [
      "Info: Params [1.87220961 3.85227439 0.72791838 1.53955764 0.31031091 0.41112902] gave -184.29256896045064\n"
     ]
    },
    {
     "name": "stdout",
     "output_type": "stream",
     "text": [
      "   Drift Rate         x  Boundary Separation Speed      Bacc  \\\n",
      "0     1.87221  3.852274                   0.727918  1.539558   \n",
      "\n",
      "   Non-decision Time Speed  Non-decision Time Accuracy         BIC  \n",
      "0                 0.310311                    0.411129 -184.292569  \n",
      "29\n"
     ]
    },
    {
     "name": "stderr",
     "output_type": "stream",
     "text": [
      "Info: Params [0.75446295 1.83507724 1.12167773 3.49971722 0.43561961 0.3108465 ] gave 757.6772047762221\n"
     ]
    },
    {
     "name": "stdout",
     "output_type": "stream",
     "text": [
      "   Drift Rate         x  Boundary Separation Speed      Bacc  \\\n",
      "0    0.754463  1.835077                   1.121678  3.499717   \n",
      "\n",
      "   Non-decision Time Speed  Non-decision Time Accuracy         BIC  \n",
      "0                  0.43562                    0.310847  757.677205  \n",
      "30\n"
     ]
    },
    {
     "name": "stderr",
     "output_type": "stream",
     "text": [
      "Info: Params [1.30058188 3.0885806  0.85517107 1.15864018 0.2736388  0.35937928] gave 204.3240835811523\n"
     ]
    },
    {
     "name": "stdout",
     "output_type": "stream",
     "text": [
      "   Drift Rate         x  Boundary Separation Speed     Bacc  \\\n",
      "0    1.300582  3.088581                   0.855171  1.15864   \n",
      "\n",
      "   Non-decision Time Speed  Non-decision Time Accuracy         BIC  \n",
      "0                 0.273639                    0.359379  204.324084  \n",
      "31\n"
     ]
    },
    {
     "name": "stderr",
     "output_type": "stream",
     "text": [
      "Info: Params [1.48498631 1.74846726 1.28898495 1.94737052 0.31932745 0.25268052] gave 415.47025825461424\n"
     ]
    },
    {
     "name": "stdout",
     "output_type": "stream",
     "text": [
      "   Drift Rate         x  Boundary Separation Speed      Bacc  \\\n",
      "0    1.484986  1.748467                   1.288985  1.947371   \n",
      "\n",
      "   Non-decision Time Speed  Non-decision Time Accuracy         BIC  \n",
      "0                 0.319327                    0.252681  415.470258  \n",
      "32\n"
     ]
    },
    {
     "name": "stderr",
     "output_type": "stream",
     "text": [
      "Info: Params [1.54546017 1.93370654 0.76192707 1.59198485 0.34192521 0.38354508] gave 204.7097832840152\n"
     ]
    },
    {
     "name": "stdout",
     "output_type": "stream",
     "text": [
      "   Drift Rate         x  Boundary Separation Speed      Bacc  \\\n",
      "0     1.54546  1.933707                   0.761927  1.591985   \n",
      "\n",
      "   Non-decision Time Speed  Non-decision Time Accuracy         BIC  \n",
      "0                 0.341925                    0.383545  204.709783  \n",
      "33\n"
     ]
    },
    {
     "name": "stderr",
     "output_type": "stream",
     "text": [
      "Info: Params [1.08433162 2.05349441 0.72012909 1.19523799 0.16416984 0.47338862] gave 340.08105267861026\n"
     ]
    },
    {
     "name": "stdout",
     "output_type": "stream",
     "text": [
      "   Drift Rate         x  Boundary Separation Speed      Bacc  \\\n",
      "0    1.084332  2.053494                   0.720129  1.195238   \n",
      "\n",
      "   Non-decision Time Speed  Non-decision Time Accuracy         BIC  \n",
      "0                  0.16417                    0.473389  340.081053  \n",
      "34\n"
     ]
    },
    {
     "name": "stderr",
     "output_type": "stream",
     "text": [
      "Info: Params [1.56099678 3.6929346  0.54548986 1.20104861 0.29949455 0.30057452] gave -112.35685464915242\n"
     ]
    },
    {
     "name": "stdout",
     "output_type": "stream",
     "text": [
      "   Drift Rate         x  Boundary Separation Speed      Bacc  \\\n",
      "0    1.560997  3.692935                    0.54549  1.201049   \n",
      "\n",
      "   Non-decision Time Speed  Non-decision Time Accuracy         BIC  \n",
      "0                 0.299495                    0.300575 -112.356855  \n",
      "35\n"
     ]
    },
    {
     "name": "stderr",
     "output_type": "stream",
     "text": [
      "Info: Params [1.32728348 2.98255206 0.50118071 1.51483572 0.40386529 0.42786317] gave 12.57505626720355\n"
     ]
    },
    {
     "name": "stdout",
     "output_type": "stream",
     "text": [
      "   Drift Rate         x  Boundary Separation Speed      Bacc  \\\n",
      "0    1.327283  2.982552                   0.501181  1.514836   \n",
      "\n",
      "   Non-decision Time Speed  Non-decision Time Accuracy        BIC  \n",
      "0                 0.403865                    0.427863  12.575056  \n",
      "36\n"
     ]
    },
    {
     "name": "stderr",
     "output_type": "stream",
     "text": [
      "Info: Params [1.20042989 1.73535952 0.96853419 1.53378527 0.27607528 0.28524993] gave 476.78956522240856\n"
     ]
    },
    {
     "name": "stdout",
     "output_type": "stream",
     "text": [
      "   Drift Rate        x  Boundary Separation Speed      Bacc  \\\n",
      "0     1.20043  1.73536                   0.968534  1.533785   \n",
      "\n",
      "   Non-decision Time Speed  Non-decision Time Accuracy         BIC  \n",
      "0                 0.276075                     0.28525  476.789565  \n",
      "37\n"
     ]
    },
    {
     "name": "stderr",
     "output_type": "stream",
     "text": [
      "Info: Params [1.74351751 4.22009193 0.67952851 2.34922386 0.28150114 0.2835917 ] gave -156.06881355131804\n"
     ]
    },
    {
     "name": "stdout",
     "output_type": "stream",
     "text": [
      "   Drift Rate         x  Boundary Separation Speed      Bacc  \\\n",
      "0    1.743518  4.220092                   0.679529  2.349224   \n",
      "\n",
      "   Non-decision Time Speed  Non-decision Time Accuracy         BIC  \n",
      "0                 0.281501                    0.283592 -156.068814  \n",
      "38\n"
     ]
    },
    {
     "name": "stderr",
     "output_type": "stream",
     "text": [
      "Info: Params [1.84558261 3.05236412 0.73535085 1.53067512 0.28652706 0.3866139 ] gave -90.35508948403383\n"
     ]
    },
    {
     "name": "stdout",
     "output_type": "stream",
     "text": [
      "   Drift Rate         x  Boundary Separation Speed      Bacc  \\\n",
      "0    1.845583  3.052364                   0.735351  1.530675   \n",
      "\n",
      "   Non-decision Time Speed  Non-decision Time Accuracy        BIC  \n",
      "0                 0.286527                    0.386614 -90.355089  \n",
      "39\n"
     ]
    },
    {
     "name": "stderr",
     "output_type": "stream",
     "text": [
      "Info: Params [0.78236706 0.91608394 0.69009117 2.73598588 0.33851852 0.13944248] gave 469.8811861810951\n"
     ]
    },
    {
     "name": "stdout",
     "output_type": "stream",
     "text": [
      "   Drift Rate         x  Boundary Separation Speed      Bacc  \\\n",
      "0    0.782367  0.916084                   0.690091  2.735986   \n",
      "\n",
      "   Non-decision Time Speed  Non-decision Time Accuracy         BIC  \n",
      "0                 0.338519                    0.139442  469.881186  \n",
      "40\n"
     ]
    },
    {
     "name": "stderr",
     "output_type": "stream",
     "text": [
      "Info: Params [1.5623319  1.77246276 0.84459485 2.08856274 0.30380256 0.35673217] gave 228.44433285549997\n"
     ]
    },
    {
     "name": "stdout",
     "output_type": "stream",
     "text": [
      "   Drift Rate         x  Boundary Separation Speed      Bacc  \\\n",
      "0    1.562332  1.772463                   0.844595  2.088563   \n",
      "\n",
      "   Non-decision Time Speed  Non-decision Time Accuracy         BIC  \n",
      "0                 0.303803                    0.356732  228.444333  \n",
      "41\n"
     ]
    },
    {
     "name": "stderr",
     "output_type": "stream",
     "text": [
      "Info: Params [1.35633376 1.6426114  0.62093449 1.85586977 0.32748819 0.22414679] gave 272.5419218469146\n"
     ]
    },
    {
     "name": "stdout",
     "output_type": "stream",
     "text": [
      "   Drift Rate         x  Boundary Separation Speed     Bacc  \\\n",
      "0    1.356334  1.642611                   0.620934  1.85587   \n",
      "\n",
      "   Non-decision Time Speed  Non-decision Time Accuracy         BIC  \n",
      "0                 0.327488                    0.224147  272.541922  \n",
      "42\n"
     ]
    },
    {
     "name": "stderr",
     "output_type": "stream",
     "text": [
      "Info: Params [1.11928452 2.76242835 0.92249829 1.77839415 0.32388558 0.30634092] gave 393.1831198638594\n"
     ]
    },
    {
     "name": "stdout",
     "output_type": "stream",
     "text": [
      "   Drift Rate         x  Boundary Separation Speed      Bacc  \\\n",
      "0    1.119285  2.762428                   0.922498  1.778394   \n",
      "\n",
      "   Non-decision Time Speed  Non-decision Time Accuracy        BIC  \n",
      "0                 0.323886                    0.306341  393.18312  \n",
      "43\n"
     ]
    },
    {
     "name": "stderr",
     "output_type": "stream",
     "text": [
      "Info: Params [0.72546944 1.52067782 0.8467084  2.33016203 0.2990404  0.10100656] gave 732.743788192759\n"
     ]
    },
    {
     "name": "stdout",
     "output_type": "stream",
     "text": [
      "   Drift Rate         x  Boundary Separation Speed      Bacc  \\\n",
      "0    0.725469  1.520678                   0.846708  2.330162   \n",
      "\n",
      "   Non-decision Time Speed  Non-decision Time Accuracy         BIC  \n",
      "0                  0.29904                    0.101007  732.743788  \n",
      "44\n"
     ]
    },
    {
     "name": "stderr",
     "output_type": "stream",
     "text": [
      "Info: Params [1.66459931 2.29525075 0.75167535 1.65565813 0.35827132 0.27709794] gave 139.2591659750429\n"
     ]
    },
    {
     "name": "stdout",
     "output_type": "stream",
     "text": [
      "   Drift Rate         x  Boundary Separation Speed      Bacc  \\\n",
      "0    1.664599  2.295251                   0.751675  1.655658   \n",
      "\n",
      "   Non-decision Time Speed  Non-decision Time Accuracy         BIC  \n",
      "0                 0.358271                    0.277098  139.259166  \n",
      "45\n"
     ]
    },
    {
     "name": "stderr",
     "output_type": "stream",
     "text": [
      "Info: Params [1.32534838 2.52485864 0.94882312 1.61773408 0.33973841 0.30736795] gave 327.8320967818268\n"
     ]
    },
    {
     "name": "stdout",
     "output_type": "stream",
     "text": [
      "   Drift Rate         x  Boundary Separation Speed      Bacc  \\\n",
      "0    1.325348  2.524859                   0.948823  1.617734   \n",
      "\n",
      "   Non-decision Time Speed  Non-decision Time Accuracy         BIC  \n",
      "0                 0.339738                    0.307368  327.832097  \n",
      "46\n"
     ]
    },
    {
     "name": "stderr",
     "output_type": "stream",
     "text": [
      "Info: Params [1.29697262 1.29994115 0.77983245 4.05133209 0.28987293 0.11425735] gave 396.36219995125873\n"
     ]
    },
    {
     "name": "stdout",
     "output_type": "stream",
     "text": [
      "   Drift Rate         x  Boundary Separation Speed      Bacc  \\\n",
      "0    1.296973  1.299941                   0.779832  4.051332   \n",
      "\n",
      "   Non-decision Time Speed  Non-decision Time Accuracy       BIC  \n",
      "0                 0.289873                    0.114257  396.3622  \n"
     ]
    }
   ],
   "source": [
    "df_all = pd.DataFrame()\n",
    "for i in range(sample_size):\n",
    "    print(i)\n",
    "    path = os.path.join(data_dir+str(i+1)+\".csv\")\n",
    "    df = pd.read_csv(path, sep = \",\")\n",
    "    #df = df[df[\"cond\"]==SAT] # A condition\n",
    "    df = df[df[\"Time\"]<3]\n",
    "\n",
    "    samp = Sample.from_pandas_dataframe(df, rt_column_name=\"Time\", correct_column_name=\"Correct\")\n",
    "    df = get_OUM_result_sub_2a2ter(samp)\n",
    "    df_all = pd.concat((df_all,df))\n",
    "    print(df)\n",
    "df_OUM = df_all.copy()\n"
   ]
  },
  {
   "cell_type": "code",
   "execution_count": 6,
   "id": "3b05a53a",
   "metadata": {},
   "outputs": [],
   "source": [
    "df_OUM.to_csv(\"OUM2a2terresultEvans2017.csv\")"
   ]
  },
  {
   "cell_type": "code",
   "execution_count": 7,
   "id": "87e8797e",
   "metadata": {},
   "outputs": [
    {
     "data": {
      "text/plain": [
       "337.33734988796357"
      ]
     },
     "execution_count": 7,
     "metadata": {},
     "output_type": "execute_result"
    }
   ],
   "source": [
    "df_OUM[\"BIC\"].mean()"
   ]
  },
  {
   "cell_type": "code",
   "execution_count": 9,
   "id": "66bb2313",
   "metadata": {},
   "outputs": [
    {
     "name": "stdout",
     "output_type": "stream",
     "text": [
      "0\n"
     ]
    },
    {
     "name": "stderr",
     "output_type": "stream",
     "text": [
      "Info: Params [0.86878087 5.0809155  1.02505007 0.99842546 0.27466252 0.36593055] gave 408.6662053567846\n"
     ]
    },
    {
     "name": "stdout",
     "output_type": "stream",
     "text": [
      "   Drift Rate  Self-excitation Speed  Self-excitation Accuracy  \\\n",
      "0    0.868781               5.080915                   1.02505   \n",
      "\n",
      "   Boundary Separation  Non-decision Time Speed  Non-decision Time Accuracy  \\\n",
      "0             0.998425                 0.274663                    0.365931   \n",
      "\n",
      "          BIC  \n",
      "0  408.666205  \n",
      "1\n"
     ]
    },
    {
     "name": "stderr",
     "output_type": "stream",
     "text": [
      "Info: Params [1.91405446 6.55699066 1.90986506 1.74295521 0.34124338 0.41861848] gave -86.4799811185172\n"
     ]
    },
    {
     "name": "stdout",
     "output_type": "stream",
     "text": [
      "   Drift Rate  Self-excitation Speed  Self-excitation Accuracy  \\\n",
      "0    1.914054               6.556991                  1.909865   \n",
      "\n",
      "   Boundary Separation  Non-decision Time Speed  Non-decision Time Accuracy  \\\n",
      "0             1.742955                 0.341243                    0.418618   \n",
      "\n",
      "         BIC  \n",
      "0 -86.479981  \n",
      "2\n"
     ]
    },
    {
     "name": "stderr",
     "output_type": "stream",
     "text": [
      "Info: Params [1.35534742 4.58755995 3.50771151 1.26251707 0.1769167  0.29403053] gave 122.64188211566997\n"
     ]
    },
    {
     "name": "stdout",
     "output_type": "stream",
     "text": [
      "   Drift Rate  Self-excitation Speed  Self-excitation Accuracy  \\\n",
      "0    1.355347                4.58756                  3.507712   \n",
      "\n",
      "   Boundary Separation  Non-decision Time Speed  Non-decision Time Accuracy  \\\n",
      "0             1.262517                 0.176917                    0.294031   \n",
      "\n",
      "          BIC  \n",
      "0  122.641882  \n",
      "3\n"
     ]
    },
    {
     "name": "stderr",
     "output_type": "stream",
     "text": [
      "Info: Params [1.72412581 3.26998416 0.11830617 3.96340564 0.10062112 0.55372186] gave 241.04493551394694\n"
     ]
    },
    {
     "name": "stdout",
     "output_type": "stream",
     "text": [
      "   Drift Rate  Self-excitation Speed  Self-excitation Accuracy  \\\n",
      "0    1.724126               3.269984                  0.118306   \n",
      "\n",
      "   Boundary Separation  Non-decision Time Speed  Non-decision Time Accuracy  \\\n",
      "0             3.963406                 0.100621                    0.553722   \n",
      "\n",
      "          BIC  \n",
      "0  241.044936  \n",
      "4\n"
     ]
    },
    {
     "name": "stderr",
     "output_type": "stream",
     "text": [
      "Info: Params [1.25536339 5.92223226 2.39797267 1.62157728 0.26560266 0.28443117] gave 208.59683897350692\n"
     ]
    },
    {
     "name": "stdout",
     "output_type": "stream",
     "text": [
      "   Drift Rate  Self-excitation Speed  Self-excitation Accuracy  \\\n",
      "0    1.255363               5.922232                  2.397973   \n",
      "\n",
      "   Boundary Separation  Non-decision Time Speed  Non-decision Time Accuracy  \\\n",
      "0             1.621577                 0.265603                    0.284431   \n",
      "\n",
      "          BIC  \n",
      "0  208.596839  \n",
      "5\n"
     ]
    },
    {
     "name": "stderr",
     "output_type": "stream",
     "text": [
      "Info: Params [1.18102631 5.11463477 1.21148077 1.12193414 0.36748423 0.4539007 ] gave 288.99815192709707\n"
     ]
    },
    {
     "name": "stdout",
     "output_type": "stream",
     "text": [
      "   Drift Rate  Self-excitation Speed  Self-excitation Accuracy  \\\n",
      "0    1.181026               5.114635                  1.211481   \n",
      "\n",
      "   Boundary Separation  Non-decision Time Speed  Non-decision Time Accuracy  \\\n",
      "0             1.121934                 0.367484                    0.453901   \n",
      "\n",
      "          BIC  \n",
      "0  288.998152  \n",
      "6\n"
     ]
    },
    {
     "name": "stderr",
     "output_type": "stream",
     "text": [
      "Info: Params [0.81429017 5.32733096 3.12788366 1.13844375 0.13381306 0.32073132] gave 337.0356312964885\n"
     ]
    },
    {
     "name": "stdout",
     "output_type": "stream",
     "text": [
      "   Drift Rate  Self-excitation Speed  Self-excitation Accuracy  \\\n",
      "0     0.81429               5.327331                  3.127884   \n",
      "\n",
      "   Boundary Separation  Non-decision Time Speed  Non-decision Time Accuracy  \\\n",
      "0             1.138444                 0.133813                    0.320731   \n",
      "\n",
      "          BIC  \n",
      "0  337.035631  \n",
      "7\n"
     ]
    },
    {
     "name": "stderr",
     "output_type": "stream",
     "text": [
      "Info: Params [1.92957586 5.62854309 3.45478159 1.33364016 0.35353436 0.47925339] gave -135.38232243545872\n"
     ]
    },
    {
     "name": "stdout",
     "output_type": "stream",
     "text": [
      "   Drift Rate  Self-excitation Speed  Self-excitation Accuracy  \\\n",
      "0    1.929576               5.628543                  3.454782   \n",
      "\n",
      "   Boundary Separation  Non-decision Time Speed  Non-decision Time Accuracy  \\\n",
      "0              1.33364                 0.353534                    0.479253   \n",
      "\n",
      "          BIC  \n",
      "0 -135.382322  \n",
      "8\n"
     ]
    },
    {
     "name": "stderr",
     "output_type": "stream",
     "text": [
      "Info: Params [1.83607028 4.53464843 2.17044603 3.7415048  0.22323175 0.14330591] gave 71.65046054085973\n"
     ]
    },
    {
     "name": "stdout",
     "output_type": "stream",
     "text": [
      "   Drift Rate  Self-excitation Speed  Self-excitation Accuracy  \\\n",
      "0     1.83607               4.534648                  2.170446   \n",
      "\n",
      "   Boundary Separation  Non-decision Time Speed  Non-decision Time Accuracy  \\\n",
      "0             3.741505                 0.223232                    0.143306   \n",
      "\n",
      "         BIC  \n",
      "0  71.650461  \n",
      "9\n"
     ]
    },
    {
     "name": "stderr",
     "output_type": "stream",
     "text": [
      "Info: Params [0.56897146 3.15654123 1.45265467 1.17782227 0.2905229  0.32873036] gave 720.2154019556822\n"
     ]
    },
    {
     "name": "stdout",
     "output_type": "stream",
     "text": [
      "   Drift Rate  Self-excitation Speed  Self-excitation Accuracy  \\\n",
      "0    0.568971               3.156541                  1.452655   \n",
      "\n",
      "   Boundary Separation  Non-decision Time Speed  Non-decision Time Accuracy  \\\n",
      "0             1.177822                 0.290523                     0.32873   \n",
      "\n",
      "          BIC  \n",
      "0  720.215402  \n",
      "10\n"
     ]
    },
    {
     "name": "stderr",
     "output_type": "stream",
     "text": [
      "Info: Params [0.57862667 4.16670812 0.84498954 1.24864686 0.32881834 0.42383946] gave 698.1491928821591\n"
     ]
    },
    {
     "name": "stdout",
     "output_type": "stream",
     "text": [
      "   Drift Rate  Self-excitation Speed  Self-excitation Accuracy  \\\n",
      "0    0.578627               4.166708                   0.84499   \n",
      "\n",
      "   Boundary Separation  Non-decision Time Speed  Non-decision Time Accuracy  \\\n",
      "0             1.248647                 0.328818                    0.423839   \n",
      "\n",
      "          BIC  \n",
      "0  698.149193  \n",
      "11\n"
     ]
    },
    {
     "name": "stderr",
     "output_type": "stream",
     "text": [
      "Info: Params [0.89950914 3.9359451  0.87137386 1.17515786 0.1725329  0.4098066 ] gave 537.5390902347215\n"
     ]
    },
    {
     "name": "stdout",
     "output_type": "stream",
     "text": [
      "   Drift Rate  Self-excitation Speed  Self-excitation Accuracy  \\\n",
      "0    0.899509               3.935945                  0.871374   \n",
      "\n",
      "   Boundary Separation  Non-decision Time Speed  Non-decision Time Accuracy  \\\n",
      "0             1.175158                 0.172533                    0.409807   \n",
      "\n",
      "         BIC  \n",
      "0  537.53909  \n",
      "12\n"
     ]
    },
    {
     "name": "stderr",
     "output_type": "stream",
     "text": [
      "Info: Params [1.12476432 3.71923609 1.40061541 1.92138284 0.26647438 0.33780417] gave 473.5738838182817\n"
     ]
    },
    {
     "name": "stdout",
     "output_type": "stream",
     "text": [
      "   Drift Rate  Self-excitation Speed  Self-excitation Accuracy  \\\n",
      "0    1.124764               3.719236                  1.400615   \n",
      "\n",
      "   Boundary Separation  Non-decision Time Speed  Non-decision Time Accuracy  \\\n",
      "0             1.921383                 0.266474                    0.337804   \n",
      "\n",
      "          BIC  \n",
      "0  473.573884  \n",
      "13\n"
     ]
    },
    {
     "name": "stderr",
     "output_type": "stream",
     "text": [
      "Info: Params [0.65341698 2.77057656 1.68348168 1.45334017 0.28622476 0.37343587] gave 782.840438386972\n"
     ]
    },
    {
     "name": "stdout",
     "output_type": "stream",
     "text": [
      "   Drift Rate  Self-excitation Speed  Self-excitation Accuracy  \\\n",
      "0    0.653417               2.770577                  1.683482   \n",
      "\n",
      "   Boundary Separation  Non-decision Time Speed  Non-decision Time Accuracy  \\\n",
      "0              1.45334                 0.286225                    0.373436   \n",
      "\n",
      "          BIC  \n",
      "0  782.840438  \n",
      "14\n"
     ]
    },
    {
     "name": "stderr",
     "output_type": "stream",
     "text": [
      "Info: Params [0.54742003 4.39518797 1.71091041 2.00422591 0.1000454  0.13667242] gave 663.5073119111138\n"
     ]
    },
    {
     "name": "stdout",
     "output_type": "stream",
     "text": [
      "   Drift Rate  Self-excitation Speed  Self-excitation Accuracy  \\\n",
      "0     0.54742               4.395188                   1.71091   \n",
      "\n",
      "   Boundary Separation  Non-decision Time Speed  Non-decision Time Accuracy  \\\n",
      "0             2.004226                 0.100045                    0.136672   \n",
      "\n",
      "          BIC  \n",
      "0  663.507312  \n",
      "15\n"
     ]
    },
    {
     "name": "stderr",
     "output_type": "stream",
     "text": [
      "Info: Params [1.1636093  3.73389473 0.54137269 1.25997246 0.31846251 0.44703813] gave 466.30331528603597\n"
     ]
    },
    {
     "name": "stdout",
     "output_type": "stream",
     "text": [
      "   Drift Rate  Self-excitation Speed  Self-excitation Accuracy  \\\n",
      "0    1.163609               3.733895                  0.541373   \n",
      "\n",
      "   Boundary Separation  Non-decision Time Speed  Non-decision Time Accuracy  \\\n",
      "0             1.259972                 0.318463                    0.447038   \n",
      "\n",
      "          BIC  \n",
      "0  466.303315  \n",
      "16\n"
     ]
    },
    {
     "name": "stderr",
     "output_type": "stream",
     "text": [
      "Info: Params [ 1.22816252  1.61303913 -1.37829528  0.87619596  0.35133546  0.39696947] gave 488.48167097600367\n"
     ]
    },
    {
     "name": "stdout",
     "output_type": "stream",
     "text": [
      "   Drift Rate  Self-excitation Speed  Self-excitation Accuracy  \\\n",
      "0    1.228163               1.613039                 -1.378295   \n",
      "\n",
      "   Boundary Separation  Non-decision Time Speed  Non-decision Time Accuracy  \\\n",
      "0             0.876196                 0.351335                    0.396969   \n",
      "\n",
      "          BIC  \n",
      "0  488.481671  \n",
      "17\n"
     ]
    },
    {
     "name": "stderr",
     "output_type": "stream",
     "text": [
      "Info: Params [0.86575297 5.52065183 1.78371664 1.22235444 0.31502207 0.3704663 ] gave 441.1760194812819\n"
     ]
    },
    {
     "name": "stdout",
     "output_type": "stream",
     "text": [
      "   Drift Rate  Self-excitation Speed  Self-excitation Accuracy  \\\n",
      "0    0.865753               5.520652                  1.783717   \n",
      "\n",
      "   Boundary Separation  Non-decision Time Speed  Non-decision Time Accuracy  \\\n",
      "0             1.222354                 0.315022                    0.370466   \n",
      "\n",
      "          BIC  \n",
      "0  441.176019  \n",
      "18\n"
     ]
    },
    {
     "name": "stderr",
     "output_type": "stream",
     "text": [
      "Info: Params [0.97884221 4.20489847 2.32775269 1.84608221 0.21729604 0.19713144] gave 501.1405416643543\n"
     ]
    },
    {
     "name": "stdout",
     "output_type": "stream",
     "text": [
      "   Drift Rate  Self-excitation Speed  Self-excitation Accuracy  \\\n",
      "0    0.978842               4.204898                  2.327753   \n",
      "\n",
      "   Boundary Separation  Non-decision Time Speed  Non-decision Time Accuracy  \\\n",
      "0             1.846082                 0.217296                    0.197131   \n",
      "\n",
      "          BIC  \n",
      "0  501.140542  \n",
      "19\n"
     ]
    },
    {
     "name": "stderr",
     "output_type": "stream",
     "text": [
      "Info: Params [0.50737556 1.67153339 1.02239372 1.78225025 0.10190199 0.1829109 ] gave 990.9951414841703\n"
     ]
    },
    {
     "name": "stdout",
     "output_type": "stream",
     "text": [
      "   Drift Rate  Self-excitation Speed  Self-excitation Accuracy  \\\n",
      "0    0.507376               1.671533                  1.022394   \n",
      "\n",
      "   Boundary Separation  Non-decision Time Speed  Non-decision Time Accuracy  \\\n",
      "0              1.78225                 0.101902                    0.182911   \n",
      "\n",
      "          BIC  \n",
      "0  990.995141  \n",
      "20\n"
     ]
    },
    {
     "name": "stderr",
     "output_type": "stream",
     "text": [
      "Info: Params [1.50486771 6.8490695  1.2138972  1.07621116 0.285796   0.38912848] gave 23.22283800321845\n"
     ]
    },
    {
     "name": "stdout",
     "output_type": "stream",
     "text": [
      "   Drift Rate  Self-excitation Speed  Self-excitation Accuracy  \\\n",
      "0    1.504868                6.84907                  1.213897   \n",
      "\n",
      "   Boundary Separation  Non-decision Time Speed  Non-decision Time Accuracy  \\\n",
      "0             1.076211                 0.285796                    0.389128   \n",
      "\n",
      "         BIC  \n",
      "0  23.222838  \n",
      "21\n"
     ]
    },
    {
     "name": "stderr",
     "output_type": "stream",
     "text": [
      "Info: Params [1.43603949 4.21406224 1.59082536 1.61380605 0.26765517 0.36401265] gave 261.348818991474\n"
     ]
    },
    {
     "name": "stdout",
     "output_type": "stream",
     "text": [
      "   Drift Rate  Self-excitation Speed  Self-excitation Accuracy  \\\n",
      "0    1.436039               4.214062                  1.590825   \n",
      "\n",
      "   Boundary Separation  Non-decision Time Speed  Non-decision Time Accuracy  \\\n",
      "0             1.613806                 0.267655                    0.364013   \n",
      "\n",
      "          BIC  \n",
      "0  261.348819  \n",
      "22\n"
     ]
    },
    {
     "name": "stderr",
     "output_type": "stream",
     "text": [
      "Info: Params [0.88067349 3.3798957  1.59105706 1.43303738 0.26310385 0.3782779 ] gave 633.7979539444103\n"
     ]
    },
    {
     "name": "stdout",
     "output_type": "stream",
     "text": [
      "   Drift Rate  Self-excitation Speed  Self-excitation Accuracy  \\\n",
      "0    0.880673               3.379896                  1.591057   \n",
      "\n",
      "   Boundary Separation  Non-decision Time Speed  Non-decision Time Accuracy  \\\n",
      "0             1.433037                 0.263104                    0.378278   \n",
      "\n",
      "          BIC  \n",
      "0  633.797954  \n",
      "23\n"
     ]
    },
    {
     "name": "stderr",
     "output_type": "stream",
     "text": [
      "Info: Params [0.89683541 3.46913561 1.30568344 2.36627583 0.29690167 0.36201804] gave 615.6277074408009\n"
     ]
    },
    {
     "name": "stdout",
     "output_type": "stream",
     "text": [
      "   Drift Rate  Self-excitation Speed  Self-excitation Accuracy  \\\n",
      "0    0.896835               3.469136                  1.305683   \n",
      "\n",
      "   Boundary Separation  Non-decision Time Speed  Non-decision Time Accuracy  \\\n",
      "0             2.366276                 0.296902                    0.362018   \n",
      "\n",
      "          BIC  \n",
      "0  615.627707  \n",
      "24\n"
     ]
    },
    {
     "name": "stderr",
     "output_type": "stream",
     "text": [
      "Info: Params [1.13810421 2.90750984 2.24836689 1.94136647 0.20885689 0.30942309] gave 528.9511779653776\n"
     ]
    },
    {
     "name": "stdout",
     "output_type": "stream",
     "text": [
      "   Drift Rate  Self-excitation Speed  Self-excitation Accuracy  \\\n",
      "0    1.138104                2.90751                  2.248367   \n",
      "\n",
      "   Boundary Separation  Non-decision Time Speed  Non-decision Time Accuracy  \\\n",
      "0             1.941366                 0.208857                    0.309423   \n",
      "\n",
      "          BIC  \n",
      "0  528.951178  \n",
      "25\n"
     ]
    },
    {
     "name": "stderr",
     "output_type": "stream",
     "text": [
      "Info: Params [1.45930573 6.64782379 1.71453029 2.06479495 0.38080859 0.37384081] gave 176.63854694350331\n"
     ]
    },
    {
     "name": "stdout",
     "output_type": "stream",
     "text": [
      "   Drift Rate  Self-excitation Speed  Self-excitation Accuracy  \\\n",
      "0    1.459306               6.647824                   1.71453   \n",
      "\n",
      "   Boundary Separation  Non-decision Time Speed  Non-decision Time Accuracy  \\\n",
      "0             2.064795                 0.380809                    0.373841   \n",
      "\n",
      "          BIC  \n",
      "0  176.638547  \n",
      "26\n"
     ]
    },
    {
     "name": "stderr",
     "output_type": "stream",
     "text": [
      "Info: Params [ 1.02215227 10.          2.07145763  1.90315926  0.24621966  0.47504884] gave 160.76754784238796\n"
     ]
    },
    {
     "name": "stdout",
     "output_type": "stream",
     "text": [
      "   Drift Rate  Self-excitation Speed  Self-excitation Accuracy  \\\n",
      "0    1.022152                   10.0                  2.071458   \n",
      "\n",
      "   Boundary Separation  Non-decision Time Speed  Non-decision Time Accuracy  \\\n",
      "0             1.903159                  0.24622                    0.475049   \n",
      "\n",
      "          BIC  \n",
      "0  160.767548  \n",
      "27\n"
     ]
    },
    {
     "name": "stderr",
     "output_type": "stream",
     "text": [
      "Info: Params [1.45792485 6.58245737 2.00047859 1.08066993 0.40021536 0.50862604] gave 65.22901206375671\n"
     ]
    },
    {
     "name": "stdout",
     "output_type": "stream",
     "text": [
      "   Drift Rate  Self-excitation Speed  Self-excitation Accuracy  \\\n",
      "0    1.457925               6.582457                  2.000479   \n",
      "\n",
      "   Boundary Separation  Non-decision Time Speed  Non-decision Time Accuracy  \\\n",
      "0              1.08067                 0.400215                    0.508626   \n",
      "\n",
      "         BIC  \n",
      "0  65.229012  \n",
      "28\n"
     ]
    },
    {
     "name": "stderr",
     "output_type": "stream",
     "text": [
      "Info: Params [1.79416899 7.46639425 3.80710252 1.39728083 0.26863937 0.42666159] gave -196.58797869949154\n"
     ]
    },
    {
     "name": "stdout",
     "output_type": "stream",
     "text": [
      "   Drift Rate  Self-excitation Speed  Self-excitation Accuracy  \\\n",
      "0    1.794169               7.466394                  3.807103   \n",
      "\n",
      "   Boundary Separation  Non-decision Time Speed  Non-decision Time Accuracy  \\\n",
      "0             1.397281                 0.268639                    0.426662   \n",
      "\n",
      "          BIC  \n",
      "0 -196.587979  \n",
      "29\n"
     ]
    },
    {
     "name": "stderr",
     "output_type": "stream",
     "text": [
      "Info: Params [0.72107161 1.52599403 0.09984212 1.00823331 0.45700563 0.74484503] gave 776.7179370455023\n"
     ]
    },
    {
     "name": "stdout",
     "output_type": "stream",
     "text": [
      "   Drift Rate  Self-excitation Speed  Self-excitation Accuracy  \\\n",
      "0    0.721072               1.525994                  0.099842   \n",
      "\n",
      "   Boundary Separation  Non-decision Time Speed  Non-decision Time Accuracy  \\\n",
      "0             1.008233                 0.457006                    0.744845   \n",
      "\n",
      "          BIC  \n",
      "0  776.717937  \n",
      "30\n"
     ]
    },
    {
     "name": "stderr",
     "output_type": "stream",
     "text": [
      "Info: Params [1.27821815 4.14396755 2.62886795 1.0366027  0.26035348 0.36911662] gave 202.4703356423043\n"
     ]
    },
    {
     "name": "stdout",
     "output_type": "stream",
     "text": [
      "   Drift Rate  Self-excitation Speed  Self-excitation Accuracy  \\\n",
      "0    1.278218               4.143968                  2.628868   \n",
      "\n",
      "   Boundary Separation  Non-decision Time Speed  Non-decision Time Accuracy  \\\n",
      "0             1.036603                 0.260353                    0.369117   \n",
      "\n",
      "          BIC  \n",
      "0  202.470336  \n",
      "31\n"
     ]
    },
    {
     "name": "stderr",
     "output_type": "stream",
     "text": [
      "Info: Params [1.49907391 2.45771051 1.40137909 1.60918001 0.28607566 0.30508827] gave 408.69865624216095\n"
     ]
    },
    {
     "name": "stdout",
     "output_type": "stream",
     "text": [
      "   Drift Rate  Self-excitation Speed  Self-excitation Accuracy  \\\n",
      "0    1.499074               2.457711                  1.401379   \n",
      "\n",
      "   Boundary Separation  Non-decision Time Speed  Non-decision Time Accuracy  \\\n",
      "0              1.60918                 0.286076                    0.305088   \n",
      "\n",
      "          BIC  \n",
      "0  408.698656  \n",
      "32\n"
     ]
    },
    {
     "name": "stderr",
     "output_type": "stream",
     "text": [
      "Info: Params [1.52551049 4.14749024 1.45654589 1.25496285 0.28702191 0.43424263] gave 206.61345346065025\n"
     ]
    },
    {
     "name": "stdout",
     "output_type": "stream",
     "text": [
      "   Drift Rate  Self-excitation Speed  Self-excitation Accuracy  \\\n",
      "0     1.52551                4.14749                  1.456546   \n",
      "\n",
      "   Boundary Separation  Non-decision Time Speed  Non-decision Time Accuracy  \\\n",
      "0             1.254963                 0.287022                    0.434243   \n",
      "\n",
      "          BIC  \n",
      "0  206.613453  \n",
      "33\n"
     ]
    },
    {
     "name": "stderr",
     "output_type": "stream",
     "text": [
      "Info: Params [1.15055883 6.61197839 2.02857666 1.59416823 0.12886665 0.38254268] gave 261.7116382280571\n"
     ]
    },
    {
     "name": "stdout",
     "output_type": "stream",
     "text": [
      "   Drift Rate  Self-excitation Speed  Self-excitation Accuracy  \\\n",
      "0    1.150559               6.611978                  2.028577   \n",
      "\n",
      "   Boundary Separation  Non-decision Time Speed  Non-decision Time Accuracy  \\\n",
      "0             1.594168                 0.128867                    0.382543   \n",
      "\n",
      "          BIC  \n",
      "0  261.711638  \n",
      "34\n"
     ]
    },
    {
     "name": "stderr",
     "output_type": "stream",
     "text": [
      "Info: Params [1.53384223 9.99338539 3.40084786 1.15580308 0.26558386 0.3015978 ] gave -140.09048675430392\n"
     ]
    },
    {
     "name": "stdout",
     "output_type": "stream",
     "text": [
      "   Drift Rate  Self-excitation Speed  Self-excitation Accuracy  \\\n",
      "0    1.533842               9.993385                  3.400848   \n",
      "\n",
      "   Boundary Separation  Non-decision Time Speed  Non-decision Time Accuracy  \\\n",
      "0             1.155803                 0.265584                    0.301598   \n",
      "\n",
      "          BIC  \n",
      "0 -140.090487  \n",
      "35\n"
     ]
    },
    {
     "name": "stderr",
     "output_type": "stream",
     "text": [
      "Info: Params [ 1.23872224 10.          2.62903286  1.28161972  0.3563058   0.45446451] gave -31.143762165901407\n"
     ]
    },
    {
     "name": "stdout",
     "output_type": "stream",
     "text": [
      "   Drift Rate  Self-excitation Speed  Self-excitation Accuracy  \\\n",
      "0    1.238722                   10.0                  2.629033   \n",
      "\n",
      "   Boundary Separation  Non-decision Time Speed  Non-decision Time Accuracy  \\\n",
      "0              1.28162                 0.356306                    0.454465   \n",
      "\n",
      "         BIC  \n",
      "0 -31.143762  \n",
      "36\n"
     ]
    },
    {
     "name": "stderr",
     "output_type": "stream",
     "text": [
      "Info: Params [1.27792036 3.30743648 1.5731712  1.49534412 0.22761252 0.30173891] gave 458.016599572506\n"
     ]
    },
    {
     "name": "stdout",
     "output_type": "stream",
     "text": [
      "   Drift Rate  Self-excitation Speed  Self-excitation Accuracy  \\\n",
      "0     1.27792               3.307436                  1.573171   \n",
      "\n",
      "   Boundary Separation  Non-decision Time Speed  Non-decision Time Accuracy  \\\n",
      "0             1.495344                 0.227613                    0.301739   \n",
      "\n",
      "        BIC  \n",
      "0  458.0166  \n",
      "37\n"
     ]
    },
    {
     "name": "stderr",
     "output_type": "stream",
     "text": [
      "Info: Params [1.61652721 9.25726782 3.47916238 1.42254374 0.24443351 0.35253506] gave -169.36964529791584\n"
     ]
    },
    {
     "name": "stdout",
     "output_type": "stream",
     "text": [
      "   Drift Rate  Self-excitation Speed  Self-excitation Accuracy  \\\n",
      "0    1.616527               9.257268                  3.479162   \n",
      "\n",
      "   Boundary Separation  Non-decision Time Speed  Non-decision Time Accuracy  \\\n",
      "0             1.422544                 0.244434                    0.352535   \n",
      "\n",
      "          BIC  \n",
      "0 -169.369645  \n",
      "38\n"
     ]
    },
    {
     "name": "stderr",
     "output_type": "stream",
     "text": [
      "Info: Params [1.75109799 6.85339474 2.51848005 1.25879885 0.26095238 0.41171477] gave -110.23893021585683\n"
     ]
    },
    {
     "name": "stdout",
     "output_type": "stream",
     "text": [
      "   Drift Rate  Self-excitation Speed  Self-excitation Accuracy  \\\n",
      "0    1.751098               6.853395                   2.51848   \n",
      "\n",
      "   Boundary Separation  Non-decision Time Speed  Non-decision Time Accuracy  \\\n",
      "0             1.258799                 0.260952                    0.411715   \n",
      "\n",
      "         BIC  \n",
      "0 -110.23893  \n",
      "39\n"
     ]
    },
    {
     "name": "stderr",
     "output_type": "stream",
     "text": [
      "Info: Params [0.77982186 5.20870546 0.74954118 2.03355025 0.22934518 0.33504317] gave 432.4635402078695\n"
     ]
    },
    {
     "name": "stdout",
     "output_type": "stream",
     "text": [
      "   Drift Rate  Self-excitation Speed  Self-excitation Accuracy  \\\n",
      "0    0.779822               5.208705                  0.749541   \n",
      "\n",
      "   Boundary Separation  Non-decision Time Speed  Non-decision Time Accuracy  \\\n",
      "0              2.03355                 0.229345                    0.335043   \n",
      "\n",
      "         BIC  \n",
      "0  432.46354  \n",
      "40\n"
     ]
    },
    {
     "name": "stderr",
     "output_type": "stream",
     "text": [
      "Info: Params [1.45331841 5.25569193 1.50566334 1.77191074 0.24605809 0.40107594] gave 190.56010319994772\n"
     ]
    },
    {
     "name": "stdout",
     "output_type": "stream",
     "text": [
      "   Drift Rate  Self-excitation Speed  Self-excitation Accuracy  \\\n",
      "0    1.453318               5.255692                  1.505663   \n",
      "\n",
      "   Boundary Separation  Non-decision Time Speed  Non-decision Time Accuracy  \\\n",
      "0             1.771911                 0.246058                    0.401076   \n",
      "\n",
      "          BIC  \n",
      "0  190.560103  \n",
      "41\n"
     ]
    },
    {
     "name": "stderr",
     "output_type": "stream",
     "text": [
      "Info: Params [1.21032735 6.22111325 1.00154856 1.2728614  0.27651023 0.32186346] gave 260.49708110730404\n"
     ]
    },
    {
     "name": "stdout",
     "output_type": "stream",
     "text": [
      "   Drift Rate  Self-excitation Speed  Self-excitation Accuracy  \\\n",
      "0    1.210327               6.221113                  1.001549   \n",
      "\n",
      "   Boundary Separation  Non-decision Time Speed  Non-decision Time Accuracy  \\\n",
      "0             1.272861                  0.27651                    0.321863   \n",
      "\n",
      "          BIC  \n",
      "0  260.497081  \n",
      "42\n"
     ]
    },
    {
     "name": "stderr",
     "output_type": "stream",
     "text": [
      "Info: Params [1.06193689 4.55175315 2.39228951 1.56107703 0.26441667 0.31638987] gave 375.3703803229455\n"
     ]
    },
    {
     "name": "stdout",
     "output_type": "stream",
     "text": [
      "   Drift Rate  Self-excitation Speed  Self-excitation Accuracy  \\\n",
      "0    1.061937               4.551753                   2.39229   \n",
      "\n",
      "   Boundary Separation  Non-decision Time Speed  Non-decision Time Accuracy  \\\n",
      "0             1.561077                 0.264417                     0.31639   \n",
      "\n",
      "         BIC  \n",
      "0  375.37038  \n",
      "43\n"
     ]
    },
    {
     "name": "stderr",
     "output_type": "stream",
     "text": [
      "Info: Params [0.6987815  3.97153464 1.43437025 2.24213753 0.15112085 0.10024909] gave 717.7562746474684\n"
     ]
    },
    {
     "name": "stdout",
     "output_type": "stream",
     "text": [
      "   Drift Rate  Self-excitation Speed  Self-excitation Accuracy  \\\n",
      "0    0.698781               3.971535                   1.43437   \n",
      "\n",
      "   Boundary Separation  Non-decision Time Speed  Non-decision Time Accuracy  \\\n",
      "0             2.242138                 0.151121                    0.100249   \n",
      "\n",
      "          BIC  \n",
      "0  717.756275  \n",
      "44\n"
     ]
    },
    {
     "name": "stderr",
     "output_type": "stream",
     "text": [
      "Info: Params [1.6260929  4.55574316 2.1806018  1.44777245 0.28140953 0.31028048] gave 148.0928036695609\n"
     ]
    },
    {
     "name": "stdout",
     "output_type": "stream",
     "text": [
      "   Drift Rate  Self-excitation Speed  Self-excitation Accuracy  \\\n",
      "0    1.626093               4.555743                  2.180602   \n",
      "\n",
      "   Boundary Separation  Non-decision Time Speed  Non-decision Time Accuracy  \\\n",
      "0             1.447772                  0.28141                     0.31028   \n",
      "\n",
      "          BIC  \n",
      "0  148.092804  \n",
      "45\n"
     ]
    },
    {
     "name": "stderr",
     "output_type": "stream",
     "text": [
      "Info: Params [1.27175716 3.81720561 2.18596697 1.35165635 0.29705929 0.33903176] gave 327.3615023646703\n"
     ]
    },
    {
     "name": "stdout",
     "output_type": "stream",
     "text": [
      "   Drift Rate  Self-excitation Speed  Self-excitation Accuracy  \\\n",
      "0    1.271757               3.817206                  2.185967   \n",
      "\n",
      "   Boundary Separation  Non-decision Time Speed  Non-decision Time Accuracy  \\\n",
      "0             1.351656                 0.297059                    0.339032   \n",
      "\n",
      "          BIC  \n",
      "0  327.361502  \n",
      "46\n"
     ]
    },
    {
     "name": "stderr",
     "output_type": "stream",
     "text": [
      "Info: Params [1.23497163 4.33972016 0.9851503  2.20882578 0.149841   0.37894978] gave 384.07874994357815\n"
     ]
    },
    {
     "name": "stdout",
     "output_type": "stream",
     "text": [
      "   Drift Rate  Self-excitation Speed  Self-excitation Accuracy  \\\n",
      "0    1.234972                4.33972                   0.98515   \n",
      "\n",
      "   Boundary Separation  Non-decision Time Speed  Non-decision Time Accuracy  \\\n",
      "0             2.208826                 0.149841                     0.37895   \n",
      "\n",
      "         BIC  \n",
      "0  384.07875  \n"
     ]
    }
   ],
   "source": [
    "%run Evans2017-OUM2k2ter-pyddm.ipynb"
   ]
  },
  {
   "cell_type": "code",
   "execution_count": 10,
   "id": "a15ac236",
   "metadata": {},
   "outputs": [
    {
     "name": "stdout",
     "output_type": "stream",
     "text": [
      "0\n"
     ]
    },
    {
     "name": "stderr",
     "output_type": "stream",
     "text": [
      "Info: Params [0.75435657 0.95765199 1.2433356  0.5959378  1.04425131 0.31815006\n",
      " 0.35858236] gave 420.6747018437495\n"
     ]
    },
    {
     "name": "stdout",
     "output_type": "stream",
     "text": [
      "   Drift Rate Speed  Drift Rate Accuracy  Self-excitation  \\\n",
      "0          0.754357             0.957652         1.243336   \n",
      "\n",
      "   Boundary Separation Speed      Bacc  Non-decision Time Speed  \\\n",
      "0                   0.595938  1.044251                  0.31815   \n",
      "\n",
      "   Non-decision Time Accuracy         BIC  \n",
      "0                    0.358582  420.674702  \n",
      "1\n"
     ]
    },
    {
     "name": "stderr",
     "output_type": "stream",
     "text": [
      "Info: Params [2.64647989 1.56904756 1.89554458 0.74105302 1.46172733 0.41546847\n",
      " 0.4505472 ] gave -81.79099113949839\n"
     ]
    },
    {
     "name": "stdout",
     "output_type": "stream",
     "text": [
      "   Drift Rate Speed  Drift Rate Accuracy  Self-excitation  \\\n",
      "0           2.64648             1.569048         1.895545   \n",
      "\n",
      "   Boundary Separation Speed      Bacc  Non-decision Time Speed  \\\n",
      "0                   0.741053  1.461727                 0.415468   \n",
      "\n",
      "   Non-decision Time Accuracy        BIC  \n",
      "0                    0.450547 -81.790991  \n",
      "2\n"
     ]
    },
    {
     "name": "stderr",
     "output_type": "stream",
     "text": [
      "Info: Params [1.18673088 1.55012383 4.05836658 1.16943694 1.46044153 0.17925111\n",
      " 0.28596002] gave 127.92394646611905\n"
     ]
    },
    {
     "name": "stdout",
     "output_type": "stream",
     "text": [
      "   Drift Rate Speed  Drift Rate Accuracy  Self-excitation  \\\n",
      "0          1.186731             1.550124         4.058367   \n",
      "\n",
      "   Boundary Separation Speed      Bacc  Non-decision Time Speed  \\\n",
      "0                   1.169437  1.460442                 0.179251   \n",
      "\n",
      "   Non-decision Time Accuracy         BIC  \n",
      "0                     0.28596  127.923946  \n",
      "3\n"
     ]
    },
    {
     "name": "stderr",
     "output_type": "stream",
     "text": [
      "Info: Params [ 1.54857234  3.06902779 -0.01738301  0.77642905  7.38966658  0.41486731\n",
      "  0.1159018 ] gave 222.93059356417004\n"
     ]
    },
    {
     "name": "stdout",
     "output_type": "stream",
     "text": [
      "   Drift Rate Speed  Drift Rate Accuracy  Self-excitation  \\\n",
      "0          1.548572             3.069028        -0.017383   \n",
      "\n",
      "   Boundary Separation Speed      Bacc  Non-decision Time Speed  \\\n",
      "0                   0.776429  7.389667                 0.414867   \n",
      "\n",
      "   Non-decision Time Accuracy         BIC  \n",
      "0                    0.115902  222.930594  \n",
      "4\n"
     ]
    },
    {
     "name": "stderr",
     "output_type": "stream",
     "text": [
      "Info: Params [1.79457475 1.09310523 2.55911069 0.81454029 1.67997947 0.32550305\n",
      " 0.27347693] gave 226.79817292575413\n"
     ]
    },
    {
     "name": "stdout",
     "output_type": "stream",
     "text": [
      "   Drift Rate Speed  Drift Rate Accuracy  Self-excitation  \\\n",
      "0          1.794575             1.093105         2.559111   \n",
      "\n",
      "   Boundary Separation Speed      Bacc  Non-decision Time Speed  \\\n",
      "0                    0.81454  1.679979                 0.325503   \n",
      "\n",
      "   Non-decision Time Accuracy         BIC  \n",
      "0                    0.273477  226.798173  \n",
      "5\n"
     ]
    },
    {
     "name": "stderr",
     "output_type": "stream",
     "text": [
      "Info: Params [1.40899726 1.1153518  1.85752882 0.62846516 1.44872711 0.41852859\n",
      " 0.39386181] gave 302.6902219074603\n"
     ]
    },
    {
     "name": "stdout",
     "output_type": "stream",
     "text": [
      "   Drift Rate Speed  Drift Rate Accuracy  Self-excitation  \\\n",
      "0          1.408997             1.115352         1.857529   \n",
      "\n",
      "   Boundary Separation Speed      Bacc  Non-decision Time Speed  \\\n",
      "0                   0.628465  1.448727                 0.418529   \n",
      "\n",
      "   Non-decision Time Accuracy         BIC  \n",
      "0                    0.393862  302.690222  \n",
      "6\n"
     ]
    },
    {
     "name": "stderr",
     "output_type": "stream",
     "text": [
      "Info: Params [0.60323956 1.08712498 3.60035318 0.79009005 1.43867594 0.16400763\n",
      " 0.28303357] gave 344.21846184923754\n"
     ]
    },
    {
     "name": "stdout",
     "output_type": "stream",
     "text": [
      "   Drift Rate Speed  Drift Rate Accuracy  Self-excitation  \\\n",
      "0           0.60324             1.087125         3.600353   \n",
      "\n",
      "   Boundary Separation Speed      Bacc  Non-decision Time Speed  \\\n",
      "0                    0.79009  1.438676                 0.164008   \n",
      "\n",
      "   Non-decision Time Accuracy         BIC  \n",
      "0                    0.283034  344.218462  \n",
      "7\n"
     ]
    },
    {
     "name": "stderr",
     "output_type": "stream",
     "text": [
      "Info: Params [1.84201753 2.09171064 3.80120503 0.84753715 1.694348   0.39277092\n",
      " 0.44633341] gave -129.0999631102169\n"
     ]
    },
    {
     "name": "stdout",
     "output_type": "stream",
     "text": [
      "   Drift Rate Speed  Drift Rate Accuracy  Self-excitation  \\\n",
      "0          1.842018             2.091711         3.801205   \n",
      "\n",
      "   Boundary Separation Speed      Bacc  Non-decision Time Speed  \\\n",
      "0                   0.847537  1.694348                 0.392771   \n",
      "\n",
      "   Non-decision Time Accuracy         BIC  \n",
      "0                    0.446333 -129.099963  \n",
      "8\n"
     ]
    },
    {
     "name": "stderr",
     "output_type": "stream",
     "text": [
      "Info: Params [1.94259295 1.82130038 2.31459787 0.99788436 4.31756008 0.42336704\n",
      " 0.11029441] gave 79.7029757747693\n"
     ]
    },
    {
     "name": "stdout",
     "output_type": "stream",
     "text": [
      "   Drift Rate Speed  Drift Rate Accuracy  Self-excitation  \\\n",
      "0          1.942593               1.8213         2.314598   \n",
      "\n",
      "   Boundary Separation Speed     Bacc  Non-decision Time Speed  \\\n",
      "0                   0.997884  4.31756                 0.423367   \n",
      "\n",
      "   Non-decision Time Accuracy        BIC  \n",
      "0                    0.110294  79.702976  \n",
      "9\n"
     ]
    },
    {
     "name": "stderr",
     "output_type": "stream",
     "text": [
      "Info: Params [0.74299721 0.49959261 2.23248839 0.86700443 2.3223691  0.3476429\n",
      " 0.13493009] gave 718.1045977304938\n"
     ]
    },
    {
     "name": "stdout",
     "output_type": "stream",
     "text": [
      "   Drift Rate Speed  Drift Rate Accuracy  Self-excitation  \\\n",
      "0          0.742997             0.499593         2.232488   \n",
      "\n",
      "   Boundary Separation Speed      Bacc  Non-decision Time Speed  \\\n",
      "0                   0.867004  2.322369                 0.347643   \n",
      "\n",
      "   Non-decision Time Accuracy         BIC  \n",
      "0                     0.13493  718.104598  \n",
      "10\n"
     ]
    },
    {
     "name": "stderr",
     "output_type": "stream",
     "text": [
      "Info: Params [0.95081076 0.48320847 1.64816237 0.72134034 2.75094401 0.40075169\n",
      " 0.11427694] gave 686.1446606762806\n"
     ]
    },
    {
     "name": "stdout",
     "output_type": "stream",
     "text": [
      "   Drift Rate Speed  Drift Rate Accuracy  Self-excitation  \\\n",
      "0          0.950811             0.483208         1.648162   \n",
      "\n",
      "   Boundary Separation Speed      Bacc  Non-decision Time Speed  \\\n",
      "0                    0.72134  2.750944                 0.400752   \n",
      "\n",
      "   Non-decision Time Accuracy         BIC  \n",
      "0                    0.114277  686.144661  \n",
      "11\n"
     ]
    },
    {
     "name": "stderr",
     "output_type": "stream",
     "text": [
      "Info: Params [0.89505159 0.93490612 1.16478523 0.74687441 1.24849359 0.21245853\n",
      " 0.39431803] gave 570.9825772222622\n"
     ]
    },
    {
     "name": "stdout",
     "output_type": "stream",
     "text": [
      "   Drift Rate Speed  Drift Rate Accuracy  Self-excitation  \\\n",
      "0          0.895052             0.934906         1.164785   \n",
      "\n",
      "   Boundary Separation Speed      Bacc  Non-decision Time Speed  \\\n",
      "0                   0.746874  1.248494                 0.212459   \n",
      "\n",
      "   Non-decision Time Accuracy         BIC  \n",
      "0                    0.394318  570.982577  \n",
      "12\n"
     ]
    },
    {
     "name": "stderr",
     "output_type": "stream",
     "text": [
      "Info: Params [1.50233188 0.97311935 1.6082394  0.94273595 2.54908566 0.38188838\n",
      " 0.21595989] gave 476.18833790627104\n"
     ]
    },
    {
     "name": "stdout",
     "output_type": "stream",
     "text": [
      "   Drift Rate Speed  Drift Rate Accuracy  Self-excitation  \\\n",
      "0          1.502332             0.973119         1.608239   \n",
      "\n",
      "   Boundary Separation Speed      Bacc  Non-decision Time Speed  \\\n",
      "0                   0.942736  2.549086                 0.381888   \n",
      "\n",
      "   Non-decision Time Accuracy         BIC  \n",
      "0                     0.21596  476.188338  \n",
      "13\n"
     ]
    },
    {
     "name": "stderr",
     "output_type": "stream",
     "text": [
      "Info: Params [0.52405926 0.73419741 1.79251734 0.97324974 1.62178146 0.35860157\n",
      " 0.3385945 ] gave 790.4953853591496\n"
     ]
    },
    {
     "name": "stdout",
     "output_type": "stream",
     "text": [
      "   Drift Rate Speed  Drift Rate Accuracy  Self-excitation  \\\n",
      "0          0.524059             0.734197         1.792517   \n",
      "\n",
      "   Boundary Separation Speed      Bacc  Non-decision Time Speed  \\\n",
      "0                    0.97325  1.621781                 0.358602   \n",
      "\n",
      "   Non-decision Time Accuracy         BIC  \n",
      "0                    0.338594  790.495385  \n",
      "14\n"
     ]
    },
    {
     "name": "stderr",
     "output_type": "stream",
     "text": [
      "Info: Params [0.76475874 0.5355953  1.92680894 1.02877786 2.05721704 0.15269231\n",
      " 0.1446319 ] gave 724.9085446329441\n"
     ]
    },
    {
     "name": "stdout",
     "output_type": "stream",
     "text": [
      "   Drift Rate Speed  Drift Rate Accuracy  Self-excitation  \\\n",
      "0          0.764759             0.535595         1.926809   \n",
      "\n",
      "   Boundary Separation Speed      Bacc  Non-decision Time Speed  \\\n",
      "0                   1.028778  2.057217                 0.152692   \n",
      "\n",
      "   Non-decision Time Accuracy         BIC  \n",
      "0                    0.144632  724.908545  \n",
      "15\n"
     ]
    },
    {
     "name": "stderr",
     "output_type": "stream",
     "text": [
      "Info: Params [1.43607972 1.03839562 1.27367552 0.77345535 1.6751729  0.38203281\n",
      " 0.36842699] gave 475.3917439253746\n"
     ]
    },
    {
     "name": "stdout",
     "output_type": "stream",
     "text": [
      "   Drift Rate Speed  Drift Rate Accuracy  Self-excitation  \\\n",
      "0           1.43608             1.038396         1.273676   \n",
      "\n",
      "   Boundary Separation Speed      Bacc  Non-decision Time Speed  \\\n",
      "0                   0.773455  1.675173                 0.382033   \n",
      "\n",
      "   Non-decision Time Accuracy         BIC  \n",
      "0                    0.368427  475.391744  \n",
      "16\n"
     ]
    },
    {
     "name": "stderr",
     "output_type": "stream",
     "text": [
      "Info: Params [1.54097108 1.00341643 1.16859044 0.91736046 1.38168705 0.34592935\n",
      " 0.29332098] gave 496.2467690845126\n"
     ]
    },
    {
     "name": "stdout",
     "output_type": "stream",
     "text": [
      "   Drift Rate Speed  Drift Rate Accuracy  Self-excitation  \\\n",
      "0          1.540971             1.003416          1.16859   \n",
      "\n",
      "   Boundary Separation Speed      Bacc  Non-decision Time Speed  \\\n",
      "0                    0.91736  1.381687                 0.345929   \n",
      "\n",
      "   Non-decision Time Accuracy         BIC  \n",
      "0                    0.293321  496.246769  \n",
      "17\n"
     ]
    },
    {
     "name": "stderr",
     "output_type": "stream",
     "text": [
      "Info: Params [1.1760035  0.68125051 1.99275758 0.6752523  1.37152105 0.36304861\n",
      " 0.32414399] gave 454.0264658348201\n"
     ]
    },
    {
     "name": "stdout",
     "output_type": "stream",
     "text": [
      "   Drift Rate Speed  Drift Rate Accuracy  Self-excitation  \\\n",
      "0          1.176004             0.681251         1.992758   \n",
      "\n",
      "   Boundary Separation Speed      Bacc  Non-decision Time Speed  \\\n",
      "0                   0.675252  1.371521                 0.363049   \n",
      "\n",
      "   Non-decision Time Accuracy         BIC  \n",
      "0                    0.324144  454.026466  \n",
      "18\n"
     ]
    },
    {
     "name": "stderr",
     "output_type": "stream",
     "text": [
      "Info: Params [1.07282628 0.94335937 2.55668538 0.95479351 2.28267706 0.31696736\n",
      " 0.14504583] gave 499.8985601235348\n"
     ]
    },
    {
     "name": "stdout",
     "output_type": "stream",
     "text": [
      "   Drift Rate Speed  Drift Rate Accuracy  Self-excitation  \\\n",
      "0          1.072826             0.943359         2.556685   \n",
      "\n",
      "   Boundary Separation Speed      Bacc  Non-decision Time Speed  \\\n",
      "0                   0.954794  2.282677                 0.316967   \n",
      "\n",
      "   Non-decision Time Accuracy        BIC  \n",
      "0                    0.145046  499.89856  \n",
      "19\n"
     ]
    },
    {
     "name": "stderr",
     "output_type": "stream",
     "text": [
      "Info: Params [0.52182409 0.52024783 1.30776972 1.52273158 2.29856042 0.10646669\n",
      " 0.12210195] gave 995.8782272706995\n"
     ]
    },
    {
     "name": "stdout",
     "output_type": "stream",
     "text": [
      "   Drift Rate Speed  Drift Rate Accuracy  Self-excitation  \\\n",
      "0          0.521824             0.520248          1.30777   \n",
      "\n",
      "   Boundary Separation Speed     Bacc  Non-decision Time Speed  \\\n",
      "0                   1.522732  2.29856                 0.106467   \n",
      "\n",
      "   Non-decision Time Accuracy         BIC  \n",
      "0                    0.122102  995.878227  \n",
      "20\n"
     ]
    },
    {
     "name": "stderr",
     "output_type": "stream",
     "text": [
      "Info: Params [2.25611269 1.32873058 1.8488233  0.63168654 1.23499058 0.31801431\n",
      " 0.36372658] gave 18.92025829712408\n"
     ]
    },
    {
     "name": "stdout",
     "output_type": "stream",
     "text": [
      "   Drift Rate Speed  Drift Rate Accuracy  Self-excitation  \\\n",
      "0          2.256113             1.328731         1.848823   \n",
      "\n",
      "   Boundary Separation Speed      Bacc  Non-decision Time Speed  \\\n",
      "0                   0.631687  1.234991                 0.318014   \n",
      "\n",
      "   Non-decision Time Accuracy        BIC  \n",
      "0                    0.363727  18.920258  \n",
      "21\n"
     ]
    },
    {
     "name": "stderr",
     "output_type": "stream",
     "text": [
      "Info: Params [1.87259321 1.26827171 1.94601827 0.94564056 1.94681515 0.32864833\n",
      " 0.31533683] gave 268.09789052268155\n"
     ]
    },
    {
     "name": "stdout",
     "output_type": "stream",
     "text": [
      "   Drift Rate Speed  Drift Rate Accuracy  Self-excitation  \\\n",
      "0          1.872593             1.268272         1.946018   \n",
      "\n",
      "   Boundary Separation Speed      Bacc  Non-decision Time Speed  \\\n",
      "0                   0.945641  1.946815                 0.328648   \n",
      "\n",
      "   Non-decision Time Accuracy         BIC  \n",
      "0                    0.315337  268.097891  \n",
      "22\n"
     ]
    },
    {
     "name": "stderr",
     "output_type": "stream",
     "text": [
      "Info: Params [1.04318721 0.84559433 2.15711383 0.98729518 2.94497788 0.32473494\n",
      " 0.14564947] gave 643.3688951956282\n"
     ]
    },
    {
     "name": "stdout",
     "output_type": "stream",
     "text": [
      "   Drift Rate Speed  Drift Rate Accuracy  Self-excitation  \\\n",
      "0          1.043187             0.845594         2.157114   \n",
      "\n",
      "   Boundary Separation Speed      Bacc  Non-decision Time Speed  \\\n",
      "0                   0.987295  2.944978                 0.324735   \n",
      "\n",
      "   Non-decision Time Accuracy         BIC  \n",
      "0                    0.145649  643.368895  \n",
      "23\n"
     ]
    },
    {
     "name": "stderr",
     "output_type": "stream",
     "text": [
      "Info: Params [1.11902416 0.717212   1.49811303 0.98639712 3.04978722 0.45618127\n",
      " 0.23601788] gave 637.4135128994916\n"
     ]
    },
    {
     "name": "stdout",
     "output_type": "stream",
     "text": [
      "   Drift Rate Speed  Drift Rate Accuracy  Self-excitation  \\\n",
      "0          1.119024             0.717212         1.498113   \n",
      "\n",
      "   Boundary Separation Speed      Bacc  Non-decision Time Speed  \\\n",
      "0                   0.986397  3.049787                 0.456181   \n",
      "\n",
      "   Non-decision Time Accuracy         BIC  \n",
      "0                    0.236018  637.413513  \n",
      "24\n"
     ]
    },
    {
     "name": "stderr",
     "output_type": "stream",
     "text": [
      "Info: Params [0.92395358 1.3703546  2.59491674 1.94177199 2.23914551 0.17590625\n",
      " 0.30295364] gave 533.8378277272521\n"
     ]
    },
    {
     "name": "stdout",
     "output_type": "stream",
     "text": [
      "   Drift Rate Speed  Drift Rate Accuracy  Self-excitation  \\\n",
      "0          0.923954             1.370355         2.594917   \n",
      "\n",
      "   Boundary Separation Speed      Bacc  Non-decision Time Speed  \\\n",
      "0                   1.941772  2.239146                 0.175906   \n",
      "\n",
      "   Non-decision Time Accuracy         BIC  \n",
      "0                    0.302954  533.837828  \n",
      "25\n"
     ]
    },
    {
     "name": "stderr",
     "output_type": "stream",
     "text": [
      "Info: Params [2.1424006  1.22349198 1.66646598 0.72767012 1.87043015 0.4680304\n",
      " 0.37825504] gave 192.52674952579085\n"
     ]
    },
    {
     "name": "stdout",
     "output_type": "stream",
     "text": [
      "   Drift Rate Speed  Drift Rate Accuracy  Self-excitation  \\\n",
      "0          2.142401             1.223492         1.666466   \n",
      "\n",
      "   Boundary Separation Speed     Bacc  Non-decision Time Speed  \\\n",
      "0                    0.72767  1.87043                  0.46803   \n",
      "\n",
      "   Non-decision Time Accuracy        BIC  \n",
      "0                    0.378255  192.52675  \n",
      "26\n"
     ]
    },
    {
     "name": "stderr",
     "output_type": "stream",
     "text": [
      "Info: Params [0.89281307 1.09479774 2.2747819  0.50188122 2.24805193 0.33498667\n",
      " 0.44024134] gave 210.95478648295315\n"
     ]
    },
    {
     "name": "stdout",
     "output_type": "stream",
     "text": [
      "   Drift Rate Speed  Drift Rate Accuracy  Self-excitation  \\\n",
      "0          0.892813             1.094798         2.274782   \n",
      "\n",
      "   Boundary Separation Speed      Bacc  Non-decision Time Speed  \\\n",
      "0                   0.501881  2.248052                 0.334987   \n",
      "\n",
      "   Non-decision Time Accuracy         BIC  \n",
      "0                    0.440241  210.954786  \n",
      "27\n"
     ]
    },
    {
     "name": "stderr",
     "output_type": "stream",
     "text": [
      "Info: Params [1.70842291 1.4962128  2.58495974 0.61893163 1.39796897 0.43749984\n",
      " 0.45868123] gave 72.3800389780659\n"
     ]
    },
    {
     "name": "stdout",
     "output_type": "stream",
     "text": [
      "   Drift Rate Speed  Drift Rate Accuracy  Self-excitation  \\\n",
      "0          1.708423             1.496213          2.58496   \n",
      "\n",
      "   Boundary Separation Speed      Bacc  Non-decision Time Speed  \\\n",
      "0                   0.618932  1.397969                   0.4375   \n",
      "\n",
      "   Non-decision Time Accuracy        BIC  \n",
      "0                    0.458681  72.380039  \n",
      "28\n"
     ]
    },
    {
     "name": "stderr",
     "output_type": "stream",
     "text": [
      "Info: Params [1.66556747 2.11801933 3.71696833 0.70712496 1.57136168 0.31211617\n",
      " 0.41278077] gave -184.4294662522499\n"
     ]
    },
    {
     "name": "stdout",
     "output_type": "stream",
     "text": [
      "   Drift Rate Speed  Drift Rate Accuracy  Self-excitation  \\\n",
      "0          1.665567             2.118019         3.716968   \n",
      "\n",
      "   Boundary Separation Speed      Bacc  Non-decision Time Speed  \\\n",
      "0                   0.707125  1.571362                 0.312116   \n",
      "\n",
      "   Non-decision Time Accuracy         BIC  \n",
      "0                    0.412781 -184.429466  \n",
      "29\n"
     ]
    },
    {
     "name": "stderr",
     "output_type": "stream",
     "text": [
      "Info: Params [0.7828165  0.81206163 1.88475339 1.2001235  5.1327443  0.41499029\n",
      " 0.16180507] gave 763.3567068418881\n"
     ]
    },
    {
     "name": "stdout",
     "output_type": "stream",
     "text": [
      "   Drift Rate Speed  Drift Rate Accuracy  Self-excitation  \\\n",
      "0          0.782817             0.812062         1.884753   \n",
      "\n",
      "   Boundary Separation Speed      Bacc  Non-decision Time Speed  \\\n",
      "0                   1.200124  5.132744                  0.41499   \n",
      "\n",
      "   Non-decision Time Accuracy         BIC  \n",
      "0                    0.161805  763.356707  \n",
      "30\n"
     ]
    },
    {
     "name": "stderr",
     "output_type": "stream",
     "text": [
      "Info: Params [1.19307599 1.39184424 3.13087755 0.86557707 1.1901088  0.27085863\n",
      " 0.35543915] gave 209.31749060810643\n"
     ]
    },
    {
     "name": "stdout",
     "output_type": "stream",
     "text": [
      "   Drift Rate Speed  Drift Rate Accuracy  Self-excitation  \\\n",
      "0          1.193076             1.391844         3.130878   \n",
      "\n",
      "   Boundary Separation Speed      Bacc  Non-decision Time Speed  \\\n",
      "0                   0.865577  1.190109                 0.270859   \n",
      "\n",
      "   Non-decision Time Accuracy         BIC  \n",
      "0                    0.355439  209.317491  \n",
      "31\n"
     ]
    },
    {
     "name": "stderr",
     "output_type": "stream",
     "text": [
      "Info: Params [1.46349153 1.55002815 1.84703078 1.29182278 2.165782   0.32225537\n",
      " 0.23406242] gave 421.94388812084304\n"
     ]
    },
    {
     "name": "stdout",
     "output_type": "stream",
     "text": [
      "   Drift Rate Speed  Drift Rate Accuracy  Self-excitation  \\\n",
      "0          1.463492             1.550028         1.847031   \n",
      "\n",
      "   Boundary Separation Speed      Bacc  Non-decision Time Speed  \\\n",
      "0                   1.291823  2.165782                 0.322255   \n",
      "\n",
      "   Non-decision Time Accuracy         BIC  \n",
      "0                    0.234062  421.943888  \n",
      "32\n"
     ]
    },
    {
     "name": "stderr",
     "output_type": "stream",
     "text": [
      "Info: Params [1.61183845 1.51069052 1.98530534 0.76954832 1.73510442 0.34231426\n",
      " 0.35353204] gave 210.32347720501312\n"
     ]
    },
    {
     "name": "stdout",
     "output_type": "stream",
     "text": [
      "   Drift Rate Speed  Drift Rate Accuracy  Self-excitation  \\\n",
      "0          1.611838             1.510691         1.985305   \n",
      "\n",
      "   Boundary Separation Speed      Bacc  Non-decision Time Speed  \\\n",
      "0                   0.769548  1.735104                 0.342314   \n",
      "\n",
      "   Non-decision Time Accuracy         BIC  \n",
      "0                    0.353532  210.323477  \n",
      "33\n"
     ]
    },
    {
     "name": "stderr",
     "output_type": "stream",
     "text": [
      "Info: Params [0.4852654  1.57286632 2.23641928 0.72645896 1.44058986 0.16739916\n",
      " 0.44682396] gave 305.80187164551864\n"
     ]
    },
    {
     "name": "stdout",
     "output_type": "stream",
     "text": [
      "   Drift Rate Speed  Drift Rate Accuracy  Self-excitation  \\\n",
      "0          0.485265             1.572866         2.236419   \n",
      "\n",
      "   Boundary Separation Speed     Bacc  Non-decision Time Speed  \\\n",
      "0                   0.726459  1.44059                 0.167399   \n",
      "\n",
      "   Non-decision Time Accuracy         BIC  \n",
      "0                    0.446824  305.801872  \n",
      "34\n"
     ]
    },
    {
     "name": "stderr",
     "output_type": "stream",
     "text": [
      "Info: Params [1.29026466 1.69784904 3.68069815 0.547419   1.27328264 0.29989999\n",
      " 0.29043733] gave -109.42195143176012\n"
     ]
    },
    {
     "name": "stdout",
     "output_type": "stream",
     "text": [
      "   Drift Rate Speed  Drift Rate Accuracy  Self-excitation  \\\n",
      "0          1.290265             1.697849         3.680698   \n",
      "\n",
      "   Boundary Separation Speed      Bacc  Non-decision Time Speed  \\\n",
      "0                   0.547419  1.273283                   0.2999   \n",
      "\n",
      "   Non-decision Time Accuracy         BIC  \n",
      "0                    0.290437 -109.421951  \n",
      "35\n"
     ]
    },
    {
     "name": "stderr",
     "output_type": "stream",
     "text": [
      "Info: Params [1.68040523 1.17912158 2.91449858 0.50705022 1.45066258 0.40322311\n",
      " 0.43008905] gave 13.37673134462198\n"
     ]
    },
    {
     "name": "stdout",
     "output_type": "stream",
     "text": [
      "   Drift Rate Speed  Drift Rate Accuracy  Self-excitation  \\\n",
      "0          1.680405             1.179122         2.914499   \n",
      "\n",
      "   Boundary Separation Speed      Bacc  Non-decision Time Speed  \\\n",
      "0                    0.50705  1.450663                 0.403223   \n",
      "\n",
      "   Non-decision Time Accuracy        BIC  \n",
      "0                    0.430089  13.376731  \n",
      "36\n"
     ]
    },
    {
     "name": "stderr",
     "output_type": "stream",
     "text": [
      "Info: Params [1.05129299 1.36678148 1.98534528 1.07495278 1.88040459 0.25372253\n",
      " 0.24570909] gave 479.36091396181865\n"
     ]
    },
    {
     "name": "stdout",
     "output_type": "stream",
     "text": [
      "   Drift Rate Speed  Drift Rate Accuracy  Self-excitation  \\\n",
      "0          1.051293             1.366781         1.985345   \n",
      "\n",
      "   Boundary Separation Speed      Bacc  Non-decision Time Speed  \\\n",
      "0                   1.074953  1.880405                 0.253723   \n",
      "\n",
      "   Non-decision Time Accuracy         BIC  \n",
      "0                    0.245709  479.360914  \n",
      "37\n"
     ]
    },
    {
     "name": "stderr",
     "output_type": "stream",
     "text": [
      "Info: Params [1.67442567 1.76882666 4.10335536 0.6622892  2.50550102 0.28278763\n",
      " 0.2640355 ] gave -150.4288290309729\n"
     ]
    },
    {
     "name": "stdout",
     "output_type": "stream",
     "text": [
      "   Drift Rate Speed  Drift Rate Accuracy  Self-excitation  \\\n",
      "0          1.674426             1.768827         4.103355   \n",
      "\n",
      "   Boundary Separation Speed      Bacc  Non-decision Time Speed  \\\n",
      "0                   0.662289  2.505501                 0.282788   \n",
      "\n",
      "   Non-decision Time Accuracy         BIC  \n",
      "0                    0.264036 -150.428829  \n",
      "38\n"
     ]
    },
    {
     "name": "stderr",
     "output_type": "stream",
     "text": [
      "Info: Params [1.92936843 1.80600404 3.11272432 0.75349662 1.53066933 0.28671497\n",
      " 0.38746442] gave -84.80128057664825\n"
     ]
    },
    {
     "name": "stdout",
     "output_type": "stream",
     "text": [
      "   Drift Rate Speed  Drift Rate Accuracy  Self-excitation  \\\n",
      "0          1.929368             1.806004         3.112724   \n",
      "\n",
      "   Boundary Separation Speed      Bacc  Non-decision Time Speed  \\\n",
      "0                   0.753497  1.530669                 0.286715   \n",
      "\n",
      "   Non-decision Time Accuracy        BIC  \n",
      "0                    0.387464 -84.801281  \n",
      "39\n"
     ]
    },
    {
     "name": "stderr",
     "output_type": "stream",
     "text": [
      "Info: Params [0.88705405 0.71957947 0.94791512 0.69473148 2.81999804 0.33908689\n",
      " 0.11607546] gave 474.7995816043478\n"
     ]
    },
    {
     "name": "stdout",
     "output_type": "stream",
     "text": [
      "   Drift Rate Speed  Drift Rate Accuracy  Self-excitation  \\\n",
      "0          0.887054             0.719579         0.947915   \n",
      "\n",
      "   Boundary Separation Speed      Bacc  Non-decision Time Speed  \\\n",
      "0                   0.694731  2.819998                 0.339087   \n",
      "\n",
      "   Non-decision Time Accuracy         BIC  \n",
      "0                    0.116075  474.799582  \n",
      "40\n"
     ]
    },
    {
     "name": "stderr",
     "output_type": "stream",
     "text": [
      "Info: Params [2.3226189  1.24374004 1.67483119 0.96809752 1.72547296 0.29979782\n",
      " 0.39770406] gave 201.59847042857115\n"
     ]
    },
    {
     "name": "stdout",
     "output_type": "stream",
     "text": [
      "   Drift Rate Speed  Drift Rate Accuracy  Self-excitation  \\\n",
      "0          2.322619              1.24374         1.674831   \n",
      "\n",
      "   Boundary Separation Speed      Bacc  Non-decision Time Speed  \\\n",
      "0                   0.968098  1.725473                 0.299798   \n",
      "\n",
      "   Non-decision Time Accuracy        BIC  \n",
      "0                    0.397704  201.59847  \n",
      "41\n"
     ]
    },
    {
     "name": "stderr",
     "output_type": "stream",
     "text": [
      "Info: Params [1.56599435 1.28811907 1.6829006  0.63664401 1.87623459 0.32670388\n",
      " 0.22214422] gave 275.6153629240455\n"
     ]
    },
    {
     "name": "stdout",
     "output_type": "stream",
     "text": [
      "   Drift Rate Speed  Drift Rate Accuracy  Self-excitation  \\\n",
      "0          1.565994             1.288119         1.682901   \n",
      "\n",
      "   Boundary Separation Speed      Bacc  Non-decision Time Speed  \\\n",
      "0                   0.636644  1.876235                 0.326704   \n",
      "\n",
      "   Non-decision Time Accuracy         BIC  \n",
      "0                    0.222144  275.615363  \n",
      "42\n"
     ]
    },
    {
     "name": "stderr",
     "output_type": "stream",
     "text": [
      "Info: Params [1.23749253 1.00838592 2.64512262 0.94861978 1.65283911 0.31970337\n",
      " 0.30704626] gave 397.85150967219823\n"
     ]
    },
    {
     "name": "stdout",
     "output_type": "stream",
     "text": [
      "   Drift Rate Speed  Drift Rate Accuracy  Self-excitation  \\\n",
      "0          1.237493             1.008386         2.645123   \n",
      "\n",
      "   Boundary Separation Speed      Bacc  Non-decision Time Speed  \\\n",
      "0                    0.94862  1.652839                 0.319703   \n",
      "\n",
      "   Non-decision Time Accuracy        BIC  \n",
      "0                    0.307046  397.85151  \n",
      "43\n"
     ]
    },
    {
     "name": "stderr",
     "output_type": "stream",
     "text": [
      "Info: Params [0.70608105 0.73073472 1.49160003 0.84066502 2.28729884 0.30144008\n",
      " 0.10005943] gave 738.4162089786689\n"
     ]
    },
    {
     "name": "stdout",
     "output_type": "stream",
     "text": [
      "   Drift Rate Speed  Drift Rate Accuracy  Self-excitation  \\\n",
      "0          0.706081             0.730735           1.4916   \n",
      "\n",
      "   Boundary Separation Speed      Bacc  Non-decision Time Speed  \\\n",
      "0                   0.840665  2.287299                  0.30144   \n",
      "\n",
      "   Non-decision Time Accuracy         BIC  \n",
      "0                    0.100059  738.416209  \n",
      "44\n"
     ]
    },
    {
     "name": "stderr",
     "output_type": "stream",
     "text": [
      "Info: Params [2.00521951 1.45473759 2.22355749 0.77908522 1.55368228 0.35645771\n",
      " 0.28423794] gave 135.83410842904206\n"
     ]
    },
    {
     "name": "stdout",
     "output_type": "stream",
     "text": [
      "   Drift Rate Speed  Drift Rate Accuracy  Self-excitation  \\\n",
      "0           2.00522             1.454738         2.223557   \n",
      "\n",
      "   Boundary Separation Speed      Bacc  Non-decision Time Speed  \\\n",
      "0                   0.779085  1.553682                 0.356458   \n",
      "\n",
      "   Non-decision Time Accuracy         BIC  \n",
      "0                    0.284238  135.834108  \n",
      "45\n"
     ]
    },
    {
     "name": "stderr",
     "output_type": "stream",
     "text": [
      "Info: Params [1.19616846 1.44643331 2.62799169 0.97925189 1.76166112 0.32960369\n",
      " 0.29640398] gave 332.396367043012\n"
     ]
    },
    {
     "name": "stdout",
     "output_type": "stream",
     "text": [
      "   Drift Rate Speed  Drift Rate Accuracy  Self-excitation  \\\n",
      "0          1.196168             1.446433         2.627992   \n",
      "\n",
      "   Boundary Separation Speed      Bacc  Non-decision Time Speed  \\\n",
      "0                   0.979252  1.761661                 0.329604   \n",
      "\n",
      "   Non-decision Time Accuracy         BIC  \n",
      "0                    0.296404  332.396367  \n",
      "46\n"
     ]
    },
    {
     "name": "stderr",
     "output_type": "stream",
     "text": [
      "Info: Params [1.66767287 1.12462913 1.28814225 0.8240858  3.35530802 0.28548516\n",
      " 0.1921717 ] gave 390.3323154421191\n"
     ]
    },
    {
     "name": "stdout",
     "output_type": "stream",
     "text": [
      "   Drift Rate Speed  Drift Rate Accuracy  Self-excitation  \\\n",
      "0          1.667673             1.124629         1.288142   \n",
      "\n",
      "   Boundary Separation Speed      Bacc  Non-decision Time Speed  \\\n",
      "0                   0.824086  3.355308                 0.285485   \n",
      "\n",
      "   Non-decision Time Accuracy         BIC  \n",
      "0                    0.192172  390.332315  \n"
     ]
    }
   ],
   "source": [
    "%run Evans2017-OUM2v2a2ter-pyddm.ipynb"
   ]
  },
  {
   "cell_type": "code",
   "execution_count": 5,
   "id": "db857709",
   "metadata": {},
   "outputs": [
    {
     "name": "stdout",
     "output_type": "stream",
     "text": [
      "0\n"
     ]
    },
    {
     "name": "stderr",
     "output_type": "stream",
     "text": [
      "Info: Params [0.66812375 0.96998843 5.28623186 1.03631978 1.00768139 0.27739533\n",
      " 0.36994883] gave 411.2618564079784\n"
     ]
    },
    {
     "name": "stdout",
     "output_type": "stream",
     "text": [
      "   Drift Rate Speed  Drift Rate Accuracy  Self-excitation Speed  \\\n",
      "0          0.668124             0.969988               5.286232   \n",
      "\n",
      "   Self-excitation Accuracy  Boundary Separation  Non-decision Time Speed  \\\n",
      "0                   1.03632             1.007681                 0.277395   \n",
      "\n",
      "   Non-decision Time Accuracy         BIC  \n",
      "0                    0.369949  411.261856  \n",
      "1\n"
     ]
    },
    {
     "name": "stderr",
     "output_type": "stream",
     "text": [
      "Info: Params [2.59540505 1.57613801 5.88447957 1.71787971 1.44097457 0.36911954\n",
      " 0.44838935] gave -100.79390474169311\n"
     ]
    },
    {
     "name": "stdout",
     "output_type": "stream",
     "text": [
      "   Drift Rate Speed  Drift Rate Accuracy  Self-excitation Speed  \\\n",
      "0          2.595405             1.576138                5.88448   \n",
      "\n",
      "   Self-excitation Accuracy  Boundary Separation  Non-decision Time Speed  \\\n",
      "0                   1.71788             1.440975                  0.36912   \n",
      "\n",
      "   Non-decision Time Accuracy         BIC  \n",
      "0                    0.448389 -100.793905  \n",
      "2\n"
     ]
    },
    {
     "name": "stderr",
     "output_type": "stream",
     "text": [
      "Info: Params [1.12845891 1.57627618 4.86793729 3.64167225 1.38467338 0.1644035\n",
      " 0.28839458] gave 123.57723235714121\n"
     ]
    },
    {
     "name": "stdout",
     "output_type": "stream",
     "text": [
      "   Drift Rate Speed  Drift Rate Accuracy  Self-excitation Speed  \\\n",
      "0          1.128459             1.576276               4.867937   \n",
      "\n",
      "   Self-excitation Accuracy  Boundary Separation  Non-decision Time Speed  \\\n",
      "0                  3.641672             1.384673                 0.164404   \n",
      "\n",
      "   Non-decision Time Accuracy         BIC  \n",
      "0                    0.288395  123.577232  \n",
      "3\n"
     ]
    },
    {
     "name": "stderr",
     "output_type": "stream",
     "text": [
      "Info: Params [ 1.67411327  2.27202818  3.42079163 -0.12373958  4.16671547  0.10037489\n",
      "  0.5235737 ] gave 244.1740131079304\n"
     ]
    },
    {
     "name": "stdout",
     "output_type": "stream",
     "text": [
      "   Drift Rate Speed  Drift Rate Accuracy  Self-excitation Speed  \\\n",
      "0          1.674113             2.272028               3.420792   \n",
      "\n",
      "   Self-excitation Accuracy  Boundary Separation  Non-decision Time Speed  \\\n",
      "0                  -0.12374             4.166715                 0.100375   \n",
      "\n",
      "   Non-decision Time Accuracy         BIC  \n",
      "0                    0.523574  244.174013  \n",
      "4\n"
     ]
    },
    {
     "name": "stderr",
     "output_type": "stream",
     "text": [
      "Info: Params [1.6509522  1.08713015 5.80220214 2.32079671 1.52240336 0.28240421\n",
      " 0.29094991] gave 206.6483845087352\n"
     ]
    },
    {
     "name": "stdout",
     "output_type": "stream",
     "text": [
      "   Drift Rate Speed  Drift Rate Accuracy  Self-excitation Speed  \\\n",
      "0          1.650952              1.08713               5.802202   \n",
      "\n",
      "   Self-excitation Accuracy  Boundary Separation  Non-decision Time Speed  \\\n",
      "0                  2.320797             1.522403                 0.282404   \n",
      "\n",
      "   Non-decision Time Accuracy         BIC  \n",
      "0                     0.29095  206.648385  \n",
      "5\n"
     ]
    },
    {
     "name": "stderr",
     "output_type": "stream",
     "text": [
      "Info: Params [ 1.30677006  1.07108851  4.23035294 -0.03344358  0.854821    0.39449242\n",
      "  0.50463306] gave 293.59046458205347\n"
     ]
    },
    {
     "name": "stdout",
     "output_type": "stream",
     "text": [
      "   Drift Rate Speed  Drift Rate Accuracy  Self-excitation Speed  \\\n",
      "0           1.30677             1.071089               4.230353   \n",
      "\n",
      "   Self-excitation Accuracy  Boundary Separation  Non-decision Time Speed  \\\n",
      "0                 -0.033444             0.854821                 0.394492   \n",
      "\n",
      "   Non-decision Time Accuracy         BIC  \n",
      "0                    0.504633  293.590465  \n",
      "6\n"
     ]
    },
    {
     "name": "stderr",
     "output_type": "stream",
     "text": [
      "Info: Params [0.47079195 1.05723448 5.48424408 3.30014897 1.3428323  0.10510113\n",
      " 0.28717455] gave 333.29323041714053\n"
     ]
    },
    {
     "name": "stdout",
     "output_type": "stream",
     "text": [
      "   Drift Rate Speed  Drift Rate Accuracy  Self-excitation Speed  \\\n",
      "0          0.470792             1.057234               5.484244   \n",
      "\n",
      "   Self-excitation Accuracy  Boundary Separation  Non-decision Time Speed  \\\n",
      "0                  3.300149             1.342832                 0.105101   \n",
      "\n",
      "   Non-decision Time Accuracy        BIC  \n",
      "0                    0.287175  333.29323  \n",
      "7\n"
     ]
    },
    {
     "name": "stderr",
     "output_type": "stream",
     "text": [
      "Info: Params [1.76123305 2.055533   5.7475694  3.39128652 1.34408371 0.35194427\n",
      " 0.47904506] gave -131.2574139548313\n"
     ]
    },
    {
     "name": "stdout",
     "output_type": "stream",
     "text": [
      "   Drift Rate Speed  Drift Rate Accuracy  Self-excitation Speed  \\\n",
      "0          1.761233             2.055533               5.747569   \n",
      "\n",
      "   Self-excitation Accuracy  Boundary Separation  Non-decision Time Speed  \\\n",
      "0                  3.391287             1.344084                 0.351944   \n",
      "\n",
      "   Non-decision Time Accuracy         BIC  \n",
      "0                    0.479045 -131.257414  \n",
      "8\n"
     ]
    },
    {
     "name": "stderr",
     "output_type": "stream",
     "text": [
      "Info: Params [1.88188114 1.79955242 4.50116844 2.14653963 3.35322571 0.24546387\n",
      " 0.17680385] gave 76.77690182930995\n"
     ]
    },
    {
     "name": "stdout",
     "output_type": "stream",
     "text": [
      "   Drift Rate Speed  Drift Rate Accuracy  Self-excitation Speed  \\\n",
      "0          1.881881             1.799552               4.501168   \n",
      "\n",
      "   Self-excitation Accuracy  Boundary Separation  Non-decision Time Speed  \\\n",
      "0                   2.14654             3.353226                 0.245464   \n",
      "\n",
      "   Non-decision Time Accuracy        BIC  \n",
      "0                    0.176804  76.776902  \n",
      "9\n"
     ]
    },
    {
     "name": "stderr",
     "output_type": "stream",
     "text": [
      "Info: Params [0.69529846 0.49161096 3.37718104 1.81806613 1.41036488 0.25548744\n",
      " 0.28130699] gave 725.2894793178749\n"
     ]
    },
    {
     "name": "stdout",
     "output_type": "stream",
     "text": [
      "   Drift Rate Speed  Drift Rate Accuracy  Self-excitation Speed  \\\n",
      "0          0.695298             0.491611               3.377181   \n",
      "\n",
      "   Self-excitation Accuracy  Boundary Separation  Non-decision Time Speed  \\\n",
      "0                  1.818066             1.410365                 0.255487   \n",
      "\n",
      "   Non-decision Time Accuracy         BIC  \n",
      "0                    0.281307  725.289479  \n",
      "10\n"
     ]
    },
    {
     "name": "stderr",
     "output_type": "stream",
     "text": [
      "Info: Params [1.00152729 0.42284788 4.0528711  0.62859861 1.15859976 0.35182533\n",
      " 0.4365429 ] gave 689.79663706979\n"
     ]
    },
    {
     "name": "stdout",
     "output_type": "stream",
     "text": [
      "   Drift Rate Speed  Drift Rate Accuracy  Self-excitation Speed  \\\n",
      "0          1.001527             0.422848               4.052871   \n",
      "\n",
      "   Self-excitation Accuracy  Boundary Separation  Non-decision Time Speed  \\\n",
      "0                  0.628599               1.1586                 0.351825   \n",
      "\n",
      "   Non-decision Time Accuracy         BIC  \n",
      "0                    0.436543  689.796637  \n",
      "11\n"
     ]
    },
    {
     "name": "stderr",
     "output_type": "stream",
     "text": [
      "Info: Params [0.7763472  0.97603211 4.3346183  1.30148492 1.3828686  0.15408739\n",
      " 0.37983703] gave 542.6989687705753\n"
     ]
    },
    {
     "name": "stdout",
     "output_type": "stream",
     "text": [
      "   Drift Rate Speed  Drift Rate Accuracy  Self-excitation Speed  \\\n",
      "0          0.776347             0.976032               4.334618   \n",
      "\n",
      "   Self-excitation Accuracy  Boundary Separation  Non-decision Time Speed  \\\n",
      "0                  1.301485             1.382869                 0.154087   \n",
      "\n",
      "   Non-decision Time Accuracy         BIC  \n",
      "0                    0.379837  542.698969  \n",
      "12\n"
     ]
    },
    {
     "name": "stderr",
     "output_type": "stream",
     "text": [
      "Info: Params [1.49594827 0.92621454 3.59204304 1.26301199 1.68886061 0.30751628\n",
      " 0.35645466] gave 465.58685430874294\n"
     ]
    },
    {
     "name": "stdout",
     "output_type": "stream",
     "text": [
      "   Drift Rate Speed  Drift Rate Accuracy  Self-excitation Speed  \\\n",
      "0          1.495948             0.926215               3.592043   \n",
      "\n",
      "   Self-excitation Accuracy  Boundary Separation  Non-decision Time Speed  \\\n",
      "0                  1.263012             1.688861                 0.307516   \n",
      "\n",
      "   Non-decision Time Accuracy         BIC  \n",
      "0                    0.356455  465.586854  \n",
      "13\n"
     ]
    },
    {
     "name": "stderr",
     "output_type": "stream",
     "text": [
      "Info: Params [0.54568285 0.70065133 2.58174296 1.45937291 1.31355896 0.29968473\n",
      " 0.39136175] gave 787.8401339745534\n"
     ]
    },
    {
     "name": "stdout",
     "output_type": "stream",
     "text": [
      "   Drift Rate Speed  Drift Rate Accuracy  Self-excitation Speed  \\\n",
      "0          0.545683             0.700651               2.581743   \n",
      "\n",
      "   Self-excitation Accuracy  Boundary Separation  Non-decision Time Speed  \\\n",
      "0                  1.459373             1.313559                 0.299685   \n",
      "\n",
      "   Non-decision Time Accuracy         BIC  \n",
      "0                    0.391362  787.840134  \n",
      "14\n"
     ]
    },
    {
     "name": "stderr",
     "output_type": "stream",
     "text": [
      "Info: Params [0.56353357 0.53891047 4.25581623 1.59909728 1.84044069 0.10993403\n",
      " 0.14975698] gave 670.466800316003\n"
     ]
    },
    {
     "name": "stdout",
     "output_type": "stream",
     "text": [
      "   Drift Rate Speed  Drift Rate Accuracy  Self-excitation Speed  \\\n",
      "0          0.563534              0.53891               4.255816   \n",
      "\n",
      "   Self-excitation Accuracy  Boundary Separation  Non-decision Time Speed  \\\n",
      "0                  1.599097             1.840441                 0.109934   \n",
      "\n",
      "   Non-decision Time Accuracy       BIC  \n",
      "0                    0.149757  670.4668  \n",
      "15\n"
     ]
    },
    {
     "name": "stderr",
     "output_type": "stream",
     "text": [
      "Info: Params [1.5248186  1.02930932 3.80530346 1.02026636 1.47633042 0.29862378\n",
      " 0.4025417 ] gave 460.8583508987575\n"
     ]
    },
    {
     "name": "stdout",
     "output_type": "stream",
     "text": [
      "   Drift Rate Speed  Drift Rate Accuracy  Self-excitation Speed  \\\n",
      "0          1.524819             1.029309               3.805303   \n",
      "\n",
      "   Self-excitation Accuracy  Boundary Separation  Non-decision Time Speed  \\\n",
      "0                  1.020266              1.47633                 0.298624   \n",
      "\n",
      "   Non-decision Time Accuracy         BIC  \n",
      "0                    0.402542  460.858351  \n",
      "16\n"
     ]
    },
    {
     "name": "stderr",
     "output_type": "stream",
     "text": [
      "Info: Params [1.59940984 1.00227915 2.71093559 0.57821565 1.16140559 0.32751938\n",
      " 0.34176944] gave 481.9739221364149\n"
     ]
    },
    {
     "name": "stdout",
     "output_type": "stream",
     "text": [
      "   Drift Rate Speed  Drift Rate Accuracy  Self-excitation Speed  \\\n",
      "0           1.59941             1.002279               2.710936   \n",
      "\n",
      "   Self-excitation Accuracy  Boundary Separation  Non-decision Time Speed  \\\n",
      "0                  0.578216             1.161406                 0.327519   \n",
      "\n",
      "   Non-decision Time Accuracy         BIC  \n",
      "0                    0.341769  481.973922  \n",
      "17\n"
     ]
    },
    {
     "name": "stderr",
     "output_type": "stream",
     "text": [
      "Info: Params [1.29887564 0.66626607 5.29448164 1.66401645 1.20857635 0.31722299\n",
      " 0.34915961] gave 434.1697896548792\n"
     ]
    },
    {
     "name": "stdout",
     "output_type": "stream",
     "text": [
      "   Drift Rate Speed  Drift Rate Accuracy  Self-excitation Speed  \\\n",
      "0          1.298876             0.666266               5.294482   \n",
      "\n",
      "   Self-excitation Accuracy  Boundary Separation  Non-decision Time Speed  \\\n",
      "0                  1.664016             1.208576                 0.317223   \n",
      "\n",
      "   Non-decision Time Accuracy        BIC  \n",
      "0                     0.34916  434.16979  \n",
      "18\n"
     ]
    },
    {
     "name": "stderr",
     "output_type": "stream",
     "text": [
      "Info: Params [1.04417859 0.91207855 3.93712135 2.21088479 1.64844272 0.22870066\n",
      " 0.21933581] gave 507.49122737302145\n"
     ]
    },
    {
     "name": "stdout",
     "output_type": "stream",
     "text": [
      "   Drift Rate Speed  Drift Rate Accuracy  Self-excitation Speed  \\\n",
      "0          1.044179             0.912079               3.937121   \n",
      "\n",
      "   Self-excitation Accuracy  Boundary Separation  Non-decision Time Speed  \\\n",
      "0                  2.210885             1.648443                 0.228701   \n",
      "\n",
      "   Non-decision Time Accuracy         BIC  \n",
      "0                    0.219336  507.491227  \n",
      "19\n"
     ]
    },
    {
     "name": "stderr",
     "output_type": "stream",
     "text": [
      "Info: Params [0.51529347 0.49658255 1.62910955 0.985518   1.74232406 0.10261684\n",
      " 0.18144225] gave 996.4105086770387\n"
     ]
    },
    {
     "name": "stdout",
     "output_type": "stream",
     "text": [
      "   Drift Rate Speed  Drift Rate Accuracy  Self-excitation Speed  \\\n",
      "0          0.515293             0.496583                1.62911   \n",
      "\n",
      "   Self-excitation Accuracy  Boundary Separation  Non-decision Time Speed  \\\n",
      "0                  0.985518             1.742324                 0.102617   \n",
      "\n",
      "   Non-decision Time Accuracy         BIC  \n",
      "0                    0.181442  996.410509  \n",
      "20\n"
     ]
    },
    {
     "name": "stderr",
     "output_type": "stream",
     "text": [
      "Info: Params [2.11788135 1.30655368 5.63150297 0.63090223 0.9311213  0.29881858\n",
      " 0.40729038] gave 14.733815698865442\n"
     ]
    },
    {
     "name": "stdout",
     "output_type": "stream",
     "text": [
      "   Drift Rate Speed  Drift Rate Accuracy  Self-excitation Speed  \\\n",
      "0          2.117881             1.306554               5.631503   \n",
      "\n",
      "   Self-excitation Accuracy  Boundary Separation  Non-decision Time Speed  \\\n",
      "0                  0.630902             0.931121                 0.298819   \n",
      "\n",
      "   Non-decision Time Accuracy        BIC  \n",
      "0                     0.40729  14.733816  \n",
      "21\n"
     ]
    },
    {
     "name": "stderr",
     "output_type": "stream",
     "text": [
      "Info: Params [1.84419914 1.24094549 3.94308526 1.60648175 1.59445312 0.274885\n",
      " 0.35366292] gave 256.2831077568797\n"
     ]
    },
    {
     "name": "stdout",
     "output_type": "stream",
     "text": [
      "   Drift Rate Speed  Drift Rate Accuracy  Self-excitation Speed  \\\n",
      "0          1.844199             1.240945               3.943085   \n",
      "\n",
      "   Self-excitation Accuracy  Boundary Separation  Non-decision Time Speed  \\\n",
      "0                  1.606482             1.594453                 0.274885   \n",
      "\n",
      "   Non-decision Time Accuracy         BIC  \n",
      "0                    0.353663  256.283108  \n",
      "22\n"
     ]
    },
    {
     "name": "stderr",
     "output_type": "stream",
     "text": [
      "Info: Params [1.07894558 0.77566209 3.38386535 1.54198389 1.36461814 0.28484999\n",
      " 0.3941548 ] gave 635.6744644847414\n"
     ]
    },
    {
     "name": "stdout",
     "output_type": "stream",
     "text": [
      "   Drift Rate Speed  Drift Rate Accuracy  Self-excitation Speed  \\\n",
      "0          1.078946             0.775662               3.383865   \n",
      "\n",
      "   Self-excitation Accuracy  Boundary Separation  Non-decision Time Speed  \\\n",
      "0                  1.541984             1.364618                  0.28485   \n",
      "\n",
      "   Non-decision Time Accuracy         BIC  \n",
      "0                    0.394155  635.674464  \n",
      "23\n"
     ]
    },
    {
     "name": "stderr",
     "output_type": "stream",
     "text": [
      "Info: Params [1.19544448 0.72051961 3.48379182 1.22665603 2.19225935 0.33116871\n",
      " 0.35226437] gave 611.6299485421245\n"
     ]
    },
    {
     "name": "stdout",
     "output_type": "stream",
     "text": [
      "   Drift Rate Speed  Drift Rate Accuracy  Self-excitation Speed  \\\n",
      "0          1.195444              0.72052               3.483792   \n",
      "\n",
      "   Self-excitation Accuracy  Boundary Separation  Non-decision Time Speed  \\\n",
      "0                  1.226656             2.192259                 0.331169   \n",
      "\n",
      "   Non-decision Time Accuracy         BIC  \n",
      "0                    0.352264  611.629949  \n",
      "24\n"
     ]
    },
    {
     "name": "stderr",
     "output_type": "stream",
     "text": [
      "Info: Params [0.91215163 1.35525965 3.03967518 2.29633158 2.22816173 0.17198736\n",
      " 0.27866664] gave 526.7096786071678\n"
     ]
    },
    {
     "name": "stdout",
     "output_type": "stream",
     "text": [
      "   Drift Rate Speed  Drift Rate Accuracy  Self-excitation Speed  \\\n",
      "0          0.912152              1.35526               3.039675   \n",
      "\n",
      "   Self-excitation Accuracy  Boundary Separation  Non-decision Time Speed  \\\n",
      "0                  2.296332             2.228162                 0.171987   \n",
      "\n",
      "   Non-decision Time Accuracy         BIC  \n",
      "0                    0.278667  526.709679  \n",
      "25\n"
     ]
    },
    {
     "name": "stderr",
     "output_type": "stream",
     "text": [
      "Info: Params [2.13396554 1.22137762 6.04182501 1.50777203 1.60747546 0.41677948\n",
      " 0.43211129] gave 162.53710231665352\n"
     ]
    },
    {
     "name": "stdout",
     "output_type": "stream",
     "text": [
      "   Drift Rate Speed  Drift Rate Accuracy  Self-excitation Speed  \\\n",
      "0          2.133966             1.221378               6.041825   \n",
      "\n",
      "   Self-excitation Accuracy  Boundary Separation  Non-decision Time Speed  \\\n",
      "0                  1.507772             1.607475                 0.416779   \n",
      "\n",
      "   Non-decision Time Accuracy         BIC  \n",
      "0                    0.432111  162.537102  \n",
      "26\n"
     ]
    },
    {
     "name": "stderr",
     "output_type": "stream",
     "text": [
      "Info: Params [ 0.80760554  1.06890929 10.          2.02416768  1.90324506  0.24377784\n",
      "  0.46990215] gave 165.63857910603318\n"
     ]
    },
    {
     "name": "stdout",
     "output_type": "stream",
     "text": [
      "   Drift Rate Speed  Drift Rate Accuracy  Self-excitation Speed  \\\n",
      "0          0.807606             1.068909                   10.0   \n",
      "\n",
      "   Self-excitation Accuracy  Boundary Separation  Non-decision Time Speed  \\\n",
      "0                  2.024168             1.903245                 0.243778   \n",
      "\n",
      "   Non-decision Time Accuracy         BIC  \n",
      "0                    0.469902  165.638579  \n",
      "27\n"
     ]
    },
    {
     "name": "stderr",
     "output_type": "stream",
     "text": [
      "Info: Params [1.64803724 1.32997258 5.65736793 0.77501621 0.85639835 0.42084359\n",
      " 0.53750466] gave 69.44751068702746\n"
     ]
    },
    {
     "name": "stdout",
     "output_type": "stream",
     "text": [
      "   Drift Rate Speed  Drift Rate Accuracy  Self-excitation Speed  \\\n",
      "0          1.648037             1.329973               5.657368   \n",
      "\n",
      "   Self-excitation Accuracy  Boundary Separation  Non-decision Time Speed  \\\n",
      "0                  0.775016             0.856398                 0.420844   \n",
      "\n",
      "   Non-decision Time Accuracy        BIC  \n",
      "0                    0.537505  69.447511  \n",
      "28\n"
     ]
    },
    {
     "name": "stderr",
     "output_type": "stream",
     "text": [
      "Info: Params [1.36852199 2.12529995 7.77082248 3.73097757 1.60063848 0.25252397\n",
      " 0.41188994] gave -202.22281413052312\n"
     ]
    },
    {
     "name": "stdout",
     "output_type": "stream",
     "text": [
      "   Drift Rate Speed  Drift Rate Accuracy  Self-excitation Speed  \\\n",
      "0          1.368522               2.1253               7.770822   \n",
      "\n",
      "   Self-excitation Accuracy  Boundary Separation  Non-decision Time Speed  \\\n",
      "0                  3.730978             1.600638                 0.252524   \n",
      "\n",
      "   Non-decision Time Accuracy         BIC  \n",
      "0                     0.41189 -202.222814  \n",
      "29\n"
     ]
    },
    {
     "name": "stderr",
     "output_type": "stream",
     "text": [
      "Info: Params [0.75736735 0.74244465 2.65498021 1.52188619 2.0241882  0.30164932\n",
      " 0.51632662] gave 764.30797209895\n"
     ]
    },
    {
     "name": "stdout",
     "output_type": "stream",
     "text": [
      "   Drift Rate Speed  Drift Rate Accuracy  Self-excitation Speed  \\\n",
      "0          0.757367             0.742445                2.65498   \n",
      "\n",
      "   Self-excitation Accuracy  Boundary Separation  Non-decision Time Speed  \\\n",
      "0                  1.521886             2.024188                 0.301649   \n",
      "\n",
      "   Non-decision Time Accuracy         BIC  \n",
      "0                    0.516327  764.307972  \n",
      "30\n"
     ]
    },
    {
     "name": "stderr",
     "output_type": "stream",
     "text": [
      "Info: Params [1.16310653 1.37401902 4.18520994 2.77301373 1.07503874 0.25018916\n",
      " 0.36932032] gave 207.24387397040698\n"
     ]
    },
    {
     "name": "stdout",
     "output_type": "stream",
     "text": [
      "   Drift Rate Speed  Drift Rate Accuracy  Self-excitation Speed  \\\n",
      "0          1.163107             1.374019                4.18521   \n",
      "\n",
      "   Self-excitation Accuracy  Boundary Separation  Non-decision Time Speed  \\\n",
      "0                  2.773014             1.075039                 0.250189   \n",
      "\n",
      "   Non-decision Time Accuracy         BIC  \n",
      "0                     0.36932  207.243874  \n",
      "31\n"
     ]
    },
    {
     "name": "stderr",
     "output_type": "stream",
     "text": [
      "Info: Params [1.4808194  1.51167115 2.37866322 1.44830586 1.57892137 0.28392935\n",
      " 0.32320755] gave 415.58811256219195\n"
     ]
    },
    {
     "name": "stdout",
     "output_type": "stream",
     "text": [
      "   Drift Rate Speed  Drift Rate Accuracy  Self-excitation Speed  \\\n",
      "0          1.480819             1.511671               2.378663   \n",
      "\n",
      "   Self-excitation Accuracy  Boundary Separation  Non-decision Time Speed  \\\n",
      "0                  1.448306             1.578921                 0.283929   \n",
      "\n",
      "   Non-decision Time Accuracy         BIC  \n",
      "0                    0.323208  415.588113  \n",
      "32\n"
     ]
    },
    {
     "name": "stderr",
     "output_type": "stream",
     "text": [
      "Info: Params [1.65150696 1.45415269 4.16508854 1.47151656 1.26599235 0.29054311\n",
      " 0.42572102] gave 211.1219359176236\n"
     ]
    },
    {
     "name": "stdout",
     "output_type": "stream",
     "text": [
      "   Drift Rate Speed  Drift Rate Accuracy  Self-excitation Speed  \\\n",
      "0          1.651507             1.454153               4.165089   \n",
      "\n",
      "   Self-excitation Accuracy  Boundary Separation  Non-decision Time Speed  \\\n",
      "0                  1.471517             1.265992                 0.290543   \n",
      "\n",
      "   Non-decision Time Accuracy         BIC  \n",
      "0                    0.425721  211.121936  \n",
      "33\n"
     ]
    },
    {
     "name": "stderr",
     "output_type": "stream",
     "text": [
      "Info: Params [0.3261537  1.64317306 6.84865298 2.07228833 1.89594857 0.10993177\n",
      " 0.35954956] gave 216.74993610579241\n"
     ]
    },
    {
     "name": "stdout",
     "output_type": "stream",
     "text": [
      "   Drift Rate Speed  Drift Rate Accuracy  Self-excitation Speed  \\\n",
      "0          0.326154             1.643173               6.848653   \n",
      "\n",
      "   Self-excitation Accuracy  Boundary Separation  Non-decision Time Speed  \\\n",
      "0                  2.072288             1.895949                 0.109932   \n",
      "\n",
      "   Non-decision Time Accuracy         BIC  \n",
      "0                     0.35955  216.749936  \n",
      "34\n"
     ]
    },
    {
     "name": "stderr",
     "output_type": "stream",
     "text": [
      "Info: Params [ 1.17242732  1.72835169 10.          3.37974692  1.17989308  0.26338542\n",
      "  0.30198056] gave -140.21284740682023\n"
     ]
    },
    {
     "name": "stdout",
     "output_type": "stream",
     "text": [
      "   Drift Rate Speed  Drift Rate Accuracy  Self-excitation Speed  \\\n",
      "0          1.172427             1.728352                   10.0   \n",
      "\n",
      "   Self-excitation Accuracy  Boundary Separation  Non-decision Time Speed  \\\n",
      "0                  3.379747             1.179893                 0.263385   \n",
      "\n",
      "   Non-decision Time Accuracy         BIC  \n",
      "0                    0.301981 -140.212847  \n",
      "35\n"
     ]
    },
    {
     "name": "stderr",
     "output_type": "stream",
     "text": [
      "Info: Params [ 1.51242485  1.1340613  10.          2.51335647  1.2004468   0.36448783\n",
      "  0.46414339] gave -27.728820117399927\n"
     ]
    },
    {
     "name": "stdout",
     "output_type": "stream",
     "text": [
      "   Drift Rate Speed  Drift Rate Accuracy  Self-excitation Speed  \\\n",
      "0          1.512425             1.134061                   10.0   \n",
      "\n",
      "   Self-excitation Accuracy  Boundary Separation  Non-decision Time Speed  \\\n",
      "0                  2.513356             1.200447                 0.364488   \n",
      "\n",
      "   Non-decision Time Accuracy       BIC  \n",
      "0                    0.464143 -27.72882  \n",
      "36\n"
     ]
    },
    {
     "name": "stderr",
     "output_type": "stream",
     "text": [
      "Info: Params [1.09772485 1.35935909 3.18220795 1.35912441 1.46667513 0.21666394\n",
      " 0.28729166] gave 460.28035247567084\n"
     ]
    },
    {
     "name": "stdout",
     "output_type": "stream",
     "text": [
      "   Drift Rate Speed  Drift Rate Accuracy  Self-excitation Speed  \\\n",
      "0          1.097725             1.359359               3.182208   \n",
      "\n",
      "   Self-excitation Accuracy  Boundary Separation  Non-decision Time Speed  \\\n",
      "0                  1.359124             1.466675                 0.216664   \n",
      "\n",
      "   Non-decision Time Accuracy         BIC  \n",
      "0                    0.287292  460.280352  \n",
      "37\n"
     ]
    },
    {
     "name": "stderr",
     "output_type": "stream",
     "text": [
      "Info: Params [1.29434493 1.78382019 9.60391289 3.52197829 1.5637917  0.23651977\n",
      " 0.34080788] gave -167.76889936582248\n"
     ]
    },
    {
     "name": "stdout",
     "output_type": "stream",
     "text": [
      "   Drift Rate Speed  Drift Rate Accuracy  Self-excitation Speed  \\\n",
      "0          1.294345              1.78382               9.603913   \n",
      "\n",
      "   Self-excitation Accuracy  Boundary Separation  Non-decision Time Speed  \\\n",
      "0                  3.521978             1.563792                  0.23652   \n",
      "\n",
      "   Non-decision Time Accuracy         BIC  \n",
      "0                    0.340808 -167.768899  \n",
      "38\n"
     ]
    },
    {
     "name": "stderr",
     "output_type": "stream",
     "text": [
      "Info: Params [1.67710315 1.78977071 7.04855921 2.59356842 1.33249918 0.2556111\n",
      " 0.4014244 ] gave -104.44160984772664\n"
     ]
    },
    {
     "name": "stdout",
     "output_type": "stream",
     "text": [
      "   Drift Rate Speed  Drift Rate Accuracy  Self-excitation Speed  \\\n",
      "0          1.677103             1.789771               7.048559   \n",
      "\n",
      "   Self-excitation Accuracy  Boundary Separation  Non-decision Time Speed  \\\n",
      "0                  2.593568             1.332499                 0.255611   \n",
      "\n",
      "   Non-decision Time Accuracy        BIC  \n",
      "0                    0.401424 -104.44161  \n",
      "39\n"
     ]
    },
    {
     "name": "stderr",
     "output_type": "stream",
     "text": [
      "Info: Params [0.78952081 0.78318882 5.06499272 0.66907866 1.87493413 0.23706067\n",
      " 0.37299531] gave 437.73957098469305\n"
     ]
    },
    {
     "name": "stdout",
     "output_type": "stream",
     "text": [
      "   Drift Rate Speed  Drift Rate Accuracy  Self-excitation Speed  \\\n",
      "0          0.789521             0.783189               5.064993   \n",
      "\n",
      "   Self-excitation Accuracy  Boundary Separation  Non-decision Time Speed  \\\n",
      "0                  0.669079             1.874934                 0.237061   \n",
      "\n",
      "   Non-decision Time Accuracy         BIC  \n",
      "0                    0.372995  437.739571  \n",
      "40\n"
     ]
    },
    {
     "name": "stderr",
     "output_type": "stream",
     "text": [
      "Info: Params [2.15145843 1.24712086 4.37224457 1.40318908 1.53739164 0.26591649\n",
      " 0.43067573] gave 173.54756706819023\n"
     ]
    },
    {
     "name": "stdout",
     "output_type": "stream",
     "text": [
      "   Drift Rate Speed  Drift Rate Accuracy  Self-excitation Speed  \\\n",
      "0          2.151458             1.247121               4.372245   \n",
      "\n",
      "   Self-excitation Accuracy  Boundary Separation  Non-decision Time Speed  \\\n",
      "0                  1.403189             1.537392                 0.265916   \n",
      "\n",
      "   Non-decision Time Accuracy         BIC  \n",
      "0                    0.430676  173.547567  \n",
      "41\n"
     ]
    },
    {
     "name": "stderr",
     "output_type": "stream",
     "text": [
      "Info: Params [1.34416023 1.13842361 5.99156902 0.55607622 1.12369693 0.29053509\n",
      " 0.34174194] gave 265.4850580159\n"
     ]
    },
    {
     "name": "stdout",
     "output_type": "stream",
     "text": [
      "   Drift Rate Speed  Drift Rate Accuracy  Self-excitation Speed  \\\n",
      "0           1.34416             1.138424               5.991569   \n",
      "\n",
      "   Self-excitation Accuracy  Boundary Separation  Non-decision Time Speed  \\\n",
      "0                  0.556076             1.123697                 0.290535   \n",
      "\n",
      "   Non-decision Time Accuracy         BIC  \n",
      "0                    0.341742  265.485058  \n",
      "42\n"
     ]
    },
    {
     "name": "stderr",
     "output_type": "stream",
     "text": [
      "Info: Params [1.16681534 1.02321999 4.67908826 2.44898541 1.56740261 0.27398874\n",
      " 0.32106363] gave 380.24648003422516\n"
     ]
    },
    {
     "name": "stdout",
     "output_type": "stream",
     "text": [
      "   Drift Rate Speed  Drift Rate Accuracy  Self-excitation Speed  \\\n",
      "0          1.166815              1.02322               4.679088   \n",
      "\n",
      "   Self-excitation Accuracy  Boundary Separation  Non-decision Time Speed  \\\n",
      "0                  2.448985             1.567403                 0.273989   \n",
      "\n",
      "   Non-decision Time Accuracy        BIC  \n",
      "0                    0.321064  380.24648  \n",
      "43\n"
     ]
    },
    {
     "name": "stderr",
     "output_type": "stream",
     "text": [
      "Info: Params [0.62581779 0.73256986 3.91944331 1.42533686 2.23539112 0.14504488\n",
      " 0.1023951 ] gave 723.5205679292667\n"
     ]
    },
    {
     "name": "stdout",
     "output_type": "stream",
     "text": [
      "   Drift Rate Speed  Drift Rate Accuracy  Self-excitation Speed  \\\n",
      "0          0.625818              0.73257               3.919443   \n",
      "\n",
      "   Self-excitation Accuracy  Boundary Separation  Non-decision Time Speed  \\\n",
      "0                  1.425337             2.235391                 0.145045   \n",
      "\n",
      "   Non-decision Time Accuracy         BIC  \n",
      "0                    0.102395  723.520568  \n",
      "44\n"
     ]
    },
    {
     "name": "stderr",
     "output_type": "stream",
     "text": [
      "Info: Params [2.0423051  1.30409318 3.67228944 1.46312688 1.07436149 0.32529552\n",
      " 0.35867248] gave 140.5768936144321\n"
     ]
    },
    {
     "name": "stdout",
     "output_type": "stream",
     "text": [
      "   Drift Rate Speed  Drift Rate Accuracy  Self-excitation Speed  \\\n",
      "0          2.042305             1.304093               3.672289   \n",
      "\n",
      "   Self-excitation Accuracy  Boundary Separation  Non-decision Time Speed  \\\n",
      "0                  1.463127             1.074361                 0.325296   \n",
      "\n",
      "   Non-decision Time Accuracy         BIC  \n",
      "0                    0.358672  140.576894  \n",
      "45\n"
     ]
    },
    {
     "name": "stderr",
     "output_type": "stream",
     "text": [
      "Info: Params [1.12920795 1.3810414  3.76817222 2.23377421 1.35035883 0.28976921\n",
      " 0.35038479] gave 331.4169330869478\n"
     ]
    },
    {
     "name": "stdout",
     "output_type": "stream",
     "text": [
      "   Drift Rate Speed  Drift Rate Accuracy  Self-excitation Speed  \\\n",
      "0          1.129208             1.381041               3.768172   \n",
      "\n",
      "   Self-excitation Accuracy  Boundary Separation  Non-decision Time Speed  \\\n",
      "0                  2.233774             1.350359                 0.289769   \n",
      "\n",
      "   Non-decision Time Accuracy         BIC  \n",
      "0                    0.350385  331.416933  \n",
      "46\n"
     ]
    },
    {
     "name": "stderr",
     "output_type": "stream",
     "text": [
      "Info: Params [1.54734167 1.0924168  4.04187968 0.94600284 2.05024302 0.16110639\n",
      " 0.3822278 ] gave 382.6856223620235\n"
     ]
    },
    {
     "name": "stdout",
     "output_type": "stream",
     "text": [
      "   Drift Rate Speed  Drift Rate Accuracy  Self-excitation Speed  \\\n",
      "0          1.547342             1.092417                4.04188   \n",
      "\n",
      "   Self-excitation Accuracy  Boundary Separation  Non-decision Time Speed  \\\n",
      "0                  0.946003             2.050243                 0.161106   \n",
      "\n",
      "   Non-decision Time Accuracy         BIC  \n",
      "0                    0.382228  382.685622  \n"
     ]
    }
   ],
   "source": [
    "%run Evans2017-OUM2v2k2ter-pyddm.ipynb"
   ]
  },
  {
   "cell_type": "code",
   "execution_count": null,
   "id": "ca79b863",
   "metadata": {},
   "outputs": [],
   "source": []
  }
 ],
 "metadata": {
  "kernelspec": {
   "display_name": "Python 3 (ipykernel)",
   "language": "python",
   "name": "python3"
  },
  "language_info": {
   "codemirror_mode": {
    "name": "ipython",
    "version": 3
   },
   "file_extension": ".py",
   "mimetype": "text/x-python",
   "name": "python",
   "nbconvert_exporter": "python",
   "pygments_lexer": "ipython3",
   "version": "3.7.15"
  }
 },
 "nbformat": 4,
 "nbformat_minor": 5
}
