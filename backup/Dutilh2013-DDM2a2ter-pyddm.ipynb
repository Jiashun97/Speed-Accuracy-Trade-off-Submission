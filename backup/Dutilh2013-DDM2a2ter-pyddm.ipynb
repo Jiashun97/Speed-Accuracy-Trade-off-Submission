{
 "cells": [
  {
   "cell_type": "code",
   "execution_count": 6,
   "id": "2cda49de",
   "metadata": {},
   "outputs": [],
   "source": [
    "%run SAT_help_functions.ipynb"
   ]
  },
  {
   "cell_type": "code",
   "execution_count": null,
   "id": "bc081cf9",
   "metadata": {},
   "outputs": [],
   "source": []
  },
  {
   "cell_type": "markdown",
   "id": "4bd26666",
   "metadata": {},
   "source": [
    "## OUM"
   ]
  },
  {
   "cell_type": "code",
   "execution_count": null,
   "id": "9ef6c434",
   "metadata": {},
   "outputs": [],
   "source": []
  },
  {
   "cell_type": "code",
   "execution_count": 7,
   "id": "e776257c",
   "metadata": {},
   "outputs": [],
   "source": [
    "data_dir = \"/Users/wangjiashun/Desktop/Reserach on SAT/datasets/Evans2021/Dutilh2013/dataBySubject/sub\"\n",
    "sample_size = 32\n",
    "SAT_conds = [\"speed\", \"accuracy\"]"
   ]
  },
  {
   "cell_type": "code",
   "execution_count": 8,
   "id": "f434220f",
   "metadata": {},
   "outputs": [],
   "source": [
    "class BoundSpeedAcc(Bound):\n",
    "    name = \"BoundSpeedAcc\"\n",
    "    required_parameters = [\"Bspeed\", \"Bacc\"]\n",
    "    required_conditions = ['Cond']\n",
    "    def get_bound(self, conditions, *args, **kwargs):\n",
    "        assert self.Bacc > 0\n",
    "        assert self.Bspeed > 0\n",
    "        if conditions['Cond'] == 'speed':\n",
    "            return self.Bspeed\n",
    "        elif conditions['Cond'] == 'accuracy':\n",
    "            return self.Bacc\n",
    "        else:\n",
    "            print(\"Non-implemented SAT conditions\")"
   ]
  },
  {
   "cell_type": "code",
   "execution_count": null,
   "id": "bbb278a6",
   "metadata": {},
   "outputs": [],
   "source": []
  },
  {
   "cell_type": "code",
   "execution_count": 9,
   "id": "6e5e0074",
   "metadata": {},
   "outputs": [],
   "source": [
    "\n",
    "class NondecisionSpeedAcc(OverlayNonDecision):\n",
    "    name = \"NondecisionSpeedAcc\"\n",
    "    required_parameters = [\"tSpeed\", 'tAcc']\n",
    "    required_conditions = ['Cond']\n",
    "        \n",
    "    def get_nondecision_time(self, conditions, **kwargs):\n",
    "        if conditions['Cond'] == 'speed':\n",
    "            return self.tSpeed \n",
    "        elif conditions['Cond'] == 'accuracy':\n",
    "            return self.tAcc\n",
    "        else: \n",
    "            print(\"Non-implemented SAT conditions\")"
   ]
  },
  {
   "cell_type": "code",
   "execution_count": null,
   "id": "b1e0fe9b",
   "metadata": {},
   "outputs": [],
   "source": []
  },
  {
   "cell_type": "code",
   "execution_count": null,
   "id": "81235d16",
   "metadata": {},
   "outputs": [],
   "source": []
  },
  {
   "cell_type": "code",
   "execution_count": null,
   "id": "8a3f5185",
   "metadata": {},
   "outputs": [],
   "source": []
  },
  {
   "cell_type": "code",
   "execution_count": 11,
   "id": "fdb13001",
   "metadata": {
    "scrolled": true
   },
   "outputs": [
    {
     "name": "stdout",
     "output_type": "stream",
     "text": [
      "0\n"
     ]
    },
    {
     "name": "stderr",
     "output_type": "stream",
     "text": [
      "Info: Params [0.58574695 0.5        0.67237188 0.27264852 0.3087094 ] gave 549.3151717672264\n"
     ]
    },
    {
     "name": "stdout",
     "output_type": "stream",
     "text": [
      "   Drift Rate  Boundary Separation Speed      Bacc  Non-decision Time Speed  \\\n",
      "0    0.585747                        0.5  0.672372                 0.272649   \n",
      "\n",
      "   Non-decision Time Accuracy         BIC  \n",
      "0                    0.308709  549.315172  \n",
      "1\n"
     ]
    },
    {
     "name": "stderr",
     "output_type": "stream",
     "text": [
      "Info: Params [1.86080647 0.55543541 0.61862088 0.33722921 0.37284614] gave -182.76635990283955\n"
     ]
    },
    {
     "name": "stdout",
     "output_type": "stream",
     "text": [
      "   Drift Rate  Boundary Separation Speed      Bacc  Non-decision Time Speed  \\\n",
      "0    1.860806                   0.555435  0.618621                 0.337229   \n",
      "\n",
      "   Non-decision Time Accuracy        BIC  \n",
      "0                    0.372846 -182.76636  \n",
      "2\n"
     ]
    },
    {
     "name": "stderr",
     "output_type": "stream",
     "text": [
      "Info: Params [0.         0.86838226 0.76076117 0.12152648 0.56885219] gave 644.9803267184062\n"
     ]
    },
    {
     "name": "stdout",
     "output_type": "stream",
     "text": [
      "   Drift Rate  Boundary Separation Speed      Bacc  Non-decision Time Speed  \\\n",
      "0         0.0                   0.868382  0.760761                 0.121526   \n",
      "\n",
      "   Non-decision Time Accuracy         BIC  \n",
      "0                    0.568852  644.980327  \n",
      "3\n"
     ]
    },
    {
     "name": "stderr",
     "output_type": "stream",
     "text": [
      "Info: Params [4.25031601 0.80550584 0.9156677  0.31006526 0.31387322] gave -202.06324752118908\n"
     ]
    },
    {
     "name": "stdout",
     "output_type": "stream",
     "text": [
      "   Drift Rate  Boundary Separation Speed      Bacc  Non-decision Time Speed  \\\n",
      "0    4.250316                   0.805506  0.915668                 0.310065   \n",
      "\n",
      "   Non-decision Time Accuracy         BIC  \n",
      "0                    0.313873 -202.063248  \n",
      "4\n"
     ]
    },
    {
     "name": "stderr",
     "output_type": "stream",
     "text": [
      "Info: Params [2.23473915 0.7957723  0.78728279 0.21258005 0.29599136] gave -67.02819028567525\n"
     ]
    },
    {
     "name": "stdout",
     "output_type": "stream",
     "text": [
      "   Drift Rate  Boundary Separation Speed      Bacc  Non-decision Time Speed  \\\n",
      "0    2.234739                   0.795772  0.787283                  0.21258   \n",
      "\n",
      "   Non-decision Time Accuracy       BIC  \n",
      "0                    0.295991 -67.02819  \n",
      "5\n"
     ]
    },
    {
     "name": "stderr",
     "output_type": "stream",
     "text": [
      "Info: Params [1.62777996 0.6014147  0.83066323 0.25006922 0.26649732] gave -41.72688456154479\n"
     ]
    },
    {
     "name": "stdout",
     "output_type": "stream",
     "text": [
      "   Drift Rate  Boundary Separation Speed      Bacc  Non-decision Time Speed  \\\n",
      "0     1.62778                   0.601415  0.830663                 0.250069   \n",
      "\n",
      "   Non-decision Time Accuracy        BIC  \n",
      "0                    0.266497 -41.726885  \n",
      "6\n"
     ]
    },
    {
     "name": "stderr",
     "output_type": "stream",
     "text": [
      "Info: Params [1.62615568 0.55111189 0.51965359 0.22404167 0.399342  ] gave -320.77790841770326\n"
     ]
    },
    {
     "name": "stdout",
     "output_type": "stream",
     "text": [
      "   Drift Rate  Boundary Separation Speed      Bacc  Non-decision Time Speed  \\\n",
      "0    1.626156                   0.551112  0.519654                 0.224042   \n",
      "\n",
      "   Non-decision Time Accuracy         BIC  \n",
      "0                    0.399342 -320.777908  \n",
      "7\n"
     ]
    },
    {
     "name": "stderr",
     "output_type": "stream",
     "text": [
      "Info: Params [1.69653717 0.75808716 0.66060999 0.15957774 0.27406649] gave 11.247134323129778\n"
     ]
    },
    {
     "name": "stdout",
     "output_type": "stream",
     "text": [
      "   Drift Rate  Boundary Separation Speed     Bacc  Non-decision Time Speed  \\\n",
      "0    1.696537                   0.758087  0.66061                 0.159578   \n",
      "\n",
      "   Non-decision Time Accuracy        BIC  \n",
      "0                    0.274066  11.247134  \n",
      "8\n"
     ]
    },
    {
     "name": "stderr",
     "output_type": "stream",
     "text": [
      "Info: Params [1.12975307 0.76439212 0.63574223 0.15078584 0.30657567] gave 239.15004458486356\n"
     ]
    },
    {
     "name": "stdout",
     "output_type": "stream",
     "text": [
      "   Drift Rate  Boundary Separation Speed      Bacc  Non-decision Time Speed  \\\n",
      "0    1.129753                   0.764392  0.635742                 0.150786   \n",
      "\n",
      "   Non-decision Time Accuracy         BIC  \n",
      "0                    0.306576  239.150045  \n",
      "9\n"
     ]
    },
    {
     "name": "stderr",
     "output_type": "stream",
     "text": [
      "Info: Params [0.198038   0.53121473 0.67607144 0.14140416 0.25324301] gave 353.18041990616723\n"
     ]
    },
    {
     "name": "stdout",
     "output_type": "stream",
     "text": [
      "   Drift Rate  Boundary Separation Speed      Bacc  Non-decision Time Speed  \\\n",
      "0    0.198038                   0.531215  0.676071                 0.141404   \n",
      "\n",
      "   Non-decision Time Accuracy        BIC  \n",
      "0                    0.253243  353.18042  \n",
      "10\n"
     ]
    },
    {
     "name": "stderr",
     "output_type": "stream",
     "text": [
      "Info: Params [3.31107539 1.08306083 0.84436095 0.28827756 0.38508208] gave -72.5074545774012\n"
     ]
    },
    {
     "name": "stdout",
     "output_type": "stream",
     "text": [
      "   Drift Rate  Boundary Separation Speed      Bacc  Non-decision Time Speed  \\\n",
      "0    3.311075                   1.083061  0.844361                 0.288278   \n",
      "\n",
      "   Non-decision Time Accuracy        BIC  \n",
      "0                    0.385082 -72.507455  \n",
      "11\n"
     ]
    },
    {
     "name": "stderr",
     "output_type": "stream",
     "text": [
      "Info: Params [2.58640326 0.55678984 0.70380525 0.30865464 0.31756648] gave -631.3813718438232\n"
     ]
    },
    {
     "name": "stdout",
     "output_type": "stream",
     "text": [
      "   Drift Rate  Boundary Separation Speed      Bacc  Non-decision Time Speed  \\\n",
      "0    2.586403                    0.55679  0.703805                 0.308655   \n",
      "\n",
      "   Non-decision Time Accuracy         BIC  \n",
      "0                    0.317566 -631.381372  \n",
      "12\n"
     ]
    },
    {
     "name": "stderr",
     "output_type": "stream",
     "text": [
      "Info: Params [3.65146501 0.71846716 0.68148218 0.28216135 0.2967315 ] gave -608.4835445508944\n"
     ]
    },
    {
     "name": "stdout",
     "output_type": "stream",
     "text": [
      "   Drift Rate  Boundary Separation Speed      Bacc  Non-decision Time Speed  \\\n",
      "0    3.651465                   0.718467  0.681482                 0.282161   \n",
      "\n",
      "   Non-decision Time Accuracy         BIC  \n",
      "0                    0.296732 -608.483545  \n",
      "13\n"
     ]
    },
    {
     "name": "stderr",
     "output_type": "stream",
     "text": [
      "Info: Params [1.83598617 0.53881402 0.60829699 0.234526   0.30774353] gave -339.5177480244264\n"
     ]
    },
    {
     "name": "stdout",
     "output_type": "stream",
     "text": [
      "   Drift Rate  Boundary Separation Speed      Bacc  Non-decision Time Speed  \\\n",
      "0    1.835986                   0.538814  0.608297                 0.234526   \n",
      "\n",
      "   Non-decision Time Accuracy         BIC  \n",
      "0                    0.307744 -339.517748  \n",
      "14\n"
     ]
    },
    {
     "name": "stderr",
     "output_type": "stream",
     "text": [
      "Info: Params [0.25762891 0.5        0.69133378 0.32371914 0.30907683] gave 767.5271614939901\n"
     ]
    },
    {
     "name": "stdout",
     "output_type": "stream",
     "text": [
      "   Drift Rate  Boundary Separation Speed      Bacc  Non-decision Time Speed  \\\n",
      "0    0.257629                        0.5  0.691334                 0.323719   \n",
      "\n",
      "   Non-decision Time Accuracy         BIC  \n",
      "0                    0.309077  767.527161  \n",
      "15\n"
     ]
    },
    {
     "name": "stderr",
     "output_type": "stream",
     "text": [
      "Info: Params [3.32009333 0.63539928 0.62634369 0.32292547 0.34894648] gave -437.5561646717746\n"
     ]
    },
    {
     "name": "stdout",
     "output_type": "stream",
     "text": [
      "   Drift Rate  Boundary Separation Speed      Bacc  Non-decision Time Speed  \\\n",
      "0    3.320093                   0.635399  0.626344                 0.322925   \n",
      "\n",
      "   Non-decision Time Accuracy         BIC  \n",
      "0                    0.348946 -437.556165  \n",
      "16\n"
     ]
    },
    {
     "name": "stderr",
     "output_type": "stream",
     "text": [
      "Info: Params [0.84763668 0.61294336 0.74352171 0.14095208 0.22016324] gave 544.297323110011\n"
     ]
    },
    {
     "name": "stdout",
     "output_type": "stream",
     "text": [
      "   Drift Rate  Boundary Separation Speed      Bacc  Non-decision Time Speed  \\\n",
      "0    0.847637                   0.612943  0.743522                 0.140952   \n",
      "\n",
      "   Non-decision Time Accuracy         BIC  \n",
      "0                    0.220163  544.297323  \n",
      "17\n"
     ]
    },
    {
     "name": "stderr",
     "output_type": "stream",
     "text": [
      "Info: Params [3.17331352 0.60582723 0.73765577 0.25563627 0.24432878] gave -922.6673299947524\n"
     ]
    },
    {
     "name": "stdout",
     "output_type": "stream",
     "text": [
      "   Drift Rate  Boundary Separation Speed      Bacc  Non-decision Time Speed  \\\n",
      "0    3.173314                   0.605827  0.737656                 0.255636   \n",
      "\n",
      "   Non-decision Time Accuracy        BIC  \n",
      "0                    0.244329 -922.66733  \n",
      "18\n"
     ]
    },
    {
     "name": "stderr",
     "output_type": "stream",
     "text": [
      "Info: Params [2.05991697 0.52382658 0.55542589 0.26371025 0.27981107] gave -311.98487010650547\n"
     ]
    },
    {
     "name": "stdout",
     "output_type": "stream",
     "text": [
      "   Drift Rate  Boundary Separation Speed      Bacc  Non-decision Time Speed  \\\n",
      "0    2.059917                   0.523827  0.555426                  0.26371   \n",
      "\n",
      "   Non-decision Time Accuracy        BIC  \n",
      "0                    0.279811 -311.98487  \n",
      "19\n"
     ]
    },
    {
     "name": "stderr",
     "output_type": "stream",
     "text": [
      "Info: Params [2.02032906 0.62992094 0.60245073 0.19076007 0.27128725] gave -573.4100229785657\n"
     ]
    },
    {
     "name": "stdout",
     "output_type": "stream",
     "text": [
      "   Drift Rate  Boundary Separation Speed      Bacc  Non-decision Time Speed  \\\n",
      "0    2.020329                   0.629921  0.602451                  0.19076   \n",
      "\n",
      "   Non-decision Time Accuracy         BIC  \n",
      "0                    0.271287 -573.410023  \n",
      "20\n"
     ]
    },
    {
     "name": "stderr",
     "output_type": "stream",
     "text": [
      "Info: Params [1.01605651 0.5        0.59627978 0.20609911 0.26415111] gave -185.89792714955558\n"
     ]
    },
    {
     "name": "stdout",
     "output_type": "stream",
     "text": [
      "   Drift Rate  Boundary Separation Speed     Bacc  Non-decision Time Speed  \\\n",
      "0    1.016057                        0.5  0.59628                 0.206099   \n",
      "\n",
      "   Non-decision Time Accuracy         BIC  \n",
      "0                    0.264151 -185.897927  \n",
      "21\n"
     ]
    },
    {
     "name": "stderr",
     "output_type": "stream",
     "text": [
      "Info: Params [0.71853471 0.55665021 0.59520328 0.18201412 0.31897566] gave 617.0443152524034\n"
     ]
    },
    {
     "name": "stdout",
     "output_type": "stream",
     "text": [
      "   Drift Rate  Boundary Separation Speed      Bacc  Non-decision Time Speed  \\\n",
      "0    0.718535                    0.55665  0.595203                 0.182014   \n",
      "\n",
      "   Non-decision Time Accuracy         BIC  \n",
      "0                    0.318976  617.044315  \n",
      "22\n"
     ]
    },
    {
     "name": "stderr",
     "output_type": "stream",
     "text": [
      "Info: Params [3.42145886 0.86487288 0.54069274 0.23220642 0.38161935] gave -192.5928833598289\n"
     ]
    },
    {
     "name": "stdout",
     "output_type": "stream",
     "text": [
      "   Drift Rate  Boundary Separation Speed      Bacc  Non-decision Time Speed  \\\n",
      "0    3.421459                   0.864873  0.540693                 0.232206   \n",
      "\n",
      "   Non-decision Time Accuracy         BIC  \n",
      "0                    0.381619 -192.592883  \n",
      "23\n"
     ]
    },
    {
     "name": "stderr",
     "output_type": "stream",
     "text": [
      "Info: Params [2.33095767 0.5        0.5        0.21469247 0.29195159] gave -956.5900724208786\n"
     ]
    },
    {
     "name": "stdout",
     "output_type": "stream",
     "text": [
      "   Drift Rate  Boundary Separation Speed  Bacc  Non-decision Time Speed  \\\n",
      "0    2.330958                        0.5   0.5                 0.214692   \n",
      "\n",
      "   Non-decision Time Accuracy         BIC  \n",
      "0                    0.291952 -956.590072  \n",
      "24\n"
     ]
    },
    {
     "name": "stderr",
     "output_type": "stream",
     "text": [
      "Info: Params [2.50008573 0.57204185 0.50038577 0.24301872 0.32884734] gave -743.8716776142988\n"
     ]
    },
    {
     "name": "stdout",
     "output_type": "stream",
     "text": [
      "   Drift Rate  Boundary Separation Speed      Bacc  Non-decision Time Speed  \\\n",
      "0    2.500086                   0.572042  0.500386                 0.243019   \n",
      "\n",
      "   Non-decision Time Accuracy         BIC  \n",
      "0                    0.328847 -743.871678  \n",
      "25\n"
     ]
    },
    {
     "name": "stderr",
     "output_type": "stream",
     "text": [
      "Info: Params [1.23725081 0.56730379 0.5        0.14430483 0.30049929] gave -174.79556301117154\n"
     ]
    },
    {
     "name": "stdout",
     "output_type": "stream",
     "text": [
      "   Drift Rate  Boundary Separation Speed  Bacc  Non-decision Time Speed  \\\n",
      "0    1.237251                   0.567304   0.5                 0.144305   \n",
      "\n",
      "   Non-decision Time Accuracy         BIC  \n",
      "0                    0.300499 -174.795563  \n",
      "26\n"
     ]
    },
    {
     "name": "stderr",
     "output_type": "stream",
     "text": [
      "Info: Params [4.45077128 1.35777349 1.04930424 0.19377624 0.26292338] gave -220.84762306408362\n"
     ]
    },
    {
     "name": "stdout",
     "output_type": "stream",
     "text": [
      "   Drift Rate  Boundary Separation Speed      Bacc  Non-decision Time Speed  \\\n",
      "0    4.450771                   1.357773  1.049304                 0.193776   \n",
      "\n",
      "   Non-decision Time Accuracy         BIC  \n",
      "0                    0.262923 -220.847623  \n",
      "27\n"
     ]
    },
    {
     "name": "stderr",
     "output_type": "stream",
     "text": [
      "Info: Params [2.92394908 0.54768376 0.5        0.24298759 0.28656415] gave -873.328192839231\n"
     ]
    },
    {
     "name": "stdout",
     "output_type": "stream",
     "text": [
      "   Drift Rate  Boundary Separation Speed  Bacc  Non-decision Time Speed  \\\n",
      "0    2.923949                   0.547684   0.5                 0.242988   \n",
      "\n",
      "   Non-decision Time Accuracy         BIC  \n",
      "0                    0.286564 -873.328193  \n",
      "28\n"
     ]
    },
    {
     "name": "stderr",
     "output_type": "stream",
     "text": [
      "Info: Params [3.30063981 0.5        0.5        0.28097814 0.30172839] gave -927.1675116553819\n"
     ]
    },
    {
     "name": "stdout",
     "output_type": "stream",
     "text": [
      "   Drift Rate  Boundary Separation Speed  Bacc  Non-decision Time Speed  \\\n",
      "0     3.30064                        0.5   0.5                 0.280978   \n",
      "\n",
      "   Non-decision Time Accuracy         BIC  \n",
      "0                    0.301728 -927.167512  \n",
      "29\n"
     ]
    },
    {
     "name": "stderr",
     "output_type": "stream",
     "text": [
      "Info: Params [3.00250882 0.54972461 0.62147774 0.30853102 0.3043472 ] gave -758.1935807380833\n"
     ]
    },
    {
     "name": "stdout",
     "output_type": "stream",
     "text": [
      "   Drift Rate  Boundary Separation Speed      Bacc  Non-decision Time Speed  \\\n",
      "0    3.002509                   0.549725  0.621478                 0.308531   \n",
      "\n",
      "   Non-decision Time Accuracy         BIC  \n",
      "0                    0.304347 -758.193581  \n",
      "30\n"
     ]
    },
    {
     "name": "stderr",
     "output_type": "stream",
     "text": [
      "Info: Params [1.99612378 0.66384231 0.52472932 0.20252815 0.30906421] gave -207.81099598089523\n"
     ]
    },
    {
     "name": "stdout",
     "output_type": "stream",
     "text": [
      "   Drift Rate  Boundary Separation Speed      Bacc  Non-decision Time Speed  \\\n",
      "0    1.996124                   0.663842  0.524729                 0.202528   \n",
      "\n",
      "   Non-decision Time Accuracy         BIC  \n",
      "0                    0.309064 -207.810996  \n",
      "31\n"
     ]
    },
    {
     "name": "stderr",
     "output_type": "stream",
     "text": [
      "Info: Params [2.44266603 0.53271409 0.55964956 0.23973674 0.27904159] gave -1088.425141880628\n"
     ]
    },
    {
     "name": "stdout",
     "output_type": "stream",
     "text": [
      "   Drift Rate  Boundary Separation Speed     Bacc  Non-decision Time Speed  \\\n",
      "0    2.442666                   0.532714  0.55965                 0.239737   \n",
      "\n",
      "   Non-decision Time Accuracy          BIC  \n",
      "0                    0.279042 -1088.425142  \n"
     ]
    }
   ],
   "source": [
    "df_all = pd.DataFrame()\n",
    "for i in range(sample_size):\n",
    "    print(i)\n",
    "    path = os.path.join(data_dir+str(i+1)+\".csv\")\n",
    "    df = pd.read_csv(path, sep = \",\")\n",
    "    #df = df[df[\"cond\"]==SAT] # A condition\n",
    "    df = df[df[\"Time\"]<3]\n",
    "\n",
    "    samp = Sample.from_pandas_dataframe(df, rt_column_name=\"Time\", correct_column_name=\"Correct\")\n",
    "    df = get_DDM_result_sub_2a2ter(samp)\n",
    "    df_all = pd.concat((df_all,df))\n",
    "    print(df)\n",
    "df_OUM = df_all.copy()\n"
   ]
  },
  {
   "cell_type": "code",
   "execution_count": 12,
   "id": "3b05a53a",
   "metadata": {},
   "outputs": [],
   "source": [
    "df_OUM.to_csv(\"DDM2a2terresultDutilh2013.csv\")"
   ]
  },
  {
   "cell_type": "code",
   "execution_count": 13,
   "id": "87e8797e",
   "metadata": {},
   "outputs": [
    {
     "data": {
      "text/plain": [
       "-228.5828240623417"
      ]
     },
     "execution_count": 13,
     "metadata": {},
     "output_type": "execute_result"
    }
   ],
   "source": [
    "df_OUM[\"BIC\"].mean()"
   ]
  },
  {
   "cell_type": "code",
   "execution_count": null,
   "id": "c5baddcf",
   "metadata": {},
   "outputs": [],
   "source": []
  }
 ],
 "metadata": {
  "kernelspec": {
   "display_name": "Python 3 (ipykernel)",
   "language": "python",
   "name": "python3"
  },
  "language_info": {
   "codemirror_mode": {
    "name": "ipython",
    "version": 3
   },
   "file_extension": ".py",
   "mimetype": "text/x-python",
   "name": "python",
   "nbconvert_exporter": "python",
   "pygments_lexer": "ipython3",
   "version": "3.11.4"
  }
 },
 "nbformat": 4,
 "nbformat_minor": 5
}
