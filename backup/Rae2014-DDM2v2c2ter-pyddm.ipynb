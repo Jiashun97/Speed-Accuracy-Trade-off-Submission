{
 "cells": [
  {
   "cell_type": "code",
   "execution_count": 1,
   "id": "2cda49de",
   "metadata": {},
   "outputs": [],
   "source": [
    "%run SAT_help_functions.ipynb"
   ]
  },
  {
   "cell_type": "code",
   "execution_count": null,
   "id": "bc081cf9",
   "metadata": {},
   "outputs": [],
   "source": []
  },
  {
   "cell_type": "markdown",
   "id": "4bd26666",
   "metadata": {},
   "source": [
    "## OUM"
   ]
  },
  {
   "cell_type": "code",
   "execution_count": null,
   "id": "9ef6c434",
   "metadata": {},
   "outputs": [],
   "source": []
  },
  {
   "cell_type": "code",
   "execution_count": 2,
   "id": "e776257c",
   "metadata": {},
   "outputs": [],
   "source": [
    "data_dir = \"/Users/wangjiashun/Desktop/Reserach on SAT/datasets/Evans2021/Rae2014/dataBySubject/sub\"\n",
    "sample_size = 34\n",
    "SAT_conds = [\"Speed\", \"Accuracy\"]"
   ]
  },
  {
   "cell_type": "code",
   "execution_count": 3,
   "id": "5e4571c4",
   "metadata": {},
   "outputs": [],
   "source": [
    "\n",
    "class DriftConstantSpeedAcc(Drift):\n",
    "    name = \"DriftConstantSpeedAcc\"\n",
    "    required_parameters = [\"Vspeed\",\"Vacc\"]\n",
    "    required_conditions = ['Cond']\n",
    "        \n",
    "    def get_drift(self, x, t, conditions, **kwargs):\n",
    "        if conditions['Cond'] == 'Speed':\n",
    "            return self.Vspeed\n",
    "        elif conditions['Cond'] == 'Accuracy':\n",
    "            return self.Vacc\n",
    "\n",
    "class BoundCollapsingLinearSAT(BoundCollapsingLinear):\n",
    "    name = \"BoundSpeedAcc\"\n",
    "    required_parameters = [\"B\", \"cSpeed\", 'cAcc']\n",
    "    required_conditions = ['Cond']\n",
    "        \n",
    "    def get_bound(self, t, conditions, **kwargs):\n",
    "        if conditions['Cond'] == 'Speed':\n",
    "            return max(self.B - self.cSpeed*t, 0.)\n",
    "        elif conditions['Cond'] == 'Accuracy':\n",
    "            return max(self.B - self.cAcc*t, 0.)\n",
    "\n",
    "class NondecisionSpeedAcc(OverlayNonDecision):\n",
    "    name = \"NondecisionSpeedAcc\"\n",
    "    required_parameters = [\"tSpeed\", 'tAcc']\n",
    "    required_conditions = ['Cond']\n",
    "        \n",
    "    def get_nondecision_time(self, conditions, **kwargs):\n",
    "        if conditions['Cond'] == 'Speed':\n",
    "            return self.tSpeed \n",
    "        elif conditions['Cond'] == 'Accuracy':\n",
    "            return self.tAcc"
   ]
  },
  {
   "cell_type": "code",
   "execution_count": null,
   "id": "8a3f5185",
   "metadata": {},
   "outputs": [],
   "source": []
  },
  {
   "cell_type": "code",
   "execution_count": 4,
   "id": "fdb13001",
   "metadata": {
    "scrolled": true
   },
   "outputs": [
    {
     "name": "stderr",
     "output_type": "stream",
     "text": [
      "Warning: This function (from_pandas_dataframe()) is deprecated and will be removed in a future version of PyDDM.  Please use the choice_column_name argument instead.\n"
     ]
    },
    {
     "name": "stdout",
     "output_type": "stream",
     "text": [
      "0\n"
     ]
    },
    {
     "name": "stderr",
     "output_type": "stream",
     "text": [
      "Info: Params [1.53754845 1.81919153 0.68036587 0.40973718 0.35025717 0.23628427\n",
      " 0.30442902] gave -777.0697756515115\n",
      "Warning: This function (from_pandas_dataframe()) is deprecated and will be removed in a future version of PyDDM.  Please use the choice_column_name argument instead.\n"
     ]
    },
    {
     "name": "stdout",
     "output_type": "stream",
     "text": [
      "     Vspeed      Vacc  Boundary Separation  Collapse Speed  Collapse Accuracy  \\\n",
      "0  1.537548  1.819192             0.680366        0.409737           0.350257   \n",
      "\n",
      "   Non-decision Time Speed  Non-decision Time Accuracy         BIC  \n",
      "0                 0.236284                    0.304429 -777.069776  \n",
      "1\n"
     ]
    },
    {
     "name": "stderr",
     "output_type": "stream",
     "text": [
      "Info: Params [0.97526939 1.89066142 0.61064958 0.53422786 0.53420201 0.21250938\n",
      " 0.30860609] gave -1825.6211071987916\n",
      "Warning: This function (from_pandas_dataframe()) is deprecated and will be removed in a future version of PyDDM.  Please use the choice_column_name argument instead.\n"
     ]
    },
    {
     "name": "stdout",
     "output_type": "stream",
     "text": [
      "     Vspeed      Vacc  Boundary Separation  Collapse Speed  Collapse Accuracy  \\\n",
      "0  0.975269  1.890661              0.61065        0.534228           0.534202   \n",
      "\n",
      "   Non-decision Time Speed  Non-decision Time Accuracy          BIC  \n",
      "0                 0.212509                    0.308606 -1825.621107  \n",
      "2\n"
     ]
    },
    {
     "name": "stderr",
     "output_type": "stream",
     "text": [
      "Info: Params [0.32967989 0.42682238 0.55619405 0.20545141 0.20784381 0.16248159\n",
      " 0.17248878] gave 190.28568103492623\n",
      "Warning: This function (from_pandas_dataframe()) is deprecated and will be removed in a future version of PyDDM.  Please use the choice_column_name argument instead.\n"
     ]
    },
    {
     "name": "stdout",
     "output_type": "stream",
     "text": [
      "    Vspeed      Vacc  Boundary Separation  Collapse Speed  Collapse Accuracy  \\\n",
      "0  0.32968  0.426822             0.556194        0.205451           0.207844   \n",
      "\n",
      "   Non-decision Time Speed  Non-decision Time Accuracy         BIC  \n",
      "0                 0.162482                    0.172489  190.285681  \n",
      "3\n"
     ]
    },
    {
     "name": "stderr",
     "output_type": "stream",
     "text": [
      "Info: Params [2.13838775 2.87351181 0.55615048 0.84467963 0.41714725 0.28058321\n",
      " 0.30415179] gave -3748.8708405038883\n",
      "Warning: This function (from_pandas_dataframe()) is deprecated and will be removed in a future version of PyDDM.  Please use the choice_column_name argument instead.\n"
     ]
    },
    {
     "name": "stdout",
     "output_type": "stream",
     "text": [
      "     Vspeed      Vacc  Boundary Separation  Collapse Speed  Collapse Accuracy  \\\n",
      "0  2.138388  2.873512              0.55615         0.84468           0.417147   \n",
      "\n",
      "   Non-decision Time Speed  Non-decision Time Accuracy          BIC  \n",
      "0                 0.280583                    0.304152 -3748.870841  \n",
      "4\n"
     ]
    },
    {
     "name": "stderr",
     "output_type": "stream",
     "text": [
      "Info: Params [0.46974826 0.65785889 0.64274207 0.57752532 0.64889659 0.155036\n",
      " 0.17343911] gave -144.13135696259965\n",
      "Warning: This function (from_pandas_dataframe()) is deprecated and will be removed in a future version of PyDDM.  Please use the choice_column_name argument instead.\n"
     ]
    },
    {
     "name": "stdout",
     "output_type": "stream",
     "text": [
      "     Vspeed      Vacc  Boundary Separation  Collapse Speed  Collapse Accuracy  \\\n",
      "0  0.469748  0.657859             0.642742        0.577525           0.648897   \n",
      "\n",
      "   Non-decision Time Speed  Non-decision Time Accuracy         BIC  \n",
      "0                 0.155036                    0.173439 -144.131357  \n",
      "5\n"
     ]
    },
    {
     "name": "stderr",
     "output_type": "stream",
     "text": [
      "Info: Params [2.08781596 2.30079794 0.58911936 0.54081314 0.97577995 0.24421999\n",
      " 0.27408202] gave -1730.6978046873614\n",
      "Warning: This function (from_pandas_dataframe()) is deprecated and will be removed in a future version of PyDDM.  Please use the choice_column_name argument instead.\n"
     ]
    },
    {
     "name": "stdout",
     "output_type": "stream",
     "text": [
      "     Vspeed      Vacc  Boundary Separation  Collapse Speed  Collapse Accuracy  \\\n",
      "0  2.087816  2.300798             0.589119        0.540813            0.97578   \n",
      "\n",
      "   Non-decision Time Speed  Non-decision Time Accuracy          BIC  \n",
      "0                  0.24422                    0.274082 -1730.697805  \n",
      "6\n"
     ]
    },
    {
     "name": "stderr",
     "output_type": "stream",
     "text": [
      "Info: Params [1.51641687 2.18062774 0.51229048 0.82339837 0.28180335 0.27643544\n",
      " 0.31165423] gave -2632.4426299588094\n",
      "Warning: This function (from_pandas_dataframe()) is deprecated and will be removed in a future version of PyDDM.  Please use the choice_column_name argument instead.\n"
     ]
    },
    {
     "name": "stdout",
     "output_type": "stream",
     "text": [
      "     Vspeed      Vacc  Boundary Separation  Collapse Speed  Collapse Accuracy  \\\n",
      "0  1.516417  2.180628              0.51229        0.823398           0.281803   \n",
      "\n",
      "   Non-decision Time Speed  Non-decision Time Accuracy         BIC  \n",
      "0                 0.276435                    0.311654 -2632.44263  \n",
      "7\n"
     ]
    },
    {
     "name": "stderr",
     "output_type": "stream",
     "text": [
      "Info: Params [1.82380185 1.67245714 0.58648867 0.80870015 0.02469914 0.24360946\n",
      " 0.2785744 ] gave -1639.5691242036849\n",
      "Warning: This function (from_pandas_dataframe()) is deprecated and will be removed in a future version of PyDDM.  Please use the choice_column_name argument instead.\n"
     ]
    },
    {
     "name": "stdout",
     "output_type": "stream",
     "text": [
      "     Vspeed      Vacc  Boundary Separation  Collapse Speed  Collapse Accuracy  \\\n",
      "0  1.823802  1.672457             0.586489          0.8087           0.024699   \n",
      "\n",
      "   Non-decision Time Speed  Non-decision Time Accuracy          BIC  \n",
      "0                 0.243609                    0.278574 -1639.569124  \n",
      "8\n"
     ]
    },
    {
     "name": "stderr",
     "output_type": "stream",
     "text": [
      "Info: Params [1.74728265 1.95935078 0.67431416 0.81216041 0.95736487 0.27454887\n",
      " 0.295757  ] gave -1330.5205985803314\n",
      "Warning: This function (from_pandas_dataframe()) is deprecated and will be removed in a future version of PyDDM.  Please use the choice_column_name argument instead.\n"
     ]
    },
    {
     "name": "stdout",
     "output_type": "stream",
     "text": [
      "     Vspeed      Vacc  Boundary Separation  Collapse Speed  Collapse Accuracy  \\\n",
      "0  1.747283  1.959351             0.674314         0.81216           0.957365   \n",
      "\n",
      "   Non-decision Time Speed  Non-decision Time Accuracy          BIC  \n",
      "0                 0.274549                    0.295757 -1330.520599  \n",
      "9\n"
     ]
    },
    {
     "name": "stderr",
     "output_type": "stream",
     "text": [
      "Info: Params [1.03113701 1.71555459 0.6330734  0.97696977 0.4468085  0.21959474\n",
      " 0.25341905] gave -1809.4186111240745\n",
      "Warning: This function (from_pandas_dataframe()) is deprecated and will be removed in a future version of PyDDM.  Please use the choice_column_name argument instead.\n"
     ]
    },
    {
     "name": "stdout",
     "output_type": "stream",
     "text": [
      "     Vspeed      Vacc  Boundary Separation  Collapse Speed  Collapse Accuracy  \\\n",
      "0  1.031137  1.715555             0.633073         0.97697           0.446809   \n",
      "\n",
      "   Non-decision Time Speed  Non-decision Time Accuracy          BIC  \n",
      "0                 0.219595                    0.253419 -1809.418611  \n",
      "10\n"
     ]
    },
    {
     "name": "stderr",
     "output_type": "stream",
     "text": [
      "Info: Params [0.22857339 0.30863396 0.50219957 0.14280721 0.14862789 0.17272658\n",
      " 0.17188235] gave -136.47436613212741\n",
      "Warning: This function (from_pandas_dataframe()) is deprecated and will be removed in a future version of PyDDM.  Please use the choice_column_name argument instead.\n"
     ]
    },
    {
     "name": "stdout",
     "output_type": "stream",
     "text": [
      "     Vspeed      Vacc  Boundary Separation  Collapse Speed  Collapse Accuracy  \\\n",
      "0  0.228573  0.308634               0.5022        0.142807           0.148628   \n",
      "\n",
      "   Non-decision Time Speed  Non-decision Time Accuracy         BIC  \n",
      "0                 0.172727                    0.171882 -136.474366  \n",
      "11\n"
     ]
    },
    {
     "name": "stderr",
     "output_type": "stream",
     "text": [
      "Info: Params [0.85844941 1.24008938 0.706488   0.78117035 0.1596089  0.19867343\n",
      " 0.25461067] gave 209.41898178860265\n",
      "Warning: This function (from_pandas_dataframe()) is deprecated and will be removed in a future version of PyDDM.  Please use the choice_column_name argument instead.\n"
     ]
    },
    {
     "name": "stdout",
     "output_type": "stream",
     "text": [
      "     Vspeed      Vacc  Boundary Separation  Collapse Speed  Collapse Accuracy  \\\n",
      "0  0.858449  1.240089             0.706488         0.78117           0.159609   \n",
      "\n",
      "   Non-decision Time Speed  Non-decision Time Accuracy         BIC  \n",
      "0                 0.198673                    0.254611  209.418982  \n",
      "12\n"
     ]
    },
    {
     "name": "stderr",
     "output_type": "stream",
     "text": [
      "Info: Params [0.45155629 1.03227658 0.60929063 0.29344797 0.25976189 0.17324118\n",
      " 0.21068773] gave 144.8124359496583\n",
      "Warning: This function (from_pandas_dataframe()) is deprecated and will be removed in a future version of PyDDM.  Please use the choice_column_name argument instead.\n"
     ]
    },
    {
     "name": "stdout",
     "output_type": "stream",
     "text": [
      "     Vspeed      Vacc  Boundary Separation  Collapse Speed  Collapse Accuracy  \\\n",
      "0  0.451556  1.032277             0.609291        0.293448           0.259762   \n",
      "\n",
      "   Non-decision Time Speed  Non-decision Time Accuracy         BIC  \n",
      "0                 0.173241                    0.210688  144.812436  \n",
      "13\n"
     ]
    },
    {
     "name": "stderr",
     "output_type": "stream",
     "text": [
      "Info: Params [0.07600361 0.58317819 0.50974432 0.2988479  0.09409781 0.15165503\n",
      " 0.17166521] gave -205.6265586458768\n",
      "Warning: This function (from_pandas_dataframe()) is deprecated and will be removed in a future version of PyDDM.  Please use the choice_column_name argument instead.\n"
     ]
    },
    {
     "name": "stdout",
     "output_type": "stream",
     "text": [
      "     Vspeed      Vacc  Boundary Separation  Collapse Speed  Collapse Accuracy  \\\n",
      "0  0.076004  0.583178             0.509744        0.298848           0.094098   \n",
      "\n",
      "   Non-decision Time Speed  Non-decision Time Accuracy         BIC  \n",
      "0                 0.151655                    0.171665 -205.626559  \n",
      "14\n"
     ]
    },
    {
     "name": "stderr",
     "output_type": "stream",
     "text": [
      "Info: Params [1.35984725 1.39440147 0.64383412 0.44362667 0.32853539 0.3039293\n",
      " 0.29251528] gave -886.6056905289975\n",
      "Warning: This function (from_pandas_dataframe()) is deprecated and will be removed in a future version of PyDDM.  Please use the choice_column_name argument instead.\n"
     ]
    },
    {
     "name": "stdout",
     "output_type": "stream",
     "text": [
      "     Vspeed      Vacc  Boundary Separation  Collapse Speed  Collapse Accuracy  \\\n",
      "0  1.359847  1.394401             0.643834        0.443627           0.328535   \n",
      "\n",
      "   Non-decision Time Speed  Non-decision Time Accuracy         BIC  \n",
      "0                 0.303929                    0.292515 -886.605691  \n",
      "15\n"
     ]
    },
    {
     "name": "stderr",
     "output_type": "stream",
     "text": [
      "Info: Params [0.13799481 0.62214514 0.56569912 0.24034067 0.20504145 0.17409406\n",
      " 0.19319667] gave 371.76513021186355\n",
      "Warning: This function (from_pandas_dataframe()) is deprecated and will be removed in a future version of PyDDM.  Please use the choice_column_name argument instead.\n"
     ]
    },
    {
     "name": "stdout",
     "output_type": "stream",
     "text": [
      "     Vspeed      Vacc  Boundary Separation  Collapse Speed  Collapse Accuracy  \\\n",
      "0  0.137995  0.622145             0.565699        0.240341           0.205041   \n",
      "\n",
      "   Non-decision Time Speed  Non-decision Time Accuracy        BIC  \n",
      "0                 0.174094                    0.193197  371.76513  \n",
      "16\n"
     ]
    },
    {
     "name": "stderr",
     "output_type": "stream",
     "text": [
      "Info: Params [0.56837352 0.80597976 0.60418661 1.0883503  0.78047015 0.16450625\n",
      " 0.17516031] gave -1428.25668097707\n",
      "Warning: This function (from_pandas_dataframe()) is deprecated and will be removed in a future version of PyDDM.  Please use the choice_column_name argument instead.\n"
     ]
    },
    {
     "name": "stdout",
     "output_type": "stream",
     "text": [
      "     Vspeed     Vacc  Boundary Separation  Collapse Speed  Collapse Accuracy  \\\n",
      "0  0.568374  0.80598             0.604187         1.08835            0.78047   \n",
      "\n",
      "   Non-decision Time Speed  Non-decision Time Accuracy          BIC  \n",
      "0                 0.164506                     0.17516 -1428.256681  \n",
      "17\n"
     ]
    },
    {
     "name": "stderr",
     "output_type": "stream",
     "text": [
      "Info: Params [0.43078975 1.01356122 0.69269361 0.41518814 0.34902186 0.11573254\n",
      " 0.17198578] gave 596.347572793102\n",
      "Warning: This function (from_pandas_dataframe()) is deprecated and will be removed in a future version of PyDDM.  Please use the choice_column_name argument instead.\n"
     ]
    },
    {
     "name": "stdout",
     "output_type": "stream",
     "text": [
      "    Vspeed      Vacc  Boundary Separation  Collapse Speed  Collapse Accuracy  \\\n",
      "0  0.43079  1.013561             0.692694        0.415188           0.349022   \n",
      "\n",
      "   Non-decision Time Speed  Non-decision Time Accuracy         BIC  \n",
      "0                 0.115733                    0.171986  596.347573  \n",
      "18\n"
     ]
    },
    {
     "name": "stderr",
     "output_type": "stream",
     "text": [
      "Info: Params [2.14791006 2.68819933 0.82678537 0.70977067 0.83554825 0.37808364\n",
      " 0.39660756] gave -2598.6560717649477\n",
      "Warning: This function (from_pandas_dataframe()) is deprecated and will be removed in a future version of PyDDM.  Please use the choice_column_name argument instead.\n"
     ]
    },
    {
     "name": "stdout",
     "output_type": "stream",
     "text": [
      "    Vspeed      Vacc  Boundary Separation  Collapse Speed  Collapse Accuracy  \\\n",
      "0  2.14791  2.688199             0.826785        0.709771           0.835548   \n",
      "\n",
      "   Non-decision Time Speed  Non-decision Time Accuracy          BIC  \n",
      "0                 0.378084                    0.396608 -2598.656072  \n",
      "19\n"
     ]
    },
    {
     "name": "stderr",
     "output_type": "stream",
     "text": [
      "Info: Params [0.45937161 0.63637893 0.68276223 0.97997842 0.91912636 0.17577303\n",
      " 0.18407922] gave -807.7076037549172\n",
      "Warning: This function (from_pandas_dataframe()) is deprecated and will be removed in a future version of PyDDM.  Please use the choice_column_name argument instead.\n"
     ]
    },
    {
     "name": "stdout",
     "output_type": "stream",
     "text": [
      "     Vspeed      Vacc  Boundary Separation  Collapse Speed  Collapse Accuracy  \\\n",
      "0  0.459372  0.636379             0.682762        0.979978           0.919126   \n",
      "\n",
      "   Non-decision Time Speed  Non-decision Time Accuracy         BIC  \n",
      "0                 0.175773                    0.184079 -807.707604  \n",
      "20\n"
     ]
    },
    {
     "name": "stderr",
     "output_type": "stream",
     "text": [
      "Info: Params [0.24416198 0.12899829 0.50823236 0.33031203 0.40887143 0.16010572\n",
      " 0.17199755] gave -543.0389909882975\n",
      "Warning: This function (from_pandas_dataframe()) is deprecated and will be removed in a future version of PyDDM.  Please use the choice_column_name argument instead.\n"
     ]
    },
    {
     "name": "stdout",
     "output_type": "stream",
     "text": [
      "     Vspeed      Vacc  Boundary Separation  Collapse Speed  Collapse Accuracy  \\\n",
      "0  0.244162  0.128998             0.508232        0.330312           0.408871   \n",
      "\n",
      "   Non-decision Time Speed  Non-decision Time Accuracy         BIC  \n",
      "0                 0.160106                    0.171998 -543.038991  \n",
      "21\n"
     ]
    },
    {
     "name": "stderr",
     "output_type": "stream",
     "text": [
      "Info: Params [0.39915781 0.83574258 0.73523729 0.77899203 0.39744234 0.16652384\n",
      " 0.19254767] gave 705.5571259268293\n",
      "Warning: This function (from_pandas_dataframe()) is deprecated and will be removed in a future version of PyDDM.  Please use the choice_column_name argument instead.\n"
     ]
    },
    {
     "name": "stdout",
     "output_type": "stream",
     "text": [
      "     Vspeed      Vacc  Boundary Separation  Collapse Speed  Collapse Accuracy  \\\n",
      "0  0.399158  0.835743             0.735237        0.778992           0.397442   \n",
      "\n",
      "   Non-decision Time Speed  Non-decision Time Accuracy         BIC  \n",
      "0                 0.166524                    0.192548  705.557126  \n",
      "22\n"
     ]
    },
    {
     "name": "stderr",
     "output_type": "stream",
     "text": [
      "Info: Params [0.01249667 0.21050759 0.50817782 0.27020096 0.19832676 0.15261672\n",
      " 0.17826856] gave -534.3896371870319\n",
      "Warning: This function (from_pandas_dataframe()) is deprecated and will be removed in a future version of PyDDM.  Please use the choice_column_name argument instead.\n"
     ]
    },
    {
     "name": "stdout",
     "output_type": "stream",
     "text": [
      "     Vspeed      Vacc  Boundary Separation  Collapse Speed  Collapse Accuracy  \\\n",
      "0  0.012497  0.210508             0.508178        0.270201           0.198327   \n",
      "\n",
      "   Non-decision Time Speed  Non-decision Time Accuracy         BIC  \n",
      "0                 0.152617                    0.178269 -534.389637  \n",
      "23\n"
     ]
    },
    {
     "name": "stderr",
     "output_type": "stream",
     "text": [
      "Info: Params [0.17939864 0.60330066 0.65913974 0.5850566  0.45488781 0.15586375\n",
      " 0.19618506] gave 69.43819979936765\n",
      "Warning: This function (from_pandas_dataframe()) is deprecated and will be removed in a future version of PyDDM.  Please use the choice_column_name argument instead.\n"
     ]
    },
    {
     "name": "stdout",
     "output_type": "stream",
     "text": [
      "     Vspeed      Vacc  Boundary Separation  Collapse Speed  Collapse Accuracy  \\\n",
      "0  0.179399  0.603301              0.65914        0.585057           0.454888   \n",
      "\n",
      "   Non-decision Time Speed  Non-decision Time Accuracy      BIC  \n",
      "0                 0.155864                    0.196185  69.4382  \n",
      "24\n"
     ]
    },
    {
     "name": "stderr",
     "output_type": "stream",
     "text": [
      "Info: Params [0.23235967 0.79597222 0.66473532 0.33516422 0.06353563 0.10216107\n",
      " 0.19014317] gave 748.9796467643189\n",
      "Warning: This function (from_pandas_dataframe()) is deprecated and will be removed in a future version of PyDDM.  Please use the choice_column_name argument instead.\n"
     ]
    },
    {
     "name": "stdout",
     "output_type": "stream",
     "text": [
      "    Vspeed      Vacc  Boundary Separation  Collapse Speed  Collapse Accuracy  \\\n",
      "0  0.23236  0.795972             0.664735        0.335164           0.063536   \n",
      "\n",
      "   Non-decision Time Speed  Non-decision Time Accuracy         BIC  \n",
      "0                 0.102161                    0.190143  748.979647  \n",
      "25\n"
     ]
    },
    {
     "name": "stderr",
     "output_type": "stream",
     "text": [
      "Info: Params [0.82616221 0.92454342 0.5566896  0.59691411 0.25556916 0.19342165\n",
      " 0.17246189] gave -544.3097388426936\n",
      "Warning: This function (from_pandas_dataframe()) is deprecated and will be removed in a future version of PyDDM.  Please use the choice_column_name argument instead.\n"
     ]
    },
    {
     "name": "stdout",
     "output_type": "stream",
     "text": [
      "     Vspeed      Vacc  Boundary Separation  Collapse Speed  Collapse Accuracy  \\\n",
      "0  0.826162  0.924543              0.55669        0.596914           0.255569   \n",
      "\n",
      "   Non-decision Time Speed  Non-decision Time Accuracy         BIC  \n",
      "0                 0.193422                    0.172462 -544.309739  \n",
      "26\n"
     ]
    },
    {
     "name": "stderr",
     "output_type": "stream",
     "text": [
      "Info: Params [1.14914122 1.60464931 0.61344536 0.68884283 0.34118507 0.17915531\n",
      " 0.24872995] gave -662.1356941697805\n",
      "Warning: This function (from_pandas_dataframe()) is deprecated and will be removed in a future version of PyDDM.  Please use the choice_column_name argument instead.\n"
     ]
    },
    {
     "name": "stdout",
     "output_type": "stream",
     "text": [
      "     Vspeed      Vacc  Boundary Separation  Collapse Speed  Collapse Accuracy  \\\n",
      "0  1.149141  1.604649             0.613445        0.688843           0.341185   \n",
      "\n",
      "   Non-decision Time Speed  Non-decision Time Accuracy         BIC  \n",
      "0                 0.179155                     0.24873 -662.135694  \n",
      "27\n"
     ]
    },
    {
     "name": "stderr",
     "output_type": "stream",
     "text": [
      "Info: Params [0.15745419 0.0358578  0.58618671 0.96139351 0.8545968  0.18496842\n",
      " 0.22973609] gave -837.6302819679222\n",
      "Warning: This function (from_pandas_dataframe()) is deprecated and will be removed in a future version of PyDDM.  Please use the choice_column_name argument instead.\n"
     ]
    },
    {
     "name": "stdout",
     "output_type": "stream",
     "text": [
      "     Vspeed      Vacc  Boundary Separation  Collapse Speed  Collapse Accuracy  \\\n",
      "0  0.157454  0.035858             0.586187        0.961394           0.854597   \n",
      "\n",
      "   Non-decision Time Speed  Non-decision Time Accuracy         BIC  \n",
      "0                 0.184968                    0.229736 -837.630282  \n",
      "28\n"
     ]
    },
    {
     "name": "stderr",
     "output_type": "stream",
     "text": [
      "Info: Params [0.39573087 0.72090038 0.56280545 0.31544009 0.27059629 0.16000527\n",
      " 0.2115907 ] gave 121.07366748485407\n",
      "Warning: This function (from_pandas_dataframe()) is deprecated and will be removed in a future version of PyDDM.  Please use the choice_column_name argument instead.\n"
     ]
    },
    {
     "name": "stdout",
     "output_type": "stream",
     "text": [
      "     Vspeed    Vacc  Boundary Separation  Collapse Speed  Collapse Accuracy  \\\n",
      "0  0.395731  0.7209             0.562805         0.31544           0.270596   \n",
      "\n",
      "   Non-decision Time Speed  Non-decision Time Accuracy         BIC  \n",
      "0                 0.160005                    0.211591  121.073667  \n",
      "29\n"
     ]
    },
    {
     "name": "stderr",
     "output_type": "stream",
     "text": [
      "Info: Params [0.16558771 0.2141162  0.62469937 0.57514463 0.30159752 0.16587574\n",
      " 0.17621945] gave 321.6549453305762\n",
      "Warning: This function (from_pandas_dataframe()) is deprecated and will be removed in a future version of PyDDM.  Please use the choice_column_name argument instead.\n"
     ]
    },
    {
     "name": "stdout",
     "output_type": "stream",
     "text": [
      "     Vspeed      Vacc  Boundary Separation  Collapse Speed  Collapse Accuracy  \\\n",
      "0  0.165588  0.214116             0.624699        0.575145           0.301598   \n",
      "\n",
      "   Non-decision Time Speed  Non-decision Time Accuracy         BIC  \n",
      "0                 0.165876                    0.176219  321.654945  \n",
      "30\n"
     ]
    },
    {
     "name": "stderr",
     "output_type": "stream",
     "text": [
      "Info: Params [0.27714567 0.21616025 0.50699591 0.15870124 0.17973373 0.17115282\n",
      " 0.17482555] gave -72.49706867310441\n",
      "Warning: This function (from_pandas_dataframe()) is deprecated and will be removed in a future version of PyDDM.  Please use the choice_column_name argument instead.\n"
     ]
    },
    {
     "name": "stdout",
     "output_type": "stream",
     "text": [
      "     Vspeed     Vacc  Boundary Separation  Collapse Speed  Collapse Accuracy  \\\n",
      "0  0.277146  0.21616             0.506996        0.158701           0.179734   \n",
      "\n",
      "   Non-decision Time Speed  Non-decision Time Accuracy        BIC  \n",
      "0                 0.171153                    0.174826 -72.497069  \n",
      "31\n"
     ]
    },
    {
     "name": "stderr",
     "output_type": "stream",
     "text": [
      "Info: Params [0.44795581 0.29573251 0.50738532 0.29669249 0.16527042 0.17455902\n",
      " 0.18091   ] gave -40.018034973283676\n",
      "Warning: This function (from_pandas_dataframe()) is deprecated and will be removed in a future version of PyDDM.  Please use the choice_column_name argument instead.\n"
     ]
    },
    {
     "name": "stdout",
     "output_type": "stream",
     "text": [
      "     Vspeed      Vacc  Boundary Separation  Collapse Speed  Collapse Accuracy  \\\n",
      "0  0.447956  0.295733             0.507385        0.296692            0.16527   \n",
      "\n",
      "   Non-decision Time Speed  Non-decision Time Accuracy        BIC  \n",
      "0                 0.174559                     0.18091 -40.018035  \n",
      "32\n"
     ]
    },
    {
     "name": "stderr",
     "output_type": "stream",
     "text": [
      "Info: Params [0.13717235 0.19474674 0.62033972 0.57829788 0.30634331 0.16804272\n",
      " 0.17971631] gave 321.51053233909795\n",
      "Warning: This function (from_pandas_dataframe()) is deprecated and will be removed in a future version of PyDDM.  Please use the choice_column_name argument instead.\n"
     ]
    },
    {
     "name": "stdout",
     "output_type": "stream",
     "text": [
      "     Vspeed      Vacc  Boundary Separation  Collapse Speed  Collapse Accuracy  \\\n",
      "0  0.137172  0.194747              0.62034        0.578298           0.306343   \n",
      "\n",
      "   Non-decision Time Speed  Non-decision Time Accuracy         BIC  \n",
      "0                 0.168043                    0.179716  321.510532  \n",
      "33\n"
     ]
    },
    {
     "name": "stderr",
     "output_type": "stream",
     "text": [
      "Info: Params [0.1104612  0.60216646 0.79596511 0.70012006 0.27777943 0.11461105\n",
      " 0.19758856] gave 831.6458066458165\n"
     ]
    },
    {
     "name": "stdout",
     "output_type": "stream",
     "text": [
      "     Vspeed      Vacc  Boundary Separation  Collapse Speed  Collapse Accuracy  \\\n",
      "0  0.110461  0.602166             0.795965         0.70012           0.277779   \n",
      "\n",
      "   Non-decision Time Speed  Non-decision Time Accuracy         BIC  \n",
      "0                 0.114611                    0.197589  831.645807  \n"
     ]
    }
   ],
   "source": [
    "df_all = pd.DataFrame()\n",
    "for i in range(sample_size):\n",
    "    print(i)\n",
    "    path = os.path.join(data_dir+str(i+1)+\".csv\")\n",
    "    df = pd.read_csv(path, sep = \",\")\n",
    "    #df = df[df[\"cond\"]==SAT] # A condition\n",
    "    df = df[df[\"Time\"]<5]\n",
    "\n",
    "    samp = Sample.from_pandas_dataframe(df, rt_column_name=\"Time\", correct_column_name=\"Correct\")\n",
    "    df = get_DDM_result_sub_2v2c2ter(samp)\n",
    "    df_all = pd.concat((df_all,df))\n",
    "    print(df)\n",
    "df_OUM = df_all.copy()\n"
   ]
  },
  {
   "cell_type": "code",
   "execution_count": 5,
   "id": "3b05a53a",
   "metadata": {},
   "outputs": [],
   "source": [
    "df_OUM.to_csv(\"DDM2v2c2terresultRae2014.csv\")"
   ]
  },
  {
   "cell_type": "code",
   "execution_count": 6,
   "id": "87e8797e",
   "metadata": {},
   "outputs": [
    {
     "data": {
      "text/plain": [
       "-597.1528982767085"
      ]
     },
     "execution_count": 6,
     "metadata": {},
     "output_type": "execute_result"
    }
   ],
   "source": [
    "df_OUM[\"BIC\"].mean()"
   ]
  },
  {
   "cell_type": "code",
   "execution_count": null,
   "id": "c5baddcf",
   "metadata": {},
   "outputs": [],
   "source": []
  }
 ],
 "metadata": {
  "kernelspec": {
   "display_name": "Python 3 (ipykernel)",
   "language": "python",
   "name": "python3"
  },
  "language_info": {
   "codemirror_mode": {
    "name": "ipython",
    "version": 3
   },
   "file_extension": ".py",
   "mimetype": "text/x-python",
   "name": "python",
   "nbconvert_exporter": "python",
   "pygments_lexer": "ipython3",
   "version": "3.11.4"
  }
 },
 "nbformat": 4,
 "nbformat_minor": 5
}
