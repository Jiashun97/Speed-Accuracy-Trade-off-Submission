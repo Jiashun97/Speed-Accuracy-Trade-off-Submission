{
 "cells": [
  {
   "cell_type": "code",
   "execution_count": 8,
   "id": "2cda49de",
   "metadata": {},
   "outputs": [],
   "source": [
    "%run SAT_help_functions.ipynb"
   ]
  },
  {
   "cell_type": "code",
   "execution_count": null,
   "id": "bc081cf9",
   "metadata": {},
   "outputs": [],
   "source": []
  },
  {
   "cell_type": "markdown",
   "id": "4bd26666",
   "metadata": {},
   "source": [
    "## OUM"
   ]
  },
  {
   "cell_type": "code",
   "execution_count": null,
   "id": "9ef6c434",
   "metadata": {},
   "outputs": [],
   "source": []
  },
  {
   "cell_type": "code",
   "execution_count": 9,
   "id": "e776257c",
   "metadata": {},
   "outputs": [],
   "source": [
    "data_dir = \"/Users/wangjiashun/Desktop/Reserach on SAT/datasets/Evans2021/Lerche2017/dataBySubject/sub\"\n",
    "sample_size = 38\n",
    "SAT_conds = [\"Speed\", \"Accuracy\"]"
   ]
  },
  {
   "cell_type": "code",
   "execution_count": 10,
   "id": "2d56afe5",
   "metadata": {},
   "outputs": [],
   "source": [
    "\n",
    "class DriftBothSpeedAcc(Drift):\n",
    "    name = \"DriftBothSpeedAcc\"\n",
    "    required_parameters = [\"Vspeed\",\"Vacc\", \"Kspeed\", \"Kacc\"]\n",
    "    required_conditions = ['Cond']\n",
    "        \n",
    "    def get_drift(self, x, t, conditions, **kwargs):\n",
    "        if conditions['Cond'] == 'Speed':\n",
    "            return self.Vspeed + x*self.Kspeed \n",
    "        elif conditions['Cond'] == 'Accuracy':\n",
    "            return self.Vacc + x*self.Kacc\n",
    "        else: \n",
    "            print(\"Non-implemented SAT conditions\")"
   ]
  },
  {
   "cell_type": "code",
   "execution_count": 11,
   "id": "127ca67b",
   "metadata": {},
   "outputs": [],
   "source": [
    "class BoundSpeedAcc(Bound):\n",
    "    name = \"BoundSpeedAcc\"\n",
    "    required_parameters = [\"Bspeed\", \"Bacc\"]\n",
    "    required_conditions = ['Cond']\n",
    "    def get_bound(self, conditions, *args, **kwargs):\n",
    "        assert self.Bacc > 0\n",
    "        assert self.Bspeed > 0\n",
    "        if conditions['Cond'] == 'Speed':\n",
    "            return self.Bspeed\n",
    "        elif conditions['Cond'] == 'Accuracy':\n",
    "            return self.Bacc\n",
    "        else:\n",
    "            print(\"Non-implemented SAT conditions\")"
   ]
  },
  {
   "cell_type": "code",
   "execution_count": 12,
   "id": "f434220f",
   "metadata": {},
   "outputs": [],
   "source": [
    "\n",
    "class NondecisionSpeedAcc(OverlayNonDecision):\n",
    "    name = \"DriftSpeedAcc\"\n",
    "    required_parameters = [\"tSpeed\", 'tAcc']\n",
    "    required_conditions = ['Cond']\n",
    "        \n",
    "    def get_nondecision_time(self, conditions, **kwargs):\n",
    "        if conditions['Cond'] == 'Speed':\n",
    "            return self.tSpeed \n",
    "        elif conditions['Cond'] == 'Accuracy':\n",
    "            return self.tAcc\n",
    "        else: \n",
    "            print(\"Non-implemented SAT conditions\")"
   ]
  },
  {
   "cell_type": "code",
   "execution_count": null,
   "id": "bbb278a6",
   "metadata": {},
   "outputs": [],
   "source": [
    "\n"
   ]
  },
  {
   "cell_type": "code",
   "execution_count": null,
   "id": "6e5e0074",
   "metadata": {},
   "outputs": [],
   "source": []
  },
  {
   "cell_type": "code",
   "execution_count": null,
   "id": "b1e0fe9b",
   "metadata": {},
   "outputs": [],
   "source": []
  },
  {
   "cell_type": "code",
   "execution_count": 13,
   "id": "fdb13001",
   "metadata": {
    "scrolled": true
   },
   "outputs": [
    {
     "name": "stderr",
     "output_type": "stream",
     "text": [
      "Warning: This function (from_pandas_dataframe()) is deprecated and will be removed in a future version of PyDDM.  Please use the choice_column_name argument instead.\n",
      "Warning: dt is large.  Estimated pdfs may be imprecise.  Decrease dt to 0.01 or less.\n"
     ]
    },
    {
     "name": "stdout",
     "output_type": "stream",
     "text": [
      "0\n"
     ]
    },
    {
     "name": "stderr",
     "output_type": "stream",
     "text": [
      "Info: Params [0.30056877 0.11097678 0.84188776 0.20380429 1.84940397 7.44793899\n",
      " 0.72061135 0.98568747] gave 909.9499532214203\n",
      "Warning: This function (from_pandas_dataframe()) is deprecated and will be removed in a future version of PyDDM.  Please use the choice_column_name argument instead.\n",
      "Warning: dt is large.  Estimated pdfs may be imprecise.  Decrease dt to 0.01 or less.\n"
     ]
    },
    {
     "name": "stdout",
     "output_type": "stream",
     "text": [
      "   Drift Rate Speed  Drift Rate Accuracy  Self-excitation Speed  \\\n",
      "0          0.300569             0.110977               0.841888   \n",
      "\n",
      "   Self-excitation Accuracy  Boundary Separation Speed  \\\n",
      "0                  0.203804                   1.849404   \n",
      "\n",
      "   Boundary Separation Accuracy  Non-decision Time Speed  \\\n",
      "0                      7.447939                 0.720611   \n",
      "\n",
      "   Non-decision Time Accuracy         BIC  \n",
      "0                    0.985687  909.949953  \n",
      "1\n"
     ]
    },
    {
     "name": "stderr",
     "output_type": "stream",
     "text": [
      "Info: Params [0.37069937 0.22673217 0.35301372 0.25757202 4.72789948 6.32292738\n",
      " 0.67610383 0.80730267] gave 999.4868788561357\n",
      "Warning: This function (from_pandas_dataframe()) is deprecated and will be removed in a future version of PyDDM.  Please use the choice_column_name argument instead.\n",
      "Warning: dt is large.  Estimated pdfs may be imprecise.  Decrease dt to 0.01 or less.\n"
     ]
    },
    {
     "name": "stdout",
     "output_type": "stream",
     "text": [
      "   Drift Rate Speed  Drift Rate Accuracy  Self-excitation Speed  \\\n",
      "0          0.370699             0.226732               0.353014   \n",
      "\n",
      "   Self-excitation Accuracy  Boundary Separation Speed  \\\n",
      "0                  0.257572                   4.727899   \n",
      "\n",
      "   Boundary Separation Accuracy  Non-decision Time Speed  \\\n",
      "0                      6.322927                 0.676104   \n",
      "\n",
      "   Non-decision Time Accuracy         BIC  \n",
      "0                    0.807303  999.486879  \n",
      "2\n"
     ]
    },
    {
     "name": "stderr",
     "output_type": "stream",
     "text": [
      "Info: Params [ 0.          0.04022541 -5.66880256  0.21662158  0.57488771  1.02001974\n",
      "  0.13469475  0.47571013] gave 476.98387489780265\n",
      "Warning: This function (from_pandas_dataframe()) is deprecated and will be removed in a future version of PyDDM.  Please use the choice_column_name argument instead.\n",
      "Warning: dt is large.  Estimated pdfs may be imprecise.  Decrease dt to 0.01 or less.\n"
     ]
    },
    {
     "name": "stdout",
     "output_type": "stream",
     "text": [
      "   Drift Rate Speed  Drift Rate Accuracy  Self-excitation Speed  \\\n",
      "0               0.0             0.040225              -5.668803   \n",
      "\n",
      "   Self-excitation Accuracy  Boundary Separation Speed  \\\n",
      "0                  0.216622                   0.574888   \n",
      "\n",
      "   Boundary Separation Accuracy  Non-decision Time Speed  \\\n",
      "0                       1.02002                 0.134695   \n",
      "\n",
      "   Non-decision Time Accuracy         BIC  \n",
      "0                     0.47571  476.983875  \n",
      "3\n"
     ]
    },
    {
     "name": "stderr",
     "output_type": "stream",
     "text": [
      "Info: Params [0.09971843 0.08729823 0.64348174 0.54768307 1.88258768 3.46505949\n",
      " 0.15910162 0.28705794] gave 834.2411495208389\n",
      "Warning: This function (from_pandas_dataframe()) is deprecated and will be removed in a future version of PyDDM.  Please use the choice_column_name argument instead.\n",
      "Warning: dt is large.  Estimated pdfs may be imprecise.  Decrease dt to 0.01 or less.\n"
     ]
    },
    {
     "name": "stdout",
     "output_type": "stream",
     "text": [
      "   Drift Rate Speed  Drift Rate Accuracy  Self-excitation Speed  \\\n",
      "0          0.099718             0.087298               0.643482   \n",
      "\n",
      "   Self-excitation Accuracy  Boundary Separation Speed  \\\n",
      "0                  0.547683                   1.882588   \n",
      "\n",
      "   Boundary Separation Accuracy  Non-decision Time Speed  \\\n",
      "0                      3.465059                 0.159102   \n",
      "\n",
      "   Non-decision Time Accuracy        BIC  \n",
      "0                    0.287058  834.24115  \n",
      "4\n"
     ]
    },
    {
     "name": "stderr",
     "output_type": "stream",
     "text": [
      "Info: Params [ 0.17216887  0.1382491  -0.02151074  0.09611128  2.4955465   3.8232379\n",
      "  0.94903708  0.95321679] gave 1170.3826417472278\n",
      "Warning: This function (from_pandas_dataframe()) is deprecated and will be removed in a future version of PyDDM.  Please use the choice_column_name argument instead.\n",
      "Warning: dt is large.  Estimated pdfs may be imprecise.  Decrease dt to 0.01 or less.\n"
     ]
    },
    {
     "name": "stdout",
     "output_type": "stream",
     "text": [
      "   Drift Rate Speed  Drift Rate Accuracy  Self-excitation Speed  \\\n",
      "0          0.172169             0.138249              -0.021511   \n",
      "\n",
      "   Self-excitation Accuracy  Boundary Separation Speed  \\\n",
      "0                  0.096111                   2.495547   \n",
      "\n",
      "   Boundary Separation Accuracy  Non-decision Time Speed  \\\n",
      "0                      3.823238                 0.949037   \n",
      "\n",
      "   Non-decision Time Accuracy          BIC  \n",
      "0                    0.953217  1170.382642  \n",
      "5\n"
     ]
    },
    {
     "name": "stderr",
     "output_type": "stream",
     "text": [
      "Info: Params [0.29792873 0.1545964  2.09984797 0.19629262 2.9510485  7.82231262\n",
      " 0.63026572 0.84919212] gave 825.0001049992404\n",
      "Warning: This function (from_pandas_dataframe()) is deprecated and will be removed in a future version of PyDDM.  Please use the choice_column_name argument instead.\n",
      "Warning: dt is large.  Estimated pdfs may be imprecise.  Decrease dt to 0.01 or less.\n"
     ]
    },
    {
     "name": "stdout",
     "output_type": "stream",
     "text": [
      "   Drift Rate Speed  Drift Rate Accuracy  Self-excitation Speed  \\\n",
      "0          0.297929             0.154596               2.099848   \n",
      "\n",
      "   Self-excitation Accuracy  Boundary Separation Speed  \\\n",
      "0                  0.196293                   2.951048   \n",
      "\n",
      "   Boundary Separation Accuracy  Non-decision Time Speed  \\\n",
      "0                      7.822313                 0.630266   \n",
      "\n",
      "   Non-decision Time Accuracy         BIC  \n",
      "0                    0.849192  825.000105  \n",
      "6\n"
     ]
    },
    {
     "name": "stderr",
     "output_type": "stream",
     "text": [
      "Info: Params [0.33259143 0.27735029 5.70293569 0.71070651 6.12435093 3.55318776\n",
      " 0.22076743 0.7042047 ] gave 582.1648566736476\n",
      "Warning: This function (from_pandas_dataframe()) is deprecated and will be removed in a future version of PyDDM.  Please use the choice_column_name argument instead.\n",
      "Warning: dt is large.  Estimated pdfs may be imprecise.  Decrease dt to 0.01 or less.\n"
     ]
    },
    {
     "name": "stdout",
     "output_type": "stream",
     "text": [
      "   Drift Rate Speed  Drift Rate Accuracy  Self-excitation Speed  \\\n",
      "0          0.332591              0.27735               5.702936   \n",
      "\n",
      "   Self-excitation Accuracy  Boundary Separation Speed  \\\n",
      "0                  0.710707                   6.124351   \n",
      "\n",
      "   Boundary Separation Accuracy  Non-decision Time Speed  \\\n",
      "0                      3.553188                 0.220767   \n",
      "\n",
      "   Non-decision Time Accuracy         BIC  \n",
      "0                    0.704205  582.164857  \n",
      "7\n"
     ]
    },
    {
     "name": "stderr",
     "output_type": "stream",
     "text": [
      "Info: Params [0.33373342 0.33119589 3.99661334 0.82762365 1.48012622 4.01447451\n",
      " 0.67071968 0.23957649] gave 555.0903936321101\n",
      "Warning: This function (from_pandas_dataframe()) is deprecated and will be removed in a future version of PyDDM.  Please use the choice_column_name argument instead.\n",
      "Warning: dt is large.  Estimated pdfs may be imprecise.  Decrease dt to 0.01 or less.\n"
     ]
    },
    {
     "name": "stdout",
     "output_type": "stream",
     "text": [
      "   Drift Rate Speed  Drift Rate Accuracy  Self-excitation Speed  \\\n",
      "0          0.333733             0.331196               3.996613   \n",
      "\n",
      "   Self-excitation Accuracy  Boundary Separation Speed  \\\n",
      "0                  0.827624                   1.480126   \n",
      "\n",
      "   Boundary Separation Accuracy  Non-decision Time Speed  \\\n",
      "0                      4.014475                  0.67072   \n",
      "\n",
      "   Non-decision Time Accuracy         BIC  \n",
      "0                    0.239576  555.090394  \n",
      "8\n"
     ]
    },
    {
     "name": "stderr",
     "output_type": "stream",
     "text": [
      "Info: Params [ 0.          0.03566634  2.88427421 -9.59414443  1.42260455  0.59970648\n",
      "  0.15297176  0.14430671] gave 600.0455304351245\n",
      "Warning: This function (from_pandas_dataframe()) is deprecated and will be removed in a future version of PyDDM.  Please use the choice_column_name argument instead.\n",
      "Warning: dt is large.  Estimated pdfs may be imprecise.  Decrease dt to 0.01 or less.\n"
     ]
    },
    {
     "name": "stdout",
     "output_type": "stream",
     "text": [
      "   Drift Rate Speed  Drift Rate Accuracy  Self-excitation Speed  \\\n",
      "0               0.0             0.035666               2.884274   \n",
      "\n",
      "   Self-excitation Accuracy  Boundary Separation Speed  \\\n",
      "0                 -9.594144                   1.422605   \n",
      "\n",
      "   Boundary Separation Accuracy  Non-decision Time Speed  \\\n",
      "0                      0.599706                 0.152972   \n",
      "\n",
      "   Non-decision Time Accuracy        BIC  \n",
      "0                    0.144307  600.04553  \n",
      "9\n"
     ]
    },
    {
     "name": "stderr",
     "output_type": "stream",
     "text": [
      "Info: Params [ 2.03457944e-03  1.17584674e-01 -6.73228410e-01  3.51471982e-01\n",
      "  1.28620321e+00  2.49385891e+00  1.68601619e-01  1.36258078e-01] gave 926.2686258653646\n",
      "Warning: This function (from_pandas_dataframe()) is deprecated and will be removed in a future version of PyDDM.  Please use the choice_column_name argument instead.\n",
      "Warning: dt is large.  Estimated pdfs may be imprecise.  Decrease dt to 0.01 or less.\n"
     ]
    },
    {
     "name": "stdout",
     "output_type": "stream",
     "text": [
      "   Drift Rate Speed  Drift Rate Accuracy  Self-excitation Speed  \\\n",
      "0          0.002035             0.117585              -0.673228   \n",
      "\n",
      "   Self-excitation Accuracy  Boundary Separation Speed  \\\n",
      "0                  0.351472                   1.286203   \n",
      "\n",
      "   Boundary Separation Accuracy  Non-decision Time Speed  \\\n",
      "0                      2.493859                 0.168602   \n",
      "\n",
      "   Non-decision Time Accuracy         BIC  \n",
      "0                    0.136258  926.268626  \n",
      "10\n"
     ]
    },
    {
     "name": "stderr",
     "output_type": "stream",
     "text": [
      "Info: Params [0.8622405  0.22375954 2.31918745 0.22909875 2.76070828 7.7182282\n",
      " 0.96479175 0.2391327 ] gave 761.3110714581064\n",
      "Warning: This function (from_pandas_dataframe()) is deprecated and will be removed in a future version of PyDDM.  Please use the choice_column_name argument instead.\n",
      "Warning: dt is large.  Estimated pdfs may be imprecise.  Decrease dt to 0.01 or less.\n"
     ]
    },
    {
     "name": "stdout",
     "output_type": "stream",
     "text": [
      "   Drift Rate Speed  Drift Rate Accuracy  Self-excitation Speed  \\\n",
      "0           0.86224              0.22376               2.319187   \n",
      "\n",
      "   Self-excitation Accuracy  Boundary Separation Speed  \\\n",
      "0                  0.229099                   2.760708   \n",
      "\n",
      "   Boundary Separation Accuracy  Non-decision Time Speed  \\\n",
      "0                      7.718228                 0.964792   \n",
      "\n",
      "   Non-decision Time Accuracy         BIC  \n",
      "0                    0.239133  761.311071  \n",
      "11\n"
     ]
    },
    {
     "name": "stderr",
     "output_type": "stream",
     "text": [
      "Info: Params [0.         0.08875512 3.45799223 0.10584393 1.18519775 7.96684145\n",
      " 0.39336748 0.92104587] gave 747.4988762367556\n",
      "Warning: This function (from_pandas_dataframe()) is deprecated and will be removed in a future version of PyDDM.  Please use the choice_column_name argument instead.\n",
      "Warning: dt is large.  Estimated pdfs may be imprecise.  Decrease dt to 0.01 or less.\n"
     ]
    },
    {
     "name": "stdout",
     "output_type": "stream",
     "text": [
      "   Drift Rate Speed  Drift Rate Accuracy  Self-excitation Speed  \\\n",
      "0               0.0             0.088755               3.457992   \n",
      "\n",
      "   Self-excitation Accuracy  Boundary Separation Speed  \\\n",
      "0                  0.105844                   1.185198   \n",
      "\n",
      "   Boundary Separation Accuracy  Non-decision Time Speed  \\\n",
      "0                      7.966841                 0.393367   \n",
      "\n",
      "   Non-decision Time Accuracy         BIC  \n",
      "0                    0.921046  747.498876  \n",
      "12\n"
     ]
    },
    {
     "name": "stderr",
     "output_type": "stream",
     "text": [
      "Info: Params [0.31586895 0.30015086 2.33537303 0.54802627 3.75622877 2.67345427\n",
      " 0.57445948 0.98088419] gave 673.7192697049047\n",
      "Warning: This function (from_pandas_dataframe()) is deprecated and will be removed in a future version of PyDDM.  Please use the choice_column_name argument instead.\n",
      "Warning: dt is large.  Estimated pdfs may be imprecise.  Decrease dt to 0.01 or less.\n"
     ]
    },
    {
     "name": "stdout",
     "output_type": "stream",
     "text": [
      "   Drift Rate Speed  Drift Rate Accuracy  Self-excitation Speed  \\\n",
      "0          0.315869             0.300151               2.335373   \n",
      "\n",
      "   Self-excitation Accuracy  Boundary Separation Speed  \\\n",
      "0                  0.548026                   3.756229   \n",
      "\n",
      "   Boundary Separation Accuracy  Non-decision Time Speed  \\\n",
      "0                      2.673454                 0.574459   \n",
      "\n",
      "   Non-decision Time Accuracy        BIC  \n",
      "0                    0.980884  673.71927  \n",
      "13\n"
     ]
    },
    {
     "name": "stderr",
     "output_type": "stream",
     "text": [
      "Info: Params [0.26957548 0.20600585 1.1518042  0.01461672 7.49189459 3.38634871\n",
      " 0.37914864 0.93886919] gave 922.5979159978727\n",
      "Warning: This function (from_pandas_dataframe()) is deprecated and will be removed in a future version of PyDDM.  Please use the choice_column_name argument instead.\n",
      "Warning: dt is large.  Estimated pdfs may be imprecise.  Decrease dt to 0.01 or less.\n"
     ]
    },
    {
     "name": "stdout",
     "output_type": "stream",
     "text": [
      "   Drift Rate Speed  Drift Rate Accuracy  Self-excitation Speed  \\\n",
      "0          0.269575             0.206006               1.151804   \n",
      "\n",
      "   Self-excitation Accuracy  Boundary Separation Speed  \\\n",
      "0                  0.014617                   7.491895   \n",
      "\n",
      "   Boundary Separation Accuracy  Non-decision Time Speed  \\\n",
      "0                      3.386349                 0.379149   \n",
      "\n",
      "   Non-decision Time Accuracy         BIC  \n",
      "0                    0.938869  922.597916  \n",
      "14\n"
     ]
    },
    {
     "name": "stderr",
     "output_type": "stream",
     "text": [
      "Info: Params [ 0.10905271  0.21568242  1.63678797 -0.91767781  2.82045125  1.63504502\n",
      "  0.11179496  0.90789115] gave 905.0459621975608\n",
      "Warning: This function (from_pandas_dataframe()) is deprecated and will be removed in a future version of PyDDM.  Please use the choice_column_name argument instead.\n",
      "Warning: dt is large.  Estimated pdfs may be imprecise.  Decrease dt to 0.01 or less.\n"
     ]
    },
    {
     "name": "stdout",
     "output_type": "stream",
     "text": [
      "   Drift Rate Speed  Drift Rate Accuracy  Self-excitation Speed  \\\n",
      "0          0.109053             0.215682               1.636788   \n",
      "\n",
      "   Self-excitation Accuracy  Boundary Separation Speed  \\\n",
      "0                 -0.917678                   2.820451   \n",
      "\n",
      "   Boundary Separation Accuracy  Non-decision Time Speed  \\\n",
      "0                      1.635045                 0.111795   \n",
      "\n",
      "   Non-decision Time Accuracy         BIC  \n",
      "0                    0.907891  905.045962  \n",
      "15\n"
     ]
    },
    {
     "name": "stderr",
     "output_type": "stream",
     "text": [
      "Info: Params [ 0.          0.25802662  2.90932737 -7.73136344  4.99142682  0.84854429\n",
      "  0.58949747  0.98962186] gave 929.2191250174317\n",
      "Warning: This function (from_pandas_dataframe()) is deprecated and will be removed in a future version of PyDDM.  Please use the choice_column_name argument instead.\n",
      "Warning: dt is large.  Estimated pdfs may be imprecise.  Decrease dt to 0.01 or less.\n"
     ]
    },
    {
     "name": "stdout",
     "output_type": "stream",
     "text": [
      "   Drift Rate Speed  Drift Rate Accuracy  Self-excitation Speed  \\\n",
      "0               0.0             0.258027               2.909327   \n",
      "\n",
      "   Self-excitation Accuracy  Boundary Separation Speed  \\\n",
      "0                 -7.731363                   4.991427   \n",
      "\n",
      "   Boundary Separation Accuracy  Non-decision Time Speed  \\\n",
      "0                      0.848544                 0.589497   \n",
      "\n",
      "   Non-decision Time Accuracy         BIC  \n",
      "0                    0.989622  929.219125  \n",
      "16\n"
     ]
    },
    {
     "name": "stderr",
     "output_type": "stream",
     "text": [
      "Info: Params [0.28659549 0.29278274 0.89968991 0.99471136 2.26664231 5.48782371\n",
      " 0.15374007 0.5585674 ] gave 720.031482506688\n",
      "Warning: This function (from_pandas_dataframe()) is deprecated and will be removed in a future version of PyDDM.  Please use the choice_column_name argument instead.\n",
      "Warning: dt is large.  Estimated pdfs may be imprecise.  Decrease dt to 0.01 or less.\n"
     ]
    },
    {
     "name": "stdout",
     "output_type": "stream",
     "text": [
      "   Drift Rate Speed  Drift Rate Accuracy  Self-excitation Speed  \\\n",
      "0          0.286595             0.292783                0.89969   \n",
      "\n",
      "   Self-excitation Accuracy  Boundary Separation Speed  \\\n",
      "0                  0.994711                   2.266642   \n",
      "\n",
      "   Boundary Separation Accuracy  Non-decision Time Speed  \\\n",
      "0                      5.487824                  0.15374   \n",
      "\n",
      "   Non-decision Time Accuracy         BIC  \n",
      "0                    0.558567  720.031483  \n",
      "17\n"
     ]
    },
    {
     "name": "stderr",
     "output_type": "stream",
     "text": [
      "Info: Params [ 0.33409871  0.15045753  3.67512539 -0.10741673  4.10026867  1.72819358\n",
      "  0.11861519  0.36133261] gave 683.5170609579711\n",
      "Warning: This function (from_pandas_dataframe()) is deprecated and will be removed in a future version of PyDDM.  Please use the choice_column_name argument instead.\n",
      "Warning: dt is large.  Estimated pdfs may be imprecise.  Decrease dt to 0.01 or less.\n"
     ]
    },
    {
     "name": "stdout",
     "output_type": "stream",
     "text": [
      "   Drift Rate Speed  Drift Rate Accuracy  Self-excitation Speed  \\\n",
      "0          0.334099             0.150458               3.675125   \n",
      "\n",
      "   Self-excitation Accuracy  Boundary Separation Speed  \\\n",
      "0                 -0.107417                   4.100269   \n",
      "\n",
      "   Boundary Separation Accuracy  Non-decision Time Speed  \\\n",
      "0                      1.728194                 0.118615   \n",
      "\n",
      "   Non-decision Time Accuracy         BIC  \n",
      "0                    0.361333  683.517061  \n",
      "18\n"
     ]
    },
    {
     "name": "stderr",
     "output_type": "stream",
     "text": [
      "Info: Params [0.26004464 0.13214922 0.8762688  0.50586781 2.61403866 4.08073547\n",
      " 0.76619812 0.21210694] gave 832.4278257821147\n",
      "Warning: This function (from_pandas_dataframe()) is deprecated and will be removed in a future version of PyDDM.  Please use the choice_column_name argument instead.\n",
      "Warning: dt is large.  Estimated pdfs may be imprecise.  Decrease dt to 0.01 or less.\n"
     ]
    },
    {
     "name": "stdout",
     "output_type": "stream",
     "text": [
      "   Drift Rate Speed  Drift Rate Accuracy  Self-excitation Speed  \\\n",
      "0          0.260045             0.132149               0.876269   \n",
      "\n",
      "   Self-excitation Accuracy  Boundary Separation Speed  \\\n",
      "0                  0.505868                   2.614039   \n",
      "\n",
      "   Boundary Separation Accuracy  Non-decision Time Speed  \\\n",
      "0                      4.080735                 0.766198   \n",
      "\n",
      "   Non-decision Time Accuracy         BIC  \n",
      "0                    0.212107  832.427826  \n",
      "19\n"
     ]
    },
    {
     "name": "stderr",
     "output_type": "stream",
     "text": [
      "Info: Params [ 0.26687059  0.35252294  1.67893127 -1.58945717  4.56209904  1.60790349\n",
      "  0.35886001  0.84151648] gave 967.069097878833\n",
      "Warning: This function (from_pandas_dataframe()) is deprecated and will be removed in a future version of PyDDM.  Please use the choice_column_name argument instead.\n",
      "Warning: dt is large.  Estimated pdfs may be imprecise.  Decrease dt to 0.01 or less.\n"
     ]
    },
    {
     "name": "stdout",
     "output_type": "stream",
     "text": [
      "   Drift Rate Speed  Drift Rate Accuracy  Self-excitation Speed  \\\n",
      "0          0.266871             0.352523               1.678931   \n",
      "\n",
      "   Self-excitation Accuracy  Boundary Separation Speed  \\\n",
      "0                 -1.589457                   4.562099   \n",
      "\n",
      "   Boundary Separation Accuracy  Non-decision Time Speed  \\\n",
      "0                      1.607903                  0.35886   \n",
      "\n",
      "   Non-decision Time Accuracy         BIC  \n",
      "0                    0.841516  967.069098  \n",
      "20\n"
     ]
    },
    {
     "name": "stderr",
     "output_type": "stream",
     "text": [
      "Info: Params [0.25226914 0.17682749 0.78244649 1.68286533 2.66794153 7.33923999\n",
      " 0.17958852 0.38020231] gave 682.1228644993486\n",
      "Warning: This function (from_pandas_dataframe()) is deprecated and will be removed in a future version of PyDDM.  Please use the choice_column_name argument instead.\n",
      "Warning: dt is large.  Estimated pdfs may be imprecise.  Decrease dt to 0.01 or less.\n"
     ]
    },
    {
     "name": "stdout",
     "output_type": "stream",
     "text": [
      "   Drift Rate Speed  Drift Rate Accuracy  Self-excitation Speed  \\\n",
      "0          0.252269             0.176827               0.782446   \n",
      "\n",
      "   Self-excitation Accuracy  Boundary Separation Speed  \\\n",
      "0                  1.682865                   2.667942   \n",
      "\n",
      "   Boundary Separation Accuracy  Non-decision Time Speed  \\\n",
      "0                       7.33924                 0.179589   \n",
      "\n",
      "   Non-decision Time Accuracy         BIC  \n",
      "0                    0.380202  682.122864  \n",
      "21\n"
     ]
    },
    {
     "name": "stderr",
     "output_type": "stream",
     "text": [
      "Info: Params [0.         0.07552641 1.67859305 3.01179415 1.30584026 4.60389039\n",
      " 0.36760225 0.32306568] gave 500.55307761662834\n",
      "Warning: This function (from_pandas_dataframe()) is deprecated and will be removed in a future version of PyDDM.  Please use the choice_column_name argument instead.\n",
      "Warning: dt is large.  Estimated pdfs may be imprecise.  Decrease dt to 0.01 or less.\n"
     ]
    },
    {
     "name": "stdout",
     "output_type": "stream",
     "text": [
      "   Drift Rate Speed  Drift Rate Accuracy  Self-excitation Speed  \\\n",
      "0               0.0             0.075526               1.678593   \n",
      "\n",
      "   Self-excitation Accuracy  Boundary Separation Speed  \\\n",
      "0                  3.011794                    1.30584   \n",
      "\n",
      "   Boundary Separation Accuracy  Non-decision Time Speed  \\\n",
      "0                       4.60389                 0.367602   \n",
      "\n",
      "   Non-decision Time Accuracy         BIC  \n",
      "0                    0.323066  500.553078  \n",
      "22\n"
     ]
    },
    {
     "name": "stderr",
     "output_type": "stream",
     "text": [
      "Info: Params [0.28343612 0.18070465 3.37879982 0.26231746 1.12273898 3.2233039\n",
      " 0.3377052  0.56835365] gave 673.2877120604023\n",
      "Warning: This function (from_pandas_dataframe()) is deprecated and will be removed in a future version of PyDDM.  Please use the choice_column_name argument instead.\n",
      "Warning: dt is large.  Estimated pdfs may be imprecise.  Decrease dt to 0.01 or less.\n"
     ]
    },
    {
     "name": "stdout",
     "output_type": "stream",
     "text": [
      "   Drift Rate Speed  Drift Rate Accuracy  Self-excitation Speed  \\\n",
      "0          0.283436             0.180705                 3.3788   \n",
      "\n",
      "   Self-excitation Accuracy  Boundary Separation Speed  \\\n",
      "0                  0.262317                   1.122739   \n",
      "\n",
      "   Boundary Separation Accuracy  Non-decision Time Speed  \\\n",
      "0                      3.223304                 0.337705   \n",
      "\n",
      "   Non-decision Time Accuracy         BIC  \n",
      "0                    0.568354  673.287712  \n",
      "23\n"
     ]
    },
    {
     "name": "stderr",
     "output_type": "stream",
     "text": [
      "Info: Params [0.21634963 0.18511851 0.40009759 0.23823904 7.20366851 6.27067492\n",
      " 0.50953851 0.32325697] gave 1058.695185139307\n",
      "Warning: This function (from_pandas_dataframe()) is deprecated and will be removed in a future version of PyDDM.  Please use the choice_column_name argument instead.\n",
      "Warning: dt is large.  Estimated pdfs may be imprecise.  Decrease dt to 0.01 or less.\n"
     ]
    },
    {
     "name": "stdout",
     "output_type": "stream",
     "text": [
      "   Drift Rate Speed  Drift Rate Accuracy  Self-excitation Speed  \\\n",
      "0           0.21635             0.185119               0.400098   \n",
      "\n",
      "   Self-excitation Accuracy  Boundary Separation Speed  \\\n",
      "0                  0.238239                   7.203669   \n",
      "\n",
      "   Boundary Separation Accuracy  Non-decision Time Speed  \\\n",
      "0                      6.270675                 0.509539   \n",
      "\n",
      "   Non-decision Time Accuracy          BIC  \n",
      "0                    0.323257  1058.695185  \n",
      "24\n"
     ]
    },
    {
     "name": "stderr",
     "output_type": "stream",
     "text": [
      "Info: Params [ 0.59729581  0.08441983 10.          2.56864828  4.0058307   1.93821351\n",
      "  0.36632734  0.5197684 ] gave 318.8892004117503\n",
      "Warning: This function (from_pandas_dataframe()) is deprecated and will be removed in a future version of PyDDM.  Please use the choice_column_name argument instead.\n",
      "Warning: dt is large.  Estimated pdfs may be imprecise.  Decrease dt to 0.01 or less.\n"
     ]
    },
    {
     "name": "stdout",
     "output_type": "stream",
     "text": [
      "   Drift Rate Speed  Drift Rate Accuracy  Self-excitation Speed  \\\n",
      "0          0.597296              0.08442                   10.0   \n",
      "\n",
      "   Self-excitation Accuracy  Boundary Separation Speed  \\\n",
      "0                  2.568648                   4.005831   \n",
      "\n",
      "   Boundary Separation Accuracy  Non-decision Time Speed  \\\n",
      "0                      1.938214                 0.366327   \n",
      "\n",
      "   Non-decision Time Accuracy       BIC  \n",
      "0                    0.519768  318.8892  \n",
      "25\n"
     ]
    },
    {
     "name": "stderr",
     "output_type": "stream",
     "text": [
      "Info: Params [ 0.28876297  0.26197946  1.97570087 -9.95648635  1.14098356  0.71870206\n",
      "  0.40135776  0.15649718] gave 841.5646210640639\n",
      "Warning: This function (from_pandas_dataframe()) is deprecated and will be removed in a future version of PyDDM.  Please use the choice_column_name argument instead.\n",
      "Warning: dt is large.  Estimated pdfs may be imprecise.  Decrease dt to 0.01 or less.\n"
     ]
    },
    {
     "name": "stdout",
     "output_type": "stream",
     "text": [
      "   Drift Rate Speed  Drift Rate Accuracy  Self-excitation Speed  \\\n",
      "0          0.288763             0.261979               1.975701   \n",
      "\n",
      "   Self-excitation Accuracy  Boundary Separation Speed  \\\n",
      "0                 -9.956486                   1.140984   \n",
      "\n",
      "   Boundary Separation Accuracy  Non-decision Time Speed  \\\n",
      "0                      0.718702                 0.401358   \n",
      "\n",
      "   Non-decision Time Accuracy         BIC  \n",
      "0                    0.156497  841.564621  \n",
      "26\n"
     ]
    },
    {
     "name": "stderr",
     "output_type": "stream",
     "text": [
      "Info: Params [0.17047002 0.1811296  1.28235203 0.26204404 4.27147632 4.72629178\n",
      " 0.16223295 0.97262767] gave 878.529168653683\n",
      "Warning: This function (from_pandas_dataframe()) is deprecated and will be removed in a future version of PyDDM.  Please use the choice_column_name argument instead.\n",
      "Warning: dt is large.  Estimated pdfs may be imprecise.  Decrease dt to 0.01 or less.\n"
     ]
    },
    {
     "name": "stdout",
     "output_type": "stream",
     "text": [
      "   Drift Rate Speed  Drift Rate Accuracy  Self-excitation Speed  \\\n",
      "0           0.17047              0.18113               1.282352   \n",
      "\n",
      "   Self-excitation Accuracy  Boundary Separation Speed  \\\n",
      "0                  0.262044                   4.271476   \n",
      "\n",
      "   Boundary Separation Accuracy  Non-decision Time Speed  \\\n",
      "0                      4.726292                 0.162233   \n",
      "\n",
      "   Non-decision Time Accuracy         BIC  \n",
      "0                    0.972628  878.529169  \n",
      "27\n"
     ]
    },
    {
     "name": "stderr",
     "output_type": "stream",
     "text": [
      "Info: Params [ 0.26017013  0.22669566 -6.56586078  0.22226607  0.69424471  7.92125866\n",
      "  0.17114974  0.9442834 ] gave 945.2064787878111\n",
      "Warning: This function (from_pandas_dataframe()) is deprecated and will be removed in a future version of PyDDM.  Please use the choice_column_name argument instead.\n",
      "Warning: dt is large.  Estimated pdfs may be imprecise.  Decrease dt to 0.01 or less.\n"
     ]
    },
    {
     "name": "stdout",
     "output_type": "stream",
     "text": [
      "   Drift Rate Speed  Drift Rate Accuracy  Self-excitation Speed  \\\n",
      "0           0.26017             0.226696              -6.565861   \n",
      "\n",
      "   Self-excitation Accuracy  Boundary Separation Speed  \\\n",
      "0                  0.222266                   0.694245   \n",
      "\n",
      "   Boundary Separation Accuracy  Non-decision Time Speed  \\\n",
      "0                      7.921259                  0.17115   \n",
      "\n",
      "   Non-decision Time Accuracy         BIC  \n",
      "0                    0.944283  945.206479  \n",
      "28\n"
     ]
    },
    {
     "name": "stderr",
     "output_type": "stream",
     "text": [
      "Info: Params [0.16098084 0.1046915  0.47308512 0.11832269 3.26490893 7.00498532\n",
      " 0.86078719 0.14399902] gave 1100.6438696043392\n",
      "Warning: This function (from_pandas_dataframe()) is deprecated and will be removed in a future version of PyDDM.  Please use the choice_column_name argument instead.\n",
      "Warning: dt is large.  Estimated pdfs may be imprecise.  Decrease dt to 0.01 or less.\n"
     ]
    },
    {
     "name": "stdout",
     "output_type": "stream",
     "text": [
      "   Drift Rate Speed  Drift Rate Accuracy  Self-excitation Speed  \\\n",
      "0          0.160981             0.104691               0.473085   \n",
      "\n",
      "   Self-excitation Accuracy  Boundary Separation Speed  \\\n",
      "0                  0.118323                   3.264909   \n",
      "\n",
      "   Boundary Separation Accuracy  Non-decision Time Speed  \\\n",
      "0                      7.004985                 0.860787   \n",
      "\n",
      "   Non-decision Time Accuracy         BIC  \n",
      "0                    0.143999  1100.64387  \n",
      "29\n"
     ]
    },
    {
     "name": "stderr",
     "output_type": "stream",
     "text": [
      "Info: Params [ 0.1882635   0.20621248  0.3964765  -0.88232943  7.846176    1.49778109\n",
      "  0.96040057  0.94706977] gave 998.6466583196936\n",
      "Warning: This function (from_pandas_dataframe()) is deprecated and will be removed in a future version of PyDDM.  Please use the choice_column_name argument instead.\n",
      "Warning: dt is large.  Estimated pdfs may be imprecise.  Decrease dt to 0.01 or less.\n"
     ]
    },
    {
     "name": "stdout",
     "output_type": "stream",
     "text": [
      "   Drift Rate Speed  Drift Rate Accuracy  Self-excitation Speed  \\\n",
      "0          0.188263             0.206212               0.396477   \n",
      "\n",
      "   Self-excitation Accuracy  Boundary Separation Speed  \\\n",
      "0                 -0.882329                   7.846176   \n",
      "\n",
      "   Boundary Separation Accuracy  Non-decision Time Speed  \\\n",
      "0                      1.497781                 0.960401   \n",
      "\n",
      "   Non-decision Time Accuracy         BIC  \n",
      "0                     0.94707  998.646658  \n",
      "30\n"
     ]
    },
    {
     "name": "stderr",
     "output_type": "stream",
     "text": [
      "Info: Params [0.04614335 0.35605127 4.21323432 0.5851663  1.35689598 5.28042707\n",
      " 0.10682137 0.23336139] gave 601.3965564375018\n",
      "Warning: This function (from_pandas_dataframe()) is deprecated and will be removed in a future version of PyDDM.  Please use the choice_column_name argument instead.\n",
      "Warning: dt is large.  Estimated pdfs may be imprecise.  Decrease dt to 0.01 or less.\n"
     ]
    },
    {
     "name": "stdout",
     "output_type": "stream",
     "text": [
      "   Drift Rate Speed  Drift Rate Accuracy  Self-excitation Speed  \\\n",
      "0          0.046143             0.356051               4.213234   \n",
      "\n",
      "   Self-excitation Accuracy  Boundary Separation Speed  \\\n",
      "0                  0.585166                   1.356896   \n",
      "\n",
      "   Boundary Separation Accuracy  Non-decision Time Speed  \\\n",
      "0                      5.280427                 0.106821   \n",
      "\n",
      "   Non-decision Time Accuracy         BIC  \n",
      "0                    0.233361  601.396556  \n",
      "31\n"
     ]
    },
    {
     "name": "stderr",
     "output_type": "stream",
     "text": [
      "Info: Params [ 0.2493676   0.30699855 -3.67222431 -6.18320629  0.80071072  0.87649681\n",
      "  0.18578011  0.61939635] gave 1009.4189700774878\n",
      "Warning: This function (from_pandas_dataframe()) is deprecated and will be removed in a future version of PyDDM.  Please use the choice_column_name argument instead.\n",
      "Warning: dt is large.  Estimated pdfs may be imprecise.  Decrease dt to 0.01 or less.\n"
     ]
    },
    {
     "name": "stdout",
     "output_type": "stream",
     "text": [
      "   Drift Rate Speed  Drift Rate Accuracy  Self-excitation Speed  \\\n",
      "0          0.249368             0.306999              -3.672224   \n",
      "\n",
      "   Self-excitation Accuracy  Boundary Separation Speed  \\\n",
      "0                 -6.183206                   0.800711   \n",
      "\n",
      "   Boundary Separation Accuracy  Non-decision Time Speed  \\\n",
      "0                      0.876497                  0.18578   \n",
      "\n",
      "   Non-decision Time Accuracy         BIC  \n",
      "0                    0.619396  1009.41897  \n",
      "32\n"
     ]
    },
    {
     "name": "stderr",
     "output_type": "stream",
     "text": [
      "Info: Params [ 0.          0.51396099 -2.649776   -0.94662366  0.50660353  1.24680794\n",
      "  0.12499934  0.76690898] gave 529.2874760266441\n",
      "Warning: This function (from_pandas_dataframe()) is deprecated and will be removed in a future version of PyDDM.  Please use the choice_column_name argument instead.\n",
      "Warning: dt is large.  Estimated pdfs may be imprecise.  Decrease dt to 0.01 or less.\n"
     ]
    },
    {
     "name": "stdout",
     "output_type": "stream",
     "text": [
      "   Drift Rate Speed  Drift Rate Accuracy  Self-excitation Speed  \\\n",
      "0               0.0             0.513961              -2.649776   \n",
      "\n",
      "   Self-excitation Accuracy  Boundary Separation Speed  \\\n",
      "0                 -0.946624                   0.506604   \n",
      "\n",
      "   Boundary Separation Accuracy  Non-decision Time Speed  \\\n",
      "0                      1.246808                 0.124999   \n",
      "\n",
      "   Non-decision Time Accuracy         BIC  \n",
      "0                    0.766909  529.287476  \n",
      "33\n"
     ]
    },
    {
     "name": "stderr",
     "output_type": "stream",
     "text": [
      "Info: Params [0.0380594  0.13852925 2.15663743 0.92565108 2.86786915 7.01235482\n",
      " 0.13793667 0.34928558] gave 669.395668411842\n",
      "Warning: This function (from_pandas_dataframe()) is deprecated and will be removed in a future version of PyDDM.  Please use the choice_column_name argument instead.\n",
      "Warning: dt is large.  Estimated pdfs may be imprecise.  Decrease dt to 0.01 or less.\n"
     ]
    },
    {
     "name": "stdout",
     "output_type": "stream",
     "text": [
      "   Drift Rate Speed  Drift Rate Accuracy  Self-excitation Speed  \\\n",
      "0          0.038059             0.138529               2.156637   \n",
      "\n",
      "   Self-excitation Accuracy  Boundary Separation Speed  \\\n",
      "0                  0.925651                   2.867869   \n",
      "\n",
      "   Boundary Separation Accuracy  Non-decision Time Speed  \\\n",
      "0                      7.012355                 0.137937   \n",
      "\n",
      "   Non-decision Time Accuracy         BIC  \n",
      "0                    0.349286  669.395668  \n",
      "34\n"
     ]
    },
    {
     "name": "stderr",
     "output_type": "stream",
     "text": [
      "Info: Params [ 0.24905169  0.53025082  1.01563821 -4.13968427  4.59109979  1.04345153\n",
      "  0.3015368   0.98525646] gave 959.2892006291432\n",
      "Warning: This function (from_pandas_dataframe()) is deprecated and will be removed in a future version of PyDDM.  Please use the choice_column_name argument instead.\n",
      "Warning: dt is large.  Estimated pdfs may be imprecise.  Decrease dt to 0.01 or less.\n"
     ]
    },
    {
     "name": "stdout",
     "output_type": "stream",
     "text": [
      "   Drift Rate Speed  Drift Rate Accuracy  Self-excitation Speed  \\\n",
      "0          0.249052             0.530251               1.015638   \n",
      "\n",
      "   Self-excitation Accuracy  Boundary Separation Speed  \\\n",
      "0                 -4.139684                     4.5911   \n",
      "\n",
      "   Boundary Separation Accuracy  Non-decision Time Speed  \\\n",
      "0                      1.043452                 0.301537   \n",
      "\n",
      "   Non-decision Time Accuracy         BIC  \n",
      "0                    0.985256  959.289201  \n",
      "35\n"
     ]
    },
    {
     "name": "stderr",
     "output_type": "stream",
     "text": [
      "Info: Params [ 0.41125548  0.2619605  -0.30800979 -0.53511298  1.96655425  2.03110752\n",
      "  0.64219697  0.94657885] gave 1081.1203719037069\n",
      "Warning: This function (from_pandas_dataframe()) is deprecated and will be removed in a future version of PyDDM.  Please use the choice_column_name argument instead.\n",
      "Warning: dt is large.  Estimated pdfs may be imprecise.  Decrease dt to 0.01 or less.\n"
     ]
    },
    {
     "name": "stdout",
     "output_type": "stream",
     "text": [
      "   Drift Rate Speed  Drift Rate Accuracy  Self-excitation Speed  \\\n",
      "0          0.411255             0.261961               -0.30801   \n",
      "\n",
      "   Self-excitation Accuracy  Boundary Separation Speed  \\\n",
      "0                 -0.535113                   1.966554   \n",
      "\n",
      "   Boundary Separation Accuracy  Non-decision Time Speed  \\\n",
      "0                      2.031108                 0.642197   \n",
      "\n",
      "   Non-decision Time Accuracy          BIC  \n",
      "0                    0.946579  1081.120372  \n",
      "36\n"
     ]
    },
    {
     "name": "stderr",
     "output_type": "stream",
     "text": [
      "Info: Params [0.15938083 0.14748982 1.04013165 1.34384232 7.52387994 7.70415424\n",
      " 0.21244541 0.86761116] gave 713.3604791315543\n",
      "Warning: This function (from_pandas_dataframe()) is deprecated and will be removed in a future version of PyDDM.  Please use the choice_column_name argument instead.\n",
      "Warning: dt is large.  Estimated pdfs may be imprecise.  Decrease dt to 0.01 or less.\n"
     ]
    },
    {
     "name": "stdout",
     "output_type": "stream",
     "text": [
      "   Drift Rate Speed  Drift Rate Accuracy  Self-excitation Speed  \\\n",
      "0          0.159381              0.14749               1.040132   \n",
      "\n",
      "   Self-excitation Accuracy  Boundary Separation Speed  \\\n",
      "0                  1.343842                    7.52388   \n",
      "\n",
      "   Boundary Separation Accuracy  Non-decision Time Speed  \\\n",
      "0                      7.704154                 0.212445   \n",
      "\n",
      "   Non-decision Time Accuracy         BIC  \n",
      "0                    0.867611  713.360479  \n",
      "37\n"
     ]
    },
    {
     "name": "stderr",
     "output_type": "stream",
     "text": [
      "Info: Params [ 0.46916626  0.18582708 -9.24978911 -1.13710788  0.62032496  1.6713034\n",
      "  0.15594998  0.84778053] gave 1024.9838499010036\n"
     ]
    },
    {
     "name": "stdout",
     "output_type": "stream",
     "text": [
      "   Drift Rate Speed  Drift Rate Accuracy  Self-excitation Speed  \\\n",
      "0          0.469166             0.185827              -9.249789   \n",
      "\n",
      "   Self-excitation Accuracy  Boundary Separation Speed  \\\n",
      "0                 -1.137108                   0.620325   \n",
      "\n",
      "   Boundary Separation Accuracy  Non-decision Time Speed  \\\n",
      "0                      1.671303                  0.15595   \n",
      "\n",
      "   Non-decision Time Accuracy         BIC  \n",
      "0                    0.847781  1024.98385  \n"
     ]
    }
   ],
   "source": [
    "df_all = pd.DataFrame()\n",
    "for i in range(sample_size):\n",
    "    print(i)\n",
    "    path = os.path.join(data_dir+str(i+1)+\".csv\")\n",
    "    df = pd.read_csv(path, sep = \",\")\n",
    "    #df = df[df[\"cond\"]==SAT] # A condition\n",
    "    df = df[df[\"Time\"]<30]\n",
    "\n",
    "    samp = Sample.from_pandas_dataframe(df, rt_column_name=\"Time\", correct_column_name=\"Correct\")\n",
    "    df = get_OUM_result_sub_full(samp, dx=.01, dt=.1, T_dur = 30)\n",
    "    df_all = pd.concat((df_all,df))\n",
    "    print(df)\n",
    "df_OUM = df_all.copy()\n"
   ]
  },
  {
   "cell_type": "code",
   "execution_count": 14,
   "id": "3b05a53a",
   "metadata": {},
   "outputs": [],
   "source": [
    "df_OUM.to_csv(\"OUMfullresultLerche2017.csv\")"
   ]
  },
  {
   "cell_type": "code",
   "execution_count": 15,
   "id": "87e8797e",
   "metadata": {},
   "outputs": [
    {
     "data": {
      "text/plain": [
       "805.4853449016596"
      ]
     },
     "execution_count": 15,
     "metadata": {},
     "output_type": "execute_result"
    }
   ],
   "source": [
    "df_OUM[\"BIC\"].mean()"
   ]
  },
  {
   "cell_type": "code",
   "execution_count": null,
   "id": "db096ad0",
   "metadata": {},
   "outputs": [],
   "source": []
  }
 ],
 "metadata": {
  "kernelspec": {
   "display_name": "Python 3 (ipykernel)",
   "language": "python",
   "name": "python3"
  },
  "language_info": {
   "codemirror_mode": {
    "name": "ipython",
    "version": 3
   },
   "file_extension": ".py",
   "mimetype": "text/x-python",
   "name": "python",
   "nbconvert_exporter": "python",
   "pygments_lexer": "ipython3",
   "version": "3.11.4"
  }
 },
 "nbformat": 4,
 "nbformat_minor": 5
}
