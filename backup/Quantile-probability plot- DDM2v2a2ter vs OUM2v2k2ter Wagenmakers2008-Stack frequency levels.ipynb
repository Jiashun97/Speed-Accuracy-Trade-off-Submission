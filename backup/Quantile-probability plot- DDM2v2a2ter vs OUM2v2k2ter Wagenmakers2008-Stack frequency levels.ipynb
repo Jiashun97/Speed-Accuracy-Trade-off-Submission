{
 "cells": [
  {
   "cell_type": "code",
   "execution_count": 1,
   "id": "cbd5cb6a",
   "metadata": {},
   "outputs": [],
   "source": [
    "%run SAT_help_functions.ipynb\n",
    "%matplotlib inline"
   ]
  },
  {
   "cell_type": "code",
   "execution_count": null,
   "id": "d5454e0d",
   "metadata": {},
   "outputs": [],
   "source": []
  },
  {
   "cell_type": "code",
   "execution_count": null,
   "id": "85762052",
   "metadata": {},
   "outputs": [],
   "source": []
  },
  {
   "cell_type": "code",
   "execution_count": 3,
   "id": "fde3829c",
   "metadata": {},
   "outputs": [],
   "source": [
    "## save dataframe for each frequency levels\n",
    "#data_dir = \"/Users/wangjiashun/Desktop/Reserach on SAT/datasets/Lexical Decision Data/SpeedAccData.csv\"\n",
    "#save_dir = '/Users/wangjiashun/Desktop/Reserach on SAT/datasets/Lexical Decision Data/dataByFreq/Freq'\n",
    "#df = pd.read_csv(data_dir)\n",
    "#Frequencies = [1,  2, 3,  4,  5,  6]\n",
    "#participants = [1,  3,  4,  5,  6,  7,  8,  9, 10, 11, 12, 13, 14, 15, 16, 17]\n",
    "\n",
    "#for freq in Frequencies:\n",
    "#    data_freq = df[df.loc[:,'Frequency']==freq]\n",
    "#    for sub in range(sample_size):\n",
    "#        data_freq_sub = data_freq[data_freq.loc[:,'Participant']==participants[sub]]\n",
    "#        data_freq_sub.to_csv(save_dir+str(freq)+'/sub'+str(sub+1)+'.csv')\n",
    "    "
   ]
  },
  {
   "cell_type": "code",
   "execution_count": 4,
   "id": "4fb9b732",
   "metadata": {},
   "outputs": [],
   "source": [
    "data_dir = \"/Users/wangjiashun/Desktop/Reserach on SAT/datasets/Lexical Decision Data/dataByFreq/Freq\"\n",
    "sample_size = 16\n",
    "correct = 'Correct'\n",
    "corrects = [1, 0]\n",
    "cond = 'SAT' \n",
    "conds = [1, 2]\n",
    "rt = 'RT'\n",
    "\n",
    "participants = [1,  3,  4,  5,  6,  7,  8,  9, 10, 11, 12, 13, 14, 15, 16, 17]\n",
    "\n",
    "model = 'DDM2v2a2ter'\n",
    "dataset = 'Wagenmakers2008'\n",
    "params_all = pd.read_csv(model+\"result\"+dataset+\".csv\")# .drop(labels=3, axis=0)"
   ]
  },
  {
   "cell_type": "code",
   "execution_count": null,
   "id": "3c56e9bb",
   "metadata": {},
   "outputs": [],
   "source": []
  },
  {
   "cell_type": "code",
   "execution_count": 5,
   "id": "e9b8d412",
   "metadata": {},
   "outputs": [],
   "source": [
    "def get_RT_quantile_sub(df, correct, corrects, cond, conds, rt, quantiles = [.1, .3, .5, .7, .9]):\n",
    "    \n",
    "    # RT quantiles\n",
    "    df_cor = df.loc[df[correct]==corrects[0]]\n",
    "    RT_cor_s = df_cor.loc[df_cor[cond]==conds[0]][rt].quantile(q=quantiles)\n",
    "    RT_cor_a = df_cor.loc[df_cor[cond]==conds[1]][rt].quantile(q=quantiles)\n",
    "\n",
    "    df_err = df.loc[df[correct]==corrects[1]]\n",
    "    RT_err_s = df_err.loc[df_err[cond]==conds[0]][rt].quantile(q=quantiles)\n",
    "    RT_err_a = df_err.loc[df_err[cond]==conds[1]][rt].quantile(q=quantiles)\n",
    "    \n",
    "    # number of trials\n",
    "    num_cor_s = len(df_cor.loc[df_cor[cond]==conds[0]])\n",
    "    num_cor_a = len(df_cor.loc[df_cor[cond]==conds[1]])\n",
    "\n",
    "    num_err_s = len(df_err.loc[df_err[cond]==conds[0]])\n",
    "    num_err_a = len(df_err.loc[df_err[cond]==conds[1]])\n",
    "    #print(df.loc[:,\"Participant\"])\n",
    "    #print(RT_cor_s)\n",
    "    #print(RT_cor_a)\n",
    "    return RT_cor_s, RT_cor_a, RT_err_s, RT_err_a, [num_cor_s,num_cor_a,num_err_s,num_err_a]\n",
    "\n"
   ]
  },
  {
   "cell_type": "code",
   "execution_count": 6,
   "id": "b95b2b87",
   "metadata": {},
   "outputs": [],
   "source": [
    "#get_RT_quantile_sub(df = df, rt = rt, correct = correct, corrects = corrects, cond = cond, conds = conds)"
   ]
  },
  {
   "cell_type": "code",
   "execution_count": null,
   "id": "c4469014",
   "metadata": {},
   "outputs": [],
   "source": []
  },
  {
   "cell_type": "code",
   "execution_count": 7,
   "id": "83304fb6",
   "metadata": {},
   "outputs": [],
   "source": [
    "def get_RT_quantile(data_dir, sample_size, correct, corrects, cond, conds, rt, quantiles = [.1, .3, .5, .7, .9]):\n",
    "\n",
    "    RT_cor_ss, RT_cor_as, RT_err_ss, RT_err_as, nums = np.zeros((sample_size,5)),np.zeros((sample_size,5)),np.zeros((sample_size,5)),np.zeros((sample_size,5)),np.zeros((sample_size,4))\n",
    "    for i in range(sample_size):\n",
    "        path = os.path.join(data_dir+str(i+1)+\".csv\")\n",
    "        df = pd.read_csv(path, sep = \",\")\n",
    "        #print(df)\n",
    "        RT_cor_s, RT_cor_a, RT_err_s, RT_err_a, num = get_RT_quantile_sub(\n",
    "            df = df, rt = rt,\n",
    "            correct = correct, corrects = corrects,\n",
    "            cond = cond, conds = conds)\n",
    "        #print(RT_cor_s)\n",
    "        RT_cor_ss[i,:] = RT_cor_s\n",
    "        RT_cor_as[i,:] = RT_cor_a\n",
    "        RT_err_ss[i,:] = RT_err_s\n",
    "        RT_err_as[i,:] = RT_err_a\n",
    "        nums[i,:] = num\n",
    "    \n",
    "    return RT_cor_ss.mean(axis = 0), RT_cor_as.mean(axis = 0), RT_err_ss.mean(axis = 0), RT_err_as.mean(axis = 0), nums.mean(axis = 0)\n"
   ]
  },
  {
   "cell_type": "code",
   "execution_count": 8,
   "id": "d9c0a9da",
   "metadata": {},
   "outputs": [],
   "source": [
    "#data_dir = \"/Users/wangjiashun/Desktop/Reserach on SAT/datasets/Lexical Decision Data/dataByFreq/Freq1/sub\"\n",
    "\n",
    "#RT_cor_s, RT_cor_a, RT_err_s, RT_err_a, nums = get_RT_quantile(data_dir = data_dir,sample_size= sample_size, correct = correct, corrects = corrects,\n",
    "#        cond = cond, conds = conds, rt = rt)"
   ]
  },
  {
   "cell_type": "code",
   "execution_count": null,
   "id": "3dd3b343",
   "metadata": {},
   "outputs": [],
   "source": []
  },
  {
   "cell_type": "code",
   "execution_count": null,
   "id": "5fc4f549",
   "metadata": {},
   "outputs": [],
   "source": []
  },
  {
   "cell_type": "code",
   "execution_count": null,
   "id": "042b0d16",
   "metadata": {},
   "outputs": [],
   "source": []
  },
  {
   "cell_type": "code",
   "execution_count": null,
   "id": "1c2565da",
   "metadata": {},
   "outputs": [],
   "source": []
  },
  {
   "cell_type": "code",
   "execution_count": null,
   "id": "b6866647",
   "metadata": {},
   "outputs": [],
   "source": []
  },
  {
   "cell_type": "code",
   "execution_count": null,
   "id": "200efd39",
   "metadata": {},
   "outputs": [],
   "source": []
  },
  {
   "cell_type": "code",
   "execution_count": 9,
   "id": "a9e50d65",
   "metadata": {
    "scrolled": false
   },
   "outputs": [],
   "source": [
    "#params = np.array(params_all)[0,1:6]\n",
    "\n",
    "class DriftBothSpeedAcc(Drift):\n",
    "    name = \"DriftBothSpeedAcc\"\n",
    "    required_parameters = [\"Vspeed\",\"Vacc\", \"Kspeed\", \"Kacc\"]\n",
    "    required_conditions = ['Cond']\n",
    "        \n",
    "    def get_drift(self, x, t, conditions, **kwargs):\n",
    "        if conditions['Cond'] == 'Speed':\n",
    "            return self.Vspeed + x*self.Kspeed \n",
    "        elif conditions['Cond'] == 'Accuracy':\n",
    "            return self.Vacc + x*self.Kacc\n",
    "        else: \n",
    "            print(\"Non-implemented SAT conditions\")\n",
    "            \n",
    "class DriftConstantSpeedAcc(Drift):\n",
    "    name = \"DriftConstantSpeedAcc\"\n",
    "    required_parameters = [\"Vspeed\",\"Vacc\"]\n",
    "    required_conditions = ['Cond']\n",
    "        \n",
    "    def get_drift(self, x, t, conditions, **kwargs):\n",
    "        if conditions['Cond'] == 'Speed':\n",
    "            return self.Vspeed\n",
    "        elif conditions['Cond'] == 'Accuracy':\n",
    "            return self.Vacc\n",
    "        else: \n",
    "            print(\"Non-implemented SAT conditions\")\n",
    "\n",
    "class DriftExcitationSpeedAcc(Drift):\n",
    "    name = \"DriftSpeedAcc\"\n",
    "    required_parameters = [\"drift\", \"Kspeed\", \"Kacc\"]\n",
    "    required_conditions = ['Cond']\n",
    "        \n",
    "    def get_drift(self, x, t, conditions, **kwargs):\n",
    "        if conditions['Cond'] == 'Speed':\n",
    "            return self.drift + x*self.Kspeed \n",
    "        elif conditions['Cond'] == 'Accuracy':\n",
    "            return self.drift + x*self.Kacc\n",
    "        else: \n",
    "            print(\"Non-implemented SAT conditions\")\n",
    "\n",
    "class BoundSpeedAcc(Bound):\n",
    "    name = \"BoundSpeedAcc\"\n",
    "    required_parameters = [\"Bspeed\", \"Bacc\"]\n",
    "    required_conditions = ['Cond']\n",
    "    def get_bound(self, conditions, *args, **kwargs):\n",
    "        assert self.Bacc > 0\n",
    "        assert self.Bspeed > 0\n",
    "        if conditions['Cond'] == 'Speed':\n",
    "            return self.Bspeed\n",
    "        elif conditions['Cond'] == 'Accuracy':\n",
    "            return self.Bacc\n",
    "        else:\n",
    "            print(\"Non-implemented SAT conditions\")\n",
    "            \n",
    "class NondecisionSpeedAcc(OverlayNonDecision):\n",
    "    name = \"NondecisionSpeedAcc\"\n",
    "    required_parameters = [\"tSpeed\", 'tAcc']\n",
    "    required_conditions = ['Cond']\n",
    "        \n",
    "    def get_nondecision_time(self, conditions, **kwargs):\n",
    "        if conditions['Cond'] == 'Speed':\n",
    "            return self.tSpeed \n",
    "        elif conditions['Cond'] == 'Accuracy':\n",
    "            return self.tAcc\n",
    "        else: \n",
    "            print(\"Non-implemented SAT conditions\")\n",
    "\n",
    "def get_RT_quantile_DDM_sub_speed(params, T_dur=3):\n",
    "\n",
    "    Vspeed,Vacc, Bspeed,Bacc,tSpeed,tAcc = params[0],params[1],params[2],params[3],params[4],params[5]\n",
    "\n",
    "    model = Model(name='Simple model (fitted)',\n",
    "                      drift=DriftConstantSpeedAcc(Vspeed=Vspeed, Vacc=Vacc), \n",
    "                      noise=NoiseConstant(noise=1),\n",
    "                      bound=BoundSpeedAcc(Bspeed=Bspeed,Bacc=Bacc),\n",
    "                      overlay=NondecisionSpeedAcc(tSpeed=tSpeed,tAcc=tAcc),\n",
    "                      dx=.001, dt=.001, T_dur=T_dur)\n",
    "    sol_s = model.solve({'Cond':'Speed'})\n",
    "    samp_s = sol_s.resample(1000)\n",
    "    data_s = samp_s.to_pandas_dataframe(drop_undecided = True)\n",
    "\n",
    "    return get_RT_quantile_sub(data_s, 'correct', [1,0], 'Cond', ['Speed', 'Accuracy'], 'RT')\n",
    "#get_RT_quantile_DDM_sub(params = np.array(params_all)[3,1:6])\n",
    "\n",
    "def get_RT_quantile_DDM_sub_accuracy(params, T_dur=3):\n",
    "\n",
    "    Vspeed,Vacc, Bspeed,Bacc,tSpeed,tAcc = params[0],params[1],params[2],params[3],params[4],params[5]\n",
    "\n",
    "    model = Model(name='Simple model (fitted)',\n",
    "                      drift=DriftConstantSpeedAcc(Vspeed=Vspeed, Vacc=Vacc), \n",
    "                      noise=NoiseConstant(noise=1),\n",
    "                      bound=BoundSpeedAcc(Bspeed=Bspeed,Bacc=Bacc),\n",
    "                      overlay=NondecisionSpeedAcc(tSpeed=tSpeed,tAcc=tAcc),\n",
    "                      dx=.001, dt=.001, T_dur=T_dur)\n",
    "    sol_a = model.solve({'Cond':'Accuracy'})\n",
    "    samp_a = sol_a.resample(1000)\n",
    "    data_a = samp_a.to_pandas_dataframe(drop_undecided = True)\n",
    "\n",
    "    return get_RT_quantile_sub(data_a, 'correct', [1,0], 'Cond', ['Speed', 'Accuracy'], 'RT')"
   ]
  },
  {
   "cell_type": "code",
   "execution_count": null,
   "id": "985bb71f",
   "metadata": {},
   "outputs": [],
   "source": []
  },
  {
   "cell_type": "code",
   "execution_count": 10,
   "id": "3efa233f",
   "metadata": {},
   "outputs": [],
   "source": [
    "#np.array(params_all)[3,1:6]"
   ]
  },
  {
   "cell_type": "code",
   "execution_count": 11,
   "id": "71337541",
   "metadata": {},
   "outputs": [],
   "source": [
    "def get_RT_quantile_DDM(params_all, sample_size, correct, corrects, cond, conds, rt, quantiles = [.1, .3, .5, .7, .9]):\n",
    "\n",
    "    RT_cor_ss, RT_cor_as, RT_err_ss, RT_err_as, nums = np.zeros((sample_size,5)),np.zeros((sample_size,5)),np.zeros((sample_size,5)),np.zeros((sample_size,5)),np.zeros((sample_size,4))\n",
    "    for i in range(sample_size):\n",
    "        #print(i)\n",
    "        params = np.array(params_all)[i,1:7]\n",
    "        \n",
    "        \n",
    "        RT_cor_s, RT_cor_a, RT_err_s, RT_err_a, num = get_RT_quantile_DDM_sub_speed(params = params)\n",
    "        #print(RT_err_a)\n",
    "        RT_cor_ss[i,:] = RT_cor_s\n",
    "        RT_cor_as[i,:] = RT_cor_a\n",
    "        RT_err_ss[i,:] = RT_err_s\n",
    "        RT_err_as[i,:] = RT_err_a\n",
    "        nums[i,:] = num\n",
    "    \n",
    "    return np.nanmean(RT_cor_ss, axis = 0), np.nanmean(RT_cor_as, axis = 0), np.nanmean(RT_err_ss, axis = 0), np.nanmean(RT_err_as, axis = 0), np.nanmean(nums, axis = 0)"
   ]
  },
  {
   "cell_type": "code",
   "execution_count": 12,
   "id": "9a5f8540",
   "metadata": {},
   "outputs": [
    {
     "name": "stderr",
     "output_type": "stream",
     "text": [
      "/Users/wangjiashun/opt/anaconda3/envs/sbi_env/lib/python3.7/site-packages/ipykernel_launcher.py:17: RuntimeWarning: Mean of empty slice\n",
      "  app.launch_new_instance()\n"
     ]
    }
   ],
   "source": [
    "RT_cor_s, RT_cor_a, RT_err_s, RT_err_a, nums = get_RT_quantile_DDM(params_all = params_all[params_all.loc[:,'Frequency']==1],\n",
    "                                                                   sample_size= sample_size, correct = correct, corrects = corrects,\n",
    "        cond = cond, conds = conds, rt = rt)"
   ]
  },
  {
   "cell_type": "code",
   "execution_count": 13,
   "id": "ab08dab8",
   "metadata": {},
   "outputs": [],
   "source": [
    "Frequencies = [1,  2, 3,  4,  5,  6]\n"
   ]
  },
  {
   "cell_type": "code",
   "execution_count": 14,
   "id": "0b2cd8ed",
   "metadata": {
    "scrolled": false
   },
   "outputs": [
    {
     "name": "stderr",
     "output_type": "stream",
     "text": [
      "/Users/wangjiashun/opt/anaconda3/envs/sbi_env/lib/python3.7/site-packages/ipykernel_launcher.py:17: RuntimeWarning: Mean of empty slice\n",
      "  app.launch_new_instance()\n"
     ]
    },
    {
     "ename": "FloatingPointError",
     "evalue": "invalid value encountered in double_scalars",
     "output_type": "error",
     "traceback": [
      "\u001b[0;31m---------------------------------------------------------------------------\u001b[0m",
      "\u001b[0;31mFloatingPointError\u001b[0m                        Traceback (most recent call last)",
      "\u001b[0;32m/var/folders/5g/vqmn12yd48z6l6jf2s2yy62r0000gn/T/ipykernel_87405/4079762697.py\u001b[0m in \u001b[0;36m<module>\u001b[0;34m\u001b[0m\n\u001b[1;32m     36\u001b[0m     \u001b[0max\u001b[0m\u001b[0;34m.\u001b[0m\u001b[0mset_ylabel\u001b[0m\u001b[0;34m(\u001b[0m\u001b[0;34m\"RT\"\u001b[0m\u001b[0;34m)\u001b[0m\u001b[0;34m\u001b[0m\u001b[0;34m\u001b[0m\u001b[0m\n\u001b[1;32m     37\u001b[0m     \u001b[0;32mreturn\u001b[0m\u001b[0;34m(\u001b[0m\u001b[0max\u001b[0m\u001b[0;34m)\u001b[0m\u001b[0;34m\u001b[0m\u001b[0;34m\u001b[0m\u001b[0m\n\u001b[0;32m---> 38\u001b[0;31m \u001b[0mDDM_QP_plot\u001b[0m\u001b[0;34m(\u001b[0m\u001b[0;34m)\u001b[0m\u001b[0;34m\u001b[0m\u001b[0;34m\u001b[0m\u001b[0m\n\u001b[0m",
      "\u001b[0;32m/var/folders/5g/vqmn12yd48z6l6jf2s2yy62r0000gn/T/ipykernel_87405/4079762697.py\u001b[0m in \u001b[0;36mDDM_QP_plot\u001b[0;34m(ax)\u001b[0m\n\u001b[1;32m     25\u001b[0m \u001b[0;34m\u001b[0m\u001b[0m\n\u001b[1;32m     26\u001b[0m         \u001b[0max\u001b[0m\u001b[0;34m.\u001b[0m\u001b[0mplot\u001b[0m\u001b[0;34m(\u001b[0m\u001b[0;34m[\u001b[0m\u001b[0mnums\u001b[0m\u001b[0;34m[\u001b[0m\u001b[0;36m0\u001b[0m\u001b[0;34m]\u001b[0m\u001b[0;34m/\u001b[0m\u001b[0;34m(\u001b[0m\u001b[0mnums\u001b[0m\u001b[0;34m[\u001b[0m\u001b[0;36m0\u001b[0m\u001b[0;34m]\u001b[0m\u001b[0;34m+\u001b[0m\u001b[0mnums\u001b[0m\u001b[0;34m[\u001b[0m\u001b[0;36m2\u001b[0m\u001b[0;34m]\u001b[0m\u001b[0;34m)\u001b[0m\u001b[0;34m]\u001b[0m\u001b[0;34m*\u001b[0m\u001b[0;36m5\u001b[0m\u001b[0;34m,\u001b[0m \u001b[0mRT_cor_s\u001b[0m\u001b[0;34m,\u001b[0m\u001b[0;34m\"x\"\u001b[0m\u001b[0;34m,\u001b[0m \u001b[0mcolor\u001b[0m \u001b[0;34m=\u001b[0m \u001b[0;34m'#008176'\u001b[0m\u001b[0;34m,\u001b[0m \u001b[0mfillstyle\u001b[0m \u001b[0;34m=\u001b[0m \u001b[0;34m'none'\u001b[0m\u001b[0;34m)\u001b[0m\u001b[0;34m\u001b[0m\u001b[0;34m\u001b[0m\u001b[0m\n\u001b[0;32m---> 27\u001b[0;31m         \u001b[0max\u001b[0m\u001b[0;34m.\u001b[0m\u001b[0mplot\u001b[0m\u001b[0;34m(\u001b[0m\u001b[0;34m[\u001b[0m\u001b[0mnums\u001b[0m\u001b[0;34m[\u001b[0m\u001b[0;36m1\u001b[0m\u001b[0;34m]\u001b[0m\u001b[0;34m/\u001b[0m\u001b[0;34m(\u001b[0m\u001b[0mnums\u001b[0m\u001b[0;34m[\u001b[0m\u001b[0;36m1\u001b[0m\u001b[0;34m]\u001b[0m\u001b[0;34m+\u001b[0m\u001b[0mnums\u001b[0m\u001b[0;34m[\u001b[0m\u001b[0;36m3\u001b[0m\u001b[0;34m]\u001b[0m\u001b[0;34m)\u001b[0m\u001b[0;34m]\u001b[0m\u001b[0;34m*\u001b[0m\u001b[0;36m5\u001b[0m\u001b[0;34m,\u001b[0m \u001b[0mRT_cor_a\u001b[0m\u001b[0;34m,\u001b[0m\u001b[0;34m\"x\"\u001b[0m\u001b[0;34m,\u001b[0m \u001b[0mcolor\u001b[0m \u001b[0;34m=\u001b[0m \u001b[0;34m'#008176'\u001b[0m\u001b[0;34m,\u001b[0m \u001b[0mfillstyle\u001b[0m \u001b[0;34m=\u001b[0m \u001b[0;34m'none'\u001b[0m\u001b[0;34m)\u001b[0m\u001b[0;34m\u001b[0m\u001b[0;34m\u001b[0m\u001b[0m\n\u001b[0m\u001b[1;32m     28\u001b[0m         \u001b[0max\u001b[0m\u001b[0;34m.\u001b[0m\u001b[0mplot\u001b[0m\u001b[0;34m(\u001b[0m\u001b[0;34m[\u001b[0m\u001b[0mnums\u001b[0m\u001b[0;34m[\u001b[0m\u001b[0;36m2\u001b[0m\u001b[0;34m]\u001b[0m\u001b[0;34m/\u001b[0m\u001b[0;34m(\u001b[0m\u001b[0mnums\u001b[0m\u001b[0;34m[\u001b[0m\u001b[0;36m0\u001b[0m\u001b[0;34m]\u001b[0m\u001b[0;34m+\u001b[0m\u001b[0mnums\u001b[0m\u001b[0;34m[\u001b[0m\u001b[0;36m2\u001b[0m\u001b[0;34m]\u001b[0m\u001b[0;34m)\u001b[0m\u001b[0;34m]\u001b[0m\u001b[0;34m*\u001b[0m\u001b[0;36m5\u001b[0m\u001b[0;34m,\u001b[0m \u001b[0mRT_err_s\u001b[0m\u001b[0;34m,\u001b[0m\u001b[0;34m\"x\"\u001b[0m\u001b[0;34m,\u001b[0m \u001b[0mcolor\u001b[0m \u001b[0;34m=\u001b[0m \u001b[0;34m'#c1272d'\u001b[0m\u001b[0;34m,\u001b[0m \u001b[0mfillstyle\u001b[0m \u001b[0;34m=\u001b[0m \u001b[0;34m'none'\u001b[0m\u001b[0;34m)\u001b[0m\u001b[0;34m\u001b[0m\u001b[0;34m\u001b[0m\u001b[0m\n\u001b[1;32m     29\u001b[0m         \u001b[0max\u001b[0m\u001b[0;34m.\u001b[0m\u001b[0mplot\u001b[0m\u001b[0;34m(\u001b[0m\u001b[0;34m[\u001b[0m\u001b[0mnums\u001b[0m\u001b[0;34m[\u001b[0m\u001b[0;36m3\u001b[0m\u001b[0;34m]\u001b[0m\u001b[0;34m/\u001b[0m\u001b[0;34m(\u001b[0m\u001b[0mnums\u001b[0m\u001b[0;34m[\u001b[0m\u001b[0;36m1\u001b[0m\u001b[0;34m]\u001b[0m\u001b[0;34m+\u001b[0m\u001b[0mnums\u001b[0m\u001b[0;34m[\u001b[0m\u001b[0;36m3\u001b[0m\u001b[0;34m]\u001b[0m\u001b[0;34m)\u001b[0m\u001b[0;34m]\u001b[0m\u001b[0;34m*\u001b[0m\u001b[0;36m5\u001b[0m\u001b[0;34m,\u001b[0m \u001b[0mRT_err_a\u001b[0m\u001b[0;34m,\u001b[0m\u001b[0;34m\"x\"\u001b[0m\u001b[0;34m,\u001b[0m \u001b[0mcolor\u001b[0m \u001b[0;34m=\u001b[0m \u001b[0;34m'#c1272d'\u001b[0m\u001b[0;34m,\u001b[0m \u001b[0mfillstyle\u001b[0m \u001b[0;34m=\u001b[0m \u001b[0;34m'none'\u001b[0m\u001b[0;34m)\u001b[0m\u001b[0;34m\u001b[0m\u001b[0;34m\u001b[0m\u001b[0m\n",
      "\u001b[0;31mFloatingPointError\u001b[0m: invalid value encountered in double_scalars"
     ]
    },
    {
     "data": {
      "image/png": "[encoded data removed]",
      "text/plain": [
       "<Figure size 640x480 with 1 Axes>"
      ]
     },
     "metadata": {},
     "output_type": "display_data"
    }
   ],
   "source": [
    "def DDM_QP_plot(ax=None):\n",
    "    if ax is None:\n",
    "        ax = plt.gca()\n",
    "    \n",
    "    quantiles = [.1, .3, .5, .7, .9]\n",
    "    ## behavioral data\n",
    "    \n",
    "    for freq in Frequencies:\n",
    "        data_dir = \"/Users/wangjiashun/Desktop/Reserach on SAT/datasets/Lexical Decision Data/dataByFreq/Freq\"+str(freq)+\"/sub\"    \n",
    "        \n",
    "        RT_cor_s, RT_cor_a, RT_err_s, RT_err_a, nums = get_RT_quantile(data_dir = data_dir,sample_size= sample_size, \n",
    "                                                                       correct = correct, corrects = corrects,\n",
    "                                                                       cond = cond, conds = conds, rt = rt)\n",
    "\n",
    "        ax.plot([nums[0]/(nums[0]+nums[2])]*5, RT_cor_s,\"o\", color = '#008176', fillstyle = 'none')\n",
    "        ax.plot([nums[1]/(nums[1]+nums[3])]*5, RT_cor_a,\"o\", color = '#008176', fillstyle = 'none')\n",
    "        ax.plot([nums[2]/(nums[0]+nums[2])]*5, RT_err_s,\"o\", color = '#c1272d', fillstyle = 'none')\n",
    "        ax.plot([nums[3]/(nums[1]+nums[3])]*5, RT_err_a,\"o\", color = '#c1272d', fillstyle = 'none')\n",
    "\n",
    "        ## data generated from model\n",
    "        RT_cor_s, RT_cor_a, RT_err_s, RT_err_a, nums = get_RT_quantile_DDM(params_all = params_all[params_all.loc[:,'Frequency']==freq]\n",
    "                                                                           ,sample_size= sample_size, \n",
    "                                                                       correct = correct, corrects = corrects,\n",
    "                                                                       cond = cond, conds = conds, rt = rt)\n",
    "\n",
    "        ax.plot([nums[0]/(nums[0]+nums[2])]*5, RT_cor_s,\"x\", color = '#008176', fillstyle = 'none')\n",
    "        ax.plot([nums[1]/(nums[1]+nums[3])]*5, RT_cor_a,\"x\", color = '#008176', fillstyle = 'none')\n",
    "        ax.plot([nums[2]/(nums[0]+nums[2])]*5, RT_err_s,\"x\", color = '#c1272d', fillstyle = 'none')\n",
    "        ax.plot([nums[3]/(nums[1]+nums[3])]*5, RT_err_a,\"x\", color = '#c1272d', fillstyle = 'none')\n",
    "\n",
    "    # limits\n",
    "    ax.set_xlim(0,1)\n",
    "    ax.set_ylim(0,)\n",
    "        \n",
    "    ax.set_xlabel(\"Probability of Response\")\n",
    "    ax.set_ylabel(\"RT\")\n",
    "    return(ax)\n",
    "DDM_QP_plot()"
   ]
  },
  {
   "cell_type": "code",
   "execution_count": null,
   "id": "54e1ff7c",
   "metadata": {},
   "outputs": [],
   "source": []
  },
  {
   "cell_type": "code",
   "execution_count": null,
   "id": "19ebdcbc",
   "metadata": {},
   "outputs": [],
   "source": []
  },
  {
   "cell_type": "code",
   "execution_count": null,
   "id": "96bb4081",
   "metadata": {},
   "outputs": [],
   "source": []
  },
  {
   "cell_type": "code",
   "execution_count": 91,
   "id": "6b588e31",
   "metadata": {},
   "outputs": [],
   "source": [
    "model = 'OUM2v2k2ter'\n",
    "dataset = 'Wagenmakers2008'\n",
    "params_all = pd.read_csv(model+\"result\"+dataset+\".csv\")#.drop(labels=3, axis=0)\n"
   ]
  },
  {
   "cell_type": "code",
   "execution_count": null,
   "id": "c255e17c",
   "metadata": {},
   "outputs": [],
   "source": []
  },
  {
   "cell_type": "code",
   "execution_count": null,
   "id": "ccd61d25",
   "metadata": {},
   "outputs": [],
   "source": []
  },
  {
   "cell_type": "code",
   "execution_count": 92,
   "id": "bb242160",
   "metadata": {},
   "outputs": [],
   "source": [
    "\n",
    "            \n",
    "def get_RT_quantile_OUM2v2k2ter_sub(params, T_dur=3):\n",
    "\n",
    "    Vspeed,Vacc, Kspeed,Kacc,B,tSpeed,tAcc = params[0],params[1],params[2],params[3],params[4],params[5],params[6]\n",
    "\n",
    "    model = Model(name='Simple model (fitted)',\n",
    "                      drift=DriftBothSpeedAcc(Vspeed=Vspeed, Vacc=Vacc, Kspeed=Kspeed, Kacc=Kacc),                              \n",
    "                      noise=NoiseConstant(noise=1),\n",
    "                      bound=BoundConstant(B=B),\n",
    "                      overlay=NondecisionSpeedAcc(tSpeed=tSpeed,tAcc=tAcc),\n",
    "                      dx=.001, dt=.001, T_dur=T_dur)\n",
    "    sol_s = model.solve({'Cond':'Speed'})\n",
    "    samp_s = sol_s.resample(1000)\n",
    "    data_s = samp_s.to_pandas_dataframe(drop_undecided = True)\n",
    "\n",
    "    sol_a = model.solve({'Cond':'Accuracy'})\n",
    "    samp_a = sol_a.resample(1000)\n",
    "    data_a = samp_a.to_pandas_dataframe(drop_undecided = True)\n",
    "\n",
    "    data = pd.concat((data_s, data_a))\n",
    "\n",
    "    return get_RT_quantile_sub(data, 'correct', [1,0], 'Cond', ['Speed', 'Accuracy'], 'RT')\n",
    "#get_RT_quantile_OUM2v2k2ter_sub(params = np.array(params_all)[0,1:8])"
   ]
  },
  {
   "cell_type": "code",
   "execution_count": 93,
   "id": "f409e53b",
   "metadata": {},
   "outputs": [],
   "source": [
    "def get_RT_quantile_OUM2v2k2ter(params_all, sample_size, correct, corrects, cond, conds, rt, quantiles = [.1, .3, .5, .7, .9]):\n",
    "\n",
    "    RT_cor_ss, RT_cor_as, RT_err_ss, RT_err_as, nums = np.zeros((sample_size,5)),np.zeros((sample_size,5)),np.zeros((sample_size,5)),np.zeros((sample_size,5)),np.zeros((sample_size,4))\n",
    "    for i in range(sample_size):\n",
    "\n",
    "        params = np.array(params_all)[i,1:8]\n",
    "        RT_cor_s, RT_cor_a, RT_err_s, RT_err_a, num = get_RT_quantile_OUM2v2k2ter_sub(params = params)\n",
    "        #print(RT_err_a)\n",
    "        RT_cor_ss[i,:] = RT_cor_s\n",
    "        RT_cor_as[i,:] = RT_cor_a\n",
    "        RT_err_ss[i,:] = RT_err_s\n",
    "        RT_err_as[i,:] = RT_err_a\n",
    "        nums[i,:] = num\n",
    "    \n",
    "    return np.nanmean(RT_cor_ss, axis = 0), np.nanmean(RT_cor_as, axis = 0), np.nanmean(RT_err_ss, axis = 0), np.nanmean(RT_err_as, axis = 0), np.nanmean(nums, axis = 0)\n",
    "\n",
    "RT_cor_s, RT_cor_a, RT_err_s, RT_err_a, nums = get_RT_quantile_OUM2v2k2ter(params_all = params_all,sample_size= sample_size, correct = correct, corrects = corrects,\n",
    "        cond = cond, conds = conds, rt = rt)"
   ]
  },
  {
   "cell_type": "code",
   "execution_count": 101,
   "id": "0044378a",
   "metadata": {},
   "outputs": [
    {
     "data": {
      "text/plain": [
       "<AxesSubplot:xlabel='Probability of Response', ylabel='RT'>"
      ]
     },
     "execution_count": 101,
     "metadata": {},
     "output_type": "execute_result"
    },
    {
     "data": {
      "image/png": "[encoded data removed]",
      "text/plain": [
       "<Figure size 640x480 with 1 Axes>"
      ]
     },
     "metadata": {},
     "output_type": "display_data"
    }
   ],
   "source": [
    "def OUM2v2k2ter_QP_plot(ax=None):\n",
    "    if ax is None:\n",
    "        ax = plt.gca()\n",
    "    \n",
    "    quantiles = [.1, .3, .5, .7, .9]\n",
    "    \n",
    "    for freq in [6]:\n",
    "        data_dir = \"/Users/wangjiashun/Desktop/Reserach on SAT/datasets/Lexical Decision Data/dataByFreq/Freq\"+str(freq)+\"/sub\"    \n",
    "\n",
    "        ## behavioral data\n",
    "        RT_cor_s, RT_cor_a, RT_err_s, RT_err_a, nums = get_RT_quantile(data_dir = data_dir,sample_size= sample_size, \n",
    "                                                                       correct = correct, corrects = corrects,\n",
    "                                                                       cond = cond, conds = conds, rt = rt)\n",
    "\n",
    "        ax.plot([nums[0]/(nums[0]+nums[2])]*5, RT_cor_s,\"o\", color = '#008176', fillstyle = 'none')\n",
    "        ax.plot([nums[1]/(nums[1]+nums[3])]*5, RT_cor_a,\"o\", color = '#008176', fillstyle = 'none')\n",
    "        ax.plot([nums[2]/(nums[0]+nums[2])]*5, RT_err_s,\"o\", color = '#c1272d', fillstyle = 'none')\n",
    "        ax.plot([nums[3]/(nums[1]+nums[3])]*5, RT_err_a,\"o\", color = '#c1272d', fillstyle = 'none')\n",
    "\n",
    "        ## data generated from model\n",
    "        RT_cor_s, RT_cor_a, RT_err_s, RT_err_a, nums = get_RT_quantile_OUM2v2k2ter(params_all = params_all[params_all.loc[:,'Frequency']==freq],\n",
    "                                                                                   sample_size= sample_size, \n",
    "                                                                       correct = correct, corrects = corrects,\n",
    "                                                                       cond = cond, conds = conds, rt = rt)\n",
    "\n",
    "        ax.plot([nums[0]/(nums[0]+nums[2])]*5, RT_cor_s,\"x\", color = '#008176', fillstyle = 'none')\n",
    "        ax.plot([nums[1]/(nums[1]+nums[3])]*5, RT_cor_a,\"x\", color = '#008176', fillstyle = 'none')\n",
    "        ax.plot([nums[2]/(nums[0]+nums[2])]*5, RT_err_s,\"x\", color = '#c1272d', fillstyle = 'none')\n",
    "        ax.plot([nums[3]/(nums[1]+nums[3])]*5, RT_err_a,\"x\", color = '#c1272d', fillstyle = 'none')\n",
    "\n",
    "    # limits\n",
    "    ax.set_xlim(0,1)\n",
    "    ax.set_ylim(0,)\n",
    "        \n",
    "    ax.set_xlabel(\"Probability of Response\")\n",
    "    ax.set_ylabel(\"RT\")\n",
    "    return(ax)\n",
    "OUM2v2k2ter_QP_plot()"
   ]
  },
  {
   "cell_type": "code",
   "execution_count": null,
   "id": "03d60f3b",
   "metadata": {},
   "outputs": [],
   "source": []
  },
  {
   "cell_type": "code",
   "execution_count": null,
   "id": "9407d000",
   "metadata": {},
   "outputs": [],
   "source": []
  }
 ],
 "metadata": {
  "kernelspec": {
   "display_name": "Python 3 (ipykernel)",
   "language": "python",
   "name": "python3"
  },
  "language_info": {
   "codemirror_mode": {
    "name": "ipython",
    "version": 3
   },
   "file_extension": ".py",
   "mimetype": "text/x-python",
   "name": "python",
   "nbconvert_exporter": "python",
   "pygments_lexer": "ipython3",
   "version": "3.11.4"
  }
 },
 "nbformat": 4,
 "nbformat_minor": 5
}
