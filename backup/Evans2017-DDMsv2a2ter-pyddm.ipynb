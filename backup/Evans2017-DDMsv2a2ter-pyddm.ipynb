{
 "cells": [
  {
   "cell_type": "code",
   "execution_count": 4,
   "id": "2cda49de",
   "metadata": {},
   "outputs": [],
   "source": [
    "%run SAT_help_functions.ipynb"
   ]
  },
  {
   "cell_type": "code",
   "execution_count": null,
   "id": "bc081cf9",
   "metadata": {},
   "outputs": [],
   "source": []
  },
  {
   "cell_type": "markdown",
   "id": "4bd26666",
   "metadata": {},
   "source": [
    "## OUM"
   ]
  },
  {
   "cell_type": "code",
   "execution_count": null,
   "id": "9ef6c434",
   "metadata": {},
   "outputs": [],
   "source": []
  },
  {
   "cell_type": "code",
   "execution_count": 5,
   "id": "e776257c",
   "metadata": {},
   "outputs": [],
   "source": [
    "data_dir = \"/Users/wangjiashun/Desktop/Reserach on SAT/datasets/Evans2021/Evans2017/dataBySubject/sub\"\n",
    "sample_size = 47\n",
    "SAT_conds = [\"Speed\", \"Accuracy\"]"
   ]
  },
  {
   "cell_type": "code",
   "execution_count": 35,
   "id": "f434220f",
   "metadata": {},
   "outputs": [],
   "source": [
    "model = Model(name='Simple model (fitted)',\n",
    "                  drift=DriftConstant(drift = 1),                              \n",
    "                  noise=NoiseConstant(noise=1),\n",
    "                  bound=BoundConstant(B=1),\n",
    "                  overlay=OverlayNonDecision(nondectime=0.1),\n",
    "                  dx=.001, dt=.001, T_dur=3)\n",
    "sol = model.solve()\n",
    "samp = sol.resample(1000)\n",
    "sample = samp.to_pandas_dataframe(drop_undecided = True)\n"
   ]
  },
  {
   "cell_type": "code",
   "execution_count": null,
   "id": "6a005213",
   "metadata": {},
   "outputs": [],
   "source": []
  },
  {
   "cell_type": "code",
   "execution_count": null,
   "id": "e837ea8d",
   "metadata": {},
   "outputs": [],
   "source": []
  },
  {
   "cell_type": "code",
   "execution_count": 34,
   "id": "436ff7eb",
   "metadata": {},
   "outputs": [],
   "source": [
    "#dir(samp)"
   ]
  },
  {
   "cell_type": "code",
   "execution_count": null,
   "id": "f2f1b3b6",
   "metadata": {},
   "outputs": [],
   "source": []
  },
  {
   "cell_type": "code",
   "execution_count": null,
   "id": "8dea96e0",
   "metadata": {},
   "outputs": [],
   "source": []
  },
  {
   "cell_type": "code",
   "execution_count": null,
   "id": "62005b1f",
   "metadata": {},
   "outputs": [],
   "source": []
  },
  {
   "cell_type": "code",
   "execution_count": 69,
   "id": "12820e57",
   "metadata": {},
   "outputs": [],
   "source": []
  },
  {
   "cell_type": "code",
   "execution_count": 65,
   "id": "4aa3158f",
   "metadata": {},
   "outputs": [],
   "source": []
  },
  {
   "cell_type": "code",
   "execution_count": 74,
   "id": "f858893d",
   "metadata": {
    "scrolled": false
   },
   "outputs": [
    {
     "name": "stderr",
     "output_type": "stream",
     "text": [
      "Info: Params [0.9009039  0.         0.55646615 0.85096549 0.3207267  0.39294593] gave 4232.924813675256\n"
     ]
    },
    {
     "data": {
      "text/html": [
       "<div>\n",
       "<style scoped>\n",
       "    .dataframe tbody tr th:only-of-type {\n",
       "        vertical-align: middle;\n",
       "    }\n",
       "\n",
       "    .dataframe tbody tr th {\n",
       "        vertical-align: top;\n",
       "    }\n",
       "\n",
       "    .dataframe thead th {\n",
       "        text-align: right;\n",
       "    }\n",
       "</style>\n",
       "<table border=\"1\" class=\"dataframe\">\n",
       "  <thead>\n",
       "    <tr style=\"text-align: right;\">\n",
       "      <th></th>\n",
       "      <th>Drift Rate</th>\n",
       "      <th>Drift Rate Variability</th>\n",
       "      <th>Boundary Separation Speed</th>\n",
       "      <th>Boundary Separation Accuracy</th>\n",
       "      <th>Non-decision Time Speed</th>\n",
       "      <th>Non-decision Time Accuracy</th>\n",
       "      <th>BIC</th>\n",
       "    </tr>\n",
       "  </thead>\n",
       "  <tbody>\n",
       "    <tr>\n",
       "      <th>0</th>\n",
       "      <td>0.900904</td>\n",
       "      <td>0.0</td>\n",
       "      <td>0.556466</td>\n",
       "      <td>0.850965</td>\n",
       "      <td>0.320727</td>\n",
       "      <td>0.392946</td>\n",
       "      <td>4232.924814</td>\n",
       "    </tr>\n",
       "  </tbody>\n",
       "</table>\n",
       "</div>"
      ],
      "text/plain": [
       "   Drift Rate  Drift Rate Variability  Boundary Separation Speed  \\\n",
       "0    0.900904                     0.0                   0.556466   \n",
       "\n",
       "   Boundary Separation Accuracy  Non-decision Time Speed  \\\n",
       "0                      0.850965                 0.320727   \n",
       "\n",
       "   Non-decision Time Accuracy          BIC  \n",
       "0                    0.392946  4232.924814  "
      ]
     },
     "execution_count": 74,
     "metadata": {},
     "output_type": "execute_result"
    }
   ],
   "source": [
    "samp = Sample.from_pandas_dataframe(df, rt_column_name=\"Time\", correct_column_name=\"Correct\")\n",
    "get_DDM_result_sub_sv2a2ter(samp)"
   ]
  },
  {
   "cell_type": "code",
   "execution_count": 83,
   "id": "f771d38a",
   "metadata": {},
   "outputs": [
    {
     "data": {
      "text/html": [
       "<div>\n",
       "<style scoped>\n",
       "    .dataframe tbody tr th:only-of-type {\n",
       "        vertical-align: middle;\n",
       "    }\n",
       "\n",
       "    .dataframe tbody tr th {\n",
       "        vertical-align: top;\n",
       "    }\n",
       "\n",
       "    .dataframe thead th {\n",
       "        text-align: right;\n",
       "    }\n",
       "</style>\n",
       "<table border=\"1\" class=\"dataframe\">\n",
       "  <thead>\n",
       "    <tr style=\"text-align: right;\">\n",
       "      <th></th>\n",
       "      <th>Drift Rate</th>\n",
       "      <th>Drift Rate Variability</th>\n",
       "      <th>Boundary Separation Speed</th>\n",
       "      <th>Boundary Separation Accuracy</th>\n",
       "      <th>Non-decision Time Speed</th>\n",
       "      <th>Non-decision Time Accuracy</th>\n",
       "      <th>BIC</th>\n",
       "    </tr>\n",
       "  </thead>\n",
       "  <tbody>\n",
       "    <tr>\n",
       "      <th>0</th>\n",
       "      <td>1.292302</td>\n",
       "      <td>0.0</td>\n",
       "      <td>0.683041</td>\n",
       "      <td>1.400312</td>\n",
       "      <td>0.295892</td>\n",
       "      <td>0.504512</td>\n",
       "      <td>4258.540993</td>\n",
       "    </tr>\n",
       "  </tbody>\n",
       "</table>\n",
       "</div>"
      ],
      "text/plain": [
       "   Drift Rate  Drift Rate Variability  Boundary Separation Speed  \\\n",
       "0    1.292302                     0.0                   0.683041   \n",
       "\n",
       "   Boundary Separation Accuracy  Non-decision Time Speed  \\\n",
       "0                      1.400312                 0.295892   \n",
       "\n",
       "   Non-decision Time Accuracy          BIC  \n",
       "0                    0.504512  4258.540993  "
      ]
     },
     "execution_count": 83,
     "metadata": {},
     "output_type": "execute_result"
    }
   ],
   "source": [
    "df"
   ]
  },
  {
   "cell_type": "code",
   "execution_count": 79,
   "id": "bbb278a6",
   "metadata": {},
   "outputs": [],
   "source": [
    "\n",
    "def prepare_sample_for_variable_drift(df, resolution=11):\n",
    "    n = len(df)\n",
    "    df = df.append([df]*10,ignore_index=True)\n",
    "    DriftConditions = []\n",
    "    for i in range(11):\n",
    "        DriftConditions += [i]*n\n",
    "\n",
    "    df['driftnum'] = DriftConditions\n",
    "    return df"
   ]
  },
  {
   "cell_type": "code",
   "execution_count": 32,
   "id": "74c29db8",
   "metadata": {},
   "outputs": [],
   "source": [
    "class DriftUniform(Drift):\n",
    "    name = \"Uniformly-distributed drift\"\n",
    "    resolution = RESOLUTION # Number of bins, should be an odd number\n",
    "    required_parameters = ['drift', 'width'] # Mean drift and the width of the uniform distribution\n",
    "    required_conditions = ['driftnum']\n",
    "    def get_drift(self, conditions, **kwargs):\n",
    "        stepsize = self.width/(self.resolution-1)\n",
    "        mindrift = self.drift - self.width/2\n",
    "        return mindrift + stepsize*conditions['driftnum']"
   ]
  },
  {
   "cell_type": "code",
   "execution_count": 8,
   "id": "6e5e0074",
   "metadata": {},
   "outputs": [],
   "source": [
    "class BoundSpeedAcc(Bound):\n",
    "    name = \"BoundSpeedAcc\"\n",
    "    required_parameters = [\"Bspeed\", \"Bacc\"]\n",
    "    required_conditions = ['Cond']\n",
    "    def get_bound(self, conditions, *args, **kwargs):\n",
    "        assert self.Bacc > 0\n",
    "        assert self.Bspeed > 0\n",
    "        if conditions['Cond'] == 'Speed':\n",
    "            return self.Bspeed\n",
    "        elif conditions['Cond'] == 'Accuracy':\n",
    "            return self.Bacc\n",
    "        else:\n",
    "            print(\"Non-implemented SAT conditions\")\n",
    "            \n",
    "class NondecisionSpeedAcc(OverlayNonDecision):\n",
    "    name = \"NondecisionSpeedAcc\"\n",
    "    required_parameters = [\"tSpeed\", 'tAcc']\n",
    "    required_conditions = ['Cond']\n",
    "        \n",
    "    def get_nondecision_time(self, conditions, **kwargs):\n",
    "        if conditions['Cond'] == 'Speed':\n",
    "            return self.tSpeed \n",
    "        elif conditions['Cond'] == 'Accuracy':\n",
    "            return self.tAcc\n",
    "        else: \n",
    "            print(\"Non-implemented SAT conditions\")"
   ]
  },
  {
   "cell_type": "code",
   "execution_count": null,
   "id": "b1e0fe9b",
   "metadata": {},
   "outputs": [],
   "source": []
  },
  {
   "cell_type": "code",
   "execution_count": null,
   "id": "81235d16",
   "metadata": {},
   "outputs": [],
   "source": []
  },
  {
   "cell_type": "code",
   "execution_count": 81,
   "id": "8a3f5185",
   "metadata": {},
   "outputs": [],
   "source": [
    "def get_DDM_result_sub_sv2a2ter(samp, v = [0,6], sv = [0,1], a = [0.5,8], ter=[0.1,1], T_dur=3):\n",
    "    \n",
    "    model_fit = Model(name='Simple model (fitted)',\n",
    "                      drift=DriftUniform(drift=Fittable(minval=v[0], maxval=v[1]),\n",
    "                                         width=Fittable(minval=sv[0], maxval=sv[1])),                      \n",
    "                      noise=NoiseConstant(noise=1),\n",
    "                      bound=BoundSpeedAcc(\n",
    "                          Bspeed=Fittable(minval=a[0], maxval=a[1]),\n",
    "                          Bacc=Fittable(minval=a[0], maxval=a[1])),\n",
    "                      \n",
    "                      overlay=NondecisionSpeedAcc(\n",
    "                          tSpeed=Fittable(minval=ter[0], maxval=ter[1]),\n",
    "                          tAcc=Fittable(minval=ter[0], maxval=ter[1]),\n",
    "                      ),\n",
    "                      dx=.001, dt=.001, T_dur=T_dur)\n",
    "    #set_N_cpus(4)\n",
    "    fit_adjust_model(samp, model_fit,\n",
    "                     fitting_method=\"differential_evolution\",\n",
    "                     lossfunction=LossRobustBIC, verbose=False)\n",
    "    #print(model_fit.get_model_parameters())\n",
    "    df = pd.DataFrame(data = np.array(model_fit.get_model_parameters()).reshape(1,6),\n",
    "                      columns = model_fit.get_model_parameter_names())\n",
    "    \n",
    "    #df['Participant']=i+1\n",
    "    #df['SAT'] = SAT\n",
    "    df['BIC'] = model_fit.get_fit_result().value()\n",
    "    df = df.rename(columns={'drift': 'Drift Rate',\n",
    "                            'width':'Drift Rate Variability',\n",
    "                            'Bspeed': 'Boundary Separation Speed',\n",
    "                            'Bacc': 'Boundary Separation Accuracy',\n",
    "                            'tSpeed': 'Non-decision Time Speed',\n",
    "                            'tAcc': 'Non-decision Time Accuracy'})\n",
    "    return df"
   ]
  },
  {
   "cell_type": "code",
   "execution_count": 82,
   "id": "fdb13001",
   "metadata": {
    "scrolled": true
   },
   "outputs": [
    {
     "name": "stdout",
     "output_type": "stream",
     "text": [
      "0\n"
     ]
    },
    {
     "name": "stderr",
     "output_type": "stream",
     "text": [
      "Info: Params [0.89885075 0.         0.56127945 0.8496294  0.31787686 0.39058347] gave 4272.141603399549\n"
     ]
    },
    {
     "name": "stdout",
     "output_type": "stream",
     "text": [
      "   Drift Rate  Drift Rate Variability  Boundary Separation Speed  \\\n",
      "0    0.898851                     0.0                   0.561279   \n",
      "\n",
      "   Boundary Separation Accuracy  Non-decision Time Speed  \\\n",
      "0                      0.849629                 0.317877   \n",
      "\n",
      "   Non-decision Time Accuracy          BIC  \n",
      "0                    0.390583  4272.141603  \n",
      "1\n"
     ]
    },
    {
     "name": "stderr",
     "output_type": "stream",
     "text": [
      "Info: Params [1.88242207e+00 7.77526627e-07 5.64122881e-01 1.00736332e+00\n",
      " 4.27322378e-01 5.19834405e-01] gave -919.7971977623714\n"
     ]
    },
    {
     "name": "stdout",
     "output_type": "stream",
     "text": [
      "   Drift Rate  Drift Rate Variability  Boundary Separation Speed  \\\n",
      "0    1.882422            7.775266e-07                   0.564123   \n",
      "\n",
      "   Boundary Separation Accuracy  Non-decision Time Speed  \\\n",
      "0                      1.007363                 0.427322   \n",
      "\n",
      "   Non-decision Time Accuracy         BIC  \n",
      "0                    0.519834 -919.797198  \n",
      "2\n"
     ]
    },
    {
     "name": "stderr",
     "output_type": "stream",
     "text": [
      "Info: Params [1.35268413 0.         0.67499105 0.72017279 0.20741512 0.34322789] gave 1690.5361433070186\n"
     ]
    },
    {
     "name": "stdout",
     "output_type": "stream",
     "text": [
      "   Drift Rate  Drift Rate Variability  Boundary Separation Speed  \\\n",
      "0    1.352684                     0.0                   0.674991   \n",
      "\n",
      "   Boundary Separation Accuracy  Non-decision Time Speed  \\\n",
      "0                      0.720173                 0.207415   \n",
      "\n",
      "   Non-decision Time Accuracy          BIC  \n",
      "0                    0.343228  1690.536143  \n",
      "3\n"
     ]
    },
    {
     "name": "stderr",
     "output_type": "stream",
     "text": [
      "Info: Params [1.76300499 0.         0.81490221 4.16436552 0.40715799 0.36778758] gave 2326.5174348261976\n"
     ]
    },
    {
     "name": "stdout",
     "output_type": "stream",
     "text": [
      "   Drift Rate  Drift Rate Variability  Boundary Separation Speed  \\\n",
      "0    1.763005                     0.0                   0.814902   \n",
      "\n",
      "   Boundary Separation Accuracy  Non-decision Time Speed  \\\n",
      "0                      4.164366                 0.407158   \n",
      "\n",
      "   Non-decision Time Accuracy          BIC  \n",
      "0                    0.367788  2326.517435  \n",
      "4\n"
     ]
    },
    {
     "name": "stderr",
     "output_type": "stream",
     "text": [
      "Info: Params [1.24408552 0.         0.60612908 0.91539095 0.33237114 0.35008597] gave 2769.5021876915703\n"
     ]
    },
    {
     "name": "stdout",
     "output_type": "stream",
     "text": [
      "   Drift Rate  Drift Rate Variability  Boundary Separation Speed  \\\n",
      "0    1.244086                     0.0                   0.606129   \n",
      "\n",
      "   Boundary Separation Accuracy  Non-decision Time Speed  \\\n",
      "0                      0.915391                 0.332371   \n",
      "\n",
      "   Non-decision Time Accuracy          BIC  \n",
      "0                    0.350086  2769.502188  \n",
      "5\n"
     ]
    },
    {
     "name": "stderr",
     "output_type": "stream",
     "text": [
      "Info: Params [1.15976120e+00 1.83861844e-07 5.52177914e-01 9.02494763e-01\n",
      " 4.22364392e-01 4.89937876e-01] gave 3033.176580277184\n"
     ]
    },
    {
     "name": "stdout",
     "output_type": "stream",
     "text": [
      "   Drift Rate  Drift Rate Variability  Boundary Separation Speed  \\\n",
      "0    1.159761            1.838618e-07                   0.552178   \n",
      "\n",
      "   Boundary Separation Accuracy  Non-decision Time Speed  \\\n",
      "0                      0.902495                 0.422364   \n",
      "\n",
      "   Non-decision Time Accuracy         BIC  \n",
      "0                    0.489938  3033.17658  \n",
      "6\n"
     ]
    },
    {
     "name": "stderr",
     "output_type": "stream",
     "text": [
      "Info: Params [7.90764095e-01 4.20433751e-07 5.78016520e-01 6.99394727e-01\n",
      " 1.77568379e-01 3.69768364e-01] gave 3706.220993656965\n"
     ]
    },
    {
     "name": "stdout",
     "output_type": "stream",
     "text": [
      "   Drift Rate  Drift Rate Variability  Boundary Separation Speed  \\\n",
      "0    0.790764            4.204338e-07                   0.578017   \n",
      "\n",
      "   Boundary Separation Accuracy  Non-decision Time Speed  \\\n",
      "0                      0.699395                 0.177568   \n",
      "\n",
      "   Non-decision Time Accuracy          BIC  \n",
      "0                    0.369768  3706.220994  \n",
      "7\n"
     ]
    },
    {
     "name": "stderr",
     "output_type": "stream",
     "text": [
      "Info: Params [1.90199535e+00 2.85377103e-07 5.98087346e-01 7.44478183e-01\n",
      " 4.09561903e-01 5.34463173e-01] gave -1430.7398287924711\n"
     ]
    },
    {
     "name": "stdout",
     "output_type": "stream",
     "text": [
      "   Drift Rate  Drift Rate Variability  Boundary Separation Speed  \\\n",
      "0    1.901995            2.853771e-07                   0.598087   \n",
      "\n",
      "   Boundary Separation Accuracy  Non-decision Time Speed  \\\n",
      "0                      0.744478                 0.409562   \n",
      "\n",
      "   Non-decision Time Accuracy          BIC  \n",
      "0                    0.534463 -1430.739829  \n",
      "8\n"
     ]
    },
    {
     "name": "stderr",
     "output_type": "stream",
     "text": [
      "Info: Params [1.62334908 0.         0.69519083 0.94655447 0.44834015 0.4901138 ] gave 845.6037787673034\n"
     ]
    },
    {
     "name": "stdout",
     "output_type": "stream",
     "text": [
      "   Drift Rate  Drift Rate Variability  Boundary Separation Speed  \\\n",
      "0    1.623349                     0.0                   0.695191   \n",
      "\n",
      "   Boundary Separation Accuracy  Non-decision Time Speed  \\\n",
      "0                      0.946554                  0.44834   \n",
      "\n",
      "   Non-decision Time Accuracy         BIC  \n",
      "0                    0.490114  845.603779  \n",
      "9\n"
     ]
    },
    {
     "name": "stderr",
     "output_type": "stream",
     "text": [
      "Info: Params [0.58826018 0.         0.67875148 0.87603952 0.36164781 0.3806934 ] gave 7633.563481352849\n"
     ]
    },
    {
     "name": "stdout",
     "output_type": "stream",
     "text": [
      "   Drift Rate  Drift Rate Variability  Boundary Separation Speed  \\\n",
      "0     0.58826                     0.0                   0.678751   \n",
      "\n",
      "   Boundary Separation Accuracy  Non-decision Time Speed  \\\n",
      "0                       0.87604                 0.361648   \n",
      "\n",
      "   Non-decision Time Accuracy          BIC  \n",
      "0                    0.380693  7633.563481  \n",
      "10\n"
     ]
    },
    {
     "name": "stderr",
     "output_type": "stream",
     "text": [
      "Info: Params [0.57546601 0.         0.61622103 1.04092647 0.41175592 0.45080157] gave 7388.409682308998\n"
     ]
    },
    {
     "name": "stdout",
     "output_type": "stream",
     "text": [
      "   Drift Rate  Drift Rate Variability  Boundary Separation Speed  \\\n",
      "0    0.575466                     0.0                   0.616221   \n",
      "\n",
      "   Boundary Separation Accuracy  Non-decision Time Speed  \\\n",
      "0                      1.040926                 0.411756   \n",
      "\n",
      "   Non-decision Time Accuracy          BIC  \n",
      "0                    0.450802  7388.409682  \n",
      "11\n"
     ]
    },
    {
     "name": "stderr",
     "output_type": "stream",
     "text": [
      "Info: Params [0.9269442  0.         0.6716012  0.95872228 0.21008406 0.45959109] gave 5936.290006616954\n"
     ]
    },
    {
     "name": "stdout",
     "output_type": "stream",
     "text": [
      "   Drift Rate  Drift Rate Variability  Boundary Separation Speed  \\\n",
      "0    0.926944                     0.0                   0.671601   \n",
      "\n",
      "   Boundary Separation Accuracy  Non-decision Time Speed  \\\n",
      "0                      0.958722                 0.210084   \n",
      "\n",
      "   Non-decision Time Accuracy          BIC  \n",
      "0                    0.459591  5936.290007  \n",
      "12\n"
     ]
    },
    {
     "name": "stderr",
     "output_type": "stream",
     "text": [
      "Info: Params [1.09788555e+00 4.03685542e-07 7.33158716e-01 1.11800867e+00\n",
      " 3.92016447e-01 4.58221884e-01] gave 5272.509095277183\n"
     ]
    },
    {
     "name": "stdout",
     "output_type": "stream",
     "text": [
      "   Drift Rate  Drift Rate Variability  Boundary Separation Speed  \\\n",
      "0    1.097886            4.036855e-07                   0.733159   \n",
      "\n",
      "   Boundary Separation Accuracy  Non-decision Time Speed  \\\n",
      "0                      1.118009                 0.392016   \n",
      "\n",
      "   Non-decision Time Accuracy          BIC  \n",
      "0                    0.458222  5272.509095  \n",
      "13\n"
     ]
    },
    {
     "name": "stderr",
     "output_type": "stream",
     "text": [
      "Info: Params [0.61214658 0.         0.76834005 0.93319244 0.38044563 0.44812423] gave 8470.932805410108\n"
     ]
    },
    {
     "name": "stdout",
     "output_type": "stream",
     "text": [
      "   Drift Rate  Drift Rate Variability  Boundary Separation Speed  \\\n",
      "0    0.612147                     0.0                    0.76834   \n",
      "\n",
      "   Boundary Separation Accuracy  Non-decision Time Speed  \\\n",
      "0                      0.933192                 0.380446   \n",
      "\n",
      "   Non-decision Time Accuracy          BIC  \n",
      "0                    0.448124  8470.932805  \n",
      "14\n"
     ]
    },
    {
     "name": "stderr",
     "output_type": "stream",
     "text": [
      "Info: Params [0.63309687 0.         0.60716948 1.02974272 0.28534826 0.28417095] gave 7954.310279902903\n"
     ]
    },
    {
     "name": "stdout",
     "output_type": "stream",
     "text": [
      "   Drift Rate  Drift Rate Variability  Boundary Separation Speed  \\\n",
      "0    0.633097                     0.0                   0.607169   \n",
      "\n",
      "   Boundary Separation Accuracy  Non-decision Time Speed  \\\n",
      "0                      1.029743                 0.285348   \n",
      "\n",
      "   Non-decision Time Accuracy         BIC  \n",
      "0                    0.284171  7954.31028  \n",
      "15\n"
     ]
    },
    {
     "name": "stderr",
     "output_type": "stream",
     "text": [
      "Info: Params [1.15231024 0.         0.66629768 1.10811457 0.38857719 0.47443772] gave 4973.891249343362\n"
     ]
    },
    {
     "name": "stdout",
     "output_type": "stream",
     "text": [
      "   Drift Rate  Drift Rate Variability  Boundary Separation Speed  \\\n",
      "0     1.15231                     0.0                   0.666298   \n",
      "\n",
      "   Boundary Separation Accuracy  Non-decision Time Speed  \\\n",
      "0                      1.108115                 0.388577   \n",
      "\n",
      "   Non-decision Time Accuracy          BIC  \n",
      "0                    0.474438  4973.891249  \n",
      "16\n"
     ]
    },
    {
     "name": "stderr",
     "output_type": "stream",
     "text": [
      "Info: Params [1.18530811e+00 4.97018284e-07 7.53787961e-01 1.02368624e+00\n",
      " 3.59910835e-01 3.80756958e-01] gave 5187.7564844786075\n"
     ]
    },
    {
     "name": "stdout",
     "output_type": "stream",
     "text": [
      "   Drift Rate  Drift Rate Variability  Boundary Separation Speed  \\\n",
      "0    1.185308            4.970183e-07                   0.753788   \n",
      "\n",
      "   Boundary Separation Accuracy  Non-decision Time Speed  \\\n",
      "0                      1.023686                 0.359911   \n",
      "\n",
      "   Non-decision Time Accuracy          BIC  \n",
      "0                    0.380757  5187.756484  \n",
      "17\n"
     ]
    },
    {
     "name": "stderr",
     "output_type": "stream",
     "text": [
      "Info: Params [8.16552165e-01 4.83773757e-09 5.77402434e-01 8.85604134e-01\n",
      " 3.69457963e-01 3.98333742e-01] gave 4861.858378120164\n"
     ]
    },
    {
     "name": "stdout",
     "output_type": "stream",
     "text": [
      "   Drift Rate  Drift Rate Variability  Boundary Separation Speed  \\\n",
      "0    0.816552            4.837738e-09                   0.577402   \n",
      "\n",
      "   Boundary Separation Accuracy  Non-decision Time Speed  \\\n",
      "0                      0.885604                 0.369458   \n",
      "\n",
      "   Non-decision Time Accuracy          BIC  \n",
      "0                    0.398334  4861.858378  \n",
      "18\n"
     ]
    },
    {
     "name": "stderr",
     "output_type": "stream",
     "text": [
      "Info: Params [0.89748217 0.         0.6872574  0.96997358 0.33426884 0.26095978] gave 5908.236735692075\n"
     ]
    },
    {
     "name": "stdout",
     "output_type": "stream",
     "text": [
      "   Drift Rate  Drift Rate Variability  Boundary Separation Speed  \\\n",
      "0    0.897482                     0.0                   0.687257   \n",
      "\n",
      "   Boundary Separation Accuracy  Non-decision Time Speed  \\\n",
      "0                      0.969974                 0.334269   \n",
      "\n",
      "   Non-decision Time Accuracy          BIC  \n",
      "0                     0.26096  5908.236736  \n",
      "19\n"
     ]
    },
    {
     "name": "stderr",
     "output_type": "stream",
     "text": [
      "Info: Params [0.52338426 0.         1.03672004 1.21690704 0.16389516 0.24115257] gave 10944.675292470083\n"
     ]
    },
    {
     "name": "stdout",
     "output_type": "stream",
     "text": [
      "   Drift Rate  Drift Rate Variability  Boundary Separation Speed  \\\n",
      "0    0.523384                     0.0                    1.03672   \n",
      "\n",
      "   Boundary Separation Accuracy  Non-decision Time Speed  \\\n",
      "0                      1.216907                 0.163895   \n",
      "\n",
      "   Non-decision Time Accuracy           BIC  \n",
      "0                    0.241153  10944.675292  \n",
      "20\n"
     ]
    },
    {
     "name": "stderr",
     "output_type": "stream",
     "text": [
      "Info: Params [1.58759509e+00 3.84576649e-08 5.34218680e-01 9.03487090e-01\n",
      " 3.20708948e-01 4.11588795e-01] gave 145.57551622713729\n"
     ]
    },
    {
     "name": "stdout",
     "output_type": "stream",
     "text": [
      "   Drift Rate  Drift Rate Variability  Boundary Separation Speed  \\\n",
      "0    1.587595            3.845766e-08                   0.534219   \n",
      "\n",
      "   Boundary Separation Accuracy  Non-decision Time Speed  \\\n",
      "0                      0.903487                 0.320709   \n",
      "\n",
      "   Non-decision Time Accuracy         BIC  \n",
      "0                    0.411589  145.575516  \n",
      "21\n"
     ]
    },
    {
     "name": "stderr",
     "output_type": "stream",
     "text": [
      "Info: Params [1.45665726 0.         0.71212455 1.03895513 0.34143886 0.44427914] gave 2969.145832908461\n"
     ]
    },
    {
     "name": "stdout",
     "output_type": "stream",
     "text": [
      "   Drift Rate  Drift Rate Variability  Boundary Separation Speed  \\\n",
      "0    1.456657                     0.0                   0.712125   \n",
      "\n",
      "   Boundary Separation Accuracy  Non-decision Time Speed  \\\n",
      "0                      1.038955                 0.341439   \n",
      "\n",
      "   Non-decision Time Accuracy          BIC  \n",
      "0                    0.444279  2969.145833  \n",
      "22\n"
     ]
    },
    {
     "name": "stderr",
     "output_type": "stream",
     "text": [
      "Info: Params [0.83435048 0.         0.70157144 0.93638389 0.3581599  0.46843115] gave 6846.134817549963\n"
     ]
    },
    {
     "name": "stdout",
     "output_type": "stream",
     "text": [
      "   Drift Rate  Drift Rate Variability  Boundary Separation Speed  \\\n",
      "0     0.83435                     0.0                   0.701571   \n",
      "\n",
      "   Boundary Separation Accuracy  Non-decision Time Speed  \\\n",
      "0                      0.936384                  0.35816   \n",
      "\n",
      "   Non-decision Time Accuracy          BIC  \n",
      "0                    0.468431  6846.134818  \n",
      "23\n"
     ]
    },
    {
     "name": "stderr",
     "output_type": "stream",
     "text": [
      "Info: Params [0.85566703 0.         0.7609069  1.23126644 0.47059484 0.5177597 ] gave 7021.842428421778\n"
     ]
    },
    {
     "name": "stdout",
     "output_type": "stream",
     "text": [
      "   Drift Rate  Drift Rate Variability  Boundary Separation Speed  \\\n",
      "0    0.855667                     0.0                   0.760907   \n",
      "\n",
      "   Boundary Separation Accuracy  Non-decision Time Speed  \\\n",
      "0                      1.231266                 0.470595   \n",
      "\n",
      "   Non-decision Time Accuracy          BIC  \n",
      "0                     0.51776  7021.842428  \n",
      "24\n"
     ]
    },
    {
     "name": "stderr",
     "output_type": "stream",
     "text": [
      "Info: Params [1.04142925 0.         0.88308549 0.89262859 0.28031254 0.47093927] gave 6264.539881737216\n"
     ]
    },
    {
     "name": "stdout",
     "output_type": "stream",
     "text": [
      "   Drift Rate  Drift Rate Variability  Boundary Separation Speed  \\\n",
      "0    1.041429                     0.0                   0.883085   \n",
      "\n",
      "   Boundary Separation Accuracy  Non-decision Time Speed  \\\n",
      "0                      0.892629                 0.280313   \n",
      "\n",
      "   Non-decision Time Accuracy          BIC  \n",
      "0                    0.470939  6264.539882  \n",
      "25\n"
     ]
    },
    {
     "name": "stderr",
     "output_type": "stream",
     "text": [
      "Info: Params [1.42580851 0.         0.59680964 1.09687452 0.47077619 0.50211404] gave 2272.9564332936347\n"
     ]
    },
    {
     "name": "stdout",
     "output_type": "stream",
     "text": [
      "   Drift Rate  Drift Rate Variability  Boundary Separation Speed  \\\n",
      "0    1.425809                     0.0                    0.59681   \n",
      "\n",
      "   Boundary Separation Accuracy  Non-decision Time Speed  \\\n",
      "0                      1.096875                 0.470776   \n",
      "\n",
      "   Non-decision Time Accuracy          BIC  \n",
      "0                    0.502114  2272.956433  \n",
      "26\n"
     ]
    },
    {
     "name": "stderr",
     "output_type": "stream",
     "text": [
      "Info: Params [0.97215173 0.         0.5        0.99284831 0.32891169 0.57122808] gave 2608.1315556991863\n"
     ]
    },
    {
     "name": "stdout",
     "output_type": "stream",
     "text": [
      "   Drift Rate  Drift Rate Variability  Boundary Separation Speed  \\\n",
      "0    0.972152                     0.0                        0.5   \n",
      "\n",
      "   Boundary Separation Accuracy  Non-decision Time Speed  \\\n",
      "0                      0.992848                 0.328912   \n",
      "\n",
      "   Non-decision Time Accuracy          BIC  \n",
      "0                    0.571228  2608.131556  \n",
      "27\n"
     ]
    },
    {
     "name": "stderr",
     "output_type": "stream",
     "text": [
      "Info: Params [1.46529659 0.         0.53028632 0.79684858 0.44059337 0.54731707] gave 556.3418783389694\n"
     ]
    },
    {
     "name": "stdout",
     "output_type": "stream",
     "text": [
      "   Drift Rate  Drift Rate Variability  Boundary Separation Speed  \\\n",
      "0    1.465297                     0.0                   0.530286   \n",
      "\n",
      "   Boundary Separation Accuracy  Non-decision Time Speed  \\\n",
      "0                      0.796849                 0.440593   \n",
      "\n",
      "   Non-decision Time Accuracy         BIC  \n",
      "0                    0.547317  556.341878  \n",
      "28\n"
     ]
    },
    {
     "name": "stderr",
     "output_type": "stream",
     "text": [
      "Info: Params [1.76995797e+00 6.38288574e-07 5.41577611e-01 7.22635925e-01\n",
      " 3.18044912e-01 4.80367110e-01] gave -1603.9062639529116\n"
     ]
    },
    {
     "name": "stdout",
     "output_type": "stream",
     "text": [
      "   Drift Rate  Drift Rate Variability  Boundary Separation Speed  \\\n",
      "0    1.769958            6.382886e-07                   0.541578   \n",
      "\n",
      "   Boundary Separation Accuracy  Non-decision Time Speed  \\\n",
      "0                      0.722636                 0.318045   \n",
      "\n",
      "   Non-decision Time Accuracy          BIC  \n",
      "0                    0.480367 -1603.906264  \n",
      "29\n"
     ]
    },
    {
     "name": "stderr",
     "output_type": "stream",
     "text": [
      "Info: Params [7.30090187e-01 1.17175964e-07 8.01236323e-01 1.02516519e+00\n",
      " 4.84105197e-01 7.25071856e-01] gave 8273.188333657537\n"
     ]
    },
    {
     "name": "stdout",
     "output_type": "stream",
     "text": [
      "   Drift Rate  Drift Rate Variability  Boundary Separation Speed  \\\n",
      "0     0.73009            1.171760e-07                   0.801236   \n",
      "\n",
      "   Boundary Separation Accuracy  Non-decision Time Speed  \\\n",
      "0                      1.025165                 0.484105   \n",
      "\n",
      "   Non-decision Time Accuracy          BIC  \n",
      "0                    0.725072  8273.188334  \n",
      "30\n"
     ]
    },
    {
     "name": "stderr",
     "output_type": "stream",
     "text": [
      "Info: Params [1.28642721e+00 1.59470640e-07 6.24040072e-01 7.13321957e-01\n",
      " 2.94275501e-01 4.10412425e-01] gave 2049.1166639499884\n"
     ]
    },
    {
     "name": "stdout",
     "output_type": "stream",
     "text": [
      "   Drift Rate  Drift Rate Variability  Boundary Separation Speed  \\\n",
      "0    1.286427            1.594706e-07                    0.62404   \n",
      "\n",
      "   Boundary Separation Accuracy  Non-decision Time Speed  \\\n",
      "0                      0.713322                 0.294276   \n",
      "\n",
      "   Non-decision Time Accuracy          BIC  \n",
      "0                    0.410412  2049.116664  \n",
      "31\n"
     ]
    },
    {
     "name": "stderr",
     "output_type": "stream",
     "text": [
      "Info: Params [1.43291602 0.         0.91683646 1.03490879 0.3505336  0.3996737 ] gave 4449.898240315784\n"
     ]
    },
    {
     "name": "stdout",
     "output_type": "stream",
     "text": [
      "   Drift Rate  Drift Rate Variability  Boundary Separation Speed  \\\n",
      "0    1.432916                     0.0                   0.916836   \n",
      "\n",
      "   Boundary Separation Accuracy  Non-decision Time Speed  \\\n",
      "0                      1.034909                 0.350534   \n",
      "\n",
      "   Non-decision Time Accuracy         BIC  \n",
      "0                    0.399674  4449.89824  \n",
      "32\n"
     ]
    },
    {
     "name": "stderr",
     "output_type": "stream",
     "text": [
      "Info: Params [1.52984143 0.         0.65152618 0.98371585 0.34934659 0.45578283] gave 2088.056955455805\n"
     ]
    },
    {
     "name": "stdout",
     "output_type": "stream",
     "text": [
      "   Drift Rate  Drift Rate Variability  Boundary Separation Speed  \\\n",
      "0    1.529841                     0.0                   0.651526   \n",
      "\n",
      "   Boundary Separation Accuracy  Non-decision Time Speed  \\\n",
      "0                      0.983716                 0.349347   \n",
      "\n",
      "   Non-decision Time Accuracy          BIC  \n",
      "0                    0.455783  2088.056955  \n",
      "33\n"
     ]
    },
    {
     "name": "stderr",
     "output_type": "stream",
     "text": [
      "Info: Params [1.07265892 0.         0.59646086 0.82524032 0.17038132 0.53303449] gave 3560.2044948198536\n"
     ]
    },
    {
     "name": "stdout",
     "output_type": "stream",
     "text": [
      "   Drift Rate  Drift Rate Variability  Boundary Separation Speed  \\\n",
      "0    1.072659                     0.0                   0.596461   \n",
      "\n",
      "   Boundary Separation Accuracy  Non-decision Time Speed  \\\n",
      "0                       0.82524                 0.170381   \n",
      "\n",
      "   Non-decision Time Accuracy          BIC  \n",
      "0                    0.533034  3560.204495  \n",
      "34\n"
     ]
    },
    {
     "name": "stderr",
     "output_type": "stream",
     "text": [
      "Info: Params [1.54255553 0.         0.5        0.70949848 0.29893969 0.34530624] gave -1199.8687706874643\n"
     ]
    },
    {
     "name": "stdout",
     "output_type": "stream",
     "text": [
      "   Drift Rate  Drift Rate Variability  Boundary Separation Speed  \\\n",
      "0    1.542556                     0.0                        0.5   \n",
      "\n",
      "   Boundary Separation Accuracy  Non-decision Time Speed  \\\n",
      "0                      0.709498                  0.29894   \n",
      "\n",
      "   Non-decision Time Accuracy          BIC  \n",
      "0                    0.345306 -1199.868771  \n",
      "35\n"
     ]
    },
    {
     "name": "stderr",
     "output_type": "stream",
     "text": [
      "Info: Params [1.25647895 0.         0.5        0.77352535 0.39781053 0.52425664] gave 238.8833352901005\n"
     ]
    },
    {
     "name": "stdout",
     "output_type": "stream",
     "text": [
      "   Drift Rate  Drift Rate Variability  Boundary Separation Speed  \\\n",
      "0    1.256479                     0.0                        0.5   \n",
      "\n",
      "   Boundary Separation Accuracy  Non-decision Time Speed  \\\n",
      "0                      0.773525                 0.397811   \n",
      "\n",
      "   Non-decision Time Accuracy         BIC  \n",
      "0                    0.524257  238.883335  \n",
      "36\n"
     ]
    },
    {
     "name": "stderr",
     "output_type": "stream",
     "text": [
      "Info: Params [1.19462188e+00 1.10850315e-06 7.70237517e-01 9.59908313e-01\n",
      " 2.88575966e-01 3.76758458e-01] gave 5096.0980986524655\n"
     ]
    },
    {
     "name": "stdout",
     "output_type": "stream",
     "text": [
      "   Drift Rate  Drift Rate Variability  Boundary Separation Speed  \\\n",
      "0    1.194622                0.000001                   0.770238   \n",
      "\n",
      "   Boundary Separation Accuracy  Non-decision Time Speed  \\\n",
      "0                      0.959908                 0.288576   \n",
      "\n",
      "   Non-decision Time Accuracy          BIC  \n",
      "0                    0.376758  5096.098099  \n",
      "37\n"
     ]
    },
    {
     "name": "stderr",
     "output_type": "stream",
     "text": [
      "Info: Params [1.72132689 0.         0.52290564 0.76465145 0.28213744 0.41132574] gave -1423.7552107211693\n"
     ]
    },
    {
     "name": "stdout",
     "output_type": "stream",
     "text": [
      "   Drift Rate  Drift Rate Variability  Boundary Separation Speed  \\\n",
      "0    1.721327                     0.0                   0.522906   \n",
      "\n",
      "   Boundary Separation Accuracy  Non-decision Time Speed  \\\n",
      "0                      0.764651                 0.282137   \n",
      "\n",
      "   Non-decision Time Accuracy          BIC  \n",
      "0                    0.411326 -1423.755211  \n",
      "38\n"
     ]
    },
    {
     "name": "stderr",
     "output_type": "stream",
     "text": [
      "Info: Params [1.82977242 0.         0.59633785 0.81121392 0.28778087 0.4642243 ] gave -985.1918604097032\n"
     ]
    },
    {
     "name": "stdout",
     "output_type": "stream",
     "text": [
      "   Drift Rate  Drift Rate Variability  Boundary Separation Speed  \\\n",
      "0    1.829772                     0.0                   0.596338   \n",
      "\n",
      "   Boundary Separation Accuracy  Non-decision Time Speed  \\\n",
      "0                      0.811214                 0.287781   \n",
      "\n",
      "   Non-decision Time Accuracy        BIC  \n",
      "0                    0.464224 -985.19186  \n",
      "39\n"
     ]
    },
    {
     "name": "stderr",
     "output_type": "stream",
     "text": [
      "Info: Params [0.83515363 0.         0.64573821 1.36613258 0.33596542 0.46914143] gave 4928.281100946514\n"
     ]
    },
    {
     "name": "stdout",
     "output_type": "stream",
     "text": [
      "   Drift Rate  Drift Rate Variability  Boundary Separation Speed  \\\n",
      "0    0.835154                     0.0                   0.645738   \n",
      "\n",
      "   Boundary Separation Accuracy  Non-decision Time Speed  \\\n",
      "0                      1.366133                 0.335965   \n",
      "\n",
      "   Non-decision Time Accuracy          BIC  \n",
      "0                    0.469141  4928.281101  \n",
      "40\n"
     ]
    },
    {
     "name": "stderr",
     "output_type": "stream",
     "text": [
      "Info: Params [1.50155979 0.         0.69173857 1.05266899 0.30828166 0.52382866] gave 2369.676865370539\n"
     ]
    },
    {
     "name": "stdout",
     "output_type": "stream",
     "text": [
      "   Drift Rate  Drift Rate Variability  Boundary Separation Speed  \\\n",
      "0     1.50156                     0.0                   0.691739   \n",
      "\n",
      "   Boundary Separation Accuracy  Non-decision Time Speed  \\\n",
      "0                      1.052669                 0.308282   \n",
      "\n",
      "   Non-decision Time Accuracy          BIC  \n",
      "0                    0.523829  2369.676865  \n",
      "41\n"
     ]
    },
    {
     "name": "stderr",
     "output_type": "stream",
     "text": [
      "Info: Params [1.27609717 0.         0.5731918  1.01268439 0.3238633  0.37449384] gave 2822.0970594300243\n"
     ]
    },
    {
     "name": "stdout",
     "output_type": "stream",
     "text": [
      "   Drift Rate  Drift Rate Variability  Boundary Separation Speed  \\\n",
      "0    1.276097                     0.0                   0.573192   \n",
      "\n",
      "   Boundary Separation Accuracy  Non-decision Time Speed  \\\n",
      "0                      1.012684                 0.323863   \n",
      "\n",
      "   Non-decision Time Accuracy          BIC  \n",
      "0                    0.374494  2822.097059  \n",
      "42\n"
     ]
    },
    {
     "name": "stderr",
     "output_type": "stream",
     "text": [
      "Info: Params [1.02150945 0.         0.65574447 0.88954929 0.34300416 0.38665992] gave 4510.139748121053\n"
     ]
    },
    {
     "name": "stdout",
     "output_type": "stream",
     "text": [
      "   Drift Rate  Drift Rate Variability  Boundary Separation Speed  \\\n",
      "0    1.021509                     0.0                   0.655744   \n",
      "\n",
      "   Boundary Separation Accuracy  Non-decision Time Speed  \\\n",
      "0                      0.889549                 0.343004   \n",
      "\n",
      "   Non-decision Time Accuracy          BIC  \n",
      "0                     0.38666  4510.139748  \n",
      "43\n"
     ]
    },
    {
     "name": "stderr",
     "output_type": "stream",
     "text": [
      "Info: Params [0.7284266  0.         0.70876665 1.033478   0.30955417 0.42348647] gave 8456.210979659052\n"
     ]
    },
    {
     "name": "stdout",
     "output_type": "stream",
     "text": [
      "   Drift Rate  Drift Rate Variability  Boundary Separation Speed  \\\n",
      "0    0.728427                     0.0                   0.708767   \n",
      "\n",
      "   Boundary Separation Accuracy  Non-decision Time Speed  \\\n",
      "0                      1.033478                 0.309554   \n",
      "\n",
      "   Non-decision Time Accuracy         BIC  \n",
      "0                    0.423486  8456.21098  \n",
      "44\n"
     ]
    },
    {
     "name": "stderr",
     "output_type": "stream",
     "text": [
      "Info: Params [1.53662111 0.         0.60848141 0.87003154 0.37237464 0.39228553] gave 1367.8879926907534\n"
     ]
    },
    {
     "name": "stdout",
     "output_type": "stream",
     "text": [
      "   Drift Rate  Drift Rate Variability  Boundary Separation Speed  \\\n",
      "0    1.536621                     0.0                   0.608481   \n",
      "\n",
      "   Boundary Separation Accuracy  Non-decision Time Speed  \\\n",
      "0                      0.870032                 0.372375   \n",
      "\n",
      "   Non-decision Time Accuracy          BIC  \n",
      "0                    0.392286  1367.887993  \n",
      "45\n"
     ]
    },
    {
     "name": "stderr",
     "output_type": "stream",
     "text": [
      "Info: Params [1.26021847 0.         0.6988195  0.82674454 0.35574919 0.42253053] gave 3538.317504612634\n"
     ]
    },
    {
     "name": "stdout",
     "output_type": "stream",
     "text": [
      "   Drift Rate  Drift Rate Variability  Boundary Separation Speed  \\\n",
      "0    1.260218                     0.0                    0.69882   \n",
      "\n",
      "   Boundary Separation Accuracy  Non-decision Time Speed  \\\n",
      "0                      0.826745                 0.355749   \n",
      "\n",
      "   Non-decision Time Accuracy          BIC  \n",
      "0                    0.422531  3538.317505  \n",
      "46\n"
     ]
    },
    {
     "name": "stderr",
     "output_type": "stream",
     "text": [
      "Info: Params [1.29230157 0.         0.68304127 1.40031155 0.29589224 0.50451246] gave 4258.540992972329\n"
     ]
    },
    {
     "name": "stdout",
     "output_type": "stream",
     "text": [
      "   Drift Rate  Drift Rate Variability  Boundary Separation Speed  \\\n",
      "0    1.292302                     0.0                   0.683041   \n",
      "\n",
      "   Boundary Separation Accuracy  Non-decision Time Speed  \\\n",
      "0                      1.400312                 0.295892   \n",
      "\n",
      "   Non-decision Time Accuracy          BIC  \n",
      "0                    0.504512  4258.540993  \n"
     ]
    }
   ],
   "source": [
    "df_all = pd.DataFrame()\n",
    "for i in range(sample_size):\n",
    "    print(i)\n",
    "    path = os.path.join(data_dir+str(i+1)+\".csv\")\n",
    "    df = pd.read_csv(path, sep = \",\")\n",
    "    #df = df[df[\"cond\"]==SAT] # A condition\n",
    "    df = df[df[\"Time\"]<3]\n",
    "    \n",
    "    df = prepare_sample_for_variable_drift(df)\n",
    "\n",
    "    samp = Sample.from_pandas_dataframe(df, rt_column_name=\"Time\", correct_column_name=\"Correct\")\n",
    "    #samp = prepare_sample_for_variable_drift(samp, resolution=RESOLUTION)\n",
    "    df = get_DDM_result_sub_sv2a2ter(samp)\n",
    "    df_all = pd.concat((df_all,df))\n",
    "    print(df)\n",
    "df_OUM = df_all.copy()\n"
   ]
  },
  {
   "cell_type": "code",
   "execution_count": 6,
   "id": "3b05a53a",
   "metadata": {},
   "outputs": [],
   "source": [
    "#df_OUM.to_csv(\"DDM2a2terresultEvans2017.csv\")"
   ]
  },
  {
   "cell_type": "code",
   "execution_count": 7,
   "id": "87e8797e",
   "metadata": {},
   "outputs": [
    {
     "data": {
      "text/plain": [
       "358.4425613055732"
      ]
     },
     "execution_count": 7,
     "metadata": {},
     "output_type": "execute_result"
    }
   ],
   "source": [
    "#df_OUM[\"BIC\"].mean()"
   ]
  },
  {
   "cell_type": "code",
   "execution_count": null,
   "id": "c5baddcf",
   "metadata": {},
   "outputs": [],
   "source": []
  },
  {
   "cell_type": "code",
   "execution_count": null,
   "id": "87a4e772",
   "metadata": {},
   "outputs": [],
   "source": []
  }
 ],
 "metadata": {
  "kernelspec": {
   "display_name": "Python 3 (ipykernel)",
   "language": "python",
   "name": "python3"
  },
  "language_info": {
   "codemirror_mode": {
    "name": "ipython",
    "version": 3
   },
   "file_extension": ".py",
   "mimetype": "text/x-python",
   "name": "python",
   "nbconvert_exporter": "python",
   "pygments_lexer": "ipython3",
   "version": "3.7.15"
  }
 },
 "nbformat": 4,
 "nbformat_minor": 5
}
