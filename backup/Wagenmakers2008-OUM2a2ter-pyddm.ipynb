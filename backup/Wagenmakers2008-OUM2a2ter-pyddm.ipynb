{
 "cells": [
  {
   "cell_type": "code",
   "execution_count": 1,
   "id": "2cda49de",
   "metadata": {},
   "outputs": [],
   "source": [
    "%run SAT_help_functions.ipynb"
   ]
  },
  {
   "cell_type": "code",
   "execution_count": null,
   "id": "bc081cf9",
   "metadata": {},
   "outputs": [],
   "source": []
  },
  {
   "cell_type": "markdown",
   "id": "4bd26666",
   "metadata": {},
   "source": [
    "## OUM"
   ]
  },
  {
   "cell_type": "code",
   "execution_count": null,
   "id": "9ef6c434",
   "metadata": {},
   "outputs": [],
   "source": []
  },
  {
   "cell_type": "code",
   "execution_count": 2,
   "id": "e776257c",
   "metadata": {},
   "outputs": [],
   "source": [
    "data_dir = \"/Users/wangjiashun/Desktop/Reserach on SAT/datasets/Lexical Decision Data/SpeedAccData.csv\"\n",
    "sample_size = 16\n",
    "SAT_conds = [1,2]"
   ]
  },
  {
   "cell_type": "code",
   "execution_count": null,
   "id": "205184a2",
   "metadata": {},
   "outputs": [],
   "source": []
  },
  {
   "cell_type": "code",
   "execution_count": 3,
   "id": "f434220f",
   "metadata": {},
   "outputs": [],
   "source": [
    "class BoundSpeedAcc(Bound):\n",
    "    name = \"BoundSpeedAcc\"\n",
    "    required_parameters = [\"Bspeed\", \"Bacc\"]\n",
    "    required_conditions = ['SAT']\n",
    "    def get_bound(self, conditions, *args, **kwargs):\n",
    "        assert self.Bacc > 0\n",
    "        assert self.Bspeed > 0\n",
    "        if conditions['SAT'] == 1:\n",
    "            return self.Bspeed\n",
    "        elif conditions['SAT'] == 2:\n",
    "            return self.Bacc\n",
    "        else:\n",
    "            print(\"Non-implemented SAT conditions\")"
   ]
  },
  {
   "cell_type": "code",
   "execution_count": null,
   "id": "a5da1f64",
   "metadata": {},
   "outputs": [],
   "source": []
  },
  {
   "cell_type": "code",
   "execution_count": null,
   "id": "bbb278a6",
   "metadata": {},
   "outputs": [],
   "source": []
  },
  {
   "cell_type": "code",
   "execution_count": 4,
   "id": "6e5e0074",
   "metadata": {},
   "outputs": [],
   "source": [
    "\n",
    "class NondecisionSpeedAcc(OverlayNonDecision):\n",
    "    name = \"DriftSpeedAcc\"\n",
    "    required_parameters = [\"tSpeed\", 'tAcc']\n",
    "    required_conditions = ['SAT']\n",
    "        \n",
    "    def get_nondecision_time(self, conditions, **kwargs):\n",
    "        if conditions['SAT'] == 1:\n",
    "            return self.tSpeed \n",
    "        elif conditions['SAT'] == 2:\n",
    "            return self.tAcc\n",
    "        else: \n",
    "            print(\"Non-implemented SAT conditions\")"
   ]
  },
  {
   "cell_type": "code",
   "execution_count": null,
   "id": "b1e0fe9b",
   "metadata": {},
   "outputs": [],
   "source": []
  },
  {
   "cell_type": "code",
   "execution_count": null,
   "id": "81235d16",
   "metadata": {},
   "outputs": [],
   "source": []
  },
  {
   "cell_type": "code",
   "execution_count": null,
   "id": "8a3f5185",
   "metadata": {},
   "outputs": [],
   "source": []
  },
  {
   "cell_type": "code",
   "execution_count": 10,
   "id": "fdb13001",
   "metadata": {
    "scrolled": true
   },
   "outputs": [
    {
     "name": "stdout",
     "output_type": "stream",
     "text": [
      "1\n",
      "1\n"
     ]
    },
    {
     "name": "stderr",
     "output_type": "stream",
     "text": [
      "Info: Params [3.19997141 0.61913129 0.57416867 0.50755517 0.34428377 0.37400813] gave -267.8332235876056\n"
     ]
    },
    {
     "name": "stdout",
     "output_type": "stream",
     "text": [
      "   Drift Rate         x  Boundary Separation Speed      Bacc  \\\n",
      "0    3.199971  0.619131                   0.574169  0.507555   \n",
      "\n",
      "   Non-decision Time Speed  Non-decision Time Accuracy         BIC  Frequency  \\\n",
      "0                 0.344284                    0.374008 -267.833224          1   \n",
      "\n",
      "   Participant  \n",
      "0            1  \n",
      "2\n",
      "1\n"
     ]
    },
    {
     "name": "stderr",
     "output_type": "stream",
     "text": [
      "Info: Params [2.31621698 5.01254176 0.57441923 1.12040659 0.36664477 0.32248247] gave -143.11072772990258\n"
     ]
    },
    {
     "name": "stdout",
     "output_type": "stream",
     "text": [
      "   Drift Rate         x  Boundary Separation Speed      Bacc  \\\n",
      "0    2.316217  5.012542                   0.574419  1.120407   \n",
      "\n",
      "   Non-decision Time Speed  Non-decision Time Accuracy         BIC  Frequency  \\\n",
      "0                 0.366645                    0.322482 -143.110728          2   \n",
      "\n",
      "   Participant  \n",
      "0            1  \n",
      "3\n",
      "1\n"
     ]
    },
    {
     "name": "stderr",
     "output_type": "stream",
     "text": [
      "Info: Params [1.29539218 4.31282433 0.65507619 0.72703575 0.33502118 0.3704901 ] gave -15.567008599354601\n"
     ]
    },
    {
     "name": "stdout",
     "output_type": "stream",
     "text": [
      "   Drift Rate         x  Boundary Separation Speed      Bacc  \\\n",
      "0    1.295392  4.312824                   0.655076  0.727036   \n",
      "\n",
      "   Non-decision Time Speed  Non-decision Time Accuracy        BIC  Frequency  \\\n",
      "0                 0.335021                     0.37049 -15.567009          3   \n",
      "\n",
      "   Participant  \n",
      "0            1  \n",
      "4\n",
      "1\n"
     ]
    },
    {
     "name": "stderr",
     "output_type": "stream",
     "text": [
      "Info: Params [2.48377388 0.82004477 0.54396316 0.50167443 0.33595459 0.38748717] gave -171.07353433378233\n"
     ]
    },
    {
     "name": "stdout",
     "output_type": "stream",
     "text": [
      "   Drift Rate         x  Boundary Separation Speed      Bacc  \\\n",
      "0    2.483774  0.820045                   0.543963  0.501674   \n",
      "\n",
      "   Non-decision Time Speed  Non-decision Time Accuracy         BIC  Frequency  \\\n",
      "0                 0.335955                    0.387487 -171.073534          4   \n",
      "\n",
      "   Participant  \n",
      "0            1  \n",
      "5\n",
      "1\n"
     ]
    },
    {
     "name": "stderr",
     "output_type": "stream",
     "text": [
      "Info: Params [2.90917529 6.46926813 1.63067188 4.6931439  0.26304031 0.14965087] gave -182.25226519014538\n"
     ]
    },
    {
     "name": "stdout",
     "output_type": "stream",
     "text": [
      "   Drift Rate         x  Boundary Separation Speed      Bacc  \\\n",
      "0    2.909175  6.469268                   1.630672  4.693144   \n",
      "\n",
      "   Non-decision Time Speed  Non-decision Time Accuracy         BIC  Frequency  \\\n",
      "0                  0.26304                    0.149651 -182.252265          5   \n",
      "\n",
      "   Participant  \n",
      "0            1  \n",
      "6\n",
      "1\n"
     ]
    },
    {
     "name": "stderr",
     "output_type": "stream",
     "text": [
      "Info: Params [3.20213328 5.06396404 0.7728396  1.26689598 0.32651654 0.30157717] gave -232.39559753890669\n"
     ]
    },
    {
     "name": "stdout",
     "output_type": "stream",
     "text": [
      "   Drift Rate         x  Boundary Separation Speed      Bacc  \\\n",
      "0    3.202133  5.063964                    0.77284  1.266896   \n",
      "\n",
      "   Non-decision Time Speed  Non-decision Time Accuracy         BIC  Frequency  \\\n",
      "0                 0.326517                    0.301577 -232.395598          6   \n",
      "\n",
      "   Participant  \n",
      "0            1  \n",
      "1\n",
      "3\n"
     ]
    },
    {
     "name": "stderr",
     "output_type": "stream",
     "text": [
      "Info: Params [2.84880849 5.234152   0.87446761 6.38543066 0.28731072 0.12276958] gave -190.01234642526137\n"
     ]
    },
    {
     "name": "stdout",
     "output_type": "stream",
     "text": [
      "   Drift Rate         x  Boundary Separation Speed      Bacc  \\\n",
      "0    2.848808  5.234152                   0.874468  6.385431   \n",
      "\n",
      "   Non-decision Time Speed  Non-decision Time Accuracy         BIC  Frequency  \\\n",
      "0                 0.287311                     0.12277 -190.012346          1   \n",
      "\n",
      "   Participant  \n",
      "0            3  \n",
      "2\n",
      "3\n"
     ]
    },
    {
     "name": "stderr",
     "output_type": "stream",
     "text": [
      "Info: Params [1.82885563 2.53059035 0.5888197  1.21912123 0.31621175 0.3188787 ] gave -33.54166230169251\n"
     ]
    },
    {
     "name": "stdout",
     "output_type": "stream",
     "text": [
      "   Drift Rate        x  Boundary Separation Speed      Bacc  \\\n",
      "0    1.828856  2.53059                    0.58882  1.219121   \n",
      "\n",
      "   Non-decision Time Speed  Non-decision Time Accuracy        BIC  Frequency  \\\n",
      "0                 0.316212                    0.318879 -33.541662          2   \n",
      "\n",
      "   Participant  \n",
      "0            3  \n",
      "3\n",
      "3\n"
     ]
    },
    {
     "name": "stderr",
     "output_type": "stream",
     "text": [
      "Info: Params [1.6754144  3.48258294 0.69562946 1.66941473 0.30122699 0.30545295] gave 13.868693747048862\n"
     ]
    },
    {
     "name": "stdout",
     "output_type": "stream",
     "text": [
      "   Drift Rate         x  Boundary Separation Speed      Bacc  \\\n",
      "0    1.675414  3.482583                   0.695629  1.669415   \n",
      "\n",
      "   Non-decision Time Speed  Non-decision Time Accuracy        BIC  Frequency  \\\n",
      "0                 0.301227                    0.305453  13.868694          3   \n",
      "\n",
      "   Participant  \n",
      "0            3  \n",
      "4\n",
      "3\n"
     ]
    },
    {
     "name": "stderr",
     "output_type": "stream",
     "text": [
      "Info: Params [1.93877505 1.91711684 0.79433685 2.13305869 0.26750167 0.10062316] gave 15.991418135650015\n"
     ]
    },
    {
     "name": "stdout",
     "output_type": "stream",
     "text": [
      "   Drift Rate         x  Boundary Separation Speed      Bacc  \\\n",
      "0    1.938775  1.917117                   0.794337  2.133059   \n",
      "\n",
      "   Non-decision Time Speed  Non-decision Time Accuracy        BIC  Frequency  \\\n",
      "0                 0.267502                    0.100623  15.991418          4   \n",
      "\n",
      "   Participant  \n",
      "0            3  \n",
      "5\n",
      "3\n"
     ]
    },
    {
     "name": "stderr",
     "output_type": "stream",
     "text": [
      "Info: Params [2.36883731 2.3191575  0.69931656 2.95778006 0.29034375 0.11631327] gave -52.314474307174834\n"
     ]
    },
    {
     "name": "stdout",
     "output_type": "stream",
     "text": [
      "   Drift Rate         x  Boundary Separation Speed     Bacc  \\\n",
      "0    2.368837  2.319158                   0.699317  2.95778   \n",
      "\n",
      "   Non-decision Time Speed  Non-decision Time Accuracy        BIC  Frequency  \\\n",
      "0                 0.290344                    0.116313 -52.314474          5   \n",
      "\n",
      "   Participant  \n",
      "0            3  \n",
      "6\n",
      "3\n"
     ]
    },
    {
     "name": "stderr",
     "output_type": "stream",
     "text": [
      "Info: Params [2.33184253 1.58471784 0.61660939 1.48750646 0.33028671 0.27374999] gave -68.5449086227777\n"
     ]
    },
    {
     "name": "stdout",
     "output_type": "stream",
     "text": [
      "   Drift Rate         x  Boundary Separation Speed      Bacc  \\\n",
      "0    2.331843  1.584718                   0.616609  1.487506   \n",
      "\n",
      "   Non-decision Time Speed  Non-decision Time Accuracy        BIC  Frequency  \\\n",
      "0                 0.330287                     0.27375 -68.544909          6   \n",
      "\n",
      "   Participant  \n",
      "0            3  \n",
      "1\n",
      "4\n"
     ]
    },
    {
     "name": "stderr",
     "output_type": "stream",
     "text": [
      "Info: Params [3.73388131 4.53104638 0.50691537 1.74837328 0.32206235 0.23202337] gave -312.03972512060994\n"
     ]
    },
    {
     "name": "stdout",
     "output_type": "stream",
     "text": [
      "   Drift Rate         x  Boundary Separation Speed      Bacc  \\\n",
      "0    3.733881  4.531046                   0.506915  1.748373   \n",
      "\n",
      "   Non-decision Time Speed  Non-decision Time Accuracy         BIC  Frequency  \\\n",
      "0                 0.322062                    0.232023 -312.039725          1   \n",
      "\n",
      "   Participant  \n",
      "0            4  \n",
      "2\n",
      "4\n"
     ]
    },
    {
     "name": "stderr",
     "output_type": "stream",
     "text": [
      "Info: Params [2.76278249 2.89219757 0.50520159 0.87263477 0.32123014 0.32735613] gave -220.33667269680225\n"
     ]
    },
    {
     "name": "stdout",
     "output_type": "stream",
     "text": [
      "   Drift Rate         x  Boundary Separation Speed      Bacc  \\\n",
      "0    2.762782  2.892198                   0.505202  0.872635   \n",
      "\n",
      "   Non-decision Time Speed  Non-decision Time Accuracy         BIC  Frequency  \\\n",
      "0                  0.32123                    0.327356 -220.336673          2   \n",
      "\n",
      "   Participant  \n",
      "0            4  \n",
      "3\n",
      "4\n"
     ]
    },
    {
     "name": "stderr",
     "output_type": "stream",
     "text": [
      "Info: Params [1.82759657 4.04279112 0.50307341 1.10083653 0.32824432 0.29630695] gave -95.0538704926417\n"
     ]
    },
    {
     "name": "stdout",
     "output_type": "stream",
     "text": [
      "   Drift Rate         x  Boundary Separation Speed      Bacc  \\\n",
      "0    1.827597  4.042791                   0.503073  1.100837   \n",
      "\n",
      "   Non-decision Time Speed  Non-decision Time Accuracy       BIC  Frequency  \\\n",
      "0                 0.328244                    0.296307 -95.05387          3   \n",
      "\n",
      "   Participant  \n",
      "0            4  \n",
      "4\n",
      "4\n"
     ]
    },
    {
     "name": "stderr",
     "output_type": "stream",
     "text": [
      "Info: Params [3.2492305  3.9557532  0.56624076 3.35561917 0.33499971 0.13191514] gave -240.69422897203717\n"
     ]
    },
    {
     "name": "stdout",
     "output_type": "stream",
     "text": [
      "   Drift Rate         x  Boundary Separation Speed      Bacc  \\\n",
      "0    3.249231  3.955753                   0.566241  3.355619   \n",
      "\n",
      "   Non-decision Time Speed  Non-decision Time Accuracy         BIC  Frequency  \\\n",
      "0                    0.335                    0.131915 -240.694229          4   \n",
      "\n",
      "   Participant  \n",
      "0            4  \n",
      "5\n",
      "4\n"
     ]
    },
    {
     "name": "stderr",
     "output_type": "stream",
     "text": [
      "Info: Params [2.73814442 1.61015488 0.50076669 0.77358401 0.32226752 0.33441538] gave -201.95548473277452\n"
     ]
    },
    {
     "name": "stdout",
     "output_type": "stream",
     "text": [
      "   Drift Rate         x  Boundary Separation Speed      Bacc  \\\n",
      "0    2.738144  1.610155                   0.500767  0.773584   \n",
      "\n",
      "   Non-decision Time Speed  Non-decision Time Accuracy         BIC  Frequency  \\\n",
      "0                 0.322268                    0.334415 -201.955485          5   \n",
      "\n",
      "   Participant  \n",
      "0            4  \n",
      "6\n",
      "4\n"
     ]
    },
    {
     "name": "stderr",
     "output_type": "stream",
     "text": [
      "Info: Params [2.56809303 4.66568604 0.50511692 1.1146202  0.31711166 0.30483057] gave -199.9783188438608\n"
     ]
    },
    {
     "name": "stdout",
     "output_type": "stream",
     "text": [
      "   Drift Rate         x  Boundary Separation Speed     Bacc  \\\n",
      "0    2.568093  4.665686                   0.505117  1.11462   \n",
      "\n",
      "   Non-decision Time Speed  Non-decision Time Accuracy         BIC  Frequency  \\\n",
      "0                 0.317112                    0.304831 -199.978319          6   \n",
      "\n",
      "   Participant  \n",
      "0            4  \n",
      "1\n",
      "5\n"
     ]
    },
    {
     "name": "stderr",
     "output_type": "stream",
     "text": [
      "Info: Params [3.84390824 2.26964153 0.50891774 1.78083321 0.31859737 0.26591374] gave -299.07007659456366\n"
     ]
    },
    {
     "name": "stdout",
     "output_type": "stream",
     "text": [
      "   Drift Rate         x  Boundary Separation Speed      Bacc  \\\n",
      "0    3.843908  2.269642                   0.508918  1.780833   \n",
      "\n",
      "   Non-decision Time Speed  Non-decision Time Accuracy         BIC  Frequency  \\\n",
      "0                 0.318597                    0.265914 -299.070077          1   \n",
      "\n",
      "   Participant  \n",
      "0            5  \n",
      "2\n",
      "5\n"
     ]
    },
    {
     "name": "stderr",
     "output_type": "stream",
     "text": [
      "Info: Params [2.9564905  7.40635981 0.69038923 7.55652198 0.3324073  0.19305527] gave -227.484125181879\n"
     ]
    },
    {
     "name": "stdout",
     "output_type": "stream",
     "text": [
      "   Drift Rate        x  Boundary Separation Speed      Bacc  \\\n",
      "0     2.95649  7.40636                   0.690389  7.556522   \n",
      "\n",
      "   Non-decision Time Speed  Non-decision Time Accuracy         BIC  Frequency  \\\n",
      "0                 0.332407                    0.193055 -227.484125          2   \n",
      "\n",
      "   Participant  \n",
      "0            5  \n",
      "3\n",
      "5\n"
     ]
    },
    {
     "name": "stderr",
     "output_type": "stream",
     "text": [
      "Info: Params [2.67363424 5.7399386  0.74191349 2.13145433 0.32200976 0.33237104] gave -190.83685391081048\n"
     ]
    },
    {
     "name": "stdout",
     "output_type": "stream",
     "text": [
      "   Drift Rate         x  Boundary Separation Speed      Bacc  \\\n",
      "0    2.673634  5.739939                   0.741913  2.131454   \n",
      "\n",
      "   Non-decision Time Speed  Non-decision Time Accuracy         BIC  Frequency  \\\n",
      "0                  0.32201                    0.332371 -190.836854          3   \n",
      "\n",
      "   Participant  \n",
      "0            5  \n",
      "4\n",
      "5\n"
     ]
    },
    {
     "name": "stderr",
     "output_type": "stream",
     "text": [
      "Info: Params [3.57159943 4.74008675 0.89638075 3.91825207 0.31060326 0.22550292] gave -269.5394667639561\n"
     ]
    },
    {
     "name": "stdout",
     "output_type": "stream",
     "text": [
      "   Drift Rate         x  Boundary Separation Speed      Bacc  \\\n",
      "0    3.571599  4.740087                   0.896381  3.918252   \n",
      "\n",
      "   Non-decision Time Speed  Non-decision Time Accuracy         BIC  Frequency  \\\n",
      "0                 0.310603                    0.225503 -269.539467          4   \n",
      "\n",
      "   Participant  \n",
      "0            5  \n",
      "5\n",
      "5\n"
     ]
    },
    {
     "name": "stderr",
     "output_type": "stream",
     "text": [
      "Info: Params [3.03588982 4.63740891 0.50193365 1.65855899 0.36305241 0.38602789] gave -222.35190203411864\n"
     ]
    },
    {
     "name": "stdout",
     "output_type": "stream",
     "text": [
      "   Drift Rate         x  Boundary Separation Speed      Bacc  \\\n",
      "0     3.03589  4.637409                   0.501934  1.658559   \n",
      "\n",
      "   Non-decision Time Speed  Non-decision Time Accuracy         BIC  Frequency  \\\n",
      "0                 0.363052                    0.386028 -222.351902          5   \n",
      "\n",
      "   Participant  \n",
      "0            5  \n",
      "6\n",
      "5\n"
     ]
    },
    {
     "name": "stderr",
     "output_type": "stream",
     "text": [
      "Info: Params [2.86051396 5.94762434 0.95070912 5.25957235 0.28442701 0.20092298] gave -198.90074981123854\n"
     ]
    },
    {
     "name": "stdout",
     "output_type": "stream",
     "text": [
      "   Drift Rate         x  Boundary Separation Speed      Bacc  \\\n",
      "0    2.860514  5.947624                   0.950709  5.259572   \n",
      "\n",
      "   Non-decision Time Speed  Non-decision Time Accuracy        BIC  Frequency  \\\n",
      "0                 0.284427                    0.200923 -198.90075          6   \n",
      "\n",
      "   Participant  \n",
      "0            5  \n",
      "1\n",
      "6\n"
     ]
    },
    {
     "name": "stderr",
     "output_type": "stream",
     "text": [
      "Info: Params [2.56589707 6.40259551 0.90682736 1.90753224 0.23826585 0.2683028 ] gave -186.04213506938598\n"
     ]
    },
    {
     "name": "stdout",
     "output_type": "stream",
     "text": [
      "   Drift Rate         x  Boundary Separation Speed      Bacc  \\\n",
      "0    2.565897  6.402596                   0.906827  1.907532   \n",
      "\n",
      "   Non-decision Time Speed  Non-decision Time Accuracy         BIC  Frequency  \\\n",
      "0                 0.238266                    0.268303 -186.042135          1   \n",
      "\n",
      "   Participant  \n",
      "0            6  \n",
      "2\n",
      "6\n"
     ]
    },
    {
     "name": "stderr",
     "output_type": "stream",
     "text": [
      "Info: Params [1.72013609 6.7315785  2.05563503 1.13755244 0.1205044  0.38062476] gave -73.70099308286362\n"
     ]
    },
    {
     "name": "stdout",
     "output_type": "stream",
     "text": [
      "   Drift Rate         x  Boundary Separation Speed      Bacc  \\\n",
      "0    1.720136  6.731579                   2.055635  1.137552   \n",
      "\n",
      "   Non-decision Time Speed  Non-decision Time Accuracy        BIC  Frequency  \\\n",
      "0                 0.120504                    0.380625 -73.700993          2   \n",
      "\n",
      "   Participant  \n",
      "0            6  \n",
      "3\n",
      "6\n"
     ]
    },
    {
     "name": "stderr",
     "output_type": "stream",
     "text": [
      "Info: Params [0.95877795 5.79151784 1.33784541 0.91936969 0.14328167 0.39998763] gave 32.69492826191187\n"
     ]
    },
    {
     "name": "stdout",
     "output_type": "stream",
     "text": [
      "   Drift Rate         x  Boundary Separation Speed     Bacc  \\\n",
      "0    0.958778  5.791518                   1.337845  0.91937   \n",
      "\n",
      "   Non-decision Time Speed  Non-decision Time Accuracy        BIC  Frequency  \\\n",
      "0                 0.143282                    0.399988  32.694928          3   \n",
      "\n",
      "   Participant  \n",
      "0            6  \n",
      "4\n",
      "6\n"
     ]
    },
    {
     "name": "stderr",
     "output_type": "stream",
     "text": [
      "Info: Params [1.7305998  4.91066135 0.9233385  5.16687748 0.195088   0.10479577] gave -22.792984268395358\n"
     ]
    },
    {
     "name": "stdout",
     "output_type": "stream",
     "text": [
      "   Drift Rate         x  Boundary Separation Speed      Bacc  \\\n",
      "0      1.7306  4.910661                   0.923339  5.166877   \n",
      "\n",
      "   Non-decision Time Speed  Non-decision Time Accuracy        BIC  Frequency  \\\n",
      "0                 0.195088                    0.104796 -22.792984          4   \n",
      "\n",
      "   Participant  \n",
      "0            6  \n",
      "5\n",
      "6\n"
     ]
    },
    {
     "name": "stderr",
     "output_type": "stream",
     "text": [
      "Info: Params [1.69492082 3.97712646 0.64600756 0.95134217 0.26554482 0.36191054] gave -35.60944609592928\n"
     ]
    },
    {
     "name": "stdout",
     "output_type": "stream",
     "text": [
      "   Drift Rate         x  Boundary Separation Speed      Bacc  \\\n",
      "0    1.694921  3.977126                   0.646008  0.951342   \n",
      "\n",
      "   Non-decision Time Speed  Non-decision Time Accuracy        BIC  Frequency  \\\n",
      "0                 0.265545                    0.361911 -35.609446          5   \n",
      "\n",
      "   Participant  \n",
      "0            6  \n",
      "6\n",
      "6\n"
     ]
    },
    {
     "name": "stderr",
     "output_type": "stream",
     "text": [
      "Info: Params [1.5374961  4.78689469 1.3424967  1.16700176 0.11890868 0.31118293] gave -12.826408233013836\n"
     ]
    },
    {
     "name": "stdout",
     "output_type": "stream",
     "text": [
      "   Drift Rate         x  Boundary Separation Speed      Bacc  \\\n",
      "0    1.537496  4.786895                   1.342497  1.167002   \n",
      "\n",
      "   Non-decision Time Speed  Non-decision Time Accuracy        BIC  Frequency  \\\n",
      "0                 0.118909                    0.311183 -12.826408          6   \n",
      "\n",
      "   Participant  \n",
      "0            6  \n",
      "1\n",
      "7\n"
     ]
    },
    {
     "name": "stderr",
     "output_type": "stream",
     "text": [
      "Info: Params [1.06531979 5.77947904 1.24906127 1.51450196 0.12210929 0.19288131] gave 7.549827477291302\n"
     ]
    },
    {
     "name": "stdout",
     "output_type": "stream",
     "text": [
      "   Drift Rate         x  Boundary Separation Speed      Bacc  \\\n",
      "0     1.06532  5.779479                   1.249061  1.514502   \n",
      "\n",
      "   Non-decision Time Speed  Non-decision Time Accuracy       BIC  Frequency  \\\n",
      "0                 0.122109                    0.192881  7.549827          1   \n",
      "\n",
      "   Participant  \n",
      "0            7  \n",
      "2\n",
      "7\n"
     ]
    },
    {
     "name": "stderr",
     "output_type": "stream",
     "text": [
      "Info: Params [0.69137155 5.82493077 0.67034651 1.28508102 0.22810044 0.24609462] gave 22.905281297231035\n"
     ]
    },
    {
     "name": "stdout",
     "output_type": "stream",
     "text": [
      "   Drift Rate         x  Boundary Separation Speed      Bacc  \\\n",
      "0    0.691372  5.824931                   0.670347  1.285081   \n",
      "\n",
      "   Non-decision Time Speed  Non-decision Time Accuracy        BIC  Frequency  \\\n",
      "0                   0.2281                    0.246095  22.905281          2   \n",
      "\n",
      "   Participant  \n",
      "0            7  \n",
      "3\n",
      "7\n"
     ]
    },
    {
     "name": "stderr",
     "output_type": "stream",
     "text": [
      "Info: Params [0.14938959 5.7278122  1.4510668  3.28552262 0.10186059 0.10039528] gave 95.33943170866624\n"
     ]
    },
    {
     "name": "stdout",
     "output_type": "stream",
     "text": [
      "   Drift Rate         x  Boundary Separation Speed      Bacc  \\\n",
      "0     0.14939  5.727812                   1.451067  3.285523   \n",
      "\n",
      "   Non-decision Time Speed  Non-decision Time Accuracy        BIC  Frequency  \\\n",
      "0                 0.101861                    0.100395  95.339432          3   \n",
      "\n",
      "   Participant  \n",
      "0            7  \n",
      "4\n",
      "7\n"
     ]
    },
    {
     "name": "stderr",
     "output_type": "stream",
     "text": [
      "Info: Params [1.70204333 3.60338679 0.71790575 1.40116322 0.21970635 0.23268669] gave -9.741806129395897\n"
     ]
    },
    {
     "name": "stdout",
     "output_type": "stream",
     "text": [
      "   Drift Rate         x  Boundary Separation Speed      Bacc  \\\n",
      "0    1.702043  3.603387                   0.717906  1.401163   \n",
      "\n",
      "   Non-decision Time Speed  Non-decision Time Accuracy       BIC  Frequency  \\\n",
      "0                 0.219706                    0.232687 -9.741806          4   \n",
      "\n",
      "   Participant  \n",
      "0            7  \n",
      "5\n",
      "7\n"
     ]
    },
    {
     "name": "stderr",
     "output_type": "stream",
     "text": [
      "Info: Params [1.79301183 5.4146051  1.01899276 1.64186876 0.19109068 0.2552945 ] gave -41.036601604953354\n"
     ]
    },
    {
     "name": "stdout",
     "output_type": "stream",
     "text": [
      "   Drift Rate         x  Boundary Separation Speed      Bacc  \\\n",
      "0    1.793012  5.414605                   1.018993  1.641869   \n",
      "\n",
      "   Non-decision Time Speed  Non-decision Time Accuracy        BIC  Frequency  \\\n",
      "0                 0.191091                    0.255294 -41.036602          5   \n",
      "\n",
      "   Participant  \n",
      "0            7  \n",
      "6\n",
      "7\n"
     ]
    },
    {
     "name": "stderr",
     "output_type": "stream",
     "text": [
      "Info: Params [1.85181356 4.18104397 0.75812244 1.04561667 0.22771321 0.29576452] gave -57.06880890847931\n"
     ]
    },
    {
     "name": "stdout",
     "output_type": "stream",
     "text": [
      "   Drift Rate         x  Boundary Separation Speed      Bacc  \\\n",
      "0    1.851814  4.181044                   0.758122  1.045617   \n",
      "\n",
      "   Non-decision Time Speed  Non-decision Time Accuracy        BIC  Frequency  \\\n",
      "0                 0.227713                    0.295765 -57.068809          6   \n",
      "\n",
      "   Participant  \n",
      "0            7  \n",
      "1\n",
      "8\n"
     ]
    },
    {
     "name": "stderr",
     "output_type": "stream",
     "text": [
      "Info: Params [1.43631033 2.42949042 0.84419423 1.23915558 0.14495521 0.34267673] gave 99.77001184600633\n"
     ]
    },
    {
     "name": "stdout",
     "output_type": "stream",
     "text": [
      "   Drift Rate        x  Boundary Separation Speed      Bacc  \\\n",
      "0     1.43631  2.42949                   0.844194  1.239156   \n",
      "\n",
      "   Non-decision Time Speed  Non-decision Time Accuracy        BIC  Frequency  \\\n",
      "0                 0.144955                    0.342677  99.770012          1   \n",
      "\n",
      "   Participant  \n",
      "0            8  \n",
      "2\n",
      "8\n"
     ]
    },
    {
     "name": "stderr",
     "output_type": "stream",
     "text": [
      "Info: Params [0.65742734 2.3632597  0.75380118 2.68097216 0.15213386 0.10303841] gave 226.55665093705355\n"
     ]
    },
    {
     "name": "stdout",
     "output_type": "stream",
     "text": [
      "   Drift Rate        x  Boundary Separation Speed      Bacc  \\\n",
      "0    0.657427  2.36326                   0.753801  2.680972   \n",
      "\n",
      "   Non-decision Time Speed  Non-decision Time Accuracy         BIC  Frequency  \\\n",
      "0                 0.152134                    0.103038  226.556651          2   \n",
      "\n",
      "   Participant  \n",
      "0            8  \n",
      "3\n",
      "8\n"
     ]
    },
    {
     "name": "stderr",
     "output_type": "stream",
     "text": [
      "Info: Params [0.2551033  2.59164955 0.84334268 2.29747757 0.14627204 0.13666062] gave 278.19099877938555\n"
     ]
    },
    {
     "name": "stdout",
     "output_type": "stream",
     "text": [
      "   Drift Rate        x  Boundary Separation Speed      Bacc  \\\n",
      "0    0.255103  2.59165                   0.843343  2.297478   \n",
      "\n",
      "   Non-decision Time Speed  Non-decision Time Accuracy         BIC  Frequency  \\\n",
      "0                 0.146272                    0.136661  278.190999          3   \n",
      "\n",
      "   Participant  \n",
      "0            8  \n",
      "4\n",
      "8\n"
     ]
    },
    {
     "name": "stderr",
     "output_type": "stream",
     "text": [
      "Info: Params [0.90825586 1.31256236 0.67208544 1.55232593 0.17683104 0.18374152] gave 248.51521043535385\n"
     ]
    },
    {
     "name": "stdout",
     "output_type": "stream",
     "text": [
      "   Drift Rate         x  Boundary Separation Speed      Bacc  \\\n",
      "0    0.908256  1.312562                   0.672085  1.552326   \n",
      "\n",
      "   Non-decision Time Speed  Non-decision Time Accuracy        BIC  Frequency  \\\n",
      "0                 0.176831                    0.183742  248.51521          4   \n",
      "\n",
      "   Participant  \n",
      "0            8  \n",
      "5\n",
      "8\n"
     ]
    },
    {
     "name": "stderr",
     "output_type": "stream",
     "text": [
      "Info: Params [1.03302096 1.4451771  0.66521311 1.84874588 0.17919902 0.10258373] gave 204.6514464422122\n"
     ]
    },
    {
     "name": "stdout",
     "output_type": "stream",
     "text": [
      "   Drift Rate         x  Boundary Separation Speed      Bacc  \\\n",
      "0    1.033021  1.445177                   0.665213  1.848746   \n",
      "\n",
      "   Non-decision Time Speed  Non-decision Time Accuracy         BIC  Frequency  \\\n",
      "0                 0.179199                    0.102584  204.651446          5   \n",
      "\n",
      "   Participant  \n",
      "0            8  \n",
      "6\n",
      "8\n"
     ]
    },
    {
     "name": "stderr",
     "output_type": "stream",
     "text": [
      "Info: Params [1.02579256 1.19589996 0.62967662 1.61511917 0.21727517 0.10166717] gave 214.4232302867751\n"
     ]
    },
    {
     "name": "stdout",
     "output_type": "stream",
     "text": [
      "   Drift Rate       x  Boundary Separation Speed      Bacc  \\\n",
      "0    1.025793  1.1959                   0.629677  1.615119   \n",
      "\n",
      "   Non-decision Time Speed  Non-decision Time Accuracy        BIC  Frequency  \\\n",
      "0                 0.217275                    0.101667  214.42323          6   \n",
      "\n",
      "   Participant  \n",
      "0            8  \n",
      "1\n",
      "9\n"
     ]
    },
    {
     "name": "stderr",
     "output_type": "stream",
     "text": [
      "Info: Params [2.96818031 4.00378737 0.50062284 1.50713477 0.37974093 0.32525651] gave -259.759219742527\n"
     ]
    },
    {
     "name": "stdout",
     "output_type": "stream",
     "text": [
      "   Drift Rate         x  Boundary Separation Speed      Bacc  \\\n",
      "0     2.96818  4.003787                   0.500623  1.507135   \n",
      "\n",
      "   Non-decision Time Speed  Non-decision Time Accuracy        BIC  Frequency  \\\n",
      "0                 0.379741                    0.325257 -259.75922          1   \n",
      "\n",
      "   Participant  \n",
      "0            9  \n",
      "2\n",
      "9\n"
     ]
    },
    {
     "name": "stderr",
     "output_type": "stream",
     "text": [
      "Info: Params [1.95450438 2.49371531 0.50002266 1.70074165 0.38012096 0.2753841 ] gave -32.66940079206276\n"
     ]
    },
    {
     "name": "stdout",
     "output_type": "stream",
     "text": [
      "   Drift Rate         x  Boundary Separation Speed      Bacc  \\\n",
      "0    1.954504  2.493715                   0.500023  1.700742   \n",
      "\n",
      "   Non-decision Time Speed  Non-decision Time Accuracy        BIC  Frequency  \\\n",
      "0                 0.380121                    0.275384 -32.669401          2   \n",
      "\n",
      "   Participant  \n",
      "0            9  \n",
      "3\n",
      "9\n"
     ]
    },
    {
     "name": "stderr",
     "output_type": "stream",
     "text": [
      "Info: Params [1.17518965 2.85330546 0.50171255 1.18332915 0.38978325 0.34981109] gave 45.26011795389449\n"
     ]
    },
    {
     "name": "stdout",
     "output_type": "stream",
     "text": [
      "   Drift Rate         x  Boundary Separation Speed      Bacc  \\\n",
      "0     1.17519  2.853305                   0.501713  1.183329   \n",
      "\n",
      "   Non-decision Time Speed  Non-decision Time Accuracy        BIC  Frequency  \\\n",
      "0                 0.389783                    0.349811  45.260118          3   \n",
      "\n",
      "   Participant  \n",
      "0            9  \n",
      "4\n",
      "9\n"
     ]
    },
    {
     "name": "stderr",
     "output_type": "stream",
     "text": [
      "Info: Params [2.40900389 0.03146134 0.50051138 0.82780881 0.37621896 0.40964579] gave -119.96632953812447\n"
     ]
    },
    {
     "name": "stdout",
     "output_type": "stream",
     "text": [
      "   Drift Rate         x  Boundary Separation Speed      Bacc  \\\n",
      "0    2.409004  0.031461                   0.500511  0.827809   \n",
      "\n",
      "   Non-decision Time Speed  Non-decision Time Accuracy        BIC  Frequency  \\\n",
      "0                 0.376219                    0.409646 -119.96633          4   \n",
      "\n",
      "   Participant  \n",
      "0            9  \n",
      "5\n",
      "9\n"
     ]
    },
    {
     "name": "stderr",
     "output_type": "stream",
     "text": [
      "Info: Params [2.14495609 3.08259733 0.50311227 3.31544014 0.38684595 0.104876  ] gave -83.61654377865909\n"
     ]
    },
    {
     "name": "stdout",
     "output_type": "stream",
     "text": [
      "   Drift Rate         x  Boundary Separation Speed     Bacc  \\\n",
      "0    2.144956  3.082597                   0.503112  3.31544   \n",
      "\n",
      "   Non-decision Time Speed  Non-decision Time Accuracy        BIC  Frequency  \\\n",
      "0                 0.386846                    0.104876 -83.616544          5   \n",
      "\n",
      "   Participant  \n",
      "0            9  \n",
      "6\n",
      "9\n"
     ]
    },
    {
     "name": "stderr",
     "output_type": "stream",
     "text": [
      "Info: Params [2.71655047 3.10569271 0.50099712 1.654708   0.39686059 0.32559503] gave -167.95360713599098\n"
     ]
    },
    {
     "name": "stdout",
     "output_type": "stream",
     "text": [
      "   Drift Rate         x  Boundary Separation Speed      Bacc  \\\n",
      "0     2.71655  3.105693                   0.500997  1.654708   \n",
      "\n",
      "   Non-decision Time Speed  Non-decision Time Accuracy         BIC  Frequency  \\\n",
      "0                 0.396861                    0.325595 -167.953607          6   \n",
      "\n",
      "   Participant  \n",
      "0            9  \n",
      "1\n",
      "10\n"
     ]
    },
    {
     "name": "stderr",
     "output_type": "stream",
     "text": [
      "Info: Params [3.20866161 5.12397949 0.67524329 1.61508272 0.28393317 0.27272204] gave -534.0762559882617\n"
     ]
    },
    {
     "name": "stdout",
     "output_type": "stream",
     "text": [
      "   Drift Rate         x  Boundary Separation Speed      Bacc  \\\n",
      "0    3.208662  5.123979                   0.675243  1.615083   \n",
      "\n",
      "   Non-decision Time Speed  Non-decision Time Accuracy         BIC  Frequency  \\\n",
      "0                 0.283933                    0.272722 -534.076256          1   \n",
      "\n",
      "   Participant  \n",
      "0           10  \n",
      "2\n",
      "10\n"
     ]
    },
    {
     "name": "stderr",
     "output_type": "stream",
     "text": [
      "Info: Params [2.05988475 4.02785571 0.71756957 1.13976528 0.26843421 0.31344654] gave -215.83385229393053\n"
     ]
    },
    {
     "name": "stdout",
     "output_type": "stream",
     "text": [
      "   Drift Rate         x  Boundary Separation Speed      Bacc  \\\n",
      "0    2.059885  4.027856                    0.71757  1.139765   \n",
      "\n",
      "   Non-decision Time Speed  Non-decision Time Accuracy         BIC  Frequency  \\\n",
      "0                 0.268434                    0.313447 -215.833852          2   \n",
      "\n",
      "   Participant  \n",
      "0           10  \n",
      "3\n",
      "10\n"
     ]
    },
    {
     "name": "stderr",
     "output_type": "stream",
     "text": [
      "Info: Params [1.25419901 5.10400694 0.63435658 1.10123379 0.27698274 0.32688686] gave -50.21146789129962\n"
     ]
    },
    {
     "name": "stdout",
     "output_type": "stream",
     "text": [
      "   Drift Rate         x  Boundary Separation Speed      Bacc  \\\n",
      "0    1.254199  5.104007                   0.634357  1.101234   \n",
      "\n",
      "   Non-decision Time Speed  Non-decision Time Accuracy        BIC  Frequency  \\\n",
      "0                 0.276983                    0.326887 -50.211468          3   \n",
      "\n",
      "   Participant  \n",
      "0           10  \n",
      "4\n",
      "10\n"
     ]
    },
    {
     "name": "stderr",
     "output_type": "stream",
     "text": [
      "Info: Params [2.28670256 3.09556197 0.6764289  1.09003271 0.26297334 0.31282639] gave -224.14494369234322\n"
     ]
    },
    {
     "name": "stdout",
     "output_type": "stream",
     "text": [
      "   Drift Rate         x  Boundary Separation Speed      Bacc  \\\n",
      "0    2.286703  3.095562                   0.676429  1.090033   \n",
      "\n",
      "   Non-decision Time Speed  Non-decision Time Accuracy         BIC  Frequency  \\\n",
      "0                 0.262973                    0.312826 -224.144944          4   \n",
      "\n",
      "   Participant  \n",
      "0           10  \n",
      "5\n",
      "10\n"
     ]
    },
    {
     "name": "stderr",
     "output_type": "stream",
     "text": [
      "Info: Params [2.44274206 2.9041513  0.68365402 1.68315444 0.26167631 0.24958304] gave -233.40805740279478\n"
     ]
    },
    {
     "name": "stdout",
     "output_type": "stream",
     "text": [
      "   Drift Rate         x  Boundary Separation Speed      Bacc  \\\n",
      "0    2.442742  2.904151                   0.683654  1.683154   \n",
      "\n",
      "   Non-decision Time Speed  Non-decision Time Accuracy         BIC  Frequency  \\\n",
      "0                 0.261676                    0.249583 -233.408057          5   \n",
      "\n",
      "   Participant  \n",
      "0           10  \n",
      "6\n",
      "10\n"
     ]
    },
    {
     "name": "stderr",
     "output_type": "stream",
     "text": [
      "Info: Params [2.57944695 2.83666703 0.66404709 1.18659251 0.26796476 0.30864804] gave -300.45694676472453\n"
     ]
    },
    {
     "name": "stdout",
     "output_type": "stream",
     "text": [
      "   Drift Rate         x  Boundary Separation Speed      Bacc  \\\n",
      "0    2.579447  2.836667                   0.664047  1.186593   \n",
      "\n",
      "   Non-decision Time Speed  Non-decision Time Accuracy         BIC  Frequency  \\\n",
      "0                 0.267965                    0.308648 -300.456947          6   \n",
      "\n",
      "   Participant  \n",
      "0           10  \n",
      "1\n",
      "11\n"
     ]
    },
    {
     "name": "stderr",
     "output_type": "stream",
     "text": [
      "Info: Params [3.59201481 5.02850238 0.60219018 1.15277864 0.33252971 0.3219393 ] gave -633.4971691843991\n"
     ]
    },
    {
     "name": "stdout",
     "output_type": "stream",
     "text": [
      "   Drift Rate         x  Boundary Separation Speed      Bacc  \\\n",
      "0    3.592015  5.028502                    0.60219  1.152779   \n",
      "\n",
      "   Non-decision Time Speed  Non-decision Time Accuracy         BIC  Frequency  \\\n",
      "0                  0.33253                    0.321939 -633.497169          1   \n",
      "\n",
      "   Participant  \n",
      "0           11  \n",
      "2\n",
      "11\n"
     ]
    },
    {
     "name": "stderr",
     "output_type": "stream",
     "text": [
      "Info: Params [1.6660425  7.06192049 0.70881625 1.16493599 0.32647464 0.35370765] gave -224.82357877314683\n"
     ]
    },
    {
     "name": "stdout",
     "output_type": "stream",
     "text": [
      "   Drift Rate        x  Boundary Separation Speed      Bacc  \\\n",
      "0    1.666042  7.06192                   0.708816  1.164936   \n",
      "\n",
      "   Non-decision Time Speed  Non-decision Time Accuracy         BIC  Frequency  \\\n",
      "0                 0.326475                    0.353708 -224.823579          2   \n",
      "\n",
      "   Participant  \n",
      "0           11  \n",
      "3\n",
      "11\n"
     ]
    },
    {
     "name": "stderr",
     "output_type": "stream",
     "text": [
      "Info: Params [1.18730556 5.51637525 0.58654471 1.41193929 0.3244718  0.30780272] gave -55.77933938575644\n"
     ]
    },
    {
     "name": "stdout",
     "output_type": "stream",
     "text": [
      "   Drift Rate         x  Boundary Separation Speed      Bacc  \\\n",
      "0    1.187306  5.516375                   0.586545  1.411939   \n",
      "\n",
      "   Non-decision Time Speed  Non-decision Time Accuracy        BIC  Frequency  \\\n",
      "0                 0.324472                    0.307803 -55.779339          3   \n",
      "\n",
      "   Participant  \n",
      "0           11  \n",
      "4\n",
      "11\n"
     ]
    },
    {
     "name": "stderr",
     "output_type": "stream",
     "text": [
      "Info: Params [1.95227005 5.17910136 0.6622591  2.26560392 0.32799761 0.24980479] gave -192.22258989394982\n"
     ]
    },
    {
     "name": "stdout",
     "output_type": "stream",
     "text": [
      "   Drift Rate         x  Boundary Separation Speed      Bacc  \\\n",
      "0     1.95227  5.179101                   0.662259  2.265604   \n",
      "\n",
      "   Non-decision Time Speed  Non-decision Time Accuracy        BIC  Frequency  \\\n",
      "0                 0.327998                    0.249805 -192.22259          4   \n",
      "\n",
      "   Participant  \n",
      "0           11  \n",
      "5\n",
      "11\n"
     ]
    },
    {
     "name": "stderr",
     "output_type": "stream",
     "text": [
      "Info: Params [2.3489191  3.72935066 0.63495771 1.15674866 0.32544088 0.35055598] gave -291.62337104306397\n"
     ]
    },
    {
     "name": "stdout",
     "output_type": "stream",
     "text": [
      "   Drift Rate         x  Boundary Separation Speed      Bacc  \\\n",
      "0    2.348919  3.729351                   0.634958  1.156749   \n",
      "\n",
      "   Non-decision Time Speed  Non-decision Time Accuracy         BIC  Frequency  \\\n",
      "0                 0.325441                    0.350556 -291.623371          5   \n",
      "\n",
      "   Participant  \n",
      "0           11  \n",
      "6\n",
      "11\n"
     ]
    },
    {
     "name": "stderr",
     "output_type": "stream",
     "text": [
      "Info: Params [2.30554196 3.15456001 0.56499489 1.01728531 0.34730291 0.34267398] gave -282.83486584341796\n"
     ]
    },
    {
     "name": "stdout",
     "output_type": "stream",
     "text": [
      "   Drift Rate        x  Boundary Separation Speed      Bacc  \\\n",
      "0    2.305542  3.15456                   0.564995  1.017285   \n",
      "\n",
      "   Non-decision Time Speed  Non-decision Time Accuracy         BIC  Frequency  \\\n",
      "0                 0.347303                    0.342674 -282.834866          6   \n",
      "\n",
      "   Participant  \n",
      "0           11  \n",
      "1\n",
      "12\n"
     ]
    },
    {
     "name": "stderr",
     "output_type": "stream",
     "text": [
      "Info: Params [2.19708656 3.7126396  1.22653315 1.18621443 0.18467759 0.26970714] gave -187.3672611806063\n"
     ]
    },
    {
     "name": "stdout",
     "output_type": "stream",
     "text": [
      "   Drift Rate        x  Boundary Separation Speed      Bacc  \\\n",
      "0    2.197087  3.71264                   1.226533  1.186214   \n",
      "\n",
      "   Non-decision Time Speed  Non-decision Time Accuracy         BIC  Frequency  \\\n",
      "0                 0.184678                    0.269707 -187.367261          1   \n",
      "\n",
      "   Participant  \n",
      "0           12  \n",
      "2\n",
      "12\n"
     ]
    },
    {
     "name": "stderr",
     "output_type": "stream",
     "text": [
      "Info: Params [1.30371806 3.04796217 0.62134248 1.13822699 0.30730738 0.29445932] gave 58.94371186294146\n"
     ]
    },
    {
     "name": "stdout",
     "output_type": "stream",
     "text": [
      "   Drift Rate         x  Boundary Separation Speed      Bacc  \\\n",
      "0    1.303718  3.047962                   0.621342  1.138227   \n",
      "\n",
      "   Non-decision Time Speed  Non-decision Time Accuracy        BIC  Frequency  \\\n",
      "0                 0.307307                    0.294459  58.943712          2   \n",
      "\n",
      "   Participant  \n",
      "0           12  \n",
      "3\n",
      "12\n"
     ]
    },
    {
     "name": "stderr",
     "output_type": "stream",
     "text": [
      "Info: Params [0.6656199  2.68234741 0.62264783 1.0206447  0.27256807 0.27954899] gave 242.86337531004705\n"
     ]
    },
    {
     "name": "stdout",
     "output_type": "stream",
     "text": [
      "   Drift Rate         x  Boundary Separation Speed      Bacc  \\\n",
      "0     0.66562  2.682347                   0.622648  1.020645   \n",
      "\n",
      "   Non-decision Time Speed  Non-decision Time Accuracy         BIC  Frequency  \\\n",
      "0                 0.272568                    0.279549  242.863375          3   \n",
      "\n",
      "   Participant  \n",
      "0           12  \n",
      "4\n",
      "12\n"
     ]
    },
    {
     "name": "stderr",
     "output_type": "stream",
     "text": [
      "Info: Params [1.4873207  3.46618731 1.68596698 1.48225495 0.12551181 0.22698064] gave 133.5214699714032\n"
     ]
    },
    {
     "name": "stdout",
     "output_type": "stream",
     "text": [
      "   Drift Rate         x  Boundary Separation Speed      Bacc  \\\n",
      "0    1.487321  3.466187                   1.685967  1.482255   \n",
      "\n",
      "   Non-decision Time Speed  Non-decision Time Accuracy        BIC  Frequency  \\\n",
      "0                 0.125512                    0.226981  133.52147          4   \n",
      "\n",
      "   Participant  \n",
      "0           12  \n",
      "5\n",
      "12\n"
     ]
    },
    {
     "name": "stderr",
     "output_type": "stream",
     "text": [
      "Info: Params [1.51194678 3.75100332 1.64998963 1.61601648 0.12653928 0.2428422 ] gave 102.24513298963815\n"
     ]
    },
    {
     "name": "stdout",
     "output_type": "stream",
     "text": [
      "   Drift Rate         x  Boundary Separation Speed      Bacc  \\\n",
      "0    1.511947  3.751003                    1.64999  1.616016   \n",
      "\n",
      "   Non-decision Time Speed  Non-decision Time Accuracy         BIC  Frequency  \\\n",
      "0                 0.126539                    0.242842  102.245133          5   \n",
      "\n",
      "   Participant  \n",
      "0           12  \n",
      "6\n",
      "12\n"
     ]
    },
    {
     "name": "stderr",
     "output_type": "stream",
     "text": [
      "Info: Params [1.59511774 3.02617096 1.06022875 2.31779519 0.2245591  0.10920646] gave 96.21463381618683\n"
     ]
    },
    {
     "name": "stdout",
     "output_type": "stream",
     "text": [
      "   Drift Rate         x  Boundary Separation Speed      Bacc  \\\n",
      "0    1.595118  3.026171                   1.060229  2.317795   \n",
      "\n",
      "   Non-decision Time Speed  Non-decision Time Accuracy        BIC  Frequency  \\\n",
      "0                 0.224559                    0.109206  96.214634          6   \n",
      "\n",
      "   Participant  \n",
      "0           12  \n",
      "1\n",
      "13\n"
     ]
    },
    {
     "name": "stderr",
     "output_type": "stream",
     "text": [
      "Info: Params [2.00142546 2.68060578 0.67681377 1.3194279  0.30694131 0.27669609] gave -87.72438133405365\n"
     ]
    },
    {
     "name": "stdout",
     "output_type": "stream",
     "text": [
      "   Drift Rate         x  Boundary Separation Speed      Bacc  \\\n",
      "0    2.001425  2.680606                   0.676814  1.319428   \n",
      "\n",
      "   Non-decision Time Speed  Non-decision Time Accuracy        BIC  Frequency  \\\n",
      "0                 0.306941                    0.276696 -87.724381          1   \n",
      "\n",
      "   Participant  \n",
      "0           13  \n",
      "2\n",
      "13\n"
     ]
    },
    {
     "name": "stderr",
     "output_type": "stream",
     "text": [
      "Info: Params [1.51215024 2.5902386  0.63435129 1.05917032 0.32968061 0.36421036] gave 19.22981204737203\n"
     ]
    },
    {
     "name": "stdout",
     "output_type": "stream",
     "text": [
      "   Drift Rate         x  Boundary Separation Speed     Bacc  \\\n",
      "0     1.51215  2.590239                   0.634351  1.05917   \n",
      "\n",
      "   Non-decision Time Speed  Non-decision Time Accuracy        BIC  Frequency  \\\n",
      "0                 0.329681                     0.36421  19.229812          2   \n",
      "\n",
      "   Participant  \n",
      "0           13  \n",
      "3\n",
      "13\n"
     ]
    },
    {
     "name": "stderr",
     "output_type": "stream",
     "text": [
      "Info: Params [0.72240116 3.00845252 0.6561642  1.3197338  0.32331974 0.28905666] gave 260.3604939872656\n"
     ]
    },
    {
     "name": "stdout",
     "output_type": "stream",
     "text": [
      "   Drift Rate         x  Boundary Separation Speed      Bacc  \\\n",
      "0    0.722401  3.008453                   0.656164  1.319734   \n",
      "\n",
      "   Non-decision Time Speed  Non-decision Time Accuracy         BIC  Frequency  \\\n",
      "0                  0.32332                    0.289057  260.360494          3   \n",
      "\n",
      "   Participant  \n",
      "0           13  \n",
      "4\n",
      "13\n"
     ]
    },
    {
     "name": "stderr",
     "output_type": "stream",
     "text": [
      "Info: Params [1.5175388  2.08683582 0.65446577 1.25502703 0.32311012 0.29902919] gave 90.14982819465953\n"
     ]
    },
    {
     "name": "stdout",
     "output_type": "stream",
     "text": [
      "   Drift Rate         x  Boundary Separation Speed      Bacc  \\\n",
      "0    1.517539  2.086836                   0.654466  1.255027   \n",
      "\n",
      "   Non-decision Time Speed  Non-decision Time Accuracy        BIC  Frequency  \\\n",
      "0                  0.32311                    0.299029  90.149828          4   \n",
      "\n",
      "   Participant  \n",
      "0           13  \n",
      "5\n",
      "13\n"
     ]
    },
    {
     "name": "stderr",
     "output_type": "stream",
     "text": [
      "Info: Params [1.67951753 2.26266838 0.68676784 1.28814766 0.32223847 0.32852798] gave 44.01481658275298\n"
     ]
    },
    {
     "name": "stdout",
     "output_type": "stream",
     "text": [
      "   Drift Rate         x  Boundary Separation Speed      Bacc  \\\n",
      "0    1.679518  2.262668                   0.686768  1.288148   \n",
      "\n",
      "   Non-decision Time Speed  Non-decision Time Accuracy        BIC  Frequency  \\\n",
      "0                 0.322238                    0.328528  44.014817          5   \n",
      "\n",
      "   Participant  \n",
      "0           13  \n",
      "6\n",
      "13\n"
     ]
    },
    {
     "name": "stderr",
     "output_type": "stream",
     "text": [
      "Info: Params [1.5377165  2.76289768 1.05595441 1.23684875 0.25113753 0.30867211] gave 90.51121637896811\n"
     ]
    },
    {
     "name": "stdout",
     "output_type": "stream",
     "text": [
      "   Drift Rate         x  Boundary Separation Speed      Bacc  \\\n",
      "0    1.537717  2.762898                   1.055954  1.236849   \n",
      "\n",
      "   Non-decision Time Speed  Non-decision Time Accuracy        BIC  Frequency  \\\n",
      "0                 0.251138                    0.308672  90.511216          6   \n",
      "\n",
      "   Participant  \n",
      "0           13  \n",
      "1\n",
      "14\n"
     ]
    },
    {
     "name": "stderr",
     "output_type": "stream",
     "text": [
      "Info: Params [2.76996371 2.68457473 0.76863829 2.04686281 0.27289711 0.19771949] gave -314.44664005277616\n"
     ]
    },
    {
     "name": "stdout",
     "output_type": "stream",
     "text": [
      "   Drift Rate         x  Boundary Separation Speed      Bacc  \\\n",
      "0    2.769964  2.684575                   0.768638  2.046863   \n",
      "\n",
      "   Non-decision Time Speed  Non-decision Time Accuracy        BIC  Frequency  \\\n",
      "0                 0.272897                    0.197719 -314.44664          1   \n",
      "\n",
      "   Participant  \n",
      "0           14  \n",
      "2\n",
      "14\n"
     ]
    },
    {
     "name": "stderr",
     "output_type": "stream",
     "text": [
      "Info: Params [1.88015449 2.6164389  0.67082235 1.4662725  0.30777976 0.29308715] gave -26.30151862362765\n"
     ]
    },
    {
     "name": "stdout",
     "output_type": "stream",
     "text": [
      "   Drift Rate         x  Boundary Separation Speed      Bacc  \\\n",
      "0    1.880154  2.616439                   0.670822  1.466272   \n",
      "\n",
      "   Non-decision Time Speed  Non-decision Time Accuracy        BIC  Frequency  \\\n",
      "0                  0.30778                    0.293087 -26.301519          2   \n",
      "\n",
      "   Participant  \n",
      "0           14  \n",
      "3\n",
      "14\n"
     ]
    },
    {
     "name": "stderr",
     "output_type": "stream",
     "text": [
      "Info: Params [1.36335784 2.43548182 0.58631413 2.25973236 0.33787195 0.14001247] gave 156.38009567427616\n"
     ]
    },
    {
     "name": "stdout",
     "output_type": "stream",
     "text": [
      "   Drift Rate         x  Boundary Separation Speed      Bacc  \\\n",
      "0    1.363358  2.435482                   0.586314  2.259732   \n",
      "\n",
      "   Non-decision Time Speed  Non-decision Time Accuracy         BIC  Frequency  \\\n",
      "0                 0.337872                    0.140012  156.380096          3   \n",
      "\n",
      "   Participant  \n",
      "0           14  \n",
      "4\n",
      "14\n"
     ]
    },
    {
     "name": "stderr",
     "output_type": "stream",
     "text": [
      "Info: Params [1.93622626 1.71308589 0.78411882 1.13586986 0.34496143 0.40072597] gave -101.15133961810335\n"
     ]
    },
    {
     "name": "stdout",
     "output_type": "stream",
     "text": [
      "   Drift Rate         x  Boundary Separation Speed     Bacc  \\\n",
      "0    1.936226  1.713086                   0.784119  1.13587   \n",
      "\n",
      "   Non-decision Time Speed  Non-decision Time Accuracy        BIC  Frequency  \\\n",
      "0                 0.344961                    0.400726 -101.15134          4   \n",
      "\n",
      "   Participant  \n",
      "0           14  \n",
      "5\n",
      "14\n"
     ]
    },
    {
     "name": "stderr",
     "output_type": "stream",
     "text": [
      "Info: Params [1.53872086 1.18764289 0.70568043 2.11642851 0.29286686 0.10164204] gave 205.11879860481775\n"
     ]
    },
    {
     "name": "stdout",
     "output_type": "stream",
     "text": [
      "   Drift Rate         x  Boundary Separation Speed      Bacc  \\\n",
      "0    1.538721  1.187643                    0.70568  2.116429   \n",
      "\n",
      "   Non-decision Time Speed  Non-decision Time Accuracy         BIC  Frequency  \\\n",
      "0                 0.292867                    0.101642  205.118799          5   \n",
      "\n",
      "   Participant  \n",
      "0           14  \n",
      "6\n",
      "14\n"
     ]
    },
    {
     "name": "stderr",
     "output_type": "stream",
     "text": [
      "Info: Params [ 1.97409544 -3.04028546  0.50098822  0.79078444  0.34092725  0.43691418] gave 45.79219510074781\n"
     ]
    },
    {
     "name": "stdout",
     "output_type": "stream",
     "text": [
      "   Drift Rate         x  Boundary Separation Speed      Bacc  \\\n",
      "0    1.974095 -3.040285                   0.500988  0.790784   \n",
      "\n",
      "   Non-decision Time Speed  Non-decision Time Accuracy        BIC  Frequency  \\\n",
      "0                 0.340927                    0.436914  45.792195          6   \n",
      "\n",
      "   Participant  \n",
      "0           14  \n",
      "1\n",
      "15\n"
     ]
    },
    {
     "name": "stderr",
     "output_type": "stream",
     "text": [
      "Info: Params [2.30388136 2.07214054 0.62314517 1.45467208 0.31979825 0.30205759] gave -189.28543562959842\n"
     ]
    },
    {
     "name": "stdout",
     "output_type": "stream",
     "text": [
      "   Drift Rate         x  Boundary Separation Speed      Bacc  \\\n",
      "0    2.303881  2.072141                   0.623145  1.454672   \n",
      "\n",
      "   Non-decision Time Speed  Non-decision Time Accuracy         BIC  Frequency  \\\n",
      "0                 0.319798                    0.302058 -189.285436          1   \n",
      "\n",
      "   Participant  \n",
      "0           15  \n",
      "2\n",
      "15\n"
     ]
    },
    {
     "name": "stderr",
     "output_type": "stream",
     "text": [
      "Info: Params [1.88510085 2.89464598 0.84449045 1.98759776 0.28159092 0.29029375] gave -19.914945900049425\n"
     ]
    },
    {
     "name": "stdout",
     "output_type": "stream",
     "text": [
      "   Drift Rate         x  Boundary Separation Speed      Bacc  \\\n",
      "0    1.885101  2.894646                    0.84449  1.987598   \n",
      "\n",
      "   Non-decision Time Speed  Non-decision Time Accuracy        BIC  Frequency  \\\n",
      "0                 0.281591                    0.290294 -19.914946          2   \n",
      "\n",
      "   Participant  \n",
      "0           15  \n",
      "3\n",
      "15\n"
     ]
    },
    {
     "name": "stderr",
     "output_type": "stream",
     "text": [
      "Info: Params [1.06108036 2.5523471  0.60910739 1.5079883  0.31547244 0.33610954] gave 183.96802028006158\n"
     ]
    },
    {
     "name": "stdout",
     "output_type": "stream",
     "text": [
      "   Drift Rate         x  Boundary Separation Speed      Bacc  \\\n",
      "0     1.06108  2.552347                   0.609107  1.507988   \n",
      "\n",
      "   Non-decision Time Speed  Non-decision Time Accuracy        BIC  Frequency  \\\n",
      "0                 0.315472                     0.33611  183.96802          3   \n",
      "\n",
      "   Participant  \n",
      "0           15  \n",
      "4\n",
      "15\n"
     ]
    },
    {
     "name": "stderr",
     "output_type": "stream",
     "text": [
      "Info: Params [2.01174832 1.59959045 0.5839846  1.26601314 0.33839539 0.39918632] gave -101.22319101097182\n"
     ]
    },
    {
     "name": "stdout",
     "output_type": "stream",
     "text": [
      "   Drift Rate        x  Boundary Separation Speed      Bacc  \\\n",
      "0    2.011748  1.59959                   0.583985  1.266013   \n",
      "\n",
      "   Non-decision Time Speed  Non-decision Time Accuracy         BIC  Frequency  \\\n",
      "0                 0.338395                    0.399186 -101.223191          4   \n",
      "\n",
      "   Participant  \n",
      "0           15  \n",
      "5\n",
      "15\n"
     ]
    },
    {
     "name": "stderr",
     "output_type": "stream",
     "text": [
      "Info: Params [1.75658756 1.92701658 0.68823245 1.58903953 0.30271359 0.31669342] gave 34.79960813171725\n"
     ]
    },
    {
     "name": "stdout",
     "output_type": "stream",
     "text": [
      "   Drift Rate         x  Boundary Separation Speed     Bacc  \\\n",
      "0    1.756588  1.927017                   0.688232  1.58904   \n",
      "\n",
      "   Non-decision Time Speed  Non-decision Time Accuracy        BIC  Frequency  \\\n",
      "0                 0.302714                    0.316693  34.799608          5   \n",
      "\n",
      "   Participant  \n",
      "0           15  \n",
      "6\n",
      "15\n"
     ]
    },
    {
     "name": "stderr",
     "output_type": "stream",
     "text": [
      "Info: Params [2.02622852 2.3209597  0.68231947 1.13033775 0.32574539 0.41140014] gave -110.8581788865409\n"
     ]
    },
    {
     "name": "stdout",
     "output_type": "stream",
     "text": [
      "   Drift Rate        x  Boundary Separation Speed      Bacc  \\\n",
      "0    2.026229  2.32096                   0.682319  1.130338   \n",
      "\n",
      "   Non-decision Time Speed  Non-decision Time Accuracy         BIC  Frequency  \\\n",
      "0                 0.325745                      0.4114 -110.858179          6   \n",
      "\n",
      "   Participant  \n",
      "0           15  \n",
      "1\n",
      "16\n"
     ]
    },
    {
     "name": "stderr",
     "output_type": "stream",
     "text": [
      "Info: Params [1.92679531 3.44604873 0.7609153  1.25877926 0.24526464 0.32094013] gave -122.80548906412221\n"
     ]
    },
    {
     "name": "stdout",
     "output_type": "stream",
     "text": [
      "   Drift Rate         x  Boundary Separation Speed      Bacc  \\\n",
      "0    1.926795  3.446049                   0.760915  1.258779   \n",
      "\n",
      "   Non-decision Time Speed  Non-decision Time Accuracy         BIC  Frequency  \\\n",
      "0                 0.245265                     0.32094 -122.805489          1   \n",
      "\n",
      "   Participant  \n",
      "0           16  \n",
      "2\n",
      "16\n"
     ]
    },
    {
     "name": "stderr",
     "output_type": "stream",
     "text": [
      "Info: Params [1.44388798 2.61478603 0.85263252 1.04747362 0.20669836 0.38034584] gave 114.26357476540161\n"
     ]
    },
    {
     "name": "stdout",
     "output_type": "stream",
     "text": [
      "   Drift Rate         x  Boundary Separation Speed      Bacc  \\\n",
      "0    1.443888  2.614786                   0.852633  1.047474   \n",
      "\n",
      "   Non-decision Time Speed  Non-decision Time Accuracy         BIC  Frequency  \\\n",
      "0                 0.206698                    0.380346  114.263575          2   \n",
      "\n",
      "   Participant  \n",
      "0           16  \n",
      "3\n",
      "16\n"
     ]
    },
    {
     "name": "stderr",
     "output_type": "stream",
     "text": [
      "Info: Params [0.94179395 2.99701954 0.91732219 1.39369543 0.1956204  0.3077316 ] gave 284.1694326137324\n"
     ]
    },
    {
     "name": "stdout",
     "output_type": "stream",
     "text": [
      "   Drift Rate        x  Boundary Separation Speed      Bacc  \\\n",
      "0    0.941794  2.99702                   0.917322  1.393695   \n",
      "\n",
      "   Non-decision Time Speed  Non-decision Time Accuracy         BIC  Frequency  \\\n",
      "0                  0.19562                    0.307732  284.169433          3   \n",
      "\n",
      "   Participant  \n",
      "0           16  \n",
      "4\n",
      "16\n"
     ]
    },
    {
     "name": "stderr",
     "output_type": "stream",
     "text": [
      "Info: Params [1.44084271 3.94412949 1.18079788 4.05178808 0.18378161 0.13137411] gave 90.0095956702057\n"
     ]
    },
    {
     "name": "stdout",
     "output_type": "stream",
     "text": [
      "   Drift Rate         x  Boundary Separation Speed      Bacc  \\\n",
      "0    1.440843  3.944129                   1.180798  4.051788   \n",
      "\n",
      "   Non-decision Time Speed  Non-decision Time Accuracy        BIC  Frequency  \\\n",
      "0                 0.183782                    0.131374  90.009596          4   \n",
      "\n",
      "   Participant  \n",
      "0           16  \n",
      "5\n",
      "16\n"
     ]
    },
    {
     "name": "stderr",
     "output_type": "stream",
     "text": [
      "Info: Params [1.29261408 2.43401464 0.83835986 1.23270205 0.20967345 0.32150535] gave 187.720438549983\n"
     ]
    },
    {
     "name": "stdout",
     "output_type": "stream",
     "text": [
      "   Drift Rate         x  Boundary Separation Speed      Bacc  \\\n",
      "0    1.292614  2.434015                    0.83836  1.232702   \n",
      "\n",
      "   Non-decision Time Speed  Non-decision Time Accuracy         BIC  Frequency  \\\n",
      "0                 0.209673                    0.321505  187.720439          5   \n",
      "\n",
      "   Participant  \n",
      "0           16  \n",
      "6\n",
      "16\n"
     ]
    },
    {
     "name": "stderr",
     "output_type": "stream",
     "text": [
      "Info: Params [1.37432426 3.14070404 1.17803463 1.12306483 0.16780942 0.34531427] gave 158.20076530557435\n"
     ]
    },
    {
     "name": "stdout",
     "output_type": "stream",
     "text": [
      "   Drift Rate         x  Boundary Separation Speed      Bacc  \\\n",
      "0    1.374324  3.140704                   1.178035  1.123065   \n",
      "\n",
      "   Non-decision Time Speed  Non-decision Time Accuracy         BIC  Frequency  \\\n",
      "0                 0.167809                    0.345314  158.200765          6   \n",
      "\n",
      "   Participant  \n",
      "0           16  \n",
      "1\n",
      "17\n"
     ]
    },
    {
     "name": "stderr",
     "output_type": "stream",
     "text": [
      "Info: Params [2.85869001 3.51736749 1.04400545 2.93350933 0.27465215 0.2064526 ] gave -320.9170530714475\n"
     ]
    },
    {
     "name": "stdout",
     "output_type": "stream",
     "text": [
      "   Drift Rate         x  Boundary Separation Speed      Bacc  \\\n",
      "0     2.85869  3.517367                   1.044005  2.933509   \n",
      "\n",
      "   Non-decision Time Speed  Non-decision Time Accuracy         BIC  Frequency  \\\n",
      "0                 0.274652                    0.206453 -320.917053          1   \n",
      "\n",
      "   Participant  \n",
      "0           17  \n",
      "2\n",
      "17\n"
     ]
    },
    {
     "name": "stderr",
     "output_type": "stream",
     "text": [
      "Info: Params [2.44999293 2.78977747 0.88383445 1.89368517 0.30080553 0.29981756] gave -197.52001416649082\n"
     ]
    },
    {
     "name": "stdout",
     "output_type": "stream",
     "text": [
      "   Drift Rate         x  Boundary Separation Speed      Bacc  \\\n",
      "0    2.449993  2.789777                   0.883834  1.893685   \n",
      "\n",
      "   Non-decision Time Speed  Non-decision Time Accuracy         BIC  Frequency  \\\n",
      "0                 0.300806                    0.299818 -197.520014          2   \n",
      "\n",
      "   Participant  \n",
      "0           17  \n",
      "3\n",
      "17\n"
     ]
    },
    {
     "name": "stderr",
     "output_type": "stream",
     "text": [
      "Info: Params [1.80332405 3.29388333 0.74875744 1.47673501 0.3126637  0.36347153] gave -16.03376315485984\n"
     ]
    },
    {
     "name": "stdout",
     "output_type": "stream",
     "text": [
      "   Drift Rate         x  Boundary Separation Speed      Bacc  \\\n",
      "0    1.803324  3.293883                   0.748757  1.476735   \n",
      "\n",
      "   Non-decision Time Speed  Non-decision Time Accuracy        BIC  Frequency  \\\n",
      "0                 0.312664                    0.363472 -16.033763          3   \n",
      "\n",
      "   Participant  \n",
      "0           17  \n",
      "4\n",
      "17\n"
     ]
    },
    {
     "name": "stderr",
     "output_type": "stream",
     "text": [
      "Info: Params [2.34127271 2.84086967 0.93033512 2.38795972 0.29234802 0.27372777] gave -143.25017916613822\n"
     ]
    },
    {
     "name": "stdout",
     "output_type": "stream",
     "text": [
      "   Drift Rate        x  Boundary Separation Speed     Bacc  \\\n",
      "0    2.341273  2.84087                   0.930335  2.38796   \n",
      "\n",
      "   Non-decision Time Speed  Non-decision Time Accuracy         BIC  Frequency  \\\n",
      "0                 0.292348                    0.273728 -143.250179          4   \n",
      "\n",
      "   Participant  \n",
      "0           17  \n",
      "5\n",
      "17\n"
     ]
    },
    {
     "name": "stderr",
     "output_type": "stream",
     "text": [
      "Info: Params [2.27281435 3.0386053  0.88120565 4.20506838 0.31384584 0.11884604] gave -146.15166064629125\n"
     ]
    },
    {
     "name": "stdout",
     "output_type": "stream",
     "text": [
      "   Drift Rate         x  Boundary Separation Speed      Bacc  \\\n",
      "0    2.272814  3.038605                   0.881206  4.205068   \n",
      "\n",
      "   Non-decision Time Speed  Non-decision Time Accuracy         BIC  Frequency  \\\n",
      "0                 0.313846                    0.118846 -146.151661          5   \n",
      "\n",
      "   Participant  \n",
      "0           17  \n",
      "6\n",
      "17\n"
     ]
    },
    {
     "name": "stderr",
     "output_type": "stream",
     "text": [
      "Info: Params [2.10641968 2.75695658 1.32879654 2.92432844 0.21231221 0.17777605] gave -48.66584086268707\n"
     ]
    },
    {
     "name": "stdout",
     "output_type": "stream",
     "text": [
      "   Drift Rate         x  Boundary Separation Speed      Bacc  \\\n",
      "0     2.10642  2.756957                   1.328797  2.924328   \n",
      "\n",
      "   Non-decision Time Speed  Non-decision Time Accuracy        BIC  Frequency  \\\n",
      "0                 0.212312                    0.177776 -48.665841          6   \n",
      "\n",
      "   Participant  \n",
      "0           17  \n"
     ]
    }
   ],
   "source": [
    "participants = [1,  3,  4,  5,  6,  7,  8,  9, 10, 11, 12, 13, 14, 15, 16, 17]\n",
    "df_all = pd.DataFrame()\n",
    "for i in participants:\n",
    "    for freq in range(1,7):\n",
    "        print(freq)\n",
    "        print(i)\n",
    "        df = pd.read_csv(data_dir)\n",
    "        df = df[df[\"Participant\"]==i]\n",
    "        df = df[df[\"Frequency\"]==freq]\n",
    "        df = df[df[\"RT\"]<3]\n",
    "\n",
    "        samp = Sample.from_pandas_dataframe(df, rt_column_name=\"RT\", correct_column_name=\"Correct\")\n",
    "        df_param = get_OUM_result_sub_2a2ter(samp)\n",
    "        df_param['Frequency'] = freq\n",
    "        df_param[\"Participant\"]=i\n",
    "        df_all = pd.concat((df_all,df_param))\n",
    "        print(df_param)\n",
    "df_OUM = df_all.copy()\n"
   ]
  },
  {
   "cell_type": "code",
   "execution_count": 11,
   "id": "3b05a53a",
   "metadata": {},
   "outputs": [],
   "source": [
    "df_OUM.to_csv(\"OUM2a2terresultWagenmakers2008.csv\")"
   ]
  },
  {
   "cell_type": "code",
   "execution_count": 12,
   "id": "87e8797e",
   "metadata": {},
   "outputs": [
    {
     "data": {
      "text/plain": [
       "-66.72923516198851"
      ]
     },
     "execution_count": 12,
     "metadata": {},
     "output_type": "execute_result"
    }
   ],
   "source": [
    "df_OUM[\"BIC\"].mean()"
   ]
  },
  {
   "cell_type": "code",
   "execution_count": 14,
   "id": "66bb2313",
   "metadata": {},
   "outputs": [
    {
     "name": "stdout",
     "output_type": "stream",
     "text": [
      "1\n",
      "1\n"
     ]
    },
    {
     "name": "stderr",
     "output_type": "stream",
     "text": [
      "Info: Params [ 3.29061168 -2.4473258   0.76571957  0.50499073  0.35329625  0.37632669] gave -269.2532758131523\n"
     ]
    },
    {
     "name": "stdout",
     "output_type": "stream",
     "text": [
      "   Drift Rate  Self-excitation Speed  Self-excitation Accuracy  \\\n",
      "0    3.290612              -2.447326                   0.76572   \n",
      "\n",
      "   Boundary Separation  Non-decision Time Speed  Non-decision Time Accuracy  \\\n",
      "0             0.504991                 0.353296                    0.376327   \n",
      "\n",
      "          BIC  Frequency  Participant  \n",
      "0 -269.253276          1            1  \n",
      "2\n",
      "1\n"
     ]
    },
    {
     "name": "stderr",
     "output_type": "stream",
     "text": [
      "Info: Params [2.25892092 8.51462877 4.04649807 0.89216028 0.34116745 0.33975304] gave -140.6829779999334\n"
     ]
    },
    {
     "name": "stdout",
     "output_type": "stream",
     "text": [
      "   Drift Rate  Self-excitation Speed  Self-excitation Accuracy  \\\n",
      "0    2.258921               8.514629                  4.046498   \n",
      "\n",
      "   Boundary Separation  Non-decision Time Speed  Non-decision Time Accuracy  \\\n",
      "0              0.89216                 0.341167                    0.339753   \n",
      "\n",
      "          BIC  Frequency  Participant  \n",
      "0 -140.682978          2            1  \n",
      "3\n",
      "1\n"
     ]
    },
    {
     "name": "stderr",
     "output_type": "stream",
     "text": [
      "Info: Params [1.28265985 4.76198039 4.34639291 0.71653524 0.32733187 0.37192243] gave -15.240367502434417\n"
     ]
    },
    {
     "name": "stdout",
     "output_type": "stream",
     "text": [
      "   Drift Rate  Self-excitation Speed  Self-excitation Accuracy  \\\n",
      "0     1.28266                4.76198                  4.346393   \n",
      "\n",
      "   Boundary Separation  Non-decision Time Speed  Non-decision Time Accuracy  \\\n",
      "0             0.716535                 0.327332                    0.371922   \n",
      "\n",
      "         BIC  Frequency  Participant  \n",
      "0 -15.240368          3            1  \n",
      "4\n",
      "1\n"
     ]
    },
    {
     "name": "stderr",
     "output_type": "stream",
     "text": [
      "Info: Params [ 2.52666095 -1.50463935  1.60483721  0.50048225  0.33910627  0.39261631] gave -172.51562030876175\n"
     ]
    },
    {
     "name": "stdout",
     "output_type": "stream",
     "text": [
      "   Drift Rate  Self-excitation Speed  Self-excitation Accuracy  \\\n",
      "0    2.526661              -1.504639                  1.604837   \n",
      "\n",
      "   Boundary Separation  Non-decision Time Speed  Non-decision Time Accuracy  \\\n",
      "0             0.500482                 0.339106                    0.392616   \n",
      "\n",
      "         BIC  Frequency  Participant  \n",
      "0 -172.51562          4            1  \n",
      "5\n",
      "1\n"
     ]
    },
    {
     "name": "stderr",
     "output_type": "stream",
     "text": [
      "Info: Params [2.94802475 6.73473869 6.48461103 3.16435119 0.18738112 0.20470645] gave -181.67190168114578\n"
     ]
    },
    {
     "name": "stdout",
     "output_type": "stream",
     "text": [
      "   Drift Rate  Self-excitation Speed  Self-excitation Accuracy  \\\n",
      "0    2.948025               6.734739                  6.484611   \n",
      "\n",
      "   Boundary Separation  Non-decision Time Speed  Non-decision Time Accuracy  \\\n",
      "0             3.164351                 0.187381                    0.204706   \n",
      "\n",
      "          BIC  Frequency  Participant  \n",
      "0 -181.671902          5            1  \n",
      "6\n",
      "1\n"
     ]
    },
    {
     "name": "stderr",
     "output_type": "stream",
     "text": [
      "Info: Params [3.12360204 5.98936615 4.54002018 0.99186096 0.30640258 0.3239035 ] gave -230.4649896141776\n"
     ]
    },
    {
     "name": "stdout",
     "output_type": "stream",
     "text": [
      "   Drift Rate  Self-excitation Speed  Self-excitation Accuracy  \\\n",
      "0    3.123602               5.989366                   4.54002   \n",
      "\n",
      "   Boundary Separation  Non-decision Time Speed  Non-decision Time Accuracy  \\\n",
      "0             0.991861                 0.306403                    0.323904   \n",
      "\n",
      "         BIC  Frequency  Participant  \n",
      "0 -230.46499          6            1  \n",
      "1\n",
      "3\n"
     ]
    },
    {
     "name": "stderr",
     "output_type": "stream",
     "text": [
      "Info: Params [2.85288915 6.60123394 3.13722796 1.09704159 0.27757223 0.36603604] gave -188.61755695327528\n"
     ]
    },
    {
     "name": "stdout",
     "output_type": "stream",
     "text": [
      "   Drift Rate  Self-excitation Speed  Self-excitation Accuracy  \\\n",
      "0    2.852889               6.601234                  3.137228   \n",
      "\n",
      "   Boundary Separation  Non-decision Time Speed  Non-decision Time Accuracy  \\\n",
      "0             1.097042                 0.277572                    0.366036   \n",
      "\n",
      "          BIC  Frequency  Participant  \n",
      "0 -188.617557          1            3  \n",
      "2\n",
      "3\n"
     ]
    },
    {
     "name": "stderr",
     "output_type": "stream",
     "text": [
      "Info: Params [1.77438791 6.95807542 1.58541216 0.96826783 0.29016708 0.34295327] gave -32.01136843875045\n"
     ]
    },
    {
     "name": "stdout",
     "output_type": "stream",
     "text": [
      "   Drift Rate  Self-excitation Speed  Self-excitation Accuracy  \\\n",
      "0    1.774388               6.958075                  1.585412   \n",
      "\n",
      "   Boundary Separation  Non-decision Time Speed  Non-decision Time Accuracy  \\\n",
      "0             0.968268                 0.290167                    0.342953   \n",
      "\n",
      "         BIC  Frequency  Participant  \n",
      "0 -32.011368          2            3  \n",
      "3\n",
      "3\n"
     ]
    },
    {
     "name": "stderr",
     "output_type": "stream",
     "text": [
      "Info: Params [1.58555742 6.14642215 3.02020289 1.20782449 0.25419728 0.35523862] gave 18.823218425694275\n"
     ]
    },
    {
     "name": "stdout",
     "output_type": "stream",
     "text": [
      "   Drift Rate  Self-excitation Speed  Self-excitation Accuracy  \\\n",
      "0    1.585557               6.146422                  3.020203   \n",
      "\n",
      "   Boundary Separation  Non-decision Time Speed  Non-decision Time Accuracy  \\\n",
      "0             1.207824                 0.254197                    0.355239   \n",
      "\n",
      "         BIC  Frequency  Participant  \n",
      "0  18.823218          3            3  \n",
      "4\n",
      "3\n"
     ]
    },
    {
     "name": "stderr",
     "output_type": "stream",
     "text": [
      "Info: Params [1.9869393  5.99835624 1.68250999 2.05893865 0.19211234 0.10074108] gave 0.056079088624674256\n"
     ]
    },
    {
     "name": "stdout",
     "output_type": "stream",
     "text": [
      "   Drift Rate  Self-excitation Speed  Self-excitation Accuracy  \\\n",
      "0    1.986939               5.998356                   1.68251   \n",
      "\n",
      "   Boundary Separation  Non-decision Time Speed  Non-decision Time Accuracy  \\\n",
      "0             2.058939                 0.192112                    0.100741   \n",
      "\n",
      "        BIC  Frequency  Participant  \n",
      "0  0.056079          4            3  \n",
      "5\n",
      "3\n"
     ]
    },
    {
     "name": "stderr",
     "output_type": "stream",
     "text": [
      "Info: Params [2.25670596 6.09966509 2.1660168  2.08070054 0.18343678 0.20249328] gave -47.275109389037695\n"
     ]
    },
    {
     "name": "stdout",
     "output_type": "stream",
     "text": [
      "   Drift Rate  Self-excitation Speed  Self-excitation Accuracy  \\\n",
      "0    2.256706               6.099665                  2.166017   \n",
      "\n",
      "   Boundary Separation  Non-decision Time Speed  Non-decision Time Accuracy  \\\n",
      "0             2.080701                 0.183437                    0.202493   \n",
      "\n",
      "         BIC  Frequency  Participant  \n",
      "0 -47.275109          5            3  \n",
      "6\n",
      "3\n"
     ]
    },
    {
     "name": "stderr",
     "output_type": "stream",
     "text": [
      "Info: Params [2.35858554 5.48921327 0.78584466 1.23998001 0.2715438  0.29507107] gave -69.19927212895666\n"
     ]
    },
    {
     "name": "stdout",
     "output_type": "stream",
     "text": [
      "   Drift Rate  Self-excitation Speed  Self-excitation Accuracy  \\\n",
      "0    2.358586               5.489213                  0.785845   \n",
      "\n",
      "   Boundary Separation  Non-decision Time Speed  Non-decision Time Accuracy  \\\n",
      "0              1.23998                 0.271544                    0.295071   \n",
      "\n",
      "         BIC  Frequency  Participant  \n",
      "0 -69.199272          6            3  \n",
      "1\n",
      "4\n"
     ]
    },
    {
     "name": "stderr",
     "output_type": "stream",
     "text": [
      "Info: Params [ 3.79391036  9.23730085 -4.07384963  0.59081663  0.31876969  0.33128892] gave -311.80574961124745\n"
     ]
    },
    {
     "name": "stdout",
     "output_type": "stream",
     "text": [
      "   Drift Rate  Self-excitation Speed  Self-excitation Accuracy  \\\n",
      "0     3.79391               9.237301                  -4.07385   \n",
      "\n",
      "   Boundary Separation  Non-decision Time Speed  Non-decision Time Accuracy  \\\n",
      "0             0.590817                  0.31877                    0.331289   \n",
      "\n",
      "         BIC  Frequency  Participant  \n",
      "0 -311.80575          1            4  \n",
      "2\n",
      "4\n"
     ]
    },
    {
     "name": "stderr",
     "output_type": "stream",
     "text": [
      "Info: Params [2.77171275 8.51628909 0.88284373 0.69934517 0.31372941 0.34156356] gave -220.74111896995686\n"
     ]
    },
    {
     "name": "stdout",
     "output_type": "stream",
     "text": [
      "   Drift Rate  Self-excitation Speed  Self-excitation Accuracy  \\\n",
      "0    2.771713               8.516289                  0.882844   \n",
      "\n",
      "   Boundary Separation  Non-decision Time Speed  Non-decision Time Accuracy  \\\n",
      "0             0.699345                 0.313729                    0.341564   \n",
      "\n",
      "          BIC  Frequency  Participant  \n",
      "0 -220.741119          2            4  \n",
      "3\n",
      "4\n"
     ]
    },
    {
     "name": "stderr",
     "output_type": "stream",
     "text": [
      "Info: Params [ 1.84713751  6.50750115 -1.23459028  0.57259739  0.32379145  0.34718162] gave -90.59368672279805\n"
     ]
    },
    {
     "name": "stdout",
     "output_type": "stream",
     "text": [
      "   Drift Rate  Self-excitation Speed  Self-excitation Accuracy  \\\n",
      "0    1.847138               6.507501                  -1.23459   \n",
      "\n",
      "   Boundary Separation  Non-decision Time Speed  Non-decision Time Accuracy  \\\n",
      "0             0.572597                 0.323791                    0.347182   \n",
      "\n",
      "         BIC  Frequency  Participant  \n",
      "0 -90.593687          3            4  \n",
      "4\n",
      "4\n"
     ]
    },
    {
     "name": "stderr",
     "output_type": "stream",
     "text": [
      "Info: Params [ 3.14509475 10.          2.96760756  1.46893886  0.28193102  0.25515925] gave -240.7634541776845\n"
     ]
    },
    {
     "name": "stdout",
     "output_type": "stream",
     "text": [
      "   Drift Rate  Self-excitation Speed  Self-excitation Accuracy  \\\n",
      "0    3.145095                   10.0                  2.967608   \n",
      "\n",
      "   Boundary Separation  Non-decision Time Speed  Non-decision Time Accuracy  \\\n",
      "0             1.468939                 0.281931                    0.255159   \n",
      "\n",
      "          BIC  Frequency  Participant  \n",
      "0 -240.763454          4            4  \n",
      "5\n",
      "4\n"
     ]
    },
    {
     "name": "stderr",
     "output_type": "stream",
     "text": [
      "Info: Params [ 2.8643828   5.86955505 -3.52898373  0.56261356  0.32358175  0.35483695] gave -205.99744180858247\n"
     ]
    },
    {
     "name": "stdout",
     "output_type": "stream",
     "text": [
      "   Drift Rate  Self-excitation Speed  Self-excitation Accuracy  \\\n",
      "0    2.864383               5.869555                 -3.528984   \n",
      "\n",
      "   Boundary Separation  Non-decision Time Speed  Non-decision Time Accuracy  \\\n",
      "0             0.562614                 0.323582                    0.354837   \n",
      "\n",
      "          BIC  Frequency  Participant  \n",
      "0 -205.997442          5            4  \n",
      "6\n",
      "4\n"
     ]
    },
    {
     "name": "stderr",
     "output_type": "stream",
     "text": [
      "Info: Params [2.46396079 9.81761901 3.59291786 0.86551558 0.29138081 0.32423007] gave -195.19384219929987\n"
     ]
    },
    {
     "name": "stdout",
     "output_type": "stream",
     "text": [
      "   Drift Rate  Self-excitation Speed  Self-excitation Accuracy  \\\n",
      "0    2.463961               9.817619                  3.592918   \n",
      "\n",
      "   Boundary Separation  Non-decision Time Speed  Non-decision Time Accuracy  \\\n",
      "0             0.865516                 0.291381                     0.32423   \n",
      "\n",
      "          BIC  Frequency  Participant  \n",
      "0 -195.193842          6            4  \n",
      "1\n",
      "5\n"
     ]
    },
    {
     "name": "stderr",
     "output_type": "stream",
     "text": [
      "Info: Params [ 4.00074947  8.89414557 -2.74997387  0.76410584  0.30660632  0.36604486] gave -301.43543540074774\n"
     ]
    },
    {
     "name": "stdout",
     "output_type": "stream",
     "text": [
      "   Drift Rate  Self-excitation Speed  Self-excitation Accuracy  \\\n",
      "0    4.000749               8.894146                 -2.749974   \n",
      "\n",
      "   Boundary Separation  Non-decision Time Speed  Non-decision Time Accuracy  \\\n",
      "0             0.764106                 0.306606                    0.366045   \n",
      "\n",
      "          BIC  Frequency  Participant  \n",
      "0 -301.435435          1            5  \n",
      "2\n",
      "5\n"
     ]
    },
    {
     "name": "stderr",
     "output_type": "stream",
     "text": [
      "Info: Params [ 2.90274016 10.          6.56216913  2.33933337  0.24250412  0.32145185] gave -225.8177844530885\n"
     ]
    },
    {
     "name": "stdout",
     "output_type": "stream",
     "text": [
      "   Drift Rate  Self-excitation Speed  Self-excitation Accuracy  \\\n",
      "0     2.90274                   10.0                  6.562169   \n",
      "\n",
      "   Boundary Separation  Non-decision Time Speed  Non-decision Time Accuracy  \\\n",
      "0             2.339333                 0.242504                    0.321452   \n",
      "\n",
      "          BIC  Frequency  Participant  \n",
      "0 -225.817784          2            5  \n",
      "3\n",
      "5\n"
     ]
    },
    {
     "name": "stderr",
     "output_type": "stream",
     "text": [
      "Info: Params [2.5968396  8.22487054 4.75563766 0.99448997 0.31093202 0.41965354] gave -189.72273380022932\n"
     ]
    },
    {
     "name": "stdout",
     "output_type": "stream",
     "text": [
      "   Drift Rate  Self-excitation Speed  Self-excitation Accuracy  \\\n",
      "0     2.59684               8.224871                  4.755638   \n",
      "\n",
      "   Boundary Separation  Non-decision Time Speed  Non-decision Time Accuracy  \\\n",
      "0              0.99449                 0.310932                    0.419654   \n",
      "\n",
      "          BIC  Frequency  Participant  \n",
      "0 -189.722734          3            5  \n",
      "4\n",
      "5\n"
     ]
    },
    {
     "name": "stderr",
     "output_type": "stream",
     "text": [
      "Info: Params [3.61563609 7.89677992 4.22613716 2.02818663 0.25597914 0.32405846] gave -269.13589205141744\n"
     ]
    },
    {
     "name": "stdout",
     "output_type": "stream",
     "text": [
      "   Drift Rate  Self-excitation Speed  Self-excitation Accuracy  \\\n",
      "0    3.615636                7.89678                  4.226137   \n",
      "\n",
      "   Boundary Separation  Non-decision Time Speed  Non-decision Time Accuracy  \\\n",
      "0             2.028187                 0.255979                    0.324058   \n",
      "\n",
      "          BIC  Frequency  Participant  \n",
      "0 -269.135892          4            5  \n",
      "5\n",
      "5\n"
     ]
    },
    {
     "name": "stderr",
     "output_type": "stream",
     "text": [
      "Info: Params [ 2.93091019 10.          3.43958308  1.12995706  0.31500756  0.42241402] gave -219.55389449738763\n"
     ]
    },
    {
     "name": "stdout",
     "output_type": "stream",
     "text": [
      "   Drift Rate  Self-excitation Speed  Self-excitation Accuracy  \\\n",
      "0     2.93091                   10.0                  3.439583   \n",
      "\n",
      "   Boundary Separation  Non-decision Time Speed  Non-decision Time Accuracy  \\\n",
      "0             1.129957                 0.315008                    0.422414   \n",
      "\n",
      "          BIC  Frequency  Participant  \n",
      "0 -219.553894          5            5  \n",
      "6\n",
      "5\n"
     ]
    },
    {
     "name": "stderr",
     "output_type": "stream",
     "text": [
      "Info: Params [2.71320327 9.48629881 4.91635879 1.71927604 0.25242077 0.34064965] gave -205.68835326629917\n"
     ]
    },
    {
     "name": "stdout",
     "output_type": "stream",
     "text": [
      "   Drift Rate  Self-excitation Speed  Self-excitation Accuracy  \\\n",
      "0    2.713203               9.486299                  4.916359   \n",
      "\n",
      "   Boundary Separation  Non-decision Time Speed  Non-decision Time Accuracy  \\\n",
      "0             1.719276                 0.252421                     0.34065   \n",
      "\n",
      "          BIC  Frequency  Participant  \n",
      "0 -205.688353          6            5  \n",
      "1\n",
      "6\n"
     ]
    },
    {
     "name": "stderr",
     "output_type": "stream",
     "text": [
      "Info: Params [2.5772177  6.39841182 4.89923747 0.94564414 0.23402589 0.33892375] gave -189.84660424366177\n"
     ]
    },
    {
     "name": "stdout",
     "output_type": "stream",
     "text": [
      "   Drift Rate  Self-excitation Speed  Self-excitation Accuracy  \\\n",
      "0    2.577218               6.398412                  4.899237   \n",
      "\n",
      "   Boundary Separation  Non-decision Time Speed  Non-decision Time Accuracy  \\\n",
      "0             0.945644                 0.234026                    0.338924   \n",
      "\n",
      "          BIC  Frequency  Participant  \n",
      "0 -189.846604          1            6  \n",
      "2\n",
      "6\n"
     ]
    },
    {
     "name": "stderr",
     "output_type": "stream",
     "text": [
      "Info: Params [1.78456616 7.58371523 5.51672606 1.69425049 0.15599038 0.31104871] gave -76.47286236197523\n"
     ]
    },
    {
     "name": "stdout",
     "output_type": "stream",
     "text": [
      "   Drift Rate  Self-excitation Speed  Self-excitation Accuracy  \\\n",
      "0    1.784566               7.583715                  5.516726   \n",
      "\n",
      "   Boundary Separation  Non-decision Time Speed  Non-decision Time Accuracy  \\\n",
      "0              1.69425                  0.15599                    0.311049   \n",
      "\n",
      "         BIC  Frequency  Participant  \n",
      "0 -76.472862          2            6  \n",
      "3\n",
      "6\n"
     ]
    },
    {
     "name": "stderr",
     "output_type": "stream",
     "text": [
      "Info: Params [1.01459212 6.31258692 5.15079726 1.13086896 0.16979801 0.36542992] gave 32.16363434038905\n"
     ]
    },
    {
     "name": "stdout",
     "output_type": "stream",
     "text": [
      "   Drift Rate  Self-excitation Speed  Self-excitation Accuracy  \\\n",
      "0    1.014592               6.312587                  5.150797   \n",
      "\n",
      "   Boundary Separation  Non-decision Time Speed  Non-decision Time Accuracy  \\\n",
      "0             1.130869                 0.169798                     0.36543   \n",
      "\n",
      "         BIC  Frequency  Participant  \n",
      "0  32.163634          3            6  \n",
      "4\n",
      "6\n"
     ]
    },
    {
     "name": "stderr",
     "output_type": "stream",
     "text": [
      "Info: Params [1.69367135 6.99437108 4.04892387 1.565392   0.15450752 0.29446068] gave -27.292599034585706\n"
     ]
    },
    {
     "name": "stdout",
     "output_type": "stream",
     "text": [
      "   Drift Rate  Self-excitation Speed  Self-excitation Accuracy  \\\n",
      "0    1.693671               6.994371                  4.048924   \n",
      "\n",
      "   Boundary Separation  Non-decision Time Speed  Non-decision Time Accuracy  \\\n",
      "0             1.565392                 0.154508                    0.294461   \n",
      "\n",
      "         BIC  Frequency  Participant  \n",
      "0 -27.292599          4            6  \n",
      "5\n",
      "6\n"
     ]
    },
    {
     "name": "stderr",
     "output_type": "stream",
     "text": [
      "Info: Params [1.65537428 6.40960252 3.11559415 0.83968874 0.25022965 0.3694253 ] gave -37.029911737499\n"
     ]
    },
    {
     "name": "stdout",
     "output_type": "stream",
     "text": [
      "   Drift Rate  Self-excitation Speed  Self-excitation Accuracy  \\\n",
      "0    1.655374               6.409603                  3.115594   \n",
      "\n",
      "   Boundary Separation  Non-decision Time Speed  Non-decision Time Accuracy  \\\n",
      "0             0.839689                  0.25023                    0.369425   \n",
      "\n",
      "         BIC  Frequency  Participant  \n",
      "0 -37.029912          5            6  \n",
      "6\n",
      "6\n"
     ]
    },
    {
     "name": "stderr",
     "output_type": "stream",
     "text": [
      "Info: Params [1.56223959 4.88410919 4.7229217  1.28120685 0.12678106 0.29743794] gave -12.694732161879081\n"
     ]
    },
    {
     "name": "stdout",
     "output_type": "stream",
     "text": [
      "   Drift Rate  Self-excitation Speed  Self-excitation Accuracy  \\\n",
      "0     1.56224               4.884109                  4.722922   \n",
      "\n",
      "   Boundary Separation  Non-decision Time Speed  Non-decision Time Accuracy  \\\n",
      "0             1.281207                 0.126781                    0.297438   \n",
      "\n",
      "         BIC  Frequency  Participant  \n",
      "0 -12.694732          6            6  \n",
      "1\n",
      "7\n"
     ]
    },
    {
     "name": "stderr",
     "output_type": "stream",
     "text": [
      "Info: Params [1.08178528 6.08223072 5.42809653 1.3453801  0.11734269 0.20388068] gave 7.201270847297948\n"
     ]
    },
    {
     "name": "stdout",
     "output_type": "stream",
     "text": [
      "   Drift Rate  Self-excitation Speed  Self-excitation Accuracy  \\\n",
      "0    1.081785               6.082231                  5.428097   \n",
      "\n",
      "   Boundary Separation  Non-decision Time Speed  Non-decision Time Accuracy  \\\n",
      "0              1.34538                 0.117343                    0.203881   \n",
      "\n",
      "        BIC  Frequency  Participant  \n",
      "0  7.201271          1            7  \n",
      "2\n",
      "7\n"
     ]
    },
    {
     "name": "stderr",
     "output_type": "stream",
     "text": [
      "Info: Params [0.65761642 7.62337688 5.26629888 0.94508058 0.203797   0.28246948] gave 24.454993838886306\n"
     ]
    },
    {
     "name": "stdout",
     "output_type": "stream",
     "text": [
      "   Drift Rate  Self-excitation Speed  Self-excitation Accuracy  \\\n",
      "0    0.657616               7.623377                  5.266299   \n",
      "\n",
      "   Boundary Separation  Non-decision Time Speed  Non-decision Time Accuracy  \\\n",
      "0             0.945081                 0.203797                    0.282469   \n",
      "\n",
      "         BIC  Frequency  Participant  \n",
      "0  24.454994          2            7  \n",
      "3\n",
      "7\n"
     ]
    },
    {
     "name": "stderr",
     "output_type": "stream",
     "text": [
      "Info: Params [0.17444818 7.69781681 4.72858192 2.05556312 0.10184803 0.13339309] gave 93.74333656688435\n"
     ]
    },
    {
     "name": "stdout",
     "output_type": "stream",
     "text": [
      "   Drift Rate  Self-excitation Speed  Self-excitation Accuracy  \\\n",
      "0    0.174448               7.697817                  4.728582   \n",
      "\n",
      "   Boundary Separation  Non-decision Time Speed  Non-decision Time Accuracy  \\\n",
      "0             2.055563                 0.101848                    0.133393   \n",
      "\n",
      "         BIC  Frequency  Participant  \n",
      "0  93.743337          3            7  \n",
      "4\n",
      "7\n"
     ]
    },
    {
     "name": "stderr",
     "output_type": "stream",
     "text": [
      "Info: Params [1.68648304 6.92524556 3.42797112 1.27056155 0.18297466 0.24683224] gave -14.309911470521932\n"
     ]
    },
    {
     "name": "stdout",
     "output_type": "stream",
     "text": [
      "   Drift Rate  Self-excitation Speed  Self-excitation Accuracy  \\\n",
      "0    1.686483               6.925246                  3.427971   \n",
      "\n",
      "   Boundary Separation  Non-decision Time Speed  Non-decision Time Accuracy  \\\n",
      "0             1.270562                 0.182975                    0.246832   \n",
      "\n",
      "         BIC  Frequency  Participant  \n",
      "0 -14.309911          4            7  \n",
      "5\n",
      "7\n"
     ]
    },
    {
     "name": "stderr",
     "output_type": "stream",
     "text": [
      "Info: Params [1.74303008 7.13763551 4.94162543 1.44768257 0.16720512 0.26654789] gave -44.59457617877556\n"
     ]
    },
    {
     "name": "stdout",
     "output_type": "stream",
     "text": [
      "   Drift Rate  Self-excitation Speed  Self-excitation Accuracy  \\\n",
      "0     1.74303               7.137636                  4.941625   \n",
      "\n",
      "   Boundary Separation  Non-decision Time Speed  Non-decision Time Accuracy  \\\n",
      "0             1.447683                 0.167205                    0.266548   \n",
      "\n",
      "         BIC  Frequency  Participant  \n",
      "0 -44.594576          5            7  \n",
      "6\n",
      "7\n"
     ]
    },
    {
     "name": "stderr",
     "output_type": "stream",
     "text": [
      "Info: Params [1.84459344 6.21068178 3.67333816 1.00061308 0.21141203 0.2952204 ] gave -59.83252621621736\n"
     ]
    },
    {
     "name": "stdout",
     "output_type": "stream",
     "text": [
      "   Drift Rate  Self-excitation Speed  Self-excitation Accuracy  \\\n",
      "0    1.844593               6.210682                  3.673338   \n",
      "\n",
      "   Boundary Separation  Non-decision Time Speed  Non-decision Time Accuracy  \\\n",
      "0             1.000613                 0.211412                     0.29522   \n",
      "\n",
      "         BIC  Frequency  Participant  \n",
      "0 -59.832526          6            7  \n",
      "1\n",
      "8\n"
     ]
    },
    {
     "name": "stderr",
     "output_type": "stream",
     "text": [
      "Info: Params [1.47561747 4.98555853 2.01308779 1.34368313 0.112991   0.30684566] gave 87.70969500244826\n"
     ]
    },
    {
     "name": "stdout",
     "output_type": "stream",
     "text": [
      "   Drift Rate  Self-excitation Speed  Self-excitation Accuracy  \\\n",
      "0    1.475617               4.985559                  2.013088   \n",
      "\n",
      "   Boundary Separation  Non-decision Time Speed  Non-decision Time Accuracy  \\\n",
      "0             1.343683                 0.112991                    0.306846   \n",
      "\n",
      "         BIC  Frequency  Participant  \n",
      "0  87.709695          1            8  \n",
      "2\n",
      "8\n"
     ]
    },
    {
     "name": "stderr",
     "output_type": "stream",
     "text": [
      "Info: Params [0.64231378 5.42701678 1.83102562 1.44883712 0.10073231 0.27553509] gave 219.97263616771804\n"
     ]
    },
    {
     "name": "stdout",
     "output_type": "stream",
     "text": [
      "   Drift Rate  Self-excitation Speed  Self-excitation Accuracy  \\\n",
      "0    0.642314               5.427017                  1.831026   \n",
      "\n",
      "   Boundary Separation  Non-decision Time Speed  Non-decision Time Accuracy  \\\n",
      "0             1.448837                 0.100732                    0.275535   \n",
      "\n",
      "          BIC  Frequency  Participant  \n",
      "0  219.972636          2            8  \n",
      "3\n",
      "8\n"
     ]
    },
    {
     "name": "stderr",
     "output_type": "stream",
     "text": [
      "Info: Params [0.26826782 5.41877603 2.07437632 1.65761028 0.10020658 0.18377501] gave 261.24196609918897\n"
     ]
    },
    {
     "name": "stdout",
     "output_type": "stream",
     "text": [
      "   Drift Rate  Self-excitation Speed  Self-excitation Accuracy  \\\n",
      "0    0.268268               5.418776                  2.074376   \n",
      "\n",
      "   Boundary Separation  Non-decision Time Speed  Non-decision Time Accuracy  \\\n",
      "0              1.65761                 0.100207                    0.183775   \n",
      "\n",
      "          BIC  Frequency  Participant  \n",
      "0  261.241966          3            8  \n",
      "4\n",
      "8\n"
     ]
    },
    {
     "name": "stderr",
     "output_type": "stream",
     "text": [
      "Info: Params [0.89328972 5.36454056 1.28110567 1.5952757  0.10227731 0.16332824] gave 235.43268613713929\n"
     ]
    },
    {
     "name": "stdout",
     "output_type": "stream",
     "text": [
      "   Drift Rate  Self-excitation Speed  Self-excitation Accuracy  \\\n",
      "0     0.89329               5.364541                  1.281106   \n",
      "\n",
      "   Boundary Separation  Non-decision Time Speed  Non-decision Time Accuracy  \\\n",
      "0             1.595276                 0.102277                    0.163328   \n",
      "\n",
      "          BIC  Frequency  Participant  \n",
      "0  235.432686          4            8  \n",
      "5\n",
      "8\n"
     ]
    },
    {
     "name": "stderr",
     "output_type": "stream",
     "text": [
      "Info: Params [1.02670798 5.91423857 1.35322166 1.80438346 0.10015773 0.10035445] gave 186.63082937147723\n"
     ]
    },
    {
     "name": "stdout",
     "output_type": "stream",
     "text": [
      "   Drift Rate  Self-excitation Speed  Self-excitation Accuracy  \\\n",
      "0    1.026708               5.914239                  1.353222   \n",
      "\n",
      "   Boundary Separation  Non-decision Time Speed  Non-decision Time Accuracy  \\\n",
      "0             1.804383                 0.100158                    0.100354   \n",
      "\n",
      "          BIC  Frequency  Participant  \n",
      "0  186.630829          5            8  \n",
      "6\n",
      "8\n"
     ]
    },
    {
     "name": "stderr",
     "output_type": "stream",
     "text": [
      "Info: Params [0.97078185 5.71548517 0.98768984 1.4874328  0.13914557 0.10180012] gave 210.33246454768798\n"
     ]
    },
    {
     "name": "stdout",
     "output_type": "stream",
     "text": [
      "   Drift Rate  Self-excitation Speed  Self-excitation Accuracy  \\\n",
      "0    0.970782               5.715485                   0.98769   \n",
      "\n",
      "   Boundary Separation  Non-decision Time Speed  Non-decision Time Accuracy  \\\n",
      "0             1.487433                 0.139146                      0.1018   \n",
      "\n",
      "          BIC  Frequency  Participant  \n",
      "0  210.332465          6            8  \n",
      "1\n",
      "9\n"
     ]
    },
    {
     "name": "stderr",
     "output_type": "stream",
     "text": [
      "Info: Params [ 3.02988202 10.          3.37924935  1.2829015   0.32476384  0.34446481] gave -259.254818572697\n"
     ]
    },
    {
     "name": "stdout",
     "output_type": "stream",
     "text": [
      "   Drift Rate  Self-excitation Speed  Self-excitation Accuracy  \\\n",
      "0    3.029882                   10.0                  3.379249   \n",
      "\n",
      "   Boundary Separation  Non-decision Time Speed  Non-decision Time Accuracy  \\\n",
      "0             1.282902                 0.324764                    0.344465   \n",
      "\n",
      "          BIC  Frequency  Participant  \n",
      "0 -259.254819          1            9  \n",
      "2\n",
      "9\n"
     ]
    },
    {
     "name": "stderr",
     "output_type": "stream",
     "text": [
      "Info: Params [ 1.92525993  8.90482511 -5.13355127  0.60949791  0.37880366  0.41272417] gave -33.530948081362084\n"
     ]
    },
    {
     "name": "stdout",
     "output_type": "stream",
     "text": [
      "   Drift Rate  Self-excitation Speed  Self-excitation Accuracy  \\\n",
      "0     1.92526               8.904825                 -5.133551   \n",
      "\n",
      "   Boundary Separation  Non-decision Time Speed  Non-decision Time Accuracy  \\\n",
      "0             0.609498                 0.378804                    0.412724   \n",
      "\n",
      "         BIC  Frequency  Participant  \n",
      "0 -33.530948          2            9  \n",
      "3\n",
      "9\n"
     ]
    },
    {
     "name": "stderr",
     "output_type": "stream",
     "text": [
      "Info: Params [ 1.1980897  10.          2.45966104  1.10765808  0.34629427  0.35764855] gave 30.434464158960225\n"
     ]
    },
    {
     "name": "stdout",
     "output_type": "stream",
     "text": [
      "   Drift Rate  Self-excitation Speed  Self-excitation Accuracy  \\\n",
      "0     1.19809                   10.0                  2.459661   \n",
      "\n",
      "   Boundary Separation  Non-decision Time Speed  Non-decision Time Accuracy  \\\n",
      "0             1.107658                 0.346294                    0.357649   \n",
      "\n",
      "         BIC  Frequency  Participant  \n",
      "0  30.434464          3            9  \n",
      "4\n",
      "9\n"
     ]
    },
    {
     "name": "stderr",
     "output_type": "stream",
     "text": [
      "Info: Params [ 2.78833011 -0.02432325 -9.8980074   0.50629144  0.37650169  0.44380014] gave -123.14012925872463\n"
     ]
    },
    {
     "name": "stdout",
     "output_type": "stream",
     "text": [
      "   Drift Rate  Self-excitation Speed  Self-excitation Accuracy  \\\n",
      "0     2.78833              -0.024323                 -9.898007   \n",
      "\n",
      "   Boundary Separation  Non-decision Time Speed  Non-decision Time Accuracy  \\\n",
      "0             0.506291                 0.376502                      0.4438   \n",
      "\n",
      "          BIC  Frequency  Participant  \n",
      "0 -123.140129          4            9  \n",
      "5\n",
      "9\n"
     ]
    },
    {
     "name": "stderr",
     "output_type": "stream",
     "text": [
      "Info: Params [2.10446799 9.73369067 3.02877411 3.25842845 0.24497293 0.10120292] gave -75.82074876076877\n"
     ]
    },
    {
     "name": "stdout",
     "output_type": "stream",
     "text": [
      "   Drift Rate  Self-excitation Speed  Self-excitation Accuracy  \\\n",
      "0    2.104468               9.733691                  3.028774   \n",
      "\n",
      "   Boundary Separation  Non-decision Time Speed  Non-decision Time Accuracy  \\\n",
      "0             3.258428                 0.244973                    0.101203   \n",
      "\n",
      "         BIC  Frequency  Participant  \n",
      "0 -75.820749          5            9  \n",
      "6\n",
      "9\n"
     ]
    },
    {
     "name": "stderr",
     "output_type": "stream",
     "text": [
      "Info: Params [ 3.04233862  4.57709057 -9.30502396  0.53276968  0.39485301  0.43624926] gave -169.2101796939859\n"
     ]
    },
    {
     "name": "stdout",
     "output_type": "stream",
     "text": [
      "   Drift Rate  Self-excitation Speed  Self-excitation Accuracy  \\\n",
      "0    3.042339               4.577091                 -9.305024   \n",
      "\n",
      "   Boundary Separation  Non-decision Time Speed  Non-decision Time Accuracy  \\\n",
      "0              0.53277                 0.394853                    0.436249   \n",
      "\n",
      "         BIC  Frequency  Participant  \n",
      "0 -169.21018          6            9  \n",
      "1\n",
      "10\n"
     ]
    },
    {
     "name": "stderr",
     "output_type": "stream",
     "text": [
      "Info: Params [3.13442883 5.9541925  3.62399407 0.76296057 0.27874412 0.35280914] gave -534.2161418907058\n"
     ]
    },
    {
     "name": "stdout",
     "output_type": "stream",
     "text": [
      "   Drift Rate  Self-excitation Speed  Self-excitation Accuracy  \\\n",
      "0    3.134429               5.954193                  3.623994   \n",
      "\n",
      "   Boundary Separation  Non-decision Time Speed  Non-decision Time Accuracy  \\\n",
      "0             0.762961                 0.278744                    0.352809   \n",
      "\n",
      "          BIC  Frequency  Participant  \n",
      "0 -534.216142          1           10  \n",
      "2\n",
      "10\n"
     ]
    },
    {
     "name": "stderr",
     "output_type": "stream",
     "text": [
      "Info: Params [1.98606706 6.98669758 3.53236483 0.99852852 0.25363732 0.32952326] gave -218.02023574449134\n"
     ]
    },
    {
     "name": "stdout",
     "output_type": "stream",
     "text": [
      "   Drift Rate  Self-excitation Speed  Self-excitation Accuracy  \\\n",
      "0    1.986067               6.986698                  3.532365   \n",
      "\n",
      "   Boundary Separation  Non-decision Time Speed  Non-decision Time Accuracy  \\\n",
      "0             0.998529                 0.253637                    0.329523   \n",
      "\n",
      "          BIC  Frequency  Participant  \n",
      "0 -218.020236          2           10  \n",
      "3\n",
      "10\n"
     ]
    },
    {
     "name": "stderr",
     "output_type": "stream",
     "text": [
      "Info: Params [1.25472132 7.47739025 3.96148334 0.83868214 0.26059604 0.35155377] gave -51.126813517772334\n"
     ]
    },
    {
     "name": "stdout",
     "output_type": "stream",
     "text": [
      "   Drift Rate  Self-excitation Speed  Self-excitation Accuracy  \\\n",
      "0    1.254721                7.47739                  3.961483   \n",
      "\n",
      "   Boundary Separation  Non-decision Time Speed  Non-decision Time Accuracy  \\\n",
      "0             0.838682                 0.260596                    0.351554   \n",
      "\n",
      "         BIC  Frequency  Participant  \n",
      "0 -51.126814          3           10  \n",
      "4\n",
      "10\n"
     ]
    },
    {
     "name": "stderr",
     "output_type": "stream",
     "text": [
      "Info: Params [2.23589405 5.18513903 1.71630176 0.86185755 0.2463067  0.33328162] gave -222.76575122093615\n"
     ]
    },
    {
     "name": "stdout",
     "output_type": "stream",
     "text": [
      "   Drift Rate  Self-excitation Speed  Self-excitation Accuracy  \\\n",
      "0    2.235894               5.185139                  1.716302   \n",
      "\n",
      "   Boundary Separation  Non-decision Time Speed  Non-decision Time Accuracy  \\\n",
      "0             0.861858                 0.246307                    0.333282   \n",
      "\n",
      "          BIC  Frequency  Participant  \n",
      "0 -222.765751          4           10  \n",
      "5\n",
      "10\n"
     ]
    },
    {
     "name": "stderr",
     "output_type": "stream",
     "text": [
      "Info: Params [2.34447711 6.7042761  2.7067271  1.48263622 0.20355694 0.26694415] gave -234.95546901744837\n"
     ]
    },
    {
     "name": "stdout",
     "output_type": "stream",
     "text": [
      "   Drift Rate  Self-excitation Speed  Self-excitation Accuracy  \\\n",
      "0    2.344477               6.704276                  2.706727   \n",
      "\n",
      "   Boundary Separation  Non-decision Time Speed  Non-decision Time Accuracy  \\\n",
      "0             1.482636                 0.203557                    0.266944   \n",
      "\n",
      "          BIC  Frequency  Participant  \n",
      "0 -234.955469          5           10  \n",
      "6\n",
      "10\n"
     ]
    },
    {
     "name": "stderr",
     "output_type": "stream",
     "text": [
      "Info: Params [2.57730797 4.91834286 1.05907856 0.85652581 0.25216463 0.33611758] gave -295.3431090369902\n"
     ]
    },
    {
     "name": "stdout",
     "output_type": "stream",
     "text": [
      "   Drift Rate  Self-excitation Speed  Self-excitation Accuracy  \\\n",
      "0    2.577308               4.918343                  1.059079   \n",
      "\n",
      "   Boundary Separation  Non-decision Time Speed  Non-decision Time Accuracy  \\\n",
      "0             0.856526                 0.252165                    0.336118   \n",
      "\n",
      "          BIC  Frequency  Participant  \n",
      "0 -295.343109          6           10  \n",
      "1\n",
      "11\n"
     ]
    },
    {
     "name": "stderr",
     "output_type": "stream",
     "text": [
      "Info: Params [3.58584696 6.54183455 1.7907499  0.67765517 0.328849   0.36016921] gave -636.3711578581942\n"
     ]
    },
    {
     "name": "stdout",
     "output_type": "stream",
     "text": [
      "   Drift Rate  Self-excitation Speed  Self-excitation Accuracy  \\\n",
      "0    3.585847               6.541835                   1.79075   \n",
      "\n",
      "   Boundary Separation  Non-decision Time Speed  Non-decision Time Accuracy  \\\n",
      "0             0.677655                 0.328849                    0.360169   \n",
      "\n",
      "          BIC  Frequency  Participant  \n",
      "0 -636.371158          1           11  \n",
      "2\n",
      "11\n"
     ]
    },
    {
     "name": "stderr",
     "output_type": "stream",
     "text": [
      "Info: Params [1.68946928 8.53263106 5.54470129 0.85753317 0.31541211 0.37320237] gave -228.0483103168641\n"
     ]
    },
    {
     "name": "stdout",
     "output_type": "stream",
     "text": [
      "   Drift Rate  Self-excitation Speed  Self-excitation Accuracy  \\\n",
      "0    1.689469               8.532631                  5.544701   \n",
      "\n",
      "   Boundary Separation  Non-decision Time Speed  Non-decision Time Accuracy  \\\n",
      "0             0.857533                 0.315412                    0.373202   \n",
      "\n",
      "         BIC  Frequency  Participant  \n",
      "0 -228.04831          2           11  \n",
      "3\n",
      "11\n"
     ]
    },
    {
     "name": "stderr",
     "output_type": "stream",
     "text": [
      "Info: Params [ 1.2015853  10.          4.9230825   1.19203349  0.28481788  0.3237072 ] gave -71.75830098224748\n"
     ]
    },
    {
     "name": "stdout",
     "output_type": "stream",
     "text": [
      "   Drift Rate  Self-excitation Speed  Self-excitation Accuracy  \\\n",
      "0    1.201585                   10.0                  4.923082   \n",
      "\n",
      "   Boundary Separation  Non-decision Time Speed  Non-decision Time Accuracy  \\\n",
      "0             1.192033                 0.284818                    0.323707   \n",
      "\n",
      "         BIC  Frequency  Participant  \n",
      "0 -71.758301          3           11  \n",
      "4\n",
      "11\n"
     ]
    },
    {
     "name": "stderr",
     "output_type": "stream",
     "text": [
      "Info: Params [1.80488955 8.30654231 4.15487768 1.30515988 0.28038754 0.30348478] gave -176.51837359937178\n"
     ]
    },
    {
     "name": "stdout",
     "output_type": "stream",
     "text": [
      "   Drift Rate  Self-excitation Speed  Self-excitation Accuracy  \\\n",
      "0     1.80489               8.306542                  4.154878   \n",
      "\n",
      "   Boundary Separation  Non-decision Time Speed  Non-decision Time Accuracy  \\\n",
      "0              1.30516                 0.280388                    0.303485   \n",
      "\n",
      "          BIC  Frequency  Participant  \n",
      "0 -176.518374          4           11  \n",
      "5\n",
      "11\n"
     ]
    },
    {
     "name": "stderr",
     "output_type": "stream",
     "text": [
      "Info: Params [2.34908727 7.87462579 2.41866388 0.93204942 0.3125185  0.36590354] gave -296.3526218059925\n"
     ]
    },
    {
     "name": "stdout",
     "output_type": "stream",
     "text": [
      "   Drift Rate  Self-excitation Speed  Self-excitation Accuracy  \\\n",
      "0    2.349087               7.874626                  2.418664   \n",
      "\n",
      "   Boundary Separation  Non-decision Time Speed  Non-decision Time Accuracy  \\\n",
      "0             0.932049                 0.312519                    0.365904   \n",
      "\n",
      "          BIC  Frequency  Participant  \n",
      "0 -296.352622          5           11  \n",
      "6\n",
      "11\n"
     ]
    },
    {
     "name": "stderr",
     "output_type": "stream",
     "text": [
      "Info: Params [2.30252539 6.53292721 1.11510299 0.74968501 0.3341974  0.3698032 ] gave -283.15013942631583\n"
     ]
    },
    {
     "name": "stdout",
     "output_type": "stream",
     "text": [
      "   Drift Rate  Self-excitation Speed  Self-excitation Accuracy  \\\n",
      "0    2.302525               6.532927                  1.115103   \n",
      "\n",
      "   Boundary Separation  Non-decision Time Speed  Non-decision Time Accuracy  \\\n",
      "0             0.749685                 0.334197                    0.369803   \n",
      "\n",
      "          BIC  Frequency  Participant  \n",
      "0 -283.150139          6           11  \n",
      "1\n",
      "12\n"
     ]
    },
    {
     "name": "stderr",
     "output_type": "stream",
     "text": [
      "Info: Params [2.17339389 4.22208964 3.40041555 1.27732672 0.18617628 0.24893108] gave -188.3606716988699\n"
     ]
    },
    {
     "name": "stdout",
     "output_type": "stream",
     "text": [
      "   Drift Rate  Self-excitation Speed  Self-excitation Accuracy  \\\n",
      "0    2.173394                4.22209                  3.400416   \n",
      "\n",
      "   Boundary Separation  Non-decision Time Speed  Non-decision Time Accuracy  \\\n",
      "0             1.277327                 0.186176                    0.248931   \n",
      "\n",
      "          BIC  Frequency  Participant  \n",
      "0 -188.360672          1           12  \n",
      "2\n",
      "12\n"
     ]
    },
    {
     "name": "stderr",
     "output_type": "stream",
     "text": [
      "Info: Params [1.23962578 6.64831246 2.65365502 1.01815854 0.27757595 0.30932964] gave 50.37035301738958\n"
     ]
    },
    {
     "name": "stdout",
     "output_type": "stream",
     "text": [
      "   Drift Rate  Self-excitation Speed  Self-excitation Accuracy  \\\n",
      "0    1.239626               6.648312                  2.653655   \n",
      "\n",
      "   Boundary Separation  Non-decision Time Speed  Non-decision Time Accuracy  \\\n",
      "0             1.018159                 0.277576                     0.30933   \n",
      "\n",
      "         BIC  Frequency  Participant  \n",
      "0  50.370353          2           12  \n",
      "3\n",
      "12\n"
     ]
    },
    {
     "name": "stderr",
     "output_type": "stream",
     "text": [
      "Info: Params [0.65722731 6.82155976 2.44221561 1.03646188 0.24636403 0.26979285] gave 218.04844793931892\n"
     ]
    },
    {
     "name": "stdout",
     "output_type": "stream",
     "text": [
      "   Drift Rate  Self-excitation Speed  Self-excitation Accuracy  \\\n",
      "0    0.657227                6.82156                  2.442216   \n",
      "\n",
      "   Boundary Separation  Non-decision Time Speed  Non-decision Time Accuracy  \\\n",
      "0             1.036462                 0.246364                    0.269793   \n",
      "\n",
      "          BIC  Frequency  Participant  \n",
      "0  218.048448          3           12  \n",
      "4\n",
      "12\n"
     ]
    },
    {
     "name": "stderr",
     "output_type": "stream",
     "text": [
      "Info: Params [1.48257331 4.12016883 3.06238772 1.79349376 0.13045856 0.17223562] gave 127.92726092449274\n"
     ]
    },
    {
     "name": "stdout",
     "output_type": "stream",
     "text": [
      "   Drift Rate  Self-excitation Speed  Self-excitation Accuracy  \\\n",
      "0    1.482573               4.120169                  3.062388   \n",
      "\n",
      "   Boundary Separation  Non-decision Time Speed  Non-decision Time Accuracy  \\\n",
      "0             1.793494                 0.130459                    0.172236   \n",
      "\n",
      "          BIC  Frequency  Participant  \n",
      "0  127.927261          4           12  \n",
      "5\n",
      "12\n"
     ]
    },
    {
     "name": "stderr",
     "output_type": "stream",
     "text": [
      "Info: Params [1.48607522 5.6738453  3.05441831 2.51155144 0.11729326 0.10220257] gave 75.19231873913817\n"
     ]
    },
    {
     "name": "stdout",
     "output_type": "stream",
     "text": [
      "   Drift Rate  Self-excitation Speed  Self-excitation Accuracy  \\\n",
      "0    1.486075               5.673845                  3.054418   \n",
      "\n",
      "   Boundary Separation  Non-decision Time Speed  Non-decision Time Accuracy  \\\n",
      "0             2.511551                 0.117293                    0.102203   \n",
      "\n",
      "         BIC  Frequency  Participant  \n",
      "0  75.192319          5           12  \n",
      "6\n",
      "12\n"
     ]
    },
    {
     "name": "stderr",
     "output_type": "stream",
     "text": [
      "Info: Params [1.54560946 5.4900689  2.60904227 2.03844701 0.17110581 0.11786685] gave 75.862705019808\n"
     ]
    },
    {
     "name": "stdout",
     "output_type": "stream",
     "text": [
      "   Drift Rate  Self-excitation Speed  Self-excitation Accuracy  \\\n",
      "0    1.545609               5.490069                  2.609042   \n",
      "\n",
      "   Boundary Separation  Non-decision Time Speed  Non-decision Time Accuracy  \\\n",
      "0             2.038447                 0.171106                    0.117867   \n",
      "\n",
      "         BIC  Frequency  Participant  \n",
      "0  75.862705          6           12  \n",
      "1\n",
      "13\n"
     ]
    },
    {
     "name": "stderr",
     "output_type": "stream",
     "text": [
      "Info: Params [1.89939233 6.47671396 1.99630001 1.08246499 0.28272857 0.3022823 ] gave -94.36812104737541\n"
     ]
    },
    {
     "name": "stdout",
     "output_type": "stream",
     "text": [
      "   Drift Rate  Self-excitation Speed  Self-excitation Accuracy  \\\n",
      "0    1.899392               6.476714                    1.9963   \n",
      "\n",
      "   Boundary Separation  Non-decision Time Speed  Non-decision Time Accuracy  \\\n",
      "0             1.082465                 0.282729                    0.302282   \n",
      "\n",
      "         BIC  Frequency  Participant  \n",
      "0 -94.368121          1           13  \n",
      "2\n",
      "13\n"
     ]
    },
    {
     "name": "stderr",
     "output_type": "stream",
     "text": [
      "Info: Params [1.50292362 6.41677933 2.00973412 0.97882332 0.3089498  0.36931723] gave 5.688349490668081\n"
     ]
    },
    {
     "name": "stdout",
     "output_type": "stream",
     "text": [
      "   Drift Rate  Self-excitation Speed  Self-excitation Accuracy  \\\n",
      "0    1.502924               6.416779                  2.009734   \n",
      "\n",
      "   Boundary Separation  Non-decision Time Speed  Non-decision Time Accuracy  \\\n",
      "0             0.978823                  0.30895                    0.369317   \n",
      "\n",
      "        BIC  Frequency  Participant  \n",
      "0  5.688349          2           13  \n",
      "3\n",
      "13\n"
     ]
    },
    {
     "name": "stderr",
     "output_type": "stream",
     "text": [
      "Info: Params [0.68457174 6.83371865 2.80026957 1.34756267 0.26877209 0.27043144] gave 243.98897729907017\n"
     ]
    },
    {
     "name": "stdout",
     "output_type": "stream",
     "text": [
      "   Drift Rate  Self-excitation Speed  Self-excitation Accuracy  \\\n",
      "0    0.684572               6.833719                   2.80027   \n",
      "\n",
      "   Boundary Separation  Non-decision Time Speed  Non-decision Time Accuracy  \\\n",
      "0             1.347563                 0.268772                    0.270431   \n",
      "\n",
      "          BIC  Frequency  Participant  \n",
      "0  243.988977          3           13  \n",
      "4\n",
      "13\n"
     ]
    },
    {
     "name": "stderr",
     "output_type": "stream",
     "text": [
      "Info: Params [1.51066854 6.13610109 1.73343809 1.18360889 0.28302988 0.30798278] gave 70.09854629463442\n"
     ]
    },
    {
     "name": "stdout",
     "output_type": "stream",
     "text": [
      "   Drift Rate  Self-excitation Speed  Self-excitation Accuracy  \\\n",
      "0    1.510669               6.136101                  1.733438   \n",
      "\n",
      "   Boundary Separation  Non-decision Time Speed  Non-decision Time Accuracy  \\\n",
      "0             1.183609                  0.28303                    0.307983   \n",
      "\n",
      "         BIC  Frequency  Participant  \n",
      "0  70.098546          4           13  \n",
      "5\n",
      "13\n"
     ]
    },
    {
     "name": "stderr",
     "output_type": "stream",
     "text": [
      "Info: Params [1.64260392 5.56556311 1.65473244 1.12566827 0.28801948 0.34220462] gave 33.9164543133393\n"
     ]
    },
    {
     "name": "stdout",
     "output_type": "stream",
     "text": [
      "   Drift Rate  Self-excitation Speed  Self-excitation Accuracy  \\\n",
      "0    1.642604               5.565563                  1.654732   \n",
      "\n",
      "   Boundary Separation  Non-decision Time Speed  Non-decision Time Accuracy  \\\n",
      "0             1.125668                 0.288019                    0.342205   \n",
      "\n",
      "         BIC  Frequency  Participant  \n",
      "0  33.916454          5           13  \n",
      "6\n",
      "13\n"
     ]
    },
    {
     "name": "stderr",
     "output_type": "stream",
     "text": [
      "Info: Params [1.52205648 3.1142256  2.4499247  1.16490758 0.22996701 0.31558445] gave 88.75853193989076\n"
     ]
    },
    {
     "name": "stdout",
     "output_type": "stream",
     "text": [
      "   Drift Rate  Self-excitation Speed  Self-excitation Accuracy  \\\n",
      "0    1.522056               3.114226                  2.449925   \n",
      "\n",
      "   Boundary Separation  Non-decision Time Speed  Non-decision Time Accuracy  \\\n",
      "0             1.164908                 0.229967                    0.315584   \n",
      "\n",
      "         BIC  Frequency  Participant  \n",
      "0  88.758532          6           13  \n",
      "1\n",
      "14\n"
     ]
    },
    {
     "name": "stderr",
     "output_type": "stream",
     "text": [
      "Info: Params [2.59739912 6.49847194 2.64129698 1.79901903 0.19978989 0.2214992 ] gave -306.05175756653387\n"
     ]
    },
    {
     "name": "stdout",
     "output_type": "stream",
     "text": [
      "   Drift Rate  Self-excitation Speed  Self-excitation Accuracy  \\\n",
      "0    2.597399               6.498472                  2.641297   \n",
      "\n",
      "   Boundary Separation  Non-decision Time Speed  Non-decision Time Accuracy  \\\n",
      "0             1.799019                  0.19979                    0.221499   \n",
      "\n",
      "          BIC  Frequency  Participant  \n",
      "0 -306.051758          1           14  \n",
      "2\n",
      "14\n"
     ]
    },
    {
     "name": "stderr",
     "output_type": "stream",
     "text": [
      "Info: Params [1.83096398 6.64672599 2.36931179 1.36010185 0.25577774 0.30227907] gave -33.94194906851436\n"
     ]
    },
    {
     "name": "stdout",
     "output_type": "stream",
     "text": [
      "   Drift Rate  Self-excitation Speed  Self-excitation Accuracy  \\\n",
      "0    1.830964               6.646726                  2.369312   \n",
      "\n",
      "   Boundary Separation  Non-decision Time Speed  Non-decision Time Accuracy  \\\n",
      "0             1.360102                 0.255778                    0.302279   \n",
      "\n",
      "         BIC  Frequency  Participant  \n",
      "0 -33.941949          2           14  \n",
      "3\n",
      "14\n"
     ]
    },
    {
     "name": "stderr",
     "output_type": "stream",
     "text": [
      "Info: Params [1.31177224 7.45751974 2.30612834 1.80827005 0.24378179 0.2006812 ] gave 152.12380207511728\n"
     ]
    },
    {
     "name": "stdout",
     "output_type": "stream",
     "text": [
      "   Drift Rate  Self-excitation Speed  Self-excitation Accuracy  \\\n",
      "0    1.311772                7.45752                  2.306128   \n",
      "\n",
      "   Boundary Separation  Non-decision Time Speed  Non-decision Time Accuracy  \\\n",
      "0              1.80827                 0.243782                    0.200681   \n",
      "\n",
      "          BIC  Frequency  Participant  \n",
      "0  152.123802          3           14  \n",
      "4\n",
      "14\n"
     ]
    },
    {
     "name": "stderr",
     "output_type": "stream",
     "text": [
      "Info: Params [2.04104516 3.9101803  1.23805824 1.13452841 0.31217997 0.39546016] gave -111.96147210898843\n"
     ]
    },
    {
     "name": "stdout",
     "output_type": "stream",
     "text": [
      "   Drift Rate  Self-excitation Speed  Self-excitation Accuracy  \\\n",
      "0    2.041045                3.91018                  1.238058   \n",
      "\n",
      "   Boundary Separation  Non-decision Time Speed  Non-decision Time Accuracy  \\\n",
      "0             1.134528                  0.31218                     0.39546   \n",
      "\n",
      "          BIC  Frequency  Participant  \n",
      "0 -111.961472          4           14  \n",
      "5\n",
      "14\n"
     ]
    },
    {
     "name": "stderr",
     "output_type": "stream",
     "text": [
      "Info: Params [1.43905507 5.87297986 0.95394439 1.88592404 0.21386234 0.10288806] gave 187.06698976094356\n"
     ]
    },
    {
     "name": "stdout",
     "output_type": "stream",
     "text": [
      "   Drift Rate  Self-excitation Speed  Self-excitation Accuracy  \\\n",
      "0    1.439055                5.87298                  0.953944   \n",
      "\n",
      "   Boundary Separation  Non-decision Time Speed  Non-decision Time Accuracy  \\\n",
      "0             1.885924                 0.213862                    0.102888   \n",
      "\n",
      "         BIC  Frequency  Participant  \n",
      "0  187.06699          5           14  \n",
      "6\n",
      "14\n"
     ]
    },
    {
     "name": "stderr",
     "output_type": "stream",
     "text": [
      "Info: Params [ 2.00529305  3.14950817 -4.91133677  0.69675128  0.33069981  0.45229511] gave 31.482448094544516\n"
     ]
    },
    {
     "name": "stdout",
     "output_type": "stream",
     "text": [
      "   Drift Rate  Self-excitation Speed  Self-excitation Accuracy  \\\n",
      "0    2.005293               3.149508                 -4.911337   \n",
      "\n",
      "   Boundary Separation  Non-decision Time Speed  Non-decision Time Accuracy  \\\n",
      "0             0.696751                   0.3307                    0.452295   \n",
      "\n",
      "         BIC  Frequency  Participant  \n",
      "0  31.482448          6           14  \n",
      "1\n",
      "15\n"
     ]
    },
    {
     "name": "stderr",
     "output_type": "stream",
     "text": [
      "Info: Params [2.26817397 6.81408999 1.40687217 1.20937581 0.27821031 0.32597793] gave -197.13811302750446\n"
     ]
    },
    {
     "name": "stdout",
     "output_type": "stream",
     "text": [
      "   Drift Rate  Self-excitation Speed  Self-excitation Accuracy  \\\n",
      "0    2.268174                6.81409                  1.406872   \n",
      "\n",
      "   Boundary Separation  Non-decision Time Speed  Non-decision Time Accuracy  \\\n",
      "0             1.209376                  0.27821                    0.325978   \n",
      "\n",
      "          BIC  Frequency  Participant  \n",
      "0 -197.138113          1           15  \n",
      "2\n",
      "15\n"
     ]
    },
    {
     "name": "stderr",
     "output_type": "stream",
     "text": [
      "Info: Params [1.85266938 6.27667625 2.4724008  1.74200431 0.23088485 0.30203523] gave -40.67476918837257\n"
     ]
    },
    {
     "name": "stdout",
     "output_type": "stream",
     "text": [
      "   Drift Rate  Self-excitation Speed  Self-excitation Accuracy  \\\n",
      "0    1.852669               6.276676                  2.472401   \n",
      "\n",
      "   Boundary Separation  Non-decision Time Speed  Non-decision Time Accuracy  \\\n",
      "0             1.742004                 0.230885                    0.302035   \n",
      "\n",
      "         BIC  Frequency  Participant  \n",
      "0 -40.674769          2           15  \n",
      "3\n",
      "15\n"
     ]
    },
    {
     "name": "stderr",
     "output_type": "stream",
     "text": [
      "Info: Params [1.04450311 8.15103938 2.52158894 1.7350436  0.2475012  0.29497953] gave 142.08579613708656\n"
     ]
    },
    {
     "name": "stdout",
     "output_type": "stream",
     "text": [
      "   Drift Rate  Self-excitation Speed  Self-excitation Accuracy  \\\n",
      "0    1.044503               8.151039                  2.521589   \n",
      "\n",
      "   Boundary Separation  Non-decision Time Speed  Non-decision Time Accuracy  \\\n",
      "0             1.735044                 0.247501                     0.29498   \n",
      "\n",
      "          BIC  Frequency  Participant  \n",
      "0  142.085796          3           15  \n",
      "4\n",
      "15\n"
     ]
    },
    {
     "name": "stderr",
     "output_type": "stream",
     "text": [
      "Info: Params [1.925089   6.7786939  1.24078623 1.13221317 0.3008983  0.41350417] gave -104.67847001931915\n"
     ]
    },
    {
     "name": "stdout",
     "output_type": "stream",
     "text": [
      "   Drift Rate  Self-excitation Speed  Self-excitation Accuracy  \\\n",
      "0    1.925089               6.778694                  1.240786   \n",
      "\n",
      "   Boundary Separation  Non-decision Time Speed  Non-decision Time Accuracy  \\\n",
      "0             1.132213                 0.300898                    0.413504   \n",
      "\n",
      "         BIC  Frequency  Participant  \n",
      "0 -104.67847          4           15  \n",
      "5\n",
      "15\n"
     ]
    },
    {
     "name": "stderr",
     "output_type": "stream",
     "text": [
      "Info: Params [1.70693269 6.51309621 1.43929587 1.36801478 0.26428061 0.33706687] gave 8.130929399881722\n"
     ]
    },
    {
     "name": "stdout",
     "output_type": "stream",
     "text": [
      "   Drift Rate  Self-excitation Speed  Self-excitation Accuracy  \\\n",
      "0    1.706933               6.513096                  1.439296   \n",
      "\n",
      "   Boundary Separation  Non-decision Time Speed  Non-decision Time Accuracy  \\\n",
      "0             1.368015                 0.264281                    0.337067   \n",
      "\n",
      "        BIC  Frequency  Participant  \n",
      "0  8.130929          5           15  \n",
      "6\n",
      "15\n"
     ]
    },
    {
     "name": "stderr",
     "output_type": "stream",
     "text": [
      "Info: Params [2.07566536 6.82381699 1.927027   1.22339154 0.29711858 0.38838122] gave -137.33774490182418\n"
     ]
    },
    {
     "name": "stdout",
     "output_type": "stream",
     "text": [
      "   Drift Rate  Self-excitation Speed  Self-excitation Accuracy  \\\n",
      "0    2.075665               6.823817                  1.927027   \n",
      "\n",
      "   Boundary Separation  Non-decision Time Speed  Non-decision Time Accuracy  \\\n",
      "0             1.223392                 0.297119                    0.388381   \n",
      "\n",
      "          BIC  Frequency  Participant  \n",
      "0 -137.337745          6           15  \n",
      "1\n",
      "16\n"
     ]
    },
    {
     "name": "stderr",
     "output_type": "stream",
     "text": [
      "Info: Params [1.86241528 5.57314274 2.957002   1.09154591 0.22152078 0.33540026] gave -123.06862939661264\n"
     ]
    },
    {
     "name": "stdout",
     "output_type": "stream",
     "text": [
      "   Drift Rate  Self-excitation Speed  Self-excitation Accuracy  \\\n",
      "0    1.862415               5.573143                  2.957002   \n",
      "\n",
      "   Boundary Separation  Non-decision Time Speed  Non-decision Time Accuracy  \\\n",
      "0             1.091546                 0.221521                      0.3354   \n",
      "\n",
      "          BIC  Frequency  Participant  \n",
      "0 -123.068629          1           16  \n",
      "2\n",
      "16\n"
     ]
    },
    {
     "name": "stderr",
     "output_type": "stream",
     "text": [
      "Info: Params [1.42906639 3.79706328 2.19881209 1.0081277  0.19897685 0.3772391 ] gave 109.91505784585638\n"
     ]
    },
    {
     "name": "stdout",
     "output_type": "stream",
     "text": [
      "   Drift Rate  Self-excitation Speed  Self-excitation Accuracy  \\\n",
      "0    1.429066               3.797063                  2.198812   \n",
      "\n",
      "   Boundary Separation  Non-decision Time Speed  Non-decision Time Accuracy  \\\n",
      "0             1.008128                 0.198977                    0.377239   \n",
      "\n",
      "          BIC  Frequency  Participant  \n",
      "0  109.915058          2           16  \n",
      "3\n",
      "16\n"
     ]
    },
    {
     "name": "stderr",
     "output_type": "stream",
     "text": [
      "Info: Params [0.9359454  4.46032397 2.47021866 1.24570723 0.16877609 0.31519092] gave 273.7994876061914\n"
     ]
    },
    {
     "name": "stdout",
     "output_type": "stream",
     "text": [
      "   Drift Rate  Self-excitation Speed  Self-excitation Accuracy  \\\n",
      "0    0.935945               4.460324                  2.470219   \n",
      "\n",
      "   Boundary Separation  Non-decision Time Speed  Non-decision Time Accuracy  \\\n",
      "0             1.245707                 0.168776                    0.315191   \n",
      "\n",
      "          BIC  Frequency  Participant  \n",
      "0  273.799488          3           16  \n",
      "4\n",
      "16\n"
     ]
    },
    {
     "name": "stderr",
     "output_type": "stream",
     "text": [
      "Info: Params [1.45865842 5.11509709 2.98475144 1.47935357 0.1693872  0.32308271] gave 74.68581641153403\n"
     ]
    },
    {
     "name": "stdout",
     "output_type": "stream",
     "text": [
      "   Drift Rate  Self-excitation Speed  Self-excitation Accuracy  \\\n",
      "0    1.458658               5.115097                  2.984751   \n",
      "\n",
      "   Boundary Separation  Non-decision Time Speed  Non-decision Time Accuracy  \\\n",
      "0             1.479354                 0.169387                    0.323083   \n",
      "\n",
      "         BIC  Frequency  Participant  \n",
      "0  74.685816          4           16  \n",
      "5\n",
      "16\n"
     ]
    },
    {
     "name": "stderr",
     "output_type": "stream",
     "text": [
      "Info: Params [1.33217871 4.74890714 2.06132468 1.28463613 0.17590874 0.30448549] gave 165.60008680553858\n"
     ]
    },
    {
     "name": "stdout",
     "output_type": "stream",
     "text": [
      "   Drift Rate  Self-excitation Speed  Self-excitation Accuracy  \\\n",
      "0    1.332179               4.748907                  2.061325   \n",
      "\n",
      "   Boundary Separation  Non-decision Time Speed  Non-decision Time Accuracy  \\\n",
      "0             1.284636                 0.175909                    0.304485   \n",
      "\n",
      "          BIC  Frequency  Participant  \n",
      "0  165.600087          5           16  \n",
      "6\n",
      "16\n"
     ]
    },
    {
     "name": "stderr",
     "output_type": "stream",
     "text": [
      "Info: Params [1.40484211 3.6064906  2.86894781 1.24490697 0.16236274 0.32228862] gave 155.55362128549564\n"
     ]
    },
    {
     "name": "stdout",
     "output_type": "stream",
     "text": [
      "   Drift Rate  Self-excitation Speed  Self-excitation Accuracy  \\\n",
      "0    1.404842               3.606491                  2.868948   \n",
      "\n",
      "   Boundary Separation  Non-decision Time Speed  Non-decision Time Accuracy  \\\n",
      "0             1.244907                 0.162363                    0.322289   \n",
      "\n",
      "          BIC  Frequency  Participant  \n",
      "0  155.553621          6           16  \n",
      "1\n",
      "17\n"
     ]
    },
    {
     "name": "stderr",
     "output_type": "stream",
     "text": [
      "Info: Params [2.91443891 5.01978538 1.17812117 1.28004983 0.26443726 0.31786716] gave -334.6723025437511\n"
     ]
    },
    {
     "name": "stdout",
     "output_type": "stream",
     "text": [
      "   Drift Rate  Self-excitation Speed  Self-excitation Accuracy  \\\n",
      "0    2.914439               5.019785                  1.178121   \n",
      "\n",
      "   Boundary Separation  Non-decision Time Speed  Non-decision Time Accuracy  \\\n",
      "0              1.28005                 0.264437                    0.317867   \n",
      "\n",
      "          BIC  Frequency  Participant  \n",
      "0 -334.672303          1           17  \n",
      "2\n",
      "17\n"
     ]
    },
    {
     "name": "stderr",
     "output_type": "stream",
     "text": [
      "Info: Params [2.37857551 5.79431248 2.10664243 1.43807343 0.26987691 0.33835826] gave -211.4347202935638\n"
     ]
    },
    {
     "name": "stdout",
     "output_type": "stream",
     "text": [
      "   Drift Rate  Self-excitation Speed  Self-excitation Accuracy  \\\n",
      "0    2.378576               5.794312                  2.106642   \n",
      "\n",
      "   Boundary Separation  Non-decision Time Speed  Non-decision Time Accuracy  \\\n",
      "0             1.438073                 0.269877                    0.338358   \n",
      "\n",
      "         BIC  Frequency  Participant  \n",
      "0 -211.43472          2           17  \n",
      "3\n",
      "17\n"
     ]
    },
    {
     "name": "stderr",
     "output_type": "stream",
     "text": [
      "Info: Params [1.78987683 6.21968815 3.05911542 1.34367284 0.26659996 0.37823786] gave -22.796718640235007\n"
     ]
    },
    {
     "name": "stdout",
     "output_type": "stream",
     "text": [
      "   Drift Rate  Self-excitation Speed  Self-excitation Accuracy  \\\n",
      "0    1.789877               6.219688                  3.059115   \n",
      "\n",
      "   Boundary Separation  Non-decision Time Speed  Non-decision Time Accuracy  \\\n",
      "0             1.343673                   0.2666                    0.378238   \n",
      "\n",
      "         BIC  Frequency  Participant  \n",
      "0 -22.796719          3           17  \n",
      "4\n",
      "17\n"
     ]
    },
    {
     "name": "stderr",
     "output_type": "stream",
     "text": [
      "Info: Params [2.22635861 3.93086128 1.60760274 1.14946609 0.2716912  0.39933508] gave -138.58441744406494\n"
     ]
    },
    {
     "name": "stdout",
     "output_type": "stream",
     "text": [
      "   Drift Rate  Self-excitation Speed  Self-excitation Accuracy  \\\n",
      "0    2.226359               3.930861                  1.607603   \n",
      "\n",
      "   Boundary Separation  Non-decision Time Speed  Non-decision Time Accuracy  \\\n",
      "0             1.149466                 0.271691                    0.399335   \n",
      "\n",
      "          BIC  Frequency  Participant  \n",
      "0 -138.584417          4           17  \n",
      "5\n",
      "17\n"
     ]
    },
    {
     "name": "stderr",
     "output_type": "stream",
     "text": [
      "Info: Params [2.20269077 4.60793755 1.6516018  1.1816352  0.28828662 0.38012775] gave -146.19558698149808\n"
     ]
    },
    {
     "name": "stdout",
     "output_type": "stream",
     "text": [
      "   Drift Rate  Self-excitation Speed  Self-excitation Accuracy  \\\n",
      "0    2.202691               4.607938                  1.651602   \n",
      "\n",
      "   Boundary Separation  Non-decision Time Speed  Non-decision Time Accuracy  \\\n",
      "0             1.181635                 0.288287                    0.380128   \n",
      "\n",
      "          BIC  Frequency  Participant  \n",
      "0 -146.195587          5           17  \n",
      "6\n",
      "17\n"
     ]
    },
    {
     "name": "stderr",
     "output_type": "stream",
     "text": [
      "Info: Params [2.08245746 4.30593004 2.16812973 2.13199387 0.16815643 0.22403332] gave -54.903330795232144\n"
     ]
    },
    {
     "name": "stdout",
     "output_type": "stream",
     "text": [
      "   Drift Rate  Self-excitation Speed  Self-excitation Accuracy  \\\n",
      "0    2.082457                4.30593                   2.16813   \n",
      "\n",
      "   Boundary Separation  Non-decision Time Speed  Non-decision Time Accuracy  \\\n",
      "0             2.131994                 0.168156                    0.224033   \n",
      "\n",
      "         BIC  Frequency  Participant  \n",
      "0 -54.903331          6           17  \n"
     ]
    }
   ],
   "source": [
    "%run Wagenmakers2008-OUM2k2ter-pyddm.ipynb"
   ]
  },
  {
   "cell_type": "code",
   "execution_count": 5,
   "id": "ea84a4ea",
   "metadata": {
    "scrolled": true
   },
   "outputs": [
    {
     "name": "stdout",
     "output_type": "stream",
     "text": [
      "1\n",
      "1\n"
     ]
    },
    {
     "name": "stderr",
     "output_type": "stream",
     "text": [
      "Info: Params [2.82988016 3.7662787  1.35979939 0.54157198 0.59015738 0.35150495\n",
      " 0.36940465] gave -264.37758808224004\n"
     ]
    },
    {
     "name": "stdout",
     "output_type": "stream",
     "text": [
      "   Drift Rate Speed  Drift Rate Accuracy  Self-excitation  \\\n",
      "0           2.82988             3.766279         1.359799   \n",
      "\n",
      "   Boundary Separation Speed      Bacc  Non-decision Time Speed  \\\n",
      "0                   0.541572  0.590157                 0.351505   \n",
      "\n",
      "   Non-decision Time Accuracy         BIC  Frequency  Participant  \n",
      "0                    0.369405 -264.377588          1            1  \n",
      "2\n",
      "1\n"
     ]
    },
    {
     "name": "stderr",
     "output_type": "stream",
     "text": [
      "Info: Params [2.30321621 2.27595991 4.73161946 0.55145052 1.08457445 0.36794091\n",
      " 0.32133158] gave -138.07378905932228\n"
     ]
    },
    {
     "name": "stdout",
     "output_type": "stream",
     "text": [
      "   Drift Rate Speed  Drift Rate Accuracy  Self-excitation  \\\n",
      "0          2.303216              2.27596         4.731619   \n",
      "\n",
      "   Boundary Separation Speed      Bacc  Non-decision Time Speed  \\\n",
      "0                   0.551451  1.084574                 0.367941   \n",
      "\n",
      "   Non-decision Time Accuracy         BIC  Frequency  Participant  \n",
      "0                    0.321332 -138.073789          2            1  \n",
      "3\n",
      "1\n"
     ]
    },
    {
     "name": "stderr",
     "output_type": "stream",
     "text": [
      "Info: Params [0.8607508  1.66896834 4.40763103 0.65782871 0.7652634  0.33383528\n",
      " 0.36887645] gave -15.790019822068537\n"
     ]
    },
    {
     "name": "stdout",
     "output_type": "stream",
     "text": [
      "   Drift Rate Speed  Drift Rate Accuracy  Self-excitation  \\\n",
      "0          0.860751             1.668968         4.407631   \n",
      "\n",
      "   Boundary Separation Speed      Bacc  Non-decision Time Speed  \\\n",
      "0                   0.657829  0.765263                 0.333835   \n",
      "\n",
      "   Non-decision Time Accuracy       BIC  Frequency  Participant  \n",
      "0                    0.368876 -15.79002          3            1  \n",
      "4\n",
      "1\n"
     ]
    },
    {
     "name": "stderr",
     "output_type": "stream",
     "text": [
      "Info: Params [2.284049   2.66148744 2.28664909 0.58676844 0.53561001 0.33198745\n",
      " 0.38712275] gave -166.79093068737254\n"
     ]
    },
    {
     "name": "stdout",
     "output_type": "stream",
     "text": [
      "   Drift Rate Speed  Drift Rate Accuracy  Self-excitation  \\\n",
      "0          2.284049             2.661487         2.286649   \n",
      "\n",
      "   Boundary Separation Speed     Bacc  Non-decision Time Speed  \\\n",
      "0                   0.586768  0.53561                 0.331987   \n",
      "\n",
      "   Non-decision Time Accuracy         BIC  Frequency  Participant  \n",
      "0                    0.387123 -166.790931          4            1  \n",
      "5\n",
      "1\n"
     ]
    },
    {
     "name": "stderr",
     "output_type": "stream",
     "text": [
      "Info: Params [3.33583773 2.67653987 6.5126139  2.01978653 2.88518984 0.24734567\n",
      " 0.21294074] gave -179.46232013558088\n"
     ]
    },
    {
     "name": "stdout",
     "output_type": "stream",
     "text": [
      "   Drift Rate Speed  Drift Rate Accuracy  Self-excitation  \\\n",
      "0          3.335838              2.67654         6.512614   \n",
      "\n",
      "   Boundary Separation Speed     Bacc  Non-decision Time Speed  \\\n",
      "0                   2.019787  2.88519                 0.247346   \n",
      "\n",
      "   Non-decision Time Accuracy        BIC  Frequency  Participant  \n",
      "0                    0.212941 -179.46232          5            1  \n",
      "6\n",
      "1\n"
     ]
    },
    {
     "name": "stderr",
     "output_type": "stream",
     "text": [
      "Info: Params [3.18071512 3.08922707 4.66361147 0.77894434 1.09481889 0.32138558\n",
      " 0.31258325] gave -227.24510705586718\n"
     ]
    },
    {
     "name": "stdout",
     "output_type": "stream",
     "text": [
      "   Drift Rate Speed  Drift Rate Accuracy  Self-excitation  \\\n",
      "0          3.180715             3.089227         4.663611   \n",
      "\n",
      "   Boundary Separation Speed      Bacc  Non-decision Time Speed  \\\n",
      "0                   0.778944  1.094819                 0.321386   \n",
      "\n",
      "   Non-decision Time Accuracy         BIC  Frequency  Participant  \n",
      "0                    0.312583 -227.245107          6            1  \n",
      "1\n",
      "3\n"
     ]
    },
    {
     "name": "stderr",
     "output_type": "stream",
     "text": [
      "Info: Params [2.56656486 3.20553379 5.18383859 0.77046297 7.1362197  0.29724707\n",
      " 0.11575806] gave -187.04490935121243\n"
     ]
    },
    {
     "name": "stdout",
     "output_type": "stream",
     "text": [
      "   Drift Rate Speed  Drift Rate Accuracy  Self-excitation  \\\n",
      "0          2.566565             3.205534         5.183839   \n",
      "\n",
      "   Boundary Separation Speed     Bacc  Non-decision Time Speed  \\\n",
      "0                   0.770463  7.13622                 0.297247   \n",
      "\n",
      "   Non-decision Time Accuracy         BIC  Frequency  Participant  \n",
      "0                    0.115758 -187.044909          1            3  \n",
      "2\n",
      "3\n"
     ]
    },
    {
     "name": "stderr",
     "output_type": "stream",
     "text": [
      "Info: Params [1.56173554 2.00359462 2.45764229 0.56689493 1.25423308 0.31843195\n",
      " 0.31885889] gave -29.88979020375875\n"
     ]
    },
    {
     "name": "stdout",
     "output_type": "stream",
     "text": [
      "   Drift Rate Speed  Drift Rate Accuracy  Self-excitation  \\\n",
      "0          1.561736             2.003595         2.457642   \n",
      "\n",
      "   Boundary Separation Speed      Bacc  Non-decision Time Speed  \\\n",
      "0                   0.566895  1.254233                 0.318432   \n",
      "\n",
      "   Non-decision Time Accuracy       BIC  Frequency  Participant  \n",
      "0                    0.318859 -29.88979          2            3  \n",
      "3\n",
      "3\n"
     ]
    },
    {
     "name": "stderr",
     "output_type": "stream",
     "text": [
      "Info: Params [1.48862304 1.79910258 3.49821157 0.68725194 1.71077183 0.30191668\n",
      " 0.30540941] gave 18.001828441832508\n"
     ]
    },
    {
     "name": "stdout",
     "output_type": "stream",
     "text": [
      "   Drift Rate Speed  Drift Rate Accuracy  Self-excitation  \\\n",
      "0          1.488623             1.799103         3.498212   \n",
      "\n",
      "   Boundary Separation Speed      Bacc  Non-decision Time Speed  \\\n",
      "0                   0.687252  1.710772                 0.301917   \n",
      "\n",
      "   Non-decision Time Accuracy        BIC  Frequency  Participant  \n",
      "0                    0.305409  18.001828          3            3  \n",
      "4\n",
      "3\n"
     ]
    },
    {
     "name": "stderr",
     "output_type": "stream",
     "text": [
      "Info: Params [1.83091661 2.02145943 1.86176384 0.76971221 2.1637854  0.26835603\n",
      " 0.10068769] gave 20.821533287023733\n"
     ]
    },
    {
     "name": "stdout",
     "output_type": "stream",
     "text": [
      "   Drift Rate Speed  Drift Rate Accuracy  Self-excitation  \\\n",
      "0          1.830917             2.021459         1.861764   \n",
      "\n",
      "   Boundary Separation Speed      Bacc  Non-decision Time Speed  \\\n",
      "0                   0.769712  2.163785                 0.268356   \n",
      "\n",
      "   Non-decision Time Accuracy        BIC  Frequency  Participant  \n",
      "0                    0.100688  20.821533          4            3  \n",
      "5\n",
      "3\n"
     ]
    },
    {
     "name": "stderr",
     "output_type": "stream",
     "text": [
      "Info: Params [2.98794859 2.11200986 2.29413572 0.81071329 2.54738803 0.28213037\n",
      " 0.14100436] gave -52.19975771418117\n"
     ]
    },
    {
     "name": "stdout",
     "output_type": "stream",
     "text": [
      "   Drift Rate Speed  Drift Rate Accuracy  Self-excitation  \\\n",
      "0          2.987949              2.11201         2.294136   \n",
      "\n",
      "   Boundary Separation Speed      Bacc  Non-decision Time Speed  \\\n",
      "0                   0.810713  2.547388                  0.28213   \n",
      "\n",
      "   Non-decision Time Accuracy        BIC  Frequency  Participant  \n",
      "0                    0.141004 -52.199758          5            3  \n",
      "6\n",
      "3\n"
     ]
    },
    {
     "name": "stderr",
     "output_type": "stream",
     "text": [
      "Info: Params [2.54661117 2.20163227 1.48006825 0.62535968 1.39506769 0.32907515\n",
      " 0.27758405] gave -64.47094219020843\n"
     ]
    },
    {
     "name": "stdout",
     "output_type": "stream",
     "text": [
      "   Drift Rate Speed  Drift Rate Accuracy  Self-excitation  \\\n",
      "0          2.546611             2.201632         1.480068   \n",
      "\n",
      "   Boundary Separation Speed      Bacc  Non-decision Time Speed  \\\n",
      "0                    0.62536  1.395068                 0.329075   \n",
      "\n",
      "   Non-decision Time Accuracy        BIC  Frequency  Participant  \n",
      "0                    0.277584 -64.470942          6            3  \n",
      "1\n",
      "4\n"
     ]
    },
    {
     "name": "stderr",
     "output_type": "stream",
     "text": [
      "Info: Params [3.77848599 3.59342263 4.43907298 0.50217894 1.36451651 0.32115852\n",
      " 0.26337508] gave -307.980855773516\n"
     ]
    },
    {
     "name": "stdout",
     "output_type": "stream",
     "text": [
      "   Drift Rate Speed  Drift Rate Accuracy  Self-excitation  \\\n",
      "0          3.778486             3.593423         4.439073   \n",
      "\n",
      "   Boundary Separation Speed      Bacc  Non-decision Time Speed  \\\n",
      "0                   0.502179  1.364517                 0.321159   \n",
      "\n",
      "   Non-decision Time Accuracy         BIC  Frequency  Participant  \n",
      "0                    0.263375 -307.980856          1            4  \n",
      "2\n",
      "4\n"
     ]
    },
    {
     "name": "stderr",
     "output_type": "stream",
     "text": [
      "Info: Params [2.48956851 3.00816027 3.0570514  0.506484   0.94841724 0.32229888\n",
      " 0.32393625] gave -216.98573670968403\n"
     ]
    },
    {
     "name": "stdout",
     "output_type": "stream",
     "text": [
      "   Drift Rate Speed  Drift Rate Accuracy  Self-excitation  \\\n",
      "0          2.489569              3.00816         3.057051   \n",
      "\n",
      "   Boundary Separation Speed      Bacc  Non-decision Time Speed  \\\n",
      "0                   0.506484  0.948417                 0.322299   \n",
      "\n",
      "   Non-decision Time Accuracy         BIC  Frequency  Participant  \n",
      "0                    0.323936 -216.985737          2            4  \n",
      "3\n",
      "4\n"
     ]
    },
    {
     "name": "stderr",
     "output_type": "stream",
     "text": [
      "Info: Params [1.61854934 1.94939765 4.01396162 0.5002558  1.13732269 0.32751429\n",
      " 0.29388393] gave -90.76673035219594\n"
     ]
    },
    {
     "name": "stdout",
     "output_type": "stream",
     "text": [
      "   Drift Rate Speed  Drift Rate Accuracy  Self-excitation  \\\n",
      "0          1.618549             1.949398         4.013962   \n",
      "\n",
      "   Boundary Separation Speed      Bacc  Non-decision Time Speed  \\\n",
      "0                   0.500256  1.137323                 0.327514   \n",
      "\n",
      "   Non-decision Time Accuracy       BIC  Frequency  Participant  \n",
      "0                    0.293884 -90.76673          3            4  \n",
      "4\n",
      "4\n"
     ]
    },
    {
     "name": "stderr",
     "output_type": "stream",
     "text": [
      "Info: Params [3.61388419 3.05219355 3.75420493 0.59221188 3.19197973 0.33368199\n",
      " 0.12218669] gave -236.91337088168214\n"
     ]
    },
    {
     "name": "stdout",
     "output_type": "stream",
     "text": [
      "   Drift Rate Speed  Drift Rate Accuracy  Self-excitation  \\\n",
      "0          3.613884             3.052194         3.754205   \n",
      "\n",
      "   Boundary Separation Speed     Bacc  Non-decision Time Speed  \\\n",
      "0                   0.592212  3.19198                 0.333682   \n",
      "\n",
      "   Non-decision Time Accuracy         BIC  Frequency  Participant  \n",
      "0                    0.122187 -236.913371          4            4  \n",
      "5\n",
      "4\n"
     ]
    },
    {
     "name": "stderr",
     "output_type": "stream",
     "text": [
      "Info: Params [3.48797119 2.368763   0.98617993 0.50080883 0.68389544 0.32525522\n",
      " 0.34203149] gave -203.44338901184682\n"
     ]
    },
    {
     "name": "stdout",
     "output_type": "stream",
     "text": [
      "   Drift Rate Speed  Drift Rate Accuracy  Self-excitation  \\\n",
      "0          3.487971             2.368763          0.98618   \n",
      "\n",
      "   Boundary Separation Speed      Bacc  Non-decision Time Speed  \\\n",
      "0                   0.500809  0.683895                 0.325255   \n",
      "\n",
      "   Non-decision Time Accuracy         BIC  Frequency  Participant  \n",
      "0                    0.342031 -203.443389          5            4  \n",
      "6\n",
      "4\n"
     ]
    },
    {
     "name": "stderr",
     "output_type": "stream",
     "text": [
      "Info: Params [3.14389969 2.27308777 4.50265049 0.54750492 1.02903732 0.31419596\n",
      " 0.30725446] gave -198.38994666001247\n"
     ]
    },
    {
     "name": "stdout",
     "output_type": "stream",
     "text": [
      "   Drift Rate Speed  Drift Rate Accuracy  Self-excitation  \\\n",
      "0            3.1439             2.273088          4.50265   \n",
      "\n",
      "   Boundary Separation Speed      Bacc  Non-decision Time Speed  \\\n",
      "0                   0.547505  1.029037                 0.314196   \n",
      "\n",
      "   Non-decision Time Accuracy         BIC  Frequency  Participant  \n",
      "0                    0.307254 -198.389947          6            4  \n",
      "1\n",
      "5\n"
     ]
    },
    {
     "name": "stderr",
     "output_type": "stream",
     "text": [
      "Info: Params [4.14546701 3.69116518 2.79823104 0.5428705  3.50698382 0.3176512\n",
      " 0.11799737] gave -293.7032464725711\n"
     ]
    },
    {
     "name": "stdout",
     "output_type": "stream",
     "text": [
      "   Drift Rate Speed  Drift Rate Accuracy  Self-excitation  \\\n",
      "0          4.145467             3.691165         2.798231   \n",
      "\n",
      "   Boundary Separation Speed      Bacc  Non-decision Time Speed  \\\n",
      "0                   0.542871  3.506984                 0.317651   \n",
      "\n",
      "   Non-decision Time Accuracy         BIC  Frequency  Participant  \n",
      "0                    0.117997 -293.703246          1            5  \n",
      "2\n",
      "5\n"
     ]
    },
    {
     "name": "stderr",
     "output_type": "stream",
     "text": [
      "Info: Params [3.72749703 2.58030748 7.25036645 0.91647341 5.98549839 0.31521647\n",
      " 0.21096048] gave -226.56922235198175\n"
     ]
    },
    {
     "name": "stdout",
     "output_type": "stream",
     "text": [
      "   Drift Rate Speed  Drift Rate Accuracy  Self-excitation  \\\n",
      "0          3.727497             2.580307         7.250366   \n",
      "\n",
      "   Boundary Separation Speed      Bacc  Non-decision Time Speed  \\\n",
      "0                   0.916473  5.985498                 0.315216   \n",
      "\n",
      "   Non-decision Time Accuracy         BIC  Frequency  Participant  \n",
      "0                     0.21096 -226.569222          2            5  \n",
      "3\n",
      "5\n"
     ]
    },
    {
     "name": "stderr",
     "output_type": "stream",
     "text": [
      "Info: Params [2.22435951 3.09462033 6.04865817 0.71706173 2.79977588 0.3235763\n",
      " 0.31362862] gave -189.57503986982567\n"
     ]
    },
    {
     "name": "stdout",
     "output_type": "stream",
     "text": [
      "   Drift Rate Speed  Drift Rate Accuracy  Self-excitation  \\\n",
      "0           2.22436              3.09462         6.048658   \n",
      "\n",
      "   Boundary Separation Speed      Bacc  Non-decision Time Speed  \\\n",
      "0                   0.717062  2.799776                 0.323576   \n",
      "\n",
      "   Non-decision Time Accuracy        BIC  Frequency  Participant  \n",
      "0                    0.313629 -189.57504          3            5  \n",
      "4\n",
      "5\n"
     ]
    },
    {
     "name": "stderr",
     "output_type": "stream",
     "text": [
      "Info: Params [4.5477337  3.25492171 4.92800987 1.46737515 2.58113183 0.27462615\n",
      " 0.29267635] gave -269.52571864016517\n"
     ]
    },
    {
     "name": "stdout",
     "output_type": "stream",
     "text": [
      "   Drift Rate Speed  Drift Rate Accuracy  Self-excitation  \\\n",
      "0          4.547734             3.254922          4.92801   \n",
      "\n",
      "   Boundary Separation Speed      Bacc  Non-decision Time Speed  \\\n",
      "0                   1.467375  2.581132                 0.274626   \n",
      "\n",
      "   Non-decision Time Accuracy         BIC  Frequency  Participant  \n",
      "0                    0.292676 -269.525719          4            5  \n",
      "5\n",
      "5\n"
     ]
    },
    {
     "name": "stderr",
     "output_type": "stream",
     "text": [
      "Info: Params [4.37994996 2.55147199 4.26880549 0.51311842 1.39342023 0.36989306\n",
      " 0.39256466] gave -227.42479494512327\n"
     ]
    },
    {
     "name": "stdout",
     "output_type": "stream",
     "text": [
      "   Drift Rate Speed  Drift Rate Accuracy  Self-excitation  \\\n",
      "0           4.37995             2.551472         4.268805   \n",
      "\n",
      "   Boundary Separation Speed     Bacc  Non-decision Time Speed  \\\n",
      "0                   0.513118  1.39342                 0.369893   \n",
      "\n",
      "   Non-decision Time Accuracy         BIC  Frequency  Participant  \n",
      "0                    0.392565 -227.424795          5            5  \n",
      "6\n",
      "5\n"
     ]
    },
    {
     "name": "stderr",
     "output_type": "stream",
     "text": [
      "Info: Params [3.34011992 2.61268996 5.32811014 0.95512048 1.66140727 0.28569098\n",
      " 0.34930221] gave -196.87900873178586\n"
     ]
    },
    {
     "name": "stdout",
     "output_type": "stream",
     "text": [
      "   Drift Rate Speed  Drift Rate Accuracy  Self-excitation  \\\n",
      "0           3.34012              2.61269          5.32811   \n",
      "\n",
      "   Boundary Separation Speed      Bacc  Non-decision Time Speed  \\\n",
      "0                    0.95512  1.661407                 0.285691   \n",
      "\n",
      "   Non-decision Time Accuracy         BIC  Frequency  Participant  \n",
      "0                    0.349302 -196.879009          6            5  \n",
      "1\n",
      "6\n"
     ]
    },
    {
     "name": "stderr",
     "output_type": "stream",
     "text": [
      "Info: Params [2.34946207 2.77608266 5.93406144 0.96149113 1.20231819 0.23097083\n",
      " 0.31942401] gave -184.5961684480418\n"
     ]
    },
    {
     "name": "stdout",
     "output_type": "stream",
     "text": [
      "   Drift Rate Speed  Drift Rate Accuracy  Self-excitation  \\\n",
      "0          2.349462             2.776083         5.934061   \n",
      "\n",
      "   Boundary Separation Speed      Bacc  Non-decision Time Speed  \\\n",
      "0                   0.961491  1.202318                 0.230971   \n",
      "\n",
      "   Non-decision Time Accuracy         BIC  Frequency  Participant  \n",
      "0                    0.319424 -184.596168          1            6  \n",
      "2\n",
      "6\n"
     ]
    },
    {
     "name": "stderr",
     "output_type": "stream",
     "text": [
      "Info: Params [1.18095329 2.33387658 6.53822258 1.96402641 1.27480108 0.11199873\n",
      " 0.3755498 ] gave -77.84995684096842\n"
     ]
    },
    {
     "name": "stdout",
     "output_type": "stream",
     "text": [
      "   Drift Rate Speed  Drift Rate Accuracy  Self-excitation  \\\n",
      "0          1.180953             2.333877         6.538223   \n",
      "\n",
      "   Boundary Separation Speed      Bacc  Non-decision Time Speed  \\\n",
      "0                   1.964026  1.274801                 0.111999   \n",
      "\n",
      "   Non-decision Time Accuracy        BIC  Frequency  Participant  \n",
      "0                     0.37555 -77.849957          2            6  \n",
      "3\n",
      "6\n"
     ]
    },
    {
     "name": "stderr",
     "output_type": "stream",
     "text": [
      "Info: Params [0.38445405 1.52035387 5.96525783 1.62791291 0.99892601 0.11303936\n",
      " 0.39701877] gave 27.634584851586663\n"
     ]
    },
    {
     "name": "stdout",
     "output_type": "stream",
     "text": [
      "   Drift Rate Speed  Drift Rate Accuracy  Self-excitation  \\\n",
      "0          0.384454             1.520354         5.965258   \n",
      "\n",
      "   Boundary Separation Speed      Bacc  Non-decision Time Speed  \\\n",
      "0                   1.627913  0.998926                 0.113039   \n",
      "\n",
      "   Non-decision Time Accuracy        BIC  Frequency  Participant  \n",
      "0                    0.397019  27.634585          3            6  \n",
      "4\n",
      "6\n"
     ]
    },
    {
     "name": "stderr",
     "output_type": "stream",
     "text": [
      "Info: Params [0.95159299 2.51776437 4.80030256 0.93604324 6.07335727 0.18699363\n",
      " 0.10069106] gave -37.55960504344956\n"
     ]
    },
    {
     "name": "stdout",
     "output_type": "stream",
     "text": [
      "   Drift Rate Speed  Drift Rate Accuracy  Self-excitation  \\\n",
      "0          0.951593             2.517764         4.800303   \n",
      "\n",
      "   Boundary Separation Speed      Bacc  Non-decision Time Speed  \\\n",
      "0                   0.936043  6.073357                 0.186994   \n",
      "\n",
      "   Non-decision Time Accuracy        BIC  Frequency  Participant  \n",
      "0                    0.100691 -37.559605          4            6  \n",
      "5\n",
      "6\n"
     ]
    },
    {
     "name": "stderr",
     "output_type": "stream",
     "text": [
      "Info: Params [0.96614362 2.35509217 4.02436751 0.62471995 1.17948474 0.26443349\n",
      " 0.34186964] gave -44.97172002304525\n"
     ]
    },
    {
     "name": "stdout",
     "output_type": "stream",
     "text": [
      "   Drift Rate Speed  Drift Rate Accuracy  Self-excitation  \\\n",
      "0          0.966144             2.355092         4.024368   \n",
      "\n",
      "   Boundary Separation Speed      Bacc  Non-decision Time Speed  \\\n",
      "0                    0.62472  1.179485                 0.264433   \n",
      "\n",
      "   Non-decision Time Accuracy       BIC  Frequency  Participant  \n",
      "0                     0.34187 -44.97172          5            6  \n",
      "6\n",
      "6\n"
     ]
    },
    {
     "name": "stderr",
     "output_type": "stream",
     "text": [
      "Info: Params [0.65739795 2.440199   5.20368851 1.55246548 1.83867595 0.10045233\n",
      " 0.27298668] gave -33.28804814632587\n"
     ]
    },
    {
     "name": "stdout",
     "output_type": "stream",
     "text": [
      "   Drift Rate Speed  Drift Rate Accuracy  Self-excitation  \\\n",
      "0          0.657398             2.440199         5.203689   \n",
      "\n",
      "   Boundary Separation Speed      Bacc  Non-decision Time Speed  \\\n",
      "0                   1.552465  1.838676                 0.100452   \n",
      "\n",
      "   Non-decision Time Accuracy        BIC  Frequency  Participant  \n",
      "0                    0.272987 -33.288048          6            6  \n",
      "1\n",
      "7\n"
     ]
    },
    {
     "name": "stderr",
     "output_type": "stream",
     "text": [
      "Info: Params [0.31655112 1.88321658 5.56298903 1.40314396 1.43632447 0.10015378\n",
      " 0.21063957] gave -9.003339262797112\n"
     ]
    },
    {
     "name": "stdout",
     "output_type": "stream",
     "text": [
      "   Drift Rate Speed  Drift Rate Accuracy  Self-excitation  \\\n",
      "0          0.316551             1.883217         5.562989   \n",
      "\n",
      "   Boundary Separation Speed      Bacc  Non-decision Time Speed  \\\n",
      "0                   1.403144  1.436324                 0.100154   \n",
      "\n",
      "   Non-decision Time Accuracy       BIC  Frequency  Participant  \n",
      "0                     0.21064 -9.003339          1            7  \n",
      "2\n",
      "7\n"
     ]
    },
    {
     "name": "stderr",
     "output_type": "stream",
     "text": [
      "Info: Params [0.         1.37387151 5.13620191 0.65780518 1.0056115  0.22867389\n",
      " 0.28037144] gave 9.802165408042882\n"
     ]
    },
    {
     "name": "stdout",
     "output_type": "stream",
     "text": [
      "   Drift Rate Speed  Drift Rate Accuracy  Self-excitation  \\\n",
      "0               0.0             1.373872         5.136202   \n",
      "\n",
      "   Boundary Separation Speed      Bacc  Non-decision Time Speed  \\\n",
      "0                   0.657805  1.005612                 0.228674   \n",
      "\n",
      "   Non-decision Time Accuracy       BIC  Frequency  Participant  \n",
      "0                    0.280371  9.802165          2            7  \n",
      "3\n",
      "7\n"
     ]
    },
    {
     "name": "stderr",
     "output_type": "stream",
     "text": [
      "Info: Params [0.         0.59838904 5.57532689 1.41590801 3.22206218 0.10580808\n",
      " 0.10005516] gave 91.81941439635256\n"
     ]
    },
    {
     "name": "stdout",
     "output_type": "stream",
     "text": [
      "   Drift Rate Speed  Drift Rate Accuracy  Self-excitation  \\\n",
      "0               0.0             0.598389         5.575327   \n",
      "\n",
      "   Boundary Separation Speed      Bacc  Non-decision Time Speed  \\\n",
      "0                   1.415908  3.222062                 0.105808   \n",
      "\n",
      "   Non-decision Time Accuracy        BIC  Frequency  Participant  \n",
      "0                    0.100055  91.819414          3            7  \n",
      "4\n",
      "7\n"
     ]
    },
    {
     "name": "stderr",
     "output_type": "stream",
     "text": [
      "Info: Params [1.77164688 1.63757151 3.621103   0.72054172 1.37654042 0.21966341\n",
      " 0.2357251 ] gave -4.7885501018546535\n"
     ]
    },
    {
     "name": "stdout",
     "output_type": "stream",
     "text": [
      "   Drift Rate Speed  Drift Rate Accuracy  Self-excitation  \\\n",
      "0          1.771647             1.637572         3.621103   \n",
      "\n",
      "   Boundary Separation Speed     Bacc  Non-decision Time Speed  \\\n",
      "0                   0.720542  1.37654                 0.219663   \n",
      "\n",
      "   Non-decision Time Accuracy      BIC  Frequency  Participant  \n",
      "0                    0.235725 -4.78855          4            7  \n",
      "5\n",
      "7\n"
     ]
    },
    {
     "name": "stderr",
     "output_type": "stream",
     "text": [
      "Info: Params [2.26666903 1.44520206 5.57544925 1.1079035  3.30691004 0.19024011\n",
      " 0.13888943] gave -39.46932050239478\n"
     ]
    },
    {
     "name": "stdout",
     "output_type": "stream",
     "text": [
      "   Drift Rate Speed  Drift Rate Accuracy  Self-excitation  \\\n",
      "0          2.266669             1.445202         5.575449   \n",
      "\n",
      "   Boundary Separation Speed     Bacc  Non-decision Time Speed  \\\n",
      "0                   1.107903  3.30691                  0.19024   \n",
      "\n",
      "   Non-decision Time Accuracy        BIC  Frequency  Participant  \n",
      "0                    0.138889 -39.469321          5            7  \n",
      "6\n",
      "7\n"
     ]
    },
    {
     "name": "stderr",
     "output_type": "stream",
     "text": [
      "Info: Params [1.8600573  1.84331303 4.31556414 0.77983074 1.10060455 0.22445894\n",
      " 0.28958117] gave -52.01596346421061\n"
     ]
    },
    {
     "name": "stdout",
     "output_type": "stream",
     "text": [
      "   Drift Rate Speed  Drift Rate Accuracy  Self-excitation  \\\n",
      "0          1.860057             1.843313         4.315564   \n",
      "\n",
      "   Boundary Separation Speed      Bacc  Non-decision Time Speed  \\\n",
      "0                   0.779831  1.100605                 0.224459   \n",
      "\n",
      "   Non-decision Time Accuracy        BIC  Frequency  Participant  \n",
      "0                    0.289581 -52.015963          6            7  \n",
      "1\n",
      "8\n"
     ]
    },
    {
     "name": "stderr",
     "output_type": "stream",
     "text": [
      "Info: Params [0.69364071 2.07348024 2.49300419 0.854792   1.67898959 0.13401386\n",
      " 0.29392409] gave 84.09670784506767\n"
     ]
    },
    {
     "name": "stdout",
     "output_type": "stream",
     "text": [
      "   Drift Rate Speed  Drift Rate Accuracy  Self-excitation  \\\n",
      "0          0.693641              2.07348         2.493004   \n",
      "\n",
      "   Boundary Separation Speed     Bacc  Non-decision Time Speed  \\\n",
      "0                   0.854792  1.67899                 0.134014   \n",
      "\n",
      "   Non-decision Time Accuracy        BIC  Frequency  Participant  \n",
      "0                    0.293924  84.096708          1            8  \n",
      "2\n",
      "8\n"
     ]
    },
    {
     "name": "stderr",
     "output_type": "stream",
     "text": [
      "Info: Params [0.20841815 0.87738617 2.33512883 0.76499692 2.5436688  0.14537517\n",
      " 0.13526998] gave 224.92343378630466\n"
     ]
    },
    {
     "name": "stdout",
     "output_type": "stream",
     "text": [
      "   Drift Rate Speed  Drift Rate Accuracy  Self-excitation  \\\n",
      "0          0.208418             0.877386         2.335129   \n",
      "\n",
      "   Boundary Separation Speed      Bacc  Non-decision Time Speed  \\\n",
      "0                   0.764997  2.543669                 0.145375   \n",
      "\n",
      "   Non-decision Time Accuracy         BIC  Frequency  Participant  \n",
      "0                     0.13527  224.923434          2            8  \n",
      "3\n",
      "8\n"
     ]
    },
    {
     "name": "stderr",
     "output_type": "stream",
     "text": [
      "Info: Params [0.         0.38125245 2.5490014  0.85877637 2.30157136 0.14808493\n",
      " 0.12793258] gave 280.33739974952186\n"
     ]
    },
    {
     "name": "stdout",
     "output_type": "stream",
     "text": [
      "   Drift Rate Speed  Drift Rate Accuracy  Self-excitation  \\\n",
      "0               0.0             0.381252         2.549001   \n",
      "\n",
      "   Boundary Separation Speed      Bacc  Non-decision Time Speed  \\\n",
      "0                   0.858776  2.301571                 0.148085   \n",
      "\n",
      "   Non-decision Time Accuracy       BIC  Frequency  Participant  \n",
      "0                    0.127933  280.3374          3            8  \n",
      "4\n",
      "8\n"
     ]
    },
    {
     "name": "stderr",
     "output_type": "stream",
     "text": [
      "Info: Params [0.56213729 1.05013857 1.36683476 0.67734237 1.68875792 0.16690078\n",
      " 0.16345207] gave 249.75433724090283\n"
     ]
    },
    {
     "name": "stdout",
     "output_type": "stream",
     "text": [
      "   Drift Rate Speed  Drift Rate Accuracy  Self-excitation  \\\n",
      "0          0.562137             1.050139         1.366835   \n",
      "\n",
      "   Boundary Separation Speed      Bacc  Non-decision Time Speed  \\\n",
      "0                   0.677342  1.688758                 0.166901   \n",
      "\n",
      "   Non-decision Time Accuracy         BIC  Frequency  Participant  \n",
      "0                    0.163452  249.754337          4            8  \n",
      "5\n",
      "8\n"
     ]
    },
    {
     "name": "stderr",
     "output_type": "stream",
     "text": [
      "Info: Params [0.47374372 1.26832562 1.25594749 0.63696296 1.84149492 0.18277004\n",
      " 0.10080254] gave 200.25739422662758\n"
     ]
    },
    {
     "name": "stdout",
     "output_type": "stream",
     "text": [
      "   Drift Rate Speed  Drift Rate Accuracy  Self-excitation  \\\n",
      "0          0.473744             1.268326         1.255947   \n",
      "\n",
      "   Boundary Separation Speed      Bacc  Non-decision Time Speed  \\\n",
      "0                   0.636963  1.841495                  0.18277   \n",
      "\n",
      "   Non-decision Time Accuracy         BIC  Frequency  Participant  \n",
      "0                    0.100803  200.257394          5            8  \n",
      "6\n",
      "8\n"
     ]
    },
    {
     "name": "stderr",
     "output_type": "stream",
     "text": [
      "Info: Params [0.38857869 1.24401515 1.0923243  0.60885345 1.63422123 0.21467901\n",
      " 0.10886811] gave 210.12493134675412\n"
     ]
    },
    {
     "name": "stdout",
     "output_type": "stream",
     "text": [
      "   Drift Rate Speed  Drift Rate Accuracy  Self-excitation  \\\n",
      "0          0.388579             1.244015         1.092324   \n",
      "\n",
      "   Boundary Separation Speed      Bacc  Non-decision Time Speed  \\\n",
      "0                   0.608853  1.634221                 0.214679   \n",
      "\n",
      "   Non-decision Time Accuracy         BIC  Frequency  Participant  \n",
      "0                    0.108868  210.124931          6            8  \n",
      "1\n",
      "9\n"
     ]
    },
    {
     "name": "stderr",
     "output_type": "stream",
     "text": [
      "Info: Params [3.97036631 2.72926303 3.72456849 0.54363875 1.34153438 0.37718679\n",
      " 0.33419197] gave -261.10314436200144\n"
     ]
    },
    {
     "name": "stdout",
     "output_type": "stream",
     "text": [
      "   Drift Rate Speed  Drift Rate Accuracy  Self-excitation  \\\n",
      "0          3.970366             2.729263         3.724568   \n",
      "\n",
      "   Boundary Separation Speed      Bacc  Non-decision Time Speed  \\\n",
      "0                   0.543639  1.341534                 0.377187   \n",
      "\n",
      "   Non-decision Time Accuracy         BIC  Frequency  Participant  \n",
      "0                    0.334192 -261.103144          1            9  \n",
      "2\n",
      "9\n"
     ]
    },
    {
     "name": "stderr",
     "output_type": "stream",
     "text": [
      "Info: Params [1.97743572 1.94968389 2.48754413 0.50083524 1.71818639 0.38158708\n",
      " 0.27187453] gave -27.649003912888915\n"
     ]
    },
    {
     "name": "stdout",
     "output_type": "stream",
     "text": [
      "   Drift Rate Speed  Drift Rate Accuracy  Self-excitation  \\\n",
      "0          1.977436             1.949684         2.487544   \n",
      "\n",
      "   Boundary Separation Speed      Bacc  Non-decision Time Speed  \\\n",
      "0                   0.500835  1.718186                 0.381587   \n",
      "\n",
      "   Non-decision Time Accuracy        BIC  Frequency  Participant  \n",
      "0                    0.271875 -27.649004          2            9  \n",
      "3\n",
      "9\n"
     ]
    },
    {
     "name": "stderr",
     "output_type": "stream",
     "text": [
      "Info: Params [0.80225092 1.36618738 3.02675222 0.50023745 1.35636035 0.38992901\n",
      " 0.32839733] gave 47.732517861092454\n"
     ]
    },
    {
     "name": "stdout",
     "output_type": "stream",
     "text": [
      "   Drift Rate Speed  Drift Rate Accuracy  Self-excitation  \\\n",
      "0          0.802251             1.366187         3.026752   \n",
      "\n",
      "   Boundary Separation Speed     Bacc  Non-decision Time Speed  \\\n",
      "0                   0.500237  1.35636                 0.389929   \n",
      "\n",
      "   Non-decision Time Accuracy        BIC  Frequency  Participant  \n",
      "0                    0.328397  47.732518          3            9  \n",
      "4\n",
      "9\n"
     ]
    },
    {
     "name": "stderr",
     "output_type": "stream",
     "text": [
      "Info: Params [ 3.14325537  2.11443099 -0.64639285  0.51122833  0.73232361  0.3776096\n",
      "  0.42076647] gave -121.72849630980917\n"
     ]
    },
    {
     "name": "stdout",
     "output_type": "stream",
     "text": [
      "   Drift Rate Speed  Drift Rate Accuracy  Self-excitation  \\\n",
      "0          3.143255             2.114431        -0.646393   \n",
      "\n",
      "   Boundary Separation Speed      Bacc  Non-decision Time Speed  \\\n",
      "0                   0.511228  0.732324                  0.37761   \n",
      "\n",
      "   Non-decision Time Accuracy         BIC  Frequency  Participant  \n",
      "0                    0.420766 -121.728496          4            9  \n",
      "5\n",
      "9\n"
     ]
    },
    {
     "name": "stderr",
     "output_type": "stream",
     "text": [
      "Info: Params [3.00483041 1.84103752 3.09754356 0.56439634 3.13466006 0.38212602\n",
      " 0.10239776] gave -87.15366467219124\n"
     ]
    },
    {
     "name": "stdout",
     "output_type": "stream",
     "text": [
      "   Drift Rate Speed  Drift Rate Accuracy  Self-excitation  \\\n",
      "0           3.00483             1.841038         3.097544   \n",
      "\n",
      "   Boundary Separation Speed     Bacc  Non-decision Time Speed  \\\n",
      "0                   0.564396  3.13466                 0.382126   \n",
      "\n",
      "   Non-decision Time Accuracy        BIC  Frequency  Participant  \n",
      "0                    0.102398 -87.153665          5            9  \n",
      "6\n",
      "9\n"
     ]
    },
    {
     "name": "stderr",
     "output_type": "stream",
     "text": [
      "Info: Params [3.13210536 2.47068475 2.91112379 0.50264013 1.40918562 0.39676051\n",
      " 0.34477177] gave -165.66726598571938\n"
     ]
    },
    {
     "name": "stdout",
     "output_type": "stream",
     "text": [
      "   Drift Rate Speed  Drift Rate Accuracy  Self-excitation  \\\n",
      "0          3.132105             2.470685         2.911124   \n",
      "\n",
      "   Boundary Separation Speed      Bacc  Non-decision Time Speed  \\\n",
      "0                    0.50264  1.409186                 0.396761   \n",
      "\n",
      "   Non-decision Time Accuracy         BIC  Frequency  Participant  \n",
      "0                    0.344772 -165.667266          6            9  \n",
      "1\n",
      "10\n"
     ]
    },
    {
     "name": "stderr",
     "output_type": "stream",
     "text": [
      "Info: Params [2.57520454 4.21966356 5.3149065  0.66629078 5.4382806  0.28099974\n",
      " 0.12133657] gave -542.7451437791894\n"
     ]
    },
    {
     "name": "stdout",
     "output_type": "stream",
     "text": [
      "   Drift Rate Speed  Drift Rate Accuracy  Self-excitation  \\\n",
      "0          2.575205             4.219664         5.314907   \n",
      "\n",
      "   Boundary Separation Speed      Bacc  Non-decision Time Speed  \\\n",
      "0                   0.666291  5.438281                    0.281   \n",
      "\n",
      "   Non-decision Time Accuracy         BIC  Frequency  Participant  \n",
      "0                    0.121337 -542.745144          1           10  \n",
      "2\n",
      "10\n"
     ]
    },
    {
     "name": "stderr",
     "output_type": "stream",
     "text": [
      "Info: Params [1.43025866 2.6475621  3.97045995 0.6891302  1.4543696  0.26592219\n",
      " 0.28636138] gave -230.46982867483865\n"
     ]
    },
    {
     "name": "stdout",
     "output_type": "stream",
     "text": [
      "   Drift Rate Speed  Drift Rate Accuracy  Self-excitation  \\\n",
      "0          1.430259             2.647562          3.97046   \n",
      "\n",
      "   Boundary Separation Speed     Bacc  Non-decision Time Speed  \\\n",
      "0                    0.68913  1.45437                 0.265922   \n",
      "\n",
      "   Non-decision Time Accuracy         BIC  Frequency  Participant  \n",
      "0                    0.286361 -230.469829          2           10  \n",
      "3\n",
      "10\n"
     ]
    },
    {
     "name": "stderr",
     "output_type": "stream",
     "text": [
      "Info: Params [0.61305963 1.82357765 4.98625591 0.62465528 1.17660882 0.27451577\n",
      " 0.32310989] gave -66.46446272038932\n"
     ]
    },
    {
     "name": "stdout",
     "output_type": "stream",
     "text": [
      "   Drift Rate Speed  Drift Rate Accuracy  Self-excitation  \\\n",
      "0           0.61306             1.823578         4.986256   \n",
      "\n",
      "   Boundary Separation Speed      Bacc  Non-decision Time Speed  \\\n",
      "0                   0.624655  1.176609                 0.274516   \n",
      "\n",
      "   Non-decision Time Accuracy        BIC  Frequency  Participant  \n",
      "0                     0.32311 -66.464463          3           10  \n",
      "4\n",
      "10\n"
     ]
    },
    {
     "name": "stderr",
     "output_type": "stream",
     "text": [
      "Info: Params [2.15868445 2.3891577  2.97198775 0.65789974 1.07387839 0.26417094\n",
      " 0.31500729] gave -219.25630804436088\n"
     ]
    },
    {
     "name": "stdout",
     "output_type": "stream",
     "text": [
      "   Drift Rate Speed  Drift Rate Accuracy  Self-excitation  \\\n",
      "0          2.158684             2.389158         2.971988   \n",
      "\n",
      "   Boundary Separation Speed      Bacc  Non-decision Time Speed  \\\n",
      "0                     0.6579  1.073878                 0.264171   \n",
      "\n",
      "   Non-decision Time Accuracy         BIC  Frequency  Participant  \n",
      "0                    0.315007 -219.256308          4           10  \n",
      "5\n",
      "10\n"
     ]
    },
    {
     "name": "stderr",
     "output_type": "stream",
     "text": [
      "Info: Params [2.4407132  2.41925462 2.81894659 0.67558204 1.61240337 0.2610008\n",
      " 0.25460536] gave -227.6562830636761\n"
     ]
    },
    {
     "name": "stdout",
     "output_type": "stream",
     "text": [
      "   Drift Rate Speed  Drift Rate Accuracy  Self-excitation  \\\n",
      "0          2.440713             2.419255         2.818947   \n",
      "\n",
      "   Boundary Separation Speed      Bacc  Non-decision Time Speed  \\\n",
      "0                   0.675582  1.612403                 0.261001   \n",
      "\n",
      "   Non-decision Time Accuracy         BIC  Frequency  Participant  \n",
      "0                    0.254605 -227.656283          5           10  \n",
      "6\n",
      "10\n"
     ]
    },
    {
     "name": "stderr",
     "output_type": "stream",
     "text": [
      "Info: Params [2.49645677 2.66996339 2.57910128 0.64026834 1.1482943  0.27127998\n",
      " 0.31130739] gave -295.22497982650094\n"
     ]
    },
    {
     "name": "stdout",
     "output_type": "stream",
     "text": [
      "   Drift Rate Speed  Drift Rate Accuracy  Self-excitation  \\\n",
      "0          2.496457             2.669963         2.579101   \n",
      "\n",
      "   Boundary Separation Speed      Bacc  Non-decision Time Speed  \\\n",
      "0                   0.640268  1.148294                  0.27128   \n",
      "\n",
      "   Non-decision Time Accuracy        BIC  Frequency  Participant  \n",
      "0                    0.311307 -295.22498          6           10  \n",
      "1\n",
      "11\n"
     ]
    },
    {
     "name": "stderr",
     "output_type": "stream",
     "text": [
      "Info: Params [3.50173557 3.73201446 5.26604202 0.63472299 1.07091424 0.33097796\n",
      " 0.33457462] gave -629.096332878476\n"
     ]
    },
    {
     "name": "stdout",
     "output_type": "stream",
     "text": [
      "   Drift Rate Speed  Drift Rate Accuracy  Self-excitation  \\\n",
      "0          3.501736             3.732014         5.266042   \n",
      "\n",
      "   Boundary Separation Speed      Bacc  Non-decision Time Speed  \\\n",
      "0                   0.634723  1.070914                 0.330978   \n",
      "\n",
      "   Non-decision Time Accuracy         BIC  Frequency  Participant  \n",
      "0                    0.334575 -629.096333          1           11  \n",
      "2\n",
      "11\n"
     ]
    },
    {
     "name": "stderr",
     "output_type": "stream",
     "text": [
      "Info: Params [1.0806998  2.2988087  5.73837919 0.61313107 1.0070035  0.32802441\n",
      " 0.36314443] gave -237.27342483569856\n"
     ]
    },
    {
     "name": "stdout",
     "output_type": "stream",
     "text": [
      "   Drift Rate Speed  Drift Rate Accuracy  Self-excitation  \\\n",
      "0            1.0807             2.298809         5.738379   \n",
      "\n",
      "   Boundary Separation Speed      Bacc  Non-decision Time Speed  \\\n",
      "0                   0.613131  1.007004                 0.328024   \n",
      "\n",
      "   Non-decision Time Accuracy         BIC  Frequency  Participant  \n",
      "0                    0.363144 -237.273425          2           11  \n",
      "3\n",
      "11\n"
     ]
    },
    {
     "name": "stderr",
     "output_type": "stream",
     "text": [
      "Info: Params [0.74607624 1.50690915 5.40542385 0.56785773 1.42767439 0.32582188\n",
      " 0.30931755] gave -58.204329664800596\n"
     ]
    },
    {
     "name": "stdout",
     "output_type": "stream",
     "text": [
      "   Drift Rate Speed  Drift Rate Accuracy  Self-excitation  \\\n",
      "0          0.746076             1.506909         5.405424   \n",
      "\n",
      "   Boundary Separation Speed      Bacc  Non-decision Time Speed  \\\n",
      "0                   0.567858  1.427674                 0.325822   \n",
      "\n",
      "   Non-decision Time Accuracy       BIC  Frequency  Participant  \n",
      "0                    0.309318 -58.20433          3           11  \n",
      "4\n",
      "11\n"
     ]
    },
    {
     "name": "stderr",
     "output_type": "stream",
     "text": [
      "Info: Params [1.47241633 2.34526668 5.38020331 0.68755755 4.81800315 0.32527952\n",
      " 0.1415488 ] gave -196.91096762364086\n"
     ]
    },
    {
     "name": "stdout",
     "output_type": "stream",
     "text": [
      "   Drift Rate Speed  Drift Rate Accuracy  Self-excitation  \\\n",
      "0          1.472416             2.345267         5.380203   \n",
      "\n",
      "   Boundary Separation Speed      Bacc  Non-decision Time Speed  \\\n",
      "0                   0.687558  4.818003                  0.32528   \n",
      "\n",
      "   Non-decision Time Accuracy         BIC  Frequency  Participant  \n",
      "0                    0.141549 -196.910968          4           11  \n",
      "5\n",
      "11\n"
     ]
    },
    {
     "name": "stderr",
     "output_type": "stream",
     "text": [
      "Info: Params [2.07025728 2.59644759 3.3525445  0.59924922 1.17081144 0.32568944\n",
      " 0.3495068 ] gave -288.7403630441672\n"
     ]
    },
    {
     "name": "stdout",
     "output_type": "stream",
     "text": [
      "   Drift Rate Speed  Drift Rate Accuracy  Self-excitation  \\\n",
      "0          2.070257             2.596448         3.352545   \n",
      "\n",
      "   Boundary Separation Speed      Bacc  Non-decision Time Speed  \\\n",
      "0                   0.599249  1.170811                 0.325689   \n",
      "\n",
      "   Non-decision Time Accuracy         BIC  Frequency  Participant  \n",
      "0                    0.349507 -288.740363          5           11  \n",
      "6\n",
      "11\n"
     ]
    },
    {
     "name": "stderr",
     "output_type": "stream",
     "text": [
      "Info: Params [2.32634488 2.31098144 3.44443671 0.57495024 1.0566849  0.34629433\n",
      " 0.34383512] gave -277.0712606147622\n"
     ]
    },
    {
     "name": "stdout",
     "output_type": "stream",
     "text": [
      "   Drift Rate Speed  Drift Rate Accuracy  Self-excitation  \\\n",
      "0          2.326345             2.310981         3.444437   \n",
      "\n",
      "   Boundary Separation Speed      Bacc  Non-decision Time Speed  \\\n",
      "0                    0.57495  1.056685                 0.346294   \n",
      "\n",
      "   Non-decision Time Accuracy         BIC  Frequency  Participant  \n",
      "0                    0.343835 -277.071261          6           11  \n",
      "1\n",
      "12\n"
     ]
    },
    {
     "name": "stderr",
     "output_type": "stream",
     "text": [
      "Info: Params [2.09152168 2.28088976 3.6203232  1.19245792 1.149799   0.18400662\n",
      " 0.27312972] gave -181.99765715565326\n"
     ]
    },
    {
     "name": "stdout",
     "output_type": "stream",
     "text": [
      "   Drift Rate Speed  Drift Rate Accuracy  Self-excitation  \\\n",
      "0          2.091522              2.28089         3.620323   \n",
      "\n",
      "   Boundary Separation Speed      Bacc  Non-decision Time Speed  \\\n",
      "0                   1.192458  1.149799                 0.184007   \n",
      "\n",
      "   Non-decision Time Accuracy         BIC  Frequency  Participant  \n",
      "0                     0.27313 -181.997657          1           12  \n",
      "2\n",
      "12\n"
     ]
    },
    {
     "name": "stderr",
     "output_type": "stream",
     "text": [
      "Info: Params [1.46761685 1.21771024 3.08891078 0.63010637 1.13284559 0.3082867\n",
      " 0.29562719] gave 63.43661595050322\n"
     ]
    },
    {
     "name": "stdout",
     "output_type": "stream",
     "text": [
      "   Drift Rate Speed  Drift Rate Accuracy  Self-excitation  \\\n",
      "0          1.467617              1.21771         3.088911   \n",
      "\n",
      "   Boundary Separation Speed      Bacc  Non-decision Time Speed  \\\n",
      "0                   0.630106  1.132846                 0.308287   \n",
      "\n",
      "   Non-decision Time Accuracy        BIC  Frequency  Participant  \n",
      "0                    0.295627  63.436616          2           12  \n",
      "3\n",
      "12\n"
     ]
    },
    {
     "name": "stderr",
     "output_type": "stream",
     "text": [
      "Info: Params [0.44865072 0.79517943 2.64459393 0.62141373 1.01904765 0.27180999\n",
      " 0.28077273] gave 245.72947105429571\n"
     ]
    },
    {
     "name": "stdout",
     "output_type": "stream",
     "text": [
      "   Drift Rate Speed  Drift Rate Accuracy  Self-excitation  \\\n",
      "0          0.448651             0.795179         2.644594   \n",
      "\n",
      "   Boundary Separation Speed      Bacc  Non-decision Time Speed  \\\n",
      "0                   0.621414  1.019048                  0.27181   \n",
      "\n",
      "   Non-decision Time Accuracy         BIC  Frequency  Participant  \n",
      "0                    0.280773  245.729471          3           12  \n",
      "4\n",
      "12\n"
     ]
    },
    {
     "name": "stderr",
     "output_type": "stream",
     "text": [
      "Info: Params [1.40725051 1.54629129 3.40076968 1.63935506 1.6092522  0.12086747\n",
      " 0.20901357] gave 138.46536367538812\n"
     ]
    },
    {
     "name": "stdout",
     "output_type": "stream",
     "text": [
      "   Drift Rate Speed  Drift Rate Accuracy  Self-excitation  \\\n",
      "0          1.407251             1.546291          3.40077   \n",
      "\n",
      "   Boundary Separation Speed      Bacc  Non-decision Time Speed  \\\n",
      "0                   1.639355  1.609252                 0.120867   \n",
      "\n",
      "   Non-decision Time Accuracy         BIC  Frequency  Participant  \n",
      "0                    0.209014  138.465364          4           12  \n",
      "5\n",
      "12\n"
     ]
    },
    {
     "name": "stderr",
     "output_type": "stream",
     "text": [
      "Info: Params [1.33753666 1.68329783 3.66636706 1.59759845 1.68366423 0.12917425\n",
      " 0.2358729 ] gave 105.87800427203749\n"
     ]
    },
    {
     "name": "stdout",
     "output_type": "stream",
     "text": [
      "   Drift Rate Speed  Drift Rate Accuracy  Self-excitation  \\\n",
      "0          1.337537             1.683298         3.666367   \n",
      "\n",
      "   Boundary Separation Speed      Bacc  Non-decision Time Speed  \\\n",
      "0                   1.597598  1.683664                 0.129174   \n",
      "\n",
      "   Non-decision Time Accuracy         BIC  Frequency  Participant  \n",
      "0                    0.235873  105.878004          5           12  \n",
      "6\n",
      "12\n"
     ]
    },
    {
     "name": "stderr",
     "output_type": "stream",
     "text": [
      "Info: Params [1.7049927  1.53177705 3.15991962 1.08630842 2.42896359 0.22389116\n",
      " 0.10869069] gave 101.06820757341828\n"
     ]
    },
    {
     "name": "stdout",
     "output_type": "stream",
     "text": [
      "   Drift Rate Speed  Drift Rate Accuracy  Self-excitation  \\\n",
      "0          1.704993             1.531777          3.15992   \n",
      "\n",
      "   Boundary Separation Speed      Bacc  Non-decision Time Speed  \\\n",
      "0                   1.086308  2.428964                 0.223891   \n",
      "\n",
      "   Non-decision Time Accuracy         BIC  Frequency  Participant  \n",
      "0                    0.108691  101.068208          6           12  \n",
      "1\n",
      "13\n"
     ]
    },
    {
     "name": "stderr",
     "output_type": "stream",
     "text": [
      "Info: Params [1.93907018 2.09323747 2.83416115 0.68597154 1.37295592 0.3063329\n",
      " 0.27732168] gave -82.46885981266715\n"
     ]
    },
    {
     "name": "stdout",
     "output_type": "stream",
     "text": [
      "   Drift Rate Speed  Drift Rate Accuracy  Self-excitation  \\\n",
      "0           1.93907             2.093237         2.834161   \n",
      "\n",
      "   Boundary Separation Speed      Bacc  Non-decision Time Speed  \\\n",
      "0                   0.685972  1.372956                 0.306333   \n",
      "\n",
      "   Non-decision Time Accuracy       BIC  Frequency  Participant  \n",
      "0                    0.277322 -82.46886          1           13  \n",
      "2\n",
      "13\n"
     ]
    },
    {
     "name": "stderr",
     "output_type": "stream",
     "text": [
      "Info: Params [1.39771507 1.58299676 2.5311209  0.63299649 1.05450472 0.32981421\n",
      " 0.36464804] gave 24.213900668989268\n"
     ]
    },
    {
     "name": "stdout",
     "output_type": "stream",
     "text": [
      "   Drift Rate Speed  Drift Rate Accuracy  Self-excitation  \\\n",
      "0          1.397715             1.582997         2.531121   \n",
      "\n",
      "   Boundary Separation Speed      Bacc  Non-decision Time Speed  \\\n",
      "0                   0.632996  1.054505                 0.329814   \n",
      "\n",
      "   Non-decision Time Accuracy        BIC  Frequency  Participant  \n",
      "0                    0.364648  24.213901          2           13  \n",
      "3\n",
      "13\n"
     ]
    },
    {
     "name": "stderr",
     "output_type": "stream",
     "text": [
      "Info: Params [0.48516766 0.8674864  2.99386377 0.65088385 1.33801467 0.32842651\n",
      " 0.28581125] gave 262.962903502737\n"
     ]
    },
    {
     "name": "stdout",
     "output_type": "stream",
     "text": [
      "   Drift Rate Speed  Drift Rate Accuracy  Self-excitation  \\\n",
      "0          0.485168             0.867486         2.993864   \n",
      "\n",
      "   Boundary Separation Speed      Bacc  Non-decision Time Speed  \\\n",
      "0                   0.650884  1.338015                 0.328427   \n",
      "\n",
      "   Non-decision Time Accuracy         BIC  Frequency  Participant  \n",
      "0                    0.285811  262.962904          3           13  \n",
      "4\n",
      "13\n"
     ]
    },
    {
     "name": "stderr",
     "output_type": "stream",
     "text": [
      "Info: Params [1.39240265 1.61132305 2.20785432 0.66530083 1.33148977 0.32051298\n",
      " 0.29149774] gave 94.88069494416283\n"
     ]
    },
    {
     "name": "stdout",
     "output_type": "stream",
     "text": [
      "   Drift Rate Speed  Drift Rate Accuracy  Self-excitation  \\\n",
      "0          1.392403             1.611323         2.207854   \n",
      "\n",
      "   Boundary Separation Speed     Bacc  Non-decision Time Speed  \\\n",
      "0                   0.665301  1.33149                 0.320513   \n",
      "\n",
      "   Non-decision Time Accuracy        BIC  Frequency  Participant  \n",
      "0                    0.291498  94.880695          4           13  \n",
      "5\n",
      "13\n"
     ]
    },
    {
     "name": "stderr",
     "output_type": "stream",
     "text": [
      "Info: Params [1.84422062 1.55650128 2.09169334 0.69317311 1.20330349 0.32299099\n",
      " 0.33259739] gave 48.30228394467742\n"
     ]
    },
    {
     "name": "stdout",
     "output_type": "stream",
     "text": [
      "   Drift Rate Speed  Drift Rate Accuracy  Self-excitation  \\\n",
      "0          1.844221             1.556501         2.091693   \n",
      "\n",
      "   Boundary Separation Speed      Bacc  Non-decision Time Speed  \\\n",
      "0                   0.693173  1.203303                 0.322991   \n",
      "\n",
      "   Non-decision Time Accuracy        BIC  Frequency  Participant  \n",
      "0                    0.332597  48.302284          5           13  \n",
      "6\n",
      "13\n"
     ]
    },
    {
     "name": "stderr",
     "output_type": "stream",
     "text": [
      "Info: Params [1.63097538 1.55318241 2.94022903 1.14860811 1.26450908 0.23723617\n",
      " 0.30611243] gave 96.21555455641332\n"
     ]
    },
    {
     "name": "stdout",
     "output_type": "stream",
     "text": [
      "   Drift Rate Speed  Drift Rate Accuracy  Self-excitation  \\\n",
      "0          1.630975             1.553182         2.940229   \n",
      "\n",
      "   Boundary Separation Speed      Bacc  Non-decision Time Speed  \\\n",
      "0                   1.148608  1.264509                 0.237236   \n",
      "\n",
      "   Non-decision Time Accuracy        BIC  Frequency  Participant  \n",
      "0                    0.306112  96.215555          6           13  \n",
      "1\n",
      "14\n"
     ]
    },
    {
     "name": "stderr",
     "output_type": "stream",
     "text": [
      "Info: Params [3.00294475 2.63182317 2.79256556 0.78483768 1.92515933 0.27033906\n",
      " 0.20529679] gave -311.9216035405724\n"
     ]
    },
    {
     "name": "stdout",
     "output_type": "stream",
     "text": [
      "   Drift Rate Speed  Drift Rate Accuracy  Self-excitation  \\\n",
      "0          3.002945             2.631823         2.792566   \n",
      "\n",
      "   Boundary Separation Speed      Bacc  Non-decision Time Speed  \\\n",
      "0                   0.784838  1.925159                 0.270339   \n",
      "\n",
      "   Non-decision Time Accuracy         BIC  Frequency  Participant  \n",
      "0                    0.205297 -311.921604          1           14  \n",
      "2\n",
      "14\n"
     ]
    },
    {
     "name": "stderr",
     "output_type": "stream",
     "text": [
      "Info: Params [2.08641346 1.7703914  2.61338769 0.68657631 1.44406784 0.30640738\n",
      " 0.29348374] gave -22.24344945139152\n"
     ]
    },
    {
     "name": "stdout",
     "output_type": "stream",
     "text": [
      "   Drift Rate Speed  Drift Rate Accuracy  Self-excitation  \\\n",
      "0          2.086413             1.770391         2.613388   \n",
      "\n",
      "   Boundary Separation Speed      Bacc  Non-decision Time Speed  \\\n",
      "0                   0.686576  1.444068                 0.306407   \n",
      "\n",
      "   Non-decision Time Accuracy        BIC  Frequency  Participant  \n",
      "0                    0.293484 -22.243449          2           14  \n",
      "3\n",
      "14\n"
     ]
    },
    {
     "name": "stderr",
     "output_type": "stream",
     "text": [
      "Info: Params [1.40676068 1.33611152 2.43613088 0.5939167  2.42599431 0.33585412\n",
      " 0.1139544 ] gave 162.15339679814764\n"
     ]
    },
    {
     "name": "stdout",
     "output_type": "stream",
     "text": [
      "   Drift Rate Speed  Drift Rate Accuracy  Self-excitation  \\\n",
      "0          1.406761             1.336112         2.436131   \n",
      "\n",
      "   Boundary Separation Speed      Bacc  Non-decision Time Speed  \\\n",
      "0                   0.593917  2.425994                 0.335854   \n",
      "\n",
      "   Non-decision Time Accuracy         BIC  Frequency  Participant  \n",
      "0                    0.113954  162.153397          3           14  \n",
      "4\n",
      "14\n"
     ]
    },
    {
     "name": "stderr",
     "output_type": "stream",
     "text": [
      "Info: Params [1.85143845 2.04189953 1.30706048 0.7235601  1.12956858 0.35216101\n",
      " 0.40052907] gave -96.2702980794136\n"
     ]
    },
    {
     "name": "stdout",
     "output_type": "stream",
     "text": [
      "   Drift Rate Speed  Drift Rate Accuracy  Self-excitation  \\\n",
      "0          1.851438               2.0419          1.30706   \n",
      "\n",
      "   Boundary Separation Speed      Bacc  Non-decision Time Speed  \\\n",
      "0                    0.72356  1.129569                 0.352161   \n",
      "\n",
      "   Non-decision Time Accuracy        BIC  Frequency  Participant  \n",
      "0                    0.400529 -96.270298          4           14  \n",
      "5\n",
      "14\n"
     ]
    },
    {
     "name": "stderr",
     "output_type": "stream",
     "text": [
      "Info: Params [1.68983312 1.44779684 1.23993432 0.74108867 2.07745652 0.28892431\n",
      " 0.10001386] gave 210.0541773879488\n"
     ]
    },
    {
     "name": "stdout",
     "output_type": "stream",
     "text": [
      "   Drift Rate Speed  Drift Rate Accuracy  Self-excitation  \\\n",
      "0          1.689833             1.447797         1.239934   \n",
      "\n",
      "   Boundary Separation Speed      Bacc  Non-decision Time Speed  \\\n",
      "0                   0.741089  2.077457                 0.288924   \n",
      "\n",
      "   Non-decision Time Accuracy         BIC  Frequency  Participant  \n",
      "0                    0.100014  210.054177          5           14  \n",
      "6\n",
      "14\n"
     ]
    },
    {
     "name": "stderr",
     "output_type": "stream",
     "text": [
      "Info: Params [ 2.08537119  1.77901193 -1.93920965  0.52274297  0.84529433  0.34113025\n",
      "  0.42225622] gave 50.96547344601582\n"
     ]
    },
    {
     "name": "stdout",
     "output_type": "stream",
     "text": [
      "   Drift Rate Speed  Drift Rate Accuracy  Self-excitation  \\\n",
      "0          2.085371             1.779012         -1.93921   \n",
      "\n",
      "   Boundary Separation Speed      Bacc  Non-decision Time Speed  \\\n",
      "0                   0.522743  0.845294                  0.34113   \n",
      "\n",
      "   Non-decision Time Accuracy        BIC  Frequency  Participant  \n",
      "0                    0.422256  50.965473          6           14  \n",
      "1\n",
      "15\n"
     ]
    },
    {
     "name": "stderr",
     "output_type": "stream",
     "text": [
      "Info: Params [2.3095101  2.29307588 2.00513825 0.62323875 1.50166659 0.31963507\n",
      " 0.28803743] gave -183.4383407632692\n"
     ]
    },
    {
     "name": "stdout",
     "output_type": "stream",
     "text": [
      "   Drift Rate Speed  Drift Rate Accuracy  Self-excitation  \\\n",
      "0           2.30951             2.293076         2.005138   \n",
      "\n",
      "   Boundary Separation Speed      Bacc  Non-decision Time Speed  \\\n",
      "0                   0.623239  1.501667                 0.319635   \n",
      "\n",
      "   Non-decision Time Accuracy         BIC  Frequency  Participant  \n",
      "0                    0.288037 -183.438341          1           15  \n",
      "2\n",
      "15\n"
     ]
    },
    {
     "name": "stderr",
     "output_type": "stream",
     "text": [
      "Info: Params [1.6994258  2.0362692  2.88438292 0.8315425  2.09807777 0.2807293\n",
      " 0.28426928] gave -16.26328007808739\n"
     ]
    },
    {
     "name": "stdout",
     "output_type": "stream",
     "text": [
      "   Drift Rate Speed  Drift Rate Accuracy  Self-excitation  \\\n",
      "0          1.699426             2.036269         2.884383   \n",
      "\n",
      "   Boundary Separation Speed      Bacc  Non-decision Time Speed  \\\n",
      "0                   0.831542  2.098078                 0.280729   \n",
      "\n",
      "   Non-decision Time Accuracy       BIC  Frequency  Participant  \n",
      "0                    0.284269 -16.26328          2           15  \n",
      "3\n",
      "15\n"
     ]
    },
    {
     "name": "stderr",
     "output_type": "stream",
     "text": [
      "Info: Params [0.81688017 1.20228423 2.58798959 0.59696104 1.55640143 0.31420292\n",
      " 0.34091406] gave 186.7370367179493\n"
     ]
    },
    {
     "name": "stdout",
     "output_type": "stream",
     "text": [
      "   Drift Rate Speed  Drift Rate Accuracy  Self-excitation  \\\n",
      "0           0.81688             1.202284          2.58799   \n",
      "\n",
      "   Boundary Separation Speed      Bacc  Non-decision Time Speed  \\\n",
      "0                   0.596961  1.556401                 0.314203   \n",
      "\n",
      "   Non-decision Time Accuracy         BIC  Frequency  Participant  \n",
      "0                    0.340914  186.737037          3           15  \n",
      "4\n",
      "15\n"
     ]
    },
    {
     "name": "stderr",
     "output_type": "stream",
     "text": [
      "Info: Params [1.9233012  2.07872386 1.76043252 0.58408188 1.37232276 0.33881338\n",
      " 0.3889918 ] gave -95.71254883137823\n"
     ]
    },
    {
     "name": "stdout",
     "output_type": "stream",
     "text": [
      "   Drift Rate Speed  Drift Rate Accuracy  Self-excitation  \\\n",
      "0          1.923301             2.078724         1.760433   \n",
      "\n",
      "   Boundary Separation Speed      Bacc  Non-decision Time Speed  \\\n",
      "0                   0.584082  1.372323                 0.338813   \n",
      "\n",
      "   Non-decision Time Accuracy        BIC  Frequency  Participant  \n",
      "0                    0.388992 -95.712549          4           15  \n",
      "5\n",
      "15\n"
     ]
    },
    {
     "name": "stderr",
     "output_type": "stream",
     "text": [
      "Info: Params [1.60674283 1.8416478  1.8940081  0.67393323 1.63246088 0.30131864\n",
      " 0.31217986] gave 39.504567639342454\n"
     ]
    },
    {
     "name": "stdout",
     "output_type": "stream",
     "text": [
      "   Drift Rate Speed  Drift Rate Accuracy  Self-excitation  \\\n",
      "0          1.606743             1.841648         1.894008   \n",
      "\n",
      "   Boundary Separation Speed      Bacc  Non-decision Time Speed  \\\n",
      "0                   0.673933  1.632461                 0.301319   \n",
      "\n",
      "   Non-decision Time Accuracy        BIC  Frequency  Participant  \n",
      "0                     0.31218  39.504568          5           15  \n",
      "6\n",
      "15\n"
     ]
    },
    {
     "name": "stderr",
     "output_type": "stream",
     "text": [
      "Info: Params [1.96364696 2.07960966 2.22530059 0.65604204 1.13476192 0.32816547\n",
      " 0.41288787] gave -105.09775999407263\n"
     ]
    },
    {
     "name": "stdout",
     "output_type": "stream",
     "text": [
      "   Drift Rate Speed  Drift Rate Accuracy  Self-excitation  \\\n",
      "0          1.963647              2.07961         2.225301   \n",
      "\n",
      "   Boundary Separation Speed      Bacc  Non-decision Time Speed  \\\n",
      "0                   0.656042  1.134762                 0.328165   \n",
      "\n",
      "   Non-decision Time Accuracy        BIC  Frequency  Participant  \n",
      "0                    0.412888 -105.09776          6           15  \n",
      "1\n",
      "16\n"
     ]
    },
    {
     "name": "stderr",
     "output_type": "stream",
     "text": [
      "Info: Params [1.47751817 2.50796954 3.32520877 0.72817504 1.60621688 0.24677267\n",
      " 0.28817371] gave -134.02431950952445\n"
     ]
    },
    {
     "name": "stdout",
     "output_type": "stream",
     "text": [
      "   Drift Rate Speed  Drift Rate Accuracy  Self-excitation  \\\n",
      "0          1.477518              2.50797         3.325209   \n",
      "\n",
      "   Boundary Separation Speed      Bacc  Non-decision Time Speed  \\\n",
      "0                   0.728175  1.606217                 0.246773   \n",
      "\n",
      "   Non-decision Time Accuracy        BIC  Frequency  Participant  \n",
      "0                    0.288174 -134.02432          1           16  \n",
      "2\n",
      "16\n"
     ]
    },
    {
     "name": "stderr",
     "output_type": "stream",
     "text": [
      "Info: Params [1.10597187 1.79261327 2.77639155 0.85801327 1.18552507 0.20763625\n",
      " 0.36339811] gave 109.38488564058079\n"
     ]
    },
    {
     "name": "stdout",
     "output_type": "stream",
     "text": [
      "   Drift Rate Speed  Drift Rate Accuracy  Self-excitation  \\\n",
      "0          1.105972             1.792613         2.776392   \n",
      "\n",
      "   Boundary Separation Speed      Bacc  Non-decision Time Speed  \\\n",
      "0                   0.858013  1.185525                 0.207636   \n",
      "\n",
      "   Non-decision Time Accuracy         BIC  Frequency  Participant  \n",
      "0                    0.363398  109.384886          2           16  \n",
      "3\n",
      "16\n"
     ]
    },
    {
     "name": "stderr",
     "output_type": "stream",
     "text": [
      "Info: Params [0.6795951  1.20167242 3.00781082 0.89578918 1.37504961 0.1982282\n",
      " 0.32560259] gave 282.65374465383275\n"
     ]
    },
    {
     "name": "stdout",
     "output_type": "stream",
     "text": [
      "   Drift Rate Speed  Drift Rate Accuracy  Self-excitation  \\\n",
      "0          0.679595             1.201672         3.007811   \n",
      "\n",
      "   Boundary Separation Speed     Bacc  Non-decision Time Speed  \\\n",
      "0                   0.895789  1.37505                 0.198228   \n",
      "\n",
      "   Non-decision Time Accuracy         BIC  Frequency  Participant  \n",
      "0                    0.325603  282.653745          3           16  \n",
      "4\n",
      "16\n"
     ]
    },
    {
     "name": "stderr",
     "output_type": "stream",
     "text": [
      "Info: Params [1.05941483 1.8821749  3.87223288 1.19301495 2.5025568  0.17457973\n",
      " 0.25582701] gave 80.22601068255943\n"
     ]
    },
    {
     "name": "stdout",
     "output_type": "stream",
     "text": [
      "   Drift Rate Speed  Drift Rate Accuracy  Self-excitation  \\\n",
      "0          1.059415             1.882175         3.872233   \n",
      "\n",
      "   Boundary Separation Speed      Bacc  Non-decision Time Speed  \\\n",
      "0                   1.193015  2.502557                  0.17458   \n",
      "\n",
      "   Non-decision Time Accuracy        BIC  Frequency  Participant  \n",
      "0                    0.255827  80.226011          4           16  \n",
      "5\n",
      "16\n"
     ]
    },
    {
     "name": "stderr",
     "output_type": "stream",
     "text": [
      "Info: Params [0.82897243 1.82698231 2.70829754 0.87533898 1.55664153 0.20057075\n",
      " 0.30346474] gave 171.18355552511272\n"
     ]
    },
    {
     "name": "stdout",
     "output_type": "stream",
     "text": [
      "   Drift Rate Speed  Drift Rate Accuracy  Self-excitation  \\\n",
      "0          0.828972             1.826982         2.708298   \n",
      "\n",
      "   Boundary Separation Speed      Bacc  Non-decision Time Speed  \\\n",
      "0                   0.875339  1.556642                 0.200571   \n",
      "\n",
      "   Non-decision Time Accuracy         BIC  Frequency  Participant  \n",
      "0                    0.303465  171.183556          5           16  \n",
      "6\n",
      "16\n"
     ]
    },
    {
     "name": "stderr",
     "output_type": "stream",
     "text": [
      "Info: Params [0.94306316 1.95003892 3.18980466 1.16454606 1.45069463 0.15926433\n",
      " 0.31404495] gave 142.52087917900914\n"
     ]
    },
    {
     "name": "stdout",
     "output_type": "stream",
     "text": [
      "   Drift Rate Speed  Drift Rate Accuracy  Self-excitation  \\\n",
      "0          0.943063             1.950039         3.189805   \n",
      "\n",
      "   Boundary Separation Speed      Bacc  Non-decision Time Speed  \\\n",
      "0                   1.164546  1.450695                 0.159264   \n",
      "\n",
      "   Non-decision Time Accuracy         BIC  Frequency  Participant  \n",
      "0                    0.314045  142.520879          6           16  \n",
      "1\n",
      "17\n"
     ]
    },
    {
     "name": "stderr",
     "output_type": "stream",
     "text": [
      "Info: Params [2.71019506 2.76498071 3.53866315 0.98214887 3.17293581 0.28460372\n",
      " 0.18869703] gave -315.24414044848476\n"
     ]
    },
    {
     "name": "stdout",
     "output_type": "stream",
     "text": [
      "   Drift Rate Speed  Drift Rate Accuracy  Self-excitation  \\\n",
      "0          2.710195             2.764981         3.538663   \n",
      "\n",
      "   Boundary Separation Speed      Bacc  Non-decision Time Speed  \\\n",
      "0                   0.982149  3.172936                 0.284604   \n",
      "\n",
      "   Non-decision Time Accuracy        BIC  Frequency  Participant  \n",
      "0                    0.188697 -315.24414          1           17  \n",
      "2\n",
      "17\n"
     ]
    },
    {
     "name": "stderr",
     "output_type": "stream",
     "text": [
      "Info: Params [2.56167302 2.34462336 2.699584   0.89721635 1.73461117 0.29919489\n",
      " 0.30937217] gave -192.61832793228177\n"
     ]
    },
    {
     "name": "stdout",
     "output_type": "stream",
     "text": [
      "   Drift Rate Speed  Drift Rate Accuracy  Self-excitation  \\\n",
      "0          2.561673             2.344623         2.699584   \n",
      "\n",
      "   Boundary Separation Speed      Bacc  Non-decision Time Speed  \\\n",
      "0                   0.897216  1.734611                 0.299195   \n",
      "\n",
      "   Non-decision Time Accuracy         BIC  Frequency  Participant  \n",
      "0                    0.309372 -192.618328          2           17  \n",
      "3\n",
      "17\n"
     ]
    },
    {
     "name": "stderr",
     "output_type": "stream",
     "text": [
      "Info: Params [1.71523415 1.87195465 3.28996233 0.7371384  1.50018966 0.31376131\n",
      " 0.36238841] gave -10.755503798321527\n"
     ]
    },
    {
     "name": "stdout",
     "output_type": "stream",
     "text": [
      "   Drift Rate Speed  Drift Rate Accuracy  Self-excitation  \\\n",
      "0          1.715234             1.871955         3.289962   \n",
      "\n",
      "   Boundary Separation Speed     Bacc  Non-decision Time Speed  \\\n",
      "0                   0.737138  1.50019                 0.313761   \n",
      "\n",
      "   Non-decision Time Accuracy        BIC  Frequency  Participant  \n",
      "0                    0.362388 -10.755504          3           17  \n",
      "4\n",
      "17\n"
     ]
    },
    {
     "name": "stderr",
     "output_type": "stream",
     "text": [
      "Info: Params [2.0713359  2.6088118  2.77598035 0.89294336 3.40686414 0.28990233\n",
      " 0.19083432] gave -140.9938295391102\n"
     ]
    },
    {
     "name": "stdout",
     "output_type": "stream",
     "text": [
      "   Drift Rate Speed  Drift Rate Accuracy  Self-excitation  \\\n",
      "0          2.071336             2.608812          2.77598   \n",
      "\n",
      "   Boundary Separation Speed      Bacc  Non-decision Time Speed  \\\n",
      "0                   0.892943  3.406864                 0.289902   \n",
      "\n",
      "   Non-decision Time Accuracy        BIC  Frequency  Participant  \n",
      "0                    0.190834 -140.99383          4           17  \n",
      "5\n",
      "17\n"
     ]
    },
    {
     "name": "stderr",
     "output_type": "stream",
     "text": [
      "Info: Params [2.39463097 2.21306467 2.65406552 0.83634517 1.74744214 0.31825903\n",
      " 0.32484597] gave -144.75646336837104\n"
     ]
    },
    {
     "name": "stdout",
     "output_type": "stream",
     "text": [
      "   Drift Rate Speed  Drift Rate Accuracy  Self-excitation  \\\n",
      "0          2.394631             2.213065         2.654066   \n",
      "\n",
      "   Boundary Separation Speed      Bacc  Non-decision Time Speed  \\\n",
      "0                   0.836345  1.747442                 0.318259   \n",
      "\n",
      "   Non-decision Time Accuracy         BIC  Frequency  Participant  \n",
      "0                    0.324846 -144.756463          5           17  \n",
      "6\n",
      "17\n"
     ]
    },
    {
     "name": "stderr",
     "output_type": "stream",
     "text": [
      "Info: Params [2.15961456 2.05703511 2.83978478 1.39455282 3.00339209 0.20723764\n",
      " 0.17392092] gave -43.10829922290272\n"
     ]
    },
    {
     "name": "stdout",
     "output_type": "stream",
     "text": [
      "   Drift Rate Speed  Drift Rate Accuracy  Self-excitation  \\\n",
      "0          2.159615             2.057035         2.839785   \n",
      "\n",
      "   Boundary Separation Speed      Bacc  Non-decision Time Speed  \\\n",
      "0                   1.394553  3.003392                 0.207238   \n",
      "\n",
      "   Non-decision Time Accuracy        BIC  Frequency  Participant  \n",
      "0                    0.173921 -43.108299          6           17  \n"
     ]
    }
   ],
   "source": [
    "%run Wagenmakers2008-OUM2v2a2ter-pyddm.ipynb"
   ]
  },
  {
   "cell_type": "code",
   "execution_count": 6,
   "id": "44997395",
   "metadata": {
    "scrolled": true
   },
   "outputs": [
    {
     "name": "stdout",
     "output_type": "stream",
     "text": [
      "1\n",
      "1\n"
     ]
    },
    {
     "name": "stderr",
     "output_type": "stream",
     "text": [
      "Info: Params [ 2.91890147  3.69514795 -1.41027075 -0.46124451  0.50667085  0.34984913\n",
      "  0.37732577] gave -265.8389163800982\n"
     ]
    },
    {
     "name": "stdout",
     "output_type": "stream",
     "text": [
      "   Drift Rate Speed  Drift Rate Accuracy  Self-excitation Speed  \\\n",
      "0          2.918901             3.695148              -1.410271   \n",
      "\n",
      "   Self-excitation Accuracy  Boundary Separation  Non-decision Time Speed  \\\n",
      "0                 -0.461245             0.506671                 0.349849   \n",
      "\n",
      "   Non-decision Time Accuracy         BIC  Frequency  Participant  \n",
      "0                    0.377326 -265.838916          1            1  \n",
      "2\n",
      "1\n"
     ]
    },
    {
     "name": "stderr",
     "output_type": "stream",
     "text": [
      "Info: Params [2.26615846 2.30463689 8.55270628 4.84230475 1.04681646 0.32586395\n",
      " 0.33029903] gave -135.36510877318386\n"
     ]
    },
    {
     "name": "stdout",
     "output_type": "stream",
     "text": [
      "   Drift Rate Speed  Drift Rate Accuracy  Self-excitation Speed  \\\n",
      "0          2.266158             2.304637               8.552706   \n",
      "\n",
      "   Self-excitation Accuracy  Boundary Separation  Non-decision Time Speed  \\\n",
      "0                  4.842305             1.046816                 0.325864   \n",
      "\n",
      "   Non-decision Time Accuracy         BIC  Frequency  Participant  \n",
      "0                    0.330299 -135.365109          2            1  \n",
      "3\n",
      "1\n"
     ]
    },
    {
     "name": "stderr",
     "output_type": "stream",
     "text": [
      "Info: Params [0.83880843 1.66692149 5.17584084 4.29371037 0.74237275 0.32366722\n",
      " 0.37108133] gave -15.489907510946978\n"
     ]
    },
    {
     "name": "stdout",
     "output_type": "stream",
     "text": [
      "   Drift Rate Speed  Drift Rate Accuracy  Self-excitation Speed  \\\n",
      "0          0.838808             1.666921               5.175841   \n",
      "\n",
      "   Self-excitation Accuracy  Boundary Separation  Non-decision Time Speed  \\\n",
      "0                   4.29371             0.742373                 0.323667   \n",
      "\n",
      "   Non-decision Time Accuracy        BIC  Frequency  Participant  \n",
      "0                    0.371081 -15.489908          3            1  \n",
      "4\n",
      "1\n"
     ]
    },
    {
     "name": "stderr",
     "output_type": "stream",
     "text": [
      "Info: Params [2.30440052 2.70605111 3.9203987  5.36702987 0.66643873 0.32368838\n",
      " 0.37904393] gave -165.75401256825006\n"
     ]
    },
    {
     "name": "stdout",
     "output_type": "stream",
     "text": [
      "   Drift Rate Speed  Drift Rate Accuracy  Self-excitation Speed  \\\n",
      "0          2.304401             2.706051               3.920399   \n",
      "\n",
      "   Self-excitation Accuracy  Boundary Separation  Non-decision Time Speed  \\\n",
      "0                   5.36703             0.666439                 0.323688   \n",
      "\n",
      "   Non-decision Time Accuracy         BIC  Frequency  Participant  \n",
      "0                    0.379044 -165.754013          4            1  \n",
      "5\n",
      "1\n"
     ]
    },
    {
     "name": "stderr",
     "output_type": "stream",
     "text": [
      "Info: Params [3.4191793  2.67339466 6.7234494  6.8258627  3.52058497 0.18433438\n",
      " 0.19378082] gave -179.0169500651853\n"
     ]
    },
    {
     "name": "stdout",
     "output_type": "stream",
     "text": [
      "   Drift Rate Speed  Drift Rate Accuracy  Self-excitation Speed  \\\n",
      "0          3.419179             2.673395               6.723449   \n",
      "\n",
      "   Self-excitation Accuracy  Boundary Separation  Non-decision Time Speed  \\\n",
      "0                  6.825863             3.520585                 0.184334   \n",
      "\n",
      "   Non-decision Time Accuracy        BIC  Frequency  Participant  \n",
      "0                    0.193781 -179.01695          5            1  \n",
      "6\n",
      "1\n"
     ]
    },
    {
     "name": "stderr",
     "output_type": "stream",
     "text": [
      "Info: Params [3.29695748 3.05685879 5.75999354 4.8121123  0.99006967 0.3076574\n",
      " 0.32646635] gave -225.78459148432958\n"
     ]
    },
    {
     "name": "stdout",
     "output_type": "stream",
     "text": [
      "   Drift Rate Speed  Drift Rate Accuracy  Self-excitation Speed  \\\n",
      "0          3.296957             3.056859               5.759994   \n",
      "\n",
      "   Self-excitation Accuracy  Boundary Separation  Non-decision Time Speed  \\\n",
      "0                  4.812112              0.99007                 0.307657   \n",
      "\n",
      "   Non-decision Time Accuracy         BIC  Frequency  Participant  \n",
      "0                    0.326466 -225.784591          6            1  \n",
      "1\n",
      "3\n"
     ]
    },
    {
     "name": "stderr",
     "output_type": "stream",
     "text": [
      "Info: Params [2.55697342 3.06125735 6.88311041 3.05301204 1.13517523 0.27177054\n",
      " 0.3664794 ] gave -184.96962961815342\n"
     ]
    },
    {
     "name": "stdout",
     "output_type": "stream",
     "text": [
      "   Drift Rate Speed  Drift Rate Accuracy  Self-excitation Speed  \\\n",
      "0          2.556973             3.061257                6.88311   \n",
      "\n",
      "   Self-excitation Accuracy  Boundary Separation  Non-decision Time Speed  \\\n",
      "0                  3.053012             1.135175                 0.271771   \n",
      "\n",
      "   Non-decision Time Accuracy        BIC  Frequency  Participant  \n",
      "0                    0.366479 -184.96963          1            3  \n",
      "2\n",
      "3\n"
     ]
    },
    {
     "name": "stderr",
     "output_type": "stream",
     "text": [
      "Info: Params [1.34356583 2.00495159 7.27962685 1.44125794 1.00493811 0.28478932\n",
      " 0.34064189] gave -30.079752700458783\n"
     ]
    },
    {
     "name": "stdout",
     "output_type": "stream",
     "text": [
      "   Drift Rate Speed  Drift Rate Accuracy  Self-excitation Speed  \\\n",
      "0          1.343566             2.004952               7.279627   \n",
      "\n",
      "   Self-excitation Accuracy  Boundary Separation  Non-decision Time Speed  \\\n",
      "0                  1.441258             1.004938                 0.284789   \n",
      "\n",
      "   Non-decision Time Accuracy        BIC  Frequency  Participant  \n",
      "0                    0.340642 -30.079753          2            3  \n",
      "3\n",
      "3\n"
     ]
    },
    {
     "name": "stderr",
     "output_type": "stream",
     "text": [
      "Info: Params [1.33925207 1.72623805 6.41392057 3.1098626  1.29666644 0.24576715\n",
      " 0.34778636] gave 22.754986014138403\n"
     ]
    },
    {
     "name": "stdout",
     "output_type": "stream",
     "text": [
      "   Drift Rate Speed  Drift Rate Accuracy  Self-excitation Speed  \\\n",
      "0          1.339252             1.726238               6.413921   \n",
      "\n",
      "   Self-excitation Accuracy  Boundary Separation  Non-decision Time Speed  \\\n",
      "0                  3.109863             1.296666                 0.245767   \n",
      "\n",
      "   Non-decision Time Accuracy        BIC  Frequency  Participant  \n",
      "0                    0.347786  22.754986          3            3  \n",
      "4\n",
      "3\n"
     ]
    },
    {
     "name": "stderr",
     "output_type": "stream",
     "text": [
      "Info: Params [1.8320722  2.0961474  6.05023161 1.58948075 2.07483522 0.18914936\n",
      " 0.10054376] gave 4.5528603760996305\n"
     ]
    },
    {
     "name": "stdout",
     "output_type": "stream",
     "text": [
      "   Drift Rate Speed  Drift Rate Accuracy  Self-excitation Speed  \\\n",
      "0          1.832072             2.096147               6.050232   \n",
      "\n",
      "   Self-excitation Accuracy  Boundary Separation  Non-decision Time Speed  \\\n",
      "0                  1.589481             2.074835                 0.189149   \n",
      "\n",
      "   Non-decision Time Accuracy      BIC  Frequency  Participant  \n",
      "0                    0.100544  4.55286          4            3  \n",
      "5\n",
      "3\n"
     ]
    },
    {
     "name": "stderr",
     "output_type": "stream",
     "text": [
      "Info: Params [ 2.97565123  1.90934769  2.28131158 -1.08381196  0.8152756   0.28002282\n",
      "  0.36055142] gave -45.239544933706505\n"
     ]
    },
    {
     "name": "stdout",
     "output_type": "stream",
     "text": [
      "   Drift Rate Speed  Drift Rate Accuracy  Self-excitation Speed  \\\n",
      "0          2.975651             1.909348               2.281312   \n",
      "\n",
      "   Self-excitation Accuracy  Boundary Separation  Non-decision Time Speed  \\\n",
      "0                 -1.083812             0.815276                 0.280023   \n",
      "\n",
      "   Non-decision Time Accuracy        BIC  Frequency  Participant  \n",
      "0                    0.360551 -45.239545          5            3  \n",
      "6\n",
      "3\n"
     ]
    },
    {
     "name": "stderr",
     "output_type": "stream",
     "text": [
      "Info: Params [2.61630003 2.2003992  5.34228548 1.15367908 1.24486504 0.27420598\n",
      " 0.29809912] gave -65.30851541734893\n"
     ]
    },
    {
     "name": "stdout",
     "output_type": "stream",
     "text": [
      "   Drift Rate Speed  Drift Rate Accuracy  Self-excitation Speed  \\\n",
      "0            2.6163             2.200399               5.342285   \n",
      "\n",
      "   Self-excitation Accuracy  Boundary Separation  Non-decision Time Speed  \\\n",
      "0                  1.153679             1.244865                 0.274206   \n",
      "\n",
      "   Non-decision Time Accuracy        BIC  Frequency  Participant  \n",
      "0                    0.298099 -65.308515          6            3  \n",
      "1\n",
      "4\n"
     ]
    },
    {
     "name": "stderr",
     "output_type": "stream",
     "text": [
      "Info: Params [  3.67441767   4.7798189    7.33841774 -10.           0.53415616\n",
      "   0.32164493   0.33394027] gave -308.25567835154726\n"
     ]
    },
    {
     "name": "stdout",
     "output_type": "stream",
     "text": [
      "   Drift Rate Speed  Drift Rate Accuracy  Self-excitation Speed  \\\n",
      "0          3.674418             4.779819               7.338418   \n",
      "\n",
      "   Self-excitation Accuracy  Boundary Separation  Non-decision Time Speed  \\\n",
      "0                     -10.0             0.534156                 0.321645   \n",
      "\n",
      "   Non-decision Time Accuracy         BIC  Frequency  Participant  \n",
      "0                     0.33394 -308.255678          1            4  \n",
      "2\n",
      "4\n"
     ]
    },
    {
     "name": "stderr",
     "output_type": "stream",
     "text": [
      "Info: Params [2.30338946 3.23832991 8.83870586 0.15413461 0.71174822 0.30979845\n",
      " 0.3475232 ] gave -218.80223827544717\n"
     ]
    },
    {
     "name": "stdout",
     "output_type": "stream",
     "text": [
      "   Drift Rate Speed  Drift Rate Accuracy  Self-excitation Speed  \\\n",
      "0          2.303389              3.23833               8.838706   \n",
      "\n",
      "   Self-excitation Accuracy  Boundary Separation  Non-decision Time Speed  \\\n",
      "0                  0.154135             0.711748                 0.309798   \n",
      "\n",
      "   Non-decision Time Accuracy         BIC  Frequency  Participant  \n",
      "0                    0.347523 -218.802238          2            4  \n",
      "3\n",
      "4\n"
     ]
    },
    {
     "name": "stderr",
     "output_type": "stream",
     "text": [
      "Info: Params [ 1.56135635  2.07081313  5.92220118 -2.93704554  0.54072349  0.32459297\n",
      "  0.34946922] gave -87.10036318935803\n"
     ]
    },
    {
     "name": "stdout",
     "output_type": "stream",
     "text": [
      "   Drift Rate Speed  Drift Rate Accuracy  Self-excitation Speed  \\\n",
      "0          1.561356             2.070813               5.922201   \n",
      "\n",
      "   Self-excitation Accuracy  Boundary Separation  Non-decision Time Speed  \\\n",
      "0                 -2.937046             0.540723                 0.324593   \n",
      "\n",
      "   Non-decision Time Accuracy        BIC  Frequency  Participant  \n",
      "0                    0.349469 -87.100363          3            4  \n",
      "4\n",
      "4\n"
     ]
    },
    {
     "name": "stderr",
     "output_type": "stream",
     "text": [
      "Info: Params [ 3.55320534  2.91755209 10.          2.9930295   1.30684541  0.29404497\n",
      "  0.26900685] gave -237.36267975583448\n"
     ]
    },
    {
     "name": "stdout",
     "output_type": "stream",
     "text": [
      "   Drift Rate Speed  Drift Rate Accuracy  Self-excitation Speed  \\\n",
      "0          3.553205             2.917552                   10.0   \n",
      "\n",
      "   Self-excitation Accuracy  Boundary Separation  Non-decision Time Speed  \\\n",
      "0                   2.99303             1.306845                 0.294045   \n",
      "\n",
      "   Non-decision Time Accuracy        BIC  Frequency  Participant  \n",
      "0                    0.269007 -237.36268          4            4  \n",
      "5\n",
      "4\n"
     ]
    },
    {
     "name": "stderr",
     "output_type": "stream",
     "text": [
      "Info: Params [ 3.38121572  2.44162116  4.90853931 -1.37151201  0.58814634  0.3194209\n",
      "  0.35173533] gave -204.57069518593067\n"
     ]
    },
    {
     "name": "stdout",
     "output_type": "stream",
     "text": [
      "   Drift Rate Speed  Drift Rate Accuracy  Self-excitation Speed  \\\n",
      "0          3.381216             2.441621               4.908539   \n",
      "\n",
      "   Self-excitation Accuracy  Boundary Separation  Non-decision Time Speed  \\\n",
      "0                 -1.371512             0.588146                 0.319421   \n",
      "\n",
      "   Non-decision Time Accuracy         BIC  Frequency  Participant  \n",
      "0                    0.351735 -204.570695          5            4  \n",
      "6\n",
      "4\n"
     ]
    },
    {
     "name": "stderr",
     "output_type": "stream",
     "text": [
      "Info: Params [3.12302782 2.1532607  7.88491046 2.48970054 0.71653804 0.30361271\n",
      " 0.33724535] gave -194.50819828316278\n"
     ]
    },
    {
     "name": "stdout",
     "output_type": "stream",
     "text": [
      "   Drift Rate Speed  Drift Rate Accuracy  Self-excitation Speed  \\\n",
      "0          3.123028             2.153261                7.88491   \n",
      "\n",
      "   Self-excitation Accuracy  Boundary Separation  Non-decision Time Speed  \\\n",
      "0                  2.489701             0.716538                 0.303613   \n",
      "\n",
      "   Non-decision Time Accuracy         BIC  Frequency  Participant  \n",
      "0                    0.337245 -194.508198          6            4  \n",
      "1\n",
      "5\n"
     ]
    },
    {
     "name": "stderr",
     "output_type": "stream",
     "text": [
      "Info: Params [ 3.93092215  4.5106464   8.92317243 -4.12144549  0.77814559  0.30423581\n",
      "  0.36275476] gave -296.5841433797408\n"
     ]
    },
    {
     "name": "stdout",
     "output_type": "stream",
     "text": [
      "   Drift Rate Speed  Drift Rate Accuracy  Self-excitation Speed  \\\n",
      "0          3.930922             4.510646               8.923172   \n",
      "\n",
      "   Self-excitation Accuracy  Boundary Separation  Non-decision Time Speed  \\\n",
      "0                 -4.121445             0.778146                 0.304236   \n",
      "\n",
      "   Non-decision Time Accuracy         BIC  Frequency  Participant  \n",
      "0                    0.362755 -296.584143          1            5  \n",
      "2\n",
      "5\n"
     ]
    },
    {
     "name": "stderr",
     "output_type": "stream",
     "text": [
      "Info: Params [3.59351528 2.4789069  9.64754661 6.14111242 2.17040278 0.25324042\n",
      " 0.31179653] gave -225.02796132478767\n"
     ]
    },
    {
     "name": "stdout",
     "output_type": "stream",
     "text": [
      "   Drift Rate Speed  Drift Rate Accuracy  Self-excitation Speed  \\\n",
      "0          3.593515             2.478907               9.647547   \n",
      "\n",
      "   Self-excitation Accuracy  Boundary Separation  Non-decision Time Speed  \\\n",
      "0                  6.141112             2.170403                  0.25324   \n",
      "\n",
      "   Non-decision Time Accuracy         BIC  Frequency  Participant  \n",
      "0                    0.311797 -225.027961          2            5  \n",
      "3\n",
      "5\n"
     ]
    },
    {
     "name": "stderr",
     "output_type": "stream",
     "text": [
      "Info: Params [2.11889607 2.97338835 8.70589697 5.09112809 1.14362297 0.29523803\n",
      " 0.41485302] gave -187.91317866936237\n"
     ]
    },
    {
     "name": "stdout",
     "output_type": "stream",
     "text": [
      "   Drift Rate Speed  Drift Rate Accuracy  Self-excitation Speed  \\\n",
      "0          2.118896             2.973388               8.705897   \n",
      "\n",
      "   Self-excitation Accuracy  Boundary Separation  Non-decision Time Speed  \\\n",
      "0                  5.091128             1.143623                 0.295238   \n",
      "\n",
      "   Non-decision Time Accuracy         BIC  Frequency  Participant  \n",
      "0                    0.414853 -187.913179          3            5  \n",
      "4\n",
      "5\n"
     ]
    },
    {
     "name": "stderr",
     "output_type": "stream",
     "text": [
      "Info: Params [4.61075717 3.17714665 5.48559547 3.72861313 1.52296425 0.27821295\n",
      " 0.34512786] gave -270.13496196898274\n"
     ]
    },
    {
     "name": "stdout",
     "output_type": "stream",
     "text": [
      "   Drift Rate Speed  Drift Rate Accuracy  Self-excitation Speed  \\\n",
      "0          4.610757             3.177147               5.485595   \n",
      "\n",
      "   Self-excitation Accuracy  Boundary Separation  Non-decision Time Speed  \\\n",
      "0                  3.728613             1.522964                 0.278213   \n",
      "\n",
      "   Non-decision Time Accuracy         BIC  Frequency  Participant  \n",
      "0                    0.345128 -270.134962          4            5  \n",
      "5\n",
      "5\n"
     ]
    },
    {
     "name": "stderr",
     "output_type": "stream",
     "text": [
      "Info: Params [ 4.32567789  2.4324734  10.          2.06925238  0.7785565   0.35312247\n",
      "  0.45585585] gave -227.8845121635922\n"
     ]
    },
    {
     "name": "stdout",
     "output_type": "stream",
     "text": [
      "   Drift Rate Speed  Drift Rate Accuracy  Self-excitation Speed  \\\n",
      "0          4.325678             2.432473                   10.0   \n",
      "\n",
      "   Self-excitation Accuracy  Boundary Separation  Non-decision Time Speed  \\\n",
      "0                  2.069252             0.778556                 0.353122   \n",
      "\n",
      "   Non-decision Time Accuracy         BIC  Frequency  Participant  \n",
      "0                    0.455856 -227.884512          5            5  \n",
      "6\n",
      "5\n"
     ]
    },
    {
     "name": "stderr",
     "output_type": "stream",
     "text": [
      "Info: Params [2.86490243 2.65760206 9.58182851 5.01792079 1.76665805 0.25391334\n",
      " 0.33788872] gave -200.97060439927196\n"
     ]
    },
    {
     "name": "stdout",
     "output_type": "stream",
     "text": [
      "   Drift Rate Speed  Drift Rate Accuracy  Self-excitation Speed  \\\n",
      "0          2.864902             2.657602               9.581829   \n",
      "\n",
      "   Self-excitation Accuracy  Boundary Separation  Non-decision Time Speed  \\\n",
      "0                  5.017921             1.766658                 0.253913   \n",
      "\n",
      "   Non-decision Time Accuracy         BIC  Frequency  Participant  \n",
      "0                    0.337889 -200.970604          6            5  \n",
      "1\n",
      "6\n"
     ]
    },
    {
     "name": "stderr",
     "output_type": "stream",
     "text": [
      "Info: Params [2.16282289 2.88286318 7.68707284 4.7890304  1.02531817 0.23309088\n",
      " 0.33256585] gave -186.77741431874148\n"
     ]
    },
    {
     "name": "stdout",
     "output_type": "stream",
     "text": [
      "   Drift Rate Speed  Drift Rate Accuracy  Self-excitation Speed  \\\n",
      "0          2.162823             2.882863               7.687073   \n",
      "\n",
      "   Self-excitation Accuracy  Boundary Separation  Non-decision Time Speed  \\\n",
      "0                   4.78903             1.025318                 0.233091   \n",
      "\n",
      "   Non-decision Time Accuracy         BIC  Frequency  Participant  \n",
      "0                    0.332566 -186.777414          1            6  \n",
      "2\n",
      "6\n"
     ]
    },
    {
     "name": "stderr",
     "output_type": "stream",
     "text": [
      "Info: Params [1.18046335 2.38204059 7.4955696  5.34509369 1.53458264 0.15847516\n",
      " 0.33845165] gave -81.76436792424244\n"
     ]
    },
    {
     "name": "stdout",
     "output_type": "stream",
     "text": [
      "   Drift Rate Speed  Drift Rate Accuracy  Self-excitation Speed  \\\n",
      "0          1.180463             2.382041                7.49557   \n",
      "\n",
      "   Self-excitation Accuracy  Boundary Separation  Non-decision Time Speed  \\\n",
      "0                  5.345094             1.534583                 0.158475   \n",
      "\n",
      "   Non-decision Time Accuracy        BIC  Frequency  Participant  \n",
      "0                    0.338452 -81.764368          2            6  \n",
      "3\n",
      "6\n"
     ]
    },
    {
     "name": "stderr",
     "output_type": "stream",
     "text": [
      "Info: Params [0.39840284 1.52885071 6.60645067 4.90897938 1.1930366  0.16527787\n",
      " 0.35968597] gave 26.472849254446526\n"
     ]
    },
    {
     "name": "stdout",
     "output_type": "stream",
     "text": [
      "   Drift Rate Speed  Drift Rate Accuracy  Self-excitation Speed  \\\n",
      "0          0.398403             1.528851               6.606451   \n",
      "\n",
      "   Self-excitation Accuracy  Boundary Separation  Non-decision Time Speed  \\\n",
      "0                  4.908979             1.193037                 0.165278   \n",
      "\n",
      "   Non-decision Time Accuracy        BIC  Frequency  Participant  \n",
      "0                    0.359686  26.472849          3            6  \n",
      "4\n",
      "6\n"
     ]
    },
    {
     "name": "stderr",
     "output_type": "stream",
     "text": [
      "Info: Params [0.67061171 2.54000608 7.51377893 3.93679089 2.44019132 0.10179728\n",
      " 0.23795733] gave -46.69447605223018\n"
     ]
    },
    {
     "name": "stdout",
     "output_type": "stream",
     "text": [
      "   Drift Rate Speed  Drift Rate Accuracy  Self-excitation Speed  \\\n",
      "0          0.670612             2.540006               7.513779   \n",
      "\n",
      "   Self-excitation Accuracy  Boundary Separation  Non-decision Time Speed  \\\n",
      "0                  3.936791             2.440191                 0.101797   \n",
      "\n",
      "   Non-decision Time Accuracy        BIC  Frequency  Participant  \n",
      "0                    0.237957 -46.694476          4            6  \n",
      "5\n",
      "6\n"
     ]
    },
    {
     "name": "stderr",
     "output_type": "stream",
     "text": [
      "Info: Params [0.78685175 2.34053999 7.47633239 3.68014887 1.09029797 0.22669856\n",
      " 0.34940762] gave -48.2241728772335\n"
     ]
    },
    {
     "name": "stdout",
     "output_type": "stream",
     "text": [
      "   Drift Rate Speed  Drift Rate Accuracy  Self-excitation Speed  \\\n",
      "0          0.786852              2.34054               7.476332   \n",
      "\n",
      "   Self-excitation Accuracy  Boundary Separation  Non-decision Time Speed  \\\n",
      "0                  3.680149             1.090298                 0.226699   \n",
      "\n",
      "   Non-decision Time Accuracy        BIC  Frequency  Participant  \n",
      "0                    0.349408 -48.224173          5            6  \n",
      "6\n",
      "6\n"
     ]
    },
    {
     "name": "stderr",
     "output_type": "stream",
     "text": [
      "Info: Params [0.59149634 2.49982657 5.81725931 4.28356438 1.64220798 0.10342667\n",
      " 0.27319216] gave -35.72702068482538\n"
     ]
    },
    {
     "name": "stdout",
     "output_type": "stream",
     "text": [
      "   Drift Rate Speed  Drift Rate Accuracy  Self-excitation Speed  \\\n",
      "0          0.591496             2.499827               5.817259   \n",
      "\n",
      "   Self-excitation Accuracy  Boundary Separation  Non-decision Time Speed  \\\n",
      "0                  4.283564             1.642208                 0.103427   \n",
      "\n",
      "   Non-decision Time Accuracy        BIC  Frequency  Participant  \n",
      "0                    0.273192 -35.727021          6            6  \n",
      "1\n",
      "7\n"
     ]
    },
    {
     "name": "stderr",
     "output_type": "stream",
     "text": [
      "Info: Params [0.26626788 2.04162125 6.28760048 4.36695422 1.36608583 0.11443082\n",
      " 0.20334451] gave -13.15578595388255\n"
     ]
    },
    {
     "name": "stdout",
     "output_type": "stream",
     "text": [
      "   Drift Rate Speed  Drift Rate Accuracy  Self-excitation Speed  \\\n",
      "0          0.266268             2.041621                 6.2876   \n",
      "\n",
      "   Self-excitation Accuracy  Boundary Separation  Non-decision Time Speed  \\\n",
      "0                  4.366954             1.366086                 0.114431   \n",
      "\n",
      "   Non-decision Time Accuracy        BIC  Frequency  Participant  \n",
      "0                    0.203345 -13.155786          1            7  \n",
      "2\n",
      "7\n"
     ]
    },
    {
     "name": "stderr",
     "output_type": "stream",
     "text": [
      "Info: Params [0.         1.39801236 7.76341633 4.77967058 1.01192824 0.19801061\n",
      " 0.27646441] gave 5.319187575755983\n"
     ]
    },
    {
     "name": "stdout",
     "output_type": "stream",
     "text": [
      "   Drift Rate Speed  Drift Rate Accuracy  Self-excitation Speed  \\\n",
      "0               0.0             1.398012               7.763416   \n",
      "\n",
      "   Self-excitation Accuracy  Boundary Separation  Non-decision Time Speed  \\\n",
      "0                  4.779671             1.011928                 0.198011   \n",
      "\n",
      "   Non-decision Time Accuracy       BIC  Frequency  Participant  \n",
      "0                    0.276464  5.319188          2            7  \n",
      "3\n",
      "7\n"
     ]
    },
    {
     "name": "stderr",
     "output_type": "stream",
     "text": [
      "Info: Params [0.         0.64026554 7.59739176 4.4905418  2.03079502 0.1015018\n",
      " 0.13198294] gave 88.0640917871452\n"
     ]
    },
    {
     "name": "stdout",
     "output_type": "stream",
     "text": [
      "   Drift Rate Speed  Drift Rate Accuracy  Self-excitation Speed  \\\n",
      "0               0.0             0.640266               7.597392   \n",
      "\n",
      "   Self-excitation Accuracy  Boundary Separation  Non-decision Time Speed  \\\n",
      "0                  4.490542             2.030795                 0.101502   \n",
      "\n",
      "   Non-decision Time Accuracy        BIC  Frequency  Participant  \n",
      "0                    0.131983  88.064092          3            7  \n",
      "4\n",
      "7\n"
     ]
    },
    {
     "name": "stderr",
     "output_type": "stream",
     "text": [
      "Info: Params [1.71070349 1.65263578 6.99090867 3.49400133 1.28368775 0.1817384\n",
      " 0.24483475] gave -9.275191571435244\n"
     ]
    },
    {
     "name": "stdout",
     "output_type": "stream",
     "text": [
      "   Drift Rate Speed  Drift Rate Accuracy  Self-excitation Speed  \\\n",
      "0          1.710703             1.652636               6.990909   \n",
      "\n",
      "   Self-excitation Accuracy  Boundary Separation  Non-decision Time Speed  \\\n",
      "0                  3.494001             1.283688                 0.181738   \n",
      "\n",
      "   Non-decision Time Accuracy       BIC  Frequency  Participant  \n",
      "0                    0.244835 -9.275192          4            7  \n",
      "5\n",
      "7\n"
     ]
    },
    {
     "name": "stderr",
     "output_type": "stream",
     "text": [
      "Info: Params [2.18818563 1.49441037 6.91049598 4.94086045 1.46661943 0.1703894\n",
      " 0.25981714] gave -43.064842557665855\n"
     ]
    },
    {
     "name": "stdout",
     "output_type": "stream",
     "text": [
      "   Drift Rate Speed  Drift Rate Accuracy  Self-excitation Speed  \\\n",
      "0          2.188186              1.49441               6.910496   \n",
      "\n",
      "   Self-excitation Accuracy  Boundary Separation  Non-decision Time Speed  \\\n",
      "0                   4.94086             1.466619                 0.170389   \n",
      "\n",
      "   Non-decision Time Accuracy        BIC  Frequency  Participant  \n",
      "0                    0.259817 -43.064843          5            7  \n",
      "6\n",
      "7\n"
     ]
    },
    {
     "name": "stderr",
     "output_type": "stream",
     "text": [
      "Info: Params [1.82219109 1.85214242 5.97125732 3.50203929 0.95226501 0.21338845\n",
      " 0.30121158] gave -54.68656928606904\n"
     ]
    },
    {
     "name": "stdout",
     "output_type": "stream",
     "text": [
      "   Drift Rate Speed  Drift Rate Accuracy  Self-excitation Speed  \\\n",
      "0          1.822191             1.852142               5.971257   \n",
      "\n",
      "   Self-excitation Accuracy  Boundary Separation  Non-decision Time Speed  \\\n",
      "0                  3.502039             0.952265                 0.213388   \n",
      "\n",
      "   Non-decision Time Accuracy        BIC  Frequency  Participant  \n",
      "0                    0.301212 -54.686569          6            7  \n",
      "1\n",
      "8\n"
     ]
    },
    {
     "name": "stderr",
     "output_type": "stream",
     "text": [
      "Info: Params [0.56494641 2.10003848 5.49429637 2.09157083 1.55969994 0.10003703\n",
      " 0.30488349] gave 67.75503155331288\n"
     ]
    },
    {
     "name": "stdout",
     "output_type": "stream",
     "text": [
      "   Drift Rate Speed  Drift Rate Accuracy  Self-excitation Speed  \\\n",
      "0          0.564946             2.100038               5.494296   \n",
      "\n",
      "   Self-excitation Accuracy  Boundary Separation  Non-decision Time Speed  \\\n",
      "0                  2.091571               1.5597                 0.100037   \n",
      "\n",
      "   Non-decision Time Accuracy        BIC  Frequency  Participant  \n",
      "0                    0.304883  67.755032          1            8  \n",
      "2\n",
      "8\n"
     ]
    },
    {
     "name": "stderr",
     "output_type": "stream",
     "text": [
      "Info: Params [0.         0.89664418 5.71515808 1.81215735 1.54803254 0.10001286\n",
      " 0.26106808] gave 213.1540799571465\n"
     ]
    },
    {
     "name": "stdout",
     "output_type": "stream",
     "text": [
      "   Drift Rate Speed  Drift Rate Accuracy  Self-excitation Speed  \\\n",
      "0               0.0             0.896644               5.715158   \n",
      "\n",
      "   Self-excitation Accuracy  Boundary Separation  Non-decision Time Speed  \\\n",
      "0                  1.812157             1.548033                 0.100013   \n",
      "\n",
      "   Non-decision Time Accuracy        BIC  Frequency  Participant  \n",
      "0                    0.261068  213.15408          2            8  \n",
      "3\n",
      "8\n"
     ]
    },
    {
     "name": "stderr",
     "output_type": "stream",
     "text": [
      "Info: Params [0.         0.39561767 5.59572629 2.11316551 1.73437755 0.10214558\n",
      " 0.17644459] gave 263.1779530569243\n"
     ]
    },
    {
     "name": "stdout",
     "output_type": "stream",
     "text": [
      "   Drift Rate Speed  Drift Rate Accuracy  Self-excitation Speed  \\\n",
      "0               0.0             0.395618               5.595726   \n",
      "\n",
      "   Self-excitation Accuracy  Boundary Separation  Non-decision Time Speed  \\\n",
      "0                  2.113166             1.734378                 0.102146   \n",
      "\n",
      "   Non-decision Time Accuracy         BIC  Frequency  Participant  \n",
      "0                    0.176445  263.177953          3            8  \n",
      "4\n",
      "8\n"
     ]
    },
    {
     "name": "stderr",
     "output_type": "stream",
     "text": [
      "Info: Params [0.4551508  1.04692689 5.52437204 1.26279193 1.63879604 0.10195191\n",
      " 0.16353133] gave 235.32769291061072\n"
     ]
    },
    {
     "name": "stdout",
     "output_type": "stream",
     "text": [
      "   Drift Rate Speed  Drift Rate Accuracy  Self-excitation Speed  \\\n",
      "0          0.455151             1.046927               5.524372   \n",
      "\n",
      "   Self-excitation Accuracy  Boundary Separation  Non-decision Time Speed  \\\n",
      "0                  1.262792             1.638796                 0.101952   \n",
      "\n",
      "   Non-decision Time Accuracy         BIC  Frequency  Participant  \n",
      "0                    0.163531  235.327693          4            8  \n",
      "5\n",
      "8\n"
     ]
    },
    {
     "name": "stderr",
     "output_type": "stream",
     "text": [
      "Info: Params [0.33973251 1.27796064 6.12544845 1.18340225 1.81560554 0.10473311\n",
      " 0.10073854] gave 180.4755815768262\n"
     ]
    },
    {
     "name": "stdout",
     "output_type": "stream",
     "text": [
      "   Drift Rate Speed  Drift Rate Accuracy  Self-excitation Speed  \\\n",
      "0          0.339733             1.277961               6.125448   \n",
      "\n",
      "   Self-excitation Accuracy  Boundary Separation  Non-decision Time Speed  \\\n",
      "0                  1.183402             1.815606                 0.104733   \n",
      "\n",
      "   Non-decision Time Accuracy         BIC  Frequency  Participant  \n",
      "0                    0.100739  180.475582          5            8  \n",
      "6\n",
      "8\n"
     ]
    },
    {
     "name": "stderr",
     "output_type": "stream",
     "text": [
      "Info: Params [0.11251471 1.24601462 5.68376391 1.06385706 1.64945926 0.11653527\n",
      " 0.10032584] gave 199.11750788679439\n"
     ]
    },
    {
     "name": "stdout",
     "output_type": "stream",
     "text": [
      "   Drift Rate Speed  Drift Rate Accuracy  Self-excitation Speed  \\\n",
      "0          0.112515             1.246015               5.683764   \n",
      "\n",
      "   Self-excitation Accuracy  Boundary Separation  Non-decision Time Speed  \\\n",
      "0                  1.063857             1.649459                 0.116535   \n",
      "\n",
      "   Non-decision Time Accuracy         BIC  Frequency  Participant  \n",
      "0                    0.100326  199.117508          6            8  \n",
      "1\n",
      "9\n"
     ]
    },
    {
     "name": "stderr",
     "output_type": "stream",
     "text": [
      "Info: Params [ 3.97824494  2.68260739 10.          3.36456485  1.12151373  0.34535689\n",
      "  0.3578063 ] gave -260.92046957736386\n"
     ]
    },
    {
     "name": "stdout",
     "output_type": "stream",
     "text": [
      "   Drift Rate Speed  Drift Rate Accuracy  Self-excitation Speed  \\\n",
      "0          3.978245             2.682607                   10.0   \n",
      "\n",
      "   Self-excitation Accuracy  Boundary Separation  Non-decision Time Speed  \\\n",
      "0                  3.364565             1.121514                 0.345357   \n",
      "\n",
      "   Non-decision Time Accuracy        BIC  Frequency  Participant  \n",
      "0                    0.357806 -260.92047          1            9  \n",
      "2\n",
      "9\n"
     ]
    },
    {
     "name": "stderr",
     "output_type": "stream",
     "text": [
      "Info: Params [ 1.79152867  1.99847298  8.993708   -5.19346022  0.61354814  0.37783675\n",
      "  0.41411566] gave -28.773540002476942\n"
     ]
    },
    {
     "name": "stdout",
     "output_type": "stream",
     "text": [
      "   Drift Rate Speed  Drift Rate Accuracy  Self-excitation Speed  \\\n",
      "0          1.791529             1.998473               8.993708   \n",
      "\n",
      "   Self-excitation Accuracy  Boundary Separation  Non-decision Time Speed  \\\n",
      "0                  -5.19346             0.613548                 0.377837   \n",
      "\n",
      "   Non-decision Time Accuracy       BIC  Frequency  Participant  \n",
      "0                    0.414116 -28.77354          2            9  \n",
      "3\n",
      "9\n"
     ]
    },
    {
     "name": "stderr",
     "output_type": "stream",
     "text": [
      "Info: Params [ 0.87860585  1.33203178 10.          2.61051791  1.20535271  0.33847008\n",
      "  0.34334129] gave 33.94643468538848\n"
     ]
    },
    {
     "name": "stdout",
     "output_type": "stream",
     "text": [
      "   Drift Rate Speed  Drift Rate Accuracy  Self-excitation Speed  \\\n",
      "0          0.878606             1.332032                   10.0   \n",
      "\n",
      "   Self-excitation Accuracy  Boundary Separation  Non-decision Time Speed  \\\n",
      "0                  2.610518             1.205353                  0.33847   \n",
      "\n",
      "   Non-decision Time Accuracy        BIC  Frequency  Participant  \n",
      "0                    0.343341  33.946435          3            9  \n",
      "4\n",
      "9\n"
     ]
    },
    {
     "name": "stderr",
     "output_type": "stream",
     "text": [
      "Info: Params [ 3.17991081  2.36766083 -0.46256937 -7.27817822  0.52479566  0.37652579\n",
      "  0.44118268] gave -120.36416591814472\n"
     ]
    },
    {
     "name": "stdout",
     "output_type": "stream",
     "text": [
      "   Drift Rate Speed  Drift Rate Accuracy  Self-excitation Speed  \\\n",
      "0          3.179911             2.367661              -0.462569   \n",
      "\n",
      "   Self-excitation Accuracy  Boundary Separation  Non-decision Time Speed  \\\n",
      "0                 -7.278178             0.524796                 0.376526   \n",
      "\n",
      "   Non-decision Time Accuracy         BIC  Frequency  Participant  \n",
      "0                    0.441183 -120.364166          4            9  \n",
      "5\n",
      "9\n"
     ]
    },
    {
     "name": "stderr",
     "output_type": "stream",
     "text": [
      "Info: Params [2.92465918 1.828223   9.61500659 3.04077534 3.08078264 0.26045217\n",
      " 0.10009634] gave -77.96082785017526\n"
     ]
    },
    {
     "name": "stdout",
     "output_type": "stream",
     "text": [
      "   Drift Rate Speed  Drift Rate Accuracy  Self-excitation Speed  \\\n",
      "0          2.924659             1.828223               9.615007   \n",
      "\n",
      "   Self-excitation Accuracy  Boundary Separation  Non-decision Time Speed  \\\n",
      "0                  3.040775             3.080783                 0.260452   \n",
      "\n",
      "   Non-decision Time Accuracy        BIC  Frequency  Participant  \n",
      "0                    0.100096 -77.960828          5            9  \n",
      "6\n",
      "9\n"
     ]
    },
    {
     "name": "stderr",
     "output_type": "stream",
     "text": [
      "Info: Params [ 3.09057126  2.91739698  4.96016987 -8.14062229  0.54571791  0.3943039\n",
      "  0.4364303 ] gave -164.1304959325496\n"
     ]
    },
    {
     "name": "stdout",
     "output_type": "stream",
     "text": [
      "   Drift Rate Speed  Drift Rate Accuracy  Self-excitation Speed  \\\n",
      "0          3.090571             2.917397                4.96017   \n",
      "\n",
      "   Self-excitation Accuracy  Boundary Separation  Non-decision Time Speed  \\\n",
      "0                 -8.140622             0.545718                 0.394304   \n",
      "\n",
      "   Non-decision Time Accuracy         BIC  Frequency  Participant  \n",
      "0                     0.43643 -164.130496          6            9  \n",
      "1\n",
      "10\n"
     ]
    },
    {
     "name": "stderr",
     "output_type": "stream",
     "text": [
      "Info: Params [ 2.50242736  4.04459474  6.27308984 -1.70196311  0.64817102  0.28694375\n",
      "  0.35949282] gave -540.7301402184302\n"
     ]
    },
    {
     "name": "stdout",
     "output_type": "stream",
     "text": [
      "   Drift Rate Speed  Drift Rate Accuracy  Self-excitation Speed  \\\n",
      "0          2.502427             4.044595                6.27309   \n",
      "\n",
      "   Self-excitation Accuracy  Boundary Separation  Non-decision Time Speed  \\\n",
      "0                 -1.701963             0.648171                 0.286944   \n",
      "\n",
      "   Non-decision Time Accuracy        BIC  Frequency  Participant  \n",
      "0                    0.359493 -540.73014          1           10  \n",
      "2\n",
      "10\n"
     ]
    },
    {
     "name": "stderr",
     "output_type": "stream",
     "text": [
      "Info: Params [1.20150399 2.71319688 8.23673587 3.66718041 1.38536024 0.22679905\n",
      " 0.29170908] gave -238.95471829978095\n"
     ]
    },
    {
     "name": "stdout",
     "output_type": "stream",
     "text": [
      "   Drift Rate Speed  Drift Rate Accuracy  Self-excitation Speed  \\\n",
      "0          1.201504             2.713197               8.236736   \n",
      "\n",
      "   Self-excitation Accuracy  Boundary Separation  Non-decision Time Speed  \\\n",
      "0                   3.66718              1.38536                 0.226799   \n",
      "\n",
      "   Non-decision Time Accuracy         BIC  Frequency  Participant  \n",
      "0                    0.291709 -238.954718          2           10  \n",
      "3\n",
      "10\n"
     ]
    },
    {
     "name": "stderr",
     "output_type": "stream",
     "text": [
      "Info: Params [0.51842635 1.84896936 7.92571732 4.21515297 1.00069084 0.24156204\n",
      " 0.33997432] gave -69.86958658450433\n"
     ]
    },
    {
     "name": "stdout",
     "output_type": "stream",
     "text": [
      "   Drift Rate Speed  Drift Rate Accuracy  Self-excitation Speed  \\\n",
      "0          0.518426             1.848969               7.925717   \n",
      "\n",
      "   Self-excitation Accuracy  Boundary Separation  Non-decision Time Speed  \\\n",
      "0                  4.215153             1.000691                 0.241562   \n",
      "\n",
      "   Non-decision Time Accuracy        BIC  Frequency  Participant  \n",
      "0                    0.339974 -69.869587          3           10  \n",
      "4\n",
      "10\n"
     ]
    },
    {
     "name": "stderr",
     "output_type": "stream",
     "text": [
      "Info: Params [2.09506007 2.37924076 4.9983469  0.95038064 0.80972062 0.25038946\n",
      " 0.34073352] gave -218.2114100070106\n"
     ]
    },
    {
     "name": "stdout",
     "output_type": "stream",
     "text": [
      "   Drift Rate Speed  Drift Rate Accuracy  Self-excitation Speed  \\\n",
      "0           2.09506             2.379241               4.998347   \n",
      "\n",
      "   Self-excitation Accuracy  Boundary Separation  Non-decision Time Speed  \\\n",
      "0                  0.950381             0.809721                 0.250389   \n",
      "\n",
      "   Non-decision Time Accuracy        BIC  Frequency  Participant  \n",
      "0                    0.340734 -218.21141          4           10  \n",
      "5\n",
      "10\n"
     ]
    },
    {
     "name": "stderr",
     "output_type": "stream",
     "text": [
      "Info: Params [2.28914753 2.3582037  6.98389866 2.48662051 1.41121305 0.21340883\n",
      " 0.26825565] gave -229.51732930811417\n"
     ]
    },
    {
     "name": "stdout",
     "output_type": "stream",
     "text": [
      "   Drift Rate Speed  Drift Rate Accuracy  Self-excitation Speed  \\\n",
      "0          2.289148             2.358204               6.983899   \n",
      "\n",
      "   Self-excitation Accuracy  Boundary Separation  Non-decision Time Speed  \\\n",
      "0                  2.486621             1.411213                 0.213409   \n",
      "\n",
      "   Non-decision Time Accuracy         BIC  Frequency  Participant  \n",
      "0                    0.268256 -229.517329          5           10  \n",
      "6\n",
      "10\n"
     ]
    },
    {
     "name": "stderr",
     "output_type": "stream",
     "text": [
      "Info: Params [2.50806668 2.6771327  5.4812649  1.31501239 0.90840379 0.25063119\n",
      " 0.33342963] gave -289.977097213647\n"
     ]
    },
    {
     "name": "stdout",
     "output_type": "stream",
     "text": [
      "   Drift Rate Speed  Drift Rate Accuracy  Self-excitation Speed  \\\n",
      "0          2.508067             2.677133               5.481265   \n",
      "\n",
      "   Self-excitation Accuracy  Boundary Separation  Non-decision Time Speed  \\\n",
      "0                  1.315012             0.908404                 0.250631   \n",
      "\n",
      "   Non-decision Time Accuracy         BIC  Frequency  Participant  \n",
      "0                     0.33343 -289.977097          6           10  \n",
      "1\n",
      "11\n"
     ]
    },
    {
     "name": "stderr",
     "output_type": "stream",
     "text": [
      "Info: Params [3.33101642 3.84393647 7.89406363 2.05591341 0.76656392 0.32186152\n",
      " 0.35182206] gave -631.7213002110652\n"
     ]
    },
    {
     "name": "stdout",
     "output_type": "stream",
     "text": [
      "   Drift Rate Speed  Drift Rate Accuracy  Self-excitation Speed  \\\n",
      "0          3.331016             3.843936               7.894064   \n",
      "\n",
      "   Self-excitation Accuracy  Boundary Separation  Non-decision Time Speed  \\\n",
      "0                  2.055913             0.766564                 0.321862   \n",
      "\n",
      "   Non-decision Time Accuracy       BIC  Frequency  Participant  \n",
      "0                    0.351822 -631.7213          1           11  \n",
      "2\n",
      "11\n"
     ]
    },
    {
     "name": "stderr",
     "output_type": "stream",
     "text": [
      "Info: Params [1.02780609 2.33901354 8.50234642 5.10812394 0.9135108  0.30471206\n",
      " 0.37120995] gave -242.36738029121193\n"
     ]
    },
    {
     "name": "stdout",
     "output_type": "stream",
     "text": [
      "   Drift Rate Speed  Drift Rate Accuracy  Self-excitation Speed  \\\n",
      "0          1.027806             2.339014               8.502346   \n",
      "\n",
      "   Self-excitation Accuracy  Boundary Separation  Non-decision Time Speed  \\\n",
      "0                  5.108124             0.913511                 0.304712   \n",
      "\n",
      "   Non-decision Time Accuracy        BIC  Frequency  Participant  \n",
      "0                     0.37121 -242.36738          2           11  \n",
      "3\n",
      "11\n"
     ]
    },
    {
     "name": "stderr",
     "output_type": "stream",
     "text": [
      "Info: Params [ 0.72961872  1.49081482 10.          4.95224161  1.31531932  0.2739843\n",
      "  0.31293504] gave -73.84383212969058\n"
     ]
    },
    {
     "name": "stdout",
     "output_type": "stream",
     "text": [
      "   Drift Rate Speed  Drift Rate Accuracy  Self-excitation Speed  \\\n",
      "0          0.729619             1.490815                   10.0   \n",
      "\n",
      "   Self-excitation Accuracy  Boundary Separation  Non-decision Time Speed  \\\n",
      "0                  4.952242             1.315319                 0.273984   \n",
      "\n",
      "   Non-decision Time Accuracy        BIC  Frequency  Participant  \n",
      "0                    0.312935 -73.843832          3           11  \n",
      "4\n",
      "11\n"
     ]
    },
    {
     "name": "stderr",
     "output_type": "stream",
     "text": [
      "Info: Params [1.08447226 2.37327144 8.95518729 4.25583868 1.66528494 0.2563949\n",
      " 0.28462122] gave -189.982368252922\n"
     ]
    },
    {
     "name": "stdout",
     "output_type": "stream",
     "text": [
      "   Drift Rate Speed  Drift Rate Accuracy  Self-excitation Speed  \\\n",
      "0          1.084472             2.373271               8.955187   \n",
      "\n",
      "   Self-excitation Accuracy  Boundary Separation  Non-decision Time Speed  \\\n",
      "0                  4.255839             1.665285                 0.256395   \n",
      "\n",
      "   Non-decision Time Accuracy         BIC  Frequency  Participant  \n",
      "0                    0.284621 -189.982368          4           11  \n",
      "5\n",
      "11\n"
     ]
    },
    {
     "name": "stderr",
     "output_type": "stream",
     "text": [
      "Info: Params [1.9513307  2.65554273 8.44153333 2.3623726  1.04773949 0.30165076\n",
      " 0.35318992] gave -295.6697213417427\n"
     ]
    },
    {
     "name": "stdout",
     "output_type": "stream",
     "text": [
      "   Drift Rate Speed  Drift Rate Accuracy  Self-excitation Speed  \\\n",
      "0          1.951331             2.655543               8.441533   \n",
      "\n",
      "   Self-excitation Accuracy  Boundary Separation  Non-decision Time Speed  \\\n",
      "0                  2.362373             1.047739                 0.301651   \n",
      "\n",
      "   Non-decision Time Accuracy         BIC  Frequency  Participant  \n",
      "0                     0.35319 -295.669721          5           11  \n",
      "6\n",
      "11\n"
     ]
    },
    {
     "name": "stderr",
     "output_type": "stream",
     "text": [
      "Info: Params [2.29022108 2.31855178 6.62391141 1.20230347 0.75496164 0.33493736\n",
      " 0.37080203] gave -277.4874493082727\n"
     ]
    },
    {
     "name": "stdout",
     "output_type": "stream",
     "text": [
      "   Drift Rate Speed  Drift Rate Accuracy  Self-excitation Speed  \\\n",
      "0          2.290221             2.318552               6.623911   \n",
      "\n",
      "   Self-excitation Accuracy  Boundary Separation  Non-decision Time Speed  \\\n",
      "0                  1.202303             0.754962                 0.334937   \n",
      "\n",
      "   Non-decision Time Accuracy         BIC  Frequency  Participant  \n",
      "0                    0.370802 -277.487449          6           11  \n",
      "1\n",
      "12\n"
     ]
    },
    {
     "name": "stderr",
     "output_type": "stream",
     "text": [
      "Info: Params [1.9757411  2.33124755 4.40973577 3.23711866 1.26665917 0.18535674\n",
      " 0.2515714 ] gave -184.4772443257561\n"
     ]
    },
    {
     "name": "stdout",
     "output_type": "stream",
     "text": [
      "   Drift Rate Speed  Drift Rate Accuracy  Self-excitation Speed  \\\n",
      "0          1.975741             2.331248               4.409736   \n",
      "\n",
      "   Self-excitation Accuracy  Boundary Separation  Non-decision Time Speed  \\\n",
      "0                  3.237119             1.266659                 0.185357   \n",
      "\n",
      "   Non-decision Time Accuracy         BIC  Frequency  Participant  \n",
      "0                    0.251571 -184.477244          1           12  \n",
      "2\n",
      "12\n"
     ]
    },
    {
     "name": "stderr",
     "output_type": "stream",
     "text": [
      "Info: Params [1.29607747 1.21085274 6.66843579 2.63585992 1.0143835  0.27939493\n",
      " 0.30875782] gave 56.019919510368\n"
     ]
    },
    {
     "name": "stdout",
     "output_type": "stream",
     "text": [
      "   Drift Rate Speed  Drift Rate Accuracy  Self-excitation Speed  \\\n",
      "0          1.296077             1.210853               6.668436   \n",
      "\n",
      "   Self-excitation Accuracy  Boundary Separation  Non-decision Time Speed  \\\n",
      "0                   2.63586             1.014383                 0.279395   \n",
      "\n",
      "   Non-decision Time Accuracy       BIC  Frequency  Participant  \n",
      "0                    0.308758  56.01992          2           12  \n",
      "3\n",
      "12\n"
     ]
    },
    {
     "name": "stderr",
     "output_type": "stream",
     "text": [
      "Info: Params [0.36683181 0.80035138 6.70580061 2.19581872 0.99372658 0.24819087\n",
      " 0.27358924] gave 220.12859946162305\n"
     ]
    },
    {
     "name": "stdout",
     "output_type": "stream",
     "text": [
      "   Drift Rate Speed  Drift Rate Accuracy  Self-excitation Speed  \\\n",
      "0          0.366832             0.800351               6.705801   \n",
      "\n",
      "   Self-excitation Accuracy  Boundary Separation  Non-decision Time Speed  \\\n",
      "0                  2.195819             0.993727                 0.248191   \n",
      "\n",
      "   Non-decision Time Accuracy         BIC  Frequency  Participant  \n",
      "0                    0.273589  220.128599          3           12  \n",
      "4\n",
      "12\n"
     ]
    },
    {
     "name": "stderr",
     "output_type": "stream",
     "text": [
      "Info: Params [1.34547379 1.58825666 4.08830804 3.00926861 1.76442388 0.12643453\n",
      " 0.17870452] gave 132.26917856424973\n"
     ]
    },
    {
     "name": "stdout",
     "output_type": "stream",
     "text": [
      "   Drift Rate Speed  Drift Rate Accuracy  Self-excitation Speed  \\\n",
      "0          1.345474             1.588257               4.088308   \n",
      "\n",
      "   Self-excitation Accuracy  Boundary Separation  Non-decision Time Speed  \\\n",
      "0                  3.009269             1.764424                 0.126435   \n",
      "\n",
      "   Non-decision Time Accuracy         BIC  Frequency  Participant  \n",
      "0                    0.178705  132.269179          4           12  \n",
      "5\n",
      "12\n"
     ]
    },
    {
     "name": "stderr",
     "output_type": "stream",
     "text": [
      "Info: Params [1.57819905 1.64665688 6.91477002 1.99889361 1.1239955  0.27979746\n",
      " 0.28115985] gave 89.75384410448135\n"
     ]
    },
    {
     "name": "stdout",
     "output_type": "stream",
     "text": [
      "   Drift Rate Speed  Drift Rate Accuracy  Self-excitation Speed  \\\n",
      "0          1.578199             1.646657                6.91477   \n",
      "\n",
      "   Self-excitation Accuracy  Boundary Separation  Non-decision Time Speed  \\\n",
      "0                  1.998894             1.123995                 0.279797   \n",
      "\n",
      "   Non-decision Time Accuracy        BIC  Frequency  Participant  \n",
      "0                     0.28116  89.753844          5           12  \n",
      "6\n",
      "12\n"
     ]
    },
    {
     "name": "stderr",
     "output_type": "stream",
     "text": [
      "Info: Params [1.56693809 1.53541894 5.33140479 2.68433992 2.08915176 0.1616076\n",
      " 0.11703139] gave 81.59109332572757\n"
     ]
    },
    {
     "name": "stdout",
     "output_type": "stream",
     "text": [
      "   Drift Rate Speed  Drift Rate Accuracy  Self-excitation Speed  \\\n",
      "0          1.566938             1.535419               5.331405   \n",
      "\n",
      "   Self-excitation Accuracy  Boundary Separation  Non-decision Time Speed  \\\n",
      "0                   2.68434             2.089152                 0.161608   \n",
      "\n",
      "   Non-decision Time Accuracy        BIC  Frequency  Participant  \n",
      "0                    0.117031  81.591093          6           12  \n",
      "1\n",
      "13\n"
     ]
    },
    {
     "name": "stderr",
     "output_type": "stream",
     "text": [
      "Info: Params [1.78413732 1.98286191 6.51124754 2.14972029 1.15476588 0.27300435\n",
      " 0.29417604] gave -89.02583265840585\n"
     ]
    },
    {
     "name": "stdout",
     "output_type": "stream",
     "text": [
      "   Drift Rate Speed  Drift Rate Accuracy  Self-excitation Speed  \\\n",
      "0          1.784137             1.982862               6.511248   \n",
      "\n",
      "   Self-excitation Accuracy  Boundary Separation  Non-decision Time Speed  \\\n",
      "0                   2.14972             1.154766                 0.273004   \n",
      "\n",
      "   Non-decision Time Accuracy        BIC  Frequency  Participant  \n",
      "0                    0.294176 -89.025833          1           13  \n",
      "2\n",
      "13\n"
     ]
    },
    {
     "name": "stderr",
     "output_type": "stream",
     "text": [
      "Info: Params [1.30572689 1.61448721 6.54002318 1.99431194 0.99722356 0.30596387\n",
      " 0.36812406] gave 9.799098642548635\n"
     ]
    },
    {
     "name": "stdout",
     "output_type": "stream",
     "text": [
      "   Drift Rate Speed  Drift Rate Accuracy  Self-excitation Speed  \\\n",
      "0          1.305727             1.614487               6.540023   \n",
      "\n",
      "   Self-excitation Accuracy  Boundary Separation  Non-decision Time Speed  \\\n",
      "0                  1.994312             0.997224                 0.305964   \n",
      "\n",
      "   Non-decision Time Accuracy       BIC  Frequency  Participant  \n",
      "0                    0.368124  9.799099          2           13  \n",
      "3\n",
      "13\n"
     ]
    },
    {
     "name": "stderr",
     "output_type": "stream",
     "text": [
      "Info: Params [0.34815963 0.84521066 6.80945363 2.5979986  1.23843593 0.27892174\n",
      " 0.28628688] gave 243.87553477558757\n"
     ]
    },
    {
     "name": "stdout",
     "output_type": "stream",
     "text": [
      "   Drift Rate Speed  Drift Rate Accuracy  Self-excitation Speed  \\\n",
      "0           0.34816             0.845211               6.809454   \n",
      "\n",
      "   Self-excitation Accuracy  Boundary Separation  Non-decision Time Speed  \\\n",
      "0                  2.597999             1.238436                 0.278922   \n",
      "\n",
      "   Non-decision Time Accuracy         BIC  Frequency  Participant  \n",
      "0                    0.286287  243.875535          3           13  \n",
      "4\n",
      "13\n"
     ]
    },
    {
     "name": "stderr",
     "output_type": "stream",
     "text": [
      "Info: Params [1.34605724 1.60587591 6.32099921 1.79900573 1.23317699 0.27997906\n",
      " 0.3012879 ] gave 74.53423142995233\n"
     ]
    },
    {
     "name": "stdout",
     "output_type": "stream",
     "text": [
      "   Drift Rate Speed  Drift Rate Accuracy  Self-excitation Speed  \\\n",
      "0          1.346057             1.605876               6.320999   \n",
      "\n",
      "   Self-excitation Accuracy  Boundary Separation  Non-decision Time Speed  \\\n",
      "0                  1.799006             1.233177                 0.279979   \n",
      "\n",
      "   Non-decision Time Accuracy        BIC  Frequency  Participant  \n",
      "0                    0.301288  74.534231          4           13  \n",
      "5\n",
      "13\n"
     ]
    },
    {
     "name": "stderr",
     "output_type": "stream",
     "text": [
      "Info: Params [1.82301293 1.55040812 5.4337645  1.65251454 1.10947463 0.29178413\n",
      " 0.34206178] gave 38.239935301166035\n"
     ]
    },
    {
     "name": "stdout",
     "output_type": "stream",
     "text": [
      "   Drift Rate Speed  Drift Rate Accuracy  Self-excitation Speed  \\\n",
      "0          1.823013             1.550408               5.433765   \n",
      "\n",
      "   Self-excitation Accuracy  Boundary Separation  Non-decision Time Speed  \\\n",
      "0                  1.652515             1.109475                 0.291784   \n",
      "\n",
      "   Non-decision Time Accuracy        BIC  Frequency  Participant  \n",
      "0                    0.342062  38.239935          5           13  \n",
      "6\n",
      "13\n"
     ]
    },
    {
     "name": "stderr",
     "output_type": "stream",
     "text": [
      "Info: Params [1.60337848 1.54610821 3.09824371 2.47326717 1.19292592 0.23085053\n",
      " 0.31126627] gave 94.08431038329682\n"
     ]
    },
    {
     "name": "stdout",
     "output_type": "stream",
     "text": [
      "   Drift Rate Speed  Drift Rate Accuracy  Self-excitation Speed  \\\n",
      "0          1.603378             1.546108               3.098244   \n",
      "\n",
      "   Self-excitation Accuracy  Boundary Separation  Non-decision Time Speed  \\\n",
      "0                  2.473267             1.192926                 0.230851   \n",
      "\n",
      "   Non-decision Time Accuracy       BIC  Frequency  Participant  \n",
      "0                    0.311266  94.08431          6           13  \n",
      "1\n",
      "14\n"
     ]
    },
    {
     "name": "stderr",
     "output_type": "stream",
     "text": [
      "Info: Params [ 3.13180352  2.93770214  0.23672003 -6.22138647  0.64463217  0.28020053\n",
      "  0.35621595] gave -299.5836812531294\n"
     ]
    },
    {
     "name": "stdout",
     "output_type": "stream",
     "text": [
      "   Drift Rate Speed  Drift Rate Accuracy  Self-excitation Speed  \\\n",
      "0          3.131804             2.937702                0.23672   \n",
      "\n",
      "   Self-excitation Accuracy  Boundary Separation  Non-decision Time Speed  \\\n",
      "0                 -6.221386             0.644632                 0.280201   \n",
      "\n",
      "   Non-decision Time Accuracy         BIC  Frequency  Participant  \n",
      "0                    0.356216 -299.583681          1           14  \n",
      "2\n",
      "14\n"
     ]
    },
    {
     "name": "stderr",
     "output_type": "stream",
     "text": [
      "Info: Params [2.01791065 1.72319113 6.43541388 2.28760913 1.30380309 0.26086465\n",
      " 0.30576645] gave -29.492262434063413\n"
     ]
    },
    {
     "name": "stdout",
     "output_type": "stream",
     "text": [
      "   Drift Rate Speed  Drift Rate Accuracy  Self-excitation Speed  \\\n",
      "0          2.017911             1.723191               6.435414   \n",
      "\n",
      "   Self-excitation Accuracy  Boundary Separation  Non-decision Time Speed  \\\n",
      "0                  2.287609             1.303803                 0.260865   \n",
      "\n",
      "   Non-decision Time Accuracy        BIC  Frequency  Participant  \n",
      "0                    0.305766 -29.492262          2           14  \n",
      "3\n",
      "14\n"
     ]
    },
    {
     "name": "stderr",
     "output_type": "stream",
     "text": [
      "Info: Params [1.30537764 1.29301029 7.26936909 2.26110967 1.75668295 0.24278889\n",
      " 0.20323622] gave 157.63611335077064\n"
     ]
    },
    {
     "name": "stdout",
     "output_type": "stream",
     "text": [
      "   Drift Rate Speed  Drift Rate Accuracy  Self-excitation Speed  \\\n",
      "0          1.305378              1.29301               7.269369   \n",
      "\n",
      "   Self-excitation Accuracy  Boundary Separation  Non-decision Time Speed  \\\n",
      "0                   2.26111             1.756683                 0.242789   \n",
      "\n",
      "   Non-decision Time Accuracy         BIC  Frequency  Participant  \n",
      "0                    0.203236  157.636113          3           14  \n",
      "4\n",
      "14\n"
     ]
    },
    {
     "name": "stderr",
     "output_type": "stream",
     "text": [
      "Info: Params [ 1.870196    2.1353969   3.13300932 -0.32309496  0.91969366  0.33372937\n",
      "  0.42483915] gave -104.58754994810172\n"
     ]
    },
    {
     "name": "stdout",
     "output_type": "stream",
     "text": [
      "   Drift Rate Speed  Drift Rate Accuracy  Self-excitation Speed  \\\n",
      "0          1.870196             2.135397               3.133009   \n",
      "\n",
      "   Self-excitation Accuracy  Boundary Separation  Non-decision Time Speed  \\\n",
      "0                 -0.323095             0.919694                 0.333729   \n",
      "\n",
      "   Non-decision Time Accuracy        BIC  Frequency  Participant  \n",
      "0                    0.424839 -104.58755          4           14  \n",
      "5\n",
      "14\n"
     ]
    },
    {
     "name": "stderr",
     "output_type": "stream",
     "text": [
      "Info: Params [1.41746334 1.45076955 5.68736217 1.01120842 1.91699614 0.20344738\n",
      " 0.10895756] gave 192.93782929120377\n"
     ]
    },
    {
     "name": "stdout",
     "output_type": "stream",
     "text": [
      "   Drift Rate Speed  Drift Rate Accuracy  Self-excitation Speed  \\\n",
      "0          1.417463              1.45077               5.687362   \n",
      "\n",
      "   Self-excitation Accuracy  Boundary Separation  Non-decision Time Speed  \\\n",
      "0                  1.011208             1.916996                 0.203447   \n",
      "\n",
      "   Non-decision Time Accuracy         BIC  Frequency  Participant  \n",
      "0                    0.108958  192.937829          5           14  \n",
      "6\n",
      "14\n"
     ]
    },
    {
     "name": "stderr",
     "output_type": "stream",
     "text": [
      "Info: Params [ 1.94479285  2.17362988  2.96724679 -5.90222137  0.6752045   0.33285957\n",
      "  0.45742464] gave 36.83085254142998\n"
     ]
    },
    {
     "name": "stdout",
     "output_type": "stream",
     "text": [
      "   Drift Rate Speed  Drift Rate Accuracy  Self-excitation Speed  \\\n",
      "0          1.944793              2.17363               2.967247   \n",
      "\n",
      "   Self-excitation Accuracy  Boundary Separation  Non-decision Time Speed  \\\n",
      "0                 -5.902221             0.675204                  0.33286   \n",
      "\n",
      "   Non-decision Time Accuracy        BIC  Frequency  Participant  \n",
      "0                    0.457425  36.830853          6           14  \n",
      "1\n",
      "15\n"
     ]
    },
    {
     "name": "stderr",
     "output_type": "stream",
     "text": [
      "Info: Params [2.18925746 2.3007134  6.6932732  1.15278152 1.17644856 0.28115141\n",
      " 0.32447667] gave -191.55854952657836\n"
     ]
    },
    {
     "name": "stdout",
     "output_type": "stream",
     "text": [
      "   Drift Rate Speed  Drift Rate Accuracy  Self-excitation Speed  \\\n",
      "0          2.189257             2.300713               6.693273   \n",
      "\n",
      "   Self-excitation Accuracy  Boundary Separation  Non-decision Time Speed  \\\n",
      "0                  1.152782             1.176449                 0.281151   \n",
      "\n",
      "   Non-decision Time Accuracy        BIC  Frequency  Participant  \n",
      "0                    0.324477 -191.55855          1           15  \n",
      "2\n",
      "15\n"
     ]
    },
    {
     "name": "stderr",
     "output_type": "stream",
     "text": [
      "Info: Params [1.55325529 2.05384634 6.32009806 2.42271302 1.79375083 0.22168818\n",
      " 0.30476034] gave -39.428686987926966\n"
     ]
    },
    {
     "name": "stdout",
     "output_type": "stream",
     "text": [
      "   Drift Rate Speed  Drift Rate Accuracy  Self-excitation Speed  \\\n",
      "0          1.553255             2.053846               6.320098   \n",
      "\n",
      "   Self-excitation Accuracy  Boundary Separation  Non-decision Time Speed  \\\n",
      "0                  2.422713             1.793751                 0.221688   \n",
      "\n",
      "   Non-decision Time Accuracy        BIC  Frequency  Participant  \n",
      "0                     0.30476 -39.428687          2           15  \n",
      "3\n",
      "15\n"
     ]
    },
    {
     "name": "stderr",
     "output_type": "stream",
     "text": [
      "Info: Params [0.71654625 1.20573565 8.33199475 2.45785341 1.5820509  0.2609313\n",
      " 0.32906177] gave 142.46621812163454\n"
     ]
    },
    {
     "name": "stdout",
     "output_type": "stream",
     "text": [
      "   Drift Rate Speed  Drift Rate Accuracy  Self-excitation Speed  \\\n",
      "0          0.716546             1.205736               8.331995   \n",
      "\n",
      "   Self-excitation Accuracy  Boundary Separation  Non-decision Time Speed  \\\n",
      "0                  2.457853             1.582051                 0.260931   \n",
      "\n",
      "   Non-decision Time Accuracy         BIC  Frequency  Participant  \n",
      "0                    0.329062  142.466218          3           15  \n",
      "4\n",
      "15\n"
     ]
    },
    {
     "name": "stderr",
     "output_type": "stream",
     "text": [
      "Info: Params [1.67126631 2.10276114 6.91621387 0.80253451 1.10460181 0.30131152\n",
      " 0.41500626] gave -101.76391812667819\n"
     ]
    },
    {
     "name": "stdout",
     "output_type": "stream",
     "text": [
      "   Drift Rate Speed  Drift Rate Accuracy  Self-excitation Speed  \\\n",
      "0          1.671266             2.102761               6.916214   \n",
      "\n",
      "   Self-excitation Accuracy  Boundary Separation  Non-decision Time Speed  \\\n",
      "0                  0.802535             1.104602                 0.301312   \n",
      "\n",
      "   Non-decision Time Accuracy         BIC  Frequency  Participant  \n",
      "0                    0.415006 -101.763918          4           15  \n",
      "5\n",
      "15\n"
     ]
    },
    {
     "name": "stderr",
     "output_type": "stream",
     "text": [
      "Info: Params [1.43446325 1.84979943 6.72861272 1.45700946 1.44065041 0.25772048\n",
      " 0.33298529] gave 10.896684149823002\n"
     ]
    },
    {
     "name": "stdout",
     "output_type": "stream",
     "text": [
      "   Drift Rate Speed  Drift Rate Accuracy  Self-excitation Speed  \\\n",
      "0          1.434463             1.849799               6.728613   \n",
      "\n",
      "   Self-excitation Accuracy  Boundary Separation  Non-decision Time Speed  \\\n",
      "0                  1.457009              1.44065                  0.25772   \n",
      "\n",
      "   Non-decision Time Accuracy        BIC  Frequency  Participant  \n",
      "0                    0.332985  10.896684          5           15  \n",
      "6\n",
      "15\n"
     ]
    },
    {
     "name": "stderr",
     "output_type": "stream",
     "text": [
      "Info: Params [1.94139879 2.14173146 6.61815707 1.68917013 1.18253924 0.29599637\n",
      " 0.39259557] gave -132.51991749956943\n"
     ]
    },
    {
     "name": "stdout",
     "output_type": "stream",
     "text": [
      "   Drift Rate Speed  Drift Rate Accuracy  Self-excitation Speed  \\\n",
      "0          1.941399             2.141731               6.618157   \n",
      "\n",
      "   Self-excitation Accuracy  Boundary Separation  Non-decision Time Speed  \\\n",
      "0                   1.68917             1.182539                 0.295996   \n",
      "\n",
      "   Non-decision Time Accuracy         BIC  Frequency  Participant  \n",
      "0                    0.392596 -132.519917          6           15  \n",
      "1\n",
      "16\n"
     ]
    },
    {
     "name": "stderr",
     "output_type": "stream",
     "text": [
      "Info: Params [1.16874029 2.42833345 6.47917086 3.11322447 1.4534057  0.18718328\n",
      " 0.30150603] gave -137.22550705530608\n"
     ]
    },
    {
     "name": "stdout",
     "output_type": "stream",
     "text": [
      "   Drift Rate Speed  Drift Rate Accuracy  Self-excitation Speed  \\\n",
      "0           1.16874             2.428333               6.479171   \n",
      "\n",
      "   Self-excitation Accuracy  Boundary Separation  Non-decision Time Speed  \\\n",
      "0                  3.113224             1.453406                 0.187183   \n",
      "\n",
      "   Non-decision Time Accuracy         BIC  Frequency  Participant  \n",
      "0                    0.301506 -137.225507          1           16  \n",
      "2\n",
      "16\n"
     ]
    },
    {
     "name": "stderr",
     "output_type": "stream",
     "text": [
      "Info: Params [0.98902589 1.84016397 4.46407163 2.5451442  1.18406815 0.17897223\n",
      " 0.36556918] gave 102.56304078328321\n"
     ]
    },
    {
     "name": "stdout",
     "output_type": "stream",
     "text": [
      "   Drift Rate Speed  Drift Rate Accuracy  Self-excitation Speed  \\\n",
      "0          0.989026             1.840164               4.464072   \n",
      "\n",
      "   Self-excitation Accuracy  Boundary Separation  Non-decision Time Speed  \\\n",
      "0                  2.545144             1.184068                 0.178972   \n",
      "\n",
      "   Non-decision Time Accuracy         BIC  Frequency  Participant  \n",
      "0                    0.365569  102.563041          2           16  \n",
      "3\n",
      "16\n"
     ]
    },
    {
     "name": "stderr",
     "output_type": "stream",
     "text": [
      "Info: Params [0.60056548 1.21298252 4.58811938 2.53105932 1.28395321 0.16399965\n",
      " 0.32674177] gave 269.1926700101221\n"
     ]
    },
    {
     "name": "stdout",
     "output_type": "stream",
     "text": [
      "   Drift Rate Speed  Drift Rate Accuracy  Self-excitation Speed  \\\n",
      "0          0.600565             1.212983               4.588119   \n",
      "\n",
      "   Self-excitation Accuracy  Boundary Separation  Non-decision Time Speed  \\\n",
      "0                  2.531059             1.283953                    0.164   \n",
      "\n",
      "   Non-decision Time Accuracy        BIC  Frequency  Participant  \n",
      "0                    0.326742  269.19267          3           16  \n",
      "4\n",
      "16\n"
     ]
    },
    {
     "name": "stderr",
     "output_type": "stream",
     "text": [
      "Info: Params [0.92997597 1.94177481 5.35854245 2.78510268 1.62253564 0.15232626\n",
      " 0.31341052] gave 60.33983503450366\n"
     ]
    },
    {
     "name": "stdout",
     "output_type": "stream",
     "text": [
      "   Drift Rate Speed  Drift Rate Accuracy  Self-excitation Speed  \\\n",
      "0          0.929976             1.941775               5.358542   \n",
      "\n",
      "   Self-excitation Accuracy  Boundary Separation  Non-decision Time Speed  \\\n",
      "0                  2.785103             1.622536                 0.152326   \n",
      "\n",
      "   Non-decision Time Accuracy        BIC  Frequency  Participant  \n",
      "0                    0.313411  60.339835          4           16  \n",
      "5\n",
      "16\n"
     ]
    },
    {
     "name": "stderr",
     "output_type": "stream",
     "text": [
      "Info: Params [0.75602769 1.85817949 4.99281125 1.99767518 1.45215875 0.15580967\n",
      " 0.29716142] gave 143.98795516216592\n"
     ]
    },
    {
     "name": "stdout",
     "output_type": "stream",
     "text": [
      "   Drift Rate Speed  Drift Rate Accuracy  Self-excitation Speed  \\\n",
      "0          0.756028             1.858179               4.992811   \n",
      "\n",
      "   Self-excitation Accuracy  Boundary Separation  Non-decision Time Speed  \\\n",
      "0                  1.997675             1.452159                  0.15581   \n",
      "\n",
      "   Non-decision Time Accuracy         BIC  Frequency  Participant  \n",
      "0                    0.297161  143.987955          5           16  \n",
      "6\n",
      "16\n"
     ]
    },
    {
     "name": "stderr",
     "output_type": "stream",
     "text": [
      "Info: Params [0.92615064 1.9661613  3.91126997 2.61552462 1.30232251 0.15874648\n",
      " 0.32523034] gave 136.62559002913662\n"
     ]
    },
    {
     "name": "stdout",
     "output_type": "stream",
     "text": [
      "   Drift Rate Speed  Drift Rate Accuracy  Self-excitation Speed  \\\n",
      "0          0.926151             1.966161                3.91127   \n",
      "\n",
      "   Self-excitation Accuracy  Boundary Separation  Non-decision Time Speed  \\\n",
      "0                  2.615525             1.302323                 0.158746   \n",
      "\n",
      "   Non-decision Time Accuracy        BIC  Frequency  Participant  \n",
      "0                     0.32523  136.62559          6           16  \n",
      "1\n",
      "17\n"
     ]
    },
    {
     "name": "stderr",
     "output_type": "stream",
     "text": [
      "Info: Params [2.94888037 3.20605422 4.96521136 0.7674107  1.31109157 0.25954103\n",
      " 0.31871338] gave -328.7781070426496\n"
     ]
    },
    {
     "name": "stdout",
     "output_type": "stream",
     "text": [
      "   Drift Rate Speed  Drift Rate Accuracy  Self-excitation Speed  \\\n",
      "0           2.94888             3.206054               4.965211   \n",
      "\n",
      "   Self-excitation Accuracy  Boundary Separation  Non-decision Time Speed  \\\n",
      "0                  0.767411             1.311092                 0.259541   \n",
      "\n",
      "   Non-decision Time Accuracy         BIC  Frequency  Participant  \n",
      "0                    0.318713 -328.778107          1           17  \n",
      "2\n",
      "17\n"
     ]
    },
    {
     "name": "stderr",
     "output_type": "stream",
     "text": [
      "Info: Params [2.34601246 2.37983795 5.94596944 1.99768724 1.52792398 0.26364093\n",
      " 0.3155787 ] gave -205.35819659157056\n"
     ]
    },
    {
     "name": "stdout",
     "output_type": "stream",
     "text": [
      "   Drift Rate Speed  Drift Rate Accuracy  Self-excitation Speed  \\\n",
      "0          2.346012             2.379838               5.945969   \n",
      "\n",
      "   Self-excitation Accuracy  Boundary Separation  Non-decision Time Speed  \\\n",
      "0                  1.997687             1.527924                 0.263641   \n",
      "\n",
      "   Non-decision Time Accuracy         BIC  Frequency  Participant  \n",
      "0                    0.315579 -205.358197          2           17  \n",
      "3\n",
      "17\n"
     ]
    },
    {
     "name": "stderr",
     "output_type": "stream",
     "text": [
      "Info: Params [1.69426803 1.85685292 6.31895574 3.07119438 1.41790227 0.25926068\n",
      " 0.36875543] gave -17.530828985486124\n"
     ]
    },
    {
     "name": "stdout",
     "output_type": "stream",
     "text": [
      "   Drift Rate Speed  Drift Rate Accuracy  Self-excitation Speed  \\\n",
      "0          1.694268             1.856853               6.318956   \n",
      "\n",
      "   Self-excitation Accuracy  Boundary Separation  Non-decision Time Speed  \\\n",
      "0                  3.071194             1.417902                 0.259261   \n",
      "\n",
      "   Non-decision Time Accuracy        BIC  Frequency  Participant  \n",
      "0                    0.368755 -17.530829          3           17  \n",
      "4\n",
      "17\n"
     ]
    },
    {
     "name": "stderr",
     "output_type": "stream",
     "text": [
      "Info: Params [1.9306638  2.47523777 4.61420211 1.75127358 1.3426731  0.25162589\n",
      " 0.37811479] gave -136.01790646639506\n"
     ]
    },
    {
     "name": "stdout",
     "output_type": "stream",
     "text": [
      "   Drift Rate Speed  Drift Rate Accuracy  Self-excitation Speed  \\\n",
      "0          1.930664             2.475238               4.614202   \n",
      "\n",
      "   Self-excitation Accuracy  Boundary Separation  Non-decision Time Speed  \\\n",
      "0                  1.751274             1.342673                 0.251626   \n",
      "\n",
      "   Non-decision Time Accuracy         BIC  Frequency  Participant  \n",
      "0                    0.378115 -136.017906          4           17  \n",
      "5\n",
      "17\n"
     ]
    },
    {
     "name": "stderr",
     "output_type": "stream",
     "text": [
      "Info: Params [2.28901539 2.155206   4.64816896 1.9059372  1.23000803 0.28524811\n",
      " 0.37775356] gave -140.92193098554446\n"
     ]
    },
    {
     "name": "stdout",
     "output_type": "stream",
     "text": [
      "   Drift Rate Speed  Drift Rate Accuracy  Self-excitation Speed  \\\n",
      "0          2.289015             2.155206               4.648169   \n",
      "\n",
      "   Self-excitation Accuracy  Boundary Separation  Non-decision Time Speed  \\\n",
      "0                  1.905937             1.230008                 0.285248   \n",
      "\n",
      "   Non-decision Time Accuracy         BIC  Frequency  Participant  \n",
      "0                    0.377754 -140.921931          5           17  \n",
      "6\n",
      "17\n"
     ]
    },
    {
     "name": "stderr",
     "output_type": "stream",
     "text": [
      "Info: Params [1.98934016 2.14668675 4.35066417 2.13409652 2.18434536 0.16161768\n",
      " 0.21929379] gave -49.71041032999427\n"
     ]
    },
    {
     "name": "stdout",
     "output_type": "stream",
     "text": [
      "   Drift Rate Speed  Drift Rate Accuracy  Self-excitation Speed  \\\n",
      "0           1.98934             2.146687               4.350664   \n",
      "\n",
      "   Self-excitation Accuracy  Boundary Separation  Non-decision Time Speed  \\\n",
      "0                  2.134097             2.184345                 0.161618   \n",
      "\n",
      "   Non-decision Time Accuracy       BIC  Frequency  Participant  \n",
      "0                    0.219294 -49.71041          6           17  \n"
     ]
    }
   ],
   "source": [
    "%run Wagenmakers2008-OUM2v2k2ter-pyddm.ipynb"
   ]
  },
  {
   "cell_type": "code",
   "execution_count": null,
   "id": "de2ed180",
   "metadata": {},
   "outputs": [],
   "source": []
  }
 ],
 "metadata": {
  "kernelspec": {
   "display_name": "Python 3 (ipykernel)",
   "language": "python",
   "name": "python3"
  },
  "language_info": {
   "codemirror_mode": {
    "name": "ipython",
    "version": 3
   },
   "file_extension": ".py",
   "mimetype": "text/x-python",
   "name": "python",
   "nbconvert_exporter": "python",
   "pygments_lexer": "ipython3",
   "version": "3.7.15"
  }
 },
 "nbformat": 4,
 "nbformat_minor": 5
}
