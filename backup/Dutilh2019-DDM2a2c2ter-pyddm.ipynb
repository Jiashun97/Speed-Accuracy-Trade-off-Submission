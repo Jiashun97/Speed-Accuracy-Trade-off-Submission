{
 "cells": [
  {
   "cell_type": "code",
   "execution_count": 1,
   "id": "2cda49de",
   "metadata": {},
   "outputs": [],
   "source": [
    "%run SAT_help_functions.ipynb"
   ]
  },
  {
   "cell_type": "code",
   "execution_count": null,
   "id": "bc081cf9",
   "metadata": {},
   "outputs": [],
   "source": []
  },
  {
   "cell_type": "markdown",
   "id": "4bd26666",
   "metadata": {},
   "source": [
    "## OUM"
   ]
  },
  {
   "cell_type": "code",
   "execution_count": null,
   "id": "9ef6c434",
   "metadata": {},
   "outputs": [],
   "source": []
  },
  {
   "cell_type": "code",
   "execution_count": 2,
   "id": "e776257c",
   "metadata": {},
   "outputs": [],
   "source": [
    "sample_size = 20\n",
    "data_dir = '/Users/wangjiashun/Desktop/Reserach on SAT/datasets/Dutilh2019/validation_text_data/exp_4/pp'\n",
    "SAT_conds = [\"A\", \"B\"]"
   ]
  },
  {
   "cell_type": "code",
   "execution_count": null,
   "id": "f434220f",
   "metadata": {},
   "outputs": [],
   "source": []
  },
  {
   "cell_type": "code",
   "execution_count": 3,
   "id": "bbb278a6",
   "metadata": {},
   "outputs": [],
   "source": [
    "\n",
    "\n",
    "class BoundCollapsingLinearSAT(BoundCollapsingLinear):\n",
    "    name = \"BoundSpeedAcc\"\n",
    "    required_parameters = [\"BSpeed\", \"BAcc\", \"cSpeed\", 'cAcc']\n",
    "    required_conditions = ['cond']\n",
    "        \n",
    "    def get_bound(self, t, conditions, **kwargs):\n",
    "        if conditions['cond'] == 'A':\n",
    "            return max(self.BSpeed - self.cSpeed*t, 0.)\n",
    "        elif conditions['cond'] == 'B':\n",
    "            return max(self.BAcc - self.cAcc*t, 0.)\n",
    "        else: \n",
    "            print(\"Non-implemented SAT conditions\")\n"
   ]
  },
  {
   "cell_type": "code",
   "execution_count": 4,
   "id": "6e5e0074",
   "metadata": {},
   "outputs": [],
   "source": [
    "\n",
    "class NondecisionSpeedAcc(OverlayNonDecision):\n",
    "    name = \"NondecisionSpeedAcc\"\n",
    "    required_parameters = [\"tSpeed\", 'tAcc']\n",
    "    required_conditions = ['cond']\n",
    "        \n",
    "    def get_nondecision_time(self, conditions, **kwargs):\n",
    "        if conditions['cond'] == 'A':\n",
    "            return self.tSpeed \n",
    "        elif conditions['cond'] == 'B':\n",
    "            return self.tAcc\n",
    "        else: \n",
    "            print(\"Non-implemented SAT conditions\")"
   ]
  },
  {
   "cell_type": "code",
   "execution_count": 8,
   "id": "8a3f5185",
   "metadata": {},
   "outputs": [],
   "source": [
    "def get_DDM_result_sub_2a2c2ter(samp, v = [0,6], a = [0.5,8], c = [0,1], ter=[0.1,1], T_dur=5):\n",
    "    \n",
    "    model_fit = Model(name='Simple model (fitted)',\n",
    "                      drift=DriftConstant(drift=Fittable(minval=v[0], maxval=v[1])), \n",
    "                      noise=NoiseConstant(noise=1),\n",
    "                      bound=BoundCollapsingLinearSAT(BSpeed=  Fittable(minval=a[0], maxval=a[1]),\n",
    "                                                     BAcc =   Fittable(minval=a[0], maxval=a[1]),\n",
    "                                                     cSpeed = Fittable(minval=c[0], maxval=c[1]),\n",
    "                                                     cAcc =   Fittable(minval=c[0], maxval=c[1])),\n",
    "                      \n",
    "                      overlay=NondecisionSpeedAcc(\n",
    "                          tSpeed=Fittable(minval=ter[0], maxval=ter[1]),\n",
    "                          tAcc=Fittable(minval=ter[0], maxval=ter[1]),\n",
    "\n",
    "                      ),\n",
    "                      dx=.01, dt=.01, T_dur=T_dur)\n",
    "    #set_N_cpus(4)\n",
    "    fit_adjust_model(samp, model_fit,\n",
    "                     fitting_method=\"differential_evolution\",\n",
    "                     lossfunction=LossRobustBIC, verbose=False)\n",
    "    #print(model_fit.get_model_parameters())\n",
    "    df = pd.DataFrame(data = np.array(model_fit.get_model_parameters()).reshape(1,7),\n",
    "                      columns = model_fit.get_model_parameter_names())\n",
    "    \n",
    "    #df['Participant']=i+1\n",
    "    #df['SAT'] = SAT\n",
    "    df['BIC'] = model_fit.get_fit_result().value()\n",
    "    df = df.rename(columns={'drift': 'Drift Rate',\n",
    "                            'BSpeed': 'Boundary Separation Speed',\n",
    "                            'BAcc':   'Boundary Separation Accuracy',\n",
    "                            'cSpeed': 'Collapse Speed',\n",
    "                            'cAcc':   'Collapse Accuracy',\n",
    "                            'tSpeed': 'Non-decision Time Speed',\n",
    "                            'tAcc': 'Non-decision Time Accuracy'})\n",
    "    return df"
   ]
  },
  {
   "cell_type": "code",
   "execution_count": 9,
   "id": "fdb13001",
   "metadata": {
    "scrolled": true
   },
   "outputs": [
    {
     "name": "stderr",
     "output_type": "stream",
     "text": [
      "Warning: This function (from_pandas_dataframe()) is deprecated and will be removed in a future version of PyDDM.  Please use the choice_column_name argument instead.\n"
     ]
    },
    {
     "name": "stdout",
     "output_type": "stream",
     "text": [
      "0\n"
     ]
    },
    {
     "name": "stderr",
     "output_type": "stream",
     "text": [
      "Info: Params [1.16787618 0.8182737  0.77299806 0.68115589 0.         0.23526382\n",
      " 0.35877862] gave 261.76744513921574\n",
      "Warning: This function (from_pandas_dataframe()) is deprecated and will be removed in a future version of PyDDM.  Please use the choice_column_name argument instead.\n"
     ]
    },
    {
     "name": "stdout",
     "output_type": "stream",
     "text": [
      "   Drift Rate  Boundary Separation Speed  Boundary Separation Accuracy  \\\n",
      "0    1.167876                   0.818274                      0.772998   \n",
      "\n",
      "   Collapse Speed  Collapse Accuracy  Non-decision Time Speed  \\\n",
      "0        0.681156                0.0                 0.235264   \n",
      "\n",
      "   Non-decision Time Accuracy         BIC  \n",
      "0                    0.358779  261.767445  \n",
      "1\n"
     ]
    },
    {
     "name": "stderr",
     "output_type": "stream",
     "text": [
      "Info: Params [0.44792337 0.90143705 0.89229114 1.         0.09836065 0.2304622\n",
      " 0.45733413] gave 482.8458385386132\n",
      "Warning: This function (from_pandas_dataframe()) is deprecated and will be removed in a future version of PyDDM.  Please use the choice_column_name argument instead.\n"
     ]
    },
    {
     "name": "stdout",
     "output_type": "stream",
     "text": [
      "   Drift Rate  Boundary Separation Speed  Boundary Separation Accuracy  \\\n",
      "0    0.447923                   0.901437                      0.892291   \n",
      "\n",
      "   Collapse Speed  Collapse Accuracy  Non-decision Time Speed  \\\n",
      "0             1.0           0.098361                 0.230462   \n",
      "\n",
      "   Non-decision Time Accuracy         BIC  \n",
      "0                    0.457334  482.845839  \n",
      "2\n"
     ]
    },
    {
     "name": "stderr",
     "output_type": "stream",
     "text": [
      "Info: Params [1.58913581 0.57933901 0.84463045 0.26305625 0.32613114 0.25490727\n",
      " 0.36420975] gave -19.49435931214031\n",
      "Warning: This function (from_pandas_dataframe()) is deprecated and will be removed in a future version of PyDDM.  Please use the choice_column_name argument instead.\n"
     ]
    },
    {
     "name": "stdout",
     "output_type": "stream",
     "text": [
      "   Drift Rate  Boundary Separation Speed  Boundary Separation Accuracy  \\\n",
      "0    1.589136                   0.579339                       0.84463   \n",
      "\n",
      "   Collapse Speed  Collapse Accuracy  Non-decision Time Speed  \\\n",
      "0        0.263056           0.326131                 0.254907   \n",
      "\n",
      "   Non-decision Time Accuracy        BIC  \n",
      "0                     0.36421 -19.494359  \n",
      "3\n"
     ]
    },
    {
     "name": "stderr",
     "output_type": "stream",
     "text": [
      "Info: Params [0.84824686 0.50994146 0.9497399  0.29737197 0.10526316 0.18262553\n",
      " 0.2374144 ] gave 292.2446244206104\n",
      "Warning: This function (from_pandas_dataframe()) is deprecated and will be removed in a future version of PyDDM.  Please use the choice_column_name argument instead.\n"
     ]
    },
    {
     "name": "stdout",
     "output_type": "stream",
     "text": [
      "   Drift Rate  Boundary Separation Speed  Boundary Separation Accuracy  \\\n",
      "0    0.848247                   0.509941                       0.94974   \n",
      "\n",
      "   Collapse Speed  Collapse Accuracy  Non-decision Time Speed  \\\n",
      "0        0.297372           0.105263                 0.182626   \n",
      "\n",
      "   Non-decision Time Accuracy         BIC  \n",
      "0                    0.237414  292.244624  \n",
      "4\n"
     ]
    },
    {
     "name": "stderr",
     "output_type": "stream",
     "text": [
      "Info: Params [1.13361704 0.72414192 0.65901188 0.55769269 0.09677456 0.20134683\n",
      " 0.34295246] gave 143.54763235344146\n",
      "Warning: This function (from_pandas_dataframe()) is deprecated and will be removed in a future version of PyDDM.  Please use the choice_column_name argument instead.\n"
     ]
    },
    {
     "name": "stdout",
     "output_type": "stream",
     "text": [
      "   Drift Rate  Boundary Separation Speed  Boundary Separation Accuracy  \\\n",
      "0    1.133617                   0.724142                      0.659012   \n",
      "\n",
      "   Collapse Speed  Collapse Accuracy  Non-decision Time Speed  \\\n",
      "0        0.557693           0.096775                 0.201347   \n",
      "\n",
      "   Non-decision Time Accuracy         BIC  \n",
      "0                    0.342952  143.547632  \n",
      "5\n"
     ]
    },
    {
     "name": "stderr",
     "output_type": "stream",
     "text": [
      "Info: Params [1.36488192 0.77500527 0.9765778  1.         0.36764706 0.33032611\n",
      " 0.47118632] gave 24.895947969130553\n",
      "Warning: This function (from_pandas_dataframe()) is deprecated and will be removed in a future version of PyDDM.  Please use the choice_column_name argument instead.\n"
     ]
    },
    {
     "name": "stdout",
     "output_type": "stream",
     "text": [
      "   Drift Rate  Boundary Separation Speed  Boundary Separation Accuracy  \\\n",
      "0    1.364882                   0.775005                      0.976578   \n",
      "\n",
      "   Collapse Speed  Collapse Accuracy  Non-decision Time Speed  \\\n",
      "0             1.0           0.367647                 0.330326   \n",
      "\n",
      "   Non-decision Time Accuracy        BIC  \n",
      "0                    0.471186  24.895948  \n",
      "6\n"
     ]
    },
    {
     "name": "stderr",
     "output_type": "stream",
     "text": [
      "Info: Params [1.28708375 0.65556132 0.80015764 0.33962265 0.43434174 0.24687457\n",
      " 0.30073358] gave 84.97281099895605\n",
      "Warning: This function (from_pandas_dataframe()) is deprecated and will be removed in a future version of PyDDM.  Please use the choice_column_name argument instead.\n"
     ]
    },
    {
     "name": "stdout",
     "output_type": "stream",
     "text": [
      "   Drift Rate  Boundary Separation Speed  Boundary Separation Accuracy  \\\n",
      "0    1.287084                   0.655561                      0.800158   \n",
      "\n",
      "   Collapse Speed  Collapse Accuracy  Non-decision Time Speed  \\\n",
      "0        0.339623           0.434342                 0.246875   \n",
      "\n",
      "   Non-decision Time Accuracy        BIC  \n",
      "0                    0.300734  84.972811  \n",
      "7\n"
     ]
    },
    {
     "name": "stderr",
     "output_type": "stream",
     "text": [
      "Info: Params [1.5757457  0.82624914 0.91376438 0.95238094 0.91525411 0.28225698\n",
      " 0.34571632] gave -126.24075212161486\n",
      "Warning: This function (from_pandas_dataframe()) is deprecated and will be removed in a future version of PyDDM.  Please use the choice_column_name argument instead.\n"
     ]
    },
    {
     "name": "stdout",
     "output_type": "stream",
     "text": [
      "   Drift Rate  Boundary Separation Speed  Boundary Separation Accuracy  \\\n",
      "0    1.575746                   0.826249                      0.913764   \n",
      "\n",
      "   Collapse Speed  Collapse Accuracy  Non-decision Time Speed  \\\n",
      "0        0.952381           0.915254                 0.282257   \n",
      "\n",
      "   Non-decision Time Accuracy         BIC  \n",
      "0                    0.345716 -126.240752  \n",
      "8\n"
     ]
    },
    {
     "name": "stderr",
     "output_type": "stream",
     "text": [
      "Info: Params [1.37761085 0.65392822 0.67773072 0.85714285 0.         0.34057833\n",
      " 0.36863791] gave 0.10103737442772598\n",
      "Warning: This function (from_pandas_dataframe()) is deprecated and will be removed in a future version of PyDDM.  Please use the choice_column_name argument instead.\n"
     ]
    },
    {
     "name": "stdout",
     "output_type": "stream",
     "text": [
      "   Drift Rate  Boundary Separation Speed  Boundary Separation Accuracy  \\\n",
      "0    1.377611                   0.653928                      0.677731   \n",
      "\n",
      "   Collapse Speed  Collapse Accuracy  Non-decision Time Speed  \\\n",
      "0        0.857143                0.0                 0.340578   \n",
      "\n",
      "   Non-decision Time Accuracy       BIC  \n",
      "0                    0.368638  0.101037  \n",
      "9\n"
     ]
    },
    {
     "name": "stderr",
     "output_type": "stream",
     "text": [
      "Info: Params [0.79948482 0.77034331 1.07879622 0.99199115 0.2828283  0.21053771\n",
      " 0.438432  ] gave 359.4389898333468\n",
      "Warning: This function (from_pandas_dataframe()) is deprecated and will be removed in a future version of PyDDM.  Please use the choice_column_name argument instead.\n"
     ]
    },
    {
     "name": "stdout",
     "output_type": "stream",
     "text": [
      "   Drift Rate  Boundary Separation Speed  Boundary Separation Accuracy  \\\n",
      "0    0.799485                   0.770343                      1.078796   \n",
      "\n",
      "   Collapse Speed  Collapse Accuracy  Non-decision Time Speed  \\\n",
      "0        0.991991           0.282828                 0.210538   \n",
      "\n",
      "   Non-decision Time Accuracy        BIC  \n",
      "0                    0.438432  359.43899  \n",
      "10\n"
     ]
    },
    {
     "name": "stderr",
     "output_type": "stream",
     "text": [
      "Info: Params [1.19049649 0.76123469 1.11318882 0.25835246 0.22321428 0.22294084\n",
      " 0.28674589] gave 410.04685609421796\n",
      "Warning: This function (from_pandas_dataframe()) is deprecated and will be removed in a future version of PyDDM.  Please use the choice_column_name argument instead.\n"
     ]
    },
    {
     "name": "stdout",
     "output_type": "stream",
     "text": [
      "   Drift Rate  Boundary Separation Speed  Boundary Separation Accuracy  \\\n",
      "0    1.190496                   0.761235                      1.113189   \n",
      "\n",
      "   Collapse Speed  Collapse Accuracy  Non-decision Time Speed  \\\n",
      "0        0.258352           0.223214                 0.222941   \n",
      "\n",
      "   Non-decision Time Accuracy         BIC  \n",
      "0                    0.286746  410.046856  \n",
      "11\n"
     ]
    },
    {
     "name": "stderr",
     "output_type": "stream",
     "text": [
      "Info: Params [1.25247883 0.66582157 0.74454362 0.50566605 0.11395782 0.30362513\n",
      " 0.40547431] gave 119.17448727819547\n",
      "Warning: This function (from_pandas_dataframe()) is deprecated and will be removed in a future version of PyDDM.  Please use the choice_column_name argument instead.\n"
     ]
    },
    {
     "name": "stdout",
     "output_type": "stream",
     "text": [
      "   Drift Rate  Boundary Separation Speed  Boundary Separation Accuracy  \\\n",
      "0    1.252479                   0.665822                      0.744544   \n",
      "\n",
      "   Collapse Speed  Collapse Accuracy  Non-decision Time Speed  \\\n",
      "0        0.505666           0.113958                 0.303625   \n",
      "\n",
      "   Non-decision Time Accuracy         BIC  \n",
      "0                    0.405474  119.174487  \n",
      "12\n"
     ]
    },
    {
     "name": "stderr",
     "output_type": "stream",
     "text": [
      "Info: Params [1.27147624 0.6340519  0.60453766 0.39024501 0.14999999 0.23433199\n",
      " 0.30350968] gave 29.34198031976174\n",
      "Warning: This function (from_pandas_dataframe()) is deprecated and will be removed in a future version of PyDDM.  Please use the choice_column_name argument instead.\n"
     ]
    },
    {
     "name": "stdout",
     "output_type": "stream",
     "text": [
      "   Drift Rate  Boundary Separation Speed  Boundary Separation Accuracy  \\\n",
      "0    1.271476                   0.634052                      0.604538   \n",
      "\n",
      "   Collapse Speed  Collapse Accuracy  Non-decision Time Speed  \\\n",
      "0        0.390245               0.15                 0.234332   \n",
      "\n",
      "   Non-decision Time Accuracy       BIC  \n",
      "0                     0.30351  29.34198  \n",
      "13\n"
     ]
    },
    {
     "name": "stderr",
     "output_type": "stream",
     "text": [
      "Info: Params [1.13180011 0.7539761  0.78093609 0.76190061 0.03278688 0.20395438\n",
      " 0.32804267] gave 211.1945168217923\n",
      "Warning: This function (from_pandas_dataframe()) is deprecated and will be removed in a future version of PyDDM.  Please use the choice_column_name argument instead.\n"
     ]
    },
    {
     "name": "stdout",
     "output_type": "stream",
     "text": [
      "   Drift Rate  Boundary Separation Speed  Boundary Separation Accuracy  \\\n",
      "0      1.1318                   0.753976                      0.780936   \n",
      "\n",
      "   Collapse Speed  Collapse Accuracy  Non-decision Time Speed  \\\n",
      "0        0.761901           0.032787                 0.203954   \n",
      "\n",
      "   Non-decision Time Accuracy         BIC  \n",
      "0                    0.328043  211.194517  \n",
      "14\n"
     ]
    },
    {
     "name": "stderr",
     "output_type": "stream",
     "text": [
      "Info: Params [0.98522141 0.63415319 0.62068094 0.31521711 0.05356256 0.20278807\n",
      " 0.2628748 ] gave 174.37642249437647\n",
      "Warning: This function (from_pandas_dataframe()) is deprecated and will be removed in a future version of PyDDM.  Please use the choice_column_name argument instead.\n"
     ]
    },
    {
     "name": "stdout",
     "output_type": "stream",
     "text": [
      "   Drift Rate  Boundary Separation Speed  Boundary Separation Accuracy  \\\n",
      "0    0.985221                   0.634153                      0.620681   \n",
      "\n",
      "   Collapse Speed  Collapse Accuracy  Non-decision Time Speed  \\\n",
      "0        0.315217           0.053563                 0.202788   \n",
      "\n",
      "   Non-decision Time Accuracy         BIC  \n",
      "0                    0.262875  174.376422  \n",
      "15\n"
     ]
    },
    {
     "name": "stderr",
     "output_type": "stream",
     "text": [
      "Info: Params [1.84429340e+00 6.03447626e-01 7.61829564e-01 4.78190005e-01\n",
      " 8.58836922e-04 2.44937558e-01 3.23051311e-01] gave -97.05667953919681\n",
      "Warning: This function (from_pandas_dataframe()) is deprecated and will be removed in a future version of PyDDM.  Please use the choice_column_name argument instead.\n"
     ]
    },
    {
     "name": "stdout",
     "output_type": "stream",
     "text": [
      "   Drift Rate  Boundary Separation Speed  Boundary Separation Accuracy  \\\n",
      "0    1.844293                   0.603448                       0.76183   \n",
      "\n",
      "   Collapse Speed  Collapse Accuracy  Non-decision Time Speed  \\\n",
      "0         0.47819           0.000859                 0.244938   \n",
      "\n",
      "   Non-decision Time Accuracy       BIC  \n",
      "0                    0.323051 -97.05668  \n",
      "16\n"
     ]
    },
    {
     "name": "stderr",
     "output_type": "stream",
     "text": [
      "Info: Params [9.87107340e-01 5.21307350e-01 5.81790189e-01 2.98116675e-01\n",
      " 3.17573221e-06 2.76751850e-01 3.71379212e-01] gave 50.012511267842854\n",
      "Warning: This function (from_pandas_dataframe()) is deprecated and will be removed in a future version of PyDDM.  Please use the choice_column_name argument instead.\n"
     ]
    },
    {
     "name": "stdout",
     "output_type": "stream",
     "text": [
      "   Drift Rate  Boundary Separation Speed  Boundary Separation Accuracy  \\\n",
      "0    0.987107                   0.521307                       0.58179   \n",
      "\n",
      "   Collapse Speed  Collapse Accuracy  Non-decision Time Speed  \\\n",
      "0        0.298117           0.000003                 0.276752   \n",
      "\n",
      "   Non-decision Time Accuracy        BIC  \n",
      "0                    0.371379  50.012511  \n",
      "17\n"
     ]
    },
    {
     "name": "stderr",
     "output_type": "stream",
     "text": [
      "Info: Params [1.8710972  0.61324201 0.6466459  0.39999419 0.01408454 0.28553091\n",
      " 0.35705704] gave -145.32349803763117\n",
      "Warning: This function (from_pandas_dataframe()) is deprecated and will be removed in a future version of PyDDM.  Please use the choice_column_name argument instead.\n"
     ]
    },
    {
     "name": "stdout",
     "output_type": "stream",
     "text": [
      "   Drift Rate  Boundary Separation Speed  Boundary Separation Accuracy  \\\n",
      "0    1.871097                   0.613242                      0.646646   \n",
      "\n",
      "   Collapse Speed  Collapse Accuracy  Non-decision Time Speed  \\\n",
      "0        0.399994           0.014085                 0.285531   \n",
      "\n",
      "   Non-decision Time Accuracy         BIC  \n",
      "0                    0.357057 -145.323498  \n",
      "18\n"
     ]
    },
    {
     "name": "stderr",
     "output_type": "stream",
     "text": [
      "Info: Params [1.67278588 0.62044413 0.71263054 0.24390244 0.         0.27815317\n",
      " 0.31047396] gave 29.35793806940375\n",
      "Warning: This function (from_pandas_dataframe()) is deprecated and will be removed in a future version of PyDDM.  Please use the choice_column_name argument instead.\n"
     ]
    },
    {
     "name": "stdout",
     "output_type": "stream",
     "text": [
      "   Drift Rate  Boundary Separation Speed  Boundary Separation Accuracy  \\\n",
      "0    1.672786                   0.620444                      0.712631   \n",
      "\n",
      "   Collapse Speed  Collapse Accuracy  Non-decision Time Speed  \\\n",
      "0        0.243902                0.0                 0.278153   \n",
      "\n",
      "   Non-decision Time Accuracy        BIC  \n",
      "0                    0.310474  29.357938  \n",
      "19\n"
     ]
    },
    {
     "name": "stderr",
     "output_type": "stream",
     "text": [
      "Info: Params [0.46790121 0.71606635 0.66952371 0.42188979 0.13607689 0.20518532\n",
      " 0.32225444] gave 357.4670911267171\n"
     ]
    },
    {
     "name": "stdout",
     "output_type": "stream",
     "text": [
      "   Drift Rate  Boundary Separation Speed  Boundary Separation Accuracy  \\\n",
      "0    0.467901                   0.716066                      0.669524   \n",
      "\n",
      "   Collapse Speed  Collapse Accuracy  Non-decision Time Speed  \\\n",
      "0         0.42189           0.136077                 0.205185   \n",
      "\n",
      "   Non-decision Time Accuracy         BIC  \n",
      "0                    0.322254  357.467091  \n"
     ]
    }
   ],
   "source": [
    "df_all = pd.DataFrame()\n",
    "for i in range(sample_size):\n",
    "    print(i)\n",
    "    path = os.path.join(data_dir+str(i+1)+\".txt\")\n",
    "    df = pd.read_csv(path, sep = \" \")\n",
    "    #df = df[df[\"cond\"]==SAT] # A condition\n",
    "    df = df[df[\"rt\"]<3]\n",
    "\n",
    "    samp = Sample.from_pandas_dataframe(df, rt_column_name=\"rt\", correct_column_name=\"correct\")\n",
    "    df = get_DDM_result_sub_2a2c2ter(samp)\n",
    "    df_all = pd.concat((df_all,df))\n",
    "    print(df)\n",
    "df_OUM = df_all.copy()\n"
   ]
  },
  {
   "cell_type": "code",
   "execution_count": 25,
   "id": "3b05a53a",
   "metadata": {},
   "outputs": [],
   "source": [
    "df_OUM.to_csv(\"DDM2a2c2terresultDutilh2019.csv\")"
   ]
  },
  {
   "cell_type": "code",
   "execution_count": 11,
   "id": "87e8797e",
   "metadata": {},
   "outputs": [
    {
     "data": {
      "text/plain": [
       "132.13354205447334"
      ]
     },
     "execution_count": 11,
     "metadata": {},
     "output_type": "execute_result"
    }
   ],
   "source": [
    "df_OUM[\"BIC\"].mean()"
   ]
  },
  {
   "cell_type": "code",
   "execution_count": 16,
   "id": "b1171880",
   "metadata": {},
   "outputs": [],
   "source": [
    "import copy"
   ]
  },
  {
   "cell_type": "code",
   "execution_count": 21,
   "id": "c5baddcf",
   "metadata": {},
   "outputs": [],
   "source": [
    "def transform_df_DDM2a2c2ter(df):\n",
    "    SAT = [copy.copy(e) for _ in range(len(df)) for e in [\"Speed\"]] + [copy.copy(e) for _ in range(len(df)) for e in [\"Accuracy\"]]\n",
    "    df_speed = df.loc[:, [\"Drift Rate Speed\", \"Boundary Separation Speed\", \"Non-decision Time Speed\", \"Collapse Speed\"]]\n",
    "    df_speed = df_speed.rename(columns={\"Drift Rate Speed\":\"Drift Rate\",\n",
    "                                        \"Boundary Separation Speed\": \"Boundary Separation\",\n",
    "                                        \"Non-decision Time Speed\": \"Non-decision Time\",\n",
    "                                        \"Collapse Speed\":\"Collapse\"})\n",
    "\n",
    "    df_accuracy = df.loc[:, [\"Drift Rate Accuracy\", \"Boundary Separation Accuracy\", \"Non-decision Time Accuracy\", \"Collapse Accuracy\"]]\n",
    "    df_accuracy = df_accuracy.rename(columns={\"Drift Rate Accuracy\": \"Drift Rate\", \n",
    "                                              \"Boundary Separation Accuracy\": \"Boundary Separation\",\n",
    "                                              \"Non-decision Time Accuracy\": \"Non-decision Time\",\n",
    "                                              \"Collapse Accuracy\":\"Collapse\"})\n",
    "\n",
    "    df_concat = pd.concat((df_speed, df_accuracy), ignore_index=True)\n",
    "    df_concat[\"SAT\"] = SAT\n",
    "\n",
    "    df_melted = pd.melt(df_concat, id_vars = [\"SAT\"], \n",
    "                            value_vars=['Drift Rate', 'Boundary Separation','Non-decision Time', 'Collapse'],\n",
    "                            var_name = \"Parameter\", value_name = \"Value\")\n",
    "    return df_melted"
   ]
  },
  {
   "cell_type": "code",
   "execution_count": 22,
   "id": "c30a8d44",
   "metadata": {},
   "outputs": [],
   "source": [
    "def transform_df_DDM2a2c2ter(df):\n",
    "    SAT = [copy.copy(e) for _ in range(len(df)) for e in [\"Speed\"]] + [copy.copy(e) for _ in range(len(df)) for e in [\"Accuracy\"]]\n",
    "    df_speed = df.loc[:, [\"Drift Rate\", \"Boundary Separation Speed\", \"Non-decision Time Speed\", \"Collapse Speed\"]]\n",
    "    df_speed = df_speed.rename(columns={\n",
    "                                        \"Boundary Separation Speed\": \"Boundary Separation\",\n",
    "                                        \"Non-decision Time Speed\": \"Non-decision Time\",\n",
    "                                        \"Collapse Speed\":\"Collapse Rate\"})\n",
    "\n",
    "    df_accuracy = df.loc[:, [\"Boundary Separation Accuracy\", \"Non-decision Time Accuracy\", \"Collapse Accuracy\"]]\n",
    "    df_accuracy = df_accuracy.rename(columns={\n",
    "                                              \"Boundary Separation Accuracy\": \"Boundary Separation\",\n",
    "                                              \"Non-decision Time Accuracy\": \"Non-decision Time\",\n",
    "                                              \"Collapse Accuracy\":\"Collapse Rate\"})\n",
    "\n",
    "    df_concat = pd.concat((df_speed, df_accuracy), ignore_index=True)\n",
    "    df_concat[\"SAT\"] = SAT\n",
    "\n",
    "    df_melted = pd.melt(df_concat, id_vars = [\"SAT\"], \n",
    "                            value_vars=['Boundary Separation','Non-decision Time', 'Collapse'],\n",
    "                            var_name = \"Parameter\", value_name = \"Value\")\n",
    "    return df_melted"
   ]
  },
  {
   "cell_type": "code",
   "execution_count": 24,
   "id": "17d8c0c3",
   "metadata": {},
   "outputs": [
    {
     "data": {
      "text/plain": [
       "<Axes: xlabel='Parameter', ylabel='Value'>"
      ]
     },
     "execution_count": 24,
     "metadata": {},
     "output_type": "execute_result"
    },
    {
     "data": {
      "image/png": "[encoded data removed]",
      "text/plain": [
       "<Figure size 600x400 with 1 Axes>"
      ]
     },
     "metadata": {},
     "output_type": "display_data"
    }
   ],
   "source": [
    "#df = pd.read_csv(\"DDM2vsvUniform101bins2a2terresultDutilh2019.csv\")\n",
    "df = df_OUM.copy()\n",
    "f, ax = plt.subplots(1, 1,figsize=(6, 4))#, sharey=True)\n",
    "sns.barplot(ax = ax, data=transform_df_DDM2a2c2ter(df), x=\"Parameter\", y=\"Value\", hue=\"SAT\", hue_order=[\"Speed\",\"Accuracy\"])"
   ]
  },
  {
   "cell_type": "code",
   "execution_count": 19,
   "id": "c1cc16b0",
   "metadata": {},
   "outputs": [
    {
     "data": {
      "text/html": [
       "<div>\n",
       "<style scoped>\n",
       "    .dataframe tbody tr th:only-of-type {\n",
       "        vertical-align: middle;\n",
       "    }\n",
       "\n",
       "    .dataframe tbody tr th {\n",
       "        vertical-align: top;\n",
       "    }\n",
       "\n",
       "    .dataframe thead th {\n",
       "        text-align: right;\n",
       "    }\n",
       "</style>\n",
       "<table border=\"1\" class=\"dataframe\">\n",
       "  <thead>\n",
       "    <tr style=\"text-align: right;\">\n",
       "      <th></th>\n",
       "      <th>Drift Rate</th>\n",
       "      <th>Boundary Separation Speed</th>\n",
       "      <th>Boundary Separation Accuracy</th>\n",
       "      <th>Collapse Speed</th>\n",
       "      <th>Collapse Accuracy</th>\n",
       "      <th>Non-decision Time Speed</th>\n",
       "      <th>Non-decision Time Accuracy</th>\n",
       "      <th>BIC</th>\n",
       "    </tr>\n",
       "  </thead>\n",
       "  <tbody>\n",
       "    <tr>\n",
       "      <th>0</th>\n",
       "      <td>1.167876</td>\n",
       "      <td>0.818274</td>\n",
       "      <td>0.772998</td>\n",
       "      <td>0.681156</td>\n",
       "      <td>0.000000</td>\n",
       "      <td>0.235264</td>\n",
       "      <td>0.358779</td>\n",
       "      <td>261.767445</td>\n",
       "    </tr>\n",
       "    <tr>\n",
       "      <th>0</th>\n",
       "      <td>0.447923</td>\n",
       "      <td>0.901437</td>\n",
       "      <td>0.892291</td>\n",
       "      <td>1.000000</td>\n",
       "      <td>0.098361</td>\n",
       "      <td>0.230462</td>\n",
       "      <td>0.457334</td>\n",
       "      <td>482.845839</td>\n",
       "    </tr>\n",
       "    <tr>\n",
       "      <th>0</th>\n",
       "      <td>1.589136</td>\n",
       "      <td>0.579339</td>\n",
       "      <td>0.844630</td>\n",
       "      <td>0.263056</td>\n",
       "      <td>0.326131</td>\n",
       "      <td>0.254907</td>\n",
       "      <td>0.364210</td>\n",
       "      <td>-19.494359</td>\n",
       "    </tr>\n",
       "    <tr>\n",
       "      <th>0</th>\n",
       "      <td>0.848247</td>\n",
       "      <td>0.509941</td>\n",
       "      <td>0.949740</td>\n",
       "      <td>0.297372</td>\n",
       "      <td>0.105263</td>\n",
       "      <td>0.182626</td>\n",
       "      <td>0.237414</td>\n",
       "      <td>292.244624</td>\n",
       "    </tr>\n",
       "    <tr>\n",
       "      <th>0</th>\n",
       "      <td>1.133617</td>\n",
       "      <td>0.724142</td>\n",
       "      <td>0.659012</td>\n",
       "      <td>0.557693</td>\n",
       "      <td>0.096775</td>\n",
       "      <td>0.201347</td>\n",
       "      <td>0.342952</td>\n",
       "      <td>143.547632</td>\n",
       "    </tr>\n",
       "    <tr>\n",
       "      <th>0</th>\n",
       "      <td>1.364882</td>\n",
       "      <td>0.775005</td>\n",
       "      <td>0.976578</td>\n",
       "      <td>1.000000</td>\n",
       "      <td>0.367647</td>\n",
       "      <td>0.330326</td>\n",
       "      <td>0.471186</td>\n",
       "      <td>24.895948</td>\n",
       "    </tr>\n",
       "    <tr>\n",
       "      <th>0</th>\n",
       "      <td>1.287084</td>\n",
       "      <td>0.655561</td>\n",
       "      <td>0.800158</td>\n",
       "      <td>0.339623</td>\n",
       "      <td>0.434342</td>\n",
       "      <td>0.246875</td>\n",
       "      <td>0.300734</td>\n",
       "      <td>84.972811</td>\n",
       "    </tr>\n",
       "    <tr>\n",
       "      <th>0</th>\n",
       "      <td>1.575746</td>\n",
       "      <td>0.826249</td>\n",
       "      <td>0.913764</td>\n",
       "      <td>0.952381</td>\n",
       "      <td>0.915254</td>\n",
       "      <td>0.282257</td>\n",
       "      <td>0.345716</td>\n",
       "      <td>-126.240752</td>\n",
       "    </tr>\n",
       "    <tr>\n",
       "      <th>0</th>\n",
       "      <td>1.377611</td>\n",
       "      <td>0.653928</td>\n",
       "      <td>0.677731</td>\n",
       "      <td>0.857143</td>\n",
       "      <td>0.000000</td>\n",
       "      <td>0.340578</td>\n",
       "      <td>0.368638</td>\n",
       "      <td>0.101037</td>\n",
       "    </tr>\n",
       "    <tr>\n",
       "      <th>0</th>\n",
       "      <td>0.799485</td>\n",
       "      <td>0.770343</td>\n",
       "      <td>1.078796</td>\n",
       "      <td>0.991991</td>\n",
       "      <td>0.282828</td>\n",
       "      <td>0.210538</td>\n",
       "      <td>0.438432</td>\n",
       "      <td>359.438990</td>\n",
       "    </tr>\n",
       "    <tr>\n",
       "      <th>0</th>\n",
       "      <td>1.190496</td>\n",
       "      <td>0.761235</td>\n",
       "      <td>1.113189</td>\n",
       "      <td>0.258352</td>\n",
       "      <td>0.223214</td>\n",
       "      <td>0.222941</td>\n",
       "      <td>0.286746</td>\n",
       "      <td>410.046856</td>\n",
       "    </tr>\n",
       "    <tr>\n",
       "      <th>0</th>\n",
       "      <td>1.252479</td>\n",
       "      <td>0.665822</td>\n",
       "      <td>0.744544</td>\n",
       "      <td>0.505666</td>\n",
       "      <td>0.113958</td>\n",
       "      <td>0.303625</td>\n",
       "      <td>0.405474</td>\n",
       "      <td>119.174487</td>\n",
       "    </tr>\n",
       "    <tr>\n",
       "      <th>0</th>\n",
       "      <td>1.271476</td>\n",
       "      <td>0.634052</td>\n",
       "      <td>0.604538</td>\n",
       "      <td>0.390245</td>\n",
       "      <td>0.150000</td>\n",
       "      <td>0.234332</td>\n",
       "      <td>0.303510</td>\n",
       "      <td>29.341980</td>\n",
       "    </tr>\n",
       "    <tr>\n",
       "      <th>0</th>\n",
       "      <td>1.131800</td>\n",
       "      <td>0.753976</td>\n",
       "      <td>0.780936</td>\n",
       "      <td>0.761901</td>\n",
       "      <td>0.032787</td>\n",
       "      <td>0.203954</td>\n",
       "      <td>0.328043</td>\n",
       "      <td>211.194517</td>\n",
       "    </tr>\n",
       "    <tr>\n",
       "      <th>0</th>\n",
       "      <td>0.985221</td>\n",
       "      <td>0.634153</td>\n",
       "      <td>0.620681</td>\n",
       "      <td>0.315217</td>\n",
       "      <td>0.053563</td>\n",
       "      <td>0.202788</td>\n",
       "      <td>0.262875</td>\n",
       "      <td>174.376422</td>\n",
       "    </tr>\n",
       "    <tr>\n",
       "      <th>0</th>\n",
       "      <td>1.844293</td>\n",
       "      <td>0.603448</td>\n",
       "      <td>0.761830</td>\n",
       "      <td>0.478190</td>\n",
       "      <td>0.000859</td>\n",
       "      <td>0.244938</td>\n",
       "      <td>0.323051</td>\n",
       "      <td>-97.056680</td>\n",
       "    </tr>\n",
       "    <tr>\n",
       "      <th>0</th>\n",
       "      <td>0.987107</td>\n",
       "      <td>0.521307</td>\n",
       "      <td>0.581790</td>\n",
       "      <td>0.298117</td>\n",
       "      <td>0.000003</td>\n",
       "      <td>0.276752</td>\n",
       "      <td>0.371379</td>\n",
       "      <td>50.012511</td>\n",
       "    </tr>\n",
       "    <tr>\n",
       "      <th>0</th>\n",
       "      <td>1.871097</td>\n",
       "      <td>0.613242</td>\n",
       "      <td>0.646646</td>\n",
       "      <td>0.399994</td>\n",
       "      <td>0.014085</td>\n",
       "      <td>0.285531</td>\n",
       "      <td>0.357057</td>\n",
       "      <td>-145.323498</td>\n",
       "    </tr>\n",
       "    <tr>\n",
       "      <th>0</th>\n",
       "      <td>1.672786</td>\n",
       "      <td>0.620444</td>\n",
       "      <td>0.712631</td>\n",
       "      <td>0.243902</td>\n",
       "      <td>0.000000</td>\n",
       "      <td>0.278153</td>\n",
       "      <td>0.310474</td>\n",
       "      <td>29.357938</td>\n",
       "    </tr>\n",
       "    <tr>\n",
       "      <th>0</th>\n",
       "      <td>0.467901</td>\n",
       "      <td>0.716066</td>\n",
       "      <td>0.669524</td>\n",
       "      <td>0.421890</td>\n",
       "      <td>0.136077</td>\n",
       "      <td>0.205185</td>\n",
       "      <td>0.322254</td>\n",
       "      <td>357.467091</td>\n",
       "    </tr>\n",
       "  </tbody>\n",
       "</table>\n",
       "</div>"
      ],
      "text/plain": [
       "   Drift Rate  Boundary Separation Speed  Boundary Separation Accuracy  \\\n",
       "0    1.167876                   0.818274                      0.772998   \n",
       "0    0.447923                   0.901437                      0.892291   \n",
       "0    1.589136                   0.579339                      0.844630   \n",
       "0    0.848247                   0.509941                      0.949740   \n",
       "0    1.133617                   0.724142                      0.659012   \n",
       "0    1.364882                   0.775005                      0.976578   \n",
       "0    1.287084                   0.655561                      0.800158   \n",
       "0    1.575746                   0.826249                      0.913764   \n",
       "0    1.377611                   0.653928                      0.677731   \n",
       "0    0.799485                   0.770343                      1.078796   \n",
       "0    1.190496                   0.761235                      1.113189   \n",
       "0    1.252479                   0.665822                      0.744544   \n",
       "0    1.271476                   0.634052                      0.604538   \n",
       "0    1.131800                   0.753976                      0.780936   \n",
       "0    0.985221                   0.634153                      0.620681   \n",
       "0    1.844293                   0.603448                      0.761830   \n",
       "0    0.987107                   0.521307                      0.581790   \n",
       "0    1.871097                   0.613242                      0.646646   \n",
       "0    1.672786                   0.620444                      0.712631   \n",
       "0    0.467901                   0.716066                      0.669524   \n",
       "\n",
       "   Collapse Speed  Collapse Accuracy  Non-decision Time Speed  \\\n",
       "0        0.681156           0.000000                 0.235264   \n",
       "0        1.000000           0.098361                 0.230462   \n",
       "0        0.263056           0.326131                 0.254907   \n",
       "0        0.297372           0.105263                 0.182626   \n",
       "0        0.557693           0.096775                 0.201347   \n",
       "0        1.000000           0.367647                 0.330326   \n",
       "0        0.339623           0.434342                 0.246875   \n",
       "0        0.952381           0.915254                 0.282257   \n",
       "0        0.857143           0.000000                 0.340578   \n",
       "0        0.991991           0.282828                 0.210538   \n",
       "0        0.258352           0.223214                 0.222941   \n",
       "0        0.505666           0.113958                 0.303625   \n",
       "0        0.390245           0.150000                 0.234332   \n",
       "0        0.761901           0.032787                 0.203954   \n",
       "0        0.315217           0.053563                 0.202788   \n",
       "0        0.478190           0.000859                 0.244938   \n",
       "0        0.298117           0.000003                 0.276752   \n",
       "0        0.399994           0.014085                 0.285531   \n",
       "0        0.243902           0.000000                 0.278153   \n",
       "0        0.421890           0.136077                 0.205185   \n",
       "\n",
       "   Non-decision Time Accuracy         BIC  \n",
       "0                    0.358779  261.767445  \n",
       "0                    0.457334  482.845839  \n",
       "0                    0.364210  -19.494359  \n",
       "0                    0.237414  292.244624  \n",
       "0                    0.342952  143.547632  \n",
       "0                    0.471186   24.895948  \n",
       "0                    0.300734   84.972811  \n",
       "0                    0.345716 -126.240752  \n",
       "0                    0.368638    0.101037  \n",
       "0                    0.438432  359.438990  \n",
       "0                    0.286746  410.046856  \n",
       "0                    0.405474  119.174487  \n",
       "0                    0.303510   29.341980  \n",
       "0                    0.328043  211.194517  \n",
       "0                    0.262875  174.376422  \n",
       "0                    0.323051  -97.056680  \n",
       "0                    0.371379   50.012511  \n",
       "0                    0.357057 -145.323498  \n",
       "0                    0.310474   29.357938  \n",
       "0                    0.322254  357.467091  "
      ]
     },
     "execution_count": 19,
     "metadata": {},
     "output_type": "execute_result"
    }
   ],
   "source": [
    "df"
   ]
  },
  {
   "cell_type": "code",
   "execution_count": null,
   "id": "b840a75b",
   "metadata": {},
   "outputs": [],
   "source": []
  }
 ],
 "metadata": {
  "kernelspec": {
   "display_name": "Python 3 (ipykernel)",
   "language": "python",
   "name": "python3"
  },
  "language_info": {
   "codemirror_mode": {
    "name": "ipython",
    "version": 3
   },
   "file_extension": ".py",
   "mimetype": "text/x-python",
   "name": "python",
   "nbconvert_exporter": "python",
   "pygments_lexer": "ipython3",
   "version": "3.11.4"
  }
 },
 "nbformat": 4,
 "nbformat_minor": 5
}
