{
 "cells": [
  {
   "cell_type": "code",
   "execution_count": 1,
   "id": "2cda49de",
   "metadata": {},
   "outputs": [],
   "source": [
    "%run SAT_help_functions.ipynb"
   ]
  },
  {
   "cell_type": "code",
   "execution_count": null,
   "id": "bc081cf9",
   "metadata": {},
   "outputs": [],
   "source": []
  },
  {
   "cell_type": "markdown",
   "id": "4bd26666",
   "metadata": {},
   "source": [
    "## OUM"
   ]
  },
  {
   "cell_type": "code",
   "execution_count": null,
   "id": "9ef6c434",
   "metadata": {},
   "outputs": [],
   "source": []
  },
  {
   "cell_type": "code",
   "execution_count": 2,
   "id": "e776257c",
   "metadata": {},
   "outputs": [],
   "source": [
    "data_dir = \"/Users/wangjiashun/Desktop/Reserach on SAT/datasets/Evans2021/Evans2017/dataBySubject/sub\"\n",
    "sample_size = 47\n",
    "SAT_conds = [\"Speed\", \"Accuracy\"]"
   ]
  },
  {
   "cell_type": "code",
   "execution_count": 3,
   "id": "f434220f",
   "metadata": {},
   "outputs": [],
   "source": [
    "class BoundSpeedAcc(Bound):\n",
    "    name = \"BoundSpeedAcc\"\n",
    "    required_parameters = [\"Bspeed\", \"Bacc\"]\n",
    "    required_conditions = ['Cond']\n",
    "    def get_bound(self, conditions, *args, **kwargs):\n",
    "        assert self.Bacc > 0\n",
    "        assert self.Bspeed > 0\n",
    "        if conditions['Cond'] == 'Speed':\n",
    "            return self.Bspeed\n",
    "        elif conditions['Cond'] == 'Accuracy':\n",
    "            return self.Bacc\n",
    "        else:\n",
    "            print(\"Non-implemented SAT conditions\")"
   ]
  },
  {
   "cell_type": "code",
   "execution_count": 4,
   "id": "bbb278a6",
   "metadata": {},
   "outputs": [],
   "source": [
    "\n",
    "class DriftConstantSpeedAcc(Drift):\n",
    "    name = \"DriftConstantSpeedAcc\"\n",
    "    required_parameters = [\"Vspeed\",\"Vacc\"]\n",
    "    required_conditions = ['Cond']\n",
    "        \n",
    "    def get_drift(self, x, t, conditions, **kwargs):\n",
    "        if conditions['Cond'] == 'Speed':\n",
    "            return self.Vspeed\n",
    "        elif conditions['Cond'] == 'Accuracy':\n",
    "            return self.Vacc\n",
    "        else: \n",
    "            print(\"Non-implemented SAT conditions\")"
   ]
  },
  {
   "cell_type": "code",
   "execution_count": 5,
   "id": "6e5e0074",
   "metadata": {},
   "outputs": [],
   "source": [
    "\n",
    "class NondecisionSpeedAcc(OverlayNonDecision):\n",
    "    name = \"NondecisionSpeedAcc\"\n",
    "    required_parameters = [\"tSpeed\", 'tAcc']\n",
    "    required_conditions = ['Cond']\n",
    "        \n",
    "    def get_nondecision_time(self, conditions, **kwargs):\n",
    "        if conditions['Cond'] == 'Speed':\n",
    "            return self.tSpeed \n",
    "        elif conditions['Cond'] == 'Accuracy':\n",
    "            return self.tAcc\n",
    "        else: \n",
    "            print(\"Non-implemented SAT conditions\")"
   ]
  },
  {
   "cell_type": "code",
   "execution_count": null,
   "id": "b1e0fe9b",
   "metadata": {},
   "outputs": [],
   "source": []
  },
  {
   "cell_type": "code",
   "execution_count": null,
   "id": "81235d16",
   "metadata": {},
   "outputs": [],
   "source": []
  },
  {
   "cell_type": "code",
   "execution_count": null,
   "id": "8a3f5185",
   "metadata": {},
   "outputs": [],
   "source": []
  },
  {
   "cell_type": "code",
   "execution_count": 6,
   "id": "fdb13001",
   "metadata": {
    "scrolled": true
   },
   "outputs": [
    {
     "name": "stderr",
     "output_type": "stream",
     "text": [
      "Warning: This function (from_pandas_dataframe()) is deprecated and will be removed in a future version of PyDDM.  Please use the choice_column_name argument instead.\n"
     ]
    },
    {
     "name": "stdout",
     "output_type": "stream",
     "text": [
      "0\n"
     ]
    },
    {
     "name": "stderr",
     "output_type": "stream",
     "text": [
      "Info: Params [0.75841418 0.86985889 0.55366636 0.92205573 0.32174611 0.37983499] gave 504.24094165874857\n",
      "Warning: This function (from_pandas_dataframe()) is deprecated and will be removed in a future version of PyDDM.  Please use the choice_column_name argument instead.\n"
     ]
    },
    {
     "name": "stdout",
     "output_type": "stream",
     "text": [
      "   Drift Rate Speed  Drift Rate Accuracy  Boundary Separation Speed  \\\n",
      "0          0.758414             0.869859                   0.553666   \n",
      "\n",
      "   Boundary Separation Accuracy  Non-decision Time Speed  \\\n",
      "0                      0.922056                 0.321746   \n",
      "\n",
      "   Non-decision Time Accuracy         BIC  \n",
      "0                    0.379835  504.240942  \n",
      "1\n"
     ]
    },
    {
     "name": "stderr",
     "output_type": "stream",
     "text": [
      "Info: Params [2.64519123 0.95922086 0.64221896 1.24406373 0.42296406 0.40130151] gave 270.169185059878\n",
      "Warning: This function (from_pandas_dataframe()) is deprecated and will be removed in a future version of PyDDM.  Please use the choice_column_name argument instead.\n"
     ]
    },
    {
     "name": "stdout",
     "output_type": "stream",
     "text": [
      "   Drift Rate Speed  Drift Rate Accuracy  Boundary Separation Speed  \\\n",
      "0          2.645191             0.959221                   0.642219   \n",
      "\n",
      "   Boundary Separation Accuracy  Non-decision Time Speed  \\\n",
      "0                      1.244064                 0.422964   \n",
      "\n",
      "   Non-decision Time Accuracy         BIC  \n",
      "0                    0.401302  270.169185  \n",
      "2\n"
     ]
    },
    {
     "name": "stderr",
     "output_type": "stream",
     "text": [
      "Info: Params [1.20280886 1.368757   0.66318152 0.74739413 0.21290957 0.34662085] gave 231.2883432287689\n",
      "Warning: This function (from_pandas_dataframe()) is deprecated and will be removed in a future version of PyDDM.  Please use the choice_column_name argument instead.\n"
     ]
    },
    {
     "name": "stdout",
     "output_type": "stream",
     "text": [
      "   Drift Rate Speed  Drift Rate Accuracy  Boundary Separation Speed  \\\n",
      "0          1.202809             1.368757                   0.663182   \n",
      "\n",
      "   Boundary Separation Accuracy  Non-decision Time Speed  \\\n",
      "0                      0.747394                  0.21291   \n",
      "\n",
      "   Non-decision Time Accuracy         BIC  \n",
      "0                    0.346621  231.288343  \n",
      "3\n"
     ]
    },
    {
     "name": "stderr",
     "output_type": "stream",
     "text": [
      "Info: Params [1.48669933 1.17339897 0.78673367 3.29306112 0.41345185 0.75977118] gave 733.1781248681277\n",
      "Warning: This function (from_pandas_dataframe()) is deprecated and will be removed in a future version of PyDDM.  Please use the choice_column_name argument instead.\n"
     ]
    },
    {
     "name": "stdout",
     "output_type": "stream",
     "text": [
      "   Drift Rate Speed  Drift Rate Accuracy  Boundary Separation Speed  \\\n",
      "0          1.486699             1.173399                   0.786734   \n",
      "\n",
      "   Boundary Separation Accuracy  Non-decision Time Speed  \\\n",
      "0                      3.293061                 0.413452   \n",
      "\n",
      "   Non-decision Time Accuracy         BIC  \n",
      "0                    0.759771  733.178125  \n",
      "4\n"
     ]
    },
    {
     "name": "stderr",
     "output_type": "stream",
     "text": [
      "Info: Params [1.79778157 1.00219954 0.64720067 0.8986091  0.33004218 0.35083404] gave 273.9554908342047\n",
      "Warning: This function (from_pandas_dataframe()) is deprecated and will be removed in a future version of PyDDM.  Please use the choice_column_name argument instead.\n"
     ]
    },
    {
     "name": "stdout",
     "output_type": "stream",
     "text": [
      "   Drift Rate Speed  Drift Rate Accuracy  Boundary Separation Speed  \\\n",
      "0          1.797782               1.0022                   0.647201   \n",
      "\n",
      "   Boundary Separation Accuracy  Non-decision Time Speed  \\\n",
      "0                      0.898609                 0.330042   \n",
      "\n",
      "   Non-decision Time Accuracy         BIC  \n",
      "0                    0.350834  273.955491  \n",
      "5\n"
     ]
    },
    {
     "name": "stderr",
     "output_type": "stream",
     "text": [
      "Info: Params [1.34379667 0.94279436 0.57314485 0.93228358 0.42377273 0.48451124] gave 412.8499513568618\n",
      "Warning: This function (from_pandas_dataframe()) is deprecated and will be removed in a future version of PyDDM.  Please use the choice_column_name argument instead.\n"
     ]
    },
    {
     "name": "stdout",
     "output_type": "stream",
     "text": [
      "   Drift Rate Speed  Drift Rate Accuracy  Boundary Separation Speed  \\\n",
      "0          1.343797             0.942794                   0.573145   \n",
      "\n",
      "   Boundary Separation Accuracy  Non-decision Time Speed  \\\n",
      "0                      0.932284                 0.423773   \n",
      "\n",
      "   Non-decision Time Accuracy         BIC  \n",
      "0                    0.484511  412.849951  \n",
      "6\n"
     ]
    },
    {
     "name": "stderr",
     "output_type": "stream",
     "text": [
      "Info: Params [0.64273368 0.89374719 0.58572883 0.70323668 0.17406185 0.37448601] gave 371.2363477402069\n",
      "Warning: This function (from_pandas_dataframe()) is deprecated and will be removed in a future version of PyDDM.  Please use the choice_column_name argument instead.\n"
     ]
    },
    {
     "name": "stdout",
     "output_type": "stream",
     "text": [
      "   Drift Rate Speed  Drift Rate Accuracy  Boundary Separation Speed  \\\n",
      "0          0.642734             0.893747                   0.585729   \n",
      "\n",
      "   Boundary Separation Accuracy  Non-decision Time Speed  \\\n",
      "0                      0.703237                 0.174062   \n",
      "\n",
      "   Non-decision Time Accuracy         BIC  \n",
      "0                    0.374486  371.236348  \n",
      "7\n"
     ]
    },
    {
     "name": "stderr",
     "output_type": "stream",
     "text": [
      "Info: Params [1.84744079 1.87516619 0.58930931 0.76119491 0.41055384 0.53516414] gave -71.82467590657926\n",
      "Warning: This function (from_pandas_dataframe()) is deprecated and will be removed in a future version of PyDDM.  Please use the choice_column_name argument instead.\n"
     ]
    },
    {
     "name": "stdout",
     "output_type": "stream",
     "text": [
      "   Drift Rate Speed  Drift Rate Accuracy  Boundary Separation Speed  \\\n",
      "0          1.847441             1.875166                   0.589309   \n",
      "\n",
      "   Boundary Separation Accuracy  Non-decision Time Speed  \\\n",
      "0                      0.761195                 0.410554   \n",
      "\n",
      "   Non-decision Time Accuracy        BIC  \n",
      "0                    0.535164 -71.824676  \n",
      "8\n"
     ]
    },
    {
     "name": "stderr",
     "output_type": "stream",
     "text": [
      "Info: Params [1.93036621 1.18518012 0.74606893 1.01200892 0.44087144 0.46750109] gave 177.56589019657295\n",
      "Warning: This function (from_pandas_dataframe()) is deprecated and will be removed in a future version of PyDDM.  Please use the choice_column_name argument instead.\n"
     ]
    },
    {
     "name": "stdout",
     "output_type": "stream",
     "text": [
      "   Drift Rate Speed  Drift Rate Accuracy  Boundary Separation Speed  \\\n",
      "0          1.930366              1.18518                   0.746069   \n",
      "\n",
      "   Boundary Separation Accuracy  Non-decision Time Speed  \\\n",
      "0                      1.012009                 0.440871   \n",
      "\n",
      "   Non-decision Time Accuracy        BIC  \n",
      "0                    0.467501  177.56589  \n",
      "9\n"
     ]
    },
    {
     "name": "stderr",
     "output_type": "stream",
     "text": [
      "Info: Params [0.73510404 0.44515397 0.69153354 0.92784356 0.36282994 0.37376196] gave 820.7966297059478\n",
      "Warning: This function (from_pandas_dataframe()) is deprecated and will be removed in a future version of PyDDM.  Please use the choice_column_name argument instead.\n"
     ]
    },
    {
     "name": "stdout",
     "output_type": "stream",
     "text": [
      "   Drift Rate Speed  Drift Rate Accuracy  Boundary Separation Speed  \\\n",
      "0          0.735104             0.445154                   0.691534   \n",
      "\n",
      "   Boundary Separation Accuracy  Non-decision Time Speed  \\\n",
      "0                      0.927844                  0.36283   \n",
      "\n",
      "   Non-decision Time Accuracy        BIC  \n",
      "0                    0.373762  820.79663  \n",
      "10\n"
     ]
    },
    {
     "name": "stderr",
     "output_type": "stream",
     "text": [
      "Info: Params [0.95960163 0.31445536 0.61203176 1.18282631 0.42807026 0.4069278 ] gave 903.6745625711374\n",
      "Warning: This function (from_pandas_dataframe()) is deprecated and will be removed in a future version of PyDDM.  Please use the choice_column_name argument instead.\n"
     ]
    },
    {
     "name": "stdout",
     "output_type": "stream",
     "text": [
      "   Drift Rate Speed  Drift Rate Accuracy  Boundary Separation Speed  \\\n",
      "0          0.959602             0.314455                   0.612032   \n",
      "\n",
      "   Boundary Separation Accuracy  Non-decision Time Speed  \\\n",
      "0                      1.182826                  0.42807   \n",
      "\n",
      "   Non-decision Time Accuracy         BIC  \n",
      "0                    0.406928  903.674563  \n",
      "11\n"
     ]
    },
    {
     "name": "stderr",
     "output_type": "stream",
     "text": [
      "Info: Params [0.88188976 0.76102346 0.66842096 1.03154217 0.21324165 0.43055928] gave 705.2609703589179\n",
      "Warning: This function (from_pandas_dataframe()) is deprecated and will be removed in a future version of PyDDM.  Please use the choice_column_name argument instead.\n"
     ]
    },
    {
     "name": "stdout",
     "output_type": "stream",
     "text": [
      "   Drift Rate Speed  Drift Rate Accuracy  Boundary Separation Speed  \\\n",
      "0           0.88189             0.761023                   0.668421   \n",
      "\n",
      "   Boundary Separation Accuracy  Non-decision Time Speed  \\\n",
      "0                      1.031542                 0.213242   \n",
      "\n",
      "   Non-decision Time Accuracy        BIC  \n",
      "0                    0.430559  705.26097  \n",
      "12\n"
     ]
    },
    {
     "name": "stderr",
     "output_type": "stream",
     "text": [
      "Info: Params [1.46049656 0.67863944 0.78090974 1.25203484 0.39203888 0.40103648] gave 729.6957749088704\n",
      "Warning: This function (from_pandas_dataframe()) is deprecated and will be removed in a future version of PyDDM.  Please use the choice_column_name argument instead.\n"
     ]
    },
    {
     "name": "stdout",
     "output_type": "stream",
     "text": [
      "   Drift Rate Speed  Drift Rate Accuracy  Boundary Separation Speed  \\\n",
      "0          1.460497             0.678639                    0.78091   \n",
      "\n",
      "   Boundary Separation Accuracy  Non-decision Time Speed  \\\n",
      "0                      1.252035                 0.392039   \n",
      "\n",
      "   Non-decision Time Accuracy         BIC  \n",
      "0                    0.401036  729.695775  \n",
      "13\n"
     ]
    },
    {
     "name": "stderr",
     "output_type": "stream",
     "text": [
      "Info: Params [0.4948897  0.57592536 0.80146177 1.00968384 0.37967864 0.44914356] gave 977.5882670269809\n",
      "Warning: This function (from_pandas_dataframe()) is deprecated and will be removed in a future version of PyDDM.  Please use the choice_column_name argument instead.\n"
     ]
    },
    {
     "name": "stdout",
     "output_type": "stream",
     "text": [
      "   Drift Rate Speed  Drift Rate Accuracy  Boundary Separation Speed  \\\n",
      "0           0.49489             0.575925                   0.801462   \n",
      "\n",
      "   Boundary Separation Accuracy  Non-decision Time Speed  \\\n",
      "0                      1.009684                 0.379679   \n",
      "\n",
      "   Non-decision Time Accuracy         BIC  \n",
      "0                    0.449144  977.588267  \n",
      "14\n"
     ]
    },
    {
     "name": "stderr",
     "output_type": "stream",
     "text": [
      "Info: Params [0.84601887 0.47795311 0.6315759  1.12498177 0.28705791 0.25101688] gave 887.3581472420911\n",
      "Warning: This function (from_pandas_dataframe()) is deprecated and will be removed in a future version of PyDDM.  Please use the choice_column_name argument instead.\n"
     ]
    },
    {
     "name": "stdout",
     "output_type": "stream",
     "text": [
      "   Drift Rate Speed  Drift Rate Accuracy  Boundary Separation Speed  \\\n",
      "0          0.846019             0.477953                   0.631576   \n",
      "\n",
      "   Boundary Separation Accuracy  Non-decision Time Speed  \\\n",
      "0                      1.124982                 0.287058   \n",
      "\n",
      "   Non-decision Time Accuracy         BIC  \n",
      "0                    0.251017  887.358147  \n",
      "15\n"
     ]
    },
    {
     "name": "stderr",
     "output_type": "stream",
     "text": [
      "Info: Params [1.41453979 0.86543829 0.67794172 1.17596191 0.39412712 0.44504675] gave 613.2695143364556\n",
      "Warning: This function (from_pandas_dataframe()) is deprecated and will be removed in a future version of PyDDM.  Please use the choice_column_name argument instead.\n"
     ]
    },
    {
     "name": "stdout",
     "output_type": "stream",
     "text": [
      "   Drift Rate Speed  Drift Rate Accuracy  Boundary Separation Speed  \\\n",
      "0           1.41454             0.865438                   0.677942   \n",
      "\n",
      "   Boundary Separation Accuracy  Non-decision Time Speed  \\\n",
      "0                      1.175962                 0.394127   \n",
      "\n",
      "   Non-decision Time Accuracy         BIC  \n",
      "0                    0.445047  613.269514  \n",
      "16\n"
     ]
    },
    {
     "name": "stderr",
     "output_type": "stream",
     "text": [
      "Info: Params [1.52037514 0.83127449 0.7820881  1.16007762 0.36376697 0.31315554] gave 658.911296294173\n",
      "Warning: This function (from_pandas_dataframe()) is deprecated and will be removed in a future version of PyDDM.  Please use the choice_column_name argument instead.\n"
     ]
    },
    {
     "name": "stdout",
     "output_type": "stream",
     "text": [
      "   Drift Rate Speed  Drift Rate Accuracy  Boundary Separation Speed  \\\n",
      "0          1.520375             0.831274                   0.782088   \n",
      "\n",
      "   Boundary Separation Accuracy  Non-decision Time Speed  \\\n",
      "0                      1.160078                 0.363767   \n",
      "\n",
      "   Non-decision Time Accuracy         BIC  \n",
      "0                    0.313156  658.911296  \n",
      "17\n"
     ]
    },
    {
     "name": "stderr",
     "output_type": "stream",
     "text": [
      "Info: Params [1.17529286 0.5836401  0.58774453 0.88544814 0.37804655 0.41153124] gave 524.7227452864078\n",
      "Warning: This function (from_pandas_dataframe()) is deprecated and will be removed in a future version of PyDDM.  Please use the choice_column_name argument instead.\n"
     ]
    },
    {
     "name": "stdout",
     "output_type": "stream",
     "text": [
      "   Drift Rate Speed  Drift Rate Accuracy  Boundary Separation Speed  \\\n",
      "0          1.175293              0.58364                   0.587745   \n",
      "\n",
      "   Boundary Separation Accuracy  Non-decision Time Speed  \\\n",
      "0                      0.885448                 0.378047   \n",
      "\n",
      "   Non-decision Time Accuracy         BIC  \n",
      "0                    0.411531  524.722745  \n",
      "18\n"
     ]
    },
    {
     "name": "stderr",
     "output_type": "stream",
     "text": [
      "Info: Params [1.0481702  0.75683374 0.70270499 0.98344422 0.33841376 0.27060576] gave 626.6025559589315\n",
      "Warning: This function (from_pandas_dataframe()) is deprecated and will be removed in a future version of PyDDM.  Please use the choice_column_name argument instead.\n"
     ]
    },
    {
     "name": "stdout",
     "output_type": "stream",
     "text": [
      "   Drift Rate Speed  Drift Rate Accuracy  Boundary Separation Speed  \\\n",
      "0           1.04817             0.756834                   0.702705   \n",
      "\n",
      "   Boundary Separation Accuracy  Non-decision Time Speed  \\\n",
      "0                      0.983444                 0.338414   \n",
      "\n",
      "   Non-decision Time Accuracy         BIC  \n",
      "0                    0.270606  626.602556  \n",
      "19\n"
     ]
    },
    {
     "name": "stderr",
     "output_type": "stream",
     "text": [
      "Info: Params [0.48106513 0.40732825 1.09722548 1.34859117 0.15513383 0.21258931] gave 1298.783811161171\n",
      "Warning: This function (from_pandas_dataframe()) is deprecated and will be removed in a future version of PyDDM.  Please use the choice_column_name argument instead.\n"
     ]
    },
    {
     "name": "stdout",
     "output_type": "stream",
     "text": [
      "   Drift Rate Speed  Drift Rate Accuracy  Boundary Separation Speed  \\\n",
      "0          0.481065             0.407328                   1.097225   \n",
      "\n",
      "   Boundary Separation Accuracy  Non-decision Time Speed  \\\n",
      "0                      1.348591                 0.155134   \n",
      "\n",
      "   Non-decision Time Accuracy          BIC  \n",
      "0                    0.212589  1298.783811  \n",
      "20\n"
     ]
    },
    {
     "name": "stderr",
     "output_type": "stream",
     "text": [
      "Info: Params [2.2907564  1.16575839 0.57378    0.9501966  0.32530385 0.3973057 ] gave 126.98669867658128\n",
      "Warning: This function (from_pandas_dataframe()) is deprecated and will be removed in a future version of PyDDM.  Please use the choice_column_name argument instead.\n"
     ]
    },
    {
     "name": "stdout",
     "output_type": "stream",
     "text": [
      "   Drift Rate Speed  Drift Rate Accuracy  Boundary Separation Speed  \\\n",
      "0          2.290756             1.165758                    0.57378   \n",
      "\n",
      "   Boundary Separation Accuracy  Non-decision Time Speed  \\\n",
      "0                      0.950197                 0.325304   \n",
      "\n",
      "   Non-decision Time Accuracy         BIC  \n",
      "0                    0.397306  126.986699  \n",
      "21\n"
     ]
    },
    {
     "name": "stderr",
     "output_type": "stream",
     "text": [
      "Info: Params [1.90312923 1.12624416 0.76306325 1.04687059 0.34776503 0.43897685] gave 357.9313154245652\n",
      "Warning: This function (from_pandas_dataframe()) is deprecated and will be removed in a future version of PyDDM.  Please use the choice_column_name argument instead.\n"
     ]
    },
    {
     "name": "stdout",
     "output_type": "stream",
     "text": [
      "   Drift Rate Speed  Drift Rate Accuracy  Boundary Separation Speed  \\\n",
      "0          1.903129             1.126244                   0.763063   \n",
      "\n",
      "   Boundary Separation Accuracy  Non-decision Time Speed  \\\n",
      "0                      1.046871                 0.347765   \n",
      "\n",
      "   Non-decision Time Accuracy         BIC  \n",
      "0                    0.438977  357.931315  \n",
      "22\n"
     ]
    },
    {
     "name": "stderr",
     "output_type": "stream",
     "text": [
      "Info: Params [1.01413662 0.67046837 0.72747893 0.98940524 0.35285052 0.46893123] gave 748.8255699612162\n",
      "Warning: This function (from_pandas_dataframe()) is deprecated and will be removed in a future version of PyDDM.  Please use the choice_column_name argument instead.\n"
     ]
    },
    {
     "name": "stdout",
     "output_type": "stream",
     "text": [
      "   Drift Rate Speed  Drift Rate Accuracy  Boundary Separation Speed  \\\n",
      "0          1.014137             0.670468                   0.727479   \n",
      "\n",
      "   Boundary Separation Accuracy  Non-decision Time Speed  \\\n",
      "0                      0.989405                 0.352851   \n",
      "\n",
      "   Non-decision Time Accuracy        BIC  \n",
      "0                    0.468931  748.82557  \n",
      "23\n"
     ]
    },
    {
     "name": "stderr",
     "output_type": "stream",
     "text": [
      "Info: Params [1.06471411 0.5345327  0.79281898 1.33318803 0.46251886 0.50992378] gave 892.7701409485543\n",
      "Warning: This function (from_pandas_dataframe()) is deprecated and will be removed in a future version of PyDDM.  Please use the choice_column_name argument instead.\n"
     ]
    },
    {
     "name": "stdout",
     "output_type": "stream",
     "text": [
      "   Drift Rate Speed  Drift Rate Accuracy  Boundary Separation Speed  \\\n",
      "0          1.064714             0.534533                   0.792819   \n",
      "\n",
      "   Boundary Separation Accuracy  Non-decision Time Speed  \\\n",
      "0                      1.333188                 0.462519   \n",
      "\n",
      "   Non-decision Time Accuracy         BIC  \n",
      "0                    0.509924  892.770141  \n",
      "24\n"
     ]
    },
    {
     "name": "stderr",
     "output_type": "stream",
     "text": [
      "Info: Params [0.88541698 0.9713362  0.89943279 0.96564165 0.27383928 0.46938737] gave 755.198040839233\n",
      "Warning: This function (from_pandas_dataframe()) is deprecated and will be removed in a future version of PyDDM.  Please use the choice_column_name argument instead.\n"
     ]
    },
    {
     "name": "stdout",
     "output_type": "stream",
     "text": [
      "   Drift Rate Speed  Drift Rate Accuracy  Boundary Separation Speed  \\\n",
      "0          0.885417             0.971336                   0.899433   \n",
      "\n",
      "   Boundary Separation Accuracy  Non-decision Time Speed  \\\n",
      "0                      0.965642                 0.273839   \n",
      "\n",
      "   Non-decision Time Accuracy         BIC  \n",
      "0                    0.469387  755.198041  \n",
      "25\n"
     ]
    },
    {
     "name": "stderr",
     "output_type": "stream",
     "text": [
      "Info: Params [2.15191736 1.14512281 0.64987915 1.04031089 0.47912026 0.51391762] gave 230.7286795139193\n",
      "Warning: This function (from_pandas_dataframe()) is deprecated and will be removed in a future version of PyDDM.  Please use the choice_column_name argument instead.\n"
     ]
    },
    {
     "name": "stdout",
     "output_type": "stream",
     "text": [
      "   Drift Rate Speed  Drift Rate Accuracy  Boundary Separation Speed  \\\n",
      "0          2.151917             1.145123                   0.649879   \n",
      "\n",
      "   Boundary Separation Accuracy  Non-decision Time Speed  \\\n",
      "0                      1.040311                  0.47912   \n",
      "\n",
      "   Non-decision Time Accuracy        BIC  \n",
      "0                    0.513918  230.72868  \n",
      "26\n"
     ]
    },
    {
     "name": "stderr",
     "output_type": "stream",
     "text": [
      "Info: Params [0.9362243  0.89956972 0.5        1.0111933  0.33121695 0.57679785] gave 322.55986788456244\n",
      "Warning: This function (from_pandas_dataframe()) is deprecated and will be removed in a future version of PyDDM.  Please use the choice_column_name argument instead.\n"
     ]
    },
    {
     "name": "stdout",
     "output_type": "stream",
     "text": [
      "   Drift Rate Speed  Drift Rate Accuracy  Boundary Separation Speed  \\\n",
      "0          0.936224              0.89957                        0.5   \n",
      "\n",
      "   Boundary Separation Accuracy  Non-decision Time Speed  \\\n",
      "0                      1.011193                 0.331217   \n",
      "\n",
      "   Non-decision Time Accuracy         BIC  \n",
      "0                    0.576798  322.559868  \n",
      "27\n"
     ]
    },
    {
     "name": "stderr",
     "output_type": "stream",
     "text": [
      "Info: Params [1.75097471 1.22412398 0.54431754 0.81660443 0.44109202 0.5478395 ] gave 136.87016772999664\n",
      "Warning: This function (from_pandas_dataframe()) is deprecated and will be removed in a future version of PyDDM.  Please use the choice_column_name argument instead.\n"
     ]
    },
    {
     "name": "stdout",
     "output_type": "stream",
     "text": [
      "   Drift Rate Speed  Drift Rate Accuracy  Boundary Separation Speed  \\\n",
      "0          1.750975             1.224124                   0.544318   \n",
      "\n",
      "   Boundary Separation Accuracy  Non-decision Time Speed  \\\n",
      "0                      0.816604                 0.441092   \n",
      "\n",
      "   Non-decision Time Accuracy         BIC  \n",
      "0                     0.54784  136.870168  \n",
      "28\n"
     ]
    },
    {
     "name": "stderr",
     "output_type": "stream",
     "text": [
      "Info: Params [1.58274997 1.81298095 0.5536963  0.73424659 0.3124482  0.48240047] gave -84.36341347635037\n",
      "Warning: This function (from_pandas_dataframe()) is deprecated and will be removed in a future version of PyDDM.  Please use the choice_column_name argument instead.\n"
     ]
    },
    {
     "name": "stdout",
     "output_type": "stream",
     "text": [
      "   Drift Rate Speed  Drift Rate Accuracy  Boundary Separation Speed  \\\n",
      "0           1.58275             1.812981                   0.553696   \n",
      "\n",
      "   Boundary Separation Accuracy  Non-decision Time Speed  \\\n",
      "0                      0.734247                 0.312448   \n",
      "\n",
      "   Non-decision Time Accuracy        BIC  \n",
      "0                      0.4824 -84.363413  \n",
      "29\n"
     ]
    },
    {
     "name": "stderr",
     "output_type": "stream",
     "text": [
      "Info: Params [0.80469256 0.53785138 0.79671503 1.18010362 0.4969802  0.68323619] gave 1002.551749018311\n",
      "Warning: This function (from_pandas_dataframe()) is deprecated and will be removed in a future version of PyDDM.  Please use the choice_column_name argument instead.\n"
     ]
    },
    {
     "name": "stdout",
     "output_type": "stream",
     "text": [
      "   Drift Rate Speed  Drift Rate Accuracy  Boundary Separation Speed  \\\n",
      "0          0.804693             0.537851                   0.796715   \n",
      "\n",
      "   Boundary Separation Accuracy  Non-decision Time Speed  \\\n",
      "0                      1.180104                  0.49698   \n",
      "\n",
      "   Non-decision Time Accuracy          BIC  \n",
      "0                    0.683236  1002.551749  \n",
      "30\n"
     ]
    },
    {
     "name": "stderr",
     "output_type": "stream",
     "text": [
      "Info: Params [1.23404269 1.32831681 0.62839377 0.71667915 0.29067667 0.4156215 ] gave 219.7691023310167\n",
      "Warning: This function (from_pandas_dataframe()) is deprecated and will be removed in a future version of PyDDM.  Please use the choice_column_name argument instead.\n"
     ]
    },
    {
     "name": "stdout",
     "output_type": "stream",
     "text": [
      "   Drift Rate Speed  Drift Rate Accuracy  Boundary Separation Speed  \\\n",
      "0          1.234043             1.328317                   0.628394   \n",
      "\n",
      "   Boundary Separation Accuracy  Non-decision Time Speed  \\\n",
      "0                      0.716679                 0.290677   \n",
      "\n",
      "   Non-decision Time Accuracy         BIC  \n",
      "0                    0.415621  219.769102  \n",
      "31\n"
     ]
    },
    {
     "name": "stderr",
     "output_type": "stream",
     "text": [
      "Info: Params [1.36146744 1.2749661  0.90089109 1.1215566  0.36267092 0.36197913] gave 553.4252811596768\n",
      "Warning: This function (from_pandas_dataframe()) is deprecated and will be removed in a future version of PyDDM.  Please use the choice_column_name argument instead.\n"
     ]
    },
    {
     "name": "stdout",
     "output_type": "stream",
     "text": [
      "   Drift Rate Speed  Drift Rate Accuracy  Boundary Separation Speed  \\\n",
      "0          1.361467             1.274966                   0.900891   \n",
      "\n",
      "   Boundary Separation Accuracy  Non-decision Time Speed  \\\n",
      "0                      1.121557                 0.362671   \n",
      "\n",
      "   Non-decision Time Accuracy         BIC  \n",
      "0                    0.361979  553.425281  \n",
      "32\n"
     ]
    },
    {
     "name": "stderr",
     "output_type": "stream",
     "text": [
      "Info: Params [1.63461087 1.31172659 0.65622492 0.97629946 0.35467638 0.45038814] gave 279.20276848975425\n",
      "Warning: This function (from_pandas_dataframe()) is deprecated and will be removed in a future version of PyDDM.  Please use the choice_column_name argument instead.\n"
     ]
    },
    {
     "name": "stdout",
     "output_type": "stream",
     "text": [
      "   Drift Rate Speed  Drift Rate Accuracy  Boundary Separation Speed  \\\n",
      "0          1.634611             1.311727                   0.656225   \n",
      "\n",
      "   Boundary Separation Accuracy  Non-decision Time Speed  \\\n",
      "0                      0.976299                 0.354676   \n",
      "\n",
      "   Non-decision Time Accuracy         BIC  \n",
      "0                    0.450388  279.202768  \n",
      "33\n"
     ]
    },
    {
     "name": "stderr",
     "output_type": "stream",
     "text": [
      "Info: Params [0.48083803 1.35865478 0.5868117  0.92485584 0.17333013 0.51589818] gave 382.6713655461594\n",
      "Warning: This function (from_pandas_dataframe()) is deprecated and will be removed in a future version of PyDDM.  Please use the choice_column_name argument instead.\n"
     ]
    },
    {
     "name": "stdout",
     "output_type": "stream",
     "text": [
      "   Drift Rate Speed  Drift Rate Accuracy  Boundary Separation Speed  \\\n",
      "0          0.480838             1.358655                   0.586812   \n",
      "\n",
      "   Boundary Separation Accuracy  Non-decision Time Speed  \\\n",
      "0                      0.924856                  0.17333   \n",
      "\n",
      "   Non-decision Time Accuracy         BIC  \n",
      "0                    0.515898  382.671366  \n",
      "34\n"
     ]
    },
    {
     "name": "stderr",
     "output_type": "stream",
     "text": [
      "Info: Params [1.43523848 1.62201124 0.5        0.72804999 0.30492137 0.34553649] gave -84.102928987842\n",
      "Warning: This function (from_pandas_dataframe()) is deprecated and will be removed in a future version of PyDDM.  Please use the choice_column_name argument instead.\n"
     ]
    },
    {
     "name": "stdout",
     "output_type": "stream",
     "text": [
      "   Drift Rate Speed  Drift Rate Accuracy  Boundary Separation Speed  \\\n",
      "0          1.435238             1.622011                        0.5   \n",
      "\n",
      "   Boundary Separation Accuracy  Non-decision Time Speed  \\\n",
      "0                       0.72805                 0.304921   \n",
      "\n",
      "   Non-decision Time Accuracy        BIC  \n",
      "0                    0.345536 -84.102929  \n",
      "35\n"
     ]
    },
    {
     "name": "stderr",
     "output_type": "stream",
     "text": [
      "Info: Params [1.80956304 0.91886455 0.5        0.8242305  0.40354585 0.51237077] gave 144.55547034112203\n",
      "Warning: This function (from_pandas_dataframe()) is deprecated and will be removed in a future version of PyDDM.  Please use the choice_column_name argument instead.\n"
     ]
    },
    {
     "name": "stdout",
     "output_type": "stream",
     "text": [
      "   Drift Rate Speed  Drift Rate Accuracy  Boundary Separation Speed  \\\n",
      "0          1.809563             0.918865                        0.5   \n",
      "\n",
      "   Boundary Separation Accuracy  Non-decision Time Speed  \\\n",
      "0                       0.82423                 0.403546   \n",
      "\n",
      "   Non-decision Time Accuracy        BIC  \n",
      "0                    0.512371  144.55547  \n",
      "36\n"
     ]
    },
    {
     "name": "stderr",
     "output_type": "stream",
     "text": [
      "Info: Params [0.99646583 1.20663199 0.75514145 1.02327949 0.29100537 0.36589319] gave 566.4183236747118\n",
      "Warning: This function (from_pandas_dataframe()) is deprecated and will be removed in a future version of PyDDM.  Please use the choice_column_name argument instead.\n"
     ]
    },
    {
     "name": "stdout",
     "output_type": "stream",
     "text": [
      "   Drift Rate Speed  Drift Rate Accuracy  Boundary Separation Speed  \\\n",
      "0          0.996466             1.206632                   0.755141   \n",
      "\n",
      "   Boundary Separation Accuracy  Non-decision Time Speed  \\\n",
      "0                      1.023279                 0.291005   \n",
      "\n",
      "   Non-decision Time Accuracy         BIC  \n",
      "0                    0.365893  566.418324  \n",
      "37\n"
     ]
    },
    {
     "name": "stderr",
     "output_type": "stream",
     "text": [
      "Info: Params [1.67743846 1.67594764 0.522055   0.77308509 0.28477262 0.41490421] gave -67.06702637252997\n",
      "Warning: This function (from_pandas_dataframe()) is deprecated and will be removed in a future version of PyDDM.  Please use the choice_column_name argument instead.\n"
     ]
    },
    {
     "name": "stdout",
     "output_type": "stream",
     "text": [
      "   Drift Rate Speed  Drift Rate Accuracy  Boundary Separation Speed  \\\n",
      "0          1.677438             1.675948                   0.522055   \n",
      "\n",
      "   Boundary Separation Accuracy  Non-decision Time Speed  \\\n",
      "0                      0.773085                 0.284773   \n",
      "\n",
      "   Non-decision Time Accuracy        BIC  \n",
      "0                    0.414904 -67.067026  \n",
      "38\n"
     ]
    },
    {
     "name": "stderr",
     "output_type": "stream",
     "text": [
      "Info: Params [1.95424846 1.76165916 0.62345631 0.81375143 0.28201091 0.4682895 ] gave -53.45265072558999\n",
      "Warning: This function (from_pandas_dataframe()) is deprecated and will be removed in a future version of PyDDM.  Please use the choice_column_name argument instead.\n"
     ]
    },
    {
     "name": "stdout",
     "output_type": "stream",
     "text": [
      "   Drift Rate Speed  Drift Rate Accuracy  Boundary Separation Speed  \\\n",
      "0          1.954248             1.761659                   0.623456   \n",
      "\n",
      "   Boundary Separation Accuracy  Non-decision Time Speed  \\\n",
      "0                      0.813751                 0.282011   \n",
      "\n",
      "   Non-decision Time Accuracy        BIC  \n",
      "0                    0.468289 -53.452651  \n",
      "39\n"
     ]
    },
    {
     "name": "stderr",
     "output_type": "stream",
     "text": [
      "Info: Params [0.87815738 0.67397612 0.63890441 1.67813866 0.3433946  0.32452703] gave 675.9206900880572\n",
      "Warning: This function (from_pandas_dataframe()) is deprecated and will be removed in a future version of PyDDM.  Please use the choice_column_name argument instead.\n"
     ]
    },
    {
     "name": "stdout",
     "output_type": "stream",
     "text": [
      "   Drift Rate Speed  Drift Rate Accuracy  Boundary Separation Speed  \\\n",
      "0          0.878157             0.673976                   0.638904   \n",
      "\n",
      "   Boundary Separation Accuracy  Non-decision Time Speed  \\\n",
      "0                      1.678139                 0.343395   \n",
      "\n",
      "   Non-decision Time Accuracy        BIC  \n",
      "0                    0.324527  675.92069  \n",
      "40\n"
     ]
    },
    {
     "name": "stderr",
     "output_type": "stream",
     "text": [
      "Info: Params [2.31390856 1.01900043 0.81205186 1.09027595 0.30858504 0.49464805] gave 343.9461347739996\n",
      "Warning: This function (from_pandas_dataframe()) is deprecated and will be removed in a future version of PyDDM.  Please use the choice_column_name argument instead.\n"
     ]
    },
    {
     "name": "stdout",
     "output_type": "stream",
     "text": [
      "   Drift Rate Speed  Drift Rate Accuracy  Boundary Separation Speed  \\\n",
      "0          2.313909                1.019                   0.812052   \n",
      "\n",
      "   Boundary Separation Accuracy  Non-decision Time Speed  \\\n",
      "0                      1.090276                 0.308585   \n",
      "\n",
      "   Non-decision Time Accuracy         BIC  \n",
      "0                    0.494648  343.946135  \n",
      "41\n"
     ]
    },
    {
     "name": "stderr",
     "output_type": "stream",
     "text": [
      "Info: Params [1.59044167 1.01036281 0.59624074 1.07341911 0.32893616 0.34778411] gave 381.23213088397466\n",
      "Warning: This function (from_pandas_dataframe()) is deprecated and will be removed in a future version of PyDDM.  Please use the choice_column_name argument instead.\n"
     ]
    },
    {
     "name": "stdout",
     "output_type": "stream",
     "text": [
      "   Drift Rate Speed  Drift Rate Accuracy  Boundary Separation Speed  \\\n",
      "0          1.590442             1.010363                   0.596241   \n",
      "\n",
      "   Boundary Separation Accuracy  Non-decision Time Speed  \\\n",
      "0                      1.073419                 0.328936   \n",
      "\n",
      "   Non-decision Time Accuracy         BIC  \n",
      "0                    0.347784  381.232131  \n",
      "42\n"
     ]
    },
    {
     "name": "stderr",
     "output_type": "stream",
     "text": [
      "Info: Params [1.22986303 0.79340651 0.67179235 0.93336379 0.34805497 0.38898404] gave 536.7158915744074\n",
      "Warning: This function (from_pandas_dataframe()) is deprecated and will be removed in a future version of PyDDM.  Please use the choice_column_name argument instead.\n"
     ]
    },
    {
     "name": "stdout",
     "output_type": "stream",
     "text": [
      "   Drift Rate Speed  Drift Rate Accuracy  Boundary Separation Speed  \\\n",
      "0          1.229863             0.793407                   0.671792   \n",
      "\n",
      "   Boundary Separation Accuracy  Non-decision Time Speed  \\\n",
      "0                      0.933364                 0.348055   \n",
      "\n",
      "   Non-decision Time Accuracy         BIC  \n",
      "0                    0.388984  536.715892  \n",
      "43\n"
     ]
    },
    {
     "name": "stderr",
     "output_type": "stream",
     "text": [
      "Info: Params [0.70496642 0.54473594 0.70574974 1.32048738 0.31934755 0.13684328] gave 943.8476595100685\n",
      "Warning: This function (from_pandas_dataframe()) is deprecated and will be removed in a future version of PyDDM.  Please use the choice_column_name argument instead.\n"
     ]
    },
    {
     "name": "stdout",
     "output_type": "stream",
     "text": [
      "   Drift Rate Speed  Drift Rate Accuracy  Boundary Separation Speed  \\\n",
      "0          0.704966             0.544736                    0.70575   \n",
      "\n",
      "   Boundary Separation Accuracy  Non-decision Time Speed  \\\n",
      "0                      1.320487                 0.319348   \n",
      "\n",
      "   Non-decision Time Accuracy        BIC  \n",
      "0                    0.136843  943.84766  \n",
      "44\n"
     ]
    },
    {
     "name": "stderr",
     "output_type": "stream",
     "text": [
      "Info: Params [1.93007348 1.07054115 0.68258453 0.94076323 0.36210145 0.36848353] gave 319.14976758128694\n",
      "Warning: This function (from_pandas_dataframe()) is deprecated and will be removed in a future version of PyDDM.  Please use the choice_column_name argument instead.\n"
     ]
    },
    {
     "name": "stdout",
     "output_type": "stream",
     "text": [
      "   Drift Rate Speed  Drift Rate Accuracy  Boundary Separation Speed  \\\n",
      "0          1.930073             1.070541                   0.682585   \n",
      "\n",
      "   Boundary Separation Accuracy  Non-decision Time Speed  \\\n",
      "0                      0.940763                 0.362101   \n",
      "\n",
      "   Non-decision Time Accuracy         BIC  \n",
      "0                    0.368484  319.149768  \n",
      "45\n"
     ]
    },
    {
     "name": "stderr",
     "output_type": "stream",
     "text": [
      "Info: Params [1.23384716 1.23455507 0.68675021 0.86464024 0.36888718 0.41374242] gave 384.02404520853105\n",
      "Warning: This function (from_pandas_dataframe()) is deprecated and will be removed in a future version of PyDDM.  Please use the choice_column_name argument instead.\n"
     ]
    },
    {
     "name": "stdout",
     "output_type": "stream",
     "text": [
      "   Drift Rate Speed  Drift Rate Accuracy  Boundary Separation Speed  \\\n",
      "0          1.233847             1.234555                    0.68675   \n",
      "\n",
      "   Boundary Separation Accuracy  Non-decision Time Speed  \\\n",
      "0                       0.86464                 0.368887   \n",
      "\n",
      "   Non-decision Time Accuracy         BIC  \n",
      "0                    0.413742  384.024045  \n",
      "46\n"
     ]
    },
    {
     "name": "stderr",
     "output_type": "stream",
     "text": [
      "Info: Params [1.67711493 0.87549439 0.72725529 1.45385364 0.29033061 0.45298764] gave 599.3319573127638\n"
     ]
    },
    {
     "name": "stdout",
     "output_type": "stream",
     "text": [
      "   Drift Rate Speed  Drift Rate Accuracy  Boundary Separation Speed  \\\n",
      "0          1.677115             0.875494                   0.727255   \n",
      "\n",
      "   Boundary Separation Accuracy  Non-decision Time Speed  \\\n",
      "0                      1.453854                 0.290331   \n",
      "\n",
      "   Non-decision Time Accuracy         BIC  \n",
      "0                    0.452988  599.331957  \n"
     ]
    }
   ],
   "source": [
    "df_all = pd.DataFrame()\n",
    "for i in range(sample_size):\n",
    "    print(i)\n",
    "    path = os.path.join(data_dir+str(i+1)+\".csv\")\n",
    "    df = pd.read_csv(path, sep = \",\")\n",
    "    #df = df[df[\"cond\"]==SAT] # A condition\n",
    "    df = df[df[\"Time\"]<5]\n",
    "\n",
    "    samp = Sample.from_pandas_dataframe(df, rt_column_name=\"Time\", correct_column_name=\"Correct\")\n",
    "    df = get_DDM_result_sub_2v2a2ter(samp)\n",
    "    df_all = pd.concat((df_all,df))\n",
    "    print(df)\n",
    "df_OUM = df_all.copy()\n"
   ]
  },
  {
   "cell_type": "code",
   "execution_count": 7,
   "id": "3b05a53a",
   "metadata": {},
   "outputs": [],
   "source": [
    "df_OUM.to_csv(\"DDM2v2a2terresultEvans2017.csv\")"
   ]
  },
  {
   "cell_type": "code",
   "execution_count": 8,
   "id": "87e8797e",
   "metadata": {},
   "outputs": [
    {
     "data": {
      "text/plain": [
       "473.72278027229856"
      ]
     },
     "execution_count": 8,
     "metadata": {},
     "output_type": "execute_result"
    }
   ],
   "source": [
    "df_OUM[\"BIC\"].mean()"
   ]
  },
  {
   "cell_type": "code",
   "execution_count": null,
   "id": "c5baddcf",
   "metadata": {},
   "outputs": [],
   "source": []
  }
 ],
 "metadata": {
  "kernelspec": {
   "display_name": "Python 3 (ipykernel)",
   "language": "python",
   "name": "python3"
  },
  "language_info": {
   "codemirror_mode": {
    "name": "ipython",
    "version": 3
   },
   "file_extension": ".py",
   "mimetype": "text/x-python",
   "name": "python",
   "nbconvert_exporter": "python",
   "pygments_lexer": "ipython3",
   "version": "3.11.4"
  }
 },
 "nbformat": 4,
 "nbformat_minor": 5
}
