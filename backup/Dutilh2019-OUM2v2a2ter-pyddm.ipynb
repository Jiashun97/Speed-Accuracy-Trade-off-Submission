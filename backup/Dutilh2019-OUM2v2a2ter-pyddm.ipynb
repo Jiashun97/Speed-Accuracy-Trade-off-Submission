{
 "cells": [
  {
   "cell_type": "code",
   "execution_count": 2,
   "id": "2cda49de",
   "metadata": {},
   "outputs": [],
   "source": [
    "%run SAT_help_functions.ipynb"
   ]
  },
  {
   "cell_type": "code",
   "execution_count": null,
   "id": "bc081cf9",
   "metadata": {},
   "outputs": [],
   "source": []
  },
  {
   "cell_type": "markdown",
   "id": "4bd26666",
   "metadata": {},
   "source": [
    "## OUM"
   ]
  },
  {
   "cell_type": "code",
   "execution_count": null,
   "id": "9ef6c434",
   "metadata": {},
   "outputs": [],
   "source": []
  },
  {
   "cell_type": "code",
   "execution_count": 3,
   "id": "e776257c",
   "metadata": {},
   "outputs": [],
   "source": [
    "sample_size = 20\n",
    "data_dir = '/Users/wangjiashun/Desktop/Reserach on SAT/datasets/Dutilh2019/validation_text_data/exp_4/pp'\n",
    "SAT_conds = [\"A\", \"B\"]"
   ]
  },
  {
   "cell_type": "code",
   "execution_count": null,
   "id": "158a78fd",
   "metadata": {},
   "outputs": [],
   "source": []
  },
  {
   "cell_type": "code",
   "execution_count": 4,
   "id": "f434220f",
   "metadata": {},
   "outputs": [],
   "source": [
    "class BoundSpeedAcc(Bound):\n",
    "    name = \"BoundSpeedAcc\"\n",
    "    required_parameters = [\"Bspeed\", \"Bacc\"]\n",
    "    required_conditions = ['cond']\n",
    "    def get_bound(self, conditions, *args, **kwargs):\n",
    "        assert self.Bacc > 0\n",
    "        assert self.Bspeed > 0\n",
    "        if conditions['cond'] == 'A':\n",
    "            return self.Bspeed\n",
    "        elif conditions['cond'] == 'B':\n",
    "            return self.Bacc\n",
    "        else:\n",
    "            print(\"Non-implemented SAT conditions\")"
   ]
  },
  {
   "cell_type": "code",
   "execution_count": 5,
   "id": "bbb278a6",
   "metadata": {},
   "outputs": [],
   "source": [
    "\n",
    "class DriftConstantSpeedAcc(Drift):\n",
    "    name = \"DriftBothSpeedAcc\"\n",
    "    required_parameters = [\"Vspeed\",\"Vacc\", \"K\"]\n",
    "    required_conditions = ['cond']\n",
    "        \n",
    "    def get_drift(self, x, t, conditions, **kwargs):\n",
    "        if conditions['cond'] == 'A':\n",
    "            return self.Vspeed + x*self.K \n",
    "        elif conditions['cond'] == 'B':\n",
    "            return self.Vacc + x*self.K\n",
    "        else: \n",
    "            print(\"Non-implemented SAT conditions\")"
   ]
  },
  {
   "cell_type": "code",
   "execution_count": 6,
   "id": "6e5e0074",
   "metadata": {},
   "outputs": [],
   "source": [
    "\n",
    "class NondecisionSpeedAcc(OverlayNonDecision):\n",
    "    name = \"DriftSpeedAcc\"\n",
    "    required_parameters = [\"tSpeed\", 'tAcc']\n",
    "    required_conditions = ['cond']\n",
    "        \n",
    "    def get_nondecision_time(self, conditions, **kwargs):\n",
    "        if conditions['cond'] == 'A':\n",
    "            return self.tSpeed \n",
    "        elif conditions['cond'] == 'B':\n",
    "            return self.tAcc\n",
    "        else: \n",
    "            print(\"Non-implemented SAT conditions\")"
   ]
  },
  {
   "cell_type": "code",
   "execution_count": null,
   "id": "b1e0fe9b",
   "metadata": {},
   "outputs": [],
   "source": []
  },
  {
   "cell_type": "code",
   "execution_count": null,
   "id": "81235d16",
   "metadata": {},
   "outputs": [],
   "source": []
  },
  {
   "cell_type": "code",
   "execution_count": null,
   "id": "8a3f5185",
   "metadata": {},
   "outputs": [],
   "source": []
  },
  {
   "cell_type": "code",
   "execution_count": 7,
   "id": "fdb13001",
   "metadata": {
    "scrolled": true
   },
   "outputs": [
    {
     "name": "stdout",
     "output_type": "stream",
     "text": [
      "0\n"
     ]
    },
    {
     "name": "stderr",
     "output_type": "stream",
     "text": [
      "Info: Params [1.05338058 1.30505804 2.84416909 0.92975678 1.35684082 0.21178743\n",
      " 0.2739532 ] gave 306.32254717456703\n"
     ]
    },
    {
     "name": "stdout",
     "output_type": "stream",
     "text": [
      "   Drift Rate Speed  Drift Rate Accuracy  Self-excitation  \\\n",
      "0          1.053381             1.305058         2.844169   \n",
      "\n",
      "   Boundary Separation Speed  Boundary Separation Accuracy  \\\n",
      "0                   0.929757                      1.356841   \n",
      "\n",
      "   Non-decision Time Speed  Non-decision Time Accuracy         BIC  \n",
      "0                 0.211787                    0.273953  306.322547  \n",
      "1\n"
     ]
    },
    {
     "name": "stderr",
     "output_type": "stream",
     "text": [
      "Info: Params [0.26656552 0.60159716 3.09739669 1.06097671 3.44944714 0.19366103\n",
      " 0.15239945] gave 575.7733456966613\n"
     ]
    },
    {
     "name": "stdout",
     "output_type": "stream",
     "text": [
      "   Drift Rate Speed  Drift Rate Accuracy  Self-excitation  \\\n",
      "0          0.266566             0.601597         3.097397   \n",
      "\n",
      "   Boundary Separation Speed  Boundary Separation Accuracy  \\\n",
      "0                   1.060977                      3.449447   \n",
      "\n",
      "   Non-decision Time Speed  Non-decision Time Accuracy         BIC  \n",
      "0                 0.193661                    0.152399  575.773346  \n",
      "2\n"
     ]
    },
    {
     "name": "stderr",
     "output_type": "stream",
     "text": [
      "Info: Params [1.50957043 1.61419117 3.86878975 0.75138238 1.61914313 0.22912563\n",
      " 0.28702921] gave -16.17834217789838\n"
     ]
    },
    {
     "name": "stdout",
     "output_type": "stream",
     "text": [
      "   Drift Rate Speed  Drift Rate Accuracy  Self-excitation  \\\n",
      "0           1.50957             1.614191          3.86879   \n",
      "\n",
      "   Boundary Separation Speed  Boundary Separation Accuracy  \\\n",
      "0                   0.751382                      1.619143   \n",
      "\n",
      "   Non-decision Time Speed  Non-decision Time Accuracy        BIC  \n",
      "0                 0.229126                    0.287029 -16.178342  \n",
      "3\n"
     ]
    },
    {
     "name": "stderr",
     "output_type": "stream",
     "text": [
      "Info: Params [0.15135657 1.12207336 2.2597022  0.50038226 1.72539519 0.18641103\n",
      " 0.1322119 ] gave 244.5146199834149\n"
     ]
    },
    {
     "name": "stdout",
     "output_type": "stream",
     "text": [
      "   Drift Rate Speed  Drift Rate Accuracy  Self-excitation  \\\n",
      "0          0.151357             1.122073         2.259702   \n",
      "\n",
      "   Boundary Separation Speed  Boundary Separation Accuracy  \\\n",
      "0                   0.500382                      1.725395   \n",
      "\n",
      "   Non-decision Time Speed  Non-decision Time Accuracy        BIC  \n",
      "0                 0.186411                    0.132212  244.51462  \n",
      "4\n"
     ]
    },
    {
     "name": "stderr",
     "output_type": "stream",
     "text": [
      "Info: Params [0.83944424 1.47171377 4.50845319 1.06938325 1.42990057 0.16424936\n",
      " 0.26693632] gave 145.45860074480987\n"
     ]
    },
    {
     "name": "stdout",
     "output_type": "stream",
     "text": [
      "   Drift Rate Speed  Drift Rate Accuracy  Self-excitation  \\\n",
      "0          0.839444             1.471714         4.508453   \n",
      "\n",
      "   Boundary Separation Speed  Boundary Separation Accuracy  \\\n",
      "0                   1.069383                      1.429901   \n",
      "\n",
      "   Non-decision Time Speed  Non-decision Time Accuracy         BIC  \n",
      "0                 0.164249                    0.266936  145.458601  \n",
      "5\n"
     ]
    },
    {
     "name": "stderr",
     "output_type": "stream",
     "text": [
      "Info: Params [1.61595237 1.27496126 3.20374764 0.85303941 1.61074564 0.32158628\n",
      " 0.40819642] gave 95.80716788752791\n"
     ]
    },
    {
     "name": "stdout",
     "output_type": "stream",
     "text": [
      "   Drift Rate Speed  Drift Rate Accuracy  Self-excitation  \\\n",
      "0          1.615952             1.274961         3.203748   \n",
      "\n",
      "   Boundary Separation Speed  Boundary Separation Accuracy  \\\n",
      "0                   0.853039                      1.610746   \n",
      "\n",
      "   Non-decision Time Speed  Non-decision Time Accuracy        BIC  \n",
      "0                 0.321586                    0.408196  95.807168  \n",
      "6\n"
     ]
    },
    {
     "name": "stderr",
     "output_type": "stream",
     "text": [
      "Info: Params [0.89717956 1.62327103 5.2330522  1.31240571 2.2367288  0.17071244\n",
      " 0.20663937] gave 55.3666839735768\n"
     ]
    },
    {
     "name": "stdout",
     "output_type": "stream",
     "text": [
      "   Drift Rate Speed  Drift Rate Accuracy  Self-excitation  \\\n",
      "0           0.89718             1.623271         5.233052   \n",
      "\n",
      "   Boundary Separation Speed  Boundary Separation Accuracy  \\\n",
      "0                   1.312406                      2.236729   \n",
      "\n",
      "   Non-decision Time Speed  Non-decision Time Accuracy        BIC  \n",
      "0                 0.170712                    0.206639  55.366684  \n",
      "7\n"
     ]
    },
    {
     "name": "stderr",
     "output_type": "stream",
     "text": [
      "Info: Params [1.33201635 1.97220552 5.32289704 1.30335006 2.16274205 0.23591974\n",
      " 0.25994257] gave -89.76403062973696\n"
     ]
    },
    {
     "name": "stdout",
     "output_type": "stream",
     "text": [
      "   Drift Rate Speed  Drift Rate Accuracy  Self-excitation  \\\n",
      "0          1.332016             1.972206         5.322897   \n",
      "\n",
      "   Boundary Separation Speed  Boundary Separation Accuracy  \\\n",
      "0                    1.30335                      2.162742   \n",
      "\n",
      "   Non-decision Time Speed  Non-decision Time Accuracy        BIC  \n",
      "0                  0.23592                    0.259943 -89.764031  \n",
      "8\n"
     ]
    },
    {
     "name": "stderr",
     "output_type": "stream",
     "text": [
      "Info: Params [1.19571657 1.59068736 3.23494331 0.60662117 1.18182097 0.34263878\n",
      " 0.30010343] gave 31.11209250718621\n"
     ]
    },
    {
     "name": "stdout",
     "output_type": "stream",
     "text": [
      "   Drift Rate Speed  Drift Rate Accuracy  Self-excitation  \\\n",
      "0          1.195717             1.590687         3.234943   \n",
      "\n",
      "   Boundary Separation Speed  Boundary Separation Accuracy  \\\n",
      "0                   0.606621                      1.181821   \n",
      "\n",
      "   Non-decision Time Speed  Non-decision Time Accuracy        BIC  \n",
      "0                 0.342639                    0.300103  31.112093  \n",
      "9\n"
     ]
    },
    {
     "name": "stderr",
     "output_type": "stream",
     "text": [
      "Info: Params [0.47668345 1.03580971 2.1340301  0.63068254 1.67153272 0.22132355\n",
      " 0.35589693] gave 427.1836104982404\n"
     ]
    },
    {
     "name": "stdout",
     "output_type": "stream",
     "text": [
      "   Drift Rate Speed  Drift Rate Accuracy  Self-excitation  \\\n",
      "0          0.476683              1.03581          2.13403   \n",
      "\n",
      "   Boundary Separation Speed  Boundary Separation Accuracy  \\\n",
      "0                   0.630683                      1.671533   \n",
      "\n",
      "   Non-decision Time Speed  Non-decision Time Accuracy        BIC  \n",
      "0                 0.221324                    0.355897  427.18361  \n",
      "10\n"
     ]
    },
    {
     "name": "stderr",
     "output_type": "stream",
     "text": [
      "Info: Params [1.05516459 1.28449229 2.24532299 0.91905841 2.47400002 0.19162402\n",
      " 0.11863094] gave 408.8175097163578\n"
     ]
    },
    {
     "name": "stdout",
     "output_type": "stream",
     "text": [
      "   Drift Rate Speed  Drift Rate Accuracy  Self-excitation  \\\n",
      "0          1.055165             1.284492         2.245323   \n",
      "\n",
      "   Boundary Separation Speed  Boundary Separation Accuracy  \\\n",
      "0                   0.919058                         2.474   \n",
      "\n",
      "   Non-decision Time Speed  Non-decision Time Accuracy        BIC  \n",
      "0                 0.191624                    0.118631  408.81751  \n",
      "11\n"
     ]
    },
    {
     "name": "stderr",
     "output_type": "stream",
     "text": [
      "Info: Params [1.35396982 1.23947397 4.08903122 0.89307327 1.8485213  0.27757409\n",
      " 0.28180394] gave 135.2573455181062\n"
     ]
    },
    {
     "name": "stdout",
     "output_type": "stream",
     "text": [
      "   Drift Rate Speed  Drift Rate Accuracy  Self-excitation  \\\n",
      "0           1.35397             1.239474         4.089031   \n",
      "\n",
      "   Boundary Separation Speed  Boundary Separation Accuracy  \\\n",
      "0                   0.893073                      1.848521   \n",
      "\n",
      "   Non-decision Time Speed  Non-decision Time Accuracy         BIC  \n",
      "0                 0.277574                    0.281804  135.257346  \n",
      "12\n"
     ]
    },
    {
     "name": "stderr",
     "output_type": "stream",
     "text": [
      "Info: Params [0.81454118 1.60826896 4.98590302 1.05200682 1.09189202 0.181264\n",
      " 0.25620934] gave 24.779102252582526\n"
     ]
    },
    {
     "name": "stdout",
     "output_type": "stream",
     "text": [
      "   Drift Rate Speed  Drift Rate Accuracy  Self-excitation  \\\n",
      "0          0.814541             1.608269         4.985903   \n",
      "\n",
      "   Boundary Separation Speed  Boundary Separation Accuracy  \\\n",
      "0                   1.052007                      1.091892   \n",
      "\n",
      "   Non-decision Time Speed  Non-decision Time Accuracy        BIC  \n",
      "0                 0.181264                    0.256209  24.779102  \n",
      "13\n"
     ]
    },
    {
     "name": "stderr",
     "output_type": "stream",
     "text": [
      "Info: Params [1.12790032 1.3222096  3.31544201 0.83527607 2.55076826 0.19129118\n",
      " 0.12438577] gave 227.53676746285333\n"
     ]
    },
    {
     "name": "stdout",
     "output_type": "stream",
     "text": [
      "   Drift Rate Speed  Drift Rate Accuracy  Self-excitation  \\\n",
      "0            1.1279              1.32221         3.315442   \n",
      "\n",
      "   Boundary Separation Speed  Boundary Separation Accuracy  \\\n",
      "0                   0.835276                      2.550768   \n",
      "\n",
      "   Non-decision Time Speed  Non-decision Time Accuracy         BIC  \n",
      "0                 0.191291                    0.124386  227.536767  \n",
      "14\n"
     ]
    },
    {
     "name": "stderr",
     "output_type": "stream",
     "text": [
      "Info: Params [0.74666325 1.22829316 4.38338313 0.87097277 1.5921351  0.18362174\n",
      " 0.16181421] gave 149.12841333053234\n"
     ]
    },
    {
     "name": "stdout",
     "output_type": "stream",
     "text": [
      "   Drift Rate Speed  Drift Rate Accuracy  Self-excitation  \\\n",
      "0          0.746663             1.228293         4.383383   \n",
      "\n",
      "   Boundary Separation Speed  Boundary Separation Accuracy  \\\n",
      "0                   0.870973                      1.592135   \n",
      "\n",
      "   Non-decision Time Speed  Non-decision Time Accuracy         BIC  \n",
      "0                 0.183622                    0.161814  149.128413  \n",
      "15\n"
     ]
    },
    {
     "name": "stderr",
     "output_type": "stream",
     "text": [
      "Info: Params [1.35976937 2.12562237 2.50842024 0.60474616 1.33186583 0.23482644\n",
      " 0.25447686] gave -89.88189108227684\n"
     ]
    },
    {
     "name": "stdout",
     "output_type": "stream",
     "text": [
      "   Drift Rate Speed  Drift Rate Accuracy  Self-excitation  \\\n",
      "0          1.359769             2.125622          2.50842   \n",
      "\n",
      "   Boundary Separation Speed  Boundary Separation Accuracy  \\\n",
      "0                   0.604746                      1.331866   \n",
      "\n",
      "   Non-decision Time Speed  Non-decision Time Accuracy        BIC  \n",
      "0                 0.234826                    0.254477 -89.881891  \n",
      "16\n"
     ]
    },
    {
     "name": "stderr",
     "output_type": "stream",
     "text": [
      "Info: Params [1.04674496 0.76445072 3.23800464 0.63135484 0.8597178  0.25216052\n",
      " 0.33253916] gave 68.86832910945114\n"
     ]
    },
    {
     "name": "stdout",
     "output_type": "stream",
     "text": [
      "   Drift Rate Speed  Drift Rate Accuracy  Self-excitation  \\\n",
      "0          1.046745             0.764451         3.238005   \n",
      "\n",
      "   Boundary Separation Speed  Boundary Separation Accuracy  \\\n",
      "0                   0.631355                      0.859718   \n",
      "\n",
      "   Non-decision Time Speed  Non-decision Time Accuracy        BIC  \n",
      "0                 0.252161                    0.332539  68.868329  \n",
      "17\n"
     ]
    },
    {
     "name": "stderr",
     "output_type": "stream",
     "text": [
      "Info: Params [1.83627274 1.87644711 3.67385    0.77024318 1.10354481 0.26312835\n",
      " 0.2969556 ] gave -139.78101385209644\n"
     ]
    },
    {
     "name": "stdout",
     "output_type": "stream",
     "text": [
      "   Drift Rate Speed  Drift Rate Accuracy  Self-excitation  \\\n",
      "0          1.836273             1.876447          3.67385   \n",
      "\n",
      "   Boundary Separation Speed  Boundary Separation Accuracy  \\\n",
      "0                   0.770243                      1.103545   \n",
      "\n",
      "   Non-decision Time Speed  Non-decision Time Accuracy         BIC  \n",
      "0                 0.263128                    0.296956 -139.781014  \n",
      "18\n"
     ]
    },
    {
     "name": "stderr",
     "output_type": "stream",
     "text": [
      "Info: Params [2.0108217  1.60780727 3.29244054 0.8256406  1.47848581 0.25464211\n",
      " 0.20974075] gave 10.648469197953482\n"
     ]
    },
    {
     "name": "stdout",
     "output_type": "stream",
     "text": [
      "   Drift Rate Speed  Drift Rate Accuracy  Self-excitation  \\\n",
      "0          2.010822             1.607807         3.292441   \n",
      "\n",
      "   Boundary Separation Speed  Boundary Separation Accuracy  \\\n",
      "0                   0.825641                      1.478486   \n",
      "\n",
      "   Non-decision Time Speed  Non-decision Time Accuracy        BIC  \n",
      "0                 0.254642                    0.209741  10.648469  \n",
      "19\n"
     ]
    },
    {
     "name": "stderr",
     "output_type": "stream",
     "text": [
      "Info: Params [0.0836078  0.62360423 4.86830526 1.63681656 1.71386968 0.10253994\n",
      " 0.21034137] gave 339.91328243693874\n"
     ]
    },
    {
     "name": "stdout",
     "output_type": "stream",
     "text": [
      "   Drift Rate Speed  Drift Rate Accuracy  Self-excitation  \\\n",
      "0          0.083608             0.623604         4.868305   \n",
      "\n",
      "   Boundary Separation Speed  Boundary Separation Accuracy  \\\n",
      "0                   1.636817                       1.71387   \n",
      "\n",
      "   Non-decision Time Speed  Non-decision Time Accuracy         BIC  \n",
      "0                  0.10254                    0.210341  339.913282  \n"
     ]
    }
   ],
   "source": [
    "df_all = pd.DataFrame()\n",
    "for i in range(sample_size):\n",
    "    print(i)\n",
    "    path = os.path.join(data_dir+str(i+1)+\".txt\")\n",
    "    df = pd.read_csv(path, sep = \" \")\n",
    "    #df = df[df[\"cond\"]==SAT] # A condition\n",
    "    df = df[df[\"rt\"]<3]\n",
    "\n",
    "    samp = Sample.from_pandas_dataframe(df, rt_column_name=\"rt\", correct_column_name=\"correct\")\n",
    "    df = get_OUM_result_sub_2v2a2ter(samp)\n",
    "    df_all = pd.concat((df_all,df))\n",
    "    print(df)\n",
    "df_OUM = df_all.copy()\n"
   ]
  },
  {
   "cell_type": "code",
   "execution_count": 8,
   "id": "3b05a53a",
   "metadata": {},
   "outputs": [],
   "source": [
    "df_OUM.to_csv(\"OUM2v2a2terresultDutilh2019.csv\")"
   ]
  },
  {
   "cell_type": "code",
   "execution_count": 9,
   "id": "87e8797e",
   "metadata": {},
   "outputs": [
    {
     "data": {
      "text/plain": [
       "145.5441304874376"
      ]
     },
     "execution_count": 9,
     "metadata": {},
     "output_type": "execute_result"
    }
   ],
   "source": [
    "df_OUM[\"BIC\"].mean()"
   ]
  },
  {
   "cell_type": "code",
   "execution_count": null,
   "id": "66bb2313",
   "metadata": {},
   "outputs": [],
   "source": []
  }
 ],
 "metadata": {
  "kernelspec": {
   "display_name": "Python 3 (ipykernel)",
   "language": "python",
   "name": "python3"
  },
  "language_info": {
   "codemirror_mode": {
    "name": "ipython",
    "version": 3
   },
   "file_extension": ".py",
   "mimetype": "text/x-python",
   "name": "python",
   "nbconvert_exporter": "python",
   "pygments_lexer": "ipython3",
   "version": "3.7.15"
  }
 },
 "nbformat": 4,
 "nbformat_minor": 5
}
