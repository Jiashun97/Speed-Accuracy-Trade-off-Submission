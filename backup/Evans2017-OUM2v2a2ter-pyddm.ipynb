{
 "cells": [
  {
   "cell_type": "code",
   "execution_count": 1,
   "id": "2cda49de",
   "metadata": {},
   "outputs": [],
   "source": [
    "%run SAT_help_functions.ipynb"
   ]
  },
  {
   "cell_type": "code",
   "execution_count": null,
   "id": "bc081cf9",
   "metadata": {},
   "outputs": [],
   "source": []
  },
  {
   "cell_type": "markdown",
   "id": "4bd26666",
   "metadata": {},
   "source": [
    "## OUM"
   ]
  },
  {
   "cell_type": "code",
   "execution_count": null,
   "id": "9ef6c434",
   "metadata": {},
   "outputs": [],
   "source": []
  },
  {
   "cell_type": "code",
   "execution_count": 2,
   "id": "e776257c",
   "metadata": {},
   "outputs": [],
   "source": [
    "data_dir = \"/Users/wangjiashun/Desktop/Reserach on SAT/datasets/Evans2021/Evans2017/dataBySubject/sub\"\n",
    "sample_size = 47\n",
    "SAT_conds = [\"Speed\", \"Accuracy\"]"
   ]
  },
  {
   "cell_type": "code",
   "execution_count": 3,
   "id": "f434220f",
   "metadata": {},
   "outputs": [],
   "source": [
    "class BoundSpeedAcc(Bound):\n",
    "    name = \"BoundSpeedAcc\"\n",
    "    required_parameters = [\"Bspeed\", \"Bacc\"]\n",
    "    required_conditions = ['Cond']\n",
    "    def get_bound(self, conditions, *args, **kwargs):\n",
    "        assert self.Bacc > 0\n",
    "        assert self.Bspeed > 0\n",
    "        if conditions['Cond'] == 'Speed':\n",
    "            return self.Bspeed\n",
    "        elif conditions['Cond'] == 'Accuracy':\n",
    "            return self.Bacc\n",
    "        else:\n",
    "            print(\"Non-implemented SAT conditions\")"
   ]
  },
  {
   "cell_type": "code",
   "execution_count": 4,
   "id": "bbb278a6",
   "metadata": {},
   "outputs": [],
   "source": [
    "\n",
    "class DriftConstantSpeedAcc(Drift):\n",
    "    name = \"DriftBothSpeedAcc\"\n",
    "    required_parameters = [\"Vspeed\",\"Vacc\", \"K\"]\n",
    "    required_conditions = ['Cond']\n",
    "        \n",
    "    def get_drift(self, x, t, conditions, **kwargs):\n",
    "        if conditions['Cond'] == 'Speed':\n",
    "            return self.Vspeed + x*self.K \n",
    "        elif conditions['Cond'] == 'Accuracy':\n",
    "            return self.Vacc + x*self.K\n",
    "        else: \n",
    "            print(\"Non-implemented SAT conditions\")"
   ]
  },
  {
   "cell_type": "code",
   "execution_count": 5,
   "id": "6e5e0074",
   "metadata": {},
   "outputs": [],
   "source": [
    "\n",
    "class NondecisionSpeedAcc(OverlayNonDecision):\n",
    "    name = \"DriftSpeedAcc\"\n",
    "    required_parameters = [\"tSpeed\", 'tAcc']\n",
    "    required_conditions = ['Cond']\n",
    "        \n",
    "    def get_nondecision_time(self, conditions, **kwargs):\n",
    "        if conditions['Cond'] == 'Speed':\n",
    "            return self.tSpeed \n",
    "        elif conditions['Cond'] == 'Accuracy':\n",
    "            return self.tAcc\n",
    "        else: \n",
    "            print(\"Non-implemented SAT conditions\")"
   ]
  },
  {
   "cell_type": "code",
   "execution_count": null,
   "id": "b1e0fe9b",
   "metadata": {},
   "outputs": [],
   "source": []
  },
  {
   "cell_type": "code",
   "execution_count": null,
   "id": "81235d16",
   "metadata": {},
   "outputs": [],
   "source": []
  },
  {
   "cell_type": "code",
   "execution_count": null,
   "id": "8a3f5185",
   "metadata": {},
   "outputs": [],
   "source": []
  },
  {
   "cell_type": "code",
   "execution_count": 6,
   "id": "fdb13001",
   "metadata": {
    "scrolled": true
   },
   "outputs": [
    {
     "name": "stdout",
     "output_type": "stream",
     "text": [
      "0\n"
     ]
    },
    {
     "name": "stderr",
     "output_type": "stream",
     "text": [
      "Info: Params [0.78314207 0.98542265 1.54845724 0.56117966 1.08444565 0.33673933\n",
      " 0.36970656] gave 414.19529420913994\n"
     ]
    },
    {
     "name": "stdout",
     "output_type": "stream",
     "text": [
      "   Drift Rate Speed  Drift Rate Accuracy  Self-excitation  \\\n",
      "0          0.783142             0.985423         1.548457   \n",
      "\n",
      "   Boundary Separation Speed      Bacc  Non-decision Time Speed  \\\n",
      "0                    0.56118  1.084446                 0.336739   \n",
      "\n",
      "   Non-decision Time Accuracy  Participant         BIC  \n",
      "0                    0.369707            1  414.195294  \n",
      "1\n"
     ]
    },
    {
     "name": "stderr",
     "output_type": "stream",
     "text": [
      "Info: Params [2.73872464 1.59106447 1.88975086 0.65628246 1.40575888 0.43994486\n",
      " 0.46566954] gave -86.79345685961373\n"
     ]
    },
    {
     "name": "stdout",
     "output_type": "stream",
     "text": [
      "   Drift Rate Speed  Drift Rate Accuracy  Self-excitation  \\\n",
      "0          2.738725             1.591064         1.889751   \n",
      "\n",
      "   Boundary Separation Speed      Bacc  Non-decision Time Speed  \\\n",
      "0                   0.656282  1.405759                 0.439945   \n",
      "\n",
      "   Non-decision Time Accuracy  Participant        BIC  \n",
      "0                     0.46567            2 -86.793457  \n",
      "2\n"
     ]
    },
    {
     "name": "stderr",
     "output_type": "stream",
     "text": [
      "Info: Params [1.25261855 1.64454491 4.26582619 1.00164794 1.344794   0.21536358\n",
      " 0.31621777] gave 116.7624709950432\n"
     ]
    },
    {
     "name": "stdout",
     "output_type": "stream",
     "text": [
      "   Drift Rate Speed  Drift Rate Accuracy  Self-excitation  \\\n",
      "0          1.252619             1.644545         4.265826   \n",
      "\n",
      "   Boundary Separation Speed      Bacc  Non-decision Time Speed  \\\n",
      "0                   1.001648  1.344794                 0.215364   \n",
      "\n",
      "   Non-decision Time Accuracy  Participant         BIC  \n",
      "0                    0.316218            3  116.762471  \n",
      "3\n"
     ]
    },
    {
     "name": "stderr",
     "output_type": "stream",
     "text": [
      "Info: Params [ 1.55063114  3.41199183 -0.0451847   0.73523038  7.89458884  0.42843888\n",
      "  0.12658771] gave 220.17678836218272\n"
     ]
    },
    {
     "name": "stdout",
     "output_type": "stream",
     "text": [
      "   Drift Rate Speed  Drift Rate Accuracy  Self-excitation  \\\n",
      "0          1.550631             3.411992        -0.045185   \n",
      "\n",
      "   Boundary Separation Speed      Bacc  Non-decision Time Speed  \\\n",
      "0                    0.73523  7.894589                 0.428439   \n",
      "\n",
      "   Non-decision Time Accuracy  Participant         BIC  \n",
      "0                    0.126588            4  220.176788  \n",
      "4\n"
     ]
    },
    {
     "name": "stderr",
     "output_type": "stream",
     "text": [
      "Info: Params [1.882785   1.13421507 2.68486388 0.75680271 1.54377181 0.34961728\n",
      " 0.31132479] gave 213.66188353918588\n"
     ]
    },
    {
     "name": "stdout",
     "output_type": "stream",
     "text": [
      "   Drift Rate Speed  Drift Rate Accuracy  Self-excitation  \\\n",
      "0          1.882785             1.134215         2.684864   \n",
      "\n",
      "   Boundary Separation Speed      Bacc  Non-decision Time Speed  \\\n",
      "0                   0.756803  1.543772                 0.349617   \n",
      "\n",
      "   Non-decision Time Accuracy  Participant         BIC  \n",
      "0                    0.311325            5  213.661884  \n",
      "5\n"
     ]
    },
    {
     "name": "stderr",
     "output_type": "stream",
     "text": [
      "Info: Params [1.40608458 1.06934874 1.62637902 0.58008807 1.19433591 0.43152772\n",
      " 0.44441125] gave 301.2153857072223\n"
     ]
    },
    {
     "name": "stdout",
     "output_type": "stream",
     "text": [
      "   Drift Rate Speed  Drift Rate Accuracy  Self-excitation  \\\n",
      "0          1.406085             1.069349         1.626379   \n",
      "\n",
      "   Boundary Separation Speed      Bacc  Non-decision Time Speed  \\\n",
      "0                   0.580088  1.194336                 0.431528   \n",
      "\n",
      "   Non-decision Time Accuracy  Participant         BIC  \n",
      "0                    0.444411            6  301.215386  \n",
      "6\n"
     ]
    },
    {
     "name": "stderr",
     "output_type": "stream",
     "text": [
      "Info: Params [0.62407201 1.08306864 3.57909069 0.73575272 1.30858699 0.17099576\n",
      " 0.30132895] gave 343.8857720446613\n"
     ]
    },
    {
     "name": "stdout",
     "output_type": "stream",
     "text": [
      "   Drift Rate Speed  Drift Rate Accuracy  Self-excitation  \\\n",
      "0          0.624072             1.083069         3.579091   \n",
      "\n",
      "   Boundary Separation Speed      Bacc  Non-decision Time Speed  \\\n",
      "0                   0.735753  1.308587                 0.170996   \n",
      "\n",
      "   Non-decision Time Accuracy  Participant         BIC  \n",
      "0                    0.301329            7  343.885772  \n",
      "7\n"
     ]
    },
    {
     "name": "stderr",
     "output_type": "stream",
     "text": [
      "Info: Params [1.93535615 2.19948286 4.10139137 0.76935304 1.43713435 0.41056344\n",
      " 0.49273005] gave -133.34571062183116\n"
     ]
    },
    {
     "name": "stdout",
     "output_type": "stream",
     "text": [
      "   Drift Rate Speed  Drift Rate Accuracy  Self-excitation  \\\n",
      "0          1.935356             2.199483         4.101391   \n",
      "\n",
      "   Boundary Separation Speed      Bacc  Non-decision Time Speed  \\\n",
      "0                   0.769353  1.437134                 0.410563   \n",
      "\n",
      "   Non-decision Time Accuracy  Participant         BIC  \n",
      "0                     0.49273            8 -133.345711  \n",
      "8\n"
     ]
    },
    {
     "name": "stderr",
     "output_type": "stream",
     "text": [
      "Info: Params [2.0358818  1.84706179 2.35855836 0.89665897 3.42437522 0.45852991\n",
      " 0.2090384 ] gave 80.2181232929536\n"
     ]
    },
    {
     "name": "stdout",
     "output_type": "stream",
     "text": [
      "   Drift Rate Speed  Drift Rate Accuracy  Self-excitation  \\\n",
      "0          2.035882             1.847062         2.358558   \n",
      "\n",
      "   Boundary Separation Speed      Bacc  Non-decision Time Speed  \\\n",
      "0                   0.896659  3.424375                  0.45853   \n",
      "\n",
      "   Non-decision Time Accuracy  Participant        BIC  \n",
      "0                    0.209038            9  80.218123  \n",
      "9\n"
     ]
    },
    {
     "name": "stderr",
     "output_type": "stream",
     "text": [
      "Info: Params [0.74391296 0.5179727  2.00686132 0.82438641 1.41887489 0.3405998\n",
      " 0.31657331] gave 717.7333997149667\n"
     ]
    },
    {
     "name": "stdout",
     "output_type": "stream",
     "text": [
      "   Drift Rate Speed  Drift Rate Accuracy  Self-excitation  \\\n",
      "0          0.743913             0.517973         2.006861   \n",
      "\n",
      "   Boundary Separation Speed      Bacc  Non-decision Time Speed  \\\n",
      "0                   0.824386  1.418875                   0.3406   \n",
      "\n",
      "   Non-decision Time Accuracy  Participant       BIC  \n",
      "0                    0.316573           10  717.7334  \n",
      "10\n"
     ]
    },
    {
     "name": "stderr",
     "output_type": "stream",
     "text": [
      "Info: Params [0.9863416  0.43765497 0.98546322 0.63417474 1.25073428 0.42880373\n",
      " 0.43427468] gave 682.838706343518\n"
     ]
    },
    {
     "name": "stdout",
     "output_type": "stream",
     "text": [
      "   Drift Rate Speed  Drift Rate Accuracy  Self-excitation  \\\n",
      "0          0.986342             0.437655         0.985463   \n",
      "\n",
      "   Boundary Separation Speed      Bacc  Non-decision Time Speed  \\\n",
      "0                   0.634175  1.250734                 0.428804   \n",
      "\n",
      "   Non-decision Time Accuracy  Participant         BIC  \n",
      "0                    0.434275           11  682.838706  \n",
      "11\n"
     ]
    },
    {
     "name": "stderr",
     "output_type": "stream",
     "text": [
      "Info: Params [0.90259556 0.97940944 1.41205669 0.71172703 1.32291725 0.22791793\n",
      " 0.40869393] gave 564.5455866981648\n"
     ]
    },
    {
     "name": "stdout",
     "output_type": "stream",
     "text": [
      "   Drift Rate Speed  Drift Rate Accuracy  Self-excitation  \\\n",
      "0          0.902596             0.979409         1.412057   \n",
      "\n",
      "   Boundary Separation Speed      Bacc  Non-decision Time Speed  \\\n",
      "0                   0.711727  1.322917                 0.227918   \n",
      "\n",
      "   Non-decision Time Accuracy  Participant         BIC  \n",
      "0                    0.408694           12  564.545587  \n",
      "12\n"
     ]
    },
    {
     "name": "stderr",
     "output_type": "stream",
     "text": [
      "Info: Params [1.5499379  0.97721326 1.58104159 0.87957156 2.07158076 0.4029636\n",
      " 0.31746864] gave 468.4255040215976\n"
     ]
    },
    {
     "name": "stdout",
     "output_type": "stream",
     "text": [
      "   Drift Rate Speed  Drift Rate Accuracy  Self-excitation  \\\n",
      "0          1.549938             0.977213         1.581042   \n",
      "\n",
      "   Boundary Separation Speed      Bacc  Non-decision Time Speed  \\\n",
      "0                   0.879572  2.071581                 0.402964   \n",
      "\n",
      "   Non-decision Time Accuracy  Participant         BIC  \n",
      "0                    0.317469           13  468.425504  \n",
      "13\n"
     ]
    },
    {
     "name": "stderr",
     "output_type": "stream",
     "text": [
      "Info: Params [0.54639553 0.76817159 2.05360778 1.06616598 1.74225106 0.34654971\n",
      " 0.34986242] gave 791.930540753248\n"
     ]
    },
    {
     "name": "stdout",
     "output_type": "stream",
     "text": [
      "   Drift Rate Speed  Drift Rate Accuracy  Self-excitation  \\\n",
      "0          0.546396             0.768172         2.053608   \n",
      "\n",
      "   Boundary Separation Speed      Bacc  Non-decision Time Speed  \\\n",
      "0                   1.066166  1.742251                  0.34655   \n",
      "\n",
      "   Non-decision Time Accuracy  Participant         BIC  \n",
      "0                    0.349862           14  791.930541  \n",
      "14\n"
     ]
    },
    {
     "name": "stderr",
     "output_type": "stream",
     "text": [
      "Info: Params [0.78495518 0.56436751 1.96709407 0.95021293 1.8078039  0.17213116\n",
      " 0.22487289] gave 712.3500356722336\n"
     ]
    },
    {
     "name": "stdout",
     "output_type": "stream",
     "text": [
      "   Drift Rate Speed  Drift Rate Accuracy  Self-excitation  \\\n",
      "0          0.784955             0.564368         1.967094   \n",
      "\n",
      "   Boundary Separation Speed      Bacc  Non-decision Time Speed  \\\n",
      "0                   0.950213  1.807804                 0.172131   \n",
      "\n",
      "   Non-decision Time Accuracy  Participant         BIC  \n",
      "0                    0.224873           15  712.350036  \n",
      "15\n"
     ]
    },
    {
     "name": "stderr",
     "output_type": "stream",
     "text": [
      "Info: Params [1.45546438 1.05781486 1.33480098 0.70275623 1.7957279  0.40324503\n",
      " 0.34433837] gave 472.84154957869157\n"
     ]
    },
    {
     "name": "stdout",
     "output_type": "stream",
     "text": [
      "   Drift Rate Speed  Drift Rate Accuracy  Self-excitation  \\\n",
      "0          1.455464             1.057815         1.334801   \n",
      "\n",
      "   Boundary Separation Speed      Bacc  Non-decision Time Speed  \\\n",
      "0                   0.702756  1.795728                 0.403245   \n",
      "\n",
      "   Non-decision Time Accuracy  Participant        BIC  \n",
      "0                    0.344338           16  472.84155  \n",
      "16\n"
     ]
    },
    {
     "name": "stderr",
     "output_type": "stream",
     "text": [
      "Info: Params [1.54083345 0.99583817 0.68725799 0.78776684 1.1644035  0.37110421\n",
      " 0.33436739] gave 494.7029105144458\n"
     ]
    },
    {
     "name": "stdout",
     "output_type": "stream",
     "text": [
      "   Drift Rate Speed  Drift Rate Accuracy  Self-excitation  \\\n",
      "0          1.540833             0.995838         0.687258   \n",
      "\n",
      "   Boundary Separation Speed      Bacc  Non-decision Time Speed  \\\n",
      "0                   0.787767  1.164403                 0.371104   \n",
      "\n",
      "   Non-decision Time Accuracy  Participant         BIC  \n",
      "0                    0.334367           17  494.702911  \n",
      "17\n"
     ]
    },
    {
     "name": "stderr",
     "output_type": "stream",
     "text": [
      "Info: Params [1.22734557 0.68447013 1.88898266 0.61204079 1.21068464 0.38238408\n",
      " 0.36266687] gave 447.11438254112\n"
     ]
    },
    {
     "name": "stdout",
     "output_type": "stream",
     "text": [
      "   Drift Rate Speed  Drift Rate Accuracy  Self-excitation  \\\n",
      "0          1.227346              0.68447         1.888983   \n",
      "\n",
      "   Boundary Separation Speed      Bacc  Non-decision Time Speed  \\\n",
      "0                   0.612041  1.210685                 0.382384   \n",
      "\n",
      "   Non-decision Time Accuracy  Participant         BIC  \n",
      "0                    0.362667           18  447.114383  \n",
      "18\n"
     ]
    },
    {
     "name": "stderr",
     "output_type": "stream",
     "text": [
      "Info: Params [1.07247516 1.01967308 2.73052988 0.87565561 2.07038348 0.33502582\n",
      " 0.21617385] gave 494.7404136221394\n"
     ]
    },
    {
     "name": "stdout",
     "output_type": "stream",
     "text": [
      "   Drift Rate Speed  Drift Rate Accuracy  Self-excitation  \\\n",
      "0          1.072475             1.019673          2.73053   \n",
      "\n",
      "   Boundary Separation Speed      Bacc  Non-decision Time Speed  \\\n",
      "0                   0.875656  2.070383                 0.335026   \n",
      "\n",
      "   Non-decision Time Accuracy  Participant         BIC  \n",
      "0                    0.216174           19  494.740414  \n",
      "19\n"
     ]
    },
    {
     "name": "stderr",
     "output_type": "stream",
     "text": [
      "Info: Params [0.53521315 0.52069905 1.36971567 1.56717278 2.4075759  0.11867844\n",
      " 0.10351973] gave 987.9747559170257\n"
     ]
    },
    {
     "name": "stdout",
     "output_type": "stream",
     "text": [
      "   Drift Rate Speed  Drift Rate Accuracy  Self-excitation  \\\n",
      "0          0.535213             0.520699         1.369716   \n",
      "\n",
      "   Boundary Separation Speed      Bacc  Non-decision Time Speed  \\\n",
      "0                   1.567173  2.407576                 0.118678   \n",
      "\n",
      "   Non-decision Time Accuracy  Participant         BIC  \n",
      "0                     0.10352           20  987.974756  \n",
      "20\n"
     ]
    },
    {
     "name": "stderr",
     "output_type": "stream",
     "text": [
      "Info: Params [2.38140924 1.34452063 1.83224642 0.57364171 1.1515211  0.33977142\n",
      " 0.38494993] gave 5.371115947022332\n"
     ]
    },
    {
     "name": "stdout",
     "output_type": "stream",
     "text": [
      "   Drift Rate Speed  Drift Rate Accuracy  Self-excitation  \\\n",
      "0          2.381409             1.344521         1.832246   \n",
      "\n",
      "   Boundary Separation Speed      Bacc  Non-decision Time Speed  \\\n",
      "0                   0.573642  1.151521                 0.339771   \n",
      "\n",
      "   Non-decision Time Accuracy  Participant       BIC  \n",
      "0                     0.38495           21  5.371116  \n",
      "21\n"
     ]
    },
    {
     "name": "stderr",
     "output_type": "stream",
     "text": [
      "Info: Params [1.9493813  1.27191442 1.87294659 0.85048753 1.6688033  0.3590263\n",
      " 0.36100851] gave 258.89293666472526\n"
     ]
    },
    {
     "name": "stdout",
     "output_type": "stream",
     "text": [
      "   Drift Rate Speed  Drift Rate Accuracy  Self-excitation  \\\n",
      "0          1.949381             1.271914         1.872947   \n",
      "\n",
      "   Boundary Separation Speed      Bacc  Non-decision Time Speed  \\\n",
      "0                   0.850488  1.668803                 0.359026   \n",
      "\n",
      "   Non-decision Time Accuracy  Participant         BIC  \n",
      "0                    0.361009           22  258.892937  \n",
      "22\n"
     ]
    },
    {
     "name": "stderr",
     "output_type": "stream",
     "text": [
      "Info: Params [1.03037043 0.82783792 1.87737099 0.83194101 1.60830249 0.35520362\n",
      " 0.36951183] gave 638.7052529277843\n"
     ]
    },
    {
     "name": "stdout",
     "output_type": "stream",
     "text": [
      "   Drift Rate Speed  Drift Rate Accuracy  Self-excitation  \\\n",
      "0           1.03037             0.827838         1.877371   \n",
      "\n",
      "   Boundary Separation Speed      Bacc  Non-decision Time Speed  \\\n",
      "0                   0.831941  1.608302                 0.355204   \n",
      "\n",
      "   Non-decision Time Accuracy  Participant         BIC  \n",
      "0                    0.369512           23  638.705253  \n",
      "23\n"
     ]
    },
    {
     "name": "stderr",
     "output_type": "stream",
     "text": [
      "Info: Params [1.10695059 0.74043027 1.46796564 0.92884333 2.49180707 0.46603009\n",
      " 0.35448104] gave 632.0892969670258\n"
     ]
    },
    {
     "name": "stdout",
     "output_type": "stream",
     "text": [
      "   Drift Rate Speed  Drift Rate Accuracy  Self-excitation  \\\n",
      "0          1.106951              0.74043         1.467966   \n",
      "\n",
      "   Boundary Separation Speed      Bacc  Non-decision Time Speed  \\\n",
      "0                   0.928843  2.491807                  0.46603   \n",
      "\n",
      "   Non-decision Time Accuracy  Participant         BIC  \n",
      "0                    0.354481           24  632.089297  \n",
      "24\n"
     ]
    },
    {
     "name": "stderr",
     "output_type": "stream",
     "text": [
      "Info: Params [1.01206765 1.38536184 2.699374   1.60011696 1.65330684 0.26805868\n",
      " 0.40501437] gave 532.0833995770336\n"
     ]
    },
    {
     "name": "stdout",
     "output_type": "stream",
     "text": [
      "   Drift Rate Speed  Drift Rate Accuracy  Self-excitation  \\\n",
      "0          1.012068             1.385362         2.699374   \n",
      "\n",
      "   Boundary Separation Speed      Bacc  Non-decision Time Speed  \\\n",
      "0                   1.600117  1.653307                 0.268059   \n",
      "\n",
      "   Non-decision Time Accuracy  Participant       BIC  \n",
      "0                    0.405014           25  532.0834  \n",
      "25\n"
     ]
    },
    {
     "name": "stderr",
     "output_type": "stream",
     "text": [
      "Info: Params [2.25673715 1.25025881 1.73812303 0.68144834 1.7379853  0.48555783\n",
      " 0.4253919 ] gave 181.02402183462354\n"
     ]
    },
    {
     "name": "stdout",
     "output_type": "stream",
     "text": [
      "   Drift Rate Speed  Drift Rate Accuracy  Self-excitation  \\\n",
      "0          2.256737             1.250259         1.738123   \n",
      "\n",
      "   Boundary Separation Speed      Bacc  Non-decision Time Speed  \\\n",
      "0                   0.681448  1.737985                 0.485558   \n",
      "\n",
      "   Non-decision Time Accuracy  Participant         BIC  \n",
      "0                    0.425392           26  181.024022  \n",
      "26\n"
     ]
    },
    {
     "name": "stderr",
     "output_type": "stream",
     "text": [
      "Info: Params [0.9280772  1.13359782 2.47481978 0.50694971 2.4290731  0.33748228\n",
      " 0.44106433] gave 213.39666566249267\n"
     ]
    },
    {
     "name": "stdout",
     "output_type": "stream",
     "text": [
      "   Drift Rate Speed  Drift Rate Accuracy  Self-excitation  \\\n",
      "0          0.928077             1.133598          2.47482   \n",
      "\n",
      "   Boundary Separation Speed      Bacc  Non-decision Time Speed  \\\n",
      "0                    0.50695  2.429073                 0.337482   \n",
      "\n",
      "   Non-decision Time Accuracy  Participant         BIC  \n",
      "0                    0.441064           27  213.396666  \n",
      "27\n"
     ]
    },
    {
     "name": "stderr",
     "output_type": "stream",
     "text": [
      "Info: Params [1.80660482 1.50628413 2.62612578 0.56455716 1.32173177 0.45495699\n",
      " 0.4783042 ] gave 66.7578791423787\n"
     ]
    },
    {
     "name": "stdout",
     "output_type": "stream",
     "text": [
      "   Drift Rate Speed  Drift Rate Accuracy  Self-excitation  \\\n",
      "0          1.806605             1.506284         2.626126   \n",
      "\n",
      "   Boundary Separation Speed      Bacc  Non-decision Time Speed  \\\n",
      "0                   0.564557  1.321732                 0.454957   \n",
      "\n",
      "   Non-decision Time Accuracy  Participant        BIC  \n",
      "0                    0.478304           28  66.757879  \n",
      "28\n"
     ]
    },
    {
     "name": "stderr",
     "output_type": "stream",
     "text": [
      "Info: Params [1.65614553 2.45484451 5.67999336 0.74637099 1.47062206 0.3211196\n",
      " 0.47447546] gave -139.29736500296005\n"
     ]
    },
    {
     "name": "stdout",
     "output_type": "stream",
     "text": [
      "   Drift Rate Speed  Drift Rate Accuracy  Self-excitation  \\\n",
      "0          1.656146             2.454845         5.679993   \n",
      "\n",
      "   Boundary Separation Speed      Bacc  Non-decision Time Speed  \\\n",
      "0                   0.746371  1.470622                  0.32112   \n",
      "\n",
      "   Non-decision Time Accuracy  Participant         BIC  \n",
      "0                    0.474475           29 -139.297365  \n",
      "29\n"
     ]
    },
    {
     "name": "stderr",
     "output_type": "stream",
     "text": [
      "Info: Params [0.81359617 0.78545108 1.73891349 1.07718102 2.93422303 0.4596569\n",
      " 0.38464914] gave 762.3237430301838\n"
     ]
    },
    {
     "name": "stdout",
     "output_type": "stream",
     "text": [
      "   Drift Rate Speed  Drift Rate Accuracy  Self-excitation  \\\n",
      "0          0.813596             0.785451         1.738913   \n",
      "\n",
      "   Boundary Separation Speed      Bacc  Non-decision Time Speed  \\\n",
      "0                   1.077181  2.934223                 0.459657   \n",
      "\n",
      "   Non-decision Time Accuracy  Participant         BIC  \n",
      "0                    0.384649           30  762.323743  \n",
      "30\n"
     ]
    },
    {
     "name": "stderr",
     "output_type": "stream",
     "text": [
      "Info: Params [1.25010726 1.42810305 3.20138757 0.78472376 1.07956741 0.29812651\n",
      " 0.38281772] gave 206.9230033879262\n"
     ]
    },
    {
     "name": "stdout",
     "output_type": "stream",
     "text": [
      "   Drift Rate Speed  Drift Rate Accuracy  Self-excitation  \\\n",
      "0          1.250107             1.428103         3.201388   \n",
      "\n",
      "   Boundary Separation Speed      Bacc  Non-decision Time Speed  \\\n",
      "0                   0.784724  1.079567                 0.298127   \n",
      "\n",
      "   Non-decision Time Accuracy  Participant         BIC  \n",
      "0                    0.382818           31  206.923003  \n",
      "31\n"
     ]
    },
    {
     "name": "stderr",
     "output_type": "stream",
     "text": [
      "Info: Params [1.47139275 1.50505511 1.68891822 1.17726438 1.7292387  0.34123281\n",
      " 0.29422129] gave 421.0673614109951\n"
     ]
    },
    {
     "name": "stdout",
     "output_type": "stream",
     "text": [
      "   Drift Rate Speed  Drift Rate Accuracy  Self-excitation  \\\n",
      "0          1.471393             1.505055         1.688918   \n",
      "\n",
      "   Boundary Separation Speed      Bacc  Non-decision Time Speed  \\\n",
      "0                   1.177264  1.729239                 0.341233   \n",
      "\n",
      "   Non-decision Time Accuracy  Participant         BIC  \n",
      "0                    0.294221           32  421.067361  \n",
      "32\n"
     ]
    },
    {
     "name": "stderr",
     "output_type": "stream",
     "text": [
      "Info: Params [1.67361902 1.51726418 1.98376779 0.73824032 1.53967438 0.35959443\n",
      " 0.3923157 ] gave 207.7839201997787\n"
     ]
    },
    {
     "name": "stdout",
     "output_type": "stream",
     "text": [
      "   Drift Rate Speed  Drift Rate Accuracy  Self-excitation  \\\n",
      "0          1.673619             1.517264         1.983768   \n",
      "\n",
      "   Boundary Separation Speed      Bacc  Non-decision Time Speed  \\\n",
      "0                    0.73824  1.539674                 0.359594   \n",
      "\n",
      "   Non-decision Time Accuracy  Participant        BIC  \n",
      "0                    0.392316           33  207.78392  \n",
      "33\n"
     ]
    },
    {
     "name": "stderr",
     "output_type": "stream",
     "text": [
      "Info: Params [0.50015851 1.56908834 2.09604208 0.65867215 1.320199   0.18350405\n",
      " 0.46510172] gave 292.4310809785466\n"
     ]
    },
    {
     "name": "stdout",
     "output_type": "stream",
     "text": [
      "   Drift Rate Speed  Drift Rate Accuracy  Self-excitation  \\\n",
      "0          0.500159             1.569088         2.096042   \n",
      "\n",
      "   Boundary Separation Speed      Bacc  Non-decision Time Speed  \\\n",
      "0                   0.658672  1.320199                 0.183504   \n",
      "\n",
      "   Non-decision Time Accuracy  Participant         BIC  \n",
      "0                    0.465102           34  292.431081  \n",
      "34\n"
     ]
    },
    {
     "name": "stderr",
     "output_type": "stream",
     "text": [
      "Info: Params [1.39523692 1.71319815 3.74828726 0.50494558 1.22958218 0.31148644\n",
      " 0.30923114] gave -125.17040467320452\n"
     ]
    },
    {
     "name": "stdout",
     "output_type": "stream",
     "text": [
      "   Drift Rate Speed  Drift Rate Accuracy  Self-excitation  \\\n",
      "0          1.395237             1.713198         3.748287   \n",
      "\n",
      "   Boundary Separation Speed      Bacc  Non-decision Time Speed  \\\n",
      "0                   0.504946  1.229582                 0.311486   \n",
      "\n",
      "   Non-decision Time Accuracy  Participant         BIC  \n",
      "0                    0.309231           35 -125.170405  \n",
      "35\n"
     ]
    },
    {
     "name": "stderr",
     "output_type": "stream",
     "text": [
      "Info: Params [1.76349274 1.20675481 3.09226492 0.50390814 1.37906411 0.40953367\n",
      " 0.45391099] gave 10.688386996433387\n"
     ]
    },
    {
     "name": "stdout",
     "output_type": "stream",
     "text": [
      "   Drift Rate Speed  Drift Rate Accuracy  Self-excitation  \\\n",
      "0          1.763493             1.206755         3.092265   \n",
      "\n",
      "   Boundary Separation Speed      Bacc  Non-decision Time Speed  \\\n",
      "0                   0.503908  1.379064                 0.409534   \n",
      "\n",
      "   Non-decision Time Accuracy  Participant        BIC  \n",
      "0                    0.453911           36  10.688387  \n",
      "36\n"
     ]
    },
    {
     "name": "stderr",
     "output_type": "stream",
     "text": [
      "Info: Params [1.04322888 1.38508329 1.71913678 0.89961252 1.44794688 0.29983409\n",
      " 0.32602023] gave 472.7991943042974\n"
     ]
    },
    {
     "name": "stdout",
     "output_type": "stream",
     "text": [
      "   Drift Rate Speed  Drift Rate Accuracy  Self-excitation  \\\n",
      "0          1.043229             1.385083         1.719137   \n",
      "\n",
      "   Boundary Separation Speed      Bacc  Non-decision Time Speed  \\\n",
      "0                   0.899613  1.447947                 0.299834   \n",
      "\n",
      "   Non-decision Time Accuracy  Participant         BIC  \n",
      "0                     0.32602           37  472.799194  \n",
      "37\n"
     ]
    },
    {
     "name": "stderr",
     "output_type": "stream",
     "text": [
      "Info: Params [1.71625471 1.9990121  5.48560483 0.70490632 6.87311514 0.28884943\n",
      " 0.17120242] gave -161.68157351763807\n"
     ]
    },
    {
     "name": "stdout",
     "output_type": "stream",
     "text": [
      "   Drift Rate Speed  Drift Rate Accuracy  Self-excitation  \\\n",
      "0          1.716255             1.999012         5.485605   \n",
      "\n",
      "   Boundary Separation Speed      Bacc  Non-decision Time Speed  \\\n",
      "0                   0.704906  6.873115                 0.288849   \n",
      "\n",
      "   Non-decision Time Accuracy  Participant         BIC  \n",
      "0                    0.171202           38 -161.681574  \n",
      "38\n"
     ]
    },
    {
     "name": "stderr",
     "output_type": "stream",
     "text": [
      "Info: Params [2.01147334 1.87319813 3.40434189 0.73636349 1.45749445 0.29235602\n",
      " 0.4195017 ] gave -94.54240440734434\n"
     ]
    },
    {
     "name": "stdout",
     "output_type": "stream",
     "text": [
      "   Drift Rate Speed  Drift Rate Accuracy  Self-excitation  \\\n",
      "0          2.011473             1.873198         3.404342   \n",
      "\n",
      "   Boundary Separation Speed      Bacc  Non-decision Time Speed  \\\n",
      "0                   0.736363  1.457494                 0.292356   \n",
      "\n",
      "   Non-decision Time Accuracy  Participant        BIC  \n",
      "0                    0.419502           39 -94.542404  \n",
      "39\n"
     ]
    },
    {
     "name": "stderr",
     "output_type": "stream",
     "text": [
      "Info: Params [0.89775101 0.76480718 0.79607866 0.63234743 2.04603251 0.3586576\n",
      " 0.32745971] gave 461.544471605032\n"
     ]
    },
    {
     "name": "stdout",
     "output_type": "stream",
     "text": [
      "   Drift Rate Speed  Drift Rate Accuracy  Self-excitation  \\\n",
      "0          0.897751             0.764807         0.796079   \n",
      "\n",
      "   Boundary Separation Speed      Bacc  Non-decision Time Speed  \\\n",
      "0                   0.632347  2.046033                 0.358658   \n",
      "\n",
      "   Non-decision Time Accuracy  Participant         BIC  \n",
      "0                     0.32746           40  461.544472  \n",
      "40\n"
     ]
    },
    {
     "name": "stderr",
     "output_type": "stream",
     "text": [
      "Info: Params [2.39270792 1.26443558 1.67449736 0.86955644 1.56843867 0.32254258\n",
      " 0.44489467] gave 191.02098406067282\n"
     ]
    },
    {
     "name": "stdout",
     "output_type": "stream",
     "text": [
      "   Drift Rate Speed  Drift Rate Accuracy  Self-excitation  \\\n",
      "0          2.392708             1.264436         1.674497   \n",
      "\n",
      "   Boundary Separation Speed      Bacc  Non-decision Time Speed  \\\n",
      "0                   0.869556  1.568439                 0.322543   \n",
      "\n",
      "   Non-decision Time Accuracy  Participant         BIC  \n",
      "0                    0.444895           41  191.020984  \n",
      "41\n"
     ]
    },
    {
     "name": "stderr",
     "output_type": "stream",
     "text": [
      "Info: Params [1.64695228 1.26127276 1.62295507 0.61047493 1.64202104 0.33320618\n",
      " 0.26575415] gave 265.66128674039317\n"
     ]
    },
    {
     "name": "stdout",
     "output_type": "stream",
     "text": [
      "   Drift Rate Speed  Drift Rate Accuracy  Self-excitation  \\\n",
      "0          1.646952             1.261273         1.622955   \n",
      "\n",
      "   Boundary Separation Speed      Bacc  Non-decision Time Speed  \\\n",
      "0                   0.610475  1.642021                 0.333206   \n",
      "\n",
      "   Non-decision Time Accuracy  Participant         BIC  \n",
      "0                    0.265754           42  265.661287  \n",
      "42\n"
     ]
    },
    {
     "name": "stderr",
     "output_type": "stream",
     "text": [
      "Info: Params [1.2932244  1.03814539 2.66219184 0.82923497 1.41377912 0.35902276\n",
      " 0.36799528] gave 389.40668459453684\n"
     ]
    },
    {
     "name": "stdout",
     "output_type": "stream",
     "text": [
      "   Drift Rate Speed  Drift Rate Accuracy  Self-excitation  \\\n",
      "0          1.293224             1.038145         2.662192   \n",
      "\n",
      "   Boundary Separation Speed      Bacc  Non-decision Time Speed  \\\n",
      "0                   0.829235  1.413779                 0.359023   \n",
      "\n",
      "   Non-decision Time Accuracy  Participant         BIC  \n",
      "0                    0.367995           43  389.406685  \n",
      "43\n"
     ]
    },
    {
     "name": "stderr",
     "output_type": "stream",
     "text": [
      "Info: Params [0.70240814 0.79359883 1.6810511  0.76227465 2.66684647 0.32330616\n",
      " 0.10922015] gave 718.5073120146845\n"
     ]
    },
    {
     "name": "stdout",
     "output_type": "stream",
     "text": [
      "   Drift Rate Speed  Drift Rate Accuracy  Self-excitation  \\\n",
      "0          0.702408             0.793599         1.681051   \n",
      "\n",
      "   Boundary Separation Speed      Bacc  Non-decision Time Speed  \\\n",
      "0                   0.762275  2.666846                 0.323306   \n",
      "\n",
      "   Non-decision Time Accuracy  Participant         BIC  \n",
      "0                     0.10922           44  718.507312  \n",
      "44\n"
     ]
    },
    {
     "name": "stderr",
     "output_type": "stream",
     "text": [
      "Info: Params [2.10054372 1.45454586 2.24717746 0.7210332  1.45934501 0.37894409\n",
      " 0.30316751] gave 137.9988974755643\n"
     ]
    },
    {
     "name": "stdout",
     "output_type": "stream",
     "text": [
      "   Drift Rate Speed  Drift Rate Accuracy  Self-excitation  \\\n",
      "0          2.100544             1.454546         2.247177   \n",
      "\n",
      "   Boundary Separation Speed      Bacc  Non-decision Time Speed  \\\n",
      "0                   0.721033  1.459345                 0.378944   \n",
      "\n",
      "   Non-decision Time Accuracy  Participant         BIC  \n",
      "0                    0.303168           45  137.998897  \n",
      "45\n"
     ]
    },
    {
     "name": "stderr",
     "output_type": "stream",
     "text": [
      "Info: Params [1.23752875 1.46437263 2.63809989 0.88609258 1.51497562 0.35219353\n",
      " 0.34870826] gave 329.50727444503207\n"
     ]
    },
    {
     "name": "stdout",
     "output_type": "stream",
     "text": [
      "   Drift Rate Speed  Drift Rate Accuracy  Self-excitation  \\\n",
      "0          1.237529             1.464373           2.6381   \n",
      "\n",
      "   Boundary Separation Speed      Bacc  Non-decision Time Speed  \\\n",
      "0                   0.886093  1.514976                 0.352194   \n",
      "\n",
      "   Non-decision Time Accuracy  Participant         BIC  \n",
      "0                    0.348708           46  329.507274  \n",
      "46\n"
     ]
    },
    {
     "name": "stderr",
     "output_type": "stream",
     "text": [
      "Info: Params [1.75977279 1.12391335 1.21420355 0.78329767 2.41840121 0.30278981\n",
      " 0.36168363] gave 383.4299157495611\n"
     ]
    },
    {
     "name": "stdout",
     "output_type": "stream",
     "text": [
      "   Drift Rate Speed  Drift Rate Accuracy  Self-excitation  \\\n",
      "0          1.759773             1.123913         1.214204   \n",
      "\n",
      "   Boundary Separation Speed      Bacc  Non-decision Time Speed  \\\n",
      "0                   0.783298  2.418401                  0.30279   \n",
      "\n",
      "   Non-decision Time Accuracy  Participant         BIC  \n",
      "0                    0.361684           47  383.429916  \n"
     ]
    }
   ],
   "source": [
    "df_all = pd.DataFrame()\n",
    "for i in range(sample_size):\n",
    "    print(i)\n",
    "    path = os.path.join(data_dir+str(i+1)+\".csv\")\n",
    "    df = pd.read_csv(path, sep = \",\")\n",
    "    #df = df[df[\"cond\"]==SAT] # A condition\n",
    "    df = df[df[\"Time\"]<3]\n",
    "\n",
    "    samp = Sample.from_pandas_dataframe(df, rt_column_name=\"Time\", correct_column_name=\"Correct\")\n",
    "    df = get_OUM_result_sub_2v2a2ter(samp)\n",
    "    df_all = pd.concat((df_all,df))\n",
    "    print(df)\n",
    "df_OUM = df_all.copy()\n"
   ]
  },
  {
   "cell_type": "code",
   "execution_count": 7,
   "id": "3b05a53a",
   "metadata": {},
   "outputs": [],
   "source": [
    "df_OUM.to_csv(\"OUM2v2a2terresultEvans2017.csv\")"
   ]
  },
  {
   "cell_type": "code",
   "execution_count": 19,
   "id": "87e8797e",
   "metadata": {},
   "outputs": [
    {
     "data": {
      "text/plain": [
       "-0.2702205559399758"
      ]
     },
     "execution_count": 19,
     "metadata": {},
     "output_type": "execute_result"
    }
   ],
   "source": [
    "df_OUM[\"BIC\"].mean()"
   ]
  },
  {
   "cell_type": "code",
   "execution_count": null,
   "id": "66bb2313",
   "metadata": {},
   "outputs": [],
   "source": []
  }
 ],
 "metadata": {
  "kernelspec": {
   "display_name": "Python 3 (ipykernel)",
   "language": "python",
   "name": "python3"
  },
  "language_info": {
   "codemirror_mode": {
    "name": "ipython",
    "version": 3
   },
   "file_extension": ".py",
   "mimetype": "text/x-python",
   "name": "python",
   "nbconvert_exporter": "python",
   "pygments_lexer": "ipython3",
   "version": "3.7.15"
  }
 },
 "nbformat": 4,
 "nbformat_minor": 5
}
