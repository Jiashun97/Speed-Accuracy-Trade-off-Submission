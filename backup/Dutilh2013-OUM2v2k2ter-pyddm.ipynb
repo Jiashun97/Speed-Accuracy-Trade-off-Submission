{
 "cells": [
  {
   "cell_type": "code",
   "execution_count": 1,
   "id": "2cda49de",
   "metadata": {},
   "outputs": [],
   "source": [
    "%run SAT_help_functions.ipynb"
   ]
  },
  {
   "cell_type": "code",
   "execution_count": null,
   "id": "bc081cf9",
   "metadata": {},
   "outputs": [],
   "source": []
  },
  {
   "cell_type": "markdown",
   "id": "4bd26666",
   "metadata": {},
   "source": [
    "## OUM"
   ]
  },
  {
   "cell_type": "code",
   "execution_count": null,
   "id": "9ef6c434",
   "metadata": {},
   "outputs": [],
   "source": []
  },
  {
   "cell_type": "code",
   "execution_count": 2,
   "id": "e776257c",
   "metadata": {},
   "outputs": [],
   "source": [
    "data_dir = \"/Users/wangjiashun/Desktop/Reserach on SAT/datasets/Evans2021/Dutilh2013/dataBySubject/sub\"\n",
    "sample_size = 32\n",
    "SAT_conds = [\"speed\", \"accuracy\"]"
   ]
  },
  {
   "cell_type": "code",
   "execution_count": 3,
   "id": "2d56afe5",
   "metadata": {},
   "outputs": [],
   "source": [
    "\n",
    "class DriftBothSpeedAcc(Drift):\n",
    "    name = \"DriftBothSpeedAcc\"\n",
    "    required_parameters = [\"Vspeed\",\"Vacc\", \"Kspeed\", \"Kacc\"]\n",
    "    required_conditions = ['Cond']\n",
    "        \n",
    "    def get_drift(self, x, t, conditions, **kwargs):\n",
    "        if conditions['Cond'] == 'speed':\n",
    "            return self.Vspeed + x*self.Kspeed \n",
    "        elif conditions['Cond'] == 'accuracy':\n",
    "            return self.Vacc + x*self.Kacc\n",
    "        else: \n",
    "            print(\"Non-implemented SAT conditions\")"
   ]
  },
  {
   "cell_type": "code",
   "execution_count": 4,
   "id": "f434220f",
   "metadata": {},
   "outputs": [],
   "source": [
    "\n",
    "class NondecisionSpeedAcc(OverlayNonDecision):\n",
    "    name = \"DriftSpeedAcc\"\n",
    "    required_parameters = [\"tSpeed\", 'tAcc']\n",
    "    required_conditions = ['Cond']\n",
    "        \n",
    "    def get_nondecision_time(self, conditions, **kwargs):\n",
    "        if conditions['Cond'] == 'speed':\n",
    "            return self.tSpeed \n",
    "        elif conditions['Cond'] == 'accuracy':\n",
    "            return self.tAcc\n",
    "        else: \n",
    "            print(\"Non-implemented SAT conditions\")"
   ]
  },
  {
   "cell_type": "code",
   "execution_count": null,
   "id": "bbb278a6",
   "metadata": {},
   "outputs": [],
   "source": [
    "\n"
   ]
  },
  {
   "cell_type": "code",
   "execution_count": null,
   "id": "6e5e0074",
   "metadata": {},
   "outputs": [],
   "source": []
  },
  {
   "cell_type": "code",
   "execution_count": null,
   "id": "b1e0fe9b",
   "metadata": {},
   "outputs": [],
   "source": []
  },
  {
   "cell_type": "code",
   "execution_count": 5,
   "id": "fdb13001",
   "metadata": {
    "scrolled": true
   },
   "outputs": [
    {
     "name": "stderr",
     "output_type": "stream",
     "text": [
      "Warning: This function (from_pandas_dataframe()) is deprecated and will be removed in a future version of PyDDM.  Please use the choice_column_name argument instead.\n"
     ]
    },
    {
     "name": "stdout",
     "output_type": "stream",
     "text": [
      "0\n"
     ]
    },
    {
     "name": "stderr",
     "output_type": "stream",
     "text": [
      "Info: Params [ 0.20712918  0.91274209 10.          5.48185743  2.15319276  0.20392154\n",
      "  0.23846029] gave -81.53285151277986\n",
      "Warning: This function (from_pandas_dataframe()) is deprecated and will be removed in a future version of PyDDM.  Please use the choice_column_name argument instead.\n"
     ]
    },
    {
     "name": "stdout",
     "output_type": "stream",
     "text": [
      "   Drift Rate Speed  Drift Rate Accuracy  Self-excitation Speed  \\\n",
      "0          0.207129             0.912742                   10.0   \n",
      "\n",
      "   Self-excitation Accuracy  Boundary Separation  Non-decision Time Speed  \\\n",
      "0                  5.481857             2.153193                 0.203922   \n",
      "\n",
      "   Non-decision Time Accuracy        BIC  \n",
      "0                     0.23846 -81.532852  \n",
      "1\n"
     ]
    },
    {
     "name": "stderr",
     "output_type": "stream",
     "text": [
      "Info: Params [2.12308757 1.46398339 4.22622006 3.20971971 0.67088233 0.34584094\n",
      " 0.38511896] gave -200.50185568106048\n",
      "Warning: This function (from_pandas_dataframe()) is deprecated and will be removed in a future version of PyDDM.  Please use the choice_column_name argument instead.\n"
     ]
    },
    {
     "name": "stdout",
     "output_type": "stream",
     "text": [
      "   Drift Rate Speed  Drift Rate Accuracy  Self-excitation Speed  \\\n",
      "0          2.123088             1.463983                4.22622   \n",
      "\n",
      "   Self-excitation Accuracy  Boundary Separation  Non-decision Time Speed  \\\n",
      "0                   3.20972             0.670882                 0.345841   \n",
      "\n",
      "   Non-decision Time Accuracy         BIC  \n",
      "0                    0.385119 -200.501856  \n",
      "2\n"
     ]
    },
    {
     "name": "stderr",
     "output_type": "stream",
     "text": [
      "Info: Params [0.         0.         2.69005454 3.55053068 1.62568009 0.10828321\n",
      " 0.52899533] gave 571.0852909339856\n",
      "Warning: This function (from_pandas_dataframe()) is deprecated and will be removed in a future version of PyDDM.  Please use the choice_column_name argument instead.\n"
     ]
    },
    {
     "name": "stdout",
     "output_type": "stream",
     "text": [
      "   Drift Rate Speed  Drift Rate Accuracy  Self-excitation Speed  \\\n",
      "0               0.0                  0.0               2.690055   \n",
      "\n",
      "   Self-excitation Accuracy  Boundary Separation  Non-decision Time Speed  \\\n",
      "0                  3.550531              1.62568                 0.108283   \n",
      "\n",
      "   Non-decision Time Accuracy         BIC  \n",
      "0                    0.528995  571.085291  \n",
      "3\n"
     ]
    },
    {
     "name": "stderr",
     "output_type": "stream",
     "text": [
      "Info: Params [3.74426165 5.84092062 9.83234158 4.15021564 1.9873871  0.29541045\n",
      " 0.29599464] gave -201.44154322222377\n",
      "Warning: This function (from_pandas_dataframe()) is deprecated and will be removed in a future version of PyDDM.  Please use the choice_column_name argument instead.\n"
     ]
    },
    {
     "name": "stdout",
     "output_type": "stream",
     "text": [
      "   Drift Rate Speed  Drift Rate Accuracy  Self-excitation Speed  \\\n",
      "0          3.744262             5.840921               9.832342   \n",
      "\n",
      "   Self-excitation Accuracy  Boundary Separation  Non-decision Time Speed  \\\n",
      "0                  4.150216             1.987387                  0.29541   \n",
      "\n",
      "   Non-decision Time Accuracy         BIC  \n",
      "0                    0.295995 -201.441543  \n",
      "4\n"
     ]
    },
    {
     "name": "stderr",
     "output_type": "stream",
     "text": [
      "Info: Params [2.09997741 2.26218992 4.23651363 3.79998966 1.13883196 0.22887869\n",
      " 0.30687538] gave -91.73604186054712\n",
      "Warning: This function (from_pandas_dataframe()) is deprecated and will be removed in a future version of PyDDM.  Please use the choice_column_name argument instead.\n"
     ]
    },
    {
     "name": "stdout",
     "output_type": "stream",
     "text": [
      "   Drift Rate Speed  Drift Rate Accuracy  Self-excitation Speed  \\\n",
      "0          2.099977              2.26219               4.236514   \n",
      "\n",
      "   Self-excitation Accuracy  Boundary Separation  Non-decision Time Speed  \\\n",
      "0                   3.79999             1.138832                 0.228879   \n",
      "\n",
      "   Non-decision Time Accuracy        BIC  \n",
      "0                    0.306875 -91.736042  \n",
      "5\n"
     ]
    },
    {
     "name": "stderr",
     "output_type": "stream",
     "text": [
      "Info: Params [1.52880257 2.10087976 9.9755161  6.13881017 7.35981042 0.11195888\n",
      " 0.11242732] gave -235.93751525081532\n",
      "Warning: This function (from_pandas_dataframe()) is deprecated and will be removed in a future version of PyDDM.  Please use the choice_column_name argument instead.\n"
     ]
    },
    {
     "name": "stdout",
     "output_type": "stream",
     "text": [
      "   Drift Rate Speed  Drift Rate Accuracy  Self-excitation Speed  \\\n",
      "0          1.528803              2.10088               9.975516   \n",
      "\n",
      "   Self-excitation Accuracy  Boundary Separation  Non-decision Time Speed  \\\n",
      "0                   6.13881              7.35981                 0.111959   \n",
      "\n",
      "   Non-decision Time Accuracy         BIC  \n",
      "0                    0.112427 -235.937515  \n",
      "6\n"
     ]
    },
    {
     "name": "stderr",
     "output_type": "stream",
     "text": [
      "Info: Params [1.2430265  4.43196906 9.98548312 7.28995271 4.13316624 0.11399712\n",
      " 0.27866658] gave -472.92954506578843\n",
      "Warning: This function (from_pandas_dataframe()) is deprecated and will be removed in a future version of PyDDM.  Please use the choice_column_name argument instead.\n"
     ]
    },
    {
     "name": "stdout",
     "output_type": "stream",
     "text": [
      "   Drift Rate Speed  Drift Rate Accuracy  Self-excitation Speed  \\\n",
      "0          1.243027             4.431969               9.985483   \n",
      "\n",
      "   Self-excitation Accuracy  Boundary Separation  Non-decision Time Speed  \\\n",
      "0                  7.289953             4.133166                 0.113997   \n",
      "\n",
      "   Non-decision Time Accuracy         BIC  \n",
      "0                    0.278667 -472.929545  \n",
      "7\n"
     ]
    },
    {
     "name": "stderr",
     "output_type": "stream",
     "text": [
      "Info: Params [1.39357812 2.17933867 6.05102018 5.08394876 1.65867222 0.16698443\n",
      " 0.21753675] gave -135.94621438798256\n",
      "Warning: This function (from_pandas_dataframe()) is deprecated and will be removed in a future version of PyDDM.  Please use the choice_column_name argument instead.\n"
     ]
    },
    {
     "name": "stdout",
     "output_type": "stream",
     "text": [
      "   Drift Rate Speed  Drift Rate Accuracy  Self-excitation Speed  \\\n",
      "0          1.393578             2.179339                6.05102   \n",
      "\n",
      "   Self-excitation Accuracy  Boundary Separation  Non-decision Time Speed  \\\n",
      "0                  5.083949             1.658672                 0.166984   \n",
      "\n",
      "   Non-decision Time Accuracy         BIC  \n",
      "0                    0.217537 -135.946214  \n",
      "8\n"
     ]
    },
    {
     "name": "stderr",
     "output_type": "stream",
     "text": [
      "Info: Params [0.84518034 1.48472359 6.52190858 6.81887981 3.81054762 0.10596856\n",
      " 0.17075685] gave 73.14630536999215\n",
      "Warning: This function (from_pandas_dataframe()) is deprecated and will be removed in a future version of PyDDM.  Please use the choice_column_name argument instead.\n"
     ]
    },
    {
     "name": "stdout",
     "output_type": "stream",
     "text": [
      "   Drift Rate Speed  Drift Rate Accuracy  Self-excitation Speed  \\\n",
      "0           0.84518             1.484724               6.521909   \n",
      "\n",
      "   Self-excitation Accuracy  Boundary Separation  Non-decision Time Speed  \\\n",
      "0                   6.81888             3.810548                 0.105969   \n",
      "\n",
      "   Non-decision Time Accuracy        BIC  \n",
      "0                    0.170757  73.146305  \n",
      "9\n"
     ]
    },
    {
     "name": "stderr",
     "output_type": "stream",
     "text": [
      "Info: Params [7.73356848e-03 3.43792074e-01 8.03568423e+00 3.68157401e+00\n",
      " 1.27413292e+00 1.12138495e-01 1.95590721e-01] gave 264.9903626288689\n",
      "Warning: This function (from_pandas_dataframe()) is deprecated and will be removed in a future version of PyDDM.  Please use the choice_column_name argument instead.\n"
     ]
    },
    {
     "name": "stdout",
     "output_type": "stream",
     "text": [
      "   Drift Rate Speed  Drift Rate Accuracy  Self-excitation Speed  \\\n",
      "0          0.007734             0.343792               8.035684   \n",
      "\n",
      "   Self-excitation Accuracy  Boundary Separation  Non-decision Time Speed  \\\n",
      "0                  3.681574             1.274133                 0.112138   \n",
      "\n",
      "   Non-decision Time Accuracy         BIC  \n",
      "0                    0.195591  264.990363  \n",
      "10\n"
     ]
    },
    {
     "name": "stderr",
     "output_type": "stream",
     "text": [
      "Info: Params [3.26698535 4.05981241 8.16737891 6.84196048 7.89018897 0.20140937\n",
      " 0.20783462] gave -92.14544570205412\n",
      "Warning: This function (from_pandas_dataframe()) is deprecated and will be removed in a future version of PyDDM.  Please use the choice_column_name argument instead.\n"
     ]
    },
    {
     "name": "stdout",
     "output_type": "stream",
     "text": [
      "   Drift Rate Speed  Drift Rate Accuracy  Self-excitation Speed  \\\n",
      "0          3.266985             4.059812               8.167379   \n",
      "\n",
      "   Self-excitation Accuracy  Boundary Separation  Non-decision Time Speed  \\\n",
      "0                   6.84196             7.890189                 0.201409   \n",
      "\n",
      "   Non-decision Time Accuracy        BIC  \n",
      "0                    0.207835 -92.145446  \n",
      "11\n"
     ]
    },
    {
     "name": "stderr",
     "output_type": "stream",
     "text": [
      "Info: Params [2.42238252 2.86260557 8.51578119 2.91272806 0.85917893 0.31200149\n",
      " 0.32658004] gave -692.9473524157154\n",
      "Warning: This function (from_pandas_dataframe()) is deprecated and will be removed in a future version of PyDDM.  Please use the choice_column_name argument instead.\n"
     ]
    },
    {
     "name": "stdout",
     "output_type": "stream",
     "text": [
      "   Drift Rate Speed  Drift Rate Accuracy  Self-excitation Speed  \\\n",
      "0          2.422383             2.862606               8.515781   \n",
      "\n",
      "   Self-excitation Accuracy  Boundary Separation  Non-decision Time Speed  \\\n",
      "0                  2.912728             0.859179                 0.312001   \n",
      "\n",
      "   Non-decision Time Accuracy         BIC  \n",
      "0                     0.32658 -692.947352  \n",
      "12\n"
     ]
    },
    {
     "name": "stderr",
     "output_type": "stream",
     "text": [
      "Info: Params [4.00179255 3.01048008 6.52684216 8.78430833 1.02392453 0.2995207\n",
      " 0.30514472] gave -660.2346133733142\n",
      "Warning: This function (from_pandas_dataframe()) is deprecated and will be removed in a future version of PyDDM.  Please use the choice_column_name argument instead.\n"
     ]
    },
    {
     "name": "stdout",
     "output_type": "stream",
     "text": [
      "   Drift Rate Speed  Drift Rate Accuracy  Self-excitation Speed  \\\n",
      "0          4.001793              3.01048               6.526842   \n",
      "\n",
      "   Self-excitation Accuracy  Boundary Separation  Non-decision Time Speed  \\\n",
      "0                  8.784308             1.023925                 0.299521   \n",
      "\n",
      "   Non-decision Time Accuracy         BIC  \n",
      "0                    0.305145 -660.234613  \n",
      "13\n"
     ]
    },
    {
     "name": "stderr",
     "output_type": "stream",
     "text": [
      "Info: Params [1.53605351 3.25775084 6.43316533 1.20122512 0.77451325 0.23865958\n",
      " 0.31571832] gave -412.92113962988253\n",
      "Warning: This function (from_pandas_dataframe()) is deprecated and will be removed in a future version of PyDDM.  Please use the choice_column_name argument instead.\n"
     ]
    },
    {
     "name": "stdout",
     "output_type": "stream",
     "text": [
      "   Drift Rate Speed  Drift Rate Accuracy  Self-excitation Speed  \\\n",
      "0          1.536054             3.257751               6.433165   \n",
      "\n",
      "   Self-excitation Accuracy  Boundary Separation  Non-decision Time Speed  \\\n",
      "0                  1.201225             0.774513                  0.23866   \n",
      "\n",
      "   Non-decision Time Accuracy        BIC  \n",
      "0                    0.315718 -412.92114  \n",
      "14\n"
     ]
    },
    {
     "name": "stderr",
     "output_type": "stream",
     "text": [
      "Info: Params [0.41829208 0.07762403 9.84656338 5.43237441 4.85356703 0.17186258\n",
      " 0.10512072] gave 348.38166097584076\n",
      "Warning: This function (from_pandas_dataframe()) is deprecated and will be removed in a future version of PyDDM.  Please use the choice_column_name argument instead.\n"
     ]
    },
    {
     "name": "stdout",
     "output_type": "stream",
     "text": [
      "   Drift Rate Speed  Drift Rate Accuracy  Self-excitation Speed  \\\n",
      "0          0.418292             0.077624               9.846563   \n",
      "\n",
      "   Self-excitation Accuracy  Boundary Separation  Non-decision Time Speed  \\\n",
      "0                  5.432374             4.853567                 0.171863   \n",
      "\n",
      "   Non-decision Time Accuracy         BIC  \n",
      "0                    0.105121  348.381661  \n",
      "15\n"
     ]
    },
    {
     "name": "stderr",
     "output_type": "stream",
     "text": [
      "Info: Params [2.97663011 6.         8.0418212  2.10062071 0.99236797 0.32832856\n",
      " 0.35864725] gave -488.1614407617418\n",
      "Warning: This function (from_pandas_dataframe()) is deprecated and will be removed in a future version of PyDDM.  Please use the choice_column_name argument instead.\n"
     ]
    },
    {
     "name": "stdout",
     "output_type": "stream",
     "text": [
      "   Drift Rate Speed  Drift Rate Accuracy  Self-excitation Speed  \\\n",
      "0           2.97663                  6.0               8.041821   \n",
      "\n",
      "   Self-excitation Accuracy  Boundary Separation  Non-decision Time Speed  \\\n",
      "0                  2.100621             0.992368                 0.328329   \n",
      "\n",
      "   Non-decision Time Accuracy         BIC  \n",
      "0                    0.358647 -488.161441  \n",
      "16\n"
     ]
    },
    {
     "name": "stderr",
     "output_type": "stream",
     "text": [
      "Info: Params [0.50693397 1.84795578 6.05810438 2.66081681 1.22222412 0.12169675\n",
      " 0.22780225] gave 313.13676267197695\n",
      "Warning: This function (from_pandas_dataframe()) is deprecated and will be removed in a future version of PyDDM.  Please use the choice_column_name argument instead.\n"
     ]
    },
    {
     "name": "stdout",
     "output_type": "stream",
     "text": [
      "   Drift Rate Speed  Drift Rate Accuracy  Self-excitation Speed  \\\n",
      "0          0.506934             1.847956               6.058104   \n",
      "\n",
      "   Self-excitation Accuracy  Boundary Separation  Non-decision Time Speed  \\\n",
      "0                  2.660817             1.222224                 0.121697   \n",
      "\n",
      "   Non-decision Time Accuracy         BIC  \n",
      "0                    0.227802  313.136763  \n",
      "17\n"
     ]
    },
    {
     "name": "stderr",
     "output_type": "stream",
     "text": [
      "Info: Params [2.95829052 3.81287867 9.70951704 6.87154499 1.12598998 0.25826917\n",
      " 0.26560767] gave -1037.045747976807\n",
      "Warning: This function (from_pandas_dataframe()) is deprecated and will be removed in a future version of PyDDM.  Please use the choice_column_name argument instead.\n"
     ]
    },
    {
     "name": "stdout",
     "output_type": "stream",
     "text": [
      "   Drift Rate Speed  Drift Rate Accuracy  Self-excitation Speed  \\\n",
      "0          2.958291             3.812879               9.709517   \n",
      "\n",
      "   Self-excitation Accuracy  Boundary Separation  Non-decision Time Speed  \\\n",
      "0                  6.871545              1.12599                 0.258269   \n",
      "\n",
      "   Non-decision Time Accuracy          BIC  \n",
      "0                    0.265608 -1037.045748  \n",
      "18\n"
     ]
    },
    {
     "name": "stderr",
     "output_type": "stream",
     "text": [
      "Info: Params [1.69480539 2.85020297 6.15714627 4.37759907 0.69419763 0.26269322\n",
      " 0.29170281] gave -348.4417268218071\n",
      "Warning: This function (from_pandas_dataframe()) is deprecated and will be removed in a future version of PyDDM.  Please use the choice_column_name argument instead.\n"
     ]
    },
    {
     "name": "stdout",
     "output_type": "stream",
     "text": [
      "   Drift Rate Speed  Drift Rate Accuracy  Self-excitation Speed  \\\n",
      "0          1.694805             2.850203               6.157146   \n",
      "\n",
      "   Self-excitation Accuracy  Boundary Separation  Non-decision Time Speed  \\\n",
      "0                  4.377599             0.694198                 0.262693   \n",
      "\n",
      "   Non-decision Time Accuracy         BIC  \n",
      "0                    0.291703 -348.441727  \n",
      "19\n"
     ]
    },
    {
     "name": "stderr",
     "output_type": "stream",
     "text": [
      "Info: Params [ 1.68144446  3.33619338 10.          8.74033536  2.22758853  0.17857282\n",
      "  0.23126821] gave -962.2795686806351\n",
      "Warning: This function (from_pandas_dataframe()) is deprecated and will be removed in a future version of PyDDM.  Please use the choice_column_name argument instead.\n"
     ]
    },
    {
     "name": "stdout",
     "output_type": "stream",
     "text": [
      "   Drift Rate Speed  Drift Rate Accuracy  Self-excitation Speed  \\\n",
      "0          1.681444             3.336193                   10.0   \n",
      "\n",
      "   Self-excitation Accuracy  Boundary Separation  Non-decision Time Speed  \\\n",
      "0                  8.740335             2.227589                 0.178573   \n",
      "\n",
      "   Non-decision Time Accuracy         BIC  \n",
      "0                    0.231268 -962.279569  \n",
      "20\n"
     ]
    },
    {
     "name": "stderr",
     "output_type": "stream",
     "text": [
      "Info: Params [ 0.45134594  2.54298175 10.          5.85662539  1.33444344  0.16533277\n",
      "  0.26556017] gave -408.70187498420336\n",
      "Warning: This function (from_pandas_dataframe()) is deprecated and will be removed in a future version of PyDDM.  Please use the choice_column_name argument instead.\n"
     ]
    },
    {
     "name": "stdout",
     "output_type": "stream",
     "text": [
      "   Drift Rate Speed  Drift Rate Accuracy  Self-excitation Speed  \\\n",
      "0          0.451346             2.542982                   10.0   \n",
      "\n",
      "   Self-excitation Accuracy  Boundary Separation  Non-decision Time Speed  \\\n",
      "0                  5.856625             1.334443                 0.165333   \n",
      "\n",
      "   Non-decision Time Accuracy         BIC  \n",
      "0                     0.26556 -408.701875  \n",
      "21\n"
     ]
    },
    {
     "name": "stderr",
     "output_type": "stream",
     "text": [
      "Info: Params [0.35587499 1.33412014 9.04150751 6.92160051 3.00357556 0.10496182\n",
      " 0.20908259] gave -14.739406228334062\n",
      "Warning: This function (from_pandas_dataframe()) is deprecated and will be removed in a future version of PyDDM.  Please use the choice_column_name argument instead.\n"
     ]
    },
    {
     "name": "stdout",
     "output_type": "stream",
     "text": [
      "   Drift Rate Speed  Drift Rate Accuracy  Self-excitation Speed  \\\n",
      "0          0.355875              1.33412               9.041508   \n",
      "\n",
      "   Self-excitation Accuracy  Boundary Separation  Non-decision Time Speed  \\\n",
      "0                  6.921601             3.003576                 0.104962   \n",
      "\n",
      "   Non-decision Time Accuracy        BIC  \n",
      "0                    0.209083 -14.739406  \n",
      "22\n"
     ]
    },
    {
     "name": "stderr",
     "output_type": "stream",
     "text": [
      "Info: Params [ 3.36368887  6.         10.          9.07401701  2.90798376  0.22792728\n",
      "  0.31424802] gave -258.4703345623242\n",
      "Warning: This function (from_pandas_dataframe()) is deprecated and will be removed in a future version of PyDDM.  Please use the choice_column_name argument instead.\n"
     ]
    },
    {
     "name": "stdout",
     "output_type": "stream",
     "text": [
      "   Drift Rate Speed  Drift Rate Accuracy  Self-excitation Speed  \\\n",
      "0          3.363689                  6.0                   10.0   \n",
      "\n",
      "   Self-excitation Accuracy  Boundary Separation  Non-decision Time Speed  \\\n",
      "0                  9.074017             2.907984                 0.227927   \n",
      "\n",
      "   Non-decision Time Accuracy         BIC  \n",
      "0                    0.314248 -258.470335  \n",
      "23\n"
     ]
    },
    {
     "name": "stderr",
     "output_type": "stream",
     "text": [
      "Info: Params [ 1.9088169   3.55129338 10.         10.          0.80937023  0.21364418\n",
      "  0.29624963] gave -1158.3444796049496\n",
      "Warning: This function (from_pandas_dataframe()) is deprecated and will be removed in a future version of PyDDM.  Please use the choice_column_name argument instead.\n"
     ]
    },
    {
     "name": "stdout",
     "output_type": "stream",
     "text": [
      "   Drift Rate Speed  Drift Rate Accuracy  Self-excitation Speed  \\\n",
      "0          1.908817             3.551293                   10.0   \n",
      "\n",
      "   Self-excitation Accuracy  Boundary Separation  Non-decision Time Speed  \\\n",
      "0                      10.0              0.80937                 0.213644   \n",
      "\n",
      "   Non-decision Time Accuracy         BIC  \n",
      "0                     0.29625 -1158.34448  \n",
      "24\n"
     ]
    },
    {
     "name": "stderr",
     "output_type": "stream",
     "text": [
      "Info: Params [ 2.33715564  4.18831682 10.          9.212348    1.1716076   0.24449409\n",
      "  0.31027079] gave -916.606868390757\n",
      "Warning: This function (from_pandas_dataframe()) is deprecated and will be removed in a future version of PyDDM.  Please use the choice_column_name argument instead.\n"
     ]
    },
    {
     "name": "stdout",
     "output_type": "stream",
     "text": [
      "   Drift Rate Speed  Drift Rate Accuracy  Self-excitation Speed  \\\n",
      "0          2.337156             4.188317                   10.0   \n",
      "\n",
      "   Self-excitation Accuracy  Boundary Separation  Non-decision Time Speed  \\\n",
      "0                  9.212348             1.171608                 0.244494   \n",
      "\n",
      "   Non-decision Time Accuracy         BIC  \n",
      "0                    0.310271 -916.606868  \n",
      "25\n"
     ]
    },
    {
     "name": "stderr",
     "output_type": "stream",
     "text": [
      "Info: Params [ 0.75902717  2.89790224 10.          9.71956658  2.49785355  0.10162407\n",
      "  0.23183009] gave -631.9598829180214\n",
      "Warning: This function (from_pandas_dataframe()) is deprecated and will be removed in a future version of PyDDM.  Please use the choice_column_name argument instead.\n"
     ]
    },
    {
     "name": "stdout",
     "output_type": "stream",
     "text": [
      "   Drift Rate Speed  Drift Rate Accuracy  Self-excitation Speed  \\\n",
      "0          0.759027             2.897902                   10.0   \n",
      "\n",
      "   Self-excitation Accuracy  Boundary Separation  Non-decision Time Speed  \\\n",
      "0                  9.719567             2.497854                 0.101624   \n",
      "\n",
      "   Non-decision Time Accuracy         BIC  \n",
      "0                     0.23183 -631.959883  \n",
      "26\n"
     ]
    },
    {
     "name": "stderr",
     "output_type": "stream",
     "text": [
      "Info: Params [5.93008353 3.17169517 4.96758855 9.79538475 6.12079796 0.10830715\n",
      " 0.1876907 ] gave -251.47655976065016\n",
      "Warning: This function (from_pandas_dataframe()) is deprecated and will be removed in a future version of PyDDM.  Please use the choice_column_name argument instead.\n"
     ]
    },
    {
     "name": "stdout",
     "output_type": "stream",
     "text": [
      "   Drift Rate Speed  Drift Rate Accuracy  Self-excitation Speed  \\\n",
      "0          5.930084             3.171695               4.967589   \n",
      "\n",
      "   Self-excitation Accuracy  Boundary Separation  Non-decision Time Speed  \\\n",
      "0                  9.795385             6.120798                 0.108307   \n",
      "\n",
      "   Non-decision Time Accuracy        BIC  \n",
      "0                    0.187691 -251.47656  \n",
      "27\n"
     ]
    },
    {
     "name": "stderr",
     "output_type": "stream",
     "text": [
      "Info: Params [ 2.44814161  4.10531903  8.59411866 10.          0.76956752  0.24646302\n",
      "  0.29185208] gave -955.0370086168505\n",
      "Warning: This function (from_pandas_dataframe()) is deprecated and will be removed in a future version of PyDDM.  Please use the choice_column_name argument instead.\n"
     ]
    },
    {
     "name": "stdout",
     "output_type": "stream",
     "text": [
      "   Drift Rate Speed  Drift Rate Accuracy  Self-excitation Speed  \\\n",
      "0          2.448142             4.105319               8.594119   \n",
      "\n",
      "   Self-excitation Accuracy  Boundary Separation  Non-decision Time Speed  \\\n",
      "0                      10.0             0.769568                 0.246463   \n",
      "\n",
      "   Non-decision Time Accuracy         BIC  \n",
      "0                    0.291852 -955.037009  \n",
      "28\n"
     ]
    },
    {
     "name": "stderr",
     "output_type": "stream",
     "text": [
      "Info: Params [ 2.55658592  3.44885959 10.         10.          1.21325635  0.22603956\n",
      "  0.26833817] gave -936.0710455125658\n",
      "Warning: This function (from_pandas_dataframe()) is deprecated and will be removed in a future version of PyDDM.  Please use the choice_column_name argument instead.\n"
     ]
    },
    {
     "name": "stdout",
     "output_type": "stream",
     "text": [
      "   Drift Rate Speed  Drift Rate Accuracy  Self-excitation Speed  \\\n",
      "0          2.556586              3.44886                   10.0   \n",
      "\n",
      "   Self-excitation Accuracy  Boundary Separation  Non-decision Time Speed  \\\n",
      "0                      10.0             1.213256                  0.22604   \n",
      "\n",
      "   Non-decision Time Accuracy         BIC  \n",
      "0                    0.268338 -936.071046  \n",
      "29\n"
     ]
    },
    {
     "name": "stderr",
     "output_type": "stream",
     "text": [
      "Info: Params [3.18087255 2.90410166 7.34211159 5.99560888 0.76993376 0.31814426\n",
      " 0.31912301] gave -800.2292890286359\n",
      "Warning: This function (from_pandas_dataframe()) is deprecated and will be removed in a future version of PyDDM.  Please use the choice_column_name argument instead.\n"
     ]
    },
    {
     "name": "stdout",
     "output_type": "stream",
     "text": [
      "   Drift Rate Speed  Drift Rate Accuracy  Self-excitation Speed  \\\n",
      "0          3.180873             2.904102               7.342112   \n",
      "\n",
      "   Self-excitation Accuracy  Boundary Separation  Non-decision Time Speed  \\\n",
      "0                  5.995609             0.769934                 0.318144   \n",
      "\n",
      "   Non-decision Time Accuracy         BIC  \n",
      "0                    0.319123 -800.229289  \n",
      "30\n"
     ]
    },
    {
     "name": "stderr",
     "output_type": "stream",
     "text": [
      "Info: Params [1.71243385 4.37884125 9.49354339 7.6403187  2.35215766 0.1858945\n",
      " 0.24152358] gave -356.3679767395971\n",
      "Warning: This function (from_pandas_dataframe()) is deprecated and will be removed in a future version of PyDDM.  Please use the choice_column_name argument instead.\n"
     ]
    },
    {
     "name": "stdout",
     "output_type": "stream",
     "text": [
      "   Drift Rate Speed  Drift Rate Accuracy  Self-excitation Speed  \\\n",
      "0          1.712434             4.378841               9.493543   \n",
      "\n",
      "   Self-excitation Accuracy  Boundary Separation  Non-decision Time Speed  \\\n",
      "0                  7.640319             2.352158                 0.185894   \n",
      "\n",
      "   Non-decision Time Accuracy         BIC  \n",
      "0                    0.241524 -356.367977  \n",
      "31\n"
     ]
    },
    {
     "name": "stderr",
     "output_type": "stream",
     "text": [
      "Info: Params [ 2.02630878  4.32691981 10.          5.94881312  0.9611325   0.24938958\n",
      "  0.28836588] gave -1370.0822511566714\n"
     ]
    },
    {
     "name": "stdout",
     "output_type": "stream",
     "text": [
      "   Drift Rate Speed  Drift Rate Accuracy  Self-excitation Speed  \\\n",
      "0          2.026309              4.32692                   10.0   \n",
      "\n",
      "   Self-excitation Accuracy  Boundary Separation  Non-decision Time Speed  \\\n",
      "0                  5.948813             0.961132                  0.24939   \n",
      "\n",
      "   Non-decision Time Accuracy          BIC  \n",
      "0                    0.288366 -1370.082251  \n"
     ]
    }
   ],
   "source": [
    "df_all = pd.DataFrame()\n",
    "for i in range(sample_size):\n",
    "    print(i)\n",
    "    path = os.path.join(data_dir+str(i+1)+\".csv\")\n",
    "    df = pd.read_csv(path, sep = \",\")\n",
    "    #df = df[df[\"cond\"]==SAT] # A condition\n",
    "    df = df[df[\"Time\"]<5]\n",
    "\n",
    "    samp = Sample.from_pandas_dataframe(df, rt_column_name=\"Time\", correct_column_name=\"Correct\")\n",
    "    df = get_OUM_result_sub_2v2k2ter(samp)\n",
    "    df_all = pd.concat((df_all,df))\n",
    "    print(df)\n",
    "df_OUM = df_all.copy()\n"
   ]
  },
  {
   "cell_type": "code",
   "execution_count": 6,
   "id": "3b05a53a",
   "metadata": {},
   "outputs": [],
   "source": [
    "df_OUM.to_csv(\"OUM2v2k2terresultDutilh2013.csv\")"
   ]
  },
  {
   "cell_type": "code",
   "execution_count": 7,
   "id": "87e8797e",
   "metadata": {},
   "outputs": [
    {
     "data": {
      "text/plain": [
       "-393.79841241456415"
      ]
     },
     "execution_count": 7,
     "metadata": {},
     "output_type": "execute_result"
    }
   ],
   "source": [
    "df_OUM[\"BIC\"].mean()"
   ]
  },
  {
   "cell_type": "code",
   "execution_count": null,
   "id": "db096ad0",
   "metadata": {},
   "outputs": [],
   "source": []
  }
 ],
 "metadata": {
  "kernelspec": {
   "display_name": "Python 3 (ipykernel)",
   "language": "python",
   "name": "python3"
  },
  "language_info": {
   "codemirror_mode": {
    "name": "ipython",
    "version": 3
   },
   "file_extension": ".py",
   "mimetype": "text/x-python",
   "name": "python",
   "nbconvert_exporter": "python",
   "pygments_lexer": "ipython3",
   "version": "3.11.4"
  }
 },
 "nbformat": 4,
 "nbformat_minor": 5
}
