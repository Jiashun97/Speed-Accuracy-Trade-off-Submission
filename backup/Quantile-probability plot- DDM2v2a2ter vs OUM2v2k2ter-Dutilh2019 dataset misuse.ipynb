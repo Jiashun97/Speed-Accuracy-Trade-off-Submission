{
 "cells": [
  {
   "cell_type": "code",
   "execution_count": 1,
   "id": "cbd5cb6a",
   "metadata": {},
   "outputs": [],
   "source": [
    "%run SAT_help_functions.ipynb\n",
    "%matplotlib inline"
   ]
  },
  {
   "cell_type": "code",
   "execution_count": null,
   "id": "d5454e0d",
   "metadata": {},
   "outputs": [],
   "source": []
  },
  {
   "cell_type": "code",
   "execution_count": null,
   "id": "85762052",
   "metadata": {},
   "outputs": [],
   "source": []
  },
  {
   "cell_type": "code",
   "execution_count": null,
   "id": "fde3829c",
   "metadata": {},
   "outputs": [],
   "source": [
    "'/Users/wangjiashun/Desktop/Reserach on SAT/datasets/Evans2021/Dutilh2019'"
   ]
  },
  {
   "cell_type": "code",
   "execution_count": 27,
   "id": "4fb9b732",
   "metadata": {},
   "outputs": [
    {
     "data": {
      "text/plain": [
       "0.93"
      ]
     },
     "execution_count": 27,
     "metadata": {},
     "output_type": "execute_result"
    }
   ],
   "source": [
    "df.loc[df['cond']=='A']['correct'].mean()\n"
   ]
  },
  {
   "cell_type": "code",
   "execution_count": 28,
   "id": "c81eb658",
   "metadata": {},
   "outputs": [
    {
     "data": {
      "text/plain": [
       "0.895"
      ]
     },
     "execution_count": 28,
     "metadata": {},
     "output_type": "execute_result"
    }
   ],
   "source": [
    "df.loc[df['cond']=='B']['correct'].mean()"
   ]
  },
  {
   "cell_type": "code",
   "execution_count": 2,
   "id": "3c56e9bb",
   "metadata": {},
   "outputs": [],
   "source": [
    "data_dir = '/Users/wangjiashun/Desktop/Reserach on SAT/datasets/Dutilh2019/validation_text_data/exp_3/pp'\n",
    "sample_size = 20\n",
    "correct = 'correct'\n",
    "corrects = [True, False]\n",
    "cond = 'cond' \n",
    "conds = ['A', 'B']\n",
    "rt = 'rt'\n",
    "\n",
    "model = 'DDM2v2a2ter'\n",
    "dataset = 'Dutilh2019'\n",
    "params_all = pd.read_csv(model+\"result\"+dataset+\".csv\")# .drop(labels=3, axis=0)"
   ]
  },
  {
   "cell_type": "code",
   "execution_count": 3,
   "id": "e9b8d412",
   "metadata": {},
   "outputs": [],
   "source": [
    "def get_RT_quantile_sub(df, correct, corrects, cond, conds, rt, quantiles = [.1, .3, .5, .7, .9]):\n",
    "    \n",
    "    # RT quantiles\n",
    "    df_cor = df.loc[df[correct]==corrects[0]]\n",
    "    RT_cor_s = df_cor.loc[df_cor[cond]==conds[0]][rt].quantile(q=quantiles)\n",
    "    RT_cor_a = df_cor.loc[df_cor[cond]==conds[1]][rt].quantile(q=quantiles)\n",
    "\n",
    "    df_err = df.loc[df[correct]==corrects[1]]\n",
    "    RT_err_s = df_err.loc[df_err[cond]==conds[0]][rt].quantile(q=quantiles)\n",
    "    RT_err_a = df_err.loc[df_err[cond]==conds[1]][rt].quantile(q=quantiles)\n",
    "    \n",
    "    # number of trials\n",
    "    num_cor_s = len(df_cor.loc[df_cor[cond]==conds[0]])\n",
    "    num_cor_a = len(df_cor.loc[df_cor[cond]==conds[1]])\n",
    "\n",
    "    num_err_s = len(df_err.loc[df_err[cond]==conds[0]])\n",
    "    num_err_a = len(df_err.loc[df_err[cond]==conds[1]])\n",
    "    \n",
    "    return RT_cor_s, RT_cor_a, RT_err_s, RT_err_a, [num_cor_s,num_cor_a,num_err_s,num_err_a]\n",
    "\n",
    "#get_RT_quantile_sub(df = df, rt = rt, correct = correct, corrects = corrects, cond = cond, conds = conds)"
   ]
  },
  {
   "cell_type": "code",
   "execution_count": null,
   "id": "b95b2b87",
   "metadata": {},
   "outputs": [],
   "source": []
  },
  {
   "cell_type": "code",
   "execution_count": null,
   "id": "c4469014",
   "metadata": {},
   "outputs": [],
   "source": []
  },
  {
   "cell_type": "code",
   "execution_count": 41,
   "id": "83304fb6",
   "metadata": {},
   "outputs": [],
   "source": [
    "def get_RT_quantile(data_dir, sample_size, correct, corrects, cond, conds, rt, quantiles = [.1, .3, .5, .7, .9]):\n",
    "\n",
    "    RT_cor_ss, RT_cor_as, RT_err_ss, RT_err_as, nums = np.zeros((sample_size,5)),np.zeros((sample_size,5)),np.zeros((sample_size,5)),np.zeros((sample_size,5)),np.zeros((sample_size,4))\n",
    "    for i in range(sample_size):\n",
    "        path = os.path.join(data_dir+str(i+1)+\".txt\")\n",
    "        df = pd.read_csv(path, sep = \" \")\n",
    "        #print(df.loc[df['cond']=='A']['correct'].mean())\n",
    "        #print(df.loc[df['cond']=='B']['correct'].mean())\n",
    "        #print(df.loc[df['cond']=='A']['rt'].mean())\n",
    "        #print(df.loc[df['cond']=='B']['rt'].mean())\n",
    "        RT_cor_s, RT_cor_a, RT_err_s, RT_err_a, num = get_RT_quantile_sub(\n",
    "            df = df, rt = rt,\n",
    "            correct = correct, corrects = corrects,\n",
    "            cond = cond, conds = conds)\n",
    "        #print(RT_cor_s)\n",
    "        RT_cor_ss[i,:] = RT_cor_s\n",
    "        RT_cor_as[i,:] = RT_cor_a\n",
    "        RT_err_ss[i,:] = RT_err_s\n",
    "        RT_err_as[i,:] = RT_err_a\n",
    "        nums[i,:] = num\n",
    "\n",
    "    #print(nums)\n",
    "    \n",
    "    \n",
    "    return RT_cor_ss.mean(axis = 0), RT_cor_as.mean(axis = 0), RT_err_ss.mean(axis = 0), RT_err_as.mean(axis = 0), nums.mean(axis = 0)\n",
    "\n",
    "RT_cor_s, RT_cor_a, RT_err_s, RT_err_a, nums = get_RT_quantile(data_dir = data_dir,sample_size= sample_size, correct = correct, corrects = corrects,\n",
    "        cond = cond, conds = conds, rt = rt)"
   ]
  },
  {
   "cell_type": "code",
   "execution_count": 42,
   "id": "d9c0a9da",
   "metadata": {},
   "outputs": [
    {
     "data": {
      "text/plain": [
       "array([0.38153 , 0.44019 , 0.4844  , 0.538955, 0.63363 ])"
      ]
     },
     "execution_count": 42,
     "metadata": {},
     "output_type": "execute_result"
    }
   ],
   "source": [
    "RT_cor_s"
   ]
  },
  {
   "cell_type": "code",
   "execution_count": 43,
   "id": "3dd3b343",
   "metadata": {},
   "outputs": [
    {
     "data": {
      "text/plain": [
       "array([0.50352 , 0.588225, 0.6724  , 0.78973 , 1.099035])"
      ]
     },
     "execution_count": 43,
     "metadata": {},
     "output_type": "execute_result"
    }
   ],
   "source": [
    "RT_cor_a"
   ]
  },
  {
   "cell_type": "code",
   "execution_count": 44,
   "id": "5fc4f549",
   "metadata": {},
   "outputs": [
    {
     "data": {
      "text/plain": [
       "array([0.342445, 0.397155, 0.44205 , 0.49593 , 0.6065  ])"
      ]
     },
     "execution_count": 44,
     "metadata": {},
     "output_type": "execute_result"
    }
   ],
   "source": [
    "RT_err_s"
   ]
  },
  {
   "cell_type": "code",
   "execution_count": 45,
   "id": "042b0d16",
   "metadata": {},
   "outputs": [
    {
     "data": {
      "text/plain": [
       "array([0.50877 , 0.62842 , 0.754525, 0.947295, 1.37119 ])"
      ]
     },
     "execution_count": 45,
     "metadata": {},
     "output_type": "execute_result"
    }
   ],
   "source": [
    "RT_err_a"
   ]
  },
  {
   "cell_type": "code",
   "execution_count": null,
   "id": "1c2565da",
   "metadata": {},
   "outputs": [],
   "source": []
  },
  {
   "cell_type": "code",
   "execution_count": null,
   "id": "b6866647",
   "metadata": {},
   "outputs": [],
   "source": []
  },
  {
   "cell_type": "code",
   "execution_count": null,
   "id": "200efd39",
   "metadata": {},
   "outputs": [],
   "source": []
  },
  {
   "cell_type": "code",
   "execution_count": 5,
   "id": "a9e50d65",
   "metadata": {
    "scrolled": false
   },
   "outputs": [],
   "source": [
    "#params = np.array(params_all)[0,1:6]\n",
    "\n",
    "class DriftBothSpeedAcc(Drift):\n",
    "    name = \"DriftBothSpeedAcc\"\n",
    "    required_parameters = [\"Vspeed\",\"Vacc\", \"Kspeed\", \"Kacc\"]\n",
    "    required_conditions = ['cond']\n",
    "        \n",
    "    def get_drift(self, x, t, conditions, **kwargs):\n",
    "        if conditions['cond'] == 'A':\n",
    "            return self.Vspeed + x*self.Kspeed \n",
    "        elif conditions['cond'] == 'B':\n",
    "            return self.Vacc + x*self.Kacc\n",
    "        else: \n",
    "            print(\"Non-implemented SAT conditions\")\n",
    "            \n",
    "class DriftConstantSpeedAcc(Drift):\n",
    "    name = \"DriftConstantSpeedAcc\"\n",
    "    required_parameters = [\"Vspeed\",\"Vacc\"]\n",
    "    required_conditions = ['cond']\n",
    "        \n",
    "    def get_drift(self, x, t, conditions, **kwargs):\n",
    "        if conditions['cond'] == 'A':\n",
    "            return self.Vspeed\n",
    "        elif conditions['cond'] == 'B':\n",
    "            return self.Vacc\n",
    "        else: \n",
    "            print(\"Non-implemented SAT conditions\")\n",
    "\n",
    "class DriftExcitationSpeedAcc(Drift):\n",
    "    name = \"DriftSpeedAcc\"\n",
    "    required_parameters = [\"drift\", \"Kspeed\", \"Kacc\"]\n",
    "    required_conditions = ['cond']\n",
    "        \n",
    "    def get_drift(self, x, t, conditions, **kwargs):\n",
    "        if conditions['cond'] == 'A':\n",
    "            return self.drift + x*self.Kspeed \n",
    "        elif conditions['cond'] == 'B':\n",
    "            return self.drift + x*self.Kacc\n",
    "        else: \n",
    "            print(\"Non-implemented SAT conditions\")\n",
    "\n",
    "class BoundSpeedAcc(Bound):\n",
    "    name = \"BoundSpeedAcc\"\n",
    "    required_parameters = [\"Bspeed\", \"Bacc\"]\n",
    "    required_conditions = ['cond']\n",
    "    def get_bound(self, conditions, *args, **kwargs):\n",
    "        assert self.Bacc > 0\n",
    "        assert self.Bspeed > 0\n",
    "        if conditions['cond'] == 'A':\n",
    "            return self.Bspeed\n",
    "        elif conditions['cond'] == 'B':\n",
    "            return self.Bacc\n",
    "        else:\n",
    "            print(\"Non-implemented SAT conditions\")\n",
    "            \n",
    "class NondecisionSpeedAcc(OverlayNonDecision):\n",
    "    name = \"NondecisionSpeedAcc\"\n",
    "    required_parameters = [\"tSpeed\", 'tAcc']\n",
    "    required_conditions = ['cond']\n",
    "        \n",
    "    def get_nondecision_time(self, conditions, **kwargs):\n",
    "        if conditions['cond'] == 'A':\n",
    "            return self.tSpeed \n",
    "        elif conditions['cond'] == 'B':\n",
    "            return self.tAcc\n",
    "        else: \n",
    "            print(\"Non-implemented SAT conditions\")\n",
    "            \n",
    "def get_RT_quantile_DDM_sub(params, T_dur=3):\n",
    "\n",
    "    Vspeed,Vacc, Bspeed,Bacc,tSpeed,tAcc = params[0],params[1],params[2],params[3],params[4],params[5]\n",
    "\n",
    "    model = Model(name='Simple model (fitted)',\n",
    "                      drift=DriftConstantSpeedAcc(Vspeed=Vspeed, Vacc=Vacc), \n",
    "                      noise=NoiseConstant(noise=1),\n",
    "                      bound=BoundSpeedAcc(Bspeed=Bspeed,Bacc=Bacc),\n",
    "                      overlay=NondecisionSpeedAcc(tSpeed=tSpeed,tAcc=tAcc),\n",
    "                      dx=.001, dt=.001, T_dur=T_dur)\n",
    "    sol_s = model.solve({'cond':'A'})\n",
    "    samp_s = sol_s.resample(1000)\n",
    "    data_s = samp_s.to_pandas_dataframe(drop_undecided = True)\n",
    "\n",
    "    sol_a = model.solve({'cond':'B'})\n",
    "    samp_a = sol_a.resample(1000)\n",
    "    data_a = samp_a.to_pandas_dataframe(drop_undecided = True)\n",
    "\n",
    "    data = pd.concat((data_s, data_a))\n",
    "\n",
    "    return get_RT_quantile_sub(data, 'correct', [1,0], 'cond', ['A', 'B'], 'RT')\n",
    "#get_RT_quantile_DDM_sub(params = np.array(params_all)[3,1:6])"
   ]
  },
  {
   "cell_type": "code",
   "execution_count": 6,
   "id": "3efa233f",
   "metadata": {},
   "outputs": [],
   "source": [
    "#np.array(params_all)[3,1:6]"
   ]
  },
  {
   "cell_type": "code",
   "execution_count": 7,
   "id": "71337541",
   "metadata": {},
   "outputs": [],
   "source": [
    "def get_RT_quantile_DDM(params_all, sample_size, correct, corrects, cond, conds, rt, quantiles = [.1, .3, .5, .7, .9]):\n",
    "\n",
    "    RT_cor_ss, RT_cor_as, RT_err_ss, RT_err_as, nums = np.zeros((sample_size,5)),np.zeros((sample_size,5)),np.zeros((sample_size,5)),np.zeros((sample_size,5)),np.zeros((sample_size,4))\n",
    "    for i in range(sample_size):\n",
    "        #print(i)\n",
    "        params = np.array(params_all)[i,1:7]\n",
    "        \n",
    "        \n",
    "        RT_cor_s, RT_cor_a, RT_err_s, RT_err_a, num = get_RT_quantile_DDM_sub(params = params)\n",
    "        #print(RT_err_a)\n",
    "        RT_cor_ss[i,:] = RT_cor_s\n",
    "        RT_cor_as[i,:] = RT_cor_a\n",
    "        RT_err_ss[i,:] = RT_err_s\n",
    "        RT_err_as[i,:] = RT_err_a\n",
    "        nums[i,:] = num\n",
    "    \n",
    "    return np.nanmean(RT_cor_ss, axis = 0), np.nanmean(RT_cor_as, axis = 0), np.nanmean(RT_err_ss, axis = 0), np.nanmean(RT_err_as, axis = 0), np.nanmean(nums, axis = 0)\n",
    "\n",
    "#RT_cor_s, RT_cor_a, RT_err_s, RT_err_a, nums = get_RT_quantile_DDM(params_all = params_all,sample_size= sample_size, correct = correct, corrects = corrects,\n",
    "#        cond = cond, conds = conds, rt = rt)"
   ]
  },
  {
   "cell_type": "code",
   "execution_count": 40,
   "id": "0b2cd8ed",
   "metadata": {
    "scrolled": false
   },
   "outputs": [
    {
     "name": "stdout",
     "output_type": "stream",
     "text": [
      "0.858\n",
      "0.8554999999999999\n"
     ]
    },
    {
     "data": {
      "text/plain": [
       "<AxesSubplot:xlabel='Probability of Response', ylabel='RT'>"
      ]
     },
     "execution_count": 40,
     "metadata": {},
     "output_type": "execute_result"
    },
    {
     "data": {
      "image/png": "[encoded data removed]",
      "text/plain": [
       "<Figure size 640x480 with 1 Axes>"
      ]
     },
     "metadata": {},
     "output_type": "display_data"
    }
   ],
   "source": [
    "def DDM_QP_plot(ax=None):\n",
    "    if ax is None:\n",
    "        ax = plt.gca()\n",
    "    \n",
    "    quantiles = [.1, .3, .5, .7, .9]\n",
    "    ## behavioral data\n",
    "    RT_cor_s, RT_cor_a, RT_err_s, RT_err_a, nums = get_RT_quantile(data_dir = data_dir,sample_size= sample_size, \n",
    "                                                                   correct = correct, corrects = corrects,\n",
    "                                                                   cond = cond, conds = conds, rt = rt)\n",
    "    \n",
    "    ax.plot([nums[0]/(nums[0]+nums[2])]*5, RT_cor_s,\"o\", color = '#008176', fillstyle = 'none')\n",
    "    ax.plot([nums[1]/(nums[1]+nums[3])]*5, RT_cor_a,\"o\", color = '#008176', fillstyle = 'none')\n",
    "    ax.plot([nums[2]/(nums[0]+nums[2])]*5, RT_err_s,\"o\", color = '#c1272d', fillstyle = 'none')\n",
    "    ax.plot([nums[3]/(nums[1]+nums[3])]*5, RT_err_a,\"o\", color = '#c1272d', fillstyle = 'none')\n",
    "    print(nums[0]/(nums[0]+nums[2]))\n",
    "    print(nums[1]/(nums[1]+nums[3]))\n",
    "    #print(nums)\n",
    "    ## data generated from model\n",
    "    RT_cor_s, RT_cor_a, RT_err_s, RT_err_a, nums = get_RT_quantile_DDM(params_all = params_all,sample_size= sample_size, \n",
    "                                                                   correct = correct, corrects = corrects,\n",
    "                                                                   cond = cond, conds = conds, rt = rt)\n",
    "    \n",
    "    ax.plot([nums[0]/(nums[0]+nums[2])]*5, RT_cor_s,\"x\", color = '#008176', fillstyle = 'none')\n",
    "    ax.plot([nums[1]/(nums[1]+nums[3])]*5, RT_cor_a,\"x\", color = '#008176', fillstyle = 'none')\n",
    "    ax.plot([nums[2]/(nums[0]+nums[2])]*5, RT_err_s,\"x\", color = '#c1272d', fillstyle = 'none')\n",
    "    ax.plot([nums[3]/(nums[1]+nums[3])]*5, RT_err_a,\"x\", color = '#c1272d', fillstyle = 'none')\n",
    "    \n",
    "    # limits\n",
    "    ax.set_xlim(0,1)\n",
    "    ax.set_ylim(0,)\n",
    "        \n",
    "    ax.set_xlabel(\"Probability of Response\")\n",
    "    ax.set_ylabel(\"RT\")\n",
    "    return(ax)\n",
    "DDM_QP_plot()"
   ]
  },
  {
   "cell_type": "code",
   "execution_count": null,
   "id": "54e1ff7c",
   "metadata": {},
   "outputs": [],
   "source": []
  },
  {
   "cell_type": "code",
   "execution_count": null,
   "id": "19ebdcbc",
   "metadata": {},
   "outputs": [],
   "source": []
  },
  {
   "cell_type": "code",
   "execution_count": null,
   "id": "96bb4081",
   "metadata": {},
   "outputs": [],
   "source": []
  },
  {
   "cell_type": "code",
   "execution_count": 8,
   "id": "04e71086",
   "metadata": {},
   "outputs": [],
   "source": [
    "model = 'OUM2k2ter'\n",
    "dataset = 'Evans2017'\n",
    "params_all = pd.read_csv(model+\"result\"+dataset+\".csv\")#.drop(labels=3, axis=0)\n",
    "\n",
    "#params = np.array(params_all)[0,1:7]\n",
    "\n",
    "            \n",
    "def get_RT_quantile_OUM2k2ter_sub(params, T_dur=3):\n",
    "\n",
    "    drift,Kspeed,Kacc,B,tSpeed,tAcc = params[0],params[1],params[2],params[3],params[4],params[5]\n",
    "\n",
    "    model = Model(name='Simple model (fitted)',\n",
    "                      drift=DriftExcitationSpeedAcc(drift=drift, Kspeed=Kspeed, Kacc=Kacc),                              \n",
    "                      noise=NoiseConstant(noise=1),\n",
    "                      bound=BoundConstant(B=B),\n",
    "                      overlay=NondecisionSpeedAcc(tSpeed=tSpeed,tAcc=tAcc),\n",
    "                      dx=.001, dt=.001, T_dur=T_dur)\n",
    "    sol_s = model.solve({'Cond':'Speed'})\n",
    "    samp_s = sol_s.resample(1000)\n",
    "    data_s = samp_s.to_pandas_dataframe(drop_undecided = True)\n",
    "\n",
    "    sol_a = model.solve({'Cond':'Accuracy'})\n",
    "    samp_a = sol_a.resample(1000)\n",
    "    data_a = samp_a.to_pandas_dataframe(drop_undecided = True)\n",
    "\n",
    "    data = pd.concat((data_s, data_a))\n",
    "\n",
    "    return get_RT_quantile_sub(data, 'correct', [1,0], 'Cond', ['Speed', 'Accuracy'], 'RT')\n",
    "#get_RT_quantile_OUM2k2ter_sub(params = np.array(params_all)[0,1:7])"
   ]
  },
  {
   "cell_type": "code",
   "execution_count": 9,
   "id": "104287bb",
   "metadata": {},
   "outputs": [],
   "source": [
    "def get_RT_quantile_OUM2k2ter(params_all, sample_size, correct, corrects, cond, conds, rt, quantiles = [.1, .3, .5, .7, .9]):\n",
    "\n",
    "    RT_cor_ss, RT_cor_as, RT_err_ss, RT_err_as, nums = np.zeros((sample_size,5)),np.zeros((sample_size,5)),np.zeros((sample_size,5)),np.zeros((sample_size,5)),np.zeros((sample_size,4))\n",
    "    for i in range(sample_size):\n",
    "\n",
    "        params = np.array(params_all)[i,1:7]\n",
    "        RT_cor_s, RT_cor_a, RT_err_s, RT_err_a, num = get_RT_quantile_OUM2k2ter_sub(params = params)\n",
    "        #print(RT_err_a)\n",
    "        RT_cor_ss[i,:] = RT_cor_s\n",
    "        RT_cor_as[i,:] = RT_cor_a\n",
    "        RT_err_ss[i,:] = RT_err_s\n",
    "        RT_err_as[i,:] = RT_err_a\n",
    "        nums[i,:] = num\n",
    "    \n",
    "    return np.nanmean(RT_cor_ss, axis = 0), np.nanmean(RT_cor_as, axis = 0), np.nanmean(RT_err_ss, axis = 0), np.nanmean(RT_err_as, axis = 0), np.nanmean(nums, axis = 0)\n",
    "\n",
    "#RT_cor_s, RT_cor_a, RT_err_s, RT_err_a, nums = get_RT_quantile_OUM2k2ter(params_all = params_all,sample_size= sample_size, correct = correct, corrects = corrects,\n",
    "#        cond = cond, conds = conds, rt = rt)"
   ]
  },
  {
   "cell_type": "code",
   "execution_count": 10,
   "id": "f8a398cc",
   "metadata": {},
   "outputs": [
    {
     "data": {
      "text/plain": [
       "<AxesSubplot:xlabel='Probability of Response', ylabel='RT'>"
      ]
     },
     "execution_count": 10,
     "metadata": {},
     "output_type": "execute_result"
    },
    {
     "data": {
      "image/png": "[encoded data removed]",
      "text/plain": [
       "<Figure size 640x480 with 1 Axes>"
      ]
     },
     "metadata": {},
     "output_type": "display_data"
    }
   ],
   "source": [
    "def OUM2k2ter_QP_plot(ax=None):\n",
    "    if ax is None:\n",
    "        ax = plt.gca()\n",
    "    \n",
    "    quantiles = [.1, .3, .5, .7, .9]\n",
    "    ## behavioral data\n",
    "    RT_cor_s, RT_cor_a, RT_err_s, RT_err_a, nums = get_RT_quantile(data_dir = data_dir,sample_size= sample_size, \n",
    "                                                                   correct = correct, corrects = corrects,\n",
    "                                                                   cond = cond, conds = conds, rt = rt)\n",
    "    \n",
    "    ax.plot([nums[0]/(nums[0]+nums[2])]*5, RT_cor_s,\"o\", color = '#008176', fillstyle = 'none')\n",
    "    ax.plot([nums[1]/(nums[1]+nums[3])]*5, RT_cor_a,\"o\", color = '#008176', fillstyle = 'none')\n",
    "    ax.plot([nums[2]/(nums[0]+nums[2])]*5, RT_err_s,\"o\", color = '#c1272d', fillstyle = 'none')\n",
    "    ax.plot([nums[3]/(nums[1]+nums[3])]*5, RT_err_a,\"o\", color = '#c1272d', fillstyle = 'none')\n",
    "    \n",
    "    ## data generated from model\n",
    "    RT_cor_s, RT_cor_a, RT_err_s, RT_err_a, nums = get_RT_quantile_OUM2k2ter(params_all = params_all,sample_size= sample_size, \n",
    "                                                                   correct = correct, corrects = corrects,\n",
    "                                                                   cond = cond, conds = conds, rt = rt)\n",
    "    \n",
    "    ax.plot([nums[0]/(nums[0]+nums[2])]*5, RT_cor_s,\"x\", color = '#008176', fillstyle = 'none')\n",
    "    ax.plot([nums[1]/(nums[1]+nums[3])]*5, RT_cor_a,\"x\", color = '#008176', fillstyle = 'none')\n",
    "    ax.plot([nums[2]/(nums[0]+nums[2])]*5, RT_err_s,\"x\", color = '#c1272d', fillstyle = 'none')\n",
    "    ax.plot([nums[3]/(nums[1]+nums[3])]*5, RT_err_a,\"x\", color = '#c1272d', fillstyle = 'none')\n",
    "    \n",
    "    # limits\n",
    "    ax.set_xlim(0,1)\n",
    "    ax.set_ylim(0,)\n",
    "        \n",
    "    ax.set_xlabel(\"Probability of Response\")\n",
    "    ax.set_ylabel(\"RT\")\n",
    "    return(ax)\n",
    "OUM2k2ter_QP_plot()"
   ]
  },
  {
   "cell_type": "code",
   "execution_count": null,
   "id": "665aa4f9",
   "metadata": {},
   "outputs": [],
   "source": []
  },
  {
   "cell_type": "code",
   "execution_count": null,
   "id": "034e33a3",
   "metadata": {},
   "outputs": [],
   "source": []
  },
  {
   "cell_type": "code",
   "execution_count": null,
   "id": "80277c93",
   "metadata": {},
   "outputs": [],
   "source": [
    "fig, axes = plt.subplots(1,2,figsize=(12, 6))\n",
    "DDM_QP_plot(ax=axes[0])\n",
    "#OUM2k2ter_QP_plot(ax=axes[1])\n"
   ]
  },
  {
   "cell_type": "code",
   "execution_count": 13,
   "id": "b57071f8",
   "metadata": {},
   "outputs": [],
   "source": [
    "model = 'OUM2v2k2ter'\n",
    "dataset = 'Evans2017'\n",
    "params_all = pd.read_csv(model+\"result\"+dataset+\".csv\")#.drop(labels=3, axis=0)\n"
   ]
  },
  {
   "cell_type": "code",
   "execution_count": null,
   "id": "e51f7d7e",
   "metadata": {},
   "outputs": [],
   "source": [
    "                      drift=DriftBothSpeedAcc(Vspeed = Fittable(minval=v[0], maxval=v[1]),\n",
    "                                              Vacc = Fittable(minval=v[0], maxval=v[1]),\n",
    "                                              Kspeed=Fittable(minval=k[0], maxval=k[1]),\n",
    "                                              Kacc=Fittable(minval=k[0], maxval=k[1])), \n",
    "                      noise=NoiseConstant(noise=1),\n",
    "                      bound=BoundConstant(B=Fittable(minval=a[0], maxval=a[1])),                      \n",
    "                      overlay=NondecisionSpeedAcc(\n",
    "                          tSpeed=Fittable(minval=ter[0], maxval=ter[1]),\n",
    "                          tAcc=Fittable(minval=ter[0], maxval=ter[1]),"
   ]
  },
  {
   "cell_type": "code",
   "execution_count": 16,
   "id": "4063512a",
   "metadata": {},
   "outputs": [],
   "source": []
  },
  {
   "cell_type": "code",
   "execution_count": null,
   "id": "9e44d850",
   "metadata": {},
   "outputs": [],
   "source": [
    "params = np.array(params_all)[0,1:8]"
   ]
  },
  {
   "cell_type": "code",
   "execution_count": 21,
   "id": "f20cc734",
   "metadata": {},
   "outputs": [],
   "source": [
    "\n",
    "            \n",
    "def get_RT_quantile_OUM2v2k2ter_sub(params, T_dur=3):\n",
    "\n",
    "    Vspeed,Vacc, Kspeed,Kacc,B,tSpeed,tAcc = params[0],params[1],params[2],params[3],params[4],params[5],params[6]\n",
    "\n",
    "    model = Model(name='Simple model (fitted)',\n",
    "                      drift=DriftBothSpeedAcc(Vspeed=Vspeed, Vacc=Vacc, Kspeed=Kspeed, Kacc=Kacc),                              \n",
    "                      noise=NoiseConstant(noise=1),\n",
    "                      bound=BoundConstant(B=B),\n",
    "                      overlay=NondecisionSpeedAcc(tSpeed=tSpeed,tAcc=tAcc),\n",
    "                      dx=.001, dt=.001, T_dur=T_dur)\n",
    "    sol_s = model.solve({'Cond':'Speed'})\n",
    "    samp_s = sol_s.resample(1000)\n",
    "    data_s = samp_s.to_pandas_dataframe(drop_undecided = True)\n",
    "\n",
    "    sol_a = model.solve({'Cond':'Accuracy'})\n",
    "    samp_a = sol_a.resample(1000)\n",
    "    data_a = samp_a.to_pandas_dataframe(drop_undecided = True)\n",
    "\n",
    "    data = pd.concat((data_s, data_a))\n",
    "\n",
    "    return get_RT_quantile_sub(data, 'correct', [1,0], 'Cond', ['Speed', 'Accuracy'], 'RT')\n",
    "#get_RT_quantile_OUM2v2k2ter_sub(params = np.array(params_all)[0,1:8])"
   ]
  },
  {
   "cell_type": "code",
   "execution_count": 22,
   "id": "7a542da2",
   "metadata": {},
   "outputs": [],
   "source": [
    "def get_RT_quantile_OUM2v2k2ter(params_all, sample_size, correct, corrects, cond, conds, rt, quantiles = [.1, .3, .5, .7, .9]):\n",
    "\n",
    "    RT_cor_ss, RT_cor_as, RT_err_ss, RT_err_as, nums = np.zeros((sample_size,5)),np.zeros((sample_size,5)),np.zeros((sample_size,5)),np.zeros((sample_size,5)),np.zeros((sample_size,4))\n",
    "    for i in range(sample_size):\n",
    "\n",
    "        params = np.array(params_all)[i,1:8]\n",
    "        RT_cor_s, RT_cor_a, RT_err_s, RT_err_a, num = get_RT_quantile_OUM2v2k2ter_sub(params = params)\n",
    "        #print(RT_err_a)\n",
    "        RT_cor_ss[i,:] = RT_cor_s\n",
    "        RT_cor_as[i,:] = RT_cor_a\n",
    "        RT_err_ss[i,:] = RT_err_s\n",
    "        RT_err_as[i,:] = RT_err_a\n",
    "        nums[i,:] = num\n",
    "    \n",
    "    return np.nanmean(RT_cor_ss, axis = 0), np.nanmean(RT_cor_as, axis = 0), np.nanmean(RT_err_ss, axis = 0), np.nanmean(RT_err_as, axis = 0), np.nanmean(nums, axis = 0)\n",
    "\n",
    "RT_cor_s, RT_cor_a, RT_err_s, RT_err_a, nums = get_RT_quantile_OUM2v2k2ter(params_all = params_all,sample_size= sample_size, correct = correct, corrects = corrects,\n",
    "        cond = cond, conds = conds, rt = rt)"
   ]
  },
  {
   "cell_type": "code",
   "execution_count": 23,
   "id": "094fcb45",
   "metadata": {},
   "outputs": [
    {
     "data": {
      "text/plain": [
       "<AxesSubplot:xlabel='Probability of Response', ylabel='RT'>"
      ]
     },
     "execution_count": 23,
     "metadata": {},
     "output_type": "execute_result"
    },
    {
     "data": {
      "image/png": "[encoded data removed]",
      "text/plain": [
       "<Figure size 640x480 with 1 Axes>"
      ]
     },
     "metadata": {},
     "output_type": "display_data"
    }
   ],
   "source": [
    "def OUM2v2k2ter_QP_plot(ax=None):\n",
    "    if ax is None:\n",
    "        ax = plt.gca()\n",
    "    \n",
    "    quantiles = [.1, .3, .5, .7, .9]\n",
    "    ## behavioral data\n",
    "    RT_cor_s, RT_cor_a, RT_err_s, RT_err_a, nums = get_RT_quantile(data_dir = data_dir,sample_size= sample_size, \n",
    "                                                                   correct = correct, corrects = corrects,\n",
    "                                                                   cond = cond, conds = conds, rt = rt)\n",
    "    \n",
    "    ax.plot([nums[0]/(nums[0]+nums[2])]*5, RT_cor_s,\"o\", color = '#008176', fillstyle = 'none')\n",
    "    ax.plot([nums[1]/(nums[1]+nums[3])]*5, RT_cor_a,\"o\", color = '#008176', fillstyle = 'none')\n",
    "    ax.plot([nums[2]/(nums[0]+nums[2])]*5, RT_err_s,\"o\", color = '#c1272d', fillstyle = 'none')\n",
    "    ax.plot([nums[3]/(nums[1]+nums[3])]*5, RT_err_a,\"o\", color = '#c1272d', fillstyle = 'none')\n",
    "    \n",
    "    ## data generated from model\n",
    "    RT_cor_s, RT_cor_a, RT_err_s, RT_err_a, nums = get_RT_quantile_OUM2v2k2ter(params_all = params_all,sample_size= sample_size, \n",
    "                                                                   correct = correct, corrects = corrects,\n",
    "                                                                   cond = cond, conds = conds, rt = rt)\n",
    "    \n",
    "    ax.plot([nums[0]/(nums[0]+nums[2])]*5, RT_cor_s,\"x\", color = '#008176', fillstyle = 'none')\n",
    "    ax.plot([nums[1]/(nums[1]+nums[3])]*5, RT_cor_a,\"x\", color = '#008176', fillstyle = 'none')\n",
    "    ax.plot([nums[2]/(nums[0]+nums[2])]*5, RT_err_s,\"x\", color = '#c1272d', fillstyle = 'none')\n",
    "    ax.plot([nums[3]/(nums[1]+nums[3])]*5, RT_err_a,\"x\", color = '#c1272d', fillstyle = 'none')\n",
    "    \n",
    "    # limits\n",
    "    ax.set_xlim(0,1)\n",
    "    ax.set_ylim(0,)\n",
    "        \n",
    "    ax.set_xlabel(\"Probability of Response\")\n",
    "    ax.set_ylabel(\"RT\")\n",
    "    return(ax)\n",
    "OUM2v2k2ter_QP_plot()"
   ]
  },
  {
   "cell_type": "code",
   "execution_count": null,
   "id": "a593d690",
   "metadata": {},
   "outputs": [],
   "source": []
  }
 ],
 "metadata": {
  "kernelspec": {
   "display_name": "Python 3 (ipykernel)",
   "language": "python",
   "name": "python3"
  },
  "language_info": {
   "codemirror_mode": {
    "name": "ipython",
    "version": 3
   },
   "file_extension": ".py",
   "mimetype": "text/x-python",
   "name": "python",
   "nbconvert_exporter": "python",
   "pygments_lexer": "ipython3",
   "version": "3.7.15"
  }
 },
 "nbformat": 4,
 "nbformat_minor": 5
}
