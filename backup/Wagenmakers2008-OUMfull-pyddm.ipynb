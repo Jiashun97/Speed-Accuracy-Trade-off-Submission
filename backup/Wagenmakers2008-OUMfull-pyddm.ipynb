{
 "cells": [
  {
   "cell_type": "code",
   "execution_count": 1,
   "id": "2cda49de",
   "metadata": {},
   "outputs": [],
   "source": [
    "%run SAT_help_functions.ipynb"
   ]
  },
  {
   "cell_type": "code",
   "execution_count": null,
   "id": "bc081cf9",
   "metadata": {},
   "outputs": [],
   "source": []
  },
  {
   "cell_type": "markdown",
   "id": "4bd26666",
   "metadata": {},
   "source": [
    "## OUM"
   ]
  },
  {
   "cell_type": "code",
   "execution_count": null,
   "id": "9ef6c434",
   "metadata": {},
   "outputs": [],
   "source": []
  },
  {
   "cell_type": "code",
   "execution_count": 2,
   "id": "e776257c",
   "metadata": {},
   "outputs": [],
   "source": [
    "data_dir = \"/Users/wangjiashun/Desktop/Reserach on SAT/datasets/Lexical Decision Data/SpeedAccData.csv\"\n",
    "sample_size = 16\n",
    "SAT_conds = [1,2]"
   ]
  },
  {
   "cell_type": "code",
   "execution_count": 3,
   "id": "2d56afe5",
   "metadata": {},
   "outputs": [],
   "source": [
    "\n",
    "class DriftBothSpeedAcc(Drift):\n",
    "    name = \"DriftBothSpeedAcc\"\n",
    "    required_parameters = [\"Vspeed\",\"Vacc\", \"Kspeed\", \"Kacc\"]\n",
    "    required_conditions = ['SAT']\n",
    "        \n",
    "    def get_drift(self, x, t, conditions, **kwargs):\n",
    "        if conditions['SAT'] == 1:\n",
    "            return self.Vspeed + x*self.Kspeed \n",
    "        elif conditions['SAT'] == 2:\n",
    "            return self.Vacc + x*self.Kacc\n",
    "        else: \n",
    "            print(\"Non-implemented SAT conditions\")"
   ]
  },
  {
   "cell_type": "code",
   "execution_count": 4,
   "id": "e154e2ad",
   "metadata": {},
   "outputs": [],
   "source": [
    "class BoundSpeedAcc(Bound):\n",
    "    name = \"BoundSpeedAcc\"\n",
    "    required_parameters = [\"Bspeed\", \"Bacc\"]\n",
    "    required_conditions = ['SAT']\n",
    "    def get_bound(self, conditions, *args, **kwargs):\n",
    "        assert self.Bacc > 0\n",
    "        assert self.Bspeed > 0\n",
    "        if conditions['SAT'] == 1:\n",
    "            return self.Bspeed\n",
    "        elif conditions['SAT'] == 2:\n",
    "            return self.Bacc\n",
    "        else:\n",
    "            print(\"Non-implemented SAT conditions\")"
   ]
  },
  {
   "cell_type": "code",
   "execution_count": 5,
   "id": "f434220f",
   "metadata": {},
   "outputs": [],
   "source": [
    "\n",
    "class NondecisionSpeedAcc(OverlayNonDecision):\n",
    "    name = \"DriftSpeedAcc\"\n",
    "    required_parameters = [\"tSpeed\", 'tAcc']\n",
    "    required_conditions = ['SAT']\n",
    "        \n",
    "    def get_nondecision_time(self, conditions, **kwargs):\n",
    "        if conditions['SAT'] == 1:\n",
    "            return self.tSpeed \n",
    "        elif conditions['SAT'] == 2:\n",
    "            return self.tAcc\n",
    "        else: \n",
    "            print(\"Non-implemented SAT conditions\")"
   ]
  },
  {
   "cell_type": "code",
   "execution_count": null,
   "id": "bbb278a6",
   "metadata": {},
   "outputs": [],
   "source": [
    "\n"
   ]
  },
  {
   "cell_type": "code",
   "execution_count": null,
   "id": "6e5e0074",
   "metadata": {},
   "outputs": [],
   "source": []
  },
  {
   "cell_type": "code",
   "execution_count": 6,
   "id": "b1e0fe9b",
   "metadata": {},
   "outputs": [],
   "source": [
    "def get_OUM_result_sub_2v2k2ter(samp, sample_size, v = [0,6], a = [0.5,8], k = [-10,10], ter=[0.1,1], T_dur=3):\n",
    "    \n",
    "    model_fit = Model(name='Simple model (fitted)',\n",
    "                      drift=DriftBothSpeedAcc(Vspeed = Fittable(minval=v[0], maxval=v[1]),\n",
    "                                              Vacc = Fittable(minval=v[0], maxval=v[1]),\n",
    "                                              Kspeed=Fittable(minval=k[0], maxval=k[1]),\n",
    "                                              Kacc=Fittable(minval=k[0], maxval=k[1])), \n",
    "                      noise=NoiseConstant(noise=1),\n",
    "                      bound=BoundConstant(B=Fittable(minval=a[0], maxval=a[1])),                      \n",
    "                      overlay=NondecisionSpeedAcc(\n",
    "                          tSpeed=Fittable(minval=ter[0], maxval=ter[1]),\n",
    "                          tAcc=Fittable(minval=ter[0], maxval=ter[1]),\n",
    "\n",
    "                      ),\n",
    "                      dx=.01, dt=.01, T_dur=T_dur)\n",
    "    #set_N_cpus(4)\n",
    "    fit_adjust_model(samp, model_fit,\n",
    "                     fitting_method=\"differential_evolution\",\n",
    "                     lossfunction=LossRobustBIC, verbose=False)\n",
    "    #print(model_fit.get_model_parameters())\n",
    "    df = pd.DataFrame(data = np.array(model_fit.get_model_parameters()).reshape(1,7),\n",
    "                      columns = model_fit.get_model_parameter_names())\n",
    "    \n",
    "    df['Participant']=i+1\n",
    "    #df['SAT'] = SAT\n",
    "    df['BIC'] = model_fit.get_fit_result().value()\n",
    "    df = df.rename(columns={'Vspeed': 'Drift Rate Speed',\n",
    "                            'Vacc': 'Drift Rate Accuracy',\n",
    "                            'B': 'Boundary Separation',\n",
    "                            'Kspeed': \"Self-excitation Speed\",\n",
    "                            'Kacc': \"Self-excitation Accuracy\",\n",
    "                            'tSpeed': 'Non-decision Time Speed',\n",
    "                            'tAcc': 'Non-decision Time Accuracy'})\n",
    "    return df"
   ]
  },
  {
   "cell_type": "code",
   "execution_count": 7,
   "id": "fdb13001",
   "metadata": {
    "scrolled": true
   },
   "outputs": [
    {
     "name": "stderr",
     "output_type": "stream",
     "text": [
      "Warning: This function (from_pandas_dataframe()) is deprecated and will be removed in a future version of PyDDM.  Please use the choice_column_name argument instead.\n"
     ]
    },
    {
     "name": "stdout",
     "output_type": "stream",
     "text": [
      "1\n",
      "1\n"
     ]
    },
    {
     "name": "stderr",
     "output_type": "stream",
     "text": [
      "Info: Params [ 2.98912323  3.87178876 -0.35462232  1.6645394   0.50689153  0.5129916\n",
      "  0.35887806  0.38343689] gave -258.3277872576292\n",
      "Warning: This function (from_pandas_dataframe()) is deprecated and will be removed in a future version of PyDDM.  Please use the choice_column_name argument instead.\n"
     ]
    },
    {
     "name": "stdout",
     "output_type": "stream",
     "text": [
      "   Drift Rate Speed  Drift Rate Accuracy  Self-excitation Speed  \\\n",
      "0          2.989123             3.871789              -0.354622   \n",
      "\n",
      "   Self-excitation Accuracy  Boundary Separation Speed  \\\n",
      "0                  1.664539                   0.506892   \n",
      "\n",
      "   Boundary Separation Accuracy  Non-decision Time Speed  \\\n",
      "0                      0.512992                 0.358878   \n",
      "\n",
      "   Non-decision Time Accuracy         BIC  Frequency  \n",
      "0                    0.383437 -258.327787          1  \n",
      "2\n",
      "1\n"
     ]
    },
    {
     "name": "stderr",
     "output_type": "stream",
     "text": [
      "Info: Params [2.45588652 2.36984766 8.17849471 4.8967868  0.68670988 0.88160731\n",
      " 0.36295482 0.35793745] gave -134.62489382806234\n",
      "Warning: This function (from_pandas_dataframe()) is deprecated and will be removed in a future version of PyDDM.  Please use the choice_column_name argument instead.\n"
     ]
    },
    {
     "name": "stdout",
     "output_type": "stream",
     "text": [
      "   Drift Rate Speed  Drift Rate Accuracy  Self-excitation Speed  \\\n",
      "0          2.455887             2.369848               8.178495   \n",
      "\n",
      "   Self-excitation Accuracy  Boundary Separation Speed  \\\n",
      "0                  4.896787                    0.68671   \n",
      "\n",
      "   Boundary Separation Accuracy  Non-decision Time Speed  \\\n",
      "0                      0.881607                 0.362955   \n",
      "\n",
      "   Non-decision Time Accuracy         BIC  Frequency  \n",
      "0                    0.357937 -134.624894          2  \n",
      "3\n",
      "1\n"
     ]
    },
    {
     "name": "stderr",
     "output_type": "stream",
     "text": [
      "Info: Params [0.90451887 1.74985015 4.31862092 4.82163629 0.61283491 0.71645288\n",
      " 0.34905476 0.38620125] gave -12.876077880571813\n",
      "Warning: This function (from_pandas_dataframe()) is deprecated and will be removed in a future version of PyDDM.  Please use the choice_column_name argument instead.\n"
     ]
    },
    {
     "name": "stdout",
     "output_type": "stream",
     "text": [
      "   Drift Rate Speed  Drift Rate Accuracy  Self-excitation Speed  \\\n",
      "0          0.904519              1.74985               4.318621   \n",
      "\n",
      "   Self-excitation Accuracy  Boundary Separation Speed  \\\n",
      "0                  4.821636                   0.612835   \n",
      "\n",
      "   Boundary Separation Accuracy  Non-decision Time Speed  \\\n",
      "0                      0.716453                 0.349055   \n",
      "\n",
      "   Non-decision Time Accuracy        BIC  Frequency  \n",
      "0                    0.386201 -12.876078          3  \n",
      "4\n",
      "1\n"
     ]
    },
    {
     "name": "stderr",
     "output_type": "stream",
     "text": [
      "Info: Params [2.37751749 2.86378912 0.37438913 6.606345   0.50380169 0.68798626\n",
      " 0.34226338 0.38130109] gave -161.42339276320257\n",
      "Warning: This function (from_pandas_dataframe()) is deprecated and will be removed in a future version of PyDDM.  Please use the choice_column_name argument instead.\n"
     ]
    },
    {
     "name": "stdout",
     "output_type": "stream",
     "text": [
      "   Drift Rate Speed  Drift Rate Accuracy  Self-excitation Speed  \\\n",
      "0          2.377517             2.863789               0.374389   \n",
      "\n",
      "   Self-excitation Accuracy  Boundary Separation Speed  \\\n",
      "0                  6.606345                   0.503802   \n",
      "\n",
      "   Boundary Separation Accuracy  Non-decision Time Speed  \\\n",
      "0                      0.687986                 0.342263   \n",
      "\n",
      "   Non-decision Time Accuracy         BIC  Frequency  \n",
      "0                    0.381301 -161.423393          4  \n",
      "5\n",
      "1\n"
     ]
    },
    {
     "name": "stderr",
     "output_type": "stream",
     "text": [
      "Info: Params [3.53755    2.96331901 6.82764093 7.70028559 1.21745769 1.75738451\n",
      " 0.31757004 0.30487042] gave -174.38841214538814\n",
      "Warning: This function (from_pandas_dataframe()) is deprecated and will be removed in a future version of PyDDM.  Please use the choice_column_name argument instead.\n"
     ]
    },
    {
     "name": "stdout",
     "output_type": "stream",
     "text": [
      "   Drift Rate Speed  Drift Rate Accuracy  Self-excitation Speed  \\\n",
      "0           3.53755             2.963319               6.827641   \n",
      "\n",
      "   Self-excitation Accuracy  Boundary Separation Speed  \\\n",
      "0                  7.700286                   1.217458   \n",
      "\n",
      "   Boundary Separation Accuracy  Non-decision Time Speed  \\\n",
      "0                      1.757385                  0.31757   \n",
      "\n",
      "   Non-decision Time Accuracy         BIC  Frequency  \n",
      "0                     0.30487 -174.388412          5  \n",
      "6\n",
      "1\n"
     ]
    },
    {
     "name": "stderr",
     "output_type": "stream",
     "text": [
      "Info: Params [3.41316479 3.32462482 3.16469233 5.80252376 0.61259175 1.05098801\n",
      " 0.34582521 0.33245947] gave -219.07428249732618\n",
      "Warning: This function (from_pandas_dataframe()) is deprecated and will be removed in a future version of PyDDM.  Please use the choice_column_name argument instead.\n"
     ]
    },
    {
     "name": "stdout",
     "output_type": "stream",
     "text": [
      "   Drift Rate Speed  Drift Rate Accuracy  Self-excitation Speed  \\\n",
      "0          3.413165             3.324625               3.164692   \n",
      "\n",
      "   Self-excitation Accuracy  Boundary Separation Speed  \\\n",
      "0                  5.802524                   0.612592   \n",
      "\n",
      "   Boundary Separation Accuracy  Non-decision Time Speed  \\\n",
      "0                      1.050988                 0.345825   \n",
      "\n",
      "   Non-decision Time Accuracy         BIC  Frequency  \n",
      "0                    0.332459 -219.074282          6  \n",
      "1\n",
      "3\n"
     ]
    },
    {
     "name": "stderr",
     "output_type": "stream",
     "text": [
      "Info: Params [2.80394541 3.3100723  6.97225871 4.48654232 0.7784423  1.33567534\n",
      " 0.31293854 0.3767331 ] gave -187.35236112192246\n",
      "Warning: This function (from_pandas_dataframe()) is deprecated and will be removed in a future version of PyDDM.  Please use the choice_column_name argument instead.\n"
     ]
    },
    {
     "name": "stdout",
     "output_type": "stream",
     "text": [
      "   Drift Rate Speed  Drift Rate Accuracy  Self-excitation Speed  \\\n",
      "0          2.803945             3.310072               6.972259   \n",
      "\n",
      "   Self-excitation Accuracy  Boundary Separation Speed  \\\n",
      "0                  4.486542                   0.778442   \n",
      "\n",
      "   Boundary Separation Accuracy  Non-decision Time Speed  \\\n",
      "0                      1.335675                 0.312939   \n",
      "\n",
      "   Non-decision Time Accuracy         BIC  Frequency  \n",
      "0                    0.376733 -187.352361          1  \n",
      "2\n",
      "3\n"
     ]
    },
    {
     "name": "stderr",
     "output_type": "stream",
     "text": [
      "Info: Params [1.61641981 2.08699839 5.58086994 2.39248127 0.6073684  1.09510906\n",
      " 0.33443287 0.35274894] gave -35.75019747177827\n",
      "Warning: This function (from_pandas_dataframe()) is deprecated and will be removed in a future version of PyDDM.  Please use the choice_column_name argument instead.\n"
     ]
    },
    {
     "name": "stdout",
     "output_type": "stream",
     "text": [
      "   Drift Rate Speed  Drift Rate Accuracy  Self-excitation Speed  \\\n",
      "0           1.61642             2.086998                5.58087   \n",
      "\n",
      "   Self-excitation Accuracy  Boundary Separation Speed  \\\n",
      "0                  2.392481                   0.607368   \n",
      "\n",
      "   Boundary Separation Accuracy  Non-decision Time Speed  \\\n",
      "0                      1.095109                 0.334433   \n",
      "\n",
      "   Non-decision Time Accuracy        BIC  Frequency  \n",
      "0                    0.352749 -35.750197          2  \n",
      "3\n",
      "3\n"
     ]
    },
    {
     "name": "stderr",
     "output_type": "stream",
     "text": [
      "Info: Params [1.55584854 1.86468067 5.11798651 3.6289279  0.71870644 1.50433085\n",
      " 0.31279094 0.34868719] gave 18.0158450234034\n",
      "Warning: This function (from_pandas_dataframe()) is deprecated and will be removed in a future version of PyDDM.  Please use the choice_column_name argument instead.\n"
     ]
    },
    {
     "name": "stdout",
     "output_type": "stream",
     "text": [
      "   Drift Rate Speed  Drift Rate Accuracy  Self-excitation Speed  \\\n",
      "0          1.555849             1.864681               5.117987   \n",
      "\n",
      "   Self-excitation Accuracy  Boundary Separation Speed  \\\n",
      "0                  3.628928                   0.718706   \n",
      "\n",
      "   Boundary Separation Accuracy  Non-decision Time Speed  \\\n",
      "0                      1.504331                 0.312791   \n",
      "\n",
      "   Non-decision Time Accuracy        BIC  Frequency  \n",
      "0                    0.348687  18.015845          3  \n",
      "4\n",
      "3\n"
     ]
    },
    {
     "name": "stderr",
     "output_type": "stream",
     "text": [
      "Info: Params [2.17288418 2.19315306 8.56546496 2.53186353 7.87881214 2.8599476\n",
      " 0.11609596 0.10356932] gave -7.655606386167591\n",
      "Warning: This function (from_pandas_dataframe()) is deprecated and will be removed in a future version of PyDDM.  Please use the choice_column_name argument instead.\n"
     ]
    },
    {
     "name": "stdout",
     "output_type": "stream",
     "text": [
      "   Drift Rate Speed  Drift Rate Accuracy  Self-excitation Speed  \\\n",
      "0          2.172884             2.193153               8.565465   \n",
      "\n",
      "   Self-excitation Accuracy  Boundary Separation Speed  \\\n",
      "0                  2.531864                   7.878812   \n",
      "\n",
      "   Boundary Separation Accuracy  Non-decision Time Speed  \\\n",
      "0                      2.859948                 0.116096   \n",
      "\n",
      "   Non-decision Time Accuracy       BIC  Frequency  \n",
      "0                    0.103569 -7.655606          4  \n",
      "5\n",
      "3\n"
     ]
    },
    {
     "name": "stderr",
     "output_type": "stream",
     "text": [
      "Info: Params [3.11371214 2.12172731 1.84130223 2.3602427  0.69054809 1.99439302\n",
      " 0.30433465 0.22324283] gave -46.89271942159978\n",
      "Warning: This function (from_pandas_dataframe()) is deprecated and will be removed in a future version of PyDDM.  Please use the choice_column_name argument instead.\n"
     ]
    },
    {
     "name": "stdout",
     "output_type": "stream",
     "text": [
      "   Drift Rate Speed  Drift Rate Accuracy  Self-excitation Speed  \\\n",
      "0          3.113712             2.121727               1.841302   \n",
      "\n",
      "   Self-excitation Accuracy  Boundary Separation Speed  \\\n",
      "0                  2.360243                   0.690548   \n",
      "\n",
      "   Boundary Separation Accuracy  Non-decision Time Speed  \\\n",
      "0                      1.994393                 0.304335   \n",
      "\n",
      "   Non-decision Time Accuracy        BIC  Frequency  \n",
      "0                    0.223243 -46.892719          5  \n",
      "6\n",
      "3\n"
     ]
    },
    {
     "name": "stderr",
     "output_type": "stream",
     "text": [
      "Info: Params [2.76228751 2.2426801  5.67220645 1.11975258 0.96884259 1.15950303\n",
      " 0.31315626 0.32710616] gave -61.09459052974337\n",
      "Warning: This function (from_pandas_dataframe()) is deprecated and will be removed in a future version of PyDDM.  Please use the choice_column_name argument instead.\n"
     ]
    },
    {
     "name": "stdout",
     "output_type": "stream",
     "text": [
      "   Drift Rate Speed  Drift Rate Accuracy  Self-excitation Speed  \\\n",
      "0          2.762288              2.24268               5.672206   \n",
      "\n",
      "   Self-excitation Accuracy  Boundary Separation Speed  \\\n",
      "0                  1.119753                   0.968843   \n",
      "\n",
      "   Boundary Separation Accuracy  Non-decision Time Speed  \\\n",
      "0                      1.159503                 0.313156   \n",
      "\n",
      "   Non-decision Time Accuracy        BIC  Frequency  \n",
      "0                    0.327106 -61.094591          6  \n",
      "1\n",
      "4\n"
     ]
    },
    {
     "name": "stderr",
     "output_type": "stream",
     "text": [
      "Info: Params [ 4.12399459  3.65702045 10.          4.40491938  0.50153181  1.01565615\n",
      "  0.33325545  0.30450758] gave -304.8859575079955\n",
      "Warning: This function (from_pandas_dataframe()) is deprecated and will be removed in a future version of PyDDM.  Please use the choice_column_name argument instead.\n"
     ]
    },
    {
     "name": "stdout",
     "output_type": "stream",
     "text": [
      "   Drift Rate Speed  Drift Rate Accuracy  Self-excitation Speed  \\\n",
      "0          4.123995              3.65702                   10.0   \n",
      "\n",
      "   Self-excitation Accuracy  Boundary Separation Speed  \\\n",
      "0                  4.404919                   0.501532   \n",
      "\n",
      "   Boundary Separation Accuracy  Non-decision Time Speed  \\\n",
      "0                      1.015656                 0.333255   \n",
      "\n",
      "   Non-decision Time Accuracy         BIC  Frequency  \n",
      "0                    0.304508 -304.885958          1  \n",
      "2\n",
      "4\n"
     ]
    },
    {
     "name": "stderr",
     "output_type": "stream",
     "text": [
      "Info: Params [2.55066955 3.26597936 7.9127986  2.9647995  0.51355657 0.87900967\n",
      " 0.33269462 0.34372097] gave -218.59310541992954\n",
      "Warning: This function (from_pandas_dataframe()) is deprecated and will be removed in a future version of PyDDM.  Please use the choice_column_name argument instead.\n"
     ]
    },
    {
     "name": "stdout",
     "output_type": "stream",
     "text": [
      "   Drift Rate Speed  Drift Rate Accuracy  Self-excitation Speed  \\\n",
      "0           2.55067             3.265979               7.912799   \n",
      "\n",
      "   Self-excitation Accuracy  Boundary Separation Speed  \\\n",
      "0                    2.9648                   0.513557   \n",
      "\n",
      "   Boundary Separation Accuracy  Non-decision Time Speed  \\\n",
      "0                       0.87901                 0.332695   \n",
      "\n",
      "   Non-decision Time Accuracy         BIC  Frequency  \n",
      "0                    0.343721 -218.593105          2  \n",
      "3\n",
      "4\n"
     ]
    },
    {
     "name": "stderr",
     "output_type": "stream",
     "text": [
      "Info: Params [1.65092924 2.0823968  6.40563068 4.46077837 0.50324377 1.10583188\n",
      " 0.33853773 0.31265606] gave -88.68793516999143\n",
      "Warning: This function (from_pandas_dataframe()) is deprecated and will be removed in a future version of PyDDM.  Please use the choice_column_name argument instead.\n"
     ]
    },
    {
     "name": "stdout",
     "output_type": "stream",
     "text": [
      "   Drift Rate Speed  Drift Rate Accuracy  Self-excitation Speed  \\\n",
      "0          1.650929             2.082397               6.405631   \n",
      "\n",
      "   Self-excitation Accuracy  Boundary Separation Speed  \\\n",
      "0                  4.460778                   0.503244   \n",
      "\n",
      "   Boundary Separation Accuracy  Non-decision Time Speed  \\\n",
      "0                      1.105832                 0.338538   \n",
      "\n",
      "   Non-decision Time Accuracy        BIC  Frequency  \n",
      "0                    0.312656 -88.687935          3  \n",
      "4\n",
      "4\n"
     ]
    },
    {
     "name": "stderr",
     "output_type": "stream",
     "text": [
      "Info: Params [3.82898186 3.27906567 8.85284782 4.20811299 0.64203012 2.62803034\n",
      " 0.34884576 0.19281104] gave -233.53602423413423\n",
      "Warning: This function (from_pandas_dataframe()) is deprecated and will be removed in a future version of PyDDM.  Please use the choice_column_name argument instead.\n"
     ]
    },
    {
     "name": "stdout",
     "output_type": "stream",
     "text": [
      "   Drift Rate Speed  Drift Rate Accuracy  Self-excitation Speed  \\\n",
      "0          3.828982             3.279066               8.852848   \n",
      "\n",
      "   Self-excitation Accuracy  Boundary Separation Speed  \\\n",
      "0                  4.208113                    0.64203   \n",
      "\n",
      "   Boundary Separation Accuracy  Non-decision Time Speed  \\\n",
      "0                       2.62803                 0.348846   \n",
      "\n",
      "   Non-decision Time Accuracy         BIC  Frequency  \n",
      "0                    0.192811 -233.536024          4  \n",
      "5\n",
      "4\n"
     ]
    },
    {
     "name": "stderr",
     "output_type": "stream",
     "text": [
      "Info: Params [ 3.60636906  2.48071304  5.48415748 -0.7393176   0.52813963  0.59013003\n",
      "  0.33300859  0.35908296] gave -199.12852898473903\n",
      "Warning: This function (from_pandas_dataframe()) is deprecated and will be removed in a future version of PyDDM.  Please use the choice_column_name argument instead.\n"
     ]
    },
    {
     "name": "stdout",
     "output_type": "stream",
     "text": [
      "   Drift Rate Speed  Drift Rate Accuracy  Self-excitation Speed  \\\n",
      "0          3.606369             2.480713               5.484157   \n",
      "\n",
      "   Self-excitation Accuracy  Boundary Separation Speed  \\\n",
      "0                 -0.739318                    0.52814   \n",
      "\n",
      "   Boundary Separation Accuracy  Non-decision Time Speed  \\\n",
      "0                       0.59013                 0.333009   \n",
      "\n",
      "   Non-decision Time Accuracy         BIC  Frequency  \n",
      "0                    0.359083 -199.128529          5  \n",
      "6\n",
      "4\n"
     ]
    },
    {
     "name": "stderr",
     "output_type": "stream",
     "text": [
      "Info: Params [3.30928332 2.39879708 6.14150869 5.02108942 0.51441087 1.06715235\n",
      " 0.32810657 0.31287515] gave -193.62609243010863\n",
      "Warning: This function (from_pandas_dataframe()) is deprecated and will be removed in a future version of PyDDM.  Please use the choice_column_name argument instead.\n"
     ]
    },
    {
     "name": "stdout",
     "output_type": "stream",
     "text": [
      "   Drift Rate Speed  Drift Rate Accuracy  Self-excitation Speed  \\\n",
      "0          3.309283             2.398797               6.141509   \n",
      "\n",
      "   Self-excitation Accuracy  Boundary Separation Speed  \\\n",
      "0                  5.021089                   0.514411   \n",
      "\n",
      "   Boundary Separation Accuracy  Non-decision Time Speed  \\\n",
      "0                      1.067152                 0.328107   \n",
      "\n",
      "   Non-decision Time Accuracy         BIC  Frequency  \n",
      "0                    0.312875 -193.626092          6  \n",
      "1\n",
      "5\n"
     ]
    },
    {
     "name": "stderr",
     "output_type": "stream",
     "text": [
      "Info: Params [ 4.2233155   6.          9.47517698 -5.39929087  0.59074844  0.88491672\n",
      "  0.32781353  0.36870228] gave -292.00756624850396\n",
      "Warning: This function (from_pandas_dataframe()) is deprecated and will be removed in a future version of PyDDM.  Please use the choice_column_name argument instead.\n"
     ]
    },
    {
     "name": "stdout",
     "output_type": "stream",
     "text": [
      "   Drift Rate Speed  Drift Rate Accuracy  Self-excitation Speed  \\\n",
      "0          4.223316                  6.0               9.475177   \n",
      "\n",
      "   Self-excitation Accuracy  Boundary Separation Speed  \\\n",
      "0                 -5.399291                   0.590748   \n",
      "\n",
      "   Boundary Separation Accuracy  Non-decision Time Speed  \\\n",
      "0                      0.884917                 0.327814   \n",
      "\n",
      "   Non-decision Time Accuracy         BIC  Frequency  \n",
      "0                    0.368702 -292.007566          1  \n",
      "2\n",
      "5\n"
     ]
    },
    {
     "name": "stderr",
     "output_type": "stream",
     "text": [
      "Info: Params [ 4.08745751  2.90613232 10.          8.38151675  0.76309022  4.32667387\n",
      "  0.34641994  0.29248224] gave -220.83515765116118\n",
      "Warning: This function (from_pandas_dataframe()) is deprecated and will be removed in a future version of PyDDM.  Please use the choice_column_name argument instead.\n"
     ]
    },
    {
     "name": "stdout",
     "output_type": "stream",
     "text": [
      "   Drift Rate Speed  Drift Rate Accuracy  Self-excitation Speed  \\\n",
      "0          4.087458             2.906132                   10.0   \n",
      "\n",
      "   Self-excitation Accuracy  Boundary Separation Speed  \\\n",
      "0                  8.381517                    0.76309   \n",
      "\n",
      "   Boundary Separation Accuracy  Non-decision Time Speed  \\\n",
      "0                      4.326674                  0.34642   \n",
      "\n",
      "   Non-decision Time Accuracy         BIC  Frequency  \n",
      "0                    0.292482 -220.835158          2  \n",
      "3\n",
      "5\n"
     ]
    },
    {
     "name": "stderr",
     "output_type": "stream",
     "text": [
      "Info: Params [2.34563695 3.39660621 6.41719794 6.78054511 0.59483531 2.76704741\n",
      " 0.34968693 0.34678625] gave -182.8146791331513\n",
      "Warning: This function (from_pandas_dataframe()) is deprecated and will be removed in a future version of PyDDM.  Please use the choice_column_name argument instead.\n"
     ]
    },
    {
     "name": "stdout",
     "output_type": "stream",
     "text": [
      "   Drift Rate Speed  Drift Rate Accuracy  Self-excitation Speed  \\\n",
      "0          2.345637             3.396606               6.417198   \n",
      "\n",
      "   Self-excitation Accuracy  Boundary Separation Speed  \\\n",
      "0                  6.780545                   0.594835   \n",
      "\n",
      "   Boundary Separation Accuracy  Non-decision Time Speed  \\\n",
      "0                      2.767047                 0.349687   \n",
      "\n",
      "   Non-decision Time Accuracy         BIC  Frequency  \n",
      "0                    0.346786 -182.814679          3  \n",
      "4\n",
      "5\n"
     ]
    },
    {
     "name": "stderr",
     "output_type": "stream",
     "text": [
      "Info: Params [4.96887914 3.29905373 5.73463483 4.07234757 1.06722281 1.43126753\n",
      " 0.32099268 0.36030566] gave -264.25136520212595\n",
      "Warning: This function (from_pandas_dataframe()) is deprecated and will be removed in a future version of PyDDM.  Please use the choice_column_name argument instead.\n"
     ]
    },
    {
     "name": "stdout",
     "output_type": "stream",
     "text": [
      "   Drift Rate Speed  Drift Rate Accuracy  Self-excitation Speed  \\\n",
      "0          4.968879             3.299054               5.734635   \n",
      "\n",
      "   Self-excitation Accuracy  Boundary Separation Speed  \\\n",
      "0                  4.072348                   1.067223   \n",
      "\n",
      "   Boundary Separation Accuracy  Non-decision Time Speed  \\\n",
      "0                      1.431268                 0.320993   \n",
      "\n",
      "   Non-decision Time Accuracy         BIC  Frequency  \n",
      "0                    0.360306 -264.251365          4  \n",
      "5\n",
      "5\n"
     ]
    },
    {
     "name": "stderr",
     "output_type": "stream",
     "text": [
      "Info: Params [ 4.27279145  2.71315601 10.          4.50360756  0.5028569   1.24034862\n",
      "  0.37330691  0.42976663] gave -222.9794965124758\n",
      "Warning: This function (from_pandas_dataframe()) is deprecated and will be removed in a future version of PyDDM.  Please use the choice_column_name argument instead.\n"
     ]
    },
    {
     "name": "stdout",
     "output_type": "stream",
     "text": [
      "   Drift Rate Speed  Drift Rate Accuracy  Self-excitation Speed  \\\n",
      "0          4.272791             2.713156                   10.0   \n",
      "\n",
      "   Self-excitation Accuracy  Boundary Separation Speed  \\\n",
      "0                  4.503608                   0.502857   \n",
      "\n",
      "   Boundary Separation Accuracy  Non-decision Time Speed  \\\n",
      "0                      1.240349                 0.373307   \n",
      "\n",
      "   Non-decision Time Accuracy         BIC  Frequency  \n",
      "0                    0.429767 -222.979497          5  \n",
      "6\n",
      "5\n"
     ]
    },
    {
     "name": "stderr",
     "output_type": "stream",
     "text": [
      "Info: Params [ 3.64156479  2.7269095  10.          5.06148555  1.35440056  1.22987581\n",
      "  0.29986364  0.39039621] gave -201.49165226024508\n",
      "Warning: This function (from_pandas_dataframe()) is deprecated and will be removed in a future version of PyDDM.  Please use the choice_column_name argument instead.\n"
     ]
    },
    {
     "name": "stdout",
     "output_type": "stream",
     "text": [
      "   Drift Rate Speed  Drift Rate Accuracy  Self-excitation Speed  \\\n",
      "0          3.641565             2.726909                   10.0   \n",
      "\n",
      "   Self-excitation Accuracy  Boundary Separation Speed  \\\n",
      "0                  5.061486                   1.354401   \n",
      "\n",
      "   Boundary Separation Accuracy  Non-decision Time Speed  \\\n",
      "0                      1.229876                 0.299864   \n",
      "\n",
      "   Non-decision Time Accuracy         BIC  Frequency  \n",
      "0                    0.390396 -201.491652          6  \n",
      "1\n",
      "6\n"
     ]
    },
    {
     "name": "stderr",
     "output_type": "stream",
     "text": [
      "Info: Params [ 2.5178623   3.03616302 10.          5.01430878  1.12523718  0.8304014\n",
      "  0.25189342  0.36797482] gave -193.5003794372679\n",
      "Warning: This function (from_pandas_dataframe()) is deprecated and will be removed in a future version of PyDDM.  Please use the choice_column_name argument instead.\n"
     ]
    },
    {
     "name": "stdout",
     "output_type": "stream",
     "text": [
      "   Drift Rate Speed  Drift Rate Accuracy  Self-excitation Speed  \\\n",
      "0          2.517862             3.036163                   10.0   \n",
      "\n",
      "   Self-excitation Accuracy  Boundary Separation Speed  \\\n",
      "0                  5.014309                   1.125237   \n",
      "\n",
      "   Boundary Separation Accuracy  Non-decision Time Speed  \\\n",
      "0                      0.830401                 0.251893   \n",
      "\n",
      "   Non-decision Time Accuracy         BIC  Frequency  \n",
      "0                    0.367975 -193.500379          1  \n",
      "2\n",
      "6\n"
     ]
    },
    {
     "name": "stderr",
     "output_type": "stream",
     "text": [
      "Info: Params [ 1.46871668  2.38771927 10.          4.81118278  4.43345491  0.91928731\n",
      "  0.1123244   0.40498119] gave -91.56488191857946\n",
      "Warning: This function (from_pandas_dataframe()) is deprecated and will be removed in a future version of PyDDM.  Please use the choice_column_name argument instead.\n"
     ]
    },
    {
     "name": "stdout",
     "output_type": "stream",
     "text": [
      "   Drift Rate Speed  Drift Rate Accuracy  Self-excitation Speed  \\\n",
      "0          1.468717             2.387719                   10.0   \n",
      "\n",
      "   Self-excitation Accuracy  Boundary Separation Speed  \\\n",
      "0                  4.811183                   4.433455   \n",
      "\n",
      "   Boundary Separation Accuracy  Non-decision Time Speed  \\\n",
      "0                      0.919287                 0.112324   \n",
      "\n",
      "   Non-decision Time Accuracy        BIC  Frequency  \n",
      "0                    0.404981 -91.564882          2  \n",
      "3\n",
      "6\n"
     ]
    },
    {
     "name": "stderr",
     "output_type": "stream",
     "text": [
      "Info: Params [0.38493645 1.56898567 9.91058384 1.45737279 4.23877048 0.60567139\n",
      " 0.10729105 0.43399806] gave 16.657031655254897\n",
      "Warning: This function (from_pandas_dataframe()) is deprecated and will be removed in a future version of PyDDM.  Please use the choice_column_name argument instead.\n"
     ]
    },
    {
     "name": "stdout",
     "output_type": "stream",
     "text": [
      "   Drift Rate Speed  Drift Rate Accuracy  Self-excitation Speed  \\\n",
      "0          0.384936             1.568986               9.910584   \n",
      "\n",
      "   Self-excitation Accuracy  Boundary Separation Speed  \\\n",
      "0                  1.457373                    4.23877   \n",
      "\n",
      "   Boundary Separation Accuracy  Non-decision Time Speed  \\\n",
      "0                      0.605671                 0.107291   \n",
      "\n",
      "   Non-decision Time Accuracy        BIC  Frequency  \n",
      "0                    0.433998  16.657032          3  \n",
      "4\n",
      "6\n"
     ]
    },
    {
     "name": "stderr",
     "output_type": "stream",
     "text": [
      "Info: Params [ 0.91720251  2.68523227 10.          4.34088755  4.82463031  2.30427962\n",
      "  0.10670321  0.27967581] gave -48.0994397059776\n",
      "Warning: This function (from_pandas_dataframe()) is deprecated and will be removed in a future version of PyDDM.  Please use the choice_column_name argument instead.\n"
     ]
    },
    {
     "name": "stdout",
     "output_type": "stream",
     "text": [
      "   Drift Rate Speed  Drift Rate Accuracy  Self-excitation Speed  \\\n",
      "0          0.917203             2.685232                   10.0   \n",
      "\n",
      "   Self-excitation Accuracy  Boundary Separation Speed  \\\n",
      "0                  4.340888                    4.82463   \n",
      "\n",
      "   Boundary Separation Accuracy  Non-decision Time Speed  \\\n",
      "0                       2.30428                 0.106703   \n",
      "\n",
      "   Non-decision Time Accuracy       BIC  Frequency  \n",
      "0                    0.279676 -48.09944          4  \n",
      "5\n",
      "6\n"
     ]
    },
    {
     "name": "stderr",
     "output_type": "stream",
     "text": [
      "Info: Params [0.87937962 2.43511027 8.62986846 4.02905864 1.10655452 1.05646808\n",
      " 0.24232913 0.36385017] gave -43.447193739183206\n",
      "Warning: This function (from_pandas_dataframe()) is deprecated and will be removed in a future version of PyDDM.  Please use the choice_column_name argument instead.\n"
     ]
    },
    {
     "name": "stdout",
     "output_type": "stream",
     "text": [
      "   Drift Rate Speed  Drift Rate Accuracy  Self-excitation Speed  \\\n",
      "0           0.87938              2.43511               8.629868   \n",
      "\n",
      "   Self-excitation Accuracy  Boundary Separation Speed  \\\n",
      "0                  4.029059                   1.106555   \n",
      "\n",
      "   Boundary Separation Accuracy  Non-decision Time Speed  \\\n",
      "0                      1.056468                 0.242329   \n",
      "\n",
      "   Non-decision Time Accuracy        BIC  Frequency  \n",
      "0                     0.36385 -43.447194          5  \n",
      "6\n",
      "6\n"
     ]
    },
    {
     "name": "stderr",
     "output_type": "stream",
     "text": [
      "Info: Params [0.61125772 2.59980967 8.87126685 3.67471272 3.60795978 1.02490169\n",
      " 0.10913707 0.34609912] gave -42.61721175606308\n",
      "Warning: This function (from_pandas_dataframe()) is deprecated and will be removed in a future version of PyDDM.  Please use the choice_column_name argument instead.\n"
     ]
    },
    {
     "name": "stdout",
     "output_type": "stream",
     "text": [
      "   Drift Rate Speed  Drift Rate Accuracy  Self-excitation Speed  \\\n",
      "0          0.611258              2.59981               8.871267   \n",
      "\n",
      "   Self-excitation Accuracy  Boundary Separation Speed  \\\n",
      "0                  3.674713                    3.60796   \n",
      "\n",
      "   Boundary Separation Accuracy  Non-decision Time Speed  \\\n",
      "0                      1.024902                 0.109137   \n",
      "\n",
      "   Non-decision Time Accuracy        BIC  Frequency  \n",
      "0                    0.346099 -42.617212          6  \n",
      "1\n",
      "7\n"
     ]
    },
    {
     "name": "stderr",
     "output_type": "stream",
     "text": [
      "Info: Params [0.20247172 2.23670259 8.75587059 4.07911482 2.601411   0.94157179\n",
      " 0.10168867 0.26203697] gave -23.052488767987548\n",
      "Warning: This function (from_pandas_dataframe()) is deprecated and will be removed in a future version of PyDDM.  Please use the choice_column_name argument instead.\n"
     ]
    },
    {
     "name": "stdout",
     "output_type": "stream",
     "text": [
      "   Drift Rate Speed  Drift Rate Accuracy  Self-excitation Speed  \\\n",
      "0          0.202472             2.236703               8.755871   \n",
      "\n",
      "   Self-excitation Accuracy  Boundary Separation Speed  \\\n",
      "0                  4.079115                   2.601411   \n",
      "\n",
      "   Boundary Separation Accuracy  Non-decision Time Speed  \\\n",
      "0                      0.941572                 0.101689   \n",
      "\n",
      "   Non-decision Time Accuracy        BIC  Frequency  \n",
      "0                    0.262037 -23.052489          1  \n",
      "2\n",
      "7\n"
     ]
    },
    {
     "name": "stderr",
     "output_type": "stream",
     "text": [
      "Info: Params [0.         1.52369126 9.56908948 4.23048587 1.6697333  0.77820209\n",
      " 0.17355519 0.3191812 ] gave 4.75071507858182\n",
      "Warning: This function (from_pandas_dataframe()) is deprecated and will be removed in a future version of PyDDM.  Please use the choice_column_name argument instead.\n"
     ]
    },
    {
     "name": "stdout",
     "output_type": "stream",
     "text": [
      "   Drift Rate Speed  Drift Rate Accuracy  Self-excitation Speed  \\\n",
      "0               0.0             1.523691               9.569089   \n",
      "\n",
      "   Self-excitation Accuracy  Boundary Separation Speed  \\\n",
      "0                  4.230486                   1.669733   \n",
      "\n",
      "   Boundary Separation Accuracy  Non-decision Time Speed  \\\n",
      "0                      0.778202                 0.173555   \n",
      "\n",
      "   Non-decision Time Accuracy       BIC  Frequency  \n",
      "0                    0.319181  4.750715          2  \n",
      "3\n",
      "7\n"
     ]
    },
    {
     "name": "stderr",
     "output_type": "stream",
     "text": [
      "Info: Params [0.         0.71629941 9.81724524 6.6612378  3.49693867 5.25277324\n",
      " 0.10071739 0.10588618] gave 72.64722621613787\n",
      "Warning: This function (from_pandas_dataframe()) is deprecated and will be removed in a future version of PyDDM.  Please use the choice_column_name argument instead.\n"
     ]
    },
    {
     "name": "stdout",
     "output_type": "stream",
     "text": [
      "   Drift Rate Speed  Drift Rate Accuracy  Self-excitation Speed  \\\n",
      "0               0.0             0.716299               9.817245   \n",
      "\n",
      "   Self-excitation Accuracy  Boundary Separation Speed  \\\n",
      "0                  6.661238                   3.496939   \n",
      "\n",
      "   Boundary Separation Accuracy  Non-decision Time Speed  \\\n",
      "0                      5.252773                 0.100717   \n",
      "\n",
      "   Non-decision Time Accuracy        BIC  Frequency  \n",
      "0                    0.105886  72.647226          3  \n",
      "4\n",
      "7\n"
     ]
    },
    {
     "name": "stderr",
     "output_type": "stream",
     "text": [
      "Info: Params [1.89176077 1.69565047 7.45686727 3.58287046 0.98696105 1.28571319\n",
      " 0.22153314 0.25017363] gave -8.565408039884666\n",
      "Warning: This function (from_pandas_dataframe()) is deprecated and will be removed in a future version of PyDDM.  Please use the choice_column_name argument instead.\n"
     ]
    },
    {
     "name": "stdout",
     "output_type": "stream",
     "text": [
      "   Drift Rate Speed  Drift Rate Accuracy  Self-excitation Speed  \\\n",
      "0          1.891761              1.69565               7.456867   \n",
      "\n",
      "   Self-excitation Accuracy  Boundary Separation Speed  \\\n",
      "0                   3.58287                   0.986961   \n",
      "\n",
      "   Boundary Separation Accuracy  Non-decision Time Speed  \\\n",
      "0                      1.285713                 0.221533   \n",
      "\n",
      "   Non-decision Time Accuracy       BIC  Frequency  \n",
      "0                    0.250174 -8.565408          4  \n",
      "5\n",
      "7\n"
     ]
    },
    {
     "name": "stderr",
     "output_type": "stream",
     "text": [
      "Info: Params [2.55908312 1.52284553 9.92828674 4.7678642  2.42866215 1.0409825\n",
      " 0.17012888 0.31139224] gave -43.609439439191604\n",
      "Warning: This function (from_pandas_dataframe()) is deprecated and will be removed in a future version of PyDDM.  Please use the choice_column_name argument instead.\n"
     ]
    },
    {
     "name": "stdout",
     "output_type": "stream",
     "text": [
      "   Drift Rate Speed  Drift Rate Accuracy  Self-excitation Speed  \\\n",
      "0          2.559083             1.522846               9.928287   \n",
      "\n",
      "   Self-excitation Accuracy  Boundary Separation Speed  \\\n",
      "0                  4.767864                   2.428662   \n",
      "\n",
      "   Boundary Separation Accuracy  Non-decision Time Speed  \\\n",
      "0                      1.040983                 0.170129   \n",
      "\n",
      "   Non-decision Time Accuracy        BIC  Frequency  \n",
      "0                    0.311392 -43.609439          5  \n",
      "6\n",
      "7\n"
     ]
    },
    {
     "name": "stderr",
     "output_type": "stream",
     "text": [
      "Info: Params [1.9765919  1.92701985 6.91633449 3.61904158 0.90069594 0.86320524\n",
      " 0.23228677 0.32483331] gave -53.96932066803045\n",
      "Warning: This function (from_pandas_dataframe()) is deprecated and will be removed in a future version of PyDDM.  Please use the choice_column_name argument instead.\n"
     ]
    },
    {
     "name": "stdout",
     "output_type": "stream",
     "text": [
      "   Drift Rate Speed  Drift Rate Accuracy  Self-excitation Speed  \\\n",
      "0          1.976592              1.92702               6.916334   \n",
      "\n",
      "   Self-excitation Accuracy  Boundary Separation Speed  \\\n",
      "0                  3.619042                   0.900696   \n",
      "\n",
      "   Boundary Separation Accuracy  Non-decision Time Speed  \\\n",
      "0                      0.863205                 0.232287   \n",
      "\n",
      "   Non-decision Time Accuracy        BIC  Frequency  \n",
      "0                    0.324833 -53.969321          6  \n",
      "1\n",
      "8\n"
     ]
    },
    {
     "name": "stderr",
     "output_type": "stream",
     "text": [
      "Info: Params [  0.61078172   2.69954864   7.05415047 -10.           2.27121189\n",
      "   0.52589687   0.10462224   0.46157368] gave 60.58541137044146\n",
      "Warning: This function (from_pandas_dataframe()) is deprecated and will be removed in a future version of PyDDM.  Please use the choice_column_name argument instead.\n"
     ]
    },
    {
     "name": "stdout",
     "output_type": "stream",
     "text": [
      "   Drift Rate Speed  Drift Rate Accuracy  Self-excitation Speed  \\\n",
      "0          0.610782             2.699549                7.05415   \n",
      "\n",
      "   Self-excitation Accuracy  Boundary Separation Speed  \\\n",
      "0                     -10.0                   2.271212   \n",
      "\n",
      "   Boundary Separation Accuracy  Non-decision Time Speed  \\\n",
      "0                      0.525897                 0.104622   \n",
      "\n",
      "   Non-decision Time Accuracy        BIC  Frequency  \n",
      "0                    0.461574  60.585411          1  \n",
      "2\n",
      "8\n"
     ]
    },
    {
     "name": "stderr",
     "output_type": "stream",
     "text": [
      "Info: Params [0.         0.94388495 6.4294139  2.30784248 1.79377796 2.03922296\n",
      " 0.10667086 0.2302111 ] gave 211.2693274863443\n",
      "Warning: This function (from_pandas_dataframe()) is deprecated and will be removed in a future version of PyDDM.  Please use the choice_column_name argument instead.\n"
     ]
    },
    {
     "name": "stdout",
     "output_type": "stream",
     "text": [
      "   Drift Rate Speed  Drift Rate Accuracy  Self-excitation Speed  \\\n",
      "0               0.0             0.943885               6.429414   \n",
      "\n",
      "   Self-excitation Accuracy  Boundary Separation Speed  \\\n",
      "0                  2.307842                   1.793778   \n",
      "\n",
      "   Boundary Separation Accuracy  Non-decision Time Speed  \\\n",
      "0                      2.039223                 0.106671   \n",
      "\n",
      "   Non-decision Time Accuracy         BIC  Frequency  \n",
      "0                    0.230211  211.269327          2  \n",
      "3\n",
      "8\n"
     ]
    },
    {
     "name": "stderr",
     "output_type": "stream",
     "text": [
      "Info: Params [0.         0.39433708 6.51728312 2.37510687 2.21005912 2.20793453\n",
      " 0.10766526 0.1206322 ] gave 261.864886905795\n",
      "Warning: This function (from_pandas_dataframe()) is deprecated and will be removed in a future version of PyDDM.  Please use the choice_column_name argument instead.\n"
     ]
    },
    {
     "name": "stdout",
     "output_type": "stream",
     "text": [
      "   Drift Rate Speed  Drift Rate Accuracy  Self-excitation Speed  \\\n",
      "0               0.0             0.394337               6.517283   \n",
      "\n",
      "   Self-excitation Accuracy  Boundary Separation Speed  \\\n",
      "0                  2.375107                   2.210059   \n",
      "\n",
      "   Boundary Separation Accuracy  Non-decision Time Speed  \\\n",
      "0                      2.207935                 0.107665   \n",
      "\n",
      "   Non-decision Time Accuracy         BIC  Frequency  \n",
      "0                    0.120632  261.864887          3  \n",
      "4\n",
      "8\n"
     ]
    },
    {
     "name": "stderr",
     "output_type": "stream",
     "text": [
      "Info: Params [0.48327202 1.04484361 6.03483121 1.0037517  1.81425155 1.36602879\n",
      " 0.10315927 0.22293981] gave 237.02921373410175\n",
      "Warning: This function (from_pandas_dataframe()) is deprecated and will be removed in a future version of PyDDM.  Please use the choice_column_name argument instead.\n"
     ]
    },
    {
     "name": "stdout",
     "output_type": "stream",
     "text": [
      "   Drift Rate Speed  Drift Rate Accuracy  Self-excitation Speed  \\\n",
      "0          0.483272             1.044844               6.034831   \n",
      "\n",
      "   Self-excitation Accuracy  Boundary Separation Speed  \\\n",
      "0                  1.003752                   1.814252   \n",
      "\n",
      "   Boundary Separation Accuracy  Non-decision Time Speed  \\\n",
      "0                      1.366029                 0.103159   \n",
      "\n",
      "   Non-decision Time Accuracy         BIC  Frequency  \n",
      "0                     0.22294  237.029214          4  \n",
      "5\n",
      "8\n"
     ]
    },
    {
     "name": "stderr",
     "output_type": "stream",
     "text": [
      "Info: Params [0.37714281 1.34867962 7.13602899 1.55064491 2.37671522 2.15407939\n",
      " 0.10356315 0.10312089] gave 173.49803962248353\n",
      "Warning: This function (from_pandas_dataframe()) is deprecated and will be removed in a future version of PyDDM.  Please use the choice_column_name argument instead.\n"
     ]
    },
    {
     "name": "stdout",
     "output_type": "stream",
     "text": [
      "   Drift Rate Speed  Drift Rate Accuracy  Self-excitation Speed  \\\n",
      "0          0.377143              1.34868               7.136029   \n",
      "\n",
      "   Self-excitation Accuracy  Boundary Separation Speed  \\\n",
      "0                  1.550645                   2.376715   \n",
      "\n",
      "   Boundary Separation Accuracy  Non-decision Time Speed  \\\n",
      "0                      2.154079                 0.103563   \n",
      "\n",
      "   Non-decision Time Accuracy        BIC  Frequency  \n",
      "0                    0.103121  173.49804          5  \n",
      "6\n",
      "8\n"
     ]
    },
    {
     "name": "stderr",
     "output_type": "stream",
     "text": [
      "Info: Params [0.11413391 1.26982205 6.65348879 1.17009463 2.14197518 1.7022101\n",
      " 0.11011197 0.10778336] gave 200.09267896595014\n",
      "Warning: This function (from_pandas_dataframe()) is deprecated and will be removed in a future version of PyDDM.  Please use the choice_column_name argument instead.\n"
     ]
    },
    {
     "name": "stdout",
     "output_type": "stream",
     "text": [
      "   Drift Rate Speed  Drift Rate Accuracy  Self-excitation Speed  \\\n",
      "0          0.114134             1.269822               6.653489   \n",
      "\n",
      "   Self-excitation Accuracy  Boundary Separation Speed  \\\n",
      "0                  1.170095                   2.141975   \n",
      "\n",
      "   Boundary Separation Accuracy  Non-decision Time Speed  \\\n",
      "0                       1.70221                 0.110112   \n",
      "\n",
      "   Non-decision Time Accuracy         BIC  Frequency  \n",
      "0                    0.107783  200.092679          6  \n",
      "1\n",
      "9\n"
     ]
    },
    {
     "name": "stderr",
     "output_type": "stream",
     "text": [
      "Info: Params [4.15834122 2.90371451 9.34773937 4.19678934 0.59633239 1.32261496\n",
      " 0.38553103 0.35162544] gave -253.62298473056637\n",
      "Warning: This function (from_pandas_dataframe()) is deprecated and will be removed in a future version of PyDDM.  Please use the choice_column_name argument instead.\n"
     ]
    },
    {
     "name": "stdout",
     "output_type": "stream",
     "text": [
      "   Drift Rate Speed  Drift Rate Accuracy  Self-excitation Speed  \\\n",
      "0          4.158341             2.903715               9.347739   \n",
      "\n",
      "   Self-excitation Accuracy  Boundary Separation Speed  \\\n",
      "0                  4.196789                   0.596332   \n",
      "\n",
      "   Boundary Separation Accuracy  Non-decision Time Speed  \\\n",
      "0                      1.322615                 0.385531   \n",
      "\n",
      "   Non-decision Time Accuracy         BIC  Frequency  \n",
      "0                    0.351625 -253.622985          1  \n",
      "2\n",
      "9\n"
     ]
    },
    {
     "name": "stderr",
     "output_type": "stream",
     "text": [
      "Info: Params [1.9026152  1.96223121 9.93073249 2.37046795 0.58360864 1.62554085\n",
      " 0.38514996 0.28559411] gave -25.03288207594285\n",
      "Warning: This function (from_pandas_dataframe()) is deprecated and will be removed in a future version of PyDDM.  Please use the choice_column_name argument instead.\n"
     ]
    },
    {
     "name": "stdout",
     "output_type": "stream",
     "text": [
      "   Drift Rate Speed  Drift Rate Accuracy  Self-excitation Speed  \\\n",
      "0          1.902615             1.962231               9.930732   \n",
      "\n",
      "   Self-excitation Accuracy  Boundary Separation Speed  \\\n",
      "0                  2.370468                   0.583609   \n",
      "\n",
      "   Boundary Separation Accuracy  Non-decision Time Speed  \\\n",
      "0                      1.625541                  0.38515   \n",
      "\n",
      "   Non-decision Time Accuracy        BIC  Frequency  \n",
      "0                    0.285594 -25.032882          2  \n",
      "3\n",
      "9\n"
     ]
    },
    {
     "name": "stderr",
     "output_type": "stream",
     "text": [
      "Info: Params [ 0.91631336  1.33196929 10.          2.48591471  0.72892877  1.06239285\n",
      "  0.38662588  0.37784029] gave 42.81768926369862\n",
      "Warning: This function (from_pandas_dataframe()) is deprecated and will be removed in a future version of PyDDM.  Please use the choice_column_name argument instead.\n"
     ]
    },
    {
     "name": "stdout",
     "output_type": "stream",
     "text": [
      "   Drift Rate Speed  Drift Rate Accuracy  Self-excitation Speed  \\\n",
      "0          0.916313             1.331969                   10.0   \n",
      "\n",
      "   Self-excitation Accuracy  Boundary Separation Speed  \\\n",
      "0                  2.485915                   0.728929   \n",
      "\n",
      "   Boundary Separation Accuracy  Non-decision Time Speed  \\\n",
      "0                      1.062393                 0.386626   \n",
      "\n",
      "   Non-decision Time Accuracy        BIC  Frequency  \n",
      "0                     0.37784  42.817689          3  \n",
      "4\n",
      "9\n"
     ]
    },
    {
     "name": "stderr",
     "output_type": "stream",
     "text": [
      "Info: Params [ 3.28431879  2.18404576  0.09150141 -1.86629229  0.50592725  0.65155722\n",
      "  0.38174066  0.43144707] gave -112.29282917315342\n",
      "Warning: This function (from_pandas_dataframe()) is deprecated and will be removed in a future version of PyDDM.  Please use the choice_column_name argument instead.\n"
     ]
    },
    {
     "name": "stdout",
     "output_type": "stream",
     "text": [
      "   Drift Rate Speed  Drift Rate Accuracy  Self-excitation Speed  \\\n",
      "0          3.284319             2.184046               0.091501   \n",
      "\n",
      "   Self-excitation Accuracy  Boundary Separation Speed  \\\n",
      "0                 -1.866292                   0.505927   \n",
      "\n",
      "   Boundary Separation Accuracy  Non-decision Time Speed  \\\n",
      "0                      0.651557                 0.381741   \n",
      "\n",
      "   Non-decision Time Accuracy         BIC  Frequency  \n",
      "0                    0.431447 -112.292829          4  \n",
      "5\n",
      "9\n"
     ]
    },
    {
     "name": "stderr",
     "output_type": "stream",
     "text": [
      "Info: Params [3.1748988  1.95963704 3.6698878  3.53851639 0.52383857 3.65822427\n",
      " 0.3929714  0.11036168] gave -81.91434096258274\n",
      "Warning: This function (from_pandas_dataframe()) is deprecated and will be removed in a future version of PyDDM.  Please use the choice_column_name argument instead.\n"
     ]
    },
    {
     "name": "stdout",
     "output_type": "stream",
     "text": [
      "   Drift Rate Speed  Drift Rate Accuracy  Self-excitation Speed  \\\n",
      "0          3.174899             1.959637               3.669888   \n",
      "\n",
      "   Self-excitation Accuracy  Boundary Separation Speed  \\\n",
      "0                  3.538516                   0.523839   \n",
      "\n",
      "   Boundary Separation Accuracy  Non-decision Time Speed  \\\n",
      "0                      3.658224                 0.392971   \n",
      "\n",
      "   Non-decision Time Accuracy        BIC  Frequency  \n",
      "0                    0.110362 -81.914341          5  \n",
      "6\n",
      "9\n"
     ]
    },
    {
     "name": "stderr",
     "output_type": "stream",
     "text": [
      "Info: Params [3.26539478 2.44018802 5.7061231  2.61094451 0.50645572 1.12376951\n",
      " 0.40681507 0.38554574] gave -153.788177481905\n",
      "Warning: This function (from_pandas_dataframe()) is deprecated and will be removed in a future version of PyDDM.  Please use the choice_column_name argument instead.\n"
     ]
    },
    {
     "name": "stdout",
     "output_type": "stream",
     "text": [
      "   Drift Rate Speed  Drift Rate Accuracy  Self-excitation Speed  \\\n",
      "0          3.265395             2.440188               5.706123   \n",
      "\n",
      "   Self-excitation Accuracy  Boundary Separation Speed  \\\n",
      "0                  2.610945                   0.506456   \n",
      "\n",
      "   Boundary Separation Accuracy  Non-decision Time Speed  \\\n",
      "0                       1.12377                 0.406815   \n",
      "\n",
      "   Non-decision Time Accuracy         BIC  Frequency  \n",
      "0                    0.385546 -153.788177          6  \n",
      "1\n",
      "10\n"
     ]
    },
    {
     "name": "stderr",
     "output_type": "stream",
     "text": [
      "Info: Params [2.71421274 4.28186069 4.99214467 4.99049912 0.57070694 1.0865667\n",
      " 0.29702165 0.34106268] gave -541.8612135321545\n",
      "Warning: This function (from_pandas_dataframe()) is deprecated and will be removed in a future version of PyDDM.  Please use the choice_column_name argument instead.\n"
     ]
    },
    {
     "name": "stdout",
     "output_type": "stream",
     "text": [
      "   Drift Rate Speed  Drift Rate Accuracy  Self-excitation Speed  \\\n",
      "0          2.714213             4.281861               4.992145   \n",
      "\n",
      "   Self-excitation Accuracy  Boundary Separation Speed  \\\n",
      "0                  4.990499                   0.570707   \n",
      "\n",
      "   Boundary Separation Accuracy  Non-decision Time Speed  \\\n",
      "0                      1.086567                 0.297022   \n",
      "\n",
      "   Non-decision Time Accuracy         BIC  Frequency  \n",
      "0                    0.341063 -541.861214          1  \n",
      "2\n",
      "10\n"
     ]
    },
    {
     "name": "stderr",
     "output_type": "stream",
     "text": [
      "Info: Params [1.46866587 2.77065361 9.12642168 3.85926325 1.23524208 1.42196474\n",
      " 0.25066843 0.29663898] gave -232.40297379179995\n",
      "Warning: This function (from_pandas_dataframe()) is deprecated and will be removed in a future version of PyDDM.  Please use the choice_column_name argument instead.\n"
     ]
    },
    {
     "name": "stdout",
     "output_type": "stream",
     "text": [
      "   Drift Rate Speed  Drift Rate Accuracy  Self-excitation Speed  \\\n",
      "0          1.468666             2.770654               9.126422   \n",
      "\n",
      "   Self-excitation Accuracy  Boundary Separation Speed  \\\n",
      "0                  3.859263                   1.235242   \n",
      "\n",
      "   Boundary Separation Accuracy  Non-decision Time Speed  \\\n",
      "0                      1.421965                 0.250668   \n",
      "\n",
      "   Non-decision Time Accuracy         BIC  Frequency  \n",
      "0                    0.296639 -232.402974          2  \n",
      "3\n",
      "10\n"
     ]
    },
    {
     "name": "stderr",
     "output_type": "stream",
     "text": [
      "Info: Params [0.61406297 1.95962963 7.85288271 4.85359262 0.75387795 1.00479165\n",
      " 0.27437502 0.35939997] gave -65.36571381617597\n",
      "Warning: This function (from_pandas_dataframe()) is deprecated and will be removed in a future version of PyDDM.  Please use the choice_column_name argument instead.\n"
     ]
    },
    {
     "name": "stdout",
     "output_type": "stream",
     "text": [
      "   Drift Rate Speed  Drift Rate Accuracy  Self-excitation Speed  \\\n",
      "0          0.614063              1.95963               7.852883   \n",
      "\n",
      "   Self-excitation Accuracy  Boundary Separation Speed  \\\n",
      "0                  4.853593                   0.753878   \n",
      "\n",
      "   Boundary Separation Accuracy  Non-decision Time Speed  \\\n",
      "0                      1.004792                 0.274375   \n",
      "\n",
      "   Non-decision Time Accuracy        BIC  Frequency  \n",
      "0                      0.3594 -65.365714          3  \n",
      "4\n",
      "10\n"
     ]
    },
    {
     "name": "stderr",
     "output_type": "stream",
     "text": [
      "Info: Params [2.20487941 2.50534509 4.19315901 3.17265828 0.64660406 1.02140139\n",
      " 0.27719861 0.33515873] gave -215.23455710420882\n",
      "Warning: This function (from_pandas_dataframe()) is deprecated and will be removed in a future version of PyDDM.  Please use the choice_column_name argument instead.\n"
     ]
    },
    {
     "name": "stdout",
     "output_type": "stream",
     "text": [
      "   Drift Rate Speed  Drift Rate Accuracy  Self-excitation Speed  \\\n",
      "0          2.204879             2.505345               4.193159   \n",
      "\n",
      "   Self-excitation Accuracy  Boundary Separation Speed  \\\n",
      "0                  3.172658                   0.646604   \n",
      "\n",
      "   Boundary Separation Accuracy  Non-decision Time Speed  \\\n",
      "0                      1.021401                 0.277199   \n",
      "\n",
      "   Non-decision Time Accuracy         BIC  Frequency  \n",
      "0                    0.335159 -215.234557          4  \n",
      "5\n",
      "10\n"
     ]
    },
    {
     "name": "stderr",
     "output_type": "stream",
     "text": [
      "Info: Params [ 2.67839777  2.48366178 10.          2.93127729  6.93912443  1.39461478\n",
      "  0.11050006  0.29473018] gave -232.4032782737069\n",
      "Warning: This function (from_pandas_dataframe()) is deprecated and will be removed in a future version of PyDDM.  Please use the choice_column_name argument instead.\n"
     ]
    },
    {
     "name": "stdout",
     "output_type": "stream",
     "text": [
      "   Drift Rate Speed  Drift Rate Accuracy  Self-excitation Speed  \\\n",
      "0          2.678398             2.483662                   10.0   \n",
      "\n",
      "   Self-excitation Accuracy  Boundary Separation Speed  \\\n",
      "0                  2.931277                   6.939124   \n",
      "\n",
      "   Boundary Separation Accuracy  Non-decision Time Speed  \\\n",
      "0                      1.394615                   0.1105   \n",
      "\n",
      "   Non-decision Time Accuracy         BIC  Frequency  \n",
      "0                     0.29473 -232.403278          5  \n",
      "6\n",
      "10\n"
     ]
    },
    {
     "name": "stderr",
     "output_type": "stream",
     "text": [
      "Info: Params [2.57842657 2.78367581 1.52351393 2.99093127 0.55857877 1.09176778\n",
      " 0.28273313 0.33358545] gave -289.47385367564596\n",
      "Warning: This function (from_pandas_dataframe()) is deprecated and will be removed in a future version of PyDDM.  Please use the choice_column_name argument instead.\n"
     ]
    },
    {
     "name": "stdout",
     "output_type": "stream",
     "text": [
      "   Drift Rate Speed  Drift Rate Accuracy  Self-excitation Speed  \\\n",
      "0          2.578427             2.783676               1.523514   \n",
      "\n",
      "   Self-excitation Accuracy  Boundary Separation Speed  \\\n",
      "0                  2.990931                   0.558579   \n",
      "\n",
      "   Boundary Separation Accuracy  Non-decision Time Speed  \\\n",
      "0                      1.091768                 0.282733   \n",
      "\n",
      "   Non-decision Time Accuracy         BIC  Frequency  \n",
      "0                    0.333585 -289.473854          6  \n",
      "1\n",
      "11\n"
     ]
    },
    {
     "name": "stderr",
     "output_type": "stream",
     "text": [
      "Info: Params [3.57880186 4.05174712 9.39091359 4.56176851 0.71820219 0.8162571\n",
      " 0.33346713 0.36600875] gave -636.3449471153682\n",
      "Warning: This function (from_pandas_dataframe()) is deprecated and will be removed in a future version of PyDDM.  Please use the choice_column_name argument instead.\n"
     ]
    },
    {
     "name": "stdout",
     "output_type": "stream",
     "text": [
      "   Drift Rate Speed  Drift Rate Accuracy  Self-excitation Speed  \\\n",
      "0          3.578802             4.051747               9.390914   \n",
      "\n",
      "   Self-excitation Accuracy  Boundary Separation Speed  \\\n",
      "0                  4.561769                   0.718202   \n",
      "\n",
      "   Boundary Separation Accuracy  Non-decision Time Speed  \\\n",
      "0                      0.816257                 0.333467   \n",
      "\n",
      "   Non-decision Time Accuracy         BIC  Frequency  \n",
      "0                    0.366009 -636.344947          1  \n",
      "2\n",
      "11\n"
     ]
    },
    {
     "name": "stderr",
     "output_type": "stream",
     "text": [
      "Info: Params [1.14632054 2.51189244 9.52847435 5.91036585 0.76069912 0.83731316\n",
      " 0.33593232 0.39670493] gave -248.8858221925487\n",
      "Warning: This function (from_pandas_dataframe()) is deprecated and will be removed in a future version of PyDDM.  Please use the choice_column_name argument instead.\n"
     ]
    },
    {
     "name": "stdout",
     "output_type": "stream",
     "text": [
      "   Drift Rate Speed  Drift Rate Accuracy  Self-excitation Speed  \\\n",
      "0          1.146321             2.511892               9.528474   \n",
      "\n",
      "   Self-excitation Accuracy  Boundary Separation Speed  \\\n",
      "0                  5.910366                   0.760699   \n",
      "\n",
      "   Boundary Separation Accuracy  Non-decision Time Speed  \\\n",
      "0                      0.837313                 0.335932   \n",
      "\n",
      "   Non-decision Time Accuracy         BIC  Frequency  \n",
      "0                    0.396705 -248.885822          2  \n",
      "3\n",
      "11\n"
     ]
    },
    {
     "name": "stderr",
     "output_type": "stream",
     "text": [
      "Info: Params [ 0.81829251  1.58736895 10.          5.39972146  0.68419519  1.18187051\n",
      "  0.33441907  0.34714769] gave -72.65528029903989\n",
      "Warning: This function (from_pandas_dataframe()) is deprecated and will be removed in a future version of PyDDM.  Please use the choice_column_name argument instead.\n"
     ]
    },
    {
     "name": "stdout",
     "output_type": "stream",
     "text": [
      "   Drift Rate Speed  Drift Rate Accuracy  Self-excitation Speed  \\\n",
      "0          0.818293             1.587369                   10.0   \n",
      "\n",
      "   Self-excitation Accuracy  Boundary Separation Speed  \\\n",
      "0                  5.399721                   0.684195   \n",
      "\n",
      "   Boundary Separation Accuracy  Non-decision Time Speed  \\\n",
      "0                      1.181871                 0.334419   \n",
      "\n",
      "   Non-decision Time Accuracy       BIC  Frequency  \n",
      "0                    0.347148 -72.65528          3  \n",
      "4\n",
      "11\n"
     ]
    },
    {
     "name": "stderr",
     "output_type": "stream",
     "text": [
      "Info: Params [1.54515671 2.58552514 7.6409722  5.1229206  0.68180305 1.58522517\n",
      " 0.34438884 0.32590648] gave -210.3074637041684\n",
      "Warning: This function (from_pandas_dataframe()) is deprecated and will be removed in a future version of PyDDM.  Please use the choice_column_name argument instead.\n"
     ]
    },
    {
     "name": "stdout",
     "output_type": "stream",
     "text": [
      "   Drift Rate Speed  Drift Rate Accuracy  Self-excitation Speed  \\\n",
      "0          1.545157             2.585525               7.640972   \n",
      "\n",
      "   Self-excitation Accuracy  Boundary Separation Speed  \\\n",
      "0                  5.122921                   0.681803   \n",
      "\n",
      "   Boundary Separation Accuracy  Non-decision Time Speed  \\\n",
      "0                      1.585225                 0.344389   \n",
      "\n",
      "   Non-decision Time Accuracy         BIC  Frequency  \n",
      "0                    0.325906 -210.307464          4  \n",
      "5\n",
      "11\n"
     ]
    },
    {
     "name": "stderr",
     "output_type": "stream",
     "text": [
      "Info: Params [2.20134873 2.77130023 9.20129412 1.67244713 0.82007401 0.81464142\n",
      " 0.33362364 0.39581737] gave -305.2084738631579\n",
      "Warning: This function (from_pandas_dataframe()) is deprecated and will be removed in a future version of PyDDM.  Please use the choice_column_name argument instead.\n"
     ]
    },
    {
     "name": "stdout",
     "output_type": "stream",
     "text": [
      "   Drift Rate Speed  Drift Rate Accuracy  Self-excitation Speed  \\\n",
      "0          2.201349               2.7713               9.201294   \n",
      "\n",
      "   Self-excitation Accuracy  Boundary Separation Speed  \\\n",
      "0                  1.672447                   0.820074   \n",
      "\n",
      "   Boundary Separation Accuracy  Non-decision Time Speed  \\\n",
      "0                      0.814641                 0.333624   \n",
      "\n",
      "   Non-decision Time Accuracy         BIC  Frequency  \n",
      "0                    0.395817 -305.208474          5  \n",
      "6\n",
      "11\n"
     ]
    },
    {
     "name": "stderr",
     "output_type": "stream",
     "text": [
      "Info: Params [2.42733703 2.40752694 7.674555   3.03294102 0.74688242 0.87867612\n",
      " 0.34498909 0.37908155] gave -281.44803768618937\n",
      "Warning: This function (from_pandas_dataframe()) is deprecated and will be removed in a future version of PyDDM.  Please use the choice_column_name argument instead.\n"
     ]
    },
    {
     "name": "stdout",
     "output_type": "stream",
     "text": [
      "   Drift Rate Speed  Drift Rate Accuracy  Self-excitation Speed  \\\n",
      "0          2.427337             2.407527               7.674555   \n",
      "\n",
      "   Self-excitation Accuracy  Boundary Separation Speed  \\\n",
      "0                  3.032941                   0.746882   \n",
      "\n",
      "   Boundary Separation Accuracy  Non-decision Time Speed  \\\n",
      "0                      0.878676                 0.344989   \n",
      "\n",
      "   Non-decision Time Accuracy         BIC  Frequency  \n",
      "0                    0.379082 -281.448038          6  \n",
      "1\n",
      "12\n"
     ]
    },
    {
     "name": "stderr",
     "output_type": "stream",
     "text": [
      "Info: Params [2.29127237 2.40673885 9.92815457 2.89750925 7.93529701 0.94322128\n",
      " 0.1152447  0.30823396] gave -223.36446688015\n",
      "Warning: This function (from_pandas_dataframe()) is deprecated and will be removed in a future version of PyDDM.  Please use the choice_column_name argument instead.\n"
     ]
    },
    {
     "name": "stdout",
     "output_type": "stream",
     "text": [
      "   Drift Rate Speed  Drift Rate Accuracy  Self-excitation Speed  \\\n",
      "0          2.291272             2.406739               9.928155   \n",
      "\n",
      "   Self-excitation Accuracy  Boundary Separation Speed  \\\n",
      "0                  2.897509                   7.935297   \n",
      "\n",
      "   Boundary Separation Accuracy  Non-decision Time Speed  \\\n",
      "0                      0.943221                 0.115245   \n",
      "\n",
      "   Non-decision Time Accuracy         BIC  Frequency  \n",
      "0                    0.308234 -223.364467          1  \n",
      "2\n",
      "12\n"
     ]
    },
    {
     "name": "stderr",
     "output_type": "stream",
     "text": [
      "Info: Params [1.32875062 1.24929634 9.82522771 2.79934742 2.30635733 0.98046481\n",
      " 0.24029181 0.32869247] gave 53.23112820159068\n",
      "Warning: This function (from_pandas_dataframe()) is deprecated and will be removed in a future version of PyDDM.  Please use the choice_column_name argument instead.\n"
     ]
    },
    {
     "name": "stdout",
     "output_type": "stream",
     "text": [
      "   Drift Rate Speed  Drift Rate Accuracy  Self-excitation Speed  \\\n",
      "0          1.328751             1.249296               9.825228   \n",
      "\n",
      "   Self-excitation Accuracy  Boundary Separation Speed  \\\n",
      "0                  2.799347                   2.306357   \n",
      "\n",
      "   Boundary Separation Accuracy  Non-decision Time Speed  \\\n",
      "0                      0.980465                 0.240292   \n",
      "\n",
      "   Non-decision Time Accuracy        BIC  Frequency  \n",
      "0                    0.328692  53.231128          2  \n",
      "3\n",
      "12\n"
     ]
    },
    {
     "name": "stderr",
     "output_type": "stream",
     "text": [
      "Info: Params [0.35319669 0.83200192 9.50612998 1.1162587  3.23799869 0.77925667\n",
      " 0.17582772 0.32607509] gave 213.3510756851897\n",
      "Warning: This function (from_pandas_dataframe()) is deprecated and will be removed in a future version of PyDDM.  Please use the choice_column_name argument instead.\n"
     ]
    },
    {
     "name": "stdout",
     "output_type": "stream",
     "text": [
      "   Drift Rate Speed  Drift Rate Accuracy  Self-excitation Speed  \\\n",
      "0          0.353197             0.832002                9.50613   \n",
      "\n",
      "   Self-excitation Accuracy  Boundary Separation Speed  \\\n",
      "0                  1.116259                   3.237999   \n",
      "\n",
      "   Boundary Separation Accuracy  Non-decision Time Speed  \\\n",
      "0                      0.779257                 0.175828   \n",
      "\n",
      "   Non-decision Time Accuracy         BIC  Frequency  \n",
      "0                    0.326075  213.351076          3  \n",
      "4\n",
      "12\n"
     ]
    },
    {
     "name": "stderr",
     "output_type": "stream",
     "text": [
      "Info: Params [1.47147869 1.6023557  4.84126905 2.86523545 2.02532432 1.23318423\n",
      " 0.14388769 0.26181162] gave 123.96339418174227\n",
      "Warning: This function (from_pandas_dataframe()) is deprecated and will be removed in a future version of PyDDM.  Please use the choice_column_name argument instead.\n"
     ]
    },
    {
     "name": "stdout",
     "output_type": "stream",
     "text": [
      "   Drift Rate Speed  Drift Rate Accuracy  Self-excitation Speed  \\\n",
      "0          1.471479             1.602356               4.841269   \n",
      "\n",
      "   Self-excitation Accuracy  Boundary Separation Speed  \\\n",
      "0                  2.865235                   2.025324   \n",
      "\n",
      "   Boundary Separation Accuracy  Non-decision Time Speed  \\\n",
      "0                      1.233184                 0.143888   \n",
      "\n",
      "   Non-decision Time Accuracy         BIC  Frequency  \n",
      "0                    0.261812  123.963394          4  \n",
      "5\n",
      "12\n"
     ]
    },
    {
     "name": "stderr",
     "output_type": "stream",
     "text": [
      "Info: Params [1.59123803 1.64753251 9.41937858 1.44840209 7.98316239 0.94232145\n",
      " 0.11024569 0.31196596] gave 33.49868830611959\n",
      "Warning: This function (from_pandas_dataframe()) is deprecated and will be removed in a future version of PyDDM.  Please use the choice_column_name argument instead.\n"
     ]
    },
    {
     "name": "stdout",
     "output_type": "stream",
     "text": [
      "   Drift Rate Speed  Drift Rate Accuracy  Self-excitation Speed  \\\n",
      "0          1.591238             1.647533               9.419379   \n",
      "\n",
      "   Self-excitation Accuracy  Boundary Separation Speed  \\\n",
      "0                  1.448402                   7.983162   \n",
      "\n",
      "   Boundary Separation Accuracy  Non-decision Time Speed  \\\n",
      "0                      0.942321                 0.110246   \n",
      "\n",
      "   Non-decision Time Accuracy        BIC  Frequency  \n",
      "0                    0.311966  33.498688          5  \n",
      "6\n",
      "12\n"
     ]
    },
    {
     "name": "stderr",
     "output_type": "stream",
     "text": [
      "Info: Params [1.8756497  1.59123183 8.04189863 2.7777828  7.24631296 1.73210755\n",
      " 0.10379179 0.18757241] gave 72.35510261404265\n",
      "Warning: This function (from_pandas_dataframe()) is deprecated and will be removed in a future version of PyDDM.  Please use the choice_column_name argument instead.\n"
     ]
    },
    {
     "name": "stdout",
     "output_type": "stream",
     "text": [
      "   Drift Rate Speed  Drift Rate Accuracy  Self-excitation Speed  \\\n",
      "0           1.87565             1.591232               8.041899   \n",
      "\n",
      "   Self-excitation Accuracy  Boundary Separation Speed  \\\n",
      "0                  2.777783                   7.246313   \n",
      "\n",
      "   Boundary Separation Accuracy  Non-decision Time Speed  \\\n",
      "0                      1.732108                 0.103792   \n",
      "\n",
      "   Non-decision Time Accuracy        BIC  Frequency  \n",
      "0                    0.187572  72.355103          6  \n",
      "1\n",
      "13\n"
     ]
    },
    {
     "name": "stderr",
     "output_type": "stream",
     "text": [
      "Info: Params [1.99603903 2.07454797 7.07462278 2.61058176 0.905419   1.25184829\n",
      " 0.31295375 0.29110729] gave -89.00056652209682\n",
      "Warning: This function (from_pandas_dataframe()) is deprecated and will be removed in a future version of PyDDM.  Please use the choice_column_name argument instead.\n"
     ]
    },
    {
     "name": "stdout",
     "output_type": "stream",
     "text": [
      "   Drift Rate Speed  Drift Rate Accuracy  Self-excitation Speed  \\\n",
      "0          1.996039             2.074548               7.074623   \n",
      "\n",
      "   Self-excitation Accuracy  Boundary Separation Speed  \\\n",
      "0                  2.610582                   0.905419   \n",
      "\n",
      "   Boundary Separation Accuracy  Non-decision Time Speed  \\\n",
      "0                      1.251848                 0.312954   \n",
      "\n",
      "   Non-decision Time Accuracy        BIC  Frequency  \n",
      "0                    0.291107 -89.000567          1  \n",
      "2\n",
      "13\n"
     ]
    },
    {
     "name": "stderr",
     "output_type": "stream",
     "text": [
      "Info: Params [1.43405176 1.65099419 7.13924648 1.57436352 0.86761242 0.87863289\n",
      " 0.33891926 0.39574026] gave 8.093202285597556\n",
      "Warning: This function (from_pandas_dataframe()) is deprecated and will be removed in a future version of PyDDM.  Please use the choice_column_name argument instead.\n"
     ]
    },
    {
     "name": "stdout",
     "output_type": "stream",
     "text": [
      "   Drift Rate Speed  Drift Rate Accuracy  Self-excitation Speed  \\\n",
      "0          1.434052             1.650994               7.139246   \n",
      "\n",
      "   Self-excitation Accuracy  Boundary Separation Speed  \\\n",
      "0                  1.574364                   0.867612   \n",
      "\n",
      "   Boundary Separation Accuracy  Non-decision Time Speed  \\\n",
      "0                      0.878633                 0.338919   \n",
      "\n",
      "   Non-decision Time Accuracy       BIC  Frequency  \n",
      "0                     0.39574  8.093202          2  \n",
      "3\n",
      "13\n"
     ]
    },
    {
     "name": "stderr",
     "output_type": "stream",
     "text": [
      "Info: Params [0.34114234 0.88719732 8.2992816  2.78072603 2.15628323 1.1614134\n",
      " 0.24251613 0.32395649] gave 246.37617432171248\n",
      "Warning: This function (from_pandas_dataframe()) is deprecated and will be removed in a future version of PyDDM.  Please use the choice_column_name argument instead.\n"
     ]
    },
    {
     "name": "stdout",
     "output_type": "stream",
     "text": [
      "   Drift Rate Speed  Drift Rate Accuracy  Self-excitation Speed  \\\n",
      "0          0.341142             0.887197               8.299282   \n",
      "\n",
      "   Self-excitation Accuracy  Boundary Separation Speed  \\\n",
      "0                  2.780726                   2.156283   \n",
      "\n",
      "   Boundary Separation Accuracy  Non-decision Time Speed  \\\n",
      "0                      1.161413                 0.242516   \n",
      "\n",
      "   Non-decision Time Accuracy         BIC  Frequency  \n",
      "0                    0.323956  246.376174          3  \n",
      "4\n",
      "13\n"
     ]
    },
    {
     "name": "stderr",
     "output_type": "stream",
     "text": [
      "Info: Params [ 1.46976232  1.62109555  7.11411604 -0.18678409  1.17400264  0.82839311\n",
      "  0.30001075  0.37743288] gave 76.66349840211325\n",
      "Warning: This function (from_pandas_dataframe()) is deprecated and will be removed in a future version of PyDDM.  Please use the choice_column_name argument instead.\n"
     ]
    },
    {
     "name": "stdout",
     "output_type": "stream",
     "text": [
      "   Drift Rate Speed  Drift Rate Accuracy  Self-excitation Speed  \\\n",
      "0          1.469762             1.621096               7.114116   \n",
      "\n",
      "   Self-excitation Accuracy  Boundary Separation Speed  \\\n",
      "0                 -0.186784                   1.174003   \n",
      "\n",
      "   Boundary Separation Accuracy  Non-decision Time Speed  \\\n",
      "0                      0.828393                 0.300011   \n",
      "\n",
      "   Non-decision Time Accuracy        BIC  Frequency  \n",
      "0                    0.377433  76.663498          4  \n",
      "5\n",
      "13\n"
     ]
    },
    {
     "name": "stderr",
     "output_type": "stream",
     "text": [
      "Info: Params [1.96269344 1.56485704 6.16931333 0.86129071 1.05843712 0.9022403\n",
      " 0.31888385 0.38384679] gave 40.093083397511805\n",
      "Warning: This function (from_pandas_dataframe()) is deprecated and will be removed in a future version of PyDDM.  Please use the choice_column_name argument instead.\n"
     ]
    },
    {
     "name": "stdout",
     "output_type": "stream",
     "text": [
      "   Drift Rate Speed  Drift Rate Accuracy  Self-excitation Speed  \\\n",
      "0          1.962693             1.564857               6.169313   \n",
      "\n",
      "   Self-excitation Accuracy  Boundary Separation Speed  \\\n",
      "0                  0.861291                   1.058437   \n",
      "\n",
      "   Boundary Separation Accuracy  Non-decision Time Speed  \\\n",
      "0                       0.90224                 0.318884   \n",
      "\n",
      "   Non-decision Time Accuracy        BIC  Frequency  \n",
      "0                    0.383847  40.093083          5  \n",
      "6\n",
      "13\n"
     ]
    },
    {
     "name": "stderr",
     "output_type": "stream",
     "text": [
      "Info: Params [1.5425957  1.51301497 3.20532138 2.25466207 1.16624095 1.04919688\n",
      " 0.23573264 0.33783052] gave 107.51174722857365\n",
      "Warning: This function (from_pandas_dataframe()) is deprecated and will be removed in a future version of PyDDM.  Please use the choice_column_name argument instead.\n"
     ]
    },
    {
     "name": "stdout",
     "output_type": "stream",
     "text": [
      "   Drift Rate Speed  Drift Rate Accuracy  Self-excitation Speed  \\\n",
      "0          1.542596             1.513015               3.205321   \n",
      "\n",
      "   Self-excitation Accuracy  Boundary Separation Speed  \\\n",
      "0                  2.254662                   1.166241   \n",
      "\n",
      "   Boundary Separation Accuracy  Non-decision Time Speed  \\\n",
      "0                      1.049197                 0.235733   \n",
      "\n",
      "   Non-decision Time Accuracy         BIC  Frequency  \n",
      "0                    0.337831  107.511747          6  \n",
      "1\n",
      "14\n"
     ]
    },
    {
     "name": "stderr",
     "output_type": "stream",
     "text": [
      "Info: Params [3.32948868 2.59850542 8.31923759 2.90222638 1.9703673  1.85895601\n",
      " 0.23324051 0.22067492] gave -296.4353627155792\n",
      "Warning: This function (from_pandas_dataframe()) is deprecated and will be removed in a future version of PyDDM.  Please use the choice_column_name argument instead.\n"
     ]
    },
    {
     "name": "stdout",
     "output_type": "stream",
     "text": [
      "   Drift Rate Speed  Drift Rate Accuracy  Self-excitation Speed  \\\n",
      "0          3.329489             2.598505               8.319238   \n",
      "\n",
      "   Self-excitation Accuracy  Boundary Separation Speed  \\\n",
      "0                  2.902226                   1.970367   \n",
      "\n",
      "   Boundary Separation Accuracy  Non-decision Time Speed  \\\n",
      "0                      1.858956                 0.233241   \n",
      "\n",
      "   Non-decision Time Accuracy         BIC  Frequency  \n",
      "0                    0.220675 -296.435363          1  \n",
      "2\n",
      "14\n"
     ]
    },
    {
     "name": "stderr",
     "output_type": "stream",
     "text": [
      "Info: Params [2.21317896 1.74621791 7.3065383  2.31291053 1.13598866 1.19107457\n",
      " 0.29880306 0.33330137] gave -26.257624243972494\n",
      "Warning: This function (from_pandas_dataframe()) is deprecated and will be removed in a future version of PyDDM.  Please use the choice_column_name argument instead.\n"
     ]
    },
    {
     "name": "stdout",
     "output_type": "stream",
     "text": [
      "   Drift Rate Speed  Drift Rate Accuracy  Self-excitation Speed  \\\n",
      "0          2.213179             1.746218               7.306538   \n",
      "\n",
      "   Self-excitation Accuracy  Boundary Separation Speed  \\\n",
      "0                  2.312911                   1.135989   \n",
      "\n",
      "   Boundary Separation Accuracy  Non-decision Time Speed  \\\n",
      "0                      1.191075                 0.298803   \n",
      "\n",
      "   Non-decision Time Accuracy        BIC  Frequency  \n",
      "0                    0.333301 -26.257624          2  \n",
      "3\n",
      "14\n"
     ]
    },
    {
     "name": "stderr",
     "output_type": "stream",
     "text": [
      "Info: Params [1.47320855 1.35315086 7.37660534 2.43477401 1.02751456 2.05196403\n",
      " 0.31023932 0.17306937] gave 159.6670802942223\n",
      "Warning: This function (from_pandas_dataframe()) is deprecated and will be removed in a future version of PyDDM.  Please use the choice_column_name argument instead.\n"
     ]
    },
    {
     "name": "stdout",
     "output_type": "stream",
     "text": [
      "   Drift Rate Speed  Drift Rate Accuracy  Self-excitation Speed  \\\n",
      "0          1.473209             1.353151               7.376605   \n",
      "\n",
      "   Self-excitation Accuracy  Boundary Separation Speed  \\\n",
      "0                  2.434774                   1.027515   \n",
      "\n",
      "   Boundary Separation Accuracy  Non-decision Time Speed  \\\n",
      "0                      2.051964                 0.310239   \n",
      "\n",
      "   Non-decision Time Accuracy        BIC  Frequency  \n",
      "0                    0.173069  159.66708          3  \n",
      "4\n",
      "14\n"
     ]
    },
    {
     "name": "stderr",
     "output_type": "stream",
     "text": [
      "Info: Params [ 2.09364592  2.92265336  4.07172312 -9.79062116  1.147387    0.54613148\n",
      "  0.31426106  0.49913103] gave -105.25836343632236\n",
      "Warning: This function (from_pandas_dataframe()) is deprecated and will be removed in a future version of PyDDM.  Please use the choice_column_name argument instead.\n"
     ]
    },
    {
     "name": "stdout",
     "output_type": "stream",
     "text": [
      "   Drift Rate Speed  Drift Rate Accuracy  Self-excitation Speed  \\\n",
      "0          2.093646             2.922653               4.071723   \n",
      "\n",
      "   Self-excitation Accuracy  Boundary Separation Speed  \\\n",
      "0                 -9.790621                   1.147387   \n",
      "\n",
      "   Boundary Separation Accuracy  Non-decision Time Speed  \\\n",
      "0                      0.546131                 0.314261   \n",
      "\n",
      "   Non-decision Time Accuracy         BIC  Frequency  \n",
      "0                    0.499131 -105.258363          4  \n",
      "5\n",
      "14\n"
     ]
    },
    {
     "name": "stderr",
     "output_type": "stream",
     "text": [
      "Info: Params [1.68132367 1.48542086 8.62919791 1.16774313 6.30016865 2.06703185\n",
      " 0.15311299 0.10677027] gave 184.42509892120268\n",
      "Warning: This function (from_pandas_dataframe()) is deprecated and will be removed in a future version of PyDDM.  Please use the choice_column_name argument instead.\n"
     ]
    },
    {
     "name": "stdout",
     "output_type": "stream",
     "text": [
      "   Drift Rate Speed  Drift Rate Accuracy  Self-excitation Speed  \\\n",
      "0          1.681324             1.485421               8.629198   \n",
      "\n",
      "   Self-excitation Accuracy  Boundary Separation Speed  \\\n",
      "0                  1.167743                   6.300169   \n",
      "\n",
      "   Boundary Separation Accuracy  Non-decision Time Speed  \\\n",
      "0                      2.067032                 0.153113   \n",
      "\n",
      "   Non-decision Time Accuracy         BIC  Frequency  \n",
      "0                     0.10677  184.425099          5  \n",
      "6\n",
      "14\n"
     ]
    },
    {
     "name": "stderr",
     "output_type": "stream",
     "text": [
      "Info: Params [  2.05734079   2.37390213   4.91353553 -10.           0.73129305\n",
      "   0.56982705   0.34345504   0.47548529] gave 31.634279214722536\n",
      "Warning: This function (from_pandas_dataframe()) is deprecated and will be removed in a future version of PyDDM.  Please use the choice_column_name argument instead.\n"
     ]
    },
    {
     "name": "stdout",
     "output_type": "stream",
     "text": [
      "   Drift Rate Speed  Drift Rate Accuracy  Self-excitation Speed  \\\n",
      "0          2.057341             2.373902               4.913536   \n",
      "\n",
      "   Self-excitation Accuracy  Boundary Separation Speed  \\\n",
      "0                     -10.0                   0.731293   \n",
      "\n",
      "   Boundary Separation Accuracy  Non-decision Time Speed  \\\n",
      "0                      0.569827                 0.343455   \n",
      "\n",
      "   Non-decision Time Accuracy        BIC  Frequency  \n",
      "0                    0.475485  31.634279          6  \n",
      "1\n",
      "15\n"
     ]
    },
    {
     "name": "stderr",
     "output_type": "stream",
     "text": [
      "Info: Params [2.41306069 2.40470109 7.89886699 0.48364424 1.00012945 0.97019835\n",
      " 0.31189338 0.36406133] gave -196.73804146080522\n",
      "Warning: This function (from_pandas_dataframe()) is deprecated and will be removed in a future version of PyDDM.  Please use the choice_column_name argument instead.\n"
     ]
    },
    {
     "name": "stdout",
     "output_type": "stream",
     "text": [
      "   Drift Rate Speed  Drift Rate Accuracy  Self-excitation Speed  \\\n",
      "0          2.413061             2.404701               7.898867   \n",
      "\n",
      "   Self-excitation Accuracy  Boundary Separation Speed  \\\n",
      "0                  0.483644                   1.000129   \n",
      "\n",
      "   Boundary Separation Accuracy  Non-decision Time Speed  \\\n",
      "0                      0.970198                 0.311893   \n",
      "\n",
      "   Non-decision Time Accuracy         BIC  Frequency  \n",
      "0                    0.364061 -196.738041          1  \n",
      "2\n",
      "15\n"
     ]
    },
    {
     "name": "stderr",
     "output_type": "stream",
     "text": [
      "Info: Params [1.89545633 2.12605751 9.73057448 2.61185324 7.97809878 1.71900525\n",
      " 0.15313926 0.33322044] gave -49.79513591537841\n",
      "Warning: This function (from_pandas_dataframe()) is deprecated and will be removed in a future version of PyDDM.  Please use the choice_column_name argument instead.\n"
     ]
    },
    {
     "name": "stdout",
     "output_type": "stream",
     "text": [
      "   Drift Rate Speed  Drift Rate Accuracy  Self-excitation Speed  \\\n",
      "0          1.895456             2.126058               9.730574   \n",
      "\n",
      "   Self-excitation Accuracy  Boundary Separation Speed  \\\n",
      "0                  2.611853                   7.978099   \n",
      "\n",
      "   Boundary Separation Accuracy  Non-decision Time Speed  \\\n",
      "0                      1.719005                 0.153139   \n",
      "\n",
      "   Non-decision Time Accuracy        BIC  Frequency  \n",
      "0                     0.33322 -49.795136          2  \n",
      "3\n",
      "15\n"
     ]
    },
    {
     "name": "stderr",
     "output_type": "stream",
     "text": [
      "Info: Params [ 0.81230541  1.20988502 10.          2.30382355  2.1158842   1.25205876\n",
      "  0.2604057   0.39816945] gave 137.09747661090495\n",
      "Warning: This function (from_pandas_dataframe()) is deprecated and will be removed in a future version of PyDDM.  Please use the choice_column_name argument instead.\n"
     ]
    },
    {
     "name": "stdout",
     "output_type": "stream",
     "text": [
      "   Drift Rate Speed  Drift Rate Accuracy  Self-excitation Speed  \\\n",
      "0          0.812305             1.209885                   10.0   \n",
      "\n",
      "   Self-excitation Accuracy  Boundary Separation Speed  \\\n",
      "0                  2.303824                   2.115884   \n",
      "\n",
      "   Boundary Separation Accuracy  Non-decision Time Speed  \\\n",
      "0                      1.252059                 0.260406   \n",
      "\n",
      "   Non-decision Time Accuracy         BIC  Frequency  \n",
      "0                    0.398169  137.097477          3  \n",
      "4\n",
      "15\n"
     ]
    },
    {
     "name": "stderr",
     "output_type": "stream",
     "text": [
      "Info: Params [1.92919854 2.14179147 7.43552767 1.25730064 0.83739947 1.1510893\n",
      " 0.34469736 0.42482295] gave -111.41981615840845\n",
      "Warning: This function (from_pandas_dataframe()) is deprecated and will be removed in a future version of PyDDM.  Please use the choice_column_name argument instead.\n"
     ]
    },
    {
     "name": "stdout",
     "output_type": "stream",
     "text": [
      "   Drift Rate Speed  Drift Rate Accuracy  Self-excitation Speed  \\\n",
      "0          1.929199             2.141791               7.435528   \n",
      "\n",
      "   Self-excitation Accuracy  Boundary Separation Speed  \\\n",
      "0                  1.257301                   0.837399   \n",
      "\n",
      "   Boundary Separation Accuracy  Non-decision Time Speed  \\\n",
      "0                      1.151089                 0.344697   \n",
      "\n",
      "   Non-decision Time Accuracy         BIC  Frequency  \n",
      "0                    0.424823 -111.419816          4  \n",
      "5\n",
      "15\n"
     ]
    },
    {
     "name": "stderr",
     "output_type": "stream",
     "text": [
      "Info: Params [ 1.72085669  1.86656854 10.          1.32073894  7.46715098  1.29197968\n",
      "  0.16865544  0.36563717] gave 0.4510027691516214\n",
      "Warning: This function (from_pandas_dataframe()) is deprecated and will be removed in a future version of PyDDM.  Please use the choice_column_name argument instead.\n"
     ]
    },
    {
     "name": "stdout",
     "output_type": "stream",
     "text": [
      "   Drift Rate Speed  Drift Rate Accuracy  Self-excitation Speed  \\\n",
      "0          1.720857             1.866569                   10.0   \n",
      "\n",
      "   Self-excitation Accuracy  Boundary Separation Speed  \\\n",
      "0                  1.320739                   7.467151   \n",
      "\n",
      "   Boundary Separation Accuracy  Non-decision Time Speed  \\\n",
      "0                       1.29198                 0.168655   \n",
      "\n",
      "   Non-decision Time Accuracy       BIC  Frequency  \n",
      "0                    0.365637  0.451003          5  \n",
      "6\n",
      "15\n"
     ]
    },
    {
     "name": "stderr",
     "output_type": "stream",
     "text": [
      "Info: Params [ 2.30670594  2.62091088  9.92192681 -6.65167876  2.86433682  0.56362314\n",
      "  0.26147506  0.48544237] gave -150.6067847500027\n",
      "Warning: This function (from_pandas_dataframe()) is deprecated and will be removed in a future version of PyDDM.  Please use the choice_column_name argument instead.\n"
     ]
    },
    {
     "name": "stdout",
     "output_type": "stream",
     "text": [
      "   Drift Rate Speed  Drift Rate Accuracy  Self-excitation Speed  \\\n",
      "0          2.306706             2.620911               9.921927   \n",
      "\n",
      "   Self-excitation Accuracy  Boundary Separation Speed  \\\n",
      "0                 -6.651679                   2.864337   \n",
      "\n",
      "   Boundary Separation Accuracy  Non-decision Time Speed  \\\n",
      "0                      0.563623                 0.261475   \n",
      "\n",
      "   Non-decision Time Accuracy         BIC  Frequency  \n",
      "0                    0.485442 -150.606785          6  \n",
      "1\n",
      "16\n"
     ]
    },
    {
     "name": "stderr",
     "output_type": "stream",
     "text": [
      "Info: Params [1.41774007 2.45908836 6.90572961 3.26012654 1.03116621 1.46448254\n",
      " 0.24223552 0.30236343] gave -136.31656789641164\n",
      "Warning: This function (from_pandas_dataframe()) is deprecated and will be removed in a future version of PyDDM.  Please use the choice_column_name argument instead.\n"
     ]
    },
    {
     "name": "stdout",
     "output_type": "stream",
     "text": [
      "   Drift Rate Speed  Drift Rate Accuracy  Self-excitation Speed  \\\n",
      "0           1.41774             2.459088                6.90573   \n",
      "\n",
      "   Self-excitation Accuracy  Boundary Separation Speed  \\\n",
      "0                  3.260127                   1.031166   \n",
      "\n",
      "   Boundary Separation Accuracy  Non-decision Time Speed  \\\n",
      "0                      1.464483                 0.242236   \n",
      "\n",
      "   Non-decision Time Accuracy         BIC  Frequency  \n",
      "0                    0.302363 -136.316568          1  \n",
      "2\n",
      "16\n"
     ]
    },
    {
     "name": "stderr",
     "output_type": "stream",
     "text": [
      "Info: Params [1.00384204 1.82891546 5.59742746 0.27255863 1.52557527 0.76306793\n",
      " 0.1740396  0.42759248] gave 102.9566606547529\n",
      "Warning: This function (from_pandas_dataframe()) is deprecated and will be removed in a future version of PyDDM.  Please use the choice_column_name argument instead.\n"
     ]
    },
    {
     "name": "stdout",
     "output_type": "stream",
     "text": [
      "   Drift Rate Speed  Drift Rate Accuracy  Self-excitation Speed  \\\n",
      "0          1.003842             1.828915               5.597427   \n",
      "\n",
      "   Self-excitation Accuracy  Boundary Separation Speed  \\\n",
      "0                  0.272559                   1.525575   \n",
      "\n",
      "   Boundary Separation Accuracy  Non-decision Time Speed  \\\n",
      "0                      0.763068                  0.17404   \n",
      "\n",
      "   Non-decision Time Accuracy         BIC  Frequency  \n",
      "0                    0.427592  102.956661          2  \n",
      "3\n",
      "16\n"
     ]
    },
    {
     "name": "stderr",
     "output_type": "stream",
     "text": [
      "Info: Params [0.60125943 1.23787195 5.51494649 2.19481295 1.99324931 1.04559986\n",
      " 0.12942087 0.37781214] gave 264.6597431150404\n",
      "Warning: This function (from_pandas_dataframe()) is deprecated and will be removed in a future version of PyDDM.  Please use the choice_column_name argument instead.\n"
     ]
    },
    {
     "name": "stdout",
     "output_type": "stream",
     "text": [
      "   Drift Rate Speed  Drift Rate Accuracy  Self-excitation Speed  \\\n",
      "0          0.601259             1.237872               5.514946   \n",
      "\n",
      "   Self-excitation Accuracy  Boundary Separation Speed  \\\n",
      "0                  2.194813                   1.993249   \n",
      "\n",
      "   Boundary Separation Accuracy  Non-decision Time Speed  \\\n",
      "0                        1.0456                 0.129421   \n",
      "\n",
      "   Non-decision Time Accuracy         BIC  Frequency  \n",
      "0                    0.377812  264.659743          3  \n",
      "4\n",
      "16\n"
     ]
    },
    {
     "name": "stderr",
     "output_type": "stream",
     "text": [
      "Info: Params [1.02117745 1.98504063 7.57435617 2.71348035 4.15024369 1.27994021\n",
      " 0.10387178 0.37199417] gave 52.76453029430081\n",
      "Warning: This function (from_pandas_dataframe()) is deprecated and will be removed in a future version of PyDDM.  Please use the choice_column_name argument instead.\n"
     ]
    },
    {
     "name": "stdout",
     "output_type": "stream",
     "text": [
      "   Drift Rate Speed  Drift Rate Accuracy  Self-excitation Speed  \\\n",
      "0          1.021177             1.985041               7.574356   \n",
      "\n",
      "   Self-excitation Accuracy  Boundary Separation Speed  \\\n",
      "0                   2.71348                   4.150244   \n",
      "\n",
      "   Boundary Separation Accuracy  Non-decision Time Speed  \\\n",
      "0                       1.27994                 0.103872   \n",
      "\n",
      "   Non-decision Time Accuracy       BIC  Frequency  \n",
      "0                    0.371994  52.76453          4  \n",
      "5\n",
      "16\n"
     ]
    },
    {
     "name": "stderr",
     "output_type": "stream",
     "text": [
      "Info: Params [ 0.8134561   1.96891274  6.55342619 -2.02226488  2.85199215  0.72819531\n",
      "  0.11744742  0.40967835] gave 136.00666768637709\n",
      "Warning: This function (from_pandas_dataframe()) is deprecated and will be removed in a future version of PyDDM.  Please use the choice_column_name argument instead.\n"
     ]
    },
    {
     "name": "stdout",
     "output_type": "stream",
     "text": [
      "   Drift Rate Speed  Drift Rate Accuracy  Self-excitation Speed  \\\n",
      "0          0.813456             1.968913               6.553426   \n",
      "\n",
      "   Self-excitation Accuracy  Boundary Separation Speed  \\\n",
      "0                 -2.022265                   2.851992   \n",
      "\n",
      "   Boundary Separation Accuracy  Non-decision Time Speed  \\\n",
      "0                      0.728195                 0.117447   \n",
      "\n",
      "   Non-decision Time Accuracy         BIC  Frequency  \n",
      "0                    0.409678  136.006668          5  \n",
      "6\n",
      "16\n"
     ]
    },
    {
     "name": "stderr",
     "output_type": "stream",
     "text": [
      "Info: Params [0.99446388 1.94850901 4.32628508 2.11656853 1.22676159 1.03545771\n",
      " 0.19564688 0.36302214] gave 137.26711025561795\n",
      "Warning: This function (from_pandas_dataframe()) is deprecated and will be removed in a future version of PyDDM.  Please use the choice_column_name argument instead.\n"
     ]
    },
    {
     "name": "stdout",
     "output_type": "stream",
     "text": [
      "   Drift Rate Speed  Drift Rate Accuracy  Self-excitation Speed  \\\n",
      "0          0.994464             1.948509               4.326285   \n",
      "\n",
      "   Self-excitation Accuracy  Boundary Separation Speed  \\\n",
      "0                  2.116569                   1.226762   \n",
      "\n",
      "   Boundary Separation Accuracy  Non-decision Time Speed  \\\n",
      "0                      1.035458                 0.195647   \n",
      "\n",
      "   Non-decision Time Accuracy        BIC  Frequency  \n",
      "0                    0.363022  137.26711          6  \n",
      "1\n",
      "17\n"
     ]
    },
    {
     "name": "stderr",
     "output_type": "stream",
     "text": [
      "Info: Params [ 2.89045165  3.19105676  5.20698792 -0.3163856   1.23464256  1.02612815\n",
      "  0.27048527  0.36300118] gave -314.2298782667661\n",
      "Warning: This function (from_pandas_dataframe()) is deprecated and will be removed in a future version of PyDDM.  Please use the choice_column_name argument instead.\n"
     ]
    },
    {
     "name": "stdout",
     "output_type": "stream",
     "text": [
      "   Drift Rate Speed  Drift Rate Accuracy  Self-excitation Speed  \\\n",
      "0          2.890452             3.191057               5.206988   \n",
      "\n",
      "   Self-excitation Accuracy  Boundary Separation Speed  \\\n",
      "0                 -0.316386                   1.234643   \n",
      "\n",
      "   Boundary Separation Accuracy  Non-decision Time Speed  \\\n",
      "0                      1.026128                 0.270485   \n",
      "\n",
      "   Non-decision Time Accuracy         BIC  Frequency  \n",
      "0                    0.363001 -314.229878          1  \n",
      "2\n",
      "17\n"
     ]
    },
    {
     "name": "stderr",
     "output_type": "stream",
     "text": [
      "Info: Params [2.77729861 2.46913378 9.84051457 2.31201865 6.63932417 1.3745126\n",
      " 0.19593317 0.36236325] gave -210.09221915643803\n",
      "Warning: This function (from_pandas_dataframe()) is deprecated and will be removed in a future version of PyDDM.  Please use the choice_column_name argument instead.\n"
     ]
    },
    {
     "name": "stdout",
     "output_type": "stream",
     "text": [
      "   Drift Rate Speed  Drift Rate Accuracy  Self-excitation Speed  \\\n",
      "0          2.777299             2.469134               9.840515   \n",
      "\n",
      "   Self-excitation Accuracy  Boundary Separation Speed  \\\n",
      "0                  2.312019                   6.639324   \n",
      "\n",
      "   Boundary Separation Accuracy  Non-decision Time Speed  \\\n",
      "0                      1.374513                 0.195933   \n",
      "\n",
      "   Non-decision Time Accuracy         BIC  Frequency  \n",
      "0                    0.362363 -210.092219          2  \n",
      "3\n",
      "17\n"
     ]
    },
    {
     "name": "stderr",
     "output_type": "stream",
     "text": [
      "Info: Params [1.82352365 1.91452643 6.53125522 3.24648028 1.06955564 1.38653991\n",
      " 0.30112817 0.38992424] gave -11.019405635753088\n",
      "Warning: This function (from_pandas_dataframe()) is deprecated and will be removed in a future version of PyDDM.  Please use the choice_column_name argument instead.\n"
     ]
    },
    {
     "name": "stdout",
     "output_type": "stream",
     "text": [
      "   Drift Rate Speed  Drift Rate Accuracy  Self-excitation Speed  \\\n",
      "0          1.823524             1.914526               6.531255   \n",
      "\n",
      "   Self-excitation Accuracy  Boundary Separation Speed  \\\n",
      "0                   3.24648                   1.069556   \n",
      "\n",
      "   Boundary Separation Accuracy  Non-decision Time Speed  \\\n",
      "0                       1.38654                 0.301128   \n",
      "\n",
      "   Non-decision Time Accuracy        BIC  Frequency  \n",
      "0                    0.389924 -11.019406          3  \n",
      "4\n",
      "17\n"
     ]
    },
    {
     "name": "stderr",
     "output_type": "stream",
     "text": [
      "Info: Params [2.12909993 2.65564358 4.26853268 2.59383605 0.96119933 1.93202752\n",
      " 0.30662633 0.33852906] gave -141.30783367545826\n",
      "Warning: This function (from_pandas_dataframe()) is deprecated and will be removed in a future version of PyDDM.  Please use the choice_column_name argument instead.\n"
     ]
    },
    {
     "name": "stdout",
     "output_type": "stream",
     "text": [
      "   Drift Rate Speed  Drift Rate Accuracy  Self-excitation Speed  \\\n",
      "0            2.1291             2.655644               4.268533   \n",
      "\n",
      "   Self-excitation Accuracy  Boundary Separation Speed  \\\n",
      "0                  2.593836                   0.961199   \n",
      "\n",
      "   Boundary Separation Accuracy  Non-decision Time Speed  \\\n",
      "0                      1.932028                 0.306626   \n",
      "\n",
      "   Non-decision Time Accuracy         BIC  Frequency  \n",
      "0                    0.338529 -141.307834          4  \n",
      "5\n",
      "17\n"
     ]
    },
    {
     "name": "stderr",
     "output_type": "stream",
     "text": [
      "Info: Params [2.46691708 2.29196042 3.73121433 2.73136855 0.83624751 1.5455472\n",
      " 0.33403101 0.36841448] gave -147.23693845423549\n",
      "Warning: This function (from_pandas_dataframe()) is deprecated and will be removed in a future version of PyDDM.  Please use the choice_column_name argument instead.\n"
     ]
    },
    {
     "name": "stdout",
     "output_type": "stream",
     "text": [
      "   Drift Rate Speed  Drift Rate Accuracy  Self-excitation Speed  \\\n",
      "0          2.466917              2.29196               3.731214   \n",
      "\n",
      "   Self-excitation Accuracy  Boundary Separation Speed  \\\n",
      "0                  2.731369                   0.836248   \n",
      "\n",
      "   Boundary Separation Accuracy  Non-decision Time Speed  \\\n",
      "0                      1.545547                 0.334031   \n",
      "\n",
      "   Non-decision Time Accuracy         BIC  Frequency  \n",
      "0                    0.368414 -147.236938          5  \n",
      "6\n",
      "17\n"
     ]
    },
    {
     "name": "stderr",
     "output_type": "stream",
     "text": [
      "Info: Params [2.31043727 2.25645465 7.02068949 2.47620944 7.16347652 1.91996466\n",
      " 0.10489251 0.29689238] gave -66.60982517749227\n"
     ]
    },
    {
     "name": "stdout",
     "output_type": "stream",
     "text": [
      "   Drift Rate Speed  Drift Rate Accuracy  Self-excitation Speed  \\\n",
      "0          2.310437             2.256455               7.020689   \n",
      "\n",
      "   Self-excitation Accuracy  Boundary Separation Speed  \\\n",
      "0                  2.476209                   7.163477   \n",
      "\n",
      "   Boundary Separation Accuracy  Non-decision Time Speed  \\\n",
      "0                      1.919965                 0.104893   \n",
      "\n",
      "   Non-decision Time Accuracy        BIC  Frequency  \n",
      "0                    0.296892 -66.609825          6  \n"
     ]
    }
   ],
   "source": [
    "participants = [1,  3,  4,  5,  6,  7,  8,  9, 10, 11, 12, 13, 14, 15, 16, 17]\n",
    "df_all = pd.DataFrame()\n",
    "for i in participants:\n",
    "    for freq in range(1,7):\n",
    "        print(freq)\n",
    "        print(i)\n",
    "        df = pd.read_csv(data_dir)\n",
    "        df = df[df[\"Participant\"]==i]\n",
    "        df = df[df[\"Frequency\"]==freq]\n",
    "        df = df[df[\"RT\"]<5]\n",
    "\n",
    "        samp = Sample.from_pandas_dataframe(df, rt_column_name=\"RT\", correct_column_name=\"Correct\")\n",
    "        df_param = get_OUM_result_sub_full(samp)\n",
    "        df_param['Frequency'] = freq\n",
    "        df_param[\"Participant\"]==i\n",
    "        df_all = pd.concat((df_all,df_param))\n",
    "        print(df_param)\n",
    "df_OUM = df_all.copy()\n"
   ]
  },
  {
   "cell_type": "code",
   "execution_count": 20,
   "id": "3b05a53a",
   "metadata": {},
   "outputs": [],
   "source": [
    "df_OUM.to_csv(\"OUMfullresultWagenmakers2008.csv\")"
   ]
  },
  {
   "cell_type": "code",
   "execution_count": 9,
   "id": "87e8797e",
   "metadata": {},
   "outputs": [
    {
     "data": {
      "text/plain": [
       "-75.24333849573985"
      ]
     },
     "execution_count": 9,
     "metadata": {},
     "output_type": "execute_result"
    }
   ],
   "source": [
    "df_OUM[\"BIC\"].mean()"
   ]
  },
  {
   "cell_type": "code",
   "execution_count": 11,
   "id": "db096ad0",
   "metadata": {},
   "outputs": [
    {
     "data": {
      "text/html": [
       "<div>\n",
       "<style scoped>\n",
       "    .dataframe tbody tr th:only-of-type {\n",
       "        vertical-align: middle;\n",
       "    }\n",
       "\n",
       "    .dataframe tbody tr th {\n",
       "        vertical-align: top;\n",
       "    }\n",
       "\n",
       "    .dataframe thead th {\n",
       "        text-align: right;\n",
       "    }\n",
       "</style>\n",
       "<table border=\"1\" class=\"dataframe\">\n",
       "  <thead>\n",
       "    <tr style=\"text-align: right;\">\n",
       "      <th></th>\n",
       "      <th>Drift Rate Speed</th>\n",
       "      <th>Drift Rate Accuracy</th>\n",
       "      <th>Self-excitation Speed</th>\n",
       "      <th>Self-excitation Accuracy</th>\n",
       "      <th>Boundary Separation Speed</th>\n",
       "      <th>Boundary Separation Accuracy</th>\n",
       "      <th>Non-decision Time Speed</th>\n",
       "      <th>Non-decision Time Accuracy</th>\n",
       "      <th>BIC</th>\n",
       "      <th>Frequency</th>\n",
       "    </tr>\n",
       "  </thead>\n",
       "  <tbody>\n",
       "    <tr>\n",
       "      <th>0</th>\n",
       "      <td>2.989123</td>\n",
       "      <td>3.871789</td>\n",
       "      <td>-0.354622</td>\n",
       "      <td>1.664539</td>\n",
       "      <td>0.506892</td>\n",
       "      <td>0.512992</td>\n",
       "      <td>0.358878</td>\n",
       "      <td>0.383437</td>\n",
       "      <td>-258.327787</td>\n",
       "      <td>1</td>\n",
       "    </tr>\n",
       "    <tr>\n",
       "      <th>0</th>\n",
       "      <td>2.455887</td>\n",
       "      <td>2.369848</td>\n",
       "      <td>8.178495</td>\n",
       "      <td>4.896787</td>\n",
       "      <td>0.686710</td>\n",
       "      <td>0.881607</td>\n",
       "      <td>0.362955</td>\n",
       "      <td>0.357937</td>\n",
       "      <td>-134.624894</td>\n",
       "      <td>2</td>\n",
       "    </tr>\n",
       "    <tr>\n",
       "      <th>0</th>\n",
       "      <td>0.904519</td>\n",
       "      <td>1.749850</td>\n",
       "      <td>4.318621</td>\n",
       "      <td>4.821636</td>\n",
       "      <td>0.612835</td>\n",
       "      <td>0.716453</td>\n",
       "      <td>0.349055</td>\n",
       "      <td>0.386201</td>\n",
       "      <td>-12.876078</td>\n",
       "      <td>3</td>\n",
       "    </tr>\n",
       "    <tr>\n",
       "      <th>0</th>\n",
       "      <td>2.377517</td>\n",
       "      <td>2.863789</td>\n",
       "      <td>0.374389</td>\n",
       "      <td>6.606345</td>\n",
       "      <td>0.503802</td>\n",
       "      <td>0.687986</td>\n",
       "      <td>0.342263</td>\n",
       "      <td>0.381301</td>\n",
       "      <td>-161.423393</td>\n",
       "      <td>4</td>\n",
       "    </tr>\n",
       "    <tr>\n",
       "      <th>0</th>\n",
       "      <td>3.537550</td>\n",
       "      <td>2.963319</td>\n",
       "      <td>6.827641</td>\n",
       "      <td>7.700286</td>\n",
       "      <td>1.217458</td>\n",
       "      <td>1.757385</td>\n",
       "      <td>0.317570</td>\n",
       "      <td>0.304870</td>\n",
       "      <td>-174.388412</td>\n",
       "      <td>5</td>\n",
       "    </tr>\n",
       "    <tr>\n",
       "      <th>...</th>\n",
       "      <td>...</td>\n",
       "      <td>...</td>\n",
       "      <td>...</td>\n",
       "      <td>...</td>\n",
       "      <td>...</td>\n",
       "      <td>...</td>\n",
       "      <td>...</td>\n",
       "      <td>...</td>\n",
       "      <td>...</td>\n",
       "      <td>...</td>\n",
       "    </tr>\n",
       "    <tr>\n",
       "      <th>0</th>\n",
       "      <td>2.777299</td>\n",
       "      <td>2.469134</td>\n",
       "      <td>9.840515</td>\n",
       "      <td>2.312019</td>\n",
       "      <td>6.639324</td>\n",
       "      <td>1.374513</td>\n",
       "      <td>0.195933</td>\n",
       "      <td>0.362363</td>\n",
       "      <td>-210.092219</td>\n",
       "      <td>2</td>\n",
       "    </tr>\n",
       "    <tr>\n",
       "      <th>0</th>\n",
       "      <td>1.823524</td>\n",
       "      <td>1.914526</td>\n",
       "      <td>6.531255</td>\n",
       "      <td>3.246480</td>\n",
       "      <td>1.069556</td>\n",
       "      <td>1.386540</td>\n",
       "      <td>0.301128</td>\n",
       "      <td>0.389924</td>\n",
       "      <td>-11.019406</td>\n",
       "      <td>3</td>\n",
       "    </tr>\n",
       "    <tr>\n",
       "      <th>0</th>\n",
       "      <td>2.129100</td>\n",
       "      <td>2.655644</td>\n",
       "      <td>4.268533</td>\n",
       "      <td>2.593836</td>\n",
       "      <td>0.961199</td>\n",
       "      <td>1.932028</td>\n",
       "      <td>0.306626</td>\n",
       "      <td>0.338529</td>\n",
       "      <td>-141.307834</td>\n",
       "      <td>4</td>\n",
       "    </tr>\n",
       "    <tr>\n",
       "      <th>0</th>\n",
       "      <td>2.466917</td>\n",
       "      <td>2.291960</td>\n",
       "      <td>3.731214</td>\n",
       "      <td>2.731369</td>\n",
       "      <td>0.836248</td>\n",
       "      <td>1.545547</td>\n",
       "      <td>0.334031</td>\n",
       "      <td>0.368414</td>\n",
       "      <td>-147.236938</td>\n",
       "      <td>5</td>\n",
       "    </tr>\n",
       "    <tr>\n",
       "      <th>0</th>\n",
       "      <td>2.310437</td>\n",
       "      <td>2.256455</td>\n",
       "      <td>7.020689</td>\n",
       "      <td>2.476209</td>\n",
       "      <td>7.163477</td>\n",
       "      <td>1.919965</td>\n",
       "      <td>0.104893</td>\n",
       "      <td>0.296892</td>\n",
       "      <td>-66.609825</td>\n",
       "      <td>6</td>\n",
       "    </tr>\n",
       "  </tbody>\n",
       "</table>\n",
       "<p>96 rows × 10 columns</p>\n",
       "</div>"
      ],
      "text/plain": [
       "    Drift Rate Speed  Drift Rate Accuracy  Self-excitation Speed  \\\n",
       "0           2.989123             3.871789              -0.354622   \n",
       "0           2.455887             2.369848               8.178495   \n",
       "0           0.904519             1.749850               4.318621   \n",
       "0           2.377517             2.863789               0.374389   \n",
       "0           3.537550             2.963319               6.827641   \n",
       "..               ...                  ...                    ...   \n",
       "0           2.777299             2.469134               9.840515   \n",
       "0           1.823524             1.914526               6.531255   \n",
       "0           2.129100             2.655644               4.268533   \n",
       "0           2.466917             2.291960               3.731214   \n",
       "0           2.310437             2.256455               7.020689   \n",
       "\n",
       "    Self-excitation Accuracy  Boundary Separation Speed  \\\n",
       "0                   1.664539                   0.506892   \n",
       "0                   4.896787                   0.686710   \n",
       "0                   4.821636                   0.612835   \n",
       "0                   6.606345                   0.503802   \n",
       "0                   7.700286                   1.217458   \n",
       "..                       ...                        ...   \n",
       "0                   2.312019                   6.639324   \n",
       "0                   3.246480                   1.069556   \n",
       "0                   2.593836                   0.961199   \n",
       "0                   2.731369                   0.836248   \n",
       "0                   2.476209                   7.163477   \n",
       "\n",
       "    Boundary Separation Accuracy  Non-decision Time Speed  \\\n",
       "0                       0.512992                 0.358878   \n",
       "0                       0.881607                 0.362955   \n",
       "0                       0.716453                 0.349055   \n",
       "0                       0.687986                 0.342263   \n",
       "0                       1.757385                 0.317570   \n",
       "..                           ...                      ...   \n",
       "0                       1.374513                 0.195933   \n",
       "0                       1.386540                 0.301128   \n",
       "0                       1.932028                 0.306626   \n",
       "0                       1.545547                 0.334031   \n",
       "0                       1.919965                 0.104893   \n",
       "\n",
       "    Non-decision Time Accuracy         BIC  Frequency  \n",
       "0                     0.383437 -258.327787          1  \n",
       "0                     0.357937 -134.624894          2  \n",
       "0                     0.386201  -12.876078          3  \n",
       "0                     0.381301 -161.423393          4  \n",
       "0                     0.304870 -174.388412          5  \n",
       "..                         ...         ...        ...  \n",
       "0                     0.362363 -210.092219          2  \n",
       "0                     0.389924  -11.019406          3  \n",
       "0                     0.338529 -141.307834          4  \n",
       "0                     0.368414 -147.236938          5  \n",
       "0                     0.296892  -66.609825          6  \n",
       "\n",
       "[96 rows x 10 columns]"
      ]
     },
     "execution_count": 11,
     "metadata": {},
     "output_type": "execute_result"
    }
   ],
   "source": [
    "df_OUM"
   ]
  },
  {
   "cell_type": "code",
   "execution_count": 18,
   "id": "43cd2c4a",
   "metadata": {},
   "outputs": [],
   "source": [
    "p = np.array([[i]*6 for i in participants]).flatten()"
   ]
  },
  {
   "cell_type": "code",
   "execution_count": 19,
   "id": "e1e08f72",
   "metadata": {},
   "outputs": [],
   "source": [
    "df_OUM['Participant'] = p"
   ]
  },
  {
   "cell_type": "code",
   "execution_count": null,
   "id": "0028ed85",
   "metadata": {},
   "outputs": [],
   "source": []
  }
 ],
 "metadata": {
  "kernelspec": {
   "display_name": "Python 3 (ipykernel)",
   "language": "python",
   "name": "python3"
  },
  "language_info": {
   "codemirror_mode": {
    "name": "ipython",
    "version": 3
   },
   "file_extension": ".py",
   "mimetype": "text/x-python",
   "name": "python",
   "nbconvert_exporter": "python",
   "pygments_lexer": "ipython3",
   "version": "3.11.4"
  }
 },
 "nbformat": 4,
 "nbformat_minor": 5
}
