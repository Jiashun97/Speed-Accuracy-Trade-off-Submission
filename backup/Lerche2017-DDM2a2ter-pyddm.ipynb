{
 "cells": [
  {
   "cell_type": "code",
   "execution_count": 1,
   "id": "2cda49de",
   "metadata": {},
   "outputs": [],
   "source": [
    "%run SAT_help_functions.ipynb"
   ]
  },
  {
   "cell_type": "code",
   "execution_count": null,
   "id": "bc081cf9",
   "metadata": {},
   "outputs": [],
   "source": []
  },
  {
   "cell_type": "markdown",
   "id": "4bd26666",
   "metadata": {},
   "source": [
    "## OUM"
   ]
  },
  {
   "cell_type": "code",
   "execution_count": null,
   "id": "9ef6c434",
   "metadata": {},
   "outputs": [],
   "source": []
  },
  {
   "cell_type": "code",
   "execution_count": 2,
   "id": "e776257c",
   "metadata": {},
   "outputs": [],
   "source": [
    "data_dir = \"/Users/wangjiashun/Desktop/Reserach on SAT/datasets/Evans2021/Lerche2017/dataBySubject/sub\"\n",
    "sample_size = 38\n",
    "SAT_conds = [\"Speed\", \"Accuracy\"]"
   ]
  },
  {
   "cell_type": "code",
   "execution_count": 3,
   "id": "f434220f",
   "metadata": {},
   "outputs": [],
   "source": [
    "class BoundSpeedAcc(Bound):\n",
    "    name = \"BoundSpeedAcc\"\n",
    "    required_parameters = [\"Bspeed\", \"Bacc\"]\n",
    "    required_conditions = ['Cond']\n",
    "    def get_bound(self, conditions, *args, **kwargs):\n",
    "        assert self.Bacc > 0\n",
    "        assert self.Bspeed > 0\n",
    "        if conditions['Cond'] == 'Speed':\n",
    "            return self.Bspeed\n",
    "        elif conditions['Cond'] == 'Accuracy':\n",
    "            return self.Bacc\n",
    "        else:\n",
    "            print(\"Non-implemented SAT conditions\")"
   ]
  },
  {
   "cell_type": "code",
   "execution_count": null,
   "id": "bbb278a6",
   "metadata": {},
   "outputs": [],
   "source": []
  },
  {
   "cell_type": "code",
   "execution_count": 4,
   "id": "6e5e0074",
   "metadata": {},
   "outputs": [],
   "source": [
    "\n",
    "class NondecisionSpeedAcc(OverlayNonDecision):\n",
    "    name = \"NondecisionSpeedAcc\"\n",
    "    required_parameters = [\"tSpeed\", 'tAcc']\n",
    "    required_conditions = ['Cond']\n",
    "        \n",
    "    def get_nondecision_time(self, conditions, **kwargs):\n",
    "        if conditions['Cond'] == 'Speed':\n",
    "            return self.tSpeed \n",
    "        elif conditions['Cond'] == 'Accuracy':\n",
    "            return self.tAcc\n",
    "        else: \n",
    "            print(\"Non-implemented SAT conditions\")"
   ]
  },
  {
   "cell_type": "code",
   "execution_count": null,
   "id": "b1e0fe9b",
   "metadata": {},
   "outputs": [],
   "source": []
  },
  {
   "cell_type": "code",
   "execution_count": null,
   "id": "81235d16",
   "metadata": {},
   "outputs": [],
   "source": []
  },
  {
   "cell_type": "code",
   "execution_count": null,
   "id": "8a3f5185",
   "metadata": {},
   "outputs": [],
   "source": []
  },
  {
   "cell_type": "code",
   "execution_count": 6,
   "id": "fdb13001",
   "metadata": {
    "scrolled": true
   },
   "outputs": [
    {
     "name": "stdout",
     "output_type": "stream",
     "text": [
      "0\n"
     ]
    },
    {
     "name": "stderr",
     "output_type": "stream",
     "text": [
      "Info: Params [0.1194807  1.28332    3.53007002 0.79631022 0.99363604] gave 963.2765726062573\n"
     ]
    },
    {
     "name": "stdout",
     "output_type": "stream",
     "text": [
      "   Drift Rate  Boundary Separation Speed     Bacc  Non-decision Time Speed  \\\n",
      "0    0.119481                    1.28332  3.53007                  0.79631   \n",
      "\n",
      "   Non-decision Time Accuracy         BIC  \n",
      "0                    0.993636  963.276573  \n",
      "1\n"
     ]
    },
    {
     "name": "stderr",
     "output_type": "stream",
     "text": [
      "Info: Params [0.25363983 2.46692425 3.17202741 0.87616895 0.9638219 ] gave 1039.2940537331333\n"
     ]
    },
    {
     "name": "stdout",
     "output_type": "stream",
     "text": [
      "   Drift Rate  Boundary Separation Speed      Bacc  Non-decision Time Speed  \\\n",
      "0     0.25364                   2.466924  3.172027                 0.876169   \n",
      "\n",
      "   Non-decision Time Accuracy          BIC  \n",
      "0                    0.963822  1039.294054  \n",
      "2\n"
     ]
    },
    {
     "name": "stderr",
     "output_type": "stream",
     "text": [
      "Info: Params [0.01079385 0.8562311  1.06245609 0.10015503 0.37915136] gave 467.45606882725724\n"
     ]
    },
    {
     "name": "stdout",
     "output_type": "stream",
     "text": [
      "   Drift Rate  Boundary Separation Speed      Bacc  Non-decision Time Speed  \\\n",
      "0    0.010794                   0.856231  1.062456                 0.100155   \n",
      "\n",
      "   Non-decision Time Accuracy         BIC  \n",
      "0                    0.379151  467.456069  \n",
      "3\n"
     ]
    },
    {
     "name": "stderr",
     "output_type": "stream",
     "text": [
      "Info: Params [0.10182095 1.40679389 1.77236433 0.10229996 0.69397032] gave 833.1268611469827\n"
     ]
    },
    {
     "name": "stdout",
     "output_type": "stream",
     "text": [
      "   Drift Rate  Boundary Separation Speed      Bacc  Non-decision Time Speed  \\\n",
      "0    0.101821                   1.406794  1.772364                   0.1023   \n",
      "\n",
      "   Non-decision Time Accuracy         BIC  \n",
      "0                     0.69397  833.126861  \n",
      "4\n"
     ]
    },
    {
     "name": "stderr",
     "output_type": "stream",
     "text": [
      "Info: Params [0.14819841 2.59945543 3.24307078 0.77746385 0.80443219] gave 1156.458845908587\n"
     ]
    },
    {
     "name": "stdout",
     "output_type": "stream",
     "text": [
      "   Drift Rate  Boundary Separation Speed      Bacc  Non-decision Time Speed  \\\n",
      "0    0.148198                   2.599455  3.243071                 0.777464   \n",
      "\n",
      "   Non-decision Time Accuracy          BIC  \n",
      "0                    0.804432  1156.458846  \n",
      "5\n"
     ]
    },
    {
     "name": "stderr",
     "output_type": "stream",
     "text": [
      "Info: Params [0.15414372 1.07785043 3.70873004 0.78066461 0.73511044] gave 888.7769019606372\n"
     ]
    },
    {
     "name": "stdout",
     "output_type": "stream",
     "text": [
      "   Drift Rate  Boundary Separation Speed     Bacc  Non-decision Time Speed  \\\n",
      "0    0.154144                    1.07785  3.70873                 0.780665   \n",
      "\n",
      "   Non-decision Time Accuracy         BIC  \n",
      "0                     0.73511  888.776902  \n",
      "6\n"
     ]
    },
    {
     "name": "stderr",
     "output_type": "stream",
     "text": [
      "Info: Params [0.24715915 0.76150969 1.73126804 0.37519579 0.96893578] gave 581.6191891089425\n"
     ]
    },
    {
     "name": "stdout",
     "output_type": "stream",
     "text": [
      "   Drift Rate  Boundary Separation Speed      Bacc  Non-decision Time Speed  \\\n",
      "0    0.247159                    0.76151  1.731268                 0.375196   \n",
      "\n",
      "   Non-decision Time Accuracy         BIC  \n",
      "0                    0.968936  581.619189  \n",
      "7\n"
     ]
    },
    {
     "name": "stderr",
     "output_type": "stream",
     "text": [
      "Info: Params [0.24972896 0.74681374 1.6115501  0.67942663 0.59848411] gave 554.4050420604121\n"
     ]
    },
    {
     "name": "stdout",
     "output_type": "stream",
     "text": [
      "   Drift Rate  Boundary Separation Speed     Bacc  Non-decision Time Speed  \\\n",
      "0    0.249729                   0.746814  1.61155                 0.679427   \n",
      "\n",
      "   Non-decision Time Accuracy         BIC  \n",
      "0                    0.598484  554.405042  \n",
      "8\n"
     ]
    },
    {
     "name": "stderr",
     "output_type": "stream",
     "text": [
      "Info: Params [0.         0.84831181 1.20621193 0.14028101 0.10024116] gave 622.1026726714585\n"
     ]
    },
    {
     "name": "stdout",
     "output_type": "stream",
     "text": [
      "   Drift Rate  Boundary Separation Speed      Bacc  Non-decision Time Speed  \\\n",
      "0         0.0                   0.848312  1.206212                 0.140281   \n",
      "\n",
      "   Non-decision Time Accuracy         BIC  \n",
      "0                    0.100241  622.102673  \n",
      "9\n"
     ]
    },
    {
     "name": "stderr",
     "output_type": "stream",
     "text": [
      "Info: Params [0.0655553  1.55886494 1.82020507 0.10900565 0.10889391] gave 932.055735374166\n"
     ]
    },
    {
     "name": "stdout",
     "output_type": "stream",
     "text": [
      "   Drift Rate  Boundary Separation Speed      Bacc  Non-decision Time Speed  \\\n",
      "0    0.065555                   1.558865  1.820205                 0.109006   \n",
      "\n",
      "   Non-decision Time Accuracy         BIC  \n",
      "0                    0.108894  932.055735  \n",
      "10\n"
     ]
    },
    {
     "name": "stderr",
     "output_type": "stream",
     "text": [
      "Info: Params [0.27260484 1.02738619 3.40831079 0.99572382 0.99790831] gave 805.1345237300006\n"
     ]
    },
    {
     "name": "stdout",
     "output_type": "stream",
     "text": [
      "   Drift Rate  Boundary Separation Speed      Bacc  Non-decision Time Speed  \\\n",
      "0    0.272605                   1.027386  3.408311                 0.995724   \n",
      "\n",
      "   Non-decision Time Accuracy         BIC  \n",
      "0                    0.997908  805.134524  \n",
      "11\n"
     ]
    },
    {
     "name": "stderr",
     "output_type": "stream",
     "text": [
      "Info: Params [0.08877344 0.75476691 4.57851875 0.36752807 0.96940846] gave 770.2291985736214\n"
     ]
    },
    {
     "name": "stdout",
     "output_type": "stream",
     "text": [
      "   Drift Rate  Boundary Separation Speed      Bacc  Non-decision Time Speed  \\\n",
      "0    0.088773                   0.754767  4.578519                 0.367528   \n",
      "\n",
      "   Non-decision Time Accuracy         BIC  \n",
      "0                    0.969408  770.229199  \n",
      "12\n"
     ]
    },
    {
     "name": "stderr",
     "output_type": "stream",
     "text": [
      "Info: Params [0.27624235 1.03423117 1.77196146 0.76057939 0.98536165] gave 671.1538623114327\n"
     ]
    },
    {
     "name": "stdout",
     "output_type": "stream",
     "text": [
      "   Drift Rate  Boundary Separation Speed      Bacc  Non-decision Time Speed  \\\n",
      "0    0.276242                   1.034231  1.771961                 0.760579   \n",
      "\n",
      "   Non-decision Time Accuracy         BIC  \n",
      "0                    0.985362  671.153862  \n",
      "13\n"
     ]
    },
    {
     "name": "stderr",
     "output_type": "stream",
     "text": [
      "Info: Params [0.2108134  1.55980484 3.40189872 0.82494985 0.91540223] gave 951.5673960271411\n"
     ]
    },
    {
     "name": "stdout",
     "output_type": "stream",
     "text": [
      "   Drift Rate  Boundary Separation Speed      Bacc  Non-decision Time Speed  \\\n",
      "0    0.210813                   1.559805  3.401899                  0.82495   \n",
      "\n",
      "   Non-decision Time Accuracy         BIC  \n",
      "0                    0.915402  951.567396  \n",
      "14\n"
     ]
    },
    {
     "name": "stderr",
     "output_type": "stream",
     "text": [
      "Info: Params [0.17155782 1.22274692 2.84480786 0.10893305 0.88204796] gave 894.89913329748\n"
     ]
    },
    {
     "name": "stdout",
     "output_type": "stream",
     "text": [
      "   Drift Rate  Boundary Separation Speed      Bacc  Non-decision Time Speed  \\\n",
      "0    0.171558                   1.222747  2.844808                 0.108933   \n",
      "\n",
      "   Non-decision Time Accuracy         BIC  \n",
      "0                    0.882048  894.899133  \n",
      "15\n"
     ]
    },
    {
     "name": "stderr",
     "output_type": "stream",
     "text": [
      "Info: Params [0.10455112 1.00163416 4.08594357 0.72315303 0.98872786] gave 901.9722679338879\n"
     ]
    },
    {
     "name": "stdout",
     "output_type": "stream",
     "text": [
      "   Drift Rate  Boundary Separation Speed      Bacc  Non-decision Time Speed  \\\n",
      "0    0.104551                   1.001634  4.085944                 0.723153   \n",
      "\n",
      "   Non-decision Time Accuracy         BIC  \n",
      "0                    0.988728  901.972268  \n",
      "16\n"
     ]
    },
    {
     "name": "stderr",
     "output_type": "stream",
     "text": [
      "Info: Params [0.2320179  1.39848334 1.58699826 0.17012605 0.99808605] gave 743.092889436154\n"
     ]
    },
    {
     "name": "stdout",
     "output_type": "stream",
     "text": [
      "   Drift Rate  Boundary Separation Speed      Bacc  Non-decision Time Speed  \\\n",
      "0    0.232018                   1.398483  1.586998                 0.170126   \n",
      "\n",
      "   Non-decision Time Accuracy         BIC  \n",
      "0                    0.998086  743.092889  \n",
      "17\n"
     ]
    },
    {
     "name": "stderr",
     "output_type": "stream",
     "text": [
      "Info: Params [0.16581752 0.91829571 1.92836085 0.2201571  0.10378   ] gave 692.1367109056868\n"
     ]
    },
    {
     "name": "stdout",
     "output_type": "stream",
     "text": [
      "   Drift Rate  Boundary Separation Speed      Bacc  Non-decision Time Speed  \\\n",
      "0    0.165818                   0.918296  1.928361                 0.220157   \n",
      "\n",
      "   Non-decision Time Accuracy         BIC  \n",
      "0                     0.10378  692.136711  \n",
      "18\n"
     ]
    },
    {
     "name": "stderr",
     "output_type": "stream",
     "text": [
      "Info: Params [0.15810458 1.43426312 1.89858299 0.9228106  0.87955218] gave 825.6681230241139\n"
     ]
    },
    {
     "name": "stdout",
     "output_type": "stream",
     "text": [
      "   Drift Rate  Boundary Separation Speed      Bacc  Non-decision Time Speed  \\\n",
      "0    0.158105                   1.434263  1.898583                 0.922811   \n",
      "\n",
      "   Non-decision Time Accuracy         BIC  \n",
      "0                    0.879552  825.668123  \n",
      "19\n"
     ]
    },
    {
     "name": "stderr",
     "output_type": "stream",
     "text": [
      "Info: Params [0.25618815 1.26593792 4.98813421 0.60425544 0.91379   ] gave 928.2847965269348\n"
     ]
    },
    {
     "name": "stdout",
     "output_type": "stream",
     "text": [
      "   Drift Rate  Boundary Separation Speed      Bacc  Non-decision Time Speed  \\\n",
      "0    0.256188                   1.265938  4.988134                 0.604255   \n",
      "\n",
      "   Non-decision Time Accuracy         BIC  \n",
      "0                     0.91379  928.284797  \n",
      "20\n"
     ]
    },
    {
     "name": "stderr",
     "output_type": "stream",
     "text": [
      "Info: Params [0.20637072 1.51417682 1.21644554 0.27293679 0.91477103] gave 699.0883683331032\n"
     ]
    },
    {
     "name": "stdout",
     "output_type": "stream",
     "text": [
      "   Drift Rate  Boundary Separation Speed      Bacc  Non-decision Time Speed  \\\n",
      "0    0.206371                   1.514177  1.216446                 0.272937   \n",
      "\n",
      "   Non-decision Time Accuracy         BIC  \n",
      "0                    0.914771  699.088368  \n",
      "21\n"
     ]
    },
    {
     "name": "stderr",
     "output_type": "stream",
     "text": [
      "Info: Params [0.         0.96414725 0.95243127 0.31084671 0.53980318] gave 497.7618764676581\n"
     ]
    },
    {
     "name": "stdout",
     "output_type": "stream",
     "text": [
      "   Drift Rate  Boundary Separation Speed      Bacc  Non-decision Time Speed  \\\n",
      "0         0.0                   0.964147  0.952431                 0.310847   \n",
      "\n",
      "   Non-decision Time Accuracy         BIC  \n",
      "0                    0.539803  497.761876  \n",
      "22\n"
     ]
    },
    {
     "name": "stderr",
     "output_type": "stream",
     "text": [
      "Info: Params [0.19497384 0.79492587 2.22176863 0.29264182 0.93489069] gave 676.6047345435845\n"
     ]
    },
    {
     "name": "stdout",
     "output_type": "stream",
     "text": [
      "   Drift Rate  Boundary Separation Speed      Bacc  Non-decision Time Speed  \\\n",
      "0    0.194974                   0.794926  2.221769                 0.292642   \n",
      "\n",
      "   Non-decision Time Accuracy         BIC  \n",
      "0                    0.934891  676.604735  \n",
      "23\n"
     ]
    },
    {
     "name": "stderr",
     "output_type": "stream",
     "text": [
      "Info: Params [0.18242795 2.67515859 3.07058514 0.80379108 0.86104601] gave 1099.7047073536626\n"
     ]
    },
    {
     "name": "stdout",
     "output_type": "stream",
     "text": [
      "   Drift Rate  Boundary Separation Speed      Bacc  Non-decision Time Speed  \\\n",
      "0    0.182428                   2.675159  3.070585                 0.803791   \n",
      "\n",
      "   Non-decision Time Accuracy          BIC  \n",
      "0                    0.861046  1099.704707  \n",
      "24\n"
     ]
    },
    {
     "name": "stderr",
     "output_type": "stream",
     "text": [
      "Info: Params [0.20993451 0.6253399  0.9319141  0.38176631 0.57732856] gave 331.09155055871815\n"
     ]
    },
    {
     "name": "stdout",
     "output_type": "stream",
     "text": [
      "   Drift Rate  Boundary Separation Speed      Bacc  Non-decision Time Speed  \\\n",
      "0    0.209935                    0.62534  0.931914                 0.381766   \n",
      "\n",
      "   Non-decision Time Accuracy         BIC  \n",
      "0                    0.577329  331.091551  \n",
      "25\n"
     ]
    },
    {
     "name": "stderr",
     "output_type": "stream",
     "text": [
      "Info: Params [0.09568344 0.84749764 1.62711787 0.43680833 0.10051394] gave 1303.5339282477432\n"
     ]
    },
    {
     "name": "stdout",
     "output_type": "stream",
     "text": [
      "   Drift Rate  Boundary Separation Speed      Bacc  Non-decision Time Speed  \\\n",
      "0    0.095683                   0.847498  1.627118                 0.436808   \n",
      "\n",
      "   Non-decision Time Accuracy          BIC  \n",
      "0                    0.100514  1303.533928  \n",
      "26\n"
     ]
    },
    {
     "name": "stderr",
     "output_type": "stream",
     "text": [
      "Info: Params [0.19797309 1.36727877 2.8456866  0.44052069 0.94596379] gave 893.6567190513463\n"
     ]
    },
    {
     "name": "stdout",
     "output_type": "stream",
     "text": [
      "   Drift Rate  Boundary Separation Speed      Bacc  Non-decision Time Speed  \\\n",
      "0    0.197973                   1.367279  2.845687                 0.440521   \n",
      "\n",
      "   Non-decision Time Accuracy         BIC  \n",
      "0                    0.945964  893.656719  \n",
      "27\n"
     ]
    },
    {
     "name": "stderr",
     "output_type": "stream",
     "text": [
      "Info: Params [0.21066979 1.29270174 3.60424476 0.10045203 0.95629273] gave 1033.614190833098\n"
     ]
    },
    {
     "name": "stdout",
     "output_type": "stream",
     "text": [
      "   Drift Rate  Boundary Separation Speed      Bacc  Non-decision Time Speed  \\\n",
      "0     0.21067                   1.292702  3.604245                 0.100452   \n",
      "\n",
      "   Non-decision Time Accuracy          BIC  \n",
      "0                    0.956293  1033.614191  \n",
      "28\n"
     ]
    },
    {
     "name": "stderr",
     "output_type": "stream",
     "text": [
      "Info: Params [0.11354582 1.98017762 4.0198723  0.9391378  0.74710631] gave 1110.9390294009368\n"
     ]
    },
    {
     "name": "stdout",
     "output_type": "stream",
     "text": [
      "   Drift Rate  Boundary Separation Speed      Bacc  Non-decision Time Speed  \\\n",
      "0    0.113546                   1.980178  4.019872                 0.939138   \n",
      "\n",
      "   Non-decision Time Accuracy          BIC  \n",
      "0                    0.747106  1110.939029  \n",
      "29\n"
     ]
    },
    {
     "name": "stderr",
     "output_type": "stream",
     "text": [
      "Info: Params [0.19792113 2.80412158 2.50393907 0.98403237 0.95005382] gave 1022.5381351840191\n"
     ]
    },
    {
     "name": "stdout",
     "output_type": "stream",
     "text": [
      "   Drift Rate  Boundary Separation Speed      Bacc  Non-decision Time Speed  \\\n",
      "0    0.197921                   2.804122  2.503939                 0.984032   \n",
      "\n",
      "   Non-decision Time Accuracy          BIC  \n",
      "0                    0.950054  1022.538135  \n",
      "30\n"
     ]
    },
    {
     "name": "stderr",
     "output_type": "stream",
     "text": [
      "Info: Params [0.26753906 0.74631177 1.96296519 0.11971064 0.78539184] gave 610.5645653000753\n"
     ]
    },
    {
     "name": "stdout",
     "output_type": "stream",
     "text": [
      "   Drift Rate  Boundary Separation Speed      Bacc  Non-decision Time Speed  \\\n",
      "0    0.267539                   0.746312  1.962965                 0.119711   \n",
      "\n",
      "   Non-decision Time Accuracy         BIC  \n",
      "0                    0.785392  610.564565  \n",
      "31\n"
     ]
    },
    {
     "name": "stderr",
     "output_type": "stream",
     "text": [
      "Info: Params [0.15320683 1.25830848 2.97380055 0.10267417 0.10252645] gave 1014.2270685869472\n"
     ]
    },
    {
     "name": "stdout",
     "output_type": "stream",
     "text": [
      "   Drift Rate  Boundary Separation Speed      Bacc  Non-decision Time Speed  \\\n",
      "0    0.153207                   1.258308  2.973801                 0.102674   \n",
      "\n",
      "   Non-decision Time Accuracy          BIC  \n",
      "0                    0.102526  1014.227069  \n",
      "32\n"
     ]
    },
    {
     "name": "stderr",
     "output_type": "stream",
     "text": [
      "Info: Params [0.36987235 0.62824461 1.72722103 0.10841483 0.510928  ] gave 513.5550250832792\n"
     ]
    },
    {
     "name": "stdout",
     "output_type": "stream",
     "text": [
      "   Drift Rate  Boundary Separation Speed      Bacc  Non-decision Time Speed  \\\n",
      "0    0.369872                   0.628245  1.727221                 0.108415   \n",
      "\n",
      "   Non-decision Time Accuracy         BIC  \n",
      "0                    0.510928  513.555025  \n",
      "33\n"
     ]
    },
    {
     "name": "stderr",
     "output_type": "stream",
     "text": [
      "Info: Params [0.08139467 1.12094489 1.68975405 0.13089567 0.99958338] gave 699.429862210606\n"
     ]
    },
    {
     "name": "stdout",
     "output_type": "stream",
     "text": [
      "   Drift Rate  Boundary Separation Speed      Bacc  Non-decision Time Speed  \\\n",
      "0    0.081395                   1.120945  1.689754                 0.130896   \n",
      "\n",
      "   Non-decision Time Accuracy         BIC  \n",
      "0                    0.999583  699.429862  \n",
      "34\n"
     ]
    },
    {
     "name": "stderr",
     "output_type": "stream",
     "text": [
      "Info: Params [0.31002359 1.47129053 3.57069289 0.82181797 0.76778429] gave 914.2880097672796\n"
     ]
    },
    {
     "name": "stdout",
     "output_type": "stream",
     "text": [
      "   Drift Rate  Boundary Separation Speed      Bacc  Non-decision Time Speed  \\\n",
      "0    0.310024                   1.471291  3.570693                 0.821818   \n",
      "\n",
      "   Non-decision Time Accuracy        BIC  \n",
      "0                    0.767784  914.28801  \n",
      "35\n"
     ]
    },
    {
     "name": "stderr",
     "output_type": "stream",
     "text": [
      "Info: Params [0.28174222 2.44573727 3.43395517 0.32986831 0.4143897 ] gave 1067.2385304504219\n"
     ]
    },
    {
     "name": "stdout",
     "output_type": "stream",
     "text": [
      "   Drift Rate  Boundary Separation Speed      Bacc  Non-decision Time Speed  \\\n",
      "0    0.281742                   2.445737  3.433955                 0.329868   \n",
      "\n",
      "   Non-decision Time Accuracy         BIC  \n",
      "0                     0.41439  1067.23853  \n",
      "36\n"
     ]
    },
    {
     "name": "stderr",
     "output_type": "stream",
     "text": [
      "Info: Params [0.14731763 1.54221956 1.63525391 0.99670064 0.98911794] gave 769.6380181603594\n"
     ]
    },
    {
     "name": "stdout",
     "output_type": "stream",
     "text": [
      "   Drift Rate  Boundary Separation Speed      Bacc  Non-decision Time Speed  \\\n",
      "0    0.147318                    1.54222  1.635254                 0.996701   \n",
      "\n",
      "   Non-decision Time Accuracy         BIC  \n",
      "0                    0.989118  769.638018  \n",
      "37\n"
     ]
    },
    {
     "name": "stderr",
     "output_type": "stream",
     "text": [
      "Info: Params [0.15354061 1.30097266 3.40256456 0.10047732 0.19550942] gave 1066.168947471427\n"
     ]
    },
    {
     "name": "stdout",
     "output_type": "stream",
     "text": [
      "   Drift Rate  Boundary Separation Speed      Bacc  Non-decision Time Speed  \\\n",
      "0    0.153541                   1.300973  3.402565                 0.100477   \n",
      "\n",
      "   Non-decision Time Accuracy          BIC  \n",
      "0                    0.195509  1066.168947  \n"
     ]
    }
   ],
   "source": [
    "df_all = pd.DataFrame()\n",
    "for i in range(sample_size):\n",
    "    print(i)\n",
    "    path = os.path.join(data_dir+str(i+1)+\".csv\")\n",
    "    df = pd.read_csv(path, sep = \",\")\n",
    "    #df = df[df[\"cond\"]==SAT] # A condition\n",
    "    df = df[df[\"Time\"]<30]\n",
    "\n",
    "    samp = Sample.from_pandas_dataframe(df, rt_column_name=\"Time\", correct_column_name=\"Correct\")\n",
    "    df = get_DDM_result_sub_2a2ter(samp, T_dur = 30)\n",
    "    df_all = pd.concat((df_all,df))\n",
    "    print(df)\n",
    "df_OUM = df_all.copy()\n"
   ]
  },
  {
   "cell_type": "code",
   "execution_count": 7,
   "id": "3b05a53a",
   "metadata": {},
   "outputs": [],
   "source": [
    "df_OUM.to_csv(\"DDM2a2terresultLerche2017.csv\")"
   ]
  },
  {
   "cell_type": "code",
   "execution_count": 8,
   "id": "87e8797e",
   "metadata": {},
   "outputs": [
    {
     "data": {
      "text/plain": [
       "830.1672134781197"
      ]
     },
     "execution_count": 8,
     "metadata": {},
     "output_type": "execute_result"
    }
   ],
   "source": [
    "df_OUM[\"BIC\"].mean()"
   ]
  },
  {
   "cell_type": "code",
   "execution_count": null,
   "id": "c5baddcf",
   "metadata": {},
   "outputs": [],
   "source": []
  }
 ],
 "metadata": {
  "kernelspec": {
   "display_name": "Python 3 (ipykernel)",
   "language": "python",
   "name": "python3"
  },
  "language_info": {
   "codemirror_mode": {
    "name": "ipython",
    "version": 3
   },
   "file_extension": ".py",
   "mimetype": "text/x-python",
   "name": "python",
   "nbconvert_exporter": "python",
   "pygments_lexer": "ipython3",
   "version": "3.7.15"
  }
 },
 "nbformat": 4,
 "nbformat_minor": 5
}
