{
 "cells": [
  {
   "cell_type": "code",
   "execution_count": 1,
   "id": "2cda49de",
   "metadata": {},
   "outputs": [],
   "source": [
    "%run SAT_help_functions.ipynb"
   ]
  },
  {
   "cell_type": "code",
   "execution_count": null,
   "id": "21316b10",
   "metadata": {},
   "outputs": [],
   "source": []
  },
  {
   "cell_type": "code",
   "execution_count": null,
   "id": "0236eadb",
   "metadata": {},
   "outputs": [],
   "source": []
  },
  {
   "cell_type": "code",
   "execution_count": 5,
   "id": "2f74752d",
   "metadata": {},
   "outputs": [],
   "source": []
  },
  {
   "cell_type": "markdown",
   "id": "4bd26666",
   "metadata": {},
   "source": [
    "## OUM"
   ]
  },
  {
   "cell_type": "code",
   "execution_count": 6,
   "id": "80376f45",
   "metadata": {},
   "outputs": [],
   "source": [
    "SAT_conds = [\"Speed\", \"Accuracy\"]"
   ]
  },
  {
   "cell_type": "code",
   "execution_count": 3,
   "id": "9ef6c434",
   "metadata": {
    "scrolled": true
   },
   "outputs": [
    {
     "name": "stdout",
     "output_type": "stream",
     "text": [
      "0\n"
     ]
    },
    {
     "name": "stderr",
     "output_type": "stream",
     "text": [
      "Info: Params [1.23598943 6.15562137 2.19567806 1.21697558 0.24756542 0.28690848] gave 237.70215354916726\n"
     ]
    },
    {
     "name": "stdout",
     "output_type": "stream",
     "text": [
      "1\n"
     ]
    },
    {
     "name": "stderr",
     "output_type": "stream",
     "text": [
      "Info: Params [0.52459411 8.55619158 2.70034047 2.75191839 0.22716259 0.18545012] gave 445.82692838096665\n"
     ]
    },
    {
     "name": "stdout",
     "output_type": "stream",
     "text": [
      "2\n"
     ]
    },
    {
     "name": "stderr",
     "output_type": "stream",
     "text": [
      "Info: Params [1.63817533 7.3885016  3.39044108 1.11185568 0.22445148 0.35369297] gave -39.84799168059562\n"
     ]
    },
    {
     "name": "stdout",
     "output_type": "stream",
     "text": [
      "3\n"
     ]
    },
    {
     "name": "stderr",
     "output_type": "stream",
     "text": [
      "Info: Params [ 0.90132822 10.80932903  1.56438777  1.13185367  0.16866244  0.22237607] gave 285.6821765995399\n"
     ]
    },
    {
     "name": "stdout",
     "output_type": "stream",
     "text": [
      "4\n"
     ]
    },
    {
     "name": "stderr",
     "output_type": "stream",
     "text": [
      "Info: Params [1.22110287 6.10771126 4.1609871  1.17267849 0.19547659 0.29947426] gave 123.12814476711479\n"
     ]
    },
    {
     "name": "stdout",
     "output_type": "stream",
     "text": [
      "5\n"
     ]
    },
    {
     "name": "stderr",
     "output_type": "stream",
     "text": [
      "Info: Params [1.43387987 8.87444487 3.1648017  1.83893214 0.31171311 0.39481996] gave 29.418226022068644\n"
     ]
    },
    {
     "name": "stdout",
     "output_type": "stream",
     "text": [
      "6\n"
     ]
    },
    {
     "name": "stderr",
     "output_type": "stream",
     "text": [
      "Info: Params [1.35886187 6.33110101 5.04396538 1.41257499 0.19141576 0.27382838] gave 53.345434262594885\n"
     ]
    },
    {
     "name": "stdout",
     "output_type": "stream",
     "text": [
      "7\n"
     ]
    },
    {
     "name": "stderr",
     "output_type": "stream",
     "text": [
      "Info: Params [1.81662961 8.16176231 6.12880939 5.63564404 0.13419278 0.14210569] gave -94.05397909643938\n"
     ]
    },
    {
     "name": "stdout",
     "output_type": "stream",
     "text": [
      "8\n"
     ]
    },
    {
     "name": "stderr",
     "output_type": "stream",
     "text": [
      "Info: Params [1.46139268 8.11200987 2.75802339 0.96625121 0.33223616 0.33802092] gave 4.799508561093283\n"
     ]
    },
    {
     "name": "stdout",
     "output_type": "stream",
     "text": [
      "9\n"
     ]
    },
    {
     "name": "stderr",
     "output_type": "stream",
     "text": [
      "Info: Params [0.87595355 7.71434354 2.15423762 1.71905325 0.17651971 0.34273875] gave 370.8413342127151\n"
     ]
    },
    {
     "name": "stdout",
     "output_type": "stream",
     "text": [
      "10\n"
     ]
    },
    {
     "name": "stderr",
     "output_type": "stream",
     "text": [
      "Info: Params [1.1952868  3.95317194 1.81475615 1.43989134 0.16955944 0.26980972] gave 385.03200616788064\n"
     ]
    },
    {
     "name": "stdout",
     "output_type": "stream",
     "text": [
      "11\n"
     ]
    },
    {
     "name": "stderr",
     "output_type": "stream",
     "text": [
      "Info: Params [1.34325721 7.98524086 3.4649244  1.35583497 0.28754302 0.3302642 ] gave 87.0784496185355\n"
     ]
    },
    {
     "name": "stdout",
     "output_type": "stream",
     "text": [
      "12\n"
     ]
    },
    {
     "name": "stderr",
     "output_type": "stream",
     "text": [
      "Info: Params [1.20932015 5.26989505 1.82365341 0.80599368 0.23844497 0.2715449 ] gave 50.434978680588166\n"
     ]
    },
    {
     "name": "stdout",
     "output_type": "stream",
     "text": [
      "13\n"
     ]
    },
    {
     "name": "stderr",
     "output_type": "stream",
     "text": [
      "Info: Params [1.29225785 8.48623119 3.03717409 2.00135347 0.17412557 0.17649702] gave 162.70572901177061\n"
     ]
    },
    {
     "name": "stdout",
     "output_type": "stream",
     "text": [
      "14\n"
     ]
    },
    {
     "name": "stderr",
     "output_type": "stream",
     "text": [
      "Info: Params [0.99986852 6.52918979 4.24835425 1.06600542 0.19752613 0.22985823] gave 129.37584326096757\n"
     ]
    },
    {
     "name": "stdout",
     "output_type": "stream",
     "text": [
      "15\n"
     ]
    },
    {
     "name": "stderr",
     "output_type": "stream",
     "text": [
      "Info: Params [1.80352715 7.10439477 1.89123785 0.97276456 0.22413223 0.30647301] gave -101.98365953006694\n"
     ]
    },
    {
     "name": "stdout",
     "output_type": "stream",
     "text": [
      "16\n"
     ]
    },
    {
     "name": "stderr",
     "output_type": "stream",
     "text": [
      "Info: Params [0.92317642 7.57990832 2.75681194 0.7704043  0.26389393 0.3534516 ] gave 125.60674335467434\n"
     ]
    },
    {
     "name": "stdout",
     "output_type": "stream",
     "text": [
      "17\n"
     ]
    },
    {
     "name": "stderr",
     "output_type": "stream",
     "text": [
      "Info: Params [1.91022506 6.01221909 2.91943877 0.86132358 0.27859574 0.33650028] gave -154.09708662882855\n"
     ]
    },
    {
     "name": "stdout",
     "output_type": "stream",
     "text": [
      "18\n"
     ]
    },
    {
     "name": "stderr",
     "output_type": "stream",
     "text": [
      "Info: Params [1.8253866  5.66632091 3.17567629 1.24140087 0.22408168 0.25440129] gave 13.553441844081142\n"
     ]
    },
    {
     "name": "stdout",
     "output_type": "stream",
     "text": [
      "19\n"
     ]
    },
    {
     "name": "stderr",
     "output_type": "stream",
     "text": [
      "Info: Params [0.47318542 6.12655573 4.14487348 1.18610096 0.20795664 0.26007572] gave 304.1662836805748\n"
     ]
    },
    {
     "name": "stdout",
     "output_type": "stream",
     "text": [
      "           1    2    3    4    5    6    7    8    9    10   11   12   13  \\\n",
      "Accuracy  1.0  1.0  1.0  1.0  1.0  1.0  1.0  1.0  1.0  1.0  1.0  1.0  1.0   \n",
      "Speed     1.0  1.0  1.0  1.0  1.0  1.0  1.0  1.0  1.0  1.0  1.0  1.0  1.0   \n",
      "\n",
      "           14   15   16   17   18   19   20  \n",
      "Accuracy  1.0  1.0  1.0  1.0  1.0  1.0  1.0  \n",
      "Speed     1.0  1.0  1.0  1.0  1.0  1.0  1.0  \n"
     ]
    }
   ],
   "source": [
    "data_dir = \"/Users/wangjiashun/Desktop/Research_on_SAT/datasets/transformed/Dutilh2019/sub\"\n",
    "sample_size = 20\n",
    "\n",
    "df_all = pd.DataFrame()\n",
    "valid_ratio_dfs = pd.DataFrame()\n",
    "\n",
    "for i in range(sample_size):\n",
    "    print(i)\n",
    "    path = os.path.join(data_dir+str(i+1)+\".csv\")\n",
    "    df = pd.read_csv(path, sep = \",\")\n",
    "    \n",
    "    counts_before = df['Cond'].value_counts()\n",
    "    df = df[df[\"Time\"]<5]\n",
    "    counts_after = df['Cond'].value_counts()\n",
    "    valid_ratio = counts_before/counts_after\n",
    "    valid_ratio_df = valid_ratio.to_frame(i+1)\n",
    "    valid_ratio_dfs = pd.concat((valid_ratio_dfs,valid_ratio_df), axis = 1)\n",
    "    \n",
    "    samp = Sample.from_pandas_dataframe(df, rt_column_name=\"Time\", choice_column_name=\"Correct\")\n",
    "    df = get_OUM_result_sub_2k2ter(samp)\n",
    "    df_all = pd.concat((df_all,df))\n",
    "    \n",
    "df_OUM = df_all.copy()\n",
    "df_OUM.to_csv(\"Parameter Estimates/OUM2k2terresultDutilh2019.csv\")\n",
    "print(valid_ratio_dfs)\n"
   ]
  },
  {
   "cell_type": "code",
   "execution_count": 4,
   "id": "e776257c",
   "metadata": {},
   "outputs": [
    {
     "name": "stdout",
     "output_type": "stream",
     "text": [
      "0\n"
     ]
    },
    {
     "name": "stderr",
     "output_type": "stream",
     "text": [
      "Info: Params [ 0.54366305 11.93668477  6.16827147  5.69525457  0.15155894  0.10501584] gave -71.22173978142371\n"
     ]
    },
    {
     "name": "stdout",
     "output_type": "stream",
     "text": [
      "1\n"
     ]
    },
    {
     "name": "stderr",
     "output_type": "stream",
     "text": [
      "Info: Params [1.92750389 5.34688375 3.83282848 0.72323929 0.34199098 0.38786859] gave -199.96755779233206\n"
     ]
    },
    {
     "name": "stdout",
     "output_type": "stream",
     "text": [
      "2\n"
     ]
    },
    {
     "name": "stderr",
     "output_type": "stream",
     "text": [
      "Info: Params [0.         2.74526253 3.52058105 1.66587816 0.10882849 0.51138321] gave 565.8270522204821\n"
     ]
    },
    {
     "name": "stdout",
     "output_type": "stream",
     "text": [
      "3\n"
     ]
    },
    {
     "name": "stderr",
     "output_type": "stream",
     "text": [
      "Info: Params [4.06076049 8.06371352 5.67941758 1.53934003 0.30417667 0.30320421] gave -203.82802331036356\n"
     ]
    },
    {
     "name": "stdout",
     "output_type": "stream",
     "text": [
      "4\n"
     ]
    },
    {
     "name": "stderr",
     "output_type": "stream",
     "text": [
      "Info: Params [2.1215343  4.37668492 3.86143568 1.16581969 0.22047509 0.29815995] gave -97.04665409101602\n"
     ]
    },
    {
     "name": "stdout",
     "output_type": "stream",
     "text": [
      "5\n"
     ]
    },
    {
     "name": "stderr",
     "output_type": "stream",
     "text": [
      "Info: Params [ 1.74102681 10.66426963  5.64006316  5.97851935  0.15736001  0.10238556] gave -238.91517644292426\n"
     ]
    },
    {
     "name": "stdout",
     "output_type": "stream",
     "text": [
      "6\n"
     ]
    },
    {
     "name": "stderr",
     "output_type": "stream",
     "text": [
      "Info: Params [ 1.52019774 10.87258034  9.76055405  5.9850011   0.10453837  0.22980672] gave -428.1683656410017\n"
     ]
    },
    {
     "name": "stdout",
     "output_type": "stream",
     "text": [
      "7\n"
     ]
    },
    {
     "name": "stderr",
     "output_type": "stream",
     "text": [
      "Info: Params [1.67503702 6.04207329 5.46665877 1.71828606 0.16451618 0.20711769] gave -127.57955055606139\n"
     ]
    },
    {
     "name": "stdout",
     "output_type": "stream",
     "text": [
      "8\n"
     ]
    },
    {
     "name": "stderr",
     "output_type": "stream",
     "text": [
      "Info: Params [1.10775316 6.72140211 6.874476   4.20476722 0.10873342 0.15974216] gave 74.6322074244831\n"
     ]
    },
    {
     "name": "stdout",
     "output_type": "stream",
     "text": [
      "9\n"
     ]
    },
    {
     "name": "stderr",
     "output_type": "stream",
     "text": [
      "Info: Params [0.18193949 8.42286896 3.97693789 1.48514537 0.10009836 0.17276972] gave 261.27710683755447\n"
     ]
    },
    {
     "name": "stdout",
     "output_type": "stream",
     "text": [
      "10\n"
     ]
    },
    {
     "name": "stderr",
     "output_type": "stream",
     "text": [
      "Info: Params [3.42816723 8.003504   6.54170813 5.51421139 0.24342559 0.22219668] gave -95.18881916233283\n"
     ]
    },
    {
     "name": "stdout",
     "output_type": "stream",
     "text": [
      "11\n"
     ]
    },
    {
     "name": "stderr",
     "output_type": "stream",
     "text": [
      "Info: Params [2.58416846 8.31832834 3.46747555 0.85390853 0.31438531 0.32734387] gave -696.4577921204033\n"
     ]
    },
    {
     "name": "stdout",
     "output_type": "stream",
     "text": [
      "12\n"
     ]
    },
    {
     "name": "stderr",
     "output_type": "stream",
     "text": [
      "Info: Params [ 4.02598391 12.10194844 14.68668427  5.7728708   0.20991023  0.24703176] gave -671.4288004816256\n"
     ]
    },
    {
     "name": "stdout",
     "output_type": "stream",
     "text": [
      "13\n"
     ]
    },
    {
     "name": "stderr",
     "output_type": "stream",
     "text": [
      "Info: Params [1.82821576 5.93472155 4.13450553 0.75003383 0.23879004 0.3171839 ] gave -384.3582803141734\n"
     ]
    },
    {
     "name": "stdout",
     "output_type": "stream",
     "text": [
      "14\n"
     ]
    },
    {
     "name": "stderr",
     "output_type": "stream",
     "text": [
      "Info: Params [ 0.19489064 10.14043469  5.36366415  4.71354538  0.18428239  0.10917622] gave 346.30493465749163\n"
     ]
    },
    {
     "name": "stdout",
     "output_type": "stream",
     "text": [
      "15\n"
     ]
    },
    {
     "name": "stderr",
     "output_type": "stream",
     "text": [
      "Info: Params [3.43731782 7.67741827 7.62554524 0.92630259 0.33325112 0.35888263] gave -476.76822637461964\n"
     ]
    },
    {
     "name": "stdout",
     "output_type": "stream",
     "text": [
      "16\n"
     ]
    },
    {
     "name": "stderr",
     "output_type": "stream",
     "text": [
      "Info: Params [0.73973334 5.87789217 3.90849582 1.19088409 0.12812847 0.22229147] gave 358.4060772582365\n"
     ]
    },
    {
     "name": "stdout",
     "output_type": "stream",
     "text": [
      "17\n"
     ]
    },
    {
     "name": "stderr",
     "output_type": "stream",
     "text": [
      "Info: Params [ 3.44237778 13.62318523 11.86472743  3.8337453   0.20229129  0.20873492] gave -1031.2042049360282\n"
     ]
    },
    {
     "name": "stdout",
     "output_type": "stream",
     "text": [
      "18\n"
     ]
    },
    {
     "name": "stderr",
     "output_type": "stream",
     "text": [
      "Info: Params [2.06027698 6.42346006 5.71212602 0.73114235 0.26118068 0.28750424] gave -340.8733409634792\n"
     ]
    },
    {
     "name": "stdout",
     "output_type": "stream",
     "text": [
      "19\n"
     ]
    },
    {
     "name": "stderr",
     "output_type": "stream",
     "text": [
      "Info: Params [ 2.20020886 13.05120414 10.60028165  5.91780525  0.14751141  0.15055946] gave -953.4720070877182\n"
     ]
    },
    {
     "name": "stdout",
     "output_type": "stream",
     "text": [
      "20\n"
     ]
    },
    {
     "name": "stderr",
     "output_type": "stream",
     "text": [
      "Info: Params [ 0.83433026 14.94359362 10.41377951  5.92092732  0.11490173  0.16195315] gave -411.3389117090459\n"
     ]
    },
    {
     "name": "stdout",
     "output_type": "stream",
     "text": [
      "21\n"
     ]
    },
    {
     "name": "stderr",
     "output_type": "stream",
     "text": [
      "Info: Params [0.69816877 9.22098899 6.94149755 3.1839557  0.10235904 0.18733609] gave 31.979041690268332\n"
     ]
    },
    {
     "name": "stdout",
     "output_type": "stream",
     "text": [
      "22\n"
     ]
    },
    {
     "name": "stderr",
     "output_type": "stream",
     "text": [
      "Info: Params [ 3.93921335 14.00043013 14.12384595  5.9960169   0.22779093  0.2821412 ] gave -265.43542382794385\n"
     ]
    },
    {
     "name": "stdout",
     "output_type": "stream",
     "text": [
      "23\n"
     ]
    },
    {
     "name": "stderr",
     "output_type": "stream",
     "text": [
      "Info: Params [ 2.25042266 15.         15.          1.32887889  0.21314385  0.27512298] gave -1194.3668760919377\n"
     ]
    },
    {
     "name": "stdout",
     "output_type": "stream",
     "text": [
      "24\n"
     ]
    },
    {
     "name": "stderr",
     "output_type": "stream",
     "text": [
      "Info: Params [ 2.78433391 14.83930111 10.98180473  3.35486069  0.21123686  0.22812007] gave -919.2011685923717\n"
     ]
    },
    {
     "name": "stdout",
     "output_type": "stream",
     "text": [
      "25\n"
     ]
    },
    {
     "name": "stderr",
     "output_type": "stream",
     "text": [
      "Info: Params [ 1.06889129 12.25695756 12.15684082  3.93538722  0.10844376  0.20498395] gave -583.7417448850117\n"
     ]
    },
    {
     "name": "stdout",
     "output_type": "stream",
     "text": [
      "26\n"
     ]
    },
    {
     "name": "stderr",
     "output_type": "stream",
     "text": [
      "Info: Params [ 4.31318609  6.79544846 10.82000595  5.9406968   0.12751691  0.22288609] gave -247.85318547006247\n"
     ]
    },
    {
     "name": "stdout",
     "output_type": "stream",
     "text": [
      "27\n"
     ]
    },
    {
     "name": "stderr",
     "output_type": "stream",
     "text": [
      "Info: Params [ 2.89290855  8.50376135 10.81735833  0.79599285  0.24406851  0.28290801] gave -940.1145117691659\n"
     ]
    },
    {
     "name": "stdout",
     "output_type": "stream",
     "text": [
      "28\n"
     ]
    },
    {
     "name": "stderr",
     "output_type": "stream",
     "text": [
      "Info: Params [ 3.0647055  14.00832262 15.          2.09236461  0.22041044  0.25366527] gave -972.5545580059853\n"
     ]
    },
    {
     "name": "stdout",
     "output_type": "stream",
     "text": [
      "29\n"
     ]
    },
    {
     "name": "stderr",
     "output_type": "stream",
     "text": [
      "Info: Params [3.03140903 7.616447   5.80434271 0.76101854 0.31281143 0.31674314] gave -805.4653793146107\n"
     ]
    },
    {
     "name": "stdout",
     "output_type": "stream",
     "text": [
      "30\n"
     ]
    },
    {
     "name": "stderr",
     "output_type": "stream",
     "text": [
      "Info: Params [2.31684869 9.46927144 8.79789226 2.05573621 0.20438359 0.23465111] gave -321.5290270076581\n"
     ]
    },
    {
     "name": "stdout",
     "output_type": "stream",
     "text": [
      "31\n"
     ]
    },
    {
     "name": "stderr",
     "output_type": "stream",
     "text": [
      "Info: Params [ 2.49378719 13.53992207 11.89200047  1.54095477  0.23584856  0.26033612] gave -1324.309741120651\n"
     ]
    },
    {
     "name": "stdout",
     "output_type": "stream",
     "text": [
      "           1    2    3    4    5    6    7    8    9    10  ...   23   24  \\\n",
      "Speed     1.0  1.0  1.0  1.0  1.0  1.0  1.0  1.0  1.0  1.0  ...  1.0  1.0   \n",
      "Accuracy  1.0  1.0  1.0  1.0  1.0  1.0  1.0  1.0  1.0  1.0  ...  1.0  1.0   \n",
      "\n",
      "           25   26   27   28   29   30   31   32  \n",
      "Speed     1.0  1.0  1.0  1.0  1.0  1.0  1.0  1.0  \n",
      "Accuracy  1.0  1.0  1.0  1.0  1.0  1.0  1.0  1.0  \n",
      "\n",
      "[2 rows x 32 columns]\n"
     ]
    }
   ],
   "source": [
    "data_dir = \"/Users/wangjiashun/Desktop/Research_on_SAT/datasets/transformed/Dutilh2013/sub\"\n",
    "sample_size = 32\n",
    "\n",
    "df_all = pd.DataFrame()\n",
    "valid_ratio_dfs = pd.DataFrame()\n",
    "\n",
    "for i in range(sample_size):\n",
    "    print(i)\n",
    "    path = os.path.join(data_dir+str(i+1)+\".csv\")\n",
    "    df = pd.read_csv(path, sep = \",\")\n",
    "    \n",
    "    counts_before = df['Cond'].value_counts()\n",
    "    df = df[df[\"Time\"]<5]\n",
    "    counts_after = df['Cond'].value_counts()\n",
    "    valid_ratio = counts_before/counts_after\n",
    "    valid_ratio_df = valid_ratio.to_frame(i+1)\n",
    "    valid_ratio_dfs = pd.concat((valid_ratio_dfs,valid_ratio_df), axis = 1)\n",
    "    \n",
    "    samp = Sample.from_pandas_dataframe(df, rt_column_name=\"Time\", choice_column_name=\"Correct\")\n",
    "    df = get_OUM_result_sub_2k2ter(samp)\n",
    "    df_all = pd.concat((df_all,df))\n",
    "    \n",
    "df_OUM = df_all.copy()\n",
    "df_OUM.to_csv(\"Parameter Estimates/OUM2k2terresultDutilh2013.csv\")\n",
    "print(valid_ratio_dfs)"
   ]
  },
  {
   "cell_type": "code",
   "execution_count": 5,
   "id": "be2525bf",
   "metadata": {
    "scrolled": true
   },
   "outputs": [
    {
     "name": "stdout",
     "output_type": "stream",
     "text": [
      "0\n"
     ]
    },
    {
     "name": "stderr",
     "output_type": "stream",
     "text": [
      "Info: Params [ 0.85871655  4.76006343 -1.29023351  0.77777103  0.3135845   0.40817908] gave 490.09059151647807\n"
     ]
    },
    {
     "name": "stdout",
     "output_type": "stream",
     "text": [
      "1\n"
     ]
    },
    {
     "name": "stderr",
     "output_type": "stream",
     "text": [
      "Info: Params [1.24921201 8.98729136 0.86962175 1.912978   0.36035957 0.24009031] gave 315.4969912263074\n"
     ]
    },
    {
     "name": "stdout",
     "output_type": "stream",
     "text": [
      "2\n"
     ]
    },
    {
     "name": "stderr",
     "output_type": "stream",
     "text": [
      "Info: Params [1.18607358 5.29833195 1.77222361 1.25069341 0.19963909 0.2465041 ] gave 208.15192638879404\n"
     ]
    },
    {
     "name": "stdout",
     "output_type": "stream",
     "text": [
      "3\n"
     ]
    },
    {
     "name": "stderr",
     "output_type": "stream",
     "text": [
      "Info: Params [1.18571552 3.59482628 0.27529609 4.33537278 0.10016321 0.71280661] gave 722.1677905726224\n"
     ]
    },
    {
     "name": "stdout",
     "output_type": "stream",
     "text": [
      "4\n"
     ]
    },
    {
     "name": "stderr",
     "output_type": "stream",
     "text": [
      "Info: Params [1.30125686 7.1455377  2.39361725 1.55311238 0.30759822 0.30212189] gave 210.81345559931154\n"
     ]
    },
    {
     "name": "stdout",
     "output_type": "stream",
     "text": [
      "5\n"
     ]
    },
    {
     "name": "stderr",
     "output_type": "stream",
     "text": [
      "Info: Params [ 1.21425039 -5.14054435 -9.67166829  0.5126458   0.42033528  0.55288865] gave 444.25857437909013\n"
     ]
    },
    {
     "name": "stdout",
     "output_type": "stream",
     "text": [
      "6\n"
     ]
    },
    {
     "name": "stderr",
     "output_type": "stream",
     "text": [
      "Info: Params [0.82579098 5.74696978 2.96892411 1.0720759  0.1560227  0.3265288 ] gave 334.41198544106174\n"
     ]
    },
    {
     "name": "stdout",
     "output_type": "stream",
     "text": [
      "7\n"
     ]
    },
    {
     "name": "stderr",
     "output_type": "stream",
     "text": [
      "Info: Params [1.91040514 7.22021871 2.70465734 1.60391591 0.36488121 0.42699838] gave -105.55019187904905\n"
     ]
    },
    {
     "name": "stdout",
     "output_type": "stream",
     "text": [
      "8\n"
     ]
    },
    {
     "name": "stderr",
     "output_type": "stream",
     "text": [
      "Info: Params [ 1.58374041  1.64085905 -4.0463481   0.71244387  0.4649585   0.51370253] gave 173.79939345305777\n"
     ]
    },
    {
     "name": "stdout",
     "output_type": "stream",
     "text": [
      "9\n"
     ]
    },
    {
     "name": "stderr",
     "output_type": "stream",
     "text": [
      "Info: Params [0.53990141 2.67025904 0.32444551 0.97698471 0.32371243 0.36634842] gave 824.1848053258425\n"
     ]
    },
    {
     "name": "stdout",
     "output_type": "stream",
     "text": [
      "10\n"
     ]
    },
    {
     "name": "stderr",
     "output_type": "stream",
     "text": [
      "Info: Params [ 0.5118845   2.65892151 -3.74120535  0.74975133  0.40320603  0.4964657 ] gave 922.905247286485\n"
     ]
    },
    {
     "name": "stdout",
     "output_type": "stream",
     "text": [
      "11\n"
     ]
    },
    {
     "name": "stderr",
     "output_type": "stream",
     "text": [
      "Info: Params [0.80638064 4.93300714 1.0723993  1.44088008 0.17860986 0.33452331] gave 664.8531438636454\n"
     ]
    },
    {
     "name": "stdout",
     "output_type": "stream",
     "text": [
      "12\n"
     ]
    },
    {
     "name": "stderr",
     "output_type": "stream",
     "text": [
      "Info: Params [ 0.96687583  1.82874841 -2.42319883  0.88832357  0.39119797  0.4845056 ] gave 735.9163905123385\n"
     ]
    },
    {
     "name": "stdout",
     "output_type": "stream",
     "text": [
      "13\n"
     ]
    },
    {
     "name": "stderr",
     "output_type": "stream",
     "text": [
      "Info: Params [ 0.52018616  0.63289244 -0.83793983  0.86436403  0.37208319  0.46946263] gave 976.4352094460401\n"
     ]
    },
    {
     "name": "stdout",
     "output_type": "stream",
     "text": [
      "14\n"
     ]
    },
    {
     "name": "stderr",
     "output_type": "stream",
     "text": [
      "Info: Params [0.54096742 3.59646869 0.88894357 1.37414387 0.15468909 0.25183832] gave 816.2046665063859\n"
     ]
    },
    {
     "name": "stdout",
     "output_type": "stream",
     "text": [
      "15\n"
     ]
    },
    {
     "name": "stderr",
     "output_type": "stream",
     "text": [
      "Info: Params [ 1.14601781  2.57110386 -3.28737578  0.78859242  0.39489275  0.53950711] gave 608.42773979349\n"
     ]
    },
    {
     "name": "stdout",
     "output_type": "stream",
     "text": [
      "16\n"
     ]
    },
    {
     "name": "stderr",
     "output_type": "stream",
     "text": [
      "Info: Params [ 1.27177246 -0.67872735 -6.11042337  0.66687216  0.38204697  0.44091376] gave 649.676628767919\n"
     ]
    },
    {
     "name": "stdout",
     "output_type": "stream",
     "text": [
      "17\n"
     ]
    },
    {
     "name": "stderr",
     "output_type": "stream",
     "text": [
      "Info: Params [0.78362697 5.92643655 1.14081059 1.08294486 0.34922926 0.38281702] gave 514.3645875474841\n"
     ]
    },
    {
     "name": "stdout",
     "output_type": "stream",
     "text": [
      "18\n"
     ]
    },
    {
     "name": "stderr",
     "output_type": "stream",
     "text": [
      "Info: Params [0.91752724 4.32518659 1.81245027 1.45203358 0.2728956  0.25944047] gave 581.2173439593327\n"
     ]
    },
    {
     "name": "stdout",
     "output_type": "stream",
     "text": [
      "19\n"
     ]
    },
    {
     "name": "stderr",
     "output_type": "stream",
     "text": [
      "Info: Params [0.43718088 1.14040086 0.34812229 1.46499566 0.13149421 0.23406737] gave 1279.4115286234442\n"
     ]
    },
    {
     "name": "stdout",
     "output_type": "stream",
     "text": [
      "20\n"
     ]
    },
    {
     "name": "stderr",
     "output_type": "stream",
     "text": [
      "Info: Params [ 1.7000619   4.33233084 -6.53982653  0.60511267  0.33373723  0.45710499] gave 118.90017533763036\n"
     ]
    },
    {
     "name": "stdout",
     "output_type": "stream",
     "text": [
      "21\n"
     ]
    },
    {
     "name": "stderr",
     "output_type": "stream",
     "text": [
      "Info: Params [1.42360124 4.92566518 1.60072067 1.82507561 0.27426889 0.33784009] gave 336.38568504583225\n"
     ]
    },
    {
     "name": "stdout",
     "output_type": "stream",
     "text": [
      "22\n"
     ]
    },
    {
     "name": "stderr",
     "output_type": "stream",
     "text": [
      "Info: Params [0.78662809 3.07160846 0.38742493 1.09774679 0.31242773 0.4252084 ] gave 743.5854855463195\n"
     ]
    },
    {
     "name": "stdout",
     "output_type": "stream",
     "text": [
      "23\n"
     ]
    },
    {
     "name": "stderr",
     "output_type": "stream",
     "text": [
      "Info: Params [0.73574475 3.69096551 0.92917428 2.51887314 0.29380463 0.25023771] gave 867.7648010924465\n"
     ]
    },
    {
     "name": "stdout",
     "output_type": "stream",
     "text": [
      "24\n"
     ]
    },
    {
     "name": "stderr",
     "output_type": "stream",
     "text": [
      "Info: Params [1.06779202 2.90102067 1.59988006 1.70637768 0.25340533 0.30605127] gave 693.7162744724849\n"
     ]
    },
    {
     "name": "stdout",
     "output_type": "stream",
     "text": [
      "25\n"
     ]
    },
    {
     "name": "stderr",
     "output_type": "stream",
     "text": [
      "Info: Params [1.4778111  7.81785988 1.72499707 2.002818   0.4151706  0.39786895] gave 195.87207520459503\n"
     ]
    },
    {
     "name": "stdout",
     "output_type": "stream",
     "text": [
      "26\n"
     ]
    },
    {
     "name": "stderr",
     "output_type": "stream",
     "text": [
      "Info: Params [ 1.03345266 14.56806351  1.89469952  1.70339246  0.3008335   0.51802286] gave 210.8357061054383\n"
     ]
    },
    {
     "name": "stdout",
     "output_type": "stream",
     "text": [
      "27\n"
     ]
    },
    {
     "name": "stderr",
     "output_type": "stream",
     "text": [
      "Info: Params [ 1.5501261   2.93725895 -6.31983031  0.55294866  0.45450572  0.58462595] gave 119.94426620977154\n"
     ]
    },
    {
     "name": "stdout",
     "output_type": "stream",
     "text": [
      "28\n"
     ]
    },
    {
     "name": "stderr",
     "output_type": "stream",
     "text": [
      "Info: Params [1.81223545 9.83405016 2.69169426 1.66235312 0.28818794 0.35668165] gave -149.50970475981768\n"
     ]
    },
    {
     "name": "stdout",
     "output_type": "stream",
     "text": [
      "29\n"
     ]
    },
    {
     "name": "stderr",
     "output_type": "stream",
     "text": [
      "Info: Params [ 0.67476052  0.40439025 -2.79516995  0.80300214  0.49259635  0.75600192] gave 1003.8752993040997\n"
     ]
    },
    {
     "name": "stdout",
     "output_type": "stream",
     "text": [
      "30\n"
     ]
    },
    {
     "name": "stderr",
     "output_type": "stream",
     "text": [
      "Info: Params [1.33060499 4.54537937 2.85446523 1.02507503 0.27221726 0.3866211 ] gave 199.20258187187818\n"
     ]
    },
    {
     "name": "stdout",
     "output_type": "stream",
     "text": [
      "31\n"
     ]
    },
    {
     "name": "stderr",
     "output_type": "stream",
     "text": [
      "Info: Params [1.34589552 2.17978903 0.70847526 1.29001048 0.33715296 0.34044467] gave 537.2985091812959\n"
     ]
    },
    {
     "name": "stdout",
     "output_type": "stream",
     "text": [
      "32\n"
     ]
    },
    {
     "name": "stderr",
     "output_type": "stream",
     "text": [
      "Info: Params [1.50147872 5.00515009 1.80676422 1.663912   0.26710473 0.36325328] gave 267.23599428271507\n"
     ]
    },
    {
     "name": "stdout",
     "output_type": "stream",
     "text": [
      "33\n"
     ]
    },
    {
     "name": "stderr",
     "output_type": "stream",
     "text": [
      "Info: Params [1.19967534 8.30769725 1.81933376 1.7151306  0.16299487 0.34456485] gave 292.28572673277006\n"
     ]
    },
    {
     "name": "stdout",
     "output_type": "stream",
     "text": [
      "34\n"
     ]
    },
    {
     "name": "stderr",
     "output_type": "stream",
     "text": [
      "Info: Params [ 1.60283922 12.43185745  3.49464615  1.07345692  0.29472242  0.32425471] gave -153.20587643414382\n"
     ]
    },
    {
     "name": "stdout",
     "output_type": "stream",
     "text": [
      "35\n"
     ]
    },
    {
     "name": "stderr",
     "output_type": "stream",
     "text": [
      "Info: Params [ 1.01698009 14.79572309  1.14762702  1.02956296  0.4019046   0.47361709] gave 72.62703640901904\n"
     ]
    },
    {
     "name": "stdout",
     "output_type": "stream",
     "text": [
      "36\n"
     ]
    },
    {
     "name": "stderr",
     "output_type": "stream",
     "text": [
      "Info: Params [1.23814415 3.55310973 1.46384333 1.54648618 0.23559556 0.2850871 ] gave 531.8509405017388\n"
     ]
    },
    {
     "name": "stdout",
     "output_type": "stream",
     "text": [
      "37\n"
     ]
    },
    {
     "name": "stderr",
     "output_type": "stream",
     "text": [
      "Info: Params [ 1.80009302 11.99704796  4.07267004  1.66213223  0.26079166  0.35103552] gave -96.16136113584086\n"
     ]
    },
    {
     "name": "stdout",
     "output_type": "stream",
     "text": [
      "38\n"
     ]
    },
    {
     "name": "stderr",
     "output_type": "stream",
     "text": [
      "Info: Params [1.86803036 8.49600203 2.82070807 1.29235274 0.28109226 0.42850641] gave -127.26249906580885\n"
     ]
    },
    {
     "name": "stdout",
     "output_type": "stream",
     "text": [
      "39\n"
     ]
    },
    {
     "name": "stderr",
     "output_type": "stream",
     "text": [
      "Info: Params [0.69122872 5.55073276 0.29197908 1.91499753 0.25491293 0.29169019] gave 629.2530335436479\n"
     ]
    },
    {
     "name": "stdout",
     "output_type": "stream",
     "text": [
      "40\n"
     ]
    },
    {
     "name": "stderr",
     "output_type": "stream",
     "text": [
      "Info: Params [1.37475208 6.75453751 1.38054422 2.10491893 0.26927615 0.31258311] gave 324.88809361913945\n"
     ]
    },
    {
     "name": "stdout",
     "output_type": "stream",
     "text": [
      "41\n"
     ]
    },
    {
     "name": "stderr",
     "output_type": "stream",
     "text": [
      "Info: Params [ 1.25417647  5.30792675 -2.99876538  0.76277698  0.33586649  0.41962944] gave 350.6513997486388\n"
     ]
    },
    {
     "name": "stdout",
     "output_type": "stream",
     "text": [
      "42\n"
     ]
    },
    {
     "name": "stderr",
     "output_type": "stream",
     "text": [
      "Info: Params [1.00789787 5.13026915 1.81708791 1.42465628 0.30849177 0.32617631] gave 487.80102851657307\n"
     ]
    },
    {
     "name": "stdout",
     "output_type": "stream",
     "text": [
      "43\n"
     ]
    },
    {
     "name": "stderr",
     "output_type": "stream",
     "text": [
      "Info: Params [0.61641799 3.56254039 0.17896532 1.16664939 0.28690612 0.39428408] gave 939.7366124971436\n"
     ]
    },
    {
     "name": "stdout",
     "output_type": "stream",
     "text": [
      "44\n"
     ]
    },
    {
     "name": "stderr",
     "output_type": "stream",
     "text": [
      "Info: Params [1.51749761 5.40741331 1.8378585  1.73014465 0.27779443 0.23937546] gave 394.80766563288046\n"
     ]
    },
    {
     "name": "stdout",
     "output_type": "stream",
     "text": [
      "45\n"
     ]
    },
    {
     "name": "stderr",
     "output_type": "stream",
     "text": [
      "Info: Params [1.16546991 3.8649252  1.43237767 1.18677155 0.33083661 0.3682341 ] gave 364.65694544686767\n"
     ]
    },
    {
     "name": "stdout",
     "output_type": "stream",
     "text": [
      "46\n"
     ]
    },
    {
     "name": "stderr",
     "output_type": "stream",
     "text": [
      "Info: Params [ 1.03233251  4.80869302 -0.01305615  1.40871319  0.25458515  0.52079428] gave 598.4278521420279\n"
     ]
    },
    {
     "name": "stdout",
     "output_type": "stream",
     "text": [
      "           1    2    3    4    5    6    7    8    9    10  ...   38   39  \\\n",
      "Accuracy  1.0  1.0  1.0  1.0  1.0  1.0  1.0  1.0  1.0  1.0  ...  1.0  1.0   \n",
      "Speed     1.0  1.0  1.0  1.0  1.0  1.0  1.0  1.0  1.0  1.0  ...  1.0  1.0   \n",
      "\n",
      "           40   41   42   43   44   45   46   47  \n",
      "Accuracy  1.0  1.0  1.0  1.0  1.0  1.0  1.0  1.0  \n",
      "Speed     1.0  1.0  1.0  1.0  1.0  1.0  1.0  1.0  \n",
      "\n",
      "[2 rows x 47 columns]\n"
     ]
    }
   ],
   "source": [
    "data_dir = \"/Users/wangjiashun/Desktop/Research_on_SAT/datasets/transformed/Evans2017/sub\"\n",
    "sample_size = 47\n",
    "\n",
    "df_all = pd.DataFrame()\n",
    "valid_ratio_dfs = pd.DataFrame()\n",
    "\n",
    "for i in range(sample_size):\n",
    "    print(i)\n",
    "    path = os.path.join(data_dir+str(i+1)+\".csv\")\n",
    "    df = pd.read_csv(path, sep = \",\")\n",
    "    \n",
    "    counts_before = df['Cond'].value_counts()\n",
    "    df = df[df[\"Time\"]<5]\n",
    "    counts_after = df['Cond'].value_counts()\n",
    "    valid_ratio = counts_before/counts_after\n",
    "    valid_ratio_df = valid_ratio.to_frame(i+1)\n",
    "    valid_ratio_dfs = pd.concat((valid_ratio_dfs,valid_ratio_df), axis = 1)\n",
    "    \n",
    "    samp = Sample.from_pandas_dataframe(df, rt_column_name=\"Time\", choice_column_name=\"Correct\")\n",
    "    df = get_OUM_result_sub_2k2ter(samp)\n",
    "    df_all = pd.concat((df_all,df))\n",
    "    \n",
    "df_OUM = df_all.copy()\n",
    "df_OUM.to_csv(\"Parameter Estimates/OUM2k2terresultEvans2017.csv\")\n",
    "print(valid_ratio_dfs)"
   ]
  },
  {
   "cell_type": "code",
   "execution_count": null,
   "id": "37140e6d",
   "metadata": {},
   "outputs": [],
   "source": []
  },
  {
   "cell_type": "code",
   "execution_count": 6,
   "id": "11deb9df",
   "metadata": {},
   "outputs": [
    {
     "name": "stderr",
     "output_type": "stream",
     "text": [
      "Warning: dt is large.  Estimated pdfs may be imprecise.  Decrease dt to 0.01 or less.\n"
     ]
    },
    {
     "name": "stdout",
     "output_type": "stream",
     "text": [
      "0\n"
     ]
    },
    {
     "name": "stderr",
     "output_type": "stream",
     "text": [
      "Info: Params [ 0.2236789  -2.01436455 -6.12851785  0.89075926  0.85458565  0.97769292] gave 1005.8584933491827\n",
      "Warning: dt is large.  Estimated pdfs may be imprecise.  Decrease dt to 0.01 or less.\n"
     ]
    },
    {
     "name": "stdout",
     "output_type": "stream",
     "text": [
      "1\n"
     ]
    },
    {
     "name": "stderr",
     "output_type": "stream",
     "text": [
      "Info: Params [ 0.25135596 -0.16414767 -0.43040981  2.04511433  0.88043668  0.92446331] gave 1072.5800887803048\n",
      "Warning: dt is large.  Estimated pdfs may be imprecise.  Decrease dt to 0.01 or less.\n"
     ]
    },
    {
     "name": "stdout",
     "output_type": "stream",
     "text": [
      "2\n"
     ]
    },
    {
     "name": "stderr",
     "output_type": "stream",
     "text": [
      "Info: Params [ 0.00770855 -5.24593532 -6.61518662  0.59638719  0.11053624  0.47719743] gave 469.80435860704716\n",
      "Warning: dt is large.  Estimated pdfs may be imprecise.  Decrease dt to 0.01 or less.\n"
     ]
    },
    {
     "name": "stdout",
     "output_type": "stream",
     "text": [
      "3\n"
     ]
    },
    {
     "name": "stderr",
     "output_type": "stream",
     "text": [
      "Info: Params [ 0.14827356 -6.4575443  -7.82161274  0.68402531  0.20103066  0.9161722 ] gave 847.5553813352542\n",
      "Warning: dt is large.  Estimated pdfs may be imprecise.  Decrease dt to 0.01 or less.\n"
     ]
    },
    {
     "name": "stdout",
     "output_type": "stream",
     "text": [
      "4\n"
     ]
    },
    {
     "name": "stderr",
     "output_type": "stream",
     "text": [
      "Info: Params [ 0.16845257 -0.45680146 -0.70881353  1.86249222  0.97640704  0.97367894] gave 1175.2978357004722\n",
      "Warning: dt is large.  Estimated pdfs may be imprecise.  Decrease dt to 0.01 or less.\n"
     ]
    },
    {
     "name": "stdout",
     "output_type": "stream",
     "text": [
      "5\n"
     ]
    },
    {
     "name": "stderr",
     "output_type": "stream",
     "text": [
      "Info: Params [ 0.1803856   1.81882962 -0.86675264  1.79138516  0.83247607  0.96015164] gave 906.9983371861995\n",
      "Warning: dt is large.  Estimated pdfs may be imprecise.  Decrease dt to 0.01 or less.\n"
     ]
    },
    {
     "name": "stdout",
     "output_type": "stream",
     "text": [
      "6\n"
     ]
    },
    {
     "name": "stderr",
     "output_type": "stream",
     "text": [
      "Info: Params [0.2609431  3.40007793 0.56602194 2.65912194 0.15302704 0.88747753] gave 573.9639456603911\n",
      "Warning: dt is large.  Estimated pdfs may be imprecise.  Decrease dt to 0.01 or less.\n"
     ]
    },
    {
     "name": "stdout",
     "output_type": "stream",
     "text": [
      "7\n"
     ]
    },
    {
     "name": "stderr",
     "output_type": "stream",
     "text": [
      "Info: Params [0.30488026 4.06725766 0.70272859 3.3253014  0.46032299 0.21064824] gave 547.2692448675436\n",
      "Warning: dt is large.  Estimated pdfs may be imprecise.  Decrease dt to 0.01 or less.\n"
     ]
    },
    {
     "name": "stdout",
     "output_type": "stream",
     "text": [
      "8\n"
     ]
    },
    {
     "name": "stderr",
     "output_type": "stream",
     "text": [
      "Info: Params [ 6.66468824e-03 -2.04908856e+00 -7.62912960e+00  6.44170560e-01\n",
      "  2.44536331e-01  1.25933929e-01] gave 590.8241129124665\n",
      "Warning: dt is large.  Estimated pdfs may be imprecise.  Decrease dt to 0.01 or less.\n"
     ]
    },
    {
     "name": "stdout",
     "output_type": "stream",
     "text": [
      "9\n"
     ]
    },
    {
     "name": "stderr",
     "output_type": "stream",
     "text": [
      "Info: Params [ 0.09039519 -4.22435814 -5.02429505  0.82431211  0.21000449  0.16476538] gave 929.1386956893814\n",
      "Warning: dt is large.  Estimated pdfs may be imprecise.  Decrease dt to 0.01 or less.\n"
     ]
    },
    {
     "name": "stdout",
     "output_type": "stream",
     "text": [
      "10\n"
     ]
    },
    {
     "name": "stderr",
     "output_type": "stream",
     "text": [
      "Info: Params [  0.5802794   -3.19572437 -10.38139558   0.72614627   0.9971554\n",
      "   0.99286545] gave 850.9848068055237\n",
      "Warning: dt is large.  Estimated pdfs may be imprecise.  Decrease dt to 0.01 or less.\n"
     ]
    },
    {
     "name": "stdout",
     "output_type": "stream",
     "text": [
      "11\n"
     ]
    },
    {
     "name": "stderr",
     "output_type": "stream",
     "text": [
      "Info: Params [ 0.15790787  2.98655688 -4.7635514   1.04032768  0.38393775  0.96622595] gave 799.6262354593813\n",
      "Warning: dt is large.  Estimated pdfs may be imprecise.  Decrease dt to 0.01 or less.\n"
     ]
    },
    {
     "name": "stdout",
     "output_type": "stream",
     "text": [
      "12\n"
     ]
    },
    {
     "name": "stderr",
     "output_type": "stream",
     "text": [
      "Info: Params [0.29058571 1.8465201  0.52714164 2.71356647 0.5345849  0.85846404] gave 661.7160741567434\n",
      "Warning: dt is large.  Estimated pdfs may be imprecise.  Decrease dt to 0.01 or less.\n"
     ]
    },
    {
     "name": "stdout",
     "output_type": "stream",
     "text": [
      "13\n"
     ]
    },
    {
     "name": "stderr",
     "output_type": "stream",
     "text": [
      "Info: Params [0.21446111 0.94540218 0.08711928 4.08059104 0.55388568 0.80381294] gave 915.8700035791743\n",
      "Warning: dt is large.  Estimated pdfs may be imprecise.  Decrease dt to 0.01 or less.\n"
     ]
    },
    {
     "name": "stdout",
     "output_type": "stream",
     "text": [
      "14\n"
     ]
    },
    {
     "name": "stderr",
     "output_type": "stream",
     "text": [
      "Info: Params [ 0.25013093 -1.81358061 -5.65721143  0.88340555  0.19794186  0.99784498] gave 928.0793522248738\n",
      "Warning: dt is large.  Estimated pdfs may be imprecise.  Decrease dt to 0.01 or less.\n"
     ]
    },
    {
     "name": "stdout",
     "output_type": "stream",
     "text": [
      "15\n"
     ]
    },
    {
     "name": "stderr",
     "output_type": "stream",
     "text": [
      "Info: Params [0.09488277 2.30997051 0.1093412  5.9397449  0.28931087 0.99708768] gave 862.2963082079933\n",
      "Warning: dt is large.  Estimated pdfs may be imprecise.  Decrease dt to 0.01 or less.\n"
     ]
    },
    {
     "name": "stdout",
     "output_type": "stream",
     "text": [
      "16\n"
     ]
    },
    {
     "name": "stderr",
     "output_type": "stream",
     "text": [
      "Info: Params [0.26564441 0.96797091 0.74406303 2.55979783 0.11707166 0.98460863] gave 719.9394607876718\n",
      "Warning: dt is large.  Estimated pdfs may be imprecise.  Decrease dt to 0.01 or less.\n"
     ]
    },
    {
     "name": "stdout",
     "output_type": "stream",
     "text": [
      "17\n"
     ]
    },
    {
     "name": "stderr",
     "output_type": "stream",
     "text": [
      "Info: Params [0.16433572 2.54557409 0.23509251 2.26126269 0.13916101 0.10243181] gave 675.2963310516632\n",
      "Warning: dt is large.  Estimated pdfs may be imprecise.  Decrease dt to 0.01 or less.\n"
     ]
    },
    {
     "name": "stdout",
     "output_type": "stream",
     "text": [
      "18\n"
     ]
    },
    {
     "name": "stderr",
     "output_type": "stream",
     "text": [
      "Info: Params [0.16987075 0.85821193 0.45348809 3.32377871 0.40994617 0.49554262] gave 824.9904991164109\n",
      "Warning: dt is large.  Estimated pdfs may be imprecise.  Decrease dt to 0.01 or less.\n"
     ]
    },
    {
     "name": "stdout",
     "output_type": "stream",
     "text": [
      "19\n"
     ]
    },
    {
     "name": "stderr",
     "output_type": "stream",
     "text": [
      "Info: Params [0.23114023 1.65012032 0.07240161 5.96694811 0.15376245 0.97425865] gave 892.783408049803\n",
      "Warning: dt is large.  Estimated pdfs may be imprecise.  Decrease dt to 0.01 or less.\n"
     ]
    },
    {
     "name": "stdout",
     "output_type": "stream",
     "text": [
      "20\n"
     ]
    },
    {
     "name": "stderr",
     "output_type": "stream",
     "text": [
      "Info: Params [0.21709291 0.75545217 1.36114648 2.64627482 0.13362603 0.75475064] gave 673.6018465423268\n",
      "Warning: dt is large.  Estimated pdfs may be imprecise.  Decrease dt to 0.01 or less.\n"
     ]
    },
    {
     "name": "stdout",
     "output_type": "stream",
     "text": [
      "21\n"
     ]
    },
    {
     "name": "stderr",
     "output_type": "stream",
     "text": [
      "Info: Params [0.00624175 1.71925303 2.00814975 1.75742626 0.17931454 0.4921368 ] gave 492.3687316504182\n",
      "Warning: dt is large.  Estimated pdfs may be imprecise.  Decrease dt to 0.01 or less.\n"
     ]
    },
    {
     "name": "stdout",
     "output_type": "stream",
     "text": [
      "22\n"
     ]
    },
    {
     "name": "stderr",
     "output_type": "stream",
     "text": [
      "Info: Params [0.19198626 4.05779011 0.21957326 2.92506658 0.17064322 0.67227776] gave 664.1563104498448\n",
      "Warning: dt is large.  Estimated pdfs may be imprecise.  Decrease dt to 0.01 or less.\n"
     ]
    },
    {
     "name": "stdout",
     "output_type": "stream",
     "text": [
      "23\n"
     ]
    },
    {
     "name": "stderr",
     "output_type": "stream",
     "text": [
      "Info: Params [0.19467449 0.35599082 0.23452049 5.79099374 0.65191434 0.62019942] gave 1050.92940358946\n",
      "Warning: dt is large.  Estimated pdfs may be imprecise.  Decrease dt to 0.01 or less.\n"
     ]
    },
    {
     "name": "stdout",
     "output_type": "stream",
     "text": [
      "24\n"
     ]
    },
    {
     "name": "stderr",
     "output_type": "stream",
     "text": [
      "Info: Params [0.1498556  8.08425582 2.44625788 3.2503463  0.32491164 0.30836275] gave 307.5310747489579\n",
      "Warning: dt is large.  Estimated pdfs may be imprecise.  Decrease dt to 0.01 or less.\n"
     ]
    },
    {
     "name": "stdout",
     "output_type": "stream",
     "text": [
      "25\n"
     ]
    },
    {
     "name": "stderr",
     "output_type": "stream",
     "text": [
      "Info: Params [  0.35572448  -3.54813721 -14.84807894   0.61071782   0.46154827\n",
      "   0.10544025] gave 822.2453292326089\n",
      "Warning: dt is large.  Estimated pdfs may be imprecise.  Decrease dt to 0.01 or less.\n"
     ]
    },
    {
     "name": "stdout",
     "output_type": "stream",
     "text": [
      "26\n"
     ]
    },
    {
     "name": "stderr",
     "output_type": "stream",
     "text": [
      "Info: Params [ 0.30355961 -2.83540248 -6.30290471  0.84529413  0.50734671  0.9506541 ] gave 938.0920977275068\n",
      "Warning: dt is large.  Estimated pdfs may be imprecise.  Decrease dt to 0.01 or less.\n"
     ]
    },
    {
     "name": "stdout",
     "output_type": "stream",
     "text": [
      "27\n"
     ]
    },
    {
     "name": "stderr",
     "output_type": "stream",
     "text": [
      "Info: Params [  0.41027722  -8.07548041 -13.25461671   0.6543099    0.12160923\n",
      "   0.9538491 ] gave 1038.9011620624676\n",
      "Warning: dt is large.  Estimated pdfs may be imprecise.  Decrease dt to 0.01 or less.\n"
     ]
    },
    {
     "name": "stdout",
     "output_type": "stream",
     "text": [
      "28\n"
     ]
    },
    {
     "name": "stderr",
     "output_type": "stream",
     "text": [
      "Info: Params [ 0.17545843 -1.74454281 -3.48774618  1.15657609  0.95022955  0.80303472] gave 1158.4638176059455\n",
      "Warning: dt is large.  Estimated pdfs may be imprecise.  Decrease dt to 0.01 or less.\n"
     ]
    },
    {
     "name": "stdout",
     "output_type": "stream",
     "text": [
      "29\n"
     ]
    },
    {
     "name": "stderr",
     "output_type": "stream",
     "text": [
      "Info: Params [ 0.21451781 -1.4794543  -1.18996243  1.38207586  0.65441465  0.95151594] gave 1093.1326829288998\n",
      "Warning: dt is large.  Estimated pdfs may be imprecise.  Decrease dt to 0.01 or less.\n"
     ]
    },
    {
     "name": "stdout",
     "output_type": "stream",
     "text": [
      "30\n"
     ]
    },
    {
     "name": "stderr",
     "output_type": "stream",
     "text": [
      "Info: Params [0.26204723 5.12050932 0.25430787 2.25225419 0.13367683 0.84947936] gave 619.5416368301387\n",
      "Warning: dt is large.  Estimated pdfs may be imprecise.  Decrease dt to 0.01 or less.\n"
     ]
    },
    {
     "name": "stdout",
     "output_type": "stream",
     "text": [
      "31\n"
     ]
    },
    {
     "name": "stderr",
     "output_type": "stream",
     "text": [
      "Info: Params [  0.35283423  -8.04347449 -13.88519856   0.63380065   0.16695754\n",
      "   0.59857817] gave 998.3037076549214\n",
      "Warning: dt is large.  Estimated pdfs may be imprecise.  Decrease dt to 0.01 or less.\n"
     ]
    },
    {
     "name": "stdout",
     "output_type": "stream",
     "text": [
      "32\n"
     ]
    },
    {
     "name": "stderr",
     "output_type": "stream",
     "text": [
      "Info: Params [  0.48914774  -1.59381109 -13.41089316   0.55387243   0.11269716\n",
      "   0.76953995] gave 540.268739080706\n",
      "Warning: dt is large.  Estimated pdfs may be imprecise.  Decrease dt to 0.01 or less.\n"
     ]
    },
    {
     "name": "stdout",
     "output_type": "stream",
     "text": [
      "33\n"
     ]
    },
    {
     "name": "stderr",
     "output_type": "stream",
     "text": [
      "Info: Params [0.09871629 1.99596715 0.6891525  2.75974515 0.1009101  0.95226673] gave 668.6664046645852\n",
      "Warning: dt is large.  Estimated pdfs may be imprecise.  Decrease dt to 0.01 or less.\n"
     ]
    },
    {
     "name": "stdout",
     "output_type": "stream",
     "text": [
      "34\n"
     ]
    },
    {
     "name": "stderr",
     "output_type": "stream",
     "text": [
      "Info: Params [0.29138148 0.97989172 0.16360646 5.42064604 0.11479244 0.58672601] gave 897.909092180337\n",
      "Warning: dt is large.  Estimated pdfs may be imprecise.  Decrease dt to 0.01 or less.\n"
     ]
    },
    {
     "name": "stdout",
     "output_type": "stream",
     "text": [
      "35\n"
     ]
    },
    {
     "name": "stderr",
     "output_type": "stream",
     "text": [
      "Info: Params [ 0.50491563 -3.34223568 -4.44000074  1.02593569  0.96730568  0.96852068] gave 1078.0985053559702\n",
      "Warning: dt is large.  Estimated pdfs may be imprecise.  Decrease dt to 0.01 or less.\n"
     ]
    },
    {
     "name": "stdout",
     "output_type": "stream",
     "text": [
      "36\n"
     ]
    },
    {
     "name": "stderr",
     "output_type": "stream",
     "text": [
      "Info: Params [0.14216727 0.84824363 1.23209145 5.46725928 0.18771002 0.95720928] gave 703.6600466940675\n",
      "Warning: dt is large.  Estimated pdfs may be imprecise.  Decrease dt to 0.01 or less.\n"
     ]
    },
    {
     "name": "stdout",
     "output_type": "stream",
     "text": [
      "37\n"
     ]
    },
    {
     "name": "stderr",
     "output_type": "stream",
     "text": [
      "Info: Params [  0.43034373  -8.47071783 -14.41185683   0.64198687   0.14505779\n",
      "   0.99517097] gave 1013.588800495337\n"
     ]
    },
    {
     "name": "stdout",
     "output_type": "stream",
     "text": [
      "           1    2    3    4         5    6    7    8    9    10  ...  \\\n",
      "Accuracy  1.0  1.0  1.0  1.0  1.037975  1.0  1.0  1.0  1.0  1.0  ...   \n",
      "Speed     1.0  1.0  1.0  1.0  1.000000  1.0  1.0  1.0  1.0  1.0  ...   \n",
      "\n",
      "                29   30   31        32   33   34   35        36   37        38  \n",
      "Accuracy  1.051282  1.0  1.0  1.012346  1.0  1.0  1.0  1.012346  1.0  1.078947  \n",
      "Speed     1.000000  1.0  1.0  1.000000  1.0  1.0  1.0  1.000000  1.0  1.000000  \n",
      "\n",
      "[2 rows x 38 columns]\n"
     ]
    }
   ],
   "source": [
    "data_dir = \"/Users/wangjiashun/Desktop/Research_on_SAT/datasets/transformed/Lerche2017/sub\"\n",
    "sample_size = 38\n",
    "\n",
    "df_all = pd.DataFrame()\n",
    "valid_ratio_dfs = pd.DataFrame()\n",
    "\n",
    "for i in range(sample_size):\n",
    "    print(i)\n",
    "    path = os.path.join(data_dir+str(i+1)+\".csv\")\n",
    "    df = pd.read_csv(path, sep = \",\")\n",
    "    \n",
    "    counts_before = df['Cond'].value_counts()\n",
    "    df = df[df[\"Time\"]<30]\n",
    "    counts_after = df['Cond'].value_counts()\n",
    "    valid_ratio = counts_before/counts_after\n",
    "    valid_ratio_df = valid_ratio.to_frame(i+1)\n",
    "    valid_ratio_dfs = pd.concat((valid_ratio_dfs,valid_ratio_df), axis = 1)\n",
    "    \n",
    "    samp = Sample.from_pandas_dataframe(df, rt_column_name=\"Time\", choice_column_name=\"Correct\")\n",
    "    df = get_OUM_result_sub_2k2ter(samp,dt=0.05,T_dur=30)\n",
    "    df_all = pd.concat((df_all,df))\n",
    "    \n",
    "df_OUM = df_all.copy()\n",
    "df_OUM.to_csv(\"Parameter Estimates/OUM2k2terresultLerche2017.csv\")\n",
    "print(valid_ratio_dfs)"
   ]
  },
  {
   "cell_type": "code",
   "execution_count": 7,
   "id": "c63aea59",
   "metadata": {},
   "outputs": [
    {
     "name": "stdout",
     "output_type": "stream",
     "text": [
      "0\n"
     ]
    },
    {
     "name": "stderr",
     "output_type": "stream",
     "text": [
      "Info: Params [1.71683841 9.34273963 7.51739331 3.03198455 0.15522128 0.20488695] gave -1126.3384345546572\n"
     ]
    },
    {
     "name": "stdout",
     "output_type": "stream",
     "text": [
      "1\n"
     ]
    },
    {
     "name": "stderr",
     "output_type": "stream",
     "text": [
      "Info: Params [ 1.59118635 14.90069729 13.87730386  5.87914032  0.16643387  0.21939079] gave -2459.0303609620587\n"
     ]
    },
    {
     "name": "stdout",
     "output_type": "stream",
     "text": [
      "2\n"
     ]
    },
    {
     "name": "stderr",
     "output_type": "stream",
     "text": [
      "Info: Params [0.24020227 8.42859418 8.47303772 1.60951846 0.10480207 0.1465503 ] gave -423.2912993019333\n"
     ]
    },
    {
     "name": "stdout",
     "output_type": "stream",
     "text": [
      "3\n"
     ]
    },
    {
     "name": "stderr",
     "output_type": "stream",
     "text": [
      "Info: Params [ 2.65552507 15.         13.54725904  1.90511925  0.25664995  0.26293473] gave -3878.166726159559\n"
     ]
    },
    {
     "name": "stdout",
     "output_type": "stream",
     "text": [
      "4\n"
     ]
    },
    {
     "name": "stderr",
     "output_type": "stream",
     "text": [
      "Info: Params [ 0.43049478 12.23409527  9.55526291  3.02504928  0.10454931  0.10565521] gave -289.05957224343473\n"
     ]
    },
    {
     "name": "stdout",
     "output_type": "stream",
     "text": [
      "5\n"
     ]
    },
    {
     "name": "stderr",
     "output_type": "stream",
     "text": [
      "Info: Params [ 2.40412268 14.40656564 15.          1.92374836  0.22736236  0.25850536] gave -1853.3368368455217\n"
     ]
    },
    {
     "name": "stdout",
     "output_type": "stream",
     "text": [
      "6\n"
     ]
    },
    {
     "name": "stderr",
     "output_type": "stream",
     "text": [
      "Info: Params [ 1.92224754 14.97778189 12.4591311   2.45150045  0.2242841   0.24479702] gave -3061.3490475994295\n"
     ]
    },
    {
     "name": "stdout",
     "output_type": "stream",
     "text": [
      "7\n"
     ]
    },
    {
     "name": "stderr",
     "output_type": "stream",
     "text": [
      "Info: Params [ 1.84595214 14.6235671   4.55366786  1.00602235  0.24808165  0.25478933] gave -1983.9592834414711\n"
     ]
    },
    {
     "name": "stdout",
     "output_type": "stream",
     "text": [
      "8\n"
     ]
    },
    {
     "name": "stderr",
     "output_type": "stream",
     "text": [
      "Info: Params [ 2.29866546 14.63307983 13.84486329  4.86748955  0.21560671  0.2354707 ] gave -1466.0883695046305\n"
     ]
    },
    {
     "name": "stdout",
     "output_type": "stream",
     "text": [
      "9\n"
     ]
    },
    {
     "name": "stderr",
     "output_type": "stream",
     "text": [
      "Info: Params [ 1.49998418 15.         11.95174856  3.56139167  0.17190393  0.18869142] gave -2161.0234719584373\n"
     ]
    },
    {
     "name": "stdout",
     "output_type": "stream",
     "text": [
      "10\n"
     ]
    },
    {
     "name": "stderr",
     "output_type": "stream",
     "text": [
      "Info: Params [0.15675094 8.10860967 8.27909402 1.06829688 0.13648758 0.14549356] gave -471.2505765781392\n"
     ]
    },
    {
     "name": "stdout",
     "output_type": "stream",
     "text": [
      "11\n"
     ]
    },
    {
     "name": "stderr",
     "output_type": "stream",
     "text": [
      "Info: Params [1.09036814 9.59355939 3.66876117 1.1595406  0.19553139 0.23214731] gave -243.5762251859379\n"
     ]
    },
    {
     "name": "stdout",
     "output_type": "stream",
     "text": [
      "12\n"
     ]
    },
    {
     "name": "stderr",
     "output_type": "stream",
     "text": [
      "Info: Params [0.63777628 9.21432551 8.60331346 2.2395055  0.102495   0.16737665] gave -456.6591416721111\n"
     ]
    },
    {
     "name": "stdout",
     "output_type": "stream",
     "text": [
      "13\n"
     ]
    },
    {
     "name": "stderr",
     "output_type": "stream",
     "text": [
      "Info: Params [0.33704891 9.91488649 4.84682346 0.60798262 0.16435926 0.17199801] gave -294.6221981049393\n"
     ]
    },
    {
     "name": "stdout",
     "output_type": "stream",
     "text": [
      "14\n"
     ]
    },
    {
     "name": "stderr",
     "output_type": "stream",
     "text": [
      "Info: Params [ 1.37151109 10.32031731  9.66585745  2.53564359  0.2402078   0.2564003 ] gave -1516.681024865191\n"
     ]
    },
    {
     "name": "stdout",
     "output_type": "stream",
     "text": [
      "15\n"
     ]
    },
    {
     "name": "stderr",
     "output_type": "stream",
     "text": [
      "Info: Params [0.3754879  8.42983116 5.52376776 0.85830233 0.17541972 0.18740235] gave 199.49875417073963\n"
     ]
    },
    {
     "name": "stdout",
     "output_type": "stream",
     "text": [
      "16\n"
     ]
    },
    {
     "name": "stderr",
     "output_type": "stream",
     "text": [
      "Info: Params [ 0.56037776 15.         12.48377953  3.25901961  0.10774192  0.11626175] gave -1643.7730676299293\n"
     ]
    },
    {
     "name": "stdout",
     "output_type": "stream",
     "text": [
      "17\n"
     ]
    },
    {
     "name": "stderr",
     "output_type": "stream",
     "text": [
      "Info: Params [0.73379948 8.31744761 4.86808459 1.25789589 0.10181828 0.15207353] gave 470.7141117507307\n"
     ]
    },
    {
     "name": "stdout",
     "output_type": "stream",
     "text": [
      "18\n"
     ]
    },
    {
     "name": "stderr",
     "output_type": "stream",
     "text": [
      "Info: Params [ 2.8438745   8.7411318  10.44556397  5.00803862  0.27463502  0.31151937] gave -2726.0412546248376\n"
     ]
    },
    {
     "name": "stdout",
     "output_type": "stream",
     "text": [
      "19\n"
     ]
    },
    {
     "name": "stderr",
     "output_type": "stream",
     "text": [
      "Info: Params [ 0.50260853 14.63978616 12.2089118   5.96526189  0.10759985  0.10151005] gave -1441.2189619656374\n"
     ]
    },
    {
     "name": "stdout",
     "output_type": "stream",
     "text": [
      "20\n"
     ]
    },
    {
     "name": "stderr",
     "output_type": "stream",
     "text": [
      "Info: Params [ 0.12863329 10.15166395  7.96148856  0.88867902  0.14864732  0.14729444] gave -653.2534767386646\n"
     ]
    },
    {
     "name": "stdout",
     "output_type": "stream",
     "text": [
      "21\n"
     ]
    },
    {
     "name": "stderr",
     "output_type": "stream",
     "text": [
      "Info: Params [0.47351191 8.0953592  5.80824353 2.00990352 0.10373514 0.11882071] gave 683.1115818529735\n"
     ]
    },
    {
     "name": "stdout",
     "output_type": "stream",
     "text": [
      "22\n"
     ]
    },
    {
     "name": "stderr",
     "output_type": "stream",
     "text": [
      "Info: Params [0.14521187 9.50404334 3.97657142 0.53544294 0.16999689 0.17893272] gave -800.2278898951176\n"
     ]
    },
    {
     "name": "stdout",
     "output_type": "stream",
     "text": [
      "23\n"
     ]
    },
    {
     "name": "stderr",
     "output_type": "stream",
     "text": [
      "Info: Params [ 0.26847396 11.30630205  8.11127853  2.63093947  0.10888224  0.12381804] gave -91.40599799636512\n"
     ]
    },
    {
     "name": "stdout",
     "output_type": "stream",
     "text": [
      "24\n"
     ]
    },
    {
     "name": "stderr",
     "output_type": "stream",
     "text": [
      "Info: Params [0.72017109 8.51822107 2.56096117 1.02144929 0.10989034 0.18932804] gave 479.6717182540881\n"
     ]
    },
    {
     "name": "stdout",
     "output_type": "stream",
     "text": [
      "25\n"
     ]
    },
    {
     "name": "stderr",
     "output_type": "stream",
     "text": [
      "Info: Params [ 0.7040082  14.97148058 10.06946474  2.01073703  0.16688264  0.13712837] gave -780.948579099653\n"
     ]
    },
    {
     "name": "stdout",
     "output_type": "stream",
     "text": [
      "26\n"
     ]
    },
    {
     "name": "stderr",
     "output_type": "stream",
     "text": [
      "Info: Params [ 1.41940099 13.85240157  6.24836297  1.38683184  0.17193967  0.19618586] gave -772.8448856908815\n"
     ]
    },
    {
     "name": "stdout",
     "output_type": "stream",
     "text": [
      "27\n"
     ]
    },
    {
     "name": "stderr",
     "output_type": "stream",
     "text": [
      "Info: Params [ 0.06504173 15.         14.8589893   3.66317963  0.1325609   0.156337  ] gave -1112.6859650233955\n"
     ]
    },
    {
     "name": "stdout",
     "output_type": "stream",
     "text": [
      "28\n"
     ]
    },
    {
     "name": "stderr",
     "output_type": "stream",
     "text": [
      "Info: Params [0.42349602 9.85508546 7.48791238 1.61369752 0.10843374 0.15590527] gave -44.9782010610349\n"
     ]
    },
    {
     "name": "stdout",
     "output_type": "stream",
     "text": [
      "29\n"
     ]
    },
    {
     "name": "stderr",
     "output_type": "stream",
     "text": [
      "Info: Params [0.11024451 8.77695809 6.97902303 1.78386926 0.10144312 0.10626969] gave 221.73546574705875\n"
     ]
    },
    {
     "name": "stdout",
     "output_type": "stream",
     "text": [
      "30\n"
     ]
    },
    {
     "name": "stderr",
     "output_type": "stream",
     "text": [
      "Info: Params [0.1574081  8.27784673 7.87708779 0.82183482 0.15057921 0.15707772] gave -152.1562561164863\n"
     ]
    },
    {
     "name": "stdout",
     "output_type": "stream",
     "text": [
      "31\n"
     ]
    },
    {
     "name": "stderr",
     "output_type": "stream",
     "text": [
      "Info: Params [0.32323343 8.21169643 6.31131439 0.742778   0.16453518 0.16626886] gave -48.15528295376097\n"
     ]
    },
    {
     "name": "stdout",
     "output_type": "stream",
     "text": [
      "32\n"
     ]
    },
    {
     "name": "stderr",
     "output_type": "stream",
     "text": [
      "Info: Params [0.10998626 8.80290523 7.00178403 1.79148086 0.10613766 0.10058045] gave 221.75458654767425\n"
     ]
    },
    {
     "name": "stdout",
     "output_type": "stream",
     "text": [
      "33\n"
     ]
    },
    {
     "name": "stderr",
     "output_type": "stream",
     "text": [
      "Info: Params [ 0.35190697 10.03405289  3.9192179   1.95459711  0.10477117  0.12539422] gave 523.1774695804291\n"
     ]
    },
    {
     "name": "stdout",
     "output_type": "stream",
     "text": [
      "           1    2    3    4    5    6    7    8    9    10  ...   25   26  \\\n",
      "Speed     1.0  1.0  1.0  1.0  1.0  1.0  1.0  1.0  1.0  1.0  ...  1.0  1.0   \n",
      "Accuracy  1.0  1.0  1.0  1.0  1.0  1.0  1.0  1.0  1.0  1.0  ...  1.0  1.0   \n",
      "\n",
      "           27   28   29   30   31   32   33   34  \n",
      "Speed     1.0  1.0  1.0  1.0  1.0  1.0  1.0  1.0  \n",
      "Accuracy  1.0  1.0  1.0  1.0  1.0  1.0  1.0  1.0  \n",
      "\n",
      "[2 rows x 34 columns]\n"
     ]
    }
   ],
   "source": [
    "data_dir = \"/Users/wangjiashun/Desktop/Research_on_SAT/datasets/transformed/Rae2014/sub\"\n",
    "sample_size = 34\n",
    "\n",
    "df_all = pd.DataFrame()\n",
    "valid_ratio_dfs = pd.DataFrame()\n",
    "\n",
    "for i in range(sample_size):\n",
    "    print(i)\n",
    "    path = os.path.join(data_dir+str(i+1)+\".csv\")\n",
    "    df = pd.read_csv(path, sep = \",\")\n",
    "    \n",
    "    counts_before = df['Cond'].value_counts()\n",
    "    df = df[df[\"Time\"]<5]\n",
    "    counts_after = df['Cond'].value_counts()\n",
    "    valid_ratio = counts_before/counts_after\n",
    "    valid_ratio_df = valid_ratio.to_frame(i+1)\n",
    "    valid_ratio_dfs = pd.concat((valid_ratio_dfs,valid_ratio_df), axis = 1)\n",
    "    \n",
    "    samp = Sample.from_pandas_dataframe(df, rt_column_name=\"Time\", choice_column_name=\"Correct\")\n",
    "    df = get_OUM_result_sub_2k2ter(samp)\n",
    "    df_all = pd.concat((df_all,df))\n",
    "    \n",
    "df_OUM = df_all.copy()\n",
    "df_OUM.to_csv(\"Parameter Estimates/OUM2k2terresultRae2014.csv\")\n",
    "print(valid_ratio_dfs)"
   ]
  },
  {
   "cell_type": "code",
   "execution_count": 8,
   "id": "3284c710",
   "metadata": {},
   "outputs": [
    {
     "name": "stdout",
     "output_type": "stream",
     "text": [
      "1\n"
     ]
    },
    {
     "name": "stderr",
     "output_type": "stream",
     "text": [
      "Info: Params [ 3.39830824 -1.86253803  2.76602591  0.50539875  0.3599443   0.38704782] gave -266.32050110981083\n"
     ]
    },
    {
     "name": "stdout",
     "output_type": "stream",
     "text": [
      "1\n"
     ]
    },
    {
     "name": "stderr",
     "output_type": "stream",
     "text": [
      "Info: Params [ 2.44119998 10.1746877   5.01775961  0.9098261   0.35185203  0.3586401 ] gave -143.41981597920864\n"
     ]
    },
    {
     "name": "stdout",
     "output_type": "stream",
     "text": [
      "1\n"
     ]
    },
    {
     "name": "stderr",
     "output_type": "stream",
     "text": [
      "Info: Params [1.34544125 4.88144919 4.2329968  0.65164385 0.3410545  0.3844894 ] gave -17.391462515473073\n"
     ]
    },
    {
     "name": "stdout",
     "output_type": "stream",
     "text": [
      "1\n"
     ]
    },
    {
     "name": "stderr",
     "output_type": "stream",
     "text": [
      "Info: Params [ 2.58760995 -0.15512167  2.74217618  0.50497658  0.34551449  0.39953254] gave -170.9201383313717\n"
     ]
    },
    {
     "name": "stdout",
     "output_type": "stream",
     "text": [
      "1\n"
     ]
    },
    {
     "name": "stderr",
     "output_type": "stream",
     "text": [
      "Info: Params [3.24333591 7.29354056 7.58726207 1.63318962 0.28152391 0.31976813] gave -181.69581984074307\n"
     ]
    },
    {
     "name": "stdout",
     "output_type": "stream",
     "text": [
      "1\n"
     ]
    },
    {
     "name": "stderr",
     "output_type": "stream",
     "text": [
      "Info: Params [3.32731802 6.80455695 5.40599342 1.00848554 0.31773218 0.33805537] gave -226.10055836003917\n"
     ]
    },
    {
     "name": "stdout",
     "output_type": "stream",
     "text": [
      "3\n"
     ]
    },
    {
     "name": "stderr",
     "output_type": "stream",
     "text": [
      "Info: Params [3.10334523 8.70829713 3.96061852 1.05928826 0.30995831 0.39577205] gave -195.27279345530573\n"
     ]
    },
    {
     "name": "stdout",
     "output_type": "stream",
     "text": [
      "3\n"
     ]
    },
    {
     "name": "stderr",
     "output_type": "stream",
     "text": [
      "Info: Params [1.89349752 7.24583364 0.88401002 0.83295264 0.31172316 0.37311864] gave -40.12226801118587\n"
     ]
    },
    {
     "name": "stdout",
     "output_type": "stream",
     "text": [
      "3\n"
     ]
    },
    {
     "name": "stderr",
     "output_type": "stream",
     "text": [
      "Info: Params [1.67775337 6.79467244 3.12309558 1.06810399 0.28751311 0.39788245] gave 13.594343746445329\n"
     ]
    },
    {
     "name": "stdout",
     "output_type": "stream",
     "text": [
      "3\n"
     ]
    },
    {
     "name": "stderr",
     "output_type": "stream",
     "text": [
      "Info: Params [2.15945494 7.75971511 2.59186201 2.88447079 0.20583675 0.10135827] gave -17.165770531069967\n"
     ]
    },
    {
     "name": "stdout",
     "output_type": "stream",
     "text": [
      "3\n"
     ]
    },
    {
     "name": "stderr",
     "output_type": "stream",
     "text": [
      "Info: Params [2.37610935 7.33798305 2.3516026  2.10528904 0.21437512 0.22037233] gave -45.12004470859381\n"
     ]
    },
    {
     "name": "stdout",
     "output_type": "stream",
     "text": [
      "3\n"
     ]
    },
    {
     "name": "stderr",
     "output_type": "stream",
     "text": [
      "Info: Params [2.47443574 5.82680457 0.01217543 1.01256508 0.30465843 0.34426151] gave -69.67782281566922\n"
     ]
    },
    {
     "name": "stdout",
     "output_type": "stream",
     "text": [
      "4\n"
     ]
    },
    {
     "name": "stderr",
     "output_type": "stream",
     "text": [
      "Info: Params [ 3.85829566 15.          4.46947748  1.05574171  0.30265909  0.30450148] gave -308.6299376517763\n"
     ]
    },
    {
     "name": "stdout",
     "output_type": "stream",
     "text": [
      "4\n"
     ]
    },
    {
     "name": "stderr",
     "output_type": "stream",
     "text": [
      "Info: Params [ 2.96561473 11.60864061  2.26943656  0.73724226  0.32894449  0.35347237] gave -226.37487213643016\n"
     ]
    },
    {
     "name": "stdout",
     "output_type": "stream",
     "text": [
      "4\n"
     ]
    },
    {
     "name": "stderr",
     "output_type": "stream",
     "text": [
      "Info: Params [ 1.94133979  6.50161369 -2.54531884  0.5175288   0.33703327  0.36343188] gave -92.92919937960926\n"
     ]
    },
    {
     "name": "stdout",
     "output_type": "stream",
     "text": [
      "4\n"
     ]
    },
    {
     "name": "stderr",
     "output_type": "stream",
     "text": [
      "Info: Params [ 3.43391051 14.17479067  3.70778559  1.66890769  0.30305996  0.26260183] gave -238.13400992737135\n"
     ]
    },
    {
     "name": "stdout",
     "output_type": "stream",
     "text": [
      "4\n"
     ]
    },
    {
     "name": "stderr",
     "output_type": "stream",
     "text": [
      "Info: Params [ 3.00790205  5.87842707 -5.68450591  0.50382221  0.33745607  0.3653496 ] gave -206.052750182635\n"
     ]
    },
    {
     "name": "stdout",
     "output_type": "stream",
     "text": [
      "4\n"
     ]
    },
    {
     "name": "stderr",
     "output_type": "stream",
     "text": [
      "Info: Params [ 2.62217898 12.28479696  4.25112148  0.87305837  0.30484241  0.33283133] gave -193.0013159326365\n"
     ]
    },
    {
     "name": "stdout",
     "output_type": "stream",
     "text": [
      "5\n"
     ]
    },
    {
     "name": "stderr",
     "output_type": "stream",
     "text": [
      "Info: Params [ 4.548836   14.70716127 -1.66894701  0.97177125  0.31150296  0.34459366] gave -299.7038110249788\n"
     ]
    },
    {
     "name": "stdout",
     "output_type": "stream",
     "text": [
      "5\n"
     ]
    },
    {
     "name": "stderr",
     "output_type": "stream",
     "text": [
      "Info: Params [ 3.29770335 13.81199979  8.17698977  2.29493049  0.28148132  0.36692489] gave -224.6543201739619\n"
     ]
    },
    {
     "name": "stdout",
     "output_type": "stream",
     "text": [
      "5\n"
     ]
    },
    {
     "name": "stderr",
     "output_type": "stream",
     "text": [
      "Info: Params [ 2.8812779  10.92337471  6.12510214  1.27460533  0.31547949  0.41476702] gave -190.08556175685433\n"
     ]
    },
    {
     "name": "stdout",
     "output_type": "stream",
     "text": [
      "5\n"
     ]
    },
    {
     "name": "stderr",
     "output_type": "stream",
     "text": [
      "Info: Params [3.7650427  8.9164783  3.15332341 1.10707938 0.32085402 0.40379107] gave -268.30977602574586\n"
     ]
    },
    {
     "name": "stdout",
     "output_type": "stream",
     "text": [
      "5\n"
     ]
    },
    {
     "name": "stderr",
     "output_type": "stream",
     "text": [
      "Info: Params [ 3.08334772 15.          4.1463641   1.03433368  0.34052406  0.45940479] gave -218.60958136672593\n"
     ]
    },
    {
     "name": "stdout",
     "output_type": "stream",
     "text": [
      "5\n"
     ]
    },
    {
     "name": "stderr",
     "output_type": "stream",
     "text": [
      "Info: Params [ 3.02634252 13.64739137  5.63869506  1.62235403  0.29781477  0.37593351] gave -212.75331908893443\n"
     ]
    },
    {
     "name": "stdout",
     "output_type": "stream",
     "text": [
      "6\n"
     ]
    },
    {
     "name": "stderr",
     "output_type": "stream",
     "text": [
      "Info: Params [ 2.92720773 14.63599947  8.27836802  3.51745051  0.21066257  0.2439458 ] gave -198.19325744798394\n"
     ]
    },
    {
     "name": "stdout",
     "output_type": "stream",
     "text": [
      "6\n"
     ]
    },
    {
     "name": "stderr",
     "output_type": "stream",
     "text": [
      "Info: Params [ 2.12300042 12.46707707  6.69430896  4.89318808  0.15621418  0.20745254] gave -88.02498576163485\n"
     ]
    },
    {
     "name": "stdout",
     "output_type": "stream",
     "text": [
      "6\n"
     ]
    },
    {
     "name": "stderr",
     "output_type": "stream",
     "text": [
      "Info: Params [1.11277721 7.27578488 5.11882241 1.01686391 0.20074328 0.38021904] gave 25.95070257791437\n"
     ]
    },
    {
     "name": "stdout",
     "output_type": "stream",
     "text": [
      "6\n"
     ]
    },
    {
     "name": "stderr",
     "output_type": "stream",
     "text": [
      "Info: Params [ 1.99660189 10.97784273  5.00189472  5.92778275  0.11763544  0.10213522] gave -37.97399272502574\n"
     ]
    },
    {
     "name": "stdout",
     "output_type": "stream",
     "text": [
      "6\n"
     ]
    },
    {
     "name": "stderr",
     "output_type": "stream",
     "text": [
      "Info: Params [1.75580497 7.66595195 3.48925123 0.85379006 0.26427973 0.3728802 ] gave -39.42284798653434\n"
     ]
    },
    {
     "name": "stdout",
     "output_type": "stream",
     "text": [
      "6\n"
     ]
    },
    {
     "name": "stderr",
     "output_type": "stream",
     "text": [
      "Info: Params [1.70320434 6.38685408 5.17121622 1.35694693 0.16787223 0.30486779] gave -22.06536368650476\n"
     ]
    },
    {
     "name": "stdout",
     "output_type": "stream",
     "text": [
      "7\n"
     ]
    },
    {
     "name": "stderr",
     "output_type": "stream",
     "text": [
      "Info: Params [1.13900312 8.66808245 7.3140394  2.6397013  0.10542425 0.16847891] gave -3.766570372851291\n"
     ]
    },
    {
     "name": "stdout",
     "output_type": "stream",
     "text": [
      "7\n"
     ]
    },
    {
     "name": "stderr",
     "output_type": "stream",
     "text": [
      "Info: Params [0.73784734 8.37790388 5.53238438 0.86762762 0.22709209 0.30511037] gave 19.394002832399252\n"
     ]
    },
    {
     "name": "stdout",
     "output_type": "stream",
     "text": [
      "7\n"
     ]
    },
    {
     "name": "stderr",
     "output_type": "stream",
     "text": [
      "Info: Params [ 0.18705652 10.78185158  6.39361407  4.45795623  0.10065794  0.10308696] gave 73.18350155541852\n"
     ]
    },
    {
     "name": "stdout",
     "output_type": "stream",
     "text": [
      "7\n"
     ]
    },
    {
     "name": "stderr",
     "output_type": "stream",
     "text": [
      "Info: Params [1.75581727 8.34918242 3.53160406 1.28385233 0.20581652 0.25259896] gave -17.918886304812624\n"
     ]
    },
    {
     "name": "stdout",
     "output_type": "stream",
     "text": [
      "7\n"
     ]
    },
    {
     "name": "stderr",
     "output_type": "stream",
     "text": [
      "Info: Params [1.86007088 8.59561851 5.2368604  1.30472255 0.20094064 0.29124565] gave -47.793635427459215\n"
     ]
    },
    {
     "name": "stdout",
     "output_type": "stream",
     "text": [
      "7\n"
     ]
    },
    {
     "name": "stderr",
     "output_type": "stream",
     "text": [
      "Info: Params [1.95649139 7.27200669 3.93633155 0.94101765 0.23648857 0.3175676 ] gave -63.999923548592946\n"
     ]
    },
    {
     "name": "stdout",
     "output_type": "stream",
     "text": [
      "8\n"
     ]
    },
    {
     "name": "stderr",
     "output_type": "stream",
     "text": [
      "Info: Params [1.5708794  6.21620168 2.16236863 1.54161755 0.13909363 0.27608171] gave 82.70444485983052\n"
     ]
    },
    {
     "name": "stdout",
     "output_type": "stream",
     "text": [
      "8\n"
     ]
    },
    {
     "name": "stderr",
     "output_type": "stream",
     "text": [
      "Info: Params [0.66982215 6.45056591 2.21334194 1.80369427 0.10288152 0.24512013] gave 212.49267958533048\n"
     ]
    },
    {
     "name": "stdout",
     "output_type": "stream",
     "text": [
      "8\n"
     ]
    },
    {
     "name": "stderr",
     "output_type": "stream",
     "text": [
      "Info: Params [0.27108626 6.52943138 2.44008192 2.20560614 0.10068134 0.13186701] gave 254.8461609652306\n"
     ]
    },
    {
     "name": "stdout",
     "output_type": "stream",
     "text": [
      "8\n"
     ]
    },
    {
     "name": "stderr",
     "output_type": "stream",
     "text": [
      "Info: Params [0.92823871 6.07786563 1.29414021 1.5568104  0.13220354 0.18896964] gave 231.72583871927404\n"
     ]
    },
    {
     "name": "stdout",
     "output_type": "stream",
     "text": [
      "8\n"
     ]
    },
    {
     "name": "stderr",
     "output_type": "stream",
     "text": [
      "Info: Params [1.10127806 6.91731007 1.67894934 2.12279129 0.1119915  0.10342115] gave 174.44150516107064\n"
     ]
    },
    {
     "name": "stdout",
     "output_type": "stream",
     "text": [
      "8\n"
     ]
    },
    {
     "name": "stderr",
     "output_type": "stream",
     "text": [
      "Info: Params [1.04677909 6.86315783 1.36949296 1.74653022 0.15036208 0.10564405] gave 205.14165075949617\n"
     ]
    },
    {
     "name": "stdout",
     "output_type": "stream",
     "text": [
      "9\n"
     ]
    },
    {
     "name": "stderr",
     "output_type": "stream",
     "text": [
      "Info: Params [ 3.19946615 13.65348871  4.11175409  1.37400586  0.34158334  0.3541401 ] gave -253.22444180606303\n"
     ]
    },
    {
     "name": "stdout",
     "output_type": "stream",
     "text": [
      "9\n"
     ]
    },
    {
     "name": "stderr",
     "output_type": "stream",
     "text": [
      "Info: Params [ 1.9331528  14.41021983  2.32622795  1.49910262  0.34851917  0.30225823] gave -31.5845266803229\n"
     ]
    },
    {
     "name": "stdout",
     "output_type": "stream",
     "text": [
      "9\n"
     ]
    },
    {
     "name": "stderr",
     "output_type": "stream",
     "text": [
      "Info: Params [ 1.25389592 12.80806613  2.42155475  1.04064859  0.37384094  0.37359732] gave 31.33600765752466\n"
     ]
    },
    {
     "name": "stdout",
     "output_type": "stream",
     "text": [
      "9\n"
     ]
    },
    {
     "name": "stderr",
     "output_type": "stream",
     "text": [
      "Info: Params [ 2.83780156  1.52414211 -9.39267377  0.5096649   0.38332132  0.4550937 ] gave -118.9003184781681\n"
     ]
    },
    {
     "name": "stdout",
     "output_type": "stream",
     "text": [
      "9\n"
     ]
    },
    {
     "name": "stderr",
     "output_type": "stream",
     "text": [
      "Info: Params [ 2.30268193 11.70019127  3.52621567  3.06420108  0.28320193  0.17994244] gave -72.54448379539423\n"
     ]
    },
    {
     "name": "stdout",
     "output_type": "stream",
     "text": [
      "9\n"
     ]
    },
    {
     "name": "stderr",
     "output_type": "stream",
     "text": [
      "Info: Params [  3.19883448   5.85605477 -10.81663785   0.50321212   0.40858572\n",
      "   0.4477091 ] gave -165.14386127944852\n"
     ]
    },
    {
     "name": "stdout",
     "output_type": "stream",
     "text": [
      "10\n"
     ]
    },
    {
     "name": "stderr",
     "output_type": "stream",
     "text": [
      "Info: Params [3.31184694 7.08083278 3.45441024 0.69202571 0.2928461  0.36035627] gave -539.6747691664528\n"
     ]
    },
    {
     "name": "stdout",
     "output_type": "stream",
     "text": [
      "10\n"
     ]
    },
    {
     "name": "stderr",
     "output_type": "stream",
     "text": [
      "Info: Params [2.01800311 8.15346056 3.46884357 0.96687386 0.27442998 0.33480396] gave -223.63377573767895\n"
     ]
    },
    {
     "name": "stdout",
     "output_type": "stream",
     "text": [
      "10\n"
     ]
    },
    {
     "name": "stderr",
     "output_type": "stream",
     "text": [
      "Info: Params [1.324064   7.88694984 4.13911635 0.76732305 0.27160524 0.37205176] gave -52.60518712790521\n"
     ]
    },
    {
     "name": "stdout",
     "output_type": "stream",
     "text": [
      "10\n"
     ]
    },
    {
     "name": "stderr",
     "output_type": "stream",
     "text": [
      "Info: Params [ 2.35943361  4.39881793 -0.53826061  0.66377806  0.27005163  0.36822031] gave -224.96089520529753\n"
     ]
    },
    {
     "name": "stdout",
     "output_type": "stream",
     "text": [
      "10\n"
     ]
    },
    {
     "name": "stderr",
     "output_type": "stream",
     "text": [
      "Info: Params [2.5139332  8.62992041 2.95652304 1.47204599 0.23947363 0.28772019] gave -243.05262840674635\n"
     ]
    },
    {
     "name": "stdout",
     "output_type": "stream",
     "text": [
      "10\n"
     ]
    },
    {
     "name": "stderr",
     "output_type": "stream",
     "text": [
      "Info: Params [2.66503984 5.21254339 0.99350373 0.79978413 0.26584264 0.3547545 ] gave -295.8009112027085\n"
     ]
    },
    {
     "name": "stdout",
     "output_type": "stream",
     "text": [
      "11\n"
     ]
    },
    {
     "name": "stderr",
     "output_type": "stream",
     "text": [
      "Info: Params [ 3.91636144 11.80016901  5.88870221  0.87445141  0.330123    0.36614464] gave -648.7168390169011\n"
     ]
    },
    {
     "name": "stdout",
     "output_type": "stream",
     "text": [
      "11\n"
     ]
    },
    {
     "name": "stderr",
     "output_type": "stream",
     "text": [
      "Info: Params [1.8313736  9.75941942 6.28529313 0.79904448 0.33804485 0.3923627 ] gave -241.55325742445928\n"
     ]
    },
    {
     "name": "stdout",
     "output_type": "stream",
     "text": [
      "11\n"
     ]
    },
    {
     "name": "stderr",
     "output_type": "stream",
     "text": [
      "Info: Params [ 1.29423969 11.92048854  5.11944511  1.03422327  0.31532459  0.35906104] gave -79.30422250990847\n"
     ]
    },
    {
     "name": "stdout",
     "output_type": "stream",
     "text": [
      "11\n"
     ]
    },
    {
     "name": "stderr",
     "output_type": "stream",
     "text": [
      "Info: Params [ 2.03609851 10.53135206  4.50186271  1.13939019  0.32032787  0.34569799] gave -198.29595513294902\n"
     ]
    },
    {
     "name": "stdout",
     "output_type": "stream",
     "text": [
      "11\n"
     ]
    },
    {
     "name": "stderr",
     "output_type": "stream",
     "text": [
      "Info: Params [2.50956789 8.93351318 2.3831708  0.82602296 0.33077214 0.3957837 ] gave -313.65432656893677\n"
     ]
    },
    {
     "name": "stdout",
     "output_type": "stream",
     "text": [
      "11\n"
     ]
    },
    {
     "name": "stderr",
     "output_type": "stream",
     "text": [
      "Info: Params [2.43784743 7.08403614 0.33630059 0.65313706 0.35816539 0.39377236] gave -293.3715463461807\n"
     ]
    },
    {
     "name": "stdout",
     "output_type": "stream",
     "text": [
      "12\n"
     ]
    },
    {
     "name": "stderr",
     "output_type": "stream",
     "text": [
      "Info: Params [2.32761003 5.81253241 4.219703   1.37969962 0.21209503 0.26739952] gave -207.45893311550304\n"
     ]
    },
    {
     "name": "stdout",
     "output_type": "stream",
     "text": [
      "12\n"
     ]
    },
    {
     "name": "stderr",
     "output_type": "stream",
     "text": [
      "Info: Params [1.30958481 7.73439323 2.67934451 0.94794317 0.30195176 0.33610958] gave 41.2704412082065\n"
     ]
    },
    {
     "name": "stdout",
     "output_type": "stream",
     "text": [
      "12\n"
     ]
    },
    {
     "name": "stderr",
     "output_type": "stream",
     "text": [
      "Info: Params [0.70104159 7.54269572 2.27843917 0.92147227 0.27462432 0.30346558] gave 209.96310120833868\n"
     ]
    },
    {
     "name": "stdout",
     "output_type": "stream",
     "text": [
      "12\n"
     ]
    },
    {
     "name": "stderr",
     "output_type": "stream",
     "text": [
      "Info: Params [1.57930955 4.60791984 3.23846189 1.63070086 0.17602264 0.21245367] gave 115.80232954298287\n"
     ]
    },
    {
     "name": "stdout",
     "output_type": "stream",
     "text": [
      "12\n"
     ]
    },
    {
     "name": "stderr",
     "output_type": "stream",
     "text": [
      "Info: Params [1.64263872 7.40127786 3.36687686 2.88450531 0.16855265 0.10879385] gave 53.0589049569533\n"
     ]
    },
    {
     "name": "stdout",
     "output_type": "stream",
     "text": [
      "12\n"
     ]
    },
    {
     "name": "stderr",
     "output_type": "stream",
     "text": [
      "Info: Params [1.67295032 6.67387898 2.89500178 2.03462079 0.21696634 0.15931869] gave 64.43470972233324\n"
     ]
    },
    {
     "name": "stdout",
     "output_type": "stream",
     "text": [
      "13\n"
     ]
    },
    {
     "name": "stderr",
     "output_type": "stream",
     "text": [
      "Info: Params [1.91654815 6.56927709 0.41860662 0.83914093 0.31453926 0.34414697] gave -99.2419570753818\n"
     ]
    },
    {
     "name": "stdout",
     "output_type": "stream",
     "text": [
      "13\n"
     ]
    },
    {
     "name": "stderr",
     "output_type": "stream",
     "text": [
      "Info: Params [1.57635081 7.14843896 1.66853877 0.87582701 0.33831803 0.39437021] gave -2.609242679256475\n"
     ]
    },
    {
     "name": "stdout",
     "output_type": "stream",
     "text": [
      "13\n"
     ]
    },
    {
     "name": "stderr",
     "output_type": "stream",
     "text": [
      "Info: Params [0.7196895  7.55770665 2.52898251 1.08054401 0.31008209 0.32420166] gave 237.7797945996674\n"
     ]
    },
    {
     "name": "stdout",
     "output_type": "stream",
     "text": [
      "13\n"
     ]
    },
    {
     "name": "stderr",
     "output_type": "stream",
     "text": [
      "Info: Params [1.56248719 6.97398651 1.45973286 1.06475901 0.31669063 0.33035327] gave 66.87839215891805\n"
     ]
    },
    {
     "name": "stdout",
     "output_type": "stream",
     "text": [
      "13\n"
     ]
    },
    {
     "name": "stderr",
     "output_type": "stream",
     "text": [
      "Info: Params [1.68614625 5.93247959 1.24223785 0.98669766 0.31118586 0.37157294] gave 31.474458310521136\n"
     ]
    },
    {
     "name": "stdout",
     "output_type": "stream",
     "text": [
      "13\n"
     ]
    },
    {
     "name": "stderr",
     "output_type": "stream",
     "text": [
      "Info: Params [1.487699   2.63099799 1.96041213 0.97243421 0.26352752 0.34771084] gave 96.2518266067564\n"
     ]
    },
    {
     "name": "stdout",
     "output_type": "stream",
     "text": [
      "14\n"
     ]
    },
    {
     "name": "stderr",
     "output_type": "stream",
     "text": [
      "Info: Params [ 3.15135899  1.2143735  -6.77263956  0.64185697  0.28418893  0.3538951 ] gave -305.29775819974293\n"
     ]
    },
    {
     "name": "stdout",
     "output_type": "stream",
     "text": [
      "14\n"
     ]
    },
    {
     "name": "stderr",
     "output_type": "stream",
     "text": [
      "Info: Params [1.8861539  7.54820243 2.35570539 1.224444   0.28070489 0.33950102] gave -34.48575345866392\n"
     ]
    },
    {
     "name": "stdout",
     "output_type": "stream",
     "text": [
      "14\n"
     ]
    },
    {
     "name": "stderr",
     "output_type": "stream",
     "text": [
      "Info: Params [1.36893199 8.32689633 2.39434302 1.80682991 0.26633389 0.21549487] gave 150.57813481601272\n"
     ]
    },
    {
     "name": "stdout",
     "output_type": "stream",
     "text": [
      "14\n"
     ]
    },
    {
     "name": "stderr",
     "output_type": "stream",
     "text": [
      "Info: Params [2.05092454 3.73255614 0.84549546 1.04396358 0.32066917 0.41945904] gave -101.41629160418896\n"
     ]
    },
    {
     "name": "stdout",
     "output_type": "stream",
     "text": [
      "14\n"
     ]
    },
    {
     "name": "stderr",
     "output_type": "stream",
     "text": [
      "Info: Params [1.53437837 7.29191806 1.2169297  2.06041326 0.2452363  0.12271609] gave 172.4659076219819\n"
     ]
    },
    {
     "name": "stdout",
     "output_type": "stream",
     "text": [
      "14\n"
     ]
    },
    {
     "name": "stderr",
     "output_type": "stream",
     "text": [
      "Info: Params [ 2.09007343  3.4549933  -5.95204727  0.65936366  0.34916828  0.46510814] gave 24.49615767856291\n"
     ]
    },
    {
     "name": "stdout",
     "output_type": "stream",
     "text": [
      "15\n"
     ]
    },
    {
     "name": "stderr",
     "output_type": "stream",
     "text": [
      "Info: Params [2.41088956 7.98544045 0.80006717 1.01807847 0.31592783 0.36679048] gave -208.39127990677454\n"
     ]
    },
    {
     "name": "stdout",
     "output_type": "stream",
     "text": [
      "15\n"
     ]
    },
    {
     "name": "stderr",
     "output_type": "stream",
     "text": [
      "Info: Params [1.99862809 7.81530705 2.66373481 1.81486747 0.26723309 0.31002002] gave -55.54641628359442\n"
     ]
    },
    {
     "name": "stdout",
     "output_type": "stream",
     "text": [
      "15\n"
     ]
    },
    {
     "name": "stderr",
     "output_type": "stream",
     "text": [
      "Info: Params [ 1.11626846 10.13878413  2.4281096   1.42843868  0.30988835  0.3537079 ] gave 130.12681404229187\n"
     ]
    },
    {
     "name": "stdout",
     "output_type": "stream",
     "text": [
      "15\n"
     ]
    },
    {
     "name": "stderr",
     "output_type": "stream",
     "text": [
      "Info: Params [2.04608925 8.46246412 0.86342566 1.03210207 0.3397866  0.43526378] gave -121.0587535484135\n"
     ]
    },
    {
     "name": "stdout",
     "output_type": "stream",
     "text": [
      "15\n"
     ]
    },
    {
     "name": "stderr",
     "output_type": "stream",
     "text": [
      "Info: Params [1.80924499 8.03736457 1.53029395 1.36208152 0.29492223 0.35018235] gave -7.717430433847653\n"
     ]
    },
    {
     "name": "stdout",
     "output_type": "stream",
     "text": [
      "15\n"
     ]
    },
    {
     "name": "stderr",
     "output_type": "stream",
     "text": [
      "Info: Params [2.18357392 7.93572539 1.27053111 1.01808407 0.33162052 0.42143551] gave -149.3844549473028\n"
     ]
    },
    {
     "name": "stdout",
     "output_type": "stream",
     "text": [
      "16\n"
     ]
    },
    {
     "name": "stderr",
     "output_type": "stream",
     "text": [
      "Info: Params [1.91073892 6.98445734 3.13400161 1.11351643 0.24283982 0.33551474] gave -131.38925530505912\n"
     ]
    },
    {
     "name": "stdout",
     "output_type": "stream",
     "text": [
      "16\n"
     ]
    },
    {
     "name": "stderr",
     "output_type": "stream",
     "text": [
      "Info: Params [1.48466868 4.17903757 2.10243504 0.94887442 0.22695394 0.39263928] gave 104.08458777761165\n"
     ]
    },
    {
     "name": "stdout",
     "output_type": "stream",
     "text": [
      "16\n"
     ]
    },
    {
     "name": "stderr",
     "output_type": "stream",
     "text": [
      "Info: Params [0.98562145 4.83555103 2.76573437 1.23036202 0.1831268  0.34060655] gave 267.1571475255959\n"
     ]
    },
    {
     "name": "stdout",
     "output_type": "stream",
     "text": [
      "16\n"
     ]
    },
    {
     "name": "stderr",
     "output_type": "stream",
     "text": [
      "Info: Params [1.56603597 5.92663882 2.93084    1.32668824 0.21418106 0.35554575] gave 59.27057883365391\n"
     ]
    },
    {
     "name": "stdout",
     "output_type": "stream",
     "text": [
      "16\n"
     ]
    },
    {
     "name": "stderr",
     "output_type": "stream",
     "text": [
      "Info: Params [1.40097197 5.52175679 2.2223176  1.25090369 0.20042105 0.32813933] gave 155.2461206935525\n"
     ]
    },
    {
     "name": "stdout",
     "output_type": "stream",
     "text": [
      "16\n"
     ]
    },
    {
     "name": "stderr",
     "output_type": "stream",
     "text": [
      "Info: Params [1.47534637 4.012916   2.77140182 1.13878433 0.2063009  0.34416699] gave 147.3388440311033\n"
     ]
    },
    {
     "name": "stdout",
     "output_type": "stream",
     "text": [
      "17\n"
     ]
    },
    {
     "name": "stderr",
     "output_type": "stream",
     "text": [
      "Info: Params [3.05512488 5.07251283 1.56224315 1.2680727  0.2757508  0.34583003] gave -326.02958267909474\n"
     ]
    },
    {
     "name": "stdout",
     "output_type": "stream",
     "text": [
      "17\n"
     ]
    },
    {
     "name": "stderr",
     "output_type": "stream",
     "text": [
      "Info: Params [2.54069906 7.70102699 2.31304807 1.45356478 0.30229236 0.35377891] gave -220.7171510295219\n"
     ]
    },
    {
     "name": "stdout",
     "output_type": "stream",
     "text": [
      "17\n"
     ]
    },
    {
     "name": "stderr",
     "output_type": "stream",
     "text": [
      "Info: Params [1.87053219 7.07455727 3.18680104 1.3583323  0.28448744 0.38066188] gave -21.894564977889623\n"
     ]
    },
    {
     "name": "stdout",
     "output_type": "stream",
     "text": [
      "17\n"
     ]
    },
    {
     "name": "stderr",
     "output_type": "stream",
     "text": [
      "Info: Params [2.32773854 4.91977207 1.89605048 1.15564419 0.29777589 0.41090652] gave -146.94309800458765\n"
     ]
    },
    {
     "name": "stdout",
     "output_type": "stream",
     "text": [
      "17\n"
     ]
    },
    {
     "name": "stderr",
     "output_type": "stream",
     "text": [
      "Info: Params [2.32134284 5.86474841 2.31030579 1.27035294 0.30965672 0.3973031 ] gave -154.1908538923791\n"
     ]
    },
    {
     "name": "stdout",
     "output_type": "stream",
     "text": [
      "17\n"
     ]
    },
    {
     "name": "stderr",
     "output_type": "stream",
     "text": [
      "Info: Params [2.23698983 5.36459251 2.64541895 2.13151728 0.21576278 0.274927  ] gave -76.32262921916723\n"
     ]
    },
    {
     "name": "stdout",
     "output_type": "stream",
     "text": [
      "           2    2    2    2    2    2    4    4    4    4   ...   17   17  \\\n",
      "Accuracy  1.0  1.0  1.0  1.0  1.0  1.0  1.0  1.0  1.0  1.0  ...  1.0  1.0   \n",
      "Speed     1.0  1.0  1.0  1.0  1.0  1.0  1.0  1.0  1.0  1.0  ...  1.0  1.0   \n",
      "\n",
      "           17   17   18   18   18   18   18   18  \n",
      "Accuracy  1.0  1.0  1.0  1.0  1.0  1.0  1.0  1.0  \n",
      "Speed     1.0  1.0  1.0  1.0  1.0  1.0  1.0  1.0  \n",
      "\n",
      "[2 rows x 96 columns]\n"
     ]
    }
   ],
   "source": [
    "path = \"/Users/wangjiashun/Desktop/Research_on_SAT/datasets/transformed/Wagenmakers2008/SpeedAccData_new.csv\"\n",
    "participants = [1,  3,  4,  5,  6,  7,  8,  9, 10, 11, 12, 13, 14, 15, 16, 17]\n",
    "\n",
    "\n",
    "df_all = pd.DataFrame()\n",
    "valid_ratio_dfs = pd.DataFrame()\n",
    "\n",
    "for i in participants:\n",
    "    for freq in range(1,7):\n",
    "        print(i)\n",
    "        df = pd.read_csv(path, sep = \",\")\n",
    "        df = df[df[\"Participant\"]==i]\n",
    "        df = df[df[\"Frequency\"]==freq]\n",
    "\n",
    "        counts_before = df['Cond'].value_counts()\n",
    "        df = df[df[\"Time\"]<5]\n",
    "        counts_after = df['Cond'].value_counts()\n",
    "        valid_ratio = counts_before/counts_after\n",
    "        valid_ratio_df = valid_ratio.to_frame(i+1)\n",
    "        valid_ratio_dfs = pd.concat((valid_ratio_dfs,valid_ratio_df), axis = 1)\n",
    "\n",
    "        samp = Sample.from_pandas_dataframe(df, rt_column_name=\"Time\", choice_column_name=\"Correct\")\n",
    "        df = get_OUM_result_sub_2k2ter(samp)\n",
    "        df['Frequency'] = freq\n",
    "        df[\"Participant\"]=i\n",
    "        df_all = pd.concat((df_all,df))\n",
    "    \n",
    "df_OUM = df_all.copy()\n",
    "df_OUM.to_csv(\"Parameter Estimates/OUM2k2terresultWagenmakers2008.csv\")\n",
    "print(valid_ratio_dfs)"
   ]
  },
  {
   "cell_type": "code",
   "execution_count": 8,
   "id": "c5baddcf",
   "metadata": {},
   "outputs": [],
   "source": [
    "class LinearDriftFreqKSAT(Drift):\n",
    "    name = \"LinearDriftFreqKSAT\"\n",
    "    required_parameters = ['V1','V2','V3','V4','V5','V6' ,'KSpeed', \"KAcc\"]\n",
    "    required_conditions = ['Cond', 'Frequency']\n",
    "    def get_drift(self, x, t, conditions, **kwargs):\n",
    "        #print(conditions['Brightness'])\n",
    "        #print(conditions['Cond'])\n",
    "        if conditions['Cond'] == \"Speed\":\n",
    "            if conditions['Frequency'] == 1:\n",
    "                return self.V1 + x*self.KSpeed\n",
    "            elif conditions['Frequency'] == 2:\n",
    "                return self.V2 + x*self.KSpeed\n",
    "            elif conditions['Frequency'] == 3:\n",
    "                return self.V3 + x*self.KSpeed\n",
    "            elif conditions['Frequency'] == 4:\n",
    "                return self.V4 + x*self.KSpeed\n",
    "            elif conditions['Frequency'] == 5:\n",
    "                return self.V5 + x*self.KSpeed\n",
    "            elif conditions['Frequency'] == 6:\n",
    "                return self.V6 + x*self.KSpeed\n",
    "        elif conditions['Cond'] == \"Accuracy\":\n",
    "            if conditions['Frequency'] == 1:\n",
    "                return self.V1 + x*self.KAcc\n",
    "            elif conditions['Frequency'] == 2:\n",
    "                return self.V2 + x*self.KAcc\n",
    "            elif conditions['Frequency'] == 3:\n",
    "                return self.V3 + x*self.KAcc\n",
    "            elif conditions['Frequency'] == 4:\n",
    "                return self.V4 + x*self.KAcc\n",
    "            elif conditions['Frequency'] == 5:\n",
    "                return self.V5 + x*self.KAcc\n",
    "            elif conditions['Frequency'] == 6:\n",
    "                return self.V6 + x*self.KAcc\n",
    "        else:\n",
    "            print(\"Non-implemented conditions\")"
   ]
  },
  {
   "cell_type": "code",
   "execution_count": 9,
   "id": "3fc108fd",
   "metadata": {},
   "outputs": [],
   "source": [
    "def get_OUM_result_sub_2k2ter(samp, v = [0,6], a = [0.5,6], k = [-15,15], ter=[0.1,1], T_dur=5, dt=.01):\n",
    "    \n",
    "    model_fit = Model(name='Simple model (fitted)',\n",
    "                      drift=LinearDriftFreqKSAT(V1= Fittable(minval=v[0], maxval=v[1]),\n",
    "                                              V2= Fittable(minval=v[0], maxval=v[1]),\n",
    "                                              V3= Fittable(minval=v[0], maxval=v[1]),\n",
    "                                              V4= Fittable(minval=v[0], maxval=v[1]),\n",
    "                                              V5= Fittable(minval=v[0], maxval=v[1]),\n",
    "                                              V6= Fittable(minval=v[0], maxval=v[1]),\n",
    "                                              KSpeed = Fittable(minval=k[0], maxval=k[1]),\n",
    "                                              KAcc = Fittable(minval=k[0], maxval=k[1])), \n",
    "                      noise=NoiseConstant(noise=1),\n",
    "                      bound=BoundConstant(B=Fittable(minval=a[0], maxval=a[1])),                      \n",
    "                      overlay=NondecisionSpeedAcc(\n",
    "                          tSpeed=Fittable(minval=ter[0], maxval=ter[1]),\n",
    "                          tAcc=Fittable(minval=ter[0], maxval=ter[1]),\n",
    "\n",
    "                      ),\n",
    "                      dx=.01, dt=dt, T_dur=T_dur)\n",
    "    #set_N_cpus(4)\n",
    "    fit_adjust_model(samp, model_fit,\n",
    "                     fitting_method=\"differential_evolution\",\n",
    "                     lossfunction=LossRobustBIC, verbose=False)\n",
    "    #print(model_fit.get_model_parameters())\n",
    "    df = pd.DataFrame(data = np.array(model_fit.get_model_parameters()).reshape(1,11),\n",
    "                      columns = model_fit.get_model_parameter_names())\n",
    "    \n",
    "    #df['Participant']=i+1\n",
    "    #df['SAT'] = SAT\n",
    "    df['BIC'] = model_fit.get_fit_result().value()\n",
    "    df = df.rename(columns={\n",
    "                            'B': 'Boundary Separation',\n",
    "                            'Kspeed': \"Self-excitation Speed\",\n",
    "                            'Kacc': \"Self-excitation Accuracy\",\n",
    "                            'tSpeed': 'Non-decision Time Speed',\n",
    "                            'tAcc': 'Non-decision Time Accuracy'})\n",
    "    return df"
   ]
  },
  {
   "cell_type": "code",
   "execution_count": 10,
   "id": "247f9354",
   "metadata": {},
   "outputs": [
    {
     "name": "stdout",
     "output_type": "stream",
     "text": [
      "1\n"
     ]
    },
    {
     "name": "stderr",
     "output_type": "stream",
     "text": [
      "Info: Params [3.17353979 2.19586683 1.34914617 2.80515633 2.74008345 2.91153383\n",
      " 6.6043162  5.37356222 0.85008878 0.32299195 0.35601817] gave -1066.556325898168\n"
     ]
    },
    {
     "name": "stdout",
     "output_type": "stream",
     "text": [
      "3\n"
     ]
    },
    {
     "name": "stderr",
     "output_type": "stream",
     "text": [
      "Info: Params [3.12657852 2.00006525 1.69614785 2.23738447 2.20726135 2.22881985\n",
      " 7.48925888 2.44048791 1.21642152 0.28324317 0.34630373] gave -369.3215878086529\n"
     ]
    },
    {
     "name": "stdout",
     "output_type": "stream",
     "text": [
      "4\n"
     ]
    },
    {
     "name": "stderr",
     "output_type": "stream",
     "text": [
      "Info: Params [ 3.53398818  2.70398099  1.92512787  2.66932953  2.69610518  2.66327536\n",
      " 12.44034785  3.29792283  0.83428529  0.31226506  0.33170844] gave -1325.9218418009611\n"
     ]
    },
    {
     "name": "stdout",
     "output_type": "stream",
     "text": [
      "5\n"
     ]
    },
    {
     "name": "stderr",
     "output_type": "stream",
     "text": [
      "Info: Params [ 4.72872028  3.37415861  2.96486347  3.55363545  2.79702957  3.23004236\n",
      " 14.56162495  6.25815153  4.56930545  0.24220498  0.25918577] gave -1425.3568689138804\n"
     ]
    },
    {
     "name": "stdout",
     "output_type": "stream",
     "text": [
      "6\n"
     ]
    },
    {
     "name": "stderr",
     "output_type": "stream",
     "text": [
      "Info: Params [ 2.93769764  1.94904998  1.09329162  1.75181586  1.7777709   1.98018568\n",
      " 11.23905896  5.97398045  4.56788015  0.14208262  0.16469256] gave -400.47725003033776\n"
     ]
    },
    {
     "name": "stdout",
     "output_type": "stream",
     "text": [
      "7\n"
     ]
    },
    {
     "name": "stderr",
     "output_type": "stream",
     "text": [
      "Info: Params [ 1.52471931  0.66074982  0.18152718  1.60690399  1.66853575  1.6949898\n",
      " 10.17317545  6.39178557  4.32448392  0.1033803   0.11706953] gave 0.2681024248381476\n"
     ]
    },
    {
     "name": "stdout",
     "output_type": "stream",
     "text": [
      "8\n"
     ]
    },
    {
     "name": "stderr",
     "output_type": "stream",
     "text": [
      "Info: Params [1.53515757 0.65484668 0.31077058 0.91921126 1.05322569 1.07169581\n",
      " 6.81428638 1.9338787  2.09082936 0.11377    0.12541291] gave 1089.514869302341\n"
     ]
    },
    {
     "name": "stdout",
     "output_type": "stream",
     "text": [
      "9\n"
     ]
    },
    {
     "name": "stderr",
     "output_type": "stream",
     "text": [
      "Info: Params [ 3.28161391  1.91159372  1.47177322  2.26260735  2.23448713  2.51972936\n",
      " 11.93700616  2.8852178   1.78536367  0.32018418  0.27854458] gave -625.8808124833017\n"
     ]
    },
    {
     "name": "stdout",
     "output_type": "stream",
     "text": [
      "10\n"
     ]
    },
    {
     "name": "stderr",
     "output_type": "stream",
     "text": [
      "Info: Params [3.54557848 2.2894952  1.47004672 2.46451244 1.82657544 2.35904212\n",
      " 8.3923883  3.45296918 1.17129962 0.25818802 0.305091  ] gave -1571.6649796594534\n"
     ]
    },
    {
     "name": "stdout",
     "output_type": "stream",
     "text": [
      "11\n"
     ]
    },
    {
     "name": "stderr",
     "output_type": "stream",
     "text": [
      "Info: Params [ 4.22820636  1.95778119  1.33121437  1.94431705  2.20683255  2.22345303\n",
      " 10.57914902  4.47160342  1.00947336  0.32551288  0.35836748] gave -1823.415367635458\n"
     ]
    },
    {
     "name": "stdout",
     "output_type": "stream",
     "text": [
      "12\n"
     ]
    },
    {
     "name": "stderr",
     "output_type": "stream",
     "text": [
      "Info: Params [2.34045932 1.20822063 0.68843258 1.54533487 1.54926448 1.54052267\n",
      " 7.05859357 3.55792433 2.21068673 0.18761853 0.15442272] gave 348.81188151133017\n"
     ]
    },
    {
     "name": "stdout",
     "output_type": "stream",
     "text": [
      "13\n"
     ]
    },
    {
     "name": "stderr",
     "output_type": "stream",
     "text": [
      "Info: Params [1.96419005 1.50783271 0.743475   1.56088562 1.48880197 1.6897485\n",
      " 6.9641543  2.06509736 1.08305258 0.3044772  0.33645101] gave 363.55831728516\n"
     ]
    },
    {
     "name": "stdout",
     "output_type": "stream",
     "text": [
      "14\n"
     ]
    },
    {
     "name": "stderr",
     "output_type": "stream",
     "text": [
      "Info: Params [2.92347591 2.01912049 1.45949975 1.87342948 1.43140451 1.56126284\n",
      " 7.87561206 1.99498688 2.06793413 0.24510041 0.18730387] gave 30.305427804841216\n"
     ]
    },
    {
     "name": "stdout",
     "output_type": "stream",
     "text": [
      "15\n"
     ]
    },
    {
     "name": "stderr",
     "output_type": "stream",
     "text": [
      "Info: Params [2.6349023  1.9955165  1.16408453 1.85105744 1.76825132 2.12460248\n",
      " 9.01640718 2.24270241 1.55508898 0.29202532 0.33975883] gave -482.51266058220773\n"
     ]
    },
    {
     "name": "stdout",
     "output_type": "stream",
     "text": [
      "16\n"
     ]
    },
    {
     "name": "stderr",
     "output_type": "stream",
     "text": [
      "Info: Params [1.99795523 1.4899759  1.01167732 1.38764788 1.29259286 1.34609049\n",
      " 4.00526909 2.4719928  1.04994421 0.21963394 0.36238614] gave 549.908433720953\n"
     ]
    },
    {
     "name": "stdout",
     "output_type": "stream",
     "text": [
      "17\n"
     ]
    },
    {
     "name": "stderr",
     "output_type": "stream",
     "text": [
      "Info: Params [3.05482007 2.59487255 2.02268344 2.26525316 2.26248733 2.22991145\n",
      " 5.54201966 2.51133845 1.64113803 0.25109441 0.32042618] gave -992.4233567239694\n"
     ]
    },
    {
     "ename": "NameError",
     "evalue": "name 'valid_ratio_dfs' is not defined",
     "output_type": "error",
     "traceback": [
      "\u001b[0;31m---------------------------------------------------------------------------\u001b[0m",
      "\u001b[0;31mNameError\u001b[0m                                 Traceback (most recent call last)",
      "Cell \u001b[0;32mIn[10], line 21\u001b[0m\n\u001b[1;32m     19\u001b[0m df_OUM \u001b[38;5;241m=\u001b[39m df_all\u001b[38;5;241m.\u001b[39mcopy()\n\u001b[1;32m     20\u001b[0m df_OUM\u001b[38;5;241m.\u001b[39mto_csv(\u001b[38;5;124m\"\u001b[39m\u001b[38;5;124mParameter Estimates/OUM2k2terCombinedresultWagenmakers2008.csv\u001b[39m\u001b[38;5;124m\"\u001b[39m)\n\u001b[0;32m---> 21\u001b[0m \u001b[38;5;28mprint\u001b[39m(valid_ratio_dfs)\n",
      "\u001b[0;31mNameError\u001b[0m: name 'valid_ratio_dfs' is not defined"
     ]
    }
   ],
   "source": [
    "path = \"/Users/wangjiashun/Desktop/Research_on_SAT/datasets/transformed/Wagenmakers2008/SpeedAccData_new.csv\"\n",
    "participants = [1,  3,  4,  5,  6,  7,  8,  9, 10, 11, 12, 13, 14, 15, 16, 17]\n",
    "\n",
    "\n",
    "df_all = pd.DataFrame()\n",
    "\n",
    "for i in participants:\n",
    "        print(i)\n",
    "        df = pd.read_csv(path, sep = \",\")\n",
    "        df = df[df[\"Participant\"]==i]\n",
    "\n",
    "        df = df[df[\"Time\"]<5]\n",
    "\n",
    "        samp = Sample.from_pandas_dataframe(df, rt_column_name=\"Time\", choice_column_name=\"Correct\")\n",
    "        df = get_OUM_result_sub_2k2ter(samp)\n",
    "        df[\"Participant\"]=i\n",
    "        df_all = pd.concat((df_all,df))\n",
    "    \n",
    "df_OUM = df_all.copy()\n",
    "df_OUM.to_csv(\"Parameter Estimates/OUM2k2terCombinedresultWagenmakers2008.csv\")\n",
    "print(valid_ratio_dfs)"
   ]
  },
  {
   "cell_type": "code",
   "execution_count": null,
   "id": "76004741",
   "metadata": {},
   "outputs": [],
   "source": []
  }
 ],
 "metadata": {
  "kernelspec": {
   "display_name": "Python 3 (ipykernel)",
   "language": "python",
   "name": "python3"
  },
  "language_info": {
   "codemirror_mode": {
    "name": "ipython",
    "version": 3
   },
   "file_extension": ".py",
   "mimetype": "text/x-python",
   "name": "python",
   "nbconvert_exporter": "python",
   "pygments_lexer": "ipython3",
   "version": "3.11.4"
  }
 },
 "nbformat": 4,
 "nbformat_minor": 5
}
