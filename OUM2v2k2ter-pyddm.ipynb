{
 "cells": [
  {
   "cell_type": "code",
   "execution_count": 1,
   "id": "2cda49de",
   "metadata": {},
   "outputs": [],
   "source": [
    "%run SAT_help_functions.ipynb"
   ]
  },
  {
   "cell_type": "code",
   "execution_count": null,
   "id": "21316b10",
   "metadata": {},
   "outputs": [],
   "source": []
  },
  {
   "cell_type": "code",
   "execution_count": null,
   "id": "0236eadb",
   "metadata": {},
   "outputs": [],
   "source": []
  },
  {
   "cell_type": "code",
   "execution_count": 5,
   "id": "2f74752d",
   "metadata": {},
   "outputs": [],
   "source": []
  },
  {
   "cell_type": "markdown",
   "id": "4bd26666",
   "metadata": {},
   "source": [
    "## OUM"
   ]
  },
  {
   "cell_type": "code",
   "execution_count": 2,
   "id": "80376f45",
   "metadata": {},
   "outputs": [],
   "source": [
    "SAT_conds = [\"Speed\", \"Accuracy\"]"
   ]
  },
  {
   "cell_type": "code",
   "execution_count": 7,
   "id": "9ef6c434",
   "metadata": {
    "scrolled": true
   },
   "outputs": [
    {
     "name": "stdout",
     "output_type": "stream",
     "text": [
      "0\n"
     ]
    },
    {
     "name": "stderr",
     "output_type": "stream",
     "text": [
      "Info: Params [1.08095344 1.32897508 6.34351176 2.25211599 1.24927484 0.24887719\n",
      " 0.28931302] gave 242.1460413878175\n"
     ]
    },
    {
     "name": "stdout",
     "output_type": "stream",
     "text": [
      "1\n"
     ]
    },
    {
     "name": "stderr",
     "output_type": "stream",
     "text": [
      "Info: Params [0.24986971 0.6233266  8.10129437 2.64776934 2.43757107 0.22127613\n",
      " 0.22187327] gave 447.93880626209113\n"
     ]
    },
    {
     "name": "stdout",
     "output_type": "stream",
     "text": [
      "2\n"
     ]
    },
    {
     "name": "stderr",
     "output_type": "stream",
     "text": [
      "Info: Params [1.58265807 1.66998709 7.42490502 3.36823634 1.11674921 0.22796906\n",
      " 0.35335561] gave -34.01441153629522\n"
     ]
    },
    {
     "name": "stdout",
     "output_type": "stream",
     "text": [
      "3\n"
     ]
    },
    {
     "name": "stderr",
     "output_type": "stream",
     "text": [
      "Info: Params [ 0.22628814  1.06345453 10.27351466  1.62634608  1.17338984  0.15514585\n",
      "  0.22216997] gave 277.8677438330831\n"
     ]
    },
    {
     "name": "stdout",
     "output_type": "stream",
     "text": [
      "4\n"
     ]
    },
    {
     "name": "stderr",
     "output_type": "stream",
     "text": [
      "Info: Params [0.85363953 1.54635003 6.17311525 4.15246334 1.16248261 0.1967165\n",
      " 0.30095054] gave 118.43211126548061\n"
     ]
    },
    {
     "name": "stdout",
     "output_type": "stream",
     "text": [
      "5\n"
     ]
    },
    {
     "name": "stderr",
     "output_type": "stream",
     "text": [
      "Info: Params [1.62468017 1.34503024 8.86095538 3.17432402 1.87145098 0.31399539\n",
      " 0.38172967] gave 34.00374063929558\n"
     ]
    },
    {
     "name": "stdout",
     "output_type": "stream",
     "text": [
      "6\n"
     ]
    },
    {
     "name": "stderr",
     "output_type": "stream",
     "text": [
      "Info: Params [0.95617732 1.77690488 6.20845581 5.07170584 1.43054089 0.18724446\n",
      " 0.28856958] gave 45.176066955794845\n"
     ]
    },
    {
     "name": "stdout",
     "output_type": "stream",
     "text": [
      "7\n"
     ]
    },
    {
     "name": "stderr",
     "output_type": "stream",
     "text": [
      "Info: Params [1.41812438 2.14388983 7.39695136 5.8290056  2.86735839 0.18298967\n",
      " 0.24314725] gave -98.54814782735914\n"
     ]
    },
    {
     "name": "stdout",
     "output_type": "stream",
     "text": [
      "8\n"
     ]
    },
    {
     "name": "stderr",
     "output_type": "stream",
     "text": [
      "Info: Params [1.220722   1.5915383  8.28582651 2.73798161 0.97750731 0.33755427\n",
      " 0.3301635 ] gave 7.936659413774258\n"
     ]
    },
    {
     "name": "stdout",
     "output_type": "stream",
     "text": [
      "9\n"
     ]
    },
    {
     "name": "stderr",
     "output_type": "stream",
     "text": [
      "Info: Params [0.39132727 1.05249279 7.87987273 2.25404503 2.24814169 0.14304582\n",
      " 0.26363051] gave 365.6905874797861\n"
     ]
    },
    {
     "name": "stdout",
     "output_type": "stream",
     "text": [
      "10\n"
     ]
    },
    {
     "name": "stderr",
     "output_type": "stream",
     "text": [
      "Info: Params [1.03925584 1.31703755 4.15328814 1.96445447 1.54962485 0.1536836\n",
      " 0.26094336] gave 387.952225890578\n"
     ]
    },
    {
     "name": "stdout",
     "output_type": "stream",
     "text": [
      "11\n"
     ]
    },
    {
     "name": "stderr",
     "output_type": "stream",
     "text": [
      "Info: Params [1.4977353  1.26294711 8.06604192 3.46668981 1.39042581 0.28705175\n",
      " 0.32513397] gave 92.21881176169657\n"
     ]
    },
    {
     "name": "stdout",
     "output_type": "stream",
     "text": [
      "12\n"
     ]
    },
    {
     "name": "stderr",
     "output_type": "stream",
     "text": [
      "Info: Params [0.8729672  1.39888775 6.20918864 2.62166932 1.00179019 0.2170242\n",
      " 0.24351785] gave 50.93272205250809\n"
     ]
    },
    {
     "name": "stdout",
     "output_type": "stream",
     "text": [
      "13\n"
     ]
    },
    {
     "name": "stderr",
     "output_type": "stream",
     "text": [
      "Info: Params [1.14123365 1.37172914 8.3294254  3.06306236 1.91568416 0.17250423\n",
      " 0.19031517] gave 167.48771126429884\n"
     ]
    },
    {
     "name": "stdout",
     "output_type": "stream",
     "text": [
      "14\n"
     ]
    },
    {
     "name": "stderr",
     "output_type": "stream",
     "text": [
      "Info: Params [0.70434776 1.24182259 6.88101497 4.32770471 1.17638717 0.18823676\n",
      " 0.21173663] gave 128.55103068042865\n"
     ]
    },
    {
     "name": "stdout",
     "output_type": "stream",
     "text": [
      "15\n"
     ]
    },
    {
     "name": "stderr",
     "output_type": "stream",
     "text": [
      "Info: Params [1.32589159 2.02198044 7.68387236 2.452813   1.18709845 0.20647749\n",
      " 0.28056586] gave -105.61143431542672\n"
     ]
    },
    {
     "name": "stdout",
     "output_type": "stream",
     "text": [
      "16\n"
     ]
    },
    {
     "name": "stderr",
     "output_type": "stream",
     "text": [
      "Info: Params [1.04968244 0.80210082 7.39344966 2.80897493 0.76300436 0.26575403\n",
      " 0.35392255] gave 129.95127483703195\n"
     ]
    },
    {
     "name": "stdout",
     "output_type": "stream",
     "text": [
      "17\n"
     ]
    },
    {
     "name": "stderr",
     "output_type": "stream",
     "text": [
      "Info: Params [1.90813849 1.88446229 5.31177251 1.92441652 0.75379207 0.28604667\n",
      " 0.34631102] gave -148.07652685778214\n"
     ]
    },
    {
     "name": "stdout",
     "output_type": "stream",
     "text": [
      "18\n"
     ]
    },
    {
     "name": "stderr",
     "output_type": "stream",
     "text": [
      "Info: Params [2.18770073 1.56284608 5.44855119 2.8985706  1.1007505  0.24074791\n",
      " 0.26503004] gave 11.816104212578516\n"
     ]
    },
    {
     "name": "stdout",
     "output_type": "stream",
     "text": [
      "19\n"
     ]
    },
    {
     "name": "stderr",
     "output_type": "stream",
     "text": [
      "Info: Params [0.17306329 0.70651054 6.1586088  4.23618705 1.18554188 0.20710861\n",
      " 0.27441747] gave 302.81200993617074\n"
     ]
    },
    {
     "name": "stdout",
     "output_type": "stream",
     "text": [
      "           1    2    3    4    5    6    7    8    9    10   11   12   13  \\\n",
      "Accuracy  1.0  1.0  1.0  1.0  1.0  1.0  1.0  1.0  1.0  1.0  1.0  1.0  1.0   \n",
      "Speed     1.0  1.0  1.0  1.0  1.0  1.0  1.0  1.0  1.0  1.0  1.0  1.0  1.0   \n",
      "\n",
      "           14   15   16   17   18   19   20  \n",
      "Accuracy  1.0  1.0  1.0  1.0  1.0  1.0  1.0  \n",
      "Speed     1.0  1.0  1.0  1.0  1.0  1.0  1.0  \n"
     ]
    }
   ],
   "source": [
    "data_dir = \"/Users/wangjiashun/Desktop/Reserach on SAT/datasets/transformed/Dutilh2019/sub\"\n",
    "sample_size = 20\n",
    "\n",
    "df_all = pd.DataFrame()\n",
    "valid_ratio_dfs = pd.DataFrame()\n",
    "\n",
    "for i in range(sample_size):\n",
    "    print(i)\n",
    "    path = os.path.join(data_dir+str(i+1)+\".csv\")\n",
    "    df = pd.read_csv(path, sep = \",\")\n",
    "    \n",
    "    counts_before = df['Cond'].value_counts()\n",
    "    df = df[df[\"Time\"]<5]\n",
    "    counts_after = df['Cond'].value_counts()\n",
    "    valid_ratio = counts_before/counts_after\n",
    "    valid_ratio_df = valid_ratio.to_frame(i+1)\n",
    "    valid_ratio_dfs = pd.concat((valid_ratio_dfs,valid_ratio_df), axis = 1)\n",
    "    \n",
    "    samp = Sample.from_pandas_dataframe(df, rt_column_name=\"Time\", choice_column_name=\"Correct\")\n",
    "    df = get_OUM_result_sub_2v2k2ter(samp)\n",
    "    df_all = pd.concat((df_all,df))\n",
    "    \n",
    "df_OUM = df_all.copy()\n",
    "df_OUM.to_csv(\"Parameter Estimates/OUM2v2k2terresultDutilh2019.csv\")\n",
    "print(valid_ratio_dfs)\n"
   ]
  },
  {
   "cell_type": "code",
   "execution_count": 8,
   "id": "e776257c",
   "metadata": {},
   "outputs": [
    {
     "name": "stdout",
     "output_type": "stream",
     "text": [
      "0\n"
     ]
    },
    {
     "name": "stderr",
     "output_type": "stream",
     "text": [
      "Info: Params [ 0.20070601  0.8916415  11.90485773  6.03224181  5.62657487  0.15934952\n",
      "  0.10800866] gave -96.47260450331525\n"
     ]
    },
    {
     "name": "stdout",
     "output_type": "stream",
     "text": [
      "1\n"
     ]
    },
    {
     "name": "stderr",
     "output_type": "stream",
     "text": [
      "Info: Params [2.14886254 1.44216185 3.02032709 1.82470587 0.59464074 0.35414573\n",
      " 0.39209418] gave -200.6023957206546\n"
     ]
    },
    {
     "name": "stdout",
     "output_type": "stream",
     "text": [
      "2\n"
     ]
    },
    {
     "name": "stderr",
     "output_type": "stream",
     "text": [
      "Info: Params [0.         0.         2.64763965 3.41714041 1.59285977 0.10984304\n",
      " 0.51285356] gave 571.7900223739899\n"
     ]
    },
    {
     "name": "stdout",
     "output_type": "stream",
     "text": [
      "3\n"
     ]
    },
    {
     "name": "stderr",
     "output_type": "stream",
     "text": [
      "Info: Params [ 3.97620039  6.         11.55465201  5.06661814  4.24834306  0.25376239\n",
      "  0.20746604] gave -203.55688966173156\n"
     ]
    },
    {
     "name": "stdout",
     "output_type": "stream",
     "text": [
      "4\n"
     ]
    },
    {
     "name": "stderr",
     "output_type": "stream",
     "text": [
      "Info: Params [2.10283943 2.22858715 4.40053868 3.69676452 1.16464992 0.2205802\n",
      " 0.29457444] gave -91.8067022650057\n"
     ]
    },
    {
     "name": "stdout",
     "output_type": "stream",
     "text": [
      "5\n"
     ]
    },
    {
     "name": "stderr",
     "output_type": "stream",
     "text": [
      "Info: Params [ 1.55723448  2.04707287 10.46781395  5.74764979  5.5451617   0.15992419\n",
      "  0.1336224 ] gave -235.5177113826742\n"
     ]
    },
    {
     "name": "stdout",
     "output_type": "stream",
     "text": [
      "6\n"
     ]
    },
    {
     "name": "stderr",
     "output_type": "stream",
     "text": [
      "Info: Params [ 1.28807198  4.48318668 10.92418013  6.63627187  5.91744541  0.10318752\n",
      "  0.21176287] gave -476.55841305829716\n"
     ]
    },
    {
     "name": "stdout",
     "output_type": "stream",
     "text": [
      "7\n"
     ]
    },
    {
     "name": "stderr",
     "output_type": "stream",
     "text": [
      "Info: Params [1.39091886 2.17445013 5.96997774 4.99073028 1.62798951 0.1684643\n",
      " 0.21253453] gave -135.93714620151886\n"
     ]
    },
    {
     "name": "stdout",
     "output_type": "stream",
     "text": [
      "8\n"
     ]
    },
    {
     "name": "stderr",
     "output_type": "stream",
     "text": [
      "Info: Params [0.84712339 1.48874681 6.5736553  6.87688137 3.88554398 0.10528457\n",
      " 0.17205174] gave 73.10911143008671\n"
     ]
    },
    {
     "name": "stdout",
     "output_type": "stream",
     "text": [
      "9\n"
     ]
    },
    {
     "name": "stderr",
     "output_type": "stream",
     "text": [
      "Info: Params [0.01137797 0.32617468 8.3093985  4.00161897 1.45095603 0.1011737\n",
      " 0.18327061] gave 264.56402404706995\n"
     ]
    },
    {
     "name": "stdout",
     "output_type": "stream",
     "text": [
      "10\n"
     ]
    },
    {
     "name": "stderr",
     "output_type": "stream",
     "text": [
      "Info: Params [3.23283242 4.02372059 8.05087328 6.56808048 5.8523859  0.23692644\n",
      " 0.23815191] gave -91.65457517185375\n"
     ]
    },
    {
     "name": "stdout",
     "output_type": "stream",
     "text": [
      "11\n"
     ]
    },
    {
     "name": "stderr",
     "output_type": "stream",
     "text": [
      "Info: Params [ 2.44793921  2.99882303 12.98403883  7.29104048  4.64668799  0.22112961\n",
      "  0.18406314] gave -667.9203548219796\n"
     ]
    },
    {
     "name": "stdout",
     "output_type": "stream",
     "text": [
      "12\n"
     ]
    },
    {
     "name": "stderr",
     "output_type": "stream",
     "text": [
      "Info: Params [ 4.33188618  3.41236138 11.20536687 14.80805499  4.60136733  0.21182823\n",
      "  0.2521334 ] gave -668.4416419859374\n"
     ]
    },
    {
     "name": "stdout",
     "output_type": "stream",
     "text": [
      "13\n"
     ]
    },
    {
     "name": "stderr",
     "output_type": "stream",
     "text": [
      "Info: Params [1.5360536  3.25773052 6.43327874 1.20141393 0.77190907 0.23960242\n",
      " 0.31062974] gave -412.9211396224014\n"
     ]
    },
    {
     "name": "stdout",
     "output_type": "stream",
     "text": [
      "14\n"
     ]
    },
    {
     "name": "stderr",
     "output_type": "stream",
     "text": [
      "Info: Params [ 0.42429845  0.07771986 10.16884155  5.40966326  4.80931883  0.18817372\n",
      "  0.10482741] gave 347.8759959777949\n"
     ]
    },
    {
     "name": "stdout",
     "output_type": "stream",
     "text": [
      "15\n"
     ]
    },
    {
     "name": "stderr",
     "output_type": "stream",
     "text": [
      "Info: Params [2.9944452  6.         8.31259947 2.54905806 1.02369163 0.32288529\n",
      " 0.35825907] gave -488.05588967308654\n"
     ]
    },
    {
     "name": "stdout",
     "output_type": "stream",
     "text": [
      "16\n"
     ]
    },
    {
     "name": "stderr",
     "output_type": "stream",
     "text": [
      "Info: Params [0.50692494 1.84794488 6.05813613 2.66083323 1.22726703 0.12409532\n",
      " 0.22506775] gave 313.1367626633256\n"
     ]
    },
    {
     "name": "stdout",
     "output_type": "stream",
     "text": [
      "17\n"
     ]
    },
    {
     "name": "stderr",
     "output_type": "stream",
     "text": [
      "Info: Params [ 3.05064989  3.80991641 11.14696549  7.56353494  1.32819794  0.2538266\n",
      "  0.25655141] gave -1034.7769867611134\n"
     ]
    },
    {
     "name": "stdout",
     "output_type": "stream",
     "text": [
      "18\n"
     ]
    },
    {
     "name": "stderr",
     "output_type": "stream",
     "text": [
      "Info: Params [1.69867821 2.79745731 6.90239386 4.52091045 0.742501   0.26833868\n",
      " 0.28513509] gave -348.33700550352114\n"
     ]
    },
    {
     "name": "stdout",
     "output_type": "stream",
     "text": [
      "19\n"
     ]
    },
    {
     "name": "stderr",
     "output_type": "stream",
     "text": [
      "Info: Params [ 1.74212685  3.44075566 12.62641662  9.96106137  5.82810099  0.13848342\n",
      "  0.16451692] gave -987.7751605720645\n"
     ]
    },
    {
     "name": "stdout",
     "output_type": "stream",
     "text": [
      "20\n"
     ]
    },
    {
     "name": "stderr",
     "output_type": "stream",
     "text": [
      "Info: Params [ 0.41281214  2.75319137 14.78844484  9.14172285  5.65148918  0.1147877\n",
      "  0.1702304 ] gave -453.34772340061664\n"
     ]
    },
    {
     "name": "stdout",
     "output_type": "stream",
     "text": [
      "21\n"
     ]
    },
    {
     "name": "stderr",
     "output_type": "stream",
     "text": [
      "Info: Params [0.35587502 1.33411413 9.04150443 6.92160363 3.008525   0.1078421\n",
      " 0.20447089] gave -14.739406235796721\n"
     ]
    },
    {
     "name": "stdout",
     "output_type": "stream",
     "text": [
      "22\n"
     ]
    },
    {
     "name": "stderr",
     "output_type": "stream",
     "text": [
      "Info: Params [ 3.64298754  6.         13.75295016 14.23003925  5.48337126  0.22730404\n",
      "  0.31085938] gave -265.2509438237443\n"
     ]
    },
    {
     "name": "stdout",
     "output_type": "stream",
     "text": [
      "23\n"
     ]
    },
    {
     "name": "stderr",
     "output_type": "stream",
     "text": [
      "Info: Params [ 1.90514293  3.59285811 15.         14.63544469  1.25368163  0.21954038\n",
      "  0.28851523] gave -1209.3681552191413\n"
     ]
    },
    {
     "name": "stdout",
     "output_type": "stream",
     "text": [
      "24\n"
     ]
    },
    {
     "name": "stderr",
     "output_type": "stream",
     "text": [
      "Info: Params [ 2.47198491  4.4403951  14.97005075 12.44303611  3.30757807  0.21828269\n",
      "  0.26572682] gave -931.3150110225506\n"
     ]
    },
    {
     "name": "stdout",
     "output_type": "stream",
     "text": [
      "25\n"
     ]
    },
    {
     "name": "stderr",
     "output_type": "stream",
     "text": [
      "Info: Params [ 0.74729429  2.98973077 11.77623973 10.91385991  3.46216794  0.10140714\n",
      "  0.22588476] gave -643.3939497815401\n"
     ]
    },
    {
     "name": "stdout",
     "output_type": "stream",
     "text": [
      "26\n"
     ]
    },
    {
     "name": "stderr",
     "output_type": "stream",
     "text": [
      "Info: Params [ 6.          3.22297115  4.35709973 10.41545858  5.10453086  0.11189049\n",
      "  0.2193459 ] gave -251.15885704105364\n"
     ]
    },
    {
     "name": "stdout",
     "output_type": "stream",
     "text": [
      "27\n"
     ]
    },
    {
     "name": "stderr",
     "output_type": "stream",
     "text": [
      "Info: Params [ 2.51044434  4.15246601 10.87373339 10.94274014  0.94259516  0.24560024\n",
      "  0.28605237] gave -957.711713125988\n"
     ]
    },
    {
     "name": "stdout",
     "output_type": "stream",
     "text": [
      "28\n"
     ]
    },
    {
     "name": "stderr",
     "output_type": "stream",
     "text": [
      "Info: Params [ 2.8488822   3.5711912  14.77882581 15.          2.25703108  0.22482812\n",
      "  0.25800815] gave -970.9154503713543\n"
     ]
    },
    {
     "name": "stdout",
     "output_type": "stream",
     "text": [
      "29\n"
     ]
    },
    {
     "name": "stderr",
     "output_type": "stream",
     "text": [
      "Info: Params [3.16443779 2.87426609 6.81940806 5.53682014 0.73971285 0.31706197\n",
      " 0.31533977] gave -800.0486790685371\n"
     ]
    },
    {
     "name": "stdout",
     "output_type": "stream",
     "text": [
      "30\n"
     ]
    },
    {
     "name": "stderr",
     "output_type": "stream",
     "text": [
      "Info: Params [1.67594777 4.26127043 8.83727152 6.82872998 2.06708545 0.18267942\n",
      " 0.2492626 ] gave -356.00234696027724\n"
     ]
    },
    {
     "name": "stdout",
     "output_type": "stream",
     "text": [
      "31\n"
     ]
    },
    {
     "name": "stderr",
     "output_type": "stream",
     "text": [
      "Info: Params [ 1.97019708  4.83163608 14.91353832 12.35736997  2.79952008  0.20175325\n",
      "  0.25822608] gave -1395.938291915692\n"
     ]
    },
    {
     "name": "stdout",
     "output_type": "stream",
     "text": [
      "           1    2    3    4    5    6    7    8    9    10  ...   23   24  \\\n",
      "Speed     1.0  1.0  1.0  1.0  1.0  1.0  1.0  1.0  1.0  1.0  ...  1.0  1.0   \n",
      "Accuracy  1.0  1.0  1.0  1.0  1.0  1.0  1.0  1.0  1.0  1.0  ...  1.0  1.0   \n",
      "\n",
      "           25   26   27   28   29   30   31   32  \n",
      "Speed     1.0  1.0  1.0  1.0  1.0  1.0  1.0  1.0  \n",
      "Accuracy  1.0  1.0  1.0  1.0  1.0  1.0  1.0  1.0  \n",
      "\n",
      "[2 rows x 32 columns]\n"
     ]
    }
   ],
   "source": [
    "data_dir = \"/Users/wangjiashun/Desktop/Reserach on SAT/datasets/transformed/Dutilh2013/sub\"\n",
    "sample_size = 32\n",
    "\n",
    "df_all = pd.DataFrame()\n",
    "valid_ratio_dfs = pd.DataFrame()\n",
    "\n",
    "for i in range(sample_size):\n",
    "    print(i)\n",
    "    path = os.path.join(data_dir+str(i+1)+\".csv\")\n",
    "    df = pd.read_csv(path, sep = \",\")\n",
    "    \n",
    "    counts_before = df['Cond'].value_counts()\n",
    "    df = df[df[\"Time\"]<5]\n",
    "    counts_after = df['Cond'].value_counts()\n",
    "    valid_ratio = counts_before/counts_after\n",
    "    valid_ratio_df = valid_ratio.to_frame(i+1)\n",
    "    valid_ratio_dfs = pd.concat((valid_ratio_dfs,valid_ratio_df), axis = 1)\n",
    "    \n",
    "    samp = Sample.from_pandas_dataframe(df, rt_column_name=\"Time\", choice_column_name=\"Correct\")\n",
    "    df = get_OUM_result_sub_2v2k2ter(samp)\n",
    "    df_all = pd.concat((df_all,df))\n",
    "    \n",
    "df_OUM = df_all.copy()\n",
    "df_OUM.to_csv(\"Parameter Estimates/OUM2v2k2terresultDutilh2013.csv\")\n",
    "print(valid_ratio_dfs)"
   ]
  },
  {
   "cell_type": "code",
   "execution_count": 11,
   "id": "be2525bf",
   "metadata": {
    "scrolled": true
   },
   "outputs": [
    {
     "name": "stdout",
     "output_type": "stream",
     "text": [
      "0\n"
     ]
    },
    {
     "name": "stderr",
     "output_type": "stream",
     "text": [
      "Info: Params [ 0.73726498  0.90171132  5.20009694 -0.81111594  0.81723163  0.31387309\n",
      "  0.40100153] gave 495.7973556160755\n"
     ]
    },
    {
     "name": "stdout",
     "output_type": "stream",
     "text": [
      "1\n"
     ]
    },
    {
     "name": "stderr",
     "output_type": "stream",
     "text": [
      "Info: Params [ 2.73250107  1.20848427  5.20110078 -3.39121367  0.81181584  0.43514576\n",
      "  0.51663635] gave 231.773658754194\n"
     ]
    },
    {
     "name": "stdout",
     "output_type": "stream",
     "text": [
      "2\n"
     ]
    },
    {
     "name": "stderr",
     "output_type": "stream",
     "text": [
      "Info: Params [1.27044236 1.105753   4.95642059 1.45266425 1.09180073 0.21563662\n",
      " 0.27286696] gave 215.29343742365262\n"
     ]
    },
    {
     "name": "stdout",
     "output_type": "stream",
     "text": [
      "3\n"
     ]
    },
    {
     "name": "stderr",
     "output_type": "stream",
     "text": [
      "Info: Params [  1.53618824   1.51434772  -1.15549801 -10.24770482   0.68054797\n",
      "   0.43882369   0.99001585] gave 865.973798034818\n"
     ]
    },
    {
     "name": "stdout",
     "output_type": "stream",
     "text": [
      "4\n"
     ]
    },
    {
     "name": "stderr",
     "output_type": "stream",
     "text": [
      "Info: Params [1.83370385 1.10096792 6.84509664 2.31965392 1.48411942 0.31512688\n",
      " 0.30789041] gave 204.26177372761336\n"
     ]
    },
    {
     "name": "stdout",
     "output_type": "stream",
     "text": [
      "5\n"
     ]
    },
    {
     "name": "stderr",
     "output_type": "stream",
     "text": [
      "Info: Params [ 1.10345877  1.20117047 -3.94952506 -8.79556039  0.53052082  0.42547112\n",
      "  0.54156806] gave 450.6029335561469\n"
     ]
    },
    {
     "name": "stdout",
     "output_type": "stream",
     "text": [
      "6\n"
     ]
    },
    {
     "name": "stderr",
     "output_type": "stream",
     "text": [
      "Info: Params [0.53094799 1.03950771 6.02148905 3.21016844 1.18425874 0.14231455\n",
      " 0.31448996] gave 333.087472848694\n"
     ]
    },
    {
     "name": "stdout",
     "output_type": "stream",
     "text": [
      "7\n"
     ]
    },
    {
     "name": "stderr",
     "output_type": "stream",
     "text": [
      "Info: Params [1.902449   1.95863551 7.00481343 2.72231647 1.66294875 0.35211396\n",
      " 0.41383217] gave -99.8544034664047\n"
     ]
    },
    {
     "name": "stdout",
     "output_type": "stream",
     "text": [
      "8\n"
     ]
    },
    {
     "name": "stderr",
     "output_type": "stream",
     "text": [
      "Info: Params [2.09262648 1.5701066  5.10440658 1.73518726 2.46968358 0.34302459\n",
      " 0.2391188 ] gave 154.49596318503635\n"
     ]
    },
    {
     "name": "stdout",
     "output_type": "stream",
     "text": [
      "9\n"
     ]
    },
    {
     "name": "stderr",
     "output_type": "stream",
     "text": [
      "Info: Params [0.72885265 0.44542976 2.4789237  0.09101599 0.93309976 0.33478184\n",
      " 0.36666411] gave 825.7320007169892\n"
     ]
    },
    {
     "name": "stdout",
     "output_type": "stream",
     "text": [
      "10\n"
     ]
    },
    {
     "name": "stderr",
     "output_type": "stream",
     "text": [
      "Info: Params [ 1.01463129  0.32833469  3.66559046 -1.45279076  0.90009634  0.39661396\n",
      "  0.4796694 ] gave 907.8650604663424\n"
     ]
    },
    {
     "name": "stdout",
     "output_type": "stream",
     "text": [
      "11\n"
     ]
    },
    {
     "name": "stderr",
     "output_type": "stream",
     "text": [
      "Info: Params [0.81407297 0.81241049 4.89553786 1.15027942 1.50268362 0.16924367\n",
      " 0.32678177] gave 671.1300409721791\n"
     ]
    },
    {
     "name": "stdout",
     "output_type": "stream",
     "text": [
      "12\n"
     ]
    },
    {
     "name": "stderr",
     "output_type": "stream",
     "text": [
      "Info: Params [ 1.25963292  0.72253095  1.47818867 -1.61218094  0.90072193  0.39039852\n",
      "  0.50068453] gave 724.6645397174857\n"
     ]
    },
    {
     "name": "stdout",
     "output_type": "stream",
     "text": [
      "13\n"
     ]
    },
    {
     "name": "stderr",
     "output_type": "stream",
     "text": [
      "Info: Params [0.55720669 0.6590027  1.22552431 0.07920769 0.99912112 0.35361222\n",
      " 0.45413542] gave 983.7856712990315\n"
     ]
    },
    {
     "name": "stdout",
     "output_type": "stream",
     "text": [
      "14\n"
     ]
    },
    {
     "name": "stderr",
     "output_type": "stream",
     "text": [
      "Info: Params [0.73105368 0.50819008 3.618279   1.01694312 1.45769169 0.15168639\n",
      " 0.22650108] gave 820.0581434314261\n"
     ]
    },
    {
     "name": "stdout",
     "output_type": "stream",
     "text": [
      "15\n"
     ]
    },
    {
     "name": "stderr",
     "output_type": "stream",
     "text": [
      "Info: Params [1.56154705 0.86829243 3.86575225 0.17107926 1.20420629 0.34773349\n",
      " 0.44122569] gave 599.4969693166598\n"
     ]
    },
    {
     "name": "stdout",
     "output_type": "stream",
     "text": [
      "16\n"
     ]
    },
    {
     "name": "stderr",
     "output_type": "stream",
     "text": [
      "Info: Params [ 1.59539151  0.87405058  2.55104946 -0.62084944  1.02306376  0.35497858\n",
      "  0.3616675 ] gave 647.7743225239172\n"
     ]
    },
    {
     "name": "stdout",
     "output_type": "stream",
     "text": [
      "17\n"
     ]
    },
    {
     "name": "stderr",
     "output_type": "stream",
     "text": [
      "Info: Params [1.35398944 0.58730471 5.48591916 0.79647139 0.99863426 0.35560288\n",
      " 0.3970628 ] gave 500.3681251638705\n"
     ]
    },
    {
     "name": "stdout",
     "output_type": "stream",
     "text": [
      "18\n"
     ]
    },
    {
     "name": "stderr",
     "output_type": "stream",
     "text": [
      "Info: Params [1.13428044 0.84040909 4.18586268 1.86640167 1.41439764 0.28915071\n",
      " 0.27109536] gave 584.6286508753162\n"
     ]
    },
    {
     "name": "stdout",
     "output_type": "stream",
     "text": [
      "19\n"
     ]
    },
    {
     "name": "stderr",
     "output_type": "stream",
     "text": [
      "Info: Params [ 0.4709572   0.40584203  0.71101013 -0.1490908   1.24973055  0.15151654\n",
      "  0.25080118] gave 1293.8202599955405\n"
     ]
    },
    {
     "name": "stdout",
     "output_type": "stream",
     "text": [
      "20\n"
     ]
    },
    {
     "name": "stderr",
     "output_type": "stream",
     "text": [
      "Info: Params [ 2.32472411  1.29228962  5.15118957 -3.17010537  0.69450848  0.33502208\n",
      "  0.43280235] gave 106.79994939621\n"
     ]
    },
    {
     "name": "stdout",
     "output_type": "stream",
     "text": [
      "21\n"
     ]
    },
    {
     "name": "stderr",
     "output_type": "stream",
     "text": [
      "Info: Params [1.97784541 1.20635209 4.66191763 1.53880325 1.71434137 0.29223943\n",
      " 0.33554399] gave 324.2311051101402\n"
     ]
    },
    {
     "name": "stdout",
     "output_type": "stream",
     "text": [
      "22\n"
     ]
    },
    {
     "name": "stderr",
     "output_type": "stream",
     "text": [
      "Info: Params [1.09629862 0.66831979 3.18812917 0.25102454 1.05565103 0.3441533\n",
      " 0.42920273] gave 741.143837640485\n"
     ]
    },
    {
     "name": "stdout",
     "output_type": "stream",
     "text": [
      "23\n"
     ]
    },
    {
     "name": "stderr",
     "output_type": "stream",
     "text": [
      "Info: Params [1.23336374 0.55322836 3.58444123 0.74300639 1.92456063 0.37545934\n",
      " 0.36420822] gave 849.0863249896602\n"
     ]
    },
    {
     "name": "stdout",
     "output_type": "stream",
     "text": [
      "24\n"
     ]
    },
    {
     "name": "stderr",
     "output_type": "stream",
     "text": [
      "Info: Params [0.98524959 1.14290452 2.99186524 1.63509316 1.74099531 0.25084883\n",
      " 0.30485209] gave 698.3492896052708\n"
     ]
    },
    {
     "name": "stdout",
     "output_type": "stream",
     "text": [
      "25\n"
     ]
    },
    {
     "name": "stderr",
     "output_type": "stream",
     "text": [
      "Info: Params [2.40664759 1.22867237 7.6352272  1.61890667 1.75726639 0.44862928\n",
      " 0.41245524] gave 173.00733227957937\n"
     ]
    },
    {
     "name": "stdout",
     "output_type": "stream",
     "text": [
      "26\n"
     ]
    },
    {
     "name": "stderr",
     "output_type": "stream",
     "text": [
      "Info: Params [ 1.02378195  1.03902153 14.61252563  1.90613335  1.71996709  0.30765431\n",
      "  0.5185714 ] gave 216.86455208002764\n"
     ]
    },
    {
     "name": "stdout",
     "output_type": "stream",
     "text": [
      "27\n"
     ]
    },
    {
     "name": "stderr",
     "output_type": "stream",
     "text": [
      "Info: Params [ 1.77459724  1.34985102  4.26729052 -3.73275285  0.61098294  0.4551379\n",
      "  0.57489636] gave 122.36194018992045\n"
     ]
    },
    {
     "name": "stdout",
     "output_type": "stream",
     "text": [
      "28\n"
     ]
    },
    {
     "name": "stderr",
     "output_type": "stream",
     "text": [
      "Info: Params [1.58491784 1.87297021 9.88263675 2.6703527  1.70460286 0.28345638\n",
      " 0.35595206] gave -145.23366751343326\n"
     ]
    },
    {
     "name": "stdout",
     "output_type": "stream",
     "text": [
      "29\n"
     ]
    },
    {
     "name": "stderr",
     "output_type": "stream",
     "text": [
      "Info: Params [ 0.79555652  0.53848463  2.01400385 -0.00711081  1.16110093  0.43944954\n",
      "  0.68351371] gave 997.7013932698915\n"
     ]
    },
    {
     "name": "stdout",
     "output_type": "stream",
     "text": [
      "30\n"
     ]
    },
    {
     "name": "stderr",
     "output_type": "stream",
     "text": [
      "Info: Params [1.22583243 1.39439996 4.32319932 2.69685883 0.9759326  0.27453526\n",
      " 0.39534375] gave 204.5721919548585\n"
     ]
    },
    {
     "name": "stdout",
     "output_type": "stream",
     "text": [
      "31\n"
     ]
    },
    {
     "name": "stderr",
     "output_type": "stream",
     "text": [
      "Info: Params [1.50510869 1.33061756 2.40199522 1.20297667 1.57386109 0.29375022\n",
      " 0.29507436] gave 539.5252933902062\n"
     ]
    },
    {
     "name": "stdout",
     "output_type": "stream",
     "text": [
      "32\n"
     ]
    },
    {
     "name": "stderr",
     "output_type": "stream",
     "text": [
      "Info: Params [1.74888299 1.2687172  4.51814356 0.87321616 1.09862539 0.32788973\n",
      " 0.45419403] gave 270.8563349358012\n"
     ]
    },
    {
     "name": "stdout",
     "output_type": "stream",
     "text": [
      "33\n"
     ]
    },
    {
     "name": "stderr",
     "output_type": "stream",
     "text": [
      "Info: Params [0.38518078 1.55564087 8.40197155 1.8875053  1.88891285 0.15169545\n",
      " 0.34951009] gave 262.440883563529\n"
     ]
    },
    {
     "name": "stdout",
     "output_type": "stream",
     "text": [
      "34\n"
     ]
    },
    {
     "name": "stderr",
     "output_type": "stream",
     "text": [
      "Info: Params [ 1.32615487  1.72692882 12.51598869  3.28895907  1.07950343  0.29120628\n",
      "  0.3201602 ] gave -149.5981031409283\n"
     ]
    },
    {
     "name": "stdout",
     "output_type": "stream",
     "text": [
      "35\n"
     ]
    },
    {
     "name": "stderr",
     "output_type": "stream",
     "text": [
      "Info: Params [ 1.8049138   0.99296919 14.97209147  1.95187086  1.34529539  0.39134082\n",
      "  0.41511077] gave 66.28988137654684\n"
     ]
    },
    {
     "name": "stdout",
     "output_type": "stream",
     "text": [
      "36\n"
     ]
    },
    {
     "name": "stderr",
     "output_type": "stream",
     "text": [
      "Info: Params [1.15044969 1.26863472 3.44340335 1.43032791 1.53679005 0.22251305\n",
      " 0.2801715 ] gave 537.3079039440801\n"
     ]
    },
    {
     "name": "stdout",
     "output_type": "stream",
     "text": [
      "37\n"
     ]
    },
    {
     "name": "stderr",
     "output_type": "stream",
     "text": [
      "Info: Params [ 1.58947862  1.905437   12.25057517  4.06774433  1.69454235  0.26856367\n",
      "  0.35868162] gave -91.61531309737917\n"
     ]
    },
    {
     "name": "stdout",
     "output_type": "stream",
     "text": [
      "38\n"
     ]
    },
    {
     "name": "stderr",
     "output_type": "stream",
     "text": [
      "Info: Params [1.90631413 1.8752199  8.92058409 2.94876155 1.38551661 0.28703363\n",
      " 0.41650168] gave -121.15612233034942\n"
     ]
    },
    {
     "name": "stdout",
     "output_type": "stream",
     "text": [
      "39\n"
     ]
    },
    {
     "name": "stderr",
     "output_type": "stream",
     "text": [
      "Info: Params [0.85279622 0.64956936 5.73220906 0.4450248  2.17460439 0.24063284\n",
      " 0.2253518 ] gave 633.7111364431773\n"
     ]
    },
    {
     "name": "stdout",
     "output_type": "stream",
     "text": [
      "40\n"
     ]
    },
    {
     "name": "stderr",
     "output_type": "stream",
     "text": [
      "Info: Params [2.35171629 1.05044283 5.33039504 0.95867544 1.47965007 0.30721825\n",
      " 0.40522224] gave 291.8056270547753\n"
     ]
    },
    {
     "name": "stdout",
     "output_type": "stream",
     "text": [
      "41\n"
     ]
    },
    {
     "name": "stderr",
     "output_type": "stream",
     "text": [
      "Info: Params [ 1.55992921  1.09694405  5.55188621 -1.99936738  0.815721    0.33621905\n",
      "  0.4045274 ] gave 352.12765652681094\n"
     ]
    },
    {
     "name": "stdout",
     "output_type": "stream",
     "text": [
      "42\n"
     ]
    },
    {
     "name": "stderr",
     "output_type": "stream",
     "text": [
      "Info: Params [1.24435605 0.88990116 4.87764309 1.74788624 1.38763433 0.30780618\n",
      " 0.32384884] gave 489.6272632777616\n"
     ]
    },
    {
     "name": "stdout",
     "output_type": "stream",
     "text": [
      "43\n"
     ]
    },
    {
     "name": "stderr",
     "output_type": "stream",
     "text": [
      "Info: Params [0.68802102 0.60006018 4.18662664 0.99769111 1.92640952 0.20813363\n",
      " 0.10921667] gave 880.73622612994\n"
     ]
    },
    {
     "name": "stdout",
     "output_type": "stream",
     "text": [
      "44\n"
     ]
    },
    {
     "name": "stderr",
     "output_type": "stream",
     "text": [
      "Info: Params [ 2.1262082   1.31014371 -0.4872763  -6.17385237  0.59110709  0.38688938\n",
      "  0.42971055] gave 359.64663289988465\n"
     ]
    },
    {
     "name": "stdout",
     "output_type": "stream",
     "text": [
      "45\n"
     ]
    },
    {
     "name": "stderr",
     "output_type": "stream",
     "text": [
      "Info: Params [1.19381827 1.32674232 4.66285068 1.88760332 1.54403443 0.30663324\n",
      " 0.30122446] gave 370.50239444843476\n"
     ]
    },
    {
     "name": "stdout",
     "output_type": "stream",
     "text": [
      "46\n"
     ]
    },
    {
     "name": "stderr",
     "output_type": "stream",
     "text": [
      "Info: Params [1.72126992 0.89367685 4.95222253 0.73589797 2.05153686 0.21558972\n",
      " 0.35478809] gave 573.5206809085946\n"
     ]
    },
    {
     "name": "stdout",
     "output_type": "stream",
     "text": [
      "           1    2    3    4    5    6    7    8    9    10  ...   38   39  \\\n",
      "Accuracy  1.0  1.0  1.0  1.0  1.0  1.0  1.0  1.0  1.0  1.0  ...  1.0  1.0   \n",
      "Speed     1.0  1.0  1.0  1.0  1.0  1.0  1.0  1.0  1.0  1.0  ...  1.0  1.0   \n",
      "\n",
      "           40   41   42   43   44   45   46   47  \n",
      "Accuracy  1.0  1.0  1.0  1.0  1.0  1.0  1.0  1.0  \n",
      "Speed     1.0  1.0  1.0  1.0  1.0  1.0  1.0  1.0  \n",
      "\n",
      "[2 rows x 47 columns]\n"
     ]
    }
   ],
   "source": [
    "data_dir = \"/Users/wangjiashun/Desktop/Reserach on SAT/datasets/transformed/Evans2017/sub\"\n",
    "sample_size = 47\n",
    "\n",
    "df_all = pd.DataFrame()\n",
    "valid_ratio_dfs = pd.DataFrame()\n",
    "\n",
    "for i in range(sample_size):\n",
    "    print(i)\n",
    "    path = os.path.join(data_dir+str(i+1)+\".csv\")\n",
    "    df = pd.read_csv(path, sep = \",\")\n",
    "    \n",
    "    counts_before = df['Cond'].value_counts()\n",
    "    df = df[df[\"Time\"]<5]\n",
    "    counts_after = df['Cond'].value_counts()\n",
    "    valid_ratio = counts_before/counts_after\n",
    "    valid_ratio_df = valid_ratio.to_frame(i+1)\n",
    "    valid_ratio_dfs = pd.concat((valid_ratio_dfs,valid_ratio_df), axis = 1)\n",
    "    \n",
    "    samp = Sample.from_pandas_dataframe(df, rt_column_name=\"Time\", choice_column_name=\"Correct\")\n",
    "    df = get_OUM_result_sub_2v2k2ter(samp)\n",
    "    df_all = pd.concat((df_all,df))\n",
    "    \n",
    "df_OUM = df_all.copy()\n",
    "df_OUM.to_csv(\"Parameter Estimates/OUM2v2k2terresultEvans2017.csv\")\n",
    "print(valid_ratio_dfs)"
   ]
  },
  {
   "cell_type": "code",
   "execution_count": null,
   "id": "37140e6d",
   "metadata": {},
   "outputs": [],
   "source": []
  },
  {
   "cell_type": "code",
   "execution_count": 3,
   "id": "11deb9df",
   "metadata": {},
   "outputs": [
    {
     "name": "stderr",
     "output_type": "stream",
     "text": [
      "Warning: dt is large.  Estimated pdfs may be imprecise.  Decrease dt to 0.01 or less.\n"
     ]
    },
    {
     "name": "stdout",
     "output_type": "stream",
     "text": [
      "0\n"
     ]
    },
    {
     "name": "stderr",
     "output_type": "stream",
     "text": [
      "Info: Params [ 0.31460561  0.19366681 -3.0653141  -7.75756747  0.81514458  0.86826948\n",
      "  0.93592169] gave 1012.5283996746301\n",
      "Warning: dt is large.  Estimated pdfs may be imprecise.  Decrease dt to 0.01 or less.\n"
     ]
    },
    {
     "name": "stdout",
     "output_type": "stream",
     "text": [
      "1\n"
     ]
    },
    {
     "name": "stderr",
     "output_type": "stream",
     "text": [
      "Info: Params [ 0.40597069  0.27168492 -1.91547387 -2.37383393  1.23167728  0.96577036\n",
      "  0.82044368] gave 1103.1123611873834\n",
      "Warning: dt is large.  Estimated pdfs may be imprecise.  Decrease dt to 0.01 or less.\n"
     ]
    },
    {
     "name": "stdout",
     "output_type": "stream",
     "text": [
      "2\n"
     ]
    },
    {
     "name": "stderr",
     "output_type": "stream",
     "text": [
      "Info: Params [ 0.          0.04441663 -3.93360225 -5.18876045  0.63620266  0.11443962\n",
      "  0.46966912] gave 474.4139467797416\n",
      "Warning: dt is large.  Estimated pdfs may be imprecise.  Decrease dt to 0.01 or less.\n"
     ]
    },
    {
     "name": "stdout",
     "output_type": "stream",
     "text": [
      "3\n"
     ]
    },
    {
     "name": "stderr",
     "output_type": "stream",
     "text": [
      "Info: Params [ 0.1230993   0.12828055 -2.7269847  -3.59113238  0.88631067  0.15186775\n",
      "  0.92310005] gave 849.7594587930984\n",
      "Warning: dt is large.  Estimated pdfs may be imprecise.  Decrease dt to 0.01 or less.\n"
     ]
    },
    {
     "name": "stdout",
     "output_type": "stream",
     "text": [
      "4\n"
     ]
    },
    {
     "name": "stderr",
     "output_type": "stream",
     "text": [
      "Info: Params [  0.36647258   0.33672536 -10.27556193 -11.48900949   0.69609279\n",
      "   0.96444114   0.86314943] gave 1203.295132990765\n",
      "Warning: dt is large.  Estimated pdfs may be imprecise.  Decrease dt to 0.01 or less.\n"
     ]
    },
    {
     "name": "stdout",
     "output_type": "stream",
     "text": [
      "5\n"
     ]
    },
    {
     "name": "stderr",
     "output_type": "stream",
     "text": [
      "Info: Params [ 0.30964077  0.14144006  2.07526323 -0.20359013  2.5546682   0.70902845\n",
      "  0.95206939] gave 898.8744768307849\n",
      "Warning: dt is large.  Estimated pdfs may be imprecise.  Decrease dt to 0.01 or less.\n"
     ]
    },
    {
     "name": "stdout",
     "output_type": "stream",
     "text": [
      "6\n"
     ]
    },
    {
     "name": "stderr",
     "output_type": "stream",
     "text": [
      "Info: Params [0.2710588  0.26191592 3.85576783 0.49518482 2.32356869 0.29795671\n",
      " 0.9776656 ] gave 580.7747796131391\n",
      "Warning: dt is large.  Estimated pdfs may be imprecise.  Decrease dt to 0.01 or less.\n"
     ]
    },
    {
     "name": "stdout",
     "output_type": "stream",
     "text": [
      "7\n"
     ]
    },
    {
     "name": "stderr",
     "output_type": "stream",
     "text": [
      "Info: Params [0.32316863 0.30324361 3.83110992 0.72174633 3.56074145 0.4050995\n",
      " 0.15482524] gave 552.0944227142986\n",
      "Warning: dt is large.  Estimated pdfs may be imprecise.  Decrease dt to 0.01 or less.\n"
     ]
    },
    {
     "name": "stdout",
     "output_type": "stream",
     "text": [
      "8\n"
     ]
    },
    {
     "name": "stderr",
     "output_type": "stream",
     "text": [
      "Info: Params [ 0.          0.03495637 -0.45820256 -5.27779377  0.72929215  0.22763471\n",
      "  0.10262875] gave 595.7781371328741\n",
      "Warning: dt is large.  Estimated pdfs may be imprecise.  Decrease dt to 0.01 or less.\n"
     ]
    },
    {
     "name": "stdout",
     "output_type": "stream",
     "text": [
      "9\n"
     ]
    },
    {
     "name": "stderr",
     "output_type": "stream",
     "text": [
      "Info: Params [ 2.30149915e-03  1.71013177e-01 -4.05451363e+00 -4.84507662e+00\n",
      "  8.34678599e-01  2.46000244e-01  2.08405846e-01] gave 932.8246471548706\n",
      "Warning: dt is large.  Estimated pdfs may be imprecise.  Decrease dt to 0.01 or less.\n"
     ]
    },
    {
     "name": "stdout",
     "output_type": "stream",
     "text": [
      "10\n"
     ]
    },
    {
     "name": "stderr",
     "output_type": "stream",
     "text": [
      "Info: Params [0.81188166 0.22146933 2.28925667 0.20413138 5.97361917 0.60664448\n",
      " 0.79015193] gave 760.1730351523364\n",
      "Warning: dt is large.  Estimated pdfs may be imprecise.  Decrease dt to 0.01 or less.\n"
     ]
    },
    {
     "name": "stdout",
     "output_type": "stream",
     "text": [
      "11\n"
     ]
    },
    {
     "name": "stderr",
     "output_type": "stream",
     "text": [
      "Info: Params [ 0.          0.18727016  3.15867921 -3.73961452  1.15863424  0.35660839\n",
      "  0.95834206] gave 801.7260807228429\n",
      "Warning: dt is large.  Estimated pdfs may be imprecise.  Decrease dt to 0.01 or less.\n"
     ]
    },
    {
     "name": "stdout",
     "output_type": "stream",
     "text": [
      "12\n"
     ]
    },
    {
     "name": "stderr",
     "output_type": "stream",
     "text": [
      "Info: Params [0.29451359 0.2806591  1.88782806 0.44170189 2.33810314 0.64884666\n",
      " 0.97645228] gave 667.0386171974786\n",
      "Warning: dt is large.  Estimated pdfs may be imprecise.  Decrease dt to 0.01 or less.\n"
     ]
    },
    {
     "name": "stdout",
     "output_type": "stream",
     "text": [
      "13\n"
     ]
    },
    {
     "name": "stderr",
     "output_type": "stream",
     "text": [
      "Info: Params [  0.28685922   0.56192789  -7.0726936  -12.71067042   0.67163477\n",
      "   0.96518756   0.92901553] gave 1000.6958718433086\n",
      "Warning: dt is large.  Estimated pdfs may be imprecise.  Decrease dt to 0.01 or less.\n"
     ]
    },
    {
     "name": "stdout",
     "output_type": "stream",
     "text": [
      "14\n"
     ]
    },
    {
     "name": "stderr",
     "output_type": "stream",
     "text": [
      "Info: Params [  0.1346976    0.41845623  -5.05165526 -11.11731622   0.68025056\n",
      "   0.24574376   0.98118927] gave 933.4851108164565\n",
      "Warning: dt is large.  Estimated pdfs may be imprecise.  Decrease dt to 0.01 or less.\n"
     ]
    },
    {
     "name": "stdout",
     "output_type": "stream",
     "text": [
      "15\n"
     ]
    },
    {
     "name": "stderr",
     "output_type": "stream",
     "text": [
      "Info: Params [0.         0.10352958 2.31419227 0.10883042 5.96222602 0.29059826\n",
      " 0.92858623] gave 866.4409902068048\n",
      "Warning: dt is large.  Estimated pdfs may be imprecise.  Decrease dt to 0.01 or less.\n"
     ]
    },
    {
     "name": "stdout",
     "output_type": "stream",
     "text": [
      "16\n"
     ]
    },
    {
     "name": "stderr",
     "output_type": "stream",
     "text": [
      "Info: Params [0.29023882 0.25149899 0.9858452  0.76272579 2.61881272 0.13109739\n",
      " 0.98915346] gave 725.0388469172398\n",
      "Warning: dt is large.  Estimated pdfs may be imprecise.  Decrease dt to 0.01 or less.\n"
     ]
    },
    {
     "name": "stdout",
     "output_type": "stream",
     "text": [
      "17\n"
     ]
    },
    {
     "name": "stderr",
     "output_type": "stream",
     "text": [
      "Info: Params [0.27307524 0.14598637 2.62571436 0.1541119  2.10204839 0.17746578\n",
      " 0.14396659] gave 680.9312648721505\n",
      "Warning: dt is large.  Estimated pdfs may be imprecise.  Decrease dt to 0.01 or less.\n"
     ]
    },
    {
     "name": "stdout",
     "output_type": "stream",
     "text": [
      "18\n"
     ]
    },
    {
     "name": "stderr",
     "output_type": "stream",
     "text": [
      "Info: Params [0.24063284 0.12586776 0.79345061 0.38711652 2.73654025 0.55125418\n",
      " 0.67636468] gave 828.5955376343952\n",
      "Warning: dt is large.  Estimated pdfs may be imprecise.  Decrease dt to 0.01 or less.\n"
     ]
    },
    {
     "name": "stdout",
     "output_type": "stream",
     "text": [
      "19\n"
     ]
    },
    {
     "name": "stderr",
     "output_type": "stream",
     "text": [
      "Info: Params [ 0.2506965   0.36920638  0.91426321 -1.85990966  1.51895717  0.73841707\n",
      "  0.93131023] gave 969.9539339128156\n",
      "Warning: dt is large.  Estimated pdfs may be imprecise.  Decrease dt to 0.01 or less.\n"
     ]
    },
    {
     "name": "stdout",
     "output_type": "stream",
     "text": [
      "20\n"
     ]
    },
    {
     "name": "stderr",
     "output_type": "stream",
     "text": [
      "Info: Params [0.24918953 0.16195427 0.79642347 1.29243029 2.80165445 0.12607188\n",
      " 0.6843341 ] gave 677.9469371487936\n",
      "Warning: dt is large.  Estimated pdfs may be imprecise.  Decrease dt to 0.01 or less.\n"
     ]
    },
    {
     "name": "stdout",
     "output_type": "stream",
     "text": [
      "21\n"
     ]
    },
    {
     "name": "stderr",
     "output_type": "stream",
     "text": [
      "Info: Params [0.         0.0392296  1.78563562 2.05089892 1.98504965 0.10232834\n",
      " 0.44888225] gave 497.09695781489864\n",
      "Warning: dt is large.  Estimated pdfs may be imprecise.  Decrease dt to 0.01 or less.\n"
     ]
    },
    {
     "name": "stdout",
     "output_type": "stream",
     "text": [
      "22\n"
     ]
    },
    {
     "name": "stderr",
     "output_type": "stream",
     "text": [
      "Info: Params [ 0.26956843  0.25030151  2.75553136 -2.61789609  1.08197583  0.34559341\n",
      "  0.99079506] gave 684.0957252726013\n",
      "Warning: dt is large.  Estimated pdfs may be imprecise.  Decrease dt to 0.01 or less.\n"
     ]
    },
    {
     "name": "stdout",
     "output_type": "stream",
     "text": [
      "23\n"
     ]
    },
    {
     "name": "stderr",
     "output_type": "stream",
     "text": [
      "Info: Params [  0.37349091   0.3909954  -10.38468273 -11.3199518    0.68671851\n",
      "   0.9366849    0.96058122] gave 1171.9076220831628\n",
      "Warning: dt is large.  Estimated pdfs may be imprecise.  Decrease dt to 0.01 or less.\n"
     ]
    },
    {
     "name": "stdout",
     "output_type": "stream",
     "text": [
      "24\n"
     ]
    },
    {
     "name": "stderr",
     "output_type": "stream",
     "text": [
      "Info: Params [0.48314802 0.05496244 8.11083705 2.48086067 3.33013689 0.31188813\n",
      " 0.31333363] gave 310.6074895889778\n",
      "Warning: dt is large.  Estimated pdfs may be imprecise.  Decrease dt to 0.01 or less.\n"
     ]
    },
    {
     "name": "stdout",
     "output_type": "stream",
     "text": [
      "25\n"
     ]
    },
    {
     "name": "stderr",
     "output_type": "stream",
     "text": [
      "Info: Params [  0.32712754   0.36587568  -3.23405617 -14.28914518   0.62663177\n",
      "   0.46862419   0.11814359] gave 827.6294728278589\n",
      "Warning: dt is large.  Estimated pdfs may be imprecise.  Decrease dt to 0.01 or less.\n"
     ]
    },
    {
     "name": "stdout",
     "output_type": "stream",
     "text": [
      "26\n"
     ]
    },
    {
     "name": "stderr",
     "output_type": "stream",
     "text": [
      "Info: Params [ 0.19786778  0.18330452  0.95983351 -0.2109351   2.20503364  0.41592592\n",
      "  0.93582776] gave 902.0104089367502\n",
      "Warning: dt is large.  Estimated pdfs may be imprecise.  Decrease dt to 0.01 or less.\n"
     ]
    },
    {
     "name": "stdout",
     "output_type": "stream",
     "text": [
      "27\n"
     ]
    },
    {
     "name": "stderr",
     "output_type": "stream",
     "text": [
      "Info: Params [  0.26773969   0.53481212  -7.59668218 -12.97369615   0.66291764\n",
      "   0.10278382   0.98936213] gave 1041.0267999971027\n",
      "Warning: dt is large.  Estimated pdfs may be imprecise.  Decrease dt to 0.01 or less.\n"
     ]
    },
    {
     "name": "stdout",
     "output_type": "stream",
     "text": [
      "28\n"
     ]
    },
    {
     "name": "stderr",
     "output_type": "stream",
     "text": [
      "Info: Params [ 0.17715537  0.2899863  -5.94191876 -9.33775698  0.78803407  0.95142362\n",
      "  0.71587143] gave 1172.5429207136906\n",
      "Warning: dt is large.  Estimated pdfs may be imprecise.  Decrease dt to 0.01 or less.\n"
     ]
    },
    {
     "name": "stdout",
     "output_type": "stream",
     "text": [
      "29\n"
     ]
    },
    {
     "name": "stderr",
     "output_type": "stream",
     "text": [
      "Info: Params [ 0.27505213  0.26509748 -4.04731283 -3.60839856  0.98059282  0.85820939\n",
      "  0.98278893] gave 1105.3721660198864\n",
      "Warning: dt is large.  Estimated pdfs may be imprecise.  Decrease dt to 0.01 or less.\n"
     ]
    },
    {
     "name": "stdout",
     "output_type": "stream",
     "text": [
      "30\n"
     ]
    },
    {
     "name": "stderr",
     "output_type": "stream",
     "text": [
      "Info: Params [ 0.0998529   0.36783606  2.35276063 -3.11187676  0.96462188  0.13034261\n",
      "  0.97566291] gave 627.9784918511508\n",
      "Warning: dt is large.  Estimated pdfs may be imprecise.  Decrease dt to 0.01 or less.\n"
     ]
    },
    {
     "name": "stdout",
     "output_type": "stream",
     "text": [
      "31\n"
     ]
    },
    {
     "name": "stderr",
     "output_type": "stream",
     "text": [
      "Info: Params [ 0.24062196  0.31303496 -3.01257623 -6.60266165  0.85679881  0.14765907\n",
      "  0.53091157] gave 1003.8084806040671\n",
      "Warning: dt is large.  Estimated pdfs may be imprecise.  Decrease dt to 0.01 or less.\n"
     ]
    },
    {
     "name": "stdout",
     "output_type": "stream",
     "text": [
      "32\n"
     ]
    },
    {
     "name": "stderr",
     "output_type": "stream",
     "text": [
      "Info: Params [  0.           0.8644413   -2.02389676 -14.8383079    0.54236325\n",
      "   0.11075303   0.77010542] gave 527.7268598230836\n",
      "Warning: dt is large.  Estimated pdfs may be imprecise.  Decrease dt to 0.01 or less.\n"
     ]
    },
    {
     "name": "stdout",
     "output_type": "stream",
     "text": [
      "33\n"
     ]
    },
    {
     "name": "stderr",
     "output_type": "stream",
     "text": [
      "Info: Params [0.04581879 0.11754303 1.97591209 0.67850062 2.71010067 0.12251155\n",
      " 0.95541715] gave 673.4691568029152\n",
      "Warning: dt is large.  Estimated pdfs may be imprecise.  Decrease dt to 0.01 or less.\n"
     ]
    },
    {
     "name": "stdout",
     "output_type": "stream",
     "text": [
      "34\n"
     ]
    },
    {
     "name": "stderr",
     "output_type": "stream",
     "text": [
      "Info: Params [ 0.27201208  0.44679713 -0.34548922 -2.29901602  1.29143808  0.83233395\n",
      "  0.95196211] gave 956.5694849588622\n",
      "Warning: dt is large.  Estimated pdfs may be imprecise.  Decrease dt to 0.01 or less.\n"
     ]
    },
    {
     "name": "stdout",
     "output_type": "stream",
     "text": [
      "35\n"
     ]
    },
    {
     "name": "stderr",
     "output_type": "stream",
     "text": [
      "Info: Params [  0.81598001   0.59260665  -9.6626673  -11.27428658   0.70265791\n",
      "   0.99489103   0.97849937] gave 1085.7169771977462\n",
      "Warning: dt is large.  Estimated pdfs may be imprecise.  Decrease dt to 0.01 or less.\n"
     ]
    },
    {
     "name": "stdout",
     "output_type": "stream",
     "text": [
      "36\n"
     ]
    },
    {
     "name": "stderr",
     "output_type": "stream",
     "text": [
      "Info: Params [0.14163095 0.13958159 0.85484023 1.17505668 5.30331507 0.23764518\n",
      " 0.93439974] gave 709.1381940345891\n",
      "Warning: dt is large.  Estimated pdfs may be imprecise.  Decrease dt to 0.01 or less.\n"
     ]
    },
    {
     "name": "stdout",
     "output_type": "stream",
     "text": [
      "37\n"
     ]
    },
    {
     "name": "stderr",
     "output_type": "stream",
     "text": [
      "Info: Params [  0.50276405   0.39976744  -8.9621491  -14.68037728   0.63927522\n",
      "   0.13696488   0.99482547] gave 1018.803290036388\n"
     ]
    },
    {
     "name": "stdout",
     "output_type": "stream",
     "text": [
      "           1    2    3    4         5    6    7    8    9    10  ...  \\\n",
      "Accuracy  1.0  1.0  1.0  1.0  1.037975  1.0  1.0  1.0  1.0  1.0  ...   \n",
      "Speed     1.0  1.0  1.0  1.0  1.000000  1.0  1.0  1.0  1.0  1.0  ...   \n",
      "\n",
      "                29   30   31        32   33   34   35        36   37        38  \n",
      "Accuracy  1.051282  1.0  1.0  1.012346  1.0  1.0  1.0  1.012346  1.0  1.078947  \n",
      "Speed     1.000000  1.0  1.0  1.000000  1.0  1.0  1.0  1.000000  1.0  1.000000  \n",
      "\n",
      "[2 rows x 38 columns]\n"
     ]
    }
   ],
   "source": [
    "data_dir = \"/Users/wangjiashun/Desktop/Reserach on SAT/datasets/transformed/Lerche2017/sub\"\n",
    "sample_size = 38\n",
    "\n",
    "df_all = pd.DataFrame()\n",
    "valid_ratio_dfs = pd.DataFrame()\n",
    "\n",
    "for i in range(sample_size):\n",
    "    print(i)\n",
    "    path = os.path.join(data_dir+str(i+1)+\".csv\")\n",
    "    df = pd.read_csv(path, sep = \",\")\n",
    "    \n",
    "    counts_before = df['Cond'].value_counts()\n",
    "    df = df[df[\"Time\"]<30]\n",
    "    counts_after = df['Cond'].value_counts()\n",
    "    valid_ratio = counts_before/counts_after\n",
    "    valid_ratio_df = valid_ratio.to_frame(i+1)\n",
    "    valid_ratio_dfs = pd.concat((valid_ratio_dfs,valid_ratio_df), axis = 1)\n",
    "    \n",
    "    samp = Sample.from_pandas_dataframe(df, rt_column_name=\"Time\", choice_column_name=\"Correct\")\n",
    "    df = get_OUM_result_sub_2v2k2ter(samp,dt=0.05,T_dur=30)\n",
    "    df_all = pd.concat((df_all,df))\n",
    "    \n",
    "df_OUM = df_all.copy()\n",
    "df_OUM.to_csv(\"Parameter Estimates/OUM2v2k2terresultLerche2017.csv\")\n",
    "print(valid_ratio_dfs)"
   ]
  },
  {
   "cell_type": "code",
   "execution_count": 10,
   "id": "c63aea59",
   "metadata": {},
   "outputs": [
    {
     "name": "stdout",
     "output_type": "stream",
     "text": [
      "0\n"
     ]
    },
    {
     "name": "stderr",
     "output_type": "stream",
     "text": [
      "Info: Params [1.39689374 2.03266788 9.1421106  7.13197273 2.31398696 0.17116225\n",
      " 0.23898751] gave -1155.3446103453173\n"
     ]
    },
    {
     "name": "stdout",
     "output_type": "stream",
     "text": [
      "1\n"
     ]
    },
    {
     "name": "stderr",
     "output_type": "stream",
     "text": [
      "Info: Params [ 1.08965967  2.10079224 15.         13.37616035  5.71939498  0.16449855\n",
      "  0.21098966] gave -2506.0748151822645\n"
     ]
    },
    {
     "name": "stdout",
     "output_type": "stream",
     "text": [
      "2\n"
     ]
    },
    {
     "name": "stderr",
     "output_type": "stream",
     "text": [
      "Info: Params [0.16488342 0.31213074 8.41724395 8.43847325 1.58778701 0.10093672\n",
      " 0.14280651] gave -416.7787386958073\n"
     ]
    },
    {
     "name": "stdout",
     "output_type": "stream",
     "text": [
      "3\n"
     ]
    },
    {
     "name": "stderr",
     "output_type": "stream",
     "text": [
      "Info: Params [ 2.48586325  2.87110542 14.9931151  14.41216147  2.18060305  0.24317858\n",
      "  0.26636497] gave -3872.8562545545997\n"
     ]
    },
    {
     "name": "stdout",
     "output_type": "stream",
     "text": [
      "4\n"
     ]
    },
    {
     "name": "stderr",
     "output_type": "stream",
     "text": [
      "Info: Params [ 0.27645881  0.55114786 11.92525285  9.64669661  2.82054927  0.10372671\n",
      "  0.11115286] gave -284.9662005828435\n"
     ]
    },
    {
     "name": "stdout",
     "output_type": "stream",
     "text": [
      "5\n"
     ]
    },
    {
     "name": "stderr",
     "output_type": "stream",
     "text": [
      "Info: Params [ 2.12919367  2.72278608 14.87618975 15.          2.33248671  0.21385563\n",
      "  0.24813238] gave -1852.9391139101542\n"
     ]
    },
    {
     "name": "stdout",
     "output_type": "stream",
     "text": [
      "6\n"
     ]
    },
    {
     "name": "stderr",
     "output_type": "stream",
     "text": [
      "Info: Params [ 1.62664332  1.9080942  14.67759149 12.40489592  2.21182243  0.22258269\n",
      "  0.25156313] gave -3053.362369046271\n"
     ]
    },
    {
     "name": "stdout",
     "output_type": "stream",
     "text": [
      "7\n"
     ]
    },
    {
     "name": "stderr",
     "output_type": "stream",
     "text": [
      "Info: Params [ 1.76626975  1.88118591 13.95402945  4.36337516  0.9355476   0.24395724\n",
      "  0.26998943] gave -1975.5115638898612\n"
     ]
    },
    {
     "name": "stdout",
     "output_type": "stream",
     "text": [
      "8\n"
     ]
    },
    {
     "name": "stderr",
     "output_type": "stream",
     "text": [
      "Info: Params [ 2.06576575  2.56842497 14.83686574 13.7879653   5.76941455  0.2025089\n",
      "  0.22598165] gave -1468.2524642184605\n"
     ]
    },
    {
     "name": "stdout",
     "output_type": "stream",
     "text": [
      "9\n"
     ]
    },
    {
     "name": "stderr",
     "output_type": "stream",
     "text": [
      "Info: Params [ 1.15998516  1.76982433 14.56986163 11.81930875  3.16231649  0.17694637\n",
      "  0.19380932] gave -2170.5269978223687\n"
     ]
    },
    {
     "name": "stdout",
     "output_type": "stream",
     "text": [
      "10\n"
     ]
    },
    {
     "name": "stderr",
     "output_type": "stream",
     "text": [
      "Info: Params [ 0.1103621   0.13577383 10.55071703  8.45116666  1.64942078  0.1102707\n",
      "  0.10412585] gave -465.870352979401\n"
     ]
    },
    {
     "name": "stdout",
     "output_type": "stream",
     "text": [
      "11\n"
     ]
    },
    {
     "name": "stderr",
     "output_type": "stream",
     "text": [
      "Info: Params [0.72785928 1.34939849 9.61953304 3.52277366 1.12139916 0.19214658\n",
      " 0.24495188] gave -271.41465807242616\n"
     ]
    },
    {
     "name": "stdout",
     "output_type": "stream",
     "text": [
      "12\n"
     ]
    },
    {
     "name": "stderr",
     "output_type": "stream",
     "text": [
      "Info: Params [0.3126249  1.02837551 9.24221299 8.5347812  2.25571333 0.10823238\n",
      " 0.1682962 ] gave -496.0265172718076\n"
     ]
    },
    {
     "name": "stdout",
     "output_type": "stream",
     "text": [
      "13\n"
     ]
    },
    {
     "name": "stderr",
     "output_type": "stream",
     "text": [
      "Info: Params [0.         0.57693575 9.84623129 3.43196068 0.55245736 0.17676865\n",
      " 0.17373391] gave -302.05185096899237\n"
     ]
    },
    {
     "name": "stdout",
     "output_type": "stream",
     "text": [
      "14\n"
     ]
    },
    {
     "name": "stderr",
     "output_type": "stream",
     "text": [
      "Info: Params [ 1.33408303  1.40537519 10.31602718  9.67937269  2.62351075  0.24139851\n",
      "  0.2568717 ] gave -1505.73007209809\n"
     ]
    },
    {
     "name": "stdout",
     "output_type": "stream",
     "text": [
      "15\n"
     ]
    },
    {
     "name": "stderr",
     "output_type": "stream",
     "text": [
      "Info: Params [0.06859663 0.62280309 7.96801127 5.31820985 0.800153   0.17220771\n",
      " 0.19235277] gave 175.15785484419501\n"
     ]
    },
    {
     "name": "stdout",
     "output_type": "stream",
     "text": [
      "16\n"
     ]
    },
    {
     "name": "stderr",
     "output_type": "stream",
     "text": [
      "Info: Params [ 0.48393733  0.62296753 15.         12.4516348   3.24322443  0.10494457\n",
      "  0.11873104] gave -1637.2911576106676\n"
     ]
    },
    {
     "name": "stdout",
     "output_type": "stream",
     "text": [
      "17\n"
     ]
    },
    {
     "name": "stderr",
     "output_type": "stream",
     "text": [
      "Info: Params [0.26391815 1.05751068 8.01890315 4.58981673 1.18223372 0.10930341\n",
      " 0.1649988 ] gave 411.6678552003706\n"
     ]
    },
    {
     "name": "stdout",
     "output_type": "stream",
     "text": [
      "18\n"
     ]
    },
    {
     "name": "stderr",
     "output_type": "stream",
     "text": [
      "Info: Params [2.67856679 2.98695267 8.7558022  9.88877226 3.67938467 0.30659035\n",
      " 0.3398861 ] gave -2723.308379082157\n"
     ]
    },
    {
     "name": "stdout",
     "output_type": "stream",
     "text": [
      "19\n"
     ]
    },
    {
     "name": "stderr",
     "output_type": "stream",
     "text": [
      "Info: Params [ 0.35998074  0.63051524 14.65670524 12.67723401  5.96722152  0.10893582\n",
      "  0.11654383] gave -1439.7677637463519\n"
     ]
    },
    {
     "name": "stdout",
     "output_type": "stream",
     "text": [
      "20\n"
     ]
    },
    {
     "name": "stderr",
     "output_type": "stream",
     "text": [
      "Info: Params [ 0.21721175  0.05345126 10.78677109  8.05087643  1.0617725   0.13221531\n",
      "  0.12329232] gave -648.4191469124258\n"
     ]
    },
    {
     "name": "stdout",
     "output_type": "stream",
     "text": [
      "21\n"
     ]
    },
    {
     "name": "stderr",
     "output_type": "stream",
     "text": [
      "Info: Params [0.23531857 0.66236973 7.94984049 5.58827259 1.92753354 0.10572629\n",
      " 0.11037325] gave 668.6019381552018\n"
     ]
    },
    {
     "name": "stdout",
     "output_type": "stream",
     "text": [
      "22\n"
     ]
    },
    {
     "name": "stderr",
     "output_type": "stream",
     "text": [
      "Info: Params [8.82892541e-03 2.45395674e-01 9.35190019e+00 3.39472735e+00\n",
      " 5.27384703e-01 1.60539631e-01 1.71800558e-01] gave -797.6146216022822\n"
     ]
    },
    {
     "name": "stdout",
     "output_type": "stream",
     "text": [
      "23\n"
     ]
    },
    {
     "name": "stderr",
     "output_type": "stream",
     "text": [
      "Info: Params [ 0.04596633  0.42802801 11.21775092  7.99904635  2.58191136  0.10736765\n",
      "  0.12191148] gave -91.11862750706501\n"
     ]
    },
    {
     "name": "stdout",
     "output_type": "stream",
     "text": [
      "24\n"
     ]
    },
    {
     "name": "stderr",
     "output_type": "stream",
     "text": [
      "Info: Params [0.17506009 0.89907584 8.51512054 2.15334655 0.97506605 0.10709035\n",
      " 0.18929628] gave 454.8864979316364\n"
     ]
    },
    {
     "name": "stdout",
     "output_type": "stream",
     "text": [
      "25\n"
     ]
    },
    {
     "name": "stderr",
     "output_type": "stream",
     "text": [
      "Info: Params [ 0.64363729  0.66286262 14.67260188 10.08518676  2.03241417  0.16732503\n",
      "  0.13072489] gave -773.3169153065319\n"
     ]
    },
    {
     "name": "stdout",
     "output_type": "stream",
     "text": [
      "26\n"
     ]
    },
    {
     "name": "stderr",
     "output_type": "stream",
     "text": [
      "Info: Params [ 1.09940268  1.59507673 13.92017144  6.06623342  1.3701802   0.17873751\n",
      "  0.19987966] gave -775.0631575307881\n"
     ]
    },
    {
     "name": "stdout",
     "output_type": "stream",
     "text": [
      "27\n"
     ]
    },
    {
     "name": "stderr",
     "output_type": "stream",
     "text": [
      "Info: Params [ 0.17232041  0.         15.         15.          3.0255495   0.14861008\n",
      "  0.17533534] gave -1109.397873522809\n"
     ]
    },
    {
     "name": "stdout",
     "output_type": "stream",
     "text": [
      "28\n"
     ]
    },
    {
     "name": "stderr",
     "output_type": "stream",
     "text": [
      "Info: Params [0.23100037 0.5682634  9.90776238 7.467612   1.62409271 0.10507186\n",
      " 0.15160156] gave -43.39412304113606\n"
     ]
    },
    {
     "name": "stdout",
     "output_type": "stream",
     "text": [
      "29\n"
     ]
    },
    {
     "name": "stderr",
     "output_type": "stream",
     "text": [
      "Info: Params [0.10364911 0.1194896  9.01626107 6.81531696 1.71718187 0.11347213\n",
      " 0.10750518] gave 228.98333944915908\n"
     ]
    },
    {
     "name": "stdout",
     "output_type": "stream",
     "text": [
      "30\n"
     ]
    },
    {
     "name": "stderr",
     "output_type": "stream",
     "text": [
      "Info: Params [0.2140625  0.14727748 8.19206389 7.18089606 0.76715058 0.16350241\n",
      " 0.15398004] gave -146.30496096080685\n"
     ]
    },
    {
     "name": "stdout",
     "output_type": "stream",
     "text": [
      "31\n"
     ]
    },
    {
     "name": "stderr",
     "output_type": "stream",
     "text": [
      "Info: Params [0.43097175 0.23699234 8.18478285 6.33035214 0.74953246 0.16072042\n",
      " 0.16365015] gave -42.97256762138211\n"
     ]
    },
    {
     "name": "stdout",
     "output_type": "stream",
     "text": [
      "32\n"
     ]
    },
    {
     "name": "stderr",
     "output_type": "stream",
     "text": [
      "Info: Params [0.10237623 0.11767882 8.72506679 6.93252022 1.76117073 0.10368907\n",
      " 0.10567652] gave 228.73376888502887\n"
     ]
    },
    {
     "name": "stdout",
     "output_type": "stream",
     "text": [
      "33\n"
     ]
    },
    {
     "name": "stderr",
     "output_type": "stream",
     "text": [
      "Info: Params [0.01262231 0.53092577 9.99764136 3.61924836 1.72507062 0.11061772\n",
      " 0.13581949] gave 516.0052379811253\n"
     ]
    },
    {
     "name": "stdout",
     "output_type": "stream",
     "text": [
      "           1    2    3    4    5    6    7    8    9    10  ...   25   26  \\\n",
      "Speed     1.0  1.0  1.0  1.0  1.0  1.0  1.0  1.0  1.0  1.0  ...  1.0  1.0   \n",
      "Accuracy  1.0  1.0  1.0  1.0  1.0  1.0  1.0  1.0  1.0  1.0  ...  1.0  1.0   \n",
      "\n",
      "           27   28   29   30   31   32   33   34  \n",
      "Speed     1.0  1.0  1.0  1.0  1.0  1.0  1.0  1.0  \n",
      "Accuracy  1.0  1.0  1.0  1.0  1.0  1.0  1.0  1.0  \n",
      "\n",
      "[2 rows x 34 columns]\n"
     ]
    }
   ],
   "source": [
    "data_dir = \"/Users/wangjiashun/Desktop/Reserach on SAT/datasets/transformed/Rae2014/sub\"\n",
    "sample_size = 34\n",
    "\n",
    "df_all = pd.DataFrame()\n",
    "valid_ratio_dfs = pd.DataFrame()\n",
    "\n",
    "for i in range(sample_size):\n",
    "    print(i)\n",
    "    path = os.path.join(data_dir+str(i+1)+\".csv\")\n",
    "    df = pd.read_csv(path, sep = \",\")\n",
    "    \n",
    "    counts_before = df['Cond'].value_counts()\n",
    "    df = df[df[\"Time\"]<5]\n",
    "    counts_after = df['Cond'].value_counts()\n",
    "    valid_ratio = counts_before/counts_after\n",
    "    valid_ratio_df = valid_ratio.to_frame(i+1)\n",
    "    valid_ratio_dfs = pd.concat((valid_ratio_dfs,valid_ratio_df), axis = 1)\n",
    "    \n",
    "    samp = Sample.from_pandas_dataframe(df, rt_column_name=\"Time\", choice_column_name=\"Correct\")\n",
    "    df = get_OUM_result_sub_2v2k2ter(samp)\n",
    "    df_all = pd.concat((df_all,df))\n",
    "    \n",
    "df_OUM = df_all.copy()\n",
    "df_OUM.to_csv(\"Parameter Estimates/OUM2v2k2terresultRae2014.csv\")\n",
    "print(valid_ratio_dfs)"
   ]
  },
  {
   "cell_type": "code",
   "execution_count": 12,
   "id": "3284c710",
   "metadata": {},
   "outputs": [
    {
     "name": "stdout",
     "output_type": "stream",
     "text": [
      "1\n"
     ]
    },
    {
     "name": "stderr",
     "output_type": "stream",
     "text": [
      "Info: Params [ 2.98909905  3.86917422 -0.35438764  1.14697702  0.50705723  0.35924551\n",
      "  0.38307369] gave -263.49911055736226\n"
     ]
    },
    {
     "name": "stdout",
     "output_type": "stream",
     "text": [
      "1\n"
     ]
    },
    {
     "name": "stderr",
     "output_type": "stream",
     "text": [
      "Info: Params [ 2.53994462  2.40414082 10.19726593  5.14152589  0.91753888  0.35254265\n",
      "  0.35513193] gave -138.4691795174317\n"
     ]
    },
    {
     "name": "stdout",
     "output_type": "stream",
     "text": [
      "1\n"
     ]
    },
    {
     "name": "stderr",
     "output_type": "stream",
     "text": [
      "Info: Params [0.8812638  1.74409158 5.42122937 4.67116793 0.70122812 0.33508582\n",
      " 0.38667108] gave -17.660752567420403\n"
     ]
    },
    {
     "name": "stdout",
     "output_type": "stream",
     "text": [
      "1\n"
     ]
    },
    {
     "name": "stderr",
     "output_type": "stream",
     "text": [
      "Info: Params [2.37751679 2.77123432 0.37461371 2.32401542 0.5021894  0.34858155\n",
      " 0.3992829 ] gave -166.61121264622284\n"
     ]
    },
    {
     "name": "stdout",
     "output_type": "stream",
     "text": [
      "1\n"
     ]
    },
    {
     "name": "stderr",
     "output_type": "stream",
     "text": [
      "Info: Params [3.58831475 2.91716109 6.99164809 7.34184383 1.37536476 0.30428663\n",
      " 0.32126657] gave -178.7928038567822\n"
     ]
    },
    {
     "name": "stdout",
     "output_type": "stream",
     "text": [
      "1\n"
     ]
    },
    {
     "name": "stderr",
     "output_type": "stream",
     "text": [
      "Info: Params [3.50854666 3.10629698 6.61347924 4.91034501 0.9204826  0.32781193\n",
      " 0.33692448] gave -221.3249735023447\n"
     ]
    },
    {
     "name": "stdout",
     "output_type": "stream",
     "text": [
      "3\n"
     ]
    },
    {
     "name": "stderr",
     "output_type": "stream",
     "text": [
      "Info: Params [2.8096658  3.2093567  8.05872065 3.68875184 1.04888935 0.29211023\n",
      " 0.39581144] gave -190.88560674718562\n"
     ]
    },
    {
     "name": "stdout",
     "output_type": "stream",
     "text": [
      "3\n"
     ]
    },
    {
     "name": "stderr",
     "output_type": "stream",
     "text": [
      "Info: Params [1.57005403 2.07887099 7.53612802 0.72640397 0.83571669 0.31272938\n",
      " 0.37203232] gave -37.05460007334331\n"
     ]
    },
    {
     "name": "stdout",
     "output_type": "stream",
     "text": [
      "3\n"
     ]
    },
    {
     "name": "stderr",
     "output_type": "stream",
     "text": [
      "Info: Params [1.54304538 1.7656056  7.3219137  3.20642015 1.13644879 0.28026401\n",
      " 0.38328066] gave 18.249226814948884\n"
     ]
    },
    {
     "name": "stdout",
     "output_type": "stream",
     "text": [
      "3\n"
     ]
    },
    {
     "name": "stderr",
     "output_type": "stream",
     "text": [
      "Info: Params [2.06527583 2.19997374 7.55292812 2.61582171 2.94652036 0.19238192\n",
      " 0.10401379] gave -12.164815899786902\n"
     ]
    },
    {
     "name": "stdout",
     "output_type": "stream",
     "text": [
      "3\n"
     ]
    },
    {
     "name": "stderr",
     "output_type": "stream",
     "text": [
      "Info: Params [3.1317225  1.99590613 6.18856268 2.12731757 1.48250101 0.25280441\n",
      " 0.28483455] gave -46.47812281704851\n"
     ]
    },
    {
     "name": "stdout",
     "output_type": "stream",
     "text": [
      "3\n"
     ]
    },
    {
     "name": "stderr",
     "output_type": "stream",
     "text": [
      "Info: Params [2.76886472 2.24866264 5.83919853 0.71526333 1.06856707 0.30292514\n",
      " 0.33743447] gave -66.06018301650835\n"
     ]
    },
    {
     "name": "stdout",
     "output_type": "stream",
     "text": [
      "4\n"
     ]
    },
    {
     "name": "stderr",
     "output_type": "stream",
     "text": [
      "Info: Params [ 4.17204225  3.50481498 14.98058757  3.22677284  0.89263688  0.31131313\n",
      "  0.30646389] gave -304.78785563180907\n"
     ]
    },
    {
     "name": "stdout",
     "output_type": "stream",
     "text": [
      "4\n"
     ]
    },
    {
     "name": "stderr",
     "output_type": "stream",
     "text": [
      "Info: Params [ 2.52695907  3.34051524 10.40918246  0.21432866  0.65909198  0.32620901\n",
      "  0.36523236] gave -223.5674670977035\n"
     ]
    },
    {
     "name": "stdout",
     "output_type": "stream",
     "text": [
      "4\n"
     ]
    },
    {
     "name": "stderr",
     "output_type": "stream",
     "text": [
      "Info: Params [ 1.65092725  2.15050628  6.40563817 -3.61664424  0.50660121  0.33984035\n",
      "  0.36351418] gave -89.22186573424695\n"
     ]
    },
    {
     "name": "stdout",
     "output_type": "stream",
     "text": [
      "4\n"
     ]
    },
    {
     "name": "stderr",
     "output_type": "stream",
     "text": [
      "Info: Params [ 4.1119135   3.02949097 13.32065105  3.32789223  1.21965753  0.32430242\n",
      "  0.296037  ] gave -236.28517237150615\n"
     ]
    },
    {
     "name": "stdout",
     "output_type": "stream",
     "text": [
      "4\n"
     ]
    },
    {
     "name": "stderr",
     "output_type": "stream",
     "text": [
      "Info: Params [ 3.63890178  2.53591972  6.34907821 -2.09906857  0.54455582  0.33094668\n",
      "  0.36790362] gave -204.52126732531158\n"
     ]
    },
    {
     "name": "stdout",
     "output_type": "stream",
     "text": [
      "4\n"
     ]
    },
    {
     "name": "stderr",
     "output_type": "stream",
     "text": [
      "Info: Params [ 3.42096465  2.23558774 10.34422088  3.16457061  0.72233818  0.31943083\n",
      "  0.34982349] gave -194.36468324325048\n"
     ]
    },
    {
     "name": "stdout",
     "output_type": "stream",
     "text": [
      "5\n"
     ]
    },
    {
     "name": "stderr",
     "output_type": "stream",
     "text": [
      "Info: Params [ 4.34000779  4.74515513 11.16066509 -6.52170507  0.65760378  0.32169554\n",
      "  0.38208485] gave -296.9395589579949\n"
     ]
    },
    {
     "name": "stdout",
     "output_type": "stream",
     "text": [
      "5\n"
     ]
    },
    {
     "name": "stderr",
     "output_type": "stream",
     "text": [
      "Info: Params [ 4.41537569  2.83411261 14.04570482  7.83034842  2.02501439  0.30456477\n",
      "  0.36773811] gave -226.72944825993886\n"
     ]
    },
    {
     "name": "stdout",
     "output_type": "stream",
     "text": [
      "5\n"
     ]
    },
    {
     "name": "stderr",
     "output_type": "stream",
     "text": [
      "Info: Params [ 2.49504358  3.44277288 13.45632319  7.06971979  2.94637495  0.27005119\n",
      "  0.34039825] gave -185.80903723902986\n"
     ]
    },
    {
     "name": "stdout",
     "output_type": "stream",
     "text": [
      "5\n"
     ]
    },
    {
     "name": "stderr",
     "output_type": "stream",
     "text": [
      "Info: Params [5.02868338 3.37877187 7.08940624 4.51775053 1.18084402 0.32545224\n",
      " 0.40004086] gave -269.2784197534197\n"
     ]
    },
    {
     "name": "stdout",
     "output_type": "stream",
     "text": [
      "5\n"
     ]
    },
    {
     "name": "stderr",
     "output_type": "stream",
     "text": [
      "Info: Params [ 4.73459382  2.50775882 15.          2.8823141   0.83903815  0.36695417\n",
      "  0.45122891] gave -226.7995455096056\n"
     ]
    },
    {
     "name": "stdout",
     "output_type": "stream",
     "text": [
      "5\n"
     ]
    },
    {
     "name": "stderr",
     "output_type": "stream",
     "text": [
      "Info: Params [ 3.59232684  2.79386109 14.35300213  5.4126253   1.61714341  0.30373756\n",
      "  0.36211948] gave -209.73740086886443\n"
     ]
    },
    {
     "name": "stdout",
     "output_type": "stream",
     "text": [
      "6\n"
     ]
    },
    {
     "name": "stderr",
     "output_type": "stream",
     "text": [
      "Info: Params [2.47827435 3.04685131 9.86106977 5.4117763  0.93338534 0.26841213\n",
      " 0.35544376] gave -197.85681158029655\n"
     ]
    },
    {
     "name": "stdout",
     "output_type": "stream",
     "text": [
      "6\n"
     ]
    },
    {
     "name": "stderr",
     "output_type": "stream",
     "text": [
      "Info: Params [ 1.50209595  2.50212847 11.45209581  6.53353549  3.28848534  0.16494682\n",
      "  0.26228253] gave -87.68958080444386\n"
     ]
    },
    {
     "name": "stdout",
     "output_type": "stream",
     "text": [
      "6\n"
     ]
    },
    {
     "name": "stderr",
     "output_type": "stream",
     "text": [
      "Info: Params [0.48412515 1.61902145 7.27931061 4.97008868 0.99899419 0.20614636\n",
      " 0.39203072] gave 21.49704417419604\n"
     ]
    },
    {
     "name": "stdout",
     "output_type": "stream",
     "text": [
      "6\n"
     ]
    },
    {
     "name": "stderr",
     "output_type": "stream",
     "text": [
      "Info: Params [ 0.9146277   2.80778112 10.31709893  4.96287719  5.14158665  0.1086612\n",
      "  0.16214693] gave -52.42739797226897\n"
     ]
    },
    {
     "name": "stdout",
     "output_type": "stream",
     "text": [
      "6\n"
     ]
    },
    {
     "name": "stderr",
     "output_type": "stream",
     "text": [
      "Info: Params [0.87999913 2.46900895 8.50940107 4.1870791  1.0844242  0.24020759\n",
      " 0.36863977] gave -48.46575441699406\n"
     ]
    },
    {
     "name": "stdout",
     "output_type": "stream",
     "text": [
      "6\n"
     ]
    },
    {
     "name": "stderr",
     "output_type": "stream",
     "text": [
      "Info: Params [0.64501001 2.66618948 7.30210522 5.32902352 2.03262531 0.12013633\n",
      " 0.27824331] gave -42.31184050226461\n"
     ]
    },
    {
     "name": "stdout",
     "output_type": "stream",
     "text": [
      "7\n"
     ]
    },
    {
     "name": "stderr",
     "output_type": "stream",
     "text": [
      "Info: Params [0.23028996 2.16216083 8.19860133 6.31456436 2.08093348 0.11351113\n",
      " 0.19479435] gave -23.224182772981763\n"
     ]
    },
    {
     "name": "stdout",
     "output_type": "stream",
     "text": [
      "7\n"
     ]
    },
    {
     "name": "stderr",
     "output_type": "stream",
     "text": [
      "Info: Params [0.         1.50267267 8.54048558 5.02563352 0.89646898 0.2225706\n",
      " 0.30106703] gave 0.6318167047444163\n"
     ]
    },
    {
     "name": "stdout",
     "output_type": "stream",
     "text": [
      "7\n"
     ]
    },
    {
     "name": "stderr",
     "output_type": "stream",
     "text": [
      "Info: Params [ 0.          0.69528185 10.42744586  6.02863865  4.10037678  0.10014783\n",
      "  0.10254553] gave 68.27383697062182\n"
     ]
    },
    {
     "name": "stdout",
     "output_type": "stream",
     "text": [
      "7\n"
     ]
    },
    {
     "name": "stderr",
     "output_type": "stream",
     "text": [
      "Info: Params [1.91288983 1.67693388 8.37231784 3.45994608 1.20311496 0.21868095\n",
      " 0.26563789] gave -13.196762844743162\n"
     ]
    },
    {
     "name": "stdout",
     "output_type": "stream",
     "text": [
      "7\n"
     ]
    },
    {
     "name": "stderr",
     "output_type": "stream",
     "text": [
      "Info: Params [2.45365871 1.53324794 8.09810093 4.96665357 1.20651847 0.2178806\n",
      " 0.29996854] gave -47.6498764968546\n"
     ]
    },
    {
     "name": "stdout",
     "output_type": "stream",
     "text": [
      "7\n"
     ]
    },
    {
     "name": "stderr",
     "output_type": "stream",
     "text": [
      "Info: Params [2.00689423 1.93711271 7.31223634 4.03080491 0.9502903  0.2318567\n",
      " 0.31332182] gave -58.93294655836922\n"
     ]
    },
    {
     "name": "stdout",
     "output_type": "stream",
     "text": [
      "8\n"
     ]
    },
    {
     "name": "stderr",
     "output_type": "stream",
     "text": [
      "Info: Params [0.61027544 2.1732294  6.43062251 2.19687876 1.79860347 0.11113531\n",
      " 0.27638388] gave 65.40149451973187\n"
     ]
    },
    {
     "name": "stdout",
     "output_type": "stream",
     "text": [
      "8\n"
     ]
    },
    {
     "name": "stderr",
     "output_type": "stream",
     "text": [
      "Info: Params [0.         0.94294221 6.57180329 2.22165354 1.86850138 0.10855908\n",
      " 0.25184912] gave 206.18196883436468\n"
     ]
    },
    {
     "name": "stdout",
     "output_type": "stream",
     "text": [
      "8\n"
     ]
    },
    {
     "name": "stderr",
     "output_type": "stream",
     "text": [
      "Info: Params [0.         0.39939194 6.14258831 2.30742562 1.98093153 0.10638836\n",
      " 0.15847818] gave 256.93460039601774\n"
     ]
    },
    {
     "name": "stdout",
     "output_type": "stream",
     "text": [
      "8\n"
     ]
    },
    {
     "name": "stderr",
     "output_type": "stream",
     "text": [
      "Info: Params [0.48834548 1.07040542 5.77521329 1.32227154 1.59829315 0.11465393\n",
      " 0.19153314] gave 232.19520173902305\n"
     ]
    },
    {
     "name": "stdout",
     "output_type": "stream",
     "text": [
      "8\n"
     ]
    },
    {
     "name": "stderr",
     "output_type": "stream",
     "text": [
      "Info: Params [0.3771344  1.3519896  6.82259622 1.56809024 2.17906506 0.10420361\n",
      " 0.1033358 ] gave 168.8472449913876\n"
     ]
    },
    {
     "name": "stdout",
     "output_type": "stream",
     "text": [
      "8\n"
     ]
    },
    {
     "name": "stderr",
     "output_type": "stream",
     "text": [
      "Info: Params [0.13890243 1.2800526  6.37471346 1.22229603 1.74740154 0.1347364\n",
      " 0.10353821] gave 195.33019208419614\n"
     ]
    },
    {
     "name": "stdout",
     "output_type": "stream",
     "text": [
      "9\n"
     ]
    },
    {
     "name": "stderr",
     "output_type": "stream",
     "text": [
      "Info: Params [ 4.46748796  2.85776562 14.99029169  4.02976817  1.20443958  0.36916808\n",
      "  0.36102717] gave -257.28678065477357\n"
     ]
    },
    {
     "name": "stdout",
     "output_type": "stream",
     "text": [
      "9\n"
     ]
    },
    {
     "name": "stderr",
     "output_type": "stream",
     "text": [
      "Info: Params [ 1.93509023  1.93276524 14.40895378  2.32643907  1.49571624  0.34595905\n",
      "  0.30843958] gave -26.541130681852238\n"
     ]
    },
    {
     "name": "stdout",
     "output_type": "stream",
     "text": [
      "9\n"
     ]
    },
    {
     "name": "stderr",
     "output_type": "stream",
     "text": [
      "Info: Params [ 0.98930668  1.36072077 12.56404981  2.6946119   1.14444519  0.3683244\n",
      "  0.36048716] gave 35.57892091500157\n"
     ]
    },
    {
     "name": "stdout",
     "output_type": "stream",
     "text": [
      "9\n"
     ]
    },
    {
     "name": "stderr",
     "output_type": "stream",
     "text": [
      "Info: Params [ 3.27966894  2.39599958  0.6263609  -7.4423724   0.51982012  0.38763468\n",
      "  0.44088219] gave -116.43783196769769\n"
     ]
    },
    {
     "name": "stdout",
     "output_type": "stream",
     "text": [
      "9\n"
     ]
    },
    {
     "name": "stderr",
     "output_type": "stream",
     "text": [
      "Info: Params [ 3.44102567  1.91403847 11.90173318  3.24206892  2.56097463  0.31367067\n",
      "  0.17182096] gave -77.09887016561319\n"
     ]
    },
    {
     "name": "stdout",
     "output_type": "stream",
     "text": [
      "9\n"
     ]
    },
    {
     "name": "stderr",
     "output_type": "stream",
     "text": [
      "Info: Params [  3.26539687   3.06646623   5.70620847 -10.25695753   0.50126185\n",
      "   0.40206573   0.44027227] gave -160.15242244131338\n"
     ]
    },
    {
     "name": "stdout",
     "output_type": "stream",
     "text": [
      "10\n"
     ]
    },
    {
     "name": "stderr",
     "output_type": "stream",
     "text": [
      "Info: Params [2.82522919 3.92469197 8.28941839 1.34846187 0.68154243 0.29591019\n",
      " 0.36986086] gave -543.4480340405632\n"
     ]
    },
    {
     "name": "stdout",
     "output_type": "stream",
     "text": [
      "10\n"
     ]
    },
    {
     "name": "stderr",
     "output_type": "stream",
     "text": [
      "Info: Params [1.43953758 2.59346255 9.80260401 3.97273609 1.3371512  0.2522455\n",
      " 0.30562289] gave -237.50804967856146\n"
     ]
    },
    {
     "name": "stdout",
     "output_type": "stream",
     "text": [
      "10\n"
     ]
    },
    {
     "name": "stderr",
     "output_type": "stream",
     "text": [
      "Info: Params [0.58579694 1.92090304 8.48423714 4.27307735 0.87181693 0.26341284\n",
      " 0.36513428] gave -69.69892115942304\n"
     ]
    },
    {
     "name": "stdout",
     "output_type": "stream",
     "text": [
      "10\n"
     ]
    },
    {
     "name": "stderr",
     "output_type": "stream",
     "text": [
      "Info: Params [ 2.17535705  2.42833556  4.61038253 -0.79898405  0.65236832  0.27411375\n",
      "  0.36741636] gave -219.87238090702004\n"
     ]
    },
    {
     "name": "stdout",
     "output_type": "stream",
     "text": [
      "10\n"
     ]
    },
    {
     "name": "stderr",
     "output_type": "stream",
     "text": [
      "Info: Params [2.57191658 2.56021691 8.98965051 3.19513181 1.56645417 0.23403044\n",
      " 0.28091682] gave -237.02655907070167\n"
     ]
    },
    {
     "name": "stdout",
     "output_type": "stream",
     "text": [
      "10\n"
     ]
    },
    {
     "name": "stderr",
     "output_type": "stream",
     "text": [
      "Info: Params [2.57858426 2.75523647 5.18831322 0.61473537 0.78888214 0.26880447\n",
      " 0.35111691] gave -290.17600866531535\n"
     ]
    },
    {
     "name": "stdout",
     "output_type": "stream",
     "text": [
      "11\n"
     ]
    },
    {
     "name": "stderr",
     "output_type": "stream",
     "text": [
      "Info: Params [ 3.7389555   4.12286118 12.39949786  5.72194412  0.89540507  0.3325177\n",
      "  0.36770315] gave -643.5775794227468\n"
     ]
    },
    {
     "name": "stdout",
     "output_type": "stream",
     "text": [
      "11\n"
     ]
    },
    {
     "name": "stderr",
     "output_type": "stream",
     "text": [
      "Info: Params [1.14906676 2.45961567 9.65095704 5.20802648 0.77032142 0.33362056\n",
      " 0.39108148] gave -254.2241050947709\n"
     ]
    },
    {
     "name": "stdout",
     "output_type": "stream",
     "text": [
      "11\n"
     ]
    },
    {
     "name": "stderr",
     "output_type": "stream",
     "text": [
      "Info: Params [ 0.83953636  1.5343923  12.06809537  5.06749688  1.04503839  0.31194289\n",
      "  0.35088651] gave -79.37645110931008\n"
     ]
    },
    {
     "name": "stdout",
     "output_type": "stream",
     "text": [
      "11\n"
     ]
    },
    {
     "name": "stderr",
     "output_type": "stream",
     "text": [
      "Info: Params [ 1.36103215  2.57252311 11.08317615  4.97729721  1.441047    0.30436674\n",
      "  0.3362247 ] gave -205.44601075232617\n"
     ]
    },
    {
     "name": "stdout",
     "output_type": "stream",
     "text": [
      "11\n"
     ]
    },
    {
     "name": "stderr",
     "output_type": "stream",
     "text": [
      "Info: Params [2.20618853 2.77649767 9.32264825 1.93221855 0.83530776 0.33469132\n",
      " 0.39882635] gave -310.8993362481381\n"
     ]
    },
    {
     "name": "stdout",
     "output_type": "stream",
     "text": [
      "11\n"
     ]
    },
    {
     "name": "stderr",
     "output_type": "stream",
     "text": [
      "Info: Params [2.48117234 2.4223959  7.63179187 1.05339712 0.68515752 0.35778672\n",
      " 0.39302297] gave -287.45873786712053\n"
     ]
    },
    {
     "name": "stdout",
     "output_type": "stream",
     "text": [
      "12\n"
     ]
    },
    {
     "name": "stderr",
     "output_type": "stream",
     "text": [
      "Info: Params [2.13377247 2.47001179 5.99934554 4.02070745 1.36498803 0.21007684\n",
      " 0.26642528] gave -203.1793906415606\n"
     ]
    },
    {
     "name": "stdout",
     "output_type": "stream",
     "text": [
      "12\n"
     ]
    },
    {
     "name": "stderr",
     "output_type": "stream",
     "text": [
      "Info: Params [1.43246555 1.25464048 7.63818552 2.71337069 0.94310793 0.30408799\n",
      " 0.33553924] gave 46.488582682505466\n"
     ]
    },
    {
     "name": "stdout",
     "output_type": "stream",
     "text": [
      "12\n"
     ]
    },
    {
     "name": "stderr",
     "output_type": "stream",
     "text": [
      "Info: Params [0.41396626 0.81979502 7.58598609 2.0958832  0.92443143 0.277836\n",
      " 0.29654714] gave 212.55553936380952\n"
     ]
    },
    {
     "name": "stdout",
     "output_type": "stream",
     "text": [
      "12\n"
     ]
    },
    {
     "name": "stderr",
     "output_type": "stream",
     "text": [
      "Info: Params [1.48553246 1.64528329 4.78768858 3.17062299 1.68829579 0.17030937\n",
      " 0.20018382] gave 120.78571862569031\n"
     ]
    },
    {
     "name": "stdout",
     "output_type": "stream",
     "text": [
      "12\n"
     ]
    },
    {
     "name": "stderr",
     "output_type": "stream",
     "text": [
      "Info: Params [1.44976512 1.77103514 7.61895325 3.37577343 2.97376652 0.16490038\n",
      " 0.1040571 ] gave 57.0130351986636\n"
     ]
    },
    {
     "name": "stdout",
     "output_type": "stream",
     "text": [
      "12\n"
     ]
    },
    {
     "name": "stderr",
     "output_type": "stream",
     "text": [
      "Info: Params [1.78403323 1.59446522 6.67147084 2.9031569  2.22879811 0.20488556\n",
      " 0.12468993] gave 69.5152540071434\n"
     ]
    },
    {
     "name": "stdout",
     "output_type": "stream",
     "text": [
      "13\n"
     ]
    },
    {
     "name": "stderr",
     "output_type": "stream",
     "text": [
      "Info: Params [1.98780199 1.927608   7.78204793 1.87837431 1.04195313 0.30461657\n",
      " 0.31697307] gave -92.87995798043369\n"
     ]
    },
    {
     "name": "stdout",
     "output_type": "stream",
     "text": [
      "13\n"
     ]
    },
    {
     "name": "stderr",
     "output_type": "stream",
     "text": [
      "Info: Params [1.43700859 1.65099865 7.22909    1.57432012 0.87428399 0.33934224\n",
      " 0.39495298] gave 2.3768317669995227\n"
     ]
    },
    {
     "name": "stdout",
     "output_type": "stream",
     "text": [
      "13\n"
     ]
    },
    {
     "name": "stderr",
     "output_type": "stream",
     "text": [
      "Info: Params [0.40760565 0.85608456 7.66879545 2.52689352 1.09765448 0.3139057\n",
      " 0.32116117] gave 239.6477979970696\n"
     ]
    },
    {
     "name": "stdout",
     "output_type": "stream",
     "text": [
      "13\n"
     ]
    },
    {
     "name": "stderr",
     "output_type": "stream",
     "text": [
      "Info: Params [1.47553924 1.60871769 6.90244031 1.42667454 1.04436096 0.31629663\n",
      " 0.3429398 ] gave 72.49514923718334\n"
     ]
    },
    {
     "name": "stdout",
     "output_type": "stream",
     "text": [
      "13\n"
     ]
    },
    {
     "name": "stderr",
     "output_type": "stream",
     "text": [
      "Info: Params [1.93982729 1.564481   5.92785197 1.44099633 1.01739648 0.31415987\n",
      " 0.36260486] gave 34.726679885705245\n"
     ]
    },
    {
     "name": "stdout",
     "output_type": "stream",
     "text": [
      "13\n"
     ]
    },
    {
     "name": "stderr",
     "output_type": "stream",
     "text": [
      "Info: Params [1.5149815  1.51508895 2.92668315 2.30521365 1.05738335 0.25686261\n",
      " 0.33297993] gave 101.76865225263799\n"
     ]
    },
    {
     "name": "stdout",
     "output_type": "stream",
     "text": [
      "14\n"
     ]
    },
    {
     "name": "stderr",
     "output_type": "stream",
     "text": [
      "Info: Params [3.18814876 2.53468397 8.39924799 2.84453652 1.74280383 0.2412034\n",
      " 0.23947661] gave -303.1151808640524\n"
     ]
    },
    {
     "name": "stdout",
     "output_type": "stream",
     "text": [
      "14\n"
     ]
    },
    {
     "name": "stderr",
     "output_type": "stream",
     "text": [
      "Info: Params [2.19781762 1.70678291 7.12657266 2.06515908 1.10861283 0.29653156\n",
      " 0.34267892] gave -31.870698406261816\n"
     ]
    },
    {
     "name": "stdout",
     "output_type": "stream",
     "text": [
      "14\n"
     ]
    },
    {
     "name": "stderr",
     "output_type": "stream",
     "text": [
      "Info: Params [1.44849302 1.35054703 8.3425745  2.42613023 1.82235712 0.26699694\n",
      " 0.21482206] gave 156.13100503859263\n"
     ]
    },
    {
     "name": "stdout",
     "output_type": "stream",
     "text": [
      "14\n"
     ]
    },
    {
     "name": "stderr",
     "output_type": "stream",
     "text": [
      "Info: Params [ 1.93839207  2.90218268 -2.03222581 -9.52424234  0.55424625  0.37478863\n",
      "  0.4847093 ] gave -105.59346030524867\n"
     ]
    },
    {
     "name": "stdout",
     "output_type": "stream",
     "text": [
      "14\n"
     ]
    },
    {
     "name": "stderr",
     "output_type": "stream",
     "text": [
      "Info: Params [1.63933609 1.49171159 7.29089801 1.19773884 2.09803245 0.24629122\n",
      " 0.10576398] gave 177.82405704768894\n"
     ]
    },
    {
     "name": "stdout",
     "output_type": "stream",
     "text": [
      "14\n"
     ]
    },
    {
     "name": "stderr",
     "output_type": "stream",
     "text": [
      "Info: Params [ 2.02197494  2.26022489  3.12609602 -7.10233698  0.63695089  0.34676377\n",
      "  0.46291073] gave 29.975561339714694\n"
     ]
    },
    {
     "name": "stdout",
     "output_type": "stream",
     "text": [
      "15\n"
     ]
    },
    {
     "name": "stderr",
     "output_type": "stream",
     "text": [
      "Info: Params [2.41830509 2.40477174 7.97774593 0.81316351 1.01042251 0.31527464\n",
      " 0.36046953] gave -202.67289817332343\n"
     ]
    },
    {
     "name": "stdout",
     "output_type": "stream",
     "text": [
      "15\n"
     ]
    },
    {
     "name": "stderr",
     "output_type": "stream",
     "text": [
      "Info: Params [1.7879502  2.13650644 7.91921421 2.65657966 1.80816981 0.26597397\n",
      " 0.32516553] gave -51.7278955118167\n"
     ]
    },
    {
     "name": "stdout",
     "output_type": "stream",
     "text": [
      "15\n"
     ]
    },
    {
     "name": "stderr",
     "output_type": "stream",
     "text": [
      "Info: Params [0.82536545 1.23556471 9.92461798 2.53950957 1.50046583 0.29231974\n",
      " 0.35508783] gave 133.10903496598218\n"
     ]
    },
    {
     "name": "stdout",
     "output_type": "stream",
     "text": [
      "15\n"
     ]
    },
    {
     "name": "stderr",
     "output_type": "stream",
     "text": [
      "Info: Params [1.88954542 2.15485703 8.28472903 0.53515904 0.99340018 0.33394623\n",
      " 0.44521442] gave -116.3753847335538\n"
     ]
    },
    {
     "name": "stdout",
     "output_type": "stream",
     "text": [
      "15\n"
     ]
    },
    {
     "name": "stderr",
     "output_type": "stream",
     "text": [
      "Info: Params [1.65231249 1.87909927 8.19350551 1.4858638  1.37685148 0.29375295\n",
      " 0.35757343] gave -2.8286754967952277\n"
     ]
    },
    {
     "name": "stdout",
     "output_type": "stream",
     "text": [
      "15\n"
     ]
    },
    {
     "name": "stderr",
     "output_type": "stream",
     "text": [
      "Info: Params [2.1739975  2.18402995 7.86891977 1.18784326 1.00602827 0.33530947\n",
      " 0.42330042] gave -143.6629475329982\n"
     ]
    },
    {
     "name": "stdout",
     "output_type": "stream",
     "text": [
      "16\n"
     ]
    },
    {
     "name": "stderr",
     "output_type": "stream",
     "text": [
      "Info: Params [1.40970946 2.52068025 7.84415134 3.22125883 1.492103   0.21708885\n",
      " 0.30308044] gave -140.5773287942393\n"
     ]
    },
    {
     "name": "stdout",
     "output_type": "stream",
     "text": [
      "16\n"
     ]
    },
    {
     "name": "stderr",
     "output_type": "stream",
     "text": [
      "Info: Params [1.07724666 1.82004451 4.69400163 2.19172499 1.03961142 0.21118694\n",
      " 0.38665907] gave 99.2681136757993\n"
     ]
    },
    {
     "name": "stdout",
     "output_type": "stream",
     "text": [
      "16\n"
     ]
    },
    {
     "name": "stderr",
     "output_type": "stream",
     "text": [
      "Info: Params [0.64151115 1.2636938  4.92354219 2.72222262 1.23097421 0.18295007\n",
      " 0.35499741] gave 263.99197176361787\n"
     ]
    },
    {
     "name": "stdout",
     "output_type": "stream",
     "text": [
      "16\n"
     ]
    },
    {
     "name": "stderr",
     "output_type": "stream",
     "text": [
      "Info: Params [1.06398656 2.01004174 6.25600751 2.9261046  1.4460921  0.2031725\n",
      " 0.35143047] gave 49.68322344765829\n"
     ]
    },
    {
     "name": "stdout",
     "output_type": "stream",
     "text": [
      "16\n"
     ]
    },
    {
     "name": "stderr",
     "output_type": "stream",
     "text": [
      "Info: Params [0.82381942 1.89330646 5.48619881 1.99813806 1.30527435 0.19514695\n",
      " 0.33345781] gave 138.11790736574363\n"
     ]
    },
    {
     "name": "stdout",
     "output_type": "stream",
     "text": [
      "16\n"
     ]
    },
    {
     "name": "stderr",
     "output_type": "stream",
     "text": [
      "Info: Params [0.98702322 2.00558902 4.14290432 2.64386024 1.1722481  0.19718368\n",
      " 0.35110349] gave 132.08251772832446\n"
     ]
    },
    {
     "name": "stdout",
     "output_type": "stream",
     "text": [
      "17\n"
     ]
    },
    {
     "name": "stderr",
     "output_type": "stream",
     "text": [
      "Info: Params [3.0577056  2.91080721 4.90915223 1.9058053  1.22688851 0.27658005\n",
      " 0.35407177] gave -319.83768534102927\n"
     ]
    },
    {
     "name": "stdout",
     "output_type": "stream",
     "text": [
      "17\n"
     ]
    },
    {
     "name": "stderr",
     "output_type": "stream",
     "text": [
      "Info: Params [2.6406803  2.49134341 7.86084744 2.44061037 1.65839586 0.29139303\n",
      " 0.3299034 ] gave -214.90360999666493\n"
     ]
    },
    {
     "name": "stdout",
     "output_type": "stream",
     "text": [
      "17\n"
     ]
    },
    {
     "name": "stderr",
     "output_type": "stream",
     "text": [
      "Info: Params [1.8371005  1.89840021 7.13820177 3.19978642 1.36773057 0.28118437\n",
      " 0.38211114] gave -16.23684019681852\n"
     ]
    },
    {
     "name": "stdout",
     "output_type": "stream",
     "text": [
      "17\n"
     ]
    },
    {
     "name": "stderr",
     "output_type": "stream",
     "text": [
      "Info: Params [2.11521325 2.51017037 5.11261893 1.52256364 1.14725756 0.29909559\n",
      " 0.4140465 ] gave -143.3048992561744\n"
     ]
    },
    {
     "name": "stdout",
     "output_type": "stream",
     "text": [
      "17\n"
     ]
    },
    {
     "name": "stderr",
     "output_type": "stream",
     "text": [
      "Info: Params [2.45863059 2.21992468 5.46820135 2.07120541 1.15836892 0.31050853\n",
      " 0.40258435] gave -149.3932836870962\n"
     ]
    },
    {
     "name": "stdout",
     "output_type": "stream",
     "text": [
      "17\n"
     ]
    },
    {
     "name": "stderr",
     "output_type": "stream",
     "text": [
      "Info: Params [2.23048824 2.25850576 5.43451155 2.5751406  2.03797846 0.22589657\n",
      " 0.28551662] gave -70.5527997798952\n"
     ]
    },
    {
     "name": "stdout",
     "output_type": "stream",
     "text": [
      "           2    2    2    2    2    2    4    4    4    4   ...   17   17  \\\n",
      "Accuracy  1.0  1.0  1.0  1.0  1.0  1.0  1.0  1.0  1.0  1.0  ...  1.0  1.0   \n",
      "Speed     1.0  1.0  1.0  1.0  1.0  1.0  1.0  1.0  1.0  1.0  ...  1.0  1.0   \n",
      "\n",
      "           17   17   18   18   18   18   18   18  \n",
      "Accuracy  1.0  1.0  1.0  1.0  1.0  1.0  1.0  1.0  \n",
      "Speed     1.0  1.0  1.0  1.0  1.0  1.0  1.0  1.0  \n",
      "\n",
      "[2 rows x 96 columns]\n"
     ]
    }
   ],
   "source": [
    "path = \"/Users/wangjiashun/Desktop/Reserach on SAT/datasets/transformed/Wagenmakers2008/SpeedAccData_new.csv\"\n",
    "participants = [1,  3,  4,  5,  6,  7,  8,  9, 10, 11, 12, 13, 14, 15, 16, 17]\n",
    "\n",
    "\n",
    "df_all = pd.DataFrame()\n",
    "valid_ratio_dfs = pd.DataFrame()\n",
    "\n",
    "for i in participants:\n",
    "    for freq in range(1,7):\n",
    "        print(i)\n",
    "        df = pd.read_csv(path, sep = \",\")\n",
    "        df = df[df[\"Participant\"]==i]\n",
    "        df = df[df[\"Frequency\"]==freq]\n",
    "\n",
    "        counts_before = df['Cond'].value_counts()\n",
    "        df = df[df[\"Time\"]<5]\n",
    "        counts_after = df['Cond'].value_counts()\n",
    "        valid_ratio = counts_before/counts_after\n",
    "        valid_ratio_df = valid_ratio.to_frame(i+1)\n",
    "        valid_ratio_dfs = pd.concat((valid_ratio_dfs,valid_ratio_df), axis = 1)\n",
    "\n",
    "        samp = Sample.from_pandas_dataframe(df, rt_column_name=\"Time\", choice_column_name=\"Correct\")\n",
    "        df = get_OUM_result_sub_2v2k2ter(samp)\n",
    "        df['Frequency'] = freq\n",
    "        df[\"Participant\"]=i\n",
    "        df_all = pd.concat((df_all,df))\n",
    "    \n",
    "df_OUM = df_all.copy()\n",
    "df_OUM.to_csv(\"Parameter Estimates/OUM2v2k2terresultWagenmakers2008.csv\")\n",
    "print(valid_ratio_dfs)"
   ]
  },
  {
   "cell_type": "code",
   "execution_count": 4,
   "id": "c5baddcf",
   "metadata": {},
   "outputs": [],
   "source": [
    "class DriftLinearSATFreqFull(Drift):\n",
    "    name = \"DriftLinearSATFreqFull\"\n",
    "    required_parameters = ['V1Speed','V2Speed','V3Speed','V4Speed','V5Speed','V6Speed',\n",
    "                           'V1Acc','V2Acc','V3Acc','V4Acc','V5Acc','V6Acc', 'KSpeed', \"KAcc\"]\n",
    "    required_conditions = ['Cond', 'Frequency']\n",
    "    def get_drift(self, x, t, conditions, **kwargs):\n",
    "        #print(conditions['Brightness'])\n",
    "        #print(conditions['Cond'])\n",
    "        if conditions['Cond'] == \"Speed\":\n",
    "            if conditions['Frequency'] == 1:\n",
    "                return self.V1Speed + x*self.KSpeed\n",
    "            elif conditions['Frequency'] == 2:\n",
    "                return self.V2Speed + x*self.KSpeed\n",
    "            elif conditions['Frequency'] == 3:\n",
    "                return self.V3Speed + x*self.KSpeed\n",
    "            elif conditions['Frequency'] == 4:\n",
    "                return self.V4Speed + x*self.KSpeed\n",
    "            elif conditions['Frequency'] == 5:\n",
    "                return self.V5Speed + x*self.KSpeed\n",
    "            elif conditions['Frequency'] == 6:\n",
    "                return self.V6Speed + x*self.KSpeed\n",
    "        elif conditions['Cond'] == \"Accuracy\":\n",
    "            if conditions['Frequency'] == 1:\n",
    "                return self.V1Acc + x*self.KAcc\n",
    "            elif conditions['Frequency'] == 2:\n",
    "                return self.V2Acc + x*self.KAcc\n",
    "            elif conditions['Frequency'] == 3:\n",
    "                return self.V3Acc + x*self.KAcc\n",
    "            elif conditions['Frequency'] == 4:\n",
    "                return self.V4Acc + x*self.KAcc\n",
    "            elif conditions['Frequency'] == 5:\n",
    "                return self.V5Acc + x*self.KAcc\n",
    "            elif conditions['Frequency'] == 6:\n",
    "                return self.V6Acc + x*self.KAcc\n",
    "        else:\n",
    "            print(\"Non-implemented conditions\")"
   ]
  },
  {
   "cell_type": "code",
   "execution_count": 7,
   "id": "344ab0c0",
   "metadata": {},
   "outputs": [],
   "source": [
    "def get_OUM_result_sub_2v2k2ter(samp, v = [0,6], a = [0.5,6], k = [-15,15], ter=[0.1,1], T_dur=5, dt=.01):\n",
    "    \n",
    "    model_fit = Model(name='Simple model (fitted)',\n",
    "                      drift=DriftLinearSATFreqFull(V1Speed= Fittable(minval=v[0], maxval=v[1]),\n",
    "                                             V2Speed= Fittable(minval=v[0], maxval=v[1]),\n",
    "                                             V3Speed= Fittable(minval=v[0], maxval=v[1]),\n",
    "                                             V4Speed= Fittable(minval=v[0], maxval=v[1]),\n",
    "                                             V5Speed= Fittable(minval=v[0], maxval=v[1]),\n",
    "                                             V6Speed= Fittable(minval=v[0], maxval=v[1]),\n",
    "                                             V1Acc  = Fittable(minval=v[0], maxval=v[1]),\n",
    "                                             V2Acc  = Fittable(minval=v[0], maxval=v[1]),\n",
    "                                             V3Acc  = Fittable(minval=v[0], maxval=v[1]),\n",
    "                                             V4Acc  = Fittable(minval=v[0], maxval=v[1]),\n",
    "                                             V5Acc  = Fittable(minval=v[0], maxval=v[1]),\n",
    "                                             V6Acc  = Fittable(minval=v[0], maxval=v[1]),\n",
    "                                             KSpeed = Fittable(minval=k[0], maxval=k[1]),\n",
    "                                             KAcc = Fittable(minval=k[0], maxval=k[1])), \n",
    "                      noise=NoiseConstant(noise=1),\n",
    "                      bound=BoundConstant(B=Fittable(minval=a[0], maxval=a[1])),                      \n",
    "                      overlay=NondecisionSpeedAcc(\n",
    "                          tSpeed=Fittable(minval=ter[0], maxval=ter[1]),\n",
    "                          tAcc=Fittable(minval=ter[0], maxval=ter[1]),\n",
    "\n",
    "                      ),\n",
    "                      dx=.01, dt=dt, T_dur=T_dur)\n",
    "    #set_N_cpus(4)\n",
    "    fit_adjust_model(samp, model_fit,\n",
    "                     fitting_method=\"differential_evolution\",\n",
    "                     lossfunction=LossRobustBIC, verbose=False)\n",
    "    #print(model_fit.get_model_parameters())\n",
    "    df = pd.DataFrame(data = np.array(model_fit.get_model_parameters()).reshape(1,17),\n",
    "                      columns = model_fit.get_model_parameter_names())\n",
    "    \n",
    "    #df['Participant']=i+1\n",
    "    #df['SAT'] = SAT\n",
    "    df['BIC'] = model_fit.get_fit_result().value()\n",
    "    df = df.rename(columns={\n",
    "                            'B': 'Boundary Separation',\n",
    "                            'Kspeed': \"Self-excitation Speed\",\n",
    "                            'Kacc': \"Self-excitation Accuracy\",\n",
    "                            'tSpeed': 'Non-decision Time Speed',\n",
    "                            'tAcc': 'Non-decision Time Accuracy'})\n",
    "    return df"
   ]
  },
  {
   "cell_type": "code",
   "execution_count": 8,
   "id": "d01d8bae",
   "metadata": {
    "scrolled": true
   },
   "outputs": [
    {
     "name": "stdout",
     "output_type": "stream",
     "text": [
      "1\n"
     ]
    },
    {
     "name": "stderr",
     "output_type": "stream",
     "text": [
      "Info: Params [2.81977415 2.13250712 1.15690562 2.66584208 2.74231853 3.43473939\n",
      " 4.09044137 2.2590359  1.60800437 2.77879998 2.68566251 2.80896225\n",
      " 5.57815622 4.63706001 0.78717396 0.33322946 0.36094623] gave -1033.1807465273162\n"
     ]
    },
    {
     "name": "stdout",
     "output_type": "stream",
     "text": [
      "3\n"
     ]
    },
    {
     "name": "stderr",
     "output_type": "stream",
     "text": [
      "Info: Params [2.96918276 1.58998162 1.58987833 1.95431871 3.0085352  2.43010941\n",
      " 3.23538451 2.19997756 1.74376279 2.37964703 1.92334634 2.15810732\n",
      " 7.11621951 2.35095748 1.16192993 0.28304928 0.35661196] gave -344.0318023529959\n"
     ]
    },
    {
     "name": "stdout",
     "output_type": "stream",
     "text": [
      "4\n"
     ]
    },
    {
     "name": "stderr",
     "output_type": "stream",
     "text": [
      "Info: Params [ 4.49023935  2.6343144   1.46854196  2.87974214  3.46370095  3.72289314\n",
      "  3.42445364  2.71439285  2.0125531   2.5837594   2.20627611  2.34520222\n",
      " 11.81686773  2.47434101  0.76667917  0.32590776  0.33163255] gave -1307.3476677424692\n"
     ]
    },
    {
     "name": "stdout",
     "output_type": "stream",
     "text": [
      "5\n"
     ]
    },
    {
     "name": "stderr",
     "output_type": "stream",
     "text": [
      "Info: Params [ 6.          4.15254754  2.39127486  3.96703517  4.04372894  3.94990993\n",
      "  3.98035692  2.82619442  2.89429505  3.13791605  2.27590436  2.75203659\n",
      " 14.03620607  4.96754045  1.83100345  0.30428647  0.33754281] gave -1423.8922434713006\n"
     ]
    },
    {
     "name": "stdout",
     "output_type": "stream",
     "text": [
      "6\n"
     ]
    },
    {
     "name": "stderr",
     "output_type": "stream",
     "text": [
      "Info: Params [2.09737587 1.46174517 0.42530476 0.93004458 0.70799649 0.61839615\n",
      " 3.69741014 2.33519452 1.53672781 2.308105   2.53324022 2.86622062\n",
      " 9.91335416 5.89436618 2.83457688 0.15332346 0.25155986] gave -440.54872910110595\n"
     ]
    },
    {
     "name": "stdout",
     "output_type": "stream",
     "text": [
      "7\n"
     ]
    },
    {
     "name": "stderr",
     "output_type": "stream",
     "text": [
      "Info: Params [ 0.21353064  0.          0.          1.77141129  2.2336253   1.75568769\n",
      "  2.49500321  1.46835761  0.73315789  1.6136717   1.45524227  1.75971901\n",
      " 10.0802956   6.3847938   4.32569286  0.10702681  0.12075449] gave -37.14761464307999\n"
     ]
    },
    {
     "name": "stdout",
     "output_type": "stream",
     "text": [
      "8\n"
     ]
    },
    {
     "name": "stderr",
     "output_type": "stream",
     "text": [
      "Info: Params [0.6261189  0.         0.         0.48878897 0.38252134 0.09177805\n",
      " 1.90481338 0.88662917 0.44452704 1.08857348 1.30216623 1.39854145\n",
      " 6.99777606 1.98649917 2.33738608 0.10380619 0.11539008] gave 1068.3093213883567\n"
     ]
    },
    {
     "name": "stdout",
     "output_type": "stream",
     "text": [
      "9\n"
     ]
    },
    {
     "name": "stderr",
     "output_type": "stream",
     "text": [
      "Info: Params [ 4.55065399  2.25982412  1.08951079  2.88840145  3.13198118  3.10161749\n",
      "  2.80530752  1.86270766  1.42433073  2.1149722   2.13591205  2.44009269\n",
      " 11.47597053  3.0380088   1.81332026  0.32267488  0.27316132] gave -606.6963495731216\n"
     ]
    },
    {
     "name": "stdout",
     "output_type": "stream",
     "text": [
      "10\n"
     ]
    },
    {
     "name": "stderr",
     "output_type": "stream",
     "text": [
      "Info: Params [2.55882434 1.41373352 0.46631439 2.31832193 2.26043202 2.63053199\n",
      " 4.38718501 2.44943924 1.83139174 2.53822836 1.84738622 2.58658474\n",
      " 8.38869934 2.88221403 1.08354884 0.25117008 0.3205955 ] gave -1627.7882177595322\n"
     ]
    },
    {
     "name": "stdout",
     "output_type": "stream",
     "text": [
      "11\n"
     ]
    },
    {
     "name": "stderr",
     "output_type": "stream",
     "text": [
      "Info: Params [ 3.89483842  1.18024483  0.9410061   1.35940319  2.15611589  2.2256024\n",
      "  4.65056206  2.55482606  1.58520489  2.33599132  2.30762984  2.29955095\n",
      " 11.17183465  4.47177697  1.05219097  0.32687009  0.35552172] gave -1818.4780863596834\n"
     ]
    },
    {
     "name": "stdout",
     "output_type": "stream",
     "text": [
      "12\n"
     ]
    },
    {
     "name": "stderr",
     "output_type": "stream",
     "text": [
      "Info: Params [2.18215723 1.21540795 0.4103514  1.39571081 1.41452256 1.50819416\n",
      " 2.46157858 1.21702083 0.85119081 1.64415268 1.63887137 1.57113526\n",
      " 7.00027696 3.54434213 2.15933209 0.18093994 0.16953778] gave 386.57634332622195\n"
     ]
    },
    {
     "name": "stdout",
     "output_type": "stream",
     "text": [
      "13\n"
     ]
    },
    {
     "name": "stderr",
     "output_type": "stream",
     "text": [
      "Info: Params [2.15991782 1.35686669 0.4039611  1.50764073 1.72435923 2.02333539\n",
      " 1.86361315 1.52078219 0.86007878 1.44700382 1.43206162 1.52873287\n",
      " 6.7003232  1.86356635 0.99021778 0.31210829 0.34097781] gave 396.1709602209547\n"
     ]
    },
    {
     "name": "stdout",
     "output_type": "stream",
     "text": [
      "14\n"
     ]
    },
    {
     "name": "stderr",
     "output_type": "stream",
     "text": [
      "Info: Params [3.95316475 2.36770526 1.46000662 1.93083957 1.58179638 1.8668942\n",
      " 2.83124308 1.93743065 1.44267214 1.82450362 1.39754563 1.48193676\n",
      " 7.64121618 1.92497815 1.92146816 0.25335421 0.19283208] gave 51.85303566896533\n"
     ]
    },
    {
     "name": "stdout",
     "output_type": "stream",
     "text": [
      "15\n"
     ]
    },
    {
     "name": "stderr",
     "output_type": "stream",
     "text": [
      "Info: Params [2.5455275  1.79165022 0.88104281 1.74410377 1.65151313 2.03301784\n",
      " 2.68206125 2.07518311 1.25587317 1.90027859 1.80800608 2.16823575\n",
      " 8.85981808 2.15841334 1.49026606 0.29637587 0.34652439] gave -443.6059869707941\n"
     ]
    },
    {
     "name": "stdout",
     "output_type": "stream",
     "text": [
      "16\n"
     ]
    },
    {
     "name": "stderr",
     "output_type": "stream",
     "text": [
      "Info: Params [1.55620647 1.06977001 0.5734009  1.10257575 0.77844077 0.79080768\n",
      " 2.26444114 1.87186178 1.356603   1.77746347 1.80748887 2.05335421\n",
      " 4.41869962 2.37327127 1.15474467 0.19866332 0.35864181] gave 501.09025170909183\n"
     ]
    },
    {
     "name": "stdout",
     "output_type": "stream",
     "text": [
      "17\n"
     ]
    },
    {
     "name": "stderr",
     "output_type": "stream",
     "text": [
      "Info: Params [3.56920089 2.50532988 1.98300567 2.02886458 2.18718859 2.13957323\n",
      " 3.17219239 2.47717925 1.99604928 2.30860954 2.20756874 2.19255318\n",
      " 6.79511136 2.62772454 1.76422059 0.26558392 0.31272896] gave -900.2065264830534\n"
     ]
    }
   ],
   "source": [
    "path = \"/Users/wangjiashun/Desktop/Research_on_SAT/datasets/transformed/Wagenmakers2008/SpeedAccData_new.csv\"\n",
    "participants = [1,  3,  4,  5,  6,  7,  8,  9, 10, 11, 12, 13, 14, 15, 16, 17]\n",
    "df_all = pd.DataFrame()\n",
    "\n",
    "for i in participants:\n",
    "        print(i)\n",
    "        df = pd.read_csv(path, sep = \",\")\n",
    "        df = df[df[\"Participant\"]==i]\n",
    "        df = df[df[\"Time\"]<5]\n",
    "\n",
    "        samp = Sample.from_pandas_dataframe(df, rt_column_name=\"Time\", choice_column_name=\"Correct\")\n",
    "        df = get_OUM_result_sub_2v2k2ter(samp)\n",
    "        df[\"Participant\"]=i\n",
    "        df_all = pd.concat((df_all,df))\n",
    "    \n",
    "df_OUM = df_all.copy()\n",
    "df_OUM.to_csv(\"Parameter Estimates/OUM2v2k2terCombinedresultWagenmakers2008.csv\")"
   ]
  },
  {
   "cell_type": "code",
   "execution_count": 9,
   "id": "a6bc8193",
   "metadata": {},
   "outputs": [
    {
     "data": {
      "text/html": [
       "<div>\n",
       "<style scoped>\n",
       "    .dataframe tbody tr th:only-of-type {\n",
       "        vertical-align: middle;\n",
       "    }\n",
       "\n",
       "    .dataframe tbody tr th {\n",
       "        vertical-align: top;\n",
       "    }\n",
       "\n",
       "    .dataframe thead th {\n",
       "        text-align: right;\n",
       "    }\n",
       "</style>\n",
       "<table border=\"1\" class=\"dataframe\">\n",
       "  <thead>\n",
       "    <tr style=\"text-align: right;\">\n",
       "      <th></th>\n",
       "      <th>V1Speed</th>\n",
       "      <th>V2Speed</th>\n",
       "      <th>V3Speed</th>\n",
       "      <th>V4Speed</th>\n",
       "      <th>V5Speed</th>\n",
       "      <th>V6Speed</th>\n",
       "      <th>V1Acc</th>\n",
       "      <th>V2Acc</th>\n",
       "      <th>V3Acc</th>\n",
       "      <th>V4Acc</th>\n",
       "      <th>V5Acc</th>\n",
       "      <th>V6Acc</th>\n",
       "      <th>KSpeed</th>\n",
       "      <th>KAcc</th>\n",
       "      <th>Boundary Separation</th>\n",
       "      <th>Non-decision Time Speed</th>\n",
       "      <th>Non-decision Time Accuracy</th>\n",
       "      <th>BIC</th>\n",
       "      <th>Participant</th>\n",
       "    </tr>\n",
       "  </thead>\n",
       "  <tbody>\n",
       "    <tr>\n",
       "      <th>0</th>\n",
       "      <td>2.819774</td>\n",
       "      <td>2.132507</td>\n",
       "      <td>1.156906</td>\n",
       "      <td>2.665842</td>\n",
       "      <td>2.742319</td>\n",
       "      <td>3.434739</td>\n",
       "      <td>4.090441</td>\n",
       "      <td>2.259036</td>\n",
       "      <td>1.608004</td>\n",
       "      <td>2.778800</td>\n",
       "      <td>2.685663</td>\n",
       "      <td>2.808962</td>\n",
       "      <td>5.578156</td>\n",
       "      <td>4.637060</td>\n",
       "      <td>0.787174</td>\n",
       "      <td>0.333229</td>\n",
       "      <td>0.360946</td>\n",
       "      <td>-1033.180747</td>\n",
       "      <td>1</td>\n",
       "    </tr>\n",
       "    <tr>\n",
       "      <th>0</th>\n",
       "      <td>2.969183</td>\n",
       "      <td>1.589982</td>\n",
       "      <td>1.589878</td>\n",
       "      <td>1.954319</td>\n",
       "      <td>3.008535</td>\n",
       "      <td>2.430109</td>\n",
       "      <td>3.235385</td>\n",
       "      <td>2.199978</td>\n",
       "      <td>1.743763</td>\n",
       "      <td>2.379647</td>\n",
       "      <td>1.923346</td>\n",
       "      <td>2.158107</td>\n",
       "      <td>7.116220</td>\n",
       "      <td>2.350957</td>\n",
       "      <td>1.161930</td>\n",
       "      <td>0.283049</td>\n",
       "      <td>0.356612</td>\n",
       "      <td>-344.031802</td>\n",
       "      <td>3</td>\n",
       "    </tr>\n",
       "    <tr>\n",
       "      <th>0</th>\n",
       "      <td>4.490239</td>\n",
       "      <td>2.634314</td>\n",
       "      <td>1.468542</td>\n",
       "      <td>2.879742</td>\n",
       "      <td>3.463701</td>\n",
       "      <td>3.722893</td>\n",
       "      <td>3.424454</td>\n",
       "      <td>2.714393</td>\n",
       "      <td>2.012553</td>\n",
       "      <td>2.583759</td>\n",
       "      <td>2.206276</td>\n",
       "      <td>2.345202</td>\n",
       "      <td>11.816868</td>\n",
       "      <td>2.474341</td>\n",
       "      <td>0.766679</td>\n",
       "      <td>0.325908</td>\n",
       "      <td>0.331633</td>\n",
       "      <td>-1307.347668</td>\n",
       "      <td>4</td>\n",
       "    </tr>\n",
       "    <tr>\n",
       "      <th>0</th>\n",
       "      <td>6.000000</td>\n",
       "      <td>4.152548</td>\n",
       "      <td>2.391275</td>\n",
       "      <td>3.967035</td>\n",
       "      <td>4.043729</td>\n",
       "      <td>3.949910</td>\n",
       "      <td>3.980357</td>\n",
       "      <td>2.826194</td>\n",
       "      <td>2.894295</td>\n",
       "      <td>3.137916</td>\n",
       "      <td>2.275904</td>\n",
       "      <td>2.752037</td>\n",
       "      <td>14.036206</td>\n",
       "      <td>4.967540</td>\n",
       "      <td>1.831003</td>\n",
       "      <td>0.304286</td>\n",
       "      <td>0.337543</td>\n",
       "      <td>-1423.892243</td>\n",
       "      <td>5</td>\n",
       "    </tr>\n",
       "    <tr>\n",
       "      <th>0</th>\n",
       "      <td>2.097376</td>\n",
       "      <td>1.461745</td>\n",
       "      <td>0.425305</td>\n",
       "      <td>0.930045</td>\n",
       "      <td>0.707996</td>\n",
       "      <td>0.618396</td>\n",
       "      <td>3.697410</td>\n",
       "      <td>2.335195</td>\n",
       "      <td>1.536728</td>\n",
       "      <td>2.308105</td>\n",
       "      <td>2.533240</td>\n",
       "      <td>2.866221</td>\n",
       "      <td>9.913354</td>\n",
       "      <td>5.894366</td>\n",
       "      <td>2.834577</td>\n",
       "      <td>0.153323</td>\n",
       "      <td>0.251560</td>\n",
       "      <td>-440.548729</td>\n",
       "      <td>6</td>\n",
       "    </tr>\n",
       "    <tr>\n",
       "      <th>0</th>\n",
       "      <td>0.213531</td>\n",
       "      <td>0.000000</td>\n",
       "      <td>0.000000</td>\n",
       "      <td>1.771411</td>\n",
       "      <td>2.233625</td>\n",
       "      <td>1.755688</td>\n",
       "      <td>2.495003</td>\n",
       "      <td>1.468358</td>\n",
       "      <td>0.733158</td>\n",
       "      <td>1.613672</td>\n",
       "      <td>1.455242</td>\n",
       "      <td>1.759719</td>\n",
       "      <td>10.080296</td>\n",
       "      <td>6.384794</td>\n",
       "      <td>4.325693</td>\n",
       "      <td>0.107027</td>\n",
       "      <td>0.120754</td>\n",
       "      <td>-37.147615</td>\n",
       "      <td>7</td>\n",
       "    </tr>\n",
       "    <tr>\n",
       "      <th>0</th>\n",
       "      <td>0.626119</td>\n",
       "      <td>0.000000</td>\n",
       "      <td>0.000000</td>\n",
       "      <td>0.488789</td>\n",
       "      <td>0.382521</td>\n",
       "      <td>0.091778</td>\n",
       "      <td>1.904813</td>\n",
       "      <td>0.886629</td>\n",
       "      <td>0.444527</td>\n",
       "      <td>1.088573</td>\n",
       "      <td>1.302166</td>\n",
       "      <td>1.398541</td>\n",
       "      <td>6.997776</td>\n",
       "      <td>1.986499</td>\n",
       "      <td>2.337386</td>\n",
       "      <td>0.103806</td>\n",
       "      <td>0.115390</td>\n",
       "      <td>1068.309321</td>\n",
       "      <td>8</td>\n",
       "    </tr>\n",
       "    <tr>\n",
       "      <th>0</th>\n",
       "      <td>4.550654</td>\n",
       "      <td>2.259824</td>\n",
       "      <td>1.089511</td>\n",
       "      <td>2.888401</td>\n",
       "      <td>3.131981</td>\n",
       "      <td>3.101617</td>\n",
       "      <td>2.805308</td>\n",
       "      <td>1.862708</td>\n",
       "      <td>1.424331</td>\n",
       "      <td>2.114972</td>\n",
       "      <td>2.135912</td>\n",
       "      <td>2.440093</td>\n",
       "      <td>11.475971</td>\n",
       "      <td>3.038009</td>\n",
       "      <td>1.813320</td>\n",
       "      <td>0.322675</td>\n",
       "      <td>0.273161</td>\n",
       "      <td>-606.696350</td>\n",
       "      <td>9</td>\n",
       "    </tr>\n",
       "    <tr>\n",
       "      <th>0</th>\n",
       "      <td>2.558824</td>\n",
       "      <td>1.413734</td>\n",
       "      <td>0.466314</td>\n",
       "      <td>2.318322</td>\n",
       "      <td>2.260432</td>\n",
       "      <td>2.630532</td>\n",
       "      <td>4.387185</td>\n",
       "      <td>2.449439</td>\n",
       "      <td>1.831392</td>\n",
       "      <td>2.538228</td>\n",
       "      <td>1.847386</td>\n",
       "      <td>2.586585</td>\n",
       "      <td>8.388699</td>\n",
       "      <td>2.882214</td>\n",
       "      <td>1.083549</td>\n",
       "      <td>0.251170</td>\n",
       "      <td>0.320596</td>\n",
       "      <td>-1627.788218</td>\n",
       "      <td>10</td>\n",
       "    </tr>\n",
       "    <tr>\n",
       "      <th>0</th>\n",
       "      <td>3.894838</td>\n",
       "      <td>1.180245</td>\n",
       "      <td>0.941006</td>\n",
       "      <td>1.359403</td>\n",
       "      <td>2.156116</td>\n",
       "      <td>2.225602</td>\n",
       "      <td>4.650562</td>\n",
       "      <td>2.554826</td>\n",
       "      <td>1.585205</td>\n",
       "      <td>2.335991</td>\n",
       "      <td>2.307630</td>\n",
       "      <td>2.299551</td>\n",
       "      <td>11.171835</td>\n",
       "      <td>4.471777</td>\n",
       "      <td>1.052191</td>\n",
       "      <td>0.326870</td>\n",
       "      <td>0.355522</td>\n",
       "      <td>-1818.478086</td>\n",
       "      <td>11</td>\n",
       "    </tr>\n",
       "    <tr>\n",
       "      <th>0</th>\n",
       "      <td>2.182157</td>\n",
       "      <td>1.215408</td>\n",
       "      <td>0.410351</td>\n",
       "      <td>1.395711</td>\n",
       "      <td>1.414523</td>\n",
       "      <td>1.508194</td>\n",
       "      <td>2.461579</td>\n",
       "      <td>1.217021</td>\n",
       "      <td>0.851191</td>\n",
       "      <td>1.644153</td>\n",
       "      <td>1.638871</td>\n",
       "      <td>1.571135</td>\n",
       "      <td>7.000277</td>\n",
       "      <td>3.544342</td>\n",
       "      <td>2.159332</td>\n",
       "      <td>0.180940</td>\n",
       "      <td>0.169538</td>\n",
       "      <td>386.576343</td>\n",
       "      <td>12</td>\n",
       "    </tr>\n",
       "    <tr>\n",
       "      <th>0</th>\n",
       "      <td>2.159918</td>\n",
       "      <td>1.356867</td>\n",
       "      <td>0.403961</td>\n",
       "      <td>1.507641</td>\n",
       "      <td>1.724359</td>\n",
       "      <td>2.023335</td>\n",
       "      <td>1.863613</td>\n",
       "      <td>1.520782</td>\n",
       "      <td>0.860079</td>\n",
       "      <td>1.447004</td>\n",
       "      <td>1.432062</td>\n",
       "      <td>1.528733</td>\n",
       "      <td>6.700323</td>\n",
       "      <td>1.863566</td>\n",
       "      <td>0.990218</td>\n",
       "      <td>0.312108</td>\n",
       "      <td>0.340978</td>\n",
       "      <td>396.170960</td>\n",
       "      <td>13</td>\n",
       "    </tr>\n",
       "    <tr>\n",
       "      <th>0</th>\n",
       "      <td>3.953165</td>\n",
       "      <td>2.367705</td>\n",
       "      <td>1.460007</td>\n",
       "      <td>1.930840</td>\n",
       "      <td>1.581796</td>\n",
       "      <td>1.866894</td>\n",
       "      <td>2.831243</td>\n",
       "      <td>1.937431</td>\n",
       "      <td>1.442672</td>\n",
       "      <td>1.824504</td>\n",
       "      <td>1.397546</td>\n",
       "      <td>1.481937</td>\n",
       "      <td>7.641216</td>\n",
       "      <td>1.924978</td>\n",
       "      <td>1.921468</td>\n",
       "      <td>0.253354</td>\n",
       "      <td>0.192832</td>\n",
       "      <td>51.853036</td>\n",
       "      <td>14</td>\n",
       "    </tr>\n",
       "    <tr>\n",
       "      <th>0</th>\n",
       "      <td>2.545528</td>\n",
       "      <td>1.791650</td>\n",
       "      <td>0.881043</td>\n",
       "      <td>1.744104</td>\n",
       "      <td>1.651513</td>\n",
       "      <td>2.033018</td>\n",
       "      <td>2.682061</td>\n",
       "      <td>2.075183</td>\n",
       "      <td>1.255873</td>\n",
       "      <td>1.900279</td>\n",
       "      <td>1.808006</td>\n",
       "      <td>2.168236</td>\n",
       "      <td>8.859818</td>\n",
       "      <td>2.158413</td>\n",
       "      <td>1.490266</td>\n",
       "      <td>0.296376</td>\n",
       "      <td>0.346524</td>\n",
       "      <td>-443.605987</td>\n",
       "      <td>15</td>\n",
       "    </tr>\n",
       "    <tr>\n",
       "      <th>0</th>\n",
       "      <td>1.556206</td>\n",
       "      <td>1.069770</td>\n",
       "      <td>0.573401</td>\n",
       "      <td>1.102576</td>\n",
       "      <td>0.778441</td>\n",
       "      <td>0.790808</td>\n",
       "      <td>2.264441</td>\n",
       "      <td>1.871862</td>\n",
       "      <td>1.356603</td>\n",
       "      <td>1.777463</td>\n",
       "      <td>1.807489</td>\n",
       "      <td>2.053354</td>\n",
       "      <td>4.418700</td>\n",
       "      <td>2.373271</td>\n",
       "      <td>1.154745</td>\n",
       "      <td>0.198663</td>\n",
       "      <td>0.358642</td>\n",
       "      <td>501.090252</td>\n",
       "      <td>16</td>\n",
       "    </tr>\n",
       "    <tr>\n",
       "      <th>0</th>\n",
       "      <td>3.569201</td>\n",
       "      <td>2.505330</td>\n",
       "      <td>1.983006</td>\n",
       "      <td>2.028865</td>\n",
       "      <td>2.187189</td>\n",
       "      <td>2.139573</td>\n",
       "      <td>3.172192</td>\n",
       "      <td>2.477179</td>\n",
       "      <td>1.996049</td>\n",
       "      <td>2.308610</td>\n",
       "      <td>2.207569</td>\n",
       "      <td>2.192553</td>\n",
       "      <td>6.795111</td>\n",
       "      <td>2.627725</td>\n",
       "      <td>1.764221</td>\n",
       "      <td>0.265584</td>\n",
       "      <td>0.312729</td>\n",
       "      <td>-900.206526</td>\n",
       "      <td>17</td>\n",
       "    </tr>\n",
       "  </tbody>\n",
       "</table>\n",
       "</div>"
      ],
      "text/plain": [
       "    V1Speed   V2Speed   V3Speed   V4Speed   V5Speed   V6Speed     V1Acc  \\\n",
       "0  2.819774  2.132507  1.156906  2.665842  2.742319  3.434739  4.090441   \n",
       "0  2.969183  1.589982  1.589878  1.954319  3.008535  2.430109  3.235385   \n",
       "0  4.490239  2.634314  1.468542  2.879742  3.463701  3.722893  3.424454   \n",
       "0  6.000000  4.152548  2.391275  3.967035  4.043729  3.949910  3.980357   \n",
       "0  2.097376  1.461745  0.425305  0.930045  0.707996  0.618396  3.697410   \n",
       "0  0.213531  0.000000  0.000000  1.771411  2.233625  1.755688  2.495003   \n",
       "0  0.626119  0.000000  0.000000  0.488789  0.382521  0.091778  1.904813   \n",
       "0  4.550654  2.259824  1.089511  2.888401  3.131981  3.101617  2.805308   \n",
       "0  2.558824  1.413734  0.466314  2.318322  2.260432  2.630532  4.387185   \n",
       "0  3.894838  1.180245  0.941006  1.359403  2.156116  2.225602  4.650562   \n",
       "0  2.182157  1.215408  0.410351  1.395711  1.414523  1.508194  2.461579   \n",
       "0  2.159918  1.356867  0.403961  1.507641  1.724359  2.023335  1.863613   \n",
       "0  3.953165  2.367705  1.460007  1.930840  1.581796  1.866894  2.831243   \n",
       "0  2.545528  1.791650  0.881043  1.744104  1.651513  2.033018  2.682061   \n",
       "0  1.556206  1.069770  0.573401  1.102576  0.778441  0.790808  2.264441   \n",
       "0  3.569201  2.505330  1.983006  2.028865  2.187189  2.139573  3.172192   \n",
       "\n",
       "      V2Acc     V3Acc     V4Acc     V5Acc     V6Acc     KSpeed      KAcc  \\\n",
       "0  2.259036  1.608004  2.778800  2.685663  2.808962   5.578156  4.637060   \n",
       "0  2.199978  1.743763  2.379647  1.923346  2.158107   7.116220  2.350957   \n",
       "0  2.714393  2.012553  2.583759  2.206276  2.345202  11.816868  2.474341   \n",
       "0  2.826194  2.894295  3.137916  2.275904  2.752037  14.036206  4.967540   \n",
       "0  2.335195  1.536728  2.308105  2.533240  2.866221   9.913354  5.894366   \n",
       "0  1.468358  0.733158  1.613672  1.455242  1.759719  10.080296  6.384794   \n",
       "0  0.886629  0.444527  1.088573  1.302166  1.398541   6.997776  1.986499   \n",
       "0  1.862708  1.424331  2.114972  2.135912  2.440093  11.475971  3.038009   \n",
       "0  2.449439  1.831392  2.538228  1.847386  2.586585   8.388699  2.882214   \n",
       "0  2.554826  1.585205  2.335991  2.307630  2.299551  11.171835  4.471777   \n",
       "0  1.217021  0.851191  1.644153  1.638871  1.571135   7.000277  3.544342   \n",
       "0  1.520782  0.860079  1.447004  1.432062  1.528733   6.700323  1.863566   \n",
       "0  1.937431  1.442672  1.824504  1.397546  1.481937   7.641216  1.924978   \n",
       "0  2.075183  1.255873  1.900279  1.808006  2.168236   8.859818  2.158413   \n",
       "0  1.871862  1.356603  1.777463  1.807489  2.053354   4.418700  2.373271   \n",
       "0  2.477179  1.996049  2.308610  2.207569  2.192553   6.795111  2.627725   \n",
       "\n",
       "   Boundary Separation  Non-decision Time Speed  Non-decision Time Accuracy  \\\n",
       "0             0.787174                 0.333229                    0.360946   \n",
       "0             1.161930                 0.283049                    0.356612   \n",
       "0             0.766679                 0.325908                    0.331633   \n",
       "0             1.831003                 0.304286                    0.337543   \n",
       "0             2.834577                 0.153323                    0.251560   \n",
       "0             4.325693                 0.107027                    0.120754   \n",
       "0             2.337386                 0.103806                    0.115390   \n",
       "0             1.813320                 0.322675                    0.273161   \n",
       "0             1.083549                 0.251170                    0.320596   \n",
       "0             1.052191                 0.326870                    0.355522   \n",
       "0             2.159332                 0.180940                    0.169538   \n",
       "0             0.990218                 0.312108                    0.340978   \n",
       "0             1.921468                 0.253354                    0.192832   \n",
       "0             1.490266                 0.296376                    0.346524   \n",
       "0             1.154745                 0.198663                    0.358642   \n",
       "0             1.764221                 0.265584                    0.312729   \n",
       "\n",
       "           BIC  Participant  \n",
       "0 -1033.180747            1  \n",
       "0  -344.031802            3  \n",
       "0 -1307.347668            4  \n",
       "0 -1423.892243            5  \n",
       "0  -440.548729            6  \n",
       "0   -37.147615            7  \n",
       "0  1068.309321            8  \n",
       "0  -606.696350            9  \n",
       "0 -1627.788218           10  \n",
       "0 -1818.478086           11  \n",
       "0   386.576343           12  \n",
       "0   396.170960           13  \n",
       "0    51.853036           14  \n",
       "0  -443.605987           15  \n",
       "0   501.090252           16  \n",
       "0  -900.206526           17  "
      ]
     },
     "execution_count": 9,
     "metadata": {},
     "output_type": "execute_result"
    }
   ],
   "source": [
    "df_OUM"
   ]
  },
  {
   "cell_type": "code",
   "execution_count": null,
   "id": "7400fe74",
   "metadata": {},
   "outputs": [],
   "source": []
  }
 ],
 "metadata": {
  "kernelspec": {
   "display_name": "Python 3 (ipykernel)",
   "language": "python",
   "name": "python3"
  },
  "language_info": {
   "codemirror_mode": {
    "name": "ipython",
    "version": 3
   },
   "file_extension": ".py",
   "mimetype": "text/x-python",
   "name": "python",
   "nbconvert_exporter": "python",
   "pygments_lexer": "ipython3",
   "version": "3.11.4"
  }
 },
 "nbformat": 4,
 "nbformat_minor": 5
}
