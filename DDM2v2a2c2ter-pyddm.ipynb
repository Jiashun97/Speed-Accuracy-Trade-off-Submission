{
 "cells": [
  {
   "cell_type": "code",
   "execution_count": 1,
   "id": "2cda49de",
   "metadata": {},
   "outputs": [],
   "source": [
    "%run SAT_help_functions.ipynb"
   ]
  },
  {
   "cell_type": "code",
   "execution_count": null,
   "id": "21316b10",
   "metadata": {},
   "outputs": [],
   "source": []
  },
  {
   "cell_type": "code",
   "execution_count": null,
   "id": "0236eadb",
   "metadata": {},
   "outputs": [],
   "source": []
  },
  {
   "cell_type": "code",
   "execution_count": null,
   "id": "2f74752d",
   "metadata": {},
   "outputs": [],
   "source": []
  },
  {
   "cell_type": "markdown",
   "id": "4bd26666",
   "metadata": {},
   "source": [
    "## OUM"
   ]
  },
  {
   "cell_type": "code",
   "execution_count": 2,
   "id": "80376f45",
   "metadata": {},
   "outputs": [],
   "source": [
    "SAT_conds = [\"Speed\", \"Accuracy\"]"
   ]
  },
  {
   "cell_type": "code",
   "execution_count": 6,
   "id": "9ef6c434",
   "metadata": {
    "scrolled": true
   },
   "outputs": [
    {
     "name": "stdout",
     "output_type": "stream",
     "text": [
      "0\n"
     ]
    },
    {
     "name": "stderr",
     "output_type": "stream",
     "text": [
      "Info: Params [1.03328607 1.27814357 0.7570706  0.78511995 0.61193195 0.\n",
      " 0.25764288 0.35402563] gave 249.96345428871714\n"
     ]
    },
    {
     "name": "stdout",
     "output_type": "stream",
     "text": [
      "1\n"
     ]
    },
    {
     "name": "stderr",
     "output_type": "stream",
     "text": [
      "Info: Params [0.22326555 0.56080823 0.91883105 0.88922528 1.14285714 0.08594368\n",
      " 0.25443625 0.45716292] gave 457.9209416294918\n"
     ]
    },
    {
     "name": "stdout",
     "output_type": "stream",
     "text": [
      "2\n"
     ]
    },
    {
     "name": "stderr",
     "output_type": "stream",
     "text": [
      "Info: Params [1.56941615 1.60519299 0.57449361 0.84933353 0.26402266 0.3240008\n",
      " 0.25854063 0.36391889] gave -13.51205046586147\n"
     ]
    },
    {
     "name": "stdout",
     "output_type": "stream",
     "text": [
      "3\n"
     ]
    },
    {
     "name": "stderr",
     "output_type": "stream",
     "text": [
      "Info: Params [0.20032132 1.05908356 0.50108871 0.96917357 0.30985917 0.08732138\n",
      " 0.20480021 0.23196473] gave 286.7790589019491\n"
     ]
    },
    {
     "name": "stdout",
     "output_type": "stream",
     "text": [
      "4\n"
     ]
    },
    {
     "name": "stderr",
     "output_type": "stream",
     "text": [
      "Info: Params [0.84559497 1.42536834 0.67660796 0.64423729 0.50066702 0.06666667\n",
      " 0.22347679 0.35331937] gave 127.9016245825192\n"
     ]
    },
    {
     "name": "stdout",
     "output_type": "stream",
     "text": [
      "5\n"
     ]
    },
    {
     "name": "stderr",
     "output_type": "stream",
     "text": [
      "Info: Params [1.47968491 1.31480039 0.84677233 0.96915091 1.20680533 0.36283186\n",
      " 0.33444152 0.47046051] gave 25.97340441024354\n"
     ]
    },
    {
     "name": "stdout",
     "output_type": "stream",
     "text": [
      "6\n"
     ]
    },
    {
     "name": "stderr",
     "output_type": "stream",
     "text": [
      "Info: Params [0.91960507 1.65852747 0.64815267 0.83555814 0.3392858  0.43750002\n",
      " 0.24326075 0.30529707] gave 76.65144832481114\n"
     ]
    },
    {
     "name": "stdout",
     "output_type": "stream",
     "text": [
      "7\n"
     ]
    },
    {
     "name": "stderr",
     "output_type": "stream",
     "text": [
      "Info: Params [1.29108368 1.83294671 0.84350874 0.99042603 0.98771472 1.02857143\n",
      " 0.27414266 0.33062407] gave -127.5975307801975\n"
     ]
    },
    {
     "name": "stdout",
     "output_type": "stream",
     "text": [
      "8\n"
     ]
    },
    {
     "name": "stderr",
     "output_type": "stream",
     "text": [
      "Info: Params [1.13067517 1.56114627 0.64027531 0.6920711  0.83333333 0.\n",
      " 0.34220401 0.36043199] gave 1.8085686250067425\n"
     ]
    },
    {
     "name": "stdout",
     "output_type": "stream",
     "text": [
      "9\n"
     ]
    },
    {
     "name": "stderr",
     "output_type": "stream",
     "text": [
      "Info: Params [0.39048126 0.97756687 0.87120686 1.10275223 1.17073193 0.29590032\n",
      " 0.1930249  0.42558198] gave 343.28450150308583\n"
     ]
    },
    {
     "name": "stdout",
     "output_type": "stream",
     "text": [
      "10\n"
     ]
    },
    {
     "name": "stderr",
     "output_type": "stream",
     "text": [
      "Info: Params [1.11815375 1.25982196 0.75091268 1.09865144 0.26114646 0.20447107\n",
      " 0.23258618 0.2998272 ] gave 403.70937172060786\n"
     ]
    },
    {
     "name": "stdout",
     "output_type": "stream",
     "text": [
      "11\n"
     ]
    },
    {
     "name": "stderr",
     "output_type": "stream",
     "text": [
      "Info: Params [1.37452681 1.17463973 0.66296619 0.72687044 0.49960291 0.10338034\n",
      " 0.30791226 0.40917969] gave 124.7657225688989\n"
     ]
    },
    {
     "name": "stdout",
     "output_type": "stream",
     "text": [
      "12\n"
     ]
    },
    {
     "name": "stderr",
     "output_type": "stream",
     "text": [
      "Info: Params [0.94287296 1.67607828 0.6099237  0.62272678 0.36734694 0.13637625\n",
      " 0.24243648 0.30540267] gave 104.41214364472759\n"
     ]
    },
    {
     "name": "stdout",
     "output_type": "stream",
     "text": [
      "13\n"
     ]
    },
    {
     "name": "stderr",
     "output_type": "stream",
     "text": [
      "Info: Params [1.12338574 1.17433181 0.68932774 0.79791829 0.67572446 0.04615384\n",
      " 0.23379005 0.32506083] gave 197.78569595879355\n"
     ]
    },
    {
     "name": "stdout",
     "output_type": "stream",
     "text": [
      "14\n"
     ]
    },
    {
     "name": "stderr",
     "output_type": "stream",
     "text": [
      "Info: Params [0.76464577 1.23484222 0.5205324  0.64590194 0.13732337 0.0558864\n",
      " 0.24003725 0.2663513 ] gave 151.88369882315953\n"
     ]
    },
    {
     "name": "stdout",
     "output_type": "stream",
     "text": [
      "15\n"
     ]
    },
    {
     "name": "stderr",
     "output_type": "stream",
     "text": [
      "Info: Params [1.37272356e+00 2.02500040e+00 5.93095872e-01 8.35227856e-01\n",
      " 4.77647077e-01 1.32968104e-03 2.49642075e-01 3.11688472e-01] gave -102.98471811160135\n"
     ]
    },
    {
     "name": "stdout",
     "output_type": "stream",
     "text": [
      "16\n"
     ]
    },
    {
     "name": "stderr",
     "output_type": "stream",
     "text": [
      "Info: Params [1.08586234e+00 8.28864360e-01 5.23037119e-01 5.74173208e-01\n",
      " 2.96698029e-01 8.48258453e-04 2.76396923e-01 3.71594609e-01] gave 146.87534929554784\n"
     ]
    },
    {
     "name": "stdout",
     "output_type": "stream",
     "text": [
      "17\n"
     ]
    },
    {
     "name": "stderr",
     "output_type": "stream",
     "text": [
      "Info: Params [1.86226463 1.90115153 0.62320245 0.64404214 0.4090909  0.00771813\n",
      " 0.2805003  0.35915569] gave -139.41291565902662\n"
     ]
    },
    {
     "name": "stdout",
     "output_type": "stream",
     "text": [
      "18\n"
     ]
    },
    {
     "name": "stderr",
     "output_type": "stream",
     "text": [
      "Info: Params [2.02526637 1.47150539 0.65245785 0.70295931 0.28307453 0.00207926\n",
      " 0.27392049 0.31661708] gave 27.975029785409383\n"
     ]
    },
    {
     "name": "stdout",
     "output_type": "stream",
     "text": [
      "19\n"
     ]
    },
    {
     "name": "stderr",
     "output_type": "stream",
     "text": [
      "Info: Params [0.26271259 0.69618733 0.62413249 0.6796957  0.31697488 0.14285714\n",
      " 0.24329578 0.32034209] gave 325.57118584245484\n"
     ]
    },
    {
     "name": "stdout",
     "output_type": "stream",
     "text": [
      "           1    2    3    4    5    6    7    8    9    10   11   12   13  \\\n",
      "Accuracy  1.0  1.0  1.0  1.0  1.0  1.0  1.0  1.0  1.0  1.0  1.0  1.0  1.0   \n",
      "Speed     1.0  1.0  1.0  1.0  1.0  1.0  1.0  1.0  1.0  1.0  1.0  1.0  1.0   \n",
      "\n",
      "           14   15   16   17   18   19   20  \n",
      "Accuracy  1.0  1.0  1.0  1.0  1.0  1.0  1.0  \n",
      "Speed     1.0  1.0  1.0  1.0  1.0  1.0  1.0  \n"
     ]
    }
   ],
   "source": [
    "data_dir = \"/Users/wangjiashun/Desktop/Research_on_SAT/datasets/transformed/Dutilh2019/sub\"\n",
    "sample_size = 20\n",
    "\n",
    "df_all = pd.DataFrame()\n",
    "valid_ratio_dfs = pd.DataFrame()\n",
    "\n",
    "for i in range(sample_size):\n",
    "    print(i)\n",
    "    path = os.path.join(data_dir+str(i+1)+\".csv\")\n",
    "    df = pd.read_csv(path, sep = \",\")\n",
    "    \n",
    "    counts_before = df['Cond'].value_counts()\n",
    "    df = df[df[\"Time\"]<5]\n",
    "    counts_after = df['Cond'].value_counts()\n",
    "    valid_ratio = counts_before/counts_after\n",
    "    valid_ratio_df = valid_ratio.to_frame(i+1)\n",
    "    valid_ratio_dfs = pd.concat((valid_ratio_dfs,valid_ratio_df), axis = 1)\n",
    "    \n",
    "    samp = Sample.from_pandas_dataframe(df, rt_column_name=\"Time\", choice_column_name=\"Correct\")\n",
    "    df = get_DDM_result_sub_2v2a2c2ter(samp)\n",
    "    df_all = pd.concat((df_all,df))\n",
    "    \n",
    "df_OUM = df_all.copy()\n",
    "df_OUM.to_csv(\"Parameter Estimates/DDM2v2a2c2terresultDutilh2019.csv\")\n",
    "print(valid_ratio_dfs)\n"
   ]
  },
  {
   "cell_type": "code",
   "execution_count": 7,
   "id": "e776257c",
   "metadata": {},
   "outputs": [
    {
     "name": "stdout",
     "output_type": "stream",
     "text": [
      "0\n"
     ]
    },
    {
     "name": "stderr",
     "output_type": "stream",
     "text": [
      "Info: Params [0.23287497 0.90418715 0.70353199 0.86030511 0.90804334 0.61466668\n",
      " 0.2466956  0.31939035] gave -17.628979903309755\n"
     ]
    },
    {
     "name": "stdout",
     "output_type": "stream",
     "text": [
      "1\n"
     ]
    },
    {
     "name": "stderr",
     "output_type": "stream",
     "text": [
      "Info: Params [2.14438373 1.4729186  0.53610934 0.6033358  0.11111111 0.15741357\n",
      " 0.35394631 0.38557603] gave -194.68527140917348\n"
     ]
    },
    {
     "name": "stdout",
     "output_type": "stream",
     "text": [
      "2\n"
     ]
    },
    {
     "name": "stderr",
     "output_type": "stream",
     "text": [
      "Info: Params [0.         0.         1.28666173 2.06215244 0.70783045 1.57798165\n",
      " 0.10823676 0.29764226] gave 486.9723006975304\n"
     ]
    },
    {
     "name": "stdout",
     "output_type": "stream",
     "text": [
      "3\n"
     ]
    },
    {
     "name": "stderr",
     "output_type": "stream",
     "text": [
      "Info: Params [3.06567484 5.73997073 0.98383754 3.06610048 2.07494413 3.14285836\n",
      " 0.30278402 0.16545459] gave -207.2832333819796\n"
     ]
    },
    {
     "name": "stdout",
     "output_type": "stream",
     "text": [
      "4\n"
     ]
    },
    {
     "name": "stderr",
     "output_type": "stream",
     "text": [
      "Info: Params [2.01559355 1.95266801 0.92639615 1.04432793 0.80555552 1.14999979\n",
      " 0.22237843 0.28122671] gave -97.2534973302005\n"
     ]
    },
    {
     "name": "stdout",
     "output_type": "stream",
     "text": [
      "5\n"
     ]
    },
    {
     "name": "stderr",
     "output_type": "stream",
     "text": [
      "Info: Params [1.3833169  1.76451702 0.7558514  1.18626584 0.86295251 1.01616367\n",
      " 0.25525311 0.26114138] gave -215.87622446301896\n"
     ]
    },
    {
     "name": "stdout",
     "output_type": "stream",
     "text": [
      "6\n"
     ]
    },
    {
     "name": "stderr",
     "output_type": "stream",
     "text": [
      "Info: Params [1.38170119 4.74894309 0.61068436 1.0047201  0.58587253 0.26596637\n",
      " 0.2309815  0.3723075 ] gave -495.2516589376872\n"
     ]
    },
    {
     "name": "stdout",
     "output_type": "stream",
     "text": [
      "7\n"
     ]
    },
    {
     "name": "stderr",
     "output_type": "stream",
     "text": [
      "Info: Params [1.38000044 2.18002018 0.86319902 0.7348969  0.55881752 0.32085791\n",
      " 0.17598346 0.28439076] gave -113.68415025855174\n"
     ]
    },
    {
     "name": "stdout",
     "output_type": "stream",
     "text": [
      "8\n"
     ]
    },
    {
     "name": "stderr",
     "output_type": "stream",
     "text": [
      "Info: Params [0.85030433 1.46598998 0.94816242 0.85047625 0.61427626 0.80591728\n",
      " 0.16389845 0.30848552] gave 109.12203017484195\n"
     ]
    },
    {
     "name": "stdout",
     "output_type": "stream",
     "text": [
      "9\n"
     ]
    },
    {
     "name": "stderr",
     "output_type": "stream",
     "text": [
      "Info: Params [0.         0.37255303 0.57267713 0.87308681 0.36509349 0.43639313\n",
      " 0.15366156 0.22525744] gave 283.0380614532521\n"
     ]
    },
    {
     "name": "stdout",
     "output_type": "stream",
     "text": [
      "10\n"
     ]
    },
    {
     "name": "stderr",
     "output_type": "stream",
     "text": [
      "Info: Params [2.76233979 3.66545003 1.30457319 1.15300369 1.40740741 0.87721289\n",
      " 0.29568279 0.36993747] gave -79.71314359651535\n"
     ]
    },
    {
     "name": "stdout",
     "output_type": "stream",
     "text": [
      "11\n"
     ]
    },
    {
     "name": "stderr",
     "output_type": "stream",
     "text": [
      "Info: Params [2.27871646 2.73000972 0.63976917 0.7954735  0.88461049 0.62388675\n",
      " 0.31318622 0.32628066] gave -705.2384513228934\n"
     ]
    },
    {
     "name": "stdout",
     "output_type": "stream",
     "text": [
      "12\n"
     ]
    },
    {
     "name": "stderr",
     "output_type": "stream",
     "text": [
      "Info: Params [3.7780692  2.80144495 0.8899398  0.76905611 1.2272722  1.40540529\n",
      " 0.28585745 0.30229584] gave -661.6720220552098\n"
     ]
    },
    {
     "name": "stdout",
     "output_type": "stream",
     "text": [
      "13\n"
     ]
    },
    {
     "name": "stderr",
     "output_type": "stream",
     "text": [
      "Info: Params [1.5378593  3.29617006 0.54601379 0.84674588 0.30385581 0.41876715\n",
      " 0.24398449 0.30762733] gave -409.74961243130616\n"
     ]
    },
    {
     "name": "stdout",
     "output_type": "stream",
     "text": [
      "14\n"
     ]
    },
    {
     "name": "stderr",
     "output_type": "stream",
     "text": [
      "Info: Params [0.46092453 0.09554394 0.57821844 1.00444223 0.5324659  0.62151199\n",
      " 0.33489497 0.24024043] gave 510.7282252895717\n"
     ]
    },
    {
     "name": "stdout",
     "output_type": "stream",
     "text": [
      "15\n"
     ]
    },
    {
     "name": "stderr",
     "output_type": "stream",
     "text": [
      "Info: Params [2.93676365 5.37058826 0.58304201 1.42642936 0.13961505 1.96246952\n",
      " 0.33687025 0.30294884] gave -472.43692941672555\n"
     ]
    },
    {
     "name": "stdout",
     "output_type": "stream",
     "text": [
      "16\n"
     ]
    },
    {
     "name": "stderr",
     "output_type": "stream",
     "text": [
      "Info: Params [0.58620881 1.69546264 0.69341226 1.16643414 0.37170508 0.88110869\n",
      " 0.14558476 0.2063408 ] gave 347.2364902362579\n"
     ]
    },
    {
     "name": "stdout",
     "output_type": "stream",
     "text": [
      "17\n"
     ]
    },
    {
     "name": "stderr",
     "output_type": "stream",
     "text": [
      "Info: Params [2.73452663 3.67953471 0.64329465 0.88721625 0.87977545 1.25532615\n",
      " 0.2638249  0.26913846] gave -1037.3232384933467\n"
     ]
    },
    {
     "name": "stdout",
     "output_type": "stream",
     "text": [
      "18\n"
     ]
    },
    {
     "name": "stderr",
     "output_type": "stream",
     "text": [
      "Info: Params [1.71109844 2.5848039  0.52130233 0.7912861  0.30769212 1.22077371\n",
      " 0.27951135 0.27360868] gave -354.0322016482585\n"
     ]
    },
    {
     "name": "stdout",
     "output_type": "stream",
     "text": [
      "19\n"
     ]
    },
    {
     "name": "stderr",
     "output_type": "stream",
     "text": [
      "Info: Params [1.4765577  3.13097215 0.85361652 0.72813921 1.39514937 0.57531336\n",
      " 0.19617109 0.28635376] gave -978.759180803685\n"
     ]
    },
    {
     "name": "stdout",
     "output_type": "stream",
     "text": [
      "20\n"
     ]
    },
    {
     "name": "stderr",
     "output_type": "stream",
     "text": [
      "Info: Params [0.56822645 2.2407805  0.50197506 1.05187661 0.47135293 1.41493688\n",
      " 0.21735433 0.25919612] gave -379.52208783357327\n"
     ]
    },
    {
     "name": "stdout",
     "output_type": "stream",
     "text": [
      "21\n"
     ]
    },
    {
     "name": "stderr",
     "output_type": "stream",
     "text": [
      "Info: Params [0.42199721 1.29637207 0.75617768 0.72270086 0.6768455  0.51459068\n",
      " 0.15559832 0.32752822] gave 125.12284457970173\n"
     ]
    },
    {
     "name": "stdout",
     "output_type": "stream",
     "text": [
      "22\n"
     ]
    },
    {
     "name": "stderr",
     "output_type": "stream",
     "text": [
      "Info: Params [2.44667427 5.19380695 1.33561745 1.91546322 2.94594595 4.\n",
      " 0.22875129 0.29583451] gave -265.3967354191801\n"
     ]
    },
    {
     "name": "stdout",
     "output_type": "stream",
     "text": [
      "23\n"
     ]
    },
    {
     "name": "stderr",
     "output_type": "stream",
     "text": [
      "Info: Params [1.65422334 3.45742141 0.58818343 0.51864345 1.14376201 0.6783797\n",
      " 0.2111931  0.30821953] gave -1187.8809833480248\n"
     ]
    },
    {
     "name": "stdout",
     "output_type": "stream",
     "text": [
      "24\n"
     ]
    },
    {
     "name": "stderr",
     "output_type": "stream",
     "text": [
      "Info: Params [2.13446225 4.18434111 0.71886242 0.53994883 1.17600676 0.00832502\n",
      " 0.24573789 0.34000178] gave -907.2643622505625\n"
     ]
    },
    {
     "name": "stdout",
     "output_type": "stream",
     "text": [
      "25\n"
     ]
    },
    {
     "name": "stderr",
     "output_type": "stream",
     "text": [
      "Info: Params [0.89245009 2.77408621 0.7598159  0.64639852 0.99004099 0.73053094\n",
      " 0.14531509 0.30652798] gave -545.1715400097629\n"
     ]
    },
    {
     "name": "stdout",
     "output_type": "stream",
     "text": [
      "26\n"
     ]
    },
    {
     "name": "stderr",
     "output_type": "stream",
     "text": [
      "Info: Params [5.79995002 2.52181123 2.50688925 1.10580475 1.74193623 1.82608641\n",
      " 0.14129122 0.26183877] gave -248.88533341154522\n"
     ]
    },
    {
     "name": "stdout",
     "output_type": "stream",
     "text": [
      "27\n"
     ]
    },
    {
     "name": "stderr",
     "output_type": "stream",
     "text": [
      "Info: Params [2.40046524 3.83226112 0.58661997 0.51410812 0.68181166 0.328125\n",
      " 0.24541099 0.29699914] gave -932.4636921084442\n"
     ]
    },
    {
     "name": "stdout",
     "output_type": "stream",
     "text": [
      "28\n"
     ]
    },
    {
     "name": "stderr",
     "output_type": "stream",
     "text": [
      "Info: Params [2.57881994 3.36955607 0.73601471 0.51793556 0.87218056 0.62706059\n",
      " 0.22265098 0.30178474] gave -916.6457518719907\n"
     ]
    },
    {
     "name": "stdout",
     "output_type": "stream",
     "text": [
      "29\n"
     ]
    },
    {
     "name": "stderr",
     "output_type": "stream",
     "text": [
      "Info: Params [2.96788983 2.77723748 0.61236719 0.62843545 0.83537718 0.53333334\n",
      " 0.31195593 0.31371873] gave -797.4600069353595\n"
     ]
    },
    {
     "name": "stdout",
     "output_type": "stream",
     "text": [
      "30\n"
     ]
    },
    {
     "name": "stderr",
     "output_type": "stream",
     "text": [
      "Info: Params [1.5771634  3.74492109 0.72909308 0.7656843  0.45516492 0.61685703\n",
      " 0.21810892 0.30109148] gave -297.25238036295355\n"
     ]
    },
    {
     "name": "stdout",
     "output_type": "stream",
     "text": [
      "31\n"
     ]
    },
    {
     "name": "stderr",
     "output_type": "stream",
     "text": [
      "Info: Params [1.86416707 3.93235622 0.62136035 0.94120689 1.00011447 1.83333332\n",
      " 0.24866844 0.27363373] gave -1382.78477654189\n"
     ]
    },
    {
     "name": "stdout",
     "output_type": "stream",
     "text": [
      "           1    2    3    4    5    6    7    8    9    10  ...   23   24  \\\n",
      "Speed     1.0  1.0  1.0  1.0  1.0  1.0  1.0  1.0  1.0  1.0  ...  1.0  1.0   \n",
      "Accuracy  1.0  1.0  1.0  1.0  1.0  1.0  1.0  1.0  1.0  1.0  ...  1.0  1.0   \n",
      "\n",
      "           25   26   27   28   29   30   31   32  \n",
      "Speed     1.0  1.0  1.0  1.0  1.0  1.0  1.0  1.0  \n",
      "Accuracy  1.0  1.0  1.0  1.0  1.0  1.0  1.0  1.0  \n",
      "\n",
      "[2 rows x 32 columns]\n"
     ]
    }
   ],
   "source": [
    "data_dir = \"/Users/wangjiashun/Desktop/Research_on_SAT/datasets/transformed/Dutilh2013/sub\"\n",
    "sample_size = 32\n",
    "\n",
    "df_all = pd.DataFrame()\n",
    "valid_ratio_dfs = pd.DataFrame()\n",
    "\n",
    "for i in range(sample_size):\n",
    "    print(i)\n",
    "    path = os.path.join(data_dir+str(i+1)+\".csv\")\n",
    "    df = pd.read_csv(path, sep = \",\")\n",
    "    \n",
    "    counts_before = df['Cond'].value_counts()\n",
    "    df = df[df[\"Time\"]<5]\n",
    "    counts_after = df['Cond'].value_counts()\n",
    "    valid_ratio = counts_before/counts_after\n",
    "    valid_ratio_df = valid_ratio.to_frame(i+1)\n",
    "    valid_ratio_dfs = pd.concat((valid_ratio_dfs,valid_ratio_df), axis = 1)\n",
    "    \n",
    "    samp = Sample.from_pandas_dataframe(df, rt_column_name=\"Time\", choice_column_name=\"Correct\")\n",
    "    df = get_DDM_result_sub_2v2a2c2ter(samp)\n",
    "    df_all = pd.concat((df_all,df))\n",
    "    \n",
    "df_OUM = df_all.copy()\n",
    "df_OUM.to_csv(\"Parameter Estimates/DDM2v2a2c2terresultDutilh2013.csv\")\n",
    "print(valid_ratio_dfs)"
   ]
  },
  {
   "cell_type": "code",
   "execution_count": 8,
   "id": "be2525bf",
   "metadata": {
    "scrolled": true
   },
   "outputs": [
    {
     "name": "stdout",
     "output_type": "stream",
     "text": [
      "0\n"
     ]
    },
    {
     "name": "stderr",
     "output_type": "stream",
     "text": [
      "Info: Params [0.74478768 0.88325673 0.61648464 0.90797821 0.31147542 0.\n",
      " 0.32796119 0.38580275] gave 500.9096004816787\n"
     ]
    },
    {
     "name": "stdout",
     "output_type": "stream",
     "text": [
      "1\n"
     ]
    },
    {
     "name": "stderr",
     "output_type": "stream",
     "text": [
      "Info: Params [2.67184271 0.97982618 0.68549827 1.25792215 0.53846154 0.\n",
      " 0.4370808  0.40425229] gave 259.11110746429574\n"
     ]
    },
    {
     "name": "stdout",
     "output_type": "stream",
     "text": [
      "2\n"
     ]
    },
    {
     "name": "stderr",
     "output_type": "stream",
     "text": [
      "Info: Params [1.23087485e+00 1.07755355e+00 7.03117649e-01 8.10275692e-01\n",
      " 2.53128016e-01 1.89868366e-04 2.25201606e-01 3.33704470e-01] gave 239.44291832650367\n"
     ]
    },
    {
     "name": "stdout",
     "output_type": "stream",
     "text": [
      "3\n"
     ]
    },
    {
     "name": "stderr",
     "output_type": "stream",
     "text": [
      "Info: Params [1.50608394 0.70882218 0.78391593 5.98001217 0.03334239 1.17428571\n",
      " 0.41262424 0.26511421] gave 631.1964115957807\n"
     ]
    },
    {
     "name": "stdout",
     "output_type": "stream",
     "text": [
      "4\n"
     ]
    },
    {
     "name": "stderr",
     "output_type": "stream",
     "text": [
      "Info: Params [1.78929964 1.0146138  0.73400541 0.87240281 0.55956551 0.03483615\n",
      " 0.34140789 0.37812183] gave 227.4922029809876\n"
     ]
    },
    {
     "name": "stdout",
     "output_type": "stream",
     "text": [
      "5\n"
     ]
    },
    {
     "name": "stderr",
     "output_type": "stream",
     "text": [
      "Info: Params [1.01631956e+00 9.35157002e-01 6.86355272e-01 9.39567303e-01\n",
      " 2.47818568e-04 2.37718133e-03 4.03493295e-01 4.83363579e-01] gave 467.82403602078824\n"
     ]
    },
    {
     "name": "stdout",
     "output_type": "stream",
     "text": [
      "6\n"
     ]
    },
    {
     "name": "stderr",
     "output_type": "stream",
     "text": [
      "Info: Params [0.60903024 0.89911144 0.65937769 0.68685594 0.41059691 0.01061338\n",
      " 0.18973536 0.38336256] gave 340.26095202753584\n"
     ]
    },
    {
     "name": "stdout",
     "output_type": "stream",
     "text": [
      "7\n"
     ]
    },
    {
     "name": "stderr",
     "output_type": "stream",
     "text": [
      "Info: Params [1.78655679e+00 1.58637397e+00 7.14578329e-01 7.92311563e-01\n",
      " 6.20769590e-01 6.90894215e-05 4.04587966e-01 5.20111329e-01] gave -81.20264316752902\n"
     ]
    },
    {
     "name": "stdout",
     "output_type": "stream",
     "text": [
      "8\n"
     ]
    },
    {
     "name": "stderr",
     "output_type": "stream",
     "text": [
      "Info: Params [1.90864153 1.18339672 0.83862678 1.00496484 0.41999994 0.\n",
      " 0.44617579 0.45369227] gave 178.2544123865871\n"
     ]
    },
    {
     "name": "stdout",
     "output_type": "stream",
     "text": [
      "9\n"
     ]
    },
    {
     "name": "stderr",
     "output_type": "stream",
     "text": [
      "Info: Params [0.76789085 0.4600665  0.68066358 0.94548822 0.         0.00314686\n",
      " 0.37355006 0.37452168] gave 832.2903398723923\n"
     ]
    },
    {
     "name": "stdout",
     "output_type": "stream",
     "text": [
      "10\n"
     ]
    },
    {
     "name": "stderr",
     "output_type": "stream",
     "text": [
      "Info: Params [0.99533725 0.3236069  0.61916503 1.22364709 0.01249905 0.05412219\n",
      " 0.4260926  0.4245524 ] gave 911.0997303218745\n"
     ]
    },
    {
     "name": "stdout",
     "output_type": "stream",
     "text": [
      "11\n"
     ]
    },
    {
     "name": "stderr",
     "output_type": "stream",
     "text": [
      "Info: Params [0.84333832 0.77222912 0.74379636 1.07321179 0.32432289 0.01515153\n",
      " 0.21210346 0.40048469] gave 686.8831999673952\n"
     ]
    },
    {
     "name": "stdout",
     "output_type": "stream",
     "text": [
      "12\n"
     ]
    },
    {
     "name": "stderr",
     "output_type": "stream",
     "text": [
      "Info: Params [1.36527623 0.71593092 0.76240147 1.35585591 0.0038369  0.0867742\n",
      " 0.40992311 0.37471554] gave 735.5166213791135\n"
     ]
    },
    {
     "name": "stdout",
     "output_type": "stream",
     "text": [
      "13\n"
     ]
    },
    {
     "name": "stderr",
     "output_type": "stream",
     "text": [
      "Info: Params [0.51821948 0.58801099 0.82383944 1.01898484 0.00701752 0.\n",
      " 0.37843825 0.44859695] gave 991.4167987856356\n"
     ]
    },
    {
     "name": "stdout",
     "output_type": "stream",
     "text": [
      "14\n"
     ]
    },
    {
     "name": "stderr",
     "output_type": "stream",
     "text": [
      "Info: Params [0.97070086 0.44695615 0.63788214 1.08379334 0.00121892 0.03290589\n",
      " 0.2946664  0.30013577] gave 891.7249693670509\n"
     ]
    },
    {
     "name": "stdout",
     "output_type": "stream",
     "text": [
      "15\n"
     ]
    },
    {
     "name": "stderr",
     "output_type": "stream",
     "text": [
      "Info: Params [1.54919865 0.83363707 0.66040165 1.1521011  0.049419   0.00889976\n",
      " 0.40374327 0.45438737] gave 619.7460212252649\n"
     ]
    },
    {
     "name": "stdout",
     "output_type": "stream",
     "text": [
      "16\n"
     ]
    },
    {
     "name": "stderr",
     "output_type": "stream",
     "text": [
      "Info: Params [1.56099182 0.84669657 0.76314397 1.15841345 0.01621649 0.\n",
      " 0.37066143 0.32405288] gave 667.9493126417387\n"
     ]
    },
    {
     "name": "stdout",
     "output_type": "stream",
     "text": [
      "17\n"
     ]
    },
    {
     "name": "stderr",
     "output_type": "stream",
     "text": [
      "Info: Params [1.20356292 0.59654337 0.56667801 0.87022645 0.05564261 0.\n",
      " 0.38601014 0.42387379] gave 525.2548831843877\n"
     ]
    },
    {
     "name": "stdout",
     "output_type": "stream",
     "text": [
      "18\n"
     ]
    },
    {
     "name": "stderr",
     "output_type": "stream",
     "text": [
      "Info: Params [1.07689002 0.75939013 0.68015588 0.94837197 0.0677966  0.00375858\n",
      " 0.35996158 0.29048089] gave 618.0142302412655\n"
     ]
    },
    {
     "name": "stdout",
     "output_type": "stream",
     "text": [
      "19\n"
     ]
    },
    {
     "name": "stderr",
     "output_type": "stream",
     "text": [
      "Info: Params [0.48163507 0.40116822 1.21364022 1.72043706 0.10169507 0.22800635\n",
      " 0.12452222 0.10862995] gave 1282.0625414196281\n"
     ]
    },
    {
     "name": "stdout",
     "output_type": "stream",
     "text": [
      "20\n"
     ]
    },
    {
     "name": "stderr",
     "output_type": "stream",
     "text": [
      "Info: Params [2.19433821 1.17135086 0.68340734 0.93810165 0.81905977 0.\n",
      " 0.32123567 0.39434655] gave 106.3550042395084\n"
     ]
    },
    {
     "name": "stdout",
     "output_type": "stream",
     "text": [
      "21\n"
     ]
    },
    {
     "name": "stderr",
     "output_type": "stream",
     "text": [
      "Info: Params [1.83576582 1.12068822 0.91356276 0.99955201 0.56666667 0.\n",
      " 0.33678511 0.45661691] gave 340.15324915093345\n"
     ]
    },
    {
     "name": "stdout",
     "output_type": "stream",
     "text": [
      "22\n"
     ]
    },
    {
     "name": "stderr",
     "output_type": "stream",
     "text": [
      "Info: Params [1.0117181  0.69266498 0.7389972  1.03698104 0.08955223 0.00722764\n",
      " 0.35216553 0.4414153 ] gave 757.6829911862324\n"
     ]
    },
    {
     "name": "stdout",
     "output_type": "stream",
     "text": [
      "23\n"
     ]
    },
    {
     "name": "stderr",
     "output_type": "stream",
     "text": [
      "Info: Params [1.06514886 0.53414965 0.7988566  1.60837077 0.14846109 0.14903762\n",
      " 0.48039464 0.40795307] gave 876.9424121157302\n"
     ]
    },
    {
     "name": "stdout",
     "output_type": "stream",
     "text": [
      "24\n"
     ]
    },
    {
     "name": "stderr",
     "output_type": "stream",
     "text": [
      "Info: Params [8.51204297e-01 9.76532546e-01 9.06135914e-01 9.73786326e-01\n",
      " 1.15132843e-01 8.36043708e-04 3.06327539e-01 4.68634922e-01] gave 747.0730618527007\n"
     ]
    },
    {
     "name": "stdout",
     "output_type": "stream",
     "text": [
      "25\n"
     ]
    },
    {
     "name": "stderr",
     "output_type": "stream",
     "text": [
      "Info: Params [2.11559881 1.14404636 0.76451614 1.1422348  0.71428571 0.15929188\n",
      " 0.47615786 0.49741123] gave 189.05144759334888\n"
     ]
    },
    {
     "name": "stdout",
     "output_type": "stream",
     "text": [
      "26\n"
     ]
    },
    {
     "name": "stderr",
     "output_type": "stream",
     "text": [
      "Info: Params [0.84308127 0.92608684 0.50909158 1.05471312 0.52303979 0.09358583\n",
      " 0.33363726 0.59005691] gave 263.7668265837699\n"
     ]
    },
    {
     "name": "stdout",
     "output_type": "stream",
     "text": [
      "27\n"
     ]
    },
    {
     "name": "stderr",
     "output_type": "stream",
     "text": [
      "Info: Params [1.78615479e+00 1.25214124e+00 5.34092780e-01 8.06095749e-01\n",
      " 1.41554725e-01 8.55777112e-05 4.57432138e-01 5.48697747e-01] gave 135.7871643574676\n"
     ]
    },
    {
     "name": "stdout",
     "output_type": "stream",
     "text": [
      "28\n"
     ]
    },
    {
     "name": "stderr",
     "output_type": "stream",
     "text": [
      "Info: Params [1.60755355e+00 1.40415842e+00 6.24466491e-01 7.69985586e-01\n",
      " 6.50923135e-01 2.51310854e-04 3.25069678e-01 4.81221841e-01] gave -112.41137061500889\n"
     ]
    },
    {
     "name": "stdout",
     "output_type": "stream",
     "text": [
      "29\n"
     ]
    },
    {
     "name": "stderr",
     "output_type": "stream",
     "text": [
      "Info: Params [0.79076939 0.53064219 0.90315924 1.30081306 0.1959245  0.0869559\n",
      " 0.4719754  0.6101533 ] gave 1001.0862651205515\n"
     ]
    },
    {
     "name": "stdout",
     "output_type": "stream",
     "text": [
      "30\n"
     ]
    },
    {
     "name": "stderr",
     "output_type": "stream",
     "text": [
      "Info: Params [1.24086485 1.34834644 0.64701733 0.68928141 0.20740582 0.\n",
      " 0.30600731 0.42857999] gave 213.85949948937935\n"
     ]
    },
    {
     "name": "stdout",
     "output_type": "stream",
     "text": [
      "31\n"
     ]
    },
    {
     "name": "stderr",
     "output_type": "stream",
     "text": [
      "Info: Params [1.4294814  1.31208591 0.89423389 1.13545402 0.01144923 0.\n",
      " 0.38620167 0.36105417] gave 563.1839268856454\n"
     ]
    },
    {
     "name": "stdout",
     "output_type": "stream",
     "text": [
      "32\n"
     ]
    },
    {
     "name": "stderr",
     "output_type": "stream",
     "text": [
      "Info: Params [1.64184485 1.29127935 0.63744344 0.93098932 0.04944417 0.00365605\n",
      " 0.36536554 0.47545124] gave 282.9920868522577\n"
     ]
    },
    {
     "name": "stdout",
     "output_type": "stream",
     "text": [
      "33\n"
     ]
    },
    {
     "name": "stderr",
     "output_type": "stream",
     "text": [
      "Info: Params [4.59246227e-01 1.33860946e+00 6.79979665e-01 9.03136056e-01\n",
      " 3.93124960e-01 2.13835868e-04 1.89777227e-01 5.15071579e-01] gave 335.14355788504224\n"
     ]
    },
    {
     "name": "stdout",
     "output_type": "stream",
     "text": [
      "34\n"
     ]
    },
    {
     "name": "stderr",
     "output_type": "stream",
     "text": [
      "Info: Params [1.31816176e+00 1.65717634e+00 5.05428211e-01 6.75115388e-01\n",
      " 4.55985755e-01 5.70372516e-04 3.17111768e-01 3.61579298e-01] gave -123.02355311165168\n"
     ]
    },
    {
     "name": "stdout",
     "output_type": "stream",
     "text": [
      "35\n"
     ]
    },
    {
     "name": "stderr",
     "output_type": "stream",
     "text": [
      "Info: Params [1.62880562e+00 9.37372870e-01 5.61424588e-01 8.19069776e-01\n",
      " 1.02932670e+00 1.14036195e-04 4.08327370e-01 5.16709397e-01] gave 74.61990609828213\n"
     ]
    },
    {
     "name": "stdout",
     "output_type": "stream",
     "text": [
      "36\n"
     ]
    },
    {
     "name": "stderr",
     "output_type": "stream",
     "text": [
      "Info: Params [1.02641975 1.21896753 0.82808872 1.01418009 0.21373947 0.00143182\n",
      " 0.29159097 0.360527  ] gave 560.4860296385395\n"
     ]
    },
    {
     "name": "stdout",
     "output_type": "stream",
     "text": [
      "37\n"
     ]
    },
    {
     "name": "stderr",
     "output_type": "stream",
     "text": [
      "Info: Params [1.5825354  1.74042444 0.62902375 0.87116557 0.78723406 0.41025637\n",
      " 0.28563941 0.41455487] gave -72.72159739534617\n"
     ]
    },
    {
     "name": "stdout",
     "output_type": "stream",
     "text": [
      "38\n"
     ]
    },
    {
     "name": "stderr",
     "output_type": "stream",
     "text": [
      "Info: Params [1.86549103 1.7930454  0.69608214 0.81538982 0.63707182 0.0839715\n",
      " 0.29442261 0.47731144] gave -101.6794351785566\n"
     ]
    },
    {
     "name": "stdout",
     "output_type": "stream",
     "text": [
      "39\n"
     ]
    },
    {
     "name": "stderr",
     "output_type": "stream",
     "text": [
      "Info: Params [0.84189798 0.59868081 0.80952657 2.34332064 0.59574448 0.33163251\n",
      " 0.33669093 0.12146628] gave 618.6114407044246\n"
     ]
    },
    {
     "name": "stdout",
     "output_type": "stream",
     "text": [
      "40\n"
     ]
    },
    {
     "name": "stderr",
     "output_type": "stream",
     "text": [
      "Info: Params [2.30957598 1.02178103 0.8257667  1.07621777 0.31878063 0.0025804\n",
      " 0.32967503 0.49168854] gave 319.8626950104122\n"
     ]
    },
    {
     "name": "stdout",
     "output_type": "stream",
     "text": [
      "41\n"
     ]
    },
    {
     "name": "stderr",
     "output_type": "stream",
     "text": [
      "Info: Params [1.45415198 1.01200433 0.72475825 1.04031205 0.77777777 0.\n",
      " 0.3277235  0.35360378] gave 349.5677054268637\n"
     ]
    },
    {
     "name": "stdout",
     "output_type": "stream",
     "text": [
      "42\n"
     ]
    },
    {
     "name": "stderr",
     "output_type": "stream",
     "text": [
      "Info: Params [1.21196407 0.80694364 0.7961111  0.90759031 0.49367091 0.\n",
      " 0.34682989 0.4083709 ] gave 501.4818097071244\n"
     ]
    },
    {
     "name": "stdout",
     "output_type": "stream",
     "text": [
      "43\n"
     ]
    },
    {
     "name": "stderr",
     "output_type": "stream",
     "text": [
      "Info: Params [0.70949794 0.5685805  0.69469249 1.53473715 0.07692307 0.16922823\n",
      " 0.33106301 0.13400884] gave 919.9180888424846\n"
     ]
    },
    {
     "name": "stdout",
     "output_type": "stream",
     "text": [
      "44\n"
     ]
    },
    {
     "name": "stderr",
     "output_type": "stream",
     "text": [
      "Info: Params [2.12825351 1.07406672 0.61574114 0.92146104 0.00718863 0.\n",
      " 0.38105036 0.36365633] gave 376.8678158083806\n"
     ]
    },
    {
     "name": "stdout",
     "output_type": "stream",
     "text": [
      "45\n"
     ]
    },
    {
     "name": "stderr",
     "output_type": "stream",
     "text": [
      "Info: Params [1.20855921 1.17452913 0.75362293 0.87394835 0.29178413 0.00133762\n",
      " 0.36840202 0.41740989] gave 379.1711016029226\n"
     ]
    },
    {
     "name": "stdout",
     "output_type": "stream",
     "text": [
      "46\n"
     ]
    },
    {
     "name": "stderr",
     "output_type": "stream",
     "text": [
      "Info: Params [1.62626253 0.86618498 0.80698929 1.61792937 0.39814814 0.13382951\n",
      " 0.29299365 0.43221732] gave 578.8627784234324\n"
     ]
    },
    {
     "name": "stdout",
     "output_type": "stream",
     "text": [
      "           1    2    3    4    5    6    7    8    9    10  ...   38   39  \\\n",
      "Accuracy  1.0  1.0  1.0  1.0  1.0  1.0  1.0  1.0  1.0  1.0  ...  1.0  1.0   \n",
      "Speed     1.0  1.0  1.0  1.0  1.0  1.0  1.0  1.0  1.0  1.0  ...  1.0  1.0   \n",
      "\n",
      "           40   41   42   43   44   45   46   47  \n",
      "Accuracy  1.0  1.0  1.0  1.0  1.0  1.0  1.0  1.0  \n",
      "Speed     1.0  1.0  1.0  1.0  1.0  1.0  1.0  1.0  \n",
      "\n",
      "[2 rows x 47 columns]\n"
     ]
    }
   ],
   "source": [
    "data_dir = \"/Users/wangjiashun/Desktop/Research_on_SAT/datasets/transformed/Evans2017/sub\"\n",
    "sample_size = 47\n",
    "\n",
    "df_all = pd.DataFrame()\n",
    "valid_ratio_dfs = pd.DataFrame()\n",
    "\n",
    "for i in range(sample_size):\n",
    "    print(i)\n",
    "    path = os.path.join(data_dir+str(i+1)+\".csv\")\n",
    "    df = pd.read_csv(path, sep = \",\")\n",
    "    \n",
    "    counts_before = df['Cond'].value_counts()\n",
    "    df = df[df[\"Time\"]<5]\n",
    "    counts_after = df['Cond'].value_counts()\n",
    "    valid_ratio = counts_before/counts_after\n",
    "    valid_ratio_df = valid_ratio.to_frame(i+1)\n",
    "    valid_ratio_dfs = pd.concat((valid_ratio_dfs,valid_ratio_df), axis = 1)\n",
    "    \n",
    "    samp = Sample.from_pandas_dataframe(df, rt_column_name=\"Time\", choice_column_name=\"Correct\")\n",
    "    df = get_DDM_result_sub_2v2a2c2ter(samp)\n",
    "    df_all = pd.concat((df_all,df))\n",
    "    \n",
    "df_OUM = df_all.copy()\n",
    "df_OUM.to_csv(\"Parameter Estimates/DDM2v2a2c2terresultEvans2017.csv\")\n",
    "print(valid_ratio_dfs)"
   ]
  },
  {
   "cell_type": "code",
   "execution_count": null,
   "id": "37140e6d",
   "metadata": {},
   "outputs": [],
   "source": []
  },
  {
   "cell_type": "code",
   "execution_count": 8,
   "id": "11deb9df",
   "metadata": {},
   "outputs": [
    {
     "name": "stdout",
     "output_type": "stream",
     "text": [
      "0\n"
     ]
    },
    {
     "name": "stderr",
     "output_type": "stream",
     "text": [
      "Info: Params [0.27497953 0.10148805 1.39528193 5.44097761 0.06363506 0.21648625\n",
      " 0.78062363 0.96869226] gave 910.2186337147538\n"
     ]
    },
    {
     "name": "stdout",
     "output_type": "stream",
     "text": [
      "1\n"
     ]
    },
    {
     "name": "stderr",
     "output_type": "stream",
     "text": [
      "Info: Params [0.30991701 0.20080682 3.22346    4.58975311 0.19916432 0.21618372\n",
      " 0.78148926 0.74973031] gave 986.7714699393932\n"
     ]
    },
    {
     "name": "stdout",
     "output_type": "stream",
     "text": [
      "2\n"
     ]
    },
    {
     "name": "stderr",
     "output_type": "stream",
     "text": [
      "Info: Params [0.         0.03578433 0.84893789 1.09058524 0.         0.05614972\n",
      " 0.1020107  0.38440222] gave 480.95902246430455\n"
     ]
    },
    {
     "name": "stdout",
     "output_type": "stream",
     "text": [
      "3\n"
     ]
    },
    {
     "name": "stderr",
     "output_type": "stream",
     "text": [
      "Info: Params [0.09805933 0.08590396 1.54737446 2.43889016 0.08945687 0.19629357\n",
      " 0.10431102 0.4202167 ] gave 828.261078699209\n"
     ]
    },
    {
     "name": "stdout",
     "output_type": "stream",
     "text": [
      "4\n"
     ]
    },
    {
     "name": "stderr",
     "output_type": "stream",
     "text": [
      "Info: Params [0.16627897 0.13189196 2.63670302 3.54081149 0.00953544 0.04366119\n",
      " 0.73380373 0.70002008] gave 1169.16240852577\n"
     ]
    },
    {
     "name": "stdout",
     "output_type": "stream",
     "text": [
      "5\n"
     ]
    },
    {
     "name": "stderr",
     "output_type": "stream",
     "text": [
      "Info: Params [0.23470995 0.14216301 1.27926804 5.49828403 0.19780219 0.2146858\n",
      " 0.7707315  0.98763918] gave 833.1246352784655\n"
     ]
    },
    {
     "name": "stdout",
     "output_type": "stream",
     "text": [
      "6\n"
     ]
    },
    {
     "name": "stderr",
     "output_type": "stream",
     "text": [
      "Info: Params [0.20276436 0.2549885  1.02653357 2.08315427 0.39748418 0.14516116\n",
      " 0.31392645 0.95900079] gave 576.5755915905222\n"
     ]
    },
    {
     "name": "stdout",
     "output_type": "stream",
     "text": [
      "7\n"
     ]
    },
    {
     "name": "stderr",
     "output_type": "stream",
     "text": [
      "Info: Params [0.24034409 0.25707837 0.75755417 2.29989267 0.08695651 0.26923106\n",
      " 0.69920687 0.37780417] gave 548.5610529104273\n"
     ]
    },
    {
     "name": "stdout",
     "output_type": "stream",
     "text": [
      "8\n"
     ]
    },
    {
     "name": "stderr",
     "output_type": "stream",
     "text": [
      "Info: Params [0.         0.01596278 0.97785618 1.2080856  0.17977547 0.\n",
      " 0.1167537  0.10846397] gave 632.6443466987766\n"
     ]
    },
    {
     "name": "stdout",
     "output_type": "stream",
     "text": [
      "9\n"
     ]
    },
    {
     "name": "stderr",
     "output_type": "stream",
     "text": [
      "Info: Params [0.         0.10198343 1.63161204 2.01318441 0.03718709 0.10104529\n",
      " 0.101432   0.10348   ] gave 929.8042184035253\n"
     ]
    },
    {
     "name": "stdout",
     "output_type": "stream",
     "text": [
      "10\n"
     ]
    },
    {
     "name": "stderr",
     "output_type": "stream",
     "text": [
      "Info: Params [0.66517449 0.20701554 1.3423062  4.6468365  0.30188965 0.1655793\n",
      " 0.95913446 0.55630922] gave 769.062090721671\n"
     ]
    },
    {
     "name": "stdout",
     "output_type": "stream",
     "text": [
      "11\n"
     ]
    },
    {
     "name": "stderr",
     "output_type": "stream",
     "text": [
      "Info: Params [0.         0.07588817 0.72634096 5.96258351 0.         0.14128935\n",
      " 0.39595001 0.99503841] gave 732.6098626252463\n"
     ]
    },
    {
     "name": "stdout",
     "output_type": "stream",
     "text": [
      "12\n"
     ]
    },
    {
     "name": "stderr",
     "output_type": "stream",
     "text": [
      "Info: Params [0.27769018 0.28299269 1.33287802 2.08452018 0.2764713  0.11161787\n",
      " 0.68533268 0.98891568] gave 669.7251280323557\n"
     ]
    },
    {
     "name": "stdout",
     "output_type": "stream",
     "text": [
      "13\n"
     ]
    },
    {
     "name": "stderr",
     "output_type": "stream",
     "text": [
      "Info: Params [0.19490397 0.19427633 3.50807928 4.2798344  0.67000012 0.09581553\n",
      " 0.14221634 0.41113906] gave 903.9133636689779\n"
     ]
    },
    {
     "name": "stdout",
     "output_type": "stream",
     "text": [
      "14\n"
     ]
    },
    {
     "name": "stderr",
     "output_type": "stream",
     "text": [
      "Info: Params [0.09844714 0.17452905 1.50546184 3.30932678 0.27736603 0.07471821\n",
      " 0.11590211 0.53252752] gave 884.8678438929314\n"
     ]
    },
    {
     "name": "stdout",
     "output_type": "stream",
     "text": [
      "15\n"
     ]
    },
    {
     "name": "stderr",
     "output_type": "stream",
     "text": [
      "Info: Params [3.35573526e-03 9.76270891e-02 1.56992618e+00 5.85647142e+00\n",
      " 5.33333387e-01 1.57833661e-01 6.05564678e-01 8.30360343e-01] gave 850.3723377490713\n"
     ]
    },
    {
     "name": "stdout",
     "output_type": "stream",
     "text": [
      "16\n"
     ]
    },
    {
     "name": "stderr",
     "output_type": "stream",
     "text": [
      "Info: Params [0.24265264 0.22136699 1.86889704 2.22971735 0.30183652 0.25044163\n",
      " 0.10998863 0.79396031] gave 717.8016916687772\n"
     ]
    },
    {
     "name": "stdout",
     "output_type": "stream",
     "text": [
      "17\n"
     ]
    },
    {
     "name": "stderr",
     "output_type": "stream",
     "text": [
      "Info: Params [0.24502058 0.142745   1.27736347 2.19502953 0.40384617 0.08707778\n",
      " 0.13834596 0.10834576] gave 684.3233467735192\n"
     ]
    },
    {
     "name": "stdout",
     "output_type": "stream",
     "text": [
      "18\n"
     ]
    },
    {
     "name": "stderr",
     "output_type": "stream",
     "text": [
      "Info: Params [0.22567309 0.12109073 1.53225456 2.19253037 0.04276065 0.09322059\n",
      " 0.9256312  0.75456619] gave 834.2114368133426\n"
     ]
    },
    {
     "name": "stdout",
     "output_type": "stream",
     "text": [
      "19\n"
     ]
    },
    {
     "name": "stderr",
     "output_type": "stream",
     "text": [
      "Info: Params [0.2214603  0.20037211 1.57678963 5.83585459 0.26947991 0.14685955\n",
      " 0.58780034 0.9071311 ] gave 885.4951835024618\n"
     ]
    },
    {
     "name": "stdout",
     "output_type": "stream",
     "text": [
      "20\n"
     ]
    },
    {
     "name": "stderr",
     "output_type": "stream",
     "text": [
      "Info: Params [0.23471941 0.13331778 2.14450233 1.92962492 0.26000001 0.39909069\n",
      " 0.11474591 0.68812706] gave 676.7003344723178\n"
     ]
    },
    {
     "name": "stdout",
     "output_type": "stream",
     "text": [
      "21\n"
     ]
    },
    {
     "name": "stderr",
     "output_type": "stream",
     "text": [
      "Info: Params [0.         0.02567132 1.13177921 1.27119766 0.20930233 0.33497502\n",
      " 0.28034899 0.43363746] gave 493.33848496713296\n"
     ]
    },
    {
     "name": "stdout",
     "output_type": "stream",
     "text": [
      "22\n"
     ]
    },
    {
     "name": "stderr",
     "output_type": "stream",
     "text": [
      "Info: Params [0.23260053 0.16544571 0.89413691 3.48790318 0.20000004 0.2172938\n",
      " 0.29210961 0.2221417 ] gave 673.5158670084401\n"
     ]
    },
    {
     "name": "stdout",
     "output_type": "stream",
     "text": [
      "23\n"
     ]
    },
    {
     "name": "stderr",
     "output_type": "stream",
     "text": [
      "Info: Params [0.19680297 0.16537644 3.39210692 4.24474693 0.15206274 0.17581201\n",
      " 0.91910242 0.72678137] gave 1057.9606492149019\n"
     ]
    },
    {
     "name": "stdout",
     "output_type": "stream",
     "text": [
      "24\n"
     ]
    },
    {
     "name": "stderr",
     "output_type": "stream",
     "text": [
      "Info: Params [0.32760513 0.15703375 0.69678869 1.18628657 0.32017255 0.30398868\n",
      " 0.38254408 0.52538634] gave 320.19913775144965\n"
     ]
    },
    {
     "name": "stdout",
     "output_type": "stream",
     "text": [
      "25\n"
     ]
    },
    {
     "name": "stderr",
     "output_type": "stream",
     "text": [
      "Info: Params [0.30570016 0.09276546 0.89573801 1.94163635 0.0302005  0.\n",
      " 0.42504001 0.10239981] gave 1295.5444542737393\n"
     ]
    },
    {
     "name": "stdout",
     "output_type": "stream",
     "text": [
      "26\n"
     ]
    },
    {
     "name": "stderr",
     "output_type": "stream",
     "text": [
      "Info: Params [0.18085248 0.1774007  2.17338249 3.35560123 0.4258756  0.09662934\n",
      " 0.25204247 0.96826214] gave 869.0707230600301\n"
     ]
    },
    {
     "name": "stdout",
     "output_type": "stream",
     "text": [
      "27\n"
     ]
    },
    {
     "name": "stderr",
     "output_type": "stream",
     "text": [
      "Info: Params [0.17047979 0.21536714 1.34607907 5.48372795 0.         0.22748815\n",
      " 0.10789937 0.86599452] gave 982.359932485598\n"
     ]
    },
    {
     "name": "stdout",
     "output_type": "stream",
     "text": [
      "28\n"
     ]
    },
    {
     "name": "stderr",
     "output_type": "stream",
     "text": [
      "Info: Params [0.13256415 0.09314834 2.43569144 5.12671581 0.14849486 0.11969362\n",
      " 0.890756   0.63396184] gave 1085.273163629601\n"
     ]
    },
    {
     "name": "stdout",
     "output_type": "stream",
     "text": [
      "29\n"
     ]
    },
    {
     "name": "stderr",
     "output_type": "stream",
     "text": [
      "Info: Params [0.16977572 0.19190788 5.38494619 4.1393559  0.46692954 0.36495117\n",
      " 0.78191838 0.85617494] gave 888.654627931139\n"
     ]
    },
    {
     "name": "stdout",
     "output_type": "stream",
     "text": [
      "30\n"
     ]
    },
    {
     "name": "stderr",
     "output_type": "stream",
     "text": [
      "Info: Params [0.07630903 0.29319015 0.92538094 2.62439891 0.38613861 0.19168255\n",
      " 0.10296821 0.57680115] gave 594.0075684216408\n"
     ]
    },
    {
     "name": "stdout",
     "output_type": "stream",
     "text": [
      "31\n"
     ]
    },
    {
     "name": "stderr",
     "output_type": "stream",
     "text": [
      "Info: Params [0.19082126 0.14517243 1.3037632  3.01430685 0.         0.01240175\n",
      " 0.10939305 0.1045081 ] gave 1022.8910877506049\n"
     ]
    },
    {
     "name": "stdout",
     "output_type": "stream",
     "text": [
      "32\n"
     ]
    },
    {
     "name": "stderr",
     "output_type": "stream",
     "text": [
      "Info: Params [0.         0.42640459 0.61785671 2.02953602 0.         0.11907767\n",
      " 0.11093273 0.38800295] gave 516.6372692629759\n"
     ]
    },
    {
     "name": "stdout",
     "output_type": "stream",
     "text": [
      "33\n"
     ]
    },
    {
     "name": "stderr",
     "output_type": "stream",
     "text": [
      "Info: Params [0.03080722 0.10308169 1.52861127 2.0714608  0.37008871 0.21554675\n",
      " 0.10181861 0.99224902] gave 671.0918338531397\n"
     ]
    },
    {
     "name": "stdout",
     "output_type": "stream",
     "text": [
      "34\n"
     ]
    },
    {
     "name": "stderr",
     "output_type": "stream",
     "text": [
      "Info: Params [0.24356371 0.29546305 1.86131487 5.28728021 0.16666666 0.23707339\n",
      " 0.61864753 0.52819434] gave 888.1189285083653\n"
     ]
    },
    {
     "name": "stdout",
     "output_type": "stream",
     "text": [
      "35\n"
     ]
    },
    {
     "name": "stderr",
     "output_type": "stream",
     "text": [
      "Info: Params [0.37019338 0.2186507  2.71418799 4.18084956 0.03977333 0.09321913\n",
      " 0.17839596 0.15984305] gave 1071.9753734036442\n"
     ]
    },
    {
     "name": "stdout",
     "output_type": "stream",
     "text": [
      "36\n"
     ]
    },
    {
     "name": "stderr",
     "output_type": "stream",
     "text": [
      "Info: Params [0.17410297 0.09911166 1.91112013 2.57613447 0.17925173 0.4909893\n",
      " 0.9182265  0.96306742] gave 712.4777370866484\n"
     ]
    },
    {
     "name": "stdout",
     "output_type": "stream",
     "text": [
      "37\n"
     ]
    },
    {
     "name": "stderr",
     "output_type": "stream",
     "text": [
      "Info: Params [1.13762032e-01 1.39907181e-01 1.58527052e+00 3.43476879e+00\n",
      " 1.32902532e-03 3.72451085e-02 1.08842236e-01 1.96799326e-01] gave 1123.9626326168163\n"
     ]
    },
    {
     "name": "stdout",
     "output_type": "stream",
     "text": [
      "           1    2    3    4         5    6    7    8    9    10  ...  \\\n",
      "Accuracy  1.0  1.0  1.0  1.0  1.037975  1.0  1.0  1.0  1.0  1.0  ...   \n",
      "Speed     1.0  1.0  1.0  1.0  1.000000  1.0  1.0  1.0  1.0  1.0  ...   \n",
      "\n",
      "                29   30   31        32   33   34   35        36   37        38  \n",
      "Accuracy  1.051282  1.0  1.0  1.012346  1.0  1.0  1.0  1.012346  1.0  1.078947  \n",
      "Speed     1.000000  1.0  1.0  1.000000  1.0  1.0  1.0  1.000000  1.0  1.000000  \n",
      "\n",
      "[2 rows x 38 columns]\n"
     ]
    }
   ],
   "source": [
    "data_dir = \"/Users/wangjiashun/Desktop/Research_on_SAT/datasets/transformed/Lerche2017/sub\"\n",
    "sample_size = 38\n",
    "\n",
    "df_all = pd.DataFrame()\n",
    "valid_ratio_dfs = pd.DataFrame()\n",
    "\n",
    "for i in range(sample_size):\n",
    "    print(i)\n",
    "    path = os.path.join(data_dir+str(i+1)+\".csv\")\n",
    "    df = pd.read_csv(path, sep = \",\")\n",
    "    \n",
    "    counts_before = df['Cond'].value_counts()\n",
    "    df = df[df[\"Time\"]<30]\n",
    "    counts_after = df['Cond'].value_counts()\n",
    "    valid_ratio = counts_before/counts_after\n",
    "    valid_ratio_df = valid_ratio.to_frame(i+1)\n",
    "    valid_ratio_dfs = pd.concat((valid_ratio_dfs,valid_ratio_df), axis = 1)\n",
    "    \n",
    "    samp = Sample.from_pandas_dataframe(df, rt_column_name=\"Time\", choice_column_name=\"Correct\")\n",
    "    df = get_DDM_result_sub_2v2a2c2ter(samp,dt=0.01,T_dur=30)\n",
    "    df_all = pd.concat((df_all,df))\n",
    "    \n",
    "df_OUM = df_all.copy()\n",
    "df_OUM.to_csv(\"Parameter Estimates/DDM2v2a2c2terresultLerche2017.csv\")\n",
    "print(valid_ratio_dfs)"
   ]
  },
  {
   "cell_type": "code",
   "execution_count": 7,
   "id": "c318c1a7",
   "metadata": {},
   "outputs": [
    {
     "data": {
      "text/html": [
       "<div>\n",
       "<style scoped>\n",
       "    .dataframe tbody tr th:only-of-type {\n",
       "        vertical-align: middle;\n",
       "    }\n",
       "\n",
       "    .dataframe tbody tr th {\n",
       "        vertical-align: top;\n",
       "    }\n",
       "\n",
       "    .dataframe thead th {\n",
       "        text-align: right;\n",
       "    }\n",
       "</style>\n",
       "<table border=\"1\" class=\"dataframe\">\n",
       "  <thead>\n",
       "    <tr style=\"text-align: right;\">\n",
       "      <th></th>\n",
       "      <th>Drift Rate Speed</th>\n",
       "      <th>Drift Rate Accuracy</th>\n",
       "      <th>BSpeed</th>\n",
       "      <th>BAcc</th>\n",
       "      <th>Collapse Speed</th>\n",
       "      <th>Collapse Accuracy</th>\n",
       "      <th>Non-decision Time Speed</th>\n",
       "      <th>Non-decision Time Accuracy</th>\n",
       "      <th>BIC</th>\n",
       "    </tr>\n",
       "  </thead>\n",
       "  <tbody>\n",
       "    <tr>\n",
       "      <th>0</th>\n",
       "      <td>0.382185</td>\n",
       "      <td>0.102199</td>\n",
       "      <td>0.72571</td>\n",
       "      <td>1.179363</td>\n",
       "      <td>0.333333</td>\n",
       "      <td>0.30906</td>\n",
       "      <td>0.383679</td>\n",
       "      <td>0.533587</td>\n",
       "      <td>319.581473</td>\n",
       "    </tr>\n",
       "  </tbody>\n",
       "</table>\n",
       "</div>"
      ],
      "text/plain": [
       "   Drift Rate Speed  Drift Rate Accuracy   BSpeed      BAcc  Collapse Speed  \\\n",
       "0          0.382185             0.102199  0.72571  1.179363        0.333333   \n",
       "\n",
       "   Collapse Accuracy  Non-decision Time Speed  Non-decision Time Accuracy  \\\n",
       "0            0.30906                 0.383679                    0.533587   \n",
       "\n",
       "          BIC  \n",
       "0  319.581473  "
      ]
     },
     "execution_count": 7,
     "metadata": {},
     "output_type": "execute_result"
    }
   ],
   "source": [
    "df_all"
   ]
  },
  {
   "cell_type": "code",
   "execution_count": 10,
   "id": "c63aea59",
   "metadata": {},
   "outputs": [
    {
     "name": "stdout",
     "output_type": "stream",
     "text": [
      "0\n"
     ]
    },
    {
     "name": "stderr",
     "output_type": "stream",
     "text": [
      "Info: Params [1.43572476 1.78752937 0.63349691 0.86391928 0.34849564 0.54060229\n",
      " 0.23444556 0.26417883] gave -862.7632764911915\n"
     ]
    },
    {
     "name": "stdout",
     "output_type": "stream",
     "text": [
      "1\n"
     ]
    },
    {
     "name": "stderr",
     "output_type": "stream",
     "text": [
      "Info: Params [1.06977718 1.89559516 0.58399933 0.59294878 0.50371049 0.49731452\n",
      " 0.23942597 0.30262201] gave -1835.7854235709501\n"
     ]
    },
    {
     "name": "stdout",
     "output_type": "stream",
     "text": [
      "2\n"
     ]
    },
    {
     "name": "stderr",
     "output_type": "stream",
     "text": [
      "Info: Params [0.32425348 0.44115062 0.50492039 0.60699895 0.1479588  0.26502065\n",
      " 0.17680198 0.17756762] gave 132.57634351635758\n"
     ]
    },
    {
     "name": "stdout",
     "output_type": "stream",
     "text": [
      "3\n"
     ]
    },
    {
     "name": "stderr",
     "output_type": "stream",
     "text": [
      "Info: Params [2.14865898 2.5952375  0.55767779 0.5433382  0.88884421 0.43126983\n",
      " 0.28145687 0.30640568] gave -3753.257329928454\n"
     ]
    },
    {
     "name": "stdout",
     "output_type": "stream",
     "text": [
      "4\n"
     ]
    },
    {
     "name": "stderr",
     "output_type": "stream",
     "text": [
      "Info: Params [0.50103203 0.68665251 0.54548491 0.704435   0.43805645 0.74411628\n",
      " 0.1727238  0.17786319] gave -176.1435552018685\n"
     ]
    },
    {
     "name": "stdout",
     "output_type": "stream",
     "text": [
      "5\n"
     ]
    },
    {
     "name": "stderr",
     "output_type": "stream",
     "text": [
      "Info: Params [1.92399657 2.42564802 0.54616818 0.62877685 0.47141044 1.09427696\n",
      " 0.24178029 0.27475861] gave -1726.0375912995426\n"
     ]
    },
    {
     "name": "stdout",
     "output_type": "stream",
     "text": [
      "6\n"
     ]
    },
    {
     "name": "stderr",
     "output_type": "stream",
     "text": [
      "Info: Params [1.63038561 2.02887581 0.50349731 0.50874417 0.5523451  0.27518568\n",
      " 0.2797338  0.31527872] gave -2633.742255006244\n"
     ]
    },
    {
     "name": "stdout",
     "output_type": "stream",
     "text": [
      "7\n"
     ]
    },
    {
     "name": "stderr",
     "output_type": "stream",
     "text": [
      "Info: Params [1.76282987 1.91551629 0.52156248 0.68677623 0.67913503 0.2178463\n",
      " 0.24506729 0.27576058] gave -1723.5025564909192\n"
     ]
    },
    {
     "name": "stdout",
     "output_type": "stream",
     "text": [
      "8\n"
     ]
    },
    {
     "name": "stderr",
     "output_type": "stream",
     "text": [
      "Info: Params [1.7289147  2.15588853 0.61882012 0.70633125 0.6973492  1.02601641\n",
      " 0.27108523 0.29160436] gave -1337.3749218700777\n"
     ]
    },
    {
     "name": "stdout",
     "output_type": "stream",
     "text": [
      "9\n"
     ]
    },
    {
     "name": "stderr",
     "output_type": "stream",
     "text": [
      "Info: Params [1.09416958 1.77444559 0.58571855 0.55788027 0.64511134 0.34020153\n",
      " 0.21851288 0.27169373] gave -1773.8270079207116\n"
     ]
    },
    {
     "name": "stdout",
     "output_type": "stream",
     "text": [
      "10\n"
     ]
    },
    {
     "name": "stderr",
     "output_type": "stream",
     "text": [
      "Info: Params [0.22918048 0.31123412 0.50175024 0.51646589 0.14302686 0.16049821\n",
      " 0.17438822 0.17381364] gave -130.56028735725874\n"
     ]
    },
    {
     "name": "stdout",
     "output_type": "stream",
     "text": [
      "11\n"
     ]
    },
    {
     "name": "stderr",
     "output_type": "stream",
     "text": [
      "Info: Params [0.87433089 1.28958352 0.52080357 0.83276118 0.22030033 0.40009853\n",
      " 0.2113433  0.25063664] gave 11.008308903693496\n"
     ]
    },
    {
     "name": "stdout",
     "output_type": "stream",
     "text": [
      "12\n"
     ]
    },
    {
     "name": "stderr",
     "output_type": "stream",
     "text": [
      "Info: Params [0.44868941 1.0962461  0.56647957 0.66993934 0.24581353 0.32523037\n",
      " 0.17552021 0.21567979] gave 100.10086303455662\n"
     ]
    },
    {
     "name": "stdout",
     "output_type": "stream",
     "text": [
      "13\n"
     ]
    },
    {
     "name": "stderr",
     "output_type": "stream",
     "text": [
      "Info: Params [0.04838132 0.58064821 0.50260968 0.50641523 0.29895769 0.09330016\n",
      " 0.15457152 0.17119048] gave -198.84331693670742\n"
     ]
    },
    {
     "name": "stdout",
     "output_type": "stream",
     "text": [
      "14\n"
     ]
    },
    {
     "name": "stderr",
     "output_type": "stream",
     "text": [
      "Info: Params [1.4284803  1.53123389 0.56457572 0.51572422 0.33941215 0.17992454\n",
      " 0.32195587 0.35357841] gave -868.9430771526632\n"
     ]
    },
    {
     "name": "stdout",
     "output_type": "stream",
     "text": [
      "15\n"
     ]
    },
    {
     "name": "stderr",
     "output_type": "stream",
     "text": [
      "Info: Params [0.14401806 0.6524846  0.52288403 0.61429057 0.1898801  0.28332962\n",
      " 0.17763108 0.19777182] gave 340.0974625120399\n"
     ]
    },
    {
     "name": "stdout",
     "output_type": "stream",
     "text": [
      "16\n"
     ]
    },
    {
     "name": "stderr",
     "output_type": "stream",
     "text": [
      "Info: Params [0.70713834 0.6782363  0.50442641 0.71006597 0.53715341 1.20130943\n",
      " 0.17156286 0.16488845] gave -1509.2904665428723\n"
     ]
    },
    {
     "name": "stdout",
     "output_type": "stream",
     "text": [
      "17\n"
     ]
    },
    {
     "name": "stderr",
     "output_type": "stream",
     "text": [
      "Info: Params [0.44628398 1.09925893 0.51467344 0.81744037 0.2147597  0.52173263\n",
      " 0.1577056  0.17255131] gave 355.7535003552113\n"
     ]
    },
    {
     "name": "stdout",
     "output_type": "stream",
     "text": [
      "18\n"
     ]
    },
    {
     "name": "stderr",
     "output_type": "stream",
     "text": [
      "Info: Params [2.08129809 2.64322737 0.8024329  0.86509233 0.68257826 0.90565585\n",
      " 0.37826148 0.39631729] gave -2587.6099427370414\n"
     ]
    },
    {
     "name": "stdout",
     "output_type": "stream",
     "text": [
      "19\n"
     ]
    },
    {
     "name": "stderr",
     "output_type": "stream",
     "text": [
      "Info: Params [0.42313236 0.66592019 0.62546646 0.75383812 0.85975141 1.0514163\n",
      " 0.17664819 0.18554606] gave -841.1217763826195\n"
     ]
    },
    {
     "name": "stdout",
     "output_type": "stream",
     "text": [
      "20\n"
     ]
    },
    {
     "name": "stderr",
     "output_type": "stream",
     "text": [
      "Info: Params [0.23697045 0.12660475 0.50238848 0.53589303 0.32959405 0.45581946\n",
      " 0.16528393 0.16697996] gave -536.8209976766249\n"
     ]
    },
    {
     "name": "stdout",
     "output_type": "stream",
     "text": [
      "21\n"
     ]
    },
    {
     "name": "stderr",
     "output_type": "stream",
     "text": [
      "Info: Params [0.42836767 0.88695299 0.60694189 0.76791858 0.38529135 0.42599881\n",
      " 0.1835279  0.19794899] gave 697.0315891019394\n"
     ]
    },
    {
     "name": "stdout",
     "output_type": "stream",
     "text": [
      "22\n"
     ]
    },
    {
     "name": "stderr",
     "output_type": "stream",
     "text": [
      "Info: Params [0.01882471 0.22653912 0.50313098 0.50961014 0.27030708 0.19927811\n",
      " 0.15266461 0.17297446] gave -526.7702477352069\n"
     ]
    },
    {
     "name": "stdout",
     "output_type": "stream",
     "text": [
      "23\n"
     ]
    },
    {
     "name": "stderr",
     "output_type": "stream",
     "text": [
      "Info: Params [0.18430799 0.62703259 0.52175587 0.70274219 0.40795723 0.51801145\n",
      " 0.18660039 0.19811285] gave 26.97312837243743\n"
     ]
    },
    {
     "name": "stdout",
     "output_type": "stream",
     "text": [
      "24\n"
     ]
    },
    {
     "name": "stderr",
     "output_type": "stream",
     "text": [
      "Info: Params [0.1666956  0.8232406  0.50631334 1.06081296 0.16408921 0.61473816\n",
      " 0.14874869 0.15188838] gave 401.02372555499267\n"
     ]
    },
    {
     "name": "stdout",
     "output_type": "stream",
     "text": [
      "25\n"
     ]
    },
    {
     "name": "stderr",
     "output_type": "stream",
     "text": [
      "Info: Params [0.72320531 0.91711967 0.5149104  0.59145875 0.51955324 0.30966826\n",
      " 0.19470959 0.17725724] gave -553.3319943856596\n"
     ]
    },
    {
     "name": "stdout",
     "output_type": "stream",
     "text": [
      "26\n"
     ]
    },
    {
     "name": "stderr",
     "output_type": "stream",
     "text": [
      "Info: Params [1.11521206 1.57836416 0.55273029 0.74014077 0.57948052 0.67021192\n",
      " 0.1790738  0.23996606] gave -693.4565628339767\n"
     ]
    },
    {
     "name": "stdout",
     "output_type": "stream",
     "text": [
      "27\n"
     ]
    },
    {
     "name": "stderr",
     "output_type": "stream",
     "text": [
      "Info: Params [0.17070699 0.11071691 0.60227924 0.54842334 1.00989182 0.7661047\n",
      " 0.18204253 0.2252985 ] gave -842.3482882548444\n"
     ]
    },
    {
     "name": "stdout",
     "output_type": "stream",
     "text": [
      "28\n"
     ]
    },
    {
     "name": "stderr",
     "output_type": "stream",
     "text": [
      "Info: Params [0.41534151 0.70141609 0.50412998 0.71071478 0.23765186 0.42917061\n",
      " 0.17198396 0.17655689] gave 65.1380492524816\n"
     ]
    },
    {
     "name": "stdout",
     "output_type": "stream",
     "text": [
      "29\n"
     ]
    },
    {
     "name": "stderr",
     "output_type": "stream",
     "text": [
      "Info: Params [0.16150147 0.21098769 0.58572867 0.63620203 0.51335014 0.3076923\n",
      " 0.17668253 0.1766825 ] gave 327.916519633532\n"
     ]
    },
    {
     "name": "stdout",
     "output_type": "stream",
     "text": [
      "30\n"
     ]
    },
    {
     "name": "stderr",
     "output_type": "stream",
     "text": [
      "Info: Params [0.25525783 0.21212016 0.50323479 0.50561744 0.15880421 0.17764085\n",
      " 0.1747383  0.17473381] gave -65.43135688447285\n"
     ]
    },
    {
     "name": "stdout",
     "output_type": "stream",
     "text": [
      "31\n"
     ]
    },
    {
     "name": "stderr",
     "output_type": "stream",
     "text": [
      "Info: Params [0.43249235 0.29687129 0.50075799 0.50725404 0.29664074 0.1652116\n",
      " 0.17594843 0.18544431] gave -32.97417615443298\n"
     ]
    },
    {
     "name": "stdout",
     "output_type": "stream",
     "text": [
      "32\n"
     ]
    },
    {
     "name": "stderr",
     "output_type": "stream",
     "text": [
      "Info: Params [0.16165213 0.20731193 0.58042643 0.62994378 0.51339658 0.3055533\n",
      " 0.17582413 0.17658954] gave 328.09703255498863\n"
     ]
    },
    {
     "name": "stdout",
     "output_type": "stream",
     "text": [
      "33\n"
     ]
    },
    {
     "name": "stderr",
     "output_type": "stream",
     "text": [
      "Info: Params [0.14215312 0.60788107 0.50649861 1.04135165 0.22071867 0.64080533\n",
      " 0.1881082  0.18318349] gave 538.3126950980611\n"
     ]
    },
    {
     "name": "stdout",
     "output_type": "stream",
     "text": [
      "           1    2    3    4    5    6    7    8    9    10  ...   25   26  \\\n",
      "Speed     1.0  1.0  1.0  1.0  1.0  1.0  1.0  1.0  1.0  1.0  ...  1.0  1.0   \n",
      "Accuracy  1.0  1.0  1.0  1.0  1.0  1.0  1.0  1.0  1.0  1.0  ...  1.0  1.0   \n",
      "\n",
      "           27   28   29   30   31   32   33   34  \n",
      "Speed     1.0  1.0  1.0  1.0  1.0  1.0  1.0  1.0  \n",
      "Accuracy  1.0  1.0  1.0  1.0  1.0  1.0  1.0  1.0  \n",
      "\n",
      "[2 rows x 34 columns]\n"
     ]
    }
   ],
   "source": [
    "data_dir = \"/Users/wangjiashun/Desktop/Research_on_SAT/datasets/transformed/Rae2014/sub\"\n",
    "sample_size = 34\n",
    "\n",
    "df_all = pd.DataFrame()\n",
    "valid_ratio_dfs = pd.DataFrame()\n",
    "\n",
    "for i in range(sample_size):\n",
    "    print(i)\n",
    "    path = os.path.join(data_dir+str(i+1)+\".csv\")\n",
    "    df = pd.read_csv(path, sep = \",\")\n",
    "    \n",
    "    counts_before = df['Cond'].value_counts()\n",
    "    df = df[df[\"Time\"]<5]\n",
    "    counts_after = df['Cond'].value_counts()\n",
    "    valid_ratio = counts_before/counts_after\n",
    "    valid_ratio_df = valid_ratio.to_frame(i+1)\n",
    "    valid_ratio_dfs = pd.concat((valid_ratio_dfs,valid_ratio_df), axis = 1)\n",
    "    \n",
    "    samp = Sample.from_pandas_dataframe(df, rt_column_name=\"Time\", choice_column_name=\"Correct\")\n",
    "    df = get_DDM_result_sub_2v2a2c2ter(samp)\n",
    "    df_all = pd.concat((df_all,df))\n",
    "    \n",
    "df_OUM = df_all.copy()\n",
    "df_OUM.to_csv(\"Parameter Estimates/DDM2v2a2c2terresultRae2014.csv\")\n",
    "print(valid_ratio_dfs)"
   ]
  },
  {
   "cell_type": "code",
   "execution_count": 11,
   "id": "3284c710",
   "metadata": {},
   "outputs": [
    {
     "name": "stdout",
     "output_type": "stream",
     "text": [
      "1\n"
     ]
    },
    {
     "name": "stderr",
     "output_type": "stream",
     "text": [
      "Info: Params [3.00448771 3.55052205 0.51622037 0.56994518 0.         0.63636363\n",
      " 0.35785559 0.37700467] gave -258.7580516088094\n"
     ]
    },
    {
     "name": "stdout",
     "output_type": "stream",
     "text": [
      "1\n"
     ]
    },
    {
     "name": "stderr",
     "output_type": "stream",
     "text": [
      "Info: Params [2.40274723 2.31060348 0.50344902 0.59955158 0.46666666 0.08571112\n",
      " 0.37710458 0.37917473] gave -131.6050799101094\n"
     ]
    },
    {
     "name": "stdout",
     "output_type": "stream",
     "text": [
      "1\n"
     ]
    },
    {
     "name": "stderr",
     "output_type": "stream",
     "text": [
      "Info: Params [0.89347152 1.76248939 0.54606078 0.53719125 0.28947368 0.06818073\n",
      " 0.34624956 0.39944822] gave -13.165764542637604\n"
     ]
    },
    {
     "name": "stdout",
     "output_type": "stream",
     "text": [
      "1\n"
     ]
    },
    {
     "name": "stderr",
     "output_type": "stream",
     "text": [
      "Info: Params [2.33634393e+00 2.84752422e+00 5.00202514e-01 5.03029700e-01\n",
      " 2.08172964e-04 8.18760289e-02 3.44315747e-01 3.93657997e-01] gave -160.6783887296723\n"
     ]
    },
    {
     "name": "stdout",
     "output_type": "stream",
     "text": [
      "1\n"
     ]
    },
    {
     "name": "stderr",
     "output_type": "stream",
     "text": [
      "Info: Params [3.12780409 2.54263469 0.5600674  0.66617716 0.08139517 0.46052424\n",
      " 0.35755476 0.35451926] gave -164.21891651467212\n"
     ]
    },
    {
     "name": "stdout",
     "output_type": "stream",
     "text": [
      "1\n"
     ]
    },
    {
     "name": "stderr",
     "output_type": "stream",
     "text": [
      "Info: Params [3.41150395 2.81604548 0.5533155  0.57872417 0.17445717 0.00990242\n",
      " 0.34873873 0.36934862] gave -214.0334268477381\n"
     ]
    },
    {
     "name": "stdout",
     "output_type": "stream",
     "text": [
      "3\n"
     ]
    },
    {
     "name": "stderr",
     "output_type": "stream",
     "text": [
      "Info: Params [2.7944778  3.20899377 0.53991964 0.87861727 0.26315791 0.4230778\n",
      " 0.32647314 0.39815806] gave -183.550194705239\n"
     ]
    },
    {
     "name": "stdout",
     "output_type": "stream",
     "text": [
      "3\n"
     ]
    },
    {
     "name": "stderr",
     "output_type": "stream",
     "text": [
      "Info: Params [1.7485616  2.15025429 0.50836118 0.82878205 0.04273504 0.04273589\n",
      " 0.33288863 0.37525132] gave -29.696187048316553\n"
     ]
    },
    {
     "name": "stdout",
     "output_type": "stream",
     "text": [
      "3\n"
     ]
    },
    {
     "name": "stderr",
     "output_type": "stream",
     "text": [
      "Info: Params [1.59898284 1.65856183 0.51009124 0.76951381 0.01099113 0.11029206\n",
      " 0.32608688 0.4182988 ] gave 28.17683348462524\n"
     ]
    },
    {
     "name": "stdout",
     "output_type": "stream",
     "text": [
      "3\n"
     ]
    },
    {
     "name": "stderr",
     "output_type": "stream",
     "text": [
      "Info: Params [1.7572352  2.11167479 0.91879346 1.8742984  1.07407406 0.85454543\n",
      " 0.2692612  0.10866562] gave -1.909679824190036\n"
     ]
    },
    {
     "name": "stdout",
     "output_type": "stream",
     "text": [
      "3\n"
     ]
    },
    {
     "name": "stderr",
     "output_type": "stream",
     "text": [
      "Info: Params [2.89202163 1.89717151 0.73858425 0.96127763 0.6153846  0.09082689\n",
      " 0.29163432 0.34135346] gave -42.96297929760331\n"
     ]
    },
    {
     "name": "stdout",
     "output_type": "stream",
     "text": [
      "3\n"
     ]
    },
    {
     "name": "stderr",
     "output_type": "stream",
     "text": [
      "Info: Params [2.56778246 2.26792706 0.69228789 0.99879457 0.63074359 0.0927835\n",
      " 0.32336454 0.34324675] gave -63.462000018124314\n"
     ]
    },
    {
     "name": "stdout",
     "output_type": "stream",
     "text": [
      "4\n"
     ]
    },
    {
     "name": "stderr",
     "output_type": "stream",
     "text": [
      "Info: Params [3.91815631e+00 3.50177135e+00 5.04361736e-01 6.70706895e-01\n",
      " 9.04739236e-01 3.74676425e-04 3.24905391e-01 3.24724936e-01] gave -299.92829320139447\n"
     ]
    },
    {
     "name": "stdout",
     "output_type": "stream",
     "text": [
      "4\n"
     ]
    },
    {
     "name": "stderr",
     "output_type": "stream",
     "text": [
      "Info: Params [2.35945413 2.97986741 0.50815756 0.82499502 0.75       0.69646474\n",
      " 0.32178057 0.33373032] gave -220.88511465973545\n"
     ]
    },
    {
     "name": "stdout",
     "output_type": "stream",
     "text": [
      "4\n"
     ]
    },
    {
     "name": "stderr",
     "output_type": "stream",
     "text": [
      "Info: Params [1.56327387 1.98691607 0.50727476 0.84553    0.55       0.71721361\n",
      " 0.32417605 0.32903895] gave -93.07569428495457\n"
     ]
    },
    {
     "name": "stdout",
     "output_type": "stream",
     "text": [
      "4\n"
     ]
    },
    {
     "name": "stderr",
     "output_type": "stream",
     "text": [
      "Info: Params [3.58076295 2.97067737 0.54912273 0.76131035 0.94751348 0.11458333\n",
      " 0.34582459 0.33518426] gave -231.7566813768725\n"
     ]
    },
    {
     "name": "stdout",
     "output_type": "stream",
     "text": [
      "4\n"
     ]
    },
    {
     "name": "stderr",
     "output_type": "stream",
     "text": [
      "Info: Params [3.8757949  2.31299984 0.50220105 0.69700503 0.18866855 0.38081403\n",
      " 0.33451342 0.34631481] gave -198.2225758428218\n"
     ]
    },
    {
     "name": "stdout",
     "output_type": "stream",
     "text": [
      "4\n"
     ]
    },
    {
     "name": "stderr",
     "output_type": "stream",
     "text": [
      "Info: Params [3.37736461 2.25994239 0.50096972 0.59374576 0.59374998 0.03197352\n",
      " 0.32683239 0.35196683] gave -189.21558215573458\n"
     ]
    },
    {
     "name": "stdout",
     "output_type": "stream",
     "text": [
      "5\n"
     ]
    },
    {
     "name": "stderr",
     "output_type": "stream",
     "text": [
      "Info: Params [4.43365465 3.84624655 0.50219288 0.96710159 0.38095237 0.15380278\n",
      " 0.32422591 0.35495929] gave -287.8914848603328\n"
     ]
    },
    {
     "name": "stdout",
     "output_type": "stream",
     "text": [
      "5\n"
     ]
    },
    {
     "name": "stderr",
     "output_type": "stream",
     "text": [
      "Info: Params [3.67289878 2.31269778 0.6789362  0.80110999 1.48942711 0.83333332\n",
      " 0.33384085 0.40217726] gave -216.2758599633732\n"
     ]
    },
    {
     "name": "stdout",
     "output_type": "stream",
     "text": [
      "5\n"
     ]
    },
    {
     "name": "stderr",
     "output_type": "stream",
     "text": [
      "Info: Params [2.19574283 2.86305937 0.60104014 0.88003686 0.92857142 0.99338342\n",
      " 0.33291038 0.42228324] gave -188.72769159340066\n"
     ]
    },
    {
     "name": "stdout",
     "output_type": "stream",
     "text": [
      "5\n"
     ]
    },
    {
     "name": "stderr",
     "output_type": "stream",
     "text": [
      "Info: Params [5.55309355 3.34239442 0.72599746 0.96333391 0.         0.53967575\n",
      " 0.34488855 0.39745645] gave -262.2851260628549\n"
     ]
    },
    {
     "name": "stdout",
     "output_type": "stream",
     "text": [
      "5\n"
     ]
    },
    {
     "name": "stderr",
     "output_type": "stream",
     "text": [
      "Info: Params [4.38910002 2.56449083 0.50302944 0.64085707 1.17647766 0.\n",
      " 0.37676091 0.47141465] gave -220.65529676627438\n"
     ]
    },
    {
     "name": "stdout",
     "output_type": "stream",
     "text": [
      "5\n"
     ]
    },
    {
     "name": "stderr",
     "output_type": "stream",
     "text": [
      "Info: Params [2.66535288 2.55017655 1.04727064 0.67369472 3.16666672 0.1543491\n",
      " 0.28724751 0.43574272] gave -208.54653502734348\n"
     ]
    },
    {
     "name": "stdout",
     "output_type": "stream",
     "text": [
      "6\n"
     ]
    },
    {
     "name": "stderr",
     "output_type": "stream",
     "text": [
      "Info: Params [2.01064402 3.02065054 0.84885927 0.60619878 2.09591099 0.11111112\n",
      " 0.24628684 0.37504917] gave -205.45273036846032\n"
     ]
    },
    {
     "name": "stdout",
     "output_type": "stream",
     "text": [
      "6\n"
     ]
    },
    {
     "name": "stderr",
     "output_type": "stream",
     "text": [
      "Info: Params [1.21544935 2.28636515 0.74051883 0.56630598 1.09524291 0.\n",
      " 0.21258987 0.43105339] gave -81.10716412869351\n"
     ]
    },
    {
     "name": "stdout",
     "output_type": "stream",
     "text": [
      "6\n"
     ]
    },
    {
     "name": "stderr",
     "output_type": "stream",
     "text": [
      "Info: Params [0.50504561 1.58581709 0.76101789 0.56272456 0.90243902 0.\n",
      " 0.19624827 0.43265685] gave 22.6913809172234\n"
     ]
    },
    {
     "name": "stdout",
     "output_type": "stream",
     "text": [
      "6\n"
     ]
    },
    {
     "name": "stderr",
     "output_type": "stream",
     "text": [
      "Info: Params [0.89280317 2.38795308 0.76768841 0.87702034 1.00488874 0.38980821\n",
      " 0.2018951  0.37683942] gave -41.680197690756856\n"
     ]
    },
    {
     "name": "stdout",
     "output_type": "stream",
     "text": [
      "6\n"
     ]
    },
    {
     "name": "stderr",
     "output_type": "stream",
     "text": [
      "Info: Params [0.95724599 2.28820011 0.57812037 0.6248917  0.52819993 0.\n",
      " 0.27462224 0.40254879] gave -42.23193539882128\n"
     ]
    },
    {
     "name": "stdout",
     "output_type": "stream",
     "text": [
      "6\n"
     ]
    },
    {
     "name": "stderr",
     "output_type": "stream",
     "text": [
      "Info: Params [0.87767468 2.47425742 0.74435598 0.78762271 0.57500012 0.39285714\n",
      " 0.1777908  0.35384543] gave -31.416772354547057\n"
     ]
    },
    {
     "name": "stdout",
     "output_type": "stream",
     "text": [
      "7\n"
     ]
    },
    {
     "name": "stderr",
     "output_type": "stream",
     "text": [
      "Info: Params [0.47942718 2.24202953 0.72252642 0.71928589 0.74994675 0.3076923\n",
      " 0.16317313 0.27241906] gave -18.096725098953613\n"
     ]
    },
    {
     "name": "stdout",
     "output_type": "stream",
     "text": [
      "7\n"
     ]
    },
    {
     "name": "stderr",
     "output_type": "stream",
     "text": [
      "Info: Params [0.         1.35781944 0.53641762 0.80224647 0.46268656 0.89285714\n",
      " 0.24478153 0.29140191] gave -4.071841020284062\n"
     ]
    },
    {
     "name": "stdout",
     "output_type": "stream",
     "text": [
      "7\n"
     ]
    },
    {
     "name": "stderr",
     "output_type": "stream",
     "text": [
      "Info: Params [0.         0.6875468  1.02067145 1.08847076 1.64       0.9529956\n",
      " 0.13552841 0.19860749] gave 68.92633192004762\n"
     ]
    },
    {
     "name": "stdout",
     "output_type": "stream",
     "text": [
      "7\n"
     ]
    },
    {
     "name": "stderr",
     "output_type": "stream",
     "text": [
      "Info: Params [1.81694304 1.6263058  0.55458922 0.68274229 0.23170733 0.\n",
      " 0.24236524 0.31353763] gave 3.0719570042833553\n"
     ]
    },
    {
     "name": "stdout",
     "output_type": "stream",
     "text": [
      "7\n"
     ]
    },
    {
     "name": "stderr",
     "output_type": "stream",
     "text": [
      "Info: Params [2.22280099 1.3864557  0.74958159 0.63585471 1.00449301 0.13235293\n",
      " 0.22787949 0.34450399] gave -39.849928017796\n"
     ]
    },
    {
     "name": "stdout",
     "output_type": "stream",
     "text": [
      "7\n"
     ]
    },
    {
     "name": "stderr",
     "output_type": "stream",
     "text": [
      "Info: Params [1.96226797 1.93019802 0.55795063 0.66299471 0.22641969 0.10475149\n",
      " 0.25811231 0.33196149] gave -47.63773509548922\n"
     ]
    },
    {
     "name": "stdout",
     "output_type": "stream",
     "text": [
      "8\n"
     ]
    },
    {
     "name": "stderr",
     "output_type": "stream",
     "text": [
      "Info: Params [0.58662312 1.99740522 0.97619934 0.87125916 1.09090909 0.\n",
      " 0.12066447 0.40729734] gave 63.12747635248432\n"
     ]
    },
    {
     "name": "stdout",
     "output_type": "stream",
     "text": [
      "8\n"
     ]
    },
    {
     "name": "stderr",
     "output_type": "stream",
     "text": [
      "Info: Params [0.14482778 0.91145797 0.79112453 1.15393279 0.60810796 0.29906561\n",
      " 0.13364722 0.32444263] gave 219.39887209093945\n"
     ]
    },
    {
     "name": "stdout",
     "output_type": "stream",
     "text": [
      "8\n"
     ]
    },
    {
     "name": "stderr",
     "output_type": "stream",
     "text": [
      "Info: Params [0.         0.39842948 0.86729148 1.0405213  0.80851142 0.21535141\n",
      " 0.16717915 0.27982706] gave 267.7368726109178\n"
     ]
    },
    {
     "name": "stdout",
     "output_type": "stream",
     "text": [
      "8\n"
     ]
    },
    {
     "name": "stderr",
     "output_type": "stream",
     "text": [
      "Info: Params [0.5367004  1.01712337 0.71381101 1.23721375 0.41032538 0.19178081\n",
      " 0.17625839 0.22154457] gave 243.75579829701456\n"
     ]
    },
    {
     "name": "stdout",
     "output_type": "stream",
     "text": [
      "8\n"
     ]
    },
    {
     "name": "stderr",
     "output_type": "stream",
     "text": [
      "Info: Params [0.42518243 1.29031658 0.9636871  1.59508853 1.17642272 0.35416666\n",
      " 0.1548278  0.10974999] gave 172.86349837527604\n"
     ]
    },
    {
     "name": "stdout",
     "output_type": "stream",
     "text": [
      "8\n"
     ]
    },
    {
     "name": "stderr",
     "output_type": "stream",
     "text": [
      "Info: Params [0.35784872 1.23574755 0.61746279 1.4215003  0.25999979 0.23921569\n",
      " 0.22987405 0.11424952] gave 209.98440347571514\n"
     ]
    },
    {
     "name": "stdout",
     "output_type": "stream",
     "text": [
      "9\n"
     ]
    },
    {
     "name": "stderr",
     "output_type": "stream",
     "text": [
      "Info: Params [4.14987959e+00 2.55737908e+00 5.03872002e-01 7.01926282e-01\n",
      " 8.20108377e-01 1.74908337e-03 3.84288171e-01 4.01834536e-01] gave -250.56203202421443\n"
     ]
    },
    {
     "name": "stdout",
     "output_type": "stream",
     "text": [
      "9\n"
     ]
    },
    {
     "name": "stderr",
     "output_type": "stream",
     "text": [
      "Info: Params [2.04630365 1.73758039 0.50721266 0.85873759 0.48836934 0.\n",
      " 0.38968506 0.38647419] gave -14.779487578312335\n"
     ]
    },
    {
     "name": "stdout",
     "output_type": "stream",
     "text": [
      "9\n"
     ]
    },
    {
     "name": "stderr",
     "output_type": "stream",
     "text": [
      "Info: Params [0.85197078 1.27609133 0.50060726 0.73306299 0.69230769 0.\n",
      " 0.39441719 0.41841492] gave 43.68550817898621\n"
     ]
    },
    {
     "name": "stdout",
     "output_type": "stream",
     "text": [
      "9\n"
     ]
    },
    {
     "name": "stderr",
     "output_type": "stream",
     "text": [
      "Info: Params [3.29489695 2.10152658 0.50114222 0.74355225 0.         0.\n",
      " 0.38384893 0.42395851] gave -111.99965442943807\n"
     ]
    },
    {
     "name": "stdout",
     "output_type": "stream",
     "text": [
      "9\n"
     ]
    },
    {
     "name": "stderr",
     "output_type": "stream",
     "text": [
      "Info: Params [3.03270518 1.70647272 0.53614495 1.17107839 0.42244271 0.35460993\n",
      " 0.38803359 0.24700953] gave -63.17076771590471\n"
     ]
    },
    {
     "name": "stdout",
     "output_type": "stream",
     "text": [
      "9\n"
     ]
    },
    {
     "name": "stderr",
     "output_type": "stream",
     "text": [
      "Info: Params [3.11353507 2.47085343 0.50840437 0.81158696 0.51851849 0.\n",
      " 0.39619278 0.4169939 ] gave -152.33237417122496\n"
     ]
    },
    {
     "name": "stdout",
     "output_type": "stream",
     "text": [
      "10\n"
     ]
    },
    {
     "name": "stderr",
     "output_type": "stream",
     "text": [
      "Info: Params [2.81069792 4.01376184 0.51942178 0.6854495  0.30002359 0.04322441\n",
      " 0.2953188  0.36659839] gave -536.4870055814939\n"
     ]
    },
    {
     "name": "stdout",
     "output_type": "stream",
     "text": [
      "10\n"
     ]
    },
    {
     "name": "stderr",
     "output_type": "stream",
     "text": [
      "Info: Params [1.47180846e+00 2.31366662e+00 6.57546859e-01 7.36431644e-01\n",
      " 8.09937302e-01 1.93948170e-03 2.74200709e-01 3.57350423e-01] gave -224.012746918808\n"
     ]
    },
    {
     "name": "stdout",
     "output_type": "stream",
     "text": [
      "10\n"
     ]
    },
    {
     "name": "stderr",
     "output_type": "stream",
     "text": [
      "Info: Params [0.62267027 1.91601987 0.50909933 0.61210132 0.28769275 0.08333819\n",
      " 0.28907146 0.38924331] gave -56.04551506013161\n"
     ]
    },
    {
     "name": "stdout",
     "output_type": "stream",
     "text": [
      "10\n"
     ]
    },
    {
     "name": "stderr",
     "output_type": "stream",
     "text": [
      "Info: Params [2.20575316 2.47676381 0.55560977 0.72202915 0.17391304 0.\n",
      " 0.27030878 0.3509372 ] gave -211.32179043223726\n"
     ]
    },
    {
     "name": "stdout",
     "output_type": "stream",
     "text": [
      "10\n"
     ]
    },
    {
     "name": "stderr",
     "output_type": "stream",
     "text": [
      "Info: Params [2.37843581 2.19584768 0.70127307 0.83644465 0.90784128 0.00271554\n",
      " 0.26085099 0.33932661] gave -229.1418058536208\n"
     ]
    },
    {
     "name": "stdout",
     "output_type": "stream",
     "text": [
      "10\n"
     ]
    },
    {
     "name": "stderr",
     "output_type": "stream",
     "text": [
      "Info: Params [2.6153487  2.60727442 0.55958432 0.98981012 0.1489368  0.66313244\n",
      " 0.28959199 0.32179151] gave -288.93496667816163\n"
     ]
    },
    {
     "name": "stdout",
     "output_type": "stream",
     "text": [
      "11\n"
     ]
    },
    {
     "name": "stderr",
     "output_type": "stream",
     "text": [
      "Info: Params [3.37237526 4.06187815 0.59076993 0.6225923  1.17241454 0.22856313\n",
      " 0.33535953 0.37927242] gave -641.0363069277626\n"
     ]
    },
    {
     "name": "stdout",
     "output_type": "stream",
     "text": [
      "11\n"
     ]
    },
    {
     "name": "stderr",
     "output_type": "stream",
     "text": [
      "Info: Params [1.10807394 2.43527827 0.50615149 0.58300487 0.45280545 0.25641025\n",
      " 0.34168752 0.40109382] gave -243.81348576411045\n"
     ]
    },
    {
     "name": "stdout",
     "output_type": "stream",
     "text": [
      "11\n"
     ]
    },
    {
     "name": "stderr",
     "output_type": "stream",
     "text": [
      "Info: Params [0.77125166 1.3841719  0.51179507 0.63086685 0.66666668 0.16981139\n",
      " 0.33128601 0.38169343] gave -62.066728034161684\n"
     ]
    },
    {
     "name": "stdout",
     "output_type": "stream",
     "text": [
      "11\n"
     ]
    },
    {
     "name": "stderr",
     "output_type": "stream",
     "text": [
      "Info: Params [1.51509453 2.4797245  0.53377756 0.86525249 0.47619047 0.36363636\n",
      " 0.34657754 0.35658383] gave -190.6210663917675\n"
     ]
    },
    {
     "name": "stdout",
     "output_type": "stream",
     "text": [
      "11\n"
     ]
    },
    {
     "name": "stderr",
     "output_type": "stream",
     "text": [
      "Info: Params [2.05205351 2.66572512 0.57846316 0.86042441 0.64999378 0.56363636\n",
      " 0.33397754 0.38323184] gave -307.4689200661817\n"
     ]
    },
    {
     "name": "stdout",
     "output_type": "stream",
     "text": [
      "11\n"
     ]
    },
    {
     "name": "stderr",
     "output_type": "stream",
     "text": [
      "Info: Params [2.41588751 2.44520627 0.51782978 0.67575489 0.32308377 0.12162021\n",
      " 0.35536379 0.39838838] gave -280.5292232582732\n"
     ]
    },
    {
     "name": "stdout",
     "output_type": "stream",
     "text": [
      "12\n"
     ]
    },
    {
     "name": "stderr",
     "output_type": "stream",
     "text": [
      "Info: Params [1.99692102 2.48482922 1.0177585  0.73375014 1.26666667 0.\n",
      " 0.20919059 0.31624155] gave -211.26880615889834\n"
     ]
    },
    {
     "name": "stdout",
     "output_type": "stream",
     "text": [
      "12\n"
     ]
    },
    {
     "name": "stderr",
     "output_type": "stream",
     "text": [
      "Info: Params [1.50101308 1.26087908 0.5554409  0.67990831 0.34883721 0.\n",
      " 0.32981841 0.36207778] gave 57.401271384516775\n"
     ]
    },
    {
     "name": "stdout",
     "output_type": "stream",
     "text": [
      "12\n"
     ]
    },
    {
     "name": "stderr",
     "output_type": "stream",
     "text": [
      "Info: Params [0.42854547 0.84935331 0.6030993  0.69076236 0.525      0.\n",
      " 0.28671205 0.33866139] gave 220.14764483712725\n"
     ]
    },
    {
     "name": "stdout",
     "output_type": "stream",
     "text": [
      "12\n"
     ]
    },
    {
     "name": "stderr",
     "output_type": "stream",
     "text": [
      "Info: Params [1.50838511 1.54152134 0.83424846 0.77191833 0.18246129 0.07027096\n",
      " 0.19243347 0.31318661] gave 167.87774624885222\n"
     ]
    },
    {
     "name": "stdout",
     "output_type": "stream",
     "text": [
      "12\n"
     ]
    },
    {
     "name": "stderr",
     "output_type": "stream",
     "text": [
      "Info: Params [1.23586894 1.66206802 1.29508727 0.78132874 1.72413793 0.\n",
      " 0.16543427 0.33413369] gave 40.624223345550135\n"
     ]
    },
    {
     "name": "stdout",
     "output_type": "stream",
     "text": [
      "12\n"
     ]
    },
    {
     "name": "stderr",
     "output_type": "stream",
     "text": [
      "Info: Params [1.69483214 1.45165033 0.84810342 0.9121089  0.65842829 0.14570512\n",
      " 0.25491074 0.2650426 ] gave 100.25136303363908\n"
     ]
    },
    {
     "name": "stdout",
     "output_type": "stream",
     "text": [
      "13\n"
     ]
    },
    {
     "name": "stderr",
     "output_type": "stream",
     "text": [
      "Info: Params [1.85608385e+00 1.88096984e+00 6.30533473e-01 7.78142258e-01\n",
      " 5.31526376e-01 1.23883276e-05 3.14542662e-01 3.57111791e-01] gave -85.72762349055796\n"
     ]
    },
    {
     "name": "stdout",
     "output_type": "stream",
     "text": [
      "13\n"
     ]
    },
    {
     "name": "stderr",
     "output_type": "stream",
     "text": [
      "Info: Params [1.43755573 1.67398219 0.54854206 0.77880395 0.17118409 0.11252769\n",
      " 0.34388285 0.40446706] gave 20.596183684383682\n"
     ]
    },
    {
     "name": "stdout",
     "output_type": "stream",
     "text": [
      "13\n"
     ]
    },
    {
     "name": "stderr",
     "output_type": "stream",
     "text": [
      "Info: Params [0.50198448 0.82646034 0.54474159 0.74735979 0.2        0.\n",
      " 0.34522594 0.36326369] gave 268.13705716002335\n"
     ]
    },
    {
     "name": "stdout",
     "output_type": "stream",
     "text": [
      "13\n"
     ]
    },
    {
     "name": "stderr",
     "output_type": "stream",
     "text": [
      "Info: Params [1.43209035 1.60983281 0.57116096 0.84338351 0.139064   0.00203083\n",
      " 0.33264445 0.3605734 ] gave 97.46807073216577\n"
     ]
    },
    {
     "name": "stdout",
     "output_type": "stream",
     "text": [
      "13\n"
     ]
    },
    {
     "name": "stderr",
     "output_type": "stream",
     "text": [
      "Info: Params [1.85386635 1.5766511  0.63829802 0.81509164 0.32758621 0.\n",
      " 0.33832182 0.39221401] gave 46.71757677215658\n"
     ]
    },
    {
     "name": "stdout",
     "output_type": "stream",
     "text": [
      "13\n"
     ]
    },
    {
     "name": "stderr",
     "output_type": "stream",
     "text": [
      "Info: Params [1.48110777e+00 1.44221243e+00 6.76154780e-01 7.40662869e-01\n",
      " 2.24413467e-04 9.28550845e-04 3.03611706e-01 3.79792645e-01] gave 108.23868959071535\n"
     ]
    },
    {
     "name": "stdout",
     "output_type": "stream",
     "text": [
      "14\n"
     ]
    },
    {
     "name": "stderr",
     "output_type": "stream",
     "text": [
      "Info: Params [3.00613565e+00 2.02558280e+00 7.57380238e-01 8.56424925e-01\n",
      " 9.41717527e-01 2.78081964e-03 2.80073759e-01 3.28875061e-01] gave -294.37791860825934\n"
     ]
    },
    {
     "name": "stdout",
     "output_type": "stream",
     "text": [
      "14\n"
     ]
    },
    {
     "name": "stderr",
     "output_type": "stream",
     "text": [
      "Info: Params [2.03384744 1.66521122 0.67823197 0.79576701 0.7001318  0.\n",
      " 0.3193551  0.38452637] gave -28.191500600242414\n"
     ]
    },
    {
     "name": "stdout",
     "output_type": "stream",
     "text": [
      "14\n"
     ]
    },
    {
     "name": "stderr",
     "output_type": "stream",
     "text": [
      "Info: Params [1.39468988 1.13172144 0.61926982 0.90261416 0.52307809 0.0649344\n",
      " 0.33405726 0.33078125] gave 169.6340876133201\n"
     ]
    },
    {
     "name": "stdout",
     "output_type": "stream",
     "text": [
      "14\n"
     ]
    },
    {
     "name": "stderr",
     "output_type": "stream",
     "text": [
      "Info: Params [2.45650657 2.0626421  0.65001377 0.86228784 0.56666666 0.\n",
      " 0.37258435 0.4432874 ] gave -50.916881240867106\n"
     ]
    },
    {
     "name": "stdout",
     "output_type": "stream",
     "text": [
      "14\n"
     ]
    },
    {
     "name": "stderr",
     "output_type": "stream",
     "text": [
      "Info: Params [1.62182484 1.46200671 0.7974792  1.53167735 0.63380623 0.22897196\n",
      " 0.29784142 0.16116048] gave 195.16141692172596\n"
     ]
    },
    {
     "name": "stdout",
     "output_type": "stream",
     "text": [
      "14\n"
     ]
    },
    {
     "name": "stderr",
     "output_type": "stream",
     "text": [
      "Info: Params [2.05477637e+00 1.64511067e+00 5.72456332e-01 1.05911526e+00\n",
      " 1.36254456e-01 1.37594325e-04 3.46621756e-01 3.89040514e-01] gave 51.82071891130548\n"
     ]
    },
    {
     "name": "stdout",
     "output_type": "stream",
     "text": [
      "15\n"
     ]
    },
    {
     "name": "stderr",
     "output_type": "stream",
     "text": [
      "Info: Params [2.31618443 2.37640449 0.56205616 1.02702523 0.37313417 0.23118523\n",
      " 0.33370926 0.35299613] gave -193.77025969855958\n"
     ]
    },
    {
     "name": "stdout",
     "output_type": "stream",
     "text": [
      "15\n"
     ]
    },
    {
     "name": "stderr",
     "output_type": "stream",
     "text": [
      "Info: Params [1.66411906 2.0277938  0.7253636  0.87214731 0.64864864 0.\n",
      " 0.30633923 0.42360454] gave -25.919099837824305\n"
     ]
    },
    {
     "name": "stdout",
     "output_type": "stream",
     "text": [
      "15\n"
     ]
    },
    {
     "name": "stderr",
     "output_type": "stream",
     "text": [
      "Info: Params [0.74941991 1.15942782 0.70469606 0.88821477 1.04194927 0.14285713\n",
      " 0.31075326 0.43220387] gave 138.77278796687824\n"
     ]
    },
    {
     "name": "stdout",
     "output_type": "stream",
     "text": [
      "15\n"
     ]
    },
    {
     "name": "stderr",
     "output_type": "stream",
     "text": [
      "Info: Params [1.6348707  2.19524245 0.78245532 0.99538707 1.39994002 0.1071429\n",
      " 0.32672597 0.44341328] gave -133.7529932465016\n"
     ]
    },
    {
     "name": "stdout",
     "output_type": "stream",
     "text": [
      "15\n"
     ]
    },
    {
     "name": "stderr",
     "output_type": "stream",
     "text": [
      "Info: Params [1.60300963e+00 1.89724970e+00 6.87684134e-01 9.97642367e-01\n",
      " 6.35342727e-01 1.82671202e-03 3.12831122e-01 4.03536879e-01] gave 8.263998555519677\n"
     ]
    },
    {
     "name": "stdout",
     "output_type": "stream",
     "text": [
      "15\n"
     ]
    },
    {
     "name": "stderr",
     "output_type": "stream",
     "text": [
      "Info: Params [1.99750151 2.19589361 0.71462398 0.81632181 0.86111111 0.\n",
      " 0.33613136 0.45393525] gave -137.35916922879443\n"
     ]
    },
    {
     "name": "stdout",
     "output_type": "stream",
     "text": [
      "16\n"
     ]
    },
    {
     "name": "stderr",
     "output_type": "stream",
     "text": [
      "Info: Params [1.48863487e+00 1.96829222e+00 6.08891767e-01 7.38177476e-01\n",
      " 3.12365643e-01 6.95657905e-05 2.67623297e-01 3.82384845e-01] gave -120.00192858780028\n"
     ]
    },
    {
     "name": "stdout",
     "output_type": "stream",
     "text": [
      "16\n"
     ]
    },
    {
     "name": "stderr",
     "output_type": "stream",
     "text": [
      "Info: Params [1.07773458 1.82390119 0.74799298 0.74092056 0.44349591 0.\n",
      " 0.22812276 0.42303005] gave 101.87541757050771\n"
     ]
    },
    {
     "name": "stdout",
     "output_type": "stream",
     "text": [
      "16\n"
     ]
    },
    {
     "name": "stderr",
     "output_type": "stream",
     "text": [
      "Info: Params [0.6213217  1.24407225 0.85029616 0.82118874 0.6885194  0.10416666\n",
      " 0.19702614 0.39109944] gave 261.6404675990872\n"
     ]
    },
    {
     "name": "stdout",
     "output_type": "stream",
     "text": [
      "16\n"
     ]
    },
    {
     "name": "stderr",
     "output_type": "stream",
     "text": [
      "Info: Params [1.06090172 1.94981667 0.79696553 0.8275577  0.65517241 0.03258595\n",
      " 0.2202667  0.41622305] gave 64.74350236350378\n"
     ]
    },
    {
     "name": "stdout",
     "output_type": "stream",
     "text": [
      "16\n"
     ]
    },
    {
     "name": "stderr",
     "output_type": "stream",
     "text": [
      "Info: Params [0.80273572 1.89204478 0.8153205  0.8816488  0.61971985 0.\n",
      " 0.21979718 0.38313832] gave 147.1810018436715\n"
     ]
    },
    {
     "name": "stdout",
     "output_type": "stream",
     "text": [
      "16\n"
     ]
    },
    {
     "name": "stderr",
     "output_type": "stream",
     "text": [
      "Info: Params [0.98210071 1.96760717 0.71088275 0.77350631 0.10362679 0.\n",
      " 0.21124972 0.39543071] gave 157.46530931756647\n"
     ]
    },
    {
     "name": "stdout",
     "output_type": "stream",
     "text": [
      "17\n"
     ]
    },
    {
     "name": "stderr",
     "output_type": "stream",
     "text": [
      "Info: Params [2.46283241e+00 3.02410839e+00 6.16763026e-01 1.01459291e+00\n",
      " 1.68783991e-03 1.02380471e-01 3.20898490e-01 3.69216551e-01] gave -300.3401856114307\n"
     ]
    },
    {
     "name": "stdout",
     "output_type": "stream",
     "text": [
      "17\n"
     ]
    },
    {
     "name": "stderr",
     "output_type": "stream",
     "text": [
      "Info: Params [2.47355091 2.40291654 0.81383315 0.92730695 0.82608708 0.13339371\n",
      " 0.31174619 0.40676744] gave -204.24210207613842\n"
     ]
    },
    {
     "name": "stdout",
     "output_type": "stream",
     "text": [
      "17\n"
     ]
    },
    {
     "name": "stderr",
     "output_type": "stream",
     "text": [
      "Info: Params [1.74195860e+00 1.68895860e+00 5.72303598e-01 7.04000125e-01\n",
      " 1.45410483e-01 8.10709076e-05 3.31605772e-01 4.64749837e-01] gave 7.393101818647644\n"
     ]
    },
    {
     "name": "stdout",
     "output_type": "stream",
     "text": [
      "17\n"
     ]
    },
    {
     "name": "stderr",
     "output_type": "stream",
     "text": [
      "Info: Params [2.09783469 2.61780613 0.75064883 1.07634731 0.51515151 0.21706188\n",
      " 0.31722368 0.41049943] gave -139.68811356090004\n"
     ]
    },
    {
     "name": "stdout",
     "output_type": "stream",
     "text": [
      "17\n"
     ]
    },
    {
     "name": "stderr",
     "output_type": "stream",
     "text": [
      "Info: Params [2.34421321 2.2089761  0.82445309 0.95263491 0.79999999 0.22499952\n",
      " 0.32041616 0.41480776] gave -147.62519978765778\n"
     ]
    },
    {
     "name": "stdout",
     "output_type": "stream",
     "text": [
      "17\n"
     ]
    },
    {
     "name": "stderr",
     "output_type": "stream",
     "text": [
      "Info: Params [2.09949009 2.20483009 1.09424723 1.37477863 0.9444444  0.49999995\n",
      " 0.24128705 0.30925426] gave -55.43651979943555\n"
     ]
    },
    {
     "name": "stdout",
     "output_type": "stream",
     "text": [
      "           2    2    2    2    2    2    4    4    4    4   ...   17   17  \\\n",
      "Accuracy  1.0  1.0  1.0  1.0  1.0  1.0  1.0  1.0  1.0  1.0  ...  1.0  1.0   \n",
      "Speed     1.0  1.0  1.0  1.0  1.0  1.0  1.0  1.0  1.0  1.0  ...  1.0  1.0   \n",
      "\n",
      "           17   17   18   18   18   18   18   18  \n",
      "Accuracy  1.0  1.0  1.0  1.0  1.0  1.0  1.0  1.0  \n",
      "Speed     1.0  1.0  1.0  1.0  1.0  1.0  1.0  1.0  \n",
      "\n",
      "[2 rows x 96 columns]\n"
     ]
    }
   ],
   "source": [
    "path = \"/Users/wangjiashun/Desktop/Research_on_SAT/datasets/transformed/Wagenmakers2008/SpeedAccData_new.csv\"\n",
    "participants = [1,  3,  4,  5,  6,  7,  8,  9, 10, 11, 12, 13, 14, 15, 16, 17]\n",
    "\n",
    "\n",
    "df_all = pd.DataFrame()\n",
    "valid_ratio_dfs = pd.DataFrame()\n",
    "\n",
    "for i in participants:\n",
    "    for freq in range(1,7):\n",
    "        print(i)\n",
    "        df = pd.read_csv(path, sep = \",\")\n",
    "        df = df[df[\"Participant\"]==i]\n",
    "        df = df[df[\"Frequency\"]==freq]\n",
    "\n",
    "        counts_before = df['Cond'].value_counts()\n",
    "        df = df[df[\"Time\"]<5]\n",
    "        counts_after = df['Cond'].value_counts()\n",
    "        valid_ratio = counts_before/counts_after\n",
    "        valid_ratio_df = valid_ratio.to_frame(i+1)\n",
    "        valid_ratio_dfs = pd.concat((valid_ratio_dfs,valid_ratio_df), axis = 1)\n",
    "\n",
    "        samp = Sample.from_pandas_dataframe(df, rt_column_name=\"Time\", choice_column_name=\"Correct\")\n",
    "        df = get_DDM_result_sub_2v2a2c2ter(samp)\n",
    "        df['Frequency'] = freq\n",
    "        df[\"Participant\"]=i\n",
    "        df_all = pd.concat((df_all,df))\n",
    "    \n",
    "df_OUM = df_all.copy()\n",
    "df_OUM.to_csv(\"Parameter Estimates/DDM2v2a2c2terresultWagenmakers2008.csv\")\n",
    "print(valid_ratio_dfs)"
   ]
  },
  {
   "cell_type": "code",
   "execution_count": 2,
   "id": "c5baddcf",
   "metadata": {},
   "outputs": [],
   "source": [
    "class DriftConstantSATFreq(Drift):\n",
    "    name = \"DriftConstantSATFreq\"\n",
    "    required_parameters = ['V1Speed','V2Speed','V3Speed','V4Speed','V5Speed','V6Speed',\n",
    "                           'V1Acc','V2Acc','V3Acc','V4Acc','V5Acc','V6Acc']\n",
    "    required_conditions = ['Cond', 'Frequency']\n",
    "        \n",
    "    def get_drift(self, x, t, conditions, **kwargs):\n",
    "        #print(conditions['Brightness'])\n",
    "        #print(conditions['Cond'])\n",
    "        if conditions['Cond'] == \"Speed\":\n",
    "            if conditions['Frequency'] == 1:\n",
    "                return self.V1Speed\n",
    "            elif conditions['Frequency'] == 2:\n",
    "                return self.V2Speed\n",
    "            elif conditions['Frequency'] == 3:\n",
    "                return self.V3Speed\n",
    "            elif conditions['Frequency'] == 4:\n",
    "                return self.V4Speed\n",
    "            elif conditions['Frequency'] == 5:\n",
    "                return self.V5Speed\n",
    "            elif conditions['Frequency'] == 6:\n",
    "                return self.V6Speed\n",
    "        elif conditions['Cond'] == \"Accuracy\":\n",
    "            if conditions['Frequency'] == 1:\n",
    "                return self.V1Acc\n",
    "            elif conditions['Frequency'] == 2:\n",
    "                return self.V2Acc\n",
    "            elif conditions['Frequency'] == 3:\n",
    "                return self.V3Acc\n",
    "            elif conditions['Frequency'] == 4:\n",
    "                return self.V4Acc\n",
    "            elif conditions['Frequency'] == 5:\n",
    "                return self.V5Acc\n",
    "            elif conditions['Frequency'] == 6:\n",
    "                return self.V6Acc\n",
    "        else:\n",
    "            print(\"Non-implemented conditions\")"
   ]
  },
  {
   "cell_type": "code",
   "execution_count": 3,
   "id": "87f974e1",
   "metadata": {},
   "outputs": [],
   "source": [
    "def get_DDM_result_sub_2v2a2c2ter(samp, v = [0,6], a = [0.5,6], c = [0,4], ter=[0.1,1], dx=.01, dt=.01, T_dur=5):\n",
    "    \n",
    "    model_fit = Model(name='Simple model (fitted)',\n",
    "                      drift=DriftConstantSATFreq(V1Speed= Fittable(minval=v[0], maxval=v[1]),\n",
    "                                                 V2Speed= Fittable(minval=v[0], maxval=v[1]),\n",
    "                                                 V3Speed= Fittable(minval=v[0], maxval=v[1]),\n",
    "                                                 V4Speed= Fittable(minval=v[0], maxval=v[1]),\n",
    "                                                 V5Speed= Fittable(minval=v[0], maxval=v[1]),\n",
    "                                                 V6Speed= Fittable(minval=v[0], maxval=v[1]),\n",
    "                                                 V1Acc  = Fittable(minval=v[0], maxval=v[1]),\n",
    "                                                 V2Acc  = Fittable(minval=v[0], maxval=v[1]),\n",
    "                                                 V3Acc  = Fittable(minval=v[0], maxval=v[1]),\n",
    "                                                 V4Acc  = Fittable(minval=v[0], maxval=v[1]),\n",
    "                                                 V5Acc  = Fittable(minval=v[0], maxval=v[1]),\n",
    "                                                 V6Acc  = Fittable(minval=v[0], maxval=v[1])), \n",
    "                      noise=NoiseConstant(noise=1),\n",
    "                      bound=BoundCollapsingLinearSAT(BSpeed=  Fittable(minval=a[0], maxval=a[1]),\n",
    "                                                     BAcc =   Fittable(minval=a[0], maxval=a[1]),\n",
    "                                                     cSpeed = Fittable(minval=c[0], maxval=c[1]),\n",
    "                                                     cAcc =   Fittable(minval=c[0], maxval=c[1])),\n",
    "                      overlay=NondecisionSpeedAcc(\n",
    "                          tSpeed=Fittable(minval=ter[0], maxval=ter[1]),\n",
    "                          tAcc=Fittable(minval=ter[0], maxval=ter[1]),\n",
    "                      ),dx=.01, dt=dt, T_dur=T_dur)\n",
    "    fit_adjust_model(samp, model_fit,fitting_method=\"differential_evolution\",lossfunction=LossRobustBIC, verbose=False)\n",
    "    df = pd.DataFrame(data = np.array(model_fit.get_model_parameters()).reshape(1,18),\n",
    "                      columns = model_fit.get_model_parameter_names())\n",
    "    \n",
    "    df['BIC'] = model_fit.get_fit_result().value()\n",
    "    df = df.rename(columns={\n",
    "                            'Bspeed': 'Boundary Separation Speed',\n",
    "                            'Bacc': 'Boundary Separation Accuracy',\n",
    "                            'cSpeed': 'Collapse Speed',\n",
    "                            'cAcc':   'Collapse Accuracy',\n",
    "                            'tSpeed': 'Non-decision Time Speed',\n",
    "                            'tAcc': 'Non-decision Time Accuracy'})\n",
    "    return df"
   ]
  },
  {
   "cell_type": "code",
   "execution_count": 4,
   "id": "fddea1af",
   "metadata": {},
   "outputs": [
    {
     "name": "stdout",
     "output_type": "stream",
     "text": [
      "1\n"
     ]
    },
    {
     "name": "stderr",
     "output_type": "stream",
     "text": [
      "Info: Params [2.82004256 2.26216523 0.61971655 2.36179776 2.81039685 3.48971612\n",
      " 4.18506294 2.31115801 1.64098683 2.93311711 2.79193988 2.62674991\n",
      " 0.50531712 0.56448439 0.02057619 0.04707598 0.35842218 0.37144973] gave -1015.7000671561677\n"
     ]
    },
    {
     "name": "stdout",
     "output_type": "stream",
     "text": [
      "3\n"
     ]
    },
    {
     "name": "stderr",
     "output_type": "stream",
     "text": [
      "Info: Params [2.85260801 1.48530416 1.56256207 1.7023293  2.84488323 2.42790983\n",
      " 3.21679411 2.25102213 1.78632404 2.29725244 1.8934982  2.20582661\n",
      " 0.64783958 0.91656707 0.24467197 0.13849125 0.29114496 0.3666607 ] gave -286.23679932769465\n"
     ]
    },
    {
     "name": "stdout",
     "output_type": "stream",
     "text": [
      "4\n"
     ]
    },
    {
     "name": "stderr",
     "output_type": "stream",
     "text": [
      "Info: Params [4.32650153 2.1897816  1.8491489  3.54704509 3.27049686 3.62978093\n",
      " 3.19075247 3.34368361 2.04002759 2.6552351  2.67923305 2.40251768\n",
      " 0.50182869 0.66584816 0.46361893 0.11846491 0.32721559 0.34687674] gave -1299.1246757999888\n"
     ]
    },
    {
     "name": "stdout",
     "output_type": "stream",
     "text": [
      "5\n"
     ]
    },
    {
     "name": "stderr",
     "output_type": "stream",
     "text": [
      "Info: Params [4.07133558 3.83899751 2.17949206 3.25480953 4.01292367 3.62867844\n",
      " 3.95818032 3.20731196 2.77716739 3.2514861  2.12886359 2.66166885\n",
      " 0.79250443 0.80445002 1.1278039  0.27927732 0.30010978 0.40108688] gave -1325.5054317156482\n"
     ]
    },
    {
     "name": "stdout",
     "output_type": "stream",
     "text": [
      "6\n"
     ]
    },
    {
     "name": "stderr",
     "output_type": "stream",
     "text": [
      "Info: Params [1.86084925 1.2123913  0.54112474 0.83611584 0.86559996 0.78304821\n",
      " 3.65356375 2.23217438 1.53957244 2.12969823 2.19081567 2.80350883\n",
      " 0.75322504 0.72992131 0.66586484 0.19436562 0.1875533  0.37548062] gave -357.16750529037506\n"
     ]
    },
    {
     "name": "stdout",
     "output_type": "stream",
     "text": [
      "7\n"
     ]
    },
    {
     "name": "stderr",
     "output_type": "stream",
     "text": [
      "Info: Params [0.73675833 0.03857442 0.0090833  1.60233124 2.06812393 1.49728413\n",
      " 2.65341148 1.68340001 0.86673936 1.28350432 1.2973611  1.86184354\n",
      " 0.66752761 0.703642   0.42420827 0.05194701 0.19208394 0.28680748] gave 116.05356613440662\n"
     ]
    },
    {
     "name": "stdout",
     "output_type": "stream",
     "text": [
      "8\n"
     ]
    },
    {
     "name": "stderr",
     "output_type": "stream",
     "text": [
      "Info: Params [0.71432407 0.33689731 0.14096063 0.67970309 0.71636829 0.34244828\n",
      " 1.60333417 0.73497553 0.30058189 0.97808903 1.32965862 1.07881592\n",
      " 0.73404081 1.31785294 0.43076625 0.27883614 0.17797891 0.1688679 ] gave 1182.0286767301477\n"
     ]
    },
    {
     "name": "stdout",
     "output_type": "stream",
     "text": [
      "9\n"
     ]
    },
    {
     "name": "stderr",
     "output_type": "stream",
     "text": [
      "Info: Params [4.4577503  2.03612975 1.15752427 2.78358535 3.04561863 3.05570935\n",
      " 2.67270538 1.55671982 1.1966903  1.91857654 1.88141361 2.35121027\n",
      " 0.50644321 0.75211277 0.18210968 0.00971816 0.38522312 0.4087426 ] gave -563.8525683172701\n"
     ]
    },
    {
     "name": "stdout",
     "output_type": "stream",
     "text": [
      "10\n"
     ]
    },
    {
     "name": "stderr",
     "output_type": "stream",
     "text": [
      "Info: Params [2.63244819 1.46879764 0.84911147 2.07649884 2.74443588 2.52041002\n",
      " 4.11492073 2.20406596 1.9608045  2.26134387 1.67734885 2.51040751\n",
      " 0.59105306 0.73761511 0.38994974 0.03233944 0.27934401 0.35106282] gave -1583.7566791408844\n"
     ]
    },
    {
     "name": "stdout",
     "output_type": "stream",
     "text": [
      "11\n"
     ]
    },
    {
     "name": "stderr",
     "output_type": "stream",
     "text": [
      "Info: Params [3.79623766 1.16112101 0.65245572 1.37852303 1.84782772 2.20851209\n",
      " 4.39634544 2.32076208 1.57484869 2.16347807 2.36334433 2.40925581\n",
      " 0.53477321 0.76125377 0.38787851 0.30302185 0.33245324 0.35044791] gave -1722.5273487244976\n"
     ]
    },
    {
     "name": "stdout",
     "output_type": "stream",
     "text": [
      "12\n"
     ]
    },
    {
     "name": "stderr",
     "output_type": "stream",
     "text": [
      "Info: Params [2.07826929 1.19939059 0.57258329 1.19097376 1.29432413 1.29447061\n",
      " 2.40260033 1.16884258 0.94882442 1.55071677 1.55969753 1.52938982\n",
      " 0.89234588 0.77424729 0.58242586 0.03415901 0.18800152 0.30705509] gave 609.7777103878111\n"
     ]
    },
    {
     "name": "stdout",
     "output_type": "stream",
     "text": [
      "13\n"
     ]
    },
    {
     "name": "stderr",
     "output_type": "stream",
     "text": [
      "Info: Params [2.09918058e+00 1.38049252e+00 4.84332937e-01 1.18792165e+00\n",
      " 1.74072101e+00 1.83414604e+00 1.86874082e+00 1.57266498e+00\n",
      " 8.81862419e-01 1.59618734e+00 1.44862282e+00 1.47543484e+00\n",
      " 6.20745183e-01 8.02202676e-01 2.00874592e-01 5.76236515e-04\n",
      " 3.13387095e-01 3.67601140e-01] gave 535.6746501043019\n"
     ]
    },
    {
     "name": "stdout",
     "output_type": "stream",
     "text": [
      "14\n"
     ]
    },
    {
     "name": "stderr",
     "output_type": "stream",
     "text": [
      "Info: Params [3.50238201e+00 2.09267906e+00 1.33808562e+00 1.92156389e+00\n",
      " 1.51583694e+00 1.86497281e+00 2.22664340e+00 1.82103832e+00\n",
      " 1.23758615e+00 1.82134705e+00 1.39843938e+00 1.44881679e+00\n",
      " 8.25578064e-01 9.55883587e-01 7.59895263e-01 6.95721165e-04\n",
      " 2.84081027e-01 3.44218123e-01] gave 235.81292947040208\n"
     ]
    },
    {
     "name": "stdout",
     "output_type": "stream",
     "text": [
      "15\n"
     ]
    },
    {
     "name": "stderr",
     "output_type": "stream",
     "text": [
      "Info: Params [1.92924931 1.62562359 0.83027497 1.86507135 1.58295646 1.83902983\n",
      " 2.62375802 1.92459688 1.22488743 2.02036483 1.69794203 2.09912829\n",
      " 0.69350901 0.98721041 0.58421238 0.12116776 0.3024485  0.39180087] gave -330.34214764212027\n"
     ]
    },
    {
     "name": "stdout",
     "output_type": "stream",
     "text": [
      "16\n"
     ]
    },
    {
     "name": "stderr",
     "output_type": "stream",
     "text": [
      "Info: Params [1.43203701e+00 1.09694361e+00 6.34841444e-01 1.00786955e+00\n",
      " 8.11438110e-01 9.25847282e-01 2.15622661e+00 1.81340955e+00\n",
      " 1.19963427e+00 1.88269919e+00 1.80383504e+00 2.07644699e+00\n",
      " 7.75604787e-01 8.02877736e-01 4.83920669e-01 1.08588414e-03\n",
      " 2.19036908e-01 3.90693619e-01] gave 675.688448413467\n"
     ]
    },
    {
     "name": "stdout",
     "output_type": "stream",
     "text": [
      "17\n"
     ]
    },
    {
     "name": "stderr",
     "output_type": "stream",
     "text": [
      "Info: Params [2.29684344 2.75185284 1.87033814 2.13573586 2.33912575 2.18376708\n",
      " 3.25068392 2.44454131 1.84887985 2.39488618 2.26083916 2.27678825\n",
      " 0.74956276 0.95683549 0.156191   0.12964023 0.29713006 0.40349904] gave -673.4913656777048\n"
     ]
    },
    {
     "ename": "NameError",
     "evalue": "name 'valid_ratio_dfs' is not defined",
     "output_type": "error",
     "traceback": [
      "\u001b[0;31m---------------------------------------------------------------------------\u001b[0m",
      "\u001b[0;31mNameError\u001b[0m                                 Traceback (most recent call last)",
      "Cell \u001b[0;32mIn[4], line 21\u001b[0m\n\u001b[1;32m     19\u001b[0m df_OUM \u001b[38;5;241m=\u001b[39m df_all\u001b[38;5;241m.\u001b[39mcopy()\n\u001b[1;32m     20\u001b[0m df_OUM\u001b[38;5;241m.\u001b[39mto_csv(\u001b[38;5;124m\"\u001b[39m\u001b[38;5;124mParameter Estimates/DDM2v2a2c2terCombinedresultWagenmakers2008.csv\u001b[39m\u001b[38;5;124m\"\u001b[39m)\n\u001b[0;32m---> 21\u001b[0m \u001b[38;5;28mprint\u001b[39m(valid_ratio_dfs)\n",
      "\u001b[0;31mNameError\u001b[0m: name 'valid_ratio_dfs' is not defined"
     ]
    }
   ],
   "source": [
    "path = \"/Users/wangjiashun/Desktop/Research_on_SAT/datasets/transformed/Wagenmakers2008/SpeedAccData_new.csv\"\n",
    "participants = [1,  3,  4,  5,  6,  7,  8,  9, 10, 11, 12, 13, 14, 15, 16, 17]\n",
    "\n",
    "\n",
    "df_all = pd.DataFrame()\n",
    "\n",
    "for i in participants:\n",
    "        print(i)\n",
    "        df = pd.read_csv(path, sep = \",\")\n",
    "        df = df[df[\"Participant\"]==i]\n",
    "\n",
    "        df = df[df[\"Time\"]<5]\n",
    "\n",
    "        samp = Sample.from_pandas_dataframe(df, rt_column_name=\"Time\", choice_column_name=\"Correct\")\n",
    "        df = get_DDM_result_sub_2v2a2c2ter(samp)\n",
    "        df[\"Participant\"]=i\n",
    "        df_all = pd.concat((df_all,df))\n",
    "    \n",
    "df_OUM = df_all.copy()\n",
    "df_OUM.to_csv(\"Parameter Estimates/DDM2v2a2c2terCombinedresultWagenmakers2008.csv\")\n",
    "print(valid_ratio_dfs)"
   ]
  },
  {
   "cell_type": "code",
   "execution_count": null,
   "id": "77e98da0",
   "metadata": {},
   "outputs": [],
   "source": []
  }
 ],
 "metadata": {
  "kernelspec": {
   "display_name": "Python 3 (ipykernel)",
   "language": "python",
   "name": "python3"
  },
  "language_info": {
   "codemirror_mode": {
    "name": "ipython",
    "version": 3
   },
   "file_extension": ".py",
   "mimetype": "text/x-python",
   "name": "python",
   "nbconvert_exporter": "python",
   "pygments_lexer": "ipython3",
   "version": "3.11.4"
  }
 },
 "nbformat": 4,
 "nbformat_minor": 5
}
