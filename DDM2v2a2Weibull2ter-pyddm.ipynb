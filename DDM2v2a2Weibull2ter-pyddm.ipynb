{
 "cells": [
  {
   "cell_type": "code",
   "execution_count": 5,
   "id": "2cda49de",
   "metadata": {},
   "outputs": [],
   "source": [
    "%run SAT_help_functions.ipynb"
   ]
  },
  {
   "cell_type": "markdown",
   "id": "4bd26666",
   "metadata": {},
   "source": [
    "## OUM"
   ]
  },
  {
   "cell_type": "code",
   "execution_count": 6,
   "id": "80376f45",
   "metadata": {},
   "outputs": [],
   "source": [
    "SAT_conds = [\"Speed\", \"Accuracy\"]"
   ]
  },
  {
   "cell_type": "code",
   "execution_count": 3,
   "id": "9ef6c434",
   "metadata": {
    "scrolled": true
   },
   "outputs": [
    {
     "name": "stdout",
     "output_type": "stream",
     "text": [
      "0\n"
     ]
    },
    {
     "name": "stderr",
     "output_type": "stream",
     "text": [
      "Info: Params [7.92894738e-01 1.26772495e+00 1.36999995e+00 4.24803103e-01\n",
      " 3.32833386e-01 3.05500449e+00 1.06588568e+00 6.20934861e-01\n",
      " 1.11137356e+00 5.93664629e-04 1.20763307e-01 3.57779381e-01] gave 255.40035767360598\n"
     ]
    },
    {
     "name": "stdout",
     "output_type": "stream",
     "text": [
      "1\n"
     ]
    },
    {
     "name": "stderr",
     "output_type": "stream",
     "text": [
      "Info: Params [0.22165022 0.57023748 1.06999995 0.33563773 0.34858692 4.19165895\n",
      " 1.24362266 0.5543426  0.7930973  0.43991433 0.1983215  0.4244986 ] gave 447.30285877946795\n"
     ]
    },
    {
     "name": "stdout",
     "output_type": "stream",
     "text": [
      "2\n"
     ]
    },
    {
     "name": "stderr",
     "output_type": "stream",
     "text": [
      "Info: Params [1.24076265 1.47353705 1.00605377 0.40461495 0.19398955 2.00277032\n",
      " 1.00971755 0.5977113  0.33327709 3.15522209 0.19687709 0.32391957] gave -10.299958668967093\n"
     ]
    },
    {
     "name": "stdout",
     "output_type": "stream",
     "text": [
      "3\n"
     ]
    },
    {
     "name": "stderr",
     "output_type": "stream",
     "text": [
      "Info: Params [0.21104503 0.96727861 3.91451305 0.40051624 0.02507952 4.68080843\n",
      " 1.44456684 0.83415145 0.48508004 4.98088995 0.2136723  0.1182515 ] gave 211.5094466764087\n"
     ]
    },
    {
     "name": "stdout",
     "output_type": "stream",
     "text": [
      "4\n"
     ]
    },
    {
     "name": "stderr",
     "output_type": "stream",
     "text": [
      "Info: Params [0.73462716 1.27943154 1.02000002 0.33913558 0.32791455 2.11745528\n",
      " 1.05434965 0.57353186 0.23227655 1.73855938 0.14969814 0.28447854] gave 139.18485255157657\n"
     ]
    },
    {
     "name": "stdout",
     "output_type": "stream",
     "text": [
      "5\n"
     ]
    },
    {
     "name": "stderr",
     "output_type": "stream",
     "text": [
      "Info: Params [1.23029508 1.26927091 1.00568768 0.33630655 0.28582099 4.64586387\n",
      " 1.03588592 0.57207767 0.53571189 1.85451713 0.27622826 0.45576291] gave 19.907407522874166\n"
     ]
    },
    {
     "name": "stdout",
     "output_type": "stream",
     "text": [
      "6\n"
     ]
    },
    {
     "name": "stderr",
     "output_type": "stream",
     "text": [
      "Info: Params [0.81440697 1.44522346 1.10603372 0.39101828 0.29838065 1.95749179\n",
      " 1.324761   0.5368281  0.28001958 2.5892056  0.15654171 0.23872103] gave 60.83641448813093\n"
     ]
    },
    {
     "name": "stdout",
     "output_type": "stream",
     "text": [
      "7\n"
     ]
    },
    {
     "name": "stderr",
     "output_type": "stream",
     "text": [
      "Info: Params [1.12031145 1.65749078 1.68261755 0.02028369 0.33762865 0.93438087\n",
      " 2.17999991 0.02181196 0.31728219 0.74198898 0.19212264 0.26353283] gave -99.2989955931914\n"
     ]
    },
    {
     "name": "stdout",
     "output_type": "stream",
     "text": [
      "8\n"
     ]
    },
    {
     "name": "stderr",
     "output_type": "stream",
     "text": [
      "Info: Params [1.02382336 1.41781744 1.02613416 0.07104547 0.3043931  0.92191015\n",
      " 1.03309297 0.69483538 0.22032912 4.93644962 0.30820897 0.29265566] gave 16.45268008605047\n"
     ]
    },
    {
     "name": "stdout",
     "output_type": "stream",
     "text": [
      "9\n"
     ]
    },
    {
     "name": "stderr",
     "output_type": "stream",
     "text": [
      "Info: Params [0.29733386 1.00955537 1.02999993 0.2527665  0.33209857 2.22113975\n",
      " 1.6550498  0.56129936 0.62894748 0.7651972  0.15173567 0.3614842 ] gave 365.7975375909736\n"
     ]
    },
    {
     "name": "stdout",
     "output_type": "stream",
     "text": [
      "10\n"
     ]
    },
    {
     "name": "stderr",
     "output_type": "stream",
     "text": [
      "Info: Params [1.02510497 1.09475173 1.01161169 0.52087235 0.42513421 3.76965856\n",
      " 1.65745495 0.85171577 0.49273745 3.28740808 0.151903   0.1721451 ] gave 393.57414676661375\n"
     ]
    },
    {
     "name": "stdout",
     "output_type": "stream",
     "text": [
      "11\n"
     ]
    },
    {
     "name": "stderr",
     "output_type": "stream",
     "text": [
      "Info: Params [1.13290938 1.07132371 1.12355355 0.37229828 0.26198807 2.73085785\n",
      " 1.16301518 0.61610382 0.27531579 1.41275324 0.22319996 0.33266135] gave 115.91332766683003\n"
     ]
    },
    {
     "name": "stdout",
     "output_type": "stream",
     "text": [
      "12\n"
     ]
    },
    {
     "name": "stderr",
     "output_type": "stream",
     "text": [
      "Info: Params [7.71595516e-01 1.32044132e+00 1.00028483e+00 3.65909770e-01\n",
      " 2.90130452e-01 2.33659457e+00 1.05789127e+00 4.47415273e-01\n",
      " 1.84892029e+00 1.54618090e-03 1.59907087e-01 2.90285145e-01] gave 66.59488953139676\n"
     ]
    },
    {
     "name": "stdout",
     "output_type": "stream",
     "text": [
      "13\n"
     ]
    },
    {
     "name": "stderr",
     "output_type": "stream",
     "text": [
      "Info: Params [0.94683414 1.11957189 1.01999995 0.3744666  0.26465544 2.62414495\n",
      " 1.20357115 0.70390582 0.44373249 3.81403975 0.16191024 0.20820286] gave 193.05205706449573\n"
     ]
    },
    {
     "name": "stdout",
     "output_type": "stream",
     "text": [
      "14\n"
     ]
    },
    {
     "name": "stderr",
     "output_type": "stream",
     "text": [
      "Info: Params [0.63780784 1.06351519 1.13431934 0.43081161 0.14832876 1.18445171\n",
      " 1.00643629 0.55886588 0.33034028 4.86420024 0.17614851 0.18323737] gave 145.65960771685275\n"
     ]
    },
    {
     "name": "stdout",
     "output_type": "stream",
     "text": [
      "15\n"
     ]
    },
    {
     "name": "stderr",
     "output_type": "stream",
     "text": [
      "Info: Params [1.21667745 1.8531928  1.02956148 0.10876854 0.31685942 0.53956423\n",
      " 1.07679237 0.7763241  0.27843561 4.94706251 0.21869831 0.26798777] gave -88.92824857656886\n"
     ]
    },
    {
     "name": "stdout",
     "output_type": "stream",
     "text": [
      "16\n"
     ]
    },
    {
     "name": "stderr",
     "output_type": "stream",
     "text": [
      "Info: Params [0.8317884  0.60410635 1.00686693 0.35324997 0.24862746 3.50616902\n",
      " 1.82447051 0.56997004 0.32517082 4.53088991 0.17750672 0.14069772] gave 114.10733133148376\n"
     ]
    },
    {
     "name": "stdout",
     "output_type": "stream",
     "text": [
      "17\n"
     ]
    },
    {
     "name": "stderr",
     "output_type": "stream",
     "text": [
      "Info: Params [1.60209025 1.87476574 1.03613347 0.45544144 0.16177858 1.84026422\n",
      " 1.02585969 0.62304487 0.0198076  0.424228   0.23071247 0.34099744] gave -121.24851979665591\n"
     ]
    },
    {
     "name": "stdout",
     "output_type": "stream",
     "text": [
      "18\n"
     ]
    },
    {
     "name": "stderr",
     "output_type": "stream",
     "text": [
      "Info: Params [1.9073288  1.23086221 1.02689007 0.48587137 0.15309555 0.90880873\n",
      " 3.99560431 0.72142092 0.20225851 1.46507407 0.24732409 0.10011351] gave 42.9621731497046\n"
     ]
    },
    {
     "name": "stdout",
     "output_type": "stream",
     "text": [
      "19\n"
     ]
    },
    {
     "name": "stderr",
     "output_type": "stream",
     "text": [
      "Info: Params [0.09891958 0.57139813 1.06134114 0.40621425 0.29748977 2.32336196\n",
      " 1.21427509 0.57108684 0.28511185 2.06724815 0.1478397  0.21308348] gave 328.5767809543721\n"
     ]
    },
    {
     "name": "stdout",
     "output_type": "stream",
     "text": [
      "           1    2    3    4    5    6    7    8    9    10   11   12   13  \\\n",
      "Accuracy  1.0  1.0  1.0  1.0  1.0  1.0  1.0  1.0  1.0  1.0  1.0  1.0  1.0   \n",
      "Speed     1.0  1.0  1.0  1.0  1.0  1.0  1.0  1.0  1.0  1.0  1.0  1.0  1.0   \n",
      "\n",
      "           14   15   16   17   18   19   20  \n",
      "Accuracy  1.0  1.0  1.0  1.0  1.0  1.0  1.0  \n",
      "Speed     1.0  1.0  1.0  1.0  1.0  1.0  1.0  \n"
     ]
    }
   ],
   "source": [
    "data_dir = \"/Users/wangjiashun/Desktop/Reserach on SAT/datasets/transformed/Dutilh2019/sub\"\n",
    "sample_size = 20\n",
    "\n",
    "df_all = pd.DataFrame()\n",
    "valid_ratio_dfs = pd.DataFrame()\n",
    "\n",
    "for i in range(sample_size):\n",
    "    print(i)\n",
    "    path = os.path.join(data_dir+str(i+1)+\".csv\")\n",
    "    df = pd.read_csv(path, sep = \",\")\n",
    "    \n",
    "    counts_before = df['Cond'].value_counts()\n",
    "    df = df[df[\"Time\"]<5]\n",
    "    counts_after = df['Cond'].value_counts()\n",
    "    valid_ratio = counts_before/counts_after\n",
    "    valid_ratio_df = valid_ratio.to_frame(i+1)\n",
    "    valid_ratio_dfs = pd.concat((valid_ratio_dfs,valid_ratio_df), axis = 1)\n",
    "    \n",
    "    samp = Sample.from_pandas_dataframe(df, rt_column_name=\"Time\", choice_column_name=\"Correct\")\n",
    "    df = get_DDM_result_sub_2v2a2Weilbull2ter(samp)\n",
    "    df_all = pd.concat((df_all,df))\n",
    "    \n",
    "df_OUM = df_all.copy()\n",
    "df_OUM.to_csv(\"Parameter Estimates/DDM2v2a2Weibull2terresultDutilh2019.csv\")\n",
    "print(valid_ratio_dfs)\n"
   ]
  },
  {
   "cell_type": "code",
   "execution_count": 4,
   "id": "e776257c",
   "metadata": {
    "scrolled": true
   },
   "outputs": [
    {
     "name": "stdout",
     "output_type": "stream",
     "text": [
      "0\n"
     ]
    },
    {
     "name": "stderr",
     "output_type": "stream",
     "text": [
      "Info: Params [0.17256619 0.81243893 1.06173746 0.27109985 0.25381966 2.35228256\n",
      " 1.01991339 0.52667847 0.27539333 3.10702776 0.18271664 0.28254551] gave -106.60355020414968\n"
     ]
    },
    {
     "name": "stdout",
     "output_type": "stream",
     "text": [
      "1\n"
     ]
    },
    {
     "name": "stderr",
     "output_type": "stream",
     "text": [
      "Info: Params [2.07220039 1.22510907 1.12729798 0.04555346 0.94014544 0.11917031\n",
      " 1.27933477 0.54674345 0.20236428 3.00445079 0.34725731 0.28145188] gave -173.83294590085436\n"
     ]
    },
    {
     "name": "stdout",
     "output_type": "stream",
     "text": [
      "2\n"
     ]
    },
    {
     "name": "stderr",
     "output_type": "stream",
     "text": [
      "Info: Params [2.02698895e-03 1.13438013e-03 1.00478120e+00 2.18117065e-01\n",
      " 1.06883975e+00 4.72389126e+00 1.66049283e+00 2.86825735e-02\n",
      " 8.68401195e-01 2.38812429e+00 1.26347264e-01 3.17119770e-01] gave 498.08451045731607\n"
     ]
    },
    {
     "name": "stdout",
     "output_type": "stream",
     "text": [
      "3\n"
     ]
    },
    {
     "name": "stderr",
     "output_type": "stream",
     "text": [
      "Info: Params [3.15124873 5.56146968 1.01258972 0.08888835 0.30320946 2.79997496\n",
      " 2.14487113 0.24638685 0.46465499 2.50156686 0.27635076 0.21384741] gave -189.06889044374157\n"
     ]
    },
    {
     "name": "stdout",
     "output_type": "stream",
     "text": [
      "4\n"
     ]
    },
    {
     "name": "stderr",
     "output_type": "stream",
     "text": [
      "Info: Params [1.78575127 1.96884449 1.01966414 0.47202709 0.29566199 3.21196337\n",
      " 1.00600328 0.31123928 0.3763665  4.67564781 0.19558912 0.26939369] gave -92.31521202102927\n"
     ]
    },
    {
     "name": "stdout",
     "output_type": "stream",
     "text": [
      "5\n"
     ]
    },
    {
     "name": "stderr",
     "output_type": "stream",
     "text": [
      "Info: Params [1.18985635 1.59560796 1.01856279 0.27658824 0.28154858 2.66782665\n",
      " 1.31986598 0.40643116 0.4614191  3.4435466  0.20264917 0.20728143] gave -244.73792111908477\n"
     ]
    },
    {
     "name": "stdout",
     "output_type": "stream",
     "text": [
      "6\n"
     ]
    },
    {
     "name": "stderr",
     "output_type": "stream",
     "text": [
      "Info: Params [1.07546632 5.0530013  1.00142435 0.29231252 0.26869913 2.47456596\n",
      " 2.49635083 1.75923448 0.28382788 4.42385008 0.15390695 0.2074901 ] gave -514.9668813089161\n"
     ]
    },
    {
     "name": "stdout",
     "output_type": "stream",
     "text": [
      "7\n"
     ]
    },
    {
     "name": "stderr",
     "output_type": "stream",
     "text": [
      "Info: Params [1.15567923 2.07843749 1.15665387 0.43245922 0.30643556 3.18362999\n",
      " 1.00458221 0.46760116 0.2557996  0.78825914 0.13851523 0.26426442] gave -166.4914287629904\n"
     ]
    },
    {
     "name": "stdout",
     "output_type": "stream",
     "text": [
      "8\n"
     ]
    },
    {
     "name": "stderr",
     "output_type": "stream",
     "text": [
      "Info: Params [0.67732587 1.28627063 1.19235419 0.39722053 0.4332357  5.\n",
      " 1.00823806 0.48658469 0.28892628 5.         0.1058031  0.25575549] gave 39.492401529094295\n"
     ]
    },
    {
     "name": "stdout",
     "output_type": "stream",
     "text": [
      "9\n"
     ]
    },
    {
     "name": "stderr",
     "output_type": "stream",
     "text": [
      "Info: Params [0.00494458 0.32706781 1.29264848 0.35779293 0.10918702 0.83195713\n",
      " 1.26385765 0.51615392 0.38842063 2.04905748 0.111569   0.13756441] gave 286.7616651030661\n"
     ]
    },
    {
     "name": "stdout",
     "output_type": "stream",
     "text": [
      "10\n"
     ]
    },
    {
     "name": "stderr",
     "output_type": "stream",
     "text": [
      "Info: Params [2.02869998 4.81286422 1.68999983 0.44939891 0.39021494 5.\n",
      " 1.06239174 1.82615093 0.686825   2.66033446 0.18048107 0.38540047] gave -79.85249763197707\n"
     ]
    },
    {
     "name": "stdout",
     "output_type": "stream",
     "text": [
      "11\n"
     ]
    },
    {
     "name": "stderr",
     "output_type": "stream",
     "text": [
      "Info: Params [1.83922465 2.45026732 1.03989351 0.30825108 0.17888965 1.76102493\n",
      " 1.04       0.35628011 0.32704175 2.18756692 0.26435565 0.27435296] gave -680.2637108738836\n"
     ]
    },
    {
     "name": "stdout",
     "output_type": "stream",
     "text": [
      "12\n"
     ]
    },
    {
     "name": "stderr",
     "output_type": "stream",
     "text": [
      "Info: Params [3.21280529 2.22907784 1.28000025 0.18162315 0.22957358 1.14147959\n",
      " 1.07999977 0.2782097  0.24742196 4.33262659 0.25125863 0.22757111] gave -653.5822735888835\n"
     ]
    },
    {
     "name": "stdout",
     "output_type": "stream",
     "text": [
      "13\n"
     ]
    },
    {
     "name": "stderr",
     "output_type": "stream",
     "text": [
      "Info: Params [1.26389371 2.77960158 1.029213   0.37757946 0.15934666 1.3305522\n",
      " 1.08999998 0.5639782  0.27400832 2.50860484 0.19244417 0.25998387] gave -394.1107350207197\n"
     ]
    },
    {
     "name": "stdout",
     "output_type": "stream",
     "text": [
      "14\n"
     ]
    },
    {
     "name": "stderr",
     "output_type": "stream",
     "text": [
      "Info: Params [0.28757567 0.07902643 1.56999981 0.31058408 0.31442069 2.62974605\n",
      " 1.40999989 0.48261694 0.41230143 2.61902332 0.14271317 0.18923495] gave 366.86545305575527\n"
     ]
    },
    {
     "name": "stdout",
     "output_type": "stream",
     "text": [
      "15\n"
     ]
    },
    {
     "name": "stderr",
     "output_type": "stream",
     "text": [
      "Info: Params [2.41890144 5.56190889 1.00097982 0.43995329 0.18561199 3.2913352\n",
      " 1.01747295 0.03092351 0.72754591 1.06999167 0.27354907 0.34310685] gave -464.2318453100353\n"
     ]
    },
    {
     "name": "stdout",
     "output_type": "stream",
     "text": [
      "16\n"
     ]
    },
    {
     "name": "stderr",
     "output_type": "stream",
     "text": [
      "Info: Params [0.49268721 1.56000692 1.01991093 0.43688341 0.24407928 1.79932646\n",
      " 1.0067409  0.53791545 0.43621255 4.96150005 0.10334763 0.2001458 ] gave 303.53931155240264\n"
     ]
    },
    {
     "name": "stdout",
     "output_type": "stream",
     "text": [
      "17\n"
     ]
    },
    {
     "name": "stderr",
     "output_type": "stream",
     "text": [
      "Info: Params [2.34612621 3.14574512 1.71999997 0.13106831 0.09580235 0.53790982\n",
      " 1.39668969 0.25493109 0.23742345 1.30406678 0.23255322 0.21083218] gave -1006.1016019146635\n"
     ]
    },
    {
     "name": "stdout",
     "output_type": "stream",
     "text": [
      "18\n"
     ]
    },
    {
     "name": "stderr",
     "output_type": "stream",
     "text": [
      "Info: Params [1.42628951 2.34010837 1.00109179 0.31982056 0.1373351  1.045591\n",
      " 1.00691268 0.15328858 0.30714822 1.19699398 0.23420901 0.24350028] gave -329.3587941958634\n"
     ]
    },
    {
     "name": "stdout",
     "output_type": "stream",
     "text": [
      "19\n"
     ]
    },
    {
     "name": "stderr",
     "output_type": "stream",
     "text": [
      "Info: Params [1.15889496 2.8812372  1.16935926 0.29571564 0.27109975 3.54048671\n",
      " 1.04999998 0.42362565 0.18566728 0.93315831 0.1276248  0.26974082] gave -1019.662023073326\n"
     ]
    },
    {
     "name": "stdout",
     "output_type": "stream",
     "text": [
      "20\n"
     ]
    },
    {
     "name": "stderr",
     "output_type": "stream",
     "text": [
      "Info: Params [0.39393726 1.98452055 1.00999995 0.27658838 0.20723749 2.58887484\n",
      " 1.19867233 0.39255959 0.29627915 4.45821883 0.13011189 0.20960364] gave -448.905403762379\n"
     ]
    },
    {
     "name": "stdout",
     "output_type": "stream",
     "text": [
      "21\n"
     ]
    },
    {
     "name": "stderr",
     "output_type": "stream",
     "text": [
      "Info: Params [0.30334397 1.11267312 1.00955874 0.31794233 0.3186803  3.41508658\n",
      " 1.00709923 0.4282408  0.28945437 2.48040898 0.10303555 0.26546466] gave -81.63949596214644\n"
     ]
    },
    {
     "name": "stdout",
     "output_type": "stream",
     "text": [
      "22\n"
     ]
    },
    {
     "name": "stderr",
     "output_type": "stream",
     "text": [
      "Info: Params [2.15745639 4.79125567 1.58888787 0.23401391 0.27142107 2.84224582\n",
      " 2.01003087 0.31683386 0.31600419 3.23516527 0.17454213 0.23293043] gave -248.9889618669935\n"
     ]
    },
    {
     "name": "stdout",
     "output_type": "stream",
     "text": [
      "23\n"
     ]
    },
    {
     "name": "stderr",
     "output_type": "stream",
     "text": [
      "Info: Params [1.2955609  2.78184111 1.02999996 0.26238213 0.16360117 3.09494428\n",
      " 1.24900567 0.35888351 0.11418999 1.77100693 0.16256013 0.24386796] gave -1234.5678617011993\n"
     ]
    },
    {
     "name": "stdout",
     "output_type": "stream",
     "text": [
      "24\n"
     ]
    },
    {
     "name": "stderr",
     "output_type": "stream",
     "text": [
      "Info: Params [1.52243667 3.80778742 1.06059799 0.29647195 0.17908376 3.06080362\n",
      " 1.11160485 0.25740294 0.05870524 0.12030189 0.20914418 0.33695388] gave -938.7948087152511\n"
     ]
    },
    {
     "name": "stdout",
     "output_type": "stream",
     "text": [
      "25\n"
     ]
    },
    {
     "name": "stderr",
     "output_type": "stream",
     "text": [
      "Info: Params [0.64272195 2.51721628 1.00819625 0.27941537 0.25419271 2.7131348\n",
      " 1.         0.05445148 0.32964321 0.77125614 0.10063537 0.28798469] gave -693.490448988054\n"
     ]
    },
    {
     "name": "stdout",
     "output_type": "stream",
     "text": [
      "26\n"
     ]
    },
    {
     "name": "stderr",
     "output_type": "stream",
     "text": [
      "Info: Params [5.55545416 2.39472519 2.57947946 0.45375986 0.66817058 1.65013589\n",
      " 1.06000003 0.24698266 0.30717038 2.36759972 0.12005573 0.24828848] gave -230.10381943452683\n"
     ]
    },
    {
     "name": "stdout",
     "output_type": "stream",
     "text": [
      "27\n"
     ]
    },
    {
     "name": "stderr",
     "output_type": "stream",
     "text": [
      "Info: Params [2.04576737 2.62738831 1.01283417 0.33835919 0.13132385 1.93837393\n",
      " 1.11028976 0.33465245 0.15220662 2.55355683 0.21623947 0.22839658] gave -930.9434908564102\n"
     ]
    },
    {
     "name": "stdout",
     "output_type": "stream",
     "text": [
      "28\n"
     ]
    },
    {
     "name": "stderr",
     "output_type": "stream",
     "text": [
      "Info: Params [2.0204058  3.20364156 1.14058138 0.32015759 0.13655409 2.37931488\n",
      " 1.24       0.15633606 0.01632842 0.19757298 0.21675802 0.30932263] gave -994.8175172417509\n"
     ]
    },
    {
     "name": "stdout",
     "output_type": "stream",
     "text": [
      "29\n"
     ]
    },
    {
     "name": "stderr",
     "output_type": "stream",
     "text": [
      "Info: Params [2.82459458 2.36942124 1.01835334 0.14655278 0.20423897 0.62647485\n",
      " 1.14388747 0.45539889 0.13318888 2.01268434 0.29216388 0.27631822] gave -779.1038271056536\n"
     ]
    },
    {
     "name": "stdout",
     "output_type": "stream",
     "text": [
      "30\n"
     ]
    },
    {
     "name": "stderr",
     "output_type": "stream",
     "text": [
      "Info: Params [1.23509999 3.72636271 1.17312306 0.39698725 0.24227898 3.34015315\n",
      " 1.0325641  0.54750908 0.23269073 2.08510794 0.15809421 0.26082813] gave -339.09051708442047\n"
     ]
    },
    {
     "name": "stdout",
     "output_type": "stream",
     "text": [
      "31\n"
     ]
    },
    {
     "name": "stderr",
     "output_type": "stream",
     "text": [
      "Info: Params [1.45039503 3.19365599 1.00327468 0.27370871 0.16160373 1.98631802\n",
      " 1.92000001 0.24167667 0.2302098  2.0473192  0.20818173 0.18560782] gave -1400.9469833167852\n"
     ]
    },
    {
     "name": "stdout",
     "output_type": "stream",
     "text": [
      "           1    2    3    4    5    6    7    8    9    10  ...   23   24  \\\n",
      "Speed     1.0  1.0  1.0  1.0  1.0  1.0  1.0  1.0  1.0  1.0  ...  1.0  1.0   \n",
      "Accuracy  1.0  1.0  1.0  1.0  1.0  1.0  1.0  1.0  1.0  1.0  ...  1.0  1.0   \n",
      "\n",
      "           25   26   27   28   29   30   31   32  \n",
      "Speed     1.0  1.0  1.0  1.0  1.0  1.0  1.0  1.0  \n",
      "Accuracy  1.0  1.0  1.0  1.0  1.0  1.0  1.0  1.0  \n",
      "\n",
      "[2 rows x 32 columns]\n"
     ]
    }
   ],
   "source": [
    "data_dir = \"/Users/wangjiashun/Desktop/Reserach on SAT/datasets/transformed/Dutilh2013/sub\"\n",
    "sample_size = 32\n",
    "\n",
    "df_all = pd.DataFrame()\n",
    "valid_ratio_dfs = pd.DataFrame()\n",
    "\n",
    "for i in range(sample_size):\n",
    "    print(i)\n",
    "    path = os.path.join(data_dir+str(i+1)+\".csv\")\n",
    "    df = pd.read_csv(path, sep = \",\")\n",
    "    \n",
    "    counts_before = df['Cond'].value_counts()\n",
    "    df = df[df[\"Time\"]<5]\n",
    "    counts_after = df['Cond'].value_counts()\n",
    "    valid_ratio = counts_before/counts_after\n",
    "    valid_ratio_df = valid_ratio.to_frame(i+1)\n",
    "    valid_ratio_dfs = pd.concat((valid_ratio_dfs,valid_ratio_df), axis = 1)\n",
    "    \n",
    "    samp = Sample.from_pandas_dataframe(df, rt_column_name=\"Time\", choice_column_name=\"Correct\")\n",
    "    df = get_DDM_result_sub_2v2a2Weilbull2ter(samp)\n",
    "    df_all = pd.concat((df_all,df))\n",
    "    \n",
    "df_OUM = df_all.copy()\n",
    "df_OUM.to_csv(\"Parameter Estimates/DDM2v2a2Weibull2terresultDutilh2013.csv\")\n",
    "print(valid_ratio_dfs)"
   ]
  },
  {
   "cell_type": "code",
   "execution_count": 5,
   "id": "be2525bf",
   "metadata": {
    "scrolled": true
   },
   "outputs": [
    {
     "name": "stdout",
     "output_type": "stream",
     "text": [
      "0\n"
     ]
    },
    {
     "name": "stderr",
     "output_type": "stream",
     "text": [
      "Info: Params [0.60561893 0.82790353 1.07147791 0.40855132 0.19794044 1.2612452\n",
      " 1.35       0.93800774 0.29019025 3.70559593 0.2668655  0.27080972] gave 520.5735217912564\n"
     ]
    },
    {
     "name": "stdout",
     "output_type": "stream",
     "text": [
      "1\n"
     ]
    },
    {
     "name": "stderr",
     "output_type": "stream",
     "text": [
      "Info: Params [2.31422904 1.06195181 1.08999995 0.42373185 0.26335683 3.79370191\n",
      " 1.00301023 1.93959468 1.2782379  4.45135972 0.35089215 0.50761546] gave 191.29381306222948\n"
     ]
    },
    {
     "name": "stdout",
     "output_type": "stream",
     "text": [
      "2\n"
     ]
    },
    {
     "name": "stderr",
     "output_type": "stream",
     "text": [
      "Info: Params [1.09139836 1.01059476 1.0362355  0.51818194 0.25193813 2.90816618\n",
      " 2.22722935 0.81442773 0.36924717 2.94298925 0.17529315 0.10848699] gave 209.24132455416873\n"
     ]
    },
    {
     "name": "stdout",
     "output_type": "stream",
     "text": [
      "3\n"
     ]
    },
    {
     "name": "stderr",
     "output_type": "stream",
     "text": [
      "Info: Params [1.47506361 0.76174311 1.25999995 0.75028636 0.21606071 0.96327652\n",
      " 3.81245977 1.63514902 2.         2.63084925 0.35540866 0.78093785] gave 719.7540269085857\n"
     ]
    },
    {
     "name": "stdout",
     "output_type": "stream",
     "text": [
      "4\n"
     ]
    },
    {
     "name": "stderr",
     "output_type": "stream",
     "text": [
      "Info: Params [1.42740483 0.822651   1.00678798 0.40503505 0.29536071 4.10228046\n",
      " 1.80988282 0.78699964 0.45583787 3.42893318 0.27571739 0.17736645] gave 201.1756586411076\n"
     ]
    },
    {
     "name": "stdout",
     "output_type": "stream",
     "text": [
      "5\n"
     ]
    },
    {
     "name": "stderr",
     "output_type": "stream",
     "text": [
      "Info: Params [0.83834613 0.82903511 2.70777071 0.67677487 0.38597481 3.22577317\n",
      " 2.82254042 1.00989495 0.4340049  2.94404071 0.10041122 0.1885664 ] gave 449.4037814702359\n"
     ]
    },
    {
     "name": "stdout",
     "output_type": "stream",
     "text": [
      "6\n"
     ]
    },
    {
     "name": "stderr",
     "output_type": "stream",
     "text": [
      "Info: Params [0.41623489 0.8841509  1.00970801 0.3628321  0.30182593 1.65986565\n",
      " 1.08772709 0.65959248 0.2355186  2.69669499 0.11938492 0.30831165] gave 345.8483097586118\n"
     ]
    },
    {
     "name": "stdout",
     "output_type": "stream",
     "text": [
      "7\n"
     ]
    },
    {
     "name": "stderr",
     "output_type": "stream",
     "text": [
      "Info: Params [1.64385664 1.39769647 1.00288509 0.37959236 0.24042673 1.69315256\n",
      " 3.97214022 0.77139506 0.49136857 2.91876341 0.36885202 0.13929284] gave -92.12881792481224\n"
     ]
    },
    {
     "name": "stdout",
     "output_type": "stream",
     "text": [
      "8\n"
     ]
    },
    {
     "name": "stderr",
     "output_type": "stream",
     "text": [
      "Info: Params [1.74037618 1.08767372 1.03952268 0.52161331 0.35021732 3.44034658\n",
      " 2.80772159 1.11476018 0.57568779 2.99548379 0.3999017  0.10735444] gave 179.42398863117967\n"
     ]
    },
    {
     "name": "stdout",
     "output_type": "stream",
     "text": [
      "9\n"
     ]
    },
    {
     "name": "stderr",
     "output_type": "stream",
     "text": [
      "Info: Params [0.5334634  0.37173172 1.06733083 0.65733551 0.19497323 1.92516943\n",
      " 1.05479322 0.85578707 0.54838615 4.31229228 0.29259663 0.34458377] gave 857.681470409705\n"
     ]
    },
    {
     "name": "stdout",
     "output_type": "stream",
     "text": [
      "10\n"
     ]
    },
    {
     "name": "stderr",
     "output_type": "stream",
     "text": [
      "Info: Params [0.94680107 0.34647607 1.1262485  0.32124116 0.18449475 0.03384579\n",
      " 2.26649769 1.19953644 0.55278007 3.29839837 0.42218166 0.15084573] gave 929.7897112767666\n"
     ]
    },
    {
     "name": "stdout",
     "output_type": "stream",
     "text": [
      "11\n"
     ]
    },
    {
     "name": "stderr",
     "output_type": "stream",
     "text": [
      "Info: Params [0.72393737 0.69590308 1.03999995 0.47101757 0.35821113 3.07208669\n",
      " 2.29779877 1.12913367 0.49232403 4.3914472  0.1535235  0.14261135] gave 668.8125305304599\n"
     ]
    },
    {
     "name": "stdout",
     "output_type": "stream",
     "text": [
      "12\n"
     ]
    },
    {
     "name": "stderr",
     "output_type": "stream",
     "text": [
      "Info: Params [1.09303837 0.69828406 1.89832539 0.72803461 0.47929847 4.81028661\n",
      " 2.18742136 1.26160343 0.39862751 2.20188727 0.15466153 0.25721889] gave 714.3110406553735\n"
     ]
    },
    {
     "name": "stdout",
     "output_type": "stream",
     "text": [
      "13\n"
     ]
    },
    {
     "name": "stderr",
     "output_type": "stream",
     "text": [
      "Info: Params [0.46410756 0.54805875 1.19999994 0.78822278 0.39683117 4.26547737\n",
      " 1.35791316 1.01842081 0.29634621 3.49694337 0.27882275 0.3701591 ] gave 999.0503158677512\n"
     ]
    },
    {
     "name": "stdout",
     "output_type": "stream",
     "text": [
      "14\n"
     ]
    },
    {
     "name": "stderr",
     "output_type": "stream",
     "text": [
      "Info: Params [0.59787397 0.40787456 1.12283421 0.59568487 0.4142457  4.45603777\n",
      " 1.27942471 1.04635629 0.40822571 2.87900762 0.1037618  0.25934853] gave 822.7730436087382\n"
     ]
    },
    {
     "name": "stdout",
     "output_type": "stream",
     "text": [
      "15\n"
     ]
    },
    {
     "name": "stderr",
     "output_type": "stream",
     "text": [
      "Info: Params [1.15906763 0.86614859 2.2781803  0.59819515 0.31860137 1.95869808\n",
      " 2.03000011 1.13851991 0.11165023 4.57340725 0.18939033 0.45422237] gave 632.746887337974\n"
     ]
    },
    {
     "name": "stdout",
     "output_type": "stream",
     "text": [
      "16\n"
     ]
    },
    {
     "name": "stderr",
     "output_type": "stream",
     "text": [
      "Info: Params [1.35924656 0.75533297 1.49963233 0.76056973 0.3266926  4.83475728\n",
      " 3.40530701 1.20228181 0.32326543 3.14658326 0.23146478 0.13924903] gave 631.8520915548482\n"
     ]
    },
    {
     "name": "stdout",
     "output_type": "stream",
     "text": [
      "17\n"
     ]
    },
    {
     "name": "stderr",
     "output_type": "stream",
     "text": [
      "Info: Params [0.98074854 0.5519725  1.90550127 0.50010845 0.25507689 2.18834392\n",
      " 1.18961208 0.86780227 0.28477048 3.04463806 0.21380859 0.35781843] gave 524.9367449777661\n"
     ]
    },
    {
     "name": "stdout",
     "output_type": "stream",
     "text": [
      "18\n"
     ]
    },
    {
     "name": "stderr",
     "output_type": "stream",
     "text": [
      "Info: Params [0.94202893 0.68815665 1.12761056 0.60761948 0.23216938 2.16408906\n",
      " 2.0170693  0.89289403 0.50324854 3.9635859  0.2895475  0.10586596] gave 578.5544196392941\n"
     ]
    },
    {
     "name": "stdout",
     "output_type": "stream",
     "text": [
      "19\n"
     ]
    },
    {
     "name": "stderr",
     "output_type": "stream",
     "text": [
      "Info: Params [0.45270366 0.42233561 1.32324922 0.94775804 0.6673596  3.82910361\n",
      " 1.49999995 1.09486303 1.92863377 3.64152131 0.14345903 0.2180012 ] gave 1296.769292260232\n"
     ]
    },
    {
     "name": "stdout",
     "output_type": "stream",
     "text": [
      "20\n"
     ]
    },
    {
     "name": "stderr",
     "output_type": "stream",
     "text": [
      "Info: Params [1.90242998 1.01403923 1.00594779 0.32900205 0.19917651 1.47982894\n",
      " 2.3270273  1.01702681 0.48910332 3.29667854 0.28557433 0.10346092] gave 122.0775674518236\n"
     ]
    },
    {
     "name": "stdout",
     "output_type": "stream",
     "text": [
      "21\n"
     ]
    },
    {
     "name": "stderr",
     "output_type": "stream",
     "text": [
      "Info: Params [1.52322579 0.91044149 1.05232461 0.55112147 0.31452967 4.22750466\n",
      " 3.01606449 0.99339587 0.54124884 2.2616303  0.30995565 0.10423191] gave 341.70198471721267\n"
     ]
    },
    {
     "name": "stdout",
     "output_type": "stream",
     "text": [
      "22\n"
     ]
    },
    {
     "name": "stderr",
     "output_type": "stream",
     "text": [
      "Info: Params [0.84100116 0.63813181 1.8885783  0.650845   0.35344952 2.4393346\n",
      " 2.45114609 1.01011859 0.26401139 1.51701958 0.16837932 0.29934729] gave 762.3654121784278\n"
     ]
    },
    {
     "name": "stdout",
     "output_type": "stream",
     "text": [
      "23\n"
     ]
    },
    {
     "name": "stderr",
     "output_type": "stream",
     "text": [
      "Info: Params [0.92904632 0.60243732 1.38935791 0.64661751 0.37308515 3.20556318\n",
      " 1.72714688 1.36376849 0.63826556 2.40705051 0.36344113 0.40761727] gave 879.6732660962703\n"
     ]
    },
    {
     "name": "stdout",
     "output_type": "stream",
     "text": [
      "24\n"
     ]
    },
    {
     "name": "stderr",
     "output_type": "stream",
     "text": [
      "Info: Params [0.78708616 0.87358783 1.35255785 0.69213726 0.49543241 4.96086946\n",
      " 2.67857292 1.07024608 0.5581275  4.60806593 0.20116754 0.1195274 ] gave 657.8538736895431\n"
     ]
    },
    {
     "name": "stdout",
     "output_type": "stream",
     "text": [
      "25\n"
     ]
    },
    {
     "name": "stderr",
     "output_type": "stream",
     "text": [
      "Info: Params [1.90237331 1.13102868 1.00049479 0.41380301 0.24411874 2.64770963\n",
      " 2.33066956 0.16029609 1.1390836  0.21103416 0.43261965 0.46266495] gave 197.4102647368004\n"
     ]
    },
    {
     "name": "stdout",
     "output_type": "stream",
     "text": [
      "26\n"
     ]
    },
    {
     "name": "stderr",
     "output_type": "stream",
     "text": [
      "Info: Params [0.62241658 0.72988147 2.09488741 0.31921726 0.15263437 1.97380671\n",
      " 2.61247777 0.95008245 0.72789138 4.75321823 0.22372705 0.17375943] gave 226.93919860766553\n"
     ]
    },
    {
     "name": "stdout",
     "output_type": "stream",
     "text": [
      "27\n"
     ]
    },
    {
     "name": "stderr",
     "output_type": "stream",
     "text": [
      "Info: Params [1.42382331 0.96118677 1.01999993 0.40773495 0.17640787 1.5883655\n",
      " 3.74574091 0.9239314  0.53070856 4.05800444 0.39430114 0.10715563] gave 120.25703278006777\n"
     ]
    },
    {
     "name": "stdout",
     "output_type": "stream",
     "text": [
      "28\n"
     ]
    },
    {
     "name": "stderr",
     "output_type": "stream",
     "text": [
      "Info: Params [1.18520434 1.25674836 1.0119649  0.30170134 0.24177939 2.66159811\n",
      " 3.2998887  0.765128   0.51716041 4.86962532 0.2511626  0.10763642] gave -194.01289478434254\n"
     ]
    },
    {
     "name": "stdout",
     "output_type": "stream",
     "text": [
      "29\n"
     ]
    },
    {
     "name": "stderr",
     "output_type": "stream",
     "text": [
      "Info: Params [0.73851465 0.50783056 1.17499994 0.66329698 0.54085551 2.93360065\n",
      " 2.45       1.20022399 0.66788724 2.31468828 0.3846375  0.33025605] gave 1013.6375071069875\n"
     ]
    },
    {
     "name": "stdout",
     "output_type": "stream",
     "text": [
      "30\n"
     ]
    },
    {
     "name": "stderr",
     "output_type": "stream",
     "text": [
      "Info: Params [1.09492629 1.25610559 1.02037729 0.49801926 0.26009238 1.75438357\n",
      " 1.36329138 0.65488303 0.1999858  1.48944305 0.23631384 0.33856916] gave 233.8626964570765\n"
     ]
    },
    {
     "name": "stdout",
     "output_type": "stream",
     "text": [
      "31\n"
     ]
    },
    {
     "name": "stderr",
     "output_type": "stream",
     "text": [
      "Info: Params [1.29388821 1.0817812  1.40661744 0.83041991 0.35172758 4.65309309\n",
      " 2.61429631 1.1635912  0.4537693  2.93091848 0.27389448 0.12592236] gave 539.3109434987651\n"
     ]
    },
    {
     "name": "stdout",
     "output_type": "stream",
     "text": [
      "32\n"
     ]
    },
    {
     "name": "stderr",
     "output_type": "stream",
     "text": [
      "Info: Params [1.66312042 1.09764616 1.04429958 0.31838343 1.18710518 0.06831796\n",
      " 2.77145687 0.96933655 0.51013531 3.27271493 0.36208047 0.14818927] gave 287.9428431246321\n"
     ]
    },
    {
     "name": "stdout",
     "output_type": "stream",
     "text": [
      "33\n"
     ]
    },
    {
     "name": "stderr",
     "output_type": "stream",
     "text": [
      "Info: Params [0.33433654 1.13856074 1.07148445 0.3765635  0.28754803 5.\n",
      " 3.67788528 1.06782941 0.51956759 3.86789462 0.11283767 0.11572249] gave 208.60095969400567\n"
     ]
    },
    {
     "name": "stdout",
     "output_type": "stream",
     "text": [
      "34\n"
     ]
    },
    {
     "name": "stderr",
     "output_type": "stream",
     "text": [
      "Info: Params [1.02888785 1.27287105 1.04612552 0.32253457 0.15586578 2.37947931\n",
      " 3.10601825 0.69190401 0.30582104 2.32739811 0.24095106 0.11179332] gave -133.63271989609547\n"
     ]
    },
    {
     "name": "stdout",
     "output_type": "stream",
     "text": [
      "35\n"
     ]
    },
    {
     "name": "stderr",
     "output_type": "stream",
     "text": [
      "Info: Params [1.29937727 0.75682658 1.00895564 0.22595587 0.16260057 1.9640506\n",
      " 3.961996   0.88671423 0.47727787 2.75063496 0.35216916 0.10756663] gave 59.17662824674709\n"
     ]
    },
    {
     "name": "stdout",
     "output_type": "stream",
     "text": [
      "36\n"
     ]
    },
    {
     "name": "stderr",
     "output_type": "stream",
     "text": [
      "Info: Params [0.76263567 1.18102594 1.37012007 0.63503241 0.37370616 2.26061889\n",
      " 1.15381786 1.02851645 0.34446089 2.72127494 0.17591387 0.33389234] gave 579.6141893457122\n"
     ]
    },
    {
     "name": "stdout",
     "output_type": "stream",
     "text": [
      "37\n"
     ]
    },
    {
     "name": "stderr",
     "output_type": "stream",
     "text": [
      "Info: Params [1.1738782  1.22236172 1.00581819 0.33652299 0.17706503 2.72056131\n",
      " 2.50747223 0.85026606 0.47050593 3.0194208  0.23609434 0.10689463] gave -118.04610487503464\n"
     ]
    },
    {
     "name": "stdout",
     "output_type": "stream",
     "text": [
      "38\n"
     ]
    },
    {
     "name": "stderr",
     "output_type": "stream",
     "text": [
      "Info: Params [1.48960155 1.72301471 1.00543783 0.31496126 0.24205942 2.56131176\n",
      " 1.58857853 0.19473034 0.89511599 0.21471421 0.24406842 0.44611298] gave -107.23378484380808\n"
     ]
    },
    {
     "name": "stdout",
     "output_type": "stream",
     "text": [
      "39\n"
     ]
    },
    {
     "name": "stderr",
     "output_type": "stream",
     "text": [
      "Info: Params [0.63204958 0.59258466 3.08999998 0.37728454 0.29016865 1.31578495\n",
      " 2.15089503 1.24480537 1.90256836 1.60635733 0.12921989 0.18353179] gave 651.0330313461359\n"
     ]
    },
    {
     "name": "stdout",
     "output_type": "stream",
     "text": [
      "40\n"
     ]
    },
    {
     "name": "stderr",
     "output_type": "stream",
     "text": [
      "Info: Params [1.86814572 1.02271879 1.10509745 0.4611825  0.30669226 3.36194197\n",
      " 1.03530194 1.18401471 1.20098499 4.43471787 0.27523264 0.5033796 ] gave 300.1534445621444\n"
     ]
    },
    {
     "name": "stdout",
     "output_type": "stream",
     "text": [
      "41\n"
     ]
    },
    {
     "name": "stderr",
     "output_type": "stream",
     "text": [
      "Info: Params [1.37933029 0.91145791 1.00610805 0.26627093 0.27467135 1.22204808\n",
      " 2.48171134 1.07533768 0.4258952  2.77082968 0.29195013 0.10842121] gave 360.6317810217962\n"
     ]
    },
    {
     "name": "stdout",
     "output_type": "stream",
     "text": [
      "42\n"
     ]
    },
    {
     "name": "stderr",
     "output_type": "stream",
     "text": [
      "Info: Params [1.08951797 0.74028014 1.02999996 0.44737999 0.34653779 2.53243694\n",
      " 1.64885577 0.89869829 0.47933601 4.64373388 0.29407247 0.20071946] gave 470.47461068786185\n"
     ]
    },
    {
     "name": "stdout",
     "output_type": "stream",
     "text": [
      "43\n"
     ]
    },
    {
     "name": "stderr",
     "output_type": "stream",
     "text": [
      "Info: Params [0.57641063 0.52084999 1.08872305 0.56590964 0.44178793 4.45384953\n",
      " 1.94000005 1.10562636 0.64199116 4.35467598 0.21604075 0.12019481] gave 880.9087259910749\n"
     ]
    },
    {
     "name": "stdout",
     "output_type": "stream",
     "text": [
      "44\n"
     ]
    },
    {
     "name": "stderr",
     "output_type": "stream",
     "text": [
      "Info: Params [1.85961304 1.02458258 1.02195615 0.56974388 0.2614591  2.70752662\n",
      " 2.49947727 1.03043423 0.40714673 3.22305222 0.30690668 0.10030445] gave 375.66419507918624\n"
     ]
    },
    {
     "name": "stdout",
     "output_type": "stream",
     "text": [
      "45\n"
     ]
    },
    {
     "name": "stderr",
     "output_type": "stream",
     "text": [
      "Info: Params [1.11696879 1.00739139 1.01989113 0.52037624 0.34854592 2.57752422\n",
      " 2.22876892 0.8899737  0.49940414 3.6476962  0.30042479 0.10380376] gave 375.74379875052375\n"
     ]
    },
    {
     "name": "stdout",
     "output_type": "stream",
     "text": [
      "46\n"
     ]
    },
    {
     "name": "stderr",
     "output_type": "stream",
     "text": [
      "Info: Params [1.56463316 0.85942354 1.02999999 0.52206181 0.35676356 3.1813298\n",
      " 2.30475082 1.1624076  0.52251906 0.50353063 0.2469647  0.41711478] gave 588.7591912151531\n"
     ]
    },
    {
     "name": "stdout",
     "output_type": "stream",
     "text": [
      "           1    2    3    4    5    6    7    8    9    10  ...   38   39  \\\n",
      "Accuracy  1.0  1.0  1.0  1.0  1.0  1.0  1.0  1.0  1.0  1.0  ...  1.0  1.0   \n",
      "Speed     1.0  1.0  1.0  1.0  1.0  1.0  1.0  1.0  1.0  1.0  ...  1.0  1.0   \n",
      "\n",
      "           40   41   42   43   44   45   46   47  \n",
      "Accuracy  1.0  1.0  1.0  1.0  1.0  1.0  1.0  1.0  \n",
      "Speed     1.0  1.0  1.0  1.0  1.0  1.0  1.0  1.0  \n",
      "\n",
      "[2 rows x 47 columns]\n"
     ]
    }
   ],
   "source": [
    "data_dir = \"/Users/wangjiashun/Desktop/Reserach on SAT/datasets/transformed/Evans2017/sub\"\n",
    "sample_size = 47\n",
    "\n",
    "df_all = pd.DataFrame()\n",
    "valid_ratio_dfs = pd.DataFrame()\n",
    "\n",
    "for i in range(sample_size):\n",
    "    print(i)\n",
    "    path = os.path.join(data_dir+str(i+1)+\".csv\")\n",
    "    df = pd.read_csv(path, sep = \",\")\n",
    "    \n",
    "    counts_before = df['Cond'].value_counts()\n",
    "    df = df[df[\"Time\"]<5]\n",
    "    counts_after = df['Cond'].value_counts()\n",
    "    valid_ratio = counts_before/counts_after\n",
    "    valid_ratio_df = valid_ratio.to_frame(i+1)\n",
    "    valid_ratio_dfs = pd.concat((valid_ratio_dfs,valid_ratio_df), axis = 1)\n",
    "    \n",
    "    samp = Sample.from_pandas_dataframe(df, rt_column_name=\"Time\", choice_column_name=\"Correct\")\n",
    "    df = get_DDM_result_sub_2v2a2Weilbull2ter(samp)\n",
    "    df_all = pd.concat((df_all,df))\n",
    "    \n",
    "df_OUM = df_all.copy()\n",
    "df_OUM.to_csv(\"Parameter Estimates/DDM2v2a2Weibull2terresultEvans2017.csv\")\n",
    "print(valid_ratio_dfs)"
   ]
  },
  {
   "cell_type": "code",
   "execution_count": null,
   "id": "37140e6d",
   "metadata": {},
   "outputs": [],
   "source": []
  },
  {
   "cell_type": "code",
   "execution_count": 11,
   "id": "11deb9df",
   "metadata": {
    "scrolled": true
   },
   "outputs": [
    {
     "name": "stderr",
     "output_type": "stream",
     "text": [
      "Warning: dt is large.  Estimated pdfs may be imprecise.  Decrease dt to 0.01 or less.\n"
     ]
    },
    {
     "name": "stdout",
     "output_type": "stream",
     "text": [
      "0\n"
     ]
    },
    {
     "name": "stderr",
     "output_type": "stream",
     "text": [
      "Info: Params [0.33668756 0.0842315  1.64255554 1.22691366 0.47382407 0.89609877\n",
      " 3.87832974 1.97152046 1.33120843 0.02894452 0.81873709 0.98153945] gave 1027.750065768115\n",
      "Warning: dt is large.  Estimated pdfs may be imprecise.  Decrease dt to 0.01 or less.\n"
     ]
    },
    {
     "name": "stdout",
     "output_type": "stream",
     "text": [
      "1\n"
     ]
    },
    {
     "name": "stderr",
     "output_type": "stream",
     "text": [
      "Info: Params [0.28621231 0.16441992 3.88232842 1.98101477 1.45369193 0.36807073\n",
      " 3.98435124 1.94644578 1.82556186 0.16345714 0.89017576 0.98887835] gave 1067.4745445328515\n",
      "Warning: dt is large.  Estimated pdfs may be imprecise.  Decrease dt to 0.01 or less.\n"
     ]
    },
    {
     "name": "stdout",
     "output_type": "stream",
     "text": [
      "2\n"
     ]
    },
    {
     "name": "stderr",
     "output_type": "stream",
     "text": [
      "Info: Params [0.         0.03953481 1.09735681 0.73745613 0.47499118 0.\n",
      " 1.35869464 1.01846274 0.01608757 3.14551648 0.14426806 0.43739102] gave 501.0686391308652\n",
      "Warning: dt is large.  Estimated pdfs may be imprecise.  Decrease dt to 0.01 or less.\n"
     ]
    },
    {
     "name": "stdout",
     "output_type": "stream",
     "text": [
      "3\n"
     ]
    },
    {
     "name": "stderr",
     "output_type": "stream",
     "text": [
      "Info: Params [0.11193812 0.0598281  1.49524995 1.34401898 1.46734422 4.04782899\n",
      " 3.0461819  1.43567742 1.78088777 0.7940593  0.11633708 0.43100959] gave 853.7535475393242\n",
      "Warning: dt is large.  Estimated pdfs may be imprecise.  Decrease dt to 0.01 or less.\n"
     ]
    },
    {
     "name": "stdout",
     "output_type": "stream",
     "text": [
      "4\n"
     ]
    },
    {
     "name": "stderr",
     "output_type": "stream",
     "text": [
      "Info: Params [0.20484799 0.10971112 3.77269302 1.91008515 0.93609841 0.04301696\n",
      " 3.9200006  2.         1.37250918 0.01432436 0.97729325 0.9610697 ] gave 1206.0346876375852\n",
      "Warning: dt is large.  Estimated pdfs may be imprecise.  Decrease dt to 0.01 or less.\n"
     ]
    },
    {
     "name": "stdout",
     "output_type": "stream",
     "text": [
      "5\n"
     ]
    },
    {
     "name": "stderr",
     "output_type": "stream",
     "text": [
      "Info: Params [0.16397373 0.0990092  1.87993285 0.90398618 0.67643578 2.74510012\n",
      " 3.99000003 1.99032804 1.45349968 0.01567315 0.62661934 0.95748772] gave 936.9040368585327\n",
      "Warning: dt is large.  Estimated pdfs may be imprecise.  Decrease dt to 0.01 or less.\n"
     ]
    },
    {
     "name": "stdout",
     "output_type": "stream",
     "text": [
      "6\n"
     ]
    },
    {
     "name": "stderr",
     "output_type": "stream",
     "text": [
      "Info: Params [0.13963499 0.26072548 1.06692929 0.46802493 0.76962386 1.15348506\n",
      " 2.44277218 1.38096204 1.86293624 2.05302243 0.33328576 0.81178947] gave 601.3649391173693\n",
      "Warning: dt is large.  Estimated pdfs may be imprecise.  Decrease dt to 0.01 or less.\n"
     ]
    },
    {
     "name": "stdout",
     "output_type": "stream",
     "text": [
      "7\n"
     ]
    },
    {
     "name": "stderr",
     "output_type": "stream",
     "text": [
      "Info: Params [0.22385572 0.25692466 1.86704511 0.66546045 0.26015891 1.34948465\n",
      " 3.41999992 0.86928124 1.67658551 0.70058541 0.50442819 0.31469108] gave 571.3532268391322\n",
      "Warning: dt is large.  Estimated pdfs may be imprecise.  Decrease dt to 0.01 or less.\n"
     ]
    },
    {
     "name": "stdout",
     "output_type": "stream",
     "text": [
      "8\n"
     ]
    },
    {
     "name": "stderr",
     "output_type": "stream",
     "text": [
      "Info: Params [0.05793414 0.03419138 1.08883365 0.7371193  0.38016037 1.06876436\n",
      " 1.0013166  1.56519239 0.87115041 3.32916011 0.11351481 0.1130193 ] gave 610.6462033750936\n",
      "Warning: dt is large.  Estimated pdfs may be imprecise.  Decrease dt to 0.01 or less.\n"
     ]
    },
    {
     "name": "stdout",
     "output_type": "stream",
     "text": [
      "9\n"
     ]
    },
    {
     "name": "stderr",
     "output_type": "stream",
     "text": [
      "Info: Params [0.00839347 0.17226602 1.23613665 1.52386408 0.30626388 0.33526775\n",
      " 1.31276683 1.9798896  0.27456866 4.14503847 0.17549077 0.12327483] gave 945.4740383195264\n",
      "Warning: dt is large.  Estimated pdfs may be imprecise.  Decrease dt to 0.01 or less.\n"
     ]
    },
    {
     "name": "stdout",
     "output_type": "stream",
     "text": [
      "10\n"
     ]
    },
    {
     "name": "stderr",
     "output_type": "stream",
     "text": [
      "Info: Params [0.73362254 0.20377326 1.65976354 0.36694874 1.38817073 1.06551012\n",
      " 3.98720292 1.97105938 1.4261066  0.01253252 0.92251532 0.97352134] gave 828.3175795728083\n",
      "Warning: dt is large.  Estimated pdfs may be imprecise.  Decrease dt to 0.01 or less.\n"
     ]
    },
    {
     "name": "stdout",
     "output_type": "stream",
     "text": [
      "11\n"
     ]
    },
    {
     "name": "stderr",
     "output_type": "stream",
     "text": [
      "Info: Params [6.22223342e-03 5.46070847e-02 1.56441477e+00 7.12816748e-01\n",
      " 4.86133489e-01 4.97702251e+00 3.99000001e+00 1.99680017e+00\n",
      " 1.64603554e-01 2.71470773e-03 1.12851217e-01 9.54677997e-01] gave 894.0133520192699\n",
      "Warning: dt is large.  Estimated pdfs may be imprecise.  Decrease dt to 0.01 or less.\n"
     ]
    },
    {
     "name": "stdout",
     "output_type": "stream",
     "text": [
      "12\n"
     ]
    },
    {
     "name": "stderr",
     "output_type": "stream",
     "text": [
      "Info: Params [0.2534822  0.24982605 1.46992769 0.57622513 1.50568056 1.12597481\n",
      " 3.31226768 1.23286583 1.65925644 0.76374112 0.65394548 0.74077174] gave 689.594226366346\n",
      "Warning: dt is large.  Estimated pdfs may be imprecise.  Decrease dt to 0.01 or less.\n"
     ]
    },
    {
     "name": "stdout",
     "output_type": "stream",
     "text": [
      "13\n"
     ]
    },
    {
     "name": "stderr",
     "output_type": "stream",
     "text": [
      "Info: Params [0.20440948 0.18754533 2.39598508 0.87567407 1.98673534 2.29670472\n",
      " 3.9100001  1.99830631 1.28978363 0.00938647 0.74747677 0.96393685] gave 960.7534976248008\n",
      "Warning: dt is large.  Estimated pdfs may be imprecise.  Decrease dt to 0.01 or less.\n"
     ]
    },
    {
     "name": "stdout",
     "output_type": "stream",
     "text": [
      "14\n"
     ]
    },
    {
     "name": "stderr",
     "output_type": "stream",
     "text": [
      "Info: Params [0.14234615 0.17499423 1.48259568 0.69963872 1.61459381 4.82964115\n",
      " 3.81890753 1.99670111 1.36541894 0.08922462 0.12954917 0.95972115] gave 898.9067761416385\n",
      "Warning: dt is large.  Estimated pdfs may be imprecise.  Decrease dt to 0.01 or less.\n"
     ]
    },
    {
     "name": "stdout",
     "output_type": "stream",
     "text": [
      "15\n"
     ]
    },
    {
     "name": "stderr",
     "output_type": "stream",
     "text": [
      "Info: Params [1.89642877e-02 9.08350233e-02 1.82224542e+00 3.90447365e-01\n",
      " 1.21955446e+00 1.55510926e+00 3.95014288e+00 1.96347902e+00\n",
      " 3.96519614e-01 3.17445952e-03 5.11334859e-01 9.97332959e-01] gave 990.9523394095044\n",
      "Warning: dt is large.  Estimated pdfs may be imprecise.  Decrease dt to 0.01 or less.\n"
     ]
    },
    {
     "name": "stdout",
     "output_type": "stream",
     "text": [
      "16\n"
     ]
    },
    {
     "name": "stderr",
     "output_type": "stream",
     "text": [
      "Info: Params [0.25294748 0.23397343 1.77999995 0.87707016 2.         4.37645151\n",
      " 2.11374061 1.18347945 1.85598747 3.07207084 0.17608399 0.94168025] gave 727.7680238157966\n",
      "Warning: dt is large.  Estimated pdfs may be imprecise.  Decrease dt to 0.01 or less.\n"
     ]
    },
    {
     "name": "stdout",
     "output_type": "stream",
     "text": [
      "17\n"
     ]
    },
    {
     "name": "stderr",
     "output_type": "stream",
     "text": [
      "Info: Params [0.12574525 0.14698959 1.33062273 0.65571813 0.82897187 4.37533023\n",
      " 3.55053499 0.94359444 1.07805673 0.14191647 0.14309473 0.13683593] gave 696.7453658160355\n",
      "Warning: dt is large.  Estimated pdfs may be imprecise.  Decrease dt to 0.01 or less.\n"
     ]
    },
    {
     "name": "stdout",
     "output_type": "stream",
     "text": [
      "18\n"
     ]
    },
    {
     "name": "stderr",
     "output_type": "stream",
     "text": [
      "Info: Params [0.17689158 0.1190801  3.6929899  1.35766601 1.24542339 2.24956335\n",
      " 2.37195778 1.72527964 2.         5.         0.20891311 0.65013137] gave 849.9504846383564\n",
      "Warning: dt is large.  Estimated pdfs may be imprecise.  Decrease dt to 0.01 or less.\n"
     ]
    },
    {
     "name": "stdout",
     "output_type": "stream",
     "text": [
      "19\n"
     ]
    },
    {
     "name": "stderr",
     "output_type": "stream",
     "text": [
      "Info: Params [0.23639716 0.11611962 1.81515629 0.91262809 1.46616937 2.39291938\n",
      " 3.97168061 1.99906101 0.75718824 0.0062154  0.42133452 0.99194148] gave 1059.1385209084083\n",
      "Warning: dt is large.  Estimated pdfs may be imprecise.  Decrease dt to 0.01 or less.\n"
     ]
    },
    {
     "name": "stdout",
     "output_type": "stream",
     "text": [
      "20\n"
     ]
    },
    {
     "name": "stderr",
     "output_type": "stream",
     "text": [
      "Info: Params [0.22657385 0.13655337 2.6399998  0.91865675 1.76620869 0.84687412\n",
      " 2.12571342 0.62311768 1.65278429 1.48417273 0.11989414 0.64939797] gave 695.8230148936557\n",
      "Warning: dt is large.  Estimated pdfs may be imprecise.  Decrease dt to 0.01 or less.\n"
     ]
    },
    {
     "name": "stdout",
     "output_type": "stream",
     "text": [
      "21\n"
     ]
    },
    {
     "name": "stderr",
     "output_type": "stream",
     "text": [
      "Info: Params [0.02638372 0.06352076 1.40772608 0.61780799 1.19813157 0.67360527\n",
      " 1.20374248 0.71548117 0.93056823 3.75768881 0.29249444 0.457692  ] gave 514.118361294379\n",
      "Warning: dt is large.  Estimated pdfs may be imprecise.  Decrease dt to 0.01 or less.\n"
     ]
    },
    {
     "name": "stdout",
     "output_type": "stream",
     "text": [
      "22\n"
     ]
    },
    {
     "name": "stderr",
     "output_type": "stream",
     "text": [
      "Info: Params [0.25114203 0.19521295 1.18825097 0.6509682  0.39819528 4.6095209\n",
      " 3.00000002 1.75483262 1.08907694 0.16623863 0.20284124 0.93490988] gave 684.4471620086363\n",
      "Warning: dt is large.  Estimated pdfs may be imprecise.  Decrease dt to 0.01 or less.\n"
     ]
    },
    {
     "name": "stdout",
     "output_type": "stream",
     "text": [
      "23\n"
     ]
    },
    {
     "name": "stderr",
     "output_type": "stream",
     "text": [
      "Info: Params [0.18853041 0.16990385 3.77353204 1.99919773 1.92223415 0.68965524\n",
      " 3.81000016 1.9481347  1.43424967 0.02753285 0.96035413 0.85268816] gave 1125.3758872832927\n",
      "Warning: dt is large.  Estimated pdfs may be imprecise.  Decrease dt to 0.01 or less.\n"
     ]
    },
    {
     "name": "stdout",
     "output_type": "stream",
     "text": [
      "24\n"
     ]
    },
    {
     "name": "stderr",
     "output_type": "stream",
     "text": [
      "Info: Params [0.23945323 0.06550315 1.58994218 0.45391134 0.47428908 3.5327602\n",
      " 1.59766701 0.33697772 1.20103307 1.06504999 0.10481511 0.41012427] gave 330.92856397032165\n",
      "Warning: dt is large.  Estimated pdfs may be imprecise.  Decrease dt to 0.01 or less.\n"
     ]
    },
    {
     "name": "stdout",
     "output_type": "stream",
     "text": [
      "25\n"
     ]
    },
    {
     "name": "stderr",
     "output_type": "stream",
     "text": [
      "Info: Params [0.29139291 0.09701868 1.23979074 0.7419849  0.18221821 0.44976159\n",
      " 1.         2.         0.55984184 4.79198356 0.4131082  0.13535015] gave 880.408681645503\n",
      "Warning: dt is large.  Estimated pdfs may be imprecise.  Decrease dt to 0.01 or less.\n"
     ]
    },
    {
     "name": "stdout",
     "output_type": "stream",
     "text": [
      "26\n"
     ]
    },
    {
     "name": "stderr",
     "output_type": "stream",
     "text": [
      "Info: Params [0.26312376 0.16213214 2.28292637 0.63047199 1.89060542 1.45906369\n",
      " 3.9216411  1.95541163 1.9215323  0.29860797 0.29720655 0.98270817] gave 903.7160647743866\n",
      "Warning: dt is large.  Estimated pdfs may be imprecise.  Decrease dt to 0.01 or less.\n"
     ]
    },
    {
     "name": "stdout",
     "output_type": "stream",
     "text": [
      "27\n"
     ]
    },
    {
     "name": "stderr",
     "output_type": "stream",
     "text": [
      "Info: Params [0.19390491 0.17685669 1.0986985  1.61315941 0.66023685 1.43352484\n",
      " 3.96157078 1.97828674 1.36145446 0.03055481 0.13861248 0.96332771] gave 1054.1842597491423\n",
      "Warning: dt is large.  Estimated pdfs may be imprecise.  Decrease dt to 0.01 or less.\n"
     ]
    },
    {
     "name": "stdout",
     "output_type": "stream",
     "text": [
      "28\n"
     ]
    },
    {
     "name": "stderr",
     "output_type": "stream",
     "text": [
      "Info: Params [1.28163927e-01 9.74389319e-02 3.09102977e+00 1.46598401e+00\n",
      " 1.53113617e+00 4.67938082e-01 3.94000025e+00 1.98849769e+00\n",
      " 7.74445912e-01 4.03549250e-05 9.09512179e-01 9.00644004e-01] gave 1205.6539219164806\n",
      "Warning: dt is large.  Estimated pdfs may be imprecise.  Decrease dt to 0.01 or less.\n"
     ]
    },
    {
     "name": "stdout",
     "output_type": "stream",
     "text": [
      "29\n"
     ]
    },
    {
     "name": "stderr",
     "output_type": "stream",
     "text": [
      "Info: Params [0.15357788 0.20362126 3.92000016 1.98074679 1.98030148 0.78401912\n",
      " 3.93403349 1.92652003 1.98374936 1.28418069 0.91167398 0.96476214] gave 1002.1413433850581\n",
      "Warning: dt is large.  Estimated pdfs may be imprecise.  Decrease dt to 0.01 or less.\n"
     ]
    },
    {
     "name": "stdout",
     "output_type": "stream",
     "text": [
      "30\n"
     ]
    },
    {
     "name": "stderr",
     "output_type": "stream",
     "text": [
      "Info: Params [0.06360856 0.26134408 1.03999994 0.26951899 0.85801702 1.09090655\n",
      " 3.70445555 1.62230825 1.99406986 1.38834162 0.1352486  0.21329986] gave 624.7545783160118\n",
      "Warning: dt is large.  Estimated pdfs may be imprecise.  Decrease dt to 0.01 or less.\n"
     ]
    },
    {
     "name": "stdout",
     "output_type": "stream",
     "text": [
      "31\n"
     ]
    },
    {
     "name": "stderr",
     "output_type": "stream",
     "text": [
      "Info: Params [0.23548907 0.13193194 1.02705127 1.50910477 0.48739075 3.02403257\n",
      " 3.94103567 1.97279147 1.07935949 0.01161708 0.10306247 0.16418411] gave 1029.600404253823\n",
      "Warning: dt is large.  Estimated pdfs may be imprecise.  Decrease dt to 0.01 or less.\n"
     ]
    },
    {
     "name": "stdout",
     "output_type": "stream",
     "text": [
      "32\n"
     ]
    },
    {
     "name": "stderr",
     "output_type": "stream",
     "text": [
      "Info: Params [0.0061771  0.46285228 1.01420564 0.3350707  1.9991125  0.01368875\n",
      " 2.37917253 1.66850878 1.55320694 0.76912231 0.12955904 0.34946761] gave 557.4663357858282\n",
      "Warning: dt is large.  Estimated pdfs may be imprecise.  Decrease dt to 0.01 or less.\n"
     ]
    },
    {
     "name": "stdout",
     "output_type": "stream",
     "text": [
      "33\n"
     ]
    },
    {
     "name": "stderr",
     "output_type": "stream",
     "text": [
      "Info: Params [0.02820401 0.0994124  1.28075366 0.77582649 1.10778214 4.59874648\n",
      " 3.87000006 0.84090408 2.         0.97392528 0.10686462 0.51720238] gave 685.042697413068\n",
      "Warning: dt is large.  Estimated pdfs may be imprecise.  Decrease dt to 0.01 or less.\n"
     ]
    },
    {
     "name": "stdout",
     "output_type": "stream",
     "text": [
      "34\n"
     ]
    },
    {
     "name": "stderr",
     "output_type": "stream",
     "text": [
      "Info: Params [0.15876637 0.23760718 1.72575428 1.17557675 1.92177836 2.18427607\n",
      " 3.99000408 1.93693056 1.20997521 0.03272869 0.69067152 0.92199502] gave 964.9042194704784\n",
      "Warning: dt is large.  Estimated pdfs may be imprecise.  Decrease dt to 0.01 or less.\n"
     ]
    },
    {
     "name": "stdout",
     "output_type": "stream",
     "text": [
      "35\n"
     ]
    },
    {
     "name": "stderr",
     "output_type": "stream",
     "text": [
      "Info: Params [0.34507475 0.19042093 1.62469452 1.98887613 0.99109389 2.77939314\n",
      " 3.75742826 2.         1.26406527 0.         0.90342546 0.9991209 ] gave 1122.101474090647\n",
      "Warning: dt is large.  Estimated pdfs may be imprecise.  Decrease dt to 0.01 or less.\n"
     ]
    },
    {
     "name": "stdout",
     "output_type": "stream",
     "text": [
      "36\n"
     ]
    },
    {
     "name": "stderr",
     "output_type": "stream",
     "text": [
      "Info: Params [0.16653084 0.10776724 1.96198974 1.19271259 2.         4.1528108\n",
      " 3.75999996 0.34106767 1.78550566 0.9946073  0.87190541 0.95815533] gave 723.7429968168234\n",
      "Warning: dt is large.  Estimated pdfs may be imprecise.  Decrease dt to 0.01 or less.\n"
     ]
    },
    {
     "name": "stdout",
     "output_type": "stream",
     "text": [
      "37\n"
     ]
    },
    {
     "name": "stderr",
     "output_type": "stream",
     "text": [
      "Info: Params [3.73314783e-01 3.17560653e-02 1.00270318e+00 1.76450122e+00\n",
      " 6.23056156e-01 3.20130245e+00 3.98105115e+00 1.96079075e+00\n",
      " 1.45038226e+00 2.42668436e-03 1.29156780e-01 6.48922617e-01] gave 1062.924785294971\n"
     ]
    },
    {
     "name": "stdout",
     "output_type": "stream",
     "text": [
      "           1    2    3    4         5    6    7    8    9    10  ...  \\\n",
      "Accuracy  1.0  1.0  1.0  1.0  1.037975  1.0  1.0  1.0  1.0  1.0  ...   \n",
      "Speed     1.0  1.0  1.0  1.0  1.000000  1.0  1.0  1.0  1.0  1.0  ...   \n",
      "\n",
      "                29   30   31        32   33   34   35        36   37        38  \n",
      "Accuracy  1.051282  1.0  1.0  1.012346  1.0  1.0  1.0  1.012346  1.0  1.078947  \n",
      "Speed     1.000000  1.0  1.0  1.000000  1.0  1.0  1.0  1.000000  1.0  1.000000  \n",
      "\n",
      "[2 rows x 38 columns]\n"
     ]
    }
   ],
   "source": [
    "data_dir = \"/Users/wangjiashun/Desktop/Reserach on SAT/datasets/transformed/Lerche2017/sub\"\n",
    "sample_size = 38\n",
    "\n",
    "df_all = pd.DataFrame()\n",
    "valid_ratio_dfs = pd.DataFrame()\n",
    "\n",
    "for i in range(sample_size):\n",
    "    print(i)\n",
    "    path = os.path.join(data_dir+str(i+1)+\".csv\")\n",
    "    df = pd.read_csv(path, sep = \",\")\n",
    "    \n",
    "    counts_before = df['Cond'].value_counts()\n",
    "    df = df[df[\"Time\"]<30]\n",
    "    counts_after = df['Cond'].value_counts()\n",
    "    valid_ratio = counts_before/counts_after\n",
    "    valid_ratio_df = valid_ratio.to_frame(i+1)\n",
    "    valid_ratio_dfs = pd.concat((valid_ratio_dfs,valid_ratio_df), axis = 1)\n",
    "    \n",
    "    samp = Sample.from_pandas_dataframe(df, rt_column_name=\"Time\", choice_column_name=\"Correct\")\n",
    "    df = get_DDM_result_sub_2v2a2Weilbull2ter(samp,dt=0.05,T_dur=30)\n",
    "    df_all = pd.concat((df_all,df))\n",
    "    \n",
    "df_OUM = df_all.copy()\n",
    "df_OUM.to_csv(\"Parameter Estimates/DDM2v2a2Weibull2terresultLerche2017.csv\")\n",
    "print(valid_ratio_dfs)"
   ]
  },
  {
   "cell_type": "code",
   "execution_count": 7,
   "id": "c63aea59",
   "metadata": {
    "scrolled": true
   },
   "outputs": [
    {
     "name": "stdout",
     "output_type": "stream",
     "text": [
      "0\n"
     ]
    },
    {
     "name": "stderr",
     "output_type": "stream",
     "text": [
      "Info: Params [1.13436979 1.58552174 1.0026919  0.36403927 0.26492527 3.16610502\n",
      " 1.00826329 0.49393585 0.25990994 4.80071349 0.16850006 0.24523454] gave -1308.8965837609392\n"
     ]
    },
    {
     "name": "stdout",
     "output_type": "stream",
     "text": [
      "1\n"
     ]
    },
    {
     "name": "stderr",
     "output_type": "stream",
     "text": [
      "Info: Params [0.62636306 1.36432498 1.29825905 0.30002755 0.24787136 3.60578121\n",
      " 1.14463518 0.30712245 0.2283634  3.1219142  0.12873608 0.22364266] gave -2546.4803589915177\n"
     ]
    },
    {
     "name": "stdout",
     "output_type": "stream",
     "text": [
      "2\n"
     ]
    },
    {
     "name": "stderr",
     "output_type": "stream",
     "text": [
      "Info: Params [0.17104527 0.2633404  1.00436122 0.38271683 0.20255783 2.71192341\n",
      " 1.00354573 0.37270039 0.28502163 4.55329087 0.10468753 0.10184843] gave -582.8792160499002\n"
     ]
    },
    {
     "name": "stdout",
     "output_type": "stream",
     "text": [
      "3\n"
     ]
    },
    {
     "name": "stderr",
     "output_type": "stream",
     "text": [
      "Info: Params [1.75847401 1.94534765 1.12784846 0.29177551 0.11625981 1.23984359\n",
      " 1.03349577 0.30651099 0.1766063  2.7011638  0.24931151 0.23354471] gave -3897.7210557057206\n"
     ]
    },
    {
     "name": "stdout",
     "output_type": "stream",
     "text": [
      "4\n"
     ]
    },
    {
     "name": "stderr",
     "output_type": "stream",
     "text": [
      "Info: Params [0.31754843 0.45417786 1.00999998 0.28800593 0.22460498 2.14853918\n",
      " 1.0151421  0.30664204 0.29476778 3.61078497 0.10708363 0.10387628] gave -346.37649047613786\n"
     ]
    },
    {
     "name": "stdout",
     "output_type": "stream",
     "text": [
      "5\n"
     ]
    },
    {
     "name": "stderr",
     "output_type": "stream",
     "text": [
      "Info: Params [1.47525007 1.63091389 1.0740185  0.2952305  0.17721954 3.16052045\n",
      " 1.01075491 0.23963199 0.16777666 2.38792985 0.18651104 0.22176767] gave -1871.6158165085028\n"
     ]
    },
    {
     "name": "stdout",
     "output_type": "stream",
     "text": [
      "6\n"
     ]
    },
    {
     "name": "stderr",
     "output_type": "stream",
     "text": [
      "Info: Params [0.93174374 1.50223753 1.42601257 0.2845087  0.22862368 3.17199778\n",
      " 1.07464862 0.35675915 0.17586701 2.67199293 0.130664   0.23727336] gave -3111.6515726880443\n"
     ]
    },
    {
     "name": "stdout",
     "output_type": "stream",
     "text": [
      "7\n"
     ]
    },
    {
     "name": "stderr",
     "output_type": "stream",
     "text": [
      "Info: Params [1.24407409 1.71048866 1.01603065 0.2795796  0.16072068 3.23324699\n",
      " 1.01850666 0.61328937 0.13380676 3.5389654  0.18605146 0.24262061] gave -2137.7247472046174\n"
     ]
    },
    {
     "name": "stdout",
     "output_type": "stream",
     "text": [
      "8\n"
     ]
    },
    {
     "name": "stderr",
     "output_type": "stream",
     "text": [
      "Info: Params [1.27735275 1.76832681 1.01999998 0.27402525 0.21723104 2.66792267\n",
      " 1.09987945 0.27180095 0.21716588 2.47426438 0.21586741 0.241699  ] gave -1467.4248406844008\n"
     ]
    },
    {
     "name": "stdout",
     "output_type": "stream",
     "text": [
      "9\n"
     ]
    },
    {
     "name": "stderr",
     "output_type": "stream",
     "text": [
      "Info: Params [0.87260077 1.42260767 1.07999997 0.26787084 0.17453973 2.03909379\n",
      " 1.07817077 0.36860408 0.17102982 1.99390353 0.17060106 0.21421888] gave -2251.472008494531\n"
     ]
    },
    {
     "name": "stdout",
     "output_type": "stream",
     "text": [
      "10\n"
     ]
    },
    {
     "name": "stderr",
     "output_type": "stream",
     "text": [
      "Info: Params [0.13439347 0.19315473 1.00398713 0.38919188 0.17755986 2.39256844\n",
      " 1.00856887 0.38827898 0.19259428 2.0707359  0.1072761  0.10174989] gave -476.42561769128815\n"
     ]
    },
    {
     "name": "stdout",
     "output_type": "stream",
     "text": [
      "11\n"
     ]
    },
    {
     "name": "stderr",
     "output_type": "stream",
     "text": [
      "Info: Params [0.60738442 1.30331553 1.00109385 0.35510756 0.18906849 2.68489367\n",
      " 1.01315237 0.21708269 0.837694   0.74376153 0.15355396 0.24773971] gave -331.1632314498152\n"
     ]
    },
    {
     "name": "stdout",
     "output_type": "stream",
     "text": [
      "12\n"
     ]
    },
    {
     "name": "stderr",
     "output_type": "stream",
     "text": [
      "Info: Params [0.38663197 0.81644187 1.08244225 0.01083775 0.51735354 0.29338262\n",
      " 1.02839683 0.39628131 0.27165445 3.84093956 0.16446895 0.15308618] gave -385.4903110579187\n"
     ]
    },
    {
     "name": "stdout",
     "output_type": "stream",
     "text": [
      "13\n"
     ]
    },
    {
     "name": "stderr",
     "output_type": "stream",
     "text": [
      "Info: Params [0.01330711 0.5015045  1.05063913 0.33636707 0.0826762  1.33111569\n",
      " 1.08692292 0.47352272 0.10118859 2.25679291 0.12354764 0.1209043 ] gave -281.6179542943303\n"
     ]
    },
    {
     "name": "stdout",
     "output_type": "stream",
     "text": [
      "14\n"
     ]
    },
    {
     "name": "stderr",
     "output_type": "stream",
     "text": [
      "Info: Params [1.05588577 1.17596827 1.20263571 0.35656688 0.21372553 2.29010916\n",
      " 1.03314047 0.37019566 0.21433498 3.03927871 0.23306298 0.26518259] gave -1604.402049925578\n"
     ]
    },
    {
     "name": "stdout",
     "output_type": "stream",
     "text": [
      "15\n"
     ]
    },
    {
     "name": "stderr",
     "output_type": "stream",
     "text": [
      "Info: Params [0.0746972  0.60755847 1.12958525 0.41232847 0.15792636 2.48505521\n",
      " 1.02999968 0.36926975 0.12034717 0.50200753 0.11169856 0.18181207] gave 156.52692631867714\n"
     ]
    },
    {
     "name": "stdout",
     "output_type": "stream",
     "text": [
      "16\n"
     ]
    },
    {
     "name": "stderr",
     "output_type": "stream",
     "text": [
      "Info: Params [0.45967144 0.51164142 1.091622   0.22910629 0.170556   1.4786361\n",
      " 1.01305028 0.21384939 0.26209394 2.469875   0.10729513 0.10309023] gave -1726.2206745049687\n"
     ]
    },
    {
     "name": "stdout",
     "output_type": "stream",
     "text": [
      "17\n"
     ]
    },
    {
     "name": "stderr",
     "output_type": "stream",
     "text": [
      "Info: Params [0.3905932  0.91185754 1.96999066 0.23006236 0.01691754 0.25234366\n",
      " 1.0093715  0.39941007 0.38744557 3.60424808 0.12562801 0.12913196] gave 221.16615814239643\n"
     ]
    },
    {
     "name": "stdout",
     "output_type": "stream",
     "text": [
      "18\n"
     ]
    },
    {
     "name": "stderr",
     "output_type": "stream",
     "text": [
      "Info: Params [2.06765941 1.99279652 1.13359979 0.30196421 0.29474896 1.88824348\n",
      " 1.12043204 0.30294195 0.24690939 2.08570403 0.33574676 0.3581641 ] gave -2736.7010126607615\n"
     ]
    },
    {
     "name": "stdout",
     "output_type": "stream",
     "text": [
      "19\n"
     ]
    },
    {
     "name": "stderr",
     "output_type": "stream",
     "text": [
      "Info: Params [0.31279211 0.5665132  1.02480201 0.2671257  0.24092839 3.13134108\n",
      " 1.02226164 0.29548034 0.25177536 2.77818634 0.10258902 0.13776186] gave -1509.3495581496668\n"
     ]
    },
    {
     "name": "stdout",
     "output_type": "stream",
     "text": [
      "20\n"
     ]
    },
    {
     "name": "stderr",
     "output_type": "stream",
     "text": [
      "Info: Params [0.22488934 0.16266442 1.2438508  0.24544562 0.04460848 0.40807201\n",
      " 1.07773772 0.38996971 0.11662487 1.08448989 0.14888221 0.11994806] gave -620.0127949226768\n"
     ]
    },
    {
     "name": "stdout",
     "output_type": "stream",
     "text": [
      "21\n"
     ]
    },
    {
     "name": "stderr",
     "output_type": "stream",
     "text": [
      "Info: Params [0.27482472 0.66662523 1.00982291 0.31960608 0.29202174 2.01621552\n",
      " 1.00690878 0.37954678 0.38627837 2.39304587 0.10363935 0.13784383] gave 516.3290753199707\n"
     ]
    },
    {
     "name": "stdout",
     "output_type": "stream",
     "text": [
      "22\n"
     ]
    },
    {
     "name": "stderr",
     "output_type": "stream",
     "text": [
      "Info: Params [0.01150736 0.22999848 3.60575539 0.35706213 0.01166491 4.55629343\n",
      " 1.05930762 0.23914602 0.05168498 0.20339088 0.17487957 0.16403745] gave -908.1571667555024\n"
     ]
    },
    {
     "name": "stdout",
     "output_type": "stream",
     "text": [
      "23\n"
     ]
    },
    {
     "name": "stderr",
     "output_type": "stream",
     "text": [
      "Info: Params [0.10489481 0.38116648 1.01004336 0.29301196 0.2181286  1.86830685\n",
      " 1.00884007 0.31258622 0.35611644 3.873583   0.10357498 0.11289085] gave -157.90719047033082\n"
     ]
    },
    {
     "name": "stdout",
     "output_type": "stream",
     "text": [
      "24\n"
     ]
    },
    {
     "name": "stderr",
     "output_type": "stream",
     "text": [
      "Info: Params [0.20302263 0.68833256 3.77410069 0.39383289 0.02618347 4.87866917\n",
      " 1.15279755 0.50489577 0.50252458 4.98941692 0.15386154 0.10455113] gave 113.73782726055359\n"
     ]
    },
    {
     "name": "stdout",
     "output_type": "stream",
     "text": [
      "25\n"
     ]
    },
    {
     "name": "stderr",
     "output_type": "stream",
     "text": [
      "Info: Params [0.5091684  0.68344964 1.06901368 0.26829279 0.21758116 3.246323\n",
      " 1.02711304 0.35331712 0.23106098 2.64503371 0.10631915 0.1188454 ] gave -794.3862881921406\n"
     ]
    },
    {
     "name": "stdout",
     "output_type": "stream",
     "text": [
      "26\n"
     ]
    },
    {
     "name": "stderr",
     "output_type": "stream",
     "text": [
      "Info: Params [0.7395318  1.3967626  1.01005422 0.27781511 0.19466597 3.46215697\n",
      " 1.17145052 0.0318874  0.45723295 0.71605122 0.11739441 0.19878474] gave -837.6870746171171\n"
     ]
    },
    {
     "name": "stdout",
     "output_type": "stream",
     "text": [
      "27\n"
     ]
    },
    {
     "name": "stderr",
     "output_type": "stream",
     "text": [
      "Info: Params [0.09191611 0.02445368 1.04610763 0.20983972 0.23506909 3.95863961\n",
      " 1.00195718 0.23907567 0.23012209 3.98285    0.10231306 0.1339113 ] gave -1205.332545141721\n"
     ]
    },
    {
     "name": "stdout",
     "output_type": "stream",
     "text": [
      "28\n"
     ]
    },
    {
     "name": "stderr",
     "output_type": "stream",
     "text": [
      "Info: Params [0.28505569 0.52776631 1.00818786 0.38174891 0.1592393  1.93168357\n",
      " 1.00598876 0.36448301 0.28630018 2.48945145 0.10498236 0.13356555] gave -52.55719530875881\n"
     ]
    },
    {
     "name": "stdout",
     "output_type": "stream",
     "text": [
      "29\n"
     ]
    },
    {
     "name": "stderr",
     "output_type": "stream",
     "text": [
      "Info: Params [0.11935355 0.23574203 1.00756216 0.33666514 0.23596132 2.3567146\n",
      " 2.398267   0.55951105 0.01123153 4.54197557 0.10179931 0.17957914] gave 347.2579255309998\n"
     ]
    },
    {
     "name": "stdout",
     "output_type": "stream",
     "text": [
      "30\n"
     ]
    },
    {
     "name": "stderr",
     "output_type": "stream",
     "text": [
      "Info: Params [0.13889456 0.10605871 1.00340581 0.3798894  0.16469736 2.12961982\n",
      " 2.72589065 0.40265281 0.04240539 0.69862793 0.10726017 0.10338631] gave -109.69124788377007\n"
     ]
    },
    {
     "name": "stdout",
     "output_type": "stream",
     "text": [
      "31\n"
     ]
    },
    {
     "name": "stderr",
     "output_type": "stream",
     "text": [
      "Info: Params [0.40664871 0.25669877 1.01897618 0.20486258 0.12296797 0.42701759\n",
      " 1.03045403 0.20423262 0.1372252  0.27249055 0.15421307 0.16364074] gave -16.713354037608127\n"
     ]
    },
    {
     "name": "stdout",
     "output_type": "stream",
     "text": [
      "32\n"
     ]
    },
    {
     "name": "stderr",
     "output_type": "stream",
     "text": [
      "Info: Params [0.14841653 0.15295131 1.0090791  0.33977135 0.24076199 2.56362523\n",
      " 1.00332174 0.41851618 0.27107832 2.46508429 0.10835034 0.10656824] gave 237.5811754295985\n"
     ]
    },
    {
     "name": "stdout",
     "output_type": "stream",
     "text": [
      "33\n"
     ]
    },
    {
     "name": "stderr",
     "output_type": "stream",
     "text": [
      "Info: Params [0.04692784 0.5139803  1.14954081 0.35155638 0.17029807 1.62565907\n",
      " 1.0211907  0.46860605 0.55352486 2.97671176 0.10773551 0.16178703] gave 489.0602229592639\n"
     ]
    },
    {
     "name": "stdout",
     "output_type": "stream",
     "text": [
      "           1    2    3    4    5    6    7    8    9    10  ...   25   26  \\\n",
      "Speed     1.0  1.0  1.0  1.0  1.0  1.0  1.0  1.0  1.0  1.0  ...  1.0  1.0   \n",
      "Accuracy  1.0  1.0  1.0  1.0  1.0  1.0  1.0  1.0  1.0  1.0  ...  1.0  1.0   \n",
      "\n",
      "           27   28   29   30   31   32   33   34  \n",
      "Speed     1.0  1.0  1.0  1.0  1.0  1.0  1.0  1.0  \n",
      "Accuracy  1.0  1.0  1.0  1.0  1.0  1.0  1.0  1.0  \n",
      "\n",
      "[2 rows x 34 columns]\n"
     ]
    }
   ],
   "source": [
    "data_dir = \"/Users/wangjiashun/Desktop/Reserach on SAT/datasets/transformed/Rae2014/sub\"\n",
    "sample_size = 34\n",
    "\n",
    "df_all = pd.DataFrame()\n",
    "valid_ratio_dfs = pd.DataFrame()\n",
    "\n",
    "for i in range(sample_size):\n",
    "    print(i)\n",
    "    path = os.path.join(data_dir+str(i+1)+\".csv\")\n",
    "    df = pd.read_csv(path, sep = \",\")\n",
    "    \n",
    "    counts_before = df['Cond'].value_counts()\n",
    "    df = df[df[\"Time\"]<5]\n",
    "    counts_after = df['Cond'].value_counts()\n",
    "    valid_ratio = counts_before/counts_after\n",
    "    valid_ratio_df = valid_ratio.to_frame(i+1)\n",
    "    valid_ratio_dfs = pd.concat((valid_ratio_dfs,valid_ratio_df), axis = 1)\n",
    "    \n",
    "    samp = Sample.from_pandas_dataframe(df, rt_column_name=\"Time\", choice_column_name=\"Correct\")\n",
    "    df = get_DDM_result_sub_2v2a2Weilbull2ter(samp)\n",
    "    df_all = pd.concat((df_all,df))\n",
    "    \n",
    "df_OUM = df_all.copy()\n",
    "df_OUM.to_csv(\"Parameter Estimates/DDM2v2a2Weibull2terresultRae2014.csv\")\n",
    "print(valid_ratio_dfs)"
   ]
  },
  {
   "cell_type": "code",
   "execution_count": 8,
   "id": "3284c710",
   "metadata": {},
   "outputs": [
    {
     "name": "stdout",
     "output_type": "stream",
     "text": [
      "1\n"
     ]
    },
    {
     "name": "stderr",
     "output_type": "stream",
     "text": [
      "Info: Params [2.59325037 3.31813602 1.11891816 0.56157129 0.1122135  3.55087783\n",
      " 1.78012818 0.04678759 0.01733247 0.1518917  0.29322848 0.36042084] gave -239.3744955916922\n"
     ]
    },
    {
     "name": "stdout",
     "output_type": "stream",
     "text": [
      "1\n"
     ]
    },
    {
     "name": "stderr",
     "output_type": "stream",
     "text": [
      "Info: Params [2.24920903 1.90353211 1.0921414  0.17376851 0.05746289 0.26804398\n",
      " 1.02990658 0.53543321 0.21369648 3.96223773 0.36618446 0.29173768] gave -117.40913848713734\n"
     ]
    },
    {
     "name": "stdout",
     "output_type": "stream",
     "text": [
      "1\n"
     ]
    },
    {
     "name": "stderr",
     "output_type": "stream",
     "text": [
      "Info: Params [0.81822757 1.5242245  1.01296231 0.06470736 0.45957731 0.30013628\n",
      " 1.00800181 0.46494568 0.11165327 1.18852334 0.32367717 0.35063603] gave 7.103192379193388\n"
     ]
    },
    {
     "name": "stdout",
     "output_type": "stream",
     "text": [
      "1\n"
     ]
    },
    {
     "name": "stderr",
     "output_type": "stream",
     "text": [
      "Info: Params [2.32349916e+00 2.77681609e+00 1.22999992e+00 6.20269989e-02\n",
      " 8.95259800e-01 1.93370113e-10 1.37938719e+00 4.69295201e-01\n",
      " 1.08929880e-02 1.38241559e+00 3.43145863e-01 3.99281161e-01] gave -145.218176141888\n"
     ]
    },
    {
     "name": "stdout",
     "output_type": "stream",
     "text": [
      "1\n"
     ]
    },
    {
     "name": "stderr",
     "output_type": "stream",
     "text": [
      "Info: Params [2.38123896 1.9092138  3.82436664 0.56628755 0.24827253 2.24767456\n",
      " 2.38000001 0.41557005 0.3447166  2.61283586 0.12754922 0.12715875] gave -156.2582583534786\n"
     ]
    },
    {
     "name": "stdout",
     "output_type": "stream",
     "text": [
      "1\n"
     ]
    },
    {
     "name": "stderr",
     "output_type": "stream",
     "text": [
      "Info: Params [3.07040094 2.18222406 1.10290196 0.49448752 0.07085848 0.99494605\n",
      " 3.35000001 0.63881305 0.30430289 3.04522219 0.31474354 0.10385419] gave -205.89230689720705\n"
     ]
    },
    {
     "name": "stdout",
     "output_type": "stream",
     "text": [
      "3\n"
     ]
    },
    {
     "name": "stderr",
     "output_type": "stream",
     "text": [
      "Info: Params [1.84852008 2.64433817 1.00540935 0.36117491 0.18277127 2.23144562\n",
      " 1.27566088 0.64733111 0.24822743 3.47667685 0.25639975 0.32651107] gave -167.43192203034738\n"
     ]
    },
    {
     "name": "stdout",
     "output_type": "stream",
     "text": [
      "3\n"
     ]
    },
    {
     "name": "stderr",
     "output_type": "stream",
     "text": [
      "Info: Params [1.56964693 1.86892694 1.15993277 0.06000249 0.28146255 0.08437988\n",
      " 1.07529677 0.69003039 0.30581953 4.97786405 0.32225537 0.32585219] gave -20.52852234798368\n"
     ]
    },
    {
     "name": "stdout",
     "output_type": "stream",
     "text": [
      "3\n"
     ]
    },
    {
     "name": "stderr",
     "output_type": "stream",
     "text": [
      "Info: Params [1.14235863 1.30207362 1.00999993 0.47734011 0.2028589  4.62827911\n",
      " 2.43535869 0.69621623 0.47359672 3.43543587 0.23267177 0.10191154] gave 38.84165936420221\n"
     ]
    },
    {
     "name": "stdout",
     "output_type": "stream",
     "text": [
      "3\n"
     ]
    },
    {
     "name": "stderr",
     "output_type": "stream",
     "text": [
      "Info: Params [1.54566054 1.7711993  1.28260631 0.39846474 0.310284   2.87824263\n",
      " 1.71       0.71783122 0.58238417 4.98763079 0.18729256 0.10840586] gave -9.334738739372568\n"
     ]
    },
    {
     "name": "stdout",
     "output_type": "stream",
     "text": [
      "3\n"
     ]
    },
    {
     "name": "stderr",
     "output_type": "stream",
     "text": [
      "Info: Params [2.90864409 1.62685016 1.00999987 0.21463377 0.45274058 0.5656992\n",
      " 2.24444995 0.98773365 0.40095177 3.57907245 0.28459936 0.12700204] gave -29.0307021167663\n"
     ]
    },
    {
     "name": "stdout",
     "output_type": "stream",
     "text": [
      "3\n"
     ]
    },
    {
     "name": "stderr",
     "output_type": "stream",
     "text": [
      "Info: Params [2.40866663 2.10845309 1.05883598 0.10193226 0.42199007 0.76024815\n",
      " 1.88447392 0.98404447 0.28284708 1.88587952 0.29129968 0.23926983] gave -44.01482412640674\n"
     ]
    },
    {
     "name": "stdout",
     "output_type": "stream",
     "text": [
      "4\n"
     ]
    },
    {
     "name": "stderr",
     "output_type": "stream",
     "text": [
      "Info: Params [2.90658302 3.08075766 1.47       0.32954455 0.1097474  2.30626553\n",
      " 3.75388733 0.88679544 0.22496828 2.09788579 0.25496825 0.12554016] gave -288.51336817977506\n"
     ]
    },
    {
     "name": "stdout",
     "output_type": "stream",
     "text": [
      "4\n"
     ]
    },
    {
     "name": "stderr",
     "output_type": "stream",
     "text": [
      "Info: Params [1.92442818 2.80969475 1.1924083  0.2829132  0.10723665 1.27885392\n",
      " 1.01635704 0.47389361 0.25071378 2.70772746 0.27972363 0.30243757] gave -199.35968548939653\n"
     ]
    },
    {
     "name": "stdout",
     "output_type": "stream",
     "text": [
      "4\n"
     ]
    },
    {
     "name": "stderr",
     "output_type": "stream",
     "text": [
      "Info: Params [1.46053406 1.89419269 1.06551511 0.35402057 0.01105879 0.39044402\n",
      " 1.0037839  0.06658595 0.63495945 1.15750526 0.32541229 0.29693279] gave -72.57686047724252\n"
     ]
    },
    {
     "name": "stdout",
     "output_type": "stream",
     "text": [
      "4\n"
     ]
    },
    {
     "name": "stderr",
     "output_type": "stream",
     "text": [
      "Info: Params [3.20471863 3.11391774 1.5946514  0.21557623 0.03683066 0.4423086\n",
      " 1.12788337 0.66366097 0.35780527 0.762208   0.32549328 0.2923272 ] gave -211.1977388847823\n"
     ]
    },
    {
     "name": "stdout",
     "output_type": "stream",
     "text": [
      "4\n"
     ]
    },
    {
     "name": "stderr",
     "output_type": "stream",
     "text": [
      "Info: Params [3.48349661 2.41445116 1.01975097 0.0828352  1.29525505 0.01681346\n",
      " 1.06622804 0.31956235 1.075835   0.04703977 0.33270395 0.35258904] gave -180.10125028450278\n"
     ]
    },
    {
     "name": "stdout",
     "output_type": "stream",
     "text": [
      "4\n"
     ]
    },
    {
     "name": "stderr",
     "output_type": "stream",
     "text": [
      "Info: Params [3.20417908 2.20862328 1.09999966 0.10799981 0.07030832 0.18416062\n",
      " 1.19513942 0.13159036 1.01805488 0.11298673 0.31521366 0.34342586] gave -169.26325729717834\n"
     ]
    },
    {
     "name": "stdout",
     "output_type": "stream",
     "text": [
      "5\n"
     ]
    },
    {
     "name": "stderr",
     "output_type": "stream",
     "text": [
      "Info: Params [3.04102996 4.58615514 1.0466312  0.34366401 0.1397098  3.13804139\n",
      " 2.31574385 1.31940549 0.10730759 2.97455512 0.2528571  0.30277065] gave -269.97599774962407\n"
     ]
    },
    {
     "name": "stdout",
     "output_type": "stream",
     "text": [
      "5\n"
     ]
    },
    {
     "name": "stderr",
     "output_type": "stream",
     "text": [
      "Info: Params [3.38842118 1.83897409 1.08999997 0.02301859 0.19429207 0.83097869\n",
      " 2.85856861 0.45062095 0.37111008 2.71316418 0.3158208  0.15604159] gave -202.11234871949196\n"
     ]
    },
    {
     "name": "stdout",
     "output_type": "stream",
     "text": [
      "5\n"
     ]
    },
    {
     "name": "stderr",
     "output_type": "stream",
     "text": [
      "Info: Params [1.81352298 2.60036405 1.06362712 0.21706168 0.15813937 1.09510922\n",
      " 2.19118651 0.01992815 0.24098928 0.62791746 0.29758545 0.36164914] gave -167.02076303974826\n"
     ]
    },
    {
     "name": "stdout",
     "output_type": "stream",
     "text": [
      "5\n"
     ]
    },
    {
     "name": "stderr",
     "output_type": "stream",
     "text": [
      "Info: Params [4.57729099 2.96749646 1.68583326 0.73054265 0.06666718 1.51606107\n",
      " 1.22863403 0.71721651 0.23087979 3.04081659 0.30341164 0.35553507] gave -249.07062239704038\n"
     ]
    },
    {
     "name": "stdout",
     "output_type": "stream",
     "text": [
      "5\n"
     ]
    },
    {
     "name": "stderr",
     "output_type": "stream",
     "text": [
      "Info: Params [3.29854403 1.92791063 1.14308468 0.35832668 0.08678432 3.03059388\n",
      " 3.07000002 0.61338906 0.32234742 2.15081483 0.32187825 0.21294322] gave -206.58089257018273\n"
     ]
    },
    {
     "name": "stdout",
     "output_type": "stream",
     "text": [
      "5\n"
     ]
    },
    {
     "name": "stderr",
     "output_type": "stream",
     "text": [
      "Info: Params [2.57560229 1.92794626 1.04999992 0.26052868 0.16016056 2.74637468\n",
      " 2.88390329 0.57835154 0.29837809 2.17396059 0.27114117 0.20294338] gave -195.82198406486378\n"
     ]
    },
    {
     "name": "stdout",
     "output_type": "stream",
     "text": [
      "6\n"
     ]
    },
    {
     "name": "stderr",
     "output_type": "stream",
     "text": [
      "Info: Params [1.80671496 2.64364665 1.03       0.04482624 0.25376558 2.02148731\n",
      " 1.20351386 0.50131968 0.13168845 1.12729384 0.20349703 0.32157103] gave -186.39223922018147\n"
     ]
    },
    {
     "name": "stdout",
     "output_type": "stream",
     "text": [
      "6\n"
     ]
    },
    {
     "name": "stderr",
     "output_type": "stream",
     "text": [
      "Info: Params [1.04404698e+00 2.31441614e+00 1.04999998e+00 2.90727486e-01\n",
      " 2.89485990e-01 4.83992645e+00 1.20995922e+00 2.01770002e-01\n",
      " 2.33197410e-01 2.41391624e-04 1.34493084e-01 4.37812578e-01] gave -88.69249744350765\n"
     ]
    },
    {
     "name": "stdout",
     "output_type": "stream",
     "text": [
      "6\n"
     ]
    },
    {
     "name": "stderr",
     "output_type": "stream",
     "text": [
      "Info: Params [0.28777112 1.39735889 1.04965997 0.39579447 0.24854103 4.26409546\n",
      " 1.00045734 0.54916484 0.13079791 2.35502298 0.13309579 0.38575076] gave 32.75301636410163\n"
     ]
    },
    {
     "name": "stdout",
     "output_type": "stream",
     "text": [
      "6\n"
     ]
    },
    {
     "name": "stderr",
     "output_type": "stream",
     "text": [
      "Info: Params [0.71381986 1.9015849  1.00935419 0.31348745 0.31543947 4.48911031\n",
      " 3.63999999 0.56654076 0.37661701 1.6451008  0.12021373 0.10607847] gave -36.26638458794619\n"
     ]
    },
    {
     "name": "stdout",
     "output_type": "stream",
     "text": [
      "6\n"
     ]
    },
    {
     "name": "stderr",
     "output_type": "stream",
     "text": [
      "Info: Params [0.68251551 1.90118307 1.         0.3871346  0.22605977 3.23459643\n",
      " 2.29147589 0.66719214 0.21355187 2.0858231  0.18134703 0.24776854] gave -27.25415873957961\n"
     ]
    },
    {
     "name": "stdout",
     "output_type": "stream",
     "text": [
      "6\n"
     ]
    },
    {
     "name": "stderr",
     "output_type": "stream",
     "text": [
      "Info: Params [0.56054209 2.26959189 1.04987523 0.37480539 0.32306417 4.23460437\n",
      " 1.07       0.62165719 0.22855532 3.76330204 0.10705235 0.30716288] gave -37.62064644920264\n"
     ]
    },
    {
     "name": "stdout",
     "output_type": "stream",
     "text": [
      "7\n"
     ]
    },
    {
     "name": "stderr",
     "output_type": "stream",
     "text": [
      "Info: Params [0.27675578 1.89524754 1.00362623 0.29360428 0.32664624 4.19165073\n",
      " 1.00212705 0.44875848 0.31966313 4.59712579 0.10762694 0.20514706] gave -25.00009472206446\n"
     ]
    },
    {
     "name": "stdout",
     "output_type": "stream",
     "text": [
      "7\n"
     ]
    },
    {
     "name": "stderr",
     "output_type": "stream",
     "text": [
      "Info: Params [0.         1.26232175 2.46800863 0.29403373 0.15492678 1.1587351\n",
      " 1.00999996 0.01610393 0.49454888 1.14127327 0.10473002 0.2649873 ] gave 15.171097510168579\n"
     ]
    },
    {
     "name": "stdout",
     "output_type": "stream",
     "text": [
      "7\n"
     ]
    },
    {
     "name": "stderr",
     "output_type": "stream",
     "text": [
      "Info: Params [0.         0.53346328 1.00999998 0.17631335 0.35817456 3.06124881\n",
      " 1.43595182 0.40402344 0.44419126 3.42192146 0.1085609  0.10309469] gave 67.91475519797078\n"
     ]
    },
    {
     "name": "stdout",
     "output_type": "stream",
     "text": [
      "7\n"
     ]
    },
    {
     "name": "stderr",
     "output_type": "stream",
     "text": [
      "Info: Params [1.4818994  1.43395628 1.00275476 0.38620091 0.18858634 1.93252192\n",
      " 1.00955957 0.65106832 0.29546145 3.72117728 0.18991923 0.2431326 ] gave 11.214550680975655\n"
     ]
    },
    {
     "name": "stdout",
     "output_type": "stream",
     "text": [
      "7\n"
     ]
    },
    {
     "name": "stderr",
     "output_type": "stream",
     "text": [
      "Info: Params [1.93760618 1.35146342 1.01713    0.34099818 0.23381954 2.41868949\n",
      " 1.34       0.33806009 0.09214705 0.27764682 0.17916981 0.32207676] gave -24.499905746876237\n"
     ]
    },
    {
     "name": "stdout",
     "output_type": "stream",
     "text": [
      "7\n"
     ]
    },
    {
     "name": "stderr",
     "output_type": "stream",
     "text": [
      "Info: Params [1.5494953  1.66421233 1.017729   0.40810625 0.18070236 2.19208025\n",
      " 1.00859237 0.58560225 0.21156643 4.99777336 0.19541148 0.27302683] gave -37.652311544576904\n"
     ]
    },
    {
     "name": "stdout",
     "output_type": "stream",
     "text": [
      "8\n"
     ]
    },
    {
     "name": "stderr",
     "output_type": "stream",
     "text": [
      "Info: Params [0.54102759 1.73594251 1.00999998 0.32563865 0.37228106 3.64087783\n",
      " 3.77045825 1.08787479 0.34747479 3.43924901 0.10600348 0.13980772] gave 61.403955542071394\n"
     ]
    },
    {
     "name": "stdout",
     "output_type": "stream",
     "text": [
      "8\n"
     ]
    },
    {
     "name": "stderr",
     "output_type": "stream",
     "text": [
      "Info: Params [0.07275634 0.79066486 1.00999997 0.4014178  0.3372539  3.70768913\n",
      " 1.46277089 0.82034464 0.52462881 5.         0.101435   0.22312569] gave 216.36238752537017\n"
     ]
    },
    {
     "name": "stdout",
     "output_type": "stream",
     "text": [
      "8\n"
     ]
    },
    {
     "name": "stderr",
     "output_type": "stream",
     "text": [
      "Info: Params [2.07882606e-03 3.46531777e-01 1.04999997e+00 3.58091344e-01\n",
      " 3.68176297e-01 2.66375984e+00 1.53150343e+00 7.92639313e-01\n",
      " 6.07234088e-01 4.61191048e+00 1.12799903e-01 1.06173603e-01] gave 268.5838346521937\n"
     ]
    },
    {
     "name": "stdout",
     "output_type": "stream",
     "text": [
      "8\n"
     ]
    },
    {
     "name": "stderr",
     "output_type": "stream",
     "text": [
      "Info: Params [0.46264291 0.95327014 1.05905422 0.47667627 0.29864472 5.\n",
      " 1.66282192 1.03854114 0.50304408 5.         0.10221399 0.12318448] gave 246.71620741446608\n"
     ]
    },
    {
     "name": "stdout",
     "output_type": "stream",
     "text": [
      "8\n"
     ]
    },
    {
     "name": "stderr",
     "output_type": "stream",
     "text": [
      "Info: Params [0.3670472  1.18095716 1.07999989 0.17795147 0.41837717 1.92154904\n",
      " 1.64314147 0.96520536 0.67778541 4.9588353  0.11575726 0.10762011] gave 169.51279158978826\n"
     ]
    },
    {
     "name": "stdout",
     "output_type": "stream",
     "text": [
      "8\n"
     ]
    },
    {
     "name": "stderr",
     "output_type": "stream",
     "text": [
      "Info: Params [0.14260716 1.15761165 1.09999791 0.41718248 0.30854472 2.99963955\n",
      " 1.54       0.97744496 0.59914416 4.97629325 0.12340837 0.109819  ] gave 207.75853781910968\n"
     ]
    },
    {
     "name": "stdout",
     "output_type": "stream",
     "text": [
      "9\n"
     ]
    },
    {
     "name": "stderr",
     "output_type": "stream",
     "text": [
      "Info: Params [3.07866118 2.10791312 1.93373015 0.25219427 0.07955666 1.07129918\n",
      " 1.83325993 0.67112009 0.30989425 3.02317419 0.32751432 0.22453023] gave -232.6453099848899\n"
     ]
    },
    {
     "name": "stdout",
     "output_type": "stream",
     "text": [
      "9\n"
     ]
    },
    {
     "name": "stderr",
     "output_type": "stream",
     "text": [
      "Info: Params [1.66363078 1.50309126 1.17980718 0.28170744 0.01676223 0.35933123\n",
      " 2.39493491 0.94335501 0.4572359  3.45796992 0.37333725 0.10091453] gave -11.120054904038902\n"
     ]
    },
    {
     "name": "stdout",
     "output_type": "stream",
     "text": [
      "9\n"
     ]
    },
    {
     "name": "stderr",
     "output_type": "stream",
     "text": [
      "Info: Params [0.62500176 1.171485   1.37999992 0.32625674 0.17316418 2.29353568\n",
      " 1.07673597 0.74372993 0.20103747 4.99483781 0.28588864 0.35260941] gave 59.451909726768534\n"
     ]
    },
    {
     "name": "stdout",
     "output_type": "stream",
     "text": [
      "9\n"
     ]
    },
    {
     "name": "stderr",
     "output_type": "stream",
     "text": [
      "Info: Params [3.18109662 2.12090011 1.02999992 0.52263635 0.01552702 1.48811834\n",
      " 1.08831123 0.55159415 1.61236893 0.00850961 0.37427462 0.42989425] gave -92.52734849928984\n"
     ]
    },
    {
     "name": "stdout",
     "output_type": "stream",
     "text": [
      "9\n"
     ]
    },
    {
     "name": "stderr",
     "output_type": "stream",
     "text": [
      "Info: Params [3.02791737 1.45584783 1.13000006 0.41302834 0.02402968 0.51604101\n",
      " 2.16378742 0.78547056 0.44483505 4.99517906 0.37811857 0.11455042] gave -84.7067036105435\n"
     ]
    },
    {
     "name": "stdout",
     "output_type": "stream",
     "text": [
      "9\n"
     ]
    },
    {
     "name": "stderr",
     "output_type": "stream",
     "text": [
      "Info: Params [3.29601141e+00 1.96202449e+00 1.07999992e+00 4.57254962e-02\n",
      " 3.85380011e-02 2.90966439e-03 3.27131069e+00 9.25516868e-01\n",
      " 3.39450761e-01 2.95323503e+00 4.05162265e-01 1.54265486e-01] gave -144.6048627891728\n"
     ]
    },
    {
     "name": "stdout",
     "output_type": "stream",
     "text": [
      "10\n"
     ]
    },
    {
     "name": "stderr",
     "output_type": "stream",
     "text": [
      "Info: Params [2.53490424 3.80704245 1.04472607 0.01889853 0.36701029 0.2102544\n",
      " 1.07932423 0.3334187  0.54790784 0.08688085 0.28238543 0.36056073] gave -511.6595633277608\n"
     ]
    },
    {
     "name": "stdout",
     "output_type": "stream",
     "text": [
      "10\n"
     ]
    },
    {
     "name": "stderr",
     "output_type": "stream",
     "text": [
      "Info: Params [1.19095515 2.04607426 1.0033883  0.33551887 0.18134287 1.79133954\n",
      " 2.21310516 0.69154908 0.27813295 3.28955444 0.23059902 0.18250737] gave -227.23644291019139\n"
     ]
    },
    {
     "name": "stdout",
     "output_type": "stream",
     "text": [
      "10\n"
     ]
    },
    {
     "name": "stderr",
     "output_type": "stream",
     "text": [
      "Info: Params [0.52290733 1.64949066 1.00889217 0.40377013 0.12411626 1.6651956\n",
      " 1.00999989 0.50893573 0.24132078 2.43468567 0.2389562  0.31795033] gave -43.08714554986017\n"
     ]
    },
    {
     "name": "stdout",
     "output_type": "stream",
     "text": [
      "10\n"
     ]
    },
    {
     "name": "stderr",
     "output_type": "stream",
     "text": [
      "Info: Params [2.15728895 3.33966592 1.08515124 0.3150168  0.07231952 0.22386609\n",
      " 1.00145373 1.99874916 0.74614912 4.97217615 0.26257816 0.32778891] gave -182.91264453740385\n"
     ]
    },
    {
     "name": "stdout",
     "output_type": "stream",
     "text": [
      "10\n"
     ]
    },
    {
     "name": "stderr",
     "output_type": "stream",
     "text": [
      "Info: Params [2.08293131 2.00870242 1.02999989 0.30289865 0.25469935 2.71371005\n",
      " 1.73279435 0.84167815 0.36761193 4.6409189  0.20541536 0.17430605] gave -235.53810645534944\n"
     ]
    },
    {
     "name": "stdout",
     "output_type": "stream",
     "text": [
      "10\n"
     ]
    },
    {
     "name": "stderr",
     "output_type": "stream",
     "text": [
      "Info: Params [2.3950491  2.59558957 1.22332667 0.10413111 0.21762818 0.11903562\n",
      " 1.29550915 0.05525523 0.82913012 0.62455497 0.27890593 0.31972367] gave -266.7666528881781\n"
     ]
    },
    {
     "name": "stdout",
     "output_type": "stream",
     "text": [
      "11\n"
     ]
    },
    {
     "name": "stderr",
     "output_type": "stream",
     "text": [
      "Info: Params [2.91354558 4.23583979 1.06971745 0.25048827 0.13018637 1.48515254\n",
      " 1.20579214 0.35222732 0.10000578 0.23555594 0.29147745 0.36256973] gave -616.0154729377076\n"
     ]
    },
    {
     "name": "stdout",
     "output_type": "stream",
     "text": [
      "11\n"
     ]
    },
    {
     "name": "stderr",
     "output_type": "stream",
     "text": [
      "Info: Params [1.14514178 2.2383326  1.01658887 0.09492087 0.14171405 0.29576836\n",
      " 1.02892888 0.37324677 0.11922243 0.50470601 0.33627428 0.38550855] gave -224.0300267168308\n"
     ]
    },
    {
     "name": "stdout",
     "output_type": "stream",
     "text": [
      "11\n"
     ]
    },
    {
     "name": "stderr",
     "output_type": "stream",
     "text": [
      "Info: Params [0.72977855 1.31973584 1.19654789 0.22107902 0.08433157 0.64419534\n",
      " 1.39623799 0.23207424 0.14140672 0.23527089 0.30892194 0.36436312] gave -42.70887110379945\n"
     ]
    },
    {
     "name": "stdout",
     "output_type": "stream",
     "text": [
      "11\n"
     ]
    },
    {
     "name": "stderr",
     "output_type": "stream",
     "text": [
      "Info: Params [1.5260479  2.05469892 1.09558692 0.03238784 0.23147475 0.2339804\n",
      " 1.19158763 0.56652554 0.27704178 3.83643882 0.33069271 0.29637018] gave -193.0690925775374\n"
     ]
    },
    {
     "name": "stdout",
     "output_type": "stream",
     "text": [
      "11\n"
     ]
    },
    {
     "name": "stderr",
     "output_type": "stream",
     "text": [
      "Info: Params [1.63582321 2.51817226 2.20972346 0.2865881  0.07740866 0.78993239\n",
      " 1.31997682 0.26905025 0.43774112 0.76373882 0.27742587 0.34008559] gave -282.4168488351686\n"
     ]
    },
    {
     "name": "stdout",
     "output_type": "stream",
     "text": [
      "11\n"
     ]
    },
    {
     "name": "stderr",
     "output_type": "stream",
     "text": [
      "Info: Params [2.02456167 2.45882486 1.02827626 0.34925225 0.12103522 1.13169469\n",
      " 1.20972887 0.36469584 0.35929452 0.27129894 0.31421685 0.36610187] gave -257.72337027060064\n"
     ]
    },
    {
     "name": "stdout",
     "output_type": "stream",
     "text": [
      "12\n"
     ]
    },
    {
     "name": "stderr",
     "output_type": "stream",
     "text": [
      "Info: Params [1.80704731 2.17033544 1.07341921 0.31324319 0.31546085 4.58052568\n",
      " 1.01916214 0.65237207 0.24527517 3.46052902 0.17823003 0.26151237] gave -233.92233527700722\n"
     ]
    },
    {
     "name": "stdout",
     "output_type": "stream",
     "text": [
      "12\n"
     ]
    },
    {
     "name": "stderr",
     "output_type": "stream",
     "text": [
      "Info: Params [1.3690817  1.08087837 1.00514565 0.09867088 0.30869333 0.43327498\n",
      " 1.01       0.63994272 0.32142616 4.97332394 0.30298704 0.27858302] gave 69.47479560914891\n"
     ]
    },
    {
     "name": "stdout",
     "output_type": "stream",
     "text": [
      "12\n"
     ]
    },
    {
     "name": "stderr",
     "output_type": "stream",
     "text": [
      "Info: Params [0.38675868 0.74224131 1.01105541 0.31911633 0.24895105 1.96606955\n",
      " 1.01031204 0.69129184 0.26103283 3.29304053 0.21974388 0.25718158] gave 233.2713792906477\n"
     ]
    },
    {
     "name": "stdout",
     "output_type": "stream",
     "text": [
      "12\n"
     ]
    },
    {
     "name": "stderr",
     "output_type": "stream",
     "text": [
      "Info: Params [1.18263353e+00 1.52140477e+00 1.13304227e+00 5.47440590e-01\n",
      " 3.51742871e-01 4.76225224e+00 2.09816429e+00 3.09755094e-03\n",
      " 3.09550012e-01 7.87733526e-02 1.47868155e-01 2.98668452e-01] gave 131.77374037205064\n"
     ]
    },
    {
     "name": "stdout",
     "output_type": "stream",
     "text": [
      "12\n"
     ]
    },
    {
     "name": "stderr",
     "output_type": "stream",
     "text": [
      "Info: Params [1.03078531 1.3834286  1.48724612 0.33514744 0.36860429 3.33995532\n",
      " 3.18868998 0.8259667  0.28194067 1.80262949 0.10891454 0.10907211] gave 40.13534220955104\n"
     ]
    },
    {
     "name": "stdout",
     "output_type": "stream",
     "text": [
      "12\n"
     ]
    },
    {
     "name": "stderr",
     "output_type": "stream",
     "text": [
      "Info: Params [1.45247775 1.34227643 1.00999995 0.39657887 0.32739853 3.37964839\n",
      " 1.19844695 0.72845503 0.45419733 4.21719711 0.21058151 0.18308695] gave 83.62947141091998\n"
     ]
    },
    {
     "name": "stdout",
     "output_type": "stream",
     "text": [
      "13\n"
     ]
    },
    {
     "name": "stderr",
     "output_type": "stream",
     "text": [
      "Info: Params [1.62530474 1.67100576 1.00885533 0.39742626 0.17945515 1.76683971\n",
      " 2.42998605 0.90658725 0.36272912 3.56741311 0.27635114 0.10773646] gave -85.98657284296662\n"
     ]
    },
    {
     "name": "stdout",
     "output_type": "stream",
     "text": [
      "13\n"
     ]
    },
    {
     "name": "stderr",
     "output_type": "stream",
     "text": [
      "Info: Params [1.14385941 1.54329293 1.00559651 0.40282175 0.18800508 2.18237584\n",
      " 1.00573104 0.69649542 0.27633539 3.21640801 0.28415879 0.35105035] gave 24.863096327677418\n"
     ]
    },
    {
     "name": "stdout",
     "output_type": "stream",
     "text": [
      "13\n"
     ]
    },
    {
     "name": "stderr",
     "output_type": "stream",
     "text": [
      "Info: Params [0.31989089 0.6852067  1.02920607 0.42685562 0.22460384 2.97045649\n",
      " 1.44675459 0.72517344 0.34189399 3.84414969 0.25250629 0.21146831] gave 256.01146546272923\n"
     ]
    },
    {
     "name": "stdout",
     "output_type": "stream",
     "text": [
      "13\n"
     ]
    },
    {
     "name": "stderr",
     "output_type": "stream",
     "text": [
      "Info: Params [1.165464   1.90805267 1.08305481 0.43215774 0.22449478 2.58682153\n",
      " 1.00089332 1.99904333 1.39944873 4.45940591 0.25918593 0.3380614 ] gave 96.74056410571839\n"
     ]
    },
    {
     "name": "stdout",
     "output_type": "stream",
     "text": [
      "13\n"
     ]
    },
    {
     "name": "stderr",
     "output_type": "stream",
     "text": [
      "Info: Params [1.59014999 1.27461126 1.00999942 0.45281899 0.24641015 3.00624329\n",
      " 2.45318363 0.87734946 0.41997874 3.47707159 0.2668025  0.11016385] gave 51.195572192747235\n"
     ]
    },
    {
     "name": "stdout",
     "output_type": "stream",
     "text": [
      "13\n"
     ]
    },
    {
     "name": "stderr",
     "output_type": "stream",
     "text": [
      "Info: Params [1.2984226  1.18310381 1.78478028 0.6596703  0.32853979 4.50229179\n",
      " 2.04557855 0.77254346 0.43302732 3.68434847 0.10627233 0.10033267] gave 86.77223499518144\n"
     ]
    },
    {
     "name": "stdout",
     "output_type": "stream",
     "text": [
      "14\n"
     ]
    },
    {
     "name": "stderr",
     "output_type": "stream",
     "text": [
      "Info: Params [2.80879739 2.04811076 1.03631065 0.12213263 0.328348   0.82228468\n",
      " 2.36862801 0.9435609  0.37545805 4.41743753 0.26921896 0.10126712] gave -310.3509529483129\n"
     ]
    },
    {
     "name": "stdout",
     "output_type": "stream",
     "text": [
      "14\n"
     ]
    },
    {
     "name": "stderr",
     "output_type": "stream",
     "text": [
      "Info: Params [1.85951796 1.39264615 1.01999996 0.3680482  0.222554   1.69924589\n",
      " 2.48273563 0.90602428 0.39436694 4.6683359  0.26120425 0.11428074] gave -29.819456999409738\n"
     ]
    },
    {
     "name": "stdout",
     "output_type": "stream",
     "text": [
      "14\n"
     ]
    },
    {
     "name": "stderr",
     "output_type": "stream",
     "text": [
      "Info: Params [1.19602423 0.96098792 1.10610455 0.31481313 0.17510493 0.95740495\n",
      " 1.96630836 0.86053566 0.45464762 3.5599664  0.29433833 0.10877267] gave 175.5245034577309\n"
     ]
    },
    {
     "name": "stdout",
     "output_type": "stream",
     "text": [
      "14\n"
     ]
    },
    {
     "name": "stderr",
     "output_type": "stream",
     "text": [
      "Info: Params [1.49751796 2.78769184 2.16309377 0.59107884 0.35973827 4.41009707\n",
      " 1.00058059 1.99777685 0.76851048 2.90353354 0.11951406 0.4380312 ] gave -110.54617011590506\n"
     ]
    },
    {
     "name": "stdout",
     "output_type": "stream",
     "text": [
      "14\n"
     ]
    },
    {
     "name": "stderr",
     "output_type": "stream",
     "text": [
      "Info: Params [1.35842402 1.34368995 1.02999996 0.49663137 0.23847385 4.95063627\n",
      " 2.21172964 1.20321752 0.50290108 4.92216469 0.25402842 0.10552755] gave 153.11329600268175\n"
     ]
    },
    {
     "name": "stdout",
     "output_type": "stream",
     "text": [
      "14\n"
     ]
    },
    {
     "name": "stderr",
     "output_type": "stream",
     "text": [
      "Info: Params [1.60260045 1.51542511 1.00495655 0.4561738  0.21134083 3.64721579\n",
      " 3.43020322 1.29421479 0.42810971 4.62297784 0.27557104 0.10755021] gave 39.93728278196914\n"
     ]
    },
    {
     "name": "stdout",
     "output_type": "stream",
     "text": [
      "15\n"
     ]
    },
    {
     "name": "stderr",
     "output_type": "stream",
     "text": [
      "Info: Params [1.84911088 2.47466015 1.01999997 0.38609273 0.20477518 2.53802211\n",
      " 1.04778541 0.65695065 1.80745849 1.03648081 0.26755086 0.35507795] gave -179.46804890277312\n"
     ]
    },
    {
     "name": "stdout",
     "output_type": "stream",
     "text": [
      "15\n"
     ]
    },
    {
     "name": "stderr",
     "output_type": "stream",
     "text": [
      "Info: Params [1.42415807 1.61514457 1.00999999 0.36074356 0.28457764 3.06252108\n",
      " 2.55860163 0.83289663 0.54729728 2.93669377 0.24305924 0.10751144] gave -39.32161979658831\n"
     ]
    },
    {
     "name": "stdout",
     "output_type": "stream",
     "text": [
      "15\n"
     ]
    },
    {
     "name": "stderr",
     "output_type": "stream",
     "text": [
      "Info: Params [0.55162079 1.08722578 1.84       0.27689067 0.29737704 2.34960923\n",
      " 1.41693925 0.72356695 0.24940236 0.89165914 0.14307441 0.37472832] gave 156.42132015402404\n"
     ]
    },
    {
     "name": "stdout",
     "output_type": "stream",
     "text": [
      "15\n"
     ]
    },
    {
     "name": "stderr",
     "output_type": "stream",
     "text": [
      "Info: Params [1.50681733 2.0444569  1.00999951 0.         0.32258115 1.32082736\n",
      " 1.36284311 0.65846197 0.53740395 0.72638315 0.29221965 0.40583937] gave -108.4367047163077\n"
     ]
    },
    {
     "name": "stdout",
     "output_type": "stream",
     "text": [
      "15\n"
     ]
    },
    {
     "name": "stderr",
     "output_type": "stream",
     "text": [
      "Info: Params [1.32298913 1.65248067 1.00853615 0.30744162 0.27293194 2.48283572\n",
      " 2.44825854 1.0733374  0.39799477 2.69665774 0.25114245 0.18517245] gave 8.668374221610364\n"
     ]
    },
    {
     "name": "stdout",
     "output_type": "stream",
     "text": [
      "15\n"
     ]
    },
    {
     "name": "stderr",
     "output_type": "stream",
     "text": [
      "Info: Params [1.48976631 2.18821371 1.52708757 0.35729151 0.30140191 3.24401466\n",
      " 2.40921392 0.83921452 0.04385988 4.98240213 0.18445964 0.44293733] gave -131.35072929905525\n"
     ]
    },
    {
     "name": "stdout",
     "output_type": "stream",
     "text": [
      "16\n"
     ]
    },
    {
     "name": "stderr",
     "output_type": "stream",
     "text": [
      "Info: Params [1.10537749 1.85872365 1.00345991 0.34875095 0.27263854 2.5781968\n",
      " 3.77345334 0.75850532 0.34393278 2.63845071 0.18791182 0.10005904] gave -135.0662550083452\n"
     ]
    },
    {
     "name": "stdout",
     "output_type": "stream",
     "text": [
      "16\n"
     ]
    },
    {
     "name": "stderr",
     "output_type": "stream",
     "text": [
      "Info: Params [0.89413131 1.72242118 1.02051363 0.43874877 0.33208445 2.87961178\n",
      " 1.04251527 0.7433801  0.15362927 1.84247404 0.1577826  0.38258058] gave 112.21629810501483\n"
     ]
    },
    {
     "name": "stdout",
     "output_type": "stream",
     "text": [
      "16\n"
     ]
    },
    {
     "name": "stderr",
     "output_type": "stream",
     "text": [
      "Info: Params [0.57882916 1.1112411  1.00999995 0.36871557 0.41452299 2.56132378\n",
      " 1.14184918 0.71805974 0.32473582 3.40056398 0.14990222 0.31888311] gave 265.7182043666148\n"
     ]
    },
    {
     "name": "stdout",
     "output_type": "stream",
     "text": [
      "16\n"
     ]
    },
    {
     "name": "stderr",
     "output_type": "stream",
     "text": [
      "Info: Params [0.88616413 1.68599968 1.04957694 0.41662789 0.31410077 3.21441873\n",
      " 1.52402295 0.76565948 0.33716238 3.07912437 0.16512276 0.28027659] gave 59.55757400479803\n"
     ]
    },
    {
     "name": "stdout",
     "output_type": "stream",
     "text": [
      "16\n"
     ]
    },
    {
     "name": "stderr",
     "output_type": "stream",
     "text": [
      "Info: Params [0.66715016 1.87436852 1.03000002 0.44143167 0.33384699 3.8302819\n",
      " 1.04724705 0.87367889 0.02463549 0.71305725 0.1449336  0.38404455] gave 150.3911130603559\n"
     ]
    },
    {
     "name": "stdout",
     "output_type": "stream",
     "text": [
      "16\n"
     ]
    },
    {
     "name": "stderr",
     "output_type": "stream",
     "text": [
      "Info: Params [0.84664101 1.84501355 1.0726873  0.56258207 0.29667157 3.81104689\n",
      " 1.09746085 0.78953411 0.19286138 4.197288   0.15603916 0.34583234] gave 144.70827586327866\n"
     ]
    },
    {
     "name": "stdout",
     "output_type": "stream",
     "text": [
      "17\n"
     ]
    },
    {
     "name": "stderr",
     "output_type": "stream",
     "text": [
      "Info: Params [2.10592037 3.3112333  2.51626092 0.57698047 0.25711103 2.84233722\n",
      " 2.21109722 0.56785032 0.22861719 0.12100275 0.13565353 0.33474644] gave -291.0835230628845\n"
     ]
    },
    {
     "name": "stdout",
     "output_type": "stream",
     "text": [
      "17\n"
     ]
    },
    {
     "name": "stderr",
     "output_type": "stream",
     "text": [
      "Info: Params [2.08959322 2.34914001 1.05169768 0.3893872  0.23718357 2.71641003\n",
      " 1.24999992 0.77057972 0.22365613 0.52677619 0.27863427 0.3801894 ] gave -199.68890444774382\n"
     ]
    },
    {
     "name": "stdout",
     "output_type": "stream",
     "text": [
      "17\n"
     ]
    },
    {
     "name": "stderr",
     "output_type": "stream",
     "text": [
      "Info: Params [1.50304853 1.37322383 1.01809411 0.43655388 0.22149837 2.21152347\n",
      " 3.98736957 0.75837931 0.27648396 1.998186   0.26604308 0.20053951] gave 6.437564958639847\n"
     ]
    },
    {
     "name": "stdout",
     "output_type": "stream",
     "text": [
      "17\n"
     ]
    },
    {
     "name": "stderr",
     "output_type": "stream",
     "text": [
      "Info: Params [1.72439109 2.09561562 1.00019476 0.49167543 0.24001282 3.24648202\n",
      " 2.6617476  0.93861355 0.4190195  2.47043895 0.26096018 0.19020805] gave -129.8239892494963\n"
     ]
    },
    {
     "name": "stdout",
     "output_type": "stream",
     "text": [
      "17\n"
     ]
    },
    {
     "name": "stderr",
     "output_type": "stream",
     "text": [
      "Info: Params [2.08286964 2.03587139 1.00999985 0.46155659 0.25110964 2.69551938\n",
      " 1.52353886 0.57347086 0.39819124 0.91845686 0.28662461 0.35767137] gave -130.1320326327408\n"
     ]
    },
    {
     "name": "stdout",
     "output_type": "stream",
     "text": [
      "17\n"
     ]
    },
    {
     "name": "stderr",
     "output_type": "stream",
     "text": [
      "Info: Params [1.72466239 1.8231286  1.23999995 0.51791804 0.33301268 4.64544895\n",
      " 1.8990298  0.89148459 0.4511479  4.18495221 0.19818241 0.20014662] gave -80.739743857851\n"
     ]
    },
    {
     "name": "stdout",
     "output_type": "stream",
     "text": [
      "           2    2    2    2    2    2    4    4    4    4   ...   17   17  \\\n",
      "Accuracy  1.0  1.0  1.0  1.0  1.0  1.0  1.0  1.0  1.0  1.0  ...  1.0  1.0   \n",
      "Speed     1.0  1.0  1.0  1.0  1.0  1.0  1.0  1.0  1.0  1.0  ...  1.0  1.0   \n",
      "\n",
      "           17   17   18   18   18   18   18   18  \n",
      "Accuracy  1.0  1.0  1.0  1.0  1.0  1.0  1.0  1.0  \n",
      "Speed     1.0  1.0  1.0  1.0  1.0  1.0  1.0  1.0  \n",
      "\n",
      "[2 rows x 96 columns]\n"
     ]
    }
   ],
   "source": [
    "path = \"/Users/wangjiashun/Desktop/Reserach on SAT/datasets/transformed/Wagenmakers2008/SpeedAccData_new.csv\"\n",
    "participants = [1,  3,  4,  5,  6,  7,  8,  9, 10, 11, 12, 13, 14, 15, 16, 17]\n",
    "\n",
    "\n",
    "df_all = pd.DataFrame()\n",
    "valid_ratio_dfs = pd.DataFrame()\n",
    "\n",
    "for i in participants:\n",
    "    for freq in range(1,7):\n",
    "        print(i)\n",
    "        df = pd.read_csv(path, sep = \",\")\n",
    "        df = df[df[\"Participant\"]==i]\n",
    "        df = df[df[\"Frequency\"]==freq]\n",
    "\n",
    "        counts_before = df['Cond'].value_counts()\n",
    "        df = df[df[\"Time\"]<5]\n",
    "        counts_after = df['Cond'].value_counts()\n",
    "        valid_ratio = counts_before/counts_after\n",
    "        valid_ratio_df = valid_ratio.to_frame(i+1)\n",
    "        valid_ratio_dfs = pd.concat((valid_ratio_dfs,valid_ratio_df), axis = 1)\n",
    "\n",
    "        samp = Sample.from_pandas_dataframe(df, rt_column_name=\"Time\", choice_column_name=\"Correct\")\n",
    "        df = get_DDM_result_sub_2v2a2Weilbull2ter(samp)\n",
    "        df['Frequency'] = freq\n",
    "        df[\"Participant\"]=i\n",
    "        df_all = pd.concat((df_all,df))\n",
    "    \n",
    "df_OUM = df_all.copy()\n",
    "df_OUM.to_csv(\"Parameter Estimates/DDM2v2a2Weibull2terresultWagenmakers2008.csv\")\n",
    "print(valid_ratio_dfs)"
   ]
  },
  {
   "cell_type": "code",
   "execution_count": null,
   "id": "fc08bbad",
   "metadata": {},
   "outputs": [],
   "source": []
  },
  {
   "cell_type": "code",
   "execution_count": 33,
   "id": "c5baddcf",
   "metadata": {},
   "outputs": [],
   "source": [
    "class DriftConstantSATFreq(Drift):\n",
    "    name = \"DriftConstantSATFreq\"\n",
    "    required_parameters = ['V1Speed','V2Speed','V3Speed','V4Speed','V5Speed','V6Speed',\n",
    "                           'V1Acc','V2Acc','V3Acc','V4Acc','V5Acc','V6Acc']\n",
    "    required_conditions = ['Cond', 'Frequency']\n",
    "        \n",
    "    def get_drift(self, x, t, conditions, **kwargs):\n",
    "        #print(conditions['Brightness'])\n",
    "        #print(conditions['Cond'])\n",
    "        if conditions['Cond'] == \"Speed\":\n",
    "            if conditions['Frequency'] == 1:\n",
    "                return self.V1Speed\n",
    "            elif conditions['Frequency'] == 2:\n",
    "                return self.V2Speed\n",
    "            elif conditions['Frequency'] == 3:\n",
    "                return self.V3Speed\n",
    "            elif conditions['Frequency'] == 4:\n",
    "                return self.V4Speed\n",
    "            elif conditions['Frequency'] == 5:\n",
    "                return self.V5Speed\n",
    "            elif conditions['Frequency'] == 6:\n",
    "                return self.V6Speed\n",
    "        elif conditions['Cond'] == \"Accuracy\":\n",
    "            if conditions['Frequency'] == 1:\n",
    "                return self.V1Acc\n",
    "            elif conditions['Frequency'] == 2:\n",
    "                return self.V2Acc\n",
    "            elif conditions['Frequency'] == 3:\n",
    "                return self.V3Acc\n",
    "            elif conditions['Frequency'] == 4:\n",
    "                return self.V4Acc\n",
    "            elif conditions['Frequency'] == 5:\n",
    "                return self.V5Acc\n",
    "            elif conditions['Frequency'] == 6:\n",
    "                return self.V6Acc\n",
    "        else:\n",
    "            print(\"Non-implemented conditions\")"
   ]
  },
  {
   "cell_type": "code",
   "execution_count": 34,
   "id": "11359c96",
   "metadata": {},
   "outputs": [],
   "source": [
    "def get_DDM_result_sub_2v2a2Weilbull2ter(samp, v = [0,6], a = [0.5,6], c = [0,4], ter=[0.1,1],dt=.01, T_dur=5):\n",
    "\n",
    "    model_fit = Model(name='Simple model (fitted)',\n",
    "                      drift=DriftConstantSATFreq(V1Speed= Fittable(minval=v[0], maxval=v[1]),\n",
    "                                                 V2Speed= Fittable(minval=v[0], maxval=v[1]),\n",
    "                                                 V3Speed= Fittable(minval=v[0], maxval=v[1]),\n",
    "                                                 V4Speed= Fittable(minval=v[0], maxval=v[1]),\n",
    "                                                 V5Speed= Fittable(minval=v[0], maxval=v[1]),\n",
    "                                                 V6Speed= Fittable(minval=v[0], maxval=v[1]),\n",
    "                                                 V1Acc  = Fittable(minval=v[0], maxval=v[1]),\n",
    "                                                 V2Acc  = Fittable(minval=v[0], maxval=v[1]),\n",
    "                                                 V3Acc  = Fittable(minval=v[0], maxval=v[1]),\n",
    "                                                 V4Acc  = Fittable(minval=v[0], maxval=v[1]),\n",
    "                                                 V5Acc  = Fittable(minval=v[0], maxval=v[1]),\n",
    "                                                 V6Acc  = Fittable(minval=v[0], maxval=v[1])), \n",
    "                      noise=NoiseConstant(noise=1),\n",
    "                      bound=BoundCollapsingWeibull(aSpeed=Fittable(minval=1, maxval=4),\n",
    "                                                   aprimeSpeed=Fittable(minval=0, maxval=2),\n",
    "                                                   lamSpeed=Fittable(minval=0.01, maxval=2),\n",
    "                                                   kSpeed=Fittable(minval=0, maxval=5),\n",
    "                                                   aAcc=Fittable(minval=1, maxval=4),\n",
    "                                                   aprimeAcc=Fittable(minval=0, maxval=2),\n",
    "                                                   lamAcc=Fittable(minval=0.01, maxval=2),\n",
    "                                                   kAcc=Fittable(minval=0, maxval=5)),\n",
    "                      overlay=NondecisionSpeedAcc(tSpeed=Fittable(minval=ter[0], maxval=ter[1]),\n",
    "                                                  tAcc=Fittable(minval=ter[0], maxval=ter[1])),\n",
    "                      dx=0.01, dt=dt, T_dur=T_dur)\n",
    "    fit_adjust_model(samp, model_fit,\n",
    "                     fitting_method=\"differential_evolution\",\n",
    "                     lossfunction=LossRobustBIC, verbose=False)\n",
    "    df = pd.DataFrame(data = np.array(model_fit.get_model_parameters()).reshape(1,22),\n",
    "                      columns = model_fit.get_model_parameter_names())\n",
    "    \n",
    "    df['BIC'] = model_fit.get_fit_result().value()\n",
    "    df = df.rename(columns={#'Vspeed': 'Drift Rate Speed',\n",
    "                            #'Vacc': 'Drift Rate Accuracy',\n",
    "                            'aSpeed': 'Boundary Separation Speed',\n",
    "                            'aAcc':   'Boundary Separation Accuracy',\n",
    "                            'tSpeed': 'Non-decision Time Speed',\n",
    "                            'tAcc': 'Non-decision Time Accuracy'})\n",
    "    return df"
   ]
  },
  {
   "cell_type": "code",
   "execution_count": 35,
   "id": "341c8094",
   "metadata": {},
   "outputs": [
    {
     "name": "stdout",
     "output_type": "stream",
     "text": [
      "1\n"
     ]
    },
    {
     "name": "stderr",
     "output_type": "stream",
     "text": [
      "Info: Params [2.66341627 1.88392706 0.71159622 2.22637199 2.40128178 3.13090609\n",
      " 4.01883811 2.08697141 1.76530948 2.80113294 2.64074808 2.33646127\n",
      " 1.05091224 0.48588275 0.06685252 1.05162586 1.100199   0.24195504\n",
      " 0.21050016 0.14401277 0.3174705  0.36499009] gave -981.9524633061147\n"
     ]
    },
    {
     "name": "stdout",
     "output_type": "stream",
     "text": [
      "3\n"
     ]
    },
    {
     "name": "stderr",
     "output_type": "stream",
     "text": [
      "Info: Params [2.50212183 1.40419588 1.09662381 1.76613469 2.51538463 2.04192259\n",
      " 2.91423165 2.03947274 1.62298023 2.10194528 1.73573712 1.93955704\n",
      " 1.01038068 0.42708488 0.18540519 1.93110356 1.27593074 0.8050585\n",
      " 0.31106293 3.97953486 0.26841199 0.29437273] gave -329.2271172262849\n"
     ]
    },
    {
     "name": "stdout",
     "output_type": "stream",
     "text": [
      "4\n"
     ]
    },
    {
     "name": "stderr",
     "output_type": "stream",
     "text": [
      "Info: Params [3.44003083 2.19301697 1.18155233 2.88239835 3.30948901 3.32275513\n",
      " 3.18764968 2.66109556 1.67252772 2.2508025  2.07052943 2.48870101\n",
      " 1.36400184 0.34876988 0.0145423  0.45219523 1.38363469 0.59075094\n",
      " 0.10230647 0.86874244 0.31034728 0.29890688] gave -1273.9962901964343\n"
     ]
    },
    {
     "name": "stdout",
     "output_type": "stream",
     "text": [
      "5\n"
     ]
    },
    {
     "name": "stderr",
     "output_type": "stream",
     "text": [
      "Info: Params [3.96301681 2.69675597 1.57417244 2.74852443 3.32709804 2.88051409\n",
      " 3.51616936 2.47940228 2.55240813 2.99411368 2.10707755 2.37016339\n",
      " 1.1298665  0.32892769 0.13726864 1.769953   1.14999998 0.57161226\n",
      " 0.2606855  2.81668335 0.28103623 0.35675658] gave -1393.7094276256662\n"
     ]
    },
    {
     "name": "stdout",
     "output_type": "stream",
     "text": [
      "6\n"
     ]
    },
    {
     "name": "stderr",
     "output_type": "stream",
     "text": [
      "Info: Params [1.60290159 1.3502073  0.19471001 0.79665478 0.49631711 0.59911856\n",
      " 3.28133131 2.07817157 1.29894414 1.79773548 2.03749541 2.32174223\n",
      " 1.01853791 0.35812916 0.2734235  4.29379511 1.15037382 0.58735972\n",
      " 0.20753513 2.099836   0.14731284 0.32336103] gave -493.90282489387766\n"
     ]
    },
    {
     "name": "stdout",
     "output_type": "stream",
     "text": [
      "7\n"
     ]
    },
    {
     "name": "stderr",
     "output_type": "stream",
     "text": [
      "Info: Params [3.54294172e-01 7.78786712e-03 1.30946781e-03 1.32071100e+00\n",
      " 1.77926946e+00 1.21053432e+00 2.18746524e+00 1.31655506e+00\n",
      " 6.66360677e-01 9.12718326e-01 1.18247559e+00 1.51989980e+00\n",
      " 1.00092483e+00 3.38909023e-01 2.73585295e-01 2.94513880e+00\n",
      " 1.11821975e+00 5.91017315e-01 3.03602192e-01 4.03515725e+00\n",
      " 1.33051438e-01 2.01990016e-01] gave -114.30982113720276\n"
     ]
    },
    {
     "name": "stdout",
     "output_type": "stream",
     "text": [
      "8\n"
     ]
    },
    {
     "name": "stderr",
     "output_type": "stream",
     "text": [
      "Info: Params [0.53781811 0.02511099 0.         0.45757218 0.33450029 0.20696408\n",
      " 1.60654355 0.79772779 0.37901935 0.87322197 1.0641752  1.13580668\n",
      " 1.05999997 0.38875947 0.34868812 3.29800035 1.67527553 0.92298297\n",
      " 0.58840108 4.75320657 0.10593956 0.10387246] gave 1020.3031453339865\n"
     ]
    },
    {
     "name": "stdout",
     "output_type": "stream",
     "text": [
      "9\n"
     ]
    },
    {
     "name": "stderr",
     "output_type": "stream",
     "text": [
      "Info: Params [3.57067103 2.14336009 0.66150193 2.13674538 2.61948086 2.69594756\n",
      " 2.33116122 1.40438389 1.2188078  1.75940458 1.60061174 1.84337154\n",
      " 1.06959593 0.36756651 0.0435241  0.67047979 1.97816225 0.85540855\n",
      " 0.37898153 4.50782327 0.36911068 0.17683681] gave -665.8264258461268\n"
     ]
    },
    {
     "name": "stdout",
     "output_type": "stream",
     "text": [
      "10\n"
     ]
    },
    {
     "name": "stderr",
     "output_type": "stream",
     "text": [
      "Info: Params [2.00613319 1.16956563 0.73393211 1.8323717  1.77783428 2.20340444\n",
      " 3.73709167 2.03489457 1.64948715 2.14717699 1.5637361  2.11913621\n",
      " 1.04588609 0.3992051  0.15133898 1.71101126 1.2168395  0.66793872\n",
      " 0.24878958 3.42340489 0.22800253 0.27069414] gave -1632.7471847875322\n"
     ]
    },
    {
     "name": "stdout",
     "output_type": "stream",
     "text": [
      "11\n"
     ]
    },
    {
     "name": "stderr",
     "output_type": "stream",
     "text": [
      "Info: Params [3.52312777 1.11094333 0.83306119 1.17676086 1.98313798 1.74748936\n",
      " 4.18727144 2.07819647 1.55212661 2.13777421 2.21729159 2.38664483\n",
      " 1.29473976 0.2547975  0.04692846 0.45841283 1.08278499 0.54629523\n",
      " 0.17192592 1.35364394 0.32345455 0.34911229] gave -1789.4528762910634\n"
     ]
    },
    {
     "name": "stdout",
     "output_type": "stream",
     "text": [
      "12\n"
     ]
    },
    {
     "name": "stderr",
     "output_type": "stream",
     "text": [
      "Info: Params [1.82093882 0.97516986 0.34075216 1.09357712 1.13641732 1.18744696\n",
      " 2.47557147 1.20238901 0.84673832 1.52992121 1.48986581 1.42428537\n",
      " 1.16578872 0.38197105 0.31929963 3.47979811 1.20279446 0.48243141\n",
      " 0.57644101 0.19339097 0.16768685 0.29408153] gave 276.0166071719666\n"
     ]
    },
    {
     "name": "stdout",
     "output_type": "stream",
     "text": [
      "13\n"
     ]
    },
    {
     "name": "stderr",
     "output_type": "stream",
     "text": [
      "Info: Params [1.83475668 1.01492502 0.31039012 1.12215552 1.48173281 1.65791664\n",
      " 1.84383468 1.53806269 0.87708306 1.42997183 1.36683446 1.47539734\n",
      " 1.0228475  0.43236458 0.21391796 2.48994194 1.03039601 0.77894044\n",
      " 0.25887311 4.9106853  0.26008223 0.31989124] gave 385.35587144304395\n"
     ]
    },
    {
     "name": "stdout",
     "output_type": "stream",
     "text": [
      "14\n"
     ]
    },
    {
     "name": "stderr",
     "output_type": "stream",
     "text": [
      "Info: Params [3.29926864 1.97593565 1.23450706 1.57007413 1.32561402 1.47564377\n",
      " 2.18990353 1.54435297 1.12987274 1.4733959  1.11928927 1.19047303\n",
      " 1.0089448  0.43097847 0.2465694  3.40574185 2.19333994 1.02497218\n",
      " 0.44681985 4.61684838 0.25779486 0.10659491] gave -98.35409160714426\n"
     ]
    },
    {
     "name": "stdout",
     "output_type": "stream",
     "text": [
      "15\n"
     ]
    },
    {
     "name": "stderr",
     "output_type": "stream",
     "text": [
      "Info: Params [2.00691569 1.37198125 0.76278415 1.46143374 1.25456791 1.52420848\n",
      " 2.57255947 1.9156888  1.17853565 1.82923454 1.73094597 2.08023648\n",
      " 1.00999992 0.33205922 0.25763369 2.81806962 1.13958967 0.8510745\n",
      " 0.31932116 2.78753072 0.25659013 0.37025927] gave -470.96220668603405\n"
     ]
    },
    {
     "name": "stdout",
     "output_type": "stream",
     "text": [
      "16\n"
     ]
    },
    {
     "name": "stderr",
     "output_type": "stream",
     "text": [
      "Info: Params [1.36816319 0.91339015 0.61031438 0.8403635  0.72912514 0.61593989\n",
      " 2.09778527 1.7149646  1.2308927  1.67869849 1.70505359 1.98829347\n",
      " 1.00403476 0.53353697 0.28961122 3.60220519 1.28797028 0.80500792\n",
      " 0.2160684  2.28516232 0.16891404 0.32381834] gave 469.66775865842\n"
     ]
    },
    {
     "name": "stdout",
     "output_type": "stream",
     "text": [
      "17\n"
     ]
    },
    {
     "name": "stderr",
     "output_type": "stream",
     "text": [
      "Info: Params [1.94415353 2.03052905 1.50712299 1.79870747 1.78903351 1.75703283\n",
      " 2.85640918 2.08773363 1.67292181 2.10753693 1.9606536  1.97408294\n",
      " 1.14919997 0.53399793 0.23987493 3.07540409 1.77063955 0.85793865\n",
      " 0.30082208 2.17721304 0.24448471 0.29037313] gave -952.9540053667405\n"
     ]
    },
    {
     "name": "stdout",
     "output_type": "stream",
     "text": [
      "           2    4    5    6    7    8    9    10   11   12   13   14   15  \\\n",
      "Accuracy  1.0  1.0  1.0  1.0  1.0  1.0  1.0  1.0  1.0  1.0  1.0  1.0  1.0   \n",
      "Speed     1.0  1.0  1.0  1.0  1.0  1.0  1.0  1.0  1.0  1.0  1.0  1.0  1.0   \n",
      "\n",
      "           16   17   18  \n",
      "Accuracy  1.0  1.0  1.0  \n",
      "Speed     1.0  1.0  1.0  \n"
     ]
    }
   ],
   "source": [
    "path = \"/Users/wangjiashun/Desktop/Research_on_SAT/datasets/transformed/Wagenmakers2008/SpeedAccData_new.csv\"\n",
    "participants = [1,  3,  4,  5,  6,  7,  8,  9, 10, 11, 12, 13, 14, 15, 16, 17]\n",
    "\n",
    "\n",
    "df_all = pd.DataFrame()\n",
    "\n",
    "for i in participants:\n",
    "        print(i)\n",
    "        df = pd.read_csv(path, sep = \",\")\n",
    "        df = df[df[\"Participant\"]==i]\n",
    "\n",
    "        df = df[df[\"Time\"]<5]\n",
    "\n",
    "        samp = Sample.from_pandas_dataframe(df, rt_column_name=\"Time\", choice_column_name=\"Correct\")\n",
    "        df = get_DDM_result_sub_2v2a2Weilbull2ter(samp)\n",
    "        df[\"Participant\"]=i\n",
    "        df_all = pd.concat((df_all,df))\n",
    "    \n",
    "df_OUM = df_all.copy()\n",
    "df_OUM.to_csv(\"Parameter Estimates/DDM2v2a2Weibull2terCombinedresultWagenmakers2008.csv\")\n",
    "print(valid_ratio_dfs)"
   ]
  },
  {
   "cell_type": "code",
   "execution_count": null,
   "id": "265e810a",
   "metadata": {},
   "outputs": [],
   "source": []
  }
 ],
 "metadata": {
  "kernelspec": {
   "display_name": "Python 3 (ipykernel)",
   "language": "python",
   "name": "python3"
  },
  "language_info": {
   "codemirror_mode": {
    "name": "ipython",
    "version": 3
   },
   "file_extension": ".py",
   "mimetype": "text/x-python",
   "name": "python",
   "nbconvert_exporter": "python",
   "pygments_lexer": "ipython3",
   "version": "3.11.4"
  }
 },
 "nbformat": 4,
 "nbformat_minor": 5
}
