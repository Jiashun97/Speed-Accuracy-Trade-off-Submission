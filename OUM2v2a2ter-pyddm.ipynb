{
 "cells": [
  {
   "cell_type": "code",
   "execution_count": 1,
   "id": "2cda49de",
   "metadata": {},
   "outputs": [],
   "source": [
    "%run SAT_help_functions.ipynb"
   ]
  },
  {
   "cell_type": "code",
   "execution_count": null,
   "id": "21316b10",
   "metadata": {},
   "outputs": [],
   "source": []
  },
  {
   "cell_type": "code",
   "execution_count": 7,
   "id": "831dda57",
   "metadata": {},
   "outputs": [],
   "source": []
  },
  {
   "cell_type": "code",
   "execution_count": 8,
   "id": "2f74752d",
   "metadata": {},
   "outputs": [],
   "source": []
  },
  {
   "cell_type": "markdown",
   "id": "4bd26666",
   "metadata": {},
   "source": [
    "## OUM"
   ]
  },
  {
   "cell_type": "code",
   "execution_count": 2,
   "id": "80376f45",
   "metadata": {},
   "outputs": [],
   "source": [
    "SAT_conds = [\"Speed\", \"Accuracy\"]"
   ]
  },
  {
   "cell_type": "code",
   "execution_count": 10,
   "id": "9ef6c434",
   "metadata": {
    "scrolled": true
   },
   "outputs": [
    {
     "name": "stdout",
     "output_type": "stream",
     "text": [
      "0\n"
     ]
    },
    {
     "name": "stderr",
     "output_type": "stream",
     "text": [
      "Info: Params [1.1058338  1.31239914 2.62903599 0.77290644 1.15960469 0.2558178\n",
      " 0.31826018] gave 277.8894324512117\n"
     ]
    },
    {
     "name": "stdout",
     "output_type": "stream",
     "text": [
      "1\n"
     ]
    },
    {
     "name": "stderr",
     "output_type": "stream",
     "text": [
      "Info: Params [0.29708092 0.61871489 2.61603819 0.73747594 1.50847033 0.28091033\n",
      " 0.37074443] gave 530.5380627440572\n"
     ]
    },
    {
     "name": "stdout",
     "output_type": "stream",
     "text": [
      "2\n"
     ]
    },
    {
     "name": "stderr",
     "output_type": "stream",
     "text": [
      "Info: Params [1.5820839  1.70456936 4.00669451 0.65905941 1.43669202 0.25162361\n",
      " 0.32510126] gave -29.140903942846258\n"
     ]
    },
    {
     "name": "stdout",
     "output_type": "stream",
     "text": [
      "3\n"
     ]
    },
    {
     "name": "stderr",
     "output_type": "stream",
     "text": [
      "Info: Params [0.20487684 1.15955069 2.46734305 0.50517866 1.81146792 0.21470243\n",
      " 0.14973125] gave 263.13442342888163\n"
     ]
    },
    {
     "name": "stdout",
     "output_type": "stream",
     "text": [
      "4\n"
     ]
    },
    {
     "name": "stderr",
     "output_type": "stream",
     "text": [
      "Info: Params [0.88299782 1.544536   4.63203695 0.86145026 1.28938882 0.21981799\n",
      " 0.29107718] gave 127.47032841861311\n"
     ]
    },
    {
     "name": "stdout",
     "output_type": "stream",
     "text": [
      "5\n"
     ]
    },
    {
     "name": "stderr",
     "output_type": "stream",
     "text": [
      "Info: Params [1.68902526 1.3353562  3.5453547  0.83637989 1.60572179 0.33738751\n",
      " 0.43581033] gave 81.68586654065683\n"
     ]
    },
    {
     "name": "stdout",
     "output_type": "stream",
     "text": [
      "6\n"
     ]
    },
    {
     "name": "stderr",
     "output_type": "stream",
     "text": [
      "Info: Params [0.96321134 1.75569519 5.60087637 1.24268396 1.62599893 0.19113171\n",
      " 0.27323705] gave 47.43309366982502\n"
     ]
    },
    {
     "name": "stdout",
     "output_type": "stream",
     "text": [
      "7\n"
     ]
    },
    {
     "name": "stderr",
     "output_type": "stream",
     "text": [
      "Info: Params [1.45290003 2.17310487 6.3004908  1.29622134 3.43310061 0.26335251\n",
      " 0.23841371] gave -98.1716854080353\n"
     ]
    },
    {
     "name": "stdout",
     "output_type": "stream",
     "text": [
      "8\n"
     ]
    },
    {
     "name": "stderr",
     "output_type": "stream",
     "text": [
      "Info: Params [1.25232724 1.62348366 3.32982223 0.57442455 1.08832296 0.3534302\n",
      " 0.3213473 ] gave 22.614702822242712\n"
     ]
    },
    {
     "name": "stdout",
     "output_type": "stream",
     "text": [
      "9\n"
     ]
    },
    {
     "name": "stderr",
     "output_type": "stream",
     "text": [
      "Info: Params [0.52389012 1.03122291 2.10249609 0.59108928 1.59886409 0.24533236\n",
      " 0.36552204] gave 408.79308339537295\n"
     ]
    },
    {
     "name": "stdout",
     "output_type": "stream",
     "text": [
      "10\n"
     ]
    },
    {
     "name": "stderr",
     "output_type": "stream",
     "text": [
      "Info: Params [1.1617963  1.32302283 2.24416466 0.88506706 1.74027918 0.22869539\n",
      " 0.24468093] gave 388.18054527051055\n"
     ]
    },
    {
     "name": "stdout",
     "output_type": "stream",
     "text": [
      "11\n"
     ]
    },
    {
     "name": "stderr",
     "output_type": "stream",
     "text": [
      "Info: Params [1.40601137 1.29425466 4.1152812  0.76585427 1.5717244  0.30603087\n",
      " 0.32830167] gave 123.29125050655725\n"
     ]
    },
    {
     "name": "stdout",
     "output_type": "stream",
     "text": [
      "12\n"
     ]
    },
    {
     "name": "stderr",
     "output_type": "stream",
     "text": [
      "Info: Params [0.93361494 1.71973113 5.102676   0.84336993 0.96080221 0.22235975\n",
      " 0.28372219] gave 97.48565205351233\n"
     ]
    },
    {
     "name": "stdout",
     "output_type": "stream",
     "text": [
      "13\n"
     ]
    },
    {
     "name": "stderr",
     "output_type": "stream",
     "text": [
      "Info: Params [1.18801413 1.38564055 3.19072643 0.59096262 2.06752053 0.25100993\n",
      " 0.18682682] gave 188.17581250245223\n"
     ]
    },
    {
     "name": "stdout",
     "output_type": "stream",
     "text": [
      "14\n"
     ]
    },
    {
     "name": "stderr",
     "output_type": "stream",
     "text": [
      "Info: Params [0.79488449 1.24848374 4.45504544 0.66180384 1.30772089 0.23331572\n",
      " 0.20271562] gave 123.6477338925609\n"
     ]
    },
    {
     "name": "stdout",
     "output_type": "stream",
     "text": [
      "15\n"
     ]
    },
    {
     "name": "stderr",
     "output_type": "stream",
     "text": [
      "Info: Params [1.40644358 2.14923356 2.56841998 0.54515255 1.28588654 0.25011569\n",
      " 0.27631569] gave -102.59915074498451\n"
     ]
    },
    {
     "name": "stdout",
     "output_type": "stream",
     "text": [
      "16\n"
     ]
    },
    {
     "name": "stderr",
     "output_type": "stream",
     "text": [
      "Info: Params [1.12005864 0.8045144  2.74412192 0.54562357 0.75469901 0.27518847\n",
      " 0.35711546] gave 148.47642003377587\n"
     ]
    },
    {
     "name": "stdout",
     "output_type": "stream",
     "text": [
      "17\n"
     ]
    },
    {
     "name": "stderr",
     "output_type": "stream",
     "text": [
      "Info: Params [1.91084327 1.96088555 3.84758805 0.68907872 1.05040463 0.28913765\n",
      " 0.31964332] gave -145.63610580135247\n"
     ]
    },
    {
     "name": "stdout",
     "output_type": "stream",
     "text": [
      "18\n"
     ]
    },
    {
     "name": "stderr",
     "output_type": "stream",
     "text": [
      "Info: Params [2.05629062 1.63661735 3.32369136 0.73694591 1.35402121 0.27689915\n",
      " 0.23811093] gave 14.067796137513618\n"
     ]
    },
    {
     "name": "stdout",
     "output_type": "stream",
     "text": [
      "19\n"
     ]
    },
    {
     "name": "stderr",
     "output_type": "stream",
     "text": [
      "Info: Params [0.22280344 0.69296592 4.76091012 0.95050532 1.23934313 0.21743275\n",
      " 0.27974781] gave 313.63128136522664\n"
     ]
    },
    {
     "name": "stdout",
     "output_type": "stream",
     "text": [
      "           1    2    3    4    5    6    7    8    9    10   11   12   13  \\\n",
      "Accuracy  1.0  1.0  1.0  1.0  1.0  1.0  1.0  1.0  1.0  1.0  1.0  1.0  1.0   \n",
      "Speed     1.0  1.0  1.0  1.0  1.0  1.0  1.0  1.0  1.0  1.0  1.0  1.0  1.0   \n",
      "\n",
      "           14   15   16   17   18   19   20  \n",
      "Accuracy  1.0  1.0  1.0  1.0  1.0  1.0  1.0  \n",
      "Speed     1.0  1.0  1.0  1.0  1.0  1.0  1.0  \n"
     ]
    }
   ],
   "source": [
    "data_dir = \"/Users/wangjiashun/Desktop/Reserach on SAT/datasets/transformed/Dutilh2019/sub\"\n",
    "sample_size = 20\n",
    "\n",
    "df_all = pd.DataFrame()\n",
    "valid_ratio_dfs = pd.DataFrame()\n",
    "\n",
    "for i in range(sample_size):\n",
    "    print(i)\n",
    "    path = os.path.join(data_dir+str(i+1)+\".csv\")\n",
    "    df = pd.read_csv(path, sep = \",\")\n",
    "    \n",
    "    counts_before = df['Cond'].value_counts()\n",
    "    df = df[df[\"Time\"]<5]\n",
    "    counts_after = df['Cond'].value_counts()\n",
    "    valid_ratio = counts_before/counts_after\n",
    "    valid_ratio_df = valid_ratio.to_frame(i+1)\n",
    "    valid_ratio_dfs = pd.concat((valid_ratio_dfs,valid_ratio_df), axis = 1)\n",
    "    \n",
    "    samp = Sample.from_pandas_dataframe(df, rt_column_name=\"Time\", choice_column_name=\"Correct\")\n",
    "    df = get_OUM_result_sub_2v2a2ter(samp)\n",
    "    df_all = pd.concat((df_all,df))\n",
    "    \n",
    "df_OUM = df_all.copy()\n",
    "df_OUM.to_csv(\"Parameter Estimates/OUM2v2a2terresultDutilh2019.csv\")\n",
    "print(valid_ratio_dfs)\n"
   ]
  },
  {
   "cell_type": "code",
   "execution_count": 11,
   "id": "e776257c",
   "metadata": {},
   "outputs": [
    {
     "name": "stdout",
     "output_type": "stream",
     "text": [
      "0\n"
     ]
    },
    {
     "name": "stderr",
     "output_type": "stream",
     "text": [
      "Info: Params [0.22396    0.95079069 8.21177222 1.34251084 5.99191267 0.22881388\n",
      " 0.19783175] gave 39.910442892934114\n"
     ]
    },
    {
     "name": "stdout",
     "output_type": "stream",
     "text": [
      "1\n"
     ]
    },
    {
     "name": "stderr",
     "output_type": "stream",
     "text": [
      "Info: Params [2.1370879  1.67895536 4.91898844 0.65013895 1.10253926 0.35209586\n",
      " 0.33203954] gave -203.9694412123706\n"
     ]
    },
    {
     "name": "stdout",
     "output_type": "stream",
     "text": [
      "2\n"
     ]
    },
    {
     "name": "stderr",
     "output_type": "stream",
     "text": [
      "Info: Params [0.         0.         3.32527149 1.78980184 4.58787108 0.10884706\n",
      " 0.23420951] gave 577.4375586887822\n"
     ]
    },
    {
     "name": "stdout",
     "output_type": "stream",
     "text": [
      "3\n"
     ]
    },
    {
     "name": "stderr",
     "output_type": "stream",
     "text": [
      "Info: Params [3.90348439 6.         5.65179074 0.99523445 5.40532502 0.32489895\n",
      " 0.18155177] gave -203.93355988539568\n"
     ]
    },
    {
     "name": "stdout",
     "output_type": "stream",
     "text": [
      "4\n"
     ]
    },
    {
     "name": "stderr",
     "output_type": "stream",
     "text": [
      "Info: Params [2.10504821 2.2245424  4.27143778 1.147383   1.19708642 0.22579292\n",
      " 0.30707413] gave -91.57264961344202\n"
     ]
    },
    {
     "name": "stdout",
     "output_type": "stream",
     "text": [
      "5\n"
     ]
    },
    {
     "name": "stderr",
     "output_type": "stream",
     "text": [
      "Info: Params [1.53976939 2.04823375 7.0609288  1.24944255 5.6763571  0.24857112\n",
      " 0.18342572] gave -211.22805348015933\n"
     ]
    },
    {
     "name": "stdout",
     "output_type": "stream",
     "text": [
      "6\n"
     ]
    },
    {
     "name": "stderr",
     "output_type": "stream",
     "text": [
      "Info: Params [ 1.26287787  4.14194879 10.22149015  4.94664251  3.62139614  0.10391162\n",
      "  0.32149133] gave -469.034900675179\n"
     ]
    },
    {
     "name": "stdout",
     "output_type": "stream",
     "text": [
      "7\n"
     ]
    },
    {
     "name": "stderr",
     "output_type": "stream",
     "text": [
      "Info: Params [1.42631331 2.09969869 5.6035652  1.70348119 1.1510084  0.15336544\n",
      " 0.26492301] gave -136.48553459319595\n"
     ]
    },
    {
     "name": "stdout",
     "output_type": "stream",
     "text": [
      "8\n"
     ]
    },
    {
     "name": "stderr",
     "output_type": "stream",
     "text": [
      "Info: Params [0.84298036 1.50393837 6.36696563 3.6317024  2.06041138 0.1030952\n",
      " 0.2400366 ] gave 72.3845080301609\n"
     ]
    },
    {
     "name": "stdout",
     "output_type": "stream",
     "text": [
      "9\n"
     ]
    },
    {
     "name": "stderr",
     "output_type": "stream",
     "text": [
      "Info: Params [0.         0.2677964  4.7729335  0.69715341 2.27413667 0.15670836\n",
      " 0.12890179] gave 279.9305630564543\n"
     ]
    },
    {
     "name": "stdout",
     "output_type": "stream",
     "text": [
      "10\n"
     ]
    },
    {
     "name": "stderr",
     "output_type": "stream",
     "text": [
      "Info: Params [3.27940681 3.72329817 7.66642696 5.96509495 4.08429822 0.22188753\n",
      " 0.295539  ] gave -91.2779381731935\n"
     ]
    },
    {
     "name": "stdout",
     "output_type": "stream",
     "text": [
      "11\n"
     ]
    },
    {
     "name": "stderr",
     "output_type": "stream",
     "text": [
      "Info: Params [2.44753757 3.00187116 7.82293044 0.82647195 5.67532517 0.31592853\n",
      " 0.17519724] gave -684.6896066878089\n"
     ]
    },
    {
     "name": "stdout",
     "output_type": "stream",
     "text": [
      "12\n"
     ]
    },
    {
     "name": "stderr",
     "output_type": "stream",
     "text": [
      "Info: Params [ 4.36124631  3.4062788  13.08061395  4.63640497  4.2564448   0.23488348\n",
      "  0.24870795] gave -665.2337620877821\n"
     ]
    },
    {
     "name": "stdout",
     "output_type": "stream",
     "text": [
      "13\n"
     ]
    },
    {
     "name": "stderr",
     "output_type": "stream",
     "text": [
      "Info: Params [1.58075825 3.27320269 5.06172799 0.65579776 1.43624157 0.24831492\n",
      " 0.27982452] gave -412.8975186319595\n"
     ]
    },
    {
     "name": "stdout",
     "output_type": "stream",
     "text": [
      "14\n"
     ]
    },
    {
     "name": "stderr",
     "output_type": "stream",
     "text": [
      "Info: Params [0.42382829 0.0680875  6.48649864 1.65644557 5.91725737 0.21602806\n",
      " 0.13162583] gave 425.0419914029394\n"
     ]
    },
    {
     "name": "stdout",
     "output_type": "stream",
     "text": [
      "15\n"
     ]
    },
    {
     "name": "stderr",
     "output_type": "stream",
     "text": [
      "Info: Params [3.03393315 5.99917387 7.60148708 0.88490003 2.48595332 0.33277205\n",
      " 0.30232324] gave -490.3084443109075\n"
     ]
    },
    {
     "name": "stdout",
     "output_type": "stream",
     "text": [
      "16\n"
     ]
    },
    {
     "name": "stderr",
     "output_type": "stream",
     "text": [
      "Info: Params [0.54099597 1.63898223 5.4992387  1.06965156 3.61845945 0.13513253\n",
      " 0.12899252] gave 326.44340391118885\n"
     ]
    },
    {
     "name": "stdout",
     "output_type": "stream",
     "text": [
      "17\n"
     ]
    },
    {
     "name": "stderr",
     "output_type": "stream",
     "text": [
      "Info: Params [ 2.99026206  4.22615419 11.84907627  2.07339333  4.45605457  0.22852504\n",
      "  0.20132498] gave -1029.5652527362165\n"
     ]
    },
    {
     "name": "stdout",
     "output_type": "stream",
     "text": [
      "18\n"
     ]
    },
    {
     "name": "stderr",
     "output_type": "stream",
     "text": [
      "Info: Params [1.68555371 2.93287514 6.61198711 0.71539045 0.93096834 0.26021348\n",
      " 0.28968086] gave -348.2159887891703\n"
     ]
    },
    {
     "name": "stdout",
     "output_type": "stream",
     "text": [
      "19\n"
     ]
    },
    {
     "name": "stderr",
     "output_type": "stream",
     "text": [
      "Info: Params [ 1.73335073  3.49373208 12.04613389  5.89004669  5.33917636  0.1270445\n",
      "  0.2043512 ] gave -978.6965934305025\n"
     ]
    },
    {
     "name": "stdout",
     "output_type": "stream",
     "text": [
      "20\n"
     ]
    },
    {
     "name": "stderr",
     "output_type": "stream",
     "text": [
      "Info: Params [ 0.40146545  2.8989797  12.69300191  3.21038899  5.95234194  0.12939272\n",
      "  0.23608761] gave -435.601128988088\n"
     ]
    },
    {
     "name": "stdout",
     "output_type": "stream",
     "text": [
      "21\n"
     ]
    },
    {
     "name": "stderr",
     "output_type": "stream",
     "text": [
      "Info: Params [0.36001277 1.37882392 8.29592966 2.55708105 5.99375707 0.10258262\n",
      " 0.16629475] gave -0.6859585610871903\n"
     ]
    },
    {
     "name": "stdout",
     "output_type": "stream",
     "text": [
      "22\n"
     ]
    },
    {
     "name": "stderr",
     "output_type": "stream",
     "text": [
      "Info: Params [ 3.6164731   6.         13.3682971   5.90905484  4.20982418  0.21551024\n",
      "  0.32522077] gave -265.5750692514877\n"
     ]
    },
    {
     "name": "stdout",
     "output_type": "stream",
     "text": [
      "23\n"
     ]
    },
    {
     "name": "stderr",
     "output_type": "stream",
     "text": [
      "Info: Params [ 1.88563149  3.45953267 14.941415    1.22406258  0.98909405  0.21195119\n",
      "  0.29802478] gave -1209.754271745025\n"
     ]
    },
    {
     "name": "stdout",
     "output_type": "stream",
     "text": [
      "24\n"
     ]
    },
    {
     "name": "stderr",
     "output_type": "stream",
     "text": [
      "Info: Params [ 2.50438398  4.33482031 14.79822902  4.51232029  4.12548752  0.19486904\n",
      "  0.26769999] gave -926.9668246757183\n"
     ]
    },
    {
     "name": "stdout",
     "output_type": "stream",
     "text": [
      "25\n"
     ]
    },
    {
     "name": "stderr",
     "output_type": "stream",
     "text": [
      "Info: Params [ 0.74784837  3.05864719 11.72589835  3.43378762  5.84312553  0.10932561\n",
      "  0.19902293] gave -644.3209613063085\n"
     ]
    },
    {
     "name": "stdout",
     "output_type": "stream",
     "text": [
      "26\n"
     ]
    },
    {
     "name": "stderr",
     "output_type": "stream",
     "text": [
      "Info: Params [5.1656208  2.99890146 6.94508925 5.71652696 2.57087981 0.15190702\n",
      " 0.210135  ] gave -246.94979963405711\n"
     ]
    },
    {
     "name": "stdout",
     "output_type": "stream",
     "text": [
      "27\n"
     ]
    },
    {
     "name": "stderr",
     "output_type": "stream",
     "text": [
      "Info: Params [ 2.56816523  4.24611681 12.40380039  1.10316191  1.05217578  0.24876329\n",
      "  0.28316258] gave -953.448656121006\n"
     ]
    },
    {
     "name": "stdout",
     "output_type": "stream",
     "text": [
      "28\n"
     ]
    },
    {
     "name": "stderr",
     "output_type": "stream",
     "text": [
      "Info: Params [ 2.86683665  3.4625642  14.03047323  2.12882517  0.65207216  0.22055102\n",
      "  0.31330354] gave -990.8102690117133\n"
     ]
    },
    {
     "name": "stdout",
     "output_type": "stream",
     "text": [
      "29\n"
     ]
    },
    {
     "name": "stderr",
     "output_type": "stream",
     "text": [
      "Info: Params [3.08854062 2.99779208 6.5094373  0.69427054 0.82481923 0.31888266\n",
      " 0.31600064] gave -801.9659119708228\n"
     ]
    },
    {
     "name": "stdout",
     "output_type": "stream",
     "text": [
      "30\n"
     ]
    },
    {
     "name": "stderr",
     "output_type": "stream",
     "text": [
      "Info: Params [1.73223081 4.56988871 9.70093216 2.75555847 5.52946462 0.1773141\n",
      " 0.19969428] gave -354.11955813861164\n"
     ]
    },
    {
     "name": "stdout",
     "output_type": "stream",
     "text": [
      "31\n"
     ]
    },
    {
     "name": "stderr",
     "output_type": "stream",
     "text": [
      "Info: Params [ 1.9746143   5.06956294 14.95924265  3.30692865  3.93178089  0.19407148\n",
      "  0.25877566] gave -1395.4015952992256\n"
     ]
    },
    {
     "name": "stdout",
     "output_type": "stream",
     "text": [
      "           1    2    3    4    5    6    7    8    9    10  ...   23   24  \\\n",
      "Speed     1.0  1.0  1.0  1.0  1.0  1.0  1.0  1.0  1.0  1.0  ...  1.0  1.0   \n",
      "Accuracy  1.0  1.0  1.0  1.0  1.0  1.0  1.0  1.0  1.0  1.0  ...  1.0  1.0   \n",
      "\n",
      "           25   26   27   28   29   30   31   32  \n",
      "Speed     1.0  1.0  1.0  1.0  1.0  1.0  1.0  1.0  \n",
      "Accuracy  1.0  1.0  1.0  1.0  1.0  1.0  1.0  1.0  \n",
      "\n",
      "[2 rows x 32 columns]\n"
     ]
    }
   ],
   "source": [
    "data_dir = \"/Users/wangjiashun/Desktop/Reserach on SAT/datasets/transformed/Dutilh2013/sub\"\n",
    "sample_size = 32\n",
    "\n",
    "df_all = pd.DataFrame()\n",
    "valid_ratio_dfs = pd.DataFrame()\n",
    "\n",
    "for i in range(sample_size):\n",
    "    print(i)\n",
    "    path = os.path.join(data_dir+str(i+1)+\".csv\")\n",
    "    df = pd.read_csv(path, sep = \",\")\n",
    "    \n",
    "    counts_before = df['Cond'].value_counts()\n",
    "    df = df[df[\"Time\"]<5]\n",
    "    counts_after = df['Cond'].value_counts()\n",
    "    valid_ratio = counts_before/counts_after\n",
    "    valid_ratio_df = valid_ratio.to_frame(i+1)\n",
    "    valid_ratio_dfs = pd.concat((valid_ratio_dfs,valid_ratio_df), axis = 1)\n",
    "    \n",
    "    samp = Sample.from_pandas_dataframe(df, rt_column_name=\"Time\", choice_column_name=\"Correct\")\n",
    "    df = get_OUM_result_sub_2v2a2ter(samp)\n",
    "    df_all = pd.concat((df_all,df))\n",
    "    \n",
    "df_OUM = df_all.copy()\n",
    "df_OUM.to_csv(\"Parameter Estimates/OUM2v2a2terresultDutilh2013.csv\")\n",
    "print(valid_ratio_dfs)"
   ]
  },
  {
   "cell_type": "code",
   "execution_count": 12,
   "id": "be2525bf",
   "metadata": {
    "scrolled": true
   },
   "outputs": [
    {
     "name": "stdout",
     "output_type": "stream",
     "text": [
      "0\n"
     ]
    },
    {
     "name": "stderr",
     "output_type": "stream",
     "text": [
      "Info: Params [ 0.78435305  0.87766501 -0.03486263  0.52578956  0.89013463  0.33682538\n",
      "  0.38395214] gave 504.27271740067187\n"
     ]
    },
    {
     "name": "stdout",
     "output_type": "stream",
     "text": [
      "1\n"
     ]
    },
    {
     "name": "stderr",
     "output_type": "stream",
     "text": [
      "Info: Params [ 2.82057873  1.17318364 -3.23569322  0.50385587  0.81059164  0.44725679\n",
      "  0.51841522] gave 257.09267091899494\n"
     ]
    },
    {
     "name": "stdout",
     "output_type": "stream",
     "text": [
      "2\n"
     ]
    },
    {
     "name": "stderr",
     "output_type": "stream",
     "text": [
      "Info: Params [1.24276082 1.30666769 2.17818728 0.77895215 1.62318407 0.22076273\n",
      " 0.19476678] gave 226.81468253685338\n"
     ]
    },
    {
     "name": "stdout",
     "output_type": "stream",
     "text": [
      "3\n"
     ]
    },
    {
     "name": "stderr",
     "output_type": "stream",
     "text": [
      "Info: Params [1.46802519 1.01143657 0.47193241 0.80877323 5.98823921 0.40771553\n",
      " 0.47365077] gave 682.4997396893441\n"
     ]
    },
    {
     "name": "stdout",
     "output_type": "stream",
     "text": [
      "4\n"
     ]
    },
    {
     "name": "stderr",
     "output_type": "stream",
     "text": [
      "Info: Params [1.86522731 1.12299517 2.53837827 0.74863071 1.47313863 0.34001521\n",
      " 0.32492475] gave 227.7651723423878\n"
     ]
    },
    {
     "name": "stdout",
     "output_type": "stream",
     "text": [
      "5\n"
     ]
    },
    {
     "name": "stderr",
     "output_type": "stream",
     "text": [
      "Info: Params [1.48426055 1.05846272 1.72964764 0.6260778  1.56521517 0.42552184\n",
      " 0.36650817] gave 476.36419700001863\n"
     ]
    },
    {
     "name": "stdout",
     "output_type": "stream",
     "text": [
      "6\n"
     ]
    },
    {
     "name": "stderr",
     "output_type": "stream",
     "text": [
      "Info: Params [0.62817412 1.08169775 3.48216583 0.69684854 1.30215471 0.18956755\n",
      " 0.30121097] gave 343.51465562674593\n"
     ]
    },
    {
     "name": "stdout",
     "output_type": "stream",
     "text": [
      "7\n"
     ]
    },
    {
     "name": "stderr",
     "output_type": "stream",
     "text": [
      "Info: Params [1.95115832 1.97096988 2.73460618 0.69452876 1.68675387 0.4132695\n",
      " 0.41826764] gave -94.80983626692992\n"
     ]
    },
    {
     "name": "stdout",
     "output_type": "stream",
     "text": [
      "8\n"
     ]
    },
    {
     "name": "stderr",
     "output_type": "stream",
     "text": [
      "Info: Params [1.97370182 1.58513711 1.77684956 0.82600743 2.7447169  0.45120548\n",
      " 0.19500119] gave 160.5994641136016\n"
     ]
    },
    {
     "name": "stdout",
     "output_type": "stream",
     "text": [
      "9\n"
     ]
    },
    {
     "name": "stderr",
     "output_type": "stream",
     "text": [
      "Info: Params [0.74113518 0.46448854 1.35243126 0.76146259 1.27023506 0.3639425\n",
      " 0.31681782] gave 822.8067674591218\n"
     ]
    },
    {
     "name": "stdout",
     "output_type": "stream",
     "text": [
      "10\n"
     ]
    },
    {
     "name": "stderr",
     "output_type": "stream",
     "text": [
      "Info: Params [0.97966172 0.34188607 0.87971538 0.63767925 1.7079273  0.42174858\n",
      " 0.26209341] gave 908.0978261320305\n"
     ]
    },
    {
     "name": "stdout",
     "output_type": "stream",
     "text": [
      "11\n"
     ]
    },
    {
     "name": "stderr",
     "output_type": "stream",
     "text": [
      "Info: Params [0.91254404 0.81768076 1.274573   0.72031442 1.58167913 0.22934031\n",
      " 0.30045001] gave 698.0353339968832\n"
     ]
    },
    {
     "name": "stdout",
     "output_type": "stream",
     "text": [
      "12\n"
     ]
    },
    {
     "name": "stderr",
     "output_type": "stream",
     "text": [
      "Info: Params [1.41562111 0.78282018 0.91515926 0.87350432 1.90451066 0.39296234\n",
      " 0.27887999] gave 724.2839752116257\n"
     ]
    },
    {
     "name": "stdout",
     "output_type": "stream",
     "text": [
      "13\n"
     ]
    },
    {
     "name": "stderr",
     "output_type": "stream",
     "text": [
      "Info: Params [0.49660436 0.7067895  1.37766776 1.01574643 1.54497085 0.35660233\n",
      " 0.32611796] gave 984.9865106052466\n"
     ]
    },
    {
     "name": "stdout",
     "output_type": "stream",
     "text": [
      "14\n"
     ]
    },
    {
     "name": "stderr",
     "output_type": "stream",
     "text": [
      "Info: Params [0.75191987 0.51449992 1.39738255 0.86825144 1.86590657 0.1723842\n",
      " 0.15649171] gave 873.0158172210276\n"
     ]
    },
    {
     "name": "stdout",
     "output_type": "stream",
     "text": [
      "15\n"
     ]
    },
    {
     "name": "stderr",
     "output_type": "stream",
     "text": [
      "Info: Params [1.41514268 0.8946516  0.90629739 0.69773432 1.63722737 0.39747464\n",
      " 0.34917776] gave 612.763771703569\n"
     ]
    },
    {
     "name": "stdout",
     "output_type": "stream",
     "text": [
      "16\n"
     ]
    },
    {
     "name": "stderr",
     "output_type": "stream",
     "text": [
      "Info: Params [ 1.58215084  0.8396769  -0.3794347   0.74415204  1.06150905  0.37785676\n",
      "  0.32595591] gave 661.3665112054208\n"
     ]
    },
    {
     "name": "stdout",
     "output_type": "stream",
     "text": [
      "17\n"
     ]
    },
    {
     "name": "stderr",
     "output_type": "stream",
     "text": [
      "Info: Params [1.23563943 0.63512877 1.74627636 0.6236641  1.26363536 0.38306049\n",
      " 0.36487061] gave 517.515671465222\n"
     ]
    },
    {
     "name": "stdout",
     "output_type": "stream",
     "text": [
      "18\n"
     ]
    },
    {
     "name": "stderr",
     "output_type": "stream",
     "text": [
      "Info: Params [1.04171964 0.9101097  2.01618723 0.78534789 1.70487111 0.35082225\n",
      " 0.22372328] gave 580.6422925160492\n"
     ]
    },
    {
     "name": "stdout",
     "output_type": "stream",
     "text": [
      "19\n"
     ]
    },
    {
     "name": "stderr",
     "output_type": "stream",
     "text": [
      "Info: Params [0.46846739 0.4322761  0.82242425 1.32771116 1.97760991 0.12795831\n",
      " 0.14885178] gave 1283.0859496006958\n"
     ]
    },
    {
     "name": "stdout",
     "output_type": "stream",
     "text": [
      "20\n"
     ]
    },
    {
     "name": "stderr",
     "output_type": "stream",
     "text": [
      "Info: Params [2.36691371 1.17680882 1.01310307 0.55966984 1.13993227 0.33675658\n",
      " 0.36156604] gave 119.21099292775439\n"
     ]
    },
    {
     "name": "stdout",
     "output_type": "stream",
     "text": [
      "21\n"
     ]
    },
    {
     "name": "stderr",
     "output_type": "stream",
     "text": [
      "Info: Params [1.93510477 1.23943041 1.73547866 0.84167931 2.09707491 0.35810047\n",
      " 0.27374439] gave 338.47512914666436\n"
     ]
    },
    {
     "name": "stdout",
     "output_type": "stream",
     "text": [
      "22\n"
     ]
    },
    {
     "name": "stderr",
     "output_type": "stream",
     "text": [
      "Info: Params [1.05556076 0.72644375 1.34236448 0.80521251 1.46558116 0.36468217\n",
      " 0.36186316] gave 747.1630481623959\n"
     ]
    },
    {
     "name": "stdout",
     "output_type": "stream",
     "text": [
      "23\n"
     ]
    },
    {
     "name": "stderr",
     "output_type": "stream",
     "text": [
      "Info: Params [1.08651814 0.58463746 0.96256391 0.84245196 2.6385491  0.47782311\n",
      " 0.20202587] gave 875.8846209760941\n"
     ]
    },
    {
     "name": "stdout",
     "output_type": "stream",
     "text": [
      "24\n"
     ]
    },
    {
     "name": "stderr",
     "output_type": "stream",
     "text": [
      "Info: Params [0.94403013 1.2036056  1.95837442 1.31069564 1.82743916 0.26806151\n",
      " 0.32207946] gave 715.7222188007395\n"
     ]
    },
    {
     "name": "stdout",
     "output_type": "stream",
     "text": [
      "25\n"
     ]
    },
    {
     "name": "stderr",
     "output_type": "stream",
     "text": [
      "Info: Params [2.28321165 1.23679481 1.75480637 0.70569604 1.81722383 0.48656281\n",
      " 0.41151586] gave 202.00652735912558\n"
     ]
    },
    {
     "name": "stdout",
     "output_type": "stream",
     "text": [
      "26\n"
     ]
    },
    {
     "name": "stderr",
     "output_type": "stream",
     "text": [
      "Info: Params [0.92368265 1.08853846 2.18417109 0.50672534 1.9805652  0.33684437\n",
      " 0.49588009] gave 272.8067772974243\n"
     ]
    },
    {
     "name": "stdout",
     "output_type": "stream",
     "text": [
      "27\n"
     ]
    },
    {
     "name": "stderr",
     "output_type": "stream",
     "text": [
      "Info: Params [1.80686431 1.42230915 2.32487913 0.56957317 1.42630452 0.45670573\n",
      " 0.44821759] gave 131.83972108572442\n"
     ]
    },
    {
     "name": "stdout",
     "output_type": "stream",
     "text": [
      "28\n"
     ]
    },
    {
     "name": "stderr",
     "output_type": "stream",
     "text": [
      "Info: Params [1.63640686 1.89702866 2.67548001 0.60193357 1.72750121 0.32335273\n",
      " 0.35165379] gave -118.05710335755536\n"
     ]
    },
    {
     "name": "stdout",
     "output_type": "stream",
     "text": [
      "29\n"
     ]
    },
    {
     "name": "stderr",
     "output_type": "stream",
     "text": [
      "Info: Params [0.81302206 0.56983311 0.84727807 0.86313904 1.63928647 0.49262494\n",
      " 0.57004891] gave 1002.234576086503\n"
     ]
    },
    {
     "name": "stdout",
     "output_type": "stream",
     "text": [
      "30\n"
     ]
    },
    {
     "name": "stderr",
     "output_type": "stream",
     "text": [
      "Info: Params [1.24458121 1.40303033 3.01123139 0.77151085 1.04910689 0.29492321\n",
      " 0.38926028] gave 206.68519347950433\n"
     ]
    },
    {
     "name": "stdout",
     "output_type": "stream",
     "text": [
      "31\n"
     ]
    },
    {
     "name": "stderr",
     "output_type": "stream",
     "text": [
      "Info: Params [1.40820269 1.41563053 1.4935416  1.11207851 2.30609413 0.35155061\n",
      " 0.15175735] gave 543.4949557948644\n"
     ]
    },
    {
     "name": "stdout",
     "output_type": "stream",
     "text": [
      "32\n"
     ]
    },
    {
     "name": "stderr",
     "output_type": "stream",
     "text": [
      "Info: Params [1.66064182 1.48566404 1.98379018 0.70634409 1.92382137 0.36793212\n",
      " 0.32494531] gave 261.3580390928947\n"
     ]
    },
    {
     "name": "stdout",
     "output_type": "stream",
     "text": [
      "33\n"
     ]
    },
    {
     "name": "stderr",
     "output_type": "stream",
     "text": [
      "Info: Params [0.50112936 1.53867748 2.07747778 0.66908742 1.6405414  0.18417812\n",
      " 0.40846408] gave 357.68623436575496\n"
     ]
    },
    {
     "name": "stdout",
     "output_type": "stream",
     "text": [
      "34\n"
     ]
    },
    {
     "name": "stderr",
     "output_type": "stream",
     "text": [
      "Info: Params [1.43168308 1.75204011 3.73897904 0.50950443 1.24793621 0.31816857\n",
      " 0.30747008] gave -126.3434155667603\n"
     ]
    },
    {
     "name": "stdout",
     "output_type": "stream",
     "text": [
      "35\n"
     ]
    },
    {
     "name": "stderr",
     "output_type": "stream",
     "text": [
      "Info: Params [1.79673612 1.00867181 1.98398761 0.50317134 1.38255281 0.4064292\n",
      " 0.40548516] gave 130.62446829825168\n"
     ]
    },
    {
     "name": "stdout",
     "output_type": "stream",
     "text": [
      "36\n"
     ]
    },
    {
     "name": "stderr",
     "output_type": "stream",
     "text": [
      "Info: Params [1.02469798 1.3208069  1.6673906  0.85628483 1.70491684 0.30511872\n",
      " 0.27538662] gave 551.4874933838304\n"
     ]
    },
    {
     "name": "stdout",
     "output_type": "stream",
     "text": [
      "37\n"
     ]
    },
    {
     "name": "stderr",
     "output_type": "stream",
     "text": [
      "Info: Params [1.70424518 1.98555926 5.32446359 0.69653375 5.13283484 0.28388431\n",
      " 0.21177597] gave -69.61627332852377\n"
     ]
    },
    {
     "name": "stdout",
     "output_type": "stream",
     "text": [
      "38\n"
     ]
    },
    {
     "name": "stderr",
     "output_type": "stream",
     "text": [
      "Info: Params [2.01255537 1.84240758 3.25805352 0.73047149 1.40975842 0.29782057\n",
      " 0.41499759] gave -94.70243284788778\n"
     ]
    },
    {
     "name": "stdout",
     "output_type": "stream",
     "text": [
      "39\n"
     ]
    },
    {
     "name": "stderr",
     "output_type": "stream",
     "text": [
      "Info: Params [0.91722649 0.64025118 0.46903062 0.64542058 2.18885378 0.35096937\n",
      " 0.21000527] gave 665.1279374915797\n"
     ]
    },
    {
     "name": "stdout",
     "output_type": "stream",
     "text": [
      "40\n"
     ]
    },
    {
     "name": "stderr",
     "output_type": "stream",
     "text": [
      "Info: Params [2.39777499 1.14582977 1.4197912  0.85495256 2.05796309 0.32505878\n",
      " 0.30488376] gave 324.9699995053419\n"
     ]
    },
    {
     "name": "stdout",
     "output_type": "stream",
     "text": [
      "41\n"
     ]
    },
    {
     "name": "stderr",
     "output_type": "stream",
     "text": [
      "Info: Params [1.62526217 1.14663109 1.40881418 0.60538373 1.8525927  0.33104769\n",
      " 0.1900296 ] gave 368.49586653255767\n"
     ]
    },
    {
     "name": "stdout",
     "output_type": "stream",
     "text": [
      "42\n"
     ]
    },
    {
     "name": "stderr",
     "output_type": "stream",
     "text": [
      "Info: Params [1.35923886 0.88167971 1.83976854 0.75693236 1.35748604 0.35743766\n",
      " 0.34354563] gave 511.7528861850176\n"
     ]
    },
    {
     "name": "stdout",
     "output_type": "stream",
     "text": [
      "43\n"
     ]
    },
    {
     "name": "stderr",
     "output_type": "stream",
     "text": [
      "Info: Params [0.72976113 0.67278048 1.24907186 0.75783641 2.27745228 0.33261956\n",
      " 0.1154994 ] gave 895.1180576010377\n"
     ]
    },
    {
     "name": "stdout",
     "output_type": "stream",
     "text": [
      "44\n"
     ]
    },
    {
     "name": "stderr",
     "output_type": "stream",
     "text": [
      "Info: Params [2.13178465 1.30914138 1.81762609 0.72623823 1.72186046 0.37939399\n",
      " 0.22939706] gave 369.92506615257804\n"
     ]
    },
    {
     "name": "stdout",
     "output_type": "stream",
     "text": [
      "45\n"
     ]
    },
    {
     "name": "stderr",
     "output_type": "stream",
     "text": [
      "Info: Params [1.29102101 1.30252938 1.92047229 0.80654651 1.5532023  0.36580701\n",
      " 0.29513361] gave 370.491728004763\n"
     ]
    },
    {
     "name": "stdout",
     "output_type": "stream",
     "text": [
      "46\n"
     ]
    },
    {
     "name": "stderr",
     "output_type": "stream",
     "text": [
      "Info: Params [1.69174101 0.91538328 0.87003729 0.7394116  2.57849841 0.3051745\n",
      " 0.22566461] gave 584.9902679485683\n"
     ]
    },
    {
     "name": "stdout",
     "output_type": "stream",
     "text": [
      "           1    2    3    4    5    6    7    8    9    10  ...   38   39  \\\n",
      "Accuracy  1.0  1.0  1.0  1.0  1.0  1.0  1.0  1.0  1.0  1.0  ...  1.0  1.0   \n",
      "Speed     1.0  1.0  1.0  1.0  1.0  1.0  1.0  1.0  1.0  1.0  ...  1.0  1.0   \n",
      "\n",
      "           40   41   42   43   44   45   46   47  \n",
      "Accuracy  1.0  1.0  1.0  1.0  1.0  1.0  1.0  1.0  \n",
      "Speed     1.0  1.0  1.0  1.0  1.0  1.0  1.0  1.0  \n",
      "\n",
      "[2 rows x 47 columns]\n"
     ]
    }
   ],
   "source": [
    "data_dir = \"/Users/wangjiashun/Desktop/Reserach on SAT/datasets/transformed/Evans2017/sub\"\n",
    "sample_size = 47\n",
    "\n",
    "df_all = pd.DataFrame()\n",
    "valid_ratio_dfs = pd.DataFrame()\n",
    "\n",
    "for i in range(sample_size):\n",
    "    print(i)\n",
    "    path = os.path.join(data_dir+str(i+1)+\".csv\")\n",
    "    df = pd.read_csv(path, sep = \",\")\n",
    "    \n",
    "    counts_before = df['Cond'].value_counts()\n",
    "    df = df[df[\"Time\"]<5]\n",
    "    counts_after = df['Cond'].value_counts()\n",
    "    valid_ratio = counts_before/counts_after\n",
    "    valid_ratio_df = valid_ratio.to_frame(i+1)\n",
    "    valid_ratio_dfs = pd.concat((valid_ratio_dfs,valid_ratio_df), axis = 1)\n",
    "    \n",
    "    samp = Sample.from_pandas_dataframe(df, rt_column_name=\"Time\", choice_column_name=\"Correct\")\n",
    "    df = get_OUM_result_sub_2v2a2ter(samp)\n",
    "    df_all = pd.concat((df_all,df))\n",
    "    \n",
    "df_OUM = df_all.copy()\n",
    "df_OUM.to_csv(\"Parameter Estimates/OUM2v2a2terresultEvans2017.csv\")\n",
    "print(valid_ratio_dfs)"
   ]
  },
  {
   "cell_type": "code",
   "execution_count": null,
   "id": "37140e6d",
   "metadata": {},
   "outputs": [],
   "source": []
  },
  {
   "cell_type": "code",
   "execution_count": 3,
   "id": "11deb9df",
   "metadata": {},
   "outputs": [
    {
     "name": "stderr",
     "output_type": "stream",
     "text": [
      "Warning: dt is large.  Estimated pdfs may be imprecise.  Decrease dt to 0.01 or less.\n"
     ]
    },
    {
     "name": "stdout",
     "output_type": "stream",
     "text": [
      "0\n"
     ]
    },
    {
     "name": "stderr",
     "output_type": "stream",
     "text": [
      "Info: Params [0.29015322 0.10018454 0.17529429 1.32068714 5.96269566 0.85327184\n",
      " 0.95856847] gave 919.0512235222476\n",
      "Warning: dt is large.  Estimated pdfs may be imprecise.  Decrease dt to 0.01 or less.\n"
     ]
    },
    {
     "name": "stdout",
     "output_type": "stream",
     "text": [
      "1\n"
     ]
    },
    {
     "name": "stderr",
     "output_type": "stream",
     "text": [
      "Info: Params [0.35108069 0.21687465 0.25823658 4.11475961 5.94125024 0.48816947\n",
      " 0.88313092] gave 999.4603147138185\n",
      "Warning: dt is large.  Estimated pdfs may be imprecise.  Decrease dt to 0.01 or less.\n"
     ]
    },
    {
     "name": "stdout",
     "output_type": "stream",
     "text": [
      "2\n"
     ]
    },
    {
     "name": "stderr",
     "output_type": "stream",
     "text": [
      "Info: Params [ 0.          0.04180129 -1.79522594  0.7109396   0.80916139  0.10990824\n",
      "  0.47000934] gave 474.2035600199581\n",
      "Warning: dt is large.  Estimated pdfs may be imprecise.  Decrease dt to 0.01 or less.\n"
     ]
    },
    {
     "name": "stdout",
     "output_type": "stream",
     "text": [
      "3\n"
     ]
    },
    {
     "name": "stderr",
     "output_type": "stream",
     "text": [
      "Info: Params [0.10080425 0.08774531 0.52253581 1.83300624 3.12994545 0.13977181\n",
      " 0.34580583] gave 831.2938551533904\n",
      "Warning: dt is large.  Estimated pdfs may be imprecise.  Decrease dt to 0.01 or less.\n"
     ]
    },
    {
     "name": "stdout",
     "output_type": "stream",
     "text": [
      "4\n"
     ]
    },
    {
     "name": "stderr",
     "output_type": "stream",
     "text": [
      "Info: Params [ 0.17550646  0.15367196 -0.48666247  1.79012948  2.09494716  0.98600167\n",
      "  0.99780825] gave 1179.3142323835134\n",
      "Warning: dt is large.  Estimated pdfs may be imprecise.  Decrease dt to 0.01 or less.\n"
     ]
    },
    {
     "name": "stdout",
     "output_type": "stream",
     "text": [
      "5\n"
     ]
    },
    {
     "name": "stderr",
     "output_type": "stream",
     "text": [
      "Info: Params [ 0.22412437  0.16247677 -0.73020838  0.89460696  1.8833083   0.82148918\n",
      "  0.96803837] gave 924.425139623175\n",
      "Warning: dt is large.  Estimated pdfs may be imprecise.  Decrease dt to 0.01 or less.\n"
     ]
    },
    {
     "name": "stdout",
     "output_type": "stream",
     "text": [
      "6\n"
     ]
    },
    {
     "name": "stderr",
     "output_type": "stream",
     "text": [
      "Info: Params [0.20629091 0.26634667 0.64112867 0.81555233 3.1144564  0.38850314\n",
      " 0.76560034] gave 582.6300506493557\n",
      "Warning: dt is large.  Estimated pdfs may be imprecise.  Decrease dt to 0.01 or less.\n"
     ]
    },
    {
     "name": "stdout",
     "output_type": "stream",
     "text": [
      "7\n"
     ]
    },
    {
     "name": "stderr",
     "output_type": "stream",
     "text": [
      "Info: Params [0.25125338 0.3217     0.7972188  0.80244328 4.21861029 0.69571822\n",
      " 0.12134829] gave 548.475394990285\n",
      "Warning: dt is large.  Estimated pdfs may be imprecise.  Decrease dt to 0.01 or less.\n"
     ]
    },
    {
     "name": "stdout",
     "output_type": "stream",
     "text": [
      "8\n"
     ]
    },
    {
     "name": "stderr",
     "output_type": "stream",
     "text": [
      "Info: Params [ 0.          0.03461402 -7.91279406  0.50224015  0.63998625  0.24918938\n",
      "  0.13010166] gave 598.4357435559758\n",
      "Warning: dt is large.  Estimated pdfs may be imprecise.  Decrease dt to 0.01 or less.\n"
     ]
    },
    {
     "name": "stdout",
     "output_type": "stream",
     "text": [
      "9\n"
     ]
    },
    {
     "name": "stderr",
     "output_type": "stream",
     "text": [
      "Info: Params [ 6.00636142e-04  1.21878543e-01 -9.97974473e-02  1.51976824e+00\n",
      "  1.78329513e+00  1.09460068e-01  1.40431320e-01] gave 924.9275660468157\n",
      "Warning: dt is large.  Estimated pdfs may be imprecise.  Decrease dt to 0.01 or less.\n"
     ]
    },
    {
     "name": "stdout",
     "output_type": "stream",
     "text": [
      "10\n"
     ]
    },
    {
     "name": "stderr",
     "output_type": "stream",
     "text": [
      "Info: Params [0.69072941 0.22389663 0.21251794 1.14765747 5.99302216 0.96507774\n",
      " 0.93732571] gave 775.2674948156795\n",
      "Warning: dt is large.  Estimated pdfs may be imprecise.  Decrease dt to 0.01 or less.\n"
     ]
    },
    {
     "name": "stdout",
     "output_type": "stream",
     "text": [
      "11\n"
     ]
    },
    {
     "name": "stderr",
     "output_type": "stream",
     "text": [
      "Info: Params [0.         0.08695402 0.07599985 0.74221854 5.96655196 0.39080959\n",
      " 0.97627408] gave 758.4967309745949\n",
      "Warning: dt is large.  Estimated pdfs may be imprecise.  Decrease dt to 0.01 or less.\n"
     ]
    },
    {
     "name": "stdout",
     "output_type": "stream",
     "text": [
      "12\n"
     ]
    },
    {
     "name": "stderr",
     "output_type": "stream",
     "text": [
      "Info: Params [0.31335786 0.30285711 0.55957789 1.06825136 2.77898767 0.82943481\n",
      " 0.93727229] gave 668.8111072811705\n",
      "Warning: dt is large.  Estimated pdfs may be imprecise.  Decrease dt to 0.01 or less.\n"
     ]
    },
    {
     "name": "stdout",
     "output_type": "stream",
     "text": [
      "13\n"
     ]
    },
    {
     "name": "stderr",
     "output_type": "stream",
     "text": [
      "Info: Params [ 0.27670438  0.35774598 -4.06494084  0.82631182  1.04966184  0.95156287\n",
      "  0.95786354] gave 996.9536445752773\n",
      "Warning: dt is large.  Estimated pdfs may be imprecise.  Decrease dt to 0.01 or less.\n"
     ]
    },
    {
     "name": "stdout",
     "output_type": "stream",
     "text": [
      "14\n"
     ]
    },
    {
     "name": "stderr",
     "output_type": "stream",
     "text": [
      "Info: Params [0.10734561 0.18956882 0.16355245 1.30089224 3.72796861 0.12972526\n",
      " 0.79453231] gave 899.1915292360776\n",
      "Warning: dt is large.  Estimated pdfs may be imprecise.  Decrease dt to 0.01 or less.\n"
     ]
    },
    {
     "name": "stdout",
     "output_type": "stream",
     "text": [
      "15\n"
     ]
    },
    {
     "name": "stderr",
     "output_type": "stream",
     "text": [
      "Info: Params [0.02694241 0.10250279 0.10748384 0.99691878 5.9642789  0.79266185\n",
      " 0.77429851] gave 881.3680770211403\n",
      "Warning: dt is large.  Estimated pdfs may be imprecise.  Decrease dt to 0.01 or less.\n"
     ]
    },
    {
     "name": "stdout",
     "output_type": "stream",
     "text": [
      "16\n"
     ]
    },
    {
     "name": "stderr",
     "output_type": "stream",
     "text": [
      "Info: Params [0.27995079 0.27611458 0.89098668 2.33286934 4.09930692 0.12732396\n",
      " 0.65781428] gave 720.0631966728495\n",
      "Warning: dt is large.  Estimated pdfs may be imprecise.  Decrease dt to 0.01 or less.\n"
     ]
    },
    {
     "name": "stdout",
     "output_type": "stream",
     "text": [
      "17\n"
     ]
    },
    {
     "name": "stderr",
     "output_type": "stream",
     "text": [
      "Info: Params [0.26978691 0.14988444 0.28281976 0.88404836 2.34457302 0.25607104\n",
      " 0.1623251 ] gave 696.0303419247891\n",
      "Warning: dt is large.  Estimated pdfs may be imprecise.  Decrease dt to 0.01 or less.\n"
     ]
    },
    {
     "name": "stdout",
     "output_type": "stream",
     "text": [
      "18\n"
     ]
    },
    {
     "name": "stderr",
     "output_type": "stream",
     "text": [
      "Info: Params [0.2267944  0.13065467 0.50342823 1.69674856 4.15161329 0.95324512\n",
      " 0.20565445] gave 825.795145241057\n",
      "Warning: dt is large.  Estimated pdfs may be imprecise.  Decrease dt to 0.01 or less.\n"
     ]
    },
    {
     "name": "stdout",
     "output_type": "stream",
     "text": [
      "19\n"
     ]
    },
    {
     "name": "stderr",
     "output_type": "stream",
     "text": [
      "Info: Params [0.24706233 0.2281184  0.0733118  1.18777595 5.96809288 0.72822817\n",
      " 0.95445622] gave 911.723031008693\n",
      "Warning: dt is large.  Estimated pdfs may be imprecise.  Decrease dt to 0.01 or less.\n"
     ]
    },
    {
     "name": "stdout",
     "output_type": "stream",
     "text": [
      "20\n"
     ]
    },
    {
     "name": "stderr",
     "output_type": "stream",
     "text": [
      "Info: Params [0.24525034 0.15464634 1.07330475 3.47336204 3.83569482 0.13044275\n",
      " 0.30254765] gave 689.2562537327079\n",
      "Warning: dt is large.  Estimated pdfs may be imprecise.  Decrease dt to 0.01 or less.\n"
     ]
    },
    {
     "name": "stdout",
     "output_type": "stream",
     "text": [
      "21\n"
     ]
    },
    {
     "name": "stderr",
     "output_type": "stream",
     "text": [
      "Info: Params [0.         0.04889416 2.02488211 1.75656562 3.48722072 0.20750652\n",
      " 0.17924491] gave 497.3547354185615\n",
      "Warning: dt is large.  Estimated pdfs may be imprecise.  Decrease dt to 0.01 or less.\n"
     ]
    },
    {
     "name": "stdout",
     "output_type": "stream",
     "text": [
      "22\n"
     ]
    },
    {
     "name": "stderr",
     "output_type": "stream",
     "text": [
      "Info: Params [0.23820844 0.17592396 0.26381033 0.74071525 3.38936991 0.34581677\n",
      " 0.36425495] gave 679.8351687080765\n",
      "Warning: dt is large.  Estimated pdfs may be imprecise.  Decrease dt to 0.01 or less.\n"
     ]
    },
    {
     "name": "stdout",
     "output_type": "stream",
     "text": [
      "23\n"
     ]
    },
    {
     "name": "stderr",
     "output_type": "stream",
     "text": [
      "Info: Params [0.21123768 0.17637011 0.25499816 4.42258804 5.88802187 0.88577204\n",
      " 0.46381199] gave 1061.6495852318228\n",
      "Warning: dt is large.  Estimated pdfs may be imprecise.  Decrease dt to 0.01 or less.\n"
     ]
    },
    {
     "name": "stdout",
     "output_type": "stream",
     "text": [
      "24\n"
     ]
    },
    {
     "name": "stderr",
     "output_type": "stream",
     "text": [
      "Info: Params [0.39445864 0.06832918 2.44682026 0.74948655 2.19116704 0.39647148\n",
      " 0.47894762] gave 326.9518427969266\n",
      "Warning: dt is large.  Estimated pdfs may be imprecise.  Decrease dt to 0.01 or less.\n"
     ]
    },
    {
     "name": "stdout",
     "output_type": "stream",
     "text": [
      "25\n"
     ]
    },
    {
     "name": "stderr",
     "output_type": "stream",
     "text": [
      "Info: Params [ 0.39513697  0.30829456 -9.7143124   0.50062838  0.72682731  0.48185869\n",
      "  0.10092002] gave 839.725324363036\n",
      "Warning: dt is large.  Estimated pdfs may be imprecise.  Decrease dt to 0.01 or less.\n"
     ]
    },
    {
     "name": "stdout",
     "output_type": "stream",
     "text": [
      "26\n"
     ]
    },
    {
     "name": "stderr",
     "output_type": "stream",
     "text": [
      "Info: Params [ 0.29858661  0.32360659 -5.96618297  0.68804652  0.86215677  0.50278576\n",
      "  0.93791822] gave 947.6553806188556\n",
      "Warning: dt is large.  Estimated pdfs may be imprecise.  Decrease dt to 0.01 or less.\n"
     ]
    },
    {
     "name": "stdout",
     "output_type": "stream",
     "text": [
      "27\n"
     ]
    },
    {
     "name": "stderr",
     "output_type": "stream",
     "text": [
      "Info: Params [ 0.22145828  0.32509994 -2.8602013   0.89891141  1.19582107  0.11734067\n",
      "  0.96269132] gave 1040.8738869974188\n",
      "Warning: dt is large.  Estimated pdfs may be imprecise.  Decrease dt to 0.01 or less.\n"
     ]
    },
    {
     "name": "stdout",
     "output_type": "stream",
     "text": [
      "28\n"
     ]
    },
    {
     "name": "stderr",
     "output_type": "stream",
     "text": [
      "Info: Params [0.12723364 0.10413475 0.10438299 2.18881152 5.83127532 0.94426513\n",
      " 0.56366227] gave 1107.873022156675\n",
      "Warning: dt is large.  Estimated pdfs may be imprecise.  Decrease dt to 0.01 or less.\n"
     ]
    },
    {
     "name": "stdout",
     "output_type": "stream",
     "text": [
      "29\n"
     ]
    },
    {
     "name": "stderr",
     "output_type": "stream",
     "text": [
      "Info: Params [0.1601379  0.21555329 0.37743211 5.80486756 5.55000089 0.98667817\n",
      " 0.92680111] gave 914.5852392078267\n",
      "Warning: dt is large.  Estimated pdfs may be imprecise.  Decrease dt to 0.01 or less.\n"
     ]
    },
    {
     "name": "stdout",
     "output_type": "stream",
     "text": [
      "30\n"
     ]
    },
    {
     "name": "stderr",
     "output_type": "stream",
     "text": [
      "Info: Params [0.13665215 0.3396323  0.54334584 0.79360007 5.06467037 0.11498918\n",
      " 0.11920026] gave 601.4455414930893\n",
      "Warning: dt is large.  Estimated pdfs may be imprecise.  Decrease dt to 0.01 or less.\n"
     ]
    },
    {
     "name": "stdout",
     "output_type": "stream",
     "text": [
      "31\n"
     ]
    },
    {
     "name": "stderr",
     "output_type": "stream",
     "text": [
      "Info: Params [ 0.22452957  0.20065201 -1.41709203  1.02970007  1.48710477  0.14098894\n",
      "  0.33607719] gave 1005.7250168616843\n",
      "Warning: dt is large.  Estimated pdfs may be imprecise.  Decrease dt to 0.01 or less.\n"
     ]
    },
    {
     "name": "stdout",
     "output_type": "stream",
     "text": [
      "32\n"
     ]
    },
    {
     "name": "stderr",
     "output_type": "stream",
     "text": [
      "Info: Params [0.         0.4633075  0.01910203 0.58493949 1.76280459 0.13309324\n",
      " 0.50464843] gave 525.4863559883614\n",
      "Warning: dt is large.  Estimated pdfs may be imprecise.  Decrease dt to 0.01 or less.\n"
     ]
    },
    {
     "name": "stdout",
     "output_type": "stream",
     "text": [
      "33\n"
     ]
    },
    {
     "name": "stderr",
     "output_type": "stream",
     "text": [
      "Info: Params [0.05037082 0.1347745  0.90120111 1.45571298 5.64297941 0.16852939\n",
      " 0.49218394] gave 680.6810220217083\n",
      "Warning: dt is large.  Estimated pdfs may be imprecise.  Decrease dt to 0.01 or less.\n"
     ]
    },
    {
     "name": "stdout",
     "output_type": "stream",
     "text": [
      "34\n"
     ]
    },
    {
     "name": "stderr",
     "output_type": "stream",
     "text": [
      "Info: Params [0.27630736 0.30695111 0.17757232 1.70515737 5.80664749 0.7017083\n",
      " 0.52005653] gave 903.4355649656712\n",
      "Warning: dt is large.  Estimated pdfs may be imprecise.  Decrease dt to 0.01 or less.\n"
     ]
    },
    {
     "name": "stdout",
     "output_type": "stream",
     "text": [
      "35\n"
     ]
    },
    {
     "name": "stderr",
     "output_type": "stream",
     "text": [
      "Info: Params [ 0.3958515   0.22712466 -0.0312318   2.50413604  3.03266222  0.34171952\n",
      "  0.80388699] gave 1072.7478486695318\n",
      "Warning: dt is large.  Estimated pdfs may be imprecise.  Decrease dt to 0.01 or less.\n"
     ]
    },
    {
     "name": "stdout",
     "output_type": "stream",
     "text": [
      "36\n"
     ]
    },
    {
     "name": "stderr",
     "output_type": "stream",
     "text": [
      "Info: Params [0.13572968 0.13296946 1.009614   5.68625643 4.94331105 0.378323\n",
      " 0.84890308] gave 715.2310548076673\n",
      "Warning: dt is large.  Estimated pdfs may be imprecise.  Decrease dt to 0.01 or less.\n"
     ]
    },
    {
     "name": "stdout",
     "output_type": "stream",
     "text": [
      "37\n"
     ]
    },
    {
     "name": "stderr",
     "output_type": "stream",
     "text": [
      "Info: Params [ 0.39152086  0.25269219 -3.60010189  0.85272376  1.11030543  0.10406862\n",
      "  0.78708637] gave 1025.339411912772\n"
     ]
    },
    {
     "name": "stdout",
     "output_type": "stream",
     "text": [
      "           1    2    3    4         5    6    7    8    9    10  ...  \\\n",
      "Accuracy  1.0  1.0  1.0  1.0  1.037975  1.0  1.0  1.0  1.0  1.0  ...   \n",
      "Speed     1.0  1.0  1.0  1.0  1.000000  1.0  1.0  1.0  1.0  1.0  ...   \n",
      "\n",
      "                29   30   31        32   33   34   35        36   37        38  \n",
      "Accuracy  1.051282  1.0  1.0  1.012346  1.0  1.0  1.0  1.012346  1.0  1.078947  \n",
      "Speed     1.000000  1.0  1.0  1.000000  1.0  1.0  1.0  1.000000  1.0  1.000000  \n",
      "\n",
      "[2 rows x 38 columns]\n"
     ]
    }
   ],
   "source": [
    "data_dir = \"/Users/wangjiashun/Desktop/Reserach on SAT/datasets/transformed/Lerche2017/sub\"\n",
    "sample_size = 38\n",
    "\n",
    "df_all = pd.DataFrame()\n",
    "valid_ratio_dfs = pd.DataFrame()\n",
    "\n",
    "for i in range(sample_size):\n",
    "    print(i)\n",
    "    path = os.path.join(data_dir+str(i+1)+\".csv\")\n",
    "    df = pd.read_csv(path, sep = \",\")\n",
    "    \n",
    "    counts_before = df['Cond'].value_counts()\n",
    "    df = df[df[\"Time\"]<30]\n",
    "    counts_after = df['Cond'].value_counts()\n",
    "    valid_ratio = counts_before/counts_after\n",
    "    valid_ratio_df = valid_ratio.to_frame(i+1)\n",
    "    valid_ratio_dfs = pd.concat((valid_ratio_dfs,valid_ratio_df), axis = 1)\n",
    "    \n",
    "    samp = Sample.from_pandas_dataframe(df, rt_column_name=\"Time\", choice_column_name=\"Correct\")\n",
    "    df = get_OUM_result_sub_2v2a2ter(samp,dt=0.05,T_dur=30)\n",
    "    df_all = pd.concat((df_all,df))\n",
    "    \n",
    "df_OUM = df_all.copy()\n",
    "df_OUM.to_csv(\"Parameter Estimates/OUM2v2a2terresultLerche2017.csv\")\n",
    "print(valid_ratio_dfs)"
   ]
  },
  {
   "cell_type": "code",
   "execution_count": 14,
   "id": "c63aea59",
   "metadata": {},
   "outputs": [
    {
     "name": "stdout",
     "output_type": "stream",
     "text": [
      "0\n"
     ]
    },
    {
     "name": "stderr",
     "output_type": "stream",
     "text": [
      "Info: Params [1.3616768  2.05914703 7.97087504 2.01143414 3.53731987 0.16321293\n",
      " 0.20908272] gave -1139.603878296061\n"
     ]
    },
    {
     "name": "stdout",
     "output_type": "stream",
     "text": [
      "1\n"
     ]
    },
    {
     "name": "stderr",
     "output_type": "stream",
     "text": [
      "Info: Params [ 1.14283638  2.19223248 14.95396169  5.07196125  5.81164964  0.17479255\n",
      "  0.23765654] gave -2504.9172069414717\n"
     ]
    },
    {
     "name": "stdout",
     "output_type": "stream",
     "text": [
      "2\n"
     ]
    },
    {
     "name": "stderr",
     "output_type": "stream",
     "text": [
      "Info: Params [0.16309781 0.28841232 8.41497421 1.57280423 2.38908771 0.10395874\n",
      " 0.10036702] gave -448.01410361484517\n"
     ]
    },
    {
     "name": "stdout",
     "output_type": "stream",
     "text": [
      "3\n"
     ]
    },
    {
     "name": "stderr",
     "output_type": "stream",
     "text": [
      "Info: Params [ 2.51972739  2.88957852 14.7833948   1.56394237  2.28876164  0.26248941\n",
      "  0.26484123] gave -3887.6395366846705\n"
     ]
    },
    {
     "name": "stdout",
     "output_type": "stream",
     "text": [
      "4\n"
     ]
    },
    {
     "name": "stderr",
     "output_type": "stream",
     "text": [
      "Info: Params [ 0.2822772   0.55940209 10.94257376  2.32422173  4.30256555  0.10145791\n",
      "  0.10522798] gave -293.6398452159288\n"
     ]
    },
    {
     "name": "stdout",
     "output_type": "stream",
     "text": [
      "5\n"
     ]
    },
    {
     "name": "stderr",
     "output_type": "stream",
     "text": [
      "Info: Params [ 2.15073525  2.66618239 15.          4.5216941   1.6090447   0.17236682\n",
      "  0.26108476] gave -1850.6548968448017\n"
     ]
    },
    {
     "name": "stdout",
     "output_type": "stream",
     "text": [
      "6\n"
     ]
    },
    {
     "name": "stderr",
     "output_type": "stream",
     "text": [
      "Info: Params [ 1.64806658  2.18240112 15.          2.37899771  4.25794417  0.22088792\n",
      "  0.23965863] gave -3003.8267159740362\n"
     ]
    },
    {
     "name": "stdout",
     "output_type": "stream",
     "text": [
      "7\n"
     ]
    },
    {
     "name": "stderr",
     "output_type": "stream",
     "text": [
      "Info: Params [1.82573185 1.84986109 5.17637267 0.55338685 0.90316712 0.24853295\n",
      " 0.27663498] gave -1768.7061353422835\n"
     ]
    },
    {
     "name": "stdout",
     "output_type": "stream",
     "text": [
      "8\n"
     ]
    },
    {
     "name": "stderr",
     "output_type": "stream",
     "text": [
      "Info: Params [ 2.05268567  2.64104507 14.69319927  5.5846235   4.40196627  0.20814465\n",
      "  0.253689  ] gave -1462.9157439327867\n"
     ]
    },
    {
     "name": "stdout",
     "output_type": "stream",
     "text": [
      "9\n"
     ]
    },
    {
     "name": "stderr",
     "output_type": "stream",
     "text": [
      "Info: Params [ 1.09398453  1.63979839 12.13201098  2.24057496  1.90803253  0.17210021\n",
      "  0.23798336] gave -2132.038180979439\n"
     ]
    },
    {
     "name": "stdout",
     "output_type": "stream",
     "text": [
      "10\n"
     ]
    },
    {
     "name": "stderr",
     "output_type": "stream",
     "text": [
      "Info: Params [0.12517054 0.07901083 8.0758899  0.96518314 1.26872958 0.14974624\n",
      " 0.12918644] gave -465.19490333938745\n"
     ]
    },
    {
     "name": "stdout",
     "output_type": "stream",
     "text": [
      "11\n"
     ]
    },
    {
     "name": "stderr",
     "output_type": "stream",
     "text": [
      "Info: Params [0.91878055 1.28644859 4.13541461 0.60293589 1.1667366  0.21381804\n",
      " 0.24737737] gave 28.3403575673984\n"
     ]
    },
    {
     "name": "stdout",
     "output_type": "stream",
     "text": [
      "12\n"
     ]
    },
    {
     "name": "stderr",
     "output_type": "stream",
     "text": [
      "Info: Params [0.35956097 1.03167766 9.09867122 2.13731727 4.5917089  0.10410582\n",
      " 0.1029738 ] gave -508.840068962912\n"
     ]
    },
    {
     "name": "stdout",
     "output_type": "stream",
     "text": [
      "13\n"
     ]
    },
    {
     "name": "stderr",
     "output_type": "stream",
     "text": [
      "Info: Params [0.03178308 0.53872209 6.34580357 0.50689698 0.64347457 0.17253306\n",
      " 0.17295532] gave -280.4333393590468\n"
     ]
    },
    {
     "name": "stdout",
     "output_type": "stream",
     "text": [
      "14\n"
     ]
    },
    {
     "name": "stderr",
     "output_type": "stream",
     "text": [
      "Info: Params [1.41807383 1.41199794 9.40007744 2.1977201  1.53252657 0.24733657\n",
      " 0.29194284] gave -1506.7530015539867\n"
     ]
    },
    {
     "name": "stdout",
     "output_type": "stream",
     "text": [
      "15\n"
     ]
    },
    {
     "name": "stderr",
     "output_type": "stream",
     "text": [
      "Info: Params [0.10058377 0.57562507 6.42676875 0.73320918 0.92451212 0.17002213\n",
      " 0.18525288] gave 224.01652837416347\n"
     ]
    },
    {
     "name": "stdout",
     "output_type": "stream",
     "text": [
      "16\n"
     ]
    },
    {
     "name": "stderr",
     "output_type": "stream",
     "text": [
      "Info: Params [ 0.47688978  0.64533856 14.31159249  2.84740645  5.50425295  0.10408397\n",
      "  0.10247512] gave -1642.8861315995564\n"
     ]
    },
    {
     "name": "stdout",
     "output_type": "stream",
     "text": [
      "17\n"
     ]
    },
    {
     "name": "stderr",
     "output_type": "stream",
     "text": [
      "Info: Params [0.39222032 0.94242838 5.72666869 0.68533091 1.99617923 0.14861963\n",
      " 0.11201038] gave 381.96696579073875\n"
     ]
    },
    {
     "name": "stdout",
     "output_type": "stream",
     "text": [
      "18\n"
     ]
    },
    {
     "name": "stderr",
     "output_type": "stream",
     "text": [
      "Info: Params [2.63846041 2.88122916 8.5666475  3.82062742 1.91054669 0.29161833\n",
      " 0.37348284] gave -2722.86592666391\n"
     ]
    },
    {
     "name": "stdout",
     "output_type": "stream",
     "text": [
      "19\n"
     ]
    },
    {
     "name": "stderr",
     "output_type": "stream",
     "text": [
      "Info: Params [ 0.35170832  0.63298354 13.32129235  4.51332153  5.99031624  0.10751493\n",
      "  0.12752767] gave -1425.5692710723054\n"
     ]
    },
    {
     "name": "stdout",
     "output_type": "stream",
     "text": [
      "20\n"
     ]
    },
    {
     "name": "stderr",
     "output_type": "stream",
     "text": [
      "Info: Params [0.22691042 0.         9.91555969 0.87105835 1.59759034 0.14667247\n",
      " 0.10092981] gave -584.9297124571781\n"
     ]
    },
    {
     "name": "stdout",
     "output_type": "stream",
     "text": [
      "21\n"
     ]
    },
    {
     "name": "stderr",
     "output_type": "stream",
     "text": [
      "Info: Params [0.27595505 0.60582804 6.85574698 1.4949834  2.7848678  0.11030486\n",
      " 0.10498299] gave 717.9022331365958\n"
     ]
    },
    {
     "name": "stdout",
     "output_type": "stream",
     "text": [
      "22\n"
     ]
    },
    {
     "name": "stderr",
     "output_type": "stream",
     "text": [
      "Info: Params [0.         0.16632713 7.56470202 0.50018217 0.77454695 0.16822159\n",
      " 0.15473928] gave -770.2382087039892\n"
     ]
    },
    {
     "name": "stdout",
     "output_type": "stream",
     "text": [
      "23\n"
     ]
    },
    {
     "name": "stderr",
     "output_type": "stream",
     "text": [
      "Info: Params [0.06142481 0.40703437 9.71440778 1.94185661 4.91531959 0.10302868\n",
      " 0.10469788] gave -98.4498894143629\n"
     ]
    },
    {
     "name": "stdout",
     "output_type": "stream",
     "text": [
      "24\n"
     ]
    },
    {
     "name": "stderr",
     "output_type": "stream",
     "text": [
      "Info: Params [0.19607625 0.71913028 4.19728975 0.50578871 2.19071211 0.15317107\n",
      " 0.1025272 ] gave 351.4541002080653\n"
     ]
    },
    {
     "name": "stdout",
     "output_type": "stream",
     "text": [
      "25\n"
     ]
    },
    {
     "name": "stderr",
     "output_type": "stream",
     "text": [
      "Info: Params [ 0.61937412  0.75937338 13.56289124  1.73796148  5.74864066  0.16357289\n",
      "  0.10244132] gave -684.6487028492136\n"
     ]
    },
    {
     "name": "stdout",
     "output_type": "stream",
     "text": [
      "26\n"
     ]
    },
    {
     "name": "stderr",
     "output_type": "stream",
     "text": [
      "Info: Params [1.14127227 1.54966965 9.43270874 0.91098369 5.72328227 0.17469708\n",
      " 0.10650184] gave -662.3523422740265\n"
     ]
    },
    {
     "name": "stdout",
     "output_type": "stream",
     "text": [
      "27\n"
     ]
    },
    {
     "name": "stderr",
     "output_type": "stream",
     "text": [
      "Info: Params [ 0.17341528  0.         15.          3.56808884  3.99949408  0.13906964\n",
      "  0.15858191] gave -1110.5435220894901\n"
     ]
    },
    {
     "name": "stdout",
     "output_type": "stream",
     "text": [
      "28\n"
     ]
    },
    {
     "name": "stderr",
     "output_type": "stream",
     "text": [
      "Info: Params [0.3263689  0.52304506 8.30908481 0.82508832 2.95851631 0.15708522\n",
      " 0.10566042] gave -49.83736285572022\n"
     ]
    },
    {
     "name": "stdout",
     "output_type": "stream",
     "text": [
      "29\n"
     ]
    },
    {
     "name": "stderr",
     "output_type": "stream",
     "text": [
      "Info: Params [0.11274207 0.10516878 7.6815036  1.51924126 1.99170085 0.10724152\n",
      " 0.10249145] gave 248.46006155752337\n"
     ]
    },
    {
     "name": "stdout",
     "output_type": "stream",
     "text": [
      "30\n"
     ]
    },
    {
     "name": "stderr",
     "output_type": "stream",
     "text": [
      "Info: Params [0.235452   0.09579992 8.19009284 0.76177242 0.90978784 0.16614903\n",
      " 0.1474397 ] gave -144.6258276416919\n"
     ]
    },
    {
     "name": "stdout",
     "output_type": "stream",
     "text": [
      "31\n"
     ]
    },
    {
     "name": "stderr",
     "output_type": "stream",
     "text": [
      "Info: Params [0.45699055 0.22501001 6.72848457 0.62412131 0.76761641 0.17531423\n",
      " 0.16890013] gave -38.24474826535288\n"
     ]
    },
    {
     "name": "stdout",
     "output_type": "stream",
     "text": [
      "32\n"
     ]
    },
    {
     "name": "stderr",
     "output_type": "stream",
     "text": [
      "Info: Params [0.11277569 0.10460281 7.70905125 1.53260148 1.99297068 0.10568812\n",
      " 0.10393029] gave 248.35287612974142\n"
     ]
    },
    {
     "name": "stdout",
     "output_type": "stream",
     "text": [
      "33\n"
     ]
    },
    {
     "name": "stderr",
     "output_type": "stream",
     "text": [
      "Info: Params [0.09524319 0.48871177 3.94971519 0.53218699 2.14249783 0.18788231\n",
      " 0.1083043 ] gave 578.2665992937193\n"
     ]
    },
    {
     "name": "stdout",
     "output_type": "stream",
     "text": [
      "           1    2    3    4    5    6    7    8    9    10  ...   25   26  \\\n",
      "Speed     1.0  1.0  1.0  1.0  1.0  1.0  1.0  1.0  1.0  1.0  ...  1.0  1.0   \n",
      "Accuracy  1.0  1.0  1.0  1.0  1.0  1.0  1.0  1.0  1.0  1.0  ...  1.0  1.0   \n",
      "\n",
      "           27   28   29   30   31   32   33   34  \n",
      "Speed     1.0  1.0  1.0  1.0  1.0  1.0  1.0  1.0  \n",
      "Accuracy  1.0  1.0  1.0  1.0  1.0  1.0  1.0  1.0  \n",
      "\n",
      "[2 rows x 34 columns]\n"
     ]
    }
   ],
   "source": [
    "data_dir = \"/Users/wangjiashun/Desktop/Reserach on SAT/datasets/transformed/Rae2014/sub\"\n",
    "sample_size = 34\n",
    "\n",
    "df_all = pd.DataFrame()\n",
    "valid_ratio_dfs = pd.DataFrame()\n",
    "\n",
    "for i in range(sample_size):\n",
    "    print(i)\n",
    "    path = os.path.join(data_dir+str(i+1)+\".csv\")\n",
    "    df = pd.read_csv(path, sep = \",\")\n",
    "    \n",
    "    counts_before = df['Cond'].value_counts()\n",
    "    df = df[df[\"Time\"]<5]\n",
    "    counts_after = df['Cond'].value_counts()\n",
    "    valid_ratio = counts_before/counts_after\n",
    "    valid_ratio_df = valid_ratio.to_frame(i+1)\n",
    "    valid_ratio_dfs = pd.concat((valid_ratio_dfs,valid_ratio_df), axis = 1)\n",
    "    \n",
    "    samp = Sample.from_pandas_dataframe(df, rt_column_name=\"Time\", choice_column_name=\"Correct\")\n",
    "    df = get_OUM_result_sub_2v2a2ter(samp)\n",
    "    df_all = pd.concat((df_all,df))\n",
    "    \n",
    "df_OUM = df_all.copy()\n",
    "df_OUM.to_csv(\"Parameter Estimates/OUM2v2a2terresultRae2014.csv\")\n",
    "print(valid_ratio_dfs)"
   ]
  },
  {
   "cell_type": "code",
   "execution_count": 15,
   "id": "aba3d4df",
   "metadata": {},
   "outputs": [
    {
     "name": "stdout",
     "output_type": "stream",
     "text": [
      "1\n"
     ]
    },
    {
     "name": "stderr",
     "output_type": "stream",
     "text": [
      "Info: Params [2.94560897 3.93992511 0.57078861 0.51585616 0.50707698 0.35473187\n",
      " 0.38860494] gave -263.30560636507795\n"
     ]
    },
    {
     "name": "stdout",
     "output_type": "stream",
     "text": [
      "1\n"
     ]
    },
    {
     "name": "stderr",
     "output_type": "stream",
     "text": [
      "Info: Params [2.40471985 2.41636323 5.21149223 0.52459233 0.92466267 0.3728582\n",
      " 0.35680505] gave -140.17575639357494\n"
     ]
    },
    {
     "name": "stdout",
     "output_type": "stream",
     "text": [
      "1\n"
     ]
    },
    {
     "name": "stderr",
     "output_type": "stream",
     "text": [
      "Info: Params [0.90068403 1.74844073 4.61046953 0.62712488 0.70767612 0.34590787\n",
      " 0.38502467] gave -17.890136608390506\n"
     ]
    },
    {
     "name": "stdout",
     "output_type": "stream",
     "text": [
      "1\n"
     ]
    },
    {
     "name": "stderr",
     "output_type": "stream",
     "text": [
      "Info: Params [2.34998466 2.81997097 3.76117274 0.60704874 0.54922217 0.33290157\n",
      " 0.39380656] gave -165.45776347394485\n"
     ]
    },
    {
     "name": "stdout",
     "output_type": "stream",
     "text": [
      "1\n"
     ]
    },
    {
     "name": "stderr",
     "output_type": "stream",
     "text": [
      "Info: Params [3.51705751 3.00571792 7.58130069 1.26674054 2.5416905  0.31901744\n",
      " 0.26684164] gave -178.80219411042836\n"
     ]
    },
    {
     "name": "stdout",
     "output_type": "stream",
     "text": [
      "1\n"
     ]
    },
    {
     "name": "stderr",
     "output_type": "stream",
     "text": [
      "Info: Params [3.26526079 3.28115636 5.18055161 0.63310193 1.00505094 0.34789681\n",
      " 0.33513932] gave -223.22599488914372\n"
     ]
    },
    {
     "name": "stdout",
     "output_type": "stream",
     "text": [
      "3\n"
     ]
    },
    {
     "name": "stderr",
     "output_type": "stream",
     "text": [
      "Info: Params [2.73872257 3.46888779 5.70373325 0.69284785 2.0288161  0.31295175\n",
      " 0.34649647] gave -190.995520878286\n"
     ]
    },
    {
     "name": "stdout",
     "output_type": "stream",
     "text": [
      "3\n"
     ]
    },
    {
     "name": "stderr",
     "output_type": "stream",
     "text": [
      "Info: Params [1.65473806 2.0786121  2.58526944 0.52967426 1.11555724 0.33035021\n",
      " 0.35165571] gave -39.92212124001581\n"
     ]
    },
    {
     "name": "stdout",
     "output_type": "stream",
     "text": [
      "3\n"
     ]
    },
    {
     "name": "stderr",
     "output_type": "stream",
     "text": [
      "Info: Params [1.57116111 1.88035911 3.7039991  0.61714948 1.53489599 0.32253713\n",
      " 0.3441557 ] gave 12.958300435689637\n"
     ]
    },
    {
     "name": "stdout",
     "output_type": "stream",
     "text": [
      "3\n"
     ]
    },
    {
     "name": "stderr",
     "output_type": "stream",
     "text": [
      "Info: Params [1.92533737 2.15516348 3.10664382 0.81383153 3.37865239 0.28741253\n",
      " 0.10512706] gave 0.12626626463592316\n"
     ]
    },
    {
     "name": "stdout",
     "output_type": "stream",
     "text": [
      "3\n"
     ]
    },
    {
     "name": "stderr",
     "output_type": "stream",
     "text": [
      "Info: Params [3.0995046  2.12814355 2.36741379 0.71501463 2.00909158 0.30717609\n",
      " 0.22596604] gave -51.90551759494432\n"
     ]
    },
    {
     "name": "stdout",
     "output_type": "stream",
     "text": [
      "3\n"
     ]
    },
    {
     "name": "stderr",
     "output_type": "stream",
     "text": [
      "Info: Params [2.6957557  2.25069506 1.75021157 0.59320469 1.35912563 0.34390909\n",
      " 0.30484551] gave -64.43456674488661\n"
     ]
    },
    {
     "name": "stdout",
     "output_type": "stream",
     "text": [
      "4\n"
     ]
    },
    {
     "name": "stderr",
     "output_type": "stream",
     "text": [
      "Info: Params [4.05124744 3.78547509 5.33651524 0.50065139 1.21202036 0.32256725\n",
      " 0.29163564] gave -306.2749151510875\n"
     ]
    },
    {
     "name": "stdout",
     "output_type": "stream",
     "text": [
      "4\n"
     ]
    },
    {
     "name": "stderr",
     "output_type": "stream",
     "text": [
      "Info: Params [2.60494382 3.19053452 7.46551092 0.52646509 2.70415964 0.33116824\n",
      " 0.26692388] gave -215.20105751907545\n"
     ]
    },
    {
     "name": "stdout",
     "output_type": "stream",
     "text": [
      "4\n"
     ]
    },
    {
     "name": "stderr",
     "output_type": "stream",
     "text": [
      "Info: Params [1.72129347 2.0654762  4.87708305 0.50024999 1.14638127 0.33842973\n",
      " 0.31331225] gave -92.63082494653995\n"
     ]
    },
    {
     "name": "stdout",
     "output_type": "stream",
     "text": [
      "4\n"
     ]
    },
    {
     "name": "stderr",
     "output_type": "stream",
     "text": [
      "Info: Params [3.88679379 3.41638389 4.96873235 0.50625602 4.55531449 0.35571563\n",
      " 0.13246472] gave -237.85723609760774\n"
     ]
    },
    {
     "name": "stdout",
     "output_type": "stream",
     "text": [
      "4\n"
     ]
    },
    {
     "name": "stderr",
     "output_type": "stream",
     "text": [
      "Info: Params [3.79930794 2.38490031 2.10124198 0.50865505 0.71908213 0.33815457\n",
      " 0.34600015] gave -202.55029827706414\n"
     ]
    },
    {
     "name": "stdout",
     "output_type": "stream",
     "text": [
      "4\n"
     ]
    },
    {
     "name": "stderr",
     "output_type": "stream",
     "text": [
      "Info: Params [3.37376157 2.43026844 5.30514838 0.5163175  1.10306077 0.32567702\n",
      " 0.31937337] gave -198.50072100252333\n"
     ]
    },
    {
     "name": "stdout",
     "output_type": "stream",
     "text": [
      "5\n"
     ]
    },
    {
     "name": "stderr",
     "output_type": "stream",
     "text": [
      "Info: Params [4.29861933 3.82225472 3.75855559 0.50776499 2.50247839 0.32564499\n",
      " 0.24172626] gave -293.14688133673775\n"
     ]
    },
    {
     "name": "stdout",
     "output_type": "stream",
     "text": [
      "5\n"
     ]
    },
    {
     "name": "stderr",
     "output_type": "stream",
     "text": [
      "Info: Params [4.02503784 2.83778202 8.16801278 0.6951156  3.35046545 0.34854991\n",
      " 0.31667618] gave -225.2660722583076\n"
     ]
    },
    {
     "name": "stdout",
     "output_type": "stream",
     "text": [
      "5\n"
     ]
    },
    {
     "name": "stderr",
     "output_type": "stream",
     "text": [
      "Info: Params [2.3641425  3.36413838 6.95514391 0.69356213 2.37168484 0.33078984\n",
      " 0.36507571] gave -187.96280518271107\n"
     ]
    },
    {
     "name": "stdout",
     "output_type": "stream",
     "text": [
      "5\n"
     ]
    },
    {
     "name": "stderr",
     "output_type": "stream",
     "text": [
      "Info: Params [4.80782212 3.48007198 5.42655292 0.90247423 2.09594845 0.33648513\n",
      " 0.34725916] gave -269.8554387502079\n"
     ]
    },
    {
     "name": "stdout",
     "output_type": "stream",
     "text": [
      "5\n"
     ]
    },
    {
     "name": "stderr",
     "output_type": "stream",
     "text": [
      "Info: Params [4.68515443 2.74875154 5.07903247 0.5095135  1.33139775 0.37396791\n",
      " 0.42345189] gave -224.29187268451585\n"
     ]
    },
    {
     "name": "stdout",
     "output_type": "stream",
     "text": [
      "5\n"
     ]
    },
    {
     "name": "stderr",
     "output_type": "stream",
     "text": [
      "Info: Params [3.57842243 2.90506554 6.83759223 0.90802894 2.79686024 0.30124674\n",
      " 0.3252518 ] gave -197.9413483197991\n"
     ]
    },
    {
     "name": "stdout",
     "output_type": "stream",
     "text": [
      "6\n"
     ]
    },
    {
     "name": "stderr",
     "output_type": "stream",
     "text": [
      "Info: Params [2.55072264 3.05612507 7.12453442 0.87032423 1.05099105 0.25402614\n",
      " 0.3512223 ] gave -194.41341426640554\n"
     ]
    },
    {
     "name": "stdout",
     "output_type": "stream",
     "text": [
      "6\n"
     ]
    },
    {
     "name": "stderr",
     "output_type": "stream",
     "text": [
      "Info: Params [1.37394508 2.5151468  7.56740695 1.54018308 1.26597352 0.1764932\n",
      " 0.39559207] gave -80.19924121418848\n"
     ]
    },
    {
     "name": "stdout",
     "output_type": "stream",
     "text": [
      "6\n"
     ]
    },
    {
     "name": "stderr",
     "output_type": "stream",
     "text": [
      "Info: Params [0.50891219 1.58933554 6.11678487 1.08381818 0.90616273 0.18131876\n",
      " 0.41171115] gave 25.388702609915754\n"
     ]
    },
    {
     "name": "stdout",
     "output_type": "stream",
     "text": [
      "6\n"
     ]
    },
    {
     "name": "stderr",
     "output_type": "stream",
     "text": [
      "Info: Params [0.99900293 2.78684388 5.66679255 0.93401654 5.15502941 0.20670886\n",
      " 0.19616965] gave -40.29278205397423\n"
     ]
    },
    {
     "name": "stdout",
     "output_type": "stream",
     "text": [
      "6\n"
     ]
    },
    {
     "name": "stderr",
     "output_type": "stream",
     "text": [
      "Info: Params [1.01432751 2.46363774 4.50976769 0.61950028 1.10607191 0.27685491\n",
      " 0.36322713] gave -45.38780179123452\n"
     ]
    },
    {
     "name": "stdout",
     "output_type": "stream",
     "text": [
      "6\n"
     ]
    },
    {
     "name": "stderr",
     "output_type": "stream",
     "text": [
      "Info: Params [0.68307212 2.65931441 6.29593098 1.96054729 1.86192548 0.10330442\n",
      " 0.30549942] gave -39.37319062633126\n"
     ]
    },
    {
     "name": "stdout",
     "output_type": "stream",
     "text": [
      "7\n"
     ]
    },
    {
     "name": "stderr",
     "output_type": "stream",
     "text": [
      "Info: Params [0.2308594  2.20957313 8.11673551 2.28559341 5.99719083 0.10229469\n",
      " 0.1147355 ] gave -22.255425156341794\n"
     ]
    },
    {
     "name": "stdout",
     "output_type": "stream",
     "text": [
      "7\n"
     ]
    },
    {
     "name": "stderr",
     "output_type": "stream",
     "text": [
      "Info: Params [0.         1.38056283 8.23685335 0.97114898 5.96019113 0.21432415\n",
      " 0.13528445] gave 5.413417893163331\n"
     ]
    },
    {
     "name": "stdout",
     "output_type": "stream",
     "text": [
      "7\n"
     ]
    },
    {
     "name": "stderr",
     "output_type": "stream",
     "text": [
      "Info: Params [0.         0.71216267 7.3240319  2.03426341 5.98204486 0.1054562\n",
      " 0.11427407] gave 72.57592003964302\n"
     ]
    },
    {
     "name": "stdout",
     "output_type": "stream",
     "text": [
      "7\n"
     ]
    },
    {
     "name": "stderr",
     "output_type": "stream",
     "text": [
      "Info: Params [1.86313683 1.69380994 3.62075922 0.62923185 1.30370858 0.24177507\n",
      " 0.2546781 ] gave -10.125898373159515\n"
     ]
    },
    {
     "name": "stdout",
     "output_type": "stream",
     "text": [
      "7\n"
     ]
    },
    {
     "name": "stderr",
     "output_type": "stream",
     "text": [
      "Info: Params [2.47009797 1.55840414 5.56324603 0.89179505 1.2914196  0.22799191\n",
      " 0.29976063] gave -43.90841495467322\n"
     ]
    },
    {
     "name": "stdout",
     "output_type": "stream",
     "text": [
      "7\n"
     ]
    },
    {
     "name": "stderr",
     "output_type": "stream",
     "text": [
      "Info: Params [1.97801758 1.93573316 4.65752652 0.71067336 1.00450761 0.24699013\n",
      " 0.31961301] gave -56.44515384502501\n"
     ]
    },
    {
     "name": "stdout",
     "output_type": "stream",
     "text": [
      "8\n"
     ]
    },
    {
     "name": "stderr",
     "output_type": "stream",
     "text": [
      "Info: Params [0.72619768 2.11494363 2.48135682 0.76612178 1.58930706 0.16292636\n",
      " 0.31556759] gave 83.23308820214835\n"
     ]
    },
    {
     "name": "stdout",
     "output_type": "stream",
     "text": [
      "8\n"
     ]
    },
    {
     "name": "stderr",
     "output_type": "stream",
     "text": [
      "Info: Params [0.21682255 0.92212933 2.53820331 0.74960787 2.48252218 0.16587909\n",
      " 0.18975106] gave 221.4324476939715\n"
     ]
    },
    {
     "name": "stdout",
     "output_type": "stream",
     "text": [
      "8\n"
     ]
    },
    {
     "name": "stderr",
     "output_type": "stream",
     "text": [
      "Info: Params [0.         0.39059254 2.56524985 0.76660377 2.43287175 0.1758304\n",
      " 0.11780094] gave 275.4655761008429\n"
     ]
    },
    {
     "name": "stdout",
     "output_type": "stream",
     "text": [
      "8\n"
     ]
    },
    {
     "name": "stderr",
     "output_type": "stream",
     "text": [
      "Info: Params [0.59402487 1.07093628 1.47154813 0.66732928 1.68053217 0.18971665\n",
      " 0.18756656] gave 245.91337571275574\n"
     ]
    },
    {
     "name": "stdout",
     "output_type": "stream",
     "text": [
      "8\n"
     ]
    },
    {
     "name": "stderr",
     "output_type": "stream",
     "text": [
      "Info: Params [0.49411411 1.34294709 1.67222423 0.64403952 2.23456244 0.1920985\n",
      " 0.10454068] gave 189.22517369654759\n"
     ]
    },
    {
     "name": "stdout",
     "output_type": "stream",
     "text": [
      "8\n"
     ]
    },
    {
     "name": "stderr",
     "output_type": "stream",
     "text": [
      "Info: Params [0.39974241 1.27412604 1.24579659 0.594972   1.74991747 0.22774617\n",
      " 0.10840528] gave 205.0285695742782\n"
     ]
    },
    {
     "name": "stdout",
     "output_type": "stream",
     "text": [
      "9\n"
     ]
    },
    {
     "name": "stderr",
     "output_type": "stream",
     "text": [
      "Info: Params [4.24226893 2.85727877 4.22767857 0.51288071 1.22602054 0.38185409\n",
      " 0.36414193] gave -257.3222765695281\n"
     ]
    },
    {
     "name": "stdout",
     "output_type": "stream",
     "text": [
      "9\n"
     ]
    },
    {
     "name": "stderr",
     "output_type": "stream",
     "text": [
      "Info: Params [2.07757258 2.00101876 2.67041242 0.50410007 1.66405297 0.38466434\n",
      " 0.29851314] gave -20.87874661653698\n"
     ]
    },
    {
     "name": "stdout",
     "output_type": "stream",
     "text": [
      "9\n"
     ]
    },
    {
     "name": "stderr",
     "output_type": "stream",
     "text": [
      "Info: Params [0.8514044  1.40612071 3.26617204 0.50748942 1.28776257 0.39534329\n",
      " 0.35946128] gave 50.61114402097054\n"
     ]
    },
    {
     "name": "stdout",
     "output_type": "stream",
     "text": [
      "9\n"
     ]
    },
    {
     "name": "stderr",
     "output_type": "stream",
     "text": [
      "Info: Params [ 3.34521099  2.1156468  -0.42431373  0.50566989  0.72334171  0.38334345\n",
      "  0.42323355] gave -117.09825624485424\n"
     ]
    },
    {
     "name": "stdout",
     "output_type": "stream",
     "text": [
      "9\n"
     ]
    },
    {
     "name": "stderr",
     "output_type": "stream",
     "text": [
      "Info: Params [3.1455418  1.95463445 3.47585095 0.51568392 3.29942436 0.39093048\n",
      " 0.13986177] gave -86.98720992465803\n"
     ]
    },
    {
     "name": "stdout",
     "output_type": "stream",
     "text": [
      "9\n"
     ]
    },
    {
     "name": "stderr",
     "output_type": "stream",
     "text": [
      "Info: Params [3.49407692 2.46901274 3.00378113 0.50505933 1.28946385 0.40882716\n",
      " 0.36618788] gave -157.43330319819353\n"
     ]
    },
    {
     "name": "stdout",
     "output_type": "stream",
     "text": [
      "10\n"
     ]
    },
    {
     "name": "stderr",
     "output_type": "stream",
     "text": [
      "Info: Params [2.75701372 4.26720247 5.21424507 0.5913597  1.19274292 0.29933596\n",
      " 0.33383257] gave -547.3621790021964\n"
     ]
    },
    {
     "name": "stdout",
     "output_type": "stream",
     "text": [
      "10\n"
     ]
    },
    {
     "name": "stderr",
     "output_type": "stream",
     "text": [
      "Info: Params [1.50788859 3.02936188 5.67425273 0.7311692  1.20761632 0.27247845\n",
      " 0.34288319] gave -168.41223682056443\n"
     ]
    },
    {
     "name": "stdout",
     "output_type": "stream",
     "text": [
      "10\n"
     ]
    },
    {
     "name": "stderr",
     "output_type": "stream",
     "text": [
      "Info: Params [0.6597312  1.95333966 5.14911348 0.58119649 1.02146086 0.28927616\n",
      " 0.3513066 ] gave -69.39014696888736\n"
     ]
    },
    {
     "name": "stdout",
     "output_type": "stream",
     "text": [
      "10\n"
     ]
    },
    {
     "name": "stderr",
     "output_type": "stream",
     "text": [
      "Info: Params [2.21796707 2.48117322 3.20303235 0.61656024 1.01691088 0.27113045\n",
      " 0.33411952] gave -220.40898690404867\n"
     ]
    },
    {
     "name": "stdout",
     "output_type": "stream",
     "text": [
      "10\n"
     ]
    },
    {
     "name": "stderr",
     "output_type": "stream",
     "text": [
      "Info: Params [2.63628949 2.44466235 3.15727275 0.64621713 1.43347807 0.27577908\n",
      " 0.29072915] gave -231.78917927590808\n"
     ]
    },
    {
     "name": "stdout",
     "output_type": "stream",
     "text": [
      "10\n"
     ]
    },
    {
     "name": "stderr",
     "output_type": "stream",
     "text": [
      "Info: Params [2.5146218  2.84838981 2.96472533 0.5793365  1.12015478 0.28689161\n",
      " 0.33855751] gave -294.4851309660354\n"
     ]
    },
    {
     "name": "stdout",
     "output_type": "stream",
     "text": [
      "11\n"
     ]
    },
    {
     "name": "stderr",
     "output_type": "stream",
     "text": [
      "Info: Params [ 3.72892898  4.46313983 11.36961051  0.84067559  3.73540113  0.33388233\n",
      "  0.29713348] gave -632.5824789473143\n"
     ]
    },
    {
     "name": "stdout",
     "output_type": "stream",
     "text": [
      "11\n"
     ]
    },
    {
     "name": "stderr",
     "output_type": "stream",
     "text": [
      "Info: Params [1.16670947 2.48213529 6.75873081 0.59894462 0.86160399 0.34709692\n",
      " 0.39431282] gave -251.44311425778807\n"
     ]
    },
    {
     "name": "stdout",
     "output_type": "stream",
     "text": [
      "11\n"
     ]
    },
    {
     "name": "stderr",
     "output_type": "stream",
     "text": [
      "Info: Params [0.77519246 1.59619222 5.75687589 0.53365452 1.22554884 0.33725052\n",
      " 0.34904643] gave -67.1406201382764\n"
     ]
    },
    {
     "name": "stdout",
     "output_type": "stream",
     "text": [
      "11\n"
     ]
    },
    {
     "name": "stderr",
     "output_type": "stream",
     "text": [
      "Info: Params [1.57904279 2.57219716 5.34175282 0.59131004 1.73901182 0.34136487\n",
      " 0.31824988] gave -215.519004338575\n"
     ]
    },
    {
     "name": "stdout",
     "output_type": "stream",
     "text": [
      "11\n"
     ]
    },
    {
     "name": "stderr",
     "output_type": "stream",
     "text": [
      "Info: Params [2.15673286 2.78370322 6.33065734 0.66488181 4.02292187 0.3310605\n",
      " 0.24127218] gave -293.97294375799504\n"
     ]
    },
    {
     "name": "stdout",
     "output_type": "stream",
     "text": [
      "11\n"
     ]
    },
    {
     "name": "stderr",
     "output_type": "stream",
     "text": [
      "Info: Params [2.47318968 2.35520115 3.39010905 0.55779997 0.87094353 0.35420836\n",
      " 0.37571455] gave -285.2448334266785\n"
     ]
    },
    {
     "name": "stdout",
     "output_type": "stream",
     "text": [
      "12\n"
     ]
    },
    {
     "name": "stderr",
     "output_type": "stream",
     "text": [
      "Info: Params [2.28473693 2.36554993 4.76451945 1.34017193 1.23017865 0.20001137\n",
      " 0.28681382] gave -197.80430679938723\n"
     ]
    },
    {
     "name": "stdout",
     "output_type": "stream",
     "text": [
      "12\n"
     ]
    },
    {
     "name": "stderr",
     "output_type": "stream",
     "text": [
      "Info: Params [1.53984741 1.24961274 3.00532339 0.57701432 1.00970147 0.32834431\n",
      " 0.32044932] gave 53.54368444252363\n"
     ]
    },
    {
     "name": "stdout",
     "output_type": "stream",
     "text": [
      "12\n"
     ]
    },
    {
     "name": "stderr",
     "output_type": "stream",
     "text": [
      "Info: Params [0.46311314 0.82827839 2.80693192 0.58798922 1.01120194 0.28703508\n",
      " 0.29266385] gave 234.83228735291655\n"
     ]
    },
    {
     "name": "stdout",
     "output_type": "stream",
     "text": [
      "12\n"
     ]
    },
    {
     "name": "stderr",
     "output_type": "stream",
     "text": [
      "Info: Params [1.534536   1.64782911 3.78345532 1.46495566 1.55399947 0.17862831\n",
      " 0.24953812] gave 129.42769424070667\n"
     ]
    },
    {
     "name": "stdout",
     "output_type": "stream",
     "text": [
      "12\n"
     ]
    },
    {
     "name": "stderr",
     "output_type": "stream",
     "text": [
      "Info: Params [1.44452343 1.77917448 3.69009627 1.31706275 1.48156025 0.17173635\n",
      " 0.27790056] gave 98.79094370447308\n"
     ]
    },
    {
     "name": "stdout",
     "output_type": "stream",
     "text": [
      "12\n"
     ]
    },
    {
     "name": "stderr",
     "output_type": "stream",
     "text": [
      "Info: Params [1.80617012 1.59551172 3.36666602 0.9850256  2.60113614 0.25092467\n",
      " 0.11322165] gave 90.06899304954385\n"
     ]
    },
    {
     "name": "stdout",
     "output_type": "stream",
     "text": [
      "13\n"
     ]
    },
    {
     "name": "stderr",
     "output_type": "stream",
     "text": [
      "Info: Params [1.99102586 2.10569112 2.92136868 0.65035348 1.36771233 0.31409491\n",
      " 0.28412036] gave -84.50217801643214\n"
     ]
    },
    {
     "name": "stdout",
     "output_type": "stream",
     "text": [
      "13\n"
     ]
    },
    {
     "name": "stderr",
     "output_type": "stream",
     "text": [
      "Info: Params [1.45012182 1.63406545 2.54790206 0.58969283 0.9993965  0.3477574\n",
      " 0.38930698] gave 13.878659436038475\n"
     ]
    },
    {
     "name": "stdout",
     "output_type": "stream",
     "text": [
      "13\n"
     ]
    },
    {
     "name": "stderr",
     "output_type": "stream",
     "text": [
      "Info: Params [0.50660862 0.8913119  3.03732597 0.60974409 1.23641063 0.34532469\n",
      " 0.31608471] gave 252.96350896844808\n"
     ]
    },
    {
     "name": "stdout",
     "output_type": "stream",
     "text": [
      "13\n"
     ]
    },
    {
     "name": "stderr",
     "output_type": "stream",
     "text": [
      "Info: Params [1.40990715 1.64562202 2.15978709 0.60385644 1.25284983 0.33425431\n",
      " 0.3194981 ] gave 91.73528219717647\n"
     ]
    },
    {
     "name": "stdout",
     "output_type": "stream",
     "text": [
      "13\n"
     ]
    },
    {
     "name": "stderr",
     "output_type": "stream",
     "text": [
      "Info: Params [1.91130139 1.60147229 2.27149334 0.66266664 1.2055904  0.33392413\n",
      " 0.34671282] gave 45.328998424816774\n"
     ]
    },
    {
     "name": "stdout",
     "output_type": "stream",
     "text": [
      "13\n"
     ]
    },
    {
     "name": "stderr",
     "output_type": "stream",
     "text": [
      "Info: Params [1.47870006 1.52016652 2.68591373 0.98556028 1.10801818 0.26011907\n",
      " 0.33580264] gave 103.14136342243293\n"
     ]
    },
    {
     "name": "stdout",
     "output_type": "stream",
     "text": [
      "14\n"
     ]
    },
    {
     "name": "stderr",
     "output_type": "stream",
     "text": [
      "Info: Params [3.28284729 2.56803776 2.91943598 0.75494418 1.84728264 0.28967651\n",
      " 0.22228108] gave -308.73015335749756\n"
     ]
    },
    {
     "name": "stdout",
     "output_type": "stream",
     "text": [
      "14\n"
     ]
    },
    {
     "name": "stderr",
     "output_type": "stream",
     "text": [
      "Info: Params [2.16701683 1.76722752 2.53699565 0.61167985 1.27276778 0.32348431\n",
      " 0.32493262] gave -24.88435564532724\n"
     ]
    },
    {
     "name": "stdout",
     "output_type": "stream",
     "text": [
      "14\n"
     ]
    },
    {
     "name": "stderr",
     "output_type": "stream",
     "text": [
      "Info: Params [1.46243397 1.36795007 2.49502942 0.5373968  2.23688548 0.35768464\n",
      " 0.1544051 ] gave 160.55235105576378\n"
     ]
    },
    {
     "name": "stdout",
     "output_type": "stream",
     "text": [
      "14\n"
     ]
    },
    {
     "name": "stderr",
     "output_type": "stream",
     "text": [
      "Info: Params [ 2.09760299  2.47498492 -4.56125322  0.50911722  0.65540878  0.37246526\n",
      "  0.47641727] gave -99.96807085945761\n"
     ]
    },
    {
     "name": "stdout",
     "output_type": "stream",
     "text": [
      "14\n"
     ]
    },
    {
     "name": "stderr",
     "output_type": "stream",
     "text": [
      "Info: Params [1.70356675 1.50336138 1.37649073 0.6817736  2.23937318 0.30631227\n",
      " 0.10848131] gave 196.30567658061503\n"
     ]
    },
    {
     "name": "stdout",
     "output_type": "stream",
     "text": [
      "14\n"
     ]
    },
    {
     "name": "stderr",
     "output_type": "stream",
     "text": [
      "Info: Params [ 2.13794397  1.80889171 -2.31703077  0.50998786  0.80705888  0.34658477\n",
      "  0.43137834] gave 46.77328530916923\n"
     ]
    },
    {
     "name": "stdout",
     "output_type": "stream",
     "text": [
      "15\n"
     ]
    },
    {
     "name": "stderr",
     "output_type": "stream",
     "text": [
      "Info: Params [2.3760023  2.36841916 1.79973932 0.55255651 1.21428581 0.33702514\n",
      " 0.34041108] gave -193.76896745306456\n"
     ]
    },
    {
     "name": "stdout",
     "output_type": "stream",
     "text": [
      "15\n"
     ]
    },
    {
     "name": "stderr",
     "output_type": "stream",
     "text": [
      "Info: Params [1.76632745 2.13685986 3.0350287  0.74599121 1.93453916 0.30518893\n",
      " 0.32126186] gave -28.721301337390003\n"
     ]
    },
    {
     "name": "stdout",
     "output_type": "stream",
     "text": [
      "15\n"
     ]
    },
    {
     "name": "stderr",
     "output_type": "stream",
     "text": [
      "Info: Params [0.85427074 1.22694324 2.68753355 0.57186773 1.52520551 0.3215778\n",
      " 0.35728191] gave 174.79504650857655\n"
     ]
    },
    {
     "name": "stdout",
     "output_type": "stream",
     "text": [
      "15\n"
     ]
    },
    {
     "name": "stderr",
     "output_type": "stream",
     "text": [
      "Info: Params [2.02831447 2.11192735 1.61151626 0.53741577 1.23123448 0.35241839\n",
      " 0.41937345] gave -111.04233869822639\n"
     ]
    },
    {
     "name": "stdout",
     "output_type": "stream",
     "text": [
      "15\n"
     ]
    },
    {
     "name": "stderr",
     "output_type": "stream",
     "text": [
      "Info: Params [1.68245909 1.87456849 1.98607278 0.64101849 1.52373456 0.31800859\n",
      " 0.34744362] gave 26.891565464891162\n"
     ]
    },
    {
     "name": "stdout",
     "output_type": "stream",
     "text": [
      "15\n"
     ]
    },
    {
     "name": "stderr",
     "output_type": "stream",
     "text": [
      "Info: Params [2.04268397 2.10939229 1.79152822 0.58381751 0.99333968 0.34212634\n",
      " 0.43231526] gave -117.73805187706385\n"
     ]
    },
    {
     "name": "stdout",
     "output_type": "stream",
     "text": [
      "16\n"
     ]
    },
    {
     "name": "stderr",
     "output_type": "stream",
     "text": [
      "Info: Params [1.51530231 2.74477161 4.56573203 0.73665505 1.130241   0.26185965\n",
      " 0.37680283] gave -75.33524454273321\n"
     ]
    },
    {
     "name": "stdout",
     "output_type": "stream",
     "text": [
      "16\n"
     ]
    },
    {
     "name": "stderr",
     "output_type": "stream",
     "text": [
      "Info: Params [1.1495312  1.82869027 2.86530573 0.81562235 1.10050186 0.2265229\n",
      " 0.38107813] gave 105.4285704475588\n"
     ]
    },
    {
     "name": "stdout",
     "output_type": "stream",
     "text": [
      "16\n"
     ]
    },
    {
     "name": "stderr",
     "output_type": "stream",
     "text": [
      "Info: Params [0.70190298 1.26800065 3.17547746 0.85331518 1.26261914 0.21101952\n",
      " 0.36558104] gave 277.69069857291254\n"
     ]
    },
    {
     "name": "stdout",
     "output_type": "stream",
     "text": [
      "16\n"
     ]
    },
    {
     "name": "stderr",
     "output_type": "stream",
     "text": [
      "Info: Params [1.15169955 1.9914027  3.68318393 0.91149939 1.66319355 0.22336646\n",
      " 0.34814665] gave 68.76920953875111\n"
     ]
    },
    {
     "name": "stdout",
     "output_type": "stream",
     "text": [
      "16\n"
     ]
    },
    {
     "name": "stderr",
     "output_type": "stream",
     "text": [
      "Info: Params [0.85955215 1.86104183 2.46125483 0.74335882 1.35629542 0.2384761\n",
      " 0.33438388] gave 162.71525060644865\n"
     ]
    },
    {
     "name": "stdout",
     "output_type": "stream",
     "text": [
      "16\n"
     ]
    },
    {
     "name": "stderr",
     "output_type": "stream",
     "text": [
      "Info: Params [0.99841605 1.98365282 3.13087621 0.98815495 1.21689512 0.20434952\n",
      " 0.35541089] gave 136.75342309485737\n"
     ]
    },
    {
     "name": "stdout",
     "output_type": "stream",
     "text": [
      "17\n"
     ]
    },
    {
     "name": "stderr",
     "output_type": "stream",
     "text": [
      "Info: Params [2.93015051 2.74277942 4.2285581  1.07424351 2.50188935 0.2896366\n",
      " 0.27659112] gave -305.9839986604953\n"
     ]
    },
    {
     "name": "stdout",
     "output_type": "stream",
     "text": [
      "17\n"
     ]
    },
    {
     "name": "stderr",
     "output_type": "stream",
     "text": [
      "Info: Params [2.6501057  2.40717162 2.819431   0.83617009 1.55065728 0.31682688\n",
      " 0.34118654] gave -199.807679305116\n"
     ]
    },
    {
     "name": "stdout",
     "output_type": "stream",
     "text": [
      "17\n"
     ]
    },
    {
     "name": "stderr",
     "output_type": "stream",
     "text": [
      "Info: Params [1.77225749 1.92701655 3.46731227 0.70167    1.42147991 0.3294628\n",
      " 0.38405184] gave -9.806328787549688\n"
     ]
    },
    {
     "name": "stdout",
     "output_type": "stream",
     "text": [
      "17\n"
     ]
    },
    {
     "name": "stderr",
     "output_type": "stream",
     "text": [
      "Info: Params [2.23689369 2.57748486 2.61264656 0.81431318 1.94883163 0.3140495\n",
      " 0.32255025] gave -144.9873708190909\n"
     ]
    },
    {
     "name": "stdout",
     "output_type": "stream",
     "text": [
      "17\n"
     ]
    },
    {
     "name": "stderr",
     "output_type": "stream",
     "text": [
      "Info: Params [2.53200261 2.27876626 2.89966623 0.80879838 1.57016073 0.33817396\n",
      " 0.36967753] gave -151.98621049967642\n"
     ]
    },
    {
     "name": "stdout",
     "output_type": "stream",
     "text": [
      "17\n"
     ]
    },
    {
     "name": "stderr",
     "output_type": "stream",
     "text": [
      "Info: Params [2.27858727 2.21092406 3.37823522 1.3118692  2.72405629 0.24788963\n",
      " 0.25332921] gave -62.220667529958654\n"
     ]
    },
    {
     "name": "stdout",
     "output_type": "stream",
     "text": [
      "           2    2    2    2    2    2    4    4    4    4   ...   17   17  \\\n",
      "Accuracy  1.0  1.0  1.0  1.0  1.0  1.0  1.0  1.0  1.0  1.0  ...  1.0  1.0   \n",
      "Speed     1.0  1.0  1.0  1.0  1.0  1.0  1.0  1.0  1.0  1.0  ...  1.0  1.0   \n",
      "\n",
      "           17   17   18   18   18   18   18   18  \n",
      "Accuracy  1.0  1.0  1.0  1.0  1.0  1.0  1.0  1.0  \n",
      "Speed     1.0  1.0  1.0  1.0  1.0  1.0  1.0  1.0  \n",
      "\n",
      "[2 rows x 96 columns]\n"
     ]
    }
   ],
   "source": [
    "path = \"/Users/wangjiashun/Desktop/Reserach on SAT/datasets/transformed/Wagenmakers2008/SpeedAccData_new.csv\"\n",
    "participants = [1,  3,  4,  5,  6,  7,  8,  9, 10, 11, 12, 13, 14, 15, 16, 17]\n",
    "\n",
    "\n",
    "df_all = pd.DataFrame()\n",
    "valid_ratio_dfs = pd.DataFrame()\n",
    "\n",
    "for i in participants:\n",
    "    for freq in range(1,7):\n",
    "        print(i)\n",
    "        df = pd.read_csv(path, sep = \",\")\n",
    "        df = df[df[\"Participant\"]==i]\n",
    "        df = df[df[\"Frequency\"]==freq]\n",
    "\n",
    "        counts_before = df['Cond'].value_counts()\n",
    "        df = df[df[\"Time\"]<5]\n",
    "        counts_after = df['Cond'].value_counts()\n",
    "        valid_ratio = counts_before/counts_after\n",
    "        valid_ratio_df = valid_ratio.to_frame(i+1)\n",
    "        valid_ratio_dfs = pd.concat((valid_ratio_dfs,valid_ratio_df), axis = 1)\n",
    "\n",
    "        samp = Sample.from_pandas_dataframe(df, rt_column_name=\"Time\", choice_column_name=\"Correct\")\n",
    "        df = get_OUM_result_sub_2v2a2ter(samp)\n",
    "        df['Frequency'] = freq\n",
    "        df[\"Participant\"]=i\n",
    "        df_all = pd.concat((df_all,df))\n",
    "    \n",
    "df_OUM = df_all.copy()\n",
    "df_OUM.to_csv(\"Parameter Estimates/OUM2v2a2terresultWagenmakers2008.csv\")\n",
    "print(valid_ratio_dfs)"
   ]
  },
  {
   "cell_type": "code",
   "execution_count": null,
   "id": "fc6f3ecc",
   "metadata": {},
   "outputs": [],
   "source": []
  },
  {
   "cell_type": "code",
   "execution_count": null,
   "id": "4d89f662",
   "metadata": {},
   "outputs": [],
   "source": []
  },
  {
   "cell_type": "code",
   "execution_count": 26,
   "id": "a93642c7",
   "metadata": {},
   "outputs": [],
   "source": [
    "class DriftLinearSATFreq(Drift):\n",
    "    name = \"DriftLinearSATFreq\"\n",
    "    required_parameters = ['V1Speed','V2Speed','V3Speed','V4Speed','V5Speed','V6Speed',\n",
    "                           'V1Acc','V2Acc','V3Acc','V4Acc','V5Acc','V6Acc', 'K']\n",
    "    required_conditions = ['Cond', 'Frequency']\n",
    "    def get_drift(self, x, t, conditions, **kwargs):\n",
    "        #print(conditions['Brightness'])\n",
    "        #print(conditions['Cond'])\n",
    "        if conditions['Cond'] == \"Speed\":\n",
    "            if conditions['Frequency'] == 1:\n",
    "                return self.V1Speed + x*self.K\n",
    "            elif conditions['Frequency'] == 2:\n",
    "                return self.V2Speed + x*self.K\n",
    "            elif conditions['Frequency'] == 3:\n",
    "                return self.V3Speed + x*self.K\n",
    "            elif conditions['Frequency'] == 4:\n",
    "                return self.V4Speed + x*self.K\n",
    "            elif conditions['Frequency'] == 5:\n",
    "                return self.V5Speed + x*self.K\n",
    "            elif conditions['Frequency'] == 6:\n",
    "                return self.V6Speed + x*self.K\n",
    "        elif conditions['Cond'] == \"Accuracy\":\n",
    "            if conditions['Frequency'] == 1:\n",
    "                return self.V1Acc + x*self.K\n",
    "            elif conditions['Frequency'] == 2:\n",
    "                return self.V2Acc + x*self.K\n",
    "            elif conditions['Frequency'] == 3:\n",
    "                return self.V3Acc + x*self.K\n",
    "            elif conditions['Frequency'] == 4:\n",
    "                return self.V4Acc + x*self.K\n",
    "            elif conditions['Frequency'] == 5:\n",
    "                return self.V5Acc + x*self.K\n",
    "            elif conditions['Frequency'] == 6:\n",
    "                return self.V6Acc + x*self.K\n",
    "        else:\n",
    "            print(\"Non-implemented conditions\")"
   ]
  },
  {
   "cell_type": "code",
   "execution_count": 27,
   "id": "7ab492ed",
   "metadata": {},
   "outputs": [],
   "source": [
    "def get_OUM_result_sub_2v2a2ter(samp, v = [0,6], a = [0.5,6], k = [-15,15], ter=[0.1,1], T_dur=5, dt=.01):\n",
    "    \n",
    "    model_fit = Model(name='Simple model (fitted)',\n",
    "                      drift=DriftLinearSATFreq(V1Speed= Fittable(minval=v[0], maxval=v[1]),\n",
    "                                             V2Speed= Fittable(minval=v[0], maxval=v[1]),\n",
    "                                             V3Speed= Fittable(minval=v[0], maxval=v[1]),\n",
    "                                             V4Speed= Fittable(minval=v[0], maxval=v[1]),\n",
    "                                             V5Speed= Fittable(minval=v[0], maxval=v[1]),\n",
    "                                             V6Speed= Fittable(minval=v[0], maxval=v[1]),\n",
    "                                             V1Acc  = Fittable(minval=v[0], maxval=v[1]),\n",
    "                                             V2Acc  = Fittable(minval=v[0], maxval=v[1]),\n",
    "                                             V3Acc  = Fittable(minval=v[0], maxval=v[1]),\n",
    "                                             V4Acc  = Fittable(minval=v[0], maxval=v[1]),\n",
    "                                             V5Acc  = Fittable(minval=v[0], maxval=v[1]),\n",
    "                                             V6Acc  = Fittable(minval=v[0], maxval=v[1]),\n",
    "                                             K = Fittable(minval=k[0], maxval=k[1])), \n",
    "                      noise=NoiseConstant(noise=1),\n",
    "                      bound=BoundSpeedAcc(\n",
    "                          Bspeed=Fittable(minval=a[0], maxval=a[1]),\n",
    "                          Bacc=Fittable(minval=a[0], maxval=a[1])),\n",
    "                      \n",
    "                      overlay=NondecisionSpeedAcc(\n",
    "                          tSpeed=Fittable(minval=ter[0], maxval=ter[1]),\n",
    "                          tAcc=Fittable(minval=ter[0], maxval=ter[1])),\n",
    "                      dx=.01, dt=dt, T_dur=T_dur)\n",
    "    fit_adjust_model(samp, model_fit,\n",
    "                     fitting_method=\"differential_evolution\",\n",
    "                     lossfunction=LossRobustBIC, verbose=False)\n",
    "    df = pd.DataFrame(data = np.array(model_fit.get_model_parameters()).reshape(1,17),\n",
    "                      columns = model_fit.get_model_parameter_names())\n",
    "    \n",
    "\n",
    "    df['BIC'] = model_fit.get_fit_result().value()\n",
    "    df = df.rename(columns={\n",
    "                            'Bspeed': 'Boundary Separation Speed',\n",
    "                            'Bacc': 'Boundary Separation Accuracy',\n",
    "                            'K': \"Self-excitation\",\n",
    "                            'tSpeed': 'Non-decision Time Speed',\n",
    "                            'tAcc': 'Non-decision Time Accuracy'})\n",
    "    return df"
   ]
  },
  {
   "cell_type": "code",
   "execution_count": 28,
   "id": "c5baddcf",
   "metadata": {},
   "outputs": [
    {
     "name": "stdout",
     "output_type": "stream",
     "text": [
      "1\n"
     ]
    },
    {
     "name": "stderr",
     "output_type": "stream",
     "text": [
      "Info: Params [2.93563495 2.45882333 0.91163597 2.69681762 2.85984067 3.29850548\n",
      " 4.12318177 2.52539673 1.75957527 3.00580648 2.7713329  3.45487419\n",
      " 6.33527592 0.76117266 1.16535971 0.33803183 0.33885449] gave -1038.5666303735973\n"
     ]
    },
    {
     "name": "stdout",
     "output_type": "stream",
     "text": [
      "3\n"
     ]
    },
    {
     "name": "stderr",
     "output_type": "stream",
     "text": [
      "Info: Params [2.90285255 1.69030813 1.62089325 1.899804   2.95072971 2.383294\n",
      " 3.10134027 2.14019289 1.87158424 2.29884599 2.15913731 2.22241807\n",
      " 3.81726257 0.79172641 4.07090388 0.29185423 0.13752108] gave -338.4850698541198\n"
     ]
    },
    {
     "name": "stdout",
     "output_type": "stream",
     "text": [
      "4\n"
     ]
    },
    {
     "name": "stderr",
     "output_type": "stream",
     "text": [
      "Info: Params [4.35931426 2.64851024 1.6944777  3.21891064 3.48798323 3.57323328\n",
      " 4.1686448  2.93410427 2.06182603 2.86444488 2.4295391  2.57222794\n",
      " 5.12840527 0.55672959 1.35404839 0.32511785 0.29586743] gave -1315.8337267853444\n"
     ]
    },
    {
     "name": "stdout",
     "output_type": "stream",
     "text": [
      "5\n"
     ]
    },
    {
     "name": "stderr",
     "output_type": "stream",
     "text": [
      "Info: Params [5.14816757 3.71578726 2.34511862 3.6717995  3.66904159 3.68628139\n",
      " 4.30209669 3.07244047 3.07294944 3.33234252 2.35450636 2.94135958\n",
      " 6.70445112 0.9363044  3.25297328 0.30790681 0.30527209] gave -1391.4918852866356\n"
     ]
    },
    {
     "name": "stdout",
     "output_type": "stream",
     "text": [
      "6\n"
     ]
    },
    {
     "name": "stderr",
     "output_type": "stream",
     "text": [
      "Info: Params [2.01517836 1.34193529 0.48503055 0.93738054 0.75817256 0.75110222\n",
      " 3.76007868 2.26914471 1.48338794 2.22399556 2.47799071 2.83495156\n",
      " 6.61775032 1.57624385 1.8157649  0.15058367 0.32942211] gave -393.7405841058079\n"
     ]
    },
    {
     "name": "stdout",
     "output_type": "stream",
     "text": [
      "7\n"
     ]
    },
    {
     "name": "stderr",
     "output_type": "stream",
     "text": [
      "Info: Params [4.26870271e-01 7.32599453e-04 3.75692708e-05 1.69155212e+00\n",
      " 2.10097186e+00 1.71189429e+00 2.50448776e+00 1.46185709e+00\n",
      " 7.35020604e-01 1.49641813e+00 1.47146919e+00 1.76883308e+00\n",
      " 6.57534983e+00 1.20983422e+00 5.25619051e+00 1.74954750e-01\n",
      " 1.06550227e-01] gave -3.7953749623961386\n"
     ]
    },
    {
     "name": "stdout",
     "output_type": "stream",
     "text": [
      "8\n"
     ]
    },
    {
     "name": "stderr",
     "output_type": "stream",
     "text": [
      "Info: Params [0.75499947 0.23768452 0.         0.59438701 0.49464733 0.36853683\n",
      " 1.86336416 0.86488304 0.43408908 1.06564164 1.27211286 1.37070284\n",
      " 2.05330446 0.73772031 2.31218818 0.17346764 0.11967207] gave 1175.2927954634745\n"
     ]
    },
    {
     "name": "stdout",
     "output_type": "stream",
     "text": [
      "9\n"
     ]
    },
    {
     "name": "stderr",
     "output_type": "stream",
     "text": [
      "Info: Params [4.32209671 2.06219776 0.80888885 2.99782385 2.93434392 3.0068464\n",
      " 2.88897192 1.88886779 1.43509244 1.9990251  2.00303422 2.31015083\n",
      " 2.92400385 0.50432264 1.71188403 0.38218023 0.2703829 ] gave -631.9224667481108\n"
     ]
    },
    {
     "name": "stdout",
     "output_type": "stream",
     "text": [
      "10\n"
     ]
    },
    {
     "name": "stderr",
     "output_type": "stream",
     "text": [
      "Info: Params [2.43984093 1.63861901 0.60593872 2.19254592 2.57492709 2.38755543\n",
      " 4.54035282 2.57191062 2.14146022 2.80407828 1.98869515 2.63834912\n",
      " 3.76278149 0.62035374 1.39117186 0.27141657 0.30181555] gave -1628.453911678148\n"
     ]
    },
    {
     "name": "stdout",
     "output_type": "stream",
     "text": [
      "11\n"
     ]
    },
    {
     "name": "stderr",
     "output_type": "stream",
     "text": [
      "Info: Params [3.65211932 1.15956415 0.8517901  1.50176322 2.1072548  2.17074625\n",
      " 4.68191081 2.56591749 1.68029609 2.37953806 2.28818129 2.31110626\n",
      " 5.62718183 0.61675553 1.397657   0.33425054 0.33476418] gave -1789.1481479114964\n"
     ]
    },
    {
     "name": "stdout",
     "output_type": "stream",
     "text": [
      "12\n"
     ]
    },
    {
     "name": "stderr",
     "output_type": "stream",
     "text": [
      "Info: Params [2.12476486 1.38073812 0.42995697 1.3962116  1.32572382 1.56512381\n",
      " 2.55608604 1.21165297 0.79829015 1.59239087 1.38501258 1.53794568\n",
      " 3.81669701 1.28432034 1.46376486 0.18493469 0.25535789] gave 479.0779112821235\n"
     ]
    },
    {
     "name": "stdout",
     "output_type": "stream",
     "text": [
      "13\n"
     ]
    },
    {
     "name": "stderr",
     "output_type": "stream",
     "text": [
      "Info: Params [2.18730758 1.33615794 0.44264106 1.37022874 1.72193922 1.21013166\n",
      " 2.06180599 1.59718092 0.96314273 1.63139124 1.43941012 1.6212325\n",
      " 2.73715654 0.71497357 1.26169481 0.3117827  0.31958084] gave 447.20763942263966\n"
     ]
    },
    {
     "name": "stdout",
     "output_type": "stream",
     "text": [
      "14\n"
     ]
    },
    {
     "name": "stderr",
     "output_type": "stream",
     "text": [
      "Info: Params [3.68982728 2.19202957 1.51024711 1.83544452 1.72180547 1.92962779\n",
      " 2.96060914 1.98113711 1.48064334 1.84555664 1.4033157  1.49653075\n",
      " 2.24858152 0.80760054 2.15422903 0.28664855 0.18956343] gave 112.64040724721856\n"
     ]
    },
    {
     "name": "stdout",
     "output_type": "stream",
     "text": [
      "15\n"
     ]
    },
    {
     "name": "stderr",
     "output_type": "stream",
     "text": [
      "Info: Params [2.39496257 1.76182371 0.91581625 1.88839207 1.68297058 1.91197686\n",
      " 2.6693017  2.06386641 1.24566033 1.85040222 1.79849333 2.14093829\n",
      " 2.74535724 0.72855272 1.62513884 0.30679601 0.34607223] gave -234.52170412287282\n"
     ]
    },
    {
     "name": "stdout",
     "output_type": "stream",
     "text": [
      "16\n"
     ]
    },
    {
     "name": "stderr",
     "output_type": "stream",
     "text": [
      "Info: Params [1.56682688 1.14203141 0.8068207  1.10886053 0.85837952 1.01948264\n",
      " 2.56308986 1.88104795 1.32413254 1.89068378 1.7729363  2.0858134\n",
      " 3.41660998 0.91060879 1.59901404 0.21364288 0.31237229] gave 555.6059704022437\n"
     ]
    },
    {
     "name": "stdout",
     "output_type": "stream",
     "text": [
      "17\n"
     ]
    },
    {
     "name": "stderr",
     "output_type": "stream",
     "text": [
      "Info: Params [3.1998312  2.50269948 1.93571781 2.11835612 2.25578986 2.17901927\n",
      " 3.23111922 2.49429478 2.05315751 2.29668092 2.19390212 2.16195041\n",
      " 3.76301828 1.17385922 2.66997038 0.26055734 0.27388975] gave -882.8029530221108\n"
     ]
    },
    {
     "ename": "NameError",
     "evalue": "name 'valid_ratio_dfs' is not defined",
     "output_type": "error",
     "traceback": [
      "\u001b[0;31m---------------------------------------------------------------------------\u001b[0m",
      "\u001b[0;31mNameError\u001b[0m                                 Traceback (most recent call last)",
      "Cell \u001b[0;32mIn[28], line 18\u001b[0m\n\u001b[1;32m     16\u001b[0m df_OUM \u001b[38;5;241m=\u001b[39m df_all\u001b[38;5;241m.\u001b[39mcopy()\n\u001b[1;32m     17\u001b[0m df_OUM\u001b[38;5;241m.\u001b[39mto_csv(\u001b[38;5;124m\"\u001b[39m\u001b[38;5;124mParameter Estimates/OUM2v2a2terCombinedresultWagenmakers2008.csv\u001b[39m\u001b[38;5;124m\"\u001b[39m)\n\u001b[0;32m---> 18\u001b[0m \u001b[38;5;28mprint\u001b[39m(valid_ratio_dfs)\n",
      "\u001b[0;31mNameError\u001b[0m: name 'valid_ratio_dfs' is not defined"
     ]
    }
   ],
   "source": [
    "path = \"/Users/wangjiashun/Desktop/Research_on_SAT/datasets/transformed/Wagenmakers2008/SpeedAccData_new.csv\"\n",
    "participants = [1,  3,  4,  5,  6,  7,  8,  9, 10, 11, 12, 13, 14, 15, 16, 17]\n",
    "df_all = pd.DataFrame()\n",
    "\n",
    "for i in participants:\n",
    "        print(i)\n",
    "        df = pd.read_csv(path, sep = \",\")\n",
    "        df = df[df[\"Participant\"]==i]\n",
    "        df = df[df[\"Time\"]<5]\n",
    "\n",
    "        samp = Sample.from_pandas_dataframe(df, rt_column_name=\"Time\", choice_column_name=\"Correct\")\n",
    "        df = get_OUM_result_sub_2v2a2ter(samp)\n",
    "        df[\"Participant\"]=i\n",
    "        df_all = pd.concat((df_all,df))\n",
    "    \n",
    "df_OUM = df_all.copy()\n",
    "df_OUM.to_csv(\"Parameter Estimates/OUM2v2a2terCombinedresultWagenmakers2008.csv\")\n",
    "#print(valid_ratio_dfs)"
   ]
  },
  {
   "cell_type": "code",
   "execution_count": null,
   "id": "b13e8786",
   "metadata": {},
   "outputs": [],
   "source": []
  },
  {
   "cell_type": "code",
   "execution_count": null,
   "id": "fd85a06f",
   "metadata": {},
   "outputs": [],
   "source": []
  }
 ],
 "metadata": {
  "kernelspec": {
   "display_name": "Python 3 (ipykernel)",
   "language": "python",
   "name": "python3"
  },
  "language_info": {
   "codemirror_mode": {
    "name": "ipython",
    "version": 3
   },
   "file_extension": ".py",
   "mimetype": "text/x-python",
   "name": "python",
   "nbconvert_exporter": "python",
   "pygments_lexer": "ipython3",
   "version": "3.11.4"
  }
 },
 "nbformat": 4,
 "nbformat_minor": 5
}
