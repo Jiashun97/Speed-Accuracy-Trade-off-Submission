{
 "cells": [
  {
   "cell_type": "code",
   "execution_count": 1,
   "id": "2cda49de",
   "metadata": {},
   "outputs": [],
   "source": [
    "%run SAT_help_functions.ipynb"
   ]
  },
  {
   "cell_type": "code",
   "execution_count": null,
   "id": "21316b10",
   "metadata": {},
   "outputs": [],
   "source": []
  },
  {
   "cell_type": "code",
   "execution_count": null,
   "id": "0236eadb",
   "metadata": {},
   "outputs": [],
   "source": []
  },
  {
   "cell_type": "code",
   "execution_count": 5,
   "id": "2f74752d",
   "metadata": {},
   "outputs": [],
   "source": []
  },
  {
   "cell_type": "markdown",
   "id": "4bd26666",
   "metadata": {},
   "source": [
    "## OUM"
   ]
  },
  {
   "cell_type": "code",
   "execution_count": 2,
   "id": "80376f45",
   "metadata": {},
   "outputs": [],
   "source": [
    "SAT_conds = [\"Speed\", \"Accuracy\"]"
   ]
  },
  {
   "cell_type": "code",
   "execution_count": 3,
   "id": "9ef6c434",
   "metadata": {
    "scrolled": true
   },
   "outputs": [
    {
     "name": "stdout",
     "output_type": "stream",
     "text": [
      "0\n"
     ]
    },
    {
     "name": "stderr",
     "output_type": "stream",
     "text": [
      "Info: Params [ 1.06516684  1.33057504  8.03371804 -2.1503562   5.48194854  0.65497426\n",
      "  0.10284034  0.37510825] gave 237.2559810108458\n"
     ]
    },
    {
     "name": "stdout",
     "output_type": "stream",
     "text": [
      "1\n"
     ]
    },
    {
     "name": "stderr",
     "output_type": "stream",
     "text": [
      "Info: Params [0.24739226 0.61089873 8.71050655 2.22541445 5.34068557 1.38845939\n",
      " 0.15839073 0.38086943] gave 436.66642091429685\n"
     ]
    },
    {
     "name": "stdout",
     "output_type": "stream",
     "text": [
      "2\n"
     ]
    },
    {
     "name": "stderr",
     "output_type": "stream",
     "text": [
      "Info: Params [1.58405643 1.70317685 6.9522223  3.73535235 0.96814393 1.31194091\n",
      " 0.23155864 0.3301717 ] gave -29.97981305507586\n"
     ]
    },
    {
     "name": "stdout",
     "output_type": "stream",
     "text": [
      "3\n"
     ]
    },
    {
     "name": "stderr",
     "output_type": "stream",
     "text": [
      "Info: Params [0.20581147 1.1510657  6.91993473 2.24270885 0.50507972 1.67040366\n",
      " 0.22178937 0.15345715] gave 251.85504974588943\n"
     ]
    },
    {
     "name": "stdout",
     "output_type": "stream",
     "text": [
      "4\n"
     ]
    },
    {
     "name": "stderr",
     "output_type": "stream",
     "text": [
      "Info: Params [0.81721058 1.50953635 7.06064829 3.83819845 2.2978808  1.0476028\n",
      " 0.12303974 0.31583396] gave 121.72063126079142\n"
     ]
    },
    {
     "name": "stdout",
     "output_type": "stream",
     "text": [
      "5\n"
     ]
    },
    {
     "name": "stderr",
     "output_type": "stream",
     "text": [
      "Info: Params [ 1.72089358  1.36922183 10.76007124  2.53417886  5.98263361  1.21859242\n",
      "  0.24712891  0.4611811 ] gave 24.539510241364248\n"
     ]
    },
    {
     "name": "stdout",
     "output_type": "stream",
     "text": [
      "6\n"
     ]
    },
    {
     "name": "stderr",
     "output_type": "stream",
     "text": [
      "Info: Params [0.95453058 1.76260217 6.17774265 4.76371083 1.42173005 1.27993729\n",
      " 0.18657791 0.29363525] gave 51.382346434428904\n"
     ]
    },
    {
     "name": "stdout",
     "output_type": "stream",
     "text": [
      "7\n"
     ]
    },
    {
     "name": "stderr",
     "output_type": "stream",
     "text": [
      "Info: Params [1.42023532 2.12655022 6.47286332 5.56315965 1.38401787 1.93083751\n",
      " 0.25745651 0.296398  ] gave -94.01124007271909\n"
     ]
    },
    {
     "name": "stdout",
     "output_type": "stream",
     "text": [
      "8\n"
     ]
    },
    {
     "name": "stderr",
     "output_type": "stream",
     "text": [
      "Info: Params [1.19937333 1.58422288 8.86064334 2.6743778  1.26815587 0.96994989\n",
      " 0.31245921 0.33719944] gave 13.590085661893845\n"
     ]
    },
    {
     "name": "stdout",
     "output_type": "stream",
     "text": [
      "9\n"
     ]
    },
    {
     "name": "stderr",
     "output_type": "stream",
     "text": [
      "Info: Params [0.39077614 1.04981642 8.24854352 2.01362639 2.68796285 1.52538086\n",
      " 0.13668774 0.38224778] gave 365.8066239498673\n"
     ]
    },
    {
     "name": "stdout",
     "output_type": "stream",
     "text": [
      "10\n"
     ]
    },
    {
     "name": "stderr",
     "output_type": "stream",
     "text": [
      "Info: Params [1.08631368 1.35906752 3.60356579 2.32761222 1.15142304 2.02045651\n",
      " 0.19040777 0.21439591] gave 391.6217074954834\n"
     ]
    },
    {
     "name": "stdout",
     "output_type": "stream",
     "text": [
      "11\n"
     ]
    },
    {
     "name": "stderr",
     "output_type": "stream",
     "text": [
      "Info: Params [1.52831994 1.24444923 9.36601451 3.08233693 4.22371467 1.10200251\n",
      " 0.19514445 0.36033031] gave 94.4596065971021\n"
     ]
    },
    {
     "name": "stdout",
     "output_type": "stream",
     "text": [
      "12\n"
     ]
    },
    {
     "name": "stderr",
     "output_type": "stream",
     "text": [
      "Info: Params [ 0.88969104  1.42135999  6.77840185 -0.90147081  1.17295291  0.63138941\n",
      "  0.20165984  0.29662878] gave 52.56764031899163\n"
     ]
    },
    {
     "name": "stdout",
     "output_type": "stream",
     "text": [
      "13\n"
     ]
    },
    {
     "name": "stderr",
     "output_type": "stream",
     "text": [
      "Info: Params [1.14985987 1.37729632 9.22727881 3.05767904 4.50567303 1.78109347\n",
      " 0.10568936 0.2156399 ] gave 173.05676644548967\n"
     ]
    },
    {
     "name": "stdout",
     "output_type": "stream",
     "text": [
      "14\n"
     ]
    },
    {
     "name": "stderr",
     "output_type": "stream",
     "text": [
      "Info: Params [0.77017184 1.23005077 5.58977011 4.46692557 0.81301359 1.31715071\n",
      " 0.215415   0.20319597] gave 130.00280712683895\n"
     ]
    },
    {
     "name": "stdout",
     "output_type": "stream",
     "text": [
      "15\n"
     ]
    },
    {
     "name": "stderr",
     "output_type": "stream",
     "text": [
      "Info: Params [1.31750624 2.12827674 6.60997149 2.59026643 0.83280778 1.27742386\n",
      " 0.23963967 0.27796959] gave -102.06286689124386\n"
     ]
    },
    {
     "name": "stdout",
     "output_type": "stream",
     "text": [
      "16\n"
     ]
    },
    {
     "name": "stderr",
     "output_type": "stream",
     "text": [
      "Info: Params [ 1.07311999  0.85788625 10.68361713  0.67260871  4.02032492  0.60803274\n",
      "  0.15365438  0.37664767] gave 119.99418024234677\n"
     ]
    },
    {
     "name": "stdout",
     "output_type": "stream",
     "text": [
      "17\n"
     ]
    },
    {
     "name": "stderr",
     "output_type": "stream",
     "text": [
      "Info: Params [1.91318115 1.9594854  5.44014955 3.49435719 0.76003358 0.97952103\n",
      " 0.28212676 0.32559852] gave -142.40442896140897\n"
     ]
    },
    {
     "name": "stdout",
     "output_type": "stream",
     "text": [
      "18\n"
     ]
    },
    {
     "name": "stderr",
     "output_type": "stream",
     "text": [
      "Info: Params [2.15048333 1.61549939 5.14145064 3.16663708 0.98660295 1.26609467\n",
      " 0.25199028 0.2446942 ] gave 16.670714261514796\n"
     ]
    },
    {
     "name": "stdout",
     "output_type": "stream",
     "text": [
      "19\n"
     ]
    },
    {
     "name": "stderr",
     "output_type": "stream",
     "text": [
      "Info: Params [0.106383   0.70577552 7.1055024  3.86617608 2.93510207 1.01424662\n",
      " 0.1046237  0.29083305] gave 305.3073573433242\n"
     ]
    },
    {
     "name": "stdout",
     "output_type": "stream",
     "text": [
      "           1    2    3    4    5    6    7    8    9    10   11   12   13  \\\n",
      "Accuracy  1.0  1.0  1.0  1.0  1.0  1.0  1.0  1.0  1.0  1.0  1.0  1.0  1.0   \n",
      "Speed     1.0  1.0  1.0  1.0  1.0  1.0  1.0  1.0  1.0  1.0  1.0  1.0  1.0   \n",
      "\n",
      "           14   15   16   17   18   19   20  \n",
      "Accuracy  1.0  1.0  1.0  1.0  1.0  1.0  1.0  \n",
      "Speed     1.0  1.0  1.0  1.0  1.0  1.0  1.0  \n"
     ]
    }
   ],
   "source": [
    "data_dir = \"/Users/wangjiashun/Desktop/Reserach on SAT/datasets/transformed/Dutilh2019/sub\"\n",
    "sample_size = 20\n",
    "\n",
    "df_all = pd.DataFrame()\n",
    "valid_ratio_dfs = pd.DataFrame()\n",
    "\n",
    "for i in range(sample_size):\n",
    "    print(i)\n",
    "    path = os.path.join(data_dir+str(i+1)+\".csv\")\n",
    "    df = pd.read_csv(path, sep = \",\")\n",
    "    \n",
    "    counts_before = df['Cond'].value_counts()\n",
    "    df = df[df[\"Time\"]<5]\n",
    "    counts_after = df['Cond'].value_counts()\n",
    "    valid_ratio = counts_before/counts_after\n",
    "    valid_ratio_df = valid_ratio.to_frame(i+1)\n",
    "    valid_ratio_dfs = pd.concat((valid_ratio_dfs,valid_ratio_df), axis = 1)\n",
    "    \n",
    "    samp = Sample.from_pandas_dataframe(df, rt_column_name=\"Time\", choice_column_name=\"Correct\")\n",
    "    df = get_OUM_result_sub_2v2a2k2ter(samp)\n",
    "    df_all = pd.concat((df_all,df))\n",
    "    \n",
    "df_OUM = df_all.copy()\n",
    "df_OUM.to_csv(\"Parameter Estimates/OUM2v2a2k2terresultDutilh2019.csv\")\n",
    "print(valid_ratio_dfs)\n"
   ]
  },
  {
   "cell_type": "code",
   "execution_count": 4,
   "id": "e776257c",
   "metadata": {},
   "outputs": [
    {
     "name": "stdout",
     "output_type": "stream",
     "text": [
      "0\n"
     ]
    },
    {
     "name": "stderr",
     "output_type": "stream",
     "text": [
      "Info: Params [ 0.20175743  0.94696254 12.09532553  5.10984661  5.91229665  1.41512249\n",
      "  0.15661682  0.29342337] gave -103.21600728178905\n"
     ]
    },
    {
     "name": "stdout",
     "output_type": "stream",
     "text": [
      "1\n"
     ]
    },
    {
     "name": "stderr",
     "output_type": "stream",
     "text": [
      "Info: Params [2.14895738 1.71804653 3.01965511 5.44327712 0.59888827 1.24986527\n",
      " 0.35270059 0.32247268] gave -202.14304788439372\n"
     ]
    },
    {
     "name": "stdout",
     "output_type": "stream",
     "text": [
      "2\n"
     ]
    },
    {
     "name": "stderr",
     "output_type": "stream",
     "text": [
      "Info: Params [0.         0.         2.4501122  4.37235396 1.46904009 5.44615699\n",
      " 0.10934966 0.32248551] gave 561.9219677472319\n"
     ]
    },
    {
     "name": "stdout",
     "output_type": "stream",
     "text": [
      "3\n"
     ]
    },
    {
     "name": "stderr",
     "output_type": "stream",
     "text": [
      "Info: Params [3.87199255 6.         3.49362337 5.71911642 0.76286991 4.46375189\n",
      " 0.33237848 0.21039283] gave -199.39655016597686\n"
     ]
    },
    {
     "name": "stdout",
     "output_type": "stream",
     "text": [
      "4\n"
     ]
    },
    {
     "name": "stderr",
     "output_type": "stream",
     "text": [
      "Info: Params [2.10283789 1.98824452 4.40051447 6.97569223 1.16355082 5.83191487\n",
      " 0.22614948 0.14409938] gave -85.32733279149119\n"
     ]
    },
    {
     "name": "stdout",
     "output_type": "stream",
     "text": [
      "5\n"
     ]
    },
    {
     "name": "stderr",
     "output_type": "stream",
     "text": [
      "Info: Params [ 1.57669554  2.03733271 10.74078584  5.67669779  5.97650668  5.39560713\n",
      "  0.15176138  0.13679927] gave -229.81925762828553\n"
     ]
    },
    {
     "name": "stdout",
     "output_type": "stream",
     "text": [
      "6\n"
     ]
    },
    {
     "name": "stderr",
     "output_type": "stream",
     "text": [
      "Info: Params [ 1.28838394  4.18382734 10.93038043  4.45974798  5.92806742  1.40102826\n",
      "  0.10525285  0.35279005] gave -475.303638196622\n"
     ]
    },
    {
     "name": "stdout",
     "output_type": "stream",
     "text": [
      "7\n"
     ]
    },
    {
     "name": "stderr",
     "output_type": "stream",
     "text": [
      "Info: Params [1.37607287 2.23563713 7.08859789 2.40524446 3.24518621 0.80522234\n",
      " 0.10322548 0.28037092] gave -154.20047197945328\n"
     ]
    },
    {
     "name": "stdout",
     "output_type": "stream",
     "text": [
      "8\n"
     ]
    },
    {
     "name": "stderr",
     "output_type": "stream",
     "text": [
      "Info: Params [0.84036063 1.52838494 6.39197288 6.07285754 3.64568471 1.71573894\n",
      " 0.10681104 0.26054441] gave 77.78994839741384\n"
     ]
    },
    {
     "name": "stdout",
     "output_type": "stream",
     "text": [
      "9\n"
     ]
    },
    {
     "name": "stderr",
     "output_type": "stream",
     "text": [
      "Info: Params [8.07609618e-03 3.35500494e-01 8.07790161e+00 3.91505702e+00\n",
      " 1.28697109e+00 1.36682336e+00 1.19123889e-01 1.98427734e-01] gave 270.37697220646214\n"
     ]
    },
    {
     "name": "stdout",
     "output_type": "stream",
     "text": [
      "10\n"
     ]
    },
    {
     "name": "stderr",
     "output_type": "stream",
     "text": [
      "Info: Params [3.23625169 3.8836265  8.0753958  4.81505853 5.89730159 2.47980761\n",
      " 0.23538134 0.30411637] gave -87.89406726170327\n"
     ]
    },
    {
     "name": "stdout",
     "output_type": "stream",
     "text": [
      "11\n"
     ]
    },
    {
     "name": "stderr",
     "output_type": "stream",
     "text": [
      "Info: Params [2.42545312 2.89602238 8.63466203 4.09705672 0.86358529 1.03887936\n",
      " 0.31728886 0.31227447] gave -686.6966770787009\n"
     ]
    },
    {
     "name": "stdout",
     "output_type": "stream",
     "text": [
      "12\n"
     ]
    },
    {
     "name": "stderr",
     "output_type": "stream",
     "text": [
      "Info: Params [ 4.32380432  3.41723969 11.2423362  14.73059642  4.08393947  5.32399331\n",
      "  0.22240864  0.24658364] gave -663.2859823386328\n"
     ]
    },
    {
     "name": "stdout",
     "output_type": "stream",
     "text": [
      "13\n"
     ]
    },
    {
     "name": "stderr",
     "output_type": "stream",
     "text": [
      "Info: Params [1.53425168 3.28791751 5.91859205 3.6618362  0.73263191 1.08939025\n",
      " 0.23478475 0.29532674] gave -408.8104131926824\n"
     ]
    },
    {
     "name": "stdout",
     "output_type": "stream",
     "text": [
      "14\n"
     ]
    },
    {
     "name": "stderr",
     "output_type": "stream",
     "text": [
      "Info: Params [ 0.42666523  0.07845601 10.29639492  5.24852573  5.53507613  4.46096003\n",
      "  0.17037088  0.10750757] gave 353.0373208285745\n"
     ]
    },
    {
     "name": "stdout",
     "output_type": "stream",
     "text": [
      "15\n"
     ]
    },
    {
     "name": "stderr",
     "output_type": "stream",
     "text": [
      "Info: Params [ 2.9291128   6.          6.55632048 10.6004945   0.78111674  4.55028534\n",
      "  0.33910857  0.28796516] gave -484.24253238370466\n"
     ]
    },
    {
     "name": "stdout",
     "output_type": "stream",
     "text": [
      "16\n"
     ]
    },
    {
     "name": "stderr",
     "output_type": "stream",
     "text": [
      "Info: Params [0.50692165 1.8479646  6.05814027 2.66081337 1.2226996  1.22149324\n",
      " 0.12691885 0.2265323 ] gave 319.897177362296\n"
     ]
    },
    {
     "name": "stdout",
     "output_type": "stream",
     "text": [
      "17\n"
     ]
    },
    {
     "name": "stderr",
     "output_type": "stream",
     "text": [
      "Info: Params [ 3.26187575  3.85798886 14.47471066  8.33283873  4.28839228  1.4478294\n",
      "  0.20825233  0.2539421 ] gave -1027.1946589775066\n"
     ]
    },
    {
     "name": "stdout",
     "output_type": "stream",
     "text": [
      "18\n"
     ]
    },
    {
     "name": "stderr",
     "output_type": "stream",
     "text": [
      "Info: Params [ 1.69789706  3.03946047  6.76227847 11.15967017  0.73125202  5.68650416\n",
      "  0.26962377  0.17668918] gave -339.4880816838288\n"
     ]
    },
    {
     "name": "stdout",
     "output_type": "stream",
     "text": [
      "19\n"
     ]
    },
    {
     "name": "stderr",
     "output_type": "stream",
     "text": [
      "Info: Params [ 1.76484898  3.20477317 13.03477723  5.59511916  5.60313549  0.94398306\n",
      "  0.14148922  0.28428566] gave -998.167876017148\n"
     ]
    },
    {
     "name": "stdout",
     "output_type": "stream",
     "text": [
      "20\n"
     ]
    },
    {
     "name": "stderr",
     "output_type": "stream",
     "text": [
      "Info: Params [ 0.40693214  2.7649091  14.23518219  9.23934111  5.00196108  5.80197945\n",
      "  0.11832274  0.1713117 ] gave -445.8227876027624\n"
     ]
    },
    {
     "name": "stdout",
     "output_type": "stream",
     "text": [
      "21\n"
     ]
    },
    {
     "name": "stderr",
     "output_type": "stream",
     "text": [
      "Info: Params [0.35644045 1.34995607 9.11751329 6.09885428 3.06599563 1.42959199\n",
      " 0.10472108 0.28596189] gave -10.952236728021013\n"
     ]
    },
    {
     "name": "stdout",
     "output_type": "stream",
     "text": [
      "22\n"
     ]
    },
    {
     "name": "stderr",
     "output_type": "stream",
     "text": [
      "Info: Params [ 3.69407642  6.         14.2090997  12.2957837   5.98654586  3.23834406\n",
      "  0.2260895   0.33478448] gave -260.771768696318\n"
     ]
    },
    {
     "name": "stdout",
     "output_type": "stream",
     "text": [
      "23\n"
     ]
    },
    {
     "name": "stderr",
     "output_type": "stream",
     "text": [
      "Info: Params [ 1.87249896  3.53806954 15.         11.09022319  1.2198303   0.71571942\n",
      "  0.21786978  0.3024461 ] gave -1209.955364038092\n"
     ]
    },
    {
     "name": "stdout",
     "output_type": "stream",
     "text": [
      "24\n"
     ]
    },
    {
     "name": "stderr",
     "output_type": "stream",
     "text": [
      "Info: Params [ 2.47634844  3.89900539 15.          5.47821891  2.83026409  0.76355289\n",
      "  0.22889855  0.32061974] gave -937.0165597065206\n"
     ]
    },
    {
     "name": "stdout",
     "output_type": "stream",
     "text": [
      "25\n"
     ]
    },
    {
     "name": "stderr",
     "output_type": "stream",
     "text": [
      "Info: Params [ 0.75047891  3.01713648 12.0055865   5.44074117  3.64630123  0.80168027\n",
      "  0.1089255   0.30769125] gave -648.4106403007371\n"
     ]
    },
    {
     "name": "stdout",
     "output_type": "stream",
     "text": [
      "26\n"
     ]
    },
    {
     "name": "stderr",
     "output_type": "stream",
     "text": [
      "Info: Params [5.76686358 3.06906998 5.16088509 8.97432004 5.49679812 3.71535751\n",
      " 0.12767912 0.21078631] gave -245.54691776628272\n"
     ]
    },
    {
     "name": "stdout",
     "output_type": "stream",
     "text": [
      "27\n"
     ]
    },
    {
     "name": "stderr",
     "output_type": "stream",
     "text": [
      "Info: Params [ 2.4943146   4.13770812 10.30319934 10.34997477  0.89830727  0.78485152\n",
      "  0.24145752  0.29704497] gave -952.532849626914\n"
     ]
    },
    {
     "name": "stdout",
     "output_type": "stream",
     "text": [
      "28\n"
     ]
    },
    {
     "name": "stderr",
     "output_type": "stream",
     "text": [
      "Info: Params [ 2.9550437   3.47897962 15.          7.3289657   2.88629657  0.51775895\n",
      "  0.21388808  0.31200754] gave -995.7969778490776\n"
     ]
    },
    {
     "name": "stdout",
     "output_type": "stream",
     "text": [
      "29\n"
     ]
    },
    {
     "name": "stderr",
     "output_type": "stream",
     "text": [
      "Info: Params [ 3.21407737  2.96540413 12.7598119   6.80254978  2.07887261  0.82166932\n",
      "  0.27797928  0.3168796 ] gave -772.6813193208754\n"
     ]
    },
    {
     "name": "stdout",
     "output_type": "stream",
     "text": [
      "30\n"
     ]
    },
    {
     "name": "stderr",
     "output_type": "stream",
     "text": [
      "Info: Params [ 1.74501272  4.42257562 10.34077891  7.71890895  4.77195173  3.1828264\n",
      "  0.13317467  0.21557266] gave -350.23443613424746\n"
     ]
    },
    {
     "name": "stdout",
     "output_type": "stream",
     "text": [
      "31\n"
     ]
    },
    {
     "name": "stderr",
     "output_type": "stream",
     "text": [
      "Info: Params [ 1.95211073  4.96501782 14.39589397 12.99733744  2.21056884  4.76275426\n",
      "  0.21607485  0.22030895] gave -1389.0473204767857\n"
     ]
    },
    {
     "name": "stdout",
     "output_type": "stream",
     "text": [
      "           1    2    3    4    5    6    7    8    9    10  ...   23   24  \\\n",
      "Speed     1.0  1.0  1.0  1.0  1.0  1.0  1.0  1.0  1.0  1.0  ...  1.0  1.0   \n",
      "Accuracy  1.0  1.0  1.0  1.0  1.0  1.0  1.0  1.0  1.0  1.0  ...  1.0  1.0   \n",
      "\n",
      "           25   26   27   28   29   30   31   32  \n",
      "Speed     1.0  1.0  1.0  1.0  1.0  1.0  1.0  1.0  \n",
      "Accuracy  1.0  1.0  1.0  1.0  1.0  1.0  1.0  1.0  \n",
      "\n",
      "[2 rows x 32 columns]\n"
     ]
    }
   ],
   "source": [
    "data_dir = \"/Users/wangjiashun/Desktop/Reserach on SAT/datasets/transformed/Dutilh2013/sub\"\n",
    "sample_size = 32\n",
    "\n",
    "df_all = pd.DataFrame()\n",
    "valid_ratio_dfs = pd.DataFrame()\n",
    "\n",
    "for i in range(sample_size):\n",
    "    print(i)\n",
    "    path = os.path.join(data_dir+str(i+1)+\".csv\")\n",
    "    df = pd.read_csv(path, sep = \",\")\n",
    "    \n",
    "    counts_before = df['Cond'].value_counts()\n",
    "    df = df[df[\"Time\"]<5]\n",
    "    counts_after = df['Cond'].value_counts()\n",
    "    valid_ratio = counts_before/counts_after\n",
    "    valid_ratio_df = valid_ratio.to_frame(i+1)\n",
    "    valid_ratio_dfs = pd.concat((valid_ratio_dfs,valid_ratio_df), axis = 1)\n",
    "    \n",
    "    samp = Sample.from_pandas_dataframe(df, rt_column_name=\"Time\", choice_column_name=\"Correct\")\n",
    "    df = get_OUM_result_sub_2v2a2k2ter(samp)\n",
    "    df_all = pd.concat((df_all,df))\n",
    "    \n",
    "df_OUM = df_all.copy()\n",
    "df_OUM.to_csv(\"Parameter Estimates/OUM2v2a2k2terresultDutilh2013.csv\")\n",
    "print(valid_ratio_dfs)"
   ]
  },
  {
   "cell_type": "code",
   "execution_count": 5,
   "id": "be2525bf",
   "metadata": {
    "scrolled": true
   },
   "outputs": [
    {
     "name": "stdout",
     "output_type": "stream",
     "text": [
      "0\n"
     ]
    },
    {
     "name": "stderr",
     "output_type": "stream",
     "text": [
      "Info: Params [ 0.72242653  0.93407879  5.13958562 -2.31233617  0.84201269  0.71593995\n",
      "  0.30156641  0.41729503] gave 500.2935269937533\n"
     ]
    },
    {
     "name": "stdout",
     "output_type": "stream",
     "text": [
      "1\n"
     ]
    },
    {
     "name": "stderr",
     "output_type": "stream",
     "text": [
      "Info: Params [  3.09527669   1.59896322   9.41134334 -12.37982605   4.83063437\n",
      "   0.54607585   0.31438462   0.56050378] gave 216.71713002689958\n"
     ]
    },
    {
     "name": "stdout",
     "output_type": "stream",
     "text": [
      "2\n"
     ]
    },
    {
     "name": "stderr",
     "output_type": "stream",
     "text": [
      "Info: Params [1.18320124 1.36621825 5.00326346 2.13063807 1.14345885 1.63458302\n",
      " 0.203381   0.18949144] gave 217.33986184136455\n"
     ]
    },
    {
     "name": "stdout",
     "output_type": "stream",
     "text": [
      "3\n"
     ]
    },
    {
     "name": "stderr",
     "output_type": "stream",
     "text": [
      "Info: Params [1.65930766 1.00867525 2.78520135 0.46583458 1.5165357  5.79947957\n",
      " 0.32526868 0.502948  ] gave 680.8134898392349\n"
     ]
    },
    {
     "name": "stdout",
     "output_type": "stream",
     "text": [
      "4\n"
     ]
    },
    {
     "name": "stderr",
     "output_type": "stream",
     "text": [
      "Info: Params [1.81843506 1.09552795 8.00977065 2.25569566 3.31811357 1.38547277\n",
      " 0.24225443 0.32993464] gave 208.71144939437778\n"
     ]
    },
    {
     "name": "stdout",
     "output_type": "stream",
     "text": [
      "5\n"
     ]
    },
    {
     "name": "stderr",
     "output_type": "stream",
     "text": [
      "Info: Params [1.4384446  0.94732952 4.70546533 0.4031833  0.89469387 0.98941427\n",
      " 0.40237795 0.47206959] gave 470.53072205348246\n"
     ]
    },
    {
     "name": "stdout",
     "output_type": "stream",
     "text": [
      "6\n"
     ]
    },
    {
     "name": "stderr",
     "output_type": "stream",
     "text": [
      "Info: Params [0.49449351 1.05549532 6.30432518 3.30321093 1.51931397 1.25172407\n",
      " 0.11822112 0.3066157 ] gave 338.6616628159154\n"
     ]
    },
    {
     "name": "stdout",
     "output_type": "stream",
     "text": [
      "7\n"
     ]
    },
    {
     "name": "stderr",
     "output_type": "stream",
     "text": [
      "Info: Params [1.94120028 1.96804798 6.14939732 2.73325436 1.04747247 1.68872637\n",
      " 0.39833286 0.41959505] gave -96.12230369106781\n"
     ]
    },
    {
     "name": "stdout",
     "output_type": "stream",
     "text": [
      "8\n"
     ]
    },
    {
     "name": "stderr",
     "output_type": "stream",
     "text": [
      "Info: Params [2.10131749 1.60080896 5.21535536 1.76166609 2.69659379 2.95138715\n",
      " 0.33690311 0.16911623] gave 159.91094901309808\n"
     ]
    },
    {
     "name": "stdout",
     "output_type": "stream",
     "text": [
      "9\n"
     ]
    },
    {
     "name": "stderr",
     "output_type": "stream",
     "text": [
      "Info: Params [0.73083936 0.46654009 1.48510453 1.44130031 0.78150217 1.36040511\n",
      " 0.35997817 0.28686333] gave 828.7562668802619\n"
     ]
    },
    {
     "name": "stdout",
     "output_type": "stream",
     "text": [
      "10\n"
     ]
    },
    {
     "name": "stderr",
     "output_type": "stream",
     "text": [
      "Info: Params [1.00444805 0.33575647 3.66452387 0.73497123 0.93546033 1.48302681\n",
      " 0.38311501 0.36479669] gave 914.532018618057\n"
     ]
    },
    {
     "name": "stdout",
     "output_type": "stream",
     "text": [
      "11\n"
     ]
    },
    {
     "name": "stderr",
     "output_type": "stream",
     "text": [
      "Info: Params [ 0.79072276  0.79145617  5.47242636 -0.75806502  2.18988097  0.90466361\n",
      "  0.1234168   0.47914349] gave 669.7512941302568\n"
     ]
    },
    {
     "name": "stdout",
     "output_type": "stream",
     "text": [
      "12\n"
     ]
    },
    {
     "name": "stderr",
     "output_type": "stream",
     "text": [
      "Info: Params [ 1.37788888  0.87789119  2.46104576 -3.40024362  1.21355263  0.80019214\n",
      "  0.3575022   0.50431405] gave 725.58633499001\n"
     ]
    },
    {
     "name": "stdout",
     "output_type": "stream",
     "text": [
      "13\n"
     ]
    },
    {
     "name": "stderr",
     "output_type": "stream",
     "text": [
      "Info: Params [0.44282963 0.62415246 1.4739594  1.22116788 1.05365509 1.52356041\n",
      " 0.35782843 0.31784889] gave 992.1125047066\n"
     ]
    },
    {
     "name": "stdout",
     "output_type": "stream",
     "text": [
      "14\n"
     ]
    },
    {
     "name": "stderr",
     "output_type": "stream",
     "text": [
      "Info: Params [0.60526791 0.45721505 3.63608406 0.6167274  1.56276541 1.23452552\n",
      " 0.12796933 0.26981007] gave 826.9729650280402\n"
     ]
    },
    {
     "name": "stdout",
     "output_type": "stream",
     "text": [
      "15\n"
     ]
    },
    {
     "name": "stderr",
     "output_type": "stream",
     "text": [
      "Info: Params [1.61202745 0.93359155 4.11542799 1.08570877 1.28767126 1.90302309\n",
      " 0.34176712 0.29207263] gave 604.6187932837213\n"
     ]
    },
    {
     "name": "stdout",
     "output_type": "stream",
     "text": [
      "16\n"
     ]
    },
    {
     "name": "stderr",
     "output_type": "stream",
     "text": [
      "Info: Params [  1.71271234   1.29515716   3.17688275 -13.48934785   1.25203349\n",
      "   0.50069167   0.3313935    0.46149553] gave 633.1409954529938\n"
     ]
    },
    {
     "name": "stdout",
     "output_type": "stream",
     "text": [
      "17\n"
     ]
    },
    {
     "name": "stderr",
     "output_type": "stream",
     "text": [
      "Info: Params [1.34851821 0.58956041 5.49888912 0.73160784 1.05766833 0.97783578\n",
      " 0.34757047 0.40407951] gave 506.094560561964\n"
     ]
    },
    {
     "name": "stdout",
     "output_type": "stream",
     "text": [
      "18\n"
     ]
    },
    {
     "name": "stderr",
     "output_type": "stream",
     "text": [
      "Info: Params [1.09891493 0.8921936  3.46982863 1.96018826 1.0171417  1.58009497\n",
      " 0.32926925 0.23805526] gave 583.1922006823997\n"
     ]
    },
    {
     "name": "stdout",
     "output_type": "stream",
     "text": [
      "19\n"
     ]
    },
    {
     "name": "stderr",
     "output_type": "stream",
     "text": [
      "Info: Params [0.48093601 0.41858191 1.21678217 0.72550727 1.55693393 1.87429658\n",
      " 0.11095874 0.12503398] gave 1283.1082743812292\n"
     ]
    },
    {
     "name": "stdout",
     "output_type": "stream",
     "text": [
      "20\n"
     ]
    },
    {
     "name": "stderr",
     "output_type": "stream",
     "text": [
      "Info: Params [ 2.29155029  1.26584829  5.97137247 -2.3268418   0.79484392  0.73059197\n",
      "  0.32144424  0.43403382] gave 113.04281204390206\n"
     ]
    },
    {
     "name": "stdout",
     "output_type": "stream",
     "text": [
      "21\n"
     ]
    },
    {
     "name": "stderr",
     "output_type": "stream",
     "text": [
      "Info: Params [1.9973957  1.15883166 5.3853317  1.28446978 3.07896894 1.42440286\n",
      " 0.22028442 0.38828234] gave 333.84898585552315\n"
     ]
    },
    {
     "name": "stdout",
     "output_type": "stream",
     "text": [
      "22\n"
     ]
    },
    {
     "name": "stderr",
     "output_type": "stream",
     "text": [
      "Info: Params [ 1.11452877  0.7027244   3.54603207 -1.40101641  1.31421931  0.81141543\n",
      "  0.30400946  0.50319183] gave 747.4913996044559\n"
     ]
    },
    {
     "name": "stdout",
     "output_type": "stream",
     "text": [
      "23\n"
     ]
    },
    {
     "name": "stderr",
     "output_type": "stream",
     "text": [
      "Info: Params [1.21114157 0.55641545 3.69059034 0.77241076 2.95186706 1.99530038\n",
      " 0.27871984 0.34985957] gave 856.9752342728887\n"
     ]
    },
    {
     "name": "stdout",
     "output_type": "stream",
     "text": [
      "24\n"
     ]
    },
    {
     "name": "stderr",
     "output_type": "stream",
     "text": [
      "Info: Params [0.99036447 1.14935035 3.03547337 1.65498901 1.77035241 1.66906838\n",
      " 0.25164171 0.33114474] gave 704.4137921934791\n"
     ]
    },
    {
     "name": "stdout",
     "output_type": "stream",
     "text": [
      "25\n"
     ]
    },
    {
     "name": "stderr",
     "output_type": "stream",
     "text": [
      "Info: Params [2.45203741 1.20725203 8.58515934 1.5332723  4.3791855  1.65136817\n",
      " 0.36880451 0.42056622] gave 179.44815054003766\n"
     ]
    },
    {
     "name": "stdout",
     "output_type": "stream",
     "text": [
      "26\n"
     ]
    },
    {
     "name": "stderr",
     "output_type": "stream",
     "text": [
      "Info: Params [ 1.01186228  1.05939936 13.54765304  1.97578602  1.12284062  1.8585067\n",
      "  0.32352751  0.49413738] gave 220.6541452814804\n"
     ]
    },
    {
     "name": "stdout",
     "output_type": "stream",
     "text": [
      "27\n"
     ]
    },
    {
     "name": "stderr",
     "output_type": "stream",
     "text": [
      "Info: Params [1.7779008  1.38329517 6.17956147 2.16898066 0.76044949 1.33628265\n",
      " 0.44366867 0.45948072] gave 133.73931418120588\n"
     ]
    },
    {
     "name": "stdout",
     "output_type": "stream",
     "text": [
      "28\n"
     ]
    },
    {
     "name": "stderr",
     "output_type": "stream",
     "text": [
      "Info: Params [ 1.65368375  1.86003398 11.45972311  2.66830662  5.78353011  1.69254849\n",
      "  0.20955111  0.35192279] gave -141.02498350681128\n"
     ]
    },
    {
     "name": "stdout",
     "output_type": "stream",
     "text": [
      "29\n"
     ]
    },
    {
     "name": "stderr",
     "output_type": "stream",
     "text": [
      "Info: Params [0.79894845 0.55691745 2.62768338 0.65574035 1.63962122 1.44856301\n",
      " 0.37376208 0.63571093] gave 1001.7679901146228\n"
     ]
    },
    {
     "name": "stdout",
     "output_type": "stream",
     "text": [
      "30\n"
     ]
    },
    {
     "name": "stderr",
     "output_type": "stream",
     "text": [
      "Info: Params [1.23961777 1.39437108 4.25330931 2.86407689 0.92302093 1.06056685\n",
      " 0.2816203  0.3706043 ] gave 210.6997826907924\n"
     ]
    },
    {
     "name": "stdout",
     "output_type": "stream",
     "text": [
      "31\n"
     ]
    },
    {
     "name": "stderr",
     "output_type": "stream",
     "text": [
      "Info: Params [ 1.48832658  1.55398126  2.31368523 -5.10999253  1.40658891  0.67375918\n",
      "  0.32715648  0.45110389] gave 543.9508682228442\n"
     ]
    },
    {
     "name": "stdout",
     "output_type": "stream",
     "text": [
      "32\n"
     ]
    },
    {
     "name": "stderr",
     "output_type": "stream",
     "text": [
      "Info: Params [1.69207992 1.45783163 4.1280635  1.93418457 0.99272659 1.76341\n",
      " 0.33483284 0.3559278 ] gave 265.48663902594967\n"
     ]
    },
    {
     "name": "stdout",
     "output_type": "stream",
     "text": [
      "33\n"
     ]
    },
    {
     "name": "stderr",
     "output_type": "stream",
     "text": [
      "Info: Params [  0.38318773   1.84434115  10.15428869 -10.95555202   4.70877144\n",
      "   0.50813754   0.10484481   0.58588838] gave 237.0100370616128\n"
     ]
    },
    {
     "name": "stdout",
     "output_type": "stream",
     "text": [
      "34\n"
     ]
    },
    {
     "name": "stderr",
     "output_type": "stream",
     "text": [
      "Info: Params [ 1.42182151  1.66400282 12.65359508  3.27648419  1.0870446   1.05845025\n",
      "  0.29066744  0.32225308] gave -143.15741167723564\n"
     ]
    },
    {
     "name": "stdout",
     "output_type": "stream",
     "text": [
      "35\n"
     ]
    },
    {
     "name": "stderr",
     "output_type": "stream",
     "text": [
      "Info: Params [ 1.75487322  0.93526428 15.         -0.53943167  1.56692929  0.76628838\n",
      "  0.3808631   0.52875446] gave 69.13688168248653\n"
     ]
    },
    {
     "name": "stdout",
     "output_type": "stream",
     "text": [
      "36\n"
     ]
    },
    {
     "name": "stderr",
     "output_type": "stream",
     "text": [
      "Info: Params [ 1.16664806  1.39731469  3.75280686 -4.4750489   2.33627263  0.66085707\n",
      "  0.14200927  0.42221652] gave 551.9286106091303\n"
     ]
    },
    {
     "name": "stdout",
     "output_type": "stream",
     "text": [
      "37\n"
     ]
    },
    {
     "name": "stderr",
     "output_type": "stream",
     "text": [
      "Info: Params [ 1.59583947  1.90915207 11.39378071  4.08829886  1.33848724  1.70370037\n",
      "  0.27138253  0.35198665] gave -86.42744620109211\n"
     ]
    },
    {
     "name": "stdout",
     "output_type": "stream",
     "text": [
      "38\n"
     ]
    },
    {
     "name": "stderr",
     "output_type": "stream",
     "text": [
      "Info: Params [ 1.99331057  1.84762593 11.76533671  2.80940036  5.7774061   1.33530326\n",
      "  0.20496538  0.41654926] gave -118.4073956453138\n"
     ]
    },
    {
     "name": "stdout",
     "output_type": "stream",
     "text": [
      "39\n"
     ]
    },
    {
     "name": "stderr",
     "output_type": "stream",
     "text": [
      "Info: Params [0.87590073 0.65912806 5.78770984 0.22323631 1.85111953 1.77399924\n",
      " 0.27461048 0.35218459] gave 638.976280141442\n"
     ]
    },
    {
     "name": "stdout",
     "output_type": "stream",
     "text": [
      "40\n"
     ]
    },
    {
     "name": "stderr",
     "output_type": "stream",
     "text": [
      "Info: Params [  2.45386219   1.48445407   7.32213819 -12.64799359   5.58886492\n",
      "   0.50546608   0.18016407   0.61364617] gave 279.461213702469\n"
     ]
    },
    {
     "name": "stdout",
     "output_type": "stream",
     "text": [
      "41\n"
     ]
    },
    {
     "name": "stderr",
     "output_type": "stream",
     "text": [
      "Info: Params [ 1.55756219  1.26052938  5.11023872 -6.29704625  0.7784366   0.6290292\n",
      "  0.33579885  0.42209128] gave 355.80617021405686\n"
     ]
    },
    {
     "name": "stdout",
     "output_type": "stream",
     "text": [
      "42\n"
     ]
    },
    {
     "name": "stderr",
     "output_type": "stream",
     "text": [
      "Info: Params [1.24734402 0.84205543 6.2393811  1.40221294 4.44189867 1.16823958\n",
      " 0.17921689 0.37698448] gave 495.7139171984514\n"
     ]
    },
    {
     "name": "stdout",
     "output_type": "stream",
     "text": [
      "43\n"
     ]
    },
    {
     "name": "stderr",
     "output_type": "stream",
     "text": [
      "Info: Params [0.67528024 0.62589919 4.39589427 1.08692238 2.46374194 2.05008072\n",
      " 0.1642977  0.10369988] gave 885.5891332496386\n"
     ]
    },
    {
     "name": "stdout",
     "output_type": "stream",
     "text": [
      "44\n"
     ]
    },
    {
     "name": "stderr",
     "output_type": "stream",
     "text": [
      "Info: Params [  2.11580528   1.45240916   3.26546531 -10.96402865   0.84969744\n",
      "   0.50965905   0.36434994   0.43669568] gave 360.64446198814795\n"
     ]
    },
    {
     "name": "stdout",
     "output_type": "stream",
     "text": [
      "45\n"
     ]
    },
    {
     "name": "stderr",
     "output_type": "stream",
     "text": [
      "Info: Params [1.18925364 1.09444128 4.22429988 1.16488744 1.199215   1.06017393\n",
      " 0.33813842 0.37366978] gave 378.17616458877035\n"
     ]
    },
    {
     "name": "stdout",
     "output_type": "stream",
     "text": [
      "46\n"
     ]
    },
    {
     "name": "stderr",
     "output_type": "stream",
     "text": [
      "Info: Params [1.72632664 0.88130344 4.10964423 0.63180581 1.24539175 1.83351793\n",
      " 0.27403065 0.41588061] gave 577.7058467868061\n"
     ]
    },
    {
     "name": "stdout",
     "output_type": "stream",
     "text": [
      "           1    2    3    4    5    6    7    8    9    10  ...   38   39  \\\n",
      "Accuracy  1.0  1.0  1.0  1.0  1.0  1.0  1.0  1.0  1.0  1.0  ...  1.0  1.0   \n",
      "Speed     1.0  1.0  1.0  1.0  1.0  1.0  1.0  1.0  1.0  1.0  ...  1.0  1.0   \n",
      "\n",
      "           40   41   42   43   44   45   46   47  \n",
      "Accuracy  1.0  1.0  1.0  1.0  1.0  1.0  1.0  1.0  \n",
      "Speed     1.0  1.0  1.0  1.0  1.0  1.0  1.0  1.0  \n",
      "\n",
      "[2 rows x 47 columns]\n"
     ]
    }
   ],
   "source": [
    "data_dir = \"/Users/wangjiashun/Desktop/Reserach on SAT/datasets/transformed/Evans2017/sub\"\n",
    "sample_size = 47\n",
    "\n",
    "df_all = pd.DataFrame()\n",
    "valid_ratio_dfs = pd.DataFrame()\n",
    "\n",
    "for i in range(sample_size):\n",
    "    print(i)\n",
    "    path = os.path.join(data_dir+str(i+1)+\".csv\")\n",
    "    df = pd.read_csv(path, sep = \",\")\n",
    "    \n",
    "    counts_before = df['Cond'].value_counts()\n",
    "    df = df[df[\"Time\"]<5]\n",
    "    counts_after = df['Cond'].value_counts()\n",
    "    valid_ratio = counts_before/counts_after\n",
    "    valid_ratio_df = valid_ratio.to_frame(i+1)\n",
    "    valid_ratio_dfs = pd.concat((valid_ratio_dfs,valid_ratio_df), axis = 1)\n",
    "    \n",
    "    samp = Sample.from_pandas_dataframe(df, rt_column_name=\"Time\", choice_column_name=\"Correct\")\n",
    "    df = get_OUM_result_sub_2v2a2k2ter(samp)\n",
    "    df_all = pd.concat((df_all,df))\n",
    "    \n",
    "df_OUM = df_all.copy()\n",
    "df_OUM.to_csv(\"Parameter Estimates/OUM2v2a2k2terresultEvans2017.csv\")\n",
    "print(valid_ratio_dfs)"
   ]
  },
  {
   "cell_type": "code",
   "execution_count": null,
   "id": "37140e6d",
   "metadata": {},
   "outputs": [],
   "source": []
  },
  {
   "cell_type": "code",
   "execution_count": 3,
   "id": "11deb9df",
   "metadata": {},
   "outputs": [
    {
     "name": "stderr",
     "output_type": "stream",
     "text": [
      "Warning: dt is large.  Estimated pdfs may be imprecise.  Decrease dt to 0.01 or less.\n"
     ]
    },
    {
     "name": "stdout",
     "output_type": "stream",
     "text": [
      "0\n"
     ]
    },
    {
     "name": "stderr",
     "output_type": "stream",
     "text": [
      "Info: Params [ 0.28896925  0.14737179  0.88139574 -3.33702363  2.27938473  1.12825903\n",
      "  0.54155945  0.91681867] gave 1011.6970934334922\n",
      "Warning: dt is large.  Estimated pdfs may be imprecise.  Decrease dt to 0.01 or less.\n"
     ]
    },
    {
     "name": "stdout",
     "output_type": "stream",
     "text": [
      "1\n"
     ]
    },
    {
     "name": "stderr",
     "output_type": "stream",
     "text": [
      "Info: Params [ 0.37138879  0.33899983  0.36458917 -5.09392611  5.80462755  0.93872167\n",
      "  0.23289095  0.99836913] gave 1068.1077727036643\n",
      "Warning: dt is large.  Estimated pdfs may be imprecise.  Decrease dt to 0.01 or less.\n"
     ]
    },
    {
     "name": "stdout",
     "output_type": "stream",
     "text": [
      "2\n"
     ]
    },
    {
     "name": "stderr",
     "output_type": "stream",
     "text": [
      "Info: Params [ 0.          0.03925337 -5.2460486   0.49480864  0.59703305  1.11713648\n",
      "  0.14610726  0.41526729] gave 476.5490816698442\n",
      "Warning: dt is large.  Estimated pdfs may be imprecise.  Decrease dt to 0.01 or less.\n"
     ]
    },
    {
     "name": "stdout",
     "output_type": "stream",
     "text": [
      "3\n"
     ]
    },
    {
     "name": "stderr",
     "output_type": "stream",
     "text": [
      "Info: Params [  0.10292166   0.17209366   0.20862085 -11.5120562    1.51620747\n",
      "   0.59189207   0.10455583   0.964705  ] gave 851.4400858933329\n",
      "Warning: dt is large.  Estimated pdfs may be imprecise.  Decrease dt to 0.01 or less.\n"
     ]
    },
    {
     "name": "stdout",
     "output_type": "stream",
     "text": [
      "4\n"
     ]
    },
    {
     "name": "stderr",
     "output_type": "stream",
     "text": [
      "Info: Params [ 0.19993986  0.15616859 -0.97541692 -0.72674738  1.55597196  1.85695691\n",
      "  0.97847578  0.80508261] gave 1190.6505536552208\n",
      "Warning: dt is large.  Estimated pdfs may be imprecise.  Decrease dt to 0.01 or less.\n"
     ]
    },
    {
     "name": "stdout",
     "output_type": "stream",
     "text": [
      "5\n"
     ]
    },
    {
     "name": "stderr",
     "output_type": "stream",
     "text": [
      "Info: Params [ 0.29661422  0.14534801  1.98876485 -0.29965383  2.91263712  2.3693621\n",
      "  0.63954431  0.95468238] gave 905.9092612331898\n",
      "Warning: dt is large.  Estimated pdfs may be imprecise.  Decrease dt to 0.01 or less.\n"
     ]
    },
    {
     "name": "stdout",
     "output_type": "stream",
     "text": [
      "6\n"
     ]
    },
    {
     "name": "stderr",
     "output_type": "stream",
     "text": [
      "Info: Params [0.24217259 0.25941552 3.16363933 0.52157818 1.70577586 2.50471165\n",
      " 0.26529785 0.86489309] gave 584.0569253736908\n",
      "Warning: dt is large.  Estimated pdfs may be imprecise.  Decrease dt to 0.01 or less.\n"
     ]
    },
    {
     "name": "stdout",
     "output_type": "stream",
     "text": [
      "7\n"
     ]
    },
    {
     "name": "stderr",
     "output_type": "stream",
     "text": [
      "Info: Params [0.28009704 0.32753705 2.66236108 0.80437182 1.02132596 3.97786963\n",
      " 0.69864466 0.20335819] gave 550.8957868386217\n",
      "Warning: dt is large.  Estimated pdfs may be imprecise.  Decrease dt to 0.01 or less.\n"
     ]
    },
    {
     "name": "stdout",
     "output_type": "stream",
     "text": [
      "8\n"
     ]
    },
    {
     "name": "stderr",
     "output_type": "stream",
     "text": [
      "Info: Params [  0.           0.03520091   2.38687278 -10.727309     1.32224661\n",
      "   0.57369765   0.1421292    0.14813767] gave 596.4069382953496\n",
      "Warning: dt is large.  Estimated pdfs may be imprecise.  Decrease dt to 0.01 or less.\n"
     ]
    },
    {
     "name": "stdout",
     "output_type": "stream",
     "text": [
      "9\n"
     ]
    },
    {
     "name": "stderr",
     "output_type": "stream",
     "text": [
      "Info: Params [ 2.38368796e-03  1.21265938e-01 -2.59766280e+00 -8.83761228e-02\n",
      "  9.54082270e-01  1.76677677e+00  1.72259507e-01  1.79315982e-01] gave 932.8652236640125\n",
      "Warning: dt is large.  Estimated pdfs may be imprecise.  Decrease dt to 0.01 or less.\n"
     ]
    },
    {
     "name": "stdout",
     "output_type": "stream",
     "text": [
      "10\n"
     ]
    },
    {
     "name": "stderr",
     "output_type": "stream",
     "text": [
      "Info: Params [ 0.80386417  0.36943432  2.2236596  -4.18928562  4.9932733   1.02367754\n",
      "  0.683632    0.95741796] gave 826.8690027487813\n",
      "Warning: dt is large.  Estimated pdfs may be imprecise.  Decrease dt to 0.01 or less.\n"
     ]
    },
    {
     "name": "stdout",
     "output_type": "stream",
     "text": [
      "11\n"
     ]
    },
    {
     "name": "stderr",
     "output_type": "stream",
     "text": [
      "Info: Params [ 0.          0.24247995  3.05526461 -8.127768    1.07425441  0.8437609\n",
      "  0.37744366  0.95657234] gave 807.57034631736\n",
      "Warning: dt is large.  Estimated pdfs may be imprecise.  Decrease dt to 0.01 or less.\n"
     ]
    },
    {
     "name": "stdout",
     "output_type": "stream",
     "text": [
      "12\n"
     ]
    },
    {
     "name": "stderr",
     "output_type": "stream",
     "text": [
      "Info: Params [0.28247597 0.28595362 1.65999016 0.4919878  2.15374032 2.5839407\n",
      " 0.59573831 0.85043423] gave 672.4449531506616\n",
      "Warning: dt is large.  Estimated pdfs may be imprecise.  Decrease dt to 0.01 or less.\n"
     ]
    },
    {
     "name": "stdout",
     "output_type": "stream",
     "text": [
      "13\n"
     ]
    },
    {
     "name": "stderr",
     "output_type": "stream",
     "text": [
      "Info: Params [ 0.25317205  0.34561153  1.01420619 -2.99515904  5.39009174  1.18750586\n",
      "  0.40917845  0.94259791] gave 948.79826249712\n",
      "Warning: dt is large.  Estimated pdfs may be imprecise.  Decrease dt to 0.01 or less.\n"
     ]
    },
    {
     "name": "stdout",
     "output_type": "stream",
     "text": [
      "14\n"
     ]
    },
    {
     "name": "stderr",
     "output_type": "stream",
     "text": [
      "Info: Params [ 0.09908165  0.34586385  1.10601117 -6.28491141  1.86847305  0.85958091\n",
      "  0.11637229  0.96256623] gave 922.3212392915902\n",
      "Warning: dt is large.  Estimated pdfs may be imprecise.  Decrease dt to 0.01 or less.\n"
     ]
    },
    {
     "name": "stdout",
     "output_type": "stream",
     "text": [
      "15\n"
     ]
    },
    {
     "name": "stderr",
     "output_type": "stream",
     "text": [
      "Info: Params [ 0.          0.21943654  2.51341999 -4.87142691  5.00061873  1.01590172\n",
      "  0.44317487  0.99687139] gave 930.7062532259877\n",
      "Warning: dt is large.  Estimated pdfs may be imprecise.  Decrease dt to 0.01 or less.\n"
     ]
    },
    {
     "name": "stdout",
     "output_type": "stream",
     "text": [
      "16\n"
     ]
    },
    {
     "name": "stderr",
     "output_type": "stream",
     "text": [
      "Info: Params [0.27703593 0.26325538 0.84333974 0.84778143 2.23465731 4.50104156\n",
      " 0.11044528 0.4810691 ] gave 724.8598760309164\n",
      "Warning: dt is large.  Estimated pdfs may be imprecise.  Decrease dt to 0.01 or less.\n"
     ]
    },
    {
     "name": "stdout",
     "output_type": "stream",
     "text": [
      "17\n"
     ]
    },
    {
     "name": "stderr",
     "output_type": "stream",
     "text": [
      "Info: Params [ 0.27263706  0.16952047  2.81993513 -1.79418007  2.70317817  1.1393013\n",
      "  0.12582254  0.28382408] gave 692.7184836578376\n",
      "Warning: dt is large.  Estimated pdfs may be imprecise.  Decrease dt to 0.01 or less.\n"
     ]
    },
    {
     "name": "stdout",
     "output_type": "stream",
     "text": [
      "18\n"
     ]
    },
    {
     "name": "stderr",
     "output_type": "stream",
     "text": [
      "Info: Params [0.23849074 0.12898794 0.86686803 0.47483095 4.01860459 3.7079016\n",
      " 0.24564009 0.34352405] gave 835.3472623269649\n",
      "Warning: dt is large.  Estimated pdfs may be imprecise.  Decrease dt to 0.01 or less.\n"
     ]
    },
    {
     "name": "stdout",
     "output_type": "stream",
     "text": [
      "19\n"
     ]
    },
    {
     "name": "stderr",
     "output_type": "stream",
     "text": [
      "Info: Params [ 0.25275791  0.64040376  1.43730252 -9.34421555  3.40636353  0.80099302\n",
      "  0.35174131  0.92840998] gave 971.8285142733407\n",
      "Warning: dt is large.  Estimated pdfs may be imprecise.  Decrease dt to 0.01 or less.\n"
     ]
    },
    {
     "name": "stdout",
     "output_type": "stream",
     "text": [
      "20\n"
     ]
    },
    {
     "name": "stderr",
     "output_type": "stream",
     "text": [
      "Info: Params [0.24817087 0.16576661 0.73961687 1.32975755 2.51023308 2.73169755\n",
      " 0.19652376 0.7497115 ] gave 683.5982246222948\n",
      "Warning: dt is large.  Estimated pdfs may be imprecise.  Decrease dt to 0.01 or less.\n"
     ]
    },
    {
     "name": "stdout",
     "output_type": "stream",
     "text": [
      "21\n"
     ]
    },
    {
     "name": "stderr",
     "output_type": "stream",
     "text": [
      "Info: Params [0.         0.0555802  1.12043789 2.39574424 1.15379286 4.01891968\n",
      " 0.33261748 0.2412013 ] gave 499.09144024030513\n",
      "Warning: dt is large.  Estimated pdfs may be imprecise.  Decrease dt to 0.01 or less.\n"
     ]
    },
    {
     "name": "stdout",
     "output_type": "stream",
     "text": [
      "22\n"
     ]
    },
    {
     "name": "stderr",
     "output_type": "stream",
     "text": [
      "Info: Params [0.3100044  0.17361974 3.77296556 0.29025554 1.47814669 3.70088006\n",
      " 0.31237943 0.25667517] gave 673.1203012217029\n",
      "Warning: dt is large.  Estimated pdfs may be imprecise.  Decrease dt to 0.01 or less.\n"
     ]
    },
    {
     "name": "stdout",
     "output_type": "stream",
     "text": [
      "23\n"
     ]
    },
    {
     "name": "stderr",
     "output_type": "stream",
     "text": [
      "Info: Params [  0.41611367   0.34363132 -14.20769853  -7.77335408   0.60992063\n",
      "   0.79477218   0.95769586   0.91279434] gave 1176.5191433582854\n",
      "Warning: dt is large.  Estimated pdfs may be imprecise.  Decrease dt to 0.01 or less.\n"
     ]
    },
    {
     "name": "stdout",
     "output_type": "stream",
     "text": [
      "24\n"
     ]
    },
    {
     "name": "stderr",
     "output_type": "stream",
     "text": [
      "Info: Params [0.49252973 0.0660063  8.41362281 2.23308527 3.67003211 2.47709543\n",
      " 0.33427227 0.38875709] gave 315.87951181879106\n",
      "Warning: dt is large.  Estimated pdfs may be imprecise.  Decrease dt to 0.01 or less.\n"
     ]
    },
    {
     "name": "stdout",
     "output_type": "stream",
     "text": [
      "25\n"
     ]
    },
    {
     "name": "stderr",
     "output_type": "stream",
     "text": [
      "Info: Params [  0.3018461    0.37092826   1.80706629 -14.86747746   1.13880092\n",
      "   0.61516199   0.42081902   0.13048149] gave 829.3803628167243\n",
      "Warning: dt is large.  Estimated pdfs may be imprecise.  Decrease dt to 0.01 or less.\n"
     ]
    },
    {
     "name": "stdout",
     "output_type": "stream",
     "text": [
      "26\n"
     ]
    },
    {
     "name": "stderr",
     "output_type": "stream",
     "text": [
      "Info: Params [0.16467726 0.17912072 1.03896417 0.21724986 3.21241273 4.05431879\n",
      " 0.10439675 0.97942336] gave 880.5894768129067\n",
      "Warning: dt is large.  Estimated pdfs may be imprecise.  Decrease dt to 0.01 or less.\n"
     ]
    },
    {
     "name": "stdout",
     "output_type": "stream",
     "text": [
      "27\n"
     ]
    },
    {
     "name": "stderr",
     "output_type": "stream",
     "text": [
      "Info: Params [ 0.25264775  0.44624616 -5.84308272 -7.81752052  0.72478623  0.81196908\n",
      "  0.10788168  0.9751553 ] gave 1045.9852703674248\n",
      "Warning: dt is large.  Estimated pdfs may be imprecise.  Decrease dt to 0.01 or less.\n"
     ]
    },
    {
     "name": "stdout",
     "output_type": "stream",
     "text": [
      "28\n"
     ]
    },
    {
     "name": "stderr",
     "output_type": "stream",
     "text": [
      "Info: Params [ 0.1604675   0.20516431  0.46675062 -3.41668065  3.92610588  1.16391942\n",
      "  0.4002413   0.97050019] gave 1139.7621702718168\n",
      "Warning: dt is large.  Estimated pdfs may be imprecise.  Decrease dt to 0.01 or less.\n"
     ]
    },
    {
     "name": "stdout",
     "output_type": "stream",
     "text": [
      "29\n"
     ]
    },
    {
     "name": "stderr",
     "output_type": "stream",
     "text": [
      "Info: Params [0.17645847 0.19871822 0.32472011 0.4592075  5.87473307 5.92245614\n",
      " 0.87186413 0.97480791] gave 909.1421939261973\n",
      "Warning: dt is large.  Estimated pdfs may be imprecise.  Decrease dt to 0.01 or less.\n"
     ]
    },
    {
     "name": "stdout",
     "output_type": "stream",
     "text": [
      "30\n"
     ]
    },
    {
     "name": "stderr",
     "output_type": "stream",
     "text": [
      "Info: Params [ 0.08526725  0.41689227  2.72694831 -5.42620803  1.0488823   0.80813585\n",
      "  0.10020452  0.98041093] gave 634.7034920007665\n",
      "Warning: dt is large.  Estimated pdfs may be imprecise.  Decrease dt to 0.01 or less.\n"
     ]
    },
    {
     "name": "stdout",
     "output_type": "stream",
     "text": [
      "31\n"
     ]
    },
    {
     "name": "stderr",
     "output_type": "stream",
     "text": [
      "Info: Params [ 0.26956582  0.27724806 -6.12789607 -4.54237239  0.69312269  0.9873049\n",
      "  0.11944135  0.55070671] gave 1009.5345350370799\n",
      "Warning: dt is large.  Estimated pdfs may be imprecise.  Decrease dt to 0.01 or less.\n"
     ]
    },
    {
     "name": "stdout",
     "output_type": "stream",
     "text": [
      "32\n"
     ]
    },
    {
     "name": "stderr",
     "output_type": "stream",
     "text": [
      "Info: Params [ 0.          0.46600396 -3.82200829 -0.03163535  0.50269517  1.69240773\n",
      "  0.14037532  0.59481553] gave 527.2357788454194\n",
      "Warning: dt is large.  Estimated pdfs may be imprecise.  Decrease dt to 0.01 or less.\n"
     ]
    },
    {
     "name": "stdout",
     "output_type": "stream",
     "text": [
      "33\n"
     ]
    },
    {
     "name": "stderr",
     "output_type": "stream",
     "text": [
      "Info: Params [0.04390992 0.12692928 1.78850695 0.75887818 2.34987494 3.17771906\n",
      " 0.11869433 0.93771339] gave 675.7977095375861\n",
      "Warning: dt is large.  Estimated pdfs may be imprecise.  Decrease dt to 0.01 or less.\n"
     ]
    },
    {
     "name": "stdout",
     "output_type": "stream",
     "text": [
      "34\n"
     ]
    },
    {
     "name": "stderr",
     "output_type": "stream",
     "text": [
      "Info: Params [ 0.24175982  0.64202957  0.84565228 -7.41382726  3.3358705   0.83153116\n",
      "  0.4054188   0.95769427] gave 959.390304039019\n",
      "Warning: dt is large.  Estimated pdfs may be imprecise.  Decrease dt to 0.01 or less.\n"
     ]
    },
    {
     "name": "stdout",
     "output_type": "stream",
     "text": [
      "35\n"
     ]
    },
    {
     "name": "stderr",
     "output_type": "stream",
     "text": [
      "Info: Params [ 0.44177799  0.43845071 -0.7804057  -4.70019051  1.62921002  0.99540339\n",
      "  0.67545574  0.90026763] gave 1090.5638549031687\n",
      "Warning: dt is large.  Estimated pdfs may be imprecise.  Decrease dt to 0.01 or less.\n"
     ]
    },
    {
     "name": "stdout",
     "output_type": "stream",
     "text": [
      "36\n"
     ]
    },
    {
     "name": "stderr",
     "output_type": "stream",
     "text": [
      "Info: Params [0.16633392 0.14614709 0.81985727 1.25037171 3.05633196 5.62804105\n",
      " 0.84414432 0.96889357] gave 715.8333416333498\n",
      "Warning: dt is large.  Estimated pdfs may be imprecise.  Decrease dt to 0.01 or less.\n"
     ]
    },
    {
     "name": "stdout",
     "output_type": "stream",
     "text": [
      "37\n"
     ]
    },
    {
     "name": "stderr",
     "output_type": "stream",
     "text": [
      "Info: Params [ 0.45460549  0.31544827 -7.4767673  -6.5729044   0.67760582  0.88369095\n",
      "  0.11323654  0.88027358] gave 1024.5413484996004\n"
     ]
    },
    {
     "name": "stdout",
     "output_type": "stream",
     "text": [
      "           1    2    3    4         5    6    7    8    9    10  ...  \\\n",
      "Accuracy  1.0  1.0  1.0  1.0  1.037975  1.0  1.0  1.0  1.0  1.0  ...   \n",
      "Speed     1.0  1.0  1.0  1.0  1.000000  1.0  1.0  1.0  1.0  1.0  ...   \n",
      "\n",
      "                29   30   31        32   33   34   35        36   37        38  \n",
      "Accuracy  1.051282  1.0  1.0  1.012346  1.0  1.0  1.0  1.012346  1.0  1.078947  \n",
      "Speed     1.000000  1.0  1.0  1.000000  1.0  1.0  1.0  1.000000  1.0  1.000000  \n",
      "\n",
      "[2 rows x 38 columns]\n"
     ]
    }
   ],
   "source": [
    "data_dir = \"/Users/wangjiashun/Desktop/Reserach on SAT/datasets/transformed/Lerche2017/sub\"\n",
    "sample_size = 38\n",
    "\n",
    "df_all = pd.DataFrame()\n",
    "valid_ratio_dfs = pd.DataFrame()\n",
    "\n",
    "for i in range(sample_size):\n",
    "    print(i)\n",
    "    path = os.path.join(data_dir+str(i+1)+\".csv\")\n",
    "    df = pd.read_csv(path, sep = \",\")\n",
    "    \n",
    "    counts_before = df['Cond'].value_counts()\n",
    "    df = df[df[\"Time\"]<30]\n",
    "    counts_after = df['Cond'].value_counts()\n",
    "    valid_ratio = counts_before/counts_after\n",
    "    valid_ratio_df = valid_ratio.to_frame(i+1)\n",
    "    valid_ratio_dfs = pd.concat((valid_ratio_dfs,valid_ratio_df), axis = 1)\n",
    "    \n",
    "    samp = Sample.from_pandas_dataframe(df, rt_column_name=\"Time\", choice_column_name=\"Correct\")\n",
    "    df = get_OUM_result_sub_2v2a2k2ter(samp,dt=0.05,T_dur=30)\n",
    "    df_all = pd.concat((df_all,df))\n",
    "    \n",
    "df_OUM = df_all.copy()\n",
    "df_OUM.to_csv(\"Parameter Estimates/OUM2v2a2k2terresultLerche2017.csv\")\n",
    "print(valid_ratio_dfs)"
   ]
  },
  {
   "cell_type": "code",
   "execution_count": 7,
   "id": "c63aea59",
   "metadata": {},
   "outputs": [
    {
     "name": "stdout",
     "output_type": "stream",
     "text": [
      "0\n"
     ]
    },
    {
     "name": "stderr",
     "output_type": "stream",
     "text": [
      "Info: Params [1.39999127 2.01637272 9.81971201 6.42362268 5.42576965 1.60373682\n",
      " 0.10199877 0.26439697] gave -1164.0948185970651\n"
     ]
    },
    {
     "name": "stdout",
     "output_type": "stream",
     "text": [
      "1\n"
     ]
    },
    {
     "name": "stderr",
     "output_type": "stream",
     "text": [
      "Info: Params [ 1.06724199  2.1331224  14.77952401 13.83903921  5.33316507  5.48676991\n",
      "  0.16538567  0.22329312] gave -2497.0536409162155\n"
     ]
    },
    {
     "name": "stdout",
     "output_type": "stream",
     "text": [
      "2\n"
     ]
    },
    {
     "name": "stderr",
     "output_type": "stream",
     "text": [
      "Info: Params [0.14487908 0.31379532 8.36179026 8.80740785 1.28614683 2.58635047\n",
      " 0.1299552  0.10495268] gave -449.19340969830847\n"
     ]
    },
    {
     "name": "stdout",
     "output_type": "stream",
     "text": [
      "3\n"
     ]
    },
    {
     "name": "stderr",
     "output_type": "stream",
     "text": [
      "Info: Params [ 2.53837739  2.86842073 14.74641007 14.3791813   1.32773141  2.17684007\n",
      "  0.27123451  0.26454722] gave -3884.9098839131893\n"
     ]
    },
    {
     "name": "stdout",
     "output_type": "stream",
     "text": [
      "4\n"
     ]
    },
    {
     "name": "stderr",
     "output_type": "stream",
     "text": [
      "Info: Params [ 0.28316761  0.55594263 10.68543389 10.53112501  2.19698681  3.89069892\n",
      "  0.10534305  0.10615162] gave -286.8580441221694\n"
     ]
    },
    {
     "name": "stdout",
     "output_type": "stream",
     "text": [
      "5\n"
     ]
    },
    {
     "name": "stderr",
     "output_type": "stream",
     "text": [
      "Info: Params [ 2.12578753  2.71587869 14.95676429 15.          3.23928009  2.32426303\n",
      "  0.19416351  0.24054022] gave -1844.3034687735424\n"
     ]
    },
    {
     "name": "stdout",
     "output_type": "stream",
     "text": [
      "6\n"
     ]
    },
    {
     "name": "stderr",
     "output_type": "stream",
     "text": [
      "Info: Params [ 1.61360368  2.06571331 14.82706796 12.36898222  2.42794918  1.93474369\n",
      "  0.22182156  0.26936502] gave -3055.618628789078\n"
     ]
    },
    {
     "name": "stdout",
     "output_type": "stream",
     "text": [
      "7\n"
     ]
    },
    {
     "name": "stderr",
     "output_type": "stream",
     "text": [
      "Info: Params [ 1.79238204  1.83541699 15.          3.15701453  1.80834826  0.77121155\n",
      "  0.21513847  0.27320022] gave -2049.9325936480686\n"
     ]
    },
    {
     "name": "stdout",
     "output_type": "stream",
     "text": [
      "8\n"
     ]
    },
    {
     "name": "stderr",
     "output_type": "stream",
     "text": [
      "Info: Params [ 2.05595343  2.60808349 14.71111308 14.26698057  5.61579732  5.49309257\n",
      "  0.20256212  0.23003682] gave -1461.107338771077\n"
     ]
    },
    {
     "name": "stdout",
     "output_type": "stream",
     "text": [
      "9\n"
     ]
    },
    {
     "name": "stderr",
     "output_type": "stream",
     "text": [
      "Info: Params [ 1.16993415  1.74710927 14.8400873   8.88716285  4.51317927  1.03514647\n",
      "  0.15605623  0.25348882] gave -2206.9917989684504\n"
     ]
    },
    {
     "name": "stdout",
     "output_type": "stream",
     "text": [
      "10\n"
     ]
    },
    {
     "name": "stderr",
     "output_type": "stream",
     "text": [
      "Info: Params [ 0.08108808  0.1318796  10.76638484  8.40945716  1.95753831  1.59213329\n",
      "  0.10769503  0.10182277] gave -463.5866976195086\n"
     ]
    },
    {
     "name": "stdout",
     "output_type": "stream",
     "text": [
      "11\n"
     ]
    },
    {
     "name": "stderr",
     "output_type": "stream",
     "text": [
      "Info: Params [0.74256965 1.33935367 9.70064053 3.01236544 1.19337469 0.98510922\n",
      " 0.19603843 0.25077499] gave -279.5433924919593\n"
     ]
    },
    {
     "name": "stdout",
     "output_type": "stream",
     "text": [
      "12\n"
     ]
    },
    {
     "name": "stderr",
     "output_type": "stream",
     "text": [
      "Info: Params [0.28169404 1.0136114  9.16625811 8.99355203 2.16721055 4.4743133\n",
      " 0.10936953 0.10017172] gave -501.84065017020697\n"
     ]
    },
    {
     "name": "stdout",
     "output_type": "stream",
     "text": [
      "13\n"
     ]
    },
    {
     "name": "stderr",
     "output_type": "stream",
     "text": [
      "Info: Params [ 0.          0.57178322 10.72634896  4.25873391  0.64201286  0.58901097\n",
      "  0.16009237  0.17545522] gave -297.6608299863334\n"
     ]
    },
    {
     "name": "stdout",
     "output_type": "stream",
     "text": [
      "14\n"
     ]
    },
    {
     "name": "stderr",
     "output_type": "stream",
     "text": [
      "Info: Params [ 1.33225229  1.47550766 11.14235624  9.54659872  4.22218041  1.57492126\n",
      "  0.21273442  0.29418329] gave -1516.0924038580451\n"
     ]
    },
    {
     "name": "stdout",
     "output_type": "stream",
     "text": [
      "15\n"
     ]
    },
    {
     "name": "stderr",
     "output_type": "stream",
     "text": [
      "Info: Params [0.05205588 0.62787763 8.53018426 4.90663695 0.86486209 0.76264142\n",
      " 0.17444577 0.19431615] gave 175.17269240749852\n"
     ]
    },
    {
     "name": "stdout",
     "output_type": "stream",
     "text": [
      "16\n"
     ]
    },
    {
     "name": "stderr",
     "output_type": "stream",
     "text": [
      "Info: Params [ 0.47676591  0.65683318 14.91597095 14.62401216  3.1259587   5.98346738\n",
      "  0.10932236  0.10640851] gave -1636.0611964418783\n"
     ]
    },
    {
     "name": "stdout",
     "output_type": "stream",
     "text": [
      "17\n"
     ]
    },
    {
     "name": "stderr",
     "output_type": "stream",
     "text": [
      "Info: Params [0.38247768 0.93627866 6.14269663 5.62040366 0.70888476 2.06653261\n",
      " 0.14826449 0.10073003] gave 388.2631821312966\n"
     ]
    },
    {
     "name": "stdout",
     "output_type": "stream",
     "text": [
      "18\n"
     ]
    },
    {
     "name": "stderr",
     "output_type": "stream",
     "text": [
      "Info: Params [ 2.66407687  3.06210842  8.58182776 10.47419595  2.92619272  5.84487823\n",
      "  0.32912399  0.30288522] gave -2715.96828227042\n"
     ]
    },
    {
     "name": "stdout",
     "output_type": "stream",
     "text": [
      "19\n"
     ]
    },
    {
     "name": "stderr",
     "output_type": "stream",
     "text": [
      "Info: Params [ 0.35956146  0.6252887  14.61971515 12.43114125  5.9186928   5.60786911\n",
      "  0.10352292  0.11148228] gave -1429.9591493795579\n"
     ]
    },
    {
     "name": "stdout",
     "output_type": "stream",
     "text": [
      "20\n"
     ]
    },
    {
     "name": "stderr",
     "output_type": "stream",
     "text": [
      "Info: Params [ 0.23909313  0.12976742 11.08246443  7.97713292  1.22126058  0.94582\n",
      "  0.12527594  0.13136441] gave -639.4792417975403\n"
     ]
    },
    {
     "name": "stdout",
     "output_type": "stream",
     "text": [
      "21\n"
     ]
    },
    {
     "name": "stderr",
     "output_type": "stream",
     "text": [
      "Info: Params [0.23399006 0.68300965 8.01595968 5.6366859  1.95775516 1.74533762\n",
      " 0.10836642 0.13646253] gave 677.5143290257506\n"
     ]
    },
    {
     "name": "stdout",
     "output_type": "stream",
     "text": [
      "22\n"
     ]
    },
    {
     "name": "stderr",
     "output_type": "stream",
     "text": [
      "Info: Params [0.0358987  0.1959441  9.15853534 4.30648174 0.51704019 0.55267046\n",
      " 0.16732673 0.17764355] gave -790.0933844510914\n"
     ]
    },
    {
     "name": "stdout",
     "output_type": "stream",
     "text": [
      "23\n"
     ]
    },
    {
     "name": "stderr",
     "output_type": "stream",
     "text": [
      "Info: Params [ 0.05556022  0.41362906 10.22285377  8.85392622  2.10517261  3.8911369\n",
      "  0.10006008  0.10610595] gave -95.61591201359404\n"
     ]
    },
    {
     "name": "stdout",
     "output_type": "stream",
     "text": [
      "24\n"
     ]
    },
    {
     "name": "stderr",
     "output_type": "stream",
     "text": [
      "Info: Params [0.22451578 0.75308903 5.84745036 3.84066307 0.50701591 2.01273991\n",
      " 0.15664053 0.10581756] gave 344.8819546802989\n"
     ]
    },
    {
     "name": "stdout",
     "output_type": "stream",
     "text": [
      "25\n"
     ]
    },
    {
     "name": "stderr",
     "output_type": "stream",
     "text": [
      "Info: Params [ 0.60513986  0.75711813 15.          9.93384146  3.31503261  1.74607828\n",
      "  0.13908164  0.14909061] gave -769.2937573236263\n"
     ]
    },
    {
     "name": "stdout",
     "output_type": "stream",
     "text": [
      "26\n"
     ]
    },
    {
     "name": "stderr",
     "output_type": "stream",
     "text": [
      "Info: Params [ 1.13736436  1.69424075 15.          4.3363953   3.17869933  0.85540827\n",
      "  0.13808354  0.23504406] gave -799.8874684037751\n"
     ]
    },
    {
     "name": "stdout",
     "output_type": "stream",
     "text": [
      "27\n"
     ]
    },
    {
     "name": "stderr",
     "output_type": "stream",
     "text": [
      "Info: Params [ 0.17564214  0.         15.         15.          4.91159463  2.81436489\n",
      "  0.11636014  0.17872365] gave -1100.477767710663\n"
     ]
    },
    {
     "name": "stdout",
     "output_type": "stream",
     "text": [
      "28\n"
     ]
    },
    {
     "name": "stderr",
     "output_type": "stream",
     "text": [
      "Info: Params [0.29425586 0.52439956 8.88127754 8.11164194 0.95804119 2.81069682\n",
      " 0.14037695 0.10339556] gave -44.027038361086476\n"
     ]
    },
    {
     "name": "stdout",
     "output_type": "stream",
     "text": [
      "29\n"
     ]
    },
    {
     "name": "stderr",
     "output_type": "stream",
     "text": [
      "Info: Params [0.10030527 0.12262446 9.08026076 6.62081137 1.90313762 1.63345293\n",
      " 0.1043749  0.1062093 ] gave 233.3339969077399\n"
     ]
    },
    {
     "name": "stdout",
     "output_type": "stream",
     "text": [
      "30\n"
     ]
    },
    {
     "name": "stderr",
     "output_type": "stream",
     "text": [
      "Info: Params [0.22238191 0.17527515 8.15834643 7.2702468  0.75861963 0.76926115\n",
      " 0.16496289 0.15790557] gave -139.3879644719228\n"
     ]
    },
    {
     "name": "stdout",
     "output_type": "stream",
     "text": [
      "31\n"
     ]
    },
    {
     "name": "stderr",
     "output_type": "stream",
     "text": [
      "Info: Params [0.41214096 0.27063596 8.70017303 5.52591332 0.85145924 0.65323014\n",
      " 0.15133294 0.17722266] gave -36.93210796182166\n"
     ]
    },
    {
     "name": "stdout",
     "output_type": "stream",
     "text": [
      "32\n"
     ]
    },
    {
     "name": "stderr",
     "output_type": "stream",
     "text": [
      "Info: Params [0.09865818 0.12180298 9.41008735 6.67027548 2.04525586 1.65343713\n",
      " 0.10215163 0.10943698] gave 233.2454085158164\n"
     ]
    },
    {
     "name": "stdout",
     "output_type": "stream",
     "text": [
      "33\n"
     ]
    },
    {
     "name": "stderr",
     "output_type": "stream",
     "text": [
      "Info: Params [0.01283925 0.50619347 9.96715524 3.80424484 1.71044919 1.98877083\n",
      " 0.11176943 0.1164007 ] gave 521.8713584526871\n"
     ]
    },
    {
     "name": "stdout",
     "output_type": "stream",
     "text": [
      "           1    2    3    4    5    6    7    8    9    10  ...   25   26  \\\n",
      "Speed     1.0  1.0  1.0  1.0  1.0  1.0  1.0  1.0  1.0  1.0  ...  1.0  1.0   \n",
      "Accuracy  1.0  1.0  1.0  1.0  1.0  1.0  1.0  1.0  1.0  1.0  ...  1.0  1.0   \n",
      "\n",
      "           27   28   29   30   31   32   33   34  \n",
      "Speed     1.0  1.0  1.0  1.0  1.0  1.0  1.0  1.0  \n",
      "Accuracy  1.0  1.0  1.0  1.0  1.0  1.0  1.0  1.0  \n",
      "\n",
      "[2 rows x 34 columns]\n"
     ]
    }
   ],
   "source": [
    "data_dir = \"/Users/wangjiashun/Desktop/Reserach on SAT/datasets/transformed/Rae2014/sub\"\n",
    "sample_size = 34\n",
    "\n",
    "df_all = pd.DataFrame()\n",
    "valid_ratio_dfs = pd.DataFrame()\n",
    "\n",
    "for i in range(sample_size):\n",
    "    print(i)\n",
    "    path = os.path.join(data_dir+str(i+1)+\".csv\")\n",
    "    df = pd.read_csv(path, sep = \",\")\n",
    "    \n",
    "    counts_before = df['Cond'].value_counts()\n",
    "    df = df[df[\"Time\"]<5]\n",
    "    counts_after = df['Cond'].value_counts()\n",
    "    valid_ratio = counts_before/counts_after\n",
    "    valid_ratio_df = valid_ratio.to_frame(i+1)\n",
    "    valid_ratio_dfs = pd.concat((valid_ratio_dfs,valid_ratio_df), axis = 1)\n",
    "    \n",
    "    samp = Sample.from_pandas_dataframe(df, rt_column_name=\"Time\", choice_column_name=\"Correct\")\n",
    "    df = get_OUM_result_sub_2v2a2k2ter(samp)\n",
    "    df_all = pd.concat((df_all,df))\n",
    "    \n",
    "df_OUM = df_all.copy()\n",
    "df_OUM.to_csv(\"Parameter Estimates/OUM2v2a2k2terresultRae2014.csv\")\n",
    "print(valid_ratio_dfs)"
   ]
  },
  {
   "cell_type": "code",
   "execution_count": 8,
   "id": "3284c710",
   "metadata": {},
   "outputs": [
    {
     "name": "stdout",
     "output_type": "stream",
     "text": [
      "1\n"
     ]
    },
    {
     "name": "stderr",
     "output_type": "stream",
     "text": [
      "Info: Params [ 2.98906015  3.86923973 -0.35397832  1.1464133   0.50275703  0.50087206\n",
      "  0.35465005  0.38514083] gave -258.44925450838605\n"
     ]
    },
    {
     "name": "stdout",
     "output_type": "stream",
     "text": [
      "1\n"
     ]
    },
    {
     "name": "stderr",
     "output_type": "stream",
     "text": [
      "Info: Params [2.44384124 2.4499348  6.52239281 5.43917389 0.56598481 0.95241431\n",
      " 0.37483331 0.35687295] gave -135.4083150894478\n"
     ]
    },
    {
     "name": "stdout",
     "output_type": "stream",
     "text": [
      "1\n"
     ]
    },
    {
     "name": "stderr",
     "output_type": "stream",
     "text": [
      "Info: Params [0.90508804 1.74983781 4.09543514 4.82162275 0.60620447 0.71844188\n",
      " 0.34423814 0.38266111] gave -12.874767844924179\n"
     ]
    },
    {
     "name": "stdout",
     "output_type": "stream",
     "text": [
      "1\n"
     ]
    },
    {
     "name": "stderr",
     "output_type": "stream",
     "text": [
      "Info: Params [2.37752896 2.83217203 0.37436831 5.0388547  0.50378457 0.57539154\n",
      " 0.34260613 0.39454314] gave -161.79833392697384\n"
     ]
    },
    {
     "name": "stdout",
     "output_type": "stream",
     "text": [
      "1\n"
     ]
    },
    {
     "name": "stderr",
     "output_type": "stream",
     "text": [
      "Info: Params [3.444108   2.97491422 6.46355918 7.89136519 1.14416876 2.61759897\n",
      " 0.31008102 0.26682103] gave -174.33095917264018\n"
     ]
    },
    {
     "name": "stdout",
     "output_type": "stream",
     "text": [
      "1\n"
     ]
    },
    {
     "name": "stderr",
     "output_type": "stream",
     "text": [
      "Info: Params [3.43555298 3.15671164 4.00390823 5.14469597 0.64421599 0.95654315\n",
      " 0.345175   0.33999428] gave -218.5188127067122\n"
     ]
    },
    {
     "name": "stdout",
     "output_type": "stream",
     "text": [
      "3\n"
     ]
    },
    {
     "name": "stderr",
     "output_type": "stream",
     "text": [
      "Info: Params [2.87845563 3.34421625 7.93198225 4.71622388 0.85837569 1.38537876\n",
      " 0.31690789 0.3762741 ] gave -186.8591024699868\n"
     ]
    },
    {
     "name": "stdout",
     "output_type": "stream",
     "text": [
      "3\n"
     ]
    },
    {
     "name": "stderr",
     "output_type": "stream",
     "text": [
      "Info: Params [1.61642259 2.087008   5.58091804 2.3924604  0.6092616  1.09877307\n",
      " 0.33551769 0.35592814] gave -35.75019746613008\n"
     ]
    },
    {
     "name": "stdout",
     "output_type": "stream",
     "text": [
      "3\n"
     ]
    },
    {
     "name": "stderr",
     "output_type": "stream",
     "text": [
      "Info: Params [1.55187174 1.87629341 4.97014828 3.67242504 0.70068237 1.52085379\n",
      " 0.31588175 0.34190146] gave 18.0126712681245\n"
     ]
    },
    {
     "name": "stdout",
     "output_type": "stream",
     "text": [
      "3\n"
     ]
    },
    {
     "name": "stderr",
     "output_type": "stream",
     "text": [
      "Info: Params [2.13724992 2.19699877 8.27180067 2.57882977 5.99359333 2.90331647\n",
      " 0.13771442 0.1053456 ] gave -7.551931941578069\n"
     ]
    },
    {
     "name": "stdout",
     "output_type": "stream",
     "text": [
      "3\n"
     ]
    },
    {
     "name": "stderr",
     "output_type": "stream",
     "text": [
      "Info: Params [3.11708025 2.12525919 2.04357992 2.32771211 0.70648273 2.18402921\n",
      " 0.30688078 0.19345079] gave -46.88250569174811\n"
     ]
    },
    {
     "name": "stdout",
     "output_type": "stream",
     "text": [
      "3\n"
     ]
    },
    {
     "name": "stderr",
     "output_type": "stream",
     "text": [
      "Info: Params [2.77765148 2.24544564 5.90062204 1.23029306 1.0796727  1.17202757\n",
      " 0.30243284 0.32233404] gave -61.06017187795473\n"
     ]
    },
    {
     "name": "stdout",
     "output_type": "stream",
     "text": [
      "4\n"
     ]
    },
    {
     "name": "stderr",
     "output_type": "stream",
     "text": [
      "Info: Params [ 4.1449446   3.82048209 12.08525429  4.93579171  0.53372036  1.19718504\n",
      "  0.33049822  0.29303281] gave -304.67452529326886\n"
     ]
    },
    {
     "name": "stdout",
     "output_type": "stream",
     "text": [
      "4\n"
     ]
    },
    {
     "name": "stderr",
     "output_type": "stream",
     "text": [
      "Info: Params [2.51365517 3.29033684 9.9651525  1.76488113 0.63031825 0.75951445\n",
      " 0.32695101 0.35784478] gave -218.81060424968103\n"
     ]
    },
    {
     "name": "stdout",
     "output_type": "stream",
     "text": [
      "4\n"
     ]
    },
    {
     "name": "stderr",
     "output_type": "stream",
     "text": [
      "Info: Params [1.65094015 2.06756533 6.4053716  4.30762286 0.50771418 1.07051179\n",
      " 0.33954139 0.3160838 ] gave -88.69940417495432\n"
     ]
    },
    {
     "name": "stdout",
     "output_type": "stream",
     "text": [
      "4\n"
     ]
    },
    {
     "name": "stderr",
     "output_type": "stream",
     "text": [
      "Info: Params [3.86121947 3.20743282 9.33271723 3.97900776 0.66947278 1.86613426\n",
      " 0.34907357 0.24587887] gave -234.06331868327726\n"
     ]
    },
    {
     "name": "stdout",
     "output_type": "stream",
     "text": [
      "4\n"
     ]
    },
    {
     "name": "stderr",
     "output_type": "stream",
     "text": [
      "Info: Params [ 3.59264002  2.47906706  5.00820563 -0.43281583  0.51932165  0.60394411\n",
      "  0.3357472   0.35299375] gave -199.2483625655342\n"
     ]
    },
    {
     "name": "stdout",
     "output_type": "stream",
     "text": [
      "4\n"
     ]
    },
    {
     "name": "stderr",
     "output_type": "stream",
     "text": [
      "Info: Params [3.32070149 2.42321974 6.57425847 5.11220238 0.52433214 1.0147231\n",
      " 0.32772066 0.32026156] gave -193.5591025254922\n"
     ]
    },
    {
     "name": "stdout",
     "output_type": "stream",
     "text": [
      "5\n"
     ]
    },
    {
     "name": "stderr",
     "output_type": "stream",
     "text": [
      "Info: Params [ 4.24218781  4.80243836  9.78473867 -4.58072924  0.60376353  0.75123227\n",
      "  0.32801582  0.37567547] gave -292.19347279464404\n"
     ]
    },
    {
     "name": "stdout",
     "output_type": "stream",
     "text": [
      "5\n"
     ]
    },
    {
     "name": "stderr",
     "output_type": "stream",
     "text": [
      "Info: Params [ 4.14544614  2.89922186 11.78326306  8.30058048  0.98270864  3.22907673\n",
      "  0.33622524  0.32427568] gave -221.7626515203686\n"
     ]
    },
    {
     "name": "stdout",
     "output_type": "stream",
     "text": [
      "5\n"
     ]
    },
    {
     "name": "stderr",
     "output_type": "stream",
     "text": [
      "Info: Params [ 2.46871283  3.37604089 13.18993376  6.74304437  3.7284202   1.96584858\n",
      "  0.25620063  0.382662  ] gave -181.25500924144768\n"
     ]
    },
    {
     "name": "stdout",
     "output_type": "stream",
     "text": [
      "5\n"
     ]
    },
    {
     "name": "stderr",
     "output_type": "stream",
     "text": [
      "Info: Params [5.05945102 3.42608267 1.13760837 5.04843675 0.69838109 1.69231228\n",
      " 0.34484134 0.36643376] gave -265.93709137696476\n"
     ]
    },
    {
     "name": "stdout",
     "output_type": "stream",
     "text": [
      "5\n"
     ]
    },
    {
     "name": "stderr",
     "output_type": "stream",
     "text": [
      "Info: Params [ 4.60844018  2.64025046 15.          4.13731766  0.64619332  1.09259617\n",
      "  0.37152498  0.43525447] gave -224.3749076375015\n"
     ]
    },
    {
     "name": "stdout",
     "output_type": "stream",
     "text": [
      "5\n"
     ]
    },
    {
     "name": "stderr",
     "output_type": "stream",
     "text": [
      "Info: Params [ 3.78437174  2.72099466 15.          5.0360131   4.20043206  1.30973708\n",
      "  0.25915068  0.38707905] gave -206.9840252604864\n"
     ]
    },
    {
     "name": "stdout",
     "output_type": "stream",
     "text": [
      "6\n"
     ]
    },
    {
     "name": "stderr",
     "output_type": "stream",
     "text": [
      "Info: Params [ 2.57026635  3.0867585  14.64773498  5.76224288  5.35481726  0.97637069\n",
      "  0.18747302  0.3582462 ] gave -197.1742051587292\n"
     ]
    },
    {
     "name": "stdout",
     "output_type": "stream",
     "text": [
      "6\n"
     ]
    },
    {
     "name": "stderr",
     "output_type": "stream",
     "text": [
      "Info: Params [ 1.57302634  2.37591888 12.43120777  4.73116495  5.9954939   0.90264404\n",
      "  0.1308641   0.40407762] gave -94.96749961095264\n"
     ]
    },
    {
     "name": "stdout",
     "output_type": "stream",
     "text": [
      "6\n"
     ]
    },
    {
     "name": "stderr",
     "output_type": "stream",
     "text": [
      "Info: Params [ 0.38614253  1.57107579 10.03802012  1.71595494  4.38517423  0.61016572\n",
      "  0.10660901  0.43793209] gave 16.659231637411118\n"
     ]
    },
    {
     "name": "stdout",
     "output_type": "stream",
     "text": [
      "6\n"
     ]
    },
    {
     "name": "stderr",
     "output_type": "stream",
     "text": [
      "Info: Params [ 0.9286517   2.67530341 10.67842324  4.29671562  5.6959748   2.1599589\n",
      "  0.1026521   0.28360448] gave -48.32991923152605\n"
     ]
    },
    {
     "name": "stdout",
     "output_type": "stream",
     "text": [
      "6\n"
     ]
    },
    {
     "name": "stderr",
     "output_type": "stream",
     "text": [
      "Info: Params [ 0.7942101   2.43510716 10.49641895  4.02908278  4.22620559  1.05489014\n",
      "  0.14734523  0.36062164] gave -42.4020399450128\n"
     ]
    },
    {
     "name": "stdout",
     "output_type": "stream",
     "text": [
      "6\n"
     ]
    },
    {
     "name": "stderr",
     "output_type": "stream",
     "text": [
      "Info: Params [0.61127839 2.57392303 8.93140392 3.38003238 3.66346569 0.98481005\n",
      " 0.1051271  0.34407387] gave -42.58583051423877\n"
     ]
    },
    {
     "name": "stdout",
     "output_type": "stream",
     "text": [
      "7\n"
     ]
    },
    {
     "name": "stderr",
     "output_type": "stream",
     "text": [
      "Info: Params [0.20095736 2.24058419 8.80160133 4.15556465 2.63091002 0.95581834\n",
      " 0.10604229 0.26107086] gave -23.060768481918238\n"
     ]
    },
    {
     "name": "stdout",
     "output_type": "stream",
     "text": [
      "7\n"
     ]
    },
    {
     "name": "stderr",
     "output_type": "stream",
     "text": [
      "Info: Params [0.         1.52369254 9.63110103 4.23048378 1.68923421 0.77252424\n",
      " 0.17861682 0.31150893] gave 4.748084708616538\n"
     ]
    },
    {
     "name": "stdout",
     "output_type": "stream",
     "text": [
      "7\n"
     ]
    },
    {
     "name": "stderr",
     "output_type": "stream",
     "text": [
      "Info: Params [0.         0.71117339 9.79535224 6.51135388 3.4729741  4.95480463\n",
      " 0.10799142 0.10438655] gave 72.6251092063761\n"
     ]
    },
    {
     "name": "stdout",
     "output_type": "stream",
     "text": [
      "7\n"
     ]
    },
    {
     "name": "stderr",
     "output_type": "stream",
     "text": [
      "Info: Params [1.86393588 1.70650473 7.61943556 3.5933164  0.98793807 1.29210736\n",
      " 0.22031375 0.25204592] gave -8.565918090818307\n"
     ]
    },
    {
     "name": "stdout",
     "output_type": "stream",
     "text": [
      "7\n"
     ]
    },
    {
     "name": "stderr",
     "output_type": "stream",
     "text": [
      "Info: Params [2.52936523 1.51564803 9.63294364 4.71657255 2.2979855  1.03213246\n",
      " 0.17419487 0.31283413] gave -43.60241127122785\n"
     ]
    },
    {
     "name": "stdout",
     "output_type": "stream",
     "text": [
      "7\n"
     ]
    },
    {
     "name": "stderr",
     "output_type": "stream",
     "text": [
      "Info: Params [1.99502675 1.91453296 7.15751363 3.43161596 0.93776906 0.84825429\n",
      " 0.23896674 0.32402556] gave -54.04199556329863\n"
     ]
    },
    {
     "name": "stdout",
     "output_type": "stream",
     "text": [
      "8\n"
     ]
    },
    {
     "name": "stderr",
     "output_type": "stream",
     "text": [
      "Info: Params [0.60961752 2.08584893 6.956327   1.98886711 2.21129454 1.42439484\n",
      " 0.10278785 0.3262435 ] gave 68.60662821952107\n"
     ]
    },
    {
     "name": "stdout",
     "output_type": "stream",
     "text": [
      "8\n"
     ]
    },
    {
     "name": "stderr",
     "output_type": "stream",
     "text": [
      "Info: Params [0.         0.91776924 5.89885856 2.08167183 1.55608818 1.82400807\n",
      " 0.10962357 0.23327781] gave 212.0935434418269\n"
     ]
    },
    {
     "name": "stdout",
     "output_type": "stream",
     "text": [
      "8\n"
     ]
    },
    {
     "name": "stderr",
     "output_type": "stream",
     "text": [
      "Info: Params [0.         0.39842981 6.12538024 2.4255445  1.97854207 2.2155488\n",
      " 0.10523826 0.131578  ] gave 261.9457241763488\n"
     ]
    },
    {
     "name": "stdout",
     "output_type": "stream",
     "text": [
      "8\n"
     ]
    },
    {
     "name": "stderr",
     "output_type": "stream",
     "text": [
      "Info: Params [0.48676175 1.06432306 6.49062673 1.15006039 2.05202968 1.41135139\n",
      " 0.10932943 0.23443195] gave 237.27394991972847\n"
     ]
    },
    {
     "name": "stdout",
     "output_type": "stream",
     "text": [
      "8\n"
     ]
    },
    {
     "name": "stderr",
     "output_type": "stream",
     "text": [
      "Info: Params [0.37860373 1.34024114 7.84090869 1.50616925 2.89025586 2.10288439\n",
      " 0.10281174 0.10822658] gave 173.60284877559184\n"
     ]
    },
    {
     "name": "stdout",
     "output_type": "stream",
     "text": [
      "8\n"
     ]
    },
    {
     "name": "stderr",
     "output_type": "stream",
     "text": [
      "Info: Params [0.14413648 1.28006668 6.26359771 1.22225744 1.69132742 1.7466822\n",
      " 0.13443121 0.10863026] gave 200.4470702373083\n"
     ]
    },
    {
     "name": "stdout",
     "output_type": "stream",
     "text": [
      "9\n"
     ]
    },
    {
     "name": "stderr",
     "output_type": "stream",
     "text": [
      "Info: Params [4.17559072 2.84720998 9.65662128 3.97163785 0.60875382 1.2679373\n",
      " 0.3850571  0.35199915] gave -253.75644225527742\n"
     ]
    },
    {
     "name": "stdout",
     "output_type": "stream",
     "text": [
      "9\n"
     ]
    },
    {
     "name": "stderr",
     "output_type": "stream",
     "text": [
      "Info: Params [ 1.91990216  1.96782782 10.40917433  2.39552966  0.60779252  1.5874641\n",
      "  0.38952994  0.29742521] gave -25.123638631496732\n"
     ]
    },
    {
     "name": "stdout",
     "output_type": "stream",
     "text": [
      "9\n"
     ]
    },
    {
     "name": "stderr",
     "output_type": "stream",
     "text": [
      "Info: Params [ 1.01981641  1.33894678 13.41289779  2.53146684  1.46145963  1.07516784\n",
      "  0.35941452  0.37405581] gave 40.52171874710844\n"
     ]
    },
    {
     "name": "stdout",
     "output_type": "stream",
     "text": [
      "9\n"
     ]
    },
    {
     "name": "stderr",
     "output_type": "stream",
     "text": [
      "Info: Params [ 3.28430525  2.18408005  0.0913874  -1.866492    0.50978346  0.65225706\n",
      "  0.38315379  0.43164138] gave -112.2928291515519\n"
     ]
    },
    {
     "name": "stdout",
     "output_type": "stream",
     "text": [
      "9\n"
     ]
    },
    {
     "name": "stderr",
     "output_type": "stream",
     "text": [
      "Info: Params [3.1748848  1.96286408 3.6701492  3.53911909 0.52096873 3.51882004\n",
      " 0.39448505 0.12447103] gave -81.91021783759481\n"
     ]
    },
    {
     "name": "stdout",
     "output_type": "stream",
     "text": [
      "9\n"
     ]
    },
    {
     "name": "stderr",
     "output_type": "stream",
     "text": [
      "Info: Params [3.26539854 2.5118489  5.70619676 2.9369661  0.50134129 1.30600477\n",
      " 0.40085597 0.36069715] gave -153.81731995152643\n"
     ]
    },
    {
     "name": "stdout",
     "output_type": "stream",
     "text": [
      "10\n"
     ]
    },
    {
     "name": "stderr",
     "output_type": "stream",
     "text": [
      "Info: Params [2.73893258 4.37080529 6.36905079 5.34707639 0.62559871 1.24466208\n",
      " 0.29608364 0.33090019] gave -541.7521809617715\n"
     ]
    },
    {
     "name": "stdout",
     "output_type": "stream",
     "text": [
      "10\n"
     ]
    },
    {
     "name": "stderr",
     "output_type": "stream",
     "text": [
      "Info: Params [1.38768586 2.70169092 9.82604563 3.97609567 1.49078652 1.41318857\n",
      " 0.24459168 0.29256369] gave -232.23893797028435\n"
     ]
    },
    {
     "name": "stdout",
     "output_type": "stream",
     "text": [
      "10\n"
     ]
    },
    {
     "name": "stderr",
     "output_type": "stream",
     "text": [
      "Info: Params [0.61641029 1.95962946 7.60528717 4.85359863 0.73698104 1.00508533\n",
      " 0.27953776 0.35791324] gave -65.40923872715058\n"
     ]
    },
    {
     "name": "stdout",
     "output_type": "stream",
     "text": [
      "10\n"
     ]
    },
    {
     "name": "stderr",
     "output_type": "stream",
     "text": [
      "Info: Params [2.2278824  2.46741386 4.97465063 2.88976161 0.68273456 0.98323765\n",
      " 0.27197459 0.33806285] gave -215.17019256300875\n"
     ]
    },
    {
     "name": "stdout",
     "output_type": "stream",
     "text": [
      "10\n"
     ]
    },
    {
     "name": "stderr",
     "output_type": "stream",
     "text": [
      "Info: Params [ 2.70974213  2.49796583 11.19708679  2.97264401  5.10575018  1.47405527\n",
      "  0.1679306   0.28170931] gave -234.37392266171045\n"
     ]
    },
    {
     "name": "stdout",
     "output_type": "stream",
     "text": [
      "10\n"
     ]
    },
    {
     "name": "stderr",
     "output_type": "stream",
     "text": [
      "Info: Params [2.58355472 2.78368173 2.22366566 2.9909179  0.5708527  1.09707892\n",
      " 0.28116547 0.3376175 ] gave -289.5903506874887\n"
     ]
    },
    {
     "name": "stdout",
     "output_type": "stream",
     "text": [
      "11\n"
     ]
    },
    {
     "name": "stderr",
     "output_type": "stream",
     "text": [
      "Info: Params [ 3.76412682  4.09654886 12.81759264  4.63006997  0.92103042  0.75004468\n",
      "  0.33076497  0.37617219] gave -638.3399746356573\n"
     ]
    },
    {
     "name": "stdout",
     "output_type": "stream",
     "text": [
      "11\n"
     ]
    },
    {
     "name": "stderr",
     "output_type": "stream",
     "text": [
      "Info: Params [ 1.13217437  2.48547575 10.09260607  5.57494484  0.89263932  0.80029717\n",
      "  0.32298958  0.39586807] gave -248.82278352351005\n"
     ]
    },
    {
     "name": "stdout",
     "output_type": "stream",
     "text": [
      "11\n"
     ]
    },
    {
     "name": "stderr",
     "output_type": "stream",
     "text": [
      "Info: Params [ 0.84168346  1.54565226 11.65115     5.15754967  0.88622808  1.12833226\n",
      "  0.32217517  0.34350798] gave -73.91152456944185\n"
     ]
    },
    {
     "name": "stdout",
     "output_type": "stream",
     "text": [
      "11\n"
     ]
    },
    {
     "name": "stderr",
     "output_type": "stream",
     "text": [
      "Info: Params [1.54582842 2.5816872  7.46651148 5.17576765 0.67782    1.70204903\n",
      " 0.34769218 0.31754598] gave -210.40126104639074\n"
     ]
    },
    {
     "name": "stdout",
     "output_type": "stream",
     "text": [
      "11\n"
     ]
    },
    {
     "name": "stderr",
     "output_type": "stream",
     "text": [
      "Info: Params [2.16605684 2.77400915 8.2818475  2.72105292 0.75218199 0.94400711\n",
      " 0.33479044 0.38071497] gave -305.68311523943805\n"
     ]
    },
    {
     "name": "stdout",
     "output_type": "stream",
     "text": [
      "11\n"
     ]
    },
    {
     "name": "stderr",
     "output_type": "stream",
     "text": [
      "Info: Params [2.4401941  2.39368352 6.6421451  1.75913037 0.63596713 0.74966752\n",
      " 0.35712082 0.38668871] gave -282.7822330170643\n"
     ]
    },
    {
     "name": "stdout",
     "output_type": "stream",
     "text": [
      "12\n"
     ]
    },
    {
     "name": "stderr",
     "output_type": "stream",
     "text": [
      "Info: Params [ 2.29298731  2.37330707 10.24014322  2.34263663  5.63205261  0.8871813\n",
      "  0.15332852  0.30249456] gave -220.58495943320142\n"
     ]
    },
    {
     "name": "stdout",
     "output_type": "stream",
     "text": [
      "12\n"
     ]
    },
    {
     "name": "stderr",
     "output_type": "stream",
     "text": [
      "Info: Params [ 1.36014977  1.25841656 11.0250774   2.90881527  5.82384321  1.00679843\n",
      "  0.18189973  0.3278196 ] gave 52.43491018935599\n"
     ]
    },
    {
     "name": "stdout",
     "output_type": "stream",
     "text": [
      "12\n"
     ]
    },
    {
     "name": "stderr",
     "output_type": "stream",
     "text": [
      "Info: Params [0.35238752 0.82289173 9.6942005  1.10348175 4.56706758 0.78953921\n",
      " 0.14766227 0.31693859] gave 213.65933737112044\n"
     ]
    },
    {
     "name": "stdout",
     "output_type": "stream",
     "text": [
      "12\n"
     ]
    },
    {
     "name": "stderr",
     "output_type": "stream",
     "text": [
      "Info: Params [1.47739892 1.62859228 4.836566   2.89185676 2.01786073 1.25792786\n",
      " 0.14684909 0.26682443] gave 124.10799655595562\n"
     ]
    },
    {
     "name": "stdout",
     "output_type": "stream",
     "text": [
      "12\n"
     ]
    },
    {
     "name": "stderr",
     "output_type": "stream",
     "text": [
      "Info: Params [1.53569241 1.65829405 8.79737782 1.78899038 5.93618816 1.0139739\n",
      " 0.12320795 0.30871388] gave 35.69887450143712\n"
     ]
    },
    {
     "name": "stdout",
     "output_type": "stream",
     "text": [
      "12\n"
     ]
    },
    {
     "name": "stderr",
     "output_type": "stream",
     "text": [
      "Info: Params [1.85248251 1.57488084 7.82224688 2.73753062 5.69825892 1.82476451\n",
      " 0.12632852 0.16558258] gave 72.74523487374083\n"
     ]
    },
    {
     "name": "stdout",
     "output_type": "stream",
     "text": [
      "13\n"
     ]
    },
    {
     "name": "stderr",
     "output_type": "stream",
     "text": [
      "Info: Params [1.99537838 2.08082719 7.00491325 2.57729423 0.8832313  1.25490253\n",
      " 0.3152822  0.29572679] gave -89.06282717767493\n"
     ]
    },
    {
     "name": "stdout",
     "output_type": "stream",
     "text": [
      "13\n"
     ]
    },
    {
     "name": "stderr",
     "output_type": "stream",
     "text": [
      "Info: Params [1.43405769 1.65960714 7.13921242 1.14007554 0.8690776  0.81732706\n",
      " 0.33698451 0.40724945] gave 8.038555825710503\n"
     ]
    },
    {
     "name": "stdout",
     "output_type": "stream",
     "text": [
      "13\n"
     ]
    },
    {
     "name": "stderr",
     "output_type": "stream",
     "text": [
      "Info: Params [0.3520476  0.89441054 8.34837266 2.88765983 1.84333838 1.26649121\n",
      " 0.26830355 0.30685116] gave 246.3222567446541\n"
     ]
    },
    {
     "name": "stdout",
     "output_type": "stream",
     "text": [
      "13\n"
     ]
    },
    {
     "name": "stderr",
     "output_type": "stream",
     "text": [
      "Info: Params [ 1.46838667  1.66054482  7.06968813 -1.44673251  1.15043771  0.73901775\n",
      "  0.30551782  0.38272726] gave 76.22667690100631\n"
     ]
    },
    {
     "name": "stdout",
     "output_type": "stream",
     "text": [
      "13\n"
     ]
    },
    {
     "name": "stderr",
     "output_type": "stream",
     "text": [
      "Info: Params [1.96269516 1.56054786 6.16930961 0.57138163 1.05324055 0.87168752\n",
      " 0.31147329 0.38057991] gave 40.01201027614906\n"
     ]
    },
    {
     "name": "stdout",
     "output_type": "stream",
     "text": [
      "13\n"
     ]
    },
    {
     "name": "stderr",
     "output_type": "stream",
     "text": [
      "Info: Params [1.56216421 1.51111653 3.11730092 1.75898241 1.1367742  0.91555469\n",
      " 0.24221575 0.35228161] gave 107.07754760916391\n"
     ]
    },
    {
     "name": "stdout",
     "output_type": "stream",
     "text": [
      "14\n"
     ]
    },
    {
     "name": "stderr",
     "output_type": "stream",
     "text": [
      "Info: Params [ 3.38879847  2.50124766 10.59960963  2.60771423  5.94322025  1.61310115\n",
      "  0.16867481  0.23706656] gave -294.21183561270635\n"
     ]
    },
    {
     "name": "stdout",
     "output_type": "stream",
     "text": [
      "14\n"
     ]
    },
    {
     "name": "stderr",
     "output_type": "stream",
     "text": [
      "Info: Params [2.18739679 1.7383331  7.00303154 2.27533023 1.08331839 1.18000057\n",
      " 0.2944033  0.33050746] gave -26.28210116168419\n"
     ]
    },
    {
     "name": "stdout",
     "output_type": "stream",
     "text": [
      "14\n"
     ]
    },
    {
     "name": "stderr",
     "output_type": "stream",
     "text": [
      "Info: Params [1.48376813 1.32678939 7.5634163  2.35984301 1.05027099 1.92337585\n",
      " 0.31566046 0.18919062] gave 159.778215034153\n"
     ]
    },
    {
     "name": "stdout",
     "output_type": "stream",
     "text": [
      "14\n"
     ]
    },
    {
     "name": "stderr",
     "output_type": "stream",
     "text": [
      "Info: Params [  2.62892748   3.2199903    7.21859066 -13.34848516   0.91851125\n",
      "   0.50791915   0.37599244   0.49784205] gave -70.53878687719069\n"
     ]
    },
    {
     "name": "stdout",
     "output_type": "stream",
     "text": [
      "14\n"
     ]
    },
    {
     "name": "stderr",
     "output_type": "stream",
     "text": [
      "Info: Params [1.65041081 1.49498749 6.4467829  1.20267912 1.42950074 2.06967565\n",
      " 0.27217316 0.11659857] gave 182.95571986933822\n"
     ]
    },
    {
     "name": "stdout",
     "output_type": "stream",
     "text": [
      "14\n"
     ]
    },
    {
     "name": "stderr",
     "output_type": "stream",
     "text": [
      "Info: Params [  2.05734756   2.66440039   4.91344622 -14.46160512   0.73304493\n",
      "   0.50170345   0.34718465   0.48281212] gave 29.983782279814292\n"
     ]
    },
    {
     "name": "stdout",
     "output_type": "stream",
     "text": [
      "15\n"
     ]
    },
    {
     "name": "stderr",
     "output_type": "stream",
     "text": [
      "Info: Params [ 2.55672092  2.39852305 11.38182543  1.1116254   5.26818864  1.08587754\n",
      "  0.21617328  0.35748637] gave -194.17713697027574\n"
     ]
    },
    {
     "name": "stdout",
     "output_type": "stream",
     "text": [
      "15\n"
     ]
    },
    {
     "name": "stderr",
     "output_type": "stream",
     "text": [
      "Info: Params [1.84575223 2.11737718 9.22969338 2.57675131 5.61511266 1.63734069\n",
      " 0.17881914 0.34297842] gave -49.0772881406223\n"
     ]
    },
    {
     "name": "stdout",
     "output_type": "stream",
     "text": [
      "15\n"
     ]
    },
    {
     "name": "stderr",
     "output_type": "stream",
     "text": [
      "Info: Params [ 0.86015623  1.21637276 12.11457533  2.42206247  5.28114547  1.40445687\n",
      "  0.22635286  0.36566632] gave 134.27737447624457\n"
     ]
    },
    {
     "name": "stdout",
     "output_type": "stream",
     "text": [
      "15\n"
     ]
    },
    {
     "name": "stderr",
     "output_type": "stream",
     "text": [
      "Info: Params [ 1.86589328  2.14479457 11.57603819  0.94767386  5.70443423  1.0730375\n",
      "  0.22703356  0.43465988] gave -110.24672860719355\n"
     ]
    },
    {
     "name": "stdout",
     "output_type": "stream",
     "text": [
      "15\n"
     ]
    },
    {
     "name": "stderr",
     "output_type": "stream",
     "text": [
      "Info: Params [ 1.71425354  1.86657592 10.45007009  1.32074236  5.99633711  1.29451256\n",
      "  0.19940387  0.36462107] gave 0.3641692704160988\n"
     ]
    },
    {
     "name": "stdout",
     "output_type": "stream",
     "text": [
      "15\n"
     ]
    },
    {
     "name": "stderr",
     "output_type": "stream",
     "text": [
      "Info: Params [ 2.32608575  2.49111816 10.10036943 -4.36080356  2.97944791  0.62725142\n",
      "  0.26762127  0.47966486] gave -150.3501041572128\n"
     ]
    },
    {
     "name": "stdout",
     "output_type": "stream",
     "text": [
      "16\n"
     ]
    },
    {
     "name": "stderr",
     "output_type": "stream",
     "text": [
      "Info: Params [1.38510674 2.53780355 6.71040141 3.29501846 0.99061526 1.5513253\n",
      " 0.24112337 0.29337125] gave -135.91822921571003\n"
     ]
    },
    {
     "name": "stdout",
     "output_type": "stream",
     "text": [
      "16\n"
     ]
    },
    {
     "name": "stderr",
     "output_type": "stream",
     "text": [
      "Info: Params [ 1.035727    1.83601064  5.3809767  -0.24046211  1.30513146  0.73950728\n",
      "  0.19638354  0.4203864 ] gave 102.56204289172445\n"
     ]
    },
    {
     "name": "stdout",
     "output_type": "stream",
     "text": [
      "16\n"
     ]
    },
    {
     "name": "stderr",
     "output_type": "stream",
     "text": [
      "Info: Params [0.5981266  1.2378721  5.68556085 2.19482738 2.22248552 1.04364053\n",
      " 0.11086285 0.37348022] gave 264.3680727067558\n"
     ]
    },
    {
     "name": "stdout",
     "output_type": "stream",
     "text": [
      "16\n"
     ]
    },
    {
     "name": "stderr",
     "output_type": "stream",
     "text": [
      "Info: Params [1.02398526 1.95574066 7.56624231 2.53653811 3.83493024 1.22556034\n",
      " 0.11628829 0.37590152] gave 52.75683949730169\n"
     ]
    },
    {
     "name": "stdout",
     "output_type": "stream",
     "text": [
      "16\n"
     ]
    },
    {
     "name": "stderr",
     "output_type": "stream",
     "text": [
      "Info: Params [ 0.81543604  1.93221702  6.59823747 -1.07865166  2.89351576  0.77264654\n",
      "  0.11048705  0.40522303] gave 136.19977294962163\n"
     ]
    },
    {
     "name": "stdout",
     "output_type": "stream",
     "text": [
      "16\n"
     ]
    },
    {
     "name": "stderr",
     "output_type": "stream",
     "text": [
      "Info: Params [0.97941621 1.96746342 4.25470392 2.17583807 1.2564515  1.01730816\n",
      " 0.18492812 0.37891358] gave 137.18467756858584\n"
     ]
    },
    {
     "name": "stdout",
     "output_type": "stream",
     "text": [
      "17\n"
     ]
    },
    {
     "name": "stderr",
     "output_type": "stream",
     "text": [
      "Info: Params [ 2.93407272  3.27281112  5.2209842  -0.93278498  1.25111109  0.92423238\n",
      "  0.27743439  0.37452718] gave -314.883694220693\n"
     ]
    },
    {
     "name": "stdout",
     "output_type": "stream",
     "text": [
      "17\n"
     ]
    },
    {
     "name": "stderr",
     "output_type": "stream",
     "text": [
      "Info: Params [2.78562428 2.46126018 9.96222342 2.27020599 5.54432832 1.41325492\n",
      " 0.21727377 0.35525474] gave -210.30299422144014\n"
     ]
    },
    {
     "name": "stdout",
     "output_type": "stream",
     "text": [
      "17\n"
     ]
    },
    {
     "name": "stderr",
     "output_type": "stream",
     "text": [
      "Info: Params [1.82862482 1.91453093 6.58935445 3.24646607 1.07753965 1.38622632\n",
      " 0.30292825 0.38305995] gave -11.020851633528245\n"
     ]
    },
    {
     "name": "stdout",
     "output_type": "stream",
     "text": [
      "17\n"
     ]
    },
    {
     "name": "stderr",
     "output_type": "stream",
     "text": [
      "Info: Params [2.12726252 2.63003724 4.19047478 2.50759323 0.95415394 1.67637568\n",
      " 0.3087613  0.36723634] gave -141.56470882692844\n"
     ]
    },
    {
     "name": "stdout",
     "output_type": "stream",
     "text": [
      "17\n"
     ]
    },
    {
     "name": "stderr",
     "output_type": "stream",
     "text": [
      "Info: Params [2.47774716 2.29312212 4.05602561 2.7897801  0.86346814 1.69010126\n",
      " 0.33129366 0.34163464] gave -147.11415465287473\n"
     ]
    },
    {
     "name": "stdout",
     "output_type": "stream",
     "text": [
      "17\n"
     ]
    },
    {
     "name": "stderr",
     "output_type": "stream",
     "text": [
      "Info: Params [2.2719523  2.2476132  6.70013343 2.47111129 5.9521547  1.97401983\n",
      " 0.11072991 0.28218258] gave -66.3403057285255\n"
     ]
    },
    {
     "name": "stdout",
     "output_type": "stream",
     "text": [
      "           2    2    2    2    2    2    4    4    4    4   ...   17   17  \\\n",
      "Accuracy  1.0  1.0  1.0  1.0  1.0  1.0  1.0  1.0  1.0  1.0  ...  1.0  1.0   \n",
      "Speed     1.0  1.0  1.0  1.0  1.0  1.0  1.0  1.0  1.0  1.0  ...  1.0  1.0   \n",
      "\n",
      "           17   17   18   18   18   18   18   18  \n",
      "Accuracy  1.0  1.0  1.0  1.0  1.0  1.0  1.0  1.0  \n",
      "Speed     1.0  1.0  1.0  1.0  1.0  1.0  1.0  1.0  \n",
      "\n",
      "[2 rows x 96 columns]\n"
     ]
    }
   ],
   "source": [
    "path = \"/Users/wangjiashun/Desktop/Reserach on SAT/datasets/transformed/Wagenmakers2008/SpeedAccData_new.csv\"\n",
    "participants = [1,  3,  4,  5,  6,  7,  8,  9, 10, 11, 12, 13, 14, 15, 16, 17]\n",
    "\n",
    "\n",
    "df_all = pd.DataFrame()\n",
    "valid_ratio_dfs = pd.DataFrame()\n",
    "\n",
    "for i in participants:\n",
    "    for freq in range(1,7):\n",
    "        print(i)\n",
    "        df = pd.read_csv(path, sep = \",\")\n",
    "        df = df[df[\"Participant\"]==i]\n",
    "        df = df[df[\"Frequency\"]==freq]\n",
    "\n",
    "        counts_before = df['Cond'].value_counts()\n",
    "        df = df[df[\"Time\"]<5]\n",
    "        counts_after = df['Cond'].value_counts()\n",
    "        valid_ratio = counts_before/counts_after\n",
    "        valid_ratio_df = valid_ratio.to_frame(i+1)\n",
    "        valid_ratio_dfs = pd.concat((valid_ratio_dfs,valid_ratio_df), axis = 1)\n",
    "\n",
    "        samp = Sample.from_pandas_dataframe(df, rt_column_name=\"Time\", choice_column_name=\"Correct\")\n",
    "        df = get_OUM_result_sub_2v2a2k2ter(samp)\n",
    "        df['Frequency'] = freq\n",
    "        df[\"Participant\"]=i\n",
    "        df_all = pd.concat((df_all,df))\n",
    "    \n",
    "df_OUM = df_all.copy()\n",
    "df_OUM.to_csv(\"Parameter Estimates/OUM2v2a2k2terresultWagenmakers2008.csv\")\n",
    "print(valid_ratio_dfs)"
   ]
  },
  {
   "cell_type": "code",
   "execution_count": 2,
   "id": "c5baddcf",
   "metadata": {},
   "outputs": [],
   "source": [
    "class DriftLinearSATFreqFull(Drift):\n",
    "    name = \"DriftLinearSATFreqFull\"\n",
    "    required_parameters = ['V1Speed','V2Speed','V3Speed','V4Speed','V5Speed','V6Speed',\n",
    "                           'V1Acc','V2Acc','V3Acc','V4Acc','V5Acc','V6Acc', 'KSpeed', \"KAcc\"]\n",
    "    required_conditions = ['Cond', 'Frequency']\n",
    "    def get_drift(self, x, t, conditions, **kwargs):\n",
    "        #print(conditions['Brightness'])\n",
    "        #print(conditions['Cond'])\n",
    "        if conditions['Cond'] == \"Speed\":\n",
    "            if conditions['Frequency'] == 1:\n",
    "                return self.V1Speed + x*self.KSpeed\n",
    "            elif conditions['Frequency'] == 2:\n",
    "                return self.V2Speed + x*self.KSpeed\n",
    "            elif conditions['Frequency'] == 3:\n",
    "                return self.V3Speed + x*self.KSpeed\n",
    "            elif conditions['Frequency'] == 4:\n",
    "                return self.V4Speed + x*self.KSpeed\n",
    "            elif conditions['Frequency'] == 5:\n",
    "                return self.V5Speed + x*self.KSpeed\n",
    "            elif conditions['Frequency'] == 6:\n",
    "                return self.V6Speed + x*self.KSpeed\n",
    "        elif conditions['Cond'] == \"Accuracy\":\n",
    "            if conditions['Frequency'] == 1:\n",
    "                return self.V1Acc + x*self.KAcc\n",
    "            elif conditions['Frequency'] == 2:\n",
    "                return self.V2Acc + x*self.KAcc\n",
    "            elif conditions['Frequency'] == 3:\n",
    "                return self.V3Acc + x*self.KAcc\n",
    "            elif conditions['Frequency'] == 4:\n",
    "                return self.V4Acc + x*self.KAcc\n",
    "            elif conditions['Frequency'] == 5:\n",
    "                return self.V5Acc + x*self.KAcc\n",
    "            elif conditions['Frequency'] == 6:\n",
    "                return self.V6Acc + x*self.KAcc\n",
    "        else:\n",
    "            print(\"Non-implemented conditions\")"
   ]
  },
  {
   "cell_type": "code",
   "execution_count": 3,
   "id": "2d0c573d",
   "metadata": {},
   "outputs": [],
   "source": [
    "def get_OUM_result_sub_2v2a2k2ter(samp, v = [0,6], a = [0.5,6], k = [-15,15], ter=[0.1,1], T_dur=5, dt=.01):\n",
    "    \n",
    "    model_fit = Model(name='Simple model (fitted)',\n",
    "                      drift=DriftLinearSATFreqFull(V1Speed= Fittable(minval=v[0], maxval=v[1]),\n",
    "                                             V2Speed= Fittable(minval=v[0], maxval=v[1]),\n",
    "                                             V3Speed= Fittable(minval=v[0], maxval=v[1]),\n",
    "                                             V4Speed= Fittable(minval=v[0], maxval=v[1]),\n",
    "                                             V5Speed= Fittable(minval=v[0], maxval=v[1]),\n",
    "                                             V6Speed= Fittable(minval=v[0], maxval=v[1]),\n",
    "                                             V1Acc  = Fittable(minval=v[0], maxval=v[1]),\n",
    "                                             V2Acc  = Fittable(minval=v[0], maxval=v[1]),\n",
    "                                             V3Acc  = Fittable(minval=v[0], maxval=v[1]),\n",
    "                                             V4Acc  = Fittable(minval=v[0], maxval=v[1]),\n",
    "                                             V5Acc  = Fittable(minval=v[0], maxval=v[1]),\n",
    "                                             V6Acc  = Fittable(minval=v[0], maxval=v[1]),\n",
    "                                             KSpeed = Fittable(minval=k[0], maxval=k[1]),\n",
    "                                             KAcc = Fittable(minval=k[0], maxval=k[1])), \n",
    "                      noise=NoiseConstant(noise=1),\n",
    "                      bound=BoundSpeedAcc(\n",
    "                          Bspeed=Fittable(minval=a[0], maxval=a[1]),\n",
    "                          Bacc=Fittable(minval=a[0], maxval=a[1])),\n",
    "                      overlay=NondecisionSpeedAcc(\n",
    "                          tSpeed=Fittable(minval=ter[0], maxval=ter[1]),\n",
    "                          tAcc=Fittable(minval=ter[0], maxval=ter[1]),\n",
    "\n",
    "                      ),\n",
    "                      dx=.01, dt=dt, T_dur=T_dur)\n",
    "    fit_adjust_model(samp, model_fit,\n",
    "                     fitting_method=\"differential_evolution\",\n",
    "                     lossfunction=LossRobustBIC, verbose=False)\n",
    "    df = pd.DataFrame(data = np.array(model_fit.get_model_parameters()).reshape(1,18),\n",
    "                      columns = model_fit.get_model_parameter_names())\n",
    "    \n",
    "    df['BIC'] = model_fit.get_fit_result().value()\n",
    "    df = df.rename(columns={\n",
    "                            'Bspeed': 'Boundary Separation Speed',\n",
    "                            'Bacc': 'Boundary Separation Accuracy',\n",
    "                            'Kspeed': \"Self-excitation Speed\",\n",
    "                            'Kacc': \"Self-excitation Accuracy\",\n",
    "                            'tSpeed': 'Non-decision Time Speed',\n",
    "                            'tAcc': 'Non-decision Time Accuracy'})\n",
    "    return df"
   ]
  },
  {
   "cell_type": "code",
   "execution_count": 4,
   "id": "7d44d344",
   "metadata": {},
   "outputs": [
    {
     "name": "stdout",
     "output_type": "stream",
     "text": [
      "1\n"
     ]
    },
    {
     "name": "stderr",
     "output_type": "stream",
     "text": [
      "Info: Params [2.78204219 2.65323218 0.91541897 2.15884069 3.02100237 3.21293149\n",
      " 3.82088032 2.67846789 1.72731479 3.03454266 2.72783378 2.85465166\n",
      " 6.19486792 5.59502597 0.74004855 0.92141426 0.33381507 0.3413567 ] gave -1024.3866484817247\n"
     ]
    },
    {
     "name": "stdout",
     "output_type": "stream",
     "text": [
      "3\n"
     ]
    },
    {
     "name": "stderr",
     "output_type": "stream",
     "text": [
      "Info: Params [2.96927504 1.62042495 1.60370236 1.93896734 3.00666366 2.41850538\n",
      " 3.25136107 2.23420321 1.81644267 2.42667571 2.04443008 2.21680393\n",
      " 6.66859885 2.7880454  1.01607156 1.43736621 0.29225058 0.32794646] gave -343.33566186495847\n"
     ]
    },
    {
     "name": "stdout",
     "output_type": "stream",
     "text": [
      "4\n"
     ]
    },
    {
     "name": "stderr",
     "output_type": "stream",
     "text": [
      "Info: Params [ 4.46031985  2.60647078  1.59273022  3.20966908  3.62435681  3.65050255\n",
      "  4.00941719  2.92501597  2.05550346  2.79519057  2.41608351  2.48474637\n",
      " 10.10818458  4.22401759  0.68305561  1.12289482  0.32559516  0.30284641] gave -1316.5149434759712\n"
     ]
    },
    {
     "name": "stdout",
     "output_type": "stream",
     "text": [
      "5\n"
     ]
    },
    {
     "name": "stderr",
     "output_type": "stream",
     "text": [
      "Info: Params [ 5.8594119   4.03817559  2.35604422  3.87409391  3.93461252  3.85467119\n",
      "  4.26225708  3.03197446  3.06094402  3.318833    2.3659578   2.92091594\n",
      " 12.90234686  5.97502611  1.61469322  2.46202738  0.30648995  0.32302592] gave -1419.0364571190146\n"
     ]
    },
    {
     "name": "stdout",
     "output_type": "stream",
     "text": [
      "6\n"
     ]
    },
    {
     "name": "stderr",
     "output_type": "stream",
     "text": [
      "Info: Params [ 2.17779078  1.5163419   0.43348381  0.94754099  0.71836274  0.61776171\n",
      "  3.67357082  2.21602671  1.52266538  2.17992731  2.35573369  2.76048515\n",
      " 10.73227773  4.08813469  5.94702165  1.01884584  0.10176596  0.36392405] gave -478.3889216300837\n"
     ]
    },
    {
     "name": "stdout",
     "output_type": "stream",
     "text": [
      "7\n"
     ]
    },
    {
     "name": "stderr",
     "output_type": "stream",
     "text": [
      "Info: Params [ 0.21152381  0.          0.          1.78793839  2.25612694  1.77110727\n",
      "  2.47148766  1.47244224  0.7523695   1.59963106  1.415565    1.73923743\n",
      " 10.26083857  5.55279855  4.53334346  2.04170105  0.10178675  0.20625974] gave -34.48427576208155\n"
     ]
    },
    {
     "name": "stdout",
     "output_type": "stream",
     "text": [
      "8\n"
     ]
    },
    {
     "name": "stderr",
     "output_type": "stream",
     "text": [
      "Info: Params [0.61928342 0.         0.         0.48328864 0.38287071 0.11133744\n",
      " 1.85663451 0.87581984 0.43952079 1.06782466 1.28030292 1.36456095\n",
      " 6.52177014 1.8638137  2.04292369 2.1806492  0.10730832 0.11589395] gave 1073.0846061723041\n"
     ]
    },
    {
     "name": "stdout",
     "output_type": "stream",
     "text": [
      "9\n"
     ]
    },
    {
     "name": "stderr",
     "output_type": "stream",
     "text": [
      "Info: Params [4.40084172 2.05631936 0.84145075 3.02201406 2.96231457 2.98743245\n",
      " 2.9696019  1.94175339 1.47167054 2.04287736 2.0569009  2.36943466\n",
      " 7.85388782 3.03582969 0.61349007 1.80570298 0.38188141 0.2730221 ] gave -638.8015638484982\n"
     ]
    },
    {
     "name": "stdout",
     "output_type": "stream",
     "text": [
      "10\n"
     ]
    },
    {
     "name": "stderr",
     "output_type": "stream",
     "text": [
      "Info: Params [2.6426828  1.15567841 0.71083857 2.40394584 2.5101582  2.45741583\n",
      " 4.06650673 2.68389744 2.26186234 2.66164534 2.05898916 2.61377595\n",
      " 6.35995744 3.42554514 0.76738921 1.26072179 0.27288056 0.30115151] gave -1646.5741522763801\n"
     ]
    },
    {
     "name": "stdout",
     "output_type": "stream",
     "text": [
      "11\n"
     ]
    },
    {
     "name": "stderr",
     "output_type": "stream",
     "text": [
      "Info: Params [ 4.02789988  1.19864069  0.99067455  1.29660814  2.20151341  2.27734362\n",
      "  4.72817742  2.58352076  1.61614851  2.36559819  2.32496549  2.32336427\n",
      " 14.16695273  4.69767705  4.82075947  1.09870902  0.2409082   0.35805625] gave -1766.2791151038252\n"
     ]
    },
    {
     "name": "stdout",
     "output_type": "stream",
     "text": [
      "12\n"
     ]
    },
    {
     "name": "stderr",
     "output_type": "stream",
     "text": [
      "Info: Params [2.37311787 1.27315668 0.42752332 1.47786127 1.51984841 1.60572678\n",
      " 2.54418739 1.2298689  0.87140172 1.59779545 1.58618472 1.4998858\n",
      " 8.84757622 2.69710687 5.91609064 1.1543689  0.12208022 0.27892833] gave 291.670892311454\n"
     ]
    },
    {
     "name": "stdout",
     "output_type": "stream",
     "text": [
      "13\n"
     ]
    },
    {
     "name": "stderr",
     "output_type": "stream",
     "text": [
      "Info: Params [2.34248878 1.34022254 0.45225467 1.38592747 1.75978585 1.9070583\n",
      " 1.92432262 1.58369221 0.89441323 1.56707068 1.47237637 1.53680132\n",
      " 6.98468067 2.03989649 1.10064928 1.0690399  0.3050053  0.33149077] gave 404.09860607975145\n"
     ]
    },
    {
     "name": "stdout",
     "output_type": "stream",
     "text": [
      "14\n"
     ]
    },
    {
     "name": "stderr",
     "output_type": "stream",
     "text": [
      "Info: Params [ 3.97819387  2.38291738  1.47668827  1.91547899  1.53755757  1.86296477\n",
      "  2.34974658  1.90532547  1.2583356   1.92992151  1.39238022  1.52686982\n",
      "  7.02875356 -1.40807555  1.45942384  0.81427968  0.27660682  0.36518513] gave 129.8992586558311\n"
     ]
    },
    {
     "name": "stdout",
     "output_type": "stream",
     "text": [
      "15\n"
     ]
    },
    {
     "name": "stderr",
     "output_type": "stream",
     "text": [
      "Info: Params [ 2.6751182   1.86626616  0.90614041  1.77951471  1.70618121  2.1523543\n",
      "  2.66222297  2.0505263   1.23750129  1.89067399  1.78451498  2.15195378\n",
      " 10.78329024  2.01185189  5.11980567  1.39771783  0.21821767  0.35822044] gave -451.04043578675726\n"
     ]
    },
    {
     "name": "stdout",
     "output_type": "stream",
     "text": [
      "16\n"
     ]
    },
    {
     "name": "stderr",
     "output_type": "stream",
     "text": [
      "Info: Params [1.47245045 1.12651779 0.76702467 1.06451065 0.75716566 0.69534771\n",
      " 2.36731797 1.82875639 1.32873103 1.83639031 1.65095523 2.11488815\n",
      " 4.41600727 2.47362906 1.10504676 1.23749439 0.20585763 0.34472457] gave 507.6761250541979\n"
     ]
    },
    {
     "name": "stdout",
     "output_type": "stream",
     "text": [
      "17\n"
     ]
    },
    {
     "name": "stderr",
     "output_type": "stream",
     "text": [
      "Info: Params [3.61039063 2.52304742 2.00561329 2.0296947  2.19232774 2.14645944\n",
      " 3.22098569 2.51483286 2.04163326 2.33952074 2.23652417 2.21751284\n",
      " 7.21726431 2.80600684 2.06276656 1.93850361 0.25458603 0.30742515] gave -890.4426824253981\n"
     ]
    },
    {
     "ename": "NameError",
     "evalue": "name 'valid_ratio_dfs' is not defined",
     "output_type": "error",
     "traceback": [
      "\u001b[0;31m---------------------------------------------------------------------------\u001b[0m",
      "\u001b[0;31mNameError\u001b[0m                                 Traceback (most recent call last)",
      "Cell \u001b[0;32mIn[4], line 21\u001b[0m\n\u001b[1;32m     19\u001b[0m df_OUM \u001b[38;5;241m=\u001b[39m df_all\u001b[38;5;241m.\u001b[39mcopy()\n\u001b[1;32m     20\u001b[0m df_OUM\u001b[38;5;241m.\u001b[39mto_csv(\u001b[38;5;124m\"\u001b[39m\u001b[38;5;124mParameter Estimates/OUM2v2a2k2terCombinedresultWagenmakers2008.csv\u001b[39m\u001b[38;5;124m\"\u001b[39m)\n\u001b[0;32m---> 21\u001b[0m \u001b[38;5;28mprint\u001b[39m(valid_ratio_dfs)\n",
      "\u001b[0;31mNameError\u001b[0m: name 'valid_ratio_dfs' is not defined"
     ]
    }
   ],
   "source": [
    "path = \"/Users/wangjiashun/Desktop/Research_on_SAT/datasets/transformed/Wagenmakers2008/SpeedAccData_new.csv\"\n",
    "participants = [1,  3,  4,  5,  6,  7,  8,  9, 10, 11, 12, 13, 14, 15, 16, 17]\n",
    "\n",
    "\n",
    "df_all = pd.DataFrame()\n",
    "\n",
    "for i in participants:\n",
    "        print(i)\n",
    "        df = pd.read_csv(path, sep = \",\")\n",
    "        df = df[df[\"Participant\"]==i]\n",
    "\n",
    "        df = df[df[\"Time\"]<5]\n",
    "\n",
    "        samp = Sample.from_pandas_dataframe(df, rt_column_name=\"Time\", choice_column_name=\"Correct\")\n",
    "        df = get_OUM_result_sub_2v2a2k2ter(samp)\n",
    "        df[\"Participant\"]=i\n",
    "        df_all = pd.concat((df_all,df))\n",
    "    \n",
    "df_OUM = df_all.copy()\n",
    "df_OUM.to_csv(\"Parameter Estimates/OUM2v2a2k2terCombinedresultWagenmakers2008.csv\")\n",
    "print(valid_ratio_dfs)"
   ]
  },
  {
   "cell_type": "code",
   "execution_count": null,
   "id": "29eeecde",
   "metadata": {},
   "outputs": [],
   "source": []
  }
 ],
 "metadata": {
  "kernelspec": {
   "display_name": "Python 3 (ipykernel)",
   "language": "python",
   "name": "python3"
  },
  "language_info": {
   "codemirror_mode": {
    "name": "ipython",
    "version": 3
   },
   "file_extension": ".py",
   "mimetype": "text/x-python",
   "name": "python",
   "nbconvert_exporter": "python",
   "pygments_lexer": "ipython3",
   "version": "3.11.4"
  }
 },
 "nbformat": 4,
 "nbformat_minor": 5
}
