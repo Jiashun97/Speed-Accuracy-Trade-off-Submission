{
 "cells": [
  {
   "cell_type": "code",
   "execution_count": 1,
   "id": "2cda49de",
   "metadata": {},
   "outputs": [],
   "source": [
    "%run SAT_help_functions.ipynb"
   ]
  },
  {
   "cell_type": "code",
   "execution_count": null,
   "id": "21316b10",
   "metadata": {},
   "outputs": [],
   "source": []
  },
  {
   "cell_type": "code",
   "execution_count": null,
   "id": "0236eadb",
   "metadata": {},
   "outputs": [],
   "source": []
  },
  {
   "cell_type": "code",
   "execution_count": null,
   "id": "2f74752d",
   "metadata": {},
   "outputs": [],
   "source": []
  },
  {
   "cell_type": "markdown",
   "id": "4bd26666",
   "metadata": {},
   "source": [
    "## OUM"
   ]
  },
  {
   "cell_type": "code",
   "execution_count": 2,
   "id": "80376f45",
   "metadata": {},
   "outputs": [],
   "source": [
    "SAT_conds = [\"Speed\", \"Accuracy\"]"
   ]
  },
  {
   "cell_type": "code",
   "execution_count": 6,
   "id": "9ef6c434",
   "metadata": {
    "scrolled": true
   },
   "outputs": [
    {
     "name": "stdout",
     "output_type": "stream",
     "text": [
      "0\n"
     ]
    },
    {
     "name": "stderr",
     "output_type": "stream",
     "text": [
      "Info: Params [1.17344483 0.63888463 0.80542311 0.24660128 0.34511181] gave 298.36279829271876\n"
     ]
    },
    {
     "name": "stdout",
     "output_type": "stream",
     "text": [
      "1\n"
     ]
    },
    {
     "name": "stderr",
     "output_type": "stream",
     "text": [
      "Info: Params [0.45997103 0.58924646 0.86184066 0.27285062 0.43067768] gave 579.0037805941897\n"
     ]
    },
    {
     "name": "stdout",
     "output_type": "stream",
     "text": [
      "2\n"
     ]
    },
    {
     "name": "stderr",
     "output_type": "stream",
     "text": [
      "Info: Params [1.56324182 0.55781659 0.75344788 0.24535201 0.36249669] gave 11.334692460397111\n"
     ]
    },
    {
     "name": "stdout",
     "output_type": "stream",
     "text": [
      "3\n"
     ]
    },
    {
     "name": "stderr",
     "output_type": "stream",
     "text": [
      "Info: Params [0.85196403 0.5        0.89757141 0.21386228 0.23508537] gave 294.40476196912675\n"
     ]
    },
    {
     "name": "stdout",
     "output_type": "stream",
     "text": [
      "4\n"
     ]
    },
    {
     "name": "stderr",
     "output_type": "stream",
     "text": [
      "Info: Params [1.15247877 0.56619095 0.64709787 0.2373123  0.34612545] gave 156.38862562671906\n"
     ]
    },
    {
     "name": "stdout",
     "output_type": "stream",
     "text": [
      "5\n"
     ]
    },
    {
     "name": "stderr",
     "output_type": "stream",
     "text": [
      "Info: Params [1.447956   0.62477363 0.85712035 0.32677539 0.47616584] gave 141.95567282826607\n"
     ]
    },
    {
     "name": "stdout",
     "output_type": "stream",
     "text": [
      "6\n"
     ]
    },
    {
     "name": "stderr",
     "output_type": "stream",
     "text": [
      "Info: Params [1.28519818 0.5837849  0.70903025 0.24009521 0.29249035] gave 140.33133165966615\n"
     ]
    },
    {
     "name": "stdout",
     "output_type": "stream",
     "text": [
      "7\n"
     ]
    },
    {
     "name": "stderr",
     "output_type": "stream",
     "text": [
      "Info: Params [1.62009357 0.60955273 0.6197668  0.29388295 0.38359857] gave -41.440413084594056\n"
     ]
    },
    {
     "name": "stdout",
     "output_type": "stream",
     "text": [
      "8\n"
     ]
    },
    {
     "name": "stderr",
     "output_type": "stream",
     "text": [
      "Info: Params [1.39379972 0.52620432 0.71073392 0.34570835 0.35212928] gave 41.9820549686181\n"
     ]
    },
    {
     "name": "stdout",
     "output_type": "stream",
     "text": [
      "9\n"
     ]
    },
    {
     "name": "stderr",
     "output_type": "stream",
     "text": [
      "Info: Params [0.83599956 0.5460971  0.87959929 0.23723395 0.47251632] gave 429.1279956702463\n"
     ]
    },
    {
     "name": "stdout",
     "output_type": "stream",
     "text": [
      "10\n"
     ]
    },
    {
     "name": "stderr",
     "output_type": "stream",
     "text": [
      "Info: Params [1.22637837 0.71228582 1.0300024  0.22319015 0.27413804] gave 424.9545026579712\n"
     ]
    },
    {
     "name": "stdout",
     "output_type": "stream",
     "text": [
      "11\n"
     ]
    },
    {
     "name": "stderr",
     "output_type": "stream",
     "text": [
      "Info: Params [1.22595576 0.58665085 0.7312831  0.29140188 0.39211575] gave 168.61413169126692\n"
     ]
    },
    {
     "name": "stdout",
     "output_type": "stream",
     "text": [
      "12\n"
     ]
    },
    {
     "name": "stderr",
     "output_type": "stream",
     "text": [
      "Info: Params [1.28129174 0.57101764 0.59721807 0.23764991 0.30191801] gave 60.682468863038395\n"
     ]
    },
    {
     "name": "stdout",
     "output_type": "stream",
     "text": [
      "13\n"
     ]
    },
    {
     "name": "stderr",
     "output_type": "stream",
     "text": [
      "Info: Params [1.15657468 0.53809293 0.80347425 0.24444863 0.31307368] gave 223.9614669260138\n"
     ]
    },
    {
     "name": "stdout",
     "output_type": "stream",
     "text": [
      "14\n"
     ]
    },
    {
     "name": "stderr",
     "output_type": "stream",
     "text": [
      "Info: Params [1.01479016 0.53415138 0.64281309 0.23842149 0.25166727] gave 156.8230427769895\n"
     ]
    },
    {
     "name": "stdout",
     "output_type": "stream",
     "text": [
      "15\n"
     ]
    },
    {
     "name": "stderr",
     "output_type": "stream",
     "text": [
      "Info: Params [1.83261567 0.53708208 0.81257888 0.24550581 0.30530662] gave -77.02473965285434\n"
     ]
    },
    {
     "name": "stdout",
     "output_type": "stream",
     "text": [
      "16\n"
     ]
    },
    {
     "name": "stderr",
     "output_type": "stream",
     "text": [
      "Info: Params [0.94518966 0.51726201 0.588676   0.26807162 0.36424741] gave 98.43837909887193\n"
     ]
    },
    {
     "name": "stdout",
     "output_type": "stream",
     "text": [
      "17\n"
     ]
    },
    {
     "name": "stderr",
     "output_type": "stream",
     "text": [
      "Info: Params [1.86635407 0.5904621  0.68007381 0.27290478 0.34041221] gave -129.73911787364872\n"
     ]
    },
    {
     "name": "stdout",
     "output_type": "stream",
     "text": [
      "18\n"
     ]
    },
    {
     "name": "stderr",
     "output_type": "stream",
     "text": [
      "Info: Params [1.63957756 0.59096787 0.74521404 0.271861   0.30424703] gave 29.634191212178127\n"
     ]
    },
    {
     "name": "stdout",
     "output_type": "stream",
     "text": [
      "19\n"
     ]
    },
    {
     "name": "stderr",
     "output_type": "stream",
     "text": [
      "Info: Params [0.50674435 0.563302   0.65130993 0.24220052 0.31154876] gave 354.60054947865797\n"
     ]
    },
    {
     "name": "stdout",
     "output_type": "stream",
     "text": [
      "           1    2    3    4    5    6    7    8    9    10   11   12   13  \\\n",
      "Accuracy  1.0  1.0  1.0  1.0  1.0  1.0  1.0  1.0  1.0  1.0  1.0  1.0  1.0   \n",
      "Speed     1.0  1.0  1.0  1.0  1.0  1.0  1.0  1.0  1.0  1.0  1.0  1.0  1.0   \n",
      "\n",
      "           14   15   16   17   18   19   20  \n",
      "Accuracy  1.0  1.0  1.0  1.0  1.0  1.0  1.0  \n",
      "Speed     1.0  1.0  1.0  1.0  1.0  1.0  1.0  \n"
     ]
    }
   ],
   "source": [
    "data_dir = \"/Users/wangjiashun/Desktop/Research_on_SAT/datasets/transformed/Dutilh2019/sub\"\n",
    "sample_size = 20\n",
    "\n",
    "df_all = pd.DataFrame()\n",
    "valid_ratio_dfs = pd.DataFrame()\n",
    "\n",
    "for i in range(sample_size):\n",
    "    print(i)\n",
    "    path = os.path.join(data_dir+str(i+1)+\".csv\")\n",
    "    df = pd.read_csv(path, sep = \",\")\n",
    "    \n",
    "    counts_before = df['Cond'].value_counts()\n",
    "    df = df[df[\"Time\"]<5]\n",
    "    counts_after = df['Cond'].value_counts()\n",
    "    valid_ratio = counts_before/counts_after\n",
    "    valid_ratio_df = valid_ratio.to_frame(i+1)\n",
    "    valid_ratio_dfs = pd.concat((valid_ratio_dfs,valid_ratio_df), axis = 1)\n",
    "    \n",
    "    samp = Sample.from_pandas_dataframe(df, rt_column_name=\"Time\", choice_column_name=\"Correct\")\n",
    "    df = get_DDM_result_sub_2a2ter(samp)\n",
    "    df_all = pd.concat((df_all,df))\n",
    "    \n",
    "df_OUM = df_all.copy()\n",
    "df_OUM.to_csv(\"Parameter Estimates/DDM2a2terresultDutilh2019.csv\")\n",
    "print(valid_ratio_dfs)\n"
   ]
  },
  {
   "cell_type": "code",
   "execution_count": 7,
   "id": "e776257c",
   "metadata": {},
   "outputs": [
    {
     "name": "stdout",
     "output_type": "stream",
     "text": [
      "0\n"
     ]
    },
    {
     "name": "stderr",
     "output_type": "stream",
     "text": [
      "Info: Params [0.5808623  0.5        0.66706625 0.27022019 0.31923105] gave 571.1636608566643\n"
     ]
    },
    {
     "name": "stdout",
     "output_type": "stream",
     "text": [
      "1\n"
     ]
    },
    {
     "name": "stderr",
     "output_type": "stream",
     "text": [
      "Info: Params [1.86067595 0.54863809 0.62312296 0.34573687 0.37737181] gave -186.69927212114075\n"
     ]
    },
    {
     "name": "stdout",
     "output_type": "stream",
     "text": [
      "2\n"
     ]
    },
    {
     "name": "stderr",
     "output_type": "stream",
     "text": [
      "Info: Params [0.         0.8575237  0.7714827  0.13752878 0.56222301] gave 645.4716987738552\n"
     ]
    },
    {
     "name": "stdout",
     "output_type": "stream",
     "text": [
      "3\n"
     ]
    },
    {
     "name": "stderr",
     "output_type": "stream",
     "text": [
      "Info: Params [4.27241672 0.80543386 0.9890953  0.31825932 0.30538234] gave -200.32091351228783\n"
     ]
    },
    {
     "name": "stdout",
     "output_type": "stream",
     "text": [
      "4\n"
     ]
    },
    {
     "name": "stderr",
     "output_type": "stream",
     "text": [
      "Info: Params [2.24539958 0.80471602 0.80105863 0.21877785 0.29340148] gave -67.45923440361621\n"
     ]
    },
    {
     "name": "stdout",
     "output_type": "stream",
     "text": [
      "5\n"
     ]
    },
    {
     "name": "stderr",
     "output_type": "stream",
     "text": [
      "Info: Params [1.61972975 0.5970423  0.8222809  0.25625991 0.27168175] gave -34.35882600876717\n"
     ]
    },
    {
     "name": "stdout",
     "output_type": "stream",
     "text": [
      "6\n"
     ]
    },
    {
     "name": "stderr",
     "output_type": "stream",
     "text": [
      "Info: Params [1.62757446 0.53598981 0.51728975 0.23719037 0.40385077] gave -328.8345789373164\n"
     ]
    },
    {
     "name": "stdout",
     "output_type": "stream",
     "text": [
      "7\n"
     ]
    },
    {
     "name": "stderr",
     "output_type": "stream",
     "text": [
      "Info: Params [1.70259226 0.75680443 0.6730032  0.1657974  0.27373116] gave 8.475717739971863\n"
     ]
    },
    {
     "name": "stdout",
     "output_type": "stream",
     "text": [
      "8\n"
     ]
    },
    {
     "name": "stderr",
     "output_type": "stream",
     "text": [
      "Info: Params [1.12664209 0.76220122 0.62762703 0.1516745  0.31256598] gave 239.3918766346816\n"
     ]
    },
    {
     "name": "stdout",
     "output_type": "stream",
     "text": [
      "9\n"
     ]
    },
    {
     "name": "stderr",
     "output_type": "stream",
     "text": [
      "Info: Params [0.1976133  0.53526341 0.67930059 0.14824861 0.25376697] gave 352.5543126395175\n"
     ]
    },
    {
     "name": "stdout",
     "output_type": "stream",
     "text": [
      "10\n"
     ]
    },
    {
     "name": "stderr",
     "output_type": "stream",
     "text": [
      "Info: Params [3.2966748  1.06950849 0.86337718 0.29800197 0.38370158] gave -71.73324999442147\n"
     ]
    },
    {
     "name": "stdout",
     "output_type": "stream",
     "text": [
      "11\n"
     ]
    },
    {
     "name": "stderr",
     "output_type": "stream",
     "text": [
      "Info: Params [2.58137221 0.55034918 0.69437943 0.31905592 0.32592699] gave -635.1660627265907\n"
     ]
    },
    {
     "name": "stdout",
     "output_type": "stream",
     "text": [
      "12\n"
     ]
    },
    {
     "name": "stderr",
     "output_type": "stream",
     "text": [
      "Info: Params [3.66279054 0.73006691 0.70690516 0.28467441 0.29202746] gave -601.9754390034964\n"
     ]
    },
    {
     "name": "stdout",
     "output_type": "stream",
     "text": [
      "13\n"
     ]
    },
    {
     "name": "stderr",
     "output_type": "stream",
     "text": [
      "Info: Params [1.83882131 0.54810384 0.62968585 0.23207513 0.30780555] gave -330.0871458645834\n"
     ]
    },
    {
     "name": "stdout",
     "output_type": "stream",
     "text": [
      "14\n"
     ]
    },
    {
     "name": "stderr",
     "output_type": "stream",
     "text": [
      "Info: Params [0.25848097 0.50526785 0.68973633 0.32451323 0.31657693] gave 765.5963601983459\n"
     ]
    },
    {
     "name": "stdout",
     "output_type": "stream",
     "text": [
      "15\n"
     ]
    },
    {
     "name": "stderr",
     "output_type": "stream",
     "text": [
      "Info: Params [3.36261586 0.65305241 0.62667839 0.32586036 0.35145933] gave -443.60701622498823\n"
     ]
    },
    {
     "name": "stdout",
     "output_type": "stream",
     "text": [
      "16\n"
     ]
    },
    {
     "name": "stderr",
     "output_type": "stream",
     "text": [
      "Info: Params [0.84394731 0.61304413 0.72601268 0.14042287 0.23817266] gave 541.9830305832153\n"
     ]
    },
    {
     "name": "stdout",
     "output_type": "stream",
     "text": [
      "17\n"
     ]
    },
    {
     "name": "stderr",
     "output_type": "stream",
     "text": [
      "Info: Params [3.13324662 0.58024224 0.70979841 0.26317223 0.25297046] gave -927.482818115391\n"
     ]
    },
    {
     "name": "stdout",
     "output_type": "stream",
     "text": [
      "18\n"
     ]
    },
    {
     "name": "stderr",
     "output_type": "stream",
     "text": [
      "Info: Params [2.05907909 0.53162363 0.55406517 0.26343401 0.28117853] gave -309.4375341106855\n"
     ]
    },
    {
     "name": "stdout",
     "output_type": "stream",
     "text": [
      "19\n"
     ]
    },
    {
     "name": "stderr",
     "output_type": "stream",
     "text": [
      "Info: Params [2.01321958 0.6245487  0.60769671 0.19838821 0.27257522] gave -560.493443522328\n"
     ]
    },
    {
     "name": "stdout",
     "output_type": "stream",
     "text": [
      "20\n"
     ]
    },
    {
     "name": "stderr",
     "output_type": "stream",
     "text": [
      "Info: Params [1.03307629 0.5        0.60192071 0.21221394 0.26687698] gave -179.56010412732155\n"
     ]
    },
    {
     "name": "stdout",
     "output_type": "stream",
     "text": [
      "21\n"
     ]
    },
    {
     "name": "stderr",
     "output_type": "stream",
     "text": [
      "Info: Params [0.71571299 0.56028964 0.59119143 0.18866946 0.32084003] gave 621.789324753347\n"
     ]
    },
    {
     "name": "stdout",
     "output_type": "stream",
     "text": [
      "22\n"
     ]
    },
    {
     "name": "stderr",
     "output_type": "stream",
     "text": [
      "Info: Params [3.45046873 0.88119858 0.54805242 0.23531043 0.38384242] gave -193.30648810211372\n"
     ]
    },
    {
     "name": "stdout",
     "output_type": "stream",
     "text": [
      "23\n"
     ]
    },
    {
     "name": "stderr",
     "output_type": "stream",
     "text": [
      "Info: Params [2.28272642 0.5        0.5        0.21294782 0.29151062] gave -949.5187916059954\n"
     ]
    },
    {
     "name": "stdout",
     "output_type": "stream",
     "text": [
      "24\n"
     ]
    },
    {
     "name": "stderr",
     "output_type": "stream",
     "text": [
      "Info: Params [2.50001048 0.58032763 0.5        0.24274276 0.33802678] gave -731.5530322820276\n"
     ]
    },
    {
     "name": "stdout",
     "output_type": "stream",
     "text": [
      "25\n"
     ]
    },
    {
     "name": "stderr",
     "output_type": "stream",
     "text": [
      "Info: Params [1.23219272 0.57518274 0.5        0.14169546 0.30859584] gave -161.70906059512893\n"
     ]
    },
    {
     "name": "stdout",
     "output_type": "stream",
     "text": [
      "26\n"
     ]
    },
    {
     "name": "stderr",
     "output_type": "stream",
     "text": [
      "Info: Params [4.50408086 1.38869362 1.07274767 0.19619535 0.26643759] gave -221.97121759697018\n"
     ]
    },
    {
     "name": "stdout",
     "output_type": "stream",
     "text": [
      "27\n"
     ]
    },
    {
     "name": "stderr",
     "output_type": "stream",
     "text": [
      "Info: Params [2.8950652  0.55151966 0.51007717 0.24253588 0.28040202] gave -865.0963858399755\n"
     ]
    },
    {
     "name": "stdout",
     "output_type": "stream",
     "text": [
      "28\n"
     ]
    },
    {
     "name": "stderr",
     "output_type": "stream",
     "text": [
      "Info: Params [3.28750583 0.5        0.5        0.28529278 0.30301802] gave -928.3168912334462\n"
     ]
    },
    {
     "name": "stdout",
     "output_type": "stream",
     "text": [
      "29\n"
     ]
    },
    {
     "name": "stderr",
     "output_type": "stream",
     "text": [
      "Info: Params [3.04983777 0.58745343 0.64412209 0.30386748 0.30052926] gave -754.6492612934913\n"
     ]
    },
    {
     "name": "stdout",
     "output_type": "stream",
     "text": [
      "30\n"
     ]
    },
    {
     "name": "stderr",
     "output_type": "stream",
     "text": [
      "Info: Params [2.16747727 0.55888369 0.53007641 0.26864132 0.31231857] gave -209.75751845528336\n"
     ]
    },
    {
     "name": "stdout",
     "output_type": "stream",
     "text": [
      "31\n"
     ]
    },
    {
     "name": "stderr",
     "output_type": "stream",
     "text": [
      "Info: Params [2.43110595 0.52890377 0.55047072 0.24585605 0.2807154 ] gave -1085.9277765364625\n"
     ]
    },
    {
     "name": "stdout",
     "output_type": "stream",
     "text": [
      "           1    2    3    4    5    6    7    8    9    10  ...   23   24  \\\n",
      "Speed     1.0  1.0  1.0  1.0  1.0  1.0  1.0  1.0  1.0  1.0  ...  1.0  1.0   \n",
      "Accuracy  1.0  1.0  1.0  1.0  1.0  1.0  1.0  1.0  1.0  1.0  ...  1.0  1.0   \n",
      "\n",
      "           25   26   27   28   29   30   31   32  \n",
      "Speed     1.0  1.0  1.0  1.0  1.0  1.0  1.0  1.0  \n",
      "Accuracy  1.0  1.0  1.0  1.0  1.0  1.0  1.0  1.0  \n",
      "\n",
      "[2 rows x 32 columns]\n"
     ]
    }
   ],
   "source": [
    "data_dir = \"/Users/wangjiashun/Desktop/Research_on_SAT/datasets/transformed/Dutilh2013/sub\"\n",
    "sample_size = 32\n",
    "\n",
    "df_all = pd.DataFrame()\n",
    "valid_ratio_dfs = pd.DataFrame()\n",
    "\n",
    "for i in range(sample_size):\n",
    "    print(i)\n",
    "    path = os.path.join(data_dir+str(i+1)+\".csv\")\n",
    "    df = pd.read_csv(path, sep = \",\")\n",
    "    \n",
    "    counts_before = df['Cond'].value_counts()\n",
    "    df = df[df[\"Time\"]<5]\n",
    "    counts_after = df['Cond'].value_counts()\n",
    "    valid_ratio = counts_before/counts_after\n",
    "    valid_ratio_df = valid_ratio.to_frame(i+1)\n",
    "    valid_ratio_dfs = pd.concat((valid_ratio_dfs,valid_ratio_df), axis = 1)\n",
    "    \n",
    "    samp = Sample.from_pandas_dataframe(df, rt_column_name=\"Time\", choice_column_name=\"Correct\")\n",
    "    df = get_DDM_result_sub_2a2ter(samp)\n",
    "    df_all = pd.concat((df_all,df))\n",
    "    \n",
    "df_OUM = df_all.copy()\n",
    "df_OUM.to_csv(\"Parameter Estimates/DDM2a2terresultDutilh2013.csv\")\n",
    "print(valid_ratio_dfs)"
   ]
  },
  {
   "cell_type": "code",
   "execution_count": 8,
   "id": "be2525bf",
   "metadata": {
    "scrolled": true
   },
   "outputs": [
    {
     "name": "stdout",
     "output_type": "stream",
     "text": [
      "0\n"
     ]
    },
    {
     "name": "stderr",
     "output_type": "stream",
     "text": [
      "Info: Params [0.83608881 0.55519908 0.90479596 0.32106111 0.38491118] gave 498.626185490663\n"
     ]
    },
    {
     "name": "stdout",
     "output_type": "stream",
     "text": [
      "1\n"
     ]
    },
    {
     "name": "stderr",
     "output_type": "stream",
     "text": [
      "Info: Params [1.19953967 0.51611088 1.32765526 0.43543303 0.38695505] gave 337.2667827081794\n"
     ]
    },
    {
     "name": "stdout",
     "output_type": "stream",
     "text": [
      "2\n"
     ]
    },
    {
     "name": "stderr",
     "output_type": "stream",
     "text": [
      "Info: Params [1.29198993 0.66806547 0.74142368 0.21772611 0.34355221] gave 226.1786490386719\n"
     ]
    },
    {
     "name": "stdout",
     "output_type": "stream",
     "text": [
      "3\n"
     ]
    },
    {
     "name": "stderr",
     "output_type": "stream",
     "text": [
      "Info: Params [1.27674442 0.76763729 3.51650399 0.41154275 0.73331047] gave 731.7605576337183\n"
     ]
    },
    {
     "name": "stdout",
     "output_type": "stream",
     "text": [
      "4\n"
     ]
    },
    {
     "name": "stderr",
     "output_type": "stream",
     "text": [
      "Info: Params [1.23422143 0.60985554 0.92338402 0.33392209 0.35929867] gave 288.2599205180647\n"
     ]
    },
    {
     "name": "stdout",
     "output_type": "stream",
     "text": [
      "5\n"
     ]
    },
    {
     "name": "stderr",
     "output_type": "stream",
     "text": [
      "Info: Params [1.05415555 0.56292989 0.94363087 0.42118279 0.48694338] gave 412.68943335796513\n"
     ]
    },
    {
     "name": "stdout",
     "output_type": "stream",
     "text": [
      "6\n"
     ]
    },
    {
     "name": "stderr",
     "output_type": "stream",
     "text": [
      "Info: Params [0.788206   0.58871049 0.69862674 0.17623174 0.37975366] gave 367.4523273394865\n"
     ]
    },
    {
     "name": "stdout",
     "output_type": "stream",
     "text": [
      "7\n"
     ]
    },
    {
     "name": "stderr",
     "output_type": "stream",
     "text": [
      "Info: Params [1.86330976 0.59017325 0.75999294 0.41455319 0.53655573] gave -77.83476062643282\n"
     ]
    },
    {
     "name": "stdout",
     "output_type": "stream",
     "text": [
      "8\n"
     ]
    },
    {
     "name": "stderr",
     "output_type": "stream",
     "text": [
      "Info: Params [1.389959   0.67065014 1.06199097 0.45171165 0.45235018] gave 181.13701286440053\n"
     ]
    },
    {
     "name": "stdout",
     "output_type": "stream",
     "text": [
      "9\n"
     ]
    },
    {
     "name": "stderr",
     "output_type": "stream",
     "text": [
      "Info: Params [0.54483475 0.68489725 0.94526312 0.36781008 0.36680789] gave 819.2926631708931\n"
     ]
    },
    {
     "name": "stdout",
     "output_type": "stream",
     "text": [
      "10\n"
     ]
    },
    {
     "name": "stderr",
     "output_type": "stream",
     "text": [
      "Info: Params [0.44498669 0.61452278 1.19263728 0.41003994 0.40309527] gave 919.6186918225147\n"
     ]
    },
    {
     "name": "stdout",
     "output_type": "stream",
     "text": [
      "11\n"
     ]
    },
    {
     "name": "stderr",
     "output_type": "stream",
     "text": [
      "Info: Params [0.79784398 0.68261418 1.04811418 0.20088296 0.42098291] gave 701.9971612873792\n"
     ]
    },
    {
     "name": "stdout",
     "output_type": "stream",
     "text": [
      "12\n"
     ]
    },
    {
     "name": "stderr",
     "output_type": "stream",
     "text": [
      "Info: Params [0.86925678 0.72921768 1.27551339 0.39369395 0.41688986] gave 756.7422132918532\n"
     ]
    },
    {
     "name": "stdout",
     "output_type": "stream",
     "text": [
      "13\n"
     ]
    },
    {
     "name": "stderr",
     "output_type": "stream",
     "text": [
      "Info: Params [0.54457721 0.78956746 1.02980466 0.38518317 0.42270599] gave 971.9881430481315\n"
     ]
    },
    {
     "name": "stdout",
     "output_type": "stream",
     "text": [
      "14\n"
     ]
    },
    {
     "name": "stderr",
     "output_type": "stream",
     "text": [
      "Info: Params [0.56646616 0.6226571  1.12358686 0.28534665 0.26151723] gave 887.7378145987497\n"
     ]
    },
    {
     "name": "stdout",
     "output_type": "stream",
     "text": [
      "15\n"
     ]
    },
    {
     "name": "stderr",
     "output_type": "stream",
     "text": [
      "Info: Params [1.00409008 0.65391346 1.18850538 0.39376345 0.4547223 ] gave 621.4644059782875\n"
     ]
    },
    {
     "name": "stdout",
     "output_type": "stream",
     "text": [
      "16\n"
     ]
    },
    {
     "name": "stderr",
     "output_type": "stream",
     "text": [
      "Info: Params [1.01845009 0.73821761 1.17878237 0.3629765  0.32715891] gave 677.560215671657\n"
     ]
    },
    {
     "name": "stdout",
     "output_type": "stream",
     "text": [
      "17\n"
     ]
    },
    {
     "name": "stderr",
     "output_type": "stream",
     "text": [
      "Info: Params [0.74796125 0.57318369 0.90837826 0.37797811 0.40823915] gave 532.5347066382109\n"
     ]
    },
    {
     "name": "stdout",
     "output_type": "stream",
     "text": [
      "18\n"
     ]
    },
    {
     "name": "stderr",
     "output_type": "stream",
     "text": [
      "Info: Params [0.85387858 0.67426702 1.00759376 0.34621531 0.26604211] gave 624.6521102390185\n"
     ]
    },
    {
     "name": "stdout",
     "output_type": "stream",
     "text": [
      "19\n"
     ]
    },
    {
     "name": "stderr",
     "output_type": "stream",
     "text": [
      "Info: Params [0.43860937 1.08221412 1.34425639 0.16453019 0.22040157] gave 1293.6094179735435\n"
     ]
    },
    {
     "name": "stdout",
     "output_type": "stream",
     "text": [
      "20\n"
     ]
    },
    {
     "name": "stderr",
     "output_type": "stream",
     "text": [
      "Info: Params [1.41602773 0.52731053 0.98311477 0.32638371 0.39968556] gave 153.31547339034861\n"
     ]
    },
    {
     "name": "stdout",
     "output_type": "stream",
     "text": [
      "21\n"
     ]
    },
    {
     "name": "stderr",
     "output_type": "stream",
     "text": [
      "Info: Params [1.34515409 0.68368224 1.08522505 0.3548253  0.43653891] gave 372.82056102606316\n"
     ]
    },
    {
     "name": "stdout",
     "output_type": "stream",
     "text": [
      "22\n"
     ]
    },
    {
     "name": "stderr",
     "output_type": "stream",
     "text": [
      "Info: Params [0.77994485 0.69753852 1.02484383 0.36309301 0.4482047 ] gave 748.0639314305863\n"
     ]
    },
    {
     "name": "stdout",
     "output_type": "stream",
     "text": [
      "23\n"
     ]
    },
    {
     "name": "stderr",
     "output_type": "stream",
     "text": [
      "Info: Params [0.67083055 0.74636552 1.37915159 0.47160673 0.48124264] gave 906.4676494134737\n"
     ]
    },
    {
     "name": "stdout",
     "output_type": "stream",
     "text": [
      "24\n"
     ]
    },
    {
     "name": "stderr",
     "output_type": "stream",
     "text": [
      "Info: Params [0.93232195 0.8877085  0.96132278 0.28515997 0.4646955 ] gave 749.5460223128222\n"
     ]
    },
    {
     "name": "stdout",
     "output_type": "stream",
     "text": [
      "25\n"
     ]
    },
    {
     "name": "stderr",
     "output_type": "stream",
     "text": [
      "Info: Params [1.38630486 0.59532116 1.08276109 0.47147825 0.51573075] gave 254.68994638705115\n"
     ]
    },
    {
     "name": "stdout",
     "output_type": "stream",
     "text": [
      "26\n"
     ]
    },
    {
     "name": "stderr",
     "output_type": "stream",
     "text": [
      "Info: Params [0.90698832 0.5        1.0121821  0.33554581 0.57572252] gave 316.5699861498132\n"
     ]
    },
    {
     "name": "stdout",
     "output_type": "stream",
     "text": [
      "27\n"
     ]
    },
    {
     "name": "stderr",
     "output_type": "stream",
     "text": [
      "Info: Params [1.37694946 0.52934866 0.82974717 0.44313946 0.54167907] gave 138.50686613852864\n"
     ]
    },
    {
     "name": "stdout",
     "output_type": "stream",
     "text": [
      "28\n"
     ]
    },
    {
     "name": "stderr",
     "output_type": "stream",
     "text": [
      "Info: Params [1.71484781 0.55937221 0.72538932 0.31089122 0.48775576] gave -89.19796346362457\n"
     ]
    },
    {
     "name": "stdout",
     "output_type": "stream",
     "text": [
      "29\n"
     ]
    },
    {
     "name": "stderr",
     "output_type": "stream",
     "text": [
      "Info: Params [0.62252067 0.78601273 1.20115935 0.49046313 0.67870853] gave 1001.8720359625755\n"
     ]
    },
    {
     "name": "stdout",
     "output_type": "stream",
     "text": [
      "30\n"
     ]
    },
    {
     "name": "stderr",
     "output_type": "stream",
     "text": [
      "Info: Params [1.28571149 0.63078566 0.71383708 0.29345614 0.41831837] gave 214.02708781645518\n"
     ]
    },
    {
     "name": "stdout",
     "output_type": "stream",
     "text": [
      "31\n"
     ]
    },
    {
     "name": "stderr",
     "output_type": "stream",
     "text": [
      "Info: Params [1.30880235 0.91351981 1.09340278 0.35792921 0.38072645] gave 547.8220367882932\n"
     ]
    },
    {
     "name": "stdout",
     "output_type": "stream",
     "text": [
      "32\n"
     ]
    },
    {
     "name": "stderr",
     "output_type": "stream",
     "text": [
      "Info: Params [1.42232225 0.64302438 0.99358583 0.35772151 0.45289599] gave 276.8470262505827\n"
     ]
    },
    {
     "name": "stdout",
     "output_type": "stream",
     "text": [
      "33\n"
     ]
    },
    {
     "name": "stderr",
     "output_type": "stream",
     "text": [
      "Info: Params [1.02329856 0.59600565 0.86792319 0.17361964 0.52871337] gave 406.1153869451705\n"
     ]
    },
    {
     "name": "stdout",
     "output_type": "stream",
     "text": [
      "34\n"
     ]
    },
    {
     "name": "stderr",
     "output_type": "stream",
     "text": [
      "Info: Params [1.55246311 0.5        0.72241619 0.30230254 0.34536381] gave -89.34059126468077\n"
     ]
    },
    {
     "name": "stdout",
     "output_type": "stream",
     "text": [
      "35\n"
     ]
    },
    {
     "name": "stderr",
     "output_type": "stream",
     "text": [
      "Info: Params [1.12273132 0.5        0.83868745 0.40625055 0.51087864] gave 158.64782302990244\n"
     ]
    },
    {
     "name": "stdout",
     "output_type": "stream",
     "text": [
      "36\n"
     ]
    },
    {
     "name": "stderr",
     "output_type": "stream",
     "text": [
      "Info: Params [1.12139259 0.76317848 1.02601099 0.29862361 0.3559965 ] gave 562.9417259029083\n"
     ]
    },
    {
     "name": "stdout",
     "output_type": "stream",
     "text": [
      "37\n"
     ]
    },
    {
     "name": "stderr",
     "output_type": "stream",
     "text": [
      "Info: Params [1.66795123 0.52149039 0.77255854 0.28289271 0.41929591] gave -73.08842068212849\n"
     ]
    },
    {
     "name": "stdout",
     "output_type": "stream",
     "text": [
      "38\n"
     ]
    },
    {
     "name": "stderr",
     "output_type": "stream",
     "text": [
      "Info: Params [1.83501224 0.61520388 0.82242926 0.28786237 0.46379481] gave -58.60030702199912\n"
     ]
    },
    {
     "name": "stdout",
     "output_type": "stream",
     "text": [
      "39\n"
     ]
    },
    {
     "name": "stderr",
     "output_type": "stream",
     "text": [
      "Info: Params [0.71908716 0.63327929 1.62635412 0.34894305 0.39332631] gave 670.7346630956995\n"
     ]
    },
    {
     "name": "stdout",
     "output_type": "stream",
     "text": [
      "40\n"
     ]
    },
    {
     "name": "stderr",
     "output_type": "stream",
     "text": [
      "Info: Params [1.28984945 0.6665003  1.13786791 0.31039574 0.49471989] gave 388.5843640703092\n"
     ]
    },
    {
     "name": "stdout",
     "output_type": "stream",
     "text": [
      "41\n"
     ]
    },
    {
     "name": "stderr",
     "output_type": "stream",
     "text": [
      "Info: Params [1.14532734 0.57466718 1.09514577 0.32814996 0.34600354] gave 386.90672199450364\n"
     ]
    },
    {
     "name": "stdout",
     "output_type": "stream",
     "text": [
      "42\n"
     ]
    },
    {
     "name": "stderr",
     "output_type": "stream",
     "text": [
      "Info: Params [0.93073743 0.65527499 0.94575259 0.34006321 0.38318395] gave 539.0117406339081\n"
     ]
    },
    {
     "name": "stdout",
     "output_type": "stream",
     "text": [
      "43\n"
     ]
    },
    {
     "name": "stderr",
     "output_type": "stream",
     "text": [
      "Info: Params [0.61929907 0.70249242 1.13561229 0.3140227  0.40092551] gave 962.4462006926929\n"
     ]
    },
    {
     "name": "stdout",
     "output_type": "stream",
     "text": [
      "44\n"
     ]
    },
    {
     "name": "stderr",
     "output_type": "stream",
     "text": [
      "Info: Params [1.32302793 0.64749566 0.96982165 0.36983964 0.36311867] gave 339.71272775662976\n"
     ]
    },
    {
     "name": "stdout",
     "output_type": "stream",
     "text": [
      "45\n"
     ]
    },
    {
     "name": "stderr",
     "output_type": "stream",
     "text": [
      "Info: Params [1.23426551 0.68677519 0.86461022 0.36928957 0.41658367] gave 377.9957866306719\n"
     ]
    },
    {
     "name": "stdout",
     "output_type": "stream",
     "text": [
      "46\n"
     ]
    },
    {
     "name": "stderr",
     "output_type": "stream",
     "text": [
      "Info: Params [1.04363367 0.67550855 1.47264807 0.29232514 0.48766507] gave 621.824407462741\n"
     ]
    },
    {
     "name": "stdout",
     "output_type": "stream",
     "text": [
      "           1    2    3    4    5    6    7    8    9    10  ...   38   39  \\\n",
      "Accuracy  1.0  1.0  1.0  1.0  1.0  1.0  1.0  1.0  1.0  1.0  ...  1.0  1.0   \n",
      "Speed     1.0  1.0  1.0  1.0  1.0  1.0  1.0  1.0  1.0  1.0  ...  1.0  1.0   \n",
      "\n",
      "           40   41   42   43   44   45   46   47  \n",
      "Accuracy  1.0  1.0  1.0  1.0  1.0  1.0  1.0  1.0  \n",
      "Speed     1.0  1.0  1.0  1.0  1.0  1.0  1.0  1.0  \n",
      "\n",
      "[2 rows x 47 columns]\n"
     ]
    }
   ],
   "source": [
    "data_dir = \"/Users/wangjiashun/Desktop/Research_on_SAT/datasets/transformed/Evans2017/sub\"\n",
    "sample_size = 47\n",
    "\n",
    "df_all = pd.DataFrame()\n",
    "valid_ratio_dfs = pd.DataFrame()\n",
    "\n",
    "for i in range(sample_size):\n",
    "    print(i)\n",
    "    path = os.path.join(data_dir+str(i+1)+\".csv\")\n",
    "    df = pd.read_csv(path, sep = \",\")\n",
    "    \n",
    "    counts_before = df['Cond'].value_counts()\n",
    "    df = df[df[\"Time\"]<5]\n",
    "    counts_after = df['Cond'].value_counts()\n",
    "    valid_ratio = counts_before/counts_after\n",
    "    valid_ratio_df = valid_ratio.to_frame(i+1)\n",
    "    valid_ratio_dfs = pd.concat((valid_ratio_dfs,valid_ratio_df), axis = 1)\n",
    "    \n",
    "    samp = Sample.from_pandas_dataframe(df, rt_column_name=\"Time\", choice_column_name=\"Correct\")\n",
    "    df = get_DDM_result_sub_2a2ter(samp)\n",
    "    df_all = pd.concat((df_all,df))\n",
    "    \n",
    "df_OUM = df_all.copy()\n",
    "df_OUM.to_csv(\"Parameter Estimates/DDM2a2terresultEvans2017.csv\")\n",
    "print(valid_ratio_dfs)"
   ]
  },
  {
   "cell_type": "code",
   "execution_count": null,
   "id": "37140e6d",
   "metadata": {},
   "outputs": [],
   "source": []
  },
  {
   "cell_type": "code",
   "execution_count": 9,
   "id": "11deb9df",
   "metadata": {},
   "outputs": [
    {
     "name": "stderr",
     "output_type": "stream",
     "text": [
      "Warning: dt is large.  Estimated pdfs may be imprecise.  Decrease dt to 0.01 or less.\n",
      "Warning: Renormalizing probability density from 1.0104919901012657 to 1.  Try decreasing dt.  If that doesn't eliminate this warning, it may be due to extreme parameter values and/or bugs in your model spefication.\n",
      "Warning: Renormalizing probability density from 1.0208228261073062 to 1.  Try decreasing dt.  If that doesn't eliminate this warning, it may be due to extreme parameter values and/or bugs in your model spefication.\n",
      "Warning: Renormalizing probability density from 1.0268833554597303 to 1.  Try decreasing dt.  If that doesn't eliminate this warning, it may be due to extreme parameter values and/or bugs in your model spefication.\n",
      "Warning: Renormalizing probability density from 1.0134251244365344 to 1.  Try decreasing dt.  If that doesn't eliminate this warning, it may be due to extreme parameter values and/or bugs in your model spefication.\n",
      "Warning: Renormalizing probability density from 1.0534930247131078 to 1.  Try decreasing dt.  If that doesn't eliminate this warning, it may be due to extreme parameter values and/or bugs in your model spefication.\n",
      "Warning: Renormalizing probability density from 1.0115430726352783 to 1.  Try decreasing dt.  If that doesn't eliminate this warning, it may be due to extreme parameter values and/or bugs in your model spefication.\n",
      "Warning: Renormalizing probability density from 1.0111415672182502 to 1.  Try decreasing dt.  If that doesn't eliminate this warning, it may be due to extreme parameter values and/or bugs in your model spefication.\n",
      "Warning: Renormalizing probability density from 1.0540959051423564 to 1.  Try decreasing dt.  If that doesn't eliminate this warning, it may be due to extreme parameter values and/or bugs in your model spefication.\n",
      "Warning: Renormalizing probability density from 1.0112100409731855 to 1.  Try decreasing dt.  If that doesn't eliminate this warning, it may be due to extreme parameter values and/or bugs in your model spefication.\n"
     ]
    },
    {
     "name": "stdout",
     "output_type": "stream",
     "text": [
      "0\n"
     ]
    },
    {
     "name": "stderr",
     "output_type": "stream",
     "text": [
      "Warning: Renormalizing probability density from 1.011146959360208 to 1.  Try decreasing dt.  If that doesn't eliminate this warning, it may be due to extreme parameter values and/or bugs in your model spefication.\n",
      "Warning: Renormalizing probability density from 1.011146959360208 to 1.  Try decreasing dt.  If that doesn't eliminate this warning, it may be due to extreme parameter values and/or bugs in your model spefication.\n",
      "Warning: Renormalizing probability density from 1.01114695896176 to 1.  Try decreasing dt.  If that doesn't eliminate this warning, it may be due to extreme parameter values and/or bugs in your model spefication.\n",
      "Warning: Renormalizing probability density from 1.011146959360208 to 1.  Try decreasing dt.  If that doesn't eliminate this warning, it may be due to extreme parameter values and/or bugs in your model spefication.\n",
      "Warning: Renormalizing probability density from 1.011146959360208 to 1.  Try decreasing dt.  If that doesn't eliminate this warning, it may be due to extreme parameter values and/or bugs in your model spefication.\n",
      "Warning: Renormalizing probability density from 1.011146959360208 to 1.  Try decreasing dt.  If that doesn't eliminate this warning, it may be due to extreme parameter values and/or bugs in your model spefication.\n",
      "Info: Params [0.11972155 1.31610306 3.53937725 0.76736061 0.96561843] gave 965.1229326888863\n",
      "Warning: dt is large.  Estimated pdfs may be imprecise.  Decrease dt to 0.01 or less.\n",
      "Warning: Renormalizing probability density from 1.0561559690578952 to 1.  Try decreasing dt.  If that doesn't eliminate this warning, it may be due to extreme parameter values and/or bugs in your model spefication.\n",
      "Warning: Renormalizing probability density from 1.017987397139914 to 1.  Try decreasing dt.  If that doesn't eliminate this warning, it may be due to extreme parameter values and/or bugs in your model spefication.\n",
      "Warning: Renormalizing probability density from 1.021581431705854 to 1.  Try decreasing dt.  If that doesn't eliminate this warning, it may be due to extreme parameter values and/or bugs in your model spefication.\n",
      "Warning: Renormalizing probability density from 1.036744243560021 to 1.  Try decreasing dt.  If that doesn't eliminate this warning, it may be due to extreme parameter values and/or bugs in your model spefication.\n"
     ]
    },
    {
     "name": "stdout",
     "output_type": "stream",
     "text": [
      "1\n"
     ]
    },
    {
     "name": "stderr",
     "output_type": "stream",
     "text": [
      "Warning: Renormalizing probability density from 1.0479076863397843 to 1.  Try decreasing dt.  If that doesn't eliminate this warning, it may be due to extreme parameter values and/or bugs in your model spefication.\n",
      "Warning: Renormalizing probability density from 1.0479076863397843 to 1.  Try decreasing dt.  If that doesn't eliminate this warning, it may be due to extreme parameter values and/or bugs in your model spefication.\n",
      "Warning: Renormalizing probability density from 1.0479076862659233 to 1.  Try decreasing dt.  If that doesn't eliminate this warning, it may be due to extreme parameter values and/or bugs in your model spefication.\n",
      "Warning: Renormalizing probability density from 1.0479076862659233 to 1.  Try decreasing dt.  If that doesn't eliminate this warning, it may be due to extreme parameter values and/or bugs in your model spefication.\n",
      "Warning: Renormalizing probability density from 1.0479076908844007 to 1.  Try decreasing dt.  If that doesn't eliminate this warning, it may be due to extreme parameter values and/or bugs in your model spefication.\n",
      "Warning: Renormalizing probability density from 1.0479076863397843 to 1.  Try decreasing dt.  If that doesn't eliminate this warning, it may be due to extreme parameter values and/or bugs in your model spefication.\n",
      "Warning: Renormalizing probability density from 1.0479076863397843 to 1.  Try decreasing dt.  If that doesn't eliminate this warning, it may be due to extreme parameter values and/or bugs in your model spefication.\n",
      "Warning: Renormalizing probability density from 1.0479076908844007 to 1.  Try decreasing dt.  If that doesn't eliminate this warning, it may be due to extreme parameter values and/or bugs in your model spefication.\n",
      "Warning: Renormalizing probability density from 1.0479076863397843 to 1.  Try decreasing dt.  If that doesn't eliminate this warning, it may be due to extreme parameter values and/or bugs in your model spefication.\n",
      "Warning: Renormalizing probability density from 1.0479076863397843 to 1.  Try decreasing dt.  If that doesn't eliminate this warning, it may be due to extreme parameter values and/or bugs in your model spefication.\n",
      "Warning: Renormalizing probability density from 1.0479076863397843 to 1.  Try decreasing dt.  If that doesn't eliminate this warning, it may be due to extreme parameter values and/or bugs in your model spefication.\n",
      "Warning: Renormalizing probability density from 1.0479076863397843 to 1.  Try decreasing dt.  If that doesn't eliminate this warning, it may be due to extreme parameter values and/or bugs in your model spefication.\n",
      "Info: Params [0.25337658 2.43581813 3.17642552 0.97245231 0.99585209] gave 1038.1270251223991\n",
      "Warning: dt is large.  Estimated pdfs may be imprecise.  Decrease dt to 0.01 or less.\n",
      "Warning: Renormalizing probability density from 1.0296933823325993 to 1.  Try decreasing dt.  If that doesn't eliminate this warning, it may be due to extreme parameter values and/or bugs in your model spefication.\n",
      "Warning: Renormalizing probability density from 1.0115008075732907 to 1.  Try decreasing dt.  If that doesn't eliminate this warning, it may be due to extreme parameter values and/or bugs in your model spefication.\n",
      "Warning: Renormalizing probability density from 1.0229498572853168 to 1.  Try decreasing dt.  If that doesn't eliminate this warning, it may be due to extreme parameter values and/or bugs in your model spefication.\n",
      "Warning: Renormalizing probability density from 1.029533995866487 to 1.  Try decreasing dt.  If that doesn't eliminate this warning, it may be due to extreme parameter values and/or bugs in your model spefication.\n",
      "Warning: Renormalizing probability density from 1.0211060058428576 to 1.  Try decreasing dt.  If that doesn't eliminate this warning, it may be due to extreme parameter values and/or bugs in your model spefication.\n",
      "Warning: Renormalizing probability density from 1.0343740293753394 to 1.  Try decreasing dt.  If that doesn't eliminate this warning, it may be due to extreme parameter values and/or bugs in your model spefication.\n",
      "Warning: Renormalizing probability density from 1.0116483208331764 to 1.  Try decreasing dt.  If that doesn't eliminate this warning, it may be due to extreme parameter values and/or bugs in your model spefication.\n",
      "Warning: Renormalizing probability density from 1.0185652166064827 to 1.  Try decreasing dt.  If that doesn't eliminate this warning, it may be due to extreme parameter values and/or bugs in your model spefication.\n",
      "Warning: Renormalizing probability density from 1.047697900898911 to 1.  Try decreasing dt.  If that doesn't eliminate this warning, it may be due to extreme parameter values and/or bugs in your model spefication.\n",
      "Warning: Renormalizing probability density from 1.0301150422274636 to 1.  Try decreasing dt.  If that doesn't eliminate this warning, it may be due to extreme parameter values and/or bugs in your model spefication.\n",
      "Warning: Renormalizing probability density from 1.023685942054892 to 1.  Try decreasing dt.  If that doesn't eliminate this warning, it may be due to extreme parameter values and/or bugs in your model spefication.\n",
      "Warning: Renormalizing probability density from 1.0148242617662568 to 1.  Try decreasing dt.  If that doesn't eliminate this warning, it may be due to extreme parameter values and/or bugs in your model spefication.\n"
     ]
    },
    {
     "name": "stdout",
     "output_type": "stream",
     "text": [
      "2\n"
     ]
    },
    {
     "name": "stderr",
     "output_type": "stream",
     "text": [
      "Warning: Renormalizing probability density from 1.0102511103631073 to 1.  Try decreasing dt.  If that doesn't eliminate this warning, it may be due to extreme parameter values and/or bugs in your model spefication.\n",
      "Warning: Renormalizing probability density from 1.0114188639495434 to 1.  Try decreasing dt.  If that doesn't eliminate this warning, it may be due to extreme parameter values and/or bugs in your model spefication.\n",
      "Warning: Renormalizing probability density from 1.0121464495417538 to 1.  Try decreasing dt.  If that doesn't eliminate this warning, it may be due to extreme parameter values and/or bugs in your model spefication.\n",
      "Warning: Renormalizing probability density from 1.0112660830887221 to 1.  Try decreasing dt.  If that doesn't eliminate this warning, it may be due to extreme parameter values and/or bugs in your model spefication.\n",
      "Warning: Renormalizing probability density from 1.0102990871678015 to 1.  Try decreasing dt.  If that doesn't eliminate this warning, it may be due to extreme parameter values and/or bugs in your model spefication.\n",
      "Warning: Renormalizing probability density from 1.016812917838307 to 1.  Try decreasing dt.  If that doesn't eliminate this warning, it may be due to extreme parameter values and/or bugs in your model spefication.\n",
      "Warning: Renormalizing probability density from 1.0102830912649456 to 1.  Try decreasing dt.  If that doesn't eliminate this warning, it may be due to extreme parameter values and/or bugs in your model spefication.\n",
      "Warning: Renormalizing probability density from 1.011448163104431 to 1.  Try decreasing dt.  If that doesn't eliminate this warning, it may be due to extreme parameter values and/or bugs in your model spefication.\n",
      "Warning: Renormalizing probability density from 1.0140208907536943 to 1.  Try decreasing dt.  If that doesn't eliminate this warning, it may be due to extreme parameter values and/or bugs in your model spefication.\n",
      "Warning: Renormalizing probability density from 1.010498433621512 to 1.  Try decreasing dt.  If that doesn't eliminate this warning, it may be due to extreme parameter values and/or bugs in your model spefication.\n",
      "Warning: Renormalizing probability density from 1.0102318070259553 to 1.  Try decreasing dt.  If that doesn't eliminate this warning, it may be due to extreme parameter values and/or bugs in your model spefication.\n",
      "Warning: Renormalizing probability density from 1.0188343252654435 to 1.  Try decreasing dt.  If that doesn't eliminate this warning, it may be due to extreme parameter values and/or bugs in your model spefication.\n",
      "Warning: Renormalizing probability density from 1.010600879304823 to 1.  Try decreasing dt.  If that doesn't eliminate this warning, it may be due to extreme parameter values and/or bugs in your model spefication.\n",
      "Warning: Renormalizing probability density from 1.0140212315567805 to 1.  Try decreasing dt.  If that doesn't eliminate this warning, it may be due to extreme parameter values and/or bugs in your model spefication.\n",
      "Warning: Renormalizing probability density from 1.0410017148126829 to 1.  Try decreasing dt.  If that doesn't eliminate this warning, it may be due to extreme parameter values and/or bugs in your model spefication.\n",
      "Warning: Renormalizing probability density from 1.044202948656451 to 1.  Try decreasing dt.  If that doesn't eliminate this warning, it may be due to extreme parameter values and/or bugs in your model spefication.\n",
      "Warning: Renormalizing probability density from 1.0106441303957636 to 1.  Try decreasing dt.  If that doesn't eliminate this warning, it may be due to extreme parameter values and/or bugs in your model spefication.\n",
      "Warning: Renormalizing probability density from 1.0111652695484477 to 1.  Try decreasing dt.  If that doesn't eliminate this warning, it may be due to extreme parameter values and/or bugs in your model spefication.\n",
      "Warning: Renormalizing probability density from 1.018296957036353 to 1.  Try decreasing dt.  If that doesn't eliminate this warning, it may be due to extreme parameter values and/or bugs in your model spefication.\n",
      "Warning: Renormalizing probability density from 1.0317601097589228 to 1.  Try decreasing dt.  If that doesn't eliminate this warning, it may be due to extreme parameter values and/or bugs in your model spefication.\n",
      "Warning: Renormalizing probability density from 1.0103523906342253 to 1.  Try decreasing dt.  If that doesn't eliminate this warning, it may be due to extreme parameter values and/or bugs in your model spefication.\n",
      "Warning: Renormalizing probability density from 1.0538404051875034 to 1.  Try decreasing dt.  If that doesn't eliminate this warning, it may be due to extreme parameter values and/or bugs in your model spefication.\n",
      "Warning: Renormalizing probability density from 1.0151903314948731 to 1.  Try decreasing dt.  If that doesn't eliminate this warning, it may be due to extreme parameter values and/or bugs in your model spefication.\n",
      "Warning: Renormalizing probability density from 1.024157075552437 to 1.  Try decreasing dt.  If that doesn't eliminate this warning, it may be due to extreme parameter values and/or bugs in your model spefication.\n",
      "Warning: Renormalizing probability density from 1.0314639067263953 to 1.  Try decreasing dt.  If that doesn't eliminate this warning, it may be due to extreme parameter values and/or bugs in your model spefication.\n",
      "Warning: Renormalizing probability density from 1.0379838782623305 to 1.  Try decreasing dt.  If that doesn't eliminate this warning, it may be due to extreme parameter values and/or bugs in your model spefication.\n",
      "Warning: Renormalizing probability density from 1.0106699158255776 to 1.  Try decreasing dt.  If that doesn't eliminate this warning, it may be due to extreme parameter values and/or bugs in your model spefication.\n",
      "Warning: Renormalizing probability density from 1.010874778223895 to 1.  Try decreasing dt.  If that doesn't eliminate this warning, it may be due to extreme parameter values and/or bugs in your model spefication.\n",
      "Warning: Renormalizing probability density from 1.024260705663764 to 1.  Try decreasing dt.  If that doesn't eliminate this warning, it may be due to extreme parameter values and/or bugs in your model spefication.\n",
      "Warning: Renormalizing probability density from 1.0199037740350962 to 1.  Try decreasing dt.  If that doesn't eliminate this warning, it may be due to extreme parameter values and/or bugs in your model spefication.\n",
      "Warning: Renormalizing probability density from 1.011078705111117 to 1.  Try decreasing dt.  If that doesn't eliminate this warning, it may be due to extreme parameter values and/or bugs in your model spefication.\n",
      "Warning: Renormalizing probability density from 1.0475774446984878 to 1.  Try decreasing dt.  If that doesn't eliminate this warning, it may be due to extreme parameter values and/or bugs in your model spefication.\n",
      "Warning: Renormalizing probability density from 1.010540714393526 to 1.  Try decreasing dt.  If that doesn't eliminate this warning, it may be due to extreme parameter values and/or bugs in your model spefication.\n",
      "Warning: Renormalizing probability density from 1.0309087501601095 to 1.  Try decreasing dt.  If that doesn't eliminate this warning, it may be due to extreme parameter values and/or bugs in your model spefication.\n",
      "Warning: Renormalizing probability density from 1.0273541386380916 to 1.  Try decreasing dt.  If that doesn't eliminate this warning, it may be due to extreme parameter values and/or bugs in your model spefication.\n",
      "Warning: Renormalizing probability density from 1.015843080097292 to 1.  Try decreasing dt.  If that doesn't eliminate this warning, it may be due to extreme parameter values and/or bugs in your model spefication.\n",
      "Warning: Renormalizing probability density from 1.014919076786852 to 1.  Try decreasing dt.  If that doesn't eliminate this warning, it may be due to extreme parameter values and/or bugs in your model spefication.\n",
      "Warning: Renormalizing probability density from 1.01924548237365 to 1.  Try decreasing dt.  If that doesn't eliminate this warning, it may be due to extreme parameter values and/or bugs in your model spefication.\n",
      "Warning: Renormalizing probability density from 1.0191092978135885 to 1.  Try decreasing dt.  If that doesn't eliminate this warning, it may be due to extreme parameter values and/or bugs in your model spefication.\n"
     ]
    },
    {
     "name": "stderr",
     "output_type": "stream",
     "text": [
      "Warning: Renormalizing probability density from 1.01074422156457 to 1.  Try decreasing dt.  If that doesn't eliminate this warning, it may be due to extreme parameter values and/or bugs in your model spefication.\n",
      "Warning: Renormalizing probability density from 1.0435782027671492 to 1.  Try decreasing dt.  If that doesn't eliminate this warning, it may be due to extreme parameter values and/or bugs in your model spefication.\n",
      "Warning: Renormalizing probability density from 1.030182953217814 to 1.  Try decreasing dt.  If that doesn't eliminate this warning, it may be due to extreme parameter values and/or bugs in your model spefication.\n",
      "Warning: Renormalizing probability density from 1.0113433629277016 to 1.  Try decreasing dt.  If that doesn't eliminate this warning, it may be due to extreme parameter values and/or bugs in your model spefication.\n",
      "Warning: Renormalizing probability density from 1.0132048855784574 to 1.  Try decreasing dt.  If that doesn't eliminate this warning, it may be due to extreme parameter values and/or bugs in your model spefication.\n",
      "Warning: Renormalizing probability density from 1.0124526139921326 to 1.  Try decreasing dt.  If that doesn't eliminate this warning, it may be due to extreme parameter values and/or bugs in your model spefication.\n",
      "Warning: Renormalizing probability density from 1.0430457136171483 to 1.  Try decreasing dt.  If that doesn't eliminate this warning, it may be due to extreme parameter values and/or bugs in your model spefication.\n",
      "Warning: Renormalizing probability density from 1.0101574377195848 to 1.  Try decreasing dt.  If that doesn't eliminate this warning, it may be due to extreme parameter values and/or bugs in your model spefication.\n",
      "Warning: Renormalizing probability density from 1.0104537404509373 to 1.  Try decreasing dt.  If that doesn't eliminate this warning, it may be due to extreme parameter values and/or bugs in your model spefication.\n",
      "Warning: Renormalizing probability density from 1.011823705004555 to 1.  Try decreasing dt.  If that doesn't eliminate this warning, it may be due to extreme parameter values and/or bugs in your model spefication.\n",
      "Warning: Renormalizing probability density from 1.028331478382611 to 1.  Try decreasing dt.  If that doesn't eliminate this warning, it may be due to extreme parameter values and/or bugs in your model spefication.\n",
      "Warning: Renormalizing probability density from 1.0360136124653136 to 1.  Try decreasing dt.  If that doesn't eliminate this warning, it may be due to extreme parameter values and/or bugs in your model spefication.\n",
      "Warning: Renormalizing probability density from 1.0112310865711414 to 1.  Try decreasing dt.  If that doesn't eliminate this warning, it may be due to extreme parameter values and/or bugs in your model spefication.\n",
      "Warning: Renormalizing probability density from 1.0163651341614028 to 1.  Try decreasing dt.  If that doesn't eliminate this warning, it may be due to extreme parameter values and/or bugs in your model spefication.\n",
      "Warning: Renormalizing probability density from 1.047378116031144 to 1.  Try decreasing dt.  If that doesn't eliminate this warning, it may be due to extreme parameter values and/or bugs in your model spefication.\n",
      "Warning: Renormalizing probability density from 1.011472167098704 to 1.  Try decreasing dt.  If that doesn't eliminate this warning, it may be due to extreme parameter values and/or bugs in your model spefication.\n",
      "Warning: Renormalizing probability density from 1.010532529847444 to 1.  Try decreasing dt.  If that doesn't eliminate this warning, it may be due to extreme parameter values and/or bugs in your model spefication.\n",
      "Warning: Renormalizing probability density from 1.0237364399840547 to 1.  Try decreasing dt.  If that doesn't eliminate this warning, it may be due to extreme parameter values and/or bugs in your model spefication.\n",
      "Warning: Renormalizing probability density from 1.019579901515967 to 1.  Try decreasing dt.  If that doesn't eliminate this warning, it may be due to extreme parameter values and/or bugs in your model spefication.\n",
      "Warning: Renormalizing probability density from 1.0149930879989388 to 1.  Try decreasing dt.  If that doesn't eliminate this warning, it may be due to extreme parameter values and/or bugs in your model spefication.\n",
      "Warning: Renormalizing probability density from 1.0324516743013745 to 1.  Try decreasing dt.  If that doesn't eliminate this warning, it may be due to extreme parameter values and/or bugs in your model spefication.\n",
      "Warning: Renormalizing probability density from 1.0169817600034141 to 1.  Try decreasing dt.  If that doesn't eliminate this warning, it may be due to extreme parameter values and/or bugs in your model spefication.\n",
      "Warning: Renormalizing probability density from 1.0491814456509325 to 1.  Try decreasing dt.  If that doesn't eliminate this warning, it may be due to extreme parameter values and/or bugs in your model spefication.\n",
      "Warning: Renormalizing probability density from 1.0200936251833694 to 1.  Try decreasing dt.  If that doesn't eliminate this warning, it may be due to extreme parameter values and/or bugs in your model spefication.\n",
      "Warning: Renormalizing probability density from 1.0150304849658196 to 1.  Try decreasing dt.  If that doesn't eliminate this warning, it may be due to extreme parameter values and/or bugs in your model spefication.\n",
      "Warning: Renormalizing probability density from 1.0132957308473367 to 1.  Try decreasing dt.  If that doesn't eliminate this warning, it may be due to extreme parameter values and/or bugs in your model spefication.\n",
      "Warning: Renormalizing probability density from 1.019781910553388 to 1.  Try decreasing dt.  If that doesn't eliminate this warning, it may be due to extreme parameter values and/or bugs in your model spefication.\n",
      "Warning: Renormalizing probability density from 1.0154170581367779 to 1.  Try decreasing dt.  If that doesn't eliminate this warning, it may be due to extreme parameter values and/or bugs in your model spefication.\n",
      "Warning: Renormalizing probability density from 1.0169662429694615 to 1.  Try decreasing dt.  If that doesn't eliminate this warning, it may be due to extreme parameter values and/or bugs in your model spefication.\n",
      "Info: Params [0.01042286 0.85426957 1.03889695 0.13706154 0.40427811] gave 469.99892385704874\n",
      "Warning: dt is large.  Estimated pdfs may be imprecise.  Decrease dt to 0.01 or less.\n",
      "Warning: Renormalizing probability density from 1.0108991563122491 to 1.  Try decreasing dt.  If that doesn't eliminate this warning, it may be due to extreme parameter values and/or bugs in your model spefication.\n",
      "Warning: Renormalizing probability density from 1.0210059227464132 to 1.  Try decreasing dt.  If that doesn't eliminate this warning, it may be due to extreme parameter values and/or bugs in your model spefication.\n",
      "Warning: Renormalizing probability density from 1.0102886224538583 to 1.  Try decreasing dt.  If that doesn't eliminate this warning, it may be due to extreme parameter values and/or bugs in your model spefication.\n",
      "Warning: Renormalizing probability density from 1.0149190353505486 to 1.  Try decreasing dt.  If that doesn't eliminate this warning, it may be due to extreme parameter values and/or bugs in your model spefication.\n",
      "Warning: Renormalizing probability density from 1.0208434340742452 to 1.  Try decreasing dt.  If that doesn't eliminate this warning, it may be due to extreme parameter values and/or bugs in your model spefication.\n",
      "Warning: Renormalizing probability density from 1.0197506692041534 to 1.  Try decreasing dt.  If that doesn't eliminate this warning, it may be due to extreme parameter values and/or bugs in your model spefication.\n",
      "Warning: Renormalizing probability density from 1.017987596850741 to 1.  Try decreasing dt.  If that doesn't eliminate this warning, it may be due to extreme parameter values and/or bugs in your model spefication.\n",
      "Warning: Renormalizing probability density from 1.0171335539539954 to 1.  Try decreasing dt.  If that doesn't eliminate this warning, it may be due to extreme parameter values and/or bugs in your model spefication.\n",
      "Warning: Renormalizing probability density from 1.043549806914108 to 1.  Try decreasing dt.  If that doesn't eliminate this warning, it may be due to extreme parameter values and/or bugs in your model spefication.\n"
     ]
    },
    {
     "name": "stderr",
     "output_type": "stream",
     "text": [
      "Warning: Renormalizing probability density from 1.010700066770561 to 1.  Try decreasing dt.  If that doesn't eliminate this warning, it may be due to extreme parameter values and/or bugs in your model spefication.\n",
      "Warning: Renormalizing probability density from 1.0369906525426429 to 1.  Try decreasing dt.  If that doesn't eliminate this warning, it may be due to extreme parameter values and/or bugs in your model spefication.\n",
      "Warning: Renormalizing probability density from 1.0105482125199479 to 1.  Try decreasing dt.  If that doesn't eliminate this warning, it may be due to extreme parameter values and/or bugs in your model spefication.\n",
      "Warning: Renormalizing probability density from 1.0175735022968737 to 1.  Try decreasing dt.  If that doesn't eliminate this warning, it may be due to extreme parameter values and/or bugs in your model spefication.\n",
      "Warning: Renormalizing probability density from 1.019088822630322 to 1.  Try decreasing dt.  If that doesn't eliminate this warning, it may be due to extreme parameter values and/or bugs in your model spefication.\n",
      "Warning: Renormalizing probability density from 1.0145291790333142 to 1.  Try decreasing dt.  If that doesn't eliminate this warning, it may be due to extreme parameter values and/or bugs in your model spefication.\n",
      "Warning: Renormalizing probability density from 1.0174612584441476 to 1.  Try decreasing dt.  If that doesn't eliminate this warning, it may be due to extreme parameter values and/or bugs in your model spefication.\n"
     ]
    },
    {
     "name": "stdout",
     "output_type": "stream",
     "text": [
      "3\n"
     ]
    },
    {
     "name": "stderr",
     "output_type": "stream",
     "text": [
      "Warning: Renormalizing probability density from 1.0123744749799064 to 1.  Try decreasing dt.  If that doesn't eliminate this warning, it may be due to extreme parameter values and/or bugs in your model spefication.\n",
      "Warning: Renormalizing probability density from 1.011146959360208 to 1.  Try decreasing dt.  If that doesn't eliminate this warning, it may be due to extreme parameter values and/or bugs in your model spefication.\n",
      "Warning: Renormalizing probability density from 1.011146959360208 to 1.  Try decreasing dt.  If that doesn't eliminate this warning, it may be due to extreme parameter values and/or bugs in your model spefication.\n",
      "Warning: Renormalizing probability density from 1.01114695896176 to 1.  Try decreasing dt.  If that doesn't eliminate this warning, it may be due to extreme parameter values and/or bugs in your model spefication.\n",
      "Warning: Renormalizing probability density from 1.011146959360208 to 1.  Try decreasing dt.  If that doesn't eliminate this warning, it may be due to extreme parameter values and/or bugs in your model spefication.\n",
      "Warning: Renormalizing probability density from 1.011146959360208 to 1.  Try decreasing dt.  If that doesn't eliminate this warning, it may be due to extreme parameter values and/or bugs in your model spefication.\n",
      "Warning: Renormalizing probability density from 1.011146959360208 to 1.  Try decreasing dt.  If that doesn't eliminate this warning, it may be due to extreme parameter values and/or bugs in your model spefication.\n",
      "Info: Params [0.10174311 1.40874717 1.76703565 0.13192766 0.71964888] gave 833.550925148\n",
      "Warning: dt is large.  Estimated pdfs may be imprecise.  Decrease dt to 0.01 or less.\n",
      "Warning: Renormalizing probability density from 1.0215984053424525 to 1.  Try decreasing dt.  If that doesn't eliminate this warning, it may be due to extreme parameter values and/or bugs in your model spefication.\n",
      "Warning: Renormalizing probability density from 1.015145372369302 to 1.  Try decreasing dt.  If that doesn't eliminate this warning, it may be due to extreme parameter values and/or bugs in your model spefication.\n",
      "Warning: Renormalizing probability density from 1.0418966284823408 to 1.  Try decreasing dt.  If that doesn't eliminate this warning, it may be due to extreme parameter values and/or bugs in your model spefication.\n",
      "Warning: Renormalizing probability density from 1.0129531314862645 to 1.  Try decreasing dt.  If that doesn't eliminate this warning, it may be due to extreme parameter values and/or bugs in your model spefication.\n",
      "Warning: Renormalizing probability density from 1.0281985091679293 to 1.  Try decreasing dt.  If that doesn't eliminate this warning, it may be due to extreme parameter values and/or bugs in your model spefication.\n",
      "Warning: Renormalizing probability density from 1.0100370259842788 to 1.  Try decreasing dt.  If that doesn't eliminate this warning, it may be due to extreme parameter values and/or bugs in your model spefication.\n",
      "Warning: Renormalizing probability density from 1.0101748671937496 to 1.  Try decreasing dt.  If that doesn't eliminate this warning, it may be due to extreme parameter values and/or bugs in your model spefication.\n"
     ]
    },
    {
     "name": "stdout",
     "output_type": "stream",
     "text": [
      "4\n"
     ]
    },
    {
     "name": "stderr",
     "output_type": "stream",
     "text": [
      "Info: Params [0.14807647 2.64971714 3.29038538 0.6824292  0.65398676] gave 1157.8349425270628\n",
      "Warning: dt is large.  Estimated pdfs may be imprecise.  Decrease dt to 0.01 or less.\n",
      "Warning: Renormalizing probability density from 1.0491035473254349 to 1.  Try decreasing dt.  If that doesn't eliminate this warning, it may be due to extreme parameter values and/or bugs in your model spefication.\n",
      "Warning: Renormalizing probability density from 1.0114392189233345 to 1.  Try decreasing dt.  If that doesn't eliminate this warning, it may be due to extreme parameter values and/or bugs in your model spefication.\n",
      "Warning: Renormalizing probability density from 1.011916356570667 to 1.  Try decreasing dt.  If that doesn't eliminate this warning, it may be due to extreme parameter values and/or bugs in your model spefication.\n",
      "Warning: Renormalizing probability density from 1.010364365574833 to 1.  Try decreasing dt.  If that doesn't eliminate this warning, it may be due to extreme parameter values and/or bugs in your model spefication.\n",
      "Warning: Renormalizing probability density from 1.010350946549157 to 1.  Try decreasing dt.  If that doesn't eliminate this warning, it may be due to extreme parameter values and/or bugs in your model spefication.\n",
      "Warning: Renormalizing probability density from 1.0502210625000694 to 1.  Try decreasing dt.  If that doesn't eliminate this warning, it may be due to extreme parameter values and/or bugs in your model spefication.\n",
      "Warning: Renormalizing probability density from 1.0105166287315428 to 1.  Try decreasing dt.  If that doesn't eliminate this warning, it may be due to extreme parameter values and/or bugs in your model spefication.\n",
      "Warning: Renormalizing probability density from 1.027893729722984 to 1.  Try decreasing dt.  If that doesn't eliminate this warning, it may be due to extreme parameter values and/or bugs in your model spefication.\n",
      "Warning: Renormalizing probability density from 1.0131170427412468 to 1.  Try decreasing dt.  If that doesn't eliminate this warning, it may be due to extreme parameter values and/or bugs in your model spefication.\n",
      "Warning: Renormalizing probability density from 1.011460401390903 to 1.  Try decreasing dt.  If that doesn't eliminate this warning, it may be due to extreme parameter values and/or bugs in your model spefication.\n",
      "Warning: Renormalizing probability density from 1.010418037485105 to 1.  Try decreasing dt.  If that doesn't eliminate this warning, it may be due to extreme parameter values and/or bugs in your model spefication.\n",
      "Warning: Renormalizing probability density from 1.046046764583164 to 1.  Try decreasing dt.  If that doesn't eliminate this warning, it may be due to extreme parameter values and/or bugs in your model spefication.\n",
      "Warning: Renormalizing probability density from 1.0413577896682804 to 1.  Try decreasing dt.  If that doesn't eliminate this warning, it may be due to extreme parameter values and/or bugs in your model spefication.\n",
      "Warning: Renormalizing probability density from 1.0215879119132574 to 1.  Try decreasing dt.  If that doesn't eliminate this warning, it may be due to extreme parameter values and/or bugs in your model spefication.\n",
      "Warning: Renormalizing probability density from 1.0110370883745634 to 1.  Try decreasing dt.  If that doesn't eliminate this warning, it may be due to extreme parameter values and/or bugs in your model spefication.\n",
      "Warning: Renormalizing probability density from 1.0431736472554949 to 1.  Try decreasing dt.  If that doesn't eliminate this warning, it may be due to extreme parameter values and/or bugs in your model spefication.\n",
      "Warning: Renormalizing probability density from 1.0189406959322678 to 1.  Try decreasing dt.  If that doesn't eliminate this warning, it may be due to extreme parameter values and/or bugs in your model spefication.\n",
      "Warning: Renormalizing probability density from 1.01061524125985 to 1.  Try decreasing dt.  If that doesn't eliminate this warning, it may be due to extreme parameter values and/or bugs in your model spefication.\n",
      "Warning: Renormalizing probability density from 1.0374410399195293 to 1.  Try decreasing dt.  If that doesn't eliminate this warning, it may be due to extreme parameter values and/or bugs in your model spefication.\n",
      "Warning: Renormalizing probability density from 1.0271446002052647 to 1.  Try decreasing dt.  If that doesn't eliminate this warning, it may be due to extreme parameter values and/or bugs in your model spefication.\n"
     ]
    },
    {
     "name": "stdout",
     "output_type": "stream",
     "text": [
      "5\n"
     ]
    },
    {
     "name": "stderr",
     "output_type": "stream",
     "text": [
      "Info: Params [0.15485252 1.09739611 3.68508784 0.77492232 0.85394085] gave 889.9100289004671\n",
      "Warning: dt is large.  Estimated pdfs may be imprecise.  Decrease dt to 0.01 or less.\n",
      "Warning: Renormalizing probability density from 1.0268392769706776 to 1.  Try decreasing dt.  If that doesn't eliminate this warning, it may be due to extreme parameter values and/or bugs in your model spefication.\n",
      "Warning: Renormalizing probability density from 1.0280820593578226 to 1.  Try decreasing dt.  If that doesn't eliminate this warning, it may be due to extreme parameter values and/or bugs in your model spefication.\n",
      "Warning: Renormalizing probability density from 1.029547971607648 to 1.  Try decreasing dt.  If that doesn't eliminate this warning, it may be due to extreme parameter values and/or bugs in your model spefication.\n",
      "Warning: Renormalizing probability density from 1.0389505557763898 to 1.  Try decreasing dt.  If that doesn't eliminate this warning, it may be due to extreme parameter values and/or bugs in your model spefication.\n",
      "Warning: Renormalizing probability density from 1.0107966483170556 to 1.  Try decreasing dt.  If that doesn't eliminate this warning, it may be due to extreme parameter values and/or bugs in your model spefication.\n",
      "Warning: Renormalizing probability density from 1.0149152876533836 to 1.  Try decreasing dt.  If that doesn't eliminate this warning, it may be due to extreme parameter values and/or bugs in your model spefication.\n",
      "Warning: Renormalizing probability density from 1.0109256566533817 to 1.  Try decreasing dt.  If that doesn't eliminate this warning, it may be due to extreme parameter values and/or bugs in your model spefication.\n",
      "Warning: Renormalizing probability density from 1.0136438634145397 to 1.  Try decreasing dt.  If that doesn't eliminate this warning, it may be due to extreme parameter values and/or bugs in your model spefication.\n",
      "Warning: Renormalizing probability density from 1.0440266280296695 to 1.  Try decreasing dt.  If that doesn't eliminate this warning, it may be due to extreme parameter values and/or bugs in your model spefication.\n",
      "Warning: Renormalizing probability density from 1.0149680932372995 to 1.  Try decreasing dt.  If that doesn't eliminate this warning, it may be due to extreme parameter values and/or bugs in your model spefication.\n",
      "Warning: Renormalizing probability density from 1.0182671295336994 to 1.  Try decreasing dt.  If that doesn't eliminate this warning, it may be due to extreme parameter values and/or bugs in your model spefication.\n",
      "Warning: Renormalizing probability density from 1.0188503417156627 to 1.  Try decreasing dt.  If that doesn't eliminate this warning, it may be due to extreme parameter values and/or bugs in your model spefication.\n",
      "Warning: Renormalizing probability density from 1.0100712884379193 to 1.  Try decreasing dt.  If that doesn't eliminate this warning, it may be due to extreme parameter values and/or bugs in your model spefication.\n",
      "Warning: Renormalizing probability density from 1.0145240096013834 to 1.  Try decreasing dt.  If that doesn't eliminate this warning, it may be due to extreme parameter values and/or bugs in your model spefication.\n",
      "Warning: Renormalizing probability density from 1.0102599991053614 to 1.  Try decreasing dt.  If that doesn't eliminate this warning, it may be due to extreme parameter values and/or bugs in your model spefication.\n"
     ]
    },
    {
     "name": "stdout",
     "output_type": "stream",
     "text": [
      "6\n"
     ]
    },
    {
     "name": "stderr",
     "output_type": "stream",
     "text": [
      "Warning: Renormalizing probability density from 1.0165579209026288 to 1.  Try decreasing dt.  If that doesn't eliminate this warning, it may be due to extreme parameter values and/or bugs in your model spefication.\n",
      "Warning: Renormalizing probability density from 1.0105157529225286 to 1.  Try decreasing dt.  If that doesn't eliminate this warning, it may be due to extreme parameter values and/or bugs in your model spefication.\n",
      "Warning: Renormalizing probability density from 1.0111933781272102 to 1.  Try decreasing dt.  If that doesn't eliminate this warning, it may be due to extreme parameter values and/or bugs in your model spefication.\n",
      "Warning: Renormalizing probability density from 1.0115632007431468 to 1.  Try decreasing dt.  If that doesn't eliminate this warning, it may be due to extreme parameter values and/or bugs in your model spefication.\n",
      "Warning: Renormalizing probability density from 1.0243512723147408 to 1.  Try decreasing dt.  If that doesn't eliminate this warning, it may be due to extreme parameter values and/or bugs in your model spefication.\n",
      "Warning: Renormalizing probability density from 1.0105291240197865 to 1.  Try decreasing dt.  If that doesn't eliminate this warning, it may be due to extreme parameter values and/or bugs in your model spefication.\n",
      "Warning: Renormalizing probability density from 1.0102163556835249 to 1.  Try decreasing dt.  If that doesn't eliminate this warning, it may be due to extreme parameter values and/or bugs in your model spefication.\n",
      "Info: Params [0.24619347 0.79023305 1.7401441  0.39136682 0.95252057] gave 585.17076308432\n",
      "Warning: dt is large.  Estimated pdfs may be imprecise.  Decrease dt to 0.01 or less.\n",
      "Warning: Renormalizing probability density from 1.011542665315586 to 1.  Try decreasing dt.  If that doesn't eliminate this warning, it may be due to extreme parameter values and/or bugs in your model spefication.\n",
      "Warning: Renormalizing probability density from 1.0312307732591053 to 1.  Try decreasing dt.  If that doesn't eliminate this warning, it may be due to extreme parameter values and/or bugs in your model spefication.\n",
      "Warning: Renormalizing probability density from 1.0102133172848435 to 1.  Try decreasing dt.  If that doesn't eliminate this warning, it may be due to extreme parameter values and/or bugs in your model spefication.\n",
      "Warning: Renormalizing probability density from 1.0192829331094428 to 1.  Try decreasing dt.  If that doesn't eliminate this warning, it may be due to extreme parameter values and/or bugs in your model spefication.\n",
      "Warning: Renormalizing probability density from 1.013278216722536 to 1.  Try decreasing dt.  If that doesn't eliminate this warning, it may be due to extreme parameter values and/or bugs in your model spefication.\n",
      "Warning: Renormalizing probability density from 1.0144440633531708 to 1.  Try decreasing dt.  If that doesn't eliminate this warning, it may be due to extreme parameter values and/or bugs in your model spefication.\n",
      "Warning: Renormalizing probability density from 1.0426745704922755 to 1.  Try decreasing dt.  If that doesn't eliminate this warning, it may be due to extreme parameter values and/or bugs in your model spefication.\n",
      "Warning: Renormalizing probability density from 1.0181905087124303 to 1.  Try decreasing dt.  If that doesn't eliminate this warning, it may be due to extreme parameter values and/or bugs in your model spefication.\n",
      "Warning: Renormalizing probability density from 1.0125820487330635 to 1.  Try decreasing dt.  If that doesn't eliminate this warning, it may be due to extreme parameter values and/or bugs in your model spefication.\n",
      "Warning: Renormalizing probability density from 1.0105517690528087 to 1.  Try decreasing dt.  If that doesn't eliminate this warning, it may be due to extreme parameter values and/or bugs in your model spefication.\n",
      "Warning: Renormalizing probability density from 1.0111543251931778 to 1.  Try decreasing dt.  If that doesn't eliminate this warning, it may be due to extreme parameter values and/or bugs in your model spefication.\n",
      "Warning: Renormalizing probability density from 1.0105643681532388 to 1.  Try decreasing dt.  If that doesn't eliminate this warning, it may be due to extreme parameter values and/or bugs in your model spefication.\n",
      "Warning: Renormalizing probability density from 1.0100763073991392 to 1.  Try decreasing dt.  If that doesn't eliminate this warning, it may be due to extreme parameter values and/or bugs in your model spefication.\n",
      "Warning: Renormalizing probability density from 1.0284419866802565 to 1.  Try decreasing dt.  If that doesn't eliminate this warning, it may be due to extreme parameter values and/or bugs in your model spefication.\n",
      "Warning: Renormalizing probability density from 1.0101458032968886 to 1.  Try decreasing dt.  If that doesn't eliminate this warning, it may be due to extreme parameter values and/or bugs in your model spefication.\n",
      "Warning: Renormalizing probability density from 1.0521100544908413 to 1.  Try decreasing dt.  If that doesn't eliminate this warning, it may be due to extreme parameter values and/or bugs in your model spefication.\n"
     ]
    },
    {
     "name": "stdout",
     "output_type": "stream",
     "text": [
      "7\n"
     ]
    },
    {
     "name": "stderr",
     "output_type": "stream",
     "text": [
      "Warning: Renormalizing probability density from 1.0102165286675244 to 1.  Try decreasing dt.  If that doesn't eliminate this warning, it may be due to extreme parameter values and/or bugs in your model spefication.\n",
      "Warning: Renormalizing probability density from 1.0116580452589596 to 1.  Try decreasing dt.  If that doesn't eliminate this warning, it may be due to extreme parameter values and/or bugs in your model spefication.\n",
      "Warning: Renormalizing probability density from 1.055047754440697 to 1.  Try decreasing dt.  If that doesn't eliminate this warning, it may be due to extreme parameter values and/or bugs in your model spefication.\n",
      "Warning: Renormalizing probability density from 1.0102405375496066 to 1.  Try decreasing dt.  If that doesn't eliminate this warning, it may be due to extreme parameter values and/or bugs in your model spefication.\n",
      "Warning: Renormalizing probability density from 1.0120504127799503 to 1.  Try decreasing dt.  If that doesn't eliminate this warning, it may be due to extreme parameter values and/or bugs in your model spefication.\n",
      "Warning: Renormalizing probability density from 1.0285667375405125 to 1.  Try decreasing dt.  If that doesn't eliminate this warning, it may be due to extreme parameter values and/or bugs in your model spefication.\n",
      "Warning: Renormalizing probability density from 1.010903293919219 to 1.  Try decreasing dt.  If that doesn't eliminate this warning, it may be due to extreme parameter values and/or bugs in your model spefication.\n",
      "Warning: Renormalizing probability density from 1.0272595542544147 to 1.  Try decreasing dt.  If that doesn't eliminate this warning, it may be due to extreme parameter values and/or bugs in your model spefication.\n",
      "Warning: Renormalizing probability density from 1.0108129025866983 to 1.  Try decreasing dt.  If that doesn't eliminate this warning, it may be due to extreme parameter values and/or bugs in your model spefication.\n",
      "Warning: Renormalizing probability density from 1.025328001341517 to 1.  Try decreasing dt.  If that doesn't eliminate this warning, it may be due to extreme parameter values and/or bugs in your model spefication.\n",
      "Warning: Renormalizing probability density from 1.0111694876948605 to 1.  Try decreasing dt.  If that doesn't eliminate this warning, it may be due to extreme parameter values and/or bugs in your model spefication.\n",
      "Warning: Renormalizing probability density from 1.0479076863397843 to 1.  Try decreasing dt.  If that doesn't eliminate this warning, it may be due to extreme parameter values and/or bugs in your model spefication.\n",
      "Warning: Renormalizing probability density from 1.0479076862659233 to 1.  Try decreasing dt.  If that doesn't eliminate this warning, it may be due to extreme parameter values and/or bugs in your model spefication.\n",
      "Warning: Renormalizing probability density from 1.0479076908844007 to 1.  Try decreasing dt.  If that doesn't eliminate this warning, it may be due to extreme parameter values and/or bugs in your model spefication.\n",
      "Warning: Renormalizing probability density from 1.0479076863397843 to 1.  Try decreasing dt.  If that doesn't eliminate this warning, it may be due to extreme parameter values and/or bugs in your model spefication.\n",
      "Warning: Renormalizing probability density from 1.0479076863397843 to 1.  Try decreasing dt.  If that doesn't eliminate this warning, it may be due to extreme parameter values and/or bugs in your model spefication.\n",
      "Warning: Renormalizing probability density from 1.0479076863397843 to 1.  Try decreasing dt.  If that doesn't eliminate this warning, it may be due to extreme parameter values and/or bugs in your model spefication.\n",
      "Info: Params [0.24930206 0.77590349 1.61321511 0.68575665 0.64126674] gave 558.9927046260607\n",
      "Warning: dt is large.  Estimated pdfs may be imprecise.  Decrease dt to 0.01 or less.\n",
      "Warning: Renormalizing probability density from 1.01354040123003 to 1.  Try decreasing dt.  If that doesn't eliminate this warning, it may be due to extreme parameter values and/or bugs in your model spefication.\n",
      "Warning: Renormalizing probability density from 1.0134633018945947 to 1.  Try decreasing dt.  If that doesn't eliminate this warning, it may be due to extreme parameter values and/or bugs in your model spefication.\n",
      "Warning: Renormalizing probability density from 1.014551290493039 to 1.  Try decreasing dt.  If that doesn't eliminate this warning, it may be due to extreme parameter values and/or bugs in your model spefication.\n",
      "Warning: Renormalizing probability density from 1.0139572613410683 to 1.  Try decreasing dt.  If that doesn't eliminate this warning, it may be due to extreme parameter values and/or bugs in your model spefication.\n",
      "Warning: Renormalizing probability density from 1.0445592662757242 to 1.  Try decreasing dt.  If that doesn't eliminate this warning, it may be due to extreme parameter values and/or bugs in your model spefication.\n",
      "Warning: Renormalizing probability density from 1.010553191645682 to 1.  Try decreasing dt.  If that doesn't eliminate this warning, it may be due to extreme parameter values and/or bugs in your model spefication.\n",
      "Warning: Renormalizing probability density from 1.017918220409248 to 1.  Try decreasing dt.  If that doesn't eliminate this warning, it may be due to extreme parameter values and/or bugs in your model spefication.\n",
      "Warning: Renormalizing probability density from 1.0146407131096182 to 1.  Try decreasing dt.  If that doesn't eliminate this warning, it may be due to extreme parameter values and/or bugs in your model spefication.\n",
      "Warning: Renormalizing probability density from 1.022583146793516 to 1.  Try decreasing dt.  If that doesn't eliminate this warning, it may be due to extreme parameter values and/or bugs in your model spefication.\n",
      "Warning: Renormalizing probability density from 1.02216567217482 to 1.  Try decreasing dt.  If that doesn't eliminate this warning, it may be due to extreme parameter values and/or bugs in your model spefication.\n",
      "Warning: Renormalizing probability density from 1.0363486535020296 to 1.  Try decreasing dt.  If that doesn't eliminate this warning, it may be due to extreme parameter values and/or bugs in your model spefication.\n",
      "Warning: Renormalizing probability density from 1.0163545101926876 to 1.  Try decreasing dt.  If that doesn't eliminate this warning, it may be due to extreme parameter values and/or bugs in your model spefication.\n",
      "Warning: Renormalizing probability density from 1.024709432311666 to 1.  Try decreasing dt.  If that doesn't eliminate this warning, it may be due to extreme parameter values and/or bugs in your model spefication.\n",
      "Warning: Renormalizing probability density from 1.0107027707618388 to 1.  Try decreasing dt.  If that doesn't eliminate this warning, it may be due to extreme parameter values and/or bugs in your model spefication.\n",
      "Warning: Renormalizing probability density from 1.0100234691129075 to 1.  Try decreasing dt.  If that doesn't eliminate this warning, it may be due to extreme parameter values and/or bugs in your model spefication.\n",
      "Warning: Renormalizing probability density from 1.0116652053877273 to 1.  Try decreasing dt.  If that doesn't eliminate this warning, it may be due to extreme parameter values and/or bugs in your model spefication.\n",
      "Warning: Renormalizing probability density from 1.0164811613642157 to 1.  Try decreasing dt.  If that doesn't eliminate this warning, it may be due to extreme parameter values and/or bugs in your model spefication.\n",
      "Warning: Renormalizing probability density from 1.0103147841903146 to 1.  Try decreasing dt.  If that doesn't eliminate this warning, it may be due to extreme parameter values and/or bugs in your model spefication.\n",
      "Warning: Renormalizing probability density from 1.0456778815790133 to 1.  Try decreasing dt.  If that doesn't eliminate this warning, it may be due to extreme parameter values and/or bugs in your model spefication.\n",
      "Warning: Renormalizing probability density from 1.0102304871358945 to 1.  Try decreasing dt.  If that doesn't eliminate this warning, it may be due to extreme parameter values and/or bugs in your model spefication.\n",
      "Warning: Renormalizing probability density from 1.0150399482119221 to 1.  Try decreasing dt.  If that doesn't eliminate this warning, it may be due to extreme parameter values and/or bugs in your model spefication.\n"
     ]
    },
    {
     "name": "stderr",
     "output_type": "stream",
     "text": [
      "Warning: Renormalizing probability density from 1.0106458758747245 to 1.  Try decreasing dt.  If that doesn't eliminate this warning, it may be due to extreme parameter values and/or bugs in your model spefication.\n",
      "Warning: Renormalizing probability density from 1.0137176814286115 to 1.  Try decreasing dt.  If that doesn't eliminate this warning, it may be due to extreme parameter values and/or bugs in your model spefication.\n",
      "Warning: Renormalizing probability density from 1.0221213891732182 to 1.  Try decreasing dt.  If that doesn't eliminate this warning, it may be due to extreme parameter values and/or bugs in your model spefication.\n"
     ]
    },
    {
     "name": "stdout",
     "output_type": "stream",
     "text": [
      "8\n"
     ]
    },
    {
     "name": "stderr",
     "output_type": "stream",
     "text": [
      "Warning: Renormalizing probability density from 1.0109223833881464 to 1.  Try decreasing dt.  If that doesn't eliminate this warning, it may be due to extreme parameter values and/or bugs in your model spefication.\n",
      "Warning: Renormalizing probability density from 1.0499129651300838 to 1.  Try decreasing dt.  If that doesn't eliminate this warning, it may be due to extreme parameter values and/or bugs in your model spefication.\n",
      "Warning: Renormalizing probability density from 1.0112860039221416 to 1.  Try decreasing dt.  If that doesn't eliminate this warning, it may be due to extreme parameter values and/or bugs in your model spefication.\n",
      "Warning: Renormalizing probability density from 1.0143283549713369 to 1.  Try decreasing dt.  If that doesn't eliminate this warning, it may be due to extreme parameter values and/or bugs in your model spefication.\n",
      "Warning: Renormalizing probability density from 1.0117683524619132 to 1.  Try decreasing dt.  If that doesn't eliminate this warning, it may be due to extreme parameter values and/or bugs in your model spefication.\n",
      "Warning: Renormalizing probability density from 1.0101030147950412 to 1.  Try decreasing dt.  If that doesn't eliminate this warning, it may be due to extreme parameter values and/or bugs in your model spefication.\n",
      "Warning: Renormalizing probability density from 1.0101474190342177 to 1.  Try decreasing dt.  If that doesn't eliminate this warning, it may be due to extreme parameter values and/or bugs in your model spefication.\n",
      "Warning: Renormalizing probability density from 1.0109672450555054 to 1.  Try decreasing dt.  If that doesn't eliminate this warning, it may be due to extreme parameter values and/or bugs in your model spefication.\n",
      "Warning: Renormalizing probability density from 1.0447645478887029 to 1.  Try decreasing dt.  If that doesn't eliminate this warning, it may be due to extreme parameter values and/or bugs in your model spefication.\n",
      "Warning: Renormalizing probability density from 1.0367606772927693 to 1.  Try decreasing dt.  If that doesn't eliminate this warning, it may be due to extreme parameter values and/or bugs in your model spefication.\n",
      "Warning: Renormalizing probability density from 1.0107713802492688 to 1.  Try decreasing dt.  If that doesn't eliminate this warning, it may be due to extreme parameter values and/or bugs in your model spefication.\n",
      "Warning: Renormalizing probability density from 1.0446267665836155 to 1.  Try decreasing dt.  If that doesn't eliminate this warning, it may be due to extreme parameter values and/or bugs in your model spefication.\n",
      "Warning: Renormalizing probability density from 1.015594079535005 to 1.  Try decreasing dt.  If that doesn't eliminate this warning, it may be due to extreme parameter values and/or bugs in your model spefication.\n",
      "Warning: Renormalizing probability density from 1.0111432817978658 to 1.  Try decreasing dt.  If that doesn't eliminate this warning, it may be due to extreme parameter values and/or bugs in your model spefication.\n",
      "Warning: Renormalizing probability density from 1.0113476761517337 to 1.  Try decreasing dt.  If that doesn't eliminate this warning, it may be due to extreme parameter values and/or bugs in your model spefication.\n",
      "Warning: Renormalizing probability density from 1.0104422811931186 to 1.  Try decreasing dt.  If that doesn't eliminate this warning, it may be due to extreme parameter values and/or bugs in your model spefication.\n",
      "Warning: Renormalizing probability density from 1.013747494471556 to 1.  Try decreasing dt.  If that doesn't eliminate this warning, it may be due to extreme parameter values and/or bugs in your model spefication.\n",
      "Warning: Renormalizing probability density from 1.0101030147950412 to 1.  Try decreasing dt.  If that doesn't eliminate this warning, it may be due to extreme parameter values and/or bugs in your model spefication.\n",
      "Warning: Renormalizing probability density from 1.011963190810638 to 1.  Try decreasing dt.  If that doesn't eliminate this warning, it may be due to extreme parameter values and/or bugs in your model spefication.\n",
      "Warning: Renormalizing probability density from 1.0113044916456193 to 1.  Try decreasing dt.  If that doesn't eliminate this warning, it may be due to extreme parameter values and/or bugs in your model spefication.\n",
      "Warning: Renormalizing probability density from 1.0252356340588682 to 1.  Try decreasing dt.  If that doesn't eliminate this warning, it may be due to extreme parameter values and/or bugs in your model spefication.\n",
      "Warning: Renormalizing probability density from 1.0105905717977959 to 1.  Try decreasing dt.  If that doesn't eliminate this warning, it may be due to extreme parameter values and/or bugs in your model spefication.\n",
      "Warning: Renormalizing probability density from 1.0185345510488604 to 1.  Try decreasing dt.  If that doesn't eliminate this warning, it may be due to extreme parameter values and/or bugs in your model spefication.\n",
      "Warning: Renormalizing probability density from 1.0293010511393716 to 1.  Try decreasing dt.  If that doesn't eliminate this warning, it may be due to extreme parameter values and/or bugs in your model spefication.\n",
      "Warning: Renormalizing probability density from 1.0315651484738624 to 1.  Try decreasing dt.  If that doesn't eliminate this warning, it may be due to extreme parameter values and/or bugs in your model spefication.\n",
      "Warning: Renormalizing probability density from 1.0224342450330268 to 1.  Try decreasing dt.  If that doesn't eliminate this warning, it may be due to extreme parameter values and/or bugs in your model spefication.\n",
      "Warning: Renormalizing probability density from 1.011149266486569 to 1.  Try decreasing dt.  If that doesn't eliminate this warning, it may be due to extreme parameter values and/or bugs in your model spefication.\n",
      "Warning: Renormalizing probability density from 1.011146959360208 to 1.  Try decreasing dt.  If that doesn't eliminate this warning, it may be due to extreme parameter values and/or bugs in your model spefication.\n",
      "Warning: Renormalizing probability density from 1.011146959360208 to 1.  Try decreasing dt.  If that doesn't eliminate this warning, it may be due to extreme parameter values and/or bugs in your model spefication.\n",
      "Warning: Renormalizing probability density from 1.011146959360208 to 1.  Try decreasing dt.  If that doesn't eliminate this warning, it may be due to extreme parameter values and/or bugs in your model spefication.\n",
      "Warning: Renormalizing probability density from 1.01114695896176 to 1.  Try decreasing dt.  If that doesn't eliminate this warning, it may be due to extreme parameter values and/or bugs in your model spefication.\n",
      "Warning: Renormalizing probability density from 1.011146959360208 to 1.  Try decreasing dt.  If that doesn't eliminate this warning, it may be due to extreme parameter values and/or bugs in your model spefication.\n",
      "Warning: Renormalizing probability density from 1.011146959360208 to 1.  Try decreasing dt.  If that doesn't eliminate this warning, it may be due to extreme parameter values and/or bugs in your model spefication.\n",
      "Info: Params [0.         0.84333292 1.20440891 0.18377043 0.11557766] gave 619.7920667568036\n",
      "Warning: dt is large.  Estimated pdfs may be imprecise.  Decrease dt to 0.01 or less.\n",
      "Warning: Renormalizing probability density from 1.0189828213087861 to 1.  Try decreasing dt.  If that doesn't eliminate this warning, it may be due to extreme parameter values and/or bugs in your model spefication.\n",
      "Warning: Renormalizing probability density from 1.0163555953119119 to 1.  Try decreasing dt.  If that doesn't eliminate this warning, it may be due to extreme parameter values and/or bugs in your model spefication.\n",
      "Warning: Renormalizing probability density from 1.0174743607131913 to 1.  Try decreasing dt.  If that doesn't eliminate this warning, it may be due to extreme parameter values and/or bugs in your model spefication.\n",
      "Warning: Renormalizing probability density from 1.0109371010261419 to 1.  Try decreasing dt.  If that doesn't eliminate this warning, it may be due to extreme parameter values and/or bugs in your model spefication.\n",
      "Warning: Renormalizing probability density from 1.0331258973402402 to 1.  Try decreasing dt.  If that doesn't eliminate this warning, it may be due to extreme parameter values and/or bugs in your model spefication.\n"
     ]
    },
    {
     "name": "stderr",
     "output_type": "stream",
     "text": [
      "Warning: Renormalizing probability density from 1.036943998145946 to 1.  Try decreasing dt.  If that doesn't eliminate this warning, it may be due to extreme parameter values and/or bugs in your model spefication.\n",
      "Warning: Renormalizing probability density from 1.0256532088451653 to 1.  Try decreasing dt.  If that doesn't eliminate this warning, it may be due to extreme parameter values and/or bugs in your model spefication.\n",
      "Warning: Renormalizing probability density from 1.0182175643371802 to 1.  Try decreasing dt.  If that doesn't eliminate this warning, it may be due to extreme parameter values and/or bugs in your model spefication.\n",
      "Warning: Renormalizing probability density from 1.0122966092111922 to 1.  Try decreasing dt.  If that doesn't eliminate this warning, it may be due to extreme parameter values and/or bugs in your model spefication.\n",
      "Warning: Renormalizing probability density from 1.0182175643371802 to 1.  Try decreasing dt.  If that doesn't eliminate this warning, it may be due to extreme parameter values and/or bugs in your model spefication.\n",
      "Warning: Renormalizing probability density from 1.010223119026198 to 1.  Try decreasing dt.  If that doesn't eliminate this warning, it may be due to extreme parameter values and/or bugs in your model spefication.\n",
      "Warning: Renormalizing probability density from 1.0128128265443255 to 1.  Try decreasing dt.  If that doesn't eliminate this warning, it may be due to extreme parameter values and/or bugs in your model spefication.\n",
      "Warning: Renormalizing probability density from 1.0239474399455082 to 1.  Try decreasing dt.  If that doesn't eliminate this warning, it may be due to extreme parameter values and/or bugs in your model spefication.\n",
      "Warning: Renormalizing probability density from 1.0115753746399756 to 1.  Try decreasing dt.  If that doesn't eliminate this warning, it may be due to extreme parameter values and/or bugs in your model spefication.\n",
      "Warning: Renormalizing probability density from 1.013331390457313 to 1.  Try decreasing dt.  If that doesn't eliminate this warning, it may be due to extreme parameter values and/or bugs in your model spefication.\n",
      "Warning: Renormalizing probability density from 1.051689183511142 to 1.  Try decreasing dt.  If that doesn't eliminate this warning, it may be due to extreme parameter values and/or bugs in your model spefication.\n",
      "Warning: Renormalizing probability density from 1.0481578560464366 to 1.  Try decreasing dt.  If that doesn't eliminate this warning, it may be due to extreme parameter values and/or bugs in your model spefication.\n",
      "Warning: Renormalizing probability density from 1.0108640917139986 to 1.  Try decreasing dt.  If that doesn't eliminate this warning, it may be due to extreme parameter values and/or bugs in your model spefication.\n",
      "Warning: Renormalizing probability density from 1.0155935888430527 to 1.  Try decreasing dt.  If that doesn't eliminate this warning, it may be due to extreme parameter values and/or bugs in your model spefication.\n"
     ]
    },
    {
     "name": "stdout",
     "output_type": "stream",
     "text": [
      "9\n"
     ]
    },
    {
     "name": "stderr",
     "output_type": "stream",
     "text": [
      "Warning: Renormalizing probability density from 1.0110562920678547 to 1.  Try decreasing dt.  If that doesn't eliminate this warning, it may be due to extreme parameter values and/or bugs in your model spefication.\n",
      "Warning: Renormalizing probability density from 1.011146959360208 to 1.  Try decreasing dt.  If that doesn't eliminate this warning, it may be due to extreme parameter values and/or bugs in your model spefication.\n",
      "Warning: Renormalizing probability density from 1.011146959360208 to 1.  Try decreasing dt.  If that doesn't eliminate this warning, it may be due to extreme parameter values and/or bugs in your model spefication.\n",
      "Warning: Renormalizing probability density from 1.011146959360208 to 1.  Try decreasing dt.  If that doesn't eliminate this warning, it may be due to extreme parameter values and/or bugs in your model spefication.\n",
      "Warning: Renormalizing probability density from 1.01114695896176 to 1.  Try decreasing dt.  If that doesn't eliminate this warning, it may be due to extreme parameter values and/or bugs in your model spefication.\n",
      "Warning: Renormalizing probability density from 1.011146959360208 to 1.  Try decreasing dt.  If that doesn't eliminate this warning, it may be due to extreme parameter values and/or bugs in your model spefication.\n",
      "Warning: Renormalizing probability density from 1.011146959360208 to 1.  Try decreasing dt.  If that doesn't eliminate this warning, it may be due to extreme parameter values and/or bugs in your model spefication.\n",
      "Info: Params [0.06552415 1.57308767 1.82337694 0.10878672 0.10584864] gave 928.8870635184146\n",
      "Warning: dt is large.  Estimated pdfs may be imprecise.  Decrease dt to 0.01 or less.\n",
      "Warning: Renormalizing probability density from 1.0199151351102764 to 1.  Try decreasing dt.  If that doesn't eliminate this warning, it may be due to extreme parameter values and/or bugs in your model spefication.\n",
      "Warning: Renormalizing probability density from 1.021586379802027 to 1.  Try decreasing dt.  If that doesn't eliminate this warning, it may be due to extreme parameter values and/or bugs in your model spefication.\n",
      "Warning: Renormalizing probability density from 1.0199151351102764 to 1.  Try decreasing dt.  If that doesn't eliminate this warning, it may be due to extreme parameter values and/or bugs in your model spefication.\n",
      "Warning: Renormalizing probability density from 1.0106639120811611 to 1.  Try decreasing dt.  If that doesn't eliminate this warning, it may be due to extreme parameter values and/or bugs in your model spefication.\n",
      "Warning: Renormalizing probability density from 1.0102528661400605 to 1.  Try decreasing dt.  If that doesn't eliminate this warning, it may be due to extreme parameter values and/or bugs in your model spefication.\n",
      "Warning: Renormalizing probability density from 1.0119705814979114 to 1.  Try decreasing dt.  If that doesn't eliminate this warning, it may be due to extreme parameter values and/or bugs in your model spefication.\n",
      "Warning: Renormalizing probability density from 1.010276917341333 to 1.  Try decreasing dt.  If that doesn't eliminate this warning, it may be due to extreme parameter values and/or bugs in your model spefication.\n",
      "Warning: Renormalizing probability density from 1.0302856628416857 to 1.  Try decreasing dt.  If that doesn't eliminate this warning, it may be due to extreme parameter values and/or bugs in your model spefication.\n",
      "Warning: Renormalizing probability density from 1.035946751878135 to 1.  Try decreasing dt.  If that doesn't eliminate this warning, it may be due to extreme parameter values and/or bugs in your model spefication.\n",
      "Warning: Renormalizing probability density from 1.037896791131778 to 1.  Try decreasing dt.  If that doesn't eliminate this warning, it may be due to extreme parameter values and/or bugs in your model spefication.\n",
      "Warning: Renormalizing probability density from 1.0112656930287192 to 1.  Try decreasing dt.  If that doesn't eliminate this warning, it may be due to extreme parameter values and/or bugs in your model spefication.\n",
      "Warning: Renormalizing probability density from 1.011160605209544 to 1.  Try decreasing dt.  If that doesn't eliminate this warning, it may be due to extreme parameter values and/or bugs in your model spefication.\n"
     ]
    },
    {
     "name": "stdout",
     "output_type": "stream",
     "text": [
      "10\n"
     ]
    },
    {
     "name": "stderr",
     "output_type": "stream",
     "text": [
      "Warning: Renormalizing probability density from 1.0100328421926483 to 1.  Try decreasing dt.  If that doesn't eliminate this warning, it may be due to extreme parameter values and/or bugs in your model spefication.\n",
      "Warning: Renormalizing probability density from 1.0479076863397843 to 1.  Try decreasing dt.  If that doesn't eliminate this warning, it may be due to extreme parameter values and/or bugs in your model spefication.\n",
      "Warning: Renormalizing probability density from 1.0479076862659233 to 1.  Try decreasing dt.  If that doesn't eliminate this warning, it may be due to extreme parameter values and/or bugs in your model spefication.\n",
      "Warning: Renormalizing probability density from 1.0479076908844007 to 1.  Try decreasing dt.  If that doesn't eliminate this warning, it may be due to extreme parameter values and/or bugs in your model spefication.\n",
      "Warning: Renormalizing probability density from 1.0479076863397843 to 1.  Try decreasing dt.  If that doesn't eliminate this warning, it may be due to extreme parameter values and/or bugs in your model spefication.\n",
      "Warning: Renormalizing probability density from 1.0479076863397843 to 1.  Try decreasing dt.  If that doesn't eliminate this warning, it may be due to extreme parameter values and/or bugs in your model spefication.\n",
      "Warning: Renormalizing probability density from 1.0479076863397843 to 1.  Try decreasing dt.  If that doesn't eliminate this warning, it may be due to extreme parameter values and/or bugs in your model spefication.\n",
      "Info: Params [0.27290138 1.06687119 3.44123104 0.9752531  0.90059513] gave 809.7741543267787\n",
      "Warning: dt is large.  Estimated pdfs may be imprecise.  Decrease dt to 0.01 or less.\n",
      "Warning: Renormalizing probability density from 1.0518923188009757 to 1.  Try decreasing dt.  If that doesn't eliminate this warning, it may be due to extreme parameter values and/or bugs in your model spefication.\n",
      "Warning: Renormalizing probability density from 1.013203784773655 to 1.  Try decreasing dt.  If that doesn't eliminate this warning, it may be due to extreme parameter values and/or bugs in your model spefication.\n",
      "Warning: Renormalizing probability density from 1.0484442872845992 to 1.  Try decreasing dt.  If that doesn't eliminate this warning, it may be due to extreme parameter values and/or bugs in your model spefication.\n",
      "Warning: Renormalizing probability density from 1.0374731060146618 to 1.  Try decreasing dt.  If that doesn't eliminate this warning, it may be due to extreme parameter values and/or bugs in your model spefication.\n",
      "Warning: Renormalizing probability density from 1.01048628123444 to 1.  Try decreasing dt.  If that doesn't eliminate this warning, it may be due to extreme parameter values and/or bugs in your model spefication.\n",
      "Warning: Renormalizing probability density from 1.0101546015682208 to 1.  Try decreasing dt.  If that doesn't eliminate this warning, it may be due to extreme parameter values and/or bugs in your model spefication.\n",
      "Warning: Renormalizing probability density from 1.0321924367829423 to 1.  Try decreasing dt.  If that doesn't eliminate this warning, it may be due to extreme parameter values and/or bugs in your model spefication.\n",
      "Warning: Renormalizing probability density from 1.020669348506648 to 1.  Try decreasing dt.  If that doesn't eliminate this warning, it may be due to extreme parameter values and/or bugs in your model spefication.\n",
      "Warning: Renormalizing probability density from 1.0136053984360338 to 1.  Try decreasing dt.  If that doesn't eliminate this warning, it may be due to extreme parameter values and/or bugs in your model spefication.\n",
      "Warning: Renormalizing probability density from 1.0104200896264501 to 1.  Try decreasing dt.  If that doesn't eliminate this warning, it may be due to extreme parameter values and/or bugs in your model spefication.\n",
      "Warning: Renormalizing probability density from 1.013020769688418 to 1.  Try decreasing dt.  If that doesn't eliminate this warning, it may be due to extreme parameter values and/or bugs in your model spefication.\n",
      "Warning: Renormalizing probability density from 1.0210513529576244 to 1.  Try decreasing dt.  If that doesn't eliminate this warning, it may be due to extreme parameter values and/or bugs in your model spefication.\n"
     ]
    },
    {
     "name": "stdout",
     "output_type": "stream",
     "text": [
      "11\n"
     ]
    },
    {
     "name": "stderr",
     "output_type": "stream",
     "text": [
      "Warning: Renormalizing probability density from 1.0323272923552282 to 1.  Try decreasing dt.  If that doesn't eliminate this warning, it may be due to extreme parameter values and/or bugs in your model spefication.\n",
      "Warning: Renormalizing probability density from 1.02151857026516 to 1.  Try decreasing dt.  If that doesn't eliminate this warning, it may be due to extreme parameter values and/or bugs in your model spefication.\n",
      "Warning: Renormalizing probability density from 1.010920898831445 to 1.  Try decreasing dt.  If that doesn't eliminate this warning, it may be due to extreme parameter values and/or bugs in your model spefication.\n",
      "Warning: Renormalizing probability density from 1.0108042918997684 to 1.  Try decreasing dt.  If that doesn't eliminate this warning, it may be due to extreme parameter values and/or bugs in your model spefication.\n",
      "Warning: Renormalizing probability density from 1.0101096397889295 to 1.  Try decreasing dt.  If that doesn't eliminate this warning, it may be due to extreme parameter values and/or bugs in your model spefication.\n",
      "Warning: Renormalizing probability density from 1.0158099498058462 to 1.  Try decreasing dt.  If that doesn't eliminate this warning, it may be due to extreme parameter values and/or bugs in your model spefication.\n",
      "Warning: Renormalizing probability density from 1.0104859248190647 to 1.  Try decreasing dt.  If that doesn't eliminate this warning, it may be due to extreme parameter values and/or bugs in your model spefication.\n",
      "Warning: Renormalizing probability density from 1.0353022307824027 to 1.  Try decreasing dt.  If that doesn't eliminate this warning, it may be due to extreme parameter values and/or bugs in your model spefication.\n",
      "Warning: Renormalizing probability density from 1.0102002301568769 to 1.  Try decreasing dt.  If that doesn't eliminate this warning, it may be due to extreme parameter values and/or bugs in your model spefication.\n",
      "Warning: Renormalizing probability density from 1.0101092107552083 to 1.  Try decreasing dt.  If that doesn't eliminate this warning, it may be due to extreme parameter values and/or bugs in your model spefication.\n",
      "Warning: Renormalizing probability density from 1.0125987775252714 to 1.  Try decreasing dt.  If that doesn't eliminate this warning, it may be due to extreme parameter values and/or bugs in your model spefication.\n",
      "Warning: Renormalizing probability density from 1.0220878071606703 to 1.  Try decreasing dt.  If that doesn't eliminate this warning, it may be due to extreme parameter values and/or bugs in your model spefication.\n",
      "Warning: Renormalizing probability density from 1.024238006134575 to 1.  Try decreasing dt.  If that doesn't eliminate this warning, it may be due to extreme parameter values and/or bugs in your model spefication.\n",
      "Warning: Renormalizing probability density from 1.0110668948397348 to 1.  Try decreasing dt.  If that doesn't eliminate this warning, it may be due to extreme parameter values and/or bugs in your model spefication.\n",
      "Warning: Renormalizing probability density from 1.0115469538786819 to 1.  Try decreasing dt.  If that doesn't eliminate this warning, it may be due to extreme parameter values and/or bugs in your model spefication.\n",
      "Warning: Renormalizing probability density from 1.011146959360208 to 1.  Try decreasing dt.  If that doesn't eliminate this warning, it may be due to extreme parameter values and/or bugs in your model spefication.\n",
      "Warning: Renormalizing probability density from 1.011146959360208 to 1.  Try decreasing dt.  If that doesn't eliminate this warning, it may be due to extreme parameter values and/or bugs in your model spefication.\n",
      "Warning: Renormalizing probability density from 1.01114695896176 to 1.  Try decreasing dt.  If that doesn't eliminate this warning, it may be due to extreme parameter values and/or bugs in your model spefication.\n",
      "Warning: Renormalizing probability density from 1.011146959360208 to 1.  Try decreasing dt.  If that doesn't eliminate this warning, it may be due to extreme parameter values and/or bugs in your model spefication.\n",
      "Warning: Renormalizing probability density from 1.011146959360208 to 1.  Try decreasing dt.  If that doesn't eliminate this warning, it may be due to extreme parameter values and/or bugs in your model spefication.\n",
      "Warning: Renormalizing probability density from 1.011146959360208 to 1.  Try decreasing dt.  If that doesn't eliminate this warning, it may be due to extreme parameter values and/or bugs in your model spefication.\n",
      "Info: Params [0.08854658 0.77253494 4.58132716 0.37768637 0.96283368] gave 773.9964689750137\n",
      "Warning: dt is large.  Estimated pdfs may be imprecise.  Decrease dt to 0.01 or less.\n",
      "Warning: Renormalizing probability density from 1.0472547455694143 to 1.  Try decreasing dt.  If that doesn't eliminate this warning, it may be due to extreme parameter values and/or bugs in your model spefication.\n",
      "Warning: Renormalizing probability density from 1.0196199496675873 to 1.  Try decreasing dt.  If that doesn't eliminate this warning, it may be due to extreme parameter values and/or bugs in your model spefication.\n",
      "Warning: Renormalizing probability density from 1.012942792098371 to 1.  Try decreasing dt.  If that doesn't eliminate this warning, it may be due to extreme parameter values and/or bugs in your model spefication.\n",
      "Warning: Renormalizing probability density from 1.0125708705772252 to 1.  Try decreasing dt.  If that doesn't eliminate this warning, it may be due to extreme parameter values and/or bugs in your model spefication.\n",
      "Warning: Renormalizing probability density from 1.0112019984981255 to 1.  Try decreasing dt.  If that doesn't eliminate this warning, it may be due to extreme parameter values and/or bugs in your model spefication.\n",
      "Warning: Renormalizing probability density from 1.0397543137955862 to 1.  Try decreasing dt.  If that doesn't eliminate this warning, it may be due to extreme parameter values and/or bugs in your model spefication.\n",
      "Warning: Renormalizing probability density from 1.0194156567354786 to 1.  Try decreasing dt.  If that doesn't eliminate this warning, it may be due to extreme parameter values and/or bugs in your model spefication.\n",
      "Warning: Renormalizing probability density from 1.011252267098044 to 1.  Try decreasing dt.  If that doesn't eliminate this warning, it may be due to extreme parameter values and/or bugs in your model spefication.\n",
      "Warning: Renormalizing probability density from 1.0362277212585178 to 1.  Try decreasing dt.  If that doesn't eliminate this warning, it may be due to extreme parameter values and/or bugs in your model spefication.\n",
      "Warning: Renormalizing probability density from 1.0106847772514744 to 1.  Try decreasing dt.  If that doesn't eliminate this warning, it may be due to extreme parameter values and/or bugs in your model spefication.\n"
     ]
    },
    {
     "name": "stdout",
     "output_type": "stream",
     "text": [
      "12\n"
     ]
    },
    {
     "name": "stderr",
     "output_type": "stream",
     "text": [
      "Warning: Renormalizing probability density from 1.0105873776391634 to 1.  Try decreasing dt.  If that doesn't eliminate this warning, it may be due to extreme parameter values and/or bugs in your model spefication.\n",
      "Warning: Renormalizing probability density from 1.0107463077877576 to 1.  Try decreasing dt.  If that doesn't eliminate this warning, it may be due to extreme parameter values and/or bugs in your model spefication.\n",
      "Info: Params [0.27645111 1.04731312 1.79324547 0.76963465 0.95656109] gave 670.7321187241657\n",
      "Warning: dt is large.  Estimated pdfs may be imprecise.  Decrease dt to 0.01 or less.\n",
      "Warning: Renormalizing probability density from 1.0547863596374945 to 1.  Try decreasing dt.  If that doesn't eliminate this warning, it may be due to extreme parameter values and/or bugs in your model spefication.\n",
      "Warning: Renormalizing probability density from 1.0419978325022923 to 1.  Try decreasing dt.  If that doesn't eliminate this warning, it may be due to extreme parameter values and/or bugs in your model spefication.\n",
      "Warning: Renormalizing probability density from 1.0332394947213328 to 1.  Try decreasing dt.  If that doesn't eliminate this warning, it may be due to extreme parameter values and/or bugs in your model spefication.\n",
      "Warning: Renormalizing probability density from 1.0338330835417207 to 1.  Try decreasing dt.  If that doesn't eliminate this warning, it may be due to extreme parameter values and/or bugs in your model spefication.\n",
      "Warning: Renormalizing probability density from 1.0150963093489438 to 1.  Try decreasing dt.  If that doesn't eliminate this warning, it may be due to extreme parameter values and/or bugs in your model spefication.\n",
      "Warning: Renormalizing probability density from 1.0106040603480604 to 1.  Try decreasing dt.  If that doesn't eliminate this warning, it may be due to extreme parameter values and/or bugs in your model spefication.\n",
      "Warning: Renormalizing probability density from 1.0126021077146965 to 1.  Try decreasing dt.  If that doesn't eliminate this warning, it may be due to extreme parameter values and/or bugs in your model spefication.\n",
      "Warning: Renormalizing probability density from 1.0493454436491916 to 1.  Try decreasing dt.  If that doesn't eliminate this warning, it may be due to extreme parameter values and/or bugs in your model spefication.\n",
      "Warning: Renormalizing probability density from 1.0100518993725016 to 1.  Try decreasing dt.  If that doesn't eliminate this warning, it may be due to extreme parameter values and/or bugs in your model spefication.\n",
      "Warning: Renormalizing probability density from 1.0181663719421512 to 1.  Try decreasing dt.  If that doesn't eliminate this warning, it may be due to extreme parameter values and/or bugs in your model spefication.\n"
     ]
    },
    {
     "name": "stdout",
     "output_type": "stream",
     "text": [
      "13\n"
     ]
    },
    {
     "name": "stderr",
     "output_type": "stream",
     "text": [
      "Warning: Renormalizing probability density from 1.011146959360208 to 1.  Try decreasing dt.  If that doesn't eliminate this warning, it may be due to extreme parameter values and/or bugs in your model spefication.\n",
      "Warning: Renormalizing probability density from 1.011146959360208 to 1.  Try decreasing dt.  If that doesn't eliminate this warning, it may be due to extreme parameter values and/or bugs in your model spefication.\n",
      "Warning: Renormalizing probability density from 1.01114695896176 to 1.  Try decreasing dt.  If that doesn't eliminate this warning, it may be due to extreme parameter values and/or bugs in your model spefication.\n",
      "Warning: Renormalizing probability density from 1.011146959360208 to 1.  Try decreasing dt.  If that doesn't eliminate this warning, it may be due to extreme parameter values and/or bugs in your model spefication.\n",
      "Warning: Renormalizing probability density from 1.011146959360208 to 1.  Try decreasing dt.  If that doesn't eliminate this warning, it may be due to extreme parameter values and/or bugs in your model spefication.\n",
      "Warning: Renormalizing probability density from 1.011146959360208 to 1.  Try decreasing dt.  If that doesn't eliminate this warning, it may be due to extreme parameter values and/or bugs in your model spefication.\n",
      "Info: Params [0.21074878 1.55042455 3.47409374 0.88056582 0.73148063] gave 951.353961954578\n",
      "Warning: dt is large.  Estimated pdfs may be imprecise.  Decrease dt to 0.01 or less.\n",
      "Warning: Renormalizing probability density from 1.0306419871361283 to 1.  Try decreasing dt.  If that doesn't eliminate this warning, it may be due to extreme parameter values and/or bugs in your model spefication.\n",
      "Warning: Renormalizing probability density from 1.024246709718836 to 1.  Try decreasing dt.  If that doesn't eliminate this warning, it may be due to extreme parameter values and/or bugs in your model spefication.\n",
      "Warning: Renormalizing probability density from 1.0234415351276829 to 1.  Try decreasing dt.  If that doesn't eliminate this warning, it may be due to extreme parameter values and/or bugs in your model spefication.\n",
      "Warning: Renormalizing probability density from 1.0316433355971018 to 1.  Try decreasing dt.  If that doesn't eliminate this warning, it may be due to extreme parameter values and/or bugs in your model spefication.\n",
      "Warning: Renormalizing probability density from 1.0100314537038875 to 1.  Try decreasing dt.  If that doesn't eliminate this warning, it may be due to extreme parameter values and/or bugs in your model spefication.\n",
      "Warning: Renormalizing probability density from 1.0303350744444288 to 1.  Try decreasing dt.  If that doesn't eliminate this warning, it may be due to extreme parameter values and/or bugs in your model spefication.\n",
      "Warning: Renormalizing probability density from 1.0100314537038875 to 1.  Try decreasing dt.  If that doesn't eliminate this warning, it may be due to extreme parameter values and/or bugs in your model spefication.\n",
      "Warning: Renormalizing probability density from 1.0132211452312396 to 1.  Try decreasing dt.  If that doesn't eliminate this warning, it may be due to extreme parameter values and/or bugs in your model spefication.\n",
      "Warning: Renormalizing probability density from 1.011250979613629 to 1.  Try decreasing dt.  If that doesn't eliminate this warning, it may be due to extreme parameter values and/or bugs in your model spefication.\n",
      "Warning: Renormalizing probability density from 1.0101208699545439 to 1.  Try decreasing dt.  If that doesn't eliminate this warning, it may be due to extreme parameter values and/or bugs in your model spefication.\n",
      "Warning: Renormalizing probability density from 1.0115241779852404 to 1.  Try decreasing dt.  If that doesn't eliminate this warning, it may be due to extreme parameter values and/or bugs in your model spefication.\n",
      "Warning: Renormalizing probability density from 1.0104585463005653 to 1.  Try decreasing dt.  If that doesn't eliminate this warning, it may be due to extreme parameter values and/or bugs in your model spefication.\n",
      "Warning: Renormalizing probability density from 1.0407930671312868 to 1.  Try decreasing dt.  If that doesn't eliminate this warning, it may be due to extreme parameter values and/or bugs in your model spefication.\n",
      "Warning: Renormalizing probability density from 1.0100446623626373 to 1.  Try decreasing dt.  If that doesn't eliminate this warning, it may be due to extreme parameter values and/or bugs in your model spefication.\n"
     ]
    },
    {
     "name": "stdout",
     "output_type": "stream",
     "text": [
      "14\n"
     ]
    },
    {
     "name": "stderr",
     "output_type": "stream",
     "text": [
      "Warning: Renormalizing probability density from 1.0103388602914574 to 1.  Try decreasing dt.  If that doesn't eliminate this warning, it may be due to extreme parameter values and/or bugs in your model spefication.\n",
      "Warning: Renormalizing probability density from 1.0103104153262128 to 1.  Try decreasing dt.  If that doesn't eliminate this warning, it may be due to extreme parameter values and/or bugs in your model spefication.\n",
      "Warning: Renormalizing probability density from 1.0103388602914574 to 1.  Try decreasing dt.  If that doesn't eliminate this warning, it may be due to extreme parameter values and/or bugs in your model spefication.\n",
      "Warning: Renormalizing probability density from 1.010125479853373 to 1.  Try decreasing dt.  If that doesn't eliminate this warning, it may be due to extreme parameter values and/or bugs in your model spefication.\n",
      "Info: Params [0.17158925 1.2229778  2.81890369 0.11795265 0.97391988] gave 895.3845041916779\n",
      "Warning: dt is large.  Estimated pdfs may be imprecise.  Decrease dt to 0.01 or less.\n",
      "Warning: Renormalizing probability density from 1.0105808382108337 to 1.  Try decreasing dt.  If that doesn't eliminate this warning, it may be due to extreme parameter values and/or bugs in your model spefication.\n",
      "Warning: Renormalizing probability density from 1.0548889374445753 to 1.  Try decreasing dt.  If that doesn't eliminate this warning, it may be due to extreme parameter values and/or bugs in your model spefication.\n",
      "Warning: Renormalizing probability density from 1.018433690963135 to 1.  Try decreasing dt.  If that doesn't eliminate this warning, it may be due to extreme parameter values and/or bugs in your model spefication.\n",
      "Warning: Renormalizing probability density from 1.0110483485887285 to 1.  Try decreasing dt.  If that doesn't eliminate this warning, it may be due to extreme parameter values and/or bugs in your model spefication.\n",
      "Warning: Renormalizing probability density from 1.013415793315546 to 1.  Try decreasing dt.  If that doesn't eliminate this warning, it may be due to extreme parameter values and/or bugs in your model spefication.\n",
      "Warning: Renormalizing probability density from 1.0418168749309136 to 1.  Try decreasing dt.  If that doesn't eliminate this warning, it may be due to extreme parameter values and/or bugs in your model spefication.\n",
      "Warning: Renormalizing probability density from 1.0216954709310901 to 1.  Try decreasing dt.  If that doesn't eliminate this warning, it may be due to extreme parameter values and/or bugs in your model spefication.\n",
      "Warning: Renormalizing probability density from 1.011325386510015 to 1.  Try decreasing dt.  If that doesn't eliminate this warning, it may be due to extreme parameter values and/or bugs in your model spefication.\n",
      "Warning: Renormalizing probability density from 1.0507124798134997 to 1.  Try decreasing dt.  If that doesn't eliminate this warning, it may be due to extreme parameter values and/or bugs in your model spefication.\n",
      "Warning: Renormalizing probability density from 1.0101971413852873 to 1.  Try decreasing dt.  If that doesn't eliminate this warning, it may be due to extreme parameter values and/or bugs in your model spefication.\n",
      "Warning: Renormalizing probability density from 1.0212724574759577 to 1.  Try decreasing dt.  If that doesn't eliminate this warning, it may be due to extreme parameter values and/or bugs in your model spefication.\n",
      "Warning: Renormalizing probability density from 1.0346238597879118 to 1.  Try decreasing dt.  If that doesn't eliminate this warning, it may be due to extreme parameter values and/or bugs in your model spefication.\n",
      "Warning: Renormalizing probability density from 1.0129859649550659 to 1.  Try decreasing dt.  If that doesn't eliminate this warning, it may be due to extreme parameter values and/or bugs in your model spefication.\n",
      "Warning: Renormalizing probability density from 1.0137361266118263 to 1.  Try decreasing dt.  If that doesn't eliminate this warning, it may be due to extreme parameter values and/or bugs in your model spefication.\n",
      "Warning: Renormalizing probability density from 1.0124431792811224 to 1.  Try decreasing dt.  If that doesn't eliminate this warning, it may be due to extreme parameter values and/or bugs in your model spefication.\n",
      "Warning: Renormalizing probability density from 1.0242866787500824 to 1.  Try decreasing dt.  If that doesn't eliminate this warning, it may be due to extreme parameter values and/or bugs in your model spefication.\n",
      "Warning: Renormalizing probability density from 1.0147067131416878 to 1.  Try decreasing dt.  If that doesn't eliminate this warning, it may be due to extreme parameter values and/or bugs in your model spefication.\n"
     ]
    },
    {
     "name": "stdout",
     "output_type": "stream",
     "text": [
      "15\n"
     ]
    },
    {
     "name": "stderr",
     "output_type": "stream",
     "text": [
      "Warning: Renormalizing probability density from 1.0134101178640704 to 1.  Try decreasing dt.  If that doesn't eliminate this warning, it may be due to extreme parameter values and/or bugs in your model spefication.\n",
      "Warning: Renormalizing probability density from 1.010837702834964 to 1.  Try decreasing dt.  If that doesn't eliminate this warning, it may be due to extreme parameter values and/or bugs in your model spefication.\n",
      "Warning: Renormalizing probability density from 1.0103694846566882 to 1.  Try decreasing dt.  If that doesn't eliminate this warning, it may be due to extreme parameter values and/or bugs in your model spefication.\n",
      "Info: Params [0.10432481 1.02543312 4.09369493 0.72346597 0.98468653] gave 901.9336781585594\n",
      "Warning: dt is large.  Estimated pdfs may be imprecise.  Decrease dt to 0.01 or less.\n",
      "Warning: Renormalizing probability density from 1.0360225631176823 to 1.  Try decreasing dt.  If that doesn't eliminate this warning, it may be due to extreme parameter values and/or bugs in your model spefication.\n",
      "Warning: Renormalizing probability density from 1.0278534191201782 to 1.  Try decreasing dt.  If that doesn't eliminate this warning, it may be due to extreme parameter values and/or bugs in your model spefication.\n",
      "Warning: Renormalizing probability density from 1.0460844880311952 to 1.  Try decreasing dt.  If that doesn't eliminate this warning, it may be due to extreme parameter values and/or bugs in your model spefication.\n",
      "Warning: Renormalizing probability density from 1.0115780823588247 to 1.  Try decreasing dt.  If that doesn't eliminate this warning, it may be due to extreme parameter values and/or bugs in your model spefication.\n",
      "Warning: Renormalizing probability density from 1.0201597244478968 to 1.  Try decreasing dt.  If that doesn't eliminate this warning, it may be due to extreme parameter values and/or bugs in your model spefication.\n",
      "Warning: Renormalizing probability density from 1.0139613389339333 to 1.  Try decreasing dt.  If that doesn't eliminate this warning, it may be due to extreme parameter values and/or bugs in your model spefication.\n",
      "Warning: Renormalizing probability density from 1.022203405780443 to 1.  Try decreasing dt.  If that doesn't eliminate this warning, it may be due to extreme parameter values and/or bugs in your model spefication.\n",
      "Warning: Renormalizing probability density from 1.0173921174966123 to 1.  Try decreasing dt.  If that doesn't eliminate this warning, it may be due to extreme parameter values and/or bugs in your model spefication.\n",
      "Warning: Renormalizing probability density from 1.0116733585898356 to 1.  Try decreasing dt.  If that doesn't eliminate this warning, it may be due to extreme parameter values and/or bugs in your model spefication.\n",
      "Warning: Renormalizing probability density from 1.0119922878475354 to 1.  Try decreasing dt.  If that doesn't eliminate this warning, it may be due to extreme parameter values and/or bugs in your model spefication.\n",
      "Warning: Renormalizing probability density from 1.0231489242372407 to 1.  Try decreasing dt.  If that doesn't eliminate this warning, it may be due to extreme parameter values and/or bugs in your model spefication.\n",
      "Warning: Renormalizing probability density from 1.0109139166249188 to 1.  Try decreasing dt.  If that doesn't eliminate this warning, it may be due to extreme parameter values and/or bugs in your model spefication.\n",
      "Warning: Renormalizing probability density from 1.0328655823406026 to 1.  Try decreasing dt.  If that doesn't eliminate this warning, it may be due to extreme parameter values and/or bugs in your model spefication.\n",
      "Warning: Renormalizing probability density from 1.0110731570506908 to 1.  Try decreasing dt.  If that doesn't eliminate this warning, it may be due to extreme parameter values and/or bugs in your model spefication.\n",
      "Warning: Renormalizing probability density from 1.023727331242068 to 1.  Try decreasing dt.  If that doesn't eliminate this warning, it may be due to extreme parameter values and/or bugs in your model spefication.\n",
      "Warning: Renormalizing probability density from 1.0515684061961423 to 1.  Try decreasing dt.  If that doesn't eliminate this warning, it may be due to extreme parameter values and/or bugs in your model spefication.\n"
     ]
    },
    {
     "name": "stdout",
     "output_type": "stream",
     "text": [
      "16\n"
     ]
    },
    {
     "name": "stderr",
     "output_type": "stream",
     "text": [
      "Warning: Renormalizing probability density from 1.0106335739881238 to 1.  Try decreasing dt.  If that doesn't eliminate this warning, it may be due to extreme parameter values and/or bugs in your model spefication.\n",
      "Warning: Renormalizing probability density from 1.0479076863397843 to 1.  Try decreasing dt.  If that doesn't eliminate this warning, it may be due to extreme parameter values and/or bugs in your model spefication.\n",
      "Warning: Renormalizing probability density from 1.0479076862659233 to 1.  Try decreasing dt.  If that doesn't eliminate this warning, it may be due to extreme parameter values and/or bugs in your model spefication.\n",
      "Warning: Renormalizing probability density from 1.0479076908844007 to 1.  Try decreasing dt.  If that doesn't eliminate this warning, it may be due to extreme parameter values and/or bugs in your model spefication.\n",
      "Warning: Renormalizing probability density from 1.0479076863397843 to 1.  Try decreasing dt.  If that doesn't eliminate this warning, it may be due to extreme parameter values and/or bugs in your model spefication.\n",
      "Warning: Renormalizing probability density from 1.0479076863397843 to 1.  Try decreasing dt.  If that doesn't eliminate this warning, it may be due to extreme parameter values and/or bugs in your model spefication.\n",
      "Warning: Renormalizing probability density from 1.0479076863397843 to 1.  Try decreasing dt.  If that doesn't eliminate this warning, it may be due to extreme parameter values and/or bugs in your model spefication.\n",
      "Info: Params [0.23135917 1.41288913 1.61475627 0.19949791 0.96774522] gave 744.929378912849\n",
      "Warning: dt is large.  Estimated pdfs may be imprecise.  Decrease dt to 0.01 or less.\n",
      "Warning: Renormalizing probability density from 1.0228488453842477 to 1.  Try decreasing dt.  If that doesn't eliminate this warning, it may be due to extreme parameter values and/or bugs in your model spefication.\n",
      "Warning: Renormalizing probability density from 1.015186122213144 to 1.  Try decreasing dt.  If that doesn't eliminate this warning, it may be due to extreme parameter values and/or bugs in your model spefication.\n",
      "Warning: Renormalizing probability density from 1.013298847287539 to 1.  Try decreasing dt.  If that doesn't eliminate this warning, it may be due to extreme parameter values and/or bugs in your model spefication.\n",
      "Warning: Renormalizing probability density from 1.0109251818506064 to 1.  Try decreasing dt.  If that doesn't eliminate this warning, it may be due to extreme parameter values and/or bugs in your model spefication.\n",
      "Warning: Renormalizing probability density from 1.010018425521352 to 1.  Try decreasing dt.  If that doesn't eliminate this warning, it may be due to extreme parameter values and/or bugs in your model spefication.\n",
      "Warning: Renormalizing probability density from 1.010448067361974 to 1.  Try decreasing dt.  If that doesn't eliminate this warning, it may be due to extreme parameter values and/or bugs in your model spefication.\n",
      "Warning: Renormalizing probability density from 1.0229994662387982 to 1.  Try decreasing dt.  If that doesn't eliminate this warning, it may be due to extreme parameter values and/or bugs in your model spefication.\n",
      "Warning: Renormalizing probability density from 1.0113413867026737 to 1.  Try decreasing dt.  If that doesn't eliminate this warning, it may be due to extreme parameter values and/or bugs in your model spefication.\n",
      "Warning: Renormalizing probability density from 1.0148027421005843 to 1.  Try decreasing dt.  If that doesn't eliminate this warning, it may be due to extreme parameter values and/or bugs in your model spefication.\n",
      "Warning: Renormalizing probability density from 1.0195575729533577 to 1.  Try decreasing dt.  If that doesn't eliminate this warning, it may be due to extreme parameter values and/or bugs in your model spefication.\n"
     ]
    },
    {
     "name": "stdout",
     "output_type": "stream",
     "text": [
      "17\n"
     ]
    },
    {
     "name": "stderr",
     "output_type": "stream",
     "text": [
      "Warning: Renormalizing probability density from 1.0186413003038197 to 1.  Try decreasing dt.  If that doesn't eliminate this warning, it may be due to extreme parameter values and/or bugs in your model spefication.\n",
      "Warning: Renormalizing probability density from 1.0108297143190954 to 1.  Try decreasing dt.  If that doesn't eliminate this warning, it may be due to extreme parameter values and/or bugs in your model spefication.\n",
      "Warning: Renormalizing probability density from 1.017842469973431 to 1.  Try decreasing dt.  If that doesn't eliminate this warning, it may be due to extreme parameter values and/or bugs in your model spefication.\n",
      "Warning: Renormalizing probability density from 1.0116681957956515 to 1.  Try decreasing dt.  If that doesn't eliminate this warning, it may be due to extreme parameter values and/or bugs in your model spefication.\n",
      "Warning: Renormalizing probability density from 1.01150293676676 to 1.  Try decreasing dt.  If that doesn't eliminate this warning, it may be due to extreme parameter values and/or bugs in your model spefication.\n",
      "Warning: Renormalizing probability density from 1.0149652522597696 to 1.  Try decreasing dt.  If that doesn't eliminate this warning, it may be due to extreme parameter values and/or bugs in your model spefication.\n",
      "Warning: Renormalizing probability density from 1.010637420311082 to 1.  Try decreasing dt.  If that doesn't eliminate this warning, it may be due to extreme parameter values and/or bugs in your model spefication.\n",
      "Warning: Renormalizing probability density from 1.0119413519418983 to 1.  Try decreasing dt.  If that doesn't eliminate this warning, it may be due to extreme parameter values and/or bugs in your model spefication.\n",
      "Warning: Renormalizing probability density from 1.046619438708983 to 1.  Try decreasing dt.  If that doesn't eliminate this warning, it may be due to extreme parameter values and/or bugs in your model spefication.\n",
      "Warning: Renormalizing probability density from 1.040230258834275 to 1.  Try decreasing dt.  If that doesn't eliminate this warning, it may be due to extreme parameter values and/or bugs in your model spefication.\n",
      "Warning: Renormalizing probability density from 1.0110066256778816 to 1.  Try decreasing dt.  If that doesn't eliminate this warning, it may be due to extreme parameter values and/or bugs in your model spefication.\n",
      "Warning: Renormalizing probability density from 1.0102668263460248 to 1.  Try decreasing dt.  If that doesn't eliminate this warning, it may be due to extreme parameter values and/or bugs in your model spefication.\n",
      "Warning: Renormalizing probability density from 1.010136695734184 to 1.  Try decreasing dt.  If that doesn't eliminate this warning, it may be due to extreme parameter values and/or bugs in your model spefication.\n",
      "Warning: Renormalizing probability density from 1.0111318841566983 to 1.  Try decreasing dt.  If that doesn't eliminate this warning, it may be due to extreme parameter values and/or bugs in your model spefication.\n",
      "Warning: Renormalizing probability density from 1.0101173931480134 to 1.  Try decreasing dt.  If that doesn't eliminate this warning, it may be due to extreme parameter values and/or bugs in your model spefication.\n",
      "Warning: Renormalizing probability density from 1.018487653366114 to 1.  Try decreasing dt.  If that doesn't eliminate this warning, it may be due to extreme parameter values and/or bugs in your model spefication.\n",
      "Warning: Renormalizing probability density from 1.0203452374228303 to 1.  Try decreasing dt.  If that doesn't eliminate this warning, it may be due to extreme parameter values and/or bugs in your model spefication.\n",
      "Warning: Renormalizing probability density from 1.0241213303041763 to 1.  Try decreasing dt.  If that doesn't eliminate this warning, it may be due to extreme parameter values and/or bugs in your model spefication.\n",
      "Warning: Renormalizing probability density from 1.0230947568774245 to 1.  Try decreasing dt.  If that doesn't eliminate this warning, it may be due to extreme parameter values and/or bugs in your model spefication.\n",
      "Info: Params [0.16587942 0.93744873 1.92665165 0.23406369 0.10367507] gave 693.7533816379928\n",
      "Warning: dt is large.  Estimated pdfs may be imprecise.  Decrease dt to 0.01 or less.\n",
      "Warning: Renormalizing probability density from 1.037234095405491 to 1.  Try decreasing dt.  If that doesn't eliminate this warning, it may be due to extreme parameter values and/or bugs in your model spefication.\n",
      "Warning: Renormalizing probability density from 1.0131527505781746 to 1.  Try decreasing dt.  If that doesn't eliminate this warning, it may be due to extreme parameter values and/or bugs in your model spefication.\n",
      "Warning: Renormalizing probability density from 1.010360390724176 to 1.  Try decreasing dt.  If that doesn't eliminate this warning, it may be due to extreme parameter values and/or bugs in your model spefication.\n",
      "Warning: Renormalizing probability density from 1.0168018161045518 to 1.  Try decreasing dt.  If that doesn't eliminate this warning, it may be due to extreme parameter values and/or bugs in your model spefication.\n",
      "Warning: Renormalizing probability density from 1.0242659857839536 to 1.  Try decreasing dt.  If that doesn't eliminate this warning, it may be due to extreme parameter values and/or bugs in your model spefication.\n",
      "Warning: Renormalizing probability density from 1.0113108903624135 to 1.  Try decreasing dt.  If that doesn't eliminate this warning, it may be due to extreme parameter values and/or bugs in your model spefication.\n",
      "Warning: Renormalizing probability density from 1.011010476070955 to 1.  Try decreasing dt.  If that doesn't eliminate this warning, it may be due to extreme parameter values and/or bugs in your model spefication.\n",
      "Warning: Renormalizing probability density from 1.0116690647003037 to 1.  Try decreasing dt.  If that doesn't eliminate this warning, it may be due to extreme parameter values and/or bugs in your model spefication.\n"
     ]
    },
    {
     "name": "stdout",
     "output_type": "stream",
     "text": [
      "18\n"
     ]
    },
    {
     "name": "stderr",
     "output_type": "stream",
     "text": [
      "Info: Params [0.15867687 1.44765224 1.86172508 0.92729326 0.95529094] gave 826.3365936120141\n",
      "Warning: dt is large.  Estimated pdfs may be imprecise.  Decrease dt to 0.01 or less.\n",
      "Warning: Renormalizing probability density from 1.0181564304086066 to 1.  Try decreasing dt.  If that doesn't eliminate this warning, it may be due to extreme parameter values and/or bugs in your model spefication.\n",
      "Warning: Renormalizing probability density from 1.014005348043757 to 1.  Try decreasing dt.  If that doesn't eliminate this warning, it may be due to extreme parameter values and/or bugs in your model spefication.\n",
      "Warning: Renormalizing probability density from 1.015991999591992 to 1.  Try decreasing dt.  If that doesn't eliminate this warning, it may be due to extreme parameter values and/or bugs in your model spefication.\n",
      "Warning: Renormalizing probability density from 1.0172898142787556 to 1.  Try decreasing dt.  If that doesn't eliminate this warning, it may be due to extreme parameter values and/or bugs in your model spefication.\n",
      "Warning: Renormalizing probability density from 1.0327031537979534 to 1.  Try decreasing dt.  If that doesn't eliminate this warning, it may be due to extreme parameter values and/or bugs in your model spefication.\n",
      "Warning: Renormalizing probability density from 1.0113360441457862 to 1.  Try decreasing dt.  If that doesn't eliminate this warning, it may be due to extreme parameter values and/or bugs in your model spefication.\n",
      "Warning: Renormalizing probability density from 1.013178569269256 to 1.  Try decreasing dt.  If that doesn't eliminate this warning, it may be due to extreme parameter values and/or bugs in your model spefication.\n",
      "Warning: Renormalizing probability density from 1.0101566508304451 to 1.  Try decreasing dt.  If that doesn't eliminate this warning, it may be due to extreme parameter values and/or bugs in your model spefication.\n",
      "Warning: Renormalizing probability density from 1.012257602518809 to 1.  Try decreasing dt.  If that doesn't eliminate this warning, it may be due to extreme parameter values and/or bugs in your model spefication.\n",
      "Warning: Renormalizing probability density from 1.0105197043844925 to 1.  Try decreasing dt.  If that doesn't eliminate this warning, it may be due to extreme parameter values and/or bugs in your model spefication.\n",
      "Warning: Renormalizing probability density from 1.0225750779204927 to 1.  Try decreasing dt.  If that doesn't eliminate this warning, it may be due to extreme parameter values and/or bugs in your model spefication.\n",
      "Warning: Renormalizing probability density from 1.0144713363714906 to 1.  Try decreasing dt.  If that doesn't eliminate this warning, it may be due to extreme parameter values and/or bugs in your model spefication.\n",
      "Warning: Renormalizing probability density from 1.010143054136277 to 1.  Try decreasing dt.  If that doesn't eliminate this warning, it may be due to extreme parameter values and/or bugs in your model spefication.\n",
      "Warning: Renormalizing probability density from 1.0101438376334246 to 1.  Try decreasing dt.  If that doesn't eliminate this warning, it may be due to extreme parameter values and/or bugs in your model spefication.\n"
     ]
    },
    {
     "name": "stdout",
     "output_type": "stream",
     "text": [
      "19\n"
     ]
    },
    {
     "name": "stderr",
     "output_type": "stream",
     "text": [
      "Warning: Renormalizing probability density from 1.011146959360208 to 1.  Try decreasing dt.  If that doesn't eliminate this warning, it may be due to extreme parameter values and/or bugs in your model spefication.\n",
      "Warning: Renormalizing probability density from 1.011146959360208 to 1.  Try decreasing dt.  If that doesn't eliminate this warning, it may be due to extreme parameter values and/or bugs in your model spefication.\n",
      "Warning: Renormalizing probability density from 1.01114695896176 to 1.  Try decreasing dt.  If that doesn't eliminate this warning, it may be due to extreme parameter values and/or bugs in your model spefication.\n",
      "Warning: Renormalizing probability density from 1.011146959360208 to 1.  Try decreasing dt.  If that doesn't eliminate this warning, it may be due to extreme parameter values and/or bugs in your model spefication.\n",
      "Warning: Renormalizing probability density from 1.011146959360208 to 1.  Try decreasing dt.  If that doesn't eliminate this warning, it may be due to extreme parameter values and/or bugs in your model spefication.\n",
      "Warning: Renormalizing probability density from 1.011146959360208 to 1.  Try decreasing dt.  If that doesn't eliminate this warning, it may be due to extreme parameter values and/or bugs in your model spefication.\n",
      "Info: Params [0.25639212 1.22447517 4.97843199 0.68407147 0.97512524] gave 928.0913009449231\n",
      "Warning: dt is large.  Estimated pdfs may be imprecise.  Decrease dt to 0.01 or less.\n",
      "Warning: Renormalizing probability density from 1.0146459504843974 to 1.  Try decreasing dt.  If that doesn't eliminate this warning, it may be due to extreme parameter values and/or bugs in your model spefication.\n",
      "Warning: Renormalizing probability density from 1.0144466795430231 to 1.  Try decreasing dt.  If that doesn't eliminate this warning, it may be due to extreme parameter values and/or bugs in your model spefication.\n",
      "Warning: Renormalizing probability density from 1.0544619227739658 to 1.  Try decreasing dt.  If that doesn't eliminate this warning, it may be due to extreme parameter values and/or bugs in your model spefication.\n",
      "Warning: Renormalizing probability density from 1.0402967147428261 to 1.  Try decreasing dt.  If that doesn't eliminate this warning, it may be due to extreme parameter values and/or bugs in your model spefication.\n",
      "Warning: Renormalizing probability density from 1.0124474701973323 to 1.  Try decreasing dt.  If that doesn't eliminate this warning, it may be due to extreme parameter values and/or bugs in your model spefication.\n",
      "Warning: Renormalizing probability density from 1.0113024754594677 to 1.  Try decreasing dt.  If that doesn't eliminate this warning, it may be due to extreme parameter values and/or bugs in your model spefication.\n",
      "Warning: Renormalizing probability density from 1.012513679285969 to 1.  Try decreasing dt.  If that doesn't eliminate this warning, it may be due to extreme parameter values and/or bugs in your model spefication.\n",
      "Warning: Renormalizing probability density from 1.0123126096672852 to 1.  Try decreasing dt.  If that doesn't eliminate this warning, it may be due to extreme parameter values and/or bugs in your model spefication.\n",
      "Warning: Renormalizing probability density from 1.0126642979496037 to 1.  Try decreasing dt.  If that doesn't eliminate this warning, it may be due to extreme parameter values and/or bugs in your model spefication.\n",
      "Warning: Renormalizing probability density from 1.0109654505637713 to 1.  Try decreasing dt.  If that doesn't eliminate this warning, it may be due to extreme parameter values and/or bugs in your model spefication.\n",
      "Warning: Renormalizing probability density from 1.02766701770898 to 1.  Try decreasing dt.  If that doesn't eliminate this warning, it may be due to extreme parameter values and/or bugs in your model spefication.\n",
      "Warning: Renormalizing probability density from 1.0305028874011184 to 1.  Try decreasing dt.  If that doesn't eliminate this warning, it may be due to extreme parameter values and/or bugs in your model spefication.\n",
      "Warning: Renormalizing probability density from 1.0122898829990392 to 1.  Try decreasing dt.  If that doesn't eliminate this warning, it may be due to extreme parameter values and/or bugs in your model spefication.\n",
      "Warning: Renormalizing probability density from 1.010402576460239 to 1.  Try decreasing dt.  If that doesn't eliminate this warning, it may be due to extreme parameter values and/or bugs in your model spefication.\n",
      "Warning: Renormalizing probability density from 1.012012823648604 to 1.  Try decreasing dt.  If that doesn't eliminate this warning, it may be due to extreme parameter values and/or bugs in your model spefication.\n",
      "Warning: Renormalizing probability density from 1.011206328694187 to 1.  Try decreasing dt.  If that doesn't eliminate this warning, it may be due to extreme parameter values and/or bugs in your model spefication.\n",
      "Warning: Renormalizing probability density from 1.0108539528980818 to 1.  Try decreasing dt.  If that doesn't eliminate this warning, it may be due to extreme parameter values and/or bugs in your model spefication.\n",
      "Warning: Renormalizing probability density from 1.0507770170195787 to 1.  Try decreasing dt.  If that doesn't eliminate this warning, it may be due to extreme parameter values and/or bugs in your model spefication.\n"
     ]
    },
    {
     "name": "stdout",
     "output_type": "stream",
     "text": [
      "20\n"
     ]
    },
    {
     "name": "stderr",
     "output_type": "stream",
     "text": [
      "Warning: Renormalizing probability density from 1.0302144075762352 to 1.  Try decreasing dt.  If that doesn't eliminate this warning, it may be due to extreme parameter values and/or bugs in your model spefication.\n",
      "Warning: Renormalizing probability density from 1.0222473441257793 to 1.  Try decreasing dt.  If that doesn't eliminate this warning, it may be due to extreme parameter values and/or bugs in your model spefication.\n",
      "Warning: Renormalizing probability density from 1.010405992054905 to 1.  Try decreasing dt.  If that doesn't eliminate this warning, it may be due to extreme parameter values and/or bugs in your model spefication.\n",
      "Warning: Renormalizing probability density from 1.0147471793315948 to 1.  Try decreasing dt.  If that doesn't eliminate this warning, it may be due to extreme parameter values and/or bugs in your model spefication.\n",
      "Warning: Renormalizing probability density from 1.014747179373027 to 1.  Try decreasing dt.  If that doesn't eliminate this warning, it may be due to extreme parameter values and/or bugs in your model spefication.\n",
      "Warning: Renormalizing probability density from 1.0147471793315948 to 1.  Try decreasing dt.  If that doesn't eliminate this warning, it may be due to extreme parameter values and/or bugs in your model spefication.\n",
      "Warning: Renormalizing probability density from 1.014747179049719 to 1.  Try decreasing dt.  If that doesn't eliminate this warning, it may be due to extreme parameter values and/or bugs in your model spefication.\n",
      "Warning: Renormalizing probability density from 1.0147471793315948 to 1.  Try decreasing dt.  If that doesn't eliminate this warning, it may be due to extreme parameter values and/or bugs in your model spefication.\n",
      "Warning: Renormalizing probability density from 1.0147471793315948 to 1.  Try decreasing dt.  If that doesn't eliminate this warning, it may be due to extreme parameter values and/or bugs in your model spefication.\n",
      "Info: Params [0.20665415 1.5347512  1.2291626  0.29595858 0.93864608] gave 698.8469734923399\n",
      "Warning: dt is large.  Estimated pdfs may be imprecise.  Decrease dt to 0.01 or less.\n",
      "Warning: Renormalizing probability density from 1.0353909575989957 to 1.  Try decreasing dt.  If that doesn't eliminate this warning, it may be due to extreme parameter values and/or bugs in your model spefication.\n",
      "Warning: Renormalizing probability density from 1.012934086951107 to 1.  Try decreasing dt.  If that doesn't eliminate this warning, it may be due to extreme parameter values and/or bugs in your model spefication.\n",
      "Warning: Renormalizing probability density from 1.0334818714291465 to 1.  Try decreasing dt.  If that doesn't eliminate this warning, it may be due to extreme parameter values and/or bugs in your model spefication.\n",
      "Warning: Renormalizing probability density from 1.0159670912076608 to 1.  Try decreasing dt.  If that doesn't eliminate this warning, it may be due to extreme parameter values and/or bugs in your model spefication.\n",
      "Warning: Renormalizing probability density from 1.0159670912076608 to 1.  Try decreasing dt.  If that doesn't eliminate this warning, it may be due to extreme parameter values and/or bugs in your model spefication.\n",
      "Warning: Renormalizing probability density from 1.0151791672426942 to 1.  Try decreasing dt.  If that doesn't eliminate this warning, it may be due to extreme parameter values and/or bugs in your model spefication.\n",
      "Warning: Renormalizing probability density from 1.029461155165136 to 1.  Try decreasing dt.  If that doesn't eliminate this warning, it may be due to extreme parameter values and/or bugs in your model spefication.\n",
      "Warning: Renormalizing probability density from 1.01733263078861 to 1.  Try decreasing dt.  If that doesn't eliminate this warning, it may be due to extreme parameter values and/or bugs in your model spefication.\n",
      "Warning: Renormalizing probability density from 1.0105962462134326 to 1.  Try decreasing dt.  If that doesn't eliminate this warning, it may be due to extreme parameter values and/or bugs in your model spefication.\n",
      "Warning: Renormalizing probability density from 1.010034063767454 to 1.  Try decreasing dt.  If that doesn't eliminate this warning, it may be due to extreme parameter values and/or bugs in your model spefication.\n",
      "Warning: Renormalizing probability density from 1.0124173490323798 to 1.  Try decreasing dt.  If that doesn't eliminate this warning, it may be due to extreme parameter values and/or bugs in your model spefication.\n",
      "Warning: Renormalizing probability density from 1.0131744661405042 to 1.  Try decreasing dt.  If that doesn't eliminate this warning, it may be due to extreme parameter values and/or bugs in your model spefication.\n",
      "Warning: Renormalizing probability density from 1.0330128371699443 to 1.  Try decreasing dt.  If that doesn't eliminate this warning, it may be due to extreme parameter values and/or bugs in your model spefication.\n",
      "Warning: Renormalizing probability density from 1.0207879143818017 to 1.  Try decreasing dt.  If that doesn't eliminate this warning, it may be due to extreme parameter values and/or bugs in your model spefication.\n",
      "Warning: Renormalizing probability density from 1.012266477758575 to 1.  Try decreasing dt.  If that doesn't eliminate this warning, it may be due to extreme parameter values and/or bugs in your model spefication.\n",
      "Warning: Renormalizing probability density from 1.0148497295524173 to 1.  Try decreasing dt.  If that doesn't eliminate this warning, it may be due to extreme parameter values and/or bugs in your model spefication.\n",
      "Warning: Renormalizing probability density from 1.030365950916942 to 1.  Try decreasing dt.  If that doesn't eliminate this warning, it may be due to extreme parameter values and/or bugs in your model spefication.\n",
      "Warning: Renormalizing probability density from 1.0100453644414902 to 1.  Try decreasing dt.  If that doesn't eliminate this warning, it may be due to extreme parameter values and/or bugs in your model spefication.\n",
      "Warning: Renormalizing probability density from 1.0486027223981922 to 1.  Try decreasing dt.  If that doesn't eliminate this warning, it may be due to extreme parameter values and/or bugs in your model spefication.\n",
      "Warning: Renormalizing probability density from 1.0211927660773983 to 1.  Try decreasing dt.  If that doesn't eliminate this warning, it may be due to extreme parameter values and/or bugs in your model spefication.\n",
      "Warning: Renormalizing probability density from 1.0104431769977529 to 1.  Try decreasing dt.  If that doesn't eliminate this warning, it may be due to extreme parameter values and/or bugs in your model spefication.\n",
      "Warning: Renormalizing probability density from 1.0332532992051897 to 1.  Try decreasing dt.  If that doesn't eliminate this warning, it may be due to extreme parameter values and/or bugs in your model spefication.\n",
      "Warning: Renormalizing probability density from 1.01733263078861 to 1.  Try decreasing dt.  If that doesn't eliminate this warning, it may be due to extreme parameter values and/or bugs in your model spefication.\n",
      "Warning: Renormalizing probability density from 1.02876162995496 to 1.  Try decreasing dt.  If that doesn't eliminate this warning, it may be due to extreme parameter values and/or bugs in your model spefication.\n",
      "Warning: Renormalizing probability density from 1.0159845445454905 to 1.  Try decreasing dt.  If that doesn't eliminate this warning, it may be due to extreme parameter values and/or bugs in your model spefication.\n",
      "Warning: Renormalizing probability density from 1.0104301682245989 to 1.  Try decreasing dt.  If that doesn't eliminate this warning, it may be due to extreme parameter values and/or bugs in your model spefication.\n",
      "Warning: Renormalizing probability density from 1.0194212062456371 to 1.  Try decreasing dt.  If that doesn't eliminate this warning, it may be due to extreme parameter values and/or bugs in your model spefication.\n",
      "Warning: Renormalizing probability density from 1.0319328877556961 to 1.  Try decreasing dt.  If that doesn't eliminate this warning, it may be due to extreme parameter values and/or bugs in your model spefication.\n",
      "Warning: Renormalizing probability density from 1.0125430051543718 to 1.  Try decreasing dt.  If that doesn't eliminate this warning, it may be due to extreme parameter values and/or bugs in your model spefication.\n"
     ]
    },
    {
     "name": "stderr",
     "output_type": "stream",
     "text": [
      "Warning: Renormalizing probability density from 1.0121602961502716 to 1.  Try decreasing dt.  If that doesn't eliminate this warning, it may be due to extreme parameter values and/or bugs in your model spefication.\n",
      "Warning: Renormalizing probability density from 1.0114233837101811 to 1.  Try decreasing dt.  If that doesn't eliminate this warning, it may be due to extreme parameter values and/or bugs in your model spefication.\n",
      "Warning: Renormalizing probability density from 1.013498649689385 to 1.  Try decreasing dt.  If that doesn't eliminate this warning, it may be due to extreme parameter values and/or bugs in your model spefication.\n",
      "Warning: Renormalizing probability density from 1.016589189495747 to 1.  Try decreasing dt.  If that doesn't eliminate this warning, it may be due to extreme parameter values and/or bugs in your model spefication.\n",
      "Warning: Renormalizing probability density from 1.0113829216489105 to 1.  Try decreasing dt.  If that doesn't eliminate this warning, it may be due to extreme parameter values and/or bugs in your model spefication.\n",
      "Warning: Renormalizing probability density from 1.0230710509154763 to 1.  Try decreasing dt.  If that doesn't eliminate this warning, it may be due to extreme parameter values and/or bugs in your model spefication.\n",
      "Warning: Renormalizing probability density from 1.0197834332721447 to 1.  Try decreasing dt.  If that doesn't eliminate this warning, it may be due to extreme parameter values and/or bugs in your model spefication.\n",
      "Warning: Renormalizing probability density from 1.0101064965476318 to 1.  Try decreasing dt.  If that doesn't eliminate this warning, it may be due to extreme parameter values and/or bugs in your model spefication.\n"
     ]
    },
    {
     "name": "stdout",
     "output_type": "stream",
     "text": [
      "21\n"
     ]
    },
    {
     "name": "stderr",
     "output_type": "stream",
     "text": [
      "Warning: Renormalizing probability density from 1.010316478864806 to 1.  Try decreasing dt.  If that doesn't eliminate this warning, it may be due to extreme parameter values and/or bugs in your model spefication.\n",
      "Warning: Renormalizing probability density from 1.011991549521861 to 1.  Try decreasing dt.  If that doesn't eliminate this warning, it may be due to extreme parameter values and/or bugs in your model spefication.\n",
      "Warning: Renormalizing probability density from 1.0111321545726368 to 1.  Try decreasing dt.  If that doesn't eliminate this warning, it may be due to extreme parameter values and/or bugs in your model spefication.\n",
      "Warning: Renormalizing probability density from 1.0259137582271207 to 1.  Try decreasing dt.  If that doesn't eliminate this warning, it may be due to extreme parameter values and/or bugs in your model spefication.\n",
      "Warning: Renormalizing probability density from 1.0113769668811632 to 1.  Try decreasing dt.  If that doesn't eliminate this warning, it may be due to extreme parameter values and/or bugs in your model spefication.\n",
      "Warning: Renormalizing probability density from 1.0106586147824421 to 1.  Try decreasing dt.  If that doesn't eliminate this warning, it may be due to extreme parameter values and/or bugs in your model spefication.\n",
      "Warning: Renormalizing probability density from 1.0110867033388264 to 1.  Try decreasing dt.  If that doesn't eliminate this warning, it may be due to extreme parameter values and/or bugs in your model spefication.\n",
      "Warning: Renormalizing probability density from 1.010835005488478 to 1.  Try decreasing dt.  If that doesn't eliminate this warning, it may be due to extreme parameter values and/or bugs in your model spefication.\n",
      "Warning: Renormalizing probability density from 1.0105294292735312 to 1.  Try decreasing dt.  If that doesn't eliminate this warning, it may be due to extreme parameter values and/or bugs in your model spefication.\n",
      "Warning: Renormalizing probability density from 1.0362514370168114 to 1.  Try decreasing dt.  If that doesn't eliminate this warning, it may be due to extreme parameter values and/or bugs in your model spefication.\n",
      "Warning: Renormalizing probability density from 1.0146261329448865 to 1.  Try decreasing dt.  If that doesn't eliminate this warning, it may be due to extreme parameter values and/or bugs in your model spefication.\n",
      "Warning: Renormalizing probability density from 1.019678967446994 to 1.  Try decreasing dt.  If that doesn't eliminate this warning, it may be due to extreme parameter values and/or bugs in your model spefication.\n",
      "Warning: Renormalizing probability density from 1.0156898665538472 to 1.  Try decreasing dt.  If that doesn't eliminate this warning, it may be due to extreme parameter values and/or bugs in your model spefication.\n",
      "Warning: Renormalizing probability density from 1.0143944079538547 to 1.  Try decreasing dt.  If that doesn't eliminate this warning, it may be due to extreme parameter values and/or bugs in your model spefication.\n",
      "Warning: Renormalizing probability density from 1.0557997222971922 to 1.  Try decreasing dt.  If that doesn't eliminate this warning, it may be due to extreme parameter values and/or bugs in your model spefication.\n",
      "Warning: Renormalizing probability density from 1.0470124654038453 to 1.  Try decreasing dt.  If that doesn't eliminate this warning, it may be due to extreme parameter values and/or bugs in your model spefication.\n",
      "Warning: Renormalizing probability density from 1.0251082649916405 to 1.  Try decreasing dt.  If that doesn't eliminate this warning, it may be due to extreme parameter values and/or bugs in your model spefication.\n",
      "Warning: Renormalizing probability density from 1.0423930808191229 to 1.  Try decreasing dt.  If that doesn't eliminate this warning, it may be due to extreme parameter values and/or bugs in your model spefication.\n",
      "Warning: Renormalizing probability density from 1.011146959360208 to 1.  Try decreasing dt.  If that doesn't eliminate this warning, it may be due to extreme parameter values and/or bugs in your model spefication.\n",
      "Warning: Renormalizing probability density from 1.011146959360208 to 1.  Try decreasing dt.  If that doesn't eliminate this warning, it may be due to extreme parameter values and/or bugs in your model spefication.\n",
      "Warning: Renormalizing probability density from 1.011146959360208 to 1.  Try decreasing dt.  If that doesn't eliminate this warning, it may be due to extreme parameter values and/or bugs in your model spefication.\n",
      "Warning: Renormalizing probability density from 1.011146959360208 to 1.  Try decreasing dt.  If that doesn't eliminate this warning, it may be due to extreme parameter values and/or bugs in your model spefication.\n",
      "Warning: Renormalizing probability density from 1.011146959360208 to 1.  Try decreasing dt.  If that doesn't eliminate this warning, it may be due to extreme parameter values and/or bugs in your model spefication.\n",
      "Warning: Renormalizing probability density from 1.01114695896176 to 1.  Try decreasing dt.  If that doesn't eliminate this warning, it may be due to extreme parameter values and/or bugs in your model spefication.\n",
      "Warning: Renormalizing probability density from 1.01114695896176 to 1.  Try decreasing dt.  If that doesn't eliminate this warning, it may be due to extreme parameter values and/or bugs in your model spefication.\n",
      "Warning: Renormalizing probability density from 1.011146959360208 to 1.  Try decreasing dt.  If that doesn't eliminate this warning, it may be due to extreme parameter values and/or bugs in your model spefication.\n",
      "Warning: Renormalizing probability density from 1.011146959360208 to 1.  Try decreasing dt.  If that doesn't eliminate this warning, it may be due to extreme parameter values and/or bugs in your model spefication.\n",
      "Warning: Renormalizing probability density from 1.011146959360208 to 1.  Try decreasing dt.  If that doesn't eliminate this warning, it may be due to extreme parameter values and/or bugs in your model spefication.\n",
      "Warning: Renormalizing probability density from 1.011146959360208 to 1.  Try decreasing dt.  If that doesn't eliminate this warning, it may be due to extreme parameter values and/or bugs in your model spefication.\n",
      "Warning: Renormalizing probability density from 1.011146959360208 to 1.  Try decreasing dt.  If that doesn't eliminate this warning, it may be due to extreme parameter values and/or bugs in your model spefication.\n",
      "Info: Params [0.         0.97676481 0.93842884 0.32167477 0.55723543] gave 498.45824422911085\n",
      "Warning: dt is large.  Estimated pdfs may be imprecise.  Decrease dt to 0.01 or less.\n",
      "Warning: Renormalizing probability density from 1.0323831725513082 to 1.  Try decreasing dt.  If that doesn't eliminate this warning, it may be due to extreme parameter values and/or bugs in your model spefication.\n",
      "Warning: Renormalizing probability density from 1.0152304458334727 to 1.  Try decreasing dt.  If that doesn't eliminate this warning, it may be due to extreme parameter values and/or bugs in your model spefication.\n",
      "Warning: Renormalizing probability density from 1.0237082195493818 to 1.  Try decreasing dt.  If that doesn't eliminate this warning, it may be due to extreme parameter values and/or bugs in your model spefication.\n",
      "Warning: Renormalizing probability density from 1.0372115764220489 to 1.  Try decreasing dt.  If that doesn't eliminate this warning, it may be due to extreme parameter values and/or bugs in your model spefication.\n",
      "Warning: Renormalizing probability density from 1.05357283840188 to 1.  Try decreasing dt.  If that doesn't eliminate this warning, it may be due to extreme parameter values and/or bugs in your model spefication.\n",
      "Warning: Renormalizing probability density from 1.0109706898549393 to 1.  Try decreasing dt.  If that doesn't eliminate this warning, it may be due to extreme parameter values and/or bugs in your model spefication.\n",
      "Warning: Renormalizing probability density from 1.0368478382214785 to 1.  Try decreasing dt.  If that doesn't eliminate this warning, it may be due to extreme parameter values and/or bugs in your model spefication.\n",
      "Warning: Renormalizing probability density from 1.0213063847142112 to 1.  Try decreasing dt.  If that doesn't eliminate this warning, it may be due to extreme parameter values and/or bugs in your model spefication.\n"
     ]
    },
    {
     "name": "stderr",
     "output_type": "stream",
     "text": [
      "Warning: Renormalizing probability density from 1.0234372806296834 to 1.  Try decreasing dt.  If that doesn't eliminate this warning, it may be due to extreme parameter values and/or bugs in your model spefication.\n",
      "Warning: Renormalizing probability density from 1.010150649387248 to 1.  Try decreasing dt.  If that doesn't eliminate this warning, it may be due to extreme parameter values and/or bugs in your model spefication.\n",
      "Warning: Renormalizing probability density from 1.0179478928477586 to 1.  Try decreasing dt.  If that doesn't eliminate this warning, it may be due to extreme parameter values and/or bugs in your model spefication.\n",
      "Warning: Renormalizing probability density from 1.0118347545226303 to 1.  Try decreasing dt.  If that doesn't eliminate this warning, it may be due to extreme parameter values and/or bugs in your model spefication.\n",
      "Warning: Renormalizing probability density from 1.0567778846831881 to 1.  Try decreasing dt.  If that doesn't eliminate this warning, it may be due to extreme parameter values and/or bugs in your model spefication.\n",
      "Warning: Renormalizing probability density from 1.010431374544925 to 1.  Try decreasing dt.  If that doesn't eliminate this warning, it may be due to extreme parameter values and/or bugs in your model spefication.\n",
      "Warning: Renormalizing probability density from 1.0108909722522896 to 1.  Try decreasing dt.  If that doesn't eliminate this warning, it may be due to extreme parameter values and/or bugs in your model spefication.\n"
     ]
    },
    {
     "name": "stdout",
     "output_type": "stream",
     "text": [
      "22\n"
     ]
    },
    {
     "name": "stderr",
     "output_type": "stream",
     "text": [
      "Warning: Renormalizing probability density from 1.0100434701910896 to 1.  Try decreasing dt.  If that doesn't eliminate this warning, it may be due to extreme parameter values and/or bugs in your model spefication.\n",
      "Warning: Renormalizing probability density from 1.0159548851897766 to 1.  Try decreasing dt.  If that doesn't eliminate this warning, it may be due to extreme parameter values and/or bugs in your model spefication.\n",
      "Warning: Renormalizing probability density from 1.0104286561396096 to 1.  Try decreasing dt.  If that doesn't eliminate this warning, it may be due to extreme parameter values and/or bugs in your model spefication.\n",
      "Warning: Renormalizing probability density from 1.0131232757010766 to 1.  Try decreasing dt.  If that doesn't eliminate this warning, it may be due to extreme parameter values and/or bugs in your model spefication.\n",
      "Warning: Renormalizing probability density from 1.0111308111933908 to 1.  Try decreasing dt.  If that doesn't eliminate this warning, it may be due to extreme parameter values and/or bugs in your model spefication.\n",
      "Warning: Renormalizing probability density from 1.011411519080712 to 1.  Try decreasing dt.  If that doesn't eliminate this warning, it may be due to extreme parameter values and/or bugs in your model spefication.\n",
      "Warning: Renormalizing probability density from 1.0101352099286844 to 1.  Try decreasing dt.  If that doesn't eliminate this warning, it may be due to extreme parameter values and/or bugs in your model spefication.\n",
      "Warning: Renormalizing probability density from 1.0110907052457572 to 1.  Try decreasing dt.  If that doesn't eliminate this warning, it may be due to extreme parameter values and/or bugs in your model spefication.\n",
      "Warning: Renormalizing probability density from 1.0100981544179561 to 1.  Try decreasing dt.  If that doesn't eliminate this warning, it may be due to extreme parameter values and/or bugs in your model spefication.\n",
      "Warning: Renormalizing probability density from 1.0109397473252495 to 1.  Try decreasing dt.  If that doesn't eliminate this warning, it may be due to extreme parameter values and/or bugs in your model spefication.\n",
      "Warning: Renormalizing probability density from 1.0106682705473142 to 1.  Try decreasing dt.  If that doesn't eliminate this warning, it may be due to extreme parameter values and/or bugs in your model spefication.\n",
      "Warning: Renormalizing probability density from 1.0107756612480145 to 1.  Try decreasing dt.  If that doesn't eliminate this warning, it may be due to extreme parameter values and/or bugs in your model spefication.\n",
      "Warning: Renormalizing probability density from 1.0107742444939296 to 1.  Try decreasing dt.  If that doesn't eliminate this warning, it may be due to extreme parameter values and/or bugs in your model spefication.\n",
      "Warning: Renormalizing probability density from 1.0187222001398633 to 1.  Try decreasing dt.  If that doesn't eliminate this warning, it may be due to extreme parameter values and/or bugs in your model spefication.\n",
      "Warning: Renormalizing probability density from 1.018722200199904 to 1.  Try decreasing dt.  If that doesn't eliminate this warning, it may be due to extreme parameter values and/or bugs in your model spefication.\n",
      "Warning: Renormalizing probability density from 1.018722200049531 to 1.  Try decreasing dt.  If that doesn't eliminate this warning, it may be due to extreme parameter values and/or bugs in your model spefication.\n",
      "Warning: Renormalizing probability density from 1.0187222001398633 to 1.  Try decreasing dt.  If that doesn't eliminate this warning, it may be due to extreme parameter values and/or bugs in your model spefication.\n",
      "Warning: Renormalizing probability density from 1.0187222001398633 to 1.  Try decreasing dt.  If that doesn't eliminate this warning, it may be due to extreme parameter values and/or bugs in your model spefication.\n",
      "Warning: Renormalizing probability density from 1.0187222001398633 to 1.  Try decreasing dt.  If that doesn't eliminate this warning, it may be due to extreme parameter values and/or bugs in your model spefication.\n",
      "Info: Params [0.19500874 0.78956562 2.23995496 0.34387281 0.91268835] gave 675.7023461544372\n",
      "Warning: dt is large.  Estimated pdfs may be imprecise.  Decrease dt to 0.01 or less.\n",
      "Warning: Renormalizing probability density from 1.0570823947837984 to 1.  Try decreasing dt.  If that doesn't eliminate this warning, it may be due to extreme parameter values and/or bugs in your model spefication.\n",
      "Warning: Renormalizing probability density from 1.0132364183921112 to 1.  Try decreasing dt.  If that doesn't eliminate this warning, it may be due to extreme parameter values and/or bugs in your model spefication.\n",
      "Warning: Renormalizing probability density from 1.0126418704432574 to 1.  Try decreasing dt.  If that doesn't eliminate this warning, it may be due to extreme parameter values and/or bugs in your model spefication.\n",
      "Warning: Renormalizing probability density from 1.022430455267304 to 1.  Try decreasing dt.  If that doesn't eliminate this warning, it may be due to extreme parameter values and/or bugs in your model spefication.\n",
      "Warning: Renormalizing probability density from 1.0406912857551773 to 1.  Try decreasing dt.  If that doesn't eliminate this warning, it may be due to extreme parameter values and/or bugs in your model spefication.\n",
      "Warning: Renormalizing probability density from 1.0166345837185295 to 1.  Try decreasing dt.  If that doesn't eliminate this warning, it may be due to extreme parameter values and/or bugs in your model spefication.\n",
      "Warning: Renormalizing probability density from 1.0183794087034939 to 1.  Try decreasing dt.  If that doesn't eliminate this warning, it may be due to extreme parameter values and/or bugs in your model spefication.\n",
      "Warning: Renormalizing probability density from 1.0102376258995385 to 1.  Try decreasing dt.  If that doesn't eliminate this warning, it may be due to extreme parameter values and/or bugs in your model spefication.\n",
      "Warning: Renormalizing probability density from 1.0459320748614196 to 1.  Try decreasing dt.  If that doesn't eliminate this warning, it may be due to extreme parameter values and/or bugs in your model spefication.\n",
      "Warning: Renormalizing probability density from 1.0348113597334805 to 1.  Try decreasing dt.  If that doesn't eliminate this warning, it may be due to extreme parameter values and/or bugs in your model spefication.\n",
      "Warning: Renormalizing probability density from 1.0101980328243618 to 1.  Try decreasing dt.  If that doesn't eliminate this warning, it may be due to extreme parameter values and/or bugs in your model spefication.\n",
      "Warning: Renormalizing probability density from 1.0102376258995385 to 1.  Try decreasing dt.  If that doesn't eliminate this warning, it may be due to extreme parameter values and/or bugs in your model spefication.\n",
      "Warning: Renormalizing probability density from 1.0102067633613132 to 1.  Try decreasing dt.  If that doesn't eliminate this warning, it may be due to extreme parameter values and/or bugs in your model spefication.\n"
     ]
    },
    {
     "name": "stdout",
     "output_type": "stream",
     "text": [
      "23\n"
     ]
    },
    {
     "name": "stderr",
     "output_type": "stream",
     "text": [
      "Info: Params [0.18315568 2.6290757  3.05946959 0.95046618 0.94628766] gave 1095.7700856652416\n",
      "Warning: dt is large.  Estimated pdfs may be imprecise.  Decrease dt to 0.01 or less.\n",
      "Warning: Renormalizing probability density from 1.0389383279750042 to 1.  Try decreasing dt.  If that doesn't eliminate this warning, it may be due to extreme parameter values and/or bugs in your model spefication.\n",
      "Warning: Renormalizing probability density from 1.0298506587455885 to 1.  Try decreasing dt.  If that doesn't eliminate this warning, it may be due to extreme parameter values and/or bugs in your model spefication.\n",
      "Warning: Renormalizing probability density from 1.010692419266707 to 1.  Try decreasing dt.  If that doesn't eliminate this warning, it may be due to extreme parameter values and/or bugs in your model spefication.\n",
      "Warning: Renormalizing probability density from 1.04960487096666 to 1.  Try decreasing dt.  If that doesn't eliminate this warning, it may be due to extreme parameter values and/or bugs in your model spefication.\n",
      "Warning: Renormalizing probability density from 1.0139932742510924 to 1.  Try decreasing dt.  If that doesn't eliminate this warning, it may be due to extreme parameter values and/or bugs in your model spefication.\n",
      "Warning: Renormalizing probability density from 1.0102385811768118 to 1.  Try decreasing dt.  If that doesn't eliminate this warning, it may be due to extreme parameter values and/or bugs in your model spefication.\n",
      "Warning: Renormalizing probability density from 1.0236029564154216 to 1.  Try decreasing dt.  If that doesn't eliminate this warning, it may be due to extreme parameter values and/or bugs in your model spefication.\n",
      "Warning: Renormalizing probability density from 1.0108014164495533 to 1.  Try decreasing dt.  If that doesn't eliminate this warning, it may be due to extreme parameter values and/or bugs in your model spefication.\n",
      "Warning: Renormalizing probability density from 1.0163098987858812 to 1.  Try decreasing dt.  If that doesn't eliminate this warning, it may be due to extreme parameter values and/or bugs in your model spefication.\n",
      "Warning: Renormalizing probability density from 1.0135999316318636 to 1.  Try decreasing dt.  If that doesn't eliminate this warning, it may be due to extreme parameter values and/or bugs in your model spefication.\n",
      "Warning: Renormalizing probability density from 1.0374275477511083 to 1.  Try decreasing dt.  If that doesn't eliminate this warning, it may be due to extreme parameter values and/or bugs in your model spefication.\n",
      "Warning: Renormalizing probability density from 1.0234357542335282 to 1.  Try decreasing dt.  If that doesn't eliminate this warning, it may be due to extreme parameter values and/or bugs in your model spefication.\n",
      "Warning: Renormalizing probability density from 1.016520080891439 to 1.  Try decreasing dt.  If that doesn't eliminate this warning, it may be due to extreme parameter values and/or bugs in your model spefication.\n",
      "Warning: Renormalizing probability density from 1.0167685323423092 to 1.  Try decreasing dt.  If that doesn't eliminate this warning, it may be due to extreme parameter values and/or bugs in your model spefication.\n",
      "Warning: Renormalizing probability density from 1.025851824290128 to 1.  Try decreasing dt.  If that doesn't eliminate this warning, it may be due to extreme parameter values and/or bugs in your model spefication.\n",
      "Warning: Renormalizing probability density from 1.0265025145801028 to 1.  Try decreasing dt.  If that doesn't eliminate this warning, it may be due to extreme parameter values and/or bugs in your model spefication.\n",
      "Warning: Renormalizing probability density from 1.0163098987858812 to 1.  Try decreasing dt.  If that doesn't eliminate this warning, it may be due to extreme parameter values and/or bugs in your model spefication.\n",
      "Warning: Renormalizing probability density from 1.0199582683481856 to 1.  Try decreasing dt.  If that doesn't eliminate this warning, it may be due to extreme parameter values and/or bugs in your model spefication.\n",
      "Warning: Renormalizing probability density from 1.0207811419942763 to 1.  Try decreasing dt.  If that doesn't eliminate this warning, it may be due to extreme parameter values and/or bugs in your model spefication.\n",
      "Warning: Renormalizing probability density from 1.0117544943720467 to 1.  Try decreasing dt.  If that doesn't eliminate this warning, it may be due to extreme parameter values and/or bugs in your model spefication.\n",
      "Warning: Renormalizing probability density from 1.0192962986997942 to 1.  Try decreasing dt.  If that doesn't eliminate this warning, it may be due to extreme parameter values and/or bugs in your model spefication.\n",
      "Warning: Renormalizing probability density from 1.0236029564154216 to 1.  Try decreasing dt.  If that doesn't eliminate this warning, it may be due to extreme parameter values and/or bugs in your model spefication.\n",
      "Warning: Renormalizing probability density from 1.017553685730176 to 1.  Try decreasing dt.  If that doesn't eliminate this warning, it may be due to extreme parameter values and/or bugs in your model spefication.\n",
      "Warning: Renormalizing probability density from 1.0115756679660501 to 1.  Try decreasing dt.  If that doesn't eliminate this warning, it may be due to extreme parameter values and/or bugs in your model spefication.\n",
      "Warning: Renormalizing probability density from 1.0173035958667174 to 1.  Try decreasing dt.  If that doesn't eliminate this warning, it may be due to extreme parameter values and/or bugs in your model spefication.\n",
      "Warning: Renormalizing probability density from 1.0207034015223273 to 1.  Try decreasing dt.  If that doesn't eliminate this warning, it may be due to extreme parameter values and/or bugs in your model spefication.\n",
      "Warning: Renormalizing probability density from 1.0145706386747078 to 1.  Try decreasing dt.  If that doesn't eliminate this warning, it may be due to extreme parameter values and/or bugs in your model spefication.\n",
      "Warning: Renormalizing probability density from 1.0103231168596567 to 1.  Try decreasing dt.  If that doesn't eliminate this warning, it may be due to extreme parameter values and/or bugs in your model spefication.\n",
      "Warning: Renormalizing probability density from 1.0265025145801028 to 1.  Try decreasing dt.  If that doesn't eliminate this warning, it may be due to extreme parameter values and/or bugs in your model spefication.\n",
      "Warning: Renormalizing probability density from 1.0113928714619629 to 1.  Try decreasing dt.  If that doesn't eliminate this warning, it may be due to extreme parameter values and/or bugs in your model spefication.\n",
      "Warning: Renormalizing probability density from 1.0150598314623325 to 1.  Try decreasing dt.  If that doesn't eliminate this warning, it may be due to extreme parameter values and/or bugs in your model spefication.\n",
      "Warning: Renormalizing probability density from 1.012383956380349 to 1.  Try decreasing dt.  If that doesn't eliminate this warning, it may be due to extreme parameter values and/or bugs in your model spefication.\n",
      "Warning: Renormalizing probability density from 1.0481730972509573 to 1.  Try decreasing dt.  If that doesn't eliminate this warning, it may be due to extreme parameter values and/or bugs in your model spefication.\n",
      "Warning: Renormalizing probability density from 1.0116515101548187 to 1.  Try decreasing dt.  If that doesn't eliminate this warning, it may be due to extreme parameter values and/or bugs in your model spefication.\n",
      "Warning: Renormalizing probability density from 1.0181832917971696 to 1.  Try decreasing dt.  If that doesn't eliminate this warning, it may be due to extreme parameter values and/or bugs in your model spefication.\n",
      "Warning: Renormalizing probability density from 1.0111220778594778 to 1.  Try decreasing dt.  If that doesn't eliminate this warning, it may be due to extreme parameter values and/or bugs in your model spefication.\n",
      "Warning: Renormalizing probability density from 1.0112115030088575 to 1.  Try decreasing dt.  If that doesn't eliminate this warning, it may be due to extreme parameter values and/or bugs in your model spefication.\n",
      "Warning: Renormalizing probability density from 1.0108952911859959 to 1.  Try decreasing dt.  If that doesn't eliminate this warning, it may be due to extreme parameter values and/or bugs in your model spefication.\n"
     ]
    },
    {
     "name": "stderr",
     "output_type": "stream",
     "text": [
      "Warning: Renormalizing probability density from 1.0102521626983627 to 1.  Try decreasing dt.  If that doesn't eliminate this warning, it may be due to extreme parameter values and/or bugs in your model spefication.\n"
     ]
    },
    {
     "name": "stdout",
     "output_type": "stream",
     "text": [
      "24\n"
     ]
    },
    {
     "name": "stderr",
     "output_type": "stream",
     "text": [
      "Warning: Renormalizing probability density from 1.0128279398059123 to 1.  Try decreasing dt.  If that doesn't eliminate this warning, it may be due to extreme parameter values and/or bugs in your model spefication.\n",
      "Warning: Renormalizing probability density from 1.0123145781501335 to 1.  Try decreasing dt.  If that doesn't eliminate this warning, it may be due to extreme parameter values and/or bugs in your model spefication.\n",
      "Warning: Renormalizing probability density from 1.01078230764814 to 1.  Try decreasing dt.  If that doesn't eliminate this warning, it may be due to extreme parameter values and/or bugs in your model spefication.\n",
      "Warning: Renormalizing probability density from 1.0127323760464997 to 1.  Try decreasing dt.  If that doesn't eliminate this warning, it may be due to extreme parameter values and/or bugs in your model spefication.\n",
      "Warning: Renormalizing probability density from 1.014654569145828 to 1.  Try decreasing dt.  If that doesn't eliminate this warning, it may be due to extreme parameter values and/or bugs in your model spefication.\n",
      "Warning: Renormalizing probability density from 1.013586967659243 to 1.  Try decreasing dt.  If that doesn't eliminate this warning, it may be due to extreme parameter values and/or bugs in your model spefication.\n",
      "Warning: Renormalizing probability density from 1.0153598366048913 to 1.  Try decreasing dt.  If that doesn't eliminate this warning, it may be due to extreme parameter values and/or bugs in your model spefication.\n",
      "Warning: Renormalizing probability density from 1.0114340611563029 to 1.  Try decreasing dt.  If that doesn't eliminate this warning, it may be due to extreme parameter values and/or bugs in your model spefication.\n",
      "Warning: Renormalizing probability density from 1.011312186839172 to 1.  Try decreasing dt.  If that doesn't eliminate this warning, it may be due to extreme parameter values and/or bugs in your model spefication.\n",
      "Warning: Renormalizing probability density from 1.0192854867774148 to 1.  Try decreasing dt.  If that doesn't eliminate this warning, it may be due to extreme parameter values and/or bugs in your model spefication.\n",
      "Warning: Renormalizing probability density from 1.0132010471146478 to 1.  Try decreasing dt.  If that doesn't eliminate this warning, it may be due to extreme parameter values and/or bugs in your model spefication.\n",
      "Warning: Renormalizing probability density from 1.0277737676474994 to 1.  Try decreasing dt.  If that doesn't eliminate this warning, it may be due to extreme parameter values and/or bugs in your model spefication.\n",
      "Warning: Renormalizing probability density from 1.0104944019374202 to 1.  Try decreasing dt.  If that doesn't eliminate this warning, it may be due to extreme parameter values and/or bugs in your model spefication.\n",
      "Warning: Renormalizing probability density from 1.0128279398059123 to 1.  Try decreasing dt.  If that doesn't eliminate this warning, it may be due to extreme parameter values and/or bugs in your model spefication.\n",
      "Warning: Renormalizing probability density from 1.0312900034530705 to 1.  Try decreasing dt.  If that doesn't eliminate this warning, it may be due to extreme parameter values and/or bugs in your model spefication.\n",
      "Warning: Renormalizing probability density from 1.0387975919255785 to 1.  Try decreasing dt.  If that doesn't eliminate this warning, it may be due to extreme parameter values and/or bugs in your model spefication.\n",
      "Warning: Renormalizing probability density from 1.0115769015843912 to 1.  Try decreasing dt.  If that doesn't eliminate this warning, it may be due to extreme parameter values and/or bugs in your model spefication.\n",
      "Warning: Renormalizing probability density from 1.033682092997094 to 1.  Try decreasing dt.  If that doesn't eliminate this warning, it may be due to extreme parameter values and/or bugs in your model spefication.\n",
      "Warning: Renormalizing probability density from 1.0335803029613047 to 1.  Try decreasing dt.  If that doesn't eliminate this warning, it may be due to extreme parameter values and/or bugs in your model spefication.\n",
      "Warning: Renormalizing probability density from 1.0127907037275385 to 1.  Try decreasing dt.  If that doesn't eliminate this warning, it may be due to extreme parameter values and/or bugs in your model spefication.\n",
      "Warning: Renormalizing probability density from 1.0424793317149221 to 1.  Try decreasing dt.  If that doesn't eliminate this warning, it may be due to extreme parameter values and/or bugs in your model spefication.\n",
      "Warning: Renormalizing probability density from 1.0105963240884468 to 1.  Try decreasing dt.  If that doesn't eliminate this warning, it may be due to extreme parameter values and/or bugs in your model spefication.\n",
      "Warning: Renormalizing probability density from 1.0103389367819964 to 1.  Try decreasing dt.  If that doesn't eliminate this warning, it may be due to extreme parameter values and/or bugs in your model spefication.\n",
      "Warning: Renormalizing probability density from 1.0100918307813198 to 1.  Try decreasing dt.  If that doesn't eliminate this warning, it may be due to extreme parameter values and/or bugs in your model spefication.\n",
      "Warning: Renormalizing probability density from 1.0103050204216357 to 1.  Try decreasing dt.  If that doesn't eliminate this warning, it may be due to extreme parameter values and/or bugs in your model spefication.\n",
      "Warning: Renormalizing probability density from 1.0105464318428006 to 1.  Try decreasing dt.  If that doesn't eliminate this warning, it may be due to extreme parameter values and/or bugs in your model spefication.\n",
      "Warning: Renormalizing probability density from 1.015634263269576 to 1.  Try decreasing dt.  If that doesn't eliminate this warning, it may be due to extreme parameter values and/or bugs in your model spefication.\n",
      "Warning: Renormalizing probability density from 1.027341906772852 to 1.  Try decreasing dt.  If that doesn't eliminate this warning, it may be due to extreme parameter values and/or bugs in your model spefication.\n",
      "Warning: Renormalizing probability density from 1.0375796885364619 to 1.  Try decreasing dt.  If that doesn't eliminate this warning, it may be due to extreme parameter values and/or bugs in your model spefication.\n",
      "Warning: Renormalizing probability density from 1.010846048256902 to 1.  Try decreasing dt.  If that doesn't eliminate this warning, it may be due to extreme parameter values and/or bugs in your model spefication.\n",
      "Warning: Renormalizing probability density from 1.0358699266771307 to 1.  Try decreasing dt.  If that doesn't eliminate this warning, it may be due to extreme parameter values and/or bugs in your model spefication.\n",
      "Warning: Renormalizing probability density from 1.0115769015843912 to 1.  Try decreasing dt.  If that doesn't eliminate this warning, it may be due to extreme parameter values and/or bugs in your model spefication.\n",
      "Warning: Renormalizing probability density from 1.0111948092475413 to 1.  Try decreasing dt.  If that doesn't eliminate this warning, it may be due to extreme parameter values and/or bugs in your model spefication.\n",
      "Warning: Renormalizing probability density from 1.0108235837734418 to 1.  Try decreasing dt.  If that doesn't eliminate this warning, it may be due to extreme parameter values and/or bugs in your model spefication.\n",
      "Warning: Renormalizing probability density from 1.011995223926255 to 1.  Try decreasing dt.  If that doesn't eliminate this warning, it may be due to extreme parameter values and/or bugs in your model spefication.\n",
      "Warning: Renormalizing probability density from 1.0133502580027225 to 1.  Try decreasing dt.  If that doesn't eliminate this warning, it may be due to extreme parameter values and/or bugs in your model spefication.\n",
      "Warning: Renormalizing probability density from 1.010519862961742 to 1.  Try decreasing dt.  If that doesn't eliminate this warning, it may be due to extreme parameter values and/or bugs in your model spefication.\n",
      "Warning: Renormalizing probability density from 1.017245413790258 to 1.  Try decreasing dt.  If that doesn't eliminate this warning, it may be due to extreme parameter values and/or bugs in your model spefication.\n",
      "Warning: Renormalizing probability density from 1.012759830096821 to 1.  Try decreasing dt.  If that doesn't eliminate this warning, it may be due to extreme parameter values and/or bugs in your model spefication.\n"
     ]
    },
    {
     "name": "stderr",
     "output_type": "stream",
     "text": [
      "Warning: Renormalizing probability density from 1.012066401539916 to 1.  Try decreasing dt.  If that doesn't eliminate this warning, it may be due to extreme parameter values and/or bugs in your model spefication.\n",
      "Warning: Renormalizing probability density from 1.0319820193268918 to 1.  Try decreasing dt.  If that doesn't eliminate this warning, it may be due to extreme parameter values and/or bugs in your model spefication.\n",
      "Warning: Renormalizing probability density from 1.0470991313607854 to 1.  Try decreasing dt.  If that doesn't eliminate this warning, it may be due to extreme parameter values and/or bugs in your model spefication.\n",
      "Warning: Renormalizing probability density from 1.0109107232860741 to 1.  Try decreasing dt.  If that doesn't eliminate this warning, it may be due to extreme parameter values and/or bugs in your model spefication.\n",
      "Warning: Renormalizing probability density from 1.0150065715945868 to 1.  Try decreasing dt.  If that doesn't eliminate this warning, it may be due to extreme parameter values and/or bugs in your model spefication.\n",
      "Warning: Renormalizing probability density from 1.0228487842790082 to 1.  Try decreasing dt.  If that doesn't eliminate this warning, it may be due to extreme parameter values and/or bugs in your model spefication.\n",
      "Warning: Renormalizing probability density from 1.0107137973597036 to 1.  Try decreasing dt.  If that doesn't eliminate this warning, it may be due to extreme parameter values and/or bugs in your model spefication.\n",
      "Warning: Renormalizing probability density from 1.0165144004521873 to 1.  Try decreasing dt.  If that doesn't eliminate this warning, it may be due to extreme parameter values and/or bugs in your model spefication.\n",
      "Warning: Renormalizing probability density from 1.0346745983247796 to 1.  Try decreasing dt.  If that doesn't eliminate this warning, it may be due to extreme parameter values and/or bugs in your model spefication.\n",
      "Warning: Renormalizing probability density from 1.0161255004280427 to 1.  Try decreasing dt.  If that doesn't eliminate this warning, it may be due to extreme parameter values and/or bugs in your model spefication.\n",
      "Warning: Renormalizing probability density from 1.0105045555714165 to 1.  Try decreasing dt.  If that doesn't eliminate this warning, it may be due to extreme parameter values and/or bugs in your model spefication.\n",
      "Warning: Renormalizing probability density from 1.01132042474404 to 1.  Try decreasing dt.  If that doesn't eliminate this warning, it may be due to extreme parameter values and/or bugs in your model spefication.\n",
      "Warning: Renormalizing probability density from 1.0162044390950336 to 1.  Try decreasing dt.  If that doesn't eliminate this warning, it may be due to extreme parameter values and/or bugs in your model spefication.\n",
      "Warning: Renormalizing probability density from 1.025549449306586 to 1.  Try decreasing dt.  If that doesn't eliminate this warning, it may be due to extreme parameter values and/or bugs in your model spefication.\n",
      "Warning: Renormalizing probability density from 1.0110796086665805 to 1.  Try decreasing dt.  If that doesn't eliminate this warning, it may be due to extreme parameter values and/or bugs in your model spefication.\n",
      "Warning: Renormalizing probability density from 1.0215376377580754 to 1.  Try decreasing dt.  If that doesn't eliminate this warning, it may be due to extreme parameter values and/or bugs in your model spefication.\n",
      "Warning: Renormalizing probability density from 1.0112304662649059 to 1.  Try decreasing dt.  If that doesn't eliminate this warning, it may be due to extreme parameter values and/or bugs in your model spefication.\n",
      "Warning: Renormalizing probability density from 1.0129403327025612 to 1.  Try decreasing dt.  If that doesn't eliminate this warning, it may be due to extreme parameter values and/or bugs in your model spefication.\n",
      "Warning: Renormalizing probability density from 1.0109373060593438 to 1.  Try decreasing dt.  If that doesn't eliminate this warning, it may be due to extreme parameter values and/or bugs in your model spefication.\n",
      "Warning: Renormalizing probability density from 1.030755261988494 to 1.  Try decreasing dt.  If that doesn't eliminate this warning, it may be due to extreme parameter values and/or bugs in your model spefication.\n",
      "Warning: Renormalizing probability density from 1.0336566394673798 to 1.  Try decreasing dt.  If that doesn't eliminate this warning, it may be due to extreme parameter values and/or bugs in your model spefication.\n",
      "Warning: Renormalizing probability density from 1.0105728996435182 to 1.  Try decreasing dt.  If that doesn't eliminate this warning, it may be due to extreme parameter values and/or bugs in your model spefication.\n",
      "Warning: Renormalizing probability density from 1.011083985189616 to 1.  Try decreasing dt.  If that doesn't eliminate this warning, it may be due to extreme parameter values and/or bugs in your model spefication.\n",
      "Warning: Renormalizing probability density from 1.01129030183241 to 1.  Try decreasing dt.  If that doesn't eliminate this warning, it may be due to extreme parameter values and/or bugs in your model spefication.\n",
      "Warning: Renormalizing probability density from 1.0283447387812796 to 1.  Try decreasing dt.  If that doesn't eliminate this warning, it may be due to extreme parameter values and/or bugs in your model spefication.\n",
      "Warning: Renormalizing probability density from 1.0227825555604564 to 1.  Try decreasing dt.  If that doesn't eliminate this warning, it may be due to extreme parameter values and/or bugs in your model spefication.\n",
      "Warning: Renormalizing probability density from 1.019484122532894 to 1.  Try decreasing dt.  If that doesn't eliminate this warning, it may be due to extreme parameter values and/or bugs in your model spefication.\n",
      "Warning: Renormalizing probability density from 1.0296396896125894 to 1.  Try decreasing dt.  If that doesn't eliminate this warning, it may be due to extreme parameter values and/or bugs in your model spefication.\n",
      "Warning: Renormalizing probability density from 1.013751400966959 to 1.  Try decreasing dt.  If that doesn't eliminate this warning, it may be due to extreme parameter values and/or bugs in your model spefication.\n",
      "Warning: Renormalizing probability density from 1.0161013121551556 to 1.  Try decreasing dt.  If that doesn't eliminate this warning, it may be due to extreme parameter values and/or bugs in your model spefication.\n",
      "Warning: Renormalizing probability density from 1.0107355948008019 to 1.  Try decreasing dt.  If that doesn't eliminate this warning, it may be due to extreme parameter values and/or bugs in your model spefication.\n",
      "Warning: Renormalizing probability density from 1.011121420839197 to 1.  Try decreasing dt.  If that doesn't eliminate this warning, it may be due to extreme parameter values and/or bugs in your model spefication.\n",
      "Warning: Renormalizing probability density from 1.01132042474404 to 1.  Try decreasing dt.  If that doesn't eliminate this warning, it may be due to extreme parameter values and/or bugs in your model spefication.\n",
      "Warning: Renormalizing probability density from 1.045930836705672 to 1.  Try decreasing dt.  If that doesn't eliminate this warning, it may be due to extreme parameter values and/or bugs in your model spefication.\n",
      "Warning: Renormalizing probability density from 1.0232045616446124 to 1.  Try decreasing dt.  If that doesn't eliminate this warning, it may be due to extreme parameter values and/or bugs in your model spefication.\n",
      "Warning: Renormalizing probability density from 1.0108696915458775 to 1.  Try decreasing dt.  If that doesn't eliminate this warning, it may be due to extreme parameter values and/or bugs in your model spefication.\n",
      "Warning: Renormalizing probability density from 1.0101006692490726 to 1.  Try decreasing dt.  If that doesn't eliminate this warning, it may be due to extreme parameter values and/or bugs in your model spefication.\n",
      "Warning: Renormalizing probability density from 1.0131867766004217 to 1.  Try decreasing dt.  If that doesn't eliminate this warning, it may be due to extreme parameter values and/or bugs in your model spefication.\n",
      "Warning: Renormalizing probability density from 1.0479527817640921 to 1.  Try decreasing dt.  If that doesn't eliminate this warning, it may be due to extreme parameter values and/or bugs in your model spefication.\n"
     ]
    },
    {
     "name": "stderr",
     "output_type": "stream",
     "text": [
      "Warning: Renormalizing probability density from 1.035219481652919 to 1.  Try decreasing dt.  If that doesn't eliminate this warning, it may be due to extreme parameter values and/or bugs in your model spefication.\n",
      "Warning: Renormalizing probability density from 1.0165447932431215 to 1.  Try decreasing dt.  If that doesn't eliminate this warning, it may be due to extreme parameter values and/or bugs in your model spefication.\n",
      "Warning: Renormalizing probability density from 1.0265510667101614 to 1.  Try decreasing dt.  If that doesn't eliminate this warning, it may be due to extreme parameter values and/or bugs in your model spefication.\n",
      "Warning: Renormalizing probability density from 1.0195297560021985 to 1.  Try decreasing dt.  If that doesn't eliminate this warning, it may be due to extreme parameter values and/or bugs in your model spefication.\n",
      "Warning: Renormalizing probability density from 1.013740211234682 to 1.  Try decreasing dt.  If that doesn't eliminate this warning, it may be due to extreme parameter values and/or bugs in your model spefication.\n",
      "Warning: Renormalizing probability density from 1.011146959360208 to 1.  Try decreasing dt.  If that doesn't eliminate this warning, it may be due to extreme parameter values and/or bugs in your model spefication.\n",
      "Warning: Renormalizing probability density from 1.011146959360208 to 1.  Try decreasing dt.  If that doesn't eliminate this warning, it may be due to extreme parameter values and/or bugs in your model spefication.\n",
      "Warning: Renormalizing probability density from 1.011146959360208 to 1.  Try decreasing dt.  If that doesn't eliminate this warning, it may be due to extreme parameter values and/or bugs in your model spefication.\n",
      "Warning: Renormalizing probability density from 1.01114695896176 to 1.  Try decreasing dt.  If that doesn't eliminate this warning, it may be due to extreme parameter values and/or bugs in your model spefication.\n",
      "Warning: Renormalizing probability density from 1.011146959360208 to 1.  Try decreasing dt.  If that doesn't eliminate this warning, it may be due to extreme parameter values and/or bugs in your model spefication.\n",
      "Warning: Renormalizing probability density from 1.011146959360208 to 1.  Try decreasing dt.  If that doesn't eliminate this warning, it may be due to extreme parameter values and/or bugs in your model spefication.\n",
      "Info: Params [0.21053519 0.66869151 0.95686289 0.37244912 0.5870816 ] gave 341.3253444724473\n",
      "Warning: dt is large.  Estimated pdfs may be imprecise.  Decrease dt to 0.01 or less.\n",
      "Warning: Renormalizing probability density from 1.0396818134231784 to 1.  Try decreasing dt.  If that doesn't eliminate this warning, it may be due to extreme parameter values and/or bugs in your model spefication.\n",
      "Warning: Renormalizing probability density from 1.0278524705845764 to 1.  Try decreasing dt.  If that doesn't eliminate this warning, it may be due to extreme parameter values and/or bugs in your model spefication.\n",
      "Warning: Renormalizing probability density from 1.0201994015936815 to 1.  Try decreasing dt.  If that doesn't eliminate this warning, it may be due to extreme parameter values and/or bugs in your model spefication.\n",
      "Warning: Renormalizing probability density from 1.0258668810777363 to 1.  Try decreasing dt.  If that doesn't eliminate this warning, it may be due to extreme parameter values and/or bugs in your model spefication.\n",
      "Warning: Renormalizing probability density from 1.0286552886849576 to 1.  Try decreasing dt.  If that doesn't eliminate this warning, it may be due to extreme parameter values and/or bugs in your model spefication.\n",
      "Warning: Renormalizing probability density from 1.036507002070796 to 1.  Try decreasing dt.  If that doesn't eliminate this warning, it may be due to extreme parameter values and/or bugs in your model spefication.\n",
      "Warning: Renormalizing probability density from 1.0113938173249943 to 1.  Try decreasing dt.  If that doesn't eliminate this warning, it may be due to extreme parameter values and/or bugs in your model spefication.\n",
      "Warning: Renormalizing probability density from 1.0103433472600991 to 1.  Try decreasing dt.  If that doesn't eliminate this warning, it may be due to extreme parameter values and/or bugs in your model spefication.\n",
      "Warning: Renormalizing probability density from 1.0176153636817975 to 1.  Try decreasing dt.  If that doesn't eliminate this warning, it may be due to extreme parameter values and/or bugs in your model spefication.\n",
      "Warning: Renormalizing probability density from 1.0238612407388248 to 1.  Try decreasing dt.  If that doesn't eliminate this warning, it may be due to extreme parameter values and/or bugs in your model spefication.\n",
      "Warning: Renormalizing probability density from 1.0138177092334348 to 1.  Try decreasing dt.  If that doesn't eliminate this warning, it may be due to extreme parameter values and/or bugs in your model spefication.\n",
      "Warning: Renormalizing probability density from 1.014077029756665 to 1.  Try decreasing dt.  If that doesn't eliminate this warning, it may be due to extreme parameter values and/or bugs in your model spefication.\n",
      "Warning: Renormalizing probability density from 1.0280259434222718 to 1.  Try decreasing dt.  If that doesn't eliminate this warning, it may be due to extreme parameter values and/or bugs in your model spefication.\n",
      "Warning: Renormalizing probability density from 1.0191719975639042 to 1.  Try decreasing dt.  If that doesn't eliminate this warning, it may be due to extreme parameter values and/or bugs in your model spefication.\n",
      "Warning: Renormalizing probability density from 1.0226657444795655 to 1.  Try decreasing dt.  If that doesn't eliminate this warning, it may be due to extreme parameter values and/or bugs in your model spefication.\n",
      "Warning: Renormalizing probability density from 1.0289708606534085 to 1.  Try decreasing dt.  If that doesn't eliminate this warning, it may be due to extreme parameter values and/or bugs in your model spefication.\n",
      "Warning: Renormalizing probability density from 1.0141719995925684 to 1.  Try decreasing dt.  If that doesn't eliminate this warning, it may be due to extreme parameter values and/or bugs in your model spefication.\n",
      "Warning: Renormalizing probability density from 1.0318434794400788 to 1.  Try decreasing dt.  If that doesn't eliminate this warning, it may be due to extreme parameter values and/or bugs in your model spefication.\n",
      "Warning: Renormalizing probability density from 1.0241721894135452 to 1.  Try decreasing dt.  If that doesn't eliminate this warning, it may be due to extreme parameter values and/or bugs in your model spefication.\n",
      "Warning: Renormalizing probability density from 1.0531487974158862 to 1.  Try decreasing dt.  If that doesn't eliminate this warning, it may be due to extreme parameter values and/or bugs in your model spefication.\n",
      "Warning: Renormalizing probability density from 1.0197305068355498 to 1.  Try decreasing dt.  If that doesn't eliminate this warning, it may be due to extreme parameter values and/or bugs in your model spefication.\n",
      "Warning: Renormalizing probability density from 1.026989247936363 to 1.  Try decreasing dt.  If that doesn't eliminate this warning, it may be due to extreme parameter values and/or bugs in your model spefication.\n"
     ]
    },
    {
     "name": "stdout",
     "output_type": "stream",
     "text": [
      "25\n"
     ]
    },
    {
     "name": "stderr",
     "output_type": "stream",
     "text": [
      "Warning: Renormalizing probability density from 1.0110805203812774 to 1.  Try decreasing dt.  If that doesn't eliminate this warning, it may be due to extreme parameter values and/or bugs in your model spefication.\n",
      "Warning: Renormalizing probability density from 1.0126425702147677 to 1.  Try decreasing dt.  If that doesn't eliminate this warning, it may be due to extreme parameter values and/or bugs in your model spefication.\n",
      "Warning: Renormalizing probability density from 1.0329550635815008 to 1.  Try decreasing dt.  If that doesn't eliminate this warning, it may be due to extreme parameter values and/or bugs in your model spefication.\n",
      "Warning: Renormalizing probability density from 1.0140151613118251 to 1.  Try decreasing dt.  If that doesn't eliminate this warning, it may be due to extreme parameter values and/or bugs in your model spefication.\n",
      "Warning: Renormalizing probability density from 1.0129210053026692 to 1.  Try decreasing dt.  If that doesn't eliminate this warning, it may be due to extreme parameter values and/or bugs in your model spefication.\n",
      "Warning: Renormalizing probability density from 1.0122958090179075 to 1.  Try decreasing dt.  If that doesn't eliminate this warning, it may be due to extreme parameter values and/or bugs in your model spefication.\n",
      "Warning: Renormalizing probability density from 1.0229524650139634 to 1.  Try decreasing dt.  If that doesn't eliminate this warning, it may be due to extreme parameter values and/or bugs in your model spefication.\n",
      "Warning: Renormalizing probability density from 1.0419791898811184 to 1.  Try decreasing dt.  If that doesn't eliminate this warning, it may be due to extreme parameter values and/or bugs in your model spefication.\n",
      "Warning: Renormalizing probability density from 1.030923321037004 to 1.  Try decreasing dt.  If that doesn't eliminate this warning, it may be due to extreme parameter values and/or bugs in your model spefication.\n",
      "Warning: Renormalizing probability density from 1.010378403368839 to 1.  Try decreasing dt.  If that doesn't eliminate this warning, it may be due to extreme parameter values and/or bugs in your model spefication.\n",
      "Warning: Renormalizing probability density from 1.011029012727437 to 1.  Try decreasing dt.  If that doesn't eliminate this warning, it may be due to extreme parameter values and/or bugs in your model spefication.\n",
      "Warning: Renormalizing probability density from 1.0145346931899775 to 1.  Try decreasing dt.  If that doesn't eliminate this warning, it may be due to extreme parameter values and/or bugs in your model spefication.\n",
      "Warning: Renormalizing probability density from 1.0278752639643924 to 1.  Try decreasing dt.  If that doesn't eliminate this warning, it may be due to extreme parameter values and/or bugs in your model spefication.\n",
      "Warning: Renormalizing probability density from 1.0107416490513303 to 1.  Try decreasing dt.  If that doesn't eliminate this warning, it may be due to extreme parameter values and/or bugs in your model spefication.\n",
      "Warning: Renormalizing probability density from 1.0170514359035723 to 1.  Try decreasing dt.  If that doesn't eliminate this warning, it may be due to extreme parameter values and/or bugs in your model spefication.\n",
      "Warning: Renormalizing probability density from 1.0188559706075992 to 1.  Try decreasing dt.  If that doesn't eliminate this warning, it may be due to extreme parameter values and/or bugs in your model spefication.\n",
      "Warning: Renormalizing probability density from 1.0437963603926192 to 1.  Try decreasing dt.  If that doesn't eliminate this warning, it may be due to extreme parameter values and/or bugs in your model spefication.\n",
      "Warning: Renormalizing probability density from 1.0413362782301234 to 1.  Try decreasing dt.  If that doesn't eliminate this warning, it may be due to extreme parameter values and/or bugs in your model spefication.\n",
      "Warning: Renormalizing probability density from 1.0100678496421158 to 1.  Try decreasing dt.  If that doesn't eliminate this warning, it may be due to extreme parameter values and/or bugs in your model spefication.\n",
      "Warning: Renormalizing probability density from 1.0142726781138252 to 1.  Try decreasing dt.  If that doesn't eliminate this warning, it may be due to extreme parameter values and/or bugs in your model spefication.\n",
      "Warning: Renormalizing probability density from 1.017320725318984 to 1.  Try decreasing dt.  If that doesn't eliminate this warning, it may be due to extreme parameter values and/or bugs in your model spefication.\n",
      "Warning: Renormalizing probability density from 1.011025232724359 to 1.  Try decreasing dt.  If that doesn't eliminate this warning, it may be due to extreme parameter values and/or bugs in your model spefication.\n",
      "Warning: Renormalizing probability density from 1.035198365728508 to 1.  Try decreasing dt.  If that doesn't eliminate this warning, it may be due to extreme parameter values and/or bugs in your model spefication.\n",
      "Warning: Renormalizing probability density from 1.011961843223883 to 1.  Try decreasing dt.  If that doesn't eliminate this warning, it may be due to extreme parameter values and/or bugs in your model spefication.\n",
      "Warning: Renormalizing probability density from 1.012809339304635 to 1.  Try decreasing dt.  If that doesn't eliminate this warning, it may be due to extreme parameter values and/or bugs in your model spefication.\n",
      "Warning: Renormalizing probability density from 1.0253207464701442 to 1.  Try decreasing dt.  If that doesn't eliminate this warning, it may be due to extreme parameter values and/or bugs in your model spefication.\n",
      "Warning: Renormalizing probability density from 1.053851140163351 to 1.  Try decreasing dt.  If that doesn't eliminate this warning, it may be due to extreme parameter values and/or bugs in your model spefication.\n",
      "Warning: Renormalizing probability density from 1.0161793886745254 to 1.  Try decreasing dt.  If that doesn't eliminate this warning, it may be due to extreme parameter values and/or bugs in your model spefication.\n",
      "Warning: Renormalizing probability density from 1.026376122536298 to 1.  Try decreasing dt.  If that doesn't eliminate this warning, it may be due to extreme parameter values and/or bugs in your model spefication.\n",
      "Warning: Renormalizing probability density from 1.0234808312349049 to 1.  Try decreasing dt.  If that doesn't eliminate this warning, it may be due to extreme parameter values and/or bugs in your model spefication.\n",
      "Warning: Renormalizing probability density from 1.0109743650458562 to 1.  Try decreasing dt.  If that doesn't eliminate this warning, it may be due to extreme parameter values and/or bugs in your model spefication.\n",
      "Warning: Renormalizing probability density from 1.01023018729913 to 1.  Try decreasing dt.  If that doesn't eliminate this warning, it may be due to extreme parameter values and/or bugs in your model spefication.\n",
      "Warning: Renormalizing probability density from 1.019045927022576 to 1.  Try decreasing dt.  If that doesn't eliminate this warning, it may be due to extreme parameter values and/or bugs in your model spefication.\n",
      "Warning: Renormalizing probability density from 1.0171683540207603 to 1.  Try decreasing dt.  If that doesn't eliminate this warning, it may be due to extreme parameter values and/or bugs in your model spefication.\n",
      "Warning: Renormalizing probability density from 1.0101178169691836 to 1.  Try decreasing dt.  If that doesn't eliminate this warning, it may be due to extreme parameter values and/or bugs in your model spefication.\n",
      "Warning: Renormalizing probability density from 1.0101119741598015 to 1.  Try decreasing dt.  If that doesn't eliminate this warning, it may be due to extreme parameter values and/or bugs in your model spefication.\n",
      "Warning: Renormalizing probability density from 1.0101178169691836 to 1.  Try decreasing dt.  If that doesn't eliminate this warning, it may be due to extreme parameter values and/or bugs in your model spefication.\n",
      "Warning: Renormalizing probability density from 1.0107005317287534 to 1.  Try decreasing dt.  If that doesn't eliminate this warning, it may be due to extreme parameter values and/or bugs in your model spefication.\n",
      "Warning: Renormalizing probability density from 1.0107005317287534 to 1.  Try decreasing dt.  If that doesn't eliminate this warning, it may be due to extreme parameter values and/or bugs in your model spefication.\n"
     ]
    },
    {
     "name": "stderr",
     "output_type": "stream",
     "text": [
      "Warning: Renormalizing probability density from 1.0100334973363292 to 1.  Try decreasing dt.  If that doesn't eliminate this warning, it may be due to extreme parameter values and/or bugs in your model spefication.\n",
      "Warning: Renormalizing probability density from 1.0235281282811566 to 1.  Try decreasing dt.  If that doesn't eliminate this warning, it may be due to extreme parameter values and/or bugs in your model spefication.\n",
      "Warning: Renormalizing probability density from 1.0101658066896382 to 1.  Try decreasing dt.  If that doesn't eliminate this warning, it may be due to extreme parameter values and/or bugs in your model spefication.\n",
      "Warning: Renormalizing probability density from 1.0105097177875806 to 1.  Try decreasing dt.  If that doesn't eliminate this warning, it may be due to extreme parameter values and/or bugs in your model spefication.\n",
      "Warning: Renormalizing probability density from 1.0493621185264803 to 1.  Try decreasing dt.  If that doesn't eliminate this warning, it may be due to extreme parameter values and/or bugs in your model spefication.\n",
      "Warning: Renormalizing probability density from 1.0210239916690425 to 1.  Try decreasing dt.  If that doesn't eliminate this warning, it may be due to extreme parameter values and/or bugs in your model spefication.\n",
      "Warning: Renormalizing probability density from 1.011146959360208 to 1.  Try decreasing dt.  If that doesn't eliminate this warning, it may be due to extreme parameter values and/or bugs in your model spefication.\n",
      "Warning: Renormalizing probability density from 1.011146959360208 to 1.  Try decreasing dt.  If that doesn't eliminate this warning, it may be due to extreme parameter values and/or bugs in your model spefication.\n",
      "Warning: Renormalizing probability density from 1.011146959360208 to 1.  Try decreasing dt.  If that doesn't eliminate this warning, it may be due to extreme parameter values and/or bugs in your model spefication.\n",
      "Warning: Renormalizing probability density from 1.011146959360208 to 1.  Try decreasing dt.  If that doesn't eliminate this warning, it may be due to extreme parameter values and/or bugs in your model spefication.\n",
      "Warning: Renormalizing probability density from 1.011146959360208 to 1.  Try decreasing dt.  If that doesn't eliminate this warning, it may be due to extreme parameter values and/or bugs in your model spefication.\n",
      "Warning: Renormalizing probability density from 1.01114695896176 to 1.  Try decreasing dt.  If that doesn't eliminate this warning, it may be due to extreme parameter values and/or bugs in your model spefication.\n",
      "Warning: Renormalizing probability density from 1.01114695896176 to 1.  Try decreasing dt.  If that doesn't eliminate this warning, it may be due to extreme parameter values and/or bugs in your model spefication.\n",
      "Warning: Renormalizing probability density from 1.011146959360208 to 1.  Try decreasing dt.  If that doesn't eliminate this warning, it may be due to extreme parameter values and/or bugs in your model spefication.\n",
      "Warning: Renormalizing probability density from 1.011146959360208 to 1.  Try decreasing dt.  If that doesn't eliminate this warning, it may be due to extreme parameter values and/or bugs in your model spefication.\n",
      "Warning: Renormalizing probability density from 1.011146959360208 to 1.  Try decreasing dt.  If that doesn't eliminate this warning, it may be due to extreme parameter values and/or bugs in your model spefication.\n",
      "Warning: Renormalizing probability density from 1.011146959360208 to 1.  Try decreasing dt.  If that doesn't eliminate this warning, it may be due to extreme parameter values and/or bugs in your model spefication.\n",
      "Warning: Renormalizing probability density from 1.011146959360208 to 1.  Try decreasing dt.  If that doesn't eliminate this warning, it may be due to extreme parameter values and/or bugs in your model spefication.\n",
      "Info: Params [0.09467016 0.82350619 1.61641337 0.4759146  0.11891277] gave 1335.3799578863704\n",
      "Warning: dt is large.  Estimated pdfs may be imprecise.  Decrease dt to 0.01 or less.\n",
      "Warning: Renormalizing probability density from 1.0194863589772478 to 1.  Try decreasing dt.  If that doesn't eliminate this warning, it may be due to extreme parameter values and/or bugs in your model spefication.\n",
      "Warning: Renormalizing probability density from 1.0399921194481268 to 1.  Try decreasing dt.  If that doesn't eliminate this warning, it may be due to extreme parameter values and/or bugs in your model spefication.\n",
      "Warning: Renormalizing probability density from 1.0100089205572 to 1.  Try decreasing dt.  If that doesn't eliminate this warning, it may be due to extreme parameter values and/or bugs in your model spefication.\n",
      "Warning: Renormalizing probability density from 1.043862089482263 to 1.  Try decreasing dt.  If that doesn't eliminate this warning, it may be due to extreme parameter values and/or bugs in your model spefication.\n",
      "Warning: Renormalizing probability density from 1.011053638009057 to 1.  Try decreasing dt.  If that doesn't eliminate this warning, it may be due to extreme parameter values and/or bugs in your model spefication.\n",
      "Warning: Renormalizing probability density from 1.0110461617661197 to 1.  Try decreasing dt.  If that doesn't eliminate this warning, it may be due to extreme parameter values and/or bugs in your model spefication.\n"
     ]
    },
    {
     "name": "stdout",
     "output_type": "stream",
     "text": [
      "26\n"
     ]
    },
    {
     "name": "stderr",
     "output_type": "stream",
     "text": [
      "Info: Params [0.19800479 1.39343545 2.84523422 0.44874462 0.96220674] gave 895.1322604972653\n",
      "Warning: dt is large.  Estimated pdfs may be imprecise.  Decrease dt to 0.01 or less.\n",
      "Warning: Renormalizing probability density from 1.0102337798545808 to 1.  Try decreasing dt.  If that doesn't eliminate this warning, it may be due to extreme parameter values and/or bugs in your model spefication.\n",
      "Warning: Renormalizing probability density from 1.0202279272352195 to 1.  Try decreasing dt.  If that doesn't eliminate this warning, it may be due to extreme parameter values and/or bugs in your model spefication.\n",
      "Warning: Renormalizing probability density from 1.0223956184226155 to 1.  Try decreasing dt.  If that doesn't eliminate this warning, it may be due to extreme parameter values and/or bugs in your model spefication.\n",
      "Warning: Renormalizing probability density from 1.0535213739794569 to 1.  Try decreasing dt.  If that doesn't eliminate this warning, it may be due to extreme parameter values and/or bugs in your model spefication.\n",
      "Warning: Renormalizing probability density from 1.0282968153280898 to 1.  Try decreasing dt.  If that doesn't eliminate this warning, it may be due to extreme parameter values and/or bugs in your model spefication.\n",
      "Warning: Renormalizing probability density from 1.020941871064717 to 1.  Try decreasing dt.  If that doesn't eliminate this warning, it may be due to extreme parameter values and/or bugs in your model spefication.\n",
      "Warning: Renormalizing probability density from 1.0122582466767338 to 1.  Try decreasing dt.  If that doesn't eliminate this warning, it may be due to extreme parameter values and/or bugs in your model spefication.\n",
      "Warning: Renormalizing probability density from 1.0308130620694231 to 1.  Try decreasing dt.  If that doesn't eliminate this warning, it may be due to extreme parameter values and/or bugs in your model spefication.\n",
      "Warning: Renormalizing probability density from 1.0105566503169257 to 1.  Try decreasing dt.  If that doesn't eliminate this warning, it may be due to extreme parameter values and/or bugs in your model spefication.\n",
      "Warning: Renormalizing probability density from 1.0118506123222681 to 1.  Try decreasing dt.  If that doesn't eliminate this warning, it may be due to extreme parameter values and/or bugs in your model spefication.\n",
      "Warning: Renormalizing probability density from 1.0110580770417896 to 1.  Try decreasing dt.  If that doesn't eliminate this warning, it may be due to extreme parameter values and/or bugs in your model spefication.\n"
     ]
    },
    {
     "name": "stdout",
     "output_type": "stream",
     "text": [
      "27\n"
     ]
    },
    {
     "name": "stderr",
     "output_type": "stream",
     "text": [
      "Warning: Renormalizing probability density from 1.0479076863397843 to 1.  Try decreasing dt.  If that doesn't eliminate this warning, it may be due to extreme parameter values and/or bugs in your model spefication.\n",
      "Warning: Renormalizing probability density from 1.0479076862659233 to 1.  Try decreasing dt.  If that doesn't eliminate this warning, it may be due to extreme parameter values and/or bugs in your model spefication.\n",
      "Warning: Renormalizing probability density from 1.0479076863397843 to 1.  Try decreasing dt.  If that doesn't eliminate this warning, it may be due to extreme parameter values and/or bugs in your model spefication.\n",
      "Warning: Renormalizing probability density from 1.0479076908844007 to 1.  Try decreasing dt.  If that doesn't eliminate this warning, it may be due to extreme parameter values and/or bugs in your model spefication.\n",
      "Warning: Renormalizing probability density from 1.0479076863397843 to 1.  Try decreasing dt.  If that doesn't eliminate this warning, it may be due to extreme parameter values and/or bugs in your model spefication.\n",
      "Warning: Renormalizing probability density from 1.0479076863397843 to 1.  Try decreasing dt.  If that doesn't eliminate this warning, it may be due to extreme parameter values and/or bugs in your model spefication.\n",
      "Info: Params [0.21036784 1.28159114 3.60539954 0.10401209 0.99060501] gave 1039.1143364876075\n",
      "Warning: dt is large.  Estimated pdfs may be imprecise.  Decrease dt to 0.01 or less.\n",
      "Warning: Renormalizing probability density from 1.0167115128152473 to 1.  Try decreasing dt.  If that doesn't eliminate this warning, it may be due to extreme parameter values and/or bugs in your model spefication.\n",
      "Warning: Renormalizing probability density from 1.0480485039343501 to 1.  Try decreasing dt.  If that doesn't eliminate this warning, it may be due to extreme parameter values and/or bugs in your model spefication.\n",
      "Warning: Renormalizing probability density from 1.0484217838909708 to 1.  Try decreasing dt.  If that doesn't eliminate this warning, it may be due to extreme parameter values and/or bugs in your model spefication.\n",
      "Warning: Renormalizing probability density from 1.010950528943683 to 1.  Try decreasing dt.  If that doesn't eliminate this warning, it may be due to extreme parameter values and/or bugs in your model spefication.\n",
      "Warning: Renormalizing probability density from 1.019498029669402 to 1.  Try decreasing dt.  If that doesn't eliminate this warning, it may be due to extreme parameter values and/or bugs in your model spefication.\n",
      "Warning: Renormalizing probability density from 1.0552386378694332 to 1.  Try decreasing dt.  If that doesn't eliminate this warning, it may be due to extreme parameter values and/or bugs in your model spefication.\n",
      "Warning: Renormalizing probability density from 1.0121946745311405 to 1.  Try decreasing dt.  If that doesn't eliminate this warning, it may be due to extreme parameter values and/or bugs in your model spefication.\n",
      "Warning: Renormalizing probability density from 1.0208252405477107 to 1.  Try decreasing dt.  If that doesn't eliminate this warning, it may be due to extreme parameter values and/or bugs in your model spefication.\n",
      "Warning: Renormalizing probability density from 1.011524363764359 to 1.  Try decreasing dt.  If that doesn't eliminate this warning, it may be due to extreme parameter values and/or bugs in your model spefication.\n",
      "Warning: Renormalizing probability density from 1.0167115128152473 to 1.  Try decreasing dt.  If that doesn't eliminate this warning, it may be due to extreme parameter values and/or bugs in your model spefication.\n",
      "Warning: Renormalizing probability density from 1.0210467706158295 to 1.  Try decreasing dt.  If that doesn't eliminate this warning, it may be due to extreme parameter values and/or bugs in your model spefication.\n",
      "Warning: Renormalizing probability density from 1.0244011572681773 to 1.  Try decreasing dt.  If that doesn't eliminate this warning, it may be due to extreme parameter values and/or bugs in your model spefication.\n",
      "Warning: Renormalizing probability density from 1.0107075905455183 to 1.  Try decreasing dt.  If that doesn't eliminate this warning, it may be due to extreme parameter values and/or bugs in your model spefication.\n"
     ]
    },
    {
     "name": "stdout",
     "output_type": "stream",
     "text": [
      "28\n"
     ]
    },
    {
     "name": "stderr",
     "output_type": "stream",
     "text": [
      "Warning: Renormalizing probability density from 1.010209288354181 to 1.  Try decreasing dt.  If that doesn't eliminate this warning, it may be due to extreme parameter values and/or bugs in your model spefication.\n",
      "Info: Params [0.11355714 1.97498622 4.01971092 0.99322436 0.76835338] gave 1110.7633993435034\n",
      "Warning: dt is large.  Estimated pdfs may be imprecise.  Decrease dt to 0.01 or less.\n",
      "Warning: Renormalizing probability density from 1.0507939679341827 to 1.  Try decreasing dt.  If that doesn't eliminate this warning, it may be due to extreme parameter values and/or bugs in your model spefication.\n",
      "Warning: Renormalizing probability density from 1.0254707924183644 to 1.  Try decreasing dt.  If that doesn't eliminate this warning, it may be due to extreme parameter values and/or bugs in your model spefication.\n",
      "Warning: Renormalizing probability density from 1.0439530557869279 to 1.  Try decreasing dt.  If that doesn't eliminate this warning, it may be due to extreme parameter values and/or bugs in your model spefication.\n",
      "Warning: Renormalizing probability density from 1.0490741247917386 to 1.  Try decreasing dt.  If that doesn't eliminate this warning, it may be due to extreme parameter values and/or bugs in your model spefication.\n",
      "Warning: Renormalizing probability density from 1.017437617891592 to 1.  Try decreasing dt.  If that doesn't eliminate this warning, it may be due to extreme parameter values and/or bugs in your model spefication.\n",
      "Warning: Renormalizing probability density from 1.01498120253394 to 1.  Try decreasing dt.  If that doesn't eliminate this warning, it may be due to extreme parameter values and/or bugs in your model spefication.\n",
      "Warning: Renormalizing probability density from 1.0203410787070675 to 1.  Try decreasing dt.  If that doesn't eliminate this warning, it may be due to extreme parameter values and/or bugs in your model spefication.\n",
      "Warning: Renormalizing probability density from 1.018082081419572 to 1.  Try decreasing dt.  If that doesn't eliminate this warning, it may be due to extreme parameter values and/or bugs in your model spefication.\n"
     ]
    },
    {
     "name": "stdout",
     "output_type": "stream",
     "text": [
      "29\n"
     ]
    },
    {
     "name": "stderr",
     "output_type": "stream",
     "text": [
      "Warning: Renormalizing probability density from 1.011146959360208 to 1.  Try decreasing dt.  If that doesn't eliminate this warning, it may be due to extreme parameter values and/or bugs in your model spefication.\n",
      "Warning: Renormalizing probability density from 1.011146959360208 to 1.  Try decreasing dt.  If that doesn't eliminate this warning, it may be due to extreme parameter values and/or bugs in your model spefication.\n",
      "Warning: Renormalizing probability density from 1.011146959360208 to 1.  Try decreasing dt.  If that doesn't eliminate this warning, it may be due to extreme parameter values and/or bugs in your model spefication.\n",
      "Warning: Renormalizing probability density from 1.01114695896176 to 1.  Try decreasing dt.  If that doesn't eliminate this warning, it may be due to extreme parameter values and/or bugs in your model spefication.\n",
      "Warning: Renormalizing probability density from 1.011146959360208 to 1.  Try decreasing dt.  If that doesn't eliminate this warning, it may be due to extreme parameter values and/or bugs in your model spefication.\n",
      "Warning: Renormalizing probability density from 1.011146959360208 to 1.  Try decreasing dt.  If that doesn't eliminate this warning, it may be due to extreme parameter values and/or bugs in your model spefication.\n",
      "Info: Params [0.19724805 2.8277236  2.50431166 0.94193883 0.97563546] gave 1024.7582570084326\n",
      "Warning: dt is large.  Estimated pdfs may be imprecise.  Decrease dt to 0.01 or less.\n",
      "Warning: Renormalizing probability density from 1.0326813577304257 to 1.  Try decreasing dt.  If that doesn't eliminate this warning, it may be due to extreme parameter values and/or bugs in your model spefication.\n",
      "Warning: Renormalizing probability density from 1.0136744164371796 to 1.  Try decreasing dt.  If that doesn't eliminate this warning, it may be due to extreme parameter values and/or bugs in your model spefication.\n",
      "Warning: Renormalizing probability density from 1.011570933383075 to 1.  Try decreasing dt.  If that doesn't eliminate this warning, it may be due to extreme parameter values and/or bugs in your model spefication.\n",
      "Warning: Renormalizing probability density from 1.0203812120701843 to 1.  Try decreasing dt.  If that doesn't eliminate this warning, it may be due to extreme parameter values and/or bugs in your model spefication.\n",
      "Warning: Renormalizing probability density from 1.0242949445293308 to 1.  Try decreasing dt.  If that doesn't eliminate this warning, it may be due to extreme parameter values and/or bugs in your model spefication.\n",
      "Warning: Renormalizing probability density from 1.013948662999392 to 1.  Try decreasing dt.  If that doesn't eliminate this warning, it may be due to extreme parameter values and/or bugs in your model spefication.\n",
      "Warning: Renormalizing probability density from 1.0123961516828286 to 1.  Try decreasing dt.  If that doesn't eliminate this warning, it may be due to extreme parameter values and/or bugs in your model spefication.\n",
      "Warning: Renormalizing probability density from 1.0237218036368836 to 1.  Try decreasing dt.  If that doesn't eliminate this warning, it may be due to extreme parameter values and/or bugs in your model spefication.\n",
      "Warning: Renormalizing probability density from 1.0138925529914693 to 1.  Try decreasing dt.  If that doesn't eliminate this warning, it may be due to extreme parameter values and/or bugs in your model spefication.\n",
      "Warning: Renormalizing probability density from 1.0167833578765246 to 1.  Try decreasing dt.  If that doesn't eliminate this warning, it may be due to extreme parameter values and/or bugs in your model spefication.\n",
      "Warning: Renormalizing probability density from 1.010251738758847 to 1.  Try decreasing dt.  If that doesn't eliminate this warning, it may be due to extreme parameter values and/or bugs in your model spefication.\n",
      "Warning: Renormalizing probability density from 1.0112267352257365 to 1.  Try decreasing dt.  If that doesn't eliminate this warning, it may be due to extreme parameter values and/or bugs in your model spefication.\n",
      "Warning: Renormalizing probability density from 1.013367194295131 to 1.  Try decreasing dt.  If that doesn't eliminate this warning, it may be due to extreme parameter values and/or bugs in your model spefication.\n",
      "Warning: Renormalizing probability density from 1.0139806975392431 to 1.  Try decreasing dt.  If that doesn't eliminate this warning, it may be due to extreme parameter values and/or bugs in your model spefication.\n",
      "Warning: Renormalizing probability density from 1.0217921398120906 to 1.  Try decreasing dt.  If that doesn't eliminate this warning, it may be due to extreme parameter values and/or bugs in your model spefication.\n",
      "Warning: Renormalizing probability density from 1.0134732342839117 to 1.  Try decreasing dt.  If that doesn't eliminate this warning, it may be due to extreme parameter values and/or bugs in your model spefication.\n",
      "Warning: Renormalizing probability density from 1.0343872334074884 to 1.  Try decreasing dt.  If that doesn't eliminate this warning, it may be due to extreme parameter values and/or bugs in your model spefication.\n",
      "Warning: Renormalizing probability density from 1.021138002996556 to 1.  Try decreasing dt.  If that doesn't eliminate this warning, it may be due to extreme parameter values and/or bugs in your model spefication.\n",
      "Warning: Renormalizing probability density from 1.0139538628341371 to 1.  Try decreasing dt.  If that doesn't eliminate this warning, it may be due to extreme parameter values and/or bugs in your model spefication.\n",
      "Warning: Renormalizing probability density from 1.011221966875736 to 1.  Try decreasing dt.  If that doesn't eliminate this warning, it may be due to extreme parameter values and/or bugs in your model spefication.\n",
      "Warning: Renormalizing probability density from 1.010229128328221 to 1.  Try decreasing dt.  If that doesn't eliminate this warning, it may be due to extreme parameter values and/or bugs in your model spefication.\n"
     ]
    },
    {
     "name": "stdout",
     "output_type": "stream",
     "text": [
      "30\n"
     ]
    },
    {
     "name": "stderr",
     "output_type": "stream",
     "text": [
      "Warning: Renormalizing probability density from 1.0281025008514224 to 1.  Try decreasing dt.  If that doesn't eliminate this warning, it may be due to extreme parameter values and/or bugs in your model spefication.\n",
      "Warning: Renormalizing probability density from 1.0110304379602204 to 1.  Try decreasing dt.  If that doesn't eliminate this warning, it may be due to extreme parameter values and/or bugs in your model spefication.\n",
      "Warning: Renormalizing probability density from 1.0274914468338523 to 1.  Try decreasing dt.  If that doesn't eliminate this warning, it may be due to extreme parameter values and/or bugs in your model spefication.\n",
      "Warning: Renormalizing probability density from 1.0171113707341641 to 1.  Try decreasing dt.  If that doesn't eliminate this warning, it may be due to extreme parameter values and/or bugs in your model spefication.\n",
      "Warning: Renormalizing probability density from 1.0521432747660011 to 1.  Try decreasing dt.  If that doesn't eliminate this warning, it may be due to extreme parameter values and/or bugs in your model spefication.\n",
      "Warning: Renormalizing probability density from 1.0125414277341223 to 1.  Try decreasing dt.  If that doesn't eliminate this warning, it may be due to extreme parameter values and/or bugs in your model spefication.\n",
      "Warning: Renormalizing probability density from 1.0191003492604898 to 1.  Try decreasing dt.  If that doesn't eliminate this warning, it may be due to extreme parameter values and/or bugs in your model spefication.\n",
      "Warning: Renormalizing probability density from 1.0108127841494956 to 1.  Try decreasing dt.  If that doesn't eliminate this warning, it may be due to extreme parameter values and/or bugs in your model spefication.\n",
      "Warning: Renormalizing probability density from 1.042711799346866 to 1.  Try decreasing dt.  If that doesn't eliminate this warning, it may be due to extreme parameter values and/or bugs in your model spefication.\n",
      "Warning: Renormalizing probability density from 1.041260540495635 to 1.  Try decreasing dt.  If that doesn't eliminate this warning, it may be due to extreme parameter values and/or bugs in your model spefication.\n",
      "Warning: Renormalizing probability density from 1.0106907955383773 to 1.  Try decreasing dt.  If that doesn't eliminate this warning, it may be due to extreme parameter values and/or bugs in your model spefication.\n",
      "Warning: Renormalizing probability density from 1.010808626448891 to 1.  Try decreasing dt.  If that doesn't eliminate this warning, it may be due to extreme parameter values and/or bugs in your model spefication.\n",
      "Warning: Renormalizing probability density from 1.0117285251492325 to 1.  Try decreasing dt.  If that doesn't eliminate this warning, it may be due to extreme parameter values and/or bugs in your model spefication.\n",
      "Warning: Renormalizing probability density from 1.0306474154699714 to 1.  Try decreasing dt.  If that doesn't eliminate this warning, it may be due to extreme parameter values and/or bugs in your model spefication.\n",
      "Warning: Renormalizing probability density from 1.022908069126717 to 1.  Try decreasing dt.  If that doesn't eliminate this warning, it may be due to extreme parameter values and/or bugs in your model spefication.\n",
      "Warning: Renormalizing probability density from 1.0258907007098574 to 1.  Try decreasing dt.  If that doesn't eliminate this warning, it may be due to extreme parameter values and/or bugs in your model spefication.\n",
      "Warning: Renormalizing probability density from 1.0172821632875275 to 1.  Try decreasing dt.  If that doesn't eliminate this warning, it may be due to extreme parameter values and/or bugs in your model spefication.\n",
      "Warning: Renormalizing probability density from 1.0148982820568777 to 1.  Try decreasing dt.  If that doesn't eliminate this warning, it may be due to extreme parameter values and/or bugs in your model spefication.\n",
      "Info: Params [0.26629661 0.7645011  1.95084944 0.10542845 0.80364606] gave 613.6140602925162\n",
      "Warning: dt is large.  Estimated pdfs may be imprecise.  Decrease dt to 0.01 or less.\n",
      "Warning: Renormalizing probability density from 1.0104830553900004 to 1.  Try decreasing dt.  If that doesn't eliminate this warning, it may be due to extreme parameter values and/or bugs in your model spefication.\n",
      "Warning: Renormalizing probability density from 1.01150649972888 to 1.  Try decreasing dt.  If that doesn't eliminate this warning, it may be due to extreme parameter values and/or bugs in your model spefication.\n",
      "Warning: Renormalizing probability density from 1.011041510915713 to 1.  Try decreasing dt.  If that doesn't eliminate this warning, it may be due to extreme parameter values and/or bugs in your model spefication.\n",
      "Warning: Renormalizing probability density from 1.0121910849426499 to 1.  Try decreasing dt.  If that doesn't eliminate this warning, it may be due to extreme parameter values and/or bugs in your model spefication.\n",
      "Warning: Renormalizing probability density from 1.0104830553900004 to 1.  Try decreasing dt.  If that doesn't eliminate this warning, it may be due to extreme parameter values and/or bugs in your model spefication.\n",
      "Warning: Renormalizing probability density from 1.0151626180389075 to 1.  Try decreasing dt.  If that doesn't eliminate this warning, it may be due to extreme parameter values and/or bugs in your model spefication.\n",
      "Warning: Renormalizing probability density from 1.0317237523691503 to 1.  Try decreasing dt.  If that doesn't eliminate this warning, it may be due to extreme parameter values and/or bugs in your model spefication.\n",
      "Warning: Renormalizing probability density from 1.0184907167649184 to 1.  Try decreasing dt.  If that doesn't eliminate this warning, it may be due to extreme parameter values and/or bugs in your model spefication.\n",
      "Warning: Renormalizing probability density from 1.0209908911708012 to 1.  Try decreasing dt.  If that doesn't eliminate this warning, it may be due to extreme parameter values and/or bugs in your model spefication.\n",
      "Warning: Renormalizing probability density from 1.012829095948992 to 1.  Try decreasing dt.  If that doesn't eliminate this warning, it may be due to extreme parameter values and/or bugs in your model spefication.\n",
      "Warning: Renormalizing probability density from 1.0150615160492857 to 1.  Try decreasing dt.  If that doesn't eliminate this warning, it may be due to extreme parameter values and/or bugs in your model spefication.\n",
      "Warning: Renormalizing probability density from 1.0203414458399538 to 1.  Try decreasing dt.  If that doesn't eliminate this warning, it may be due to extreme parameter values and/or bugs in your model spefication.\n",
      "Warning: Renormalizing probability density from 1.0197592398989725 to 1.  Try decreasing dt.  If that doesn't eliminate this warning, it may be due to extreme parameter values and/or bugs in your model spefication.\n",
      "Warning: Renormalizing probability density from 1.0124701369771403 to 1.  Try decreasing dt.  If that doesn't eliminate this warning, it may be due to extreme parameter values and/or bugs in your model spefication.\n",
      "Warning: Renormalizing probability density from 1.0519882460573775 to 1.  Try decreasing dt.  If that doesn't eliminate this warning, it may be due to extreme parameter values and/or bugs in your model spefication.\n",
      "Warning: Renormalizing probability density from 1.010168327365217 to 1.  Try decreasing dt.  If that doesn't eliminate this warning, it may be due to extreme parameter values and/or bugs in your model spefication.\n"
     ]
    },
    {
     "name": "stdout",
     "output_type": "stream",
     "text": [
      "31\n"
     ]
    },
    {
     "name": "stderr",
     "output_type": "stream",
     "text": [
      "Warning: Renormalizing probability density from 1.0250293248911788 to 1.  Try decreasing dt.  If that doesn't eliminate this warning, it may be due to extreme parameter values and/or bugs in your model spefication.\n",
      "Warning: Renormalizing probability density from 1.0110249418883708 to 1.  Try decreasing dt.  If that doesn't eliminate this warning, it may be due to extreme parameter values and/or bugs in your model spefication.\n",
      "Warning: Renormalizing probability density from 1.0115932380505295 to 1.  Try decreasing dt.  If that doesn't eliminate this warning, it may be due to extreme parameter values and/or bugs in your model spefication.\n",
      "Warning: Renormalizing probability density from 1.0238418167487247 to 1.  Try decreasing dt.  If that doesn't eliminate this warning, it may be due to extreme parameter values and/or bugs in your model spefication.\n",
      "Warning: Renormalizing probability density from 1.011146959360208 to 1.  Try decreasing dt.  If that doesn't eliminate this warning, it may be due to extreme parameter values and/or bugs in your model spefication.\n",
      "Warning: Renormalizing probability density from 1.011146959360208 to 1.  Try decreasing dt.  If that doesn't eliminate this warning, it may be due to extreme parameter values and/or bugs in your model spefication.\n",
      "Warning: Renormalizing probability density from 1.01114695896176 to 1.  Try decreasing dt.  If that doesn't eliminate this warning, it may be due to extreme parameter values and/or bugs in your model spefication.\n",
      "Warning: Renormalizing probability density from 1.011146959360208 to 1.  Try decreasing dt.  If that doesn't eliminate this warning, it may be due to extreme parameter values and/or bugs in your model spefication.\n",
      "Warning: Renormalizing probability density from 1.011146959360208 to 1.  Try decreasing dt.  If that doesn't eliminate this warning, it may be due to extreme parameter values and/or bugs in your model spefication.\n",
      "Warning: Renormalizing probability density from 1.011146959360208 to 1.  Try decreasing dt.  If that doesn't eliminate this warning, it may be due to extreme parameter values and/or bugs in your model spefication.\n",
      "Info: Params [0.15341501 1.26533241 2.97536986 0.13386964 0.12120503] gave 1010.9061635964639\n",
      "Warning: dt is large.  Estimated pdfs may be imprecise.  Decrease dt to 0.01 or less.\n",
      "Warning: Renormalizing probability density from 1.020521995282956 to 1.  Try decreasing dt.  If that doesn't eliminate this warning, it may be due to extreme parameter values and/or bugs in your model spefication.\n",
      "Warning: Renormalizing probability density from 1.04435202496507 to 1.  Try decreasing dt.  If that doesn't eliminate this warning, it may be due to extreme parameter values and/or bugs in your model spefication.\n",
      "Warning: Renormalizing probability density from 1.0125399293431403 to 1.  Try decreasing dt.  If that doesn't eliminate this warning, it may be due to extreme parameter values and/or bugs in your model spefication.\n",
      "Warning: Renormalizing probability density from 1.0206350473514512 to 1.  Try decreasing dt.  If that doesn't eliminate this warning, it may be due to extreme parameter values and/or bugs in your model spefication.\n",
      "Warning: Renormalizing probability density from 1.028424813216497 to 1.  Try decreasing dt.  If that doesn't eliminate this warning, it may be due to extreme parameter values and/or bugs in your model spefication.\n",
      "Warning: Renormalizing probability density from 1.0195542375939948 to 1.  Try decreasing dt.  If that doesn't eliminate this warning, it may be due to extreme parameter values and/or bugs in your model spefication.\n",
      "Warning: Renormalizing probability density from 1.0118015496297446 to 1.  Try decreasing dt.  If that doesn't eliminate this warning, it may be due to extreme parameter values and/or bugs in your model spefication.\n",
      "Warning: Renormalizing probability density from 1.0157130922373572 to 1.  Try decreasing dt.  If that doesn't eliminate this warning, it may be due to extreme parameter values and/or bugs in your model spefication.\n",
      "Warning: Renormalizing probability density from 1.01344778125248 to 1.  Try decreasing dt.  If that doesn't eliminate this warning, it may be due to extreme parameter values and/or bugs in your model spefication.\n",
      "Warning: Renormalizing probability density from 1.01260161330282 to 1.  Try decreasing dt.  If that doesn't eliminate this warning, it may be due to extreme parameter values and/or bugs in your model spefication.\n",
      "Warning: Renormalizing probability density from 1.0190430165451636 to 1.  Try decreasing dt.  If that doesn't eliminate this warning, it may be due to extreme parameter values and/or bugs in your model spefication.\n",
      "Warning: Renormalizing probability density from 1.0112193607926911 to 1.  Try decreasing dt.  If that doesn't eliminate this warning, it may be due to extreme parameter values and/or bugs in your model spefication.\n",
      "Warning: Renormalizing probability density from 1.0122683401905004 to 1.  Try decreasing dt.  If that doesn't eliminate this warning, it may be due to extreme parameter values and/or bugs in your model spefication.\n",
      "Warning: Renormalizing probability density from 1.0176635631450242 to 1.  Try decreasing dt.  If that doesn't eliminate this warning, it may be due to extreme parameter values and/or bugs in your model spefication.\n",
      "Warning: Renormalizing probability density from 1.0117123561305168 to 1.  Try decreasing dt.  If that doesn't eliminate this warning, it may be due to extreme parameter values and/or bugs in your model spefication.\n",
      "Warning: Renormalizing probability density from 1.0129879285524712 to 1.  Try decreasing dt.  If that doesn't eliminate this warning, it may be due to extreme parameter values and/or bugs in your model spefication.\n",
      "Warning: Renormalizing probability density from 1.0152981982930374 to 1.  Try decreasing dt.  If that doesn't eliminate this warning, it may be due to extreme parameter values and/or bugs in your model spefication.\n"
     ]
    },
    {
     "name": "stdout",
     "output_type": "stream",
     "text": [
      "32\n"
     ]
    },
    {
     "name": "stderr",
     "output_type": "stream",
     "text": [
      "Warning: Renormalizing probability density from 1.011465487055445 to 1.  Try decreasing dt.  If that doesn't eliminate this warning, it may be due to extreme parameter values and/or bugs in your model spefication.\n",
      "Warning: Renormalizing probability density from 1.0173381524152327 to 1.  Try decreasing dt.  If that doesn't eliminate this warning, it may be due to extreme parameter values and/or bugs in your model spefication.\n",
      "Warning: Renormalizing probability density from 1.0109882762170976 to 1.  Try decreasing dt.  If that doesn't eliminate this warning, it may be due to extreme parameter values and/or bugs in your model spefication.\n",
      "Warning: Renormalizing probability density from 1.0105376372775234 to 1.  Try decreasing dt.  If that doesn't eliminate this warning, it may be due to extreme parameter values and/or bugs in your model spefication.\n",
      "Warning: Renormalizing probability density from 1.0178475070507382 to 1.  Try decreasing dt.  If that doesn't eliminate this warning, it may be due to extreme parameter values and/or bugs in your model spefication.\n",
      "Warning: Renormalizing probability density from 1.0129757468865777 to 1.  Try decreasing dt.  If that doesn't eliminate this warning, it may be due to extreme parameter values and/or bugs in your model spefication.\n",
      "Warning: Renormalizing probability density from 1.01123887577727 to 1.  Try decreasing dt.  If that doesn't eliminate this warning, it may be due to extreme parameter values and/or bugs in your model spefication.\n",
      "Warning: Renormalizing probability density from 1.0153492623426184 to 1.  Try decreasing dt.  If that doesn't eliminate this warning, it may be due to extreme parameter values and/or bugs in your model spefication.\n",
      "Warning: Renormalizing probability density from 1.0109775943684802 to 1.  Try decreasing dt.  If that doesn't eliminate this warning, it may be due to extreme parameter values and/or bugs in your model spefication.\n",
      "Warning: Renormalizing probability density from 1.0102003199778675 to 1.  Try decreasing dt.  If that doesn't eliminate this warning, it may be due to extreme parameter values and/or bugs in your model spefication.\n",
      "Warning: Renormalizing probability density from 1.010504893032209 to 1.  Try decreasing dt.  If that doesn't eliminate this warning, it may be due to extreme parameter values and/or bugs in your model spefication.\n",
      "Warning: Renormalizing probability density from 1.032455562445369 to 1.  Try decreasing dt.  If that doesn't eliminate this warning, it may be due to extreme parameter values and/or bugs in your model spefication.\n",
      "Warning: Renormalizing probability density from 1.0110457422437167 to 1.  Try decreasing dt.  If that doesn't eliminate this warning, it may be due to extreme parameter values and/or bugs in your model spefication.\n",
      "Warning: Renormalizing probability density from 1.0111305853083201 to 1.  Try decreasing dt.  If that doesn't eliminate this warning, it may be due to extreme parameter values and/or bugs in your model spefication.\n",
      "Warning: Renormalizing probability density from 1.0102138515442207 to 1.  Try decreasing dt.  If that doesn't eliminate this warning, it may be due to extreme parameter values and/or bugs in your model spefication.\n",
      "Warning: Renormalizing probability density from 1.0123654762082246 to 1.  Try decreasing dt.  If that doesn't eliminate this warning, it may be due to extreme parameter values and/or bugs in your model spefication.\n",
      "Warning: Renormalizing probability density from 1.0285463813868942 to 1.  Try decreasing dt.  If that doesn't eliminate this warning, it may be due to extreme parameter values and/or bugs in your model spefication.\n",
      "Warning: Renormalizing probability density from 1.0223392365019153 to 1.  Try decreasing dt.  If that doesn't eliminate this warning, it may be due to extreme parameter values and/or bugs in your model spefication.\n",
      "Warning: Renormalizing probability density from 1.0106845731349514 to 1.  Try decreasing dt.  If that doesn't eliminate this warning, it may be due to extreme parameter values and/or bugs in your model spefication.\n",
      "Warning: Renormalizing probability density from 1.0112807541490432 to 1.  Try decreasing dt.  If that doesn't eliminate this warning, it may be due to extreme parameter values and/or bugs in your model spefication.\n",
      "Warning: Renormalizing probability density from 1.0116468054429888 to 1.  Try decreasing dt.  If that doesn't eliminate this warning, it may be due to extreme parameter values and/or bugs in your model spefication.\n",
      "Warning: Renormalizing probability density from 1.0101262921924352 to 1.  Try decreasing dt.  If that doesn't eliminate this warning, it may be due to extreme parameter values and/or bugs in your model spefication.\n",
      "Warning: Renormalizing probability density from 1.011146959360208 to 1.  Try decreasing dt.  If that doesn't eliminate this warning, it may be due to extreme parameter values and/or bugs in your model spefication.\n",
      "Warning: Renormalizing probability density from 1.011146959360208 to 1.  Try decreasing dt.  If that doesn't eliminate this warning, it may be due to extreme parameter values and/or bugs in your model spefication.\n",
      "Warning: Renormalizing probability density from 1.01114695896176 to 1.  Try decreasing dt.  If that doesn't eliminate this warning, it may be due to extreme parameter values and/or bugs in your model spefication.\n",
      "Warning: Renormalizing probability density from 1.011146959360208 to 1.  Try decreasing dt.  If that doesn't eliminate this warning, it may be due to extreme parameter values and/or bugs in your model spefication.\n",
      "Warning: Renormalizing probability density from 1.011146959360208 to 1.  Try decreasing dt.  If that doesn't eliminate this warning, it may be due to extreme parameter values and/or bugs in your model spefication.\n",
      "Warning: Renormalizing probability density from 1.011146959360208 to 1.  Try decreasing dt.  If that doesn't eliminate this warning, it may be due to extreme parameter values and/or bugs in your model spefication.\n",
      "Info: Params [0.36799922 0.63432011 1.73013965 0.11698201 0.51156839] gave 519.8262251053362\n",
      "Warning: dt is large.  Estimated pdfs may be imprecise.  Decrease dt to 0.01 or less.\n",
      "Warning: Renormalizing probability density from 1.01130861109596 to 1.  Try decreasing dt.  If that doesn't eliminate this warning, it may be due to extreme parameter values and/or bugs in your model spefication.\n",
      "Warning: Renormalizing probability density from 1.0168914773268893 to 1.  Try decreasing dt.  If that doesn't eliminate this warning, it may be due to extreme parameter values and/or bugs in your model spefication.\n",
      "Warning: Renormalizing probability density from 1.0186452839181603 to 1.  Try decreasing dt.  If that doesn't eliminate this warning, it may be due to extreme parameter values and/or bugs in your model spefication.\n",
      "Warning: Renormalizing probability density from 1.0158954436616279 to 1.  Try decreasing dt.  If that doesn't eliminate this warning, it may be due to extreme parameter values and/or bugs in your model spefication.\n",
      "Warning: Renormalizing probability density from 1.0240661002613654 to 1.  Try decreasing dt.  If that doesn't eliminate this warning, it may be due to extreme parameter values and/or bugs in your model spefication.\n",
      "Warning: Renormalizing probability density from 1.0188828008382214 to 1.  Try decreasing dt.  If that doesn't eliminate this warning, it may be due to extreme parameter values and/or bugs in your model spefication.\n",
      "Warning: Renormalizing probability density from 1.0220515524205018 to 1.  Try decreasing dt.  If that doesn't eliminate this warning, it may be due to extreme parameter values and/or bugs in your model spefication.\n",
      "Warning: Renormalizing probability density from 1.016331513487465 to 1.  Try decreasing dt.  If that doesn't eliminate this warning, it may be due to extreme parameter values and/or bugs in your model spefication.\n",
      "Warning: Renormalizing probability density from 1.025883548345119 to 1.  Try decreasing dt.  If that doesn't eliminate this warning, it may be due to extreme parameter values and/or bugs in your model spefication.\n",
      "Warning: Renormalizing probability density from 1.0104967848227777 to 1.  Try decreasing dt.  If that doesn't eliminate this warning, it may be due to extreme parameter values and/or bugs in your model spefication.\n"
     ]
    },
    {
     "name": "stderr",
     "output_type": "stream",
     "text": [
      "Warning: Renormalizing probability density from 1.0149555114050965 to 1.  Try decreasing dt.  If that doesn't eliminate this warning, it may be due to extreme parameter values and/or bugs in your model spefication.\n",
      "Warning: Renormalizing probability density from 1.0155013960185397 to 1.  Try decreasing dt.  If that doesn't eliminate this warning, it may be due to extreme parameter values and/or bugs in your model spefication.\n",
      "Warning: Renormalizing probability density from 1.032800664484676 to 1.  Try decreasing dt.  If that doesn't eliminate this warning, it may be due to extreme parameter values and/or bugs in your model spefication.\n",
      "Warning: Renormalizing probability density from 1.0115067233107407 to 1.  Try decreasing dt.  If that doesn't eliminate this warning, it may be due to extreme parameter values and/or bugs in your model spefication.\n",
      "Warning: Renormalizing probability density from 1.0129935210496466 to 1.  Try decreasing dt.  If that doesn't eliminate this warning, it may be due to extreme parameter values and/or bugs in your model spefication.\n",
      "Warning: Renormalizing probability density from 1.019482725697945 to 1.  Try decreasing dt.  If that doesn't eliminate this warning, it may be due to extreme parameter values and/or bugs in your model spefication.\n",
      "Warning: Renormalizing probability density from 1.025853266893279 to 1.  Try decreasing dt.  If that doesn't eliminate this warning, it may be due to extreme parameter values and/or bugs in your model spefication.\n",
      "Warning: Renormalizing probability density from 1.012401268016109 to 1.  Try decreasing dt.  If that doesn't eliminate this warning, it may be due to extreme parameter values and/or bugs in your model spefication.\n",
      "Warning: Renormalizing probability density from 1.0138311815813692 to 1.  Try decreasing dt.  If that doesn't eliminate this warning, it may be due to extreme parameter values and/or bugs in your model spefication.\n",
      "Warning: Renormalizing probability density from 1.011991076831248 to 1.  Try decreasing dt.  If that doesn't eliminate this warning, it may be due to extreme parameter values and/or bugs in your model spefication.\n"
     ]
    },
    {
     "name": "stdout",
     "output_type": "stream",
     "text": [
      "33\n"
     ]
    },
    {
     "name": "stderr",
     "output_type": "stream",
     "text": [
      "Warning: Renormalizing probability density from 1.0153361752887777 to 1.  Try decreasing dt.  If that doesn't eliminate this warning, it may be due to extreme parameter values and/or bugs in your model spefication.\n",
      "Warning: Renormalizing probability density from 1.0177577644343203 to 1.  Try decreasing dt.  If that doesn't eliminate this warning, it may be due to extreme parameter values and/or bugs in your model spefication.\n",
      "Warning: Renormalizing probability density from 1.0275335023765022 to 1.  Try decreasing dt.  If that doesn't eliminate this warning, it may be due to extreme parameter values and/or bugs in your model spefication.\n",
      "Warning: Renormalizing probability density from 1.0104004161961169 to 1.  Try decreasing dt.  If that doesn't eliminate this warning, it may be due to extreme parameter values and/or bugs in your model spefication.\n",
      "Warning: Renormalizing probability density from 1.049434169140737 to 1.  Try decreasing dt.  If that doesn't eliminate this warning, it may be due to extreme parameter values and/or bugs in your model spefication.\n",
      "Warning: Renormalizing probability density from 1.0152479967846255 to 1.  Try decreasing dt.  If that doesn't eliminate this warning, it may be due to extreme parameter values and/or bugs in your model spefication.\n",
      "Warning: Renormalizing probability density from 1.02319850272479 to 1.  Try decreasing dt.  If that doesn't eliminate this warning, it may be due to extreme parameter values and/or bugs in your model spefication.\n",
      "Warning: Renormalizing probability density from 1.0309595311722197 to 1.  Try decreasing dt.  If that doesn't eliminate this warning, it may be due to extreme parameter values and/or bugs in your model spefication.\n",
      "Warning: Renormalizing probability density from 1.030959531262886 to 1.  Try decreasing dt.  If that doesn't eliminate this warning, it may be due to extreme parameter values and/or bugs in your model spefication.\n",
      "Warning: Renormalizing probability density from 1.0309595311722197 to 1.  Try decreasing dt.  If that doesn't eliminate this warning, it may be due to extreme parameter values and/or bugs in your model spefication.\n",
      "Warning: Renormalizing probability density from 1.0309595321398055 to 1.  Try decreasing dt.  If that doesn't eliminate this warning, it may be due to extreme parameter values and/or bugs in your model spefication.\n",
      "Warning: Renormalizing probability density from 1.0309595311722197 to 1.  Try decreasing dt.  If that doesn't eliminate this warning, it may be due to extreme parameter values and/or bugs in your model spefication.\n",
      "Warning: Renormalizing probability density from 1.0309595311722197 to 1.  Try decreasing dt.  If that doesn't eliminate this warning, it may be due to extreme parameter values and/or bugs in your model spefication.\n",
      "Info: Params [0.08134935 1.10019953 1.70927215 0.18103284 0.9671715 ] gave 702.3210788044232\n",
      "Warning: dt is large.  Estimated pdfs may be imprecise.  Decrease dt to 0.01 or less.\n",
      "Warning: Renormalizing probability density from 1.010563367921282 to 1.  Try decreasing dt.  If that doesn't eliminate this warning, it may be due to extreme parameter values and/or bugs in your model spefication.\n",
      "Warning: Renormalizing probability density from 1.0145027972264586 to 1.  Try decreasing dt.  If that doesn't eliminate this warning, it may be due to extreme parameter values and/or bugs in your model spefication.\n",
      "Warning: Renormalizing probability density from 1.0385882470601902 to 1.  Try decreasing dt.  If that doesn't eliminate this warning, it may be due to extreme parameter values and/or bugs in your model spefication.\n",
      "Warning: Renormalizing probability density from 1.0134711592524968 to 1.  Try decreasing dt.  If that doesn't eliminate this warning, it may be due to extreme parameter values and/or bugs in your model spefication.\n",
      "Warning: Renormalizing probability density from 1.0532472556780965 to 1.  Try decreasing dt.  If that doesn't eliminate this warning, it may be due to extreme parameter values and/or bugs in your model spefication.\n",
      "Warning: Renormalizing probability density from 1.01561934778248 to 1.  Try decreasing dt.  If that doesn't eliminate this warning, it may be due to extreme parameter values and/or bugs in your model spefication.\n",
      "Warning: Renormalizing probability density from 1.0118736861668787 to 1.  Try decreasing dt.  If that doesn't eliminate this warning, it may be due to extreme parameter values and/or bugs in your model spefication.\n",
      "Warning: Renormalizing probability density from 1.0453461527263848 to 1.  Try decreasing dt.  If that doesn't eliminate this warning, it may be due to extreme parameter values and/or bugs in your model spefication.\n",
      "Warning: Renormalizing probability density from 1.0102813623209312 to 1.  Try decreasing dt.  If that doesn't eliminate this warning, it may be due to extreme parameter values and/or bugs in your model spefication.\n",
      "Warning: Renormalizing probability density from 1.01069441478381 to 1.  Try decreasing dt.  If that doesn't eliminate this warning, it may be due to extreme parameter values and/or bugs in your model spefication.\n",
      "Warning: Renormalizing probability density from 1.0129874085873445 to 1.  Try decreasing dt.  If that doesn't eliminate this warning, it may be due to extreme parameter values and/or bugs in your model spefication.\n",
      "Warning: Renormalizing probability density from 1.0100051541638042 to 1.  Try decreasing dt.  If that doesn't eliminate this warning, it may be due to extreme parameter values and/or bugs in your model spefication.\n",
      "Warning: Renormalizing probability density from 1.0206718451246464 to 1.  Try decreasing dt.  If that doesn't eliminate this warning, it may be due to extreme parameter values and/or bugs in your model spefication.\n",
      "Warning: Renormalizing probability density from 1.0114823960577246 to 1.  Try decreasing dt.  If that doesn't eliminate this warning, it may be due to extreme parameter values and/or bugs in your model spefication.\n",
      "Warning: Renormalizing probability density from 1.0270036490325354 to 1.  Try decreasing dt.  If that doesn't eliminate this warning, it may be due to extreme parameter values and/or bugs in your model spefication.\n"
     ]
    },
    {
     "name": "stdout",
     "output_type": "stream",
     "text": [
      "34\n"
     ]
    },
    {
     "name": "stderr",
     "output_type": "stream",
     "text": [
      "Warning: Renormalizing probability density from 1.0239837105662435 to 1.  Try decreasing dt.  If that doesn't eliminate this warning, it may be due to extreme parameter values and/or bugs in your model spefication.\n",
      "Warning: Renormalizing probability density from 1.021260575139019 to 1.  Try decreasing dt.  If that doesn't eliminate this warning, it may be due to extreme parameter values and/or bugs in your model spefication.\n",
      "Warning: Renormalizing probability density from 1.0479076863397843 to 1.  Try decreasing dt.  If that doesn't eliminate this warning, it may be due to extreme parameter values and/or bugs in your model spefication.\n",
      "Warning: Renormalizing probability density from 1.0479076863397843 to 1.  Try decreasing dt.  If that doesn't eliminate this warning, it may be due to extreme parameter values and/or bugs in your model spefication.\n",
      "Warning: Renormalizing probability density from 1.0479076862659233 to 1.  Try decreasing dt.  If that doesn't eliminate this warning, it may be due to extreme parameter values and/or bugs in your model spefication.\n",
      "Warning: Renormalizing probability density from 1.0479076862659233 to 1.  Try decreasing dt.  If that doesn't eliminate this warning, it may be due to extreme parameter values and/or bugs in your model spefication.\n",
      "Warning: Renormalizing probability density from 1.0479076863397843 to 1.  Try decreasing dt.  If that doesn't eliminate this warning, it may be due to extreme parameter values and/or bugs in your model spefication.\n",
      "Warning: Renormalizing probability density from 1.0479076908844007 to 1.  Try decreasing dt.  If that doesn't eliminate this warning, it may be due to extreme parameter values and/or bugs in your model spefication.\n",
      "Warning: Renormalizing probability density from 1.0479076908844007 to 1.  Try decreasing dt.  If that doesn't eliminate this warning, it may be due to extreme parameter values and/or bugs in your model spefication.\n",
      "Warning: Renormalizing probability density from 1.0479076863397843 to 1.  Try decreasing dt.  If that doesn't eliminate this warning, it may be due to extreme parameter values and/or bugs in your model spefication.\n",
      "Warning: Renormalizing probability density from 1.0479076863397843 to 1.  Try decreasing dt.  If that doesn't eliminate this warning, it may be due to extreme parameter values and/or bugs in your model spefication.\n",
      "Warning: Renormalizing probability density from 1.0479076863397843 to 1.  Try decreasing dt.  If that doesn't eliminate this warning, it may be due to extreme parameter values and/or bugs in your model spefication.\n",
      "Warning: Renormalizing probability density from 1.0479076863397843 to 1.  Try decreasing dt.  If that doesn't eliminate this warning, it may be due to extreme parameter values and/or bugs in your model spefication.\n",
      "Warning: Renormalizing probability density from 1.0479076863397843 to 1.  Try decreasing dt.  If that doesn't eliminate this warning, it may be due to extreme parameter values and/or bugs in your model spefication.\n",
      "Info: Params [0.30941458 1.52263658 3.55372249 0.76318415 0.84716292] gave 915.2052393681263\n",
      "Warning: dt is large.  Estimated pdfs may be imprecise.  Decrease dt to 0.01 or less.\n",
      "Warning: Renormalizing probability density from 1.0304389310718445 to 1.  Try decreasing dt.  If that doesn't eliminate this warning, it may be due to extreme parameter values and/or bugs in your model spefication.\n",
      "Warning: Renormalizing probability density from 1.0522817528481956 to 1.  Try decreasing dt.  If that doesn't eliminate this warning, it may be due to extreme parameter values and/or bugs in your model spefication.\n",
      "Warning: Renormalizing probability density from 1.0416601930815708 to 1.  Try decreasing dt.  If that doesn't eliminate this warning, it may be due to extreme parameter values and/or bugs in your model spefication.\n",
      "Warning: Renormalizing probability density from 1.0510791487458853 to 1.  Try decreasing dt.  If that doesn't eliminate this warning, it may be due to extreme parameter values and/or bugs in your model spefication.\n",
      "Warning: Renormalizing probability density from 1.0197125977811938 to 1.  Try decreasing dt.  If that doesn't eliminate this warning, it may be due to extreme parameter values and/or bugs in your model spefication.\n",
      "Warning: Renormalizing probability density from 1.0112779230134947 to 1.  Try decreasing dt.  If that doesn't eliminate this warning, it may be due to extreme parameter values and/or bugs in your model spefication.\n",
      "Warning: Renormalizing probability density from 1.0131587286346948 to 1.  Try decreasing dt.  If that doesn't eliminate this warning, it may be due to extreme parameter values and/or bugs in your model spefication.\n",
      "Warning: Renormalizing probability density from 1.0145227438136741 to 1.  Try decreasing dt.  If that doesn't eliminate this warning, it may be due to extreme parameter values and/or bugs in your model spefication.\n",
      "Warning: Renormalizing probability density from 1.0483772675141556 to 1.  Try decreasing dt.  If that doesn't eliminate this warning, it may be due to extreme parameter values and/or bugs in your model spefication.\n",
      "Warning: Renormalizing probability density from 1.011784937684804 to 1.  Try decreasing dt.  If that doesn't eliminate this warning, it may be due to extreme parameter values and/or bugs in your model spefication.\n"
     ]
    },
    {
     "name": "stdout",
     "output_type": "stream",
     "text": [
      "35\n"
     ]
    },
    {
     "name": "stderr",
     "output_type": "stream",
     "text": [
      "Warning: Renormalizing probability density from 1.011146959360208 to 1.  Try decreasing dt.  If that doesn't eliminate this warning, it may be due to extreme parameter values and/or bugs in your model spefication.\n",
      "Warning: Renormalizing probability density from 1.011146959360208 to 1.  Try decreasing dt.  If that doesn't eliminate this warning, it may be due to extreme parameter values and/or bugs in your model spefication.\n",
      "Warning: Renormalizing probability density from 1.011146959360208 to 1.  Try decreasing dt.  If that doesn't eliminate this warning, it may be due to extreme parameter values and/or bugs in your model spefication.\n",
      "Warning: Renormalizing probability density from 1.011146959360208 to 1.  Try decreasing dt.  If that doesn't eliminate this warning, it may be due to extreme parameter values and/or bugs in your model spefication.\n",
      "Warning: Renormalizing probability density from 1.01114695896176 to 1.  Try decreasing dt.  If that doesn't eliminate this warning, it may be due to extreme parameter values and/or bugs in your model spefication.\n",
      "Warning: Renormalizing probability density from 1.011146959360208 to 1.  Try decreasing dt.  If that doesn't eliminate this warning, it may be due to extreme parameter values and/or bugs in your model spefication.\n",
      "Warning: Renormalizing probability density from 1.011146959360208 to 1.  Try decreasing dt.  If that doesn't eliminate this warning, it may be due to extreme parameter values and/or bugs in your model spefication.\n",
      "Warning: Renormalizing probability density from 1.01114695896176 to 1.  Try decreasing dt.  If that doesn't eliminate this warning, it may be due to extreme parameter values and/or bugs in your model spefication.\n",
      "Warning: Renormalizing probability density from 1.011146959360208 to 1.  Try decreasing dt.  If that doesn't eliminate this warning, it may be due to extreme parameter values and/or bugs in your model spefication.\n",
      "Warning: Renormalizing probability density from 1.011146959360208 to 1.  Try decreasing dt.  If that doesn't eliminate this warning, it may be due to extreme parameter values and/or bugs in your model spefication.\n",
      "Warning: Renormalizing probability density from 1.011146959360208 to 1.  Try decreasing dt.  If that doesn't eliminate this warning, it may be due to extreme parameter values and/or bugs in your model spefication.\n",
      "Warning: Renormalizing probability density from 1.011146959360208 to 1.  Try decreasing dt.  If that doesn't eliminate this warning, it may be due to extreme parameter values and/or bugs in your model spefication.\n",
      "Info: Params [0.28083257 2.38238278 3.39772357 0.47330658 0.54133849] gave 1066.7037326494126\n",
      "Warning: dt is large.  Estimated pdfs may be imprecise.  Decrease dt to 0.01 or less.\n",
      "Warning: Renormalizing probability density from 1.0158575177365439 to 1.  Try decreasing dt.  If that doesn't eliminate this warning, it may be due to extreme parameter values and/or bugs in your model spefication.\n",
      "Warning: Renormalizing probability density from 1.0414228227716786 to 1.  Try decreasing dt.  If that doesn't eliminate this warning, it may be due to extreme parameter values and/or bugs in your model spefication.\n",
      "Warning: Renormalizing probability density from 1.034569367648477 to 1.  Try decreasing dt.  If that doesn't eliminate this warning, it may be due to extreme parameter values and/or bugs in your model spefication.\n",
      "Warning: Renormalizing probability density from 1.0116417275628016 to 1.  Try decreasing dt.  If that doesn't eliminate this warning, it may be due to extreme parameter values and/or bugs in your model spefication.\n",
      "Warning: Renormalizing probability density from 1.014238793059347 to 1.  Try decreasing dt.  If that doesn't eliminate this warning, it may be due to extreme parameter values and/or bugs in your model spefication.\n",
      "Warning: Renormalizing probability density from 1.047035471142823 to 1.  Try decreasing dt.  If that doesn't eliminate this warning, it may be due to extreme parameter values and/or bugs in your model spefication.\n",
      "Warning: Renormalizing probability density from 1.0494197202616466 to 1.  Try decreasing dt.  If that doesn't eliminate this warning, it may be due to extreme parameter values and/or bugs in your model spefication.\n",
      "Warning: Renormalizing probability density from 1.0258138944596986 to 1.  Try decreasing dt.  If that doesn't eliminate this warning, it may be due to extreme parameter values and/or bugs in your model spefication.\n",
      "Warning: Renormalizing probability density from 1.0345179157508 to 1.  Try decreasing dt.  If that doesn't eliminate this warning, it may be due to extreme parameter values and/or bugs in your model spefication.\n",
      "Warning: Renormalizing probability density from 1.0158575177365439 to 1.  Try decreasing dt.  If that doesn't eliminate this warning, it may be due to extreme parameter values and/or bugs in your model spefication.\n",
      "Warning: Renormalizing probability density from 1.0177793393077217 to 1.  Try decreasing dt.  If that doesn't eliminate this warning, it may be due to extreme parameter values and/or bugs in your model spefication.\n",
      "Warning: Renormalizing probability density from 1.0144415583534876 to 1.  Try decreasing dt.  If that doesn't eliminate this warning, it may be due to extreme parameter values and/or bugs in your model spefication.\n",
      "Warning: Renormalizing probability density from 1.011139120693511 to 1.  Try decreasing dt.  If that doesn't eliminate this warning, it may be due to extreme parameter values and/or bugs in your model spefication.\n",
      "Warning: Renormalizing probability density from 1.010629856706957 to 1.  Try decreasing dt.  If that doesn't eliminate this warning, it may be due to extreme parameter values and/or bugs in your model spefication.\n",
      "Warning: Renormalizing probability density from 1.010344199627837 to 1.  Try decreasing dt.  If that doesn't eliminate this warning, it may be due to extreme parameter values and/or bugs in your model spefication.\n",
      "Warning: Renormalizing probability density from 1.011131590036439 to 1.  Try decreasing dt.  If that doesn't eliminate this warning, it may be due to extreme parameter values and/or bugs in your model spefication.\n",
      "Warning: Renormalizing probability density from 1.011176405817801 to 1.  Try decreasing dt.  If that doesn't eliminate this warning, it may be due to extreme parameter values and/or bugs in your model spefication.\n",
      "Warning: Renormalizing probability density from 1.0116331331492643 to 1.  Try decreasing dt.  If that doesn't eliminate this warning, it may be due to extreme parameter values and/or bugs in your model spefication.\n"
     ]
    },
    {
     "name": "stdout",
     "output_type": "stream",
     "text": [
      "36\n"
     ]
    },
    {
     "name": "stderr",
     "output_type": "stream",
     "text": [
      "Warning: Renormalizing probability density from 1.0253429112396124 to 1.  Try decreasing dt.  If that doesn't eliminate this warning, it may be due to extreme parameter values and/or bugs in your model spefication.\n",
      "Warning: Renormalizing probability density from 1.0457094385480812 to 1.  Try decreasing dt.  If that doesn't eliminate this warning, it may be due to extreme parameter values and/or bugs in your model spefication.\n",
      "Warning: Renormalizing probability density from 1.011146959360208 to 1.  Try decreasing dt.  If that doesn't eliminate this warning, it may be due to extreme parameter values and/or bugs in your model spefication.\n",
      "Warning: Renormalizing probability density from 1.011146959360208 to 1.  Try decreasing dt.  If that doesn't eliminate this warning, it may be due to extreme parameter values and/or bugs in your model spefication.\n",
      "Warning: Renormalizing probability density from 1.011146959360208 to 1.  Try decreasing dt.  If that doesn't eliminate this warning, it may be due to extreme parameter values and/or bugs in your model spefication.\n",
      "Warning: Renormalizing probability density from 1.01114695896176 to 1.  Try decreasing dt.  If that doesn't eliminate this warning, it may be due to extreme parameter values and/or bugs in your model spefication.\n",
      "Warning: Renormalizing probability density from 1.011146959360208 to 1.  Try decreasing dt.  If that doesn't eliminate this warning, it may be due to extreme parameter values and/or bugs in your model spefication.\n",
      "Warning: Renormalizing probability density from 1.011146959360208 to 1.  Try decreasing dt.  If that doesn't eliminate this warning, it may be due to extreme parameter values and/or bugs in your model spefication.\n",
      "Info: Params [0.14663183 1.5701938  1.65161736 0.96015424 0.98374355] gave 774.0391035150471\n",
      "Warning: dt is large.  Estimated pdfs may be imprecise.  Decrease dt to 0.01 or less.\n",
      "Warning: Renormalizing probability density from 1.020309108550737 to 1.  Try decreasing dt.  If that doesn't eliminate this warning, it may be due to extreme parameter values and/or bugs in your model spefication.\n",
      "Warning: Renormalizing probability density from 1.0188047061665428 to 1.  Try decreasing dt.  If that doesn't eliminate this warning, it may be due to extreme parameter values and/or bugs in your model spefication.\n",
      "Warning: Renormalizing probability density from 1.020309108550737 to 1.  Try decreasing dt.  If that doesn't eliminate this warning, it may be due to extreme parameter values and/or bugs in your model spefication.\n",
      "Warning: Renormalizing probability density from 1.0101903367742033 to 1.  Try decreasing dt.  If that doesn't eliminate this warning, it may be due to extreme parameter values and/or bugs in your model spefication.\n",
      "Warning: Renormalizing probability density from 1.0138298871672333 to 1.  Try decreasing dt.  If that doesn't eliminate this warning, it may be due to extreme parameter values and/or bugs in your model spefication.\n",
      "Warning: Renormalizing probability density from 1.011379435520415 to 1.  Try decreasing dt.  If that doesn't eliminate this warning, it may be due to extreme parameter values and/or bugs in your model spefication.\n",
      "Warning: Renormalizing probability density from 1.0132198966394579 to 1.  Try decreasing dt.  If that doesn't eliminate this warning, it may be due to extreme parameter values and/or bugs in your model spefication.\n",
      "Warning: Renormalizing probability density from 1.0108510598326215 to 1.  Try decreasing dt.  If that doesn't eliminate this warning, it may be due to extreme parameter values and/or bugs in your model spefication.\n",
      "Warning: Renormalizing probability density from 1.0102379373525503 to 1.  Try decreasing dt.  If that doesn't eliminate this warning, it may be due to extreme parameter values and/or bugs in your model spefication.\n"
     ]
    },
    {
     "name": "stdout",
     "output_type": "stream",
     "text": [
      "37\n"
     ]
    },
    {
     "name": "stderr",
     "output_type": "stream",
     "text": [
      "Warning: Renormalizing probability density from 1.0396309798530299 to 1.  Try decreasing dt.  If that doesn't eliminate this warning, it may be due to extreme parameter values and/or bugs in your model spefication.\n",
      "Warning: Renormalizing probability density from 1.0110783283829836 to 1.  Try decreasing dt.  If that doesn't eliminate this warning, it may be due to extreme parameter values and/or bugs in your model spefication.\n",
      "Warning: Renormalizing probability density from 1.011146959360208 to 1.  Try decreasing dt.  If that doesn't eliminate this warning, it may be due to extreme parameter values and/or bugs in your model spefication.\n",
      "Warning: Renormalizing probability density from 1.011146959360208 to 1.  Try decreasing dt.  If that doesn't eliminate this warning, it may be due to extreme parameter values and/or bugs in your model spefication.\n",
      "Warning: Renormalizing probability density from 1.011146959360208 to 1.  Try decreasing dt.  If that doesn't eliminate this warning, it may be due to extreme parameter values and/or bugs in your model spefication.\n",
      "Warning: Renormalizing probability density from 1.01114695896176 to 1.  Try decreasing dt.  If that doesn't eliminate this warning, it may be due to extreme parameter values and/or bugs in your model spefication.\n",
      "Warning: Renormalizing probability density from 1.011146959360208 to 1.  Try decreasing dt.  If that doesn't eliminate this warning, it may be due to extreme parameter values and/or bugs in your model spefication.\n",
      "Warning: Renormalizing probability density from 1.011146959360208 to 1.  Try decreasing dt.  If that doesn't eliminate this warning, it may be due to extreme parameter values and/or bugs in your model spefication.\n",
      "Info: Params [0.15343198 1.29949248 3.38133631 0.12334876 0.27650077] gave 1070.187674146396\n"
     ]
    },
    {
     "name": "stdout",
     "output_type": "stream",
     "text": [
      "           1    2    3    4         5    6    7    8    9    10  ...  \\\n",
      "Accuracy  1.0  1.0  1.0  1.0  1.037975  1.0  1.0  1.0  1.0  1.0  ...   \n",
      "Speed     1.0  1.0  1.0  1.0  1.000000  1.0  1.0  1.0  1.0  1.0  ...   \n",
      "\n",
      "                29   30   31        32   33   34   35        36   37        38  \n",
      "Accuracy  1.051282  1.0  1.0  1.012346  1.0  1.0  1.0  1.012346  1.0  1.078947  \n",
      "Speed     1.000000  1.0  1.0  1.000000  1.0  1.0  1.0  1.000000  1.0  1.000000  \n",
      "\n",
      "[2 rows x 38 columns]\n"
     ]
    }
   ],
   "source": [
    "data_dir = \"/Users/wangjiashun/Desktop/Research_on_SAT/datasets/transformed/Lerche2017/sub\"\n",
    "sample_size = 38\n",
    "\n",
    "df_all = pd.DataFrame()\n",
    "valid_ratio_dfs = pd.DataFrame()\n",
    "\n",
    "for i in range(sample_size):\n",
    "    print(i)\n",
    "    path = os.path.join(data_dir+str(i+1)+\".csv\")\n",
    "    df = pd.read_csv(path, sep = \",\")\n",
    "    \n",
    "    counts_before = df['Cond'].value_counts()\n",
    "    df = df[df[\"Time\"]<30]\n",
    "    counts_after = df['Cond'].value_counts()\n",
    "    valid_ratio = counts_before/counts_after\n",
    "    valid_ratio_df = valid_ratio.to_frame(i+1)\n",
    "    valid_ratio_dfs = pd.concat((valid_ratio_dfs,valid_ratio_df), axis = 1)\n",
    "    \n",
    "    samp = Sample.from_pandas_dataframe(df, rt_column_name=\"Time\", choice_column_name=\"Correct\")\n",
    "    df = get_DDM_result_sub_2a2ter(samp,dt=0.05,T_dur=30)\n",
    "    df_all = pd.concat((df_all,df))\n",
    "    \n",
    "df_OUM = df_all.copy()\n",
    "df_OUM.to_csv(\"Parameter Estimates/DDM2a2terresultLerche2017.csv\")\n",
    "print(valid_ratio_dfs)"
   ]
  },
  {
   "cell_type": "code",
   "execution_count": 10,
   "id": "c63aea59",
   "metadata": {},
   "outputs": [
    {
     "name": "stdout",
     "output_type": "stream",
     "text": [
      "0\n"
     ]
    },
    {
     "name": "stderr",
     "output_type": "stream",
     "text": [
      "Info: Params [1.69502057 0.58539508 0.6427016  0.23469818 0.3030367 ] gave -440.3578028142184\n"
     ]
    },
    {
     "name": "stdout",
     "output_type": "stream",
     "text": [
      "1\n"
     ]
    },
    {
     "name": "stderr",
     "output_type": "stream",
     "text": [
      "Info: Params [1.48507378 0.51189831 0.51013774 0.23894038 0.30142   ] gave -1181.4545643977417\n"
     ]
    },
    {
     "name": "stdout",
     "output_type": "stream",
     "text": [
      "2\n"
     ]
    },
    {
     "name": "stderr",
     "output_type": "stream",
     "text": [
      "Info: Params [0.40222508 0.5        0.5601697  0.16655468 0.1619011 ] gave 507.4325336780661\n"
     ]
    },
    {
     "name": "stdout",
     "output_type": "stream",
     "text": [
      "3\n"
     ]
    },
    {
     "name": "stderr",
     "output_type": "stream",
     "text": [
      "Info: Params [2.53648802 0.5        0.50096553 0.28812539 0.30773991] gave -3398.4706919018995\n"
     ]
    },
    {
     "name": "stdout",
     "output_type": "stream",
     "text": [
      "4\n"
     ]
    },
    {
     "name": "stderr",
     "output_type": "stream",
     "text": [
      "Info: Params [0.65520131 0.5        0.57228137 0.16704746 0.1622823 ] gave 173.21724099594138\n"
     ]
    },
    {
     "name": "stdout",
     "output_type": "stream",
     "text": [
      "5\n"
     ]
    },
    {
     "name": "stderr",
     "output_type": "stream",
     "text": [
      "Info: Params [2.23038337 0.51337155 0.5        0.2496826  0.27609655] gave -1413.316220040002\n"
     ]
    },
    {
     "name": "stdout",
     "output_type": "stream",
     "text": [
      "6\n"
     ]
    },
    {
     "name": "stderr",
     "output_type": "stream",
     "text": [
      "Info: Params [1.94441179 0.5        0.5        0.27742556 0.31894934] gave -2179.3752700753735\n"
     ]
    },
    {
     "name": "stdout",
     "output_type": "stream",
     "text": [
      "7\n"
     ]
    },
    {
     "name": "stderr",
     "output_type": "stream",
     "text": [
      "Info: Params [1.86191925 0.5        0.67370996 0.24807    0.26931109] gave -1523.9945801439487\n"
     ]
    },
    {
     "name": "stdout",
     "output_type": "stream",
     "text": [
      "8\n"
     ]
    },
    {
     "name": "stderr",
     "output_type": "stream",
     "text": [
      "Info: Params [1.92396275 0.53506356 0.55689041 0.27119677 0.29884804] gave -948.3823252216247\n"
     ]
    },
    {
     "name": "stdout",
     "output_type": "stream",
     "text": [
      "9\n"
     ]
    },
    {
     "name": "stderr",
     "output_type": "stream",
     "text": [
      "Info: Params [1.5815552  0.5        0.50881989 0.24331577 0.2746524 ] gave -1314.8880515260107\n"
     ]
    },
    {
     "name": "stdout",
     "output_type": "stream",
     "text": [
      "10\n"
     ]
    },
    {
     "name": "stderr",
     "output_type": "stream",
     "text": [
      "Info: Params [0.27740641 0.5        0.51016844 0.16627391 0.16555938] gave 100.69803698196868\n"
     ]
    },
    {
     "name": "stdout",
     "output_type": "stream",
     "text": [
      "11\n"
     ]
    },
    {
     "name": "stderr",
     "output_type": "stream",
     "text": [
      "Info: Params [1.19602139 0.5        0.7426724  0.21924173 0.2402178 ] gave 338.89409238900043\n"
     ]
    },
    {
     "name": "stdout",
     "output_type": "stream",
     "text": [
      "12\n"
     ]
    },
    {
     "name": "stderr",
     "output_type": "stream",
     "text": [
      "Info: Params [0.80027614 0.53785022 0.58070717 0.16700978 0.21098279] gave 580.4109872767028\n"
     ]
    },
    {
     "name": "stdout",
     "output_type": "stream",
     "text": [
      "13\n"
     ]
    },
    {
     "name": "stderr",
     "output_type": "stream",
     "text": [
      "Info: Params [0.38649005 0.5        0.5        0.16282431 0.17693542] gave -139.04031718527403\n"
     ]
    },
    {
     "name": "stdout",
     "output_type": "stream",
     "text": [
      "14\n"
     ]
    },
    {
     "name": "stderr",
     "output_type": "stream",
     "text": [
      "Info: Params [1.47617612 0.52456882 0.5        0.32881906 0.35489573] gave -578.244849439279\n"
     ]
    },
    {
     "name": "stdout",
     "output_type": "stream",
     "text": [
      "15\n"
     ]
    },
    {
     "name": "stderr",
     "output_type": "stream",
     "text": [
      "Info: Params [0.4342504  0.50484398 0.56089976 0.17460237 0.1915382 ] gave 570.6092928552005\n"
     ]
    },
    {
     "name": "stdout",
     "output_type": "stream",
     "text": [
      "16\n"
     ]
    },
    {
     "name": "stderr",
     "output_type": "stream",
     "text": [
      "Info: Params [0.83021325 0.5        0.50414827 0.16460526 0.17858544] gave -690.4462893562711\n"
     ]
    },
    {
     "name": "stdout",
     "output_type": "stream",
     "text": [
      "17\n"
     ]
    },
    {
     "name": "stderr",
     "output_type": "stream",
     "text": [
      "Info: Params [0.90445872 0.5        0.68354783 0.15436204 0.16830258] gave 786.7096549294124\n"
     ]
    },
    {
     "name": "stdout",
     "output_type": "stream",
     "text": [
      "18\n"
     ]
    },
    {
     "name": "stderr",
     "output_type": "stream",
     "text": [
      "Info: Params [2.45334509 0.63211472 0.6809505  0.40328523 0.39735999] gave -2077.261861564585\n"
     ]
    },
    {
     "name": "stdout",
     "output_type": "stream",
     "text": [
      "19\n"
     ]
    },
    {
     "name": "stderr",
     "output_type": "stream",
     "text": [
      "Info: Params [0.62854531 0.50158735 0.55030089 0.1785952  0.18180602] gave 16.09682617702756\n"
     ]
    },
    {
     "name": "stdout",
     "output_type": "stream",
     "text": [
      "20\n"
     ]
    },
    {
     "name": "stderr",
     "output_type": "stream",
     "text": [
      "Info: Params [0.23983849 0.5        0.5        0.16648976 0.16225924] gave -323.80778696928604\n"
     ]
    },
    {
     "name": "stdout",
     "output_type": "stream",
     "text": [
      "21\n"
     ]
    },
    {
     "name": "stderr",
     "output_type": "stream",
     "text": [
      "Info: Params [0.74854223 0.53259018 0.65808015 0.18637175 0.18162736] gave 1208.6957289724012\n"
     ]
    },
    {
     "name": "stdout",
     "output_type": "stream",
     "text": [
      "22\n"
     ]
    },
    {
     "name": "stderr",
     "output_type": "stream",
     "text": [
      "Info: Params [0.14658607 0.5        0.5        0.15864043 0.17403246] gave -428.37505997060043\n"
     ]
    },
    {
     "name": "stdout",
     "output_type": "stream",
     "text": [
      "23\n"
     ]
    },
    {
     "name": "stderr",
     "output_type": "stream",
     "text": [
      "Info: Params [0.51520522 0.5        0.59938417 0.18044779 0.1856261 ] gave 336.75666989936747\n"
     ]
    },
    {
     "name": "stdout",
     "output_type": "stream",
     "text": [
      "24\n"
     ]
    },
    {
     "name": "stderr",
     "output_type": "stream",
     "text": [
      "Info: Params [0.76269174 0.5        0.78342956 0.15367678 0.17672797] gave 553.9935178653508\n"
     ]
    },
    {
     "name": "stdout",
     "output_type": "stream",
     "text": [
      "25\n"
     ]
    },
    {
     "name": "stderr",
     "output_type": "stream",
     "text": [
      "Info: Params [0.96011849 0.50005888 0.54130838 0.19180874 0.17284012] gave -274.8792486118665\n"
     ]
    },
    {
     "name": "stdout",
     "output_type": "stream",
     "text": [
      "26\n"
     ]
    },
    {
     "name": "stderr",
     "output_type": "stream",
     "text": [
      "Info: Params [1.48006654 0.5        0.61440707 0.17589724 0.23573747] gave -424.8396249520648\n"
     ]
    },
    {
     "name": "stdout",
     "output_type": "stream",
     "text": [
      "27\n"
     ]
    },
    {
     "name": "stderr",
     "output_type": "stream",
     "text": [
      "Info: Params [0.16205182 0.5        0.5        0.18420771 0.21481047] gave -288.91732121879335\n"
     ]
    },
    {
     "name": "stdout",
     "output_type": "stream",
     "text": [
      "28\n"
     ]
    },
    {
     "name": "stderr",
     "output_type": "stream",
     "text": [
      "Info: Params [0.64189745 0.5        0.55467579 0.16604159 0.21530888] gave 237.54403843638786\n"
     ]
    },
    {
     "name": "stdout",
     "output_type": "stream",
     "text": [
      "29\n"
     ]
    },
    {
     "name": "stderr",
     "output_type": "stream",
     "text": [
      "Info: Params [0.21510954 0.50282136 0.56704763 0.17575161 0.17205657] gave 488.8543350905939\n"
     ]
    },
    {
     "name": "stdout",
     "output_type": "stream",
     "text": [
      "30\n"
     ]
    },
    {
     "name": "stderr",
     "output_type": "stream",
     "text": [
      "Info: Params [0.27265854 0.50000888 0.50011904 0.17840499 0.17245304] gave -39.22482316716259\n"
     ]
    },
    {
     "name": "stdout",
     "output_type": "stream",
     "text": [
      "31\n"
     ]
    },
    {
     "name": "stderr",
     "output_type": "stream",
     "text": [
      "Info: Params [0.40751335 0.5        0.5        0.17168311 0.18141965] gave 43.57854892280248\n"
     ]
    },
    {
     "name": "stdout",
     "output_type": "stream",
     "text": [
      "32\n"
     ]
    },
    {
     "name": "stderr",
     "output_type": "stream",
     "text": [
      "Info: Params [0.21377551 0.50279396 0.56704135 0.17440472 0.17433856] gave 488.85510719829307\n"
     ]
    },
    {
     "name": "stdout",
     "output_type": "stream",
     "text": [
      "33\n"
     ]
    },
    {
     "name": "stderr",
     "output_type": "stream",
     "text": [
      "Info: Params [0.5345301  0.5        0.78598044 0.1876661  0.18167157] gave 801.6271937845795\n"
     ]
    },
    {
     "name": "stdout",
     "output_type": "stream",
     "text": [
      "           1    2    3    4    5    6    7    8    9    10  ...   25   26  \\\n",
      "Speed     1.0  1.0  1.0  1.0  1.0  1.0  1.0  1.0  1.0  1.0  ...  1.0  1.0   \n",
      "Accuracy  1.0  1.0  1.0  1.0  1.0  1.0  1.0  1.0  1.0  1.0  ...  1.0  1.0   \n",
      "\n",
      "           27   28   29   30   31   32   33   34  \n",
      "Speed     1.0  1.0  1.0  1.0  1.0  1.0  1.0  1.0  \n",
      "Accuracy  1.0  1.0  1.0  1.0  1.0  1.0  1.0  1.0  \n",
      "\n",
      "[2 rows x 34 columns]\n"
     ]
    }
   ],
   "source": [
    "data_dir = \"/Users/wangjiashun/Desktop/Research_on_SAT/datasets/transformed/Rae2014/sub\"\n",
    "sample_size = 34\n",
    "\n",
    "df_all = pd.DataFrame()\n",
    "valid_ratio_dfs = pd.DataFrame()\n",
    "\n",
    "for i in range(sample_size):\n",
    "    print(i)\n",
    "    path = os.path.join(data_dir+str(i+1)+\".csv\")\n",
    "    df = pd.read_csv(path, sep = \",\")\n",
    "    \n",
    "    counts_before = df['Cond'].value_counts()\n",
    "    df = df[df[\"Time\"]<5]\n",
    "    counts_after = df['Cond'].value_counts()\n",
    "    valid_ratio = counts_before/counts_after\n",
    "    valid_ratio_df = valid_ratio.to_frame(i+1)\n",
    "    valid_ratio_dfs = pd.concat((valid_ratio_dfs,valid_ratio_df), axis = 1)\n",
    "    \n",
    "    samp = Sample.from_pandas_dataframe(df, rt_column_name=\"Time\", choice_column_name=\"Correct\")\n",
    "    df = get_DDM_result_sub_2a2ter(samp)\n",
    "    df_all = pd.concat((df_all,df))\n",
    "    \n",
    "df_OUM = df_all.copy()\n",
    "df_OUM.to_csv(\"Parameter Estimates/DDM2a2terresultRae2014.csv\")\n",
    "print(valid_ratio_dfs)"
   ]
  },
  {
   "cell_type": "code",
   "execution_count": 3,
   "id": "3284c710",
   "metadata": {
    "scrolled": true
   },
   "outputs": [
    {
     "name": "stdout",
     "output_type": "stream",
     "text": [
      "1\n"
     ]
    },
    {
     "name": "stderr",
     "output_type": "stream",
     "text": [
      "Info: Params [3.20715899 0.53900342 0.51790006 0.35531489 0.37498299] gave -272.064769541074\n"
     ]
    },
    {
     "name": "stdout",
     "output_type": "stream",
     "text": [
      "1\n"
     ]
    },
    {
     "name": "stderr",
     "output_type": "stream",
     "text": [
      "Info: Params [2.37158326 0.5        0.65821909 0.37343435 0.35309024] gave -136.83648372706597\n"
     ]
    },
    {
     "name": "stdout",
     "output_type": "stream",
     "text": [
      "1\n"
     ]
    },
    {
     "name": "stderr",
     "output_type": "stream",
     "text": [
      "Info: Params [1.33704829 0.51939959 0.54183869 0.3469343  0.38614303] gave -14.013061397154022\n"
     ]
    },
    {
     "name": "stdout",
     "output_type": "stream",
     "text": [
      "1\n"
     ]
    },
    {
     "name": "stderr",
     "output_type": "stream",
     "text": [
      "Info: Params [2.54697464 0.51622302 0.5        0.3468871  0.39600625] gave -178.70754506493776\n"
     ]
    },
    {
     "name": "stdout",
     "output_type": "stream",
     "text": [
      "1\n"
     ]
    },
    {
     "name": "stderr",
     "output_type": "stream",
     "text": [
      "Info: Params [2.69236379 0.54761451 0.58253988 0.35493714 0.3616534 ] gave -174.97639981803835\n"
     ]
    },
    {
     "name": "stdout",
     "output_type": "stream",
     "text": [
      "1\n"
     ]
    },
    {
     "name": "stderr",
     "output_type": "stream",
     "text": [
      "Info: Params [3.12364061 0.5892231  0.64659035 0.33731555 0.3597694 ] gave -227.67109893808393\n"
     ]
    },
    {
     "name": "stdout",
     "output_type": "stream",
     "text": [
      "3\n"
     ]
    },
    {
     "name": "stderr",
     "output_type": "stream",
     "text": [
      "Info: Params [3.00824049 0.56604615 0.79380251 0.31838979 0.3903156 ] gave -188.83709944109765\n"
     ]
    },
    {
     "name": "stdout",
     "output_type": "stream",
     "text": [
      "3\n"
     ]
    },
    {
     "name": "stderr",
     "output_type": "stream",
     "text": [
      "Info: Params [1.90899097 0.5186499  0.8367083  0.32030268 0.352614  ] gave -34.23261569127788\n"
     ]
    },
    {
     "name": "stdout",
     "output_type": "stream",
     "text": [
      "3\n"
     ]
    },
    {
     "name": "stderr",
     "output_type": "stream",
     "text": [
      "Info: Params [1.59527986 0.5501992  0.75798742 0.31436736 0.404657  ] gave 19.68515220383717\n"
     ]
    },
    {
     "name": "stdout",
     "output_type": "stream",
     "text": [
      "3\n"
     ]
    },
    {
     "name": "stderr",
     "output_type": "stream",
     "text": [
      "Info: Params [2.17036723 0.68838324 1.47912631 0.27163782 0.10287465] gave 30.603420644989008\n"
     ]
    },
    {
     "name": "stdout",
     "output_type": "stream",
     "text": [
      "3\n"
     ]
    },
    {
     "name": "stderr",
     "output_type": "stream",
     "text": [
      "Info: Params [2.18503064 0.57628035 1.02169635 0.30423045 0.33990968] gave -46.18269271913164\n"
     ]
    },
    {
     "name": "stdout",
     "output_type": "stream",
     "text": [
      "3\n"
     ]
    },
    {
     "name": "stderr",
     "output_type": "stream",
     "text": [
      "Info: Params [2.42426509 0.57783536 1.1078316  0.33322862 0.31992199] gave -71.77431179190395\n"
     ]
    },
    {
     "name": "stdout",
     "output_type": "stream",
     "text": [
      "4\n"
     ]
    },
    {
     "name": "stderr",
     "output_type": "stream",
     "text": [
      "Info: Params [3.99652082 0.50123776 0.86270638 0.32825931 0.30205766] gave -310.09249817481464\n"
     ]
    },
    {
     "name": "stdout",
     "output_type": "stream",
     "text": [
      "4\n"
     ]
    },
    {
     "name": "stderr",
     "output_type": "stream",
     "text": [
      "Info: Params [2.98551215 0.5        0.71039877 0.3296794  0.34543464] gave -218.6170794936466\n"
     ]
    },
    {
     "name": "stdout",
     "output_type": "stream",
     "text": [
      "4\n"
     ]
    },
    {
     "name": "stderr",
     "output_type": "stream",
     "text": [
      "Info: Params [1.92405292 0.5        0.63943727 0.32495822 0.3457173 ] gave -89.53398521766613\n"
     ]
    },
    {
     "name": "stdout",
     "output_type": "stream",
     "text": [
      "4\n"
     ]
    },
    {
     "name": "stderr",
     "output_type": "stream",
     "text": [
      "Info: Params [3.30711622 0.5        0.89084884 0.34072164 0.31347096] gave -240.2133652257346\n"
     ]
    },
    {
     "name": "stdout",
     "output_type": "stream",
     "text": [
      "4\n"
     ]
    },
    {
     "name": "stderr",
     "output_type": "stream",
     "text": [
      "Info: Params [2.8139311  0.5        0.66107988 0.32682676 0.3526497 ] gave -207.61168768342262\n"
     ]
    },
    {
     "name": "stdout",
     "output_type": "stream",
     "text": [
      "4\n"
     ]
    },
    {
     "name": "stderr",
     "output_type": "stream",
     "text": [
      "Info: Params [2.60691811 0.5        0.65485143 0.31452593 0.3459947 ] gave -191.2601746241367\n"
     ]
    },
    {
     "name": "stdout",
     "output_type": "stream",
     "text": [
      "5\n"
     ]
    },
    {
     "name": "stderr",
     "output_type": "stream",
     "text": [
      "Info: Params [4.10779135 0.52397056 1.20058522 0.31207996 0.31617419] gave -298.72925082402344\n"
     ]
    },
    {
     "name": "stdout",
     "output_type": "stream",
     "text": [
      "5\n"
     ]
    },
    {
     "name": "stderr",
     "output_type": "stream",
     "text": [
      "Info: Params [2.75165479 0.5        0.6605158  0.34505851 0.41749937] gave -193.19454827487905\n"
     ]
    },
    {
     "name": "stdout",
     "output_type": "stream",
     "text": [
      "5\n"
     ]
    },
    {
     "name": "stderr",
     "output_type": "stream",
     "text": [
      "Info: Params [2.61713394 0.52210337 0.60971013 0.33022473 0.45713577] gave -181.76204272056174\n"
     ]
    },
    {
     "name": "stdout",
     "output_type": "stream",
     "text": [
      "5\n"
     ]
    },
    {
     "name": "stderr",
     "output_type": "stream",
     "text": [
      "Info: Params [3.86293608 0.64216182 0.96223489 0.33704079 0.39419562] gave -269.3301630933844\n"
     ]
    },
    {
     "name": "stdout",
     "output_type": "stream",
     "text": [
      "5\n"
     ]
    },
    {
     "name": "stderr",
     "output_type": "stream",
     "text": [
      "Info: Params [3.10895613 0.5        0.78339264 0.36111667 0.4576237 ] gave -211.74752158204947\n"
     ]
    },
    {
     "name": "stdout",
     "output_type": "stream",
     "text": [
      "5\n"
     ]
    },
    {
     "name": "stderr",
     "output_type": "stream",
     "text": [
      "Info: Params [2.75037796 0.59196629 0.70253525 0.29344545 0.42558573] gave -176.4584014044533\n"
     ]
    },
    {
     "name": "stdout",
     "output_type": "stream",
     "text": [
      "6\n"
     ]
    },
    {
     "name": "stderr",
     "output_type": "stream",
     "text": [
      "Info: Params [2.74335533 0.57493034 0.62113733 0.25849601 0.36545827] gave -185.39083130670826\n"
     ]
    },
    {
     "name": "stdout",
     "output_type": "stream",
     "text": [
      "6\n"
     ]
    },
    {
     "name": "stderr",
     "output_type": "stream",
     "text": [
      "Info: Params [1.72555391 0.53966439 0.57444513 0.22782083 0.42500451] gave -53.30944705626882\n"
     ]
    },
    {
     "name": "stdout",
     "output_type": "stream",
     "text": [
      "6\n"
     ]
    },
    {
     "name": "stderr",
     "output_type": "stream",
     "text": [
      "Info: Params [1.08059776 0.55856126 0.57844315 0.20459862 0.42279178] gave 45.953982297560415\n"
     ]
    },
    {
     "name": "stdout",
     "output_type": "stream",
     "text": [
      "6\n"
     ]
    },
    {
     "name": "stderr",
     "output_type": "stream",
     "text": [
      "Info: Params [1.70158507 0.54727778 0.67030478 0.22615561 0.39506793] gave -10.997582356417915\n"
     ]
    },
    {
     "name": "stdout",
     "output_type": "stream",
     "text": [
      "6\n"
     ]
    },
    {
     "name": "stderr",
     "output_type": "stream",
     "text": [
      "Info: Params [1.68221034 0.50988012 0.62866917 0.27184088 0.3909328 ] gave -32.16449569944595\n"
     ]
    },
    {
     "name": "stdout",
     "output_type": "stream",
     "text": [
      "6\n"
     ]
    },
    {
     "name": "stderr",
     "output_type": "stream",
     "text": [
      "Info: Params [1.69933724 0.66203591 0.65492617 0.16107838 0.35758208] gave -0.5736099435023618\n"
     ]
    },
    {
     "name": "stdout",
     "output_type": "stream",
     "text": [
      "7\n"
     ]
    },
    {
     "name": "stderr",
     "output_type": "stream",
     "text": [
      "Info: Params [1.35726237 0.56934015 0.62004333 0.17309642 0.26340965] gave 22.68763258591039\n"
     ]
    },
    {
     "name": "stdout",
     "output_type": "stream",
     "text": [
      "7\n"
     ]
    },
    {
     "name": "stderr",
     "output_type": "stream",
     "text": [
      "Info: Params [0.88651703 0.5        0.54408268 0.2436637  0.32354182] gave 28.995205056340804\n"
     ]
    },
    {
     "name": "stdout",
     "output_type": "stream",
     "text": [
      "7\n"
     ]
    },
    {
     "name": "stderr",
     "output_type": "stream",
     "text": [
      "Info: Params [0.46451984 0.52592245 0.71443192 0.19492831 0.20463697] gave 161.01265535129843\n"
     ]
    },
    {
     "name": "stdout",
     "output_type": "stream",
     "text": [
      "7\n"
     ]
    },
    {
     "name": "stderr",
     "output_type": "stream",
     "text": [
      "Info: Params [1.64353736 0.54550265 0.71636548 0.23849981 0.3091574 ] gave -1.859573593269623\n"
     ]
    },
    {
     "name": "stdout",
     "output_type": "stream",
     "text": [
      "7\n"
     ]
    },
    {
     "name": "stderr",
     "output_type": "stream",
     "text": [
      "Info: Params [1.67378126 0.55721629 0.628292   0.22707627 0.34719662] gave -24.52726931740037\n"
     ]
    },
    {
     "name": "stdout",
     "output_type": "stream",
     "text": [
      "7\n"
     ]
    },
    {
     "name": "stderr",
     "output_type": "stream",
     "text": [
      "Info: Params [1.87200038 0.54876165 0.64406283 0.24407283 0.33860772] gave -52.599447086550704\n"
     ]
    },
    {
     "name": "stdout",
     "output_type": "stream",
     "text": [
      "8\n"
     ]
    },
    {
     "name": "stderr",
     "output_type": "stream",
     "text": [
      "Info: Params [1.40509449 0.64730508 0.79253335 0.1598158  0.41028015] gave 99.22182641797046\n"
     ]
    },
    {
     "name": "stdout",
     "output_type": "stream",
     "text": [
      "8\n"
     ]
    },
    {
     "name": "stderr",
     "output_type": "stream",
     "text": [
      "Info: Params [0.7119397  0.60177915 0.95079661 0.16297289 0.32232767] gave 240.0922686401322\n"
     ]
    },
    {
     "name": "stdout",
     "output_type": "stream",
     "text": [
      "8\n"
     ]
    },
    {
     "name": "stderr",
     "output_type": "stream",
     "text": [
      "Info: Params [0.29755386 0.62836382 0.88476098 0.16625759 0.30969403] gave 295.40392799439934\n"
     ]
    },
    {
     "name": "stdout",
     "output_type": "stream",
     "text": [
      "8\n"
     ]
    },
    {
     "name": "stderr",
     "output_type": "stream",
     "text": [
      "Info: Params [0.91205223 0.60583274 1.05113622 0.18471781 0.26084624] gave 249.18116011835394\n"
     ]
    },
    {
     "name": "stdout",
     "output_type": "stream",
     "text": [
      "8\n"
     ]
    },
    {
     "name": "stderr",
     "output_type": "stream",
     "text": [
      "Info: Params [1.08439922 0.58354332 1.24961219 0.19598853 0.11551574] gave 213.34893631448625\n"
     ]
    },
    {
     "name": "stdout",
     "output_type": "stream",
     "text": [
      "8\n"
     ]
    },
    {
     "name": "stderr",
     "output_type": "stream",
     "text": [
      "Info: Params [1.04691228 0.58910577 1.21309087 0.21655041 0.1180074 ] gave 219.59494776027296\n"
     ]
    },
    {
     "name": "stdout",
     "output_type": "stream",
     "text": [
      "9\n"
     ]
    },
    {
     "name": "stderr",
     "output_type": "stream",
     "text": [
      "Info: Params [3.16715419 0.5        0.83603803 0.37328676 0.38914744] gave -250.38790225801912\n"
     ]
    },
    {
     "name": "stdout",
     "output_type": "stream",
     "text": [
      "9\n"
     ]
    },
    {
     "name": "stderr",
     "output_type": "stream",
     "text": [
      "Info: Params [1.80127508 0.5        0.90512306 0.37127816 0.37902354] gave -21.55869559825114\n"
     ]
    },
    {
     "name": "stdout",
     "output_type": "stream",
     "text": [
      "9\n"
     ]
    },
    {
     "name": "stderr",
     "output_type": "stream",
     "text": [
      "Info: Params [1.12916302 0.5        0.75105548 0.38671926 0.40595228] gave 54.33036895453098\n"
     ]
    },
    {
     "name": "stdout",
     "output_type": "stream",
     "text": [
      "9\n"
     ]
    },
    {
     "name": "stderr",
     "output_type": "stream",
     "text": [
      "Info: Params [2.37052634 0.5072864  0.81951232 0.37170183 0.41250159] gave -121.53003960557268\n"
     ]
    },
    {
     "name": "stdout",
     "output_type": "stream",
     "text": [
      "9\n"
     ]
    },
    {
     "name": "stderr",
     "output_type": "stream",
     "text": [
      "Info: Params [2.08575243 0.5        1.15948291 0.38313379 0.22625015] gave -51.79506270511264\n"
     ]
    },
    {
     "name": "stdout",
     "output_type": "stream",
     "text": [
      "9\n"
     ]
    },
    {
     "name": "stderr",
     "output_type": "stream",
     "text": [
      "Info: Params [2.70776687 0.5        0.91597583 0.39581989 0.39131462] gave -162.58649415670817\n"
     ]
    },
    {
     "name": "stdout",
     "output_type": "stream",
     "text": [
      "10\n"
     ]
    },
    {
     "name": "stderr",
     "output_type": "stream",
     "text": [
      "Info: Params [3.25430075 0.56793145 0.61896042 0.28031622 0.36345042] gave -527.7981242568151\n"
     ]
    },
    {
     "name": "stdout",
     "output_type": "stream",
     "text": [
      "10\n"
     ]
    },
    {
     "name": "stderr",
     "output_type": "stream",
     "text": [
      "Info: Params [2.03973552 0.57879169 0.63703446 0.26476872 0.3638235 ] gave -185.19240732555392\n"
     ]
    },
    {
     "name": "stdout",
     "output_type": "stream",
     "text": [
      "10\n"
     ]
    },
    {
     "name": "stderr",
     "output_type": "stream",
     "text": [
      "Info: Params [1.28919998 0.5        0.59049487 0.28407679 0.37520766] gave -24.25856018857273\n"
     ]
    },
    {
     "name": "stdout",
     "output_type": "stream",
     "text": [
      "10\n"
     ]
    },
    {
     "name": "stderr",
     "output_type": "stream",
     "text": [
      "Info: Params [2.31501415 0.58016041 0.75762838 0.26876826 0.3466662 ] gave -216.09185294825198\n"
     ]
    },
    {
     "name": "stdout",
     "output_type": "stream",
     "text": [
      "10\n"
     ]
    },
    {
     "name": "stderr",
     "output_type": "stream",
     "text": [
      "Info: Params [2.46130022 0.58991283 0.94228019 0.26117592 0.31796487] gave -213.97789301766787\n"
     ]
    },
    {
     "name": "stdout",
     "output_type": "stream",
     "text": [
      "10\n"
     ]
    },
    {
     "name": "stderr",
     "output_type": "stream",
     "text": [
      "Info: Params [2.68620346 0.58127689 0.84418767 0.27874803 0.33141591] gave -290.9608594661374\n"
     ]
    },
    {
     "name": "stdout",
     "output_type": "stream",
     "text": [
      "11\n"
     ]
    },
    {
     "name": "stderr",
     "output_type": "stream",
     "text": [
      "Info: Params [3.79017419 0.53257423 0.6554437  0.33656751 0.36196604] gave -623.2126195915122\n"
     ]
    },
    {
     "name": "stdout",
     "output_type": "stream",
     "text": [
      "11\n"
     ]
    },
    {
     "name": "stderr",
     "output_type": "stream",
     "text": [
      "Info: Params [1.78034924 0.5        0.55728881 0.34251036 0.39344174] gave -206.09322501688868\n"
     ]
    },
    {
     "name": "stdout",
     "output_type": "stream",
     "text": [
      "11\n"
     ]
    },
    {
     "name": "stderr",
     "output_type": "stream",
     "text": [
      "Info: Params [1.11224001 0.5        0.61142973 0.32818365 0.37497922] gave -15.10908113864858\n"
     ]
    },
    {
     "name": "stdout",
     "output_type": "stream",
     "text": [
      "11\n"
     ]
    },
    {
     "name": "stderr",
     "output_type": "stream",
     "text": [
      "Info: Params [2.01414818 0.52258819 0.77864243 0.33572155 0.33326841] gave -154.80912379189334\n"
     ]
    },
    {
     "name": "stdout",
     "output_type": "stream",
     "text": [
      "11\n"
     ]
    },
    {
     "name": "stderr",
     "output_type": "stream",
     "text": [
      "Info: Params [2.4398562  0.51851634 0.73949077 0.33260666 0.38735385] gave -279.9469019476252\n"
     ]
    },
    {
     "name": "stdout",
     "output_type": "stream",
     "text": [
      "11\n"
     ]
    },
    {
     "name": "stderr",
     "output_type": "stream",
     "text": [
      "Info: Params [2.3870741  0.52823416 0.71661912 0.34257046 0.37940519] gave -277.8345091790112\n"
     ]
    },
    {
     "name": "stdout",
     "output_type": "stream",
     "text": [
      "12\n"
     ]
    },
    {
     "name": "stderr",
     "output_type": "stream",
     "text": [
      "Info: Params [2.3596484  0.81920374 0.75867592 0.19054545 0.30839567] gave -156.07967078891673\n"
     ]
    },
    {
     "name": "stdout",
     "output_type": "stream",
     "text": [
      "12\n"
     ]
    },
    {
     "name": "stderr",
     "output_type": "stream",
     "text": [
      "Info: Params [1.32462623 0.52687095 0.72248874 0.31120398 0.34774259] gave 65.1190011932602\n"
     ]
    },
    {
     "name": "stdout",
     "output_type": "stream",
     "text": [
      "12\n"
     ]
    },
    {
     "name": "stderr",
     "output_type": "stream",
     "text": [
      "Info: Params [0.69190367 0.53675595 0.72439127 0.27747119 0.31796551] gave 248.8649332928572\n"
     ]
    },
    {
     "name": "stdout",
     "output_type": "stream",
     "text": [
      "12\n"
     ]
    },
    {
     "name": "stderr",
     "output_type": "stream",
     "text": [
      "Info: Params [1.47817887 0.81138653 0.754692   0.17007721 0.31023148] gave 177.29146315756566\n"
     ]
    },
    {
     "name": "stdout",
     "output_type": "stream",
     "text": [
      "12\n"
     ]
    },
    {
     "name": "stderr",
     "output_type": "stream",
     "text": [
      "Info: Params [1.63702405 0.52920004 0.81617013 0.32693296 0.32455385] gave 97.09963807554007\n"
     ]
    },
    {
     "name": "stdout",
     "output_type": "stream",
     "text": [
      "12\n"
     ]
    },
    {
     "name": "stderr",
     "output_type": "stream",
     "text": [
      "Info: Params [1.5411274  0.69777924 0.8951096  0.24282967 0.25393645] gave 141.6143481233205\n"
     ]
    },
    {
     "name": "stdout",
     "output_type": "stream",
     "text": [
      "13\n"
     ]
    },
    {
     "name": "stderr",
     "output_type": "stream",
     "text": [
      "Info: Params [1.93923468 0.59267245 0.81294752 0.30190272 0.34207895] gave -76.34808657611964\n"
     ]
    },
    {
     "name": "stdout",
     "output_type": "stream",
     "text": [
      "13\n"
     ]
    },
    {
     "name": "stderr",
     "output_type": "stream",
     "text": [
      "Info: Params [1.54865709 0.54875315 0.76644798 0.33115131 0.39054491] gave 25.7291760903938\n"
     ]
    },
    {
     "name": "stdout",
     "output_type": "stream",
     "text": [
      "13\n"
     ]
    },
    {
     "name": "stderr",
     "output_type": "stream",
     "text": [
      "Info: Params [0.69687321 0.53486825 0.76877271 0.33922581 0.34562163] gave 276.50834549239363\n"
     ]
    },
    {
     "name": "stdout",
     "output_type": "stream",
     "text": [
      "13\n"
     ]
    },
    {
     "name": "stderr",
     "output_type": "stream",
     "text": [
      "Info: Params [1.49189915 0.57474388 0.84756333 0.32168443 0.36729903] gave 96.58756918854743\n"
     ]
    },
    {
     "name": "stdout",
     "output_type": "stream",
     "text": [
      "13\n"
     ]
    },
    {
     "name": "stderr",
     "output_type": "stream",
     "text": [
      "Info: Params [1.65337283 0.59973157 0.85457236 0.327359   0.38671153] gave 50.50252257663659\n"
     ]
    },
    {
     "name": "stdout",
     "output_type": "stream",
     "text": [
      "13\n"
     ]
    },
    {
     "name": "stderr",
     "output_type": "stream",
     "text": [
      "Info: Params [1.55261315 0.63274205 0.78896377 0.30652262 0.36227875] gave 86.68409298552876\n"
     ]
    },
    {
     "name": "stdout",
     "output_type": "stream",
     "text": [
      "14\n"
     ]
    },
    {
     "name": "stderr",
     "output_type": "stream",
     "text": [
      "Info: Params [2.83367699 0.65982502 0.86195206 0.27286044 0.34348492] gave -306.3271772593328\n"
     ]
    },
    {
     "name": "stdout",
     "output_type": "stream",
     "text": [
      "14\n"
     ]
    },
    {
     "name": "stderr",
     "output_type": "stream",
     "text": [
      "Info: Params [1.78639217 0.56043392 0.86317417 0.31880475 0.36857423] gave -15.983332225774873\n"
     ]
    },
    {
     "name": "stdout",
     "output_type": "stream",
     "text": [
      "14\n"
     ]
    },
    {
     "name": "stderr",
     "output_type": "stream",
     "text": [
      "Info: Params [1.19247228 0.51040268 0.89956992 0.34805415 0.32987941] gave 175.24406555415615\n"
     ]
    },
    {
     "name": "stdout",
     "output_type": "stream",
     "text": [
      "14\n"
     ]
    },
    {
     "name": "stderr",
     "output_type": "stream",
     "text": [
      "Info: Params [2.17796258 0.61121463 0.92842241 0.36123978 0.43875202] gave -116.81508939909\n"
     ]
    },
    {
     "name": "stdout",
     "output_type": "stream",
     "text": [
      "14\n"
     ]
    },
    {
     "name": "stderr",
     "output_type": "stream",
     "text": [
      "Info: Params [1.58275594 0.64596738 1.52224482 0.29444511 0.12169913] gave 221.00762651967554\n"
     ]
    },
    {
     "name": "stdout",
     "output_type": "stream",
     "text": [
      "14\n"
     ]
    },
    {
     "name": "stderr",
     "output_type": "stream",
     "text": [
      "Info: Params [1.74728934 0.57806877 1.09151317 0.33755042 0.38535987] gave 47.303155279466516\n"
     ]
    },
    {
     "name": "stdout",
     "output_type": "stream",
     "text": [
      "15\n"
     ]
    },
    {
     "name": "stderr",
     "output_type": "stream",
     "text": [
      "Info: Params [2.40814749 0.568382   1.01677528 0.32728639 0.34302096] gave -189.28991680278193\n"
     ]
    },
    {
     "name": "stdout",
     "output_type": "stream",
     "text": [
      "15\n"
     ]
    },
    {
     "name": "stderr",
     "output_type": "stream",
     "text": [
      "Info: Params [1.86455039 0.63747766 0.90958558 0.29662415 0.4060025 ] gave 1.5661892513257634\n"
     ]
    },
    {
     "name": "stdout",
     "output_type": "stream",
     "text": [
      "15\n"
     ]
    },
    {
     "name": "stderr",
     "output_type": "stream",
     "text": [
      "Info: Params [1.03492023 0.51037973 0.8044043  0.32704994 0.44072281] gave 195.56036546428473\n"
     ]
    },
    {
     "name": "stdout",
     "output_type": "stream",
     "text": [
      "15\n"
     ]
    },
    {
     "name": "stderr",
     "output_type": "stream",
     "text": [
      "Info: Params [2.08562107 0.54513868 0.97214161 0.34348983 0.43308936] gave -105.37101257889242\n"
     ]
    },
    {
     "name": "stdout",
     "output_type": "stream",
     "text": [
      "15\n"
     ]
    },
    {
     "name": "stderr",
     "output_type": "stream",
     "text": [
      "Info: Params [1.78103864 0.60702236 1.02834649 0.30705256 0.38106033] gave 40.03460482945928\n"
     ]
    },
    {
     "name": "stdout",
     "output_type": "stream",
     "text": [
      "15\n"
     ]
    },
    {
     "name": "stderr",
     "output_type": "stream",
     "text": [
      "Info: Params [2.07012942 0.5763357  0.83938253 0.33427879 0.44593172] gave -115.00578108494457\n"
     ]
    },
    {
     "name": "stdout",
     "output_type": "stream",
     "text": [
      "16\n"
     ]
    },
    {
     "name": "stderr",
     "output_type": "stream",
     "text": [
      "Info: Params [1.94762217 0.59854281 0.66897064 0.25680873 0.39598611] gave -116.50425460880132\n"
     ]
    },
    {
     "name": "stdout",
     "output_type": "stream",
     "text": [
      "16\n"
     ]
    },
    {
     "name": "stderr",
     "output_type": "stream",
     "text": [
      "Info: Params [1.46735622 0.65653322 0.74530112 0.22599155 0.4138666 ] gave 121.98461725695319\n"
     ]
    },
    {
     "name": "stdout",
     "output_type": "stream",
     "text": [
      "16\n"
     ]
    },
    {
     "name": "stderr",
     "output_type": "stream",
     "text": [
      "Info: Params [0.98765575 0.63114052 0.79663285 0.22569631 0.37738984] gave 300.9428451033687\n"
     ]
    },
    {
     "name": "stdout",
     "output_type": "stream",
     "text": [
      "16\n"
     ]
    },
    {
     "name": "stderr",
     "output_type": "stream",
     "text": [
      "Info: Params [1.49396276 0.67577237 0.78828227 0.21375422 0.40418247] gave 118.5869217202916\n"
     ]
    },
    {
     "name": "stdout",
     "output_type": "stream",
     "text": [
      "16\n"
     ]
    },
    {
     "name": "stderr",
     "output_type": "stream",
     "text": [
      "Info: Params [1.31823399 0.64271614 0.8143351  0.22859036 0.38799875] gave 195.56801075697754\n"
     ]
    },
    {
     "name": "stdout",
     "output_type": "stream",
     "text": [
      "16\n"
     ]
    },
    {
     "name": "stderr",
     "output_type": "stream",
     "text": [
      "Info: Params [1.37697744 0.74614047 0.72540678 0.19163434 0.39349694] gave 178.5695676446075\n"
     ]
    },
    {
     "name": "stdout",
     "output_type": "stream",
     "text": [
      "17\n"
     ]
    },
    {
     "name": "stderr",
     "output_type": "stream",
     "text": [
      "Info: Params [3.10113817 0.62218142 1.10616603 0.32170887 0.34516305] gave -329.1026981260191\n"
     ]
    },
    {
     "name": "stdout",
     "output_type": "stream",
     "text": [
      "17\n"
     ]
    },
    {
     "name": "stderr",
     "output_type": "stream",
     "text": [
      "Info: Params [2.50103694 0.71127231 0.9593779  0.3019139  0.39590323] gave -181.44331730873904\n"
     ]
    },
    {
     "name": "stdout",
     "output_type": "stream",
     "text": [
      "17\n"
     ]
    },
    {
     "name": "stderr",
     "output_type": "stream",
     "text": [
      "Info: Params [1.67477431 0.5747774  0.73968714 0.32484207 0.45290824] gave 2.5262356279887968\n"
     ]
    },
    {
     "name": "stdout",
     "output_type": "stream",
     "text": [
      "17\n"
     ]
    },
    {
     "name": "stderr",
     "output_type": "stream",
     "text": [
      "Info: Params [2.40184442 0.7524195  0.97977086 0.29042956 0.41898578] gave -127.29333160436394\n"
     ]
    },
    {
     "name": "stdout",
     "output_type": "stream",
     "text": [
      "17\n"
     ]
    },
    {
     "name": "stderr",
     "output_type": "stream",
     "text": [
      "Info: Params [2.35670643 0.68669617 0.96237368 0.32884069 0.40328314] gave -136.26386879499853\n"
     ]
    },
    {
     "name": "stdout",
     "output_type": "stream",
     "text": [
      "17\n"
     ]
    },
    {
     "name": "stderr",
     "output_type": "stream",
     "text": [
      "Info: Params [2.36082369 0.88373527 1.33161753 0.24674026 0.27997496] gave -12.45038551029607\n"
     ]
    },
    {
     "name": "stdout",
     "output_type": "stream",
     "text": [
      "           2    2    2    2    2    2    4    4    4    4   ...   17   17  \\\n",
      "Accuracy  1.0  1.0  1.0  1.0  1.0  1.0  1.0  1.0  1.0  1.0  ...  1.0  1.0   \n",
      "Speed     1.0  1.0  1.0  1.0  1.0  1.0  1.0  1.0  1.0  1.0  ...  1.0  1.0   \n",
      "\n",
      "           17   17   18   18   18   18   18   18  \n",
      "Accuracy  1.0  1.0  1.0  1.0  1.0  1.0  1.0  1.0  \n",
      "Speed     1.0  1.0  1.0  1.0  1.0  1.0  1.0  1.0  \n",
      "\n",
      "[2 rows x 96 columns]\n"
     ]
    }
   ],
   "source": [
    "path = \"/Users/wangjiashun/Desktop/Research_on_SAT/datasets/transformed/Wagenmakers2008/SpeedAccData_new.csv\"\n",
    "participants = [1,  3,  4,  5,  6,  7,  8,  9, 10, 11, 12, 13, 14, 15, 16, 17]\n",
    "\n",
    "\n",
    "df_all = pd.DataFrame()\n",
    "valid_ratio_dfs = pd.DataFrame()\n",
    "\n",
    "for i in participants:\n",
    "    for freq in range(1,7):\n",
    "        print(i)\n",
    "        df = pd.read_csv(path, sep = \",\")\n",
    "        df = df[df[\"Participant\"]==i]\n",
    "        df = df[df[\"Frequency\"]==freq]\n",
    "\n",
    "        counts_before = df['Cond'].value_counts()\n",
    "        df = df[df[\"Time\"]<5]\n",
    "        counts_after = df['Cond'].value_counts()\n",
    "        valid_ratio = counts_before/counts_after\n",
    "        valid_ratio_df = valid_ratio.to_frame(i+1)\n",
    "        valid_ratio_dfs = pd.concat((valid_ratio_dfs,valid_ratio_df), axis = 1)\n",
    "\n",
    "        samp = Sample.from_pandas_dataframe(df, rt_column_name=\"Time\", choice_column_name=\"Correct\")\n",
    "        df = get_DDM_result_sub_2a2ter(samp)\n",
    "        df['Frequency'] = freq\n",
    "        df[\"Participant\"]=i\n",
    "        df_all = pd.concat((df_all,df))\n",
    "    \n",
    "df_OUM = df_all.copy()\n",
    "df_OUM.to_csv(\"Parameter Estimates/DDM2a2terresultWagenmakers2008.csv\")\n",
    "print(valid_ratio_dfs)"
   ]
  },
  {
   "cell_type": "code",
   "execution_count": 8,
   "id": "c5baddcf",
   "metadata": {},
   "outputs": [
    {
     "data": {
      "text/plain": [
       "96.0"
      ]
     },
     "execution_count": 8,
     "metadata": {},
     "output_type": "execute_result"
    }
   ],
   "source": [
    "sum(valid_ratio_dfs.loc[\"Accuracy\",:])"
   ]
  },
  {
   "cell_type": "code",
   "execution_count": 18,
   "id": "0e2210bf",
   "metadata": {},
   "outputs": [
    {
     "data": {
      "text/plain": [
       "(3,)"
      ]
     },
     "execution_count": 18,
     "metadata": {},
     "output_type": "execute_result"
    }
   ],
   "source": [
    "np.array((freq,i,len(df))).shape"
   ]
  },
  {
   "cell_type": "code",
   "execution_count": 19,
   "id": "3a2ce78a",
   "metadata": {},
   "outputs": [],
   "source": [
    "path = \"/Users/wangjiashun/Desktop/Research_on_SAT/datasets/transformed/Wagenmakers2008/SpeedAccData_new.csv\"\n",
    "participants = [1,  3,  4,  5,  6,  7,  8,  9, 10, 11, 12, 13, 14, 15, 16, 17]\n",
    "\n",
    "df_all = pd.DataFrame()\n",
    "\n",
    "for i in participants:\n",
    "    for freq in range(1,7):\n",
    "        #print(i)\n",
    "        df = pd.read_csv(path, sep = \",\")\n",
    "        df = df[df[\"Participant\"]==i]\n",
    "        df = df[df[\"Frequency\"]==freq]\n",
    "\n",
    "        \n",
    "        df_result = pd.DataFrame(np.array((freq,i,len(df))).reshape(1,3), columns = [\"Frequency\",\"Participant\",\"N\"])\n",
    "        df_all = pd.concat((df_all,df_result))\n",
    "    \n",
    "df_OUM = df_all.copy()"
   ]
  },
  {
   "cell_type": "code",
   "execution_count": 21,
   "id": "35d0e96d",
   "metadata": {},
   "outputs": [
    {
     "name": "stdout",
     "output_type": "stream",
     "text": [
      "           2    2    2    2    2    2    4    4    4    4   ...   17   17  \\\n",
      "Accuracy  1.0  1.0  1.0  1.0  1.0  1.0  1.0  1.0  1.0  1.0  ...  1.0  1.0   \n",
      "Speed     1.0  1.0  1.0  1.0  1.0  1.0  1.0  1.0  1.0  1.0  ...  1.0  1.0   \n",
      "\n",
      "           17   17   18   18   18   18   18   18  \n",
      "Accuracy  1.0  1.0  1.0  1.0  1.0  1.0  1.0  1.0  \n",
      "Speed     1.0  1.0  1.0  1.0  1.0  1.0  1.0  1.0  \n",
      "\n",
      "[2 rows x 96 columns]\n"
     ]
    }
   ],
   "source": [
    "df_OUM.to_csv(\"Parameter Estimates/n_Wagenmakers2008.csv\")\n",
    "print(valid_ratio_dfs)"
   ]
  },
  {
   "cell_type": "code",
   "execution_count": 20,
   "id": "0211ac9c",
   "metadata": {},
   "outputs": [
    {
     "data": {
      "text/html": [
       "<div>\n",
       "<style scoped>\n",
       "    .dataframe tbody tr th:only-of-type {\n",
       "        vertical-align: middle;\n",
       "    }\n",
       "\n",
       "    .dataframe tbody tr th {\n",
       "        vertical-align: top;\n",
       "    }\n",
       "\n",
       "    .dataframe thead th {\n",
       "        text-align: right;\n",
       "    }\n",
       "</style>\n",
       "<table border=\"1\" class=\"dataframe\">\n",
       "  <thead>\n",
       "    <tr style=\"text-align: right;\">\n",
       "      <th></th>\n",
       "      <th>Frequency</th>\n",
       "      <th>Participant</th>\n",
       "      <th>N</th>\n",
       "    </tr>\n",
       "  </thead>\n",
       "  <tbody>\n",
       "    <tr>\n",
       "      <th>0</th>\n",
       "      <td>1</td>\n",
       "      <td>1</td>\n",
       "      <td>156</td>\n",
       "    </tr>\n",
       "    <tr>\n",
       "      <th>0</th>\n",
       "      <td>2</td>\n",
       "      <td>1</td>\n",
       "      <td>150</td>\n",
       "    </tr>\n",
       "    <tr>\n",
       "      <th>0</th>\n",
       "      <td>3</td>\n",
       "      <td>1</td>\n",
       "      <td>157</td>\n",
       "    </tr>\n",
       "    <tr>\n",
       "      <th>0</th>\n",
       "      <td>4</td>\n",
       "      <td>1</td>\n",
       "      <td>147</td>\n",
       "    </tr>\n",
       "    <tr>\n",
       "      <th>0</th>\n",
       "      <td>5</td>\n",
       "      <td>1</td>\n",
       "      <td>148</td>\n",
       "    </tr>\n",
       "    <tr>\n",
       "      <th>...</th>\n",
       "      <td>...</td>\n",
       "      <td>...</td>\n",
       "      <td>...</td>\n",
       "    </tr>\n",
       "    <tr>\n",
       "      <th>0</th>\n",
       "      <td>2</td>\n",
       "      <td>17</td>\n",
       "      <td>309</td>\n",
       "    </tr>\n",
       "    <tr>\n",
       "      <th>0</th>\n",
       "      <td>3</td>\n",
       "      <td>17</td>\n",
       "      <td>306</td>\n",
       "    </tr>\n",
       "    <tr>\n",
       "      <th>0</th>\n",
       "      <td>4</td>\n",
       "      <td>17</td>\n",
       "      <td>305</td>\n",
       "    </tr>\n",
       "    <tr>\n",
       "      <th>0</th>\n",
       "      <td>5</td>\n",
       "      <td>17</td>\n",
       "      <td>301</td>\n",
       "    </tr>\n",
       "    <tr>\n",
       "      <th>0</th>\n",
       "      <td>6</td>\n",
       "      <td>17</td>\n",
       "      <td>299</td>\n",
       "    </tr>\n",
       "  </tbody>\n",
       "</table>\n",
       "<p>96 rows × 3 columns</p>\n",
       "</div>"
      ],
      "text/plain": [
       "    Frequency  Participant    N\n",
       "0           1            1  156\n",
       "0           2            1  150\n",
       "0           3            1  157\n",
       "0           4            1  147\n",
       "0           5            1  148\n",
       "..        ...          ...  ...\n",
       "0           2           17  309\n",
       "0           3           17  306\n",
       "0           4           17  305\n",
       "0           5           17  301\n",
       "0           6           17  299\n",
       "\n",
       "[96 rows x 3 columns]"
      ]
     },
     "execution_count": 20,
     "metadata": {},
     "output_type": "execute_result"
    }
   ],
   "source": [
    "df_OUM"
   ]
  },
  {
   "cell_type": "code",
   "execution_count": 26,
   "id": "33fb3a49",
   "metadata": {},
   "outputs": [],
   "source": [
    "class DriftConstantFreq(Drift):\n",
    "    name = \"DriftConstantFreq\"\n",
    "    required_parameters = ['V1','V2','V3','V4','V5','V6']\n",
    "    required_conditions = ['Frequency']\n",
    "        \n",
    "    def get_drift(self, x, t, conditions, **kwargs):\n",
    "        #print(conditions['Brightness'])\n",
    "        #print(conditions['Cond'])\n",
    "        if conditions['Frequency'] == 1:\n",
    "            return self.V1\n",
    "        elif conditions['Frequency'] == 2:\n",
    "            return self.V2\n",
    "        elif conditions['Frequency'] == 3:\n",
    "            return self.V3\n",
    "        elif conditions['Frequency'] == 4:\n",
    "            return self.V4\n",
    "        elif conditions['Frequency'] == 5:\n",
    "            return self.V5\n",
    "        elif conditions['Frequency'] == 6:\n",
    "            return self.V6\n",
    "        else:\n",
    "            print(\"Non-implemented conditions\")"
   ]
  },
  {
   "cell_type": "code",
   "execution_count": 27,
   "id": "9dbf1df3",
   "metadata": {},
   "outputs": [],
   "source": [
    "def get_DDM_result_sub_2a2ter(samp, v = [0,6], a = [0.5,6], ter=[0.1,1], dx=.01, dt=.01, T_dur=5):\n",
    "    \n",
    "    model_fit = Model(name='Simple model (fitted)',\n",
    "                      drift=DriftConstantFreq(V1= Fittable(minval=v[0], maxval=v[1]),\n",
    "                                              V2= Fittable(minval=v[0], maxval=v[1]),\n",
    "                                              V3= Fittable(minval=v[0], maxval=v[1]),\n",
    "                                              V4= Fittable(minval=v[0], maxval=v[1]),\n",
    "                                              V5= Fittable(minval=v[0], maxval=v[1]),\n",
    "                                              V6= Fittable(minval=v[0], maxval=v[1])),\n",
    "                      noise=NoiseConstant(noise=1),\n",
    "                      bound=BoundSpeedAcc(\n",
    "                          Bspeed=Fittable(minval=a[0], maxval=a[1]),\n",
    "                          Bacc=Fittable(minval=a[0], maxval=a[1])),\n",
    "                      overlay=NondecisionSpeedAcc(\n",
    "                          tSpeed=Fittable(minval=ter[0], maxval=ter[1]),\n",
    "                          tAcc=Fittable(minval=ter[0], maxval=ter[1]),\n",
    "                      ),dx=.01, dt=dt, T_dur=T_dur)\n",
    "    fit_adjust_model(samp, model_fit,fitting_method=\"differential_evolution\",lossfunction=LossRobustBIC, verbose=False)\n",
    "    df = pd.DataFrame(data = np.array(model_fit.get_model_parameters()).reshape(1,10),\n",
    "                      columns = model_fit.get_model_parameter_names())\n",
    "    \n",
    "    df['BIC'] = model_fit.get_fit_result().value()\n",
    "    df = df.rename(columns={\n",
    "                            'Bspeed': 'Boundary Separation Speed',\n",
    "                            'Bacc': 'Boundary Separation Accuracy',\n",
    "                            'tSpeed': 'Non-decision Time Speed',\n",
    "                            'tAcc': 'Non-decision Time Accuracy'})\n",
    "    return df"
   ]
  },
  {
   "cell_type": "code",
   "execution_count": 28,
   "id": "479b7c13",
   "metadata": {
    "scrolled": true
   },
   "outputs": [
    {
     "name": "stdout",
     "output_type": "stream",
     "text": [
      "1\n"
     ]
    },
    {
     "name": "stderr",
     "output_type": "stream",
     "text": [
      "Info: Params [3.23078744 2.18291334 1.36484104 2.58517276 2.61036899 3.00686441\n",
      " 0.50801026 0.58685118 0.35818298 0.3625324 ] gave -1039.8885066786302\n"
     ]
    },
    {
     "name": "stdout",
     "output_type": "stream",
     "text": [
      "3\n"
     ]
    },
    {
     "name": "stderr",
     "output_type": "stream",
     "text": [
      "Info: Params [2.95496623 2.02664042 1.67418242 2.15825082 2.10669522 2.17807797\n",
      " 0.61678668 0.90636617 0.29818796 0.35725257] gave -264.8806182780405\n"
     ]
    },
    {
     "name": "stdout",
     "output_type": "stream",
     "text": [
      "4\n"
     ]
    },
    {
     "name": "stderr",
     "output_type": "stream",
     "text": [
      "Info: Params [3.91979136 2.89771511 2.01920713 2.86662005 2.78682842 2.73078401\n",
      " 0.5        0.71076103 0.32633904 0.3334726 ] gave -1308.2575725296392\n"
     ]
    },
    {
     "name": "stdout",
     "output_type": "stream",
     "text": [
      "5\n"
     ]
    },
    {
     "name": "stderr",
     "output_type": "stream",
     "text": [
      "Info: Params [4.03878153 2.93338407 2.70421751 3.22589008 2.6371768  2.90188362\n",
      " 0.60831967 0.85616677 0.3014331  0.38593025] gave -1231.419042275484\n"
     ]
    },
    {
     "name": "stdout",
     "output_type": "stream",
     "text": [
      "6\n"
     ]
    },
    {
     "name": "stderr",
     "output_type": "stream",
     "text": [
      "Info: Params [2.56077932 1.65662792 1.08192188 1.57139935 1.51624718 1.79919018\n",
      " 0.63461124 0.67152867 0.18053062 0.36119821] gave -129.9783738201671\n"
     ]
    },
    {
     "name": "stdout",
     "output_type": "stream",
     "text": [
      "7\n"
     ]
    },
    {
     "name": "stderr",
     "output_type": "stream",
     "text": [
      "Info: Params [1.53865845 0.90330481 0.46617938 1.45608802 1.48770391 1.61772391\n",
      " 0.59101998 0.66876318 0.18501237 0.28881798] gave 284.3481218240739\n"
     ]
    },
    {
     "name": "stdout",
     "output_type": "stream",
     "text": [
      "8\n"
     ]
    },
    {
     "name": "stderr",
     "output_type": "stream",
     "text": [
      "Info: Params [1.38499808 0.7193069  0.33447534 0.88122065 1.02268533 0.99933079\n",
      " 0.63009417 1.1415676  0.16253376 0.15202873] gave 1356.7804022944695\n"
     ]
    },
    {
     "name": "stdout",
     "output_type": "stream",
     "text": [
      "9\n"
     ]
    },
    {
     "name": "stderr",
     "output_type": "stream",
     "text": [
      "Info: Params [3.35145849 1.76648026 1.19909383 2.33504218 2.19515544 2.49299642\n",
      " 0.5        0.80948946 0.38434048 0.40078604] gave -581.7509698916497\n"
     ]
    },
    {
     "name": "stdout",
     "output_type": "stream",
     "text": [
      "10\n"
     ]
    },
    {
     "name": "stderr",
     "output_type": "stream",
     "text": [
      "Info: Params [3.25298524 2.14228839 1.43100756 2.25900871 2.19775604 2.45425684\n",
      " 0.54752666 0.73088212 0.27773726 0.3482287 ] gave -1470.0697185876754\n"
     ]
    },
    {
     "name": "stdout",
     "output_type": "stream",
     "text": [
      "11\n"
     ]
    },
    {
     "name": "stderr",
     "output_type": "stream",
     "text": [
      "Info: Params [3.73893748 1.86785692 1.21286499 1.93431028 2.1988892  2.17551595\n",
      " 0.50151422 0.70621084 0.3358141  0.35878766] gave -1536.0007038092745\n"
     ]
    },
    {
     "name": "stdout",
     "output_type": "stream",
     "text": [
      "12\n"
     ]
    },
    {
     "name": "stderr",
     "output_type": "stream",
     "text": [
      "Info: Params [2.38151333 1.2946943  0.73668278 1.48796141 1.49994511 1.48682206\n",
      " 0.64597588 0.79763191 0.25141123 0.29812868] gave 759.6525447951908\n"
     ]
    },
    {
     "name": "stdout",
     "output_type": "stream",
     "text": [
      "13\n"
     ]
    },
    {
     "name": "stderr",
     "output_type": "stream",
     "text": [
      "Info: Params [2.01453363 1.51541937 0.74096239 1.43466112 1.51966769 1.54407821\n",
      " 0.58943149 0.82216518 0.31307799 0.3501084 ] gave 442.39455116326894\n"
     ]
    },
    {
     "name": "stdout",
     "output_type": "stream",
     "text": [
      "14\n"
     ]
    },
    {
     "name": "stderr",
     "output_type": "stream",
     "text": [
      "Info: Params [3.13951048 1.9400351  1.33086304 1.86724107 1.42668245 1.56434755\n",
      " 0.66459144 1.01894572 0.2812768  0.33195696] gave 229.72464842172928\n"
     ]
    },
    {
     "name": "stdout",
     "output_type": "stream",
     "text": [
      "15\n"
     ]
    },
    {
     "name": "stderr",
     "output_type": "stream",
     "text": [
      "Info: Params [2.46018345 1.88951919 1.12688501 1.88960839 1.71326688 2.01354656\n",
      " 0.61024463 0.98919873 0.30729338 0.37926143] gave -104.17182948422533\n"
     ]
    },
    {
     "name": "stdout",
     "output_type": "stream",
     "text": [
      "16\n"
     ]
    },
    {
     "name": "stderr",
     "output_type": "stream",
     "text": [
      "Info: Params [2.03922551 1.4396549  0.99084228 1.44011822 1.27593163 1.40509678\n",
      " 0.67358501 0.77721283 0.21477291 0.38573955] gave 778.2635845821468\n"
     ]
    },
    {
     "name": "stdout",
     "output_type": "stream",
     "text": [
      "17\n"
     ]
    },
    {
     "name": "stderr",
     "output_type": "stream",
     "text": [
      "Info: Params [3.11345921 2.48340438 1.8811883  2.27525372 2.26883471 2.23028461\n",
      " 0.7256003  0.98615209 0.2991944  0.38696452] gave -647.6868996206715\n"
     ]
    },
    {
     "name": "stdout",
     "output_type": "stream",
     "text": [
      "           2    2    2    2    2    2    4    4    4    4   ...   17   17  \\\n",
      "Accuracy  1.0  1.0  1.0  1.0  1.0  1.0  1.0  1.0  1.0  1.0  ...  1.0  1.0   \n",
      "Speed     1.0  1.0  1.0  1.0  1.0  1.0  1.0  1.0  1.0  1.0  ...  1.0  1.0   \n",
      "\n",
      "           17   17   18   18   18   18   18   18  \n",
      "Accuracy  1.0  1.0  1.0  1.0  1.0  1.0  1.0  1.0  \n",
      "Speed     1.0  1.0  1.0  1.0  1.0  1.0  1.0  1.0  \n",
      "\n",
      "[2 rows x 96 columns]\n"
     ]
    }
   ],
   "source": [
    "path = \"/Users/wangjiashun/Desktop/Research_on_SAT/datasets/transformed/Wagenmakers2008/SpeedAccData_new.csv\"\n",
    "participants = [1,  3,  4,  5,  6,  7,  8,  9, 10, 11, 12, 13, 14, 15, 16, 17]\n",
    "\n",
    "\n",
    "df_all = pd.DataFrame()\n",
    "\n",
    "for i in participants:\n",
    "        print(i)\n",
    "        df = pd.read_csv(path, sep = \",\")\n",
    "        df = df[df[\"Participant\"]==i]\n",
    "\n",
    "        df = df[df[\"Time\"]<5]\n",
    "\n",
    "        samp = Sample.from_pandas_dataframe(df, rt_column_name=\"Time\", choice_column_name=\"Correct\")\n",
    "        df = get_DDM_result_sub_2a2ter(samp)\n",
    "        df[\"Participant\"]=i\n",
    "        df_all = pd.concat((df_all,df))\n",
    "    \n",
    "df_OUM = df_all.copy()\n",
    "df_OUM.to_csv(\"Parameter Estimates/DDM2a2terCombinedresultWagenmakers2008.csv\")\n",
    "print(valid_ratio_dfs)"
   ]
  },
  {
   "cell_type": "code",
   "execution_count": null,
   "id": "b58405f3",
   "metadata": {},
   "outputs": [],
   "source": []
  }
 ],
 "metadata": {
  "kernelspec": {
   "display_name": "Python 3 (ipykernel)",
   "language": "python",
   "name": "python3"
  },
  "language_info": {
   "codemirror_mode": {
    "name": "ipython",
    "version": 3
   },
   "file_extension": ".py",
   "mimetype": "text/x-python",
   "name": "python",
   "nbconvert_exporter": "python",
   "pygments_lexer": "ipython3",
   "version": "3.11.4"
  }
 },
 "nbformat": 4,
 "nbformat_minor": 5
}
